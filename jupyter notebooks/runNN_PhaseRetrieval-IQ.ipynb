{
 "cells": [
  {
   "cell_type": "code",
   "execution_count": 1,
   "metadata": {},
   "outputs": [],
   "source": [
    "import matplotlib.pyplot as plt\n",
    "import numpy as np\n",
    "\n",
    "from commpy.modulation import QAMModem\n",
    "\n",
    "from optic.dsp import pulseShape, firFilter, decimate, symbolSync, resample\n",
    "from optic.models import phaseNoise, linFiberCh, KramersKronigRx, photodiode, awgn\n",
    "\n",
    "from optic.tx import simpleWDMTx\n",
    "from optic.core import parameters\n",
    "from optic.equalization import edc, mimoAdaptEqualizer\n",
    "from optic.carrierRecovery import cpr\n",
    "from optic.metrics import fastBERcalc, monteCarloGMI, monteCarloMI, signal_power\n",
    "from optic.plot import pconst\n",
    "\n",
    "import scipy.constants as const\n",
    "from tqdm.notebook import tqdm\n",
    "\n",
    "from tensorflow.keras.layers import Dense, BatchNormalization, Conv1DTranspose, Conv1D, Flatten, Add\n",
    "from tensorflow.keras.models import Sequential\n",
    "from tensorflow.keras.callbacks import EarlyStopping\n",
    "import tensorflow as tf\n",
    "from tensorflow.keras import backend as K"
   ]
  },
  {
   "cell_type": "code",
   "execution_count": 2,
   "metadata": {},
   "outputs": [],
   "source": [
    "figurePath = 'C:/Users/optic/Documents/PIVIC-PIBIC-Comunicacoes-Opticas/resultados/Figuras/Pibic'\n",
    "path_data  = r'C:/Users/optic/Documents/PIVIC-PIBIC-Comunicacoes-Opticas/resultados/Data/Pibic/'\n",
    "path_mlp   = 'C:/Users/optic/Documents/PIVIC-PIBIC-Comunicacoes-Opticas/models/NN_models/' \n",
    "path_conv  = 'C:/Users/optic/Documents/PIVIC-PIBIC-Comunicacoes-Opticas/models/CONV_models/'\n",
    "\n",
    "saveData = True\n",
    "N = 128 # number of input amplitude samples to the NN\n",
    "Interactions = 5"
   ]
  },
  {
   "attachments": {},
   "cell_type": "markdown",
   "metadata": {},
   "source": [
    "## Simulation of a single polarization optical signal transmission"
   ]
  },
  {
   "cell_type": "code",
   "execution_count": null,
   "metadata": {},
   "outputs": [],
   "source": [
    "## Transmitter parameters:\n",
    "paramTx = parameters()\n",
    "paramTx.M = 16                 # order of the modulation format\n",
    "paramTx.Rs = 32e9              # symbol rate [baud]\n",
    "paramTx.SpS = 4                # samples per symbol\n",
    "paramTx.Nbits = 400000         # total number of bits per polarization\n",
    "paramTx.pulse = \"rrc\"          # pulse shaping filter\n",
    "paramTx.Ntaps = 1024           # number of pulse shaping filter coefficients\n",
    "#paramTx.alphaRRC = 0.01       # RRC rolloff\n",
    "paramTx.Pch_dBm = 0            # power of the optical signal [dBm]\n",
    "paramTx.Nch = 1                # number of WDM channels\n",
    "paramTx.Fc = 193.1e12          # central frequency of the optical spectrum\n",
    "paramTx.freqSpac = 37.5e9      # WDM grid spacing\n",
    "\n",
    "## Optical channel parameters:\n",
    "Ltotal = 100     # total link distance [km]\n",
    "alpha = 0        # fiber loss parameter [dB/km]\n",
    "D = 16           # fiber dispersion parameter [ps/nm/km]\n",
    "Fc = paramTx.Fc  # central optical frequency of the WDM spectrum [Hz]\n",
    "\n",
    "## Receiver parameters:\n",
    "\n",
    "# local oscillator (LO)\n",
    "FO = paramTx.Rs/2 + 1e9  # frequency offset\n",
    "lw = 0*200e3       # linewidth\n",
    "ϕ_lo = 0           # initial phase in rad\n",
    "Plo_dBm = 12       # power in dBm\n",
    "\n",
    "# ADC sampling rate\n",
    "paramADC = parameters()\n",
    "paramADC.Rs = paramTx.Rs\n",
    "paramADC.SpS_in = paramTx.SpS\n",
    "paramADC.SpS_out = 4\n",
    "\n",
    "## General simulation parameters:\n",
    "chIndex = 0  # index of the channel to be demodulated\n",
    "plotPSD = True\n",
    "Fs = paramTx.Rs * paramTx.SpS  # simulation sampling rate\n",
    "Ts = 1 / Fs\n",
    "\n",
    "# photodiode parameters\n",
    "paramPD = parameters()\n",
    "paramPD.B  = 1.1*paramTx.Rs\n",
    "paramPD.Fs = Fs"
   ]
  },
  {
   "attachments": {},
   "cell_type": "markdown",
   "metadata": {},
   "source": [
    "## Run BER vs rolloff vs FO for all cases"
   ]
  },
  {
   "cell_type": "code",
   "execution_count": null,
   "metadata": {},
   "outputs": [],
   "source": [
    "Rolloff = np.arange(0.05, 0.95, 0.05)\n",
    "FO_Values = np.arange(0e9, 6e9, 1e9)\n",
    "\n",
    "BER = np.zeros((3, len(Rolloff), len(FO_Values)))\n",
    "SER = np.zeros((3, len(Rolloff), len(FO_Values))) \n",
    "GMI = np.zeros((3, len(Rolloff), len(FO_Values)))\n",
    "MI  = np.zeros((3, len(Rolloff), len(FO_Values)))\n",
    "SNR = np.zeros((3, len(Rolloff), len(FO_Values)))\n",
    "SIR = np.zeros((3, len(Rolloff), len(FO_Values)))\n",
    "\n",
    "for indfile in range(0, Interactions):\n",
    "    for indAlg, alg in enumerate(['KK', 'MLP', 'CONVNET']):\n",
    "        for indFO, FOfreq in enumerate(tqdm(FO_Values)):\n",
    "            for indRolloff, rollOff in enumerate(tqdm(Rolloff)):\n",
    "                \n",
    "                paramTx.alphaRRC = rollOff\n",
    "                FO = paramTx.Rs/2 + FOfreq\n",
    "\n",
    "                # generate optical signal signal\n",
    "                sigTx, symbTx_, paramTx = simpleWDMTx(paramTx)\n",
    "\n",
    "                # simulate linear signal propagation\n",
    "                sigCh = linFiberCh(sigTx, Ltotal, alpha, D, Fc, Fs)\n",
    "\n",
    "                symbTx = symbTx_[:, :, chIndex]\n",
    "                Plo = 10 ** (Plo_dBm / 10) * 1e-3  # power in W\n",
    "\n",
    "                # generate LO field\n",
    "                π = np.pi\n",
    "                t = np.arange(0, len(sigCh))*Ts\n",
    "                ϕ_pn_lo = phaseNoise(lw, len(sigCh), Ts)\n",
    "\n",
    "                sigLO = np.sqrt(Plo) * np.exp(-1j * (2 * π * FO * t + ϕ_lo + ϕ_pn_lo))\n",
    "\n",
    "                # Add LO to the received signal\n",
    "                sigRx = np.sqrt(Plo) + sigCh* np.exp(1j * (2 * π * FO * t + ϕ_lo + ϕ_pn_lo))\n",
    "                sfm   = sigRx.copy()\n",
    "\n",
    "                print('CSPR = %.2f dB'%(10*np.log10(signal_power(sigLO)/signal_power(sigCh))))\n",
    "\n",
    "                # simulate ideal direct-detection optical receiver\n",
    "                Ipd = photodiode(sigRx, paramPD)\n",
    "                Amp = np.sqrt(Ipd.real)\n",
    "                Amp = resample(Amp, paramADC).real\n",
    "\n",
    "                # resampling to ADC sampling rate\n",
    "                sigCh = resample(sigCh, paramADC)\n",
    "                sfm = resample(sfm, paramADC)\n",
    "                newFs = paramADC.SpS_out*paramTx.Rs\n",
    "\n",
    "                sfm = sfm/np.sqrt(signal_power(sfm))\n",
    "\n",
    "                if alg == 'KK':\n",
    "                    # Kramers-Kronig phase-retrieval\n",
    "                    phiTime = KramersKronigRx(Amp, newFs)\n",
    "                    # optical field reconstruction\n",
    "                    sigRx = Amp*np.exp(1j*phiTime)\n",
    "                \n",
    "                elif alg == 'MLP':\n",
    "                    # Mlp phase-retrieval\n",
    "                    model = tf.keras.models.load_model(path_mlp+'testModel_SpS_'+str(paramADC.SpS_out)+'_FO_'+str(FO/10e9)+'GHz_Rolloff_'+str(round(paramTx.alphaRRC, 2)))\n",
    "                    #sigPhase = np.angle(sfm) # get signal phase samples (labels) (L,)\n",
    "                    sigAmp  = np.pad(Amp, (int(N/2), int(N/2)), 'constant') # get signal amplitude samples (L,)\n",
    "                    # create set of input features\n",
    "                    X_input = np.zeros((len(sfm), N)) #(L,N)\n",
    "\n",
    "                    for indPhase in range(len(sfm)):\n",
    "                        X_input[indPhase] = sigAmp[indPhase:N+indPhase]\n",
    "\n",
    "                    sigRx_NN = model.predict(X_input)\n",
    "\n",
    "                    # optical field reconstruction\n",
    "                    sigRx = sigRx_NN[:,0]+1j*sigRx_NN[:,1]\n",
    "\n",
    "                elif alg == 'CONVNET':\n",
    "                    # ConvNet phase-retrieval\n",
    "                    model = tf.keras.models.load_model(path_conv+'testModel_SpS_'+str(paramADC.SpS_out)+'_FO_'+str(FO/10e9)+'GHz_Rolloff_'+str(round(paramTx.alphaRRC, 2)))\n",
    "                    #sigPhase = np.angle(sfm) # get signal phase samples (labels) (L,)\n",
    "                    sigAmp  = np.pad(Amp, (int(N/2), int(N/2)), 'constant') # get signal amplitude samples (L,)\n",
    "\n",
    "                    # create set of input features\n",
    "                    X_input = np.zeros((len(sfm), N)) #(L,N)\n",
    "\n",
    "                    for indPhase in range(len(sfm)):\n",
    "                        X_input[indPhase] = sigAmp[indPhase:N+indPhase]\n",
    "\n",
    "                    sigRx_NN = model.predict(X_input)\n",
    "\n",
    "                    # optical field reconstruction\n",
    "                    sigRx = sigRx_NN[:,0]+1j*sigRx_NN[:,1]\n",
    "                    \n",
    "                # remove DC level\n",
    "                sigRx -= np.mean(sigRx) # np.sqrt(Plo)\n",
    "                \n",
    "                # downshift to baseband\n",
    "                t = np.arange(0, len(sigRx))*(1/newFs)\n",
    "                sigRx *= np.exp(-1j * (2 * π * FO * t))\n",
    "\n",
    "                # Matched filtering\n",
    "                if paramTx.pulse == \"nrz\":\n",
    "                    pulse = pulseShape(\"nrz\", paramADC.SpS_out)\n",
    "                elif paramTx.pulse == \"rrc\":\n",
    "                    pulse = pulseShape(\n",
    "                        \"rrc\", paramADC.SpS_out, N=paramTx.Ntaps, alpha=paramTx.alphaRRC, Ts=1 / paramTx.Rs\n",
    "                    )\n",
    "\n",
    "                pulse = pulse / np.max(np.abs(pulse))\n",
    "                sigRx = firFilter(pulse, sigRx)\n",
    "                sigCh = firFilter(pulse, sigCh)\n",
    "\n",
    "                # correct for (possible) phase ambiguity\n",
    "                rot = np.mean(sigCh/sigRx)\n",
    "                sigRx = rot * sigRx\n",
    "                sigRx = sigRx / np.sqrt(signal_power(sigRx))\n",
    "\n",
    "                intf = sigRx/np.sqrt(signal_power(sigRx))-sigCh/np.sqrt(signal_power(sigCh))\n",
    "\n",
    "                SIR[indAlg, indRolloff, indFO] = 1/signal_power(intf)\n",
    "\n",
    "                # resample to 2 samples/symbol:\n",
    "                paramRes = parameters()\n",
    "                paramRes.Rs = paramTx.Rs\n",
    "                paramRes.SpS_in  = paramADC.SpS_out\n",
    "                paramRes.SpS_out = 2\n",
    "\n",
    "                sigRx = resample(sigRx, paramRes)\n",
    "\n",
    "                # CD compensation\n",
    "                sigRx = edc(sigRx, Ltotal, D, Fc, paramRes.SpS_out*paramTx.Rs)\n",
    "\n",
    "                # Downsampling to 2 sps and re-synchronization with transmitted sequences\n",
    "                sigRx = sigRx.reshape(-1, 1)\n",
    "\n",
    "                symbRx = symbolSync(sigRx, symbTx, 2)\n",
    "\n",
    "                # Power normalization\n",
    "                x = sigRx\n",
    "                d = symbRx\n",
    "\n",
    "                x = x.reshape(len(x), 1) / np.sqrt(signal_power(x))\n",
    "                d = d.reshape(len(d), 1) / np.sqrt(signal_power(d))\n",
    "\n",
    "                # Adaptive equalization          \n",
    "                paramEq = parameters()\n",
    "                paramEq.nTaps = 15\n",
    "                paramEq.SpS = 2\n",
    "                paramEq.mu = [1e-3, 5e-4]\n",
    "                paramEq.numIter = 5\n",
    "                paramEq.storeCoeff = False\n",
    "                paramEq.alg = [\"da-rde\", \"rde\"]\n",
    "                paramEq.M = paramTx.M\n",
    "                paramEq.L = [20000, 80000]\n",
    "                paramEq.prgsBar = False\n",
    "\n",
    "                y_EQ, H, errSq, Hiter = mimoAdaptEqualizer(x, dx=d, paramEq=paramEq)\n",
    "\n",
    "                # Carrier phase recovery\n",
    "                paramCPR = parameters()\n",
    "                paramCPR.alg = \"bps\"\n",
    "                paramCPR.M = paramTx.M\n",
    "                paramCPR.N = 85\n",
    "                paramCPR.B = 64\n",
    "                paramCPR.pilotInd = np.arange(0, len(y_EQ), 20)\n",
    "\n",
    "                y_CPR, θ = cpr(y_EQ, symbTx=d, paramCPR=paramCPR)\n",
    "\n",
    "                y_CPR = y_CPR / np.sqrt(signal_power(y_CPR))\n",
    "\n",
    "                # correct for (possible) phase ambiguity\n",
    "                for k in range(y_CPR.shape[1]):\n",
    "                    rot = np.mean(d[:, k] / y_CPR[:, k])\n",
    "                    y_CPR[:, k] = rot * y_CPR[:, k]\n",
    "\n",
    "                y_CPR = y_CPR / np.sqrt(signal_power(y_CPR))\n",
    "\n",
    "                discard = int(paramEq.L[0]/2)\n",
    "\n",
    "                ind = np.arange(discard, d.shape[0] - discard)\n",
    "                BER[indAlg,indRolloff,indFO], SER[indAlg,indRolloff,indFO], SNR[indAlg,indRolloff,indFO] = fastBERcalc(y_CPR[ind, :], d[ind, :], paramTx.M, 'qam')\n",
    "                GMI[indAlg,indRolloff,indFO], _ = monteCarloGMI(y_CPR[ind, :], d[ind, :],  paramTx.M, 'qam')\n",
    "                MI[indAlg,indRolloff,indFO] = monteCarloMI(y_CPR[ind, :], d[ind, :],  paramTx.M, 'qam')\n",
    "\n",
    "                print(\"Results:\")\n",
    "                print(\"BER: %.2e\" %(BER[indAlg,indRolloff,indFO]))\n",
    "                print(\"SNR: %.2f dB\" %(SNR[indAlg,indRolloff,indFO]))\n",
    "                print('SIR = ', round(10*np.log10(SIR[indAlg,indRolloff,indFO]), 2), ' dB')\n",
    "                print(\"GMI: %.2f bits\\n\" %(GMI[indAlg,indRolloff,indFO]))\n",
    "\n",
    "    if saveData:    \n",
    "        # save the simulation data\n",
    "        np.save(path_data+'BER_SpS_'+str(paramADC.SpS_out)+'_'+str(N)+'_Sample_'+str(indfile), BER)\n",
    "        np.save(path_data+'SNR_SpS_'+str(paramADC.SpS_out)+'_'+str(N)+'_Sample_'+str(indfile), SNR)\n",
    "        np.save(path_data+'SIR_SpS_'+str(paramADC.SpS_out)+'_'+str(N)+'_Sample_'+str(indfile), SIR)"
   ]
  },
  {
   "cell_type": "code",
   "execution_count": 3,
   "metadata": {},
   "outputs": [],
   "source": [
    "## Transmitter parameters:\n",
    "paramTx = parameters()\n",
    "paramTx.M = 16                 # order of the modulation format\n",
    "paramTx.Rs = 32e9              # symbol rate [baud]\n",
    "paramTx.SpS = 4                # samples per symbol\n",
    "paramTx.Nbits = 400000         # total number of bits per polarization\n",
    "paramTx.pulse = \"rrc\"          # pulse shaping filter\n",
    "paramTx.Ntaps = 1024           # number of pulse shaping filter coefficients\n",
    "paramTx.alphaRRC = 0.5         # RRC rolloff\n",
    "paramTx.Pch_dBm = 0            # power of the optical signal [dBm]\n",
    "paramTx.Nch = 1                # number of WDM channels\n",
    "paramTx.Fc = 193.1e12          # central frequency of the optical spectrum\n",
    "paramTx.freqSpac = 37.5e9      # WDM grid spacing\n",
    "\n",
    "## Optical channel parameters:\n",
    "Ltotal = 100     # total link distance [km]\n",
    "alpha = 0        # fiber loss parameter [dB/km]\n",
    "D = 16           # fiber dispersion parameter [ps/nm/km]\n",
    "Fc = paramTx.Fc  # central optical frequency of the WDM spectrum [Hz]\n",
    "\n",
    "## Receiver parameters:\n",
    "\n",
    "# local oscillator (LO)\n",
    "FO = paramTx.Rs/2  # frequency offset\n",
    "lw = 0*200e3       # linewidth\n",
    "ϕ_lo = 0           # initial phase in rad\n",
    "#Plo_dBm = 12      # power in dBm\n",
    "\n",
    "# ADC sampling rate\n",
    "paramADC = parameters()\n",
    "paramADC.Rs = paramTx.Rs\n",
    "paramADC.SpS_in = paramTx.SpS\n",
    "paramADC.SpS_out = 4\n",
    "\n",
    "## General simulation parameters:\n",
    "chIndex = 0  # index of the channel to be demodulated\n",
    "plotPSD = True\n",
    "Fs = paramTx.Rs * paramTx.SpS  # simulation sampling rate\n",
    "Ts = 1 / Fs\n",
    "\n",
    "# photodiode parameters\n",
    "paramPD = parameters()\n",
    "paramPD.B  = 1.1*paramTx.Rs\n",
    "paramPD.Fs = Fs"
   ]
  },
  {
   "cell_type": "markdown",
   "metadata": {},
   "source": [
    "## Run all CSPR variations"
   ]
  },
  {
   "cell_type": "code",
   "execution_count": 4,
   "metadata": {},
   "outputs": [
    {
     "data": {
      "application/vnd.jupyter.widget-view+json": {
       "model_id": "245b5ac5b85d43adb05d492b87c913bb",
       "version_major": 2,
       "version_minor": 0
      },
      "text/plain": [
       "  0%|          | 0/10 [00:00<?, ?it/s]"
      ]
     },
     "metadata": {},
     "output_type": "display_data"
    },
    {
     "data": {
      "application/vnd.jupyter.widget-view+json": {
       "model_id": "54c46bae67a149e38eb3c6a65a715160",
       "version_major": 2,
       "version_minor": 0
      },
      "text/plain": [
       "  0%|          | 0/1 [00:00<?, ?it/s]"
      ]
     },
     "metadata": {},
     "output_type": "display_data"
    },
    {
     "name": "stdout",
     "output_type": "stream",
     "text": [
      "CSPR = 6.00 dB\n",
      "Results:\n",
      "BER: 7.51e-03\n",
      "SNR: 15.08 dB\n",
      "SIR =  11.03  dB\n",
      "GMI: 3.84 bits\n",
      "\n"
     ]
    },
    {
     "data": {
      "application/vnd.jupyter.widget-view+json": {
       "model_id": "470fb6d95bb440068d838fc88ba5d6ad",
       "version_major": 2,
       "version_minor": 0
      },
      "text/plain": [
       "  0%|          | 0/1 [00:00<?, ?it/s]"
      ]
     },
     "metadata": {},
     "output_type": "display_data"
    },
    {
     "name": "stdout",
     "output_type": "stream",
     "text": [
      "CSPR = 7.00 dB\n",
      "Results:\n",
      "BER: 3.13e-03\n",
      "SNR: 16.29 dB\n",
      "SIR =  11.55  dB\n",
      "GMI: 3.93 bits\n",
      "\n"
     ]
    },
    {
     "data": {
      "application/vnd.jupyter.widget-view+json": {
       "model_id": "87c45067cd6f4775808fe93c1cad29fb",
       "version_major": 2,
       "version_minor": 0
      },
      "text/plain": [
       "  0%|          | 0/1 [00:00<?, ?it/s]"
      ]
     },
     "metadata": {},
     "output_type": "display_data"
    },
    {
     "name": "stdout",
     "output_type": "stream",
     "text": [
      "CSPR = 8.00 dB\n",
      "Results:\n",
      "BER: 1.50e-03\n",
      "SNR: 17.15 dB\n",
      "SIR =  11.79  dB\n",
      "GMI: 3.97 bits\n",
      "\n"
     ]
    },
    {
     "data": {
      "application/vnd.jupyter.widget-view+json": {
       "model_id": "2a556077f62741d2b2602b04b65e1254",
       "version_major": 2,
       "version_minor": 0
      },
      "text/plain": [
       "  0%|          | 0/1 [00:00<?, ?it/s]"
      ]
     },
     "metadata": {},
     "output_type": "display_data"
    },
    {
     "name": "stdout",
     "output_type": "stream",
     "text": [
      "CSPR = 9.00 dB\n",
      "Results:\n",
      "BER: 5.34e-04\n",
      "SNR: 18.08 dB\n",
      "SIR =  12.01  dB\n",
      "GMI: 3.99 bits\n",
      "\n"
     ]
    },
    {
     "data": {
      "application/vnd.jupyter.widget-view+json": {
       "model_id": "4520d5bdfc104588a43331f426b08061",
       "version_major": 2,
       "version_minor": 0
      },
      "text/plain": [
       "  0%|          | 0/1 [00:00<?, ?it/s]"
      ]
     },
     "metadata": {},
     "output_type": "display_data"
    },
    {
     "name": "stdout",
     "output_type": "stream",
     "text": [
      "CSPR = 10.00 dB\n",
      "Results:\n",
      "BER: 2.19e-04\n",
      "SNR: 18.83 dB\n",
      "SIR =  12.26  dB\n",
      "GMI: 4.00 bits\n",
      "\n"
     ]
    },
    {
     "data": {
      "application/vnd.jupyter.widget-view+json": {
       "model_id": "f16ab307fdab4a9f86806bc4128dfda0",
       "version_major": 2,
       "version_minor": 0
      },
      "text/plain": [
       "  0%|          | 0/1 [00:00<?, ?it/s]"
      ]
     },
     "metadata": {},
     "output_type": "display_data"
    },
    {
     "name": "stdout",
     "output_type": "stream",
     "text": [
      "CSPR = 11.00 dB\n",
      "Results:\n",
      "BER: 5.00e-05\n",
      "SNR: 19.46 dB\n",
      "SIR =  12.38  dB\n",
      "GMI: 4.00 bits\n",
      "\n"
     ]
    },
    {
     "data": {
      "application/vnd.jupyter.widget-view+json": {
       "model_id": "0218dcaf01bd42ffbb2e9e51d1cb3548",
       "version_major": 2,
       "version_minor": 0
      },
      "text/plain": [
       "  0%|          | 0/1 [00:00<?, ?it/s]"
      ]
     },
     "metadata": {},
     "output_type": "display_data"
    },
    {
     "name": "stdout",
     "output_type": "stream",
     "text": [
      "CSPR = 12.00 dB\n",
      "Results:\n",
      "BER: 2.50e-05\n",
      "SNR: 19.96 dB\n",
      "SIR =  12.48  dB\n",
      "GMI: 4.00 bits\n",
      "\n"
     ]
    },
    {
     "data": {
      "application/vnd.jupyter.widget-view+json": {
       "model_id": "6ad83931e96b452c9bb7c7f7912c8f6c",
       "version_major": 2,
       "version_minor": 0
      },
      "text/plain": [
       "  0%|          | 0/1 [00:00<?, ?it/s]"
      ]
     },
     "metadata": {},
     "output_type": "display_data"
    },
    {
     "name": "stdout",
     "output_type": "stream",
     "text": [
      "CSPR = 13.00 dB\n",
      "Results:\n",
      "BER: 1.56e-05\n",
      "SNR: 20.47 dB\n",
      "SIR =  12.55  dB\n",
      "GMI: 4.00 bits\n",
      "\n"
     ]
    },
    {
     "data": {
      "application/vnd.jupyter.widget-view+json": {
       "model_id": "cf5b39a15b3e4e08b397a63a680845b7",
       "version_major": 2,
       "version_minor": 0
      },
      "text/plain": [
       "  0%|          | 0/1 [00:00<?, ?it/s]"
      ]
     },
     "metadata": {},
     "output_type": "display_data"
    },
    {
     "name": "stdout",
     "output_type": "stream",
     "text": [
      "CSPR = 14.00 dB\n",
      "Results:\n",
      "BER: 0.00e+00\n",
      "SNR: 20.92 dB\n",
      "SIR =  12.72  dB\n",
      "GMI: 4.00 bits\n",
      "\n"
     ]
    },
    {
     "data": {
      "application/vnd.jupyter.widget-view+json": {
       "model_id": "5da6fbd41f89482a8a6adb4180c5d3fb",
       "version_major": 2,
       "version_minor": 0
      },
      "text/plain": [
       "  0%|          | 0/1 [00:00<?, ?it/s]"
      ]
     },
     "metadata": {},
     "output_type": "display_data"
    },
    {
     "name": "stdout",
     "output_type": "stream",
     "text": [
      "CSPR = 15.00 dB\n",
      "Results:\n",
      "BER: 3.13e-06\n",
      "SNR: 21.28 dB\n",
      "SIR =  12.67  dB\n",
      "GMI: 4.00 bits\n",
      "\n"
     ]
    },
    {
     "data": {
      "application/vnd.jupyter.widget-view+json": {
       "model_id": "ae50194550114d83be1e94715d96cf68",
       "version_major": 2,
       "version_minor": 0
      },
      "text/plain": [
       "  0%|          | 0/10 [00:00<?, ?it/s]"
      ]
     },
     "metadata": {},
     "output_type": "display_data"
    },
    {
     "data": {
      "application/vnd.jupyter.widget-view+json": {
       "model_id": "4d90780aec154a27aaeb7bd88df445c6",
       "version_major": 2,
       "version_minor": 0
      },
      "text/plain": [
       "  0%|          | 0/1 [00:00<?, ?it/s]"
      ]
     },
     "metadata": {},
     "output_type": "display_data"
    },
    {
     "name": "stdout",
     "output_type": "stream",
     "text": [
      "CSPR = 6.00 dB\n",
      "Results:\n",
      "BER: 0.00e+00\n",
      "SNR: 43.83 dB\n",
      "SIR =  7.66  dB\n",
      "GMI: 4.00 bits\n",
      "\n"
     ]
    },
    {
     "data": {
      "application/vnd.jupyter.widget-view+json": {
       "model_id": "7456fc95705f4d108ef40a516eb3cfc4",
       "version_major": 2,
       "version_minor": 0
      },
      "text/plain": [
       "  0%|          | 0/1 [00:00<?, ?it/s]"
      ]
     },
     "metadata": {},
     "output_type": "display_data"
    },
    {
     "name": "stdout",
     "output_type": "stream",
     "text": [
      "CSPR = 7.00 dB\n",
      "Results:\n",
      "BER: 0.00e+00\n",
      "SNR: 44.31 dB\n",
      "SIR =  7.65  dB\n",
      "GMI: 4.00 bits\n",
      "\n"
     ]
    },
    {
     "data": {
      "application/vnd.jupyter.widget-view+json": {
       "model_id": "2964620286a04bc681d2714a82b30442",
       "version_major": 2,
       "version_minor": 0
      },
      "text/plain": [
       "  0%|          | 0/1 [00:00<?, ?it/s]"
      ]
     },
     "metadata": {},
     "output_type": "display_data"
    },
    {
     "name": "stdout",
     "output_type": "stream",
     "text": [
      "CSPR = 8.00 dB\n",
      "Results:\n",
      "BER: 0.00e+00\n",
      "SNR: 44.20 dB\n",
      "SIR =  7.65  dB\n",
      "GMI: 4.00 bits\n",
      "\n"
     ]
    },
    {
     "data": {
      "application/vnd.jupyter.widget-view+json": {
       "model_id": "851747f7c4074df795589f32e5d45004",
       "version_major": 2,
       "version_minor": 0
      },
      "text/plain": [
       "  0%|          | 0/1 [00:00<?, ?it/s]"
      ]
     },
     "metadata": {},
     "output_type": "display_data"
    },
    {
     "name": "stdout",
     "output_type": "stream",
     "text": [
      "CSPR = 9.00 dB\n",
      "Results:\n",
      "BER: 0.00e+00\n",
      "SNR: 44.32 dB\n",
      "SIR =  7.65  dB\n",
      "GMI: 4.00 bits\n",
      "\n"
     ]
    },
    {
     "data": {
      "application/vnd.jupyter.widget-view+json": {
       "model_id": "68671a8e69a544ecaa684963a6e42030",
       "version_major": 2,
       "version_minor": 0
      },
      "text/plain": [
       "  0%|          | 0/1 [00:00<?, ?it/s]"
      ]
     },
     "metadata": {},
     "output_type": "display_data"
    },
    {
     "name": "stdout",
     "output_type": "stream",
     "text": [
      "CSPR = 10.00 dB\n",
      "Results:\n",
      "BER: 0.00e+00\n",
      "SNR: 44.09 dB\n",
      "SIR =  7.65  dB\n",
      "GMI: 4.00 bits\n",
      "\n"
     ]
    },
    {
     "data": {
      "application/vnd.jupyter.widget-view+json": {
       "model_id": "9c50a30a20a74d2586a82e23ef524b4b",
       "version_major": 2,
       "version_minor": 0
      },
      "text/plain": [
       "  0%|          | 0/1 [00:00<?, ?it/s]"
      ]
     },
     "metadata": {},
     "output_type": "display_data"
    },
    {
     "name": "stdout",
     "output_type": "stream",
     "text": [
      "CSPR = 11.00 dB\n",
      "Results:\n",
      "BER: 0.00e+00\n",
      "SNR: 44.31 dB\n",
      "SIR =  7.66  dB\n",
      "GMI: 4.00 bits\n",
      "\n"
     ]
    },
    {
     "data": {
      "application/vnd.jupyter.widget-view+json": {
       "model_id": "bee110e048f0463ab2bf55743d12635f",
       "version_major": 2,
       "version_minor": 0
      },
      "text/plain": [
       "  0%|          | 0/1 [00:00<?, ?it/s]"
      ]
     },
     "metadata": {},
     "output_type": "display_data"
    },
    {
     "name": "stdout",
     "output_type": "stream",
     "text": [
      "CSPR = 12.00 dB\n",
      "Results:\n",
      "BER: 0.00e+00\n",
      "SNR: 43.83 dB\n",
      "SIR =  7.66  dB\n",
      "GMI: 4.00 bits\n",
      "\n"
     ]
    },
    {
     "data": {
      "application/vnd.jupyter.widget-view+json": {
       "model_id": "dbb5cce7e9d84d05ab1bc0a1470108d9",
       "version_major": 2,
       "version_minor": 0
      },
      "text/plain": [
       "  0%|          | 0/1 [00:00<?, ?it/s]"
      ]
     },
     "metadata": {},
     "output_type": "display_data"
    },
    {
     "name": "stdout",
     "output_type": "stream",
     "text": [
      "CSPR = 13.00 dB\n",
      "Results:\n",
      "BER: 0.00e+00\n",
      "SNR: 44.10 dB\n",
      "SIR =  7.64  dB\n",
      "GMI: 4.00 bits\n",
      "\n"
     ]
    },
    {
     "data": {
      "application/vnd.jupyter.widget-view+json": {
       "model_id": "0eb96de6ff854e789973ec353a22eb2b",
       "version_major": 2,
       "version_minor": 0
      },
      "text/plain": [
       "  0%|          | 0/1 [00:00<?, ?it/s]"
      ]
     },
     "metadata": {},
     "output_type": "display_data"
    },
    {
     "name": "stdout",
     "output_type": "stream",
     "text": [
      "CSPR = 14.00 dB\n",
      "Results:\n",
      "BER: 0.00e+00\n",
      "SNR: 44.21 dB\n",
      "SIR =  7.66  dB\n",
      "GMI: 4.00 bits\n",
      "\n"
     ]
    },
    {
     "data": {
      "application/vnd.jupyter.widget-view+json": {
       "model_id": "28b5543ce1dd4c49b1b0a5130a2794df",
       "version_major": 2,
       "version_minor": 0
      },
      "text/plain": [
       "  0%|          | 0/1 [00:00<?, ?it/s]"
      ]
     },
     "metadata": {},
     "output_type": "display_data"
    },
    {
     "name": "stdout",
     "output_type": "stream",
     "text": [
      "CSPR = 15.00 dB\n",
      "Results:\n",
      "BER: 0.00e+00\n",
      "SNR: 44.30 dB\n",
      "SIR =  7.64  dB\n",
      "GMI: 4.00 bits\n",
      "\n"
     ]
    },
    {
     "data": {
      "application/vnd.jupyter.widget-view+json": {
       "model_id": "b6ae5261139c446fbf39748e1f88e6ac",
       "version_major": 2,
       "version_minor": 0
      },
      "text/plain": [
       "  0%|          | 0/10 [00:00<?, ?it/s]"
      ]
     },
     "metadata": {},
     "output_type": "display_data"
    },
    {
     "data": {
      "application/vnd.jupyter.widget-view+json": {
       "model_id": "d31ff446b60542fab51f88f957ab2e42",
       "version_major": 2,
       "version_minor": 0
      },
      "text/plain": [
       "  0%|          | 0/1 [00:00<?, ?it/s]"
      ]
     },
     "metadata": {},
     "output_type": "display_data"
    },
    {
     "name": "stdout",
     "output_type": "stream",
     "text": [
      "CSPR = 6.00 dB\n",
      "Results:\n",
      "BER: 0.00e+00\n",
      "SNR: 44.21 dB\n",
      "SIR =  7.65  dB\n",
      "GMI: 4.00 bits\n",
      "\n"
     ]
    },
    {
     "data": {
      "application/vnd.jupyter.widget-view+json": {
       "model_id": "c08a3dc1da2d436b848ac761b4c060d9",
       "version_major": 2,
       "version_minor": 0
      },
      "text/plain": [
       "  0%|          | 0/1 [00:00<?, ?it/s]"
      ]
     },
     "metadata": {},
     "output_type": "display_data"
    },
    {
     "name": "stdout",
     "output_type": "stream",
     "text": [
      "CSPR = 7.00 dB\n",
      "Results:\n",
      "BER: 0.00e+00\n",
      "SNR: 44.29 dB\n",
      "SIR =  7.65  dB\n",
      "GMI: 4.00 bits\n",
      "\n"
     ]
    },
    {
     "data": {
      "application/vnd.jupyter.widget-view+json": {
       "model_id": "4f78094550e84317a2f40c6f0417a579",
       "version_major": 2,
       "version_minor": 0
      },
      "text/plain": [
       "  0%|          | 0/1 [00:00<?, ?it/s]"
      ]
     },
     "metadata": {},
     "output_type": "display_data"
    },
    {
     "name": "stdout",
     "output_type": "stream",
     "text": [
      "CSPR = 8.00 dB\n",
      "Results:\n",
      "BER: 0.00e+00\n",
      "SNR: 44.24 dB\n",
      "SIR =  7.66  dB\n",
      "GMI: 4.00 bits\n",
      "\n"
     ]
    },
    {
     "data": {
      "application/vnd.jupyter.widget-view+json": {
       "model_id": "fdf5ccb9c06d4d46b78d475b404921c1",
       "version_major": 2,
       "version_minor": 0
      },
      "text/plain": [
       "  0%|          | 0/1 [00:00<?, ?it/s]"
      ]
     },
     "metadata": {},
     "output_type": "display_data"
    },
    {
     "name": "stdout",
     "output_type": "stream",
     "text": [
      "CSPR = 9.00 dB\n",
      "Results:\n",
      "BER: 0.00e+00\n",
      "SNR: 44.35 dB\n",
      "SIR =  7.65  dB\n",
      "GMI: 4.00 bits\n",
      "\n"
     ]
    },
    {
     "data": {
      "application/vnd.jupyter.widget-view+json": {
       "model_id": "4a90eb844dcf46dbacb2f00c6817a1f7",
       "version_major": 2,
       "version_minor": 0
      },
      "text/plain": [
       "  0%|          | 0/1 [00:00<?, ?it/s]"
      ]
     },
     "metadata": {},
     "output_type": "display_data"
    },
    {
     "name": "stdout",
     "output_type": "stream",
     "text": [
      "CSPR = 10.00 dB\n",
      "Results:\n",
      "BER: 0.00e+00\n",
      "SNR: 44.30 dB\n",
      "SIR =  7.67  dB\n",
      "GMI: 4.00 bits\n",
      "\n"
     ]
    },
    {
     "data": {
      "application/vnd.jupyter.widget-view+json": {
       "model_id": "3e552e83f035407284856067a4850a3e",
       "version_major": 2,
       "version_minor": 0
      },
      "text/plain": [
       "  0%|          | 0/1 [00:00<?, ?it/s]"
      ]
     },
     "metadata": {},
     "output_type": "display_data"
    },
    {
     "name": "stdout",
     "output_type": "stream",
     "text": [
      "CSPR = 11.00 dB\n",
      "Results:\n",
      "BER: 0.00e+00\n",
      "SNR: 44.07 dB\n",
      "SIR =  7.67  dB\n",
      "GMI: 4.00 bits\n",
      "\n"
     ]
    },
    {
     "data": {
      "application/vnd.jupyter.widget-view+json": {
       "model_id": "9c45164a31de470b860614410ce4afec",
       "version_major": 2,
       "version_minor": 0
      },
      "text/plain": [
       "  0%|          | 0/1 [00:00<?, ?it/s]"
      ]
     },
     "metadata": {},
     "output_type": "display_data"
    },
    {
     "name": "stdout",
     "output_type": "stream",
     "text": [
      "CSPR = 12.00 dB\n",
      "Results:\n",
      "BER: 0.00e+00\n",
      "SNR: 43.77 dB\n",
      "SIR =  7.67  dB\n",
      "GMI: 4.00 bits\n",
      "\n"
     ]
    },
    {
     "data": {
      "application/vnd.jupyter.widget-view+json": {
       "model_id": "14ed6b509e0a4d01a8ef4cdf1b34b28e",
       "version_major": 2,
       "version_minor": 0
      },
      "text/plain": [
       "  0%|          | 0/1 [00:00<?, ?it/s]"
      ]
     },
     "metadata": {},
     "output_type": "display_data"
    },
    {
     "name": "stdout",
     "output_type": "stream",
     "text": [
      "CSPR = 13.00 dB\n",
      "Results:\n",
      "BER: 0.00e+00\n",
      "SNR: 44.31 dB\n",
      "SIR =  7.64  dB\n",
      "GMI: 4.00 bits\n",
      "\n"
     ]
    },
    {
     "data": {
      "application/vnd.jupyter.widget-view+json": {
       "model_id": "c01b8e11d1444335a07c4d1924d84bd0",
       "version_major": 2,
       "version_minor": 0
      },
      "text/plain": [
       "  0%|          | 0/1 [00:00<?, ?it/s]"
      ]
     },
     "metadata": {},
     "output_type": "display_data"
    },
    {
     "name": "stdout",
     "output_type": "stream",
     "text": [
      "CSPR = 14.00 dB\n",
      "Results:\n",
      "BER: 0.00e+00\n",
      "SNR: 44.36 dB\n",
      "SIR =  7.65  dB\n",
      "GMI: 4.00 bits\n",
      "\n"
     ]
    },
    {
     "data": {
      "application/vnd.jupyter.widget-view+json": {
       "model_id": "df02311cd1684eb0bbbeea1fc5f36e83",
       "version_major": 2,
       "version_minor": 0
      },
      "text/plain": [
       "  0%|          | 0/1 [00:00<?, ?it/s]"
      ]
     },
     "metadata": {},
     "output_type": "display_data"
    },
    {
     "name": "stdout",
     "output_type": "stream",
     "text": [
      "CSPR = 15.00 dB\n",
      "Results:\n",
      "BER: 0.00e+00\n",
      "SNR: 43.63 dB\n",
      "SIR =  7.64  dB\n",
      "GMI: 4.00 bits\n",
      "\n"
     ]
    },
    {
     "data": {
      "application/vnd.jupyter.widget-view+json": {
       "model_id": "18054701cfa94f5fbbf52c1323d7c2dc",
       "version_major": 2,
       "version_minor": 0
      },
      "text/plain": [
       "  0%|          | 0/10 [00:00<?, ?it/s]"
      ]
     },
     "metadata": {},
     "output_type": "display_data"
    },
    {
     "data": {
      "application/vnd.jupyter.widget-view+json": {
       "model_id": "7ec642156d294a27ad2f03654576afa6",
       "version_major": 2,
       "version_minor": 0
      },
      "text/plain": [
       "  0%|          | 0/1 [00:00<?, ?it/s]"
      ]
     },
     "metadata": {},
     "output_type": "display_data"
    },
    {
     "name": "stdout",
     "output_type": "stream",
     "text": [
      "CSPR = 6.00 dB\n",
      "Results:\n",
      "BER: 7.28e-03\n",
      "SNR: 15.18 dB\n",
      "SIR =  11.13  dB\n",
      "GMI: 3.85 bits\n",
      "\n"
     ]
    },
    {
     "data": {
      "application/vnd.jupyter.widget-view+json": {
       "model_id": "7dda7c9855164ed0b23f6bf6bb7a8421",
       "version_major": 2,
       "version_minor": 0
      },
      "text/plain": [
       "  0%|          | 0/1 [00:00<?, ?it/s]"
      ]
     },
     "metadata": {},
     "output_type": "display_data"
    },
    {
     "name": "stdout",
     "output_type": "stream",
     "text": [
      "CSPR = 7.00 dB\n",
      "Results:\n",
      "BER: 3.23e-03\n",
      "SNR: 16.31 dB\n",
      "SIR =  11.48  dB\n",
      "GMI: 3.93 bits\n",
      "\n"
     ]
    },
    {
     "data": {
      "application/vnd.jupyter.widget-view+json": {
       "model_id": "ac1dce7f0cf64c19bfabe4644c8d8d5d",
       "version_major": 2,
       "version_minor": 0
      },
      "text/plain": [
       "  0%|          | 0/1 [00:00<?, ?it/s]"
      ]
     },
     "metadata": {},
     "output_type": "display_data"
    },
    {
     "name": "stdout",
     "output_type": "stream",
     "text": [
      "CSPR = 8.00 dB\n",
      "Results:\n",
      "BER: 1.40e-03\n",
      "SNR: 17.22 dB\n",
      "SIR =  11.79  dB\n",
      "GMI: 3.97 bits\n",
      "\n"
     ]
    },
    {
     "data": {
      "application/vnd.jupyter.widget-view+json": {
       "model_id": "47cc7d3bb4004a4384005100ebc5ee85",
       "version_major": 2,
       "version_minor": 0
      },
      "text/plain": [
       "  0%|          | 0/1 [00:00<?, ?it/s]"
      ]
     },
     "metadata": {},
     "output_type": "display_data"
    },
    {
     "name": "stdout",
     "output_type": "stream",
     "text": [
      "CSPR = 9.00 dB\n",
      "Results:\n",
      "BER: 6.03e-04\n",
      "SNR: 18.06 dB\n",
      "SIR =  12.12  dB\n",
      "GMI: 3.99 bits\n",
      "\n"
     ]
    },
    {
     "data": {
      "application/vnd.jupyter.widget-view+json": {
       "model_id": "8331483775c847dc8fe68f58d2e818d8",
       "version_major": 2,
       "version_minor": 0
      },
      "text/plain": [
       "  0%|          | 0/1 [00:00<?, ?it/s]"
      ]
     },
     "metadata": {},
     "output_type": "display_data"
    },
    {
     "name": "stdout",
     "output_type": "stream",
     "text": [
      "CSPR = 10.00 dB\n",
      "Results:\n",
      "BER: 1.34e-04\n",
      "SNR: 18.87 dB\n",
      "SIR =  12.27  dB\n",
      "GMI: 4.00 bits\n",
      "\n"
     ]
    },
    {
     "data": {
      "application/vnd.jupyter.widget-view+json": {
       "model_id": "f6e30146bfdc455e83e005d6281dac28",
       "version_major": 2,
       "version_minor": 0
      },
      "text/plain": [
       "  0%|          | 0/1 [00:00<?, ?it/s]"
      ]
     },
     "metadata": {},
     "output_type": "display_data"
    },
    {
     "name": "stdout",
     "output_type": "stream",
     "text": [
      "CSPR = 11.00 dB\n",
      "Results:\n",
      "BER: 8.44e-05\n",
      "SNR: 19.45 dB\n",
      "SIR =  12.4  dB\n",
      "GMI: 4.00 bits\n",
      "\n"
     ]
    },
    {
     "data": {
      "application/vnd.jupyter.widget-view+json": {
       "model_id": "c1529a35ba284db3866a166a5037db5a",
       "version_major": 2,
       "version_minor": 0
      },
      "text/plain": [
       "  0%|          | 0/1 [00:00<?, ?it/s]"
      ]
     },
     "metadata": {},
     "output_type": "display_data"
    },
    {
     "name": "stdout",
     "output_type": "stream",
     "text": [
      "CSPR = 12.00 dB\n",
      "Results:\n",
      "BER: 2.81e-05\n",
      "SNR: 19.96 dB\n",
      "SIR =  12.48  dB\n",
      "GMI: 4.00 bits\n",
      "\n"
     ]
    },
    {
     "data": {
      "application/vnd.jupyter.widget-view+json": {
       "model_id": "6430e6cc3c7346bfb2ca8beaffb74c54",
       "version_major": 2,
       "version_minor": 0
      },
      "text/plain": [
       "  0%|          | 0/1 [00:00<?, ?it/s]"
      ]
     },
     "metadata": {},
     "output_type": "display_data"
    },
    {
     "name": "stdout",
     "output_type": "stream",
     "text": [
      "CSPR = 13.00 dB\n",
      "Results:\n",
      "BER: 3.13e-06\n",
      "SNR: 20.49 dB\n",
      "SIR =  12.54  dB\n",
      "GMI: 4.00 bits\n",
      "\n"
     ]
    },
    {
     "data": {
      "application/vnd.jupyter.widget-view+json": {
       "model_id": "fee185ef417b4588a534229a098c3a43",
       "version_major": 2,
       "version_minor": 0
      },
      "text/plain": [
       "  0%|          | 0/1 [00:00<?, ?it/s]"
      ]
     },
     "metadata": {},
     "output_type": "display_data"
    },
    {
     "name": "stdout",
     "output_type": "stream",
     "text": [
      "CSPR = 14.00 dB\n",
      "Results:\n",
      "BER: 3.13e-06\n",
      "SNR: 20.85 dB\n",
      "SIR =  12.61  dB\n",
      "GMI: 4.00 bits\n",
      "\n"
     ]
    },
    {
     "data": {
      "application/vnd.jupyter.widget-view+json": {
       "model_id": "f96d0e1b051b40d59915c642bf2f0796",
       "version_major": 2,
       "version_minor": 0
      },
      "text/plain": [
       "  0%|          | 0/1 [00:00<?, ?it/s]"
      ]
     },
     "metadata": {},
     "output_type": "display_data"
    },
    {
     "name": "stdout",
     "output_type": "stream",
     "text": [
      "CSPR = 15.00 dB\n",
      "Results:\n",
      "BER: 0.00e+00\n",
      "SNR: 21.32 dB\n",
      "SIR =  12.69  dB\n",
      "GMI: 4.00 bits\n",
      "\n"
     ]
    },
    {
     "data": {
      "application/vnd.jupyter.widget-view+json": {
       "model_id": "9b44e98c36b84c69985fbe253eb5ecbd",
       "version_major": 2,
       "version_minor": 0
      },
      "text/plain": [
       "  0%|          | 0/10 [00:00<?, ?it/s]"
      ]
     },
     "metadata": {},
     "output_type": "display_data"
    },
    {
     "data": {
      "application/vnd.jupyter.widget-view+json": {
       "model_id": "aeb3c62318f74d709204b4732b696ad0",
       "version_major": 2,
       "version_minor": 0
      },
      "text/plain": [
       "  0%|          | 0/1 [00:00<?, ?it/s]"
      ]
     },
     "metadata": {},
     "output_type": "display_data"
    },
    {
     "name": "stdout",
     "output_type": "stream",
     "text": [
      "CSPR = 6.00 dB\n",
      "Results:\n",
      "BER: 0.00e+00\n",
      "SNR: 43.97 dB\n",
      "SIR =  7.65  dB\n",
      "GMI: 4.00 bits\n",
      "\n"
     ]
    },
    {
     "data": {
      "application/vnd.jupyter.widget-view+json": {
       "model_id": "dffa4250ae294026860095249f1f1669",
       "version_major": 2,
       "version_minor": 0
      },
      "text/plain": [
       "  0%|          | 0/1 [00:00<?, ?it/s]"
      ]
     },
     "metadata": {},
     "output_type": "display_data"
    },
    {
     "name": "stdout",
     "output_type": "stream",
     "text": [
      "CSPR = 7.00 dB\n",
      "Results:\n",
      "BER: 0.00e+00\n",
      "SNR: 43.88 dB\n",
      "SIR =  7.65  dB\n",
      "GMI: 4.00 bits\n",
      "\n"
     ]
    },
    {
     "data": {
      "application/vnd.jupyter.widget-view+json": {
       "model_id": "97d3ec8c504e4f889cdc04c18b195ad2",
       "version_major": 2,
       "version_minor": 0
      },
      "text/plain": [
       "  0%|          | 0/1 [00:00<?, ?it/s]"
      ]
     },
     "metadata": {},
     "output_type": "display_data"
    },
    {
     "name": "stdout",
     "output_type": "stream",
     "text": [
      "CSPR = 8.00 dB\n",
      "Results:\n",
      "BER: 0.00e+00\n",
      "SNR: 44.13 dB\n",
      "SIR =  7.64  dB\n",
      "GMI: 4.00 bits\n",
      "\n"
     ]
    },
    {
     "data": {
      "application/vnd.jupyter.widget-view+json": {
       "model_id": "ca39a96c0f6742a5aff3e9a23d62ef46",
       "version_major": 2,
       "version_minor": 0
      },
      "text/plain": [
       "  0%|          | 0/1 [00:00<?, ?it/s]"
      ]
     },
     "metadata": {},
     "output_type": "display_data"
    },
    {
     "name": "stdout",
     "output_type": "stream",
     "text": [
      "CSPR = 9.00 dB\n",
      "Results:\n",
      "BER: 0.00e+00\n",
      "SNR: 43.87 dB\n",
      "SIR =  7.65  dB\n",
      "GMI: 4.00 bits\n",
      "\n"
     ]
    },
    {
     "data": {
      "application/vnd.jupyter.widget-view+json": {
       "model_id": "e6ecb581a6ae4a45bf18be62faf4542a",
       "version_major": 2,
       "version_minor": 0
      },
      "text/plain": [
       "  0%|          | 0/1 [00:00<?, ?it/s]"
      ]
     },
     "metadata": {},
     "output_type": "display_data"
    },
    {
     "name": "stdout",
     "output_type": "stream",
     "text": [
      "CSPR = 10.00 dB\n",
      "Results:\n",
      "BER: 0.00e+00\n",
      "SNR: 44.25 dB\n",
      "SIR =  7.66  dB\n",
      "GMI: 4.00 bits\n",
      "\n"
     ]
    },
    {
     "data": {
      "application/vnd.jupyter.widget-view+json": {
       "model_id": "e2e6fb0a45e840d98b468ff0f91e0142",
       "version_major": 2,
       "version_minor": 0
      },
      "text/plain": [
       "  0%|          | 0/1 [00:00<?, ?it/s]"
      ]
     },
     "metadata": {},
     "output_type": "display_data"
    },
    {
     "name": "stdout",
     "output_type": "stream",
     "text": [
      "CSPR = 11.00 dB\n",
      "Results:\n",
      "BER: 0.00e+00\n",
      "SNR: 44.30 dB\n",
      "SIR =  7.66  dB\n",
      "GMI: 4.00 bits\n",
      "\n"
     ]
    },
    {
     "data": {
      "application/vnd.jupyter.widget-view+json": {
       "model_id": "c5591ab90cb44a5b9fa0983a216765db",
       "version_major": 2,
       "version_minor": 0
      },
      "text/plain": [
       "  0%|          | 0/1 [00:00<?, ?it/s]"
      ]
     },
     "metadata": {},
     "output_type": "display_data"
    },
    {
     "name": "stdout",
     "output_type": "stream",
     "text": [
      "CSPR = 12.00 dB\n",
      "Results:\n",
      "BER: 0.00e+00\n",
      "SNR: 44.10 dB\n",
      "SIR =  7.66  dB\n",
      "GMI: 4.00 bits\n",
      "\n"
     ]
    },
    {
     "data": {
      "application/vnd.jupyter.widget-view+json": {
       "model_id": "777d1db2c8ad44a791ce42c8191b1b3b",
       "version_major": 2,
       "version_minor": 0
      },
      "text/plain": [
       "  0%|          | 0/1 [00:00<?, ?it/s]"
      ]
     },
     "metadata": {},
     "output_type": "display_data"
    },
    {
     "name": "stdout",
     "output_type": "stream",
     "text": [
      "CSPR = 13.00 dB\n",
      "Results:\n",
      "BER: 0.00e+00\n",
      "SNR: 44.29 dB\n",
      "SIR =  7.66  dB\n",
      "GMI: 4.00 bits\n",
      "\n"
     ]
    },
    {
     "data": {
      "application/vnd.jupyter.widget-view+json": {
       "model_id": "41037d8b0df74908b0082871cf719ec5",
       "version_major": 2,
       "version_minor": 0
      },
      "text/plain": [
       "  0%|          | 0/1 [00:00<?, ?it/s]"
      ]
     },
     "metadata": {},
     "output_type": "display_data"
    },
    {
     "name": "stdout",
     "output_type": "stream",
     "text": [
      "CSPR = 14.00 dB\n",
      "Results:\n",
      "BER: 0.00e+00\n",
      "SNR: 44.04 dB\n",
      "SIR =  7.66  dB\n",
      "GMI: 4.00 bits\n",
      "\n"
     ]
    },
    {
     "data": {
      "application/vnd.jupyter.widget-view+json": {
       "model_id": "f53dae7787ed4fb497fc4a448827e69d",
       "version_major": 2,
       "version_minor": 0
      },
      "text/plain": [
       "  0%|          | 0/1 [00:00<?, ?it/s]"
      ]
     },
     "metadata": {},
     "output_type": "display_data"
    },
    {
     "name": "stdout",
     "output_type": "stream",
     "text": [
      "CSPR = 15.00 dB\n",
      "Results:\n",
      "BER: 0.00e+00\n",
      "SNR: 44.28 dB\n",
      "SIR =  7.65  dB\n",
      "GMI: 4.00 bits\n",
      "\n"
     ]
    },
    {
     "data": {
      "application/vnd.jupyter.widget-view+json": {
       "model_id": "98a502e477b74a43ae4cfccf3b0a4824",
       "version_major": 2,
       "version_minor": 0
      },
      "text/plain": [
       "  0%|          | 0/10 [00:00<?, ?it/s]"
      ]
     },
     "metadata": {},
     "output_type": "display_data"
    },
    {
     "data": {
      "application/vnd.jupyter.widget-view+json": {
       "model_id": "e24c3360a0ca4a36974d04bd43a75d63",
       "version_major": 2,
       "version_minor": 0
      },
      "text/plain": [
       "  0%|          | 0/1 [00:00<?, ?it/s]"
      ]
     },
     "metadata": {},
     "output_type": "display_data"
    },
    {
     "name": "stdout",
     "output_type": "stream",
     "text": [
      "CSPR = 6.00 dB\n",
      "Results:\n",
      "BER: 0.00e+00\n",
      "SNR: 43.56 dB\n",
      "SIR =  7.68  dB\n",
      "GMI: 4.00 bits\n",
      "\n"
     ]
    },
    {
     "data": {
      "application/vnd.jupyter.widget-view+json": {
       "model_id": "9eefb50ec21a4976aa02fe1597b8de20",
       "version_major": 2,
       "version_minor": 0
      },
      "text/plain": [
       "  0%|          | 0/1 [00:00<?, ?it/s]"
      ]
     },
     "metadata": {},
     "output_type": "display_data"
    },
    {
     "name": "stdout",
     "output_type": "stream",
     "text": [
      "CSPR = 7.00 dB\n",
      "Results:\n",
      "BER: 0.00e+00\n",
      "SNR: 44.24 dB\n",
      "SIR =  7.64  dB\n",
      "GMI: 4.00 bits\n",
      "\n"
     ]
    },
    {
     "data": {
      "application/vnd.jupyter.widget-view+json": {
       "model_id": "4591bb1372c94eb29eb96225a4559be1",
       "version_major": 2,
       "version_minor": 0
      },
      "text/plain": [
       "  0%|          | 0/1 [00:00<?, ?it/s]"
      ]
     },
     "metadata": {},
     "output_type": "display_data"
    },
    {
     "name": "stdout",
     "output_type": "stream",
     "text": [
      "CSPR = 8.00 dB\n",
      "Results:\n",
      "BER: 0.00e+00\n",
      "SNR: 44.04 dB\n",
      "SIR =  7.64  dB\n",
      "GMI: 4.00 bits\n",
      "\n"
     ]
    },
    {
     "data": {
      "application/vnd.jupyter.widget-view+json": {
       "model_id": "ba06dbd21407490eb64df8960e553bff",
       "version_major": 2,
       "version_minor": 0
      },
      "text/plain": [
       "  0%|          | 0/1 [00:00<?, ?it/s]"
      ]
     },
     "metadata": {},
     "output_type": "display_data"
    },
    {
     "name": "stdout",
     "output_type": "stream",
     "text": [
      "CSPR = 9.00 dB\n",
      "Results:\n",
      "BER: 0.00e+00\n",
      "SNR: 43.96 dB\n",
      "SIR =  7.65  dB\n",
      "GMI: 4.00 bits\n",
      "\n"
     ]
    },
    {
     "data": {
      "application/vnd.jupyter.widget-view+json": {
       "model_id": "b844d5886fa9441ea14598ff089b6d2a",
       "version_major": 2,
       "version_minor": 0
      },
      "text/plain": [
       "  0%|          | 0/1 [00:00<?, ?it/s]"
      ]
     },
     "metadata": {},
     "output_type": "display_data"
    },
    {
     "name": "stdout",
     "output_type": "stream",
     "text": [
      "CSPR = 10.00 dB\n",
      "Results:\n",
      "BER: 0.00e+00\n",
      "SNR: 43.73 dB\n",
      "SIR =  7.64  dB\n",
      "GMI: 4.00 bits\n",
      "\n"
     ]
    },
    {
     "data": {
      "application/vnd.jupyter.widget-view+json": {
       "model_id": "191bb5d951414002a55ee01dcc867e45",
       "version_major": 2,
       "version_minor": 0
      },
      "text/plain": [
       "  0%|          | 0/1 [00:00<?, ?it/s]"
      ]
     },
     "metadata": {},
     "output_type": "display_data"
    },
    {
     "name": "stdout",
     "output_type": "stream",
     "text": [
      "CSPR = 11.00 dB\n",
      "Results:\n",
      "BER: 0.00e+00\n",
      "SNR: 44.26 dB\n",
      "SIR =  7.65  dB\n",
      "GMI: 4.00 bits\n",
      "\n"
     ]
    },
    {
     "data": {
      "application/vnd.jupyter.widget-view+json": {
       "model_id": "880170ad3fcd49cc93e352426a048bee",
       "version_major": 2,
       "version_minor": 0
      },
      "text/plain": [
       "  0%|          | 0/1 [00:00<?, ?it/s]"
      ]
     },
     "metadata": {},
     "output_type": "display_data"
    },
    {
     "name": "stdout",
     "output_type": "stream",
     "text": [
      "CSPR = 12.00 dB\n",
      "Results:\n",
      "BER: 0.00e+00\n",
      "SNR: 44.18 dB\n",
      "SIR =  7.67  dB\n",
      "GMI: 4.00 bits\n",
      "\n"
     ]
    },
    {
     "data": {
      "application/vnd.jupyter.widget-view+json": {
       "model_id": "a8a66d4419a14690b0d0a9e818c677a0",
       "version_major": 2,
       "version_minor": 0
      },
      "text/plain": [
       "  0%|          | 0/1 [00:00<?, ?it/s]"
      ]
     },
     "metadata": {},
     "output_type": "display_data"
    },
    {
     "name": "stdout",
     "output_type": "stream",
     "text": [
      "CSPR = 13.00 dB\n",
      "Results:\n",
      "BER: 0.00e+00\n",
      "SNR: 43.56 dB\n",
      "SIR =  7.67  dB\n",
      "GMI: 4.00 bits\n",
      "\n"
     ]
    },
    {
     "data": {
      "application/vnd.jupyter.widget-view+json": {
       "model_id": "01c65e62360847df9ee8781fae2fd1e7",
       "version_major": 2,
       "version_minor": 0
      },
      "text/plain": [
       "  0%|          | 0/1 [00:00<?, ?it/s]"
      ]
     },
     "metadata": {},
     "output_type": "display_data"
    },
    {
     "name": "stdout",
     "output_type": "stream",
     "text": [
      "CSPR = 14.00 dB\n",
      "Results:\n",
      "BER: 0.00e+00\n",
      "SNR: 43.76 dB\n",
      "SIR =  7.65  dB\n",
      "GMI: 4.00 bits\n",
      "\n"
     ]
    },
    {
     "data": {
      "application/vnd.jupyter.widget-view+json": {
       "model_id": "25c131a39a2e482eb631bbf5db5c1048",
       "version_major": 2,
       "version_minor": 0
      },
      "text/plain": [
       "  0%|          | 0/1 [00:00<?, ?it/s]"
      ]
     },
     "metadata": {},
     "output_type": "display_data"
    },
    {
     "name": "stdout",
     "output_type": "stream",
     "text": [
      "CSPR = 15.00 dB\n",
      "Results:\n",
      "BER: 0.00e+00\n",
      "SNR: 44.25 dB\n",
      "SIR =  7.66  dB\n",
      "GMI: 4.00 bits\n",
      "\n"
     ]
    },
    {
     "data": {
      "application/vnd.jupyter.widget-view+json": {
       "model_id": "84e33df23da34225bc43edc3c8bbbdc0",
       "version_major": 2,
       "version_minor": 0
      },
      "text/plain": [
       "  0%|          | 0/10 [00:00<?, ?it/s]"
      ]
     },
     "metadata": {},
     "output_type": "display_data"
    },
    {
     "data": {
      "application/vnd.jupyter.widget-view+json": {
       "model_id": "67cdb4d4b471407b95efe978239e0193",
       "version_major": 2,
       "version_minor": 0
      },
      "text/plain": [
       "  0%|          | 0/1 [00:00<?, ?it/s]"
      ]
     },
     "metadata": {},
     "output_type": "display_data"
    },
    {
     "name": "stdout",
     "output_type": "stream",
     "text": [
      "CSPR = 6.00 dB\n",
      "Results:\n",
      "BER: 7.33e-03\n",
      "SNR: 15.16 dB\n",
      "SIR =  11.03  dB\n",
      "GMI: 3.85 bits\n",
      "\n"
     ]
    },
    {
     "data": {
      "application/vnd.jupyter.widget-view+json": {
       "model_id": "e21cb61ff9d94c73a9c2b5563d39d863",
       "version_major": 2,
       "version_minor": 0
      },
      "text/plain": [
       "  0%|          | 0/1 [00:00<?, ?it/s]"
      ]
     },
     "metadata": {},
     "output_type": "display_data"
    },
    {
     "name": "stdout",
     "output_type": "stream",
     "text": [
      "CSPR = 7.00 dB\n",
      "Results:\n",
      "BER: 3.27e-03\n",
      "SNR: 16.28 dB\n",
      "SIR =  11.53  dB\n",
      "GMI: 3.93 bits\n",
      "\n"
     ]
    },
    {
     "data": {
      "application/vnd.jupyter.widget-view+json": {
       "model_id": "02c1d4ffa62f4c37bd8f5b755cf7f4c6",
       "version_major": 2,
       "version_minor": 0
      },
      "text/plain": [
       "  0%|          | 0/1 [00:00<?, ?it/s]"
      ]
     },
     "metadata": {},
     "output_type": "display_data"
    },
    {
     "name": "stdout",
     "output_type": "stream",
     "text": [
      "CSPR = 8.00 dB\n",
      "Results:\n",
      "BER: 1.51e-03\n",
      "SNR: 17.21 dB\n",
      "SIR =  11.79  dB\n",
      "GMI: 3.97 bits\n",
      "\n"
     ]
    },
    {
     "data": {
      "application/vnd.jupyter.widget-view+json": {
       "model_id": "1e02dab9724e42f9943d82604f42243b",
       "version_major": 2,
       "version_minor": 0
      },
      "text/plain": [
       "  0%|          | 0/1 [00:00<?, ?it/s]"
      ]
     },
     "metadata": {},
     "output_type": "display_data"
    },
    {
     "name": "stdout",
     "output_type": "stream",
     "text": [
      "CSPR = 9.00 dB\n",
      "Results:\n",
      "BER: 4.97e-04\n",
      "SNR: 18.07 dB\n",
      "SIR =  12.09  dB\n",
      "GMI: 3.99 bits\n",
      "\n"
     ]
    },
    {
     "data": {
      "application/vnd.jupyter.widget-view+json": {
       "model_id": "b10073ca62b349a18b50c8ed0301ea07",
       "version_major": 2,
       "version_minor": 0
      },
      "text/plain": [
       "  0%|          | 0/1 [00:00<?, ?it/s]"
      ]
     },
     "metadata": {},
     "output_type": "display_data"
    },
    {
     "name": "stdout",
     "output_type": "stream",
     "text": [
      "CSPR = 10.00 dB\n",
      "Results:\n",
      "BER: 1.88e-04\n",
      "SNR: 18.84 dB\n",
      "SIR =  12.24  dB\n",
      "GMI: 4.00 bits\n",
      "\n"
     ]
    },
    {
     "data": {
      "application/vnd.jupyter.widget-view+json": {
       "model_id": "5337a40af2a1432384096099ce94044a",
       "version_major": 2,
       "version_minor": 0
      },
      "text/plain": [
       "  0%|          | 0/1 [00:00<?, ?it/s]"
      ]
     },
     "metadata": {},
     "output_type": "display_data"
    },
    {
     "name": "stdout",
     "output_type": "stream",
     "text": [
      "CSPR = 11.00 dB\n",
      "Results:\n",
      "BER: 7.19e-05\n",
      "SNR: 19.48 dB\n",
      "SIR =  12.38  dB\n",
      "GMI: 4.00 bits\n",
      "\n"
     ]
    },
    {
     "data": {
      "application/vnd.jupyter.widget-view+json": {
       "model_id": "ddce365a0c304f4cae6d3f90b349f394",
       "version_major": 2,
       "version_minor": 0
      },
      "text/plain": [
       "  0%|          | 0/1 [00:00<?, ?it/s]"
      ]
     },
     "metadata": {},
     "output_type": "display_data"
    },
    {
     "name": "stdout",
     "output_type": "stream",
     "text": [
      "CSPR = 12.00 dB\n",
      "Results:\n",
      "BER: 2.19e-05\n",
      "SNR: 20.04 dB\n",
      "SIR =  12.54  dB\n",
      "GMI: 4.00 bits\n",
      "\n"
     ]
    },
    {
     "data": {
      "application/vnd.jupyter.widget-view+json": {
       "model_id": "71d06d75e6bb44569687ff0d54ed0145",
       "version_major": 2,
       "version_minor": 0
      },
      "text/plain": [
       "  0%|          | 0/1 [00:00<?, ?it/s]"
      ]
     },
     "metadata": {},
     "output_type": "display_data"
    },
    {
     "name": "stdout",
     "output_type": "stream",
     "text": [
      "CSPR = 13.00 dB\n",
      "Results:\n",
      "BER: 3.13e-06\n",
      "SNR: 20.52 dB\n",
      "SIR =  12.59  dB\n",
      "GMI: 4.00 bits\n",
      "\n"
     ]
    },
    {
     "data": {
      "application/vnd.jupyter.widget-view+json": {
       "model_id": "e67acbd576d049fb847a7837fbf4833f",
       "version_major": 2,
       "version_minor": 0
      },
      "text/plain": [
       "  0%|          | 0/1 [00:00<?, ?it/s]"
      ]
     },
     "metadata": {},
     "output_type": "display_data"
    },
    {
     "name": "stdout",
     "output_type": "stream",
     "text": [
      "CSPR = 14.00 dB\n",
      "Results:\n",
      "BER: 6.25e-06\n",
      "SNR: 20.86 dB\n",
      "SIR =  12.63  dB\n",
      "GMI: 4.00 bits\n",
      "\n"
     ]
    },
    {
     "data": {
      "application/vnd.jupyter.widget-view+json": {
       "model_id": "02f47b4e874b4ca8bc6ca01f78fb9984",
       "version_major": 2,
       "version_minor": 0
      },
      "text/plain": [
       "  0%|          | 0/1 [00:00<?, ?it/s]"
      ]
     },
     "metadata": {},
     "output_type": "display_data"
    },
    {
     "name": "stdout",
     "output_type": "stream",
     "text": [
      "CSPR = 15.00 dB\n",
      "Results:\n",
      "BER: 0.00e+00\n",
      "SNR: 21.28 dB\n",
      "SIR =  12.72  dB\n",
      "GMI: 4.00 bits\n",
      "\n"
     ]
    },
    {
     "data": {
      "application/vnd.jupyter.widget-view+json": {
       "model_id": "d7885a5ee0194c3a8620fc096dc9185b",
       "version_major": 2,
       "version_minor": 0
      },
      "text/plain": [
       "  0%|          | 0/10 [00:00<?, ?it/s]"
      ]
     },
     "metadata": {},
     "output_type": "display_data"
    },
    {
     "data": {
      "application/vnd.jupyter.widget-view+json": {
       "model_id": "07f518f940ac46b9b9efc75d3c55ad9b",
       "version_major": 2,
       "version_minor": 0
      },
      "text/plain": [
       "  0%|          | 0/1 [00:00<?, ?it/s]"
      ]
     },
     "metadata": {},
     "output_type": "display_data"
    },
    {
     "name": "stdout",
     "output_type": "stream",
     "text": [
      "CSPR = 6.00 dB\n",
      "Results:\n",
      "BER: 0.00e+00\n",
      "SNR: 43.89 dB\n",
      "SIR =  7.67  dB\n",
      "GMI: 4.00 bits\n",
      "\n"
     ]
    },
    {
     "data": {
      "application/vnd.jupyter.widget-view+json": {
       "model_id": "d7e3a8c34c474bbfa17ba04224d0b494",
       "version_major": 2,
       "version_minor": 0
      },
      "text/plain": [
       "  0%|          | 0/1 [00:00<?, ?it/s]"
      ]
     },
     "metadata": {},
     "output_type": "display_data"
    },
    {
     "name": "stdout",
     "output_type": "stream",
     "text": [
      "CSPR = 7.00 dB\n",
      "Results:\n",
      "BER: 0.00e+00\n",
      "SNR: 44.11 dB\n",
      "SIR =  7.65  dB\n",
      "GMI: 4.00 bits\n",
      "\n"
     ]
    },
    {
     "data": {
      "application/vnd.jupyter.widget-view+json": {
       "model_id": "7044186477a34177ab675cb55ee83571",
       "version_major": 2,
       "version_minor": 0
      },
      "text/plain": [
       "  0%|          | 0/1 [00:00<?, ?it/s]"
      ]
     },
     "metadata": {},
     "output_type": "display_data"
    },
    {
     "name": "stdout",
     "output_type": "stream",
     "text": [
      "CSPR = 8.00 dB\n",
      "Results:\n",
      "BER: 0.00e+00\n",
      "SNR: 43.57 dB\n",
      "SIR =  7.67  dB\n",
      "GMI: 4.00 bits\n",
      "\n"
     ]
    },
    {
     "data": {
      "application/vnd.jupyter.widget-view+json": {
       "model_id": "9d2261eb53d84f20bc5113e1af8aefe0",
       "version_major": 2,
       "version_minor": 0
      },
      "text/plain": [
       "  0%|          | 0/1 [00:00<?, ?it/s]"
      ]
     },
     "metadata": {},
     "output_type": "display_data"
    },
    {
     "name": "stdout",
     "output_type": "stream",
     "text": [
      "CSPR = 9.00 dB\n",
      "Results:\n",
      "BER: 0.00e+00\n",
      "SNR: 43.79 dB\n",
      "SIR =  7.67  dB\n",
      "GMI: 4.00 bits\n",
      "\n"
     ]
    },
    {
     "data": {
      "application/vnd.jupyter.widget-view+json": {
       "model_id": "3aeb537aca5040e3bbb2b98f96d4a4e1",
       "version_major": 2,
       "version_minor": 0
      },
      "text/plain": [
       "  0%|          | 0/1 [00:00<?, ?it/s]"
      ]
     },
     "metadata": {},
     "output_type": "display_data"
    },
    {
     "name": "stdout",
     "output_type": "stream",
     "text": [
      "CSPR = 10.00 dB\n",
      "Results:\n",
      "BER: 0.00e+00\n",
      "SNR: 44.38 dB\n",
      "SIR =  7.66  dB\n",
      "GMI: 4.00 bits\n",
      "\n"
     ]
    },
    {
     "data": {
      "application/vnd.jupyter.widget-view+json": {
       "model_id": "bfe1af50bb704b1c84eaa42bb5c64f02",
       "version_major": 2,
       "version_minor": 0
      },
      "text/plain": [
       "  0%|          | 0/1 [00:00<?, ?it/s]"
      ]
     },
     "metadata": {},
     "output_type": "display_data"
    },
    {
     "name": "stdout",
     "output_type": "stream",
     "text": [
      "CSPR = 11.00 dB\n",
      "Results:\n",
      "BER: 0.00e+00\n",
      "SNR: 43.87 dB\n",
      "SIR =  7.65  dB\n",
      "GMI: 4.00 bits\n",
      "\n"
     ]
    },
    {
     "data": {
      "application/vnd.jupyter.widget-view+json": {
       "model_id": "4f2fcabb594b48559af0371554678466",
       "version_major": 2,
       "version_minor": 0
      },
      "text/plain": [
       "  0%|          | 0/1 [00:00<?, ?it/s]"
      ]
     },
     "metadata": {},
     "output_type": "display_data"
    },
    {
     "name": "stdout",
     "output_type": "stream",
     "text": [
      "CSPR = 12.00 dB\n",
      "Results:\n",
      "BER: 0.00e+00\n",
      "SNR: 43.99 dB\n",
      "SIR =  7.67  dB\n",
      "GMI: 4.00 bits\n",
      "\n"
     ]
    },
    {
     "data": {
      "application/vnd.jupyter.widget-view+json": {
       "model_id": "8f3f60eed0664c85801c0b1d2b05bbae",
       "version_major": 2,
       "version_minor": 0
      },
      "text/plain": [
       "  0%|          | 0/1 [00:00<?, ?it/s]"
      ]
     },
     "metadata": {},
     "output_type": "display_data"
    },
    {
     "name": "stdout",
     "output_type": "stream",
     "text": [
      "CSPR = 13.00 dB\n",
      "Results:\n",
      "BER: 0.00e+00\n",
      "SNR: 44.16 dB\n",
      "SIR =  7.67  dB\n",
      "GMI: 4.00 bits\n",
      "\n"
     ]
    },
    {
     "data": {
      "application/vnd.jupyter.widget-view+json": {
       "model_id": "7d6511285215473e9bccf6206db240e5",
       "version_major": 2,
       "version_minor": 0
      },
      "text/plain": [
       "  0%|          | 0/1 [00:00<?, ?it/s]"
      ]
     },
     "metadata": {},
     "output_type": "display_data"
    },
    {
     "name": "stdout",
     "output_type": "stream",
     "text": [
      "CSPR = 14.00 dB\n",
      "Results:\n",
      "BER: 0.00e+00\n",
      "SNR: 43.68 dB\n",
      "SIR =  7.65  dB\n",
      "GMI: 4.00 bits\n",
      "\n"
     ]
    },
    {
     "data": {
      "application/vnd.jupyter.widget-view+json": {
       "model_id": "6f6773d14f8443448a54d2aeb5e12697",
       "version_major": 2,
       "version_minor": 0
      },
      "text/plain": [
       "  0%|          | 0/1 [00:00<?, ?it/s]"
      ]
     },
     "metadata": {},
     "output_type": "display_data"
    },
    {
     "name": "stdout",
     "output_type": "stream",
     "text": [
      "CSPR = 15.00 dB\n",
      "Results:\n",
      "BER: 0.00e+00\n",
      "SNR: 43.79 dB\n",
      "SIR =  7.67  dB\n",
      "GMI: 4.00 bits\n",
      "\n"
     ]
    },
    {
     "data": {
      "application/vnd.jupyter.widget-view+json": {
       "model_id": "a9ce6bf82ecf48d99a104cb5d0dcd8dd",
       "version_major": 2,
       "version_minor": 0
      },
      "text/plain": [
       "  0%|          | 0/10 [00:00<?, ?it/s]"
      ]
     },
     "metadata": {},
     "output_type": "display_data"
    },
    {
     "data": {
      "application/vnd.jupyter.widget-view+json": {
       "model_id": "f4878660bba8489c8c73d44edb579b8e",
       "version_major": 2,
       "version_minor": 0
      },
      "text/plain": [
       "  0%|          | 0/1 [00:00<?, ?it/s]"
      ]
     },
     "metadata": {},
     "output_type": "display_data"
    },
    {
     "name": "stdout",
     "output_type": "stream",
     "text": [
      "CSPR = 6.00 dB\n",
      "Results:\n",
      "BER: 0.00e+00\n",
      "SNR: 43.93 dB\n",
      "SIR =  7.64  dB\n",
      "GMI: 4.00 bits\n",
      "\n"
     ]
    },
    {
     "data": {
      "application/vnd.jupyter.widget-view+json": {
       "model_id": "9fee9c00bed74fa3b1d8950b01284117",
       "version_major": 2,
       "version_minor": 0
      },
      "text/plain": [
       "  0%|          | 0/1 [00:00<?, ?it/s]"
      ]
     },
     "metadata": {},
     "output_type": "display_data"
    },
    {
     "name": "stdout",
     "output_type": "stream",
     "text": [
      "CSPR = 7.00 dB\n",
      "Results:\n",
      "BER: 0.00e+00\n",
      "SNR: 43.99 dB\n",
      "SIR =  7.65  dB\n",
      "GMI: 4.00 bits\n",
      "\n"
     ]
    },
    {
     "data": {
      "application/vnd.jupyter.widget-view+json": {
       "model_id": "eb9254d63ec54a65b2a793ca7fea7c9c",
       "version_major": 2,
       "version_minor": 0
      },
      "text/plain": [
       "  0%|          | 0/1 [00:00<?, ?it/s]"
      ]
     },
     "metadata": {},
     "output_type": "display_data"
    },
    {
     "name": "stdout",
     "output_type": "stream",
     "text": [
      "CSPR = 8.00 dB\n",
      "Results:\n",
      "BER: 0.00e+00\n",
      "SNR: 44.08 dB\n",
      "SIR =  7.67  dB\n",
      "GMI: 4.00 bits\n",
      "\n"
     ]
    },
    {
     "data": {
      "application/vnd.jupyter.widget-view+json": {
       "model_id": "5811033ac096449d9b9de45e5cb49e24",
       "version_major": 2,
       "version_minor": 0
      },
      "text/plain": [
       "  0%|          | 0/1 [00:00<?, ?it/s]"
      ]
     },
     "metadata": {},
     "output_type": "display_data"
    },
    {
     "name": "stdout",
     "output_type": "stream",
     "text": [
      "CSPR = 9.00 dB\n",
      "Results:\n",
      "BER: 0.00e+00\n",
      "SNR: 44.28 dB\n",
      "SIR =  7.65  dB\n",
      "GMI: 4.00 bits\n",
      "\n"
     ]
    },
    {
     "data": {
      "application/vnd.jupyter.widget-view+json": {
       "model_id": "506a384e084940f89e7974d14fd03fde",
       "version_major": 2,
       "version_minor": 0
      },
      "text/plain": [
       "  0%|          | 0/1 [00:00<?, ?it/s]"
      ]
     },
     "metadata": {},
     "output_type": "display_data"
    },
    {
     "name": "stdout",
     "output_type": "stream",
     "text": [
      "CSPR = 10.00 dB\n",
      "Results:\n",
      "BER: 0.00e+00\n",
      "SNR: 43.88 dB\n",
      "SIR =  7.67  dB\n",
      "GMI: 4.00 bits\n",
      "\n"
     ]
    },
    {
     "data": {
      "application/vnd.jupyter.widget-view+json": {
       "model_id": "201a162920f84be78e186d5b98c2cd7c",
       "version_major": 2,
       "version_minor": 0
      },
      "text/plain": [
       "  0%|          | 0/1 [00:00<?, ?it/s]"
      ]
     },
     "metadata": {},
     "output_type": "display_data"
    },
    {
     "name": "stdout",
     "output_type": "stream",
     "text": [
      "CSPR = 11.00 dB\n",
      "Results:\n",
      "BER: 0.00e+00\n",
      "SNR: 44.09 dB\n",
      "SIR =  7.63  dB\n",
      "GMI: 4.00 bits\n",
      "\n"
     ]
    },
    {
     "data": {
      "application/vnd.jupyter.widget-view+json": {
       "model_id": "88656487a2814baf9c2039c929f0640a",
       "version_major": 2,
       "version_minor": 0
      },
      "text/plain": [
       "  0%|          | 0/1 [00:00<?, ?it/s]"
      ]
     },
     "metadata": {},
     "output_type": "display_data"
    },
    {
     "name": "stdout",
     "output_type": "stream",
     "text": [
      "CSPR = 12.00 dB\n",
      "Results:\n",
      "BER: 0.00e+00\n",
      "SNR: 43.93 dB\n",
      "SIR =  7.64  dB\n",
      "GMI: 4.00 bits\n",
      "\n"
     ]
    },
    {
     "data": {
      "application/vnd.jupyter.widget-view+json": {
       "model_id": "ca9b211069174eed83d21e5188a21cf8",
       "version_major": 2,
       "version_minor": 0
      },
      "text/plain": [
       "  0%|          | 0/1 [00:00<?, ?it/s]"
      ]
     },
     "metadata": {},
     "output_type": "display_data"
    },
    {
     "name": "stdout",
     "output_type": "stream",
     "text": [
      "CSPR = 13.00 dB\n",
      "Results:\n",
      "BER: 0.00e+00\n",
      "SNR: 44.19 dB\n",
      "SIR =  7.64  dB\n",
      "GMI: 4.00 bits\n",
      "\n"
     ]
    },
    {
     "data": {
      "application/vnd.jupyter.widget-view+json": {
       "model_id": "bc2ddbbe15aa4b44bc8555421f17b252",
       "version_major": 2,
       "version_minor": 0
      },
      "text/plain": [
       "  0%|          | 0/1 [00:00<?, ?it/s]"
      ]
     },
     "metadata": {},
     "output_type": "display_data"
    },
    {
     "name": "stdout",
     "output_type": "stream",
     "text": [
      "CSPR = 14.00 dB\n",
      "Results:\n",
      "BER: 0.00e+00\n",
      "SNR: 43.72 dB\n",
      "SIR =  7.66  dB\n",
      "GMI: 4.00 bits\n",
      "\n"
     ]
    },
    {
     "data": {
      "application/vnd.jupyter.widget-view+json": {
       "model_id": "13c18bffc6114c8c9ac3379e170705e0",
       "version_major": 2,
       "version_minor": 0
      },
      "text/plain": [
       "  0%|          | 0/1 [00:00<?, ?it/s]"
      ]
     },
     "metadata": {},
     "output_type": "display_data"
    },
    {
     "name": "stdout",
     "output_type": "stream",
     "text": [
      "CSPR = 15.00 dB\n",
      "Results:\n",
      "BER: 0.00e+00\n",
      "SNR: 43.99 dB\n",
      "SIR =  7.68  dB\n",
      "GMI: 4.00 bits\n",
      "\n"
     ]
    },
    {
     "data": {
      "application/vnd.jupyter.widget-view+json": {
       "model_id": "4fe0cd52992e4f1195d3904e5f7df731",
       "version_major": 2,
       "version_minor": 0
      },
      "text/plain": [
       "  0%|          | 0/10 [00:00<?, ?it/s]"
      ]
     },
     "metadata": {},
     "output_type": "display_data"
    },
    {
     "data": {
      "application/vnd.jupyter.widget-view+json": {
       "model_id": "8f446349b0d145c8a72c8cc599e33d6f",
       "version_major": 2,
       "version_minor": 0
      },
      "text/plain": [
       "  0%|          | 0/1 [00:00<?, ?it/s]"
      ]
     },
     "metadata": {},
     "output_type": "display_data"
    },
    {
     "name": "stdout",
     "output_type": "stream",
     "text": [
      "CSPR = 6.00 dB\n",
      "Results:\n",
      "BER: 7.17e-03\n",
      "SNR: 15.18 dB\n",
      "SIR =  11.03  dB\n",
      "GMI: 3.85 bits\n",
      "\n"
     ]
    },
    {
     "data": {
      "application/vnd.jupyter.widget-view+json": {
       "model_id": "70fc83c99eff4228b17da03e966658fa",
       "version_major": 2,
       "version_minor": 0
      },
      "text/plain": [
       "  0%|          | 0/1 [00:00<?, ?it/s]"
      ]
     },
     "metadata": {},
     "output_type": "display_data"
    },
    {
     "name": "stdout",
     "output_type": "stream",
     "text": [
      "CSPR = 7.00 dB\n",
      "Results:\n",
      "BER: 3.22e-03\n",
      "SNR: 16.25 dB\n",
      "SIR =  11.52  dB\n",
      "GMI: 3.93 bits\n",
      "\n"
     ]
    },
    {
     "data": {
      "application/vnd.jupyter.widget-view+json": {
       "model_id": "21e2f8fd3efe408c8da4e50ecd677dfb",
       "version_major": 2,
       "version_minor": 0
      },
      "text/plain": [
       "  0%|          | 0/1 [00:00<?, ?it/s]"
      ]
     },
     "metadata": {},
     "output_type": "display_data"
    },
    {
     "name": "stdout",
     "output_type": "stream",
     "text": [
      "CSPR = 8.00 dB\n",
      "Results:\n",
      "BER: 1.50e-03\n",
      "SNR: 17.20 dB\n",
      "SIR =  11.86  dB\n",
      "GMI: 3.97 bits\n",
      "\n"
     ]
    },
    {
     "data": {
      "application/vnd.jupyter.widget-view+json": {
       "model_id": "b949c4c4954344d3a8adcc3e79e48bae",
       "version_major": 2,
       "version_minor": 0
      },
      "text/plain": [
       "  0%|          | 0/1 [00:00<?, ?it/s]"
      ]
     },
     "metadata": {},
     "output_type": "display_data"
    },
    {
     "name": "stdout",
     "output_type": "stream",
     "text": [
      "CSPR = 9.00 dB\n",
      "Results:\n",
      "BER: 6.03e-04\n",
      "SNR: 18.10 dB\n",
      "SIR =  12.09  dB\n",
      "GMI: 3.99 bits\n",
      "\n"
     ]
    },
    {
     "data": {
      "application/vnd.jupyter.widget-view+json": {
       "model_id": "c6034116b6b5488291afb549d511c185",
       "version_major": 2,
       "version_minor": 0
      },
      "text/plain": [
       "  0%|          | 0/1 [00:00<?, ?it/s]"
      ]
     },
     "metadata": {},
     "output_type": "display_data"
    },
    {
     "name": "stdout",
     "output_type": "stream",
     "text": [
      "CSPR = 10.00 dB\n",
      "Results:\n",
      "BER: 2.09e-04\n",
      "SNR: 18.80 dB\n",
      "SIR =  12.21  dB\n",
      "GMI: 4.00 bits\n",
      "\n"
     ]
    },
    {
     "data": {
      "application/vnd.jupyter.widget-view+json": {
       "model_id": "3769234c9a88437496ef99d8dda6c6f3",
       "version_major": 2,
       "version_minor": 0
      },
      "text/plain": [
       "  0%|          | 0/1 [00:00<?, ?it/s]"
      ]
     },
     "metadata": {},
     "output_type": "display_data"
    },
    {
     "name": "stdout",
     "output_type": "stream",
     "text": [
      "CSPR = 11.00 dB\n",
      "Results:\n",
      "BER: 6.25e-05\n",
      "SNR: 19.42 dB\n",
      "SIR =  12.34  dB\n",
      "GMI: 4.00 bits\n",
      "\n"
     ]
    },
    {
     "data": {
      "application/vnd.jupyter.widget-view+json": {
       "model_id": "b225a24100b94839a1cf62eb02893447",
       "version_major": 2,
       "version_minor": 0
      },
      "text/plain": [
       "  0%|          | 0/1 [00:00<?, ?it/s]"
      ]
     },
     "metadata": {},
     "output_type": "display_data"
    },
    {
     "name": "stdout",
     "output_type": "stream",
     "text": [
      "CSPR = 12.00 dB\n",
      "Results:\n",
      "BER: 6.25e-06\n",
      "SNR: 20.08 dB\n",
      "SIR =  12.55  dB\n",
      "GMI: 4.00 bits\n",
      "\n"
     ]
    },
    {
     "data": {
      "application/vnd.jupyter.widget-view+json": {
       "model_id": "167fd776d93c4fe1ba5877b1323f819a",
       "version_major": 2,
       "version_minor": 0
      },
      "text/plain": [
       "  0%|          | 0/1 [00:00<?, ?it/s]"
      ]
     },
     "metadata": {},
     "output_type": "display_data"
    },
    {
     "name": "stdout",
     "output_type": "stream",
     "text": [
      "CSPR = 13.00 dB\n",
      "Results:\n",
      "BER: 3.13e-06\n",
      "SNR: 20.51 dB\n",
      "SIR =  12.62  dB\n",
      "GMI: 4.00 bits\n",
      "\n"
     ]
    },
    {
     "data": {
      "application/vnd.jupyter.widget-view+json": {
       "model_id": "588e6ac17a844b1ba349b5565bcbdb94",
       "version_major": 2,
       "version_minor": 0
      },
      "text/plain": [
       "  0%|          | 0/1 [00:00<?, ?it/s]"
      ]
     },
     "metadata": {},
     "output_type": "display_data"
    },
    {
     "name": "stdout",
     "output_type": "stream",
     "text": [
      "CSPR = 14.00 dB\n",
      "Results:\n",
      "BER: 0.00e+00\n",
      "SNR: 20.82 dB\n",
      "SIR =  12.54  dB\n",
      "GMI: 4.00 bits\n",
      "\n"
     ]
    },
    {
     "data": {
      "application/vnd.jupyter.widget-view+json": {
       "model_id": "131617f56b614a2bbfd2b816a8c5fc94",
       "version_major": 2,
       "version_minor": 0
      },
      "text/plain": [
       "  0%|          | 0/1 [00:00<?, ?it/s]"
      ]
     },
     "metadata": {},
     "output_type": "display_data"
    },
    {
     "name": "stdout",
     "output_type": "stream",
     "text": [
      "CSPR = 15.00 dB\n",
      "Results:\n",
      "BER: 0.00e+00\n",
      "SNR: 21.36 dB\n",
      "SIR =  12.71  dB\n",
      "GMI: 4.00 bits\n",
      "\n"
     ]
    },
    {
     "data": {
      "application/vnd.jupyter.widget-view+json": {
       "model_id": "788c63362dbf4e7cbabf766397c22a17",
       "version_major": 2,
       "version_minor": 0
      },
      "text/plain": [
       "  0%|          | 0/10 [00:00<?, ?it/s]"
      ]
     },
     "metadata": {},
     "output_type": "display_data"
    },
    {
     "data": {
      "application/vnd.jupyter.widget-view+json": {
       "model_id": "8004c83fd6104494ba9dc3ab812091cf",
       "version_major": 2,
       "version_minor": 0
      },
      "text/plain": [
       "  0%|          | 0/1 [00:00<?, ?it/s]"
      ]
     },
     "metadata": {},
     "output_type": "display_data"
    },
    {
     "name": "stdout",
     "output_type": "stream",
     "text": [
      "CSPR = 6.00 dB\n",
      "Results:\n",
      "BER: 0.00e+00\n",
      "SNR: 43.77 dB\n",
      "SIR =  7.65  dB\n",
      "GMI: 4.00 bits\n",
      "\n"
     ]
    },
    {
     "data": {
      "application/vnd.jupyter.widget-view+json": {
       "model_id": "e35957a4fbbc42db9142dc801cc5342d",
       "version_major": 2,
       "version_minor": 0
      },
      "text/plain": [
       "  0%|          | 0/1 [00:00<?, ?it/s]"
      ]
     },
     "metadata": {},
     "output_type": "display_data"
    },
    {
     "name": "stdout",
     "output_type": "stream",
     "text": [
      "CSPR = 7.00 dB\n",
      "Results:\n",
      "BER: 0.00e+00\n",
      "SNR: 44.05 dB\n",
      "SIR =  7.66  dB\n",
      "GMI: 4.00 bits\n",
      "\n"
     ]
    },
    {
     "data": {
      "application/vnd.jupyter.widget-view+json": {
       "model_id": "7bd1cd121f124841bdb6855907039527",
       "version_major": 2,
       "version_minor": 0
      },
      "text/plain": [
       "  0%|          | 0/1 [00:00<?, ?it/s]"
      ]
     },
     "metadata": {},
     "output_type": "display_data"
    },
    {
     "name": "stdout",
     "output_type": "stream",
     "text": [
      "CSPR = 8.00 dB\n",
      "Results:\n",
      "BER: 0.00e+00\n",
      "SNR: 43.95 dB\n",
      "SIR =  7.65  dB\n",
      "GMI: 4.00 bits\n",
      "\n"
     ]
    },
    {
     "data": {
      "application/vnd.jupyter.widget-view+json": {
       "model_id": "623fa52766fc48fd884ce27a3c315756",
       "version_major": 2,
       "version_minor": 0
      },
      "text/plain": [
       "  0%|          | 0/1 [00:00<?, ?it/s]"
      ]
     },
     "metadata": {},
     "output_type": "display_data"
    },
    {
     "name": "stdout",
     "output_type": "stream",
     "text": [
      "CSPR = 9.00 dB\n",
      "Results:\n",
      "BER: 0.00e+00\n",
      "SNR: 43.43 dB\n",
      "SIR =  7.68  dB\n",
      "GMI: 4.00 bits\n",
      "\n"
     ]
    },
    {
     "data": {
      "application/vnd.jupyter.widget-view+json": {
       "model_id": "0c47ec59848348da93e9ed78cf87b658",
       "version_major": 2,
       "version_minor": 0
      },
      "text/plain": [
       "  0%|          | 0/1 [00:00<?, ?it/s]"
      ]
     },
     "metadata": {},
     "output_type": "display_data"
    },
    {
     "name": "stdout",
     "output_type": "stream",
     "text": [
      "CSPR = 10.00 dB\n",
      "Results:\n",
      "BER: 0.00e+00\n",
      "SNR: 44.22 dB\n",
      "SIR =  7.64  dB\n",
      "GMI: 4.00 bits\n",
      "\n"
     ]
    },
    {
     "data": {
      "application/vnd.jupyter.widget-view+json": {
       "model_id": "6884d8e44f6b4d9a8d0d9e8832031425",
       "version_major": 2,
       "version_minor": 0
      },
      "text/plain": [
       "  0%|          | 0/1 [00:00<?, ?it/s]"
      ]
     },
     "metadata": {},
     "output_type": "display_data"
    },
    {
     "name": "stdout",
     "output_type": "stream",
     "text": [
      "CSPR = 11.00 dB\n",
      "Results:\n",
      "BER: 0.00e+00\n",
      "SNR: 44.23 dB\n",
      "SIR =  7.65  dB\n",
      "GMI: 4.00 bits\n",
      "\n"
     ]
    },
    {
     "data": {
      "application/vnd.jupyter.widget-view+json": {
       "model_id": "d45beb5f3b2945148426e64f60604a3d",
       "version_major": 2,
       "version_minor": 0
      },
      "text/plain": [
       "  0%|          | 0/1 [00:00<?, ?it/s]"
      ]
     },
     "metadata": {},
     "output_type": "display_data"
    },
    {
     "name": "stdout",
     "output_type": "stream",
     "text": [
      "CSPR = 12.00 dB\n",
      "Results:\n",
      "BER: 0.00e+00\n",
      "SNR: 43.78 dB\n",
      "SIR =  7.67  dB\n",
      "GMI: 4.00 bits\n",
      "\n"
     ]
    },
    {
     "data": {
      "application/vnd.jupyter.widget-view+json": {
       "model_id": "c004c5db69cc43fa962872e9f72e691d",
       "version_major": 2,
       "version_minor": 0
      },
      "text/plain": [
       "  0%|          | 0/1 [00:00<?, ?it/s]"
      ]
     },
     "metadata": {},
     "output_type": "display_data"
    },
    {
     "name": "stdout",
     "output_type": "stream",
     "text": [
      "CSPR = 13.00 dB\n",
      "Results:\n",
      "BER: 0.00e+00\n",
      "SNR: 43.92 dB\n",
      "SIR =  7.66  dB\n",
      "GMI: 4.00 bits\n",
      "\n"
     ]
    },
    {
     "data": {
      "application/vnd.jupyter.widget-view+json": {
       "model_id": "f9e907f58c5c4039bde64ac5aa59ce7d",
       "version_major": 2,
       "version_minor": 0
      },
      "text/plain": [
       "  0%|          | 0/1 [00:00<?, ?it/s]"
      ]
     },
     "metadata": {},
     "output_type": "display_data"
    },
    {
     "name": "stdout",
     "output_type": "stream",
     "text": [
      "CSPR = 14.00 dB\n",
      "Results:\n",
      "BER: 0.00e+00\n",
      "SNR: 43.73 dB\n",
      "SIR =  7.65  dB\n",
      "GMI: 4.00 bits\n",
      "\n"
     ]
    },
    {
     "data": {
      "application/vnd.jupyter.widget-view+json": {
       "model_id": "ca3f7dba46a8420b85e134b51955ebce",
       "version_major": 2,
       "version_minor": 0
      },
      "text/plain": [
       "  0%|          | 0/1 [00:00<?, ?it/s]"
      ]
     },
     "metadata": {},
     "output_type": "display_data"
    },
    {
     "name": "stdout",
     "output_type": "stream",
     "text": [
      "CSPR = 15.00 dB\n",
      "Results:\n",
      "BER: 0.00e+00\n",
      "SNR: 44.12 dB\n",
      "SIR =  7.66  dB\n",
      "GMI: 4.00 bits\n",
      "\n"
     ]
    },
    {
     "data": {
      "application/vnd.jupyter.widget-view+json": {
       "model_id": "cb27cbc2ca7c4ca4835b59debef995b6",
       "version_major": 2,
       "version_minor": 0
      },
      "text/plain": [
       "  0%|          | 0/10 [00:00<?, ?it/s]"
      ]
     },
     "metadata": {},
     "output_type": "display_data"
    },
    {
     "data": {
      "application/vnd.jupyter.widget-view+json": {
       "model_id": "befa8184c44644c99d78712c14cab834",
       "version_major": 2,
       "version_minor": 0
      },
      "text/plain": [
       "  0%|          | 0/1 [00:00<?, ?it/s]"
      ]
     },
     "metadata": {},
     "output_type": "display_data"
    },
    {
     "name": "stdout",
     "output_type": "stream",
     "text": [
      "CSPR = 6.00 dB\n",
      "Results:\n",
      "BER: 0.00e+00\n",
      "SNR: 43.59 dB\n",
      "SIR =  7.65  dB\n",
      "GMI: 4.00 bits\n",
      "\n"
     ]
    },
    {
     "data": {
      "application/vnd.jupyter.widget-view+json": {
       "model_id": "e1d966946d874017bdf12a8854176e0d",
       "version_major": 2,
       "version_minor": 0
      },
      "text/plain": [
       "  0%|          | 0/1 [00:00<?, ?it/s]"
      ]
     },
     "metadata": {},
     "output_type": "display_data"
    },
    {
     "name": "stdout",
     "output_type": "stream",
     "text": [
      "CSPR = 7.00 dB\n",
      "Results:\n",
      "BER: 0.00e+00\n",
      "SNR: 43.95 dB\n",
      "SIR =  7.66  dB\n",
      "GMI: 4.00 bits\n",
      "\n"
     ]
    },
    {
     "data": {
      "application/vnd.jupyter.widget-view+json": {
       "model_id": "84f82f43dfbf4e8bb48b28407a1b7cda",
       "version_major": 2,
       "version_minor": 0
      },
      "text/plain": [
       "  0%|          | 0/1 [00:00<?, ?it/s]"
      ]
     },
     "metadata": {},
     "output_type": "display_data"
    },
    {
     "name": "stdout",
     "output_type": "stream",
     "text": [
      "CSPR = 8.00 dB\n",
      "Results:\n",
      "BER: 0.00e+00\n",
      "SNR: 43.97 dB\n",
      "SIR =  7.66  dB\n",
      "GMI: 4.00 bits\n",
      "\n"
     ]
    },
    {
     "data": {
      "application/vnd.jupyter.widget-view+json": {
       "model_id": "0551c9cb856d4a0794c138e7b6491e28",
       "version_major": 2,
       "version_minor": 0
      },
      "text/plain": [
       "  0%|          | 0/1 [00:00<?, ?it/s]"
      ]
     },
     "metadata": {},
     "output_type": "display_data"
    },
    {
     "name": "stdout",
     "output_type": "stream",
     "text": [
      "CSPR = 9.00 dB\n",
      "Results:\n",
      "BER: 0.00e+00\n",
      "SNR: 43.92 dB\n",
      "SIR =  7.66  dB\n",
      "GMI: 4.00 bits\n",
      "\n"
     ]
    },
    {
     "data": {
      "application/vnd.jupyter.widget-view+json": {
       "model_id": "ccdbd8e9ecf6468992a718ff7fb61170",
       "version_major": 2,
       "version_minor": 0
      },
      "text/plain": [
       "  0%|          | 0/1 [00:00<?, ?it/s]"
      ]
     },
     "metadata": {},
     "output_type": "display_data"
    },
    {
     "name": "stdout",
     "output_type": "stream",
     "text": [
      "CSPR = 10.00 dB\n",
      "Results:\n",
      "BER: 0.00e+00\n",
      "SNR: 44.13 dB\n",
      "SIR =  7.65  dB\n",
      "GMI: 4.00 bits\n",
      "\n"
     ]
    },
    {
     "data": {
      "application/vnd.jupyter.widget-view+json": {
       "model_id": "6c068ed1ea98435997a32c0b40d3d55c",
       "version_major": 2,
       "version_minor": 0
      },
      "text/plain": [
       "  0%|          | 0/1 [00:00<?, ?it/s]"
      ]
     },
     "metadata": {},
     "output_type": "display_data"
    },
    {
     "name": "stdout",
     "output_type": "stream",
     "text": [
      "CSPR = 11.00 dB\n",
      "Results:\n",
      "BER: 0.00e+00\n",
      "SNR: 43.48 dB\n",
      "SIR =  7.67  dB\n",
      "GMI: 4.00 bits\n",
      "\n"
     ]
    },
    {
     "data": {
      "application/vnd.jupyter.widget-view+json": {
       "model_id": "7ae26c996a2a443f8cc72de65f614329",
       "version_major": 2,
       "version_minor": 0
      },
      "text/plain": [
       "  0%|          | 0/1 [00:00<?, ?it/s]"
      ]
     },
     "metadata": {},
     "output_type": "display_data"
    },
    {
     "name": "stdout",
     "output_type": "stream",
     "text": [
      "CSPR = 12.00 dB\n",
      "Results:\n",
      "BER: 0.00e+00\n",
      "SNR: 43.67 dB\n",
      "SIR =  7.66  dB\n",
      "GMI: 4.00 bits\n",
      "\n"
     ]
    },
    {
     "data": {
      "application/vnd.jupyter.widget-view+json": {
       "model_id": "903aa7f48c7344e69e3baea11ca46974",
       "version_major": 2,
       "version_minor": 0
      },
      "text/plain": [
       "  0%|          | 0/1 [00:00<?, ?it/s]"
      ]
     },
     "metadata": {},
     "output_type": "display_data"
    },
    {
     "name": "stdout",
     "output_type": "stream",
     "text": [
      "CSPR = 13.00 dB\n",
      "Results:\n",
      "BER: 0.00e+00\n",
      "SNR: 44.23 dB\n",
      "SIR =  7.64  dB\n",
      "GMI: 4.00 bits\n",
      "\n"
     ]
    },
    {
     "data": {
      "application/vnd.jupyter.widget-view+json": {
       "model_id": "cae200b82ec943a38463aa355fd5a28a",
       "version_major": 2,
       "version_minor": 0
      },
      "text/plain": [
       "  0%|          | 0/1 [00:00<?, ?it/s]"
      ]
     },
     "metadata": {},
     "output_type": "display_data"
    },
    {
     "name": "stdout",
     "output_type": "stream",
     "text": [
      "CSPR = 14.00 dB\n",
      "Results:\n",
      "BER: 0.00e+00\n",
      "SNR: 44.11 dB\n",
      "SIR =  7.64  dB\n",
      "GMI: 4.00 bits\n",
      "\n"
     ]
    },
    {
     "data": {
      "application/vnd.jupyter.widget-view+json": {
       "model_id": "d142f751d11a4b2d87dd3f2d6faab4b7",
       "version_major": 2,
       "version_minor": 0
      },
      "text/plain": [
       "  0%|          | 0/1 [00:00<?, ?it/s]"
      ]
     },
     "metadata": {},
     "output_type": "display_data"
    },
    {
     "name": "stdout",
     "output_type": "stream",
     "text": [
      "CSPR = 15.00 dB\n",
      "Results:\n",
      "BER: 0.00e+00\n",
      "SNR: 44.11 dB\n",
      "SIR =  7.66  dB\n",
      "GMI: 4.00 bits\n",
      "\n"
     ]
    },
    {
     "data": {
      "application/vnd.jupyter.widget-view+json": {
       "model_id": "c3dc55eff0484521b22f7f8958c27f83",
       "version_major": 2,
       "version_minor": 0
      },
      "text/plain": [
       "  0%|          | 0/10 [00:00<?, ?it/s]"
      ]
     },
     "metadata": {},
     "output_type": "display_data"
    },
    {
     "data": {
      "application/vnd.jupyter.widget-view+json": {
       "model_id": "056da768ba6e4c6db8d3d7f308b6fe3e",
       "version_major": 2,
       "version_minor": 0
      },
      "text/plain": [
       "  0%|          | 0/1 [00:00<?, ?it/s]"
      ]
     },
     "metadata": {},
     "output_type": "display_data"
    },
    {
     "name": "stdout",
     "output_type": "stream",
     "text": [
      "CSPR = 6.00 dB\n",
      "Results:\n",
      "BER: 6.60e-03\n",
      "SNR: 15.28 dB\n",
      "SIR =  11.11  dB\n",
      "GMI: 3.87 bits\n",
      "\n"
     ]
    },
    {
     "data": {
      "application/vnd.jupyter.widget-view+json": {
       "model_id": "484078aa1c8643468d0de76b55c3f0fd",
       "version_major": 2,
       "version_minor": 0
      },
      "text/plain": [
       "  0%|          | 0/1 [00:00<?, ?it/s]"
      ]
     },
     "metadata": {},
     "output_type": "display_data"
    },
    {
     "name": "stdout",
     "output_type": "stream",
     "text": [
      "CSPR = 7.00 dB\n",
      "Results:\n",
      "BER: 3.21e-03\n",
      "SNR: 16.29 dB\n",
      "SIR =  11.5  dB\n",
      "GMI: 3.93 bits\n",
      "\n"
     ]
    },
    {
     "data": {
      "application/vnd.jupyter.widget-view+json": {
       "model_id": "34f12d8560914653a81d14657ee673d0",
       "version_major": 2,
       "version_minor": 0
      },
      "text/plain": [
       "  0%|          | 0/1 [00:00<?, ?it/s]"
      ]
     },
     "metadata": {},
     "output_type": "display_data"
    },
    {
     "name": "stdout",
     "output_type": "stream",
     "text": [
      "CSPR = 8.00 dB\n",
      "Results:\n",
      "BER: 1.23e-03\n",
      "SNR: 17.26 dB\n",
      "SIR =  11.83  dB\n",
      "GMI: 3.97 bits\n",
      "\n"
     ]
    },
    {
     "data": {
      "application/vnd.jupyter.widget-view+json": {
       "model_id": "caa86e0db5d44706bb958028fdd619bf",
       "version_major": 2,
       "version_minor": 0
      },
      "text/plain": [
       "  0%|          | 0/1 [00:00<?, ?it/s]"
      ]
     },
     "metadata": {},
     "output_type": "display_data"
    },
    {
     "name": "stdout",
     "output_type": "stream",
     "text": [
      "CSPR = 9.00 dB\n",
      "Results:\n",
      "BER: 5.59e-04\n",
      "SNR: 18.02 dB\n",
      "SIR =  12.05  dB\n",
      "GMI: 3.99 bits\n",
      "\n"
     ]
    },
    {
     "data": {
      "application/vnd.jupyter.widget-view+json": {
       "model_id": "076cc5096f844b799ca73fe59a280b5c",
       "version_major": 2,
       "version_minor": 0
      },
      "text/plain": [
       "  0%|          | 0/1 [00:00<?, ?it/s]"
      ]
     },
     "metadata": {},
     "output_type": "display_data"
    },
    {
     "name": "stdout",
     "output_type": "stream",
     "text": [
      "CSPR = 10.00 dB\n",
      "Results:\n",
      "BER: 2.91e-04\n",
      "SNR: 18.72 dB\n",
      "SIR =  12.25  dB\n",
      "GMI: 3.99 bits\n",
      "\n"
     ]
    },
    {
     "data": {
      "application/vnd.jupyter.widget-view+json": {
       "model_id": "14248a45ec4644d191c07d71174d4886",
       "version_major": 2,
       "version_minor": 0
      },
      "text/plain": [
       "  0%|          | 0/1 [00:00<?, ?it/s]"
      ]
     },
     "metadata": {},
     "output_type": "display_data"
    },
    {
     "name": "stdout",
     "output_type": "stream",
     "text": [
      "CSPR = 11.00 dB\n",
      "Results:\n",
      "BER: 8.12e-05\n",
      "SNR: 19.47 dB\n",
      "SIR =  12.34  dB\n",
      "GMI: 4.00 bits\n",
      "\n"
     ]
    },
    {
     "data": {
      "application/vnd.jupyter.widget-view+json": {
       "model_id": "5ca8f3a5a4df4333a82bc8435e83a5d3",
       "version_major": 2,
       "version_minor": 0
      },
      "text/plain": [
       "  0%|          | 0/1 [00:00<?, ?it/s]"
      ]
     },
     "metadata": {},
     "output_type": "display_data"
    },
    {
     "name": "stdout",
     "output_type": "stream",
     "text": [
      "CSPR = 12.00 dB\n",
      "Results:\n",
      "BER: 1.87e-05\n",
      "SNR: 19.99 dB\n",
      "SIR =  12.5  dB\n",
      "GMI: 4.00 bits\n",
      "\n"
     ]
    },
    {
     "data": {
      "application/vnd.jupyter.widget-view+json": {
       "model_id": "e04825335daa4a8eafd62eba25b90fce",
       "version_major": 2,
       "version_minor": 0
      },
      "text/plain": [
       "  0%|          | 0/1 [00:00<?, ?it/s]"
      ]
     },
     "metadata": {},
     "output_type": "display_data"
    },
    {
     "name": "stdout",
     "output_type": "stream",
     "text": [
      "CSPR = 13.00 dB\n",
      "Results:\n",
      "BER: 1.25e-05\n",
      "SNR: 20.53 dB\n",
      "SIR =  12.61  dB\n",
      "GMI: 4.00 bits\n",
      "\n"
     ]
    },
    {
     "data": {
      "application/vnd.jupyter.widget-view+json": {
       "model_id": "012dff566183475baf0efc50e672ad2a",
       "version_major": 2,
       "version_minor": 0
      },
      "text/plain": [
       "  0%|          | 0/1 [00:00<?, ?it/s]"
      ]
     },
     "metadata": {},
     "output_type": "display_data"
    },
    {
     "name": "stdout",
     "output_type": "stream",
     "text": [
      "CSPR = 14.00 dB\n",
      "Results:\n",
      "BER: 6.25e-06\n",
      "SNR: 20.95 dB\n",
      "SIR =  12.73  dB\n",
      "GMI: 4.00 bits\n",
      "\n"
     ]
    },
    {
     "data": {
      "application/vnd.jupyter.widget-view+json": {
       "model_id": "ef8a44430ed24fc2b08ea77cca53eebe",
       "version_major": 2,
       "version_minor": 0
      },
      "text/plain": [
       "  0%|          | 0/1 [00:00<?, ?it/s]"
      ]
     },
     "metadata": {},
     "output_type": "display_data"
    },
    {
     "name": "stdout",
     "output_type": "stream",
     "text": [
      "CSPR = 15.00 dB\n",
      "Results:\n",
      "BER: 3.13e-06\n",
      "SNR: 21.22 dB\n",
      "SIR =  12.71  dB\n",
      "GMI: 4.00 bits\n",
      "\n"
     ]
    },
    {
     "data": {
      "application/vnd.jupyter.widget-view+json": {
       "model_id": "522b8806f75d4918ace7071d57176d3c",
       "version_major": 2,
       "version_minor": 0
      },
      "text/plain": [
       "  0%|          | 0/10 [00:00<?, ?it/s]"
      ]
     },
     "metadata": {},
     "output_type": "display_data"
    },
    {
     "data": {
      "application/vnd.jupyter.widget-view+json": {
       "model_id": "9ede71ff089f46e2af3f72a71e4f1e9d",
       "version_major": 2,
       "version_minor": 0
      },
      "text/plain": [
       "  0%|          | 0/1 [00:00<?, ?it/s]"
      ]
     },
     "metadata": {},
     "output_type": "display_data"
    },
    {
     "name": "stdout",
     "output_type": "stream",
     "text": [
      "CSPR = 6.00 dB\n",
      "Results:\n",
      "BER: 0.00e+00\n",
      "SNR: 44.06 dB\n",
      "SIR =  7.65  dB\n",
      "GMI: 4.00 bits\n",
      "\n"
     ]
    },
    {
     "data": {
      "application/vnd.jupyter.widget-view+json": {
       "model_id": "c285531f7fce43af927a8528c8c6d6c9",
       "version_major": 2,
       "version_minor": 0
      },
      "text/plain": [
       "  0%|          | 0/1 [00:00<?, ?it/s]"
      ]
     },
     "metadata": {},
     "output_type": "display_data"
    },
    {
     "name": "stdout",
     "output_type": "stream",
     "text": [
      "CSPR = 7.00 dB\n",
      "Results:\n",
      "BER: 0.00e+00\n",
      "SNR: 44.22 dB\n",
      "SIR =  7.64  dB\n",
      "GMI: 4.00 bits\n",
      "\n"
     ]
    },
    {
     "data": {
      "application/vnd.jupyter.widget-view+json": {
       "model_id": "954691aaa64b4b56a5ddfd03c6790b15",
       "version_major": 2,
       "version_minor": 0
      },
      "text/plain": [
       "  0%|          | 0/1 [00:00<?, ?it/s]"
      ]
     },
     "metadata": {},
     "output_type": "display_data"
    },
    {
     "name": "stdout",
     "output_type": "stream",
     "text": [
      "CSPR = 8.00 dB\n",
      "Results:\n",
      "BER: 0.00e+00\n",
      "SNR: 43.55 dB\n",
      "SIR =  7.64  dB\n",
      "GMI: 4.00 bits\n",
      "\n"
     ]
    },
    {
     "data": {
      "application/vnd.jupyter.widget-view+json": {
       "model_id": "85c73153a6894921bf633c9b7da6e547",
       "version_major": 2,
       "version_minor": 0
      },
      "text/plain": [
       "  0%|          | 0/1 [00:00<?, ?it/s]"
      ]
     },
     "metadata": {},
     "output_type": "display_data"
    },
    {
     "name": "stdout",
     "output_type": "stream",
     "text": [
      "CSPR = 9.00 dB\n",
      "Results:\n",
      "BER: 0.00e+00\n",
      "SNR: 44.28 dB\n",
      "SIR =  7.65  dB\n",
      "GMI: 4.00 bits\n",
      "\n"
     ]
    },
    {
     "data": {
      "application/vnd.jupyter.widget-view+json": {
       "model_id": "a4aa22b75dc4468684b2852e6d58297f",
       "version_major": 2,
       "version_minor": 0
      },
      "text/plain": [
       "  0%|          | 0/1 [00:00<?, ?it/s]"
      ]
     },
     "metadata": {},
     "output_type": "display_data"
    },
    {
     "name": "stdout",
     "output_type": "stream",
     "text": [
      "CSPR = 10.00 dB\n",
      "Results:\n",
      "BER: 0.00e+00\n",
      "SNR: 44.01 dB\n",
      "SIR =  7.67  dB\n",
      "GMI: 4.00 bits\n",
      "\n"
     ]
    },
    {
     "data": {
      "application/vnd.jupyter.widget-view+json": {
       "model_id": "adc172e675fb45c9a1102074e2eb4339",
       "version_major": 2,
       "version_minor": 0
      },
      "text/plain": [
       "  0%|          | 0/1 [00:00<?, ?it/s]"
      ]
     },
     "metadata": {},
     "output_type": "display_data"
    },
    {
     "name": "stdout",
     "output_type": "stream",
     "text": [
      "CSPR = 11.00 dB\n",
      "Results:\n",
      "BER: 0.00e+00\n",
      "SNR: 43.82 dB\n",
      "SIR =  7.64  dB\n",
      "GMI: 4.00 bits\n",
      "\n"
     ]
    },
    {
     "data": {
      "application/vnd.jupyter.widget-view+json": {
       "model_id": "6a7dea45ef7643669fde2ff746e385eb",
       "version_major": 2,
       "version_minor": 0
      },
      "text/plain": [
       "  0%|          | 0/1 [00:00<?, ?it/s]"
      ]
     },
     "metadata": {},
     "output_type": "display_data"
    },
    {
     "name": "stdout",
     "output_type": "stream",
     "text": [
      "CSPR = 12.00 dB\n",
      "Results:\n",
      "BER: 0.00e+00\n",
      "SNR: 43.85 dB\n",
      "SIR =  7.67  dB\n",
      "GMI: 4.00 bits\n",
      "\n"
     ]
    },
    {
     "data": {
      "application/vnd.jupyter.widget-view+json": {
       "model_id": "e2add832a218427aa61926d29b144485",
       "version_major": 2,
       "version_minor": 0
      },
      "text/plain": [
       "  0%|          | 0/1 [00:00<?, ?it/s]"
      ]
     },
     "metadata": {},
     "output_type": "display_data"
    },
    {
     "name": "stdout",
     "output_type": "stream",
     "text": [
      "CSPR = 13.00 dB\n",
      "Results:\n",
      "BER: 0.00e+00\n",
      "SNR: 44.02 dB\n",
      "SIR =  7.66  dB\n",
      "GMI: 4.00 bits\n",
      "\n"
     ]
    },
    {
     "data": {
      "application/vnd.jupyter.widget-view+json": {
       "model_id": "9d44ae2ffd5e4838911446dc414b71b3",
       "version_major": 2,
       "version_minor": 0
      },
      "text/plain": [
       "  0%|          | 0/1 [00:00<?, ?it/s]"
      ]
     },
     "metadata": {},
     "output_type": "display_data"
    },
    {
     "name": "stdout",
     "output_type": "stream",
     "text": [
      "CSPR = 14.00 dB\n",
      "Results:\n",
      "BER: 0.00e+00\n",
      "SNR: 44.13 dB\n",
      "SIR =  7.66  dB\n",
      "GMI: 4.00 bits\n",
      "\n"
     ]
    },
    {
     "data": {
      "application/vnd.jupyter.widget-view+json": {
       "model_id": "4f469c7c2b4b42f6bc5781cba8b3fe01",
       "version_major": 2,
       "version_minor": 0
      },
      "text/plain": [
       "  0%|          | 0/1 [00:00<?, ?it/s]"
      ]
     },
     "metadata": {},
     "output_type": "display_data"
    },
    {
     "name": "stdout",
     "output_type": "stream",
     "text": [
      "CSPR = 15.00 dB\n",
      "Results:\n",
      "BER: 0.00e+00\n",
      "SNR: 44.17 dB\n",
      "SIR =  7.65  dB\n",
      "GMI: 4.00 bits\n",
      "\n"
     ]
    },
    {
     "data": {
      "application/vnd.jupyter.widget-view+json": {
       "model_id": "aaa4dfc0dca049fd940bb7be14c94886",
       "version_major": 2,
       "version_minor": 0
      },
      "text/plain": [
       "  0%|          | 0/10 [00:00<?, ?it/s]"
      ]
     },
     "metadata": {},
     "output_type": "display_data"
    },
    {
     "data": {
      "application/vnd.jupyter.widget-view+json": {
       "model_id": "15f837cc50974b7f804a816c2e78d3f1",
       "version_major": 2,
       "version_minor": 0
      },
      "text/plain": [
       "  0%|          | 0/1 [00:00<?, ?it/s]"
      ]
     },
     "metadata": {},
     "output_type": "display_data"
    },
    {
     "name": "stdout",
     "output_type": "stream",
     "text": [
      "CSPR = 6.00 dB\n",
      "Results:\n",
      "BER: 0.00e+00\n",
      "SNR: 43.76 dB\n",
      "SIR =  7.65  dB\n",
      "GMI: 4.00 bits\n",
      "\n"
     ]
    },
    {
     "data": {
      "application/vnd.jupyter.widget-view+json": {
       "model_id": "f6dfb94fba6d48bcb3098338a63a8d09",
       "version_major": 2,
       "version_minor": 0
      },
      "text/plain": [
       "  0%|          | 0/1 [00:00<?, ?it/s]"
      ]
     },
     "metadata": {},
     "output_type": "display_data"
    },
    {
     "name": "stdout",
     "output_type": "stream",
     "text": [
      "CSPR = 7.00 dB\n",
      "Results:\n",
      "BER: 0.00e+00\n",
      "SNR: 44.33 dB\n",
      "SIR =  7.65  dB\n",
      "GMI: 4.00 bits\n",
      "\n"
     ]
    },
    {
     "data": {
      "application/vnd.jupyter.widget-view+json": {
       "model_id": "7c0b146a974743b295235ccbc443a310",
       "version_major": 2,
       "version_minor": 0
      },
      "text/plain": [
       "  0%|          | 0/1 [00:00<?, ?it/s]"
      ]
     },
     "metadata": {},
     "output_type": "display_data"
    },
    {
     "name": "stdout",
     "output_type": "stream",
     "text": [
      "CSPR = 8.00 dB\n",
      "Results:\n",
      "BER: 0.00e+00\n",
      "SNR: 44.27 dB\n",
      "SIR =  7.66  dB\n",
      "GMI: 4.00 bits\n",
      "\n"
     ]
    },
    {
     "data": {
      "application/vnd.jupyter.widget-view+json": {
       "model_id": "195f1d6c91814834b9389e33d98f7e69",
       "version_major": 2,
       "version_minor": 0
      },
      "text/plain": [
       "  0%|          | 0/1 [00:00<?, ?it/s]"
      ]
     },
     "metadata": {},
     "output_type": "display_data"
    },
    {
     "name": "stdout",
     "output_type": "stream",
     "text": [
      "CSPR = 9.00 dB\n",
      "Results:\n",
      "BER: 0.00e+00\n",
      "SNR: 44.25 dB\n",
      "SIR =  7.64  dB\n",
      "GMI: 4.00 bits\n",
      "\n"
     ]
    },
    {
     "data": {
      "application/vnd.jupyter.widget-view+json": {
       "model_id": "d81c9a7cc48941678c3ff0018c72aa20",
       "version_major": 2,
       "version_minor": 0
      },
      "text/plain": [
       "  0%|          | 0/1 [00:00<?, ?it/s]"
      ]
     },
     "metadata": {},
     "output_type": "display_data"
    },
    {
     "name": "stdout",
     "output_type": "stream",
     "text": [
      "CSPR = 10.00 dB\n",
      "Results:\n",
      "BER: 0.00e+00\n",
      "SNR: 44.23 dB\n",
      "SIR =  7.64  dB\n",
      "GMI: 4.00 bits\n",
      "\n"
     ]
    },
    {
     "data": {
      "application/vnd.jupyter.widget-view+json": {
       "model_id": "0a1be1c08a384dd7b5eee0bf700a1ce9",
       "version_major": 2,
       "version_minor": 0
      },
      "text/plain": [
       "  0%|          | 0/1 [00:00<?, ?it/s]"
      ]
     },
     "metadata": {},
     "output_type": "display_data"
    },
    {
     "name": "stdout",
     "output_type": "stream",
     "text": [
      "CSPR = 11.00 dB\n",
      "Results:\n",
      "BER: 0.00e+00\n",
      "SNR: 44.26 dB\n",
      "SIR =  7.66  dB\n",
      "GMI: 4.00 bits\n",
      "\n"
     ]
    },
    {
     "data": {
      "application/vnd.jupyter.widget-view+json": {
       "model_id": "ef00d3c740f044d1a81aad901578ad3a",
       "version_major": 2,
       "version_minor": 0
      },
      "text/plain": [
       "  0%|          | 0/1 [00:00<?, ?it/s]"
      ]
     },
     "metadata": {},
     "output_type": "display_data"
    },
    {
     "name": "stdout",
     "output_type": "stream",
     "text": [
      "CSPR = 12.00 dB\n",
      "Results:\n",
      "BER: 0.00e+00\n",
      "SNR: 44.26 dB\n",
      "SIR =  7.66  dB\n",
      "GMI: 4.00 bits\n",
      "\n"
     ]
    },
    {
     "data": {
      "application/vnd.jupyter.widget-view+json": {
       "model_id": "fceab30191734e33a5c9928e9053b6a4",
       "version_major": 2,
       "version_minor": 0
      },
      "text/plain": [
       "  0%|          | 0/1 [00:00<?, ?it/s]"
      ]
     },
     "metadata": {},
     "output_type": "display_data"
    },
    {
     "name": "stdout",
     "output_type": "stream",
     "text": [
      "CSPR = 13.00 dB\n",
      "Results:\n",
      "BER: 0.00e+00\n",
      "SNR: 44.24 dB\n",
      "SIR =  7.66  dB\n",
      "GMI: 4.00 bits\n",
      "\n"
     ]
    },
    {
     "data": {
      "application/vnd.jupyter.widget-view+json": {
       "model_id": "df292f33f504484fa8f785f5d205e088",
       "version_major": 2,
       "version_minor": 0
      },
      "text/plain": [
       "  0%|          | 0/1 [00:00<?, ?it/s]"
      ]
     },
     "metadata": {},
     "output_type": "display_data"
    },
    {
     "name": "stdout",
     "output_type": "stream",
     "text": [
      "CSPR = 14.00 dB\n",
      "Results:\n",
      "BER: 0.00e+00\n",
      "SNR: 44.13 dB\n",
      "SIR =  7.63  dB\n",
      "GMI: 4.00 bits\n",
      "\n"
     ]
    },
    {
     "data": {
      "application/vnd.jupyter.widget-view+json": {
       "model_id": "d508bdee4b294dc38fb0559d8745484b",
       "version_major": 2,
       "version_minor": 0
      },
      "text/plain": [
       "  0%|          | 0/1 [00:00<?, ?it/s]"
      ]
     },
     "metadata": {},
     "output_type": "display_data"
    },
    {
     "name": "stdout",
     "output_type": "stream",
     "text": [
      "CSPR = 15.00 dB\n",
      "Results:\n",
      "BER: 0.00e+00\n",
      "SNR: 43.98 dB\n",
      "SIR =  7.65  dB\n",
      "GMI: 4.00 bits\n",
      "\n"
     ]
    }
   ],
   "source": [
    "loPower = np.arange(6,16,1)\n",
    "BER = np.zeros((3, len(loPower)))\n",
    "SER = np.zeros((3, len(loPower)))\n",
    "GMI = np.zeros((3, len(loPower)))\n",
    "MI  = np.zeros((3, len(loPower)))\n",
    "SNR = np.zeros((3, len(loPower)))\n",
    "SIR = np.zeros((3, len(loPower)))\n",
    "\n",
    "for indfile in range(0, 5):\n",
    "    for indAlg, alg in enumerate(['KK', 'MLP', 'CONVNET']):\n",
    "        for indPower, Plo_dBm in enumerate(tqdm(loPower)):\n",
    "            \n",
    "            # generate optical signal signal\n",
    "            sigTx, symbTx_, paramTx = simpleWDMTx(paramTx)\n",
    "\n",
    "            # simulate linear signal propagation\n",
    "            sigCh = linFiberCh(sigTx, Ltotal, alpha, D, Fc, Fs)\n",
    "\n",
    "            symbTx = symbTx_[:, :, chIndex]\n",
    "            Plo = 10 ** (Plo_dBm / 10) * 1e-3  # power in W\n",
    "\n",
    "            # generate LO field\n",
    "            π = np.pi\n",
    "            t = np.arange(0, len(sigCh))*Ts\n",
    "            ϕ_pn_lo = phaseNoise(lw, len(sigCh), Ts)\n",
    "\n",
    "            sigLO = np.sqrt(Plo) * np.exp(-1j * (2 * π * FO * t + ϕ_lo + ϕ_pn_lo))\n",
    "\n",
    "            # Add LO to the received signal\n",
    "            sigRx = np.sqrt(Plo) + sigCh* np.exp(1j * (2 * π * FO * t + ϕ_lo + ϕ_pn_lo))\n",
    "            sfm   = sigRx.copy()\n",
    "\n",
    "            print('CSPR = %.2f dB'%(10*np.log10(signal_power(sigLO)/signal_power(sigCh))))\n",
    "\n",
    "            # simulate ideal direct-detection optical receiver\n",
    "            Ipd = photodiode(sigRx, paramPD)\n",
    "            Amp = np.sqrt(Ipd.real)\n",
    "            Amp = resample(Amp, paramADC).real\n",
    "\n",
    "            # resampling to ADC sampling rate\n",
    "            sigCh = resample(sigCh, paramADC)\n",
    "            sfm = resample(sfm, paramADC)\n",
    "            newFs = paramADC.SpS_out*paramTx.Rs\n",
    "\n",
    "            sfm = sfm/np.sqrt(signal_power(sfm))\n",
    "            if alg == 'KK':\n",
    "                # Kramers-Kronig phase-retrieval\n",
    "                phiTime = KramersKronigRx(Amp, newFs)\n",
    "                # optical field reconstruction\n",
    "                sigRx = Amp*np.exp(1j*phiTime)\n",
    "\n",
    "            # elif alg == 'MLP':\n",
    "            #     # Mlp phase-retrieval\n",
    "            #     model = tf.keras.models.load_model(r'C:/Users/silas/Documents/PIVIC-PIBIC-Comunicacoes-Opticas/models/NN_models/testModel_SpS_4_CSPR_DataPermuted') \n",
    "            #     #sigPhase = np.angle(sfm) # get signal phase samples (labels) (L,)\n",
    "            #     sigAmp  = np.pad(Amp, (int(N/2), int(N/2)), 'constant') # get signal amplitude samples (L,)\n",
    "            #     # create set of input features\n",
    "            #     X_input = np.zeros((len(sfm), N)) #(L,N)\n",
    "\n",
    "            #     for indPhase in range(len(sfm)):\n",
    "            #         X_input[indPhase] = sigAmp[indPhase:N+indPhase]\n",
    "\n",
    "            #     sigRx_NN = model.predict(X_input)\n",
    "            #     # optical field reconstruction\n",
    "            #     sigRx = sigRx_NN[:,0]+1j*sigRx_NN[:,1]\n",
    "\n",
    "            # elif alg == 'CONVNET':\n",
    "            #     # ConvNet phase-retrieval\n",
    "            #     model = tf.keras.models.load_model(r'C:/Users/silas/Documents/PIVIC-PIBIC-Comunicacoes-Opticas/models/Conv_models/testModel_SpS_4_CSPR_DataPermuted')\n",
    "            #     #sigPhase = np.angle(sfm) # get signal phase samples (labels) (L,)\n",
    "            #     sigAmp  = np.pad(Amp, (int(N/2), int(N/2)), 'constant') # get signal amplitude samples (L,)\n",
    "            #     # create set of input features\n",
    "            #     X_input = np.zeros((len(sfm), N)) #(L,N)\n",
    "\n",
    "            #     for indPhase in range(len(sfm)):\n",
    "            #         X_input[indPhase] = sigAmp[indPhase:N+indPhase]\n",
    "\n",
    "            #     sigRx_NN = model.predict(X_input)\n",
    "            #     # optical field reconstruction\n",
    "            #     sigRx = sigRx_NN[:,0]+1j*sigRx_NN[:,1]    \n",
    "\n",
    "            # remove DC level\n",
    "            sigRx -= np.mean(sigRx) # np.sqrt(Plo)  \n",
    "\n",
    "            # downshift to baseband\n",
    "            t = np.arange(0, len(sigRx))*(1/newFs)\n",
    "            sigRx *= np.exp(-1j * (2 * π * FO * t))\n",
    "            \n",
    "            # Matched filtering\n",
    "            if paramTx.pulse == \"nrz\":\n",
    "                pulse = pulseShape(\"nrz\", paramADC.SpS_out)\n",
    "            elif paramTx.pulse == \"rrc\":\n",
    "                pulse = pulseShape(\n",
    "                    \"rrc\", paramADC.SpS_out, N=paramTx.Ntaps, alpha=paramTx.alphaRRC, Ts=1 / paramTx.Rs\n",
    "                )\n",
    "\n",
    "            pulse = pulse / np.max(np.abs(pulse))\n",
    "            sigRx = firFilter(pulse, sigRx)\n",
    "            sigCh = firFilter(pulse, sigCh)\n",
    "            \n",
    "            # correct for (possible) phase ambiguity\n",
    "            rot = np.mean(sigCh/sigRx)\n",
    "            sigRx = rot * sigRx\n",
    "            sigRx = sigRx / np.sqrt(signal_power(sigRx))\n",
    "\n",
    "            intf = sigRx/np.sqrt(signal_power(sigRx))-sigCh/np.sqrt(signal_power(sigCh))\n",
    "\n",
    "            SIR[indAlg, indPower] = 1/signal_power(intf)\n",
    "\n",
    "\n",
    "            # resample to 2 samples/symbol:\n",
    "            paramRes = parameters()\n",
    "            paramRes.Rs = paramTx.Rs\n",
    "            paramRes.SpS_in  = paramADC.SpS_out\n",
    "            paramRes.SpS_out = 2\n",
    "\n",
    "            sigRx = resample(sigRx, paramRes)\n",
    "\n",
    "            # CD compensation\n",
    "            sigRx = edc(sigRx, Ltotal, D, Fc, paramRes.SpS_out*paramTx.Rs)\n",
    "\n",
    "            # Downsampling to 2 sps and re-synchronization with transmitted sequences\n",
    "            sigRx = sigRx.reshape(-1, 1)\n",
    "\n",
    "            symbRx = symbolSync(sigRx, symbTx, 2)\n",
    "\n",
    "            # Power normalization\n",
    "            x = sigRx\n",
    "            d = symbRx\n",
    "\n",
    "            x = x.reshape(len(x), 1) / np.sqrt(signal_power(x))\n",
    "            d = d.reshape(len(d), 1) / np.sqrt(signal_power(d))\n",
    "\n",
    "            # Adaptive equalization\n",
    "            mod = QAMModem(m=paramTx.M)\n",
    "\n",
    "            paramEq = parameters()\n",
    "            paramEq.nTaps = 15\n",
    "            paramEq.SpS = 2\n",
    "            paramEq.mu = [1e-3, 5e-4]\n",
    "            paramEq.numIter = 5\n",
    "            paramEq.storeCoeff = False\n",
    "            paramEq.alg = [\"da-rde\", \"rde\"]\n",
    "            paramEq.M = paramTx.M\n",
    "            paramEq.L = [20000, 80000]\n",
    "            paramEq.prgsBar = False\n",
    "\n",
    "            y_EQ, H, errSq, Hiter = mimoAdaptEqualizer(x, dx=d, paramEq=paramEq)\n",
    "\n",
    "            # Carrier phase recovery\n",
    "            paramCPR = parameters()\n",
    "            paramCPR.alg = \"bps\"\n",
    "            paramCPR.M = paramTx.M\n",
    "            paramCPR.N = 85\n",
    "            paramCPR.B = 64\n",
    "            paramCPR.pilotInd = np.arange(0, len(y_EQ), 20)\n",
    "\n",
    "            y_CPR, θ = cpr(y_EQ, symbTx=d, paramCPR=paramCPR)\n",
    "\n",
    "            y_CPR = y_CPR / np.sqrt(signal_power(y_CPR))\n",
    "\n",
    "            # correct for (possible) phase ambiguity\n",
    "            for k in range(y_CPR.shape[1]):\n",
    "                rot = np.mean(d[:, k] / y_CPR[:, k])\n",
    "                y_CPR[:, k] = rot * y_CPR[:, k]\n",
    "\n",
    "            y_CPR = y_CPR / np.sqrt(signal_power(y_CPR))\n",
    "\n",
    "            discard = int(paramEq.L[0]/2)\n",
    "\n",
    "            ind = np.arange(discard, d.shape[0] - discard)\n",
    "            BER[indAlg,indPower], SER[indAlg,indPower], SNR[indAlg,indPower] = fastBERcalc(y_CPR[ind, :], d[ind, :], paramTx.M, 'qam')\n",
    "            GMI[indAlg,indPower], _ = monteCarloGMI(y_CPR[ind, :], d[ind, :],  paramTx.M, 'qam')\n",
    "            MI[indAlg,indPower] = monteCarloMI(y_CPR[ind, :], d[ind, :],  paramTx.M, 'qam')\n",
    "\n",
    "            print(\"Results:\")\n",
    "            print(\"BER: %.2e\" %(BER[indAlg,indPower]))\n",
    "            print(\"SNR: %.2f dB\" %(SNR[indAlg,indPower]))\n",
    "            print('SIR = ', round(10*np.log10(SIR[indAlg,indPower]), 2), ' dB')\n",
    "            print(\"GMI: %.2f bits\\n\" %(GMI[indAlg,indPower]))\n",
    "\n",
    "    if saveData:      \n",
    "        # save the simulation data\n",
    "        np.save(path_data+'CSPR_BER_SpS_'+str(paramADC.SpS_out)+'_'+str(N)+'_Sample_'+str(indfile)+'_DataPermuted_KK', BER)\n",
    "        np.save(path_data+'CSPR_SNR_SpS_'+str(paramADC.SpS_out)+'_'+str(N)+'_Sample_'+str(indfile)+'_DataPermuted_KK', SNR)\n",
    "        np.save(path_data+'CSPR_SIR_SpS_'+str(paramADC.SpS_out)+'_'+str(N)+'_Sample_'+str(indfile)+'_DataPermuted_KK', SIR)\n",
    "        np.save(path_data+'CSPR_SER_SpS_'+str(paramADC.SpS_out)+'_'+str(N)+'_Sample_'+str(indfile)+'_DataPermuted_KK', SER)"
   ]
  },
  {
   "attachments": {},
   "cell_type": "markdown",
   "metadata": {},
   "source": [
    "## Simulation of a single polarization optical signal transmission"
   ]
  },
  {
   "cell_type": "code",
   "execution_count": 5,
   "metadata": {},
   "outputs": [],
   "source": [
    "## Transmitter parameters:\n",
    "paramTx = parameters()\n",
    "paramTx.M = 16                 # order of the modulation format\n",
    "paramTx.Rs = 32e9              # symbol rate [baud]\n",
    "paramTx.SpS = 4                # samples per symbol\n",
    "paramTx.Nbits = 400000         # total number of bits per polarization\n",
    "paramTx.pulse = \"rrc\"          # pulse shaping filter\n",
    "paramTx.Ntaps = 1024           # number of pulse shaping filter coefficients\n",
    "paramTx.alphaRRC = 0.05         # RRC rolloff\n",
    "paramTx.Pch_dBm = 0            # power of the optical signal [dBm]\n",
    "paramTx.Nch = 1                # number of WDM channels\n",
    "paramTx.Fc = 193.1e12          # central frequency of the optical spectrum\n",
    "paramTx.freqSpac = 37.5e9      # WDM grid spacing\n",
    "\n",
    "## Optical channel parameters:\n",
    "Ltotal = 100     # total link distance [km]\n",
    "alpha = 0        # fiber loss parameter [dB/km]\n",
    "D = 17           # fiber dispersion parameter [ps/nm/km]\n",
    "Fc = paramTx.Fc  # central optical frequency of the WDM spectrum [Hz]\n",
    "\n",
    "## Receiver parameters:\n",
    "\n",
    "# local oscillator (LO)\n",
    "FO = paramTx.Rs/2  # frequency offset\n",
    "lw = 0*200e3       # linewidth\n",
    "ϕ_lo = 0           # initial phase in rad\n",
    "#Plo_dBm = 12      # power in dBm\n",
    "\n",
    "# ADC sampling rate\n",
    "paramADC = parameters()\n",
    "paramADC.Rs = paramTx.Rs\n",
    "paramADC.SpS_in = paramTx.SpS\n",
    "paramADC.SpS_out = 4\n",
    "\n",
    "## General simulation parameters:\n",
    "chIndex = 0  # index of the channel to be demodulated\n",
    "plotPSD = True\n",
    "Fs = paramTx.Rs * paramTx.SpS  # simulation sampling rate\n",
    "Ts = 1 / Fs\n",
    "\n",
    "# photodiode parameters\n",
    "paramPD = parameters()\n",
    "paramPD.B  = 1.1*paramTx.Rs\n",
    "paramPD.Fs = Fs"
   ]
  },
  {
   "attachments": {},
   "cell_type": "markdown",
   "metadata": {},
   "source": [
    "## Run all CSPR variations AWGN"
   ]
  },
  {
   "cell_type": "code",
   "execution_count": 7,
   "metadata": {},
   "outputs": [
    {
     "data": {
      "application/vnd.jupyter.widget-view+json": {
       "model_id": "2fd484031cc64355a7df19e1df41d83b",
       "version_major": 2,
       "version_minor": 0
      },
      "text/plain": [
       "  0%|          | 0/10 [00:00<?, ?it/s]"
      ]
     },
     "metadata": {},
     "output_type": "display_data"
    },
    {
     "data": {
      "application/vnd.jupyter.widget-view+json": {
       "model_id": "5e44cdf122f24d0aa46faca5bacd37c2",
       "version_major": 2,
       "version_minor": 0
      },
      "text/plain": [
       "  0%|          | 0/10 [00:00<?, ?it/s]"
      ]
     },
     "metadata": {},
     "output_type": "display_data"
    },
    {
     "data": {
      "application/vnd.jupyter.widget-view+json": {
       "model_id": "66bbd86d3e2046909b2cffa67b00cc1d",
       "version_major": 2,
       "version_minor": 0
      },
      "text/plain": [
       "  0%|          | 0/1 [00:00<?, ?it/s]"
      ]
     },
     "metadata": {},
     "output_type": "display_data"
    },
    {
     "name": "stdout",
     "output_type": "stream",
     "text": [
      "CSPR = 6.00 dB\n",
      "Results:\n",
      "BER: 3.43e-02\n",
      "SNR: 11.69 dB\n",
      "SIR =  13.41  dB\n",
      "GMI: 3.47 bits\n",
      "\n"
     ]
    },
    {
     "data": {
      "application/vnd.jupyter.widget-view+json": {
       "model_id": "82e2ef2b4f5549de9bc7c1c6f6727599",
       "version_major": 2,
       "version_minor": 0
      },
      "text/plain": [
       "  0%|          | 0/1 [00:00<?, ?it/s]"
      ]
     },
     "metadata": {},
     "output_type": "display_data"
    },
    {
     "name": "stdout",
     "output_type": "stream",
     "text": [
      "CSPR = 6.00 dB\n",
      "Results:\n",
      "BER: 2.47e-02\n",
      "SNR: 12.45 dB\n",
      "SIR =  13.98  dB\n",
      "GMI: 3.60 bits\n",
      "\n"
     ]
    },
    {
     "data": {
      "application/vnd.jupyter.widget-view+json": {
       "model_id": "e31ba5d81bde42a289588af8101b3190",
       "version_major": 2,
       "version_minor": 0
      },
      "text/plain": [
       "  0%|          | 0/1 [00:00<?, ?it/s]"
      ]
     },
     "metadata": {},
     "output_type": "display_data"
    },
    {
     "name": "stdout",
     "output_type": "stream",
     "text": [
      "CSPR = 6.00 dB\n"
     ]
    },
    {
     "name": "stderr",
     "output_type": "stream",
     "text": [
      "C:\\Users\\optic\\AppData\\Local\\Temp\\ipykernel_1248\\1752712154.py:107: RuntimeWarning: invalid value encountered in divide\n",
      "  rot = np.mean(sigCh/sigRx)\n",
      "C:\\Users\\optic\\AppData\\Local\\Temp\\ipykernel_1248\\1752712154.py:109: RuntimeWarning: invalid value encountered in divide\n",
      "  sigRx = sigRx / np.sqrt(signal_power(sigRx))\n",
      "C:\\Users\\optic\\AppData\\Local\\Temp\\ipykernel_1248\\1752712154.py:111: RuntimeWarning: invalid value encountered in divide\n",
      "  intf = sigRx/np.sqrt(signal_power(sigRx))-sigCh/np.sqrt(signal_power(sigCh))\n",
      "C:\\Users\\optic\\AppData\\Local\\Temp\\ipykernel_1248\\1752712154.py:136: RuntimeWarning: invalid value encountered in divide\n",
      "  x = x.reshape(len(x), 1) / np.sqrt(signal_power(x))\n"
     ]
    },
    {
     "name": "stdout",
     "output_type": "stream",
     "text": [
      "Results:\n",
      "BER: 4.99e-01\n",
      "SNR: nan dB\n",
      "SIR =  nan  dB\n",
      "GMI: nan bits\n",
      "\n"
     ]
    },
    {
     "name": "stderr",
     "output_type": "stream",
     "text": [
      "C:\\Users\\optic\\AppData\\Local\\Temp\\ipykernel_1248\\1752712154.py:165: RuntimeWarning: invalid value encountered in divide\n",
      "  y_CPR = y_CPR / np.sqrt(signal_power(y_CPR))\n",
      "C:\\Users\\optic\\AppData\\Local\\Temp\\ipykernel_1248\\1752712154.py:169: RuntimeWarning: invalid value encountered in divide\n",
      "  rot = np.mean(d[:, k] / y_CPR[:, k])\n",
      "C:\\Users\\optic\\AppData\\Local\\Temp\\ipykernel_1248\\1752712154.py:172: RuntimeWarning: invalid value encountered in divide\n",
      "  y_CPR = y_CPR / np.sqrt(signal_power(y_CPR))\n"
     ]
    },
    {
     "data": {
      "application/vnd.jupyter.widget-view+json": {
       "model_id": "110dbd5bb8f94ca6bad5dee5e37cbc70",
       "version_major": 2,
       "version_minor": 0
      },
      "text/plain": [
       "  0%|          | 0/1 [00:00<?, ?it/s]"
      ]
     },
     "metadata": {},
     "output_type": "display_data"
    },
    {
     "name": "stdout",
     "output_type": "stream",
     "text": [
      "CSPR = 6.00 dB\n",
      "Results:\n",
      "BER: 1.15e-02\n",
      "SNR: 13.99 dB\n",
      "SIR =  15.25  dB\n",
      "GMI: 3.79 bits\n",
      "\n"
     ]
    },
    {
     "data": {
      "application/vnd.jupyter.widget-view+json": {
       "model_id": "5adfc82847db4fd68a05d138a5f4d9c4",
       "version_major": 2,
       "version_minor": 0
      },
      "text/plain": [
       "  0%|          | 0/1 [00:00<?, ?it/s]"
      ]
     },
     "metadata": {},
     "output_type": "display_data"
    },
    {
     "name": "stdout",
     "output_type": "stream",
     "text": [
      "CSPR = 6.00 dB\n",
      "Results:\n",
      "BER: 7.84e-03\n",
      "SNR: 14.70 dB\n",
      "SIR =  15.69  dB\n",
      "GMI: 3.84 bits\n",
      "\n"
     ]
    },
    {
     "data": {
      "application/vnd.jupyter.widget-view+json": {
       "model_id": "9db8a3e9465d49f89b793da14776bf46",
       "version_major": 2,
       "version_minor": 0
      },
      "text/plain": [
       "  0%|          | 0/1 [00:00<?, ?it/s]"
      ]
     },
     "metadata": {},
     "output_type": "display_data"
    },
    {
     "name": "stdout",
     "output_type": "stream",
     "text": [
      "CSPR = 6.00 dB\n",
      "Results:\n",
      "BER: 5.67e-03\n",
      "SNR: 15.34 dB\n",
      "SIR =  16.16  dB\n",
      "GMI: 3.87 bits\n",
      "\n"
     ]
    },
    {
     "data": {
      "application/vnd.jupyter.widget-view+json": {
       "model_id": "0a6b8a6393324765a0d0267597148730",
       "version_major": 2,
       "version_minor": 0
      },
      "text/plain": [
       "  0%|          | 0/1 [00:00<?, ?it/s]"
      ]
     },
     "metadata": {},
     "output_type": "display_data"
    },
    {
     "name": "stdout",
     "output_type": "stream",
     "text": [
      "CSPR = 6.00 dB\n",
      "Results:\n",
      "BER: 4.20e-03\n",
      "SNR: 15.95 dB\n",
      "SIR =  16.6  dB\n",
      "GMI: 3.88 bits\n",
      "\n"
     ]
    },
    {
     "data": {
      "application/vnd.jupyter.widget-view+json": {
       "model_id": "7c2b0706a5444331a27d099b01870e15",
       "version_major": 2,
       "version_minor": 0
      },
      "text/plain": [
       "  0%|          | 0/1 [00:00<?, ?it/s]"
      ]
     },
     "metadata": {},
     "output_type": "display_data"
    },
    {
     "name": "stdout",
     "output_type": "stream",
     "text": [
      "CSPR = 6.00 dB\n",
      "Results:\n",
      "BER: 3.22e-03\n",
      "SNR: 16.62 dB\n",
      "SIR =  17.11  dB\n",
      "GMI: 3.90 bits\n",
      "\n"
     ]
    },
    {
     "data": {
      "application/vnd.jupyter.widget-view+json": {
       "model_id": "4ffb98971bbf4b3484a6cce9c9be0534",
       "version_major": 2,
       "version_minor": 0
      },
      "text/plain": [
       "  0%|          | 0/1 [00:00<?, ?it/s]"
      ]
     },
     "metadata": {},
     "output_type": "display_data"
    },
    {
     "name": "stdout",
     "output_type": "stream",
     "text": [
      "CSPR = 6.00 dB\n",
      "Results:\n",
      "BER: 3.72e-03\n",
      "SNR: 16.87 dB\n",
      "SIR =  17.21  dB\n",
      "GMI: 3.86 bits\n",
      "\n"
     ]
    },
    {
     "data": {
      "application/vnd.jupyter.widget-view+json": {
       "model_id": "f6a97ca95fdf409aa8f663a13466bf6b",
       "version_major": 2,
       "version_minor": 0
      },
      "text/plain": [
       "  0%|          | 0/1 [00:00<?, ?it/s]"
      ]
     },
     "metadata": {},
     "output_type": "display_data"
    },
    {
     "name": "stdout",
     "output_type": "stream",
     "text": [
      "CSPR = 6.00 dB\n",
      "Results:\n",
      "BER: 2.90e-03\n",
      "SNR: 17.33 dB\n",
      "SIR =  17.51  dB\n",
      "GMI: 3.88 bits\n",
      "\n"
     ]
    },
    {
     "data": {
      "application/vnd.jupyter.widget-view+json": {
       "model_id": "bcd2230baa564fd9b224d0df209aae89",
       "version_major": 2,
       "version_minor": 0
      },
      "text/plain": [
       "  0%|          | 0/10 [00:00<?, ?it/s]"
      ]
     },
     "metadata": {},
     "output_type": "display_data"
    },
    {
     "data": {
      "application/vnd.jupyter.widget-view+json": {
       "model_id": "390633c9fda74c81b05e8ac6b2b37c42",
       "version_major": 2,
       "version_minor": 0
      },
      "text/plain": [
       "  0%|          | 0/1 [00:00<?, ?it/s]"
      ]
     },
     "metadata": {},
     "output_type": "display_data"
    },
    {
     "name": "stdout",
     "output_type": "stream",
     "text": [
      "CSPR = 7.00 dB\n",
      "Results:\n",
      "BER: 5.00e-01\n",
      "SNR: nan dB\n",
      "SIR =  nan  dB\n",
      "GMI: nan bits\n",
      "\n"
     ]
    },
    {
     "data": {
      "application/vnd.jupyter.widget-view+json": {
       "model_id": "7649362369f345888701533d3c60e164",
       "version_major": 2,
       "version_minor": 0
      },
      "text/plain": [
       "  0%|          | 0/1 [00:00<?, ?it/s]"
      ]
     },
     "metadata": {},
     "output_type": "display_data"
    },
    {
     "name": "stdout",
     "output_type": "stream",
     "text": [
      "CSPR = 7.00 dB\n",
      "Results:\n",
      "BER: 1.78e-02\n",
      "SNR: 13.04 dB\n",
      "SIR =  14.87  dB\n",
      "GMI: 3.72 bits\n",
      "\n"
     ]
    },
    {
     "data": {
      "application/vnd.jupyter.widget-view+json": {
       "model_id": "a4408869a8664dacbd0d31367ad4788f",
       "version_major": 2,
       "version_minor": 0
      },
      "text/plain": [
       "  0%|          | 0/1 [00:00<?, ?it/s]"
      ]
     },
     "metadata": {},
     "output_type": "display_data"
    },
    {
     "name": "stdout",
     "output_type": "stream",
     "text": [
      "CSPR = 7.00 dB\n",
      "Results:\n",
      "BER: 1.23e-02\n",
      "SNR: 13.75 dB\n",
      "SIR =  15.4  dB\n",
      "GMI: 3.79 bits\n",
      "\n"
     ]
    },
    {
     "data": {
      "application/vnd.jupyter.widget-view+json": {
       "model_id": "17f70ac783994197abb0bc0677258ae8",
       "version_major": 2,
       "version_minor": 0
      },
      "text/plain": [
       "  0%|          | 0/1 [00:00<?, ?it/s]"
      ]
     },
     "metadata": {},
     "output_type": "display_data"
    },
    {
     "name": "stdout",
     "output_type": "stream",
     "text": [
      "CSPR = 7.00 dB\n",
      "Results:\n",
      "BER: 7.16e-03\n",
      "SNR: 14.65 dB\n",
      "SIR =  16.14  dB\n",
      "GMI: 3.87 bits\n",
      "\n"
     ]
    },
    {
     "data": {
      "application/vnd.jupyter.widget-view+json": {
       "model_id": "883c0efb0afd41a6b642dfc49ba7281e",
       "version_major": 2,
       "version_minor": 0
      },
      "text/plain": [
       "  0%|          | 0/1 [00:00<?, ?it/s]"
      ]
     },
     "metadata": {},
     "output_type": "display_data"
    },
    {
     "name": "stdout",
     "output_type": "stream",
     "text": [
      "CSPR = 7.00 dB\n",
      "Results:\n",
      "BER: 4.26e-03\n",
      "SNR: 15.40 dB\n",
      "SIR =  16.69  dB\n",
      "GMI: 3.92 bits\n",
      "\n"
     ]
    },
    {
     "data": {
      "application/vnd.jupyter.widget-view+json": {
       "model_id": "32b2b38b5b9d4314b5218d7fd17f69fa",
       "version_major": 2,
       "version_minor": 0
      },
      "text/plain": [
       "  0%|          | 0/1 [00:00<?, ?it/s]"
      ]
     },
     "metadata": {},
     "output_type": "display_data"
    },
    {
     "name": "stdout",
     "output_type": "stream",
     "text": [
      "CSPR = 7.00 dB\n",
      "Results:\n",
      "BER: 2.59e-03\n",
      "SNR: 16.19 dB\n",
      "SIR =  17.29  dB\n",
      "GMI: 3.94 bits\n",
      "\n"
     ]
    },
    {
     "data": {
      "application/vnd.jupyter.widget-view+json": {
       "model_id": "846474b4d57a49a99af0f192c6135651",
       "version_major": 2,
       "version_minor": 0
      },
      "text/plain": [
       "  0%|          | 0/1 [00:00<?, ?it/s]"
      ]
     },
     "metadata": {},
     "output_type": "display_data"
    },
    {
     "name": "stdout",
     "output_type": "stream",
     "text": [
      "CSPR = 7.00 dB\n",
      "Results:\n",
      "BER: 1.79e-03\n",
      "SNR: 16.82 dB\n",
      "SIR =  17.65  dB\n",
      "GMI: 3.95 bits\n",
      "\n"
     ]
    },
    {
     "data": {
      "application/vnd.jupyter.widget-view+json": {
       "model_id": "b8973282487049d1971975b1f72ba860",
       "version_major": 2,
       "version_minor": 0
      },
      "text/plain": [
       "  0%|          | 0/1 [00:00<?, ?it/s]"
      ]
     },
     "metadata": {},
     "output_type": "display_data"
    },
    {
     "name": "stdout",
     "output_type": "stream",
     "text": [
      "CSPR = 7.00 dB\n",
      "Results:\n",
      "BER: 1.38e-03\n",
      "SNR: 17.42 dB\n",
      "SIR =  18.08  dB\n",
      "GMI: 3.95 bits\n",
      "\n"
     ]
    },
    {
     "data": {
      "application/vnd.jupyter.widget-view+json": {
       "model_id": "54f204989a78433fa5684f502e4c80a4",
       "version_major": 2,
       "version_minor": 0
      },
      "text/plain": [
       "  0%|          | 0/1 [00:00<?, ?it/s]"
      ]
     },
     "metadata": {},
     "output_type": "display_data"
    },
    {
     "name": "stdout",
     "output_type": "stream",
     "text": [
      "CSPR = 7.00 dB\n",
      "Results:\n",
      "BER: 1.03e-03\n",
      "SNR: 18.07 dB\n",
      "SIR =  18.59  dB\n",
      "GMI: 3.96 bits\n",
      "\n"
     ]
    },
    {
     "data": {
      "application/vnd.jupyter.widget-view+json": {
       "model_id": "900d7941bbb14d91a08c387bbc10d4af",
       "version_major": 2,
       "version_minor": 0
      },
      "text/plain": [
       "  0%|          | 0/1 [00:00<?, ?it/s]"
      ]
     },
     "metadata": {},
     "output_type": "display_data"
    },
    {
     "name": "stdout",
     "output_type": "stream",
     "text": [
      "CSPR = 7.00 dB\n",
      "Results:\n",
      "BER: 1.05e-03\n",
      "SNR: 18.48 dB\n",
      "SIR =  18.79  dB\n",
      "GMI: 3.95 bits\n",
      "\n"
     ]
    },
    {
     "data": {
      "application/vnd.jupyter.widget-view+json": {
       "model_id": "047daf2f2dd34cbabfc0a3570269af9c",
       "version_major": 2,
       "version_minor": 0
      },
      "text/plain": [
       "  0%|          | 0/10 [00:00<?, ?it/s]"
      ]
     },
     "metadata": {},
     "output_type": "display_data"
    },
    {
     "data": {
      "application/vnd.jupyter.widget-view+json": {
       "model_id": "52eae07c80d148c2ba17fc1842aaf8c4",
       "version_major": 2,
       "version_minor": 0
      },
      "text/plain": [
       "  0%|          | 0/1 [00:00<?, ?it/s]"
      ]
     },
     "metadata": {},
     "output_type": "display_data"
    },
    {
     "name": "stdout",
     "output_type": "stream",
     "text": [
      "CSPR = 8.00 dB\n",
      "Results:\n",
      "BER: 2.51e-02\n",
      "SNR: 12.40 dB\n",
      "SIR =  14.57  dB\n",
      "GMI: 3.62 bits\n",
      "\n"
     ]
    },
    {
     "data": {
      "application/vnd.jupyter.widget-view+json": {
       "model_id": "a3ff81a029844949a53ad01d7cb89822",
       "version_major": 2,
       "version_minor": 0
      },
      "text/plain": [
       "  0%|          | 0/1 [00:00<?, ?it/s]"
      ]
     },
     "metadata": {},
     "output_type": "display_data"
    },
    {
     "name": "stdout",
     "output_type": "stream",
     "text": [
      "CSPR = 8.00 dB\n",
      "Results:\n",
      "BER: 1.56e-02\n",
      "SNR: 13.28 dB\n",
      "SIR =  15.31  dB\n",
      "GMI: 3.75 bits\n",
      "\n"
     ]
    },
    {
     "data": {
      "application/vnd.jupyter.widget-view+json": {
       "model_id": "eaf941b52d714f2c9dbecfb68b3d4a35",
       "version_major": 2,
       "version_minor": 0
      },
      "text/plain": [
       "  0%|          | 0/1 [00:00<?, ?it/s]"
      ]
     },
     "metadata": {},
     "output_type": "display_data"
    },
    {
     "name": "stdout",
     "output_type": "stream",
     "text": [
      "CSPR = 8.00 dB\n",
      "Results:\n",
      "BER: 9.26e-03\n",
      "SNR: 14.14 dB\n",
      "SIR =  16.02  dB\n",
      "GMI: 3.85 bits\n",
      "\n"
     ]
    },
    {
     "data": {
      "application/vnd.jupyter.widget-view+json": {
       "model_id": "11db58e53a274b9ca7fe7dfc25afac44",
       "version_major": 2,
       "version_minor": 0
      },
      "text/plain": [
       "  0%|          | 0/1 [00:00<?, ?it/s]"
      ]
     },
     "metadata": {},
     "output_type": "display_data"
    },
    {
     "name": "stdout",
     "output_type": "stream",
     "text": [
      "CSPR = 8.00 dB\n",
      "Results:\n",
      "BER: 5.15e-03\n",
      "SNR: 15.00 dB\n",
      "SIR =  16.72  dB\n",
      "GMI: 3.91 bits\n",
      "\n"
     ]
    },
    {
     "data": {
      "application/vnd.jupyter.widget-view+json": {
       "model_id": "75f4392c98544282b686c8df6efa6753",
       "version_major": 2,
       "version_minor": 0
      },
      "text/plain": [
       "  0%|          | 0/1 [00:00<?, ?it/s]"
      ]
     },
     "metadata": {},
     "output_type": "display_data"
    },
    {
     "name": "stdout",
     "output_type": "stream",
     "text": [
      "CSPR = 8.00 dB\n",
      "Results:\n",
      "BER: 2.69e-03\n",
      "SNR: 15.85 dB\n",
      "SIR =  17.34  dB\n",
      "GMI: 3.95 bits\n",
      "\n"
     ]
    },
    {
     "data": {
      "application/vnd.jupyter.widget-view+json": {
       "model_id": "0fc1535f8a804909a6e020b2c631410f",
       "version_major": 2,
       "version_minor": 0
      },
      "text/plain": [
       "  0%|          | 0/1 [00:00<?, ?it/s]"
      ]
     },
     "metadata": {},
     "output_type": "display_data"
    },
    {
     "name": "stdout",
     "output_type": "stream",
     "text": [
      "CSPR = 8.00 dB\n",
      "Results:\n",
      "BER: 1.39e-03\n",
      "SNR: 16.65 dB\n",
      "SIR =  17.92  dB\n",
      "GMI: 3.97 bits\n",
      "\n"
     ]
    },
    {
     "data": {
      "application/vnd.jupyter.widget-view+json": {
       "model_id": "29f96623cc4a4a8facb0d3101704817d",
       "version_major": 2,
       "version_minor": 0
      },
      "text/plain": [
       "  0%|          | 0/1 [00:00<?, ?it/s]"
      ]
     },
     "metadata": {},
     "output_type": "display_data"
    },
    {
     "name": "stdout",
     "output_type": "stream",
     "text": [
      "CSPR = 8.00 dB\n",
      "Results:\n",
      "BER: 7.28e-04\n",
      "SNR: 17.35 dB\n",
      "SIR =  18.4  dB\n",
      "GMI: 3.98 bits\n",
      "\n"
     ]
    },
    {
     "data": {
      "application/vnd.jupyter.widget-view+json": {
       "model_id": "afd2eb2db1ee4def980cc7e6948b5cf1",
       "version_major": 2,
       "version_minor": 0
      },
      "text/plain": [
       "  0%|          | 0/1 [00:00<?, ?it/s]"
      ]
     },
     "metadata": {},
     "output_type": "display_data"
    },
    {
     "name": "stdout",
     "output_type": "stream",
     "text": [
      "CSPR = 8.00 dB\n",
      "Results:\n",
      "BER: 4.19e-04\n",
      "SNR: 18.03 dB\n",
      "SIR =  18.84  dB\n",
      "GMI: 3.99 bits\n",
      "\n"
     ]
    },
    {
     "data": {
      "application/vnd.jupyter.widget-view+json": {
       "model_id": "c48b9e26d27d41578d62b3a5a626c2d0",
       "version_major": 2,
       "version_minor": 0
      },
      "text/plain": [
       "  0%|          | 0/1 [00:00<?, ?it/s]"
      ]
     },
     "metadata": {},
     "output_type": "display_data"
    },
    {
     "name": "stdout",
     "output_type": "stream",
     "text": [
      "CSPR = 8.00 dB\n",
      "Results:\n",
      "BER: 3.16e-04\n",
      "SNR: 18.62 dB\n",
      "SIR =  19.25  dB\n",
      "GMI: 3.99 bits\n",
      "\n"
     ]
    },
    {
     "data": {
      "application/vnd.jupyter.widget-view+json": {
       "model_id": "2381e4085b2f411fa8c35a77bd5caabc",
       "version_major": 2,
       "version_minor": 0
      },
      "text/plain": [
       "  0%|          | 0/1 [00:00<?, ?it/s]"
      ]
     },
     "metadata": {},
     "output_type": "display_data"
    },
    {
     "name": "stdout",
     "output_type": "stream",
     "text": [
      "CSPR = 8.00 dB\n",
      "Results:\n",
      "BER: 3.25e-04\n",
      "SNR: 19.22 dB\n",
      "SIR =  19.62  dB\n",
      "GMI: 3.98 bits\n",
      "\n"
     ]
    },
    {
     "data": {
      "application/vnd.jupyter.widget-view+json": {
       "model_id": "095aa3aa41f44dbd81ec3870530bd720",
       "version_major": 2,
       "version_minor": 0
      },
      "text/plain": [
       "  0%|          | 0/10 [00:00<?, ?it/s]"
      ]
     },
     "metadata": {},
     "output_type": "display_data"
    },
    {
     "data": {
      "application/vnd.jupyter.widget-view+json": {
       "model_id": "40509fda946748f1917a8404eb3b63a2",
       "version_major": 2,
       "version_minor": 0
      },
      "text/plain": [
       "  0%|          | 0/1 [00:00<?, ?it/s]"
      ]
     },
     "metadata": {},
     "output_type": "display_data"
    },
    {
     "name": "stdout",
     "output_type": "stream",
     "text": [
      "CSPR = 9.00 dB\n",
      "Results:\n",
      "BER: 2.24e-02\n",
      "SNR: 12.59 dB\n",
      "SIR =  14.92  dB\n",
      "GMI: 3.65 bits\n",
      "\n"
     ]
    },
    {
     "data": {
      "application/vnd.jupyter.widget-view+json": {
       "model_id": "6481fce90a7f489cad7bbb79273e3088",
       "version_major": 2,
       "version_minor": 0
      },
      "text/plain": [
       "  0%|          | 0/1 [00:00<?, ?it/s]"
      ]
     },
     "metadata": {},
     "output_type": "display_data"
    },
    {
     "name": "stdout",
     "output_type": "stream",
     "text": [
      "CSPR = 9.00 dB\n",
      "Results:\n",
      "BER: 1.40e-02\n",
      "SNR: 13.45 dB\n",
      "SIR =  15.65  dB\n",
      "GMI: 3.78 bits\n",
      "\n"
     ]
    },
    {
     "data": {
      "application/vnd.jupyter.widget-view+json": {
       "model_id": "fa5ea76485d945e19dad901463510d8a",
       "version_major": 2,
       "version_minor": 0
      },
      "text/plain": [
       "  0%|          | 0/1 [00:00<?, ?it/s]"
      ]
     },
     "metadata": {},
     "output_type": "display_data"
    },
    {
     "name": "stdout",
     "output_type": "stream",
     "text": [
      "CSPR = 9.00 dB\n",
      "Results:\n",
      "BER: 7.41e-03\n",
      "SNR: 14.42 dB\n",
      "SIR =  16.44  dB\n",
      "GMI: 3.88 bits\n",
      "\n"
     ]
    },
    {
     "data": {
      "application/vnd.jupyter.widget-view+json": {
       "model_id": "f3b3a43bf0e04f6c97248169e5f2a595",
       "version_major": 2,
       "version_minor": 0
      },
      "text/plain": [
       "  0%|          | 0/1 [00:00<?, ?it/s]"
      ]
     },
     "metadata": {},
     "output_type": "display_data"
    },
    {
     "name": "stdout",
     "output_type": "stream",
     "text": [
      "CSPR = 9.00 dB\n",
      "Results:\n",
      "BER: 4.07e-03\n",
      "SNR: 15.23 dB\n",
      "SIR =  17.07  dB\n",
      "GMI: 3.93 bits\n",
      "\n"
     ]
    },
    {
     "data": {
      "application/vnd.jupyter.widget-view+json": {
       "model_id": "393df8851f5c46a9a73f55cee9478b82",
       "version_major": 2,
       "version_minor": 0
      },
      "text/plain": [
       "  0%|          | 0/1 [00:00<?, ?it/s]"
      ]
     },
     "metadata": {},
     "output_type": "display_data"
    },
    {
     "name": "stdout",
     "output_type": "stream",
     "text": [
      "CSPR = 9.00 dB\n",
      "Results:\n",
      "BER: 1.91e-03\n",
      "SNR: 16.08 dB\n",
      "SIR =  17.71  dB\n",
      "GMI: 3.97 bits\n",
      "\n"
     ]
    },
    {
     "data": {
      "application/vnd.jupyter.widget-view+json": {
       "model_id": "8fc64ef4fe3142f2915778621839b6c5",
       "version_major": 2,
       "version_minor": 0
      },
      "text/plain": [
       "  0%|          | 0/1 [00:00<?, ?it/s]"
      ]
     },
     "metadata": {},
     "output_type": "display_data"
    },
    {
     "name": "stdout",
     "output_type": "stream",
     "text": [
      "CSPR = 9.00 dB\n",
      "Results:\n",
      "BER: 7.94e-04\n",
      "SNR: 16.86 dB\n",
      "SIR =  18.28  dB\n",
      "GMI: 3.99 bits\n",
      "\n"
     ]
    },
    {
     "data": {
      "application/vnd.jupyter.widget-view+json": {
       "model_id": "2b9ade98a9c341edbef7234393b84744",
       "version_major": 2,
       "version_minor": 0
      },
      "text/plain": [
       "  0%|          | 0/1 [00:00<?, ?it/s]"
      ]
     },
     "metadata": {},
     "output_type": "display_data"
    },
    {
     "name": "stdout",
     "output_type": "stream",
     "text": [
      "CSPR = 9.00 dB\n",
      "Results:\n",
      "BER: 4.25e-04\n",
      "SNR: 17.60 dB\n",
      "SIR =  18.8  dB\n",
      "GMI: 3.99 bits\n",
      "\n"
     ]
    },
    {
     "data": {
      "application/vnd.jupyter.widget-view+json": {
       "model_id": "850b7da802ee4e1fa90d9a1628b5bdc2",
       "version_major": 2,
       "version_minor": 0
      },
      "text/plain": [
       "  0%|          | 0/1 [00:00<?, ?it/s]"
      ]
     },
     "metadata": {},
     "output_type": "display_data"
    },
    {
     "name": "stdout",
     "output_type": "stream",
     "text": [
      "CSPR = 9.00 dB\n",
      "Results:\n",
      "BER: 1.62e-04\n",
      "SNR: 18.37 dB\n",
      "SIR =  19.37  dB\n",
      "GMI: 4.00 bits\n",
      "\n"
     ]
    },
    {
     "data": {
      "application/vnd.jupyter.widget-view+json": {
       "model_id": "3199f509157b49dbaad1ebccda534cd6",
       "version_major": 2,
       "version_minor": 0
      },
      "text/plain": [
       "  0%|          | 0/1 [00:00<?, ?it/s]"
      ]
     },
     "metadata": {},
     "output_type": "display_data"
    },
    {
     "name": "stdout",
     "output_type": "stream",
     "text": [
      "CSPR = 9.00 dB\n",
      "Results:\n",
      "BER: 8.75e-05\n",
      "SNR: 19.05 dB\n",
      "SIR =  19.8  dB\n",
      "GMI: 4.00 bits\n",
      "\n"
     ]
    },
    {
     "data": {
      "application/vnd.jupyter.widget-view+json": {
       "model_id": "165556f48e8d4b5685c7aca4735fc843",
       "version_major": 2,
       "version_minor": 0
      },
      "text/plain": [
       "  0%|          | 0/1 [00:00<?, ?it/s]"
      ]
     },
     "metadata": {},
     "output_type": "display_data"
    },
    {
     "name": "stdout",
     "output_type": "stream",
     "text": [
      "CSPR = 9.00 dB\n",
      "Results:\n",
      "BER: 8.44e-05\n",
      "SNR: 19.59 dB\n",
      "SIR =  20.06  dB\n",
      "GMI: 4.00 bits\n",
      "\n"
     ]
    },
    {
     "data": {
      "application/vnd.jupyter.widget-view+json": {
       "model_id": "f9e57ea89777424e8563dd2c14b826ce",
       "version_major": 2,
       "version_minor": 0
      },
      "text/plain": [
       "  0%|          | 0/10 [00:00<?, ?it/s]"
      ]
     },
     "metadata": {},
     "output_type": "display_data"
    },
    {
     "data": {
      "application/vnd.jupyter.widget-view+json": {
       "model_id": "d521d9b89b6a48749a23bf7915451606",
       "version_major": 2,
       "version_minor": 0
      },
      "text/plain": [
       "  0%|          | 0/1 [00:00<?, ?it/s]"
      ]
     },
     "metadata": {},
     "output_type": "display_data"
    },
    {
     "name": "stdout",
     "output_type": "stream",
     "text": [
      "CSPR = 10.00 dB\n",
      "Results:\n",
      "BER: 2.16e-02\n",
      "SNR: 12.70 dB\n",
      "SIR =  15.13  dB\n",
      "GMI: 3.67 bits\n",
      "\n"
     ]
    },
    {
     "data": {
      "application/vnd.jupyter.widget-view+json": {
       "model_id": "707bbfc409304b7dbf87fbd9000d88b0",
       "version_major": 2,
       "version_minor": 0
      },
      "text/plain": [
       "  0%|          | 0/1 [00:00<?, ?it/s]"
      ]
     },
     "metadata": {},
     "output_type": "display_data"
    },
    {
     "name": "stdout",
     "output_type": "stream",
     "text": [
      "CSPR = 10.00 dB\n",
      "Results:\n",
      "BER: 1.28e-02\n",
      "SNR: 13.63 dB\n",
      "SIR =  15.89  dB\n",
      "GMI: 3.80 bits\n",
      "\n"
     ]
    },
    {
     "data": {
      "application/vnd.jupyter.widget-view+json": {
       "model_id": "c6610cd2b381427d9242b07d5fd22265",
       "version_major": 2,
       "version_minor": 0
      },
      "text/plain": [
       "  0%|          | 0/1 [00:00<?, ?it/s]"
      ]
     },
     "metadata": {},
     "output_type": "display_data"
    },
    {
     "name": "stdout",
     "output_type": "stream",
     "text": [
      "CSPR = 10.00 dB\n",
      "Results:\n",
      "BER: 7.02e-03\n",
      "SNR: 14.51 dB\n",
      "SIR =  16.66  dB\n",
      "GMI: 3.89 bits\n",
      "\n"
     ]
    },
    {
     "data": {
      "application/vnd.jupyter.widget-view+json": {
       "model_id": "25f1d41739df4f03a83a59ec1192638f",
       "version_major": 2,
       "version_minor": 0
      },
      "text/plain": [
       "  0%|          | 0/1 [00:00<?, ?it/s]"
      ]
     },
     "metadata": {},
     "output_type": "display_data"
    },
    {
     "name": "stdout",
     "output_type": "stream",
     "text": [
      "CSPR = 10.00 dB\n",
      "Results:\n",
      "BER: 3.46e-03\n",
      "SNR: 15.39 dB\n",
      "SIR =  17.29  dB\n",
      "GMI: 3.94 bits\n",
      "\n"
     ]
    },
    {
     "data": {
      "application/vnd.jupyter.widget-view+json": {
       "model_id": "947c662e223047409815c51c265e7cd0",
       "version_major": 2,
       "version_minor": 0
      },
      "text/plain": [
       "  0%|          | 0/1 [00:00<?, ?it/s]"
      ]
     },
     "metadata": {},
     "output_type": "display_data"
    },
    {
     "name": "stdout",
     "output_type": "stream",
     "text": [
      "CSPR = 10.00 dB\n",
      "Results:\n",
      "BER: 1.52e-03\n",
      "SNR: 16.25 dB\n",
      "SIR =  18.02  dB\n",
      "GMI: 3.97 bits\n",
      "\n"
     ]
    },
    {
     "data": {
      "application/vnd.jupyter.widget-view+json": {
       "model_id": "22d6c89b119b4f6994f08ab25a6d783b",
       "version_major": 2,
       "version_minor": 0
      },
      "text/plain": [
       "  0%|          | 0/1 [00:00<?, ?it/s]"
      ]
     },
     "metadata": {},
     "output_type": "display_data"
    },
    {
     "name": "stdout",
     "output_type": "stream",
     "text": [
      "CSPR = 10.00 dB\n",
      "Results:\n",
      "BER: 5.41e-04\n",
      "SNR: 17.04 dB\n",
      "SIR =  18.63  dB\n",
      "GMI: 3.99 bits\n",
      "\n"
     ]
    },
    {
     "data": {
      "application/vnd.jupyter.widget-view+json": {
       "model_id": "fed65c5d85f142e39758f594006364d1",
       "version_major": 2,
       "version_minor": 0
      },
      "text/plain": [
       "  0%|          | 0/1 [00:00<?, ?it/s]"
      ]
     },
     "metadata": {},
     "output_type": "display_data"
    },
    {
     "name": "stdout",
     "output_type": "stream",
     "text": [
      "CSPR = 10.00 dB\n",
      "Results:\n",
      "BER: 2.50e-04\n",
      "SNR: 17.81 dB\n",
      "SIR =  19.1  dB\n",
      "GMI: 4.00 bits\n",
      "\n"
     ]
    },
    {
     "data": {
      "application/vnd.jupyter.widget-view+json": {
       "model_id": "3b72dd7602f54f318284160f30cb1826",
       "version_major": 2,
       "version_minor": 0
      },
      "text/plain": [
       "  0%|          | 0/1 [00:00<?, ?it/s]"
      ]
     },
     "metadata": {},
     "output_type": "display_data"
    },
    {
     "name": "stdout",
     "output_type": "stream",
     "text": [
      "CSPR = 10.00 dB\n",
      "Results:\n",
      "BER: 1.22e-04\n",
      "SNR: 18.53 dB\n",
      "SIR =  19.57  dB\n",
      "GMI: 4.00 bits\n",
      "\n"
     ]
    },
    {
     "data": {
      "application/vnd.jupyter.widget-view+json": {
       "model_id": "aed1e49875e8431cbd8872628a1a0f73",
       "version_major": 2,
       "version_minor": 0
      },
      "text/plain": [
       "  0%|          | 0/1 [00:00<?, ?it/s]"
      ]
     },
     "metadata": {},
     "output_type": "display_data"
    },
    {
     "name": "stdout",
     "output_type": "stream",
     "text": [
      "CSPR = 10.00 dB\n",
      "Results:\n",
      "BER: 5.31e-05\n",
      "SNR: 19.22 dB\n",
      "SIR =  20.11  dB\n",
      "GMI: 4.00 bits\n",
      "\n"
     ]
    },
    {
     "data": {
      "application/vnd.jupyter.widget-view+json": {
       "model_id": "c191af4e3a844295bae16a263b68d1d8",
       "version_major": 2,
       "version_minor": 0
      },
      "text/plain": [
       "  0%|          | 0/1 [00:00<?, ?it/s]"
      ]
     },
     "metadata": {},
     "output_type": "display_data"
    },
    {
     "name": "stdout",
     "output_type": "stream",
     "text": [
      "CSPR = 10.00 dB\n",
      "Results:\n",
      "BER: 1.87e-05\n",
      "SNR: 19.82 dB\n",
      "SIR =  20.42  dB\n",
      "GMI: 4.00 bits\n",
      "\n"
     ]
    },
    {
     "data": {
      "application/vnd.jupyter.widget-view+json": {
       "model_id": "204db1a9d8ac4dcea75b2c228fd82fe4",
       "version_major": 2,
       "version_minor": 0
      },
      "text/plain": [
       "  0%|          | 0/10 [00:00<?, ?it/s]"
      ]
     },
     "metadata": {},
     "output_type": "display_data"
    },
    {
     "data": {
      "application/vnd.jupyter.widget-view+json": {
       "model_id": "e8f577dcba094208a12bb47f68116e47",
       "version_major": 2,
       "version_minor": 0
      },
      "text/plain": [
       "  0%|          | 0/1 [00:00<?, ?it/s]"
      ]
     },
     "metadata": {},
     "output_type": "display_data"
    },
    {
     "name": "stdout",
     "output_type": "stream",
     "text": [
      "CSPR = 11.00 dB\n",
      "Results:\n",
      "BER: 2.04e-02\n",
      "SNR: 12.79 dB\n",
      "SIR =  15.3  dB\n",
      "GMI: 3.69 bits\n",
      "\n"
     ]
    },
    {
     "data": {
      "application/vnd.jupyter.widget-view+json": {
       "model_id": "f655e9b6acc74fd79267227a3a9c7f04",
       "version_major": 2,
       "version_minor": 0
      },
      "text/plain": [
       "  0%|          | 0/1 [00:00<?, ?it/s]"
      ]
     },
     "metadata": {},
     "output_type": "display_data"
    },
    {
     "name": "stdout",
     "output_type": "stream",
     "text": [
      "CSPR = 11.00 dB\n",
      "Results:\n",
      "BER: 1.23e-02\n",
      "SNR: 13.69 dB\n",
      "SIR =  16.01  dB\n",
      "GMI: 3.81 bits\n",
      "\n"
     ]
    },
    {
     "data": {
      "application/vnd.jupyter.widget-view+json": {
       "model_id": "98c76df7f98a476c9a5f36a2ee24e9d3",
       "version_major": 2,
       "version_minor": 0
      },
      "text/plain": [
       "  0%|          | 0/1 [00:00<?, ?it/s]"
      ]
     },
     "metadata": {},
     "output_type": "display_data"
    },
    {
     "name": "stdout",
     "output_type": "stream",
     "text": [
      "CSPR = 11.00 dB\n",
      "Results:\n",
      "BER: 6.47e-03\n",
      "SNR: 14.58 dB\n",
      "SIR =  16.81  dB\n",
      "GMI: 3.90 bits\n",
      "\n"
     ]
    },
    {
     "data": {
      "application/vnd.jupyter.widget-view+json": {
       "model_id": "36ac7a5dfa3f4faf9caebaf14d73def2",
       "version_major": 2,
       "version_minor": 0
      },
      "text/plain": [
       "  0%|          | 0/1 [00:00<?, ?it/s]"
      ]
     },
     "metadata": {},
     "output_type": "display_data"
    },
    {
     "name": "stdout",
     "output_type": "stream",
     "text": [
      "CSPR = 11.00 dB\n",
      "Results:\n",
      "BER: 3.37e-03\n",
      "SNR: 15.46 dB\n",
      "SIR =  17.49  dB\n",
      "GMI: 3.95 bits\n",
      "\n"
     ]
    },
    {
     "data": {
      "application/vnd.jupyter.widget-view+json": {
       "model_id": "6c3c9a0ea49e47d29ae5ae80929fb2f9",
       "version_major": 2,
       "version_minor": 0
      },
      "text/plain": [
       "  0%|          | 0/1 [00:00<?, ?it/s]"
      ]
     },
     "metadata": {},
     "output_type": "display_data"
    },
    {
     "name": "stdout",
     "output_type": "stream",
     "text": [
      "CSPR = 11.00 dB\n",
      "Results:\n",
      "BER: 1.35e-03\n",
      "SNR: 16.34 dB\n",
      "SIR =  18.19  dB\n",
      "GMI: 3.98 bits\n",
      "\n"
     ]
    },
    {
     "data": {
      "application/vnd.jupyter.widget-view+json": {
       "model_id": "0757f41d6b7c4f6981b8e0269840c846",
       "version_major": 2,
       "version_minor": 0
      },
      "text/plain": [
       "  0%|          | 0/1 [00:00<?, ?it/s]"
      ]
     },
     "metadata": {},
     "output_type": "display_data"
    },
    {
     "name": "stdout",
     "output_type": "stream",
     "text": [
      "CSPR = 11.00 dB\n",
      "Results:\n",
      "BER: 5.31e-04\n",
      "SNR: 17.12 dB\n",
      "SIR =  18.7  dB\n",
      "GMI: 3.99 bits\n",
      "\n"
     ]
    },
    {
     "data": {
      "application/vnd.jupyter.widget-view+json": {
       "model_id": "74f3712478a2474995850aa5534cb99d",
       "version_major": 2,
       "version_minor": 0
      },
      "text/plain": [
       "  0%|          | 0/1 [00:00<?, ?it/s]"
      ]
     },
     "metadata": {},
     "output_type": "display_data"
    },
    {
     "name": "stdout",
     "output_type": "stream",
     "text": [
      "CSPR = 11.00 dB\n",
      "Results:\n",
      "BER: 2.06e-04\n",
      "SNR: 17.85 dB\n",
      "SIR =  19.19  dB\n",
      "GMI: 4.00 bits\n",
      "\n"
     ]
    },
    {
     "data": {
      "application/vnd.jupyter.widget-view+json": {
       "model_id": "4fc3ffd5d4b2448387e899325eee3f32",
       "version_major": 2,
       "version_minor": 0
      },
      "text/plain": [
       "  0%|          | 0/1 [00:00<?, ?it/s]"
      ]
     },
     "metadata": {},
     "output_type": "display_data"
    },
    {
     "name": "stdout",
     "output_type": "stream",
     "text": [
      "CSPR = 11.00 dB\n",
      "Results:\n",
      "BER: 9.69e-05\n",
      "SNR: 18.67 dB\n",
      "SIR =  19.83  dB\n",
      "GMI: 4.00 bits\n",
      "\n"
     ]
    },
    {
     "data": {
      "application/vnd.jupyter.widget-view+json": {
       "model_id": "c088ec7bbaba4691af449208f85fe941",
       "version_major": 2,
       "version_minor": 0
      },
      "text/plain": [
       "  0%|          | 0/1 [00:00<?, ?it/s]"
      ]
     },
     "metadata": {},
     "output_type": "display_data"
    },
    {
     "name": "stdout",
     "output_type": "stream",
     "text": [
      "CSPR = 11.00 dB\n",
      "Results:\n",
      "BER: 9.37e-06\n",
      "SNR: 19.28 dB\n",
      "SIR =  20.16  dB\n",
      "GMI: 4.00 bits\n",
      "\n"
     ]
    },
    {
     "data": {
      "application/vnd.jupyter.widget-view+json": {
       "model_id": "7e8764e466c2471b86443e1188b67bf6",
       "version_major": 2,
       "version_minor": 0
      },
      "text/plain": [
       "  0%|          | 0/1 [00:00<?, ?it/s]"
      ]
     },
     "metadata": {},
     "output_type": "display_data"
    },
    {
     "name": "stdout",
     "output_type": "stream",
     "text": [
      "CSPR = 11.00 dB\n",
      "Results:\n",
      "BER: 3.13e-06\n",
      "SNR: 19.95 dB\n",
      "SIR =  20.6  dB\n",
      "GMI: 4.00 bits\n",
      "\n"
     ]
    },
    {
     "data": {
      "application/vnd.jupyter.widget-view+json": {
       "model_id": "d2aea489ec834865a532b2ff984f880c",
       "version_major": 2,
       "version_minor": 0
      },
      "text/plain": [
       "  0%|          | 0/10 [00:00<?, ?it/s]"
      ]
     },
     "metadata": {},
     "output_type": "display_data"
    },
    {
     "data": {
      "application/vnd.jupyter.widget-view+json": {
       "model_id": "1ce35a5fff9d4621ab548263d54f445b",
       "version_major": 2,
       "version_minor": 0
      },
      "text/plain": [
       "  0%|          | 0/1 [00:00<?, ?it/s]"
      ]
     },
     "metadata": {},
     "output_type": "display_data"
    },
    {
     "name": "stdout",
     "output_type": "stream",
     "text": [
      "CSPR = 12.00 dB\n",
      "Results:\n",
      "BER: 2.07e-02\n",
      "SNR: 12.80 dB\n",
      "SIR =  15.33  dB\n",
      "GMI: 3.68 bits\n",
      "\n"
     ]
    },
    {
     "data": {
      "application/vnd.jupyter.widget-view+json": {
       "model_id": "059712fe7e7f44abbda15e3573b1fb61",
       "version_major": 2,
       "version_minor": 0
      },
      "text/plain": [
       "  0%|          | 0/1 [00:00<?, ?it/s]"
      ]
     },
     "metadata": {},
     "output_type": "display_data"
    },
    {
     "name": "stdout",
     "output_type": "stream",
     "text": [
      "CSPR = 12.00 dB\n",
      "Results:\n",
      "BER: 1.21e-02\n",
      "SNR: 13.74 dB\n",
      "SIR =  16.11  dB\n",
      "GMI: 3.81 bits\n",
      "\n"
     ]
    },
    {
     "data": {
      "application/vnd.jupyter.widget-view+json": {
       "model_id": "2acf018016e54b12b7cecb036030f4bd",
       "version_major": 2,
       "version_minor": 0
      },
      "text/plain": [
       "  0%|          | 0/1 [00:00<?, ?it/s]"
      ]
     },
     "metadata": {},
     "output_type": "display_data"
    },
    {
     "name": "stdout",
     "output_type": "stream",
     "text": [
      "CSPR = 12.00 dB\n",
      "Results:\n",
      "BER: 6.57e-03\n",
      "SNR: 14.63 dB\n",
      "SIR =  16.85  dB\n",
      "GMI: 3.90 bits\n",
      "\n"
     ]
    },
    {
     "data": {
      "application/vnd.jupyter.widget-view+json": {
       "model_id": "605f434748b94726afffeca11e01c225",
       "version_major": 2,
       "version_minor": 0
      },
      "text/plain": [
       "  0%|          | 0/1 [00:00<?, ?it/s]"
      ]
     },
     "metadata": {},
     "output_type": "display_data"
    },
    {
     "name": "stdout",
     "output_type": "stream",
     "text": [
      "CSPR = 12.00 dB\n",
      "Results:\n",
      "BER: 3.03e-03\n",
      "SNR: 15.54 dB\n",
      "SIR =  17.57  dB\n",
      "GMI: 3.95 bits\n",
      "\n"
     ]
    },
    {
     "data": {
      "application/vnd.jupyter.widget-view+json": {
       "model_id": "48c6added5e24c2681102391b71bf304",
       "version_major": 2,
       "version_minor": 0
      },
      "text/plain": [
       "  0%|          | 0/1 [00:00<?, ?it/s]"
      ]
     },
     "metadata": {},
     "output_type": "display_data"
    },
    {
     "name": "stdout",
     "output_type": "stream",
     "text": [
      "CSPR = 12.00 dB\n",
      "Results:\n",
      "BER: 1.30e-03\n",
      "SNR: 16.38 dB\n",
      "SIR =  18.25  dB\n",
      "GMI: 3.98 bits\n",
      "\n"
     ]
    },
    {
     "data": {
      "application/vnd.jupyter.widget-view+json": {
       "model_id": "30419682943144f69e24bb86d5c97a0e",
       "version_major": 2,
       "version_minor": 0
      },
      "text/plain": [
       "  0%|          | 0/1 [00:00<?, ?it/s]"
      ]
     },
     "metadata": {},
     "output_type": "display_data"
    },
    {
     "name": "stdout",
     "output_type": "stream",
     "text": [
      "CSPR = 12.00 dB\n",
      "Results:\n",
      "BER: 5.22e-04\n",
      "SNR: 17.16 dB\n",
      "SIR =  18.83  dB\n",
      "GMI: 3.99 bits\n",
      "\n"
     ]
    },
    {
     "data": {
      "application/vnd.jupyter.widget-view+json": {
       "model_id": "40187ca0d97b4b9cab53fa56a577d9b7",
       "version_major": 2,
       "version_minor": 0
      },
      "text/plain": [
       "  0%|          | 0/1 [00:00<?, ?it/s]"
      ]
     },
     "metadata": {},
     "output_type": "display_data"
    },
    {
     "name": "stdout",
     "output_type": "stream",
     "text": [
      "CSPR = 12.00 dB\n",
      "Results:\n",
      "BER: 1.56e-04\n",
      "SNR: 17.97 dB\n",
      "SIR =  19.41  dB\n",
      "GMI: 4.00 bits\n",
      "\n"
     ]
    },
    {
     "data": {
      "application/vnd.jupyter.widget-view+json": {
       "model_id": "0bd9e9dec47946ba92e5689e2c2ab09f",
       "version_major": 2,
       "version_minor": 0
      },
      "text/plain": [
       "  0%|          | 0/1 [00:00<?, ?it/s]"
      ]
     },
     "metadata": {},
     "output_type": "display_data"
    },
    {
     "name": "stdout",
     "output_type": "stream",
     "text": [
      "CSPR = 12.00 dB\n",
      "Results:\n",
      "BER: 6.88e-05\n",
      "SNR: 18.68 dB\n",
      "SIR =  19.91  dB\n",
      "GMI: 4.00 bits\n",
      "\n"
     ]
    },
    {
     "data": {
      "application/vnd.jupyter.widget-view+json": {
       "model_id": "9d4436f5063b4bdd9dedbd89d2581eb5",
       "version_major": 2,
       "version_minor": 0
      },
      "text/plain": [
       "  0%|          | 0/1 [00:00<?, ?it/s]"
      ]
     },
     "metadata": {},
     "output_type": "display_data"
    },
    {
     "name": "stdout",
     "output_type": "stream",
     "text": [
      "CSPR = 12.00 dB\n",
      "Results:\n",
      "BER: 1.87e-05\n",
      "SNR: 19.34 dB\n",
      "SIR =  20.31  dB\n",
      "GMI: 4.00 bits\n",
      "\n"
     ]
    },
    {
     "data": {
      "application/vnd.jupyter.widget-view+json": {
       "model_id": "57bdc9067b15405489dc545b633bddcb",
       "version_major": 2,
       "version_minor": 0
      },
      "text/plain": [
       "  0%|          | 0/1 [00:00<?, ?it/s]"
      ]
     },
     "metadata": {},
     "output_type": "display_data"
    },
    {
     "name": "stdout",
     "output_type": "stream",
     "text": [
      "CSPR = 12.00 dB\n",
      "Results:\n",
      "BER: 0.00e+00\n",
      "SNR: 20.00 dB\n",
      "SIR =  20.75  dB\n",
      "GMI: 4.00 bits\n",
      "\n"
     ]
    },
    {
     "data": {
      "application/vnd.jupyter.widget-view+json": {
       "model_id": "80e7455aabbc476e87b9ed10d99d13b3",
       "version_major": 2,
       "version_minor": 0
      },
      "text/plain": [
       "  0%|          | 0/10 [00:00<?, ?it/s]"
      ]
     },
     "metadata": {},
     "output_type": "display_data"
    },
    {
     "data": {
      "application/vnd.jupyter.widget-view+json": {
       "model_id": "2adbcd3eafdf4c0287f7eb5b9018c766",
       "version_major": 2,
       "version_minor": 0
      },
      "text/plain": [
       "  0%|          | 0/1 [00:00<?, ?it/s]"
      ]
     },
     "metadata": {},
     "output_type": "display_data"
    },
    {
     "name": "stdout",
     "output_type": "stream",
     "text": [
      "CSPR = 13.00 dB\n",
      "Results:\n",
      "BER: 1.93e-02\n",
      "SNR: 12.91 dB\n",
      "SIR =  15.47  dB\n",
      "GMI: 3.71 bits\n",
      "\n"
     ]
    },
    {
     "data": {
      "application/vnd.jupyter.widget-view+json": {
       "model_id": "2374af1e095f4e478fc2fe3f938728ca",
       "version_major": 2,
       "version_minor": 0
      },
      "text/plain": [
       "  0%|          | 0/1 [00:00<?, ?it/s]"
      ]
     },
     "metadata": {},
     "output_type": "display_data"
    },
    {
     "name": "stdout",
     "output_type": "stream",
     "text": [
      "CSPR = 13.00 dB\n",
      "Results:\n",
      "BER: 1.15e-02\n",
      "SNR: 13.77 dB\n",
      "SIR =  16.22  dB\n",
      "GMI: 3.82 bits\n",
      "\n"
     ]
    },
    {
     "data": {
      "application/vnd.jupyter.widget-view+json": {
       "model_id": "1496d735117849b7ad21c446f2abd4f7",
       "version_major": 2,
       "version_minor": 0
      },
      "text/plain": [
       "  0%|          | 0/1 [00:00<?, ?it/s]"
      ]
     },
     "metadata": {},
     "output_type": "display_data"
    },
    {
     "name": "stdout",
     "output_type": "stream",
     "text": [
      "CSPR = 13.00 dB\n",
      "Results:\n",
      "BER: 5.84e-03\n",
      "SNR: 14.72 dB\n",
      "SIR =  16.99  dB\n",
      "GMI: 3.91 bits\n",
      "\n"
     ]
    },
    {
     "data": {
      "application/vnd.jupyter.widget-view+json": {
       "model_id": "381331f7ce2f4726bbd36a406fd23c2b",
       "version_major": 2,
       "version_minor": 0
      },
      "text/plain": [
       "  0%|          | 0/1 [00:00<?, ?it/s]"
      ]
     },
     "metadata": {},
     "output_type": "display_data"
    },
    {
     "name": "stdout",
     "output_type": "stream",
     "text": [
      "CSPR = 13.00 dB\n",
      "Results:\n",
      "BER: 3.15e-03\n",
      "SNR: 15.56 dB\n",
      "SIR =  17.68  dB\n",
      "GMI: 3.95 bits\n",
      "\n"
     ]
    },
    {
     "data": {
      "application/vnd.jupyter.widget-view+json": {
       "model_id": "897bcc1783134741afd5014eb8e9d27b",
       "version_major": 2,
       "version_minor": 0
      },
      "text/plain": [
       "  0%|          | 0/1 [00:00<?, ?it/s]"
      ]
     },
     "metadata": {},
     "output_type": "display_data"
    },
    {
     "name": "stdout",
     "output_type": "stream",
     "text": [
      "CSPR = 13.00 dB\n",
      "Results:\n",
      "BER: 1.32e-03\n",
      "SNR: 16.39 dB\n",
      "SIR =  18.34  dB\n",
      "GMI: 3.98 bits\n",
      "\n"
     ]
    },
    {
     "data": {
      "application/vnd.jupyter.widget-view+json": {
       "model_id": "94f2d2e15c1c4fb6bd694124cbe773e7",
       "version_major": 2,
       "version_minor": 0
      },
      "text/plain": [
       "  0%|          | 0/1 [00:00<?, ?it/s]"
      ]
     },
     "metadata": {},
     "output_type": "display_data"
    },
    {
     "name": "stdout",
     "output_type": "stream",
     "text": [
      "CSPR = 13.00 dB\n",
      "Results:\n",
      "BER: 4.75e-04\n",
      "SNR: 17.25 dB\n",
      "SIR =  18.95  dB\n",
      "GMI: 3.99 bits\n",
      "\n"
     ]
    },
    {
     "data": {
      "application/vnd.jupyter.widget-view+json": {
       "model_id": "44d5f6b97cca4d00bbce0a80dd2f57fc",
       "version_major": 2,
       "version_minor": 0
      },
      "text/plain": [
       "  0%|          | 0/1 [00:00<?, ?it/s]"
      ]
     },
     "metadata": {},
     "output_type": "display_data"
    },
    {
     "name": "stdout",
     "output_type": "stream",
     "text": [
      "CSPR = 13.00 dB\n",
      "Results:\n",
      "BER: 1.41e-04\n",
      "SNR: 18.03 dB\n",
      "SIR =  19.48  dB\n",
      "GMI: 4.00 bits\n",
      "\n"
     ]
    },
    {
     "data": {
      "application/vnd.jupyter.widget-view+json": {
       "model_id": "045c792342554572a4aeb8f62d61a78f",
       "version_major": 2,
       "version_minor": 0
      },
      "text/plain": [
       "  0%|          | 0/1 [00:00<?, ?it/s]"
      ]
     },
     "metadata": {},
     "output_type": "display_data"
    },
    {
     "name": "stdout",
     "output_type": "stream",
     "text": [
      "CSPR = 13.00 dB\n",
      "Results:\n",
      "BER: 6.25e-05\n",
      "SNR: 18.69 dB\n",
      "SIR =  19.99  dB\n",
      "GMI: 4.00 bits\n",
      "\n"
     ]
    },
    {
     "data": {
      "application/vnd.jupyter.widget-view+json": {
       "model_id": "3258b3b82bbb4a1497eaba0c693354e1",
       "version_major": 2,
       "version_minor": 0
      },
      "text/plain": [
       "  0%|          | 0/1 [00:00<?, ?it/s]"
      ]
     },
     "metadata": {},
     "output_type": "display_data"
    },
    {
     "name": "stdout",
     "output_type": "stream",
     "text": [
      "CSPR = 13.00 dB\n",
      "Results:\n",
      "BER: 3.44e-05\n",
      "SNR: 19.39 dB\n",
      "SIR =  20.4  dB\n",
      "GMI: 4.00 bits\n",
      "\n"
     ]
    },
    {
     "data": {
      "application/vnd.jupyter.widget-view+json": {
       "model_id": "9475d74ab0dd479c9ff2a32d59132188",
       "version_major": 2,
       "version_minor": 0
      },
      "text/plain": [
       "  0%|          | 0/1 [00:00<?, ?it/s]"
      ]
     },
     "metadata": {},
     "output_type": "display_data"
    },
    {
     "name": "stdout",
     "output_type": "stream",
     "text": [
      "CSPR = 13.00 dB\n",
      "Results:\n",
      "BER: 6.25e-06\n",
      "SNR: 20.07 dB\n",
      "SIR =  20.79  dB\n",
      "GMI: 4.00 bits\n",
      "\n"
     ]
    },
    {
     "data": {
      "application/vnd.jupyter.widget-view+json": {
       "model_id": "82dbe6c883a04da8be77f6eea2d55812",
       "version_major": 2,
       "version_minor": 0
      },
      "text/plain": [
       "  0%|          | 0/10 [00:00<?, ?it/s]"
      ]
     },
     "metadata": {},
     "output_type": "display_data"
    },
    {
     "data": {
      "application/vnd.jupyter.widget-view+json": {
       "model_id": "1a33dd407fcf41c19e1f0ffc8d81ecad",
       "version_major": 2,
       "version_minor": 0
      },
      "text/plain": [
       "  0%|          | 0/1 [00:00<?, ?it/s]"
      ]
     },
     "metadata": {},
     "output_type": "display_data"
    },
    {
     "name": "stdout",
     "output_type": "stream",
     "text": [
      "CSPR = 14.00 dB\n",
      "Results:\n",
      "BER: 1.94e-02\n",
      "SNR: 12.88 dB\n",
      "SIR =  15.43  dB\n",
      "GMI: 3.70 bits\n",
      "\n"
     ]
    },
    {
     "data": {
      "application/vnd.jupyter.widget-view+json": {
       "model_id": "647cd97d6b084432994d88c8c8f562b8",
       "version_major": 2,
       "version_minor": 0
      },
      "text/plain": [
       "  0%|          | 0/1 [00:00<?, ?it/s]"
      ]
     },
     "metadata": {},
     "output_type": "display_data"
    },
    {
     "name": "stdout",
     "output_type": "stream",
     "text": [
      "CSPR = 14.00 dB\n",
      "Results:\n",
      "BER: 1.13e-02\n",
      "SNR: 13.79 dB\n",
      "SIR =  16.28  dB\n",
      "GMI: 3.82 bits\n",
      "\n"
     ]
    },
    {
     "data": {
      "application/vnd.jupyter.widget-view+json": {
       "model_id": "ca0325bcfec442738e7a55edb517be8b",
       "version_major": 2,
       "version_minor": 0
      },
      "text/plain": [
       "  0%|          | 0/1 [00:00<?, ?it/s]"
      ]
     },
     "metadata": {},
     "output_type": "display_data"
    },
    {
     "name": "stdout",
     "output_type": "stream",
     "text": [
      "CSPR = 14.00 dB\n",
      "Results:\n",
      "BER: 5.82e-03\n",
      "SNR: 14.75 dB\n",
      "SIR =  17.04  dB\n",
      "GMI: 3.91 bits\n",
      "\n"
     ]
    },
    {
     "data": {
      "application/vnd.jupyter.widget-view+json": {
       "model_id": "a8da146de5af474e99382070afdd79c0",
       "version_major": 2,
       "version_minor": 0
      },
      "text/plain": [
       "  0%|          | 0/1 [00:00<?, ?it/s]"
      ]
     },
     "metadata": {},
     "output_type": "display_data"
    },
    {
     "name": "stdout",
     "output_type": "stream",
     "text": [
      "CSPR = 14.00 dB\n",
      "Results:\n",
      "BER: 3.01e-03\n",
      "SNR: 15.54 dB\n",
      "SIR =  17.62  dB\n",
      "GMI: 3.95 bits\n",
      "\n"
     ]
    },
    {
     "data": {
      "application/vnd.jupyter.widget-view+json": {
       "model_id": "61316e04449446819eea92ac54bafc82",
       "version_major": 2,
       "version_minor": 0
      },
      "text/plain": [
       "  0%|          | 0/1 [00:00<?, ?it/s]"
      ]
     },
     "metadata": {},
     "output_type": "display_data"
    },
    {
     "name": "stdout",
     "output_type": "stream",
     "text": [
      "CSPR = 14.00 dB\n",
      "Results:\n",
      "BER: 1.23e-03\n",
      "SNR: 16.45 dB\n",
      "SIR =  18.37  dB\n",
      "GMI: 3.98 bits\n",
      "\n"
     ]
    },
    {
     "data": {
      "application/vnd.jupyter.widget-view+json": {
       "model_id": "ee1bf35db9424534bd1d96b92838f0af",
       "version_major": 2,
       "version_minor": 0
      },
      "text/plain": [
       "  0%|          | 0/1 [00:00<?, ?it/s]"
      ]
     },
     "metadata": {},
     "output_type": "display_data"
    },
    {
     "name": "stdout",
     "output_type": "stream",
     "text": [
      "CSPR = 14.00 dB\n",
      "Results:\n",
      "BER: 4.81e-04\n",
      "SNR: 17.27 dB\n",
      "SIR =  19.01  dB\n",
      "GMI: 3.99 bits\n",
      "\n"
     ]
    },
    {
     "data": {
      "application/vnd.jupyter.widget-view+json": {
       "model_id": "ef60f1c5ce684168aa41d0466f695b86",
       "version_major": 2,
       "version_minor": 0
      },
      "text/plain": [
       "  0%|          | 0/1 [00:00<?, ?it/s]"
      ]
     },
     "metadata": {},
     "output_type": "display_data"
    },
    {
     "name": "stdout",
     "output_type": "stream",
     "text": [
      "CSPR = 14.00 dB\n",
      "Results:\n",
      "BER: 1.56e-04\n",
      "SNR: 18.08 dB\n",
      "SIR =  19.58  dB\n",
      "GMI: 4.00 bits\n",
      "\n"
     ]
    },
    {
     "data": {
      "application/vnd.jupyter.widget-view+json": {
       "model_id": "5f20ec9b874543d3a2a160116f583e53",
       "version_major": 2,
       "version_minor": 0
      },
      "text/plain": [
       "  0%|          | 0/1 [00:00<?, ?it/s]"
      ]
     },
     "metadata": {},
     "output_type": "display_data"
    },
    {
     "name": "stdout",
     "output_type": "stream",
     "text": [
      "CSPR = 14.00 dB\n",
      "Results:\n",
      "BER: 2.81e-05\n",
      "SNR: 18.75 dB\n",
      "SIR =  19.99  dB\n",
      "GMI: 4.00 bits\n",
      "\n"
     ]
    },
    {
     "data": {
      "application/vnd.jupyter.widget-view+json": {
       "model_id": "f897886dbd0e432ca12fd36b3fd179ac",
       "version_major": 2,
       "version_minor": 0
      },
      "text/plain": [
       "  0%|          | 0/1 [00:00<?, ?it/s]"
      ]
     },
     "metadata": {},
     "output_type": "display_data"
    },
    {
     "name": "stdout",
     "output_type": "stream",
     "text": [
      "CSPR = 14.00 dB\n",
      "Results:\n",
      "BER: 6.25e-06\n",
      "SNR: 19.44 dB\n",
      "SIR =  20.52  dB\n",
      "GMI: 4.00 bits\n",
      "\n"
     ]
    },
    {
     "data": {
      "application/vnd.jupyter.widget-view+json": {
       "model_id": "9ae9153d30df4cda9a607b3f07d2efc9",
       "version_major": 2,
       "version_minor": 0
      },
      "text/plain": [
       "  0%|          | 0/1 [00:00<?, ?it/s]"
      ]
     },
     "metadata": {},
     "output_type": "display_data"
    },
    {
     "name": "stdout",
     "output_type": "stream",
     "text": [
      "CSPR = 14.00 dB\n",
      "Results:\n",
      "BER: 1.25e-05\n",
      "SNR: 20.04 dB\n",
      "SIR =  20.81  dB\n",
      "GMI: 4.00 bits\n",
      "\n"
     ]
    },
    {
     "data": {
      "application/vnd.jupyter.widget-view+json": {
       "model_id": "2c73761ff5c64ee08827739a2d5107b6",
       "version_major": 2,
       "version_minor": 0
      },
      "text/plain": [
       "  0%|          | 0/10 [00:00<?, ?it/s]"
      ]
     },
     "metadata": {},
     "output_type": "display_data"
    },
    {
     "data": {
      "application/vnd.jupyter.widget-view+json": {
       "model_id": "d0f61d038f9c412cbaa8d5df04c7eecf",
       "version_major": 2,
       "version_minor": 0
      },
      "text/plain": [
       "  0%|          | 0/1 [00:00<?, ?it/s]"
      ]
     },
     "metadata": {},
     "output_type": "display_data"
    },
    {
     "name": "stdout",
     "output_type": "stream",
     "text": [
      "CSPR = 15.00 dB\n",
      "Results:\n",
      "BER: 1.93e-02\n",
      "SNR: 12.92 dB\n",
      "SIR =  15.5  dB\n",
      "GMI: 3.71 bits\n",
      "\n"
     ]
    },
    {
     "data": {
      "application/vnd.jupyter.widget-view+json": {
       "model_id": "99f0bc14fa9e4b19a9b56d6da43ba19a",
       "version_major": 2,
       "version_minor": 0
      },
      "text/plain": [
       "  0%|          | 0/1 [00:00<?, ?it/s]"
      ]
     },
     "metadata": {},
     "output_type": "display_data"
    },
    {
     "name": "stdout",
     "output_type": "stream",
     "text": [
      "CSPR = 15.00 dB\n",
      "Results:\n",
      "BER: 1.14e-02\n",
      "SNR: 13.89 dB\n",
      "SIR =  16.35  dB\n",
      "GMI: 3.82 bits\n",
      "\n"
     ]
    },
    {
     "data": {
      "application/vnd.jupyter.widget-view+json": {
       "model_id": "b46deee34e564cbf9041e87e989cab70",
       "version_major": 2,
       "version_minor": 0
      },
      "text/plain": [
       "  0%|          | 0/1 [00:00<?, ?it/s]"
      ]
     },
     "metadata": {},
     "output_type": "display_data"
    },
    {
     "name": "stdout",
     "output_type": "stream",
     "text": [
      "CSPR = 15.00 dB\n",
      "Results:\n",
      "BER: 6.06e-03\n",
      "SNR: 14.73 dB\n",
      "SIR =  17.05  dB\n",
      "GMI: 3.90 bits\n",
      "\n"
     ]
    },
    {
     "data": {
      "application/vnd.jupyter.widget-view+json": {
       "model_id": "9e53f05748c240a0ab87d9df7a8da711",
       "version_major": 2,
       "version_minor": 0
      },
      "text/plain": [
       "  0%|          | 0/1 [00:00<?, ?it/s]"
      ]
     },
     "metadata": {},
     "output_type": "display_data"
    },
    {
     "name": "stdout",
     "output_type": "stream",
     "text": [
      "CSPR = 15.00 dB\n",
      "Results:\n",
      "BER: 2.59e-03\n",
      "SNR: 15.64 dB\n",
      "SIR =  17.77  dB\n",
      "GMI: 3.96 bits\n",
      "\n"
     ]
    },
    {
     "data": {
      "application/vnd.jupyter.widget-view+json": {
       "model_id": "3badb124ed624f2fb551901076a791ee",
       "version_major": 2,
       "version_minor": 0
      },
      "text/plain": [
       "  0%|          | 0/1 [00:00<?, ?it/s]"
      ]
     },
     "metadata": {},
     "output_type": "display_data"
    },
    {
     "name": "stdout",
     "output_type": "stream",
     "text": [
      "CSPR = 15.00 dB\n",
      "Results:\n",
      "BER: 1.27e-03\n",
      "SNR: 16.50 dB\n",
      "SIR =  18.48  dB\n",
      "GMI: 3.98 bits\n",
      "\n"
     ]
    },
    {
     "data": {
      "application/vnd.jupyter.widget-view+json": {
       "model_id": "634f202a82804b66aacb683ad3d233e7",
       "version_major": 2,
       "version_minor": 0
      },
      "text/plain": [
       "  0%|          | 0/1 [00:00<?, ?it/s]"
      ]
     },
     "metadata": {},
     "output_type": "display_data"
    },
    {
     "name": "stdout",
     "output_type": "stream",
     "text": [
      "CSPR = 15.00 dB\n",
      "Results:\n",
      "BER: 5.28e-04\n",
      "SNR: 17.24 dB\n",
      "SIR =  18.97  dB\n",
      "GMI: 3.99 bits\n",
      "\n"
     ]
    },
    {
     "data": {
      "application/vnd.jupyter.widget-view+json": {
       "model_id": "00cdd382c9b243d0aae206c61fefa54f",
       "version_major": 2,
       "version_minor": 0
      },
      "text/plain": [
       "  0%|          | 0/1 [00:00<?, ?it/s]"
      ]
     },
     "metadata": {},
     "output_type": "display_data"
    },
    {
     "name": "stdout",
     "output_type": "stream",
     "text": [
      "CSPR = 15.00 dB\n",
      "Results:\n",
      "BER: 1.78e-04\n",
      "SNR: 18.05 dB\n",
      "SIR =  19.56  dB\n",
      "GMI: 4.00 bits\n",
      "\n"
     ]
    },
    {
     "data": {
      "application/vnd.jupyter.widget-view+json": {
       "model_id": "34e78ebf7d00400785e7e516fba77c18",
       "version_major": 2,
       "version_minor": 0
      },
      "text/plain": [
       "  0%|          | 0/1 [00:00<?, ?it/s]"
      ]
     },
     "metadata": {},
     "output_type": "display_data"
    },
    {
     "name": "stdout",
     "output_type": "stream",
     "text": [
      "CSPR = 15.00 dB\n",
      "Results:\n",
      "BER: 4.06e-05\n",
      "SNR: 18.83 dB\n",
      "SIR =  20.11  dB\n",
      "GMI: 4.00 bits\n",
      "\n"
     ]
    },
    {
     "data": {
      "application/vnd.jupyter.widget-view+json": {
       "model_id": "d178cf2005114c32a85b2cfe255eb9d1",
       "version_major": 2,
       "version_minor": 0
      },
      "text/plain": [
       "  0%|          | 0/1 [00:00<?, ?it/s]"
      ]
     },
     "metadata": {},
     "output_type": "display_data"
    },
    {
     "name": "stdout",
     "output_type": "stream",
     "text": [
      "CSPR = 15.00 dB\n",
      "Results:\n",
      "BER: 6.25e-06\n",
      "SNR: 19.48 dB\n",
      "SIR =  20.55  dB\n",
      "GMI: 4.00 bits\n",
      "\n"
     ]
    },
    {
     "data": {
      "application/vnd.jupyter.widget-view+json": {
       "model_id": "5cc3d1f6739943878875f84d45648b83",
       "version_major": 2,
       "version_minor": 0
      },
      "text/plain": [
       "  0%|          | 0/1 [00:00<?, ?it/s]"
      ]
     },
     "metadata": {},
     "output_type": "display_data"
    },
    {
     "name": "stdout",
     "output_type": "stream",
     "text": [
      "CSPR = 15.00 dB\n",
      "Results:\n",
      "BER: 6.25e-06\n",
      "SNR: 20.19 dB\n",
      "SIR =  21.13  dB\n",
      "GMI: 4.00 bits\n",
      "\n"
     ]
    },
    {
     "data": {
      "application/vnd.jupyter.widget-view+json": {
       "model_id": "d6b0d2aa197f4b3087e10d748dddb611",
       "version_major": 2,
       "version_minor": 0
      },
      "text/plain": [
       "  0%|          | 0/10 [00:00<?, ?it/s]"
      ]
     },
     "metadata": {},
     "output_type": "display_data"
    },
    {
     "data": {
      "application/vnd.jupyter.widget-view+json": {
       "model_id": "1064ceeac1b64b569ba77df484c4b564",
       "version_major": 2,
       "version_minor": 0
      },
      "text/plain": [
       "  0%|          | 0/10 [00:00<?, ?it/s]"
      ]
     },
     "metadata": {},
     "output_type": "display_data"
    },
    {
     "data": {
      "application/vnd.jupyter.widget-view+json": {
       "model_id": "ff64ad8aa12f4f5db126b7d70fc29033",
       "version_major": 2,
       "version_minor": 0
      },
      "text/plain": [
       "  0%|          | 0/1 [00:00<?, ?it/s]"
      ]
     },
     "metadata": {},
     "output_type": "display_data"
    },
    {
     "name": "stdout",
     "output_type": "stream",
     "text": [
      "CSPR = 6.00 dB\n",
      "Results:\n",
      "BER: 1.37e-03\n",
      "SNR: 16.36 dB\n",
      "SIR =  7.09  dB\n",
      "GMI: 3.98 bits\n",
      "\n"
     ]
    },
    {
     "data": {
      "application/vnd.jupyter.widget-view+json": {
       "model_id": "54771d8012354f7ebd6aeed1705e4cb2",
       "version_major": 2,
       "version_minor": 0
      },
      "text/plain": [
       "  0%|          | 0/1 [00:00<?, ?it/s]"
      ]
     },
     "metadata": {},
     "output_type": "display_data"
    },
    {
     "name": "stdout",
     "output_type": "stream",
     "text": [
      "CSPR = 6.00 dB\n",
      "Results:\n",
      "BER: 4.41e-04\n",
      "SNR: 17.35 dB\n",
      "SIR =  7.1  dB\n",
      "GMI: 3.99 bits\n",
      "\n"
     ]
    },
    {
     "data": {
      "application/vnd.jupyter.widget-view+json": {
       "model_id": "02f807b019ba4529a4e8890014fc5126",
       "version_major": 2,
       "version_minor": 0
      },
      "text/plain": [
       "  0%|          | 0/1 [00:00<?, ?it/s]"
      ]
     },
     "metadata": {},
     "output_type": "display_data"
    },
    {
     "name": "stdout",
     "output_type": "stream",
     "text": [
      "CSPR = 6.00 dB\n",
      "Results:\n",
      "BER: 1.03e-04\n",
      "SNR: 18.37 dB\n",
      "SIR =  7.1  dB\n",
      "GMI: 4.00 bits\n",
      "\n"
     ]
    },
    {
     "data": {
      "application/vnd.jupyter.widget-view+json": {
       "model_id": "82372df1b97a4bd8b3bb7511e4d7532c",
       "version_major": 2,
       "version_minor": 0
      },
      "text/plain": [
       "  0%|          | 0/1 [00:00<?, ?it/s]"
      ]
     },
     "metadata": {},
     "output_type": "display_data"
    },
    {
     "name": "stdout",
     "output_type": "stream",
     "text": [
      "CSPR = 6.00 dB\n",
      "Results:\n",
      "BER: 1.56e-05\n",
      "SNR: 19.35 dB\n",
      "SIR =  7.12  dB\n",
      "GMI: 4.00 bits\n",
      "\n"
     ]
    },
    {
     "data": {
      "application/vnd.jupyter.widget-view+json": {
       "model_id": "b254c37d68b64c658615867240325d68",
       "version_major": 2,
       "version_minor": 0
      },
      "text/plain": [
       "  0%|          | 0/1 [00:00<?, ?it/s]"
      ]
     },
     "metadata": {},
     "output_type": "display_data"
    },
    {
     "name": "stdout",
     "output_type": "stream",
     "text": [
      "CSPR = 6.00 dB\n",
      "Results:\n",
      "BER: 0.00e+00\n",
      "SNR: 20.35 dB\n",
      "SIR =  7.11  dB\n",
      "GMI: 4.00 bits\n",
      "\n"
     ]
    },
    {
     "data": {
      "application/vnd.jupyter.widget-view+json": {
       "model_id": "1fcddc3e57a44ff88ffb68b4ef6841ed",
       "version_major": 2,
       "version_minor": 0
      },
      "text/plain": [
       "  0%|          | 0/1 [00:00<?, ?it/s]"
      ]
     },
     "metadata": {},
     "output_type": "display_data"
    },
    {
     "name": "stdout",
     "output_type": "stream",
     "text": [
      "CSPR = 6.00 dB\n",
      "Results:\n",
      "BER: 0.00e+00\n",
      "SNR: 21.35 dB\n",
      "SIR =  7.11  dB\n",
      "GMI: 4.00 bits\n",
      "\n"
     ]
    },
    {
     "data": {
      "application/vnd.jupyter.widget-view+json": {
       "model_id": "dd186ca0281a4438b426d2fd696f2b6f",
       "version_major": 2,
       "version_minor": 0
      },
      "text/plain": [
       "  0%|          | 0/1 [00:00<?, ?it/s]"
      ]
     },
     "metadata": {},
     "output_type": "display_data"
    },
    {
     "name": "stdout",
     "output_type": "stream",
     "text": [
      "CSPR = 6.00 dB\n",
      "Results:\n",
      "BER: 0.00e+00\n",
      "SNR: 22.27 dB\n",
      "SIR =  7.1  dB\n",
      "GMI: 4.00 bits\n",
      "\n"
     ]
    },
    {
     "data": {
      "application/vnd.jupyter.widget-view+json": {
       "model_id": "ec43d998848b4b9186335db02d26d9df",
       "version_major": 2,
       "version_minor": 0
      },
      "text/plain": [
       "  0%|          | 0/1 [00:00<?, ?it/s]"
      ]
     },
     "metadata": {},
     "output_type": "display_data"
    },
    {
     "name": "stdout",
     "output_type": "stream",
     "text": [
      "CSPR = 6.00 dB\n",
      "Results:\n",
      "BER: 0.00e+00\n",
      "SNR: 23.25 dB\n",
      "SIR =  7.11  dB\n",
      "GMI: 4.00 bits\n",
      "\n"
     ]
    },
    {
     "data": {
      "application/vnd.jupyter.widget-view+json": {
       "model_id": "53b1af07d8ee40f29094021299f9a8b6",
       "version_major": 2,
       "version_minor": 0
      },
      "text/plain": [
       "  0%|          | 0/1 [00:00<?, ?it/s]"
      ]
     },
     "metadata": {},
     "output_type": "display_data"
    },
    {
     "name": "stdout",
     "output_type": "stream",
     "text": [
      "CSPR = 6.00 dB\n",
      "Results:\n",
      "BER: 0.00e+00\n",
      "SNR: 24.25 dB\n",
      "SIR =  7.11  dB\n",
      "GMI: 4.00 bits\n",
      "\n"
     ]
    },
    {
     "data": {
      "application/vnd.jupyter.widget-view+json": {
       "model_id": "a59590cb5259447ab93669e505baf1a8",
       "version_major": 2,
       "version_minor": 0
      },
      "text/plain": [
       "  0%|          | 0/1 [00:00<?, ?it/s]"
      ]
     },
     "metadata": {},
     "output_type": "display_data"
    },
    {
     "name": "stdout",
     "output_type": "stream",
     "text": [
      "CSPR = 6.00 dB\n",
      "Results:\n",
      "BER: 0.00e+00\n",
      "SNR: 25.20 dB\n",
      "SIR =  7.12  dB\n",
      "GMI: 4.00 bits\n",
      "\n"
     ]
    },
    {
     "data": {
      "application/vnd.jupyter.widget-view+json": {
       "model_id": "4913de8f789e4f218225edc2f3b9c8e3",
       "version_major": 2,
       "version_minor": 0
      },
      "text/plain": [
       "  0%|          | 0/10 [00:00<?, ?it/s]"
      ]
     },
     "metadata": {},
     "output_type": "display_data"
    },
    {
     "data": {
      "application/vnd.jupyter.widget-view+json": {
       "model_id": "29c533fe6deb47f2b657ab9e5bf5dd5c",
       "version_major": 2,
       "version_minor": 0
      },
      "text/plain": [
       "  0%|          | 0/1 [00:00<?, ?it/s]"
      ]
     },
     "metadata": {},
     "output_type": "display_data"
    },
    {
     "name": "stdout",
     "output_type": "stream",
     "text": [
      "CSPR = 7.00 dB\n",
      "Results:\n",
      "BER: 1.40e-03\n",
      "SNR: 16.38 dB\n",
      "SIR =  7.11  dB\n",
      "GMI: 3.98 bits\n",
      "\n"
     ]
    },
    {
     "data": {
      "application/vnd.jupyter.widget-view+json": {
       "model_id": "12569f817ea34c95a3a5dc2345c17875",
       "version_major": 2,
       "version_minor": 0
      },
      "text/plain": [
       "  0%|          | 0/1 [00:00<?, ?it/s]"
      ]
     },
     "metadata": {},
     "output_type": "display_data"
    },
    {
     "name": "stdout",
     "output_type": "stream",
     "text": [
      "CSPR = 7.00 dB\n",
      "Results:\n",
      "BER: 3.78e-04\n",
      "SNR: 17.37 dB\n",
      "SIR =  7.13  dB\n",
      "GMI: 3.99 bits\n",
      "\n"
     ]
    },
    {
     "data": {
      "application/vnd.jupyter.widget-view+json": {
       "model_id": "e5cbc4c552bb4f9fb85366f696ecb9c9",
       "version_major": 2,
       "version_minor": 0
      },
      "text/plain": [
       "  0%|          | 0/1 [00:00<?, ?it/s]"
      ]
     },
     "metadata": {},
     "output_type": "display_data"
    },
    {
     "name": "stdout",
     "output_type": "stream",
     "text": [
      "CSPR = 7.00 dB\n",
      "Results:\n",
      "BER: 7.50e-05\n",
      "SNR: 18.35 dB\n",
      "SIR =  7.1  dB\n",
      "GMI: 4.00 bits\n",
      "\n"
     ]
    },
    {
     "data": {
      "application/vnd.jupyter.widget-view+json": {
       "model_id": "658694f0e21944afb618d1bf3f13c9fd",
       "version_major": 2,
       "version_minor": 0
      },
      "text/plain": [
       "  0%|          | 0/1 [00:00<?, ?it/s]"
      ]
     },
     "metadata": {},
     "output_type": "display_data"
    },
    {
     "name": "stdout",
     "output_type": "stream",
     "text": [
      "CSPR = 7.00 dB\n",
      "Results:\n",
      "BER: 1.56e-05\n",
      "SNR: 19.35 dB\n",
      "SIR =  7.13  dB\n",
      "GMI: 4.00 bits\n",
      "\n"
     ]
    },
    {
     "data": {
      "application/vnd.jupyter.widget-view+json": {
       "model_id": "edb3f6dac12048ee946f31c9d8948482",
       "version_major": 2,
       "version_minor": 0
      },
      "text/plain": [
       "  0%|          | 0/1 [00:00<?, ?it/s]"
      ]
     },
     "metadata": {},
     "output_type": "display_data"
    },
    {
     "name": "stdout",
     "output_type": "stream",
     "text": [
      "CSPR = 7.00 dB\n",
      "Results:\n",
      "BER: 0.00e+00\n",
      "SNR: 20.33 dB\n",
      "SIR =  7.12  dB\n",
      "GMI: 4.00 bits\n",
      "\n"
     ]
    },
    {
     "data": {
      "application/vnd.jupyter.widget-view+json": {
       "model_id": "ac0b21df47334e03be68e05694a25a64",
       "version_major": 2,
       "version_minor": 0
      },
      "text/plain": [
       "  0%|          | 0/1 [00:00<?, ?it/s]"
      ]
     },
     "metadata": {},
     "output_type": "display_data"
    },
    {
     "name": "stdout",
     "output_type": "stream",
     "text": [
      "CSPR = 7.00 dB\n",
      "Results:\n",
      "BER: 0.00e+00\n",
      "SNR: 21.32 dB\n",
      "SIR =  7.13  dB\n",
      "GMI: 4.00 bits\n",
      "\n"
     ]
    },
    {
     "data": {
      "application/vnd.jupyter.widget-view+json": {
       "model_id": "4c54b3db61c34709942ccad0ec2e9af7",
       "version_major": 2,
       "version_minor": 0
      },
      "text/plain": [
       "  0%|          | 0/1 [00:00<?, ?it/s]"
      ]
     },
     "metadata": {},
     "output_type": "display_data"
    },
    {
     "name": "stdout",
     "output_type": "stream",
     "text": [
      "CSPR = 7.00 dB\n",
      "Results:\n",
      "BER: 0.00e+00\n",
      "SNR: 22.32 dB\n",
      "SIR =  7.11  dB\n",
      "GMI: 4.00 bits\n",
      "\n"
     ]
    },
    {
     "data": {
      "application/vnd.jupyter.widget-view+json": {
       "model_id": "97277ce1659146c59e33e3ef904e9a2e",
       "version_major": 2,
       "version_minor": 0
      },
      "text/plain": [
       "  0%|          | 0/1 [00:00<?, ?it/s]"
      ]
     },
     "metadata": {},
     "output_type": "display_data"
    },
    {
     "name": "stdout",
     "output_type": "stream",
     "text": [
      "CSPR = 7.00 dB\n",
      "Results:\n",
      "BER: 0.00e+00\n",
      "SNR: 23.26 dB\n",
      "SIR =  7.12  dB\n",
      "GMI: 4.00 bits\n",
      "\n"
     ]
    },
    {
     "data": {
      "application/vnd.jupyter.widget-view+json": {
       "model_id": "9284160946eb43179edaf7c9b134d9b4",
       "version_major": 2,
       "version_minor": 0
      },
      "text/plain": [
       "  0%|          | 0/1 [00:00<?, ?it/s]"
      ]
     },
     "metadata": {},
     "output_type": "display_data"
    },
    {
     "name": "stdout",
     "output_type": "stream",
     "text": [
      "CSPR = 7.00 dB\n",
      "Results:\n",
      "BER: 0.00e+00\n",
      "SNR: 24.25 dB\n",
      "SIR =  7.11  dB\n",
      "GMI: 4.00 bits\n",
      "\n"
     ]
    },
    {
     "data": {
      "application/vnd.jupyter.widget-view+json": {
       "model_id": "bf0f8cbbd6824096aa9fc1576676e9af",
       "version_major": 2,
       "version_minor": 0
      },
      "text/plain": [
       "  0%|          | 0/1 [00:00<?, ?it/s]"
      ]
     },
     "metadata": {},
     "output_type": "display_data"
    },
    {
     "name": "stdout",
     "output_type": "stream",
     "text": [
      "CSPR = 7.00 dB\n",
      "Results:\n",
      "BER: 0.00e+00\n",
      "SNR: 25.20 dB\n",
      "SIR =  7.08  dB\n",
      "GMI: 4.00 bits\n",
      "\n"
     ]
    },
    {
     "data": {
      "application/vnd.jupyter.widget-view+json": {
       "model_id": "c8e881533bd348aa839d55730bbc7ab7",
       "version_major": 2,
       "version_minor": 0
      },
      "text/plain": [
       "  0%|          | 0/10 [00:00<?, ?it/s]"
      ]
     },
     "metadata": {},
     "output_type": "display_data"
    },
    {
     "data": {
      "application/vnd.jupyter.widget-view+json": {
       "model_id": "527f27279dd84375ae5ad02c6aa14d22",
       "version_major": 2,
       "version_minor": 0
      },
      "text/plain": [
       "  0%|          | 0/1 [00:00<?, ?it/s]"
      ]
     },
     "metadata": {},
     "output_type": "display_data"
    },
    {
     "name": "stdout",
     "output_type": "stream",
     "text": [
      "CSPR = 8.00 dB\n",
      "Results:\n",
      "BER: 1.26e-03\n",
      "SNR: 16.37 dB\n",
      "SIR =  7.12  dB\n",
      "GMI: 3.98 bits\n",
      "\n"
     ]
    },
    {
     "data": {
      "application/vnd.jupyter.widget-view+json": {
       "model_id": "b1ed43542f0049b98fac1d190b203d66",
       "version_major": 2,
       "version_minor": 0
      },
      "text/plain": [
       "  0%|          | 0/1 [00:00<?, ?it/s]"
      ]
     },
     "metadata": {},
     "output_type": "display_data"
    },
    {
     "name": "stdout",
     "output_type": "stream",
     "text": [
      "CSPR = 8.00 dB\n",
      "Results:\n",
      "BER: 3.87e-04\n",
      "SNR: 17.37 dB\n",
      "SIR =  7.13  dB\n",
      "GMI: 3.99 bits\n",
      "\n"
     ]
    },
    {
     "data": {
      "application/vnd.jupyter.widget-view+json": {
       "model_id": "d6e416c4da6a4eff8b206095610cd7f2",
       "version_major": 2,
       "version_minor": 0
      },
      "text/plain": [
       "  0%|          | 0/1 [00:00<?, ?it/s]"
      ]
     },
     "metadata": {},
     "output_type": "display_data"
    },
    {
     "name": "stdout",
     "output_type": "stream",
     "text": [
      "CSPR = 8.00 dB\n",
      "Results:\n",
      "BER: 1.06e-04\n",
      "SNR: 18.35 dB\n",
      "SIR =  7.11  dB\n",
      "GMI: 4.00 bits\n",
      "\n"
     ]
    },
    {
     "data": {
      "application/vnd.jupyter.widget-view+json": {
       "model_id": "f51f181acd734b159ec645d55b016ddc",
       "version_major": 2,
       "version_minor": 0
      },
      "text/plain": [
       "  0%|          | 0/1 [00:00<?, ?it/s]"
      ]
     },
     "metadata": {},
     "output_type": "display_data"
    },
    {
     "name": "stdout",
     "output_type": "stream",
     "text": [
      "CSPR = 8.00 dB\n",
      "Results:\n",
      "BER: 1.25e-05\n",
      "SNR: 19.33 dB\n",
      "SIR =  7.13  dB\n",
      "GMI: 4.00 bits\n",
      "\n"
     ]
    },
    {
     "data": {
      "application/vnd.jupyter.widget-view+json": {
       "model_id": "507bc30c3d3549dfab6365632018831c",
       "version_major": 2,
       "version_minor": 0
      },
      "text/plain": [
       "  0%|          | 0/1 [00:00<?, ?it/s]"
      ]
     },
     "metadata": {},
     "output_type": "display_data"
    },
    {
     "name": "stdout",
     "output_type": "stream",
     "text": [
      "CSPR = 8.00 dB\n",
      "Results:\n",
      "BER: 0.00e+00\n",
      "SNR: 20.33 dB\n",
      "SIR =  7.12  dB\n",
      "GMI: 4.00 bits\n",
      "\n"
     ]
    },
    {
     "data": {
      "application/vnd.jupyter.widget-view+json": {
       "model_id": "2ed42122323647dfaca7f1626beb3bd1",
       "version_major": 2,
       "version_minor": 0
      },
      "text/plain": [
       "  0%|          | 0/1 [00:00<?, ?it/s]"
      ]
     },
     "metadata": {},
     "output_type": "display_data"
    },
    {
     "name": "stdout",
     "output_type": "stream",
     "text": [
      "CSPR = 8.00 dB\n",
      "Results:\n",
      "BER: 0.00e+00\n",
      "SNR: 21.32 dB\n",
      "SIR =  7.12  dB\n",
      "GMI: 4.00 bits\n",
      "\n"
     ]
    },
    {
     "data": {
      "application/vnd.jupyter.widget-view+json": {
       "model_id": "105c1e12a72f46d5b6ab91bef9cd11d4",
       "version_major": 2,
       "version_minor": 0
      },
      "text/plain": [
       "  0%|          | 0/1 [00:00<?, ?it/s]"
      ]
     },
     "metadata": {},
     "output_type": "display_data"
    },
    {
     "name": "stdout",
     "output_type": "stream",
     "text": [
      "CSPR = 8.00 dB\n",
      "Results:\n",
      "BER: 0.00e+00\n",
      "SNR: 22.29 dB\n",
      "SIR =  7.12  dB\n",
      "GMI: 4.00 bits\n",
      "\n"
     ]
    },
    {
     "data": {
      "application/vnd.jupyter.widget-view+json": {
       "model_id": "c9af1e43dbcb43499966c8817aa70235",
       "version_major": 2,
       "version_minor": 0
      },
      "text/plain": [
       "  0%|          | 0/1 [00:00<?, ?it/s]"
      ]
     },
     "metadata": {},
     "output_type": "display_data"
    },
    {
     "name": "stdout",
     "output_type": "stream",
     "text": [
      "CSPR = 8.00 dB\n",
      "Results:\n",
      "BER: 0.00e+00\n",
      "SNR: 23.25 dB\n",
      "SIR =  7.12  dB\n",
      "GMI: 4.00 bits\n",
      "\n"
     ]
    },
    {
     "data": {
      "application/vnd.jupyter.widget-view+json": {
       "model_id": "b445652c51a0463b87c58c67583d7535",
       "version_major": 2,
       "version_minor": 0
      },
      "text/plain": [
       "  0%|          | 0/1 [00:00<?, ?it/s]"
      ]
     },
     "metadata": {},
     "output_type": "display_data"
    },
    {
     "name": "stdout",
     "output_type": "stream",
     "text": [
      "CSPR = 8.00 dB\n",
      "Results:\n",
      "BER: 0.00e+00\n",
      "SNR: 24.23 dB\n",
      "SIR =  7.12  dB\n",
      "GMI: 4.00 bits\n",
      "\n"
     ]
    },
    {
     "data": {
      "application/vnd.jupyter.widget-view+json": {
       "model_id": "282e8633c11a4871a95edbf2faae580c",
       "version_major": 2,
       "version_minor": 0
      },
      "text/plain": [
       "  0%|          | 0/1 [00:00<?, ?it/s]"
      ]
     },
     "metadata": {},
     "output_type": "display_data"
    },
    {
     "name": "stdout",
     "output_type": "stream",
     "text": [
      "CSPR = 8.00 dB\n",
      "Results:\n",
      "BER: 0.00e+00\n",
      "SNR: 25.17 dB\n",
      "SIR =  7.11  dB\n",
      "GMI: 4.00 bits\n",
      "\n"
     ]
    },
    {
     "data": {
      "application/vnd.jupyter.widget-view+json": {
       "model_id": "492c5ea565784deaa3566dcc1e16193b",
       "version_major": 2,
       "version_minor": 0
      },
      "text/plain": [
       "  0%|          | 0/10 [00:00<?, ?it/s]"
      ]
     },
     "metadata": {},
     "output_type": "display_data"
    },
    {
     "data": {
      "application/vnd.jupyter.widget-view+json": {
       "model_id": "de0cd8697cbd4731bae2baf53274929a",
       "version_major": 2,
       "version_minor": 0
      },
      "text/plain": [
       "  0%|          | 0/1 [00:00<?, ?it/s]"
      ]
     },
     "metadata": {},
     "output_type": "display_data"
    },
    {
     "name": "stdout",
     "output_type": "stream",
     "text": [
      "CSPR = 9.00 dB\n",
      "Results:\n",
      "BER: 1.28e-03\n",
      "SNR: 16.36 dB\n",
      "SIR =  7.11  dB\n",
      "GMI: 3.98 bits\n",
      "\n"
     ]
    },
    {
     "data": {
      "application/vnd.jupyter.widget-view+json": {
       "model_id": "ff2500466470428caff69b3291b61af7",
       "version_major": 2,
       "version_minor": 0
      },
      "text/plain": [
       "  0%|          | 0/1 [00:00<?, ?it/s]"
      ]
     },
     "metadata": {},
     "output_type": "display_data"
    },
    {
     "name": "stdout",
     "output_type": "stream",
     "text": [
      "CSPR = 9.00 dB\n",
      "Results:\n",
      "BER: 4.47e-04\n",
      "SNR: 17.34 dB\n",
      "SIR =  7.12  dB\n",
      "GMI: 3.99 bits\n",
      "\n"
     ]
    },
    {
     "data": {
      "application/vnd.jupyter.widget-view+json": {
       "model_id": "5bfc8a549b014167830c2200a9a19f7a",
       "version_major": 2,
       "version_minor": 0
      },
      "text/plain": [
       "  0%|          | 0/1 [00:00<?, ?it/s]"
      ]
     },
     "metadata": {},
     "output_type": "display_data"
    },
    {
     "name": "stdout",
     "output_type": "stream",
     "text": [
      "CSPR = 9.00 dB\n",
      "Results:\n",
      "BER: 1.09e-04\n",
      "SNR: 18.37 dB\n",
      "SIR =  7.12  dB\n",
      "GMI: 4.00 bits\n",
      "\n"
     ]
    },
    {
     "data": {
      "application/vnd.jupyter.widget-view+json": {
       "model_id": "a16b38c36b884ca5a68f5e8d4904d22b",
       "version_major": 2,
       "version_minor": 0
      },
      "text/plain": [
       "  0%|          | 0/1 [00:00<?, ?it/s]"
      ]
     },
     "metadata": {},
     "output_type": "display_data"
    },
    {
     "name": "stdout",
     "output_type": "stream",
     "text": [
      "CSPR = 9.00 dB\n",
      "Results:\n",
      "BER: 3.13e-06\n",
      "SNR: 19.36 dB\n",
      "SIR =  7.1  dB\n",
      "GMI: 4.00 bits\n",
      "\n"
     ]
    },
    {
     "data": {
      "application/vnd.jupyter.widget-view+json": {
       "model_id": "6928b311434f45f48318d73ffd9185d9",
       "version_major": 2,
       "version_minor": 0
      },
      "text/plain": [
       "  0%|          | 0/1 [00:00<?, ?it/s]"
      ]
     },
     "metadata": {},
     "output_type": "display_data"
    },
    {
     "name": "stdout",
     "output_type": "stream",
     "text": [
      "CSPR = 9.00 dB\n",
      "Results:\n",
      "BER: 3.13e-06\n",
      "SNR: 20.34 dB\n",
      "SIR =  7.11  dB\n",
      "GMI: 4.00 bits\n",
      "\n"
     ]
    },
    {
     "data": {
      "application/vnd.jupyter.widget-view+json": {
       "model_id": "a28b68bcad4f4594943f5ef9ac523750",
       "version_major": 2,
       "version_minor": 0
      },
      "text/plain": [
       "  0%|          | 0/1 [00:00<?, ?it/s]"
      ]
     },
     "metadata": {},
     "output_type": "display_data"
    },
    {
     "name": "stdout",
     "output_type": "stream",
     "text": [
      "CSPR = 9.00 dB\n",
      "Results:\n",
      "BER: 0.00e+00\n",
      "SNR: 21.33 dB\n",
      "SIR =  7.11  dB\n",
      "GMI: 4.00 bits\n",
      "\n"
     ]
    },
    {
     "data": {
      "application/vnd.jupyter.widget-view+json": {
       "model_id": "15b79d2c3b3345f180f4a7e038e0be69",
       "version_major": 2,
       "version_minor": 0
      },
      "text/plain": [
       "  0%|          | 0/1 [00:00<?, ?it/s]"
      ]
     },
     "metadata": {},
     "output_type": "display_data"
    },
    {
     "name": "stdout",
     "output_type": "stream",
     "text": [
      "CSPR = 9.00 dB\n",
      "Results:\n",
      "BER: 0.00e+00\n",
      "SNR: 22.28 dB\n",
      "SIR =  7.12  dB\n",
      "GMI: 4.00 bits\n",
      "\n"
     ]
    },
    {
     "data": {
      "application/vnd.jupyter.widget-view+json": {
       "model_id": "c3dc35d2f9cd489d8f40e712e8655458",
       "version_major": 2,
       "version_minor": 0
      },
      "text/plain": [
       "  0%|          | 0/1 [00:00<?, ?it/s]"
      ]
     },
     "metadata": {},
     "output_type": "display_data"
    },
    {
     "name": "stdout",
     "output_type": "stream",
     "text": [
      "CSPR = 9.00 dB\n",
      "Results:\n",
      "BER: 0.00e+00\n",
      "SNR: 23.26 dB\n",
      "SIR =  7.12  dB\n",
      "GMI: 4.00 bits\n",
      "\n"
     ]
    },
    {
     "data": {
      "application/vnd.jupyter.widget-view+json": {
       "model_id": "bf967378c1524142bfa9e23241682d00",
       "version_major": 2,
       "version_minor": 0
      },
      "text/plain": [
       "  0%|          | 0/1 [00:00<?, ?it/s]"
      ]
     },
     "metadata": {},
     "output_type": "display_data"
    },
    {
     "name": "stdout",
     "output_type": "stream",
     "text": [
      "CSPR = 9.00 dB\n",
      "Results:\n",
      "BER: 0.00e+00\n",
      "SNR: 24.25 dB\n",
      "SIR =  7.11  dB\n",
      "GMI: 4.00 bits\n",
      "\n"
     ]
    },
    {
     "data": {
      "application/vnd.jupyter.widget-view+json": {
       "model_id": "4e350798b5f747e9b958765fceff4948",
       "version_major": 2,
       "version_minor": 0
      },
      "text/plain": [
       "  0%|          | 0/1 [00:00<?, ?it/s]"
      ]
     },
     "metadata": {},
     "output_type": "display_data"
    },
    {
     "name": "stdout",
     "output_type": "stream",
     "text": [
      "CSPR = 9.00 dB\n",
      "Results:\n",
      "BER: 0.00e+00\n",
      "SNR: 25.22 dB\n",
      "SIR =  7.12  dB\n",
      "GMI: 4.00 bits\n",
      "\n"
     ]
    },
    {
     "data": {
      "application/vnd.jupyter.widget-view+json": {
       "model_id": "66b1fb2343274b39aad6756efbeddacc",
       "version_major": 2,
       "version_minor": 0
      },
      "text/plain": [
       "  0%|          | 0/10 [00:00<?, ?it/s]"
      ]
     },
     "metadata": {},
     "output_type": "display_data"
    },
    {
     "data": {
      "application/vnd.jupyter.widget-view+json": {
       "model_id": "bac13a53d5f849c3bc965d3352d15028",
       "version_major": 2,
       "version_minor": 0
      },
      "text/plain": [
       "  0%|          | 0/1 [00:00<?, ?it/s]"
      ]
     },
     "metadata": {},
     "output_type": "display_data"
    },
    {
     "name": "stdout",
     "output_type": "stream",
     "text": [
      "CSPR = 10.00 dB\n",
      "Results:\n",
      "BER: 1.37e-03\n",
      "SNR: 16.37 dB\n",
      "SIR =  7.12  dB\n",
      "GMI: 3.98 bits\n",
      "\n"
     ]
    },
    {
     "data": {
      "application/vnd.jupyter.widget-view+json": {
       "model_id": "e6abb5894eae41458b03deccc3fde1fd",
       "version_major": 2,
       "version_minor": 0
      },
      "text/plain": [
       "  0%|          | 0/1 [00:00<?, ?it/s]"
      ]
     },
     "metadata": {},
     "output_type": "display_data"
    },
    {
     "name": "stdout",
     "output_type": "stream",
     "text": [
      "CSPR = 10.00 dB\n",
      "Results:\n",
      "BER: 3.81e-04\n",
      "SNR: 17.35 dB\n",
      "SIR =  7.11  dB\n",
      "GMI: 3.99 bits\n",
      "\n"
     ]
    },
    {
     "data": {
      "application/vnd.jupyter.widget-view+json": {
       "model_id": "6ff0da7105be42b2bb5c44df8f8e0bd3",
       "version_major": 2,
       "version_minor": 0
      },
      "text/plain": [
       "  0%|          | 0/1 [00:00<?, ?it/s]"
      ]
     },
     "metadata": {},
     "output_type": "display_data"
    },
    {
     "name": "stdout",
     "output_type": "stream",
     "text": [
      "CSPR = 10.00 dB\n",
      "Results:\n",
      "BER: 9.69e-05\n",
      "SNR: 18.35 dB\n",
      "SIR =  7.12  dB\n",
      "GMI: 4.00 bits\n",
      "\n"
     ]
    },
    {
     "data": {
      "application/vnd.jupyter.widget-view+json": {
       "model_id": "843270f32d9245fa9238a5d599cc40d6",
       "version_major": 2,
       "version_minor": 0
      },
      "text/plain": [
       "  0%|          | 0/1 [00:00<?, ?it/s]"
      ]
     },
     "metadata": {},
     "output_type": "display_data"
    },
    {
     "name": "stdout",
     "output_type": "stream",
     "text": [
      "CSPR = 10.00 dB\n",
      "Results:\n",
      "BER: 9.37e-06\n",
      "SNR: 19.36 dB\n",
      "SIR =  7.12  dB\n",
      "GMI: 4.00 bits\n",
      "\n"
     ]
    },
    {
     "data": {
      "application/vnd.jupyter.widget-view+json": {
       "model_id": "5e80c38993964804bb80689c08f54277",
       "version_major": 2,
       "version_minor": 0
      },
      "text/plain": [
       "  0%|          | 0/1 [00:00<?, ?it/s]"
      ]
     },
     "metadata": {},
     "output_type": "display_data"
    },
    {
     "name": "stdout",
     "output_type": "stream",
     "text": [
      "CSPR = 10.00 dB\n",
      "Results:\n",
      "BER: 0.00e+00\n",
      "SNR: 20.34 dB\n",
      "SIR =  7.13  dB\n",
      "GMI: 4.00 bits\n",
      "\n"
     ]
    },
    {
     "data": {
      "application/vnd.jupyter.widget-view+json": {
       "model_id": "375af6ac606446c78c163b10e31fc91f",
       "version_major": 2,
       "version_minor": 0
      },
      "text/plain": [
       "  0%|          | 0/1 [00:00<?, ?it/s]"
      ]
     },
     "metadata": {},
     "output_type": "display_data"
    },
    {
     "name": "stdout",
     "output_type": "stream",
     "text": [
      "CSPR = 10.00 dB\n",
      "Results:\n",
      "BER: 0.00e+00\n",
      "SNR: 21.33 dB\n",
      "SIR =  7.12  dB\n",
      "GMI: 4.00 bits\n",
      "\n"
     ]
    },
    {
     "data": {
      "application/vnd.jupyter.widget-view+json": {
       "model_id": "9230be4901dd4b8cabb22d3115c6bb42",
       "version_major": 2,
       "version_minor": 0
      },
      "text/plain": [
       "  0%|          | 0/1 [00:00<?, ?it/s]"
      ]
     },
     "metadata": {},
     "output_type": "display_data"
    },
    {
     "name": "stdout",
     "output_type": "stream",
     "text": [
      "CSPR = 10.00 dB\n",
      "Results:\n",
      "BER: 0.00e+00\n",
      "SNR: 22.30 dB\n",
      "SIR =  7.11  dB\n",
      "GMI: 4.00 bits\n",
      "\n"
     ]
    },
    {
     "data": {
      "application/vnd.jupyter.widget-view+json": {
       "model_id": "4eee700c193c468cb32b3e2be4d70c2b",
       "version_major": 2,
       "version_minor": 0
      },
      "text/plain": [
       "  0%|          | 0/1 [00:00<?, ?it/s]"
      ]
     },
     "metadata": {},
     "output_type": "display_data"
    },
    {
     "name": "stdout",
     "output_type": "stream",
     "text": [
      "CSPR = 10.00 dB\n",
      "Results:\n",
      "BER: 0.00e+00\n",
      "SNR: 23.29 dB\n",
      "SIR =  7.12  dB\n",
      "GMI: 4.00 bits\n",
      "\n"
     ]
    },
    {
     "data": {
      "application/vnd.jupyter.widget-view+json": {
       "model_id": "300ffce8cac94ecea92e6668c96c4c5a",
       "version_major": 2,
       "version_minor": 0
      },
      "text/plain": [
       "  0%|          | 0/1 [00:00<?, ?it/s]"
      ]
     },
     "metadata": {},
     "output_type": "display_data"
    },
    {
     "name": "stdout",
     "output_type": "stream",
     "text": [
      "CSPR = 10.00 dB\n",
      "Results:\n",
      "BER: 0.00e+00\n",
      "SNR: 24.25 dB\n",
      "SIR =  7.12  dB\n",
      "GMI: 4.00 bits\n",
      "\n"
     ]
    },
    {
     "data": {
      "application/vnd.jupyter.widget-view+json": {
       "model_id": "6fa5688baa9b4612a6aad8a355d408cc",
       "version_major": 2,
       "version_minor": 0
      },
      "text/plain": [
       "  0%|          | 0/1 [00:00<?, ?it/s]"
      ]
     },
     "metadata": {},
     "output_type": "display_data"
    },
    {
     "name": "stdout",
     "output_type": "stream",
     "text": [
      "CSPR = 10.00 dB\n",
      "Results:\n",
      "BER: 0.00e+00\n",
      "SNR: 25.21 dB\n",
      "SIR =  7.11  dB\n",
      "GMI: 4.00 bits\n",
      "\n"
     ]
    },
    {
     "data": {
      "application/vnd.jupyter.widget-view+json": {
       "model_id": "79838aa386c6416d819d187665feb115",
       "version_major": 2,
       "version_minor": 0
      },
      "text/plain": [
       "  0%|          | 0/10 [00:00<?, ?it/s]"
      ]
     },
     "metadata": {},
     "output_type": "display_data"
    },
    {
     "data": {
      "application/vnd.jupyter.widget-view+json": {
       "model_id": "af1b1da91bfe41c5b7cb2597cf0c8b1d",
       "version_major": 2,
       "version_minor": 0
      },
      "text/plain": [
       "  0%|          | 0/1 [00:00<?, ?it/s]"
      ]
     },
     "metadata": {},
     "output_type": "display_data"
    },
    {
     "name": "stdout",
     "output_type": "stream",
     "text": [
      "CSPR = 11.00 dB\n",
      "Results:\n",
      "BER: 1.29e-03\n",
      "SNR: 16.34 dB\n",
      "SIR =  7.11  dB\n",
      "GMI: 3.98 bits\n",
      "\n"
     ]
    },
    {
     "data": {
      "application/vnd.jupyter.widget-view+json": {
       "model_id": "bf273bb264f24f98bd9b15e76a7ec4e0",
       "version_major": 2,
       "version_minor": 0
      },
      "text/plain": [
       "  0%|          | 0/1 [00:00<?, ?it/s]"
      ]
     },
     "metadata": {},
     "output_type": "display_data"
    },
    {
     "name": "stdout",
     "output_type": "stream",
     "text": [
      "CSPR = 11.00 dB\n",
      "Results:\n",
      "BER: 4.53e-04\n",
      "SNR: 17.37 dB\n",
      "SIR =  7.11  dB\n",
      "GMI: 3.99 bits\n",
      "\n"
     ]
    },
    {
     "data": {
      "application/vnd.jupyter.widget-view+json": {
       "model_id": "c866ba4fd1444d509c3b5d94314964e5",
       "version_major": 2,
       "version_minor": 0
      },
      "text/plain": [
       "  0%|          | 0/1 [00:00<?, ?it/s]"
      ]
     },
     "metadata": {},
     "output_type": "display_data"
    },
    {
     "name": "stdout",
     "output_type": "stream",
     "text": [
      "CSPR = 11.00 dB\n",
      "Results:\n",
      "BER: 5.94e-05\n",
      "SNR: 18.37 dB\n",
      "SIR =  7.09  dB\n",
      "GMI: 4.00 bits\n",
      "\n"
     ]
    },
    {
     "data": {
      "application/vnd.jupyter.widget-view+json": {
       "model_id": "2a7458d25a654760816e013c5b195e76",
       "version_major": 2,
       "version_minor": 0
      },
      "text/plain": [
       "  0%|          | 0/1 [00:00<?, ?it/s]"
      ]
     },
     "metadata": {},
     "output_type": "display_data"
    },
    {
     "name": "stdout",
     "output_type": "stream",
     "text": [
      "CSPR = 11.00 dB\n",
      "Results:\n",
      "BER: 9.37e-06\n",
      "SNR: 19.37 dB\n",
      "SIR =  7.1  dB\n",
      "GMI: 4.00 bits\n",
      "\n"
     ]
    },
    {
     "data": {
      "application/vnd.jupyter.widget-view+json": {
       "model_id": "4261bc8c019243f485ab6e7429d64c52",
       "version_major": 2,
       "version_minor": 0
      },
      "text/plain": [
       "  0%|          | 0/1 [00:00<?, ?it/s]"
      ]
     },
     "metadata": {},
     "output_type": "display_data"
    },
    {
     "name": "stdout",
     "output_type": "stream",
     "text": [
      "CSPR = 11.00 dB\n",
      "Results:\n",
      "BER: 0.00e+00\n",
      "SNR: 20.35 dB\n",
      "SIR =  7.1  dB\n",
      "GMI: 4.00 bits\n",
      "\n"
     ]
    },
    {
     "data": {
      "application/vnd.jupyter.widget-view+json": {
       "model_id": "91d27bc8e6074ddabb17d046c1c8c34a",
       "version_major": 2,
       "version_minor": 0
      },
      "text/plain": [
       "  0%|          | 0/1 [00:00<?, ?it/s]"
      ]
     },
     "metadata": {},
     "output_type": "display_data"
    },
    {
     "name": "stdout",
     "output_type": "stream",
     "text": [
      "CSPR = 11.00 dB\n",
      "Results:\n",
      "BER: 0.00e+00\n",
      "SNR: 21.30 dB\n",
      "SIR =  7.1  dB\n",
      "GMI: 4.00 bits\n",
      "\n"
     ]
    },
    {
     "data": {
      "application/vnd.jupyter.widget-view+json": {
       "model_id": "0605370a316a456ab296df9f034de231",
       "version_major": 2,
       "version_minor": 0
      },
      "text/plain": [
       "  0%|          | 0/1 [00:00<?, ?it/s]"
      ]
     },
     "metadata": {},
     "output_type": "display_data"
    },
    {
     "name": "stdout",
     "output_type": "stream",
     "text": [
      "CSPR = 11.00 dB\n",
      "Results:\n",
      "BER: 0.00e+00\n",
      "SNR: 22.29 dB\n",
      "SIR =  7.1  dB\n",
      "GMI: 4.00 bits\n",
      "\n"
     ]
    },
    {
     "data": {
      "application/vnd.jupyter.widget-view+json": {
       "model_id": "7c859f63dbe14d17a45f405c53307f70",
       "version_major": 2,
       "version_minor": 0
      },
      "text/plain": [
       "  0%|          | 0/1 [00:00<?, ?it/s]"
      ]
     },
     "metadata": {},
     "output_type": "display_data"
    },
    {
     "name": "stdout",
     "output_type": "stream",
     "text": [
      "CSPR = 11.00 dB\n",
      "Results:\n",
      "BER: 0.00e+00\n",
      "SNR: 23.30 dB\n",
      "SIR =  7.14  dB\n",
      "GMI: 4.00 bits\n",
      "\n"
     ]
    },
    {
     "data": {
      "application/vnd.jupyter.widget-view+json": {
       "model_id": "85e999fc32f544d9bf465557d35e52f2",
       "version_major": 2,
       "version_minor": 0
      },
      "text/plain": [
       "  0%|          | 0/1 [00:00<?, ?it/s]"
      ]
     },
     "metadata": {},
     "output_type": "display_data"
    },
    {
     "name": "stdout",
     "output_type": "stream",
     "text": [
      "CSPR = 11.00 dB\n",
      "Results:\n",
      "BER: 0.00e+00\n",
      "SNR: 24.26 dB\n",
      "SIR =  7.08  dB\n",
      "GMI: 4.00 bits\n",
      "\n"
     ]
    },
    {
     "data": {
      "application/vnd.jupyter.widget-view+json": {
       "model_id": "aeb53d95857146bd8b1bd77872c5c752",
       "version_major": 2,
       "version_minor": 0
      },
      "text/plain": [
       "  0%|          | 0/1 [00:00<?, ?it/s]"
      ]
     },
     "metadata": {},
     "output_type": "display_data"
    },
    {
     "name": "stdout",
     "output_type": "stream",
     "text": [
      "CSPR = 11.00 dB\n",
      "Results:\n",
      "BER: 0.00e+00\n",
      "SNR: 25.21 dB\n",
      "SIR =  7.11  dB\n",
      "GMI: 4.00 bits\n",
      "\n"
     ]
    },
    {
     "data": {
      "application/vnd.jupyter.widget-view+json": {
       "model_id": "871dc12b91664ea185042ad1633a1b75",
       "version_major": 2,
       "version_minor": 0
      },
      "text/plain": [
       "  0%|          | 0/10 [00:00<?, ?it/s]"
      ]
     },
     "metadata": {},
     "output_type": "display_data"
    },
    {
     "data": {
      "application/vnd.jupyter.widget-view+json": {
       "model_id": "6ab2c9e624fa480e93151114c9de81b0",
       "version_major": 2,
       "version_minor": 0
      },
      "text/plain": [
       "  0%|          | 0/1 [00:00<?, ?it/s]"
      ]
     },
     "metadata": {},
     "output_type": "display_data"
    },
    {
     "name": "stdout",
     "output_type": "stream",
     "text": [
      "CSPR = 12.00 dB\n",
      "Results:\n",
      "BER: 1.38e-03\n",
      "SNR: 16.35 dB\n",
      "SIR =  7.11  dB\n",
      "GMI: 3.98 bits\n",
      "\n"
     ]
    },
    {
     "data": {
      "application/vnd.jupyter.widget-view+json": {
       "model_id": "c39a626915214068ba3a7c57ee6e0646",
       "version_major": 2,
       "version_minor": 0
      },
      "text/plain": [
       "  0%|          | 0/1 [00:00<?, ?it/s]"
      ]
     },
     "metadata": {},
     "output_type": "display_data"
    },
    {
     "name": "stdout",
     "output_type": "stream",
     "text": [
      "CSPR = 12.00 dB\n",
      "Results:\n",
      "BER: 4.66e-04\n",
      "SNR: 17.33 dB\n",
      "SIR =  7.12  dB\n",
      "GMI: 3.99 bits\n",
      "\n"
     ]
    },
    {
     "data": {
      "application/vnd.jupyter.widget-view+json": {
       "model_id": "cf2447b07e0d47c9b1609fa90de0235a",
       "version_major": 2,
       "version_minor": 0
      },
      "text/plain": [
       "  0%|          | 0/1 [00:00<?, ?it/s]"
      ]
     },
     "metadata": {},
     "output_type": "display_data"
    },
    {
     "name": "stdout",
     "output_type": "stream",
     "text": [
      "CSPR = 12.00 dB\n",
      "Results:\n",
      "BER: 5.94e-05\n",
      "SNR: 18.36 dB\n",
      "SIR =  7.14  dB\n",
      "GMI: 4.00 bits\n",
      "\n"
     ]
    },
    {
     "data": {
      "application/vnd.jupyter.widget-view+json": {
       "model_id": "138e76d7fbf24db6afba57df384ade44",
       "version_major": 2,
       "version_minor": 0
      },
      "text/plain": [
       "  0%|          | 0/1 [00:00<?, ?it/s]"
      ]
     },
     "metadata": {},
     "output_type": "display_data"
    },
    {
     "name": "stdout",
     "output_type": "stream",
     "text": [
      "CSPR = 12.00 dB\n",
      "Results:\n",
      "BER: 1.25e-05\n",
      "SNR: 19.33 dB\n",
      "SIR =  7.12  dB\n",
      "GMI: 4.00 bits\n",
      "\n"
     ]
    },
    {
     "data": {
      "application/vnd.jupyter.widget-view+json": {
       "model_id": "e926bc34e2004d4fab1dcc828c75c30b",
       "version_major": 2,
       "version_minor": 0
      },
      "text/plain": [
       "  0%|          | 0/1 [00:00<?, ?it/s]"
      ]
     },
     "metadata": {},
     "output_type": "display_data"
    },
    {
     "name": "stdout",
     "output_type": "stream",
     "text": [
      "CSPR = 12.00 dB\n",
      "Results:\n",
      "BER: 3.13e-06\n",
      "SNR: 20.34 dB\n",
      "SIR =  7.11  dB\n",
      "GMI: 4.00 bits\n",
      "\n"
     ]
    },
    {
     "data": {
      "application/vnd.jupyter.widget-view+json": {
       "model_id": "8e271c2811bc4b3696cb294d26c81a26",
       "version_major": 2,
       "version_minor": 0
      },
      "text/plain": [
       "  0%|          | 0/1 [00:00<?, ?it/s]"
      ]
     },
     "metadata": {},
     "output_type": "display_data"
    },
    {
     "name": "stdout",
     "output_type": "stream",
     "text": [
      "CSPR = 12.00 dB\n",
      "Results:\n",
      "BER: 0.00e+00\n",
      "SNR: 21.34 dB\n",
      "SIR =  7.12  dB\n",
      "GMI: 4.00 bits\n",
      "\n"
     ]
    },
    {
     "data": {
      "application/vnd.jupyter.widget-view+json": {
       "model_id": "214061df42f748ad93629786fd3b193d",
       "version_major": 2,
       "version_minor": 0
      },
      "text/plain": [
       "  0%|          | 0/1 [00:00<?, ?it/s]"
      ]
     },
     "metadata": {},
     "output_type": "display_data"
    },
    {
     "name": "stdout",
     "output_type": "stream",
     "text": [
      "CSPR = 12.00 dB\n",
      "Results:\n",
      "BER: 0.00e+00\n",
      "SNR: 22.31 dB\n",
      "SIR =  7.11  dB\n",
      "GMI: 4.00 bits\n",
      "\n"
     ]
    },
    {
     "data": {
      "application/vnd.jupyter.widget-view+json": {
       "model_id": "ca83e47c62ae45b0a026c746e55424bc",
       "version_major": 2,
       "version_minor": 0
      },
      "text/plain": [
       "  0%|          | 0/1 [00:00<?, ?it/s]"
      ]
     },
     "metadata": {},
     "output_type": "display_data"
    },
    {
     "name": "stdout",
     "output_type": "stream",
     "text": [
      "CSPR = 12.00 dB\n",
      "Results:\n",
      "BER: 0.00e+00\n",
      "SNR: 23.27 dB\n",
      "SIR =  7.12  dB\n",
      "GMI: 4.00 bits\n",
      "\n"
     ]
    },
    {
     "data": {
      "application/vnd.jupyter.widget-view+json": {
       "model_id": "98f06993ea8944c1ab78f50a99c7b771",
       "version_major": 2,
       "version_minor": 0
      },
      "text/plain": [
       "  0%|          | 0/1 [00:00<?, ?it/s]"
      ]
     },
     "metadata": {},
     "output_type": "display_data"
    },
    {
     "name": "stdout",
     "output_type": "stream",
     "text": [
      "CSPR = 12.00 dB\n",
      "Results:\n",
      "BER: 0.00e+00\n",
      "SNR: 24.24 dB\n",
      "SIR =  7.13  dB\n",
      "GMI: 4.00 bits\n",
      "\n"
     ]
    },
    {
     "data": {
      "application/vnd.jupyter.widget-view+json": {
       "model_id": "606c7afab10649dc962ed9e7f0cfc81b",
       "version_major": 2,
       "version_minor": 0
      },
      "text/plain": [
       "  0%|          | 0/1 [00:00<?, ?it/s]"
      ]
     },
     "metadata": {},
     "output_type": "display_data"
    },
    {
     "name": "stdout",
     "output_type": "stream",
     "text": [
      "CSPR = 12.00 dB\n",
      "Results:\n",
      "BER: 0.00e+00\n",
      "SNR: 25.21 dB\n",
      "SIR =  7.1  dB\n",
      "GMI: 4.00 bits\n",
      "\n"
     ]
    },
    {
     "data": {
      "application/vnd.jupyter.widget-view+json": {
       "model_id": "a6d293225bdf4e149d5230aa5017b690",
       "version_major": 2,
       "version_minor": 0
      },
      "text/plain": [
       "  0%|          | 0/10 [00:00<?, ?it/s]"
      ]
     },
     "metadata": {},
     "output_type": "display_data"
    },
    {
     "data": {
      "application/vnd.jupyter.widget-view+json": {
       "model_id": "74dfea4848ac4152b3f58b001d507508",
       "version_major": 2,
       "version_minor": 0
      },
      "text/plain": [
       "  0%|          | 0/1 [00:00<?, ?it/s]"
      ]
     },
     "metadata": {},
     "output_type": "display_data"
    },
    {
     "name": "stdout",
     "output_type": "stream",
     "text": [
      "CSPR = 13.00 dB\n",
      "Results:\n",
      "BER: 1.37e-03\n",
      "SNR: 16.37 dB\n",
      "SIR =  7.12  dB\n",
      "GMI: 3.98 bits\n",
      "\n"
     ]
    },
    {
     "data": {
      "application/vnd.jupyter.widget-view+json": {
       "model_id": "7980c08751a44a47abeab7c5c452ad93",
       "version_major": 2,
       "version_minor": 0
      },
      "text/plain": [
       "  0%|          | 0/1 [00:00<?, ?it/s]"
      ]
     },
     "metadata": {},
     "output_type": "display_data"
    },
    {
     "name": "stdout",
     "output_type": "stream",
     "text": [
      "CSPR = 13.00 dB\n",
      "Results:\n",
      "BER: 3.62e-04\n",
      "SNR: 17.38 dB\n",
      "SIR =  7.11  dB\n",
      "GMI: 3.99 bits\n",
      "\n"
     ]
    },
    {
     "data": {
      "application/vnd.jupyter.widget-view+json": {
       "model_id": "3d57b5bd0de24ef49a4eb9e915ccacd9",
       "version_major": 2,
       "version_minor": 0
      },
      "text/plain": [
       "  0%|          | 0/1 [00:00<?, ?it/s]"
      ]
     },
     "metadata": {},
     "output_type": "display_data"
    },
    {
     "name": "stdout",
     "output_type": "stream",
     "text": [
      "CSPR = 13.00 dB\n",
      "Results:\n",
      "BER: 9.38e-05\n",
      "SNR: 18.33 dB\n",
      "SIR =  7.11  dB\n",
      "GMI: 4.00 bits\n",
      "\n"
     ]
    },
    {
     "data": {
      "application/vnd.jupyter.widget-view+json": {
       "model_id": "910deb5be2874ba4991547946fa6534f",
       "version_major": 2,
       "version_minor": 0
      },
      "text/plain": [
       "  0%|          | 0/1 [00:00<?, ?it/s]"
      ]
     },
     "metadata": {},
     "output_type": "display_data"
    },
    {
     "name": "stdout",
     "output_type": "stream",
     "text": [
      "CSPR = 13.00 dB\n",
      "Results:\n",
      "BER: 1.87e-05\n",
      "SNR: 19.34 dB\n",
      "SIR =  7.11  dB\n",
      "GMI: 4.00 bits\n",
      "\n"
     ]
    },
    {
     "data": {
      "application/vnd.jupyter.widget-view+json": {
       "model_id": "a1031faad0dd4d2a899fec02712e0e5b",
       "version_major": 2,
       "version_minor": 0
      },
      "text/plain": [
       "  0%|          | 0/1 [00:00<?, ?it/s]"
      ]
     },
     "metadata": {},
     "output_type": "display_data"
    },
    {
     "name": "stdout",
     "output_type": "stream",
     "text": [
      "CSPR = 13.00 dB\n",
      "Results:\n",
      "BER: 0.00e+00\n",
      "SNR: 20.35 dB\n",
      "SIR =  7.13  dB\n",
      "GMI: 4.00 bits\n",
      "\n"
     ]
    },
    {
     "data": {
      "application/vnd.jupyter.widget-view+json": {
       "model_id": "a56e8ac2181447548c2de378fe209a8e",
       "version_major": 2,
       "version_minor": 0
      },
      "text/plain": [
       "  0%|          | 0/1 [00:00<?, ?it/s]"
      ]
     },
     "metadata": {},
     "output_type": "display_data"
    },
    {
     "name": "stdout",
     "output_type": "stream",
     "text": [
      "CSPR = 13.00 dB\n",
      "Results:\n",
      "BER: 0.00e+00\n",
      "SNR: 21.34 dB\n",
      "SIR =  7.12  dB\n",
      "GMI: 4.00 bits\n",
      "\n"
     ]
    },
    {
     "data": {
      "application/vnd.jupyter.widget-view+json": {
       "model_id": "f9e0c1532f964f33b78fddc11725a6d5",
       "version_major": 2,
       "version_minor": 0
      },
      "text/plain": [
       "  0%|          | 0/1 [00:00<?, ?it/s]"
      ]
     },
     "metadata": {},
     "output_type": "display_data"
    },
    {
     "name": "stdout",
     "output_type": "stream",
     "text": [
      "CSPR = 13.00 dB\n",
      "Results:\n",
      "BER: 0.00e+00\n",
      "SNR: 22.30 dB\n",
      "SIR =  7.12  dB\n",
      "GMI: 4.00 bits\n",
      "\n"
     ]
    },
    {
     "data": {
      "application/vnd.jupyter.widget-view+json": {
       "model_id": "2fc4904dc1204aa4b782658eede433cb",
       "version_major": 2,
       "version_minor": 0
      },
      "text/plain": [
       "  0%|          | 0/1 [00:00<?, ?it/s]"
      ]
     },
     "metadata": {},
     "output_type": "display_data"
    },
    {
     "name": "stdout",
     "output_type": "stream",
     "text": [
      "CSPR = 13.00 dB\n",
      "Results:\n",
      "BER: 0.00e+00\n",
      "SNR: 23.27 dB\n",
      "SIR =  7.11  dB\n",
      "GMI: 4.00 bits\n",
      "\n"
     ]
    },
    {
     "data": {
      "application/vnd.jupyter.widget-view+json": {
       "model_id": "85c58574b3554122a31da72b43997bd6",
       "version_major": 2,
       "version_minor": 0
      },
      "text/plain": [
       "  0%|          | 0/1 [00:00<?, ?it/s]"
      ]
     },
     "metadata": {},
     "output_type": "display_data"
    },
    {
     "name": "stdout",
     "output_type": "stream",
     "text": [
      "CSPR = 13.00 dB\n",
      "Results:\n",
      "BER: 0.00e+00\n",
      "SNR: 24.23 dB\n",
      "SIR =  7.11  dB\n",
      "GMI: 4.00 bits\n",
      "\n"
     ]
    },
    {
     "data": {
      "application/vnd.jupyter.widget-view+json": {
       "model_id": "ddcf3a1394324caf82d4490fac473349",
       "version_major": 2,
       "version_minor": 0
      },
      "text/plain": [
       "  0%|          | 0/1 [00:00<?, ?it/s]"
      ]
     },
     "metadata": {},
     "output_type": "display_data"
    },
    {
     "name": "stdout",
     "output_type": "stream",
     "text": [
      "CSPR = 13.00 dB\n",
      "Results:\n",
      "BER: 0.00e+00\n",
      "SNR: 25.18 dB\n",
      "SIR =  7.1  dB\n",
      "GMI: 4.00 bits\n",
      "\n"
     ]
    },
    {
     "data": {
      "application/vnd.jupyter.widget-view+json": {
       "model_id": "bba0b07bf9b74ef9a8d3a7889eedb1fa",
       "version_major": 2,
       "version_minor": 0
      },
      "text/plain": [
       "  0%|          | 0/10 [00:00<?, ?it/s]"
      ]
     },
     "metadata": {},
     "output_type": "display_data"
    },
    {
     "data": {
      "application/vnd.jupyter.widget-view+json": {
       "model_id": "8e90798e7aa04244a2e47afed2b01f9e",
       "version_major": 2,
       "version_minor": 0
      },
      "text/plain": [
       "  0%|          | 0/1 [00:00<?, ?it/s]"
      ]
     },
     "metadata": {},
     "output_type": "display_data"
    },
    {
     "name": "stdout",
     "output_type": "stream",
     "text": [
      "CSPR = 14.00 dB\n",
      "Results:\n",
      "BER: 1.34e-03\n",
      "SNR: 16.35 dB\n",
      "SIR =  7.12  dB\n",
      "GMI: 3.98 bits\n",
      "\n"
     ]
    },
    {
     "data": {
      "application/vnd.jupyter.widget-view+json": {
       "model_id": "d904096b28524a438302d57f44f8e289",
       "version_major": 2,
       "version_minor": 0
      },
      "text/plain": [
       "  0%|          | 0/1 [00:00<?, ?it/s]"
      ]
     },
     "metadata": {},
     "output_type": "display_data"
    },
    {
     "name": "stdout",
     "output_type": "stream",
     "text": [
      "CSPR = 14.00 dB\n",
      "Results:\n",
      "BER: 3.87e-04\n",
      "SNR: 17.34 dB\n",
      "SIR =  7.12  dB\n",
      "GMI: 3.99 bits\n",
      "\n"
     ]
    },
    {
     "data": {
      "application/vnd.jupyter.widget-view+json": {
       "model_id": "9872c140207f428b928b4635b55c7421",
       "version_major": 2,
       "version_minor": 0
      },
      "text/plain": [
       "  0%|          | 0/1 [00:00<?, ?it/s]"
      ]
     },
     "metadata": {},
     "output_type": "display_data"
    },
    {
     "name": "stdout",
     "output_type": "stream",
     "text": [
      "CSPR = 14.00 dB\n",
      "Results:\n",
      "BER: 1.03e-04\n",
      "SNR: 18.34 dB\n",
      "SIR =  7.1  dB\n",
      "GMI: 4.00 bits\n",
      "\n"
     ]
    },
    {
     "data": {
      "application/vnd.jupyter.widget-view+json": {
       "model_id": "93bb6e366cd84808a4e03c29083111a3",
       "version_major": 2,
       "version_minor": 0
      },
      "text/plain": [
       "  0%|          | 0/1 [00:00<?, ?it/s]"
      ]
     },
     "metadata": {},
     "output_type": "display_data"
    },
    {
     "name": "stdout",
     "output_type": "stream",
     "text": [
      "CSPR = 14.00 dB\n",
      "Results:\n",
      "BER: 1.56e-05\n",
      "SNR: 19.36 dB\n",
      "SIR =  7.12  dB\n",
      "GMI: 4.00 bits\n",
      "\n"
     ]
    },
    {
     "data": {
      "application/vnd.jupyter.widget-view+json": {
       "model_id": "7a427a45c2ed481c9445ff63212d0ff4",
       "version_major": 2,
       "version_minor": 0
      },
      "text/plain": [
       "  0%|          | 0/1 [00:00<?, ?it/s]"
      ]
     },
     "metadata": {},
     "output_type": "display_data"
    },
    {
     "name": "stdout",
     "output_type": "stream",
     "text": [
      "CSPR = 14.00 dB\n",
      "Results:\n",
      "BER: 0.00e+00\n",
      "SNR: 20.35 dB\n",
      "SIR =  7.1  dB\n",
      "GMI: 4.00 bits\n",
      "\n"
     ]
    },
    {
     "data": {
      "application/vnd.jupyter.widget-view+json": {
       "model_id": "276de5fb2c4343fdb04e17614cf00161",
       "version_major": 2,
       "version_minor": 0
      },
      "text/plain": [
       "  0%|          | 0/1 [00:00<?, ?it/s]"
      ]
     },
     "metadata": {},
     "output_type": "display_data"
    },
    {
     "name": "stdout",
     "output_type": "stream",
     "text": [
      "CSPR = 14.00 dB\n",
      "Results:\n",
      "BER: 0.00e+00\n",
      "SNR: 21.33 dB\n",
      "SIR =  7.1  dB\n",
      "GMI: 4.00 bits\n",
      "\n"
     ]
    },
    {
     "data": {
      "application/vnd.jupyter.widget-view+json": {
       "model_id": "71abc27c358b4c439e95cd4187a609ab",
       "version_major": 2,
       "version_minor": 0
      },
      "text/plain": [
       "  0%|          | 0/1 [00:00<?, ?it/s]"
      ]
     },
     "metadata": {},
     "output_type": "display_data"
    },
    {
     "name": "stdout",
     "output_type": "stream",
     "text": [
      "CSPR = 14.00 dB\n",
      "Results:\n",
      "BER: 0.00e+00\n",
      "SNR: 22.29 dB\n",
      "SIR =  7.12  dB\n",
      "GMI: 4.00 bits\n",
      "\n"
     ]
    },
    {
     "data": {
      "application/vnd.jupyter.widget-view+json": {
       "model_id": "196ee7b66aeb49f1ad6631e8bff9f92e",
       "version_major": 2,
       "version_minor": 0
      },
      "text/plain": [
       "  0%|          | 0/1 [00:00<?, ?it/s]"
      ]
     },
     "metadata": {},
     "output_type": "display_data"
    },
    {
     "name": "stdout",
     "output_type": "stream",
     "text": [
      "CSPR = 14.00 dB\n",
      "Results:\n",
      "BER: 0.00e+00\n",
      "SNR: 23.27 dB\n",
      "SIR =  7.11  dB\n",
      "GMI: 4.00 bits\n",
      "\n"
     ]
    },
    {
     "data": {
      "application/vnd.jupyter.widget-view+json": {
       "model_id": "090c4d527c404ae49df835af4ce38004",
       "version_major": 2,
       "version_minor": 0
      },
      "text/plain": [
       "  0%|          | 0/1 [00:00<?, ?it/s]"
      ]
     },
     "metadata": {},
     "output_type": "display_data"
    },
    {
     "name": "stdout",
     "output_type": "stream",
     "text": [
      "CSPR = 14.00 dB\n",
      "Results:\n",
      "BER: 0.00e+00\n",
      "SNR: 24.25 dB\n",
      "SIR =  7.11  dB\n",
      "GMI: 4.00 bits\n",
      "\n"
     ]
    },
    {
     "data": {
      "application/vnd.jupyter.widget-view+json": {
       "model_id": "c55bbd92fd08455f96c86bd05f700608",
       "version_major": 2,
       "version_minor": 0
      },
      "text/plain": [
       "  0%|          | 0/1 [00:00<?, ?it/s]"
      ]
     },
     "metadata": {},
     "output_type": "display_data"
    },
    {
     "name": "stdout",
     "output_type": "stream",
     "text": [
      "CSPR = 14.00 dB\n",
      "Results:\n",
      "BER: 0.00e+00\n",
      "SNR: 25.20 dB\n",
      "SIR =  7.12  dB\n",
      "GMI: 4.00 bits\n",
      "\n"
     ]
    },
    {
     "data": {
      "application/vnd.jupyter.widget-view+json": {
       "model_id": "b4249c38948746a1869a6cfa50e072b5",
       "version_major": 2,
       "version_minor": 0
      },
      "text/plain": [
       "  0%|          | 0/10 [00:00<?, ?it/s]"
      ]
     },
     "metadata": {},
     "output_type": "display_data"
    },
    {
     "data": {
      "application/vnd.jupyter.widget-view+json": {
       "model_id": "81d01a8bacfe451585c1e3ae8d94d82b",
       "version_major": 2,
       "version_minor": 0
      },
      "text/plain": [
       "  0%|          | 0/1 [00:00<?, ?it/s]"
      ]
     },
     "metadata": {},
     "output_type": "display_data"
    },
    {
     "name": "stdout",
     "output_type": "stream",
     "text": [
      "CSPR = 15.00 dB\n",
      "Results:\n",
      "BER: 1.40e-03\n",
      "SNR: 16.38 dB\n",
      "SIR =  7.11  dB\n",
      "GMI: 3.98 bits\n",
      "\n"
     ]
    },
    {
     "data": {
      "application/vnd.jupyter.widget-view+json": {
       "model_id": "3969a17e71914bc78f360cd6c84e1682",
       "version_major": 2,
       "version_minor": 0
      },
      "text/plain": [
       "  0%|          | 0/1 [00:00<?, ?it/s]"
      ]
     },
     "metadata": {},
     "output_type": "display_data"
    },
    {
     "name": "stdout",
     "output_type": "stream",
     "text": [
      "CSPR = 15.00 dB\n",
      "Results:\n",
      "BER: 3.69e-04\n",
      "SNR: 17.34 dB\n",
      "SIR =  7.11  dB\n",
      "GMI: 3.99 bits\n",
      "\n"
     ]
    },
    {
     "data": {
      "application/vnd.jupyter.widget-view+json": {
       "model_id": "b0ced49cffc240e1989e97c42223abd5",
       "version_major": 2,
       "version_minor": 0
      },
      "text/plain": [
       "  0%|          | 0/1 [00:00<?, ?it/s]"
      ]
     },
     "metadata": {},
     "output_type": "display_data"
    },
    {
     "name": "stdout",
     "output_type": "stream",
     "text": [
      "CSPR = 15.00 dB\n",
      "Results:\n",
      "BER: 8.44e-05\n",
      "SNR: 18.36 dB\n",
      "SIR =  7.09  dB\n",
      "GMI: 4.00 bits\n",
      "\n"
     ]
    },
    {
     "data": {
      "application/vnd.jupyter.widget-view+json": {
       "model_id": "1569b490b49e47ea8babc6a24842d880",
       "version_major": 2,
       "version_minor": 0
      },
      "text/plain": [
       "  0%|          | 0/1 [00:00<?, ?it/s]"
      ]
     },
     "metadata": {},
     "output_type": "display_data"
    },
    {
     "name": "stdout",
     "output_type": "stream",
     "text": [
      "CSPR = 15.00 dB\n",
      "Results:\n",
      "BER: 2.19e-05\n",
      "SNR: 19.35 dB\n",
      "SIR =  7.11  dB\n",
      "GMI: 4.00 bits\n",
      "\n"
     ]
    },
    {
     "data": {
      "application/vnd.jupyter.widget-view+json": {
       "model_id": "49c15e3366024ed1855e6ea10049df0c",
       "version_major": 2,
       "version_minor": 0
      },
      "text/plain": [
       "  0%|          | 0/1 [00:00<?, ?it/s]"
      ]
     },
     "metadata": {},
     "output_type": "display_data"
    },
    {
     "name": "stdout",
     "output_type": "stream",
     "text": [
      "CSPR = 15.00 dB\n",
      "Results:\n",
      "BER: 3.13e-06\n",
      "SNR: 20.34 dB\n",
      "SIR =  7.1  dB\n",
      "GMI: 4.00 bits\n",
      "\n"
     ]
    },
    {
     "data": {
      "application/vnd.jupyter.widget-view+json": {
       "model_id": "622604d69fbc4c4e91e97ee028f4b0b7",
       "version_major": 2,
       "version_minor": 0
      },
      "text/plain": [
       "  0%|          | 0/1 [00:00<?, ?it/s]"
      ]
     },
     "metadata": {},
     "output_type": "display_data"
    },
    {
     "name": "stdout",
     "output_type": "stream",
     "text": [
      "CSPR = 15.00 dB\n",
      "Results:\n",
      "BER: 0.00e+00\n",
      "SNR: 21.31 dB\n",
      "SIR =  7.13  dB\n",
      "GMI: 4.00 bits\n",
      "\n"
     ]
    },
    {
     "data": {
      "application/vnd.jupyter.widget-view+json": {
       "model_id": "d312e3204d0e4e7e8e20a546ee306732",
       "version_major": 2,
       "version_minor": 0
      },
      "text/plain": [
       "  0%|          | 0/1 [00:00<?, ?it/s]"
      ]
     },
     "metadata": {},
     "output_type": "display_data"
    },
    {
     "name": "stdout",
     "output_type": "stream",
     "text": [
      "CSPR = 15.00 dB\n",
      "Results:\n",
      "BER: 0.00e+00\n",
      "SNR: 22.29 dB\n",
      "SIR =  7.1  dB\n",
      "GMI: 4.00 bits\n",
      "\n"
     ]
    },
    {
     "data": {
      "application/vnd.jupyter.widget-view+json": {
       "model_id": "a1703f028ca54832a3bbab84870c5db7",
       "version_major": 2,
       "version_minor": 0
      },
      "text/plain": [
       "  0%|          | 0/1 [00:00<?, ?it/s]"
      ]
     },
     "metadata": {},
     "output_type": "display_data"
    },
    {
     "name": "stdout",
     "output_type": "stream",
     "text": [
      "CSPR = 15.00 dB\n",
      "Results:\n",
      "BER: 0.00e+00\n",
      "SNR: 23.28 dB\n",
      "SIR =  7.1  dB\n",
      "GMI: 4.00 bits\n",
      "\n"
     ]
    },
    {
     "data": {
      "application/vnd.jupyter.widget-view+json": {
       "model_id": "71e4e8d753c94cae92a30b01033688b3",
       "version_major": 2,
       "version_minor": 0
      },
      "text/plain": [
       "  0%|          | 0/1 [00:00<?, ?it/s]"
      ]
     },
     "metadata": {},
     "output_type": "display_data"
    },
    {
     "name": "stdout",
     "output_type": "stream",
     "text": [
      "CSPR = 15.00 dB\n",
      "Results:\n",
      "BER: 0.00e+00\n",
      "SNR: 24.23 dB\n",
      "SIR =  7.13  dB\n",
      "GMI: 4.00 bits\n",
      "\n"
     ]
    },
    {
     "data": {
      "application/vnd.jupyter.widget-view+json": {
       "model_id": "162301db5ac740928fde9489098e7c46",
       "version_major": 2,
       "version_minor": 0
      },
      "text/plain": [
       "  0%|          | 0/1 [00:00<?, ?it/s]"
      ]
     },
     "metadata": {},
     "output_type": "display_data"
    },
    {
     "name": "stdout",
     "output_type": "stream",
     "text": [
      "CSPR = 15.00 dB\n",
      "Results:\n",
      "BER: 0.00e+00\n",
      "SNR: 25.16 dB\n",
      "SIR =  7.12  dB\n",
      "GMI: 4.00 bits\n",
      "\n"
     ]
    },
    {
     "data": {
      "application/vnd.jupyter.widget-view+json": {
       "model_id": "b316c55d429c4d2f956624bffb96e06c",
       "version_major": 2,
       "version_minor": 0
      },
      "text/plain": [
       "  0%|          | 0/10 [00:00<?, ?it/s]"
      ]
     },
     "metadata": {},
     "output_type": "display_data"
    },
    {
     "data": {
      "application/vnd.jupyter.widget-view+json": {
       "model_id": "b2aae3e9ed6347fab2bb73af1be89524",
       "version_major": 2,
       "version_minor": 0
      },
      "text/plain": [
       "  0%|          | 0/10 [00:00<?, ?it/s]"
      ]
     },
     "metadata": {},
     "output_type": "display_data"
    },
    {
     "data": {
      "application/vnd.jupyter.widget-view+json": {
       "model_id": "5ae01c4f1efc40269c22032bc64a364a",
       "version_major": 2,
       "version_minor": 0
      },
      "text/plain": [
       "  0%|          | 0/1 [00:00<?, ?it/s]"
      ]
     },
     "metadata": {},
     "output_type": "display_data"
    },
    {
     "name": "stdout",
     "output_type": "stream",
     "text": [
      "CSPR = 6.00 dB\n",
      "Results:\n",
      "BER: 1.31e-03\n",
      "SNR: 16.39 dB\n",
      "SIR =  7.11  dB\n",
      "GMI: 3.98 bits\n",
      "\n"
     ]
    },
    {
     "data": {
      "application/vnd.jupyter.widget-view+json": {
       "model_id": "17265afcf5d44fa8b90dd7646982af4d",
       "version_major": 2,
       "version_minor": 0
      },
      "text/plain": [
       "  0%|          | 0/1 [00:00<?, ?it/s]"
      ]
     },
     "metadata": {},
     "output_type": "display_data"
    },
    {
     "name": "stdout",
     "output_type": "stream",
     "text": [
      "CSPR = 6.00 dB\n",
      "Results:\n",
      "BER: 3.59e-04\n",
      "SNR: 17.38 dB\n",
      "SIR =  7.13  dB\n",
      "GMI: 3.99 bits\n",
      "\n"
     ]
    },
    {
     "data": {
      "application/vnd.jupyter.widget-view+json": {
       "model_id": "a375a104319e4c18918533ae975a4f8c",
       "version_major": 2,
       "version_minor": 0
      },
      "text/plain": [
       "  0%|          | 0/1 [00:00<?, ?it/s]"
      ]
     },
     "metadata": {},
     "output_type": "display_data"
    },
    {
     "name": "stdout",
     "output_type": "stream",
     "text": [
      "CSPR = 6.00 dB\n",
      "Results:\n",
      "BER: 8.75e-05\n",
      "SNR: 18.36 dB\n",
      "SIR =  7.12  dB\n",
      "GMI: 4.00 bits\n",
      "\n"
     ]
    },
    {
     "data": {
      "application/vnd.jupyter.widget-view+json": {
       "model_id": "67310e2f2265420c858f4f5776ef0f82",
       "version_major": 2,
       "version_minor": 0
      },
      "text/plain": [
       "  0%|          | 0/1 [00:00<?, ?it/s]"
      ]
     },
     "metadata": {},
     "output_type": "display_data"
    },
    {
     "name": "stdout",
     "output_type": "stream",
     "text": [
      "CSPR = 6.00 dB\n",
      "Results:\n",
      "BER: 1.56e-05\n",
      "SNR: 19.35 dB\n",
      "SIR =  7.11  dB\n",
      "GMI: 4.00 bits\n",
      "\n"
     ]
    },
    {
     "data": {
      "application/vnd.jupyter.widget-view+json": {
       "model_id": "8831bd1822b64177b4fc9721ec873f6a",
       "version_major": 2,
       "version_minor": 0
      },
      "text/plain": [
       "  0%|          | 0/1 [00:00<?, ?it/s]"
      ]
     },
     "metadata": {},
     "output_type": "display_data"
    },
    {
     "name": "stdout",
     "output_type": "stream",
     "text": [
      "CSPR = 6.00 dB\n",
      "Results:\n",
      "BER: 0.00e+00\n",
      "SNR: 20.33 dB\n",
      "SIR =  7.11  dB\n",
      "GMI: 4.00 bits\n",
      "\n"
     ]
    },
    {
     "data": {
      "application/vnd.jupyter.widget-view+json": {
       "model_id": "9e9047b46c6b4ca792825a87351564de",
       "version_major": 2,
       "version_minor": 0
      },
      "text/plain": [
       "  0%|          | 0/1 [00:00<?, ?it/s]"
      ]
     },
     "metadata": {},
     "output_type": "display_data"
    },
    {
     "name": "stdout",
     "output_type": "stream",
     "text": [
      "CSPR = 6.00 dB\n",
      "Results:\n",
      "BER: 0.00e+00\n",
      "SNR: 21.34 dB\n",
      "SIR =  7.12  dB\n",
      "GMI: 4.00 bits\n",
      "\n"
     ]
    },
    {
     "data": {
      "application/vnd.jupyter.widget-view+json": {
       "model_id": "13d13d8ac401445d83b9dd7aa646c49f",
       "version_major": 2,
       "version_minor": 0
      },
      "text/plain": [
       "  0%|          | 0/1 [00:00<?, ?it/s]"
      ]
     },
     "metadata": {},
     "output_type": "display_data"
    },
    {
     "name": "stdout",
     "output_type": "stream",
     "text": [
      "CSPR = 6.00 dB\n",
      "Results:\n",
      "BER: 0.00e+00\n",
      "SNR: 22.27 dB\n",
      "SIR =  7.11  dB\n",
      "GMI: 4.00 bits\n",
      "\n"
     ]
    },
    {
     "data": {
      "application/vnd.jupyter.widget-view+json": {
       "model_id": "7d415e0f3cc446a5974ab85c066432c3",
       "version_major": 2,
       "version_minor": 0
      },
      "text/plain": [
       "  0%|          | 0/1 [00:00<?, ?it/s]"
      ]
     },
     "metadata": {},
     "output_type": "display_data"
    },
    {
     "name": "stdout",
     "output_type": "stream",
     "text": [
      "CSPR = 6.00 dB\n",
      "Results:\n",
      "BER: 0.00e+00\n",
      "SNR: 23.31 dB\n",
      "SIR =  7.11  dB\n",
      "GMI: 4.00 bits\n",
      "\n"
     ]
    },
    {
     "data": {
      "application/vnd.jupyter.widget-view+json": {
       "model_id": "57b4740db79f47f3a61a0b7f8de40000",
       "version_major": 2,
       "version_minor": 0
      },
      "text/plain": [
       "  0%|          | 0/1 [00:00<?, ?it/s]"
      ]
     },
     "metadata": {},
     "output_type": "display_data"
    },
    {
     "name": "stdout",
     "output_type": "stream",
     "text": [
      "CSPR = 6.00 dB\n",
      "Results:\n",
      "BER: 0.00e+00\n",
      "SNR: 24.21 dB\n",
      "SIR =  7.11  dB\n",
      "GMI: 4.00 bits\n",
      "\n"
     ]
    },
    {
     "data": {
      "application/vnd.jupyter.widget-view+json": {
       "model_id": "6200adc24fd64cff803782fcac608398",
       "version_major": 2,
       "version_minor": 0
      },
      "text/plain": [
       "  0%|          | 0/1 [00:00<?, ?it/s]"
      ]
     },
     "metadata": {},
     "output_type": "display_data"
    },
    {
     "name": "stdout",
     "output_type": "stream",
     "text": [
      "CSPR = 6.00 dB\n",
      "Results:\n",
      "BER: 0.00e+00\n",
      "SNR: 25.22 dB\n",
      "SIR =  7.1  dB\n",
      "GMI: 4.00 bits\n",
      "\n"
     ]
    },
    {
     "data": {
      "application/vnd.jupyter.widget-view+json": {
       "model_id": "144f4656e6a7480d91194fb41fd64a9e",
       "version_major": 2,
       "version_minor": 0
      },
      "text/plain": [
       "  0%|          | 0/10 [00:00<?, ?it/s]"
      ]
     },
     "metadata": {},
     "output_type": "display_data"
    },
    {
     "data": {
      "application/vnd.jupyter.widget-view+json": {
       "model_id": "4e49a58544aa4a17986b7ea6dbdfa734",
       "version_major": 2,
       "version_minor": 0
      },
      "text/plain": [
       "  0%|          | 0/1 [00:00<?, ?it/s]"
      ]
     },
     "metadata": {},
     "output_type": "display_data"
    },
    {
     "name": "stdout",
     "output_type": "stream",
     "text": [
      "CSPR = 7.00 dB\n",
      "Results:\n",
      "BER: 1.37e-03\n",
      "SNR: 16.35 dB\n",
      "SIR =  7.11  dB\n",
      "GMI: 3.98 bits\n",
      "\n"
     ]
    },
    {
     "data": {
      "application/vnd.jupyter.widget-view+json": {
       "model_id": "efa6838683614f7dbd5efdc2d6b5901f",
       "version_major": 2,
       "version_minor": 0
      },
      "text/plain": [
       "  0%|          | 0/1 [00:00<?, ?it/s]"
      ]
     },
     "metadata": {},
     "output_type": "display_data"
    },
    {
     "name": "stdout",
     "output_type": "stream",
     "text": [
      "CSPR = 7.00 dB\n",
      "Results:\n",
      "BER: 3.81e-04\n",
      "SNR: 17.35 dB\n",
      "SIR =  7.11  dB\n",
      "GMI: 3.99 bits\n",
      "\n"
     ]
    },
    {
     "data": {
      "application/vnd.jupyter.widget-view+json": {
       "model_id": "0c189614a6544edd9934f8a3716a6e61",
       "version_major": 2,
       "version_minor": 0
      },
      "text/plain": [
       "  0%|          | 0/1 [00:00<?, ?it/s]"
      ]
     },
     "metadata": {},
     "output_type": "display_data"
    },
    {
     "name": "stdout",
     "output_type": "stream",
     "text": [
      "CSPR = 7.00 dB\n",
      "Results:\n",
      "BER: 1.00e-04\n",
      "SNR: 18.35 dB\n",
      "SIR =  7.09  dB\n",
      "GMI: 4.00 bits\n",
      "\n"
     ]
    },
    {
     "data": {
      "application/vnd.jupyter.widget-view+json": {
       "model_id": "01d3daccbc4e4f63a63dbf6be115d1c0",
       "version_major": 2,
       "version_minor": 0
      },
      "text/plain": [
       "  0%|          | 0/1 [00:00<?, ?it/s]"
      ]
     },
     "metadata": {},
     "output_type": "display_data"
    },
    {
     "name": "stdout",
     "output_type": "stream",
     "text": [
      "CSPR = 7.00 dB\n",
      "Results:\n",
      "BER: 9.37e-06\n",
      "SNR: 19.35 dB\n",
      "SIR =  7.11  dB\n",
      "GMI: 4.00 bits\n",
      "\n"
     ]
    },
    {
     "data": {
      "application/vnd.jupyter.widget-view+json": {
       "model_id": "89f4a8bb828c49ebb345e60740af2e31",
       "version_major": 2,
       "version_minor": 0
      },
      "text/plain": [
       "  0%|          | 0/1 [00:00<?, ?it/s]"
      ]
     },
     "metadata": {},
     "output_type": "display_data"
    },
    {
     "name": "stdout",
     "output_type": "stream",
     "text": [
      "CSPR = 7.00 dB\n",
      "Results:\n",
      "BER: 0.00e+00\n",
      "SNR: 20.32 dB\n",
      "SIR =  7.12  dB\n",
      "GMI: 4.00 bits\n",
      "\n"
     ]
    },
    {
     "data": {
      "application/vnd.jupyter.widget-view+json": {
       "model_id": "9750663fa5cb4c208e44ec11b362ac8e",
       "version_major": 2,
       "version_minor": 0
      },
      "text/plain": [
       "  0%|          | 0/1 [00:00<?, ?it/s]"
      ]
     },
     "metadata": {},
     "output_type": "display_data"
    },
    {
     "name": "stdout",
     "output_type": "stream",
     "text": [
      "CSPR = 7.00 dB\n",
      "Results:\n",
      "BER: 0.00e+00\n",
      "SNR: 21.32 dB\n",
      "SIR =  7.12  dB\n",
      "GMI: 4.00 bits\n",
      "\n"
     ]
    },
    {
     "data": {
      "application/vnd.jupyter.widget-view+json": {
       "model_id": "b33770946569441091bf2f723b1c7681",
       "version_major": 2,
       "version_minor": 0
      },
      "text/plain": [
       "  0%|          | 0/1 [00:00<?, ?it/s]"
      ]
     },
     "metadata": {},
     "output_type": "display_data"
    },
    {
     "name": "stdout",
     "output_type": "stream",
     "text": [
      "CSPR = 7.00 dB\n",
      "Results:\n",
      "BER: 0.00e+00\n",
      "SNR: 22.28 dB\n",
      "SIR =  7.1  dB\n",
      "GMI: 4.00 bits\n",
      "\n"
     ]
    },
    {
     "data": {
      "application/vnd.jupyter.widget-view+json": {
       "model_id": "ebc69df4c2d04d86a29e3dce5e4fc947",
       "version_major": 2,
       "version_minor": 0
      },
      "text/plain": [
       "  0%|          | 0/1 [00:00<?, ?it/s]"
      ]
     },
     "metadata": {},
     "output_type": "display_data"
    },
    {
     "name": "stdout",
     "output_type": "stream",
     "text": [
      "CSPR = 7.00 dB\n",
      "Results:\n",
      "BER: 0.00e+00\n",
      "SNR: 23.25 dB\n",
      "SIR =  7.1  dB\n",
      "GMI: 4.00 bits\n",
      "\n"
     ]
    },
    {
     "data": {
      "application/vnd.jupyter.widget-view+json": {
       "model_id": "6c290d7e7f484a8db739cd67121781fa",
       "version_major": 2,
       "version_minor": 0
      },
      "text/plain": [
       "  0%|          | 0/1 [00:00<?, ?it/s]"
      ]
     },
     "metadata": {},
     "output_type": "display_data"
    },
    {
     "name": "stdout",
     "output_type": "stream",
     "text": [
      "CSPR = 7.00 dB\n",
      "Results:\n",
      "BER: 0.00e+00\n",
      "SNR: 24.21 dB\n",
      "SIR =  7.1  dB\n",
      "GMI: 4.00 bits\n",
      "\n"
     ]
    },
    {
     "data": {
      "application/vnd.jupyter.widget-view+json": {
       "model_id": "90f4197a3393424c8ad7b5bf980f5c39",
       "version_major": 2,
       "version_minor": 0
      },
      "text/plain": [
       "  0%|          | 0/1 [00:00<?, ?it/s]"
      ]
     },
     "metadata": {},
     "output_type": "display_data"
    },
    {
     "name": "stdout",
     "output_type": "stream",
     "text": [
      "CSPR = 7.00 dB\n",
      "Results:\n",
      "BER: 0.00e+00\n",
      "SNR: 25.20 dB\n",
      "SIR =  7.11  dB\n",
      "GMI: 4.00 bits\n",
      "\n"
     ]
    },
    {
     "data": {
      "application/vnd.jupyter.widget-view+json": {
       "model_id": "12c6eb76e4634b3d884c5e805c69b1e6",
       "version_major": 2,
       "version_minor": 0
      },
      "text/plain": [
       "  0%|          | 0/10 [00:00<?, ?it/s]"
      ]
     },
     "metadata": {},
     "output_type": "display_data"
    },
    {
     "data": {
      "application/vnd.jupyter.widget-view+json": {
       "model_id": "a3ff247f964843b0a48460335b942720",
       "version_major": 2,
       "version_minor": 0
      },
      "text/plain": [
       "  0%|          | 0/1 [00:00<?, ?it/s]"
      ]
     },
     "metadata": {},
     "output_type": "display_data"
    },
    {
     "name": "stdout",
     "output_type": "stream",
     "text": [
      "CSPR = 8.00 dB\n",
      "Results:\n",
      "BER: 1.37e-03\n",
      "SNR: 16.37 dB\n",
      "SIR =  7.11  dB\n",
      "GMI: 3.98 bits\n",
      "\n"
     ]
    },
    {
     "data": {
      "application/vnd.jupyter.widget-view+json": {
       "model_id": "92583fe5e44d4a299f767d8cdeed2a06",
       "version_major": 2,
       "version_minor": 0
      },
      "text/plain": [
       "  0%|          | 0/1 [00:00<?, ?it/s]"
      ]
     },
     "metadata": {},
     "output_type": "display_data"
    },
    {
     "name": "stdout",
     "output_type": "stream",
     "text": [
      "CSPR = 8.00 dB\n",
      "Results:\n",
      "BER: 4.63e-04\n",
      "SNR: 17.36 dB\n",
      "SIR =  7.1  dB\n",
      "GMI: 3.99 bits\n",
      "\n"
     ]
    },
    {
     "data": {
      "application/vnd.jupyter.widget-view+json": {
       "model_id": "ac78108ffb3a46a4b90e6af94ccecd92",
       "version_major": 2,
       "version_minor": 0
      },
      "text/plain": [
       "  0%|          | 0/1 [00:00<?, ?it/s]"
      ]
     },
     "metadata": {},
     "output_type": "display_data"
    },
    {
     "name": "stdout",
     "output_type": "stream",
     "text": [
      "CSPR = 8.00 dB\n",
      "Results:\n",
      "BER: 9.38e-05\n",
      "SNR: 18.35 dB\n",
      "SIR =  7.13  dB\n",
      "GMI: 4.00 bits\n",
      "\n"
     ]
    },
    {
     "data": {
      "application/vnd.jupyter.widget-view+json": {
       "model_id": "92916cbd4caf49fa9a0b1c4ea087f6a6",
       "version_major": 2,
       "version_minor": 0
      },
      "text/plain": [
       "  0%|          | 0/1 [00:00<?, ?it/s]"
      ]
     },
     "metadata": {},
     "output_type": "display_data"
    },
    {
     "name": "stdout",
     "output_type": "stream",
     "text": [
      "CSPR = 8.00 dB\n",
      "Results:\n",
      "BER: 1.25e-05\n",
      "SNR: 19.35 dB\n",
      "SIR =  7.11  dB\n",
      "GMI: 4.00 bits\n",
      "\n"
     ]
    },
    {
     "data": {
      "application/vnd.jupyter.widget-view+json": {
       "model_id": "f456bf15260c49afabd7c179ee30e2ba",
       "version_major": 2,
       "version_minor": 0
      },
      "text/plain": [
       "  0%|          | 0/1 [00:00<?, ?it/s]"
      ]
     },
     "metadata": {},
     "output_type": "display_data"
    },
    {
     "name": "stdout",
     "output_type": "stream",
     "text": [
      "CSPR = 8.00 dB\n",
      "Results:\n",
      "BER: 0.00e+00\n",
      "SNR: 20.33 dB\n",
      "SIR =  7.13  dB\n",
      "GMI: 4.00 bits\n",
      "\n"
     ]
    },
    {
     "data": {
      "application/vnd.jupyter.widget-view+json": {
       "model_id": "e8ca30f9c54d4973b4c8f95bfc1e0e00",
       "version_major": 2,
       "version_minor": 0
      },
      "text/plain": [
       "  0%|          | 0/1 [00:00<?, ?it/s]"
      ]
     },
     "metadata": {},
     "output_type": "display_data"
    },
    {
     "name": "stdout",
     "output_type": "stream",
     "text": [
      "CSPR = 8.00 dB\n",
      "Results:\n",
      "BER: 0.00e+00\n",
      "SNR: 21.30 dB\n",
      "SIR =  7.11  dB\n",
      "GMI: 4.00 bits\n",
      "\n"
     ]
    },
    {
     "data": {
      "application/vnd.jupyter.widget-view+json": {
       "model_id": "3a0b38a752004bfdad4d9275b8d0331f",
       "version_major": 2,
       "version_minor": 0
      },
      "text/plain": [
       "  0%|          | 0/1 [00:00<?, ?it/s]"
      ]
     },
     "metadata": {},
     "output_type": "display_data"
    },
    {
     "name": "stdout",
     "output_type": "stream",
     "text": [
      "CSPR = 8.00 dB\n",
      "Results:\n",
      "BER: 0.00e+00\n",
      "SNR: 22.32 dB\n",
      "SIR =  7.1  dB\n",
      "GMI: 4.00 bits\n",
      "\n"
     ]
    },
    {
     "data": {
      "application/vnd.jupyter.widget-view+json": {
       "model_id": "3afaa1634e504fd3add11537f9265bda",
       "version_major": 2,
       "version_minor": 0
      },
      "text/plain": [
       "  0%|          | 0/1 [00:00<?, ?it/s]"
      ]
     },
     "metadata": {},
     "output_type": "display_data"
    },
    {
     "name": "stdout",
     "output_type": "stream",
     "text": [
      "CSPR = 8.00 dB\n",
      "Results:\n",
      "BER: 0.00e+00\n",
      "SNR: 23.26 dB\n",
      "SIR =  7.11  dB\n",
      "GMI: 4.00 bits\n",
      "\n"
     ]
    },
    {
     "data": {
      "application/vnd.jupyter.widget-view+json": {
       "model_id": "207bde64b4954a73b918e449cf7d0c60",
       "version_major": 2,
       "version_minor": 0
      },
      "text/plain": [
       "  0%|          | 0/1 [00:00<?, ?it/s]"
      ]
     },
     "metadata": {},
     "output_type": "display_data"
    },
    {
     "name": "stdout",
     "output_type": "stream",
     "text": [
      "CSPR = 8.00 dB\n",
      "Results:\n",
      "BER: 0.00e+00\n",
      "SNR: 24.24 dB\n",
      "SIR =  7.14  dB\n",
      "GMI: 4.00 bits\n",
      "\n"
     ]
    },
    {
     "data": {
      "application/vnd.jupyter.widget-view+json": {
       "model_id": "0609814951e5470895471820c9e8e5fa",
       "version_major": 2,
       "version_minor": 0
      },
      "text/plain": [
       "  0%|          | 0/1 [00:00<?, ?it/s]"
      ]
     },
     "metadata": {},
     "output_type": "display_data"
    },
    {
     "name": "stdout",
     "output_type": "stream",
     "text": [
      "CSPR = 8.00 dB\n",
      "Results:\n",
      "BER: 0.00e+00\n",
      "SNR: 25.21 dB\n",
      "SIR =  7.11  dB\n",
      "GMI: 4.00 bits\n",
      "\n"
     ]
    },
    {
     "data": {
      "application/vnd.jupyter.widget-view+json": {
       "model_id": "6137f6c933e84d87bc3b78ac2950f88d",
       "version_major": 2,
       "version_minor": 0
      },
      "text/plain": [
       "  0%|          | 0/10 [00:00<?, ?it/s]"
      ]
     },
     "metadata": {},
     "output_type": "display_data"
    },
    {
     "data": {
      "application/vnd.jupyter.widget-view+json": {
       "model_id": "c722ed58e8204b90bf17d8afefd7abab",
       "version_major": 2,
       "version_minor": 0
      },
      "text/plain": [
       "  0%|          | 0/1 [00:00<?, ?it/s]"
      ]
     },
     "metadata": {},
     "output_type": "display_data"
    },
    {
     "name": "stdout",
     "output_type": "stream",
     "text": [
      "CSPR = 9.00 dB\n",
      "Results:\n",
      "BER: 1.24e-03\n",
      "SNR: 16.39 dB\n",
      "SIR =  7.09  dB\n",
      "GMI: 3.98 bits\n",
      "\n"
     ]
    },
    {
     "data": {
      "application/vnd.jupyter.widget-view+json": {
       "model_id": "0adee3cdc8b34c038967edba98a14011",
       "version_major": 2,
       "version_minor": 0
      },
      "text/plain": [
       "  0%|          | 0/1 [00:00<?, ?it/s]"
      ]
     },
     "metadata": {},
     "output_type": "display_data"
    },
    {
     "name": "stdout",
     "output_type": "stream",
     "text": [
      "CSPR = 9.00 dB\n",
      "Results:\n",
      "BER: 4.22e-04\n",
      "SNR: 17.35 dB\n",
      "SIR =  7.09  dB\n",
      "GMI: 3.99 bits\n",
      "\n"
     ]
    },
    {
     "data": {
      "application/vnd.jupyter.widget-view+json": {
       "model_id": "85c376113f8e43ae988aa278f4700752",
       "version_major": 2,
       "version_minor": 0
      },
      "text/plain": [
       "  0%|          | 0/1 [00:00<?, ?it/s]"
      ]
     },
     "metadata": {},
     "output_type": "display_data"
    },
    {
     "name": "stdout",
     "output_type": "stream",
     "text": [
      "CSPR = 9.00 dB\n",
      "Results:\n",
      "BER: 1.09e-04\n",
      "SNR: 18.36 dB\n",
      "SIR =  7.12  dB\n",
      "GMI: 4.00 bits\n",
      "\n"
     ]
    },
    {
     "data": {
      "application/vnd.jupyter.widget-view+json": {
       "model_id": "2bcd67fed6c147ba8330aa003cfce0af",
       "version_major": 2,
       "version_minor": 0
      },
      "text/plain": [
       "  0%|          | 0/1 [00:00<?, ?it/s]"
      ]
     },
     "metadata": {},
     "output_type": "display_data"
    },
    {
     "name": "stdout",
     "output_type": "stream",
     "text": [
      "CSPR = 9.00 dB\n",
      "Results:\n",
      "BER: 9.37e-06\n",
      "SNR: 19.36 dB\n",
      "SIR =  7.13  dB\n",
      "GMI: 4.00 bits\n",
      "\n"
     ]
    },
    {
     "data": {
      "application/vnd.jupyter.widget-view+json": {
       "model_id": "a7fa3a3a827549a7be30de44be87550a",
       "version_major": 2,
       "version_minor": 0
      },
      "text/plain": [
       "  0%|          | 0/1 [00:00<?, ?it/s]"
      ]
     },
     "metadata": {},
     "output_type": "display_data"
    },
    {
     "name": "stdout",
     "output_type": "stream",
     "text": [
      "CSPR = 9.00 dB\n",
      "Results:\n",
      "BER: 0.00e+00\n",
      "SNR: 20.34 dB\n",
      "SIR =  7.12  dB\n",
      "GMI: 4.00 bits\n",
      "\n"
     ]
    },
    {
     "data": {
      "application/vnd.jupyter.widget-view+json": {
       "model_id": "7c6fee8d3dd14905afc5cab5a96f82f1",
       "version_major": 2,
       "version_minor": 0
      },
      "text/plain": [
       "  0%|          | 0/1 [00:00<?, ?it/s]"
      ]
     },
     "metadata": {},
     "output_type": "display_data"
    },
    {
     "name": "stdout",
     "output_type": "stream",
     "text": [
      "CSPR = 9.00 dB\n",
      "Results:\n",
      "BER: 0.00e+00\n",
      "SNR: 21.32 dB\n",
      "SIR =  7.09  dB\n",
      "GMI: 4.00 bits\n",
      "\n"
     ]
    },
    {
     "data": {
      "application/vnd.jupyter.widget-view+json": {
       "model_id": "d3802f1acda642ba8638b1db7d851e5f",
       "version_major": 2,
       "version_minor": 0
      },
      "text/plain": [
       "  0%|          | 0/1 [00:00<?, ?it/s]"
      ]
     },
     "metadata": {},
     "output_type": "display_data"
    },
    {
     "name": "stdout",
     "output_type": "stream",
     "text": [
      "CSPR = 9.00 dB\n",
      "Results:\n",
      "BER: 0.00e+00\n",
      "SNR: 22.29 dB\n",
      "SIR =  7.12  dB\n",
      "GMI: 4.00 bits\n",
      "\n"
     ]
    },
    {
     "data": {
      "application/vnd.jupyter.widget-view+json": {
       "model_id": "7129dd86c80d44fe9f6a547eac7c5d01",
       "version_major": 2,
       "version_minor": 0
      },
      "text/plain": [
       "  0%|          | 0/1 [00:00<?, ?it/s]"
      ]
     },
     "metadata": {},
     "output_type": "display_data"
    },
    {
     "name": "stdout",
     "output_type": "stream",
     "text": [
      "CSPR = 9.00 dB\n",
      "Results:\n",
      "BER: 0.00e+00\n",
      "SNR: 23.30 dB\n",
      "SIR =  7.12  dB\n",
      "GMI: 4.00 bits\n",
      "\n"
     ]
    },
    {
     "data": {
      "application/vnd.jupyter.widget-view+json": {
       "model_id": "aa8ae77db30a4bd2a8e1f6ce9dc2e0c5",
       "version_major": 2,
       "version_minor": 0
      },
      "text/plain": [
       "  0%|          | 0/1 [00:00<?, ?it/s]"
      ]
     },
     "metadata": {},
     "output_type": "display_data"
    },
    {
     "name": "stdout",
     "output_type": "stream",
     "text": [
      "CSPR = 9.00 dB\n",
      "Results:\n",
      "BER: 0.00e+00\n",
      "SNR: 24.24 dB\n",
      "SIR =  7.11  dB\n",
      "GMI: 4.00 bits\n",
      "\n"
     ]
    },
    {
     "data": {
      "application/vnd.jupyter.widget-view+json": {
       "model_id": "41e8f936f3994d32811bc49c7a66848d",
       "version_major": 2,
       "version_minor": 0
      },
      "text/plain": [
       "  0%|          | 0/1 [00:00<?, ?it/s]"
      ]
     },
     "metadata": {},
     "output_type": "display_data"
    },
    {
     "name": "stdout",
     "output_type": "stream",
     "text": [
      "CSPR = 9.00 dB\n",
      "Results:\n",
      "BER: 0.00e+00\n",
      "SNR: 25.20 dB\n",
      "SIR =  7.11  dB\n",
      "GMI: 4.00 bits\n",
      "\n"
     ]
    },
    {
     "data": {
      "application/vnd.jupyter.widget-view+json": {
       "model_id": "d973d3daad444c67b9b1e9bf284dbac1",
       "version_major": 2,
       "version_minor": 0
      },
      "text/plain": [
       "  0%|          | 0/10 [00:00<?, ?it/s]"
      ]
     },
     "metadata": {},
     "output_type": "display_data"
    },
    {
     "data": {
      "application/vnd.jupyter.widget-view+json": {
       "model_id": "c9e6cdb0bd3640e9bee91a2e2c0b15ce",
       "version_major": 2,
       "version_minor": 0
      },
      "text/plain": [
       "  0%|          | 0/1 [00:00<?, ?it/s]"
      ]
     },
     "metadata": {},
     "output_type": "display_data"
    },
    {
     "name": "stdout",
     "output_type": "stream",
     "text": [
      "CSPR = 10.00 dB\n",
      "Results:\n",
      "BER: 1.38e-03\n",
      "SNR: 16.37 dB\n",
      "SIR =  7.1  dB\n",
      "GMI: 3.98 bits\n",
      "\n"
     ]
    },
    {
     "data": {
      "application/vnd.jupyter.widget-view+json": {
       "model_id": "4cbc2161c8724c669da246bc990ba3a2",
       "version_major": 2,
       "version_minor": 0
      },
      "text/plain": [
       "  0%|          | 0/1 [00:00<?, ?it/s]"
      ]
     },
     "metadata": {},
     "output_type": "display_data"
    },
    {
     "name": "stdout",
     "output_type": "stream",
     "text": [
      "CSPR = 10.00 dB\n",
      "Results:\n",
      "BER: 4.16e-04\n",
      "SNR: 17.37 dB\n",
      "SIR =  7.11  dB\n",
      "GMI: 3.99 bits\n",
      "\n"
     ]
    },
    {
     "data": {
      "application/vnd.jupyter.widget-view+json": {
       "model_id": "b86512a0840247b5afce779e4ec4a262",
       "version_major": 2,
       "version_minor": 0
      },
      "text/plain": [
       "  0%|          | 0/1 [00:00<?, ?it/s]"
      ]
     },
     "metadata": {},
     "output_type": "display_data"
    },
    {
     "name": "stdout",
     "output_type": "stream",
     "text": [
      "CSPR = 10.00 dB\n",
      "Results:\n",
      "BER: 1.22e-04\n",
      "SNR: 18.36 dB\n",
      "SIR =  7.1  dB\n",
      "GMI: 4.00 bits\n",
      "\n"
     ]
    },
    {
     "data": {
      "application/vnd.jupyter.widget-view+json": {
       "model_id": "8cd0edb8315e4eea8d9bb1b53552d42a",
       "version_major": 2,
       "version_minor": 0
      },
      "text/plain": [
       "  0%|          | 0/1 [00:00<?, ?it/s]"
      ]
     },
     "metadata": {},
     "output_type": "display_data"
    },
    {
     "name": "stdout",
     "output_type": "stream",
     "text": [
      "CSPR = 10.00 dB\n",
      "Results:\n",
      "BER: 1.87e-05\n",
      "SNR: 19.33 dB\n",
      "SIR =  7.13  dB\n",
      "GMI: 4.00 bits\n",
      "\n"
     ]
    },
    {
     "data": {
      "application/vnd.jupyter.widget-view+json": {
       "model_id": "7085dc119ded4be39c8a52dd8747c9b5",
       "version_major": 2,
       "version_minor": 0
      },
      "text/plain": [
       "  0%|          | 0/1 [00:00<?, ?it/s]"
      ]
     },
     "metadata": {},
     "output_type": "display_data"
    },
    {
     "name": "stdout",
     "output_type": "stream",
     "text": [
      "CSPR = 10.00 dB\n",
      "Results:\n",
      "BER: 0.00e+00\n",
      "SNR: 20.34 dB\n",
      "SIR =  7.13  dB\n",
      "GMI: 4.00 bits\n",
      "\n"
     ]
    },
    {
     "data": {
      "application/vnd.jupyter.widget-view+json": {
       "model_id": "41354a051d9041a4b2f77c0a034ae04e",
       "version_major": 2,
       "version_minor": 0
      },
      "text/plain": [
       "  0%|          | 0/1 [00:00<?, ?it/s]"
      ]
     },
     "metadata": {},
     "output_type": "display_data"
    },
    {
     "name": "stdout",
     "output_type": "stream",
     "text": [
      "CSPR = 10.00 dB\n",
      "Results:\n",
      "BER: 0.00e+00\n",
      "SNR: 21.31 dB\n",
      "SIR =  7.12  dB\n",
      "GMI: 4.00 bits\n",
      "\n"
     ]
    },
    {
     "data": {
      "application/vnd.jupyter.widget-view+json": {
       "model_id": "f0a9004b168c4768b1199f6f50c1d0a4",
       "version_major": 2,
       "version_minor": 0
      },
      "text/plain": [
       "  0%|          | 0/1 [00:00<?, ?it/s]"
      ]
     },
     "metadata": {},
     "output_type": "display_data"
    },
    {
     "name": "stdout",
     "output_type": "stream",
     "text": [
      "CSPR = 10.00 dB\n",
      "Results:\n",
      "BER: 0.00e+00\n",
      "SNR: 22.30 dB\n",
      "SIR =  7.1  dB\n",
      "GMI: 4.00 bits\n",
      "\n"
     ]
    },
    {
     "data": {
      "application/vnd.jupyter.widget-view+json": {
       "model_id": "291427524b1746e298675f1f05330e88",
       "version_major": 2,
       "version_minor": 0
      },
      "text/plain": [
       "  0%|          | 0/1 [00:00<?, ?it/s]"
      ]
     },
     "metadata": {},
     "output_type": "display_data"
    },
    {
     "name": "stdout",
     "output_type": "stream",
     "text": [
      "CSPR = 10.00 dB\n",
      "Results:\n",
      "BER: 0.00e+00\n",
      "SNR: 23.27 dB\n",
      "SIR =  7.12  dB\n",
      "GMI: 4.00 bits\n",
      "\n"
     ]
    },
    {
     "data": {
      "application/vnd.jupyter.widget-view+json": {
       "model_id": "261e4c16b8364fd9bbba38717576c0da",
       "version_major": 2,
       "version_minor": 0
      },
      "text/plain": [
       "  0%|          | 0/1 [00:00<?, ?it/s]"
      ]
     },
     "metadata": {},
     "output_type": "display_data"
    },
    {
     "name": "stdout",
     "output_type": "stream",
     "text": [
      "CSPR = 10.00 dB\n",
      "Results:\n",
      "BER: 0.00e+00\n",
      "SNR: 24.23 dB\n",
      "SIR =  7.12  dB\n",
      "GMI: 4.00 bits\n",
      "\n"
     ]
    },
    {
     "data": {
      "application/vnd.jupyter.widget-view+json": {
       "model_id": "1b59448db7564610b24b4117d262cde9",
       "version_major": 2,
       "version_minor": 0
      },
      "text/plain": [
       "  0%|          | 0/1 [00:00<?, ?it/s]"
      ]
     },
     "metadata": {},
     "output_type": "display_data"
    },
    {
     "name": "stdout",
     "output_type": "stream",
     "text": [
      "CSPR = 10.00 dB\n",
      "Results:\n",
      "BER: 0.00e+00\n",
      "SNR: 25.20 dB\n",
      "SIR =  7.14  dB\n",
      "GMI: 4.00 bits\n",
      "\n"
     ]
    },
    {
     "data": {
      "application/vnd.jupyter.widget-view+json": {
       "model_id": "4464a8981cb7458c8c300ca5319195bc",
       "version_major": 2,
       "version_minor": 0
      },
      "text/plain": [
       "  0%|          | 0/10 [00:00<?, ?it/s]"
      ]
     },
     "metadata": {},
     "output_type": "display_data"
    },
    {
     "data": {
      "application/vnd.jupyter.widget-view+json": {
       "model_id": "8c03f6b4b81d4501871595177786fd3a",
       "version_major": 2,
       "version_minor": 0
      },
      "text/plain": [
       "  0%|          | 0/1 [00:00<?, ?it/s]"
      ]
     },
     "metadata": {},
     "output_type": "display_data"
    },
    {
     "name": "stdout",
     "output_type": "stream",
     "text": [
      "CSPR = 11.00 dB\n",
      "Results:\n",
      "BER: 1.32e-03\n",
      "SNR: 16.37 dB\n",
      "SIR =  7.1  dB\n",
      "GMI: 3.98 bits\n",
      "\n"
     ]
    },
    {
     "data": {
      "application/vnd.jupyter.widget-view+json": {
       "model_id": "ef9a6c1c6ab9447e96fd57b6cd542e17",
       "version_major": 2,
       "version_minor": 0
      },
      "text/plain": [
       "  0%|          | 0/1 [00:00<?, ?it/s]"
      ]
     },
     "metadata": {},
     "output_type": "display_data"
    },
    {
     "name": "stdout",
     "output_type": "stream",
     "text": [
      "CSPR = 11.00 dB\n",
      "Results:\n",
      "BER: 4.16e-04\n",
      "SNR: 17.35 dB\n",
      "SIR =  7.12  dB\n",
      "GMI: 3.99 bits\n",
      "\n"
     ]
    },
    {
     "data": {
      "application/vnd.jupyter.widget-view+json": {
       "model_id": "a9b00dfb925843efb5c694fdf098f5ed",
       "version_major": 2,
       "version_minor": 0
      },
      "text/plain": [
       "  0%|          | 0/1 [00:00<?, ?it/s]"
      ]
     },
     "metadata": {},
     "output_type": "display_data"
    },
    {
     "name": "stdout",
     "output_type": "stream",
     "text": [
      "CSPR = 11.00 dB\n",
      "Results:\n",
      "BER: 1.09e-04\n",
      "SNR: 18.33 dB\n",
      "SIR =  7.09  dB\n",
      "GMI: 4.00 bits\n",
      "\n"
     ]
    },
    {
     "data": {
      "application/vnd.jupyter.widget-view+json": {
       "model_id": "9fe0976efbd24ca982c2f3ebb8526172",
       "version_major": 2,
       "version_minor": 0
      },
      "text/plain": [
       "  0%|          | 0/1 [00:00<?, ?it/s]"
      ]
     },
     "metadata": {},
     "output_type": "display_data"
    },
    {
     "name": "stdout",
     "output_type": "stream",
     "text": [
      "CSPR = 11.00 dB\n",
      "Results:\n",
      "BER: 2.19e-05\n",
      "SNR: 19.37 dB\n",
      "SIR =  7.12  dB\n",
      "GMI: 4.00 bits\n",
      "\n"
     ]
    },
    {
     "data": {
      "application/vnd.jupyter.widget-view+json": {
       "model_id": "33fae32cf65d4370a35952e55dc0a10c",
       "version_major": 2,
       "version_minor": 0
      },
      "text/plain": [
       "  0%|          | 0/1 [00:00<?, ?it/s]"
      ]
     },
     "metadata": {},
     "output_type": "display_data"
    },
    {
     "name": "stdout",
     "output_type": "stream",
     "text": [
      "CSPR = 11.00 dB\n",
      "Results:\n",
      "BER: 0.00e+00\n",
      "SNR: 20.32 dB\n",
      "SIR =  7.13  dB\n",
      "GMI: 4.00 bits\n",
      "\n"
     ]
    },
    {
     "data": {
      "application/vnd.jupyter.widget-view+json": {
       "model_id": "678343f4f0484eda9cb499fddc107977",
       "version_major": 2,
       "version_minor": 0
      },
      "text/plain": [
       "  0%|          | 0/1 [00:00<?, ?it/s]"
      ]
     },
     "metadata": {},
     "output_type": "display_data"
    },
    {
     "name": "stdout",
     "output_type": "stream",
     "text": [
      "CSPR = 11.00 dB\n",
      "Results:\n",
      "BER: 0.00e+00\n",
      "SNR: 21.33 dB\n",
      "SIR =  7.12  dB\n",
      "GMI: 4.00 bits\n",
      "\n"
     ]
    },
    {
     "data": {
      "application/vnd.jupyter.widget-view+json": {
       "model_id": "522e6924361e45f8ac3967f8692ce182",
       "version_major": 2,
       "version_minor": 0
      },
      "text/plain": [
       "  0%|          | 0/1 [00:00<?, ?it/s]"
      ]
     },
     "metadata": {},
     "output_type": "display_data"
    },
    {
     "name": "stdout",
     "output_type": "stream",
     "text": [
      "CSPR = 11.00 dB\n",
      "Results:\n",
      "BER: 0.00e+00\n",
      "SNR: 22.29 dB\n",
      "SIR =  7.13  dB\n",
      "GMI: 4.00 bits\n",
      "\n"
     ]
    },
    {
     "data": {
      "application/vnd.jupyter.widget-view+json": {
       "model_id": "62921f2075894b7989d8cea9573c113e",
       "version_major": 2,
       "version_minor": 0
      },
      "text/plain": [
       "  0%|          | 0/1 [00:00<?, ?it/s]"
      ]
     },
     "metadata": {},
     "output_type": "display_data"
    },
    {
     "name": "stdout",
     "output_type": "stream",
     "text": [
      "CSPR = 11.00 dB\n",
      "Results:\n",
      "BER: 0.00e+00\n",
      "SNR: 23.30 dB\n",
      "SIR =  7.11  dB\n",
      "GMI: 4.00 bits\n",
      "\n"
     ]
    },
    {
     "data": {
      "application/vnd.jupyter.widget-view+json": {
       "model_id": "c0cf9929cdb14d01af113f8383411ab5",
       "version_major": 2,
       "version_minor": 0
      },
      "text/plain": [
       "  0%|          | 0/1 [00:00<?, ?it/s]"
      ]
     },
     "metadata": {},
     "output_type": "display_data"
    },
    {
     "name": "stdout",
     "output_type": "stream",
     "text": [
      "CSPR = 11.00 dB\n",
      "Results:\n",
      "BER: 0.00e+00\n",
      "SNR: 24.24 dB\n",
      "SIR =  7.12  dB\n",
      "GMI: 4.00 bits\n",
      "\n"
     ]
    },
    {
     "data": {
      "application/vnd.jupyter.widget-view+json": {
       "model_id": "3e6744986efc4ccf835b6fb8a295917f",
       "version_major": 2,
       "version_minor": 0
      },
      "text/plain": [
       "  0%|          | 0/1 [00:00<?, ?it/s]"
      ]
     },
     "metadata": {},
     "output_type": "display_data"
    },
    {
     "name": "stdout",
     "output_type": "stream",
     "text": [
      "CSPR = 11.00 dB\n",
      "Results:\n",
      "BER: 0.00e+00\n",
      "SNR: 25.17 dB\n",
      "SIR =  7.13  dB\n",
      "GMI: 4.00 bits\n",
      "\n"
     ]
    },
    {
     "data": {
      "application/vnd.jupyter.widget-view+json": {
       "model_id": "27f6b101a60b4d63b0b439194f36eaa8",
       "version_major": 2,
       "version_minor": 0
      },
      "text/plain": [
       "  0%|          | 0/10 [00:00<?, ?it/s]"
      ]
     },
     "metadata": {},
     "output_type": "display_data"
    },
    {
     "data": {
      "application/vnd.jupyter.widget-view+json": {
       "model_id": "98ab38df766f4e5898866a1a286a24b9",
       "version_major": 2,
       "version_minor": 0
      },
      "text/plain": [
       "  0%|          | 0/1 [00:00<?, ?it/s]"
      ]
     },
     "metadata": {},
     "output_type": "display_data"
    },
    {
     "name": "stdout",
     "output_type": "stream",
     "text": [
      "CSPR = 12.00 dB\n",
      "Results:\n",
      "BER: 1.35e-03\n",
      "SNR: 16.36 dB\n",
      "SIR =  7.12  dB\n",
      "GMI: 3.98 bits\n",
      "\n"
     ]
    },
    {
     "data": {
      "application/vnd.jupyter.widget-view+json": {
       "model_id": "708eafef04a74d83b58b567e0cce8ce6",
       "version_major": 2,
       "version_minor": 0
      },
      "text/plain": [
       "  0%|          | 0/1 [00:00<?, ?it/s]"
      ]
     },
     "metadata": {},
     "output_type": "display_data"
    },
    {
     "name": "stdout",
     "output_type": "stream",
     "text": [
      "CSPR = 12.00 dB\n",
      "Results:\n",
      "BER: 3.84e-04\n",
      "SNR: 17.39 dB\n",
      "SIR =  7.13  dB\n",
      "GMI: 3.99 bits\n",
      "\n"
     ]
    },
    {
     "data": {
      "application/vnd.jupyter.widget-view+json": {
       "model_id": "dbc53156d3eb43b5bd040357e5272689",
       "version_major": 2,
       "version_minor": 0
      },
      "text/plain": [
       "  0%|          | 0/1 [00:00<?, ?it/s]"
      ]
     },
     "metadata": {},
     "output_type": "display_data"
    },
    {
     "name": "stdout",
     "output_type": "stream",
     "text": [
      "CSPR = 12.00 dB\n",
      "Results:\n",
      "BER: 8.75e-05\n",
      "SNR: 18.34 dB\n",
      "SIR =  7.11  dB\n",
      "GMI: 4.00 bits\n",
      "\n"
     ]
    },
    {
     "data": {
      "application/vnd.jupyter.widget-view+json": {
       "model_id": "a1c461a4aad544f4b738e46cb9eb915b",
       "version_major": 2,
       "version_minor": 0
      },
      "text/plain": [
       "  0%|          | 0/1 [00:00<?, ?it/s]"
      ]
     },
     "metadata": {},
     "output_type": "display_data"
    },
    {
     "name": "stdout",
     "output_type": "stream",
     "text": [
      "CSPR = 12.00 dB\n",
      "Results:\n",
      "BER: 1.56e-05\n",
      "SNR: 19.35 dB\n",
      "SIR =  7.11  dB\n",
      "GMI: 4.00 bits\n",
      "\n"
     ]
    },
    {
     "data": {
      "application/vnd.jupyter.widget-view+json": {
       "model_id": "e0505d7965374f91b9322b584be40d47",
       "version_major": 2,
       "version_minor": 0
      },
      "text/plain": [
       "  0%|          | 0/1 [00:00<?, ?it/s]"
      ]
     },
     "metadata": {},
     "output_type": "display_data"
    },
    {
     "name": "stdout",
     "output_type": "stream",
     "text": [
      "CSPR = 12.00 dB\n",
      "Results:\n",
      "BER: 0.00e+00\n",
      "SNR: 20.33 dB\n",
      "SIR =  7.11  dB\n",
      "GMI: 4.00 bits\n",
      "\n"
     ]
    },
    {
     "data": {
      "application/vnd.jupyter.widget-view+json": {
       "model_id": "82497c90a2df4d57acb785184672c142",
       "version_major": 2,
       "version_minor": 0
      },
      "text/plain": [
       "  0%|          | 0/1 [00:00<?, ?it/s]"
      ]
     },
     "metadata": {},
     "output_type": "display_data"
    },
    {
     "name": "stdout",
     "output_type": "stream",
     "text": [
      "CSPR = 12.00 dB\n",
      "Results:\n",
      "BER: 0.00e+00\n",
      "SNR: 21.29 dB\n",
      "SIR =  7.11  dB\n",
      "GMI: 4.00 bits\n",
      "\n"
     ]
    },
    {
     "data": {
      "application/vnd.jupyter.widget-view+json": {
       "model_id": "2c17bbbb3656497f955a26ea4629728b",
       "version_major": 2,
       "version_minor": 0
      },
      "text/plain": [
       "  0%|          | 0/1 [00:00<?, ?it/s]"
      ]
     },
     "metadata": {},
     "output_type": "display_data"
    },
    {
     "name": "stdout",
     "output_type": "stream",
     "text": [
      "CSPR = 12.00 dB\n",
      "Results:\n",
      "BER: 0.00e+00\n",
      "SNR: 22.31 dB\n",
      "SIR =  7.11  dB\n",
      "GMI: 4.00 bits\n",
      "\n"
     ]
    },
    {
     "data": {
      "application/vnd.jupyter.widget-view+json": {
       "model_id": "cf1418dece9b43d6b239e56123aa711d",
       "version_major": 2,
       "version_minor": 0
      },
      "text/plain": [
       "  0%|          | 0/1 [00:00<?, ?it/s]"
      ]
     },
     "metadata": {},
     "output_type": "display_data"
    },
    {
     "name": "stdout",
     "output_type": "stream",
     "text": [
      "CSPR = 12.00 dB\n",
      "Results:\n",
      "BER: 0.00e+00\n",
      "SNR: 23.27 dB\n",
      "SIR =  7.12  dB\n",
      "GMI: 4.00 bits\n",
      "\n"
     ]
    },
    {
     "data": {
      "application/vnd.jupyter.widget-view+json": {
       "model_id": "4273b6ed6e004831b2940f0665652f3e",
       "version_major": 2,
       "version_minor": 0
      },
      "text/plain": [
       "  0%|          | 0/1 [00:00<?, ?it/s]"
      ]
     },
     "metadata": {},
     "output_type": "display_data"
    },
    {
     "name": "stdout",
     "output_type": "stream",
     "text": [
      "CSPR = 12.00 dB\n",
      "Results:\n",
      "BER: 0.00e+00\n",
      "SNR: 24.25 dB\n",
      "SIR =  7.13  dB\n",
      "GMI: 4.00 bits\n",
      "\n"
     ]
    },
    {
     "data": {
      "application/vnd.jupyter.widget-view+json": {
       "model_id": "c2dc89e5b98e4775aff8d755f67c9fc4",
       "version_major": 2,
       "version_minor": 0
      },
      "text/plain": [
       "  0%|          | 0/1 [00:00<?, ?it/s]"
      ]
     },
     "metadata": {},
     "output_type": "display_data"
    },
    {
     "name": "stdout",
     "output_type": "stream",
     "text": [
      "CSPR = 12.00 dB\n",
      "Results:\n",
      "BER: 0.00e+00\n",
      "SNR: 25.15 dB\n",
      "SIR =  7.12  dB\n",
      "GMI: 4.00 bits\n",
      "\n"
     ]
    },
    {
     "data": {
      "application/vnd.jupyter.widget-view+json": {
       "model_id": "364560fdc25346878249fe189a855556",
       "version_major": 2,
       "version_minor": 0
      },
      "text/plain": [
       "  0%|          | 0/10 [00:00<?, ?it/s]"
      ]
     },
     "metadata": {},
     "output_type": "display_data"
    },
    {
     "data": {
      "application/vnd.jupyter.widget-view+json": {
       "model_id": "3833ee9bd55f4215a07da90981effd2e",
       "version_major": 2,
       "version_minor": 0
      },
      "text/plain": [
       "  0%|          | 0/1 [00:00<?, ?it/s]"
      ]
     },
     "metadata": {},
     "output_type": "display_data"
    },
    {
     "name": "stdout",
     "output_type": "stream",
     "text": [
      "CSPR = 13.00 dB\n",
      "Results:\n",
      "BER: 1.37e-03\n",
      "SNR: 16.39 dB\n",
      "SIR =  7.13  dB\n",
      "GMI: 3.98 bits\n",
      "\n"
     ]
    },
    {
     "data": {
      "application/vnd.jupyter.widget-view+json": {
       "model_id": "687031f9f70d47ba88f03bbc3581eb0f",
       "version_major": 2,
       "version_minor": 0
      },
      "text/plain": [
       "  0%|          | 0/1 [00:00<?, ?it/s]"
      ]
     },
     "metadata": {},
     "output_type": "display_data"
    },
    {
     "name": "stdout",
     "output_type": "stream",
     "text": [
      "CSPR = 13.00 dB\n",
      "Results:\n",
      "BER: 3.78e-04\n",
      "SNR: 17.36 dB\n",
      "SIR =  7.13  dB\n",
      "GMI: 3.99 bits\n",
      "\n"
     ]
    },
    {
     "data": {
      "application/vnd.jupyter.widget-view+json": {
       "model_id": "09de99636a834ec09e3f0c0b857aba00",
       "version_major": 2,
       "version_minor": 0
      },
      "text/plain": [
       "  0%|          | 0/1 [00:00<?, ?it/s]"
      ]
     },
     "metadata": {},
     "output_type": "display_data"
    },
    {
     "name": "stdout",
     "output_type": "stream",
     "text": [
      "CSPR = 13.00 dB\n",
      "Results:\n",
      "BER: 1.03e-04\n",
      "SNR: 18.35 dB\n",
      "SIR =  7.11  dB\n",
      "GMI: 4.00 bits\n",
      "\n"
     ]
    },
    {
     "data": {
      "application/vnd.jupyter.widget-view+json": {
       "model_id": "0c944f803d3c4ab9ae43b1a39b229b1d",
       "version_major": 2,
       "version_minor": 0
      },
      "text/plain": [
       "  0%|          | 0/1 [00:00<?, ?it/s]"
      ]
     },
     "metadata": {},
     "output_type": "display_data"
    },
    {
     "name": "stdout",
     "output_type": "stream",
     "text": [
      "CSPR = 13.00 dB\n",
      "Results:\n",
      "BER: 1.87e-05\n",
      "SNR: 19.32 dB\n",
      "SIR =  7.11  dB\n",
      "GMI: 4.00 bits\n",
      "\n"
     ]
    },
    {
     "data": {
      "application/vnd.jupyter.widget-view+json": {
       "model_id": "1329df56b02f493fb36425f7696d39ee",
       "version_major": 2,
       "version_minor": 0
      },
      "text/plain": [
       "  0%|          | 0/1 [00:00<?, ?it/s]"
      ]
     },
     "metadata": {},
     "output_type": "display_data"
    },
    {
     "name": "stdout",
     "output_type": "stream",
     "text": [
      "CSPR = 13.00 dB\n",
      "Results:\n",
      "BER: 3.13e-06\n",
      "SNR: 20.34 dB\n",
      "SIR =  7.1  dB\n",
      "GMI: 4.00 bits\n",
      "\n"
     ]
    },
    {
     "data": {
      "application/vnd.jupyter.widget-view+json": {
       "model_id": "dbd3b994249c42d38cc01e246f3f1f79",
       "version_major": 2,
       "version_minor": 0
      },
      "text/plain": [
       "  0%|          | 0/1 [00:00<?, ?it/s]"
      ]
     },
     "metadata": {},
     "output_type": "display_data"
    },
    {
     "name": "stdout",
     "output_type": "stream",
     "text": [
      "CSPR = 13.00 dB\n",
      "Results:\n",
      "BER: 0.00e+00\n",
      "SNR: 21.32 dB\n",
      "SIR =  7.13  dB\n",
      "GMI: 4.00 bits\n",
      "\n"
     ]
    },
    {
     "data": {
      "application/vnd.jupyter.widget-view+json": {
       "model_id": "ddd25d0aa65943f6ba961ce09177ede7",
       "version_major": 2,
       "version_minor": 0
      },
      "text/plain": [
       "  0%|          | 0/1 [00:00<?, ?it/s]"
      ]
     },
     "metadata": {},
     "output_type": "display_data"
    },
    {
     "name": "stdout",
     "output_type": "stream",
     "text": [
      "CSPR = 13.00 dB\n",
      "Results:\n",
      "BER: 0.00e+00\n",
      "SNR: 22.29 dB\n",
      "SIR =  7.12  dB\n",
      "GMI: 4.00 bits\n",
      "\n"
     ]
    },
    {
     "data": {
      "application/vnd.jupyter.widget-view+json": {
       "model_id": "3777b4fe67c248a0a6c0006196062a09",
       "version_major": 2,
       "version_minor": 0
      },
      "text/plain": [
       "  0%|          | 0/1 [00:00<?, ?it/s]"
      ]
     },
     "metadata": {},
     "output_type": "display_data"
    },
    {
     "name": "stdout",
     "output_type": "stream",
     "text": [
      "CSPR = 13.00 dB\n",
      "Results:\n",
      "BER: 0.00e+00\n",
      "SNR: 23.27 dB\n",
      "SIR =  7.09  dB\n",
      "GMI: 4.00 bits\n",
      "\n"
     ]
    },
    {
     "data": {
      "application/vnd.jupyter.widget-view+json": {
       "model_id": "05e45ece154e46769de3c128821e0bf1",
       "version_major": 2,
       "version_minor": 0
      },
      "text/plain": [
       "  0%|          | 0/1 [00:00<?, ?it/s]"
      ]
     },
     "metadata": {},
     "output_type": "display_data"
    },
    {
     "name": "stdout",
     "output_type": "stream",
     "text": [
      "CSPR = 13.00 dB\n",
      "Results:\n",
      "BER: 0.00e+00\n",
      "SNR: 24.24 dB\n",
      "SIR =  7.1  dB\n",
      "GMI: 4.00 bits\n",
      "\n"
     ]
    },
    {
     "data": {
      "application/vnd.jupyter.widget-view+json": {
       "model_id": "c507bc9f6ec54a61ae6c93153d5baa72",
       "version_major": 2,
       "version_minor": 0
      },
      "text/plain": [
       "  0%|          | 0/1 [00:00<?, ?it/s]"
      ]
     },
     "metadata": {},
     "output_type": "display_data"
    },
    {
     "name": "stdout",
     "output_type": "stream",
     "text": [
      "CSPR = 13.00 dB\n",
      "Results:\n",
      "BER: 0.00e+00\n",
      "SNR: 25.20 dB\n",
      "SIR =  7.12  dB\n",
      "GMI: 4.00 bits\n",
      "\n"
     ]
    },
    {
     "data": {
      "application/vnd.jupyter.widget-view+json": {
       "model_id": "be2a224604ea4a3bbd4e7a026d7b1ded",
       "version_major": 2,
       "version_minor": 0
      },
      "text/plain": [
       "  0%|          | 0/10 [00:00<?, ?it/s]"
      ]
     },
     "metadata": {},
     "output_type": "display_data"
    },
    {
     "data": {
      "application/vnd.jupyter.widget-view+json": {
       "model_id": "8784a1fe89514c30a7227991462d28f2",
       "version_major": 2,
       "version_minor": 0
      },
      "text/plain": [
       "  0%|          | 0/1 [00:00<?, ?it/s]"
      ]
     },
     "metadata": {},
     "output_type": "display_data"
    },
    {
     "name": "stdout",
     "output_type": "stream",
     "text": [
      "CSPR = 14.00 dB\n",
      "Results:\n",
      "BER: 1.38e-03\n",
      "SNR: 16.37 dB\n",
      "SIR =  7.1  dB\n",
      "GMI: 3.98 bits\n",
      "\n"
     ]
    },
    {
     "data": {
      "application/vnd.jupyter.widget-view+json": {
       "model_id": "a521577cd17a443eb785fad6e918a3e5",
       "version_major": 2,
       "version_minor": 0
      },
      "text/plain": [
       "  0%|          | 0/1 [00:00<?, ?it/s]"
      ]
     },
     "metadata": {},
     "output_type": "display_data"
    },
    {
     "name": "stdout",
     "output_type": "stream",
     "text": [
      "CSPR = 14.00 dB\n",
      "Results:\n",
      "BER: 4.25e-04\n",
      "SNR: 17.35 dB\n",
      "SIR =  7.11  dB\n",
      "GMI: 3.99 bits\n",
      "\n"
     ]
    },
    {
     "data": {
      "application/vnd.jupyter.widget-view+json": {
       "model_id": "4ddbca73650349bd9b5b2259f5f2ab7c",
       "version_major": 2,
       "version_minor": 0
      },
      "text/plain": [
       "  0%|          | 0/1 [00:00<?, ?it/s]"
      ]
     },
     "metadata": {},
     "output_type": "display_data"
    },
    {
     "name": "stdout",
     "output_type": "stream",
     "text": [
      "CSPR = 14.00 dB\n",
      "Results:\n",
      "BER: 5.31e-05\n",
      "SNR: 18.38 dB\n",
      "SIR =  7.11  dB\n",
      "GMI: 4.00 bits\n",
      "\n"
     ]
    },
    {
     "data": {
      "application/vnd.jupyter.widget-view+json": {
       "model_id": "7ee731f5c21543abbc7c7ce0744523a4",
       "version_major": 2,
       "version_minor": 0
      },
      "text/plain": [
       "  0%|          | 0/1 [00:00<?, ?it/s]"
      ]
     },
     "metadata": {},
     "output_type": "display_data"
    },
    {
     "name": "stdout",
     "output_type": "stream",
     "text": [
      "CSPR = 14.00 dB\n",
      "Results:\n",
      "BER: 9.37e-06\n",
      "SNR: 19.34 dB\n",
      "SIR =  7.1  dB\n",
      "GMI: 4.00 bits\n",
      "\n"
     ]
    },
    {
     "data": {
      "application/vnd.jupyter.widget-view+json": {
       "model_id": "6b9b206cd4824a6e839f436eb2968df1",
       "version_major": 2,
       "version_minor": 0
      },
      "text/plain": [
       "  0%|          | 0/1 [00:00<?, ?it/s]"
      ]
     },
     "metadata": {},
     "output_type": "display_data"
    },
    {
     "name": "stdout",
     "output_type": "stream",
     "text": [
      "CSPR = 14.00 dB\n",
      "Results:\n",
      "BER: 0.00e+00\n",
      "SNR: 20.32 dB\n",
      "SIR =  7.12  dB\n",
      "GMI: 4.00 bits\n",
      "\n"
     ]
    },
    {
     "data": {
      "application/vnd.jupyter.widget-view+json": {
       "model_id": "f5c62ca01518460b84e1e26ad395d39c",
       "version_major": 2,
       "version_minor": 0
      },
      "text/plain": [
       "  0%|          | 0/1 [00:00<?, ?it/s]"
      ]
     },
     "metadata": {},
     "output_type": "display_data"
    },
    {
     "name": "stdout",
     "output_type": "stream",
     "text": [
      "CSPR = 14.00 dB\n",
      "Results:\n",
      "BER: 0.00e+00\n",
      "SNR: 21.31 dB\n",
      "SIR =  7.1  dB\n",
      "GMI: 4.00 bits\n",
      "\n"
     ]
    },
    {
     "data": {
      "application/vnd.jupyter.widget-view+json": {
       "model_id": "8554831761ca40849958c4d0698dc5d3",
       "version_major": 2,
       "version_minor": 0
      },
      "text/plain": [
       "  0%|          | 0/1 [00:00<?, ?it/s]"
      ]
     },
     "metadata": {},
     "output_type": "display_data"
    },
    {
     "name": "stdout",
     "output_type": "stream",
     "text": [
      "CSPR = 14.00 dB\n",
      "Results:\n",
      "BER: 0.00e+00\n",
      "SNR: 22.27 dB\n",
      "SIR =  7.1  dB\n",
      "GMI: 4.00 bits\n",
      "\n"
     ]
    },
    {
     "data": {
      "application/vnd.jupyter.widget-view+json": {
       "model_id": "3a337924832c483b813fd84c92cd3e7d",
       "version_major": 2,
       "version_minor": 0
      },
      "text/plain": [
       "  0%|          | 0/1 [00:00<?, ?it/s]"
      ]
     },
     "metadata": {},
     "output_type": "display_data"
    },
    {
     "name": "stdout",
     "output_type": "stream",
     "text": [
      "CSPR = 14.00 dB\n",
      "Results:\n",
      "BER: 0.00e+00\n",
      "SNR: 23.28 dB\n",
      "SIR =  7.14  dB\n",
      "GMI: 4.00 bits\n",
      "\n"
     ]
    },
    {
     "data": {
      "application/vnd.jupyter.widget-view+json": {
       "model_id": "b72bdb03a5084b33b88c9c396fa634a5",
       "version_major": 2,
       "version_minor": 0
      },
      "text/plain": [
       "  0%|          | 0/1 [00:00<?, ?it/s]"
      ]
     },
     "metadata": {},
     "output_type": "display_data"
    },
    {
     "name": "stdout",
     "output_type": "stream",
     "text": [
      "CSPR = 14.00 dB\n",
      "Results:\n",
      "BER: 0.00e+00\n",
      "SNR: 24.24 dB\n",
      "SIR =  7.11  dB\n",
      "GMI: 4.00 bits\n",
      "\n"
     ]
    },
    {
     "data": {
      "application/vnd.jupyter.widget-view+json": {
       "model_id": "b014f6bb435e4fc09598945dce2cb52f",
       "version_major": 2,
       "version_minor": 0
      },
      "text/plain": [
       "  0%|          | 0/1 [00:00<?, ?it/s]"
      ]
     },
     "metadata": {},
     "output_type": "display_data"
    },
    {
     "name": "stdout",
     "output_type": "stream",
     "text": [
      "CSPR = 14.00 dB\n",
      "Results:\n",
      "BER: 0.00e+00\n",
      "SNR: 25.21 dB\n",
      "SIR =  7.12  dB\n",
      "GMI: 4.00 bits\n",
      "\n"
     ]
    },
    {
     "data": {
      "application/vnd.jupyter.widget-view+json": {
       "model_id": "ca8a339ed77948698ae8264f11763dde",
       "version_major": 2,
       "version_minor": 0
      },
      "text/plain": [
       "  0%|          | 0/10 [00:00<?, ?it/s]"
      ]
     },
     "metadata": {},
     "output_type": "display_data"
    },
    {
     "data": {
      "application/vnd.jupyter.widget-view+json": {
       "model_id": "c187cb7da8584382afc93c3de4bad8c2",
       "version_major": 2,
       "version_minor": 0
      },
      "text/plain": [
       "  0%|          | 0/1 [00:00<?, ?it/s]"
      ]
     },
     "metadata": {},
     "output_type": "display_data"
    },
    {
     "name": "stdout",
     "output_type": "stream",
     "text": [
      "CSPR = 15.00 dB\n",
      "Results:\n",
      "BER: 1.40e-03\n",
      "SNR: 16.38 dB\n",
      "SIR =  7.1  dB\n",
      "GMI: 3.98 bits\n",
      "\n"
     ]
    },
    {
     "data": {
      "application/vnd.jupyter.widget-view+json": {
       "model_id": "2233e3047f9c44b68149785729fa4215",
       "version_major": 2,
       "version_minor": 0
      },
      "text/plain": [
       "  0%|          | 0/1 [00:00<?, ?it/s]"
      ]
     },
     "metadata": {},
     "output_type": "display_data"
    },
    {
     "name": "stdout",
     "output_type": "stream",
     "text": [
      "CSPR = 15.00 dB\n",
      "Results:\n",
      "BER: 4.31e-04\n",
      "SNR: 17.39 dB\n",
      "SIR =  7.12  dB\n",
      "GMI: 3.99 bits\n",
      "\n"
     ]
    },
    {
     "data": {
      "application/vnd.jupyter.widget-view+json": {
       "model_id": "57a6b99a9c5446188d7dc8ab004acc56",
       "version_major": 2,
       "version_minor": 0
      },
      "text/plain": [
       "  0%|          | 0/1 [00:00<?, ?it/s]"
      ]
     },
     "metadata": {},
     "output_type": "display_data"
    },
    {
     "name": "stdout",
     "output_type": "stream",
     "text": [
      "CSPR = 15.00 dB\n",
      "Results:\n",
      "BER: 8.75e-05\n",
      "SNR: 18.36 dB\n",
      "SIR =  7.11  dB\n",
      "GMI: 4.00 bits\n",
      "\n"
     ]
    },
    {
     "data": {
      "application/vnd.jupyter.widget-view+json": {
       "model_id": "69032ba4afb849dcbee91ae1d8175d1e",
       "version_major": 2,
       "version_minor": 0
      },
      "text/plain": [
       "  0%|          | 0/1 [00:00<?, ?it/s]"
      ]
     },
     "metadata": {},
     "output_type": "display_data"
    },
    {
     "name": "stdout",
     "output_type": "stream",
     "text": [
      "CSPR = 15.00 dB\n",
      "Results:\n",
      "BER: 2.50e-05\n",
      "SNR: 19.35 dB\n",
      "SIR =  7.12  dB\n",
      "GMI: 4.00 bits\n",
      "\n"
     ]
    },
    {
     "data": {
      "application/vnd.jupyter.widget-view+json": {
       "model_id": "63246d5ff5094d80a3d653149c93c89b",
       "version_major": 2,
       "version_minor": 0
      },
      "text/plain": [
       "  0%|          | 0/1 [00:00<?, ?it/s]"
      ]
     },
     "metadata": {},
     "output_type": "display_data"
    },
    {
     "name": "stdout",
     "output_type": "stream",
     "text": [
      "CSPR = 15.00 dB\n",
      "Results:\n",
      "BER: 0.00e+00\n",
      "SNR: 20.37 dB\n",
      "SIR =  7.09  dB\n",
      "GMI: 4.00 bits\n",
      "\n"
     ]
    },
    {
     "data": {
      "application/vnd.jupyter.widget-view+json": {
       "model_id": "81112e1e3af0461daad9b363782df1e1",
       "version_major": 2,
       "version_minor": 0
      },
      "text/plain": [
       "  0%|          | 0/1 [00:00<?, ?it/s]"
      ]
     },
     "metadata": {},
     "output_type": "display_data"
    },
    {
     "name": "stdout",
     "output_type": "stream",
     "text": [
      "CSPR = 15.00 dB\n",
      "Results:\n",
      "BER: 0.00e+00\n",
      "SNR: 21.32 dB\n",
      "SIR =  7.1  dB\n",
      "GMI: 4.00 bits\n",
      "\n"
     ]
    },
    {
     "data": {
      "application/vnd.jupyter.widget-view+json": {
       "model_id": "d75a1376e1304c418568f414c0f1ccde",
       "version_major": 2,
       "version_minor": 0
      },
      "text/plain": [
       "  0%|          | 0/1 [00:00<?, ?it/s]"
      ]
     },
     "metadata": {},
     "output_type": "display_data"
    },
    {
     "name": "stdout",
     "output_type": "stream",
     "text": [
      "CSPR = 15.00 dB\n",
      "Results:\n",
      "BER: 0.00e+00\n",
      "SNR: 22.27 dB\n",
      "SIR =  7.12  dB\n",
      "GMI: 4.00 bits\n",
      "\n"
     ]
    },
    {
     "data": {
      "application/vnd.jupyter.widget-view+json": {
       "model_id": "f7b59769f0ec4f308fc4006dcbb722d2",
       "version_major": 2,
       "version_minor": 0
      },
      "text/plain": [
       "  0%|          | 0/1 [00:00<?, ?it/s]"
      ]
     },
     "metadata": {},
     "output_type": "display_data"
    },
    {
     "name": "stdout",
     "output_type": "stream",
     "text": [
      "CSPR = 15.00 dB\n",
      "Results:\n",
      "BER: 0.00e+00\n",
      "SNR: 23.27 dB\n",
      "SIR =  7.13  dB\n",
      "GMI: 4.00 bits\n",
      "\n"
     ]
    },
    {
     "data": {
      "application/vnd.jupyter.widget-view+json": {
       "model_id": "62fdfb7746ab4d0e8a6d680af209c179",
       "version_major": 2,
       "version_minor": 0
      },
      "text/plain": [
       "  0%|          | 0/1 [00:00<?, ?it/s]"
      ]
     },
     "metadata": {},
     "output_type": "display_data"
    },
    {
     "name": "stdout",
     "output_type": "stream",
     "text": [
      "CSPR = 15.00 dB\n",
      "Results:\n",
      "BER: 0.00e+00\n",
      "SNR: 24.25 dB\n",
      "SIR =  7.13  dB\n",
      "GMI: 4.00 bits\n",
      "\n"
     ]
    },
    {
     "data": {
      "application/vnd.jupyter.widget-view+json": {
       "model_id": "c9b2f9c24c3e441e978774b248d27168",
       "version_major": 2,
       "version_minor": 0
      },
      "text/plain": [
       "  0%|          | 0/1 [00:00<?, ?it/s]"
      ]
     },
     "metadata": {},
     "output_type": "display_data"
    },
    {
     "name": "stdout",
     "output_type": "stream",
     "text": [
      "CSPR = 15.00 dB\n",
      "Results:\n",
      "BER: 0.00e+00\n",
      "SNR: 25.20 dB\n",
      "SIR =  7.11  dB\n",
      "GMI: 4.00 bits\n",
      "\n"
     ]
    },
    {
     "data": {
      "application/vnd.jupyter.widget-view+json": {
       "model_id": "a182254fa6584eab94caa6fb125a12da",
       "version_major": 2,
       "version_minor": 0
      },
      "text/plain": [
       "  0%|          | 0/10 [00:00<?, ?it/s]"
      ]
     },
     "metadata": {},
     "output_type": "display_data"
    },
    {
     "data": {
      "application/vnd.jupyter.widget-view+json": {
       "model_id": "7cffa368ef10407eb63f9b59e877914c",
       "version_major": 2,
       "version_minor": 0
      },
      "text/plain": [
       "  0%|          | 0/10 [00:00<?, ?it/s]"
      ]
     },
     "metadata": {},
     "output_type": "display_data"
    },
    {
     "data": {
      "application/vnd.jupyter.widget-view+json": {
       "model_id": "de9e7c02059f470594ca93dc41dc65e9",
       "version_major": 2,
       "version_minor": 0
      },
      "text/plain": [
       "  0%|          | 0/1 [00:00<?, ?it/s]"
      ]
     },
     "metadata": {},
     "output_type": "display_data"
    },
    {
     "name": "stdout",
     "output_type": "stream",
     "text": [
      "CSPR = 6.00 dB\n",
      "Results:\n",
      "BER: 3.54e-02\n",
      "SNR: 11.60 dB\n",
      "SIR =  13.36  dB\n",
      "GMI: 3.45 bits\n",
      "\n"
     ]
    },
    {
     "data": {
      "application/vnd.jupyter.widget-view+json": {
       "model_id": "2cb012acb7d94475b386c984f788c392",
       "version_major": 2,
       "version_minor": 0
      },
      "text/plain": [
       "  0%|          | 0/1 [00:00<?, ?it/s]"
      ]
     },
     "metadata": {},
     "output_type": "display_data"
    },
    {
     "name": "stdout",
     "output_type": "stream",
     "text": [
      "CSPR = 6.00 dB\n",
      "Results:\n",
      "BER: 2.42e-02\n",
      "SNR: 12.46 dB\n",
      "SIR =  14.05  dB\n",
      "GMI: 3.61 bits\n",
      "\n"
     ]
    },
    {
     "data": {
      "application/vnd.jupyter.widget-view+json": {
       "model_id": "80429c4fc61a492ebd29bce760b51915",
       "version_major": 2,
       "version_minor": 0
      },
      "text/plain": [
       "  0%|          | 0/1 [00:00<?, ?it/s]"
      ]
     },
     "metadata": {},
     "output_type": "display_data"
    },
    {
     "name": "stdout",
     "output_type": "stream",
     "text": [
      "CSPR = 6.00 dB\n",
      "Results:\n",
      "BER: 1.70e-02\n",
      "SNR: 13.19 dB\n",
      "SIR =  14.64  dB\n",
      "GMI: 3.70 bits\n",
      "\n"
     ]
    },
    {
     "data": {
      "application/vnd.jupyter.widget-view+json": {
       "model_id": "8dc97bb3fbf64acbb8c5479596e13119",
       "version_major": 2,
       "version_minor": 0
      },
      "text/plain": [
       "  0%|          | 0/1 [00:00<?, ?it/s]"
      ]
     },
     "metadata": {},
     "output_type": "display_data"
    },
    {
     "name": "stdout",
     "output_type": "stream",
     "text": [
      "CSPR = 6.00 dB\n",
      "Results:\n",
      "BER: 1.16e-02\n",
      "SNR: 13.96 dB\n",
      "SIR =  15.21  dB\n",
      "GMI: 3.78 bits\n",
      "\n"
     ]
    },
    {
     "data": {
      "application/vnd.jupyter.widget-view+json": {
       "model_id": "a88d8debcac74edcbda81e021d154b70",
       "version_major": 2,
       "version_minor": 0
      },
      "text/plain": [
       "  0%|          | 0/1 [00:00<?, ?it/s]"
      ]
     },
     "metadata": {},
     "output_type": "display_data"
    },
    {
     "name": "stdout",
     "output_type": "stream",
     "text": [
      "CSPR = 6.00 dB\n",
      "Results:\n",
      "BER: 7.76e-03\n",
      "SNR: 14.70 dB\n",
      "SIR =  15.73  dB\n",
      "GMI: 3.83 bits\n",
      "\n"
     ]
    },
    {
     "data": {
      "application/vnd.jupyter.widget-view+json": {
       "model_id": "5f1d910ae5ea4d3faa906c13b112b5ec",
       "version_major": 2,
       "version_minor": 0
      },
      "text/plain": [
       "  0%|          | 0/1 [00:00<?, ?it/s]"
      ]
     },
     "metadata": {},
     "output_type": "display_data"
    },
    {
     "name": "stdout",
     "output_type": "stream",
     "text": [
      "CSPR = 6.00 dB\n",
      "Results:\n",
      "BER: 5.86e-03\n",
      "SNR: 15.31 dB\n",
      "SIR =  16.12  dB\n",
      "GMI: 3.86 bits\n",
      "\n"
     ]
    },
    {
     "data": {
      "application/vnd.jupyter.widget-view+json": {
       "model_id": "d72009ed97d0404eaf89ab35fd0806c4",
       "version_major": 2,
       "version_minor": 0
      },
      "text/plain": [
       "  0%|          | 0/1 [00:00<?, ?it/s]"
      ]
     },
     "metadata": {},
     "output_type": "display_data"
    },
    {
     "name": "stdout",
     "output_type": "stream",
     "text": [
      "CSPR = 6.00 dB\n",
      "Results:\n",
      "BER: 4.75e-03\n",
      "SNR: 15.88 dB\n",
      "SIR =  16.61  dB\n",
      "GMI: 3.87 bits\n",
      "\n"
     ]
    },
    {
     "data": {
      "application/vnd.jupyter.widget-view+json": {
       "model_id": "f02d939f9029499db4d6a01a573c6915",
       "version_major": 2,
       "version_minor": 0
      },
      "text/plain": [
       "  0%|          | 0/1 [00:00<?, ?it/s]"
      ]
     },
     "metadata": {},
     "output_type": "display_data"
    },
    {
     "name": "stdout",
     "output_type": "stream",
     "text": [
      "CSPR = 6.00 dB\n",
      "Results:\n",
      "BER: 3.53e-03\n",
      "SNR: 16.47 dB\n",
      "SIR =  16.95  dB\n",
      "GMI: 3.89 bits\n",
      "\n"
     ]
    },
    {
     "data": {
      "application/vnd.jupyter.widget-view+json": {
       "model_id": "0b5ad841d64b46f597577d13dc853710",
       "version_major": 2,
       "version_minor": 0
      },
      "text/plain": [
       "  0%|          | 0/1 [00:00<?, ?it/s]"
      ]
     },
     "metadata": {},
     "output_type": "display_data"
    },
    {
     "name": "stdout",
     "output_type": "stream",
     "text": [
      "CSPR = 6.00 dB\n",
      "Results:\n",
      "BER: 3.08e-03\n",
      "SNR: 16.95 dB\n",
      "SIR =  17.27  dB\n",
      "GMI: 3.88 bits\n",
      "\n"
     ]
    },
    {
     "data": {
      "application/vnd.jupyter.widget-view+json": {
       "model_id": "fade3f1d1e7d4e259f711ea3d46bd899",
       "version_major": 2,
       "version_minor": 0
      },
      "text/plain": [
       "  0%|          | 0/1 [00:00<?, ?it/s]"
      ]
     },
     "metadata": {},
     "output_type": "display_data"
    },
    {
     "name": "stdout",
     "output_type": "stream",
     "text": [
      "CSPR = 6.00 dB\n",
      "Results:\n",
      "BER: 5.01e-01\n",
      "SNR: nan dB\n",
      "SIR =  nan  dB\n",
      "GMI: nan bits\n",
      "\n"
     ]
    },
    {
     "data": {
      "application/vnd.jupyter.widget-view+json": {
       "model_id": "352d80d57f1c439b95dc5b5af58983af",
       "version_major": 2,
       "version_minor": 0
      },
      "text/plain": [
       "  0%|          | 0/10 [00:00<?, ?it/s]"
      ]
     },
     "metadata": {},
     "output_type": "display_data"
    },
    {
     "data": {
      "application/vnd.jupyter.widget-view+json": {
       "model_id": "c5711e82ed944bc6843037464dda96a6",
       "version_major": 2,
       "version_minor": 0
      },
      "text/plain": [
       "  0%|          | 0/1 [00:00<?, ?it/s]"
      ]
     },
     "metadata": {},
     "output_type": "display_data"
    },
    {
     "name": "stdout",
     "output_type": "stream",
     "text": [
      "CSPR = 7.00 dB\n",
      "Results:\n",
      "BER: 2.86e-02\n",
      "SNR: 12.12 dB\n",
      "SIR =  14.09  dB\n",
      "GMI: 3.56 bits\n",
      "\n"
     ]
    },
    {
     "data": {
      "application/vnd.jupyter.widget-view+json": {
       "model_id": "f98975582b6d4715a8f0a9807b35b6c6",
       "version_major": 2,
       "version_minor": 0
      },
      "text/plain": [
       "  0%|          | 0/1 [00:00<?, ?it/s]"
      ]
     },
     "metadata": {},
     "output_type": "display_data"
    },
    {
     "name": "stdout",
     "output_type": "stream",
     "text": [
      "CSPR = 7.00 dB\n",
      "Results:\n",
      "BER: 4.99e-01\n",
      "SNR: nan dB\n",
      "SIR =  nan  dB\n",
      "GMI: nan bits\n",
      "\n"
     ]
    },
    {
     "data": {
      "application/vnd.jupyter.widget-view+json": {
       "model_id": "18da56fb19cf44118682944488e6209f",
       "version_major": 2,
       "version_minor": 0
      },
      "text/plain": [
       "  0%|          | 0/1 [00:00<?, ?it/s]"
      ]
     },
     "metadata": {},
     "output_type": "display_data"
    },
    {
     "name": "stdout",
     "output_type": "stream",
     "text": [
      "CSPR = 7.00 dB\n",
      "Results:\n",
      "BER: 1.13e-02\n",
      "SNR: 13.84 dB\n",
      "SIR =  15.52  dB\n",
      "GMI: 3.81 bits\n",
      "\n"
     ]
    },
    {
     "data": {
      "application/vnd.jupyter.widget-view+json": {
       "model_id": "7bbc9ba4f33a48d491719b62f79381d7",
       "version_major": 2,
       "version_minor": 0
      },
      "text/plain": [
       "  0%|          | 0/1 [00:00<?, ?it/s]"
      ]
     },
     "metadata": {},
     "output_type": "display_data"
    },
    {
     "name": "stdout",
     "output_type": "stream",
     "text": [
      "CSPR = 7.00 dB\n",
      "Results:\n",
      "BER: 7.13e-03\n",
      "SNR: 14.65 dB\n",
      "SIR =  16.14  dB\n",
      "GMI: 3.87 bits\n",
      "\n"
     ]
    },
    {
     "data": {
      "application/vnd.jupyter.widget-view+json": {
       "model_id": "798fdc083a6a4fd29d08a5bcc4699f13",
       "version_major": 2,
       "version_minor": 0
      },
      "text/plain": [
       "  0%|          | 0/1 [00:00<?, ?it/s]"
      ]
     },
     "metadata": {},
     "output_type": "display_data"
    },
    {
     "name": "stdout",
     "output_type": "stream",
     "text": [
      "CSPR = 7.00 dB\n",
      "Results:\n",
      "BER: 4.28e-03\n",
      "SNR: 15.40 dB\n",
      "SIR =  16.64  dB\n",
      "GMI: 3.91 bits\n",
      "\n"
     ]
    },
    {
     "data": {
      "application/vnd.jupyter.widget-view+json": {
       "model_id": "825a6bf888e04003a861877a74fdb31a",
       "version_major": 2,
       "version_minor": 0
      },
      "text/plain": [
       "  0%|          | 0/1 [00:00<?, ?it/s]"
      ]
     },
     "metadata": {},
     "output_type": "display_data"
    },
    {
     "name": "stdout",
     "output_type": "stream",
     "text": [
      "CSPR = 7.00 dB\n",
      "Results:\n",
      "BER: 2.48e-03\n",
      "SNR: 16.14 dB\n",
      "SIR =  17.2  dB\n",
      "GMI: 3.95 bits\n",
      "\n"
     ]
    },
    {
     "data": {
      "application/vnd.jupyter.widget-view+json": {
       "model_id": "19aed595753740b395ae3d31c5903495",
       "version_major": 2,
       "version_minor": 0
      },
      "text/plain": [
       "  0%|          | 0/1 [00:00<?, ?it/s]"
      ]
     },
     "metadata": {},
     "output_type": "display_data"
    },
    {
     "name": "stdout",
     "output_type": "stream",
     "text": [
      "CSPR = 7.00 dB\n",
      "Results:\n",
      "BER: 1.73e-03\n",
      "SNR: 16.83 dB\n",
      "SIR =  17.7  dB\n",
      "GMI: 3.96 bits\n",
      "\n"
     ]
    },
    {
     "data": {
      "application/vnd.jupyter.widget-view+json": {
       "model_id": "1bb7f364ffee48b5b4566da743835136",
       "version_major": 2,
       "version_minor": 0
      },
      "text/plain": [
       "  0%|          | 0/1 [00:00<?, ?it/s]"
      ]
     },
     "metadata": {},
     "output_type": "display_data"
    },
    {
     "name": "stdout",
     "output_type": "stream",
     "text": [
      "CSPR = 7.00 dB\n",
      "Results:\n",
      "BER: 1.43e-03\n",
      "SNR: 17.40 dB\n",
      "SIR =  18.09  dB\n",
      "GMI: 3.95 bits\n",
      "\n"
     ]
    },
    {
     "data": {
      "application/vnd.jupyter.widget-view+json": {
       "model_id": "5b965a129c29498caa18ef666e59485d",
       "version_major": 2,
       "version_minor": 0
      },
      "text/plain": [
       "  0%|          | 0/1 [00:00<?, ?it/s]"
      ]
     },
     "metadata": {},
     "output_type": "display_data"
    },
    {
     "name": "stdout",
     "output_type": "stream",
     "text": [
      "CSPR = 7.00 dB\n",
      "Results:\n",
      "BER: 1.03e-03\n",
      "SNR: 18.02 dB\n",
      "SIR =  18.46  dB\n",
      "GMI: 3.96 bits\n",
      "\n"
     ]
    },
    {
     "data": {
      "application/vnd.jupyter.widget-view+json": {
       "model_id": "cc5c643ae6114b84b4c1c9e557d0b075",
       "version_major": 2,
       "version_minor": 0
      },
      "text/plain": [
       "  0%|          | 0/1 [00:00<?, ?it/s]"
      ]
     },
     "metadata": {},
     "output_type": "display_data"
    },
    {
     "name": "stdout",
     "output_type": "stream",
     "text": [
      "CSPR = 7.00 dB\n",
      "Results:\n",
      "BER: 7.94e-04\n",
      "SNR: 18.59 dB\n",
      "SIR =  18.91  dB\n",
      "GMI: 3.96 bits\n",
      "\n"
     ]
    },
    {
     "data": {
      "application/vnd.jupyter.widget-view+json": {
       "model_id": "422f195ce6a34ac5ad78dbbe0fe4a204",
       "version_major": 2,
       "version_minor": 0
      },
      "text/plain": [
       "  0%|          | 0/10 [00:00<?, ?it/s]"
      ]
     },
     "metadata": {},
     "output_type": "display_data"
    },
    {
     "data": {
      "application/vnd.jupyter.widget-view+json": {
       "model_id": "7709145ba9c248d48498161ac3e14397",
       "version_major": 2,
       "version_minor": 0
      },
      "text/plain": [
       "  0%|          | 0/1 [00:00<?, ?it/s]"
      ]
     },
     "metadata": {},
     "output_type": "display_data"
    },
    {
     "name": "stdout",
     "output_type": "stream",
     "text": [
      "CSPR = 8.00 dB\n",
      "Results:\n",
      "BER: 2.46e-02\n",
      "SNR: 12.40 dB\n",
      "SIR =  14.55  dB\n",
      "GMI: 3.62 bits\n",
      "\n"
     ]
    },
    {
     "data": {
      "application/vnd.jupyter.widget-view+json": {
       "model_id": "dee0beb832394699a083009f61b889b8",
       "version_major": 2,
       "version_minor": 0
      },
      "text/plain": [
       "  0%|          | 0/1 [00:00<?, ?it/s]"
      ]
     },
     "metadata": {},
     "output_type": "display_data"
    },
    {
     "name": "stdout",
     "output_type": "stream",
     "text": [
      "CSPR = 8.00 dB\n",
      "Results:\n",
      "BER: 1.59e-02\n",
      "SNR: 13.28 dB\n",
      "SIR =  15.31  dB\n",
      "GMI: 3.75 bits\n",
      "\n"
     ]
    },
    {
     "data": {
      "application/vnd.jupyter.widget-view+json": {
       "model_id": "dbb3419c15f94778bef770a43a1e4f05",
       "version_major": 2,
       "version_minor": 0
      },
      "text/plain": [
       "  0%|          | 0/1 [00:00<?, ?it/s]"
      ]
     },
     "metadata": {},
     "output_type": "display_data"
    },
    {
     "name": "stdout",
     "output_type": "stream",
     "text": [
      "CSPR = 8.00 dB\n",
      "Results:\n",
      "BER: 8.84e-03\n",
      "SNR: 14.22 dB\n",
      "SIR =  16.09  dB\n",
      "GMI: 3.86 bits\n",
      "\n"
     ]
    },
    {
     "data": {
      "application/vnd.jupyter.widget-view+json": {
       "model_id": "0eec4f1f3dd24928a527a9f82c270598",
       "version_major": 2,
       "version_minor": 0
      },
      "text/plain": [
       "  0%|          | 0/1 [00:00<?, ?it/s]"
      ]
     },
     "metadata": {},
     "output_type": "display_data"
    },
    {
     "name": "stdout",
     "output_type": "stream",
     "text": [
      "CSPR = 8.00 dB\n",
      "Results:\n",
      "BER: 4.97e-03\n",
      "SNR: 15.01 dB\n",
      "SIR =  16.65  dB\n",
      "GMI: 3.92 bits\n",
      "\n"
     ]
    },
    {
     "data": {
      "application/vnd.jupyter.widget-view+json": {
       "model_id": "5d20f16eba08485fb0727ac3f1eb421f",
       "version_major": 2,
       "version_minor": 0
      },
      "text/plain": [
       "  0%|          | 0/1 [00:00<?, ?it/s]"
      ]
     },
     "metadata": {},
     "output_type": "display_data"
    },
    {
     "name": "stdout",
     "output_type": "stream",
     "text": [
      "CSPR = 8.00 dB\n",
      "Results:\n",
      "BER: 2.47e-03\n",
      "SNR: 15.85 dB\n",
      "SIR =  17.42  dB\n",
      "GMI: 3.96 bits\n",
      "\n"
     ]
    },
    {
     "data": {
      "application/vnd.jupyter.widget-view+json": {
       "model_id": "947411084c914c109b6aca0a7f2ea24a",
       "version_major": 2,
       "version_minor": 0
      },
      "text/plain": [
       "  0%|          | 0/1 [00:00<?, ?it/s]"
      ]
     },
     "metadata": {},
     "output_type": "display_data"
    },
    {
     "name": "stdout",
     "output_type": "stream",
     "text": [
      "CSPR = 8.00 dB\n",
      "Results:\n",
      "BER: 1.27e-03\n",
      "SNR: 16.65 dB\n",
      "SIR =  17.92  dB\n",
      "GMI: 3.98 bits\n",
      "\n"
     ]
    },
    {
     "data": {
      "application/vnd.jupyter.widget-view+json": {
       "model_id": "b6fe46737a23402fbbd400d3f41882e2",
       "version_major": 2,
       "version_minor": 0
      },
      "text/plain": [
       "  0%|          | 0/1 [00:00<?, ?it/s]"
      ]
     },
     "metadata": {},
     "output_type": "display_data"
    },
    {
     "name": "stdout",
     "output_type": "stream",
     "text": [
      "CSPR = 8.00 dB\n",
      "Results:\n",
      "BER: 5.01e-01\n",
      "SNR: nan dB\n",
      "SIR =  nan  dB\n",
      "GMI: nan bits\n",
      "\n"
     ]
    },
    {
     "data": {
      "application/vnd.jupyter.widget-view+json": {
       "model_id": "020998c564a84f298013e2ce1d7d1aef",
       "version_major": 2,
       "version_minor": 0
      },
      "text/plain": [
       "  0%|          | 0/1 [00:00<?, ?it/s]"
      ]
     },
     "metadata": {},
     "output_type": "display_data"
    },
    {
     "name": "stdout",
     "output_type": "stream",
     "text": [
      "CSPR = 8.00 dB\n",
      "Results:\n",
      "BER: 4.09e-04\n",
      "SNR: 18.07 dB\n",
      "SIR =  18.81  dB\n",
      "GMI: 3.99 bits\n",
      "\n"
     ]
    },
    {
     "data": {
      "application/vnd.jupyter.widget-view+json": {
       "model_id": "5fe3429ca9ad496ba31e2814b1d10438",
       "version_major": 2,
       "version_minor": 0
      },
      "text/plain": [
       "  0%|          | 0/1 [00:00<?, ?it/s]"
      ]
     },
     "metadata": {},
     "output_type": "display_data"
    },
    {
     "name": "stdout",
     "output_type": "stream",
     "text": [
      "CSPR = 8.00 dB\n",
      "Results:\n",
      "BER: 2.94e-04\n",
      "SNR: 18.67 dB\n",
      "SIR =  19.21  dB\n",
      "GMI: 3.99 bits\n",
      "\n"
     ]
    },
    {
     "data": {
      "application/vnd.jupyter.widget-view+json": {
       "model_id": "31b729835bb043bfaf7fefa808d3ed7a",
       "version_major": 2,
       "version_minor": 0
      },
      "text/plain": [
       "  0%|          | 0/1 [00:00<?, ?it/s]"
      ]
     },
     "metadata": {},
     "output_type": "display_data"
    },
    {
     "name": "stdout",
     "output_type": "stream",
     "text": [
      "CSPR = 8.00 dB\n",
      "Results:\n",
      "BER: 2.22e-04\n",
      "SNR: 19.23 dB\n",
      "SIR =  19.64  dB\n",
      "GMI: 3.99 bits\n",
      "\n"
     ]
    },
    {
     "data": {
      "application/vnd.jupyter.widget-view+json": {
       "model_id": "a0ecd6ebfd4f4057b3dd36a3f4df79f3",
       "version_major": 2,
       "version_minor": 0
      },
      "text/plain": [
       "  0%|          | 0/10 [00:00<?, ?it/s]"
      ]
     },
     "metadata": {},
     "output_type": "display_data"
    },
    {
     "data": {
      "application/vnd.jupyter.widget-view+json": {
       "model_id": "244c92bb60a64cbea79567e9090a83db",
       "version_major": 2,
       "version_minor": 0
      },
      "text/plain": [
       "  0%|          | 0/1 [00:00<?, ?it/s]"
      ]
     },
     "metadata": {},
     "output_type": "display_data"
    },
    {
     "name": "stdout",
     "output_type": "stream",
     "text": [
      "CSPR = 9.00 dB\n",
      "Results:\n",
      "BER: 2.33e-02\n",
      "SNR: 12.55 dB\n",
      "SIR =  14.86  dB\n",
      "GMI: 3.64 bits\n",
      "\n"
     ]
    },
    {
     "data": {
      "application/vnd.jupyter.widget-view+json": {
       "model_id": "e73ca29eed0b497cb9011ad2585d5550",
       "version_major": 2,
       "version_minor": 0
      },
      "text/plain": [
       "  0%|          | 0/1 [00:00<?, ?it/s]"
      ]
     },
     "metadata": {},
     "output_type": "display_data"
    },
    {
     "name": "stdout",
     "output_type": "stream",
     "text": [
      "CSPR = 9.00 dB\n",
      "Results:\n",
      "BER: 1.42e-02\n",
      "SNR: 13.44 dB\n",
      "SIR =  15.61  dB\n",
      "GMI: 3.77 bits\n",
      "\n"
     ]
    },
    {
     "data": {
      "application/vnd.jupyter.widget-view+json": {
       "model_id": "a835a608e4a84556b881543d894454f0",
       "version_major": 2,
       "version_minor": 0
      },
      "text/plain": [
       "  0%|          | 0/1 [00:00<?, ?it/s]"
      ]
     },
     "metadata": {},
     "output_type": "display_data"
    },
    {
     "name": "stdout",
     "output_type": "stream",
     "text": [
      "CSPR = 9.00 dB\n",
      "Results:\n",
      "BER: 7.68e-03\n",
      "SNR: 14.43 dB\n",
      "SIR =  16.43  dB\n",
      "GMI: 3.88 bits\n",
      "\n"
     ]
    },
    {
     "data": {
      "application/vnd.jupyter.widget-view+json": {
       "model_id": "9684f28d463d4129bb848b0434e2684d",
       "version_major": 2,
       "version_minor": 0
      },
      "text/plain": [
       "  0%|          | 0/1 [00:00<?, ?it/s]"
      ]
     },
     "metadata": {},
     "output_type": "display_data"
    },
    {
     "name": "stdout",
     "output_type": "stream",
     "text": [
      "CSPR = 9.00 dB\n",
      "Results:\n",
      "BER: 4.13e-03\n",
      "SNR: 15.23 dB\n",
      "SIR =  17.07  dB\n",
      "GMI: 3.93 bits\n",
      "\n"
     ]
    },
    {
     "data": {
      "application/vnd.jupyter.widget-view+json": {
       "model_id": "e0eb9c7c54644b3aa9000a757e543b8d",
       "version_major": 2,
       "version_minor": 0
      },
      "text/plain": [
       "  0%|          | 0/1 [00:00<?, ?it/s]"
      ]
     },
     "metadata": {},
     "output_type": "display_data"
    },
    {
     "name": "stdout",
     "output_type": "stream",
     "text": [
      "CSPR = 9.00 dB\n",
      "Results:\n",
      "BER: 1.95e-03\n",
      "SNR: 16.07 dB\n",
      "SIR =  17.68  dB\n",
      "GMI: 3.97 bits\n",
      "\n"
     ]
    },
    {
     "data": {
      "application/vnd.jupyter.widget-view+json": {
       "model_id": "e070cbeeeba144db90c73401ffd7ed2e",
       "version_major": 2,
       "version_minor": 0
      },
      "text/plain": [
       "  0%|          | 0/1 [00:00<?, ?it/s]"
      ]
     },
     "metadata": {},
     "output_type": "display_data"
    },
    {
     "name": "stdout",
     "output_type": "stream",
     "text": [
      "CSPR = 9.00 dB\n",
      "Results:\n",
      "BER: 8.31e-04\n",
      "SNR: 16.92 dB\n",
      "SIR =  18.4  dB\n",
      "GMI: 3.99 bits\n",
      "\n"
     ]
    },
    {
     "data": {
      "application/vnd.jupyter.widget-view+json": {
       "model_id": "d23b5ca0d0814ff0aaca18cbc3bcfb9e",
       "version_major": 2,
       "version_minor": 0
      },
      "text/plain": [
       "  0%|          | 0/1 [00:00<?, ?it/s]"
      ]
     },
     "metadata": {},
     "output_type": "display_data"
    },
    {
     "name": "stdout",
     "output_type": "stream",
     "text": [
      "CSPR = 9.00 dB\n",
      "Results:\n",
      "BER: 3.94e-04\n",
      "SNR: 17.64 dB\n",
      "SIR =  18.88  dB\n",
      "GMI: 3.99 bits\n",
      "\n"
     ]
    },
    {
     "data": {
      "application/vnd.jupyter.widget-view+json": {
       "model_id": "f25fa08800384694a3e26be93d6ff246",
       "version_major": 2,
       "version_minor": 0
      },
      "text/plain": [
       "  0%|          | 0/1 [00:00<?, ?it/s]"
      ]
     },
     "metadata": {},
     "output_type": "display_data"
    },
    {
     "name": "stdout",
     "output_type": "stream",
     "text": [
      "CSPR = 9.00 dB\n",
      "Results:\n",
      "BER: 1.75e-04\n",
      "SNR: 18.36 dB\n",
      "SIR =  19.36  dB\n",
      "GMI: 4.00 bits\n",
      "\n"
     ]
    },
    {
     "data": {
      "application/vnd.jupyter.widget-view+json": {
       "model_id": "c5379b6b5c474c3fad26b52e9f692d50",
       "version_major": 2,
       "version_minor": 0
      },
      "text/plain": [
       "  0%|          | 0/1 [00:00<?, ?it/s]"
      ]
     },
     "metadata": {},
     "output_type": "display_data"
    },
    {
     "name": "stdout",
     "output_type": "stream",
     "text": [
      "CSPR = 9.00 dB\n",
      "Results:\n",
      "BER: 9.38e-05\n",
      "SNR: 19.03 dB\n",
      "SIR =  19.78  dB\n",
      "GMI: 4.00 bits\n",
      "\n"
     ]
    },
    {
     "data": {
      "application/vnd.jupyter.widget-view+json": {
       "model_id": "9c1e90d343d643e2af5e30c7ec44b4f2",
       "version_major": 2,
       "version_minor": 0
      },
      "text/plain": [
       "  0%|          | 0/1 [00:00<?, ?it/s]"
      ]
     },
     "metadata": {},
     "output_type": "display_data"
    },
    {
     "name": "stdout",
     "output_type": "stream",
     "text": [
      "CSPR = 9.00 dB\n",
      "Results:\n",
      "BER: 4.37e-05\n",
      "SNR: 19.64 dB\n",
      "SIR =  20.14  dB\n",
      "GMI: 4.00 bits\n",
      "\n"
     ]
    },
    {
     "data": {
      "application/vnd.jupyter.widget-view+json": {
       "model_id": "05d46a3dccdc467e84b93bce77d55ab5",
       "version_major": 2,
       "version_minor": 0
      },
      "text/plain": [
       "  0%|          | 0/10 [00:00<?, ?it/s]"
      ]
     },
     "metadata": {},
     "output_type": "display_data"
    },
    {
     "data": {
      "application/vnd.jupyter.widget-view+json": {
       "model_id": "f4d056f7d1bb4b27ab5eee750b3afe88",
       "version_major": 2,
       "version_minor": 0
      },
      "text/plain": [
       "  0%|          | 0/1 [00:00<?, ?it/s]"
      ]
     },
     "metadata": {},
     "output_type": "display_data"
    },
    {
     "name": "stdout",
     "output_type": "stream",
     "text": [
      "CSPR = 10.00 dB\n",
      "Results:\n",
      "BER: 2.14e-02\n",
      "SNR: 12.68 dB\n",
      "SIR =  15.1  dB\n",
      "GMI: 3.67 bits\n",
      "\n"
     ]
    },
    {
     "data": {
      "application/vnd.jupyter.widget-view+json": {
       "model_id": "8103db64b17f4272aa14b1ba45635958",
       "version_major": 2,
       "version_minor": 0
      },
      "text/plain": [
       "  0%|          | 0/1 [00:00<?, ?it/s]"
      ]
     },
     "metadata": {},
     "output_type": "display_data"
    },
    {
     "name": "stdout",
     "output_type": "stream",
     "text": [
      "CSPR = 10.00 dB\n",
      "Results:\n",
      "BER: 1.28e-02\n",
      "SNR: 13.63 dB\n",
      "SIR =  15.89  dB\n",
      "GMI: 3.80 bits\n",
      "\n"
     ]
    },
    {
     "data": {
      "application/vnd.jupyter.widget-view+json": {
       "model_id": "7725b084db4942219169a6fbce16bbba",
       "version_major": 2,
       "version_minor": 0
      },
      "text/plain": [
       "  0%|          | 0/1 [00:00<?, ?it/s]"
      ]
     },
     "metadata": {},
     "output_type": "display_data"
    },
    {
     "name": "stdout",
     "output_type": "stream",
     "text": [
      "CSPR = 10.00 dB\n",
      "Results:\n",
      "BER: 7.19e-03\n",
      "SNR: 14.49 dB\n",
      "SIR =  16.62  dB\n",
      "GMI: 3.88 bits\n",
      "\n"
     ]
    },
    {
     "data": {
      "application/vnd.jupyter.widget-view+json": {
       "model_id": "a1e64d3c24d149ba8d6b5839049a729b",
       "version_major": 2,
       "version_minor": 0
      },
      "text/plain": [
       "  0%|          | 0/1 [00:00<?, ?it/s]"
      ]
     },
     "metadata": {},
     "output_type": "display_data"
    },
    {
     "name": "stdout",
     "output_type": "stream",
     "text": [
      "CSPR = 10.00 dB\n",
      "Results:\n",
      "BER: 3.56e-03\n",
      "SNR: 15.39 dB\n",
      "SIR =  17.29  dB\n",
      "GMI: 3.94 bits\n",
      "\n"
     ]
    },
    {
     "data": {
      "application/vnd.jupyter.widget-view+json": {
       "model_id": "e06b13036fda4fef91192531e19e0d70",
       "version_major": 2,
       "version_minor": 0
      },
      "text/plain": [
       "  0%|          | 0/1 [00:00<?, ?it/s]"
      ]
     },
     "metadata": {},
     "output_type": "display_data"
    },
    {
     "name": "stdout",
     "output_type": "stream",
     "text": [
      "CSPR = 10.00 dB\n",
      "Results:\n",
      "BER: 1.87e-03\n",
      "SNR: 16.19 dB\n",
      "SIR =  17.91  dB\n",
      "GMI: 3.97 bits\n",
      "\n"
     ]
    },
    {
     "data": {
      "application/vnd.jupyter.widget-view+json": {
       "model_id": "ce307c52d431426a87e7eda4e377c18d",
       "version_major": 2,
       "version_minor": 0
      },
      "text/plain": [
       "  0%|          | 0/1 [00:00<?, ?it/s]"
      ]
     },
     "metadata": {},
     "output_type": "display_data"
    },
    {
     "name": "stdout",
     "output_type": "stream",
     "text": [
      "CSPR = 10.00 dB\n",
      "Results:\n",
      "BER: 6.25e-04\n",
      "SNR: 17.07 dB\n",
      "SIR =  18.61  dB\n",
      "GMI: 3.99 bits\n",
      "\n"
     ]
    },
    {
     "data": {
      "application/vnd.jupyter.widget-view+json": {
       "model_id": "3cdc0f25b0a04928a33a2fba6d6be328",
       "version_major": 2,
       "version_minor": 0
      },
      "text/plain": [
       "  0%|          | 0/1 [00:00<?, ?it/s]"
      ]
     },
     "metadata": {},
     "output_type": "display_data"
    },
    {
     "name": "stdout",
     "output_type": "stream",
     "text": [
      "CSPR = 10.00 dB\n",
      "Results:\n",
      "BER: 2.56e-04\n",
      "SNR: 17.81 dB\n",
      "SIR =  19.14  dB\n",
      "GMI: 4.00 bits\n",
      "\n"
     ]
    },
    {
     "data": {
      "application/vnd.jupyter.widget-view+json": {
       "model_id": "6c4fdbec2c2c4c3f909791648092bf4e",
       "version_major": 2,
       "version_minor": 0
      },
      "text/plain": [
       "  0%|          | 0/1 [00:00<?, ?it/s]"
      ]
     },
     "metadata": {},
     "output_type": "display_data"
    },
    {
     "name": "stdout",
     "output_type": "stream",
     "text": [
      "CSPR = 10.00 dB\n",
      "Results:\n",
      "BER: 7.19e-05\n",
      "SNR: 18.57 dB\n",
      "SIR =  19.68  dB\n",
      "GMI: 4.00 bits\n",
      "\n"
     ]
    },
    {
     "data": {
      "application/vnd.jupyter.widget-view+json": {
       "model_id": "7e17266faf6c494fbc7a91b27f036998",
       "version_major": 2,
       "version_minor": 0
      },
      "text/plain": [
       "  0%|          | 0/1 [00:00<?, ?it/s]"
      ]
     },
     "metadata": {},
     "output_type": "display_data"
    },
    {
     "name": "stdout",
     "output_type": "stream",
     "text": [
      "CSPR = 10.00 dB\n",
      "Results:\n",
      "BER: 2.50e-05\n",
      "SNR: 19.24 dB\n",
      "SIR =  20.15  dB\n",
      "GMI: 4.00 bits\n",
      "\n"
     ]
    },
    {
     "data": {
      "application/vnd.jupyter.widget-view+json": {
       "model_id": "db5a97abcc864ede9d7e62f4bb05fdd3",
       "version_major": 2,
       "version_minor": 0
      },
      "text/plain": [
       "  0%|          | 0/1 [00:00<?, ?it/s]"
      ]
     },
     "metadata": {},
     "output_type": "display_data"
    },
    {
     "name": "stdout",
     "output_type": "stream",
     "text": [
      "CSPR = 10.00 dB\n",
      "Results:\n",
      "BER: 2.50e-05\n",
      "SNR: 19.90 dB\n",
      "SIR =  20.57  dB\n",
      "GMI: 4.00 bits\n",
      "\n"
     ]
    },
    {
     "data": {
      "application/vnd.jupyter.widget-view+json": {
       "model_id": "3dd7a2fc5b99431f9637784a7edb7e6b",
       "version_major": 2,
       "version_minor": 0
      },
      "text/plain": [
       "  0%|          | 0/10 [00:00<?, ?it/s]"
      ]
     },
     "metadata": {},
     "output_type": "display_data"
    },
    {
     "data": {
      "application/vnd.jupyter.widget-view+json": {
       "model_id": "c3d9e278441b43a68e2558a2d6edc39e",
       "version_major": 2,
       "version_minor": 0
      },
      "text/plain": [
       "  0%|          | 0/1 [00:00<?, ?it/s]"
      ]
     },
     "metadata": {},
     "output_type": "display_data"
    },
    {
     "name": "stdout",
     "output_type": "stream",
     "text": [
      "CSPR = 11.00 dB\n",
      "Results:\n",
      "BER: 2.05e-02\n",
      "SNR: 12.79 dB\n",
      "SIR =  15.27  dB\n",
      "GMI: 3.68 bits\n",
      "\n"
     ]
    },
    {
     "data": {
      "application/vnd.jupyter.widget-view+json": {
       "model_id": "f525435bd64242e995e0efcd5f161d6c",
       "version_major": 2,
       "version_minor": 0
      },
      "text/plain": [
       "  0%|          | 0/1 [00:00<?, ?it/s]"
      ]
     },
     "metadata": {},
     "output_type": "display_data"
    },
    {
     "name": "stdout",
     "output_type": "stream",
     "text": [
      "CSPR = 11.00 dB\n",
      "Results:\n",
      "BER: 1.22e-02\n",
      "SNR: 13.70 dB\n",
      "SIR =  16.06  dB\n",
      "GMI: 3.81 bits\n",
      "\n"
     ]
    },
    {
     "data": {
      "application/vnd.jupyter.widget-view+json": {
       "model_id": "69cc30f101294fd194864824e34102f5",
       "version_major": 2,
       "version_minor": 0
      },
      "text/plain": [
       "  0%|          | 0/1 [00:00<?, ?it/s]"
      ]
     },
     "metadata": {},
     "output_type": "display_data"
    },
    {
     "name": "stdout",
     "output_type": "stream",
     "text": [
      "CSPR = 11.00 dB\n",
      "Results:\n",
      "BER: 6.62e-03\n",
      "SNR: 14.57 dB\n",
      "SIR =  16.71  dB\n",
      "GMI: 3.89 bits\n",
      "\n"
     ]
    },
    {
     "data": {
      "application/vnd.jupyter.widget-view+json": {
       "model_id": "64083bb245df406ca4fa9b9c93130b8b",
       "version_major": 2,
       "version_minor": 0
      },
      "text/plain": [
       "  0%|          | 0/1 [00:00<?, ?it/s]"
      ]
     },
     "metadata": {},
     "output_type": "display_data"
    },
    {
     "name": "stdout",
     "output_type": "stream",
     "text": [
      "CSPR = 11.00 dB\n",
      "Results:\n",
      "BER: 3.31e-03\n",
      "SNR: 15.44 dB\n",
      "SIR =  17.45  dB\n",
      "GMI: 3.95 bits\n",
      "\n"
     ]
    },
    {
     "data": {
      "application/vnd.jupyter.widget-view+json": {
       "model_id": "ec4353adca65420c87d94683a5c6cdb5",
       "version_major": 2,
       "version_minor": 0
      },
      "text/plain": [
       "  0%|          | 0/1 [00:00<?, ?it/s]"
      ]
     },
     "metadata": {},
     "output_type": "display_data"
    },
    {
     "name": "stdout",
     "output_type": "stream",
     "text": [
      "CSPR = 11.00 dB\n",
      "Results:\n",
      "BER: 1.48e-03\n",
      "SNR: 16.32 dB\n",
      "SIR =  18.12  dB\n",
      "GMI: 3.98 bits\n",
      "\n"
     ]
    },
    {
     "data": {
      "application/vnd.jupyter.widget-view+json": {
       "model_id": "5224b449e3184a73841153621d26b219",
       "version_major": 2,
       "version_minor": 0
      },
      "text/plain": [
       "  0%|          | 0/1 [00:00<?, ?it/s]"
      ]
     },
     "metadata": {},
     "output_type": "display_data"
    },
    {
     "name": "stdout",
     "output_type": "stream",
     "text": [
      "CSPR = 11.00 dB\n",
      "Results:\n",
      "BER: 5.88e-04\n",
      "SNR: 17.15 dB\n",
      "SIR =  18.74  dB\n",
      "GMI: 3.99 bits\n",
      "\n"
     ]
    },
    {
     "data": {
      "application/vnd.jupyter.widget-view+json": {
       "model_id": "f071bedfe8404155be724c1f42e2ec16",
       "version_major": 2,
       "version_minor": 0
      },
      "text/plain": [
       "  0%|          | 0/1 [00:00<?, ?it/s]"
      ]
     },
     "metadata": {},
     "output_type": "display_data"
    },
    {
     "name": "stdout",
     "output_type": "stream",
     "text": [
      "CSPR = 11.00 dB\n",
      "Results:\n",
      "BER: 2.03e-04\n",
      "SNR: 17.93 dB\n",
      "SIR =  19.32  dB\n",
      "GMI: 4.00 bits\n",
      "\n"
     ]
    },
    {
     "data": {
      "application/vnd.jupyter.widget-view+json": {
       "model_id": "46804cb145264008ba6b6f7c034a3018",
       "version_major": 2,
       "version_minor": 0
      },
      "text/plain": [
       "  0%|          | 0/1 [00:00<?, ?it/s]"
      ]
     },
     "metadata": {},
     "output_type": "display_data"
    },
    {
     "name": "stdout",
     "output_type": "stream",
     "text": [
      "CSPR = 11.00 dB\n",
      "Results:\n",
      "BER: 6.56e-05\n",
      "SNR: 18.64 dB\n",
      "SIR =  19.72  dB\n",
      "GMI: 4.00 bits\n",
      "\n"
     ]
    },
    {
     "data": {
      "application/vnd.jupyter.widget-view+json": {
       "model_id": "10de384371f7485f8f406dde40462618",
       "version_major": 2,
       "version_minor": 0
      },
      "text/plain": [
       "  0%|          | 0/1 [00:00<?, ?it/s]"
      ]
     },
     "metadata": {},
     "output_type": "display_data"
    },
    {
     "name": "stdout",
     "output_type": "stream",
     "text": [
      "CSPR = 11.00 dB\n",
      "Results:\n",
      "BER: 1.25e-05\n",
      "SNR: 19.29 dB\n",
      "SIR =  20.24  dB\n",
      "GMI: 4.00 bits\n",
      "\n"
     ]
    },
    {
     "data": {
      "application/vnd.jupyter.widget-view+json": {
       "model_id": "9409e55c3540470ead0e63919df19365",
       "version_major": 2,
       "version_minor": 0
      },
      "text/plain": [
       "  0%|          | 0/1 [00:00<?, ?it/s]"
      ]
     },
     "metadata": {},
     "output_type": "display_data"
    },
    {
     "name": "stdout",
     "output_type": "stream",
     "text": [
      "CSPR = 11.00 dB\n",
      "Results:\n",
      "BER: 6.25e-06\n",
      "SNR: 19.96 dB\n",
      "SIR =  20.63  dB\n",
      "GMI: 4.00 bits\n",
      "\n"
     ]
    },
    {
     "data": {
      "application/vnd.jupyter.widget-view+json": {
       "model_id": "444ad575f0e049258637f0bba37d7f16",
       "version_major": 2,
       "version_minor": 0
      },
      "text/plain": [
       "  0%|          | 0/10 [00:00<?, ?it/s]"
      ]
     },
     "metadata": {},
     "output_type": "display_data"
    },
    {
     "data": {
      "application/vnd.jupyter.widget-view+json": {
       "model_id": "952e427e8f614cb69bb5df8c2362d8d6",
       "version_major": 2,
       "version_minor": 0
      },
      "text/plain": [
       "  0%|          | 0/1 [00:00<?, ?it/s]"
      ]
     },
     "metadata": {},
     "output_type": "display_data"
    },
    {
     "name": "stdout",
     "output_type": "stream",
     "text": [
      "CSPR = 12.00 dB\n",
      "Results:\n",
      "BER: 1.99e-02\n",
      "SNR: 12.84 dB\n",
      "SIR =  15.4  dB\n",
      "GMI: 3.70 bits\n",
      "\n"
     ]
    },
    {
     "data": {
      "application/vnd.jupyter.widget-view+json": {
       "model_id": "08f312ee26d44a22ba50c66cc4b1969f",
       "version_major": 2,
       "version_minor": 0
      },
      "text/plain": [
       "  0%|          | 0/1 [00:00<?, ?it/s]"
      ]
     },
     "metadata": {},
     "output_type": "display_data"
    },
    {
     "name": "stdout",
     "output_type": "stream",
     "text": [
      "CSPR = 12.00 dB\n",
      "Results:\n",
      "BER: 1.16e-02\n",
      "SNR: 13.75 dB\n",
      "SIR =  16.14  dB\n",
      "GMI: 3.82 bits\n",
      "\n"
     ]
    },
    {
     "data": {
      "application/vnd.jupyter.widget-view+json": {
       "model_id": "44efa266a0e4440abd00c502f409d70e",
       "version_major": 2,
       "version_minor": 0
      },
      "text/plain": [
       "  0%|          | 0/1 [00:00<?, ?it/s]"
      ]
     },
     "metadata": {},
     "output_type": "display_data"
    },
    {
     "name": "stdout",
     "output_type": "stream",
     "text": [
      "CSPR = 12.00 dB\n",
      "Results:\n",
      "BER: 6.13e-03\n",
      "SNR: 14.67 dB\n",
      "SIR =  16.9  dB\n",
      "GMI: 3.90 bits\n",
      "\n"
     ]
    },
    {
     "data": {
      "application/vnd.jupyter.widget-view+json": {
       "model_id": "a6f29ef8631545b3bb13ca1d0afd7c50",
       "version_major": 2,
       "version_minor": 0
      },
      "text/plain": [
       "  0%|          | 0/1 [00:00<?, ?it/s]"
      ]
     },
     "metadata": {},
     "output_type": "display_data"
    },
    {
     "name": "stdout",
     "output_type": "stream",
     "text": [
      "CSPR = 12.00 dB\n",
      "Results:\n",
      "BER: 3.23e-03\n",
      "SNR: 15.51 dB\n",
      "SIR =  17.55  dB\n",
      "GMI: 3.95 bits\n",
      "\n"
     ]
    },
    {
     "data": {
      "application/vnd.jupyter.widget-view+json": {
       "model_id": "c3e7b3d89d364aa1b2b2a13209114015",
       "version_major": 2,
       "version_minor": 0
      },
      "text/plain": [
       "  0%|          | 0/1 [00:00<?, ?it/s]"
      ]
     },
     "metadata": {},
     "output_type": "display_data"
    },
    {
     "name": "stdout",
     "output_type": "stream",
     "text": [
      "CSPR = 12.00 dB\n",
      "Results:\n",
      "BER: 1.38e-03\n",
      "SNR: 16.37 dB\n",
      "SIR =  18.2  dB\n",
      "GMI: 3.98 bits\n",
      "\n"
     ]
    },
    {
     "data": {
      "application/vnd.jupyter.widget-view+json": {
       "model_id": "5f7664ca72d84d019ca3f5dbf35ef48f",
       "version_major": 2,
       "version_minor": 0
      },
      "text/plain": [
       "  0%|          | 0/1 [00:00<?, ?it/s]"
      ]
     },
     "metadata": {},
     "output_type": "display_data"
    },
    {
     "name": "stdout",
     "output_type": "stream",
     "text": [
      "CSPR = 12.00 dB\n",
      "Results:\n",
      "BER: 5.28e-04\n",
      "SNR: 17.17 dB\n",
      "SIR =  18.78  dB\n",
      "GMI: 3.99 bits\n",
      "\n"
     ]
    },
    {
     "data": {
      "application/vnd.jupyter.widget-view+json": {
       "model_id": "b743f33b86f1458ab97b3d48b496a7a5",
       "version_major": 2,
       "version_minor": 0
      },
      "text/plain": [
       "  0%|          | 0/1 [00:00<?, ?it/s]"
      ]
     },
     "metadata": {},
     "output_type": "display_data"
    },
    {
     "name": "stdout",
     "output_type": "stream",
     "text": [
      "CSPR = 12.00 dB\n",
      "Results:\n",
      "BER: 1.62e-04\n",
      "SNR: 17.99 dB\n",
      "SIR =  19.47  dB\n",
      "GMI: 4.00 bits\n",
      "\n"
     ]
    },
    {
     "data": {
      "application/vnd.jupyter.widget-view+json": {
       "model_id": "1b6f270266c443c7a2b0248a638bc9c0",
       "version_major": 2,
       "version_minor": 0
      },
      "text/plain": [
       "  0%|          | 0/1 [00:00<?, ?it/s]"
      ]
     },
     "metadata": {},
     "output_type": "display_data"
    },
    {
     "name": "stdout",
     "output_type": "stream",
     "text": [
      "CSPR = 12.00 dB\n",
      "Results:\n",
      "BER: 6.56e-05\n",
      "SNR: 18.70 dB\n",
      "SIR =  19.91  dB\n",
      "GMI: 4.00 bits\n",
      "\n"
     ]
    },
    {
     "data": {
      "application/vnd.jupyter.widget-view+json": {
       "model_id": "a0dd7648698b4ca194fb4977dd21f566",
       "version_major": 2,
       "version_minor": 0
      },
      "text/plain": [
       "  0%|          | 0/1 [00:00<?, ?it/s]"
      ]
     },
     "metadata": {},
     "output_type": "display_data"
    },
    {
     "name": "stdout",
     "output_type": "stream",
     "text": [
      "CSPR = 12.00 dB\n",
      "Results:\n",
      "BER: 9.37e-06\n",
      "SNR: 19.40 dB\n",
      "SIR =  20.38  dB\n",
      "GMI: 4.00 bits\n",
      "\n"
     ]
    },
    {
     "data": {
      "application/vnd.jupyter.widget-view+json": {
       "model_id": "296f20d4b3b04b1fbc06d416c0a19c55",
       "version_major": 2,
       "version_minor": 0
      },
      "text/plain": [
       "  0%|          | 0/1 [00:00<?, ?it/s]"
      ]
     },
     "metadata": {},
     "output_type": "display_data"
    },
    {
     "name": "stdout",
     "output_type": "stream",
     "text": [
      "CSPR = 12.00 dB\n",
      "Results:\n",
      "BER: 3.13e-06\n",
      "SNR: 20.01 dB\n",
      "SIR =  20.78  dB\n",
      "GMI: 4.00 bits\n",
      "\n"
     ]
    },
    {
     "data": {
      "application/vnd.jupyter.widget-view+json": {
       "model_id": "af6bce042bd847d68a92ad2eb9088864",
       "version_major": 2,
       "version_minor": 0
      },
      "text/plain": [
       "  0%|          | 0/10 [00:00<?, ?it/s]"
      ]
     },
     "metadata": {},
     "output_type": "display_data"
    },
    {
     "data": {
      "application/vnd.jupyter.widget-view+json": {
       "model_id": "de26960748444fef91a9da5f8e08e31a",
       "version_major": 2,
       "version_minor": 0
      },
      "text/plain": [
       "  0%|          | 0/1 [00:00<?, ?it/s]"
      ]
     },
     "metadata": {},
     "output_type": "display_data"
    },
    {
     "name": "stdout",
     "output_type": "stream",
     "text": [
      "CSPR = 13.00 dB\n",
      "Results:\n",
      "BER: 1.95e-02\n",
      "SNR: 12.89 dB\n",
      "SIR =  15.43  dB\n",
      "GMI: 3.70 bits\n",
      "\n"
     ]
    },
    {
     "data": {
      "application/vnd.jupyter.widget-view+json": {
       "model_id": "0b675645c3c94b8aabf5343df257f2ff",
       "version_major": 2,
       "version_minor": 0
      },
      "text/plain": [
       "  0%|          | 0/1 [00:00<?, ?it/s]"
      ]
     },
     "metadata": {},
     "output_type": "display_data"
    },
    {
     "name": "stdout",
     "output_type": "stream",
     "text": [
      "CSPR = 13.00 dB\n",
      "Results:\n",
      "BER: 1.17e-02\n",
      "SNR: 13.78 dB\n",
      "SIR =  16.17  dB\n",
      "GMI: 3.82 bits\n",
      "\n"
     ]
    },
    {
     "data": {
      "application/vnd.jupyter.widget-view+json": {
       "model_id": "e51252cec7084c5480de786f950f9f81",
       "version_major": 2,
       "version_minor": 0
      },
      "text/plain": [
       "  0%|          | 0/1 [00:00<?, ?it/s]"
      ]
     },
     "metadata": {},
     "output_type": "display_data"
    },
    {
     "name": "stdout",
     "output_type": "stream",
     "text": [
      "CSPR = 13.00 dB\n",
      "Results:\n",
      "BER: 6.03e-03\n",
      "SNR: 14.69 dB\n",
      "SIR =  16.96  dB\n",
      "GMI: 3.90 bits\n",
      "\n"
     ]
    },
    {
     "data": {
      "application/vnd.jupyter.widget-view+json": {
       "model_id": "95d156dcb36943e59916f049241f21be",
       "version_major": 2,
       "version_minor": 0
      },
      "text/plain": [
       "  0%|          | 0/1 [00:00<?, ?it/s]"
      ]
     },
     "metadata": {},
     "output_type": "display_data"
    },
    {
     "name": "stdout",
     "output_type": "stream",
     "text": [
      "CSPR = 13.00 dB\n",
      "Results:\n",
      "BER: 3.08e-03\n",
      "SNR: 15.56 dB\n",
      "SIR =  17.63  dB\n",
      "GMI: 3.95 bits\n",
      "\n"
     ]
    },
    {
     "data": {
      "application/vnd.jupyter.widget-view+json": {
       "model_id": "addf74a7715c4b09b98447b4ed883207",
       "version_major": 2,
       "version_minor": 0
      },
      "text/plain": [
       "  0%|          | 0/1 [00:00<?, ?it/s]"
      ]
     },
     "metadata": {},
     "output_type": "display_data"
    },
    {
     "name": "stdout",
     "output_type": "stream",
     "text": [
      "CSPR = 13.00 dB\n",
      "Results:\n",
      "BER: 1.24e-03\n",
      "SNR: 16.48 dB\n",
      "SIR =  18.4  dB\n",
      "GMI: 3.98 bits\n",
      "\n"
     ]
    },
    {
     "data": {
      "application/vnd.jupyter.widget-view+json": {
       "model_id": "76e29872d8cc47f79f8a6348b1889945",
       "version_major": 2,
       "version_minor": 0
      },
      "text/plain": [
       "  0%|          | 0/1 [00:00<?, ?it/s]"
      ]
     },
     "metadata": {},
     "output_type": "display_data"
    },
    {
     "name": "stdout",
     "output_type": "stream",
     "text": [
      "CSPR = 13.00 dB\n",
      "Results:\n",
      "BER: 5.50e-04\n",
      "SNR: 17.20 dB\n",
      "SIR =  18.92  dB\n",
      "GMI: 3.99 bits\n",
      "\n"
     ]
    },
    {
     "data": {
      "application/vnd.jupyter.widget-view+json": {
       "model_id": "77cd257e9803476f8168e0d853649552",
       "version_major": 2,
       "version_minor": 0
      },
      "text/plain": [
       "  0%|          | 0/1 [00:00<?, ?it/s]"
      ]
     },
     "metadata": {},
     "output_type": "display_data"
    },
    {
     "name": "stdout",
     "output_type": "stream",
     "text": [
      "CSPR = 13.00 dB\n",
      "Results:\n",
      "BER: 1.75e-04\n",
      "SNR: 18.00 dB\n",
      "SIR =  19.48  dB\n",
      "GMI: 4.00 bits\n",
      "\n"
     ]
    },
    {
     "data": {
      "application/vnd.jupyter.widget-view+json": {
       "model_id": "f686967db896492a8c0a537cfb4a7c8e",
       "version_major": 2,
       "version_minor": 0
      },
      "text/plain": [
       "  0%|          | 0/1 [00:00<?, ?it/s]"
      ]
     },
     "metadata": {},
     "output_type": "display_data"
    },
    {
     "name": "stdout",
     "output_type": "stream",
     "text": [
      "CSPR = 13.00 dB\n",
      "Results:\n",
      "BER: 4.37e-05\n",
      "SNR: 18.75 dB\n",
      "SIR =  20.0  dB\n",
      "GMI: 4.00 bits\n",
      "\n"
     ]
    },
    {
     "data": {
      "application/vnd.jupyter.widget-view+json": {
       "model_id": "054e03d8b5b8414b8da849fe78af2d05",
       "version_major": 2,
       "version_minor": 0
      },
      "text/plain": [
       "  0%|          | 0/1 [00:00<?, ?it/s]"
      ]
     },
     "metadata": {},
     "output_type": "display_data"
    },
    {
     "name": "stdout",
     "output_type": "stream",
     "text": [
      "CSPR = 13.00 dB\n",
      "Results:\n",
      "BER: 9.37e-06\n",
      "SNR: 19.47 dB\n",
      "SIR =  20.46  dB\n",
      "GMI: 4.00 bits\n",
      "\n"
     ]
    },
    {
     "data": {
      "application/vnd.jupyter.widget-view+json": {
       "model_id": "b3f90a89513840fc853266b2b0989c27",
       "version_major": 2,
       "version_minor": 0
      },
      "text/plain": [
       "  0%|          | 0/1 [00:00<?, ?it/s]"
      ]
     },
     "metadata": {},
     "output_type": "display_data"
    },
    {
     "name": "stdout",
     "output_type": "stream",
     "text": [
      "CSPR = 13.00 dB\n",
      "Results:\n",
      "BER: 9.37e-06\n",
      "SNR: 20.06 dB\n",
      "SIR =  20.78  dB\n",
      "GMI: 4.00 bits\n",
      "\n"
     ]
    },
    {
     "data": {
      "application/vnd.jupyter.widget-view+json": {
       "model_id": "6731580a76d547a69e0904a12d8b2e2d",
       "version_major": 2,
       "version_minor": 0
      },
      "text/plain": [
       "  0%|          | 0/10 [00:00<?, ?it/s]"
      ]
     },
     "metadata": {},
     "output_type": "display_data"
    },
    {
     "data": {
      "application/vnd.jupyter.widget-view+json": {
       "model_id": "2410ff5efd464d7587d969a5aabe2ca2",
       "version_major": 2,
       "version_minor": 0
      },
      "text/plain": [
       "  0%|          | 0/1 [00:00<?, ?it/s]"
      ]
     },
     "metadata": {},
     "output_type": "display_data"
    },
    {
     "name": "stdout",
     "output_type": "stream",
     "text": [
      "CSPR = 14.00 dB\n",
      "Results:\n",
      "BER: 1.92e-02\n",
      "SNR: 12.94 dB\n",
      "SIR =  15.52  dB\n",
      "GMI: 3.71 bits\n",
      "\n"
     ]
    },
    {
     "data": {
      "application/vnd.jupyter.widget-view+json": {
       "model_id": "673f8285d1ea496291c3d9557c4028e9",
       "version_major": 2,
       "version_minor": 0
      },
      "text/plain": [
       "  0%|          | 0/1 [00:00<?, ?it/s]"
      ]
     },
     "metadata": {},
     "output_type": "display_data"
    },
    {
     "name": "stdout",
     "output_type": "stream",
     "text": [
      "CSPR = 14.00 dB\n",
      "Results:\n",
      "BER: 1.15e-02\n",
      "SNR: 13.80 dB\n",
      "SIR =  16.25  dB\n",
      "GMI: 3.82 bits\n",
      "\n"
     ]
    },
    {
     "data": {
      "application/vnd.jupyter.widget-view+json": {
       "model_id": "706e34f619f345c58081fd4018bbb8bb",
       "version_major": 2,
       "version_minor": 0
      },
      "text/plain": [
       "  0%|          | 0/1 [00:00<?, ?it/s]"
      ]
     },
     "metadata": {},
     "output_type": "display_data"
    },
    {
     "name": "stdout",
     "output_type": "stream",
     "text": [
      "CSPR = 14.00 dB\n",
      "Results:\n",
      "BER: 6.12e-03\n",
      "SNR: 14.70 dB\n",
      "SIR =  16.99  dB\n",
      "GMI: 3.90 bits\n",
      "\n"
     ]
    },
    {
     "data": {
      "application/vnd.jupyter.widget-view+json": {
       "model_id": "fa59f9f9fc9b4881b771d3832393f7b3",
       "version_major": 2,
       "version_minor": 0
      },
      "text/plain": [
       "  0%|          | 0/1 [00:00<?, ?it/s]"
      ]
     },
     "metadata": {},
     "output_type": "display_data"
    },
    {
     "name": "stdout",
     "output_type": "stream",
     "text": [
      "CSPR = 14.00 dB\n",
      "Results:\n",
      "BER: 2.85e-03\n",
      "SNR: 15.59 dB\n",
      "SIR =  17.74  dB\n",
      "GMI: 3.95 bits\n",
      "\n"
     ]
    },
    {
     "data": {
      "application/vnd.jupyter.widget-view+json": {
       "model_id": "c1bb13e9bb384e659b12d7a299cc1f32",
       "version_major": 2,
       "version_minor": 0
      },
      "text/plain": [
       "  0%|          | 0/1 [00:00<?, ?it/s]"
      ]
     },
     "metadata": {},
     "output_type": "display_data"
    },
    {
     "name": "stdout",
     "output_type": "stream",
     "text": [
      "CSPR = 14.00 dB\n",
      "Results:\n",
      "BER: 1.24e-03\n",
      "SNR: 16.46 dB\n",
      "SIR =  18.41  dB\n",
      "GMI: 3.98 bits\n",
      "\n"
     ]
    },
    {
     "data": {
      "application/vnd.jupyter.widget-view+json": {
       "model_id": "806717440f884fbb9307eebf5cb5746a",
       "version_major": 2,
       "version_minor": 0
      },
      "text/plain": [
       "  0%|          | 0/1 [00:00<?, ?it/s]"
      ]
     },
     "metadata": {},
     "output_type": "display_data"
    },
    {
     "name": "stdout",
     "output_type": "stream",
     "text": [
      "CSPR = 14.00 dB\n",
      "Results:\n",
      "BER: 4.91e-04\n",
      "SNR: 17.29 dB\n",
      "SIR =  19.11  dB\n",
      "GMI: 3.99 bits\n",
      "\n"
     ]
    },
    {
     "data": {
      "application/vnd.jupyter.widget-view+json": {
       "model_id": "8de70e629a094e5eba47ac04fc578591",
       "version_major": 2,
       "version_minor": 0
      },
      "text/plain": [
       "  0%|          | 0/1 [00:00<?, ?it/s]"
      ]
     },
     "metadata": {},
     "output_type": "display_data"
    },
    {
     "name": "stdout",
     "output_type": "stream",
     "text": [
      "CSPR = 14.00 dB\n",
      "Results:\n",
      "BER: 1.34e-04\n",
      "SNR: 18.02 dB\n",
      "SIR =  19.55  dB\n",
      "GMI: 4.00 bits\n",
      "\n"
     ]
    },
    {
     "data": {
      "application/vnd.jupyter.widget-view+json": {
       "model_id": "b466b3dbcdc24c689c28c3759cc9f696",
       "version_major": 2,
       "version_minor": 0
      },
      "text/plain": [
       "  0%|          | 0/1 [00:00<?, ?it/s]"
      ]
     },
     "metadata": {},
     "output_type": "display_data"
    },
    {
     "name": "stdout",
     "output_type": "stream",
     "text": [
      "CSPR = 14.00 dB\n",
      "Results:\n",
      "BER: 6.25e-05\n",
      "SNR: 18.74 dB\n",
      "SIR =  20.04  dB\n",
      "GMI: 4.00 bits\n",
      "\n"
     ]
    },
    {
     "data": {
      "application/vnd.jupyter.widget-view+json": {
       "model_id": "0671b48584d44dd6ab26e53516ea4a24",
       "version_major": 2,
       "version_minor": 0
      },
      "text/plain": [
       "  0%|          | 0/1 [00:00<?, ?it/s]"
      ]
     },
     "metadata": {},
     "output_type": "display_data"
    },
    {
     "name": "stdout",
     "output_type": "stream",
     "text": [
      "CSPR = 14.00 dB\n",
      "Results:\n",
      "BER: 2.50e-05\n",
      "SNR: 19.43 dB\n",
      "SIR =  20.39  dB\n",
      "GMI: 4.00 bits\n",
      "\n"
     ]
    },
    {
     "data": {
      "application/vnd.jupyter.widget-view+json": {
       "model_id": "d43717765b0c447999418256e0457337",
       "version_major": 2,
       "version_minor": 0
      },
      "text/plain": [
       "  0%|          | 0/1 [00:00<?, ?it/s]"
      ]
     },
     "metadata": {},
     "output_type": "display_data"
    },
    {
     "name": "stdout",
     "output_type": "stream",
     "text": [
      "CSPR = 14.00 dB\n",
      "Results:\n",
      "BER: 3.13e-06\n",
      "SNR: 20.10 dB\n",
      "SIR =  20.87  dB\n",
      "GMI: 4.00 bits\n",
      "\n"
     ]
    },
    {
     "data": {
      "application/vnd.jupyter.widget-view+json": {
       "model_id": "b807168600d547cc917d80095a324c25",
       "version_major": 2,
       "version_minor": 0
      },
      "text/plain": [
       "  0%|          | 0/10 [00:00<?, ?it/s]"
      ]
     },
     "metadata": {},
     "output_type": "display_data"
    },
    {
     "data": {
      "application/vnd.jupyter.widget-view+json": {
       "model_id": "f3939b96b7f949df99f4efecaab96537",
       "version_major": 2,
       "version_minor": 0
      },
      "text/plain": [
       "  0%|          | 0/1 [00:00<?, ?it/s]"
      ]
     },
     "metadata": {},
     "output_type": "display_data"
    },
    {
     "name": "stdout",
     "output_type": "stream",
     "text": [
      "CSPR = 15.00 dB\n",
      "Results:\n",
      "BER: 1.93e-02\n",
      "SNR: 12.92 dB\n",
      "SIR =  15.56  dB\n",
      "GMI: 3.70 bits\n",
      "\n"
     ]
    },
    {
     "data": {
      "application/vnd.jupyter.widget-view+json": {
       "model_id": "438107be0ebd44438bfeaa7c6b871749",
       "version_major": 2,
       "version_minor": 0
      },
      "text/plain": [
       "  0%|          | 0/1 [00:00<?, ?it/s]"
      ]
     },
     "metadata": {},
     "output_type": "display_data"
    },
    {
     "name": "stdout",
     "output_type": "stream",
     "text": [
      "CSPR = 15.00 dB\n",
      "Results:\n",
      "BER: 1.12e-02\n",
      "SNR: 13.85 dB\n",
      "SIR =  16.34  dB\n",
      "GMI: 3.82 bits\n",
      "\n"
     ]
    },
    {
     "data": {
      "application/vnd.jupyter.widget-view+json": {
       "model_id": "7736e51c2eef438c97846c9da50d5a55",
       "version_major": 2,
       "version_minor": 0
      },
      "text/plain": [
       "  0%|          | 0/1 [00:00<?, ?it/s]"
      ]
     },
     "metadata": {},
     "output_type": "display_data"
    },
    {
     "name": "stdout",
     "output_type": "stream",
     "text": [
      "CSPR = 15.00 dB\n",
      "Results:\n",
      "BER: 6.01e-03\n",
      "SNR: 14.73 dB\n",
      "SIR =  17.05  dB\n",
      "GMI: 3.90 bits\n",
      "\n"
     ]
    },
    {
     "data": {
      "application/vnd.jupyter.widget-view+json": {
       "model_id": "871c6d3e40924411b67f701fba35f87d",
       "version_major": 2,
       "version_minor": 0
      },
      "text/plain": [
       "  0%|          | 0/1 [00:00<?, ?it/s]"
      ]
     },
     "metadata": {},
     "output_type": "display_data"
    },
    {
     "name": "stdout",
     "output_type": "stream",
     "text": [
      "CSPR = 15.00 dB\n",
      "Results:\n",
      "BER: 2.95e-03\n",
      "SNR: 15.62 dB\n",
      "SIR =  17.76  dB\n",
      "GMI: 3.95 bits\n",
      "\n"
     ]
    },
    {
     "data": {
      "application/vnd.jupyter.widget-view+json": {
       "model_id": "73d96d3109b347ca8b2d691bf7f36e48",
       "version_major": 2,
       "version_minor": 0
      },
      "text/plain": [
       "  0%|          | 0/1 [00:00<?, ?it/s]"
      ]
     },
     "metadata": {},
     "output_type": "display_data"
    },
    {
     "name": "stdout",
     "output_type": "stream",
     "text": [
      "CSPR = 15.00 dB\n",
      "Results:\n",
      "BER: 1.15e-03\n",
      "SNR: 16.48 dB\n",
      "SIR =  18.43  dB\n",
      "GMI: 3.98 bits\n",
      "\n"
     ]
    },
    {
     "data": {
      "application/vnd.jupyter.widget-view+json": {
       "model_id": "2d1a29bb01064529990b6235f23d11d2",
       "version_major": 2,
       "version_minor": 0
      },
      "text/plain": [
       "  0%|          | 0/1 [00:00<?, ?it/s]"
      ]
     },
     "metadata": {},
     "output_type": "display_data"
    },
    {
     "name": "stdout",
     "output_type": "stream",
     "text": [
      "CSPR = 15.00 dB\n",
      "Results:\n",
      "BER: 4.47e-04\n",
      "SNR: 17.29 dB\n",
      "SIR =  19.04  dB\n",
      "GMI: 3.99 bits\n",
      "\n"
     ]
    },
    {
     "data": {
      "application/vnd.jupyter.widget-view+json": {
       "model_id": "82d77f3b8e234c93a3abde180dfa7680",
       "version_major": 2,
       "version_minor": 0
      },
      "text/plain": [
       "  0%|          | 0/1 [00:00<?, ?it/s]"
      ]
     },
     "metadata": {},
     "output_type": "display_data"
    },
    {
     "name": "stdout",
     "output_type": "stream",
     "text": [
      "CSPR = 15.00 dB\n",
      "Results:\n",
      "BER: 1.31e-04\n",
      "SNR: 18.05 dB\n",
      "SIR =  19.58  dB\n",
      "GMI: 4.00 bits\n",
      "\n"
     ]
    },
    {
     "data": {
      "application/vnd.jupyter.widget-view+json": {
       "model_id": "378906aa0e7f4dd5846a94fdc1e80766",
       "version_major": 2,
       "version_minor": 0
      },
      "text/plain": [
       "  0%|          | 0/1 [00:00<?, ?it/s]"
      ]
     },
     "metadata": {},
     "output_type": "display_data"
    },
    {
     "name": "stdout",
     "output_type": "stream",
     "text": [
      "CSPR = 15.00 dB\n",
      "Results:\n",
      "BER: 3.44e-05\n",
      "SNR: 18.83 dB\n",
      "SIR =  20.15  dB\n",
      "GMI: 4.00 bits\n",
      "\n"
     ]
    },
    {
     "data": {
      "application/vnd.jupyter.widget-view+json": {
       "model_id": "9c1382f02ba94d7992329a92d9401754",
       "version_major": 2,
       "version_minor": 0
      },
      "text/plain": [
       "  0%|          | 0/1 [00:00<?, ?it/s]"
      ]
     },
     "metadata": {},
     "output_type": "display_data"
    },
    {
     "name": "stdout",
     "output_type": "stream",
     "text": [
      "CSPR = 15.00 dB\n",
      "Results:\n",
      "BER: 1.25e-05\n",
      "SNR: 19.46 dB\n",
      "SIR =  20.52  dB\n",
      "GMI: 4.00 bits\n",
      "\n"
     ]
    },
    {
     "data": {
      "application/vnd.jupyter.widget-view+json": {
       "model_id": "0defec1a3a244e9bb7a69d49d0ad99c8",
       "version_major": 2,
       "version_minor": 0
      },
      "text/plain": [
       "  0%|          | 0/1 [00:00<?, ?it/s]"
      ]
     },
     "metadata": {},
     "output_type": "display_data"
    },
    {
     "name": "stdout",
     "output_type": "stream",
     "text": [
      "CSPR = 15.00 dB\n",
      "Results:\n",
      "BER: 0.00e+00\n",
      "SNR: 20.16 dB\n",
      "SIR =  20.94  dB\n",
      "GMI: 4.00 bits\n",
      "\n"
     ]
    },
    {
     "data": {
      "application/vnd.jupyter.widget-view+json": {
       "model_id": "0d6dc43864fa4d15ac40e24109c70c0d",
       "version_major": 2,
       "version_minor": 0
      },
      "text/plain": [
       "  0%|          | 0/10 [00:00<?, ?it/s]"
      ]
     },
     "metadata": {},
     "output_type": "display_data"
    },
    {
     "data": {
      "application/vnd.jupyter.widget-view+json": {
       "model_id": "1e575d2f45ed4f65bcc3d01008835965",
       "version_major": 2,
       "version_minor": 0
      },
      "text/plain": [
       "  0%|          | 0/10 [00:00<?, ?it/s]"
      ]
     },
     "metadata": {},
     "output_type": "display_data"
    },
    {
     "data": {
      "application/vnd.jupyter.widget-view+json": {
       "model_id": "6ff74c1bb95a4e238e5c9faa46e361b5",
       "version_major": 2,
       "version_minor": 0
      },
      "text/plain": [
       "  0%|          | 0/1 [00:00<?, ?it/s]"
      ]
     },
     "metadata": {},
     "output_type": "display_data"
    },
    {
     "name": "stdout",
     "output_type": "stream",
     "text": [
      "CSPR = 6.00 dB\n",
      "Results:\n",
      "BER: 1.36e-03\n",
      "SNR: 16.35 dB\n",
      "SIR =  7.1  dB\n",
      "GMI: 3.98 bits\n",
      "\n"
     ]
    },
    {
     "data": {
      "application/vnd.jupyter.widget-view+json": {
       "model_id": "a8a82506e70741df8051cfd388ea30b4",
       "version_major": 2,
       "version_minor": 0
      },
      "text/plain": [
       "  0%|          | 0/1 [00:00<?, ?it/s]"
      ]
     },
     "metadata": {},
     "output_type": "display_data"
    },
    {
     "name": "stdout",
     "output_type": "stream",
     "text": [
      "CSPR = 6.00 dB\n",
      "Results:\n",
      "BER: 4.47e-04\n",
      "SNR: 17.34 dB\n",
      "SIR =  7.11  dB\n",
      "GMI: 3.99 bits\n",
      "\n"
     ]
    },
    {
     "data": {
      "application/vnd.jupyter.widget-view+json": {
       "model_id": "16d40694fe694736addf36a1fa30424a",
       "version_major": 2,
       "version_minor": 0
      },
      "text/plain": [
       "  0%|          | 0/1 [00:00<?, ?it/s]"
      ]
     },
     "metadata": {},
     "output_type": "display_data"
    },
    {
     "name": "stdout",
     "output_type": "stream",
     "text": [
      "CSPR = 6.00 dB\n",
      "Results:\n",
      "BER: 1.03e-04\n",
      "SNR: 18.36 dB\n",
      "SIR =  7.11  dB\n",
      "GMI: 4.00 bits\n",
      "\n"
     ]
    },
    {
     "data": {
      "application/vnd.jupyter.widget-view+json": {
       "model_id": "302d70e5176a4b4682035e92d0c9ed27",
       "version_major": 2,
       "version_minor": 0
      },
      "text/plain": [
       "  0%|          | 0/1 [00:00<?, ?it/s]"
      ]
     },
     "metadata": {},
     "output_type": "display_data"
    },
    {
     "name": "stdout",
     "output_type": "stream",
     "text": [
      "CSPR = 6.00 dB\n",
      "Results:\n",
      "BER: 1.87e-05\n",
      "SNR: 19.34 dB\n",
      "SIR =  7.12  dB\n",
      "GMI: 4.00 bits\n",
      "\n"
     ]
    },
    {
     "data": {
      "application/vnd.jupyter.widget-view+json": {
       "model_id": "419a984ce8fd4d138932ac8d673b2677",
       "version_major": 2,
       "version_minor": 0
      },
      "text/plain": [
       "  0%|          | 0/1 [00:00<?, ?it/s]"
      ]
     },
     "metadata": {},
     "output_type": "display_data"
    },
    {
     "name": "stdout",
     "output_type": "stream",
     "text": [
      "CSPR = 6.00 dB\n",
      "Results:\n",
      "BER: 0.00e+00\n",
      "SNR: 20.34 dB\n",
      "SIR =  7.13  dB\n",
      "GMI: 4.00 bits\n",
      "\n"
     ]
    },
    {
     "data": {
      "application/vnd.jupyter.widget-view+json": {
       "model_id": "e3423047cdc748249201284177b94b23",
       "version_major": 2,
       "version_minor": 0
      },
      "text/plain": [
       "  0%|          | 0/1 [00:00<?, ?it/s]"
      ]
     },
     "metadata": {},
     "output_type": "display_data"
    },
    {
     "name": "stdout",
     "output_type": "stream",
     "text": [
      "CSPR = 6.00 dB\n",
      "Results:\n",
      "BER: 0.00e+00\n",
      "SNR: 21.30 dB\n",
      "SIR =  7.11  dB\n",
      "GMI: 4.00 bits\n",
      "\n"
     ]
    },
    {
     "data": {
      "application/vnd.jupyter.widget-view+json": {
       "model_id": "dea9dfb29d714acfa6ca36d95237d894",
       "version_major": 2,
       "version_minor": 0
      },
      "text/plain": [
       "  0%|          | 0/1 [00:00<?, ?it/s]"
      ]
     },
     "metadata": {},
     "output_type": "display_data"
    },
    {
     "name": "stdout",
     "output_type": "stream",
     "text": [
      "CSPR = 6.00 dB\n",
      "Results:\n",
      "BER: 0.00e+00\n",
      "SNR: 22.28 dB\n",
      "SIR =  7.11  dB\n",
      "GMI: 4.00 bits\n",
      "\n"
     ]
    },
    {
     "data": {
      "application/vnd.jupyter.widget-view+json": {
       "model_id": "afa0deca818440a298add4e7dcecf078",
       "version_major": 2,
       "version_minor": 0
      },
      "text/plain": [
       "  0%|          | 0/1 [00:00<?, ?it/s]"
      ]
     },
     "metadata": {},
     "output_type": "display_data"
    },
    {
     "name": "stdout",
     "output_type": "stream",
     "text": [
      "CSPR = 6.00 dB\n",
      "Results:\n",
      "BER: 0.00e+00\n",
      "SNR: 23.24 dB\n",
      "SIR =  7.11  dB\n",
      "GMI: 4.00 bits\n",
      "\n"
     ]
    },
    {
     "data": {
      "application/vnd.jupyter.widget-view+json": {
       "model_id": "a0c26e944921439d9abb54013c715764",
       "version_major": 2,
       "version_minor": 0
      },
      "text/plain": [
       "  0%|          | 0/1 [00:00<?, ?it/s]"
      ]
     },
     "metadata": {},
     "output_type": "display_data"
    },
    {
     "name": "stdout",
     "output_type": "stream",
     "text": [
      "CSPR = 6.00 dB\n",
      "Results:\n",
      "BER: 0.00e+00\n",
      "SNR: 24.23 dB\n",
      "SIR =  7.12  dB\n",
      "GMI: 4.00 bits\n",
      "\n"
     ]
    },
    {
     "data": {
      "application/vnd.jupyter.widget-view+json": {
       "model_id": "ccd692d46f974423ac2b28abb9e99440",
       "version_major": 2,
       "version_minor": 0
      },
      "text/plain": [
       "  0%|          | 0/1 [00:00<?, ?it/s]"
      ]
     },
     "metadata": {},
     "output_type": "display_data"
    },
    {
     "name": "stdout",
     "output_type": "stream",
     "text": [
      "CSPR = 6.00 dB\n",
      "Results:\n",
      "BER: 0.00e+00\n",
      "SNR: 25.19 dB\n",
      "SIR =  7.11  dB\n",
      "GMI: 4.00 bits\n",
      "\n"
     ]
    },
    {
     "data": {
      "application/vnd.jupyter.widget-view+json": {
       "model_id": "0305033edfff4e4fb9e756f15fdb28aa",
       "version_major": 2,
       "version_minor": 0
      },
      "text/plain": [
       "  0%|          | 0/10 [00:00<?, ?it/s]"
      ]
     },
     "metadata": {},
     "output_type": "display_data"
    },
    {
     "data": {
      "application/vnd.jupyter.widget-view+json": {
       "model_id": "71cf177671134efb98d902d8bf9f808c",
       "version_major": 2,
       "version_minor": 0
      },
      "text/plain": [
       "  0%|          | 0/1 [00:00<?, ?it/s]"
      ]
     },
     "metadata": {},
     "output_type": "display_data"
    },
    {
     "name": "stdout",
     "output_type": "stream",
     "text": [
      "CSPR = 7.00 dB\n",
      "Results:\n",
      "BER: 1.38e-03\n",
      "SNR: 16.36 dB\n",
      "SIR =  7.11  dB\n",
      "GMI: 3.98 bits\n",
      "\n"
     ]
    },
    {
     "data": {
      "application/vnd.jupyter.widget-view+json": {
       "model_id": "02bb027c5b7e4294beac001d1a4d5c3b",
       "version_major": 2,
       "version_minor": 0
      },
      "text/plain": [
       "  0%|          | 0/1 [00:00<?, ?it/s]"
      ]
     },
     "metadata": {},
     "output_type": "display_data"
    },
    {
     "name": "stdout",
     "output_type": "stream",
     "text": [
      "CSPR = 7.00 dB\n",
      "Results:\n",
      "BER: 3.97e-04\n",
      "SNR: 17.34 dB\n",
      "SIR =  7.13  dB\n",
      "GMI: 3.99 bits\n",
      "\n"
     ]
    },
    {
     "data": {
      "application/vnd.jupyter.widget-view+json": {
       "model_id": "5afea0ae4279421ab5ba5b4fbe9110f5",
       "version_major": 2,
       "version_minor": 0
      },
      "text/plain": [
       "  0%|          | 0/1 [00:00<?, ?it/s]"
      ]
     },
     "metadata": {},
     "output_type": "display_data"
    },
    {
     "name": "stdout",
     "output_type": "stream",
     "text": [
      "CSPR = 7.00 dB\n",
      "Results:\n",
      "BER: 8.44e-05\n",
      "SNR: 18.34 dB\n",
      "SIR =  7.11  dB\n",
      "GMI: 4.00 bits\n",
      "\n"
     ]
    },
    {
     "data": {
      "application/vnd.jupyter.widget-view+json": {
       "model_id": "abc62582ac234110ae7525f95b0b1e85",
       "version_major": 2,
       "version_minor": 0
      },
      "text/plain": [
       "  0%|          | 0/1 [00:00<?, ?it/s]"
      ]
     },
     "metadata": {},
     "output_type": "display_data"
    },
    {
     "name": "stdout",
     "output_type": "stream",
     "text": [
      "CSPR = 7.00 dB\n",
      "Results:\n",
      "BER: 1.87e-05\n",
      "SNR: 19.36 dB\n",
      "SIR =  7.11  dB\n",
      "GMI: 4.00 bits\n",
      "\n"
     ]
    },
    {
     "data": {
      "application/vnd.jupyter.widget-view+json": {
       "model_id": "ca944f187d13414dacbafae74325ebcf",
       "version_major": 2,
       "version_minor": 0
      },
      "text/plain": [
       "  0%|          | 0/1 [00:00<?, ?it/s]"
      ]
     },
     "metadata": {},
     "output_type": "display_data"
    },
    {
     "name": "stdout",
     "output_type": "stream",
     "text": [
      "CSPR = 7.00 dB\n",
      "Results:\n",
      "BER: 0.00e+00\n",
      "SNR: 20.34 dB\n",
      "SIR =  7.1  dB\n",
      "GMI: 4.00 bits\n",
      "\n"
     ]
    },
    {
     "data": {
      "application/vnd.jupyter.widget-view+json": {
       "model_id": "161dec78b3e04e07a7b7edac487c47d5",
       "version_major": 2,
       "version_minor": 0
      },
      "text/plain": [
       "  0%|          | 0/1 [00:00<?, ?it/s]"
      ]
     },
     "metadata": {},
     "output_type": "display_data"
    },
    {
     "name": "stdout",
     "output_type": "stream",
     "text": [
      "CSPR = 7.00 dB\n",
      "Results:\n",
      "BER: 0.00e+00\n",
      "SNR: 21.32 dB\n",
      "SIR =  7.12  dB\n",
      "GMI: 4.00 bits\n",
      "\n"
     ]
    },
    {
     "data": {
      "application/vnd.jupyter.widget-view+json": {
       "model_id": "8c91d1d5681745259e7176bc9d248cc4",
       "version_major": 2,
       "version_minor": 0
      },
      "text/plain": [
       "  0%|          | 0/1 [00:00<?, ?it/s]"
      ]
     },
     "metadata": {},
     "output_type": "display_data"
    },
    {
     "name": "stdout",
     "output_type": "stream",
     "text": [
      "CSPR = 7.00 dB\n",
      "Results:\n",
      "BER: 0.00e+00\n",
      "SNR: 22.28 dB\n",
      "SIR =  7.13  dB\n",
      "GMI: 4.00 bits\n",
      "\n"
     ]
    },
    {
     "data": {
      "application/vnd.jupyter.widget-view+json": {
       "model_id": "a826055de0ef4214a5f2596a80a86278",
       "version_major": 2,
       "version_minor": 0
      },
      "text/plain": [
       "  0%|          | 0/1 [00:00<?, ?it/s]"
      ]
     },
     "metadata": {},
     "output_type": "display_data"
    },
    {
     "name": "stdout",
     "output_type": "stream",
     "text": [
      "CSPR = 7.00 dB\n",
      "Results:\n",
      "BER: 0.00e+00\n",
      "SNR: 23.30 dB\n",
      "SIR =  7.13  dB\n",
      "GMI: 4.00 bits\n",
      "\n"
     ]
    },
    {
     "data": {
      "application/vnd.jupyter.widget-view+json": {
       "model_id": "493e88b88fb94067b5fb3e6062aa09dc",
       "version_major": 2,
       "version_minor": 0
      },
      "text/plain": [
       "  0%|          | 0/1 [00:00<?, ?it/s]"
      ]
     },
     "metadata": {},
     "output_type": "display_data"
    },
    {
     "name": "stdout",
     "output_type": "stream",
     "text": [
      "CSPR = 7.00 dB\n",
      "Results:\n",
      "BER: 0.00e+00\n",
      "SNR: 24.25 dB\n",
      "SIR =  7.11  dB\n",
      "GMI: 4.00 bits\n",
      "\n"
     ]
    },
    {
     "data": {
      "application/vnd.jupyter.widget-view+json": {
       "model_id": "08edb3a6396e47d5af07c46ee2515947",
       "version_major": 2,
       "version_minor": 0
      },
      "text/plain": [
       "  0%|          | 0/1 [00:00<?, ?it/s]"
      ]
     },
     "metadata": {},
     "output_type": "display_data"
    },
    {
     "name": "stdout",
     "output_type": "stream",
     "text": [
      "CSPR = 7.00 dB\n",
      "Results:\n",
      "BER: 0.00e+00\n",
      "SNR: 25.18 dB\n",
      "SIR =  7.11  dB\n",
      "GMI: 4.00 bits\n",
      "\n"
     ]
    },
    {
     "data": {
      "application/vnd.jupyter.widget-view+json": {
       "model_id": "566e29fc4a5f46c2894ba93493ddbd3f",
       "version_major": 2,
       "version_minor": 0
      },
      "text/plain": [
       "  0%|          | 0/10 [00:00<?, ?it/s]"
      ]
     },
     "metadata": {},
     "output_type": "display_data"
    },
    {
     "data": {
      "application/vnd.jupyter.widget-view+json": {
       "model_id": "9c889d93b71a499582ba69aa874744f4",
       "version_major": 2,
       "version_minor": 0
      },
      "text/plain": [
       "  0%|          | 0/1 [00:00<?, ?it/s]"
      ]
     },
     "metadata": {},
     "output_type": "display_data"
    },
    {
     "name": "stdout",
     "output_type": "stream",
     "text": [
      "CSPR = 8.00 dB\n",
      "Results:\n",
      "BER: 1.37e-03\n",
      "SNR: 16.37 dB\n",
      "SIR =  7.1  dB\n",
      "GMI: 3.98 bits\n",
      "\n"
     ]
    },
    {
     "data": {
      "application/vnd.jupyter.widget-view+json": {
       "model_id": "6f84f4602f2346f6abfd315b6f6f6ceb",
       "version_major": 2,
       "version_minor": 0
      },
      "text/plain": [
       "  0%|          | 0/1 [00:00<?, ?it/s]"
      ]
     },
     "metadata": {},
     "output_type": "display_data"
    },
    {
     "name": "stdout",
     "output_type": "stream",
     "text": [
      "CSPR = 8.00 dB\n",
      "Results:\n",
      "BER: 4.16e-04\n",
      "SNR: 17.37 dB\n",
      "SIR =  7.15  dB\n",
      "GMI: 3.99 bits\n",
      "\n"
     ]
    },
    {
     "data": {
      "application/vnd.jupyter.widget-view+json": {
       "model_id": "e8cedff54c8449b5bc423c488cb8e10c",
       "version_major": 2,
       "version_minor": 0
      },
      "text/plain": [
       "  0%|          | 0/1 [00:00<?, ?it/s]"
      ]
     },
     "metadata": {},
     "output_type": "display_data"
    },
    {
     "name": "stdout",
     "output_type": "stream",
     "text": [
      "CSPR = 8.00 dB\n",
      "Results:\n",
      "BER: 1.06e-04\n",
      "SNR: 18.34 dB\n",
      "SIR =  7.12  dB\n",
      "GMI: 4.00 bits\n",
      "\n"
     ]
    },
    {
     "data": {
      "application/vnd.jupyter.widget-view+json": {
       "model_id": "59b06783831c468986f44416c84eafae",
       "version_major": 2,
       "version_minor": 0
      },
      "text/plain": [
       "  0%|          | 0/1 [00:00<?, ?it/s]"
      ]
     },
     "metadata": {},
     "output_type": "display_data"
    },
    {
     "name": "stdout",
     "output_type": "stream",
     "text": [
      "CSPR = 8.00 dB\n",
      "Results:\n",
      "BER: 1.25e-05\n",
      "SNR: 19.33 dB\n",
      "SIR =  7.12  dB\n",
      "GMI: 4.00 bits\n",
      "\n"
     ]
    },
    {
     "data": {
      "application/vnd.jupyter.widget-view+json": {
       "model_id": "9b118377e8ae421eba20cde576e30760",
       "version_major": 2,
       "version_minor": 0
      },
      "text/plain": [
       "  0%|          | 0/1 [00:00<?, ?it/s]"
      ]
     },
     "metadata": {},
     "output_type": "display_data"
    },
    {
     "name": "stdout",
     "output_type": "stream",
     "text": [
      "CSPR = 8.00 dB\n",
      "Results:\n",
      "BER: 0.00e+00\n",
      "SNR: 20.32 dB\n",
      "SIR =  7.12  dB\n",
      "GMI: 4.00 bits\n",
      "\n"
     ]
    },
    {
     "data": {
      "application/vnd.jupyter.widget-view+json": {
       "model_id": "68f373c8e11d4393aed8b7222a61945a",
       "version_major": 2,
       "version_minor": 0
      },
      "text/plain": [
       "  0%|          | 0/1 [00:00<?, ?it/s]"
      ]
     },
     "metadata": {},
     "output_type": "display_data"
    },
    {
     "name": "stdout",
     "output_type": "stream",
     "text": [
      "CSPR = 8.00 dB\n",
      "Results:\n",
      "BER: 0.00e+00\n",
      "SNR: 21.35 dB\n",
      "SIR =  7.11  dB\n",
      "GMI: 4.00 bits\n",
      "\n"
     ]
    },
    {
     "data": {
      "application/vnd.jupyter.widget-view+json": {
       "model_id": "76cb4d6bdc174ff798225e7caa75def0",
       "version_major": 2,
       "version_minor": 0
      },
      "text/plain": [
       "  0%|          | 0/1 [00:00<?, ?it/s]"
      ]
     },
     "metadata": {},
     "output_type": "display_data"
    },
    {
     "name": "stdout",
     "output_type": "stream",
     "text": [
      "CSPR = 8.00 dB\n",
      "Results:\n",
      "BER: 0.00e+00\n",
      "SNR: 22.29 dB\n",
      "SIR =  7.12  dB\n",
      "GMI: 4.00 bits\n",
      "\n"
     ]
    },
    {
     "data": {
      "application/vnd.jupyter.widget-view+json": {
       "model_id": "642764a62dcc4da29ebfddf4519f9dd8",
       "version_major": 2,
       "version_minor": 0
      },
      "text/plain": [
       "  0%|          | 0/1 [00:00<?, ?it/s]"
      ]
     },
     "metadata": {},
     "output_type": "display_data"
    },
    {
     "name": "stdout",
     "output_type": "stream",
     "text": [
      "CSPR = 8.00 dB\n",
      "Results:\n",
      "BER: 0.00e+00\n",
      "SNR: 23.27 dB\n",
      "SIR =  7.11  dB\n",
      "GMI: 4.00 bits\n",
      "\n"
     ]
    },
    {
     "data": {
      "application/vnd.jupyter.widget-view+json": {
       "model_id": "570a663e11b14741b85d29970b706280",
       "version_major": 2,
       "version_minor": 0
      },
      "text/plain": [
       "  0%|          | 0/1 [00:00<?, ?it/s]"
      ]
     },
     "metadata": {},
     "output_type": "display_data"
    },
    {
     "name": "stdout",
     "output_type": "stream",
     "text": [
      "CSPR = 8.00 dB\n",
      "Results:\n",
      "BER: 0.00e+00\n",
      "SNR: 24.27 dB\n",
      "SIR =  7.12  dB\n",
      "GMI: 4.00 bits\n",
      "\n"
     ]
    },
    {
     "data": {
      "application/vnd.jupyter.widget-view+json": {
       "model_id": "34b62e09da854efba9e8d784e70ebecf",
       "version_major": 2,
       "version_minor": 0
      },
      "text/plain": [
       "  0%|          | 0/1 [00:00<?, ?it/s]"
      ]
     },
     "metadata": {},
     "output_type": "display_data"
    },
    {
     "name": "stdout",
     "output_type": "stream",
     "text": [
      "CSPR = 8.00 dB\n",
      "Results:\n",
      "BER: 0.00e+00\n",
      "SNR: 25.20 dB\n",
      "SIR =  7.13  dB\n",
      "GMI: 4.00 bits\n",
      "\n"
     ]
    },
    {
     "data": {
      "application/vnd.jupyter.widget-view+json": {
       "model_id": "25865001d7604abb9c31c42424077c57",
       "version_major": 2,
       "version_minor": 0
      },
      "text/plain": [
       "  0%|          | 0/10 [00:00<?, ?it/s]"
      ]
     },
     "metadata": {},
     "output_type": "display_data"
    },
    {
     "data": {
      "application/vnd.jupyter.widget-view+json": {
       "model_id": "9f76ab0a98934d7ab0e2199d06f18ffa",
       "version_major": 2,
       "version_minor": 0
      },
      "text/plain": [
       "  0%|          | 0/1 [00:00<?, ?it/s]"
      ]
     },
     "metadata": {},
     "output_type": "display_data"
    },
    {
     "name": "stdout",
     "output_type": "stream",
     "text": [
      "CSPR = 9.00 dB\n",
      "Results:\n",
      "BER: 1.37e-03\n",
      "SNR: 16.35 dB\n",
      "SIR =  7.11  dB\n",
      "GMI: 3.98 bits\n",
      "\n"
     ]
    },
    {
     "data": {
      "application/vnd.jupyter.widget-view+json": {
       "model_id": "c507eca78ff04039bac88424e2e5d516",
       "version_major": 2,
       "version_minor": 0
      },
      "text/plain": [
       "  0%|          | 0/1 [00:00<?, ?it/s]"
      ]
     },
     "metadata": {},
     "output_type": "display_data"
    },
    {
     "name": "stdout",
     "output_type": "stream",
     "text": [
      "CSPR = 9.00 dB\n",
      "Results:\n",
      "BER: 3.91e-04\n",
      "SNR: 17.38 dB\n",
      "SIR =  7.11  dB\n",
      "GMI: 3.99 bits\n",
      "\n"
     ]
    },
    {
     "data": {
      "application/vnd.jupyter.widget-view+json": {
       "model_id": "4a64f6a0cb744a11bc42acf439419732",
       "version_major": 2,
       "version_minor": 0
      },
      "text/plain": [
       "  0%|          | 0/1 [00:00<?, ?it/s]"
      ]
     },
     "metadata": {},
     "output_type": "display_data"
    },
    {
     "name": "stdout",
     "output_type": "stream",
     "text": [
      "CSPR = 9.00 dB\n",
      "Results:\n",
      "BER: 1.06e-04\n",
      "SNR: 18.36 dB\n",
      "SIR =  7.13  dB\n",
      "GMI: 4.00 bits\n",
      "\n"
     ]
    },
    {
     "data": {
      "application/vnd.jupyter.widget-view+json": {
       "model_id": "3f1cadaac56441219220dc1ac1bf72d5",
       "version_major": 2,
       "version_minor": 0
      },
      "text/plain": [
       "  0%|          | 0/1 [00:00<?, ?it/s]"
      ]
     },
     "metadata": {},
     "output_type": "display_data"
    },
    {
     "name": "stdout",
     "output_type": "stream",
     "text": [
      "CSPR = 9.00 dB\n",
      "Results:\n",
      "BER: 1.87e-05\n",
      "SNR: 19.36 dB\n",
      "SIR =  7.09  dB\n",
      "GMI: 4.00 bits\n",
      "\n"
     ]
    },
    {
     "data": {
      "application/vnd.jupyter.widget-view+json": {
       "model_id": "2df549d4531f4e38a26292f280cff301",
       "version_major": 2,
       "version_minor": 0
      },
      "text/plain": [
       "  0%|          | 0/1 [00:00<?, ?it/s]"
      ]
     },
     "metadata": {},
     "output_type": "display_data"
    },
    {
     "name": "stdout",
     "output_type": "stream",
     "text": [
      "CSPR = 9.00 dB\n",
      "Results:\n",
      "BER: 3.13e-06\n",
      "SNR: 20.34 dB\n",
      "SIR =  7.11  dB\n",
      "GMI: 4.00 bits\n",
      "\n"
     ]
    },
    {
     "data": {
      "application/vnd.jupyter.widget-view+json": {
       "model_id": "b08a931adc074d1ab2559d8b1e2a3a19",
       "version_major": 2,
       "version_minor": 0
      },
      "text/plain": [
       "  0%|          | 0/1 [00:00<?, ?it/s]"
      ]
     },
     "metadata": {},
     "output_type": "display_data"
    },
    {
     "name": "stdout",
     "output_type": "stream",
     "text": [
      "CSPR = 9.00 dB\n",
      "Results:\n",
      "BER: 0.00e+00\n",
      "SNR: 21.31 dB\n",
      "SIR =  7.12  dB\n",
      "GMI: 4.00 bits\n",
      "\n"
     ]
    },
    {
     "data": {
      "application/vnd.jupyter.widget-view+json": {
       "model_id": "195b459e7bef479e83c9a178260c34c3",
       "version_major": 2,
       "version_minor": 0
      },
      "text/plain": [
       "  0%|          | 0/1 [00:00<?, ?it/s]"
      ]
     },
     "metadata": {},
     "output_type": "display_data"
    },
    {
     "name": "stdout",
     "output_type": "stream",
     "text": [
      "CSPR = 9.00 dB\n",
      "Results:\n",
      "BER: 0.00e+00\n",
      "SNR: 22.29 dB\n",
      "SIR =  7.12  dB\n",
      "GMI: 4.00 bits\n",
      "\n"
     ]
    },
    {
     "data": {
      "application/vnd.jupyter.widget-view+json": {
       "model_id": "a3c238fe44c34f039dbbcc137f9400b3",
       "version_major": 2,
       "version_minor": 0
      },
      "text/plain": [
       "  0%|          | 0/1 [00:00<?, ?it/s]"
      ]
     },
     "metadata": {},
     "output_type": "display_data"
    },
    {
     "name": "stdout",
     "output_type": "stream",
     "text": [
      "CSPR = 9.00 dB\n",
      "Results:\n",
      "BER: 0.00e+00\n",
      "SNR: 23.24 dB\n",
      "SIR =  7.11  dB\n",
      "GMI: 4.00 bits\n",
      "\n"
     ]
    },
    {
     "data": {
      "application/vnd.jupyter.widget-view+json": {
       "model_id": "1d267bc14cee47679882a988ce12321c",
       "version_major": 2,
       "version_minor": 0
      },
      "text/plain": [
       "  0%|          | 0/1 [00:00<?, ?it/s]"
      ]
     },
     "metadata": {},
     "output_type": "display_data"
    },
    {
     "name": "stdout",
     "output_type": "stream",
     "text": [
      "CSPR = 9.00 dB\n",
      "Results:\n",
      "BER: 0.00e+00\n",
      "SNR: 24.24 dB\n",
      "SIR =  7.11  dB\n",
      "GMI: 4.00 bits\n",
      "\n"
     ]
    },
    {
     "data": {
      "application/vnd.jupyter.widget-view+json": {
       "model_id": "4c07bb4a66f14b51800f0596de1ace1c",
       "version_major": 2,
       "version_minor": 0
      },
      "text/plain": [
       "  0%|          | 0/1 [00:00<?, ?it/s]"
      ]
     },
     "metadata": {},
     "output_type": "display_data"
    },
    {
     "name": "stdout",
     "output_type": "stream",
     "text": [
      "CSPR = 9.00 dB\n",
      "Results:\n",
      "BER: 0.00e+00\n",
      "SNR: 25.21 dB\n",
      "SIR =  7.13  dB\n",
      "GMI: 4.00 bits\n",
      "\n"
     ]
    },
    {
     "data": {
      "application/vnd.jupyter.widget-view+json": {
       "model_id": "a63a3d69c88d4e4bb47614f6b838fec8",
       "version_major": 2,
       "version_minor": 0
      },
      "text/plain": [
       "  0%|          | 0/10 [00:00<?, ?it/s]"
      ]
     },
     "metadata": {},
     "output_type": "display_data"
    },
    {
     "data": {
      "application/vnd.jupyter.widget-view+json": {
       "model_id": "33d1afc8aead4bafb269cd6449f4bcc9",
       "version_major": 2,
       "version_minor": 0
      },
      "text/plain": [
       "  0%|          | 0/1 [00:00<?, ?it/s]"
      ]
     },
     "metadata": {},
     "output_type": "display_data"
    },
    {
     "name": "stdout",
     "output_type": "stream",
     "text": [
      "CSPR = 10.00 dB\n",
      "Results:\n",
      "BER: 1.26e-03\n",
      "SNR: 16.39 dB\n",
      "SIR =  7.1  dB\n",
      "GMI: 3.98 bits\n",
      "\n"
     ]
    },
    {
     "data": {
      "application/vnd.jupyter.widget-view+json": {
       "model_id": "5784f42391d04c8ab1b13f0116c155a3",
       "version_major": 2,
       "version_minor": 0
      },
      "text/plain": [
       "  0%|          | 0/1 [00:00<?, ?it/s]"
      ]
     },
     "metadata": {},
     "output_type": "display_data"
    },
    {
     "name": "stdout",
     "output_type": "stream",
     "text": [
      "CSPR = 10.00 dB\n",
      "Results:\n",
      "BER: 4.19e-04\n",
      "SNR: 17.34 dB\n",
      "SIR =  7.1  dB\n",
      "GMI: 3.99 bits\n",
      "\n"
     ]
    },
    {
     "data": {
      "application/vnd.jupyter.widget-view+json": {
       "model_id": "644ee5d9f3bd4308833a5caf053b0091",
       "version_major": 2,
       "version_minor": 0
      },
      "text/plain": [
       "  0%|          | 0/1 [00:00<?, ?it/s]"
      ]
     },
     "metadata": {},
     "output_type": "display_data"
    },
    {
     "name": "stdout",
     "output_type": "stream",
     "text": [
      "CSPR = 10.00 dB\n",
      "Results:\n",
      "BER: 1.28e-04\n",
      "SNR: 18.35 dB\n",
      "SIR =  7.13  dB\n",
      "GMI: 4.00 bits\n",
      "\n"
     ]
    },
    {
     "data": {
      "application/vnd.jupyter.widget-view+json": {
       "model_id": "47a87b6a333f43398475960f1cafd949",
       "version_major": 2,
       "version_minor": 0
      },
      "text/plain": [
       "  0%|          | 0/1 [00:00<?, ?it/s]"
      ]
     },
     "metadata": {},
     "output_type": "display_data"
    },
    {
     "name": "stdout",
     "output_type": "stream",
     "text": [
      "CSPR = 10.00 dB\n",
      "Results:\n",
      "BER: 1.56e-05\n",
      "SNR: 19.36 dB\n",
      "SIR =  7.11  dB\n",
      "GMI: 4.00 bits\n",
      "\n"
     ]
    },
    {
     "data": {
      "application/vnd.jupyter.widget-view+json": {
       "model_id": "0d126d81c6914128b83aa63784ea4582",
       "version_major": 2,
       "version_minor": 0
      },
      "text/plain": [
       "  0%|          | 0/1 [00:00<?, ?it/s]"
      ]
     },
     "metadata": {},
     "output_type": "display_data"
    },
    {
     "name": "stdout",
     "output_type": "stream",
     "text": [
      "CSPR = 10.00 dB\n",
      "Results:\n",
      "BER: 3.13e-06\n",
      "SNR: 20.33 dB\n",
      "SIR =  7.1  dB\n",
      "GMI: 4.00 bits\n",
      "\n"
     ]
    },
    {
     "data": {
      "application/vnd.jupyter.widget-view+json": {
       "model_id": "962c4708b39849ee9e4fa739b14a4111",
       "version_major": 2,
       "version_minor": 0
      },
      "text/plain": [
       "  0%|          | 0/1 [00:00<?, ?it/s]"
      ]
     },
     "metadata": {},
     "output_type": "display_data"
    },
    {
     "name": "stdout",
     "output_type": "stream",
     "text": [
      "CSPR = 10.00 dB\n",
      "Results:\n",
      "BER: 0.00e+00\n",
      "SNR: 21.30 dB\n",
      "SIR =  7.12  dB\n",
      "GMI: 4.00 bits\n",
      "\n"
     ]
    },
    {
     "data": {
      "application/vnd.jupyter.widget-view+json": {
       "model_id": "00ac341d46b5478facc5f3b088da3f3b",
       "version_major": 2,
       "version_minor": 0
      },
      "text/plain": [
       "  0%|          | 0/1 [00:00<?, ?it/s]"
      ]
     },
     "metadata": {},
     "output_type": "display_data"
    },
    {
     "name": "stdout",
     "output_type": "stream",
     "text": [
      "CSPR = 10.00 dB\n",
      "Results:\n",
      "BER: 0.00e+00\n",
      "SNR: 22.28 dB\n",
      "SIR =  7.13  dB\n",
      "GMI: 4.00 bits\n",
      "\n"
     ]
    },
    {
     "data": {
      "application/vnd.jupyter.widget-view+json": {
       "model_id": "f11ae78b53994b8c9688e7a5c823942c",
       "version_major": 2,
       "version_minor": 0
      },
      "text/plain": [
       "  0%|          | 0/1 [00:00<?, ?it/s]"
      ]
     },
     "metadata": {},
     "output_type": "display_data"
    },
    {
     "name": "stdout",
     "output_type": "stream",
     "text": [
      "CSPR = 10.00 dB\n",
      "Results:\n",
      "BER: 0.00e+00\n",
      "SNR: 23.26 dB\n",
      "SIR =  7.11  dB\n",
      "GMI: 4.00 bits\n",
      "\n"
     ]
    },
    {
     "data": {
      "application/vnd.jupyter.widget-view+json": {
       "model_id": "f394de902bdf46e7a166103cba4bb4c7",
       "version_major": 2,
       "version_minor": 0
      },
      "text/plain": [
       "  0%|          | 0/1 [00:00<?, ?it/s]"
      ]
     },
     "metadata": {},
     "output_type": "display_data"
    },
    {
     "name": "stdout",
     "output_type": "stream",
     "text": [
      "CSPR = 10.00 dB\n",
      "Results:\n",
      "BER: 0.00e+00\n",
      "SNR: 24.26 dB\n",
      "SIR =  7.11  dB\n",
      "GMI: 4.00 bits\n",
      "\n"
     ]
    },
    {
     "data": {
      "application/vnd.jupyter.widget-view+json": {
       "model_id": "a10bc8ffa9e343dba7fb9e1239998c2b",
       "version_major": 2,
       "version_minor": 0
      },
      "text/plain": [
       "  0%|          | 0/1 [00:00<?, ?it/s]"
      ]
     },
     "metadata": {},
     "output_type": "display_data"
    },
    {
     "name": "stdout",
     "output_type": "stream",
     "text": [
      "CSPR = 10.00 dB\n",
      "Results:\n",
      "BER: 0.00e+00\n",
      "SNR: 25.23 dB\n",
      "SIR =  7.1  dB\n",
      "GMI: 4.00 bits\n",
      "\n"
     ]
    },
    {
     "data": {
      "application/vnd.jupyter.widget-view+json": {
       "model_id": "3f2815b345654a23828f0a77e86e8b6e",
       "version_major": 2,
       "version_minor": 0
      },
      "text/plain": [
       "  0%|          | 0/10 [00:00<?, ?it/s]"
      ]
     },
     "metadata": {},
     "output_type": "display_data"
    },
    {
     "data": {
      "application/vnd.jupyter.widget-view+json": {
       "model_id": "523e448577ec4ee9975d236e92046a28",
       "version_major": 2,
       "version_minor": 0
      },
      "text/plain": [
       "  0%|          | 0/1 [00:00<?, ?it/s]"
      ]
     },
     "metadata": {},
     "output_type": "display_data"
    },
    {
     "name": "stdout",
     "output_type": "stream",
     "text": [
      "CSPR = 11.00 dB\n",
      "Results:\n",
      "BER: 1.33e-03\n",
      "SNR: 16.35 dB\n",
      "SIR =  7.1  dB\n",
      "GMI: 3.98 bits\n",
      "\n"
     ]
    },
    {
     "data": {
      "application/vnd.jupyter.widget-view+json": {
       "model_id": "fb549a919a144d86aebaa35e18473467",
       "version_major": 2,
       "version_minor": 0
      },
      "text/plain": [
       "  0%|          | 0/1 [00:00<?, ?it/s]"
      ]
     },
     "metadata": {},
     "output_type": "display_data"
    },
    {
     "name": "stdout",
     "output_type": "stream",
     "text": [
      "CSPR = 11.00 dB\n",
      "Results:\n",
      "BER: 4.28e-04\n",
      "SNR: 17.36 dB\n",
      "SIR =  7.11  dB\n",
      "GMI: 3.99 bits\n",
      "\n"
     ]
    },
    {
     "data": {
      "application/vnd.jupyter.widget-view+json": {
       "model_id": "b2865ca875ac4745b85f9fcbc748964c",
       "version_major": 2,
       "version_minor": 0
      },
      "text/plain": [
       "  0%|          | 0/1 [00:00<?, ?it/s]"
      ]
     },
     "metadata": {},
     "output_type": "display_data"
    },
    {
     "name": "stdout",
     "output_type": "stream",
     "text": [
      "CSPR = 11.00 dB\n",
      "Results:\n",
      "BER: 6.56e-05\n",
      "SNR: 18.37 dB\n",
      "SIR =  7.1  dB\n",
      "GMI: 4.00 bits\n",
      "\n"
     ]
    },
    {
     "data": {
      "application/vnd.jupyter.widget-view+json": {
       "model_id": "94e25bbe363e4dae9503a43d0916bc93",
       "version_major": 2,
       "version_minor": 0
      },
      "text/plain": [
       "  0%|          | 0/1 [00:00<?, ?it/s]"
      ]
     },
     "metadata": {},
     "output_type": "display_data"
    },
    {
     "name": "stdout",
     "output_type": "stream",
     "text": [
      "CSPR = 11.00 dB\n",
      "Results:\n",
      "BER: 9.37e-06\n",
      "SNR: 19.36 dB\n",
      "SIR =  7.11  dB\n",
      "GMI: 4.00 bits\n",
      "\n"
     ]
    },
    {
     "data": {
      "application/vnd.jupyter.widget-view+json": {
       "model_id": "1dfefbdda61f43769a2c8e40c1ec655b",
       "version_major": 2,
       "version_minor": 0
      },
      "text/plain": [
       "  0%|          | 0/1 [00:00<?, ?it/s]"
      ]
     },
     "metadata": {},
     "output_type": "display_data"
    },
    {
     "name": "stdout",
     "output_type": "stream",
     "text": [
      "CSPR = 11.00 dB\n",
      "Results:\n",
      "BER: 3.13e-06\n",
      "SNR: 20.35 dB\n",
      "SIR =  7.12  dB\n",
      "GMI: 4.00 bits\n",
      "\n"
     ]
    },
    {
     "data": {
      "application/vnd.jupyter.widget-view+json": {
       "model_id": "9dce1aaadf604fb7b87de981f1caa036",
       "version_major": 2,
       "version_minor": 0
      },
      "text/plain": [
       "  0%|          | 0/1 [00:00<?, ?it/s]"
      ]
     },
     "metadata": {},
     "output_type": "display_data"
    },
    {
     "name": "stdout",
     "output_type": "stream",
     "text": [
      "CSPR = 11.00 dB\n",
      "Results:\n",
      "BER: 0.00e+00\n",
      "SNR: 21.32 dB\n",
      "SIR =  7.11  dB\n",
      "GMI: 4.00 bits\n",
      "\n"
     ]
    },
    {
     "data": {
      "application/vnd.jupyter.widget-view+json": {
       "model_id": "df454e6b4d6d421fb00e71facaf992cc",
       "version_major": 2,
       "version_minor": 0
      },
      "text/plain": [
       "  0%|          | 0/1 [00:00<?, ?it/s]"
      ]
     },
     "metadata": {},
     "output_type": "display_data"
    },
    {
     "name": "stdout",
     "output_type": "stream",
     "text": [
      "CSPR = 11.00 dB\n",
      "Results:\n",
      "BER: 0.00e+00\n",
      "SNR: 22.31 dB\n",
      "SIR =  7.12  dB\n",
      "GMI: 4.00 bits\n",
      "\n"
     ]
    },
    {
     "data": {
      "application/vnd.jupyter.widget-view+json": {
       "model_id": "279bcfee199c40db997b4957a9d89c8c",
       "version_major": 2,
       "version_minor": 0
      },
      "text/plain": [
       "  0%|          | 0/1 [00:00<?, ?it/s]"
      ]
     },
     "metadata": {},
     "output_type": "display_data"
    },
    {
     "name": "stdout",
     "output_type": "stream",
     "text": [
      "CSPR = 11.00 dB\n",
      "Results:\n",
      "BER: 0.00e+00\n",
      "SNR: 23.28 dB\n",
      "SIR =  7.1  dB\n",
      "GMI: 4.00 bits\n",
      "\n"
     ]
    },
    {
     "data": {
      "application/vnd.jupyter.widget-view+json": {
       "model_id": "4850576f1cbb4930a5a0d4143abf128a",
       "version_major": 2,
       "version_minor": 0
      },
      "text/plain": [
       "  0%|          | 0/1 [00:00<?, ?it/s]"
      ]
     },
     "metadata": {},
     "output_type": "display_data"
    },
    {
     "name": "stdout",
     "output_type": "stream",
     "text": [
      "CSPR = 11.00 dB\n",
      "Results:\n",
      "BER: 0.00e+00\n",
      "SNR: 24.26 dB\n",
      "SIR =  7.12  dB\n",
      "GMI: 4.00 bits\n",
      "\n"
     ]
    },
    {
     "data": {
      "application/vnd.jupyter.widget-view+json": {
       "model_id": "09b37e81f0dc48f99a2a4142358fd649",
       "version_major": 2,
       "version_minor": 0
      },
      "text/plain": [
       "  0%|          | 0/1 [00:00<?, ?it/s]"
      ]
     },
     "metadata": {},
     "output_type": "display_data"
    },
    {
     "name": "stdout",
     "output_type": "stream",
     "text": [
      "CSPR = 11.00 dB\n",
      "Results:\n",
      "BER: 0.00e+00\n",
      "SNR: 25.20 dB\n",
      "SIR =  7.11  dB\n",
      "GMI: 4.00 bits\n",
      "\n"
     ]
    },
    {
     "data": {
      "application/vnd.jupyter.widget-view+json": {
       "model_id": "d605d3fdb0a749fc99915c279cb6aaf8",
       "version_major": 2,
       "version_minor": 0
      },
      "text/plain": [
       "  0%|          | 0/10 [00:00<?, ?it/s]"
      ]
     },
     "metadata": {},
     "output_type": "display_data"
    },
    {
     "data": {
      "application/vnd.jupyter.widget-view+json": {
       "model_id": "2fd357dd89cc47b4821b6df5c2ac5f1d",
       "version_major": 2,
       "version_minor": 0
      },
      "text/plain": [
       "  0%|          | 0/1 [00:00<?, ?it/s]"
      ]
     },
     "metadata": {},
     "output_type": "display_data"
    },
    {
     "name": "stdout",
     "output_type": "stream",
     "text": [
      "CSPR = 12.00 dB\n",
      "Results:\n",
      "BER: 1.51e-03\n",
      "SNR: 16.35 dB\n",
      "SIR =  7.13  dB\n",
      "GMI: 3.98 bits\n",
      "\n"
     ]
    },
    {
     "data": {
      "application/vnd.jupyter.widget-view+json": {
       "model_id": "105f1e6334f84691a3deaeb545bc6e37",
       "version_major": 2,
       "version_minor": 0
      },
      "text/plain": [
       "  0%|          | 0/1 [00:00<?, ?it/s]"
      ]
     },
     "metadata": {},
     "output_type": "display_data"
    },
    {
     "name": "stdout",
     "output_type": "stream",
     "text": [
      "CSPR = 12.00 dB\n",
      "Results:\n",
      "BER: 3.62e-04\n",
      "SNR: 17.37 dB\n",
      "SIR =  7.08  dB\n",
      "GMI: 3.99 bits\n",
      "\n"
     ]
    },
    {
     "data": {
      "application/vnd.jupyter.widget-view+json": {
       "model_id": "ce0312987292454f9f760bc931bb0c6d",
       "version_major": 2,
       "version_minor": 0
      },
      "text/plain": [
       "  0%|          | 0/1 [00:00<?, ?it/s]"
      ]
     },
     "metadata": {},
     "output_type": "display_data"
    },
    {
     "name": "stdout",
     "output_type": "stream",
     "text": [
      "CSPR = 12.00 dB\n",
      "Results:\n",
      "BER: 6.25e-05\n",
      "SNR: 18.32 dB\n",
      "SIR =  7.13  dB\n",
      "GMI: 4.00 bits\n",
      "\n"
     ]
    },
    {
     "data": {
      "application/vnd.jupyter.widget-view+json": {
       "model_id": "b5e9d7adcd824418ac931c5f5fb3ffd1",
       "version_major": 2,
       "version_minor": 0
      },
      "text/plain": [
       "  0%|          | 0/1 [00:00<?, ?it/s]"
      ]
     },
     "metadata": {},
     "output_type": "display_data"
    },
    {
     "name": "stdout",
     "output_type": "stream",
     "text": [
      "CSPR = 12.00 dB\n",
      "Results:\n",
      "BER: 1.87e-05\n",
      "SNR: 19.32 dB\n",
      "SIR =  7.11  dB\n",
      "GMI: 4.00 bits\n",
      "\n"
     ]
    },
    {
     "data": {
      "application/vnd.jupyter.widget-view+json": {
       "model_id": "cf132a669ca7419fbad528268f8573bb",
       "version_major": 2,
       "version_minor": 0
      },
      "text/plain": [
       "  0%|          | 0/1 [00:00<?, ?it/s]"
      ]
     },
     "metadata": {},
     "output_type": "display_data"
    },
    {
     "name": "stdout",
     "output_type": "stream",
     "text": [
      "CSPR = 12.00 dB\n",
      "Results:\n",
      "BER: 0.00e+00\n",
      "SNR: 20.34 dB\n",
      "SIR =  7.12  dB\n",
      "GMI: 4.00 bits\n",
      "\n"
     ]
    },
    {
     "data": {
      "application/vnd.jupyter.widget-view+json": {
       "model_id": "6b42525a198a4ef5bb21a6f83d54bff7",
       "version_major": 2,
       "version_minor": 0
      },
      "text/plain": [
       "  0%|          | 0/1 [00:00<?, ?it/s]"
      ]
     },
     "metadata": {},
     "output_type": "display_data"
    },
    {
     "name": "stdout",
     "output_type": "stream",
     "text": [
      "CSPR = 12.00 dB\n",
      "Results:\n",
      "BER: 0.00e+00\n",
      "SNR: 21.34 dB\n",
      "SIR =  7.1  dB\n",
      "GMI: 4.00 bits\n",
      "\n"
     ]
    },
    {
     "data": {
      "application/vnd.jupyter.widget-view+json": {
       "model_id": "96a9383268ef46c2bd0ce6aa0d82a3f3",
       "version_major": 2,
       "version_minor": 0
      },
      "text/plain": [
       "  0%|          | 0/1 [00:00<?, ?it/s]"
      ]
     },
     "metadata": {},
     "output_type": "display_data"
    },
    {
     "name": "stdout",
     "output_type": "stream",
     "text": [
      "CSPR = 12.00 dB\n",
      "Results:\n",
      "BER: 0.00e+00\n",
      "SNR: 22.31 dB\n",
      "SIR =  7.11  dB\n",
      "GMI: 4.00 bits\n",
      "\n"
     ]
    },
    {
     "data": {
      "application/vnd.jupyter.widget-view+json": {
       "model_id": "e7aff740c1a84d738e3a9b8ffc85eb12",
       "version_major": 2,
       "version_minor": 0
      },
      "text/plain": [
       "  0%|          | 0/1 [00:00<?, ?it/s]"
      ]
     },
     "metadata": {},
     "output_type": "display_data"
    },
    {
     "name": "stdout",
     "output_type": "stream",
     "text": [
      "CSPR = 12.00 dB\n",
      "Results:\n",
      "BER: 0.00e+00\n",
      "SNR: 23.27 dB\n",
      "SIR =  7.11  dB\n",
      "GMI: 4.00 bits\n",
      "\n"
     ]
    },
    {
     "data": {
      "application/vnd.jupyter.widget-view+json": {
       "model_id": "6b801d74bf4e4614aa58408c46b95426",
       "version_major": 2,
       "version_minor": 0
      },
      "text/plain": [
       "  0%|          | 0/1 [00:00<?, ?it/s]"
      ]
     },
     "metadata": {},
     "output_type": "display_data"
    },
    {
     "name": "stdout",
     "output_type": "stream",
     "text": [
      "CSPR = 12.00 dB\n",
      "Results:\n",
      "BER: 0.00e+00\n",
      "SNR: 24.24 dB\n",
      "SIR =  7.09  dB\n",
      "GMI: 4.00 bits\n",
      "\n"
     ]
    },
    {
     "data": {
      "application/vnd.jupyter.widget-view+json": {
       "model_id": "0b3f7a2531004808a2be7d6a15104cdf",
       "version_major": 2,
       "version_minor": 0
      },
      "text/plain": [
       "  0%|          | 0/1 [00:00<?, ?it/s]"
      ]
     },
     "metadata": {},
     "output_type": "display_data"
    },
    {
     "name": "stdout",
     "output_type": "stream",
     "text": [
      "CSPR = 12.00 dB\n",
      "Results:\n",
      "BER: 0.00e+00\n",
      "SNR: 25.21 dB\n",
      "SIR =  7.12  dB\n",
      "GMI: 4.00 bits\n",
      "\n"
     ]
    },
    {
     "data": {
      "application/vnd.jupyter.widget-view+json": {
       "model_id": "74d00b5ac8fd4263a1bbd53aa0dc95d8",
       "version_major": 2,
       "version_minor": 0
      },
      "text/plain": [
       "  0%|          | 0/10 [00:00<?, ?it/s]"
      ]
     },
     "metadata": {},
     "output_type": "display_data"
    },
    {
     "data": {
      "application/vnd.jupyter.widget-view+json": {
       "model_id": "b719d5916fd04bb79a9dade4fe56118e",
       "version_major": 2,
       "version_minor": 0
      },
      "text/plain": [
       "  0%|          | 0/1 [00:00<?, ?it/s]"
      ]
     },
     "metadata": {},
     "output_type": "display_data"
    },
    {
     "name": "stdout",
     "output_type": "stream",
     "text": [
      "CSPR = 13.00 dB\n",
      "Results:\n",
      "BER: 1.31e-03\n",
      "SNR: 16.35 dB\n",
      "SIR =  7.09  dB\n",
      "GMI: 3.98 bits\n",
      "\n"
     ]
    },
    {
     "data": {
      "application/vnd.jupyter.widget-view+json": {
       "model_id": "5b92412e48234097b753f93f51c564e7",
       "version_major": 2,
       "version_minor": 0
      },
      "text/plain": [
       "  0%|          | 0/1 [00:00<?, ?it/s]"
      ]
     },
     "metadata": {},
     "output_type": "display_data"
    },
    {
     "name": "stdout",
     "output_type": "stream",
     "text": [
      "CSPR = 13.00 dB\n",
      "Results:\n",
      "BER: 4.44e-04\n",
      "SNR: 17.35 dB\n",
      "SIR =  7.1  dB\n",
      "GMI: 3.99 bits\n",
      "\n"
     ]
    },
    {
     "data": {
      "application/vnd.jupyter.widget-view+json": {
       "model_id": "f899077cf9124118a875d09a0883cddb",
       "version_major": 2,
       "version_minor": 0
      },
      "text/plain": [
       "  0%|          | 0/1 [00:00<?, ?it/s]"
      ]
     },
     "metadata": {},
     "output_type": "display_data"
    },
    {
     "name": "stdout",
     "output_type": "stream",
     "text": [
      "CSPR = 13.00 dB\n",
      "Results:\n",
      "BER: 9.06e-05\n",
      "SNR: 18.36 dB\n",
      "SIR =  7.11  dB\n",
      "GMI: 4.00 bits\n",
      "\n"
     ]
    },
    {
     "data": {
      "application/vnd.jupyter.widget-view+json": {
       "model_id": "b9ed43a7173e4f2388ca7ccbb83f3002",
       "version_major": 2,
       "version_minor": 0
      },
      "text/plain": [
       "  0%|          | 0/1 [00:00<?, ?it/s]"
      ]
     },
     "metadata": {},
     "output_type": "display_data"
    },
    {
     "name": "stdout",
     "output_type": "stream",
     "text": [
      "CSPR = 13.00 dB\n",
      "Results:\n",
      "BER: 1.87e-05\n",
      "SNR: 19.34 dB\n",
      "SIR =  7.1  dB\n",
      "GMI: 4.00 bits\n",
      "\n"
     ]
    },
    {
     "data": {
      "application/vnd.jupyter.widget-view+json": {
       "model_id": "e6a9987d2b1a4b0ab232ff27640f1894",
       "version_major": 2,
       "version_minor": 0
      },
      "text/plain": [
       "  0%|          | 0/1 [00:00<?, ?it/s]"
      ]
     },
     "metadata": {},
     "output_type": "display_data"
    },
    {
     "name": "stdout",
     "output_type": "stream",
     "text": [
      "CSPR = 13.00 dB\n",
      "Results:\n",
      "BER: 3.13e-06\n",
      "SNR: 20.31 dB\n",
      "SIR =  7.12  dB\n",
      "GMI: 4.00 bits\n",
      "\n"
     ]
    },
    {
     "data": {
      "application/vnd.jupyter.widget-view+json": {
       "model_id": "a4be56946bdd4da6b74b0448533b3099",
       "version_major": 2,
       "version_minor": 0
      },
      "text/plain": [
       "  0%|          | 0/1 [00:00<?, ?it/s]"
      ]
     },
     "metadata": {},
     "output_type": "display_data"
    },
    {
     "name": "stdout",
     "output_type": "stream",
     "text": [
      "CSPR = 13.00 dB\n",
      "Results:\n",
      "BER: 0.00e+00\n",
      "SNR: 21.32 dB\n",
      "SIR =  7.1  dB\n",
      "GMI: 4.00 bits\n",
      "\n"
     ]
    },
    {
     "data": {
      "application/vnd.jupyter.widget-view+json": {
       "model_id": "9d3dd40e9d0e4266b3ff8b317fcc9748",
       "version_major": 2,
       "version_minor": 0
      },
      "text/plain": [
       "  0%|          | 0/1 [00:00<?, ?it/s]"
      ]
     },
     "metadata": {},
     "output_type": "display_data"
    },
    {
     "name": "stdout",
     "output_type": "stream",
     "text": [
      "CSPR = 13.00 dB\n",
      "Results:\n",
      "BER: 0.00e+00\n",
      "SNR: 22.30 dB\n",
      "SIR =  7.09  dB\n",
      "GMI: 4.00 bits\n",
      "\n"
     ]
    },
    {
     "data": {
      "application/vnd.jupyter.widget-view+json": {
       "model_id": "37156c4af8314586b4be3f5f1ea41f6c",
       "version_major": 2,
       "version_minor": 0
      },
      "text/plain": [
       "  0%|          | 0/1 [00:00<?, ?it/s]"
      ]
     },
     "metadata": {},
     "output_type": "display_data"
    },
    {
     "name": "stdout",
     "output_type": "stream",
     "text": [
      "CSPR = 13.00 dB\n",
      "Results:\n",
      "BER: 0.00e+00\n",
      "SNR: 23.24 dB\n",
      "SIR =  7.11  dB\n",
      "GMI: 4.00 bits\n",
      "\n"
     ]
    },
    {
     "data": {
      "application/vnd.jupyter.widget-view+json": {
       "model_id": "06523d513f974a9ca59ab4820a3e3926",
       "version_major": 2,
       "version_minor": 0
      },
      "text/plain": [
       "  0%|          | 0/1 [00:00<?, ?it/s]"
      ]
     },
     "metadata": {},
     "output_type": "display_data"
    },
    {
     "name": "stdout",
     "output_type": "stream",
     "text": [
      "CSPR = 13.00 dB\n",
      "Results:\n",
      "BER: 0.00e+00\n",
      "SNR: 24.20 dB\n",
      "SIR =  7.08  dB\n",
      "GMI: 4.00 bits\n",
      "\n"
     ]
    },
    {
     "data": {
      "application/vnd.jupyter.widget-view+json": {
       "model_id": "a48df586631b41a5a23feb84e397832a",
       "version_major": 2,
       "version_minor": 0
      },
      "text/plain": [
       "  0%|          | 0/1 [00:00<?, ?it/s]"
      ]
     },
     "metadata": {},
     "output_type": "display_data"
    },
    {
     "name": "stdout",
     "output_type": "stream",
     "text": [
      "CSPR = 13.00 dB\n",
      "Results:\n",
      "BER: 0.00e+00\n",
      "SNR: 25.21 dB\n",
      "SIR =  7.11  dB\n",
      "GMI: 4.00 bits\n",
      "\n"
     ]
    },
    {
     "data": {
      "application/vnd.jupyter.widget-view+json": {
       "model_id": "5d736c1c59f04fddae066002ce8e6ad2",
       "version_major": 2,
       "version_minor": 0
      },
      "text/plain": [
       "  0%|          | 0/10 [00:00<?, ?it/s]"
      ]
     },
     "metadata": {},
     "output_type": "display_data"
    },
    {
     "data": {
      "application/vnd.jupyter.widget-view+json": {
       "model_id": "8eed67c798634c76b02f3865b7207a5b",
       "version_major": 2,
       "version_minor": 0
      },
      "text/plain": [
       "  0%|          | 0/1 [00:00<?, ?it/s]"
      ]
     },
     "metadata": {},
     "output_type": "display_data"
    },
    {
     "name": "stdout",
     "output_type": "stream",
     "text": [
      "CSPR = 14.00 dB\n",
      "Results:\n",
      "BER: 1.25e-03\n",
      "SNR: 16.40 dB\n",
      "SIR =  7.13  dB\n",
      "GMI: 3.98 bits\n",
      "\n"
     ]
    },
    {
     "data": {
      "application/vnd.jupyter.widget-view+json": {
       "model_id": "8d483899c1b241608ad377d89b04013d",
       "version_major": 2,
       "version_minor": 0
      },
      "text/plain": [
       "  0%|          | 0/1 [00:00<?, ?it/s]"
      ]
     },
     "metadata": {},
     "output_type": "display_data"
    },
    {
     "name": "stdout",
     "output_type": "stream",
     "text": [
      "CSPR = 14.00 dB\n",
      "Results:\n",
      "BER: 3.84e-04\n",
      "SNR: 17.37 dB\n",
      "SIR =  7.11  dB\n",
      "GMI: 3.99 bits\n",
      "\n"
     ]
    },
    {
     "data": {
      "application/vnd.jupyter.widget-view+json": {
       "model_id": "c5267b0af85542db86cce292231d545e",
       "version_major": 2,
       "version_minor": 0
      },
      "text/plain": [
       "  0%|          | 0/1 [00:00<?, ?it/s]"
      ]
     },
     "metadata": {},
     "output_type": "display_data"
    },
    {
     "name": "stdout",
     "output_type": "stream",
     "text": [
      "CSPR = 14.00 dB\n",
      "Results:\n",
      "BER: 9.69e-05\n",
      "SNR: 18.37 dB\n",
      "SIR =  7.11  dB\n",
      "GMI: 4.00 bits\n",
      "\n"
     ]
    },
    {
     "data": {
      "application/vnd.jupyter.widget-view+json": {
       "model_id": "ad85267fe5c147afa6341330659cdc7c",
       "version_major": 2,
       "version_minor": 0
      },
      "text/plain": [
       "  0%|          | 0/1 [00:00<?, ?it/s]"
      ]
     },
     "metadata": {},
     "output_type": "display_data"
    },
    {
     "name": "stdout",
     "output_type": "stream",
     "text": [
      "CSPR = 14.00 dB\n",
      "Results:\n",
      "BER: 1.25e-05\n",
      "SNR: 19.37 dB\n",
      "SIR =  7.11  dB\n",
      "GMI: 4.00 bits\n",
      "\n"
     ]
    },
    {
     "data": {
      "application/vnd.jupyter.widget-view+json": {
       "model_id": "e1c873f4cbeb46949f3099f720dc143c",
       "version_major": 2,
       "version_minor": 0
      },
      "text/plain": [
       "  0%|          | 0/1 [00:00<?, ?it/s]"
      ]
     },
     "metadata": {},
     "output_type": "display_data"
    },
    {
     "name": "stdout",
     "output_type": "stream",
     "text": [
      "CSPR = 14.00 dB\n",
      "Results:\n",
      "BER: 6.25e-06\n",
      "SNR: 20.36 dB\n",
      "SIR =  7.12  dB\n",
      "GMI: 4.00 bits\n",
      "\n"
     ]
    },
    {
     "data": {
      "application/vnd.jupyter.widget-view+json": {
       "model_id": "057896554ddc4affa5958a50b9f5dcee",
       "version_major": 2,
       "version_minor": 0
      },
      "text/plain": [
       "  0%|          | 0/1 [00:00<?, ?it/s]"
      ]
     },
     "metadata": {},
     "output_type": "display_data"
    },
    {
     "name": "stdout",
     "output_type": "stream",
     "text": [
      "CSPR = 14.00 dB\n",
      "Results:\n",
      "BER: 0.00e+00\n",
      "SNR: 21.33 dB\n",
      "SIR =  7.11  dB\n",
      "GMI: 4.00 bits\n",
      "\n"
     ]
    },
    {
     "data": {
      "application/vnd.jupyter.widget-view+json": {
       "model_id": "0f82bed7896d456c87ff2cb0411d5686",
       "version_major": 2,
       "version_minor": 0
      },
      "text/plain": [
       "  0%|          | 0/1 [00:00<?, ?it/s]"
      ]
     },
     "metadata": {},
     "output_type": "display_data"
    },
    {
     "name": "stdout",
     "output_type": "stream",
     "text": [
      "CSPR = 14.00 dB\n",
      "Results:\n",
      "BER: 0.00e+00\n",
      "SNR: 22.30 dB\n",
      "SIR =  7.11  dB\n",
      "GMI: 4.00 bits\n",
      "\n"
     ]
    },
    {
     "data": {
      "application/vnd.jupyter.widget-view+json": {
       "model_id": "41e99d9894004e9cb836edaec794ad36",
       "version_major": 2,
       "version_minor": 0
      },
      "text/plain": [
       "  0%|          | 0/1 [00:00<?, ?it/s]"
      ]
     },
     "metadata": {},
     "output_type": "display_data"
    },
    {
     "name": "stdout",
     "output_type": "stream",
     "text": [
      "CSPR = 14.00 dB\n",
      "Results:\n",
      "BER: 0.00e+00\n",
      "SNR: 23.27 dB\n",
      "SIR =  7.12  dB\n",
      "GMI: 4.00 bits\n",
      "\n"
     ]
    },
    {
     "data": {
      "application/vnd.jupyter.widget-view+json": {
       "model_id": "7d40d56b903244608b78d53eba311c3b",
       "version_major": 2,
       "version_minor": 0
      },
      "text/plain": [
       "  0%|          | 0/1 [00:00<?, ?it/s]"
      ]
     },
     "metadata": {},
     "output_type": "display_data"
    },
    {
     "name": "stdout",
     "output_type": "stream",
     "text": [
      "CSPR = 14.00 dB\n",
      "Results:\n",
      "BER: 0.00e+00\n",
      "SNR: 24.24 dB\n",
      "SIR =  7.11  dB\n",
      "GMI: 4.00 bits\n",
      "\n"
     ]
    },
    {
     "data": {
      "application/vnd.jupyter.widget-view+json": {
       "model_id": "03c6ecbe8dd44314820a359187bdef2b",
       "version_major": 2,
       "version_minor": 0
      },
      "text/plain": [
       "  0%|          | 0/1 [00:00<?, ?it/s]"
      ]
     },
     "metadata": {},
     "output_type": "display_data"
    },
    {
     "name": "stdout",
     "output_type": "stream",
     "text": [
      "CSPR = 14.00 dB\n",
      "Results:\n",
      "BER: 0.00e+00\n",
      "SNR: 25.22 dB\n",
      "SIR =  7.11  dB\n",
      "GMI: 4.00 bits\n",
      "\n"
     ]
    },
    {
     "data": {
      "application/vnd.jupyter.widget-view+json": {
       "model_id": "d5e8084018934293a7d575dd8e6b0ae1",
       "version_major": 2,
       "version_minor": 0
      },
      "text/plain": [
       "  0%|          | 0/10 [00:00<?, ?it/s]"
      ]
     },
     "metadata": {},
     "output_type": "display_data"
    },
    {
     "data": {
      "application/vnd.jupyter.widget-view+json": {
       "model_id": "f4bcee69ccab4aab9773e0544599f70d",
       "version_major": 2,
       "version_minor": 0
      },
      "text/plain": [
       "  0%|          | 0/1 [00:00<?, ?it/s]"
      ]
     },
     "metadata": {},
     "output_type": "display_data"
    },
    {
     "name": "stdout",
     "output_type": "stream",
     "text": [
      "CSPR = 15.00 dB\n",
      "Results:\n",
      "BER: 1.29e-03\n",
      "SNR: 16.36 dB\n",
      "SIR =  7.12  dB\n",
      "GMI: 3.98 bits\n",
      "\n"
     ]
    },
    {
     "data": {
      "application/vnd.jupyter.widget-view+json": {
       "model_id": "591dad4affb74ce487e2b9f4bd08eac6",
       "version_major": 2,
       "version_minor": 0
      },
      "text/plain": [
       "  0%|          | 0/1 [00:00<?, ?it/s]"
      ]
     },
     "metadata": {},
     "output_type": "display_data"
    },
    {
     "name": "stdout",
     "output_type": "stream",
     "text": [
      "CSPR = 15.00 dB\n",
      "Results:\n",
      "BER: 3.69e-04\n",
      "SNR: 17.36 dB\n",
      "SIR =  7.13  dB\n",
      "GMI: 3.99 bits\n",
      "\n"
     ]
    },
    {
     "data": {
      "application/vnd.jupyter.widget-view+json": {
       "model_id": "a63b5229503a494fbbc97c2dc5142170",
       "version_major": 2,
       "version_minor": 0
      },
      "text/plain": [
       "  0%|          | 0/1 [00:00<?, ?it/s]"
      ]
     },
     "metadata": {},
     "output_type": "display_data"
    },
    {
     "name": "stdout",
     "output_type": "stream",
     "text": [
      "CSPR = 15.00 dB\n",
      "Results:\n",
      "BER: 1.16e-04\n",
      "SNR: 18.38 dB\n",
      "SIR =  7.11  dB\n",
      "GMI: 4.00 bits\n",
      "\n"
     ]
    },
    {
     "data": {
      "application/vnd.jupyter.widget-view+json": {
       "model_id": "b30fdc423bfc4e6db843d8d69a7b82ec",
       "version_major": 2,
       "version_minor": 0
      },
      "text/plain": [
       "  0%|          | 0/1 [00:00<?, ?it/s]"
      ]
     },
     "metadata": {},
     "output_type": "display_data"
    },
    {
     "name": "stdout",
     "output_type": "stream",
     "text": [
      "CSPR = 15.00 dB\n",
      "Results:\n",
      "BER: 9.37e-06\n",
      "SNR: 19.33 dB\n",
      "SIR =  7.11  dB\n",
      "GMI: 4.00 bits\n",
      "\n"
     ]
    },
    {
     "data": {
      "application/vnd.jupyter.widget-view+json": {
       "model_id": "a25dcdfe2c4b44a4a29d84abbf357024",
       "version_major": 2,
       "version_minor": 0
      },
      "text/plain": [
       "  0%|          | 0/1 [00:00<?, ?it/s]"
      ]
     },
     "metadata": {},
     "output_type": "display_data"
    },
    {
     "name": "stdout",
     "output_type": "stream",
     "text": [
      "CSPR = 15.00 dB\n",
      "Results:\n",
      "BER: 3.13e-06\n",
      "SNR: 20.36 dB\n",
      "SIR =  7.13  dB\n",
      "GMI: 4.00 bits\n",
      "\n"
     ]
    },
    {
     "data": {
      "application/vnd.jupyter.widget-view+json": {
       "model_id": "a19421c72f5f46798ddfdf6bfb4d4c4f",
       "version_major": 2,
       "version_minor": 0
      },
      "text/plain": [
       "  0%|          | 0/1 [00:00<?, ?it/s]"
      ]
     },
     "metadata": {},
     "output_type": "display_data"
    },
    {
     "name": "stdout",
     "output_type": "stream",
     "text": [
      "CSPR = 15.00 dB\n",
      "Results:\n",
      "BER: 0.00e+00\n",
      "SNR: 21.29 dB\n",
      "SIR =  7.13  dB\n",
      "GMI: 4.00 bits\n",
      "\n"
     ]
    },
    {
     "data": {
      "application/vnd.jupyter.widget-view+json": {
       "model_id": "432688073be6438093bdb0b2f91bbc33",
       "version_major": 2,
       "version_minor": 0
      },
      "text/plain": [
       "  0%|          | 0/1 [00:00<?, ?it/s]"
      ]
     },
     "metadata": {},
     "output_type": "display_data"
    },
    {
     "name": "stdout",
     "output_type": "stream",
     "text": [
      "CSPR = 15.00 dB\n",
      "Results:\n",
      "BER: 0.00e+00\n",
      "SNR: 22.31 dB\n",
      "SIR =  7.12  dB\n",
      "GMI: 4.00 bits\n",
      "\n"
     ]
    },
    {
     "data": {
      "application/vnd.jupyter.widget-view+json": {
       "model_id": "33bc516a816445ca8fe29eafcb7f29f7",
       "version_major": 2,
       "version_minor": 0
      },
      "text/plain": [
       "  0%|          | 0/1 [00:00<?, ?it/s]"
      ]
     },
     "metadata": {},
     "output_type": "display_data"
    },
    {
     "name": "stdout",
     "output_type": "stream",
     "text": [
      "CSPR = 15.00 dB\n",
      "Results:\n",
      "BER: 0.00e+00\n",
      "SNR: 23.31 dB\n",
      "SIR =  7.11  dB\n",
      "GMI: 4.00 bits\n",
      "\n"
     ]
    },
    {
     "data": {
      "application/vnd.jupyter.widget-view+json": {
       "model_id": "1193b3a067c94f3ab116c5af7143dc74",
       "version_major": 2,
       "version_minor": 0
      },
      "text/plain": [
       "  0%|          | 0/1 [00:00<?, ?it/s]"
      ]
     },
     "metadata": {},
     "output_type": "display_data"
    },
    {
     "name": "stdout",
     "output_type": "stream",
     "text": [
      "CSPR = 15.00 dB\n",
      "Results:\n",
      "BER: 0.00e+00\n",
      "SNR: 24.23 dB\n",
      "SIR =  7.12  dB\n",
      "GMI: 4.00 bits\n",
      "\n"
     ]
    },
    {
     "data": {
      "application/vnd.jupyter.widget-view+json": {
       "model_id": "705415b4d52a4203abd1ca4424203fd2",
       "version_major": 2,
       "version_minor": 0
      },
      "text/plain": [
       "  0%|          | 0/1 [00:00<?, ?it/s]"
      ]
     },
     "metadata": {},
     "output_type": "display_data"
    },
    {
     "name": "stdout",
     "output_type": "stream",
     "text": [
      "CSPR = 15.00 dB\n",
      "Results:\n",
      "BER: 0.00e+00\n",
      "SNR: 25.17 dB\n",
      "SIR =  7.1  dB\n",
      "GMI: 4.00 bits\n",
      "\n"
     ]
    },
    {
     "data": {
      "application/vnd.jupyter.widget-view+json": {
       "model_id": "e53e1826aabf439baf1348476a253596",
       "version_major": 2,
       "version_minor": 0
      },
      "text/plain": [
       "  0%|          | 0/10 [00:00<?, ?it/s]"
      ]
     },
     "metadata": {},
     "output_type": "display_data"
    },
    {
     "data": {
      "application/vnd.jupyter.widget-view+json": {
       "model_id": "9b3e8adf86fb4447b2c0b6da6086ff87",
       "version_major": 2,
       "version_minor": 0
      },
      "text/plain": [
       "  0%|          | 0/10 [00:00<?, ?it/s]"
      ]
     },
     "metadata": {},
     "output_type": "display_data"
    },
    {
     "data": {
      "application/vnd.jupyter.widget-view+json": {
       "model_id": "5a78a3a10d3c4be5b290fc590bd26717",
       "version_major": 2,
       "version_minor": 0
      },
      "text/plain": [
       "  0%|          | 0/1 [00:00<?, ?it/s]"
      ]
     },
     "metadata": {},
     "output_type": "display_data"
    },
    {
     "name": "stdout",
     "output_type": "stream",
     "text": [
      "CSPR = 6.00 dB\n",
      "Results:\n",
      "BER: 1.43e-03\n",
      "SNR: 16.34 dB\n",
      "SIR =  7.11  dB\n",
      "GMI: 3.98 bits\n",
      "\n"
     ]
    },
    {
     "data": {
      "application/vnd.jupyter.widget-view+json": {
       "model_id": "efd47e63849345af81010a914316687d",
       "version_major": 2,
       "version_minor": 0
      },
      "text/plain": [
       "  0%|          | 0/1 [00:00<?, ?it/s]"
      ]
     },
     "metadata": {},
     "output_type": "display_data"
    },
    {
     "name": "stdout",
     "output_type": "stream",
     "text": [
      "CSPR = 6.00 dB\n",
      "Results:\n",
      "BER: 4.69e-04\n",
      "SNR: 17.38 dB\n",
      "SIR =  7.1  dB\n",
      "GMI: 3.99 bits\n",
      "\n"
     ]
    },
    {
     "data": {
      "application/vnd.jupyter.widget-view+json": {
       "model_id": "cdbee403c2ad485bba43920ba14781a2",
       "version_major": 2,
       "version_minor": 0
      },
      "text/plain": [
       "  0%|          | 0/1 [00:00<?, ?it/s]"
      ]
     },
     "metadata": {},
     "output_type": "display_data"
    },
    {
     "name": "stdout",
     "output_type": "stream",
     "text": [
      "CSPR = 6.00 dB\n",
      "Results:\n",
      "BER: 8.44e-05\n",
      "SNR: 18.36 dB\n",
      "SIR =  7.11  dB\n",
      "GMI: 4.00 bits\n",
      "\n"
     ]
    },
    {
     "data": {
      "application/vnd.jupyter.widget-view+json": {
       "model_id": "74208e80f8cc4704917b723efc4a04d1",
       "version_major": 2,
       "version_minor": 0
      },
      "text/plain": [
       "  0%|          | 0/1 [00:00<?, ?it/s]"
      ]
     },
     "metadata": {},
     "output_type": "display_data"
    },
    {
     "name": "stdout",
     "output_type": "stream",
     "text": [
      "CSPR = 6.00 dB\n",
      "Results:\n",
      "BER: 1.25e-05\n",
      "SNR: 19.33 dB\n",
      "SIR =  7.1  dB\n",
      "GMI: 4.00 bits\n",
      "\n"
     ]
    },
    {
     "data": {
      "application/vnd.jupyter.widget-view+json": {
       "model_id": "b9569cee93cd47d98871c68d65dc13f0",
       "version_major": 2,
       "version_minor": 0
      },
      "text/plain": [
       "  0%|          | 0/1 [00:00<?, ?it/s]"
      ]
     },
     "metadata": {},
     "output_type": "display_data"
    },
    {
     "name": "stdout",
     "output_type": "stream",
     "text": [
      "CSPR = 6.00 dB\n",
      "Results:\n",
      "BER: 3.13e-06\n",
      "SNR: 20.31 dB\n",
      "SIR =  7.1  dB\n",
      "GMI: 4.00 bits\n",
      "\n"
     ]
    },
    {
     "data": {
      "application/vnd.jupyter.widget-view+json": {
       "model_id": "8e8ef6d7cd2b478a9536c010b57a565f",
       "version_major": 2,
       "version_minor": 0
      },
      "text/plain": [
       "  0%|          | 0/1 [00:00<?, ?it/s]"
      ]
     },
     "metadata": {},
     "output_type": "display_data"
    },
    {
     "name": "stdout",
     "output_type": "stream",
     "text": [
      "CSPR = 6.00 dB\n",
      "Results:\n",
      "BER: 0.00e+00\n",
      "SNR: 21.30 dB\n",
      "SIR =  7.13  dB\n",
      "GMI: 4.00 bits\n",
      "\n"
     ]
    },
    {
     "data": {
      "application/vnd.jupyter.widget-view+json": {
       "model_id": "1160ab591d344189b4df89bf2b37052d",
       "version_major": 2,
       "version_minor": 0
      },
      "text/plain": [
       "  0%|          | 0/1 [00:00<?, ?it/s]"
      ]
     },
     "metadata": {},
     "output_type": "display_data"
    },
    {
     "name": "stdout",
     "output_type": "stream",
     "text": [
      "CSPR = 6.00 dB\n",
      "Results:\n",
      "BER: 0.00e+00\n",
      "SNR: 22.29 dB\n",
      "SIR =  7.12  dB\n",
      "GMI: 4.00 bits\n",
      "\n"
     ]
    },
    {
     "data": {
      "application/vnd.jupyter.widget-view+json": {
       "model_id": "e908739324f547488de92b2fe1016e38",
       "version_major": 2,
       "version_minor": 0
      },
      "text/plain": [
       "  0%|          | 0/1 [00:00<?, ?it/s]"
      ]
     },
     "metadata": {},
     "output_type": "display_data"
    },
    {
     "name": "stdout",
     "output_type": "stream",
     "text": [
      "CSPR = 6.00 dB\n",
      "Results:\n",
      "BER: 0.00e+00\n",
      "SNR: 23.29 dB\n",
      "SIR =  7.11  dB\n",
      "GMI: 4.00 bits\n",
      "\n"
     ]
    },
    {
     "data": {
      "application/vnd.jupyter.widget-view+json": {
       "model_id": "7c4b2dc8fb414acbab90ad224b97e11d",
       "version_major": 2,
       "version_minor": 0
      },
      "text/plain": [
       "  0%|          | 0/1 [00:00<?, ?it/s]"
      ]
     },
     "metadata": {},
     "output_type": "display_data"
    },
    {
     "name": "stdout",
     "output_type": "stream",
     "text": [
      "CSPR = 6.00 dB\n",
      "Results:\n",
      "BER: 0.00e+00\n",
      "SNR: 24.21 dB\n",
      "SIR =  7.12  dB\n",
      "GMI: 4.00 bits\n",
      "\n"
     ]
    },
    {
     "data": {
      "application/vnd.jupyter.widget-view+json": {
       "model_id": "3b044c1226e64da8ae4a4f9e56ec3d5f",
       "version_major": 2,
       "version_minor": 0
      },
      "text/plain": [
       "  0%|          | 0/1 [00:00<?, ?it/s]"
      ]
     },
     "metadata": {},
     "output_type": "display_data"
    },
    {
     "name": "stdout",
     "output_type": "stream",
     "text": [
      "CSPR = 6.00 dB\n",
      "Results:\n",
      "BER: 0.00e+00\n",
      "SNR: 25.22 dB\n",
      "SIR =  7.12  dB\n",
      "GMI: 4.00 bits\n",
      "\n"
     ]
    },
    {
     "data": {
      "application/vnd.jupyter.widget-view+json": {
       "model_id": "4eb742b3dde744e78e0bb7d02fbb490c",
       "version_major": 2,
       "version_minor": 0
      },
      "text/plain": [
       "  0%|          | 0/10 [00:00<?, ?it/s]"
      ]
     },
     "metadata": {},
     "output_type": "display_data"
    },
    {
     "data": {
      "application/vnd.jupyter.widget-view+json": {
       "model_id": "431f5d0190b94382968b6f176d26da1a",
       "version_major": 2,
       "version_minor": 0
      },
      "text/plain": [
       "  0%|          | 0/1 [00:00<?, ?it/s]"
      ]
     },
     "metadata": {},
     "output_type": "display_data"
    },
    {
     "name": "stdout",
     "output_type": "stream",
     "text": [
      "CSPR = 7.00 dB\n",
      "Results:\n",
      "BER: 1.30e-03\n",
      "SNR: 16.38 dB\n",
      "SIR =  7.11  dB\n",
      "GMI: 3.98 bits\n",
      "\n"
     ]
    },
    {
     "data": {
      "application/vnd.jupyter.widget-view+json": {
       "model_id": "e63495b2097c4ca094d24e2b67133b83",
       "version_major": 2,
       "version_minor": 0
      },
      "text/plain": [
       "  0%|          | 0/1 [00:00<?, ?it/s]"
      ]
     },
     "metadata": {},
     "output_type": "display_data"
    },
    {
     "name": "stdout",
     "output_type": "stream",
     "text": [
      "CSPR = 7.00 dB\n",
      "Results:\n",
      "BER: 4.09e-04\n",
      "SNR: 17.31 dB\n",
      "SIR =  7.12  dB\n",
      "GMI: 3.99 bits\n",
      "\n"
     ]
    },
    {
     "data": {
      "application/vnd.jupyter.widget-view+json": {
       "model_id": "0a93e679276c4f3f9fd3e6b4db52abe4",
       "version_major": 2,
       "version_minor": 0
      },
      "text/plain": [
       "  0%|          | 0/1 [00:00<?, ?it/s]"
      ]
     },
     "metadata": {},
     "output_type": "display_data"
    },
    {
     "name": "stdout",
     "output_type": "stream",
     "text": [
      "CSPR = 7.00 dB\n",
      "Results:\n",
      "BER: 1.09e-04\n",
      "SNR: 18.36 dB\n",
      "SIR =  7.12  dB\n",
      "GMI: 4.00 bits\n",
      "\n"
     ]
    },
    {
     "data": {
      "application/vnd.jupyter.widget-view+json": {
       "model_id": "7f3d777197a9452aa2d7081e0ee578fc",
       "version_major": 2,
       "version_minor": 0
      },
      "text/plain": [
       "  0%|          | 0/1 [00:00<?, ?it/s]"
      ]
     },
     "metadata": {},
     "output_type": "display_data"
    },
    {
     "name": "stdout",
     "output_type": "stream",
     "text": [
      "CSPR = 7.00 dB\n",
      "Results:\n",
      "BER: 6.25e-06\n",
      "SNR: 19.37 dB\n",
      "SIR =  7.09  dB\n",
      "GMI: 4.00 bits\n",
      "\n"
     ]
    },
    {
     "data": {
      "application/vnd.jupyter.widget-view+json": {
       "model_id": "46344bddeb104ea5a3e57f34b790d322",
       "version_major": 2,
       "version_minor": 0
      },
      "text/plain": [
       "  0%|          | 0/1 [00:00<?, ?it/s]"
      ]
     },
     "metadata": {},
     "output_type": "display_data"
    },
    {
     "name": "stdout",
     "output_type": "stream",
     "text": [
      "CSPR = 7.00 dB\n",
      "Results:\n",
      "BER: 0.00e+00\n",
      "SNR: 20.34 dB\n",
      "SIR =  7.11  dB\n",
      "GMI: 4.00 bits\n",
      "\n"
     ]
    },
    {
     "data": {
      "application/vnd.jupyter.widget-view+json": {
       "model_id": "1bfafe24a7ec45a3812e6ecaf511e46c",
       "version_major": 2,
       "version_minor": 0
      },
      "text/plain": [
       "  0%|          | 0/1 [00:00<?, ?it/s]"
      ]
     },
     "metadata": {},
     "output_type": "display_data"
    },
    {
     "name": "stdout",
     "output_type": "stream",
     "text": [
      "CSPR = 7.00 dB\n",
      "Results:\n",
      "BER: 0.00e+00\n",
      "SNR: 21.33 dB\n",
      "SIR =  7.14  dB\n",
      "GMI: 4.00 bits\n",
      "\n"
     ]
    },
    {
     "data": {
      "application/vnd.jupyter.widget-view+json": {
       "model_id": "c76b3f876a08415e99a8a4380edf9635",
       "version_major": 2,
       "version_minor": 0
      },
      "text/plain": [
       "  0%|          | 0/1 [00:00<?, ?it/s]"
      ]
     },
     "metadata": {},
     "output_type": "display_data"
    },
    {
     "name": "stdout",
     "output_type": "stream",
     "text": [
      "CSPR = 7.00 dB\n",
      "Results:\n",
      "BER: 0.00e+00\n",
      "SNR: 22.29 dB\n",
      "SIR =  7.11  dB\n",
      "GMI: 4.00 bits\n",
      "\n"
     ]
    },
    {
     "data": {
      "application/vnd.jupyter.widget-view+json": {
       "model_id": "abfd44b4a94b4e7b9ee1cd58fd3cc85a",
       "version_major": 2,
       "version_minor": 0
      },
      "text/plain": [
       "  0%|          | 0/1 [00:00<?, ?it/s]"
      ]
     },
     "metadata": {},
     "output_type": "display_data"
    },
    {
     "name": "stdout",
     "output_type": "stream",
     "text": [
      "CSPR = 7.00 dB\n",
      "Results:\n",
      "BER: 0.00e+00\n",
      "SNR: 23.25 dB\n",
      "SIR =  7.12  dB\n",
      "GMI: 4.00 bits\n",
      "\n"
     ]
    },
    {
     "data": {
      "application/vnd.jupyter.widget-view+json": {
       "model_id": "1f501f1f516641a2a458e1824b9b21d0",
       "version_major": 2,
       "version_minor": 0
      },
      "text/plain": [
       "  0%|          | 0/1 [00:00<?, ?it/s]"
      ]
     },
     "metadata": {},
     "output_type": "display_data"
    },
    {
     "name": "stdout",
     "output_type": "stream",
     "text": [
      "CSPR = 7.00 dB\n",
      "Results:\n",
      "BER: 0.00e+00\n",
      "SNR: 24.17 dB\n",
      "SIR =  7.11  dB\n",
      "GMI: 4.00 bits\n",
      "\n"
     ]
    },
    {
     "data": {
      "application/vnd.jupyter.widget-view+json": {
       "model_id": "c1ad25d1bcda44d998d7ca33ca3e3dc6",
       "version_major": 2,
       "version_minor": 0
      },
      "text/plain": [
       "  0%|          | 0/1 [00:00<?, ?it/s]"
      ]
     },
     "metadata": {},
     "output_type": "display_data"
    },
    {
     "name": "stdout",
     "output_type": "stream",
     "text": [
      "CSPR = 7.00 dB\n",
      "Results:\n",
      "BER: 0.00e+00\n",
      "SNR: 25.20 dB\n",
      "SIR =  7.14  dB\n",
      "GMI: 4.00 bits\n",
      "\n"
     ]
    },
    {
     "data": {
      "application/vnd.jupyter.widget-view+json": {
       "model_id": "d063c61c0572480985a5cc56c4dcbe3a",
       "version_major": 2,
       "version_minor": 0
      },
      "text/plain": [
       "  0%|          | 0/10 [00:00<?, ?it/s]"
      ]
     },
     "metadata": {},
     "output_type": "display_data"
    },
    {
     "data": {
      "application/vnd.jupyter.widget-view+json": {
       "model_id": "ad0882d73a964411b1a9239d8e45e407",
       "version_major": 2,
       "version_minor": 0
      },
      "text/plain": [
       "  0%|          | 0/1 [00:00<?, ?it/s]"
      ]
     },
     "metadata": {},
     "output_type": "display_data"
    },
    {
     "name": "stdout",
     "output_type": "stream",
     "text": [
      "CSPR = 8.00 dB\n",
      "Results:\n",
      "BER: 1.46e-03\n",
      "SNR: 16.37 dB\n",
      "SIR =  7.09  dB\n",
      "GMI: 3.98 bits\n",
      "\n"
     ]
    },
    {
     "data": {
      "application/vnd.jupyter.widget-view+json": {
       "model_id": "e398979236a44e07a514db4fcb5d0e07",
       "version_major": 2,
       "version_minor": 0
      },
      "text/plain": [
       "  0%|          | 0/1 [00:00<?, ?it/s]"
      ]
     },
     "metadata": {},
     "output_type": "display_data"
    },
    {
     "name": "stdout",
     "output_type": "stream",
     "text": [
      "CSPR = 8.00 dB\n",
      "Results:\n",
      "BER: 4.00e-04\n",
      "SNR: 17.32 dB\n",
      "SIR =  7.1  dB\n",
      "GMI: 3.99 bits\n",
      "\n"
     ]
    },
    {
     "data": {
      "application/vnd.jupyter.widget-view+json": {
       "model_id": "b0a36b6218b6447593399199e519892e",
       "version_major": 2,
       "version_minor": 0
      },
      "text/plain": [
       "  0%|          | 0/1 [00:00<?, ?it/s]"
      ]
     },
     "metadata": {},
     "output_type": "display_data"
    },
    {
     "name": "stdout",
     "output_type": "stream",
     "text": [
      "CSPR = 8.00 dB\n",
      "Results:\n",
      "BER: 1.09e-04\n",
      "SNR: 18.36 dB\n",
      "SIR =  7.11  dB\n",
      "GMI: 4.00 bits\n",
      "\n"
     ]
    },
    {
     "data": {
      "application/vnd.jupyter.widget-view+json": {
       "model_id": "762250ce89b449938ad95d84e5fe274c",
       "version_major": 2,
       "version_minor": 0
      },
      "text/plain": [
       "  0%|          | 0/1 [00:00<?, ?it/s]"
      ]
     },
     "metadata": {},
     "output_type": "display_data"
    },
    {
     "name": "stdout",
     "output_type": "stream",
     "text": [
      "CSPR = 8.00 dB\n",
      "Results:\n",
      "BER: 6.25e-06\n",
      "SNR: 19.34 dB\n",
      "SIR =  7.13  dB\n",
      "GMI: 4.00 bits\n",
      "\n"
     ]
    },
    {
     "data": {
      "application/vnd.jupyter.widget-view+json": {
       "model_id": "82209f2191cc4ee291333b648ea81a5b",
       "version_major": 2,
       "version_minor": 0
      },
      "text/plain": [
       "  0%|          | 0/1 [00:00<?, ?it/s]"
      ]
     },
     "metadata": {},
     "output_type": "display_data"
    },
    {
     "name": "stdout",
     "output_type": "stream",
     "text": [
      "CSPR = 8.00 dB\n",
      "Results:\n",
      "BER: 3.13e-06\n",
      "SNR: 20.33 dB\n",
      "SIR =  7.1  dB\n",
      "GMI: 4.00 bits\n",
      "\n"
     ]
    },
    {
     "data": {
      "application/vnd.jupyter.widget-view+json": {
       "model_id": "9ee4173422bf48379e124ae8fa89639a",
       "version_major": 2,
       "version_minor": 0
      },
      "text/plain": [
       "  0%|          | 0/1 [00:00<?, ?it/s]"
      ]
     },
     "metadata": {},
     "output_type": "display_data"
    },
    {
     "name": "stdout",
     "output_type": "stream",
     "text": [
      "CSPR = 8.00 dB\n",
      "Results:\n",
      "BER: 0.00e+00\n",
      "SNR: 21.31 dB\n",
      "SIR =  7.12  dB\n",
      "GMI: 4.00 bits\n",
      "\n"
     ]
    },
    {
     "data": {
      "application/vnd.jupyter.widget-view+json": {
       "model_id": "1d53b6f15a3549b682fc6efa8d4bf56e",
       "version_major": 2,
       "version_minor": 0
      },
      "text/plain": [
       "  0%|          | 0/1 [00:00<?, ?it/s]"
      ]
     },
     "metadata": {},
     "output_type": "display_data"
    },
    {
     "name": "stdout",
     "output_type": "stream",
     "text": [
      "CSPR = 8.00 dB\n",
      "Results:\n",
      "BER: 0.00e+00\n",
      "SNR: 22.30 dB\n",
      "SIR =  7.12  dB\n",
      "GMI: 4.00 bits\n",
      "\n"
     ]
    },
    {
     "data": {
      "application/vnd.jupyter.widget-view+json": {
       "model_id": "163ad0f646ab40edb6edd90c834b9520",
       "version_major": 2,
       "version_minor": 0
      },
      "text/plain": [
       "  0%|          | 0/1 [00:00<?, ?it/s]"
      ]
     },
     "metadata": {},
     "output_type": "display_data"
    },
    {
     "name": "stdout",
     "output_type": "stream",
     "text": [
      "CSPR = 8.00 dB\n",
      "Results:\n",
      "BER: 0.00e+00\n",
      "SNR: 23.25 dB\n",
      "SIR =  7.1  dB\n",
      "GMI: 4.00 bits\n",
      "\n"
     ]
    },
    {
     "data": {
      "application/vnd.jupyter.widget-view+json": {
       "model_id": "0c19410d2d0941bb8e2533925c455f4c",
       "version_major": 2,
       "version_minor": 0
      },
      "text/plain": [
       "  0%|          | 0/1 [00:00<?, ?it/s]"
      ]
     },
     "metadata": {},
     "output_type": "display_data"
    },
    {
     "name": "stdout",
     "output_type": "stream",
     "text": [
      "CSPR = 8.00 dB\n",
      "Results:\n",
      "BER: 0.00e+00\n",
      "SNR: 24.21 dB\n",
      "SIR =  7.11  dB\n",
      "GMI: 4.00 bits\n",
      "\n"
     ]
    },
    {
     "data": {
      "application/vnd.jupyter.widget-view+json": {
       "model_id": "7b63896d79a64d3c98d1be2481aa8769",
       "version_major": 2,
       "version_minor": 0
      },
      "text/plain": [
       "  0%|          | 0/1 [00:00<?, ?it/s]"
      ]
     },
     "metadata": {},
     "output_type": "display_data"
    },
    {
     "name": "stdout",
     "output_type": "stream",
     "text": [
      "CSPR = 8.00 dB\n",
      "Results:\n",
      "BER: 0.00e+00\n",
      "SNR: 25.22 dB\n",
      "SIR =  7.12  dB\n",
      "GMI: 4.00 bits\n",
      "\n"
     ]
    },
    {
     "data": {
      "application/vnd.jupyter.widget-view+json": {
       "model_id": "e15cbf73a140435697700ca81fd0ed0a",
       "version_major": 2,
       "version_minor": 0
      },
      "text/plain": [
       "  0%|          | 0/10 [00:00<?, ?it/s]"
      ]
     },
     "metadata": {},
     "output_type": "display_data"
    },
    {
     "data": {
      "application/vnd.jupyter.widget-view+json": {
       "model_id": "c47aef0059d34e818e05992070c9c9c2",
       "version_major": 2,
       "version_minor": 0
      },
      "text/plain": [
       "  0%|          | 0/1 [00:00<?, ?it/s]"
      ]
     },
     "metadata": {},
     "output_type": "display_data"
    },
    {
     "name": "stdout",
     "output_type": "stream",
     "text": [
      "CSPR = 9.00 dB\n",
      "Results:\n",
      "BER: 1.33e-03\n",
      "SNR: 16.38 dB\n",
      "SIR =  7.12  dB\n",
      "GMI: 3.98 bits\n",
      "\n"
     ]
    },
    {
     "data": {
      "application/vnd.jupyter.widget-view+json": {
       "model_id": "b6be4d80a7de4353b91dab01313a9cb4",
       "version_major": 2,
       "version_minor": 0
      },
      "text/plain": [
       "  0%|          | 0/1 [00:00<?, ?it/s]"
      ]
     },
     "metadata": {},
     "output_type": "display_data"
    },
    {
     "name": "stdout",
     "output_type": "stream",
     "text": [
      "CSPR = 9.00 dB\n",
      "Results:\n",
      "BER: 4.00e-04\n",
      "SNR: 17.34 dB\n",
      "SIR =  7.1  dB\n",
      "GMI: 3.99 bits\n",
      "\n"
     ]
    },
    {
     "data": {
      "application/vnd.jupyter.widget-view+json": {
       "model_id": "600e4a6753e440f89054480484acedc2",
       "version_major": 2,
       "version_minor": 0
      },
      "text/plain": [
       "  0%|          | 0/1 [00:00<?, ?it/s]"
      ]
     },
     "metadata": {},
     "output_type": "display_data"
    },
    {
     "name": "stdout",
     "output_type": "stream",
     "text": [
      "CSPR = 9.00 dB\n",
      "Results:\n",
      "BER: 1.03e-04\n",
      "SNR: 18.36 dB\n",
      "SIR =  7.11  dB\n",
      "GMI: 4.00 bits\n",
      "\n"
     ]
    },
    {
     "data": {
      "application/vnd.jupyter.widget-view+json": {
       "model_id": "6da209424f4448c89efd00f5def27093",
       "version_major": 2,
       "version_minor": 0
      },
      "text/plain": [
       "  0%|          | 0/1 [00:00<?, ?it/s]"
      ]
     },
     "metadata": {},
     "output_type": "display_data"
    },
    {
     "name": "stdout",
     "output_type": "stream",
     "text": [
      "CSPR = 9.00 dB\n",
      "Results:\n",
      "BER: 1.56e-05\n",
      "SNR: 19.36 dB\n",
      "SIR =  7.12  dB\n",
      "GMI: 4.00 bits\n",
      "\n"
     ]
    },
    {
     "data": {
      "application/vnd.jupyter.widget-view+json": {
       "model_id": "7b53cc2361aa4858b7e9cdfcc1c8c734",
       "version_major": 2,
       "version_minor": 0
      },
      "text/plain": [
       "  0%|          | 0/1 [00:00<?, ?it/s]"
      ]
     },
     "metadata": {},
     "output_type": "display_data"
    },
    {
     "name": "stdout",
     "output_type": "stream",
     "text": [
      "CSPR = 9.00 dB\n",
      "Results:\n",
      "BER: 0.00e+00\n",
      "SNR: 20.33 dB\n",
      "SIR =  7.1  dB\n",
      "GMI: 4.00 bits\n",
      "\n"
     ]
    },
    {
     "data": {
      "application/vnd.jupyter.widget-view+json": {
       "model_id": "faea1f7479914f99bf4f8e32a6d4485a",
       "version_major": 2,
       "version_minor": 0
      },
      "text/plain": [
       "  0%|          | 0/1 [00:00<?, ?it/s]"
      ]
     },
     "metadata": {},
     "output_type": "display_data"
    },
    {
     "name": "stdout",
     "output_type": "stream",
     "text": [
      "CSPR = 9.00 dB\n",
      "Results:\n",
      "BER: 0.00e+00\n",
      "SNR: 21.32 dB\n",
      "SIR =  7.13  dB\n",
      "GMI: 4.00 bits\n",
      "\n"
     ]
    },
    {
     "data": {
      "application/vnd.jupyter.widget-view+json": {
       "model_id": "6d72bd5e14e74c8f80a62304d8ee8a03",
       "version_major": 2,
       "version_minor": 0
      },
      "text/plain": [
       "  0%|          | 0/1 [00:00<?, ?it/s]"
      ]
     },
     "metadata": {},
     "output_type": "display_data"
    },
    {
     "name": "stdout",
     "output_type": "stream",
     "text": [
      "CSPR = 9.00 dB\n",
      "Results:\n",
      "BER: 0.00e+00\n",
      "SNR: 22.29 dB\n",
      "SIR =  7.1  dB\n",
      "GMI: 4.00 bits\n",
      "\n"
     ]
    },
    {
     "data": {
      "application/vnd.jupyter.widget-view+json": {
       "model_id": "6121b7bdafa246c98d6b13e4444ea7f6",
       "version_major": 2,
       "version_minor": 0
      },
      "text/plain": [
       "  0%|          | 0/1 [00:00<?, ?it/s]"
      ]
     },
     "metadata": {},
     "output_type": "display_data"
    },
    {
     "name": "stdout",
     "output_type": "stream",
     "text": [
      "CSPR = 9.00 dB\n",
      "Results:\n",
      "BER: 0.00e+00\n",
      "SNR: 23.24 dB\n",
      "SIR =  7.1  dB\n",
      "GMI: 4.00 bits\n",
      "\n"
     ]
    },
    {
     "data": {
      "application/vnd.jupyter.widget-view+json": {
       "model_id": "c6435e3b63924c49a83f47c701e6f94c",
       "version_major": 2,
       "version_minor": 0
      },
      "text/plain": [
       "  0%|          | 0/1 [00:00<?, ?it/s]"
      ]
     },
     "metadata": {},
     "output_type": "display_data"
    },
    {
     "name": "stdout",
     "output_type": "stream",
     "text": [
      "CSPR = 9.00 dB\n",
      "Results:\n",
      "BER: 0.00e+00\n",
      "SNR: 24.25 dB\n",
      "SIR =  7.13  dB\n",
      "GMI: 4.00 bits\n",
      "\n"
     ]
    },
    {
     "data": {
      "application/vnd.jupyter.widget-view+json": {
       "model_id": "ba1a76d8e9df4a5bbd9312aa02a0bc9f",
       "version_major": 2,
       "version_minor": 0
      },
      "text/plain": [
       "  0%|          | 0/1 [00:00<?, ?it/s]"
      ]
     },
     "metadata": {},
     "output_type": "display_data"
    },
    {
     "name": "stdout",
     "output_type": "stream",
     "text": [
      "CSPR = 9.00 dB\n",
      "Results:\n",
      "BER: 0.00e+00\n",
      "SNR: 25.23 dB\n",
      "SIR =  7.1  dB\n",
      "GMI: 4.00 bits\n",
      "\n"
     ]
    },
    {
     "data": {
      "application/vnd.jupyter.widget-view+json": {
       "model_id": "cc301978690740bb85584b9cfeb2b66b",
       "version_major": 2,
       "version_minor": 0
      },
      "text/plain": [
       "  0%|          | 0/10 [00:00<?, ?it/s]"
      ]
     },
     "metadata": {},
     "output_type": "display_data"
    },
    {
     "data": {
      "application/vnd.jupyter.widget-view+json": {
       "model_id": "21f4259959514f7aad6c8cc0dc993b2c",
       "version_major": 2,
       "version_minor": 0
      },
      "text/plain": [
       "  0%|          | 0/1 [00:00<?, ?it/s]"
      ]
     },
     "metadata": {},
     "output_type": "display_data"
    },
    {
     "name": "stdout",
     "output_type": "stream",
     "text": [
      "CSPR = 10.00 dB\n",
      "Results:\n",
      "BER: 1.44e-03\n",
      "SNR: 16.36 dB\n",
      "SIR =  7.11  dB\n",
      "GMI: 3.98 bits\n",
      "\n"
     ]
    },
    {
     "data": {
      "application/vnd.jupyter.widget-view+json": {
       "model_id": "67a17fbb9ecc412489f34ccc124aea42",
       "version_major": 2,
       "version_minor": 0
      },
      "text/plain": [
       "  0%|          | 0/1 [00:00<?, ?it/s]"
      ]
     },
     "metadata": {},
     "output_type": "display_data"
    },
    {
     "name": "stdout",
     "output_type": "stream",
     "text": [
      "CSPR = 10.00 dB\n",
      "Results:\n",
      "BER: 4.50e-04\n",
      "SNR: 17.34 dB\n",
      "SIR =  7.12  dB\n",
      "GMI: 3.99 bits\n",
      "\n"
     ]
    },
    {
     "data": {
      "application/vnd.jupyter.widget-view+json": {
       "model_id": "ec765d2f14284ef7ac36006d481e5af5",
       "version_major": 2,
       "version_minor": 0
      },
      "text/plain": [
       "  0%|          | 0/1 [00:00<?, ?it/s]"
      ]
     },
     "metadata": {},
     "output_type": "display_data"
    },
    {
     "name": "stdout",
     "output_type": "stream",
     "text": [
      "CSPR = 10.00 dB\n",
      "Results:\n",
      "BER: 1.00e-04\n",
      "SNR: 18.37 dB\n",
      "SIR =  7.1  dB\n",
      "GMI: 4.00 bits\n",
      "\n"
     ]
    },
    {
     "data": {
      "application/vnd.jupyter.widget-view+json": {
       "model_id": "fb7a416f86ee49d39f9c87e81fdeb3e0",
       "version_major": 2,
       "version_minor": 0
      },
      "text/plain": [
       "  0%|          | 0/1 [00:00<?, ?it/s]"
      ]
     },
     "metadata": {},
     "output_type": "display_data"
    },
    {
     "name": "stdout",
     "output_type": "stream",
     "text": [
      "CSPR = 10.00 dB\n",
      "Results:\n",
      "BER: 3.13e-05\n",
      "SNR: 19.35 dB\n",
      "SIR =  7.12  dB\n",
      "GMI: 4.00 bits\n",
      "\n"
     ]
    },
    {
     "data": {
      "application/vnd.jupyter.widget-view+json": {
       "model_id": "039fa2bf9863458c99250dc96e9cc227",
       "version_major": 2,
       "version_minor": 0
      },
      "text/plain": [
       "  0%|          | 0/1 [00:00<?, ?it/s]"
      ]
     },
     "metadata": {},
     "output_type": "display_data"
    },
    {
     "name": "stdout",
     "output_type": "stream",
     "text": [
      "CSPR = 10.00 dB\n",
      "Results:\n",
      "BER: 0.00e+00\n",
      "SNR: 20.34 dB\n",
      "SIR =  7.13  dB\n",
      "GMI: 4.00 bits\n",
      "\n"
     ]
    },
    {
     "data": {
      "application/vnd.jupyter.widget-view+json": {
       "model_id": "646ff301fe1b4b149de62159e2be6d01",
       "version_major": 2,
       "version_minor": 0
      },
      "text/plain": [
       "  0%|          | 0/1 [00:00<?, ?it/s]"
      ]
     },
     "metadata": {},
     "output_type": "display_data"
    },
    {
     "name": "stdout",
     "output_type": "stream",
     "text": [
      "CSPR = 10.00 dB\n",
      "Results:\n",
      "BER: 0.00e+00\n",
      "SNR: 21.30 dB\n",
      "SIR =  7.12  dB\n",
      "GMI: 4.00 bits\n",
      "\n"
     ]
    },
    {
     "data": {
      "application/vnd.jupyter.widget-view+json": {
       "model_id": "fde84407865e4851b342e32e9d71b192",
       "version_major": 2,
       "version_minor": 0
      },
      "text/plain": [
       "  0%|          | 0/1 [00:00<?, ?it/s]"
      ]
     },
     "metadata": {},
     "output_type": "display_data"
    },
    {
     "name": "stdout",
     "output_type": "stream",
     "text": [
      "CSPR = 10.00 dB\n",
      "Results:\n",
      "BER: 0.00e+00\n",
      "SNR: 22.31 dB\n",
      "SIR =  7.11  dB\n",
      "GMI: 4.00 bits\n",
      "\n"
     ]
    },
    {
     "data": {
      "application/vnd.jupyter.widget-view+json": {
       "model_id": "7097352e2deb4936b2a1b49c60745fd0",
       "version_major": 2,
       "version_minor": 0
      },
      "text/plain": [
       "  0%|          | 0/1 [00:00<?, ?it/s]"
      ]
     },
     "metadata": {},
     "output_type": "display_data"
    },
    {
     "name": "stdout",
     "output_type": "stream",
     "text": [
      "CSPR = 10.00 dB\n",
      "Results:\n",
      "BER: 0.00e+00\n",
      "SNR: 23.25 dB\n",
      "SIR =  7.13  dB\n",
      "GMI: 4.00 bits\n",
      "\n"
     ]
    },
    {
     "data": {
      "application/vnd.jupyter.widget-view+json": {
       "model_id": "d495047064374368b604d18fc929a0a4",
       "version_major": 2,
       "version_minor": 0
      },
      "text/plain": [
       "  0%|          | 0/1 [00:00<?, ?it/s]"
      ]
     },
     "metadata": {},
     "output_type": "display_data"
    },
    {
     "name": "stdout",
     "output_type": "stream",
     "text": [
      "CSPR = 10.00 dB\n",
      "Results:\n",
      "BER: 0.00e+00\n",
      "SNR: 24.25 dB\n",
      "SIR =  7.11  dB\n",
      "GMI: 4.00 bits\n",
      "\n"
     ]
    },
    {
     "data": {
      "application/vnd.jupyter.widget-view+json": {
       "model_id": "12616abe802c4361bd0b787c5622905e",
       "version_major": 2,
       "version_minor": 0
      },
      "text/plain": [
       "  0%|          | 0/1 [00:00<?, ?it/s]"
      ]
     },
     "metadata": {},
     "output_type": "display_data"
    },
    {
     "name": "stdout",
     "output_type": "stream",
     "text": [
      "CSPR = 10.00 dB\n",
      "Results:\n",
      "BER: 0.00e+00\n",
      "SNR: 25.20 dB\n",
      "SIR =  7.12  dB\n",
      "GMI: 4.00 bits\n",
      "\n"
     ]
    },
    {
     "data": {
      "application/vnd.jupyter.widget-view+json": {
       "model_id": "7d840dcca42347258f6dc0f4fbc40edc",
       "version_major": 2,
       "version_minor": 0
      },
      "text/plain": [
       "  0%|          | 0/10 [00:00<?, ?it/s]"
      ]
     },
     "metadata": {},
     "output_type": "display_data"
    },
    {
     "data": {
      "application/vnd.jupyter.widget-view+json": {
       "model_id": "1729ff6317de44c1b206baf44360ba7c",
       "version_major": 2,
       "version_minor": 0
      },
      "text/plain": [
       "  0%|          | 0/1 [00:00<?, ?it/s]"
      ]
     },
     "metadata": {},
     "output_type": "display_data"
    },
    {
     "name": "stdout",
     "output_type": "stream",
     "text": [
      "CSPR = 11.00 dB\n",
      "Results:\n",
      "BER: 1.20e-03\n",
      "SNR: 16.37 dB\n",
      "SIR =  7.11  dB\n",
      "GMI: 3.98 bits\n",
      "\n"
     ]
    },
    {
     "data": {
      "application/vnd.jupyter.widget-view+json": {
       "model_id": "0e357e56eae345498cd71135ee4e5b23",
       "version_major": 2,
       "version_minor": 0
      },
      "text/plain": [
       "  0%|          | 0/1 [00:00<?, ?it/s]"
      ]
     },
     "metadata": {},
     "output_type": "display_data"
    },
    {
     "name": "stdout",
     "output_type": "stream",
     "text": [
      "CSPR = 11.00 dB\n",
      "Results:\n",
      "BER: 4.12e-04\n",
      "SNR: 17.35 dB\n",
      "SIR =  7.11  dB\n",
      "GMI: 3.99 bits\n",
      "\n"
     ]
    },
    {
     "data": {
      "application/vnd.jupyter.widget-view+json": {
       "model_id": "4603557509fa49aab6e5b7aeca934b3b",
       "version_major": 2,
       "version_minor": 0
      },
      "text/plain": [
       "  0%|          | 0/1 [00:00<?, ?it/s]"
      ]
     },
     "metadata": {},
     "output_type": "display_data"
    },
    {
     "name": "stdout",
     "output_type": "stream",
     "text": [
      "CSPR = 11.00 dB\n",
      "Results:\n",
      "BER: 6.56e-05\n",
      "SNR: 18.35 dB\n",
      "SIR =  7.13  dB\n",
      "GMI: 4.00 bits\n",
      "\n"
     ]
    },
    {
     "data": {
      "application/vnd.jupyter.widget-view+json": {
       "model_id": "05046af51ee4457fa067b82b208db173",
       "version_major": 2,
       "version_minor": 0
      },
      "text/plain": [
       "  0%|          | 0/1 [00:00<?, ?it/s]"
      ]
     },
     "metadata": {},
     "output_type": "display_data"
    },
    {
     "name": "stdout",
     "output_type": "stream",
     "text": [
      "CSPR = 11.00 dB\n",
      "Results:\n",
      "BER: 2.50e-05\n",
      "SNR: 19.34 dB\n",
      "SIR =  7.11  dB\n",
      "GMI: 4.00 bits\n",
      "\n"
     ]
    },
    {
     "data": {
      "application/vnd.jupyter.widget-view+json": {
       "model_id": "3b927603df1245c7baec191a371781eb",
       "version_major": 2,
       "version_minor": 0
      },
      "text/plain": [
       "  0%|          | 0/1 [00:00<?, ?it/s]"
      ]
     },
     "metadata": {},
     "output_type": "display_data"
    },
    {
     "name": "stdout",
     "output_type": "stream",
     "text": [
      "CSPR = 11.00 dB\n",
      "Results:\n",
      "BER: 0.00e+00\n",
      "SNR: 20.34 dB\n",
      "SIR =  7.11  dB\n",
      "GMI: 4.00 bits\n",
      "\n"
     ]
    },
    {
     "data": {
      "application/vnd.jupyter.widget-view+json": {
       "model_id": "2eb9a176bf3240798ab15c7046dec786",
       "version_major": 2,
       "version_minor": 0
      },
      "text/plain": [
       "  0%|          | 0/1 [00:00<?, ?it/s]"
      ]
     },
     "metadata": {},
     "output_type": "display_data"
    },
    {
     "name": "stdout",
     "output_type": "stream",
     "text": [
      "CSPR = 11.00 dB\n",
      "Results:\n",
      "BER: 0.00e+00\n",
      "SNR: 21.32 dB\n",
      "SIR =  7.12  dB\n",
      "GMI: 4.00 bits\n",
      "\n"
     ]
    },
    {
     "data": {
      "application/vnd.jupyter.widget-view+json": {
       "model_id": "ceb6b4a466d54be7852e828574916b45",
       "version_major": 2,
       "version_minor": 0
      },
      "text/plain": [
       "  0%|          | 0/1 [00:00<?, ?it/s]"
      ]
     },
     "metadata": {},
     "output_type": "display_data"
    },
    {
     "name": "stdout",
     "output_type": "stream",
     "text": [
      "CSPR = 11.00 dB\n",
      "Results:\n",
      "BER: 0.00e+00\n",
      "SNR: 22.30 dB\n",
      "SIR =  7.12  dB\n",
      "GMI: 4.00 bits\n",
      "\n"
     ]
    },
    {
     "data": {
      "application/vnd.jupyter.widget-view+json": {
       "model_id": "50e48b5eff4b40579a152107710a05df",
       "version_major": 2,
       "version_minor": 0
      },
      "text/plain": [
       "  0%|          | 0/1 [00:00<?, ?it/s]"
      ]
     },
     "metadata": {},
     "output_type": "display_data"
    },
    {
     "name": "stdout",
     "output_type": "stream",
     "text": [
      "CSPR = 11.00 dB\n",
      "Results:\n",
      "BER: 0.00e+00\n",
      "SNR: 23.29 dB\n",
      "SIR =  7.11  dB\n",
      "GMI: 4.00 bits\n",
      "\n"
     ]
    },
    {
     "data": {
      "application/vnd.jupyter.widget-view+json": {
       "model_id": "664ecf05c71f494db08e2b2e141c884b",
       "version_major": 2,
       "version_minor": 0
      },
      "text/plain": [
       "  0%|          | 0/1 [00:00<?, ?it/s]"
      ]
     },
     "metadata": {},
     "output_type": "display_data"
    },
    {
     "name": "stdout",
     "output_type": "stream",
     "text": [
      "CSPR = 11.00 dB\n",
      "Results:\n",
      "BER: 0.00e+00\n",
      "SNR: 24.24 dB\n",
      "SIR =  7.12  dB\n",
      "GMI: 4.00 bits\n",
      "\n"
     ]
    },
    {
     "data": {
      "application/vnd.jupyter.widget-view+json": {
       "model_id": "9cc00b092026485698dc4eeca747186f",
       "version_major": 2,
       "version_minor": 0
      },
      "text/plain": [
       "  0%|          | 0/1 [00:00<?, ?it/s]"
      ]
     },
     "metadata": {},
     "output_type": "display_data"
    },
    {
     "name": "stdout",
     "output_type": "stream",
     "text": [
      "CSPR = 11.00 dB\n",
      "Results:\n",
      "BER: 0.00e+00\n",
      "SNR: 25.21 dB\n",
      "SIR =  7.11  dB\n",
      "GMI: 4.00 bits\n",
      "\n"
     ]
    },
    {
     "data": {
      "application/vnd.jupyter.widget-view+json": {
       "model_id": "ca1441b42721432397191e2a1957c5f7",
       "version_major": 2,
       "version_minor": 0
      },
      "text/plain": [
       "  0%|          | 0/10 [00:00<?, ?it/s]"
      ]
     },
     "metadata": {},
     "output_type": "display_data"
    },
    {
     "data": {
      "application/vnd.jupyter.widget-view+json": {
       "model_id": "2c07c21e29f3424882b3a15a5860c7a0",
       "version_major": 2,
       "version_minor": 0
      },
      "text/plain": [
       "  0%|          | 0/1 [00:00<?, ?it/s]"
      ]
     },
     "metadata": {},
     "output_type": "display_data"
    },
    {
     "name": "stdout",
     "output_type": "stream",
     "text": [
      "CSPR = 12.00 dB\n",
      "Results:\n",
      "BER: 1.29e-03\n",
      "SNR: 16.34 dB\n",
      "SIR =  7.12  dB\n",
      "GMI: 3.98 bits\n",
      "\n"
     ]
    },
    {
     "data": {
      "application/vnd.jupyter.widget-view+json": {
       "model_id": "6c83811f7d6847b7bcd66783f1ff741c",
       "version_major": 2,
       "version_minor": 0
      },
      "text/plain": [
       "  0%|          | 0/1 [00:00<?, ?it/s]"
      ]
     },
     "metadata": {},
     "output_type": "display_data"
    },
    {
     "name": "stdout",
     "output_type": "stream",
     "text": [
      "CSPR = 12.00 dB\n",
      "Results:\n",
      "BER: 3.34e-04\n",
      "SNR: 17.36 dB\n",
      "SIR =  7.12  dB\n",
      "GMI: 3.99 bits\n",
      "\n"
     ]
    },
    {
     "data": {
      "application/vnd.jupyter.widget-view+json": {
       "model_id": "1da2951850004154924279b7a8830be7",
       "version_major": 2,
       "version_minor": 0
      },
      "text/plain": [
       "  0%|          | 0/1 [00:00<?, ?it/s]"
      ]
     },
     "metadata": {},
     "output_type": "display_data"
    },
    {
     "name": "stdout",
     "output_type": "stream",
     "text": [
      "CSPR = 12.00 dB\n",
      "Results:\n",
      "BER: 6.88e-05\n",
      "SNR: 18.34 dB\n",
      "SIR =  7.1  dB\n",
      "GMI: 4.00 bits\n",
      "\n"
     ]
    },
    {
     "data": {
      "application/vnd.jupyter.widget-view+json": {
       "model_id": "114f2d5be6eb4e9195699320d2a6f187",
       "version_major": 2,
       "version_minor": 0
      },
      "text/plain": [
       "  0%|          | 0/1 [00:00<?, ?it/s]"
      ]
     },
     "metadata": {},
     "output_type": "display_data"
    },
    {
     "name": "stdout",
     "output_type": "stream",
     "text": [
      "CSPR = 12.00 dB\n",
      "Results:\n",
      "BER: 1.56e-05\n",
      "SNR: 19.35 dB\n",
      "SIR =  7.1  dB\n",
      "GMI: 4.00 bits\n",
      "\n"
     ]
    },
    {
     "data": {
      "application/vnd.jupyter.widget-view+json": {
       "model_id": "3e7cd7835760421f9f839c32d9bda8b3",
       "version_major": 2,
       "version_minor": 0
      },
      "text/plain": [
       "  0%|          | 0/1 [00:00<?, ?it/s]"
      ]
     },
     "metadata": {},
     "output_type": "display_data"
    },
    {
     "name": "stdout",
     "output_type": "stream",
     "text": [
      "CSPR = 12.00 dB\n",
      "Results:\n",
      "BER: 0.00e+00\n",
      "SNR: 20.31 dB\n",
      "SIR =  7.12  dB\n",
      "GMI: 4.00 bits\n",
      "\n"
     ]
    },
    {
     "data": {
      "application/vnd.jupyter.widget-view+json": {
       "model_id": "48f3e6d305ad4eb3afc896b3ab507d20",
       "version_major": 2,
       "version_minor": 0
      },
      "text/plain": [
       "  0%|          | 0/1 [00:00<?, ?it/s]"
      ]
     },
     "metadata": {},
     "output_type": "display_data"
    },
    {
     "name": "stdout",
     "output_type": "stream",
     "text": [
      "CSPR = 12.00 dB\n",
      "Results:\n",
      "BER: 3.13e-06\n",
      "SNR: 21.32 dB\n",
      "SIR =  7.12  dB\n",
      "GMI: 4.00 bits\n",
      "\n"
     ]
    },
    {
     "data": {
      "application/vnd.jupyter.widget-view+json": {
       "model_id": "fc43361b8c2147a4a145d12f60698dd8",
       "version_major": 2,
       "version_minor": 0
      },
      "text/plain": [
       "  0%|          | 0/1 [00:00<?, ?it/s]"
      ]
     },
     "metadata": {},
     "output_type": "display_data"
    },
    {
     "name": "stdout",
     "output_type": "stream",
     "text": [
      "CSPR = 12.00 dB\n",
      "Results:\n",
      "BER: 0.00e+00\n",
      "SNR: 22.31 dB\n",
      "SIR =  7.1  dB\n",
      "GMI: 4.00 bits\n",
      "\n"
     ]
    },
    {
     "data": {
      "application/vnd.jupyter.widget-view+json": {
       "model_id": "404a3b0266a949c39f2eafda6b160d2c",
       "version_major": 2,
       "version_minor": 0
      },
      "text/plain": [
       "  0%|          | 0/1 [00:00<?, ?it/s]"
      ]
     },
     "metadata": {},
     "output_type": "display_data"
    },
    {
     "name": "stdout",
     "output_type": "stream",
     "text": [
      "CSPR = 12.00 dB\n",
      "Results:\n",
      "BER: 0.00e+00\n",
      "SNR: 23.24 dB\n",
      "SIR =  7.1  dB\n",
      "GMI: 4.00 bits\n",
      "\n"
     ]
    },
    {
     "data": {
      "application/vnd.jupyter.widget-view+json": {
       "model_id": "16dc597d6eb441ff99cf7194f60fe468",
       "version_major": 2,
       "version_minor": 0
      },
      "text/plain": [
       "  0%|          | 0/1 [00:00<?, ?it/s]"
      ]
     },
     "metadata": {},
     "output_type": "display_data"
    },
    {
     "name": "stdout",
     "output_type": "stream",
     "text": [
      "CSPR = 12.00 dB\n",
      "Results:\n",
      "BER: 0.00e+00\n",
      "SNR: 24.21 dB\n",
      "SIR =  7.13  dB\n",
      "GMI: 4.00 bits\n",
      "\n"
     ]
    },
    {
     "data": {
      "application/vnd.jupyter.widget-view+json": {
       "model_id": "d915ac3c2e4d499e9fdcfed0ebafc838",
       "version_major": 2,
       "version_minor": 0
      },
      "text/plain": [
       "  0%|          | 0/1 [00:00<?, ?it/s]"
      ]
     },
     "metadata": {},
     "output_type": "display_data"
    },
    {
     "name": "stdout",
     "output_type": "stream",
     "text": [
      "CSPR = 12.00 dB\n",
      "Results:\n",
      "BER: 0.00e+00\n",
      "SNR: 25.21 dB\n",
      "SIR =  7.14  dB\n",
      "GMI: 4.00 bits\n",
      "\n"
     ]
    },
    {
     "data": {
      "application/vnd.jupyter.widget-view+json": {
       "model_id": "cc2a6923fce64c55922787c3589d48e6",
       "version_major": 2,
       "version_minor": 0
      },
      "text/plain": [
       "  0%|          | 0/10 [00:00<?, ?it/s]"
      ]
     },
     "metadata": {},
     "output_type": "display_data"
    },
    {
     "data": {
      "application/vnd.jupyter.widget-view+json": {
       "model_id": "d4fba811ff564625afa5a9a0127ca651",
       "version_major": 2,
       "version_minor": 0
      },
      "text/plain": [
       "  0%|          | 0/1 [00:00<?, ?it/s]"
      ]
     },
     "metadata": {},
     "output_type": "display_data"
    },
    {
     "name": "stdout",
     "output_type": "stream",
     "text": [
      "CSPR = 13.00 dB\n",
      "Results:\n",
      "BER: 1.37e-03\n",
      "SNR: 16.34 dB\n",
      "SIR =  7.12  dB\n",
      "GMI: 3.98 bits\n",
      "\n"
     ]
    },
    {
     "data": {
      "application/vnd.jupyter.widget-view+json": {
       "model_id": "65bf348b844b4c0bbdd82d045136235b",
       "version_major": 2,
       "version_minor": 0
      },
      "text/plain": [
       "  0%|          | 0/1 [00:00<?, ?it/s]"
      ]
     },
     "metadata": {},
     "output_type": "display_data"
    },
    {
     "name": "stdout",
     "output_type": "stream",
     "text": [
      "CSPR = 13.00 dB\n",
      "Results:\n",
      "BER: 3.97e-04\n",
      "SNR: 17.36 dB\n",
      "SIR =  7.13  dB\n",
      "GMI: 3.99 bits\n",
      "\n"
     ]
    },
    {
     "data": {
      "application/vnd.jupyter.widget-view+json": {
       "model_id": "e632e2c52f0c41e790b8bf68cc60fb36",
       "version_major": 2,
       "version_minor": 0
      },
      "text/plain": [
       "  0%|          | 0/1 [00:00<?, ?it/s]"
      ]
     },
     "metadata": {},
     "output_type": "display_data"
    },
    {
     "name": "stdout",
     "output_type": "stream",
     "text": [
      "CSPR = 13.00 dB\n",
      "Results:\n",
      "BER: 8.12e-05\n",
      "SNR: 18.32 dB\n",
      "SIR =  7.1  dB\n",
      "GMI: 4.00 bits\n",
      "\n"
     ]
    },
    {
     "data": {
      "application/vnd.jupyter.widget-view+json": {
       "model_id": "cb4a6ccd6ee64f62b4d929f7dd0227d3",
       "version_major": 2,
       "version_minor": 0
      },
      "text/plain": [
       "  0%|          | 0/1 [00:00<?, ?it/s]"
      ]
     },
     "metadata": {},
     "output_type": "display_data"
    },
    {
     "name": "stdout",
     "output_type": "stream",
     "text": [
      "CSPR = 13.00 dB\n",
      "Results:\n",
      "BER: 1.25e-05\n",
      "SNR: 19.32 dB\n",
      "SIR =  7.1  dB\n",
      "GMI: 4.00 bits\n",
      "\n"
     ]
    },
    {
     "data": {
      "application/vnd.jupyter.widget-view+json": {
       "model_id": "11d008d947f441fd9a1af25c6a2721aa",
       "version_major": 2,
       "version_minor": 0
      },
      "text/plain": [
       "  0%|          | 0/1 [00:00<?, ?it/s]"
      ]
     },
     "metadata": {},
     "output_type": "display_data"
    },
    {
     "name": "stdout",
     "output_type": "stream",
     "text": [
      "CSPR = 13.00 dB\n",
      "Results:\n",
      "BER: 0.00e+00\n",
      "SNR: 20.32 dB\n",
      "SIR =  7.11  dB\n",
      "GMI: 4.00 bits\n",
      "\n"
     ]
    },
    {
     "data": {
      "application/vnd.jupyter.widget-view+json": {
       "model_id": "626c5a652d6e45c8b028386ea6b8cde6",
       "version_major": 2,
       "version_minor": 0
      },
      "text/plain": [
       "  0%|          | 0/1 [00:00<?, ?it/s]"
      ]
     },
     "metadata": {},
     "output_type": "display_data"
    },
    {
     "name": "stdout",
     "output_type": "stream",
     "text": [
      "CSPR = 13.00 dB\n",
      "Results:\n",
      "BER: 0.00e+00\n",
      "SNR: 21.27 dB\n",
      "SIR =  7.12  dB\n",
      "GMI: 4.00 bits\n",
      "\n"
     ]
    },
    {
     "data": {
      "application/vnd.jupyter.widget-view+json": {
       "model_id": "183b744a4b8541308fe35cd06f2c31f4",
       "version_major": 2,
       "version_minor": 0
      },
      "text/plain": [
       "  0%|          | 0/1 [00:00<?, ?it/s]"
      ]
     },
     "metadata": {},
     "output_type": "display_data"
    },
    {
     "name": "stdout",
     "output_type": "stream",
     "text": [
      "CSPR = 13.00 dB\n",
      "Results:\n",
      "BER: 0.00e+00\n",
      "SNR: 22.31 dB\n",
      "SIR =  7.12  dB\n",
      "GMI: 4.00 bits\n",
      "\n"
     ]
    },
    {
     "data": {
      "application/vnd.jupyter.widget-view+json": {
       "model_id": "b8a9418771474dc7949d78b8754bf770",
       "version_major": 2,
       "version_minor": 0
      },
      "text/plain": [
       "  0%|          | 0/1 [00:00<?, ?it/s]"
      ]
     },
     "metadata": {},
     "output_type": "display_data"
    },
    {
     "name": "stdout",
     "output_type": "stream",
     "text": [
      "CSPR = 13.00 dB\n",
      "Results:\n",
      "BER: 0.00e+00\n",
      "SNR: 23.27 dB\n",
      "SIR =  7.11  dB\n",
      "GMI: 4.00 bits\n",
      "\n"
     ]
    },
    {
     "data": {
      "application/vnd.jupyter.widget-view+json": {
       "model_id": "848b205966b24165be8838131dfb3b5f",
       "version_major": 2,
       "version_minor": 0
      },
      "text/plain": [
       "  0%|          | 0/1 [00:00<?, ?it/s]"
      ]
     },
     "metadata": {},
     "output_type": "display_data"
    },
    {
     "name": "stdout",
     "output_type": "stream",
     "text": [
      "CSPR = 13.00 dB\n",
      "Results:\n",
      "BER: 0.00e+00\n",
      "SNR: 24.25 dB\n",
      "SIR =  7.09  dB\n",
      "GMI: 4.00 bits\n",
      "\n"
     ]
    },
    {
     "data": {
      "application/vnd.jupyter.widget-view+json": {
       "model_id": "3aefba83287c4f2ea103290b9d2f9a9c",
       "version_major": 2,
       "version_minor": 0
      },
      "text/plain": [
       "  0%|          | 0/1 [00:00<?, ?it/s]"
      ]
     },
     "metadata": {},
     "output_type": "display_data"
    },
    {
     "name": "stdout",
     "output_type": "stream",
     "text": [
      "CSPR = 13.00 dB\n",
      "Results:\n",
      "BER: 0.00e+00\n",
      "SNR: 25.19 dB\n",
      "SIR =  7.12  dB\n",
      "GMI: 4.00 bits\n",
      "\n"
     ]
    },
    {
     "data": {
      "application/vnd.jupyter.widget-view+json": {
       "model_id": "7d87777d2fbd44ad867377373c74913a",
       "version_major": 2,
       "version_minor": 0
      },
      "text/plain": [
       "  0%|          | 0/10 [00:00<?, ?it/s]"
      ]
     },
     "metadata": {},
     "output_type": "display_data"
    },
    {
     "data": {
      "application/vnd.jupyter.widget-view+json": {
       "model_id": "6ab9f4e0537a46178bb6c61202a1e5e1",
       "version_major": 2,
       "version_minor": 0
      },
      "text/plain": [
       "  0%|          | 0/1 [00:00<?, ?it/s]"
      ]
     },
     "metadata": {},
     "output_type": "display_data"
    },
    {
     "name": "stdout",
     "output_type": "stream",
     "text": [
      "CSPR = 14.00 dB\n",
      "Results:\n",
      "BER: 1.39e-03\n",
      "SNR: 16.40 dB\n",
      "SIR =  7.1  dB\n",
      "GMI: 3.98 bits\n",
      "\n"
     ]
    },
    {
     "data": {
      "application/vnd.jupyter.widget-view+json": {
       "model_id": "4161d2f47fdd4813885f96c55a2b5dc2",
       "version_major": 2,
       "version_minor": 0
      },
      "text/plain": [
       "  0%|          | 0/1 [00:00<?, ?it/s]"
      ]
     },
     "metadata": {},
     "output_type": "display_data"
    },
    {
     "name": "stdout",
     "output_type": "stream",
     "text": [
      "CSPR = 14.00 dB\n",
      "Results:\n",
      "BER: 4.34e-04\n",
      "SNR: 17.36 dB\n",
      "SIR =  7.11  dB\n",
      "GMI: 3.99 bits\n",
      "\n"
     ]
    },
    {
     "data": {
      "application/vnd.jupyter.widget-view+json": {
       "model_id": "eb0b6400b6874c848c9cce4694d3de6f",
       "version_major": 2,
       "version_minor": 0
      },
      "text/plain": [
       "  0%|          | 0/1 [00:00<?, ?it/s]"
      ]
     },
     "metadata": {},
     "output_type": "display_data"
    },
    {
     "name": "stdout",
     "output_type": "stream",
     "text": [
      "CSPR = 14.00 dB\n",
      "Results:\n",
      "BER: 9.69e-05\n",
      "SNR: 18.35 dB\n",
      "SIR =  7.1  dB\n",
      "GMI: 4.00 bits\n",
      "\n"
     ]
    },
    {
     "data": {
      "application/vnd.jupyter.widget-view+json": {
       "model_id": "1262a930f229451d8ee19827a106b60b",
       "version_major": 2,
       "version_minor": 0
      },
      "text/plain": [
       "  0%|          | 0/1 [00:00<?, ?it/s]"
      ]
     },
     "metadata": {},
     "output_type": "display_data"
    },
    {
     "name": "stdout",
     "output_type": "stream",
     "text": [
      "CSPR = 14.00 dB\n",
      "Results:\n",
      "BER: 3.13e-05\n",
      "SNR: 19.37 dB\n",
      "SIR =  7.13  dB\n",
      "GMI: 4.00 bits\n",
      "\n"
     ]
    },
    {
     "data": {
      "application/vnd.jupyter.widget-view+json": {
       "model_id": "006c7fdab3544ef0a891e4524486c5aa",
       "version_major": 2,
       "version_minor": 0
      },
      "text/plain": [
       "  0%|          | 0/1 [00:00<?, ?it/s]"
      ]
     },
     "metadata": {},
     "output_type": "display_data"
    },
    {
     "name": "stdout",
     "output_type": "stream",
     "text": [
      "CSPR = 14.00 dB\n",
      "Results:\n",
      "BER: 3.13e-06\n",
      "SNR: 20.35 dB\n",
      "SIR =  7.11  dB\n",
      "GMI: 4.00 bits\n",
      "\n"
     ]
    },
    {
     "data": {
      "application/vnd.jupyter.widget-view+json": {
       "model_id": "2bc4a8d365e949a88278e5c4487cba3c",
       "version_major": 2,
       "version_minor": 0
      },
      "text/plain": [
       "  0%|          | 0/1 [00:00<?, ?it/s]"
      ]
     },
     "metadata": {},
     "output_type": "display_data"
    },
    {
     "name": "stdout",
     "output_type": "stream",
     "text": [
      "CSPR = 14.00 dB\n",
      "Results:\n",
      "BER: 0.00e+00\n",
      "SNR: 21.30 dB\n",
      "SIR =  7.11  dB\n",
      "GMI: 4.00 bits\n",
      "\n"
     ]
    },
    {
     "data": {
      "application/vnd.jupyter.widget-view+json": {
       "model_id": "d98ef68489a74f4b84b22cf327fb28c8",
       "version_major": 2,
       "version_minor": 0
      },
      "text/plain": [
       "  0%|          | 0/1 [00:00<?, ?it/s]"
      ]
     },
     "metadata": {},
     "output_type": "display_data"
    },
    {
     "name": "stdout",
     "output_type": "stream",
     "text": [
      "CSPR = 14.00 dB\n",
      "Results:\n",
      "BER: 0.00e+00\n",
      "SNR: 22.29 dB\n",
      "SIR =  7.1  dB\n",
      "GMI: 4.00 bits\n",
      "\n"
     ]
    },
    {
     "data": {
      "application/vnd.jupyter.widget-view+json": {
       "model_id": "0b2c1c9f663f4f289502a5d1c6296c65",
       "version_major": 2,
       "version_minor": 0
      },
      "text/plain": [
       "  0%|          | 0/1 [00:00<?, ?it/s]"
      ]
     },
     "metadata": {},
     "output_type": "display_data"
    },
    {
     "name": "stdout",
     "output_type": "stream",
     "text": [
      "CSPR = 14.00 dB\n",
      "Results:\n",
      "BER: 0.00e+00\n",
      "SNR: 23.29 dB\n",
      "SIR =  7.12  dB\n",
      "GMI: 4.00 bits\n",
      "\n"
     ]
    },
    {
     "data": {
      "application/vnd.jupyter.widget-view+json": {
       "model_id": "f9625563586740eb8cdb4037cfc8915f",
       "version_major": 2,
       "version_minor": 0
      },
      "text/plain": [
       "  0%|          | 0/1 [00:00<?, ?it/s]"
      ]
     },
     "metadata": {},
     "output_type": "display_data"
    },
    {
     "name": "stdout",
     "output_type": "stream",
     "text": [
      "CSPR = 14.00 dB\n",
      "Results:\n",
      "BER: 0.00e+00\n",
      "SNR: 24.22 dB\n",
      "SIR =  7.13  dB\n",
      "GMI: 4.00 bits\n",
      "\n"
     ]
    },
    {
     "data": {
      "application/vnd.jupyter.widget-view+json": {
       "model_id": "6efec4ed09fc417d847a63ba856dccf3",
       "version_major": 2,
       "version_minor": 0
      },
      "text/plain": [
       "  0%|          | 0/1 [00:00<?, ?it/s]"
      ]
     },
     "metadata": {},
     "output_type": "display_data"
    },
    {
     "name": "stdout",
     "output_type": "stream",
     "text": [
      "CSPR = 14.00 dB\n",
      "Results:\n",
      "BER: 0.00e+00\n",
      "SNR: 25.19 dB\n",
      "SIR =  7.11  dB\n",
      "GMI: 4.00 bits\n",
      "\n"
     ]
    },
    {
     "data": {
      "application/vnd.jupyter.widget-view+json": {
       "model_id": "c4d427ad40c94a99b82f20fd3ac97ba2",
       "version_major": 2,
       "version_minor": 0
      },
      "text/plain": [
       "  0%|          | 0/10 [00:00<?, ?it/s]"
      ]
     },
     "metadata": {},
     "output_type": "display_data"
    },
    {
     "data": {
      "application/vnd.jupyter.widget-view+json": {
       "model_id": "c5f55fddcd0d4f05937976301e3d651c",
       "version_major": 2,
       "version_minor": 0
      },
      "text/plain": [
       "  0%|          | 0/1 [00:00<?, ?it/s]"
      ]
     },
     "metadata": {},
     "output_type": "display_data"
    },
    {
     "name": "stdout",
     "output_type": "stream",
     "text": [
      "CSPR = 15.00 dB\n",
      "Results:\n",
      "BER: 1.47e-03\n",
      "SNR: 16.33 dB\n",
      "SIR =  7.1  dB\n",
      "GMI: 3.98 bits\n",
      "\n"
     ]
    },
    {
     "data": {
      "application/vnd.jupyter.widget-view+json": {
       "model_id": "b2b219ef21884cc7b275c6bc940a1b3a",
       "version_major": 2,
       "version_minor": 0
      },
      "text/plain": [
       "  0%|          | 0/1 [00:00<?, ?it/s]"
      ]
     },
     "metadata": {},
     "output_type": "display_data"
    },
    {
     "name": "stdout",
     "output_type": "stream",
     "text": [
      "CSPR = 15.00 dB\n",
      "Results:\n",
      "BER: 3.47e-04\n",
      "SNR: 17.35 dB\n",
      "SIR =  7.1  dB\n",
      "GMI: 3.99 bits\n",
      "\n"
     ]
    },
    {
     "data": {
      "application/vnd.jupyter.widget-view+json": {
       "model_id": "ae8261f1a25f4168b49781c6feeb97ea",
       "version_major": 2,
       "version_minor": 0
      },
      "text/plain": [
       "  0%|          | 0/1 [00:00<?, ?it/s]"
      ]
     },
     "metadata": {},
     "output_type": "display_data"
    },
    {
     "name": "stdout",
     "output_type": "stream",
     "text": [
      "CSPR = 15.00 dB\n",
      "Results:\n",
      "BER: 1.09e-04\n",
      "SNR: 18.34 dB\n",
      "SIR =  7.1  dB\n",
      "GMI: 4.00 bits\n",
      "\n"
     ]
    },
    {
     "data": {
      "application/vnd.jupyter.widget-view+json": {
       "model_id": "ec19e8e58be14a38a38ce222a10f84a1",
       "version_major": 2,
       "version_minor": 0
      },
      "text/plain": [
       "  0%|          | 0/1 [00:00<?, ?it/s]"
      ]
     },
     "metadata": {},
     "output_type": "display_data"
    },
    {
     "name": "stdout",
     "output_type": "stream",
     "text": [
      "CSPR = 15.00 dB\n",
      "Results:\n",
      "BER: 9.37e-06\n",
      "SNR: 19.35 dB\n",
      "SIR =  7.09  dB\n",
      "GMI: 4.00 bits\n",
      "\n"
     ]
    },
    {
     "data": {
      "application/vnd.jupyter.widget-view+json": {
       "model_id": "4db0c356cd284b358c9a8fd17a2f5e01",
       "version_major": 2,
       "version_minor": 0
      },
      "text/plain": [
       "  0%|          | 0/1 [00:00<?, ?it/s]"
      ]
     },
     "metadata": {},
     "output_type": "display_data"
    },
    {
     "name": "stdout",
     "output_type": "stream",
     "text": [
      "CSPR = 15.00 dB\n",
      "Results:\n",
      "BER: 3.13e-06\n",
      "SNR: 20.34 dB\n",
      "SIR =  7.09  dB\n",
      "GMI: 4.00 bits\n",
      "\n"
     ]
    },
    {
     "data": {
      "application/vnd.jupyter.widget-view+json": {
       "model_id": "51c0d6d9c9a64ef9af9bcd8f2a1cf627",
       "version_major": 2,
       "version_minor": 0
      },
      "text/plain": [
       "  0%|          | 0/1 [00:00<?, ?it/s]"
      ]
     },
     "metadata": {},
     "output_type": "display_data"
    },
    {
     "name": "stdout",
     "output_type": "stream",
     "text": [
      "CSPR = 15.00 dB\n",
      "Results:\n",
      "BER: 0.00e+00\n",
      "SNR: 21.30 dB\n",
      "SIR =  7.12  dB\n",
      "GMI: 4.00 bits\n",
      "\n"
     ]
    },
    {
     "data": {
      "application/vnd.jupyter.widget-view+json": {
       "model_id": "56ea5a7db5bf4573a81a5085700084bf",
       "version_major": 2,
       "version_minor": 0
      },
      "text/plain": [
       "  0%|          | 0/1 [00:00<?, ?it/s]"
      ]
     },
     "metadata": {},
     "output_type": "display_data"
    },
    {
     "name": "stdout",
     "output_type": "stream",
     "text": [
      "CSPR = 15.00 dB\n",
      "Results:\n",
      "BER: 0.00e+00\n",
      "SNR: 22.30 dB\n",
      "SIR =  7.12  dB\n",
      "GMI: 4.00 bits\n",
      "\n"
     ]
    },
    {
     "data": {
      "application/vnd.jupyter.widget-view+json": {
       "model_id": "d77450b21f6b4b399668749150265153",
       "version_major": 2,
       "version_minor": 0
      },
      "text/plain": [
       "  0%|          | 0/1 [00:00<?, ?it/s]"
      ]
     },
     "metadata": {},
     "output_type": "display_data"
    },
    {
     "name": "stdout",
     "output_type": "stream",
     "text": [
      "CSPR = 15.00 dB\n",
      "Results:\n",
      "BER: 0.00e+00\n",
      "SNR: 23.27 dB\n",
      "SIR =  7.12  dB\n",
      "GMI: 4.00 bits\n",
      "\n"
     ]
    },
    {
     "data": {
      "application/vnd.jupyter.widget-view+json": {
       "model_id": "75d89a43b7c64f30b410c799fd8b6ead",
       "version_major": 2,
       "version_minor": 0
      },
      "text/plain": [
       "  0%|          | 0/1 [00:00<?, ?it/s]"
      ]
     },
     "metadata": {},
     "output_type": "display_data"
    },
    {
     "name": "stdout",
     "output_type": "stream",
     "text": [
      "CSPR = 15.00 dB\n",
      "Results:\n",
      "BER: 0.00e+00\n",
      "SNR: 24.23 dB\n",
      "SIR =  7.11  dB\n",
      "GMI: 4.00 bits\n",
      "\n"
     ]
    },
    {
     "data": {
      "application/vnd.jupyter.widget-view+json": {
       "model_id": "0360f6cdbbc54ab38f30e73fa7f02768",
       "version_major": 2,
       "version_minor": 0
      },
      "text/plain": [
       "  0%|          | 0/1 [00:00<?, ?it/s]"
      ]
     },
     "metadata": {},
     "output_type": "display_data"
    },
    {
     "name": "stdout",
     "output_type": "stream",
     "text": [
      "CSPR = 15.00 dB\n",
      "Results:\n",
      "BER: 0.00e+00\n",
      "SNR: 25.21 dB\n",
      "SIR =  7.12  dB\n",
      "GMI: 4.00 bits\n",
      "\n"
     ]
    },
    {
     "data": {
      "application/vnd.jupyter.widget-view+json": {
       "model_id": "57cdfb8dbc654169b7d3f2bb2f3a0e1f",
       "version_major": 2,
       "version_minor": 0
      },
      "text/plain": [
       "  0%|          | 0/10 [00:00<?, ?it/s]"
      ]
     },
     "metadata": {},
     "output_type": "display_data"
    },
    {
     "data": {
      "application/vnd.jupyter.widget-view+json": {
       "model_id": "d443f4ee919b4b1db108d4a9782ed4cf",
       "version_major": 2,
       "version_minor": 0
      },
      "text/plain": [
       "  0%|          | 0/10 [00:00<?, ?it/s]"
      ]
     },
     "metadata": {},
     "output_type": "display_data"
    },
    {
     "data": {
      "application/vnd.jupyter.widget-view+json": {
       "model_id": "6fa436814aca4fed9cf4b4f436deba18",
       "version_major": 2,
       "version_minor": 0
      },
      "text/plain": [
       "  0%|          | 0/1 [00:00<?, ?it/s]"
      ]
     },
     "metadata": {},
     "output_type": "display_data"
    },
    {
     "name": "stdout",
     "output_type": "stream",
     "text": [
      "CSPR = 6.00 dB\n",
      "Results:\n",
      "BER: 5.00e-01\n",
      "SNR: nan dB\n",
      "SIR =  nan  dB\n",
      "GMI: nan bits\n",
      "\n"
     ]
    },
    {
     "data": {
      "application/vnd.jupyter.widget-view+json": {
       "model_id": "42f7d8301d274938ad6fde4fd9e0c167",
       "version_major": 2,
       "version_minor": 0
      },
      "text/plain": [
       "  0%|          | 0/1 [00:00<?, ?it/s]"
      ]
     },
     "metadata": {},
     "output_type": "display_data"
    },
    {
     "name": "stdout",
     "output_type": "stream",
     "text": [
      "CSPR = 6.00 dB\n",
      "Results:\n",
      "BER: 2.48e-02\n",
      "SNR: 12.44 dB\n",
      "SIR =  14.03  dB\n",
      "GMI: 3.60 bits\n",
      "\n"
     ]
    },
    {
     "data": {
      "application/vnd.jupyter.widget-view+json": {
       "model_id": "e918f805993a410f84111cbce35d6e72",
       "version_major": 2,
       "version_minor": 0
      },
      "text/plain": [
       "  0%|          | 0/1 [00:00<?, ?it/s]"
      ]
     },
     "metadata": {},
     "output_type": "display_data"
    },
    {
     "name": "stdout",
     "output_type": "stream",
     "text": [
      "CSPR = 6.00 dB\n",
      "Results:\n",
      "BER: 1.65e-02\n",
      "SNR: 13.23 dB\n",
      "SIR =  14.64  dB\n",
      "GMI: 3.72 bits\n",
      "\n"
     ]
    },
    {
     "data": {
      "application/vnd.jupyter.widget-view+json": {
       "model_id": "d6fa624e17274b3d97ec5f61b1d111c6",
       "version_major": 2,
       "version_minor": 0
      },
      "text/plain": [
       "  0%|          | 0/1 [00:00<?, ?it/s]"
      ]
     },
     "metadata": {},
     "output_type": "display_data"
    },
    {
     "name": "stdout",
     "output_type": "stream",
     "text": [
      "CSPR = 6.00 dB\n",
      "Results:\n",
      "BER: 1.15e-02\n",
      "SNR: 13.95 dB\n",
      "SIR =  15.12  dB\n",
      "GMI: 3.78 bits\n",
      "\n"
     ]
    },
    {
     "data": {
      "application/vnd.jupyter.widget-view+json": {
       "model_id": "241a6d947b3c49058bad9c4af491f138",
       "version_major": 2,
       "version_minor": 0
      },
      "text/plain": [
       "  0%|          | 0/1 [00:00<?, ?it/s]"
      ]
     },
     "metadata": {},
     "output_type": "display_data"
    },
    {
     "name": "stdout",
     "output_type": "stream",
     "text": [
      "CSPR = 6.00 dB\n",
      "Results:\n",
      "BER: 7.49e-03\n",
      "SNR: 14.75 dB\n",
      "SIR =  15.77  dB\n",
      "GMI: 3.84 bits\n",
      "\n"
     ]
    },
    {
     "data": {
      "application/vnd.jupyter.widget-view+json": {
       "model_id": "7f5a69d5fb4e4dffb89186df929ca6b0",
       "version_major": 2,
       "version_minor": 0
      },
      "text/plain": [
       "  0%|          | 0/1 [00:00<?, ?it/s]"
      ]
     },
     "metadata": {},
     "output_type": "display_data"
    },
    {
     "name": "stdout",
     "output_type": "stream",
     "text": [
      "CSPR = 6.00 dB\n",
      "Results:\n",
      "BER: 4.99e-01\n",
      "SNR: nan dB\n",
      "SIR =  nan  dB\n",
      "GMI: nan bits\n",
      "\n"
     ]
    },
    {
     "data": {
      "application/vnd.jupyter.widget-view+json": {
       "model_id": "c431820cce24445790e4784a7dbf6a79",
       "version_major": 2,
       "version_minor": 0
      },
      "text/plain": [
       "  0%|          | 0/1 [00:00<?, ?it/s]"
      ]
     },
     "metadata": {},
     "output_type": "display_data"
    },
    {
     "name": "stdout",
     "output_type": "stream",
     "text": [
      "CSPR = 6.00 dB\n",
      "Results:\n",
      "BER: 4.45e-03\n",
      "SNR: 15.93 dB\n",
      "SIR =  16.57  dB\n",
      "GMI: 3.88 bits\n",
      "\n"
     ]
    },
    {
     "data": {
      "application/vnd.jupyter.widget-view+json": {
       "model_id": "79372541feed4743ab7e118aa8bcd6b3",
       "version_major": 2,
       "version_minor": 0
      },
      "text/plain": [
       "  0%|          | 0/1 [00:00<?, ?it/s]"
      ]
     },
     "metadata": {},
     "output_type": "display_data"
    },
    {
     "name": "stdout",
     "output_type": "stream",
     "text": [
      "CSPR = 6.00 dB\n",
      "Results:\n",
      "BER: 3.79e-03\n",
      "SNR: 16.42 dB\n",
      "SIR =  16.86  dB\n",
      "GMI: 3.88 bits\n",
      "\n"
     ]
    },
    {
     "data": {
      "application/vnd.jupyter.widget-view+json": {
       "model_id": "5d23f28536df4ade859b842293d68fd1",
       "version_major": 2,
       "version_minor": 0
      },
      "text/plain": [
       "  0%|          | 0/1 [00:00<?, ?it/s]"
      ]
     },
     "metadata": {},
     "output_type": "display_data"
    },
    {
     "name": "stdout",
     "output_type": "stream",
     "text": [
      "CSPR = 6.00 dB\n",
      "Results:\n",
      "BER: 3.14e-03\n",
      "SNR: 16.99 dB\n",
      "SIR =  17.26  dB\n",
      "GMI: 3.89 bits\n",
      "\n"
     ]
    },
    {
     "data": {
      "application/vnd.jupyter.widget-view+json": {
       "model_id": "69490bc566af45ea860480282737e80e",
       "version_major": 2,
       "version_minor": 0
      },
      "text/plain": [
       "  0%|          | 0/1 [00:00<?, ?it/s]"
      ]
     },
     "metadata": {},
     "output_type": "display_data"
    },
    {
     "name": "stdout",
     "output_type": "stream",
     "text": [
      "CSPR = 6.00 dB\n",
      "Results:\n",
      "BER: 3.44e-03\n",
      "SNR: 17.19 dB\n",
      "SIR =  17.35  dB\n",
      "GMI: 3.86 bits\n",
      "\n"
     ]
    },
    {
     "data": {
      "application/vnd.jupyter.widget-view+json": {
       "model_id": "7c94a87ff28c45bb94cec7c755da2930",
       "version_major": 2,
       "version_minor": 0
      },
      "text/plain": [
       "  0%|          | 0/10 [00:00<?, ?it/s]"
      ]
     },
     "metadata": {},
     "output_type": "display_data"
    },
    {
     "data": {
      "application/vnd.jupyter.widget-view+json": {
       "model_id": "b4da0b8abec54646a7b9c56ac84059d7",
       "version_major": 2,
       "version_minor": 0
      },
      "text/plain": [
       "  0%|          | 0/1 [00:00<?, ?it/s]"
      ]
     },
     "metadata": {},
     "output_type": "display_data"
    },
    {
     "name": "stdout",
     "output_type": "stream",
     "text": [
      "CSPR = 7.00 dB\n",
      "Results:\n",
      "BER: 2.89e-02\n",
      "SNR: 12.05 dB\n",
      "SIR =  14.02  dB\n",
      "GMI: 3.56 bits\n",
      "\n"
     ]
    },
    {
     "data": {
      "application/vnd.jupyter.widget-view+json": {
       "model_id": "b7b1f852cbdd4fdda036bae8104df611",
       "version_major": 2,
       "version_minor": 0
      },
      "text/plain": [
       "  0%|          | 0/1 [00:00<?, ?it/s]"
      ]
     },
     "metadata": {},
     "output_type": "display_data"
    },
    {
     "name": "stdout",
     "output_type": "stream",
     "text": [
      "CSPR = 7.00 dB\n",
      "Results:\n",
      "BER: 1.88e-02\n",
      "SNR: 12.94 dB\n",
      "SIR =  14.76  dB\n",
      "GMI: 3.70 bits\n",
      "\n"
     ]
    },
    {
     "data": {
      "application/vnd.jupyter.widget-view+json": {
       "model_id": "420974f32f684267b524d1ba5df55e2a",
       "version_major": 2,
       "version_minor": 0
      },
      "text/plain": [
       "  0%|          | 0/1 [00:00<?, ?it/s]"
      ]
     },
     "metadata": {},
     "output_type": "display_data"
    },
    {
     "name": "stdout",
     "output_type": "stream",
     "text": [
      "CSPR = 7.00 dB\n",
      "Results:\n",
      "BER: 1.20e-02\n",
      "SNR: 13.72 dB\n",
      "SIR =  15.4  dB\n",
      "GMI: 3.79 bits\n",
      "\n"
     ]
    },
    {
     "data": {
      "application/vnd.jupyter.widget-view+json": {
       "model_id": "9ff5de2d22d04f489560b9a2146c91b6",
       "version_major": 2,
       "version_minor": 0
      },
      "text/plain": [
       "  0%|          | 0/1 [00:00<?, ?it/s]"
      ]
     },
     "metadata": {},
     "output_type": "display_data"
    },
    {
     "name": "stdout",
     "output_type": "stream",
     "text": [
      "CSPR = 7.00 dB\n",
      "Results:\n",
      "BER: 7.28e-03\n",
      "SNR: 14.64 dB\n",
      "SIR =  16.07  dB\n",
      "GMI: 3.87 bits\n",
      "\n"
     ]
    },
    {
     "data": {
      "application/vnd.jupyter.widget-view+json": {
       "model_id": "1cf1afd10d7643678f5d7c8803f06409",
       "version_major": 2,
       "version_minor": 0
      },
      "text/plain": [
       "  0%|          | 0/1 [00:00<?, ?it/s]"
      ]
     },
     "metadata": {},
     "output_type": "display_data"
    },
    {
     "name": "stdout",
     "output_type": "stream",
     "text": [
      "CSPR = 7.00 dB\n",
      "Results:\n",
      "BER: 4.19e-03\n",
      "SNR: 15.38 dB\n",
      "SIR =  16.67  dB\n",
      "GMI: 3.91 bits\n",
      "\n"
     ]
    },
    {
     "data": {
      "application/vnd.jupyter.widget-view+json": {
       "model_id": "0e9a2eb7d66c4e0e8ff66aa4c0cfb5f4",
       "version_major": 2,
       "version_minor": 0
      },
      "text/plain": [
       "  0%|          | 0/1 [00:00<?, ?it/s]"
      ]
     },
     "metadata": {},
     "output_type": "display_data"
    },
    {
     "name": "stdout",
     "output_type": "stream",
     "text": [
      "CSPR = 7.00 dB\n",
      "Results:\n",
      "BER: 2.66e-03\n",
      "SNR: 16.14 dB\n",
      "SIR =  17.2  dB\n",
      "GMI: 3.94 bits\n",
      "\n"
     ]
    },
    {
     "data": {
      "application/vnd.jupyter.widget-view+json": {
       "model_id": "8130c1a25b6644bfb1c0604705c77efc",
       "version_major": 2,
       "version_minor": 0
      },
      "text/plain": [
       "  0%|          | 0/1 [00:00<?, ?it/s]"
      ]
     },
     "metadata": {},
     "output_type": "display_data"
    },
    {
     "name": "stdout",
     "output_type": "stream",
     "text": [
      "CSPR = 7.00 dB\n",
      "Results:\n",
      "BER: 1.72e-03\n",
      "SNR: 16.82 dB\n",
      "SIR =  17.67  dB\n",
      "GMI: 3.95 bits\n",
      "\n"
     ]
    },
    {
     "data": {
      "application/vnd.jupyter.widget-view+json": {
       "model_id": "6f1e48d1ec8643f09f53c347d6fe6245",
       "version_major": 2,
       "version_minor": 0
      },
      "text/plain": [
       "  0%|          | 0/1 [00:00<?, ?it/s]"
      ]
     },
     "metadata": {},
     "output_type": "display_data"
    },
    {
     "name": "stdout",
     "output_type": "stream",
     "text": [
      "CSPR = 7.00 dB\n",
      "Results:\n",
      "BER: 1.37e-03\n",
      "SNR: 17.49 dB\n",
      "SIR =  18.17  dB\n",
      "GMI: 3.95 bits\n",
      "\n"
     ]
    },
    {
     "data": {
      "application/vnd.jupyter.widget-view+json": {
       "model_id": "14edc2a3e37c4134b87b3717abc126f1",
       "version_major": 2,
       "version_minor": 0
      },
      "text/plain": [
       "  0%|          | 0/1 [00:00<?, ?it/s]"
      ]
     },
     "metadata": {},
     "output_type": "display_data"
    },
    {
     "name": "stdout",
     "output_type": "stream",
     "text": [
      "CSPR = 7.00 dB\n",
      "Results:\n",
      "BER: 1.03e-03\n",
      "SNR: 18.03 dB\n",
      "SIR =  18.55  dB\n",
      "GMI: 3.96 bits\n",
      "\n"
     ]
    },
    {
     "data": {
      "application/vnd.jupyter.widget-view+json": {
       "model_id": "86ff49830cc848b8a5c1d03eddbf26e7",
       "version_major": 2,
       "version_minor": 0
      },
      "text/plain": [
       "  0%|          | 0/1 [00:00<?, ?it/s]"
      ]
     },
     "metadata": {},
     "output_type": "display_data"
    },
    {
     "name": "stdout",
     "output_type": "stream",
     "text": [
      "CSPR = 7.00 dB\n",
      "Results:\n",
      "BER: 9.03e-04\n",
      "SNR: 18.50 dB\n",
      "SIR =  18.74  dB\n",
      "GMI: 3.96 bits\n",
      "\n"
     ]
    },
    {
     "data": {
      "application/vnd.jupyter.widget-view+json": {
       "model_id": "26ef55371c3f434e81511b581e2346c6",
       "version_major": 2,
       "version_minor": 0
      },
      "text/plain": [
       "  0%|          | 0/10 [00:00<?, ?it/s]"
      ]
     },
     "metadata": {},
     "output_type": "display_data"
    },
    {
     "data": {
      "application/vnd.jupyter.widget-view+json": {
       "model_id": "ed09e9c239404cbcb50a7a826ea946a3",
       "version_major": 2,
       "version_minor": 0
      },
      "text/plain": [
       "  0%|          | 0/1 [00:00<?, ?it/s]"
      ]
     },
     "metadata": {},
     "output_type": "display_data"
    },
    {
     "name": "stdout",
     "output_type": "stream",
     "text": [
      "CSPR = 8.00 dB\n",
      "Results:\n",
      "BER: 2.55e-02\n",
      "SNR: 12.38 dB\n",
      "SIR =  14.58  dB\n",
      "GMI: 3.61 bits\n",
      "\n"
     ]
    },
    {
     "data": {
      "application/vnd.jupyter.widget-view+json": {
       "model_id": "9f45b903cc2149cdb8d9a1f12da2f301",
       "version_major": 2,
       "version_minor": 0
      },
      "text/plain": [
       "  0%|          | 0/1 [00:00<?, ?it/s]"
      ]
     },
     "metadata": {},
     "output_type": "display_data"
    },
    {
     "name": "stdout",
     "output_type": "stream",
     "text": [
      "CSPR = 8.00 dB\n",
      "Results:\n",
      "BER: 1.57e-02\n",
      "SNR: 13.27 dB\n",
      "SIR =  15.32  dB\n",
      "GMI: 3.75 bits\n",
      "\n"
     ]
    },
    {
     "data": {
      "application/vnd.jupyter.widget-view+json": {
       "model_id": "48f360b0aa6c4629a5d0a1550f09132b",
       "version_major": 2,
       "version_minor": 0
      },
      "text/plain": [
       "  0%|          | 0/1 [00:00<?, ?it/s]"
      ]
     },
     "metadata": {},
     "output_type": "display_data"
    },
    {
     "name": "stdout",
     "output_type": "stream",
     "text": [
      "CSPR = 8.00 dB\n",
      "Results:\n",
      "BER: 9.07e-03\n",
      "SNR: 14.17 dB\n",
      "SIR =  16.0  dB\n",
      "GMI: 3.85 bits\n",
      "\n"
     ]
    },
    {
     "data": {
      "application/vnd.jupyter.widget-view+json": {
       "model_id": "21d9d84ccefa404c8744ff2c22466883",
       "version_major": 2,
       "version_minor": 0
      },
      "text/plain": [
       "  0%|          | 0/1 [00:00<?, ?it/s]"
      ]
     },
     "metadata": {},
     "output_type": "display_data"
    },
    {
     "name": "stdout",
     "output_type": "stream",
     "text": [
      "CSPR = 8.00 dB\n",
      "Results:\n",
      "BER: 4.87e-03\n",
      "SNR: 15.02 dB\n",
      "SIR =  16.7  dB\n",
      "GMI: 3.92 bits\n",
      "\n"
     ]
    },
    {
     "data": {
      "application/vnd.jupyter.widget-view+json": {
       "model_id": "d70e2392af6341d2986a27cccd2e2c8e",
       "version_major": 2,
       "version_minor": 0
      },
      "text/plain": [
       "  0%|          | 0/1 [00:00<?, ?it/s]"
      ]
     },
     "metadata": {},
     "output_type": "display_data"
    },
    {
     "name": "stdout",
     "output_type": "stream",
     "text": [
      "CSPR = 8.00 dB\n",
      "Results:\n",
      "BER: 2.61e-03\n",
      "SNR: 15.86 dB\n",
      "SIR =  17.37  dB\n",
      "GMI: 3.96 bits\n",
      "\n"
     ]
    },
    {
     "data": {
      "application/vnd.jupyter.widget-view+json": {
       "model_id": "a3aa77c401954875a604fea61f848df0",
       "version_major": 2,
       "version_minor": 0
      },
      "text/plain": [
       "  0%|          | 0/1 [00:00<?, ?it/s]"
      ]
     },
     "metadata": {},
     "output_type": "display_data"
    },
    {
     "name": "stdout",
     "output_type": "stream",
     "text": [
      "CSPR = 8.00 dB\n",
      "Results:\n",
      "BER: 1.26e-03\n",
      "SNR: 16.65 dB\n",
      "SIR =  17.88  dB\n",
      "GMI: 3.97 bits\n",
      "\n"
     ]
    },
    {
     "data": {
      "application/vnd.jupyter.widget-view+json": {
       "model_id": "07e5c0b23e0f4e4192a836e04939c0c6",
       "version_major": 2,
       "version_minor": 0
      },
      "text/plain": [
       "  0%|          | 0/1 [00:00<?, ?it/s]"
      ]
     },
     "metadata": {},
     "output_type": "display_data"
    },
    {
     "name": "stdout",
     "output_type": "stream",
     "text": [
      "CSPR = 8.00 dB\n",
      "Results:\n",
      "BER: 7.00e-04\n",
      "SNR: 17.35 dB\n",
      "SIR =  18.44  dB\n",
      "GMI: 3.98 bits\n",
      "\n"
     ]
    },
    {
     "data": {
      "application/vnd.jupyter.widget-view+json": {
       "model_id": "b6beb36e51a94fb3b4f967ce735d32d8",
       "version_major": 2,
       "version_minor": 0
      },
      "text/plain": [
       "  0%|          | 0/1 [00:00<?, ?it/s]"
      ]
     },
     "metadata": {},
     "output_type": "display_data"
    },
    {
     "name": "stdout",
     "output_type": "stream",
     "text": [
      "CSPR = 8.00 dB\n",
      "Results:\n",
      "BER: 4.72e-04\n",
      "SNR: 17.96 dB\n",
      "SIR =  18.87  dB\n",
      "GMI: 3.98 bits\n",
      "\n"
     ]
    },
    {
     "data": {
      "application/vnd.jupyter.widget-view+json": {
       "model_id": "4a489c95df134a0f8825eb3567eb8901",
       "version_major": 2,
       "version_minor": 0
      },
      "text/plain": [
       "  0%|          | 0/1 [00:00<?, ?it/s]"
      ]
     },
     "metadata": {},
     "output_type": "display_data"
    },
    {
     "name": "stdout",
     "output_type": "stream",
     "text": [
      "CSPR = 8.00 dB\n",
      "Results:\n",
      "BER: 3.91e-04\n",
      "SNR: 18.58 dB\n",
      "SIR =  19.16  dB\n",
      "GMI: 3.99 bits\n",
      "\n"
     ]
    },
    {
     "data": {
      "application/vnd.jupyter.widget-view+json": {
       "model_id": "22c6e8b56486474b85598e40478d4d03",
       "version_major": 2,
       "version_minor": 0
      },
      "text/plain": [
       "  0%|          | 0/1 [00:00<?, ?it/s]"
      ]
     },
     "metadata": {},
     "output_type": "display_data"
    },
    {
     "name": "stdout",
     "output_type": "stream",
     "text": [
      "CSPR = 8.00 dB\n",
      "Results:\n",
      "BER: 3.03e-04\n",
      "SNR: 19.20 dB\n",
      "SIR =  19.54  dB\n",
      "GMI: 3.98 bits\n",
      "\n"
     ]
    },
    {
     "data": {
      "application/vnd.jupyter.widget-view+json": {
       "model_id": "ce782d92ac56434ab8691c0fc7769e05",
       "version_major": 2,
       "version_minor": 0
      },
      "text/plain": [
       "  0%|          | 0/10 [00:00<?, ?it/s]"
      ]
     },
     "metadata": {},
     "output_type": "display_data"
    },
    {
     "data": {
      "application/vnd.jupyter.widget-view+json": {
       "model_id": "b6c69115bad5413da45661f68cf070de",
       "version_major": 2,
       "version_minor": 0
      },
      "text/plain": [
       "  0%|          | 0/1 [00:00<?, ?it/s]"
      ]
     },
     "metadata": {},
     "output_type": "display_data"
    },
    {
     "name": "stdout",
     "output_type": "stream",
     "text": [
      "CSPR = 9.00 dB\n",
      "Results:\n",
      "BER: 2.27e-02\n",
      "SNR: 12.57 dB\n",
      "SIR =  14.88  dB\n",
      "GMI: 3.65 bits\n",
      "\n"
     ]
    },
    {
     "data": {
      "application/vnd.jupyter.widget-view+json": {
       "model_id": "eee7519a63d4481d93a4c3a23db51b71",
       "version_major": 2,
       "version_minor": 0
      },
      "text/plain": [
       "  0%|          | 0/1 [00:00<?, ?it/s]"
      ]
     },
     "metadata": {},
     "output_type": "display_data"
    },
    {
     "name": "stdout",
     "output_type": "stream",
     "text": [
      "CSPR = 9.00 dB\n",
      "Results:\n",
      "BER: 1.36e-02\n",
      "SNR: 13.53 dB\n",
      "SIR =  15.7  dB\n",
      "GMI: 3.78 bits\n",
      "\n"
     ]
    },
    {
     "data": {
      "application/vnd.jupyter.widget-view+json": {
       "model_id": "6dc686f2255a4ceab13c0658103f968a",
       "version_major": 2,
       "version_minor": 0
      },
      "text/plain": [
       "  0%|          | 0/1 [00:00<?, ?it/s]"
      ]
     },
     "metadata": {},
     "output_type": "display_data"
    },
    {
     "name": "stdout",
     "output_type": "stream",
     "text": [
      "CSPR = 9.00 dB\n",
      "Results:\n",
      "BER: 7.60e-03\n",
      "SNR: 14.44 dB\n",
      "SIR =  16.43  dB\n",
      "GMI: 3.88 bits\n",
      "\n"
     ]
    },
    {
     "data": {
      "application/vnd.jupyter.widget-view+json": {
       "model_id": "524a9e73f5d546d3b74a2a479dcc016f",
       "version_major": 2,
       "version_minor": 0
      },
      "text/plain": [
       "  0%|          | 0/1 [00:00<?, ?it/s]"
      ]
     },
     "metadata": {},
     "output_type": "display_data"
    },
    {
     "name": "stdout",
     "output_type": "stream",
     "text": [
      "CSPR = 9.00 dB\n",
      "Results:\n",
      "BER: 3.80e-03\n",
      "SNR: 15.26 dB\n",
      "SIR =  17.1  dB\n",
      "GMI: 3.93 bits\n",
      "\n"
     ]
    },
    {
     "data": {
      "application/vnd.jupyter.widget-view+json": {
       "model_id": "947f7c6c4b654f2d9fa5f7c08075e3d6",
       "version_major": 2,
       "version_minor": 0
      },
      "text/plain": [
       "  0%|          | 0/1 [00:00<?, ?it/s]"
      ]
     },
     "metadata": {},
     "output_type": "display_data"
    },
    {
     "name": "stdout",
     "output_type": "stream",
     "text": [
      "CSPR = 9.00 dB\n",
      "Results:\n",
      "BER: 1.87e-03\n",
      "SNR: 16.08 dB\n",
      "SIR =  17.73  dB\n",
      "GMI: 3.97 bits\n",
      "\n"
     ]
    },
    {
     "data": {
      "application/vnd.jupyter.widget-view+json": {
       "model_id": "2a4fb088566c41c895e1a4dee669364a",
       "version_major": 2,
       "version_minor": 0
      },
      "text/plain": [
       "  0%|          | 0/1 [00:00<?, ?it/s]"
      ]
     },
     "metadata": {},
     "output_type": "display_data"
    },
    {
     "name": "stdout",
     "output_type": "stream",
     "text": [
      "CSPR = 9.00 dB\n",
      "Results:\n",
      "BER: 9.19e-04\n",
      "SNR: 16.84 dB\n",
      "SIR =  18.26  dB\n",
      "GMI: 3.98 bits\n",
      "\n"
     ]
    },
    {
     "data": {
      "application/vnd.jupyter.widget-view+json": {
       "model_id": "261d4794ef2d4cdfac94742399a05edf",
       "version_major": 2,
       "version_minor": 0
      },
      "text/plain": [
       "  0%|          | 0/1 [00:00<?, ?it/s]"
      ]
     },
     "metadata": {},
     "output_type": "display_data"
    },
    {
     "name": "stdout",
     "output_type": "stream",
     "text": [
      "CSPR = 9.00 dB\n",
      "Results:\n",
      "BER: 4.38e-04\n",
      "SNR: 17.63 dB\n",
      "SIR =  18.87  dB\n",
      "GMI: 3.99 bits\n",
      "\n"
     ]
    },
    {
     "data": {
      "application/vnd.jupyter.widget-view+json": {
       "model_id": "32c48e70976344ce856cd79fb8e9b036",
       "version_major": 2,
       "version_minor": 0
      },
      "text/plain": [
       "  0%|          | 0/1 [00:00<?, ?it/s]"
      ]
     },
     "metadata": {},
     "output_type": "display_data"
    },
    {
     "name": "stdout",
     "output_type": "stream",
     "text": [
      "CSPR = 9.00 dB\n",
      "Results:\n",
      "BER: 1.78e-04\n",
      "SNR: 18.34 dB\n",
      "SIR =  19.22  dB\n",
      "GMI: 4.00 bits\n",
      "\n"
     ]
    },
    {
     "data": {
      "application/vnd.jupyter.widget-view+json": {
       "model_id": "27d4630f822e45bc907fa329e22a955e",
       "version_major": 2,
       "version_minor": 0
      },
      "text/plain": [
       "  0%|          | 0/1 [00:00<?, ?it/s]"
      ]
     },
     "metadata": {},
     "output_type": "display_data"
    },
    {
     "name": "stdout",
     "output_type": "stream",
     "text": [
      "CSPR = 9.00 dB\n",
      "Results:\n",
      "BER: 9.06e-05\n",
      "SNR: 19.11 dB\n",
      "SIR =  19.91  dB\n",
      "GMI: 4.00 bits\n",
      "\n"
     ]
    },
    {
     "data": {
      "application/vnd.jupyter.widget-view+json": {
       "model_id": "2fcfb9e192514c39b97f4ac4619eed8c",
       "version_major": 2,
       "version_minor": 0
      },
      "text/plain": [
       "  0%|          | 0/1 [00:00<?, ?it/s]"
      ]
     },
     "metadata": {},
     "output_type": "display_data"
    },
    {
     "name": "stdout",
     "output_type": "stream",
     "text": [
      "CSPR = 9.00 dB\n",
      "Results:\n",
      "BER: 4.37e-05\n",
      "SNR: 19.64 dB\n",
      "SIR =  20.16  dB\n",
      "GMI: 4.00 bits\n",
      "\n"
     ]
    },
    {
     "data": {
      "application/vnd.jupyter.widget-view+json": {
       "model_id": "f51d1591033e4b43ab25d3046b64728d",
       "version_major": 2,
       "version_minor": 0
      },
      "text/plain": [
       "  0%|          | 0/10 [00:00<?, ?it/s]"
      ]
     },
     "metadata": {},
     "output_type": "display_data"
    },
    {
     "data": {
      "application/vnd.jupyter.widget-view+json": {
       "model_id": "51790dc930f04c1f99ff213f4458de4f",
       "version_major": 2,
       "version_minor": 0
      },
      "text/plain": [
       "  0%|          | 0/1 [00:00<?, ?it/s]"
      ]
     },
     "metadata": {},
     "output_type": "display_data"
    },
    {
     "name": "stdout",
     "output_type": "stream",
     "text": [
      "CSPR = 10.00 dB\n",
      "Results:\n",
      "BER: 2.15e-02\n",
      "SNR: 12.69 dB\n",
      "SIR =  15.06  dB\n",
      "GMI: 3.67 bits\n",
      "\n"
     ]
    },
    {
     "data": {
      "application/vnd.jupyter.widget-view+json": {
       "model_id": "574de56f7ab54544ac73b17b031aa087",
       "version_major": 2,
       "version_minor": 0
      },
      "text/plain": [
       "  0%|          | 0/1 [00:00<?, ?it/s]"
      ]
     },
     "metadata": {},
     "output_type": "display_data"
    },
    {
     "name": "stdout",
     "output_type": "stream",
     "text": [
      "CSPR = 10.00 dB\n",
      "Results:\n",
      "BER: 1.27e-02\n",
      "SNR: 13.61 dB\n",
      "SIR =  15.88  dB\n",
      "GMI: 3.80 bits\n",
      "\n"
     ]
    },
    {
     "data": {
      "application/vnd.jupyter.widget-view+json": {
       "model_id": "0e4236dda7584fd39b730f125d6ba68c",
       "version_major": 2,
       "version_minor": 0
      },
      "text/plain": [
       "  0%|          | 0/1 [00:00<?, ?it/s]"
      ]
     },
     "metadata": {},
     "output_type": "display_data"
    },
    {
     "name": "stdout",
     "output_type": "stream",
     "text": [
      "CSPR = 10.00 dB\n",
      "Results:\n",
      "BER: 6.86e-03\n",
      "SNR: 14.51 dB\n",
      "SIR =  16.66  dB\n",
      "GMI: 3.89 bits\n",
      "\n"
     ]
    },
    {
     "data": {
      "application/vnd.jupyter.widget-view+json": {
       "model_id": "b63b560328614047ac03bdc07865f709",
       "version_major": 2,
       "version_minor": 0
      },
      "text/plain": [
       "  0%|          | 0/1 [00:00<?, ?it/s]"
      ]
     },
     "metadata": {},
     "output_type": "display_data"
    },
    {
     "name": "stdout",
     "output_type": "stream",
     "text": [
      "CSPR = 10.00 dB\n",
      "Results:\n",
      "BER: 3.73e-03\n",
      "SNR: 15.40 dB\n",
      "SIR =  17.37  dB\n",
      "GMI: 3.94 bits\n",
      "\n"
     ]
    },
    {
     "data": {
      "application/vnd.jupyter.widget-view+json": {
       "model_id": "8889888fece640f0adae7e82a19ed356",
       "version_major": 2,
       "version_minor": 0
      },
      "text/plain": [
       "  0%|          | 0/1 [00:00<?, ?it/s]"
      ]
     },
     "metadata": {},
     "output_type": "display_data"
    },
    {
     "name": "stdout",
     "output_type": "stream",
     "text": [
      "CSPR = 10.00 dB\n",
      "Results:\n",
      "BER: 1.59e-03\n",
      "SNR: 16.20 dB\n",
      "SIR =  17.94  dB\n",
      "GMI: 3.97 bits\n",
      "\n"
     ]
    },
    {
     "data": {
      "application/vnd.jupyter.widget-view+json": {
       "model_id": "85c60cb5fab44f268c06408e4db9ee60",
       "version_major": 2,
       "version_minor": 0
      },
      "text/plain": [
       "  0%|          | 0/1 [00:00<?, ?it/s]"
      ]
     },
     "metadata": {},
     "output_type": "display_data"
    },
    {
     "name": "stdout",
     "output_type": "stream",
     "text": [
      "CSPR = 10.00 dB\n",
      "Results:\n",
      "BER: 5.53e-04\n",
      "SNR: 17.04 dB\n",
      "SIR =  18.54  dB\n",
      "GMI: 3.99 bits\n",
      "\n"
     ]
    },
    {
     "data": {
      "application/vnd.jupyter.widget-view+json": {
       "model_id": "6c142cd220ee4f15ad4b9214890a02f7",
       "version_major": 2,
       "version_minor": 0
      },
      "text/plain": [
       "  0%|          | 0/1 [00:00<?, ?it/s]"
      ]
     },
     "metadata": {},
     "output_type": "display_data"
    },
    {
     "name": "stdout",
     "output_type": "stream",
     "text": [
      "CSPR = 10.00 dB\n",
      "Results:\n",
      "BER: 2.78e-04\n",
      "SNR: 17.82 dB\n",
      "SIR =  19.1  dB\n",
      "GMI: 3.99 bits\n",
      "\n"
     ]
    },
    {
     "data": {
      "application/vnd.jupyter.widget-view+json": {
       "model_id": "e6f91178508c490fbd0b830c2989e178",
       "version_major": 2,
       "version_minor": 0
      },
      "text/plain": [
       "  0%|          | 0/1 [00:00<?, ?it/s]"
      ]
     },
     "metadata": {},
     "output_type": "display_data"
    },
    {
     "name": "stdout",
     "output_type": "stream",
     "text": [
      "CSPR = 10.00 dB\n",
      "Results:\n",
      "BER: 8.44e-05\n",
      "SNR: 18.55 dB\n",
      "SIR =  19.62  dB\n",
      "GMI: 4.00 bits\n",
      "\n"
     ]
    },
    {
     "data": {
      "application/vnd.jupyter.widget-view+json": {
       "model_id": "28d09e62a9644f12beca1567b537133b",
       "version_major": 2,
       "version_minor": 0
      },
      "text/plain": [
       "  0%|          | 0/1 [00:00<?, ?it/s]"
      ]
     },
     "metadata": {},
     "output_type": "display_data"
    },
    {
     "name": "stdout",
     "output_type": "stream",
     "text": [
      "CSPR = 10.00 dB\n",
      "Results:\n",
      "BER: 1.56e-05\n",
      "SNR: 19.30 dB\n",
      "SIR =  20.18  dB\n",
      "GMI: 4.00 bits\n",
      "\n"
     ]
    },
    {
     "data": {
      "application/vnd.jupyter.widget-view+json": {
       "model_id": "d08bf0c3d75e4669bb805c94468f0c87",
       "version_major": 2,
       "version_minor": 0
      },
      "text/plain": [
       "  0%|          | 0/1 [00:00<?, ?it/s]"
      ]
     },
     "metadata": {},
     "output_type": "display_data"
    },
    {
     "name": "stdout",
     "output_type": "stream",
     "text": [
      "CSPR = 10.00 dB\n",
      "Results:\n",
      "BER: 1.87e-05\n",
      "SNR: 19.79 dB\n",
      "SIR =  20.36  dB\n",
      "GMI: 4.00 bits\n",
      "\n"
     ]
    },
    {
     "data": {
      "application/vnd.jupyter.widget-view+json": {
       "model_id": "61d1f2cca0b24b9cadd86bc74cf97b5c",
       "version_major": 2,
       "version_minor": 0
      },
      "text/plain": [
       "  0%|          | 0/10 [00:00<?, ?it/s]"
      ]
     },
     "metadata": {},
     "output_type": "display_data"
    },
    {
     "data": {
      "application/vnd.jupyter.widget-view+json": {
       "model_id": "7ea0c369906a4287929f7ff13fea0f7a",
       "version_major": 2,
       "version_minor": 0
      },
      "text/plain": [
       "  0%|          | 0/1 [00:00<?, ?it/s]"
      ]
     },
     "metadata": {},
     "output_type": "display_data"
    },
    {
     "name": "stdout",
     "output_type": "stream",
     "text": [
      "CSPR = 11.00 dB\n",
      "Results:\n",
      "BER: 2.05e-02\n",
      "SNR: 12.78 dB\n",
      "SIR =  15.27  dB\n",
      "GMI: 3.68 bits\n",
      "\n"
     ]
    },
    {
     "data": {
      "application/vnd.jupyter.widget-view+json": {
       "model_id": "1a16842ea0d4452f9c8c19a048074558",
       "version_major": 2,
       "version_minor": 0
      },
      "text/plain": [
       "  0%|          | 0/1 [00:00<?, ?it/s]"
      ]
     },
     "metadata": {},
     "output_type": "display_data"
    },
    {
     "name": "stdout",
     "output_type": "stream",
     "text": [
      "CSPR = 11.00 dB\n",
      "Results:\n",
      "BER: 1.24e-02\n",
      "SNR: 13.69 dB\n",
      "SIR =  16.02  dB\n",
      "GMI: 3.81 bits\n",
      "\n"
     ]
    },
    {
     "data": {
      "application/vnd.jupyter.widget-view+json": {
       "model_id": "058d64dc0c0d4dd5a8cc9e43b804bbd8",
       "version_major": 2,
       "version_minor": 0
      },
      "text/plain": [
       "  0%|          | 0/1 [00:00<?, ?it/s]"
      ]
     },
     "metadata": {},
     "output_type": "display_data"
    },
    {
     "name": "stdout",
     "output_type": "stream",
     "text": [
      "CSPR = 11.00 dB\n",
      "Results:\n",
      "BER: 6.50e-03\n",
      "SNR: 14.61 dB\n",
      "SIR =  16.69  dB\n",
      "GMI: 3.90 bits\n",
      "\n"
     ]
    },
    {
     "data": {
      "application/vnd.jupyter.widget-view+json": {
       "model_id": "e7350b185627466e9668a7213d087591",
       "version_major": 2,
       "version_minor": 0
      },
      "text/plain": [
       "  0%|          | 0/1 [00:00<?, ?it/s]"
      ]
     },
     "metadata": {},
     "output_type": "display_data"
    },
    {
     "name": "stdout",
     "output_type": "stream",
     "text": [
      "CSPR = 11.00 dB\n",
      "Results:\n",
      "BER: 3.45e-03\n",
      "SNR: 15.48 dB\n",
      "SIR =  17.52  dB\n",
      "GMI: 3.95 bits\n",
      "\n"
     ]
    },
    {
     "data": {
      "application/vnd.jupyter.widget-view+json": {
       "model_id": "408bee873fd245048d70c3f91116eeeb",
       "version_major": 2,
       "version_minor": 0
      },
      "text/plain": [
       "  0%|          | 0/1 [00:00<?, ?it/s]"
      ]
     },
     "metadata": {},
     "output_type": "display_data"
    },
    {
     "name": "stdout",
     "output_type": "stream",
     "text": [
      "CSPR = 11.00 dB\n",
      "Results:\n",
      "BER: 1.36e-03\n",
      "SNR: 16.34 dB\n",
      "SIR =  18.18  dB\n",
      "GMI: 3.98 bits\n",
      "\n"
     ]
    },
    {
     "data": {
      "application/vnd.jupyter.widget-view+json": {
       "model_id": "b8c9b82c966a44418bc18a87fd31bb69",
       "version_major": 2,
       "version_minor": 0
      },
      "text/plain": [
       "  0%|          | 0/1 [00:00<?, ?it/s]"
      ]
     },
     "metadata": {},
     "output_type": "display_data"
    },
    {
     "name": "stdout",
     "output_type": "stream",
     "text": [
      "CSPR = 11.00 dB\n",
      "Results:\n",
      "BER: 5.91e-04\n",
      "SNR: 17.16 dB\n",
      "SIR =  18.77  dB\n",
      "GMI: 3.99 bits\n",
      "\n"
     ]
    },
    {
     "data": {
      "application/vnd.jupyter.widget-view+json": {
       "model_id": "c7b3d7434f224085898ef643a862b957",
       "version_major": 2,
       "version_minor": 0
      },
      "text/plain": [
       "  0%|          | 0/1 [00:00<?, ?it/s]"
      ]
     },
     "metadata": {},
     "output_type": "display_data"
    },
    {
     "name": "stdout",
     "output_type": "stream",
     "text": [
      "CSPR = 11.00 dB\n",
      "Results:\n",
      "BER: 1.88e-04\n",
      "SNR: 17.91 dB\n",
      "SIR =  19.33  dB\n",
      "GMI: 4.00 bits\n",
      "\n"
     ]
    },
    {
     "data": {
      "application/vnd.jupyter.widget-view+json": {
       "model_id": "0df95598cda044c4a42d71d6dddd1d81",
       "version_major": 2,
       "version_minor": 0
      },
      "text/plain": [
       "  0%|          | 0/1 [00:00<?, ?it/s]"
      ]
     },
     "metadata": {},
     "output_type": "display_data"
    },
    {
     "name": "stdout",
     "output_type": "stream",
     "text": [
      "CSPR = 11.00 dB\n",
      "Results:\n",
      "BER: 9.38e-05\n",
      "SNR: 18.63 dB\n",
      "SIR =  19.78  dB\n",
      "GMI: 4.00 bits\n",
      "\n"
     ]
    },
    {
     "data": {
      "application/vnd.jupyter.widget-view+json": {
       "model_id": "7e05243eb8a1451cae7c79486ec64ef1",
       "version_major": 2,
       "version_minor": 0
      },
      "text/plain": [
       "  0%|          | 0/1 [00:00<?, ?it/s]"
      ]
     },
     "metadata": {},
     "output_type": "display_data"
    },
    {
     "name": "stdout",
     "output_type": "stream",
     "text": [
      "CSPR = 11.00 dB\n",
      "Results:\n",
      "BER: 2.19e-05\n",
      "SNR: 19.28 dB\n",
      "SIR =  20.2  dB\n",
      "GMI: 4.00 bits\n",
      "\n"
     ]
    },
    {
     "data": {
      "application/vnd.jupyter.widget-view+json": {
       "model_id": "8264bf7aa9284f38a01e147a8c4e1d77",
       "version_major": 2,
       "version_minor": 0
      },
      "text/plain": [
       "  0%|          | 0/1 [00:00<?, ?it/s]"
      ]
     },
     "metadata": {},
     "output_type": "display_data"
    },
    {
     "name": "stdout",
     "output_type": "stream",
     "text": [
      "CSPR = 11.00 dB\n",
      "Results:\n",
      "BER: 1.56e-05\n",
      "SNR: 20.02 dB\n",
      "SIR =  20.69  dB\n",
      "GMI: 4.00 bits\n",
      "\n"
     ]
    },
    {
     "data": {
      "application/vnd.jupyter.widget-view+json": {
       "model_id": "4d3a7678f7a9437d80a637012b683544",
       "version_major": 2,
       "version_minor": 0
      },
      "text/plain": [
       "  0%|          | 0/10 [00:00<?, ?it/s]"
      ]
     },
     "metadata": {},
     "output_type": "display_data"
    },
    {
     "data": {
      "application/vnd.jupyter.widget-view+json": {
       "model_id": "11427d56fe4145b9bc9d55dd3fcae47d",
       "version_major": 2,
       "version_minor": 0
      },
      "text/plain": [
       "  0%|          | 0/1 [00:00<?, ?it/s]"
      ]
     },
     "metadata": {},
     "output_type": "display_data"
    },
    {
     "name": "stdout",
     "output_type": "stream",
     "text": [
      "CSPR = 12.00 dB\n",
      "Results:\n",
      "BER: 2.03e-02\n",
      "SNR: 12.85 dB\n",
      "SIR =  15.34  dB\n",
      "GMI: 3.69 bits\n",
      "\n"
     ]
    },
    {
     "data": {
      "application/vnd.jupyter.widget-view+json": {
       "model_id": "ad4974b74a644e06a21da382db927b43",
       "version_major": 2,
       "version_minor": 0
      },
      "text/plain": [
       "  0%|          | 0/1 [00:00<?, ?it/s]"
      ]
     },
     "metadata": {},
     "output_type": "display_data"
    },
    {
     "name": "stdout",
     "output_type": "stream",
     "text": [
      "CSPR = 12.00 dB\n",
      "Results:\n",
      "BER: 1.20e-02\n",
      "SNR: 13.72 dB\n",
      "SIR =  16.1  dB\n",
      "GMI: 3.81 bits\n",
      "\n"
     ]
    },
    {
     "data": {
      "application/vnd.jupyter.widget-view+json": {
       "model_id": "a10c6faccf324b69bc4be7e995a17f24",
       "version_major": 2,
       "version_minor": 0
      },
      "text/plain": [
       "  0%|          | 0/1 [00:00<?, ?it/s]"
      ]
     },
     "metadata": {},
     "output_type": "display_data"
    },
    {
     "name": "stdout",
     "output_type": "stream",
     "text": [
      "CSPR = 12.00 dB\n",
      "Results:\n",
      "BER: 6.06e-03\n",
      "SNR: 14.68 dB\n",
      "SIR =  16.93  dB\n",
      "GMI: 3.90 bits\n",
      "\n"
     ]
    },
    {
     "data": {
      "application/vnd.jupyter.widget-view+json": {
       "model_id": "dee82ce4c4714caaa5c2c650dfadaec3",
       "version_major": 2,
       "version_minor": 0
      },
      "text/plain": [
       "  0%|          | 0/1 [00:00<?, ?it/s]"
      ]
     },
     "metadata": {},
     "output_type": "display_data"
    },
    {
     "name": "stdout",
     "output_type": "stream",
     "text": [
      "CSPR = 12.00 dB\n",
      "Results:\n",
      "BER: 3.16e-03\n",
      "SNR: 15.51 dB\n",
      "SIR =  17.56  dB\n",
      "GMI: 3.95 bits\n",
      "\n"
     ]
    },
    {
     "data": {
      "application/vnd.jupyter.widget-view+json": {
       "model_id": "ade5aeb6d0414bd6bb3da24282446075",
       "version_major": 2,
       "version_minor": 0
      },
      "text/plain": [
       "  0%|          | 0/1 [00:00<?, ?it/s]"
      ]
     },
     "metadata": {},
     "output_type": "display_data"
    },
    {
     "name": "stdout",
     "output_type": "stream",
     "text": [
      "CSPR = 12.00 dB\n",
      "Results:\n",
      "BER: 1.28e-03\n",
      "SNR: 16.38 dB\n",
      "SIR =  18.23  dB\n",
      "GMI: 3.98 bits\n",
      "\n"
     ]
    },
    {
     "data": {
      "application/vnd.jupyter.widget-view+json": {
       "model_id": "495778b375a748299f472d49b8f7e3f0",
       "version_major": 2,
       "version_minor": 0
      },
      "text/plain": [
       "  0%|          | 0/1 [00:00<?, ?it/s]"
      ]
     },
     "metadata": {},
     "output_type": "display_data"
    },
    {
     "name": "stdout",
     "output_type": "stream",
     "text": [
      "CSPR = 12.00 dB\n",
      "Results:\n",
      "BER: 5.53e-04\n",
      "SNR: 17.19 dB\n",
      "SIR =  18.83  dB\n",
      "GMI: 3.99 bits\n",
      "\n"
     ]
    },
    {
     "data": {
      "application/vnd.jupyter.widget-view+json": {
       "model_id": "054687e4cbbf46f98096e252ee6487d8",
       "version_major": 2,
       "version_minor": 0
      },
      "text/plain": [
       "  0%|          | 0/1 [00:00<?, ?it/s]"
      ]
     },
     "metadata": {},
     "output_type": "display_data"
    },
    {
     "name": "stdout",
     "output_type": "stream",
     "text": [
      "CSPR = 12.00 dB\n",
      "Results:\n",
      "BER: 1.69e-04\n",
      "SNR: 18.01 dB\n",
      "SIR =  19.44  dB\n",
      "GMI: 4.00 bits\n",
      "\n"
     ]
    },
    {
     "data": {
      "application/vnd.jupyter.widget-view+json": {
       "model_id": "fdd9bb170d5a4e68acdb4ddb65211979",
       "version_major": 2,
       "version_minor": 0
      },
      "text/plain": [
       "  0%|          | 0/1 [00:00<?, ?it/s]"
      ]
     },
     "metadata": {},
     "output_type": "display_data"
    },
    {
     "name": "stdout",
     "output_type": "stream",
     "text": [
      "CSPR = 12.00 dB\n",
      "Results:\n",
      "BER: 3.44e-05\n",
      "SNR: 18.71 dB\n",
      "SIR =  19.93  dB\n",
      "GMI: 4.00 bits\n",
      "\n"
     ]
    },
    {
     "data": {
      "application/vnd.jupyter.widget-view+json": {
       "model_id": "543d0f2f8d1f4c75acccd9b979b47e0d",
       "version_major": 2,
       "version_minor": 0
      },
      "text/plain": [
       "  0%|          | 0/1 [00:00<?, ?it/s]"
      ]
     },
     "metadata": {},
     "output_type": "display_data"
    },
    {
     "name": "stdout",
     "output_type": "stream",
     "text": [
      "CSPR = 12.00 dB\n",
      "Results:\n",
      "BER: 3.44e-05\n",
      "SNR: 19.37 dB\n",
      "SIR =  20.35  dB\n",
      "GMI: 4.00 bits\n",
      "\n"
     ]
    },
    {
     "data": {
      "application/vnd.jupyter.widget-view+json": {
       "model_id": "60ceacb855034f4f809fc489e10b9a5d",
       "version_major": 2,
       "version_minor": 0
      },
      "text/plain": [
       "  0%|          | 0/1 [00:00<?, ?it/s]"
      ]
     },
     "metadata": {},
     "output_type": "display_data"
    },
    {
     "name": "stdout",
     "output_type": "stream",
     "text": [
      "CSPR = 12.00 dB\n",
      "Results:\n",
      "BER: 9.37e-06\n",
      "SNR: 20.00 dB\n",
      "SIR =  20.75  dB\n",
      "GMI: 4.00 bits\n",
      "\n"
     ]
    },
    {
     "data": {
      "application/vnd.jupyter.widget-view+json": {
       "model_id": "b0d9f83796ab4ec2b9410c0342630c6c",
       "version_major": 2,
       "version_minor": 0
      },
      "text/plain": [
       "  0%|          | 0/10 [00:00<?, ?it/s]"
      ]
     },
     "metadata": {},
     "output_type": "display_data"
    },
    {
     "data": {
      "application/vnd.jupyter.widget-view+json": {
       "model_id": "5e0fdcf1b37f4354815a0e85959def6b",
       "version_major": 2,
       "version_minor": 0
      },
      "text/plain": [
       "  0%|          | 0/1 [00:00<?, ?it/s]"
      ]
     },
     "metadata": {},
     "output_type": "display_data"
    },
    {
     "name": "stdout",
     "output_type": "stream",
     "text": [
      "CSPR = 13.00 dB\n",
      "Results:\n",
      "BER: 1.95e-02\n",
      "SNR: 12.88 dB\n",
      "SIR =  15.43  dB\n",
      "GMI: 3.70 bits\n",
      "\n"
     ]
    },
    {
     "data": {
      "application/vnd.jupyter.widget-view+json": {
       "model_id": "d7ecb08042b04ae08a094062f2d681a8",
       "version_major": 2,
       "version_minor": 0
      },
      "text/plain": [
       "  0%|          | 0/1 [00:00<?, ?it/s]"
      ]
     },
     "metadata": {},
     "output_type": "display_data"
    },
    {
     "name": "stdout",
     "output_type": "stream",
     "text": [
      "CSPR = 13.00 dB\n",
      "Results:\n",
      "BER: 1.13e-02\n",
      "SNR: 13.81 dB\n",
      "SIR =  16.24  dB\n",
      "GMI: 3.82 bits\n",
      "\n"
     ]
    },
    {
     "data": {
      "application/vnd.jupyter.widget-view+json": {
       "model_id": "48dfacb3abab499797191818ef653de7",
       "version_major": 2,
       "version_minor": 0
      },
      "text/plain": [
       "  0%|          | 0/1 [00:00<?, ?it/s]"
      ]
     },
     "metadata": {},
     "output_type": "display_data"
    },
    {
     "name": "stdout",
     "output_type": "stream",
     "text": [
      "CSPR = 13.00 dB\n",
      "Results:\n",
      "BER: 6.34e-03\n",
      "SNR: 14.67 dB\n",
      "SIR =  16.96  dB\n",
      "GMI: 3.90 bits\n",
      "\n"
     ]
    },
    {
     "data": {
      "application/vnd.jupyter.widget-view+json": {
       "model_id": "de073305cda44302a92717d456660134",
       "version_major": 2,
       "version_minor": 0
      },
      "text/plain": [
       "  0%|          | 0/1 [00:00<?, ?it/s]"
      ]
     },
     "metadata": {},
     "output_type": "display_data"
    },
    {
     "name": "stdout",
     "output_type": "stream",
     "text": [
      "CSPR = 13.00 dB\n",
      "Results:\n",
      "BER: 2.97e-03\n",
      "SNR: 15.52 dB\n",
      "SIR =  17.62  dB\n",
      "GMI: 3.95 bits\n",
      "\n"
     ]
    },
    {
     "data": {
      "application/vnd.jupyter.widget-view+json": {
       "model_id": "8a9b258545a747bfa269de7819ad2cab",
       "version_major": 2,
       "version_minor": 0
      },
      "text/plain": [
       "  0%|          | 0/1 [00:00<?, ?it/s]"
      ]
     },
     "metadata": {},
     "output_type": "display_data"
    },
    {
     "name": "stdout",
     "output_type": "stream",
     "text": [
      "CSPR = 13.00 dB\n",
      "Results:\n",
      "BER: 1.27e-03\n",
      "SNR: 16.45 dB\n",
      "SIR =  18.34  dB\n",
      "GMI: 3.98 bits\n",
      "\n"
     ]
    },
    {
     "data": {
      "application/vnd.jupyter.widget-view+json": {
       "model_id": "37c992da3ade47eb8ff8b51c133c0ac4",
       "version_major": 2,
       "version_minor": 0
      },
      "text/plain": [
       "  0%|          | 0/1 [00:00<?, ?it/s]"
      ]
     },
     "metadata": {},
     "output_type": "display_data"
    },
    {
     "name": "stdout",
     "output_type": "stream",
     "text": [
      "CSPR = 13.00 dB\n",
      "Results:\n",
      "BER: 4.69e-04\n",
      "SNR: 17.26 dB\n",
      "SIR =  18.88  dB\n",
      "GMI: 3.99 bits\n",
      "\n"
     ]
    },
    {
     "data": {
      "application/vnd.jupyter.widget-view+json": {
       "model_id": "06227618541e437ca03cddf9a2ad6137",
       "version_major": 2,
       "version_minor": 0
      },
      "text/plain": [
       "  0%|          | 0/1 [00:00<?, ?it/s]"
      ]
     },
     "metadata": {},
     "output_type": "display_data"
    },
    {
     "name": "stdout",
     "output_type": "stream",
     "text": [
      "CSPR = 13.00 dB\n",
      "Results:\n",
      "BER: 1.66e-04\n",
      "SNR: 18.07 dB\n",
      "SIR =  19.59  dB\n",
      "GMI: 4.00 bits\n",
      "\n"
     ]
    },
    {
     "data": {
      "application/vnd.jupyter.widget-view+json": {
       "model_id": "d938163e772c4d43bd8f4af64a6ff426",
       "version_major": 2,
       "version_minor": 0
      },
      "text/plain": [
       "  0%|          | 0/1 [00:00<?, ?it/s]"
      ]
     },
     "metadata": {},
     "output_type": "display_data"
    },
    {
     "name": "stdout",
     "output_type": "stream",
     "text": [
      "CSPR = 13.00 dB\n",
      "Results:\n",
      "BER: 5.31e-05\n",
      "SNR: 18.75 dB\n",
      "SIR =  19.99  dB\n",
      "GMI: 4.00 bits\n",
      "\n"
     ]
    },
    {
     "data": {
      "application/vnd.jupyter.widget-view+json": {
       "model_id": "55bd0ea7d2284ba2ba1e7391d0fad409",
       "version_major": 2,
       "version_minor": 0
      },
      "text/plain": [
       "  0%|          | 0/1 [00:00<?, ?it/s]"
      ]
     },
     "metadata": {},
     "output_type": "display_data"
    },
    {
     "name": "stdout",
     "output_type": "stream",
     "text": [
      "CSPR = 13.00 dB\n",
      "Results:\n",
      "BER: 1.56e-05\n",
      "SNR: 19.43 dB\n",
      "SIR =  20.39  dB\n",
      "GMI: 4.00 bits\n",
      "\n"
     ]
    },
    {
     "data": {
      "application/vnd.jupyter.widget-view+json": {
       "model_id": "1265ea1a78cd4f00ad628b085c44253c",
       "version_major": 2,
       "version_minor": 0
      },
      "text/plain": [
       "  0%|          | 0/1 [00:00<?, ?it/s]"
      ]
     },
     "metadata": {},
     "output_type": "display_data"
    },
    {
     "name": "stdout",
     "output_type": "stream",
     "text": [
      "CSPR = 13.00 dB\n",
      "Results:\n",
      "BER: 3.13e-06\n",
      "SNR: 20.10 dB\n",
      "SIR =  20.9  dB\n",
      "GMI: 4.00 bits\n",
      "\n"
     ]
    },
    {
     "data": {
      "application/vnd.jupyter.widget-view+json": {
       "model_id": "904d3087fb504456a50b5e0ce04c4262",
       "version_major": 2,
       "version_minor": 0
      },
      "text/plain": [
       "  0%|          | 0/10 [00:00<?, ?it/s]"
      ]
     },
     "metadata": {},
     "output_type": "display_data"
    },
    {
     "data": {
      "application/vnd.jupyter.widget-view+json": {
       "model_id": "81aebd9601384fa986d8d245ed950c0f",
       "version_major": 2,
       "version_minor": 0
      },
      "text/plain": [
       "  0%|          | 0/1 [00:00<?, ?it/s]"
      ]
     },
     "metadata": {},
     "output_type": "display_data"
    },
    {
     "name": "stdout",
     "output_type": "stream",
     "text": [
      "CSPR = 14.00 dB\n",
      "Results:\n",
      "BER: 1.94e-02\n",
      "SNR: 12.91 dB\n",
      "SIR =  15.51  dB\n",
      "GMI: 3.71 bits\n",
      "\n"
     ]
    },
    {
     "data": {
      "application/vnd.jupyter.widget-view+json": {
       "model_id": "3159c2f03e0541628b40dee53b16cfc9",
       "version_major": 2,
       "version_minor": 0
      },
      "text/plain": [
       "  0%|          | 0/1 [00:00<?, ?it/s]"
      ]
     },
     "metadata": {},
     "output_type": "display_data"
    },
    {
     "name": "stdout",
     "output_type": "stream",
     "text": [
      "CSPR = 14.00 dB\n",
      "Results:\n",
      "BER: 1.14e-02\n",
      "SNR: 13.81 dB\n",
      "SIR =  16.28  dB\n",
      "GMI: 3.82 bits\n",
      "\n"
     ]
    },
    {
     "data": {
      "application/vnd.jupyter.widget-view+json": {
       "model_id": "b6068b9a2c0a4cf2be2085d3a65d17e5",
       "version_major": 2,
       "version_minor": 0
      },
      "text/plain": [
       "  0%|          | 0/1 [00:00<?, ?it/s]"
      ]
     },
     "metadata": {},
     "output_type": "display_data"
    },
    {
     "name": "stdout",
     "output_type": "stream",
     "text": [
      "CSPR = 14.00 dB\n",
      "Results:\n",
      "BER: 6.15e-03\n",
      "SNR: 14.71 dB\n",
      "SIR =  16.96  dB\n",
      "GMI: 3.90 bits\n",
      "\n"
     ]
    },
    {
     "data": {
      "application/vnd.jupyter.widget-view+json": {
       "model_id": "1f93d13b1b93470786f8953285c38298",
       "version_major": 2,
       "version_minor": 0
      },
      "text/plain": [
       "  0%|          | 0/1 [00:00<?, ?it/s]"
      ]
     },
     "metadata": {},
     "output_type": "display_data"
    },
    {
     "name": "stdout",
     "output_type": "stream",
     "text": [
      "CSPR = 14.00 dB\n",
      "Results:\n",
      "BER: 2.84e-03\n",
      "SNR: 15.59 dB\n",
      "SIR =  17.7  dB\n",
      "GMI: 3.95 bits\n",
      "\n"
     ]
    },
    {
     "data": {
      "application/vnd.jupyter.widget-view+json": {
       "model_id": "ccda0e4cafee4142a8cc12ecc5e0f91f",
       "version_major": 2,
       "version_minor": 0
      },
      "text/plain": [
       "  0%|          | 0/1 [00:00<?, ?it/s]"
      ]
     },
     "metadata": {},
     "output_type": "display_data"
    },
    {
     "name": "stdout",
     "output_type": "stream",
     "text": [
      "CSPR = 14.00 dB\n",
      "Results:\n",
      "BER: 1.23e-03\n",
      "SNR: 16.45 dB\n",
      "SIR =  18.4  dB\n",
      "GMI: 3.98 bits\n",
      "\n"
     ]
    },
    {
     "data": {
      "application/vnd.jupyter.widget-view+json": {
       "model_id": "2840a66f04264d4b901ea9d2e552aa52",
       "version_major": 2,
       "version_minor": 0
      },
      "text/plain": [
       "  0%|          | 0/1 [00:00<?, ?it/s]"
      ]
     },
     "metadata": {},
     "output_type": "display_data"
    },
    {
     "name": "stdout",
     "output_type": "stream",
     "text": [
      "CSPR = 14.00 dB\n",
      "Results:\n",
      "BER: 5.50e-04\n",
      "SNR: 17.28 dB\n",
      "SIR =  19.03  dB\n",
      "GMI: 3.99 bits\n",
      "\n"
     ]
    },
    {
     "data": {
      "application/vnd.jupyter.widget-view+json": {
       "model_id": "ae4ea9270af841259bd4d649f01000f7",
       "version_major": 2,
       "version_minor": 0
      },
      "text/plain": [
       "  0%|          | 0/1 [00:00<?, ?it/s]"
      ]
     },
     "metadata": {},
     "output_type": "display_data"
    },
    {
     "name": "stdout",
     "output_type": "stream",
     "text": [
      "CSPR = 14.00 dB\n",
      "Results:\n",
      "BER: 1.81e-04\n",
      "SNR: 18.03 dB\n",
      "SIR =  19.48  dB\n",
      "GMI: 4.00 bits\n",
      "\n"
     ]
    },
    {
     "data": {
      "application/vnd.jupyter.widget-view+json": {
       "model_id": "1d65a7ea1276477b90cc92a4054cd3d4",
       "version_major": 2,
       "version_minor": 0
      },
      "text/plain": [
       "  0%|          | 0/1 [00:00<?, ?it/s]"
      ]
     },
     "metadata": {},
     "output_type": "display_data"
    },
    {
     "name": "stdout",
     "output_type": "stream",
     "text": [
      "CSPR = 14.00 dB\n",
      "Results:\n",
      "BER: 5.62e-05\n",
      "SNR: 18.78 dB\n",
      "SIR =  20.06  dB\n",
      "GMI: 4.00 bits\n",
      "\n"
     ]
    },
    {
     "data": {
      "application/vnd.jupyter.widget-view+json": {
       "model_id": "e854f81dce064921a6c5b04d97ba841e",
       "version_major": 2,
       "version_minor": 0
      },
      "text/plain": [
       "  0%|          | 0/1 [00:00<?, ?it/s]"
      ]
     },
     "metadata": {},
     "output_type": "display_data"
    },
    {
     "name": "stdout",
     "output_type": "stream",
     "text": [
      "CSPR = 14.00 dB\n",
      "Results:\n",
      "BER: 2.19e-05\n",
      "SNR: 19.43 dB\n",
      "SIR =  20.42  dB\n",
      "GMI: 4.00 bits\n",
      "\n"
     ]
    },
    {
     "data": {
      "application/vnd.jupyter.widget-view+json": {
       "model_id": "b02438f7197848b4b14a75f9e1d89446",
       "version_major": 2,
       "version_minor": 0
      },
      "text/plain": [
       "  0%|          | 0/1 [00:00<?, ?it/s]"
      ]
     },
     "metadata": {},
     "output_type": "display_data"
    },
    {
     "name": "stdout",
     "output_type": "stream",
     "text": [
      "CSPR = 14.00 dB\n",
      "Results:\n",
      "BER: 1.25e-05\n",
      "SNR: 20.06 dB\n",
      "SIR =  20.88  dB\n",
      "GMI: 4.00 bits\n",
      "\n"
     ]
    },
    {
     "data": {
      "application/vnd.jupyter.widget-view+json": {
       "model_id": "3b1b1b1c517a4f42b4c480a5c99be73c",
       "version_major": 2,
       "version_minor": 0
      },
      "text/plain": [
       "  0%|          | 0/10 [00:00<?, ?it/s]"
      ]
     },
     "metadata": {},
     "output_type": "display_data"
    },
    {
     "data": {
      "application/vnd.jupyter.widget-view+json": {
       "model_id": "fedde6df388f48c9b3a8a27339c14370",
       "version_major": 2,
       "version_minor": 0
      },
      "text/plain": [
       "  0%|          | 0/1 [00:00<?, ?it/s]"
      ]
     },
     "metadata": {},
     "output_type": "display_data"
    },
    {
     "name": "stdout",
     "output_type": "stream",
     "text": [
      "CSPR = 15.00 dB\n",
      "Results:\n",
      "BER: 1.93e-02\n",
      "SNR: 12.89 dB\n",
      "SIR =  15.51  dB\n",
      "GMI: 3.71 bits\n",
      "\n"
     ]
    },
    {
     "data": {
      "application/vnd.jupyter.widget-view+json": {
       "model_id": "8427ce8ca4e64cd8896917191ce24d74",
       "version_major": 2,
       "version_minor": 0
      },
      "text/plain": [
       "  0%|          | 0/1 [00:00<?, ?it/s]"
      ]
     },
     "metadata": {},
     "output_type": "display_data"
    },
    {
     "name": "stdout",
     "output_type": "stream",
     "text": [
      "CSPR = 15.00 dB\n",
      "Results:\n",
      "BER: 1.11e-02\n",
      "SNR: 13.83 dB\n",
      "SIR =  16.27  dB\n",
      "GMI: 3.83 bits\n",
      "\n"
     ]
    },
    {
     "data": {
      "application/vnd.jupyter.widget-view+json": {
       "model_id": "43caae2b7a90450687af9da96849e8a6",
       "version_major": 2,
       "version_minor": 0
      },
      "text/plain": [
       "  0%|          | 0/1 [00:00<?, ?it/s]"
      ]
     },
     "metadata": {},
     "output_type": "display_data"
    },
    {
     "name": "stdout",
     "output_type": "stream",
     "text": [
      "CSPR = 15.00 dB\n",
      "Results:\n",
      "BER: 5.95e-03\n",
      "SNR: 14.72 dB\n",
      "SIR =  17.09  dB\n",
      "GMI: 3.90 bits\n",
      "\n"
     ]
    },
    {
     "data": {
      "application/vnd.jupyter.widget-view+json": {
       "model_id": "3d9d450450ac410ab542a45533a2e0bc",
       "version_major": 2,
       "version_minor": 0
      },
      "text/plain": [
       "  0%|          | 0/1 [00:00<?, ?it/s]"
      ]
     },
     "metadata": {},
     "output_type": "display_data"
    },
    {
     "name": "stdout",
     "output_type": "stream",
     "text": [
      "CSPR = 15.00 dB\n",
      "Results:\n",
      "BER: 2.83e-03\n",
      "SNR: 15.62 dB\n",
      "SIR =  17.74  dB\n",
      "GMI: 3.95 bits\n",
      "\n"
     ]
    },
    {
     "data": {
      "application/vnd.jupyter.widget-view+json": {
       "model_id": "095b670829e54caf8250629fb34b23c1",
       "version_major": 2,
       "version_minor": 0
      },
      "text/plain": [
       "  0%|          | 0/1 [00:00<?, ?it/s]"
      ]
     },
     "metadata": {},
     "output_type": "display_data"
    },
    {
     "name": "stdout",
     "output_type": "stream",
     "text": [
      "CSPR = 15.00 dB\n",
      "Results:\n",
      "BER: 1.24e-03\n",
      "SNR: 16.48 dB\n",
      "SIR =  18.48  dB\n",
      "GMI: 3.98 bits\n",
      "\n"
     ]
    },
    {
     "data": {
      "application/vnd.jupyter.widget-view+json": {
       "model_id": "c353977f70e04fb2a8af92252ecee826",
       "version_major": 2,
       "version_minor": 0
      },
      "text/plain": [
       "  0%|          | 0/1 [00:00<?, ?it/s]"
      ]
     },
     "metadata": {},
     "output_type": "display_data"
    },
    {
     "name": "stdout",
     "output_type": "stream",
     "text": [
      "CSPR = 15.00 dB\n",
      "Results:\n",
      "BER: 4.78e-04\n",
      "SNR: 17.26 dB\n",
      "SIR =  19.02  dB\n",
      "GMI: 3.99 bits\n",
      "\n"
     ]
    },
    {
     "data": {
      "application/vnd.jupyter.widget-view+json": {
       "model_id": "73dcf09632094c249d68087e7a8c147f",
       "version_major": 2,
       "version_minor": 0
      },
      "text/plain": [
       "  0%|          | 0/1 [00:00<?, ?it/s]"
      ]
     },
     "metadata": {},
     "output_type": "display_data"
    },
    {
     "name": "stdout",
     "output_type": "stream",
     "text": [
      "CSPR = 15.00 dB\n",
      "Results:\n",
      "BER: 1.56e-04\n",
      "SNR: 18.08 dB\n",
      "SIR =  19.66  dB\n",
      "GMI: 4.00 bits\n",
      "\n"
     ]
    },
    {
     "data": {
      "application/vnd.jupyter.widget-view+json": {
       "model_id": "eefdb1b0d9124e0ca88442f9ea9b8fa5",
       "version_major": 2,
       "version_minor": 0
      },
      "text/plain": [
       "  0%|          | 0/1 [00:00<?, ?it/s]"
      ]
     },
     "metadata": {},
     "output_type": "display_data"
    },
    {
     "name": "stdout",
     "output_type": "stream",
     "text": [
      "CSPR = 15.00 dB\n",
      "Results:\n",
      "BER: 6.25e-05\n",
      "SNR: 18.82 dB\n",
      "SIR =  20.18  dB\n",
      "GMI: 4.00 bits\n",
      "\n"
     ]
    },
    {
     "data": {
      "application/vnd.jupyter.widget-view+json": {
       "model_id": "b710e2baaa774137926fa1474bba98b9",
       "version_major": 2,
       "version_minor": 0
      },
      "text/plain": [
       "  0%|          | 0/1 [00:00<?, ?it/s]"
      ]
     },
     "metadata": {},
     "output_type": "display_data"
    },
    {
     "name": "stdout",
     "output_type": "stream",
     "text": [
      "CSPR = 15.00 dB\n",
      "Results:\n",
      "BER: 9.37e-06\n",
      "SNR: 19.48 dB\n",
      "SIR =  20.56  dB\n",
      "GMI: 4.00 bits\n",
      "\n"
     ]
    },
    {
     "data": {
      "application/vnd.jupyter.widget-view+json": {
       "model_id": "d25552f7d4c842c0b675fa942b4bf66b",
       "version_major": 2,
       "version_minor": 0
      },
      "text/plain": [
       "  0%|          | 0/1 [00:00<?, ?it/s]"
      ]
     },
     "metadata": {},
     "output_type": "display_data"
    },
    {
     "name": "stdout",
     "output_type": "stream",
     "text": [
      "CSPR = 15.00 dB\n",
      "Results:\n",
      "BER: 6.25e-06\n",
      "SNR: 20.09 dB\n",
      "SIR =  20.87  dB\n",
      "GMI: 4.00 bits\n",
      "\n"
     ]
    },
    {
     "data": {
      "application/vnd.jupyter.widget-view+json": {
       "model_id": "6aea05e33a1f4b768c02ce1f35c158e6",
       "version_major": 2,
       "version_minor": 0
      },
      "text/plain": [
       "  0%|          | 0/10 [00:00<?, ?it/s]"
      ]
     },
     "metadata": {},
     "output_type": "display_data"
    },
    {
     "data": {
      "application/vnd.jupyter.widget-view+json": {
       "model_id": "ab45966808bc431ab5d109e2630eba04",
       "version_major": 2,
       "version_minor": 0
      },
      "text/plain": [
       "  0%|          | 0/10 [00:00<?, ?it/s]"
      ]
     },
     "metadata": {},
     "output_type": "display_data"
    },
    {
     "data": {
      "application/vnd.jupyter.widget-view+json": {
       "model_id": "e789f93e8cec4e15a29839881965f43a",
       "version_major": 2,
       "version_minor": 0
      },
      "text/plain": [
       "  0%|          | 0/1 [00:00<?, ?it/s]"
      ]
     },
     "metadata": {},
     "output_type": "display_data"
    },
    {
     "name": "stdout",
     "output_type": "stream",
     "text": [
      "CSPR = 6.00 dB\n",
      "Results:\n",
      "BER: 1.27e-03\n",
      "SNR: 16.35 dB\n",
      "SIR =  7.12  dB\n",
      "GMI: 3.98 bits\n",
      "\n"
     ]
    },
    {
     "data": {
      "application/vnd.jupyter.widget-view+json": {
       "model_id": "6927d5257e12470fb30990111ed1a93a",
       "version_major": 2,
       "version_minor": 0
      },
      "text/plain": [
       "  0%|          | 0/1 [00:00<?, ?it/s]"
      ]
     },
     "metadata": {},
     "output_type": "display_data"
    },
    {
     "name": "stdout",
     "output_type": "stream",
     "text": [
      "CSPR = 6.00 dB\n",
      "Results:\n",
      "BER: 3.87e-04\n",
      "SNR: 17.35 dB\n",
      "SIR =  7.11  dB\n",
      "GMI: 3.99 bits\n",
      "\n"
     ]
    },
    {
     "data": {
      "application/vnd.jupyter.widget-view+json": {
       "model_id": "92531358ad534a47ac4dea00769e6c9a",
       "version_major": 2,
       "version_minor": 0
      },
      "text/plain": [
       "  0%|          | 0/1 [00:00<?, ?it/s]"
      ]
     },
     "metadata": {},
     "output_type": "display_data"
    },
    {
     "name": "stdout",
     "output_type": "stream",
     "text": [
      "CSPR = 6.00 dB\n",
      "Results:\n",
      "BER: 8.75e-05\n",
      "SNR: 18.36 dB\n",
      "SIR =  7.11  dB\n",
      "GMI: 4.00 bits\n",
      "\n"
     ]
    },
    {
     "data": {
      "application/vnd.jupyter.widget-view+json": {
       "model_id": "ccc53600fb75482bb6e07f9c9c686898",
       "version_major": 2,
       "version_minor": 0
      },
      "text/plain": [
       "  0%|          | 0/1 [00:00<?, ?it/s]"
      ]
     },
     "metadata": {},
     "output_type": "display_data"
    },
    {
     "name": "stdout",
     "output_type": "stream",
     "text": [
      "CSPR = 6.00 dB\n",
      "Results:\n",
      "BER: 9.37e-06\n",
      "SNR: 19.33 dB\n",
      "SIR =  7.1  dB\n",
      "GMI: 4.00 bits\n",
      "\n"
     ]
    },
    {
     "data": {
      "application/vnd.jupyter.widget-view+json": {
       "model_id": "9978a158461148cabce431e62b716e8f",
       "version_major": 2,
       "version_minor": 0
      },
      "text/plain": [
       "  0%|          | 0/1 [00:00<?, ?it/s]"
      ]
     },
     "metadata": {},
     "output_type": "display_data"
    },
    {
     "name": "stdout",
     "output_type": "stream",
     "text": [
      "CSPR = 6.00 dB\n",
      "Results:\n",
      "BER: 3.13e-06\n",
      "SNR: 20.34 dB\n",
      "SIR =  7.11  dB\n",
      "GMI: 4.00 bits\n",
      "\n"
     ]
    },
    {
     "data": {
      "application/vnd.jupyter.widget-view+json": {
       "model_id": "66d3fb8dd7b84fcba87d3493f0b79e74",
       "version_major": 2,
       "version_minor": 0
      },
      "text/plain": [
       "  0%|          | 0/1 [00:00<?, ?it/s]"
      ]
     },
     "metadata": {},
     "output_type": "display_data"
    },
    {
     "name": "stdout",
     "output_type": "stream",
     "text": [
      "CSPR = 6.00 dB\n",
      "Results:\n",
      "BER: 0.00e+00\n",
      "SNR: 21.34 dB\n",
      "SIR =  7.11  dB\n",
      "GMI: 4.00 bits\n",
      "\n"
     ]
    },
    {
     "data": {
      "application/vnd.jupyter.widget-view+json": {
       "model_id": "89b7897c34ca4163b8fd2aca29587f52",
       "version_major": 2,
       "version_minor": 0
      },
      "text/plain": [
       "  0%|          | 0/1 [00:00<?, ?it/s]"
      ]
     },
     "metadata": {},
     "output_type": "display_data"
    },
    {
     "name": "stdout",
     "output_type": "stream",
     "text": [
      "CSPR = 6.00 dB\n",
      "Results:\n",
      "BER: 0.00e+00\n",
      "SNR: 22.27 dB\n",
      "SIR =  7.11  dB\n",
      "GMI: 4.00 bits\n",
      "\n"
     ]
    },
    {
     "data": {
      "application/vnd.jupyter.widget-view+json": {
       "model_id": "2b66275347454bad9fa37cef9f7a4741",
       "version_major": 2,
       "version_minor": 0
      },
      "text/plain": [
       "  0%|          | 0/1 [00:00<?, ?it/s]"
      ]
     },
     "metadata": {},
     "output_type": "display_data"
    },
    {
     "name": "stdout",
     "output_type": "stream",
     "text": [
      "CSPR = 6.00 dB\n",
      "Results:\n",
      "BER: 0.00e+00\n",
      "SNR: 23.29 dB\n",
      "SIR =  7.12  dB\n",
      "GMI: 4.00 bits\n",
      "\n"
     ]
    },
    {
     "data": {
      "application/vnd.jupyter.widget-view+json": {
       "model_id": "0e681dbb1d0d4d82a5d37d5e8dba0f19",
       "version_major": 2,
       "version_minor": 0
      },
      "text/plain": [
       "  0%|          | 0/1 [00:00<?, ?it/s]"
      ]
     },
     "metadata": {},
     "output_type": "display_data"
    },
    {
     "name": "stdout",
     "output_type": "stream",
     "text": [
      "CSPR = 6.00 dB\n",
      "Results:\n",
      "BER: 0.00e+00\n",
      "SNR: 24.23 dB\n",
      "SIR =  7.1  dB\n",
      "GMI: 4.00 bits\n",
      "\n"
     ]
    },
    {
     "data": {
      "application/vnd.jupyter.widget-view+json": {
       "model_id": "601c218f56df46b6b4930daf33495b03",
       "version_major": 2,
       "version_minor": 0
      },
      "text/plain": [
       "  0%|          | 0/1 [00:00<?, ?it/s]"
      ]
     },
     "metadata": {},
     "output_type": "display_data"
    },
    {
     "name": "stdout",
     "output_type": "stream",
     "text": [
      "CSPR = 6.00 dB\n",
      "Results:\n",
      "BER: 0.00e+00\n",
      "SNR: 25.20 dB\n",
      "SIR =  7.11  dB\n",
      "GMI: 4.00 bits\n",
      "\n"
     ]
    },
    {
     "data": {
      "application/vnd.jupyter.widget-view+json": {
       "model_id": "0641980620884f03b75bba49c8053f51",
       "version_major": 2,
       "version_minor": 0
      },
      "text/plain": [
       "  0%|          | 0/10 [00:00<?, ?it/s]"
      ]
     },
     "metadata": {},
     "output_type": "display_data"
    },
    {
     "data": {
      "application/vnd.jupyter.widget-view+json": {
       "model_id": "6765207634904d628fd263de6c68155a",
       "version_major": 2,
       "version_minor": 0
      },
      "text/plain": [
       "  0%|          | 0/1 [00:00<?, ?it/s]"
      ]
     },
     "metadata": {},
     "output_type": "display_data"
    },
    {
     "name": "stdout",
     "output_type": "stream",
     "text": [
      "CSPR = 7.00 dB\n",
      "Results:\n",
      "BER: 1.36e-03\n",
      "SNR: 16.36 dB\n",
      "SIR =  7.14  dB\n",
      "GMI: 3.98 bits\n",
      "\n"
     ]
    },
    {
     "data": {
      "application/vnd.jupyter.widget-view+json": {
       "model_id": "56e987a85c65408280b19888c4cd636f",
       "version_major": 2,
       "version_minor": 0
      },
      "text/plain": [
       "  0%|          | 0/1 [00:00<?, ?it/s]"
      ]
     },
     "metadata": {},
     "output_type": "display_data"
    },
    {
     "name": "stdout",
     "output_type": "stream",
     "text": [
      "CSPR = 7.00 dB\n",
      "Results:\n",
      "BER: 4.28e-04\n",
      "SNR: 17.37 dB\n",
      "SIR =  7.13  dB\n",
      "GMI: 3.99 bits\n",
      "\n"
     ]
    },
    {
     "data": {
      "application/vnd.jupyter.widget-view+json": {
       "model_id": "d4b9cc62fd9d4b35992a259a7ab29312",
       "version_major": 2,
       "version_minor": 0
      },
      "text/plain": [
       "  0%|          | 0/1 [00:00<?, ?it/s]"
      ]
     },
     "metadata": {},
     "output_type": "display_data"
    },
    {
     "name": "stdout",
     "output_type": "stream",
     "text": [
      "CSPR = 7.00 dB\n",
      "Results:\n",
      "BER: 9.69e-05\n",
      "SNR: 18.35 dB\n",
      "SIR =  7.08  dB\n",
      "GMI: 4.00 bits\n",
      "\n"
     ]
    },
    {
     "data": {
      "application/vnd.jupyter.widget-view+json": {
       "model_id": "46a814c9a57b4c1999a95d4f18eb597c",
       "version_major": 2,
       "version_minor": 0
      },
      "text/plain": [
       "  0%|          | 0/1 [00:00<?, ?it/s]"
      ]
     },
     "metadata": {},
     "output_type": "display_data"
    },
    {
     "name": "stdout",
     "output_type": "stream",
     "text": [
      "CSPR = 7.00 dB\n",
      "Results:\n",
      "BER: 1.56e-05\n",
      "SNR: 19.35 dB\n",
      "SIR =  7.12  dB\n",
      "GMI: 4.00 bits\n",
      "\n"
     ]
    },
    {
     "data": {
      "application/vnd.jupyter.widget-view+json": {
       "model_id": "2408510e0dfe43c7a55d739b458b83eb",
       "version_major": 2,
       "version_minor": 0
      },
      "text/plain": [
       "  0%|          | 0/1 [00:00<?, ?it/s]"
      ]
     },
     "metadata": {},
     "output_type": "display_data"
    },
    {
     "name": "stdout",
     "output_type": "stream",
     "text": [
      "CSPR = 7.00 dB\n",
      "Results:\n",
      "BER: 0.00e+00\n",
      "SNR: 20.34 dB\n",
      "SIR =  7.13  dB\n",
      "GMI: 4.00 bits\n",
      "\n"
     ]
    },
    {
     "data": {
      "application/vnd.jupyter.widget-view+json": {
       "model_id": "5f74c8a830fa427388b68bfc20177258",
       "version_major": 2,
       "version_minor": 0
      },
      "text/plain": [
       "  0%|          | 0/1 [00:00<?, ?it/s]"
      ]
     },
     "metadata": {},
     "output_type": "display_data"
    },
    {
     "name": "stdout",
     "output_type": "stream",
     "text": [
      "CSPR = 7.00 dB\n",
      "Results:\n",
      "BER: 3.13e-06\n",
      "SNR: 21.32 dB\n",
      "SIR =  7.11  dB\n",
      "GMI: 4.00 bits\n",
      "\n"
     ]
    },
    {
     "data": {
      "application/vnd.jupyter.widget-view+json": {
       "model_id": "c116acb73ee5431a8973daa9b75d1372",
       "version_major": 2,
       "version_minor": 0
      },
      "text/plain": [
       "  0%|          | 0/1 [00:00<?, ?it/s]"
      ]
     },
     "metadata": {},
     "output_type": "display_data"
    },
    {
     "name": "stdout",
     "output_type": "stream",
     "text": [
      "CSPR = 7.00 dB\n",
      "Results:\n",
      "BER: 0.00e+00\n",
      "SNR: 22.30 dB\n",
      "SIR =  7.12  dB\n",
      "GMI: 4.00 bits\n",
      "\n"
     ]
    },
    {
     "data": {
      "application/vnd.jupyter.widget-view+json": {
       "model_id": "acbaca3df58b47ddafea4c488e4aee66",
       "version_major": 2,
       "version_minor": 0
      },
      "text/plain": [
       "  0%|          | 0/1 [00:00<?, ?it/s]"
      ]
     },
     "metadata": {},
     "output_type": "display_data"
    },
    {
     "name": "stdout",
     "output_type": "stream",
     "text": [
      "CSPR = 7.00 dB\n",
      "Results:\n",
      "BER: 0.00e+00\n",
      "SNR: 23.26 dB\n",
      "SIR =  7.12  dB\n",
      "GMI: 4.00 bits\n",
      "\n"
     ]
    },
    {
     "data": {
      "application/vnd.jupyter.widget-view+json": {
       "model_id": "21ba48975c2047dfaef081ebcab4125b",
       "version_major": 2,
       "version_minor": 0
      },
      "text/plain": [
       "  0%|          | 0/1 [00:00<?, ?it/s]"
      ]
     },
     "metadata": {},
     "output_type": "display_data"
    },
    {
     "name": "stdout",
     "output_type": "stream",
     "text": [
      "CSPR = 7.00 dB\n",
      "Results:\n",
      "BER: 0.00e+00\n",
      "SNR: 24.23 dB\n",
      "SIR =  7.14  dB\n",
      "GMI: 4.00 bits\n",
      "\n"
     ]
    },
    {
     "data": {
      "application/vnd.jupyter.widget-view+json": {
       "model_id": "1a76e20084e34f9f96f93a11dc57369e",
       "version_major": 2,
       "version_minor": 0
      },
      "text/plain": [
       "  0%|          | 0/1 [00:00<?, ?it/s]"
      ]
     },
     "metadata": {},
     "output_type": "display_data"
    },
    {
     "name": "stdout",
     "output_type": "stream",
     "text": [
      "CSPR = 7.00 dB\n",
      "Results:\n",
      "BER: 0.00e+00\n",
      "SNR: 25.20 dB\n",
      "SIR =  7.13  dB\n",
      "GMI: 4.00 bits\n",
      "\n"
     ]
    },
    {
     "data": {
      "application/vnd.jupyter.widget-view+json": {
       "model_id": "2f38b0be888543c7b17fa51437607e00",
       "version_major": 2,
       "version_minor": 0
      },
      "text/plain": [
       "  0%|          | 0/10 [00:00<?, ?it/s]"
      ]
     },
     "metadata": {},
     "output_type": "display_data"
    },
    {
     "data": {
      "application/vnd.jupyter.widget-view+json": {
       "model_id": "a11fc85635b34661b5077f7b5c6dec34",
       "version_major": 2,
       "version_minor": 0
      },
      "text/plain": [
       "  0%|          | 0/1 [00:00<?, ?it/s]"
      ]
     },
     "metadata": {},
     "output_type": "display_data"
    },
    {
     "name": "stdout",
     "output_type": "stream",
     "text": [
      "CSPR = 8.00 dB\n",
      "Results:\n",
      "BER: 1.42e-03\n",
      "SNR: 16.34 dB\n",
      "SIR =  7.13  dB\n",
      "GMI: 3.98 bits\n",
      "\n"
     ]
    },
    {
     "data": {
      "application/vnd.jupyter.widget-view+json": {
       "model_id": "b6e9070791924f8da37910972094ca71",
       "version_major": 2,
       "version_minor": 0
      },
      "text/plain": [
       "  0%|          | 0/1 [00:00<?, ?it/s]"
      ]
     },
     "metadata": {},
     "output_type": "display_data"
    },
    {
     "name": "stdout",
     "output_type": "stream",
     "text": [
      "CSPR = 8.00 dB\n",
      "Results:\n",
      "BER: 3.56e-04\n",
      "SNR: 17.39 dB\n",
      "SIR =  7.13  dB\n",
      "GMI: 3.99 bits\n",
      "\n"
     ]
    },
    {
     "data": {
      "application/vnd.jupyter.widget-view+json": {
       "model_id": "bd0bd20f1c5d40e0b6f6b023bd7b8122",
       "version_major": 2,
       "version_minor": 0
      },
      "text/plain": [
       "  0%|          | 0/1 [00:00<?, ?it/s]"
      ]
     },
     "metadata": {},
     "output_type": "display_data"
    },
    {
     "name": "stdout",
     "output_type": "stream",
     "text": [
      "CSPR = 8.00 dB\n",
      "Results:\n",
      "BER: 1.12e-04\n",
      "SNR: 18.34 dB\n",
      "SIR =  7.09  dB\n",
      "GMI: 4.00 bits\n",
      "\n"
     ]
    },
    {
     "data": {
      "application/vnd.jupyter.widget-view+json": {
       "model_id": "ab3d9b110ed4431b9a9f19f5e16ca2be",
       "version_major": 2,
       "version_minor": 0
      },
      "text/plain": [
       "  0%|          | 0/1 [00:00<?, ?it/s]"
      ]
     },
     "metadata": {},
     "output_type": "display_data"
    },
    {
     "name": "stdout",
     "output_type": "stream",
     "text": [
      "CSPR = 8.00 dB\n",
      "Results:\n",
      "BER: 1.25e-05\n",
      "SNR: 19.36 dB\n",
      "SIR =  7.09  dB\n",
      "GMI: 4.00 bits\n",
      "\n"
     ]
    },
    {
     "data": {
      "application/vnd.jupyter.widget-view+json": {
       "model_id": "a4eeef64bcca46b89c3aa2098a281395",
       "version_major": 2,
       "version_minor": 0
      },
      "text/plain": [
       "  0%|          | 0/1 [00:00<?, ?it/s]"
      ]
     },
     "metadata": {},
     "output_type": "display_data"
    },
    {
     "name": "stdout",
     "output_type": "stream",
     "text": [
      "CSPR = 8.00 dB\n",
      "Results:\n",
      "BER: 3.13e-06\n",
      "SNR: 20.34 dB\n",
      "SIR =  7.12  dB\n",
      "GMI: 4.00 bits\n",
      "\n"
     ]
    },
    {
     "data": {
      "application/vnd.jupyter.widget-view+json": {
       "model_id": "130aa174a2a8446ab3ad67fba0915879",
       "version_major": 2,
       "version_minor": 0
      },
      "text/plain": [
       "  0%|          | 0/1 [00:00<?, ?it/s]"
      ]
     },
     "metadata": {},
     "output_type": "display_data"
    },
    {
     "name": "stdout",
     "output_type": "stream",
     "text": [
      "CSPR = 8.00 dB\n",
      "Results:\n",
      "BER: 0.00e+00\n",
      "SNR: 21.32 dB\n",
      "SIR =  7.1  dB\n",
      "GMI: 4.00 bits\n",
      "\n"
     ]
    },
    {
     "data": {
      "application/vnd.jupyter.widget-view+json": {
       "model_id": "84fd92428cea454e93c2b602f4ff6e75",
       "version_major": 2,
       "version_minor": 0
      },
      "text/plain": [
       "  0%|          | 0/1 [00:00<?, ?it/s]"
      ]
     },
     "metadata": {},
     "output_type": "display_data"
    },
    {
     "name": "stdout",
     "output_type": "stream",
     "text": [
      "CSPR = 8.00 dB\n",
      "Results:\n",
      "BER: 0.00e+00\n",
      "SNR: 22.30 dB\n",
      "SIR =  7.1  dB\n",
      "GMI: 4.00 bits\n",
      "\n"
     ]
    },
    {
     "data": {
      "application/vnd.jupyter.widget-view+json": {
       "model_id": "0a49d24d48c444cf8ca787470ecb71d4",
       "version_major": 2,
       "version_minor": 0
      },
      "text/plain": [
       "  0%|          | 0/1 [00:00<?, ?it/s]"
      ]
     },
     "metadata": {},
     "output_type": "display_data"
    },
    {
     "name": "stdout",
     "output_type": "stream",
     "text": [
      "CSPR = 8.00 dB\n",
      "Results:\n",
      "BER: 0.00e+00\n",
      "SNR: 23.27 dB\n",
      "SIR =  7.13  dB\n",
      "GMI: 4.00 bits\n",
      "\n"
     ]
    },
    {
     "data": {
      "application/vnd.jupyter.widget-view+json": {
       "model_id": "ef890b0d79874e1b9da778a43515bf71",
       "version_major": 2,
       "version_minor": 0
      },
      "text/plain": [
       "  0%|          | 0/1 [00:00<?, ?it/s]"
      ]
     },
     "metadata": {},
     "output_type": "display_data"
    },
    {
     "name": "stdout",
     "output_type": "stream",
     "text": [
      "CSPR = 8.00 dB\n",
      "Results:\n",
      "BER: 0.00e+00\n",
      "SNR: 24.24 dB\n",
      "SIR =  7.12  dB\n",
      "GMI: 4.00 bits\n",
      "\n"
     ]
    },
    {
     "data": {
      "application/vnd.jupyter.widget-view+json": {
       "model_id": "4aaf527448c94691b4b06bc335554096",
       "version_major": 2,
       "version_minor": 0
      },
      "text/plain": [
       "  0%|          | 0/1 [00:00<?, ?it/s]"
      ]
     },
     "metadata": {},
     "output_type": "display_data"
    },
    {
     "name": "stdout",
     "output_type": "stream",
     "text": [
      "CSPR = 8.00 dB\n",
      "Results:\n",
      "BER: 0.00e+00\n",
      "SNR: 25.20 dB\n",
      "SIR =  7.12  dB\n",
      "GMI: 4.00 bits\n",
      "\n"
     ]
    },
    {
     "data": {
      "application/vnd.jupyter.widget-view+json": {
       "model_id": "e4b423dfa2fd433eb201f49b444dd67f",
       "version_major": 2,
       "version_minor": 0
      },
      "text/plain": [
       "  0%|          | 0/10 [00:00<?, ?it/s]"
      ]
     },
     "metadata": {},
     "output_type": "display_data"
    },
    {
     "data": {
      "application/vnd.jupyter.widget-view+json": {
       "model_id": "b22fadeea9be4ec7ad52081e0c07446d",
       "version_major": 2,
       "version_minor": 0
      },
      "text/plain": [
       "  0%|          | 0/1 [00:00<?, ?it/s]"
      ]
     },
     "metadata": {},
     "output_type": "display_data"
    },
    {
     "name": "stdout",
     "output_type": "stream",
     "text": [
      "CSPR = 9.00 dB\n",
      "Results:\n",
      "BER: 1.27e-03\n",
      "SNR: 16.35 dB\n",
      "SIR =  7.11  dB\n",
      "GMI: 3.98 bits\n",
      "\n"
     ]
    },
    {
     "data": {
      "application/vnd.jupyter.widget-view+json": {
       "model_id": "84bceb8e08084aa7975d8e53438bbbaa",
       "version_major": 2,
       "version_minor": 0
      },
      "text/plain": [
       "  0%|          | 0/1 [00:00<?, ?it/s]"
      ]
     },
     "metadata": {},
     "output_type": "display_data"
    },
    {
     "name": "stdout",
     "output_type": "stream",
     "text": [
      "CSPR = 9.00 dB\n",
      "Results:\n",
      "BER: 3.56e-04\n",
      "SNR: 17.37 dB\n",
      "SIR =  7.11  dB\n",
      "GMI: 3.99 bits\n",
      "\n"
     ]
    },
    {
     "data": {
      "application/vnd.jupyter.widget-view+json": {
       "model_id": "eb5a46e868ba42708d828b4cfe63a694",
       "version_major": 2,
       "version_minor": 0
      },
      "text/plain": [
       "  0%|          | 0/1 [00:00<?, ?it/s]"
      ]
     },
     "metadata": {},
     "output_type": "display_data"
    },
    {
     "name": "stdout",
     "output_type": "stream",
     "text": [
      "CSPR = 9.00 dB\n",
      "Results:\n",
      "BER: 9.69e-05\n",
      "SNR: 18.34 dB\n",
      "SIR =  7.12  dB\n",
      "GMI: 4.00 bits\n",
      "\n"
     ]
    },
    {
     "data": {
      "application/vnd.jupyter.widget-view+json": {
       "model_id": "95b1d17f5e3b4b47befd84fa789996ff",
       "version_major": 2,
       "version_minor": 0
      },
      "text/plain": [
       "  0%|          | 0/1 [00:00<?, ?it/s]"
      ]
     },
     "metadata": {},
     "output_type": "display_data"
    },
    {
     "name": "stdout",
     "output_type": "stream",
     "text": [
      "CSPR = 9.00 dB\n",
      "Results:\n",
      "BER: 1.25e-05\n",
      "SNR: 19.36 dB\n",
      "SIR =  7.09  dB\n",
      "GMI: 4.00 bits\n",
      "\n"
     ]
    },
    {
     "data": {
      "application/vnd.jupyter.widget-view+json": {
       "model_id": "d2278ee8135d440ca1e01903fce0327a",
       "version_major": 2,
       "version_minor": 0
      },
      "text/plain": [
       "  0%|          | 0/1 [00:00<?, ?it/s]"
      ]
     },
     "metadata": {},
     "output_type": "display_data"
    },
    {
     "name": "stdout",
     "output_type": "stream",
     "text": [
      "CSPR = 9.00 dB\n",
      "Results:\n",
      "BER: 0.00e+00\n",
      "SNR: 20.34 dB\n",
      "SIR =  7.13  dB\n",
      "GMI: 4.00 bits\n",
      "\n"
     ]
    },
    {
     "data": {
      "application/vnd.jupyter.widget-view+json": {
       "model_id": "25fe420807694f48b8756534a5381f47",
       "version_major": 2,
       "version_minor": 0
      },
      "text/plain": [
       "  0%|          | 0/1 [00:00<?, ?it/s]"
      ]
     },
     "metadata": {},
     "output_type": "display_data"
    },
    {
     "name": "stdout",
     "output_type": "stream",
     "text": [
      "CSPR = 9.00 dB\n",
      "Results:\n",
      "BER: 0.00e+00\n",
      "SNR: 21.31 dB\n",
      "SIR =  7.11  dB\n",
      "GMI: 4.00 bits\n",
      "\n"
     ]
    },
    {
     "data": {
      "application/vnd.jupyter.widget-view+json": {
       "model_id": "6d4faead71134bba8ce01cd835bd9d3d",
       "version_major": 2,
       "version_minor": 0
      },
      "text/plain": [
       "  0%|          | 0/1 [00:00<?, ?it/s]"
      ]
     },
     "metadata": {},
     "output_type": "display_data"
    },
    {
     "name": "stdout",
     "output_type": "stream",
     "text": [
      "CSPR = 9.00 dB\n",
      "Results:\n",
      "BER: 0.00e+00\n",
      "SNR: 22.27 dB\n",
      "SIR =  7.12  dB\n",
      "GMI: 4.00 bits\n",
      "\n"
     ]
    },
    {
     "data": {
      "application/vnd.jupyter.widget-view+json": {
       "model_id": "935e172bb71643d6b220fd93b3e942e3",
       "version_major": 2,
       "version_minor": 0
      },
      "text/plain": [
       "  0%|          | 0/1 [00:00<?, ?it/s]"
      ]
     },
     "metadata": {},
     "output_type": "display_data"
    },
    {
     "name": "stdout",
     "output_type": "stream",
     "text": [
      "CSPR = 9.00 dB\n",
      "Results:\n",
      "BER: 0.00e+00\n",
      "SNR: 23.25 dB\n",
      "SIR =  7.12  dB\n",
      "GMI: 4.00 bits\n",
      "\n"
     ]
    },
    {
     "data": {
      "application/vnd.jupyter.widget-view+json": {
       "model_id": "8406fb80fe8b461daaba89f87c55cd33",
       "version_major": 2,
       "version_minor": 0
      },
      "text/plain": [
       "  0%|          | 0/1 [00:00<?, ?it/s]"
      ]
     },
     "metadata": {},
     "output_type": "display_data"
    },
    {
     "name": "stdout",
     "output_type": "stream",
     "text": [
      "CSPR = 9.00 dB\n",
      "Results:\n",
      "BER: 0.00e+00\n",
      "SNR: 24.24 dB\n",
      "SIR =  7.12  dB\n",
      "GMI: 4.00 bits\n",
      "\n"
     ]
    },
    {
     "data": {
      "application/vnd.jupyter.widget-view+json": {
       "model_id": "f9988e28f99c4d5d99b5acd9c4b3c6a2",
       "version_major": 2,
       "version_minor": 0
      },
      "text/plain": [
       "  0%|          | 0/1 [00:00<?, ?it/s]"
      ]
     },
     "metadata": {},
     "output_type": "display_data"
    },
    {
     "name": "stdout",
     "output_type": "stream",
     "text": [
      "CSPR = 9.00 dB\n",
      "Results:\n",
      "BER: 0.00e+00\n",
      "SNR: 25.20 dB\n",
      "SIR =  7.11  dB\n",
      "GMI: 4.00 bits\n",
      "\n"
     ]
    },
    {
     "data": {
      "application/vnd.jupyter.widget-view+json": {
       "model_id": "eb0d904fecac40908232255f73982e80",
       "version_major": 2,
       "version_minor": 0
      },
      "text/plain": [
       "  0%|          | 0/10 [00:00<?, ?it/s]"
      ]
     },
     "metadata": {},
     "output_type": "display_data"
    },
    {
     "data": {
      "application/vnd.jupyter.widget-view+json": {
       "model_id": "713e179c79384750988cd5573ed16745",
       "version_major": 2,
       "version_minor": 0
      },
      "text/plain": [
       "  0%|          | 0/1 [00:00<?, ?it/s]"
      ]
     },
     "metadata": {},
     "output_type": "display_data"
    },
    {
     "name": "stdout",
     "output_type": "stream",
     "text": [
      "CSPR = 10.00 dB\n",
      "Results:\n",
      "BER: 1.36e-03\n",
      "SNR: 16.33 dB\n",
      "SIR =  7.09  dB\n",
      "GMI: 3.98 bits\n",
      "\n"
     ]
    },
    {
     "data": {
      "application/vnd.jupyter.widget-view+json": {
       "model_id": "1c30c783f01447eab5920cac3613e88f",
       "version_major": 2,
       "version_minor": 0
      },
      "text/plain": [
       "  0%|          | 0/1 [00:00<?, ?it/s]"
      ]
     },
     "metadata": {},
     "output_type": "display_data"
    },
    {
     "name": "stdout",
     "output_type": "stream",
     "text": [
      "CSPR = 10.00 dB\n",
      "Results:\n",
      "BER: 3.84e-04\n",
      "SNR: 17.36 dB\n",
      "SIR =  7.13  dB\n",
      "GMI: 3.99 bits\n",
      "\n"
     ]
    },
    {
     "data": {
      "application/vnd.jupyter.widget-view+json": {
       "model_id": "f886cb085b2b4b8987605fcc871cd635",
       "version_major": 2,
       "version_minor": 0
      },
      "text/plain": [
       "  0%|          | 0/1 [00:00<?, ?it/s]"
      ]
     },
     "metadata": {},
     "output_type": "display_data"
    },
    {
     "name": "stdout",
     "output_type": "stream",
     "text": [
      "CSPR = 10.00 dB\n",
      "Results:\n",
      "BER: 8.44e-05\n",
      "SNR: 18.38 dB\n",
      "SIR =  7.11  dB\n",
      "GMI: 4.00 bits\n",
      "\n"
     ]
    },
    {
     "data": {
      "application/vnd.jupyter.widget-view+json": {
       "model_id": "6aabca44063c45499c440d047845ba3b",
       "version_major": 2,
       "version_minor": 0
      },
      "text/plain": [
       "  0%|          | 0/1 [00:00<?, ?it/s]"
      ]
     },
     "metadata": {},
     "output_type": "display_data"
    },
    {
     "name": "stdout",
     "output_type": "stream",
     "text": [
      "CSPR = 10.00 dB\n",
      "Results:\n",
      "BER: 6.25e-06\n",
      "SNR: 19.32 dB\n",
      "SIR =  7.11  dB\n",
      "GMI: 4.00 bits\n",
      "\n"
     ]
    },
    {
     "data": {
      "application/vnd.jupyter.widget-view+json": {
       "model_id": "e50ca89dbfa2406b8e46fa26f24334e0",
       "version_major": 2,
       "version_minor": 0
      },
      "text/plain": [
       "  0%|          | 0/1 [00:00<?, ?it/s]"
      ]
     },
     "metadata": {},
     "output_type": "display_data"
    },
    {
     "name": "stdout",
     "output_type": "stream",
     "text": [
      "CSPR = 10.00 dB\n",
      "Results:\n",
      "BER: 0.00e+00\n",
      "SNR: 20.33 dB\n",
      "SIR =  7.1  dB\n",
      "GMI: 4.00 bits\n",
      "\n"
     ]
    },
    {
     "data": {
      "application/vnd.jupyter.widget-view+json": {
       "model_id": "55e39e009d2c46b1a58912c73b73c324",
       "version_major": 2,
       "version_minor": 0
      },
      "text/plain": [
       "  0%|          | 0/1 [00:00<?, ?it/s]"
      ]
     },
     "metadata": {},
     "output_type": "display_data"
    },
    {
     "name": "stdout",
     "output_type": "stream",
     "text": [
      "CSPR = 10.00 dB\n",
      "Results:\n",
      "BER: 0.00e+00\n",
      "SNR: 21.33 dB\n",
      "SIR =  7.12  dB\n",
      "GMI: 4.00 bits\n",
      "\n"
     ]
    },
    {
     "data": {
      "application/vnd.jupyter.widget-view+json": {
       "model_id": "dcc44816170d47449ea68273773dfc7b",
       "version_major": 2,
       "version_minor": 0
      },
      "text/plain": [
       "  0%|          | 0/1 [00:00<?, ?it/s]"
      ]
     },
     "metadata": {},
     "output_type": "display_data"
    },
    {
     "name": "stdout",
     "output_type": "stream",
     "text": [
      "CSPR = 10.00 dB\n",
      "Results:\n",
      "BER: 0.00e+00\n",
      "SNR: 22.25 dB\n",
      "SIR =  7.1  dB\n",
      "GMI: 4.00 bits\n",
      "\n"
     ]
    },
    {
     "data": {
      "application/vnd.jupyter.widget-view+json": {
       "model_id": "addc39d3615840ae99e01e776af928dd",
       "version_major": 2,
       "version_minor": 0
      },
      "text/plain": [
       "  0%|          | 0/1 [00:00<?, ?it/s]"
      ]
     },
     "metadata": {},
     "output_type": "display_data"
    },
    {
     "name": "stdout",
     "output_type": "stream",
     "text": [
      "CSPR = 10.00 dB\n",
      "Results:\n",
      "BER: 0.00e+00\n",
      "SNR: 23.29 dB\n",
      "SIR =  7.12  dB\n",
      "GMI: 4.00 bits\n",
      "\n"
     ]
    },
    {
     "data": {
      "application/vnd.jupyter.widget-view+json": {
       "model_id": "fdc4da9d204a4a4986ef0d226fa6b1cd",
       "version_major": 2,
       "version_minor": 0
      },
      "text/plain": [
       "  0%|          | 0/1 [00:00<?, ?it/s]"
      ]
     },
     "metadata": {},
     "output_type": "display_data"
    },
    {
     "name": "stdout",
     "output_type": "stream",
     "text": [
      "CSPR = 10.00 dB\n",
      "Results:\n",
      "BER: 0.00e+00\n",
      "SNR: 24.24 dB\n",
      "SIR =  7.11  dB\n",
      "GMI: 4.00 bits\n",
      "\n"
     ]
    },
    {
     "data": {
      "application/vnd.jupyter.widget-view+json": {
       "model_id": "91ada2a64a0d4d789ab623b84335f1f3",
       "version_major": 2,
       "version_minor": 0
      },
      "text/plain": [
       "  0%|          | 0/1 [00:00<?, ?it/s]"
      ]
     },
     "metadata": {},
     "output_type": "display_data"
    },
    {
     "name": "stdout",
     "output_type": "stream",
     "text": [
      "CSPR = 10.00 dB\n",
      "Results:\n",
      "BER: 0.00e+00\n",
      "SNR: 25.20 dB\n",
      "SIR =  7.11  dB\n",
      "GMI: 4.00 bits\n",
      "\n"
     ]
    },
    {
     "data": {
      "application/vnd.jupyter.widget-view+json": {
       "model_id": "159f4221a4f449cebf01610ed3796b54",
       "version_major": 2,
       "version_minor": 0
      },
      "text/plain": [
       "  0%|          | 0/10 [00:00<?, ?it/s]"
      ]
     },
     "metadata": {},
     "output_type": "display_data"
    },
    {
     "data": {
      "application/vnd.jupyter.widget-view+json": {
       "model_id": "d3d24a3a14cf4610955895e71dce535c",
       "version_major": 2,
       "version_minor": 0
      },
      "text/plain": [
       "  0%|          | 0/1 [00:00<?, ?it/s]"
      ]
     },
     "metadata": {},
     "output_type": "display_data"
    },
    {
     "name": "stdout",
     "output_type": "stream",
     "text": [
      "CSPR = 11.00 dB\n",
      "Results:\n",
      "BER: 1.37e-03\n",
      "SNR: 16.38 dB\n",
      "SIR =  7.1  dB\n",
      "GMI: 3.98 bits\n",
      "\n"
     ]
    },
    {
     "data": {
      "application/vnd.jupyter.widget-view+json": {
       "model_id": "e2e0eb56a6d44fddb6f71b91db3ca11f",
       "version_major": 2,
       "version_minor": 0
      },
      "text/plain": [
       "  0%|          | 0/1 [00:00<?, ?it/s]"
      ]
     },
     "metadata": {},
     "output_type": "display_data"
    },
    {
     "name": "stdout",
     "output_type": "stream",
     "text": [
      "CSPR = 11.00 dB\n",
      "Results:\n",
      "BER: 4.06e-04\n",
      "SNR: 17.36 dB\n",
      "SIR =  7.11  dB\n",
      "GMI: 3.99 bits\n",
      "\n"
     ]
    },
    {
     "data": {
      "application/vnd.jupyter.widget-view+json": {
       "model_id": "1859bfb61b474aa28355203b27e808b5",
       "version_major": 2,
       "version_minor": 0
      },
      "text/plain": [
       "  0%|          | 0/1 [00:00<?, ?it/s]"
      ]
     },
     "metadata": {},
     "output_type": "display_data"
    },
    {
     "name": "stdout",
     "output_type": "stream",
     "text": [
      "CSPR = 11.00 dB\n",
      "Results:\n",
      "BER: 1.16e-04\n",
      "SNR: 18.31 dB\n",
      "SIR =  7.11  dB\n",
      "GMI: 4.00 bits\n",
      "\n"
     ]
    },
    {
     "data": {
      "application/vnd.jupyter.widget-view+json": {
       "model_id": "d52d87e8d1144c57aa762bed817afc04",
       "version_major": 2,
       "version_minor": 0
      },
      "text/plain": [
       "  0%|          | 0/1 [00:00<?, ?it/s]"
      ]
     },
     "metadata": {},
     "output_type": "display_data"
    },
    {
     "name": "stdout",
     "output_type": "stream",
     "text": [
      "CSPR = 11.00 dB\n",
      "Results:\n",
      "BER: 2.81e-05\n",
      "SNR: 19.34 dB\n",
      "SIR =  7.12  dB\n",
      "GMI: 4.00 bits\n",
      "\n"
     ]
    },
    {
     "data": {
      "application/vnd.jupyter.widget-view+json": {
       "model_id": "69de02c2aeb14b2cb904ac702fabcbf0",
       "version_major": 2,
       "version_minor": 0
      },
      "text/plain": [
       "  0%|          | 0/1 [00:00<?, ?it/s]"
      ]
     },
     "metadata": {},
     "output_type": "display_data"
    },
    {
     "name": "stdout",
     "output_type": "stream",
     "text": [
      "CSPR = 11.00 dB\n",
      "Results:\n",
      "BER: 0.00e+00\n",
      "SNR: 20.36 dB\n",
      "SIR =  7.13  dB\n",
      "GMI: 4.00 bits\n",
      "\n"
     ]
    },
    {
     "data": {
      "application/vnd.jupyter.widget-view+json": {
       "model_id": "9822ed3f8ec74c4e85f0ae57a7694065",
       "version_major": 2,
       "version_minor": 0
      },
      "text/plain": [
       "  0%|          | 0/1 [00:00<?, ?it/s]"
      ]
     },
     "metadata": {},
     "output_type": "display_data"
    },
    {
     "name": "stdout",
     "output_type": "stream",
     "text": [
      "CSPR = 11.00 dB\n",
      "Results:\n",
      "BER: 3.13e-06\n",
      "SNR: 21.29 dB\n",
      "SIR =  7.11  dB\n",
      "GMI: 4.00 bits\n",
      "\n"
     ]
    },
    {
     "data": {
      "application/vnd.jupyter.widget-view+json": {
       "model_id": "1133f684aff4460dbbbb0c1597755784",
       "version_major": 2,
       "version_minor": 0
      },
      "text/plain": [
       "  0%|          | 0/1 [00:00<?, ?it/s]"
      ]
     },
     "metadata": {},
     "output_type": "display_data"
    },
    {
     "name": "stdout",
     "output_type": "stream",
     "text": [
      "CSPR = 11.00 dB\n",
      "Results:\n",
      "BER: 0.00e+00\n",
      "SNR: 22.30 dB\n",
      "SIR =  7.11  dB\n",
      "GMI: 4.00 bits\n",
      "\n"
     ]
    },
    {
     "data": {
      "application/vnd.jupyter.widget-view+json": {
       "model_id": "0758edcae51e48ebb8344b95dfb9d087",
       "version_major": 2,
       "version_minor": 0
      },
      "text/plain": [
       "  0%|          | 0/1 [00:00<?, ?it/s]"
      ]
     },
     "metadata": {},
     "output_type": "display_data"
    },
    {
     "name": "stdout",
     "output_type": "stream",
     "text": [
      "CSPR = 11.00 dB\n",
      "Results:\n",
      "BER: 0.00e+00\n",
      "SNR: 23.26 dB\n",
      "SIR =  7.12  dB\n",
      "GMI: 4.00 bits\n",
      "\n"
     ]
    },
    {
     "data": {
      "application/vnd.jupyter.widget-view+json": {
       "model_id": "2c3c9b75dcaf478386dc58f2476904d0",
       "version_major": 2,
       "version_minor": 0
      },
      "text/plain": [
       "  0%|          | 0/1 [00:00<?, ?it/s]"
      ]
     },
     "metadata": {},
     "output_type": "display_data"
    },
    {
     "name": "stdout",
     "output_type": "stream",
     "text": [
      "CSPR = 11.00 dB\n",
      "Results:\n",
      "BER: 0.00e+00\n",
      "SNR: 24.22 dB\n",
      "SIR =  7.13  dB\n",
      "GMI: 4.00 bits\n",
      "\n"
     ]
    },
    {
     "data": {
      "application/vnd.jupyter.widget-view+json": {
       "model_id": "92e3aa048a89411387d3e541dfe480ca",
       "version_major": 2,
       "version_minor": 0
      },
      "text/plain": [
       "  0%|          | 0/1 [00:00<?, ?it/s]"
      ]
     },
     "metadata": {},
     "output_type": "display_data"
    },
    {
     "name": "stdout",
     "output_type": "stream",
     "text": [
      "CSPR = 11.00 dB\n",
      "Results:\n",
      "BER: 0.00e+00\n",
      "SNR: 25.20 dB\n",
      "SIR =  7.12  dB\n",
      "GMI: 4.00 bits\n",
      "\n"
     ]
    },
    {
     "data": {
      "application/vnd.jupyter.widget-view+json": {
       "model_id": "bea73aa6f933455a893e57f9cf3e896d",
       "version_major": 2,
       "version_minor": 0
      },
      "text/plain": [
       "  0%|          | 0/10 [00:00<?, ?it/s]"
      ]
     },
     "metadata": {},
     "output_type": "display_data"
    },
    {
     "data": {
      "application/vnd.jupyter.widget-view+json": {
       "model_id": "400881985d634b6c979a0392cd60ba82",
       "version_major": 2,
       "version_minor": 0
      },
      "text/plain": [
       "  0%|          | 0/1 [00:00<?, ?it/s]"
      ]
     },
     "metadata": {},
     "output_type": "display_data"
    },
    {
     "name": "stdout",
     "output_type": "stream",
     "text": [
      "CSPR = 12.00 dB\n",
      "Results:\n",
      "BER: 1.25e-03\n",
      "SNR: 16.39 dB\n",
      "SIR =  7.11  dB\n",
      "GMI: 3.98 bits\n",
      "\n"
     ]
    },
    {
     "data": {
      "application/vnd.jupyter.widget-view+json": {
       "model_id": "a1222d7ab8cc49d69546b2b2606c2098",
       "version_major": 2,
       "version_minor": 0
      },
      "text/plain": [
       "  0%|          | 0/1 [00:00<?, ?it/s]"
      ]
     },
     "metadata": {},
     "output_type": "display_data"
    },
    {
     "name": "stdout",
     "output_type": "stream",
     "text": [
      "CSPR = 12.00 dB\n",
      "Results:\n",
      "BER: 3.59e-04\n",
      "SNR: 17.35 dB\n",
      "SIR =  7.12  dB\n",
      "GMI: 3.99 bits\n",
      "\n"
     ]
    },
    {
     "data": {
      "application/vnd.jupyter.widget-view+json": {
       "model_id": "a2f25701063245aca4ec341d3d6129a1",
       "version_major": 2,
       "version_minor": 0
      },
      "text/plain": [
       "  0%|          | 0/1 [00:00<?, ?it/s]"
      ]
     },
     "metadata": {},
     "output_type": "display_data"
    },
    {
     "name": "stdout",
     "output_type": "stream",
     "text": [
      "CSPR = 12.00 dB\n",
      "Results:\n",
      "BER: 6.25e-05\n",
      "SNR: 18.34 dB\n",
      "SIR =  7.1  dB\n",
      "GMI: 4.00 bits\n",
      "\n"
     ]
    },
    {
     "data": {
      "application/vnd.jupyter.widget-view+json": {
       "model_id": "fe1c294f5cd34f5f8cf4f709e2eeb2be",
       "version_major": 2,
       "version_minor": 0
      },
      "text/plain": [
       "  0%|          | 0/1 [00:00<?, ?it/s]"
      ]
     },
     "metadata": {},
     "output_type": "display_data"
    },
    {
     "name": "stdout",
     "output_type": "stream",
     "text": [
      "CSPR = 12.00 dB\n",
      "Results:\n",
      "BER: 9.37e-06\n",
      "SNR: 19.37 dB\n",
      "SIR =  7.11  dB\n",
      "GMI: 4.00 bits\n",
      "\n"
     ]
    },
    {
     "data": {
      "application/vnd.jupyter.widget-view+json": {
       "model_id": "7648f882b1ed45b58adc6ad206c3d94f",
       "version_major": 2,
       "version_minor": 0
      },
      "text/plain": [
       "  0%|          | 0/1 [00:00<?, ?it/s]"
      ]
     },
     "metadata": {},
     "output_type": "display_data"
    },
    {
     "name": "stdout",
     "output_type": "stream",
     "text": [
      "CSPR = 12.00 dB\n",
      "Results:\n",
      "BER: 0.00e+00\n",
      "SNR: 20.33 dB\n",
      "SIR =  7.12  dB\n",
      "GMI: 4.00 bits\n",
      "\n"
     ]
    },
    {
     "data": {
      "application/vnd.jupyter.widget-view+json": {
       "model_id": "8f458b2b71e04532b72a4eb316ebba37",
       "version_major": 2,
       "version_minor": 0
      },
      "text/plain": [
       "  0%|          | 0/1 [00:00<?, ?it/s]"
      ]
     },
     "metadata": {},
     "output_type": "display_data"
    },
    {
     "name": "stdout",
     "output_type": "stream",
     "text": [
      "CSPR = 12.00 dB\n",
      "Results:\n",
      "BER: 0.00e+00\n",
      "SNR: 21.33 dB\n",
      "SIR =  7.11  dB\n",
      "GMI: 4.00 bits\n",
      "\n"
     ]
    },
    {
     "data": {
      "application/vnd.jupyter.widget-view+json": {
       "model_id": "d6a57f14ba764f0eb53fce4413c5da99",
       "version_major": 2,
       "version_minor": 0
      },
      "text/plain": [
       "  0%|          | 0/1 [00:00<?, ?it/s]"
      ]
     },
     "metadata": {},
     "output_type": "display_data"
    },
    {
     "name": "stdout",
     "output_type": "stream",
     "text": [
      "CSPR = 12.00 dB\n",
      "Results:\n",
      "BER: 0.00e+00\n",
      "SNR: 22.30 dB\n",
      "SIR =  7.12  dB\n",
      "GMI: 4.00 bits\n",
      "\n"
     ]
    },
    {
     "data": {
      "application/vnd.jupyter.widget-view+json": {
       "model_id": "41f1cb49d3144a6ba7e4e3e0ab361f3f",
       "version_major": 2,
       "version_minor": 0
      },
      "text/plain": [
       "  0%|          | 0/1 [00:00<?, ?it/s]"
      ]
     },
     "metadata": {},
     "output_type": "display_data"
    },
    {
     "name": "stdout",
     "output_type": "stream",
     "text": [
      "CSPR = 12.00 dB\n",
      "Results:\n",
      "BER: 0.00e+00\n",
      "SNR: 23.27 dB\n",
      "SIR =  7.1  dB\n",
      "GMI: 4.00 bits\n",
      "\n"
     ]
    },
    {
     "data": {
      "application/vnd.jupyter.widget-view+json": {
       "model_id": "b69b5e6905334047a5d67829f53f9831",
       "version_major": 2,
       "version_minor": 0
      },
      "text/plain": [
       "  0%|          | 0/1 [00:00<?, ?it/s]"
      ]
     },
     "metadata": {},
     "output_type": "display_data"
    },
    {
     "name": "stdout",
     "output_type": "stream",
     "text": [
      "CSPR = 12.00 dB\n",
      "Results:\n",
      "BER: 0.00e+00\n",
      "SNR: 24.24 dB\n",
      "SIR =  7.11  dB\n",
      "GMI: 4.00 bits\n",
      "\n"
     ]
    },
    {
     "data": {
      "application/vnd.jupyter.widget-view+json": {
       "model_id": "826bb816cfc34ab7b5893ce7aa34317f",
       "version_major": 2,
       "version_minor": 0
      },
      "text/plain": [
       "  0%|          | 0/1 [00:00<?, ?it/s]"
      ]
     },
     "metadata": {},
     "output_type": "display_data"
    },
    {
     "name": "stdout",
     "output_type": "stream",
     "text": [
      "CSPR = 12.00 dB\n",
      "Results:\n",
      "BER: 0.00e+00\n",
      "SNR: 25.21 dB\n",
      "SIR =  7.11  dB\n",
      "GMI: 4.00 bits\n",
      "\n"
     ]
    },
    {
     "data": {
      "application/vnd.jupyter.widget-view+json": {
       "model_id": "f9ed23005f064d38a2c7c57e87ac47c8",
       "version_major": 2,
       "version_minor": 0
      },
      "text/plain": [
       "  0%|          | 0/10 [00:00<?, ?it/s]"
      ]
     },
     "metadata": {},
     "output_type": "display_data"
    },
    {
     "data": {
      "application/vnd.jupyter.widget-view+json": {
       "model_id": "039008eaedff44bfa218c3fb6b3e74e4",
       "version_major": 2,
       "version_minor": 0
      },
      "text/plain": [
       "  0%|          | 0/1 [00:00<?, ?it/s]"
      ]
     },
     "metadata": {},
     "output_type": "display_data"
    },
    {
     "name": "stdout",
     "output_type": "stream",
     "text": [
      "CSPR = 13.00 dB\n",
      "Results:\n",
      "BER: 1.36e-03\n",
      "SNR: 16.36 dB\n",
      "SIR =  7.11  dB\n",
      "GMI: 3.98 bits\n",
      "\n"
     ]
    },
    {
     "data": {
      "application/vnd.jupyter.widget-view+json": {
       "model_id": "f735339bbbbf4299bfa1f71ae7847b0f",
       "version_major": 2,
       "version_minor": 0
      },
      "text/plain": [
       "  0%|          | 0/1 [00:00<?, ?it/s]"
      ]
     },
     "metadata": {},
     "output_type": "display_data"
    },
    {
     "name": "stdout",
     "output_type": "stream",
     "text": [
      "CSPR = 13.00 dB\n",
      "Results:\n",
      "BER: 3.41e-04\n",
      "SNR: 17.37 dB\n",
      "SIR =  7.12  dB\n",
      "GMI: 3.99 bits\n",
      "\n"
     ]
    },
    {
     "data": {
      "application/vnd.jupyter.widget-view+json": {
       "model_id": "b7c234ada44d4072bba46da5d41e671e",
       "version_major": 2,
       "version_minor": 0
      },
      "text/plain": [
       "  0%|          | 0/1 [00:00<?, ?it/s]"
      ]
     },
     "metadata": {},
     "output_type": "display_data"
    },
    {
     "name": "stdout",
     "output_type": "stream",
     "text": [
      "CSPR = 13.00 dB\n",
      "Results:\n",
      "BER: 1.00e-04\n",
      "SNR: 18.37 dB\n",
      "SIR =  7.12  dB\n",
      "GMI: 4.00 bits\n",
      "\n"
     ]
    },
    {
     "data": {
      "application/vnd.jupyter.widget-view+json": {
       "model_id": "c6c680be5e884e5a8d8df7cecde1b90d",
       "version_major": 2,
       "version_minor": 0
      },
      "text/plain": [
       "  0%|          | 0/1 [00:00<?, ?it/s]"
      ]
     },
     "metadata": {},
     "output_type": "display_data"
    },
    {
     "name": "stdout",
     "output_type": "stream",
     "text": [
      "CSPR = 13.00 dB\n",
      "Results:\n",
      "BER: 1.25e-05\n",
      "SNR: 19.36 dB\n",
      "SIR =  7.1  dB\n",
      "GMI: 4.00 bits\n",
      "\n"
     ]
    },
    {
     "data": {
      "application/vnd.jupyter.widget-view+json": {
       "model_id": "530dd9b616584758a2562df977243c27",
       "version_major": 2,
       "version_minor": 0
      },
      "text/plain": [
       "  0%|          | 0/1 [00:00<?, ?it/s]"
      ]
     },
     "metadata": {},
     "output_type": "display_data"
    },
    {
     "name": "stdout",
     "output_type": "stream",
     "text": [
      "CSPR = 13.00 dB\n",
      "Results:\n",
      "BER: 0.00e+00\n",
      "SNR: 20.36 dB\n",
      "SIR =  7.11  dB\n",
      "GMI: 4.00 bits\n",
      "\n"
     ]
    },
    {
     "data": {
      "application/vnd.jupyter.widget-view+json": {
       "model_id": "7137522b27174599bd85c86c5f85257f",
       "version_major": 2,
       "version_minor": 0
      },
      "text/plain": [
       "  0%|          | 0/1 [00:00<?, ?it/s]"
      ]
     },
     "metadata": {},
     "output_type": "display_data"
    },
    {
     "name": "stdout",
     "output_type": "stream",
     "text": [
      "CSPR = 13.00 dB\n",
      "Results:\n",
      "BER: 0.00e+00\n",
      "SNR: 21.31 dB\n",
      "SIR =  7.12  dB\n",
      "GMI: 4.00 bits\n",
      "\n"
     ]
    },
    {
     "data": {
      "application/vnd.jupyter.widget-view+json": {
       "model_id": "2703dd52c0d34e96a36f561043023a42",
       "version_major": 2,
       "version_minor": 0
      },
      "text/plain": [
       "  0%|          | 0/1 [00:00<?, ?it/s]"
      ]
     },
     "metadata": {},
     "output_type": "display_data"
    },
    {
     "name": "stdout",
     "output_type": "stream",
     "text": [
      "CSPR = 13.00 dB\n",
      "Results:\n",
      "BER: 0.00e+00\n",
      "SNR: 22.24 dB\n",
      "SIR =  7.12  dB\n",
      "GMI: 4.00 bits\n",
      "\n"
     ]
    },
    {
     "data": {
      "application/vnd.jupyter.widget-view+json": {
       "model_id": "f29487b2d5a04758832620aafe768e9e",
       "version_major": 2,
       "version_minor": 0
      },
      "text/plain": [
       "  0%|          | 0/1 [00:00<?, ?it/s]"
      ]
     },
     "metadata": {},
     "output_type": "display_data"
    },
    {
     "name": "stdout",
     "output_type": "stream",
     "text": [
      "CSPR = 13.00 dB\n",
      "Results:\n",
      "BER: 0.00e+00\n",
      "SNR: 23.27 dB\n",
      "SIR =  7.12  dB\n",
      "GMI: 4.00 bits\n",
      "\n"
     ]
    },
    {
     "data": {
      "application/vnd.jupyter.widget-view+json": {
       "model_id": "f67b30ee5e24476781862014f41255ea",
       "version_major": 2,
       "version_minor": 0
      },
      "text/plain": [
       "  0%|          | 0/1 [00:00<?, ?it/s]"
      ]
     },
     "metadata": {},
     "output_type": "display_data"
    },
    {
     "name": "stdout",
     "output_type": "stream",
     "text": [
      "CSPR = 13.00 dB\n",
      "Results:\n",
      "BER: 0.00e+00\n",
      "SNR: 24.24 dB\n",
      "SIR =  7.11  dB\n",
      "GMI: 4.00 bits\n",
      "\n"
     ]
    },
    {
     "data": {
      "application/vnd.jupyter.widget-view+json": {
       "model_id": "7028e7e8438c46869492f96d4b51c3d8",
       "version_major": 2,
       "version_minor": 0
      },
      "text/plain": [
       "  0%|          | 0/1 [00:00<?, ?it/s]"
      ]
     },
     "metadata": {},
     "output_type": "display_data"
    },
    {
     "name": "stdout",
     "output_type": "stream",
     "text": [
      "CSPR = 13.00 dB\n",
      "Results:\n",
      "BER: 0.00e+00\n",
      "SNR: 25.22 dB\n",
      "SIR =  7.12  dB\n",
      "GMI: 4.00 bits\n",
      "\n"
     ]
    },
    {
     "data": {
      "application/vnd.jupyter.widget-view+json": {
       "model_id": "3858df88fd75440e9368139039c38abe",
       "version_major": 2,
       "version_minor": 0
      },
      "text/plain": [
       "  0%|          | 0/10 [00:00<?, ?it/s]"
      ]
     },
     "metadata": {},
     "output_type": "display_data"
    },
    {
     "data": {
      "application/vnd.jupyter.widget-view+json": {
       "model_id": "7aac3306be4343fd9a8b8fd1f287dc23",
       "version_major": 2,
       "version_minor": 0
      },
      "text/plain": [
       "  0%|          | 0/1 [00:00<?, ?it/s]"
      ]
     },
     "metadata": {},
     "output_type": "display_data"
    },
    {
     "name": "stdout",
     "output_type": "stream",
     "text": [
      "CSPR = 14.00 dB\n",
      "Results:\n",
      "BER: 1.35e-03\n",
      "SNR: 16.37 dB\n",
      "SIR =  7.13  dB\n",
      "GMI: 3.98 bits\n",
      "\n"
     ]
    },
    {
     "data": {
      "application/vnd.jupyter.widget-view+json": {
       "model_id": "219cc6b7d2004ed79c03348b6365af38",
       "version_major": 2,
       "version_minor": 0
      },
      "text/plain": [
       "  0%|          | 0/1 [00:00<?, ?it/s]"
      ]
     },
     "metadata": {},
     "output_type": "display_data"
    },
    {
     "name": "stdout",
     "output_type": "stream",
     "text": [
      "CSPR = 14.00 dB\n",
      "Results:\n",
      "BER: 4.28e-04\n",
      "SNR: 17.37 dB\n",
      "SIR =  7.1  dB\n",
      "GMI: 3.99 bits\n",
      "\n"
     ]
    },
    {
     "data": {
      "application/vnd.jupyter.widget-view+json": {
       "model_id": "0a9d5344bb404cc9b542b732fa713a65",
       "version_major": 2,
       "version_minor": 0
      },
      "text/plain": [
       "  0%|          | 0/1 [00:00<?, ?it/s]"
      ]
     },
     "metadata": {},
     "output_type": "display_data"
    },
    {
     "name": "stdout",
     "output_type": "stream",
     "text": [
      "CSPR = 14.00 dB\n",
      "Results:\n",
      "BER: 9.06e-05\n",
      "SNR: 18.37 dB\n",
      "SIR =  7.1  dB\n",
      "GMI: 4.00 bits\n",
      "\n"
     ]
    },
    {
     "data": {
      "application/vnd.jupyter.widget-view+json": {
       "model_id": "2bb7d66016744fa8b3f5eec876379e46",
       "version_major": 2,
       "version_minor": 0
      },
      "text/plain": [
       "  0%|          | 0/1 [00:00<?, ?it/s]"
      ]
     },
     "metadata": {},
     "output_type": "display_data"
    },
    {
     "name": "stdout",
     "output_type": "stream",
     "text": [
      "CSPR = 14.00 dB\n",
      "Results:\n",
      "BER: 6.25e-06\n",
      "SNR: 19.34 dB\n",
      "SIR =  7.12  dB\n",
      "GMI: 4.00 bits\n",
      "\n"
     ]
    },
    {
     "data": {
      "application/vnd.jupyter.widget-view+json": {
       "model_id": "48d5e0dfeda54129b2a6d110e50e4a10",
       "version_major": 2,
       "version_minor": 0
      },
      "text/plain": [
       "  0%|          | 0/1 [00:00<?, ?it/s]"
      ]
     },
     "metadata": {},
     "output_type": "display_data"
    },
    {
     "name": "stdout",
     "output_type": "stream",
     "text": [
      "CSPR = 14.00 dB\n",
      "Results:\n",
      "BER: 3.13e-06\n",
      "SNR: 20.32 dB\n",
      "SIR =  7.11  dB\n",
      "GMI: 4.00 bits\n",
      "\n"
     ]
    },
    {
     "data": {
      "application/vnd.jupyter.widget-view+json": {
       "model_id": "5af915714ca34ca98b8d0673972e367d",
       "version_major": 2,
       "version_minor": 0
      },
      "text/plain": [
       "  0%|          | 0/1 [00:00<?, ?it/s]"
      ]
     },
     "metadata": {},
     "output_type": "display_data"
    },
    {
     "name": "stdout",
     "output_type": "stream",
     "text": [
      "CSPR = 14.00 dB\n",
      "Results:\n",
      "BER: 0.00e+00\n",
      "SNR: 21.29 dB\n",
      "SIR =  7.11  dB\n",
      "GMI: 4.00 bits\n",
      "\n"
     ]
    },
    {
     "data": {
      "application/vnd.jupyter.widget-view+json": {
       "model_id": "1cb91c2baef94f83bb05829fae9edf5b",
       "version_major": 2,
       "version_minor": 0
      },
      "text/plain": [
       "  0%|          | 0/1 [00:00<?, ?it/s]"
      ]
     },
     "metadata": {},
     "output_type": "display_data"
    },
    {
     "name": "stdout",
     "output_type": "stream",
     "text": [
      "CSPR = 14.00 dB\n",
      "Results:\n",
      "BER: 0.00e+00\n",
      "SNR: 22.30 dB\n",
      "SIR =  7.12  dB\n",
      "GMI: 4.00 bits\n",
      "\n"
     ]
    },
    {
     "data": {
      "application/vnd.jupyter.widget-view+json": {
       "model_id": "926fd9bf875f43f891f40aad858b158a",
       "version_major": 2,
       "version_minor": 0
      },
      "text/plain": [
       "  0%|          | 0/1 [00:00<?, ?it/s]"
      ]
     },
     "metadata": {},
     "output_type": "display_data"
    },
    {
     "name": "stdout",
     "output_type": "stream",
     "text": [
      "CSPR = 14.00 dB\n",
      "Results:\n",
      "BER: 0.00e+00\n",
      "SNR: 23.27 dB\n",
      "SIR =  7.12  dB\n",
      "GMI: 4.00 bits\n",
      "\n"
     ]
    },
    {
     "data": {
      "application/vnd.jupyter.widget-view+json": {
       "model_id": "f04e99f146b44028a0b1c5969419f9fb",
       "version_major": 2,
       "version_minor": 0
      },
      "text/plain": [
       "  0%|          | 0/1 [00:00<?, ?it/s]"
      ]
     },
     "metadata": {},
     "output_type": "display_data"
    },
    {
     "name": "stdout",
     "output_type": "stream",
     "text": [
      "CSPR = 14.00 dB\n",
      "Results:\n",
      "BER: 0.00e+00\n",
      "SNR: 24.21 dB\n",
      "SIR =  7.13  dB\n",
      "GMI: 4.00 bits\n",
      "\n"
     ]
    },
    {
     "data": {
      "application/vnd.jupyter.widget-view+json": {
       "model_id": "dd7ea9082ed340ebbcf66c7942e53c84",
       "version_major": 2,
       "version_minor": 0
      },
      "text/plain": [
       "  0%|          | 0/1 [00:00<?, ?it/s]"
      ]
     },
     "metadata": {},
     "output_type": "display_data"
    },
    {
     "name": "stdout",
     "output_type": "stream",
     "text": [
      "CSPR = 14.00 dB\n",
      "Results:\n",
      "BER: 0.00e+00\n",
      "SNR: 25.22 dB\n",
      "SIR =  7.11  dB\n",
      "GMI: 4.00 bits\n",
      "\n"
     ]
    },
    {
     "data": {
      "application/vnd.jupyter.widget-view+json": {
       "model_id": "dfea85dd7f2b4a7f9c2974e175eb63c0",
       "version_major": 2,
       "version_minor": 0
      },
      "text/plain": [
       "  0%|          | 0/10 [00:00<?, ?it/s]"
      ]
     },
     "metadata": {},
     "output_type": "display_data"
    },
    {
     "data": {
      "application/vnd.jupyter.widget-view+json": {
       "model_id": "43e242cf2c674f29a48d0cbd777448f6",
       "version_major": 2,
       "version_minor": 0
      },
      "text/plain": [
       "  0%|          | 0/1 [00:00<?, ?it/s]"
      ]
     },
     "metadata": {},
     "output_type": "display_data"
    },
    {
     "name": "stdout",
     "output_type": "stream",
     "text": [
      "CSPR = 15.00 dB\n",
      "Results:\n",
      "BER: 1.31e-03\n",
      "SNR: 16.36 dB\n",
      "SIR =  7.1  dB\n",
      "GMI: 3.98 bits\n",
      "\n"
     ]
    },
    {
     "data": {
      "application/vnd.jupyter.widget-view+json": {
       "model_id": "6ed19f1266a349788687c0a539ce58b7",
       "version_major": 2,
       "version_minor": 0
      },
      "text/plain": [
       "  0%|          | 0/1 [00:00<?, ?it/s]"
      ]
     },
     "metadata": {},
     "output_type": "display_data"
    },
    {
     "name": "stdout",
     "output_type": "stream",
     "text": [
      "CSPR = 15.00 dB\n",
      "Results:\n",
      "BER: 3.84e-04\n",
      "SNR: 17.36 dB\n",
      "SIR =  7.11  dB\n",
      "GMI: 3.99 bits\n",
      "\n"
     ]
    },
    {
     "data": {
      "application/vnd.jupyter.widget-view+json": {
       "model_id": "9454889247784362aa91dbdfa7325198",
       "version_major": 2,
       "version_minor": 0
      },
      "text/plain": [
       "  0%|          | 0/1 [00:00<?, ?it/s]"
      ]
     },
     "metadata": {},
     "output_type": "display_data"
    },
    {
     "name": "stdout",
     "output_type": "stream",
     "text": [
      "CSPR = 15.00 dB\n",
      "Results:\n",
      "BER: 9.69e-05\n",
      "SNR: 18.36 dB\n",
      "SIR =  7.12  dB\n",
      "GMI: 4.00 bits\n",
      "\n"
     ]
    },
    {
     "data": {
      "application/vnd.jupyter.widget-view+json": {
       "model_id": "6208650d5deb40f8a440e765fbfcd185",
       "version_major": 2,
       "version_minor": 0
      },
      "text/plain": [
       "  0%|          | 0/1 [00:00<?, ?it/s]"
      ]
     },
     "metadata": {},
     "output_type": "display_data"
    },
    {
     "name": "stdout",
     "output_type": "stream",
     "text": [
      "CSPR = 15.00 dB\n",
      "Results:\n",
      "BER: 1.56e-05\n",
      "SNR: 19.34 dB\n",
      "SIR =  7.11  dB\n",
      "GMI: 4.00 bits\n",
      "\n"
     ]
    },
    {
     "data": {
      "application/vnd.jupyter.widget-view+json": {
       "model_id": "53547f33f8aa404da88553056f17d2a3",
       "version_major": 2,
       "version_minor": 0
      },
      "text/plain": [
       "  0%|          | 0/1 [00:00<?, ?it/s]"
      ]
     },
     "metadata": {},
     "output_type": "display_data"
    },
    {
     "name": "stdout",
     "output_type": "stream",
     "text": [
      "CSPR = 15.00 dB\n",
      "Results:\n",
      "BER: 3.13e-06\n",
      "SNR: 20.36 dB\n",
      "SIR =  7.12  dB\n",
      "GMI: 4.00 bits\n",
      "\n"
     ]
    },
    {
     "data": {
      "application/vnd.jupyter.widget-view+json": {
       "model_id": "ddcebee789504a069f67bf3329bd85a2",
       "version_major": 2,
       "version_minor": 0
      },
      "text/plain": [
       "  0%|          | 0/1 [00:00<?, ?it/s]"
      ]
     },
     "metadata": {},
     "output_type": "display_data"
    },
    {
     "name": "stdout",
     "output_type": "stream",
     "text": [
      "CSPR = 15.00 dB\n",
      "Results:\n",
      "BER: 0.00e+00\n",
      "SNR: 21.31 dB\n",
      "SIR =  7.11  dB\n",
      "GMI: 4.00 bits\n",
      "\n"
     ]
    },
    {
     "data": {
      "application/vnd.jupyter.widget-view+json": {
       "model_id": "776ca189a2824971ac33723963e83985",
       "version_major": 2,
       "version_minor": 0
      },
      "text/plain": [
       "  0%|          | 0/1 [00:00<?, ?it/s]"
      ]
     },
     "metadata": {},
     "output_type": "display_data"
    },
    {
     "name": "stdout",
     "output_type": "stream",
     "text": [
      "CSPR = 15.00 dB\n",
      "Results:\n",
      "BER: 0.00e+00\n",
      "SNR: 22.28 dB\n",
      "SIR =  7.11  dB\n",
      "GMI: 4.00 bits\n",
      "\n"
     ]
    },
    {
     "data": {
      "application/vnd.jupyter.widget-view+json": {
       "model_id": "9e4a306f61114a098e93e11fd0d50ac2",
       "version_major": 2,
       "version_minor": 0
      },
      "text/plain": [
       "  0%|          | 0/1 [00:00<?, ?it/s]"
      ]
     },
     "metadata": {},
     "output_type": "display_data"
    },
    {
     "name": "stdout",
     "output_type": "stream",
     "text": [
      "CSPR = 15.00 dB\n",
      "Results:\n",
      "BER: 0.00e+00\n",
      "SNR: 23.26 dB\n",
      "SIR =  7.12  dB\n",
      "GMI: 4.00 bits\n",
      "\n"
     ]
    },
    {
     "data": {
      "application/vnd.jupyter.widget-view+json": {
       "model_id": "ba59f7d8eea44c0f840214c9c31cf9e6",
       "version_major": 2,
       "version_minor": 0
      },
      "text/plain": [
       "  0%|          | 0/1 [00:00<?, ?it/s]"
      ]
     },
     "metadata": {},
     "output_type": "display_data"
    },
    {
     "name": "stdout",
     "output_type": "stream",
     "text": [
      "CSPR = 15.00 dB\n",
      "Results:\n",
      "BER: 0.00e+00\n",
      "SNR: 24.25 dB\n",
      "SIR =  7.12  dB\n",
      "GMI: 4.00 bits\n",
      "\n"
     ]
    },
    {
     "data": {
      "application/vnd.jupyter.widget-view+json": {
       "model_id": "1d41b50cb8da4a949e1287c77e2a3907",
       "version_major": 2,
       "version_minor": 0
      },
      "text/plain": [
       "  0%|          | 0/1 [00:00<?, ?it/s]"
      ]
     },
     "metadata": {},
     "output_type": "display_data"
    },
    {
     "name": "stdout",
     "output_type": "stream",
     "text": [
      "CSPR = 15.00 dB\n",
      "Results:\n",
      "BER: 0.00e+00\n",
      "SNR: 25.20 dB\n",
      "SIR =  7.12  dB\n",
      "GMI: 4.00 bits\n",
      "\n"
     ]
    },
    {
     "data": {
      "application/vnd.jupyter.widget-view+json": {
       "model_id": "50eeaf73eb414d0d9ad8ab3919646375",
       "version_major": 2,
       "version_minor": 0
      },
      "text/plain": [
       "  0%|          | 0/10 [00:00<?, ?it/s]"
      ]
     },
     "metadata": {},
     "output_type": "display_data"
    },
    {
     "data": {
      "application/vnd.jupyter.widget-view+json": {
       "model_id": "0c44b86f973f41e38a6334b76f9e2c57",
       "version_major": 2,
       "version_minor": 0
      },
      "text/plain": [
       "  0%|          | 0/10 [00:00<?, ?it/s]"
      ]
     },
     "metadata": {},
     "output_type": "display_data"
    },
    {
     "data": {
      "application/vnd.jupyter.widget-view+json": {
       "model_id": "31ef3237b23e402c8906bb24bba50aed",
       "version_major": 2,
       "version_minor": 0
      },
      "text/plain": [
       "  0%|          | 0/1 [00:00<?, ?it/s]"
      ]
     },
     "metadata": {},
     "output_type": "display_data"
    },
    {
     "name": "stdout",
     "output_type": "stream",
     "text": [
      "CSPR = 6.00 dB\n",
      "Results:\n",
      "BER: 1.23e-03\n",
      "SNR: 16.36 dB\n",
      "SIR =  7.1  dB\n",
      "GMI: 3.98 bits\n",
      "\n"
     ]
    },
    {
     "data": {
      "application/vnd.jupyter.widget-view+json": {
       "model_id": "ead0b9fd5cff4b6cabc715dc6550422a",
       "version_major": 2,
       "version_minor": 0
      },
      "text/plain": [
       "  0%|          | 0/1 [00:00<?, ?it/s]"
      ]
     },
     "metadata": {},
     "output_type": "display_data"
    },
    {
     "name": "stdout",
     "output_type": "stream",
     "text": [
      "CSPR = 6.00 dB\n",
      "Results:\n",
      "BER: 4.25e-04\n",
      "SNR: 17.37 dB\n",
      "SIR =  7.12  dB\n",
      "GMI: 3.99 bits\n",
      "\n"
     ]
    },
    {
     "data": {
      "application/vnd.jupyter.widget-view+json": {
       "model_id": "7b75d9ecf1e949f0b5af461bd5ff3be8",
       "version_major": 2,
       "version_minor": 0
      },
      "text/plain": [
       "  0%|          | 0/1 [00:00<?, ?it/s]"
      ]
     },
     "metadata": {},
     "output_type": "display_data"
    },
    {
     "name": "stdout",
     "output_type": "stream",
     "text": [
      "CSPR = 6.00 dB\n",
      "Results:\n",
      "BER: 1.00e-04\n",
      "SNR: 18.36 dB\n",
      "SIR =  7.1  dB\n",
      "GMI: 4.00 bits\n",
      "\n"
     ]
    },
    {
     "data": {
      "application/vnd.jupyter.widget-view+json": {
       "model_id": "7964aac24a354edfa9e184b9c0b063b2",
       "version_major": 2,
       "version_minor": 0
      },
      "text/plain": [
       "  0%|          | 0/1 [00:00<?, ?it/s]"
      ]
     },
     "metadata": {},
     "output_type": "display_data"
    },
    {
     "name": "stdout",
     "output_type": "stream",
     "text": [
      "CSPR = 6.00 dB\n",
      "Results:\n",
      "BER: 1.25e-05\n",
      "SNR: 19.33 dB\n",
      "SIR =  7.12  dB\n",
      "GMI: 4.00 bits\n",
      "\n"
     ]
    },
    {
     "data": {
      "application/vnd.jupyter.widget-view+json": {
       "model_id": "096485659bbb4bbaafcd39658846f6cb",
       "version_major": 2,
       "version_minor": 0
      },
      "text/plain": [
       "  0%|          | 0/1 [00:00<?, ?it/s]"
      ]
     },
     "metadata": {},
     "output_type": "display_data"
    },
    {
     "name": "stdout",
     "output_type": "stream",
     "text": [
      "CSPR = 6.00 dB\n",
      "Results:\n",
      "BER: 3.13e-06\n",
      "SNR: 20.33 dB\n",
      "SIR =  7.13  dB\n",
      "GMI: 4.00 bits\n",
      "\n"
     ]
    },
    {
     "data": {
      "application/vnd.jupyter.widget-view+json": {
       "model_id": "603e271d73dd4e1faee865bf07c7ef55",
       "version_major": 2,
       "version_minor": 0
      },
      "text/plain": [
       "  0%|          | 0/1 [00:00<?, ?it/s]"
      ]
     },
     "metadata": {},
     "output_type": "display_data"
    },
    {
     "name": "stdout",
     "output_type": "stream",
     "text": [
      "CSPR = 6.00 dB\n",
      "Results:\n",
      "BER: 0.00e+00\n",
      "SNR: 21.30 dB\n",
      "SIR =  7.1  dB\n",
      "GMI: 4.00 bits\n",
      "\n"
     ]
    },
    {
     "data": {
      "application/vnd.jupyter.widget-view+json": {
       "model_id": "3fa7b56e66e74112b96bd107efd9da72",
       "version_major": 2,
       "version_minor": 0
      },
      "text/plain": [
       "  0%|          | 0/1 [00:00<?, ?it/s]"
      ]
     },
     "metadata": {},
     "output_type": "display_data"
    },
    {
     "name": "stdout",
     "output_type": "stream",
     "text": [
      "CSPR = 6.00 dB\n",
      "Results:\n",
      "BER: 0.00e+00\n",
      "SNR: 22.29 dB\n",
      "SIR =  7.11  dB\n",
      "GMI: 4.00 bits\n",
      "\n"
     ]
    },
    {
     "data": {
      "application/vnd.jupyter.widget-view+json": {
       "model_id": "f69fb7434ceb4f9b9b6ecfc248237a30",
       "version_major": 2,
       "version_minor": 0
      },
      "text/plain": [
       "  0%|          | 0/1 [00:00<?, ?it/s]"
      ]
     },
     "metadata": {},
     "output_type": "display_data"
    },
    {
     "name": "stdout",
     "output_type": "stream",
     "text": [
      "CSPR = 6.00 dB\n",
      "Results:\n",
      "BER: 0.00e+00\n",
      "SNR: 23.28 dB\n",
      "SIR =  7.12  dB\n",
      "GMI: 4.00 bits\n",
      "\n"
     ]
    },
    {
     "data": {
      "application/vnd.jupyter.widget-view+json": {
       "model_id": "c77876403ed745c187e3afb661e598f6",
       "version_major": 2,
       "version_minor": 0
      },
      "text/plain": [
       "  0%|          | 0/1 [00:00<?, ?it/s]"
      ]
     },
     "metadata": {},
     "output_type": "display_data"
    },
    {
     "name": "stdout",
     "output_type": "stream",
     "text": [
      "CSPR = 6.00 dB\n",
      "Results:\n",
      "BER: 0.00e+00\n",
      "SNR: 24.24 dB\n",
      "SIR =  7.09  dB\n",
      "GMI: 4.00 bits\n",
      "\n"
     ]
    },
    {
     "data": {
      "application/vnd.jupyter.widget-view+json": {
       "model_id": "6a6145ff8c7d440c99bb1026b86fb606",
       "version_major": 2,
       "version_minor": 0
      },
      "text/plain": [
       "  0%|          | 0/1 [00:00<?, ?it/s]"
      ]
     },
     "metadata": {},
     "output_type": "display_data"
    },
    {
     "name": "stdout",
     "output_type": "stream",
     "text": [
      "CSPR = 6.00 dB\n",
      "Results:\n",
      "BER: 0.00e+00\n",
      "SNR: 25.19 dB\n",
      "SIR =  7.11  dB\n",
      "GMI: 4.00 bits\n",
      "\n"
     ]
    },
    {
     "data": {
      "application/vnd.jupyter.widget-view+json": {
       "model_id": "6370a5966aa64b949b64e88f411e12ba",
       "version_major": 2,
       "version_minor": 0
      },
      "text/plain": [
       "  0%|          | 0/10 [00:00<?, ?it/s]"
      ]
     },
     "metadata": {},
     "output_type": "display_data"
    },
    {
     "data": {
      "application/vnd.jupyter.widget-view+json": {
       "model_id": "3bb0d98c412b4a1581fcb45ecd682f8c",
       "version_major": 2,
       "version_minor": 0
      },
      "text/plain": [
       "  0%|          | 0/1 [00:00<?, ?it/s]"
      ]
     },
     "metadata": {},
     "output_type": "display_data"
    },
    {
     "name": "stdout",
     "output_type": "stream",
     "text": [
      "CSPR = 7.00 dB\n",
      "Results:\n",
      "BER: 1.32e-03\n",
      "SNR: 16.38 dB\n",
      "SIR =  7.11  dB\n",
      "GMI: 3.98 bits\n",
      "\n"
     ]
    },
    {
     "data": {
      "application/vnd.jupyter.widget-view+json": {
       "model_id": "c890fcf21ab74c40b3406e3033794753",
       "version_major": 2,
       "version_minor": 0
      },
      "text/plain": [
       "  0%|          | 0/1 [00:00<?, ?it/s]"
      ]
     },
     "metadata": {},
     "output_type": "display_data"
    },
    {
     "name": "stdout",
     "output_type": "stream",
     "text": [
      "CSPR = 7.00 dB\n",
      "Results:\n",
      "BER: 4.47e-04\n",
      "SNR: 17.36 dB\n",
      "SIR =  7.12  dB\n",
      "GMI: 3.99 bits\n",
      "\n"
     ]
    },
    {
     "data": {
      "application/vnd.jupyter.widget-view+json": {
       "model_id": "37a6cf8af71c451a8bb1174ae777d5b0",
       "version_major": 2,
       "version_minor": 0
      },
      "text/plain": [
       "  0%|          | 0/1 [00:00<?, ?it/s]"
      ]
     },
     "metadata": {},
     "output_type": "display_data"
    },
    {
     "name": "stdout",
     "output_type": "stream",
     "text": [
      "CSPR = 7.00 dB\n",
      "Results:\n",
      "BER: 8.44e-05\n",
      "SNR: 18.34 dB\n",
      "SIR =  7.13  dB\n",
      "GMI: 4.00 bits\n",
      "\n"
     ]
    },
    {
     "data": {
      "application/vnd.jupyter.widget-view+json": {
       "model_id": "27db554f6eb84350bb20e805d933b28f",
       "version_major": 2,
       "version_minor": 0
      },
      "text/plain": [
       "  0%|          | 0/1 [00:00<?, ?it/s]"
      ]
     },
     "metadata": {},
     "output_type": "display_data"
    },
    {
     "name": "stdout",
     "output_type": "stream",
     "text": [
      "CSPR = 7.00 dB\n",
      "Results:\n",
      "BER: 2.50e-05\n",
      "SNR: 19.36 dB\n",
      "SIR =  7.1  dB\n",
      "GMI: 4.00 bits\n",
      "\n"
     ]
    },
    {
     "data": {
      "application/vnd.jupyter.widget-view+json": {
       "model_id": "717c67fd57a44bef9c3876a0d38cccf7",
       "version_major": 2,
       "version_minor": 0
      },
      "text/plain": [
       "  0%|          | 0/1 [00:00<?, ?it/s]"
      ]
     },
     "metadata": {},
     "output_type": "display_data"
    },
    {
     "name": "stdout",
     "output_type": "stream",
     "text": [
      "CSPR = 7.00 dB\n",
      "Results:\n",
      "BER: 3.13e-06\n",
      "SNR: 20.32 dB\n",
      "SIR =  7.11  dB\n",
      "GMI: 4.00 bits\n",
      "\n"
     ]
    },
    {
     "data": {
      "application/vnd.jupyter.widget-view+json": {
       "model_id": "1c744991a34441a280ea10463ba38837",
       "version_major": 2,
       "version_minor": 0
      },
      "text/plain": [
       "  0%|          | 0/1 [00:00<?, ?it/s]"
      ]
     },
     "metadata": {},
     "output_type": "display_data"
    },
    {
     "name": "stdout",
     "output_type": "stream",
     "text": [
      "CSPR = 7.00 dB\n",
      "Results:\n",
      "BER: 0.00e+00\n",
      "SNR: 21.31 dB\n",
      "SIR =  7.11  dB\n",
      "GMI: 4.00 bits\n",
      "\n"
     ]
    },
    {
     "data": {
      "application/vnd.jupyter.widget-view+json": {
       "model_id": "ca9e81abab5541359f10e90855b87194",
       "version_major": 2,
       "version_minor": 0
      },
      "text/plain": [
       "  0%|          | 0/1 [00:00<?, ?it/s]"
      ]
     },
     "metadata": {},
     "output_type": "display_data"
    },
    {
     "name": "stdout",
     "output_type": "stream",
     "text": [
      "CSPR = 7.00 dB\n",
      "Results:\n",
      "BER: 0.00e+00\n",
      "SNR: 22.32 dB\n",
      "SIR =  7.1  dB\n",
      "GMI: 4.00 bits\n",
      "\n"
     ]
    },
    {
     "data": {
      "application/vnd.jupyter.widget-view+json": {
       "model_id": "7af6501c9049447bb34583aac0169b70",
       "version_major": 2,
       "version_minor": 0
      },
      "text/plain": [
       "  0%|          | 0/1 [00:00<?, ?it/s]"
      ]
     },
     "metadata": {},
     "output_type": "display_data"
    },
    {
     "name": "stdout",
     "output_type": "stream",
     "text": [
      "CSPR = 7.00 dB\n",
      "Results:\n",
      "BER: 0.00e+00\n",
      "SNR: 23.28 dB\n",
      "SIR =  7.11  dB\n",
      "GMI: 4.00 bits\n",
      "\n"
     ]
    },
    {
     "data": {
      "application/vnd.jupyter.widget-view+json": {
       "model_id": "2c39ae1018494dc2b94d3961e86df65d",
       "version_major": 2,
       "version_minor": 0
      },
      "text/plain": [
       "  0%|          | 0/1 [00:00<?, ?it/s]"
      ]
     },
     "metadata": {},
     "output_type": "display_data"
    },
    {
     "name": "stdout",
     "output_type": "stream",
     "text": [
      "CSPR = 7.00 dB\n",
      "Results:\n",
      "BER: 0.00e+00\n",
      "SNR: 24.27 dB\n",
      "SIR =  7.13  dB\n",
      "GMI: 4.00 bits\n",
      "\n"
     ]
    },
    {
     "data": {
      "application/vnd.jupyter.widget-view+json": {
       "model_id": "3704f298a9a44f8eb487792ad8e4b56f",
       "version_major": 2,
       "version_minor": 0
      },
      "text/plain": [
       "  0%|          | 0/1 [00:00<?, ?it/s]"
      ]
     },
     "metadata": {},
     "output_type": "display_data"
    },
    {
     "name": "stdout",
     "output_type": "stream",
     "text": [
      "CSPR = 7.00 dB\n",
      "Results:\n",
      "BER: 0.00e+00\n",
      "SNR: 25.21 dB\n",
      "SIR =  7.12  dB\n",
      "GMI: 4.00 bits\n",
      "\n"
     ]
    },
    {
     "data": {
      "application/vnd.jupyter.widget-view+json": {
       "model_id": "92e11093a49249a48669a35bdefb6950",
       "version_major": 2,
       "version_minor": 0
      },
      "text/plain": [
       "  0%|          | 0/10 [00:00<?, ?it/s]"
      ]
     },
     "metadata": {},
     "output_type": "display_data"
    },
    {
     "data": {
      "application/vnd.jupyter.widget-view+json": {
       "model_id": "df7bde8a68be461ca0882cc4788aa574",
       "version_major": 2,
       "version_minor": 0
      },
      "text/plain": [
       "  0%|          | 0/1 [00:00<?, ?it/s]"
      ]
     },
     "metadata": {},
     "output_type": "display_data"
    },
    {
     "name": "stdout",
     "output_type": "stream",
     "text": [
      "CSPR = 8.00 dB\n",
      "Results:\n",
      "BER: 1.31e-03\n",
      "SNR: 16.37 dB\n",
      "SIR =  7.1  dB\n",
      "GMI: 3.98 bits\n",
      "\n"
     ]
    },
    {
     "data": {
      "application/vnd.jupyter.widget-view+json": {
       "model_id": "dc0f341e43a4496cae1ece3aee45f152",
       "version_major": 2,
       "version_minor": 0
      },
      "text/plain": [
       "  0%|          | 0/1 [00:00<?, ?it/s]"
      ]
     },
     "metadata": {},
     "output_type": "display_data"
    },
    {
     "name": "stdout",
     "output_type": "stream",
     "text": [
      "CSPR = 8.00 dB\n",
      "Results:\n",
      "BER: 4.53e-04\n",
      "SNR: 17.34 dB\n",
      "SIR =  7.13  dB\n",
      "GMI: 3.99 bits\n",
      "\n"
     ]
    },
    {
     "data": {
      "application/vnd.jupyter.widget-view+json": {
       "model_id": "7fec855c5ab44083bf850cac7a1eb74d",
       "version_major": 2,
       "version_minor": 0
      },
      "text/plain": [
       "  0%|          | 0/1 [00:00<?, ?it/s]"
      ]
     },
     "metadata": {},
     "output_type": "display_data"
    },
    {
     "name": "stdout",
     "output_type": "stream",
     "text": [
      "CSPR = 8.00 dB\n",
      "Results:\n",
      "BER: 9.06e-05\n",
      "SNR: 18.41 dB\n",
      "SIR =  7.12  dB\n",
      "GMI: 4.00 bits\n",
      "\n"
     ]
    },
    {
     "data": {
      "application/vnd.jupyter.widget-view+json": {
       "model_id": "026269fa502e4bf98ee0e661aa55371c",
       "version_major": 2,
       "version_minor": 0
      },
      "text/plain": [
       "  0%|          | 0/1 [00:00<?, ?it/s]"
      ]
     },
     "metadata": {},
     "output_type": "display_data"
    },
    {
     "name": "stdout",
     "output_type": "stream",
     "text": [
      "CSPR = 8.00 dB\n",
      "Results:\n",
      "BER: 6.25e-06\n",
      "SNR: 19.36 dB\n",
      "SIR =  7.13  dB\n",
      "GMI: 4.00 bits\n",
      "\n"
     ]
    },
    {
     "data": {
      "application/vnd.jupyter.widget-view+json": {
       "model_id": "8e9aa34d61a64f07803ba3a5db0b271d",
       "version_major": 2,
       "version_minor": 0
      },
      "text/plain": [
       "  0%|          | 0/1 [00:00<?, ?it/s]"
      ]
     },
     "metadata": {},
     "output_type": "display_data"
    },
    {
     "name": "stdout",
     "output_type": "stream",
     "text": [
      "CSPR = 8.00 dB\n",
      "Results:\n",
      "BER: 0.00e+00\n",
      "SNR: 20.33 dB\n",
      "SIR =  7.1  dB\n",
      "GMI: 4.00 bits\n",
      "\n"
     ]
    },
    {
     "data": {
      "application/vnd.jupyter.widget-view+json": {
       "model_id": "65c4de23ca07422cadb9b9ac286a8659",
       "version_major": 2,
       "version_minor": 0
      },
      "text/plain": [
       "  0%|          | 0/1 [00:00<?, ?it/s]"
      ]
     },
     "metadata": {},
     "output_type": "display_data"
    },
    {
     "name": "stdout",
     "output_type": "stream",
     "text": [
      "CSPR = 8.00 dB\n",
      "Results:\n",
      "BER: 0.00e+00\n",
      "SNR: 21.33 dB\n",
      "SIR =  7.12  dB\n",
      "GMI: 4.00 bits\n",
      "\n"
     ]
    },
    {
     "data": {
      "application/vnd.jupyter.widget-view+json": {
       "model_id": "69dae0243429471c9188eac3d486feb6",
       "version_major": 2,
       "version_minor": 0
      },
      "text/plain": [
       "  0%|          | 0/1 [00:00<?, ?it/s]"
      ]
     },
     "metadata": {},
     "output_type": "display_data"
    },
    {
     "name": "stdout",
     "output_type": "stream",
     "text": [
      "CSPR = 8.00 dB\n",
      "Results:\n",
      "BER: 0.00e+00\n",
      "SNR: 22.26 dB\n",
      "SIR =  7.09  dB\n",
      "GMI: 4.00 bits\n",
      "\n"
     ]
    },
    {
     "data": {
      "application/vnd.jupyter.widget-view+json": {
       "model_id": "eb96f40f9b014dd1a38fedf5535fd991",
       "version_major": 2,
       "version_minor": 0
      },
      "text/plain": [
       "  0%|          | 0/1 [00:00<?, ?it/s]"
      ]
     },
     "metadata": {},
     "output_type": "display_data"
    },
    {
     "name": "stdout",
     "output_type": "stream",
     "text": [
      "CSPR = 8.00 dB\n",
      "Results:\n",
      "BER: 0.00e+00\n",
      "SNR: 23.25 dB\n",
      "SIR =  7.11  dB\n",
      "GMI: 4.00 bits\n",
      "\n"
     ]
    },
    {
     "data": {
      "application/vnd.jupyter.widget-view+json": {
       "model_id": "7b61444bc78b4deead200e542ac2896f",
       "version_major": 2,
       "version_minor": 0
      },
      "text/plain": [
       "  0%|          | 0/1 [00:00<?, ?it/s]"
      ]
     },
     "metadata": {},
     "output_type": "display_data"
    },
    {
     "name": "stdout",
     "output_type": "stream",
     "text": [
      "CSPR = 8.00 dB\n",
      "Results:\n",
      "BER: 0.00e+00\n",
      "SNR: 24.23 dB\n",
      "SIR =  7.11  dB\n",
      "GMI: 4.00 bits\n",
      "\n"
     ]
    },
    {
     "data": {
      "application/vnd.jupyter.widget-view+json": {
       "model_id": "96b3f22f57bd4396b7801a5430d4477a",
       "version_major": 2,
       "version_minor": 0
      },
      "text/plain": [
       "  0%|          | 0/1 [00:00<?, ?it/s]"
      ]
     },
     "metadata": {},
     "output_type": "display_data"
    },
    {
     "name": "stdout",
     "output_type": "stream",
     "text": [
      "CSPR = 8.00 dB\n",
      "Results:\n",
      "BER: 0.00e+00\n",
      "SNR: 25.18 dB\n",
      "SIR =  7.09  dB\n",
      "GMI: 4.00 bits\n",
      "\n"
     ]
    },
    {
     "data": {
      "application/vnd.jupyter.widget-view+json": {
       "model_id": "d5a53b158f994688993e0788bfa4a4e9",
       "version_major": 2,
       "version_minor": 0
      },
      "text/plain": [
       "  0%|          | 0/10 [00:00<?, ?it/s]"
      ]
     },
     "metadata": {},
     "output_type": "display_data"
    },
    {
     "data": {
      "application/vnd.jupyter.widget-view+json": {
       "model_id": "d3a5a1c5844f453da4c89d2a9b3d8c2b",
       "version_major": 2,
       "version_minor": 0
      },
      "text/plain": [
       "  0%|          | 0/1 [00:00<?, ?it/s]"
      ]
     },
     "metadata": {},
     "output_type": "display_data"
    },
    {
     "name": "stdout",
     "output_type": "stream",
     "text": [
      "CSPR = 9.00 dB\n",
      "Results:\n",
      "BER: 1.39e-03\n",
      "SNR: 16.37 dB\n",
      "SIR =  7.1  dB\n",
      "GMI: 3.98 bits\n",
      "\n"
     ]
    },
    {
     "data": {
      "application/vnd.jupyter.widget-view+json": {
       "model_id": "56d9a25befb7481cb57fb73558d07eeb",
       "version_major": 2,
       "version_minor": 0
      },
      "text/plain": [
       "  0%|          | 0/1 [00:00<?, ?it/s]"
      ]
     },
     "metadata": {},
     "output_type": "display_data"
    },
    {
     "name": "stdout",
     "output_type": "stream",
     "text": [
      "CSPR = 9.00 dB\n",
      "Results:\n",
      "BER: 4.19e-04\n",
      "SNR: 17.36 dB\n",
      "SIR =  7.11  dB\n",
      "GMI: 3.99 bits\n",
      "\n"
     ]
    },
    {
     "data": {
      "application/vnd.jupyter.widget-view+json": {
       "model_id": "d3f82efd26044301821bf582231a9747",
       "version_major": 2,
       "version_minor": 0
      },
      "text/plain": [
       "  0%|          | 0/1 [00:00<?, ?it/s]"
      ]
     },
     "metadata": {},
     "output_type": "display_data"
    },
    {
     "name": "stdout",
     "output_type": "stream",
     "text": [
      "CSPR = 9.00 dB\n",
      "Results:\n",
      "BER: 8.44e-05\n",
      "SNR: 18.34 dB\n",
      "SIR =  7.12  dB\n",
      "GMI: 4.00 bits\n",
      "\n"
     ]
    },
    {
     "data": {
      "application/vnd.jupyter.widget-view+json": {
       "model_id": "10873e1a0c2e469c92b0d00dcfffaf9a",
       "version_major": 2,
       "version_minor": 0
      },
      "text/plain": [
       "  0%|          | 0/1 [00:00<?, ?it/s]"
      ]
     },
     "metadata": {},
     "output_type": "display_data"
    },
    {
     "name": "stdout",
     "output_type": "stream",
     "text": [
      "CSPR = 9.00 dB\n",
      "Results:\n",
      "BER: 3.13e-06\n",
      "SNR: 19.33 dB\n",
      "SIR =  7.11  dB\n",
      "GMI: 4.00 bits\n",
      "\n"
     ]
    },
    {
     "data": {
      "application/vnd.jupyter.widget-view+json": {
       "model_id": "d8eb4b60cfcd4aafac7fc2cf66251ea5",
       "version_major": 2,
       "version_minor": 0
      },
      "text/plain": [
       "  0%|          | 0/1 [00:00<?, ?it/s]"
      ]
     },
     "metadata": {},
     "output_type": "display_data"
    },
    {
     "name": "stdout",
     "output_type": "stream",
     "text": [
      "CSPR = 9.00 dB\n",
      "Results:\n",
      "BER: 3.13e-06\n",
      "SNR: 20.33 dB\n",
      "SIR =  7.11  dB\n",
      "GMI: 4.00 bits\n",
      "\n"
     ]
    },
    {
     "data": {
      "application/vnd.jupyter.widget-view+json": {
       "model_id": "070d1cd2306a4d4b9961c361b5a14435",
       "version_major": 2,
       "version_minor": 0
      },
      "text/plain": [
       "  0%|          | 0/1 [00:00<?, ?it/s]"
      ]
     },
     "metadata": {},
     "output_type": "display_data"
    },
    {
     "name": "stdout",
     "output_type": "stream",
     "text": [
      "CSPR = 9.00 dB\n",
      "Results:\n",
      "BER: 3.13e-06\n",
      "SNR: 21.30 dB\n",
      "SIR =  7.09  dB\n",
      "GMI: 4.00 bits\n",
      "\n"
     ]
    },
    {
     "data": {
      "application/vnd.jupyter.widget-view+json": {
       "model_id": "c247d6e324b84573b4e58871d3de04f6",
       "version_major": 2,
       "version_minor": 0
      },
      "text/plain": [
       "  0%|          | 0/1 [00:00<?, ?it/s]"
      ]
     },
     "metadata": {},
     "output_type": "display_data"
    },
    {
     "name": "stdout",
     "output_type": "stream",
     "text": [
      "CSPR = 9.00 dB\n",
      "Results:\n",
      "BER: 0.00e+00\n",
      "SNR: 22.29 dB\n",
      "SIR =  7.11  dB\n",
      "GMI: 4.00 bits\n",
      "\n"
     ]
    },
    {
     "data": {
      "application/vnd.jupyter.widget-view+json": {
       "model_id": "705636729c644bf8952dda314716469e",
       "version_major": 2,
       "version_minor": 0
      },
      "text/plain": [
       "  0%|          | 0/1 [00:00<?, ?it/s]"
      ]
     },
     "metadata": {},
     "output_type": "display_data"
    },
    {
     "name": "stdout",
     "output_type": "stream",
     "text": [
      "CSPR = 9.00 dB\n",
      "Results:\n",
      "BER: 0.00e+00\n",
      "SNR: 23.24 dB\n",
      "SIR =  7.1  dB\n",
      "GMI: 4.00 bits\n",
      "\n"
     ]
    },
    {
     "data": {
      "application/vnd.jupyter.widget-view+json": {
       "model_id": "44ad1068eaf44ef781d8fed9e4d800e7",
       "version_major": 2,
       "version_minor": 0
      },
      "text/plain": [
       "  0%|          | 0/1 [00:00<?, ?it/s]"
      ]
     },
     "metadata": {},
     "output_type": "display_data"
    },
    {
     "name": "stdout",
     "output_type": "stream",
     "text": [
      "CSPR = 9.00 dB\n",
      "Results:\n",
      "BER: 0.00e+00\n",
      "SNR: 24.26 dB\n",
      "SIR =  7.1  dB\n",
      "GMI: 4.00 bits\n",
      "\n"
     ]
    },
    {
     "data": {
      "application/vnd.jupyter.widget-view+json": {
       "model_id": "7248775080f2410fbcf4cdf0a5c6654f",
       "version_major": 2,
       "version_minor": 0
      },
      "text/plain": [
       "  0%|          | 0/1 [00:00<?, ?it/s]"
      ]
     },
     "metadata": {},
     "output_type": "display_data"
    },
    {
     "name": "stdout",
     "output_type": "stream",
     "text": [
      "CSPR = 9.00 dB\n",
      "Results:\n",
      "BER: 0.00e+00\n",
      "SNR: 25.20 dB\n",
      "SIR =  7.08  dB\n",
      "GMI: 4.00 bits\n",
      "\n"
     ]
    },
    {
     "data": {
      "application/vnd.jupyter.widget-view+json": {
       "model_id": "2cd3e63e70644db19226eac8ce5ff8be",
       "version_major": 2,
       "version_minor": 0
      },
      "text/plain": [
       "  0%|          | 0/10 [00:00<?, ?it/s]"
      ]
     },
     "metadata": {},
     "output_type": "display_data"
    },
    {
     "data": {
      "application/vnd.jupyter.widget-view+json": {
       "model_id": "f431d5aa7ec24b4b974bf66e74d2249f",
       "version_major": 2,
       "version_minor": 0
      },
      "text/plain": [
       "  0%|          | 0/1 [00:00<?, ?it/s]"
      ]
     },
     "metadata": {},
     "output_type": "display_data"
    },
    {
     "name": "stdout",
     "output_type": "stream",
     "text": [
      "CSPR = 10.00 dB\n",
      "Results:\n",
      "BER: 1.36e-03\n",
      "SNR: 16.34 dB\n",
      "SIR =  7.1  dB\n",
      "GMI: 3.98 bits\n",
      "\n"
     ]
    },
    {
     "data": {
      "application/vnd.jupyter.widget-view+json": {
       "model_id": "1956bd43cbc643ef89d2f46ce0c30a4c",
       "version_major": 2,
       "version_minor": 0
      },
      "text/plain": [
       "  0%|          | 0/1 [00:00<?, ?it/s]"
      ]
     },
     "metadata": {},
     "output_type": "display_data"
    },
    {
     "name": "stdout",
     "output_type": "stream",
     "text": [
      "CSPR = 10.00 dB\n",
      "Results:\n",
      "BER: 4.06e-04\n",
      "SNR: 17.36 dB\n",
      "SIR =  7.09  dB\n",
      "GMI: 3.99 bits\n",
      "\n"
     ]
    },
    {
     "data": {
      "application/vnd.jupyter.widget-view+json": {
       "model_id": "1d8062c02ce541df89bdfba52f70cc21",
       "version_major": 2,
       "version_minor": 0
      },
      "text/plain": [
       "  0%|          | 0/1 [00:00<?, ?it/s]"
      ]
     },
     "metadata": {},
     "output_type": "display_data"
    },
    {
     "name": "stdout",
     "output_type": "stream",
     "text": [
      "CSPR = 10.00 dB\n",
      "Results:\n",
      "BER: 1.22e-04\n",
      "SNR: 18.38 dB\n",
      "SIR =  7.11  dB\n",
      "GMI: 4.00 bits\n",
      "\n"
     ]
    },
    {
     "data": {
      "application/vnd.jupyter.widget-view+json": {
       "model_id": "e048e01a142549cc9b26e416031be778",
       "version_major": 2,
       "version_minor": 0
      },
      "text/plain": [
       "  0%|          | 0/1 [00:00<?, ?it/s]"
      ]
     },
     "metadata": {},
     "output_type": "display_data"
    },
    {
     "name": "stdout",
     "output_type": "stream",
     "text": [
      "CSPR = 10.00 dB\n",
      "Results:\n",
      "BER: 2.19e-05\n",
      "SNR: 19.32 dB\n",
      "SIR =  7.12  dB\n",
      "GMI: 4.00 bits\n",
      "\n"
     ]
    },
    {
     "data": {
      "application/vnd.jupyter.widget-view+json": {
       "model_id": "94a4bfe16e2d43feb03e6ac8eaa346fb",
       "version_major": 2,
       "version_minor": 0
      },
      "text/plain": [
       "  0%|          | 0/1 [00:00<?, ?it/s]"
      ]
     },
     "metadata": {},
     "output_type": "display_data"
    },
    {
     "name": "stdout",
     "output_type": "stream",
     "text": [
      "CSPR = 10.00 dB\n",
      "Results:\n",
      "BER: 0.00e+00\n",
      "SNR: 20.30 dB\n",
      "SIR =  7.11  dB\n",
      "GMI: 4.00 bits\n",
      "\n"
     ]
    },
    {
     "data": {
      "application/vnd.jupyter.widget-view+json": {
       "model_id": "c6fcbfe3afe64ad3b479e3e1d593a81c",
       "version_major": 2,
       "version_minor": 0
      },
      "text/plain": [
       "  0%|          | 0/1 [00:00<?, ?it/s]"
      ]
     },
     "metadata": {},
     "output_type": "display_data"
    },
    {
     "name": "stdout",
     "output_type": "stream",
     "text": [
      "CSPR = 10.00 dB\n",
      "Results:\n",
      "BER: 0.00e+00\n",
      "SNR: 21.33 dB\n",
      "SIR =  7.13  dB\n",
      "GMI: 4.00 bits\n",
      "\n"
     ]
    },
    {
     "data": {
      "application/vnd.jupyter.widget-view+json": {
       "model_id": "69cba8c3326e443099a7dc19d5d8f6f0",
       "version_major": 2,
       "version_minor": 0
      },
      "text/plain": [
       "  0%|          | 0/1 [00:00<?, ?it/s]"
      ]
     },
     "metadata": {},
     "output_type": "display_data"
    },
    {
     "name": "stdout",
     "output_type": "stream",
     "text": [
      "CSPR = 10.00 dB\n",
      "Results:\n",
      "BER: 0.00e+00\n",
      "SNR: 22.29 dB\n",
      "SIR =  7.12  dB\n",
      "GMI: 4.00 bits\n",
      "\n"
     ]
    },
    {
     "data": {
      "application/vnd.jupyter.widget-view+json": {
       "model_id": "27d7d1d60abe4a808592ef4ea020531a",
       "version_major": 2,
       "version_minor": 0
      },
      "text/plain": [
       "  0%|          | 0/1 [00:00<?, ?it/s]"
      ]
     },
     "metadata": {},
     "output_type": "display_data"
    },
    {
     "name": "stdout",
     "output_type": "stream",
     "text": [
      "CSPR = 10.00 dB\n",
      "Results:\n",
      "BER: 0.00e+00\n",
      "SNR: 23.27 dB\n",
      "SIR =  7.12  dB\n",
      "GMI: 4.00 bits\n",
      "\n"
     ]
    },
    {
     "data": {
      "application/vnd.jupyter.widget-view+json": {
       "model_id": "acec87d812e64f2ca97e9c8ffa6b3e7d",
       "version_major": 2,
       "version_minor": 0
      },
      "text/plain": [
       "  0%|          | 0/1 [00:00<?, ?it/s]"
      ]
     },
     "metadata": {},
     "output_type": "display_data"
    },
    {
     "name": "stdout",
     "output_type": "stream",
     "text": [
      "CSPR = 10.00 dB\n",
      "Results:\n",
      "BER: 0.00e+00\n",
      "SNR: 24.23 dB\n",
      "SIR =  7.11  dB\n",
      "GMI: 4.00 bits\n",
      "\n"
     ]
    },
    {
     "data": {
      "application/vnd.jupyter.widget-view+json": {
       "model_id": "f81ee20e152042d78080b067fe251db8",
       "version_major": 2,
       "version_minor": 0
      },
      "text/plain": [
       "  0%|          | 0/1 [00:00<?, ?it/s]"
      ]
     },
     "metadata": {},
     "output_type": "display_data"
    },
    {
     "name": "stdout",
     "output_type": "stream",
     "text": [
      "CSPR = 10.00 dB\n",
      "Results:\n",
      "BER: 0.00e+00\n",
      "SNR: 25.20 dB\n",
      "SIR =  7.13  dB\n",
      "GMI: 4.00 bits\n",
      "\n"
     ]
    },
    {
     "data": {
      "application/vnd.jupyter.widget-view+json": {
       "model_id": "8feb443d1c6046f8b854ede808cb9a7a",
       "version_major": 2,
       "version_minor": 0
      },
      "text/plain": [
       "  0%|          | 0/10 [00:00<?, ?it/s]"
      ]
     },
     "metadata": {},
     "output_type": "display_data"
    },
    {
     "data": {
      "application/vnd.jupyter.widget-view+json": {
       "model_id": "4b55d583cb1547caaabc9dadbda24a8c",
       "version_major": 2,
       "version_minor": 0
      },
      "text/plain": [
       "  0%|          | 0/1 [00:00<?, ?it/s]"
      ]
     },
     "metadata": {},
     "output_type": "display_data"
    },
    {
     "name": "stdout",
     "output_type": "stream",
     "text": [
      "CSPR = 11.00 dB\n",
      "Results:\n",
      "BER: 1.39e-03\n",
      "SNR: 16.35 dB\n",
      "SIR =  7.11  dB\n",
      "GMI: 3.98 bits\n",
      "\n"
     ]
    },
    {
     "data": {
      "application/vnd.jupyter.widget-view+json": {
       "model_id": "215f15bc0d004b588969c74fc3384ebf",
       "version_major": 2,
       "version_minor": 0
      },
      "text/plain": [
       "  0%|          | 0/1 [00:00<?, ?it/s]"
      ]
     },
     "metadata": {},
     "output_type": "display_data"
    },
    {
     "name": "stdout",
     "output_type": "stream",
     "text": [
      "CSPR = 11.00 dB\n",
      "Results:\n",
      "BER: 4.12e-04\n",
      "SNR: 17.38 dB\n",
      "SIR =  7.11  dB\n",
      "GMI: 3.99 bits\n",
      "\n"
     ]
    },
    {
     "data": {
      "application/vnd.jupyter.widget-view+json": {
       "model_id": "510eb5b0389e49d9aca3594193b5b586",
       "version_major": 2,
       "version_minor": 0
      },
      "text/plain": [
       "  0%|          | 0/1 [00:00<?, ?it/s]"
      ]
     },
     "metadata": {},
     "output_type": "display_data"
    },
    {
     "name": "stdout",
     "output_type": "stream",
     "text": [
      "CSPR = 11.00 dB\n",
      "Results:\n",
      "BER: 9.69e-05\n",
      "SNR: 18.36 dB\n",
      "SIR =  7.12  dB\n",
      "GMI: 4.00 bits\n",
      "\n"
     ]
    },
    {
     "data": {
      "application/vnd.jupyter.widget-view+json": {
       "model_id": "6c9e4c28b5b6447ab5ed5dfeb60a69f5",
       "version_major": 2,
       "version_minor": 0
      },
      "text/plain": [
       "  0%|          | 0/1 [00:00<?, ?it/s]"
      ]
     },
     "metadata": {},
     "output_type": "display_data"
    },
    {
     "name": "stdout",
     "output_type": "stream",
     "text": [
      "CSPR = 11.00 dB\n",
      "Results:\n",
      "BER: 3.13e-06\n",
      "SNR: 19.35 dB\n",
      "SIR =  7.1  dB\n",
      "GMI: 4.00 bits\n",
      "\n"
     ]
    },
    {
     "data": {
      "application/vnd.jupyter.widget-view+json": {
       "model_id": "ca6a30d91da042b3beff3d79f19af08c",
       "version_major": 2,
       "version_minor": 0
      },
      "text/plain": [
       "  0%|          | 0/1 [00:00<?, ?it/s]"
      ]
     },
     "metadata": {},
     "output_type": "display_data"
    },
    {
     "name": "stdout",
     "output_type": "stream",
     "text": [
      "CSPR = 11.00 dB\n",
      "Results:\n",
      "BER: 0.00e+00\n",
      "SNR: 20.30 dB\n",
      "SIR =  7.1  dB\n",
      "GMI: 4.00 bits\n",
      "\n"
     ]
    },
    {
     "data": {
      "application/vnd.jupyter.widget-view+json": {
       "model_id": "39f47db6fe9f42e1a4738630a26ad952",
       "version_major": 2,
       "version_minor": 0
      },
      "text/plain": [
       "  0%|          | 0/1 [00:00<?, ?it/s]"
      ]
     },
     "metadata": {},
     "output_type": "display_data"
    },
    {
     "name": "stdout",
     "output_type": "stream",
     "text": [
      "CSPR = 11.00 dB\n",
      "Results:\n",
      "BER: 0.00e+00\n",
      "SNR: 21.31 dB\n",
      "SIR =  7.11  dB\n",
      "GMI: 4.00 bits\n",
      "\n"
     ]
    },
    {
     "data": {
      "application/vnd.jupyter.widget-view+json": {
       "model_id": "510ae66e1c0b4232a1f6f73fa65b91bb",
       "version_major": 2,
       "version_minor": 0
      },
      "text/plain": [
       "  0%|          | 0/1 [00:00<?, ?it/s]"
      ]
     },
     "metadata": {},
     "output_type": "display_data"
    },
    {
     "name": "stdout",
     "output_type": "stream",
     "text": [
      "CSPR = 11.00 dB\n",
      "Results:\n",
      "BER: 0.00e+00\n",
      "SNR: 22.30 dB\n",
      "SIR =  7.1  dB\n",
      "GMI: 4.00 bits\n",
      "\n"
     ]
    },
    {
     "data": {
      "application/vnd.jupyter.widget-view+json": {
       "model_id": "65ee13be44a64cd2bfe1769bccde4e91",
       "version_major": 2,
       "version_minor": 0
      },
      "text/plain": [
       "  0%|          | 0/1 [00:00<?, ?it/s]"
      ]
     },
     "metadata": {},
     "output_type": "display_data"
    },
    {
     "name": "stdout",
     "output_type": "stream",
     "text": [
      "CSPR = 11.00 dB\n",
      "Results:\n",
      "BER: 0.00e+00\n",
      "SNR: 23.27 dB\n",
      "SIR =  7.12  dB\n",
      "GMI: 4.00 bits\n",
      "\n"
     ]
    },
    {
     "data": {
      "application/vnd.jupyter.widget-view+json": {
       "model_id": "f3d5d9fa8f5a440d9eaf826b8b2b3bd1",
       "version_major": 2,
       "version_minor": 0
      },
      "text/plain": [
       "  0%|          | 0/1 [00:00<?, ?it/s]"
      ]
     },
     "metadata": {},
     "output_type": "display_data"
    },
    {
     "name": "stdout",
     "output_type": "stream",
     "text": [
      "CSPR = 11.00 dB\n",
      "Results:\n",
      "BER: 0.00e+00\n",
      "SNR: 24.24 dB\n",
      "SIR =  7.13  dB\n",
      "GMI: 4.00 bits\n",
      "\n"
     ]
    },
    {
     "data": {
      "application/vnd.jupyter.widget-view+json": {
       "model_id": "db9ed7bb4514497eadd316f6086b8b69",
       "version_major": 2,
       "version_minor": 0
      },
      "text/plain": [
       "  0%|          | 0/1 [00:00<?, ?it/s]"
      ]
     },
     "metadata": {},
     "output_type": "display_data"
    },
    {
     "name": "stdout",
     "output_type": "stream",
     "text": [
      "CSPR = 11.00 dB\n",
      "Results:\n",
      "BER: 0.00e+00\n",
      "SNR: 25.21 dB\n",
      "SIR =  7.11  dB\n",
      "GMI: 4.00 bits\n",
      "\n"
     ]
    },
    {
     "data": {
      "application/vnd.jupyter.widget-view+json": {
       "model_id": "8bee95fcb8ee485fb87245908be049bf",
       "version_major": 2,
       "version_minor": 0
      },
      "text/plain": [
       "  0%|          | 0/10 [00:00<?, ?it/s]"
      ]
     },
     "metadata": {},
     "output_type": "display_data"
    },
    {
     "data": {
      "application/vnd.jupyter.widget-view+json": {
       "model_id": "50581f277e43418891a09dc56d50b50c",
       "version_major": 2,
       "version_minor": 0
      },
      "text/plain": [
       "  0%|          | 0/1 [00:00<?, ?it/s]"
      ]
     },
     "metadata": {},
     "output_type": "display_data"
    },
    {
     "name": "stdout",
     "output_type": "stream",
     "text": [
      "CSPR = 12.00 dB\n",
      "Results:\n",
      "BER: 1.39e-03\n",
      "SNR: 16.36 dB\n",
      "SIR =  7.11  dB\n",
      "GMI: 3.98 bits\n",
      "\n"
     ]
    },
    {
     "data": {
      "application/vnd.jupyter.widget-view+json": {
       "model_id": "8dd828d1ce3c49e0aadc4ddd7d36bc96",
       "version_major": 2,
       "version_minor": 0
      },
      "text/plain": [
       "  0%|          | 0/1 [00:00<?, ?it/s]"
      ]
     },
     "metadata": {},
     "output_type": "display_data"
    },
    {
     "name": "stdout",
     "output_type": "stream",
     "text": [
      "CSPR = 12.00 dB\n",
      "Results:\n",
      "BER: 3.84e-04\n",
      "SNR: 17.37 dB\n",
      "SIR =  7.11  dB\n",
      "GMI: 3.99 bits\n",
      "\n"
     ]
    },
    {
     "data": {
      "application/vnd.jupyter.widget-view+json": {
       "model_id": "4b2b226c43074556a31c082d41491330",
       "version_major": 2,
       "version_minor": 0
      },
      "text/plain": [
       "  0%|          | 0/1 [00:00<?, ?it/s]"
      ]
     },
     "metadata": {},
     "output_type": "display_data"
    },
    {
     "name": "stdout",
     "output_type": "stream",
     "text": [
      "CSPR = 12.00 dB\n",
      "Results:\n",
      "BER: 1.25e-04\n",
      "SNR: 18.36 dB\n",
      "SIR =  7.13  dB\n",
      "GMI: 4.00 bits\n",
      "\n"
     ]
    },
    {
     "data": {
      "application/vnd.jupyter.widget-view+json": {
       "model_id": "718fee78138e49da835ab9add4a71c56",
       "version_major": 2,
       "version_minor": 0
      },
      "text/plain": [
       "  0%|          | 0/1 [00:00<?, ?it/s]"
      ]
     },
     "metadata": {},
     "output_type": "display_data"
    },
    {
     "name": "stdout",
     "output_type": "stream",
     "text": [
      "CSPR = 12.00 dB\n",
      "Results:\n",
      "BER: 1.56e-05\n",
      "SNR: 19.36 dB\n",
      "SIR =  7.1  dB\n",
      "GMI: 4.00 bits\n",
      "\n"
     ]
    },
    {
     "data": {
      "application/vnd.jupyter.widget-view+json": {
       "model_id": "b134d3d7e80f49f780bb91d4a1977a5f",
       "version_major": 2,
       "version_minor": 0
      },
      "text/plain": [
       "  0%|          | 0/1 [00:00<?, ?it/s]"
      ]
     },
     "metadata": {},
     "output_type": "display_data"
    },
    {
     "name": "stdout",
     "output_type": "stream",
     "text": [
      "CSPR = 12.00 dB\n",
      "Results:\n",
      "BER: 0.00e+00\n",
      "SNR: 20.34 dB\n",
      "SIR =  7.12  dB\n",
      "GMI: 4.00 bits\n",
      "\n"
     ]
    },
    {
     "data": {
      "application/vnd.jupyter.widget-view+json": {
       "model_id": "b1d9b9b091864dcaaa943e9fdb4e1d05",
       "version_major": 2,
       "version_minor": 0
      },
      "text/plain": [
       "  0%|          | 0/1 [00:00<?, ?it/s]"
      ]
     },
     "metadata": {},
     "output_type": "display_data"
    },
    {
     "name": "stdout",
     "output_type": "stream",
     "text": [
      "CSPR = 12.00 dB\n",
      "Results:\n",
      "BER: 0.00e+00\n",
      "SNR: 21.33 dB\n",
      "SIR =  7.1  dB\n",
      "GMI: 4.00 bits\n",
      "\n"
     ]
    },
    {
     "data": {
      "application/vnd.jupyter.widget-view+json": {
       "model_id": "df221d40ab16471691a40ae7c724c195",
       "version_major": 2,
       "version_minor": 0
      },
      "text/plain": [
       "  0%|          | 0/1 [00:00<?, ?it/s]"
      ]
     },
     "metadata": {},
     "output_type": "display_data"
    },
    {
     "name": "stdout",
     "output_type": "stream",
     "text": [
      "CSPR = 12.00 dB\n",
      "Results:\n",
      "BER: 0.00e+00\n",
      "SNR: 22.30 dB\n",
      "SIR =  7.13  dB\n",
      "GMI: 4.00 bits\n",
      "\n"
     ]
    },
    {
     "data": {
      "application/vnd.jupyter.widget-view+json": {
       "model_id": "78b5d00167024e9999940be11027dc35",
       "version_major": 2,
       "version_minor": 0
      },
      "text/plain": [
       "  0%|          | 0/1 [00:00<?, ?it/s]"
      ]
     },
     "metadata": {},
     "output_type": "display_data"
    },
    {
     "name": "stdout",
     "output_type": "stream",
     "text": [
      "CSPR = 12.00 dB\n",
      "Results:\n",
      "BER: 0.00e+00\n",
      "SNR: 23.28 dB\n",
      "SIR =  7.11  dB\n",
      "GMI: 4.00 bits\n",
      "\n"
     ]
    },
    {
     "data": {
      "application/vnd.jupyter.widget-view+json": {
       "model_id": "aafb22e86de0435cb4cd62ff5af61e2a",
       "version_major": 2,
       "version_minor": 0
      },
      "text/plain": [
       "  0%|          | 0/1 [00:00<?, ?it/s]"
      ]
     },
     "metadata": {},
     "output_type": "display_data"
    },
    {
     "name": "stdout",
     "output_type": "stream",
     "text": [
      "CSPR = 12.00 dB\n",
      "Results:\n",
      "BER: 0.00e+00\n",
      "SNR: 24.26 dB\n",
      "SIR =  7.09  dB\n",
      "GMI: 4.00 bits\n",
      "\n"
     ]
    },
    {
     "data": {
      "application/vnd.jupyter.widget-view+json": {
       "model_id": "dfccd0de61bc4610a34339da00c8352f",
       "version_major": 2,
       "version_minor": 0
      },
      "text/plain": [
       "  0%|          | 0/1 [00:00<?, ?it/s]"
      ]
     },
     "metadata": {},
     "output_type": "display_data"
    },
    {
     "name": "stdout",
     "output_type": "stream",
     "text": [
      "CSPR = 12.00 dB\n",
      "Results:\n",
      "BER: 0.00e+00\n",
      "SNR: 25.20 dB\n",
      "SIR =  7.12  dB\n",
      "GMI: 4.00 bits\n",
      "\n"
     ]
    },
    {
     "data": {
      "application/vnd.jupyter.widget-view+json": {
       "model_id": "d6c497b7fcde4082a702e9b8b8850ff9",
       "version_major": 2,
       "version_minor": 0
      },
      "text/plain": [
       "  0%|          | 0/10 [00:00<?, ?it/s]"
      ]
     },
     "metadata": {},
     "output_type": "display_data"
    },
    {
     "data": {
      "application/vnd.jupyter.widget-view+json": {
       "model_id": "6dc57f31b52b464ba81102a1e3b13f2a",
       "version_major": 2,
       "version_minor": 0
      },
      "text/plain": [
       "  0%|          | 0/1 [00:00<?, ?it/s]"
      ]
     },
     "metadata": {},
     "output_type": "display_data"
    },
    {
     "name": "stdout",
     "output_type": "stream",
     "text": [
      "CSPR = 13.00 dB\n",
      "Results:\n",
      "BER: 1.33e-03\n",
      "SNR: 16.36 dB\n",
      "SIR =  7.13  dB\n",
      "GMI: 3.98 bits\n",
      "\n"
     ]
    },
    {
     "data": {
      "application/vnd.jupyter.widget-view+json": {
       "model_id": "a9a8562f64d545849b9eb6814a4815b2",
       "version_major": 2,
       "version_minor": 0
      },
      "text/plain": [
       "  0%|          | 0/1 [00:00<?, ?it/s]"
      ]
     },
     "metadata": {},
     "output_type": "display_data"
    },
    {
     "name": "stdout",
     "output_type": "stream",
     "text": [
      "CSPR = 13.00 dB\n",
      "Results:\n",
      "BER: 4.38e-04\n",
      "SNR: 17.38 dB\n",
      "SIR =  7.1  dB\n",
      "GMI: 3.99 bits\n",
      "\n"
     ]
    },
    {
     "data": {
      "application/vnd.jupyter.widget-view+json": {
       "model_id": "7f3e5a7e5b1e4c6ba949a50ddff501e7",
       "version_major": 2,
       "version_minor": 0
      },
      "text/plain": [
       "  0%|          | 0/1 [00:00<?, ?it/s]"
      ]
     },
     "metadata": {},
     "output_type": "display_data"
    },
    {
     "name": "stdout",
     "output_type": "stream",
     "text": [
      "CSPR = 13.00 dB\n",
      "Results:\n",
      "BER: 8.75e-05\n",
      "SNR: 18.38 dB\n",
      "SIR =  7.11  dB\n",
      "GMI: 4.00 bits\n",
      "\n"
     ]
    },
    {
     "data": {
      "application/vnd.jupyter.widget-view+json": {
       "model_id": "d98301ccdf204875904b1472e0038a8e",
       "version_major": 2,
       "version_minor": 0
      },
      "text/plain": [
       "  0%|          | 0/1 [00:00<?, ?it/s]"
      ]
     },
     "metadata": {},
     "output_type": "display_data"
    },
    {
     "name": "stdout",
     "output_type": "stream",
     "text": [
      "CSPR = 13.00 dB\n",
      "Results:\n",
      "BER: 2.19e-05\n",
      "SNR: 19.36 dB\n",
      "SIR =  7.11  dB\n",
      "GMI: 4.00 bits\n",
      "\n"
     ]
    },
    {
     "data": {
      "application/vnd.jupyter.widget-view+json": {
       "model_id": "0c56222ddd77412fa26ee8830a652666",
       "version_major": 2,
       "version_minor": 0
      },
      "text/plain": [
       "  0%|          | 0/1 [00:00<?, ?it/s]"
      ]
     },
     "metadata": {},
     "output_type": "display_data"
    },
    {
     "name": "stdout",
     "output_type": "stream",
     "text": [
      "CSPR = 13.00 dB\n",
      "Results:\n",
      "BER: 0.00e+00\n",
      "SNR: 20.33 dB\n",
      "SIR =  7.11  dB\n",
      "GMI: 4.00 bits\n",
      "\n"
     ]
    },
    {
     "data": {
      "application/vnd.jupyter.widget-view+json": {
       "model_id": "0f4c7959f4bf498bb8a053051362e0bf",
       "version_major": 2,
       "version_minor": 0
      },
      "text/plain": [
       "  0%|          | 0/1 [00:00<?, ?it/s]"
      ]
     },
     "metadata": {},
     "output_type": "display_data"
    },
    {
     "name": "stdout",
     "output_type": "stream",
     "text": [
      "CSPR = 13.00 dB\n",
      "Results:\n",
      "BER: 3.13e-06\n",
      "SNR: 21.29 dB\n",
      "SIR =  7.12  dB\n",
      "GMI: 4.00 bits\n",
      "\n"
     ]
    },
    {
     "data": {
      "application/vnd.jupyter.widget-view+json": {
       "model_id": "4e71785bd7654ae69da520dc0c6a0f8c",
       "version_major": 2,
       "version_minor": 0
      },
      "text/plain": [
       "  0%|          | 0/1 [00:00<?, ?it/s]"
      ]
     },
     "metadata": {},
     "output_type": "display_data"
    },
    {
     "name": "stdout",
     "output_type": "stream",
     "text": [
      "CSPR = 13.00 dB\n",
      "Results:\n",
      "BER: 0.00e+00\n",
      "SNR: 22.25 dB\n",
      "SIR =  7.11  dB\n",
      "GMI: 4.00 bits\n",
      "\n"
     ]
    },
    {
     "data": {
      "application/vnd.jupyter.widget-view+json": {
       "model_id": "777231aa441f43dca3c346fab9461fd0",
       "version_major": 2,
       "version_minor": 0
      },
      "text/plain": [
       "  0%|          | 0/1 [00:00<?, ?it/s]"
      ]
     },
     "metadata": {},
     "output_type": "display_data"
    },
    {
     "name": "stdout",
     "output_type": "stream",
     "text": [
      "CSPR = 13.00 dB\n",
      "Results:\n",
      "BER: 0.00e+00\n",
      "SNR: 23.26 dB\n",
      "SIR =  7.11  dB\n",
      "GMI: 4.00 bits\n",
      "\n"
     ]
    },
    {
     "data": {
      "application/vnd.jupyter.widget-view+json": {
       "model_id": "809cf9d7d08543acbf65774d979aeb51",
       "version_major": 2,
       "version_minor": 0
      },
      "text/plain": [
       "  0%|          | 0/1 [00:00<?, ?it/s]"
      ]
     },
     "metadata": {},
     "output_type": "display_data"
    },
    {
     "name": "stdout",
     "output_type": "stream",
     "text": [
      "CSPR = 13.00 dB\n",
      "Results:\n",
      "BER: 0.00e+00\n",
      "SNR: 24.26 dB\n",
      "SIR =  7.12  dB\n",
      "GMI: 4.00 bits\n",
      "\n"
     ]
    },
    {
     "data": {
      "application/vnd.jupyter.widget-view+json": {
       "model_id": "982b1295d15f421a894975573b4600ee",
       "version_major": 2,
       "version_minor": 0
      },
      "text/plain": [
       "  0%|          | 0/1 [00:00<?, ?it/s]"
      ]
     },
     "metadata": {},
     "output_type": "display_data"
    },
    {
     "name": "stdout",
     "output_type": "stream",
     "text": [
      "CSPR = 13.00 dB\n",
      "Results:\n",
      "BER: 0.00e+00\n",
      "SNR: 25.19 dB\n",
      "SIR =  7.14  dB\n",
      "GMI: 4.00 bits\n",
      "\n"
     ]
    },
    {
     "data": {
      "application/vnd.jupyter.widget-view+json": {
       "model_id": "85fe0e23934b4394adaccd21bb4388c2",
       "version_major": 2,
       "version_minor": 0
      },
      "text/plain": [
       "  0%|          | 0/10 [00:00<?, ?it/s]"
      ]
     },
     "metadata": {},
     "output_type": "display_data"
    },
    {
     "data": {
      "application/vnd.jupyter.widget-view+json": {
       "model_id": "5257f8fdfd264a47af44bb56dcc2130f",
       "version_major": 2,
       "version_minor": 0
      },
      "text/plain": [
       "  0%|          | 0/1 [00:00<?, ?it/s]"
      ]
     },
     "metadata": {},
     "output_type": "display_data"
    },
    {
     "name": "stdout",
     "output_type": "stream",
     "text": [
      "CSPR = 14.00 dB\n",
      "Results:\n",
      "BER: 1.30e-03\n",
      "SNR: 16.38 dB\n",
      "SIR =  7.11  dB\n",
      "GMI: 3.98 bits\n",
      "\n"
     ]
    },
    {
     "data": {
      "application/vnd.jupyter.widget-view+json": {
       "model_id": "cd7bee9923e34b4385eaaba0f3ffbc7b",
       "version_major": 2,
       "version_minor": 0
      },
      "text/plain": [
       "  0%|          | 0/1 [00:00<?, ?it/s]"
      ]
     },
     "metadata": {},
     "output_type": "display_data"
    },
    {
     "name": "stdout",
     "output_type": "stream",
     "text": [
      "CSPR = 14.00 dB\n",
      "Results:\n",
      "BER: 4.16e-04\n",
      "SNR: 17.35 dB\n",
      "SIR =  7.11  dB\n",
      "GMI: 3.99 bits\n",
      "\n"
     ]
    },
    {
     "data": {
      "application/vnd.jupyter.widget-view+json": {
       "model_id": "51a56510b0aa4b12a8971397f22b8296",
       "version_major": 2,
       "version_minor": 0
      },
      "text/plain": [
       "  0%|          | 0/1 [00:00<?, ?it/s]"
      ]
     },
     "metadata": {},
     "output_type": "display_data"
    },
    {
     "name": "stdout",
     "output_type": "stream",
     "text": [
      "CSPR = 14.00 dB\n",
      "Results:\n",
      "BER: 9.69e-05\n",
      "SNR: 18.37 dB\n",
      "SIR =  7.11  dB\n",
      "GMI: 4.00 bits\n",
      "\n"
     ]
    },
    {
     "data": {
      "application/vnd.jupyter.widget-view+json": {
       "model_id": "7a97255d350548829068a1de7a14b59c",
       "version_major": 2,
       "version_minor": 0
      },
      "text/plain": [
       "  0%|          | 0/1 [00:00<?, ?it/s]"
      ]
     },
     "metadata": {},
     "output_type": "display_data"
    },
    {
     "name": "stdout",
     "output_type": "stream",
     "text": [
      "CSPR = 14.00 dB\n",
      "Results:\n",
      "BER: 2.19e-05\n",
      "SNR: 19.32 dB\n",
      "SIR =  7.05  dB\n",
      "GMI: 4.00 bits\n",
      "\n"
     ]
    },
    {
     "data": {
      "application/vnd.jupyter.widget-view+json": {
       "model_id": "b933ec3d6c5243f7b4604ca33add1554",
       "version_major": 2,
       "version_minor": 0
      },
      "text/plain": [
       "  0%|          | 0/1 [00:00<?, ?it/s]"
      ]
     },
     "metadata": {},
     "output_type": "display_data"
    },
    {
     "name": "stdout",
     "output_type": "stream",
     "text": [
      "CSPR = 14.00 dB\n",
      "Results:\n",
      "BER: 3.13e-06\n",
      "SNR: 20.33 dB\n",
      "SIR =  7.11  dB\n",
      "GMI: 4.00 bits\n",
      "\n"
     ]
    },
    {
     "data": {
      "application/vnd.jupyter.widget-view+json": {
       "model_id": "e7cf04534db74929822f41d2a2ed6436",
       "version_major": 2,
       "version_minor": 0
      },
      "text/plain": [
       "  0%|          | 0/1 [00:00<?, ?it/s]"
      ]
     },
     "metadata": {},
     "output_type": "display_data"
    },
    {
     "name": "stdout",
     "output_type": "stream",
     "text": [
      "CSPR = 14.00 dB\n",
      "Results:\n",
      "BER: 0.00e+00\n",
      "SNR: 21.34 dB\n",
      "SIR =  7.12  dB\n",
      "GMI: 4.00 bits\n",
      "\n"
     ]
    },
    {
     "data": {
      "application/vnd.jupyter.widget-view+json": {
       "model_id": "99f1198cceb44c3e90d5f8aa131db47a",
       "version_major": 2,
       "version_minor": 0
      },
      "text/plain": [
       "  0%|          | 0/1 [00:00<?, ?it/s]"
      ]
     },
     "metadata": {},
     "output_type": "display_data"
    },
    {
     "name": "stdout",
     "output_type": "stream",
     "text": [
      "CSPR = 14.00 dB\n",
      "Results:\n",
      "BER: 0.00e+00\n",
      "SNR: 22.28 dB\n",
      "SIR =  7.12  dB\n",
      "GMI: 4.00 bits\n",
      "\n"
     ]
    },
    {
     "data": {
      "application/vnd.jupyter.widget-view+json": {
       "model_id": "c0da269dd58e4e129c9fd127e18a8027",
       "version_major": 2,
       "version_minor": 0
      },
      "text/plain": [
       "  0%|          | 0/1 [00:00<?, ?it/s]"
      ]
     },
     "metadata": {},
     "output_type": "display_data"
    },
    {
     "name": "stdout",
     "output_type": "stream",
     "text": [
      "CSPR = 14.00 dB\n",
      "Results:\n",
      "BER: 0.00e+00\n",
      "SNR: 23.26 dB\n",
      "SIR =  7.1  dB\n",
      "GMI: 4.00 bits\n",
      "\n"
     ]
    },
    {
     "data": {
      "application/vnd.jupyter.widget-view+json": {
       "model_id": "89b0584364fe4deab5d5f680a81fcf84",
       "version_major": 2,
       "version_minor": 0
      },
      "text/plain": [
       "  0%|          | 0/1 [00:00<?, ?it/s]"
      ]
     },
     "metadata": {},
     "output_type": "display_data"
    },
    {
     "name": "stdout",
     "output_type": "stream",
     "text": [
      "CSPR = 14.00 dB\n",
      "Results:\n",
      "BER: 0.00e+00\n",
      "SNR: 24.26 dB\n",
      "SIR =  7.1  dB\n",
      "GMI: 4.00 bits\n",
      "\n"
     ]
    },
    {
     "data": {
      "application/vnd.jupyter.widget-view+json": {
       "model_id": "a839e200795c4994b455bccbf4d1f05b",
       "version_major": 2,
       "version_minor": 0
      },
      "text/plain": [
       "  0%|          | 0/1 [00:00<?, ?it/s]"
      ]
     },
     "metadata": {},
     "output_type": "display_data"
    },
    {
     "name": "stdout",
     "output_type": "stream",
     "text": [
      "CSPR = 14.00 dB\n",
      "Results:\n",
      "BER: 0.00e+00\n",
      "SNR: 25.16 dB\n",
      "SIR =  7.08  dB\n",
      "GMI: 4.00 bits\n",
      "\n"
     ]
    },
    {
     "data": {
      "application/vnd.jupyter.widget-view+json": {
       "model_id": "44b25dec342f4038bde2b37f2c430675",
       "version_major": 2,
       "version_minor": 0
      },
      "text/plain": [
       "  0%|          | 0/10 [00:00<?, ?it/s]"
      ]
     },
     "metadata": {},
     "output_type": "display_data"
    },
    {
     "data": {
      "application/vnd.jupyter.widget-view+json": {
       "model_id": "a711c2c388984cb5b6c89b1b0d17087b",
       "version_major": 2,
       "version_minor": 0
      },
      "text/plain": [
       "  0%|          | 0/1 [00:00<?, ?it/s]"
      ]
     },
     "metadata": {},
     "output_type": "display_data"
    },
    {
     "name": "stdout",
     "output_type": "stream",
     "text": [
      "CSPR = 15.00 dB\n",
      "Results:\n",
      "BER: 1.29e-03\n",
      "SNR: 16.36 dB\n",
      "SIR =  7.12  dB\n",
      "GMI: 3.98 bits\n",
      "\n"
     ]
    },
    {
     "data": {
      "application/vnd.jupyter.widget-view+json": {
       "model_id": "1cd365beeb1c4bee99a26a68c7f92663",
       "version_major": 2,
       "version_minor": 0
      },
      "text/plain": [
       "  0%|          | 0/1 [00:00<?, ?it/s]"
      ]
     },
     "metadata": {},
     "output_type": "display_data"
    },
    {
     "name": "stdout",
     "output_type": "stream",
     "text": [
      "CSPR = 15.00 dB\n",
      "Results:\n",
      "BER: 3.97e-04\n",
      "SNR: 17.38 dB\n",
      "SIR =  7.12  dB\n",
      "GMI: 3.99 bits\n",
      "\n"
     ]
    },
    {
     "data": {
      "application/vnd.jupyter.widget-view+json": {
       "model_id": "a54227f222d04ba3a6e76d267c6eb93c",
       "version_major": 2,
       "version_minor": 0
      },
      "text/plain": [
       "  0%|          | 0/1 [00:00<?, ?it/s]"
      ]
     },
     "metadata": {},
     "output_type": "display_data"
    },
    {
     "name": "stdout",
     "output_type": "stream",
     "text": [
      "CSPR = 15.00 dB\n",
      "Results:\n",
      "BER: 5.62e-05\n",
      "SNR: 18.37 dB\n",
      "SIR =  7.12  dB\n",
      "GMI: 4.00 bits\n",
      "\n"
     ]
    },
    {
     "data": {
      "application/vnd.jupyter.widget-view+json": {
       "model_id": "5ce58d1d033b402999f7bbf92a6ec459",
       "version_major": 2,
       "version_minor": 0
      },
      "text/plain": [
       "  0%|          | 0/1 [00:00<?, ?it/s]"
      ]
     },
     "metadata": {},
     "output_type": "display_data"
    },
    {
     "name": "stdout",
     "output_type": "stream",
     "text": [
      "CSPR = 15.00 dB\n",
      "Results:\n",
      "BER: 6.25e-06\n",
      "SNR: 19.34 dB\n",
      "SIR =  7.12  dB\n",
      "GMI: 4.00 bits\n",
      "\n"
     ]
    },
    {
     "data": {
      "application/vnd.jupyter.widget-view+json": {
       "model_id": "cf3958c48a9f44a4bf647abc7332b872",
       "version_major": 2,
       "version_minor": 0
      },
      "text/plain": [
       "  0%|          | 0/1 [00:00<?, ?it/s]"
      ]
     },
     "metadata": {},
     "output_type": "display_data"
    },
    {
     "name": "stdout",
     "output_type": "stream",
     "text": [
      "CSPR = 15.00 dB\n",
      "Results:\n",
      "BER: 0.00e+00\n",
      "SNR: 20.34 dB\n",
      "SIR =  7.12  dB\n",
      "GMI: 4.00 bits\n",
      "\n"
     ]
    },
    {
     "data": {
      "application/vnd.jupyter.widget-view+json": {
       "model_id": "b777602247e84523a9611dca0723ad84",
       "version_major": 2,
       "version_minor": 0
      },
      "text/plain": [
       "  0%|          | 0/1 [00:00<?, ?it/s]"
      ]
     },
     "metadata": {},
     "output_type": "display_data"
    },
    {
     "name": "stdout",
     "output_type": "stream",
     "text": [
      "CSPR = 15.00 dB\n",
      "Results:\n",
      "BER: 0.00e+00\n",
      "SNR: 21.34 dB\n",
      "SIR =  7.12  dB\n",
      "GMI: 4.00 bits\n",
      "\n"
     ]
    },
    {
     "data": {
      "application/vnd.jupyter.widget-view+json": {
       "model_id": "b4b82d087bab4738a8e42a61a2cfb676",
       "version_major": 2,
       "version_minor": 0
      },
      "text/plain": [
       "  0%|          | 0/1 [00:00<?, ?it/s]"
      ]
     },
     "metadata": {},
     "output_type": "display_data"
    },
    {
     "name": "stdout",
     "output_type": "stream",
     "text": [
      "CSPR = 15.00 dB\n",
      "Results:\n",
      "BER: 0.00e+00\n",
      "SNR: 22.28 dB\n",
      "SIR =  7.12  dB\n",
      "GMI: 4.00 bits\n",
      "\n"
     ]
    },
    {
     "data": {
      "application/vnd.jupyter.widget-view+json": {
       "model_id": "4b8c712057584d64815140f2711a7301",
       "version_major": 2,
       "version_minor": 0
      },
      "text/plain": [
       "  0%|          | 0/1 [00:00<?, ?it/s]"
      ]
     },
     "metadata": {},
     "output_type": "display_data"
    },
    {
     "name": "stdout",
     "output_type": "stream",
     "text": [
      "CSPR = 15.00 dB\n",
      "Results:\n",
      "BER: 0.00e+00\n",
      "SNR: 23.26 dB\n",
      "SIR =  7.09  dB\n",
      "GMI: 4.00 bits\n",
      "\n"
     ]
    },
    {
     "data": {
      "application/vnd.jupyter.widget-view+json": {
       "model_id": "784d6cf8967742f689f0ea73135a2b3c",
       "version_major": 2,
       "version_minor": 0
      },
      "text/plain": [
       "  0%|          | 0/1 [00:00<?, ?it/s]"
      ]
     },
     "metadata": {},
     "output_type": "display_data"
    },
    {
     "name": "stdout",
     "output_type": "stream",
     "text": [
      "CSPR = 15.00 dB\n",
      "Results:\n",
      "BER: 0.00e+00\n",
      "SNR: 24.25 dB\n",
      "SIR =  7.09  dB\n",
      "GMI: 4.00 bits\n",
      "\n"
     ]
    },
    {
     "data": {
      "application/vnd.jupyter.widget-view+json": {
       "model_id": "528c24f3d8694a139142a796b86af89c",
       "version_major": 2,
       "version_minor": 0
      },
      "text/plain": [
       "  0%|          | 0/1 [00:00<?, ?it/s]"
      ]
     },
     "metadata": {},
     "output_type": "display_data"
    },
    {
     "name": "stdout",
     "output_type": "stream",
     "text": [
      "CSPR = 15.00 dB\n",
      "Results:\n",
      "BER: 0.00e+00\n",
      "SNR: 25.20 dB\n",
      "SIR =  7.12  dB\n",
      "GMI: 4.00 bits\n",
      "\n"
     ]
    },
    {
     "data": {
      "application/vnd.jupyter.widget-view+json": {
       "model_id": "8cbb22a54bad400691611758c466719c",
       "version_major": 2,
       "version_minor": 0
      },
      "text/plain": [
       "  0%|          | 0/10 [00:00<?, ?it/s]"
      ]
     },
     "metadata": {},
     "output_type": "display_data"
    },
    {
     "data": {
      "application/vnd.jupyter.widget-view+json": {
       "model_id": "24b1464210854386a5347b89505eaf34",
       "version_major": 2,
       "version_minor": 0
      },
      "text/plain": [
       "  0%|          | 0/10 [00:00<?, ?it/s]"
      ]
     },
     "metadata": {},
     "output_type": "display_data"
    },
    {
     "data": {
      "application/vnd.jupyter.widget-view+json": {
       "model_id": "0ba6a715c34a49a1be98808412bcd418",
       "version_major": 2,
       "version_minor": 0
      },
      "text/plain": [
       "  0%|          | 0/1 [00:00<?, ?it/s]"
      ]
     },
     "metadata": {},
     "output_type": "display_data"
    },
    {
     "name": "stdout",
     "output_type": "stream",
     "text": [
      "CSPR = 6.00 dB\n",
      "Results:\n",
      "BER: 3.48e-02\n",
      "SNR: 11.63 dB\n",
      "SIR =  13.4  dB\n",
      "GMI: 3.46 bits\n",
      "\n"
     ]
    },
    {
     "data": {
      "application/vnd.jupyter.widget-view+json": {
       "model_id": "761be718065f4641998a57de911983ad",
       "version_major": 2,
       "version_minor": 0
      },
      "text/plain": [
       "  0%|          | 0/1 [00:00<?, ?it/s]"
      ]
     },
     "metadata": {},
     "output_type": "display_data"
    },
    {
     "name": "stdout",
     "output_type": "stream",
     "text": [
      "CSPR = 6.00 dB\n",
      "Results:\n",
      "BER: 2.39e-02\n",
      "SNR: 12.49 dB\n",
      "SIR =  14.09  dB\n",
      "GMI: 3.61 bits\n",
      "\n"
     ]
    },
    {
     "data": {
      "application/vnd.jupyter.widget-view+json": {
       "model_id": "a84d873459064b119489dd9facdc8bc1",
       "version_major": 2,
       "version_minor": 0
      },
      "text/plain": [
       "  0%|          | 0/1 [00:00<?, ?it/s]"
      ]
     },
     "metadata": {},
     "output_type": "display_data"
    },
    {
     "name": "stdout",
     "output_type": "stream",
     "text": [
      "CSPR = 6.00 dB\n",
      "Results:\n",
      "BER: 1.68e-02\n",
      "SNR: 13.23 dB\n",
      "SIR =  14.58  dB\n",
      "GMI: 3.71 bits\n",
      "\n"
     ]
    },
    {
     "data": {
      "application/vnd.jupyter.widget-view+json": {
       "model_id": "f39c2ec6108649928fc78c3316feca33",
       "version_major": 2,
       "version_minor": 0
      },
      "text/plain": [
       "  0%|          | 0/1 [00:00<?, ?it/s]"
      ]
     },
     "metadata": {},
     "output_type": "display_data"
    },
    {
     "name": "stdout",
     "output_type": "stream",
     "text": [
      "CSPR = 6.00 dB\n",
      "Results:\n",
      "BER: 1.09e-02\n",
      "SNR: 14.03 dB\n",
      "SIR =  15.22  dB\n",
      "GMI: 3.80 bits\n",
      "\n"
     ]
    },
    {
     "data": {
      "application/vnd.jupyter.widget-view+json": {
       "model_id": "2d8c7ff29de84072a8fdd6f2147abdf5",
       "version_major": 2,
       "version_minor": 0
      },
      "text/plain": [
       "  0%|          | 0/1 [00:00<?, ?it/s]"
      ]
     },
     "metadata": {},
     "output_type": "display_data"
    },
    {
     "name": "stdout",
     "output_type": "stream",
     "text": [
      "CSPR = 6.00 dB\n",
      "Results:\n",
      "BER: 7.17e-03\n",
      "SNR: 14.77 dB\n",
      "SIR =  15.74  dB\n",
      "GMI: 3.85 bits\n",
      "\n"
     ]
    },
    {
     "data": {
      "application/vnd.jupyter.widget-view+json": {
       "model_id": "0005f93e611140dc901a10dfea302f41",
       "version_major": 2,
       "version_minor": 0
      },
      "text/plain": [
       "  0%|          | 0/1 [00:00<?, ?it/s]"
      ]
     },
     "metadata": {},
     "output_type": "display_data"
    },
    {
     "name": "stdout",
     "output_type": "stream",
     "text": [
      "CSPR = 6.00 dB\n",
      "Results:\n",
      "BER: 5.20e-03\n",
      "SNR: 15.42 dB\n",
      "SIR =  16.29  dB\n",
      "GMI: 3.88 bits\n",
      "\n"
     ]
    },
    {
     "data": {
      "application/vnd.jupyter.widget-view+json": {
       "model_id": "e7c940e7244f451f93d791a5bb1e4b67",
       "version_major": 2,
       "version_minor": 0
      },
      "text/plain": [
       "  0%|          | 0/1 [00:00<?, ?it/s]"
      ]
     },
     "metadata": {},
     "output_type": "display_data"
    },
    {
     "name": "stdout",
     "output_type": "stream",
     "text": [
      "CSPR = 6.00 dB\n",
      "Results:\n",
      "BER: 4.45e-03\n",
      "SNR: 15.92 dB\n",
      "SIR =  16.51  dB\n",
      "GMI: 3.88 bits\n",
      "\n"
     ]
    },
    {
     "data": {
      "application/vnd.jupyter.widget-view+json": {
       "model_id": "81e67958989640d4868981fc6af03593",
       "version_major": 2,
       "version_minor": 0
      },
      "text/plain": [
       "  0%|          | 0/1 [00:00<?, ?it/s]"
      ]
     },
     "metadata": {},
     "output_type": "display_data"
    },
    {
     "name": "stdout",
     "output_type": "stream",
     "text": [
      "CSPR = 6.00 dB\n",
      "Results:\n",
      "BER: 3.84e-03\n",
      "SNR: 16.46 dB\n",
      "SIR =  16.9  dB\n",
      "GMI: 3.87 bits\n",
      "\n"
     ]
    },
    {
     "data": {
      "application/vnd.jupyter.widget-view+json": {
       "model_id": "adfc14feb4114e2a975e5bcfbaf192ab",
       "version_major": 2,
       "version_minor": 0
      },
      "text/plain": [
       "  0%|          | 0/1 [00:00<?, ?it/s]"
      ]
     },
     "metadata": {},
     "output_type": "display_data"
    },
    {
     "name": "stdout",
     "output_type": "stream",
     "text": [
      "CSPR = 6.00 dB\n",
      "Results:\n",
      "BER: 3.23e-03\n",
      "SNR: 16.95 dB\n",
      "SIR =  17.21  dB\n",
      "GMI: 3.89 bits\n",
      "\n"
     ]
    },
    {
     "data": {
      "application/vnd.jupyter.widget-view+json": {
       "model_id": "5caf2204bae843b6bf57bb5d85f41fdb",
       "version_major": 2,
       "version_minor": 0
      },
      "text/plain": [
       "  0%|          | 0/1 [00:00<?, ?it/s]"
      ]
     },
     "metadata": {},
     "output_type": "display_data"
    },
    {
     "name": "stdout",
     "output_type": "stream",
     "text": [
      "CSPR = 6.00 dB\n",
      "Results:\n",
      "BER: 3.35e-03\n",
      "SNR: 17.27 dB\n",
      "SIR =  17.48  dB\n",
      "GMI: 3.86 bits\n",
      "\n"
     ]
    },
    {
     "data": {
      "application/vnd.jupyter.widget-view+json": {
       "model_id": "1106587079a24924ac4c5240e42f856c",
       "version_major": 2,
       "version_minor": 0
      },
      "text/plain": [
       "  0%|          | 0/10 [00:00<?, ?it/s]"
      ]
     },
     "metadata": {},
     "output_type": "display_data"
    },
    {
     "data": {
      "application/vnd.jupyter.widget-view+json": {
       "model_id": "ece88592db7f41c5a03897f5237160ad",
       "version_major": 2,
       "version_minor": 0
      },
      "text/plain": [
       "  0%|          | 0/1 [00:00<?, ?it/s]"
      ]
     },
     "metadata": {},
     "output_type": "display_data"
    },
    {
     "name": "stdout",
     "output_type": "stream",
     "text": [
      "CSPR = 7.00 dB\n",
      "Results:\n",
      "BER: 2.80e-02\n",
      "SNR: 12.13 dB\n",
      "SIR =  14.14  dB\n",
      "GMI: 3.57 bits\n",
      "\n"
     ]
    },
    {
     "data": {
      "application/vnd.jupyter.widget-view+json": {
       "model_id": "5d7defa4b54d4ab8a4f959b3a0d47997",
       "version_major": 2,
       "version_minor": 0
      },
      "text/plain": [
       "  0%|          | 0/1 [00:00<?, ?it/s]"
      ]
     },
     "metadata": {},
     "output_type": "display_data"
    },
    {
     "name": "stdout",
     "output_type": "stream",
     "text": [
      "CSPR = 7.00 dB\n",
      "Results:\n",
      "BER: 1.88e-02\n",
      "SNR: 12.98 dB\n",
      "SIR =  14.81  dB\n",
      "GMI: 3.70 bits\n",
      "\n"
     ]
    },
    {
     "data": {
      "application/vnd.jupyter.widget-view+json": {
       "model_id": "f4a112d7552c42fd8e0727b213b85090",
       "version_major": 2,
       "version_minor": 0
      },
      "text/plain": [
       "  0%|          | 0/1 [00:00<?, ?it/s]"
      ]
     },
     "metadata": {},
     "output_type": "display_data"
    },
    {
     "name": "stdout",
     "output_type": "stream",
     "text": [
      "CSPR = 7.00 dB\n",
      "Results:\n",
      "BER: 1.16e-02\n",
      "SNR: 13.83 dB\n",
      "SIR =  15.49  dB\n",
      "GMI: 3.81 bits\n",
      "\n"
     ]
    },
    {
     "data": {
      "application/vnd.jupyter.widget-view+json": {
       "model_id": "5bf5c6c07e0546c0aab0775535fe3160",
       "version_major": 2,
       "version_minor": 0
      },
      "text/plain": [
       "  0%|          | 0/1 [00:00<?, ?it/s]"
      ]
     },
     "metadata": {},
     "output_type": "display_data"
    },
    {
     "name": "stdout",
     "output_type": "stream",
     "text": [
      "CSPR = 7.00 dB\n",
      "Results:\n",
      "BER: 7.17e-03\n",
      "SNR: 14.60 dB\n",
      "SIR =  16.07  dB\n",
      "GMI: 3.87 bits\n",
      "\n"
     ]
    },
    {
     "data": {
      "application/vnd.jupyter.widget-view+json": {
       "model_id": "5ebe5a7e047f41329ab51f4818c366a5",
       "version_major": 2,
       "version_minor": 0
      },
      "text/plain": [
       "  0%|          | 0/1 [00:00<?, ?it/s]"
      ]
     },
     "metadata": {},
     "output_type": "display_data"
    },
    {
     "name": "stdout",
     "output_type": "stream",
     "text": [
      "CSPR = 7.00 dB\n",
      "Results:\n",
      "BER: 4.24e-03\n",
      "SNR: 15.42 dB\n",
      "SIR =  16.68  dB\n",
      "GMI: 3.91 bits\n",
      "\n"
     ]
    },
    {
     "data": {
      "application/vnd.jupyter.widget-view+json": {
       "model_id": "5b9e466b548c4b9f9c1e8f0677f5fdf7",
       "version_major": 2,
       "version_minor": 0
      },
      "text/plain": [
       "  0%|          | 0/1 [00:00<?, ?it/s]"
      ]
     },
     "metadata": {},
     "output_type": "display_data"
    },
    {
     "name": "stdout",
     "output_type": "stream",
     "text": [
      "CSPR = 7.00 dB\n",
      "Results:\n",
      "BER: 2.56e-03\n",
      "SNR: 16.18 dB\n",
      "SIR =  17.26  dB\n",
      "GMI: 3.94 bits\n",
      "\n"
     ]
    },
    {
     "data": {
      "application/vnd.jupyter.widget-view+json": {
       "model_id": "87726cdfc906408a96600b85615e8db3",
       "version_major": 2,
       "version_minor": 0
      },
      "text/plain": [
       "  0%|          | 0/1 [00:00<?, ?it/s]"
      ]
     },
     "metadata": {},
     "output_type": "display_data"
    },
    {
     "name": "stdout",
     "output_type": "stream",
     "text": [
      "CSPR = 7.00 dB\n",
      "Results:\n",
      "BER: 1.60e-03\n",
      "SNR: 16.89 dB\n",
      "SIR =  17.69  dB\n",
      "GMI: 3.96 bits\n",
      "\n"
     ]
    },
    {
     "data": {
      "application/vnd.jupyter.widget-view+json": {
       "model_id": "973b87b92a824f8c9bb6ddb347d623da",
       "version_major": 2,
       "version_minor": 0
      },
      "text/plain": [
       "  0%|          | 0/1 [00:00<?, ?it/s]"
      ]
     },
     "metadata": {},
     "output_type": "display_data"
    },
    {
     "name": "stdout",
     "output_type": "stream",
     "text": [
      "CSPR = 7.00 dB\n",
      "Results:\n",
      "BER: 1.32e-03\n",
      "SNR: 17.43 dB\n",
      "SIR =  18.02  dB\n",
      "GMI: 3.95 bits\n",
      "\n"
     ]
    },
    {
     "data": {
      "application/vnd.jupyter.widget-view+json": {
       "model_id": "a2a611d6592c47958bbbd58772fd61b2",
       "version_major": 2,
       "version_minor": 0
      },
      "text/plain": [
       "  0%|          | 0/1 [00:00<?, ?it/s]"
      ]
     },
     "metadata": {},
     "output_type": "display_data"
    },
    {
     "name": "stdout",
     "output_type": "stream",
     "text": [
      "CSPR = 7.00 dB\n",
      "Results:\n",
      "BER: 1.05e-03\n",
      "SNR: 18.10 dB\n",
      "SIR =  18.6  dB\n",
      "GMI: 3.96 bits\n",
      "\n"
     ]
    },
    {
     "data": {
      "application/vnd.jupyter.widget-view+json": {
       "model_id": "56bd02ce718340bf948e5f03b2bc59b3",
       "version_major": 2,
       "version_minor": 0
      },
      "text/plain": [
       "  0%|          | 0/1 [00:00<?, ?it/s]"
      ]
     },
     "metadata": {},
     "output_type": "display_data"
    },
    {
     "name": "stdout",
     "output_type": "stream",
     "text": [
      "CSPR = 7.00 dB\n",
      "Results:\n",
      "BER: 8.19e-04\n",
      "SNR: 18.55 dB\n",
      "SIR =  18.8  dB\n",
      "GMI: 3.96 bits\n",
      "\n"
     ]
    },
    {
     "data": {
      "application/vnd.jupyter.widget-view+json": {
       "model_id": "b2eab182c4db470285999b03ca786201",
       "version_major": 2,
       "version_minor": 0
      },
      "text/plain": [
       "  0%|          | 0/10 [00:00<?, ?it/s]"
      ]
     },
     "metadata": {},
     "output_type": "display_data"
    },
    {
     "data": {
      "application/vnd.jupyter.widget-view+json": {
       "model_id": "f4311c42ea6942249002899783852b7a",
       "version_major": 2,
       "version_minor": 0
      },
      "text/plain": [
       "  0%|          | 0/1 [00:00<?, ?it/s]"
      ]
     },
     "metadata": {},
     "output_type": "display_data"
    },
    {
     "name": "stdout",
     "output_type": "stream",
     "text": [
      "CSPR = 8.00 dB\n",
      "Results:\n",
      "BER: 2.50e-02\n",
      "SNR: 12.35 dB\n",
      "SIR =  14.56  dB\n",
      "GMI: 3.62 bits\n",
      "\n"
     ]
    },
    {
     "data": {
      "application/vnd.jupyter.widget-view+json": {
       "model_id": "2c8f592f9352461db03930d6d115fdd9",
       "version_major": 2,
       "version_minor": 0
      },
      "text/plain": [
       "  0%|          | 0/1 [00:00<?, ?it/s]"
      ]
     },
     "metadata": {},
     "output_type": "display_data"
    },
    {
     "name": "stdout",
     "output_type": "stream",
     "text": [
      "CSPR = 8.00 dB\n",
      "Results:\n",
      "BER: 1.50e-02\n",
      "SNR: 13.34 dB\n",
      "SIR =  15.38  dB\n",
      "GMI: 3.76 bits\n",
      "\n"
     ]
    },
    {
     "data": {
      "application/vnd.jupyter.widget-view+json": {
       "model_id": "bfaa3862e91040139e1e689d49deb07e",
       "version_major": 2,
       "version_minor": 0
      },
      "text/plain": [
       "  0%|          | 0/1 [00:00<?, ?it/s]"
      ]
     },
     "metadata": {},
     "output_type": "display_data"
    },
    {
     "name": "stdout",
     "output_type": "stream",
     "text": [
      "CSPR = 8.00 dB\n",
      "Results:\n",
      "BER: 5.00e-01\n",
      "SNR: nan dB\n",
      "SIR =  nan  dB\n",
      "GMI: nan bits\n",
      "\n"
     ]
    },
    {
     "data": {
      "application/vnd.jupyter.widget-view+json": {
       "model_id": "0509ae9e9ab240b9bdcb8a4b0e91569e",
       "version_major": 2,
       "version_minor": 0
      },
      "text/plain": [
       "  0%|          | 0/1 [00:00<?, ?it/s]"
      ]
     },
     "metadata": {},
     "output_type": "display_data"
    },
    {
     "name": "stdout",
     "output_type": "stream",
     "text": [
      "CSPR = 8.00 dB\n",
      "Results:\n",
      "BER: 5.18e-03\n",
      "SNR: 15.01 dB\n",
      "SIR =  16.74  dB\n",
      "GMI: 3.91 bits\n",
      "\n"
     ]
    },
    {
     "data": {
      "application/vnd.jupyter.widget-view+json": {
       "model_id": "f686aa43d0474ef1ad09ff9441737ac0",
       "version_major": 2,
       "version_minor": 0
      },
      "text/plain": [
       "  0%|          | 0/1 [00:00<?, ?it/s]"
      ]
     },
     "metadata": {},
     "output_type": "display_data"
    },
    {
     "name": "stdout",
     "output_type": "stream",
     "text": [
      "CSPR = 8.00 dB\n",
      "Results:\n",
      "BER: 2.59e-03\n",
      "SNR: 15.78 dB\n",
      "SIR =  17.3  dB\n",
      "GMI: 3.95 bits\n",
      "\n"
     ]
    },
    {
     "data": {
      "application/vnd.jupyter.widget-view+json": {
       "model_id": "b4cbd9df6b6c409ebc550d30665d5dc9",
       "version_major": 2,
       "version_minor": 0
      },
      "text/plain": [
       "  0%|          | 0/1 [00:00<?, ?it/s]"
      ]
     },
     "metadata": {},
     "output_type": "display_data"
    },
    {
     "name": "stdout",
     "output_type": "stream",
     "text": [
      "CSPR = 8.00 dB\n",
      "Results:\n",
      "BER: 1.24e-03\n",
      "SNR: 16.68 dB\n",
      "SIR =  18.0  dB\n",
      "GMI: 3.97 bits\n",
      "\n"
     ]
    },
    {
     "data": {
      "application/vnd.jupyter.widget-view+json": {
       "model_id": "d50b72a265d74cd3b3337db14df73e09",
       "version_major": 2,
       "version_minor": 0
      },
      "text/plain": [
       "  0%|          | 0/1 [00:00<?, ?it/s]"
      ]
     },
     "metadata": {},
     "output_type": "display_data"
    },
    {
     "name": "stdout",
     "output_type": "stream",
     "text": [
      "CSPR = 8.00 dB\n",
      "Results:\n",
      "BER: 7.00e-04\n",
      "SNR: 17.33 dB\n",
      "SIR =  18.43  dB\n",
      "GMI: 3.99 bits\n",
      "\n"
     ]
    },
    {
     "data": {
      "application/vnd.jupyter.widget-view+json": {
       "model_id": "25a52c9c9dca4f0790949000fd555e90",
       "version_major": 2,
       "version_minor": 0
      },
      "text/plain": [
       "  0%|          | 0/1 [00:00<?, ?it/s]"
      ]
     },
     "metadata": {},
     "output_type": "display_data"
    },
    {
     "name": "stdout",
     "output_type": "stream",
     "text": [
      "CSPR = 8.00 dB\n",
      "Results:\n",
      "BER: 4.16e-04\n",
      "SNR: 18.02 dB\n",
      "SIR =  18.81  dB\n",
      "GMI: 3.99 bits\n",
      "\n"
     ]
    },
    {
     "data": {
      "application/vnd.jupyter.widget-view+json": {
       "model_id": "f7df2dbbcfb24078b84f14d7aaa22271",
       "version_major": 2,
       "version_minor": 0
      },
      "text/plain": [
       "  0%|          | 0/1 [00:00<?, ?it/s]"
      ]
     },
     "metadata": {},
     "output_type": "display_data"
    },
    {
     "name": "stdout",
     "output_type": "stream",
     "text": [
      "CSPR = 8.00 dB\n",
      "Results:\n",
      "BER: 2.47e-04\n",
      "SNR: 18.68 dB\n",
      "SIR =  19.25  dB\n",
      "GMI: 3.99 bits\n",
      "\n"
     ]
    },
    {
     "data": {
      "application/vnd.jupyter.widget-view+json": {
       "model_id": "b85e14130df84eaa837303b368f17810",
       "version_major": 2,
       "version_minor": 0
      },
      "text/plain": [
       "  0%|          | 0/1 [00:00<?, ?it/s]"
      ]
     },
     "metadata": {},
     "output_type": "display_data"
    },
    {
     "name": "stdout",
     "output_type": "stream",
     "text": [
      "CSPR = 8.00 dB\n",
      "Results:\n",
      "BER: 3.25e-04\n",
      "SNR: 19.23 dB\n",
      "SIR =  19.64  dB\n",
      "GMI: 3.99 bits\n",
      "\n"
     ]
    },
    {
     "data": {
      "application/vnd.jupyter.widget-view+json": {
       "model_id": "6d493179de624366810ea3542db2e0ec",
       "version_major": 2,
       "version_minor": 0
      },
      "text/plain": [
       "  0%|          | 0/10 [00:00<?, ?it/s]"
      ]
     },
     "metadata": {},
     "output_type": "display_data"
    },
    {
     "data": {
      "application/vnd.jupyter.widget-view+json": {
       "model_id": "71c00a6118bf40b09883819b7ea6cba5",
       "version_major": 2,
       "version_minor": 0
      },
      "text/plain": [
       "  0%|          | 0/1 [00:00<?, ?it/s]"
      ]
     },
     "metadata": {},
     "output_type": "display_data"
    },
    {
     "name": "stdout",
     "output_type": "stream",
     "text": [
      "CSPR = 9.00 dB\n",
      "Results:\n",
      "BER: 2.30e-02\n",
      "SNR: 12.56 dB\n",
      "SIR =  14.87  dB\n",
      "GMI: 3.65 bits\n",
      "\n"
     ]
    },
    {
     "data": {
      "application/vnd.jupyter.widget-view+json": {
       "model_id": "54f8e4ea8ffe4f18bd6f7b8b84992c13",
       "version_major": 2,
       "version_minor": 0
      },
      "text/plain": [
       "  0%|          | 0/1 [00:00<?, ?it/s]"
      ]
     },
     "metadata": {},
     "output_type": "display_data"
    },
    {
     "name": "stdout",
     "output_type": "stream",
     "text": [
      "CSPR = 9.00 dB\n",
      "Results:\n",
      "BER: 1.40e-02\n",
      "SNR: 13.49 dB\n",
      "SIR =  15.64  dB\n",
      "GMI: 3.78 bits\n",
      "\n"
     ]
    },
    {
     "data": {
      "application/vnd.jupyter.widget-view+json": {
       "model_id": "cfcdced3862c4652b994bf77d3050241",
       "version_major": 2,
       "version_minor": 0
      },
      "text/plain": [
       "  0%|          | 0/1 [00:00<?, ?it/s]"
      ]
     },
     "metadata": {},
     "output_type": "display_data"
    },
    {
     "name": "stdout",
     "output_type": "stream",
     "text": [
      "CSPR = 9.00 dB\n",
      "Results:\n",
      "BER: 7.95e-03\n",
      "SNR: 14.38 dB\n",
      "SIR =  16.43  dB\n",
      "GMI: 3.87 bits\n",
      "\n"
     ]
    },
    {
     "data": {
      "application/vnd.jupyter.widget-view+json": {
       "model_id": "8cb82780aaa845f68c6cff7984368142",
       "version_major": 2,
       "version_minor": 0
      },
      "text/plain": [
       "  0%|          | 0/1 [00:00<?, ?it/s]"
      ]
     },
     "metadata": {},
     "output_type": "display_data"
    },
    {
     "name": "stdout",
     "output_type": "stream",
     "text": [
      "CSPR = 9.00 dB\n",
      "Results:\n",
      "BER: 4.13e-03\n",
      "SNR: 15.23 dB\n",
      "SIR =  17.06  dB\n",
      "GMI: 3.93 bits\n",
      "\n"
     ]
    },
    {
     "data": {
      "application/vnd.jupyter.widget-view+json": {
       "model_id": "6dd2204d8e1c4b0e94562f84b6a9488b",
       "version_major": 2,
       "version_minor": 0
      },
      "text/plain": [
       "  0%|          | 0/1 [00:00<?, ?it/s]"
      ]
     },
     "metadata": {},
     "output_type": "display_data"
    },
    {
     "name": "stdout",
     "output_type": "stream",
     "text": [
      "CSPR = 9.00 dB\n",
      "Results:\n",
      "BER: 1.88e-03\n",
      "SNR: 16.11 dB\n",
      "SIR =  17.81  dB\n",
      "GMI: 3.97 bits\n",
      "\n"
     ]
    },
    {
     "data": {
      "application/vnd.jupyter.widget-view+json": {
       "model_id": "946d967c7bd44a8fab2b5921c5099e92",
       "version_major": 2,
       "version_minor": 0
      },
      "text/plain": [
       "  0%|          | 0/1 [00:00<?, ?it/s]"
      ]
     },
     "metadata": {},
     "output_type": "display_data"
    },
    {
     "name": "stdout",
     "output_type": "stream",
     "text": [
      "CSPR = 9.00 dB\n",
      "Results:\n",
      "BER: 8.31e-04\n",
      "SNR: 16.91 dB\n",
      "SIR =  18.43  dB\n",
      "GMI: 3.99 bits\n",
      "\n"
     ]
    },
    {
     "data": {
      "application/vnd.jupyter.widget-view+json": {
       "model_id": "80aad340e1254f658b498ec655e14065",
       "version_major": 2,
       "version_minor": 0
      },
      "text/plain": [
       "  0%|          | 0/1 [00:00<?, ?it/s]"
      ]
     },
     "metadata": {},
     "output_type": "display_data"
    },
    {
     "name": "stdout",
     "output_type": "stream",
     "text": [
      "CSPR = 9.00 dB\n",
      "Results:\n",
      "BER: 3.72e-04\n",
      "SNR: 17.59 dB\n",
      "SIR =  18.78  dB\n",
      "GMI: 3.99 bits\n",
      "\n"
     ]
    },
    {
     "data": {
      "application/vnd.jupyter.widget-view+json": {
       "model_id": "e9788357226f4f72977e76612bc76839",
       "version_major": 2,
       "version_minor": 0
      },
      "text/plain": [
       "  0%|          | 0/1 [00:00<?, ?it/s]"
      ]
     },
     "metadata": {},
     "output_type": "display_data"
    },
    {
     "name": "stdout",
     "output_type": "stream",
     "text": [
      "CSPR = 9.00 dB\n",
      "Results:\n",
      "BER: 1.66e-04\n",
      "SNR: 18.38 dB\n",
      "SIR =  19.34  dB\n",
      "GMI: 4.00 bits\n",
      "\n"
     ]
    },
    {
     "data": {
      "application/vnd.jupyter.widget-view+json": {
       "model_id": "5a91938fc7ab4bddba0903b505d6a501",
       "version_major": 2,
       "version_minor": 0
      },
      "text/plain": [
       "  0%|          | 0/1 [00:00<?, ?it/s]"
      ]
     },
     "metadata": {},
     "output_type": "display_data"
    },
    {
     "name": "stdout",
     "output_type": "stream",
     "text": [
      "CSPR = 9.00 dB\n",
      "Results:\n",
      "BER: 1.19e-04\n",
      "SNR: 18.98 dB\n",
      "SIR =  19.69  dB\n",
      "GMI: 4.00 bits\n",
      "\n"
     ]
    },
    {
     "data": {
      "application/vnd.jupyter.widget-view+json": {
       "model_id": "c530ed706be94b73ab9061f092d99b72",
       "version_major": 2,
       "version_minor": 0
      },
      "text/plain": [
       "  0%|          | 0/1 [00:00<?, ?it/s]"
      ]
     },
     "metadata": {},
     "output_type": "display_data"
    },
    {
     "name": "stdout",
     "output_type": "stream",
     "text": [
      "CSPR = 9.00 dB\n",
      "Results:\n",
      "BER: 4.37e-05\n",
      "SNR: 19.68 dB\n",
      "SIR =  20.24  dB\n",
      "GMI: 4.00 bits\n",
      "\n"
     ]
    },
    {
     "data": {
      "application/vnd.jupyter.widget-view+json": {
       "model_id": "fa20a5f857734acc81673e307fcec2f4",
       "version_major": 2,
       "version_minor": 0
      },
      "text/plain": [
       "  0%|          | 0/10 [00:00<?, ?it/s]"
      ]
     },
     "metadata": {},
     "output_type": "display_data"
    },
    {
     "data": {
      "application/vnd.jupyter.widget-view+json": {
       "model_id": "5d03bbbc45734e61b0b07cea84bcd95e",
       "version_major": 2,
       "version_minor": 0
      },
      "text/plain": [
       "  0%|          | 0/1 [00:00<?, ?it/s]"
      ]
     },
     "metadata": {},
     "output_type": "display_data"
    },
    {
     "name": "stdout",
     "output_type": "stream",
     "text": [
      "CSPR = 10.00 dB\n",
      "Results:\n",
      "BER: 2.14e-02\n",
      "SNR: 12.70 dB\n",
      "SIR =  15.1  dB\n",
      "GMI: 3.67 bits\n",
      "\n"
     ]
    },
    {
     "data": {
      "application/vnd.jupyter.widget-view+json": {
       "model_id": "f452fb4696d447c589fb6cf1a79fb91a",
       "version_major": 2,
       "version_minor": 0
      },
      "text/plain": [
       "  0%|          | 0/1 [00:00<?, ?it/s]"
      ]
     },
     "metadata": {},
     "output_type": "display_data"
    },
    {
     "name": "stdout",
     "output_type": "stream",
     "text": [
      "CSPR = 10.00 dB\n",
      "Results:\n",
      "BER: 1.25e-02\n",
      "SNR: 13.61 dB\n",
      "SIR =  15.86  dB\n",
      "GMI: 3.80 bits\n",
      "\n"
     ]
    },
    {
     "data": {
      "application/vnd.jupyter.widget-view+json": {
       "model_id": "7b5fea65cdcd484cb22ca3c391f23c72",
       "version_major": 2,
       "version_minor": 0
      },
      "text/plain": [
       "  0%|          | 0/1 [00:00<?, ?it/s]"
      ]
     },
     "metadata": {},
     "output_type": "display_data"
    },
    {
     "name": "stdout",
     "output_type": "stream",
     "text": [
      "CSPR = 10.00 dB\n",
      "Results:\n",
      "BER: 6.81e-03\n",
      "SNR: 14.53 dB\n",
      "SIR =  16.65  dB\n",
      "GMI: 3.89 bits\n",
      "\n"
     ]
    },
    {
     "data": {
      "application/vnd.jupyter.widget-view+json": {
       "model_id": "dac113de26e049f5856218495b4564c9",
       "version_major": 2,
       "version_minor": 0
      },
      "text/plain": [
       "  0%|          | 0/1 [00:00<?, ?it/s]"
      ]
     },
     "metadata": {},
     "output_type": "display_data"
    },
    {
     "name": "stdout",
     "output_type": "stream",
     "text": [
      "CSPR = 10.00 dB\n",
      "Results:\n",
      "BER: 3.41e-03\n",
      "SNR: 15.38 dB\n",
      "SIR =  17.34  dB\n",
      "GMI: 3.94 bits\n",
      "\n"
     ]
    },
    {
     "data": {
      "application/vnd.jupyter.widget-view+json": {
       "model_id": "ebee448d1dd04fecbbcce168048ad475",
       "version_major": 2,
       "version_minor": 0
      },
      "text/plain": [
       "  0%|          | 0/1 [00:00<?, ?it/s]"
      ]
     },
     "metadata": {},
     "output_type": "display_data"
    },
    {
     "name": "stdout",
     "output_type": "stream",
     "text": [
      "CSPR = 10.00 dB\n",
      "Results:\n",
      "BER: 1.70e-03\n",
      "SNR: 16.23 dB\n",
      "SIR =  17.96  dB\n",
      "GMI: 3.97 bits\n",
      "\n"
     ]
    },
    {
     "data": {
      "application/vnd.jupyter.widget-view+json": {
       "model_id": "52a3f2bcf66c4f47aa976408f606902b",
       "version_major": 2,
       "version_minor": 0
      },
      "text/plain": [
       "  0%|          | 0/1 [00:00<?, ?it/s]"
      ]
     },
     "metadata": {},
     "output_type": "display_data"
    },
    {
     "name": "stdout",
     "output_type": "stream",
     "text": [
      "CSPR = 10.00 dB\n",
      "Results:\n",
      "BER: 7.25e-04\n",
      "SNR: 16.99 dB\n",
      "SIR =  18.51  dB\n",
      "GMI: 3.99 bits\n",
      "\n"
     ]
    },
    {
     "data": {
      "application/vnd.jupyter.widget-view+json": {
       "model_id": "d55405bcc8274eb9aac1654f743c94f3",
       "version_major": 2,
       "version_minor": 0
      },
      "text/plain": [
       "  0%|          | 0/1 [00:00<?, ?it/s]"
      ]
     },
     "metadata": {},
     "output_type": "display_data"
    },
    {
     "name": "stdout",
     "output_type": "stream",
     "text": [
      "CSPR = 10.00 dB\n",
      "Results:\n",
      "BER: 2.47e-04\n",
      "SNR: 17.83 dB\n",
      "SIR =  19.15  dB\n",
      "GMI: 4.00 bits\n",
      "\n"
     ]
    },
    {
     "data": {
      "application/vnd.jupyter.widget-view+json": {
       "model_id": "6ae19439396d4d179c92eca6a6bc0991",
       "version_major": 2,
       "version_minor": 0
      },
      "text/plain": [
       "  0%|          | 0/1 [00:00<?, ?it/s]"
      ]
     },
     "metadata": {},
     "output_type": "display_data"
    },
    {
     "name": "stdout",
     "output_type": "stream",
     "text": [
      "CSPR = 10.00 dB\n",
      "Results:\n",
      "BER: 8.75e-05\n",
      "SNR: 18.50 dB\n",
      "SIR =  19.53  dB\n",
      "GMI: 4.00 bits\n",
      "\n"
     ]
    },
    {
     "data": {
      "application/vnd.jupyter.widget-view+json": {
       "model_id": "ac7b60576d0540cab7f3971880176f30",
       "version_major": 2,
       "version_minor": 0
      },
      "text/plain": [
       "  0%|          | 0/1 [00:00<?, ?it/s]"
      ]
     },
     "metadata": {},
     "output_type": "display_data"
    },
    {
     "name": "stdout",
     "output_type": "stream",
     "text": [
      "CSPR = 10.00 dB\n",
      "Results:\n",
      "BER: 2.81e-05\n",
      "SNR: 19.22 dB\n",
      "SIR =  20.13  dB\n",
      "GMI: 4.00 bits\n",
      "\n"
     ]
    },
    {
     "data": {
      "application/vnd.jupyter.widget-view+json": {
       "model_id": "3c520dfad62a4ee5b5b11fd590da926d",
       "version_major": 2,
       "version_minor": 0
      },
      "text/plain": [
       "  0%|          | 0/1 [00:00<?, ?it/s]"
      ]
     },
     "metadata": {},
     "output_type": "display_data"
    },
    {
     "name": "stdout",
     "output_type": "stream",
     "text": [
      "CSPR = 10.00 dB\n",
      "Results:\n",
      "BER: 9.37e-06\n",
      "SNR: 19.91 dB\n",
      "SIR =  20.6  dB\n",
      "GMI: 4.00 bits\n",
      "\n"
     ]
    },
    {
     "data": {
      "application/vnd.jupyter.widget-view+json": {
       "model_id": "4bdef7c2479242258c46f41c68fcceba",
       "version_major": 2,
       "version_minor": 0
      },
      "text/plain": [
       "  0%|          | 0/10 [00:00<?, ?it/s]"
      ]
     },
     "metadata": {},
     "output_type": "display_data"
    },
    {
     "data": {
      "application/vnd.jupyter.widget-view+json": {
       "model_id": "de6dc825d4b443f489f1ae30a4ff864c",
       "version_major": 2,
       "version_minor": 0
      },
      "text/plain": [
       "  0%|          | 0/1 [00:00<?, ?it/s]"
      ]
     },
     "metadata": {},
     "output_type": "display_data"
    },
    {
     "name": "stdout",
     "output_type": "stream",
     "text": [
      "CSPR = 11.00 dB\n",
      "Results:\n",
      "BER: 2.06e-02\n",
      "SNR: 12.78 dB\n",
      "SIR =  15.26  dB\n",
      "GMI: 3.69 bits\n",
      "\n"
     ]
    },
    {
     "data": {
      "application/vnd.jupyter.widget-view+json": {
       "model_id": "e02dc0dbb4fc4fbaa058a5622c26763f",
       "version_major": 2,
       "version_minor": 0
      },
      "text/plain": [
       "  0%|          | 0/1 [00:00<?, ?it/s]"
      ]
     },
     "metadata": {},
     "output_type": "display_data"
    },
    {
     "name": "stdout",
     "output_type": "stream",
     "text": [
      "CSPR = 11.00 dB\n",
      "Results:\n",
      "BER: 1.20e-02\n",
      "SNR: 13.72 dB\n",
      "SIR =  16.12  dB\n",
      "GMI: 3.81 bits\n",
      "\n"
     ]
    },
    {
     "data": {
      "application/vnd.jupyter.widget-view+json": {
       "model_id": "cdd8ee8dc27d48699b5c655285a99d15",
       "version_major": 2,
       "version_minor": 0
      },
      "text/plain": [
       "  0%|          | 0/1 [00:00<?, ?it/s]"
      ]
     },
     "metadata": {},
     "output_type": "display_data"
    },
    {
     "name": "stdout",
     "output_type": "stream",
     "text": [
      "CSPR = 11.00 dB\n",
      "Results:\n",
      "BER: 6.58e-03\n",
      "SNR: 14.62 dB\n",
      "SIR =  16.77  dB\n",
      "GMI: 3.89 bits\n",
      "\n"
     ]
    },
    {
     "data": {
      "application/vnd.jupyter.widget-view+json": {
       "model_id": "1f39dc14d9fe4caf96ec7485fe92d4b4",
       "version_major": 2,
       "version_minor": 0
      },
      "text/plain": [
       "  0%|          | 0/1 [00:00<?, ?it/s]"
      ]
     },
     "metadata": {},
     "output_type": "display_data"
    },
    {
     "name": "stdout",
     "output_type": "stream",
     "text": [
      "CSPR = 11.00 dB\n",
      "Results:\n",
      "BER: 3.17e-03\n",
      "SNR: 15.50 dB\n",
      "SIR =  17.5  dB\n",
      "GMI: 3.95 bits\n",
      "\n"
     ]
    },
    {
     "data": {
      "application/vnd.jupyter.widget-view+json": {
       "model_id": "8687f5caf6764bec979dc740a4107600",
       "version_major": 2,
       "version_minor": 0
      },
      "text/plain": [
       "  0%|          | 0/1 [00:00<?, ?it/s]"
      ]
     },
     "metadata": {},
     "output_type": "display_data"
    },
    {
     "name": "stdout",
     "output_type": "stream",
     "text": [
      "CSPR = 11.00 dB\n",
      "Results:\n",
      "BER: 1.52e-03\n",
      "SNR: 16.36 dB\n",
      "SIR =  18.19  dB\n",
      "GMI: 3.98 bits\n",
      "\n"
     ]
    },
    {
     "data": {
      "application/vnd.jupyter.widget-view+json": {
       "model_id": "f3142dbd254d4211828a1c98cdf9ff08",
       "version_major": 2,
       "version_minor": 0
      },
      "text/plain": [
       "  0%|          | 0/1 [00:00<?, ?it/s]"
      ]
     },
     "metadata": {},
     "output_type": "display_data"
    },
    {
     "name": "stdout",
     "output_type": "stream",
     "text": [
      "CSPR = 11.00 dB\n",
      "Results:\n",
      "BER: 6.00e-04\n",
      "SNR: 17.12 dB\n",
      "SIR =  18.78  dB\n",
      "GMI: 3.99 bits\n",
      "\n"
     ]
    },
    {
     "data": {
      "application/vnd.jupyter.widget-view+json": {
       "model_id": "757059b6789845c18e34d3dc3f3f0320",
       "version_major": 2,
       "version_minor": 0
      },
      "text/plain": [
       "  0%|          | 0/1 [00:00<?, ?it/s]"
      ]
     },
     "metadata": {},
     "output_type": "display_data"
    },
    {
     "name": "stdout",
     "output_type": "stream",
     "text": [
      "CSPR = 11.00 dB\n",
      "Results:\n",
      "BER: 2.37e-04\n",
      "SNR: 17.86 dB\n",
      "SIR =  19.25  dB\n",
      "GMI: 4.00 bits\n",
      "\n"
     ]
    },
    {
     "data": {
      "application/vnd.jupyter.widget-view+json": {
       "model_id": "4a48f8b0356b4cbcb174782dcd7e65f8",
       "version_major": 2,
       "version_minor": 0
      },
      "text/plain": [
       "  0%|          | 0/1 [00:00<?, ?it/s]"
      ]
     },
     "metadata": {},
     "output_type": "display_data"
    },
    {
     "name": "stdout",
     "output_type": "stream",
     "text": [
      "CSPR = 11.00 dB\n",
      "Results:\n",
      "BER: 5.62e-05\n",
      "SNR: 18.60 dB\n",
      "SIR =  19.76  dB\n",
      "GMI: 4.00 bits\n",
      "\n"
     ]
    },
    {
     "data": {
      "application/vnd.jupyter.widget-view+json": {
       "model_id": "5ed9fc773de44f6b89772b44e724fe33",
       "version_major": 2,
       "version_minor": 0
      },
      "text/plain": [
       "  0%|          | 0/1 [00:00<?, ?it/s]"
      ]
     },
     "metadata": {},
     "output_type": "display_data"
    },
    {
     "name": "stdout",
     "output_type": "stream",
     "text": [
      "CSPR = 11.00 dB\n",
      "Results:\n",
      "BER: 1.56e-05\n",
      "SNR: 19.40 dB\n",
      "SIR =  20.29  dB\n",
      "GMI: 4.00 bits\n",
      "\n"
     ]
    },
    {
     "data": {
      "application/vnd.jupyter.widget-view+json": {
       "model_id": "d3e9a995e95a46a594137676015a1a2e",
       "version_major": 2,
       "version_minor": 0
      },
      "text/plain": [
       "  0%|          | 0/1 [00:00<?, ?it/s]"
      ]
     },
     "metadata": {},
     "output_type": "display_data"
    },
    {
     "name": "stdout",
     "output_type": "stream",
     "text": [
      "CSPR = 11.00 dB\n",
      "Results:\n",
      "BER: 3.13e-06\n",
      "SNR: 19.91 dB\n",
      "SIR =  20.56  dB\n",
      "GMI: 4.00 bits\n",
      "\n"
     ]
    },
    {
     "data": {
      "application/vnd.jupyter.widget-view+json": {
       "model_id": "480e553507fe490ba17f3ad754bc6706",
       "version_major": 2,
       "version_minor": 0
      },
      "text/plain": [
       "  0%|          | 0/10 [00:00<?, ?it/s]"
      ]
     },
     "metadata": {},
     "output_type": "display_data"
    },
    {
     "data": {
      "application/vnd.jupyter.widget-view+json": {
       "model_id": "c91ff8a0845d490c9877fef3f402e612",
       "version_major": 2,
       "version_minor": 0
      },
      "text/plain": [
       "  0%|          | 0/1 [00:00<?, ?it/s]"
      ]
     },
     "metadata": {},
     "output_type": "display_data"
    },
    {
     "name": "stdout",
     "output_type": "stream",
     "text": [
      "CSPR = 12.00 dB\n",
      "Results:\n",
      "BER: 2.00e-02\n",
      "SNR: 12.86 dB\n",
      "SIR =  15.35  dB\n",
      "GMI: 3.69 bits\n",
      "\n"
     ]
    },
    {
     "data": {
      "application/vnd.jupyter.widget-view+json": {
       "model_id": "e473b44317d540f2ad95841be531093c",
       "version_major": 2,
       "version_minor": 0
      },
      "text/plain": [
       "  0%|          | 0/1 [00:00<?, ?it/s]"
      ]
     },
     "metadata": {},
     "output_type": "display_data"
    },
    {
     "name": "stdout",
     "output_type": "stream",
     "text": [
      "CSPR = 12.00 dB\n",
      "Results:\n",
      "BER: 1.15e-02\n",
      "SNR: 13.79 dB\n",
      "SIR =  16.16  dB\n",
      "GMI: 3.82 bits\n",
      "\n"
     ]
    },
    {
     "data": {
      "application/vnd.jupyter.widget-view+json": {
       "model_id": "d8cac9cc31164f20ae6b72e9ba4b9f64",
       "version_major": 2,
       "version_minor": 0
      },
      "text/plain": [
       "  0%|          | 0/1 [00:00<?, ?it/s]"
      ]
     },
     "metadata": {},
     "output_type": "display_data"
    },
    {
     "name": "stdout",
     "output_type": "stream",
     "text": [
      "CSPR = 12.00 dB\n",
      "Results:\n",
      "BER: 6.39e-03\n",
      "SNR: 14.63 dB\n",
      "SIR =  16.83  dB\n",
      "GMI: 3.90 bits\n",
      "\n"
     ]
    },
    {
     "data": {
      "application/vnd.jupyter.widget-view+json": {
       "model_id": "032304a197e34c7bae41002e5f740693",
       "version_major": 2,
       "version_minor": 0
      },
      "text/plain": [
       "  0%|          | 0/1 [00:00<?, ?it/s]"
      ]
     },
     "metadata": {},
     "output_type": "display_data"
    },
    {
     "name": "stdout",
     "output_type": "stream",
     "text": [
      "CSPR = 12.00 dB\n",
      "Results:\n",
      "BER: 3.13e-03\n",
      "SNR: 15.52 dB\n",
      "SIR =  17.57  dB\n",
      "GMI: 3.95 bits\n",
      "\n"
     ]
    },
    {
     "data": {
      "application/vnd.jupyter.widget-view+json": {
       "model_id": "c6f56fbf84ad4624aaf43b9b5a228455",
       "version_major": 2,
       "version_minor": 0
      },
      "text/plain": [
       "  0%|          | 0/1 [00:00<?, ?it/s]"
      ]
     },
     "metadata": {},
     "output_type": "display_data"
    },
    {
     "name": "stdout",
     "output_type": "stream",
     "text": [
      "CSPR = 12.00 dB\n",
      "Results:\n",
      "BER: 1.32e-03\n",
      "SNR: 16.35 dB\n",
      "SIR =  18.27  dB\n",
      "GMI: 3.98 bits\n",
      "\n"
     ]
    },
    {
     "data": {
      "application/vnd.jupyter.widget-view+json": {
       "model_id": "2f56155735644f20b1571503f6046274",
       "version_major": 2,
       "version_minor": 0
      },
      "text/plain": [
       "  0%|          | 0/1 [00:00<?, ?it/s]"
      ]
     },
     "metadata": {},
     "output_type": "display_data"
    },
    {
     "name": "stdout",
     "output_type": "stream",
     "text": [
      "CSPR = 12.00 dB\n",
      "Results:\n",
      "BER: 5.03e-04\n",
      "SNR: 17.20 dB\n",
      "SIR =  18.87  dB\n",
      "GMI: 3.99 bits\n",
      "\n"
     ]
    },
    {
     "data": {
      "application/vnd.jupyter.widget-view+json": {
       "model_id": "82bc04d241ca45d08a5ec4e7c5ca0fa5",
       "version_major": 2,
       "version_minor": 0
      },
      "text/plain": [
       "  0%|          | 0/1 [00:00<?, ?it/s]"
      ]
     },
     "metadata": {},
     "output_type": "display_data"
    },
    {
     "name": "stdout",
     "output_type": "stream",
     "text": [
      "CSPR = 12.00 dB\n",
      "Results:\n",
      "BER: 2.06e-04\n",
      "SNR: 17.92 dB\n",
      "SIR =  19.34  dB\n",
      "GMI: 4.00 bits\n",
      "\n"
     ]
    },
    {
     "data": {
      "application/vnd.jupyter.widget-view+json": {
       "model_id": "eceacae5049c43c0bf9051742ec6d3c9",
       "version_major": 2,
       "version_minor": 0
      },
      "text/plain": [
       "  0%|          | 0/1 [00:00<?, ?it/s]"
      ]
     },
     "metadata": {},
     "output_type": "display_data"
    },
    {
     "name": "stdout",
     "output_type": "stream",
     "text": [
      "CSPR = 12.00 dB\n",
      "Results:\n",
      "BER: 4.69e-05\n",
      "SNR: 18.68 dB\n",
      "SIR =  19.85  dB\n",
      "GMI: 4.00 bits\n",
      "\n"
     ]
    },
    {
     "data": {
      "application/vnd.jupyter.widget-view+json": {
       "model_id": "8182303461784a70aa7384378115867f",
       "version_major": 2,
       "version_minor": 0
      },
      "text/plain": [
       "  0%|          | 0/1 [00:00<?, ?it/s]"
      ]
     },
     "metadata": {},
     "output_type": "display_data"
    },
    {
     "name": "stdout",
     "output_type": "stream",
     "text": [
      "CSPR = 12.00 dB\n",
      "Results:\n",
      "BER: 2.19e-05\n",
      "SNR: 19.34 dB\n",
      "SIR =  20.26  dB\n",
      "GMI: 4.00 bits\n",
      "\n"
     ]
    },
    {
     "data": {
      "application/vnd.jupyter.widget-view+json": {
       "model_id": "972173c8520c4d96ab21d5fb7404914e",
       "version_major": 2,
       "version_minor": 0
      },
      "text/plain": [
       "  0%|          | 0/1 [00:00<?, ?it/s]"
      ]
     },
     "metadata": {},
     "output_type": "display_data"
    },
    {
     "name": "stdout",
     "output_type": "stream",
     "text": [
      "CSPR = 12.00 dB\n",
      "Results:\n",
      "BER: 6.25e-06\n",
      "SNR: 20.02 dB\n",
      "SIR =  20.76  dB\n",
      "GMI: 4.00 bits\n",
      "\n"
     ]
    },
    {
     "data": {
      "application/vnd.jupyter.widget-view+json": {
       "model_id": "83291c0c157f488f80cf6985c762e526",
       "version_major": 2,
       "version_minor": 0
      },
      "text/plain": [
       "  0%|          | 0/10 [00:00<?, ?it/s]"
      ]
     },
     "metadata": {},
     "output_type": "display_data"
    },
    {
     "data": {
      "application/vnd.jupyter.widget-view+json": {
       "model_id": "b191c61a660d44e7b8b9a9e975863eb5",
       "version_major": 2,
       "version_minor": 0
      },
      "text/plain": [
       "  0%|          | 0/1 [00:00<?, ?it/s]"
      ]
     },
     "metadata": {},
     "output_type": "display_data"
    },
    {
     "name": "stdout",
     "output_type": "stream",
     "text": [
      "CSPR = 13.00 dB\n",
      "Results:\n",
      "BER: 1.98e-02\n",
      "SNR: 12.88 dB\n",
      "SIR =  15.43  dB\n",
      "GMI: 3.70 bits\n",
      "\n"
     ]
    },
    {
     "data": {
      "application/vnd.jupyter.widget-view+json": {
       "model_id": "1a497b3293d544ae81225bb6ecc0c977",
       "version_major": 2,
       "version_minor": 0
      },
      "text/plain": [
       "  0%|          | 0/1 [00:00<?, ?it/s]"
      ]
     },
     "metadata": {},
     "output_type": "display_data"
    },
    {
     "name": "stdout",
     "output_type": "stream",
     "text": [
      "CSPR = 13.00 dB\n",
      "Results:\n",
      "BER: 1.10e-02\n",
      "SNR: 13.83 dB\n",
      "SIR =  16.23  dB\n",
      "GMI: 3.83 bits\n",
      "\n"
     ]
    },
    {
     "data": {
      "application/vnd.jupyter.widget-view+json": {
       "model_id": "79ab3196cb414965ba6b0f33f508f5a5",
       "version_major": 2,
       "version_minor": 0
      },
      "text/plain": [
       "  0%|          | 0/1 [00:00<?, ?it/s]"
      ]
     },
     "metadata": {},
     "output_type": "display_data"
    },
    {
     "name": "stdout",
     "output_type": "stream",
     "text": [
      "CSPR = 13.00 dB\n",
      "Results:\n",
      "BER: 6.23e-03\n",
      "SNR: 14.65 dB\n",
      "SIR =  16.92  dB\n",
      "GMI: 3.90 bits\n",
      "\n"
     ]
    },
    {
     "data": {
      "application/vnd.jupyter.widget-view+json": {
       "model_id": "3c8c3b70700f4983b393161fe6bda69e",
       "version_major": 2,
       "version_minor": 0
      },
      "text/plain": [
       "  0%|          | 0/1 [00:00<?, ?it/s]"
      ]
     },
     "metadata": {},
     "output_type": "display_data"
    },
    {
     "name": "stdout",
     "output_type": "stream",
     "text": [
      "CSPR = 13.00 dB\n",
      "Results:\n",
      "BER: 3.13e-03\n",
      "SNR: 15.55 dB\n",
      "SIR =  17.65  dB\n",
      "GMI: 3.95 bits\n",
      "\n"
     ]
    },
    {
     "data": {
      "application/vnd.jupyter.widget-view+json": {
       "model_id": "147edd668bde47659b8f631d19cdd333",
       "version_major": 2,
       "version_minor": 0
      },
      "text/plain": [
       "  0%|          | 0/1 [00:00<?, ?it/s]"
      ]
     },
     "metadata": {},
     "output_type": "display_data"
    },
    {
     "name": "stdout",
     "output_type": "stream",
     "text": [
      "CSPR = 13.00 dB\n",
      "Results:\n",
      "BER: 1.28e-03\n",
      "SNR: 16.41 dB\n",
      "SIR =  18.27  dB\n",
      "GMI: 3.98 bits\n",
      "\n"
     ]
    },
    {
     "data": {
      "application/vnd.jupyter.widget-view+json": {
       "model_id": "82e1097f35be435c9c1659e47feacebe",
       "version_major": 2,
       "version_minor": 0
      },
      "text/plain": [
       "  0%|          | 0/1 [00:00<?, ?it/s]"
      ]
     },
     "metadata": {},
     "output_type": "display_data"
    },
    {
     "name": "stdout",
     "output_type": "stream",
     "text": [
      "CSPR = 13.00 dB\n",
      "Results:\n",
      "BER: 4.69e-04\n",
      "SNR: 17.22 dB\n",
      "SIR =  18.91  dB\n",
      "GMI: 3.99 bits\n",
      "\n"
     ]
    },
    {
     "data": {
      "application/vnd.jupyter.widget-view+json": {
       "model_id": "5644187dd4214b0abeb331507eb24157",
       "version_major": 2,
       "version_minor": 0
      },
      "text/plain": [
       "  0%|          | 0/1 [00:00<?, ?it/s]"
      ]
     },
     "metadata": {},
     "output_type": "display_data"
    },
    {
     "name": "stdout",
     "output_type": "stream",
     "text": [
      "CSPR = 13.00 dB\n",
      "Results:\n",
      "BER: 1.72e-04\n",
      "SNR: 18.00 dB\n",
      "SIR =  19.41  dB\n",
      "GMI: 4.00 bits\n",
      "\n"
     ]
    },
    {
     "data": {
      "application/vnd.jupyter.widget-view+json": {
       "model_id": "f83be9925f9d44e2aaeea99c5a9d29ac",
       "version_major": 2,
       "version_minor": 0
      },
      "text/plain": [
       "  0%|          | 0/1 [00:00<?, ?it/s]"
      ]
     },
     "metadata": {},
     "output_type": "display_data"
    },
    {
     "name": "stdout",
     "output_type": "stream",
     "text": [
      "CSPR = 13.00 dB\n",
      "Results:\n",
      "BER: 5.31e-05\n",
      "SNR: 18.76 dB\n",
      "SIR =  19.99  dB\n",
      "GMI: 4.00 bits\n",
      "\n"
     ]
    },
    {
     "data": {
      "application/vnd.jupyter.widget-view+json": {
       "model_id": "3b7df3645f854971822c2abb736fd4d3",
       "version_major": 2,
       "version_minor": 0
      },
      "text/plain": [
       "  0%|          | 0/1 [00:00<?, ?it/s]"
      ]
     },
     "metadata": {},
     "output_type": "display_data"
    },
    {
     "name": "stdout",
     "output_type": "stream",
     "text": [
      "CSPR = 13.00 dB\n",
      "Results:\n",
      "BER: 1.56e-05\n",
      "SNR: 19.49 dB\n",
      "SIR =  20.58  dB\n",
      "GMI: 4.00 bits\n",
      "\n"
     ]
    },
    {
     "data": {
      "application/vnd.jupyter.widget-view+json": {
       "model_id": "5c582534dc88470794ebd330737b3704",
       "version_major": 2,
       "version_minor": 0
      },
      "text/plain": [
       "  0%|          | 0/1 [00:00<?, ?it/s]"
      ]
     },
     "metadata": {},
     "output_type": "display_data"
    },
    {
     "name": "stdout",
     "output_type": "stream",
     "text": [
      "CSPR = 13.00 dB\n",
      "Results:\n",
      "BER: 3.13e-06\n",
      "SNR: 20.05 dB\n",
      "SIR =  20.79  dB\n",
      "GMI: 4.00 bits\n",
      "\n"
     ]
    },
    {
     "data": {
      "application/vnd.jupyter.widget-view+json": {
       "model_id": "44c23c0ec0804e78b2fa113b2c420551",
       "version_major": 2,
       "version_minor": 0
      },
      "text/plain": [
       "  0%|          | 0/10 [00:00<?, ?it/s]"
      ]
     },
     "metadata": {},
     "output_type": "display_data"
    },
    {
     "data": {
      "application/vnd.jupyter.widget-view+json": {
       "model_id": "4c45e373fdc448c4ae46138704610c16",
       "version_major": 2,
       "version_minor": 0
      },
      "text/plain": [
       "  0%|          | 0/1 [00:00<?, ?it/s]"
      ]
     },
     "metadata": {},
     "output_type": "display_data"
    },
    {
     "name": "stdout",
     "output_type": "stream",
     "text": [
      "CSPR = 14.00 dB\n",
      "Results:\n",
      "BER: 1.93e-02\n",
      "SNR: 12.92 dB\n",
      "SIR =  15.5  dB\n",
      "GMI: 3.71 bits\n",
      "\n"
     ]
    },
    {
     "data": {
      "application/vnd.jupyter.widget-view+json": {
       "model_id": "381179b03ee44e538d60be8ea36a0c43",
       "version_major": 2,
       "version_minor": 0
      },
      "text/plain": [
       "  0%|          | 0/1 [00:00<?, ?it/s]"
      ]
     },
     "metadata": {},
     "output_type": "display_data"
    },
    {
     "name": "stdout",
     "output_type": "stream",
     "text": [
      "CSPR = 14.00 dB\n",
      "Results:\n",
      "BER: 1.12e-02\n",
      "SNR: 13.82 dB\n",
      "SIR =  16.3  dB\n",
      "GMI: 3.82 bits\n",
      "\n"
     ]
    },
    {
     "data": {
      "application/vnd.jupyter.widget-view+json": {
       "model_id": "a6377663265641a483bcf0f787fd17eb",
       "version_major": 2,
       "version_minor": 0
      },
      "text/plain": [
       "  0%|          | 0/1 [00:00<?, ?it/s]"
      ]
     },
     "metadata": {},
     "output_type": "display_data"
    },
    {
     "name": "stdout",
     "output_type": "stream",
     "text": [
      "CSPR = 14.00 dB\n",
      "Results:\n",
      "BER: 5.90e-03\n",
      "SNR: 14.75 dB\n",
      "SIR =  17.05  dB\n",
      "GMI: 3.90 bits\n",
      "\n"
     ]
    },
    {
     "data": {
      "application/vnd.jupyter.widget-view+json": {
       "model_id": "0179f30ebdbc46edb87286339e6bd5fd",
       "version_major": 2,
       "version_minor": 0
      },
      "text/plain": [
       "  0%|          | 0/1 [00:00<?, ?it/s]"
      ]
     },
     "metadata": {},
     "output_type": "display_data"
    },
    {
     "name": "stdout",
     "output_type": "stream",
     "text": [
      "CSPR = 14.00 dB\n",
      "Results:\n",
      "BER: 2.78e-03\n",
      "SNR: 15.59 dB\n",
      "SIR =  17.74  dB\n",
      "GMI: 3.95 bits\n",
      "\n"
     ]
    },
    {
     "data": {
      "application/vnd.jupyter.widget-view+json": {
       "model_id": "f085dd2c83944dac81620c8d828f98b9",
       "version_major": 2,
       "version_minor": 0
      },
      "text/plain": [
       "  0%|          | 0/1 [00:00<?, ?it/s]"
      ]
     },
     "metadata": {},
     "output_type": "display_data"
    },
    {
     "name": "stdout",
     "output_type": "stream",
     "text": [
      "CSPR = 14.00 dB\n",
      "Results:\n",
      "BER: 1.13e-03\n",
      "SNR: 16.44 dB\n",
      "SIR =  18.36  dB\n",
      "GMI: 3.98 bits\n",
      "\n"
     ]
    },
    {
     "data": {
      "application/vnd.jupyter.widget-view+json": {
       "model_id": "2b96c57a803246cdacc7041d44978416",
       "version_major": 2,
       "version_minor": 0
      },
      "text/plain": [
       "  0%|          | 0/1 [00:00<?, ?it/s]"
      ]
     },
     "metadata": {},
     "output_type": "display_data"
    },
    {
     "name": "stdout",
     "output_type": "stream",
     "text": [
      "CSPR = 14.00 dB\n",
      "Results:\n",
      "BER: 4.97e-04\n",
      "SNR: 17.26 dB\n",
      "SIR =  18.95  dB\n",
      "GMI: 3.99 bits\n",
      "\n"
     ]
    },
    {
     "data": {
      "application/vnd.jupyter.widget-view+json": {
       "model_id": "b5a35ec4361d40d3a78a5b391eed5e3c",
       "version_major": 2,
       "version_minor": 0
      },
      "text/plain": [
       "  0%|          | 0/1 [00:00<?, ?it/s]"
      ]
     },
     "metadata": {},
     "output_type": "display_data"
    },
    {
     "name": "stdout",
     "output_type": "stream",
     "text": [
      "CSPR = 14.00 dB\n",
      "Results:\n",
      "BER: 1.09e-04\n",
      "SNR: 18.08 dB\n",
      "SIR =  19.57  dB\n",
      "GMI: 4.00 bits\n",
      "\n"
     ]
    },
    {
     "data": {
      "application/vnd.jupyter.widget-view+json": {
       "model_id": "3f62fbfbdd4e4d4d880053998a8b459d",
       "version_major": 2,
       "version_minor": 0
      },
      "text/plain": [
       "  0%|          | 0/1 [00:00<?, ?it/s]"
      ]
     },
     "metadata": {},
     "output_type": "display_data"
    },
    {
     "name": "stdout",
     "output_type": "stream",
     "text": [
      "CSPR = 14.00 dB\n",
      "Results:\n",
      "BER: 5.31e-05\n",
      "SNR: 18.77 dB\n",
      "SIR =  20.07  dB\n",
      "GMI: 4.00 bits\n",
      "\n"
     ]
    },
    {
     "data": {
      "application/vnd.jupyter.widget-view+json": {
       "model_id": "525e200851aa4077a343fe17452da845",
       "version_major": 2,
       "version_minor": 0
      },
      "text/plain": [
       "  0%|          | 0/1 [00:00<?, ?it/s]"
      ]
     },
     "metadata": {},
     "output_type": "display_data"
    },
    {
     "name": "stdout",
     "output_type": "stream",
     "text": [
      "CSPR = 14.00 dB\n",
      "Results:\n",
      "BER: 1.25e-05\n",
      "SNR: 19.47 dB\n",
      "SIR =  20.49  dB\n",
      "GMI: 4.00 bits\n",
      "\n"
     ]
    },
    {
     "data": {
      "application/vnd.jupyter.widget-view+json": {
       "model_id": "758bc65044524c9aa7f7782ff2d73a88",
       "version_major": 2,
       "version_minor": 0
      },
      "text/plain": [
       "  0%|          | 0/1 [00:00<?, ?it/s]"
      ]
     },
     "metadata": {},
     "output_type": "display_data"
    },
    {
     "name": "stdout",
     "output_type": "stream",
     "text": [
      "CSPR = 14.00 dB\n",
      "Results:\n",
      "BER: 1.56e-05\n",
      "SNR: 20.11 dB\n",
      "SIR =  20.87  dB\n",
      "GMI: 4.00 bits\n",
      "\n"
     ]
    },
    {
     "data": {
      "application/vnd.jupyter.widget-view+json": {
       "model_id": "628b5362512b426ab4e1dda89c92710c",
       "version_major": 2,
       "version_minor": 0
      },
      "text/plain": [
       "  0%|          | 0/10 [00:00<?, ?it/s]"
      ]
     },
     "metadata": {},
     "output_type": "display_data"
    },
    {
     "data": {
      "application/vnd.jupyter.widget-view+json": {
       "model_id": "893e268b2d374a8abc7becc976bf677b",
       "version_major": 2,
       "version_minor": 0
      },
      "text/plain": [
       "  0%|          | 0/1 [00:00<?, ?it/s]"
      ]
     },
     "metadata": {},
     "output_type": "display_data"
    },
    {
     "name": "stdout",
     "output_type": "stream",
     "text": [
      "CSPR = 15.00 dB\n",
      "Results:\n",
      "BER: 1.92e-02\n",
      "SNR: 12.91 dB\n",
      "SIR =  15.54  dB\n",
      "GMI: 3.70 bits\n",
      "\n"
     ]
    },
    {
     "data": {
      "application/vnd.jupyter.widget-view+json": {
       "model_id": "01c484721cf746e3bc8f9845305b51fb",
       "version_major": 2,
       "version_minor": 0
      },
      "text/plain": [
       "  0%|          | 0/1 [00:00<?, ?it/s]"
      ]
     },
     "metadata": {},
     "output_type": "display_data"
    },
    {
     "name": "stdout",
     "output_type": "stream",
     "text": [
      "CSPR = 15.00 dB\n",
      "Results:\n",
      "BER: 1.09e-02\n",
      "SNR: 13.85 dB\n",
      "SIR =  16.3  dB\n",
      "GMI: 3.83 bits\n",
      "\n"
     ]
    },
    {
     "data": {
      "application/vnd.jupyter.widget-view+json": {
       "model_id": "4eeb5515a7ce4c39b34a86c5eaf12fa9",
       "version_major": 2,
       "version_minor": 0
      },
      "text/plain": [
       "  0%|          | 0/1 [00:00<?, ?it/s]"
      ]
     },
     "metadata": {},
     "output_type": "display_data"
    },
    {
     "name": "stdout",
     "output_type": "stream",
     "text": [
      "CSPR = 15.00 dB\n",
      "Results:\n",
      "BER: 5.78e-03\n",
      "SNR: 14.75 dB\n",
      "SIR =  17.05  dB\n",
      "GMI: 3.91 bits\n",
      "\n"
     ]
    },
    {
     "data": {
      "application/vnd.jupyter.widget-view+json": {
       "model_id": "bd5941f6f5b14760a1f68d31645831aa",
       "version_major": 2,
       "version_minor": 0
      },
      "text/plain": [
       "  0%|          | 0/1 [00:00<?, ?it/s]"
      ]
     },
     "metadata": {},
     "output_type": "display_data"
    },
    {
     "name": "stdout",
     "output_type": "stream",
     "text": [
      "CSPR = 15.00 dB\n",
      "Results:\n",
      "BER: 2.79e-03\n",
      "SNR: 15.64 dB\n",
      "SIR =  17.74  dB\n",
      "GMI: 3.96 bits\n",
      "\n"
     ]
    },
    {
     "data": {
      "application/vnd.jupyter.widget-view+json": {
       "model_id": "422510190b564fdc8b2a51eeae7bc720",
       "version_major": 2,
       "version_minor": 0
      },
      "text/plain": [
       "  0%|          | 0/1 [00:00<?, ?it/s]"
      ]
     },
     "metadata": {},
     "output_type": "display_data"
    },
    {
     "name": "stdout",
     "output_type": "stream",
     "text": [
      "CSPR = 15.00 dB\n",
      "Results:\n",
      "BER: 1.26e-03\n",
      "SNR: 16.46 dB\n",
      "SIR =  18.41  dB\n",
      "GMI: 3.98 bits\n",
      "\n"
     ]
    },
    {
     "data": {
      "application/vnd.jupyter.widget-view+json": {
       "model_id": "818ae4de27d74b8094494a43778c3982",
       "version_major": 2,
       "version_minor": 0
      },
      "text/plain": [
       "  0%|          | 0/1 [00:00<?, ?it/s]"
      ]
     },
     "metadata": {},
     "output_type": "display_data"
    },
    {
     "name": "stdout",
     "output_type": "stream",
     "text": [
      "CSPR = 15.00 dB\n",
      "Results:\n",
      "BER: 5.09e-04\n",
      "SNR: 17.31 dB\n",
      "SIR =  19.03  dB\n",
      "GMI: 3.99 bits\n",
      "\n"
     ]
    },
    {
     "data": {
      "application/vnd.jupyter.widget-view+json": {
       "model_id": "5d82cc8c20da44b0ac1fa188c0b02893",
       "version_major": 2,
       "version_minor": 0
      },
      "text/plain": [
       "  0%|          | 0/1 [00:00<?, ?it/s]"
      ]
     },
     "metadata": {},
     "output_type": "display_data"
    },
    {
     "name": "stdout",
     "output_type": "stream",
     "text": [
      "CSPR = 15.00 dB\n",
      "Results:\n",
      "BER: 1.25e-04\n",
      "SNR: 18.05 dB\n",
      "SIR =  19.51  dB\n",
      "GMI: 4.00 bits\n",
      "\n"
     ]
    },
    {
     "data": {
      "application/vnd.jupyter.widget-view+json": {
       "model_id": "8172e8d54f7441e2b7cb779c02c74ce2",
       "version_major": 2,
       "version_minor": 0
      },
      "text/plain": [
       "  0%|          | 0/1 [00:00<?, ?it/s]"
      ]
     },
     "metadata": {},
     "output_type": "display_data"
    },
    {
     "name": "stdout",
     "output_type": "stream",
     "text": [
      "CSPR = 15.00 dB\n",
      "Results:\n",
      "BER: 4.69e-05\n",
      "SNR: 18.79 dB\n",
      "SIR =  20.06  dB\n",
      "GMI: 4.00 bits\n",
      "\n"
     ]
    },
    {
     "data": {
      "application/vnd.jupyter.widget-view+json": {
       "model_id": "ac191669c88647fcaab501ab7c50e3d1",
       "version_major": 2,
       "version_minor": 0
      },
      "text/plain": [
       "  0%|          | 0/1 [00:00<?, ?it/s]"
      ]
     },
     "metadata": {},
     "output_type": "display_data"
    },
    {
     "name": "stdout",
     "output_type": "stream",
     "text": [
      "CSPR = 15.00 dB\n",
      "Results:\n",
      "BER: 1.87e-05\n",
      "SNR: 19.46 dB\n",
      "SIR =  20.51  dB\n",
      "GMI: 4.00 bits\n",
      "\n"
     ]
    },
    {
     "data": {
      "application/vnd.jupyter.widget-view+json": {
       "model_id": "b892e8ad835b4c5388f4039f26cc130f",
       "version_major": 2,
       "version_minor": 0
      },
      "text/plain": [
       "  0%|          | 0/1 [00:00<?, ?it/s]"
      ]
     },
     "metadata": {},
     "output_type": "display_data"
    },
    {
     "name": "stdout",
     "output_type": "stream",
     "text": [
      "CSPR = 15.00 dB\n",
      "Results:\n",
      "BER: 0.00e+00\n",
      "SNR: 20.05 dB\n",
      "SIR =  20.86  dB\n",
      "GMI: 4.00 bits\n",
      "\n"
     ]
    },
    {
     "data": {
      "application/vnd.jupyter.widget-view+json": {
       "model_id": "7baab0ae3d5f433b99fd8c67d8b1fa8b",
       "version_major": 2,
       "version_minor": 0
      },
      "text/plain": [
       "  0%|          | 0/10 [00:00<?, ?it/s]"
      ]
     },
     "metadata": {},
     "output_type": "display_data"
    },
    {
     "data": {
      "application/vnd.jupyter.widget-view+json": {
       "model_id": "16680162c11c4615ab0f778b83657559",
       "version_major": 2,
       "version_minor": 0
      },
      "text/plain": [
       "  0%|          | 0/10 [00:00<?, ?it/s]"
      ]
     },
     "metadata": {},
     "output_type": "display_data"
    },
    {
     "data": {
      "application/vnd.jupyter.widget-view+json": {
       "model_id": "05eb4572248048378ad8a67d015daf44",
       "version_major": 2,
       "version_minor": 0
      },
      "text/plain": [
       "  0%|          | 0/1 [00:00<?, ?it/s]"
      ]
     },
     "metadata": {},
     "output_type": "display_data"
    },
    {
     "name": "stdout",
     "output_type": "stream",
     "text": [
      "CSPR = 6.00 dB\n",
      "Results:\n",
      "BER: 1.35e-03\n",
      "SNR: 16.36 dB\n",
      "SIR =  7.12  dB\n",
      "GMI: 3.98 bits\n",
      "\n"
     ]
    },
    {
     "data": {
      "application/vnd.jupyter.widget-view+json": {
       "model_id": "745f65a1e7654ac5a72c1659ea3a367b",
       "version_major": 2,
       "version_minor": 0
      },
      "text/plain": [
       "  0%|          | 0/1 [00:00<?, ?it/s]"
      ]
     },
     "metadata": {},
     "output_type": "display_data"
    },
    {
     "name": "stdout",
     "output_type": "stream",
     "text": [
      "CSPR = 6.00 dB\n",
      "Results:\n",
      "BER: 4.28e-04\n",
      "SNR: 17.39 dB\n",
      "SIR =  7.15  dB\n",
      "GMI: 3.99 bits\n",
      "\n"
     ]
    },
    {
     "data": {
      "application/vnd.jupyter.widget-view+json": {
       "model_id": "0fc1b68bc86f4e48a3f834a3961ece20",
       "version_major": 2,
       "version_minor": 0
      },
      "text/plain": [
       "  0%|          | 0/1 [00:00<?, ?it/s]"
      ]
     },
     "metadata": {},
     "output_type": "display_data"
    },
    {
     "name": "stdout",
     "output_type": "stream",
     "text": [
      "CSPR = 6.00 dB\n",
      "Results:\n",
      "BER: 7.19e-05\n",
      "SNR: 18.35 dB\n",
      "SIR =  7.11  dB\n",
      "GMI: 4.00 bits\n",
      "\n"
     ]
    },
    {
     "data": {
      "application/vnd.jupyter.widget-view+json": {
       "model_id": "edc19be7109847208289df880a5497e7",
       "version_major": 2,
       "version_minor": 0
      },
      "text/plain": [
       "  0%|          | 0/1 [00:00<?, ?it/s]"
      ]
     },
     "metadata": {},
     "output_type": "display_data"
    },
    {
     "name": "stdout",
     "output_type": "stream",
     "text": [
      "CSPR = 6.00 dB\n",
      "Results:\n",
      "BER: 9.37e-06\n",
      "SNR: 19.36 dB\n",
      "SIR =  7.1  dB\n",
      "GMI: 4.00 bits\n",
      "\n"
     ]
    },
    {
     "data": {
      "application/vnd.jupyter.widget-view+json": {
       "model_id": "a9f07753f0884f03bd1df657b8534d58",
       "version_major": 2,
       "version_minor": 0
      },
      "text/plain": [
       "  0%|          | 0/1 [00:00<?, ?it/s]"
      ]
     },
     "metadata": {},
     "output_type": "display_data"
    },
    {
     "name": "stdout",
     "output_type": "stream",
     "text": [
      "CSPR = 6.00 dB\n",
      "Results:\n",
      "BER: 0.00e+00\n",
      "SNR: 20.32 dB\n",
      "SIR =  7.1  dB\n",
      "GMI: 4.00 bits\n",
      "\n"
     ]
    },
    {
     "data": {
      "application/vnd.jupyter.widget-view+json": {
       "model_id": "6e16169369054a0583c167ad9c900d5d",
       "version_major": 2,
       "version_minor": 0
      },
      "text/plain": [
       "  0%|          | 0/1 [00:00<?, ?it/s]"
      ]
     },
     "metadata": {},
     "output_type": "display_data"
    },
    {
     "name": "stdout",
     "output_type": "stream",
     "text": [
      "CSPR = 6.00 dB\n",
      "Results:\n",
      "BER: 0.00e+00\n",
      "SNR: 21.30 dB\n",
      "SIR =  7.11  dB\n",
      "GMI: 4.00 bits\n",
      "\n"
     ]
    },
    {
     "data": {
      "application/vnd.jupyter.widget-view+json": {
       "model_id": "a0859801b87a4f01a334e7cbad6f2a2e",
       "version_major": 2,
       "version_minor": 0
      },
      "text/plain": [
       "  0%|          | 0/1 [00:00<?, ?it/s]"
      ]
     },
     "metadata": {},
     "output_type": "display_data"
    },
    {
     "name": "stdout",
     "output_type": "stream",
     "text": [
      "CSPR = 6.00 dB\n",
      "Results:\n",
      "BER: 0.00e+00\n",
      "SNR: 22.29 dB\n",
      "SIR =  7.1  dB\n",
      "GMI: 4.00 bits\n",
      "\n"
     ]
    },
    {
     "data": {
      "application/vnd.jupyter.widget-view+json": {
       "model_id": "8c50c720c0a048678053a6d316aa37ac",
       "version_major": 2,
       "version_minor": 0
      },
      "text/plain": [
       "  0%|          | 0/1 [00:00<?, ?it/s]"
      ]
     },
     "metadata": {},
     "output_type": "display_data"
    },
    {
     "name": "stdout",
     "output_type": "stream",
     "text": [
      "CSPR = 6.00 dB\n",
      "Results:\n",
      "BER: 0.00e+00\n",
      "SNR: 23.28 dB\n",
      "SIR =  7.12  dB\n",
      "GMI: 4.00 bits\n",
      "\n"
     ]
    },
    {
     "data": {
      "application/vnd.jupyter.widget-view+json": {
       "model_id": "d742d6aa9fa948fbbd59abf497c2ce80",
       "version_major": 2,
       "version_minor": 0
      },
      "text/plain": [
       "  0%|          | 0/1 [00:00<?, ?it/s]"
      ]
     },
     "metadata": {},
     "output_type": "display_data"
    },
    {
     "name": "stdout",
     "output_type": "stream",
     "text": [
      "CSPR = 6.00 dB\n",
      "Results:\n",
      "BER: 0.00e+00\n",
      "SNR: 24.25 dB\n",
      "SIR =  7.11  dB\n",
      "GMI: 4.00 bits\n",
      "\n"
     ]
    },
    {
     "data": {
      "application/vnd.jupyter.widget-view+json": {
       "model_id": "b93657050900490f9d00e72d27b3f30a",
       "version_major": 2,
       "version_minor": 0
      },
      "text/plain": [
       "  0%|          | 0/1 [00:00<?, ?it/s]"
      ]
     },
     "metadata": {},
     "output_type": "display_data"
    },
    {
     "name": "stdout",
     "output_type": "stream",
     "text": [
      "CSPR = 6.00 dB\n",
      "Results:\n",
      "BER: 0.00e+00\n",
      "SNR: 25.23 dB\n",
      "SIR =  7.13  dB\n",
      "GMI: 4.00 bits\n",
      "\n"
     ]
    },
    {
     "data": {
      "application/vnd.jupyter.widget-view+json": {
       "model_id": "29d6f71f0ac247e383939eac9945d821",
       "version_major": 2,
       "version_minor": 0
      },
      "text/plain": [
       "  0%|          | 0/10 [00:00<?, ?it/s]"
      ]
     },
     "metadata": {},
     "output_type": "display_data"
    },
    {
     "data": {
      "application/vnd.jupyter.widget-view+json": {
       "model_id": "d16271f1396f4fd8a002a731d9e0c249",
       "version_major": 2,
       "version_minor": 0
      },
      "text/plain": [
       "  0%|          | 0/1 [00:00<?, ?it/s]"
      ]
     },
     "metadata": {},
     "output_type": "display_data"
    },
    {
     "name": "stdout",
     "output_type": "stream",
     "text": [
      "CSPR = 7.00 dB\n",
      "Results:\n",
      "BER: 1.32e-03\n",
      "SNR: 16.38 dB\n",
      "SIR =  7.1  dB\n",
      "GMI: 3.98 bits\n",
      "\n"
     ]
    },
    {
     "data": {
      "application/vnd.jupyter.widget-view+json": {
       "model_id": "8d8a3aa7897d44f49e897c8a901db066",
       "version_major": 2,
       "version_minor": 0
      },
      "text/plain": [
       "  0%|          | 0/1 [00:00<?, ?it/s]"
      ]
     },
     "metadata": {},
     "output_type": "display_data"
    },
    {
     "name": "stdout",
     "output_type": "stream",
     "text": [
      "CSPR = 7.00 dB\n",
      "Results:\n",
      "BER: 3.62e-04\n",
      "SNR: 17.34 dB\n",
      "SIR =  7.11  dB\n",
      "GMI: 3.99 bits\n",
      "\n"
     ]
    },
    {
     "data": {
      "application/vnd.jupyter.widget-view+json": {
       "model_id": "6e943bfa32714e69b59517d157274706",
       "version_major": 2,
       "version_minor": 0
      },
      "text/plain": [
       "  0%|          | 0/1 [00:00<?, ?it/s]"
      ]
     },
     "metadata": {},
     "output_type": "display_data"
    },
    {
     "name": "stdout",
     "output_type": "stream",
     "text": [
      "CSPR = 7.00 dB\n",
      "Results:\n",
      "BER: 9.38e-05\n",
      "SNR: 18.32 dB\n",
      "SIR =  7.13  dB\n",
      "GMI: 4.00 bits\n",
      "\n"
     ]
    },
    {
     "data": {
      "application/vnd.jupyter.widget-view+json": {
       "model_id": "b8533e2459a74c1393df6a3d0f07694a",
       "version_major": 2,
       "version_minor": 0
      },
      "text/plain": [
       "  0%|          | 0/1 [00:00<?, ?it/s]"
      ]
     },
     "metadata": {},
     "output_type": "display_data"
    },
    {
     "name": "stdout",
     "output_type": "stream",
     "text": [
      "CSPR = 7.00 dB\n",
      "Results:\n",
      "BER: 6.25e-06\n",
      "SNR: 19.34 dB\n",
      "SIR =  7.12  dB\n",
      "GMI: 4.00 bits\n",
      "\n"
     ]
    },
    {
     "data": {
      "application/vnd.jupyter.widget-view+json": {
       "model_id": "3d2e26759f404eb68c488a4a400765ca",
       "version_major": 2,
       "version_minor": 0
      },
      "text/plain": [
       "  0%|          | 0/1 [00:00<?, ?it/s]"
      ]
     },
     "metadata": {},
     "output_type": "display_data"
    },
    {
     "name": "stdout",
     "output_type": "stream",
     "text": [
      "CSPR = 7.00 dB\n",
      "Results:\n",
      "BER: 0.00e+00\n",
      "SNR: 20.33 dB\n",
      "SIR =  7.11  dB\n",
      "GMI: 4.00 bits\n",
      "\n"
     ]
    },
    {
     "data": {
      "application/vnd.jupyter.widget-view+json": {
       "model_id": "335a78cda30443debb32ad6e923cd35e",
       "version_major": 2,
       "version_minor": 0
      },
      "text/plain": [
       "  0%|          | 0/1 [00:00<?, ?it/s]"
      ]
     },
     "metadata": {},
     "output_type": "display_data"
    },
    {
     "name": "stdout",
     "output_type": "stream",
     "text": [
      "CSPR = 7.00 dB\n",
      "Results:\n",
      "BER: 0.00e+00\n",
      "SNR: 21.30 dB\n",
      "SIR =  7.12  dB\n",
      "GMI: 4.00 bits\n",
      "\n"
     ]
    },
    {
     "data": {
      "application/vnd.jupyter.widget-view+json": {
       "model_id": "782278c805fd496685f8e62e7603f2f3",
       "version_major": 2,
       "version_minor": 0
      },
      "text/plain": [
       "  0%|          | 0/1 [00:00<?, ?it/s]"
      ]
     },
     "metadata": {},
     "output_type": "display_data"
    },
    {
     "name": "stdout",
     "output_type": "stream",
     "text": [
      "CSPR = 7.00 dB\n",
      "Results:\n",
      "BER: 0.00e+00\n",
      "SNR: 22.34 dB\n",
      "SIR =  7.1  dB\n",
      "GMI: 4.00 bits\n",
      "\n"
     ]
    },
    {
     "data": {
      "application/vnd.jupyter.widget-view+json": {
       "model_id": "233fd58b58134e35b364bac668bdf0c1",
       "version_major": 2,
       "version_minor": 0
      },
      "text/plain": [
       "  0%|          | 0/1 [00:00<?, ?it/s]"
      ]
     },
     "metadata": {},
     "output_type": "display_data"
    },
    {
     "name": "stdout",
     "output_type": "stream",
     "text": [
      "CSPR = 7.00 dB\n",
      "Results:\n",
      "BER: 0.00e+00\n",
      "SNR: 23.24 dB\n",
      "SIR =  7.12  dB\n",
      "GMI: 4.00 bits\n",
      "\n"
     ]
    },
    {
     "data": {
      "application/vnd.jupyter.widget-view+json": {
       "model_id": "d5b0439d527d413fbee7489d500f6bc7",
       "version_major": 2,
       "version_minor": 0
      },
      "text/plain": [
       "  0%|          | 0/1 [00:00<?, ?it/s]"
      ]
     },
     "metadata": {},
     "output_type": "display_data"
    },
    {
     "name": "stdout",
     "output_type": "stream",
     "text": [
      "CSPR = 7.00 dB\n",
      "Results:\n",
      "BER: 0.00e+00\n",
      "SNR: 24.24 dB\n",
      "SIR =  7.11  dB\n",
      "GMI: 4.00 bits\n",
      "\n"
     ]
    },
    {
     "data": {
      "application/vnd.jupyter.widget-view+json": {
       "model_id": "a40637f0cbb644f3b227bb421daa27e5",
       "version_major": 2,
       "version_minor": 0
      },
      "text/plain": [
       "  0%|          | 0/1 [00:00<?, ?it/s]"
      ]
     },
     "metadata": {},
     "output_type": "display_data"
    },
    {
     "name": "stdout",
     "output_type": "stream",
     "text": [
      "CSPR = 7.00 dB\n",
      "Results:\n",
      "BER: 0.00e+00\n",
      "SNR: 25.15 dB\n",
      "SIR =  7.12  dB\n",
      "GMI: 4.00 bits\n",
      "\n"
     ]
    },
    {
     "data": {
      "application/vnd.jupyter.widget-view+json": {
       "model_id": "5f22306c0c1e4fa4885f45ebe9c51068",
       "version_major": 2,
       "version_minor": 0
      },
      "text/plain": [
       "  0%|          | 0/10 [00:00<?, ?it/s]"
      ]
     },
     "metadata": {},
     "output_type": "display_data"
    },
    {
     "data": {
      "application/vnd.jupyter.widget-view+json": {
       "model_id": "73c7d010b927460da7ec979b7d00f5fa",
       "version_major": 2,
       "version_minor": 0
      },
      "text/plain": [
       "  0%|          | 0/1 [00:00<?, ?it/s]"
      ]
     },
     "metadata": {},
     "output_type": "display_data"
    },
    {
     "name": "stdout",
     "output_type": "stream",
     "text": [
      "CSPR = 8.00 dB\n",
      "Results:\n",
      "BER: 1.39e-03\n",
      "SNR: 16.37 dB\n",
      "SIR =  7.11  dB\n",
      "GMI: 3.98 bits\n",
      "\n"
     ]
    },
    {
     "data": {
      "application/vnd.jupyter.widget-view+json": {
       "model_id": "d0d9a9c7fed74676916028f8a9b57c7a",
       "version_major": 2,
       "version_minor": 0
      },
      "text/plain": [
       "  0%|          | 0/1 [00:00<?, ?it/s]"
      ]
     },
     "metadata": {},
     "output_type": "display_data"
    },
    {
     "name": "stdout",
     "output_type": "stream",
     "text": [
      "CSPR = 8.00 dB\n",
      "Results:\n",
      "BER: 3.84e-04\n",
      "SNR: 17.37 dB\n",
      "SIR =  7.11  dB\n",
      "GMI: 3.99 bits\n",
      "\n"
     ]
    },
    {
     "data": {
      "application/vnd.jupyter.widget-view+json": {
       "model_id": "9b96830f1f444256823dae0b2fbaa827",
       "version_major": 2,
       "version_minor": 0
      },
      "text/plain": [
       "  0%|          | 0/1 [00:00<?, ?it/s]"
      ]
     },
     "metadata": {},
     "output_type": "display_data"
    },
    {
     "name": "stdout",
     "output_type": "stream",
     "text": [
      "CSPR = 8.00 dB\n",
      "Results:\n",
      "BER: 9.38e-05\n",
      "SNR: 18.35 dB\n",
      "SIR =  7.11  dB\n",
      "GMI: 4.00 bits\n",
      "\n"
     ]
    },
    {
     "data": {
      "application/vnd.jupyter.widget-view+json": {
       "model_id": "d1ecdc2d6a9146cc916e5decdac162f6",
       "version_major": 2,
       "version_minor": 0
      },
      "text/plain": [
       "  0%|          | 0/1 [00:00<?, ?it/s]"
      ]
     },
     "metadata": {},
     "output_type": "display_data"
    },
    {
     "name": "stdout",
     "output_type": "stream",
     "text": [
      "CSPR = 8.00 dB\n",
      "Results:\n",
      "BER: 1.25e-05\n",
      "SNR: 19.33 dB\n",
      "SIR =  7.13  dB\n",
      "GMI: 4.00 bits\n",
      "\n"
     ]
    },
    {
     "data": {
      "application/vnd.jupyter.widget-view+json": {
       "model_id": "9da69f051adf4f08b79d639a52f8a1ce",
       "version_major": 2,
       "version_minor": 0
      },
      "text/plain": [
       "  0%|          | 0/1 [00:00<?, ?it/s]"
      ]
     },
     "metadata": {},
     "output_type": "display_data"
    },
    {
     "name": "stdout",
     "output_type": "stream",
     "text": [
      "CSPR = 8.00 dB\n",
      "Results:\n",
      "BER: 0.00e+00\n",
      "SNR: 20.34 dB\n",
      "SIR =  7.12  dB\n",
      "GMI: 4.00 bits\n",
      "\n"
     ]
    },
    {
     "data": {
      "application/vnd.jupyter.widget-view+json": {
       "model_id": "cc7167119ca648fbb78c26723ee02b67",
       "version_major": 2,
       "version_minor": 0
      },
      "text/plain": [
       "  0%|          | 0/1 [00:00<?, ?it/s]"
      ]
     },
     "metadata": {},
     "output_type": "display_data"
    },
    {
     "name": "stdout",
     "output_type": "stream",
     "text": [
      "CSPR = 8.00 dB\n",
      "Results:\n",
      "BER: 0.00e+00\n",
      "SNR: 21.33 dB\n",
      "SIR =  7.1  dB\n",
      "GMI: 4.00 bits\n",
      "\n"
     ]
    },
    {
     "data": {
      "application/vnd.jupyter.widget-view+json": {
       "model_id": "4dadb5d1d98a40a78b3107845b3a1d47",
       "version_major": 2,
       "version_minor": 0
      },
      "text/plain": [
       "  0%|          | 0/1 [00:00<?, ?it/s]"
      ]
     },
     "metadata": {},
     "output_type": "display_data"
    },
    {
     "name": "stdout",
     "output_type": "stream",
     "text": [
      "CSPR = 8.00 dB\n",
      "Results:\n",
      "BER: 0.00e+00\n",
      "SNR: 22.30 dB\n",
      "SIR =  7.12  dB\n",
      "GMI: 4.00 bits\n",
      "\n"
     ]
    },
    {
     "data": {
      "application/vnd.jupyter.widget-view+json": {
       "model_id": "f0cbf4d30ee847e98bd805350eb6ed89",
       "version_major": 2,
       "version_minor": 0
      },
      "text/plain": [
       "  0%|          | 0/1 [00:00<?, ?it/s]"
      ]
     },
     "metadata": {},
     "output_type": "display_data"
    },
    {
     "name": "stdout",
     "output_type": "stream",
     "text": [
      "CSPR = 8.00 dB\n",
      "Results:\n",
      "BER: 0.00e+00\n",
      "SNR: 23.28 dB\n",
      "SIR =  7.11  dB\n",
      "GMI: 4.00 bits\n",
      "\n"
     ]
    },
    {
     "data": {
      "application/vnd.jupyter.widget-view+json": {
       "model_id": "16c8aeb56ff14784aec216ec43bf6775",
       "version_major": 2,
       "version_minor": 0
      },
      "text/plain": [
       "  0%|          | 0/1 [00:00<?, ?it/s]"
      ]
     },
     "metadata": {},
     "output_type": "display_data"
    },
    {
     "name": "stdout",
     "output_type": "stream",
     "text": [
      "CSPR = 8.00 dB\n",
      "Results:\n",
      "BER: 0.00e+00\n",
      "SNR: 24.23 dB\n",
      "SIR =  7.08  dB\n",
      "GMI: 4.00 bits\n",
      "\n"
     ]
    },
    {
     "data": {
      "application/vnd.jupyter.widget-view+json": {
       "model_id": "a919275d216f4542826a5d6afa1bd433",
       "version_major": 2,
       "version_minor": 0
      },
      "text/plain": [
       "  0%|          | 0/1 [00:00<?, ?it/s]"
      ]
     },
     "metadata": {},
     "output_type": "display_data"
    },
    {
     "name": "stdout",
     "output_type": "stream",
     "text": [
      "CSPR = 8.00 dB\n",
      "Results:\n",
      "BER: 0.00e+00\n",
      "SNR: 25.21 dB\n",
      "SIR =  7.1  dB\n",
      "GMI: 4.00 bits\n",
      "\n"
     ]
    },
    {
     "data": {
      "application/vnd.jupyter.widget-view+json": {
       "model_id": "286b8ba924464a6b9354fa0de9d9ef2f",
       "version_major": 2,
       "version_minor": 0
      },
      "text/plain": [
       "  0%|          | 0/10 [00:00<?, ?it/s]"
      ]
     },
     "metadata": {},
     "output_type": "display_data"
    },
    {
     "data": {
      "application/vnd.jupyter.widget-view+json": {
       "model_id": "5eba6b4122174bb681a51cb7da8332f4",
       "version_major": 2,
       "version_minor": 0
      },
      "text/plain": [
       "  0%|          | 0/1 [00:00<?, ?it/s]"
      ]
     },
     "metadata": {},
     "output_type": "display_data"
    },
    {
     "name": "stdout",
     "output_type": "stream",
     "text": [
      "CSPR = 9.00 dB\n",
      "Results:\n",
      "BER: 1.25e-03\n",
      "SNR: 16.36 dB\n",
      "SIR =  7.1  dB\n",
      "GMI: 3.98 bits\n",
      "\n"
     ]
    },
    {
     "data": {
      "application/vnd.jupyter.widget-view+json": {
       "model_id": "1bf1dc68b2eb43d99ffc6876b2b6b47b",
       "version_major": 2,
       "version_minor": 0
      },
      "text/plain": [
       "  0%|          | 0/1 [00:00<?, ?it/s]"
      ]
     },
     "metadata": {},
     "output_type": "display_data"
    },
    {
     "name": "stdout",
     "output_type": "stream",
     "text": [
      "CSPR = 9.00 dB\n",
      "Results:\n",
      "BER: 4.28e-04\n",
      "SNR: 17.36 dB\n",
      "SIR =  7.11  dB\n",
      "GMI: 3.99 bits\n",
      "\n"
     ]
    },
    {
     "data": {
      "application/vnd.jupyter.widget-view+json": {
       "model_id": "e63c975326fe4ae3b67726727a925003",
       "version_major": 2,
       "version_minor": 0
      },
      "text/plain": [
       "  0%|          | 0/1 [00:00<?, ?it/s]"
      ]
     },
     "metadata": {},
     "output_type": "display_data"
    },
    {
     "name": "stdout",
     "output_type": "stream",
     "text": [
      "CSPR = 9.00 dB\n",
      "Results:\n",
      "BER: 8.75e-05\n",
      "SNR: 18.33 dB\n",
      "SIR =  7.11  dB\n",
      "GMI: 4.00 bits\n",
      "\n"
     ]
    },
    {
     "data": {
      "application/vnd.jupyter.widget-view+json": {
       "model_id": "ee5a73db39f04a859d9bb045f564be83",
       "version_major": 2,
       "version_minor": 0
      },
      "text/plain": [
       "  0%|          | 0/1 [00:00<?, ?it/s]"
      ]
     },
     "metadata": {},
     "output_type": "display_data"
    },
    {
     "name": "stdout",
     "output_type": "stream",
     "text": [
      "CSPR = 9.00 dB\n",
      "Results:\n",
      "BER: 2.19e-05\n",
      "SNR: 19.36 dB\n",
      "SIR =  7.11  dB\n",
      "GMI: 4.00 bits\n",
      "\n"
     ]
    },
    {
     "data": {
      "application/vnd.jupyter.widget-view+json": {
       "model_id": "2f363b5beb41424e88e2492a307e30c9",
       "version_major": 2,
       "version_minor": 0
      },
      "text/plain": [
       "  0%|          | 0/1 [00:00<?, ?it/s]"
      ]
     },
     "metadata": {},
     "output_type": "display_data"
    },
    {
     "name": "stdout",
     "output_type": "stream",
     "text": [
      "CSPR = 9.00 dB\n",
      "Results:\n",
      "BER: 0.00e+00\n",
      "SNR: 20.34 dB\n",
      "SIR =  7.12  dB\n",
      "GMI: 4.00 bits\n",
      "\n"
     ]
    },
    {
     "data": {
      "application/vnd.jupyter.widget-view+json": {
       "model_id": "1082376c9692426f81219bb5d8531af5",
       "version_major": 2,
       "version_minor": 0
      },
      "text/plain": [
       "  0%|          | 0/1 [00:00<?, ?it/s]"
      ]
     },
     "metadata": {},
     "output_type": "display_data"
    },
    {
     "name": "stdout",
     "output_type": "stream",
     "text": [
      "CSPR = 9.00 dB\n",
      "Results:\n",
      "BER: 0.00e+00\n",
      "SNR: 21.32 dB\n",
      "SIR =  7.12  dB\n",
      "GMI: 4.00 bits\n",
      "\n"
     ]
    },
    {
     "data": {
      "application/vnd.jupyter.widget-view+json": {
       "model_id": "fed55567e56c4caa8bfafc03b99c60f0",
       "version_major": 2,
       "version_minor": 0
      },
      "text/plain": [
       "  0%|          | 0/1 [00:00<?, ?it/s]"
      ]
     },
     "metadata": {},
     "output_type": "display_data"
    },
    {
     "name": "stdout",
     "output_type": "stream",
     "text": [
      "CSPR = 9.00 dB\n",
      "Results:\n",
      "BER: 0.00e+00\n",
      "SNR: 22.30 dB\n",
      "SIR =  7.12  dB\n",
      "GMI: 4.00 bits\n",
      "\n"
     ]
    },
    {
     "data": {
      "application/vnd.jupyter.widget-view+json": {
       "model_id": "7186e690eeab47cbba4020f72522c288",
       "version_major": 2,
       "version_minor": 0
      },
      "text/plain": [
       "  0%|          | 0/1 [00:00<?, ?it/s]"
      ]
     },
     "metadata": {},
     "output_type": "display_data"
    },
    {
     "name": "stdout",
     "output_type": "stream",
     "text": [
      "CSPR = 9.00 dB\n",
      "Results:\n",
      "BER: 0.00e+00\n",
      "SNR: 23.28 dB\n",
      "SIR =  7.11  dB\n",
      "GMI: 4.00 bits\n",
      "\n"
     ]
    },
    {
     "data": {
      "application/vnd.jupyter.widget-view+json": {
       "model_id": "b80bdb6108dc4159aa888097964e7089",
       "version_major": 2,
       "version_minor": 0
      },
      "text/plain": [
       "  0%|          | 0/1 [00:00<?, ?it/s]"
      ]
     },
     "metadata": {},
     "output_type": "display_data"
    },
    {
     "name": "stdout",
     "output_type": "stream",
     "text": [
      "CSPR = 9.00 dB\n",
      "Results:\n",
      "BER: 0.00e+00\n",
      "SNR: 24.25 dB\n",
      "SIR =  7.12  dB\n",
      "GMI: 4.00 bits\n",
      "\n"
     ]
    },
    {
     "data": {
      "application/vnd.jupyter.widget-view+json": {
       "model_id": "d2815b2ea97548be83bffb110d6ffd75",
       "version_major": 2,
       "version_minor": 0
      },
      "text/plain": [
       "  0%|          | 0/1 [00:00<?, ?it/s]"
      ]
     },
     "metadata": {},
     "output_type": "display_data"
    },
    {
     "name": "stdout",
     "output_type": "stream",
     "text": [
      "CSPR = 9.00 dB\n",
      "Results:\n",
      "BER: 0.00e+00\n",
      "SNR: 25.21 dB\n",
      "SIR =  7.11  dB\n",
      "GMI: 4.00 bits\n",
      "\n"
     ]
    },
    {
     "data": {
      "application/vnd.jupyter.widget-view+json": {
       "model_id": "7312d13909134123b0ad176c2cdaf888",
       "version_major": 2,
       "version_minor": 0
      },
      "text/plain": [
       "  0%|          | 0/10 [00:00<?, ?it/s]"
      ]
     },
     "metadata": {},
     "output_type": "display_data"
    },
    {
     "data": {
      "application/vnd.jupyter.widget-view+json": {
       "model_id": "3c10489c698d4a46b4dd2116d3af933e",
       "version_major": 2,
       "version_minor": 0
      },
      "text/plain": [
       "  0%|          | 0/1 [00:00<?, ?it/s]"
      ]
     },
     "metadata": {},
     "output_type": "display_data"
    },
    {
     "name": "stdout",
     "output_type": "stream",
     "text": [
      "CSPR = 10.00 dB\n",
      "Results:\n",
      "BER: 1.25e-03\n",
      "SNR: 16.39 dB\n",
      "SIR =  7.11  dB\n",
      "GMI: 3.98 bits\n",
      "\n"
     ]
    },
    {
     "data": {
      "application/vnd.jupyter.widget-view+json": {
       "model_id": "1c2da8ea4f0d430884e75a54ee0ca8f7",
       "version_major": 2,
       "version_minor": 0
      },
      "text/plain": [
       "  0%|          | 0/1 [00:00<?, ?it/s]"
      ]
     },
     "metadata": {},
     "output_type": "display_data"
    },
    {
     "name": "stdout",
     "output_type": "stream",
     "text": [
      "CSPR = 10.00 dB\n",
      "Results:\n",
      "BER: 3.53e-04\n",
      "SNR: 17.37 dB\n",
      "SIR =  7.1  dB\n",
      "GMI: 3.99 bits\n",
      "\n"
     ]
    },
    {
     "data": {
      "application/vnd.jupyter.widget-view+json": {
       "model_id": "5307927336be47a1ade267c24ba960c0",
       "version_major": 2,
       "version_minor": 0
      },
      "text/plain": [
       "  0%|          | 0/1 [00:00<?, ?it/s]"
      ]
     },
     "metadata": {},
     "output_type": "display_data"
    },
    {
     "name": "stdout",
     "output_type": "stream",
     "text": [
      "CSPR = 10.00 dB\n",
      "Results:\n",
      "BER: 8.12e-05\n",
      "SNR: 18.36 dB\n",
      "SIR =  7.12  dB\n",
      "GMI: 4.00 bits\n",
      "\n"
     ]
    },
    {
     "data": {
      "application/vnd.jupyter.widget-view+json": {
       "model_id": "12d3cc06feba44e5a5c8d2b86848e0ef",
       "version_major": 2,
       "version_minor": 0
      },
      "text/plain": [
       "  0%|          | 0/1 [00:00<?, ?it/s]"
      ]
     },
     "metadata": {},
     "output_type": "display_data"
    },
    {
     "name": "stdout",
     "output_type": "stream",
     "text": [
      "CSPR = 10.00 dB\n",
      "Results:\n",
      "BER: 1.56e-05\n",
      "SNR: 19.33 dB\n",
      "SIR =  7.11  dB\n",
      "GMI: 4.00 bits\n",
      "\n"
     ]
    },
    {
     "data": {
      "application/vnd.jupyter.widget-view+json": {
       "model_id": "b62fccd791644a95a9381c6f0606d97c",
       "version_major": 2,
       "version_minor": 0
      },
      "text/plain": [
       "  0%|          | 0/1 [00:00<?, ?it/s]"
      ]
     },
     "metadata": {},
     "output_type": "display_data"
    },
    {
     "name": "stdout",
     "output_type": "stream",
     "text": [
      "CSPR = 10.00 dB\n",
      "Results:\n",
      "BER: 1.25e-05\n",
      "SNR: 20.37 dB\n",
      "SIR =  7.12  dB\n",
      "GMI: 4.00 bits\n",
      "\n"
     ]
    },
    {
     "data": {
      "application/vnd.jupyter.widget-view+json": {
       "model_id": "7d604a2459bc4b1d86a52c984f0e67a8",
       "version_major": 2,
       "version_minor": 0
      },
      "text/plain": [
       "  0%|          | 0/1 [00:00<?, ?it/s]"
      ]
     },
     "metadata": {},
     "output_type": "display_data"
    },
    {
     "name": "stdout",
     "output_type": "stream",
     "text": [
      "CSPR = 10.00 dB\n",
      "Results:\n",
      "BER: 0.00e+00\n",
      "SNR: 21.32 dB\n",
      "SIR =  7.11  dB\n",
      "GMI: 4.00 bits\n",
      "\n"
     ]
    },
    {
     "data": {
      "application/vnd.jupyter.widget-view+json": {
       "model_id": "2b9d171217644f258a2edb8ebe1914d5",
       "version_major": 2,
       "version_minor": 0
      },
      "text/plain": [
       "  0%|          | 0/1 [00:00<?, ?it/s]"
      ]
     },
     "metadata": {},
     "output_type": "display_data"
    },
    {
     "name": "stdout",
     "output_type": "stream",
     "text": [
      "CSPR = 10.00 dB\n",
      "Results:\n",
      "BER: 0.00e+00\n",
      "SNR: 22.31 dB\n",
      "SIR =  7.11  dB\n",
      "GMI: 4.00 bits\n",
      "\n"
     ]
    },
    {
     "data": {
      "application/vnd.jupyter.widget-view+json": {
       "model_id": "1a17ce1efa18472385ccf3467980b94f",
       "version_major": 2,
       "version_minor": 0
      },
      "text/plain": [
       "  0%|          | 0/1 [00:00<?, ?it/s]"
      ]
     },
     "metadata": {},
     "output_type": "display_data"
    },
    {
     "name": "stdout",
     "output_type": "stream",
     "text": [
      "CSPR = 10.00 dB\n",
      "Results:\n",
      "BER: 0.00e+00\n",
      "SNR: 23.25 dB\n",
      "SIR =  7.1  dB\n",
      "GMI: 4.00 bits\n",
      "\n"
     ]
    },
    {
     "data": {
      "application/vnd.jupyter.widget-view+json": {
       "model_id": "b9e05f7e4cd24c428c1cbb01e5a77a61",
       "version_major": 2,
       "version_minor": 0
      },
      "text/plain": [
       "  0%|          | 0/1 [00:00<?, ?it/s]"
      ]
     },
     "metadata": {},
     "output_type": "display_data"
    },
    {
     "name": "stdout",
     "output_type": "stream",
     "text": [
      "CSPR = 10.00 dB\n",
      "Results:\n",
      "BER: 0.00e+00\n",
      "SNR: 24.23 dB\n",
      "SIR =  7.12  dB\n",
      "GMI: 4.00 bits\n",
      "\n"
     ]
    },
    {
     "data": {
      "application/vnd.jupyter.widget-view+json": {
       "model_id": "6ca8c35ebfd14525bd9d7c814cb31516",
       "version_major": 2,
       "version_minor": 0
      },
      "text/plain": [
       "  0%|          | 0/1 [00:00<?, ?it/s]"
      ]
     },
     "metadata": {},
     "output_type": "display_data"
    },
    {
     "name": "stdout",
     "output_type": "stream",
     "text": [
      "CSPR = 10.00 dB\n",
      "Results:\n",
      "BER: 0.00e+00\n",
      "SNR: 25.20 dB\n",
      "SIR =  7.11  dB\n",
      "GMI: 4.00 bits\n",
      "\n"
     ]
    },
    {
     "data": {
      "application/vnd.jupyter.widget-view+json": {
       "model_id": "955bf005bc5f405189623c26612eb2b4",
       "version_major": 2,
       "version_minor": 0
      },
      "text/plain": [
       "  0%|          | 0/10 [00:00<?, ?it/s]"
      ]
     },
     "metadata": {},
     "output_type": "display_data"
    },
    {
     "data": {
      "application/vnd.jupyter.widget-view+json": {
       "model_id": "d5bc68c688ce4db6bc8bd8c6690d30f4",
       "version_major": 2,
       "version_minor": 0
      },
      "text/plain": [
       "  0%|          | 0/1 [00:00<?, ?it/s]"
      ]
     },
     "metadata": {},
     "output_type": "display_data"
    },
    {
     "name": "stdout",
     "output_type": "stream",
     "text": [
      "CSPR = 11.00 dB\n",
      "Results:\n",
      "BER: 1.31e-03\n",
      "SNR: 16.36 dB\n",
      "SIR =  7.11  dB\n",
      "GMI: 3.98 bits\n",
      "\n"
     ]
    },
    {
     "data": {
      "application/vnd.jupyter.widget-view+json": {
       "model_id": "83414de56feb4183bb77ee090eee2e76",
       "version_major": 2,
       "version_minor": 0
      },
      "text/plain": [
       "  0%|          | 0/1 [00:00<?, ?it/s]"
      ]
     },
     "metadata": {},
     "output_type": "display_data"
    },
    {
     "name": "stdout",
     "output_type": "stream",
     "text": [
      "CSPR = 11.00 dB\n",
      "Results:\n",
      "BER: 3.44e-04\n",
      "SNR: 17.36 dB\n",
      "SIR =  7.09  dB\n",
      "GMI: 3.99 bits\n",
      "\n"
     ]
    },
    {
     "data": {
      "application/vnd.jupyter.widget-view+json": {
       "model_id": "47be72e275a641f295f505edf9fb6fbc",
       "version_major": 2,
       "version_minor": 0
      },
      "text/plain": [
       "  0%|          | 0/1 [00:00<?, ?it/s]"
      ]
     },
     "metadata": {},
     "output_type": "display_data"
    },
    {
     "name": "stdout",
     "output_type": "stream",
     "text": [
      "CSPR = 11.00 dB\n",
      "Results:\n",
      "BER: 6.88e-05\n",
      "SNR: 18.35 dB\n",
      "SIR =  7.11  dB\n",
      "GMI: 4.00 bits\n",
      "\n"
     ]
    },
    {
     "data": {
      "application/vnd.jupyter.widget-view+json": {
       "model_id": "cebab5455f5b4582bc5a418993ccd4c6",
       "version_major": 2,
       "version_minor": 0
      },
      "text/plain": [
       "  0%|          | 0/1 [00:00<?, ?it/s]"
      ]
     },
     "metadata": {},
     "output_type": "display_data"
    },
    {
     "name": "stdout",
     "output_type": "stream",
     "text": [
      "CSPR = 11.00 dB\n",
      "Results:\n",
      "BER: 1.56e-05\n",
      "SNR: 19.35 dB\n",
      "SIR =  7.1  dB\n",
      "GMI: 4.00 bits\n",
      "\n"
     ]
    },
    {
     "data": {
      "application/vnd.jupyter.widget-view+json": {
       "model_id": "6408b82e9baf4b80aab472e489880257",
       "version_major": 2,
       "version_minor": 0
      },
      "text/plain": [
       "  0%|          | 0/1 [00:00<?, ?it/s]"
      ]
     },
     "metadata": {},
     "output_type": "display_data"
    },
    {
     "name": "stdout",
     "output_type": "stream",
     "text": [
      "CSPR = 11.00 dB\n",
      "Results:\n",
      "BER: 3.13e-06\n",
      "SNR: 20.36 dB\n",
      "SIR =  7.12  dB\n",
      "GMI: 4.00 bits\n",
      "\n"
     ]
    },
    {
     "data": {
      "application/vnd.jupyter.widget-view+json": {
       "model_id": "c57e24fe0afd4e29a1a3a3b49219bea3",
       "version_major": 2,
       "version_minor": 0
      },
      "text/plain": [
       "  0%|          | 0/1 [00:00<?, ?it/s]"
      ]
     },
     "metadata": {},
     "output_type": "display_data"
    },
    {
     "name": "stdout",
     "output_type": "stream",
     "text": [
      "CSPR = 11.00 dB\n",
      "Results:\n",
      "BER: 0.00e+00\n",
      "SNR: 21.30 dB\n",
      "SIR =  7.12  dB\n",
      "GMI: 4.00 bits\n",
      "\n"
     ]
    },
    {
     "data": {
      "application/vnd.jupyter.widget-view+json": {
       "model_id": "fe05f23d56254af384ef95224cde244a",
       "version_major": 2,
       "version_minor": 0
      },
      "text/plain": [
       "  0%|          | 0/1 [00:00<?, ?it/s]"
      ]
     },
     "metadata": {},
     "output_type": "display_data"
    },
    {
     "name": "stdout",
     "output_type": "stream",
     "text": [
      "CSPR = 11.00 dB\n",
      "Results:\n",
      "BER: 0.00e+00\n",
      "SNR: 22.30 dB\n",
      "SIR =  7.1  dB\n",
      "GMI: 4.00 bits\n",
      "\n"
     ]
    },
    {
     "data": {
      "application/vnd.jupyter.widget-view+json": {
       "model_id": "6ccacb0b7ecf4f1db8c1cd8d8e5840a5",
       "version_major": 2,
       "version_minor": 0
      },
      "text/plain": [
       "  0%|          | 0/1 [00:00<?, ?it/s]"
      ]
     },
     "metadata": {},
     "output_type": "display_data"
    },
    {
     "name": "stdout",
     "output_type": "stream",
     "text": [
      "CSPR = 11.00 dB\n",
      "Results:\n",
      "BER: 0.00e+00\n",
      "SNR: 23.26 dB\n",
      "SIR =  7.1  dB\n",
      "GMI: 4.00 bits\n",
      "\n"
     ]
    },
    {
     "data": {
      "application/vnd.jupyter.widget-view+json": {
       "model_id": "82b5bede80054defb03ffdb100e10470",
       "version_major": 2,
       "version_minor": 0
      },
      "text/plain": [
       "  0%|          | 0/1 [00:00<?, ?it/s]"
      ]
     },
     "metadata": {},
     "output_type": "display_data"
    },
    {
     "name": "stdout",
     "output_type": "stream",
     "text": [
      "CSPR = 11.00 dB\n",
      "Results:\n",
      "BER: 0.00e+00\n",
      "SNR: 24.23 dB\n",
      "SIR =  7.12  dB\n",
      "GMI: 4.00 bits\n",
      "\n"
     ]
    },
    {
     "data": {
      "application/vnd.jupyter.widget-view+json": {
       "model_id": "f47dd10ee04348efa7bbdf7b07fe2336",
       "version_major": 2,
       "version_minor": 0
      },
      "text/plain": [
       "  0%|          | 0/1 [00:00<?, ?it/s]"
      ]
     },
     "metadata": {},
     "output_type": "display_data"
    },
    {
     "name": "stdout",
     "output_type": "stream",
     "text": [
      "CSPR = 11.00 dB\n",
      "Results:\n",
      "BER: 0.00e+00\n",
      "SNR: 25.20 dB\n",
      "SIR =  7.11  dB\n",
      "GMI: 4.00 bits\n",
      "\n"
     ]
    },
    {
     "data": {
      "application/vnd.jupyter.widget-view+json": {
       "model_id": "772c197a7461442d8920dc658fd2bb04",
       "version_major": 2,
       "version_minor": 0
      },
      "text/plain": [
       "  0%|          | 0/10 [00:00<?, ?it/s]"
      ]
     },
     "metadata": {},
     "output_type": "display_data"
    },
    {
     "data": {
      "application/vnd.jupyter.widget-view+json": {
       "model_id": "31c631c6a0844f7dac35e390ffe50fe6",
       "version_major": 2,
       "version_minor": 0
      },
      "text/plain": [
       "  0%|          | 0/1 [00:00<?, ?it/s]"
      ]
     },
     "metadata": {},
     "output_type": "display_data"
    },
    {
     "name": "stdout",
     "output_type": "stream",
     "text": [
      "CSPR = 12.00 dB\n",
      "Results:\n",
      "BER: 1.30e-03\n",
      "SNR: 16.38 dB\n",
      "SIR =  7.12  dB\n",
      "GMI: 3.98 bits\n",
      "\n"
     ]
    },
    {
     "data": {
      "application/vnd.jupyter.widget-view+json": {
       "model_id": "a05dd117000c4af9987982aeea13ab8c",
       "version_major": 2,
       "version_minor": 0
      },
      "text/plain": [
       "  0%|          | 0/1 [00:00<?, ?it/s]"
      ]
     },
     "metadata": {},
     "output_type": "display_data"
    },
    {
     "name": "stdout",
     "output_type": "stream",
     "text": [
      "CSPR = 12.00 dB\n",
      "Results:\n",
      "BER: 3.87e-04\n",
      "SNR: 17.34 dB\n",
      "SIR =  7.11  dB\n",
      "GMI: 3.99 bits\n",
      "\n"
     ]
    },
    {
     "data": {
      "application/vnd.jupyter.widget-view+json": {
       "model_id": "3d3af215b8e84b57a6de582ad1dba037",
       "version_major": 2,
       "version_minor": 0
      },
      "text/plain": [
       "  0%|          | 0/1 [00:00<?, ?it/s]"
      ]
     },
     "metadata": {},
     "output_type": "display_data"
    },
    {
     "name": "stdout",
     "output_type": "stream",
     "text": [
      "CSPR = 12.00 dB\n",
      "Results:\n",
      "BER: 1.09e-04\n",
      "SNR: 18.35 dB\n",
      "SIR =  7.13  dB\n",
      "GMI: 4.00 bits\n",
      "\n"
     ]
    },
    {
     "data": {
      "application/vnd.jupyter.widget-view+json": {
       "model_id": "5921bd399ef7451a96b45fe511d04563",
       "version_major": 2,
       "version_minor": 0
      },
      "text/plain": [
       "  0%|          | 0/1 [00:00<?, ?it/s]"
      ]
     },
     "metadata": {},
     "output_type": "display_data"
    },
    {
     "name": "stdout",
     "output_type": "stream",
     "text": [
      "CSPR = 12.00 dB\n",
      "Results:\n",
      "BER: 1.56e-05\n",
      "SNR: 19.34 dB\n",
      "SIR =  7.11  dB\n",
      "GMI: 4.00 bits\n",
      "\n"
     ]
    },
    {
     "data": {
      "application/vnd.jupyter.widget-view+json": {
       "model_id": "ad9be77b0aa144208017cffab67c956e",
       "version_major": 2,
       "version_minor": 0
      },
      "text/plain": [
       "  0%|          | 0/1 [00:00<?, ?it/s]"
      ]
     },
     "metadata": {},
     "output_type": "display_data"
    },
    {
     "name": "stdout",
     "output_type": "stream",
     "text": [
      "CSPR = 12.00 dB\n",
      "Results:\n",
      "BER: 0.00e+00\n",
      "SNR: 20.33 dB\n",
      "SIR =  7.13  dB\n",
      "GMI: 4.00 bits\n",
      "\n"
     ]
    },
    {
     "data": {
      "application/vnd.jupyter.widget-view+json": {
       "model_id": "8387f8756020413084f117e57562dc6f",
       "version_major": 2,
       "version_minor": 0
      },
      "text/plain": [
       "  0%|          | 0/1 [00:00<?, ?it/s]"
      ]
     },
     "metadata": {},
     "output_type": "display_data"
    },
    {
     "name": "stdout",
     "output_type": "stream",
     "text": [
      "CSPR = 12.00 dB\n",
      "Results:\n",
      "BER: 0.00e+00\n",
      "SNR: 21.34 dB\n",
      "SIR =  7.12  dB\n",
      "GMI: 4.00 bits\n",
      "\n"
     ]
    },
    {
     "data": {
      "application/vnd.jupyter.widget-view+json": {
       "model_id": "5677b77c06ae44f5a53bb4c559369176",
       "version_major": 2,
       "version_minor": 0
      },
      "text/plain": [
       "  0%|          | 0/1 [00:00<?, ?it/s]"
      ]
     },
     "metadata": {},
     "output_type": "display_data"
    },
    {
     "name": "stdout",
     "output_type": "stream",
     "text": [
      "CSPR = 12.00 dB\n",
      "Results:\n",
      "BER: 0.00e+00\n",
      "SNR: 22.31 dB\n",
      "SIR =  7.12  dB\n",
      "GMI: 4.00 bits\n",
      "\n"
     ]
    },
    {
     "data": {
      "application/vnd.jupyter.widget-view+json": {
       "model_id": "b31f1821b45844ce8fbed799d9c3db8f",
       "version_major": 2,
       "version_minor": 0
      },
      "text/plain": [
       "  0%|          | 0/1 [00:00<?, ?it/s]"
      ]
     },
     "metadata": {},
     "output_type": "display_data"
    },
    {
     "name": "stdout",
     "output_type": "stream",
     "text": [
      "CSPR = 12.00 dB\n",
      "Results:\n",
      "BER: 0.00e+00\n",
      "SNR: 23.27 dB\n",
      "SIR =  7.12  dB\n",
      "GMI: 4.00 bits\n",
      "\n"
     ]
    },
    {
     "data": {
      "application/vnd.jupyter.widget-view+json": {
       "model_id": "f5d08d0594034907bb61961702bd1486",
       "version_major": 2,
       "version_minor": 0
      },
      "text/plain": [
       "  0%|          | 0/1 [00:00<?, ?it/s]"
      ]
     },
     "metadata": {},
     "output_type": "display_data"
    },
    {
     "name": "stdout",
     "output_type": "stream",
     "text": [
      "CSPR = 12.00 dB\n",
      "Results:\n",
      "BER: 0.00e+00\n",
      "SNR: 24.23 dB\n",
      "SIR =  7.1  dB\n",
      "GMI: 4.00 bits\n",
      "\n"
     ]
    },
    {
     "data": {
      "application/vnd.jupyter.widget-view+json": {
       "model_id": "27527c1111594695b806ef0f9958f85d",
       "version_major": 2,
       "version_minor": 0
      },
      "text/plain": [
       "  0%|          | 0/1 [00:00<?, ?it/s]"
      ]
     },
     "metadata": {},
     "output_type": "display_data"
    },
    {
     "name": "stdout",
     "output_type": "stream",
     "text": [
      "CSPR = 12.00 dB\n",
      "Results:\n",
      "BER: 0.00e+00\n",
      "SNR: 25.20 dB\n",
      "SIR =  7.12  dB\n",
      "GMI: 4.00 bits\n",
      "\n"
     ]
    },
    {
     "data": {
      "application/vnd.jupyter.widget-view+json": {
       "model_id": "a9ca580e4325431b9675d362359b77ea",
       "version_major": 2,
       "version_minor": 0
      },
      "text/plain": [
       "  0%|          | 0/10 [00:00<?, ?it/s]"
      ]
     },
     "metadata": {},
     "output_type": "display_data"
    },
    {
     "data": {
      "application/vnd.jupyter.widget-view+json": {
       "model_id": "e1e707dc911041979ef84523d247699a",
       "version_major": 2,
       "version_minor": 0
      },
      "text/plain": [
       "  0%|          | 0/1 [00:00<?, ?it/s]"
      ]
     },
     "metadata": {},
     "output_type": "display_data"
    },
    {
     "name": "stdout",
     "output_type": "stream",
     "text": [
      "CSPR = 13.00 dB\n",
      "Results:\n",
      "BER: 1.48e-03\n",
      "SNR: 16.36 dB\n",
      "SIR =  7.12  dB\n",
      "GMI: 3.98 bits\n",
      "\n"
     ]
    },
    {
     "data": {
      "application/vnd.jupyter.widget-view+json": {
       "model_id": "8c56a9a1d6df431a85a32e7175121837",
       "version_major": 2,
       "version_minor": 0
      },
      "text/plain": [
       "  0%|          | 0/1 [00:00<?, ?it/s]"
      ]
     },
     "metadata": {},
     "output_type": "display_data"
    },
    {
     "name": "stdout",
     "output_type": "stream",
     "text": [
      "CSPR = 13.00 dB\n",
      "Results:\n",
      "BER: 4.44e-04\n",
      "SNR: 17.36 dB\n",
      "SIR =  7.09  dB\n",
      "GMI: 3.99 bits\n",
      "\n"
     ]
    },
    {
     "data": {
      "application/vnd.jupyter.widget-view+json": {
       "model_id": "34e35b52c0a942e9898c4443d213b4de",
       "version_major": 2,
       "version_minor": 0
      },
      "text/plain": [
       "  0%|          | 0/1 [00:00<?, ?it/s]"
      ]
     },
     "metadata": {},
     "output_type": "display_data"
    },
    {
     "name": "stdout",
     "output_type": "stream",
     "text": [
      "CSPR = 13.00 dB\n",
      "Results:\n",
      "BER: 1.09e-04\n",
      "SNR: 18.36 dB\n",
      "SIR =  7.1  dB\n",
      "GMI: 4.00 bits\n",
      "\n"
     ]
    },
    {
     "data": {
      "application/vnd.jupyter.widget-view+json": {
       "model_id": "c3cd43fbecf64b978af83a0d0fbc56b4",
       "version_major": 2,
       "version_minor": 0
      },
      "text/plain": [
       "  0%|          | 0/1 [00:00<?, ?it/s]"
      ]
     },
     "metadata": {},
     "output_type": "display_data"
    },
    {
     "name": "stdout",
     "output_type": "stream",
     "text": [
      "CSPR = 13.00 dB\n",
      "Results:\n",
      "BER: 1.25e-05\n",
      "SNR: 19.31 dB\n",
      "SIR =  7.13  dB\n",
      "GMI: 4.00 bits\n",
      "\n"
     ]
    },
    {
     "data": {
      "application/vnd.jupyter.widget-view+json": {
       "model_id": "0171e4657d164168b595df33a69eac86",
       "version_major": 2,
       "version_minor": 0
      },
      "text/plain": [
       "  0%|          | 0/1 [00:00<?, ?it/s]"
      ]
     },
     "metadata": {},
     "output_type": "display_data"
    },
    {
     "name": "stdout",
     "output_type": "stream",
     "text": [
      "CSPR = 13.00 dB\n",
      "Results:\n",
      "BER: 3.13e-06\n",
      "SNR: 20.32 dB\n",
      "SIR =  7.12  dB\n",
      "GMI: 4.00 bits\n",
      "\n"
     ]
    },
    {
     "data": {
      "application/vnd.jupyter.widget-view+json": {
       "model_id": "2c7c23cad93542b5ad6f336f86675cb7",
       "version_major": 2,
       "version_minor": 0
      },
      "text/plain": [
       "  0%|          | 0/1 [00:00<?, ?it/s]"
      ]
     },
     "metadata": {},
     "output_type": "display_data"
    },
    {
     "name": "stdout",
     "output_type": "stream",
     "text": [
      "CSPR = 13.00 dB\n",
      "Results:\n",
      "BER: 0.00e+00\n",
      "SNR: 21.31 dB\n",
      "SIR =  7.13  dB\n",
      "GMI: 4.00 bits\n",
      "\n"
     ]
    },
    {
     "data": {
      "application/vnd.jupyter.widget-view+json": {
       "model_id": "6bce75cb5195404482a412ac1b3a169b",
       "version_major": 2,
       "version_minor": 0
      },
      "text/plain": [
       "  0%|          | 0/1 [00:00<?, ?it/s]"
      ]
     },
     "metadata": {},
     "output_type": "display_data"
    },
    {
     "name": "stdout",
     "output_type": "stream",
     "text": [
      "CSPR = 13.00 dB\n",
      "Results:\n",
      "BER: 0.00e+00\n",
      "SNR: 22.30 dB\n",
      "SIR =  7.11  dB\n",
      "GMI: 4.00 bits\n",
      "\n"
     ]
    },
    {
     "data": {
      "application/vnd.jupyter.widget-view+json": {
       "model_id": "fe7eef1c2d354f16a2dbf96615709cf8",
       "version_major": 2,
       "version_minor": 0
      },
      "text/plain": [
       "  0%|          | 0/1 [00:00<?, ?it/s]"
      ]
     },
     "metadata": {},
     "output_type": "display_data"
    },
    {
     "name": "stdout",
     "output_type": "stream",
     "text": [
      "CSPR = 13.00 dB\n",
      "Results:\n",
      "BER: 0.00e+00\n",
      "SNR: 23.28 dB\n",
      "SIR =  7.1  dB\n",
      "GMI: 4.00 bits\n",
      "\n"
     ]
    },
    {
     "data": {
      "application/vnd.jupyter.widget-view+json": {
       "model_id": "3c7e6ae8c4054686842d006efd8c70e6",
       "version_major": 2,
       "version_minor": 0
      },
      "text/plain": [
       "  0%|          | 0/1 [00:00<?, ?it/s]"
      ]
     },
     "metadata": {},
     "output_type": "display_data"
    },
    {
     "name": "stdout",
     "output_type": "stream",
     "text": [
      "CSPR = 13.00 dB\n",
      "Results:\n",
      "BER: 0.00e+00\n",
      "SNR: 24.25 dB\n",
      "SIR =  7.11  dB\n",
      "GMI: 4.00 bits\n",
      "\n"
     ]
    },
    {
     "data": {
      "application/vnd.jupyter.widget-view+json": {
       "model_id": "9eb5a0bfc3884736b3a58e07bb19a171",
       "version_major": 2,
       "version_minor": 0
      },
      "text/plain": [
       "  0%|          | 0/1 [00:00<?, ?it/s]"
      ]
     },
     "metadata": {},
     "output_type": "display_data"
    },
    {
     "name": "stdout",
     "output_type": "stream",
     "text": [
      "CSPR = 13.00 dB\n",
      "Results:\n",
      "BER: 0.00e+00\n",
      "SNR: 25.20 dB\n",
      "SIR =  7.13  dB\n",
      "GMI: 4.00 bits\n",
      "\n"
     ]
    },
    {
     "data": {
      "application/vnd.jupyter.widget-view+json": {
       "model_id": "1b81cd4750f242d4a560f9270607ab70",
       "version_major": 2,
       "version_minor": 0
      },
      "text/plain": [
       "  0%|          | 0/10 [00:00<?, ?it/s]"
      ]
     },
     "metadata": {},
     "output_type": "display_data"
    },
    {
     "data": {
      "application/vnd.jupyter.widget-view+json": {
       "model_id": "570ec55758dd4d14bcfd058ea105fc4a",
       "version_major": 2,
       "version_minor": 0
      },
      "text/plain": [
       "  0%|          | 0/1 [00:00<?, ?it/s]"
      ]
     },
     "metadata": {},
     "output_type": "display_data"
    },
    {
     "name": "stdout",
     "output_type": "stream",
     "text": [
      "CSPR = 14.00 dB\n",
      "Results:\n",
      "BER: 1.35e-03\n",
      "SNR: 16.39 dB\n",
      "SIR =  7.11  dB\n",
      "GMI: 3.98 bits\n",
      "\n"
     ]
    },
    {
     "data": {
      "application/vnd.jupyter.widget-view+json": {
       "model_id": "fc72bfb289e6437e9c288cc6ea4c44cf",
       "version_major": 2,
       "version_minor": 0
      },
      "text/plain": [
       "  0%|          | 0/1 [00:00<?, ?it/s]"
      ]
     },
     "metadata": {},
     "output_type": "display_data"
    },
    {
     "name": "stdout",
     "output_type": "stream",
     "text": [
      "CSPR = 14.00 dB\n",
      "Results:\n",
      "BER: 3.94e-04\n",
      "SNR: 17.36 dB\n",
      "SIR =  7.1  dB\n",
      "GMI: 3.99 bits\n",
      "\n"
     ]
    },
    {
     "data": {
      "application/vnd.jupyter.widget-view+json": {
       "model_id": "025ff6d79937480d88ce8459e09be808",
       "version_major": 2,
       "version_minor": 0
      },
      "text/plain": [
       "  0%|          | 0/1 [00:00<?, ?it/s]"
      ]
     },
     "metadata": {},
     "output_type": "display_data"
    },
    {
     "name": "stdout",
     "output_type": "stream",
     "text": [
      "CSPR = 14.00 dB\n",
      "Results:\n",
      "BER: 8.44e-05\n",
      "SNR: 18.36 dB\n",
      "SIR =  7.12  dB\n",
      "GMI: 4.00 bits\n",
      "\n"
     ]
    },
    {
     "data": {
      "application/vnd.jupyter.widget-view+json": {
       "model_id": "e01dc48db7cb43f3ab230ee1aaae6857",
       "version_major": 2,
       "version_minor": 0
      },
      "text/plain": [
       "  0%|          | 0/1 [00:00<?, ?it/s]"
      ]
     },
     "metadata": {},
     "output_type": "display_data"
    },
    {
     "name": "stdout",
     "output_type": "stream",
     "text": [
      "CSPR = 14.00 dB\n",
      "Results:\n",
      "BER: 6.25e-06\n",
      "SNR: 19.36 dB\n",
      "SIR =  7.11  dB\n",
      "GMI: 4.00 bits\n",
      "\n"
     ]
    },
    {
     "data": {
      "application/vnd.jupyter.widget-view+json": {
       "model_id": "a2843ebb7d044de09a75286e62da4e27",
       "version_major": 2,
       "version_minor": 0
      },
      "text/plain": [
       "  0%|          | 0/1 [00:00<?, ?it/s]"
      ]
     },
     "metadata": {},
     "output_type": "display_data"
    },
    {
     "name": "stdout",
     "output_type": "stream",
     "text": [
      "CSPR = 14.00 dB\n",
      "Results:\n",
      "BER: 0.00e+00\n",
      "SNR: 20.33 dB\n",
      "SIR =  7.13  dB\n",
      "GMI: 4.00 bits\n",
      "\n"
     ]
    },
    {
     "data": {
      "application/vnd.jupyter.widget-view+json": {
       "model_id": "af122e38f62b47579340d31b4910d795",
       "version_major": 2,
       "version_minor": 0
      },
      "text/plain": [
       "  0%|          | 0/1 [00:00<?, ?it/s]"
      ]
     },
     "metadata": {},
     "output_type": "display_data"
    },
    {
     "name": "stdout",
     "output_type": "stream",
     "text": [
      "CSPR = 14.00 dB\n",
      "Results:\n",
      "BER: 0.00e+00\n",
      "SNR: 21.29 dB\n",
      "SIR =  7.1  dB\n",
      "GMI: 4.00 bits\n",
      "\n"
     ]
    },
    {
     "data": {
      "application/vnd.jupyter.widget-view+json": {
       "model_id": "54370b17d9af4d679b687adbf2196894",
       "version_major": 2,
       "version_minor": 0
      },
      "text/plain": [
       "  0%|          | 0/1 [00:00<?, ?it/s]"
      ]
     },
     "metadata": {},
     "output_type": "display_data"
    },
    {
     "name": "stdout",
     "output_type": "stream",
     "text": [
      "CSPR = 14.00 dB\n",
      "Results:\n",
      "BER: 0.00e+00\n",
      "SNR: 22.27 dB\n",
      "SIR =  7.1  dB\n",
      "GMI: 4.00 bits\n",
      "\n"
     ]
    },
    {
     "data": {
      "application/vnd.jupyter.widget-view+json": {
       "model_id": "15b515e21c25451eb57552cd72e3e24b",
       "version_major": 2,
       "version_minor": 0
      },
      "text/plain": [
       "  0%|          | 0/1 [00:00<?, ?it/s]"
      ]
     },
     "metadata": {},
     "output_type": "display_data"
    },
    {
     "name": "stdout",
     "output_type": "stream",
     "text": [
      "CSPR = 14.00 dB\n",
      "Results:\n",
      "BER: 0.00e+00\n",
      "SNR: 23.30 dB\n",
      "SIR =  7.11  dB\n",
      "GMI: 4.00 bits\n",
      "\n"
     ]
    },
    {
     "data": {
      "application/vnd.jupyter.widget-view+json": {
       "model_id": "a39340e7483d462bbf1365b559a661d0",
       "version_major": 2,
       "version_minor": 0
      },
      "text/plain": [
       "  0%|          | 0/1 [00:00<?, ?it/s]"
      ]
     },
     "metadata": {},
     "output_type": "display_data"
    },
    {
     "name": "stdout",
     "output_type": "stream",
     "text": [
      "CSPR = 14.00 dB\n",
      "Results:\n",
      "BER: 0.00e+00\n",
      "SNR: 24.27 dB\n",
      "SIR =  7.08  dB\n",
      "GMI: 4.00 bits\n",
      "\n"
     ]
    },
    {
     "data": {
      "application/vnd.jupyter.widget-view+json": {
       "model_id": "1981b863985842d59c49072ea47ef321",
       "version_major": 2,
       "version_minor": 0
      },
      "text/plain": [
       "  0%|          | 0/1 [00:00<?, ?it/s]"
      ]
     },
     "metadata": {},
     "output_type": "display_data"
    },
    {
     "name": "stdout",
     "output_type": "stream",
     "text": [
      "CSPR = 14.00 dB\n",
      "Results:\n",
      "BER: 0.00e+00\n",
      "SNR: 25.16 dB\n",
      "SIR =  7.13  dB\n",
      "GMI: 4.00 bits\n",
      "\n"
     ]
    },
    {
     "data": {
      "application/vnd.jupyter.widget-view+json": {
       "model_id": "69075a044c4d4e3dbd66ff02436df4ca",
       "version_major": 2,
       "version_minor": 0
      },
      "text/plain": [
       "  0%|          | 0/10 [00:00<?, ?it/s]"
      ]
     },
     "metadata": {},
     "output_type": "display_data"
    },
    {
     "data": {
      "application/vnd.jupyter.widget-view+json": {
       "model_id": "009e24eab2514ca8b22657507586f83b",
       "version_major": 2,
       "version_minor": 0
      },
      "text/plain": [
       "  0%|          | 0/1 [00:00<?, ?it/s]"
      ]
     },
     "metadata": {},
     "output_type": "display_data"
    },
    {
     "name": "stdout",
     "output_type": "stream",
     "text": [
      "CSPR = 15.00 dB\n",
      "Results:\n",
      "BER: 1.24e-03\n",
      "SNR: 16.39 dB\n",
      "SIR =  7.12  dB\n",
      "GMI: 3.98 bits\n",
      "\n"
     ]
    },
    {
     "data": {
      "application/vnd.jupyter.widget-view+json": {
       "model_id": "8955b7bd84114ffa94ad722a8775226b",
       "version_major": 2,
       "version_minor": 0
      },
      "text/plain": [
       "  0%|          | 0/1 [00:00<?, ?it/s]"
      ]
     },
     "metadata": {},
     "output_type": "display_data"
    },
    {
     "name": "stdout",
     "output_type": "stream",
     "text": [
      "CSPR = 15.00 dB\n",
      "Results:\n",
      "BER: 4.00e-04\n",
      "SNR: 17.34 dB\n",
      "SIR =  7.11  dB\n",
      "GMI: 3.99 bits\n",
      "\n"
     ]
    },
    {
     "data": {
      "application/vnd.jupyter.widget-view+json": {
       "model_id": "aa372f39d7c24a9089a8f6be244ce78c",
       "version_major": 2,
       "version_minor": 0
      },
      "text/plain": [
       "  0%|          | 0/1 [00:00<?, ?it/s]"
      ]
     },
     "metadata": {},
     "output_type": "display_data"
    },
    {
     "name": "stdout",
     "output_type": "stream",
     "text": [
      "CSPR = 15.00 dB\n",
      "Results:\n",
      "BER: 9.38e-05\n",
      "SNR: 18.35 dB\n",
      "SIR =  7.13  dB\n",
      "GMI: 4.00 bits\n",
      "\n"
     ]
    },
    {
     "data": {
      "application/vnd.jupyter.widget-view+json": {
       "model_id": "903312f78fb6441d9d60083801946168",
       "version_major": 2,
       "version_minor": 0
      },
      "text/plain": [
       "  0%|          | 0/1 [00:00<?, ?it/s]"
      ]
     },
     "metadata": {},
     "output_type": "display_data"
    },
    {
     "name": "stdout",
     "output_type": "stream",
     "text": [
      "CSPR = 15.00 dB\n",
      "Results:\n",
      "BER: 2.19e-05\n",
      "SNR: 19.34 dB\n",
      "SIR =  7.1  dB\n",
      "GMI: 4.00 bits\n",
      "\n"
     ]
    },
    {
     "data": {
      "application/vnd.jupyter.widget-view+json": {
       "model_id": "fc4d6c6bc4514e228d9615164b863614",
       "version_major": 2,
       "version_minor": 0
      },
      "text/plain": [
       "  0%|          | 0/1 [00:00<?, ?it/s]"
      ]
     },
     "metadata": {},
     "output_type": "display_data"
    },
    {
     "name": "stdout",
     "output_type": "stream",
     "text": [
      "CSPR = 15.00 dB\n",
      "Results:\n",
      "BER: 3.13e-06\n",
      "SNR: 20.35 dB\n",
      "SIR =  7.11  dB\n",
      "GMI: 4.00 bits\n",
      "\n"
     ]
    },
    {
     "data": {
      "application/vnd.jupyter.widget-view+json": {
       "model_id": "e95cd135874640678ea7e7e8a1d861f5",
       "version_major": 2,
       "version_minor": 0
      },
      "text/plain": [
       "  0%|          | 0/1 [00:00<?, ?it/s]"
      ]
     },
     "metadata": {},
     "output_type": "display_data"
    },
    {
     "name": "stdout",
     "output_type": "stream",
     "text": [
      "CSPR = 15.00 dB\n",
      "Results:\n",
      "BER: 3.13e-06\n",
      "SNR: 21.31 dB\n",
      "SIR =  7.13  dB\n",
      "GMI: 4.00 bits\n",
      "\n"
     ]
    },
    {
     "data": {
      "application/vnd.jupyter.widget-view+json": {
       "model_id": "c3fdc9eed3384f3589e617ad40795e1a",
       "version_major": 2,
       "version_minor": 0
      },
      "text/plain": [
       "  0%|          | 0/1 [00:00<?, ?it/s]"
      ]
     },
     "metadata": {},
     "output_type": "display_data"
    },
    {
     "name": "stdout",
     "output_type": "stream",
     "text": [
      "CSPR = 15.00 dB\n",
      "Results:\n",
      "BER: 0.00e+00\n",
      "SNR: 22.31 dB\n",
      "SIR =  7.11  dB\n",
      "GMI: 4.00 bits\n",
      "\n"
     ]
    },
    {
     "data": {
      "application/vnd.jupyter.widget-view+json": {
       "model_id": "8bfd1f91550b4f6686de6f4c0ee85514",
       "version_major": 2,
       "version_minor": 0
      },
      "text/plain": [
       "  0%|          | 0/1 [00:00<?, ?it/s]"
      ]
     },
     "metadata": {},
     "output_type": "display_data"
    },
    {
     "name": "stdout",
     "output_type": "stream",
     "text": [
      "CSPR = 15.00 dB\n",
      "Results:\n",
      "BER: 0.00e+00\n",
      "SNR: 23.26 dB\n",
      "SIR =  7.11  dB\n",
      "GMI: 4.00 bits\n",
      "\n"
     ]
    },
    {
     "data": {
      "application/vnd.jupyter.widget-view+json": {
       "model_id": "f757343ea0b54c0dab3f03981cd65b3a",
       "version_major": 2,
       "version_minor": 0
      },
      "text/plain": [
       "  0%|          | 0/1 [00:00<?, ?it/s]"
      ]
     },
     "metadata": {},
     "output_type": "display_data"
    },
    {
     "name": "stdout",
     "output_type": "stream",
     "text": [
      "CSPR = 15.00 dB\n",
      "Results:\n",
      "BER: 0.00e+00\n",
      "SNR: 24.23 dB\n",
      "SIR =  7.13  dB\n",
      "GMI: 4.00 bits\n",
      "\n"
     ]
    },
    {
     "data": {
      "application/vnd.jupyter.widget-view+json": {
       "model_id": "2cac73d7d3b44d179aeaee223076a92e",
       "version_major": 2,
       "version_minor": 0
      },
      "text/plain": [
       "  0%|          | 0/1 [00:00<?, ?it/s]"
      ]
     },
     "metadata": {},
     "output_type": "display_data"
    },
    {
     "name": "stdout",
     "output_type": "stream",
     "text": [
      "CSPR = 15.00 dB\n",
      "Results:\n",
      "BER: 0.00e+00\n",
      "SNR: 25.19 dB\n",
      "SIR =  7.11  dB\n",
      "GMI: 4.00 bits\n",
      "\n"
     ]
    },
    {
     "data": {
      "application/vnd.jupyter.widget-view+json": {
       "model_id": "d56ce4ce00a64a478f3f5238b085cb65",
       "version_major": 2,
       "version_minor": 0
      },
      "text/plain": [
       "  0%|          | 0/10 [00:00<?, ?it/s]"
      ]
     },
     "metadata": {},
     "output_type": "display_data"
    },
    {
     "data": {
      "application/vnd.jupyter.widget-view+json": {
       "model_id": "fd27ec3d8ff54399acd1e637e14459a3",
       "version_major": 2,
       "version_minor": 0
      },
      "text/plain": [
       "  0%|          | 0/10 [00:00<?, ?it/s]"
      ]
     },
     "metadata": {},
     "output_type": "display_data"
    },
    {
     "data": {
      "application/vnd.jupyter.widget-view+json": {
       "model_id": "897fb8cdc4b2402cb2cc4284ea96a8d2",
       "version_major": 2,
       "version_minor": 0
      },
      "text/plain": [
       "  0%|          | 0/1 [00:00<?, ?it/s]"
      ]
     },
     "metadata": {},
     "output_type": "display_data"
    },
    {
     "name": "stdout",
     "output_type": "stream",
     "text": [
      "CSPR = 6.00 dB\n",
      "Results:\n",
      "BER: 1.16e-03\n",
      "SNR: 16.38 dB\n",
      "SIR =  7.11  dB\n",
      "GMI: 3.98 bits\n",
      "\n"
     ]
    },
    {
     "data": {
      "application/vnd.jupyter.widget-view+json": {
       "model_id": "41b39aa959864d97854726676f5afa67",
       "version_major": 2,
       "version_minor": 0
      },
      "text/plain": [
       "  0%|          | 0/1 [00:00<?, ?it/s]"
      ]
     },
     "metadata": {},
     "output_type": "display_data"
    },
    {
     "name": "stdout",
     "output_type": "stream",
     "text": [
      "CSPR = 6.00 dB\n",
      "Results:\n",
      "BER: 4.22e-04\n",
      "SNR: 17.36 dB\n",
      "SIR =  7.1  dB\n",
      "GMI: 3.99 bits\n",
      "\n"
     ]
    },
    {
     "data": {
      "application/vnd.jupyter.widget-view+json": {
       "model_id": "d6381cc89009470dbbf5a76e666d3744",
       "version_major": 2,
       "version_minor": 0
      },
      "text/plain": [
       "  0%|          | 0/1 [00:00<?, ?it/s]"
      ]
     },
     "metadata": {},
     "output_type": "display_data"
    },
    {
     "name": "stdout",
     "output_type": "stream",
     "text": [
      "CSPR = 6.00 dB\n",
      "Results:\n",
      "BER: 1.03e-04\n",
      "SNR: 18.38 dB\n",
      "SIR =  7.11  dB\n",
      "GMI: 4.00 bits\n",
      "\n"
     ]
    },
    {
     "data": {
      "application/vnd.jupyter.widget-view+json": {
       "model_id": "d4790102fccb4d32988718ad68a79b16",
       "version_major": 2,
       "version_minor": 0
      },
      "text/plain": [
       "  0%|          | 0/1 [00:00<?, ?it/s]"
      ]
     },
     "metadata": {},
     "output_type": "display_data"
    },
    {
     "name": "stdout",
     "output_type": "stream",
     "text": [
      "CSPR = 6.00 dB\n",
      "Results:\n",
      "BER: 2.19e-05\n",
      "SNR: 19.34 dB\n",
      "SIR =  7.1  dB\n",
      "GMI: 4.00 bits\n",
      "\n"
     ]
    },
    {
     "data": {
      "application/vnd.jupyter.widget-view+json": {
       "model_id": "e7ebdb0ab97c4028b2f271b4b186ad7b",
       "version_major": 2,
       "version_minor": 0
      },
      "text/plain": [
       "  0%|          | 0/1 [00:00<?, ?it/s]"
      ]
     },
     "metadata": {},
     "output_type": "display_data"
    },
    {
     "name": "stdout",
     "output_type": "stream",
     "text": [
      "CSPR = 6.00 dB\n",
      "Results:\n",
      "BER: 0.00e+00\n",
      "SNR: 20.34 dB\n",
      "SIR =  7.13  dB\n",
      "GMI: 4.00 bits\n",
      "\n"
     ]
    },
    {
     "data": {
      "application/vnd.jupyter.widget-view+json": {
       "model_id": "8cb37db8b6f6403181a1519b2d6877f3",
       "version_major": 2,
       "version_minor": 0
      },
      "text/plain": [
       "  0%|          | 0/1 [00:00<?, ?it/s]"
      ]
     },
     "metadata": {},
     "output_type": "display_data"
    },
    {
     "name": "stdout",
     "output_type": "stream",
     "text": [
      "CSPR = 6.00 dB\n",
      "Results:\n",
      "BER: 0.00e+00\n",
      "SNR: 21.34 dB\n",
      "SIR =  7.1  dB\n",
      "GMI: 4.00 bits\n",
      "\n"
     ]
    },
    {
     "data": {
      "application/vnd.jupyter.widget-view+json": {
       "model_id": "5e23ce0f2d674665bf2950fcc39a5331",
       "version_major": 2,
       "version_minor": 0
      },
      "text/plain": [
       "  0%|          | 0/1 [00:00<?, ?it/s]"
      ]
     },
     "metadata": {},
     "output_type": "display_data"
    },
    {
     "name": "stdout",
     "output_type": "stream",
     "text": [
      "CSPR = 6.00 dB\n",
      "Results:\n",
      "BER: 0.00e+00\n",
      "SNR: 22.29 dB\n",
      "SIR =  7.11  dB\n",
      "GMI: 4.00 bits\n",
      "\n"
     ]
    },
    {
     "data": {
      "application/vnd.jupyter.widget-view+json": {
       "model_id": "7e1c963308754de2a6f823f5b5928f40",
       "version_major": 2,
       "version_minor": 0
      },
      "text/plain": [
       "  0%|          | 0/1 [00:00<?, ?it/s]"
      ]
     },
     "metadata": {},
     "output_type": "display_data"
    },
    {
     "name": "stdout",
     "output_type": "stream",
     "text": [
      "CSPR = 6.00 dB\n",
      "Results:\n",
      "BER: 0.00e+00\n",
      "SNR: 23.27 dB\n",
      "SIR =  7.11  dB\n",
      "GMI: 4.00 bits\n",
      "\n"
     ]
    },
    {
     "data": {
      "application/vnd.jupyter.widget-view+json": {
       "model_id": "4c0e5d29684c4edbb78ff8f5492a6e08",
       "version_major": 2,
       "version_minor": 0
      },
      "text/plain": [
       "  0%|          | 0/1 [00:00<?, ?it/s]"
      ]
     },
     "metadata": {},
     "output_type": "display_data"
    },
    {
     "name": "stdout",
     "output_type": "stream",
     "text": [
      "CSPR = 6.00 dB\n",
      "Results:\n",
      "BER: 0.00e+00\n",
      "SNR: 24.20 dB\n",
      "SIR =  7.13  dB\n",
      "GMI: 4.00 bits\n",
      "\n"
     ]
    },
    {
     "data": {
      "application/vnd.jupyter.widget-view+json": {
       "model_id": "07c58501b75745adb6647dd4b8c64ada",
       "version_major": 2,
       "version_minor": 0
      },
      "text/plain": [
       "  0%|          | 0/1 [00:00<?, ?it/s]"
      ]
     },
     "metadata": {},
     "output_type": "display_data"
    },
    {
     "name": "stdout",
     "output_type": "stream",
     "text": [
      "CSPR = 6.00 dB\n",
      "Results:\n",
      "BER: 0.00e+00\n",
      "SNR: 25.16 dB\n",
      "SIR =  7.09  dB\n",
      "GMI: 4.00 bits\n",
      "\n"
     ]
    },
    {
     "data": {
      "application/vnd.jupyter.widget-view+json": {
       "model_id": "2245069a13f6410abc4c09819382273d",
       "version_major": 2,
       "version_minor": 0
      },
      "text/plain": [
       "  0%|          | 0/10 [00:00<?, ?it/s]"
      ]
     },
     "metadata": {},
     "output_type": "display_data"
    },
    {
     "data": {
      "application/vnd.jupyter.widget-view+json": {
       "model_id": "86fddc85ea054e5386820d7bcfa9c25b",
       "version_major": 2,
       "version_minor": 0
      },
      "text/plain": [
       "  0%|          | 0/1 [00:00<?, ?it/s]"
      ]
     },
     "metadata": {},
     "output_type": "display_data"
    },
    {
     "name": "stdout",
     "output_type": "stream",
     "text": [
      "CSPR = 7.00 dB\n",
      "Results:\n",
      "BER: 1.33e-03\n",
      "SNR: 16.36 dB\n",
      "SIR =  7.11  dB\n",
      "GMI: 3.98 bits\n",
      "\n"
     ]
    },
    {
     "data": {
      "application/vnd.jupyter.widget-view+json": {
       "model_id": "2c852302d0f84c5db88755897ba30bbe",
       "version_major": 2,
       "version_minor": 0
      },
      "text/plain": [
       "  0%|          | 0/1 [00:00<?, ?it/s]"
      ]
     },
     "metadata": {},
     "output_type": "display_data"
    },
    {
     "name": "stdout",
     "output_type": "stream",
     "text": [
      "CSPR = 7.00 dB\n",
      "Results:\n",
      "BER: 4.41e-04\n",
      "SNR: 17.34 dB\n",
      "SIR =  7.12  dB\n",
      "GMI: 3.99 bits\n",
      "\n"
     ]
    },
    {
     "data": {
      "application/vnd.jupyter.widget-view+json": {
       "model_id": "fb7f5d0f964449fd817c2be4c42702d5",
       "version_major": 2,
       "version_minor": 0
      },
      "text/plain": [
       "  0%|          | 0/1 [00:00<?, ?it/s]"
      ]
     },
     "metadata": {},
     "output_type": "display_data"
    },
    {
     "name": "stdout",
     "output_type": "stream",
     "text": [
      "CSPR = 7.00 dB\n",
      "Results:\n",
      "BER: 1.09e-04\n",
      "SNR: 18.36 dB\n",
      "SIR =  7.12  dB\n",
      "GMI: 4.00 bits\n",
      "\n"
     ]
    },
    {
     "data": {
      "application/vnd.jupyter.widget-view+json": {
       "model_id": "a419d543953b4136bf75b6a387a6a985",
       "version_major": 2,
       "version_minor": 0
      },
      "text/plain": [
       "  0%|          | 0/1 [00:00<?, ?it/s]"
      ]
     },
     "metadata": {},
     "output_type": "display_data"
    },
    {
     "name": "stdout",
     "output_type": "stream",
     "text": [
      "CSPR = 7.00 dB\n",
      "Results:\n",
      "BER: 1.25e-05\n",
      "SNR: 19.37 dB\n",
      "SIR =  7.12  dB\n",
      "GMI: 4.00 bits\n",
      "\n"
     ]
    },
    {
     "data": {
      "application/vnd.jupyter.widget-view+json": {
       "model_id": "1d25a2c9e40a4b0ebca863d3dabd1075",
       "version_major": 2,
       "version_minor": 0
      },
      "text/plain": [
       "  0%|          | 0/1 [00:00<?, ?it/s]"
      ]
     },
     "metadata": {},
     "output_type": "display_data"
    },
    {
     "name": "stdout",
     "output_type": "stream",
     "text": [
      "CSPR = 7.00 dB\n",
      "Results:\n",
      "BER: 0.00e+00\n",
      "SNR: 20.34 dB\n",
      "SIR =  7.11  dB\n",
      "GMI: 4.00 bits\n",
      "\n"
     ]
    },
    {
     "data": {
      "application/vnd.jupyter.widget-view+json": {
       "model_id": "84780e342099496198bb03516e72f3f2",
       "version_major": 2,
       "version_minor": 0
      },
      "text/plain": [
       "  0%|          | 0/1 [00:00<?, ?it/s]"
      ]
     },
     "metadata": {},
     "output_type": "display_data"
    },
    {
     "name": "stdout",
     "output_type": "stream",
     "text": [
      "CSPR = 7.00 dB\n",
      "Results:\n",
      "BER: 0.00e+00\n",
      "SNR: 21.27 dB\n",
      "SIR =  7.11  dB\n",
      "GMI: 4.00 bits\n",
      "\n"
     ]
    },
    {
     "data": {
      "application/vnd.jupyter.widget-view+json": {
       "model_id": "b95f29dfff2f4b3fa0973844f098c7ed",
       "version_major": 2,
       "version_minor": 0
      },
      "text/plain": [
       "  0%|          | 0/1 [00:00<?, ?it/s]"
      ]
     },
     "metadata": {},
     "output_type": "display_data"
    },
    {
     "name": "stdout",
     "output_type": "stream",
     "text": [
      "CSPR = 7.00 dB\n",
      "Results:\n",
      "BER: 0.00e+00\n",
      "SNR: 22.30 dB\n",
      "SIR =  7.1  dB\n",
      "GMI: 4.00 bits\n",
      "\n"
     ]
    },
    {
     "data": {
      "application/vnd.jupyter.widget-view+json": {
       "model_id": "1349fe7414b543d8a9fa58c3c42a397a",
       "version_major": 2,
       "version_minor": 0
      },
      "text/plain": [
       "  0%|          | 0/1 [00:00<?, ?it/s]"
      ]
     },
     "metadata": {},
     "output_type": "display_data"
    },
    {
     "name": "stdout",
     "output_type": "stream",
     "text": [
      "CSPR = 7.00 dB\n",
      "Results:\n",
      "BER: 0.00e+00\n",
      "SNR: 23.27 dB\n",
      "SIR =  7.11  dB\n",
      "GMI: 4.00 bits\n",
      "\n"
     ]
    },
    {
     "data": {
      "application/vnd.jupyter.widget-view+json": {
       "model_id": "81a813cc2774472e80aac34baa8b4c51",
       "version_major": 2,
       "version_minor": 0
      },
      "text/plain": [
       "  0%|          | 0/1 [00:00<?, ?it/s]"
      ]
     },
     "metadata": {},
     "output_type": "display_data"
    },
    {
     "name": "stdout",
     "output_type": "stream",
     "text": [
      "CSPR = 7.00 dB\n",
      "Results:\n",
      "BER: 0.00e+00\n",
      "SNR: 24.24 dB\n",
      "SIR =  7.13  dB\n",
      "GMI: 4.00 bits\n",
      "\n"
     ]
    },
    {
     "data": {
      "application/vnd.jupyter.widget-view+json": {
       "model_id": "9dae874b57fa4a38aeee1b25bb04e222",
       "version_major": 2,
       "version_minor": 0
      },
      "text/plain": [
       "  0%|          | 0/1 [00:00<?, ?it/s]"
      ]
     },
     "metadata": {},
     "output_type": "display_data"
    },
    {
     "name": "stdout",
     "output_type": "stream",
     "text": [
      "CSPR = 7.00 dB\n",
      "Results:\n",
      "BER: 0.00e+00\n",
      "SNR: 25.22 dB\n",
      "SIR =  7.1  dB\n",
      "GMI: 4.00 bits\n",
      "\n"
     ]
    },
    {
     "data": {
      "application/vnd.jupyter.widget-view+json": {
       "model_id": "71d3d28ccba24dac916b884bab4a8d2d",
       "version_major": 2,
       "version_minor": 0
      },
      "text/plain": [
       "  0%|          | 0/10 [00:00<?, ?it/s]"
      ]
     },
     "metadata": {},
     "output_type": "display_data"
    },
    {
     "data": {
      "application/vnd.jupyter.widget-view+json": {
       "model_id": "c8e84c127d1f4089aa1e894c0aa23dec",
       "version_major": 2,
       "version_minor": 0
      },
      "text/plain": [
       "  0%|          | 0/1 [00:00<?, ?it/s]"
      ]
     },
     "metadata": {},
     "output_type": "display_data"
    },
    {
     "name": "stdout",
     "output_type": "stream",
     "text": [
      "CSPR = 8.00 dB\n",
      "Results:\n",
      "BER: 1.29e-03\n",
      "SNR: 16.35 dB\n",
      "SIR =  7.1  dB\n",
      "GMI: 3.98 bits\n",
      "\n"
     ]
    },
    {
     "data": {
      "application/vnd.jupyter.widget-view+json": {
       "model_id": "d41a7474cefe4d01b9c43c216d134bcd",
       "version_major": 2,
       "version_minor": 0
      },
      "text/plain": [
       "  0%|          | 0/1 [00:00<?, ?it/s]"
      ]
     },
     "metadata": {},
     "output_type": "display_data"
    },
    {
     "name": "stdout",
     "output_type": "stream",
     "text": [
      "CSPR = 8.00 dB\n",
      "Results:\n",
      "BER: 3.69e-04\n",
      "SNR: 17.34 dB\n",
      "SIR =  7.11  dB\n",
      "GMI: 3.99 bits\n",
      "\n"
     ]
    },
    {
     "data": {
      "application/vnd.jupyter.widget-view+json": {
       "model_id": "89ea646e43a041ff9768757083be4afd",
       "version_major": 2,
       "version_minor": 0
      },
      "text/plain": [
       "  0%|          | 0/1 [00:00<?, ?it/s]"
      ]
     },
     "metadata": {},
     "output_type": "display_data"
    },
    {
     "name": "stdout",
     "output_type": "stream",
     "text": [
      "CSPR = 8.00 dB\n",
      "Results:\n",
      "BER: 9.38e-05\n",
      "SNR: 18.35 dB\n",
      "SIR =  7.13  dB\n",
      "GMI: 4.00 bits\n",
      "\n"
     ]
    },
    {
     "data": {
      "application/vnd.jupyter.widget-view+json": {
       "model_id": "5be2c71bef9e4ae9a45f1df4f62e252f",
       "version_major": 2,
       "version_minor": 0
      },
      "text/plain": [
       "  0%|          | 0/1 [00:00<?, ?it/s]"
      ]
     },
     "metadata": {},
     "output_type": "display_data"
    },
    {
     "name": "stdout",
     "output_type": "stream",
     "text": [
      "CSPR = 8.00 dB\n",
      "Results:\n",
      "BER: 6.25e-06\n",
      "SNR: 19.32 dB\n",
      "SIR =  7.1  dB\n",
      "GMI: 4.00 bits\n",
      "\n"
     ]
    },
    {
     "data": {
      "application/vnd.jupyter.widget-view+json": {
       "model_id": "d728b019a1ac4e02a0a7ba44fa462f54",
       "version_major": 2,
       "version_minor": 0
      },
      "text/plain": [
       "  0%|          | 0/1 [00:00<?, ?it/s]"
      ]
     },
     "metadata": {},
     "output_type": "display_data"
    },
    {
     "name": "stdout",
     "output_type": "stream",
     "text": [
      "CSPR = 8.00 dB\n",
      "Results:\n",
      "BER: 0.00e+00\n",
      "SNR: 20.36 dB\n",
      "SIR =  7.12  dB\n",
      "GMI: 4.00 bits\n",
      "\n"
     ]
    },
    {
     "data": {
      "application/vnd.jupyter.widget-view+json": {
       "model_id": "09ce6d74909d45a9b6344ce577a30996",
       "version_major": 2,
       "version_minor": 0
      },
      "text/plain": [
       "  0%|          | 0/1 [00:00<?, ?it/s]"
      ]
     },
     "metadata": {},
     "output_type": "display_data"
    },
    {
     "name": "stdout",
     "output_type": "stream",
     "text": [
      "CSPR = 8.00 dB\n",
      "Results:\n",
      "BER: 0.00e+00\n",
      "SNR: 21.32 dB\n",
      "SIR =  7.12  dB\n",
      "GMI: 4.00 bits\n",
      "\n"
     ]
    },
    {
     "data": {
      "application/vnd.jupyter.widget-view+json": {
       "model_id": "b1ce427961cf42d5b76feab5b153acfb",
       "version_major": 2,
       "version_minor": 0
      },
      "text/plain": [
       "  0%|          | 0/1 [00:00<?, ?it/s]"
      ]
     },
     "metadata": {},
     "output_type": "display_data"
    },
    {
     "name": "stdout",
     "output_type": "stream",
     "text": [
      "CSPR = 8.00 dB\n",
      "Results:\n",
      "BER: 0.00e+00\n",
      "SNR: 22.28 dB\n",
      "SIR =  7.13  dB\n",
      "GMI: 4.00 bits\n",
      "\n"
     ]
    },
    {
     "data": {
      "application/vnd.jupyter.widget-view+json": {
       "model_id": "5765aeba0ca940a7bb25cce9171ca03f",
       "version_major": 2,
       "version_minor": 0
      },
      "text/plain": [
       "  0%|          | 0/1 [00:00<?, ?it/s]"
      ]
     },
     "metadata": {},
     "output_type": "display_data"
    },
    {
     "name": "stdout",
     "output_type": "stream",
     "text": [
      "CSPR = 8.00 dB\n",
      "Results:\n",
      "BER: 0.00e+00\n",
      "SNR: 23.29 dB\n",
      "SIR =  7.12  dB\n",
      "GMI: 4.00 bits\n",
      "\n"
     ]
    },
    {
     "data": {
      "application/vnd.jupyter.widget-view+json": {
       "model_id": "4137b8a492674fe8a89f46fd8a860dd3",
       "version_major": 2,
       "version_minor": 0
      },
      "text/plain": [
       "  0%|          | 0/1 [00:00<?, ?it/s]"
      ]
     },
     "metadata": {},
     "output_type": "display_data"
    },
    {
     "name": "stdout",
     "output_type": "stream",
     "text": [
      "CSPR = 8.00 dB\n",
      "Results:\n",
      "BER: 0.00e+00\n",
      "SNR: 24.24 dB\n",
      "SIR =  7.12  dB\n",
      "GMI: 4.00 bits\n",
      "\n"
     ]
    },
    {
     "data": {
      "application/vnd.jupyter.widget-view+json": {
       "model_id": "cdea9de78f06405a9b1edc379c37bd5c",
       "version_major": 2,
       "version_minor": 0
      },
      "text/plain": [
       "  0%|          | 0/1 [00:00<?, ?it/s]"
      ]
     },
     "metadata": {},
     "output_type": "display_data"
    },
    {
     "name": "stdout",
     "output_type": "stream",
     "text": [
      "CSPR = 8.00 dB\n",
      "Results:\n",
      "BER: 0.00e+00\n",
      "SNR: 25.21 dB\n",
      "SIR =  7.11  dB\n",
      "GMI: 4.00 bits\n",
      "\n"
     ]
    },
    {
     "data": {
      "application/vnd.jupyter.widget-view+json": {
       "model_id": "cdf2649103f3408f862535c8d9533407",
       "version_major": 2,
       "version_minor": 0
      },
      "text/plain": [
       "  0%|          | 0/10 [00:00<?, ?it/s]"
      ]
     },
     "metadata": {},
     "output_type": "display_data"
    },
    {
     "data": {
      "application/vnd.jupyter.widget-view+json": {
       "model_id": "f985d01d3b2a4230ba08965423c9bf86",
       "version_major": 2,
       "version_minor": 0
      },
      "text/plain": [
       "  0%|          | 0/1 [00:00<?, ?it/s]"
      ]
     },
     "metadata": {},
     "output_type": "display_data"
    },
    {
     "name": "stdout",
     "output_type": "stream",
     "text": [
      "CSPR = 9.00 dB\n",
      "Results:\n",
      "BER: 1.33e-03\n",
      "SNR: 16.37 dB\n",
      "SIR =  7.11  dB\n",
      "GMI: 3.98 bits\n",
      "\n"
     ]
    },
    {
     "data": {
      "application/vnd.jupyter.widget-view+json": {
       "model_id": "494fbb450795411090bce42a74762fab",
       "version_major": 2,
       "version_minor": 0
      },
      "text/plain": [
       "  0%|          | 0/1 [00:00<?, ?it/s]"
      ]
     },
     "metadata": {},
     "output_type": "display_data"
    },
    {
     "name": "stdout",
     "output_type": "stream",
     "text": [
      "CSPR = 9.00 dB\n",
      "Results:\n",
      "BER: 3.75e-04\n",
      "SNR: 17.35 dB\n",
      "SIR =  7.12  dB\n",
      "GMI: 3.99 bits\n",
      "\n"
     ]
    },
    {
     "data": {
      "application/vnd.jupyter.widget-view+json": {
       "model_id": "d0a4f195e87747509abdebea4c8e082a",
       "version_major": 2,
       "version_minor": 0
      },
      "text/plain": [
       "  0%|          | 0/1 [00:00<?, ?it/s]"
      ]
     },
     "metadata": {},
     "output_type": "display_data"
    },
    {
     "name": "stdout",
     "output_type": "stream",
     "text": [
      "CSPR = 9.00 dB\n",
      "Results:\n",
      "BER: 6.88e-05\n",
      "SNR: 18.34 dB\n",
      "SIR =  7.11  dB\n",
      "GMI: 4.00 bits\n",
      "\n"
     ]
    },
    {
     "data": {
      "application/vnd.jupyter.widget-view+json": {
       "model_id": "63dbbf4eefd0441b995dd5b7643946f2",
       "version_major": 2,
       "version_minor": 0
      },
      "text/plain": [
       "  0%|          | 0/1 [00:00<?, ?it/s]"
      ]
     },
     "metadata": {},
     "output_type": "display_data"
    },
    {
     "name": "stdout",
     "output_type": "stream",
     "text": [
      "CSPR = 9.00 dB\n",
      "Results:\n",
      "BER: 9.37e-06\n",
      "SNR: 19.35 dB\n",
      "SIR =  7.12  dB\n",
      "GMI: 4.00 bits\n",
      "\n"
     ]
    },
    {
     "data": {
      "application/vnd.jupyter.widget-view+json": {
       "model_id": "8d06cd5e8996471bb58fdc624ee06972",
       "version_major": 2,
       "version_minor": 0
      },
      "text/plain": [
       "  0%|          | 0/1 [00:00<?, ?it/s]"
      ]
     },
     "metadata": {},
     "output_type": "display_data"
    },
    {
     "name": "stdout",
     "output_type": "stream",
     "text": [
      "CSPR = 9.00 dB\n",
      "Results:\n",
      "BER: 0.00e+00\n",
      "SNR: 20.33 dB\n",
      "SIR =  7.12  dB\n",
      "GMI: 4.00 bits\n",
      "\n"
     ]
    },
    {
     "data": {
      "application/vnd.jupyter.widget-view+json": {
       "model_id": "43992d16e42244998102da70b26b3e0b",
       "version_major": 2,
       "version_minor": 0
      },
      "text/plain": [
       "  0%|          | 0/1 [00:00<?, ?it/s]"
      ]
     },
     "metadata": {},
     "output_type": "display_data"
    },
    {
     "name": "stdout",
     "output_type": "stream",
     "text": [
      "CSPR = 9.00 dB\n",
      "Results:\n",
      "BER: 0.00e+00\n",
      "SNR: 21.33 dB\n",
      "SIR =  7.14  dB\n",
      "GMI: 4.00 bits\n",
      "\n"
     ]
    },
    {
     "data": {
      "application/vnd.jupyter.widget-view+json": {
       "model_id": "c7a4a789b08e46f3a421d8dc8623841f",
       "version_major": 2,
       "version_minor": 0
      },
      "text/plain": [
       "  0%|          | 0/1 [00:00<?, ?it/s]"
      ]
     },
     "metadata": {},
     "output_type": "display_data"
    },
    {
     "name": "stdout",
     "output_type": "stream",
     "text": [
      "CSPR = 9.00 dB\n",
      "Results:\n",
      "BER: 0.00e+00\n",
      "SNR: 22.31 dB\n",
      "SIR =  7.11  dB\n",
      "GMI: 4.00 bits\n",
      "\n"
     ]
    },
    {
     "data": {
      "application/vnd.jupyter.widget-view+json": {
       "model_id": "13eeb19616354c7da2dfec5a90bbb1e1",
       "version_major": 2,
       "version_minor": 0
      },
      "text/plain": [
       "  0%|          | 0/1 [00:00<?, ?it/s]"
      ]
     },
     "metadata": {},
     "output_type": "display_data"
    },
    {
     "name": "stdout",
     "output_type": "stream",
     "text": [
      "CSPR = 9.00 dB\n",
      "Results:\n",
      "BER: 0.00e+00\n",
      "SNR: 23.26 dB\n",
      "SIR =  7.1  dB\n",
      "GMI: 4.00 bits\n",
      "\n"
     ]
    },
    {
     "data": {
      "application/vnd.jupyter.widget-view+json": {
       "model_id": "8564f0e9df634eb6b0c2328e4dfef64f",
       "version_major": 2,
       "version_minor": 0
      },
      "text/plain": [
       "  0%|          | 0/1 [00:00<?, ?it/s]"
      ]
     },
     "metadata": {},
     "output_type": "display_data"
    },
    {
     "name": "stdout",
     "output_type": "stream",
     "text": [
      "CSPR = 9.00 dB\n",
      "Results:\n",
      "BER: 0.00e+00\n",
      "SNR: 24.24 dB\n",
      "SIR =  7.09  dB\n",
      "GMI: 4.00 bits\n",
      "\n"
     ]
    },
    {
     "data": {
      "application/vnd.jupyter.widget-view+json": {
       "model_id": "764f742e424c47a398e0943b81f42891",
       "version_major": 2,
       "version_minor": 0
      },
      "text/plain": [
       "  0%|          | 0/1 [00:00<?, ?it/s]"
      ]
     },
     "metadata": {},
     "output_type": "display_data"
    },
    {
     "name": "stdout",
     "output_type": "stream",
     "text": [
      "CSPR = 9.00 dB\n",
      "Results:\n",
      "BER: 0.00e+00\n",
      "SNR: 25.21 dB\n",
      "SIR =  7.12  dB\n",
      "GMI: 4.00 bits\n",
      "\n"
     ]
    },
    {
     "data": {
      "application/vnd.jupyter.widget-view+json": {
       "model_id": "0bd99222888f4c4580ddb1b4fcbaa1b4",
       "version_major": 2,
       "version_minor": 0
      },
      "text/plain": [
       "  0%|          | 0/10 [00:00<?, ?it/s]"
      ]
     },
     "metadata": {},
     "output_type": "display_data"
    },
    {
     "data": {
      "application/vnd.jupyter.widget-view+json": {
       "model_id": "25a68d80e5c64183b1f5386803afab94",
       "version_major": 2,
       "version_minor": 0
      },
      "text/plain": [
       "  0%|          | 0/1 [00:00<?, ?it/s]"
      ]
     },
     "metadata": {},
     "output_type": "display_data"
    },
    {
     "name": "stdout",
     "output_type": "stream",
     "text": [
      "CSPR = 10.00 dB\n",
      "Results:\n",
      "BER: 1.29e-03\n",
      "SNR: 16.36 dB\n",
      "SIR =  7.12  dB\n",
      "GMI: 3.98 bits\n",
      "\n"
     ]
    },
    {
     "data": {
      "application/vnd.jupyter.widget-view+json": {
       "model_id": "2e0f0acd74bb4701acf0e3a26dd6dabb",
       "version_major": 2,
       "version_minor": 0
      },
      "text/plain": [
       "  0%|          | 0/1 [00:00<?, ?it/s]"
      ]
     },
     "metadata": {},
     "output_type": "display_data"
    },
    {
     "name": "stdout",
     "output_type": "stream",
     "text": [
      "CSPR = 10.00 dB\n",
      "Results:\n",
      "BER: 5.25e-04\n",
      "SNR: 17.38 dB\n",
      "SIR =  7.14  dB\n",
      "GMI: 3.99 bits\n",
      "\n"
     ]
    },
    {
     "data": {
      "application/vnd.jupyter.widget-view+json": {
       "model_id": "1f880d17ddb743b29182bb1bf46b98ad",
       "version_major": 2,
       "version_minor": 0
      },
      "text/plain": [
       "  0%|          | 0/1 [00:00<?, ?it/s]"
      ]
     },
     "metadata": {},
     "output_type": "display_data"
    },
    {
     "name": "stdout",
     "output_type": "stream",
     "text": [
      "CSPR = 10.00 dB\n",
      "Results:\n",
      "BER: 9.69e-05\n",
      "SNR: 18.37 dB\n",
      "SIR =  7.12  dB\n",
      "GMI: 4.00 bits\n",
      "\n"
     ]
    },
    {
     "data": {
      "application/vnd.jupyter.widget-view+json": {
       "model_id": "8abbc1dde6784dd086105269670cd929",
       "version_major": 2,
       "version_minor": 0
      },
      "text/plain": [
       "  0%|          | 0/1 [00:00<?, ?it/s]"
      ]
     },
     "metadata": {},
     "output_type": "display_data"
    },
    {
     "name": "stdout",
     "output_type": "stream",
     "text": [
      "CSPR = 10.00 dB\n",
      "Results:\n",
      "BER: 1.56e-05\n",
      "SNR: 19.31 dB\n",
      "SIR =  7.11  dB\n",
      "GMI: 4.00 bits\n",
      "\n"
     ]
    },
    {
     "data": {
      "application/vnd.jupyter.widget-view+json": {
       "model_id": "d55781abae2d4f57a18f273abe8c2656",
       "version_major": 2,
       "version_minor": 0
      },
      "text/plain": [
       "  0%|          | 0/1 [00:00<?, ?it/s]"
      ]
     },
     "metadata": {},
     "output_type": "display_data"
    },
    {
     "name": "stdout",
     "output_type": "stream",
     "text": [
      "CSPR = 10.00 dB\n",
      "Results:\n",
      "BER: 6.25e-06\n",
      "SNR: 20.33 dB\n",
      "SIR =  7.12  dB\n",
      "GMI: 4.00 bits\n",
      "\n"
     ]
    },
    {
     "data": {
      "application/vnd.jupyter.widget-view+json": {
       "model_id": "788f937dc8004c2a9bbfcf4ef22fac53",
       "version_major": 2,
       "version_minor": 0
      },
      "text/plain": [
       "  0%|          | 0/1 [00:00<?, ?it/s]"
      ]
     },
     "metadata": {},
     "output_type": "display_data"
    },
    {
     "name": "stdout",
     "output_type": "stream",
     "text": [
      "CSPR = 10.00 dB\n",
      "Results:\n",
      "BER: 0.00e+00\n",
      "SNR: 21.32 dB\n",
      "SIR =  7.12  dB\n",
      "GMI: 4.00 bits\n",
      "\n"
     ]
    },
    {
     "data": {
      "application/vnd.jupyter.widget-view+json": {
       "model_id": "0b5ec0dc10ae4aec9b2aa4a769513270",
       "version_major": 2,
       "version_minor": 0
      },
      "text/plain": [
       "  0%|          | 0/1 [00:00<?, ?it/s]"
      ]
     },
     "metadata": {},
     "output_type": "display_data"
    },
    {
     "name": "stdout",
     "output_type": "stream",
     "text": [
      "CSPR = 10.00 dB\n",
      "Results:\n",
      "BER: 0.00e+00\n",
      "SNR: 22.27 dB\n",
      "SIR =  7.13  dB\n",
      "GMI: 4.00 bits\n",
      "\n"
     ]
    },
    {
     "data": {
      "application/vnd.jupyter.widget-view+json": {
       "model_id": "ef568729b11e4a35934150b1b257a75c",
       "version_major": 2,
       "version_minor": 0
      },
      "text/plain": [
       "  0%|          | 0/1 [00:00<?, ?it/s]"
      ]
     },
     "metadata": {},
     "output_type": "display_data"
    },
    {
     "name": "stdout",
     "output_type": "stream",
     "text": [
      "CSPR = 10.00 dB\n",
      "Results:\n",
      "BER: 0.00e+00\n",
      "SNR: 23.28 dB\n",
      "SIR =  7.14  dB\n",
      "GMI: 4.00 bits\n",
      "\n"
     ]
    },
    {
     "data": {
      "application/vnd.jupyter.widget-view+json": {
       "model_id": "b8caf345403a4fbd825daaa70779fd3a",
       "version_major": 2,
       "version_minor": 0
      },
      "text/plain": [
       "  0%|          | 0/1 [00:00<?, ?it/s]"
      ]
     },
     "metadata": {},
     "output_type": "display_data"
    },
    {
     "name": "stdout",
     "output_type": "stream",
     "text": [
      "CSPR = 10.00 dB\n",
      "Results:\n",
      "BER: 0.00e+00\n",
      "SNR: 24.24 dB\n",
      "SIR =  7.1  dB\n",
      "GMI: 4.00 bits\n",
      "\n"
     ]
    },
    {
     "data": {
      "application/vnd.jupyter.widget-view+json": {
       "model_id": "7448936ec60341c1a96bc1d9e253f2b4",
       "version_major": 2,
       "version_minor": 0
      },
      "text/plain": [
       "  0%|          | 0/1 [00:00<?, ?it/s]"
      ]
     },
     "metadata": {},
     "output_type": "display_data"
    },
    {
     "name": "stdout",
     "output_type": "stream",
     "text": [
      "CSPR = 10.00 dB\n",
      "Results:\n",
      "BER: 0.00e+00\n",
      "SNR: 25.21 dB\n",
      "SIR =  7.13  dB\n",
      "GMI: 4.00 bits\n",
      "\n"
     ]
    },
    {
     "data": {
      "application/vnd.jupyter.widget-view+json": {
       "model_id": "7565f6f8859748849bebfe8e79d8bd8d",
       "version_major": 2,
       "version_minor": 0
      },
      "text/plain": [
       "  0%|          | 0/10 [00:00<?, ?it/s]"
      ]
     },
     "metadata": {},
     "output_type": "display_data"
    },
    {
     "data": {
      "application/vnd.jupyter.widget-view+json": {
       "model_id": "6277a9895b004edab1994e8993a8012a",
       "version_major": 2,
       "version_minor": 0
      },
      "text/plain": [
       "  0%|          | 0/1 [00:00<?, ?it/s]"
      ]
     },
     "metadata": {},
     "output_type": "display_data"
    },
    {
     "name": "stdout",
     "output_type": "stream",
     "text": [
      "CSPR = 11.00 dB\n",
      "Results:\n",
      "BER: 1.32e-03\n",
      "SNR: 16.36 dB\n",
      "SIR =  7.11  dB\n",
      "GMI: 3.98 bits\n",
      "\n"
     ]
    },
    {
     "data": {
      "application/vnd.jupyter.widget-view+json": {
       "model_id": "771b262a78254840aa8b95700a364691",
       "version_major": 2,
       "version_minor": 0
      },
      "text/plain": [
       "  0%|          | 0/1 [00:00<?, ?it/s]"
      ]
     },
     "metadata": {},
     "output_type": "display_data"
    },
    {
     "name": "stdout",
     "output_type": "stream",
     "text": [
      "CSPR = 11.00 dB\n",
      "Results:\n",
      "BER: 4.03e-04\n",
      "SNR: 17.35 dB\n",
      "SIR =  7.09  dB\n",
      "GMI: 3.99 bits\n",
      "\n"
     ]
    },
    {
     "data": {
      "application/vnd.jupyter.widget-view+json": {
       "model_id": "77c276ad311e412d949afbbede323b95",
       "version_major": 2,
       "version_minor": 0
      },
      "text/plain": [
       "  0%|          | 0/1 [00:00<?, ?it/s]"
      ]
     },
     "metadata": {},
     "output_type": "display_data"
    },
    {
     "name": "stdout",
     "output_type": "stream",
     "text": [
      "CSPR = 11.00 dB\n",
      "Results:\n",
      "BER: 8.12e-05\n",
      "SNR: 18.32 dB\n",
      "SIR =  7.1  dB\n",
      "GMI: 4.00 bits\n",
      "\n"
     ]
    },
    {
     "data": {
      "application/vnd.jupyter.widget-view+json": {
       "model_id": "28dd1b60d6da4b6b88fff6444677ebf7",
       "version_major": 2,
       "version_minor": 0
      },
      "text/plain": [
       "  0%|          | 0/1 [00:00<?, ?it/s]"
      ]
     },
     "metadata": {},
     "output_type": "display_data"
    },
    {
     "name": "stdout",
     "output_type": "stream",
     "text": [
      "CSPR = 11.00 dB\n",
      "Results:\n",
      "BER: 1.25e-05\n",
      "SNR: 19.34 dB\n",
      "SIR =  7.11  dB\n",
      "GMI: 4.00 bits\n",
      "\n"
     ]
    },
    {
     "data": {
      "application/vnd.jupyter.widget-view+json": {
       "model_id": "bf15c2b2322f44298c62be359ca7d797",
       "version_major": 2,
       "version_minor": 0
      },
      "text/plain": [
       "  0%|          | 0/1 [00:00<?, ?it/s]"
      ]
     },
     "metadata": {},
     "output_type": "display_data"
    },
    {
     "name": "stdout",
     "output_type": "stream",
     "text": [
      "CSPR = 11.00 dB\n",
      "Results:\n",
      "BER: 0.00e+00\n",
      "SNR: 20.33 dB\n",
      "SIR =  7.09  dB\n",
      "GMI: 4.00 bits\n",
      "\n"
     ]
    },
    {
     "data": {
      "application/vnd.jupyter.widget-view+json": {
       "model_id": "c2251129266a4936b0499fa51560c89b",
       "version_major": 2,
       "version_minor": 0
      },
      "text/plain": [
       "  0%|          | 0/1 [00:00<?, ?it/s]"
      ]
     },
     "metadata": {},
     "output_type": "display_data"
    },
    {
     "name": "stdout",
     "output_type": "stream",
     "text": [
      "CSPR = 11.00 dB\n",
      "Results:\n",
      "BER: 3.13e-06\n",
      "SNR: 21.29 dB\n",
      "SIR =  7.14  dB\n",
      "GMI: 4.00 bits\n",
      "\n"
     ]
    },
    {
     "data": {
      "application/vnd.jupyter.widget-view+json": {
       "model_id": "ae315892a35141b38d8bfe73e1feeb45",
       "version_major": 2,
       "version_minor": 0
      },
      "text/plain": [
       "  0%|          | 0/1 [00:00<?, ?it/s]"
      ]
     },
     "metadata": {},
     "output_type": "display_data"
    },
    {
     "name": "stdout",
     "output_type": "stream",
     "text": [
      "CSPR = 11.00 dB\n",
      "Results:\n",
      "BER: 0.00e+00\n",
      "SNR: 22.29 dB\n",
      "SIR =  7.1  dB\n",
      "GMI: 4.00 bits\n",
      "\n"
     ]
    },
    {
     "data": {
      "application/vnd.jupyter.widget-view+json": {
       "model_id": "9d507a53dea5464c8cab59ffab8e54eb",
       "version_major": 2,
       "version_minor": 0
      },
      "text/plain": [
       "  0%|          | 0/1 [00:00<?, ?it/s]"
      ]
     },
     "metadata": {},
     "output_type": "display_data"
    },
    {
     "name": "stdout",
     "output_type": "stream",
     "text": [
      "CSPR = 11.00 dB\n",
      "Results:\n",
      "BER: 0.00e+00\n",
      "SNR: 23.29 dB\n",
      "SIR =  7.13  dB\n",
      "GMI: 4.00 bits\n",
      "\n"
     ]
    },
    {
     "data": {
      "application/vnd.jupyter.widget-view+json": {
       "model_id": "69c6c2809fe24bdca67d8b177979d2f7",
       "version_major": 2,
       "version_minor": 0
      },
      "text/plain": [
       "  0%|          | 0/1 [00:00<?, ?it/s]"
      ]
     },
     "metadata": {},
     "output_type": "display_data"
    },
    {
     "name": "stdout",
     "output_type": "stream",
     "text": [
      "CSPR = 11.00 dB\n",
      "Results:\n",
      "BER: 0.00e+00\n",
      "SNR: 24.26 dB\n",
      "SIR =  7.12  dB\n",
      "GMI: 4.00 bits\n",
      "\n"
     ]
    },
    {
     "data": {
      "application/vnd.jupyter.widget-view+json": {
       "model_id": "afc3c7d41c844111a4eea340c9bd7809",
       "version_major": 2,
       "version_minor": 0
      },
      "text/plain": [
       "  0%|          | 0/1 [00:00<?, ?it/s]"
      ]
     },
     "metadata": {},
     "output_type": "display_data"
    },
    {
     "name": "stdout",
     "output_type": "stream",
     "text": [
      "CSPR = 11.00 dB\n",
      "Results:\n",
      "BER: 0.00e+00\n",
      "SNR: 25.19 dB\n",
      "SIR =  7.11  dB\n",
      "GMI: 4.00 bits\n",
      "\n"
     ]
    },
    {
     "data": {
      "application/vnd.jupyter.widget-view+json": {
       "model_id": "dc3d73b4833a484bbc505f472928a46b",
       "version_major": 2,
       "version_minor": 0
      },
      "text/plain": [
       "  0%|          | 0/10 [00:00<?, ?it/s]"
      ]
     },
     "metadata": {},
     "output_type": "display_data"
    },
    {
     "data": {
      "application/vnd.jupyter.widget-view+json": {
       "model_id": "4586d53332e14c4d8a92ec2b25bb6ba0",
       "version_major": 2,
       "version_minor": 0
      },
      "text/plain": [
       "  0%|          | 0/1 [00:00<?, ?it/s]"
      ]
     },
     "metadata": {},
     "output_type": "display_data"
    },
    {
     "name": "stdout",
     "output_type": "stream",
     "text": [
      "CSPR = 12.00 dB\n",
      "Results:\n",
      "BER: 1.25e-03\n",
      "SNR: 16.38 dB\n",
      "SIR =  7.12  dB\n",
      "GMI: 3.98 bits\n",
      "\n"
     ]
    },
    {
     "data": {
      "application/vnd.jupyter.widget-view+json": {
       "model_id": "170ffb4c7fa049b4a8e3814d2b9a0366",
       "version_major": 2,
       "version_minor": 0
      },
      "text/plain": [
       "  0%|          | 0/1 [00:00<?, ?it/s]"
      ]
     },
     "metadata": {},
     "output_type": "display_data"
    },
    {
     "name": "stdout",
     "output_type": "stream",
     "text": [
      "CSPR = 12.00 dB\n",
      "Results:\n",
      "BER: 3.91e-04\n",
      "SNR: 17.36 dB\n",
      "SIR =  7.12  dB\n",
      "GMI: 3.99 bits\n",
      "\n"
     ]
    },
    {
     "data": {
      "application/vnd.jupyter.widget-view+json": {
       "model_id": "da932c87cdd043c2918b821f75ed2ae1",
       "version_major": 2,
       "version_minor": 0
      },
      "text/plain": [
       "  0%|          | 0/1 [00:00<?, ?it/s]"
      ]
     },
     "metadata": {},
     "output_type": "display_data"
    },
    {
     "name": "stdout",
     "output_type": "stream",
     "text": [
      "CSPR = 12.00 dB\n",
      "Results:\n",
      "BER: 1.06e-04\n",
      "SNR: 18.36 dB\n",
      "SIR =  7.11  dB\n",
      "GMI: 4.00 bits\n",
      "\n"
     ]
    },
    {
     "data": {
      "application/vnd.jupyter.widget-view+json": {
       "model_id": "e291e1d165a04143a0447b08ed01bd07",
       "version_major": 2,
       "version_minor": 0
      },
      "text/plain": [
       "  0%|          | 0/1 [00:00<?, ?it/s]"
      ]
     },
     "metadata": {},
     "output_type": "display_data"
    },
    {
     "name": "stdout",
     "output_type": "stream",
     "text": [
      "CSPR = 12.00 dB\n",
      "Results:\n",
      "BER: 1.56e-05\n",
      "SNR: 19.33 dB\n",
      "SIR =  7.13  dB\n",
      "GMI: 4.00 bits\n",
      "\n"
     ]
    },
    {
     "data": {
      "application/vnd.jupyter.widget-view+json": {
       "model_id": "f677bab23e984d1f9dcf57d78c8daf87",
       "version_major": 2,
       "version_minor": 0
      },
      "text/plain": [
       "  0%|          | 0/1 [00:00<?, ?it/s]"
      ]
     },
     "metadata": {},
     "output_type": "display_data"
    },
    {
     "name": "stdout",
     "output_type": "stream",
     "text": [
      "CSPR = 12.00 dB\n",
      "Results:\n",
      "BER: 0.00e+00\n",
      "SNR: 20.37 dB\n",
      "SIR =  7.09  dB\n",
      "GMI: 4.00 bits\n",
      "\n"
     ]
    },
    {
     "data": {
      "application/vnd.jupyter.widget-view+json": {
       "model_id": "2ba1b03655dc485d9b65502da2f85748",
       "version_major": 2,
       "version_minor": 0
      },
      "text/plain": [
       "  0%|          | 0/1 [00:00<?, ?it/s]"
      ]
     },
     "metadata": {},
     "output_type": "display_data"
    },
    {
     "name": "stdout",
     "output_type": "stream",
     "text": [
      "CSPR = 12.00 dB\n",
      "Results:\n",
      "BER: 0.00e+00\n",
      "SNR: 21.32 dB\n",
      "SIR =  7.11  dB\n",
      "GMI: 4.00 bits\n",
      "\n"
     ]
    },
    {
     "data": {
      "application/vnd.jupyter.widget-view+json": {
       "model_id": "e86bd80b43f440e6a7102040c2cdc618",
       "version_major": 2,
       "version_minor": 0
      },
      "text/plain": [
       "  0%|          | 0/1 [00:00<?, ?it/s]"
      ]
     },
     "metadata": {},
     "output_type": "display_data"
    },
    {
     "name": "stdout",
     "output_type": "stream",
     "text": [
      "CSPR = 12.00 dB\n",
      "Results:\n",
      "BER: 0.00e+00\n",
      "SNR: 22.31 dB\n",
      "SIR =  7.12  dB\n",
      "GMI: 4.00 bits\n",
      "\n"
     ]
    },
    {
     "data": {
      "application/vnd.jupyter.widget-view+json": {
       "model_id": "8988fb146d30492ca981a8031935bf1a",
       "version_major": 2,
       "version_minor": 0
      },
      "text/plain": [
       "  0%|          | 0/1 [00:00<?, ?it/s]"
      ]
     },
     "metadata": {},
     "output_type": "display_data"
    },
    {
     "name": "stdout",
     "output_type": "stream",
     "text": [
      "CSPR = 12.00 dB\n",
      "Results:\n",
      "BER: 0.00e+00\n",
      "SNR: 23.27 dB\n",
      "SIR =  7.11  dB\n",
      "GMI: 4.00 bits\n",
      "\n"
     ]
    },
    {
     "data": {
      "application/vnd.jupyter.widget-view+json": {
       "model_id": "cbf604bc35d841b1b6138b049b697f53",
       "version_major": 2,
       "version_minor": 0
      },
      "text/plain": [
       "  0%|          | 0/1 [00:00<?, ?it/s]"
      ]
     },
     "metadata": {},
     "output_type": "display_data"
    },
    {
     "name": "stdout",
     "output_type": "stream",
     "text": [
      "CSPR = 12.00 dB\n",
      "Results:\n",
      "BER: 0.00e+00\n",
      "SNR: 24.23 dB\n",
      "SIR =  7.13  dB\n",
      "GMI: 4.00 bits\n",
      "\n"
     ]
    },
    {
     "data": {
      "application/vnd.jupyter.widget-view+json": {
       "model_id": "a3f9f590045f48f9a325784c56cb0fa6",
       "version_major": 2,
       "version_minor": 0
      },
      "text/plain": [
       "  0%|          | 0/1 [00:00<?, ?it/s]"
      ]
     },
     "metadata": {},
     "output_type": "display_data"
    },
    {
     "name": "stdout",
     "output_type": "stream",
     "text": [
      "CSPR = 12.00 dB\n",
      "Results:\n",
      "BER: 0.00e+00\n",
      "SNR: 25.18 dB\n",
      "SIR =  7.1  dB\n",
      "GMI: 4.00 bits\n",
      "\n"
     ]
    },
    {
     "data": {
      "application/vnd.jupyter.widget-view+json": {
       "model_id": "1bb3faf5e9124ff8b8ff54aa804ff764",
       "version_major": 2,
       "version_minor": 0
      },
      "text/plain": [
       "  0%|          | 0/10 [00:00<?, ?it/s]"
      ]
     },
     "metadata": {},
     "output_type": "display_data"
    },
    {
     "data": {
      "application/vnd.jupyter.widget-view+json": {
       "model_id": "df2c4122d2e4462f89b493d058931ec3",
       "version_major": 2,
       "version_minor": 0
      },
      "text/plain": [
       "  0%|          | 0/1 [00:00<?, ?it/s]"
      ]
     },
     "metadata": {},
     "output_type": "display_data"
    },
    {
     "name": "stdout",
     "output_type": "stream",
     "text": [
      "CSPR = 13.00 dB\n",
      "Results:\n",
      "BER: 1.33e-03\n",
      "SNR: 16.37 dB\n",
      "SIR =  7.11  dB\n",
      "GMI: 3.98 bits\n",
      "\n"
     ]
    },
    {
     "data": {
      "application/vnd.jupyter.widget-view+json": {
       "model_id": "f36052de521647a990f16eabb5c0c826",
       "version_major": 2,
       "version_minor": 0
      },
      "text/plain": [
       "  0%|          | 0/1 [00:00<?, ?it/s]"
      ]
     },
     "metadata": {},
     "output_type": "display_data"
    },
    {
     "name": "stdout",
     "output_type": "stream",
     "text": [
      "CSPR = 13.00 dB\n",
      "Results:\n",
      "BER: 4.03e-04\n",
      "SNR: 17.38 dB\n",
      "SIR =  7.12  dB\n",
      "GMI: 3.99 bits\n",
      "\n"
     ]
    },
    {
     "data": {
      "application/vnd.jupyter.widget-view+json": {
       "model_id": "a583981087b546598650c2c00b44fa26",
       "version_major": 2,
       "version_minor": 0
      },
      "text/plain": [
       "  0%|          | 0/1 [00:00<?, ?it/s]"
      ]
     },
     "metadata": {},
     "output_type": "display_data"
    },
    {
     "name": "stdout",
     "output_type": "stream",
     "text": [
      "CSPR = 13.00 dB\n",
      "Results:\n",
      "BER: 8.75e-05\n",
      "SNR: 18.36 dB\n",
      "SIR =  7.11  dB\n",
      "GMI: 4.00 bits\n",
      "\n"
     ]
    },
    {
     "data": {
      "application/vnd.jupyter.widget-view+json": {
       "model_id": "2713c132c8034810be3ca12654c24c6a",
       "version_major": 2,
       "version_minor": 0
      },
      "text/plain": [
       "  0%|          | 0/1 [00:00<?, ?it/s]"
      ]
     },
     "metadata": {},
     "output_type": "display_data"
    },
    {
     "name": "stdout",
     "output_type": "stream",
     "text": [
      "CSPR = 13.00 dB\n",
      "Results:\n",
      "BER: 1.25e-05\n",
      "SNR: 19.35 dB\n",
      "SIR =  7.11  dB\n",
      "GMI: 4.00 bits\n",
      "\n"
     ]
    },
    {
     "data": {
      "application/vnd.jupyter.widget-view+json": {
       "model_id": "e3b51067934a4032bc4d99169e989cbc",
       "version_major": 2,
       "version_minor": 0
      },
      "text/plain": [
       "  0%|          | 0/1 [00:00<?, ?it/s]"
      ]
     },
     "metadata": {},
     "output_type": "display_data"
    },
    {
     "name": "stdout",
     "output_type": "stream",
     "text": [
      "CSPR = 13.00 dB\n",
      "Results:\n",
      "BER: 0.00e+00\n",
      "SNR: 20.32 dB\n",
      "SIR =  7.13  dB\n",
      "GMI: 4.00 bits\n",
      "\n"
     ]
    },
    {
     "data": {
      "application/vnd.jupyter.widget-view+json": {
       "model_id": "3e14403f7c4347a1a86043235e2978cd",
       "version_major": 2,
       "version_minor": 0
      },
      "text/plain": [
       "  0%|          | 0/1 [00:00<?, ?it/s]"
      ]
     },
     "metadata": {},
     "output_type": "display_data"
    },
    {
     "name": "stdout",
     "output_type": "stream",
     "text": [
      "CSPR = 13.00 dB\n",
      "Results:\n",
      "BER: 0.00e+00\n",
      "SNR: 21.32 dB\n",
      "SIR =  7.12  dB\n",
      "GMI: 4.00 bits\n",
      "\n"
     ]
    },
    {
     "data": {
      "application/vnd.jupyter.widget-view+json": {
       "model_id": "5acc02f2a8ae48b58caf28724a72378c",
       "version_major": 2,
       "version_minor": 0
      },
      "text/plain": [
       "  0%|          | 0/1 [00:00<?, ?it/s]"
      ]
     },
     "metadata": {},
     "output_type": "display_data"
    },
    {
     "name": "stdout",
     "output_type": "stream",
     "text": [
      "CSPR = 13.00 dB\n",
      "Results:\n",
      "BER: 0.00e+00\n",
      "SNR: 22.31 dB\n",
      "SIR =  7.13  dB\n",
      "GMI: 4.00 bits\n",
      "\n"
     ]
    },
    {
     "data": {
      "application/vnd.jupyter.widget-view+json": {
       "model_id": "0e1630007b4a47bb9cd3a0eb97f16536",
       "version_major": 2,
       "version_minor": 0
      },
      "text/plain": [
       "  0%|          | 0/1 [00:00<?, ?it/s]"
      ]
     },
     "metadata": {},
     "output_type": "display_data"
    },
    {
     "name": "stdout",
     "output_type": "stream",
     "text": [
      "CSPR = 13.00 dB\n",
      "Results:\n",
      "BER: 0.00e+00\n",
      "SNR: 23.28 dB\n",
      "SIR =  7.1  dB\n",
      "GMI: 4.00 bits\n",
      "\n"
     ]
    },
    {
     "data": {
      "application/vnd.jupyter.widget-view+json": {
       "model_id": "12243d2000b74bb0ab32ca9fec14d633",
       "version_major": 2,
       "version_minor": 0
      },
      "text/plain": [
       "  0%|          | 0/1 [00:00<?, ?it/s]"
      ]
     },
     "metadata": {},
     "output_type": "display_data"
    },
    {
     "name": "stdout",
     "output_type": "stream",
     "text": [
      "CSPR = 13.00 dB\n",
      "Results:\n",
      "BER: 0.00e+00\n",
      "SNR: 24.25 dB\n",
      "SIR =  7.11  dB\n",
      "GMI: 4.00 bits\n",
      "\n"
     ]
    },
    {
     "data": {
      "application/vnd.jupyter.widget-view+json": {
       "model_id": "72fd944f5d68486294e6e28f1eea210f",
       "version_major": 2,
       "version_minor": 0
      },
      "text/plain": [
       "  0%|          | 0/1 [00:00<?, ?it/s]"
      ]
     },
     "metadata": {},
     "output_type": "display_data"
    },
    {
     "name": "stdout",
     "output_type": "stream",
     "text": [
      "CSPR = 13.00 dB\n",
      "Results:\n",
      "BER: 0.00e+00\n",
      "SNR: 25.16 dB\n",
      "SIR =  7.12  dB\n",
      "GMI: 4.00 bits\n",
      "\n"
     ]
    },
    {
     "data": {
      "application/vnd.jupyter.widget-view+json": {
       "model_id": "0333383876c547d995b16812c2b23807",
       "version_major": 2,
       "version_minor": 0
      },
      "text/plain": [
       "  0%|          | 0/10 [00:00<?, ?it/s]"
      ]
     },
     "metadata": {},
     "output_type": "display_data"
    },
    {
     "data": {
      "application/vnd.jupyter.widget-view+json": {
       "model_id": "5bd6b4139cac4300a0c5a1c65bd9a341",
       "version_major": 2,
       "version_minor": 0
      },
      "text/plain": [
       "  0%|          | 0/1 [00:00<?, ?it/s]"
      ]
     },
     "metadata": {},
     "output_type": "display_data"
    },
    {
     "name": "stdout",
     "output_type": "stream",
     "text": [
      "CSPR = 14.00 dB\n",
      "Results:\n",
      "BER: 1.38e-03\n",
      "SNR: 16.39 dB\n",
      "SIR =  7.11  dB\n",
      "GMI: 3.98 bits\n",
      "\n"
     ]
    },
    {
     "data": {
      "application/vnd.jupyter.widget-view+json": {
       "model_id": "c8a38f145e0544cb8d12c01610f2a060",
       "version_major": 2,
       "version_minor": 0
      },
      "text/plain": [
       "  0%|          | 0/1 [00:00<?, ?it/s]"
      ]
     },
     "metadata": {},
     "output_type": "display_data"
    },
    {
     "name": "stdout",
     "output_type": "stream",
     "text": [
      "CSPR = 14.00 dB\n",
      "Results:\n",
      "BER: 3.94e-04\n",
      "SNR: 17.37 dB\n",
      "SIR =  7.12  dB\n",
      "GMI: 3.99 bits\n",
      "\n"
     ]
    },
    {
     "data": {
      "application/vnd.jupyter.widget-view+json": {
       "model_id": "c5844903baed42dd99062326ba393321",
       "version_major": 2,
       "version_minor": 0
      },
      "text/plain": [
       "  0%|          | 0/1 [00:00<?, ?it/s]"
      ]
     },
     "metadata": {},
     "output_type": "display_data"
    },
    {
     "name": "stdout",
     "output_type": "stream",
     "text": [
      "CSPR = 14.00 dB\n",
      "Results:\n",
      "BER: 6.88e-05\n",
      "SNR: 18.37 dB\n",
      "SIR =  7.12  dB\n",
      "GMI: 4.00 bits\n",
      "\n"
     ]
    },
    {
     "data": {
      "application/vnd.jupyter.widget-view+json": {
       "model_id": "8005481158bc40ec8add48750f381b78",
       "version_major": 2,
       "version_minor": 0
      },
      "text/plain": [
       "  0%|          | 0/1 [00:00<?, ?it/s]"
      ]
     },
     "metadata": {},
     "output_type": "display_data"
    },
    {
     "name": "stdout",
     "output_type": "stream",
     "text": [
      "CSPR = 14.00 dB\n",
      "Results:\n",
      "BER: 9.37e-06\n",
      "SNR: 19.31 dB\n",
      "SIR =  7.09  dB\n",
      "GMI: 4.00 bits\n",
      "\n"
     ]
    },
    {
     "data": {
      "application/vnd.jupyter.widget-view+json": {
       "model_id": "13b29a0c0fa64296aec5471c3ff77c68",
       "version_major": 2,
       "version_minor": 0
      },
      "text/plain": [
       "  0%|          | 0/1 [00:00<?, ?it/s]"
      ]
     },
     "metadata": {},
     "output_type": "display_data"
    },
    {
     "name": "stdout",
     "output_type": "stream",
     "text": [
      "CSPR = 14.00 dB\n",
      "Results:\n",
      "BER: 3.13e-06\n",
      "SNR: 20.35 dB\n",
      "SIR =  7.11  dB\n",
      "GMI: 4.00 bits\n",
      "\n"
     ]
    },
    {
     "data": {
      "application/vnd.jupyter.widget-view+json": {
       "model_id": "54ce24b466ee4c3a8deaa77ea56a8004",
       "version_major": 2,
       "version_minor": 0
      },
      "text/plain": [
       "  0%|          | 0/1 [00:00<?, ?it/s]"
      ]
     },
     "metadata": {},
     "output_type": "display_data"
    },
    {
     "name": "stdout",
     "output_type": "stream",
     "text": [
      "CSPR = 14.00 dB\n",
      "Results:\n",
      "BER: 0.00e+00\n",
      "SNR: 21.31 dB\n",
      "SIR =  7.11  dB\n",
      "GMI: 4.00 bits\n",
      "\n"
     ]
    },
    {
     "data": {
      "application/vnd.jupyter.widget-view+json": {
       "model_id": "ab85448f69234fa788880cdb975bab03",
       "version_major": 2,
       "version_minor": 0
      },
      "text/plain": [
       "  0%|          | 0/1 [00:00<?, ?it/s]"
      ]
     },
     "metadata": {},
     "output_type": "display_data"
    },
    {
     "name": "stdout",
     "output_type": "stream",
     "text": [
      "CSPR = 14.00 dB\n",
      "Results:\n",
      "BER: 0.00e+00\n",
      "SNR: 22.31 dB\n",
      "SIR =  7.1  dB\n",
      "GMI: 4.00 bits\n",
      "\n"
     ]
    },
    {
     "data": {
      "application/vnd.jupyter.widget-view+json": {
       "model_id": "ce3a3a2bdb834dfda1b823907f15e724",
       "version_major": 2,
       "version_minor": 0
      },
      "text/plain": [
       "  0%|          | 0/1 [00:00<?, ?it/s]"
      ]
     },
     "metadata": {},
     "output_type": "display_data"
    },
    {
     "name": "stdout",
     "output_type": "stream",
     "text": [
      "CSPR = 14.00 dB\n",
      "Results:\n",
      "BER: 0.00e+00\n",
      "SNR: 23.27 dB\n",
      "SIR =  7.11  dB\n",
      "GMI: 4.00 bits\n",
      "\n"
     ]
    },
    {
     "data": {
      "application/vnd.jupyter.widget-view+json": {
       "model_id": "709dad2f6ad646c0afe53d37f57d373d",
       "version_major": 2,
       "version_minor": 0
      },
      "text/plain": [
       "  0%|          | 0/1 [00:00<?, ?it/s]"
      ]
     },
     "metadata": {},
     "output_type": "display_data"
    },
    {
     "name": "stdout",
     "output_type": "stream",
     "text": [
      "CSPR = 14.00 dB\n",
      "Results:\n",
      "BER: 0.00e+00\n",
      "SNR: 24.21 dB\n",
      "SIR =  7.12  dB\n",
      "GMI: 4.00 bits\n",
      "\n"
     ]
    },
    {
     "data": {
      "application/vnd.jupyter.widget-view+json": {
       "model_id": "527b833f04214d1d8dde807cd09a7103",
       "version_major": 2,
       "version_minor": 0
      },
      "text/plain": [
       "  0%|          | 0/1 [00:00<?, ?it/s]"
      ]
     },
     "metadata": {},
     "output_type": "display_data"
    },
    {
     "name": "stdout",
     "output_type": "stream",
     "text": [
      "CSPR = 14.00 dB\n",
      "Results:\n",
      "BER: 0.00e+00\n",
      "SNR: 25.20 dB\n",
      "SIR =  7.11  dB\n",
      "GMI: 4.00 bits\n",
      "\n"
     ]
    },
    {
     "data": {
      "application/vnd.jupyter.widget-view+json": {
       "model_id": "4a2ff15e34874d6a80296b3404d1146d",
       "version_major": 2,
       "version_minor": 0
      },
      "text/plain": [
       "  0%|          | 0/10 [00:00<?, ?it/s]"
      ]
     },
     "metadata": {},
     "output_type": "display_data"
    },
    {
     "data": {
      "application/vnd.jupyter.widget-view+json": {
       "model_id": "e4ea1be1fb5e4dfd8ff77785872b8232",
       "version_major": 2,
       "version_minor": 0
      },
      "text/plain": [
       "  0%|          | 0/1 [00:00<?, ?it/s]"
      ]
     },
     "metadata": {},
     "output_type": "display_data"
    },
    {
     "name": "stdout",
     "output_type": "stream",
     "text": [
      "CSPR = 15.00 dB\n",
      "Results:\n",
      "BER: 1.31e-03\n",
      "SNR: 16.35 dB\n",
      "SIR =  7.11  dB\n",
      "GMI: 3.98 bits\n",
      "\n"
     ]
    },
    {
     "data": {
      "application/vnd.jupyter.widget-view+json": {
       "model_id": "70fde6047d824b939590c6fb8f722d36",
       "version_major": 2,
       "version_minor": 0
      },
      "text/plain": [
       "  0%|          | 0/1 [00:00<?, ?it/s]"
      ]
     },
     "metadata": {},
     "output_type": "display_data"
    },
    {
     "name": "stdout",
     "output_type": "stream",
     "text": [
      "CSPR = 15.00 dB\n",
      "Results:\n",
      "BER: 4.19e-04\n",
      "SNR: 17.36 dB\n",
      "SIR =  7.12  dB\n",
      "GMI: 3.99 bits\n",
      "\n"
     ]
    },
    {
     "data": {
      "application/vnd.jupyter.widget-view+json": {
       "model_id": "5028e2e852fd4159acef064fd1164d11",
       "version_major": 2,
       "version_minor": 0
      },
      "text/plain": [
       "  0%|          | 0/1 [00:00<?, ?it/s]"
      ]
     },
     "metadata": {},
     "output_type": "display_data"
    },
    {
     "name": "stdout",
     "output_type": "stream",
     "text": [
      "CSPR = 15.00 dB\n",
      "Results:\n",
      "BER: 1.12e-04\n",
      "SNR: 18.34 dB\n",
      "SIR =  7.11  dB\n",
      "GMI: 4.00 bits\n",
      "\n"
     ]
    },
    {
     "data": {
      "application/vnd.jupyter.widget-view+json": {
       "model_id": "b0e923f7a6b24ee3b5ac3ebbb2f2b969",
       "version_major": 2,
       "version_minor": 0
      },
      "text/plain": [
       "  0%|          | 0/1 [00:00<?, ?it/s]"
      ]
     },
     "metadata": {},
     "output_type": "display_data"
    },
    {
     "name": "stdout",
     "output_type": "stream",
     "text": [
      "CSPR = 15.00 dB\n",
      "Results:\n",
      "BER: 2.19e-05\n",
      "SNR: 19.34 dB\n",
      "SIR =  7.13  dB\n",
      "GMI: 4.00 bits\n",
      "\n"
     ]
    },
    {
     "data": {
      "application/vnd.jupyter.widget-view+json": {
       "model_id": "0bbaa4d6f3f1446b9f61912045d9d2a4",
       "version_major": 2,
       "version_minor": 0
      },
      "text/plain": [
       "  0%|          | 0/1 [00:00<?, ?it/s]"
      ]
     },
     "metadata": {},
     "output_type": "display_data"
    },
    {
     "name": "stdout",
     "output_type": "stream",
     "text": [
      "CSPR = 15.00 dB\n",
      "Results:\n",
      "BER: 3.13e-06\n",
      "SNR: 20.35 dB\n",
      "SIR =  7.12  dB\n",
      "GMI: 4.00 bits\n",
      "\n"
     ]
    },
    {
     "data": {
      "application/vnd.jupyter.widget-view+json": {
       "model_id": "5a51061950ab4846a54cfd1743919653",
       "version_major": 2,
       "version_minor": 0
      },
      "text/plain": [
       "  0%|          | 0/1 [00:00<?, ?it/s]"
      ]
     },
     "metadata": {},
     "output_type": "display_data"
    },
    {
     "name": "stdout",
     "output_type": "stream",
     "text": [
      "CSPR = 15.00 dB\n",
      "Results:\n",
      "BER: 0.00e+00\n",
      "SNR: 21.31 dB\n",
      "SIR =  7.11  dB\n",
      "GMI: 4.00 bits\n",
      "\n"
     ]
    },
    {
     "data": {
      "application/vnd.jupyter.widget-view+json": {
       "model_id": "688fb461503a4df2aa5c61135e7fc770",
       "version_major": 2,
       "version_minor": 0
      },
      "text/plain": [
       "  0%|          | 0/1 [00:00<?, ?it/s]"
      ]
     },
     "metadata": {},
     "output_type": "display_data"
    },
    {
     "name": "stdout",
     "output_type": "stream",
     "text": [
      "CSPR = 15.00 dB\n",
      "Results:\n",
      "BER: 0.00e+00\n",
      "SNR: 22.30 dB\n",
      "SIR =  7.11  dB\n",
      "GMI: 4.00 bits\n",
      "\n"
     ]
    },
    {
     "data": {
      "application/vnd.jupyter.widget-view+json": {
       "model_id": "7146a40588a3479ca4b550bdb21d1197",
       "version_major": 2,
       "version_minor": 0
      },
      "text/plain": [
       "  0%|          | 0/1 [00:00<?, ?it/s]"
      ]
     },
     "metadata": {},
     "output_type": "display_data"
    },
    {
     "name": "stdout",
     "output_type": "stream",
     "text": [
      "CSPR = 15.00 dB\n",
      "Results:\n",
      "BER: 0.00e+00\n",
      "SNR: 23.27 dB\n",
      "SIR =  7.12  dB\n",
      "GMI: 4.00 bits\n",
      "\n"
     ]
    },
    {
     "data": {
      "application/vnd.jupyter.widget-view+json": {
       "model_id": "7066e8cb830e4882a969e5bc1fee3d39",
       "version_major": 2,
       "version_minor": 0
      },
      "text/plain": [
       "  0%|          | 0/1 [00:00<?, ?it/s]"
      ]
     },
     "metadata": {},
     "output_type": "display_data"
    },
    {
     "name": "stdout",
     "output_type": "stream",
     "text": [
      "CSPR = 15.00 dB\n",
      "Results:\n",
      "BER: 0.00e+00\n",
      "SNR: 24.23 dB\n",
      "SIR =  7.12  dB\n",
      "GMI: 4.00 bits\n",
      "\n"
     ]
    },
    {
     "data": {
      "application/vnd.jupyter.widget-view+json": {
       "model_id": "be3bd41ed6824f72bac4208ab20e15c6",
       "version_major": 2,
       "version_minor": 0
      },
      "text/plain": [
       "  0%|          | 0/1 [00:00<?, ?it/s]"
      ]
     },
     "metadata": {},
     "output_type": "display_data"
    },
    {
     "name": "stdout",
     "output_type": "stream",
     "text": [
      "CSPR = 15.00 dB\n",
      "Results:\n",
      "BER: 0.00e+00\n",
      "SNR: 25.19 dB\n",
      "SIR =  7.1  dB\n",
      "GMI: 4.00 bits\n",
      "\n"
     ]
    }
   ],
   "source": [
    "loPower = np.arange(6,16,1)\n",
    "SNR_values = np.arange(16,26,1)\n",
    "\n",
    "BER = np.zeros((3, len(loPower), len(SNR_values)))\n",
    "SER = np.zeros((3, len(loPower), len(SNR_values)))\n",
    "GMI = np.zeros((3, len(loPower), len(SNR_values)))\n",
    "MI  = np.zeros((3, len(loPower), len(SNR_values)))\n",
    "SNR = np.zeros((3, len(loPower), len(SNR_values)))\n",
    "SIR = np.zeros((3, len(loPower), len(SNR_values)))\n",
    "\n",
    "for indfile in range(0, 4):\n",
    "    for indAlg, alg in enumerate(['KK', 'MLP', 'CONVNET']):\n",
    "        for indPower, Plo_dBm in enumerate(tqdm(loPower)):\n",
    "            for indSNR, SNRdB in enumerate(tqdm(SNR_values)):\n",
    "\n",
    "                # generate optical signal signal\n",
    "                sigTx, symbTx_, paramTx = simpleWDMTx(paramTx)\n",
    "                        \n",
    "                # simulate linear signal propagation\n",
    "                sigCh = linFiberCh(sigTx, Ltotal, alpha, D, Fc, Fs)\n",
    "                # AWGN channel\n",
    "                sigCh = awgn(sigCh, SNRdB, Fs, paramPD.B)\n",
    "                \n",
    "                symbTx = symbTx_[:, :, chIndex]\n",
    "                Plo = 10 ** (Plo_dBm / 10) * 1e-3  # power in W\n",
    "                \n",
    "                # generate LO field\n",
    "                π = np.pi\n",
    "                t = np.arange(0, len(sigCh))*Ts\n",
    "                ϕ_pn_lo = phaseNoise(lw, len(sigCh), Ts)\n",
    "\n",
    "                sigLO = np.sqrt(Plo) * np.exp(-1j * (2 * π * FO * t + ϕ_lo + ϕ_pn_lo))\n",
    "\n",
    "                # Add LO to the received signal\n",
    "                sigRx = np.sqrt(Plo) + sigCh* np.exp(1j * (2 * π * FO * t + ϕ_lo + ϕ_pn_lo))\n",
    "                sfm   = sigRx.copy()\n",
    "\n",
    "                print('CSPR = %.2f dB'%(10*np.log10(signal_power(sigLO)/signal_power(sigTx))))\n",
    "\n",
    "                # simulate ideal direct-detection optical receiver\n",
    "                Ipd = photodiode(sigRx, paramPD)\n",
    "                Amp = np.sqrt(Ipd.real)\n",
    "                Amp = resample(Amp, paramADC).real\n",
    "\n",
    "                # resampling to ADC sampling rate\n",
    "                sigCh = resample(sigCh, paramADC)\n",
    "                sfm = resample(sfm, paramADC)\n",
    "                newFs = paramADC.SpS_out*paramTx.Rs\n",
    "\n",
    "                sfm = sfm/np.sqrt(signal_power(sfm))\n",
    "                if alg == 'KK':\n",
    "                    # Kramers-Kronig phase-retrieval\n",
    "                    phiTime = KramersKronigRx(Amp, newFs)\n",
    "                    # optical field reconstruction\n",
    "                    sigRx = Amp*np.exp(1j*phiTime)\n",
    "\n",
    "                # elif alg == 'MLP':\n",
    "                #     # Mlp phase-retrieval\n",
    "                #     model = tf.keras.models.load_model(path_mlp+'testModel_SpS_'+str(paramADC.SpS_out)+'_CSPR_'+str(Plo_dBm)+'dB_Rolloff_0.5') \n",
    "                #     #sigPhase = np.angle(sfm) # get signal phase samples (labels) (L,)\n",
    "                #     sigAmp  = np.pad(Amp, (int(N/2), int(N/2)), 'constant') # get signal amplitude samples (L,)\n",
    "                #     # create set of input features\n",
    "                #     X_input = np.zeros((len(sfm), N)) #(L,N)\n",
    "\n",
    "                #     for indPhase in range(len(sfm)):\n",
    "                #         X_input[indPhase] = sigAmp[indPhase:N+indPhase]\n",
    "\n",
    "                #     sigRx_NN = model.predict(X_input)\n",
    "                #     # optical field reconstruction\n",
    "                #     sigRx = sigRx_NN[:,0]+1j*sigRx_NN[:,1]\n",
    "\n",
    "                # elif alg == 'CONVNET':\n",
    "                #     # ConvNet phase-retrieval\n",
    "                #     model = tf.keras.models.load_model(path_conv+'testModel_SpS_'+str(paramADC.SpS_out)+'_CSPR_'+str(Plo_dBm)+'dB_Rolloff0.5')\n",
    "                #     #sigPhase = np.angle(sfm) # get signal phase samples (labels) (L,)\n",
    "                #     sigAmp  = np.pad(Amp, (int(N/2), int(N/2)), 'constant') # get signal amplitude samples (L,)\n",
    "                #     # create set of input features\n",
    "                #     X_input = np.zeros((len(sfm), N)) #(L,N)\n",
    "\n",
    "                #     for indPhase in range(len(sfm)):\n",
    "                #         X_input[indPhase] = sigAmp[indPhase:N+indPhase]\n",
    "\n",
    "                #     sigRx_NN = model.predict(X_input)\n",
    "                #     # optical field reconstruction\n",
    "                #     sigRx = sigRx_NN[:,0]+1j*sigRx_NN[:,1]    \n",
    "\n",
    "                # remove DC level\n",
    "                sigRx -= np.mean(sigRx) # np.sqrt(Plo)  \n",
    "\n",
    "                # downshift to baseband\n",
    "                t = np.arange(0, len(sigRx))*(1/newFs)\n",
    "                sigRx *= np.exp(-1j * (2 * π * FO * t))\n",
    "                \n",
    "                # Matched filtering\n",
    "                if paramTx.pulse == \"nrz\":\n",
    "                    pulse = pulseShape(\"nrz\", paramADC.SpS_out)\n",
    "                elif paramTx.pulse == \"rrc\":\n",
    "                    pulse = pulseShape(\n",
    "                        \"rrc\", paramADC.SpS_out, N=paramTx.Ntaps, alpha=paramTx.alphaRRC, Ts=1 / paramTx.Rs\n",
    "                    )\n",
    "\n",
    "                pulse = pulse / np.max(np.abs(pulse))\n",
    "                sigRx = firFilter(pulse, sigRx)\n",
    "                sigCh = firFilter(pulse, sigCh)\n",
    "                \n",
    "                # correct for (possible) phase ambiguity\n",
    "                rot = np.mean(sigCh/sigRx)\n",
    "                sigRx = rot * sigRx\n",
    "                sigRx = sigRx / np.sqrt(signal_power(sigRx))\n",
    "\n",
    "                intf = sigRx/np.sqrt(signal_power(sigRx))-sigCh/np.sqrt(signal_power(sigCh))\n",
    "\n",
    "                SIR[indAlg, indPower] = 1/signal_power(intf)\n",
    "\n",
    "\n",
    "                # resample to 2 samples/symbol:\n",
    "                paramRes = parameters()\n",
    "                paramRes.Rs = paramTx.Rs\n",
    "                paramRes.SpS_in  = paramADC.SpS_out\n",
    "                paramRes.SpS_out = 2\n",
    "\n",
    "                sigRx = resample(sigRx, paramRes)\n",
    "\n",
    "                # CD compensation\n",
    "                sigRx = edc(sigRx, Ltotal, D, Fc, paramRes.SpS_out*paramTx.Rs)\n",
    "\n",
    "                # Downsampling to 2 sps and re-synchronization with transmitted sequences\n",
    "                sigRx = sigRx.reshape(-1, 1)\n",
    "\n",
    "                symbRx = symbolSync(sigRx, symbTx, 2)\n",
    "\n",
    "                # Power normalization\n",
    "                x = sigRx\n",
    "                d = symbRx\n",
    "\n",
    "                x = x.reshape(len(x), 1) / np.sqrt(signal_power(x))\n",
    "                d = d.reshape(len(d), 1) / np.sqrt(signal_power(d))\n",
    "\n",
    "                # Adaptive equalization\n",
    "                mod = QAMModem(m=paramTx.M)\n",
    "\n",
    "                paramEq = parameters()\n",
    "                paramEq.nTaps = 15\n",
    "                paramEq.SpS = 2\n",
    "                paramEq.mu = [1e-3, 5e-4]\n",
    "                paramEq.numIter = 5\n",
    "                paramEq.storeCoeff = False\n",
    "                paramEq.alg = [\"da-rde\", \"rde\"]\n",
    "                paramEq.M = paramTx.M\n",
    "                paramEq.L = [20000, 80000]\n",
    "                paramEq.prgsBar = False\n",
    "\n",
    "                y_EQ, H, errSq, Hiter = mimoAdaptEqualizer(x, dx=d, paramEq=paramEq)\n",
    "\n",
    "                # Carrier phase recovery\n",
    "                paramCPR = parameters()\n",
    "                paramCPR.alg = \"bps\"\n",
    "                paramCPR.M = paramTx.M\n",
    "                paramCPR.N = 85\n",
    "                paramCPR.B = 64\n",
    "                paramCPR.pilotInd = np.arange(0, len(y_EQ), 20)\n",
    "\n",
    "                y_CPR, θ = cpr(y_EQ, symbTx=d, paramCPR=paramCPR)\n",
    "\n",
    "                y_CPR = y_CPR / np.sqrt(signal_power(y_CPR))\n",
    "\n",
    "                # correct for (possible) phase ambiguity\n",
    "                for k in range(y_CPR.shape[1]):\n",
    "                    rot = np.mean(d[:, k] / y_CPR[:, k])\n",
    "                    y_CPR[:, k] = rot * y_CPR[:, k]\n",
    "\n",
    "                y_CPR = y_CPR / np.sqrt(signal_power(y_CPR))\n",
    "\n",
    "                discard = int(paramEq.L[0]/2)\n",
    "\n",
    "                ind = np.arange(discard, d.shape[0] - discard)\n",
    "                BER[indAlg,indPower,indSNR], SER[indAlg,indPower,indSNR], SNR[indAlg,indPower,indSNR] = fastBERcalc(y_CPR[ind, :], d[ind, :], paramTx.M, 'qam')\n",
    "                GMI[indAlg,indPower,indSNR], _ = monteCarloGMI(y_CPR[ind, :], d[ind, :],  paramTx.M, 'qam')\n",
    "                MI[indAlg,indPower,indSNR] = monteCarloMI(y_CPR[ind, :], d[ind, :],  paramTx.M, 'qam')\n",
    "\n",
    "                print(\"Results:\")\n",
    "                print(\"BER: %.2e\" %(BER[indAlg,indPower,indSNR]))\n",
    "                print(\"SNR: %.2f dB\" %(SNR[indAlg,indPower,indSNR]))\n",
    "                print('SIR = ', round(10*np.log10(SIR[indAlg,indPower,indSNR]), 2), ' dB')\n",
    "                print(\"GMI: %.2f bits\\n\" %(GMI[indAlg,indPower,indSNR]))\n",
    "\n",
    "    if saveData:      \n",
    "        # save the simulation data\n",
    "        np.save(path_data+'CSPR_BER_SpS_'+str(paramADC.SpS_out)+'_'+str(N)+'_Sample_'+str(indfile)+'_KK'+str('_awgn_'+str(paramTx.alphaRRC)), BER)\n",
    "        np.save(path_data+'CSPR_SNR_SpS_'+str(paramADC.SpS_out)+'_'+str(N)+'_Sample_'+str(indfile)+'_KK'+str('_awgn_'+str(paramTx.alphaRRC)), SNR)\n",
    "        np.save(path_data+'CSPR_SIR_SpS_'+str(paramADC.SpS_out)+'_'+str(N)+'_Sample_'+str(indfile)+'_KK'+str('_awgn_'+str(paramTx.alphaRRC)), SIR)\n",
    "        np.save(path_data+'CSPR_SER_SpS_'+str(paramADC.SpS_out)+'_'+str(N)+'_Sample_'+str(indfile)+'_KK'+str('_awgn_'+str(paramTx.alphaRRC)), SER)"
   ]
  },
  {
   "cell_type": "code",
   "execution_count": 8,
   "metadata": {},
   "outputs": [],
   "source": [
    "np.save(path_data+'CSPR_BER_SpS_'+str(paramADC.SpS_out)+'_'+str(N)+'_Sample_'+str(indfile)+str('_awgn_'+str(paramTx.alphaRRC)), BER)\n",
    "np.save(path_data+'CSPR_SNR_SpS_'+str(paramADC.SpS_out)+'_'+str(N)+'_Sample_'+str(indfile)+str('_awgn_'+str(paramTx.alphaRRC)), SNR)\n",
    "np.save(path_data+'CSPR_SIR_SpS_'+str(paramADC.SpS_out)+'_'+str(N)+'_Sample_'+str(indfile)+str('_awgn_'+str(paramTx.alphaRRC)), SIR)\n",
    "np.save(path_data+'CSPR_SER_SpS_'+str(paramADC.SpS_out)+'_'+str(N)+'_Sample_'+str(indfile)+str('_awgn_'+str(paramTx.alphaRRC)), SER)"
   ]
  },
  {
   "attachments": {},
   "cell_type": "markdown",
   "metadata": {},
   "source": [
    "## Simulation of a single polarization optical signal transmission"
   ]
  },
  {
   "cell_type": "code",
   "execution_count": 3,
   "metadata": {},
   "outputs": [],
   "source": [
    "## Transmitter parameters:\n",
    "paramTx = parameters()                                                                                              \n",
    "paramTx.M = 16                 # order of the modulation format\n",
    "paramTx.Rs = 32e9              # symbol rate [baud]\n",
    "paramTx.SpS = 4                # samples per symbol\n",
    "paramTx.Nbits = 400000         # total number of bits per polarization\n",
    "paramTx.pulse = \"rrc\"          # pulse shaping filter\n",
    "paramTx.Ntaps = 1024           # number of pulse shaping filter coefficients\n",
    "# paramTx.alphaRRC = 0.5       # RRC rolloff\n",
    "paramTx.Pch_dBm = 0            # power of the optical signal [dBm]\n",
    "paramTx.Nch = 1                # number of WDM channels\n",
    "paramTx.Fc = 193.1e12          # central frequency of the optical spectrum\n",
    "paramTx.freqSpac = 37.5e9      # WDM grid spacing\n",
    "\n",
    "## Optical channel parameters:\n",
    "Ltotal = 100     # total link distance [km]\n",
    "alpha = 0        # fiber loss parameter [dB/km]\n",
    "D = 16           # fiber dispersion parameter [ps/nm/km]\n",
    "Fc = paramTx.Fc  # central optical frequency of the WDM spectrum [Hz]\n",
    "\n",
    "## Receiver parameters:\n",
    "\n",
    "# local oscillator (LO)\n",
    "FO = paramTx.Rs/2  # frequency offset\n",
    "lw = 0*200e3       # linewidth\n",
    "ϕ_lo = 0           # initial phase in rad\n",
    "Plo_dBm = 12       # power in dBm\n",
    "\n",
    "# ADC sampling rate\n",
    "paramADC = parameters()\n",
    "paramADC.Rs = paramTx.Rs\n",
    "paramADC.SpS_in = paramTx.SpS\n",
    "paramADC.SpS_out = 4\n",
    "\n",
    "## General simulation parameters:\n",
    "chIndex = 0  # index of the channel to be demodulated\n",
    "plotPSD = True\n",
    "Fs = paramTx.Rs * paramTx.SpS  # simulation sampling rate\n",
    "Ts = 1 / Fs\n",
    "\n",
    "# photodiode parameters\n",
    "paramPD = parameters()\n",
    "paramPD.B  = 1.1*paramTx.Rs\n",
    "paramPD.Fs = Fs"
   ]
  },
  {
   "attachments": {},
   "cell_type": "markdown",
   "metadata": {},
   "source": [
    "## Run all Roll-off variations"
   ]
  },
  {
   "cell_type": "code",
   "execution_count": 5,
   "metadata": {},
   "outputs": [
    {
     "data": {
      "application/vnd.jupyter.widget-view+json": {
       "model_id": "4200ac3125244319868c3d388441d911",
       "version_major": 2,
       "version_minor": 0
      },
      "text/plain": [
       "  0%|          | 0/18 [00:00<?, ?it/s]"
      ]
     },
     "metadata": {},
     "output_type": "display_data"
    },
    {
     "data": {
      "application/vnd.jupyter.widget-view+json": {
       "model_id": "c32d8d8f020b43c282d56ee3b847b025",
       "version_major": 2,
       "version_minor": 0
      },
      "text/plain": [
       "  0%|          | 0/1 [00:00<?, ?it/s]"
      ]
     },
     "metadata": {},
     "output_type": "display_data"
    },
    {
     "name": "stdout",
     "output_type": "stream",
     "text": [
      "CSPR = 12.00 dB\n",
      "Results:\n",
      "BER: 0.00e+00\n",
      "SNR: 24.03 dB\n",
      "SIR =  22.93  dB\n",
      "GMI: 4.00 bits\n",
      "\n"
     ]
    },
    {
     "data": {
      "application/vnd.jupyter.widget-view+json": {
       "model_id": "e1ab5aa15dc245ffa35d1d859b796d21",
       "version_major": 2,
       "version_minor": 0
      },
      "text/plain": [
       "  0%|          | 0/1 [00:00<?, ?it/s]"
      ]
     },
     "metadata": {},
     "output_type": "display_data"
    },
    {
     "name": "stdout",
     "output_type": "stream",
     "text": [
      "CSPR = 12.00 dB\n",
      "Results:\n",
      "BER: 0.00e+00\n",
      "SNR: 22.35 dB\n",
      "SIR =  19.78  dB\n",
      "GMI: 4.00 bits\n",
      "\n"
     ]
    },
    {
     "data": {
      "application/vnd.jupyter.widget-view+json": {
       "model_id": "62e849acfe2d4015ad55f8a4eaf96d60",
       "version_major": 2,
       "version_minor": 0
      },
      "text/plain": [
       "  0%|          | 0/1 [00:00<?, ?it/s]"
      ]
     },
     "metadata": {},
     "output_type": "display_data"
    },
    {
     "name": "stdout",
     "output_type": "stream",
     "text": [
      "CSPR = 12.00 dB\n",
      "Results:\n",
      "BER: 0.00e+00\n",
      "SNR: 22.09 dB\n",
      "SIR =  17.93  dB\n",
      "GMI: 4.00 bits\n",
      "\n"
     ]
    },
    {
     "data": {
      "application/vnd.jupyter.widget-view+json": {
       "model_id": "8f016dccef25423e95183e2c3c14af98",
       "version_major": 2,
       "version_minor": 0
      },
      "text/plain": [
       "  0%|          | 0/1 [00:00<?, ?it/s]"
      ]
     },
     "metadata": {},
     "output_type": "display_data"
    },
    {
     "name": "stdout",
     "output_type": "stream",
     "text": [
      "CSPR = 12.00 dB\n",
      "Results:\n",
      "BER: 0.00e+00\n",
      "SNR: 22.11 dB\n",
      "SIR =  16.73  dB\n",
      "GMI: 4.00 bits\n",
      "\n"
     ]
    },
    {
     "data": {
      "application/vnd.jupyter.widget-view+json": {
       "model_id": "30e4e657ce294f30931c37ca57373f12",
       "version_major": 2,
       "version_minor": 0
      },
      "text/plain": [
       "  0%|          | 0/1 [00:00<?, ?it/s]"
      ]
     },
     "metadata": {},
     "output_type": "display_data"
    },
    {
     "name": "stdout",
     "output_type": "stream",
     "text": [
      "CSPR = 12.00 dB\n",
      "Results:\n",
      "BER: 0.00e+00\n",
      "SNR: 21.99 dB\n",
      "SIR =  15.73  dB\n",
      "GMI: 4.00 bits\n",
      "\n"
     ]
    },
    {
     "data": {
      "application/vnd.jupyter.widget-view+json": {
       "model_id": "f8e9786bafb64b14b0b1999196be620d",
       "version_major": 2,
       "version_minor": 0
      },
      "text/plain": [
       "  0%|          | 0/1 [00:00<?, ?it/s]"
      ]
     },
     "metadata": {},
     "output_type": "display_data"
    },
    {
     "name": "stdout",
     "output_type": "stream",
     "text": [
      "CSPR = 12.00 dB\n",
      "Results:\n",
      "BER: 3.13e-06\n",
      "SNR: 21.50 dB\n",
      "SIR =  14.85  dB\n",
      "GMI: 4.00 bits\n",
      "\n"
     ]
    },
    {
     "data": {
      "application/vnd.jupyter.widget-view+json": {
       "model_id": "d5bff73546714f338771f567624cac81",
       "version_major": 2,
       "version_minor": 0
      },
      "text/plain": [
       "  0%|          | 0/1 [00:00<?, ?it/s]"
      ]
     },
     "metadata": {},
     "output_type": "display_data"
    },
    {
     "name": "stdout",
     "output_type": "stream",
     "text": [
      "CSPR = 12.00 dB\n",
      "Results:\n",
      "BER: 6.25e-06\n",
      "SNR: 21.12 dB\n",
      "SIR =  14.13  dB\n",
      "GMI: 4.00 bits\n",
      "\n"
     ]
    },
    {
     "data": {
      "application/vnd.jupyter.widget-view+json": {
       "model_id": "2b6a3231f6dd489096a7eb2683f04e1d",
       "version_major": 2,
       "version_minor": 0
      },
      "text/plain": [
       "  0%|          | 0/1 [00:00<?, ?it/s]"
      ]
     },
     "metadata": {},
     "output_type": "display_data"
    },
    {
     "name": "stdout",
     "output_type": "stream",
     "text": [
      "CSPR = 12.00 dB\n",
      "Results:\n",
      "BER: 1.56e-05\n",
      "SNR: 20.66 dB\n",
      "SIR =  13.49  dB\n",
      "GMI: 4.00 bits\n",
      "\n"
     ]
    },
    {
     "data": {
      "application/vnd.jupyter.widget-view+json": {
       "model_id": "a0c043beddf641f6a19f2461f32e64d3",
       "version_major": 2,
       "version_minor": 0
      },
      "text/plain": [
       "  0%|          | 0/1 [00:00<?, ?it/s]"
      ]
     },
     "metadata": {},
     "output_type": "display_data"
    },
    {
     "name": "stdout",
     "output_type": "stream",
     "text": [
      "CSPR = 12.00 dB\n",
      "Results:\n",
      "BER: 9.37e-06\n",
      "SNR: 20.30 dB\n",
      "SIR =  12.98  dB\n",
      "GMI: 4.00 bits\n",
      "\n"
     ]
    },
    {
     "data": {
      "application/vnd.jupyter.widget-view+json": {
       "model_id": "baea40a047614e59bb8f49bd5478f87a",
       "version_major": 2,
       "version_minor": 0
      },
      "text/plain": [
       "  0%|          | 0/1 [00:00<?, ?it/s]"
      ]
     },
     "metadata": {},
     "output_type": "display_data"
    },
    {
     "name": "stdout",
     "output_type": "stream",
     "text": [
      "CSPR = 12.00 dB\n",
      "Results:\n",
      "BER: 2.50e-05\n",
      "SNR: 20.00 dB\n",
      "SIR =  12.45  dB\n",
      "GMI: 4.00 bits\n",
      "\n"
     ]
    },
    {
     "data": {
      "application/vnd.jupyter.widget-view+json": {
       "model_id": "fed398dbd1704b13b0f7f3c3bda8be13",
       "version_major": 2,
       "version_minor": 0
      },
      "text/plain": [
       "  0%|          | 0/1 [00:00<?, ?it/s]"
      ]
     },
     "metadata": {},
     "output_type": "display_data"
    },
    {
     "name": "stdout",
     "output_type": "stream",
     "text": [
      "CSPR = 12.00 dB\n",
      "Results:\n",
      "BER: 2.81e-05\n",
      "SNR: 19.71 dB\n",
      "SIR =  12.04  dB\n",
      "GMI: 4.00 bits\n",
      "\n"
     ]
    },
    {
     "data": {
      "application/vnd.jupyter.widget-view+json": {
       "model_id": "9e93c55f99a74225b6c38d17c2b5b7b1",
       "version_major": 2,
       "version_minor": 0
      },
      "text/plain": [
       "  0%|          | 0/1 [00:00<?, ?it/s]"
      ]
     },
     "metadata": {},
     "output_type": "display_data"
    },
    {
     "name": "stdout",
     "output_type": "stream",
     "text": [
      "CSPR = 12.00 dB\n",
      "Results:\n",
      "BER: 8.44e-05\n",
      "SNR: 19.36 dB\n",
      "SIR =  11.6  dB\n",
      "GMI: 4.00 bits\n",
      "\n"
     ]
    },
    {
     "data": {
      "application/vnd.jupyter.widget-view+json": {
       "model_id": "0473bc563bf140269c6e546703723bba",
       "version_major": 2,
       "version_minor": 0
      },
      "text/plain": [
       "  0%|          | 0/1 [00:00<?, ?it/s]"
      ]
     },
     "metadata": {},
     "output_type": "display_data"
    },
    {
     "name": "stdout",
     "output_type": "stream",
     "text": [
      "CSPR = 12.00 dB\n",
      "Results:\n",
      "BER: 4.69e-05\n",
      "SNR: 19.15 dB\n",
      "SIR =  11.27  dB\n",
      "GMI: 4.00 bits\n",
      "\n"
     ]
    },
    {
     "data": {
      "application/vnd.jupyter.widget-view+json": {
       "model_id": "d292bd9458b242f0ab42151253305664",
       "version_major": 2,
       "version_minor": 0
      },
      "text/plain": [
       "  0%|          | 0/1 [00:00<?, ?it/s]"
      ]
     },
     "metadata": {},
     "output_type": "display_data"
    },
    {
     "name": "stdout",
     "output_type": "stream",
     "text": [
      "CSPR = 12.00 dB\n",
      "Results:\n",
      "BER: 7.50e-05\n",
      "SNR: 18.74 dB\n",
      "SIR =  10.8  dB\n",
      "GMI: 4.00 bits\n",
      "\n"
     ]
    },
    {
     "data": {
      "application/vnd.jupyter.widget-view+json": {
       "model_id": "07595c27dd004addbaf4c3d02e3c59f5",
       "version_major": 2,
       "version_minor": 0
      },
      "text/plain": [
       "  0%|          | 0/1 [00:00<?, ?it/s]"
      ]
     },
     "metadata": {},
     "output_type": "display_data"
    },
    {
     "name": "stdout",
     "output_type": "stream",
     "text": [
      "CSPR = 12.00 dB\n",
      "Results:\n",
      "BER: 1.59e-04\n",
      "SNR: 18.47 dB\n",
      "SIR =  10.46  dB\n",
      "GMI: 4.00 bits\n",
      "\n"
     ]
    },
    {
     "data": {
      "application/vnd.jupyter.widget-view+json": {
       "model_id": "b4b2a03e32ea41a8bfea70cc9ad8846f",
       "version_major": 2,
       "version_minor": 0
      },
      "text/plain": [
       "  0%|          | 0/1 [00:00<?, ?it/s]"
      ]
     },
     "metadata": {},
     "output_type": "display_data"
    },
    {
     "name": "stdout",
     "output_type": "stream",
     "text": [
      "CSPR = 12.00 dB\n",
      "Results:\n",
      "BER: 1.59e-04\n",
      "SNR: 18.27 dB\n",
      "SIR =  10.12  dB\n",
      "GMI: 4.00 bits\n",
      "\n"
     ]
    },
    {
     "data": {
      "application/vnd.jupyter.widget-view+json": {
       "model_id": "14f3774c867e41f6a87c65ff4e563cb0",
       "version_major": 2,
       "version_minor": 0
      },
      "text/plain": [
       "  0%|          | 0/1 [00:00<?, ?it/s]"
      ]
     },
     "metadata": {},
     "output_type": "display_data"
    },
    {
     "name": "stdout",
     "output_type": "stream",
     "text": [
      "CSPR = 12.00 dB\n",
      "Results:\n",
      "BER: 2.25e-04\n",
      "SNR: 18.02 dB\n",
      "SIR =  9.82  dB\n",
      "GMI: 4.00 bits\n",
      "\n"
     ]
    },
    {
     "data": {
      "application/vnd.jupyter.widget-view+json": {
       "model_id": "1ce6da41a2da4d6792ae84ec5a46a78b",
       "version_major": 2,
       "version_minor": 0
      },
      "text/plain": [
       "  0%|          | 0/1 [00:00<?, ?it/s]"
      ]
     },
     "metadata": {},
     "output_type": "display_data"
    },
    {
     "name": "stdout",
     "output_type": "stream",
     "text": [
      "CSPR = 12.00 dB\n",
      "Results:\n",
      "BER: 3.34e-04\n",
      "SNR: 17.82 dB\n",
      "SIR =  9.56  dB\n",
      "GMI: 3.99 bits\n",
      "\n"
     ]
    },
    {
     "data": {
      "application/vnd.jupyter.widget-view+json": {
       "model_id": "2273988f91d14e8187c910b363c64542",
       "version_major": 2,
       "version_minor": 0
      },
      "text/plain": [
       "  0%|          | 0/18 [00:00<?, ?it/s]"
      ]
     },
     "metadata": {},
     "output_type": "display_data"
    },
    {
     "data": {
      "application/vnd.jupyter.widget-view+json": {
       "model_id": "a14a8e9055d54cc085cfb98a7373168b",
       "version_major": 2,
       "version_minor": 0
      },
      "text/plain": [
       "  0%|          | 0/1 [00:00<?, ?it/s]"
      ]
     },
     "metadata": {},
     "output_type": "display_data"
    },
    {
     "name": "stdout",
     "output_type": "stream",
     "text": [
      "CSPR = 12.00 dB\n",
      "12500/12500 [==============================] - 8s 665us/step\n",
      "Results:\n",
      "BER: 6.25e-06\n",
      "SNR: 22.72 dB\n",
      "SIR =  22.1  dB\n",
      "GMI: 4.00 bits\n",
      "\n"
     ]
    },
    {
     "data": {
      "application/vnd.jupyter.widget-view+json": {
       "model_id": "e87e21f69b264384a3a32731919765ed",
       "version_major": 2,
       "version_minor": 0
      },
      "text/plain": [
       "  0%|          | 0/1 [00:00<?, ?it/s]"
      ]
     },
     "metadata": {},
     "output_type": "display_data"
    },
    {
     "name": "stdout",
     "output_type": "stream",
     "text": [
      "CSPR = 12.00 dB\n",
      "12500/12500 [==============================] - 9s 713us/step\n",
      "Results:\n",
      "BER: 3.13e-06\n",
      "SNR: 21.75 dB\n",
      "SIR =  20.29  dB\n",
      "GMI: 4.00 bits\n",
      "\n"
     ]
    },
    {
     "data": {
      "application/vnd.jupyter.widget-view+json": {
       "model_id": "2444327363fd40658a87768a0385f974",
       "version_major": 2,
       "version_minor": 0
      },
      "text/plain": [
       "  0%|          | 0/1 [00:00<?, ?it/s]"
      ]
     },
     "metadata": {},
     "output_type": "display_data"
    },
    {
     "name": "stdout",
     "output_type": "stream",
     "text": [
      "CSPR = 12.00 dB\n",
      "12500/12500 [==============================] - 8s 639us/step\n",
      "Results:\n",
      "BER: 6.25e-06\n",
      "SNR: 21.79 dB\n",
      "SIR =  19.09  dB\n",
      "GMI: 4.00 bits\n",
      "\n"
     ]
    },
    {
     "data": {
      "application/vnd.jupyter.widget-view+json": {
       "model_id": "df3653c7249944ca859ce96b10be044c",
       "version_major": 2,
       "version_minor": 0
      },
      "text/plain": [
       "  0%|          | 0/1 [00:00<?, ?it/s]"
      ]
     },
     "metadata": {},
     "output_type": "display_data"
    },
    {
     "name": "stdout",
     "output_type": "stream",
     "text": [
      "CSPR = 12.00 dB\n",
      "12500/12500 [==============================] - 8s 659us/step\n",
      "Results:\n",
      "BER: 3.13e-06\n",
      "SNR: 21.22 dB\n",
      "SIR =  17.7  dB\n",
      "GMI: 4.00 bits\n",
      "\n"
     ]
    },
    {
     "data": {
      "application/vnd.jupyter.widget-view+json": {
       "model_id": "1dcd558b32b441dda225e8e36b641107",
       "version_major": 2,
       "version_minor": 0
      },
      "text/plain": [
       "  0%|          | 0/1 [00:00<?, ?it/s]"
      ]
     },
     "metadata": {},
     "output_type": "display_data"
    },
    {
     "name": "stdout",
     "output_type": "stream",
     "text": [
      "CSPR = 12.00 dB\n",
      "12500/12500 [==============================] - 8s 674us/step\n",
      "Results:\n",
      "BER: 6.25e-06\n",
      "SNR: 21.90 dB\n",
      "SIR =  17.09  dB\n",
      "GMI: 4.00 bits\n",
      "\n"
     ]
    },
    {
     "data": {
      "application/vnd.jupyter.widget-view+json": {
       "model_id": "03d7e255cffc496f8dc7f8f960505324",
       "version_major": 2,
       "version_minor": 0
      },
      "text/plain": [
       "  0%|          | 0/1 [00:00<?, ?it/s]"
      ]
     },
     "metadata": {},
     "output_type": "display_data"
    },
    {
     "name": "stdout",
     "output_type": "stream",
     "text": [
      "CSPR = 12.00 dB\n",
      "12500/12500 [==============================] - 8s 629us/step\n",
      "Results:\n",
      "BER: 9.37e-06\n",
      "SNR: 20.93 dB\n",
      "SIR =  15.97  dB\n",
      "GMI: 4.00 bits\n",
      "\n"
     ]
    },
    {
     "data": {
      "application/vnd.jupyter.widget-view+json": {
       "model_id": "f43785662263440182c3650826c4b6ad",
       "version_major": 2,
       "version_minor": 0
      },
      "text/plain": [
       "  0%|          | 0/1 [00:00<?, ?it/s]"
      ]
     },
     "metadata": {},
     "output_type": "display_data"
    },
    {
     "name": "stdout",
     "output_type": "stream",
     "text": [
      "CSPR = 12.00 dB\n",
      "12500/12500 [==============================] - 8s 656us/step\n",
      "Results:\n",
      "BER: 1.87e-05\n",
      "SNR: 20.64 dB\n",
      "SIR =  15.42  dB\n",
      "GMI: 4.00 bits\n",
      "\n"
     ]
    },
    {
     "data": {
      "application/vnd.jupyter.widget-view+json": {
       "model_id": "d3377d1ad94140afacff9ddcf3c9b9db",
       "version_major": 2,
       "version_minor": 0
      },
      "text/plain": [
       "  0%|          | 0/1 [00:00<?, ?it/s]"
      ]
     },
     "metadata": {},
     "output_type": "display_data"
    },
    {
     "name": "stdout",
     "output_type": "stream",
     "text": [
      "CSPR = 12.00 dB\n",
      "12500/12500 [==============================] - 8s 666us/step\n",
      "Results:\n",
      "BER: 2.19e-05\n",
      "SNR: 20.92 dB\n",
      "SIR =  14.99  dB\n",
      "GMI: 4.00 bits\n",
      "\n"
     ]
    },
    {
     "data": {
      "application/vnd.jupyter.widget-view+json": {
       "model_id": "f64bb67db63c41e782cc56a7fd615ea6",
       "version_major": 2,
       "version_minor": 0
      },
      "text/plain": [
       "  0%|          | 0/1 [00:00<?, ?it/s]"
      ]
     },
     "metadata": {},
     "output_type": "display_data"
    },
    {
     "name": "stdout",
     "output_type": "stream",
     "text": [
      "CSPR = 12.00 dB\n",
      "12500/12500 [==============================] - 8s 645us/step\n",
      "Results:\n",
      "BER: 1.87e-05\n",
      "SNR: 20.17 dB\n",
      "SIR =  14.3  dB\n",
      "GMI: 4.00 bits\n",
      "\n"
     ]
    },
    {
     "data": {
      "application/vnd.jupyter.widget-view+json": {
       "model_id": "cbc5db7b0e5748f38b612c56a605a6f9",
       "version_major": 2,
       "version_minor": 0
      },
      "text/plain": [
       "  0%|          | 0/1 [00:00<?, ?it/s]"
      ]
     },
     "metadata": {},
     "output_type": "display_data"
    },
    {
     "name": "stdout",
     "output_type": "stream",
     "text": [
      "CSPR = 12.00 dB\n",
      "12500/12500 [==============================] - 9s 699us/step\n",
      "Results:\n",
      "BER: 3.13e-06\n",
      "SNR: 20.09 dB\n",
      "SIR =  13.89  dB\n",
      "GMI: 4.00 bits\n",
      "\n"
     ]
    },
    {
     "data": {
      "application/vnd.jupyter.widget-view+json": {
       "model_id": "1a7d8bfda8ee4e39bd554bed44404174",
       "version_major": 2,
       "version_minor": 0
      },
      "text/plain": [
       "  0%|          | 0/1 [00:00<?, ?it/s]"
      ]
     },
     "metadata": {},
     "output_type": "display_data"
    },
    {
     "name": "stdout",
     "output_type": "stream",
     "text": [
      "CSPR = 12.00 dB\n",
      "12500/12500 [==============================] - 8s 645us/step\n",
      "Results:\n",
      "BER: 9.37e-06\n",
      "SNR: 19.90 dB\n",
      "SIR =  13.4  dB\n",
      "GMI: 4.00 bits\n",
      "\n"
     ]
    },
    {
     "data": {
      "application/vnd.jupyter.widget-view+json": {
       "model_id": "0479746d814e48dca35d3d6b8d853459",
       "version_major": 2,
       "version_minor": 0
      },
      "text/plain": [
       "  0%|          | 0/1 [00:00<?, ?it/s]"
      ]
     },
     "metadata": {},
     "output_type": "display_data"
    },
    {
     "name": "stdout",
     "output_type": "stream",
     "text": [
      "CSPR = 12.00 dB\n",
      "12500/12500 [==============================] - 8s 643us/step\n",
      "Results:\n",
      "BER: 1.25e-05\n",
      "SNR: 19.97 dB\n",
      "SIR =  10.6  dB\n",
      "GMI: 4.00 bits\n",
      "\n"
     ]
    },
    {
     "data": {
      "application/vnd.jupyter.widget-view+json": {
       "model_id": "703f10433a4747b8833b41c8ef4afe56",
       "version_major": 2,
       "version_minor": 0
      },
      "text/plain": [
       "  0%|          | 0/1 [00:00<?, ?it/s]"
      ]
     },
     "metadata": {},
     "output_type": "display_data"
    },
    {
     "name": "stdout",
     "output_type": "stream",
     "text": [
      "CSPR = 12.00 dB\n",
      "12500/12500 [==============================] - 9s 724us/step\n",
      "Results:\n",
      "BER: 7.19e-05\n",
      "SNR: 18.89 dB\n",
      "SIR =  12.55  dB\n",
      "GMI: 4.00 bits\n",
      "\n"
     ]
    },
    {
     "data": {
      "application/vnd.jupyter.widget-view+json": {
       "model_id": "82dd27a8044e4587bb0964ad28ddd4c4",
       "version_major": 2,
       "version_minor": 0
      },
      "text/plain": [
       "  0%|          | 0/1 [00:00<?, ?it/s]"
      ]
     },
     "metadata": {},
     "output_type": "display_data"
    },
    {
     "name": "stdout",
     "output_type": "stream",
     "text": [
      "CSPR = 12.00 dB\n",
      "12500/12500 [==============================] - 9s 719us/step\n",
      "Results:\n",
      "BER: 1.44e-04\n",
      "SNR: 18.42 dB\n",
      "SIR =  12.71  dB\n",
      "GMI: 4.00 bits\n",
      "\n"
     ]
    },
    {
     "data": {
      "application/vnd.jupyter.widget-view+json": {
       "model_id": "809a19b3bd3a46cb8e6907aacfb1fd51",
       "version_major": 2,
       "version_minor": 0
      },
      "text/plain": [
       "  0%|          | 0/1 [00:00<?, ?it/s]"
      ]
     },
     "metadata": {},
     "output_type": "display_data"
    },
    {
     "name": "stdout",
     "output_type": "stream",
     "text": [
      "CSPR = 12.00 dB\n",
      "12500/12500 [==============================] - 8s 632us/step\n",
      "Results:\n",
      "BER: 6.25e-05\n",
      "SNR: 19.04 dB\n",
      "SIR =  11.88  dB\n",
      "GMI: 4.00 bits\n",
      "\n"
     ]
    },
    {
     "data": {
      "application/vnd.jupyter.widget-view+json": {
       "model_id": "c183ca8cc0674c259f7c4438aa4088d0",
       "version_major": 2,
       "version_minor": 0
      },
      "text/plain": [
       "  0%|          | 0/1 [00:00<?, ?it/s]"
      ]
     },
     "metadata": {},
     "output_type": "display_data"
    },
    {
     "name": "stdout",
     "output_type": "stream",
     "text": [
      "CSPR = 12.00 dB\n",
      "12500/12500 [==============================] - 8s 654us/step\n",
      "Results:\n",
      "BER: 3.13e-05\n",
      "SNR: 19.02 dB\n",
      "SIR =  11.65  dB\n",
      "GMI: 4.00 bits\n",
      "\n"
     ]
    },
    {
     "data": {
      "application/vnd.jupyter.widget-view+json": {
       "model_id": "79f6045ed5b54287a3dc9144dde4c5a7",
       "version_major": 2,
       "version_minor": 0
      },
      "text/plain": [
       "  0%|          | 0/1 [00:00<?, ?it/s]"
      ]
     },
     "metadata": {},
     "output_type": "display_data"
    },
    {
     "name": "stdout",
     "output_type": "stream",
     "text": [
      "CSPR = 12.00 dB\n",
      "12500/12500 [==============================] - 8s 603us/step\n",
      "Results:\n",
      "BER: 7.50e-05\n",
      "SNR: 18.82 dB\n",
      "SIR =  11.29  dB\n",
      "GMI: 4.00 bits\n",
      "\n"
     ]
    },
    {
     "data": {
      "application/vnd.jupyter.widget-view+json": {
       "model_id": "1c9d2af18fd64fdb85fd0690634f4635",
       "version_major": 2,
       "version_minor": 0
      },
      "text/plain": [
       "  0%|          | 0/1 [00:00<?, ?it/s]"
      ]
     },
     "metadata": {},
     "output_type": "display_data"
    },
    {
     "name": "stdout",
     "output_type": "stream",
     "text": [
      "CSPR = 12.00 dB\n",
      "12500/12500 [==============================] - 8s 654us/step\n",
      "Results:\n",
      "BER: 7.50e-05\n",
      "SNR: 18.72 dB\n",
      "SIR =  11.03  dB\n",
      "GMI: 4.00 bits\n",
      "\n"
     ]
    },
    {
     "data": {
      "application/vnd.jupyter.widget-view+json": {
       "model_id": "f2a3ec037922499d8d4deff1c0103a5d",
       "version_major": 2,
       "version_minor": 0
      },
      "text/plain": [
       "  0%|          | 0/18 [00:00<?, ?it/s]"
      ]
     },
     "metadata": {},
     "output_type": "display_data"
    },
    {
     "data": {
      "application/vnd.jupyter.widget-view+json": {
       "model_id": "65ee13cef92c4c79a3db69febc47a683",
       "version_major": 2,
       "version_minor": 0
      },
      "text/plain": [
       "  0%|          | 0/1 [00:00<?, ?it/s]"
      ]
     },
     "metadata": {},
     "output_type": "display_data"
    },
    {
     "name": "stdout",
     "output_type": "stream",
     "text": [
      "CSPR = 12.00 dB\n",
      "12500/12500 [==============================] - 67s 5ms/step\n",
      "Results:\n",
      "BER: 0.00e+00\n",
      "SNR: 24.55 dB\n",
      "SIR =  23.51  dB\n",
      "GMI: 4.00 bits\n",
      "\n"
     ]
    },
    {
     "data": {
      "application/vnd.jupyter.widget-view+json": {
       "model_id": "2349dacf5ff14d70bacc9f5ee71c2649",
       "version_major": 2,
       "version_minor": 0
      },
      "text/plain": [
       "  0%|          | 0/1 [00:00<?, ?it/s]"
      ]
     },
     "metadata": {},
     "output_type": "display_data"
    },
    {
     "name": "stdout",
     "output_type": "stream",
     "text": [
      "CSPR = 12.00 dB\n",
      "12500/12500 [==============================] - 60s 5ms/step\n",
      "Results:\n",
      "BER: 0.00e+00\n",
      "SNR: 22.64 dB\n",
      "SIR =  20.91  dB\n",
      "GMI: 4.00 bits\n",
      "\n"
     ]
    },
    {
     "data": {
      "application/vnd.jupyter.widget-view+json": {
       "model_id": "c9b258b3194341699ef3c8063d8ccf2c",
       "version_major": 2,
       "version_minor": 0
      },
      "text/plain": [
       "  0%|          | 0/1 [00:00<?, ?it/s]"
      ]
     },
     "metadata": {},
     "output_type": "display_data"
    },
    {
     "name": "stdout",
     "output_type": "stream",
     "text": [
      "CSPR = 12.00 dB\n",
      "12500/12500 [==============================] - 69s 6ms/step\n",
      "Results:\n",
      "BER: 0.00e+00\n",
      "SNR: 22.13 dB\n",
      "SIR =  19.37  dB\n",
      "GMI: 4.00 bits\n",
      "\n"
     ]
    },
    {
     "data": {
      "application/vnd.jupyter.widget-view+json": {
       "model_id": "6c296c6673f44a64bddcd5310e44fa4c",
       "version_major": 2,
       "version_minor": 0
      },
      "text/plain": [
       "  0%|          | 0/1 [00:00<?, ?it/s]"
      ]
     },
     "metadata": {},
     "output_type": "display_data"
    },
    {
     "name": "stdout",
     "output_type": "stream",
     "text": [
      "CSPR = 12.00 dB\n",
      "12500/12500 [==============================] - 68s 5ms/step\n",
      "Results:\n",
      "BER: 0.00e+00\n",
      "SNR: 22.05 dB\n",
      "SIR =  18.11  dB\n",
      "GMI: 4.00 bits\n",
      "\n"
     ]
    },
    {
     "data": {
      "application/vnd.jupyter.widget-view+json": {
       "model_id": "3d370e1a76e44ce4b500ed8941042408",
       "version_major": 2,
       "version_minor": 0
      },
      "text/plain": [
       "  0%|          | 0/1 [00:00<?, ?it/s]"
      ]
     },
     "metadata": {},
     "output_type": "display_data"
    },
    {
     "name": "stdout",
     "output_type": "stream",
     "text": [
      "CSPR = 12.00 dB\n",
      "12500/12500 [==============================] - 66s 5ms/step\n",
      "Results:\n",
      "BER: 0.00e+00\n",
      "SNR: 22.20 dB\n",
      "SIR =  17.17  dB\n",
      "GMI: 4.00 bits\n",
      "\n"
     ]
    },
    {
     "data": {
      "application/vnd.jupyter.widget-view+json": {
       "model_id": "adaa29b5d9164eb788dd4055767f9d72",
       "version_major": 2,
       "version_minor": 0
      },
      "text/plain": [
       "  0%|          | 0/1 [00:00<?, ?it/s]"
      ]
     },
     "metadata": {},
     "output_type": "display_data"
    },
    {
     "name": "stdout",
     "output_type": "stream",
     "text": [
      "CSPR = 12.00 dB\n",
      "12500/12500 [==============================] - 63s 5ms/step\n",
      "Results:\n",
      "BER: 0.00e+00\n",
      "SNR: 21.98 dB\n",
      "SIR =  16.34  dB\n",
      "GMI: 4.00 bits\n",
      "\n"
     ]
    },
    {
     "data": {
      "application/vnd.jupyter.widget-view+json": {
       "model_id": "8cb3986e0fd54527b8de9bb6c85a2996",
       "version_major": 2,
       "version_minor": 0
      },
      "text/plain": [
       "  0%|          | 0/1 [00:00<?, ?it/s]"
      ]
     },
     "metadata": {},
     "output_type": "display_data"
    },
    {
     "name": "stdout",
     "output_type": "stream",
     "text": [
      "CSPR = 12.00 dB\n",
      "12500/12500 [==============================] - 62s 5ms/step\n",
      "Results:\n",
      "BER: 0.00e+00\n",
      "SNR: 21.63 dB\n",
      "SIR =  15.64  dB\n",
      "GMI: 4.00 bits\n",
      "\n"
     ]
    },
    {
     "data": {
      "application/vnd.jupyter.widget-view+json": {
       "model_id": "b13eeee07870418eb4482d85cfa5530e",
       "version_major": 2,
       "version_minor": 0
      },
      "text/plain": [
       "  0%|          | 0/1 [00:00<?, ?it/s]"
      ]
     },
     "metadata": {},
     "output_type": "display_data"
    },
    {
     "name": "stdout",
     "output_type": "stream",
     "text": [
      "CSPR = 12.00 dB\n",
      "12500/12500 [==============================] - 62s 5ms/step\n",
      "Results:\n",
      "BER: 0.00e+00\n",
      "SNR: 21.04 dB\n",
      "SIR =  15.08  dB\n",
      "GMI: 4.00 bits\n",
      "\n"
     ]
    },
    {
     "data": {
      "application/vnd.jupyter.widget-view+json": {
       "model_id": "1253a9d27c87465a8c084bb68680a336",
       "version_major": 2,
       "version_minor": 0
      },
      "text/plain": [
       "  0%|          | 0/1 [00:00<?, ?it/s]"
      ]
     },
     "metadata": {},
     "output_type": "display_data"
    },
    {
     "name": "stdout",
     "output_type": "stream",
     "text": [
      "CSPR = 12.00 dB\n",
      "12500/12500 [==============================] - 66s 5ms/step\n",
      "Results:\n",
      "BER: 0.00e+00\n",
      "SNR: 20.73 dB\n",
      "SIR =  14.47  dB\n",
      "GMI: 4.00 bits\n",
      "\n"
     ]
    },
    {
     "data": {
      "application/vnd.jupyter.widget-view+json": {
       "model_id": "82ba367ca93d485e9eaec196b2da8131",
       "version_major": 2,
       "version_minor": 0
      },
      "text/plain": [
       "  0%|          | 0/1 [00:00<?, ?it/s]"
      ]
     },
     "metadata": {},
     "output_type": "display_data"
    },
    {
     "name": "stdout",
     "output_type": "stream",
     "text": [
      "CSPR = 12.00 dB\n",
      "12500/12500 [==============================] - 63s 5ms/step\n",
      "Results:\n",
      "BER: 6.25e-06\n",
      "SNR: 20.42 dB\n",
      "SIR =  14.03  dB\n",
      "GMI: 4.00 bits\n",
      "\n"
     ]
    },
    {
     "data": {
      "application/vnd.jupyter.widget-view+json": {
       "model_id": "1657844fde7a49cc8cc2767b464be9b2",
       "version_major": 2,
       "version_minor": 0
      },
      "text/plain": [
       "  0%|          | 0/1 [00:00<?, ?it/s]"
      ]
     },
     "metadata": {},
     "output_type": "display_data"
    },
    {
     "name": "stdout",
     "output_type": "stream",
     "text": [
      "CSPR = 12.00 dB\n",
      "12500/12500 [==============================] - 64s 5ms/step\n",
      "Results:\n",
      "BER: 1.25e-05\n",
      "SNR: 20.03 dB\n",
      "SIR =  14.5  dB\n",
      "GMI: 4.00 bits\n",
      "\n"
     ]
    },
    {
     "data": {
      "application/vnd.jupyter.widget-view+json": {
       "model_id": "e0cef3ed1a1642feae2a2b44388755e9",
       "version_major": 2,
       "version_minor": 0
      },
      "text/plain": [
       "  0%|          | 0/1 [00:00<?, ?it/s]"
      ]
     },
     "metadata": {},
     "output_type": "display_data"
    },
    {
     "name": "stdout",
     "output_type": "stream",
     "text": [
      "CSPR = 12.00 dB\n",
      "12500/12500 [==============================] - 64s 5ms/step\n",
      "Results:\n",
      "BER: 9.37e-06\n",
      "SNR: 19.69 dB\n",
      "SIR =  13.09  dB\n",
      "GMI: 4.00 bits\n",
      "\n"
     ]
    },
    {
     "data": {
      "application/vnd.jupyter.widget-view+json": {
       "model_id": "ffe1fc1469d14729ae8e370473e018f9",
       "version_major": 2,
       "version_minor": 0
      },
      "text/plain": [
       "  0%|          | 0/1 [00:00<?, ?it/s]"
      ]
     },
     "metadata": {},
     "output_type": "display_data"
    },
    {
     "name": "stdout",
     "output_type": "stream",
     "text": [
      "CSPR = 12.00 dB\n",
      "12500/12500 [==============================] - 63s 5ms/step\n",
      "Results:\n",
      "BER: 1.56e-05\n",
      "SNR: 19.97 dB\n",
      "SIR =  13.12  dB\n",
      "GMI: 4.00 bits\n",
      "\n"
     ]
    },
    {
     "data": {
      "application/vnd.jupyter.widget-view+json": {
       "model_id": "903459a177d94527a50c3cc1ea4a3b9b",
       "version_major": 2,
       "version_minor": 0
      },
      "text/plain": [
       "  0%|          | 0/1 [00:00<?, ?it/s]"
      ]
     },
     "metadata": {},
     "output_type": "display_data"
    },
    {
     "name": "stdout",
     "output_type": "stream",
     "text": [
      "CSPR = 12.00 dB\n",
      "12500/12500 [==============================] - 72s 6ms/step\n",
      "Results:\n",
      "BER: 3.75e-05\n",
      "SNR: 19.46 dB\n",
      "SIR =  12.32  dB\n",
      "GMI: 4.00 bits\n",
      "\n"
     ]
    },
    {
     "data": {
      "application/vnd.jupyter.widget-view+json": {
       "model_id": "b40c6a63cf6f4dfd886e50d6be2c2658",
       "version_major": 2,
       "version_minor": 0
      },
      "text/plain": [
       "  0%|          | 0/1 [00:00<?, ?it/s]"
      ]
     },
     "metadata": {},
     "output_type": "display_data"
    },
    {
     "name": "stdout",
     "output_type": "stream",
     "text": [
      "CSPR = 12.00 dB\n",
      "12500/12500 [==============================] - 73s 6ms/step\n",
      "Results:\n",
      "BER: 6.25e-06\n",
      "SNR: 20.20 dB\n",
      "SIR =  12.85  dB\n",
      "GMI: 4.00 bits\n",
      "\n"
     ]
    },
    {
     "data": {
      "application/vnd.jupyter.widget-view+json": {
       "model_id": "a359911cd69e4132837b221db210cfe7",
       "version_major": 2,
       "version_minor": 0
      },
      "text/plain": [
       "  0%|          | 0/1 [00:00<?, ?it/s]"
      ]
     },
     "metadata": {},
     "output_type": "display_data"
    },
    {
     "name": "stdout",
     "output_type": "stream",
     "text": [
      "CSPR = 12.00 dB\n",
      "12500/12500 [==============================] - 71s 6ms/step\n",
      "Results:\n",
      "BER: 1.87e-05\n",
      "SNR: 20.00 dB\n",
      "SIR =  12.68  dB\n",
      "GMI: 4.00 bits\n",
      "\n"
     ]
    },
    {
     "data": {
      "application/vnd.jupyter.widget-view+json": {
       "model_id": "e3c7b20d6b614095801354a405e4c306",
       "version_major": 2,
       "version_minor": 0
      },
      "text/plain": [
       "  0%|          | 0/1 [00:00<?, ?it/s]"
      ]
     },
     "metadata": {},
     "output_type": "display_data"
    },
    {
     "name": "stdout",
     "output_type": "stream",
     "text": [
      "CSPR = 12.00 dB\n",
      "12500/12500 [==============================] - 69s 5ms/step\n",
      "Results:\n",
      "BER: 4.06e-05\n",
      "SNR: 19.70 dB\n",
      "SIR =  12.23  dB\n",
      "GMI: 4.00 bits\n",
      "\n"
     ]
    },
    {
     "data": {
      "application/vnd.jupyter.widget-view+json": {
       "model_id": "a0d5ba7e904c4aaba9a2480b98b352e8",
       "version_major": 2,
       "version_minor": 0
      },
      "text/plain": [
       "  0%|          | 0/1 [00:00<?, ?it/s]"
      ]
     },
     "metadata": {},
     "output_type": "display_data"
    },
    {
     "name": "stdout",
     "output_type": "stream",
     "text": [
      "CSPR = 12.00 dB\n",
      "12500/12500 [==============================] - 68s 5ms/step\n",
      "Results:\n",
      "BER: 3.75e-05\n",
      "SNR: 19.68 dB\n",
      "SIR =  11.91  dB\n",
      "GMI: 4.00 bits\n",
      "\n"
     ]
    }
   ],
   "source": [
    "Rolloff = np.arange(0.05, 0.95, 0.05)\n",
    "BER = np.zeros((3, len(Rolloff)))\n",
    "SER = np.zeros((3, len(Rolloff)))\n",
    "GMI = np.zeros((3, len(Rolloff)))\n",
    "MI  = np.zeros((3, len(Rolloff)))\n",
    "SNR = np.zeros((3, len(Rolloff)))\n",
    "SIR = np.zeros((3, len(Rolloff)))\n",
    "\n",
    "for indfile in range(0, Interactions):\n",
    "    for indAlg, alg in enumerate(['KK', 'MLP', 'CONVNET']):\n",
    "        for indRoll, rollOff in enumerate(tqdm(Rolloff)):\n",
    "            \n",
    "            paramTx.alphaRRC = rollOff \n",
    "            # generate optical signal signal\n",
    "            sigTx, symbTx_, paramTx = simpleWDMTx(paramTx)\n",
    "\n",
    "            # simulate linear signal propagation\n",
    "            sigCh = linFiberCh(sigTx, Ltotal, alpha, D, Fc, Fs)\n",
    "\n",
    "            symbTx = symbTx_[:, :, chIndex]\n",
    "            Plo = 10 ** (Plo_dBm / 10) * 1e-3  # power in W\n",
    "\n",
    "            # generate LO field\n",
    "            π = np.pi\n",
    "            t = np.arange(0, len(sigCh))*Ts\n",
    "            ϕ_pn_lo = phaseNoise(lw, len(sigCh), Ts)\n",
    "\n",
    "            sigLO = np.sqrt(Plo) * np.exp(-1j * (2 * π * FO * t + ϕ_lo + ϕ_pn_lo))\n",
    "\n",
    "            # Add LO to the received signal\n",
    "            sigRx = np.sqrt(Plo) + sigCh* np.exp(1j * (2 * π * FO * t + ϕ_lo + ϕ_pn_lo))\n",
    "            sfm   = sigRx.copy()\n",
    "\n",
    "            print('CSPR = %.2f dB'%(10*np.log10(signal_power(sigLO)/signal_power(sigCh))))\n",
    "\n",
    "            # simulate ideal direct-detection optical receiver\n",
    "            Ipd = photodiode(sigRx, paramPD)\n",
    "            Amp = np.sqrt(Ipd.real)\n",
    "            Amp = resample(Amp, paramADC).real\n",
    "\n",
    "            # resampling to ADC sampling rate\n",
    "            sigCh = resample(sigCh, paramADC)\n",
    "            sfm = resample(sfm, paramADC)\n",
    "            newFs = paramADC.SpS_out*paramTx.Rs\n",
    "\n",
    "            sfm = sfm/np.sqrt(signal_power(sfm))\n",
    "            if alg == 'KK':\n",
    "                # Kramers-Kronig phase-retrieval\n",
    "                phiTime = KramersKronigRx(Amp, newFs)\n",
    "                # optical field reconstruction\n",
    "                sigRx = Amp*np.exp(1j*phiTime)\n",
    "\n",
    "            elif alg == 'MLP':\n",
    "                # Mlp phase-retrieval\n",
    "                model = tf.keras.models.load_model(path_mlp+'testModel_SpS_'+str(paramADC.SpS_out)+'_FO_'+str(FO/10e9)+'GHz_Rolloff_0.5'+str(round(paramTx.alphaRRC, 2))) \n",
    "                #sigPhase = np.angle(sfm) # get signal phase samples (labels) (L,)\n",
    "                sigAmp  = np.pad(Amp, (int(N/2), int(N/2)), 'constant') # get signal amplitude samples (L,)\n",
    "                # create set of input features\n",
    "                X_input = np.zeros((len(sfm), N)) #(L,N)\n",
    "\n",
    "                for indPhase in range(len(sfm)):\n",
    "                    X_input[indPhase] = sigAmp[indPhase:N+indPhase]\n",
    "\n",
    "                sigRx_NN = model.predict(X_input)\n",
    "                # optical field reconstruction\n",
    "                sigRx = sigRx_NN[:,0]+1j*sigRx_NN[:,1]\n",
    "\n",
    "            elif alg == 'CONVNET':\n",
    "                # ConvNet phase-retrieval\n",
    "                model = tf.keras.models.load_model(path_conv+'testModel_SpS_'+str(paramADC.SpS_out)+'_FO_'+str(FO/10e9)+'GHz_Rolloff_'+str(round(paramTx.alphaRRC, 2)))\n",
    "                #sigPhase = np.angle(sfm) # get signal phase samples (labels) (L,)\n",
    "                sigAmp  = np.pad(Amp, (int(N/2), int(N/2)), 'constant') # get signal amplitude samples (L,)\n",
    "                # create set of input features\n",
    "                X_input = np.zeros((len(sfm), N)) #(L,N)\n",
    "\n",
    "                for indPhase in range(len(sfm)):\n",
    "                    X_input[indPhase] = sigAmp[indPhase:N+indPhase]\n",
    "\n",
    "                sigRx_NN = model.predict(X_input)\n",
    "                # optical field reconstruction\n",
    "                sigRx = sigRx_NN[:,0]+1j*sigRx_NN[:,1]    \n",
    "\n",
    "            # remove DC level\n",
    "            sigRx -= np.mean(sigRx) # np.sqrt(Plo)  \n",
    "\n",
    "            # downshift to baseband\n",
    "            t = np.arange(0, len(sigRx))*(1/newFs)\n",
    "            sigRx *= np.exp(-1j * (2 * π * FO * t))\n",
    "            \n",
    "            # Matched filtering\n",
    "            if paramTx.pulse == \"nrz\":\n",
    "                pulse = pulseShape(\"nrz\", paramADC.SpS_out)\n",
    "            elif paramTx.pulse == \"rrc\":\n",
    "                pulse = pulseShape(\n",
    "                    \"rrc\", paramADC.SpS_out, N=paramTx.Ntaps, alpha=paramTx.alphaRRC, Ts=1 / paramTx.Rs\n",
    "                )\n",
    "\n",
    "            pulse = pulse / np.max(np.abs(pulse))\n",
    "            sigRx = firFilter(pulse, sigRx)\n",
    "            sigCh = firFilter(pulse, sigCh)\n",
    "            \n",
    "            # correct for (possible) phase ambiguity\n",
    "            rot = np.mean(sigCh/sigRx)\n",
    "            sigRx = rot * sigRx\n",
    "            sigRx = sigRx / np.sqrt(signal_power(sigRx))\n",
    "\n",
    "            intf = sigRx/np.sqrt(signal_power(sigRx))-sigCh/np.sqrt(signal_power(sigCh))\n",
    "\n",
    "            SIR[indAlg, indRoll] = 1/signal_power(intf)\n",
    "\n",
    "\n",
    "            # resample to 2 samples/symbol:\n",
    "            paramRes = parameters()\n",
    "            paramRes.Rs = paramTx.Rs\n",
    "            paramRes.SpS_in  = paramADC.SpS_out\n",
    "            paramRes.SpS_out = 2\n",
    "\n",
    "            sigRx = resample(sigRx, paramRes)\n",
    "\n",
    "            # CD compensation\n",
    "            sigRx = edc(sigRx, Ltotal, D, Fc, paramRes.SpS_out*paramTx.Rs)\n",
    "\n",
    "            # Downsampling to 2 sps and re-synchronization with transmitted sequences\n",
    "            sigRx = sigRx.reshape(-1, 1)\n",
    "\n",
    "            symbRx = symbolSync(sigRx, symbTx, 2)\n",
    "\n",
    "            # Power normalization\n",
    "            x = sigRx\n",
    "            d = symbRx\n",
    "\n",
    "            x = x.reshape(len(x), 1) / np.sqrt(signal_power(x))\n",
    "            d = d.reshape(len(d), 1) / np.sqrt(signal_power(d))\n",
    "\n",
    "            # Adaptive equalization\n",
    "            mod = QAMModem(m=paramTx.M)\n",
    "\n",
    "            paramEq = parameters()\n",
    "            paramEq.nTaps = 15\n",
    "            paramEq.SpS = 2\n",
    "            paramEq.mu = [1e-3, 5e-4]\n",
    "            paramEq.numIter = 5\n",
    "            paramEq.storeCoeff = False\n",
    "            paramEq.alg = [\"da-rde\", \"rde\"]\n",
    "            paramEq.M = paramTx.M\n",
    "            paramEq.L = [20000, 80000]\n",
    "            paramEq.prgsBar = False\n",
    "\n",
    "            y_EQ, H, errSq, Hiter = mimoAdaptEqualizer(x, dx=d, paramEq=paramEq)\n",
    "\n",
    "            # Carrier phase recovery\n",
    "            paramCPR = parameters()\n",
    "            paramCPR.alg = \"bps\"\n",
    "            paramCPR.M = paramTx.M\n",
    "            paramCPR.N = 85\n",
    "            paramCPR.B = 64\n",
    "            paramCPR.pilotInd = np.arange(0, len(y_EQ), 20)\n",
    "\n",
    "            y_CPR, θ = cpr(y_EQ, symbTx=d, paramCPR=paramCPR)\n",
    "\n",
    "            y_CPR = y_CPR / np.sqrt(signal_power(y_CPR))\n",
    "\n",
    "            # correct for (possible) phase ambiguity\n",
    "            for k in range(y_CPR.shape[1]):\n",
    "                rot = np.mean(d[:, k] / y_CPR[:, k])\n",
    "                y_CPR[:, k] = rot * y_CPR[:, k]\n",
    "\n",
    "            y_CPR = y_CPR / np.sqrt(signal_power(y_CPR))\n",
    "\n",
    "            discard = int(paramEq.L[0]/2)\n",
    "\n",
    "            ind = np.arange(discard, d.shape[0] - discard)\n",
    "            BER[indAlg,indRoll], SER[indAlg,indRoll], SNR[indAlg,indRoll] = fastBERcalc(y_CPR[ind, :], d[ind, :], paramTx.M, 'qam')\n",
    "            GMI[indAlg,indRoll], _ = monteCarloGMI(y_CPR[ind, :], d[ind, :],  paramTx.M, 'qam')\n",
    "            MI[indAlg,indRoll] = monteCarloMI(y_CPR[ind, :], d[ind, :],  paramTx.M, 'qam')\n",
    "\n",
    "            print(\"Results:\")\n",
    "            print(\"BER: %.2e\" %(BER[indAlg,indRoll]))\n",
    "            print(\"SNR: %.2f dB\" %(SNR[indAlg,indRoll]))\n",
    "            print('SIR = ', round(10*np.log10(SIR[indAlg,indRoll]), 2), ' dB')\n",
    "            print(\"GMI: %.2f bits\\n\" %(GMI[indAlg,indRoll]))\n",
    "\n",
    "    if saveData:\n",
    "        # save the simulation data\n",
    "        np.save(path_data+'Rolloff_BER_SpS_'+str(paramADC.SpS_out)+'_'+str(N)+'_Sample_'+str(indfile), BER)\n",
    "        np.save(path_data+'Rolloff_SNR_SpS_'+str(paramADC.SpS_out)+'_'+str(N)+'_Sample_'+str(indfile), SNR)\n",
    "        np.save(path_data+'Rolloff_SIR_SpS_'+str(paramADC.SpS_out)+'_'+str(N)+'_Sample_'+str(indfile), SIR)\n",
    "        np.save(path_data+'Rolloff_SER_SpS_'+str(paramADC.SpS_out)+'_'+str(N)+'_Sample_'+str(indfile), SER)"
   ]
  },
  {
   "attachments": {},
   "cell_type": "markdown",
   "metadata": {},
   "source": [
    "## Simulation of a single polarization optical signal transmission"
   ]
  },
  {
   "cell_type": "code",
   "execution_count": 10,
   "metadata": {},
   "outputs": [],
   "source": [
    "## Transmitter parameters:\n",
    "paramTx = parameters()\n",
    "paramTx.M = 16                 # order of the modulation format\n",
    "paramTx.Rs = 32e9              # symbol rate [baud]\n",
    "paramTx.SpS = 4                # samples per symbol\n",
    "paramTx.Nbits = 400000         # total number of bits per polarization\n",
    "paramTx.pulse = \"rrc\"          # pulse shaping filter\n",
    "paramTx.Ntaps = 1024           # number of pulse shaping filter coefficients\n",
    "paramTx.alphaRRC = 0.5         # RRC rolloff\n",
    "paramTx.Pch_dBm = 0            # power of the optical signal [dBm]\n",
    "paramTx.Nch = 1                # number of WDM channels\n",
    "paramTx.Fc = 193.1e12          # central frequency of the optical spectrum\n",
    "paramTx.freqSpac = 37.5e9      # WDM grid spacing\n",
    "\n",
    "## Optical channel parameters:\n",
    "Ltotal = 100     # total link distance [km]\n",
    "alpha = 0        # fiber loss parameter [dB/km]\n",
    "D = 16           # fiber dispersion parameter [ps/nm/km]\n",
    "Fc = paramTx.Fc  # central optical frequency of the WDM spectrum [Hz]\n",
    "\n",
    "## Receiver parameters:\n",
    "\n",
    "# local oscillator (LO)\n",
    "# FO = paramTx.Rs/2  # frequency offset\n",
    "lw = 0*200e3       # linewidth\n",
    "ϕ_lo = 0           # initial phase in rad\n",
    "Plo_dBm = 12       # power in dBm\n",
    "\n",
    "# ADC sampling rate\n",
    "paramADC = parameters()\n",
    "paramADC.Rs = paramTx.Rs\n",
    "paramADC.SpS_in = paramTx.SpS\n",
    "paramADC.SpS_out = 4\n",
    "\n",
    "## General simulation parameters:\n",
    "chIndex = 0  # index of the channel to be demodulated\n",
    "plotPSD = True\n",
    "Fs = paramTx.Rs * paramTx.SpS  # simulation sampling rate\n",
    "Ts = 1 / Fs\n",
    "\n",
    "# photodiode parameters\n",
    "paramPD = parameters()\n",
    "paramPD.B  = 1.1*paramTx.Rs\n",
    "paramPD.Fs = Fs"
   ]
  },
  {
   "attachments": {},
   "cell_type": "markdown",
   "metadata": {},
   "source": [
    "## Run all *Frequency offset* (FO) variations"
   ]
  },
  {
   "cell_type": "code",
   "execution_count": 12,
   "metadata": {},
   "outputs": [
    {
     "data": {
      "application/vnd.jupyter.widget-view+json": {
       "model_id": "192da75216c644c8862739c80c303ea9",
       "version_major": 2,
       "version_minor": 0
      },
      "text/plain": [
       "  0%|          | 0/6 [00:00<?, ?it/s]"
      ]
     },
     "metadata": {},
     "output_type": "display_data"
    },
    {
     "data": {
      "application/vnd.jupyter.widget-view+json": {
       "model_id": "2bcf15db2613479d9f4fa0676fc6482f",
       "version_major": 2,
       "version_minor": 0
      },
      "text/plain": [
       "  0%|          | 0/1 [00:00<?, ?it/s]"
      ]
     },
     "metadata": {},
     "output_type": "display_data"
    },
    {
     "name": "stdout",
     "output_type": "stream",
     "text": [
      "CSPR = 12.00 dB\n"
     ]
    },
    {
     "data": {
      "application/vnd.jupyter.widget-view+json": {
       "model_id": "34a8826f58da493c8a1615584d9bea18",
       "version_major": 2,
       "version_minor": 0
      },
      "text/plain": [
       "  0%|          | 0/6 [00:00<?, ?it/s]"
      ]
     },
     "metadata": {},
     "output_type": "display_data"
    },
    {
     "data": {
      "application/vnd.jupyter.widget-view+json": {
       "model_id": "5e5454ab7e7a42e7b0bd8165b60c9d15",
       "version_major": 2,
       "version_minor": 0
      },
      "text/plain": [
       "  0%|          | 0/1 [00:00<?, ?it/s]"
      ]
     },
     "metadata": {},
     "output_type": "display_data"
    },
    {
     "name": "stdout",
     "output_type": "stream",
     "text": [
      "CSPR = 12.00 dB\n"
     ]
    },
    {
     "data": {
      "application/vnd.jupyter.widget-view+json": {
       "model_id": "d963eccc808549ed9ccc97ec891fa706",
       "version_major": 2,
       "version_minor": 0
      },
      "text/plain": [
       "  0%|          | 0/6 [00:00<?, ?it/s]"
      ]
     },
     "metadata": {},
     "output_type": "display_data"
    },
    {
     "data": {
      "application/vnd.jupyter.widget-view+json": {
       "model_id": "9b77a70c33964569bccf68ca6bfee651",
       "version_major": 2,
       "version_minor": 0
      },
      "text/plain": [
       "  0%|          | 0/1 [00:00<?, ?it/s]"
      ]
     },
     "metadata": {},
     "output_type": "display_data"
    },
    {
     "name": "stdout",
     "output_type": "stream",
     "text": [
      "CSPR = 12.00 dB\n",
      "12500/12500 [==============================] - 94s 8ms/step\n",
      "Results:\n",
      "BER: 0.00e+00\n",
      "SNR: 21.02 dB\n",
      "SIR =  14.6  dB\n",
      "GMI: 4.00 bits\n",
      "\n"
     ]
    },
    {
     "data": {
      "application/vnd.jupyter.widget-view+json": {
       "model_id": "09674c9fbe6348fe914159226abc08d7",
       "version_major": 2,
       "version_minor": 0
      },
      "text/plain": [
       "  0%|          | 0/1 [00:00<?, ?it/s]"
      ]
     },
     "metadata": {},
     "output_type": "display_data"
    },
    {
     "name": "stdout",
     "output_type": "stream",
     "text": [
      "CSPR = 12.00 dB\n",
      "12500/12500 [==============================] - 73s 6ms/step\n",
      "Results:\n",
      "BER: 0.00e+00\n",
      "SNR: 23.35 dB\n",
      "SIR =  16.2  dB\n",
      "GMI: 4.00 bits\n",
      "\n"
     ]
    },
    {
     "data": {
      "application/vnd.jupyter.widget-view+json": {
       "model_id": "662e8f974d9c418097e1639dfe432d0c",
       "version_major": 2,
       "version_minor": 0
      },
      "text/plain": [
       "  0%|          | 0/1 [00:00<?, ?it/s]"
      ]
     },
     "metadata": {},
     "output_type": "display_data"
    },
    {
     "name": "stdout",
     "output_type": "stream",
     "text": [
      "CSPR = 12.00 dB\n",
      "12500/12500 [==============================] - 74s 6ms/step\n",
      "Results:\n",
      "BER: 0.00e+00\n",
      "SNR: 28.97 dB\n",
      "SIR =  28.21  dB\n",
      "GMI: 4.00 bits\n",
      "\n"
     ]
    },
    {
     "data": {
      "application/vnd.jupyter.widget-view+json": {
       "model_id": "de2cd70bd37f4ee28371a717e1b883f8",
       "version_major": 2,
       "version_minor": 0
      },
      "text/plain": [
       "  0%|          | 0/1 [00:00<?, ?it/s]"
      ]
     },
     "metadata": {},
     "output_type": "display_data"
    },
    {
     "name": "stdout",
     "output_type": "stream",
     "text": [
      "CSPR = 12.00 dB\n",
      "12500/12500 [==============================] - 80s 6ms/step\n",
      "Results:\n",
      "BER: 0.00e+00\n",
      "SNR: 28.76 dB\n",
      "SIR =  22.27  dB\n",
      "GMI: 4.00 bits\n",
      "\n"
     ]
    },
    {
     "data": {
      "application/vnd.jupyter.widget-view+json": {
       "model_id": "aa672883762943aebdd32afa13cd5b8e",
       "version_major": 2,
       "version_minor": 0
      },
      "text/plain": [
       "  0%|          | 0/1 [00:00<?, ?it/s]"
      ]
     },
     "metadata": {},
     "output_type": "display_data"
    },
    {
     "name": "stdout",
     "output_type": "stream",
     "text": [
      "CSPR = 12.00 dB\n",
      "12500/12500 [==============================] - 75s 6ms/step\n",
      "Results:\n",
      "BER: 0.00e+00\n",
      "SNR: 30.72 dB\n",
      "SIR =  26.05  dB\n",
      "GMI: 4.00 bits\n",
      "\n"
     ]
    },
    {
     "data": {
      "application/vnd.jupyter.widget-view+json": {
       "model_id": "446d20c4ecbd47858fa15957becf061b",
       "version_major": 2,
       "version_minor": 0
      },
      "text/plain": [
       "  0%|          | 0/1 [00:00<?, ?it/s]"
      ]
     },
     "metadata": {},
     "output_type": "display_data"
    },
    {
     "name": "stdout",
     "output_type": "stream",
     "text": [
      "CSPR = 12.00 dB\n",
      "12500/12500 [==============================] - 77s 6ms/step\n",
      "Results:\n",
      "BER: 0.00e+00\n",
      "SNR: 32.49 dB\n",
      "SIR =  30.63  dB\n",
      "GMI: 4.00 bits\n",
      "\n"
     ]
    }
   ],
   "source": [
    "FO_Values = np.arange(0e9, 6e9, 1e9)\n",
    "BER = np.zeros((3, len(FO_Values)))\n",
    "SER = np.zeros((3, len(FO_Values)))\n",
    "GMI = np.zeros((3, len(FO_Values)))\n",
    "MI  = np.zeros((3, len(FO_Values)))\n",
    "SNR = np.zeros((3, len(FO_Values)))\n",
    "SIR = np.zeros((3, len(FO_Values)))\n",
    "\n",
    "for indfile in range(0, Interactions):\n",
    "    for indAlg, alg in enumerate(['KK', 'MLP', 'CONVNET']):\n",
    "        for indFO, FOfreq in enumerate(tqdm(FO_Values)):\n",
    "            \n",
    "            FO = paramTx.Rs/2 + FOfreq\n",
    "            # generate optical signal signal\n",
    "            sigTx, symbTx_, paramTx = simpleWDMTx(paramTx)\n",
    "\n",
    "            # simulate linear signal propagation\n",
    "            sigCh = linFiberCh(sigTx, Ltotal, alpha, D, Fc, Fs)\n",
    "\n",
    "            symbTx = symbTx_[:, :, chIndex]\n",
    "            Plo = 10 ** (Plo_dBm / 10) * 1e-3  # power in W\n",
    "\n",
    "            # generate LO field\n",
    "            π = np.pi\n",
    "            t = np.arange(0, len(sigCh))*Ts\n",
    "            ϕ_pn_lo = phaseNoise(lw, len(sigCh), Ts)\n",
    "\n",
    "            sigLO = np.sqrt(Plo) * np.exp(-1j * (2 * π * FO * t + ϕ_lo + ϕ_pn_lo))\n",
    "\n",
    "            # Add LO to the received signal\n",
    "            sigRx = np.sqrt(Plo) + sigCh* np.exp(1j * (2 * π * FO * t + ϕ_lo + ϕ_pn_lo))\n",
    "            sfm   = sigRx.copy()\n",
    "\n",
    "            print('CSPR = %.2f dB'%(10*np.log10(signal_power(sigLO)/signal_power(sigCh))))\n",
    "\n",
    "            # simulate ideal direct-detection optical receiver\n",
    "            Ipd = photodiode(sigRx, paramPD)\n",
    "            Amp = np.sqrt(Ipd.real)\n",
    "            Amp = resample(Amp, paramADC).real\n",
    "\n",
    "            # resampling to ADC sampling rate\n",
    "            sigCh = resample(sigCh, paramADC)\n",
    "            sfm = resample(sfm, paramADC)\n",
    "            newFs = paramADC.SpS_out*paramTx.Rs\n",
    "\n",
    "            sfm = sfm/np.sqrt(signal_power(sfm))\n",
    "            if alg == 'KK':\n",
    "                # Kramers-Kronig phase-retrieval\n",
    "                phiTime = KramersKronigRx(Amp, newFs)\n",
    "                # optical field reconstruction\n",
    "                sigRx = Amp*np.exp(1j*phiTime)\n",
    "                \n",
    "            elif alg == 'MLP':\n",
    "                # Mlp phase-retrieval\n",
    "                model = tf.keras.models.load_model(path_mlp+'testModel_SpS_'+str(paramADC.SpS_out)+'_FO_'+str(FO/10e9)+'GHz_Rolloff_'+str(round(paramTx.alphaRRC, 2))) \n",
    "                # #sigPhase = np.angle(sfm) # get signal phase samples (labels) (L,)\n",
    "                sigAmp  = np.pad(Amp, (int(N/2), int(N/2)), 'constant') # get signal amplitude samples (L,)\n",
    "                # create set of input features\n",
    "                X_input = np.zeros((len(sfm), N)) #(L,N)\n",
    "\n",
    "                for indPhase in range(len(sfm)):\n",
    "                    X_input[indPhase] = sigAmp[indPhase:N+indPhase]\n",
    "\n",
    "                sigRx_NN = model.predict(X_input)\n",
    "                # optical field reconstruction\n",
    "                sigRx = sigRx_NN[:,0]+1j*sigRx_NN[:,1]\n",
    "\n",
    "            elif alg == 'CONVNET':\n",
    "                # ConvNet phase-retrieval\n",
    "                model = tf.keras.models.load_model(path_conv+'testModel_SpS_'+str(paramADC.SpS_out)+'_FO_'+str(FO/10e9)+'GHz_Rolloff_'+str(round(paramTx.alphaRRC, 2)))\n",
    "                #sigPhase = np.angle(sfm) # get signal phase samples (labels) (L,)\n",
    "                sigAmp  = np.pad(Amp, (int(N/2), int(N/2)), 'constant') # get signal amplitude samples (L,)\n",
    "                # create set of input features\n",
    "                X_input = np.zeros((len(sfm), N)) #(L,N)\n",
    "\n",
    "                for indPhase in range(len(sfm)):\n",
    "                    X_input[indPhase] = sigAmp[indPhase:N+indPhase]\n",
    "\n",
    "                sigRx_NN = model.predict(X_input)\n",
    "                # optical field reconstruction\n",
    "                sigRx = sigRx_NN[:,0]+1j*sigRx_NN[:,1]    \n",
    "\n",
    "            # remove DC level\n",
    "            sigRx -= np.mean(sigRx) # np.sqrt(Plo)  \n",
    "\n",
    "            # downshift to baseband\n",
    "            t = np.arange(0, len(sigRx))*(1/newFs)\n",
    "            sigRx *= np.exp(-1j * (2 * π * FO * t))\n",
    "            \n",
    "            # Matched filtering\n",
    "            if paramTx.pulse == \"nrz\":\n",
    "                pulse = pulseShape(\"nrz\", paramADC.SpS_out)\n",
    "            elif paramTx.pulse == \"rrc\":\n",
    "                pulse = pulseShape(\n",
    "                    \"rrc\", paramADC.SpS_out, N=paramTx.Ntaps, alpha=paramTx.alphaRRC, Ts=1 / paramTx.Rs\n",
    "                )\n",
    "\n",
    "            pulse = pulse / np.max(np.abs(pulse))\n",
    "            sigRx = firFilter(pulse, sigRx)\n",
    "            sigCh = firFilter(pulse, sigCh)\n",
    "            \n",
    "            # correct for (possible) phase ambiguity\n",
    "            rot = np.mean(sigCh/sigRx)\n",
    "            sigRx = rot * sigRx\n",
    "            sigRx = sigRx / np.sqrt(signal_power(sigRx))\n",
    "\n",
    "            intf = sigRx/np.sqrt(signal_power(sigRx))-sigCh/np.sqrt(signal_power(sigCh))\n",
    "\n",
    "            SIR[indAlg, indFO] = 1/signal_power(intf)\n",
    "\n",
    "            # resample to 2 samples/symbol:\n",
    "            paramRes = parameters()\n",
    "            paramRes.Rs = paramTx.Rs\n",
    "            paramRes.SpS_in  = paramADC.SpS_out\n",
    "            paramRes.SpS_out = 2\n",
    "\n",
    "            sigRx = resample(sigRx, paramRes)\n",
    "\n",
    "            # CD compensation\n",
    "            sigRx = edc(sigRx, Ltotal, D, Fc, paramRes.SpS_out*paramTx.Rs)\n",
    "\n",
    "            # Downsampling to 2 sps and re-synchronization with transmitted sequences\n",
    "            sigRx = sigRx.reshape(-1, 1)\n",
    "\n",
    "            symbRx = symbolSync(sigRx, symbTx, 2)\n",
    "\n",
    "            # Power normalization\n",
    "            x = sigRx\n",
    "            d = symbRx\n",
    "\n",
    "            x = x.reshape(len(x), 1) / np.sqrt(signal_power(x))\n",
    "            d = d.reshape(len(d), 1) / np.sqrt(signal_power(d))\n",
    "\n",
    "            # Adaptive equalization\n",
    "            mod = QAMModem(m=paramTx.M)\n",
    "\n",
    "            paramEq = parameters()\n",
    "            paramEq.nTaps = 15\n",
    "            paramEq.SpS = 2\n",
    "            paramEq.mu = [1e-3, 5e-4]\n",
    "            paramEq.numIter = 5\n",
    "            paramEq.storeCoeff = False\n",
    "            paramEq.alg = [\"da-rde\", \"rde\"]\n",
    "            paramEq.M = paramTx.M\n",
    "            paramEq.L = [20000, 80000]\n",
    "            paramEq.prgsBar = False\n",
    "\n",
    "            y_EQ, H, errSq, Hiter = mimoAdaptEqualizer(x, dx=d, paramEq=paramEq)\n",
    "\n",
    "            # Carrier phase recovery\n",
    "            paramCPR = parameters()\n",
    "            paramCPR.alg = \"bps\"\n",
    "            paramCPR.M = paramTx.M\n",
    "            paramCPR.N = 85\n",
    "            paramCPR.B = 64\n",
    "            paramCPR.pilotInd = np.arange(0, len(y_EQ), 20)\n",
    "\n",
    "            y_CPR, θ = cpr(y_EQ, symbTx=d, paramCPR=paramCPR)\n",
    "\n",
    "            y_CPR = y_CPR / np.sqrt(signal_power(y_CPR))\n",
    "\n",
    "            # correct for (possible) phase ambiguity\n",
    "            for k in range(y_CPR.shape[1]):\n",
    "                rot = np.mean(d[:, k] / y_CPR[:, k])\n",
    "                y_CPR[:, k] = rot * y_CPR[:, k]\n",
    "\n",
    "            y_CPR = y_CPR / np.sqrt(signal_power(y_CPR))\n",
    "\n",
    "            discard = int(paramEq.L[0]/2)\n",
    "\n",
    "            ind = np.arange(discard, d.shape[0] - discard)\n",
    "            BER[indAlg,indFO], SER[indAlg,indFO], SNR[indAlg,indFO] = fastBERcalc(y_CPR[ind, :], d[ind, :], paramTx.M, 'qam')\n",
    "            GMI[indAlg,indFO], _ = monteCarloGMI(y_CPR[ind, :], d[ind, :],  paramTx.M, 'qam')\n",
    "            MI[indAlg,indFO] = monteCarloMI(y_CPR[ind, :], d[ind, :],  paramTx.M, 'qam')\n",
    "\n",
    "            print(\"Results:\")\n",
    "            print(\"BER: %.2e\" %(BER[indAlg,indFO]))\n",
    "            print(\"SNR: %.2f dB\" %(SNR[indAlg,indFO]))\n",
    "            print('SIR = ', round(10*np.log10(SIR[indAlg,indFO]), 2), ' dB')\n",
    "            print(\"GMI: %.2f bits\\n\" %(GMI[indAlg,indFO]))\n",
    "\n",
    "    if saveData:\n",
    "        # save the simulation data\n",
    "        np.save(path_data+'Conv_FO_BER_SpS_'+str(paramADC.SpS_out)+'_'+str(N)+'_Sample_'+str(indfile), BER)\n",
    "        np.save(path_data+'Conv_FO_SNR_SpS_'+str(paramADC.SpS_out)+'_'+str(N)+'_Sample_'+str(indfile), SNR)\n",
    "        np.save(path_data+'Conv_FO_SIR_SpS_'+str(paramADC.SpS_out)+'_'+str(N)+'_Sample_'+str(indfile), SIR)\n",
    "        np.save(path_data+'Conv_FO_SER_SpS_'+str(paramADC.SpS_out)+'_'+str(N)+'_Sample_'+str(indfile), SER)"
   ]
  }
 ],
 "metadata": {
  "kernelspec": {
   "display_name": "Python 3",
   "language": "python",
   "name": "python3"
  },
  "language_info": {
   "codemirror_mode": {
    "name": "ipython",
    "version": 3
   },
   "file_extension": ".py",
   "mimetype": "text/x-python",
   "name": "python",
   "nbconvert_exporter": "python",
   "pygments_lexer": "ipython3",
   "version": "3.9.0"
  },
  "vscode": {
   "interpreter": {
    "hash": "375d932ff305d5bb7891cf7c099632ff151b644ae138927e5c1b22b0b7153300"
   }
  }
 },
 "nbformat": 4,
 "nbformat_minor": 2
}
