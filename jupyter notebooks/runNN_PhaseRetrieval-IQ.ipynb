{
 "cells": [
  {
   "cell_type": "code",
   "execution_count": 1,
   "metadata": {},
   "outputs": [],
   "source": [
    "import matplotlib.pyplot as plt\n",
    "import numpy as np\n",
    "\n",
    "from commpy.modulation import QAMModem\n",
    "\n",
    "from optic.dsp import pulseShape, firFilter, decimate, symbolSync, resample\n",
    "from optic.models import phaseNoise, linFiberCh, KramersKronigRx, photodiode, awgn\n",
    "\n",
    "from optic.tx import simpleWDMTx\n",
    "from optic.core import parameters\n",
    "from optic.equalization import edc, mimoAdaptEqualizer\n",
    "from optic.carrierRecovery import cpr\n",
    "from optic.metrics import fastBERcalc, monteCarloGMI, monteCarloMI, signal_power\n",
    "from optic.plot import pconst\n",
    "\n",
    "import scipy.constants as const\n",
    "from tqdm.notebook import tqdm\n",
    "\n",
    "from tensorflow.keras.layers import Dense, BatchNormalization, Conv1DTranspose, Conv1D, Flatten, Add\n",
    "from tensorflow.keras.models import Sequential\n",
    "from tensorflow.keras.callbacks import EarlyStopping\n",
    "import tensorflow as tf\n",
    "from tensorflow.keras import backend as K"
   ]
  },
  {
   "cell_type": "code",
   "execution_count": 2,
   "metadata": {},
   "outputs": [],
   "source": [
    "figurePath = 'C:/Users/optic/Documents/PIVIC-PIBIC-Comunicacoes-Opticas/resultados/Figuras/Pibic'\n",
    "path_data  = r'C:/Users/silas/Documents/PIVIC-PIBIC-Comunicacoes-Opticas/resultados/Data/Pibic/'\n",
    "path_mlp   = 'C:/Users/optic/Documents/PIVIC-PIBIC-Comunicacoes-Opticas/models/NN_models/' \n",
    "path_conv  = 'C:/Users/optic/Documents/PIVIC-PIBIC-Comunicacoes-Opticas/models/CONV_models/'\n",
    "\n",
    "saveData = True\n",
    "N = 128 # number of input amplitude samples to the NN\n",
    "Interactions = 5"
   ]
  },
  {
   "attachments": {},
   "cell_type": "markdown",
   "metadata": {},
   "source": [
    "## Simulation of a single polarization optical signal transmission"
   ]
  },
  {
   "cell_type": "code",
   "execution_count": null,
   "metadata": {},
   "outputs": [],
   "source": [
    "## Transmitter parameters:\n",
    "paramTx = parameters()\n",
    "paramTx.M = 16                 # order of the modulation format\n",
    "paramTx.Rs = 32e9              # symbol rate [baud]\n",
    "paramTx.SpS = 4                # samples per symbol\n",
    "paramTx.Nbits = 400000         # total number of bits per polarization\n",
    "paramTx.pulse = \"rrc\"          # pulse shaping filter\n",
    "paramTx.Ntaps = 1024           # number of pulse shaping filter coefficients\n",
    "#paramTx.alphaRRC = 0.01       # RRC rolloff\n",
    "paramTx.Pch_dBm = 0            # power of the optical signal [dBm]\n",
    "paramTx.Nch = 1                # number of WDM channels\n",
    "paramTx.Fc = 193.1e12          # central frequency of the optical spectrum\n",
    "paramTx.freqSpac = 37.5e9      # WDM grid spacing\n",
    "\n",
    "## Optical channel parameters:\n",
    "Ltotal = 100     # total link distance [km]\n",
    "alpha = 0        # fiber loss parameter [dB/km]\n",
    "D = 16           # fiber dispersion parameter [ps/nm/km]\n",
    "Fc = paramTx.Fc  # central optical frequency of the WDM spectrum [Hz]\n",
    "\n",
    "## Receiver parameters:\n",
    "\n",
    "# local oscillator (LO)\n",
    "FO = paramTx.Rs/2 + 1e9  # frequency offset\n",
    "lw = 0*200e3       # linewidth\n",
    "ϕ_lo = 0           # initial phase in rad\n",
    "Plo_dBm = 12       # power in dBm\n",
    "\n",
    "# ADC sampling rate\n",
    "paramADC = parameters()\n",
    "paramADC.Rs = paramTx.Rs\n",
    "paramADC.SpS_in = paramTx.SpS\n",
    "paramADC.SpS_out = 4\n",
    "\n",
    "## General simulation parameters:\n",
    "chIndex = 0  # index of the channel to be demodulated\n",
    "plotPSD = True\n",
    "Fs = paramTx.Rs * paramTx.SpS  # simulation sampling rate\n",
    "Ts = 1 / Fs\n",
    "\n",
    "# photodiode parameters\n",
    "paramPD = parameters()\n",
    "paramPD.B  = 1.1*paramTx.Rs\n",
    "paramPD.Fs = Fs"
   ]
  },
  {
   "attachments": {},
   "cell_type": "markdown",
   "metadata": {},
   "source": [
    "## Run BER vs rolloff vs FO for all cases"
   ]
  },
  {
   "cell_type": "code",
   "execution_count": null,
   "metadata": {},
   "outputs": [],
   "source": [
    "Rolloff = np.arange(0.05, 0.95, 0.05)\n",
    "FO_Values = np.arange(0e9, 6e9, 1e9)\n",
    "\n",
    "BER = np.zeros((3, len(Rolloff), len(FO_Values)))\n",
    "SER = np.zeros((3, len(Rolloff), len(FO_Values))) \n",
    "GMI = np.zeros((3, len(Rolloff), len(FO_Values)))\n",
    "MI  = np.zeros((3, len(Rolloff), len(FO_Values)))\n",
    "SNR = np.zeros((3, len(Rolloff), len(FO_Values)))\n",
    "SIR = np.zeros((3, len(Rolloff), len(FO_Values)))\n",
    "\n",
    "for indfile in range(0, Interactions):\n",
    "    for indAlg, alg in enumerate(['KK', 'MLP', 'CONVNET']):\n",
    "        for indFO, FOfreq in enumerate(tqdm(FO_Values)):\n",
    "            for indRolloff, rollOff in enumerate(tqdm(Rolloff)):\n",
    "                \n",
    "                paramTx.alphaRRC = rollOff\n",
    "                FO = paramTx.Rs/2 + FOfreq\n",
    "\n",
    "                # generate optical signal signal\n",
    "                sigTx, symbTx_, paramTx = simpleWDMTx(paramTx)\n",
    "\n",
    "                # simulate linear signal propagation\n",
    "                sigCh = linFiberCh(sigTx, Ltotal, alpha, D, Fc, Fs)\n",
    "\n",
    "                symbTx = symbTx_[:, :, chIndex]\n",
    "                Plo = 10 ** (Plo_dBm / 10) * 1e-3  # power in W\n",
    "\n",
    "                # generate LO field\n",
    "                π = np.pi\n",
    "                t = np.arange(0, len(sigCh))*Ts\n",
    "                ϕ_pn_lo = phaseNoise(lw, len(sigCh), Ts)\n",
    "\n",
    "                sigLO = np.sqrt(Plo) * np.exp(-1j * (2 * π * FO * t + ϕ_lo + ϕ_pn_lo))\n",
    "\n",
    "                # Add LO to the received signal\n",
    "                sigRx = np.sqrt(Plo) + sigCh* np.exp(1j * (2 * π * FO * t + ϕ_lo + ϕ_pn_lo))\n",
    "                sfm   = sigRx.copy()\n",
    "\n",
    "                print('CSPR = %.2f dB'%(10*np.log10(signal_power(sigLO)/signal_power(sigCh))))\n",
    "\n",
    "                # simulate ideal direct-detection optical receiver\n",
    "                Ipd = photodiode(sigRx, paramPD)\n",
    "                Amp = np.sqrt(Ipd.real)\n",
    "                Amp = resample(Amp, paramADC).real\n",
    "\n",
    "                # resampling to ADC sampling rate\n",
    "                sigCh = resample(sigCh, paramADC)\n",
    "                sfm = resample(sfm, paramADC)\n",
    "                newFs = paramADC.SpS_out*paramTx.Rs\n",
    "\n",
    "                sfm = sfm/np.sqrt(signal_power(sfm))\n",
    "\n",
    "                if alg == 'KK':\n",
    "                    # Kramers-Kronig phase-retrieval\n",
    "                    phiTime = KramersKronigRx(Amp, newFs)\n",
    "                    # optical field reconstruction\n",
    "                    sigRx = Amp*np.exp(1j*phiTime)\n",
    "                \n",
    "                elif alg == 'MLP':\n",
    "                    # Mlp phase-retrieval\n",
    "                    model = tf.keras.models.load_model(path_mlp+'testModel_SpS_'+str(paramADC.SpS_out)+'_FO_'+str(FO/10e9)+'GHz_Rolloff_'+str(round(paramTx.alphaRRC, 2)))\n",
    "                    #sigPhase = np.angle(sfm) # get signal phase samples (labels) (L,)\n",
    "                    sigAmp  = np.pad(Amp, (int(N/2), int(N/2)), 'constant') # get signal amplitude samples (L,)\n",
    "                    # create set of input features\n",
    "                    X_input = np.zeros((len(sfm), N)) #(L,N)\n",
    "\n",
    "                    for indPhase in range(len(sfm)):\n",
    "                        X_input[indPhase] = sigAmp[indPhase:N+indPhase]\n",
    "\n",
    "                    sigRx_NN = model.predict(X_input)\n",
    "\n",
    "                    # optical field reconstruction\n",
    "                    sigRx = sigRx_NN[:,0]+1j*sigRx_NN[:,1]\n",
    "\n",
    "                elif alg == 'CONVNET':\n",
    "                    # ConvNet phase-retrieval\n",
    "                    model = tf.keras.models.load_model(path_conv+'testModel_SpS_'+str(paramADC.SpS_out)+'_FO_'+str(FO/10e9)+'GHz_Rolloff_'+str(round(paramTx.alphaRRC, 2)))\n",
    "                    #sigPhase = np.angle(sfm) # get signal phase samples (labels) (L,)\n",
    "                    sigAmp  = np.pad(Amp, (int(N/2), int(N/2)), 'constant') # get signal amplitude samples (L,)\n",
    "\n",
    "                    # create set of input features\n",
    "                    X_input = np.zeros((len(sfm), N)) #(L,N)\n",
    "\n",
    "                    for indPhase in range(len(sfm)):\n",
    "                        X_input[indPhase] = sigAmp[indPhase:N+indPhase]\n",
    "\n",
    "                    sigRx_NN = model.predict(X_input)\n",
    "\n",
    "                    # optical field reconstruction\n",
    "                    sigRx = sigRx_NN[:,0]+1j*sigRx_NN[:,1]\n",
    "                    \n",
    "                # remove DC level\n",
    "                sigRx -= np.mean(sigRx) # np.sqrt(Plo)\n",
    "                \n",
    "                # downshift to baseband\n",
    "                t = np.arange(0, len(sigRx))*(1/newFs)\n",
    "                sigRx *= np.exp(-1j * (2 * π * FO * t))\n",
    "\n",
    "                # Matched filtering\n",
    "                if paramTx.pulse == \"nrz\":\n",
    "                    pulse = pulseShape(\"nrz\", paramADC.SpS_out)\n",
    "                elif paramTx.pulse == \"rrc\":\n",
    "                    pulse = pulseShape(\n",
    "                        \"rrc\", paramADC.SpS_out, N=paramTx.Ntaps, alpha=paramTx.alphaRRC, Ts=1 / paramTx.Rs\n",
    "                    )\n",
    "\n",
    "                pulse = pulse / np.max(np.abs(pulse))\n",
    "                sigRx = firFilter(pulse, sigRx)\n",
    "                sigCh = firFilter(pulse, sigCh)\n",
    "\n",
    "                # correct for (possible) phase ambiguity\n",
    "                rot = np.mean(sigCh/sigRx)\n",
    "                sigRx = rot * sigRx\n",
    "                sigRx = sigRx / np.sqrt(signal_power(sigRx))\n",
    "\n",
    "                intf = sigRx/np.sqrt(signal_power(sigRx))-sigCh/np.sqrt(signal_power(sigCh))\n",
    "\n",
    "                SIR[indAlg, indRolloff, indFO] = 1/signal_power(intf)\n",
    "\n",
    "                # resample to 2 samples/symbol:\n",
    "                paramRes = parameters()\n",
    "                paramRes.Rs = paramTx.Rs\n",
    "                paramRes.SpS_in  = paramADC.SpS_out\n",
    "                paramRes.SpS_out = 2\n",
    "\n",
    "                sigRx = resample(sigRx, paramRes)\n",
    "\n",
    "                # CD compensation\n",
    "                sigRx = edc(sigRx, Ltotal, D, Fc, paramRes.SpS_out*paramTx.Rs)\n",
    "\n",
    "                # Downsampling to 2 sps and re-synchronization with transmitted sequences\n",
    "                sigRx = sigRx.reshape(-1, 1)\n",
    "\n",
    "                symbRx = symbolSync(sigRx, symbTx, 2)\n",
    "\n",
    "                # Power normalization\n",
    "                x = sigRx\n",
    "                d = symbRx\n",
    "\n",
    "                x = x.reshape(len(x), 1) / np.sqrt(signal_power(x))\n",
    "                d = d.reshape(len(d), 1) / np.sqrt(signal_power(d))\n",
    "\n",
    "                # Adaptive equalization          \n",
    "                paramEq = parameters()\n",
    "                paramEq.nTaps = 15\n",
    "                paramEq.SpS = 2\n",
    "                paramEq.mu = [1e-3, 5e-4]\n",
    "                paramEq.numIter = 5\n",
    "                paramEq.storeCoeff = False\n",
    "                paramEq.alg = [\"da-rde\", \"rde\"]\n",
    "                paramEq.M = paramTx.M\n",
    "                paramEq.L = [20000, 80000]\n",
    "                paramEq.prgsBar = False\n",
    "\n",
    "                y_EQ, H, errSq, Hiter = mimoAdaptEqualizer(x, dx=d, paramEq=paramEq)\n",
    "\n",
    "                # Carrier phase recovery\n",
    "                paramCPR = parameters()\n",
    "                paramCPR.alg = \"bps\"\n",
    "                paramCPR.M = paramTx.M\n",
    "                paramCPR.N = 85\n",
    "                paramCPR.B = 64\n",
    "                paramCPR.pilotInd = np.arange(0, len(y_EQ), 20)\n",
    "\n",
    "                y_CPR, θ = cpr(y_EQ, symbTx=d, paramCPR=paramCPR)\n",
    "\n",
    "                y_CPR = y_CPR / np.sqrt(signal_power(y_CPR))\n",
    "\n",
    "                # correct for (possible) phase ambiguity\n",
    "                for k in range(y_CPR.shape[1]):\n",
    "                    rot = np.mean(d[:, k] / y_CPR[:, k])\n",
    "                    y_CPR[:, k] = rot * y_CPR[:, k]\n",
    "\n",
    "                y_CPR = y_CPR / np.sqrt(signal_power(y_CPR))\n",
    "\n",
    "                discard = int(paramEq.L[0]/2)\n",
    "\n",
    "                ind = np.arange(discard, d.shape[0] - discard)\n",
    "                BER[indAlg,indRolloff,indFO], SER[indAlg,indRolloff,indFO], SNR[indAlg,indRolloff,indFO] = fastBERcalc(y_CPR[ind, :], d[ind, :], paramTx.M, 'qam')\n",
    "                GMI[indAlg,indRolloff,indFO], _ = monteCarloGMI(y_CPR[ind, :], d[ind, :],  paramTx.M, 'qam')\n",
    "                MI[indAlg,indRolloff,indFO] = monteCarloMI(y_CPR[ind, :], d[ind, :],  paramTx.M, 'qam')\n",
    "\n",
    "                print(\"Results:\")\n",
    "                print(\"BER: %.2e\" %(BER[indAlg,indRolloff,indFO]))\n",
    "                print(\"SNR: %.2f dB\" %(SNR[indAlg,indRolloff,indFO]))\n",
    "                print('SIR = ', round(10*np.log10(SIR[indAlg,indRolloff,indFO]), 2), ' dB')\n",
    "                print(\"GMI: %.2f bits\\n\" %(GMI[indAlg,indRolloff,indFO]))\n",
    "\n",
    "    if saveData:    \n",
    "        # save the simulation data\n",
    "        np.save(path_data+'BER_SpS_'+str(paramADC.SpS_out)+'_'+str(N)+'_Sample_'+str(indfile), BER)\n",
    "        np.save(path_data+'SNR_SpS_'+str(paramADC.SpS_out)+'_'+str(N)+'_Sample_'+str(indfile), SNR)\n",
    "        np.save(path_data+'SIR_SpS_'+str(paramADC.SpS_out)+'_'+str(N)+'_Sample_'+str(indfile), SIR)"
   ]
  },
  {
   "cell_type": "code",
   "execution_count": 10,
   "metadata": {},
   "outputs": [],
   "source": [
    "## Transmitter parameters:\n",
    "paramTx = parameters()\n",
    "paramTx.M = 16                 # order of the modulation format\n",
    "paramTx.Rs = 32e9              # symbol rate [baud]\n",
    "paramTx.SpS = 4                # samples per symbol\n",
    "paramTx.Nbits = 400000         # total number of bits per polarization\n",
    "paramTx.pulse = \"rrc\"          # pulse shaping filter\n",
    "paramTx.Ntaps = 1024           # number of pulse shaping filter coefficients\n",
    "paramTx.alphaRRC = 0.5         # RRC rolloff\n",
    "paramTx.Pch_dBm = 0            # power of the optical signal [dBm]\n",
    "paramTx.Nch = 1                # number of WDM channels\n",
    "paramTx.Fc = 193.1e12          # central frequency of the optical spectrum\n",
    "paramTx.freqSpac = 37.5e9      # WDM grid spacing\n",
    "\n",
    "## Optical channel parameters:\n",
    "Ltotal = 100     # total link distance [km]\n",
    "alpha = 0        # fiber loss parameter [dB/km]\n",
    "D = 16           # fiber dispersion parameter [ps/nm/km]\n",
    "Fc = paramTx.Fc  # central optical frequency of the WDM spectrum [Hz]\n",
    "\n",
    "## Receiver parameters:\n",
    "\n",
    "# local oscillator (LO)\n",
    "FO = paramTx.Rs/2  # frequency offset\n",
    "lw = 0*200e3       # linewidth\n",
    "ϕ_lo = 0           # initial phase in rad\n",
    "#Plo_dBm = 12      # power in dBm\n",
    "\n",
    "# ADC sampling rate\n",
    "paramADC = parameters()\n",
    "paramADC.Rs = paramTx.Rs\n",
    "paramADC.SpS_in = paramTx.SpS\n",
    "paramADC.SpS_out = 4\n",
    "\n",
    "## General simulation parameters:\n",
    "chIndex = 0  # index of the channel to be demodulated\n",
    "plotPSD = True\n",
    "Fs = paramTx.Rs * paramTx.SpS  # simulation sampling rate\n",
    "Ts = 1 / Fs\n",
    "\n",
    "# photodiode parameters\n",
    "paramPD = parameters()\n",
    "paramPD.B  = 1.1*paramTx.Rs\n",
    "paramPD.Fs = Fs"
   ]
  },
  {
   "cell_type": "markdown",
   "metadata": {},
   "source": [
    "## Run all CSPR variations"
   ]
  },
  {
   "cell_type": "code",
   "execution_count": 11,
   "metadata": {},
   "outputs": [
    {
     "data": {
      "application/vnd.jupyter.widget-view+json": {
       "model_id": "601899cc72384878b8468737130cdc43",
       "version_major": 2,
       "version_minor": 0
      },
      "text/plain": [
       "  0%|          | 0/10 [00:00<?, ?it/s]"
      ]
     },
     "metadata": {},
     "output_type": "display_data"
    },
    {
     "data": {
      "application/vnd.jupyter.widget-view+json": {
       "model_id": "96a5a170e9534447981e1a8dd8c00b5e",
       "version_major": 2,
       "version_minor": 0
      },
      "text/plain": [
       "  0%|          | 0/1 [00:00<?, ?it/s]"
      ]
     },
     "metadata": {},
     "output_type": "display_data"
    },
    {
     "name": "stdout",
     "output_type": "stream",
     "text": [
      "CSPR = 6.00 dB\n",
      "Results:\n",
      "BER: 2.06e-03\n",
      "SNR: 19.55 dB\n",
      "SIR =  18.66  dB\n",
      "GMI: 3.82 bits\n",
      "\n"
     ]
    },
    {
     "data": {
      "application/vnd.jupyter.widget-view+json": {
       "model_id": "ae8767a7090f47f7bb6cd8cd8612b3e0",
       "version_major": 2,
       "version_minor": 0
      },
      "text/plain": [
       "  0%|          | 0/1 [00:00<?, ?it/s]"
      ]
     },
     "metadata": {},
     "output_type": "display_data"
    },
    {
     "name": "stdout",
     "output_type": "stream",
     "text": [
      "CSPR = 7.00 dB\n",
      "Results:\n",
      "BER: 6.63e-04\n",
      "SNR: 21.30 dB\n",
      "SIR =  20.19  dB\n",
      "GMI: 3.93 bits\n",
      "\n"
     ]
    },
    {
     "data": {
      "application/vnd.jupyter.widget-view+json": {
       "model_id": "001cef7d97914b4c9c6200ec1b615e76",
       "version_major": 2,
       "version_minor": 0
      },
      "text/plain": [
       "  0%|          | 0/1 [00:00<?, ?it/s]"
      ]
     },
     "metadata": {},
     "output_type": "display_data"
    },
    {
     "name": "stdout",
     "output_type": "stream",
     "text": [
      "CSPR = 8.00 dB\n",
      "Results:\n",
      "BER: 1.59e-04\n",
      "SNR: 22.77 dB\n",
      "SIR =  21.44  dB\n",
      "GMI: 3.98 bits\n",
      "\n"
     ]
    },
    {
     "data": {
      "application/vnd.jupyter.widget-view+json": {
       "model_id": "cd43d2ed249a416594e9efb0813c378a",
       "version_major": 2,
       "version_minor": 0
      },
      "text/plain": [
       "  0%|          | 0/1 [00:00<?, ?it/s]"
      ]
     },
     "metadata": {},
     "output_type": "display_data"
    },
    {
     "name": "stdout",
     "output_type": "stream",
     "text": [
      "CSPR = 9.00 dB\n",
      "Results:\n",
      "BER: 1.25e-05\n",
      "SNR: 23.26 dB\n",
      "SIR =  21.95  dB\n",
      "GMI: 4.00 bits\n",
      "\n"
     ]
    },
    {
     "data": {
      "application/vnd.jupyter.widget-view+json": {
       "model_id": "84a7e3b6bf03493cb2ebad22b7737c69",
       "version_major": 2,
       "version_minor": 0
      },
      "text/plain": [
       "  0%|          | 0/1 [00:00<?, ?it/s]"
      ]
     },
     "metadata": {},
     "output_type": "display_data"
    },
    {
     "name": "stdout",
     "output_type": "stream",
     "text": [
      "CSPR = 10.00 dB\n",
      "Results:\n",
      "BER: 0.00e+00\n",
      "SNR: 23.70 dB\n",
      "SIR =  22.28  dB\n",
      "GMI: 4.00 bits\n",
      "\n"
     ]
    },
    {
     "data": {
      "application/vnd.jupyter.widget-view+json": {
       "model_id": "73da2955e1f14fdd9e286fdd80fab91f",
       "version_major": 2,
       "version_minor": 0
      },
      "text/plain": [
       "  0%|          | 0/1 [00:00<?, ?it/s]"
      ]
     },
     "metadata": {},
     "output_type": "display_data"
    },
    {
     "name": "stdout",
     "output_type": "stream",
     "text": [
      "CSPR = 11.00 dB\n",
      "Results:\n",
      "BER: 0.00e+00\n",
      "SNR: 23.92 dB\n",
      "SIR =  22.64  dB\n",
      "GMI: 4.00 bits\n",
      "\n"
     ]
    },
    {
     "data": {
      "application/vnd.jupyter.widget-view+json": {
       "model_id": "d715e608df65439b8abbfdf3e1df9ac9",
       "version_major": 2,
       "version_minor": 0
      },
      "text/plain": [
       "  0%|          | 0/1 [00:00<?, ?it/s]"
      ]
     },
     "metadata": {},
     "output_type": "display_data"
    },
    {
     "name": "stdout",
     "output_type": "stream",
     "text": [
      "CSPR = 12.00 dB\n",
      "Results:\n",
      "BER: 0.00e+00\n",
      "SNR: 23.94 dB\n",
      "SIR =  22.69  dB\n",
      "GMI: 4.00 bits\n",
      "\n"
     ]
    },
    {
     "data": {
      "application/vnd.jupyter.widget-view+json": {
       "model_id": "0f419f1a65274875a196565314662086",
       "version_major": 2,
       "version_minor": 0
      },
      "text/plain": [
       "  0%|          | 0/1 [00:00<?, ?it/s]"
      ]
     },
     "metadata": {},
     "output_type": "display_data"
    },
    {
     "name": "stdout",
     "output_type": "stream",
     "text": [
      "CSPR = 13.00 dB\n",
      "Results:\n",
      "BER: 0.00e+00\n",
      "SNR: 24.10 dB\n",
      "SIR =  22.86  dB\n",
      "GMI: 4.00 bits\n",
      "\n"
     ]
    },
    {
     "data": {
      "application/vnd.jupyter.widget-view+json": {
       "model_id": "aae53d4a8cec42eb9b69383e5d7e6aac",
       "version_major": 2,
       "version_minor": 0
      },
      "text/plain": [
       "  0%|          | 0/1 [00:00<?, ?it/s]"
      ]
     },
     "metadata": {},
     "output_type": "display_data"
    },
    {
     "name": "stdout",
     "output_type": "stream",
     "text": [
      "CSPR = 14.00 dB\n",
      "Results:\n",
      "BER: 0.00e+00\n",
      "SNR: 24.15 dB\n",
      "SIR =  22.93  dB\n",
      "GMI: 4.00 bits\n",
      "\n"
     ]
    },
    {
     "data": {
      "application/vnd.jupyter.widget-view+json": {
       "model_id": "9e9b3f6e4ed1418ea0fd149eb56c833f",
       "version_major": 2,
       "version_minor": 0
      },
      "text/plain": [
       "  0%|          | 0/1 [00:00<?, ?it/s]"
      ]
     },
     "metadata": {},
     "output_type": "display_data"
    },
    {
     "name": "stdout",
     "output_type": "stream",
     "text": [
      "CSPR = 15.00 dB\n",
      "Results:\n",
      "BER: 0.00e+00\n",
      "SNR: 24.15 dB\n",
      "SIR =  23.06  dB\n",
      "GMI: 4.00 bits\n",
      "\n"
     ]
    },
    {
     "data": {
      "application/vnd.jupyter.widget-view+json": {
       "model_id": "5867e28f8db24b72a658111d0ac89941",
       "version_major": 2,
       "version_minor": 0
      },
      "text/plain": [
       "  0%|          | 0/10 [00:00<?, ?it/s]"
      ]
     },
     "metadata": {},
     "output_type": "display_data"
    },
    {
     "data": {
      "application/vnd.jupyter.widget-view+json": {
       "model_id": "b5381c8122f043a3bd0f4885cdb4d6b7",
       "version_major": 2,
       "version_minor": 0
      },
      "text/plain": [
       "  0%|          | 0/1 [00:00<?, ?it/s]"
      ]
     },
     "metadata": {},
     "output_type": "display_data"
    },
    {
     "name": "stdout",
     "output_type": "stream",
     "text": [
      "CSPR = 6.00 dB\n",
      "12500/12500 [==============================] - 11s 908us/step\n",
      "Results:\n",
      "BER: 6.53e-03\n",
      "SNR: 15.66 dB\n",
      "SIR =  15.26  dB\n",
      "GMI: 3.83 bits\n",
      "\n"
     ]
    },
    {
     "data": {
      "application/vnd.jupyter.widget-view+json": {
       "model_id": "da9103f529e24dab9dcaedd007c9b0e5",
       "version_major": 2,
       "version_minor": 0
      },
      "text/plain": [
       "  0%|          | 0/1 [00:00<?, ?it/s]"
      ]
     },
     "metadata": {},
     "output_type": "display_data"
    },
    {
     "name": "stdout",
     "output_type": "stream",
     "text": [
      "CSPR = 7.00 dB\n",
      "12500/12500 [==============================] - 12s 915us/step\n",
      "Results:\n",
      "BER: 2.45e-03\n",
      "SNR: 17.39 dB\n",
      "SIR =  16.8  dB\n",
      "GMI: 3.91 bits\n",
      "\n"
     ]
    },
    {
     "data": {
      "application/vnd.jupyter.widget-view+json": {
       "model_id": "ff45deaa1e5c42c7bf4866042b657729",
       "version_major": 2,
       "version_minor": 0
      },
      "text/plain": [
       "  0%|          | 0/1 [00:00<?, ?it/s]"
      ]
     },
     "metadata": {},
     "output_type": "display_data"
    },
    {
     "name": "stdout",
     "output_type": "stream",
     "text": [
      "CSPR = 8.00 dB\n",
      "12500/12500 [==============================] - 12s 918us/step\n",
      "Results:\n",
      "BER: 5.66e-04\n",
      "SNR: 18.75 dB\n",
      "SIR =  17.97  dB\n",
      "GMI: 3.98 bits\n",
      "\n"
     ]
    },
    {
     "data": {
      "application/vnd.jupyter.widget-view+json": {
       "model_id": "dc8aff09f89c4d2e92e1ff97f0e28294",
       "version_major": 2,
       "version_minor": 0
      },
      "text/plain": [
       "  0%|          | 0/1 [00:00<?, ?it/s]"
      ]
     },
     "metadata": {},
     "output_type": "display_data"
    },
    {
     "name": "stdout",
     "output_type": "stream",
     "text": [
      "CSPR = 9.00 dB\n",
      "12500/12500 [==============================] - 11s 911us/step\n",
      "Results:\n",
      "BER: 2.25e-04\n",
      "SNR: 19.44 dB\n",
      "SIR =  18.61  dB\n",
      "GMI: 3.99 bits\n",
      "\n"
     ]
    },
    {
     "data": {
      "application/vnd.jupyter.widget-view+json": {
       "model_id": "885af7b4c065418d94ff0ff692c4a977",
       "version_major": 2,
       "version_minor": 0
      },
      "text/plain": [
       "  0%|          | 0/1 [00:00<?, ?it/s]"
      ]
     },
     "metadata": {},
     "output_type": "display_data"
    },
    {
     "name": "stdout",
     "output_type": "stream",
     "text": [
      "CSPR = 10.00 dB\n",
      "12500/12500 [==============================] - 11s 896us/step\n",
      "Results:\n",
      "BER: 4.37e-05\n",
      "SNR: 19.38 dB\n",
      "SIR =  18.4  dB\n",
      "GMI: 4.00 bits\n",
      "\n"
     ]
    },
    {
     "data": {
      "application/vnd.jupyter.widget-view+json": {
       "model_id": "ddca3993575a4b778fdf75c20210e98b",
       "version_major": 2,
       "version_minor": 0
      },
      "text/plain": [
       "  0%|          | 0/1 [00:00<?, ?it/s]"
      ]
     },
     "metadata": {},
     "output_type": "display_data"
    },
    {
     "name": "stdout",
     "output_type": "stream",
     "text": [
      "CSPR = 11.00 dB\n",
      "12500/12500 [==============================] - 11s 904us/step\n",
      "Results:\n",
      "BER: 6.56e-05\n",
      "SNR: 19.19 dB\n",
      "SIR =  18.12  dB\n",
      "GMI: 4.00 bits\n",
      "\n"
     ]
    },
    {
     "data": {
      "application/vnd.jupyter.widget-view+json": {
       "model_id": "515278fadafa47be857657dda97560fe",
       "version_major": 2,
       "version_minor": 0
      },
      "text/plain": [
       "  0%|          | 0/1 [00:00<?, ?it/s]"
      ]
     },
     "metadata": {},
     "output_type": "display_data"
    },
    {
     "name": "stdout",
     "output_type": "stream",
     "text": [
      "CSPR = 12.00 dB\n",
      "12500/12500 [==============================] - 11s 907us/step\n",
      "Results:\n",
      "BER: 6.88e-05\n",
      "SNR: 18.99 dB\n",
      "SIR =  18.07  dB\n",
      "GMI: 4.00 bits\n",
      "\n"
     ]
    },
    {
     "data": {
      "application/vnd.jupyter.widget-view+json": {
       "model_id": "cb9e78c70cd64a068e8adadd073133b9",
       "version_major": 2,
       "version_minor": 0
      },
      "text/plain": [
       "  0%|          | 0/1 [00:00<?, ?it/s]"
      ]
     },
     "metadata": {},
     "output_type": "display_data"
    },
    {
     "name": "stdout",
     "output_type": "stream",
     "text": [
      "CSPR = 13.00 dB\n",
      "12500/12500 [==============================] - 11s 898us/step\n",
      "Results:\n",
      "BER: 4.69e-05\n",
      "SNR: 18.90 dB\n",
      "SIR =  18.03  dB\n",
      "GMI: 4.00 bits\n",
      "\n"
     ]
    },
    {
     "data": {
      "application/vnd.jupyter.widget-view+json": {
       "model_id": "0561ffa05fba4972a6814edb2c8a0c8d",
       "version_major": 2,
       "version_minor": 0
      },
      "text/plain": [
       "  0%|          | 0/1 [00:00<?, ?it/s]"
      ]
     },
     "metadata": {},
     "output_type": "display_data"
    },
    {
     "name": "stdout",
     "output_type": "stream",
     "text": [
      "CSPR = 14.00 dB\n",
      "12500/12500 [==============================] - 11s 902us/step\n",
      "Results:\n",
      "BER: 4.06e-05\n",
      "SNR: 19.10 dB\n",
      "SIR =  18.2  dB\n",
      "GMI: 4.00 bits\n",
      "\n"
     ]
    },
    {
     "data": {
      "application/vnd.jupyter.widget-view+json": {
       "model_id": "fd8cd2f21b54472a93584a5aa604468c",
       "version_major": 2,
       "version_minor": 0
      },
      "text/plain": [
       "  0%|          | 0/1 [00:00<?, ?it/s]"
      ]
     },
     "metadata": {},
     "output_type": "display_data"
    },
    {
     "name": "stdout",
     "output_type": "stream",
     "text": [
      "CSPR = 15.00 dB\n",
      "12500/12500 [==============================] - 12s 954us/step\n",
      "Results:\n",
      "BER: 6.25e-05\n",
      "SNR: 19.09 dB\n",
      "SIR =  18.05  dB\n",
      "GMI: 4.00 bits\n",
      "\n"
     ]
    },
    {
     "data": {
      "application/vnd.jupyter.widget-view+json": {
       "model_id": "e98b86b334c14edfbae248c271459bfd",
       "version_major": 2,
       "version_minor": 0
      },
      "text/plain": [
       "  0%|          | 0/10 [00:00<?, ?it/s]"
      ]
     },
     "metadata": {},
     "output_type": "display_data"
    },
    {
     "data": {
      "application/vnd.jupyter.widget-view+json": {
       "model_id": "8bb0e68b86114723b88b857a2d437909",
       "version_major": 2,
       "version_minor": 0
      },
      "text/plain": [
       "  0%|          | 0/1 [00:00<?, ?it/s]"
      ]
     },
     "metadata": {},
     "output_type": "display_data"
    },
    {
     "name": "stdout",
     "output_type": "stream",
     "text": [
      "CSPR = 6.00 dB\n",
      "12500/12500 [==============================] - 92s 7ms/step\n",
      "Results:\n",
      "BER: 1.46e-03\n",
      "SNR: 19.70 dB\n",
      "SIR =  18.88  dB\n",
      "GMI: 3.89 bits\n",
      "\n"
     ]
    },
    {
     "data": {
      "application/vnd.jupyter.widget-view+json": {
       "model_id": "ddbece74ee8c4abc9be132c065bdf816",
       "version_major": 2,
       "version_minor": 0
      },
      "text/plain": [
       "  0%|          | 0/1 [00:00<?, ?it/s]"
      ]
     },
     "metadata": {},
     "output_type": "display_data"
    },
    {
     "name": "stdout",
     "output_type": "stream",
     "text": [
      "CSPR = 7.00 dB\n",
      "12500/12500 [==============================] - 91s 7ms/step\n",
      "Results:\n",
      "BER: 3.91e-04\n",
      "SNR: 20.06 dB\n",
      "SIR =  19.19  dB\n",
      "GMI: 3.97 bits\n",
      "\n"
     ]
    },
    {
     "data": {
      "application/vnd.jupyter.widget-view+json": {
       "model_id": "3fcccfa2fe9c4ca5afe7a292a1d61681",
       "version_major": 2,
       "version_minor": 0
      },
      "text/plain": [
       "  0%|          | 0/1 [00:00<?, ?it/s]"
      ]
     },
     "metadata": {},
     "output_type": "display_data"
    },
    {
     "name": "stdout",
     "output_type": "stream",
     "text": [
      "CSPR = 8.00 dB\n",
      "12500/12500 [==============================] - 89s 7ms/step\n",
      "Results:\n",
      "BER: 3.75e-05\n",
      "SNR: 20.38 dB\n",
      "SIR =  19.48  dB\n",
      "GMI: 4.00 bits\n",
      "\n"
     ]
    },
    {
     "data": {
      "application/vnd.jupyter.widget-view+json": {
       "model_id": "887437c72ad94f739dac74429801b61d",
       "version_major": 2,
       "version_minor": 0
      },
      "text/plain": [
       "  0%|          | 0/1 [00:00<?, ?it/s]"
      ]
     },
     "metadata": {},
     "output_type": "display_data"
    },
    {
     "name": "stdout",
     "output_type": "stream",
     "text": [
      "CSPR = 9.00 dB\n",
      "12500/12500 [==============================] - 83s 7ms/step\n",
      "Results:\n",
      "BER: 6.25e-06\n",
      "SNR: 20.67 dB\n",
      "SIR =  19.72  dB\n",
      "GMI: 4.00 bits\n",
      "\n"
     ]
    },
    {
     "data": {
      "application/vnd.jupyter.widget-view+json": {
       "model_id": "636baff7adae4bdba8fd1e80205efae1",
       "version_major": 2,
       "version_minor": 0
      },
      "text/plain": [
       "  0%|          | 0/1 [00:00<?, ?it/s]"
      ]
     },
     "metadata": {},
     "output_type": "display_data"
    },
    {
     "name": "stdout",
     "output_type": "stream",
     "text": [
      "CSPR = 10.00 dB\n",
      "12500/12500 [==============================] - 81s 6ms/step\n",
      "Results:\n",
      "BER: 3.13e-06\n",
      "SNR: 21.01 dB\n",
      "SIR =  19.97  dB\n",
      "GMI: 4.00 bits\n",
      "\n"
     ]
    },
    {
     "data": {
      "application/vnd.jupyter.widget-view+json": {
       "model_id": "5ce3c474a73845bd8a3fc202afd2d934",
       "version_major": 2,
       "version_minor": 0
      },
      "text/plain": [
       "  0%|          | 0/1 [00:00<?, ?it/s]"
      ]
     },
     "metadata": {},
     "output_type": "display_data"
    },
    {
     "name": "stdout",
     "output_type": "stream",
     "text": [
      "CSPR = 11.00 dB\n",
      "12500/12500 [==============================] - 86s 7ms/step\n",
      "Results:\n",
      "BER: 0.00e+00\n",
      "SNR: 21.40 dB\n",
      "SIR =  20.27  dB\n",
      "GMI: 4.00 bits\n",
      "\n"
     ]
    },
    {
     "data": {
      "application/vnd.jupyter.widget-view+json": {
       "model_id": "3080fb2ea05b48c18191038f742a44f9",
       "version_major": 2,
       "version_minor": 0
      },
      "text/plain": [
       "  0%|          | 0/1 [00:00<?, ?it/s]"
      ]
     },
     "metadata": {},
     "output_type": "display_data"
    },
    {
     "name": "stdout",
     "output_type": "stream",
     "text": [
      "CSPR = 12.00 dB\n",
      "12500/12500 [==============================] - 84s 7ms/step\n",
      "Results:\n",
      "BER: 0.00e+00\n",
      "SNR: 21.39 dB\n",
      "SIR =  20.27  dB\n",
      "GMI: 4.00 bits\n",
      "\n"
     ]
    },
    {
     "data": {
      "application/vnd.jupyter.widget-view+json": {
       "model_id": "db40dcc35c06455782a06b7599c3160a",
       "version_major": 2,
       "version_minor": 0
      },
      "text/plain": [
       "  0%|          | 0/1 [00:00<?, ?it/s]"
      ]
     },
     "metadata": {},
     "output_type": "display_data"
    },
    {
     "name": "stdout",
     "output_type": "stream",
     "text": [
      "CSPR = 13.00 dB\n",
      "12500/12500 [==============================] - 84s 7ms/step\n",
      "Results:\n",
      "BER: 0.00e+00\n",
      "SNR: 21.46 dB\n",
      "SIR =  20.14  dB\n",
      "GMI: 4.00 bits\n",
      "\n"
     ]
    },
    {
     "data": {
      "application/vnd.jupyter.widget-view+json": {
       "model_id": "f92f6beb571c4a30a6aa8df0f159ae33",
       "version_major": 2,
       "version_minor": 0
      },
      "text/plain": [
       "  0%|          | 0/1 [00:00<?, ?it/s]"
      ]
     },
     "metadata": {},
     "output_type": "display_data"
    },
    {
     "name": "stdout",
     "output_type": "stream",
     "text": [
      "CSPR = 14.00 dB\n",
      "12500/12500 [==============================] - 84s 7ms/step\n",
      "Results:\n",
      "BER: 0.00e+00\n",
      "SNR: 21.73 dB\n",
      "SIR =  20.46  dB\n",
      "GMI: 4.00 bits\n",
      "\n"
     ]
    },
    {
     "data": {
      "application/vnd.jupyter.widget-view+json": {
       "model_id": "a019b080ff0046548b4ee09fa7e27326",
       "version_major": 2,
       "version_minor": 0
      },
      "text/plain": [
       "  0%|          | 0/1 [00:00<?, ?it/s]"
      ]
     },
     "metadata": {},
     "output_type": "display_data"
    },
    {
     "name": "stdout",
     "output_type": "stream",
     "text": [
      "CSPR = 15.00 dB\n",
      "12500/12500 [==============================] - 83s 7ms/step\n",
      "Results:\n",
      "BER: 0.00e+00\n",
      "SNR: 22.34 dB\n",
      "SIR =  20.84  dB\n",
      "GMI: 4.00 bits\n",
      "\n"
     ]
    },
    {
     "data": {
      "application/vnd.jupyter.widget-view+json": {
       "model_id": "2bb73cd6521046ddb090565d524d38d9",
       "version_major": 2,
       "version_minor": 0
      },
      "text/plain": [
       "  0%|          | 0/10 [00:00<?, ?it/s]"
      ]
     },
     "metadata": {},
     "output_type": "display_data"
    },
    {
     "data": {
      "application/vnd.jupyter.widget-view+json": {
       "model_id": "c247fee8d91944abad327130d984aae0",
       "version_major": 2,
       "version_minor": 0
      },
      "text/plain": [
       "  0%|          | 0/1 [00:00<?, ?it/s]"
      ]
     },
     "metadata": {},
     "output_type": "display_data"
    },
    {
     "name": "stdout",
     "output_type": "stream",
     "text": [
      "CSPR = 6.00 dB\n",
      "Results:\n",
      "BER: 2.72e-03\n",
      "SNR: 19.25 dB\n",
      "SIR =  18.55  dB\n",
      "GMI: 3.82 bits\n",
      "\n"
     ]
    },
    {
     "data": {
      "application/vnd.jupyter.widget-view+json": {
       "model_id": "2110d8c5ebce48c1aae892b0e0320751",
       "version_major": 2,
       "version_minor": 0
      },
      "text/plain": [
       "  0%|          | 0/1 [00:00<?, ?it/s]"
      ]
     },
     "metadata": {},
     "output_type": "display_data"
    },
    {
     "name": "stdout",
     "output_type": "stream",
     "text": [
      "CSPR = 7.00 dB\n",
      "Results:\n",
      "BER: 6.66e-04\n",
      "SNR: 21.28 dB\n",
      "SIR =  20.15  dB\n",
      "GMI: 3.93 bits\n",
      "\n"
     ]
    },
    {
     "data": {
      "application/vnd.jupyter.widget-view+json": {
       "model_id": "556ed37e30cd469e8d9fca22084c6150",
       "version_major": 2,
       "version_minor": 0
      },
      "text/plain": [
       "  0%|          | 0/1 [00:00<?, ?it/s]"
      ]
     },
     "metadata": {},
     "output_type": "display_data"
    },
    {
     "name": "stdout",
     "output_type": "stream",
     "text": [
      "CSPR = 8.00 dB\n",
      "Results:\n",
      "BER: 1.34e-04\n",
      "SNR: 22.66 dB\n",
      "SIR =  21.35  dB\n",
      "GMI: 3.99 bits\n",
      "\n"
     ]
    },
    {
     "data": {
      "application/vnd.jupyter.widget-view+json": {
       "model_id": "54910158a54e4feba449a92ce7f1ea02",
       "version_major": 2,
       "version_minor": 0
      },
      "text/plain": [
       "  0%|          | 0/1 [00:00<?, ?it/s]"
      ]
     },
     "metadata": {},
     "output_type": "display_data"
    },
    {
     "name": "stdout",
     "output_type": "stream",
     "text": [
      "CSPR = 9.00 dB\n",
      "Results:\n",
      "BER: 3.44e-05\n",
      "SNR: 23.25 dB\n",
      "SIR =  21.89  dB\n",
      "GMI: 4.00 bits\n",
      "\n"
     ]
    },
    {
     "data": {
      "application/vnd.jupyter.widget-view+json": {
       "model_id": "b782b6225a3f4407923f19b393b083cd",
       "version_major": 2,
       "version_minor": 0
      },
      "text/plain": [
       "  0%|          | 0/1 [00:00<?, ?it/s]"
      ]
     },
     "metadata": {},
     "output_type": "display_data"
    },
    {
     "name": "stdout",
     "output_type": "stream",
     "text": [
      "CSPR = 10.00 dB\n",
      "Results:\n",
      "BER: 1.87e-05\n",
      "SNR: 23.57 dB\n",
      "SIR =  22.32  dB\n",
      "GMI: 4.00 bits\n",
      "\n"
     ]
    },
    {
     "data": {
      "application/vnd.jupyter.widget-view+json": {
       "model_id": "c242bfb1bb5f4e46927dd1e056447aea",
       "version_major": 2,
       "version_minor": 0
      },
      "text/plain": [
       "  0%|          | 0/1 [00:00<?, ?it/s]"
      ]
     },
     "metadata": {},
     "output_type": "display_data"
    },
    {
     "name": "stdout",
     "output_type": "stream",
     "text": [
      "CSPR = 11.00 dB\n",
      "Results:\n",
      "BER: 0.00e+00\n",
      "SNR: 23.93 dB\n",
      "SIR =  22.6  dB\n",
      "GMI: 4.00 bits\n",
      "\n"
     ]
    },
    {
     "data": {
      "application/vnd.jupyter.widget-view+json": {
       "model_id": "6cd12d9cb75c4db78b894130fb5c2176",
       "version_major": 2,
       "version_minor": 0
      },
      "text/plain": [
       "  0%|          | 0/1 [00:00<?, ?it/s]"
      ]
     },
     "metadata": {},
     "output_type": "display_data"
    },
    {
     "name": "stdout",
     "output_type": "stream",
     "text": [
      "CSPR = 12.00 dB\n",
      "Results:\n",
      "BER: 0.00e+00\n",
      "SNR: 24.10 dB\n",
      "SIR =  22.89  dB\n",
      "GMI: 4.00 bits\n",
      "\n"
     ]
    },
    {
     "data": {
      "application/vnd.jupyter.widget-view+json": {
       "model_id": "4f9b8b900c8c4d1491b67ea7b2289f92",
       "version_major": 2,
       "version_minor": 0
      },
      "text/plain": [
       "  0%|          | 0/1 [00:00<?, ?it/s]"
      ]
     },
     "metadata": {},
     "output_type": "display_data"
    },
    {
     "name": "stdout",
     "output_type": "stream",
     "text": [
      "CSPR = 13.00 dB\n",
      "Results:\n",
      "BER: 0.00e+00\n",
      "SNR: 24.01 dB\n",
      "SIR =  22.8  dB\n",
      "GMI: 4.00 bits\n",
      "\n"
     ]
    },
    {
     "data": {
      "application/vnd.jupyter.widget-view+json": {
       "model_id": "9acf9b0ae1f5442d9e303efa3c5569d0",
       "version_major": 2,
       "version_minor": 0
      },
      "text/plain": [
       "  0%|          | 0/1 [00:00<?, ?it/s]"
      ]
     },
     "metadata": {},
     "output_type": "display_data"
    },
    {
     "name": "stdout",
     "output_type": "stream",
     "text": [
      "CSPR = 14.00 dB\n",
      "Results:\n",
      "BER: 0.00e+00\n",
      "SNR: 23.92 dB\n",
      "SIR =  22.77  dB\n",
      "GMI: 4.00 bits\n",
      "\n"
     ]
    },
    {
     "data": {
      "application/vnd.jupyter.widget-view+json": {
       "model_id": "459ed58f175647daa953114202f4f223",
       "version_major": 2,
       "version_minor": 0
      },
      "text/plain": [
       "  0%|          | 0/1 [00:00<?, ?it/s]"
      ]
     },
     "metadata": {},
     "output_type": "display_data"
    },
    {
     "name": "stdout",
     "output_type": "stream",
     "text": [
      "CSPR = 15.00 dB\n",
      "Results:\n",
      "BER: 0.00e+00\n",
      "SNR: 24.24 dB\n",
      "SIR =  23.0  dB\n",
      "GMI: 4.00 bits\n",
      "\n"
     ]
    },
    {
     "data": {
      "application/vnd.jupyter.widget-view+json": {
       "model_id": "c96b57d56f494d89a779fc19ddd477f9",
       "version_major": 2,
       "version_minor": 0
      },
      "text/plain": [
       "  0%|          | 0/10 [00:00<?, ?it/s]"
      ]
     },
     "metadata": {},
     "output_type": "display_data"
    },
    {
     "data": {
      "application/vnd.jupyter.widget-view+json": {
       "model_id": "43e19b8a26ce4ba69163717b9c277e86",
       "version_major": 2,
       "version_minor": 0
      },
      "text/plain": [
       "  0%|          | 0/1 [00:00<?, ?it/s]"
      ]
     },
     "metadata": {},
     "output_type": "display_data"
    },
    {
     "name": "stdout",
     "output_type": "stream",
     "text": [
      "CSPR = 6.00 dB\n",
      "12500/12500 [==============================] - 12s 950us/step\n",
      "Results:\n",
      "BER: 7.42e-03\n",
      "SNR: 15.50 dB\n",
      "SIR =  15.1  dB\n",
      "GMI: 3.81 bits\n",
      "\n"
     ]
    },
    {
     "data": {
      "application/vnd.jupyter.widget-view+json": {
       "model_id": "a02e68e7137643b4b0362445a3e06a36",
       "version_major": 2,
       "version_minor": 0
      },
      "text/plain": [
       "  0%|          | 0/1 [00:00<?, ?it/s]"
      ]
     },
     "metadata": {},
     "output_type": "display_data"
    },
    {
     "name": "stdout",
     "output_type": "stream",
     "text": [
      "CSPR = 7.00 dB\n",
      "12500/12500 [==============================] - 13s 1ms/step\n",
      "Results:\n",
      "BER: 2.63e-03\n",
      "SNR: 17.30 dB\n",
      "SIR =  16.75  dB\n",
      "GMI: 3.90 bits\n",
      "\n"
     ]
    },
    {
     "data": {
      "application/vnd.jupyter.widget-view+json": {
       "model_id": "9af98d0814e34b8db9f6b2dd15ea20cf",
       "version_major": 2,
       "version_minor": 0
      },
      "text/plain": [
       "  0%|          | 0/1 [00:00<?, ?it/s]"
      ]
     },
     "metadata": {},
     "output_type": "display_data"
    },
    {
     "name": "stdout",
     "output_type": "stream",
     "text": [
      "CSPR = 8.00 dB\n",
      "12500/12500 [==============================] - 12s 928us/step\n",
      "Results:\n",
      "BER: 7.91e-04\n",
      "SNR: 18.67 dB\n",
      "SIR =  17.93  dB\n",
      "GMI: 3.97 bits\n",
      "\n"
     ]
    },
    {
     "data": {
      "application/vnd.jupyter.widget-view+json": {
       "model_id": "caa3d032844e48daa641129c272f5158",
       "version_major": 2,
       "version_minor": 0
      },
      "text/plain": [
       "  0%|          | 0/1 [00:00<?, ?it/s]"
      ]
     },
     "metadata": {},
     "output_type": "display_data"
    },
    {
     "name": "stdout",
     "output_type": "stream",
     "text": [
      "CSPR = 9.00 dB\n",
      "12500/12500 [==============================] - 11s 895us/step\n",
      "Results:\n",
      "BER: 1.62e-04\n",
      "SNR: 19.43 dB\n",
      "SIR =  18.59  dB\n",
      "GMI: 3.99 bits\n",
      "\n"
     ]
    },
    {
     "data": {
      "application/vnd.jupyter.widget-view+json": {
       "model_id": "de6d1ddddbbb410e8c19c04e16d57e5f",
       "version_major": 2,
       "version_minor": 0
      },
      "text/plain": [
       "  0%|          | 0/1 [00:00<?, ?it/s]"
      ]
     },
     "metadata": {},
     "output_type": "display_data"
    },
    {
     "name": "stdout",
     "output_type": "stream",
     "text": [
      "CSPR = 10.00 dB\n",
      "12500/12500 [==============================] - 13s 1ms/step\n",
      "Results:\n",
      "BER: 6.88e-05\n",
      "SNR: 19.44 dB\n",
      "SIR =  18.4  dB\n",
      "GMI: 4.00 bits\n",
      "\n"
     ]
    },
    {
     "data": {
      "application/vnd.jupyter.widget-view+json": {
       "model_id": "4e933f9acd444cfa852088de8a9b796a",
       "version_major": 2,
       "version_minor": 0
      },
      "text/plain": [
       "  0%|          | 0/1 [00:00<?, ?it/s]"
      ]
     },
     "metadata": {},
     "output_type": "display_data"
    },
    {
     "name": "stdout",
     "output_type": "stream",
     "text": [
      "CSPR = 11.00 dB\n",
      "12500/12500 [==============================] - 11s 909us/step\n",
      "Results:\n",
      "BER: 8.12e-05\n",
      "SNR: 19.10 dB\n",
      "SIR =  18.09  dB\n",
      "GMI: 4.00 bits\n",
      "\n"
     ]
    },
    {
     "data": {
      "application/vnd.jupyter.widget-view+json": {
       "model_id": "be932afed8764010aa6b57a96e7e1d9d",
       "version_major": 2,
       "version_minor": 0
      },
      "text/plain": [
       "  0%|          | 0/1 [00:00<?, ?it/s]"
      ]
     },
     "metadata": {},
     "output_type": "display_data"
    },
    {
     "name": "stdout",
     "output_type": "stream",
     "text": [
      "CSPR = 12.00 dB\n",
      "12500/12500 [==============================] - 12s 914us/step\n",
      "Results:\n",
      "BER: 5.31e-05\n",
      "SNR: 19.08 dB\n",
      "SIR =  18.16  dB\n",
      "GMI: 4.00 bits\n",
      "\n"
     ]
    },
    {
     "data": {
      "application/vnd.jupyter.widget-view+json": {
       "model_id": "f41e6730d0ce499d875ab68107647f2b",
       "version_major": 2,
       "version_minor": 0
      },
      "text/plain": [
       "  0%|          | 0/1 [00:00<?, ?it/s]"
      ]
     },
     "metadata": {},
     "output_type": "display_data"
    },
    {
     "name": "stdout",
     "output_type": "stream",
     "text": [
      "CSPR = 13.00 dB\n",
      "12500/12500 [==============================] - 11s 904us/step\n",
      "Results:\n",
      "BER: 5.00e-05\n",
      "SNR: 18.98 dB\n",
      "SIR =  18.08  dB\n",
      "GMI: 4.00 bits\n",
      "\n"
     ]
    },
    {
     "data": {
      "application/vnd.jupyter.widget-view+json": {
       "model_id": "675af19d8b6f441b8f466283a1f86cc6",
       "version_major": 2,
       "version_minor": 0
      },
      "text/plain": [
       "  0%|          | 0/1 [00:00<?, ?it/s]"
      ]
     },
     "metadata": {},
     "output_type": "display_data"
    },
    {
     "name": "stdout",
     "output_type": "stream",
     "text": [
      "CSPR = 14.00 dB\n",
      "12500/12500 [==============================] - 11s 893us/step\n",
      "Results:\n",
      "BER: 4.37e-05\n",
      "SNR: 19.08 dB\n",
      "SIR =  18.17  dB\n",
      "GMI: 4.00 bits\n",
      "\n"
     ]
    },
    {
     "data": {
      "application/vnd.jupyter.widget-view+json": {
       "model_id": "4e8052d323d9465fad78e3d05d01f89f",
       "version_major": 2,
       "version_minor": 0
      },
      "text/plain": [
       "  0%|          | 0/1 [00:00<?, ?it/s]"
      ]
     },
     "metadata": {},
     "output_type": "display_data"
    },
    {
     "name": "stdout",
     "output_type": "stream",
     "text": [
      "CSPR = 15.00 dB\n",
      "12500/12500 [==============================] - 11s 895us/step\n",
      "Results:\n",
      "BER: 8.75e-05\n",
      "SNR: 19.12 dB\n",
      "SIR =  18.15  dB\n",
      "GMI: 4.00 bits\n",
      "\n"
     ]
    },
    {
     "data": {
      "application/vnd.jupyter.widget-view+json": {
       "model_id": "5a664869c99b48868857c3ed9b02d774",
       "version_major": 2,
       "version_minor": 0
      },
      "text/plain": [
       "  0%|          | 0/10 [00:00<?, ?it/s]"
      ]
     },
     "metadata": {},
     "output_type": "display_data"
    },
    {
     "data": {
      "application/vnd.jupyter.widget-view+json": {
       "model_id": "d9a742f074134e8ea65595cc79f3c9b8",
       "version_major": 2,
       "version_minor": 0
      },
      "text/plain": [
       "  0%|          | 0/1 [00:00<?, ?it/s]"
      ]
     },
     "metadata": {},
     "output_type": "display_data"
    },
    {
     "name": "stdout",
     "output_type": "stream",
     "text": [
      "CSPR = 6.00 dB\n",
      "12500/12500 [==============================] - 93s 7ms/step\n",
      "Results:\n",
      "BER: 1.48e-03\n",
      "SNR: 19.67 dB\n",
      "SIR =  18.86  dB\n",
      "GMI: 3.88 bits\n",
      "\n"
     ]
    },
    {
     "data": {
      "application/vnd.jupyter.widget-view+json": {
       "model_id": "f9d747713168457890b7ceed93e7b636",
       "version_major": 2,
       "version_minor": 0
      },
      "text/plain": [
       "  0%|          | 0/1 [00:00<?, ?it/s]"
      ]
     },
     "metadata": {},
     "output_type": "display_data"
    },
    {
     "name": "stdout",
     "output_type": "stream",
     "text": [
      "CSPR = 7.00 dB\n",
      "12500/12500 [==============================] - 91s 7ms/step\n",
      "Results:\n",
      "BER: 3.81e-04\n",
      "SNR: 20.17 dB\n",
      "SIR =  19.3  dB\n",
      "GMI: 3.97 bits\n",
      "\n"
     ]
    },
    {
     "data": {
      "application/vnd.jupyter.widget-view+json": {
       "model_id": "0dde3c0ff65e4dc9ae6abfd68ad35f0a",
       "version_major": 2,
       "version_minor": 0
      },
      "text/plain": [
       "  0%|          | 0/1 [00:00<?, ?it/s]"
      ]
     },
     "metadata": {},
     "output_type": "display_data"
    },
    {
     "name": "stdout",
     "output_type": "stream",
     "text": [
      "CSPR = 8.00 dB\n",
      "12500/12500 [==============================] - 808s 65ms/step\n",
      "Results:\n",
      "BER: 7.81e-05\n",
      "SNR: 20.25 dB\n",
      "SIR =  19.28  dB\n",
      "GMI: 4.00 bits\n",
      "\n"
     ]
    },
    {
     "data": {
      "application/vnd.jupyter.widget-view+json": {
       "model_id": "bb00d32b23444c76ab7ae6013f979542",
       "version_major": 2,
       "version_minor": 0
      },
      "text/plain": [
       "  0%|          | 0/1 [00:00<?, ?it/s]"
      ]
     },
     "metadata": {},
     "output_type": "display_data"
    },
    {
     "name": "stdout",
     "output_type": "stream",
     "text": [
      "CSPR = 9.00 dB\n",
      "12500/12500 [==============================] - 82s 7ms/step\n",
      "Results:\n",
      "BER: 9.37e-06\n",
      "SNR: 20.69 dB\n",
      "SIR =  19.67  dB\n",
      "GMI: 4.00 bits\n",
      "\n"
     ]
    },
    {
     "data": {
      "application/vnd.jupyter.widget-view+json": {
       "model_id": "e156696aa0be4f2f9e47ca9efb4c8da9",
       "version_major": 2,
       "version_minor": 0
      },
      "text/plain": [
       "  0%|          | 0/1 [00:00<?, ?it/s]"
      ]
     },
     "metadata": {},
     "output_type": "display_data"
    },
    {
     "name": "stdout",
     "output_type": "stream",
     "text": [
      "CSPR = 10.00 dB\n",
      "12500/12500 [==============================] - 87s 7ms/step\n",
      "Results:\n",
      "BER: 6.25e-06\n",
      "SNR: 21.03 dB\n",
      "SIR =  20.02  dB\n",
      "GMI: 4.00 bits\n",
      "\n"
     ]
    },
    {
     "data": {
      "application/vnd.jupyter.widget-view+json": {
       "model_id": "6184fde9410841329f92abe16a77de4a",
       "version_major": 2,
       "version_minor": 0
      },
      "text/plain": [
       "  0%|          | 0/1 [00:00<?, ?it/s]"
      ]
     },
     "metadata": {},
     "output_type": "display_data"
    },
    {
     "name": "stdout",
     "output_type": "stream",
     "text": [
      "CSPR = 11.00 dB\n",
      "12500/12500 [==============================] - 89s 7ms/step\n",
      "Results:\n",
      "BER: 3.13e-06\n",
      "SNR: 21.16 dB\n",
      "SIR =  20.1  dB\n",
      "GMI: 4.00 bits\n",
      "\n"
     ]
    },
    {
     "data": {
      "application/vnd.jupyter.widget-view+json": {
       "model_id": "46879f52aa804bdc9ed455b2ba6b97a7",
       "version_major": 2,
       "version_minor": 0
      },
      "text/plain": [
       "  0%|          | 0/1 [00:00<?, ?it/s]"
      ]
     },
     "metadata": {},
     "output_type": "display_data"
    },
    {
     "name": "stdout",
     "output_type": "stream",
     "text": [
      "CSPR = 12.00 dB\n",
      "12500/12500 [==============================] - 85s 7ms/step\n",
      "Results:\n",
      "BER: 0.00e+00\n",
      "SNR: 21.40 dB\n",
      "SIR =  20.21  dB\n",
      "GMI: 4.00 bits\n",
      "\n"
     ]
    },
    {
     "data": {
      "application/vnd.jupyter.widget-view+json": {
       "model_id": "955c61702bad48ee82a1215eb364c811",
       "version_major": 2,
       "version_minor": 0
      },
      "text/plain": [
       "  0%|          | 0/1 [00:00<?, ?it/s]"
      ]
     },
     "metadata": {},
     "output_type": "display_data"
    },
    {
     "name": "stdout",
     "output_type": "stream",
     "text": [
      "CSPR = 13.00 dB\n",
      "12500/12500 [==============================] - 86s 7ms/step\n",
      "Results:\n",
      "BER: 0.00e+00\n",
      "SNR: 21.52 dB\n",
      "SIR =  20.34  dB\n",
      "GMI: 4.00 bits\n",
      "\n"
     ]
    },
    {
     "data": {
      "application/vnd.jupyter.widget-view+json": {
       "model_id": "bd7996c706134b1396702edcc1e2a2ca",
       "version_major": 2,
       "version_minor": 0
      },
      "text/plain": [
       "  0%|          | 0/1 [00:00<?, ?it/s]"
      ]
     },
     "metadata": {},
     "output_type": "display_data"
    },
    {
     "name": "stdout",
     "output_type": "stream",
     "text": [
      "CSPR = 14.00 dB\n",
      "12500/12500 [==============================] - 86s 7ms/step\n",
      "Results:\n",
      "BER: 0.00e+00\n",
      "SNR: 21.68 dB\n",
      "SIR =  20.37  dB\n",
      "GMI: 4.00 bits\n",
      "\n"
     ]
    },
    {
     "data": {
      "application/vnd.jupyter.widget-view+json": {
       "model_id": "94fa9ac01cdf401aaa02659c05ee1ced",
       "version_major": 2,
       "version_minor": 0
      },
      "text/plain": [
       "  0%|          | 0/1 [00:00<?, ?it/s]"
      ]
     },
     "metadata": {},
     "output_type": "display_data"
    },
    {
     "name": "stdout",
     "output_type": "stream",
     "text": [
      "CSPR = 15.00 dB\n",
      "12500/12500 [==============================] - 85s 7ms/step\n",
      "Results:\n",
      "BER: 0.00e+00\n",
      "SNR: 22.34 dB\n",
      "SIR =  20.81  dB\n",
      "GMI: 4.00 bits\n",
      "\n"
     ]
    },
    {
     "data": {
      "application/vnd.jupyter.widget-view+json": {
       "model_id": "c0f813d8251f43f38b1aef71356b921e",
       "version_major": 2,
       "version_minor": 0
      },
      "text/plain": [
       "  0%|          | 0/10 [00:00<?, ?it/s]"
      ]
     },
     "metadata": {},
     "output_type": "display_data"
    },
    {
     "data": {
      "application/vnd.jupyter.widget-view+json": {
       "model_id": "e6be2dfa76bf478781c35e9074a03c9f",
       "version_major": 2,
       "version_minor": 0
      },
      "text/plain": [
       "  0%|          | 0/1 [00:00<?, ?it/s]"
      ]
     },
     "metadata": {},
     "output_type": "display_data"
    },
    {
     "name": "stdout",
     "output_type": "stream",
     "text": [
      "CSPR = 6.00 dB\n",
      "Results:\n",
      "BER: 2.38e-03\n",
      "SNR: 19.45 dB\n",
      "SIR =  18.58  dB\n",
      "GMI: 3.83 bits\n",
      "\n"
     ]
    },
    {
     "data": {
      "application/vnd.jupyter.widget-view+json": {
       "model_id": "87c1e47c308949a0b0deaf7813ecef28",
       "version_major": 2,
       "version_minor": 0
      },
      "text/plain": [
       "  0%|          | 0/1 [00:00<?, ?it/s]"
      ]
     },
     "metadata": {},
     "output_type": "display_data"
    },
    {
     "name": "stdout",
     "output_type": "stream",
     "text": [
      "CSPR = 7.00 dB\n",
      "Results:\n",
      "BER: 7.66e-04\n",
      "SNR: 21.33 dB\n",
      "SIR =  20.19  dB\n",
      "GMI: 3.93 bits\n",
      "\n"
     ]
    },
    {
     "data": {
      "application/vnd.jupyter.widget-view+json": {
       "model_id": "d4dcfd2d37174e0298e2c1d9e3836831",
       "version_major": 2,
       "version_minor": 0
      },
      "text/plain": [
       "  0%|          | 0/1 [00:00<?, ?it/s]"
      ]
     },
     "metadata": {},
     "output_type": "display_data"
    },
    {
     "name": "stdout",
     "output_type": "stream",
     "text": [
      "CSPR = 8.00 dB\n",
      "Results:\n",
      "BER: 1.16e-04\n",
      "SNR: 22.66 dB\n",
      "SIR =  21.37  dB\n",
      "GMI: 3.99 bits\n",
      "\n"
     ]
    },
    {
     "data": {
      "application/vnd.jupyter.widget-view+json": {
       "model_id": "a9d2c4fefe7040e29a6e3f87bfcae5bd",
       "version_major": 2,
       "version_minor": 0
      },
      "text/plain": [
       "  0%|          | 0/1 [00:00<?, ?it/s]"
      ]
     },
     "metadata": {},
     "output_type": "display_data"
    },
    {
     "name": "stdout",
     "output_type": "stream",
     "text": [
      "CSPR = 9.00 dB\n",
      "Results:\n",
      "BER: 1.56e-05\n",
      "SNR: 23.35 dB\n",
      "SIR =  21.96  dB\n",
      "GMI: 4.00 bits\n",
      "\n"
     ]
    },
    {
     "data": {
      "application/vnd.jupyter.widget-view+json": {
       "model_id": "130566fa55cd40c8ace41816f272320b",
       "version_major": 2,
       "version_minor": 0
      },
      "text/plain": [
       "  0%|          | 0/1 [00:00<?, ?it/s]"
      ]
     },
     "metadata": {},
     "output_type": "display_data"
    },
    {
     "name": "stdout",
     "output_type": "stream",
     "text": [
      "CSPR = 10.00 dB\n",
      "Results:\n",
      "BER: 0.00e+00\n",
      "SNR: 23.61 dB\n",
      "SIR =  22.18  dB\n",
      "GMI: 4.00 bits\n",
      "\n"
     ]
    },
    {
     "data": {
      "application/vnd.jupyter.widget-view+json": {
       "model_id": "0529fadaeeb94b31ab340ebe98ee526a",
       "version_major": 2,
       "version_minor": 0
      },
      "text/plain": [
       "  0%|          | 0/1 [00:00<?, ?it/s]"
      ]
     },
     "metadata": {},
     "output_type": "display_data"
    },
    {
     "name": "stdout",
     "output_type": "stream",
     "text": [
      "CSPR = 11.00 dB\n",
      "Results:\n",
      "BER: 0.00e+00\n",
      "SNR: 23.83 dB\n",
      "SIR =  22.57  dB\n",
      "GMI: 4.00 bits\n",
      "\n"
     ]
    },
    {
     "data": {
      "application/vnd.jupyter.widget-view+json": {
       "model_id": "4059a882fc784bf6b3021b1916381ffc",
       "version_major": 2,
       "version_minor": 0
      },
      "text/plain": [
       "  0%|          | 0/1 [00:00<?, ?it/s]"
      ]
     },
     "metadata": {},
     "output_type": "display_data"
    },
    {
     "name": "stdout",
     "output_type": "stream",
     "text": [
      "CSPR = 12.00 dB\n",
      "Results:\n",
      "BER: 0.00e+00\n",
      "SNR: 23.97 dB\n",
      "SIR =  22.54  dB\n",
      "GMI: 4.00 bits\n",
      "\n"
     ]
    },
    {
     "data": {
      "application/vnd.jupyter.widget-view+json": {
       "model_id": "ea270c78bcd64c6e964af7ed83a7af33",
       "version_major": 2,
       "version_minor": 0
      },
      "text/plain": [
       "  0%|          | 0/1 [00:00<?, ?it/s]"
      ]
     },
     "metadata": {},
     "output_type": "display_data"
    },
    {
     "name": "stdout",
     "output_type": "stream",
     "text": [
      "CSPR = 13.00 dB\n",
      "Results:\n",
      "BER: 0.00e+00\n",
      "SNR: 24.01 dB\n",
      "SIR =  22.79  dB\n",
      "GMI: 4.00 bits\n",
      "\n"
     ]
    },
    {
     "data": {
      "application/vnd.jupyter.widget-view+json": {
       "model_id": "b231d53ae57e440cb7afff3042d8df98",
       "version_major": 2,
       "version_minor": 0
      },
      "text/plain": [
       "  0%|          | 0/1 [00:00<?, ?it/s]"
      ]
     },
     "metadata": {},
     "output_type": "display_data"
    },
    {
     "name": "stdout",
     "output_type": "stream",
     "text": [
      "CSPR = 14.00 dB\n",
      "Results:\n",
      "BER: 0.00e+00\n",
      "SNR: 23.95 dB\n",
      "SIR =  22.72  dB\n",
      "GMI: 4.00 bits\n",
      "\n"
     ]
    },
    {
     "data": {
      "application/vnd.jupyter.widget-view+json": {
       "model_id": "db95398eb98a4d2aa3ff92b2354cb4ce",
       "version_major": 2,
       "version_minor": 0
      },
      "text/plain": [
       "  0%|          | 0/1 [00:00<?, ?it/s]"
      ]
     },
     "metadata": {},
     "output_type": "display_data"
    },
    {
     "name": "stdout",
     "output_type": "stream",
     "text": [
      "CSPR = 15.00 dB\n",
      "Results:\n",
      "BER: 0.00e+00\n",
      "SNR: 23.99 dB\n",
      "SIR =  22.64  dB\n",
      "GMI: 4.00 bits\n",
      "\n"
     ]
    },
    {
     "data": {
      "application/vnd.jupyter.widget-view+json": {
       "model_id": "0eb5809e60384111b87b6047a49b5145",
       "version_major": 2,
       "version_minor": 0
      },
      "text/plain": [
       "  0%|          | 0/10 [00:00<?, ?it/s]"
      ]
     },
     "metadata": {},
     "output_type": "display_data"
    },
    {
     "data": {
      "application/vnd.jupyter.widget-view+json": {
       "model_id": "ec3d5946f1d046efbf370f2a1d1fe403",
       "version_major": 2,
       "version_minor": 0
      },
      "text/plain": [
       "  0%|          | 0/1 [00:00<?, ?it/s]"
      ]
     },
     "metadata": {},
     "output_type": "display_data"
    },
    {
     "name": "stdout",
     "output_type": "stream",
     "text": [
      "CSPR = 6.00 dB\n",
      "12500/12500 [==============================] - 11s 865us/step\n",
      "Results:\n",
      "BER: 6.85e-03\n",
      "SNR: 15.58 dB\n",
      "SIR =  15.19  dB\n",
      "GMI: 3.81 bits\n",
      "\n"
     ]
    },
    {
     "data": {
      "application/vnd.jupyter.widget-view+json": {
       "model_id": "9b7bc53c67e74af68fbe3280c06288db",
       "version_major": 2,
       "version_minor": 0
      },
      "text/plain": [
       "  0%|          | 0/1 [00:00<?, ?it/s]"
      ]
     },
     "metadata": {},
     "output_type": "display_data"
    },
    {
     "name": "stdout",
     "output_type": "stream",
     "text": [
      "CSPR = 7.00 dB\n",
      "12500/12500 [==============================] - 11s 850us/step\n",
      "Results:\n",
      "BER: 2.45e-03\n",
      "SNR: 17.33 dB\n",
      "SIR =  16.75  dB\n",
      "GMI: 3.92 bits\n",
      "\n"
     ]
    },
    {
     "data": {
      "application/vnd.jupyter.widget-view+json": {
       "model_id": "fb6d869c650c48adb7a8a00ab2a8e922",
       "version_major": 2,
       "version_minor": 0
      },
      "text/plain": [
       "  0%|          | 0/1 [00:00<?, ?it/s]"
      ]
     },
     "metadata": {},
     "output_type": "display_data"
    },
    {
     "name": "stdout",
     "output_type": "stream",
     "text": [
      "CSPR = 8.00 dB\n",
      "12500/12500 [==============================] - 11s 839us/step\n",
      "Results:\n",
      "BER: 5.91e-04\n",
      "SNR: 18.81 dB\n",
      "SIR =  18.01  dB\n",
      "GMI: 3.98 bits\n",
      "\n"
     ]
    },
    {
     "data": {
      "application/vnd.jupyter.widget-view+json": {
       "model_id": "1a9b23ff44e045dab7facc1d37e2002f",
       "version_major": 2,
       "version_minor": 0
      },
      "text/plain": [
       "  0%|          | 0/1 [00:00<?, ?it/s]"
      ]
     },
     "metadata": {},
     "output_type": "display_data"
    },
    {
     "name": "stdout",
     "output_type": "stream",
     "text": [
      "CSPR = 9.00 dB\n",
      "12500/12500 [==============================] - 10s 810us/step\n",
      "Results:\n",
      "BER: 1.88e-04\n",
      "SNR: 19.43 dB\n",
      "SIR =  18.64  dB\n",
      "GMI: 3.99 bits\n",
      "\n"
     ]
    },
    {
     "data": {
      "application/vnd.jupyter.widget-view+json": {
       "model_id": "9e5e9655fb6c45beaa8f043c465fd2a5",
       "version_major": 2,
       "version_minor": 0
      },
      "text/plain": [
       "  0%|          | 0/1 [00:00<?, ?it/s]"
      ]
     },
     "metadata": {},
     "output_type": "display_data"
    },
    {
     "name": "stdout",
     "output_type": "stream",
     "text": [
      "CSPR = 10.00 dB\n",
      "12500/12500 [==============================] - 11s 856us/step\n",
      "Results:\n",
      "BER: 5.94e-05\n",
      "SNR: 19.38 dB\n",
      "SIR =  18.38  dB\n",
      "GMI: 4.00 bits\n",
      "\n"
     ]
    },
    {
     "data": {
      "application/vnd.jupyter.widget-view+json": {
       "model_id": "5c1bfe9b1d884777976e4e93325eca2f",
       "version_major": 2,
       "version_minor": 0
      },
      "text/plain": [
       "  0%|          | 0/1 [00:00<?, ?it/s]"
      ]
     },
     "metadata": {},
     "output_type": "display_data"
    },
    {
     "name": "stdout",
     "output_type": "stream",
     "text": [
      "CSPR = 11.00 dB\n",
      "12500/12500 [==============================] - 10s 826us/step\n",
      "Results:\n",
      "BER: 5.31e-05\n",
      "SNR: 19.05 dB\n",
      "SIR =  17.99  dB\n",
      "GMI: 4.00 bits\n",
      "\n"
     ]
    },
    {
     "data": {
      "application/vnd.jupyter.widget-view+json": {
       "model_id": "a83c0522df6641c593ab7e5818299c00",
       "version_major": 2,
       "version_minor": 0
      },
      "text/plain": [
       "  0%|          | 0/1 [00:00<?, ?it/s]"
      ]
     },
     "metadata": {},
     "output_type": "display_data"
    },
    {
     "name": "stdout",
     "output_type": "stream",
     "text": [
      "CSPR = 12.00 dB\n",
      "12500/12500 [==============================] - 10s 819us/step\n",
      "Results:\n",
      "BER: 4.37e-05\n",
      "SNR: 19.01 dB\n",
      "SIR =  18.13  dB\n",
      "GMI: 4.00 bits\n",
      "\n"
     ]
    },
    {
     "data": {
      "application/vnd.jupyter.widget-view+json": {
       "model_id": "16987d13ae5649e3baa144e91938d213",
       "version_major": 2,
       "version_minor": 0
      },
      "text/plain": [
       "  0%|          | 0/1 [00:00<?, ?it/s]"
      ]
     },
     "metadata": {},
     "output_type": "display_data"
    },
    {
     "name": "stdout",
     "output_type": "stream",
     "text": [
      "CSPR = 13.00 dB\n",
      "12500/12500 [==============================] - 10s 830us/step\n",
      "Results:\n",
      "BER: 4.37e-05\n",
      "SNR: 18.93 dB\n",
      "SIR =  18.06  dB\n",
      "GMI: 4.00 bits\n",
      "\n"
     ]
    },
    {
     "data": {
      "application/vnd.jupyter.widget-view+json": {
       "model_id": "9076b2bb1b8a41ef9d32150ac2f29f2b",
       "version_major": 2,
       "version_minor": 0
      },
      "text/plain": [
       "  0%|          | 0/1 [00:00<?, ?it/s]"
      ]
     },
     "metadata": {},
     "output_type": "display_data"
    },
    {
     "name": "stdout",
     "output_type": "stream",
     "text": [
      "CSPR = 14.00 dB\n",
      "12500/12500 [==============================] - 12s 933us/step\n",
      "Results:\n",
      "BER: 5.31e-05\n",
      "SNR: 18.98 dB\n",
      "SIR =  18.09  dB\n",
      "GMI: 4.00 bits\n",
      "\n"
     ]
    },
    {
     "data": {
      "application/vnd.jupyter.widget-view+json": {
       "model_id": "7401799584544744b5bb09f12e23a513",
       "version_major": 2,
       "version_minor": 0
      },
      "text/plain": [
       "  0%|          | 0/1 [00:00<?, ?it/s]"
      ]
     },
     "metadata": {},
     "output_type": "display_data"
    },
    {
     "name": "stdout",
     "output_type": "stream",
     "text": [
      "CSPR = 15.00 dB\n",
      "12500/12500 [==============================] - 14s 1ms/step\n",
      "Results:\n",
      "BER: 4.06e-05\n",
      "SNR: 19.29 dB\n",
      "SIR =  18.26  dB\n",
      "GMI: 4.00 bits\n",
      "\n"
     ]
    },
    {
     "data": {
      "application/vnd.jupyter.widget-view+json": {
       "model_id": "a6cc5f2b5d4d4777aa1beeeb5b3a448c",
       "version_major": 2,
       "version_minor": 0
      },
      "text/plain": [
       "  0%|          | 0/10 [00:00<?, ?it/s]"
      ]
     },
     "metadata": {},
     "output_type": "display_data"
    },
    {
     "data": {
      "application/vnd.jupyter.widget-view+json": {
       "model_id": "5d43c796c3d84ef89cad0e3fe9cf38bb",
       "version_major": 2,
       "version_minor": 0
      },
      "text/plain": [
       "  0%|          | 0/1 [00:00<?, ?it/s]"
      ]
     },
     "metadata": {},
     "output_type": "display_data"
    },
    {
     "name": "stdout",
     "output_type": "stream",
     "text": [
      "CSPR = 6.00 dB\n",
      "12500/12500 [==============================] - 99s 8ms/step\n",
      "Results:\n",
      "BER: 1.24e-03\n",
      "SNR: 19.86 dB\n",
      "SIR =  19.0  dB\n",
      "GMI: 3.91 bits\n",
      "\n"
     ]
    },
    {
     "data": {
      "application/vnd.jupyter.widget-view+json": {
       "model_id": "6f5d6e96ab994d42a8d0ae84ba717640",
       "version_major": 2,
       "version_minor": 0
      },
      "text/plain": [
       "  0%|          | 0/1 [00:00<?, ?it/s]"
      ]
     },
     "metadata": {},
     "output_type": "display_data"
    },
    {
     "name": "stdout",
     "output_type": "stream",
     "text": [
      "CSPR = 7.00 dB\n",
      "12500/12500 [==============================] - 95s 8ms/step\n",
      "Results:\n",
      "BER: 4.47e-04\n",
      "SNR: 20.16 dB\n",
      "SIR =  19.28  dB\n",
      "GMI: 3.96 bits\n",
      "\n"
     ]
    },
    {
     "data": {
      "application/vnd.jupyter.widget-view+json": {
       "model_id": "7eaddc2859ae45cf93acd6e014c695e2",
       "version_major": 2,
       "version_minor": 0
      },
      "text/plain": [
       "  0%|          | 0/1 [00:00<?, ?it/s]"
      ]
     },
     "metadata": {},
     "output_type": "display_data"
    },
    {
     "name": "stdout",
     "output_type": "stream",
     "text": [
      "CSPR = 8.00 dB\n",
      "12500/12500 [==============================] - 90s 7ms/step\n",
      "Results:\n",
      "BER: 5.31e-05\n",
      "SNR: 20.33 dB\n",
      "SIR =  19.44  dB\n",
      "GMI: 4.00 bits\n",
      "\n"
     ]
    },
    {
     "data": {
      "application/vnd.jupyter.widget-view+json": {
       "model_id": "f005a0d8c3994a0a9c1186aa87c6dd38",
       "version_major": 2,
       "version_minor": 0
      },
      "text/plain": [
       "  0%|          | 0/1 [00:00<?, ?it/s]"
      ]
     },
     "metadata": {},
     "output_type": "display_data"
    },
    {
     "name": "stdout",
     "output_type": "stream",
     "text": [
      "CSPR = 9.00 dB\n",
      "12500/12500 [==============================] - 89s 7ms/step\n",
      "Results:\n",
      "BER: 3.13e-06\n",
      "SNR: 20.61 dB\n",
      "SIR =  19.65  dB\n",
      "GMI: 4.00 bits\n",
      "\n"
     ]
    },
    {
     "data": {
      "application/vnd.jupyter.widget-view+json": {
       "model_id": "4d1b01b6a21a40219d8aa812db875767",
       "version_major": 2,
       "version_minor": 0
      },
      "text/plain": [
       "  0%|          | 0/1 [00:00<?, ?it/s]"
      ]
     },
     "metadata": {},
     "output_type": "display_data"
    },
    {
     "name": "stdout",
     "output_type": "stream",
     "text": [
      "CSPR = 10.00 dB\n",
      "12500/12500 [==============================] - 87s 7ms/step\n",
      "Results:\n",
      "BER: 0.00e+00\n",
      "SNR: 21.09 dB\n",
      "SIR =  20.06  dB\n",
      "GMI: 4.00 bits\n",
      "\n"
     ]
    },
    {
     "data": {
      "application/vnd.jupyter.widget-view+json": {
       "model_id": "385b6ea527124b03b08f47540cb9ba95",
       "version_major": 2,
       "version_minor": 0
      },
      "text/plain": [
       "  0%|          | 0/1 [00:00<?, ?it/s]"
      ]
     },
     "metadata": {},
     "output_type": "display_data"
    },
    {
     "name": "stdout",
     "output_type": "stream",
     "text": [
      "CSPR = 11.00 dB\n",
      "12500/12500 [==============================] - 86s 7ms/step\n",
      "Results:\n",
      "BER: 3.13e-06\n",
      "SNR: 21.24 dB\n",
      "SIR =  20.1  dB\n",
      "GMI: 4.00 bits\n",
      "\n"
     ]
    },
    {
     "data": {
      "application/vnd.jupyter.widget-view+json": {
       "model_id": "33ef2ac8a578459da060e7d470507f08",
       "version_major": 2,
       "version_minor": 0
      },
      "text/plain": [
       "  0%|          | 0/1 [00:00<?, ?it/s]"
      ]
     },
     "metadata": {},
     "output_type": "display_data"
    },
    {
     "name": "stdout",
     "output_type": "stream",
     "text": [
      "CSPR = 12.00 dB\n",
      "12500/12500 [==============================] - 87s 7ms/step\n",
      "Results:\n",
      "BER: 6.25e-06\n",
      "SNR: 21.37 dB\n",
      "SIR =  20.16  dB\n",
      "GMI: 4.00 bits\n",
      "\n"
     ]
    },
    {
     "data": {
      "application/vnd.jupyter.widget-view+json": {
       "model_id": "4cd2c1d693dd4e168463058de2795015",
       "version_major": 2,
       "version_minor": 0
      },
      "text/plain": [
       "  0%|          | 0/1 [00:00<?, ?it/s]"
      ]
     },
     "metadata": {},
     "output_type": "display_data"
    },
    {
     "name": "stdout",
     "output_type": "stream",
     "text": [
      "CSPR = 13.00 dB\n",
      "12500/12500 [==============================] - 88s 7ms/step\n",
      "Results:\n",
      "BER: 0.00e+00\n",
      "SNR: 21.50 dB\n",
      "SIR =  20.31  dB\n",
      "GMI: 4.00 bits\n",
      "\n"
     ]
    },
    {
     "data": {
      "application/vnd.jupyter.widget-view+json": {
       "model_id": "39b19307f29e4c4e95d25c1b769d2659",
       "version_major": 2,
       "version_minor": 0
      },
      "text/plain": [
       "  0%|          | 0/1 [00:00<?, ?it/s]"
      ]
     },
     "metadata": {},
     "output_type": "display_data"
    },
    {
     "name": "stdout",
     "output_type": "stream",
     "text": [
      "CSPR = 14.00 dB\n",
      "12500/12500 [==============================] - 86s 7ms/step\n",
      "Results:\n",
      "BER: 0.00e+00\n",
      "SNR: 21.76 dB\n",
      "SIR =  20.43  dB\n",
      "GMI: 4.00 bits\n",
      "\n"
     ]
    },
    {
     "data": {
      "application/vnd.jupyter.widget-view+json": {
       "model_id": "6736b9d37cdd48b6a55bb2954133ba0b",
       "version_major": 2,
       "version_minor": 0
      },
      "text/plain": [
       "  0%|          | 0/1 [00:00<?, ?it/s]"
      ]
     },
     "metadata": {},
     "output_type": "display_data"
    },
    {
     "name": "stdout",
     "output_type": "stream",
     "text": [
      "CSPR = 15.00 dB\n",
      "12500/12500 [==============================] - 86s 7ms/step\n",
      "Results:\n",
      "BER: 0.00e+00\n",
      "SNR: 22.32 dB\n",
      "SIR =  20.8  dB\n",
      "GMI: 4.00 bits\n",
      "\n"
     ]
    },
    {
     "data": {
      "application/vnd.jupyter.widget-view+json": {
       "model_id": "c24cb3a85af3472499b0be205802b22b",
       "version_major": 2,
       "version_minor": 0
      },
      "text/plain": [
       "  0%|          | 0/10 [00:00<?, ?it/s]"
      ]
     },
     "metadata": {},
     "output_type": "display_data"
    },
    {
     "data": {
      "application/vnd.jupyter.widget-view+json": {
       "model_id": "71d60558872b4a3f88949e73ad770c02",
       "version_major": 2,
       "version_minor": 0
      },
      "text/plain": [
       "  0%|          | 0/1 [00:00<?, ?it/s]"
      ]
     },
     "metadata": {},
     "output_type": "display_data"
    },
    {
     "name": "stdout",
     "output_type": "stream",
     "text": [
      "CSPR = 6.00 dB\n",
      "Results:\n",
      "BER: 2.32e-03\n",
      "SNR: 19.35 dB\n",
      "SIR =  18.48  dB\n",
      "GMI: 3.84 bits\n",
      "\n"
     ]
    },
    {
     "data": {
      "application/vnd.jupyter.widget-view+json": {
       "model_id": "2e1e8bef08f144abbf54402c7550c665",
       "version_major": 2,
       "version_minor": 0
      },
      "text/plain": [
       "  0%|          | 0/1 [00:00<?, ?it/s]"
      ]
     },
     "metadata": {},
     "output_type": "display_data"
    },
    {
     "name": "stdout",
     "output_type": "stream",
     "text": [
      "CSPR = 7.00 dB\n",
      "Results:\n",
      "BER: 5.50e-04\n",
      "SNR: 21.45 dB\n",
      "SIR =  20.25  dB\n",
      "GMI: 3.94 bits\n",
      "\n"
     ]
    },
    {
     "data": {
      "application/vnd.jupyter.widget-view+json": {
       "model_id": "afe27348233c4131bb0285aa07c43c80",
       "version_major": 2,
       "version_minor": 0
      },
      "text/plain": [
       "  0%|          | 0/1 [00:00<?, ?it/s]"
      ]
     },
     "metadata": {},
     "output_type": "display_data"
    },
    {
     "name": "stdout",
     "output_type": "stream",
     "text": [
      "CSPR = 8.00 dB\n",
      "Results:\n",
      "BER: 1.22e-04\n",
      "SNR: 22.70 dB\n",
      "SIR =  21.31  dB\n",
      "GMI: 3.99 bits\n",
      "\n"
     ]
    },
    {
     "data": {
      "application/vnd.jupyter.widget-view+json": {
       "model_id": "9d9d0eca897b4780b05e203af95c07e9",
       "version_major": 2,
       "version_minor": 0
      },
      "text/plain": [
       "  0%|          | 0/1 [00:00<?, ?it/s]"
      ]
     },
     "metadata": {},
     "output_type": "display_data"
    },
    {
     "name": "stdout",
     "output_type": "stream",
     "text": [
      "CSPR = 9.00 dB\n",
      "Results:\n",
      "BER: 4.37e-05\n",
      "SNR: 23.43 dB\n",
      "SIR =  22.14  dB\n",
      "GMI: 4.00 bits\n",
      "\n"
     ]
    },
    {
     "data": {
      "application/vnd.jupyter.widget-view+json": {
       "model_id": "6b774c098f974512ac4d17d85bd0e0db",
       "version_major": 2,
       "version_minor": 0
      },
      "text/plain": [
       "  0%|          | 0/1 [00:00<?, ?it/s]"
      ]
     },
     "metadata": {},
     "output_type": "display_data"
    },
    {
     "name": "stdout",
     "output_type": "stream",
     "text": [
      "CSPR = 10.00 dB\n",
      "Results:\n",
      "BER: 6.25e-06\n",
      "SNR: 23.45 dB\n",
      "SIR =  22.03  dB\n",
      "GMI: 4.00 bits\n",
      "\n"
     ]
    },
    {
     "data": {
      "application/vnd.jupyter.widget-view+json": {
       "model_id": "525b9199f558448e95e068613a6556b0",
       "version_major": 2,
       "version_minor": 0
      },
      "text/plain": [
       "  0%|          | 0/1 [00:00<?, ?it/s]"
      ]
     },
     "metadata": {},
     "output_type": "display_data"
    },
    {
     "name": "stdout",
     "output_type": "stream",
     "text": [
      "CSPR = 11.00 dB\n",
      "Results:\n",
      "BER: 0.00e+00\n",
      "SNR: 23.96 dB\n",
      "SIR =  22.67  dB\n",
      "GMI: 4.00 bits\n",
      "\n"
     ]
    },
    {
     "data": {
      "application/vnd.jupyter.widget-view+json": {
       "model_id": "40257233e172455f9dc6025babb4ea6d",
       "version_major": 2,
       "version_minor": 0
      },
      "text/plain": [
       "  0%|          | 0/1 [00:00<?, ?it/s]"
      ]
     },
     "metadata": {},
     "output_type": "display_data"
    },
    {
     "name": "stdout",
     "output_type": "stream",
     "text": [
      "CSPR = 12.00 dB\n",
      "Results:\n",
      "BER: 0.00e+00\n",
      "SNR: 24.01 dB\n",
      "SIR =  22.79  dB\n",
      "GMI: 4.00 bits\n",
      "\n"
     ]
    },
    {
     "data": {
      "application/vnd.jupyter.widget-view+json": {
       "model_id": "893e1a19cde74d50a8f7ff94771b726c",
       "version_major": 2,
       "version_minor": 0
      },
      "text/plain": [
       "  0%|          | 0/1 [00:00<?, ?it/s]"
      ]
     },
     "metadata": {},
     "output_type": "display_data"
    },
    {
     "name": "stdout",
     "output_type": "stream",
     "text": [
      "CSPR = 13.00 dB\n",
      "Results:\n",
      "BER: 0.00e+00\n",
      "SNR: 24.21 dB\n",
      "SIR =  22.95  dB\n",
      "GMI: 4.00 bits\n",
      "\n"
     ]
    },
    {
     "data": {
      "application/vnd.jupyter.widget-view+json": {
       "model_id": "edc59d5ddd0346078eb2f32f4cd7d381",
       "version_major": 2,
       "version_minor": 0
      },
      "text/plain": [
       "  0%|          | 0/1 [00:00<?, ?it/s]"
      ]
     },
     "metadata": {},
     "output_type": "display_data"
    },
    {
     "name": "stdout",
     "output_type": "stream",
     "text": [
      "CSPR = 14.00 dB\n",
      "Results:\n",
      "BER: 0.00e+00\n",
      "SNR: 24.25 dB\n",
      "SIR =  23.03  dB\n",
      "GMI: 4.00 bits\n",
      "\n"
     ]
    },
    {
     "data": {
      "application/vnd.jupyter.widget-view+json": {
       "model_id": "8a36a03801894362911240b00b070386",
       "version_major": 2,
       "version_minor": 0
      },
      "text/plain": [
       "  0%|          | 0/1 [00:00<?, ?it/s]"
      ]
     },
     "metadata": {},
     "output_type": "display_data"
    },
    {
     "name": "stdout",
     "output_type": "stream",
     "text": [
      "CSPR = 15.00 dB\n",
      "Results:\n",
      "BER: 0.00e+00\n",
      "SNR: 24.24 dB\n",
      "SIR =  22.86  dB\n",
      "GMI: 4.00 bits\n",
      "\n"
     ]
    },
    {
     "data": {
      "application/vnd.jupyter.widget-view+json": {
       "model_id": "cb2282f4b7d04ad88c49acf356631cf9",
       "version_major": 2,
       "version_minor": 0
      },
      "text/plain": [
       "  0%|          | 0/10 [00:00<?, ?it/s]"
      ]
     },
     "metadata": {},
     "output_type": "display_data"
    },
    {
     "data": {
      "application/vnd.jupyter.widget-view+json": {
       "model_id": "84f507a65ab54c39bc1f1f13811ed2a7",
       "version_major": 2,
       "version_minor": 0
      },
      "text/plain": [
       "  0%|          | 0/1 [00:00<?, ?it/s]"
      ]
     },
     "metadata": {},
     "output_type": "display_data"
    },
    {
     "name": "stdout",
     "output_type": "stream",
     "text": [
      "CSPR = 6.00 dB\n",
      "12500/12500 [==============================] - 13s 1ms/step\n",
      "Results:\n",
      "BER: 7.39e-03\n",
      "SNR: 15.53 dB\n",
      "SIR =  15.15  dB\n",
      "GMI: 3.80 bits\n",
      "\n"
     ]
    },
    {
     "data": {
      "application/vnd.jupyter.widget-view+json": {
       "model_id": "435bd21ba0224ff38f4559a2aff34711",
       "version_major": 2,
       "version_minor": 0
      },
      "text/plain": [
       "  0%|          | 0/1 [00:00<?, ?it/s]"
      ]
     },
     "metadata": {},
     "output_type": "display_data"
    },
    {
     "name": "stdout",
     "output_type": "stream",
     "text": [
      "CSPR = 7.00 dB\n",
      "12500/12500 [==============================] - 13s 1ms/step\n",
      "Results:\n",
      "BER: 2.32e-03\n",
      "SNR: 17.39 dB\n",
      "SIR =  16.78  dB\n",
      "GMI: 3.92 bits\n",
      "\n"
     ]
    },
    {
     "data": {
      "application/vnd.jupyter.widget-view+json": {
       "model_id": "d21d188a6f034220b0ea27727a8732df",
       "version_major": 2,
       "version_minor": 0
      },
      "text/plain": [
       "  0%|          | 0/1 [00:00<?, ?it/s]"
      ]
     },
     "metadata": {},
     "output_type": "display_data"
    },
    {
     "name": "stdout",
     "output_type": "stream",
     "text": [
      "CSPR = 8.00 dB\n",
      "12500/12500 [==============================] - 13s 1ms/step\n",
      "Results:\n",
      "BER: 6.31e-04\n",
      "SNR: 18.74 dB\n",
      "SIR =  18.02  dB\n",
      "GMI: 3.98 bits\n",
      "\n"
     ]
    },
    {
     "data": {
      "application/vnd.jupyter.widget-view+json": {
       "model_id": "fa944b7697794055b74c391ee1856972",
       "version_major": 2,
       "version_minor": 0
      },
      "text/plain": [
       "  0%|          | 0/1 [00:00<?, ?it/s]"
      ]
     },
     "metadata": {},
     "output_type": "display_data"
    },
    {
     "name": "stdout",
     "output_type": "stream",
     "text": [
      "CSPR = 9.00 dB\n",
      "12500/12500 [==============================] - 13s 1ms/step\n",
      "Results:\n",
      "BER: 1.19e-04\n",
      "SNR: 19.47 dB\n",
      "SIR =  18.55  dB\n",
      "GMI: 4.00 bits\n",
      "\n"
     ]
    },
    {
     "data": {
      "application/vnd.jupyter.widget-view+json": {
       "model_id": "00778e7c4bd547098394f408207470d2",
       "version_major": 2,
       "version_minor": 0
      },
      "text/plain": [
       "  0%|          | 0/1 [00:00<?, ?it/s]"
      ]
     },
     "metadata": {},
     "output_type": "display_data"
    },
    {
     "name": "stdout",
     "output_type": "stream",
     "text": [
      "CSPR = 10.00 dB\n",
      "12500/12500 [==============================] - 11s 894us/step\n",
      "Results:\n",
      "BER: 7.19e-05\n",
      "SNR: 19.38 dB\n",
      "SIR =  18.44  dB\n",
      "GMI: 4.00 bits\n",
      "\n"
     ]
    },
    {
     "data": {
      "application/vnd.jupyter.widget-view+json": {
       "model_id": "4fd9b0c51ef64c4aa9b86231323c3653",
       "version_major": 2,
       "version_minor": 0
      },
      "text/plain": [
       "  0%|          | 0/1 [00:00<?, ?it/s]"
      ]
     },
     "metadata": {},
     "output_type": "display_data"
    },
    {
     "name": "stdout",
     "output_type": "stream",
     "text": [
      "CSPR = 11.00 dB\n",
      "12500/12500 [==============================] - 13s 1ms/step\n",
      "Results:\n",
      "BER: 4.69e-05\n",
      "SNR: 19.12 dB\n",
      "SIR =  18.13  dB\n",
      "GMI: 4.00 bits\n",
      "\n"
     ]
    },
    {
     "data": {
      "application/vnd.jupyter.widget-view+json": {
       "model_id": "27afa53be5e64b539a96521fb703be28",
       "version_major": 2,
       "version_minor": 0
      },
      "text/plain": [
       "  0%|          | 0/1 [00:00<?, ?it/s]"
      ]
     },
     "metadata": {},
     "output_type": "display_data"
    },
    {
     "name": "stdout",
     "output_type": "stream",
     "text": [
      "CSPR = 12.00 dB\n",
      "12500/12500 [==============================] - 13s 1ms/step\n",
      "Results:\n",
      "BER: 5.62e-05\n",
      "SNR: 19.02 dB\n",
      "SIR =  18.09  dB\n",
      "GMI: 4.00 bits\n",
      "\n"
     ]
    },
    {
     "data": {
      "application/vnd.jupyter.widget-view+json": {
       "model_id": "d3c02f3ee71a4e9e906f80f54855726b",
       "version_major": 2,
       "version_minor": 0
      },
      "text/plain": [
       "  0%|          | 0/1 [00:00<?, ?it/s]"
      ]
     },
     "metadata": {},
     "output_type": "display_data"
    },
    {
     "name": "stdout",
     "output_type": "stream",
     "text": [
      "CSPR = 13.00 dB\n",
      "12500/12500 [==============================] - 12s 987us/step\n",
      "Results:\n",
      "BER: 7.19e-05\n",
      "SNR: 18.96 dB\n",
      "SIR =  18.09  dB\n",
      "GMI: 4.00 bits\n",
      "\n"
     ]
    },
    {
     "data": {
      "application/vnd.jupyter.widget-view+json": {
       "model_id": "16349aa69b294f3182cbc75106cf0c2a",
       "version_major": 2,
       "version_minor": 0
      },
      "text/plain": [
       "  0%|          | 0/1 [00:00<?, ?it/s]"
      ]
     },
     "metadata": {},
     "output_type": "display_data"
    },
    {
     "name": "stdout",
     "output_type": "stream",
     "text": [
      "CSPR = 14.00 dB\n",
      "12500/12500 [==============================] - 13s 1ms/step\n",
      "Results:\n",
      "BER: 5.31e-05\n",
      "SNR: 18.96 dB\n",
      "SIR =  18.07  dB\n",
      "GMI: 4.00 bits\n",
      "\n"
     ]
    },
    {
     "data": {
      "application/vnd.jupyter.widget-view+json": {
       "model_id": "6a1f296bff344d71b4750a086e4e1f07",
       "version_major": 2,
       "version_minor": 0
      },
      "text/plain": [
       "  0%|          | 0/1 [00:00<?, ?it/s]"
      ]
     },
     "metadata": {},
     "output_type": "display_data"
    },
    {
     "name": "stdout",
     "output_type": "stream",
     "text": [
      "CSPR = 15.00 dB\n",
      "12500/12500 [==============================] - 13s 994us/step\n",
      "Results:\n",
      "BER: 5.00e-05\n",
      "SNR: 19.16 dB\n",
      "SIR =  18.11  dB\n",
      "GMI: 4.00 bits\n",
      "\n"
     ]
    },
    {
     "data": {
      "application/vnd.jupyter.widget-view+json": {
       "model_id": "e49f2196b34a42cfa21ac567e3c597ab",
       "version_major": 2,
       "version_minor": 0
      },
      "text/plain": [
       "  0%|          | 0/10 [00:00<?, ?it/s]"
      ]
     },
     "metadata": {},
     "output_type": "display_data"
    },
    {
     "data": {
      "application/vnd.jupyter.widget-view+json": {
       "model_id": "718dbca181d049f99bd35ef979d74995",
       "version_major": 2,
       "version_minor": 0
      },
      "text/plain": [
       "  0%|          | 0/1 [00:00<?, ?it/s]"
      ]
     },
     "metadata": {},
     "output_type": "display_data"
    },
    {
     "name": "stdout",
     "output_type": "stream",
     "text": [
      "CSPR = 6.00 dB\n",
      "12500/12500 [==============================] - 93s 7ms/step\n",
      "Results:\n",
      "BER: 1.67e-03\n",
      "SNR: 19.57 dB\n",
      "SIR =  18.72  dB\n",
      "GMI: 3.87 bits\n",
      "\n"
     ]
    },
    {
     "data": {
      "application/vnd.jupyter.widget-view+json": {
       "model_id": "d9ec1e08f7f84c4e8376248b95fd8b07",
       "version_major": 2,
       "version_minor": 0
      },
      "text/plain": [
       "  0%|          | 0/1 [00:00<?, ?it/s]"
      ]
     },
     "metadata": {},
     "output_type": "display_data"
    },
    {
     "name": "stdout",
     "output_type": "stream",
     "text": [
      "CSPR = 7.00 dB\n",
      "12500/12500 [==============================] - 91s 7ms/step\n",
      "Results:\n",
      "BER: 4.56e-04\n",
      "SNR: 20.11 dB\n",
      "SIR =  19.28  dB\n",
      "GMI: 3.97 bits\n",
      "\n"
     ]
    },
    {
     "data": {
      "application/vnd.jupyter.widget-view+json": {
       "model_id": "1fd34ddbe2c34cdd92f0b340589c25c7",
       "version_major": 2,
       "version_minor": 0
      },
      "text/plain": [
       "  0%|          | 0/1 [00:00<?, ?it/s]"
      ]
     },
     "metadata": {},
     "output_type": "display_data"
    },
    {
     "name": "stdout",
     "output_type": "stream",
     "text": [
      "CSPR = 8.00 dB\n",
      "12500/12500 [==============================] - 90s 7ms/step\n",
      "Results:\n",
      "BER: 2.81e-05\n",
      "SNR: 20.41 dB\n",
      "SIR =  19.52  dB\n",
      "GMI: 4.00 bits\n",
      "\n"
     ]
    },
    {
     "data": {
      "application/vnd.jupyter.widget-view+json": {
       "model_id": "77e096707c25451dafbb32b2557e74da",
       "version_major": 2,
       "version_minor": 0
      },
      "text/plain": [
       "  0%|          | 0/1 [00:00<?, ?it/s]"
      ]
     },
     "metadata": {},
     "output_type": "display_data"
    },
    {
     "name": "stdout",
     "output_type": "stream",
     "text": [
      "CSPR = 9.00 dB\n",
      "12500/12500 [==============================] - 89s 7ms/step\n",
      "Results:\n",
      "BER: 0.00e+00\n",
      "SNR: 20.69 dB\n",
      "SIR =  19.72  dB\n",
      "GMI: 4.00 bits\n",
      "\n"
     ]
    },
    {
     "data": {
      "application/vnd.jupyter.widget-view+json": {
       "model_id": "2eb5483ec1cc48b5a5d0755450c7f8e0",
       "version_major": 2,
       "version_minor": 0
      },
      "text/plain": [
       "  0%|          | 0/1 [00:00<?, ?it/s]"
      ]
     },
     "metadata": {},
     "output_type": "display_data"
    },
    {
     "name": "stdout",
     "output_type": "stream",
     "text": [
      "CSPR = 10.00 dB\n",
      "12500/12500 [==============================] - 90s 7ms/step\n",
      "Results:\n",
      "BER: 3.13e-06\n",
      "SNR: 21.03 dB\n",
      "SIR =  19.94  dB\n",
      "GMI: 4.00 bits\n",
      "\n"
     ]
    },
    {
     "data": {
      "application/vnd.jupyter.widget-view+json": {
       "model_id": "70ab2ae7a1034271a11d4128653f3798",
       "version_major": 2,
       "version_minor": 0
      },
      "text/plain": [
       "  0%|          | 0/1 [00:00<?, ?it/s]"
      ]
     },
     "metadata": {},
     "output_type": "display_data"
    },
    {
     "name": "stdout",
     "output_type": "stream",
     "text": [
      "CSPR = 11.00 dB\n",
      "12500/12500 [==============================] - 89s 7ms/step\n",
      "Results:\n",
      "BER: 6.25e-06\n",
      "SNR: 21.17 dB\n",
      "SIR =  20.08  dB\n",
      "GMI: 4.00 bits\n",
      "\n"
     ]
    },
    {
     "data": {
      "application/vnd.jupyter.widget-view+json": {
       "model_id": "4f73c81060484b90a035cc4329bb4756",
       "version_major": 2,
       "version_minor": 0
      },
      "text/plain": [
       "  0%|          | 0/1 [00:00<?, ?it/s]"
      ]
     },
     "metadata": {},
     "output_type": "display_data"
    },
    {
     "name": "stdout",
     "output_type": "stream",
     "text": [
      "CSPR = 12.00 dB\n",
      "12500/12500 [==============================] - 87s 7ms/step\n",
      "Results:\n",
      "BER: 0.00e+00\n",
      "SNR: 21.42 dB\n",
      "SIR =  20.19  dB\n",
      "GMI: 4.00 bits\n",
      "\n"
     ]
    },
    {
     "data": {
      "application/vnd.jupyter.widget-view+json": {
       "model_id": "74f24644db614e55bdc97d00d95baf67",
       "version_major": 2,
       "version_minor": 0
      },
      "text/plain": [
       "  0%|          | 0/1 [00:00<?, ?it/s]"
      ]
     },
     "metadata": {},
     "output_type": "display_data"
    },
    {
     "name": "stdout",
     "output_type": "stream",
     "text": [
      "CSPR = 13.00 dB\n",
      "12500/12500 [==============================] - 83s 7ms/step\n",
      "Results:\n",
      "BER: 0.00e+00\n",
      "SNR: 21.39 dB\n",
      "SIR =  20.18  dB\n",
      "GMI: 4.00 bits\n",
      "\n"
     ]
    },
    {
     "data": {
      "application/vnd.jupyter.widget-view+json": {
       "model_id": "3e9d8ea433214bebacdaec45fc686781",
       "version_major": 2,
       "version_minor": 0
      },
      "text/plain": [
       "  0%|          | 0/1 [00:00<?, ?it/s]"
      ]
     },
     "metadata": {},
     "output_type": "display_data"
    },
    {
     "name": "stdout",
     "output_type": "stream",
     "text": [
      "CSPR = 14.00 dB\n",
      "12500/12500 [==============================] - 85s 7ms/step\n",
      "Results:\n",
      "BER: 3.13e-06\n",
      "SNR: 21.72 dB\n",
      "SIR =  20.46  dB\n",
      "GMI: 4.00 bits\n",
      "\n"
     ]
    },
    {
     "data": {
      "application/vnd.jupyter.widget-view+json": {
       "model_id": "dc1bd61a651f457aaf81f3d6a7c149f9",
       "version_major": 2,
       "version_minor": 0
      },
      "text/plain": [
       "  0%|          | 0/1 [00:00<?, ?it/s]"
      ]
     },
     "metadata": {},
     "output_type": "display_data"
    },
    {
     "name": "stdout",
     "output_type": "stream",
     "text": [
      "CSPR = 15.00 dB\n",
      "12500/12500 [==============================] - 85s 7ms/step\n",
      "Results:\n",
      "BER: 0.00e+00\n",
      "SNR: 22.25 dB\n",
      "SIR =  20.7  dB\n",
      "GMI: 4.00 bits\n",
      "\n"
     ]
    },
    {
     "data": {
      "application/vnd.jupyter.widget-view+json": {
       "model_id": "5c0f176d909c4489b7654f300cc2f717",
       "version_major": 2,
       "version_minor": 0
      },
      "text/plain": [
       "  0%|          | 0/10 [00:00<?, ?it/s]"
      ]
     },
     "metadata": {},
     "output_type": "display_data"
    },
    {
     "data": {
      "application/vnd.jupyter.widget-view+json": {
       "model_id": "bd76422dd2154d378d874b36bbd9d6a8",
       "version_major": 2,
       "version_minor": 0
      },
      "text/plain": [
       "  0%|          | 0/1 [00:00<?, ?it/s]"
      ]
     },
     "metadata": {},
     "output_type": "display_data"
    },
    {
     "name": "stdout",
     "output_type": "stream",
     "text": [
      "CSPR = 6.00 dB\n",
      "Results:\n",
      "BER: 2.64e-03\n",
      "SNR: 19.36 dB\n",
      "SIR =  18.55  dB\n",
      "GMI: 3.84 bits\n",
      "\n"
     ]
    },
    {
     "data": {
      "application/vnd.jupyter.widget-view+json": {
       "model_id": "dea8807fff8c4170a212ec8c9f4db0ec",
       "version_major": 2,
       "version_minor": 0
      },
      "text/plain": [
       "  0%|          | 0/1 [00:00<?, ?it/s]"
      ]
     },
     "metadata": {},
     "output_type": "display_data"
    },
    {
     "name": "stdout",
     "output_type": "stream",
     "text": [
      "CSPR = 7.00 dB\n",
      "Results:\n",
      "BER: 6.50e-04\n",
      "SNR: 21.47 dB\n",
      "SIR =  20.31  dB\n",
      "GMI: 3.95 bits\n",
      "\n"
     ]
    },
    {
     "data": {
      "application/vnd.jupyter.widget-view+json": {
       "model_id": "b9509ec039734804bb7b2491a16eb08e",
       "version_major": 2,
       "version_minor": 0
      },
      "text/plain": [
       "  0%|          | 0/1 [00:00<?, ?it/s]"
      ]
     },
     "metadata": {},
     "output_type": "display_data"
    },
    {
     "name": "stdout",
     "output_type": "stream",
     "text": [
      "CSPR = 8.00 dB\n",
      "Results:\n",
      "BER: 1.56e-04\n",
      "SNR: 22.64 dB\n",
      "SIR =  21.31  dB\n",
      "GMI: 3.97 bits\n",
      "\n"
     ]
    },
    {
     "data": {
      "application/vnd.jupyter.widget-view+json": {
       "model_id": "77b5c21de8db457f8f699edab1f35dca",
       "version_major": 2,
       "version_minor": 0
      },
      "text/plain": [
       "  0%|          | 0/1 [00:00<?, ?it/s]"
      ]
     },
     "metadata": {},
     "output_type": "display_data"
    },
    {
     "name": "stdout",
     "output_type": "stream",
     "text": [
      "CSPR = 9.00 dB\n",
      "Results:\n",
      "BER: 5.62e-05\n",
      "SNR: 23.25 dB\n",
      "SIR =  21.87  dB\n",
      "GMI: 3.99 bits\n",
      "\n"
     ]
    },
    {
     "data": {
      "application/vnd.jupyter.widget-view+json": {
       "model_id": "227099be5852441292bbc0fef7ecbe1e",
       "version_major": 2,
       "version_minor": 0
      },
      "text/plain": [
       "  0%|          | 0/1 [00:00<?, ?it/s]"
      ]
     },
     "metadata": {},
     "output_type": "display_data"
    },
    {
     "name": "stdout",
     "output_type": "stream",
     "text": [
      "CSPR = 10.00 dB\n",
      "Results:\n",
      "BER: 0.00e+00\n",
      "SNR: 23.73 dB\n",
      "SIR =  22.36  dB\n",
      "GMI: 4.00 bits\n",
      "\n"
     ]
    },
    {
     "data": {
      "application/vnd.jupyter.widget-view+json": {
       "model_id": "67b01a56bc1e4e1d9d2395d77966e6c4",
       "version_major": 2,
       "version_minor": 0
      },
      "text/plain": [
       "  0%|          | 0/1 [00:00<?, ?it/s]"
      ]
     },
     "metadata": {},
     "output_type": "display_data"
    },
    {
     "name": "stdout",
     "output_type": "stream",
     "text": [
      "CSPR = 11.00 dB\n",
      "Results:\n",
      "BER: 0.00e+00\n",
      "SNR: 23.99 dB\n",
      "SIR =  22.78  dB\n",
      "GMI: 4.00 bits\n",
      "\n"
     ]
    },
    {
     "data": {
      "application/vnd.jupyter.widget-view+json": {
       "model_id": "1551d742006744619784ae09d5f3a69a",
       "version_major": 2,
       "version_minor": 0
      },
      "text/plain": [
       "  0%|          | 0/1 [00:00<?, ?it/s]"
      ]
     },
     "metadata": {},
     "output_type": "display_data"
    },
    {
     "name": "stdout",
     "output_type": "stream",
     "text": [
      "CSPR = 12.00 dB\n",
      "Results:\n",
      "BER: 0.00e+00\n",
      "SNR: 24.03 dB\n",
      "SIR =  22.72  dB\n",
      "GMI: 4.00 bits\n",
      "\n"
     ]
    },
    {
     "data": {
      "application/vnd.jupyter.widget-view+json": {
       "model_id": "52cf383771254adbb1b6a6602a4141b0",
       "version_major": 2,
       "version_minor": 0
      },
      "text/plain": [
       "  0%|          | 0/1 [00:00<?, ?it/s]"
      ]
     },
     "metadata": {},
     "output_type": "display_data"
    },
    {
     "name": "stdout",
     "output_type": "stream",
     "text": [
      "CSPR = 13.00 dB\n",
      "Results:\n",
      "BER: 0.00e+00\n",
      "SNR: 24.17 dB\n",
      "SIR =  22.94  dB\n",
      "GMI: 4.00 bits\n",
      "\n"
     ]
    },
    {
     "data": {
      "application/vnd.jupyter.widget-view+json": {
       "model_id": "c424e00c1f0a4f40aa4360515cde364b",
       "version_major": 2,
       "version_minor": 0
      },
      "text/plain": [
       "  0%|          | 0/1 [00:00<?, ?it/s]"
      ]
     },
     "metadata": {},
     "output_type": "display_data"
    },
    {
     "name": "stdout",
     "output_type": "stream",
     "text": [
      "CSPR = 14.00 dB\n",
      "Results:\n",
      "BER: 0.00e+00\n",
      "SNR: 24.10 dB\n",
      "SIR =  22.85  dB\n",
      "GMI: 4.00 bits\n",
      "\n"
     ]
    },
    {
     "data": {
      "application/vnd.jupyter.widget-view+json": {
       "model_id": "2733988acdae4fbd8aed7f6ebb9feefa",
       "version_major": 2,
       "version_minor": 0
      },
      "text/plain": [
       "  0%|          | 0/1 [00:00<?, ?it/s]"
      ]
     },
     "metadata": {},
     "output_type": "display_data"
    },
    {
     "name": "stdout",
     "output_type": "stream",
     "text": [
      "CSPR = 15.00 dB\n",
      "Results:\n",
      "BER: 0.00e+00\n",
      "SNR: 24.14 dB\n",
      "SIR =  22.87  dB\n",
      "GMI: 4.00 bits\n",
      "\n"
     ]
    },
    {
     "data": {
      "application/vnd.jupyter.widget-view+json": {
       "model_id": "35251a29ebc640ebb969699b778f544d",
       "version_major": 2,
       "version_minor": 0
      },
      "text/plain": [
       "  0%|          | 0/10 [00:00<?, ?it/s]"
      ]
     },
     "metadata": {},
     "output_type": "display_data"
    },
    {
     "data": {
      "application/vnd.jupyter.widget-view+json": {
       "model_id": "b91996ccd7e64eed801ad682b0cc8d77",
       "version_major": 2,
       "version_minor": 0
      },
      "text/plain": [
       "  0%|          | 0/1 [00:00<?, ?it/s]"
      ]
     },
     "metadata": {},
     "output_type": "display_data"
    },
    {
     "name": "stdout",
     "output_type": "stream",
     "text": [
      "CSPR = 6.00 dB\n",
      "12500/12500 [==============================] - 13s 1ms/step\n",
      "Results:\n",
      "BER: 7.25e-03\n",
      "SNR: 15.54 dB\n",
      "SIR =  15.1  dB\n",
      "GMI: 3.81 bits\n",
      "\n"
     ]
    },
    {
     "data": {
      "application/vnd.jupyter.widget-view+json": {
       "model_id": "33c439ff4ba14f4f8c0054393537e629",
       "version_major": 2,
       "version_minor": 0
      },
      "text/plain": [
       "  0%|          | 0/1 [00:00<?, ?it/s]"
      ]
     },
     "metadata": {},
     "output_type": "display_data"
    },
    {
     "name": "stdout",
     "output_type": "stream",
     "text": [
      "CSPR = 7.00 dB\n",
      "12500/12500 [==============================] - 13s 1ms/step\n",
      "Results:\n",
      "BER: 2.32e-03\n",
      "SNR: 17.34 dB\n",
      "SIR =  16.82  dB\n",
      "GMI: 3.92 bits\n",
      "\n"
     ]
    },
    {
     "data": {
      "application/vnd.jupyter.widget-view+json": {
       "model_id": "9a8b5512f8d04d579434012d6ef71249",
       "version_major": 2,
       "version_minor": 0
      },
      "text/plain": [
       "  0%|          | 0/1 [00:00<?, ?it/s]"
      ]
     },
     "metadata": {},
     "output_type": "display_data"
    },
    {
     "name": "stdout",
     "output_type": "stream",
     "text": [
      "CSPR = 8.00 dB\n",
      "12500/12500 [==============================] - 12s 922us/step\n",
      "Results:\n",
      "BER: 7.84e-04\n",
      "SNR: 18.70 dB\n",
      "SIR =  17.93  dB\n",
      "GMI: 3.97 bits\n",
      "\n"
     ]
    },
    {
     "data": {
      "application/vnd.jupyter.widget-view+json": {
       "model_id": "da6a700a8b154b0ea325be856be353e7",
       "version_major": 2,
       "version_minor": 0
      },
      "text/plain": [
       "  0%|          | 0/1 [00:00<?, ?it/s]"
      ]
     },
     "metadata": {},
     "output_type": "display_data"
    },
    {
     "name": "stdout",
     "output_type": "stream",
     "text": [
      "CSPR = 9.00 dB\n",
      "12500/12500 [==============================] - 13s 1ms/step\n",
      "Results:\n",
      "BER: 1.97e-04\n",
      "SNR: 19.39 dB\n",
      "SIR =  18.53  dB\n",
      "GMI: 3.99 bits\n",
      "\n"
     ]
    },
    {
     "data": {
      "application/vnd.jupyter.widget-view+json": {
       "model_id": "8d8cc1a5c0ab4ae29011aa194f8e86a7",
       "version_major": 2,
       "version_minor": 0
      },
      "text/plain": [
       "  0%|          | 0/1 [00:00<?, ?it/s]"
      ]
     },
     "metadata": {},
     "output_type": "display_data"
    },
    {
     "name": "stdout",
     "output_type": "stream",
     "text": [
      "CSPR = 10.00 dB\n",
      "12500/12500 [==============================] - 12s 970us/step\n",
      "Results:\n",
      "BER: 1.06e-04\n",
      "SNR: 19.32 dB\n",
      "SIR =  18.29  dB\n",
      "GMI: 4.00 bits\n",
      "\n"
     ]
    },
    {
     "data": {
      "application/vnd.jupyter.widget-view+json": {
       "model_id": "9ec68818db0840c698dfbe8f2277a34e",
       "version_major": 2,
       "version_minor": 0
      },
      "text/plain": [
       "  0%|          | 0/1 [00:00<?, ?it/s]"
      ]
     },
     "metadata": {},
     "output_type": "display_data"
    },
    {
     "name": "stdout",
     "output_type": "stream",
     "text": [
      "CSPR = 11.00 dB\n",
      "12500/12500 [==============================] - 13s 994us/step\n",
      "Results:\n",
      "BER: 6.25e-05\n",
      "SNR: 19.21 dB\n",
      "SIR =  18.14  dB\n",
      "GMI: 4.00 bits\n",
      "\n"
     ]
    },
    {
     "data": {
      "application/vnd.jupyter.widget-view+json": {
       "model_id": "4cb5aa7670e542c5886af181c0351cf1",
       "version_major": 2,
       "version_minor": 0
      },
      "text/plain": [
       "  0%|          | 0/1 [00:00<?, ?it/s]"
      ]
     },
     "metadata": {},
     "output_type": "display_data"
    },
    {
     "name": "stdout",
     "output_type": "stream",
     "text": [
      "CSPR = 12.00 dB\n",
      "12500/12500 [==============================] - 13s 1ms/step\n",
      "Results:\n",
      "BER: 7.50e-05\n",
      "SNR: 19.04 dB\n",
      "SIR =  18.12  dB\n",
      "GMI: 4.00 bits\n",
      "\n"
     ]
    },
    {
     "data": {
      "application/vnd.jupyter.widget-view+json": {
       "model_id": "ed21a8cb531f4d26aa5b5c43267b5da8",
       "version_major": 2,
       "version_minor": 0
      },
      "text/plain": [
       "  0%|          | 0/1 [00:00<?, ?it/s]"
      ]
     },
     "metadata": {},
     "output_type": "display_data"
    },
    {
     "name": "stdout",
     "output_type": "stream",
     "text": [
      "CSPR = 13.00 dB\n",
      "12500/12500 [==============================] - 13s 1000us/step\n",
      "Results:\n",
      "BER: 5.31e-05\n",
      "SNR: 18.94 dB\n",
      "SIR =  18.1  dB\n",
      "GMI: 4.00 bits\n",
      "\n"
     ]
    },
    {
     "data": {
      "application/vnd.jupyter.widget-view+json": {
       "model_id": "0e95941d96f84dd4907d03b24af843f6",
       "version_major": 2,
       "version_minor": 0
      },
      "text/plain": [
       "  0%|          | 0/1 [00:00<?, ?it/s]"
      ]
     },
     "metadata": {},
     "output_type": "display_data"
    },
    {
     "name": "stdout",
     "output_type": "stream",
     "text": [
      "CSPR = 14.00 dB\n",
      "12500/12500 [==============================] - 13s 998us/step\n",
      "Results:\n",
      "BER: 5.62e-05\n",
      "SNR: 19.05 dB\n",
      "SIR =  18.12  dB\n",
      "GMI: 4.00 bits\n",
      "\n"
     ]
    },
    {
     "data": {
      "application/vnd.jupyter.widget-view+json": {
       "model_id": "5cff42542f8c4a65940709ca82346cd2",
       "version_major": 2,
       "version_minor": 0
      },
      "text/plain": [
       "  0%|          | 0/1 [00:00<?, ?it/s]"
      ]
     },
     "metadata": {},
     "output_type": "display_data"
    },
    {
     "name": "stdout",
     "output_type": "stream",
     "text": [
      "CSPR = 15.00 dB\n",
      "12500/12500 [==============================] - 11s 896us/step\n",
      "Results:\n",
      "BER: 5.94e-05\n",
      "SNR: 19.14 dB\n",
      "SIR =  18.17  dB\n",
      "GMI: 4.00 bits\n",
      "\n"
     ]
    },
    {
     "data": {
      "application/vnd.jupyter.widget-view+json": {
       "model_id": "f38611224c544324a22bbdd2b3c85cfb",
       "version_major": 2,
       "version_minor": 0
      },
      "text/plain": [
       "  0%|          | 0/10 [00:00<?, ?it/s]"
      ]
     },
     "metadata": {},
     "output_type": "display_data"
    },
    {
     "data": {
      "application/vnd.jupyter.widget-view+json": {
       "model_id": "16e5195ada8b49728cd373a236aed940",
       "version_major": 2,
       "version_minor": 0
      },
      "text/plain": [
       "  0%|          | 0/1 [00:00<?, ?it/s]"
      ]
     },
     "metadata": {},
     "output_type": "display_data"
    },
    {
     "name": "stdout",
     "output_type": "stream",
     "text": [
      "CSPR = 6.00 dB\n",
      "12500/12500 [==============================] - 90s 7ms/step\n",
      "Results:\n",
      "BER: 1.20e-03\n",
      "SNR: 19.92 dB\n",
      "SIR =  19.01  dB\n",
      "GMI: 3.90 bits\n",
      "\n"
     ]
    },
    {
     "data": {
      "application/vnd.jupyter.widget-view+json": {
       "model_id": "6f3c8afb418149d8b4255d4f630023cd",
       "version_major": 2,
       "version_minor": 0
      },
      "text/plain": [
       "  0%|          | 0/1 [00:00<?, ?it/s]"
      ]
     },
     "metadata": {},
     "output_type": "display_data"
    },
    {
     "name": "stdout",
     "output_type": "stream",
     "text": [
      "CSPR = 7.00 dB\n",
      "12500/12500 [==============================] - 91s 7ms/step\n",
      "Results:\n",
      "BER: 4.16e-04\n",
      "SNR: 20.12 dB\n",
      "SIR =  19.29  dB\n",
      "GMI: 3.97 bits\n",
      "\n"
     ]
    },
    {
     "data": {
      "application/vnd.jupyter.widget-view+json": {
       "model_id": "66febeb51fe349b2b561609a4b32587c",
       "version_major": 2,
       "version_minor": 0
      },
      "text/plain": [
       "  0%|          | 0/1 [00:00<?, ?it/s]"
      ]
     },
     "metadata": {},
     "output_type": "display_data"
    },
    {
     "name": "stdout",
     "output_type": "stream",
     "text": [
      "CSPR = 8.00 dB\n",
      "12500/12500 [==============================] - 90s 7ms/step\n",
      "Results:\n",
      "BER: 3.13e-05\n",
      "SNR: 20.33 dB\n",
      "SIR =  19.39  dB\n",
      "GMI: 4.00 bits\n",
      "\n"
     ]
    },
    {
     "data": {
      "application/vnd.jupyter.widget-view+json": {
       "model_id": "2c1c788ffbd34b19b619982e2bef3b0a",
       "version_major": 2,
       "version_minor": 0
      },
      "text/plain": [
       "  0%|          | 0/1 [00:00<?, ?it/s]"
      ]
     },
     "metadata": {},
     "output_type": "display_data"
    },
    {
     "name": "stdout",
     "output_type": "stream",
     "text": [
      "CSPR = 9.00 dB\n",
      "12500/12500 [==============================] - 90s 7ms/step\n",
      "Results:\n",
      "BER: 1.25e-05\n",
      "SNR: 20.71 dB\n",
      "SIR =  19.78  dB\n",
      "GMI: 4.00 bits\n",
      "\n"
     ]
    },
    {
     "data": {
      "application/vnd.jupyter.widget-view+json": {
       "model_id": "5c2842d3b70044b99637fe6797deec3f",
       "version_major": 2,
       "version_minor": 0
      },
      "text/plain": [
       "  0%|          | 0/1 [00:00<?, ?it/s]"
      ]
     },
     "metadata": {},
     "output_type": "display_data"
    },
    {
     "name": "stdout",
     "output_type": "stream",
     "text": [
      "CSPR = 10.00 dB\n",
      "12500/12500 [==============================] - 89s 7ms/step\n",
      "Results:\n",
      "BER: 3.13e-06\n",
      "SNR: 20.99 dB\n",
      "SIR =  19.92  dB\n",
      "GMI: 4.00 bits\n",
      "\n"
     ]
    },
    {
     "data": {
      "application/vnd.jupyter.widget-view+json": {
       "model_id": "4c4bfa106d1142b898277f72b1677448",
       "version_major": 2,
       "version_minor": 0
      },
      "text/plain": [
       "  0%|          | 0/1 [00:00<?, ?it/s]"
      ]
     },
     "metadata": {},
     "output_type": "display_data"
    },
    {
     "name": "stdout",
     "output_type": "stream",
     "text": [
      "CSPR = 11.00 dB\n",
      "12500/12500 [==============================] - 88s 7ms/step\n",
      "Results:\n",
      "BER: 0.00e+00\n",
      "SNR: 21.29 dB\n",
      "SIR =  20.2  dB\n",
      "GMI: 4.00 bits\n",
      "\n"
     ]
    },
    {
     "data": {
      "application/vnd.jupyter.widget-view+json": {
       "model_id": "2d8adac6e9b04d6688728aadc9099c26",
       "version_major": 2,
       "version_minor": 0
      },
      "text/plain": [
       "  0%|          | 0/1 [00:00<?, ?it/s]"
      ]
     },
     "metadata": {},
     "output_type": "display_data"
    },
    {
     "name": "stdout",
     "output_type": "stream",
     "text": [
      "CSPR = 12.00 dB\n",
      "12500/12500 [==============================] - 88s 7ms/step\n",
      "Results:\n",
      "BER: 0.00e+00\n",
      "SNR: 21.42 dB\n",
      "SIR =  20.22  dB\n",
      "GMI: 4.00 bits\n",
      "\n"
     ]
    },
    {
     "data": {
      "application/vnd.jupyter.widget-view+json": {
       "model_id": "fa83cda725e84f2aa7c4c475162557bb",
       "version_major": 2,
       "version_minor": 0
      },
      "text/plain": [
       "  0%|          | 0/1 [00:00<?, ?it/s]"
      ]
     },
     "metadata": {},
     "output_type": "display_data"
    },
    {
     "name": "stdout",
     "output_type": "stream",
     "text": [
      "CSPR = 13.00 dB\n",
      "12500/12500 [==============================] - 89s 7ms/step\n",
      "Results:\n",
      "BER: 0.00e+00\n",
      "SNR: 21.55 dB\n",
      "SIR =  20.29  dB\n",
      "GMI: 4.00 bits\n",
      "\n"
     ]
    },
    {
     "data": {
      "application/vnd.jupyter.widget-view+json": {
       "model_id": "3dd86c5acfa04ef0ae043c3bf4f82142",
       "version_major": 2,
       "version_minor": 0
      },
      "text/plain": [
       "  0%|          | 0/1 [00:00<?, ?it/s]"
      ]
     },
     "metadata": {},
     "output_type": "display_data"
    },
    {
     "name": "stdout",
     "output_type": "stream",
     "text": [
      "CSPR = 14.00 dB\n",
      "12500/12500 [==============================] - 83s 7ms/step\n",
      "Results:\n",
      "BER: 0.00e+00\n",
      "SNR: 21.74 dB\n",
      "SIR =  20.4  dB\n",
      "GMI: 4.00 bits\n",
      "\n"
     ]
    },
    {
     "data": {
      "application/vnd.jupyter.widget-view+json": {
       "model_id": "10acc3143c2249b88cf9305bffc33ba7",
       "version_major": 2,
       "version_minor": 0
      },
      "text/plain": [
       "  0%|          | 0/1 [00:00<?, ?it/s]"
      ]
     },
     "metadata": {},
     "output_type": "display_data"
    },
    {
     "name": "stdout",
     "output_type": "stream",
     "text": [
      "CSPR = 15.00 dB\n",
      "12500/12500 [==============================] - 84s 7ms/step\n",
      "Results:\n",
      "BER: 0.00e+00\n",
      "SNR: 22.33 dB\n",
      "SIR =  20.77  dB\n",
      "GMI: 4.00 bits\n",
      "\n"
     ]
    }
   ],
   "source": [
    "loPower = np.arange(6,16,1)\n",
    "BER = np.zeros((3, len(loPower)))\n",
    "SER = np.zeros((3, len(loPower)))\n",
    "GMI = np.zeros((3, len(loPower)))\n",
    "MI  = np.zeros((3, len(loPower)))\n",
    "SNR = np.zeros((3, len(loPower)))\n",
    "SIR = np.zeros((3, len(loPower)))\n",
    "\n",
    "for indfile in range(0, 5):\n",
    "    for indAlg, alg in enumerate(['KK', 'MLP', 'CONVNET']):\n",
    "        for indPower, Plo_dBm in enumerate(tqdm(loPower)):\n",
    "            \n",
    "            # generate optical signal signal\n",
    "            sigTx, symbTx_, paramTx = simpleWDMTx(paramTx)\n",
    "\n",
    "            # simulate linear signal propagation\n",
    "            sigCh = linFiberCh(sigTx, Ltotal, alpha, D, Fc, Fs)\n",
    "\n",
    "            symbTx = symbTx_[:, :, chIndex]\n",
    "            Plo = 10 ** (Plo_dBm / 10) * 1e-3  # power in W\n",
    "\n",
    "            # generate LO field\n",
    "            π = np.pi\n",
    "            t = np.arange(0, len(sigCh))*Ts\n",
    "            ϕ_pn_lo = phaseNoise(lw, len(sigCh), Ts)\n",
    "\n",
    "            sigLO = np.sqrt(Plo) * np.exp(-1j * (2 * π * FO * t + ϕ_lo + ϕ_pn_lo))\n",
    "\n",
    "            # Add LO to the received signal\n",
    "            sigRx = np.sqrt(Plo) + sigCh* np.exp(1j * (2 * π * FO * t + ϕ_lo + ϕ_pn_lo))\n",
    "            sfm   = sigRx.copy()\n",
    "\n",
    "            print('CSPR = %.2f dB'%(10*np.log10(signal_power(sigLO)/signal_power(sigCh))))\n",
    "\n",
    "            # simulate ideal direct-detection optical receiver\n",
    "            Ipd = photodiode(sigRx, paramPD)\n",
    "            Amp = np.sqrt(Ipd.real)\n",
    "            Amp = resample(Amp, paramADC).real\n",
    "\n",
    "            # resampling to ADC sampling rate\n",
    "            sigCh = resample(sigCh, paramADC)\n",
    "            sfm = resample(sfm, paramADC)\n",
    "            newFs = paramADC.SpS_out*paramTx.Rs\n",
    "\n",
    "            sfm = sfm/np.sqrt(signal_power(sfm))\n",
    "            if alg == 'KK':\n",
    "                # Kramers-Kronig phase-retrieval\n",
    "                phiTime = KramersKronigRx(Amp, newFs)\n",
    "                # optical field reconstruction\n",
    "                sigRx = Amp*np.exp(1j*phiTime)\n",
    "\n",
    "            elif alg == 'MLP':\n",
    "                # Mlp phase-retrieval\n",
    "                model = tf.keras.models.load_model(path_mlp+'testModel_SpS_'+str(paramADC.SpS_out)+'_CSPR_'+str(Plo_dBm)+'dB') \n",
    "                #sigPhase = np.angle(sfm) # get signal phase samples (labels) (L,)\n",
    "                sigAmp  = np.pad(Amp, (int(N/2), int(N/2)), 'constant') # get signal amplitude samples (L,)\n",
    "                # create set of input features\n",
    "                X_input = np.zeros((len(sfm), N)) #(L,N)\n",
    "\n",
    "                for indPhase in range(len(sfm)):\n",
    "                    X_input[indPhase] = sigAmp[indPhase:N+indPhase]\n",
    "\n",
    "                sigRx_NN = model.predict(X_input)\n",
    "                # optical field reconstruction\n",
    "                sigRx = sigRx_NN[:,0]+1j*sigRx_NN[:,1]\n",
    "\n",
    "            elif alg == 'CONVNET':\n",
    "                # ConvNet phase-retrieval\n",
    "                model = tf.keras.models.load_model(path_conv+'testModel_SpS_'+str(paramADC.SpS_out)+'_CSPR_'+str(Plo_dBm)+'dB')\n",
    "                #sigPhase = np.angle(sfm) # get signal phase samples (labels) (L,)\n",
    "                sigAmp  = np.pad(Amp, (int(N/2), int(N/2)), 'constant') # get signal amplitude samples (L,)\n",
    "                # create set of input features\n",
    "                X_input = np.zeros((len(sfm), N)) #(L,N)\n",
    "\n",
    "                for indPhase in range(len(sfm)):\n",
    "                    X_input[indPhase] = sigAmp[indPhase:N+indPhase]\n",
    "\n",
    "                sigRx_NN = model.predict(X_input)\n",
    "                # optical field reconstruction\n",
    "                sigRx = sigRx_NN[:,0]+1j*sigRx_NN[:,1]    \n",
    "\n",
    "            # remove DC level\n",
    "            sigRx -= np.mean(sigRx) # np.sqrt(Plo)  \n",
    "\n",
    "            # downshift to baseband\n",
    "            t = np.arange(0, len(sigRx))*(1/newFs)\n",
    "            sigRx *= np.exp(-1j * (2 * π * FO * t))\n",
    "            \n",
    "            # Matched filtering\n",
    "            if paramTx.pulse == \"nrz\":\n",
    "                pulse = pulseShape(\"nrz\", paramADC.SpS_out)\n",
    "            elif paramTx.pulse == \"rrc\":\n",
    "                pulse = pulseShape(\n",
    "                    \"rrc\", paramADC.SpS_out, N=paramTx.Ntaps, alpha=paramTx.alphaRRC, Ts=1 / paramTx.Rs\n",
    "                )\n",
    "\n",
    "            pulse = pulse / np.max(np.abs(pulse))\n",
    "            sigRx = firFilter(pulse, sigRx)\n",
    "            sigCh = firFilter(pulse, sigCh)\n",
    "            \n",
    "            # correct for (possible) phase ambiguity\n",
    "            rot = np.mean(sigCh/sigRx)\n",
    "            sigRx = rot * sigRx\n",
    "            sigRx = sigRx / np.sqrt(signal_power(sigRx))\n",
    "\n",
    "            intf = sigRx/np.sqrt(signal_power(sigRx))-sigCh/np.sqrt(signal_power(sigCh))\n",
    "\n",
    "            SIR[indAlg, indPower] = 1/signal_power(intf)\n",
    "\n",
    "\n",
    "            # resample to 2 samples/symbol:\n",
    "            paramRes = parameters()\n",
    "            paramRes.Rs = paramTx.Rs\n",
    "            paramRes.SpS_in  = paramADC.SpS_out\n",
    "            paramRes.SpS_out = 2\n",
    "\n",
    "            sigRx = resample(sigRx, paramRes)\n",
    "\n",
    "            # CD compensation\n",
    "            sigRx = edc(sigRx, Ltotal, D, Fc, paramRes.SpS_out*paramTx.Rs)\n",
    "\n",
    "            # Downsampling to 2 sps and re-synchronization with transmitted sequences\n",
    "            sigRx = sigRx.reshape(-1, 1)\n",
    "\n",
    "            symbRx = symbolSync(sigRx, symbTx, 2)\n",
    "\n",
    "            # Power normalization\n",
    "            x = sigRx\n",
    "            d = symbRx\n",
    "\n",
    "            x = x.reshape(len(x), 1) / np.sqrt(signal_power(x))\n",
    "            d = d.reshape(len(d), 1) / np.sqrt(signal_power(d))\n",
    "\n",
    "            # Adaptive equalization\n",
    "            mod = QAMModem(m=paramTx.M)\n",
    "\n",
    "            paramEq = parameters()\n",
    "            paramEq.nTaps = 15\n",
    "            paramEq.SpS = 2\n",
    "            paramEq.mu = [1e-3, 5e-4]\n",
    "            paramEq.numIter = 5\n",
    "            paramEq.storeCoeff = False\n",
    "            paramEq.alg = [\"da-rde\", \"rde\"]\n",
    "            paramEq.M = paramTx.M\n",
    "            paramEq.L = [20000, 80000]\n",
    "            paramEq.prgsBar = False\n",
    "\n",
    "            y_EQ, H, errSq, Hiter = mimoAdaptEqualizer(x, dx=d, paramEq=paramEq)\n",
    "\n",
    "            # Carrier phase recovery\n",
    "            paramCPR = parameters()\n",
    "            paramCPR.alg = \"bps\"\n",
    "            paramCPR.M = paramTx.M\n",
    "            paramCPR.N = 85\n",
    "            paramCPR.B = 64\n",
    "            paramCPR.pilotInd = np.arange(0, len(y_EQ), 20)\n",
    "\n",
    "            y_CPR, θ = cpr(y_EQ, symbTx=d, paramCPR=paramCPR)\n",
    "\n",
    "            y_CPR = y_CPR / np.sqrt(signal_power(y_CPR))\n",
    "\n",
    "            # correct for (possible) phase ambiguity\n",
    "            for k in range(y_CPR.shape[1]):\n",
    "                rot = np.mean(d[:, k] / y_CPR[:, k])\n",
    "                y_CPR[:, k] = rot * y_CPR[:, k]\n",
    "\n",
    "            y_CPR = y_CPR / np.sqrt(signal_power(y_CPR))\n",
    "\n",
    "            discard = int(paramEq.L[0]/2)\n",
    "\n",
    "            ind = np.arange(discard, d.shape[0] - discard)\n",
    "            BER[indAlg,indPower], SER[indAlg,indPower], SNR[indAlg,indPower] = fastBERcalc(y_CPR[ind, :], d[ind, :], paramTx.M, 'qam')\n",
    "            GMI[indAlg,indPower], _ = monteCarloGMI(y_CPR[ind, :], d[ind, :],  paramTx.M, 'qam')\n",
    "            MI[indAlg,indPower] = monteCarloMI(y_CPR[ind, :], d[ind, :],  paramTx.M, 'qam')\n",
    "\n",
    "            print(\"Results:\")\n",
    "            print(\"BER: %.2e\" %(BER[indAlg,indPower]))\n",
    "            print(\"SNR: %.2f dB\" %(SNR[indAlg,indPower]))\n",
    "            print('SIR = ', round(10*np.log10(SIR[indAlg,indPower]), 2), ' dB')\n",
    "            print(\"GMI: %.2f bits\\n\" %(GMI[indAlg,indPower]))\n",
    "\n",
    "    if saveData:      \n",
    "        # save the simulation data\n",
    "        np.save(path_data+'CSPR_BER_SpS_'+str(paramADC.SpS_out)+'_'+str(N)+'_Sample_'+str(indfile)+'_DataPermuted', BER)\n",
    "        np.save(path_data+'CSPR_SNR_SpS_'+str(paramADC.SpS_out)+'_'+str(N)+'_Sample_'+str(indfile)+'_DataPermuted', SNR)\n",
    "        np.save(path_data+'CSPR_SIR_SpS_'+str(paramADC.SpS_out)+'_'+str(N)+'_Sample_'+str(indfile)+'_DataPermuted', SIR)\n",
    "        np.save(path_data+'CSPR_SER_SpS_'+str(paramADC.SpS_out)+'_'+str(N)+'_Sample_'+str(indfile)+'_DataPermuted', SER)"
   ]
  },
  {
   "attachments": {},
   "cell_type": "markdown",
   "metadata": {},
   "source": [
    "## Simulation of a single polarization optical signal transmission"
   ]
  },
  {
   "cell_type": "code",
   "execution_count": 17,
   "metadata": {},
   "outputs": [],
   "source": [
    "## Transmitter parameters:\n",
    "paramTx = parameters()\n",
    "paramTx.M = 16                 # order of the modulation format\n",
    "paramTx.Rs = 32e9              # symbol rate [baud]\n",
    "paramTx.SpS = 4                # samples per symbol\n",
    "paramTx.Nbits = 400000         # total number of bits per polarization\n",
    "paramTx.pulse = \"rrc\"          # pulse shaping filter\n",
    "paramTx.Ntaps = 1024           # number of pulse shaping filter coefficients\n",
    "paramTx.alphaRRC = 0.05        # RRC rolloff\n",
    "paramTx.Pch_dBm = 0            # power of the optical signal [dBm]\n",
    "paramTx.Nch = 1                # number of WDM channels\n",
    "paramTx.Fc = 193.1e12          # central frequency of the optical spectrum\n",
    "paramTx.freqSpac = 37.5e9      # WDM grid spacing\n",
    "\n",
    "## Optical channel parameters:\n",
    "Ltotal = 100     # total link distance [km]\n",
    "alpha = 0        # fiber loss parameter [dB/km]\n",
    "D = 17           # fiber dispersion parameter [ps/nm/km]\n",
    "Fc = paramTx.Fc  # central optical frequency of the WDM spectrum [Hz]\n",
    "\n",
    "## Receiver parameters:\n",
    "\n",
    "# local oscillator (LO)\n",
    "FO = paramTx.Rs/2  # frequency offset\n",
    "lw = 0*200e3       # linewidth\n",
    "ϕ_lo = 0           # initial phase in rad\n",
    "#Plo_dBm = 12      # power in dBm\n",
    "\n",
    "# ADC sampling rate\n",
    "paramADC = parameters()\n",
    "paramADC.Rs = paramTx.Rs\n",
    "paramADC.SpS_in = paramTx.SpS\n",
    "paramADC.SpS_out = 4\n",
    "\n",
    "## General simulation parameters:\n",
    "chIndex = 0  # index of the channel to be demodulated\n",
    "plotPSD = True\n",
    "Fs = paramTx.Rs * paramTx.SpS  # simulation sampling rate\n",
    "Ts = 1 / Fs\n",
    "\n",
    "# photodiode parameters\n",
    "paramPD = parameters()\n",
    "paramPD.B  = 1.1*paramTx.Rs\n",
    "paramPD.Fs = Fs"
   ]
  },
  {
   "attachments": {},
   "cell_type": "markdown",
   "metadata": {},
   "source": [
    "## Run all CSPR variations AWGN"
   ]
  },
  {
   "cell_type": "code",
   "execution_count": null,
   "metadata": {},
   "outputs": [],
   "source": [
    "loPower = np.arange(6,16,1)\n",
    "SNR_values = np.arange(8,25,1)\n",
    "\n",
    "BER = np.zeros((3, len(loPower), len(SNR_values)))\n",
    "SER = np.zeros((3, len(loPower), len(SNR_values)))\n",
    "GMI = np.zeros((3, len(loPower), len(SNR_values)))\n",
    "MI  = np.zeros((3, len(loPower), len(SNR_values)))\n",
    "SNR = np.zeros((3, len(loPower), len(SNR_values)))\n",
    "SIR = np.zeros((3, len(loPower), len(SNR_values)))\n",
    "\n",
    "for indfile in range(0, 1):\n",
    "    for indAlg, alg in enumerate(['KK', 'MLP', 'CONVNET']):\n",
    "        for indPower, Plo_dBm in enumerate(tqdm(loPower)):\n",
    "            for indSNR, SNRdB in enumerate(tqdm(SNR_values)):\n",
    "\n",
    "                # generate optical signal signal\n",
    "                sigTx, symbTx_, paramTx = simpleWDMTx(paramTx)\n",
    "                        \n",
    "                # simulate linear signal propagation\n",
    "                sigCh = linFiberCh(sigTx, Ltotal, alpha, D, Fc, Fs)\n",
    "                # AWGN channel\n",
    "                sigCh = awgn(sigCh, SNRdB, Fs, paramPD.B)\n",
    "                \n",
    "                symbTx = symbTx_[:, :, chIndex]\n",
    "                Plo = 10 ** (Plo_dBm / 10) * 1e-3  # power in W\n",
    "                \n",
    "                # generate LO field\n",
    "                π = np.pi\n",
    "                t = np.arange(0, len(sigCh))*Ts\n",
    "                ϕ_pn_lo = phaseNoise(lw, len(sigCh), Ts)\n",
    "\n",
    "                sigLO = np.sqrt(Plo) * np.exp(-1j * (2 * π * FO * t + ϕ_lo + ϕ_pn_lo))\n",
    "\n",
    "                # Add LO to the received signal\n",
    "                sigRx = np.sqrt(Plo) + sigCh* np.exp(1j * (2 * π * FO * t + ϕ_lo + ϕ_pn_lo))\n",
    "                sfm   = sigRx.copy()\n",
    "\n",
    "                print('CSPR = %.2f dB'%(10*np.log10(signal_power(sigLO)/signal_power(sigTx))))\n",
    "\n",
    "                # simulate ideal direct-detection optical receiver\n",
    "                Ipd = photodiode(sigRx, paramPD)\n",
    "                Amp = np.sqrt(Ipd.real)\n",
    "                Amp = resample(Amp, paramADC).real\n",
    "\n",
    "                # resampling to ADC sampling rate\n",
    "                sigCh = resample(sigCh, paramADC)\n",
    "                sfm = resample(sfm, paramADC)\n",
    "                newFs = paramADC.SpS_out*paramTx.Rs\n",
    "\n",
    "                sfm = sfm/np.sqrt(signal_power(sfm))\n",
    "                if alg == 'KK':\n",
    "                    # Kramers-Kronig phase-retrieval\n",
    "                    phiTime = KramersKronigRx(Amp, newFs)\n",
    "                    # optical field reconstruction\n",
    "                    sigRx = Amp*np.exp(1j*phiTime)\n",
    "\n",
    "                elif alg == 'MLP':\n",
    "                    # Mlp phase-retrieval\n",
    "                    model = tf.keras.models.load_model(path_mlp+'testModel_SpS_'+str(paramADC.SpS_out)+'_CSPR_'+str(Plo_dBm)+'dB_debugTrain') \n",
    "                    #sigPhase = np.angle(sfm) # get signal phase samples (labels) (L,)\n",
    "                    sigAmp  = np.pad(Amp, (int(N/2), int(N/2)), 'constant') # get signal amplitude samples (L,)\n",
    "                    # create set of input features\n",
    "                    X_input = np.zeros((len(sfm), N)) #(L,N)\n",
    "\n",
    "                    for indPhase in range(len(sfm)):\n",
    "                        X_input[indPhase] = sigAmp[indPhase:N+indPhase]\n",
    "\n",
    "                    sigRx_NN = model.predict(X_input)\n",
    "                    # optical field reconstruction\n",
    "                    sigRx = sigRx_NN[:,0]+1j*sigRx_NN[:,1]\n",
    "\n",
    "                elif alg == 'CONVNET':\n",
    "                    # ConvNet phase-retrieval\n",
    "                    model = tf.keras.models.load_model(path_conv+'testModel_SpS_'+str(paramADC.SpS_out)+'_CSPR_'+str(Plo_dBm)+'dB_debugTrain')\n",
    "                    #sigPhase = np.angle(sfm) # get signal phase samples (labels) (L,)\n",
    "                    sigAmp  = np.pad(Amp, (int(N/2), int(N/2)), 'constant') # get signal amplitude samples (L,)\n",
    "                    # create set of input features\n",
    "                    X_input = np.zeros((len(sfm), N)) #(L,N)\n",
    "\n",
    "                    for indPhase in range(len(sfm)):\n",
    "                        X_input[indPhase] = sigAmp[indPhase:N+indPhase]\n",
    "\n",
    "                    sigRx_NN = model.predict(X_input)\n",
    "                    # optical field reconstruction\n",
    "                    sigRx = sigRx_NN[:,0]+1j*sigRx_NN[:,1]    \n",
    "\n",
    "                # remove DC level\n",
    "                sigRx -= np.mean(sigRx) # np.sqrt(Plo)  \n",
    "\n",
    "                # downshift to baseband\n",
    "                t = np.arange(0, len(sigRx))*(1/newFs)\n",
    "                sigRx *= np.exp(-1j * (2 * π * FO * t))\n",
    "                \n",
    "                # Matched filtering\n",
    "                if paramTx.pulse == \"nrz\":\n",
    "                    pulse = pulseShape(\"nrz\", paramADC.SpS_out)\n",
    "                elif paramTx.pulse == \"rrc\":\n",
    "                    pulse = pulseShape(\n",
    "                        \"rrc\", paramADC.SpS_out, N=paramTx.Ntaps, alpha=paramTx.alphaRRC, Ts=1 / paramTx.Rs\n",
    "                    )\n",
    "\n",
    "                pulse = pulse / np.max(np.abs(pulse))\n",
    "                sigRx = firFilter(pulse, sigRx)\n",
    "                sigCh = firFilter(pulse, sigCh)\n",
    "                \n",
    "                # correct for (possible) phase ambiguity\n",
    "                rot = np.mean(sigCh/sigRx)\n",
    "                sigRx = rot * sigRx\n",
    "                sigRx = sigRx / np.sqrt(signal_power(sigRx))\n",
    "\n",
    "                intf = sigRx/np.sqrt(signal_power(sigRx))-sigCh/np.sqrt(signal_power(sigCh))\n",
    "\n",
    "                SIR[indAlg, indPower] = 1/signal_power(intf)\n",
    "\n",
    "\n",
    "                # resample to 2 samples/symbol:\n",
    "                paramRes = parameters()\n",
    "                paramRes.Rs = paramTx.Rs\n",
    "                paramRes.SpS_in  = paramADC.SpS_out\n",
    "                paramRes.SpS_out = 2\n",
    "\n",
    "                sigRx = resample(sigRx, paramRes)\n",
    "\n",
    "                # CD compensation\n",
    "                sigRx = edc(sigRx, Ltotal, D, Fc, paramRes.SpS_out*paramTx.Rs)\n",
    "\n",
    "                # Downsampling to 2 sps and re-synchronization with transmitted sequences\n",
    "                sigRx = sigRx.reshape(-1, 1)\n",
    "\n",
    "                symbRx = symbolSync(sigRx, symbTx, 2)\n",
    "\n",
    "                # Power normalization\n",
    "                x = sigRx\n",
    "                d = symbRx\n",
    "\n",
    "                x = x.reshape(len(x), 1) / np.sqrt(signal_power(x))\n",
    "                d = d.reshape(len(d), 1) / np.sqrt(signal_power(d))\n",
    "\n",
    "                # Adaptive equalization\n",
    "                mod = QAMModem(m=paramTx.M)\n",
    "\n",
    "                paramEq = parameters()\n",
    "                paramEq.nTaps = 15\n",
    "                paramEq.SpS = 2\n",
    "                paramEq.mu = [1e-3, 5e-4]\n",
    "                paramEq.numIter = 5\n",
    "                paramEq.storeCoeff = False\n",
    "                paramEq.alg = [\"da-rde\", \"rde\"]\n",
    "                paramEq.M = paramTx.M\n",
    "                paramEq.L = [20000, 80000]\n",
    "                paramEq.prgsBar = False\n",
    "\n",
    "                y_EQ, H, errSq, Hiter = mimoAdaptEqualizer(x, dx=d, paramEq=paramEq)\n",
    "\n",
    "                # Carrier phase recovery\n",
    "                paramCPR = parameters()\n",
    "                paramCPR.alg = \"bps\"\n",
    "                paramCPR.M = paramTx.M\n",
    "                paramCPR.N = 85\n",
    "                paramCPR.B = 64\n",
    "                paramCPR.pilotInd = np.arange(0, len(y_EQ), 20)\n",
    "\n",
    "                y_CPR, θ = cpr(y_EQ, symbTx=d, paramCPR=paramCPR)\n",
    "\n",
    "                y_CPR = y_CPR / np.sqrt(signal_power(y_CPR))\n",
    "\n",
    "                # correct for (possible) phase ambiguity\n",
    "                for k in range(y_CPR.shape[1]):\n",
    "                    rot = np.mean(d[:, k] / y_CPR[:, k])\n",
    "                    y_CPR[:, k] = rot * y_CPR[:, k]\n",
    "\n",
    "                y_CPR = y_CPR / np.sqrt(signal_power(y_CPR))\n",
    "\n",
    "                discard = int(paramEq.L[0]/2)\n",
    "\n",
    "                ind = np.arange(discard, d.shape[0] - discard)\n",
    "                BER[indAlg,indPower,indSNR], SER[indAlg,indPower,indSNR], SNR[indAlg,indPower,indSNR] = fastBERcalc(y_CPR[ind, :], d[ind, :], paramTx.M, 'qam')\n",
    "                GMI[indAlg,indPower,indSNR], _ = monteCarloGMI(y_CPR[ind, :], d[ind, :],  paramTx.M, 'qam')\n",
    "                MI[indAlg,indPower,indSNR] = monteCarloMI(y_CPR[ind, :], d[ind, :],  paramTx.M, 'qam')\n",
    "\n",
    "                print(\"Results:\")\n",
    "                print(\"BER: %.2e\" %(BER[indAlg,indPower,indSNR]))\n",
    "                print(\"SNR: %.2f dB\" %(SNR[indAlg,indPower,indSNR]))\n",
    "                print('SIR = ', round(10*np.log10(SIR[indAlg,indPower,indSNR]), 2), ' dB')\n",
    "                print(\"GMI: %.2f bits\\n\" %(GMI[indAlg,indPower,indSNR]))\n",
    "\n",
    "    if saveData:      \n",
    "        # save the simulation data\n",
    "        np.save(path_data+'CSPR_BER_SpS_'+str(paramADC.SpS_out)+'_'+str(N)+'_Sample_'+str(indfile)+str('_AWGN_debug'), BER)\n",
    "        np.save(path_data+'CSPR_SNR_SpS_'+str(paramADC.SpS_out)+'_'+str(N)+'_Sample_'+str(indfile)+str('_AWGN_debug'), SNR)\n",
    "        np.save(path_data+'CSPR_SIR_SpS_'+str(paramADC.SpS_out)+'_'+str(N)+'_Sample_'+str(indfile)+str('_AWGN_debug'), SIR)\n",
    "        np.save(path_data+'CSPR_SER_SpS_'+str(paramADC.SpS_out)+'_'+str(N)+'_Sample_'+str(indfile)+str('_AWGN_debug'), SER)"
   ]
  },
  {
   "attachments": {},
   "cell_type": "markdown",
   "metadata": {},
   "source": [
    "## Simulation of a single polarization optical signal transmission"
   ]
  },
  {
   "cell_type": "code",
   "execution_count": 3,
   "metadata": {},
   "outputs": [],
   "source": [
    "## Transmitter parameters:\n",
    "paramTx = parameters()                                                                                              \n",
    "paramTx.M = 16                 # order of the modulation format\n",
    "paramTx.Rs = 32e9              # symbol rate [baud]\n",
    "paramTx.SpS = 4                # samples per symbol\n",
    "paramTx.Nbits = 400000         # total number of bits per polarization\n",
    "paramTx.pulse = \"rrc\"          # pulse shaping filter\n",
    "paramTx.Ntaps = 1024           # number of pulse shaping filter coefficients\n",
    "# paramTx.alphaRRC = 0.5       # RRC rolloff\n",
    "paramTx.Pch_dBm = 0            # power of the optical signal [dBm]\n",
    "paramTx.Nch = 1                # number of WDM channels\n",
    "paramTx.Fc = 193.1e12          # central frequency of the optical spectrum\n",
    "paramTx.freqSpac = 37.5e9      # WDM grid spacing\n",
    "\n",
    "## Optical channel parameters:\n",
    "Ltotal = 100     # total link distance [km]\n",
    "alpha = 0        # fiber loss parameter [dB/km]\n",
    "D = 16           # fiber dispersion parameter [ps/nm/km]\n",
    "Fc = paramTx.Fc  # central optical frequency of the WDM spectrum [Hz]\n",
    "\n",
    "## Receiver parameters:\n",
    "\n",
    "# local oscillator (LO)\n",
    "FO = paramTx.Rs/2  # frequency offset\n",
    "lw = 0*200e3       # linewidth\n",
    "ϕ_lo = 0           # initial phase in rad\n",
    "Plo_dBm = 12       # power in dBm\n",
    "\n",
    "# ADC sampling rate\n",
    "paramADC = parameters()\n",
    "paramADC.Rs = paramTx.Rs\n",
    "paramADC.SpS_in = paramTx.SpS\n",
    "paramADC.SpS_out = 4\n",
    "\n",
    "## General simulation parameters:\n",
    "chIndex = 0  # index of the channel to be demodulated\n",
    "plotPSD = True\n",
    "Fs = paramTx.Rs * paramTx.SpS  # simulation sampling rate\n",
    "Ts = 1 / Fs\n",
    "\n",
    "# photodiode parameters\n",
    "paramPD = parameters()\n",
    "paramPD.B  = 1.1*paramTx.Rs\n",
    "paramPD.Fs = Fs"
   ]
  },
  {
   "attachments": {},
   "cell_type": "markdown",
   "metadata": {},
   "source": [
    "## Run all Roll-off variations"
   ]
  },
  {
   "cell_type": "code",
   "execution_count": 5,
   "metadata": {},
   "outputs": [
    {
     "data": {
      "application/vnd.jupyter.widget-view+json": {
       "model_id": "4200ac3125244319868c3d388441d911",
       "version_major": 2,
       "version_minor": 0
      },
      "text/plain": [
       "  0%|          | 0/18 [00:00<?, ?it/s]"
      ]
     },
     "metadata": {},
     "output_type": "display_data"
    },
    {
     "data": {
      "application/vnd.jupyter.widget-view+json": {
       "model_id": "c32d8d8f020b43c282d56ee3b847b025",
       "version_major": 2,
       "version_minor": 0
      },
      "text/plain": [
       "  0%|          | 0/1 [00:00<?, ?it/s]"
      ]
     },
     "metadata": {},
     "output_type": "display_data"
    },
    {
     "name": "stdout",
     "output_type": "stream",
     "text": [
      "CSPR = 12.00 dB\n",
      "Results:\n",
      "BER: 0.00e+00\n",
      "SNR: 24.03 dB\n",
      "SIR =  22.93  dB\n",
      "GMI: 4.00 bits\n",
      "\n"
     ]
    },
    {
     "data": {
      "application/vnd.jupyter.widget-view+json": {
       "model_id": "e1ab5aa15dc245ffa35d1d859b796d21",
       "version_major": 2,
       "version_minor": 0
      },
      "text/plain": [
       "  0%|          | 0/1 [00:00<?, ?it/s]"
      ]
     },
     "metadata": {},
     "output_type": "display_data"
    },
    {
     "name": "stdout",
     "output_type": "stream",
     "text": [
      "CSPR = 12.00 dB\n",
      "Results:\n",
      "BER: 0.00e+00\n",
      "SNR: 22.35 dB\n",
      "SIR =  19.78  dB\n",
      "GMI: 4.00 bits\n",
      "\n"
     ]
    },
    {
     "data": {
      "application/vnd.jupyter.widget-view+json": {
       "model_id": "62e849acfe2d4015ad55f8a4eaf96d60",
       "version_major": 2,
       "version_minor": 0
      },
      "text/plain": [
       "  0%|          | 0/1 [00:00<?, ?it/s]"
      ]
     },
     "metadata": {},
     "output_type": "display_data"
    },
    {
     "name": "stdout",
     "output_type": "stream",
     "text": [
      "CSPR = 12.00 dB\n",
      "Results:\n",
      "BER: 0.00e+00\n",
      "SNR: 22.09 dB\n",
      "SIR =  17.93  dB\n",
      "GMI: 4.00 bits\n",
      "\n"
     ]
    },
    {
     "data": {
      "application/vnd.jupyter.widget-view+json": {
       "model_id": "8f016dccef25423e95183e2c3c14af98",
       "version_major": 2,
       "version_minor": 0
      },
      "text/plain": [
       "  0%|          | 0/1 [00:00<?, ?it/s]"
      ]
     },
     "metadata": {},
     "output_type": "display_data"
    },
    {
     "name": "stdout",
     "output_type": "stream",
     "text": [
      "CSPR = 12.00 dB\n",
      "Results:\n",
      "BER: 0.00e+00\n",
      "SNR: 22.11 dB\n",
      "SIR =  16.73  dB\n",
      "GMI: 4.00 bits\n",
      "\n"
     ]
    },
    {
     "data": {
      "application/vnd.jupyter.widget-view+json": {
       "model_id": "30e4e657ce294f30931c37ca57373f12",
       "version_major": 2,
       "version_minor": 0
      },
      "text/plain": [
       "  0%|          | 0/1 [00:00<?, ?it/s]"
      ]
     },
     "metadata": {},
     "output_type": "display_data"
    },
    {
     "name": "stdout",
     "output_type": "stream",
     "text": [
      "CSPR = 12.00 dB\n",
      "Results:\n",
      "BER: 0.00e+00\n",
      "SNR: 21.99 dB\n",
      "SIR =  15.73  dB\n",
      "GMI: 4.00 bits\n",
      "\n"
     ]
    },
    {
     "data": {
      "application/vnd.jupyter.widget-view+json": {
       "model_id": "f8e9786bafb64b14b0b1999196be620d",
       "version_major": 2,
       "version_minor": 0
      },
      "text/plain": [
       "  0%|          | 0/1 [00:00<?, ?it/s]"
      ]
     },
     "metadata": {},
     "output_type": "display_data"
    },
    {
     "name": "stdout",
     "output_type": "stream",
     "text": [
      "CSPR = 12.00 dB\n",
      "Results:\n",
      "BER: 3.13e-06\n",
      "SNR: 21.50 dB\n",
      "SIR =  14.85  dB\n",
      "GMI: 4.00 bits\n",
      "\n"
     ]
    },
    {
     "data": {
      "application/vnd.jupyter.widget-view+json": {
       "model_id": "d5bff73546714f338771f567624cac81",
       "version_major": 2,
       "version_minor": 0
      },
      "text/plain": [
       "  0%|          | 0/1 [00:00<?, ?it/s]"
      ]
     },
     "metadata": {},
     "output_type": "display_data"
    },
    {
     "name": "stdout",
     "output_type": "stream",
     "text": [
      "CSPR = 12.00 dB\n",
      "Results:\n",
      "BER: 6.25e-06\n",
      "SNR: 21.12 dB\n",
      "SIR =  14.13  dB\n",
      "GMI: 4.00 bits\n",
      "\n"
     ]
    },
    {
     "data": {
      "application/vnd.jupyter.widget-view+json": {
       "model_id": "2b6a3231f6dd489096a7eb2683f04e1d",
       "version_major": 2,
       "version_minor": 0
      },
      "text/plain": [
       "  0%|          | 0/1 [00:00<?, ?it/s]"
      ]
     },
     "metadata": {},
     "output_type": "display_data"
    },
    {
     "name": "stdout",
     "output_type": "stream",
     "text": [
      "CSPR = 12.00 dB\n",
      "Results:\n",
      "BER: 1.56e-05\n",
      "SNR: 20.66 dB\n",
      "SIR =  13.49  dB\n",
      "GMI: 4.00 bits\n",
      "\n"
     ]
    },
    {
     "data": {
      "application/vnd.jupyter.widget-view+json": {
       "model_id": "a0c043beddf641f6a19f2461f32e64d3",
       "version_major": 2,
       "version_minor": 0
      },
      "text/plain": [
       "  0%|          | 0/1 [00:00<?, ?it/s]"
      ]
     },
     "metadata": {},
     "output_type": "display_data"
    },
    {
     "name": "stdout",
     "output_type": "stream",
     "text": [
      "CSPR = 12.00 dB\n",
      "Results:\n",
      "BER: 9.37e-06\n",
      "SNR: 20.30 dB\n",
      "SIR =  12.98  dB\n",
      "GMI: 4.00 bits\n",
      "\n"
     ]
    },
    {
     "data": {
      "application/vnd.jupyter.widget-view+json": {
       "model_id": "baea40a047614e59bb8f49bd5478f87a",
       "version_major": 2,
       "version_minor": 0
      },
      "text/plain": [
       "  0%|          | 0/1 [00:00<?, ?it/s]"
      ]
     },
     "metadata": {},
     "output_type": "display_data"
    },
    {
     "name": "stdout",
     "output_type": "stream",
     "text": [
      "CSPR = 12.00 dB\n",
      "Results:\n",
      "BER: 2.50e-05\n",
      "SNR: 20.00 dB\n",
      "SIR =  12.45  dB\n",
      "GMI: 4.00 bits\n",
      "\n"
     ]
    },
    {
     "data": {
      "application/vnd.jupyter.widget-view+json": {
       "model_id": "fed398dbd1704b13b0f7f3c3bda8be13",
       "version_major": 2,
       "version_minor": 0
      },
      "text/plain": [
       "  0%|          | 0/1 [00:00<?, ?it/s]"
      ]
     },
     "metadata": {},
     "output_type": "display_data"
    },
    {
     "name": "stdout",
     "output_type": "stream",
     "text": [
      "CSPR = 12.00 dB\n",
      "Results:\n",
      "BER: 2.81e-05\n",
      "SNR: 19.71 dB\n",
      "SIR =  12.04  dB\n",
      "GMI: 4.00 bits\n",
      "\n"
     ]
    },
    {
     "data": {
      "application/vnd.jupyter.widget-view+json": {
       "model_id": "9e93c55f99a74225b6c38d17c2b5b7b1",
       "version_major": 2,
       "version_minor": 0
      },
      "text/plain": [
       "  0%|          | 0/1 [00:00<?, ?it/s]"
      ]
     },
     "metadata": {},
     "output_type": "display_data"
    },
    {
     "name": "stdout",
     "output_type": "stream",
     "text": [
      "CSPR = 12.00 dB\n",
      "Results:\n",
      "BER: 8.44e-05\n",
      "SNR: 19.36 dB\n",
      "SIR =  11.6  dB\n",
      "GMI: 4.00 bits\n",
      "\n"
     ]
    },
    {
     "data": {
      "application/vnd.jupyter.widget-view+json": {
       "model_id": "0473bc563bf140269c6e546703723bba",
       "version_major": 2,
       "version_minor": 0
      },
      "text/plain": [
       "  0%|          | 0/1 [00:00<?, ?it/s]"
      ]
     },
     "metadata": {},
     "output_type": "display_data"
    },
    {
     "name": "stdout",
     "output_type": "stream",
     "text": [
      "CSPR = 12.00 dB\n",
      "Results:\n",
      "BER: 4.69e-05\n",
      "SNR: 19.15 dB\n",
      "SIR =  11.27  dB\n",
      "GMI: 4.00 bits\n",
      "\n"
     ]
    },
    {
     "data": {
      "application/vnd.jupyter.widget-view+json": {
       "model_id": "d292bd9458b242f0ab42151253305664",
       "version_major": 2,
       "version_minor": 0
      },
      "text/plain": [
       "  0%|          | 0/1 [00:00<?, ?it/s]"
      ]
     },
     "metadata": {},
     "output_type": "display_data"
    },
    {
     "name": "stdout",
     "output_type": "stream",
     "text": [
      "CSPR = 12.00 dB\n",
      "Results:\n",
      "BER: 7.50e-05\n",
      "SNR: 18.74 dB\n",
      "SIR =  10.8  dB\n",
      "GMI: 4.00 bits\n",
      "\n"
     ]
    },
    {
     "data": {
      "application/vnd.jupyter.widget-view+json": {
       "model_id": "07595c27dd004addbaf4c3d02e3c59f5",
       "version_major": 2,
       "version_minor": 0
      },
      "text/plain": [
       "  0%|          | 0/1 [00:00<?, ?it/s]"
      ]
     },
     "metadata": {},
     "output_type": "display_data"
    },
    {
     "name": "stdout",
     "output_type": "stream",
     "text": [
      "CSPR = 12.00 dB\n",
      "Results:\n",
      "BER: 1.59e-04\n",
      "SNR: 18.47 dB\n",
      "SIR =  10.46  dB\n",
      "GMI: 4.00 bits\n",
      "\n"
     ]
    },
    {
     "data": {
      "application/vnd.jupyter.widget-view+json": {
       "model_id": "b4b2a03e32ea41a8bfea70cc9ad8846f",
       "version_major": 2,
       "version_minor": 0
      },
      "text/plain": [
       "  0%|          | 0/1 [00:00<?, ?it/s]"
      ]
     },
     "metadata": {},
     "output_type": "display_data"
    },
    {
     "name": "stdout",
     "output_type": "stream",
     "text": [
      "CSPR = 12.00 dB\n",
      "Results:\n",
      "BER: 1.59e-04\n",
      "SNR: 18.27 dB\n",
      "SIR =  10.12  dB\n",
      "GMI: 4.00 bits\n",
      "\n"
     ]
    },
    {
     "data": {
      "application/vnd.jupyter.widget-view+json": {
       "model_id": "14f3774c867e41f6a87c65ff4e563cb0",
       "version_major": 2,
       "version_minor": 0
      },
      "text/plain": [
       "  0%|          | 0/1 [00:00<?, ?it/s]"
      ]
     },
     "metadata": {},
     "output_type": "display_data"
    },
    {
     "name": "stdout",
     "output_type": "stream",
     "text": [
      "CSPR = 12.00 dB\n",
      "Results:\n",
      "BER: 2.25e-04\n",
      "SNR: 18.02 dB\n",
      "SIR =  9.82  dB\n",
      "GMI: 4.00 bits\n",
      "\n"
     ]
    },
    {
     "data": {
      "application/vnd.jupyter.widget-view+json": {
       "model_id": "1ce6da41a2da4d6792ae84ec5a46a78b",
       "version_major": 2,
       "version_minor": 0
      },
      "text/plain": [
       "  0%|          | 0/1 [00:00<?, ?it/s]"
      ]
     },
     "metadata": {},
     "output_type": "display_data"
    },
    {
     "name": "stdout",
     "output_type": "stream",
     "text": [
      "CSPR = 12.00 dB\n",
      "Results:\n",
      "BER: 3.34e-04\n",
      "SNR: 17.82 dB\n",
      "SIR =  9.56  dB\n",
      "GMI: 3.99 bits\n",
      "\n"
     ]
    },
    {
     "data": {
      "application/vnd.jupyter.widget-view+json": {
       "model_id": "2273988f91d14e8187c910b363c64542",
       "version_major": 2,
       "version_minor": 0
      },
      "text/plain": [
       "  0%|          | 0/18 [00:00<?, ?it/s]"
      ]
     },
     "metadata": {},
     "output_type": "display_data"
    },
    {
     "data": {
      "application/vnd.jupyter.widget-view+json": {
       "model_id": "a14a8e9055d54cc085cfb98a7373168b",
       "version_major": 2,
       "version_minor": 0
      },
      "text/plain": [
       "  0%|          | 0/1 [00:00<?, ?it/s]"
      ]
     },
     "metadata": {},
     "output_type": "display_data"
    },
    {
     "name": "stdout",
     "output_type": "stream",
     "text": [
      "CSPR = 12.00 dB\n",
      "12500/12500 [==============================] - 8s 665us/step\n",
      "Results:\n",
      "BER: 6.25e-06\n",
      "SNR: 22.72 dB\n",
      "SIR =  22.1  dB\n",
      "GMI: 4.00 bits\n",
      "\n"
     ]
    },
    {
     "data": {
      "application/vnd.jupyter.widget-view+json": {
       "model_id": "e87e21f69b264384a3a32731919765ed",
       "version_major": 2,
       "version_minor": 0
      },
      "text/plain": [
       "  0%|          | 0/1 [00:00<?, ?it/s]"
      ]
     },
     "metadata": {},
     "output_type": "display_data"
    },
    {
     "name": "stdout",
     "output_type": "stream",
     "text": [
      "CSPR = 12.00 dB\n",
      "12500/12500 [==============================] - 9s 713us/step\n",
      "Results:\n",
      "BER: 3.13e-06\n",
      "SNR: 21.75 dB\n",
      "SIR =  20.29  dB\n",
      "GMI: 4.00 bits\n",
      "\n"
     ]
    },
    {
     "data": {
      "application/vnd.jupyter.widget-view+json": {
       "model_id": "2444327363fd40658a87768a0385f974",
       "version_major": 2,
       "version_minor": 0
      },
      "text/plain": [
       "  0%|          | 0/1 [00:00<?, ?it/s]"
      ]
     },
     "metadata": {},
     "output_type": "display_data"
    },
    {
     "name": "stdout",
     "output_type": "stream",
     "text": [
      "CSPR = 12.00 dB\n",
      "12500/12500 [==============================] - 8s 639us/step\n",
      "Results:\n",
      "BER: 6.25e-06\n",
      "SNR: 21.79 dB\n",
      "SIR =  19.09  dB\n",
      "GMI: 4.00 bits\n",
      "\n"
     ]
    },
    {
     "data": {
      "application/vnd.jupyter.widget-view+json": {
       "model_id": "df3653c7249944ca859ce96b10be044c",
       "version_major": 2,
       "version_minor": 0
      },
      "text/plain": [
       "  0%|          | 0/1 [00:00<?, ?it/s]"
      ]
     },
     "metadata": {},
     "output_type": "display_data"
    },
    {
     "name": "stdout",
     "output_type": "stream",
     "text": [
      "CSPR = 12.00 dB\n",
      "12500/12500 [==============================] - 8s 659us/step\n",
      "Results:\n",
      "BER: 3.13e-06\n",
      "SNR: 21.22 dB\n",
      "SIR =  17.7  dB\n",
      "GMI: 4.00 bits\n",
      "\n"
     ]
    },
    {
     "data": {
      "application/vnd.jupyter.widget-view+json": {
       "model_id": "1dcd558b32b441dda225e8e36b641107",
       "version_major": 2,
       "version_minor": 0
      },
      "text/plain": [
       "  0%|          | 0/1 [00:00<?, ?it/s]"
      ]
     },
     "metadata": {},
     "output_type": "display_data"
    },
    {
     "name": "stdout",
     "output_type": "stream",
     "text": [
      "CSPR = 12.00 dB\n",
      "12500/12500 [==============================] - 8s 674us/step\n",
      "Results:\n",
      "BER: 6.25e-06\n",
      "SNR: 21.90 dB\n",
      "SIR =  17.09  dB\n",
      "GMI: 4.00 bits\n",
      "\n"
     ]
    },
    {
     "data": {
      "application/vnd.jupyter.widget-view+json": {
       "model_id": "03d7e255cffc496f8dc7f8f960505324",
       "version_major": 2,
       "version_minor": 0
      },
      "text/plain": [
       "  0%|          | 0/1 [00:00<?, ?it/s]"
      ]
     },
     "metadata": {},
     "output_type": "display_data"
    },
    {
     "name": "stdout",
     "output_type": "stream",
     "text": [
      "CSPR = 12.00 dB\n",
      "12500/12500 [==============================] - 8s 629us/step\n",
      "Results:\n",
      "BER: 9.37e-06\n",
      "SNR: 20.93 dB\n",
      "SIR =  15.97  dB\n",
      "GMI: 4.00 bits\n",
      "\n"
     ]
    },
    {
     "data": {
      "application/vnd.jupyter.widget-view+json": {
       "model_id": "f43785662263440182c3650826c4b6ad",
       "version_major": 2,
       "version_minor": 0
      },
      "text/plain": [
       "  0%|          | 0/1 [00:00<?, ?it/s]"
      ]
     },
     "metadata": {},
     "output_type": "display_data"
    },
    {
     "name": "stdout",
     "output_type": "stream",
     "text": [
      "CSPR = 12.00 dB\n",
      "12500/12500 [==============================] - 8s 656us/step\n",
      "Results:\n",
      "BER: 1.87e-05\n",
      "SNR: 20.64 dB\n",
      "SIR =  15.42  dB\n",
      "GMI: 4.00 bits\n",
      "\n"
     ]
    },
    {
     "data": {
      "application/vnd.jupyter.widget-view+json": {
       "model_id": "d3377d1ad94140afacff9ddcf3c9b9db",
       "version_major": 2,
       "version_minor": 0
      },
      "text/plain": [
       "  0%|          | 0/1 [00:00<?, ?it/s]"
      ]
     },
     "metadata": {},
     "output_type": "display_data"
    },
    {
     "name": "stdout",
     "output_type": "stream",
     "text": [
      "CSPR = 12.00 dB\n",
      "12500/12500 [==============================] - 8s 666us/step\n",
      "Results:\n",
      "BER: 2.19e-05\n",
      "SNR: 20.92 dB\n",
      "SIR =  14.99  dB\n",
      "GMI: 4.00 bits\n",
      "\n"
     ]
    },
    {
     "data": {
      "application/vnd.jupyter.widget-view+json": {
       "model_id": "f64bb67db63c41e782cc56a7fd615ea6",
       "version_major": 2,
       "version_minor": 0
      },
      "text/plain": [
       "  0%|          | 0/1 [00:00<?, ?it/s]"
      ]
     },
     "metadata": {},
     "output_type": "display_data"
    },
    {
     "name": "stdout",
     "output_type": "stream",
     "text": [
      "CSPR = 12.00 dB\n",
      "12500/12500 [==============================] - 8s 645us/step\n",
      "Results:\n",
      "BER: 1.87e-05\n",
      "SNR: 20.17 dB\n",
      "SIR =  14.3  dB\n",
      "GMI: 4.00 bits\n",
      "\n"
     ]
    },
    {
     "data": {
      "application/vnd.jupyter.widget-view+json": {
       "model_id": "cbc5db7b0e5748f38b612c56a605a6f9",
       "version_major": 2,
       "version_minor": 0
      },
      "text/plain": [
       "  0%|          | 0/1 [00:00<?, ?it/s]"
      ]
     },
     "metadata": {},
     "output_type": "display_data"
    },
    {
     "name": "stdout",
     "output_type": "stream",
     "text": [
      "CSPR = 12.00 dB\n",
      "12500/12500 [==============================] - 9s 699us/step\n",
      "Results:\n",
      "BER: 3.13e-06\n",
      "SNR: 20.09 dB\n",
      "SIR =  13.89  dB\n",
      "GMI: 4.00 bits\n",
      "\n"
     ]
    },
    {
     "data": {
      "application/vnd.jupyter.widget-view+json": {
       "model_id": "1a7d8bfda8ee4e39bd554bed44404174",
       "version_major": 2,
       "version_minor": 0
      },
      "text/plain": [
       "  0%|          | 0/1 [00:00<?, ?it/s]"
      ]
     },
     "metadata": {},
     "output_type": "display_data"
    },
    {
     "name": "stdout",
     "output_type": "stream",
     "text": [
      "CSPR = 12.00 dB\n",
      "12500/12500 [==============================] - 8s 645us/step\n",
      "Results:\n",
      "BER: 9.37e-06\n",
      "SNR: 19.90 dB\n",
      "SIR =  13.4  dB\n",
      "GMI: 4.00 bits\n",
      "\n"
     ]
    },
    {
     "data": {
      "application/vnd.jupyter.widget-view+json": {
       "model_id": "0479746d814e48dca35d3d6b8d853459",
       "version_major": 2,
       "version_minor": 0
      },
      "text/plain": [
       "  0%|          | 0/1 [00:00<?, ?it/s]"
      ]
     },
     "metadata": {},
     "output_type": "display_data"
    },
    {
     "name": "stdout",
     "output_type": "stream",
     "text": [
      "CSPR = 12.00 dB\n",
      "12500/12500 [==============================] - 8s 643us/step\n",
      "Results:\n",
      "BER: 1.25e-05\n",
      "SNR: 19.97 dB\n",
      "SIR =  10.6  dB\n",
      "GMI: 4.00 bits\n",
      "\n"
     ]
    },
    {
     "data": {
      "application/vnd.jupyter.widget-view+json": {
       "model_id": "703f10433a4747b8833b41c8ef4afe56",
       "version_major": 2,
       "version_minor": 0
      },
      "text/plain": [
       "  0%|          | 0/1 [00:00<?, ?it/s]"
      ]
     },
     "metadata": {},
     "output_type": "display_data"
    },
    {
     "name": "stdout",
     "output_type": "stream",
     "text": [
      "CSPR = 12.00 dB\n",
      "12500/12500 [==============================] - 9s 724us/step\n",
      "Results:\n",
      "BER: 7.19e-05\n",
      "SNR: 18.89 dB\n",
      "SIR =  12.55  dB\n",
      "GMI: 4.00 bits\n",
      "\n"
     ]
    },
    {
     "data": {
      "application/vnd.jupyter.widget-view+json": {
       "model_id": "82dd27a8044e4587bb0964ad28ddd4c4",
       "version_major": 2,
       "version_minor": 0
      },
      "text/plain": [
       "  0%|          | 0/1 [00:00<?, ?it/s]"
      ]
     },
     "metadata": {},
     "output_type": "display_data"
    },
    {
     "name": "stdout",
     "output_type": "stream",
     "text": [
      "CSPR = 12.00 dB\n",
      "12500/12500 [==============================] - 9s 719us/step\n",
      "Results:\n",
      "BER: 1.44e-04\n",
      "SNR: 18.42 dB\n",
      "SIR =  12.71  dB\n",
      "GMI: 4.00 bits\n",
      "\n"
     ]
    },
    {
     "data": {
      "application/vnd.jupyter.widget-view+json": {
       "model_id": "809a19b3bd3a46cb8e6907aacfb1fd51",
       "version_major": 2,
       "version_minor": 0
      },
      "text/plain": [
       "  0%|          | 0/1 [00:00<?, ?it/s]"
      ]
     },
     "metadata": {},
     "output_type": "display_data"
    },
    {
     "name": "stdout",
     "output_type": "stream",
     "text": [
      "CSPR = 12.00 dB\n",
      "12500/12500 [==============================] - 8s 632us/step\n",
      "Results:\n",
      "BER: 6.25e-05\n",
      "SNR: 19.04 dB\n",
      "SIR =  11.88  dB\n",
      "GMI: 4.00 bits\n",
      "\n"
     ]
    },
    {
     "data": {
      "application/vnd.jupyter.widget-view+json": {
       "model_id": "c183ca8cc0674c259f7c4438aa4088d0",
       "version_major": 2,
       "version_minor": 0
      },
      "text/plain": [
       "  0%|          | 0/1 [00:00<?, ?it/s]"
      ]
     },
     "metadata": {},
     "output_type": "display_data"
    },
    {
     "name": "stdout",
     "output_type": "stream",
     "text": [
      "CSPR = 12.00 dB\n",
      "12500/12500 [==============================] - 8s 654us/step\n",
      "Results:\n",
      "BER: 3.13e-05\n",
      "SNR: 19.02 dB\n",
      "SIR =  11.65  dB\n",
      "GMI: 4.00 bits\n",
      "\n"
     ]
    },
    {
     "data": {
      "application/vnd.jupyter.widget-view+json": {
       "model_id": "79f6045ed5b54287a3dc9144dde4c5a7",
       "version_major": 2,
       "version_minor": 0
      },
      "text/plain": [
       "  0%|          | 0/1 [00:00<?, ?it/s]"
      ]
     },
     "metadata": {},
     "output_type": "display_data"
    },
    {
     "name": "stdout",
     "output_type": "stream",
     "text": [
      "CSPR = 12.00 dB\n",
      "12500/12500 [==============================] - 8s 603us/step\n",
      "Results:\n",
      "BER: 7.50e-05\n",
      "SNR: 18.82 dB\n",
      "SIR =  11.29  dB\n",
      "GMI: 4.00 bits\n",
      "\n"
     ]
    },
    {
     "data": {
      "application/vnd.jupyter.widget-view+json": {
       "model_id": "1c9d2af18fd64fdb85fd0690634f4635",
       "version_major": 2,
       "version_minor": 0
      },
      "text/plain": [
       "  0%|          | 0/1 [00:00<?, ?it/s]"
      ]
     },
     "metadata": {},
     "output_type": "display_data"
    },
    {
     "name": "stdout",
     "output_type": "stream",
     "text": [
      "CSPR = 12.00 dB\n",
      "12500/12500 [==============================] - 8s 654us/step\n",
      "Results:\n",
      "BER: 7.50e-05\n",
      "SNR: 18.72 dB\n",
      "SIR =  11.03  dB\n",
      "GMI: 4.00 bits\n",
      "\n"
     ]
    },
    {
     "data": {
      "application/vnd.jupyter.widget-view+json": {
       "model_id": "f2a3ec037922499d8d4deff1c0103a5d",
       "version_major": 2,
       "version_minor": 0
      },
      "text/plain": [
       "  0%|          | 0/18 [00:00<?, ?it/s]"
      ]
     },
     "metadata": {},
     "output_type": "display_data"
    },
    {
     "data": {
      "application/vnd.jupyter.widget-view+json": {
       "model_id": "65ee13cef92c4c79a3db69febc47a683",
       "version_major": 2,
       "version_minor": 0
      },
      "text/plain": [
       "  0%|          | 0/1 [00:00<?, ?it/s]"
      ]
     },
     "metadata": {},
     "output_type": "display_data"
    },
    {
     "name": "stdout",
     "output_type": "stream",
     "text": [
      "CSPR = 12.00 dB\n",
      "12500/12500 [==============================] - 67s 5ms/step\n",
      "Results:\n",
      "BER: 0.00e+00\n",
      "SNR: 24.55 dB\n",
      "SIR =  23.51  dB\n",
      "GMI: 4.00 bits\n",
      "\n"
     ]
    },
    {
     "data": {
      "application/vnd.jupyter.widget-view+json": {
       "model_id": "2349dacf5ff14d70bacc9f5ee71c2649",
       "version_major": 2,
       "version_minor": 0
      },
      "text/plain": [
       "  0%|          | 0/1 [00:00<?, ?it/s]"
      ]
     },
     "metadata": {},
     "output_type": "display_data"
    },
    {
     "name": "stdout",
     "output_type": "stream",
     "text": [
      "CSPR = 12.00 dB\n",
      "12500/12500 [==============================] - 60s 5ms/step\n",
      "Results:\n",
      "BER: 0.00e+00\n",
      "SNR: 22.64 dB\n",
      "SIR =  20.91  dB\n",
      "GMI: 4.00 bits\n",
      "\n"
     ]
    },
    {
     "data": {
      "application/vnd.jupyter.widget-view+json": {
       "model_id": "c9b258b3194341699ef3c8063d8ccf2c",
       "version_major": 2,
       "version_minor": 0
      },
      "text/plain": [
       "  0%|          | 0/1 [00:00<?, ?it/s]"
      ]
     },
     "metadata": {},
     "output_type": "display_data"
    },
    {
     "name": "stdout",
     "output_type": "stream",
     "text": [
      "CSPR = 12.00 dB\n",
      "12500/12500 [==============================] - 69s 6ms/step\n",
      "Results:\n",
      "BER: 0.00e+00\n",
      "SNR: 22.13 dB\n",
      "SIR =  19.37  dB\n",
      "GMI: 4.00 bits\n",
      "\n"
     ]
    },
    {
     "data": {
      "application/vnd.jupyter.widget-view+json": {
       "model_id": "6c296c6673f44a64bddcd5310e44fa4c",
       "version_major": 2,
       "version_minor": 0
      },
      "text/plain": [
       "  0%|          | 0/1 [00:00<?, ?it/s]"
      ]
     },
     "metadata": {},
     "output_type": "display_data"
    },
    {
     "name": "stdout",
     "output_type": "stream",
     "text": [
      "CSPR = 12.00 dB\n",
      "12500/12500 [==============================] - 68s 5ms/step\n",
      "Results:\n",
      "BER: 0.00e+00\n",
      "SNR: 22.05 dB\n",
      "SIR =  18.11  dB\n",
      "GMI: 4.00 bits\n",
      "\n"
     ]
    },
    {
     "data": {
      "application/vnd.jupyter.widget-view+json": {
       "model_id": "3d370e1a76e44ce4b500ed8941042408",
       "version_major": 2,
       "version_minor": 0
      },
      "text/plain": [
       "  0%|          | 0/1 [00:00<?, ?it/s]"
      ]
     },
     "metadata": {},
     "output_type": "display_data"
    },
    {
     "name": "stdout",
     "output_type": "stream",
     "text": [
      "CSPR = 12.00 dB\n",
      "12500/12500 [==============================] - 66s 5ms/step\n",
      "Results:\n",
      "BER: 0.00e+00\n",
      "SNR: 22.20 dB\n",
      "SIR =  17.17  dB\n",
      "GMI: 4.00 bits\n",
      "\n"
     ]
    },
    {
     "data": {
      "application/vnd.jupyter.widget-view+json": {
       "model_id": "adaa29b5d9164eb788dd4055767f9d72",
       "version_major": 2,
       "version_minor": 0
      },
      "text/plain": [
       "  0%|          | 0/1 [00:00<?, ?it/s]"
      ]
     },
     "metadata": {},
     "output_type": "display_data"
    },
    {
     "name": "stdout",
     "output_type": "stream",
     "text": [
      "CSPR = 12.00 dB\n",
      "12500/12500 [==============================] - 63s 5ms/step\n",
      "Results:\n",
      "BER: 0.00e+00\n",
      "SNR: 21.98 dB\n",
      "SIR =  16.34  dB\n",
      "GMI: 4.00 bits\n",
      "\n"
     ]
    },
    {
     "data": {
      "application/vnd.jupyter.widget-view+json": {
       "model_id": "8cb3986e0fd54527b8de9bb6c85a2996",
       "version_major": 2,
       "version_minor": 0
      },
      "text/plain": [
       "  0%|          | 0/1 [00:00<?, ?it/s]"
      ]
     },
     "metadata": {},
     "output_type": "display_data"
    },
    {
     "name": "stdout",
     "output_type": "stream",
     "text": [
      "CSPR = 12.00 dB\n",
      "12500/12500 [==============================] - 62s 5ms/step\n",
      "Results:\n",
      "BER: 0.00e+00\n",
      "SNR: 21.63 dB\n",
      "SIR =  15.64  dB\n",
      "GMI: 4.00 bits\n",
      "\n"
     ]
    },
    {
     "data": {
      "application/vnd.jupyter.widget-view+json": {
       "model_id": "b13eeee07870418eb4482d85cfa5530e",
       "version_major": 2,
       "version_minor": 0
      },
      "text/plain": [
       "  0%|          | 0/1 [00:00<?, ?it/s]"
      ]
     },
     "metadata": {},
     "output_type": "display_data"
    },
    {
     "name": "stdout",
     "output_type": "stream",
     "text": [
      "CSPR = 12.00 dB\n",
      "12500/12500 [==============================] - 62s 5ms/step\n",
      "Results:\n",
      "BER: 0.00e+00\n",
      "SNR: 21.04 dB\n",
      "SIR =  15.08  dB\n",
      "GMI: 4.00 bits\n",
      "\n"
     ]
    },
    {
     "data": {
      "application/vnd.jupyter.widget-view+json": {
       "model_id": "1253a9d27c87465a8c084bb68680a336",
       "version_major": 2,
       "version_minor": 0
      },
      "text/plain": [
       "  0%|          | 0/1 [00:00<?, ?it/s]"
      ]
     },
     "metadata": {},
     "output_type": "display_data"
    },
    {
     "name": "stdout",
     "output_type": "stream",
     "text": [
      "CSPR = 12.00 dB\n",
      "12500/12500 [==============================] - 66s 5ms/step\n",
      "Results:\n",
      "BER: 0.00e+00\n",
      "SNR: 20.73 dB\n",
      "SIR =  14.47  dB\n",
      "GMI: 4.00 bits\n",
      "\n"
     ]
    },
    {
     "data": {
      "application/vnd.jupyter.widget-view+json": {
       "model_id": "82ba367ca93d485e9eaec196b2da8131",
       "version_major": 2,
       "version_minor": 0
      },
      "text/plain": [
       "  0%|          | 0/1 [00:00<?, ?it/s]"
      ]
     },
     "metadata": {},
     "output_type": "display_data"
    },
    {
     "name": "stdout",
     "output_type": "stream",
     "text": [
      "CSPR = 12.00 dB\n",
      "12500/12500 [==============================] - 63s 5ms/step\n",
      "Results:\n",
      "BER: 6.25e-06\n",
      "SNR: 20.42 dB\n",
      "SIR =  14.03  dB\n",
      "GMI: 4.00 bits\n",
      "\n"
     ]
    },
    {
     "data": {
      "application/vnd.jupyter.widget-view+json": {
       "model_id": "1657844fde7a49cc8cc2767b464be9b2",
       "version_major": 2,
       "version_minor": 0
      },
      "text/plain": [
       "  0%|          | 0/1 [00:00<?, ?it/s]"
      ]
     },
     "metadata": {},
     "output_type": "display_data"
    },
    {
     "name": "stdout",
     "output_type": "stream",
     "text": [
      "CSPR = 12.00 dB\n",
      "12500/12500 [==============================] - 64s 5ms/step\n",
      "Results:\n",
      "BER: 1.25e-05\n",
      "SNR: 20.03 dB\n",
      "SIR =  14.5  dB\n",
      "GMI: 4.00 bits\n",
      "\n"
     ]
    },
    {
     "data": {
      "application/vnd.jupyter.widget-view+json": {
       "model_id": "e0cef3ed1a1642feae2a2b44388755e9",
       "version_major": 2,
       "version_minor": 0
      },
      "text/plain": [
       "  0%|          | 0/1 [00:00<?, ?it/s]"
      ]
     },
     "metadata": {},
     "output_type": "display_data"
    },
    {
     "name": "stdout",
     "output_type": "stream",
     "text": [
      "CSPR = 12.00 dB\n",
      "12500/12500 [==============================] - 64s 5ms/step\n",
      "Results:\n",
      "BER: 9.37e-06\n",
      "SNR: 19.69 dB\n",
      "SIR =  13.09  dB\n",
      "GMI: 4.00 bits\n",
      "\n"
     ]
    },
    {
     "data": {
      "application/vnd.jupyter.widget-view+json": {
       "model_id": "ffe1fc1469d14729ae8e370473e018f9",
       "version_major": 2,
       "version_minor": 0
      },
      "text/plain": [
       "  0%|          | 0/1 [00:00<?, ?it/s]"
      ]
     },
     "metadata": {},
     "output_type": "display_data"
    },
    {
     "name": "stdout",
     "output_type": "stream",
     "text": [
      "CSPR = 12.00 dB\n",
      "12500/12500 [==============================] - 63s 5ms/step\n",
      "Results:\n",
      "BER: 1.56e-05\n",
      "SNR: 19.97 dB\n",
      "SIR =  13.12  dB\n",
      "GMI: 4.00 bits\n",
      "\n"
     ]
    },
    {
     "data": {
      "application/vnd.jupyter.widget-view+json": {
       "model_id": "903459a177d94527a50c3cc1ea4a3b9b",
       "version_major": 2,
       "version_minor": 0
      },
      "text/plain": [
       "  0%|          | 0/1 [00:00<?, ?it/s]"
      ]
     },
     "metadata": {},
     "output_type": "display_data"
    },
    {
     "name": "stdout",
     "output_type": "stream",
     "text": [
      "CSPR = 12.00 dB\n",
      "12500/12500 [==============================] - 72s 6ms/step\n",
      "Results:\n",
      "BER: 3.75e-05\n",
      "SNR: 19.46 dB\n",
      "SIR =  12.32  dB\n",
      "GMI: 4.00 bits\n",
      "\n"
     ]
    },
    {
     "data": {
      "application/vnd.jupyter.widget-view+json": {
       "model_id": "b40c6a63cf6f4dfd886e50d6be2c2658",
       "version_major": 2,
       "version_minor": 0
      },
      "text/plain": [
       "  0%|          | 0/1 [00:00<?, ?it/s]"
      ]
     },
     "metadata": {},
     "output_type": "display_data"
    },
    {
     "name": "stdout",
     "output_type": "stream",
     "text": [
      "CSPR = 12.00 dB\n",
      "12500/12500 [==============================] - 73s 6ms/step\n",
      "Results:\n",
      "BER: 6.25e-06\n",
      "SNR: 20.20 dB\n",
      "SIR =  12.85  dB\n",
      "GMI: 4.00 bits\n",
      "\n"
     ]
    },
    {
     "data": {
      "application/vnd.jupyter.widget-view+json": {
       "model_id": "a359911cd69e4132837b221db210cfe7",
       "version_major": 2,
       "version_minor": 0
      },
      "text/plain": [
       "  0%|          | 0/1 [00:00<?, ?it/s]"
      ]
     },
     "metadata": {},
     "output_type": "display_data"
    },
    {
     "name": "stdout",
     "output_type": "stream",
     "text": [
      "CSPR = 12.00 dB\n",
      "12500/12500 [==============================] - 71s 6ms/step\n",
      "Results:\n",
      "BER: 1.87e-05\n",
      "SNR: 20.00 dB\n",
      "SIR =  12.68  dB\n",
      "GMI: 4.00 bits\n",
      "\n"
     ]
    },
    {
     "data": {
      "application/vnd.jupyter.widget-view+json": {
       "model_id": "e3c7b20d6b614095801354a405e4c306",
       "version_major": 2,
       "version_minor": 0
      },
      "text/plain": [
       "  0%|          | 0/1 [00:00<?, ?it/s]"
      ]
     },
     "metadata": {},
     "output_type": "display_data"
    },
    {
     "name": "stdout",
     "output_type": "stream",
     "text": [
      "CSPR = 12.00 dB\n",
      "12500/12500 [==============================] - 69s 5ms/step\n",
      "Results:\n",
      "BER: 4.06e-05\n",
      "SNR: 19.70 dB\n",
      "SIR =  12.23  dB\n",
      "GMI: 4.00 bits\n",
      "\n"
     ]
    },
    {
     "data": {
      "application/vnd.jupyter.widget-view+json": {
       "model_id": "a0d5ba7e904c4aaba9a2480b98b352e8",
       "version_major": 2,
       "version_minor": 0
      },
      "text/plain": [
       "  0%|          | 0/1 [00:00<?, ?it/s]"
      ]
     },
     "metadata": {},
     "output_type": "display_data"
    },
    {
     "name": "stdout",
     "output_type": "stream",
     "text": [
      "CSPR = 12.00 dB\n",
      "12500/12500 [==============================] - 68s 5ms/step\n",
      "Results:\n",
      "BER: 3.75e-05\n",
      "SNR: 19.68 dB\n",
      "SIR =  11.91  dB\n",
      "GMI: 4.00 bits\n",
      "\n"
     ]
    }
   ],
   "source": [
    "Rolloff = np.arange(0.05, 0.95, 0.05)\n",
    "BER = np.zeros((3, len(Rolloff)))\n",
    "SER = np.zeros((3, len(Rolloff)))\n",
    "GMI = np.zeros((3, len(Rolloff)))\n",
    "MI  = np.zeros((3, len(Rolloff)))\n",
    "SNR = np.zeros((3, len(Rolloff)))\n",
    "SIR = np.zeros((3, len(Rolloff)))\n",
    "\n",
    "for indfile in range(0, Interactions):\n",
    "    for indAlg, alg in enumerate(['KK', 'MLP', 'CONVNET']):\n",
    "        for indRoll, rollOff in enumerate(tqdm(Rolloff)):\n",
    "            \n",
    "            paramTx.alphaRRC = rollOff \n",
    "            # generate optical signal signal\n",
    "            sigTx, symbTx_, paramTx = simpleWDMTx(paramTx)\n",
    "\n",
    "            # simulate linear signal propagation\n",
    "            sigCh = linFiberCh(sigTx, Ltotal, alpha, D, Fc, Fs)\n",
    "\n",
    "            symbTx = symbTx_[:, :, chIndex]\n",
    "            Plo = 10 ** (Plo_dBm / 10) * 1e-3  # power in W\n",
    "\n",
    "            # generate LO field\n",
    "            π = np.pi\n",
    "            t = np.arange(0, len(sigCh))*Ts\n",
    "            ϕ_pn_lo = phaseNoise(lw, len(sigCh), Ts)\n",
    "\n",
    "            sigLO = np.sqrt(Plo) * np.exp(-1j * (2 * π * FO * t + ϕ_lo + ϕ_pn_lo))\n",
    "\n",
    "            # Add LO to the received signal\n",
    "            sigRx = np.sqrt(Plo) + sigCh* np.exp(1j * (2 * π * FO * t + ϕ_lo + ϕ_pn_lo))\n",
    "            sfm   = sigRx.copy()\n",
    "\n",
    "            print('CSPR = %.2f dB'%(10*np.log10(signal_power(sigLO)/signal_power(sigCh))))\n",
    "\n",
    "            # simulate ideal direct-detection optical receiver\n",
    "            Ipd = photodiode(sigRx, paramPD)\n",
    "            Amp = np.sqrt(Ipd.real)\n",
    "            Amp = resample(Amp, paramADC).real\n",
    "\n",
    "            # resampling to ADC sampling rate\n",
    "            sigCh = resample(sigCh, paramADC)\n",
    "            sfm = resample(sfm, paramADC)\n",
    "            newFs = paramADC.SpS_out*paramTx.Rs\n",
    "\n",
    "            sfm = sfm/np.sqrt(signal_power(sfm))\n",
    "            if alg == 'KK':\n",
    "                # Kramers-Kronig phase-retrieval\n",
    "                phiTime = KramersKronigRx(Amp, newFs)\n",
    "                # optical field reconstruction\n",
    "                sigRx = Amp*np.exp(1j*phiTime)\n",
    "\n",
    "            elif alg == 'MLP':\n",
    "                # Mlp phase-retrieval\n",
    "                model = tf.keras.models.load_model(path_mlp+'testModel_SpS_'+str(paramADC.SpS_out)+'_FO_'+str(FO/10e9)+'GHz_Rolloff_'+str(round(paramTx.alphaRRC, 2))) \n",
    "                #sigPhase = np.angle(sfm) # get signal phase samples (labels) (L,)\n",
    "                sigAmp  = np.pad(Amp, (int(N/2), int(N/2)), 'constant') # get signal amplitude samples (L,)\n",
    "                # create set of input features\n",
    "                X_input = np.zeros((len(sfm), N)) #(L,N)\n",
    "\n",
    "                for indPhase in range(len(sfm)):\n",
    "                    X_input[indPhase] = sigAmp[indPhase:N+indPhase]\n",
    "\n",
    "                sigRx_NN = model.predict(X_input)\n",
    "                # optical field reconstruction\n",
    "                sigRx = sigRx_NN[:,0]+1j*sigRx_NN[:,1]\n",
    "\n",
    "            elif alg == 'CONVNET':\n",
    "                # ConvNet phase-retrieval\n",
    "                model = tf.keras.models.load_model(path_conv+'testModel_SpS_'+str(paramADC.SpS_out)+'_FO_'+str(FO/10e9)+'GHz_Rolloff_'+str(round(paramTx.alphaRRC, 2)))\n",
    "                #sigPhase = np.angle(sfm) # get signal phase samples (labels) (L,)\n",
    "                sigAmp  = np.pad(Amp, (int(N/2), int(N/2)), 'constant') # get signal amplitude samples (L,)\n",
    "                # create set of input features\n",
    "                X_input = np.zeros((len(sfm), N)) #(L,N)\n",
    "\n",
    "                for indPhase in range(len(sfm)):\n",
    "                    X_input[indPhase] = sigAmp[indPhase:N+indPhase]\n",
    "\n",
    "                sigRx_NN = model.predict(X_input)\n",
    "                # optical field reconstruction\n",
    "                sigRx = sigRx_NN[:,0]+1j*sigRx_NN[:,1]    \n",
    "\n",
    "            # remove DC level\n",
    "            sigRx -= np.mean(sigRx) # np.sqrt(Plo)  \n",
    "\n",
    "            # downshift to baseband\n",
    "            t = np.arange(0, len(sigRx))*(1/newFs)\n",
    "            sigRx *= np.exp(-1j * (2 * π * FO * t))\n",
    "            \n",
    "            # Matched filtering\n",
    "            if paramTx.pulse == \"nrz\":\n",
    "                pulse = pulseShape(\"nrz\", paramADC.SpS_out)\n",
    "            elif paramTx.pulse == \"rrc\":\n",
    "                pulse = pulseShape(\n",
    "                    \"rrc\", paramADC.SpS_out, N=paramTx.Ntaps, alpha=paramTx.alphaRRC, Ts=1 / paramTx.Rs\n",
    "                )\n",
    "\n",
    "            pulse = pulse / np.max(np.abs(pulse))\n",
    "            sigRx = firFilter(pulse, sigRx)\n",
    "            sigCh = firFilter(pulse, sigCh)\n",
    "            \n",
    "            # correct for (possible) phase ambiguity\n",
    "            rot = np.mean(sigCh/sigRx)\n",
    "            sigRx = rot * sigRx\n",
    "            sigRx = sigRx / np.sqrt(signal_power(sigRx))\n",
    "\n",
    "            intf = sigRx/np.sqrt(signal_power(sigRx))-sigCh/np.sqrt(signal_power(sigCh))\n",
    "\n",
    "            SIR[indAlg, indRoll] = 1/signal_power(intf)\n",
    "\n",
    "\n",
    "            # resample to 2 samples/symbol:\n",
    "            paramRes = parameters()\n",
    "            paramRes.Rs = paramTx.Rs\n",
    "            paramRes.SpS_in  = paramADC.SpS_out\n",
    "            paramRes.SpS_out = 2\n",
    "\n",
    "            sigRx = resample(sigRx, paramRes)\n",
    "\n",
    "            # CD compensation\n",
    "            sigRx = edc(sigRx, Ltotal, D, Fc, paramRes.SpS_out*paramTx.Rs)\n",
    "\n",
    "            # Downsampling to 2 sps and re-synchronization with transmitted sequences\n",
    "            sigRx = sigRx.reshape(-1, 1)\n",
    "\n",
    "            symbRx = symbolSync(sigRx, symbTx, 2)\n",
    "\n",
    "            # Power normalization\n",
    "            x = sigRx\n",
    "            d = symbRx\n",
    "\n",
    "            x = x.reshape(len(x), 1) / np.sqrt(signal_power(x))\n",
    "            d = d.reshape(len(d), 1) / np.sqrt(signal_power(d))\n",
    "\n",
    "            # Adaptive equalization\n",
    "            mod = QAMModem(m=paramTx.M)\n",
    "\n",
    "            paramEq = parameters()\n",
    "            paramEq.nTaps = 15\n",
    "            paramEq.SpS = 2\n",
    "            paramEq.mu = [1e-3, 5e-4]\n",
    "            paramEq.numIter = 5\n",
    "            paramEq.storeCoeff = False\n",
    "            paramEq.alg = [\"da-rde\", \"rde\"]\n",
    "            paramEq.M = paramTx.M\n",
    "            paramEq.L = [20000, 80000]\n",
    "            paramEq.prgsBar = False\n",
    "\n",
    "            y_EQ, H, errSq, Hiter = mimoAdaptEqualizer(x, dx=d, paramEq=paramEq)\n",
    "\n",
    "            # Carrier phase recovery\n",
    "            paramCPR = parameters()\n",
    "            paramCPR.alg = \"bps\"\n",
    "            paramCPR.M = paramTx.M\n",
    "            paramCPR.N = 85\n",
    "            paramCPR.B = 64\n",
    "            paramCPR.pilotInd = np.arange(0, len(y_EQ), 20)\n",
    "\n",
    "            y_CPR, θ = cpr(y_EQ, symbTx=d, paramCPR=paramCPR)\n",
    "\n",
    "            y_CPR = y_CPR / np.sqrt(signal_power(y_CPR))\n",
    "\n",
    "            # correct for (possible) phase ambiguity\n",
    "            for k in range(y_CPR.shape[1]):\n",
    "                rot = np.mean(d[:, k] / y_CPR[:, k])\n",
    "                y_CPR[:, k] = rot * y_CPR[:, k]\n",
    "\n",
    "            y_CPR = y_CPR / np.sqrt(signal_power(y_CPR))\n",
    "\n",
    "            discard = int(paramEq.L[0]/2)\n",
    "\n",
    "            ind = np.arange(discard, d.shape[0] - discard)\n",
    "            BER[indAlg,indRoll], SER[indAlg,indRoll], SNR[indAlg,indRoll] = fastBERcalc(y_CPR[ind, :], d[ind, :], paramTx.M, 'qam')\n",
    "            GMI[indAlg,indRoll], _ = monteCarloGMI(y_CPR[ind, :], d[ind, :],  paramTx.M, 'qam')\n",
    "            MI[indAlg,indRoll] = monteCarloMI(y_CPR[ind, :], d[ind, :],  paramTx.M, 'qam')\n",
    "\n",
    "            print(\"Results:\")\n",
    "            print(\"BER: %.2e\" %(BER[indAlg,indRoll]))\n",
    "            print(\"SNR: %.2f dB\" %(SNR[indAlg,indRoll]))\n",
    "            print('SIR = ', round(10*np.log10(SIR[indAlg,indRoll]), 2), ' dB')\n",
    "            print(\"GMI: %.2f bits\\n\" %(GMI[indAlg,indRoll]))\n",
    "\n",
    "    if saveData:\n",
    "        # save the simulation data\n",
    "        np.save(path_data+'Rolloff_BER_SpS_'+str(paramADC.SpS_out)+'_'+str(N)+'_Sample_'+str(indfile), BER)\n",
    "        np.save(path_data+'Rolloff_SNR_SpS_'+str(paramADC.SpS_out)+'_'+str(N)+'_Sample_'+str(indfile), SNR)\n",
    "        np.save(path_data+'Rolloff_SIR_SpS_'+str(paramADC.SpS_out)+'_'+str(N)+'_Sample_'+str(indfile), SIR)\n",
    "        np.save(path_data+'Rolloff_SER_SpS_'+str(paramADC.SpS_out)+'_'+str(N)+'_Sample_'+str(indfile), SER)"
   ]
  },
  {
   "attachments": {},
   "cell_type": "markdown",
   "metadata": {},
   "source": [
    "## Simulation of a single polarization optical signal transmission"
   ]
  },
  {
   "cell_type": "code",
   "execution_count": 10,
   "metadata": {},
   "outputs": [],
   "source": [
    "## Transmitter parameters:\n",
    "paramTx = parameters()\n",
    "paramTx.M = 16                 # order of the modulation format\n",
    "paramTx.Rs = 32e9              # symbol rate [baud]\n",
    "paramTx.SpS = 4                # samples per symbol\n",
    "paramTx.Nbits = 400000         # total number of bits per polarization\n",
    "paramTx.pulse = \"rrc\"          # pulse shaping filter\n",
    "paramTx.Ntaps = 1024           # number of pulse shaping filter coefficients\n",
    "paramTx.alphaRRC = 0.5         # RRC rolloff\n",
    "paramTx.Pch_dBm = 0            # power of the optical signal [dBm]\n",
    "paramTx.Nch = 1                # number of WDM channels\n",
    "paramTx.Fc = 193.1e12          # central frequency of the optical spectrum\n",
    "paramTx.freqSpac = 37.5e9      # WDM grid spacing\n",
    "\n",
    "## Optical channel parameters:\n",
    "Ltotal = 100     # total link distance [km]\n",
    "alpha = 0        # fiber loss parameter [dB/km]\n",
    "D = 16           # fiber dispersion parameter [ps/nm/km]\n",
    "Fc = paramTx.Fc  # central optical frequency of the WDM spectrum [Hz]\n",
    "\n",
    "## Receiver parameters:\n",
    "\n",
    "# local oscillator (LO)\n",
    "# FO = paramTx.Rs/2  # frequency offset\n",
    "lw = 0*200e3       # linewidth\n",
    "ϕ_lo = 0           # initial phase in rad\n",
    "Plo_dBm = 12       # power in dBm\n",
    "\n",
    "# ADC sampling rate\n",
    "paramADC = parameters()\n",
    "paramADC.Rs = paramTx.Rs\n",
    "paramADC.SpS_in = paramTx.SpS\n",
    "paramADC.SpS_out = 4\n",
    "\n",
    "## General simulation parameters:\n",
    "chIndex = 0  # index of the channel to be demodulated\n",
    "plotPSD = True\n",
    "Fs = paramTx.Rs * paramTx.SpS  # simulation sampling rate\n",
    "Ts = 1 / Fs\n",
    "\n",
    "# photodiode parameters\n",
    "paramPD = parameters()\n",
    "paramPD.B  = 1.1*paramTx.Rs\n",
    "paramPD.Fs = Fs"
   ]
  },
  {
   "attachments": {},
   "cell_type": "markdown",
   "metadata": {},
   "source": [
    "## Run all *Frequency offset* (FO) variations"
   ]
  },
  {
   "cell_type": "code",
   "execution_count": 12,
   "metadata": {},
   "outputs": [
    {
     "data": {
      "application/vnd.jupyter.widget-view+json": {
       "model_id": "192da75216c644c8862739c80c303ea9",
       "version_major": 2,
       "version_minor": 0
      },
      "text/plain": [
       "  0%|          | 0/6 [00:00<?, ?it/s]"
      ]
     },
     "metadata": {},
     "output_type": "display_data"
    },
    {
     "data": {
      "application/vnd.jupyter.widget-view+json": {
       "model_id": "2bcf15db2613479d9f4fa0676fc6482f",
       "version_major": 2,
       "version_minor": 0
      },
      "text/plain": [
       "  0%|          | 0/1 [00:00<?, ?it/s]"
      ]
     },
     "metadata": {},
     "output_type": "display_data"
    },
    {
     "name": "stdout",
     "output_type": "stream",
     "text": [
      "CSPR = 12.00 dB\n"
     ]
    },
    {
     "data": {
      "application/vnd.jupyter.widget-view+json": {
       "model_id": "34a8826f58da493c8a1615584d9bea18",
       "version_major": 2,
       "version_minor": 0
      },
      "text/plain": [
       "  0%|          | 0/6 [00:00<?, ?it/s]"
      ]
     },
     "metadata": {},
     "output_type": "display_data"
    },
    {
     "data": {
      "application/vnd.jupyter.widget-view+json": {
       "model_id": "5e5454ab7e7a42e7b0bd8165b60c9d15",
       "version_major": 2,
       "version_minor": 0
      },
      "text/plain": [
       "  0%|          | 0/1 [00:00<?, ?it/s]"
      ]
     },
     "metadata": {},
     "output_type": "display_data"
    },
    {
     "name": "stdout",
     "output_type": "stream",
     "text": [
      "CSPR = 12.00 dB\n"
     ]
    },
    {
     "data": {
      "application/vnd.jupyter.widget-view+json": {
       "model_id": "d963eccc808549ed9ccc97ec891fa706",
       "version_major": 2,
       "version_minor": 0
      },
      "text/plain": [
       "  0%|          | 0/6 [00:00<?, ?it/s]"
      ]
     },
     "metadata": {},
     "output_type": "display_data"
    },
    {
     "data": {
      "application/vnd.jupyter.widget-view+json": {
       "model_id": "9b77a70c33964569bccf68ca6bfee651",
       "version_major": 2,
       "version_minor": 0
      },
      "text/plain": [
       "  0%|          | 0/1 [00:00<?, ?it/s]"
      ]
     },
     "metadata": {},
     "output_type": "display_data"
    },
    {
     "name": "stdout",
     "output_type": "stream",
     "text": [
      "CSPR = 12.00 dB\n",
      "12500/12500 [==============================] - 94s 8ms/step\n",
      "Results:\n",
      "BER: 0.00e+00\n",
      "SNR: 21.02 dB\n",
      "SIR =  14.6  dB\n",
      "GMI: 4.00 bits\n",
      "\n"
     ]
    },
    {
     "data": {
      "application/vnd.jupyter.widget-view+json": {
       "model_id": "09674c9fbe6348fe914159226abc08d7",
       "version_major": 2,
       "version_minor": 0
      },
      "text/plain": [
       "  0%|          | 0/1 [00:00<?, ?it/s]"
      ]
     },
     "metadata": {},
     "output_type": "display_data"
    },
    {
     "name": "stdout",
     "output_type": "stream",
     "text": [
      "CSPR = 12.00 dB\n",
      "12500/12500 [==============================] - 73s 6ms/step\n",
      "Results:\n",
      "BER: 0.00e+00\n",
      "SNR: 23.35 dB\n",
      "SIR =  16.2  dB\n",
      "GMI: 4.00 bits\n",
      "\n"
     ]
    },
    {
     "data": {
      "application/vnd.jupyter.widget-view+json": {
       "model_id": "662e8f974d9c418097e1639dfe432d0c",
       "version_major": 2,
       "version_minor": 0
      },
      "text/plain": [
       "  0%|          | 0/1 [00:00<?, ?it/s]"
      ]
     },
     "metadata": {},
     "output_type": "display_data"
    },
    {
     "name": "stdout",
     "output_type": "stream",
     "text": [
      "CSPR = 12.00 dB\n",
      "12500/12500 [==============================] - 74s 6ms/step\n",
      "Results:\n",
      "BER: 0.00e+00\n",
      "SNR: 28.97 dB\n",
      "SIR =  28.21  dB\n",
      "GMI: 4.00 bits\n",
      "\n"
     ]
    },
    {
     "data": {
      "application/vnd.jupyter.widget-view+json": {
       "model_id": "de2cd70bd37f4ee28371a717e1b883f8",
       "version_major": 2,
       "version_minor": 0
      },
      "text/plain": [
       "  0%|          | 0/1 [00:00<?, ?it/s]"
      ]
     },
     "metadata": {},
     "output_type": "display_data"
    },
    {
     "name": "stdout",
     "output_type": "stream",
     "text": [
      "CSPR = 12.00 dB\n",
      "12500/12500 [==============================] - 80s 6ms/step\n",
      "Results:\n",
      "BER: 0.00e+00\n",
      "SNR: 28.76 dB\n",
      "SIR =  22.27  dB\n",
      "GMI: 4.00 bits\n",
      "\n"
     ]
    },
    {
     "data": {
      "application/vnd.jupyter.widget-view+json": {
       "model_id": "aa672883762943aebdd32afa13cd5b8e",
       "version_major": 2,
       "version_minor": 0
      },
      "text/plain": [
       "  0%|          | 0/1 [00:00<?, ?it/s]"
      ]
     },
     "metadata": {},
     "output_type": "display_data"
    },
    {
     "name": "stdout",
     "output_type": "stream",
     "text": [
      "CSPR = 12.00 dB\n",
      "12500/12500 [==============================] - 75s 6ms/step\n",
      "Results:\n",
      "BER: 0.00e+00\n",
      "SNR: 30.72 dB\n",
      "SIR =  26.05  dB\n",
      "GMI: 4.00 bits\n",
      "\n"
     ]
    },
    {
     "data": {
      "application/vnd.jupyter.widget-view+json": {
       "model_id": "446d20c4ecbd47858fa15957becf061b",
       "version_major": 2,
       "version_minor": 0
      },
      "text/plain": [
       "  0%|          | 0/1 [00:00<?, ?it/s]"
      ]
     },
     "metadata": {},
     "output_type": "display_data"
    },
    {
     "name": "stdout",
     "output_type": "stream",
     "text": [
      "CSPR = 12.00 dB\n",
      "12500/12500 [==============================] - 77s 6ms/step\n",
      "Results:\n",
      "BER: 0.00e+00\n",
      "SNR: 32.49 dB\n",
      "SIR =  30.63  dB\n",
      "GMI: 4.00 bits\n",
      "\n"
     ]
    }
   ],
   "source": [
    "FO_Values = np.arange(0e9, 6e9, 1e9)\n",
    "BER = np.zeros((3, len(FO_Values)))\n",
    "SER = np.zeros((3, len(FO_Values)))\n",
    "GMI = np.zeros((3, len(FO_Values)))\n",
    "MI  = np.zeros((3, len(FO_Values)))\n",
    "SNR = np.zeros((3, len(FO_Values)))\n",
    "SIR = np.zeros((3, len(FO_Values)))\n",
    "\n",
    "for indfile in range(0, Interactions):\n",
    "    for indAlg, alg in enumerate(['KK', 'MLP', 'CONVNET']):\n",
    "        for indFO, FOfreq in enumerate(tqdm(FO_Values)):\n",
    "            \n",
    "            FO = paramTx.Rs/2 + FOfreq\n",
    "            # generate optical signal signal\n",
    "            sigTx, symbTx_, paramTx = simpleWDMTx(paramTx)\n",
    "\n",
    "            # simulate linear signal propagation\n",
    "            sigCh = linFiberCh(sigTx, Ltotal, alpha, D, Fc, Fs)\n",
    "\n",
    "            symbTx = symbTx_[:, :, chIndex]\n",
    "            Plo = 10 ** (Plo_dBm / 10) * 1e-3  # power in W\n",
    "\n",
    "            # generate LO field\n",
    "            π = np.pi\n",
    "            t = np.arange(0, len(sigCh))*Ts\n",
    "            ϕ_pn_lo = phaseNoise(lw, len(sigCh), Ts)\n",
    "\n",
    "            sigLO = np.sqrt(Plo) * np.exp(-1j * (2 * π * FO * t + ϕ_lo + ϕ_pn_lo))\n",
    "\n",
    "            # Add LO to the received signal\n",
    "            sigRx = np.sqrt(Plo) + sigCh* np.exp(1j * (2 * π * FO * t + ϕ_lo + ϕ_pn_lo))\n",
    "            sfm   = sigRx.copy()\n",
    "\n",
    "            print('CSPR = %.2f dB'%(10*np.log10(signal_power(sigLO)/signal_power(sigCh))))\n",
    "\n",
    "            # simulate ideal direct-detection optical receiver\n",
    "            Ipd = photodiode(sigRx, paramPD)\n",
    "            Amp = np.sqrt(Ipd.real)\n",
    "            Amp = resample(Amp, paramADC).real\n",
    "\n",
    "            # resampling to ADC sampling rate\n",
    "            sigCh = resample(sigCh, paramADC)\n",
    "            sfm = resample(sfm, paramADC)\n",
    "            newFs = paramADC.SpS_out*paramTx.Rs\n",
    "\n",
    "            sfm = sfm/np.sqrt(signal_power(sfm))\n",
    "            if alg == 'KK':\n",
    "                # Kramers-Kronig phase-retrieval\n",
    "                phiTime = KramersKronigRx(Amp, newFs)\n",
    "                # optical field reconstruction\n",
    "                sigRx = Amp*np.exp(1j*phiTime)\n",
    "                \n",
    "            elif alg == 'MLP':\n",
    "                # Mlp phase-retrieval\n",
    "                model = tf.keras.models.load_model(path_mlp+'testModel_SpS_'+str(paramADC.SpS_out)+'_FO_'+str(FO/10e9)+'GHz_Rolloff_'+str(round(paramTx.alphaRRC, 2))) \n",
    "                # #sigPhase = np.angle(sfm) # get signal phase samples (labels) (L,)\n",
    "                sigAmp  = np.pad(Amp, (int(N/2), int(N/2)), 'constant') # get signal amplitude samples (L,)\n",
    "                # create set of input features\n",
    "                X_input = np.zeros((len(sfm), N)) #(L,N)\n",
    "\n",
    "                for indPhase in range(len(sfm)):\n",
    "                    X_input[indPhase] = sigAmp[indPhase:N+indPhase]\n",
    "\n",
    "                sigRx_NN = model.predict(X_input)\n",
    "                # optical field reconstruction\n",
    "                sigRx = sigRx_NN[:,0]+1j*sigRx_NN[:,1]\n",
    "\n",
    "            elif alg == 'CONVNET':\n",
    "                # ConvNet phase-retrieval\n",
    "                model = tf.keras.models.load_model(path_conv+'testModel_SpS_'+str(paramADC.SpS_out)+'_FO_'+str(FO/10e9)+'GHz_Rolloff_'+str(round(paramTx.alphaRRC, 2)))\n",
    "                #sigPhase = np.angle(sfm) # get signal phase samples (labels) (L,)\n",
    "                sigAmp  = np.pad(Amp, (int(N/2), int(N/2)), 'constant') # get signal amplitude samples (L,)\n",
    "                # create set of input features\n",
    "                X_input = np.zeros((len(sfm), N)) #(L,N)\n",
    "\n",
    "                for indPhase in range(len(sfm)):\n",
    "                    X_input[indPhase] = sigAmp[indPhase:N+indPhase]\n",
    "\n",
    "                sigRx_NN = model.predict(X_input)\n",
    "                # optical field reconstruction\n",
    "                sigRx = sigRx_NN[:,0]+1j*sigRx_NN[:,1]    \n",
    "\n",
    "            # remove DC level\n",
    "            sigRx -= np.mean(sigRx) # np.sqrt(Plo)  \n",
    "\n",
    "            # downshift to baseband\n",
    "            t = np.arange(0, len(sigRx))*(1/newFs)\n",
    "            sigRx *= np.exp(-1j * (2 * π * FO * t))\n",
    "            \n",
    "            # Matched filtering\n",
    "            if paramTx.pulse == \"nrz\":\n",
    "                pulse = pulseShape(\"nrz\", paramADC.SpS_out)\n",
    "            elif paramTx.pulse == \"rrc\":\n",
    "                pulse = pulseShape(\n",
    "                    \"rrc\", paramADC.SpS_out, N=paramTx.Ntaps, alpha=paramTx.alphaRRC, Ts=1 / paramTx.Rs\n",
    "                )\n",
    "\n",
    "            pulse = pulse / np.max(np.abs(pulse))\n",
    "            sigRx = firFilter(pulse, sigRx)\n",
    "            sigCh = firFilter(pulse, sigCh)\n",
    "            \n",
    "            # correct for (possible) phase ambiguity\n",
    "            rot = np.mean(sigCh/sigRx)\n",
    "            sigRx = rot * sigRx\n",
    "            sigRx = sigRx / np.sqrt(signal_power(sigRx))\n",
    "\n",
    "            intf = sigRx/np.sqrt(signal_power(sigRx))-sigCh/np.sqrt(signal_power(sigCh))\n",
    "\n",
    "            SIR[indAlg, indFO] = 1/signal_power(intf)\n",
    "\n",
    "            # resample to 2 samples/symbol:\n",
    "            paramRes = parameters()\n",
    "            paramRes.Rs = paramTx.Rs\n",
    "            paramRes.SpS_in  = paramADC.SpS_out\n",
    "            paramRes.SpS_out = 2\n",
    "\n",
    "            sigRx = resample(sigRx, paramRes)\n",
    "\n",
    "            # CD compensation\n",
    "            sigRx = edc(sigRx, Ltotal, D, Fc, paramRes.SpS_out*paramTx.Rs)\n",
    "\n",
    "            # Downsampling to 2 sps and re-synchronization with transmitted sequences\n",
    "            sigRx = sigRx.reshape(-1, 1)\n",
    "\n",
    "            symbRx = symbolSync(sigRx, symbTx, 2)\n",
    "\n",
    "            # Power normalization\n",
    "            x = sigRx\n",
    "            d = symbRx\n",
    "\n",
    "            x = x.reshape(len(x), 1) / np.sqrt(signal_power(x))\n",
    "            d = d.reshape(len(d), 1) / np.sqrt(signal_power(d))\n",
    "\n",
    "            # Adaptive equalization\n",
    "            mod = QAMModem(m=paramTx.M)\n",
    "\n",
    "            paramEq = parameters()\n",
    "            paramEq.nTaps = 15\n",
    "            paramEq.SpS = 2\n",
    "            paramEq.mu = [1e-3, 5e-4]\n",
    "            paramEq.numIter = 5\n",
    "            paramEq.storeCoeff = False\n",
    "            paramEq.alg = [\"da-rde\", \"rde\"]\n",
    "            paramEq.M = paramTx.M\n",
    "            paramEq.L = [20000, 80000]\n",
    "            paramEq.prgsBar = False\n",
    "\n",
    "            y_EQ, H, errSq, Hiter = mimoAdaptEqualizer(x, dx=d, paramEq=paramEq)\n",
    "\n",
    "            # Carrier phase recovery\n",
    "            paramCPR = parameters()\n",
    "            paramCPR.alg = \"bps\"\n",
    "            paramCPR.M = paramTx.M\n",
    "            paramCPR.N = 85\n",
    "            paramCPR.B = 64\n",
    "            paramCPR.pilotInd = np.arange(0, len(y_EQ), 20)\n",
    "\n",
    "            y_CPR, θ = cpr(y_EQ, symbTx=d, paramCPR=paramCPR)\n",
    "\n",
    "            y_CPR = y_CPR / np.sqrt(signal_power(y_CPR))\n",
    "\n",
    "            # correct for (possible) phase ambiguity\n",
    "            for k in range(y_CPR.shape[1]):\n",
    "                rot = np.mean(d[:, k] / y_CPR[:, k])\n",
    "                y_CPR[:, k] = rot * y_CPR[:, k]\n",
    "\n",
    "            y_CPR = y_CPR / np.sqrt(signal_power(y_CPR))\n",
    "\n",
    "            discard = int(paramEq.L[0]/2)\n",
    "\n",
    "            ind = np.arange(discard, d.shape[0] - discard)\n",
    "            BER[indAlg,indFO], SER[indAlg,indFO], SNR[indAlg,indFO] = fastBERcalc(y_CPR[ind, :], d[ind, :], paramTx.M, 'qam')\n",
    "            GMI[indAlg,indFO], _ = monteCarloGMI(y_CPR[ind, :], d[ind, :],  paramTx.M, 'qam')\n",
    "            MI[indAlg,indFO] = monteCarloMI(y_CPR[ind, :], d[ind, :],  paramTx.M, 'qam')\n",
    "\n",
    "            print(\"Results:\")\n",
    "            print(\"BER: %.2e\" %(BER[indAlg,indFO]))\n",
    "            print(\"SNR: %.2f dB\" %(SNR[indAlg,indFO]))\n",
    "            print('SIR = ', round(10*np.log10(SIR[indAlg,indFO]), 2), ' dB')\n",
    "            print(\"GMI: %.2f bits\\n\" %(GMI[indAlg,indFO]))\n",
    "\n",
    "    if saveData:\n",
    "        # save the simulation data\n",
    "        np.save(path_data+'Conv_FO_BER_SpS_'+str(paramADC.SpS_out)+'_'+str(N)+'_Sample_'+str(indfile), BER)\n",
    "        np.save(path_data+'Conv_FO_SNR_SpS_'+str(paramADC.SpS_out)+'_'+str(N)+'_Sample_'+str(indfile), SNR)\n",
    "        np.save(path_data+'Conv_FO_SIR_SpS_'+str(paramADC.SpS_out)+'_'+str(N)+'_Sample_'+str(indfile), SIR)\n",
    "        np.save(path_data+'Conv_FO_SER_SpS_'+str(paramADC.SpS_out)+'_'+str(N)+'_Sample_'+str(indfile), SER)"
   ]
  }
 ],
 "metadata": {
  "kernelspec": {
   "display_name": "Python 3",
   "language": "python",
   "name": "python3"
  },
  "language_info": {
   "codemirror_mode": {
    "name": "ipython",
    "version": 3
   },
   "file_extension": ".py",
   "mimetype": "text/x-python",
   "name": "python",
   "nbconvert_exporter": "python",
   "pygments_lexer": "ipython3",
   "version": "3.9.13"
  },
  "vscode": {
   "interpreter": {
    "hash": "375d932ff305d5bb7891cf7c099632ff151b644ae138927e5c1b22b0b7153300"
   }
  }
 },
 "nbformat": 4,
 "nbformat_minor": 2
}
