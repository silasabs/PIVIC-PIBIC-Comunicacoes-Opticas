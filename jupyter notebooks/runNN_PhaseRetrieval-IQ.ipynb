{
 "cells": [
  {
   "cell_type": "code",
   "execution_count": 2,
   "metadata": {},
   "outputs": [],
   "source": [
    "import matplotlib.pyplot as plt\n",
    "import numpy as np\n",
    "\n",
    "from commpy.modulation import QAMModem\n",
    "\n",
    "from optic.dsp import pulseShape, firFilter, decimate, symbolSync, resample\n",
    "from optic.models import phaseNoise, linFiberCh, KramersKronigRx, photodiode, awgn\n",
    "\n",
    "from optic.tx import simpleWDMTx\n",
    "from optic.core import parameters\n",
    "from optic.equalization import edc, mimoAdaptEqualizer\n",
    "from optic.carrierRecovery import cpr\n",
    "from optic.metrics import fastBERcalc, monteCarloGMI, monteCarloMI, signal_power\n",
    "from optic.plot import pconst\n",
    "\n",
    "import scipy.constants as const\n",
    "from tqdm.notebook import tqdm\n",
    "\n",
    "from tensorflow.keras.layers import Dense, BatchNormalization, Conv1DTranspose, Conv1D, Flatten, Add\n",
    "from tensorflow.keras.models import Sequential\n",
    "from tensorflow.keras.callbacks import EarlyStopping\n",
    "import tensorflow as tf\n",
    "from tensorflow.keras import backend as K"
   ]
  },
  {
   "cell_type": "code",
   "execution_count": 3,
   "metadata": {},
   "outputs": [],
   "source": [
    "figurePath = 'C:/Users/optic/Documents/PIVIC-PIBIC-Comunicacoes-Opticas/resultados/Figuras/Pibic'\n",
    "path_data  = r'C:/Users/optic/Documents/PIVIC-PIBIC-Comunicacoes-Opticas/resultados/Data/Pibic/'\n",
    "path_mlp   = 'C:/Users/optic/Documents/PIVIC-PIBIC-Comunicacoes-Opticas/models/NN_models/' \n",
    "path_conv  = 'C:/Users/optic/Documents/PIVIC-PIBIC-Comunicacoes-Opticas/models/CONV_models/'\n",
    "\n",
    "saveData = True\n",
    "N = 128 # number of input amplitude samples to the NN\n",
    "Interactions = 5"
   ]
  },
  {
   "cell_type": "markdown",
   "metadata": {},
   "source": [
    "## Simulation of a single polarization optical signal transmission"
   ]
  },
  {
   "cell_type": "code",
   "execution_count": null,
   "metadata": {},
   "outputs": [],
   "source": [
    "## Transmitter parameters:\n",
    "paramTx = parameters()\n",
    "paramTx.M = 16                 # order of the modulation format\n",
    "paramTx.Rs = 32e9              # symbol rate [baud]\n",
    "paramTx.SpS = 4                # samples per symbol\n",
    "paramTx.Nbits = 400000         # total number of bits per polarization\n",
    "paramTx.pulse = \"rrc\"          # pulse shaping filter\n",
    "paramTx.Ntaps = 1024           # number of pulse shaping filter coefficients\n",
    "#paramTx.alphaRRC = 0.01       # RRC rolloff\n",
    "paramTx.Pch_dBm = 0            # power of the optical signal [dBm]\n",
    "paramTx.Nch = 1                # number of WDM channels\n",
    "paramTx.Fc = 193.1e12          # central frequency of the optical spectrum\n",
    "paramTx.freqSpac = 37.5e9      # WDM grid spacing\n",
    "\n",
    "## Optical channel parameters:\n",
    "Ltotal = 100     # total link distance [km]\n",
    "alpha = 0        # fiber loss parameter [dB/km]\n",
    "D = 16           # fiber dispersion parameter [ps/nm/km]\n",
    "Fc = paramTx.Fc  # central optical frequency of the WDM spectrum [Hz]\n",
    "\n",
    "## Receiver parameters:\n",
    "\n",
    "# local oscillator (LO)\n",
    "FO = paramTx.Rs/2 + 1e9  # frequency offset\n",
    "lw = 0*200e3       # linewidth\n",
    "ϕ_lo = 0           # initial phase in rad\n",
    "Plo_dBm = 12       # power in dBm\n",
    "\n",
    "# ADC sampling rate\n",
    "paramADC = parameters()\n",
    "paramADC.Rs = paramTx.Rs\n",
    "paramADC.SpS_in = paramTx.SpS\n",
    "paramADC.SpS_out = 4\n",
    "\n",
    "## General simulation parameters:\n",
    "chIndex = 0  # index of the channel to be demodulated\n",
    "plotPSD = True\n",
    "Fs = paramTx.Rs * paramTx.SpS  # simulation sampling rate\n",
    "Ts = 1 / Fs\n",
    "\n",
    "# photodiode parameters\n",
    "paramPD = parameters()\n",
    "paramPD.B  = 1.1*paramTx.Rs\n",
    "paramPD.Fs = Fs"
   ]
  },
  {
   "cell_type": "markdown",
   "metadata": {},
   "source": [
    "## Run BER vs rolloff vs FO for all cases"
   ]
  },
  {
   "cell_type": "code",
   "execution_count": null,
   "metadata": {},
   "outputs": [],
   "source": [
    "Rolloff = np.arange(0.05, 0.95, 0.05)\n",
    "FO_Values = np.arange(0e9, 6e9, 1e9)\n",
    "\n",
    "BER = np.zeros((3, len(Rolloff), len(FO_Values)))\n",
    "SER = np.zeros((3, len(Rolloff), len(FO_Values))) \n",
    "GMI = np.zeros((3, len(Rolloff), len(FO_Values)))\n",
    "MI  = np.zeros((3, len(Rolloff), len(FO_Values)))\n",
    "SNR = np.zeros((3, len(Rolloff), len(FO_Values)))\n",
    "SIR = np.zeros((3, len(Rolloff), len(FO_Values)))\n",
    "\n",
    "for indfile in range(0, Interactions):\n",
    "    for indAlg, alg in enumerate(['KK', 'MLP', 'CONVNET']):\n",
    "        for indFO, FOfreq in enumerate(tqdm(FO_Values)):\n",
    "            for indRolloff, rollOff in enumerate(tqdm(Rolloff)):\n",
    "                \n",
    "                paramTx.alphaRRC = rollOff\n",
    "                FO = paramTx.Rs/2 + FOfreq\n",
    "\n",
    "                # generate optical signal signal\n",
    "                sigTx, symbTx_, paramTx = simpleWDMTx(paramTx)\n",
    "\n",
    "                # simulate linear signal propagation\n",
    "                sigCh = linFiberCh(sigTx, Ltotal, alpha, D, Fc, Fs)\n",
    "\n",
    "                symbTx = symbTx_[:, :, chIndex]\n",
    "                Plo = 10 ** (Plo_dBm / 10) * 1e-3  # power in W\n",
    "\n",
    "                # generate LO field\n",
    "                π = np.pi\n",
    "                t = np.arange(0, len(sigCh))*Ts\n",
    "                ϕ_pn_lo = phaseNoise(lw, len(sigCh), Ts)\n",
    "\n",
    "                sigLO = np.sqrt(Plo) * np.exp(-1j * (2 * π * FO * t + ϕ_lo + ϕ_pn_lo))\n",
    "\n",
    "                # Add LO to the received signal\n",
    "                sigRx = np.sqrt(Plo) + sigCh* np.exp(1j * (2 * π * FO * t + ϕ_lo + ϕ_pn_lo))\n",
    "                sfm   = sigRx.copy()\n",
    "\n",
    "                print('CSPR = %.2f dB'%(10*np.log10(signal_power(sigLO)/signal_power(sigCh))))\n",
    "\n",
    "                # simulate ideal direct-detection optical receiver\n",
    "                Ipd = photodiode(sigRx, paramPD)\n",
    "                Amp = np.sqrt(Ipd.real)\n",
    "                Amp = resample(Amp, paramADC).real\n",
    "\n",
    "                # resampling to ADC sampling rate\n",
    "                sigCh = resample(sigCh, paramADC)\n",
    "                sfm = resample(sfm, paramADC)\n",
    "                newFs = paramADC.SpS_out*paramTx.Rs\n",
    "\n",
    "                sfm = sfm/np.sqrt(signal_power(sfm))\n",
    "\n",
    "                if alg == 'KK':\n",
    "                    # Kramers-Kronig phase-retrieval\n",
    "                    phiTime = KramersKronigRx(Amp, newFs)\n",
    "                    # optical field reconstruction\n",
    "                    sigRx = Amp*np.exp(1j*phiTime)\n",
    "                \n",
    "                elif alg == 'MLP':\n",
    "                    # Mlp phase-retrieval\n",
    "                    model = tf.keras.models.load_model(path_mlp+'testModel_SpS_'+str(paramADC.SpS_out)+'_FO_'+str(FO/10e9)+'GHz_Rolloff_'+str(round(paramTx.alphaRRC, 2)))\n",
    "                    #sigPhase = np.angle(sfm) # get signal phase samples (labels) (L,)\n",
    "                    sigAmp  = np.pad(Amp, (int(N/2), int(N/2)), 'constant') # get signal amplitude samples (L,)\n",
    "                    # create set of input features\n",
    "                    X_input = np.zeros((len(sfm), N)) #(L,N)\n",
    "\n",
    "                    for indPhase in range(len(sfm)):\n",
    "                        X_input[indPhase] = sigAmp[indPhase:N+indPhase]\n",
    "\n",
    "                    sigRx_NN = model.predict(X_input)\n",
    "\n",
    "                    # optical field reconstruction\n",
    "                    sigRx = sigRx_NN[:,0]+1j*sigRx_NN[:,1]\n",
    "\n",
    "                elif alg == 'CONVNET':\n",
    "                    # ConvNet phase-retrieval\n",
    "                    model = tf.keras.models.load_model(path_conv+'testModel_SpS_'+str(paramADC.SpS_out)+'_FO_'+str(FO/10e9)+'GHz_Rolloff_'+str(round(paramTx.alphaRRC, 2)))\n",
    "                    #sigPhase = np.angle(sfm) # get signal phase samples (labels) (L,)\n",
    "                    sigAmp  = np.pad(Amp, (int(N/2), int(N/2)), 'constant') # get signal amplitude samples (L,)\n",
    "\n",
    "                    # create set of input features\n",
    "                    X_input = np.zeros((len(sfm), N)) #(L,N)\n",
    "\n",
    "                    for indPhase in range(len(sfm)):\n",
    "                        X_input[indPhase] = sigAmp[indPhase:N+indPhase]\n",
    "\n",
    "                    sigRx_NN = model.predict(X_input)\n",
    "\n",
    "                    # optical field reconstruction\n",
    "                    sigRx = sigRx_NN[:,0]+1j*sigRx_NN[:,1]\n",
    "                    \n",
    "                # remove DC level\n",
    "                sigRx -= np.mean(sigRx) # np.sqrt(Plo)\n",
    "                \n",
    "                # downshift to baseband\n",
    "                t = np.arange(0, len(sigRx))*(1/newFs)\n",
    "                sigRx *= np.exp(-1j * (2 * π * FO * t))\n",
    "\n",
    "                # Matched filtering\n",
    "                if paramTx.pulse == \"nrz\":\n",
    "                    pulse = pulseShape(\"nrz\", paramADC.SpS_out)\n",
    "                elif paramTx.pulse == \"rrc\":\n",
    "                    pulse = pulseShape(\n",
    "                        \"rrc\", paramADC.SpS_out, N=paramTx.Ntaps, alpha=paramTx.alphaRRC, Ts=1 / paramTx.Rs\n",
    "                    )\n",
    "\n",
    "                pulse = pulse / np.max(np.abs(pulse))\n",
    "                sigRx = firFilter(pulse, sigRx)\n",
    "                sigCh = firFilter(pulse, sigCh)\n",
    "\n",
    "                # correct for (possible) phase ambiguity\n",
    "                rot = np.mean(sigCh/sigRx)\n",
    "                sigRx = rot * sigRx\n",
    "                sigRx = sigRx / np.sqrt(signal_power(sigRx))\n",
    "\n",
    "                intf = sigRx/np.sqrt(signal_power(sigRx))-sigCh/np.sqrt(signal_power(sigCh))\n",
    "\n",
    "                SIR[indAlg, indRolloff, indFO] = 1/signal_power(intf)\n",
    "\n",
    "                # resample to 2 samples/symbol:\n",
    "                paramRes = parameters()\n",
    "                paramRes.Rs = paramTx.Rs\n",
    "                paramRes.SpS_in  = paramADC.SpS_out\n",
    "                paramRes.SpS_out = 2\n",
    "\n",
    "                sigRx = resample(sigRx, paramRes)\n",
    "\n",
    "                # CD compensation\n",
    "                sigRx = edc(sigRx, Ltotal, D, Fc, paramRes.SpS_out*paramTx.Rs)\n",
    "\n",
    "                # Downsampling to 2 sps and re-synchronization with transmitted sequences\n",
    "                sigRx = sigRx.reshape(-1, 1)\n",
    "\n",
    "                symbRx = symbolSync(sigRx, symbTx, 2)\n",
    "\n",
    "                # Power normalization\n",
    "                x = sigRx\n",
    "                d = symbRx\n",
    "\n",
    "                x = x.reshape(len(x), 1) / np.sqrt(signal_power(x))\n",
    "                d = d.reshape(len(d), 1) / np.sqrt(signal_power(d))\n",
    "\n",
    "                # Adaptive equalization          \n",
    "                paramEq = parameters()\n",
    "                paramEq.nTaps = 15\n",
    "                paramEq.SpS = 2\n",
    "                paramEq.mu = [1e-3, 5e-4]\n",
    "                paramEq.numIter = 5\n",
    "                paramEq.storeCoeff = False\n",
    "                paramEq.alg = [\"da-rde\", \"rde\"]\n",
    "                paramEq.M = paramTx.M\n",
    "                paramEq.L = [20000, 80000]\n",
    "                paramEq.prgsBar = False\n",
    "\n",
    "                y_EQ, H, errSq, Hiter = mimoAdaptEqualizer(x, dx=d, paramEq=paramEq)\n",
    "\n",
    "                # Carrier phase recovery\n",
    "                paramCPR = parameters()\n",
    "                paramCPR.alg = \"bps\"\n",
    "                paramCPR.M = paramTx.M\n",
    "                paramCPR.N = 85\n",
    "                paramCPR.B = 64\n",
    "                paramCPR.pilotInd = np.arange(0, len(y_EQ), 20)\n",
    "\n",
    "                y_CPR, θ = cpr(y_EQ, symbTx=d, paramCPR=paramCPR)\n",
    "\n",
    "                y_CPR = y_CPR / np.sqrt(signal_power(y_CPR))\n",
    "\n",
    "                # correct for (possible) phase ambiguity\n",
    "                for k in range(y_CPR.shape[1]):\n",
    "                    rot = np.mean(d[:, k] / y_CPR[:, k])\n",
    "                    y_CPR[:, k] = rot * y_CPR[:, k]\n",
    "\n",
    "                y_CPR = y_CPR / np.sqrt(signal_power(y_CPR))\n",
    "\n",
    "                discard = int(paramEq.L[0]/2)\n",
    "\n",
    "                ind = np.arange(discard, d.shape[0] - discard)\n",
    "                BER[indAlg,indRolloff,indFO], SER[indAlg,indRolloff,indFO], SNR[indAlg,indRolloff,indFO] = fastBERcalc(y_CPR[ind, :], d[ind, :], paramTx.M, 'qam')\n",
    "                GMI[indAlg,indRolloff,indFO], _ = monteCarloGMI(y_CPR[ind, :], d[ind, :],  paramTx.M, 'qam')\n",
    "                MI[indAlg,indRolloff,indFO] = monteCarloMI(y_CPR[ind, :], d[ind, :],  paramTx.M, 'qam')\n",
    "\n",
    "                print(\"Results:\")\n",
    "                print(\"BER: %.2e\" %(BER[indAlg,indRolloff,indFO]))\n",
    "                print(\"SNR: %.2f dB\" %(SNR[indAlg,indRolloff,indFO]))\n",
    "                print('SIR = ', round(10*np.log10(SIR[indAlg,indRolloff,indFO]), 2), ' dB')\n",
    "                print(\"GMI: %.2f bits\\n\" %(GMI[indAlg,indRolloff,indFO]))\n",
    "\n",
    "    if saveData:    \n",
    "        # save the simulation data\n",
    "        np.save(path_data+'BER_SpS_'+str(paramADC.SpS_out)+'_'+str(N)+'_Sample_'+str(indfile), BER)\n",
    "        np.save(path_data+'SNR_SpS_'+str(paramADC.SpS_out)+'_'+str(N)+'_Sample_'+str(indfile), SNR)\n",
    "        np.save(path_data+'SIR_SpS_'+str(paramADC.SpS_out)+'_'+str(N)+'_Sample_'+str(indfile), SIR)"
   ]
  },
  {
   "attachments": {},
   "cell_type": "markdown",
   "metadata": {},
   "source": [
    "## Simulation of a single polarization optical signal transmission"
   ]
  },
  {
   "cell_type": "code",
   "execution_count": 4,
   "metadata": {},
   "outputs": [],
   "source": [
    "## Transmitter parameters:\n",
    "paramTx = parameters()\n",
    "paramTx.M = 16                 # order of the modulation format\n",
    "paramTx.Rs = 32e9              # symbol rate [baud]\n",
    "paramTx.SpS = 4                # samples per symbol\n",
    "paramTx.Nbits = 400000         # total number of bits per polarization\n",
    "paramTx.pulse = \"rrc\"          # pulse shaping filter\n",
    "paramTx.Ntaps = 1024           # number of pulse shaping filter coefficients\n",
    "paramTx.alphaRRC = 0.5        # RRC rolloff\n",
    "paramTx.Pch_dBm = 0            # power of the optical signal [dBm]\n",
    "paramTx.Nch = 1                # number of WDM channels\n",
    "paramTx.Fc = 193.1e12          # central frequency of the optical spectrum\n",
    "paramTx.freqSpac = 37.5e9      # WDM grid spacing\n",
    "\n",
    "## Optical channel parameters:\n",
    "Ltotal = 100     # total link distance [km]\n",
    "alpha = 0        # fiber loss parameter [dB/km]\n",
    "D = 17           # fiber dispersion parameter [ps/nm/km]\n",
    "Fc = paramTx.Fc  # central optical frequency of the WDM spectrum [Hz]\n",
    "\n",
    "## Receiver parameters:\n",
    "\n",
    "# local oscillator (LO)\n",
    "FO = paramTx.Rs/2  # frequency offset\n",
    "lw = 0*200e3       # linewidth\n",
    "ϕ_lo = 0           # initial phase in rad\n",
    "#Plo_dBm = 12      # power in dBm\n",
    "\n",
    "# ADC sampling rate\n",
    "paramADC = parameters()\n",
    "paramADC.Rs = paramTx.Rs\n",
    "paramADC.SpS_in = paramTx.SpS\n",
    "paramADC.SpS_out = 4\n",
    "\n",
    "## General simulation parameters:\n",
    "chIndex = 0  # index of the channel to be demodulated\n",
    "plotPSD = True\n",
    "Fs = paramTx.Rs * paramTx.SpS  # simulation sampling rate\n",
    "Ts = 1 / Fs\n",
    "\n",
    "# photodiode parameters\n",
    "paramPD = parameters()\n",
    "paramPD.B  = 1.1*paramTx.Rs\n",
    "paramPD.Fs = Fs"
   ]
  },
  {
   "attachments": {},
   "cell_type": "markdown",
   "metadata": {},
   "source": [
    "## Run all CSPR variations"
   ]
  },
  {
   "cell_type": "code",
   "execution_count": 5,
   "metadata": {},
   "outputs": [
    {
     "data": {
      "application/vnd.jupyter.widget-view+json": {
       "model_id": "57f16c2f4ce9429aabdfd7f0a3b9fe25",
       "version_major": 2,
       "version_minor": 0
      },
      "text/plain": [
       "  0%|          | 0/10 [00:00<?, ?it/s]"
      ]
     },
     "metadata": {},
     "output_type": "display_data"
    },
    {
     "data": {
      "application/vnd.jupyter.widget-view+json": {
       "model_id": "8db03045bc194aa5a8542076fedb2cf3",
       "version_major": 2,
       "version_minor": 0
      },
      "text/plain": [
       "  0%|          | 0/17 [00:00<?, ?it/s]"
      ]
     },
     "metadata": {},
     "output_type": "display_data"
    },
    {
     "data": {
      "application/vnd.jupyter.widget-view+json": {
       "model_id": "af5433eea5ce44f38998f045781db1f9",
       "version_major": 2,
       "version_minor": 0
      },
      "text/plain": [
       "  0%|          | 0/1 [00:00<?, ?it/s]"
      ]
     },
     "metadata": {},
     "output_type": "display_data"
    },
    {
     "name": "stdout",
     "output_type": "stream",
     "text": [
      "CSPR = 6.00 dB\n"
     ]
    },
    {
     "name": "stderr",
     "output_type": "stream",
     "text": [
      "c:\\Users\\optic\\AppData\\Local\\Programs\\Python\\Python39\\lib\\site-packages\\optic\\models.py:730: RuntimeWarning: invalid value encountered in log\n",
      "  phiOmega = 1j * np.sign(xf) * fft(np.log(Amp), axis=0)\n",
      "C:\\Users\\optic\\AppData\\Local\\Temp\\ipykernel_2808\\2276422095.py:109: RuntimeWarning: invalid value encountered in divide\n",
      "  rot = np.mean(sigCh/sigRx)\n",
      "C:\\Users\\optic\\AppData\\Local\\Temp\\ipykernel_2808\\2276422095.py:111: RuntimeWarning: invalid value encountered in divide\n",
      "  sigRx = sigRx / np.sqrt(signal_power(sigRx))\n",
      "C:\\Users\\optic\\AppData\\Local\\Temp\\ipykernel_2808\\2276422095.py:113: RuntimeWarning: invalid value encountered in divide\n",
      "  intf = sigRx/np.sqrt(signal_power(sigRx))-sigCh/np.sqrt(signal_power(sigCh))\n",
      "c:\\Users\\optic\\AppData\\Local\\Programs\\Python\\Python39\\lib\\site-packages\\scipy\\signal\\_signaltools.py:240: RuntimeWarning: Use of fft convolution on input with NAN or inf results in NAN or inf output. Consider using method='direct' instead.\n",
      "  return convolve(in1, _reverse_and_conj(in2), mode, method)\n",
      "C:\\Users\\optic\\AppData\\Local\\Temp\\ipykernel_2808\\2276422095.py:138: RuntimeWarning: invalid value encountered in divide\n",
      "  x = x.reshape(len(x), 1) / np.sqrt(signal_power(x))\n",
      "c:\\Users\\optic\\AppData\\Local\\Programs\\Python\\Python39\\lib\\site-packages\\optic\\equalization.py:150: RuntimeWarning: Mean of empty slice\n",
      "  f\"{runAlg} MSE = %.6f.\", np.nanmean(errSq[:, nStart:nEnd])\n",
      "c:\\Users\\optic\\AppData\\Local\\Programs\\Python\\Python39\\lib\\site-packages\\optic\\equalization.py:166: RuntimeWarning: Mean of empty slice\n",
      "  logg.info(f\"{runAlg} MSE = %.6f.\", np.nanmean(errSq[:, nStart:nEnd]))\n",
      "C:\\Users\\optic\\AppData\\Local\\Temp\\ipykernel_2808\\2276422095.py:167: RuntimeWarning: invalid value encountered in divide\n",
      "  y_CPR = y_CPR / np.sqrt(signal_power(y_CPR))\n",
      "C:\\Users\\optic\\AppData\\Local\\Temp\\ipykernel_2808\\2276422095.py:171: RuntimeWarning: invalid value encountered in divide\n",
      "  rot = np.mean(d[:, k] / y_CPR[:, k])\n",
      "C:\\Users\\optic\\AppData\\Local\\Temp\\ipykernel_2808\\2276422095.py:174: RuntimeWarning: invalid value encountered in divide\n",
      "  y_CPR = y_CPR / np.sqrt(signal_power(y_CPR))\n",
      "c:\\Users\\optic\\AppData\\Local\\Programs\\Python\\Python39\\lib\\site-packages\\optic\\metrics.py:92: RuntimeWarning: invalid value encountered in divide\n",
      "  rot = np.mean(tx[:, k] / rx[:, k])\n",
      "c:\\Users\\optic\\AppData\\Local\\Programs\\Python\\Python39\\lib\\site-packages\\optic\\metrics.py:221: RuntimeWarning: invalid value encountered in divide\n",
      "  rot = np.mean(tx[:, k] / rx[:, k])\n"
     ]
    },
    {
     "name": "stdout",
     "output_type": "stream",
     "text": [
      "Results:\n",
      "BER: 5.01e-01\n",
      "SNR: nan dB\n",
      "SIR =  nan  dB\n",
      "GMI: nan bits\n",
      "\n"
     ]
    },
    {
     "data": {
      "application/vnd.jupyter.widget-view+json": {
       "model_id": "f440586afb35460ebc20ffea7a306756",
       "version_major": 2,
       "version_minor": 0
      },
      "text/plain": [
       "  0%|          | 0/1 [00:00<?, ?it/s]"
      ]
     },
     "metadata": {},
     "output_type": "display_data"
    },
    {
     "name": "stdout",
     "output_type": "stream",
     "text": [
      "CSPR = 6.00 dB\n",
      "Results:\n",
      "BER: 4.86e-01\n",
      "SNR: 0.03 dB\n",
      "SIR =  6.49  dB\n",
      "GMI: -0.06 bits\n",
      "\n"
     ]
    },
    {
     "data": {
      "application/vnd.jupyter.widget-view+json": {
       "model_id": "758c8e114b474584a0972b09aeb4077d",
       "version_major": 2,
       "version_minor": 0
      },
      "text/plain": [
       "  0%|          | 0/1 [00:00<?, ?it/s]"
      ]
     },
     "metadata": {},
     "output_type": "display_data"
    },
    {
     "name": "stdout",
     "output_type": "stream",
     "text": [
      "CSPR = 6.00 dB\n",
      "Results:\n",
      "BER: 4.78e-01\n",
      "SNR: 0.06 dB\n",
      "SIR =  7.02  dB\n",
      "GMI: -0.06 bits\n",
      "\n"
     ]
    },
    {
     "data": {
      "application/vnd.jupyter.widget-view+json": {
       "model_id": "0437418d491e40b08a99b1851d14db35",
       "version_major": 2,
       "version_minor": 0
      },
      "text/plain": [
       "  0%|          | 0/1 [00:00<?, ?it/s]"
      ]
     },
     "metadata": {},
     "output_type": "display_data"
    },
    {
     "name": "stdout",
     "output_type": "stream",
     "text": [
      "CSPR = 6.00 dB\n",
      "Results:\n",
      "BER: 4.51e-01\n",
      "SNR: 0.20 dB\n",
      "SIR =  7.55  dB\n",
      "GMI: -0.03 bits\n",
      "\n"
     ]
    },
    {
     "data": {
      "application/vnd.jupyter.widget-view+json": {
       "model_id": "2178ba240c66433085d344d9052ce0ba",
       "version_major": 2,
       "version_minor": 0
      },
      "text/plain": [
       "  0%|          | 0/1 [00:00<?, ?it/s]"
      ]
     },
     "metadata": {},
     "output_type": "display_data"
    },
    {
     "name": "stdout",
     "output_type": "stream",
     "text": [
      "CSPR = 6.00 dB\n"
     ]
    },
    {
     "name": "stderr",
     "output_type": "stream",
     "text": [
      "c:\\Users\\optic\\AppData\\Local\\Programs\\Python\\Python39\\lib\\site-packages\\optic\\models.py:730: RuntimeWarning: invalid value encountered in log\n",
      "  phiOmega = 1j * np.sign(xf) * fft(np.log(Amp), axis=0)\n",
      "C:\\Users\\optic\\AppData\\Local\\Temp\\ipykernel_2808\\2276422095.py:109: RuntimeWarning: invalid value encountered in divide\n",
      "  rot = np.mean(sigCh/sigRx)\n",
      "C:\\Users\\optic\\AppData\\Local\\Temp\\ipykernel_2808\\2276422095.py:111: RuntimeWarning: invalid value encountered in divide\n",
      "  sigRx = sigRx / np.sqrt(signal_power(sigRx))\n",
      "C:\\Users\\optic\\AppData\\Local\\Temp\\ipykernel_2808\\2276422095.py:113: RuntimeWarning: invalid value encountered in divide\n",
      "  intf = sigRx/np.sqrt(signal_power(sigRx))-sigCh/np.sqrt(signal_power(sigCh))\n",
      "c:\\Users\\optic\\AppData\\Local\\Programs\\Python\\Python39\\lib\\site-packages\\scipy\\signal\\_signaltools.py:240: RuntimeWarning: Use of fft convolution on input with NAN or inf results in NAN or inf output. Consider using method='direct' instead.\n",
      "  return convolve(in1, _reverse_and_conj(in2), mode, method)\n",
      "C:\\Users\\optic\\AppData\\Local\\Temp\\ipykernel_2808\\2276422095.py:138: RuntimeWarning: invalid value encountered in divide\n",
      "  x = x.reshape(len(x), 1) / np.sqrt(signal_power(x))\n",
      "c:\\Users\\optic\\AppData\\Local\\Programs\\Python\\Python39\\lib\\site-packages\\optic\\equalization.py:150: RuntimeWarning: Mean of empty slice\n",
      "  f\"{runAlg} MSE = %.6f.\", np.nanmean(errSq[:, nStart:nEnd])\n",
      "c:\\Users\\optic\\AppData\\Local\\Programs\\Python\\Python39\\lib\\site-packages\\optic\\equalization.py:166: RuntimeWarning: Mean of empty slice\n",
      "  logg.info(f\"{runAlg} MSE = %.6f.\", np.nanmean(errSq[:, nStart:nEnd]))\n"
     ]
    },
    {
     "name": "stdout",
     "output_type": "stream",
     "text": [
      "Results:\n",
      "BER: 4.99e-01\n",
      "SNR: nan dB\n",
      "SIR =  nan  dB\n",
      "GMI: nan bits\n",
      "\n"
     ]
    },
    {
     "name": "stderr",
     "output_type": "stream",
     "text": [
      "C:\\Users\\optic\\AppData\\Local\\Temp\\ipykernel_2808\\2276422095.py:167: RuntimeWarning: invalid value encountered in divide\n",
      "  y_CPR = y_CPR / np.sqrt(signal_power(y_CPR))\n",
      "C:\\Users\\optic\\AppData\\Local\\Temp\\ipykernel_2808\\2276422095.py:171: RuntimeWarning: invalid value encountered in divide\n",
      "  rot = np.mean(d[:, k] / y_CPR[:, k])\n",
      "C:\\Users\\optic\\AppData\\Local\\Temp\\ipykernel_2808\\2276422095.py:174: RuntimeWarning: invalid value encountered in divide\n",
      "  y_CPR = y_CPR / np.sqrt(signal_power(y_CPR))\n",
      "c:\\Users\\optic\\AppData\\Local\\Programs\\Python\\Python39\\lib\\site-packages\\optic\\metrics.py:92: RuntimeWarning: invalid value encountered in divide\n",
      "  rot = np.mean(tx[:, k] / rx[:, k])\n",
      "c:\\Users\\optic\\AppData\\Local\\Programs\\Python\\Python39\\lib\\site-packages\\optic\\metrics.py:221: RuntimeWarning: invalid value encountered in divide\n",
      "  rot = np.mean(tx[:, k] / rx[:, k])\n"
     ]
    },
    {
     "data": {
      "application/vnd.jupyter.widget-view+json": {
       "model_id": "9354eb2a224e41daa9e6242538184848",
       "version_major": 2,
       "version_minor": 0
      },
      "text/plain": [
       "  0%|          | 0/1 [00:00<?, ?it/s]"
      ]
     },
     "metadata": {},
     "output_type": "display_data"
    },
    {
     "name": "stdout",
     "output_type": "stream",
     "text": [
      "CSPR = 6.00 dB\n",
      "Results:\n",
      "BER: 4.44e-01\n",
      "SNR: 0.33 dB\n",
      "SIR =  8.5  dB\n",
      "GMI: -0.01 bits\n",
      "\n"
     ]
    },
    {
     "data": {
      "application/vnd.jupyter.widget-view+json": {
       "model_id": "d6982bc7c6eb4685b0f13d45c3a33266",
       "version_major": 2,
       "version_minor": 0
      },
      "text/plain": [
       "  0%|          | 0/1 [00:00<?, ?it/s]"
      ]
     },
     "metadata": {},
     "output_type": "display_data"
    },
    {
     "name": "stdout",
     "output_type": "stream",
     "text": [
      "CSPR = 6.00 dB\n",
      "Results:\n",
      "BER: 5.01e-01\n",
      "SNR: nan dB\n",
      "SIR =  nan  dB\n",
      "GMI: nan bits\n",
      "\n"
     ]
    },
    {
     "data": {
      "application/vnd.jupyter.widget-view+json": {
       "model_id": "b957cddd725b4bcabe7731e7fe3548e2",
       "version_major": 2,
       "version_minor": 0
      },
      "text/plain": [
       "  0%|          | 0/1 [00:00<?, ?it/s]"
      ]
     },
     "metadata": {},
     "output_type": "display_data"
    },
    {
     "name": "stdout",
     "output_type": "stream",
     "text": [
      "CSPR = 6.00 dB\n",
      "Results:\n",
      "BER: 4.45e-01\n",
      "SNR: 0.30 dB\n",
      "SIR =  9.28  dB\n",
      "GMI: -0.01 bits\n",
      "\n"
     ]
    },
    {
     "data": {
      "application/vnd.jupyter.widget-view+json": {
       "model_id": "db8342106591465ca0b1f910651eab52",
       "version_major": 2,
       "version_minor": 0
      },
      "text/plain": [
       "  0%|          | 0/1 [00:00<?, ?it/s]"
      ]
     },
     "metadata": {},
     "output_type": "display_data"
    },
    {
     "name": "stdout",
     "output_type": "stream",
     "text": [
      "CSPR = 6.00 dB\n",
      "Results:\n",
      "BER: 2.66e-01\n",
      "SNR: 3.18 dB\n",
      "SIR =  9.55  dB\n",
      "GMI: 0.89 bits\n",
      "\n"
     ]
    },
    {
     "data": {
      "application/vnd.jupyter.widget-view+json": {
       "model_id": "992dc61ab46741d695c3a69e9646a8eb",
       "version_major": 2,
       "version_minor": 0
      },
      "text/plain": [
       "  0%|          | 0/1 [00:00<?, ?it/s]"
      ]
     },
     "metadata": {},
     "output_type": "display_data"
    },
    {
     "name": "stdout",
     "output_type": "stream",
     "text": [
      "CSPR = 6.00 dB\n",
      "Results:\n",
      "BER: 5.00e-01\n",
      "SNR: nan dB\n",
      "SIR =  nan  dB\n",
      "GMI: nan bits\n",
      "\n"
     ]
    },
    {
     "data": {
      "application/vnd.jupyter.widget-view+json": {
       "model_id": "4623da7e35bf42e8a5e8a80213672e93",
       "version_major": 2,
       "version_minor": 0
      },
      "text/plain": [
       "  0%|          | 0/1 [00:00<?, ?it/s]"
      ]
     },
     "metadata": {},
     "output_type": "display_data"
    },
    {
     "name": "stdout",
     "output_type": "stream",
     "text": [
      "CSPR = 6.00 dB\n",
      "Results:\n",
      "BER: 3.99e-02\n",
      "SNR: 11.37 dB\n",
      "SIR =  10.09  dB\n",
      "GMI: 3.40 bits\n",
      "\n"
     ]
    },
    {
     "data": {
      "application/vnd.jupyter.widget-view+json": {
       "model_id": "2479c73541ca427daa1c54580c748eec",
       "version_major": 2,
       "version_minor": 0
      },
      "text/plain": [
       "  0%|          | 0/1 [00:00<?, ?it/s]"
      ]
     },
     "metadata": {},
     "output_type": "display_data"
    },
    {
     "name": "stdout",
     "output_type": "stream",
     "text": [
      "CSPR = 6.00 dB\n",
      "Results:\n",
      "BER: 3.21e-02\n",
      "SNR: 11.88 dB\n",
      "SIR =  10.22  dB\n",
      "GMI: 3.50 bits\n",
      "\n"
     ]
    },
    {
     "data": {
      "application/vnd.jupyter.widget-view+json": {
       "model_id": "9b7a2df5f60f4a48be06f31975602c20",
       "version_major": 2,
       "version_minor": 0
      },
      "text/plain": [
       "  0%|          | 0/1 [00:00<?, ?it/s]"
      ]
     },
     "metadata": {},
     "output_type": "display_data"
    },
    {
     "name": "stdout",
     "output_type": "stream",
     "text": [
      "CSPR = 6.00 dB\n",
      "Results:\n",
      "BER: 2.51e-02\n",
      "SNR: 12.40 dB\n",
      "SIR =  10.4  dB\n",
      "GMI: 3.59 bits\n",
      "\n"
     ]
    },
    {
     "data": {
      "application/vnd.jupyter.widget-view+json": {
       "model_id": "e9969b3b857e49ccb6dca4962c63d675",
       "version_major": 2,
       "version_minor": 0
      },
      "text/plain": [
       "  0%|          | 0/1 [00:00<?, ?it/s]"
      ]
     },
     "metadata": {},
     "output_type": "display_data"
    },
    {
     "name": "stdout",
     "output_type": "stream",
     "text": [
      "CSPR = 6.00 dB\n",
      "Results:\n",
      "BER: 2.06e-02\n",
      "SNR: 12.89 dB\n",
      "SIR =  10.59  dB\n",
      "GMI: 3.66 bits\n",
      "\n"
     ]
    },
    {
     "data": {
      "application/vnd.jupyter.widget-view+json": {
       "model_id": "e750ed00ddd049bfb5a23b2685391a6e",
       "version_major": 2,
       "version_minor": 0
      },
      "text/plain": [
       "  0%|          | 0/1 [00:00<?, ?it/s]"
      ]
     },
     "metadata": {},
     "output_type": "display_data"
    },
    {
     "name": "stdout",
     "output_type": "stream",
     "text": [
      "CSPR = 6.00 dB\n",
      "Results:\n",
      "BER: 1.76e-02\n",
      "SNR: 13.21 dB\n",
      "SIR =  10.61  dB\n",
      "GMI: 3.71 bits\n",
      "\n"
     ]
    },
    {
     "data": {
      "application/vnd.jupyter.widget-view+json": {
       "model_id": "611b3bf0d84c41e982259e448f8aa92f",
       "version_major": 2,
       "version_minor": 0
      },
      "text/plain": [
       "  0%|          | 0/1 [00:00<?, ?it/s]"
      ]
     },
     "metadata": {},
     "output_type": "display_data"
    },
    {
     "name": "stdout",
     "output_type": "stream",
     "text": [
      "CSPR = 6.00 dB\n",
      "Results:\n",
      "BER: 1.51e-02\n",
      "SNR: 13.54 dB\n",
      "SIR =  10.71  dB\n",
      "GMI: 3.73 bits\n",
      "\n"
     ]
    },
    {
     "data": {
      "application/vnd.jupyter.widget-view+json": {
       "model_id": "f56d0a30c0d7498ca210e1f9890b0a6c",
       "version_major": 2,
       "version_minor": 0
      },
      "text/plain": [
       "  0%|          | 0/1 [00:00<?, ?it/s]"
      ]
     },
     "metadata": {},
     "output_type": "display_data"
    },
    {
     "name": "stdout",
     "output_type": "stream",
     "text": [
      "CSPR = 6.00 dB\n",
      "Results:\n",
      "BER: 1.35e-02\n",
      "SNR: 13.85 dB\n",
      "SIR =  10.78  dB\n",
      "GMI: 3.76 bits\n",
      "\n"
     ]
    },
    {
     "data": {
      "application/vnd.jupyter.widget-view+json": {
       "model_id": "fdc5153e6af349eead32ba6794f9df5d",
       "version_major": 2,
       "version_minor": 0
      },
      "text/plain": [
       "  0%|          | 0/17 [00:00<?, ?it/s]"
      ]
     },
     "metadata": {},
     "output_type": "display_data"
    },
    {
     "data": {
      "application/vnd.jupyter.widget-view+json": {
       "model_id": "a98f76163a7648338673924e1e96f6b6",
       "version_major": 2,
       "version_minor": 0
      },
      "text/plain": [
       "  0%|          | 0/1 [00:00<?, ?it/s]"
      ]
     },
     "metadata": {},
     "output_type": "display_data"
    },
    {
     "name": "stdout",
     "output_type": "stream",
     "text": [
      "CSPR = 7.00 dB\n",
      "Results:\n",
      "BER: 4.99e-01\n",
      "SNR: nan dB\n",
      "SIR =  nan  dB\n",
      "GMI: nan bits\n",
      "\n"
     ]
    },
    {
     "data": {
      "application/vnd.jupyter.widget-view+json": {
       "model_id": "41c9f169586f498e9b67fd8e18d1c9d3",
       "version_major": 2,
       "version_minor": 0
      },
      "text/plain": [
       "  0%|          | 0/1 [00:00<?, ?it/s]"
      ]
     },
     "metadata": {},
     "output_type": "display_data"
    },
    {
     "name": "stdout",
     "output_type": "stream",
     "text": [
      "CSPR = 7.00 dB\n",
      "Results:\n",
      "BER: 4.80e-01\n",
      "SNR: 0.04 dB\n",
      "SIR =  6.86  dB\n",
      "GMI: -0.06 bits\n",
      "\n"
     ]
    },
    {
     "data": {
      "application/vnd.jupyter.widget-view+json": {
       "model_id": "ac1cd90c9f784e0b8ce332e2a67b5706",
       "version_major": 2,
       "version_minor": 0
      },
      "text/plain": [
       "  0%|          | 0/1 [00:00<?, ?it/s]"
      ]
     },
     "metadata": {},
     "output_type": "display_data"
    },
    {
     "name": "stdout",
     "output_type": "stream",
     "text": [
      "CSPR = 7.00 dB\n",
      "Results:\n",
      "BER: 4.46e-01\n",
      "SNR: 0.30 dB\n",
      "SIR =  7.39  dB\n",
      "GMI: -0.00 bits\n",
      "\n"
     ]
    },
    {
     "data": {
      "application/vnd.jupyter.widget-view+json": {
       "model_id": "7e4004c079c543c39d812aa79130d118",
       "version_major": 2,
       "version_minor": 0
      },
      "text/plain": [
       "  0%|          | 0/1 [00:00<?, ?it/s]"
      ]
     },
     "metadata": {},
     "output_type": "display_data"
    },
    {
     "name": "stdout",
     "output_type": "stream",
     "text": [
      "CSPR = 7.00 dB\n",
      "Results:\n",
      "BER: 4.86e-01\n",
      "SNR: 0.02 dB\n",
      "SIR =  7.94  dB\n",
      "GMI: -0.06 bits\n",
      "\n"
     ]
    },
    {
     "data": {
      "application/vnd.jupyter.widget-view+json": {
       "model_id": "71e3e80bc8654a0b84bc4cb46c21f197",
       "version_major": 2,
       "version_minor": 0
      },
      "text/plain": [
       "  0%|          | 0/1 [00:00<?, ?it/s]"
      ]
     },
     "metadata": {},
     "output_type": "display_data"
    },
    {
     "name": "stdout",
     "output_type": "stream",
     "text": [
      "CSPR = 7.00 dB\n",
      "Results:\n",
      "BER: 4.79e-01\n",
      "SNR: 0.04 dB\n",
      "SIR =  8.47  dB\n",
      "GMI: -0.04 bits\n",
      "\n"
     ]
    },
    {
     "data": {
      "application/vnd.jupyter.widget-view+json": {
       "model_id": "a3257d6abefe4238aed98370f899dc7e",
       "version_major": 2,
       "version_minor": 0
      },
      "text/plain": [
       "  0%|          | 0/1 [00:00<?, ?it/s]"
      ]
     },
     "metadata": {},
     "output_type": "display_data"
    },
    {
     "name": "stdout",
     "output_type": "stream",
     "text": [
      "CSPR = 7.00 dB\n",
      "Results:\n",
      "BER: 4.37e-01\n",
      "SNR: 0.34 dB\n",
      "SIR =  8.88  dB\n",
      "GMI: 0.01 bits\n",
      "\n"
     ]
    },
    {
     "data": {
      "application/vnd.jupyter.widget-view+json": {
       "model_id": "cc4c368d473646fabc735ce4fd6f662b",
       "version_major": 2,
       "version_minor": 0
      },
      "text/plain": [
       "  0%|          | 0/1 [00:00<?, ?it/s]"
      ]
     },
     "metadata": {},
     "output_type": "display_data"
    },
    {
     "name": "stdout",
     "output_type": "stream",
     "text": [
      "CSPR = 7.00 dB\n",
      "Results:\n",
      "BER: 5.01e-01\n",
      "SNR: nan dB\n",
      "SIR =  nan  dB\n",
      "GMI: nan bits\n",
      "\n"
     ]
    },
    {
     "data": {
      "application/vnd.jupyter.widget-view+json": {
       "model_id": "cbb92adc393348c78ce06529a8a84dcd",
       "version_major": 2,
       "version_minor": 0
      },
      "text/plain": [
       "  0%|          | 0/1 [00:00<?, ?it/s]"
      ]
     },
     "metadata": {},
     "output_type": "display_data"
    },
    {
     "name": "stdout",
     "output_type": "stream",
     "text": [
      "CSPR = 7.00 dB\n",
      "Results:\n",
      "BER: 2.90e-01\n",
      "SNR: 2.88 dB\n",
      "SIR =  9.66  dB\n",
      "GMI: 0.75 bits\n",
      "\n"
     ]
    },
    {
     "data": {
      "application/vnd.jupyter.widget-view+json": {
       "model_id": "5bc5d372a1414f029b59ed4d3ff478a6",
       "version_major": 2,
       "version_minor": 0
      },
      "text/plain": [
       "  0%|          | 0/1 [00:00<?, ?it/s]"
      ]
     },
     "metadata": {},
     "output_type": "display_data"
    },
    {
     "name": "stdout",
     "output_type": "stream",
     "text": [
      "CSPR = 7.00 dB\n",
      "Results:\n",
      "BER: 2.91e-01\n",
      "SNR: 2.94 dB\n",
      "SIR =  9.98  dB\n",
      "GMI: 0.76 bits\n",
      "\n"
     ]
    },
    {
     "data": {
      "application/vnd.jupyter.widget-view+json": {
       "model_id": "2073036e045e4486b1ad6cceb75e875e",
       "version_major": 2,
       "version_minor": 0
      },
      "text/plain": [
       "  0%|          | 0/1 [00:00<?, ?it/s]"
      ]
     },
     "metadata": {},
     "output_type": "display_data"
    },
    {
     "name": "stdout",
     "output_type": "stream",
     "text": [
      "CSPR = 7.00 dB\n",
      "Results:\n",
      "BER: 4.19e-02\n",
      "SNR: 11.23 dB\n",
      "SIR =  10.23  dB\n",
      "GMI: 3.38 bits\n",
      "\n"
     ]
    },
    {
     "data": {
      "application/vnd.jupyter.widget-view+json": {
       "model_id": "80a9b3e509ae4ae892f789ea500c3d38",
       "version_major": 2,
       "version_minor": 0
      },
      "text/plain": [
       "  0%|          | 0/1 [00:00<?, ?it/s]"
      ]
     },
     "metadata": {},
     "output_type": "display_data"
    },
    {
     "name": "stdout",
     "output_type": "stream",
     "text": [
      "CSPR = 7.00 dB\n",
      "Results:\n",
      "BER: 3.22e-02\n",
      "SNR: 11.89 dB\n",
      "SIR =  10.46  dB\n",
      "GMI: 3.51 bits\n",
      "\n"
     ]
    },
    {
     "data": {
      "application/vnd.jupyter.widget-view+json": {
       "model_id": "5b4e7efb0a154466b57df92831cf5a32",
       "version_major": 2,
       "version_minor": 0
      },
      "text/plain": [
       "  0%|          | 0/1 [00:00<?, ?it/s]"
      ]
     },
     "metadata": {},
     "output_type": "display_data"
    },
    {
     "name": "stdout",
     "output_type": "stream",
     "text": [
      "CSPR = 7.00 dB\n",
      "Results:\n",
      "BER: 2.47e-02\n",
      "SNR: 12.49 dB\n",
      "SIR =  10.66  dB\n",
      "GMI: 3.62 bits\n",
      "\n"
     ]
    },
    {
     "data": {
      "application/vnd.jupyter.widget-view+json": {
       "model_id": "2d4ca0c98dc04b478003ba4137267e9b",
       "version_major": 2,
       "version_minor": 0
      },
      "text/plain": [
       "  0%|          | 0/1 [00:00<?, ?it/s]"
      ]
     },
     "metadata": {},
     "output_type": "display_data"
    },
    {
     "name": "stdout",
     "output_type": "stream",
     "text": [
      "CSPR = 7.00 dB\n",
      "Results:\n",
      "BER: 1.91e-02\n",
      "SNR: 13.01 dB\n",
      "SIR =  10.82  dB\n",
      "GMI: 3.70 bits\n",
      "\n"
     ]
    },
    {
     "data": {
      "application/vnd.jupyter.widget-view+json": {
       "model_id": "cf4d7b8a66d34d39a7d57ddbe47c3b7b",
       "version_major": 2,
       "version_minor": 0
      },
      "text/plain": [
       "  0%|          | 0/1 [00:00<?, ?it/s]"
      ]
     },
     "metadata": {},
     "output_type": "display_data"
    },
    {
     "name": "stdout",
     "output_type": "stream",
     "text": [
      "CSPR = 7.00 dB\n",
      "Results:\n",
      "BER: 1.44e-02\n",
      "SNR: 13.57 dB\n",
      "SIR =  11.03  dB\n",
      "GMI: 3.77 bits\n",
      "\n"
     ]
    },
    {
     "data": {
      "application/vnd.jupyter.widget-view+json": {
       "model_id": "b621627529b7437b9fe84915c7a127b5",
       "version_major": 2,
       "version_minor": 0
      },
      "text/plain": [
       "  0%|          | 0/1 [00:00<?, ?it/s]"
      ]
     },
     "metadata": {},
     "output_type": "display_data"
    },
    {
     "name": "stdout",
     "output_type": "stream",
     "text": [
      "CSPR = 7.00 dB\n",
      "Results:\n",
      "BER: 1.14e-02\n",
      "SNR: 13.97 dB\n",
      "SIR =  11.04  dB\n",
      "GMI: 3.81 bits\n",
      "\n"
     ]
    },
    {
     "data": {
      "application/vnd.jupyter.widget-view+json": {
       "model_id": "43b0f9bed81b4896a2d0f5b2e11ccf3a",
       "version_major": 2,
       "version_minor": 0
      },
      "text/plain": [
       "  0%|          | 0/1 [00:00<?, ?it/s]"
      ]
     },
     "metadata": {},
     "output_type": "display_data"
    },
    {
     "name": "stdout",
     "output_type": "stream",
     "text": [
      "CSPR = 7.00 dB\n",
      "Results:\n",
      "BER: 9.83e-03\n",
      "SNR: 14.31 dB\n",
      "SIR =  11.08  dB\n",
      "GMI: 3.83 bits\n",
      "\n"
     ]
    },
    {
     "data": {
      "application/vnd.jupyter.widget-view+json": {
       "model_id": "55d551b9dd5f41b28d6e2aebe863e258",
       "version_major": 2,
       "version_minor": 0
      },
      "text/plain": [
       "  0%|          | 0/1 [00:00<?, ?it/s]"
      ]
     },
     "metadata": {},
     "output_type": "display_data"
    },
    {
     "name": "stdout",
     "output_type": "stream",
     "text": [
      "CSPR = 7.00 dB\n",
      "Results:\n",
      "BER: 7.68e-03\n",
      "SNR: 14.68 dB\n",
      "SIR =  11.24  dB\n",
      "GMI: 3.87 bits\n",
      "\n"
     ]
    },
    {
     "data": {
      "application/vnd.jupyter.widget-view+json": {
       "model_id": "63cbaa9c1dc64be0bf42afe6bc206c79",
       "version_major": 2,
       "version_minor": 0
      },
      "text/plain": [
       "  0%|          | 0/17 [00:00<?, ?it/s]"
      ]
     },
     "metadata": {},
     "output_type": "display_data"
    },
    {
     "data": {
      "application/vnd.jupyter.widget-view+json": {
       "model_id": "05f776ad42fb4c56970cb047a387e8ad",
       "version_major": 2,
       "version_minor": 0
      },
      "text/plain": [
       "  0%|          | 0/1 [00:00<?, ?it/s]"
      ]
     },
     "metadata": {},
     "output_type": "display_data"
    },
    {
     "name": "stdout",
     "output_type": "stream",
     "text": [
      "CSPR = 8.00 dB\n",
      "Results:\n",
      "BER: 4.87e-01\n",
      "SNR: 0.01 dB\n",
      "SIR =  6.56  dB\n",
      "GMI: -0.06 bits\n",
      "\n"
     ]
    },
    {
     "data": {
      "application/vnd.jupyter.widget-view+json": {
       "model_id": "43a15237c22c4412936ee36b5b2d99b6",
       "version_major": 2,
       "version_minor": 0
      },
      "text/plain": [
       "  0%|          | 0/1 [00:00<?, ?it/s]"
      ]
     },
     "metadata": {},
     "output_type": "display_data"
    },
    {
     "name": "stdout",
     "output_type": "stream",
     "text": [
      "CSPR = 8.00 dB\n",
      "Results:\n",
      "BER: 4.90e-01\n",
      "SNR: 0.01 dB\n",
      "SIR =  7.13  dB\n",
      "GMI: -0.06 bits\n",
      "\n"
     ]
    },
    {
     "data": {
      "application/vnd.jupyter.widget-view+json": {
       "model_id": "e4d50cef6fc8470eb7a60a97b2ca33e4",
       "version_major": 2,
       "version_minor": 0
      },
      "text/plain": [
       "  0%|          | 0/1 [00:00<?, ?it/s]"
      ]
     },
     "metadata": {},
     "output_type": "display_data"
    },
    {
     "name": "stdout",
     "output_type": "stream",
     "text": [
      "CSPR = 8.00 dB\n",
      "Results:\n",
      "BER: 4.92e-01\n",
      "SNR: 0.01 dB\n",
      "SIR =  7.68  dB\n",
      "GMI: -0.06 bits\n",
      "\n"
     ]
    },
    {
     "data": {
      "application/vnd.jupyter.widget-view+json": {
       "model_id": "cee099227d084c95a1770a3298f756ec",
       "version_major": 2,
       "version_minor": 0
      },
      "text/plain": [
       "  0%|          | 0/1 [00:00<?, ?it/s]"
      ]
     },
     "metadata": {},
     "output_type": "display_data"
    },
    {
     "name": "stdout",
     "output_type": "stream",
     "text": [
      "CSPR = 8.00 dB\n",
      "Results:\n",
      "BER: 4.45e-01\n",
      "SNR: 0.30 dB\n",
      "SIR =  8.26  dB\n",
      "GMI: -0.00 bits\n",
      "\n"
     ]
    },
    {
     "data": {
      "application/vnd.jupyter.widget-view+json": {
       "model_id": "27ede1f5ee704ede882bf42a87ed32d7",
       "version_major": 2,
       "version_minor": 0
      },
      "text/plain": [
       "  0%|          | 0/1 [00:00<?, ?it/s]"
      ]
     },
     "metadata": {},
     "output_type": "display_data"
    },
    {
     "name": "stdout",
     "output_type": "stream",
     "text": [
      "CSPR = 8.00 dB\n",
      "Results:\n",
      "BER: 4.69e-01\n",
      "SNR: 0.09 dB\n",
      "SIR =  8.71  dB\n",
      "GMI: -0.05 bits\n",
      "\n"
     ]
    },
    {
     "data": {
      "application/vnd.jupyter.widget-view+json": {
       "model_id": "9cee10d691054406b23d8507d1b42b49",
       "version_major": 2,
       "version_minor": 0
      },
      "text/plain": [
       "  0%|          | 0/1 [00:00<?, ?it/s]"
      ]
     },
     "metadata": {},
     "output_type": "display_data"
    },
    {
     "name": "stdout",
     "output_type": "stream",
     "text": [
      "CSPR = 8.00 dB\n",
      "Results:\n",
      "BER: 4.39e-01\n",
      "SNR: 0.49 dB\n",
      "SIR =  9.22  dB\n",
      "GMI: 0.03 bits\n",
      "\n"
     ]
    },
    {
     "data": {
      "application/vnd.jupyter.widget-view+json": {
       "model_id": "11e5c0fb29154def8640373b9a49031e",
       "version_major": 2,
       "version_minor": 0
      },
      "text/plain": [
       "  0%|          | 0/1 [00:00<?, ?it/s]"
      ]
     },
     "metadata": {},
     "output_type": "display_data"
    },
    {
     "name": "stdout",
     "output_type": "stream",
     "text": [
      "CSPR = 8.00 dB\n",
      "Results:\n",
      "BER: 3.87e-01\n",
      "SNR: 0.96 dB\n",
      "SIR =  9.59  dB\n",
      "GMI: 0.17 bits\n",
      "\n"
     ]
    },
    {
     "data": {
      "application/vnd.jupyter.widget-view+json": {
       "model_id": "4fbe700f7409449283d7cec227c9e9da",
       "version_major": 2,
       "version_minor": 0
      },
      "text/plain": [
       "  0%|          | 0/1 [00:00<?, ?it/s]"
      ]
     },
     "metadata": {},
     "output_type": "display_data"
    },
    {
     "name": "stdout",
     "output_type": "stream",
     "text": [
      "CSPR = 8.00 dB\n",
      "Results:\n",
      "BER: 6.32e-02\n",
      "SNR: 10.14 dB\n",
      "SIR =  9.99  dB\n",
      "GMI: 3.10 bits\n",
      "\n"
     ]
    },
    {
     "data": {
      "application/vnd.jupyter.widget-view+json": {
       "model_id": "048ff1ac40ed4837901f8b58a365573c",
       "version_major": 2,
       "version_minor": 0
      },
      "text/plain": [
       "  0%|          | 0/1 [00:00<?, ?it/s]"
      ]
     },
     "metadata": {},
     "output_type": "display_data"
    },
    {
     "name": "stdout",
     "output_type": "stream",
     "text": [
      "CSPR = 8.00 dB\n",
      "Results:\n",
      "BER: 4.85e-02\n",
      "SNR: 10.85 dB\n",
      "SIR =  10.27  dB\n",
      "GMI: 3.29 bits\n",
      "\n"
     ]
    },
    {
     "data": {
      "application/vnd.jupyter.widget-view+json": {
       "model_id": "7004716983404eed9d184dc0f1ecd689",
       "version_major": 2,
       "version_minor": 0
      },
      "text/plain": [
       "  0%|          | 0/1 [00:00<?, ?it/s]"
      ]
     },
     "metadata": {},
     "output_type": "display_data"
    },
    {
     "name": "stdout",
     "output_type": "stream",
     "text": [
      "CSPR = 8.00 dB\n",
      "Results:\n",
      "BER: 3.62e-02\n",
      "SNR: 11.62 dB\n",
      "SIR =  10.55  dB\n",
      "GMI: 3.46 bits\n",
      "\n"
     ]
    },
    {
     "data": {
      "application/vnd.jupyter.widget-view+json": {
       "model_id": "a433fb456f884d8e93fbd77e035fe51e",
       "version_major": 2,
       "version_minor": 0
      },
      "text/plain": [
       "  0%|          | 0/1 [00:00<?, ?it/s]"
      ]
     },
     "metadata": {},
     "output_type": "display_data"
    },
    {
     "name": "stdout",
     "output_type": "stream",
     "text": [
      "CSPR = 8.00 dB\n",
      "Results:\n",
      "BER: 2.65e-02\n",
      "SNR: 12.32 dB\n",
      "SIR =  10.76  dB\n",
      "GMI: 3.60 bits\n",
      "\n"
     ]
    },
    {
     "data": {
      "application/vnd.jupyter.widget-view+json": {
       "model_id": "ef6259ba4a844e47b4eaeb4599cc4b9b",
       "version_major": 2,
       "version_minor": 0
      },
      "text/plain": [
       "  0%|          | 0/1 [00:00<?, ?it/s]"
      ]
     },
     "metadata": {},
     "output_type": "display_data"
    },
    {
     "name": "stdout",
     "output_type": "stream",
     "text": [
      "CSPR = 8.00 dB\n",
      "Results:\n",
      "BER: 1.86e-02\n",
      "SNR: 13.00 dB\n",
      "SIR =  11.07  dB\n",
      "GMI: 3.71 bits\n",
      "\n"
     ]
    },
    {
     "data": {
      "application/vnd.jupyter.widget-view+json": {
       "model_id": "5a818d583c004679b568d6c01cf7abbb",
       "version_major": 2,
       "version_minor": 0
      },
      "text/plain": [
       "  0%|          | 0/1 [00:00<?, ?it/s]"
      ]
     },
     "metadata": {},
     "output_type": "display_data"
    },
    {
     "name": "stdout",
     "output_type": "stream",
     "text": [
      "CSPR = 8.00 dB\n",
      "Results:\n",
      "BER: 1.41e-02\n",
      "SNR: 13.54 dB\n",
      "SIR =  11.1  dB\n",
      "GMI: 3.78 bits\n",
      "\n"
     ]
    },
    {
     "data": {
      "application/vnd.jupyter.widget-view+json": {
       "model_id": "ad17996801f4404c8e0cc0efe69b4931",
       "version_major": 2,
       "version_minor": 0
      },
      "text/plain": [
       "  0%|          | 0/1 [00:00<?, ?it/s]"
      ]
     },
     "metadata": {},
     "output_type": "display_data"
    },
    {
     "name": "stdout",
     "output_type": "stream",
     "text": [
      "CSPR = 8.00 dB\n",
      "Results:\n",
      "BER: 1.06e-02\n",
      "SNR: 14.08 dB\n",
      "SIR =  11.31  dB\n",
      "GMI: 3.83 bits\n",
      "\n"
     ]
    },
    {
     "data": {
      "application/vnd.jupyter.widget-view+json": {
       "model_id": "d9ec78d531f54f31a13c87378ce884b5",
       "version_major": 2,
       "version_minor": 0
      },
      "text/plain": [
       "  0%|          | 0/1 [00:00<?, ?it/s]"
      ]
     },
     "metadata": {},
     "output_type": "display_data"
    },
    {
     "name": "stdout",
     "output_type": "stream",
     "text": [
      "CSPR = 8.00 dB\n",
      "Results:\n",
      "BER: 7.85e-03\n",
      "SNR: 14.51 dB\n",
      "SIR =  11.32  dB\n",
      "GMI: 3.87 bits\n",
      "\n"
     ]
    },
    {
     "data": {
      "application/vnd.jupyter.widget-view+json": {
       "model_id": "133ddfa0870642079fbfbf4f2f62f735",
       "version_major": 2,
       "version_minor": 0
      },
      "text/plain": [
       "  0%|          | 0/1 [00:00<?, ?it/s]"
      ]
     },
     "metadata": {},
     "output_type": "display_data"
    },
    {
     "name": "stdout",
     "output_type": "stream",
     "text": [
      "CSPR = 8.00 dB\n",
      "Results:\n",
      "BER: 5.59e-03\n",
      "SNR: 15.00 dB\n",
      "SIR =  11.5  dB\n",
      "GMI: 3.91 bits\n",
      "\n"
     ]
    },
    {
     "data": {
      "application/vnd.jupyter.widget-view+json": {
       "model_id": "6531fdf0652d454ba93076441507eb2f",
       "version_major": 2,
       "version_minor": 0
      },
      "text/plain": [
       "  0%|          | 0/1 [00:00<?, ?it/s]"
      ]
     },
     "metadata": {},
     "output_type": "display_data"
    },
    {
     "name": "stdout",
     "output_type": "stream",
     "text": [
      "CSPR = 8.00 dB\n",
      "Results:\n",
      "BER: 4.78e-03\n",
      "SNR: 15.37 dB\n",
      "SIR =  11.54  dB\n",
      "GMI: 3.92 bits\n",
      "\n"
     ]
    },
    {
     "data": {
      "application/vnd.jupyter.widget-view+json": {
       "model_id": "50e13484c7f54d7ba44904cfe1fec98d",
       "version_major": 2,
       "version_minor": 0
      },
      "text/plain": [
       "  0%|          | 0/17 [00:00<?, ?it/s]"
      ]
     },
     "metadata": {},
     "output_type": "display_data"
    },
    {
     "data": {
      "application/vnd.jupyter.widget-view+json": {
       "model_id": "5a2c254eeb7a464abf66d1719ae8d334",
       "version_major": 2,
       "version_minor": 0
      },
      "text/plain": [
       "  0%|          | 0/1 [00:00<?, ?it/s]"
      ]
     },
     "metadata": {},
     "output_type": "display_data"
    },
    {
     "name": "stdout",
     "output_type": "stream",
     "text": [
      "CSPR = 9.00 dB\n",
      "Results:\n",
      "BER: 4.97e-01\n",
      "SNR: 0.00 dB\n",
      "SIR =  6.8  dB\n",
      "GMI: -0.06 bits\n",
      "\n"
     ]
    },
    {
     "data": {
      "application/vnd.jupyter.widget-view+json": {
       "model_id": "b32422cdd36a4bb7a77453b2f1e56916",
       "version_major": 2,
       "version_minor": 0
      },
      "text/plain": [
       "  0%|          | 0/1 [00:00<?, ?it/s]"
      ]
     },
     "metadata": {},
     "output_type": "display_data"
    },
    {
     "name": "stdout",
     "output_type": "stream",
     "text": [
      "CSPR = 9.00 dB\n",
      "Results:\n",
      "BER: 4.68e-01\n",
      "SNR: 0.10 dB\n",
      "SIR =  7.41  dB\n",
      "GMI: -0.05 bits\n",
      "\n"
     ]
    },
    {
     "data": {
      "application/vnd.jupyter.widget-view+json": {
       "model_id": "1a251ee86d7d4768a931d1ffbd551e3a",
       "version_major": 2,
       "version_minor": 0
      },
      "text/plain": [
       "  0%|          | 0/1 [00:00<?, ?it/s]"
      ]
     },
     "metadata": {},
     "output_type": "display_data"
    },
    {
     "name": "stdout",
     "output_type": "stream",
     "text": [
      "CSPR = 9.00 dB\n",
      "Results:\n",
      "BER: 4.89e-01\n",
      "SNR: 0.01 dB\n",
      "SIR =  7.96  dB\n",
      "GMI: -0.05 bits\n",
      "\n"
     ]
    },
    {
     "data": {
      "application/vnd.jupyter.widget-view+json": {
       "model_id": "1ee14b4c91524cf1bae201908540f510",
       "version_major": 2,
       "version_minor": 0
      },
      "text/plain": [
       "  0%|          | 0/1 [00:00<?, ?it/s]"
      ]
     },
     "metadata": {},
     "output_type": "display_data"
    },
    {
     "name": "stdout",
     "output_type": "stream",
     "text": [
      "CSPR = 9.00 dB\n",
      "Results:\n",
      "BER: 4.57e-01\n",
      "SNR: 0.19 dB\n",
      "SIR =  8.49  dB\n",
      "GMI: -0.04 bits\n",
      "\n"
     ]
    },
    {
     "data": {
      "application/vnd.jupyter.widget-view+json": {
       "model_id": "2a13a62fec5543809d77fb59189bb1d4",
       "version_major": 2,
       "version_minor": 0
      },
      "text/plain": [
       "  0%|          | 0/1 [00:00<?, ?it/s]"
      ]
     },
     "metadata": {},
     "output_type": "display_data"
    },
    {
     "name": "stdout",
     "output_type": "stream",
     "text": [
      "CSPR = 9.00 dB\n",
      "Results:\n",
      "BER: 4.75e-01\n",
      "SNR: 0.08 dB\n",
      "SIR =  8.97  dB\n",
      "GMI: -0.06 bits\n",
      "\n"
     ]
    },
    {
     "data": {
      "application/vnd.jupyter.widget-view+json": {
       "model_id": "4db64b1d9a7047dd80b14a9bad99ccf8",
       "version_major": 2,
       "version_minor": 0
      },
      "text/plain": [
       "  0%|          | 0/1 [00:00<?, ?it/s]"
      ]
     },
     "metadata": {},
     "output_type": "display_data"
    },
    {
     "name": "stdout",
     "output_type": "stream",
     "text": [
      "CSPR = 9.00 dB\n",
      "Results:\n",
      "BER: 3.66e-01\n",
      "SNR: 1.24 dB\n",
      "SIR =  9.42  dB\n",
      "GMI: 0.25 bits\n",
      "\n"
     ]
    },
    {
     "data": {
      "application/vnd.jupyter.widget-view+json": {
       "model_id": "c248517c5bfc42b9a8233fcc0ff26385",
       "version_major": 2,
       "version_minor": 0
      },
      "text/plain": [
       "  0%|          | 0/1 [00:00<?, ?it/s]"
      ]
     },
     "metadata": {},
     "output_type": "display_data"
    },
    {
     "name": "stdout",
     "output_type": "stream",
     "text": [
      "CSPR = 9.00 dB\n",
      "Results:\n",
      "BER: 1.61e-01\n",
      "SNR: 4.79 dB\n",
      "SIR =  9.87  dB\n",
      "GMI: 1.59 bits\n",
      "\n"
     ]
    },
    {
     "data": {
      "application/vnd.jupyter.widget-view+json": {
       "model_id": "e955f1ec689146d3b94dc184ed492e3f",
       "version_major": 2,
       "version_minor": 0
      },
      "text/plain": [
       "  0%|          | 0/1 [00:00<?, ?it/s]"
      ]
     },
     "metadata": {},
     "output_type": "display_data"
    },
    {
     "name": "stdout",
     "output_type": "stream",
     "text": [
      "CSPR = 9.00 dB\n",
      "Results:\n",
      "BER: 5.71e-02\n",
      "SNR: 10.40 dB\n",
      "SIR =  10.2  dB\n",
      "GMI: 3.18 bits\n",
      "\n"
     ]
    },
    {
     "data": {
      "application/vnd.jupyter.widget-view+json": {
       "model_id": "c363fdf72d7e40b09614479bddb748fd",
       "version_major": 2,
       "version_minor": 0
      },
      "text/plain": [
       "  0%|          | 0/1 [00:00<?, ?it/s]"
      ]
     },
     "metadata": {},
     "output_type": "display_data"
    },
    {
     "name": "stdout",
     "output_type": "stream",
     "text": [
      "CSPR = 9.00 dB\n",
      "Results:\n",
      "BER: 4.30e-02\n",
      "SNR: 11.17 dB\n",
      "SIR =  10.52  dB\n",
      "GMI: 3.36 bits\n",
      "\n"
     ]
    },
    {
     "data": {
      "application/vnd.jupyter.widget-view+json": {
       "model_id": "a82ae2c2a0604223b0ec94665897a969",
       "version_major": 2,
       "version_minor": 0
      },
      "text/plain": [
       "  0%|          | 0/1 [00:00<?, ?it/s]"
      ]
     },
     "metadata": {},
     "output_type": "display_data"
    },
    {
     "name": "stdout",
     "output_type": "stream",
     "text": [
      "CSPR = 9.00 dB\n",
      "Results:\n",
      "BER: 3.12e-02\n",
      "SNR: 11.94 dB\n",
      "SIR =  10.75  dB\n",
      "GMI: 3.53 bits\n",
      "\n"
     ]
    },
    {
     "data": {
      "application/vnd.jupyter.widget-view+json": {
       "model_id": "fc6f0ee104ab456eb80df81987baa19d",
       "version_major": 2,
       "version_minor": 0
      },
      "text/plain": [
       "  0%|          | 0/1 [00:00<?, ?it/s]"
      ]
     },
     "metadata": {},
     "output_type": "display_data"
    },
    {
     "name": "stdout",
     "output_type": "stream",
     "text": [
      "CSPR = 9.00 dB\n",
      "Results:\n",
      "BER: 2.24e-02\n",
      "SNR: 12.64 dB\n",
      "SIR =  11.04  dB\n",
      "GMI: 3.65 bits\n",
      "\n"
     ]
    },
    {
     "data": {
      "application/vnd.jupyter.widget-view+json": {
       "model_id": "a1bae8f199cc4957ac50a6a74e9e8b7d",
       "version_major": 2,
       "version_minor": 0
      },
      "text/plain": [
       "  0%|          | 0/1 [00:00<?, ?it/s]"
      ]
     },
     "metadata": {},
     "output_type": "display_data"
    },
    {
     "name": "stdout",
     "output_type": "stream",
     "text": [
      "CSPR = 9.00 dB\n",
      "Results:\n",
      "BER: 1.56e-02\n",
      "SNR: 13.29 dB\n",
      "SIR =  11.13  dB\n",
      "GMI: 3.75 bits\n",
      "\n"
     ]
    },
    {
     "data": {
      "application/vnd.jupyter.widget-view+json": {
       "model_id": "56175b1a44fb45a8bc43aa8208457d9f",
       "version_major": 2,
       "version_minor": 0
      },
      "text/plain": [
       "  0%|          | 0/1 [00:00<?, ?it/s]"
      ]
     },
     "metadata": {},
     "output_type": "display_data"
    },
    {
     "name": "stdout",
     "output_type": "stream",
     "text": [
      "CSPR = 9.00 dB\n",
      "Results:\n",
      "BER: 1.10e-02\n",
      "SNR: 13.94 dB\n",
      "SIR =  11.37  dB\n",
      "GMI: 3.83 bits\n",
      "\n"
     ]
    },
    {
     "data": {
      "application/vnd.jupyter.widget-view+json": {
       "model_id": "85c08bb1fe8e4e3bb924532ac749b8d7",
       "version_major": 2,
       "version_minor": 0
      },
      "text/plain": [
       "  0%|          | 0/1 [00:00<?, ?it/s]"
      ]
     },
     "metadata": {},
     "output_type": "display_data"
    },
    {
     "name": "stdout",
     "output_type": "stream",
     "text": [
      "CSPR = 9.00 dB\n",
      "Results:\n",
      "BER: 7.36e-03\n",
      "SNR: 14.51 dB\n",
      "SIR =  11.52  dB\n",
      "GMI: 3.88 bits\n",
      "\n"
     ]
    },
    {
     "data": {
      "application/vnd.jupyter.widget-view+json": {
       "model_id": "93d9eab939a3431ebc32f5d8d79fe04a",
       "version_major": 2,
       "version_minor": 0
      },
      "text/plain": [
       "  0%|          | 0/1 [00:00<?, ?it/s]"
      ]
     },
     "metadata": {},
     "output_type": "display_data"
    },
    {
     "name": "stdout",
     "output_type": "stream",
     "text": [
      "CSPR = 9.00 dB\n",
      "Results:\n",
      "BER: 5.40e-03\n",
      "SNR: 15.00 dB\n",
      "SIR =  11.65  dB\n",
      "GMI: 3.91 bits\n",
      "\n"
     ]
    },
    {
     "data": {
      "application/vnd.jupyter.widget-view+json": {
       "model_id": "9514b22c3f74462f922035ce82962f02",
       "version_major": 2,
       "version_minor": 0
      },
      "text/plain": [
       "  0%|          | 0/1 [00:00<?, ?it/s]"
      ]
     },
     "metadata": {},
     "output_type": "display_data"
    },
    {
     "name": "stdout",
     "output_type": "stream",
     "text": [
      "CSPR = 9.00 dB\n",
      "Results:\n",
      "BER: 3.91e-03\n",
      "SNR: 15.46 dB\n",
      "SIR =  11.7  dB\n",
      "GMI: 3.93 bits\n",
      "\n"
     ]
    },
    {
     "data": {
      "application/vnd.jupyter.widget-view+json": {
       "model_id": "64ca3fd2faf94b4db35fa5dd4ff43b7a",
       "version_major": 2,
       "version_minor": 0
      },
      "text/plain": [
       "  0%|          | 0/1 [00:00<?, ?it/s]"
      ]
     },
     "metadata": {},
     "output_type": "display_data"
    },
    {
     "name": "stdout",
     "output_type": "stream",
     "text": [
      "CSPR = 9.00 dB\n",
      "Results:\n",
      "BER: 2.76e-03\n",
      "SNR: 15.86 dB\n",
      "SIR =  11.72  dB\n",
      "GMI: 3.95 bits\n",
      "\n"
     ]
    },
    {
     "data": {
      "application/vnd.jupyter.widget-view+json": {
       "model_id": "d1064d3644624002b26a9ecca74ed4e9",
       "version_major": 2,
       "version_minor": 0
      },
      "text/plain": [
       "  0%|          | 0/17 [00:00<?, ?it/s]"
      ]
     },
     "metadata": {},
     "output_type": "display_data"
    },
    {
     "data": {
      "application/vnd.jupyter.widget-view+json": {
       "model_id": "8b11880bfe1d491eb739fb0fb79b0530",
       "version_major": 2,
       "version_minor": 0
      },
      "text/plain": [
       "  0%|          | 0/1 [00:00<?, ?it/s]"
      ]
     },
     "metadata": {},
     "output_type": "display_data"
    },
    {
     "name": "stdout",
     "output_type": "stream",
     "text": [
      "CSPR = 10.00 dB\n",
      "Results:\n",
      "BER: 4.83e-01\n",
      "SNR: 0.02 dB\n",
      "SIR =  7.02  dB\n",
      "GMI: -0.06 bits\n",
      "\n"
     ]
    },
    {
     "data": {
      "application/vnd.jupyter.widget-view+json": {
       "model_id": "1d0ce48061114907aad8338315fbda47",
       "version_major": 2,
       "version_minor": 0
      },
      "text/plain": [
       "  0%|          | 0/1 [00:00<?, ?it/s]"
      ]
     },
     "metadata": {},
     "output_type": "display_data"
    },
    {
     "name": "stdout",
     "output_type": "stream",
     "text": [
      "CSPR = 10.00 dB\n",
      "Results:\n",
      "BER: 4.77e-01\n",
      "SNR: 0.06 dB\n",
      "SIR =  7.6  dB\n",
      "GMI: -0.06 bits\n",
      "\n"
     ]
    },
    {
     "data": {
      "application/vnd.jupyter.widget-view+json": {
       "model_id": "a5c26f23abf54fda8f1d1321227d939d",
       "version_major": 2,
       "version_minor": 0
      },
      "text/plain": [
       "  0%|          | 0/1 [00:00<?, ?it/s]"
      ]
     },
     "metadata": {},
     "output_type": "display_data"
    },
    {
     "name": "stdout",
     "output_type": "stream",
     "text": [
      "CSPR = 10.00 dB\n",
      "Results:\n",
      "BER: 4.69e-01\n",
      "SNR: 0.08 dB\n",
      "SIR =  8.12  dB\n",
      "GMI: -0.05 bits\n",
      "\n"
     ]
    },
    {
     "data": {
      "application/vnd.jupyter.widget-view+json": {
       "model_id": "b99e4a8d5b5044fbb6302fa161ee9fbe",
       "version_major": 2,
       "version_minor": 0
      },
      "text/plain": [
       "  0%|          | 0/1 [00:00<?, ?it/s]"
      ]
     },
     "metadata": {},
     "output_type": "display_data"
    },
    {
     "name": "stdout",
     "output_type": "stream",
     "text": [
      "CSPR = 10.00 dB\n",
      "Results:\n",
      "BER: 4.62e-01\n",
      "SNR: 0.15 dB\n",
      "SIR =  8.67  dB\n",
      "GMI: -0.04 bits\n",
      "\n"
     ]
    },
    {
     "data": {
      "application/vnd.jupyter.widget-view+json": {
       "model_id": "8fe49425873441408ad3bee568822faa",
       "version_major": 2,
       "version_minor": 0
      },
      "text/plain": [
       "  0%|          | 0/1 [00:00<?, ?it/s]"
      ]
     },
     "metadata": {},
     "output_type": "display_data"
    },
    {
     "name": "stdout",
     "output_type": "stream",
     "text": [
      "CSPR = 10.00 dB\n",
      "Results:\n",
      "BER: 4.43e-01\n",
      "SNR: 0.41 dB\n",
      "SIR =  9.15  dB\n",
      "GMI: 0.01 bits\n",
      "\n"
     ]
    },
    {
     "data": {
      "application/vnd.jupyter.widget-view+json": {
       "model_id": "c4fbe080ae554bf28b2dc2ff71202c2b",
       "version_major": 2,
       "version_minor": 0
      },
      "text/plain": [
       "  0%|          | 0/1 [00:00<?, ?it/s]"
      ]
     },
     "metadata": {},
     "output_type": "display_data"
    },
    {
     "name": "stdout",
     "output_type": "stream",
     "text": [
      "CSPR = 10.00 dB\n",
      "Results:\n",
      "BER: 4.57e-01\n",
      "SNR: 0.16 dB\n",
      "SIR =  9.59  dB\n",
      "GMI: -0.04 bits\n",
      "\n"
     ]
    },
    {
     "data": {
      "application/vnd.jupyter.widget-view+json": {
       "model_id": "aa64cb0a9b2346749f130c9d9469dd72",
       "version_major": 2,
       "version_minor": 0
      },
      "text/plain": [
       "  0%|          | 0/1 [00:00<?, ?it/s]"
      ]
     },
     "metadata": {},
     "output_type": "display_data"
    },
    {
     "name": "stdout",
     "output_type": "stream",
     "text": [
      "CSPR = 10.00 dB\n",
      "Results:\n",
      "BER: 3.15e-01\n",
      "SNR: 2.60 dB\n",
      "SIR =  10.06  dB\n",
      "GMI: 0.61 bits\n",
      "\n"
     ]
    },
    {
     "data": {
      "application/vnd.jupyter.widget-view+json": {
       "model_id": "da5915c5bdc6419893991bc2dd75c54a",
       "version_major": 2,
       "version_minor": 0
      },
      "text/plain": [
       "  0%|          | 0/1 [00:00<?, ?it/s]"
      ]
     },
     "metadata": {},
     "output_type": "display_data"
    },
    {
     "name": "stdout",
     "output_type": "stream",
     "text": [
      "CSPR = 10.00 dB\n",
      "Results:\n",
      "BER: 1.46e-01\n",
      "SNR: 5.05 dB\n",
      "SIR =  10.36  dB\n",
      "GMI: 1.68 bits\n",
      "\n"
     ]
    },
    {
     "data": {
      "application/vnd.jupyter.widget-view+json": {
       "model_id": "607ac963695d4ee186476a8453afb857",
       "version_major": 2,
       "version_minor": 0
      },
      "text/plain": [
       "  0%|          | 0/1 [00:00<?, ?it/s]"
      ]
     },
     "metadata": {},
     "output_type": "display_data"
    },
    {
     "name": "stdout",
     "output_type": "stream",
     "text": [
      "CSPR = 10.00 dB\n",
      "Results:\n",
      "BER: 3.11e-01\n",
      "SNR: 2.73 dB\n",
      "SIR =  10.7  dB\n",
      "GMI: 0.64 bits\n",
      "\n"
     ]
    },
    {
     "data": {
      "application/vnd.jupyter.widget-view+json": {
       "model_id": "2bfca3b3357f4e38b1a05b47a682b038",
       "version_major": 2,
       "version_minor": 0
      },
      "text/plain": [
       "  0%|          | 0/1 [00:00<?, ?it/s]"
      ]
     },
     "metadata": {},
     "output_type": "display_data"
    },
    {
     "name": "stdout",
     "output_type": "stream",
     "text": [
      "CSPR = 10.00 dB\n",
      "Results:\n",
      "BER: 2.90e-02\n",
      "SNR: 12.08 dB\n",
      "SIR =  10.97  dB\n",
      "GMI: 3.56 bits\n",
      "\n"
     ]
    },
    {
     "data": {
      "application/vnd.jupyter.widget-view+json": {
       "model_id": "b09b9e45de7d4658afff2d3af5c7133f",
       "version_major": 2,
       "version_minor": 0
      },
      "text/plain": [
       "  0%|          | 0/1 [00:00<?, ?it/s]"
      ]
     },
     "metadata": {},
     "output_type": "display_data"
    },
    {
     "name": "stdout",
     "output_type": "stream",
     "text": [
      "CSPR = 10.00 dB\n",
      "Results:\n",
      "BER: 1.93e-02\n",
      "SNR: 12.91 dB\n",
      "SIR =  11.18  dB\n",
      "GMI: 3.70 bits\n",
      "\n"
     ]
    },
    {
     "data": {
      "application/vnd.jupyter.widget-view+json": {
       "model_id": "44946f75206649869eb9aa33e6b3db94",
       "version_major": 2,
       "version_minor": 0
      },
      "text/plain": [
       "  0%|          | 0/1 [00:00<?, ?it/s]"
      ]
     },
     "metadata": {},
     "output_type": "display_data"
    },
    {
     "name": "stdout",
     "output_type": "stream",
     "text": [
      "CSPR = 10.00 dB\n",
      "Results:\n",
      "BER: 1.32e-02\n",
      "SNR: 13.59 dB\n",
      "SIR =  11.38  dB\n",
      "GMI: 3.79 bits\n",
      "\n"
     ]
    },
    {
     "data": {
      "application/vnd.jupyter.widget-view+json": {
       "model_id": "d7f932393cef44e7af5619cc5aabcdac",
       "version_major": 2,
       "version_minor": 0
      },
      "text/plain": [
       "  0%|          | 0/1 [00:00<?, ?it/s]"
      ]
     },
     "metadata": {},
     "output_type": "display_data"
    },
    {
     "name": "stdout",
     "output_type": "stream",
     "text": [
      "CSPR = 10.00 dB\n",
      "Results:\n",
      "BER: 8.74e-03\n",
      "SNR: 14.26 dB\n",
      "SIR =  11.6  dB\n",
      "GMI: 3.86 bits\n",
      "\n"
     ]
    },
    {
     "data": {
      "application/vnd.jupyter.widget-view+json": {
       "model_id": "9e891ff5293044339f55d27d329d9c22",
       "version_major": 2,
       "version_minor": 0
      },
      "text/plain": [
       "  0%|          | 0/1 [00:00<?, ?it/s]"
      ]
     },
     "metadata": {},
     "output_type": "display_data"
    },
    {
     "name": "stdout",
     "output_type": "stream",
     "text": [
      "CSPR = 10.00 dB\n",
      "Results:\n",
      "BER: 5.67e-03\n",
      "SNR: 14.84 dB\n",
      "SIR =  11.66  dB\n",
      "GMI: 3.91 bits\n",
      "\n"
     ]
    },
    {
     "data": {
      "application/vnd.jupyter.widget-view+json": {
       "model_id": "f26af3dae41345b09a515d1ba17706ba",
       "version_major": 2,
       "version_minor": 0
      },
      "text/plain": [
       "  0%|          | 0/1 [00:00<?, ?it/s]"
      ]
     },
     "metadata": {},
     "output_type": "display_data"
    },
    {
     "name": "stdout",
     "output_type": "stream",
     "text": [
      "CSPR = 10.00 dB\n",
      "Results:\n",
      "BER: 4.24e-03\n",
      "SNR: 15.35 dB\n",
      "SIR =  11.74  dB\n",
      "GMI: 3.93 bits\n",
      "\n"
     ]
    },
    {
     "data": {
      "application/vnd.jupyter.widget-view+json": {
       "model_id": "cfbf0ca617f84fa59afa5aa91ed7cff0",
       "version_major": 2,
       "version_minor": 0
      },
      "text/plain": [
       "  0%|          | 0/1 [00:00<?, ?it/s]"
      ]
     },
     "metadata": {},
     "output_type": "display_data"
    },
    {
     "name": "stdout",
     "output_type": "stream",
     "text": [
      "CSPR = 10.00 dB\n",
      "Results:\n",
      "BER: 2.44e-03\n",
      "SNR: 15.94 dB\n",
      "SIR =  11.93  dB\n",
      "GMI: 3.96 bits\n",
      "\n"
     ]
    },
    {
     "data": {
      "application/vnd.jupyter.widget-view+json": {
       "model_id": "65329dda5c1d4a67a1eed4ada1664572",
       "version_major": 2,
       "version_minor": 0
      },
      "text/plain": [
       "  0%|          | 0/1 [00:00<?, ?it/s]"
      ]
     },
     "metadata": {},
     "output_type": "display_data"
    },
    {
     "name": "stdout",
     "output_type": "stream",
     "text": [
      "CSPR = 10.00 dB\n",
      "Results:\n",
      "BER: 2.01e-03\n",
      "SNR: 16.31 dB\n",
      "SIR =  11.93  dB\n",
      "GMI: 3.97 bits\n",
      "\n"
     ]
    },
    {
     "data": {
      "application/vnd.jupyter.widget-view+json": {
       "model_id": "e68432f05df24f1aa3ab164258f937c6",
       "version_major": 2,
       "version_minor": 0
      },
      "text/plain": [
       "  0%|          | 0/17 [00:00<?, ?it/s]"
      ]
     },
     "metadata": {},
     "output_type": "display_data"
    },
    {
     "data": {
      "application/vnd.jupyter.widget-view+json": {
       "model_id": "e637f9e3090f484a9256c21c996c77d9",
       "version_major": 2,
       "version_minor": 0
      },
      "text/plain": [
       "  0%|          | 0/1 [00:00<?, ?it/s]"
      ]
     },
     "metadata": {},
     "output_type": "display_data"
    },
    {
     "name": "stdout",
     "output_type": "stream",
     "text": [
      "CSPR = 11.00 dB\n",
      "Results:\n",
      "BER: 4.89e-01\n",
      "SNR: 0.01 dB\n",
      "SIR =  7.18  dB\n",
      "GMI: -0.06 bits\n",
      "\n"
     ]
    },
    {
     "data": {
      "application/vnd.jupyter.widget-view+json": {
       "model_id": "66493f511c5c46b1b8e8094dc9be00cc",
       "version_major": 2,
       "version_minor": 0
      },
      "text/plain": [
       "  0%|          | 0/1 [00:00<?, ?it/s]"
      ]
     },
     "metadata": {},
     "output_type": "display_data"
    },
    {
     "name": "stdout",
     "output_type": "stream",
     "text": [
      "CSPR = 11.00 dB\n",
      "Results:\n",
      "BER: 4.71e-01\n",
      "SNR: 0.08 dB\n",
      "SIR =  7.74  dB\n",
      "GMI: -0.06 bits\n",
      "\n"
     ]
    },
    {
     "data": {
      "application/vnd.jupyter.widget-view+json": {
       "model_id": "3ddb2c987a7d4b9ab685f85a1da2f1ec",
       "version_major": 2,
       "version_minor": 0
      },
      "text/plain": [
       "  0%|          | 0/1 [00:00<?, ?it/s]"
      ]
     },
     "metadata": {},
     "output_type": "display_data"
    },
    {
     "name": "stdout",
     "output_type": "stream",
     "text": [
      "CSPR = 11.00 dB\n",
      "Results:\n",
      "BER: 4.57e-01\n",
      "SNR: 0.21 dB\n",
      "SIR =  8.34  dB\n",
      "GMI: -0.03 bits\n",
      "\n"
     ]
    },
    {
     "data": {
      "application/vnd.jupyter.widget-view+json": {
       "model_id": "447985789f8e47d1b063b98c65e6c021",
       "version_major": 2,
       "version_minor": 0
      },
      "text/plain": [
       "  0%|          | 0/1 [00:00<?, ?it/s]"
      ]
     },
     "metadata": {},
     "output_type": "display_data"
    },
    {
     "name": "stdout",
     "output_type": "stream",
     "text": [
      "CSPR = 11.00 dB\n",
      "Results:\n",
      "BER: 4.55e-01\n",
      "SNR: 0.24 dB\n",
      "SIR =  8.8  dB\n",
      "GMI: -0.02 bits\n",
      "\n"
     ]
    },
    {
     "data": {
      "application/vnd.jupyter.widget-view+json": {
       "model_id": "b1eaf87c8bc34a869af00725a27cd021",
       "version_major": 2,
       "version_minor": 0
      },
      "text/plain": [
       "  0%|          | 0/1 [00:00<?, ?it/s]"
      ]
     },
     "metadata": {},
     "output_type": "display_data"
    },
    {
     "name": "stdout",
     "output_type": "stream",
     "text": [
      "CSPR = 11.00 dB\n",
      "Results:\n",
      "BER: 4.43e-01\n",
      "SNR: 0.28 dB\n",
      "SIR =  9.32  dB\n",
      "GMI: -0.01 bits\n",
      "\n"
     ]
    },
    {
     "data": {
      "application/vnd.jupyter.widget-view+json": {
       "model_id": "0ded9cec302544079004b89fb46a42a0",
       "version_major": 2,
       "version_minor": 0
      },
      "text/plain": [
       "  0%|          | 0/1 [00:00<?, ?it/s]"
      ]
     },
     "metadata": {},
     "output_type": "display_data"
    },
    {
     "name": "stdout",
     "output_type": "stream",
     "text": [
      "CSPR = 11.00 dB\n",
      "Results:\n",
      "BER: 4.13e-01\n",
      "SNR: 0.75 dB\n",
      "SIR =  9.74  dB\n",
      "GMI: 0.11 bits\n",
      "\n"
     ]
    },
    {
     "data": {
      "application/vnd.jupyter.widget-view+json": {
       "model_id": "03ff780c8c1b4197abd941ce3017cf80",
       "version_major": 2,
       "version_minor": 0
      },
      "text/plain": [
       "  0%|          | 0/1 [00:00<?, ?it/s]"
      ]
     },
     "metadata": {},
     "output_type": "display_data"
    },
    {
     "name": "stdout",
     "output_type": "stream",
     "text": [
      "CSPR = 11.00 dB\n",
      "Results:\n",
      "BER: 3.07e-01\n",
      "SNR: 2.72 dB\n",
      "SIR =  10.13  dB\n",
      "GMI: 0.66 bits\n",
      "\n"
     ]
    },
    {
     "data": {
      "application/vnd.jupyter.widget-view+json": {
       "model_id": "6dce99fee30341d6ae9c95d1fcdd34d0",
       "version_major": 2,
       "version_minor": 0
      },
      "text/plain": [
       "  0%|          | 0/1 [00:00<?, ?it/s]"
      ]
     },
     "metadata": {},
     "output_type": "display_data"
    },
    {
     "name": "stdout",
     "output_type": "stream",
     "text": [
      "CSPR = 11.00 dB\n",
      "Results:\n",
      "BER: 5.16e-02\n",
      "SNR: 10.69 dB\n",
      "SIR =  10.48  dB\n",
      "GMI: 3.25 bits\n",
      "\n"
     ]
    },
    {
     "data": {
      "application/vnd.jupyter.widget-view+json": {
       "model_id": "1afdf87acb054b748f49601390660bcb",
       "version_major": 2,
       "version_minor": 0
      },
      "text/plain": [
       "  0%|          | 0/1 [00:00<?, ?it/s]"
      ]
     },
     "metadata": {},
     "output_type": "display_data"
    },
    {
     "name": "stdout",
     "output_type": "stream",
     "text": [
      "CSPR = 11.00 dB\n",
      "Results:\n",
      "BER: 3.86e-02\n",
      "SNR: 11.48 dB\n",
      "SIR =  10.83  dB\n",
      "GMI: 3.43 bits\n",
      "\n"
     ]
    },
    {
     "data": {
      "application/vnd.jupyter.widget-view+json": {
       "model_id": "21eb1098363847c49094cd06f5a4c328",
       "version_major": 2,
       "version_minor": 0
      },
      "text/plain": [
       "  0%|          | 0/1 [00:00<?, ?it/s]"
      ]
     },
     "metadata": {},
     "output_type": "display_data"
    },
    {
     "name": "stdout",
     "output_type": "stream",
     "text": [
      "CSPR = 11.00 dB\n",
      "Results:\n",
      "BER: 2.62e-02\n",
      "SNR: 12.33 dB\n",
      "SIR =  11.07  dB\n",
      "GMI: 3.60 bits\n",
      "\n"
     ]
    },
    {
     "data": {
      "application/vnd.jupyter.widget-view+json": {
       "model_id": "87c08d51924944fb821b877aa7d675ad",
       "version_major": 2,
       "version_minor": 0
      },
      "text/plain": [
       "  0%|          | 0/1 [00:00<?, ?it/s]"
      ]
     },
     "metadata": {},
     "output_type": "display_data"
    },
    {
     "name": "stdout",
     "output_type": "stream",
     "text": [
      "CSPR = 11.00 dB\n",
      "Results:\n",
      "BER: 1.78e-02\n",
      "SNR: 13.06 dB\n",
      "SIR =  11.28  dB\n",
      "GMI: 3.73 bits\n",
      "\n"
     ]
    },
    {
     "data": {
      "application/vnd.jupyter.widget-view+json": {
       "model_id": "c70cbc69d4864979ae722c3e60a2111a",
       "version_major": 2,
       "version_minor": 0
      },
      "text/plain": [
       "  0%|          | 0/1 [00:00<?, ?it/s]"
      ]
     },
     "metadata": {},
     "output_type": "display_data"
    },
    {
     "name": "stdout",
     "output_type": "stream",
     "text": [
      "CSPR = 11.00 dB\n",
      "Results:\n",
      "BER: 1.17e-02\n",
      "SNR: 13.78 dB\n",
      "SIR =  11.47  dB\n",
      "GMI: 3.82 bits\n",
      "\n"
     ]
    },
    {
     "data": {
      "application/vnd.jupyter.widget-view+json": {
       "model_id": "9f766727399242c5919f8f8cfaa635e6",
       "version_major": 2,
       "version_minor": 0
      },
      "text/plain": [
       "  0%|          | 0/1 [00:00<?, ?it/s]"
      ]
     },
     "metadata": {},
     "output_type": "display_data"
    },
    {
     "name": "stdout",
     "output_type": "stream",
     "text": [
      "CSPR = 11.00 dB\n",
      "Results:\n",
      "BER: 7.47e-03\n",
      "SNR: 14.50 dB\n",
      "SIR =  11.66  dB\n",
      "GMI: 3.88 bits\n",
      "\n"
     ]
    },
    {
     "data": {
      "application/vnd.jupyter.widget-view+json": {
       "model_id": "b37c3635ec4049ed846beba7a4a68ff6",
       "version_major": 2,
       "version_minor": 0
      },
      "text/plain": [
       "  0%|          | 0/1 [00:00<?, ?it/s]"
      ]
     },
     "metadata": {},
     "output_type": "display_data"
    },
    {
     "name": "stdout",
     "output_type": "stream",
     "text": [
      "CSPR = 11.00 dB\n",
      "Results:\n",
      "BER: 4.65e-03\n",
      "SNR: 15.09 dB\n",
      "SIR =  11.82  dB\n",
      "GMI: 3.92 bits\n",
      "\n"
     ]
    },
    {
     "data": {
      "application/vnd.jupyter.widget-view+json": {
       "model_id": "9c3e692372054def8f073813284a7c2b",
       "version_major": 2,
       "version_minor": 0
      },
      "text/plain": [
       "  0%|          | 0/1 [00:00<?, ?it/s]"
      ]
     },
     "metadata": {},
     "output_type": "display_data"
    },
    {
     "name": "stdout",
     "output_type": "stream",
     "text": [
      "CSPR = 11.00 dB\n",
      "Results:\n",
      "BER: 3.11e-03\n",
      "SNR: 15.68 dB\n",
      "SIR =  11.92  dB\n",
      "GMI: 3.95 bits\n",
      "\n"
     ]
    },
    {
     "data": {
      "application/vnd.jupyter.widget-view+json": {
       "model_id": "02d349047b8b49d8bb7e042462f132b4",
       "version_major": 2,
       "version_minor": 0
      },
      "text/plain": [
       "  0%|          | 0/1 [00:00<?, ?it/s]"
      ]
     },
     "metadata": {},
     "output_type": "display_data"
    },
    {
     "name": "stdout",
     "output_type": "stream",
     "text": [
      "CSPR = 11.00 dB\n",
      "Results:\n",
      "BER: 2.05e-03\n",
      "SNR: 16.16 dB\n",
      "SIR =  11.93  dB\n",
      "GMI: 3.97 bits\n",
      "\n"
     ]
    },
    {
     "data": {
      "application/vnd.jupyter.widget-view+json": {
       "model_id": "909344fb2b3a45e9b0b88a3a46919cc5",
       "version_major": 2,
       "version_minor": 0
      },
      "text/plain": [
       "  0%|          | 0/1 [00:00<?, ?it/s]"
      ]
     },
     "metadata": {},
     "output_type": "display_data"
    },
    {
     "name": "stdout",
     "output_type": "stream",
     "text": [
      "CSPR = 11.00 dB\n",
      "Results:\n",
      "BER: 1.09e-03\n",
      "SNR: 16.73 dB\n",
      "SIR =  12.09  dB\n",
      "GMI: 3.98 bits\n",
      "\n"
     ]
    },
    {
     "data": {
      "application/vnd.jupyter.widget-view+json": {
       "model_id": "55829f76121e465daf93d4b123844ddb",
       "version_major": 2,
       "version_minor": 0
      },
      "text/plain": [
       "  0%|          | 0/17 [00:00<?, ?it/s]"
      ]
     },
     "metadata": {},
     "output_type": "display_data"
    },
    {
     "data": {
      "application/vnd.jupyter.widget-view+json": {
       "model_id": "b488b522368943ccac6ea2082836d2c5",
       "version_major": 2,
       "version_minor": 0
      },
      "text/plain": [
       "  0%|          | 0/1 [00:00<?, ?it/s]"
      ]
     },
     "metadata": {},
     "output_type": "display_data"
    },
    {
     "name": "stdout",
     "output_type": "stream",
     "text": [
      "CSPR = 12.00 dB\n",
      "Results:\n",
      "BER: 4.81e-01\n",
      "SNR: 0.03 dB\n",
      "SIR =  7.29  dB\n",
      "GMI: -0.06 bits\n",
      "\n"
     ]
    },
    {
     "data": {
      "application/vnd.jupyter.widget-view+json": {
       "model_id": "7809e6b04da64cb48897693392810531",
       "version_major": 2,
       "version_minor": 0
      },
      "text/plain": [
       "  0%|          | 0/1 [00:00<?, ?it/s]"
      ]
     },
     "metadata": {},
     "output_type": "display_data"
    },
    {
     "name": "stdout",
     "output_type": "stream",
     "text": [
      "CSPR = 12.00 dB\n",
      "Results:\n",
      "BER: 4.94e-01\n",
      "SNR: 0.00 dB\n",
      "SIR =  7.86  dB\n",
      "GMI: -0.06 bits\n",
      "\n"
     ]
    },
    {
     "data": {
      "application/vnd.jupyter.widget-view+json": {
       "model_id": "9c71107f45254551b37a9b3fd6eb90ac",
       "version_major": 2,
       "version_minor": 0
      },
      "text/plain": [
       "  0%|          | 0/1 [00:00<?, ?it/s]"
      ]
     },
     "metadata": {},
     "output_type": "display_data"
    },
    {
     "name": "stdout",
     "output_type": "stream",
     "text": [
      "CSPR = 12.00 dB\n",
      "Results:\n",
      "BER: 4.76e-01\n",
      "SNR: 0.07 dB\n",
      "SIR =  8.4  dB\n",
      "GMI: -0.05 bits\n",
      "\n"
     ]
    },
    {
     "data": {
      "application/vnd.jupyter.widget-view+json": {
       "model_id": "444b03d521504d32beeb856d979fefa3",
       "version_major": 2,
       "version_minor": 0
      },
      "text/plain": [
       "  0%|          | 0/1 [00:00<?, ?it/s]"
      ]
     },
     "metadata": {},
     "output_type": "display_data"
    },
    {
     "name": "stdout",
     "output_type": "stream",
     "text": [
      "CSPR = 12.00 dB\n",
      "Results:\n",
      "BER: 4.78e-01\n",
      "SNR: 0.05 dB\n",
      "SIR =  8.92  dB\n",
      "GMI: -0.06 bits\n",
      "\n"
     ]
    },
    {
     "data": {
      "application/vnd.jupyter.widget-view+json": {
       "model_id": "eb0155aaaea04a52b9866e08c178707e",
       "version_major": 2,
       "version_minor": 0
      },
      "text/plain": [
       "  0%|          | 0/1 [00:00<?, ?it/s]"
      ]
     },
     "metadata": {},
     "output_type": "display_data"
    },
    {
     "name": "stdout",
     "output_type": "stream",
     "text": [
      "CSPR = 12.00 dB\n",
      "Results:\n",
      "BER: 4.19e-01\n",
      "SNR: 0.62 dB\n",
      "SIR =  9.43  dB\n",
      "GMI: 0.07 bits\n",
      "\n"
     ]
    },
    {
     "data": {
      "application/vnd.jupyter.widget-view+json": {
       "model_id": "2030405e93a64962b05a73d8ef89509f",
       "version_major": 2,
       "version_minor": 0
      },
      "text/plain": [
       "  0%|          | 0/1 [00:00<?, ?it/s]"
      ]
     },
     "metadata": {},
     "output_type": "display_data"
    },
    {
     "name": "stdout",
     "output_type": "stream",
     "text": [
      "CSPR = 12.00 dB\n",
      "Results:\n",
      "BER: 2.90e-01\n",
      "SNR: 2.04 dB\n",
      "SIR =  9.9  dB\n",
      "GMI: 0.56 bits\n",
      "\n"
     ]
    },
    {
     "data": {
      "application/vnd.jupyter.widget-view+json": {
       "model_id": "3d02f33fdd53463db400d65e2a64194b",
       "version_major": 2,
       "version_minor": 0
      },
      "text/plain": [
       "  0%|          | 0/1 [00:00<?, ?it/s]"
      ]
     },
     "metadata": {},
     "output_type": "display_data"
    },
    {
     "name": "stdout",
     "output_type": "stream",
     "text": [
      "CSPR = 12.00 dB\n",
      "Results:\n",
      "BER: 3.00e-01\n",
      "SNR: 2.34 dB\n",
      "SIR =  10.25  dB\n",
      "GMI: 0.61 bits\n",
      "\n"
     ]
    },
    {
     "data": {
      "application/vnd.jupyter.widget-view+json": {
       "model_id": "5b3b2798ca6e4e0faaf1fef7fc772df8",
       "version_major": 2,
       "version_minor": 0
      },
      "text/plain": [
       "  0%|          | 0/1 [00:00<?, ?it/s]"
      ]
     },
     "metadata": {},
     "output_type": "display_data"
    },
    {
     "name": "stdout",
     "output_type": "stream",
     "text": [
      "CSPR = 12.00 dB\n",
      "Results:\n",
      "BER: 8.71e-02\n",
      "SNR: 6.98 dB\n",
      "SIR =  10.62  dB\n",
      "GMI: 2.31 bits\n",
      "\n"
     ]
    },
    {
     "data": {
      "application/vnd.jupyter.widget-view+json": {
       "model_id": "e4e67077cf614b0f89f53d28707554bd",
       "version_major": 2,
       "version_minor": 0
      },
      "text/plain": [
       "  0%|          | 0/1 [00:00<?, ?it/s]"
      ]
     },
     "metadata": {},
     "output_type": "display_data"
    },
    {
     "name": "stdout",
     "output_type": "stream",
     "text": [
      "CSPR = 12.00 dB\n",
      "Results:\n",
      "BER: 3.59e-02\n",
      "SNR: 11.63 dB\n",
      "SIR =  10.96  dB\n",
      "GMI: 3.47 bits\n",
      "\n"
     ]
    },
    {
     "data": {
      "application/vnd.jupyter.widget-view+json": {
       "model_id": "0bc66b0ba1914d57ad6ffb4b95facaa1",
       "version_major": 2,
       "version_minor": 0
      },
      "text/plain": [
       "  0%|          | 0/1 [00:00<?, ?it/s]"
      ]
     },
     "metadata": {},
     "output_type": "display_data"
    },
    {
     "name": "stdout",
     "output_type": "stream",
     "text": [
      "CSPR = 12.00 dB\n",
      "Results:\n",
      "BER: 2.48e-02\n",
      "SNR: 12.43 dB\n",
      "SIR =  11.19  dB\n",
      "GMI: 3.62 bits\n",
      "\n"
     ]
    },
    {
     "data": {
      "application/vnd.jupyter.widget-view+json": {
       "model_id": "c6a9f765edfe493ca3e70ed2962a8a7d",
       "version_major": 2,
       "version_minor": 0
      },
      "text/plain": [
       "  0%|          | 0/1 [00:00<?, ?it/s]"
      ]
     },
     "metadata": {},
     "output_type": "display_data"
    },
    {
     "name": "stdout",
     "output_type": "stream",
     "text": [
      "CSPR = 12.00 dB\n",
      "Results:\n",
      "BER: 1.68e-02\n",
      "SNR: 13.18 dB\n",
      "SIR =  11.47  dB\n",
      "GMI: 3.74 bits\n",
      "\n"
     ]
    },
    {
     "data": {
      "application/vnd.jupyter.widget-view+json": {
       "model_id": "c9b58316553149769fa729831ecc95de",
       "version_major": 2,
       "version_minor": 0
      },
      "text/plain": [
       "  0%|          | 0/1 [00:00<?, ?it/s]"
      ]
     },
     "metadata": {},
     "output_type": "display_data"
    },
    {
     "name": "stdout",
     "output_type": "stream",
     "text": [
      "CSPR = 12.00 dB\n",
      "Results:\n",
      "BER: 1.05e-02\n",
      "SNR: 13.96 dB\n",
      "SIR =  11.59  dB\n",
      "GMI: 3.84 bits\n",
      "\n"
     ]
    },
    {
     "data": {
      "application/vnd.jupyter.widget-view+json": {
       "model_id": "601a4d2825704c7181bb3392cb4c211e",
       "version_major": 2,
       "version_minor": 0
      },
      "text/plain": [
       "  0%|          | 0/1 [00:00<?, ?it/s]"
      ]
     },
     "metadata": {},
     "output_type": "display_data"
    },
    {
     "name": "stdout",
     "output_type": "stream",
     "text": [
      "CSPR = 12.00 dB\n",
      "Results:\n",
      "BER: 6.34e-03\n",
      "SNR: 14.67 dB\n",
      "SIR =  11.79  dB\n",
      "GMI: 3.90 bits\n",
      "\n"
     ]
    },
    {
     "data": {
      "application/vnd.jupyter.widget-view+json": {
       "model_id": "82cd450a29b342a8906c2b9f118a44a6",
       "version_major": 2,
       "version_minor": 0
      },
      "text/plain": [
       "  0%|          | 0/1 [00:00<?, ?it/s]"
      ]
     },
     "metadata": {},
     "output_type": "display_data"
    },
    {
     "name": "stdout",
     "output_type": "stream",
     "text": [
      "CSPR = 12.00 dB\n",
      "Results:\n",
      "BER: 3.94e-03\n",
      "SNR: 15.29 dB\n",
      "SIR =  11.86  dB\n",
      "GMI: 3.93 bits\n",
      "\n"
     ]
    },
    {
     "data": {
      "application/vnd.jupyter.widget-view+json": {
       "model_id": "c42cee96bdde446996184343d0ca326e",
       "version_major": 2,
       "version_minor": 0
      },
      "text/plain": [
       "  0%|          | 0/1 [00:00<?, ?it/s]"
      ]
     },
     "metadata": {},
     "output_type": "display_data"
    },
    {
     "name": "stdout",
     "output_type": "stream",
     "text": [
      "CSPR = 12.00 dB\n",
      "Results:\n",
      "BER: 2.34e-03\n",
      "SNR: 15.93 dB\n",
      "SIR =  12.01  dB\n",
      "GMI: 3.96 bits\n",
      "\n"
     ]
    },
    {
     "data": {
      "application/vnd.jupyter.widget-view+json": {
       "model_id": "ddab78561159411092635fc565dd86c5",
       "version_major": 2,
       "version_minor": 0
      },
      "text/plain": [
       "  0%|          | 0/1 [00:00<?, ?it/s]"
      ]
     },
     "metadata": {},
     "output_type": "display_data"
    },
    {
     "name": "stdout",
     "output_type": "stream",
     "text": [
      "CSPR = 12.00 dB\n",
      "Results:\n",
      "BER: 1.32e-03\n",
      "SNR: 16.46 dB\n",
      "SIR =  12.12  dB\n",
      "GMI: 3.98 bits\n",
      "\n"
     ]
    },
    {
     "data": {
      "application/vnd.jupyter.widget-view+json": {
       "model_id": "883d2695222a4217af91d8c2a0a65282",
       "version_major": 2,
       "version_minor": 0
      },
      "text/plain": [
       "  0%|          | 0/1 [00:00<?, ?it/s]"
      ]
     },
     "metadata": {},
     "output_type": "display_data"
    },
    {
     "name": "stdout",
     "output_type": "stream",
     "text": [
      "CSPR = 12.00 dB\n",
      "Results:\n",
      "BER: 7.56e-04\n",
      "SNR: 17.02 dB\n",
      "SIR =  12.16  dB\n",
      "GMI: 3.99 bits\n",
      "\n"
     ]
    },
    {
     "data": {
      "application/vnd.jupyter.widget-view+json": {
       "model_id": "ff44148e93f041f9951e0e0471f31bfd",
       "version_major": 2,
       "version_minor": 0
      },
      "text/plain": [
       "  0%|          | 0/17 [00:00<?, ?it/s]"
      ]
     },
     "metadata": {},
     "output_type": "display_data"
    },
    {
     "data": {
      "application/vnd.jupyter.widget-view+json": {
       "model_id": "ee602e73fe1a4ec1890b294a4b1b99ac",
       "version_major": 2,
       "version_minor": 0
      },
      "text/plain": [
       "  0%|          | 0/1 [00:00<?, ?it/s]"
      ]
     },
     "metadata": {},
     "output_type": "display_data"
    },
    {
     "name": "stdout",
     "output_type": "stream",
     "text": [
      "CSPR = 13.00 dB\n",
      "Results:\n",
      "BER: 4.62e-01\n",
      "SNR: 0.14 dB\n",
      "SIR =  7.4  dB\n",
      "GMI: -0.04 bits\n",
      "\n"
     ]
    },
    {
     "data": {
      "application/vnd.jupyter.widget-view+json": {
       "model_id": "943f5f1c536a49e5ab00cc44916d2678",
       "version_major": 2,
       "version_minor": 0
      },
      "text/plain": [
       "  0%|          | 0/1 [00:00<?, ?it/s]"
      ]
     },
     "metadata": {},
     "output_type": "display_data"
    },
    {
     "name": "stdout",
     "output_type": "stream",
     "text": [
      "CSPR = 13.00 dB\n",
      "Results:\n",
      "BER: 4.79e-01\n",
      "SNR: 0.04 dB\n",
      "SIR =  7.93  dB\n",
      "GMI: -0.05 bits\n",
      "\n"
     ]
    },
    {
     "data": {
      "application/vnd.jupyter.widget-view+json": {
       "model_id": "e49ace6067f140e4b252188cf5d7f64f",
       "version_major": 2,
       "version_minor": 0
      },
      "text/plain": [
       "  0%|          | 0/1 [00:00<?, ?it/s]"
      ]
     },
     "metadata": {},
     "output_type": "display_data"
    },
    {
     "name": "stdout",
     "output_type": "stream",
     "text": [
      "CSPR = 13.00 dB\n",
      "Results:\n",
      "BER: 4.73e-01\n",
      "SNR: 0.10 dB\n",
      "SIR =  8.49  dB\n",
      "GMI: -0.05 bits\n",
      "\n"
     ]
    },
    {
     "data": {
      "application/vnd.jupyter.widget-view+json": {
       "model_id": "114d73e6168144618080619c517ef39d",
       "version_major": 2,
       "version_minor": 0
      },
      "text/plain": [
       "  0%|          | 0/1 [00:00<?, ?it/s]"
      ]
     },
     "metadata": {},
     "output_type": "display_data"
    },
    {
     "name": "stdout",
     "output_type": "stream",
     "text": [
      "CSPR = 13.00 dB\n",
      "Results:\n",
      "BER: 4.36e-01\n",
      "SNR: 0.35 dB\n",
      "SIR =  8.98  dB\n",
      "GMI: 0.00 bits\n",
      "\n"
     ]
    },
    {
     "data": {
      "application/vnd.jupyter.widget-view+json": {
       "model_id": "43c9e29f36df43068a3ca1c179bdd27f",
       "version_major": 2,
       "version_minor": 0
      },
      "text/plain": [
       "  0%|          | 0/1 [00:00<?, ?it/s]"
      ]
     },
     "metadata": {},
     "output_type": "display_data"
    },
    {
     "name": "stdout",
     "output_type": "stream",
     "text": [
      "CSPR = 13.00 dB\n",
      "Results:\n",
      "BER: 3.53e-01\n",
      "SNR: 1.41 dB\n",
      "SIR =  9.51  dB\n",
      "GMI: 0.30 bits\n",
      "\n"
     ]
    },
    {
     "data": {
      "application/vnd.jupyter.widget-view+json": {
       "model_id": "1fae6ef7b1ed4994977a225124f589c3",
       "version_major": 2,
       "version_minor": 0
      },
      "text/plain": [
       "  0%|          | 0/1 [00:00<?, ?it/s]"
      ]
     },
     "metadata": {},
     "output_type": "display_data"
    },
    {
     "name": "stdout",
     "output_type": "stream",
     "text": [
      "CSPR = 13.00 dB\n",
      "Results:\n",
      "BER: 4.33e-01\n",
      "SNR: 0.47 dB\n",
      "SIR =  9.91  dB\n",
      "GMI: 0.04 bits\n",
      "\n"
     ]
    },
    {
     "data": {
      "application/vnd.jupyter.widget-view+json": {
       "model_id": "ca3dc4a13c27431fae73df5f0361f5f7",
       "version_major": 2,
       "version_minor": 0
      },
      "text/plain": [
       "  0%|          | 0/1 [00:00<?, ?it/s]"
      ]
     },
     "metadata": {},
     "output_type": "display_data"
    },
    {
     "name": "stdout",
     "output_type": "stream",
     "text": [
      "CSPR = 13.00 dB\n",
      "Results:\n",
      "BER: 4.46e-01\n",
      "SNR: 0.30 dB\n",
      "SIR =  10.36  dB\n",
      "GMI: -0.00 bits\n",
      "\n"
     ]
    },
    {
     "data": {
      "application/vnd.jupyter.widget-view+json": {
       "model_id": "27156ed0bc364fca84bc42862ea7a8c9",
       "version_major": 2,
       "version_minor": 0
      },
      "text/plain": [
       "  0%|          | 0/1 [00:00<?, ?it/s]"
      ]
     },
     "metadata": {},
     "output_type": "display_data"
    },
    {
     "name": "stdout",
     "output_type": "stream",
     "text": [
      "CSPR = 13.00 dB\n",
      "Results:\n",
      "BER: 4.85e-02\n",
      "SNR: 10.87 dB\n",
      "SIR =  10.67  dB\n",
      "GMI: 3.29 bits\n",
      "\n"
     ]
    },
    {
     "data": {
      "application/vnd.jupyter.widget-view+json": {
       "model_id": "a62c62c6f97f4537b0ba3ec4104dc802",
       "version_major": 2,
       "version_minor": 0
      },
      "text/plain": [
       "  0%|          | 0/1 [00:00<?, ?it/s]"
      ]
     },
     "metadata": {},
     "output_type": "display_data"
    },
    {
     "name": "stdout",
     "output_type": "stream",
     "text": [
      "CSPR = 13.00 dB\n",
      "Results:\n",
      "BER: 3.47e-02\n",
      "SNR: 11.71 dB\n",
      "SIR =  10.94  dB\n",
      "GMI: 3.48 bits\n",
      "\n"
     ]
    },
    {
     "data": {
      "application/vnd.jupyter.widget-view+json": {
       "model_id": "5b5357162cb74182836a96aa2fb6dcc1",
       "version_major": 2,
       "version_minor": 0
      },
      "text/plain": [
       "  0%|          | 0/1 [00:00<?, ?it/s]"
      ]
     },
     "metadata": {},
     "output_type": "display_data"
    },
    {
     "name": "stdout",
     "output_type": "stream",
     "text": [
      "CSPR = 13.00 dB\n",
      "Results:\n",
      "BER: 2.34e-02\n",
      "SNR: 12.55 dB\n",
      "SIR =  11.24  dB\n",
      "GMI: 3.64 bits\n",
      "\n"
     ]
    },
    {
     "data": {
      "application/vnd.jupyter.widget-view+json": {
       "model_id": "61cbacfc275c470a897f39ad2fe5c4c4",
       "version_major": 2,
       "version_minor": 0
      },
      "text/plain": [
       "  0%|          | 0/1 [00:00<?, ?it/s]"
      ]
     },
     "metadata": {},
     "output_type": "display_data"
    },
    {
     "name": "stdout",
     "output_type": "stream",
     "text": [
      "CSPR = 13.00 dB\n",
      "Results:\n",
      "BER: 1.53e-02\n",
      "SNR: 13.32 dB\n",
      "SIR =  11.56  dB\n",
      "GMI: 3.76 bits\n",
      "\n"
     ]
    },
    {
     "data": {
      "application/vnd.jupyter.widget-view+json": {
       "model_id": "06371d5cadcc4df9b2ff09e735895df4",
       "version_major": 2,
       "version_minor": 0
      },
      "text/plain": [
       "  0%|          | 0/1 [00:00<?, ?it/s]"
      ]
     },
     "metadata": {},
     "output_type": "display_data"
    },
    {
     "name": "stdout",
     "output_type": "stream",
     "text": [
      "CSPR = 13.00 dB\n",
      "Results:\n",
      "BER: 9.37e-03\n",
      "SNR: 14.11 dB\n",
      "SIR =  11.75  dB\n",
      "GMI: 3.85 bits\n",
      "\n"
     ]
    },
    {
     "data": {
      "application/vnd.jupyter.widget-view+json": {
       "model_id": "290e84a92b36404da9a0946f20d58bcc",
       "version_major": 2,
       "version_minor": 0
      },
      "text/plain": [
       "  0%|          | 0/1 [00:00<?, ?it/s]"
      ]
     },
     "metadata": {},
     "output_type": "display_data"
    },
    {
     "name": "stdout",
     "output_type": "stream",
     "text": [
      "CSPR = 13.00 dB\n",
      "Results:\n",
      "BER: 5.98e-03\n",
      "SNR: 14.76 dB\n",
      "SIR =  11.82  dB\n",
      "GMI: 3.91 bits\n",
      "\n"
     ]
    },
    {
     "data": {
      "application/vnd.jupyter.widget-view+json": {
       "model_id": "42e24ebd5c5a433285f44f2937d954f4",
       "version_major": 2,
       "version_minor": 0
      },
      "text/plain": [
       "  0%|          | 0/1 [00:00<?, ?it/s]"
      ]
     },
     "metadata": {},
     "output_type": "display_data"
    },
    {
     "name": "stdout",
     "output_type": "stream",
     "text": [
      "CSPR = 13.00 dB\n",
      "Results:\n",
      "BER: 3.30e-03\n",
      "SNR: 15.51 dB\n",
      "SIR =  12.01  dB\n",
      "GMI: 3.95 bits\n",
      "\n"
     ]
    },
    {
     "data": {
      "application/vnd.jupyter.widget-view+json": {
       "model_id": "3914c4b4e69848a5b0d8bb3c04f12598",
       "version_major": 2,
       "version_minor": 0
      },
      "text/plain": [
       "  0%|          | 0/1 [00:00<?, ?it/s]"
      ]
     },
     "metadata": {},
     "output_type": "display_data"
    },
    {
     "name": "stdout",
     "output_type": "stream",
     "text": [
      "CSPR = 13.00 dB\n",
      "Results:\n",
      "BER: 1.93e-03\n",
      "SNR: 16.12 dB\n",
      "SIR =  12.1  dB\n",
      "GMI: 3.97 bits\n",
      "\n"
     ]
    },
    {
     "data": {
      "application/vnd.jupyter.widget-view+json": {
       "model_id": "21501630e6e3400ebe734c7de927f4cc",
       "version_major": 2,
       "version_minor": 0
      },
      "text/plain": [
       "  0%|          | 0/1 [00:00<?, ?it/s]"
      ]
     },
     "metadata": {},
     "output_type": "display_data"
    },
    {
     "name": "stdout",
     "output_type": "stream",
     "text": [
      "CSPR = 13.00 dB\n",
      "Results:\n",
      "BER: 9.31e-04\n",
      "SNR: 16.73 dB\n",
      "SIR =  12.26  dB\n",
      "GMI: 3.98 bits\n",
      "\n"
     ]
    },
    {
     "data": {
      "application/vnd.jupyter.widget-view+json": {
       "model_id": "58e9a68e9e81478b8e4b0a71642df947",
       "version_major": 2,
       "version_minor": 0
      },
      "text/plain": [
       "  0%|          | 0/1 [00:00<?, ?it/s]"
      ]
     },
     "metadata": {},
     "output_type": "display_data"
    },
    {
     "name": "stdout",
     "output_type": "stream",
     "text": [
      "CSPR = 13.00 dB\n",
      "Results:\n",
      "BER: 6.12e-04\n",
      "SNR: 17.26 dB\n",
      "SIR =  12.25  dB\n",
      "GMI: 3.99 bits\n",
      "\n"
     ]
    },
    {
     "data": {
      "application/vnd.jupyter.widget-view+json": {
       "model_id": "080750d2cd984c58ac4506af935d768a",
       "version_major": 2,
       "version_minor": 0
      },
      "text/plain": [
       "  0%|          | 0/17 [00:00<?, ?it/s]"
      ]
     },
     "metadata": {},
     "output_type": "display_data"
    },
    {
     "data": {
      "application/vnd.jupyter.widget-view+json": {
       "model_id": "d552a5fc722f46ca8eb7b062278f77c9",
       "version_major": 2,
       "version_minor": 0
      },
      "text/plain": [
       "  0%|          | 0/1 [00:00<?, ?it/s]"
      ]
     },
     "metadata": {},
     "output_type": "display_data"
    },
    {
     "name": "stdout",
     "output_type": "stream",
     "text": [
      "CSPR = 14.00 dB\n",
      "Results:\n",
      "BER: 4.91e-01\n",
      "SNR: 0.01 dB\n",
      "SIR =  7.45  dB\n",
      "GMI: -0.06 bits\n",
      "\n"
     ]
    },
    {
     "data": {
      "application/vnd.jupyter.widget-view+json": {
       "model_id": "36b3217d887c458796124b394b191d6a",
       "version_major": 2,
       "version_minor": 0
      },
      "text/plain": [
       "  0%|          | 0/1 [00:00<?, ?it/s]"
      ]
     },
     "metadata": {},
     "output_type": "display_data"
    },
    {
     "name": "stdout",
     "output_type": "stream",
     "text": [
      "CSPR = 14.00 dB\n",
      "Results:\n",
      "BER: 4.91e-01\n",
      "SNR: 0.01 dB\n",
      "SIR =  8.05  dB\n",
      "GMI: -0.06 bits\n",
      "\n"
     ]
    },
    {
     "data": {
      "application/vnd.jupyter.widget-view+json": {
       "model_id": "8cd3773a919046d288efb7909cb40dc1",
       "version_major": 2,
       "version_minor": 0
      },
      "text/plain": [
       "  0%|          | 0/1 [00:00<?, ?it/s]"
      ]
     },
     "metadata": {},
     "output_type": "display_data"
    },
    {
     "name": "stdout",
     "output_type": "stream",
     "text": [
      "CSPR = 14.00 dB\n",
      "Results:\n",
      "BER: 4.57e-01\n",
      "SNR: 0.22 dB\n",
      "SIR =  8.55  dB\n",
      "GMI: -0.03 bits\n",
      "\n"
     ]
    },
    {
     "data": {
      "application/vnd.jupyter.widget-view+json": {
       "model_id": "e290473d8cd14396ae0b870ca791e01e",
       "version_major": 2,
       "version_minor": 0
      },
      "text/plain": [
       "  0%|          | 0/1 [00:00<?, ?it/s]"
      ]
     },
     "metadata": {},
     "output_type": "display_data"
    },
    {
     "name": "stdout",
     "output_type": "stream",
     "text": [
      "CSPR = 14.00 dB\n",
      "Results:\n",
      "BER: 4.90e-01\n",
      "SNR: 0.01 dB\n",
      "SIR =  9.09  dB\n",
      "GMI: -0.06 bits\n",
      "\n"
     ]
    },
    {
     "data": {
      "application/vnd.jupyter.widget-view+json": {
       "model_id": "f4ac4732dfa24382906900f2f82e042c",
       "version_major": 2,
       "version_minor": 0
      },
      "text/plain": [
       "  0%|          | 0/1 [00:00<?, ?it/s]"
      ]
     },
     "metadata": {},
     "output_type": "display_data"
    },
    {
     "name": "stdout",
     "output_type": "stream",
     "text": [
      "CSPR = 14.00 dB\n",
      "Results:\n",
      "BER: 4.26e-01\n",
      "SNR: 0.46 dB\n",
      "SIR =  9.49  dB\n",
      "GMI: 0.02 bits\n",
      "\n"
     ]
    },
    {
     "data": {
      "application/vnd.jupyter.widget-view+json": {
       "model_id": "09f08cb07cc94681a6929b70d8fbd5c9",
       "version_major": 2,
       "version_minor": 0
      },
      "text/plain": [
       "  0%|          | 0/1 [00:00<?, ?it/s]"
      ]
     },
     "metadata": {},
     "output_type": "display_data"
    },
    {
     "name": "stdout",
     "output_type": "stream",
     "text": [
      "CSPR = 14.00 dB\n",
      "Results:\n",
      "BER: 3.19e-01\n",
      "SNR: 1.76 dB\n",
      "SIR =  9.97  dB\n",
      "GMI: 0.45 bits\n",
      "\n"
     ]
    },
    {
     "data": {
      "application/vnd.jupyter.widget-view+json": {
       "model_id": "fef3c84e641f4c7caeab0a12d2a70d7c",
       "version_major": 2,
       "version_minor": 0
      },
      "text/plain": [
       "  0%|          | 0/1 [00:00<?, ?it/s]"
      ]
     },
     "metadata": {},
     "output_type": "display_data"
    },
    {
     "name": "stdout",
     "output_type": "stream",
     "text": [
      "CSPR = 14.00 dB\n",
      "Results:\n",
      "BER: 6.35e-02\n",
      "SNR: 10.09 dB\n",
      "SIR =  10.4  dB\n",
      "GMI: 3.09 bits\n",
      "\n"
     ]
    },
    {
     "data": {
      "application/vnd.jupyter.widget-view+json": {
       "model_id": "7e6dd4b5663b4699939aca859c168205",
       "version_major": 2,
       "version_minor": 0
      },
      "text/plain": [
       "  0%|          | 0/1 [00:00<?, ?it/s]"
      ]
     },
     "metadata": {},
     "output_type": "display_data"
    },
    {
     "name": "stdout",
     "output_type": "stream",
     "text": [
      "CSPR = 14.00 dB\n",
      "Results:\n",
      "BER: 4.75e-02\n",
      "SNR: 10.91 dB\n",
      "SIR =  10.76  dB\n",
      "GMI: 3.31 bits\n",
      "\n"
     ]
    },
    {
     "data": {
      "application/vnd.jupyter.widget-view+json": {
       "model_id": "b39eb0f006f8464d8ba2a4d001900063",
       "version_major": 2,
       "version_minor": 0
      },
      "text/plain": [
       "  0%|          | 0/1 [00:00<?, ?it/s]"
      ]
     },
     "metadata": {},
     "output_type": "display_data"
    },
    {
     "name": "stdout",
     "output_type": "stream",
     "text": [
      "CSPR = 14.00 dB\n",
      "Results:\n",
      "BER: 3.43e-02\n",
      "SNR: 11.75 dB\n",
      "SIR =  11.05  dB\n",
      "GMI: 3.49 bits\n",
      "\n"
     ]
    },
    {
     "data": {
      "application/vnd.jupyter.widget-view+json": {
       "model_id": "8a80223be4d940328ad014d63d5e0d4b",
       "version_major": 2,
       "version_minor": 0
      },
      "text/plain": [
       "  0%|          | 0/1 [00:00<?, ?it/s]"
      ]
     },
     "metadata": {},
     "output_type": "display_data"
    },
    {
     "name": "stdout",
     "output_type": "stream",
     "text": [
      "CSPR = 14.00 dB\n",
      "Results:\n",
      "BER: 2.25e-02\n",
      "SNR: 12.62 dB\n",
      "SIR =  11.38  dB\n",
      "GMI: 3.66 bits\n",
      "\n"
     ]
    },
    {
     "data": {
      "application/vnd.jupyter.widget-view+json": {
       "model_id": "b3312d30d5d4404089abbba06c16c32a",
       "version_major": 2,
       "version_minor": 0
      },
      "text/plain": [
       "  0%|          | 0/1 [00:00<?, ?it/s]"
      ]
     },
     "metadata": {},
     "output_type": "display_data"
    },
    {
     "name": "stdout",
     "output_type": "stream",
     "text": [
      "CSPR = 14.00 dB\n",
      "Results:\n",
      "BER: 1.47e-02\n",
      "SNR: 13.40 dB\n",
      "SIR =  11.61  dB\n",
      "GMI: 3.77 bits\n",
      "\n"
     ]
    },
    {
     "data": {
      "application/vnd.jupyter.widget-view+json": {
       "model_id": "34ed8d13848d4cb1aa935882fdbc50fb",
       "version_major": 2,
       "version_minor": 0
      },
      "text/plain": [
       "  0%|          | 0/1 [00:00<?, ?it/s]"
      ]
     },
     "metadata": {},
     "output_type": "display_data"
    },
    {
     "name": "stdout",
     "output_type": "stream",
     "text": [
      "CSPR = 14.00 dB\n",
      "Results:\n",
      "BER: 9.02e-03\n",
      "SNR: 14.20 dB\n",
      "SIR =  11.75  dB\n",
      "GMI: 3.86 bits\n",
      "\n"
     ]
    },
    {
     "data": {
      "application/vnd.jupyter.widget-view+json": {
       "model_id": "6487a5d9b7f14eae8e84b743a59ebafb",
       "version_major": 2,
       "version_minor": 0
      },
      "text/plain": [
       "  0%|          | 0/1 [00:00<?, ?it/s]"
      ]
     },
     "metadata": {},
     "output_type": "display_data"
    },
    {
     "name": "stdout",
     "output_type": "stream",
     "text": [
      "CSPR = 14.00 dB\n",
      "Results:\n",
      "BER: 5.39e-03\n",
      "SNR: 14.88 dB\n",
      "SIR =  11.91  dB\n",
      "GMI: 3.91 bits\n",
      "\n"
     ]
    },
    {
     "data": {
      "application/vnd.jupyter.widget-view+json": {
       "model_id": "4fba644a125d4015bd039731b12bd376",
       "version_major": 2,
       "version_minor": 0
      },
      "text/plain": [
       "  0%|          | 0/1 [00:00<?, ?it/s]"
      ]
     },
     "metadata": {},
     "output_type": "display_data"
    },
    {
     "name": "stdout",
     "output_type": "stream",
     "text": [
      "CSPR = 14.00 dB\n",
      "Results:\n",
      "BER: 2.90e-03\n",
      "SNR: 15.60 dB\n",
      "SIR =  12.06  dB\n",
      "GMI: 3.95 bits\n",
      "\n"
     ]
    },
    {
     "data": {
      "application/vnd.jupyter.widget-view+json": {
       "model_id": "f6f66c9b0dcb45aebe22bd0d40e47ecb",
       "version_major": 2,
       "version_minor": 0
      },
      "text/plain": [
       "  0%|          | 0/1 [00:00<?, ?it/s]"
      ]
     },
     "metadata": {},
     "output_type": "display_data"
    },
    {
     "name": "stdout",
     "output_type": "stream",
     "text": [
      "CSPR = 14.00 dB\n",
      "Results:\n",
      "BER: 1.55e-03\n",
      "SNR: 16.31 dB\n",
      "SIR =  12.17  dB\n",
      "GMI: 3.97 bits\n",
      "\n"
     ]
    },
    {
     "data": {
      "application/vnd.jupyter.widget-view+json": {
       "model_id": "19b959628fdd4f0c8828e01eda5e3ba6",
       "version_major": 2,
       "version_minor": 0
      },
      "text/plain": [
       "  0%|          | 0/1 [00:00<?, ?it/s]"
      ]
     },
     "metadata": {},
     "output_type": "display_data"
    },
    {
     "name": "stdout",
     "output_type": "stream",
     "text": [
      "CSPR = 14.00 dB\n",
      "Results:\n",
      "BER: 7.72e-04\n",
      "SNR: 16.93 dB\n",
      "SIR =  12.24  dB\n",
      "GMI: 3.99 bits\n",
      "\n"
     ]
    },
    {
     "data": {
      "application/vnd.jupyter.widget-view+json": {
       "model_id": "af8d0b7767484f0097443d1e7f69be6c",
       "version_major": 2,
       "version_minor": 0
      },
      "text/plain": [
       "  0%|          | 0/1 [00:00<?, ?it/s]"
      ]
     },
     "metadata": {},
     "output_type": "display_data"
    },
    {
     "name": "stdout",
     "output_type": "stream",
     "text": [
      "CSPR = 14.00 dB\n",
      "Results:\n",
      "BER: 4.47e-04\n",
      "SNR: 17.45 dB\n",
      "SIR =  12.3  dB\n",
      "GMI: 3.99 bits\n",
      "\n"
     ]
    },
    {
     "data": {
      "application/vnd.jupyter.widget-view+json": {
       "model_id": "e4f8f382150442e6947f376373b69c23",
       "version_major": 2,
       "version_minor": 0
      },
      "text/plain": [
       "  0%|          | 0/17 [00:00<?, ?it/s]"
      ]
     },
     "metadata": {},
     "output_type": "display_data"
    },
    {
     "data": {
      "application/vnd.jupyter.widget-view+json": {
       "model_id": "3144b4ab7a49462ea99a9d086e6185d0",
       "version_major": 2,
       "version_minor": 0
      },
      "text/plain": [
       "  0%|          | 0/1 [00:00<?, ?it/s]"
      ]
     },
     "metadata": {},
     "output_type": "display_data"
    },
    {
     "name": "stdout",
     "output_type": "stream",
     "text": [
      "CSPR = 15.00 dB\n",
      "Results:\n",
      "BER: 4.82e-01\n",
      "SNR: 0.04 dB\n",
      "SIR =  7.51  dB\n",
      "GMI: -0.06 bits\n",
      "\n"
     ]
    },
    {
     "data": {
      "application/vnd.jupyter.widget-view+json": {
       "model_id": "8e43b331b4ef45c9a9934e0f29a3c68f",
       "version_major": 2,
       "version_minor": 0
      },
      "text/plain": [
       "  0%|          | 0/1 [00:00<?, ?it/s]"
      ]
     },
     "metadata": {},
     "output_type": "display_data"
    },
    {
     "name": "stdout",
     "output_type": "stream",
     "text": [
      "CSPR = 15.00 dB\n",
      "Results:\n",
      "BER: 4.72e-01\n",
      "SNR: 0.08 dB\n",
      "SIR =  8.07  dB\n",
      "GMI: -0.05 bits\n",
      "\n"
     ]
    },
    {
     "data": {
      "application/vnd.jupyter.widget-view+json": {
       "model_id": "7d045c30ab5247cc9b816af1c4bc10c1",
       "version_major": 2,
       "version_minor": 0
      },
      "text/plain": [
       "  0%|          | 0/1 [00:00<?, ?it/s]"
      ]
     },
     "metadata": {},
     "output_type": "display_data"
    },
    {
     "name": "stdout",
     "output_type": "stream",
     "text": [
      "CSPR = 15.00 dB\n",
      "Results:\n",
      "BER: 4.60e-01\n",
      "SNR: 0.19 dB\n",
      "SIR =  8.6  dB\n",
      "GMI: -0.04 bits\n",
      "\n"
     ]
    },
    {
     "data": {
      "application/vnd.jupyter.widget-view+json": {
       "model_id": "d6ebe2d1a6c24b99b190a90f092bbb43",
       "version_major": 2,
       "version_minor": 0
      },
      "text/plain": [
       "  0%|          | 0/1 [00:00<?, ?it/s]"
      ]
     },
     "metadata": {},
     "output_type": "display_data"
    },
    {
     "name": "stdout",
     "output_type": "stream",
     "text": [
      "CSPR = 15.00 dB\n",
      "Results:\n",
      "BER: 4.57e-01\n",
      "SNR: 0.16 dB\n",
      "SIR =  9.11  dB\n",
      "GMI: -0.04 bits\n",
      "\n"
     ]
    },
    {
     "data": {
      "application/vnd.jupyter.widget-view+json": {
       "model_id": "e3e93b80c54f4792918f2d6e1d164738",
       "version_major": 2,
       "version_minor": 0
      },
      "text/plain": [
       "  0%|          | 0/1 [00:00<?, ?it/s]"
      ]
     },
     "metadata": {},
     "output_type": "display_data"
    },
    {
     "name": "stdout",
     "output_type": "stream",
     "text": [
      "CSPR = 15.00 dB\n",
      "Results:\n",
      "BER: 4.57e-01\n",
      "SNR: 0.15 dB\n",
      "SIR =  9.62  dB\n",
      "GMI: -0.03 bits\n",
      "\n"
     ]
    },
    {
     "data": {
      "application/vnd.jupyter.widget-view+json": {
       "model_id": "09ce60bb6d59465bb57bc2c38e6c40e0",
       "version_major": 2,
       "version_minor": 0
      },
      "text/plain": [
       "  0%|          | 0/1 [00:00<?, ?it/s]"
      ]
     },
     "metadata": {},
     "output_type": "display_data"
    },
    {
     "name": "stdout",
     "output_type": "stream",
     "text": [
      "CSPR = 15.00 dB\n",
      "Results:\n",
      "BER: 4.86e-01\n",
      "SNR: 0.02 dB\n",
      "SIR =  10.05  dB\n",
      "GMI: -0.06 bits\n",
      "\n"
     ]
    },
    {
     "data": {
      "application/vnd.jupyter.widget-view+json": {
       "model_id": "502918c4cb7a45fb8641ddffefc8e98e",
       "version_major": 2,
       "version_minor": 0
      },
      "text/plain": [
       "  0%|          | 0/1 [00:00<?, ?it/s]"
      ]
     },
     "metadata": {},
     "output_type": "display_data"
    },
    {
     "name": "stdout",
     "output_type": "stream",
     "text": [
      "CSPR = 15.00 dB\n",
      "Results:\n",
      "BER: 3.88e-01\n",
      "SNR: 0.97 dB\n",
      "SIR =  10.44  dB\n",
      "GMI: 0.18 bits\n",
      "\n"
     ]
    },
    {
     "data": {
      "application/vnd.jupyter.widget-view+json": {
       "model_id": "a5e8f2f47f29462d9c64a9a4bb56b158",
       "version_major": 2,
       "version_minor": 0
      },
      "text/plain": [
       "  0%|          | 0/1 [00:00<?, ?it/s]"
      ]
     },
     "metadata": {},
     "output_type": "display_data"
    },
    {
     "name": "stdout",
     "output_type": "stream",
     "text": [
      "CSPR = 15.00 dB\n",
      "Results:\n",
      "BER: 4.56e-02\n",
      "SNR: 11.04 dB\n",
      "SIR =  10.79  dB\n",
      "GMI: 3.33 bits\n",
      "\n"
     ]
    },
    {
     "data": {
      "application/vnd.jupyter.widget-view+json": {
       "model_id": "1f9dad76ed0f4f29af753be74e508663",
       "version_major": 2,
       "version_minor": 0
      },
      "text/plain": [
       "  0%|          | 0/1 [00:00<?, ?it/s]"
      ]
     },
     "metadata": {},
     "output_type": "display_data"
    },
    {
     "name": "stdout",
     "output_type": "stream",
     "text": [
      "CSPR = 15.00 dB\n",
      "Results:\n",
      "BER: 3.28e-02\n",
      "SNR: 11.82 dB\n",
      "SIR =  11.1  dB\n",
      "GMI: 3.51 bits\n",
      "\n"
     ]
    },
    {
     "data": {
      "application/vnd.jupyter.widget-view+json": {
       "model_id": "9819d520c6f84da3971712b64d6ec08f",
       "version_major": 2,
       "version_minor": 0
      },
      "text/plain": [
       "  0%|          | 0/1 [00:00<?, ?it/s]"
      ]
     },
     "metadata": {},
     "output_type": "display_data"
    },
    {
     "name": "stdout",
     "output_type": "stream",
     "text": [
      "CSPR = 15.00 dB\n",
      "Results:\n",
      "BER: 2.22e-02\n",
      "SNR: 12.66 dB\n",
      "SIR =  11.37  dB\n",
      "GMI: 3.66 bits\n",
      "\n"
     ]
    },
    {
     "data": {
      "application/vnd.jupyter.widget-view+json": {
       "model_id": "83d6841f4e8342568439f9b9f4d0d4c6",
       "version_major": 2,
       "version_minor": 0
      },
      "text/plain": [
       "  0%|          | 0/1 [00:00<?, ?it/s]"
      ]
     },
     "metadata": {},
     "output_type": "display_data"
    },
    {
     "name": "stdout",
     "output_type": "stream",
     "text": [
      "CSPR = 15.00 dB\n",
      "Results:\n",
      "BER: 1.38e-02\n",
      "SNR: 13.47 dB\n",
      "SIR =  11.55  dB\n",
      "GMI: 3.79 bits\n",
      "\n"
     ]
    },
    {
     "data": {
      "application/vnd.jupyter.widget-view+json": {
       "model_id": "d0e1ab5f00c2400482fab6f93a4c3d08",
       "version_major": 2,
       "version_minor": 0
      },
      "text/plain": [
       "  0%|          | 0/1 [00:00<?, ?it/s]"
      ]
     },
     "metadata": {},
     "output_type": "display_data"
    },
    {
     "name": "stdout",
     "output_type": "stream",
     "text": [
      "CSPR = 15.00 dB\n",
      "Results:\n",
      "BER: 8.40e-03\n",
      "SNR: 14.28 dB\n",
      "SIR =  11.79  dB\n",
      "GMI: 3.87 bits\n",
      "\n"
     ]
    },
    {
     "data": {
      "application/vnd.jupyter.widget-view+json": {
       "model_id": "a42c5c97f261499eb5ededc1d08cd04e",
       "version_major": 2,
       "version_minor": 0
      },
      "text/plain": [
       "  0%|          | 0/1 [00:00<?, ?it/s]"
      ]
     },
     "metadata": {},
     "output_type": "display_data"
    },
    {
     "name": "stdout",
     "output_type": "stream",
     "text": [
      "CSPR = 15.00 dB\n",
      "Results:\n",
      "BER: 4.68e-03\n",
      "SNR: 15.05 dB\n",
      "SIR =  11.95  dB\n",
      "GMI: 3.92 bits\n",
      "\n"
     ]
    },
    {
     "data": {
      "application/vnd.jupyter.widget-view+json": {
       "model_id": "7da28dd5f24042a8af0db72b2046b6be",
       "version_major": 2,
       "version_minor": 0
      },
      "text/plain": [
       "  0%|          | 0/1 [00:00<?, ?it/s]"
      ]
     },
     "metadata": {},
     "output_type": "display_data"
    },
    {
     "name": "stdout",
     "output_type": "stream",
     "text": [
      "CSPR = 15.00 dB\n",
      "Results:\n",
      "BER: 2.53e-03\n",
      "SNR: 15.75 dB\n",
      "SIR =  12.12  dB\n",
      "GMI: 3.96 bits\n",
      "\n"
     ]
    },
    {
     "data": {
      "application/vnd.jupyter.widget-view+json": {
       "model_id": "67025bd772e4422487ac33f748e3913e",
       "version_major": 2,
       "version_minor": 0
      },
      "text/plain": [
       "  0%|          | 0/1 [00:00<?, ?it/s]"
      ]
     },
     "metadata": {},
     "output_type": "display_data"
    },
    {
     "name": "stdout",
     "output_type": "stream",
     "text": [
      "CSPR = 15.00 dB\n",
      "Results:\n",
      "BER: 1.31e-03\n",
      "SNR: 16.45 dB\n",
      "SIR =  12.23  dB\n",
      "GMI: 3.98 bits\n",
      "\n"
     ]
    },
    {
     "data": {
      "application/vnd.jupyter.widget-view+json": {
       "model_id": "1044f419fac2486b915f67b32c412475",
       "version_major": 2,
       "version_minor": 0
      },
      "text/plain": [
       "  0%|          | 0/1 [00:00<?, ?it/s]"
      ]
     },
     "metadata": {},
     "output_type": "display_data"
    },
    {
     "name": "stdout",
     "output_type": "stream",
     "text": [
      "CSPR = 15.00 dB\n",
      "Results:\n",
      "BER: 6.41e-04\n",
      "SNR: 17.04 dB\n",
      "SIR =  12.26  dB\n",
      "GMI: 3.99 bits\n",
      "\n"
     ]
    },
    {
     "data": {
      "application/vnd.jupyter.widget-view+json": {
       "model_id": "4714ac2f968a4cde87bb949f626a0b85",
       "version_major": 2,
       "version_minor": 0
      },
      "text/plain": [
       "  0%|          | 0/1 [00:00<?, ?it/s]"
      ]
     },
     "metadata": {},
     "output_type": "display_data"
    },
    {
     "name": "stdout",
     "output_type": "stream",
     "text": [
      "CSPR = 15.00 dB\n",
      "Results:\n",
      "BER: 3.87e-04\n",
      "SNR: 17.64 dB\n",
      "SIR =  12.41  dB\n",
      "GMI: 3.99 bits\n",
      "\n"
     ]
    },
    {
     "data": {
      "application/vnd.jupyter.widget-view+json": {
       "model_id": "4ec96016beb644fea6fabede8209b675",
       "version_major": 2,
       "version_minor": 0
      },
      "text/plain": [
       "  0%|          | 0/10 [00:00<?, ?it/s]"
      ]
     },
     "metadata": {},
     "output_type": "display_data"
    },
    {
     "data": {
      "application/vnd.jupyter.widget-view+json": {
       "model_id": "6fea0e205ad74db99a264bb536c52db5",
       "version_major": 2,
       "version_minor": 0
      },
      "text/plain": [
       "  0%|          | 0/17 [00:00<?, ?it/s]"
      ]
     },
     "metadata": {},
     "output_type": "display_data"
    },
    {
     "data": {
      "application/vnd.jupyter.widget-view+json": {
       "model_id": "cc94071ff6fd44c68fb15f5c0fd44b73",
       "version_major": 2,
       "version_minor": 0
      },
      "text/plain": [
       "  0%|          | 0/1 [00:00<?, ?it/s]"
      ]
     },
     "metadata": {},
     "output_type": "display_data"
    },
    {
     "name": "stdout",
     "output_type": "stream",
     "text": [
      "CSPR = 6.00 dB\n",
      "12500/12500 [==============================] - 10s 695us/step\n",
      "Results:\n",
      "BER: 4.91e-01\n",
      "SNR: 0.01 dB\n",
      "SIR =  6.52  dB\n",
      "GMI: -0.06 bits\n",
      "\n"
     ]
    },
    {
     "data": {
      "application/vnd.jupyter.widget-view+json": {
       "model_id": "12a4fabbd78c4153ab32cbc3ac98151e",
       "version_major": 2,
       "version_minor": 0
      },
      "text/plain": [
       "  0%|          | 0/1 [00:00<?, ?it/s]"
      ]
     },
     "metadata": {},
     "output_type": "display_data"
    },
    {
     "name": "stdout",
     "output_type": "stream",
     "text": [
      "CSPR = 6.00 dB\n",
      "12500/12500 [==============================] - 9s 688us/step\n",
      "Results:\n",
      "BER: 4.71e-01\n",
      "SNR: 0.08 dB\n",
      "SIR =  7.18  dB\n",
      "GMI: -0.04 bits\n",
      "\n"
     ]
    },
    {
     "data": {
      "application/vnd.jupyter.widget-view+json": {
       "model_id": "f9f94b05906742ad9d13c9666191ed22",
       "version_major": 2,
       "version_minor": 0
      },
      "text/plain": [
       "  0%|          | 0/1 [00:00<?, ?it/s]"
      ]
     },
     "metadata": {},
     "output_type": "display_data"
    },
    {
     "name": "stdout",
     "output_type": "stream",
     "text": [
      "CSPR = 6.00 dB\n",
      "12500/12500 [==============================] - 8s 672us/step\n",
      "Results:\n",
      "BER: 4.73e-01\n",
      "SNR: 0.08 dB\n",
      "SIR =  7.77  dB\n",
      "GMI: -0.05 bits\n",
      "\n"
     ]
    },
    {
     "data": {
      "application/vnd.jupyter.widget-view+json": {
       "model_id": "b2babba5049648b699373a4e6f1a8f70",
       "version_major": 2,
       "version_minor": 0
      },
      "text/plain": [
       "  0%|          | 0/1 [00:00<?, ?it/s]"
      ]
     },
     "metadata": {},
     "output_type": "display_data"
    },
    {
     "name": "stdout",
     "output_type": "stream",
     "text": [
      "CSPR = 6.00 dB\n",
      "12500/12500 [==============================] - 9s 682us/step\n",
      "Results:\n",
      "BER: 4.59e-01\n",
      "SNR: 0.14 dB\n",
      "SIR =  8.32  dB\n",
      "GMI: -0.04 bits\n",
      "\n"
     ]
    },
    {
     "data": {
      "application/vnd.jupyter.widget-view+json": {
       "model_id": "73cabbcc27d4485f9d4d65f4f0a631d1",
       "version_major": 2,
       "version_minor": 0
      },
      "text/plain": [
       "  0%|          | 0/1 [00:00<?, ?it/s]"
      ]
     },
     "metadata": {},
     "output_type": "display_data"
    },
    {
     "name": "stdout",
     "output_type": "stream",
     "text": [
      "CSPR = 6.00 dB\n",
      "12500/12500 [==============================] - 9s 702us/step\n",
      "Results:\n",
      "BER: 4.59e-01\n",
      "SNR: 0.22 dB\n",
      "SIR =  8.87  dB\n",
      "GMI: -0.04 bits\n",
      "\n"
     ]
    },
    {
     "data": {
      "application/vnd.jupyter.widget-view+json": {
       "model_id": "da73d965178d4e5bb37fef4565ecfd25",
       "version_major": 2,
       "version_minor": 0
      },
      "text/plain": [
       "  0%|          | 0/1 [00:00<?, ?it/s]"
      ]
     },
     "metadata": {},
     "output_type": "display_data"
    },
    {
     "name": "stdout",
     "output_type": "stream",
     "text": [
      "CSPR = 6.00 dB\n",
      "12500/12500 [==============================] - 9s 677us/step\n",
      "Results:\n",
      "BER: 4.19e-01\n",
      "SNR: 0.61 dB\n",
      "SIR =  9.37  dB\n",
      "GMI: 0.07 bits\n",
      "\n"
     ]
    },
    {
     "data": {
      "application/vnd.jupyter.widget-view+json": {
       "model_id": "25c542e649684149a323a5daa83cc3ef",
       "version_major": 2,
       "version_minor": 0
      },
      "text/plain": [
       "  0%|          | 0/1 [00:00<?, ?it/s]"
      ]
     },
     "metadata": {},
     "output_type": "display_data"
    },
    {
     "name": "stdout",
     "output_type": "stream",
     "text": [
      "CSPR = 6.00 dB\n",
      "12500/12500 [==============================] - 9s 691us/step\n",
      "Results:\n",
      "BER: 4.43e-01\n",
      "SNR: 0.33 dB\n",
      "SIR =  9.83  dB\n",
      "GMI: 0.00 bits\n",
      "\n"
     ]
    },
    {
     "data": {
      "application/vnd.jupyter.widget-view+json": {
       "model_id": "0e3385d7eb8d4f3eaae1082d4e1e262c",
       "version_major": 2,
       "version_minor": 0
      },
      "text/plain": [
       "  0%|          | 0/1 [00:00<?, ?it/s]"
      ]
     },
     "metadata": {},
     "output_type": "display_data"
    },
    {
     "name": "stdout",
     "output_type": "stream",
     "text": [
      "CSPR = 6.00 dB\n",
      "12500/12500 [==============================] - 9s 696us/step\n",
      "Results:\n",
      "BER: 7.10e-02\n",
      "SNR: 9.74 dB\n",
      "SIR =  10.21  dB\n",
      "GMI: 2.99 bits\n",
      "\n"
     ]
    },
    {
     "data": {
      "application/vnd.jupyter.widget-view+json": {
       "model_id": "020074771b2c43c4a37496029d99f311",
       "version_major": 2,
       "version_minor": 0
      },
      "text/plain": [
       "  0%|          | 0/1 [00:00<?, ?it/s]"
      ]
     },
     "metadata": {},
     "output_type": "display_data"
    },
    {
     "name": "stdout",
     "output_type": "stream",
     "text": [
      "CSPR = 6.00 dB\n",
      "12500/12500 [==============================] - 9s 708us/step\n",
      "Results:\n",
      "BER: 5.65e-02\n",
      "SNR: 10.43 dB\n",
      "SIR =  10.52  dB\n",
      "GMI: 3.17 bits\n",
      "\n"
     ]
    },
    {
     "data": {
      "application/vnd.jupyter.widget-view+json": {
       "model_id": "0c7bbf4f56c84d6197d75a5d700e80df",
       "version_major": 2,
       "version_minor": 0
      },
      "text/plain": [
       "  0%|          | 0/1 [00:00<?, ?it/s]"
      ]
     },
     "metadata": {},
     "output_type": "display_data"
    },
    {
     "name": "stdout",
     "output_type": "stream",
     "text": [
      "CSPR = 6.00 dB\n",
      "12500/12500 [==============================] - 9s 717us/step\n",
      "Results:\n",
      "BER: 4.34e-02\n",
      "SNR: 11.14 dB\n",
      "SIR =  10.91  dB\n",
      "GMI: 3.36 bits\n",
      "\n"
     ]
    },
    {
     "data": {
      "application/vnd.jupyter.widget-view+json": {
       "model_id": "f47d3edc06e84a2dbafcfac1f6b0c3e8",
       "version_major": 2,
       "version_minor": 0
      },
      "text/plain": [
       "  0%|          | 0/1 [00:00<?, ?it/s]"
      ]
     },
     "metadata": {},
     "output_type": "display_data"
    },
    {
     "name": "stdout",
     "output_type": "stream",
     "text": [
      "CSPR = 6.00 dB\n",
      "12500/12500 [==============================] - 8s 674us/step\n",
      "Results:\n",
      "BER: 3.42e-02\n",
      "SNR: 11.75 dB\n",
      "SIR =  11.09  dB\n",
      "GMI: 3.47 bits\n",
      "\n"
     ]
    },
    {
     "data": {
      "application/vnd.jupyter.widget-view+json": {
       "model_id": "5af0b0500d6f4024b43a187dca3d2bd7",
       "version_major": 2,
       "version_minor": 0
      },
      "text/plain": [
       "  0%|          | 0/1 [00:00<?, ?it/s]"
      ]
     },
     "metadata": {},
     "output_type": "display_data"
    },
    {
     "name": "stdout",
     "output_type": "stream",
     "text": [
      "CSPR = 6.00 dB\n",
      "12500/12500 [==============================] - 9s 686us/step\n",
      "Results:\n",
      "BER: 2.65e-02\n",
      "SNR: 12.34 dB\n",
      "SIR =  11.37  dB\n",
      "GMI: 3.58 bits\n",
      "\n"
     ]
    },
    {
     "data": {
      "application/vnd.jupyter.widget-view+json": {
       "model_id": "eaee5b25b50c49ac9bfb8660f37a24e4",
       "version_major": 2,
       "version_minor": 0
      },
      "text/plain": [
       "  0%|          | 0/1 [00:00<?, ?it/s]"
      ]
     },
     "metadata": {},
     "output_type": "display_data"
    },
    {
     "name": "stdout",
     "output_type": "stream",
     "text": [
      "CSPR = 6.00 dB\n",
      "12500/12500 [==============================] - 9s 676us/step\n",
      "Results:\n",
      "BER: 2.06e-02\n",
      "SNR: 12.85 dB\n",
      "SIR =  11.54  dB\n",
      "GMI: 3.67 bits\n",
      "\n"
     ]
    },
    {
     "data": {
      "application/vnd.jupyter.widget-view+json": {
       "model_id": "82cc28c5fa6d4d3ab42384134595b0f9",
       "version_major": 2,
       "version_minor": 0
      },
      "text/plain": [
       "  0%|          | 0/1 [00:00<?, ?it/s]"
      ]
     },
     "metadata": {},
     "output_type": "display_data"
    },
    {
     "name": "stdout",
     "output_type": "stream",
     "text": [
      "CSPR = 6.00 dB\n",
      "12500/12500 [==============================] - 9s 685us/step\n",
      "Results:\n",
      "BER: 1.66e-02\n",
      "SNR: 13.30 dB\n",
      "SIR =  11.69  dB\n",
      "GMI: 3.72 bits\n",
      "\n"
     ]
    },
    {
     "data": {
      "application/vnd.jupyter.widget-view+json": {
       "model_id": "f7d55c740dc440779bd34f39c6c45177",
       "version_major": 2,
       "version_minor": 0
      },
      "text/plain": [
       "  0%|          | 0/1 [00:00<?, ?it/s]"
      ]
     },
     "metadata": {},
     "output_type": "display_data"
    },
    {
     "name": "stdout",
     "output_type": "stream",
     "text": [
      "CSPR = 6.00 dB\n",
      "12500/12500 [==============================] - 8s 668us/step\n",
      "Results:\n",
      "BER: 1.32e-02\n",
      "SNR: 13.75 dB\n",
      "SIR =  11.79  dB\n",
      "GMI: 3.77 bits\n",
      "\n"
     ]
    },
    {
     "data": {
      "application/vnd.jupyter.widget-view+json": {
       "model_id": "6001561138b94922974225a2b2696001",
       "version_major": 2,
       "version_minor": 0
      },
      "text/plain": [
       "  0%|          | 0/1 [00:00<?, ?it/s]"
      ]
     },
     "metadata": {},
     "output_type": "display_data"
    },
    {
     "name": "stdout",
     "output_type": "stream",
     "text": [
      "CSPR = 6.00 dB\n",
      "12500/12500 [==============================] - 9s 736us/step\n",
      "Results:\n",
      "BER: 1.06e-02\n",
      "SNR: 14.13 dB\n",
      "SIR =  11.98  dB\n",
      "GMI: 3.81 bits\n",
      "\n"
     ]
    },
    {
     "data": {
      "application/vnd.jupyter.widget-view+json": {
       "model_id": "80030d48a817478282e1f2e3eda1c287",
       "version_major": 2,
       "version_minor": 0
      },
      "text/plain": [
       "  0%|          | 0/1 [00:00<?, ?it/s]"
      ]
     },
     "metadata": {},
     "output_type": "display_data"
    },
    {
     "name": "stdout",
     "output_type": "stream",
     "text": [
      "CSPR = 6.00 dB\n",
      "12500/12500 [==============================] - 9s 704us/step\n",
      "Results:\n",
      "BER: 9.33e-03\n",
      "SNR: 14.39 dB\n",
      "SIR =  12.01  dB\n",
      "GMI: 3.83 bits\n",
      "\n"
     ]
    },
    {
     "data": {
      "application/vnd.jupyter.widget-view+json": {
       "model_id": "62905e835aa94084a6ba8c77ae2f01b3",
       "version_major": 2,
       "version_minor": 0
      },
      "text/plain": [
       "  0%|          | 0/17 [00:00<?, ?it/s]"
      ]
     },
     "metadata": {},
     "output_type": "display_data"
    },
    {
     "data": {
      "application/vnd.jupyter.widget-view+json": {
       "model_id": "6f185990251444f09d853ca813b5c1d7",
       "version_major": 2,
       "version_minor": 0
      },
      "text/plain": [
       "  0%|          | 0/1 [00:00<?, ?it/s]"
      ]
     },
     "metadata": {},
     "output_type": "display_data"
    },
    {
     "name": "stdout",
     "output_type": "stream",
     "text": [
      "CSPR = 7.00 dB\n",
      "12500/12500 [==============================] - 9s 707us/step\n",
      "Results:\n",
      "BER: 4.63e-01\n",
      "SNR: 0.15 dB\n",
      "SIR =  6.92  dB\n",
      "GMI: -0.04 bits\n",
      "\n"
     ]
    },
    {
     "data": {
      "application/vnd.jupyter.widget-view+json": {
       "model_id": "fc259c537ead45a89644ac6d61a98b3a",
       "version_major": 2,
       "version_minor": 0
      },
      "text/plain": [
       "  0%|          | 0/1 [00:00<?, ?it/s]"
      ]
     },
     "metadata": {},
     "output_type": "display_data"
    },
    {
     "name": "stdout",
     "output_type": "stream",
     "text": [
      "CSPR = 7.00 dB\n",
      "12500/12500 [==============================] - 9s 700us/step\n",
      "Results:\n",
      "BER: 4.88e-01\n",
      "SNR: 0.02 dB\n",
      "SIR =  7.55  dB\n",
      "GMI: -0.05 bits\n",
      "\n"
     ]
    },
    {
     "data": {
      "application/vnd.jupyter.widget-view+json": {
       "model_id": "600653ac08074f12bf733bb94386122c",
       "version_major": 2,
       "version_minor": 0
      },
      "text/plain": [
       "  0%|          | 0/1 [00:00<?, ?it/s]"
      ]
     },
     "metadata": {},
     "output_type": "display_data"
    },
    {
     "name": "stdout",
     "output_type": "stream",
     "text": [
      "CSPR = 7.00 dB\n",
      "12500/12500 [==============================] - 8s 659us/step\n",
      "Results:\n",
      "BER: 4.49e-01\n",
      "SNR: 0.28 dB\n",
      "SIR =  8.13  dB\n",
      "GMI: -0.01 bits\n",
      "\n"
     ]
    },
    {
     "data": {
      "application/vnd.jupyter.widget-view+json": {
       "model_id": "9de8b3f19db441d1bd962f328805b42e",
       "version_major": 2,
       "version_minor": 0
      },
      "text/plain": [
       "  0%|          | 0/1 [00:00<?, ?it/s]"
      ]
     },
     "metadata": {},
     "output_type": "display_data"
    },
    {
     "name": "stdout",
     "output_type": "stream",
     "text": [
      "CSPR = 7.00 dB\n",
      "12500/12500 [==============================] - 9s 717us/step\n",
      "Results:\n",
      "BER: 4.67e-01\n",
      "SNR: 0.13 dB\n",
      "SIR =  8.71  dB\n",
      "GMI: -0.04 bits\n",
      "\n"
     ]
    },
    {
     "data": {
      "application/vnd.jupyter.widget-view+json": {
       "model_id": "5453c2d4a59e4db2bbc653deb18344d0",
       "version_major": 2,
       "version_minor": 0
      },
      "text/plain": [
       "  0%|          | 0/1 [00:00<?, ?it/s]"
      ]
     },
     "metadata": {},
     "output_type": "display_data"
    },
    {
     "name": "stdout",
     "output_type": "stream",
     "text": [
      "CSPR = 7.00 dB\n",
      "12500/12500 [==============================] - 9s 702us/step\n",
      "Results:\n",
      "BER: 4.73e-01\n",
      "SNR: 0.05 dB\n",
      "SIR =  9.23  dB\n",
      "GMI: -0.05 bits\n",
      "\n"
     ]
    },
    {
     "data": {
      "application/vnd.jupyter.widget-view+json": {
       "model_id": "98c469c254274db690ac6efa81470229",
       "version_major": 2,
       "version_minor": 0
      },
      "text/plain": [
       "  0%|          | 0/1 [00:00<?, ?it/s]"
      ]
     },
     "metadata": {},
     "output_type": "display_data"
    },
    {
     "name": "stdout",
     "output_type": "stream",
     "text": [
      "CSPR = 7.00 dB\n",
      "12500/12500 [==============================] - 9s 692us/step\n",
      "Results:\n",
      "BER: 3.95e-01\n",
      "SNR: 0.86 dB\n",
      "SIR =  9.75  dB\n",
      "GMI: 0.15 bits\n",
      "\n"
     ]
    },
    {
     "data": {
      "application/vnd.jupyter.widget-view+json": {
       "model_id": "dfebaf4347974f589061d11f40c3ff1a",
       "version_major": 2,
       "version_minor": 0
      },
      "text/plain": [
       "  0%|          | 0/1 [00:00<?, ?it/s]"
      ]
     },
     "metadata": {},
     "output_type": "display_data"
    },
    {
     "name": "stdout",
     "output_type": "stream",
     "text": [
      "CSPR = 7.00 dB\n",
      "12500/12500 [==============================] - 8s 659us/step\n",
      "Results:\n",
      "BER: 2.48e-01\n",
      "SNR: 2.59 dB\n",
      "SIR =  10.19  dB\n",
      "GMI: 0.78 bits\n",
      "\n"
     ]
    },
    {
     "data": {
      "application/vnd.jupyter.widget-view+json": {
       "model_id": "dc14298ebead43c48b02e186bc50b228",
       "version_major": 2,
       "version_minor": 0
      },
      "text/plain": [
       "  0%|          | 0/1 [00:00<?, ?it/s]"
      ]
     },
     "metadata": {},
     "output_type": "display_data"
    },
    {
     "name": "stdout",
     "output_type": "stream",
     "text": [
      "CSPR = 7.00 dB\n",
      "12500/12500 [==============================] - 9s 704us/step\n",
      "Results:\n",
      "BER: 6.36e-02\n",
      "SNR: 10.04 dB\n",
      "SIR =  10.6  dB\n",
      "GMI: 3.09 bits\n",
      "\n"
     ]
    },
    {
     "data": {
      "application/vnd.jupyter.widget-view+json": {
       "model_id": "a25d04fb3fb5442c986bf5e14030ee0c",
       "version_major": 2,
       "version_minor": 0
      },
      "text/plain": [
       "  0%|          | 0/1 [00:00<?, ?it/s]"
      ]
     },
     "metadata": {},
     "output_type": "display_data"
    },
    {
     "name": "stdout",
     "output_type": "stream",
     "text": [
      "CSPR = 7.00 dB\n",
      "12500/12500 [==============================] - 9s 685us/step\n",
      "Results:\n",
      "BER: 4.81e-02\n",
      "SNR: 10.89 dB\n",
      "SIR =  11.04  dB\n",
      "GMI: 3.29 bits\n",
      "\n"
     ]
    },
    {
     "data": {
      "application/vnd.jupyter.widget-view+json": {
       "model_id": "a7cf8e0f463649058822ec72da4a07a2",
       "version_major": 2,
       "version_minor": 0
      },
      "text/plain": [
       "  0%|          | 0/1 [00:00<?, ?it/s]"
      ]
     },
     "metadata": {},
     "output_type": "display_data"
    },
    {
     "name": "stdout",
     "output_type": "stream",
     "text": [
      "CSPR = 7.00 dB\n",
      "12500/12500 [==============================] - 9s 719us/step\n",
      "Results:\n",
      "BER: 3.71e-02\n",
      "SNR: 11.57 dB\n",
      "SIR =  11.3  dB\n",
      "GMI: 3.44 bits\n",
      "\n"
     ]
    },
    {
     "data": {
      "application/vnd.jupyter.widget-view+json": {
       "model_id": "f07fe9661aff4d1bb8813252fa3f923f",
       "version_major": 2,
       "version_minor": 0
      },
      "text/plain": [
       "  0%|          | 0/1 [00:00<?, ?it/s]"
      ]
     },
     "metadata": {},
     "output_type": "display_data"
    },
    {
     "name": "stdout",
     "output_type": "stream",
     "text": [
      "CSPR = 7.00 dB\n",
      "12500/12500 [==============================] - 9s 715us/step\n",
      "Results:\n",
      "BER: 2.73e-02\n",
      "SNR: 12.26 dB\n",
      "SIR =  11.66  dB\n",
      "GMI: 3.58 bits\n",
      "\n"
     ]
    },
    {
     "data": {
      "application/vnd.jupyter.widget-view+json": {
       "model_id": "9efa3c9a086b4dceb4943664c9f46cf7",
       "version_major": 2,
       "version_minor": 0
      },
      "text/plain": [
       "  0%|          | 0/1 [00:00<?, ?it/s]"
      ]
     },
     "metadata": {},
     "output_type": "display_data"
    },
    {
     "name": "stdout",
     "output_type": "stream",
     "text": [
      "CSPR = 7.00 dB\n",
      "12500/12500 [==============================] - 8s 667us/step\n",
      "Results:\n",
      "BER: 2.03e-02\n",
      "SNR: 12.82 dB\n",
      "SIR =  11.83  dB\n",
      "GMI: 3.68 bits\n",
      "\n"
     ]
    },
    {
     "data": {
      "application/vnd.jupyter.widget-view+json": {
       "model_id": "fbfb3b5c1d6749878a847d49cfa933de",
       "version_major": 2,
       "version_minor": 0
      },
      "text/plain": [
       "  0%|          | 0/1 [00:00<?, ?it/s]"
      ]
     },
     "metadata": {},
     "output_type": "display_data"
    },
    {
     "name": "stdout",
     "output_type": "stream",
     "text": [
      "CSPR = 7.00 dB\n",
      "12500/12500 [==============================] - 9s 677us/step\n",
      "Results:\n",
      "BER: 1.50e-02\n",
      "SNR: 13.43 dB\n",
      "SIR =  12.01  dB\n",
      "GMI: 3.76 bits\n",
      "\n"
     ]
    },
    {
     "data": {
      "application/vnd.jupyter.widget-view+json": {
       "model_id": "922e847bb0814d2cb3d4dbe5355814f7",
       "version_major": 2,
       "version_minor": 0
      },
      "text/plain": [
       "  0%|          | 0/1 [00:00<?, ?it/s]"
      ]
     },
     "metadata": {},
     "output_type": "display_data"
    },
    {
     "name": "stdout",
     "output_type": "stream",
     "text": [
      "CSPR = 7.00 dB\n",
      "12500/12500 [==============================] - 9s 687us/step\n",
      "Results:\n",
      "BER: 1.14e-02\n",
      "SNR: 13.97 dB\n",
      "SIR =  12.24  dB\n",
      "GMI: 3.81 bits\n",
      "\n"
     ]
    },
    {
     "data": {
      "application/vnd.jupyter.widget-view+json": {
       "model_id": "db402f955a7c4100a36b0d23935e0586",
       "version_major": 2,
       "version_minor": 0
      },
      "text/plain": [
       "  0%|          | 0/1 [00:00<?, ?it/s]"
      ]
     },
     "metadata": {},
     "output_type": "display_data"
    },
    {
     "name": "stdout",
     "output_type": "stream",
     "text": [
      "CSPR = 7.00 dB\n",
      "12500/12500 [==============================] - 9s 705us/step\n",
      "Results:\n",
      "BER: 8.73e-03\n",
      "SNR: 14.41 dB\n",
      "SIR =  12.31  dB\n",
      "GMI: 3.85 bits\n",
      "\n"
     ]
    },
    {
     "data": {
      "application/vnd.jupyter.widget-view+json": {
       "model_id": "12b47e2cecd84a6fa55bd040018c3b0d",
       "version_major": 2,
       "version_minor": 0
      },
      "text/plain": [
       "  0%|          | 0/1 [00:00<?, ?it/s]"
      ]
     },
     "metadata": {},
     "output_type": "display_data"
    },
    {
     "name": "stdout",
     "output_type": "stream",
     "text": [
      "CSPR = 7.00 dB\n",
      "12500/12500 [==============================] - 8s 671us/step\n",
      "Results:\n",
      "BER: 6.62e-03\n",
      "SNR: 14.87 dB\n",
      "SIR =  12.43  dB\n",
      "GMI: 3.88 bits\n",
      "\n"
     ]
    },
    {
     "data": {
      "application/vnd.jupyter.widget-view+json": {
       "model_id": "8255b13c0a4e46bd998845703a39770e",
       "version_major": 2,
       "version_minor": 0
      },
      "text/plain": [
       "  0%|          | 0/1 [00:00<?, ?it/s]"
      ]
     },
     "metadata": {},
     "output_type": "display_data"
    },
    {
     "name": "stdout",
     "output_type": "stream",
     "text": [
      "CSPR = 7.00 dB\n",
      "12500/12500 [==============================] - 9s 694us/step\n",
      "Results:\n",
      "BER: 5.22e-03\n",
      "SNR: 15.23 dB\n",
      "SIR =  12.48  dB\n",
      "GMI: 3.91 bits\n",
      "\n"
     ]
    },
    {
     "data": {
      "application/vnd.jupyter.widget-view+json": {
       "model_id": "8f53fd8e3b63488c92381e8e6be91f45",
       "version_major": 2,
       "version_minor": 0
      },
      "text/plain": [
       "  0%|          | 0/17 [00:00<?, ?it/s]"
      ]
     },
     "metadata": {},
     "output_type": "display_data"
    },
    {
     "data": {
      "application/vnd.jupyter.widget-view+json": {
       "model_id": "fc9e2d5dd39047738d2fdfc9327fde01",
       "version_major": 2,
       "version_minor": 0
      },
      "text/plain": [
       "  0%|          | 0/1 [00:00<?, ?it/s]"
      ]
     },
     "metadata": {},
     "output_type": "display_data"
    },
    {
     "name": "stdout",
     "output_type": "stream",
     "text": [
      "CSPR = 8.00 dB\n",
      "12500/12500 [==============================] - 9s 687us/step\n",
      "Results:\n",
      "BER: 4.69e-01\n",
      "SNR: 0.09 dB\n",
      "SIR =  7.16  dB\n",
      "GMI: -0.05 bits\n",
      "\n"
     ]
    },
    {
     "data": {
      "application/vnd.jupyter.widget-view+json": {
       "model_id": "0644137046d047d78827f68df0708a2c",
       "version_major": 2,
       "version_minor": 0
      },
      "text/plain": [
       "  0%|          | 0/1 [00:00<?, ?it/s]"
      ]
     },
     "metadata": {},
     "output_type": "display_data"
    },
    {
     "name": "stdout",
     "output_type": "stream",
     "text": [
      "CSPR = 8.00 dB\n",
      "12500/12500 [==============================] - 9s 681us/step\n",
      "Results:\n",
      "BER: 4.76e-01\n",
      "SNR: 0.07 dB\n",
      "SIR =  7.79  dB\n",
      "GMI: -0.06 bits\n",
      "\n"
     ]
    },
    {
     "data": {
      "application/vnd.jupyter.widget-view+json": {
       "model_id": "a6726dbbcb1640468cefb5282acf8f40",
       "version_major": 2,
       "version_minor": 0
      },
      "text/plain": [
       "  0%|          | 0/1 [00:00<?, ?it/s]"
      ]
     },
     "metadata": {},
     "output_type": "display_data"
    },
    {
     "name": "stdout",
     "output_type": "stream",
     "text": [
      "CSPR = 8.00 dB\n",
      "12500/12500 [==============================] - 9s 713us/step\n",
      "Results:\n",
      "BER: 4.84e-01\n",
      "SNR: 0.02 dB\n",
      "SIR =  8.38  dB\n",
      "GMI: -0.04 bits\n",
      "\n"
     ]
    },
    {
     "data": {
      "application/vnd.jupyter.widget-view+json": {
       "model_id": "109e03b10db74ee6980b781dcf97fc94",
       "version_major": 2,
       "version_minor": 0
      },
      "text/plain": [
       "  0%|          | 0/1 [00:00<?, ?it/s]"
      ]
     },
     "metadata": {},
     "output_type": "display_data"
    },
    {
     "name": "stdout",
     "output_type": "stream",
     "text": [
      "CSPR = 8.00 dB\n",
      "12500/12500 [==============================] - 8s 658us/step\n",
      "Results:\n",
      "BER: 4.73e-01\n",
      "SNR: 0.09 dB\n",
      "SIR =  8.96  dB\n",
      "GMI: -0.05 bits\n",
      "\n"
     ]
    },
    {
     "data": {
      "application/vnd.jupyter.widget-view+json": {
       "model_id": "f696ce456ad14378b0e40cc5826cb917",
       "version_major": 2,
       "version_minor": 0
      },
      "text/plain": [
       "  0%|          | 0/1 [00:00<?, ?it/s]"
      ]
     },
     "metadata": {},
     "output_type": "display_data"
    },
    {
     "name": "stdout",
     "output_type": "stream",
     "text": [
      "CSPR = 8.00 dB\n",
      "12500/12500 [==============================] - 9s 684us/step\n",
      "Results:\n",
      "BER: 4.33e-01\n",
      "SNR: 0.56 dB\n",
      "SIR =  9.54  dB\n",
      "GMI: 0.04 bits\n",
      "\n"
     ]
    },
    {
     "data": {
      "application/vnd.jupyter.widget-view+json": {
       "model_id": "d9cbfda25bc94eb6a165e551e65e2158",
       "version_major": 2,
       "version_minor": 0
      },
      "text/plain": [
       "  0%|          | 0/1 [00:00<?, ?it/s]"
      ]
     },
     "metadata": {},
     "output_type": "display_data"
    },
    {
     "name": "stdout",
     "output_type": "stream",
     "text": [
      "CSPR = 8.00 dB\n",
      "12500/12500 [==============================] - 9s 694us/step\n",
      "Results:\n",
      "BER: 3.51e-01\n",
      "SNR: 1.34 dB\n",
      "SIR =  10.02  dB\n",
      "GMI: 0.32 bits\n",
      "\n"
     ]
    },
    {
     "data": {
      "application/vnd.jupyter.widget-view+json": {
       "model_id": "5d0ad67f529140028e992f21e565bd35",
       "version_major": 2,
       "version_minor": 0
      },
      "text/plain": [
       "  0%|          | 0/1 [00:00<?, ?it/s]"
      ]
     },
     "metadata": {},
     "output_type": "display_data"
    },
    {
     "name": "stdout",
     "output_type": "stream",
     "text": [
      "CSPR = 8.00 dB\n",
      "12500/12500 [==============================] - 8s 673us/step\n",
      "Results:\n",
      "BER: 4.31e-01\n",
      "SNR: 0.38 dB\n",
      "SIR =  10.53  dB\n",
      "GMI: 0.02 bits\n",
      "\n"
     ]
    },
    {
     "data": {
      "application/vnd.jupyter.widget-view+json": {
       "model_id": "f38a907d63804de68b511af118756e45",
       "version_major": 2,
       "version_minor": 0
      },
      "text/plain": [
       "  0%|          | 0/1 [00:00<?, ?it/s]"
      ]
     },
     "metadata": {},
     "output_type": "display_data"
    },
    {
     "name": "stdout",
     "output_type": "stream",
     "text": [
      "CSPR = 8.00 dB\n",
      "12500/12500 [==============================] - 8s 669us/step\n",
      "Results:\n",
      "BER: 5.73e-02\n",
      "SNR: 10.41 dB\n",
      "SIR =  10.92  dB\n",
      "GMI: 3.17 bits\n",
      "\n"
     ]
    },
    {
     "data": {
      "application/vnd.jupyter.widget-view+json": {
       "model_id": "4809056c9ff242378679baf1e9831371",
       "version_major": 2,
       "version_minor": 0
      },
      "text/plain": [
       "  0%|          | 0/1 [00:00<?, ?it/s]"
      ]
     },
     "metadata": {},
     "output_type": "display_data"
    },
    {
     "name": "stdout",
     "output_type": "stream",
     "text": [
      "CSPR = 8.00 dB\n",
      "12500/12500 [==============================] - 8s 665us/step\n",
      "Results:\n",
      "BER: 4.36e-02\n",
      "SNR: 11.15 dB\n",
      "SIR =  11.3  dB\n",
      "GMI: 3.36 bits\n",
      "\n"
     ]
    },
    {
     "data": {
      "application/vnd.jupyter.widget-view+json": {
       "model_id": "d38c0970008242939a3437deb56d0eb3",
       "version_major": 2,
       "version_minor": 0
      },
      "text/plain": [
       "  0%|          | 0/1 [00:00<?, ?it/s]"
      ]
     },
     "metadata": {},
     "output_type": "display_data"
    },
    {
     "name": "stdout",
     "output_type": "stream",
     "text": [
      "CSPR = 8.00 dB\n",
      "12500/12500 [==============================] - 9s 702us/step\n",
      "Results:\n",
      "BER: 3.19e-02\n",
      "SNR: 11.92 dB\n",
      "SIR =  11.64  dB\n",
      "GMI: 3.53 bits\n",
      "\n"
     ]
    },
    {
     "data": {
      "application/vnd.jupyter.widget-view+json": {
       "model_id": "d92821219ba746c3ba20c884d5f9c8d4",
       "version_major": 2,
       "version_minor": 0
      },
      "text/plain": [
       "  0%|          | 0/1 [00:00<?, ?it/s]"
      ]
     },
     "metadata": {},
     "output_type": "display_data"
    },
    {
     "name": "stdout",
     "output_type": "stream",
     "text": [
      "CSPR = 8.00 dB\n",
      "12500/12500 [==============================] - 8s 657us/step\n",
      "Results:\n",
      "BER: 2.29e-02\n",
      "SNR: 12.60 dB\n",
      "SIR =  11.94  dB\n",
      "GMI: 3.65 bits\n",
      "\n"
     ]
    },
    {
     "data": {
      "application/vnd.jupyter.widget-view+json": {
       "model_id": "1d37a21585394c169461858b6c1f3437",
       "version_major": 2,
       "version_minor": 0
      },
      "text/plain": [
       "  0%|          | 0/1 [00:00<?, ?it/s]"
      ]
     },
     "metadata": {},
     "output_type": "display_data"
    },
    {
     "name": "stdout",
     "output_type": "stream",
     "text": [
      "CSPR = 8.00 dB\n",
      "12500/12500 [==============================] - 9s 680us/step\n",
      "Results:\n",
      "BER: 1.60e-02\n",
      "SNR: 13.31 dB\n",
      "SIR =  12.19  dB\n",
      "GMI: 3.75 bits\n",
      "\n"
     ]
    },
    {
     "data": {
      "application/vnd.jupyter.widget-view+json": {
       "model_id": "31f726d6ed464662a74c19790aa2c56c",
       "version_major": 2,
       "version_minor": 0
      },
      "text/plain": [
       "  0%|          | 0/1 [00:00<?, ?it/s]"
      ]
     },
     "metadata": {},
     "output_type": "display_data"
    },
    {
     "name": "stdout",
     "output_type": "stream",
     "text": [
      "CSPR = 8.00 dB\n",
      "12500/12500 [==============================] - 9s 702us/step\n",
      "Results:\n",
      "BER: 1.10e-02\n",
      "SNR: 13.92 dB\n",
      "SIR =  12.39  dB\n",
      "GMI: 3.82 bits\n",
      "\n"
     ]
    },
    {
     "data": {
      "application/vnd.jupyter.widget-view+json": {
       "model_id": "6285ed62fa83482f827d3fd605b748f5",
       "version_major": 2,
       "version_minor": 0
      },
      "text/plain": [
       "  0%|          | 0/1 [00:00<?, ?it/s]"
      ]
     },
     "metadata": {},
     "output_type": "display_data"
    },
    {
     "name": "stdout",
     "output_type": "stream",
     "text": [
      "CSPR = 8.00 dB\n",
      "12500/12500 [==============================] - 9s 706us/step\n",
      "Results:\n",
      "BER: 7.88e-03\n",
      "SNR: 14.43 dB\n",
      "SIR =  12.56  dB\n",
      "GMI: 3.87 bits\n",
      "\n"
     ]
    },
    {
     "data": {
      "application/vnd.jupyter.widget-view+json": {
       "model_id": "ef3e1cf6ef384a22ab3db25bb1ef2abb",
       "version_major": 2,
       "version_minor": 0
      },
      "text/plain": [
       "  0%|          | 0/1 [00:00<?, ?it/s]"
      ]
     },
     "metadata": {},
     "output_type": "display_data"
    },
    {
     "name": "stdout",
     "output_type": "stream",
     "text": [
      "CSPR = 8.00 dB\n",
      "12500/12500 [==============================] - 11s 910us/step\n",
      "Results:\n",
      "BER: 5.38e-03\n",
      "SNR: 15.04 dB\n",
      "SIR =  12.72  dB\n",
      "GMI: 3.91 bits\n",
      "\n"
     ]
    },
    {
     "data": {
      "application/vnd.jupyter.widget-view+json": {
       "model_id": "f8cafb7771cf47f792c8d9a8e6a4ebcd",
       "version_major": 2,
       "version_minor": 0
      },
      "text/plain": [
       "  0%|          | 0/1 [00:00<?, ?it/s]"
      ]
     },
     "metadata": {},
     "output_type": "display_data"
    },
    {
     "name": "stdout",
     "output_type": "stream",
     "text": [
      "CSPR = 8.00 dB\n",
      "12500/12500 [==============================] - 11s 898us/step\n",
      "Results:\n",
      "BER: 4.13e-03\n",
      "SNR: 15.43 dB\n",
      "SIR =  12.79  dB\n",
      "GMI: 3.93 bits\n",
      "\n"
     ]
    },
    {
     "data": {
      "application/vnd.jupyter.widget-view+json": {
       "model_id": "f3ff43b3a4ba43429b08bb764f9185f5",
       "version_major": 2,
       "version_minor": 0
      },
      "text/plain": [
       "  0%|          | 0/1 [00:00<?, ?it/s]"
      ]
     },
     "metadata": {},
     "output_type": "display_data"
    },
    {
     "name": "stdout",
     "output_type": "stream",
     "text": [
      "CSPR = 8.00 dB\n",
      "12500/12500 [==============================] - 11s 861us/step\n",
      "Results:\n",
      "BER: 2.78e-03\n",
      "SNR: 15.89 dB\n",
      "SIR =  12.89  dB\n",
      "GMI: 3.95 bits\n",
      "\n"
     ]
    },
    {
     "data": {
      "application/vnd.jupyter.widget-view+json": {
       "model_id": "4c643ff0579442b5965f49fe8d5df19e",
       "version_major": 2,
       "version_minor": 0
      },
      "text/plain": [
       "  0%|          | 0/17 [00:00<?, ?it/s]"
      ]
     },
     "metadata": {},
     "output_type": "display_data"
    },
    {
     "data": {
      "application/vnd.jupyter.widget-view+json": {
       "model_id": "013fc8256673459d965e4fdb6a480d65",
       "version_major": 2,
       "version_minor": 0
      },
      "text/plain": [
       "  0%|          | 0/1 [00:00<?, ?it/s]"
      ]
     },
     "metadata": {},
     "output_type": "display_data"
    },
    {
     "name": "stdout",
     "output_type": "stream",
     "text": [
      "CSPR = 9.00 dB\n",
      "12500/12500 [==============================] - 10s 809us/step\n",
      "Results:\n",
      "BER: 4.54e-01\n",
      "SNR: 0.25 dB\n",
      "SIR =  7.38  dB\n",
      "GMI: -0.03 bits\n",
      "\n"
     ]
    },
    {
     "data": {
      "application/vnd.jupyter.widget-view+json": {
       "model_id": "cfe9066e20d1449680224eed28fadac9",
       "version_major": 2,
       "version_minor": 0
      },
      "text/plain": [
       "  0%|          | 0/1 [00:00<?, ?it/s]"
      ]
     },
     "metadata": {},
     "output_type": "display_data"
    },
    {
     "name": "stdout",
     "output_type": "stream",
     "text": [
      "CSPR = 9.00 dB\n",
      "12500/12500 [==============================] - 11s 850us/step\n",
      "Results:\n",
      "BER: 4.79e-01\n",
      "SNR: 0.05 dB\n",
      "SIR =  8.0  dB\n",
      "GMI: -0.06 bits\n",
      "\n"
     ]
    },
    {
     "data": {
      "application/vnd.jupyter.widget-view+json": {
       "model_id": "8816b9b71e284dbc8b5aa10bfa715f54",
       "version_major": 2,
       "version_minor": 0
      },
      "text/plain": [
       "  0%|          | 0/1 [00:00<?, ?it/s]"
      ]
     },
     "metadata": {},
     "output_type": "display_data"
    },
    {
     "name": "stdout",
     "output_type": "stream",
     "text": [
      "CSPR = 9.00 dB\n",
      "12500/12500 [==============================] - 12s 922us/step\n",
      "Results:\n",
      "BER: 4.84e-01\n",
      "SNR: 0.03 dB\n",
      "SIR =  8.6  dB\n",
      "GMI: -0.06 bits\n",
      "\n"
     ]
    },
    {
     "data": {
      "application/vnd.jupyter.widget-view+json": {
       "model_id": "cfcee5ef36fe4a5bafa9e286e63a72fe",
       "version_major": 2,
       "version_minor": 0
      },
      "text/plain": [
       "  0%|          | 0/1 [00:00<?, ?it/s]"
      ]
     },
     "metadata": {},
     "output_type": "display_data"
    },
    {
     "name": "stdout",
     "output_type": "stream",
     "text": [
      "CSPR = 9.00 dB\n",
      "12500/12500 [==============================] - 10s 822us/step\n",
      "Results:\n",
      "BER: 4.95e-01\n",
      "SNR: 0.00 dB\n",
      "SIR =  9.17  dB\n",
      "GMI: -0.06 bits\n",
      "\n"
     ]
    },
    {
     "data": {
      "application/vnd.jupyter.widget-view+json": {
       "model_id": "73fb022515c340f4ad3a140c3cc5cc59",
       "version_major": 2,
       "version_minor": 0
      },
      "text/plain": [
       "  0%|          | 0/1 [00:00<?, ?it/s]"
      ]
     },
     "metadata": {},
     "output_type": "display_data"
    },
    {
     "name": "stdout",
     "output_type": "stream",
     "text": [
      "CSPR = 9.00 dB\n",
      "12500/12500 [==============================] - 11s 837us/step\n",
      "Results:\n",
      "BER: 4.65e-01\n",
      "SNR: 0.10 dB\n",
      "SIR =  9.72  dB\n",
      "GMI: -0.05 bits\n",
      "\n"
     ]
    },
    {
     "data": {
      "application/vnd.jupyter.widget-view+json": {
       "model_id": "99f1a85e4e444f7c9a420c59512ce638",
       "version_major": 2,
       "version_minor": 0
      },
      "text/plain": [
       "  0%|          | 0/1 [00:00<?, ?it/s]"
      ]
     },
     "metadata": {},
     "output_type": "display_data"
    },
    {
     "name": "stdout",
     "output_type": "stream",
     "text": [
      "CSPR = 9.00 dB\n",
      "12500/12500 [==============================] - 10s 827us/step\n",
      "Results:\n",
      "BER: 3.78e-01\n",
      "SNR: 1.10 dB\n",
      "SIR =  10.25  dB\n",
      "GMI: 0.21 bits\n",
      "\n"
     ]
    },
    {
     "data": {
      "application/vnd.jupyter.widget-view+json": {
       "model_id": "322e40d74981463d8c25fd6f12754758",
       "version_major": 2,
       "version_minor": 0
      },
      "text/plain": [
       "  0%|          | 0/1 [00:00<?, ?it/s]"
      ]
     },
     "metadata": {},
     "output_type": "display_data"
    },
    {
     "name": "stdout",
     "output_type": "stream",
     "text": [
      "CSPR = 9.00 dB\n",
      "12500/12500 [==============================] - 9s 739us/step\n",
      "Results:\n",
      "BER: 3.60e-01\n",
      "SNR: 1.36 dB\n",
      "SIR =  10.71  dB\n",
      "GMI: 0.27 bits\n",
      "\n"
     ]
    },
    {
     "data": {
      "application/vnd.jupyter.widget-view+json": {
       "model_id": "dc8c7c333f8e46cc85ca464d07981818",
       "version_major": 2,
       "version_minor": 0
      },
      "text/plain": [
       "  0%|          | 0/1 [00:00<?, ?it/s]"
      ]
     },
     "metadata": {},
     "output_type": "display_data"
    },
    {
     "name": "stdout",
     "output_type": "stream",
     "text": [
      "CSPR = 9.00 dB\n",
      "12500/12500 [==============================] - 9s 701us/step\n",
      "Results:\n",
      "BER: 5.39e-02\n",
      "SNR: 10.56 dB\n",
      "SIR =  11.16  dB\n",
      "GMI: 3.22 bits\n",
      "\n"
     ]
    },
    {
     "data": {
      "application/vnd.jupyter.widget-view+json": {
       "model_id": "db834ffe3d41445c897d8c7fc975f268",
       "version_major": 2,
       "version_minor": 0
      },
      "text/plain": [
       "  0%|          | 0/1 [00:00<?, ?it/s]"
      ]
     },
     "metadata": {},
     "output_type": "display_data"
    },
    {
     "name": "stdout",
     "output_type": "stream",
     "text": [
      "CSPR = 9.00 dB\n",
      "12500/12500 [==============================] - 9s 749us/step\n",
      "Results:\n",
      "BER: 4.06e-02\n",
      "SNR: 11.36 dB\n",
      "SIR =  11.5  dB\n",
      "GMI: 3.40 bits\n",
      "\n"
     ]
    },
    {
     "data": {
      "application/vnd.jupyter.widget-view+json": {
       "model_id": "61fccdea21f64bf1a55c501f3e4b44cb",
       "version_major": 2,
       "version_minor": 0
      },
      "text/plain": [
       "  0%|          | 0/1 [00:00<?, ?it/s]"
      ]
     },
     "metadata": {},
     "output_type": "display_data"
    },
    {
     "name": "stdout",
     "output_type": "stream",
     "text": [
      "CSPR = 9.00 dB\n",
      "12500/12500 [==============================] - 9s 726us/step\n",
      "Results:\n",
      "BER: 2.89e-02\n",
      "SNR: 12.10 dB\n",
      "SIR =  11.83  dB\n",
      "GMI: 3.57 bits\n",
      "\n"
     ]
    },
    {
     "data": {
      "application/vnd.jupyter.widget-view+json": {
       "model_id": "e871cfbc9bad46ecbd901c294f3113ef",
       "version_major": 2,
       "version_minor": 0
      },
      "text/plain": [
       "  0%|          | 0/1 [00:00<?, ?it/s]"
      ]
     },
     "metadata": {},
     "output_type": "display_data"
    },
    {
     "name": "stdout",
     "output_type": "stream",
     "text": [
      "CSPR = 9.00 dB\n",
      "12500/12500 [==============================] - 10s 771us/step\n",
      "Results:\n",
      "BER: 2.08e-02\n",
      "SNR: 12.79 dB\n",
      "SIR =  12.06  dB\n",
      "GMI: 3.68 bits\n",
      "\n"
     ]
    },
    {
     "data": {
      "application/vnd.jupyter.widget-view+json": {
       "model_id": "10330676d438430fbb3ea7c7c07bd210",
       "version_major": 2,
       "version_minor": 0
      },
      "text/plain": [
       "  0%|          | 0/1 [00:00<?, ?it/s]"
      ]
     },
     "metadata": {},
     "output_type": "display_data"
    },
    {
     "name": "stdout",
     "output_type": "stream",
     "text": [
      "CSPR = 9.00 dB\n",
      "12500/12500 [==============================] - 9s 744us/step\n",
      "Results:\n",
      "BER: 1.40e-02\n",
      "SNR: 13.50 dB\n",
      "SIR =  12.31  dB\n",
      "GMI: 3.78 bits\n",
      "\n"
     ]
    },
    {
     "data": {
      "application/vnd.jupyter.widget-view+json": {
       "model_id": "252c6d5790b44c7b8b11800365c52814",
       "version_major": 2,
       "version_minor": 0
      },
      "text/plain": [
       "  0%|          | 0/1 [00:00<?, ?it/s]"
      ]
     },
     "metadata": {},
     "output_type": "display_data"
    },
    {
     "name": "stdout",
     "output_type": "stream",
     "text": [
      "CSPR = 9.00 dB\n",
      "12500/12500 [==============================] - 9s 729us/step\n",
      "Results:\n",
      "BER: 8.96e-03\n",
      "SNR: 14.18 dB\n",
      "SIR =  12.57  dB\n",
      "GMI: 3.86 bits\n",
      "\n"
     ]
    },
    {
     "data": {
      "application/vnd.jupyter.widget-view+json": {
       "model_id": "130167d5924d476d96af4ca13fb84b3f",
       "version_major": 2,
       "version_minor": 0
      },
      "text/plain": [
       "  0%|          | 0/1 [00:00<?, ?it/s]"
      ]
     },
     "metadata": {},
     "output_type": "display_data"
    },
    {
     "name": "stdout",
     "output_type": "stream",
     "text": [
      "CSPR = 9.00 dB\n",
      "12500/12500 [==============================] - 10s 771us/step\n",
      "Results:\n",
      "BER: 6.13e-03\n",
      "SNR: 14.77 dB\n",
      "SIR =  12.77  dB\n",
      "GMI: 3.90 bits\n",
      "\n"
     ]
    },
    {
     "data": {
      "application/vnd.jupyter.widget-view+json": {
       "model_id": "ef5ec1e6a438414db26967cf1e251c12",
       "version_major": 2,
       "version_minor": 0
      },
      "text/plain": [
       "  0%|          | 0/1 [00:00<?, ?it/s]"
      ]
     },
     "metadata": {},
     "output_type": "display_data"
    },
    {
     "name": "stdout",
     "output_type": "stream",
     "text": [
      "CSPR = 9.00 dB\n",
      "12500/12500 [==============================] - 9s 749us/step\n",
      "Results:\n",
      "BER: 4.27e-03\n",
      "SNR: 15.28 dB\n",
      "SIR =  12.82  dB\n",
      "GMI: 3.93 bits\n",
      "\n"
     ]
    },
    {
     "data": {
      "application/vnd.jupyter.widget-view+json": {
       "model_id": "9dac4c9f626b419eb7181fe6341a49ef",
       "version_major": 2,
       "version_minor": 0
      },
      "text/plain": [
       "  0%|          | 0/1 [00:00<?, ?it/s]"
      ]
     },
     "metadata": {},
     "output_type": "display_data"
    },
    {
     "name": "stdout",
     "output_type": "stream",
     "text": [
      "CSPR = 9.00 dB\n",
      "12500/12500 [==============================] - 10s 768us/step\n",
      "Results:\n",
      "BER: 2.57e-03\n",
      "SNR: 15.79 dB\n",
      "SIR =  12.99  dB\n",
      "GMI: 3.96 bits\n",
      "\n"
     ]
    },
    {
     "data": {
      "application/vnd.jupyter.widget-view+json": {
       "model_id": "a3e50ce2d0ea4f1db88facf8ef4360bd",
       "version_major": 2,
       "version_minor": 0
      },
      "text/plain": [
       "  0%|          | 0/1 [00:00<?, ?it/s]"
      ]
     },
     "metadata": {},
     "output_type": "display_data"
    },
    {
     "name": "stdout",
     "output_type": "stream",
     "text": [
      "CSPR = 9.00 dB\n",
      "12500/12500 [==============================] - 10s 767us/step\n",
      "Results:\n",
      "BER: 1.87e-03\n",
      "SNR: 16.29 dB\n",
      "SIR =  13.11  dB\n",
      "GMI: 3.97 bits\n",
      "\n"
     ]
    },
    {
     "data": {
      "application/vnd.jupyter.widget-view+json": {
       "model_id": "f6892780ded64d309fc088e6d00a046e",
       "version_major": 2,
       "version_minor": 0
      },
      "text/plain": [
       "  0%|          | 0/17 [00:00<?, ?it/s]"
      ]
     },
     "metadata": {},
     "output_type": "display_data"
    },
    {
     "data": {
      "application/vnd.jupyter.widget-view+json": {
       "model_id": "e52c2be97bfd4b84a9a7d8435517e031",
       "version_major": 2,
       "version_minor": 0
      },
      "text/plain": [
       "  0%|          | 0/1 [00:00<?, ?it/s]"
      ]
     },
     "metadata": {},
     "output_type": "display_data"
    },
    {
     "name": "stdout",
     "output_type": "stream",
     "text": [
      "CSPR = 10.00 dB\n",
      "12500/12500 [==============================] - 9s 714us/step\n",
      "Results:\n",
      "BER: 4.88e-01\n",
      "SNR: 0.01 dB\n",
      "SIR =  7.5  dB\n",
      "GMI: -0.06 bits\n",
      "\n"
     ]
    },
    {
     "data": {
      "application/vnd.jupyter.widget-view+json": {
       "model_id": "a34342211a4f4365abe9488de89cdd61",
       "version_major": 2,
       "version_minor": 0
      },
      "text/plain": [
       "  0%|          | 0/1 [00:00<?, ?it/s]"
      ]
     },
     "metadata": {},
     "output_type": "display_data"
    },
    {
     "name": "stdout",
     "output_type": "stream",
     "text": [
      "CSPR = 10.00 dB\n",
      "12500/12500 [==============================] - 8s 673us/step\n",
      "Results:\n",
      "BER: 4.60e-01\n",
      "SNR: 0.17 dB\n",
      "SIR =  8.15  dB\n",
      "GMI: -0.04 bits\n",
      "\n"
     ]
    },
    {
     "data": {
      "application/vnd.jupyter.widget-view+json": {
       "model_id": "b7efa053cfe94b43af8bae7797a094e1",
       "version_major": 2,
       "version_minor": 0
      },
      "text/plain": [
       "  0%|          | 0/1 [00:00<?, ?it/s]"
      ]
     },
     "metadata": {},
     "output_type": "display_data"
    },
    {
     "name": "stdout",
     "output_type": "stream",
     "text": [
      "CSPR = 10.00 dB\n",
      "12500/12500 [==============================] - 8s 645us/step\n",
      "Results:\n",
      "BER: 4.50e-01\n",
      "SNR: 0.30 dB\n",
      "SIR =  8.72  dB\n",
      "GMI: -0.01 bits\n",
      "\n"
     ]
    },
    {
     "data": {
      "application/vnd.jupyter.widget-view+json": {
       "model_id": "aec00f1aaa8d4a2d8509e791712199ec",
       "version_major": 2,
       "version_minor": 0
      },
      "text/plain": [
       "  0%|          | 0/1 [00:00<?, ?it/s]"
      ]
     },
     "metadata": {},
     "output_type": "display_data"
    },
    {
     "name": "stdout",
     "output_type": "stream",
     "text": [
      "CSPR = 10.00 dB\n",
      "12500/12500 [==============================] - 9s 711us/step\n",
      "Results:\n",
      "BER: 4.57e-01\n",
      "SNR: 0.21 dB\n",
      "SIR =  9.32  dB\n",
      "GMI: -0.03 bits\n",
      "\n"
     ]
    },
    {
     "data": {
      "application/vnd.jupyter.widget-view+json": {
       "model_id": "091dcda7460f4ca6a56203fec3892614",
       "version_major": 2,
       "version_minor": 0
      },
      "text/plain": [
       "  0%|          | 0/1 [00:00<?, ?it/s]"
      ]
     },
     "metadata": {},
     "output_type": "display_data"
    },
    {
     "name": "stdout",
     "output_type": "stream",
     "text": [
      "CSPR = 10.00 dB\n",
      "12500/12500 [==============================] - 9s 700us/step\n",
      "Results:\n",
      "BER: 4.09e-01\n",
      "SNR: 0.68 dB\n",
      "SIR =  9.85  dB\n",
      "GMI: 0.10 bits\n",
      "\n"
     ]
    },
    {
     "data": {
      "application/vnd.jupyter.widget-view+json": {
       "model_id": "11c7378e83bc40fb9a3271c025aa9e37",
       "version_major": 2,
       "version_minor": 0
      },
      "text/plain": [
       "  0%|          | 0/1 [00:00<?, ?it/s]"
      ]
     },
     "metadata": {},
     "output_type": "display_data"
    },
    {
     "name": "stdout",
     "output_type": "stream",
     "text": [
      "CSPR = 10.00 dB\n",
      "12500/12500 [==============================] - 8s 662us/step\n",
      "Results:\n",
      "BER: 4.15e-01\n",
      "SNR: 0.61 dB\n",
      "SIR =  10.37  dB\n",
      "GMI: 0.06 bits\n",
      "\n"
     ]
    },
    {
     "data": {
      "application/vnd.jupyter.widget-view+json": {
       "model_id": "3913c02426c54c99b79bc1fdb04c212b",
       "version_major": 2,
       "version_minor": 0
      },
      "text/plain": [
       "  0%|          | 0/1 [00:00<?, ?it/s]"
      ]
     },
     "metadata": {},
     "output_type": "display_data"
    },
    {
     "name": "stdout",
     "output_type": "stream",
     "text": [
      "CSPR = 10.00 dB\n",
      "12500/12500 [==============================] - 8s 627us/step\n",
      "Results:\n",
      "BER: 3.92e-01\n",
      "SNR: 0.92 dB\n",
      "SIR =  10.85  dB\n",
      "GMI: 0.15 bits\n",
      "\n"
     ]
    },
    {
     "data": {
      "application/vnd.jupyter.widget-view+json": {
       "model_id": "a054e8b5349e473db46e1015f7c65614",
       "version_major": 2,
       "version_minor": 0
      },
      "text/plain": [
       "  0%|          | 0/1 [00:00<?, ?it/s]"
      ]
     },
     "metadata": {},
     "output_type": "display_data"
    },
    {
     "name": "stdout",
     "output_type": "stream",
     "text": [
      "CSPR = 10.00 dB\n",
      "12500/12500 [==============================] - 8s 646us/step\n",
      "Results:\n",
      "BER: 5.24e-02\n",
      "SNR: 10.66 dB\n",
      "SIR =  11.26  dB\n",
      "GMI: 3.25 bits\n",
      "\n"
     ]
    },
    {
     "data": {
      "application/vnd.jupyter.widget-view+json": {
       "model_id": "0f91b462800c489a9bb9f4bf29d2cdd8",
       "version_major": 2,
       "version_minor": 0
      },
      "text/plain": [
       "  0%|          | 0/1 [00:00<?, ?it/s]"
      ]
     },
     "metadata": {},
     "output_type": "display_data"
    },
    {
     "name": "stdout",
     "output_type": "stream",
     "text": [
      "CSPR = 10.00 dB\n",
      "12500/12500 [==============================] - 9s 703us/step\n",
      "Results:\n",
      "BER: 3.80e-02\n",
      "SNR: 11.48 dB\n",
      "SIR =  11.64  dB\n",
      "GMI: 3.44 bits\n",
      "\n"
     ]
    },
    {
     "data": {
      "application/vnd.jupyter.widget-view+json": {
       "model_id": "d60179c0490047a9a7368963e682e304",
       "version_major": 2,
       "version_minor": 0
      },
      "text/plain": [
       "  0%|          | 0/1 [00:00<?, ?it/s]"
      ]
     },
     "metadata": {},
     "output_type": "display_data"
    },
    {
     "name": "stdout",
     "output_type": "stream",
     "text": [
      "CSPR = 10.00 dB\n",
      "12500/12500 [==============================] - 9s 693us/step\n",
      "Results:\n",
      "BER: 2.73e-02\n",
      "SNR: 12.26 dB\n",
      "SIR =  11.96  dB\n",
      "GMI: 3.59 bits\n",
      "\n"
     ]
    },
    {
     "data": {
      "application/vnd.jupyter.widget-view+json": {
       "model_id": "f9a8101c93cb451b81e9760f4671f730",
       "version_major": 2,
       "version_minor": 0
      },
      "text/plain": [
       "  0%|          | 0/1 [00:00<?, ?it/s]"
      ]
     },
     "metadata": {},
     "output_type": "display_data"
    },
    {
     "name": "stdout",
     "output_type": "stream",
     "text": [
      "CSPR = 10.00 dB\n",
      "12500/12500 [==============================] - 8s 646us/step\n",
      "Results:\n",
      "BER: 1.90e-02\n",
      "SNR: 12.97 dB\n",
      "SIR =  12.28  dB\n",
      "GMI: 3.71 bits\n",
      "\n"
     ]
    },
    {
     "data": {
      "application/vnd.jupyter.widget-view+json": {
       "model_id": "5bdd5a30145d45b5b6d6f4a7f12e2fc1",
       "version_major": 2,
       "version_minor": 0
      },
      "text/plain": [
       "  0%|          | 0/1 [00:00<?, ?it/s]"
      ]
     },
     "metadata": {},
     "output_type": "display_data"
    },
    {
     "name": "stdout",
     "output_type": "stream",
     "text": [
      "CSPR = 10.00 dB\n",
      "12500/12500 [==============================] - 8s 666us/step\n",
      "Results:\n",
      "BER: 1.27e-02\n",
      "SNR: 13.68 dB\n",
      "SIR =  12.49  dB\n",
      "GMI: 3.80 bits\n",
      "\n"
     ]
    },
    {
     "data": {
      "application/vnd.jupyter.widget-view+json": {
       "model_id": "75f0ed259b894b50bc5abe02fdf01833",
       "version_major": 2,
       "version_minor": 0
      },
      "text/plain": [
       "  0%|          | 0/1 [00:00<?, ?it/s]"
      ]
     },
     "metadata": {},
     "output_type": "display_data"
    },
    {
     "name": "stdout",
     "output_type": "stream",
     "text": [
      "CSPR = 10.00 dB\n",
      "12500/12500 [==============================] - 8s 652us/step\n",
      "Results:\n",
      "BER: 8.17e-03\n",
      "SNR: 14.35 dB\n",
      "SIR =  12.7  dB\n",
      "GMI: 3.87 bits\n",
      "\n"
     ]
    },
    {
     "data": {
      "application/vnd.jupyter.widget-view+json": {
       "model_id": "286a8ecc28e34ba19eb7756915ddf947",
       "version_major": 2,
       "version_minor": 0
      },
      "text/plain": [
       "  0%|          | 0/1 [00:00<?, ?it/s]"
      ]
     },
     "metadata": {},
     "output_type": "display_data"
    },
    {
     "name": "stdout",
     "output_type": "stream",
     "text": [
      "CSPR = 10.00 dB\n",
      "12500/12500 [==============================] - 9s 675us/step\n",
      "Results:\n",
      "BER: 4.96e-03\n",
      "SNR: 15.00 dB\n",
      "SIR =  12.86  dB\n",
      "GMI: 3.92 bits\n",
      "\n"
     ]
    },
    {
     "data": {
      "application/vnd.jupyter.widget-view+json": {
       "model_id": "9ee6f4c003db42618d7dc375b53ad2fa",
       "version_major": 2,
       "version_minor": 0
      },
      "text/plain": [
       "  0%|          | 0/1 [00:00<?, ?it/s]"
      ]
     },
     "metadata": {},
     "output_type": "display_data"
    },
    {
     "name": "stdout",
     "output_type": "stream",
     "text": [
      "CSPR = 10.00 dB\n",
      "12500/12500 [==============================] - 10s 812us/step\n",
      "Results:\n",
      "BER: 3.29e-03\n",
      "SNR: 15.54 dB\n",
      "SIR =  13.01  dB\n",
      "GMI: 3.95 bits\n",
      "\n"
     ]
    },
    {
     "data": {
      "application/vnd.jupyter.widget-view+json": {
       "model_id": "fccc240b88ad4efca65a6f34262b80e4",
       "version_major": 2,
       "version_minor": 0
      },
      "text/plain": [
       "  0%|          | 0/1 [00:00<?, ?it/s]"
      ]
     },
     "metadata": {},
     "output_type": "display_data"
    },
    {
     "name": "stdout",
     "output_type": "stream",
     "text": [
      "CSPR = 10.00 dB\n",
      "12500/12500 [==============================] - 8s 670us/step\n",
      "Results:\n",
      "BER: 2.08e-03\n",
      "SNR: 16.10 dB\n",
      "SIR =  13.15  dB\n",
      "GMI: 3.97 bits\n",
      "\n"
     ]
    },
    {
     "data": {
      "application/vnd.jupyter.widget-view+json": {
       "model_id": "8d34dd3086ba403b882e35e40318ba13",
       "version_major": 2,
       "version_minor": 0
      },
      "text/plain": [
       "  0%|          | 0/1 [00:00<?, ?it/s]"
      ]
     },
     "metadata": {},
     "output_type": "display_data"
    },
    {
     "name": "stdout",
     "output_type": "stream",
     "text": [
      "CSPR = 10.00 dB\n",
      "12500/12500 [==============================] - 9s 709us/step\n",
      "Results:\n",
      "BER: 1.40e-03\n",
      "SNR: 16.57 dB\n",
      "SIR =  13.24  dB\n",
      "GMI: 3.98 bits\n",
      "\n"
     ]
    },
    {
     "data": {
      "application/vnd.jupyter.widget-view+json": {
       "model_id": "903743f2afac40158f5abe95598cfd29",
       "version_major": 2,
       "version_minor": 0
      },
      "text/plain": [
       "  0%|          | 0/17 [00:00<?, ?it/s]"
      ]
     },
     "metadata": {},
     "output_type": "display_data"
    },
    {
     "data": {
      "application/vnd.jupyter.widget-view+json": {
       "model_id": "7efb909e8486480085bde8a6c5270cc1",
       "version_major": 2,
       "version_minor": 0
      },
      "text/plain": [
       "  0%|          | 0/1 [00:00<?, ?it/s]"
      ]
     },
     "metadata": {},
     "output_type": "display_data"
    },
    {
     "name": "stdout",
     "output_type": "stream",
     "text": [
      "CSPR = 11.00 dB\n",
      "12500/12500 [==============================] - 8s 655us/step\n",
      "Results:\n",
      "BER: 4.89e-01\n",
      "SNR: 0.01 dB\n",
      "SIR =  7.68  dB\n",
      "GMI: -0.06 bits\n",
      "\n"
     ]
    },
    {
     "data": {
      "application/vnd.jupyter.widget-view+json": {
       "model_id": "9fccb2c806f1493b89a41af707fa954c",
       "version_major": 2,
       "version_minor": 0
      },
      "text/plain": [
       "  0%|          | 0/1 [00:00<?, ?it/s]"
      ]
     },
     "metadata": {},
     "output_type": "display_data"
    },
    {
     "name": "stdout",
     "output_type": "stream",
     "text": [
      "CSPR = 11.00 dB\n",
      "12500/12500 [==============================] - 9s 708us/step\n",
      "Results:\n",
      "BER: 4.44e-01\n",
      "SNR: 0.29 dB\n",
      "SIR =  8.28  dB\n",
      "GMI: -0.02 bits\n",
      "\n"
     ]
    },
    {
     "data": {
      "application/vnd.jupyter.widget-view+json": {
       "model_id": "35416a02cff34b17b050aec16d148e83",
       "version_major": 2,
       "version_minor": 0
      },
      "text/plain": [
       "  0%|          | 0/1 [00:00<?, ?it/s]"
      ]
     },
     "metadata": {},
     "output_type": "display_data"
    },
    {
     "name": "stdout",
     "output_type": "stream",
     "text": [
      "CSPR = 11.00 dB\n",
      "12500/12500 [==============================] - 8s 669us/step\n",
      "Results:\n",
      "BER: 4.93e-01\n",
      "SNR: 0.01 dB\n",
      "SIR =  8.9  dB\n",
      "GMI: -0.05 bits\n",
      "\n"
     ]
    },
    {
     "data": {
      "application/vnd.jupyter.widget-view+json": {
       "model_id": "53369a7930844d45ac2a7ca46d62d5e8",
       "version_major": 2,
       "version_minor": 0
      },
      "text/plain": [
       "  0%|          | 0/1 [00:00<?, ?it/s]"
      ]
     },
     "metadata": {},
     "output_type": "display_data"
    },
    {
     "name": "stdout",
     "output_type": "stream",
     "text": [
      "CSPR = 11.00 dB\n",
      "12500/12500 [==============================] - 8s 671us/step\n",
      "Results:\n",
      "BER: 4.50e-01\n",
      "SNR: 0.32 dB\n",
      "SIR =  9.45  dB\n",
      "GMI: -0.00 bits\n",
      "\n"
     ]
    },
    {
     "data": {
      "application/vnd.jupyter.widget-view+json": {
       "model_id": "50638cba772a49509ee5909ced2999b2",
       "version_major": 2,
       "version_minor": 0
      },
      "text/plain": [
       "  0%|          | 0/1 [00:00<?, ?it/s]"
      ]
     },
     "metadata": {},
     "output_type": "display_data"
    },
    {
     "name": "stdout",
     "output_type": "stream",
     "text": [
      "CSPR = 11.00 dB\n",
      "12500/12500 [==============================] - 9s 689us/step\n",
      "Results:\n",
      "BER: 4.77e-01\n",
      "SNR: 0.06 dB\n",
      "SIR =  9.99  dB\n",
      "GMI: -0.06 bits\n",
      "\n"
     ]
    },
    {
     "data": {
      "application/vnd.jupyter.widget-view+json": {
       "model_id": "66648c724be4474e89050b0a1d6b2062",
       "version_major": 2,
       "version_minor": 0
      },
      "text/plain": [
       "  0%|          | 0/1 [00:00<?, ?it/s]"
      ]
     },
     "metadata": {},
     "output_type": "display_data"
    },
    {
     "name": "stdout",
     "output_type": "stream",
     "text": [
      "CSPR = 11.00 dB\n",
      "12500/12500 [==============================] - 9s 716us/step\n",
      "Results:\n",
      "BER: 3.87e-01\n",
      "SNR: 1.03 dB\n",
      "SIR =  10.5  dB\n",
      "GMI: 0.17 bits\n",
      "\n"
     ]
    },
    {
     "data": {
      "application/vnd.jupyter.widget-view+json": {
       "model_id": "836b4926fe79457fac9f97cdf5dc6eb7",
       "version_major": 2,
       "version_minor": 0
      },
      "text/plain": [
       "  0%|          | 0/1 [00:00<?, ?it/s]"
      ]
     },
     "metadata": {},
     "output_type": "display_data"
    },
    {
     "name": "stdout",
     "output_type": "stream",
     "text": [
      "CSPR = 11.00 dB\n",
      "12500/12500 [==============================] - 8s 647us/step\n",
      "Results:\n",
      "BER: 3.18e-01\n",
      "SNR: 2.16 dB\n",
      "SIR =  10.98  dB\n",
      "GMI: 0.52 bits\n",
      "\n"
     ]
    },
    {
     "data": {
      "application/vnd.jupyter.widget-view+json": {
       "model_id": "ad0f736e44824f359b1c7e0e2e71105e",
       "version_major": 2,
       "version_minor": 0
      },
      "text/plain": [
       "  0%|          | 0/1 [00:00<?, ?it/s]"
      ]
     },
     "metadata": {},
     "output_type": "display_data"
    },
    {
     "name": "stdout",
     "output_type": "stream",
     "text": [
      "CSPR = 11.00 dB\n",
      "12500/12500 [==============================] - 9s 678us/step\n",
      "Results:\n",
      "BER: 4.98e-02\n",
      "SNR: 10.81 dB\n",
      "SIR =  11.41  dB\n",
      "GMI: 3.28 bits\n",
      "\n"
     ]
    },
    {
     "data": {
      "application/vnd.jupyter.widget-view+json": {
       "model_id": "3fd6b7a1c25847c18bcfb2c978333fd6",
       "version_major": 2,
       "version_minor": 0
      },
      "text/plain": [
       "  0%|          | 0/1 [00:00<?, ?it/s]"
      ]
     },
     "metadata": {},
     "output_type": "display_data"
    },
    {
     "name": "stdout",
     "output_type": "stream",
     "text": [
      "CSPR = 11.00 dB\n",
      "12500/12500 [==============================] - 8s 632us/step\n",
      "Results:\n",
      "BER: 3.51e-02\n",
      "SNR: 11.65 dB\n",
      "SIR =  11.87  dB\n",
      "GMI: 3.48 bits\n",
      "\n"
     ]
    },
    {
     "data": {
      "application/vnd.jupyter.widget-view+json": {
       "model_id": "0f8e3356bc58465290a7d72cabf0dfcf",
       "version_major": 2,
       "version_minor": 0
      },
      "text/plain": [
       "  0%|          | 0/1 [00:00<?, ?it/s]"
      ]
     },
     "metadata": {},
     "output_type": "display_data"
    },
    {
     "name": "stdout",
     "output_type": "stream",
     "text": [
      "CSPR = 11.00 dB\n",
      "12500/12500 [==============================] - 8s 658us/step\n",
      "Results:\n",
      "BER: 2.50e-02\n",
      "SNR: 12.41 dB\n",
      "SIR =  12.15  dB\n",
      "GMI: 3.62 bits\n",
      "\n"
     ]
    },
    {
     "data": {
      "application/vnd.jupyter.widget-view+json": {
       "model_id": "3d74d0052fc24ff3a6434047cb8ec0c2",
       "version_major": 2,
       "version_minor": 0
      },
      "text/plain": [
       "  0%|          | 0/1 [00:00<?, ?it/s]"
      ]
     },
     "metadata": {},
     "output_type": "display_data"
    },
    {
     "name": "stdout",
     "output_type": "stream",
     "text": [
      "CSPR = 11.00 dB\n",
      "12500/12500 [==============================] - 8s 659us/step\n",
      "Results:\n",
      "BER: 1.68e-02\n",
      "SNR: 13.16 dB\n",
      "SIR =  12.47  dB\n",
      "GMI: 3.74 bits\n",
      "\n"
     ]
    },
    {
     "data": {
      "application/vnd.jupyter.widget-view+json": {
       "model_id": "bf2b90f392ec44b39d4071bd4c0b2ec3",
       "version_major": 2,
       "version_minor": 0
      },
      "text/plain": [
       "  0%|          | 0/1 [00:00<?, ?it/s]"
      ]
     },
     "metadata": {},
     "output_type": "display_data"
    },
    {
     "name": "stdout",
     "output_type": "stream",
     "text": [
      "CSPR = 11.00 dB\n",
      "12500/12500 [==============================] - 9s 697us/step\n",
      "Results:\n",
      "BER: 1.05e-02\n",
      "SNR: 13.94 dB\n",
      "SIR =  12.69  dB\n",
      "GMI: 3.84 bits\n",
      "\n"
     ]
    },
    {
     "data": {
      "application/vnd.jupyter.widget-view+json": {
       "model_id": "1c4a7b947dfb48d1bbeb5a17057340fc",
       "version_major": 2,
       "version_minor": 0
      },
      "text/plain": [
       "  0%|          | 0/1 [00:00<?, ?it/s]"
      ]
     },
     "metadata": {},
     "output_type": "display_data"
    },
    {
     "name": "stdout",
     "output_type": "stream",
     "text": [
      "CSPR = 11.00 dB\n",
      "12500/12500 [==============================] - 8s 654us/step\n",
      "Results:\n",
      "BER: 6.96e-03\n",
      "SNR: 14.59 dB\n",
      "SIR =  12.86  dB\n",
      "GMI: 3.89 bits\n",
      "\n"
     ]
    },
    {
     "data": {
      "application/vnd.jupyter.widget-view+json": {
       "model_id": "4ceeb26ec0b9484280d490dc5104694e",
       "version_major": 2,
       "version_minor": 0
      },
      "text/plain": [
       "  0%|          | 0/1 [00:00<?, ?it/s]"
      ]
     },
     "metadata": {},
     "output_type": "display_data"
    },
    {
     "name": "stdout",
     "output_type": "stream",
     "text": [
      "CSPR = 11.00 dB\n",
      "12500/12500 [==============================] - 9s 679us/step\n",
      "Results:\n",
      "BER: 3.96e-03\n",
      "SNR: 15.30 dB\n",
      "SIR =  13.04  dB\n",
      "GMI: 3.93 bits\n",
      "\n"
     ]
    },
    {
     "data": {
      "application/vnd.jupyter.widget-view+json": {
       "model_id": "88dbb8e902e645d59c7cd353629f1537",
       "version_major": 2,
       "version_minor": 0
      },
      "text/plain": [
       "  0%|          | 0/1 [00:00<?, ?it/s]"
      ]
     },
     "metadata": {},
     "output_type": "display_data"
    },
    {
     "name": "stdout",
     "output_type": "stream",
     "text": [
      "CSPR = 11.00 dB\n",
      "12500/12500 [==============================] - 8s 663us/step\n",
      "Results:\n",
      "BER: 2.35e-03\n",
      "SNR: 15.93 dB\n",
      "SIR =  13.23  dB\n",
      "GMI: 3.96 bits\n",
      "\n"
     ]
    },
    {
     "data": {
      "application/vnd.jupyter.widget-view+json": {
       "model_id": "f06457b7e57c46de83f35e8ee12f7aba",
       "version_major": 2,
       "version_minor": 0
      },
      "text/plain": [
       "  0%|          | 0/1 [00:00<?, ?it/s]"
      ]
     },
     "metadata": {},
     "output_type": "display_data"
    },
    {
     "name": "stdout",
     "output_type": "stream",
     "text": [
      "CSPR = 11.00 dB\n",
      "12500/12500 [==============================] - 9s 689us/step\n",
      "Results:\n",
      "BER: 1.36e-03\n",
      "SNR: 16.48 dB\n",
      "SIR =  13.33  dB\n",
      "GMI: 3.98 bits\n",
      "\n"
     ]
    },
    {
     "data": {
      "application/vnd.jupyter.widget-view+json": {
       "model_id": "4503168a6d26493190b9357abb8b3291",
       "version_major": 2,
       "version_minor": 0
      },
      "text/plain": [
       "  0%|          | 0/1 [00:00<?, ?it/s]"
      ]
     },
     "metadata": {},
     "output_type": "display_data"
    },
    {
     "name": "stdout",
     "output_type": "stream",
     "text": [
      "CSPR = 11.00 dB\n",
      "12500/12500 [==============================] - 9s 687us/step\n",
      "Results:\n",
      "BER: 7.91e-04\n",
      "SNR: 17.00 dB\n",
      "SIR =  13.44  dB\n",
      "GMI: 3.99 bits\n",
      "\n"
     ]
    },
    {
     "data": {
      "application/vnd.jupyter.widget-view+json": {
       "model_id": "468f4242461b4b2a897f17b2eb707bc3",
       "version_major": 2,
       "version_minor": 0
      },
      "text/plain": [
       "  0%|          | 0/17 [00:00<?, ?it/s]"
      ]
     },
     "metadata": {},
     "output_type": "display_data"
    },
    {
     "data": {
      "application/vnd.jupyter.widget-view+json": {
       "model_id": "9e01645bbc6d4304b383ad947b5927fc",
       "version_major": 2,
       "version_minor": 0
      },
      "text/plain": [
       "  0%|          | 0/1 [00:00<?, ?it/s]"
      ]
     },
     "metadata": {},
     "output_type": "display_data"
    },
    {
     "name": "stdout",
     "output_type": "stream",
     "text": [
      "CSPR = 12.00 dB\n",
      "12500/12500 [==============================] - 9s 695us/step\n",
      "Results:\n",
      "BER: 4.62e-01\n",
      "SNR: 0.14 dB\n",
      "SIR =  7.75  dB\n",
      "GMI: -0.05 bits\n",
      "\n"
     ]
    },
    {
     "data": {
      "application/vnd.jupyter.widget-view+json": {
       "model_id": "d6269d16d53945e6b6d61484d04f04ec",
       "version_major": 2,
       "version_minor": 0
      },
      "text/plain": [
       "  0%|          | 0/1 [00:00<?, ?it/s]"
      ]
     },
     "metadata": {},
     "output_type": "display_data"
    },
    {
     "name": "stdout",
     "output_type": "stream",
     "text": [
      "CSPR = 12.00 dB\n",
      "12500/12500 [==============================] - 8s 658us/step\n",
      "Results:\n",
      "BER: 4.52e-01\n",
      "SNR: 0.22 dB\n",
      "SIR =  8.35  dB\n",
      "GMI: -0.03 bits\n",
      "\n"
     ]
    },
    {
     "data": {
      "application/vnd.jupyter.widget-view+json": {
       "model_id": "2d50985022224a37a01c5545a713637a",
       "version_major": 2,
       "version_minor": 0
      },
      "text/plain": [
       "  0%|          | 0/1 [00:00<?, ?it/s]"
      ]
     },
     "metadata": {},
     "output_type": "display_data"
    },
    {
     "name": "stdout",
     "output_type": "stream",
     "text": [
      "CSPR = 12.00 dB\n",
      "12500/12500 [==============================] - 8s 642us/step\n",
      "Results:\n",
      "BER: 4.64e-01\n",
      "SNR: 0.12 dB\n",
      "SIR =  8.94  dB\n",
      "GMI: -0.04 bits\n",
      "\n"
     ]
    },
    {
     "data": {
      "application/vnd.jupyter.widget-view+json": {
       "model_id": "209271fd57ed47eaa5c932783e940e98",
       "version_major": 2,
       "version_minor": 0
      },
      "text/plain": [
       "  0%|          | 0/1 [00:00<?, ?it/s]"
      ]
     },
     "metadata": {},
     "output_type": "display_data"
    },
    {
     "name": "stdout",
     "output_type": "stream",
     "text": [
      "CSPR = 12.00 dB\n",
      "12500/12500 [==============================] - 8s 660us/step\n",
      "Results:\n",
      "BER: 4.76e-01\n",
      "SNR: 0.05 dB\n",
      "SIR =  9.53  dB\n",
      "GMI: -0.06 bits\n",
      "\n"
     ]
    },
    {
     "data": {
      "application/vnd.jupyter.widget-view+json": {
       "model_id": "63c1885cf85e48489b77c15da8c2d36e",
       "version_major": 2,
       "version_minor": 0
      },
      "text/plain": [
       "  0%|          | 0/1 [00:00<?, ?it/s]"
      ]
     },
     "metadata": {},
     "output_type": "display_data"
    },
    {
     "name": "stdout",
     "output_type": "stream",
     "text": [
      "CSPR = 12.00 dB\n",
      "12500/12500 [==============================] - 8s 623us/step\n",
      "Results:\n",
      "BER: 4.54e-01\n",
      "SNR: 0.24 dB\n",
      "SIR =  10.05  dB\n",
      "GMI: -0.03 bits\n",
      "\n"
     ]
    },
    {
     "data": {
      "application/vnd.jupyter.widget-view+json": {
       "model_id": "13ff828374824eeca45f17ac6f4dc9e1",
       "version_major": 2,
       "version_minor": 0
      },
      "text/plain": [
       "  0%|          | 0/1 [00:00<?, ?it/s]"
      ]
     },
     "metadata": {},
     "output_type": "display_data"
    },
    {
     "name": "stdout",
     "output_type": "stream",
     "text": [
      "CSPR = 12.00 dB\n",
      "12500/12500 [==============================] - 8s 652us/step\n",
      "Results:\n",
      "BER: 4.74e-01\n",
      "SNR: 0.08 dB\n",
      "SIR =  10.56  dB\n",
      "GMI: -0.05 bits\n",
      "\n"
     ]
    },
    {
     "data": {
      "application/vnd.jupyter.widget-view+json": {
       "model_id": "a8a7b1272c4e45468778e5ccced4f7a0",
       "version_major": 2,
       "version_minor": 0
      },
      "text/plain": [
       "  0%|          | 0/1 [00:00<?, ?it/s]"
      ]
     },
     "metadata": {},
     "output_type": "display_data"
    },
    {
     "name": "stdout",
     "output_type": "stream",
     "text": [
      "CSPR = 12.00 dB\n",
      "12500/12500 [==============================] - 9s 712us/step\n",
      "Results:\n",
      "BER: 6.58e-02\n",
      "SNR: 9.97 dB\n",
      "SIR =  11.02  dB\n",
      "GMI: 3.06 bits\n",
      "\n"
     ]
    },
    {
     "data": {
      "application/vnd.jupyter.widget-view+json": {
       "model_id": "4980892db9aa408cbb3d45374ef43c67",
       "version_major": 2,
       "version_minor": 0
      },
      "text/plain": [
       "  0%|          | 0/1 [00:00<?, ?it/s]"
      ]
     },
     "metadata": {},
     "output_type": "display_data"
    },
    {
     "name": "stdout",
     "output_type": "stream",
     "text": [
      "CSPR = 12.00 dB\n",
      "12500/12500 [==============================] - 8s 648us/step\n",
      "Results:\n",
      "BER: 4.88e-02\n",
      "SNR: 10.87 dB\n",
      "SIR =  11.48  dB\n",
      "GMI: 3.29 bits\n",
      "\n"
     ]
    },
    {
     "data": {
      "application/vnd.jupyter.widget-view+json": {
       "model_id": "aa83214763084541bf7a411ae9db1ddd",
       "version_major": 2,
       "version_minor": 0
      },
      "text/plain": [
       "  0%|          | 0/1 [00:00<?, ?it/s]"
      ]
     },
     "metadata": {},
     "output_type": "display_data"
    },
    {
     "name": "stdout",
     "output_type": "stream",
     "text": [
      "CSPR = 12.00 dB\n",
      "12500/12500 [==============================] - 8s 666us/step\n",
      "Results:\n",
      "BER: 3.49e-02\n",
      "SNR: 11.70 dB\n",
      "SIR =  11.88  dB\n",
      "GMI: 3.48 bits\n",
      "\n"
     ]
    },
    {
     "data": {
      "application/vnd.jupyter.widget-view+json": {
       "model_id": "ac061980833d42fbb7b75292c8550842",
       "version_major": 2,
       "version_minor": 0
      },
      "text/plain": [
       "  0%|          | 0/1 [00:00<?, ?it/s]"
      ]
     },
     "metadata": {},
     "output_type": "display_data"
    },
    {
     "name": "stdout",
     "output_type": "stream",
     "text": [
      "CSPR = 12.00 dB\n",
      "12500/12500 [==============================] - 8s 639us/step\n",
      "Results:\n",
      "BER: 2.41e-02\n",
      "SNR: 12.49 dB\n",
      "SIR =  12.16  dB\n",
      "GMI: 3.64 bits\n",
      "\n"
     ]
    },
    {
     "data": {
      "application/vnd.jupyter.widget-view+json": {
       "model_id": "5ded6fc12aa94b86a22ca628ae4346b8",
       "version_major": 2,
       "version_minor": 0
      },
      "text/plain": [
       "  0%|          | 0/1 [00:00<?, ?it/s]"
      ]
     },
     "metadata": {},
     "output_type": "display_data"
    },
    {
     "name": "stdout",
     "output_type": "stream",
     "text": [
      "CSPR = 12.00 dB\n",
      "12500/12500 [==============================] - 8s 665us/step\n",
      "Results:\n",
      "BER: 1.59e-02\n",
      "SNR: 13.26 dB\n",
      "SIR =  12.5  dB\n",
      "GMI: 3.75 bits\n",
      "\n"
     ]
    },
    {
     "data": {
      "application/vnd.jupyter.widget-view+json": {
       "model_id": "34a6fff4f47d40d898f050c10a4c51a1",
       "version_major": 2,
       "version_minor": 0
      },
      "text/plain": [
       "  0%|          | 0/1 [00:00<?, ?it/s]"
      ]
     },
     "metadata": {},
     "output_type": "display_data"
    },
    {
     "name": "stdout",
     "output_type": "stream",
     "text": [
      "CSPR = 12.00 dB\n",
      "12500/12500 [==============================] - 8s 656us/step\n",
      "Results:\n",
      "BER: 1.00e-02\n",
      "SNR: 14.00 dB\n",
      "SIR =  12.72  dB\n",
      "GMI: 3.84 bits\n",
      "\n"
     ]
    },
    {
     "data": {
      "application/vnd.jupyter.widget-view+json": {
       "model_id": "b7580e0cef6e499181e4ecf7aa79ffb1",
       "version_major": 2,
       "version_minor": 0
      },
      "text/plain": [
       "  0%|          | 0/1 [00:00<?, ?it/s]"
      ]
     },
     "metadata": {},
     "output_type": "display_data"
    },
    {
     "name": "stdout",
     "output_type": "stream",
     "text": [
      "CSPR = 12.00 dB\n",
      "12500/12500 [==============================] - 8s 642us/step\n",
      "Results:\n",
      "BER: 6.20e-03\n",
      "SNR: 14.72 dB\n",
      "SIR =  12.97  dB\n",
      "GMI: 3.90 bits\n",
      "\n"
     ]
    },
    {
     "data": {
      "application/vnd.jupyter.widget-view+json": {
       "model_id": "717b7ba125bd480d8f4c818826c9d1b9",
       "version_major": 2,
       "version_minor": 0
      },
      "text/plain": [
       "  0%|          | 0/1 [00:00<?, ?it/s]"
      ]
     },
     "metadata": {},
     "output_type": "display_data"
    },
    {
     "name": "stdout",
     "output_type": "stream",
     "text": [
      "CSPR = 12.00 dB\n",
      "12500/12500 [==============================] - 9s 687us/step\n",
      "Results:\n",
      "BER: 3.47e-03\n",
      "SNR: 15.39 dB\n",
      "SIR =  13.12  dB\n",
      "GMI: 3.94 bits\n",
      "\n"
     ]
    },
    {
     "data": {
      "application/vnd.jupyter.widget-view+json": {
       "model_id": "b7ead1f0b621475f90059689288fb9ba",
       "version_major": 2,
       "version_minor": 0
      },
      "text/plain": [
       "  0%|          | 0/1 [00:00<?, ?it/s]"
      ]
     },
     "metadata": {},
     "output_type": "display_data"
    },
    {
     "name": "stdout",
     "output_type": "stream",
     "text": [
      "CSPR = 12.00 dB\n",
      "12500/12500 [==============================] - 8s 635us/step\n",
      "Results:\n",
      "BER: 1.97e-03\n",
      "SNR: 15.99 dB\n",
      "SIR =  13.22  dB\n",
      "GMI: 3.97 bits\n",
      "\n"
     ]
    },
    {
     "data": {
      "application/vnd.jupyter.widget-view+json": {
       "model_id": "2045aaa0b8b04bbf8f9798168b0c293a",
       "version_major": 2,
       "version_minor": 0
      },
      "text/plain": [
       "  0%|          | 0/1 [00:00<?, ?it/s]"
      ]
     },
     "metadata": {},
     "output_type": "display_data"
    },
    {
     "name": "stdout",
     "output_type": "stream",
     "text": [
      "CSPR = 12.00 dB\n",
      "12500/12500 [==============================] - 8s 663us/step\n",
      "Results:\n",
      "BER: 1.14e-03\n",
      "SNR: 16.57 dB\n",
      "SIR =  13.38  dB\n",
      "GMI: 3.98 bits\n",
      "\n"
     ]
    },
    {
     "data": {
      "application/vnd.jupyter.widget-view+json": {
       "model_id": "dad9f7d0027f4309a8b9c7dfb99d83ce",
       "version_major": 2,
       "version_minor": 0
      },
      "text/plain": [
       "  0%|          | 0/1 [00:00<?, ?it/s]"
      ]
     },
     "metadata": {},
     "output_type": "display_data"
    },
    {
     "name": "stdout",
     "output_type": "stream",
     "text": [
      "CSPR = 12.00 dB\n",
      "12500/12500 [==============================] - 8s 665us/step\n",
      "Results:\n",
      "BER: 7.41e-04\n",
      "SNR: 17.06 dB\n",
      "SIR =  13.49  dB\n",
      "GMI: 3.99 bits\n",
      "\n"
     ]
    },
    {
     "data": {
      "application/vnd.jupyter.widget-view+json": {
       "model_id": "9183561f335c4ac59f305642ca8c07c2",
       "version_major": 2,
       "version_minor": 0
      },
      "text/plain": [
       "  0%|          | 0/17 [00:00<?, ?it/s]"
      ]
     },
     "metadata": {},
     "output_type": "display_data"
    },
    {
     "data": {
      "application/vnd.jupyter.widget-view+json": {
       "model_id": "484592ef06df4aecad5802b9cbb6a298",
       "version_major": 2,
       "version_minor": 0
      },
      "text/plain": [
       "  0%|          | 0/1 [00:00<?, ?it/s]"
      ]
     },
     "metadata": {},
     "output_type": "display_data"
    },
    {
     "name": "stdout",
     "output_type": "stream",
     "text": [
      "CSPR = 13.00 dB\n",
      "12500/12500 [==============================] - 8s 663us/step\n",
      "Results:\n",
      "BER: 4.86e-01\n",
      "SNR: 0.02 dB\n",
      "SIR =  7.81  dB\n",
      "GMI: -0.06 bits\n",
      "\n"
     ]
    },
    {
     "data": {
      "application/vnd.jupyter.widget-view+json": {
       "model_id": "2118fc14f0f144c6aba86473f82277f8",
       "version_major": 2,
       "version_minor": 0
      },
      "text/plain": [
       "  0%|          | 0/1 [00:00<?, ?it/s]"
      ]
     },
     "metadata": {},
     "output_type": "display_data"
    },
    {
     "name": "stdout",
     "output_type": "stream",
     "text": [
      "CSPR = 13.00 dB\n",
      "12500/12500 [==============================] - 8s 646us/step\n",
      "Results:\n",
      "BER: 4.60e-01\n",
      "SNR: 0.15 dB\n",
      "SIR =  8.42  dB\n",
      "GMI: -0.04 bits\n",
      "\n"
     ]
    },
    {
     "data": {
      "application/vnd.jupyter.widget-view+json": {
       "model_id": "d5651415b33144b69c3d9730f33699a5",
       "version_major": 2,
       "version_minor": 0
      },
      "text/plain": [
       "  0%|          | 0/1 [00:00<?, ?it/s]"
      ]
     },
     "metadata": {},
     "output_type": "display_data"
    },
    {
     "name": "stdout",
     "output_type": "stream",
     "text": [
      "CSPR = 13.00 dB\n",
      "12500/12500 [==============================] - 8s 649us/step\n",
      "Results:\n",
      "BER: 4.32e-01\n",
      "SNR: 0.46 dB\n",
      "SIR =  9.0  dB\n",
      "GMI: 0.03 bits\n",
      "\n"
     ]
    },
    {
     "data": {
      "application/vnd.jupyter.widget-view+json": {
       "model_id": "656a38f30877452285473d18a4bfdb02",
       "version_major": 2,
       "version_minor": 0
      },
      "text/plain": [
       "  0%|          | 0/1 [00:00<?, ?it/s]"
      ]
     },
     "metadata": {},
     "output_type": "display_data"
    },
    {
     "name": "stdout",
     "output_type": "stream",
     "text": [
      "CSPR = 13.00 dB\n",
      "12500/12500 [==============================] - 8s 639us/step\n",
      "Results:\n",
      "BER: 4.57e-01\n",
      "SNR: 0.15 dB\n",
      "SIR =  9.58  dB\n",
      "GMI: -0.04 bits\n",
      "\n"
     ]
    },
    {
     "data": {
      "application/vnd.jupyter.widget-view+json": {
       "model_id": "4efbb4c5fa57473e957b137eaa25ef8d",
       "version_major": 2,
       "version_minor": 0
      },
      "text/plain": [
       "  0%|          | 0/1 [00:00<?, ?it/s]"
      ]
     },
     "metadata": {},
     "output_type": "display_data"
    },
    {
     "name": "stdout",
     "output_type": "stream",
     "text": [
      "CSPR = 13.00 dB\n",
      "12500/12500 [==============================] - 8s 652us/step\n",
      "Results:\n",
      "BER: 4.65e-01\n",
      "SNR: 0.10 dB\n",
      "SIR =  10.17  dB\n",
      "GMI: -0.05 bits\n",
      "\n"
     ]
    },
    {
     "data": {
      "application/vnd.jupyter.widget-view+json": {
       "model_id": "a479d8363e874440bc6ea5e7cd2c21a3",
       "version_major": 2,
       "version_minor": 0
      },
      "text/plain": [
       "  0%|          | 0/1 [00:00<?, ?it/s]"
      ]
     },
     "metadata": {},
     "output_type": "display_data"
    },
    {
     "name": "stdout",
     "output_type": "stream",
     "text": [
      "CSPR = 13.00 dB\n",
      "12500/12500 [==============================] - 8s 644us/step\n",
      "Results:\n",
      "BER: 3.32e-01\n",
      "SNR: 1.60 dB\n",
      "SIR =  10.67  dB\n",
      "GMI: 0.39 bits\n",
      "\n"
     ]
    },
    {
     "data": {
      "application/vnd.jupyter.widget-view+json": {
       "model_id": "b5ddb708f3264296abe83c421367758b",
       "version_major": 2,
       "version_minor": 0
      },
      "text/plain": [
       "  0%|          | 0/1 [00:00<?, ?it/s]"
      ]
     },
     "metadata": {},
     "output_type": "display_data"
    },
    {
     "name": "stdout",
     "output_type": "stream",
     "text": [
      "CSPR = 13.00 dB\n",
      "12500/12500 [==============================] - 8s 635us/step\n",
      "Results:\n",
      "BER: 3.14e-01\n",
      "SNR: 2.63 dB\n",
      "SIR =  11.16  dB\n",
      "GMI: 0.62 bits\n",
      "\n"
     ]
    },
    {
     "data": {
      "application/vnd.jupyter.widget-view+json": {
       "model_id": "a3025d32e8674ae99131809c4ae1f366",
       "version_major": 2,
       "version_minor": 0
      },
      "text/plain": [
       "  0%|          | 0/1 [00:00<?, ?it/s]"
      ]
     },
     "metadata": {},
     "output_type": "display_data"
    },
    {
     "name": "stdout",
     "output_type": "stream",
     "text": [
      "CSPR = 13.00 dB\n",
      "12500/12500 [==============================] - 8s 629us/step\n",
      "Results:\n",
      "BER: 4.92e-02\n",
      "SNR: 10.86 dB\n",
      "SIR =  11.57  dB\n",
      "GMI: 3.29 bits\n",
      "\n"
     ]
    },
    {
     "data": {
      "application/vnd.jupyter.widget-view+json": {
       "model_id": "23c3f36b069f4185ab0cd3dc0dc1608d",
       "version_major": 2,
       "version_minor": 0
      },
      "text/plain": [
       "  0%|          | 0/1 [00:00<?, ?it/s]"
      ]
     },
     "metadata": {},
     "output_type": "display_data"
    },
    {
     "name": "stdout",
     "output_type": "stream",
     "text": [
      "CSPR = 13.00 dB\n",
      "12500/12500 [==============================] - 8s 651us/step\n",
      "Results:\n",
      "BER: 3.44e-02\n",
      "SNR: 11.71 dB\n",
      "SIR =  12.02  dB\n",
      "GMI: 3.49 bits\n",
      "\n"
     ]
    },
    {
     "data": {
      "application/vnd.jupyter.widget-view+json": {
       "model_id": "b28f46e856d84343a6401f3c8fbbaf98",
       "version_major": 2,
       "version_minor": 0
      },
      "text/plain": [
       "  0%|          | 0/1 [00:00<?, ?it/s]"
      ]
     },
     "metadata": {},
     "output_type": "display_data"
    },
    {
     "name": "stdout",
     "output_type": "stream",
     "text": [
      "CSPR = 13.00 dB\n",
      "12500/12500 [==============================] - 8s 669us/step\n",
      "Results:\n",
      "BER: 2.49e-02\n",
      "SNR: 12.47 dB\n",
      "SIR =  12.33  dB\n",
      "GMI: 3.63 bits\n",
      "\n"
     ]
    },
    {
     "data": {
      "application/vnd.jupyter.widget-view+json": {
       "model_id": "b53d22a831d04531acc5f590255290f0",
       "version_major": 2,
       "version_minor": 0
      },
      "text/plain": [
       "  0%|          | 0/1 [00:00<?, ?it/s]"
      ]
     },
     "metadata": {},
     "output_type": "display_data"
    },
    {
     "name": "stdout",
     "output_type": "stream",
     "text": [
      "CSPR = 13.00 dB\n",
      "12500/12500 [==============================] - 8s 639us/step\n",
      "Results:\n",
      "BER: 1.66e-02\n",
      "SNR: 13.20 dB\n",
      "SIR =  12.62  dB\n",
      "GMI: 3.74 bits\n",
      "\n"
     ]
    },
    {
     "data": {
      "application/vnd.jupyter.widget-view+json": {
       "model_id": "cdf2635c3d4c47c7bf4dced37bb5dbff",
       "version_major": 2,
       "version_minor": 0
      },
      "text/plain": [
       "  0%|          | 0/1 [00:00<?, ?it/s]"
      ]
     },
     "metadata": {},
     "output_type": "display_data"
    },
    {
     "name": "stdout",
     "output_type": "stream",
     "text": [
      "CSPR = 13.00 dB\n",
      "12500/12500 [==============================] - 8s 630us/step\n",
      "Results:\n",
      "BER: 1.05e-02\n",
      "SNR: 13.94 dB\n",
      "SIR =  12.89  dB\n",
      "GMI: 3.83 bits\n",
      "\n"
     ]
    },
    {
     "data": {
      "application/vnd.jupyter.widget-view+json": {
       "model_id": "099d4df763664e96804b2983feb259e7",
       "version_major": 2,
       "version_minor": 0
      },
      "text/plain": [
       "  0%|          | 0/1 [00:00<?, ?it/s]"
      ]
     },
     "metadata": {},
     "output_type": "display_data"
    },
    {
     "name": "stdout",
     "output_type": "stream",
     "text": [
      "CSPR = 13.00 dB\n",
      "12500/12500 [==============================] - 8s 632us/step\n",
      "Results:\n",
      "BER: 6.63e-03\n",
      "SNR: 14.60 dB\n",
      "SIR =  13.08  dB\n",
      "GMI: 3.89 bits\n",
      "\n"
     ]
    },
    {
     "data": {
      "application/vnd.jupyter.widget-view+json": {
       "model_id": "28d60ece68644d2cb7daa4e0dd65a99d",
       "version_major": 2,
       "version_minor": 0
      },
      "text/plain": [
       "  0%|          | 0/1 [00:00<?, ?it/s]"
      ]
     },
     "metadata": {},
     "output_type": "display_data"
    },
    {
     "name": "stdout",
     "output_type": "stream",
     "text": [
      "CSPR = 13.00 dB\n",
      "12500/12500 [==============================] - 8s 671us/step\n",
      "Results:\n",
      "BER: 3.92e-03\n",
      "SNR: 15.26 dB\n",
      "SIR =  13.3  dB\n",
      "GMI: 3.94 bits\n",
      "\n"
     ]
    },
    {
     "data": {
      "application/vnd.jupyter.widget-view+json": {
       "model_id": "a8f9094285354b959899f66bb22eb695",
       "version_major": 2,
       "version_minor": 0
      },
      "text/plain": [
       "  0%|          | 0/1 [00:00<?, ?it/s]"
      ]
     },
     "metadata": {},
     "output_type": "display_data"
    },
    {
     "name": "stdout",
     "output_type": "stream",
     "text": [
      "CSPR = 13.00 dB\n",
      "12500/12500 [==============================] - 8s 663us/step\n",
      "Results:\n",
      "BER: 2.22e-03\n",
      "SNR: 15.92 dB\n",
      "SIR =  13.5  dB\n",
      "GMI: 3.96 bits\n",
      "\n"
     ]
    },
    {
     "data": {
      "application/vnd.jupyter.widget-view+json": {
       "model_id": "aaed00c26ec54e6f8427508382b715c1",
       "version_major": 2,
       "version_minor": 0
      },
      "text/plain": [
       "  0%|          | 0/1 [00:00<?, ?it/s]"
      ]
     },
     "metadata": {},
     "output_type": "display_data"
    },
    {
     "name": "stdout",
     "output_type": "stream",
     "text": [
      "CSPR = 13.00 dB\n",
      "12500/12500 [==============================] - 8s 642us/step\n",
      "Results:\n",
      "BER: 1.41e-03\n",
      "SNR: 16.40 dB\n",
      "SIR =  13.58  dB\n",
      "GMI: 3.98 bits\n",
      "\n"
     ]
    },
    {
     "data": {
      "application/vnd.jupyter.widget-view+json": {
       "model_id": "23f392d37806490aa594cd9a25779977",
       "version_major": 2,
       "version_minor": 0
      },
      "text/plain": [
       "  0%|          | 0/1 [00:00<?, ?it/s]"
      ]
     },
     "metadata": {},
     "output_type": "display_data"
    },
    {
     "name": "stdout",
     "output_type": "stream",
     "text": [
      "CSPR = 13.00 dB\n",
      "12500/12500 [==============================] - 9s 678us/step\n",
      "Results:\n",
      "BER: 7.44e-04\n",
      "SNR: 16.95 dB\n",
      "SIR =  13.74  dB\n",
      "GMI: 3.99 bits\n",
      "\n"
     ]
    },
    {
     "data": {
      "application/vnd.jupyter.widget-view+json": {
       "model_id": "606941cd901942498be6dad64783c54e",
       "version_major": 2,
       "version_minor": 0
      },
      "text/plain": [
       "  0%|          | 0/17 [00:00<?, ?it/s]"
      ]
     },
     "metadata": {},
     "output_type": "display_data"
    },
    {
     "data": {
      "application/vnd.jupyter.widget-view+json": {
       "model_id": "4bc3e8d3b75e4b67a56cc00f617de2d6",
       "version_major": 2,
       "version_minor": 0
      },
      "text/plain": [
       "  0%|          | 0/1 [00:00<?, ?it/s]"
      ]
     },
     "metadata": {},
     "output_type": "display_data"
    },
    {
     "name": "stdout",
     "output_type": "stream",
     "text": [
      "CSPR = 14.00 dB\n",
      "12500/12500 [==============================] - 9s 676us/step\n",
      "Results:\n",
      "BER: 4.36e-01\n",
      "SNR: 0.41 dB\n",
      "SIR =  7.83  dB\n",
      "GMI: 0.02 bits\n",
      "\n"
     ]
    },
    {
     "data": {
      "application/vnd.jupyter.widget-view+json": {
       "model_id": "f726db0b7f64445d91bbff69ffba6fad",
       "version_major": 2,
       "version_minor": 0
      },
      "text/plain": [
       "  0%|          | 0/1 [00:00<?, ?it/s]"
      ]
     },
     "metadata": {},
     "output_type": "display_data"
    },
    {
     "name": "stdout",
     "output_type": "stream",
     "text": [
      "CSPR = 14.00 dB\n",
      "12500/12500 [==============================] - 8s 643us/step\n",
      "Results:\n",
      "BER: 4.77e-01\n",
      "SNR: 0.05 dB\n",
      "SIR =  8.41  dB\n",
      "GMI: -0.06 bits\n",
      "\n"
     ]
    },
    {
     "data": {
      "application/vnd.jupyter.widget-view+json": {
       "model_id": "b7dc713cac744c55a768f626fbbfc4da",
       "version_major": 2,
       "version_minor": 0
      },
      "text/plain": [
       "  0%|          | 0/1 [00:00<?, ?it/s]"
      ]
     },
     "metadata": {},
     "output_type": "display_data"
    },
    {
     "name": "stdout",
     "output_type": "stream",
     "text": [
      "CSPR = 14.00 dB\n",
      "12500/12500 [==============================] - 8s 615us/step\n",
      "Results:\n",
      "BER: 4.61e-01\n",
      "SNR: 0.17 dB\n",
      "SIR =  9.04  dB\n",
      "GMI: -0.04 bits\n",
      "\n"
     ]
    },
    {
     "data": {
      "application/vnd.jupyter.widget-view+json": {
       "model_id": "de3815c022514fb6a6fa8bac471772d9",
       "version_major": 2,
       "version_minor": 0
      },
      "text/plain": [
       "  0%|          | 0/1 [00:00<?, ?it/s]"
      ]
     },
     "metadata": {},
     "output_type": "display_data"
    },
    {
     "name": "stdout",
     "output_type": "stream",
     "text": [
      "CSPR = 14.00 dB\n",
      "12500/12500 [==============================] - 8s 642us/step\n",
      "Results:\n",
      "BER: 4.82e-01\n",
      "SNR: 0.04 dB\n",
      "SIR =  9.62  dB\n",
      "GMI: -0.06 bits\n",
      "\n"
     ]
    },
    {
     "data": {
      "application/vnd.jupyter.widget-view+json": {
       "model_id": "ee1dd301bbca42478bee177e3a3b4686",
       "version_major": 2,
       "version_minor": 0
      },
      "text/plain": [
       "  0%|          | 0/1 [00:00<?, ?it/s]"
      ]
     },
     "metadata": {},
     "output_type": "display_data"
    },
    {
     "name": "stdout",
     "output_type": "stream",
     "text": [
      "CSPR = 14.00 dB\n",
      "12500/12500 [==============================] - 8s 637us/step\n",
      "Results:\n",
      "BER: 4.49e-01\n",
      "SNR: 0.32 dB\n",
      "SIR =  10.19  dB\n",
      "GMI: -0.00 bits\n",
      "\n"
     ]
    },
    {
     "data": {
      "application/vnd.jupyter.widget-view+json": {
       "model_id": "070d8e12d6434ac1af62b4fe5e9419c4",
       "version_major": 2,
       "version_minor": 0
      },
      "text/plain": [
       "  0%|          | 0/1 [00:00<?, ?it/s]"
      ]
     },
     "metadata": {},
     "output_type": "display_data"
    },
    {
     "name": "stdout",
     "output_type": "stream",
     "text": [
      "CSPR = 14.00 dB\n",
      "12500/12500 [==============================] - 8s 672us/step\n",
      "Results:\n",
      "BER: 4.25e-01\n",
      "SNR: 0.45 dB\n",
      "SIR =  10.7  dB\n",
      "GMI: 0.03 bits\n",
      "\n"
     ]
    },
    {
     "data": {
      "application/vnd.jupyter.widget-view+json": {
       "model_id": "3c1e51e4456f4281973a4ff7ef2bcff0",
       "version_major": 2,
       "version_minor": 0
      },
      "text/plain": [
       "  0%|          | 0/1 [00:00<?, ?it/s]"
      ]
     },
     "metadata": {},
     "output_type": "display_data"
    },
    {
     "name": "stdout",
     "output_type": "stream",
     "text": [
      "CSPR = 14.00 dB\n",
      "12500/12500 [==============================] - 8s 665us/step\n",
      "Results:\n",
      "BER: 1.49e-01\n",
      "SNR: 4.99 dB\n",
      "SIR =  11.19  dB\n",
      "GMI: 1.66 bits\n",
      "\n"
     ]
    },
    {
     "data": {
      "application/vnd.jupyter.widget-view+json": {
       "model_id": "3eab4408545942a79faa8665bae3f22a",
       "version_major": 2,
       "version_minor": 0
      },
      "text/plain": [
       "  0%|          | 0/1 [00:00<?, ?it/s]"
      ]
     },
     "metadata": {},
     "output_type": "display_data"
    },
    {
     "name": "stdout",
     "output_type": "stream",
     "text": [
      "CSPR = 14.00 dB\n",
      "12500/12500 [==============================] - 8s 607us/step\n",
      "Results:\n",
      "BER: 4.57e-02\n",
      "SNR: 11.03 dB\n",
      "SIR =  11.61  dB\n",
      "GMI: 3.33 bits\n",
      "\n"
     ]
    },
    {
     "data": {
      "application/vnd.jupyter.widget-view+json": {
       "model_id": "662ccd2790b24f42845b2e7a7560d78e",
       "version_major": 2,
       "version_minor": 0
      },
      "text/plain": [
       "  0%|          | 0/1 [00:00<?, ?it/s]"
      ]
     },
     "metadata": {},
     "output_type": "display_data"
    },
    {
     "name": "stdout",
     "output_type": "stream",
     "text": [
      "CSPR = 14.00 dB\n",
      "12500/12500 [==============================] - 8s 647us/step\n",
      "Results:\n",
      "BER: 3.33e-02\n",
      "SNR: 11.80 dB\n",
      "SIR =  11.97  dB\n",
      "GMI: 3.50 bits\n",
      "\n"
     ]
    },
    {
     "data": {
      "application/vnd.jupyter.widget-view+json": {
       "model_id": "8ad23f10cad34cf29878db85df51d327",
       "version_major": 2,
       "version_minor": 0
      },
      "text/plain": [
       "  0%|          | 0/1 [00:00<?, ?it/s]"
      ]
     },
     "metadata": {},
     "output_type": "display_data"
    },
    {
     "name": "stdout",
     "output_type": "stream",
     "text": [
      "CSPR = 14.00 dB\n",
      "12500/12500 [==============================] - 9s 685us/step\n",
      "Results:\n",
      "BER: 2.30e-02\n",
      "SNR: 12.61 dB\n",
      "SIR =  12.3  dB\n",
      "GMI: 3.66 bits\n",
      "\n"
     ]
    },
    {
     "data": {
      "application/vnd.jupyter.widget-view+json": {
       "model_id": "a41b01518a0f4106a42d680996295d31",
       "version_major": 2,
       "version_minor": 0
      },
      "text/plain": [
       "  0%|          | 0/1 [00:00<?, ?it/s]"
      ]
     },
     "metadata": {},
     "output_type": "display_data"
    },
    {
     "name": "stdout",
     "output_type": "stream",
     "text": [
      "CSPR = 14.00 dB\n",
      "12500/12500 [==============================] - 8s 640us/step\n",
      "Results:\n",
      "BER: 1.48e-02\n",
      "SNR: 13.40 dB\n",
      "SIR =  12.63  dB\n",
      "GMI: 3.77 bits\n",
      "\n"
     ]
    },
    {
     "data": {
      "application/vnd.jupyter.widget-view+json": {
       "model_id": "a6c058ccf0d74e61990e84a84edad9d8",
       "version_major": 2,
       "version_minor": 0
      },
      "text/plain": [
       "  0%|          | 0/1 [00:00<?, ?it/s]"
      ]
     },
     "metadata": {},
     "output_type": "display_data"
    },
    {
     "name": "stdout",
     "output_type": "stream",
     "text": [
      "CSPR = 14.00 dB\n",
      "12500/12500 [==============================] - 8s 655us/step\n",
      "Results:\n",
      "BER: 8.87e-03\n",
      "SNR: 14.18 dB\n",
      "SIR =  12.9  dB\n",
      "GMI: 3.86 bits\n",
      "\n"
     ]
    },
    {
     "data": {
      "application/vnd.jupyter.widget-view+json": {
       "model_id": "748a54b81c394060bdc3d8e95d29652b",
       "version_major": 2,
       "version_minor": 0
      },
      "text/plain": [
       "  0%|          | 0/1 [00:00<?, ?it/s]"
      ]
     },
     "metadata": {},
     "output_type": "display_data"
    },
    {
     "name": "stdout",
     "output_type": "stream",
     "text": [
      "CSPR = 14.00 dB\n",
      "12500/12500 [==============================] - 8s 652us/step\n",
      "Results:\n",
      "BER: 5.26e-03\n",
      "SNR: 14.89 dB\n",
      "SIR =  13.04  dB\n",
      "GMI: 3.92 bits\n",
      "\n"
     ]
    },
    {
     "data": {
      "application/vnd.jupyter.widget-view+json": {
       "model_id": "c475eea7164f456bad47da575f46a22d",
       "version_major": 2,
       "version_minor": 0
      },
      "text/plain": [
       "  0%|          | 0/1 [00:00<?, ?it/s]"
      ]
     },
     "metadata": {},
     "output_type": "display_data"
    },
    {
     "name": "stdout",
     "output_type": "stream",
     "text": [
      "CSPR = 14.00 dB\n",
      "12500/12500 [==============================] - 8s 649us/step\n",
      "Results:\n",
      "BER: 2.94e-03\n",
      "SNR: 15.59 dB\n",
      "SIR =  13.23  dB\n",
      "GMI: 3.95 bits\n",
      "\n"
     ]
    },
    {
     "data": {
      "application/vnd.jupyter.widget-view+json": {
       "model_id": "a032c28e06b04bb78af90a3de43e8a87",
       "version_major": 2,
       "version_minor": 0
      },
      "text/plain": [
       "  0%|          | 0/1 [00:00<?, ?it/s]"
      ]
     },
     "metadata": {},
     "output_type": "display_data"
    },
    {
     "name": "stdout",
     "output_type": "stream",
     "text": [
      "CSPR = 14.00 dB\n",
      "12500/12500 [==============================] - 9s 688us/step\n",
      "Results:\n",
      "BER: 1.57e-03\n",
      "SNR: 16.23 dB\n",
      "SIR =  13.37  dB\n",
      "GMI: 3.97 bits\n",
      "\n"
     ]
    },
    {
     "data": {
      "application/vnd.jupyter.widget-view+json": {
       "model_id": "0427a0a05a8d4fb8a87734bd56912529",
       "version_major": 2,
       "version_minor": 0
      },
      "text/plain": [
       "  0%|          | 0/1 [00:00<?, ?it/s]"
      ]
     },
     "metadata": {},
     "output_type": "display_data"
    },
    {
     "name": "stdout",
     "output_type": "stream",
     "text": [
      "CSPR = 14.00 dB\n",
      "12500/12500 [==============================] - 8s 643us/step\n",
      "Results:\n",
      "BER: 7.47e-04\n",
      "SNR: 16.91 dB\n",
      "SIR =  13.61  dB\n",
      "GMI: 3.99 bits\n",
      "\n"
     ]
    },
    {
     "data": {
      "application/vnd.jupyter.widget-view+json": {
       "model_id": "8fd372eccf564f988fbb34d4db34e5bd",
       "version_major": 2,
       "version_minor": 0
      },
      "text/plain": [
       "  0%|          | 0/1 [00:00<?, ?it/s]"
      ]
     },
     "metadata": {},
     "output_type": "display_data"
    },
    {
     "name": "stdout",
     "output_type": "stream",
     "text": [
      "CSPR = 14.00 dB\n",
      "12500/12500 [==============================] - 9s 689us/step\n",
      "Results:\n",
      "BER: 4.38e-04\n",
      "SNR: 17.41 dB\n",
      "SIR =  13.63  dB\n",
      "GMI: 3.99 bits\n",
      "\n"
     ]
    },
    {
     "data": {
      "application/vnd.jupyter.widget-view+json": {
       "model_id": "03b4856072af4002863da86ebda9c628",
       "version_major": 2,
       "version_minor": 0
      },
      "text/plain": [
       "  0%|          | 0/17 [00:00<?, ?it/s]"
      ]
     },
     "metadata": {},
     "output_type": "display_data"
    },
    {
     "data": {
      "application/vnd.jupyter.widget-view+json": {
       "model_id": "cd1ff65d5db14afdb714bda492297bb7",
       "version_major": 2,
       "version_minor": 0
      },
      "text/plain": [
       "  0%|          | 0/1 [00:00<?, ?it/s]"
      ]
     },
     "metadata": {},
     "output_type": "display_data"
    },
    {
     "name": "stdout",
     "output_type": "stream",
     "text": [
      "CSPR = 15.00 dB\n",
      "12500/12500 [==============================] - 8s 629us/step\n",
      "Results:\n",
      "BER: 4.79e-01\n",
      "SNR: 0.04 dB\n",
      "SIR =  7.94  dB\n",
      "GMI: -0.06 bits\n",
      "\n"
     ]
    },
    {
     "data": {
      "application/vnd.jupyter.widget-view+json": {
       "model_id": "e2ed44f6ac0348d2a77985e27728c687",
       "version_major": 2,
       "version_minor": 0
      },
      "text/plain": [
       "  0%|          | 0/1 [00:00<?, ?it/s]"
      ]
     },
     "metadata": {},
     "output_type": "display_data"
    },
    {
     "name": "stdout",
     "output_type": "stream",
     "text": [
      "CSPR = 15.00 dB\n",
      "12500/12500 [==============================] - 8s 647us/step\n",
      "Results:\n",
      "BER: 4.95e-01\n",
      "SNR: 0.00 dB\n",
      "SIR =  8.52  dB\n",
      "GMI: -0.06 bits\n",
      "\n"
     ]
    },
    {
     "data": {
      "application/vnd.jupyter.widget-view+json": {
       "model_id": "2318d1a136f940e0920c26224b8f198c",
       "version_major": 2,
       "version_minor": 0
      },
      "text/plain": [
       "  0%|          | 0/1 [00:00<?, ?it/s]"
      ]
     },
     "metadata": {},
     "output_type": "display_data"
    },
    {
     "name": "stdout",
     "output_type": "stream",
     "text": [
      "CSPR = 15.00 dB\n",
      "12500/12500 [==============================] - 9s 687us/step\n",
      "Results:\n",
      "BER: 4.72e-01\n",
      "SNR: 0.09 dB\n",
      "SIR =  9.12  dB\n",
      "GMI: -0.05 bits\n",
      "\n"
     ]
    },
    {
     "data": {
      "application/vnd.jupyter.widget-view+json": {
       "model_id": "d824b1de74d1402e96659a81857b7d14",
       "version_major": 2,
       "version_minor": 0
      },
      "text/plain": [
       "  0%|          | 0/1 [00:00<?, ?it/s]"
      ]
     },
     "metadata": {},
     "output_type": "display_data"
    },
    {
     "name": "stdout",
     "output_type": "stream",
     "text": [
      "CSPR = 15.00 dB\n",
      "12500/12500 [==============================] - 8s 653us/step\n",
      "Results:\n",
      "BER: 4.29e-01\n",
      "SNR: 0.61 dB\n",
      "SIR =  9.67  dB\n",
      "GMI: 0.06 bits\n",
      "\n"
     ]
    },
    {
     "data": {
      "application/vnd.jupyter.widget-view+json": {
       "model_id": "c3ddd16e0cbd4749ab56a460da6fa6ff",
       "version_major": 2,
       "version_minor": 0
      },
      "text/plain": [
       "  0%|          | 0/1 [00:00<?, ?it/s]"
      ]
     },
     "metadata": {},
     "output_type": "display_data"
    },
    {
     "name": "stdout",
     "output_type": "stream",
     "text": [
      "CSPR = 15.00 dB\n",
      "12500/12500 [==============================] - 8s 670us/step\n",
      "Results:\n",
      "BER: 3.32e-01\n",
      "SNR: 1.59 dB\n",
      "SIR =  10.24  dB\n",
      "GMI: 0.39 bits\n",
      "\n"
     ]
    },
    {
     "data": {
      "application/vnd.jupyter.widget-view+json": {
       "model_id": "7f9a36b93b9a4f9e88157bdda194a7df",
       "version_major": 2,
       "version_minor": 0
      },
      "text/plain": [
       "  0%|          | 0/1 [00:00<?, ?it/s]"
      ]
     },
     "metadata": {},
     "output_type": "display_data"
    },
    {
     "name": "stdout",
     "output_type": "stream",
     "text": [
      "CSPR = 15.00 dB\n",
      "12500/12500 [==============================] - 8s 640us/step\n",
      "Results:\n",
      "BER: 4.49e-01\n",
      "SNR: 0.23 dB\n",
      "SIR =  10.76  dB\n",
      "GMI: -0.01 bits\n",
      "\n"
     ]
    },
    {
     "data": {
      "application/vnd.jupyter.widget-view+json": {
       "model_id": "36b4e4c8862f43b7a354a02052e50758",
       "version_major": 2,
       "version_minor": 0
      },
      "text/plain": [
       "  0%|          | 0/1 [00:00<?, ?it/s]"
      ]
     },
     "metadata": {},
     "output_type": "display_data"
    },
    {
     "name": "stdout",
     "output_type": "stream",
     "text": [
      "CSPR = 15.00 dB\n",
      "12500/12500 [==============================] - 8s 654us/step\n",
      "Results:\n",
      "BER: 1.11e-01\n",
      "SNR: 6.18 dB\n",
      "SIR =  11.24  dB\n",
      "GMI: 2.05 bits\n",
      "\n"
     ]
    },
    {
     "data": {
      "application/vnd.jupyter.widget-view+json": {
       "model_id": "4e8547dd88584fccaa406282a854c6c3",
       "version_major": 2,
       "version_minor": 0
      },
      "text/plain": [
       "  0%|          | 0/1 [00:00<?, ?it/s]"
      ]
     },
     "metadata": {},
     "output_type": "display_data"
    },
    {
     "name": "stdout",
     "output_type": "stream",
     "text": [
      "CSPR = 15.00 dB\n",
      "12500/12500 [==============================] - 9s 688us/step\n",
      "Results:\n",
      "BER: 4.64e-02\n",
      "SNR: 10.99 dB\n",
      "SIR =  11.68  dB\n",
      "GMI: 3.33 bits\n",
      "\n"
     ]
    },
    {
     "data": {
      "application/vnd.jupyter.widget-view+json": {
       "model_id": "3ca81a7946014bc5a6a3df5e1cd1f113",
       "version_major": 2,
       "version_minor": 0
      },
      "text/plain": [
       "  0%|          | 0/1 [00:00<?, ?it/s]"
      ]
     },
     "metadata": {},
     "output_type": "display_data"
    },
    {
     "name": "stdout",
     "output_type": "stream",
     "text": [
      "CSPR = 15.00 dB\n",
      "12500/12500 [==============================] - 8s 666us/step\n",
      "Results:\n",
      "BER: 3.22e-02\n",
      "SNR: 11.83 dB\n",
      "SIR =  12.06  dB\n",
      "GMI: 3.52 bits\n",
      "\n"
     ]
    },
    {
     "data": {
      "application/vnd.jupyter.widget-view+json": {
       "model_id": "a3669c201ce24d3daf8d64b2187244df",
       "version_major": 2,
       "version_minor": 0
      },
      "text/plain": [
       "  0%|          | 0/1 [00:00<?, ?it/s]"
      ]
     },
     "metadata": {},
     "output_type": "display_data"
    },
    {
     "name": "stdout",
     "output_type": "stream",
     "text": [
      "CSPR = 15.00 dB\n",
      "12500/12500 [==============================] - 9s 676us/step\n",
      "Results:\n",
      "BER: 2.14e-02\n",
      "SNR: 12.67 dB\n",
      "SIR =  12.38  dB\n",
      "GMI: 3.67 bits\n",
      "\n"
     ]
    },
    {
     "data": {
      "application/vnd.jupyter.widget-view+json": {
       "model_id": "08d2bedf64464630ac193ffc92e8e049",
       "version_major": 2,
       "version_minor": 0
      },
      "text/plain": [
       "  0%|          | 0/1 [00:00<?, ?it/s]"
      ]
     },
     "metadata": {},
     "output_type": "display_data"
    },
    {
     "name": "stdout",
     "output_type": "stream",
     "text": [
      "CSPR = 15.00 dB\n",
      "12500/12500 [==============================] - 9s 681us/step\n",
      "Results:\n",
      "BER: 1.41e-02\n",
      "SNR: 13.48 dB\n",
      "SIR =  12.69  dB\n",
      "GMI: 3.78 bits\n",
      "\n"
     ]
    },
    {
     "data": {
      "application/vnd.jupyter.widget-view+json": {
       "model_id": "121161cc7c8b4c2487f0e32eaefbd098",
       "version_major": 2,
       "version_minor": 0
      },
      "text/plain": [
       "  0%|          | 0/1 [00:00<?, ?it/s]"
      ]
     },
     "metadata": {},
     "output_type": "display_data"
    },
    {
     "name": "stdout",
     "output_type": "stream",
     "text": [
      "CSPR = 15.00 dB\n",
      "12500/12500 [==============================] - 8s 630us/step\n",
      "Results:\n",
      "BER: 8.73e-03\n",
      "SNR: 14.23 dB\n",
      "SIR =  12.91  dB\n",
      "GMI: 3.86 bits\n",
      "\n"
     ]
    },
    {
     "data": {
      "application/vnd.jupyter.widget-view+json": {
       "model_id": "e710a452b18948d48a613068cae11d6d",
       "version_major": 2,
       "version_minor": 0
      },
      "text/plain": [
       "  0%|          | 0/1 [00:00<?, ?it/s]"
      ]
     },
     "metadata": {},
     "output_type": "display_data"
    },
    {
     "name": "stdout",
     "output_type": "stream",
     "text": [
      "CSPR = 15.00 dB\n",
      "12500/12500 [==============================] - 8s 618us/step\n",
      "Results:\n",
      "BER: 4.66e-03\n",
      "SNR: 15.01 dB\n",
      "SIR =  13.22  dB\n",
      "GMI: 3.93 bits\n",
      "\n"
     ]
    },
    {
     "data": {
      "application/vnd.jupyter.widget-view+json": {
       "model_id": "96c07442b8c14667966b1e179b9888de",
       "version_major": 2,
       "version_minor": 0
      },
      "text/plain": [
       "  0%|          | 0/1 [00:00<?, ?it/s]"
      ]
     },
     "metadata": {},
     "output_type": "display_data"
    },
    {
     "name": "stdout",
     "output_type": "stream",
     "text": [
      "CSPR = 15.00 dB\n",
      "12500/12500 [==============================] - 8s 624us/step\n",
      "Results:\n",
      "BER: 2.64e-03\n",
      "SNR: 15.76 dB\n",
      "SIR =  13.34  dB\n",
      "GMI: 3.96 bits\n",
      "\n"
     ]
    },
    {
     "data": {
      "application/vnd.jupyter.widget-view+json": {
       "model_id": "cea57490a9e04934a8e858cc2bd0c6d7",
       "version_major": 2,
       "version_minor": 0
      },
      "text/plain": [
       "  0%|          | 0/1 [00:00<?, ?it/s]"
      ]
     },
     "metadata": {},
     "output_type": "display_data"
    },
    {
     "name": "stdout",
     "output_type": "stream",
     "text": [
      "CSPR = 15.00 dB\n",
      "12500/12500 [==============================] - 8s 646us/step\n",
      "Results:\n",
      "BER: 1.31e-03\n",
      "SNR: 16.39 dB\n",
      "SIR =  13.43  dB\n",
      "GMI: 3.98 bits\n",
      "\n"
     ]
    },
    {
     "data": {
      "application/vnd.jupyter.widget-view+json": {
       "model_id": "39d2fd66157e48769f92661aa1b320e8",
       "version_major": 2,
       "version_minor": 0
      },
      "text/plain": [
       "  0%|          | 0/1 [00:00<?, ?it/s]"
      ]
     },
     "metadata": {},
     "output_type": "display_data"
    },
    {
     "name": "stdout",
     "output_type": "stream",
     "text": [
      "CSPR = 15.00 dB\n",
      "12500/12500 [==============================] - 8s 635us/step\n",
      "Results:\n",
      "BER: 6.66e-04\n",
      "SNR: 17.02 dB\n",
      "SIR =  13.59  dB\n",
      "GMI: 3.99 bits\n",
      "\n"
     ]
    },
    {
     "data": {
      "application/vnd.jupyter.widget-view+json": {
       "model_id": "bed26b194d2e44eb91e440ee18dd9af8",
       "version_major": 2,
       "version_minor": 0
      },
      "text/plain": [
       "  0%|          | 0/1 [00:00<?, ?it/s]"
      ]
     },
     "metadata": {},
     "output_type": "display_data"
    },
    {
     "name": "stdout",
     "output_type": "stream",
     "text": [
      "CSPR = 15.00 dB\n",
      "12500/12500 [==============================] - 8s 635us/step\n",
      "Results:\n",
      "BER: 2.91e-04\n",
      "SNR: 17.61 dB\n",
      "SIR =  13.7  dB\n",
      "GMI: 4.00 bits\n",
      "\n"
     ]
    },
    {
     "data": {
      "application/vnd.jupyter.widget-view+json": {
       "model_id": "a3aebb82c5fe49aa9403cabeb7a5d392",
       "version_major": 2,
       "version_minor": 0
      },
      "text/plain": [
       "  0%|          | 0/10 [00:00<?, ?it/s]"
      ]
     },
     "metadata": {},
     "output_type": "display_data"
    },
    {
     "data": {
      "application/vnd.jupyter.widget-view+json": {
       "model_id": "2df7259d25544221b8edd0283d95e350",
       "version_major": 2,
       "version_minor": 0
      },
      "text/plain": [
       "  0%|          | 0/17 [00:00<?, ?it/s]"
      ]
     },
     "metadata": {},
     "output_type": "display_data"
    },
    {
     "data": {
      "application/vnd.jupyter.widget-view+json": {
       "model_id": "52395d5e50c84415b809bab3a7bfb77d",
       "version_major": 2,
       "version_minor": 0
      },
      "text/plain": [
       "  0%|          | 0/1 [00:00<?, ?it/s]"
      ]
     },
     "metadata": {},
     "output_type": "display_data"
    },
    {
     "name": "stdout",
     "output_type": "stream",
     "text": [
      "CSPR = 6.00 dB\n",
      "12500/12500 [==============================] - 74s 6ms/step\n",
      "Results:\n",
      "BER: 4.77e-01\n",
      "SNR: 0.05 dB\n",
      "SIR =  3.58  dB\n",
      "GMI: -0.06 bits\n",
      "\n"
     ]
    },
    {
     "data": {
      "application/vnd.jupyter.widget-view+json": {
       "model_id": "4446c8a2b2cf4f0fbe46813d5a6243c6",
       "version_major": 2,
       "version_minor": 0
      },
      "text/plain": [
       "  0%|          | 0/1 [00:00<?, ?it/s]"
      ]
     },
     "metadata": {},
     "output_type": "display_data"
    },
    {
     "name": "stdout",
     "output_type": "stream",
     "text": [
      "CSPR = 6.00 dB\n",
      "12500/12500 [==============================] - 75s 6ms/step\n",
      "Results:\n",
      "BER: 4.96e-01\n",
      "SNR: 0.00 dB\n",
      "SIR =  4.1  dB\n",
      "GMI: -0.05 bits\n",
      "\n"
     ]
    },
    {
     "data": {
      "application/vnd.jupyter.widget-view+json": {
       "model_id": "848deb045fff41f8a735ba840adcff6e",
       "version_major": 2,
       "version_minor": 0
      },
      "text/plain": [
       "  0%|          | 0/1 [00:00<?, ?it/s]"
      ]
     },
     "metadata": {},
     "output_type": "display_data"
    },
    {
     "name": "stdout",
     "output_type": "stream",
     "text": [
      "CSPR = 6.00 dB\n",
      "12500/12500 [==============================] - 73s 6ms/step\n",
      "Results:\n",
      "BER: 4.81e-01\n",
      "SNR: 0.03 dB\n",
      "SIR =  4.62  dB\n",
      "GMI: -0.06 bits\n",
      "\n"
     ]
    },
    {
     "data": {
      "application/vnd.jupyter.widget-view+json": {
       "model_id": "014b475c5a744b3a8e711e6651d9eeb2",
       "version_major": 2,
       "version_minor": 0
      },
      "text/plain": [
       "  0%|          | 0/1 [00:00<?, ?it/s]"
      ]
     },
     "metadata": {},
     "output_type": "display_data"
    },
    {
     "name": "stdout",
     "output_type": "stream",
     "text": [
      "CSPR = 6.00 dB\n",
      "12500/12500 [==============================] - 74s 6ms/step\n",
      "Results:\n",
      "BER: 4.61e-01\n",
      "SNR: 0.14 dB\n",
      "SIR =  5.09  dB\n",
      "GMI: -0.04 bits\n",
      "\n"
     ]
    },
    {
     "data": {
      "application/vnd.jupyter.widget-view+json": {
       "model_id": "17fe86b2681f4faeb990bf7c1a2cca99",
       "version_major": 2,
       "version_minor": 0
      },
      "text/plain": [
       "  0%|          | 0/1 [00:00<?, ?it/s]"
      ]
     },
     "metadata": {},
     "output_type": "display_data"
    },
    {
     "name": "stdout",
     "output_type": "stream",
     "text": [
      "CSPR = 6.00 dB\n",
      "12500/12500 [==============================] - 76s 6ms/step\n",
      "Results:\n",
      "BER: 4.33e-01\n",
      "SNR: 0.46 dB\n",
      "SIR =  5.58  dB\n",
      "GMI: 0.02 bits\n",
      "\n"
     ]
    },
    {
     "data": {
      "application/vnd.jupyter.widget-view+json": {
       "model_id": "0287f6d5f6ac492cbe2fcb66b269bc6d",
       "version_major": 2,
       "version_minor": 0
      },
      "text/plain": [
       "  0%|          | 0/1 [00:00<?, ?it/s]"
      ]
     },
     "metadata": {},
     "output_type": "display_data"
    },
    {
     "name": "stdout",
     "output_type": "stream",
     "text": [
      "CSPR = 6.00 dB\n",
      "12500/12500 [==============================] - 75s 6ms/step\n",
      "Results:\n",
      "BER: 4.41e-01\n",
      "SNR: 0.44 dB\n",
      "SIR =  6.08  dB\n",
      "GMI: 0.02 bits\n",
      "\n"
     ]
    },
    {
     "data": {
      "application/vnd.jupyter.widget-view+json": {
       "model_id": "70f647d9973048ca8e4c23c9194e62c3",
       "version_major": 2,
       "version_minor": 0
      },
      "text/plain": [
       "  0%|          | 0/1 [00:00<?, ?it/s]"
      ]
     },
     "metadata": {},
     "output_type": "display_data"
    },
    {
     "name": "stdout",
     "output_type": "stream",
     "text": [
      "CSPR = 6.00 dB\n",
      "12500/12500 [==============================] - 76s 6ms/step\n",
      "Results:\n",
      "BER: 4.36e-01\n",
      "SNR: 0.49 dB\n",
      "SIR =  6.54  dB\n",
      "GMI: 0.04 bits\n",
      "\n"
     ]
    },
    {
     "data": {
      "application/vnd.jupyter.widget-view+json": {
       "model_id": "86b68a1a6ee942faa89b5ed4fa80ef01",
       "version_major": 2,
       "version_minor": 0
      },
      "text/plain": [
       "  0%|          | 0/1 [00:00<?, ?it/s]"
      ]
     },
     "metadata": {},
     "output_type": "display_data"
    },
    {
     "name": "stdout",
     "output_type": "stream",
     "text": [
      "CSPR = 6.00 dB\n",
      "12500/12500 [==============================] - 73s 6ms/step\n",
      "Results:\n",
      "BER: 4.77e-01\n",
      "SNR: 0.07 dB\n",
      "SIR =  6.99  dB\n",
      "GMI: -0.06 bits\n",
      "\n"
     ]
    },
    {
     "data": {
      "application/vnd.jupyter.widget-view+json": {
       "model_id": "80aa2911ca054782877497a176fa0d8a",
       "version_major": 2,
       "version_minor": 0
      },
      "text/plain": [
       "  0%|          | 0/1 [00:00<?, ?it/s]"
      ]
     },
     "metadata": {},
     "output_type": "display_data"
    },
    {
     "name": "stdout",
     "output_type": "stream",
     "text": [
      "CSPR = 6.00 dB\n",
      "12500/12500 [==============================] - 72s 6ms/step\n",
      "Results:\n",
      "BER: 3.58e-01\n",
      "SNR: 1.23 dB\n",
      "SIR =  7.47  dB\n",
      "GMI: 0.29 bits\n",
      "\n"
     ]
    },
    {
     "data": {
      "application/vnd.jupyter.widget-view+json": {
       "model_id": "7f6e456137e94bd494fc74307130ddb8",
       "version_major": 2,
       "version_minor": 0
      },
      "text/plain": [
       "  0%|          | 0/1 [00:00<?, ?it/s]"
      ]
     },
     "metadata": {},
     "output_type": "display_data"
    },
    {
     "name": "stdout",
     "output_type": "stream",
     "text": [
      "CSPR = 6.00 dB\n",
      "12500/12500 [==============================] - 78s 6ms/step\n",
      "Results:\n",
      "BER: 4.04e-01\n",
      "SNR: 0.74 dB\n",
      "SIR =  7.89  dB\n",
      "GMI: 0.09 bits\n",
      "\n"
     ]
    },
    {
     "data": {
      "application/vnd.jupyter.widget-view+json": {
       "model_id": "f0c52f156e1b451590681b7237e62673",
       "version_major": 2,
       "version_minor": 0
      },
      "text/plain": [
       "  0%|          | 0/1 [00:00<?, ?it/s]"
      ]
     },
     "metadata": {},
     "output_type": "display_data"
    },
    {
     "name": "stdout",
     "output_type": "stream",
     "text": [
      "CSPR = 6.00 dB\n",
      "12500/12500 [==============================] - 76s 6ms/step\n",
      "Results:\n",
      "BER: 6.52e-02\n",
      "SNR: 9.97 dB\n",
      "SIR =  8.24  dB\n",
      "GMI: 3.06 bits\n",
      "\n"
     ]
    },
    {
     "data": {
      "application/vnd.jupyter.widget-view+json": {
       "model_id": "08560bf7e3574dd8b1dec01dd7df71d3",
       "version_major": 2,
       "version_minor": 0
      },
      "text/plain": [
       "  0%|          | 0/1 [00:00<?, ?it/s]"
      ]
     },
     "metadata": {},
     "output_type": "display_data"
    },
    {
     "name": "stdout",
     "output_type": "stream",
     "text": [
      "CSPR = 6.00 dB\n",
      "12500/12500 [==============================] - 74s 6ms/step\n",
      "Results:\n",
      "BER: 5.32e-02\n",
      "SNR: 10.59 dB\n",
      "SIR =  8.57  dB\n",
      "GMI: 3.22 bits\n",
      "\n"
     ]
    },
    {
     "data": {
      "application/vnd.jupyter.widget-view+json": {
       "model_id": "7f0da68bdeaf43ca888464a755153984",
       "version_major": 2,
       "version_minor": 0
      },
      "text/plain": [
       "  0%|          | 0/1 [00:00<?, ?it/s]"
      ]
     },
     "metadata": {},
     "output_type": "display_data"
    },
    {
     "name": "stdout",
     "output_type": "stream",
     "text": [
      "CSPR = 6.00 dB\n",
      "12500/12500 [==============================] - 76s 6ms/step\n",
      "Results:\n",
      "BER: 3.08e-01\n",
      "SNR: 2.75 dB\n",
      "SIR =  8.96  dB\n",
      "GMI: 0.65 bits\n",
      "\n"
     ]
    },
    {
     "data": {
      "application/vnd.jupyter.widget-view+json": {
       "model_id": "2c21513913f948929c6413e11183d3b5",
       "version_major": 2,
       "version_minor": 0
      },
      "text/plain": [
       "  0%|          | 0/1 [00:00<?, ?it/s]"
      ]
     },
     "metadata": {},
     "output_type": "display_data"
    },
    {
     "name": "stdout",
     "output_type": "stream",
     "text": [
      "CSPR = 6.00 dB\n",
      "12500/12500 [==============================] - 72s 6ms/step\n",
      "Results:\n",
      "BER: 3.52e-02\n",
      "SNR: 11.67 dB\n",
      "SIR =  9.34  dB\n",
      "GMI: 3.46 bits\n",
      "\n"
     ]
    },
    {
     "data": {
      "application/vnd.jupyter.widget-view+json": {
       "model_id": "ce4705897ee54c129d83773f57524aa7",
       "version_major": 2,
       "version_minor": 0
      },
      "text/plain": [
       "  0%|          | 0/1 [00:00<?, ?it/s]"
      ]
     },
     "metadata": {},
     "output_type": "display_data"
    },
    {
     "name": "stdout",
     "output_type": "stream",
     "text": [
      "CSPR = 6.00 dB\n",
      "12500/12500 [==============================] - 77s 6ms/step\n",
      "Results:\n",
      "BER: 2.91e-02\n",
      "SNR: 12.14 dB\n",
      "SIR =  9.65  dB\n",
      "GMI: 3.54 bits\n",
      "\n"
     ]
    },
    {
     "data": {
      "application/vnd.jupyter.widget-view+json": {
       "model_id": "a7d9493747e441d4b535323c3b81365a",
       "version_major": 2,
       "version_minor": 0
      },
      "text/plain": [
       "  0%|          | 0/1 [00:00<?, ?it/s]"
      ]
     },
     "metadata": {},
     "output_type": "display_data"
    },
    {
     "name": "stdout",
     "output_type": "stream",
     "text": [
      "CSPR = 6.00 dB\n",
      "12500/12500 [==============================] - 75s 6ms/step\n",
      "Results:\n",
      "BER: 2.47e-02\n",
      "SNR: 12.51 dB\n",
      "SIR =  9.84  dB\n",
      "GMI: 3.61 bits\n",
      "\n"
     ]
    },
    {
     "data": {
      "application/vnd.jupyter.widget-view+json": {
       "model_id": "af241f90f2c846ea8dc1be569e676242",
       "version_major": 2,
       "version_minor": 0
      },
      "text/plain": [
       "  0%|          | 0/1 [00:00<?, ?it/s]"
      ]
     },
     "metadata": {},
     "output_type": "display_data"
    },
    {
     "name": "stdout",
     "output_type": "stream",
     "text": [
      "CSPR = 6.00 dB\n",
      "12500/12500 [==============================] - 75s 6ms/step\n",
      "Results:\n",
      "BER: 1.99e-02\n",
      "SNR: 12.90 dB\n",
      "SIR =  10.1  dB\n",
      "GMI: 3.67 bits\n",
      "\n"
     ]
    },
    {
     "data": {
      "application/vnd.jupyter.widget-view+json": {
       "model_id": "deec3b112408450082cc4c699c3fb677",
       "version_major": 2,
       "version_minor": 0
      },
      "text/plain": [
       "  0%|          | 0/17 [00:00<?, ?it/s]"
      ]
     },
     "metadata": {},
     "output_type": "display_data"
    },
    {
     "data": {
      "application/vnd.jupyter.widget-view+json": {
       "model_id": "bcb1d75306f644c9b36bfd6e914bb6aa",
       "version_major": 2,
       "version_minor": 0
      },
      "text/plain": [
       "  0%|          | 0/1 [00:00<?, ?it/s]"
      ]
     },
     "metadata": {},
     "output_type": "display_data"
    },
    {
     "name": "stdout",
     "output_type": "stream",
     "text": [
      "CSPR = 7.00 dB\n",
      "12500/12500 [==============================] - 74s 6ms/step\n",
      "Results:\n",
      "BER: 4.94e-01\n",
      "SNR: 0.00 dB\n",
      "SIR =  5.02  dB\n",
      "GMI: -0.06 bits\n",
      "\n"
     ]
    },
    {
     "data": {
      "application/vnd.jupyter.widget-view+json": {
       "model_id": "ddfe59273c204e998edbebf95a7800c8",
       "version_major": 2,
       "version_minor": 0
      },
      "text/plain": [
       "  0%|          | 0/1 [00:00<?, ?it/s]"
      ]
     },
     "metadata": {},
     "output_type": "display_data"
    },
    {
     "name": "stdout",
     "output_type": "stream",
     "text": [
      "CSPR = 7.00 dB\n",
      "12500/12500 [==============================] - 73s 6ms/step\n",
      "Results:\n",
      "BER: 4.69e-01\n",
      "SNR: 0.10 dB\n",
      "SIR =  5.49  dB\n",
      "GMI: -0.05 bits\n",
      "\n"
     ]
    },
    {
     "data": {
      "application/vnd.jupyter.widget-view+json": {
       "model_id": "2d371999780243a7ba8ad4a7ce805d12",
       "version_major": 2,
       "version_minor": 0
      },
      "text/plain": [
       "  0%|          | 0/1 [00:00<?, ?it/s]"
      ]
     },
     "metadata": {},
     "output_type": "display_data"
    },
    {
     "name": "stdout",
     "output_type": "stream",
     "text": [
      "CSPR = 7.00 dB\n",
      "12500/12500 [==============================] - 73s 6ms/step\n",
      "Results:\n",
      "BER: 4.74e-01\n",
      "SNR: 0.07 dB\n",
      "SIR =  5.98  dB\n",
      "GMI: -0.05 bits\n",
      "\n"
     ]
    },
    {
     "data": {
      "application/vnd.jupyter.widget-view+json": {
       "model_id": "62daeb81d1be4e34849b1c90d973a063",
       "version_major": 2,
       "version_minor": 0
      },
      "text/plain": [
       "  0%|          | 0/1 [00:00<?, ?it/s]"
      ]
     },
     "metadata": {},
     "output_type": "display_data"
    },
    {
     "name": "stdout",
     "output_type": "stream",
     "text": [
      "CSPR = 7.00 dB\n",
      "12500/12500 [==============================] - 78s 6ms/step\n",
      "Results:\n",
      "BER: 4.68e-01\n",
      "SNR: 0.11 dB\n",
      "SIR =  6.53  dB\n",
      "GMI: -0.05 bits\n",
      "\n"
     ]
    },
    {
     "data": {
      "application/vnd.jupyter.widget-view+json": {
       "model_id": "f1d50929341c460180793e52fab36754",
       "version_major": 2,
       "version_minor": 0
      },
      "text/plain": [
       "  0%|          | 0/1 [00:00<?, ?it/s]"
      ]
     },
     "metadata": {},
     "output_type": "display_data"
    },
    {
     "name": "stdout",
     "output_type": "stream",
     "text": [
      "CSPR = 7.00 dB\n",
      "12500/12500 [==============================] - 76s 6ms/step\n",
      "Results:\n",
      "BER: 4.87e-01\n",
      "SNR: 0.02 dB\n",
      "SIR =  6.98  dB\n",
      "GMI: -0.06 bits\n",
      "\n"
     ]
    },
    {
     "data": {
      "application/vnd.jupyter.widget-view+json": {
       "model_id": "f482d8ada7d0439582a77146a548df5b",
       "version_major": 2,
       "version_minor": 0
      },
      "text/plain": [
       "  0%|          | 0/1 [00:00<?, ?it/s]"
      ]
     },
     "metadata": {},
     "output_type": "display_data"
    },
    {
     "name": "stdout",
     "output_type": "stream",
     "text": [
      "CSPR = 7.00 dB\n",
      "12500/12500 [==============================] - 73s 6ms/step\n",
      "Results:\n",
      "BER: 4.83e-01\n",
      "SNR: 0.04 dB\n",
      "SIR =  7.41  dB\n",
      "GMI: -0.06 bits\n",
      "\n"
     ]
    },
    {
     "data": {
      "application/vnd.jupyter.widget-view+json": {
       "model_id": "588f876d311a4bde8339f480db14f234",
       "version_major": 2,
       "version_minor": 0
      },
      "text/plain": [
       "  0%|          | 0/1 [00:00<?, ?it/s]"
      ]
     },
     "metadata": {},
     "output_type": "display_data"
    },
    {
     "name": "stdout",
     "output_type": "stream",
     "text": [
      "CSPR = 7.00 dB\n",
      "12500/12500 [==============================] - 74s 6ms/step\n",
      "Results:\n",
      "BER: 4.57e-01\n",
      "SNR: 0.18 dB\n",
      "SIR =  7.91  dB\n",
      "GMI: -0.04 bits\n",
      "\n"
     ]
    },
    {
     "data": {
      "application/vnd.jupyter.widget-view+json": {
       "model_id": "a3c2297e470e447facc6cf1ba5de307c",
       "version_major": 2,
       "version_minor": 0
      },
      "text/plain": [
       "  0%|          | 0/1 [00:00<?, ?it/s]"
      ]
     },
     "metadata": {},
     "output_type": "display_data"
    },
    {
     "name": "stdout",
     "output_type": "stream",
     "text": [
      "CSPR = 7.00 dB\n",
      "12500/12500 [==============================] - 74s 6ms/step\n",
      "Results:\n",
      "BER: 3.40e-01\n",
      "SNR: 1.80 dB\n",
      "SIR =  8.25  dB\n",
      "GMI: 0.39 bits\n",
      "\n"
     ]
    },
    {
     "data": {
      "application/vnd.jupyter.widget-view+json": {
       "model_id": "a98db33beb0f4e5cbba45d4424e0b5a6",
       "version_major": 2,
       "version_minor": 0
      },
      "text/plain": [
       "  0%|          | 0/1 [00:00<?, ?it/s]"
      ]
     },
     "metadata": {},
     "output_type": "display_data"
    },
    {
     "name": "stdout",
     "output_type": "stream",
     "text": [
      "CSPR = 7.00 dB\n",
      "12500/12500 [==============================] - 74s 6ms/step\n",
      "Results:\n",
      "BER: 2.75e-01\n",
      "SNR: 3.11 dB\n",
      "SIR =  8.69  dB\n",
      "GMI: 0.84 bits\n",
      "\n"
     ]
    },
    {
     "data": {
      "application/vnd.jupyter.widget-view+json": {
       "model_id": "52991f135bb44e089a6b65cfc829e81d",
       "version_major": 2,
       "version_minor": 0
      },
      "text/plain": [
       "  0%|          | 0/1 [00:00<?, ?it/s]"
      ]
     },
     "metadata": {},
     "output_type": "display_data"
    },
    {
     "name": "stdout",
     "output_type": "stream",
     "text": [
      "CSPR = 7.00 dB\n",
      "12500/12500 [==============================] - 80s 6ms/step\n",
      "Results:\n",
      "BER: 2.65e-01\n",
      "SNR: 2.44 dB\n",
      "SIR =  9.05  dB\n",
      "GMI: 0.71 bits\n",
      "\n"
     ]
    },
    {
     "data": {
      "application/vnd.jupyter.widget-view+json": {
       "model_id": "837fec49af074bb094537cd6144c1e3c",
       "version_major": 2,
       "version_minor": 0
      },
      "text/plain": [
       "  0%|          | 0/1 [00:00<?, ?it/s]"
      ]
     },
     "metadata": {},
     "output_type": "display_data"
    },
    {
     "name": "stdout",
     "output_type": "stream",
     "text": [
      "CSPR = 7.00 dB\n",
      "12500/12500 [==============================] - 79s 6ms/step\n",
      "Results:\n",
      "BER: 2.14e-01\n",
      "SNR: 3.88 dB\n",
      "SIR =  9.35  dB\n",
      "GMI: 1.21 bits\n",
      "\n"
     ]
    },
    {
     "data": {
      "application/vnd.jupyter.widget-view+json": {
       "model_id": "18c3780af16b45858e9576a1622e584d",
       "version_major": 2,
       "version_minor": 0
      },
      "text/plain": [
       "  0%|          | 0/1 [00:00<?, ?it/s]"
      ]
     },
     "metadata": {},
     "output_type": "display_data"
    },
    {
     "name": "stdout",
     "output_type": "stream",
     "text": [
      "CSPR = 7.00 dB\n",
      "12500/12500 [==============================] - 77s 6ms/step\n",
      "Results:\n",
      "BER: 3.82e-02\n",
      "SNR: 11.49 dB\n",
      "SIR =  9.69  dB\n",
      "GMI: 3.43 bits\n",
      "\n"
     ]
    },
    {
     "data": {
      "application/vnd.jupyter.widget-view+json": {
       "model_id": "03dbfc4c68234d7ab706ef76ac158ba9",
       "version_major": 2,
       "version_minor": 0
      },
      "text/plain": [
       "  0%|          | 0/1 [00:00<?, ?it/s]"
      ]
     },
     "metadata": {},
     "output_type": "display_data"
    },
    {
     "name": "stdout",
     "output_type": "stream",
     "text": [
      "CSPR = 7.00 dB\n",
      "12500/12500 [==============================] - 74s 6ms/step\n",
      "Results:\n",
      "BER: 3.02e-02\n",
      "SNR: 12.03 dB\n",
      "SIR =  9.99  dB\n",
      "GMI: 3.54 bits\n",
      "\n"
     ]
    },
    {
     "data": {
      "application/vnd.jupyter.widget-view+json": {
       "model_id": "a80de931e81740b79329cf3deef2bba2",
       "version_major": 2,
       "version_minor": 0
      },
      "text/plain": [
       "  0%|          | 0/1 [00:00<?, ?it/s]"
      ]
     },
     "metadata": {},
     "output_type": "display_data"
    },
    {
     "name": "stdout",
     "output_type": "stream",
     "text": [
      "CSPR = 7.00 dB\n",
      "12500/12500 [==============================] - 76s 6ms/step\n",
      "Results:\n",
      "BER: 2.32e-02\n",
      "SNR: 12.58 dB\n",
      "SIR =  10.24  dB\n",
      "GMI: 3.64 bits\n",
      "\n"
     ]
    },
    {
     "data": {
      "application/vnd.jupyter.widget-view+json": {
       "model_id": "50b9e0bdc4ba43cfa39b2943c5f922dc",
       "version_major": 2,
       "version_minor": 0
      },
      "text/plain": [
       "  0%|          | 0/1 [00:00<?, ?it/s]"
      ]
     },
     "metadata": {},
     "output_type": "display_data"
    },
    {
     "name": "stdout",
     "output_type": "stream",
     "text": [
      "CSPR = 7.00 dB\n",
      "12500/12500 [==============================] - 74s 6ms/step\n",
      "Results:\n",
      "BER: 1.89e-02\n",
      "SNR: 13.00 dB\n",
      "SIR =  10.47  dB\n",
      "GMI: 3.70 bits\n",
      "\n"
     ]
    },
    {
     "data": {
      "application/vnd.jupyter.widget-view+json": {
       "model_id": "b0c258b3aa2b4b18b486de867eba08f1",
       "version_major": 2,
       "version_minor": 0
      },
      "text/plain": [
       "  0%|          | 0/1 [00:00<?, ?it/s]"
      ]
     },
     "metadata": {},
     "output_type": "display_data"
    },
    {
     "name": "stdout",
     "output_type": "stream",
     "text": [
      "CSPR = 7.00 dB\n",
      "12500/12500 [==============================] - 81s 6ms/step\n",
      "Results:\n",
      "BER: 1.54e-02\n",
      "SNR: 13.42 dB\n",
      "SIR =  10.66  dB\n",
      "GMI: 3.75 bits\n",
      "\n"
     ]
    },
    {
     "data": {
      "application/vnd.jupyter.widget-view+json": {
       "model_id": "24be52f9748c435f8fc02ee23811d56c",
       "version_major": 2,
       "version_minor": 0
      },
      "text/plain": [
       "  0%|          | 0/1 [00:00<?, ?it/s]"
      ]
     },
     "metadata": {},
     "output_type": "display_data"
    },
    {
     "name": "stdout",
     "output_type": "stream",
     "text": [
      "CSPR = 7.00 dB\n",
      "12500/12500 [==============================] - 80s 6ms/step\n",
      "Results:\n",
      "BER: 1.17e-02\n",
      "SNR: 13.91 dB\n",
      "SIR =  10.95  dB\n",
      "GMI: 3.81 bits\n",
      "\n"
     ]
    },
    {
     "data": {
      "application/vnd.jupyter.widget-view+json": {
       "model_id": "eabbb5e6dbe24fe1a246743317de00f6",
       "version_major": 2,
       "version_minor": 0
      },
      "text/plain": [
       "  0%|          | 0/17 [00:00<?, ?it/s]"
      ]
     },
     "metadata": {},
     "output_type": "display_data"
    },
    {
     "data": {
      "application/vnd.jupyter.widget-view+json": {
       "model_id": "ffb73743b42045d4a386357e9873df05",
       "version_major": 2,
       "version_minor": 0
      },
      "text/plain": [
       "  0%|          | 0/1 [00:00<?, ?it/s]"
      ]
     },
     "metadata": {},
     "output_type": "display_data"
    },
    {
     "name": "stdout",
     "output_type": "stream",
     "text": [
      "CSPR = 8.00 dB\n",
      "12500/12500 [==============================] - 80s 6ms/step\n",
      "Results:\n",
      "BER: 4.96e-01\n",
      "SNR: 0.00 dB\n",
      "SIR =  4.0  dB\n",
      "GMI: -0.06 bits\n",
      "\n"
     ]
    },
    {
     "data": {
      "application/vnd.jupyter.widget-view+json": {
       "model_id": "e76f4acf1b3d49279f4b0b659f9815c1",
       "version_major": 2,
       "version_minor": 0
      },
      "text/plain": [
       "  0%|          | 0/1 [00:00<?, ?it/s]"
      ]
     },
     "metadata": {},
     "output_type": "display_data"
    },
    {
     "name": "stdout",
     "output_type": "stream",
     "text": [
      "CSPR = 8.00 dB\n",
      "12500/12500 [==============================] - 76s 6ms/step\n",
      "Results:\n",
      "BER: 4.71e-01\n",
      "SNR: 0.11 dB\n",
      "SIR =  4.47  dB\n",
      "GMI: -0.05 bits\n",
      "\n"
     ]
    },
    {
     "data": {
      "application/vnd.jupyter.widget-view+json": {
       "model_id": "a32dbaa2ddbd4b44bc8c8ea98ae6184e",
       "version_major": 2,
       "version_minor": 0
      },
      "text/plain": [
       "  0%|          | 0/1 [00:00<?, ?it/s]"
      ]
     },
     "metadata": {},
     "output_type": "display_data"
    },
    {
     "name": "stdout",
     "output_type": "stream",
     "text": [
      "CSPR = 8.00 dB\n",
      "12500/12500 [==============================] - 76s 6ms/step\n",
      "Results:\n",
      "BER: 4.55e-01\n",
      "SNR: 0.23 dB\n",
      "SIR =  4.98  dB\n",
      "GMI: -0.03 bits\n",
      "\n"
     ]
    },
    {
     "data": {
      "application/vnd.jupyter.widget-view+json": {
       "model_id": "f214247280b14582bf77a9eb4c5df285",
       "version_major": 2,
       "version_minor": 0
      },
      "text/plain": [
       "  0%|          | 0/1 [00:00<?, ?it/s]"
      ]
     },
     "metadata": {},
     "output_type": "display_data"
    },
    {
     "name": "stdout",
     "output_type": "stream",
     "text": [
      "CSPR = 8.00 dB\n",
      "12500/12500 [==============================] - 77s 6ms/step\n",
      "Results:\n",
      "BER: 4.91e-01\n",
      "SNR: 0.01 dB\n",
      "SIR =  5.47  dB\n",
      "GMI: -0.06 bits\n",
      "\n"
     ]
    },
    {
     "data": {
      "application/vnd.jupyter.widget-view+json": {
       "model_id": "e95e379fa8b048e8a0b8af2ed9fcc276",
       "version_major": 2,
       "version_minor": 0
      },
      "text/plain": [
       "  0%|          | 0/1 [00:00<?, ?it/s]"
      ]
     },
     "metadata": {},
     "output_type": "display_data"
    },
    {
     "name": "stdout",
     "output_type": "stream",
     "text": [
      "CSPR = 8.00 dB\n",
      "12500/12500 [==============================] - 81s 6ms/step\n",
      "Results:\n",
      "BER: 4.52e-01\n",
      "SNR: 0.23 dB\n",
      "SIR =  5.95  dB\n",
      "GMI: -0.03 bits\n",
      "\n"
     ]
    },
    {
     "data": {
      "application/vnd.jupyter.widget-view+json": {
       "model_id": "4e8ed6bd07df4def88b8015deba9850e",
       "version_major": 2,
       "version_minor": 0
      },
      "text/plain": [
       "  0%|          | 0/1 [00:00<?, ?it/s]"
      ]
     },
     "metadata": {},
     "output_type": "display_data"
    },
    {
     "name": "stdout",
     "output_type": "stream",
     "text": [
      "CSPR = 8.00 dB\n",
      "12500/12500 [==============================] - 80s 6ms/step\n",
      "Results:\n",
      "BER: 4.63e-01\n",
      "SNR: 0.13 dB\n",
      "SIR =  6.43  dB\n",
      "GMI: -0.04 bits\n",
      "\n"
     ]
    },
    {
     "data": {
      "application/vnd.jupyter.widget-view+json": {
       "model_id": "7b2f8d8182c54632a7e253c308997161",
       "version_major": 2,
       "version_minor": 0
      },
      "text/plain": [
       "  0%|          | 0/1 [00:00<?, ?it/s]"
      ]
     },
     "metadata": {},
     "output_type": "display_data"
    },
    {
     "name": "stdout",
     "output_type": "stream",
     "text": [
      "CSPR = 8.00 dB\n",
      "12500/12500 [==============================] - 81s 6ms/step\n",
      "Results:\n",
      "BER: 4.80e-01\n",
      "SNR: 0.04 dB\n",
      "SIR =  6.87  dB\n",
      "GMI: -0.06 bits\n",
      "\n"
     ]
    },
    {
     "data": {
      "application/vnd.jupyter.widget-view+json": {
       "model_id": "d931f2ac93e641b5ba0839bc9f63f8f8",
       "version_major": 2,
       "version_minor": 0
      },
      "text/plain": [
       "  0%|          | 0/1 [00:00<?, ?it/s]"
      ]
     },
     "metadata": {},
     "output_type": "display_data"
    },
    {
     "name": "stdout",
     "output_type": "stream",
     "text": [
      "CSPR = 8.00 dB\n",
      "12500/12500 [==============================] - 79s 6ms/step\n",
      "Results:\n",
      "BER: 3.74e-01\n",
      "SNR: 1.12 dB\n",
      "SIR =  7.41  dB\n",
      "GMI: 0.23 bits\n",
      "\n"
     ]
    },
    {
     "data": {
      "application/vnd.jupyter.widget-view+json": {
       "model_id": "55f71ea6f0c34fb39c738907a14af366",
       "version_major": 2,
       "version_minor": 0
      },
      "text/plain": [
       "  0%|          | 0/1 [00:00<?, ?it/s]"
      ]
     },
     "metadata": {},
     "output_type": "display_data"
    },
    {
     "name": "stdout",
     "output_type": "stream",
     "text": [
      "CSPR = 8.00 dB\n",
      "12500/12500 [==============================] - 78s 6ms/step\n",
      "Results:\n",
      "BER: 1.66e-01\n",
      "SNR: 4.75 dB\n",
      "SIR =  7.84  dB\n",
      "GMI: 1.56 bits\n",
      "\n"
     ]
    },
    {
     "data": {
      "application/vnd.jupyter.widget-view+json": {
       "model_id": "df6cb50018454a628770292dfa455217",
       "version_major": 2,
       "version_minor": 0
      },
      "text/plain": [
       "  0%|          | 0/1 [00:00<?, ?it/s]"
      ]
     },
     "metadata": {},
     "output_type": "display_data"
    },
    {
     "name": "stdout",
     "output_type": "stream",
     "text": [
      "CSPR = 8.00 dB\n",
      "12500/12500 [==============================] - 80s 6ms/step\n",
      "Results:\n",
      "BER: 6.69e-02\n",
      "SNR: 8.90 dB\n",
      "SIR =  8.36  dB\n",
      "GMI: 2.85 bits\n",
      "\n"
     ]
    },
    {
     "data": {
      "application/vnd.jupyter.widget-view+json": {
       "model_id": "f13828cbe9b94e498c7209e0eab99181",
       "version_major": 2,
       "version_minor": 0
      },
      "text/plain": [
       "  0%|          | 0/1 [00:00<?, ?it/s]"
      ]
     },
     "metadata": {},
     "output_type": "display_data"
    },
    {
     "name": "stdout",
     "output_type": "stream",
     "text": [
      "CSPR = 8.00 dB\n",
      "12500/12500 [==============================] - 93s 7ms/step\n",
      "Results:\n",
      "BER: 4.87e-02\n",
      "SNR: 10.83 dB\n",
      "SIR =  8.72  dB\n",
      "GMI: 3.28 bits\n",
      "\n"
     ]
    },
    {
     "data": {
      "application/vnd.jupyter.widget-view+json": {
       "model_id": "304bf2b068a24a8fa0bc628810918363",
       "version_major": 2,
       "version_minor": 0
      },
      "text/plain": [
       "  0%|          | 0/1 [00:00<?, ?it/s]"
      ]
     },
     "metadata": {},
     "output_type": "display_data"
    },
    {
     "name": "stdout",
     "output_type": "stream",
     "text": [
      "CSPR = 8.00 dB\n",
      "12500/12500 [==============================] - 82s 7ms/step\n",
      "Results:\n",
      "BER: 3.86e-02\n",
      "SNR: 11.49 dB\n",
      "SIR =  9.12  dB\n",
      "GMI: 3.43 bits\n",
      "\n"
     ]
    },
    {
     "data": {
      "application/vnd.jupyter.widget-view+json": {
       "model_id": "b4b827dff69a4a0c83e352de23a9884b",
       "version_major": 2,
       "version_minor": 0
      },
      "text/plain": [
       "  0%|          | 0/1 [00:00<?, ?it/s]"
      ]
     },
     "metadata": {},
     "output_type": "display_data"
    },
    {
     "name": "stdout",
     "output_type": "stream",
     "text": [
      "CSPR = 8.00 dB\n",
      "12500/12500 [==============================] - 81s 6ms/step\n",
      "Results:\n",
      "BER: 3.11e-01\n",
      "SNR: 2.78 dB\n",
      "SIR =  9.52  dB\n",
      "GMI: 0.65 bits\n",
      "\n"
     ]
    },
    {
     "data": {
      "application/vnd.jupyter.widget-view+json": {
       "model_id": "331e86b831214d1990aadf67928dcd5d",
       "version_major": 2,
       "version_minor": 0
      },
      "text/plain": [
       "  0%|          | 0/1 [00:00<?, ?it/s]"
      ]
     },
     "metadata": {},
     "output_type": "display_data"
    },
    {
     "name": "stdout",
     "output_type": "stream",
     "text": [
      "CSPR = 8.00 dB\n",
      "12500/12500 [==============================] - 79s 6ms/step\n",
      "Results:\n",
      "BER: 2.30e-02\n",
      "SNR: 12.64 dB\n",
      "SIR =  9.87  dB\n",
      "GMI: 3.64 bits\n",
      "\n"
     ]
    },
    {
     "data": {
      "application/vnd.jupyter.widget-view+json": {
       "model_id": "c79323229d854322ab773a7068a2c49f",
       "version_major": 2,
       "version_minor": 0
      },
      "text/plain": [
       "  0%|          | 0/1 [00:00<?, ?it/s]"
      ]
     },
     "metadata": {},
     "output_type": "display_data"
    },
    {
     "name": "stdout",
     "output_type": "stream",
     "text": [
      "CSPR = 8.00 dB\n",
      "12500/12500 [==============================] - 79s 6ms/step\n",
      "Results:\n",
      "BER: 1.77e-02\n",
      "SNR: 13.14 dB\n",
      "SIR =  10.17  dB\n",
      "GMI: 3.72 bits\n",
      "\n"
     ]
    },
    {
     "data": {
      "application/vnd.jupyter.widget-view+json": {
       "model_id": "bcddbb42335347e5950912f9a96fa56c",
       "version_major": 2,
       "version_minor": 0
      },
      "text/plain": [
       "  0%|          | 0/1 [00:00<?, ?it/s]"
      ]
     },
     "metadata": {},
     "output_type": "display_data"
    },
    {
     "name": "stdout",
     "output_type": "stream",
     "text": [
      "CSPR = 8.00 dB\n",
      "12500/12500 [==============================] - 81s 6ms/step\n",
      "Results:\n",
      "BER: 1.34e-02\n",
      "SNR: 13.64 dB\n",
      "SIR =  10.49  dB\n",
      "GMI: 3.79 bits\n",
      "\n"
     ]
    },
    {
     "data": {
      "application/vnd.jupyter.widget-view+json": {
       "model_id": "bee2d1d118ad448ba4fa1102a4f02433",
       "version_major": 2,
       "version_minor": 0
      },
      "text/plain": [
       "  0%|          | 0/1 [00:00<?, ?it/s]"
      ]
     },
     "metadata": {},
     "output_type": "display_data"
    },
    {
     "name": "stdout",
     "output_type": "stream",
     "text": [
      "CSPR = 8.00 dB\n",
      "12500/12500 [==============================] - 83s 7ms/step\n",
      "Results:\n",
      "BER: 1.02e-02\n",
      "SNR: 14.11 dB\n",
      "SIR =  10.75  dB\n",
      "GMI: 3.83 bits\n",
      "\n"
     ]
    },
    {
     "data": {
      "application/vnd.jupyter.widget-view+json": {
       "model_id": "aa9893105a4842f486a00d8c33fa8fe0",
       "version_major": 2,
       "version_minor": 0
      },
      "text/plain": [
       "  0%|          | 0/17 [00:00<?, ?it/s]"
      ]
     },
     "metadata": {},
     "output_type": "display_data"
    },
    {
     "data": {
      "application/vnd.jupyter.widget-view+json": {
       "model_id": "dbd9661b50764a04b72454e61ccf23de",
       "version_major": 2,
       "version_minor": 0
      },
      "text/plain": [
       "  0%|          | 0/1 [00:00<?, ?it/s]"
      ]
     },
     "metadata": {},
     "output_type": "display_data"
    },
    {
     "name": "stdout",
     "output_type": "stream",
     "text": [
      "CSPR = 9.00 dB\n",
      "12500/12500 [==============================] - 82s 7ms/step\n",
      "Results:\n",
      "BER: 4.71e-01\n",
      "SNR: 0.08 dB\n",
      "SIR =  5.12  dB\n",
      "GMI: -0.05 bits\n",
      "\n"
     ]
    },
    {
     "data": {
      "application/vnd.jupyter.widget-view+json": {
       "model_id": "32116eb5ead64b88b19e565f6a2562f3",
       "version_major": 2,
       "version_minor": 0
      },
      "text/plain": [
       "  0%|          | 0/1 [00:00<?, ?it/s]"
      ]
     },
     "metadata": {},
     "output_type": "display_data"
    },
    {
     "name": "stdout",
     "output_type": "stream",
     "text": [
      "CSPR = 9.00 dB\n",
      "12500/12500 [==============================] - 81s 6ms/step\n",
      "Results:\n",
      "BER: 4.87e-01\n",
      "SNR: 0.02 dB\n",
      "SIR =  5.59  dB\n",
      "GMI: -0.06 bits\n",
      "\n"
     ]
    },
    {
     "data": {
      "application/vnd.jupyter.widget-view+json": {
       "model_id": "3664d99a06bb402ba85239b73409f136",
       "version_major": 2,
       "version_minor": 0
      },
      "text/plain": [
       "  0%|          | 0/1 [00:00<?, ?it/s]"
      ]
     },
     "metadata": {},
     "output_type": "display_data"
    },
    {
     "name": "stdout",
     "output_type": "stream",
     "text": [
      "CSPR = 9.00 dB\n",
      "12500/12500 [==============================] - 78s 6ms/step\n",
      "Results:\n",
      "BER: 4.76e-01\n",
      "SNR: 0.05 dB\n",
      "SIR =  6.07  dB\n",
      "GMI: -0.06 bits\n",
      "\n"
     ]
    },
    {
     "data": {
      "application/vnd.jupyter.widget-view+json": {
       "model_id": "8359a565d59241638857bc4222a68c6e",
       "version_major": 2,
       "version_minor": 0
      },
      "text/plain": [
       "  0%|          | 0/1 [00:00<?, ?it/s]"
      ]
     },
     "metadata": {},
     "output_type": "display_data"
    },
    {
     "name": "stdout",
     "output_type": "stream",
     "text": [
      "CSPR = 9.00 dB\n",
      "12500/12500 [==============================] - 79s 6ms/step\n",
      "Results:\n",
      "BER: 4.87e-01\n",
      "SNR: 0.02 dB\n",
      "SIR =  6.48  dB\n",
      "GMI: -0.05 bits\n",
      "\n"
     ]
    },
    {
     "data": {
      "application/vnd.jupyter.widget-view+json": {
       "model_id": "1639ec1f8649458b9e9c93441377f295",
       "version_major": 2,
       "version_minor": 0
      },
      "text/plain": [
       "  0%|          | 0/1 [00:00<?, ?it/s]"
      ]
     },
     "metadata": {},
     "output_type": "display_data"
    },
    {
     "name": "stdout",
     "output_type": "stream",
     "text": [
      "CSPR = 9.00 dB\n",
      "12500/12500 [==============================] - 82s 7ms/step\n",
      "Results:\n",
      "BER: 4.32e-01\n",
      "SNR: 0.45 dB\n",
      "SIR =  7.01  dB\n",
      "GMI: 0.02 bits\n",
      "\n"
     ]
    },
    {
     "data": {
      "application/vnd.jupyter.widget-view+json": {
       "model_id": "2e7cbd387fe747d193cd6143485c9f1e",
       "version_major": 2,
       "version_minor": 0
      },
      "text/plain": [
       "  0%|          | 0/1 [00:00<?, ?it/s]"
      ]
     },
     "metadata": {},
     "output_type": "display_data"
    },
    {
     "name": "stdout",
     "output_type": "stream",
     "text": [
      "CSPR = 9.00 dB\n",
      "12500/12500 [==============================] - 84s 7ms/step\n",
      "Results:\n",
      "BER: 4.90e-01\n",
      "SNR: 0.01 dB\n",
      "SIR =  7.36  dB\n",
      "GMI: -0.06 bits\n",
      "\n"
     ]
    },
    {
     "data": {
      "application/vnd.jupyter.widget-view+json": {
       "model_id": "cd21f045dbe046628f96f5cb26690525",
       "version_major": 2,
       "version_minor": 0
      },
      "text/plain": [
       "  0%|          | 0/1 [00:00<?, ?it/s]"
      ]
     },
     "metadata": {},
     "output_type": "display_data"
    },
    {
     "name": "stdout",
     "output_type": "stream",
     "text": [
      "CSPR = 9.00 dB\n",
      "12500/12500 [==============================] - 82s 7ms/step\n",
      "Results:\n",
      "BER: 4.21e-01\n",
      "SNR: 0.62 dB\n",
      "SIR =  7.86  dB\n",
      "GMI: 0.07 bits\n",
      "\n"
     ]
    },
    {
     "data": {
      "application/vnd.jupyter.widget-view+json": {
       "model_id": "3fe6a714ce5643289ae71ced3e0a2357",
       "version_major": 2,
       "version_minor": 0
      },
      "text/plain": [
       "  0%|          | 0/1 [00:00<?, ?it/s]"
      ]
     },
     "metadata": {},
     "output_type": "display_data"
    },
    {
     "name": "stdout",
     "output_type": "stream",
     "text": [
      "CSPR = 9.00 dB\n",
      "12500/12500 [==============================] - 82s 7ms/step\n",
      "Results:\n",
      "BER: 3.94e-01\n",
      "SNR: 0.90 dB\n",
      "SIR =  8.26  dB\n",
      "GMI: 0.17 bits\n",
      "\n"
     ]
    },
    {
     "data": {
      "application/vnd.jupyter.widget-view+json": {
       "model_id": "5b2a05bd168343f8a6ea120564b513e5",
       "version_major": 2,
       "version_minor": 0
      },
      "text/plain": [
       "  0%|          | 0/1 [00:00<?, ?it/s]"
      ]
     },
     "metadata": {},
     "output_type": "display_data"
    },
    {
     "name": "stdout",
     "output_type": "stream",
     "text": [
      "CSPR = 9.00 dB\n",
      "12500/12500 [==============================] - 80s 6ms/step\n",
      "Results:\n",
      "BER: 1.76e-01\n",
      "SNR: 4.51 dB\n",
      "SIR =  8.6  dB\n",
      "GMI: 1.46 bits\n",
      "\n"
     ]
    },
    {
     "data": {
      "application/vnd.jupyter.widget-view+json": {
       "model_id": "01394bf687174b2285baadd14b89244f",
       "version_major": 2,
       "version_minor": 0
      },
      "text/plain": [
       "  0%|          | 0/1 [00:00<?, ?it/s]"
      ]
     },
     "metadata": {},
     "output_type": "display_data"
    },
    {
     "name": "stdout",
     "output_type": "stream",
     "text": [
      "CSPR = 9.00 dB\n",
      "12500/12500 [==============================] - 80s 6ms/step\n",
      "Results:\n",
      "BER: 5.52e-02\n",
      "SNR: 10.47 dB\n",
      "SIR =  9.0  dB\n",
      "GMI: 3.20 bits\n",
      "\n"
     ]
    },
    {
     "data": {
      "application/vnd.jupyter.widget-view+json": {
       "model_id": "f55e81e1b9164a45ac87c67603075ae5",
       "version_major": 2,
       "version_minor": 0
      },
      "text/plain": [
       "  0%|          | 0/1 [00:00<?, ?it/s]"
      ]
     },
     "metadata": {},
     "output_type": "display_data"
    },
    {
     "name": "stdout",
     "output_type": "stream",
     "text": [
      "CSPR = 9.00 dB\n",
      "12500/12500 [==============================] - 84s 7ms/step\n",
      "Results:\n",
      "BER: 4.32e-02\n",
      "SNR: 11.19 dB\n",
      "SIR =  9.36  dB\n",
      "GMI: 3.36 bits\n",
      "\n"
     ]
    },
    {
     "data": {
      "application/vnd.jupyter.widget-view+json": {
       "model_id": "5c1348d05c5b4188a2043cad48f5b0f6",
       "version_major": 2,
       "version_minor": 0
      },
      "text/plain": [
       "  0%|          | 0/1 [00:00<?, ?it/s]"
      ]
     },
     "metadata": {},
     "output_type": "display_data"
    },
    {
     "name": "stdout",
     "output_type": "stream",
     "text": [
      "CSPR = 9.00 dB\n",
      "12500/12500 [==============================] - 84s 7ms/step\n",
      "Results:\n",
      "BER: 3.23e-02\n",
      "SNR: 11.88 dB\n",
      "SIR =  9.64  dB\n",
      "GMI: 3.52 bits\n",
      "\n"
     ]
    },
    {
     "data": {
      "application/vnd.jupyter.widget-view+json": {
       "model_id": "2665676bd56c4d5bb4449413e8b12ded",
       "version_major": 2,
       "version_minor": 0
      },
      "text/plain": [
       "  0%|          | 0/1 [00:00<?, ?it/s]"
      ]
     },
     "metadata": {},
     "output_type": "display_data"
    },
    {
     "name": "stdout",
     "output_type": "stream",
     "text": [
      "CSPR = 9.00 dB\n",
      "12500/12500 [==============================] - 85s 7ms/step\n",
      "Results:\n",
      "BER: 2.35e-02\n",
      "SNR: 12.54 dB\n",
      "SIR =  10.06  dB\n",
      "GMI: 3.64 bits\n",
      "\n"
     ]
    },
    {
     "data": {
      "application/vnd.jupyter.widget-view+json": {
       "model_id": "8d2b92c30215455d8c99e747e7b23253",
       "version_major": 2,
       "version_minor": 0
      },
      "text/plain": [
       "  0%|          | 0/1 [00:00<?, ?it/s]"
      ]
     },
     "metadata": {},
     "output_type": "display_data"
    },
    {
     "name": "stdout",
     "output_type": "stream",
     "text": [
      "CSPR = 9.00 dB\n",
      "12500/12500 [==============================] - 83s 7ms/step\n",
      "Results:\n",
      "BER: 1.80e-02\n",
      "SNR: 13.07 dB\n",
      "SIR =  10.31  dB\n",
      "GMI: 3.72 bits\n",
      "\n"
     ]
    },
    {
     "data": {
      "application/vnd.jupyter.widget-view+json": {
       "model_id": "c7f1790884214bc8bc65c4bfa26e5690",
       "version_major": 2,
       "version_minor": 0
      },
      "text/plain": [
       "  0%|          | 0/1 [00:00<?, ?it/s]"
      ]
     },
     "metadata": {},
     "output_type": "display_data"
    },
    {
     "name": "stdout",
     "output_type": "stream",
     "text": [
      "CSPR = 9.00 dB\n",
      "12500/12500 [==============================] - 80s 6ms/step\n",
      "Results:\n",
      "BER: 1.30e-02\n",
      "SNR: 13.65 dB\n",
      "SIR =  10.53  dB\n",
      "GMI: 3.79 bits\n",
      "\n"
     ]
    },
    {
     "data": {
      "application/vnd.jupyter.widget-view+json": {
       "model_id": "a24ce96f59f64af28b1975fa3c30106e",
       "version_major": 2,
       "version_minor": 0
      },
      "text/plain": [
       "  0%|          | 0/1 [00:00<?, ?it/s]"
      ]
     },
     "metadata": {},
     "output_type": "display_data"
    },
    {
     "name": "stdout",
     "output_type": "stream",
     "text": [
      "CSPR = 9.00 dB\n",
      "12500/12500 [==============================] - 80s 6ms/step\n",
      "Results:\n",
      "BER: 9.36e-03\n",
      "SNR: 14.20 dB\n",
      "SIR =  10.84  dB\n",
      "GMI: 3.85 bits\n",
      "\n"
     ]
    },
    {
     "data": {
      "application/vnd.jupyter.widget-view+json": {
       "model_id": "423e9af6ea454a5faf08f0f2b8c88d29",
       "version_major": 2,
       "version_minor": 0
      },
      "text/plain": [
       "  0%|          | 0/1 [00:00<?, ?it/s]"
      ]
     },
     "metadata": {},
     "output_type": "display_data"
    },
    {
     "name": "stdout",
     "output_type": "stream",
     "text": [
      "CSPR = 9.00 dB\n",
      "12500/12500 [==============================] - 84s 7ms/step\n",
      "Results:\n",
      "BER: 7.07e-03\n",
      "SNR: 14.66 dB\n",
      "SIR =  11.03  dB\n",
      "GMI: 3.89 bits\n",
      "\n"
     ]
    },
    {
     "data": {
      "application/vnd.jupyter.widget-view+json": {
       "model_id": "035a386e906940f5a7266ba735c77a8f",
       "version_major": 2,
       "version_minor": 0
      },
      "text/plain": [
       "  0%|          | 0/17 [00:00<?, ?it/s]"
      ]
     },
     "metadata": {},
     "output_type": "display_data"
    },
    {
     "data": {
      "application/vnd.jupyter.widget-view+json": {
       "model_id": "0441144f661d4489b6ff89d4a7f4b71e",
       "version_major": 2,
       "version_minor": 0
      },
      "text/plain": [
       "  0%|          | 0/1 [00:00<?, ?it/s]"
      ]
     },
     "metadata": {},
     "output_type": "display_data"
    },
    {
     "name": "stdout",
     "output_type": "stream",
     "text": [
      "CSPR = 10.00 dB\n",
      "12500/12500 [==============================] - 86s 7ms/step\n",
      "Results:\n",
      "BER: 4.78e-01\n",
      "SNR: 0.06 dB\n",
      "SIR =  4.76  dB\n",
      "GMI: -0.06 bits\n",
      "\n"
     ]
    },
    {
     "data": {
      "application/vnd.jupyter.widget-view+json": {
       "model_id": "cbc1f0dc88c141bf9c8ccc5a59590aa3",
       "version_major": 2,
       "version_minor": 0
      },
      "text/plain": [
       "  0%|          | 0/1 [00:00<?, ?it/s]"
      ]
     },
     "metadata": {},
     "output_type": "display_data"
    },
    {
     "name": "stdout",
     "output_type": "stream",
     "text": [
      "CSPR = 10.00 dB\n",
      "12500/12500 [==============================] - 86s 7ms/step\n",
      "Results:\n",
      "BER: 4.85e-01\n",
      "SNR: 0.02 dB\n",
      "SIR =  5.27  dB\n",
      "GMI: -0.06 bits\n",
      "\n"
     ]
    },
    {
     "data": {
      "application/vnd.jupyter.widget-view+json": {
       "model_id": "aa164728d1374a62af98ad7e47834b08",
       "version_major": 2,
       "version_minor": 0
      },
      "text/plain": [
       "  0%|          | 0/1 [00:00<?, ?it/s]"
      ]
     },
     "metadata": {},
     "output_type": "display_data"
    },
    {
     "name": "stdout",
     "output_type": "stream",
     "text": [
      "CSPR = 10.00 dB\n",
      "12500/12500 [==============================] - 83s 7ms/step\n",
      "Results:\n",
      "BER: 4.89e-01\n",
      "SNR: 0.01 dB\n",
      "SIR =  5.72  dB\n",
      "GMI: -0.06 bits\n",
      "\n"
     ]
    },
    {
     "data": {
      "application/vnd.jupyter.widget-view+json": {
       "model_id": "2e53f54c0ffd42bd94b49ba66f40f279",
       "version_major": 2,
       "version_minor": 0
      },
      "text/plain": [
       "  0%|          | 0/1 [00:00<?, ?it/s]"
      ]
     },
     "metadata": {},
     "output_type": "display_data"
    },
    {
     "name": "stdout",
     "output_type": "stream",
     "text": [
      "CSPR = 10.00 dB\n",
      "12500/12500 [==============================] - 82s 7ms/step\n",
      "Results:\n",
      "BER: 4.39e-01\n",
      "SNR: 0.45 dB\n",
      "SIR =  6.18  dB\n",
      "GMI: 0.03 bits\n",
      "\n"
     ]
    },
    {
     "data": {
      "application/vnd.jupyter.widget-view+json": {
       "model_id": "a71057602c2249c69d6f360661b4c804",
       "version_major": 2,
       "version_minor": 0
      },
      "text/plain": [
       "  0%|          | 0/1 [00:00<?, ?it/s]"
      ]
     },
     "metadata": {},
     "output_type": "display_data"
    },
    {
     "name": "stdout",
     "output_type": "stream",
     "text": [
      "CSPR = 10.00 dB\n",
      "12500/12500 [==============================] - 85s 7ms/step\n",
      "Results:\n",
      "BER: 4.83e-01\n",
      "SNR: 0.03 dB\n",
      "SIR =  6.72  dB\n",
      "GMI: -0.06 bits\n",
      "\n"
     ]
    },
    {
     "data": {
      "application/vnd.jupyter.widget-view+json": {
       "model_id": "f1e6655b48dc4484a70dfa66653cf758",
       "version_major": 2,
       "version_minor": 0
      },
      "text/plain": [
       "  0%|          | 0/1 [00:00<?, ?it/s]"
      ]
     },
     "metadata": {},
     "output_type": "display_data"
    },
    {
     "name": "stdout",
     "output_type": "stream",
     "text": [
      "CSPR = 10.00 dB\n",
      "12500/12500 [==============================] - 89s 7ms/step\n",
      "Results:\n",
      "BER: 4.73e-01\n",
      "SNR: 0.06 dB\n",
      "SIR =  7.17  dB\n",
      "GMI: -0.05 bits\n",
      "\n"
     ]
    },
    {
     "data": {
      "application/vnd.jupyter.widget-view+json": {
       "model_id": "f1a5f6f51c784899a9c2fa674182e32b",
       "version_major": 2,
       "version_minor": 0
      },
      "text/plain": [
       "  0%|          | 0/1 [00:00<?, ?it/s]"
      ]
     },
     "metadata": {},
     "output_type": "display_data"
    },
    {
     "name": "stdout",
     "output_type": "stream",
     "text": [
      "CSPR = 10.00 dB\n",
      "12500/12500 [==============================] - 87s 7ms/step\n",
      "Results:\n",
      "BER: 3.40e-01\n",
      "SNR: 1.50 dB\n",
      "SIR =  7.63  dB\n",
      "GMI: 0.35 bits\n",
      "\n"
     ]
    },
    {
     "data": {
      "application/vnd.jupyter.widget-view+json": {
       "model_id": "d11a750a0fce4586b95f81e6d1e58d0f",
       "version_major": 2,
       "version_minor": 0
      },
      "text/plain": [
       "  0%|          | 0/1 [00:00<?, ?it/s]"
      ]
     },
     "metadata": {},
     "output_type": "display_data"
    },
    {
     "name": "stdout",
     "output_type": "stream",
     "text": [
      "CSPR = 10.00 dB\n",
      "12500/12500 [==============================] - 86s 7ms/step\n",
      "Results:\n",
      "BER: 3.50e-01\n",
      "SNR: 1.34 dB\n",
      "SIR =  8.14  dB\n",
      "GMI: 0.32 bits\n",
      "\n"
     ]
    },
    {
     "data": {
      "application/vnd.jupyter.widget-view+json": {
       "model_id": "6a8d7e32afe6421c96477ea75cc833b4",
       "version_major": 2,
       "version_minor": 0
      },
      "text/plain": [
       "  0%|          | 0/1 [00:00<?, ?it/s]"
      ]
     },
     "metadata": {},
     "output_type": "display_data"
    },
    {
     "name": "stdout",
     "output_type": "stream",
     "text": [
      "CSPR = 10.00 dB\n",
      "12500/12500 [==============================] - 83s 7ms/step\n",
      "Results:\n",
      "BER: 6.11e-02\n",
      "SNR: 10.20 dB\n",
      "SIR =  8.6  dB\n",
      "GMI: 3.12 bits\n",
      "\n"
     ]
    },
    {
     "data": {
      "application/vnd.jupyter.widget-view+json": {
       "model_id": "bcb912df0dc943bfb23e97fbb2c66756",
       "version_major": 2,
       "version_minor": 0
      },
      "text/plain": [
       "  0%|          | 0/1 [00:00<?, ?it/s]"
      ]
     },
     "metadata": {},
     "output_type": "display_data"
    },
    {
     "name": "stdout",
     "output_type": "stream",
     "text": [
      "CSPR = 10.00 dB\n",
      "12500/12500 [==============================] - 84s 7ms/step\n",
      "Results:\n",
      "BER: 4.68e-02\n",
      "SNR: 10.99 dB\n",
      "SIR =  9.05  dB\n",
      "GMI: 3.32 bits\n",
      "\n"
     ]
    },
    {
     "data": {
      "application/vnd.jupyter.widget-view+json": {
       "model_id": "a26d72a9609644fb9ce0429e6b20d8ab",
       "version_major": 2,
       "version_minor": 0
      },
      "text/plain": [
       "  0%|          | 0/1 [00:00<?, ?it/s]"
      ]
     },
     "metadata": {},
     "output_type": "display_data"
    },
    {
     "name": "stdout",
     "output_type": "stream",
     "text": [
      "CSPR = 10.00 dB\n",
      "12500/12500 [==============================] - 86s 7ms/step\n",
      "Results:\n",
      "BER: 3.47e-02\n",
      "SNR: 11.73 dB\n",
      "SIR =  9.47  dB\n",
      "GMI: 3.49 bits\n",
      "\n"
     ]
    },
    {
     "data": {
      "application/vnd.jupyter.widget-view+json": {
       "model_id": "01f12e34296a4b28a88563cadf864112",
       "version_major": 2,
       "version_minor": 0
      },
      "text/plain": [
       "  0%|          | 0/1 [00:00<?, ?it/s]"
      ]
     },
     "metadata": {},
     "output_type": "display_data"
    },
    {
     "name": "stdout",
     "output_type": "stream",
     "text": [
      "CSPR = 10.00 dB\n",
      "12500/12500 [==============================] - 88s 7ms/step\n",
      "Results:\n",
      "BER: 2.48e-02\n",
      "SNR: 12.43 dB\n",
      "SIR =  9.83  dB\n",
      "GMI: 3.62 bits\n",
      "\n"
     ]
    },
    {
     "data": {
      "application/vnd.jupyter.widget-view+json": {
       "model_id": "f3618862595d40e1ad5e95d96155a0d0",
       "version_major": 2,
       "version_minor": 0
      },
      "text/plain": [
       "  0%|          | 0/1 [00:00<?, ?it/s]"
      ]
     },
     "metadata": {},
     "output_type": "display_data"
    },
    {
     "name": "stdout",
     "output_type": "stream",
     "text": [
      "CSPR = 10.00 dB\n",
      "12500/12500 [==============================] - 87s 7ms/step\n",
      "Results:\n",
      "BER: 1.76e-02\n",
      "SNR: 13.12 dB\n",
      "SIR =  10.31  dB\n",
      "GMI: 3.73 bits\n",
      "\n"
     ]
    },
    {
     "data": {
      "application/vnd.jupyter.widget-view+json": {
       "model_id": "a992a60765554974a52575f11bb603b5",
       "version_major": 2,
       "version_minor": 0
      },
      "text/plain": [
       "  0%|          | 0/1 [00:00<?, ?it/s]"
      ]
     },
     "metadata": {},
     "output_type": "display_data"
    },
    {
     "name": "stdout",
     "output_type": "stream",
     "text": [
      "CSPR = 10.00 dB\n",
      "12500/12500 [==============================] - 86s 7ms/step\n",
      "Results:\n",
      "BER: 1.19e-02\n",
      "SNR: 13.76 dB\n",
      "SIR =  10.64  dB\n",
      "GMI: 3.81 bits\n",
      "\n"
     ]
    },
    {
     "data": {
      "application/vnd.jupyter.widget-view+json": {
       "model_id": "474019c41b014d2cb088dde1ddf6d3ed",
       "version_major": 2,
       "version_minor": 0
      },
      "text/plain": [
       "  0%|          | 0/1 [00:00<?, ?it/s]"
      ]
     },
     "metadata": {},
     "output_type": "display_data"
    },
    {
     "name": "stdout",
     "output_type": "stream",
     "text": [
      "CSPR = 10.00 dB\n",
      "12500/12500 [==============================] - 86s 7ms/step\n",
      "Results:\n",
      "BER: 8.20e-03\n",
      "SNR: 14.35 dB\n",
      "SIR =  10.91  dB\n",
      "GMI: 3.87 bits\n",
      "\n"
     ]
    },
    {
     "data": {
      "application/vnd.jupyter.widget-view+json": {
       "model_id": "3de20ecf2261485e808f9bc783d95584",
       "version_major": 2,
       "version_minor": 0
      },
      "text/plain": [
       "  0%|          | 0/1 [00:00<?, ?it/s]"
      ]
     },
     "metadata": {},
     "output_type": "display_data"
    },
    {
     "name": "stdout",
     "output_type": "stream",
     "text": [
      "CSPR = 10.00 dB\n",
      "12500/12500 [==============================] - 87s 7ms/step\n",
      "Results:\n",
      "BER: 5.53e-03\n",
      "SNR: 14.92 dB\n",
      "SIR =  11.23  dB\n",
      "GMI: 3.91 bits\n",
      "\n"
     ]
    },
    {
     "data": {
      "application/vnd.jupyter.widget-view+json": {
       "model_id": "4b7f4552fddb45dfb8e6369333c1a4d6",
       "version_major": 2,
       "version_minor": 0
      },
      "text/plain": [
       "  0%|          | 0/1 [00:00<?, ?it/s]"
      ]
     },
     "metadata": {},
     "output_type": "display_data"
    },
    {
     "name": "stdout",
     "output_type": "stream",
     "text": [
      "CSPR = 10.00 dB\n",
      "12500/12500 [==============================] - 88s 7ms/step\n",
      "Results:\n",
      "BER: 3.84e-03\n",
      "SNR: 15.43 dB\n",
      "SIR =  11.49  dB\n",
      "GMI: 3.94 bits\n",
      "\n"
     ]
    },
    {
     "data": {
      "application/vnd.jupyter.widget-view+json": {
       "model_id": "853fa3abd5ce4727861a61870bdcce1b",
       "version_major": 2,
       "version_minor": 0
      },
      "text/plain": [
       "  0%|          | 0/17 [00:00<?, ?it/s]"
      ]
     },
     "metadata": {},
     "output_type": "display_data"
    },
    {
     "data": {
      "application/vnd.jupyter.widget-view+json": {
       "model_id": "2c7f49ea9a804b24a76401e0307ff377",
       "version_major": 2,
       "version_minor": 0
      },
      "text/plain": [
       "  0%|          | 0/1 [00:00<?, ?it/s]"
      ]
     },
     "metadata": {},
     "output_type": "display_data"
    },
    {
     "name": "stdout",
     "output_type": "stream",
     "text": [
      "CSPR = 11.00 dB\n",
      "12500/12500 [==============================] - 89s 7ms/step\n",
      "Results:\n",
      "BER: 4.68e-01\n",
      "SNR: 0.09 dB\n",
      "SIR =  6.15  dB\n",
      "GMI: -0.05 bits\n",
      "\n"
     ]
    },
    {
     "data": {
      "application/vnd.jupyter.widget-view+json": {
       "model_id": "4ba96f4a8558446a9abf33f40e345ce1",
       "version_major": 2,
       "version_minor": 0
      },
      "text/plain": [
       "  0%|          | 0/1 [00:00<?, ?it/s]"
      ]
     },
     "metadata": {},
     "output_type": "display_data"
    },
    {
     "name": "stdout",
     "output_type": "stream",
     "text": [
      "CSPR = 11.00 dB\n",
      "12500/12500 [==============================] - 86s 7ms/step\n",
      "Results:\n",
      "BER: 4.73e-01\n",
      "SNR: 0.09 dB\n",
      "SIR =  6.73  dB\n",
      "GMI: -0.06 bits\n",
      "\n"
     ]
    },
    {
     "data": {
      "application/vnd.jupyter.widget-view+json": {
       "model_id": "c6d7cb5335ab408f9eb09e33c6219637",
       "version_major": 2,
       "version_minor": 0
      },
      "text/plain": [
       "  0%|          | 0/1 [00:00<?, ?it/s]"
      ]
     },
     "metadata": {},
     "output_type": "display_data"
    },
    {
     "name": "stdout",
     "output_type": "stream",
     "text": [
      "CSPR = 11.00 dB\n",
      "12500/12500 [==============================] - 88s 7ms/step\n",
      "Results:\n",
      "BER: 4.77e-01\n",
      "SNR: 0.06 dB\n",
      "SIR =  7.3  dB\n",
      "GMI: -0.05 bits\n",
      "\n"
     ]
    },
    {
     "data": {
      "application/vnd.jupyter.widget-view+json": {
       "model_id": "2e86357e3f2541798d6151f95f04ae2f",
       "version_major": 2,
       "version_minor": 0
      },
      "text/plain": [
       "  0%|          | 0/1 [00:00<?, ?it/s]"
      ]
     },
     "metadata": {},
     "output_type": "display_data"
    },
    {
     "name": "stdout",
     "output_type": "stream",
     "text": [
      "CSPR = 11.00 dB\n",
      "12500/12500 [==============================] - 86s 7ms/step\n",
      "Results:\n",
      "BER: 4.88e-01\n",
      "SNR: 0.02 dB\n",
      "SIR =  7.85  dB\n",
      "GMI: -0.06 bits\n",
      "\n"
     ]
    },
    {
     "data": {
      "application/vnd.jupyter.widget-view+json": {
       "model_id": "2e8efe32b9874842ab437a131a3588bb",
       "version_major": 2,
       "version_minor": 0
      },
      "text/plain": [
       "  0%|          | 0/1 [00:00<?, ?it/s]"
      ]
     },
     "metadata": {},
     "output_type": "display_data"
    },
    {
     "name": "stdout",
     "output_type": "stream",
     "text": [
      "CSPR = 11.00 dB\n",
      "12500/12500 [==============================] - 86s 7ms/step\n",
      "Results:\n",
      "BER: 4.55e-01\n",
      "SNR: 0.18 dB\n",
      "SIR =  8.37  dB\n",
      "GMI: -0.04 bits\n",
      "\n"
     ]
    },
    {
     "data": {
      "application/vnd.jupyter.widget-view+json": {
       "model_id": "784693a497ef4f96989660e882d3b3c1",
       "version_major": 2,
       "version_minor": 0
      },
      "text/plain": [
       "  0%|          | 0/1 [00:00<?, ?it/s]"
      ]
     },
     "metadata": {},
     "output_type": "display_data"
    },
    {
     "name": "stdout",
     "output_type": "stream",
     "text": [
      "CSPR = 11.00 dB\n",
      "12500/12500 [==============================] - 92s 7ms/step\n",
      "Results:\n",
      "BER: 3.92e-01\n",
      "SNR: 0.94 dB\n",
      "SIR =  8.85  dB\n",
      "GMI: 0.15 bits\n",
      "\n"
     ]
    },
    {
     "data": {
      "application/vnd.jupyter.widget-view+json": {
       "model_id": "dcbf01f2a28346c394b743aba74dcfae",
       "version_major": 2,
       "version_minor": 0
      },
      "text/plain": [
       "  0%|          | 0/1 [00:00<?, ?it/s]"
      ]
     },
     "metadata": {},
     "output_type": "display_data"
    },
    {
     "name": "stdout",
     "output_type": "stream",
     "text": [
      "CSPR = 11.00 dB\n",
      "12500/12500 [==============================] - 91s 7ms/step\n",
      "Results:\n",
      "BER: 4.35e-01\n",
      "SNR: 0.43 dB\n",
      "SIR =  9.37  dB\n",
      "GMI: 0.02 bits\n",
      "\n"
     ]
    },
    {
     "data": {
      "application/vnd.jupyter.widget-view+json": {
       "model_id": "bf4c09299fe64349a8cdcfe81337039a",
       "version_major": 2,
       "version_minor": 0
      },
      "text/plain": [
       "  0%|          | 0/1 [00:00<?, ?it/s]"
      ]
     },
     "metadata": {},
     "output_type": "display_data"
    },
    {
     "name": "stdout",
     "output_type": "stream",
     "text": [
      "CSPR = 11.00 dB\n",
      "12500/12500 [==============================] - 91s 7ms/step\n",
      "Results:\n",
      "BER: 4.04e-01\n",
      "SNR: 0.86 dB\n",
      "SIR =  9.85  dB\n",
      "GMI: 0.14 bits\n",
      "\n"
     ]
    },
    {
     "data": {
      "application/vnd.jupyter.widget-view+json": {
       "model_id": "8ef0c5a6efad48a2972bbc66dc0910a0",
       "version_major": 2,
       "version_minor": 0
      },
      "text/plain": [
       "  0%|          | 0/1 [00:00<?, ?it/s]"
      ]
     },
     "metadata": {},
     "output_type": "display_data"
    },
    {
     "name": "stdout",
     "output_type": "stream",
     "text": [
      "CSPR = 11.00 dB\n",
      "12500/12500 [==============================] - 90s 7ms/step\n",
      "Results:\n",
      "BER: 3.12e-01\n",
      "SNR: 2.65 dB\n",
      "SIR =  10.28  dB\n",
      "GMI: 0.63 bits\n",
      "\n"
     ]
    },
    {
     "data": {
      "application/vnd.jupyter.widget-view+json": {
       "model_id": "3650fc72f6994d2fbc0e0af125bf0e0b",
       "version_major": 2,
       "version_minor": 0
      },
      "text/plain": [
       "  0%|          | 0/1 [00:00<?, ?it/s]"
      ]
     },
     "metadata": {},
     "output_type": "display_data"
    },
    {
     "name": "stdout",
     "output_type": "stream",
     "text": [
      "CSPR = 11.00 dB\n",
      "12500/12500 [==============================] - 89s 7ms/step\n",
      "Results:\n",
      "BER: 4.94e-02\n",
      "SNR: 10.83 dB\n",
      "SIR =  10.71  dB\n",
      "GMI: 3.28 bits\n",
      "\n"
     ]
    },
    {
     "data": {
      "application/vnd.jupyter.widget-view+json": {
       "model_id": "a818f6b4448047c0ba7f194ea9b77c0d",
       "version_major": 2,
       "version_minor": 0
      },
      "text/plain": [
       "  0%|          | 0/1 [00:00<?, ?it/s]"
      ]
     },
     "metadata": {},
     "output_type": "display_data"
    },
    {
     "name": "stdout",
     "output_type": "stream",
     "text": [
      "CSPR = 11.00 dB\n",
      "12500/12500 [==============================] - 87s 7ms/step\n",
      "Results:\n",
      "BER: 3.76e-02\n",
      "SNR: 11.56 dB\n",
      "SIR =  11.14  dB\n",
      "GMI: 3.45 bits\n",
      "\n"
     ]
    },
    {
     "data": {
      "application/vnd.jupyter.widget-view+json": {
       "model_id": "a94c46b784c44216a6d6a282d28ca135",
       "version_major": 2,
       "version_minor": 0
      },
      "text/plain": [
       "  0%|          | 0/1 [00:00<?, ?it/s]"
      ]
     },
     "metadata": {},
     "output_type": "display_data"
    },
    {
     "name": "stdout",
     "output_type": "stream",
     "text": [
      "CSPR = 11.00 dB\n",
      "12500/12500 [==============================] - 92s 7ms/step\n",
      "Results:\n",
      "BER: 2.81e-02\n",
      "SNR: 12.18 dB\n",
      "SIR =  11.48  dB\n",
      "GMI: 3.58 bits\n",
      "\n"
     ]
    },
    {
     "data": {
      "application/vnd.jupyter.widget-view+json": {
       "model_id": "de61d372a51c46919d74474768d925cc",
       "version_major": 2,
       "version_minor": 0
      },
      "text/plain": [
       "  0%|          | 0/1 [00:00<?, ?it/s]"
      ]
     },
     "metadata": {},
     "output_type": "display_data"
    },
    {
     "name": "stdout",
     "output_type": "stream",
     "text": [
      "CSPR = 11.00 dB\n",
      "12500/12500 [==============================] - 92s 7ms/step\n",
      "Results:\n",
      "BER: 2.07e-02\n",
      "SNR: 12.82 dB\n",
      "SIR =  11.85  dB\n",
      "GMI: 3.68 bits\n",
      "\n"
     ]
    },
    {
     "data": {
      "application/vnd.jupyter.widget-view+json": {
       "model_id": "8e602d557a414f0996315d6f20d2a94c",
       "version_major": 2,
       "version_minor": 0
      },
      "text/plain": [
       "  0%|          | 0/1 [00:00<?, ?it/s]"
      ]
     },
     "metadata": {},
     "output_type": "display_data"
    },
    {
     "name": "stdout",
     "output_type": "stream",
     "text": [
      "CSPR = 11.00 dB\n",
      "12500/12500 [==============================] - 90s 7ms/step\n",
      "Results:\n",
      "BER: 1.46e-02\n",
      "SNR: 13.43 dB\n",
      "SIR =  12.22  dB\n",
      "GMI: 3.77 bits\n",
      "\n"
     ]
    },
    {
     "data": {
      "application/vnd.jupyter.widget-view+json": {
       "model_id": "70b3d325260248d4be44411e23018c8e",
       "version_major": 2,
       "version_minor": 0
      },
      "text/plain": [
       "  0%|          | 0/1 [00:00<?, ?it/s]"
      ]
     },
     "metadata": {},
     "output_type": "display_data"
    },
    {
     "name": "stdout",
     "output_type": "stream",
     "text": [
      "CSPR = 11.00 dB\n",
      "12500/12500 [==============================] - 90s 7ms/step\n",
      "Results:\n",
      "BER: 1.04e-02\n",
      "SNR: 13.96 dB\n",
      "SIR =  12.51  dB\n",
      "GMI: 3.83 bits\n",
      "\n"
     ]
    },
    {
     "data": {
      "application/vnd.jupyter.widget-view+json": {
       "model_id": "e76cba1312674b6cb74f44a4386e6462",
       "version_major": 2,
       "version_minor": 0
      },
      "text/plain": [
       "  0%|          | 0/1 [00:00<?, ?it/s]"
      ]
     },
     "metadata": {},
     "output_type": "display_data"
    },
    {
     "name": "stdout",
     "output_type": "stream",
     "text": [
      "CSPR = 11.00 dB\n",
      "12500/12500 [==============================] - 88s 7ms/step\n",
      "Results:\n",
      "BER: 7.46e-03\n",
      "SNR: 14.53 dB\n",
      "SIR =  12.85  dB\n",
      "GMI: 3.88 bits\n",
      "\n"
     ]
    },
    {
     "data": {
      "application/vnd.jupyter.widget-view+json": {
       "model_id": "7580f33ee7114f4c90caef587d77781b",
       "version_major": 2,
       "version_minor": 0
      },
      "text/plain": [
       "  0%|          | 0/1 [00:00<?, ?it/s]"
      ]
     },
     "metadata": {},
     "output_type": "display_data"
    },
    {
     "name": "stdout",
     "output_type": "stream",
     "text": [
      "CSPR = 11.00 dB\n",
      "12500/12500 [==============================] - 89s 7ms/step\n",
      "Results:\n",
      "BER: 5.22e-03\n",
      "SNR: 15.04 dB\n",
      "SIR =  13.17  dB\n",
      "GMI: 3.91 bits\n",
      "\n"
     ]
    },
    {
     "data": {
      "application/vnd.jupyter.widget-view+json": {
       "model_id": "22991741c63941d3a1622f7756e96bdc",
       "version_major": 2,
       "version_minor": 0
      },
      "text/plain": [
       "  0%|          | 0/17 [00:00<?, ?it/s]"
      ]
     },
     "metadata": {},
     "output_type": "display_data"
    },
    {
     "data": {
      "application/vnd.jupyter.widget-view+json": {
       "model_id": "1fb0ea26444e4f519ef1b96a994ac957",
       "version_major": 2,
       "version_minor": 0
      },
      "text/plain": [
       "  0%|          | 0/1 [00:00<?, ?it/s]"
      ]
     },
     "metadata": {},
     "output_type": "display_data"
    },
    {
     "name": "stdout",
     "output_type": "stream",
     "text": [
      "CSPR = 12.00 dB\n",
      "12500/12500 [==============================] - 92s 7ms/step\n",
      "Results:\n",
      "BER: 4.88e-01\n",
      "SNR: 0.02 dB\n",
      "SIR =  4.32  dB\n",
      "GMI: -0.06 bits\n",
      "\n"
     ]
    },
    {
     "data": {
      "application/vnd.jupyter.widget-view+json": {
       "model_id": "ae323245200246d2a02bff173243d2b5",
       "version_major": 2,
       "version_minor": 0
      },
      "text/plain": [
       "  0%|          | 0/1 [00:00<?, ?it/s]"
      ]
     },
     "metadata": {},
     "output_type": "display_data"
    },
    {
     "name": "stdout",
     "output_type": "stream",
     "text": [
      "CSPR = 12.00 dB\n",
      "12500/12500 [==============================] - 91s 7ms/step\n",
      "Results:\n",
      "BER: 4.79e-01\n",
      "SNR: 0.04 dB\n",
      "SIR =  4.74  dB\n",
      "GMI: -0.06 bits\n",
      "\n"
     ]
    },
    {
     "data": {
      "application/vnd.jupyter.widget-view+json": {
       "model_id": "957f9e114e794ebe82e1f473f2d13944",
       "version_major": 2,
       "version_minor": 0
      },
      "text/plain": [
       "  0%|          | 0/1 [00:00<?, ?it/s]"
      ]
     },
     "metadata": {},
     "output_type": "display_data"
    },
    {
     "name": "stdout",
     "output_type": "stream",
     "text": [
      "CSPR = 12.00 dB\n",
      "12500/12500 [==============================] - 91s 7ms/step\n",
      "Results:\n",
      "BER: 4.80e-01\n",
      "SNR: 0.04 dB\n",
      "SIR =  5.19  dB\n",
      "GMI: -0.06 bits\n",
      "\n"
     ]
    },
    {
     "data": {
      "application/vnd.jupyter.widget-view+json": {
       "model_id": "c2f828e8051b410d96db6377a53eea3a",
       "version_major": 2,
       "version_minor": 0
      },
      "text/plain": [
       "  0%|          | 0/1 [00:00<?, ?it/s]"
      ]
     },
     "metadata": {},
     "output_type": "display_data"
    },
    {
     "name": "stdout",
     "output_type": "stream",
     "text": [
      "CSPR = 12.00 dB\n",
      "12500/12500 [==============================] - 89s 7ms/step\n",
      "Results:\n",
      "BER: 4.54e-01\n",
      "SNR: 0.24 dB\n",
      "SIR =  5.58  dB\n",
      "GMI: -0.03 bits\n",
      "\n"
     ]
    },
    {
     "data": {
      "application/vnd.jupyter.widget-view+json": {
       "model_id": "24a468cbbe55457f94a40c14589baddb",
       "version_major": 2,
       "version_minor": 0
      },
      "text/plain": [
       "  0%|          | 0/1 [00:00<?, ?it/s]"
      ]
     },
     "metadata": {},
     "output_type": "display_data"
    },
    {
     "name": "stdout",
     "output_type": "stream",
     "text": [
      "CSPR = 12.00 dB\n",
      "12500/12500 [==============================] - 88s 7ms/step\n",
      "Results:\n",
      "BER: 4.60e-01\n",
      "SNR: 0.19 dB\n",
      "SIR =  6.05  dB\n",
      "GMI: -0.04 bits\n",
      "\n"
     ]
    },
    {
     "data": {
      "application/vnd.jupyter.widget-view+json": {
       "model_id": "911327f14d5247c48b5c1c710fc72236",
       "version_major": 2,
       "version_minor": 0
      },
      "text/plain": [
       "  0%|          | 0/1 [00:00<?, ?it/s]"
      ]
     },
     "metadata": {},
     "output_type": "display_data"
    },
    {
     "name": "stdout",
     "output_type": "stream",
     "text": [
      "CSPR = 12.00 dB\n",
      "12500/12500 [==============================] - 89s 7ms/step\n",
      "Results:\n",
      "BER: 4.65e-01\n",
      "SNR: 0.10 dB\n",
      "SIR =  6.51  dB\n",
      "GMI: -0.05 bits\n",
      "\n"
     ]
    },
    {
     "data": {
      "application/vnd.jupyter.widget-view+json": {
       "model_id": "761ce946731c43938569e3d94a740a58",
       "version_major": 2,
       "version_minor": 0
      },
      "text/plain": [
       "  0%|          | 0/1 [00:00<?, ?it/s]"
      ]
     },
     "metadata": {},
     "output_type": "display_data"
    },
    {
     "name": "stdout",
     "output_type": "stream",
     "text": [
      "CSPR = 12.00 dB\n",
      "12500/12500 [==============================] - 95s 8ms/step\n",
      "Results:\n",
      "BER: 4.01e-01\n",
      "SNR: 0.79 dB\n",
      "SIR =  6.96  dB\n",
      "GMI: 0.12 bits\n",
      "\n"
     ]
    },
    {
     "data": {
      "application/vnd.jupyter.widget-view+json": {
       "model_id": "b3e1900ac0044ef78090b4236e63448b",
       "version_major": 2,
       "version_minor": 0
      },
      "text/plain": [
       "  0%|          | 0/1 [00:00<?, ?it/s]"
      ]
     },
     "metadata": {},
     "output_type": "display_data"
    },
    {
     "name": "stdout",
     "output_type": "stream",
     "text": [
      "CSPR = 12.00 dB\n",
      "12500/12500 [==============================] - 94s 7ms/step\n",
      "Results:\n",
      "BER: 4.24e-01\n",
      "SNR: 0.65 dB\n",
      "SIR =  7.42  dB\n",
      "GMI: 0.07 bits\n",
      "\n"
     ]
    },
    {
     "data": {
      "application/vnd.jupyter.widget-view+json": {
       "model_id": "67332de242714533b9739080a8612fb7",
       "version_major": 2,
       "version_minor": 0
      },
      "text/plain": [
       "  0%|          | 0/1 [00:00<?, ?it/s]"
      ]
     },
     "metadata": {},
     "output_type": "display_data"
    },
    {
     "name": "stdout",
     "output_type": "stream",
     "text": [
      "CSPR = 12.00 dB\n",
      "12500/12500 [==============================] - 93s 7ms/step\n",
      "Results:\n",
      "BER: 3.03e-01\n",
      "SNR: 1.94 dB\n",
      "SIR =  7.82  dB\n",
      "GMI: 0.53 bits\n",
      "\n"
     ]
    },
    {
     "data": {
      "application/vnd.jupyter.widget-view+json": {
       "model_id": "8babb1ef0ff446e69cee8fafe3ef6ebc",
       "version_major": 2,
       "version_minor": 0
      },
      "text/plain": [
       "  0%|          | 0/1 [00:00<?, ?it/s]"
      ]
     },
     "metadata": {},
     "output_type": "display_data"
    },
    {
     "name": "stdout",
     "output_type": "stream",
     "text": [
      "CSPR = 12.00 dB\n",
      "12500/12500 [==============================] - 91s 7ms/step\n",
      "Results:\n",
      "BER: 6.06e-02\n",
      "SNR: 10.22 dB\n",
      "SIR =  8.22  dB\n",
      "GMI: 3.13 bits\n",
      "\n"
     ]
    },
    {
     "data": {
      "application/vnd.jupyter.widget-view+json": {
       "model_id": "27ee0ff011a44dd9981f8c7076807bab",
       "version_major": 2,
       "version_minor": 0
      },
      "text/plain": [
       "  0%|          | 0/1 [00:00<?, ?it/s]"
      ]
     },
     "metadata": {},
     "output_type": "display_data"
    },
    {
     "name": "stdout",
     "output_type": "stream",
     "text": [
      "CSPR = 12.00 dB\n",
      "12500/12500 [==============================] - 92s 7ms/step\n",
      "Results:\n",
      "BER: 4.84e-02\n",
      "SNR: 10.90 dB\n",
      "SIR =  8.62  dB\n",
      "GMI: 3.30 bits\n",
      "\n"
     ]
    },
    {
     "data": {
      "application/vnd.jupyter.widget-view+json": {
       "model_id": "ed1a0b44ab4948acb070ad68ce249137",
       "version_major": 2,
       "version_minor": 0
      },
      "text/plain": [
       "  0%|          | 0/1 [00:00<?, ?it/s]"
      ]
     },
     "metadata": {},
     "output_type": "display_data"
    },
    {
     "name": "stdout",
     "output_type": "stream",
     "text": [
      "CSPR = 12.00 dB\n",
      "12500/12500 [==============================] - 91s 7ms/step\n",
      "Results:\n",
      "BER: 3.61e-02\n",
      "SNR: 11.61 dB\n",
      "SIR =  9.04  dB\n",
      "GMI: 3.46 bits\n",
      "\n"
     ]
    },
    {
     "data": {
      "application/vnd.jupyter.widget-view+json": {
       "model_id": "967661f56c9b4effb036e74ca948214f",
       "version_major": 2,
       "version_minor": 0
      },
      "text/plain": [
       "  0%|          | 0/1 [00:00<?, ?it/s]"
      ]
     },
     "metadata": {},
     "output_type": "display_data"
    },
    {
     "name": "stdout",
     "output_type": "stream",
     "text": [
      "CSPR = 12.00 dB\n",
      "12500/12500 [==============================] - 96s 8ms/step\n",
      "Results:\n",
      "BER: 2.69e-02\n",
      "SNR: 12.29 dB\n",
      "SIR =  9.39  dB\n",
      "GMI: 3.59 bits\n",
      "\n"
     ]
    },
    {
     "data": {
      "application/vnd.jupyter.widget-view+json": {
       "model_id": "1ca7f79a399a4720b133cb0232ff615c",
       "version_major": 2,
       "version_minor": 0
      },
      "text/plain": [
       "  0%|          | 0/1 [00:00<?, ?it/s]"
      ]
     },
     "metadata": {},
     "output_type": "display_data"
    },
    {
     "name": "stdout",
     "output_type": "stream",
     "text": [
      "CSPR = 12.00 dB\n",
      "12500/12500 [==============================] - 97s 8ms/step\n",
      "Results:\n",
      "BER: 1.94e-02\n",
      "SNR: 12.90 dB\n",
      "SIR =  9.77  dB\n",
      "GMI: 3.70 bits\n",
      "\n"
     ]
    },
    {
     "data": {
      "application/vnd.jupyter.widget-view+json": {
       "model_id": "699e9fc6af7649fd875937b09c0581a8",
       "version_major": 2,
       "version_minor": 0
      },
      "text/plain": [
       "  0%|          | 0/1 [00:00<?, ?it/s]"
      ]
     },
     "metadata": {},
     "output_type": "display_data"
    },
    {
     "name": "stdout",
     "output_type": "stream",
     "text": [
      "CSPR = 12.00 dB\n",
      "12500/12500 [==============================] - 96s 8ms/step\n",
      "Results:\n",
      "BER: 1.43e-02\n",
      "SNR: 13.55 dB\n",
      "SIR =  10.08  dB\n",
      "GMI: 3.78 bits\n",
      "\n"
     ]
    },
    {
     "data": {
      "application/vnd.jupyter.widget-view+json": {
       "model_id": "4bc366f8635d445b86f305d57dedc04f",
       "version_major": 2,
       "version_minor": 0
      },
      "text/plain": [
       "  0%|          | 0/1 [00:00<?, ?it/s]"
      ]
     },
     "metadata": {},
     "output_type": "display_data"
    },
    {
     "name": "stdout",
     "output_type": "stream",
     "text": [
      "CSPR = 12.00 dB\n",
      "12500/12500 [==============================] - 93s 7ms/step\n",
      "Results:\n",
      "BER: 9.57e-03\n",
      "SNR: 14.12 dB\n",
      "SIR =  10.49  dB\n",
      "GMI: 3.85 bits\n",
      "\n"
     ]
    },
    {
     "data": {
      "application/vnd.jupyter.widget-view+json": {
       "model_id": "c303bb45de5c4bd5a96fff8e12c2c7f1",
       "version_major": 2,
       "version_minor": 0
      },
      "text/plain": [
       "  0%|          | 0/1 [00:00<?, ?it/s]"
      ]
     },
     "metadata": {},
     "output_type": "display_data"
    },
    {
     "name": "stdout",
     "output_type": "stream",
     "text": [
      "CSPR = 12.00 dB\n",
      "12500/12500 [==============================] - 95s 8ms/step\n",
      "Results:\n",
      "BER: 6.17e-03\n",
      "SNR: 14.68 dB\n",
      "SIR =  10.77  dB\n",
      "GMI: 3.90 bits\n",
      "\n"
     ]
    },
    {
     "data": {
      "application/vnd.jupyter.widget-view+json": {
       "model_id": "2736c19fb45a44b5a5f7fbc03a3d561e",
       "version_major": 2,
       "version_minor": 0
      },
      "text/plain": [
       "  0%|          | 0/17 [00:00<?, ?it/s]"
      ]
     },
     "metadata": {},
     "output_type": "display_data"
    },
    {
     "data": {
      "application/vnd.jupyter.widget-view+json": {
       "model_id": "49b274a01b34425bafecf90b3f8ee4ab",
       "version_major": 2,
       "version_minor": 0
      },
      "text/plain": [
       "  0%|          | 0/1 [00:00<?, ?it/s]"
      ]
     },
     "metadata": {},
     "output_type": "display_data"
    },
    {
     "name": "stdout",
     "output_type": "stream",
     "text": [
      "CSPR = 13.00 dB\n",
      "12500/12500 [==============================] - 91s 7ms/step\n",
      "Results:\n",
      "BER: 4.86e-01\n",
      "SNR: 0.02 dB\n",
      "SIR =  5.7  dB\n",
      "GMI: -0.06 bits\n",
      "\n"
     ]
    },
    {
     "data": {
      "application/vnd.jupyter.widget-view+json": {
       "model_id": "5ae679737f1043a5a012a4e69df6c003",
       "version_major": 2,
       "version_minor": 0
      },
      "text/plain": [
       "  0%|          | 0/1 [00:00<?, ?it/s]"
      ]
     },
     "metadata": {},
     "output_type": "display_data"
    },
    {
     "name": "stdout",
     "output_type": "stream",
     "text": [
      "CSPR = 13.00 dB\n",
      "12500/12500 [==============================] - 98s 8ms/step\n",
      "Results:\n",
      "BER: 4.77e-01\n",
      "SNR: 0.06 dB\n",
      "SIR =  6.17  dB\n",
      "GMI: -0.05 bits\n",
      "\n"
     ]
    },
    {
     "data": {
      "application/vnd.jupyter.widget-view+json": {
       "model_id": "e73613e919a04a34b3072bc4e8745d1c",
       "version_major": 2,
       "version_minor": 0
      },
      "text/plain": [
       "  0%|          | 0/1 [00:00<?, ?it/s]"
      ]
     },
     "metadata": {},
     "output_type": "display_data"
    },
    {
     "name": "stdout",
     "output_type": "stream",
     "text": [
      "CSPR = 13.00 dB\n",
      "12500/12500 [==============================] - 96s 8ms/step\n",
      "Results:\n",
      "BER: 4.87e-01\n",
      "SNR: 0.02 dB\n",
      "SIR =  6.63  dB\n",
      "GMI: -0.06 bits\n",
      "\n"
     ]
    },
    {
     "data": {
      "application/vnd.jupyter.widget-view+json": {
       "model_id": "35835e9864514f04b57244c9f3dad67f",
       "version_major": 2,
       "version_minor": 0
      },
      "text/plain": [
       "  0%|          | 0/1 [00:00<?, ?it/s]"
      ]
     },
     "metadata": {},
     "output_type": "display_data"
    },
    {
     "name": "stdout",
     "output_type": "stream",
     "text": [
      "CSPR = 13.00 dB\n",
      "12500/12500 [==============================] - 93s 7ms/step\n",
      "Results:\n",
      "BER: 4.93e-01\n",
      "SNR: 0.00 dB\n",
      "SIR =  7.15  dB\n",
      "GMI: -0.06 bits\n",
      "\n"
     ]
    },
    {
     "data": {
      "application/vnd.jupyter.widget-view+json": {
       "model_id": "cc027326eae34d259e297de893b5bb6d",
       "version_major": 2,
       "version_minor": 0
      },
      "text/plain": [
       "  0%|          | 0/1 [00:00<?, ?it/s]"
      ]
     },
     "metadata": {},
     "output_type": "display_data"
    },
    {
     "name": "stdout",
     "output_type": "stream",
     "text": [
      "CSPR = 13.00 dB\n",
      "12500/12500 [==============================] - 94s 7ms/step\n",
      "Results:\n",
      "BER: 4.70e-01\n",
      "SNR: 0.10 dB\n",
      "SIR =  7.56  dB\n",
      "GMI: -0.06 bits\n",
      "\n"
     ]
    },
    {
     "data": {
      "application/vnd.jupyter.widget-view+json": {
       "model_id": "c9e3d47de48b40bd8affefdcd13be926",
       "version_major": 2,
       "version_minor": 0
      },
      "text/plain": [
       "  0%|          | 0/1 [00:00<?, ?it/s]"
      ]
     },
     "metadata": {},
     "output_type": "display_data"
    },
    {
     "name": "stdout",
     "output_type": "stream",
     "text": [
      "CSPR = 13.00 dB\n",
      "12500/12500 [==============================] - 95s 8ms/step\n",
      "Results:\n",
      "BER: 2.73e-01\n",
      "SNR: 2.61 dB\n",
      "SIR =  8.1  dB\n",
      "GMI: 0.75 bits\n",
      "\n"
     ]
    },
    {
     "data": {
      "application/vnd.jupyter.widget-view+json": {
       "model_id": "f89589454d4a4dbc8d35e1956c81d7b3",
       "version_major": 2,
       "version_minor": 0
      },
      "text/plain": [
       "  0%|          | 0/1 [00:00<?, ?it/s]"
      ]
     },
     "metadata": {},
     "output_type": "display_data"
    },
    {
     "name": "stdout",
     "output_type": "stream",
     "text": [
      "CSPR = 13.00 dB\n",
      "12500/12500 [==============================] - 92s 7ms/step\n",
      "Results:\n",
      "BER: 4.30e-01\n",
      "SNR: 0.57 dB\n",
      "SIR =  8.49  dB\n",
      "GMI: 0.04 bits\n",
      "\n"
     ]
    },
    {
     "data": {
      "application/vnd.jupyter.widget-view+json": {
       "model_id": "14f06af79e0d4b448250f238bfff9e6f",
       "version_major": 2,
       "version_minor": 0
      },
      "text/plain": [
       "  0%|          | 0/1 [00:00<?, ?it/s]"
      ]
     },
     "metadata": {},
     "output_type": "display_data"
    },
    {
     "name": "stdout",
     "output_type": "stream",
     "text": [
      "CSPR = 13.00 dB\n",
      "12500/12500 [==============================] - 98s 8ms/step\n",
      "Results:\n",
      "BER: 2.10e-01\n",
      "SNR: 2.99 dB\n",
      "SIR =  8.91  dB\n",
      "GMI: 1.01 bits\n",
      "\n"
     ]
    },
    {
     "data": {
      "application/vnd.jupyter.widget-view+json": {
       "model_id": "5c86fa3da49f46b592fbfb12e09347c6",
       "version_major": 2,
       "version_minor": 0
      },
      "text/plain": [
       "  0%|          | 0/1 [00:00<?, ?it/s]"
      ]
     },
     "metadata": {},
     "output_type": "display_data"
    },
    {
     "name": "stdout",
     "output_type": "stream",
     "text": [
      "CSPR = 13.00 dB\n",
      "12500/12500 [==============================] - 100s 8ms/step\n",
      "Results:\n",
      "BER: 2.34e-01\n",
      "SNR: 3.59 dB\n",
      "SIR =  9.35  dB\n",
      "GMI: 1.09 bits\n",
      "\n"
     ]
    },
    {
     "data": {
      "application/vnd.jupyter.widget-view+json": {
       "model_id": "7369e66652e44519bd5bd4518dea5da3",
       "version_major": 2,
       "version_minor": 0
      },
      "text/plain": [
       "  0%|          | 0/1 [00:00<?, ?it/s]"
      ]
     },
     "metadata": {},
     "output_type": "display_data"
    },
    {
     "name": "stdout",
     "output_type": "stream",
     "text": [
      "CSPR = 13.00 dB\n",
      "12500/12500 [==============================] - 96s 8ms/step\n",
      "Results:\n",
      "BER: 7.03e-02\n",
      "SNR: 7.83 dB\n",
      "SIR =  9.69  dB\n",
      "GMI: 2.55 bits\n",
      "\n"
     ]
    },
    {
     "data": {
      "application/vnd.jupyter.widget-view+json": {
       "model_id": "98d900c6c3f5401eae7f4fc5046679e1",
       "version_major": 2,
       "version_minor": 0
      },
      "text/plain": [
       "  0%|          | 0/1 [00:00<?, ?it/s]"
      ]
     },
     "metadata": {},
     "output_type": "display_data"
    },
    {
     "name": "stdout",
     "output_type": "stream",
     "text": [
      "CSPR = 13.00 dB\n",
      "12500/12500 [==============================] - 96s 8ms/step\n",
      "Results:\n",
      "BER: 3.26e-02\n",
      "SNR: 11.86 dB\n",
      "SIR =  10.04  dB\n",
      "GMI: 3.51 bits\n",
      "\n"
     ]
    },
    {
     "data": {
      "application/vnd.jupyter.widget-view+json": {
       "model_id": "457b4bbb349141cfb0b9430c0726f44e",
       "version_major": 2,
       "version_minor": 0
      },
      "text/plain": [
       "  0%|          | 0/1 [00:00<?, ?it/s]"
      ]
     },
     "metadata": {},
     "output_type": "display_data"
    },
    {
     "name": "stdout",
     "output_type": "stream",
     "text": [
      "CSPR = 13.00 dB\n",
      "12500/12500 [==============================] - 94s 7ms/step\n",
      "Results:\n",
      "BER: 2.31e-02\n",
      "SNR: 12.54 dB\n",
      "SIR =  10.36  dB\n",
      "GMI: 3.65 bits\n",
      "\n"
     ]
    },
    {
     "data": {
      "application/vnd.jupyter.widget-view+json": {
       "model_id": "6c9a131eaa8c4a368e10661a7d5c9ece",
       "version_major": 2,
       "version_minor": 0
      },
      "text/plain": [
       "  0%|          | 0/1 [00:00<?, ?it/s]"
      ]
     },
     "metadata": {},
     "output_type": "display_data"
    },
    {
     "name": "stdout",
     "output_type": "stream",
     "text": [
      "CSPR = 13.00 dB\n",
      "12500/12500 [==============================] - 96s 8ms/step\n",
      "Results:\n",
      "BER: 1.60e-02\n",
      "SNR: 13.24 dB\n",
      "SIR =  10.65  dB\n",
      "GMI: 3.75 bits\n",
      "\n"
     ]
    },
    {
     "data": {
      "application/vnd.jupyter.widget-view+json": {
       "model_id": "f0a99e09ec7a4029adf8b03df9e58ff3",
       "version_major": 2,
       "version_minor": 0
      },
      "text/plain": [
       "  0%|          | 0/1 [00:00<?, ?it/s]"
      ]
     },
     "metadata": {},
     "output_type": "display_data"
    },
    {
     "name": "stdout",
     "output_type": "stream",
     "text": [
      "CSPR = 13.00 dB\n",
      "12500/12500 [==============================] - 104s 8ms/step\n",
      "Results:\n",
      "BER: 1.07e-02\n",
      "SNR: 13.94 dB\n",
      "SIR =  10.97  dB\n",
      "GMI: 3.83 bits\n",
      "\n"
     ]
    },
    {
     "data": {
      "application/vnd.jupyter.widget-view+json": {
       "model_id": "8126fa488b534daa8b3857a4fda65b72",
       "version_major": 2,
       "version_minor": 0
      },
      "text/plain": [
       "  0%|          | 0/1 [00:00<?, ?it/s]"
      ]
     },
     "metadata": {},
     "output_type": "display_data"
    },
    {
     "name": "stdout",
     "output_type": "stream",
     "text": [
      "CSPR = 13.00 dB\n",
      "12500/12500 [==============================] - 102s 8ms/step\n",
      "Results:\n",
      "BER: 7.22e-03\n",
      "SNR: 14.52 dB\n",
      "SIR =  11.24  dB\n",
      "GMI: 3.88 bits\n",
      "\n"
     ]
    },
    {
     "data": {
      "application/vnd.jupyter.widget-view+json": {
       "model_id": "202df7b252f84946905e6f4ee8b54b5c",
       "version_major": 2,
       "version_minor": 0
      },
      "text/plain": [
       "  0%|          | 0/1 [00:00<?, ?it/s]"
      ]
     },
     "metadata": {},
     "output_type": "display_data"
    },
    {
     "name": "stdout",
     "output_type": "stream",
     "text": [
      "CSPR = 13.00 dB\n",
      "12500/12500 [==============================] - 102s 8ms/step\n",
      "Results:\n",
      "BER: 4.74e-03\n",
      "SNR: 15.10 dB\n",
      "SIR =  11.5  dB\n",
      "GMI: 3.92 bits\n",
      "\n"
     ]
    },
    {
     "data": {
      "application/vnd.jupyter.widget-view+json": {
       "model_id": "0bdcfbf034484d1f922b3dfb6fa53ee1",
       "version_major": 2,
       "version_minor": 0
      },
      "text/plain": [
       "  0%|          | 0/1 [00:00<?, ?it/s]"
      ]
     },
     "metadata": {},
     "output_type": "display_data"
    },
    {
     "name": "stdout",
     "output_type": "stream",
     "text": [
      "CSPR = 13.00 dB\n",
      "12500/12500 [==============================] - 102s 8ms/step\n",
      "Results:\n",
      "BER: 3.28e-03\n",
      "SNR: 15.60 dB\n",
      "SIR =  11.69  dB\n",
      "GMI: 3.95 bits\n",
      "\n"
     ]
    },
    {
     "data": {
      "application/vnd.jupyter.widget-view+json": {
       "model_id": "9fd47c0c879e4d98833b9a97c101f4bf",
       "version_major": 2,
       "version_minor": 0
      },
      "text/plain": [
       "  0%|          | 0/17 [00:00<?, ?it/s]"
      ]
     },
     "metadata": {},
     "output_type": "display_data"
    },
    {
     "data": {
      "application/vnd.jupyter.widget-view+json": {
       "model_id": "e245e22ba587429f8c326037fe624795",
       "version_major": 2,
       "version_minor": 0
      },
      "text/plain": [
       "  0%|          | 0/1 [00:00<?, ?it/s]"
      ]
     },
     "metadata": {},
     "output_type": "display_data"
    },
    {
     "name": "stdout",
     "output_type": "stream",
     "text": [
      "CSPR = 14.00 dB\n",
      "12500/12500 [==============================] - 99s 8ms/step\n",
      "Results:\n",
      "BER: 4.60e-01\n",
      "SNR: 0.14 dB\n",
      "SIR =  7.76  dB\n",
      "GMI: -0.05 bits\n",
      "\n"
     ]
    },
    {
     "data": {
      "application/vnd.jupyter.widget-view+json": {
       "model_id": "ea800fe8c2ca400689aceb9aeba83c34",
       "version_major": 2,
       "version_minor": 0
      },
      "text/plain": [
       "  0%|          | 0/1 [00:00<?, ?it/s]"
      ]
     },
     "metadata": {},
     "output_type": "display_data"
    },
    {
     "name": "stdout",
     "output_type": "stream",
     "text": [
      "CSPR = 14.00 dB\n",
      "12500/12500 [==============================] - 100s 8ms/step\n",
      "Results:\n",
      "BER: 4.61e-01\n",
      "SNR: 0.16 dB\n",
      "SIR =  8.38  dB\n",
      "GMI: -0.04 bits\n",
      "\n"
     ]
    },
    {
     "data": {
      "application/vnd.jupyter.widget-view+json": {
       "model_id": "2fa0237a770d4819a8f26c898ce07ac1",
       "version_major": 2,
       "version_minor": 0
      },
      "text/plain": [
       "  0%|          | 0/1 [00:00<?, ?it/s]"
      ]
     },
     "metadata": {},
     "output_type": "display_data"
    },
    {
     "name": "stdout",
     "output_type": "stream",
     "text": [
      "CSPR = 14.00 dB\n",
      "12500/12500 [==============================] - 107s 9ms/step\n",
      "Results:\n",
      "BER: 4.68e-01\n",
      "SNR: 0.14 dB\n",
      "SIR =  9.01  dB\n",
      "GMI: -0.05 bits\n",
      "\n"
     ]
    },
    {
     "data": {
      "application/vnd.jupyter.widget-view+json": {
       "model_id": "b42d1a8f971d46b4a703ef4dca52c676",
       "version_major": 2,
       "version_minor": 0
      },
      "text/plain": [
       "  0%|          | 0/1 [00:00<?, ?it/s]"
      ]
     },
     "metadata": {},
     "output_type": "display_data"
    },
    {
     "name": "stdout",
     "output_type": "stream",
     "text": [
      "CSPR = 14.00 dB\n",
      "12500/12500 [==============================] - 103s 8ms/step\n",
      "Results:\n",
      "BER: 4.21e-01\n",
      "SNR: 0.48 dB\n",
      "SIR =  9.62  dB\n",
      "GMI: 0.06 bits\n",
      "\n"
     ]
    },
    {
     "data": {
      "application/vnd.jupyter.widget-view+json": {
       "model_id": "8c56439a99a64de186f7ecab47cfd16c",
       "version_major": 2,
       "version_minor": 0
      },
      "text/plain": [
       "  0%|          | 0/1 [00:00<?, ?it/s]"
      ]
     },
     "metadata": {},
     "output_type": "display_data"
    },
    {
     "name": "stdout",
     "output_type": "stream",
     "text": [
      "CSPR = 14.00 dB\n",
      "12500/12500 [==============================] - 102s 8ms/step\n",
      "Results:\n",
      "BER: 3.54e-01\n",
      "SNR: 1.35 dB\n",
      "SIR =  10.19  dB\n",
      "GMI: 0.30 bits\n",
      "\n"
     ]
    },
    {
     "data": {
      "application/vnd.jupyter.widget-view+json": {
       "model_id": "98fa2b6d13764e45a900f325b5503ad9",
       "version_major": 2,
       "version_minor": 0
      },
      "text/plain": [
       "  0%|          | 0/1 [00:00<?, ?it/s]"
      ]
     },
     "metadata": {},
     "output_type": "display_data"
    },
    {
     "name": "stdout",
     "output_type": "stream",
     "text": [
      "CSPR = 14.00 dB\n",
      "12500/12500 [==============================] - 100s 8ms/step\n",
      "Results:\n",
      "BER: 2.94e-01\n",
      "SNR: 2.80 dB\n",
      "SIR =  10.7  dB\n",
      "GMI: 0.73 bits\n",
      "\n"
     ]
    },
    {
     "data": {
      "application/vnd.jupyter.widget-view+json": {
       "model_id": "27adc7f72ae343f98615b749ab618a44",
       "version_major": 2,
       "version_minor": 0
      },
      "text/plain": [
       "  0%|          | 0/1 [00:00<?, ?it/s]"
      ]
     },
     "metadata": {},
     "output_type": "display_data"
    },
    {
     "name": "stdout",
     "output_type": "stream",
     "text": [
      "CSPR = 14.00 dB\n",
      "12500/12500 [==============================] - 100s 8ms/step\n",
      "Results:\n",
      "BER: 6.34e-02\n",
      "SNR: 10.13 dB\n",
      "SIR =  11.18  dB\n",
      "GMI: 3.10 bits\n",
      "\n"
     ]
    },
    {
     "data": {
      "application/vnd.jupyter.widget-view+json": {
       "model_id": "98191ee929c645f6825a6ee8ffe0e27f",
       "version_major": 2,
       "version_minor": 0
      },
      "text/plain": [
       "  0%|          | 0/1 [00:00<?, ?it/s]"
      ]
     },
     "metadata": {},
     "output_type": "display_data"
    },
    {
     "name": "stdout",
     "output_type": "stream",
     "text": [
      "CSPR = 14.00 dB\n",
      "12500/12500 [==============================] - 97s 8ms/step\n",
      "Results:\n",
      "BER: 4.68e-02\n",
      "SNR: 10.98 dB\n",
      "SIR =  11.65  dB\n",
      "GMI: 3.32 bits\n",
      "\n"
     ]
    },
    {
     "data": {
      "application/vnd.jupyter.widget-view+json": {
       "model_id": "7815c6285022463782a4a91425446f55",
       "version_major": 2,
       "version_minor": 0
      },
      "text/plain": [
       "  0%|          | 0/1 [00:00<?, ?it/s]"
      ]
     },
     "metadata": {},
     "output_type": "display_data"
    },
    {
     "name": "stdout",
     "output_type": "stream",
     "text": [
      "CSPR = 14.00 dB\n",
      "12500/12500 [==============================] - 105s 8ms/step\n",
      "Results:\n",
      "BER: 3.27e-02\n",
      "SNR: 11.84 dB\n",
      "SIR =  12.04  dB\n",
      "GMI: 3.51 bits\n",
      "\n"
     ]
    },
    {
     "data": {
      "application/vnd.jupyter.widget-view+json": {
       "model_id": "6ed6637c5e844f7b95e2c765fac943b0",
       "version_major": 2,
       "version_minor": 0
      },
      "text/plain": [
       "  0%|          | 0/1 [00:00<?, ?it/s]"
      ]
     },
     "metadata": {},
     "output_type": "display_data"
    },
    {
     "name": "stdout",
     "output_type": "stream",
     "text": [
      "CSPR = 14.00 dB\n",
      "12500/12500 [==============================] - 104s 8ms/step\n",
      "Results:\n",
      "BER: 2.18e-02\n",
      "SNR: 12.64 dB\n",
      "SIR =  12.37  dB\n",
      "GMI: 3.67 bits\n",
      "\n"
     ]
    },
    {
     "data": {
      "application/vnd.jupyter.widget-view+json": {
       "model_id": "5515bf5b074c44c48cc2dc8583bf4281",
       "version_major": 2,
       "version_minor": 0
      },
      "text/plain": [
       "  0%|          | 0/1 [00:00<?, ?it/s]"
      ]
     },
     "metadata": {},
     "output_type": "display_data"
    },
    {
     "name": "stdout",
     "output_type": "stream",
     "text": [
      "CSPR = 14.00 dB\n",
      "12500/12500 [==============================] - 103s 8ms/step\n",
      "Results:\n",
      "BER: 1.36e-02\n",
      "SNR: 13.49 dB\n",
      "SIR =  12.71  dB\n",
      "GMI: 3.78 bits\n",
      "\n"
     ]
    },
    {
     "data": {
      "application/vnd.jupyter.widget-view+json": {
       "model_id": "dc9b472cb3034bbfa232da580f5b91d7",
       "version_major": 2,
       "version_minor": 0
      },
      "text/plain": [
       "  0%|          | 0/1 [00:00<?, ?it/s]"
      ]
     },
     "metadata": {},
     "output_type": "display_data"
    },
    {
     "name": "stdout",
     "output_type": "stream",
     "text": [
      "CSPR = 14.00 dB\n",
      "12500/12500 [==============================] - 100s 8ms/step\n",
      "Results:\n",
      "BER: 8.61e-03\n",
      "SNR: 14.25 dB\n",
      "SIR =  12.97  dB\n",
      "GMI: 3.86 bits\n",
      "\n"
     ]
    },
    {
     "data": {
      "application/vnd.jupyter.widget-view+json": {
       "model_id": "a96a6b3168644ce19a5265fcbe9cd5a0",
       "version_major": 2,
       "version_minor": 0
      },
      "text/plain": [
       "  0%|          | 0/1 [00:00<?, ?it/s]"
      ]
     },
     "metadata": {},
     "output_type": "display_data"
    },
    {
     "name": "stdout",
     "output_type": "stream",
     "text": [
      "CSPR = 14.00 dB\n",
      "12500/12500 [==============================] - 100s 8ms/step\n",
      "Results:\n",
      "BER: 4.87e-03\n",
      "SNR: 14.99 dB\n",
      "SIR =  13.16  dB\n",
      "GMI: 3.92 bits\n",
      "\n"
     ]
    },
    {
     "data": {
      "application/vnd.jupyter.widget-view+json": {
       "model_id": "48541753c78e45b8b6d6ec1be671b95a",
       "version_major": 2,
       "version_minor": 0
      },
      "text/plain": [
       "  0%|          | 0/1 [00:00<?, ?it/s]"
      ]
     },
     "metadata": {},
     "output_type": "display_data"
    },
    {
     "name": "stdout",
     "output_type": "stream",
     "text": [
      "CSPR = 14.00 dB\n",
      "12500/12500 [==============================] - 100s 8ms/step\n",
      "Results:\n",
      "BER: 2.65e-03\n",
      "SNR: 15.71 dB\n",
      "SIR =  13.38  dB\n",
      "GMI: 3.96 bits\n",
      "\n"
     ]
    },
    {
     "data": {
      "application/vnd.jupyter.widget-view+json": {
       "model_id": "7de97e0b07454d83b6587af7ddc2d417",
       "version_major": 2,
       "version_minor": 0
      },
      "text/plain": [
       "  0%|          | 0/1 [00:00<?, ?it/s]"
      ]
     },
     "metadata": {},
     "output_type": "display_data"
    },
    {
     "name": "stdout",
     "output_type": "stream",
     "text": [
      "CSPR = 14.00 dB\n",
      "12500/12500 [==============================] - 104s 8ms/step\n",
      "Results:\n",
      "BER: 1.33e-03\n",
      "SNR: 16.37 dB\n",
      "SIR =  13.54  dB\n",
      "GMI: 3.98 bits\n",
      "\n"
     ]
    },
    {
     "data": {
      "application/vnd.jupyter.widget-view+json": {
       "model_id": "037291f8bcfc4460b93f7e2bda26f67e",
       "version_major": 2,
       "version_minor": 0
      },
      "text/plain": [
       "  0%|          | 0/1 [00:00<?, ?it/s]"
      ]
     },
     "metadata": {},
     "output_type": "display_data"
    },
    {
     "name": "stdout",
     "output_type": "stream",
     "text": [
      "CSPR = 14.00 dB\n",
      "12500/12500 [==============================] - 106s 8ms/step\n",
      "Results:\n",
      "BER: 7.13e-04\n",
      "SNR: 17.07 dB\n",
      "SIR =  13.67  dB\n",
      "GMI: 3.99 bits\n",
      "\n"
     ]
    },
    {
     "data": {
      "application/vnd.jupyter.widget-view+json": {
       "model_id": "0b64acff455a4ed5b6015a90f85e3832",
       "version_major": 2,
       "version_minor": 0
      },
      "text/plain": [
       "  0%|          | 0/1 [00:00<?, ?it/s]"
      ]
     },
     "metadata": {},
     "output_type": "display_data"
    },
    {
     "name": "stdout",
     "output_type": "stream",
     "text": [
      "CSPR = 14.00 dB\n",
      "12500/12500 [==============================] - 103s 8ms/step\n",
      "Results:\n",
      "BER: 3.91e-04\n",
      "SNR: 17.59 dB\n",
      "SIR =  13.74  dB\n",
      "GMI: 3.99 bits\n",
      "\n"
     ]
    },
    {
     "data": {
      "application/vnd.jupyter.widget-view+json": {
       "model_id": "a78cd1b25ea048b98806aaeff08edce7",
       "version_major": 2,
       "version_minor": 0
      },
      "text/plain": [
       "  0%|          | 0/17 [00:00<?, ?it/s]"
      ]
     },
     "metadata": {},
     "output_type": "display_data"
    },
    {
     "data": {
      "application/vnd.jupyter.widget-view+json": {
       "model_id": "9c817291471e4aa3be9cb10192a6098b",
       "version_major": 2,
       "version_minor": 0
      },
      "text/plain": [
       "  0%|          | 0/1 [00:00<?, ?it/s]"
      ]
     },
     "metadata": {},
     "output_type": "display_data"
    },
    {
     "name": "stdout",
     "output_type": "stream",
     "text": [
      "CSPR = 15.00 dB\n",
      "12500/12500 [==============================] - 102s 8ms/step\n",
      "Results:\n",
      "BER: 4.68e-01\n",
      "SNR: 0.14 dB\n",
      "SIR =  7.77  dB\n",
      "GMI: -0.05 bits\n",
      "\n"
     ]
    },
    {
     "data": {
      "application/vnd.jupyter.widget-view+json": {
       "model_id": "e570c88de481455899e1f6aa099ce322",
       "version_major": 2,
       "version_minor": 0
      },
      "text/plain": [
       "  0%|          | 0/1 [00:00<?, ?it/s]"
      ]
     },
     "metadata": {},
     "output_type": "display_data"
    },
    {
     "name": "stdout",
     "output_type": "stream",
     "text": [
      "CSPR = 15.00 dB\n",
      "12500/12500 [==============================] - 101s 8ms/step\n",
      "Results:\n",
      "BER: 4.78e-01\n",
      "SNR: 0.06 dB\n",
      "SIR =  8.4  dB\n",
      "GMI: -0.06 bits\n",
      "\n"
     ]
    },
    {
     "data": {
      "application/vnd.jupyter.widget-view+json": {
       "model_id": "b1c581d082ac4adb82ec4846e5b1d470",
       "version_major": 2,
       "version_minor": 0
      },
      "text/plain": [
       "  0%|          | 0/1 [00:00<?, ?it/s]"
      ]
     },
     "metadata": {},
     "output_type": "display_data"
    },
    {
     "name": "stdout",
     "output_type": "stream",
     "text": [
      "CSPR = 15.00 dB\n",
      "12500/12500 [==============================] - 100s 8ms/step\n",
      "Results:\n",
      "BER: 4.42e-01\n",
      "SNR: 0.40 dB\n",
      "SIR =  9.03  dB\n",
      "GMI: 0.01 bits\n",
      "\n"
     ]
    },
    {
     "data": {
      "application/vnd.jupyter.widget-view+json": {
       "model_id": "f496047a1d5b4225968ce9f301f01a10",
       "version_major": 2,
       "version_minor": 0
      },
      "text/plain": [
       "  0%|          | 0/1 [00:00<?, ?it/s]"
      ]
     },
     "metadata": {},
     "output_type": "display_data"
    },
    {
     "name": "stdout",
     "output_type": "stream",
     "text": [
      "CSPR = 15.00 dB\n",
      "12500/12500 [==============================] - 105s 8ms/step\n",
      "Results:\n",
      "BER: 4.25e-01\n",
      "SNR: 0.54 dB\n",
      "SIR =  9.62  dB\n",
      "GMI: 0.06 bits\n",
      "\n"
     ]
    },
    {
     "data": {
      "application/vnd.jupyter.widget-view+json": {
       "model_id": "5f8ef0dc0ef84b82b0db6681cb885f9e",
       "version_major": 2,
       "version_minor": 0
      },
      "text/plain": [
       "  0%|          | 0/1 [00:00<?, ?it/s]"
      ]
     },
     "metadata": {},
     "output_type": "display_data"
    },
    {
     "name": "stdout",
     "output_type": "stream",
     "text": [
      "CSPR = 15.00 dB\n",
      "12500/12500 [==============================] - 103s 8ms/step\n",
      "Results:\n",
      "BER: 4.31e-01\n",
      "SNR: 0.50 dB\n",
      "SIR =  10.17  dB\n",
      "GMI: 0.04 bits\n",
      "\n"
     ]
    },
    {
     "data": {
      "application/vnd.jupyter.widget-view+json": {
       "model_id": "dd729c48fb22479cb8fc674f9f1c0b8b",
       "version_major": 2,
       "version_minor": 0
      },
      "text/plain": [
       "  0%|          | 0/1 [00:00<?, ?it/s]"
      ]
     },
     "metadata": {},
     "output_type": "display_data"
    },
    {
     "name": "stdout",
     "output_type": "stream",
     "text": [
      "CSPR = 15.00 dB\n",
      "12500/12500 [==============================] - 106s 8ms/step\n",
      "Results:\n",
      "BER: 2.48e-01\n",
      "SNR: 3.42 dB\n",
      "SIR =  10.74  dB\n",
      "GMI: 1.00 bits\n",
      "\n"
     ]
    },
    {
     "data": {
      "application/vnd.jupyter.widget-view+json": {
       "model_id": "a33f7c86685f413d8a67198903930188",
       "version_major": 2,
       "version_minor": 0
      },
      "text/plain": [
       "  0%|          | 0/1 [00:00<?, ?it/s]"
      ]
     },
     "metadata": {},
     "output_type": "display_data"
    },
    {
     "name": "stdout",
     "output_type": "stream",
     "text": [
      "CSPR = 15.00 dB\n",
      "12500/12500 [==============================] - 102s 8ms/step\n",
      "Results:\n",
      "BER: 3.11e-01\n",
      "SNR: 2.68 dB\n",
      "SIR =  11.2  dB\n",
      "GMI: 0.64 bits\n",
      "\n"
     ]
    },
    {
     "data": {
      "application/vnd.jupyter.widget-view+json": {
       "model_id": "6e0a75b1d66649c58b2e3fd76d02a955",
       "version_major": 2,
       "version_minor": 0
      },
      "text/plain": [
       "  0%|          | 0/1 [00:00<?, ?it/s]"
      ]
     },
     "metadata": {},
     "output_type": "display_data"
    },
    {
     "name": "stdout",
     "output_type": "stream",
     "text": [
      "CSPR = 15.00 dB\n",
      "12500/12500 [==============================] - 101s 8ms/step\n",
      "Results:\n",
      "BER: 4.58e-02\n",
      "SNR: 11.03 dB\n",
      "SIR =  11.65  dB\n",
      "GMI: 3.34 bits\n",
      "\n"
     ]
    },
    {
     "data": {
      "application/vnd.jupyter.widget-view+json": {
       "model_id": "4adf5746c93e412084b06bed7cfb0408",
       "version_major": 2,
       "version_minor": 0
      },
      "text/plain": [
       "  0%|          | 0/1 [00:00<?, ?it/s]"
      ]
     },
     "metadata": {},
     "output_type": "display_data"
    },
    {
     "name": "stdout",
     "output_type": "stream",
     "text": [
      "CSPR = 15.00 dB\n",
      "12500/12500 [==============================] - 101s 8ms/step\n",
      "Results:\n",
      "BER: 3.15e-02\n",
      "SNR: 11.90 dB\n",
      "SIR =  12.09  dB\n",
      "GMI: 3.53 bits\n",
      "\n"
     ]
    },
    {
     "data": {
      "application/vnd.jupyter.widget-view+json": {
       "model_id": "9247c7c78e2046318e25ed05ab6f7604",
       "version_major": 2,
       "version_minor": 0
      },
      "text/plain": [
       "  0%|          | 0/1 [00:00<?, ?it/s]"
      ]
     },
     "metadata": {},
     "output_type": "display_data"
    },
    {
     "name": "stdout",
     "output_type": "stream",
     "text": [
      "CSPR = 15.00 dB\n",
      "12500/12500 [==============================] - 105s 8ms/step\n",
      "Results:\n",
      "BER: 2.16e-02\n",
      "SNR: 12.68 dB\n",
      "SIR =  12.38  dB\n",
      "GMI: 3.67 bits\n",
      "\n"
     ]
    },
    {
     "data": {
      "application/vnd.jupyter.widget-view+json": {
       "model_id": "6fb356aa05864cf1bbc0b1ada99d7068",
       "version_major": 2,
       "version_minor": 0
      },
      "text/plain": [
       "  0%|          | 0/1 [00:00<?, ?it/s]"
      ]
     },
     "metadata": {},
     "output_type": "display_data"
    },
    {
     "name": "stdout",
     "output_type": "stream",
     "text": [
      "CSPR = 15.00 dB\n",
      "12500/12500 [==============================] - 106s 8ms/step\n",
      "Results:\n",
      "BER: 1.37e-02\n",
      "SNR: 13.54 dB\n",
      "SIR =  12.73  dB\n",
      "GMI: 3.79 bits\n",
      "\n"
     ]
    },
    {
     "data": {
      "application/vnd.jupyter.widget-view+json": {
       "model_id": "4015beaf4a874cbdb785a842c1d92c36",
       "version_major": 2,
       "version_minor": 0
      },
      "text/plain": [
       "  0%|          | 0/1 [00:00<?, ?it/s]"
      ]
     },
     "metadata": {},
     "output_type": "display_data"
    },
    {
     "name": "stdout",
     "output_type": "stream",
     "text": [
      "CSPR = 15.00 dB\n",
      "12500/12500 [==============================] - 104s 8ms/step\n",
      "Results:\n",
      "BER: 8.41e-03\n",
      "SNR: 14.28 dB\n",
      "SIR =  12.94  dB\n",
      "GMI: 3.87 bits\n",
      "\n"
     ]
    },
    {
     "data": {
      "application/vnd.jupyter.widget-view+json": {
       "model_id": "c2ccd82b738f4e20b2280721349f8f8f",
       "version_major": 2,
       "version_minor": 0
      },
      "text/plain": [
       "  0%|          | 0/1 [00:00<?, ?it/s]"
      ]
     },
     "metadata": {},
     "output_type": "display_data"
    },
    {
     "name": "stdout",
     "output_type": "stream",
     "text": [
      "CSPR = 15.00 dB\n",
      "12500/12500 [==============================] - 102s 8ms/step\n",
      "Results:\n",
      "BER: 4.61e-03\n",
      "SNR: 15.09 dB\n",
      "SIR =  13.19  dB\n",
      "GMI: 3.92 bits\n",
      "\n"
     ]
    },
    {
     "data": {
      "application/vnd.jupyter.widget-view+json": {
       "model_id": "189d28232a6f467cbc6deead57187d38",
       "version_major": 2,
       "version_minor": 0
      },
      "text/plain": [
       "  0%|          | 0/1 [00:00<?, ?it/s]"
      ]
     },
     "metadata": {},
     "output_type": "display_data"
    },
    {
     "name": "stdout",
     "output_type": "stream",
     "text": [
      "CSPR = 15.00 dB\n",
      "12500/12500 [==============================] - 101s 8ms/step\n",
      "Results:\n",
      "BER: 2.52e-03\n",
      "SNR: 15.80 dB\n",
      "SIR =  13.34  dB\n",
      "GMI: 3.96 bits\n",
      "\n"
     ]
    },
    {
     "data": {
      "application/vnd.jupyter.widget-view+json": {
       "model_id": "51972e20110f4c3187e7346df70ab6ae",
       "version_major": 2,
       "version_minor": 0
      },
      "text/plain": [
       "  0%|          | 0/1 [00:00<?, ?it/s]"
      ]
     },
     "metadata": {},
     "output_type": "display_data"
    },
    {
     "name": "stdout",
     "output_type": "stream",
     "text": [
      "CSPR = 15.00 dB\n",
      "12500/12500 [==============================] - 102s 8ms/step\n",
      "Results:\n",
      "BER: 1.23e-03\n",
      "SNR: 16.50 dB\n",
      "SIR =  13.58  dB\n",
      "GMI: 3.98 bits\n",
      "\n"
     ]
    },
    {
     "data": {
      "application/vnd.jupyter.widget-view+json": {
       "model_id": "65a95883c7844baeae2045cfbe8f3f53",
       "version_major": 2,
       "version_minor": 0
      },
      "text/plain": [
       "  0%|          | 0/1 [00:00<?, ?it/s]"
      ]
     },
     "metadata": {},
     "output_type": "display_data"
    },
    {
     "name": "stdout",
     "output_type": "stream",
     "text": [
      "CSPR = 15.00 dB\n",
      "12500/12500 [==============================] - 106s 8ms/step\n",
      "Results:\n",
      "BER: 6.41e-04\n",
      "SNR: 17.13 dB\n",
      "SIR =  13.64  dB\n",
      "GMI: 3.99 bits\n",
      "\n"
     ]
    },
    {
     "data": {
      "application/vnd.jupyter.widget-view+json": {
       "model_id": "7bb00bc8c4044327876dc07588710d1c",
       "version_major": 2,
       "version_minor": 0
      },
      "text/plain": [
       "  0%|          | 0/1 [00:00<?, ?it/s]"
      ]
     },
     "metadata": {},
     "output_type": "display_data"
    },
    {
     "name": "stdout",
     "output_type": "stream",
     "text": [
      "CSPR = 15.00 dB\n",
      "12500/12500 [==============================] - 105s 8ms/step\n",
      "Results:\n",
      "BER: 2.72e-04\n",
      "SNR: 17.72 dB\n",
      "SIR =  13.77  dB\n",
      "GMI: 4.00 bits\n",
      "\n"
     ]
    }
   ],
   "source": [
    "loPower = np.arange(6,16,1)\n",
    "SNR_values = np.arange(8,25,1)\n",
    "\n",
    "BER = np.zeros((3, len(loPower), len(SNR_values)))\n",
    "SER = np.zeros((3, len(loPower), len(SNR_values)))\n",
    "GMI = np.zeros((3, len(loPower), len(SNR_values)))\n",
    "MI  = np.zeros((3, len(loPower), len(SNR_values)))\n",
    "SNR = np.zeros((3, len(loPower), len(SNR_values)))\n",
    "SIR = np.zeros((3, len(loPower), len(SNR_values)))\n",
    "\n",
    "for indfile in range(0, 1):\n",
    "    for indAlg, alg in enumerate(['KK', 'MLP', 'CONVNET']):\n",
    "        for indPower, Plo_dBm in enumerate(tqdm(loPower)):\n",
    "            for indSNR, SNRdB in enumerate(tqdm(SNR_values)):\n",
    "\n",
    "                # generate optical signal signal\n",
    "                sigTx, symbTx_, paramTx = simpleWDMTx(paramTx)\n",
    "                        \n",
    "                # simulate linear signal propagation\n",
    "                sigCh = linFiberCh(sigTx, Ltotal, alpha, D, Fc, Fs)\n",
    "\n",
    "                symbTx = symbTx_[:, :, chIndex]\n",
    "                \n",
    "                # AWGN channel\n",
    "                sigCh = awgn(sigCh, SNRdB, Fs, paramPD.B)\n",
    "\n",
    "                Plo = 10 ** (Plo_dBm / 10) * 1e-3  # power in W\n",
    "                \n",
    "                # generate LO field\n",
    "                π = np.pi\n",
    "                t = np.arange(0, len(sigCh))*Ts\n",
    "                ϕ_pn_lo = phaseNoise(lw, len(sigCh), Ts)\n",
    "\n",
    "                sigLO = np.sqrt(Plo) * np.exp(-1j * (2 * π * FO * t + ϕ_lo + ϕ_pn_lo))\n",
    "\n",
    "                # Add LO to the received signal\n",
    "                sigRx = np.sqrt(Plo) + sigCh* np.exp(1j * (2 * π * FO * t + ϕ_lo + ϕ_pn_lo))\n",
    "                sfm   = sigRx.copy()\n",
    "\n",
    "                print('CSPR = %.2f dB'%(10*np.log10(signal_power(sigLO)/signal_power(sigTx))))\n",
    "\n",
    "                # simulate ideal direct-detection optical receiver\n",
    "                Ipd = photodiode(sigRx, paramPD)\n",
    "                Amp = np.sqrt(Ipd.real)\n",
    "                Amp = resample(Amp, paramADC).real\n",
    "\n",
    "                # resampling to ADC sampling rate\n",
    "                sigCh = resample(sigCh, paramADC)\n",
    "                sfm = resample(sfm, paramADC)\n",
    "                newFs = paramADC.SpS_out*paramTx.Rs\n",
    "\n",
    "                sfm = sfm/np.sqrt(signal_power(sfm))\n",
    "                if alg == 'KK':\n",
    "                    # Kramers-Kronig phase-retrieval\n",
    "                    phiTime = KramersKronigRx(Amp, newFs)\n",
    "                    # optical field reconstruction\n",
    "                    sigRx = Amp*np.exp(1j*phiTime)\n",
    "\n",
    "                elif alg == 'MLP':\n",
    "                    # Mlp phase-retrieval\n",
    "                    model = tf.keras.models.load_model(path_mlp+'testModel_SpS_'+str(paramADC.SpS_out)+'_CSPR_'+str(Plo_dBm)+'dB') \n",
    "                    #sigPhase = np.angle(sfm) # get signal phase samples (labels) (L,)\n",
    "                    sigAmp  = np.pad(Amp, (int(N/2), int(N/2)), 'constant') # get signal amplitude samples (L,)\n",
    "                    # create set of input features\n",
    "                    X_input = np.zeros((len(sfm), N)) #(L,N)\n",
    "\n",
    "                    for indPhase in range(len(sfm)):\n",
    "                        X_input[indPhase] = sigAmp[indPhase:N+indPhase]\n",
    "\n",
    "                    sigRx_NN = model.predict(X_input)\n",
    "                    # optical field reconstruction\n",
    "                    sigRx = sigRx_NN[:,0]+1j*sigRx_NN[:,1]\n",
    "\n",
    "                elif alg == 'CONVNET':\n",
    "                    # ConvNet phase-retrieval\n",
    "                    model = tf.keras.models.load_model(path_conv+'testModel_SpS_'+str(paramADC.SpS_out)+'_CSPR_'+str(Plo_dBm)+'dB')\n",
    "                    #sigPhase = np.angle(sfm) # get signal phase samples (labels) (L,)\n",
    "                    sigAmp  = np.pad(Amp, (int(N/2), int(N/2)), 'constant') # get signal amplitude samples (L,)\n",
    "                    # create set of input features\n",
    "                    X_input = np.zeros((len(sfm), N)) #(L,N)\n",
    "\n",
    "                    for indPhase in range(len(sfm)):\n",
    "                        X_input[indPhase] = sigAmp[indPhase:N+indPhase]\n",
    "\n",
    "                    sigRx_NN = model.predict(X_input)\n",
    "                    # optical field reconstruction\n",
    "                    sigRx = sigRx_NN[:,0]+1j*sigRx_NN[:,1]    \n",
    "\n",
    "                # remove DC level\n",
    "                sigRx -= np.mean(sigRx) # np.sqrt(Plo)  \n",
    "\n",
    "                # downshift to baseband\n",
    "                t = np.arange(0, len(sigRx))*(1/newFs)\n",
    "                sigRx *= np.exp(-1j * (2 * π * FO * t))\n",
    "                \n",
    "                # Matched filtering\n",
    "                if paramTx.pulse == \"nrz\":\n",
    "                    pulse = pulseShape(\"nrz\", paramADC.SpS_out)\n",
    "                elif paramTx.pulse == \"rrc\":\n",
    "                    pulse = pulseShape(\n",
    "                        \"rrc\", paramADC.SpS_out, N=paramTx.Ntaps, alpha=paramTx.alphaRRC, Ts=1 / paramTx.Rs\n",
    "                    )\n",
    "\n",
    "                pulse = pulse / np.max(np.abs(pulse))\n",
    "                sigRx = firFilter(pulse, sigRx)\n",
    "                sigCh = firFilter(pulse, sigCh)\n",
    "                \n",
    "                # correct for (possible) phase ambiguity\n",
    "                rot = np.mean(sigCh/sigRx)\n",
    "                sigRx = rot * sigRx\n",
    "                sigRx = sigRx / np.sqrt(signal_power(sigRx))\n",
    "\n",
    "                intf = sigRx/np.sqrt(signal_power(sigRx))-sigCh/np.sqrt(signal_power(sigCh))\n",
    "\n",
    "                SIR[indAlg, indPower] = 1/signal_power(intf)\n",
    "\n",
    "\n",
    "                # resample to 2 samples/symbol:\n",
    "                paramRes = parameters()\n",
    "                paramRes.Rs = paramTx.Rs\n",
    "                paramRes.SpS_in  = paramADC.SpS_out\n",
    "                paramRes.SpS_out = 2\n",
    "\n",
    "                sigRx = resample(sigRx, paramRes)\n",
    "\n",
    "                # CD compensation\n",
    "                sigRx = edc(sigRx, Ltotal, D, Fc, paramRes.SpS_out*paramTx.Rs)\n",
    "\n",
    "                # Downsampling to 2 sps and re-synchronization with transmitted sequences\n",
    "                sigRx = sigRx.reshape(-1, 1)\n",
    "\n",
    "                symbRx = symbolSync(sigRx, symbTx, 2)\n",
    "\n",
    "                # Power normalization\n",
    "                x = sigRx\n",
    "                d = symbRx\n",
    "\n",
    "                x = x.reshape(len(x), 1) / np.sqrt(signal_power(x))\n",
    "                d = d.reshape(len(d), 1) / np.sqrt(signal_power(d))\n",
    "\n",
    "                # Adaptive equalization\n",
    "                mod = QAMModem(m=paramTx.M)\n",
    "\n",
    "                paramEq = parameters()\n",
    "                paramEq.nTaps = 15\n",
    "                paramEq.SpS = 2\n",
    "                paramEq.mu = [1e-3, 5e-4]\n",
    "                paramEq.numIter = 5\n",
    "                paramEq.storeCoeff = False\n",
    "                paramEq.alg = [\"da-rde\", \"rde\"]\n",
    "                paramEq.M = paramTx.M\n",
    "                paramEq.L = [20000, 80000]\n",
    "                paramEq.prgsBar = False\n",
    "\n",
    "                y_EQ, H, errSq, Hiter = mimoAdaptEqualizer(x, dx=d, paramEq=paramEq)\n",
    "\n",
    "                # Carrier phase recovery\n",
    "                paramCPR = parameters()\n",
    "                paramCPR.alg = \"bps\"\n",
    "                paramCPR.M = paramTx.M\n",
    "                paramCPR.N = 85\n",
    "                paramCPR.B = 64\n",
    "                paramCPR.pilotInd = np.arange(0, len(y_EQ), 20)\n",
    "\n",
    "                y_CPR, θ = cpr(y_EQ, symbTx=d, paramCPR=paramCPR)\n",
    "\n",
    "                y_CPR = y_CPR / np.sqrt(signal_power(y_CPR))\n",
    "\n",
    "                # correct for (possible) phase ambiguity\n",
    "                for k in range(y_CPR.shape[1]):\n",
    "                    rot = np.mean(d[:, k] / y_CPR[:, k])\n",
    "                    y_CPR[:, k] = rot * y_CPR[:, k]\n",
    "\n",
    "                y_CPR = y_CPR / np.sqrt(signal_power(y_CPR))\n",
    "\n",
    "                discard = int(paramEq.L[0]/2)\n",
    "\n",
    "                ind = np.arange(discard, d.shape[0] - discard)\n",
    "                BER[indAlg,indPower,indSNR], SER[indAlg,indPower,indSNR], SNR[indAlg,indPower,indSNR] = fastBERcalc(y_CPR[ind, :], d[ind, :], paramTx.M, 'qam')\n",
    "                GMI[indAlg,indPower,indSNR], _ = monteCarloGMI(y_CPR[ind, :], d[ind, :],  paramTx.M, 'qam')\n",
    "                MI[indAlg,indPower,indSNR] = monteCarloMI(y_CPR[ind, :], d[ind, :],  paramTx.M, 'qam')\n",
    "\n",
    "                print(\"Results:\")\n",
    "                print(\"BER: %.2e\" %(BER[indAlg,indPower,indSNR]))\n",
    "                print(\"SNR: %.2f dB\" %(SNR[indAlg,indPower,indSNR]))\n",
    "                print('SIR = ', round(10*np.log10(SIR[indAlg,indPower,indSNR]), 2), ' dB')\n",
    "                print(\"GMI: %.2f bits\\n\" %(GMI[indAlg,indPower,indSNR]))\n",
    "\n",
    "        if saveData:      \n",
    "            # save the simulation data\n",
    "            np.save(path_data+'CSPR_BER_SpS_'+str(paramADC.SpS_out)+'_'+str(N)+'_Sample_'+str(indfile)+str('_AWGN'), BER)\n",
    "            np.save(path_data+'CSPR_SNR_SpS_'+str(paramADC.SpS_out)+'_'+str(N)+'_Sample_'+str(indfile)+str('_AWGN'), SNR)\n",
    "            np.save(path_data+'CSPR_SIR_SpS_'+str(paramADC.SpS_out)+'_'+str(N)+'_Sample_'+str(indfile)+str('_AWGN'), SIR)\n",
    "            np.save(path_data+'CSPR_SER_SpS_'+str(paramADC.SpS_out)+'_'+str(N)+'_Sample_'+str(indfile)+str('_AWGN'), SER)"
   ]
  },
  {
   "attachments": {},
   "cell_type": "markdown",
   "metadata": {},
   "source": [
    "## Simulation of a single polarization optical signal transmission"
   ]
  },
  {
   "cell_type": "code",
   "execution_count": 3,
   "metadata": {},
   "outputs": [],
   "source": [
    "## Transmitter parameters:\n",
    "paramTx = parameters()                                                                                              \n",
    "paramTx.M = 16                 # order of the modulation format\n",
    "paramTx.Rs = 32e9           \n",
    "    d   a          # symbol rate [baud]\n",
    "paramTx.SpS = 4                # samples per symbol\n",
    "paramTx.Nbits = 400000         # total number of bits per polarization\n",
    "paramTx.pulse = \"rrc\"          # pulse shaping filter\n",
    "paramTx.Ntaps = 1024           # number of pulse shaping filter coefficients\n",
    "# paramTx.alphaRRC = 0.5         # RRC rolloff\n",
    "paramTx.Pch_dBm = 0            # power of the optical signal [dBm]\n",
    "paramTx.Nch = 1                # number of WDM channels\n",
    "paramTx.Fc = 193.1e12          # central frequency of the optical spectrum\n",
    "paramTx.freqSpac = 37.5e9      # WDM grid spacing\n",
    "\n",
    "## Optical channel parameters:\n",
    "Ltotal = 100     # total link distance [km]\n",
    "alpha = 0        # fiber loss parameter [dB/km]\n",
    "D = 16           # fiber dispersion parameter [ps/nm/km]\n",
    "Fc = paramTx.Fc  # central optical frequency of the WDM spectrum [Hz]\n",
    "\n",
    "## Receiver parameters:\n",
    "\n",
    "# local oscillator (LO)\n",
    "FO = paramTx.Rs/2  # frequency offset\n",
    "lw = 0*200e3       # linewidth\n",
    "ϕ_lo = 0           # initial phase in rad\n",
    "Plo_dBm = 12       # power in dBm\n",
    "\n",
    "# ADC sampling rate\n",
    "paramADC = parameters()\n",
    "paramADC.Rs = paramTx.Rs\n",
    "paramADC.SpS_in = paramTx.SpS\n",
    "paramADC.SpS_out = 4\n",
    "\n",
    "## General simulation parameters:\n",
    "chIndex = 0  # index of the channel to be demodulated\n",
    "plotPSD = True\n",
    "Fs = paramTx.Rs * paramTx.SpS  # simulation sampling rate\n",
    "Ts = 1 / Fs\n",
    "\n",
    "# photodiode parameters\n",
    "paramPD = parameters()\n",
    "paramPD.B  = 1.1*paramTx.Rs\n",
    "paramPD.Fs = Fs"
   ]
  },
  {
   "attachments": {},
   "cell_type": "markdown",
   "metadata": {},
   "source": [
    "## Run all Roll-off variations"
   ]
  },
  {
   "cell_type": "code",
   "execution_count": 5,
   "metadata": {},
   "outputs": [
    {
     "data": {
      "application/vnd.jupyter.widget-view+json": {
       "model_id": "4200ac3125244319868c3d388441d911",
       "version_major": 2,
       "version_minor": 0
      },
      "text/plain": [
       "  0%|          | 0/18 [00:00<?, ?it/s]"
      ]
     },
     "metadata": {},
     "output_type": "display_data"
    },
    {
     "data": {
      "application/vnd.jupyter.widget-view+json": {
       "model_id": "c32d8d8f020b43c282d56ee3b847b025",
       "version_major": 2,
       "version_minor": 0
      },
      "text/plain": [
       "  0%|          | 0/1 [00:00<?, ?it/s]"
      ]
     },
     "metadata": {},
     "output_type": "display_data"
    },
    {
     "name": "stdout",
     "output_type": "stream",
     "text": [
      "CSPR = 12.00 dB\n",
      "Results:\n",
      "BER: 0.00e+00\n",
      "SNR: 24.03 dB\n",
      "SIR =  22.93  dB\n",
      "GMI: 4.00 bits\n",
      "\n"
     ]
    },
    {
     "data": {
      "application/vnd.jupyter.widget-view+json": {
       "model_id": "e1ab5aa15dc245ffa35d1d859b796d21",
       "version_major": 2,
       "version_minor": 0
      },
      "text/plain": [
       "  0%|          | 0/1 [00:00<?, ?it/s]"
      ]
     },
     "metadata": {},
     "output_type": "display_data"
    },
    {
     "name": "stdout",
     "output_type": "stream",
     "text": [
      "CSPR = 12.00 dB\n",
      "Results:\n",
      "BER: 0.00e+00\n",
      "SNR: 22.35 dB\n",
      "SIR =  19.78  dB\n",
      "GMI: 4.00 bits\n",
      "\n"
     ]
    },
    {
     "data": {
      "application/vnd.jupyter.widget-view+json": {
       "model_id": "62e849acfe2d4015ad55f8a4eaf96d60",
       "version_major": 2,
       "version_minor": 0
      },
      "text/plain": [
       "  0%|          | 0/1 [00:00<?, ?it/s]"
      ]
     },
     "metadata": {},
     "output_type": "display_data"
    },
    {
     "name": "stdout",
     "output_type": "stream",
     "text": [
      "CSPR = 12.00 dB\n",
      "Results:\n",
      "BER: 0.00e+00\n",
      "SNR: 22.09 dB\n",
      "SIR =  17.93  dB\n",
      "GMI: 4.00 bits\n",
      "\n"
     ]
    },
    {
     "data": {
      "application/vnd.jupyter.widget-view+json": {
       "model_id": "8f016dccef25423e95183e2c3c14af98",
       "version_major": 2,
       "version_minor": 0
      },
      "text/plain": [
       "  0%|          | 0/1 [00:00<?, ?it/s]"
      ]
     },
     "metadata": {},
     "output_type": "display_data"
    },
    {
     "name": "stdout",
     "output_type": "stream",
     "text": [
      "CSPR = 12.00 dB\n",
      "Results:\n",
      "BER: 0.00e+00\n",
      "SNR: 22.11 dB\n",
      "SIR =  16.73  dB\n",
      "GMI: 4.00 bits\n",
      "\n"
     ]
    },
    {
     "data": {
      "application/vnd.jupyter.widget-view+json": {
       "model_id": "30e4e657ce294f30931c37ca57373f12",
       "version_major": 2,
       "version_minor": 0
      },
      "text/plain": [
       "  0%|          | 0/1 [00:00<?, ?it/s]"
      ]
     },
     "metadata": {},
     "output_type": "display_data"
    },
    {
     "name": "stdout",
     "output_type": "stream",
     "text": [
      "CSPR = 12.00 dB\n",
      "Results:\n",
      "BER: 0.00e+00\n",
      "SNR: 21.99 dB\n",
      "SIR =  15.73  dB\n",
      "GMI: 4.00 bits\n",
      "\n"
     ]
    },
    {
     "data": {
      "application/vnd.jupyter.widget-view+json": {
       "model_id": "f8e9786bafb64b14b0b1999196be620d",
       "version_major": 2,
       "version_minor": 0
      },
      "text/plain": [
       "  0%|          | 0/1 [00:00<?, ?it/s]"
      ]
     },
     "metadata": {},
     "output_type": "display_data"
    },
    {
     "name": "stdout",
     "output_type": "stream",
     "text": [
      "CSPR = 12.00 dB\n",
      "Results:\n",
      "BER: 3.13e-06\n",
      "SNR: 21.50 dB\n",
      "SIR =  14.85  dB\n",
      "GMI: 4.00 bits\n",
      "\n"
     ]
    },
    {
     "data": {
      "application/vnd.jupyter.widget-view+json": {
       "model_id": "d5bff73546714f338771f567624cac81",
       "version_major": 2,
       "version_minor": 0
      },
      "text/plain": [
       "  0%|          | 0/1 [00:00<?, ?it/s]"
      ]
     },
     "metadata": {},
     "output_type": "display_data"
    },
    {
     "name": "stdout",
     "output_type": "stream",
     "text": [
      "CSPR = 12.00 dB\n",
      "Results:\n",
      "BER: 6.25e-06\n",
      "SNR: 21.12 dB\n",
      "SIR =  14.13  dB\n",
      "GMI: 4.00 bits\n",
      "\n"
     ]
    },
    {
     "data": {
      "application/vnd.jupyter.widget-view+json": {
       "model_id": "2b6a3231f6dd489096a7eb2683f04e1d",
       "version_major": 2,
       "version_minor": 0
      },
      "text/plain": [
       "  0%|          | 0/1 [00:00<?, ?it/s]"
      ]
     },
     "metadata": {},
     "output_type": "display_data"
    },
    {
     "name": "stdout",
     "output_type": "stream",
     "text": [
      "CSPR = 12.00 dB\n",
      "Results:\n",
      "BER: 1.56e-05\n",
      "SNR: 20.66 dB\n",
      "SIR =  13.49  dB\n",
      "GMI: 4.00 bits\n",
      "\n"
     ]
    },
    {
     "data": {
      "application/vnd.jupyter.widget-view+json": {
       "model_id": "a0c043beddf641f6a19f2461f32e64d3",
       "version_major": 2,
       "version_minor": 0
      },
      "text/plain": [
       "  0%|          | 0/1 [00:00<?, ?it/s]"
      ]
     },
     "metadata": {},
     "output_type": "display_data"
    },
    {
     "name": "stdout",
     "output_type": "stream",
     "text": [
      "CSPR = 12.00 dB\n",
      "Results:\n",
      "BER: 9.37e-06\n",
      "SNR: 20.30 dB\n",
      "SIR =  12.98  dB\n",
      "GMI: 4.00 bits\n",
      "\n"
     ]
    },
    {
     "data": {
      "application/vnd.jupyter.widget-view+json": {
       "model_id": "baea40a047614e59bb8f49bd5478f87a",
       "version_major": 2,
       "version_minor": 0
      },
      "text/plain": [
       "  0%|          | 0/1 [00:00<?, ?it/s]"
      ]
     },
     "metadata": {},
     "output_type": "display_data"
    },
    {
     "name": "stdout",
     "output_type": "stream",
     "text": [
      "CSPR = 12.00 dB\n",
      "Results:\n",
      "BER: 2.50e-05\n",
      "SNR: 20.00 dB\n",
      "SIR =  12.45  dB\n",
      "GMI: 4.00 bits\n",
      "\n"
     ]
    },
    {
     "data": {
      "application/vnd.jupyter.widget-view+json": {
       "model_id": "fed398dbd1704b13b0f7f3c3bda8be13",
       "version_major": 2,
       "version_minor": 0
      },
      "text/plain": [
       "  0%|          | 0/1 [00:00<?, ?it/s]"
      ]
     },
     "metadata": {},
     "output_type": "display_data"
    },
    {
     "name": "stdout",
     "output_type": "stream",
     "text": [
      "CSPR = 12.00 dB\n",
      "Results:\n",
      "BER: 2.81e-05\n",
      "SNR: 19.71 dB\n",
      "SIR =  12.04  dB\n",
      "GMI: 4.00 bits\n",
      "\n"
     ]
    },
    {
     "data": {
      "application/vnd.jupyter.widget-view+json": {
       "model_id": "9e93c55f99a74225b6c38d17c2b5b7b1",
       "version_major": 2,
       "version_minor": 0
      },
      "text/plain": [
       "  0%|          | 0/1 [00:00<?, ?it/s]"
      ]
     },
     "metadata": {},
     "output_type": "display_data"
    },
    {
     "name": "stdout",
     "output_type": "stream",
     "text": [
      "CSPR = 12.00 dB\n",
      "Results:\n",
      "BER: 8.44e-05\n",
      "SNR: 19.36 dB\n",
      "SIR =  11.6  dB\n",
      "GMI: 4.00 bits\n",
      "\n"
     ]
    },
    {
     "data": {
      "application/vnd.jupyter.widget-view+json": {
       "model_id": "0473bc563bf140269c6e546703723bba",
       "version_major": 2,
       "version_minor": 0
      },
      "text/plain": [
       "  0%|          | 0/1 [00:00<?, ?it/s]"
      ]
     },
     "metadata": {},
     "output_type": "display_data"
    },
    {
     "name": "stdout",
     "output_type": "stream",
     "text": [
      "CSPR = 12.00 dB\n",
      "Results:\n",
      "BER: 4.69e-05\n",
      "SNR: 19.15 dB\n",
      "SIR =  11.27  dB\n",
      "GMI: 4.00 bits\n",
      "\n"
     ]
    },
    {
     "data": {
      "application/vnd.jupyter.widget-view+json": {
       "model_id": "d292bd9458b242f0ab42151253305664",
       "version_major": 2,
       "version_minor": 0
      },
      "text/plain": [
       "  0%|          | 0/1 [00:00<?, ?it/s]"
      ]
     },
     "metadata": {},
     "output_type": "display_data"
    },
    {
     "name": "stdout",
     "output_type": "stream",
     "text": [
      "CSPR = 12.00 dB\n",
      "Results:\n",
      "BER: 7.50e-05\n",
      "SNR: 18.74 dB\n",
      "SIR =  10.8  dB\n",
      "GMI: 4.00 bits\n",
      "\n"
     ]
    },
    {
     "data": {
      "application/vnd.jupyter.widget-view+json": {
       "model_id": "07595c27dd004addbaf4c3d02e3c59f5",
       "version_major": 2,
       "version_minor": 0
      },
      "text/plain": [
       "  0%|          | 0/1 [00:00<?, ?it/s]"
      ]
     },
     "metadata": {},
     "output_type": "display_data"
    },
    {
     "name": "stdout",
     "output_type": "stream",
     "text": [
      "CSPR = 12.00 dB\n",
      "Results:\n",
      "BER: 1.59e-04\n",
      "SNR: 18.47 dB\n",
      "SIR =  10.46  dB\n",
      "GMI: 4.00 bits\n",
      "\n"
     ]
    },
    {
     "data": {
      "application/vnd.jupyter.widget-view+json": {
       "model_id": "b4b2a03e32ea41a8bfea70cc9ad8846f",
       "version_major": 2,
       "version_minor": 0
      },
      "text/plain": [
       "  0%|          | 0/1 [00:00<?, ?it/s]"
      ]
     },
     "metadata": {},
     "output_type": "display_data"
    },
    {
     "name": "stdout",
     "output_type": "stream",
     "text": [
      "CSPR = 12.00 dB\n",
      "Results:\n",
      "BER: 1.59e-04\n",
      "SNR: 18.27 dB\n",
      "SIR =  10.12  dB\n",
      "GMI: 4.00 bits\n",
      "\n"
     ]
    },
    {
     "data": {
      "application/vnd.jupyter.widget-view+json": {
       "model_id": "14f3774c867e41f6a87c65ff4e563cb0",
       "version_major": 2,
       "version_minor": 0
      },
      "text/plain": [
       "  0%|          | 0/1 [00:00<?, ?it/s]"
      ]
     },
     "metadata": {},
     "output_type": "display_data"
    },
    {
     "name": "stdout",
     "output_type": "stream",
     "text": [
      "CSPR = 12.00 dB\n",
      "Results:\n",
      "BER: 2.25e-04\n",
      "SNR: 18.02 dB\n",
      "SIR =  9.82  dB\n",
      "GMI: 4.00 bits\n",
      "\n"
     ]
    },
    {
     "data": {
      "application/vnd.jupyter.widget-view+json": {
       "model_id": "1ce6da41a2da4d6792ae84ec5a46a78b",
       "version_major": 2,
       "version_minor": 0
      },
      "text/plain": [
       "  0%|          | 0/1 [00:00<?, ?it/s]"
      ]
     },
     "metadata": {},
     "output_type": "display_data"
    },
    {
     "name": "stdout",
     "output_type": "stream",
     "text": [
      "CSPR = 12.00 dB\n",
      "Results:\n",
      "BER: 3.34e-04\n",
      "SNR: 17.82 dB\n",
      "SIR =  9.56  dB\n",
      "GMI: 3.99 bits\n",
      "\n"
     ]
    },
    {
     "data": {
      "application/vnd.jupyter.widget-view+json": {
       "model_id": "2273988f91d14e8187c910b363c64542",
       "version_major": 2,
       "version_minor": 0
      },
      "text/plain": [
       "  0%|          | 0/18 [00:00<?, ?it/s]"
      ]
     },
     "metadata": {},
     "output_type": "display_data"
    },
    {
     "data": {
      "application/vnd.jupyter.widget-view+json": {
       "model_id": "a14a8e9055d54cc085cfb98a7373168b",
       "version_major": 2,
       "version_minor": 0
      },
      "text/plain": [
       "  0%|          | 0/1 [00:00<?, ?it/s]"
      ]
     },
     "metadata": {},
     "output_type": "display_data"
    },
    {
     "name": "stdout",
     "output_type": "stream",
     "text": [
      "CSPR = 12.00 dB\n",
      "12500/12500 [==============================] - 8s 665us/step\n",
      "Results:\n",
      "BER: 6.25e-06\n",
      "SNR: 22.72 dB\n",
      "SIR =  22.1  dB\n",
      "GMI: 4.00 bits\n",
      "\n"
     ]
    },
    {
     "data": {
      "application/vnd.jupyter.widget-view+json": {
       "model_id": "e87e21f69b264384a3a32731919765ed",
       "version_major": 2,
       "version_minor": 0
      },
      "text/plain": [
       "  0%|          | 0/1 [00:00<?, ?it/s]"
      ]
     },
     "metadata": {},
     "output_type": "display_data"
    },
    {
     "name": "stdout",
     "output_type": "stream",
     "text": [
      "CSPR = 12.00 dB\n",
      "12500/12500 [==============================] - 9s 713us/step\n",
      "Results:\n",
      "BER: 3.13e-06\n",
      "SNR: 21.75 dB\n",
      "SIR =  20.29  dB\n",
      "GMI: 4.00 bits\n",
      "\n"
     ]
    },
    {
     "data": {
      "application/vnd.jupyter.widget-view+json": {
       "model_id": "2444327363fd40658a87768a0385f974",
       "version_major": 2,
       "version_minor": 0
      },
      "text/plain": [
       "  0%|          | 0/1 [00:00<?, ?it/s]"
      ]
     },
     "metadata": {},
     "output_type": "display_data"
    },
    {
     "name": "stdout",
     "output_type": "stream",
     "text": [
      "CSPR = 12.00 dB\n",
      "12500/12500 [==============================] - 8s 639us/step\n",
      "Results:\n",
      "BER: 6.25e-06\n",
      "SNR: 21.79 dB\n",
      "SIR =  19.09  dB\n",
      "GMI: 4.00 bits\n",
      "\n"
     ]
    },
    {
     "data": {
      "application/vnd.jupyter.widget-view+json": {
       "model_id": "df3653c7249944ca859ce96b10be044c",
       "version_major": 2,
       "version_minor": 0
      },
      "text/plain": [
       "  0%|          | 0/1 [00:00<?, ?it/s]"
      ]
     },
     "metadata": {},
     "output_type": "display_data"
    },
    {
     "name": "stdout",
     "output_type": "stream",
     "text": [
      "CSPR = 12.00 dB\n",
      "12500/12500 [==============================] - 8s 659us/step\n",
      "Results:\n",
      "BER: 3.13e-06\n",
      "SNR: 21.22 dB\n",
      "SIR =  17.7  dB\n",
      "GMI: 4.00 bits\n",
      "\n"
     ]
    },
    {
     "data": {
      "application/vnd.jupyter.widget-view+json": {
       "model_id": "1dcd558b32b441dda225e8e36b641107",
       "version_major": 2,
       "version_minor": 0
      },
      "text/plain": [
       "  0%|          | 0/1 [00:00<?, ?it/s]"
      ]
     },
     "metadata": {},
     "output_type": "display_data"
    },
    {
     "name": "stdout",
     "output_type": "stream",
     "text": [
      "CSPR = 12.00 dB\n",
      "12500/12500 [==============================] - 8s 674us/step\n",
      "Results:\n",
      "BER: 6.25e-06\n",
      "SNR: 21.90 dB\n",
      "SIR =  17.09  dB\n",
      "GMI: 4.00 bits\n",
      "\n"
     ]
    },
    {
     "data": {
      "application/vnd.jupyter.widget-view+json": {
       "model_id": "03d7e255cffc496f8dc7f8f960505324",
       "version_major": 2,
       "version_minor": 0
      },
      "text/plain": [
       "  0%|          | 0/1 [00:00<?, ?it/s]"
      ]
     },
     "metadata": {},
     "output_type": "display_data"
    },
    {
     "name": "stdout",
     "output_type": "stream",
     "text": [
      "CSPR = 12.00 dB\n",
      "12500/12500 [==============================] - 8s 629us/step\n",
      "Results:\n",
      "BER: 9.37e-06\n",
      "SNR: 20.93 dB\n",
      "SIR =  15.97  dB\n",
      "GMI: 4.00 bits\n",
      "\n"
     ]
    },
    {
     "data": {
      "application/vnd.jupyter.widget-view+json": {
       "model_id": "f43785662263440182c3650826c4b6ad",
       "version_major": 2,
       "version_minor": 0
      },
      "text/plain": [
       "  0%|          | 0/1 [00:00<?, ?it/s]"
      ]
     },
     "metadata": {},
     "output_type": "display_data"
    },
    {
     "name": "stdout",
     "output_type": "stream",
     "text": [
      "CSPR = 12.00 dB\n",
      "12500/12500 [==============================] - 8s 656us/step\n",
      "Results:\n",
      "BER: 1.87e-05\n",
      "SNR: 20.64 dB\n",
      "SIR =  15.42  dB\n",
      "GMI: 4.00 bits\n",
      "\n"
     ]
    },
    {
     "data": {
      "application/vnd.jupyter.widget-view+json": {
       "model_id": "d3377d1ad94140afacff9ddcf3c9b9db",
       "version_major": 2,
       "version_minor": 0
      },
      "text/plain": [
       "  0%|          | 0/1 [00:00<?, ?it/s]"
      ]
     },
     "metadata": {},
     "output_type": "display_data"
    },
    {
     "name": "stdout",
     "output_type": "stream",
     "text": [
      "CSPR = 12.00 dB\n",
      "12500/12500 [==============================] - 8s 666us/step\n",
      "Results:\n",
      "BER: 2.19e-05\n",
      "SNR: 20.92 dB\n",
      "SIR =  14.99  dB\n",
      "GMI: 4.00 bits\n",
      "\n"
     ]
    },
    {
     "data": {
      "application/vnd.jupyter.widget-view+json": {
       "model_id": "f64bb67db63c41e782cc56a7fd615ea6",
       "version_major": 2,
       "version_minor": 0
      },
      "text/plain": [
       "  0%|          | 0/1 [00:00<?, ?it/s]"
      ]
     },
     "metadata": {},
     "output_type": "display_data"
    },
    {
     "name": "stdout",
     "output_type": "stream",
     "text": [
      "CSPR = 12.00 dB\n",
      "12500/12500 [==============================] - 8s 645us/step\n",
      "Results:\n",
      "BER: 1.87e-05\n",
      "SNR: 20.17 dB\n",
      "SIR =  14.3  dB\n",
      "GMI: 4.00 bits\n",
      "\n"
     ]
    },
    {
     "data": {
      "application/vnd.jupyter.widget-view+json": {
       "model_id": "cbc5db7b0e5748f38b612c56a605a6f9",
       "version_major": 2,
       "version_minor": 0
      },
      "text/plain": [
       "  0%|          | 0/1 [00:00<?, ?it/s]"
      ]
     },
     "metadata": {},
     "output_type": "display_data"
    },
    {
     "name": "stdout",
     "output_type": "stream",
     "text": [
      "CSPR = 12.00 dB\n",
      "12500/12500 [==============================] - 9s 699us/step\n",
      "Results:\n",
      "BER: 3.13e-06\n",
      "SNR: 20.09 dB\n",
      "SIR =  13.89  dB\n",
      "GMI: 4.00 bits\n",
      "\n"
     ]
    },
    {
     "data": {
      "application/vnd.jupyter.widget-view+json": {
       "model_id": "1a7d8bfda8ee4e39bd554bed44404174",
       "version_major": 2,
       "version_minor": 0
      },
      "text/plain": [
       "  0%|          | 0/1 [00:00<?, ?it/s]"
      ]
     },
     "metadata": {},
     "output_type": "display_data"
    },
    {
     "name": "stdout",
     "output_type": "stream",
     "text": [
      "CSPR = 12.00 dB\n",
      "12500/12500 [==============================] - 8s 645us/step\n",
      "Results:\n",
      "BER: 9.37e-06\n",
      "SNR: 19.90 dB\n",
      "SIR =  13.4  dB\n",
      "GMI: 4.00 bits\n",
      "\n"
     ]
    },
    {
     "data": {
      "application/vnd.jupyter.widget-view+json": {
       "model_id": "0479746d814e48dca35d3d6b8d853459",
       "version_major": 2,
       "version_minor": 0
      },
      "text/plain": [
       "  0%|          | 0/1 [00:00<?, ?it/s]"
      ]
     },
     "metadata": {},
     "output_type": "display_data"
    },
    {
     "name": "stdout",
     "output_type": "stream",
     "text": [
      "CSPR = 12.00 dB\n",
      "12500/12500 [==============================] - 8s 643us/step\n",
      "Results:\n",
      "BER: 1.25e-05\n",
      "SNR: 19.97 dB\n",
      "SIR =  10.6  dB\n",
      "GMI: 4.00 bits\n",
      "\n"
     ]
    },
    {
     "data": {
      "application/vnd.jupyter.widget-view+json": {
       "model_id": "703f10433a4747b8833b41c8ef4afe56",
       "version_major": 2,
       "version_minor": 0
      },
      "text/plain": [
       "  0%|          | 0/1 [00:00<?, ?it/s]"
      ]
     },
     "metadata": {},
     "output_type": "display_data"
    },
    {
     "name": "stdout",
     "output_type": "stream",
     "text": [
      "CSPR = 12.00 dB\n",
      "12500/12500 [==============================] - 9s 724us/step\n",
      "Results:\n",
      "BER: 7.19e-05\n",
      "SNR: 18.89 dB\n",
      "SIR =  12.55  dB\n",
      "GMI: 4.00 bits\n",
      "\n"
     ]
    },
    {
     "data": {
      "application/vnd.jupyter.widget-view+json": {
       "model_id": "82dd27a8044e4587bb0964ad28ddd4c4",
       "version_major": 2,
       "version_minor": 0
      },
      "text/plain": [
       "  0%|          | 0/1 [00:00<?, ?it/s]"
      ]
     },
     "metadata": {},
     "output_type": "display_data"
    },
    {
     "name": "stdout",
     "output_type": "stream",
     "text": [
      "CSPR = 12.00 dB\n",
      "12500/12500 [==============================] - 9s 719us/step\n",
      "Results:\n",
      "BER: 1.44e-04\n",
      "SNR: 18.42 dB\n",
      "SIR =  12.71  dB\n",
      "GMI: 4.00 bits\n",
      "\n"
     ]
    },
    {
     "data": {
      "application/vnd.jupyter.widget-view+json": {
       "model_id": "809a19b3bd3a46cb8e6907aacfb1fd51",
       "version_major": 2,
       "version_minor": 0
      },
      "text/plain": [
       "  0%|          | 0/1 [00:00<?, ?it/s]"
      ]
     },
     "metadata": {},
     "output_type": "display_data"
    },
    {
     "name": "stdout",
     "output_type": "stream",
     "text": [
      "CSPR = 12.00 dB\n",
      "12500/12500 [==============================] - 8s 632us/step\n",
      "Results:\n",
      "BER: 6.25e-05\n",
      "SNR: 19.04 dB\n",
      "SIR =  11.88  dB\n",
      "GMI: 4.00 bits\n",
      "\n"
     ]
    },
    {
     "data": {
      "application/vnd.jupyter.widget-view+json": {
       "model_id": "c183ca8cc0674c259f7c4438aa4088d0",
       "version_major": 2,
       "version_minor": 0
      },
      "text/plain": [
       "  0%|          | 0/1 [00:00<?, ?it/s]"
      ]
     },
     "metadata": {},
     "output_type": "display_data"
    },
    {
     "name": "stdout",
     "output_type": "stream",
     "text": [
      "CSPR = 12.00 dB\n",
      "12500/12500 [==============================] - 8s 654us/step\n",
      "Results:\n",
      "BER: 3.13e-05\n",
      "SNR: 19.02 dB\n",
      "SIR =  11.65  dB\n",
      "GMI: 4.00 bits\n",
      "\n"
     ]
    },
    {
     "data": {
      "application/vnd.jupyter.widget-view+json": {
       "model_id": "79f6045ed5b54287a3dc9144dde4c5a7",
       "version_major": 2,
       "version_minor": 0
      },
      "text/plain": [
       "  0%|          | 0/1 [00:00<?, ?it/s]"
      ]
     },
     "metadata": {},
     "output_type": "display_data"
    },
    {
     "name": "stdout",
     "output_type": "stream",
     "text": [
      "CSPR = 12.00 dB\n",
      "12500/12500 [==============================] - 8s 603us/step\n",
      "Results:\n",
      "BER: 7.50e-05\n",
      "SNR: 18.82 dB\n",
      "SIR =  11.29  dB\n",
      "GMI: 4.00 bits\n",
      "\n"
     ]
    },
    {
     "data": {
      "application/vnd.jupyter.widget-view+json": {
       "model_id": "1c9d2af18fd64fdb85fd0690634f4635",
       "version_major": 2,
       "version_minor": 0
      },
      "text/plain": [
       "  0%|          | 0/1 [00:00<?, ?it/s]"
      ]
     },
     "metadata": {},
     "output_type": "display_data"
    },
    {
     "name": "stdout",
     "output_type": "stream",
     "text": [
      "CSPR = 12.00 dB\n",
      "12500/12500 [==============================] - 8s 654us/step\n",
      "Results:\n",
      "BER: 7.50e-05\n",
      "SNR: 18.72 dB\n",
      "SIR =  11.03  dB\n",
      "GMI: 4.00 bits\n",
      "\n"
     ]
    },
    {
     "data": {
      "application/vnd.jupyter.widget-view+json": {
       "model_id": "f2a3ec037922499d8d4deff1c0103a5d",
       "version_major": 2,
       "version_minor": 0
      },
      "text/plain": [
       "  0%|          | 0/18 [00:00<?, ?it/s]"
      ]
     },
     "metadata": {},
     "output_type": "display_data"
    },
    {
     "data": {
      "application/vnd.jupyter.widget-view+json": {
       "model_id": "65ee13cef92c4c79a3db69febc47a683",
       "version_major": 2,
       "version_minor": 0
      },
      "text/plain": [
       "  0%|          | 0/1 [00:00<?, ?it/s]"
      ]
     },
     "metadata": {},
     "output_type": "display_data"
    },
    {
     "name": "stdout",
     "output_type": "stream",
     "text": [
      "CSPR = 12.00 dB\n",
      "12500/12500 [==============================] - 67s 5ms/step\n",
      "Results:\n",
      "BER: 0.00e+00\n",
      "SNR: 24.55 dB\n",
      "SIR =  23.51  dB\n",
      "GMI: 4.00 bits\n",
      "\n"
     ]
    },
    {
     "data": {
      "application/vnd.jupyter.widget-view+json": {
       "model_id": "2349dacf5ff14d70bacc9f5ee71c2649",
       "version_major": 2,
       "version_minor": 0
      },
      "text/plain": [
       "  0%|          | 0/1 [00:00<?, ?it/s]"
      ]
     },
     "metadata": {},
     "output_type": "display_data"
    },
    {
     "name": "stdout",
     "output_type": "stream",
     "text": [
      "CSPR = 12.00 dB\n",
      "12500/12500 [==============================] - 60s 5ms/step\n",
      "Results:\n",
      "BER: 0.00e+00\n",
      "SNR: 22.64 dB\n",
      "SIR =  20.91  dB\n",
      "GMI: 4.00 bits\n",
      "\n"
     ]
    },
    {
     "data": {
      "application/vnd.jupyter.widget-view+json": {
       "model_id": "c9b258b3194341699ef3c8063d8ccf2c",
       "version_major": 2,
       "version_minor": 0
      },
      "text/plain": [
       "  0%|          | 0/1 [00:00<?, ?it/s]"
      ]
     },
     "metadata": {},
     "output_type": "display_data"
    },
    {
     "name": "stdout",
     "output_type": "stream",
     "text": [
      "CSPR = 12.00 dB\n",
      "12500/12500 [==============================] - 69s 6ms/step\n",
      "Results:\n",
      "BER: 0.00e+00\n",
      "SNR: 22.13 dB\n",
      "SIR =  19.37  dB\n",
      "GMI: 4.00 bits\n",
      "\n"
     ]
    },
    {
     "data": {
      "application/vnd.jupyter.widget-view+json": {
       "model_id": "6c296c6673f44a64bddcd5310e44fa4c",
       "version_major": 2,
       "version_minor": 0
      },
      "text/plain": [
       "  0%|          | 0/1 [00:00<?, ?it/s]"
      ]
     },
     "metadata": {},
     "output_type": "display_data"
    },
    {
     "name": "stdout",
     "output_type": "stream",
     "text": [
      "CSPR = 12.00 dB\n",
      "12500/12500 [==============================] - 68s 5ms/step\n",
      "Results:\n",
      "BER: 0.00e+00\n",
      "SNR: 22.05 dB\n",
      "SIR =  18.11  dB\n",
      "GMI: 4.00 bits\n",
      "\n"
     ]
    },
    {
     "data": {
      "application/vnd.jupyter.widget-view+json": {
       "model_id": "3d370e1a76e44ce4b500ed8941042408",
       "version_major": 2,
       "version_minor": 0
      },
      "text/plain": [
       "  0%|          | 0/1 [00:00<?, ?it/s]"
      ]
     },
     "metadata": {},
     "output_type": "display_data"
    },
    {
     "name": "stdout",
     "output_type": "stream",
     "text": [
      "CSPR = 12.00 dB\n",
      "12500/12500 [==============================] - 66s 5ms/step\n",
      "Results:\n",
      "BER: 0.00e+00\n",
      "SNR: 22.20 dB\n",
      "SIR =  17.17  dB\n",
      "GMI: 4.00 bits\n",
      "\n"
     ]
    },
    {
     "data": {
      "application/vnd.jupyter.widget-view+json": {
       "model_id": "adaa29b5d9164eb788dd4055767f9d72",
       "version_major": 2,
       "version_minor": 0
      },
      "text/plain": [
       "  0%|          | 0/1 [00:00<?, ?it/s]"
      ]
     },
     "metadata": {},
     "output_type": "display_data"
    },
    {
     "name": "stdout",
     "output_type": "stream",
     "text": [
      "CSPR = 12.00 dB\n",
      "12500/12500 [==============================] - 63s 5ms/step\n",
      "Results:\n",
      "BER: 0.00e+00\n",
      "SNR: 21.98 dB\n",
      "SIR =  16.34  dB\n",
      "GMI: 4.00 bits\n",
      "\n"
     ]
    },
    {
     "data": {
      "application/vnd.jupyter.widget-view+json": {
       "model_id": "8cb3986e0fd54527b8de9bb6c85a2996",
       "version_major": 2,
       "version_minor": 0
      },
      "text/plain": [
       "  0%|          | 0/1 [00:00<?, ?it/s]"
      ]
     },
     "metadata": {},
     "output_type": "display_data"
    },
    {
     "name": "stdout",
     "output_type": "stream",
     "text": [
      "CSPR = 12.00 dB\n",
      "12500/12500 [==============================] - 62s 5ms/step\n",
      "Results:\n",
      "BER: 0.00e+00\n",
      "SNR: 21.63 dB\n",
      "SIR =  15.64  dB\n",
      "GMI: 4.00 bits\n",
      "\n"
     ]
    },
    {
     "data": {
      "application/vnd.jupyter.widget-view+json": {
       "model_id": "b13eeee07870418eb4482d85cfa5530e",
       "version_major": 2,
       "version_minor": 0
      },
      "text/plain": [
       "  0%|          | 0/1 [00:00<?, ?it/s]"
      ]
     },
     "metadata": {},
     "output_type": "display_data"
    },
    {
     "name": "stdout",
     "output_type": "stream",
     "text": [
      "CSPR = 12.00 dB\n",
      "12500/12500 [==============================] - 62s 5ms/step\n",
      "Results:\n",
      "BER: 0.00e+00\n",
      "SNR: 21.04 dB\n",
      "SIR =  15.08  dB\n",
      "GMI: 4.00 bits\n",
      "\n"
     ]
    },
    {
     "data": {
      "application/vnd.jupyter.widget-view+json": {
       "model_id": "1253a9d27c87465a8c084bb68680a336",
       "version_major": 2,
       "version_minor": 0
      },
      "text/plain": [
       "  0%|          | 0/1 [00:00<?, ?it/s]"
      ]
     },
     "metadata": {},
     "output_type": "display_data"
    },
    {
     "name": "stdout",
     "output_type": "stream",
     "text": [
      "CSPR = 12.00 dB\n",
      "12500/12500 [==============================] - 66s 5ms/step\n",
      "Results:\n",
      "BER: 0.00e+00\n",
      "SNR: 20.73 dB\n",
      "SIR =  14.47  dB\n",
      "GMI: 4.00 bits\n",
      "\n"
     ]
    },
    {
     "data": {
      "application/vnd.jupyter.widget-view+json": {
       "model_id": "82ba367ca93d485e9eaec196b2da8131",
       "version_major": 2,
       "version_minor": 0
      },
      "text/plain": [
       "  0%|          | 0/1 [00:00<?, ?it/s]"
      ]
     },
     "metadata": {},
     "output_type": "display_data"
    },
    {
     "name": "stdout",
     "output_type": "stream",
     "text": [
      "CSPR = 12.00 dB\n",
      "12500/12500 [==============================] - 63s 5ms/step\n",
      "Results:\n",
      "BER: 6.25e-06\n",
      "SNR: 20.42 dB\n",
      "SIR =  14.03  dB\n",
      "GMI: 4.00 bits\n",
      "\n"
     ]
    },
    {
     "data": {
      "application/vnd.jupyter.widget-view+json": {
       "model_id": "1657844fde7a49cc8cc2767b464be9b2",
       "version_major": 2,
       "version_minor": 0
      },
      "text/plain": [
       "  0%|          | 0/1 [00:00<?, ?it/s]"
      ]
     },
     "metadata": {},
     "output_type": "display_data"
    },
    {
     "name": "stdout",
     "output_type": "stream",
     "text": [
      "CSPR = 12.00 dB\n",
      "12500/12500 [==============================] - 64s 5ms/step\n",
      "Results:\n",
      "BER: 1.25e-05\n",
      "SNR: 20.03 dB\n",
      "SIR =  14.5  dB\n",
      "GMI: 4.00 bits\n",
      "\n"
     ]
    },
    {
     "data": {
      "application/vnd.jupyter.widget-view+json": {
       "model_id": "e0cef3ed1a1642feae2a2b44388755e9",
       "version_major": 2,
       "version_minor": 0
      },
      "text/plain": [
       "  0%|          | 0/1 [00:00<?, ?it/s]"
      ]
     },
     "metadata": {},
     "output_type": "display_data"
    },
    {
     "name": "stdout",
     "output_type": "stream",
     "text": [
      "CSPR = 12.00 dB\n",
      "12500/12500 [==============================] - 64s 5ms/step\n",
      "Results:\n",
      "BER: 9.37e-06\n",
      "SNR: 19.69 dB\n",
      "SIR =  13.09  dB\n",
      "GMI: 4.00 bits\n",
      "\n"
     ]
    },
    {
     "data": {
      "application/vnd.jupyter.widget-view+json": {
       "model_id": "ffe1fc1469d14729ae8e370473e018f9",
       "version_major": 2,
       "version_minor": 0
      },
      "text/plain": [
       "  0%|          | 0/1 [00:00<?, ?it/s]"
      ]
     },
     "metadata": {},
     "output_type": "display_data"
    },
    {
     "name": "stdout",
     "output_type": "stream",
     "text": [
      "CSPR = 12.00 dB\n",
      "12500/12500 [==============================] - 63s 5ms/step\n",
      "Results:\n",
      "BER: 1.56e-05\n",
      "SNR: 19.97 dB\n",
      "SIR =  13.12  dB\n",
      "GMI: 4.00 bits\n",
      "\n"
     ]
    },
    {
     "data": {
      "application/vnd.jupyter.widget-view+json": {
       "model_id": "903459a177d94527a50c3cc1ea4a3b9b",
       "version_major": 2,
       "version_minor": 0
      },
      "text/plain": [
       "  0%|          | 0/1 [00:00<?, ?it/s]"
      ]
     },
     "metadata": {},
     "output_type": "display_data"
    },
    {
     "name": "stdout",
     "output_type": "stream",
     "text": [
      "CSPR = 12.00 dB\n",
      "12500/12500 [==============================] - 72s 6ms/step\n",
      "Results:\n",
      "BER: 3.75e-05\n",
      "SNR: 19.46 dB\n",
      "SIR =  12.32  dB\n",
      "GMI: 4.00 bits\n",
      "\n"
     ]
    },
    {
     "data": {
      "application/vnd.jupyter.widget-view+json": {
       "model_id": "b40c6a63cf6f4dfd886e50d6be2c2658",
       "version_major": 2,
       "version_minor": 0
      },
      "text/plain": [
       "  0%|          | 0/1 [00:00<?, ?it/s]"
      ]
     },
     "metadata": {},
     "output_type": "display_data"
    },
    {
     "name": "stdout",
     "output_type": "stream",
     "text": [
      "CSPR = 12.00 dB\n",
      "12500/12500 [==============================] - 73s 6ms/step\n",
      "Results:\n",
      "BER: 6.25e-06\n",
      "SNR: 20.20 dB\n",
      "SIR =  12.85  dB\n",
      "GMI: 4.00 bits\n",
      "\n"
     ]
    },
    {
     "data": {
      "application/vnd.jupyter.widget-view+json": {
       "model_id": "a359911cd69e4132837b221db210cfe7",
       "version_major": 2,
       "version_minor": 0
      },
      "text/plain": [
       "  0%|          | 0/1 [00:00<?, ?it/s]"
      ]
     },
     "metadata": {},
     "output_type": "display_data"
    },
    {
     "name": "stdout",
     "output_type": "stream",
     "text": [
      "CSPR = 12.00 dB\n",
      "12500/12500 [==============================] - 71s 6ms/step\n",
      "Results:\n",
      "BER: 1.87e-05\n",
      "SNR: 20.00 dB\n",
      "SIR =  12.68  dB\n",
      "GMI: 4.00 bits\n",
      "\n"
     ]
    },
    {
     "data": {
      "application/vnd.jupyter.widget-view+json": {
       "model_id": "e3c7b20d6b614095801354a405e4c306",
       "version_major": 2,
       "version_minor": 0
      },
      "text/plain": [
       "  0%|          | 0/1 [00:00<?, ?it/s]"
      ]
     },
     "metadata": {},
     "output_type": "display_data"
    },
    {
     "name": "stdout",
     "output_type": "stream",
     "text": [
      "CSPR = 12.00 dB\n",
      "12500/12500 [==============================] - 69s 5ms/step\n",
      "Results:\n",
      "BER: 4.06e-05\n",
      "SNR: 19.70 dB\n",
      "SIR =  12.23  dB\n",
      "GMI: 4.00 bits\n",
      "\n"
     ]
    },
    {
     "data": {
      "application/vnd.jupyter.widget-view+json": {
       "model_id": "a0d5ba7e904c4aaba9a2480b98b352e8",
       "version_major": 2,
       "version_minor": 0
      },
      "text/plain": [
       "  0%|          | 0/1 [00:00<?, ?it/s]"
      ]
     },
     "metadata": {},
     "output_type": "display_data"
    },
    {
     "name": "stdout",
     "output_type": "stream",
     "text": [
      "CSPR = 12.00 dB\n",
      "12500/12500 [==============================] - 68s 5ms/step\n",
      "Results:\n",
      "BER: 3.75e-05\n",
      "SNR: 19.68 dB\n",
      "SIR =  11.91  dB\n",
      "GMI: 4.00 bits\n",
      "\n"
     ]
    }
   ],
   "source": [
    "Rolloff = np.arange(0.05, 0.95, 0.05)\n",
    "BER = np.zeros((3, len(Rolloff)))\n",
    "SER = np.zeros((3, len(Rolloff)))\n",
    "GMI = np.zeros((3, len(Rolloff)))\n",
    "MI  = np.zeros((3, len(Rolloff)))\n",
    "SNR = np.zeros((3, len(Rolloff)))\n",
    "SIR = np.zeros((3, len(Rolloff)))\n",
    "\n",
    "for indfile in range(0, Interactions):\n",
    "    for indAlg, alg in enumerate(['KK', 'MLP', 'CONVNET']):\n",
    "        for indRoll, rollOff in enumerate(tqdm(Rolloff)):\n",
    "            \n",
    "            paramTx.alphaRRC = rollOff \n",
    "            # generate optical signal signal\n",
    "            sigTx, symbTx_, paramTx = simpleWDMTx(paramTx)\n",
    "\n",
    "            # simulate linear signal propagation\n",
    "            sigCh = linFiberCh(sigTx, Ltotal, alpha, D, Fc, Fs)\n",
    "\n",
    "            symbTx = symbTx_[:, :, chIndex]\n",
    "            Plo = 10 ** (Plo_dBm / 10) * 1e-3  # power in W\n",
    "\n",
    "            # generate LO field\n",
    "            π = np.pi\n",
    "            t = np.arange(0, len(sigCh))*Ts\n",
    "            ϕ_pn_lo = phaseNoise(lw, len(sigCh), Ts)\n",
    "\n",
    "            sigLO = np.sqrt(Plo) * np.exp(-1j * (2 * π * FO * t + ϕ_lo + ϕ_pn_lo))\n",
    "\n",
    "            # Add LO to the received signal\n",
    "            sigRx = np.sqrt(Plo) + sigCh* np.exp(1j * (2 * π * FO * t + ϕ_lo + ϕ_pn_lo))\n",
    "            sfm   = sigRx.copy()\n",
    "\n",
    "            print('CSPR = %.2f dB'%(10*np.log10(signal_power(sigLO)/signal_power(sigCh))))\n",
    "\n",
    "            # simulate ideal direct-detection optical receiver\n",
    "            Ipd = photodiode(sigRx, paramPD)\n",
    "            Amp = np.sqrt(Ipd.real)\n",
    "            Amp = resample(Amp, paramADC).real\n",
    "\n",
    "            # resampling to ADC sampling rate\n",
    "            sigCh = resample(sigCh, paramADC)\n",
    "            sfm = resample(sfm, paramADC)\n",
    "            newFs = paramADC.SpS_out*paramTx.Rs\n",
    "\n",
    "            sfm = sfm/np.sqrt(signal_power(sfm))\n",
    "            if alg == 'KK':\n",
    "                # Kramers-Kronig phase-retrieval\n",
    "                phiTime = KramersKronigRx(Amp, newFs)\n",
    "                # optical field reconstruction\n",
    "                sigRx = Amp*np.exp(1j*phiTime)\n",
    "\n",
    "            elif alg == 'MLP':\n",
    "                # Mlp phase-retrieval\n",
    "                model = tf.keras.models.load_model(path_mlp+'testModel_SpS_'+str(paramADC.SpS_out)+'_FO_'+str(FO/10e9)+'GHz_Rolloff_'+str(round(paramTx.alphaRRC, 2))) \n",
    "                #sigPhase = np.angle(sfm) # get signal phase samples (labels) (L,)\n",
    "                sigAmp  = np.pad(Amp, (int(N/2), int(N/2)), 'constant') # get signal amplitude samples (L,)\n",
    "                # create set of input features\n",
    "                X_input = np.zeros((len(sfm), N)) #(L,N)\n",
    "\n",
    "                for indPhase in range(len(sfm)):\n",
    "                    X_input[indPhase] = sigAmp[indPhase:N+indPhase]\n",
    "\n",
    "                sigRx_NN = model.predict(X_input)\n",
    "                # optical field reconstruction\n",
    "                sigRx = sigRx_NN[:,0]+1j*sigRx_NN[:,1]\n",
    "\n",
    "            elif alg == 'CONVNET':\n",
    "                # ConvNet phase-retrieval\n",
    "                model = tf.keras.models.load_model(path_conv+'testModel_SpS_'+str(paramADC.SpS_out)+'_FO_'+str(FO/10e9)+'GHz_Rolloff_'+str(round(paramTx.alphaRRC, 2)))\n",
    "                #sigPhase = np.angle(sfm) # get signal phase samples (labels) (L,)\n",
    "                sigAmp  = np.pad(Amp, (int(N/2), int(N/2)), 'constant') # get signal amplitude samples (L,)\n",
    "                # create set of input features\n",
    "                X_input = np.zeros((len(sfm), N)) #(L,N)\n",
    "\n",
    "                for indPhase in range(len(sfm)):\n",
    "                    X_input[indPhase] = sigAmp[indPhase:N+indPhase]\n",
    "\n",
    "                sigRx_NN = model.predict(X_input)\n",
    "                # optical field reconstruction\n",
    "                sigRx = sigRx_NN[:,0]+1j*sigRx_NN[:,1]    \n",
    "\n",
    "            # remove DC level\n",
    "            sigRx -= np.mean(sigRx) # np.sqrt(Plo)  \n",
    "\n",
    "            # downshift to baseband\n",
    "            t = np.arange(0, len(sigRx))*(1/newFs)\n",
    "            sigRx *= np.exp(-1j * (2 * π * FO * t))\n",
    "            \n",
    "            # Matched filtering\n",
    "            if paramTx.pulse == \"nrz\":\n",
    "                pulse = pulseShape(\"nrz\", paramADC.SpS_out)\n",
    "            elif paramTx.pulse == \"rrc\":\n",
    "                pulse = pulseShape(\n",
    "                    \"rrc\", paramADC.SpS_out, N=paramTx.Ntaps, alpha=paramTx.alphaRRC, Ts=1 / paramTx.Rs\n",
    "                )\n",
    "\n",
    "            pulse = pulse / np.max(np.abs(pulse))\n",
    "            sigRx = firFilter(pulse, sigRx)\n",
    "            sigCh = firFilter(pulse, sigCh)\n",
    "            \n",
    "            # correct for (possible) phase ambiguity\n",
    "            rot = np.mean(sigCh/sigRx)\n",
    "            sigRx = rot * sigRx\n",
    "            sigRx = sigRx / np.sqrt(signal_power(sigRx))\n",
    "\n",
    "            intf = sigRx/np.sqrt(signal_power(sigRx))-sigCh/np.sqrt(signal_power(sigCh))\n",
    "\n",
    "            SIR[indAlg, indRoll] = 1/signal_power(intf)\n",
    "\n",
    "\n",
    "            # resample to 2 samples/symbol:\n",
    "            paramRes = parameters()\n",
    "            paramRes.Rs = paramTx.Rs\n",
    "            paramRes.SpS_in  = paramADC.SpS_out\n",
    "            paramRes.SpS_out = 2\n",
    "\n",
    "            sigRx = resample(sigRx, paramRes)\n",
    "\n",
    "            # CD compensation\n",
    "            sigRx = edc(sigRx, Ltotal, D, Fc, paramRes.SpS_out*paramTx.Rs)\n",
    "\n",
    "            # Downsampling to 2 sps and re-synchronization with transmitted sequences\n",
    "            sigRx = sigRx.reshape(-1, 1)\n",
    "\n",
    "            symbRx = symbolSync(sigRx, symbTx, 2)\n",
    "\n",
    "            # Power normalization\n",
    "            x = sigRx\n",
    "            d = symbRx\n",
    "\n",
    "            x = x.reshape(len(x), 1) / np.sqrt(signal_power(x))\n",
    "            d = d.reshape(len(d), 1) / np.sqrt(signal_power(d))\n",
    "\n",
    "            # Adaptive equalization\n",
    "            mod = QAMModem(m=paramTx.M)\n",
    "\n",
    "            paramEq = parameters()\n",
    "            paramEq.nTaps = 15\n",
    "            paramEq.SpS = 2\n",
    "            paramEq.mu = [1e-3, 5e-4]\n",
    "            paramEq.numIter = 5\n",
    "            paramEq.storeCoeff = False\n",
    "            paramEq.alg = [\"da-rde\", \"rde\"]\n",
    "            paramEq.M = paramTx.M\n",
    "            paramEq.L = [20000, 80000]\n",
    "            paramEq.prgsBar = False\n",
    "\n",
    "            y_EQ, H, errSq, Hiter = mimoAdaptEqualizer(x, dx=d, paramEq=paramEq)\n",
    "\n",
    "            # Carrier phase recovery\n",
    "            paramCPR = parameters()\n",
    "            paramCPR.alg = \"bps\"\n",
    "            paramCPR.M = paramTx.M\n",
    "            paramCPR.N = 85\n",
    "            paramCPR.B = 64\n",
    "            paramCPR.pilotInd = np.arange(0, len(y_EQ), 20)\n",
    "\n",
    "            y_CPR, θ = cpr(y_EQ, symbTx=d, paramCPR=paramCPR)\n",
    "\n",
    "            y_CPR = y_CPR / np.sqrt(signal_power(y_CPR))\n",
    "\n",
    "            # correct for (possible) phase ambiguity\n",
    "            for k in range(y_CPR.shape[1]):\n",
    "                rot = np.mean(d[:, k] / y_CPR[:, k])\n",
    "                y_CPR[:, k] = rot * y_CPR[:, k]\n",
    "\n",
    "            y_CPR = y_CPR / np.sqrt(signal_power(y_CPR))\n",
    "\n",
    "            discard = int(paramEq.L[0]/2)\n",
    "\n",
    "            ind = np.arange(discard, d.shape[0] - discard)\n",
    "            BER[indAlg,indRoll], SER[indAlg,indRoll], SNR[indAlg,indRoll] = fastBERcalc(y_CPR[ind, :], d[ind, :], paramTx.M, 'qam')\n",
    "            GMI[indAlg,indRoll], _ = monteCarloGMI(y_CPR[ind, :], d[ind, :],  paramTx.M, 'qam')\n",
    "            MI[indAlg,indRoll] = monteCarloMI(y_CPR[ind, :], d[ind, :],  paramTx.M, 'qam')\n",
    "\n",
    "            print(\"Results:\")\n",
    "            print(\"BER: %.2e\" %(BER[indAlg,indRoll]))\n",
    "            print(\"SNR: %.2f dB\" %(SNR[indAlg,indRoll]))\n",
    "            print('SIR = ', round(10*np.log10(SIR[indAlg,indRoll]), 2), ' dB')\n",
    "            print(\"GMI: %.2f bits\\n\" %(GMI[indAlg,indRoll]))\n",
    "\n",
    "    if saveData:\n",
    "        # save the simulation data\n",
    "        np.save(path_data+'Rolloff_BER_SpS_'+str(paramADC.SpS_out)+'_'+str(N)+'_Sample_'+str(indfile), BER)\n",
    "        np.save(path_data+'Rolloff_SNR_SpS_'+str(paramADC.SpS_out)+'_'+str(N)+'_Sample_'+str(indfile), SNR)\n",
    "        np.save(path_data+'Rolloff_SIR_SpS_'+str(paramADC.SpS_out)+'_'+str(N)+'_Sample_'+str(indfile), SIR)\n",
    "        np.save(path_data+'Rolloff_SER_SpS_'+str(paramADC.SpS_out)+'_'+str(N)+'_Sample_'+str(indfile), SER)"
   ]
  },
  {
   "attachments": {},
   "cell_type": "markdown",
   "metadata": {},
   "source": [
    "## Simulation of a single polarization optical signal transmission"
   ]
  },
  {
   "cell_type": "code",
   "execution_count": 10,
   "metadata": {},
   "outputs": [],
   "source": [
    "## Transmitter parameters:\n",
    "paramTx = parameters()\n",
    "paramTx.M = 16                 # order of the modulation format\n",
    "paramTx.Rs = 32e9              # symbol rate [baud]\n",
    "paramTx.SpS = 4                # samples per symbol\n",
    "paramTx.Nbits = 400000         # total number of bits per polarization\n",
    "paramTx.pulse = \"rrc\"          # pulse shaping filter\n",
    "paramTx.Ntaps = 1024           # number of pulse shaping filter coefficients\n",
    "paramTx.alphaRRC = 0.5         # RRC rolloff\n",
    "paramTx.Pch_dBm = 0            # power of the optical signal [dBm]\n",
    "paramTx.Nch = 1                # number of WDM channels\n",
    "paramTx.Fc = 193.1e12          # central frequency of the optical spectrum\n",
    "paramTx.freqSpac = 37.5e9      # WDM grid spacing\n",
    "\n",
    "## Optical channel parameters:\n",
    "Ltotal = 100     # total link distance [km]\n",
    "alpha = 0        # fiber loss parameter [dB/km]\n",
    "D = 16           # fiber dispersion parameter [ps/nm/km]\n",
    "Fc = paramTx.Fc  # central optical frequency of the WDM spectrum [Hz]\n",
    "\n",
    "## Receiver parameters:\n",
    "\n",
    "# local oscillator (LO)\n",
    "# FO = paramTx.Rs/2  # frequency offset\n",
    "lw = 0*200e3       # linewidth\n",
    "ϕ_lo = 0           # initial phase in rad\n",
    "Plo_dBm = 12       # power in dBm\n",
    "\n",
    "# ADC sampling rate\n",
    "paramADC = parameters()\n",
    "paramADC.Rs = paramTx.Rs\n",
    "paramADC.SpS_in = paramTx.SpS\n",
    "paramADC.SpS_out = 4\n",
    "\n",
    "## General simulation parameters:\n",
    "chIndex = 0  # index of the channel to be demodulated\n",
    "plotPSD = True\n",
    "Fs = paramTx.Rs * paramTx.SpS  # simulation sampling rate\n",
    "Ts = 1 / Fs\n",
    "\n",
    "# photodiode parameters\n",
    "paramPD = parameters()\n",
    "paramPD.B  = 1.1*paramTx.Rs\n",
    "paramPD.Fs = Fs"
   ]
  },
  {
   "attachments": {},
   "cell_type": "markdown",
   "metadata": {},
   "source": [
    "## Run all *Frequency offset* (FO) variations"
   ]
  },
  {
   "cell_type": "code",
   "execution_count": 12,
   "metadata": {},
   "outputs": [
    {
     "data": {
      "application/vnd.jupyter.widget-view+json": {
       "model_id": "192da75216c644c8862739c80c303ea9",
       "version_major": 2,
       "version_minor": 0
      },
      "text/plain": [
       "  0%|          | 0/6 [00:00<?, ?it/s]"
      ]
     },
     "metadata": {},
     "output_type": "display_data"
    },
    {
     "data": {
      "application/vnd.jupyter.widget-view+json": {
       "model_id": "2bcf15db2613479d9f4fa0676fc6482f",
       "version_major": 2,
       "version_minor": 0
      },
      "text/plain": [
       "  0%|          | 0/1 [00:00<?, ?it/s]"
      ]
     },
     "metadata": {},
     "output_type": "display_data"
    },
    {
     "name": "stdout",
     "output_type": "stream",
     "text": [
      "CSPR = 12.00 dB\n"
     ]
    },
    {
     "data": {
      "application/vnd.jupyter.widget-view+json": {
       "model_id": "34a8826f58da493c8a1615584d9bea18",
       "version_major": 2,
       "version_minor": 0
      },
      "text/plain": [
       "  0%|          | 0/6 [00:00<?, ?it/s]"
      ]
     },
     "metadata": {},
     "output_type": "display_data"
    },
    {
     "data": {
      "application/vnd.jupyter.widget-view+json": {
       "model_id": "5e5454ab7e7a42e7b0bd8165b60c9d15",
       "version_major": 2,
       "version_minor": 0
      },
      "text/plain": [
       "  0%|          | 0/1 [00:00<?, ?it/s]"
      ]
     },
     "metadata": {},
     "output_type": "display_data"
    },
    {
     "name": "stdout",
     "output_type": "stream",
     "text": [
      "CSPR = 12.00 dB\n"
     ]
    },
    {
     "data": {
      "application/vnd.jupyter.widget-view+json": {
       "model_id": "d963eccc808549ed9ccc97ec891fa706",
       "version_major": 2,
       "version_minor": 0
      },
      "text/plain": [
       "  0%|          | 0/6 [00:00<?, ?it/s]"
      ]
     },
     "metadata": {},
     "output_type": "display_data"
    },
    {
     "data": {
      "application/vnd.jupyter.widget-view+json": {
       "model_id": "9b77a70c33964569bccf68ca6bfee651",
       "version_major": 2,
       "version_minor": 0
      },
      "text/plain": [
       "  0%|          | 0/1 [00:00<?, ?it/s]"
      ]
     },
     "metadata": {},
     "output_type": "display_data"
    },
    {
     "name": "stdout",
     "output_type": "stream",
     "text": [
      "CSPR = 12.00 dB\n",
      "12500/12500 [==============================] - 94s 8ms/step\n",
      "Results:\n",
      "BER: 0.00e+00\n",
      "SNR: 21.02 dB\n",
      "SIR =  14.6  dB\n",
      "GMI: 4.00 bits\n",
      "\n"
     ]
    },
    {
     "data": {
      "application/vnd.jupyter.widget-view+json": {
       "model_id": "09674c9fbe6348fe914159226abc08d7",
       "version_major": 2,
       "version_minor": 0
      },
      "text/plain": [
       "  0%|          | 0/1 [00:00<?, ?it/s]"
      ]
     },
     "metadata": {},
     "output_type": "display_data"
    },
    {
     "name": "stdout",
     "output_type": "stream",
     "text": [
      "CSPR = 12.00 dB\n",
      "12500/12500 [==============================] - 73s 6ms/step\n",
      "Results:\n",
      "BER: 0.00e+00\n",
      "SNR: 23.35 dB\n",
      "SIR =  16.2  dB\n",
      "GMI: 4.00 bits\n",
      "\n"
     ]
    },
    {
     "data": {
      "application/vnd.jupyter.widget-view+json": {
       "model_id": "662e8f974d9c418097e1639dfe432d0c",
       "version_major": 2,
       "version_minor": 0
      },
      "text/plain": [
       "  0%|          | 0/1 [00:00<?, ?it/s]"
      ]
     },
     "metadata": {},
     "output_type": "display_data"
    },
    {
     "name": "stdout",
     "output_type": "stream",
     "text": [
      "CSPR = 12.00 dB\n",
      "12500/12500 [==============================] - 74s 6ms/step\n",
      "Results:\n",
      "BER: 0.00e+00\n",
      "SNR: 28.97 dB\n",
      "SIR =  28.21  dB\n",
      "GMI: 4.00 bits\n",
      "\n"
     ]
    },
    {
     "data": {
      "application/vnd.jupyter.widget-view+json": {
       "model_id": "de2cd70bd37f4ee28371a717e1b883f8",
       "version_major": 2,
       "version_minor": 0
      },
      "text/plain": [
       "  0%|          | 0/1 [00:00<?, ?it/s]"
      ]
     },
     "metadata": {},
     "output_type": "display_data"
    },
    {
     "name": "stdout",
     "output_type": "stream",
     "text": [
      "CSPR = 12.00 dB\n",
      "12500/12500 [==============================] - 80s 6ms/step\n",
      "Results:\n",
      "BER: 0.00e+00\n",
      "SNR: 28.76 dB\n",
      "SIR =  22.27  dB\n",
      "GMI: 4.00 bits\n",
      "\n"
     ]
    },
    {
     "data": {
      "application/vnd.jupyter.widget-view+json": {
       "model_id": "aa672883762943aebdd32afa13cd5b8e",
       "version_major": 2,
       "version_minor": 0
      },
      "text/plain": [
       "  0%|          | 0/1 [00:00<?, ?it/s]"
      ]
     },
     "metadata": {},
     "output_type": "display_data"
    },
    {
     "name": "stdout",
     "output_type": "stream",
     "text": [
      "CSPR = 12.00 dB\n",
      "12500/12500 [==============================] - 75s 6ms/step\n",
      "Results:\n",
      "BER: 0.00e+00\n",
      "SNR: 30.72 dB\n",
      "SIR =  26.05  dB\n",
      "GMI: 4.00 bits\n",
      "\n"
     ]
    },
    {
     "data": {
      "application/vnd.jupyter.widget-view+json": {
       "model_id": "446d20c4ecbd47858fa15957becf061b",
       "version_major": 2,
       "version_minor": 0
      },
      "text/plain": [
       "  0%|          | 0/1 [00:00<?, ?it/s]"
      ]
     },
     "metadata": {},
     "output_type": "display_data"
    },
    {
     "name": "stdout",
     "output_type": "stream",
     "text": [
      "CSPR = 12.00 dB\n",
      "12500/12500 [==============================] - 77s 6ms/step\n",
      "Results:\n",
      "BER: 0.00e+00\n",
      "SNR: 32.49 dB\n",
      "SIR =  30.63  dB\n",
      "GMI: 4.00 bits\n",
      "\n"
     ]
    }
   ],
   "source": [
    "FO_Values = np.arange(0e9, 6e9, 1e9)\n",
    "BER = np.zeros((3, len(FO_Values)))\n",
    "SER = np.zeros((3, len(FO_Values)))\n",
    "GMI = np.zeros((3, len(FO_Values)))\n",
    "MI  = np.zeros((3, len(FO_Values)))\n",
    "SNR = np.zeros((3, len(FO_Values)))\n",
    "SIR = np.zeros((3, len(FO_Values)))\n",
    "\n",
    "for indfile in range(0, Interactions):\n",
    "    for indAlg, alg in enumerate(['KK', 'MLP', 'CONVNET']):\n",
    "        for indFO, FOfreq in enumerate(tqdm(FO_Values)):\n",
    "            \n",
    "            FO = paramTx.Rs/2 + FOfreq\n",
    "            # generate optical signal signal\n",
    "            sigTx, symbTx_, paramTx = simpleWDMTx(paramTx)\n",
    "\n",
    "            # simulate linear signal propagation\n",
    "            sigCh = linFiberCh(sigTx, Ltotal, alpha, D, Fc, Fs)\n",
    "\n",
    "            symbTx = symbTx_[:, :, chIndex]\n",
    "            Plo = 10 ** (Plo_dBm / 10) * 1e-3  # power in W\n",
    "\n",
    "            # generate LO field\n",
    "            π = np.pi\n",
    "            t = np.arange(0, len(sigCh))*Ts\n",
    "            ϕ_pn_lo = phaseNoise(lw, len(sigCh), Ts)\n",
    "\n",
    "            sigLO = np.sqrt(Plo) * np.exp(-1j * (2 * π * FO * t + ϕ_lo + ϕ_pn_lo))\n",
    "\n",
    "            # Add LO to the received signal\n",
    "            sigRx = np.sqrt(Plo) + sigCh* np.exp(1j * (2 * π * FO * t + ϕ_lo + ϕ_pn_lo))\n",
    "            sfm   = sigRx.copy()\n",
    "\n",
    "            print('CSPR = %.2f dB'%(10*np.log10(signal_power(sigLO)/signal_power(sigCh))))\n",
    "\n",
    "            # simulate ideal direct-detection optical receiver\n",
    "            Ipd = photodiode(sigRx, paramPD)\n",
    "            Amp = np.sqrt(Ipd.real)\n",
    "            Amp = resample(Amp, paramADC).real\n",
    "\n",
    "            # resampling to ADC sampling rate\n",
    "            sigCh = resample(sigCh, paramADC)\n",
    "            sfm = resample(sfm, paramADC)\n",
    "            newFs = paramADC.SpS_out*paramTx.Rs\n",
    "\n",
    "            sfm = sfm/np.sqrt(signal_power(sfm))\n",
    "            if alg == 'KK':\n",
    "                # Kramers-Kronig phase-retrieval\n",
    "                phiTime = KramersKronigRx(Amp, newFs)\n",
    "                # optical field reconstruction\n",
    "                sigRx = Amp*np.exp(1j*phiTime)\n",
    "                \n",
    "            elif alg == 'MLP':\n",
    "                # Mlp phase-retrieval\n",
    "                model = tf.keras.models.load_model(path_mlp+'testModel_SpS_'+str(paramADC.SpS_out)+'_FO_'+str(FO/10e9)+'GHz_Rolloff_'+str(round(paramTx.alphaRRC, 2))) \n",
    "                # #sigPhase = np.angle(sfm) # get signal phase samples (labels) (L,)\n",
    "                sigAmp  = np.pad(Amp, (int(N/2), int(N/2)), 'constant') # get signal amplitude samples (L,)\n",
    "                # create set of input features\n",
    "                X_input = np.zeros((len(sfm), N)) #(L,N)\n",
    "\n",
    "                for indPhase in range(len(sfm)):\n",
    "                    X_input[indPhase] = sigAmp[indPhase:N+indPhase]\n",
    "\n",
    "                sigRx_NN = model.predict(X_input)\n",
    "                # optical field reconstruction\n",
    "                sigRx = sigRx_NN[:,0]+1j*sigRx_NN[:,1]\n",
    "\n",
    "            elif alg == 'CONVNET':\n",
    "                # ConvNet phase-retrieval\n",
    "                model = tf.keras.models.load_model(path_conv+'testModel_SpS_'+str(paramADC.SpS_out)+'_FO_'+str(FO/10e9)+'GHz_Rolloff_'+str(round(paramTx.alphaRRC, 2)))\n",
    "                #sigPhase = np.angle(sfm) # get signal phase samples (labels) (L,)\n",
    "                sigAmp  = np.pad(Amp, (int(N/2), int(N/2)), 'constant') # get signal amplitude samples (L,)\n",
    "                # create set of input features\n",
    "                X_input = np.zeros((len(sfm), N)) #(L,N)\n",
    "\n",
    "                for indPhase in range(len(sfm)):\n",
    "                    X_input[indPhase] = sigAmp[indPhase:N+indPhase]\n",
    "\n",
    "                sigRx_NN = model.predict(X_input)\n",
    "                # optical field reconstruction\n",
    "                sigRx = sigRx_NN[:,0]+1j*sigRx_NN[:,1]    \n",
    "\n",
    "            # remove DC level\n",
    "            sigRx -= np.mean(sigRx) # np.sqrt(Plo)  \n",
    "\n",
    "            # downshift to baseband\n",
    "            t = np.arange(0, len(sigRx))*(1/newFs)\n",
    "            sigRx *= np.exp(-1j * (2 * π * FO * t))\n",
    "            \n",
    "            # Matched filtering\n",
    "            if paramTx.pulse == \"nrz\":\n",
    "                pulse = pulseShape(\"nrz\", paramADC.SpS_out)\n",
    "            elif paramTx.pulse == \"rrc\":\n",
    "                pulse = pulseShape(\n",
    "                    \"rrc\", paramADC.SpS_out, N=paramTx.Ntaps, alpha=paramTx.alphaRRC, Ts=1 / paramTx.Rs\n",
    "                )\n",
    "\n",
    "            pulse = pulse / np.max(np.abs(pulse))\n",
    "            sigRx = firFilter(pulse, sigRx)\n",
    "            sigCh = firFilter(pulse, sigCh)\n",
    "            \n",
    "            # correct for (possible) phase ambiguity\n",
    "            rot = np.mean(sigCh/sigRx)\n",
    "            sigRx = rot * sigRx\n",
    "            sigRx = sigRx / np.sqrt(signal_power(sigRx))\n",
    "\n",
    "            intf = sigRx/np.sqrt(signal_power(sigRx))-sigCh/np.sqrt(signal_power(sigCh))\n",
    "\n",
    "            SIR[indAlg, indFO] = 1/signal_power(intf)\n",
    "\n",
    "            # resample to 2 samples/symbol:\n",
    "            paramRes = parameters()\n",
    "            paramRes.Rs = paramTx.Rs\n",
    "            paramRes.SpS_in  = paramADC.SpS_out\n",
    "            paramRes.SpS_out = 2\n",
    "\n",
    "            sigRx = resample(sigRx, paramRes)\n",
    "\n",
    "            # CD compensation\n",
    "            sigRx = edc(sigRx, Ltotal, D, Fc, paramRes.SpS_out*paramTx.Rs)\n",
    "\n",
    "            # Downsampling to 2 sps and re-synchronization with transmitted sequences\n",
    "            sigRx = sigRx.reshape(-1, 1)\n",
    "\n",
    "            symbRx = symbolSync(sigRx, symbTx, 2)\n",
    "\n",
    "            # Power normalization\n",
    "            x = sigRx\n",
    "            d = symbRx\n",
    "\n",
    "            x = x.reshape(len(x), 1) / np.sqrt(signal_power(x))\n",
    "            d = d.reshape(len(d), 1) / np.sqrt(signal_power(d))\n",
    "\n",
    "            # Adaptive equalization\n",
    "            mod = QAMModem(m=paramTx.M)\n",
    "\n",
    "            paramEq = parameters()\n",
    "            paramEq.nTaps = 15\n",
    "            paramEq.SpS = 2\n",
    "            paramEq.mu = [1e-3, 5e-4]\n",
    "            paramEq.numIter = 5\n",
    "            paramEq.storeCoeff = False\n",
    "            paramEq.alg = [\"da-rde\", \"rde\"]\n",
    "            paramEq.M = paramTx.M\n",
    "            paramEq.L = [20000, 80000]\n",
    "            paramEq.prgsBar = False\n",
    "\n",
    "            y_EQ, H, errSq, Hiter = mimoAdaptEqualizer(x, dx=d, paramEq=paramEq)\n",
    "\n",
    "            # Carrier phase recovery\n",
    "            paramCPR = parameters()\n",
    "            paramCPR.alg = \"bps\"\n",
    "            paramCPR.M = paramTx.M\n",
    "            paramCPR.N = 85\n",
    "            paramCPR.B = 64\n",
    "            paramCPR.pilotInd = np.arange(0, len(y_EQ), 20)\n",
    "\n",
    "            y_CPR, θ = cpr(y_EQ, symbTx=d, paramCPR=paramCPR)\n",
    "\n",
    "            y_CPR = y_CPR / np.sqrt(signal_power(y_CPR))\n",
    "\n",
    "            # correct for (possible) phase ambiguity\n",
    "            for k in range(y_CPR.shape[1]):\n",
    "                rot = np.mean(d[:, k] / y_CPR[:, k])\n",
    "                y_CPR[:, k] = rot * y_CPR[:, k]\n",
    "\n",
    "            y_CPR = y_CPR / np.sqrt(signal_power(y_CPR))\n",
    "\n",
    "            discard = int(paramEq.L[0]/2)\n",
    "\n",
    "            ind = np.arange(discard, d.shape[0] - discard)\n",
    "            BER[indAlg,indFO], SER[indAlg,indFO], SNR[indAlg,indFO] = fastBERcalc(y_CPR[ind, :], d[ind, :], paramTx.M, 'qam')\n",
    "            GMI[indAlg,indFO], _ = monteCarloGMI(y_CPR[ind, :], d[ind, :],  paramTx.M, 'qam')\n",
    "            MI[indAlg,indFO] = monteCarloMI(y_CPR[ind, :], d[ind, :],  paramTx.M, 'qam')\n",
    "\n",
    "            print(\"Results:\")\n",
    "            print(\"BER: %.2e\" %(BER[indAlg,indFO]))\n",
    "            print(\"SNR: %.2f dB\" %(SNR[indAlg,indFO]))\n",
    "            print('SIR = ', round(10*np.log10(SIR[indAlg,indFO]), 2), ' dB')\n",
    "            print(\"GMI: %.2f bits\\n\" %(GMI[indAlg,indFO]))\n",
    "\n",
    "    if saveData:\n",
    "        # save the simulation data\n",
    "        np.save(path_data+'Conv_FO_BER_SpS_'+str(paramADC.SpS_out)+'_'+str(N)+'_Sample_'+str(indfile), BER)\n",
    "        np.save(path_data+'Conv_FO_SNR_SpS_'+str(paramADC.SpS_out)+'_'+str(N)+'_Sample_'+str(indfile), SNR)\n",
    "        np.save(path_data+'Conv_FO_SIR_SpS_'+str(paramADC.SpS_out)+'_'+str(N)+'_Sample_'+str(indfile), SIR)\n",
    "        np.save(path_data+'Conv_FO_SER_SpS_'+str(paramADC.SpS_out)+'_'+str(N)+'_Sample_'+str(indfile), SER)"
   ]
  }
 ],
 "metadata": {
  "kernelspec": {
   "display_name": "Python 3",
   "language": "python",
   "name": "python3"
  },
  "language_info": {
   "codemirror_mode": {
    "name": "ipython",
    "version": 3
   },
   "file_extension": ".py",
   "mimetype": "text/x-python",
   "name": "python",
   "nbconvert_exporter": "python",
   "pygments_lexer": "ipython3",
   "version": "3.9.0"
  },
  "vscode": {
   "interpreter": {
    "hash": "375d932ff305d5bb7891cf7c099632ff151b644ae138927e5c1b22b0b7153300"
   }
  }
 },
 "nbformat": 4,
 "nbformat_minor": 2
}
