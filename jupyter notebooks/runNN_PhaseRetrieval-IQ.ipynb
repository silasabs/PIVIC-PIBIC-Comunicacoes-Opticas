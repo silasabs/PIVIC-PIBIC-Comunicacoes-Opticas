{
 "cells": [
  {
   "cell_type": "code",
   "execution_count": 3,
   "metadata": {},
   "outputs": [],
   "source": [
    "import matplotlib.pyplot as plt\n",
    "import scienceplots\n",
    "plt.style.use('science')\n",
    "import numpy as np\n",
    "\n",
    "from commpy.modulation import QAMModem\n",
    "\n",
    "from optic.dsp import pulseShape, firFilter, decimate, symbolSync, resample\n",
    "from optic.models import phaseNoise, linFiberCh, KramersKronigRx, photodiode\n",
    "\n",
    "from optic.tx import simpleWDMTx\n",
    "from optic.core import parameters\n",
    "from optic.equalization import edc, mimoAdaptEqualizer\n",
    "from optic.carrierRecovery import cpr\n",
    "from optic.metrics import fastBERcalc, monteCarloGMI, monteCarloMI, signal_power\n",
    "from optic.plot import pconst\n",
    "\n",
    "import scipy.constants as const\n",
    "from tqdm.notebook import tqdm\n",
    "\n",
    "from tensorflow.keras.layers import Dense, BatchNormalization, Conv1DTranspose, Conv1D, Flatten, Add\n",
    "from tensorflow.keras.models import Sequential\n",
    "from tensorflow.keras.callbacks import EarlyStopping\n",
    "import tensorflow as tf\n",
    "from tensorflow.keras import backend as K"
   ]
  },
  {
   "cell_type": "code",
   "execution_count": 4,
   "metadata": {},
   "outputs": [],
   "source": [
    "figurePath = 'C:/Users/optic/Documents/PIVIC-PIBIC-Comunicacoes-Opticas/resultados/Figuras/'\n",
    "path_data  = r'C:/Users/optic/Documents/PIVIC-PIBIC-Comunicacoes-Opticas/resultados/Data'\n",
    "path_mlp   = 'C:/Users/optic/Documents/PIVIC-PIBIC-Comunicacoes-Opticas/setups/NN_models/' \n",
    "path_conv  = 'C:/Users/optic/Documents/PIVIC-PIBIC-Comunicacoes-Opticas/setups/Conv_models/'\n",
    "\n",
    "N = 128 # number of input amplitude samples to the NN"
   ]
  },
  {
   "cell_type": "markdown",
   "metadata": {},
   "source": [
    "## Simulation of a single polarization optical signal transmission"
   ]
  },
  {
   "cell_type": "code",
   "execution_count": 5,
   "metadata": {},
   "outputs": [],
   "source": [
    "## Transmitter parameters:\n",
    "paramTx = parameters()\n",
    "paramTx.M = 16                 # order of the modulation format\n",
    "paramTx.Rs = 32e9              # symbol rate [baud]\n",
    "paramTx.SpS = 4                # samples per symbol\n",
    "paramTx.Nbits = 400000         # total number of bits per polarization\n",
    "paramTx.pulse = \"rrc\"          # pulse shaping filter\n",
    "paramTx.Ntaps = 1024           # number of pulse shaping filter coefficients\n",
    "#paramTx.alphaRRC = 0.01       # RRC rolloff\n",
    "paramTx.Pch_dBm = 0            # power of the optical signal [dBm]\n",
    "paramTx.Nch = 1                # number of WDM channels\n",
    "paramTx.Fc = 193.1e12          # central frequency of the optical spectrum\n",
    "paramTx.freqSpac = 37.5e9      # WDM grid spacing\n",
    "\n",
    "## Optical channel parameters:\n",
    "Ltotal = 100     # total link distance [km]\n",
    "alpha = 0        # fiber loss parameter [dB/km]\n",
    "D = 16           # fiber dispersion parameter [ps/nm/km]\n",
    "Fc = paramTx.Fc  # central optical frequency of the WDM spectrum [Hz]\n",
    "\n",
    "## Receiver parameters:\n",
    "\n",
    "# local oscillator (LO)\n",
    "FO = paramTx.Rs/2 + 1e9  # frequency offset\n",
    "lw = 0*200e3       # linewidth\n",
    "ϕ_lo = 0           # initial phase in rad\n",
    "Plo_dBm = 12       # power in dBm\n",
    "\n",
    "# ADC sampling rate\n",
    "paramADC = parameters()\n",
    "paramADC.Rs = paramTx.Rs\n",
    "paramADC.SpS_in = paramTx.SpS\n",
    "paramADC.SpS_out = 4\n",
    "\n",
    "## General simulation parameters:\n",
    "chIndex = 0  # index of the channel to be demodulated\n",
    "plotPSD = True\n",
    "Fs = paramTx.Rs * paramTx.SpS  # simulation sampling rate\n",
    "Ts = 1 / Fs\n",
    "\n",
    "# photodiode parameters\n",
    "paramPD = parameters()\n",
    "paramPD.B  = 1.1*paramTx.Rs\n",
    "paramPD.Fs = Fs"
   ]
  },
  {
   "cell_type": "markdown",
   "metadata": {},
   "source": [
    "## Run BER vs rolloff vs FO for all cases"
   ]
  },
  {
   "cell_type": "code",
   "execution_count": 6,
   "metadata": {},
   "outputs": [
    {
     "data": {
      "application/vnd.jupyter.widget-view+json": {
       "model_id": "9ac56690c4bf40849693d36aac39507b",
       "version_major": 2,
       "version_minor": 0
      },
      "text/plain": [
       "  0%|          | 0/6 [00:00<?, ?it/s]"
      ]
     },
     "metadata": {},
     "output_type": "display_data"
    },
    {
     "data": {
      "application/vnd.jupyter.widget-view+json": {
       "model_id": "81f259c52cc243c19128e6ec24d23e53",
       "version_major": 2,
       "version_minor": 0
      },
      "text/plain": [
       "  0%|          | 0/18 [00:00<?, ?it/s]"
      ]
     },
     "metadata": {},
     "output_type": "display_data"
    },
    {
     "data": {
      "application/vnd.jupyter.widget-view+json": {
       "model_id": "e39778940de04ddbb6b1f28eb44114b7",
       "version_major": 2,
       "version_minor": 0
      },
      "text/plain": [
       "  0%|          | 0/1 [00:00<?, ?it/s]"
      ]
     },
     "metadata": {},
     "output_type": "display_data"
    },
    {
     "name": "stdout",
     "output_type": "stream",
     "text": [
      "CSPR = 12.00 dB\n",
      "Results:\n",
      "BER: 0.00e+00\n",
      "SNR: 23.90 dB\n",
      "SIR =  22.55  dB\n",
      "GMI: 4.00 bits\n",
      "\n"
     ]
    },
    {
     "data": {
      "application/vnd.jupyter.widget-view+json": {
       "model_id": "d3a474fc5e524a3b8b8001793342ceb2",
       "version_major": 2,
       "version_minor": 0
      },
      "text/plain": [
       "  0%|          | 0/1 [00:00<?, ?it/s]"
      ]
     },
     "metadata": {},
     "output_type": "display_data"
    },
    {
     "name": "stdout",
     "output_type": "stream",
     "text": [
      "CSPR = 12.00 dB\n",
      "Results:\n",
      "BER: 0.00e+00\n",
      "SNR: 22.38 dB\n",
      "SIR =  19.76  dB\n",
      "GMI: 4.00 bits\n",
      "\n"
     ]
    },
    {
     "data": {
      "application/vnd.jupyter.widget-view+json": {
       "model_id": "7b64d3aebe074b8099e8beca7ae733c0",
       "version_major": 2,
       "version_minor": 0
      },
      "text/plain": [
       "  0%|          | 0/1 [00:00<?, ?it/s]"
      ]
     },
     "metadata": {},
     "output_type": "display_data"
    },
    {
     "name": "stdout",
     "output_type": "stream",
     "text": [
      "CSPR = 12.00 dB\n",
      "Results:\n",
      "BER: 0.00e+00\n",
      "SNR: 22.20 dB\n",
      "SIR =  18.08  dB\n",
      "GMI: 4.00 bits\n",
      "\n"
     ]
    },
    {
     "data": {
      "application/vnd.jupyter.widget-view+json": {
       "model_id": "fc19ff3b671c4ce389e06b9fc7552c5e",
       "version_major": 2,
       "version_minor": 0
      },
      "text/plain": [
       "  0%|          | 0/1 [00:00<?, ?it/s]"
      ]
     },
     "metadata": {},
     "output_type": "display_data"
    },
    {
     "name": "stdout",
     "output_type": "stream",
     "text": [
      "CSPR = 12.00 dB\n",
      "Results:\n",
      "BER: 0.00e+00\n",
      "SNR: 22.15 dB\n",
      "SIR =  16.75  dB\n",
      "GMI: 4.00 bits\n",
      "\n"
     ]
    },
    {
     "data": {
      "application/vnd.jupyter.widget-view+json": {
       "model_id": "968b8001e6274238b697007e466c9aed",
       "version_major": 2,
       "version_minor": 0
      },
      "text/plain": [
       "  0%|          | 0/1 [00:00<?, ?it/s]"
      ]
     },
     "metadata": {},
     "output_type": "display_data"
    },
    {
     "name": "stdout",
     "output_type": "stream",
     "text": [
      "CSPR = 12.00 dB\n",
      "Results:\n",
      "BER: 6.25e-06\n",
      "SNR: 21.88 dB\n",
      "SIR =  15.73  dB\n",
      "GMI: 4.00 bits\n",
      "\n"
     ]
    },
    {
     "data": {
      "application/vnd.jupyter.widget-view+json": {
       "model_id": "5bdd442a454e4af6a3d1f8c8f8bf23b9",
       "version_major": 2,
       "version_minor": 0
      },
      "text/plain": [
       "  0%|          | 0/1 [00:00<?, ?it/s]"
      ]
     },
     "metadata": {},
     "output_type": "display_data"
    },
    {
     "name": "stdout",
     "output_type": "stream",
     "text": [
      "CSPR = 12.00 dB\n",
      "Results:\n",
      "BER: 6.25e-06\n",
      "SNR: 21.58 dB\n",
      "SIR =  14.87  dB\n",
      "GMI: 4.00 bits\n",
      "\n"
     ]
    },
    {
     "data": {
      "application/vnd.jupyter.widget-view+json": {
       "model_id": "c3a26db086ea4a66a32467f0015441f0",
       "version_major": 2,
       "version_minor": 0
      },
      "text/plain": [
       "  0%|          | 0/1 [00:00<?, ?it/s]"
      ]
     },
     "metadata": {},
     "output_type": "display_data"
    },
    {
     "name": "stdout",
     "output_type": "stream",
     "text": [
      "CSPR = 12.00 dB\n",
      "Results:\n",
      "BER: 0.00e+00\n",
      "SNR: 21.07 dB\n",
      "SIR =  14.08  dB\n",
      "GMI: 4.00 bits\n",
      "\n"
     ]
    },
    {
     "data": {
      "application/vnd.jupyter.widget-view+json": {
       "model_id": "e8d69487db4a4cb886dda46bf96f5af5",
       "version_major": 2,
       "version_minor": 0
      },
      "text/plain": [
       "  0%|          | 0/1 [00:00<?, ?it/s]"
      ]
     },
     "metadata": {},
     "output_type": "display_data"
    },
    {
     "name": "stdout",
     "output_type": "stream",
     "text": [
      "CSPR = 12.00 dB\n",
      "Results:\n",
      "BER: 6.25e-06\n",
      "SNR: 20.64 dB\n",
      "SIR =  13.5  dB\n",
      "GMI: 4.00 bits\n",
      "\n"
     ]
    },
    {
     "data": {
      "application/vnd.jupyter.widget-view+json": {
       "model_id": "8ca1bf647f714e6393bbccc229e847b2",
       "version_major": 2,
       "version_minor": 0
      },
      "text/plain": [
       "  0%|          | 0/1 [00:00<?, ?it/s]"
      ]
     },
     "metadata": {},
     "output_type": "display_data"
    },
    {
     "name": "stdout",
     "output_type": "stream",
     "text": [
      "CSPR = 12.00 dB\n",
      "Results:\n",
      "BER: 1.25e-05\n",
      "SNR: 20.35 dB\n",
      "SIR =  12.99  dB\n",
      "GMI: 4.00 bits\n",
      "\n"
     ]
    },
    {
     "data": {
      "application/vnd.jupyter.widget-view+json": {
       "model_id": "b8c84f01234149b78b429f9489c173a5",
       "version_major": 2,
       "version_minor": 0
      },
      "text/plain": [
       "  0%|          | 0/1 [00:00<?, ?it/s]"
      ]
     },
     "metadata": {},
     "output_type": "display_data"
    },
    {
     "name": "stdout",
     "output_type": "stream",
     "text": [
      "CSPR = 12.00 dB\n",
      "Results:\n",
      "BER: 2.81e-05\n",
      "SNR: 20.03 dB\n",
      "SIR =  12.52  dB\n",
      "GMI: 4.00 bits\n",
      "\n"
     ]
    },
    {
     "data": {
      "application/vnd.jupyter.widget-view+json": {
       "model_id": "e36b84bdc53e479a8142727733dcb94e",
       "version_major": 2,
       "version_minor": 0
      },
      "text/plain": [
       "  0%|          | 0/1 [00:00<?, ?it/s]"
      ]
     },
     "metadata": {},
     "output_type": "display_data"
    },
    {
     "name": "stdout",
     "output_type": "stream",
     "text": [
      "CSPR = 12.00 dB\n",
      "Results:\n",
      "BER: 3.75e-05\n",
      "SNR: 19.70 dB\n",
      "SIR =  12.05  dB\n",
      "GMI: 4.00 bits\n",
      "\n"
     ]
    },
    {
     "data": {
      "application/vnd.jupyter.widget-view+json": {
       "model_id": "6235aee69f044a049ae938505ef7e723",
       "version_major": 2,
       "version_minor": 0
      },
      "text/plain": [
       "  0%|          | 0/1 [00:00<?, ?it/s]"
      ]
     },
     "metadata": {},
     "output_type": "display_data"
    },
    {
     "name": "stdout",
     "output_type": "stream",
     "text": [
      "CSPR = 12.00 dB\n",
      "Results:\n",
      "BER: 4.37e-05\n",
      "SNR: 19.43 dB\n",
      "SIR =  11.6  dB\n",
      "GMI: 4.00 bits\n",
      "\n"
     ]
    },
    {
     "data": {
      "application/vnd.jupyter.widget-view+json": {
       "model_id": "52ebc724a3db42c1bf2233c363c245fd",
       "version_major": 2,
       "version_minor": 0
      },
      "text/plain": [
       "  0%|          | 0/1 [00:00<?, ?it/s]"
      ]
     },
     "metadata": {},
     "output_type": "display_data"
    },
    {
     "name": "stdout",
     "output_type": "stream",
     "text": [
      "CSPR = 12.00 dB\n",
      "Results:\n",
      "BER: 8.44e-05\n",
      "SNR: 19.07 dB\n",
      "SIR =  11.2  dB\n",
      "GMI: 4.00 bits\n",
      "\n"
     ]
    },
    {
     "data": {
      "application/vnd.jupyter.widget-view+json": {
       "model_id": "4fc23a303dbd476583d535d43812bc76",
       "version_major": 2,
       "version_minor": 0
      },
      "text/plain": [
       "  0%|          | 0/1 [00:00<?, ?it/s]"
      ]
     },
     "metadata": {},
     "output_type": "display_data"
    },
    {
     "name": "stdout",
     "output_type": "stream",
     "text": [
      "CSPR = 12.00 dB\n",
      "Results:\n",
      "BER: 1.19e-04\n",
      "SNR: 18.82 dB\n",
      "SIR =  10.88  dB\n",
      "GMI: 4.00 bits\n",
      "\n"
     ]
    },
    {
     "data": {
      "application/vnd.jupyter.widget-view+json": {
       "model_id": "1bb67ba4d9684ae1a01040b5152a1e73",
       "version_major": 2,
       "version_minor": 0
      },
      "text/plain": [
       "  0%|          | 0/1 [00:00<?, ?it/s]"
      ]
     },
     "metadata": {},
     "output_type": "display_data"
    },
    {
     "name": "stdout",
     "output_type": "stream",
     "text": [
      "CSPR = 12.00 dB\n",
      "Results:\n",
      "BER: 1.78e-04\n",
      "SNR: 18.52 dB\n",
      "SIR =  10.48  dB\n",
      "GMI: 4.00 bits\n",
      "\n"
     ]
    },
    {
     "data": {
      "application/vnd.jupyter.widget-view+json": {
       "model_id": "9d2349b957184befa37d202fcc5de4bc",
       "version_major": 2,
       "version_minor": 0
      },
      "text/plain": [
       "  0%|          | 0/1 [00:00<?, ?it/s]"
      ]
     },
     "metadata": {},
     "output_type": "display_data"
    },
    {
     "name": "stdout",
     "output_type": "stream",
     "text": [
      "CSPR = 12.00 dB\n",
      "Results:\n",
      "BER: 2.16e-04\n",
      "SNR: 18.35 dB\n",
      "SIR =  10.22  dB\n",
      "GMI: 4.00 bits\n",
      "\n"
     ]
    },
    {
     "data": {
      "application/vnd.jupyter.widget-view+json": {
       "model_id": "073590a01cf84a1c9b8d85cdeb55d8f8",
       "version_major": 2,
       "version_minor": 0
      },
      "text/plain": [
       "  0%|          | 0/1 [00:00<?, ?it/s]"
      ]
     },
     "metadata": {},
     "output_type": "display_data"
    },
    {
     "name": "stdout",
     "output_type": "stream",
     "text": [
      "CSPR = 12.00 dB\n",
      "Results:\n",
      "BER: 2.56e-04\n",
      "SNR: 17.98 dB\n",
      "SIR =  9.82  dB\n",
      "GMI: 4.00 bits\n",
      "\n"
     ]
    },
    {
     "data": {
      "application/vnd.jupyter.widget-view+json": {
       "model_id": "0298e3bd7a004ed3a348d07fd768ae6d",
       "version_major": 2,
       "version_minor": 0
      },
      "text/plain": [
       "  0%|          | 0/1 [00:00<?, ?it/s]"
      ]
     },
     "metadata": {},
     "output_type": "display_data"
    },
    {
     "name": "stdout",
     "output_type": "stream",
     "text": [
      "CSPR = 12.00 dB\n",
      "Results:\n",
      "BER: 4.03e-04\n",
      "SNR: 17.80 dB\n",
      "SIR =  9.54  dB\n",
      "GMI: 3.99 bits\n",
      "\n"
     ]
    },
    {
     "data": {
      "application/vnd.jupyter.widget-view+json": {
       "model_id": "793f87b67ad14157b2da2dc5f5b1adc1",
       "version_major": 2,
       "version_minor": 0
      },
      "text/plain": [
       "  0%|          | 0/18 [00:00<?, ?it/s]"
      ]
     },
     "metadata": {},
     "output_type": "display_data"
    },
    {
     "data": {
      "application/vnd.jupyter.widget-view+json": {
       "model_id": "e87f86f8c35d4bf9b1bbe3a299f76960",
       "version_major": 2,
       "version_minor": 0
      },
      "text/plain": [
       "  0%|          | 0/1 [00:00<?, ?it/s]"
      ]
     },
     "metadata": {},
     "output_type": "display_data"
    },
    {
     "name": "stdout",
     "output_type": "stream",
     "text": [
      "CSPR = 12.00 dB\n",
      "Results:\n",
      "BER: 0.00e+00\n",
      "SNR: 36.68 dB\n",
      "SIR =  38.01  dB\n",
      "GMI: 4.00 bits\n",
      "\n"
     ]
    },
    {
     "data": {
      "application/vnd.jupyter.widget-view+json": {
       "model_id": "5d04019027f34c22989eab38b0363176",
       "version_major": 2,
       "version_minor": 0
      },
      "text/plain": [
       "  0%|          | 0/1 [00:00<?, ?it/s]"
      ]
     },
     "metadata": {},
     "output_type": "display_data"
    },
    {
     "name": "stdout",
     "output_type": "stream",
     "text": [
      "CSPR = 12.00 dB\n",
      "Results:\n",
      "BER: 0.00e+00\n",
      "SNR: 34.63 dB\n",
      "SIR =  34.93  dB\n",
      "GMI: 4.00 bits\n",
      "\n"
     ]
    },
    {
     "data": {
      "application/vnd.jupyter.widget-view+json": {
       "model_id": "ac5a561b0a644c5a8a4eba7ec7215cd2",
       "version_major": 2,
       "version_minor": 0
      },
      "text/plain": [
       "  0%|          | 0/1 [00:00<?, ?it/s]"
      ]
     },
     "metadata": {},
     "output_type": "display_data"
    },
    {
     "name": "stdout",
     "output_type": "stream",
     "text": [
      "CSPR = 12.00 dB\n",
      "Results:\n",
      "BER: 0.00e+00\n",
      "SNR: 29.66 dB\n",
      "SIR =  27.39  dB\n",
      "GMI: 4.00 bits\n",
      "\n"
     ]
    },
    {
     "data": {
      "application/vnd.jupyter.widget-view+json": {
       "model_id": "1d434ea160a34f9ba9dd8da975b5a738",
       "version_major": 2,
       "version_minor": 0
      },
      "text/plain": [
       "  0%|          | 0/1 [00:00<?, ?it/s]"
      ]
     },
     "metadata": {},
     "output_type": "display_data"
    },
    {
     "name": "stdout",
     "output_type": "stream",
     "text": [
      "CSPR = 12.00 dB\n",
      "Results:\n",
      "BER: 0.00e+00\n",
      "SNR: 28.06 dB\n",
      "SIR =  23.31  dB\n",
      "GMI: 4.00 bits\n",
      "\n"
     ]
    },
    {
     "data": {
      "application/vnd.jupyter.widget-view+json": {
       "model_id": "495a67971223491fb90c041d6aa91d04",
       "version_major": 2,
       "version_minor": 0
      },
      "text/plain": [
       "  0%|          | 0/1 [00:00<?, ?it/s]"
      ]
     },
     "metadata": {},
     "output_type": "display_data"
    },
    {
     "name": "stdout",
     "output_type": "stream",
     "text": [
      "CSPR = 12.00 dB\n",
      "Results:\n",
      "BER: 0.00e+00\n",
      "SNR: 27.28 dB\n",
      "SIR =  20.74  dB\n",
      "GMI: 4.00 bits\n",
      "\n"
     ]
    },
    {
     "data": {
      "application/vnd.jupyter.widget-view+json": {
       "model_id": "732a0b58a5af44768da9c6221eaed194",
       "version_major": 2,
       "version_minor": 0
      },
      "text/plain": [
       "  0%|          | 0/1 [00:00<?, ?it/s]"
      ]
     },
     "metadata": {},
     "output_type": "display_data"
    },
    {
     "name": "stdout",
     "output_type": "stream",
     "text": [
      "CSPR = 12.00 dB\n",
      "Results:\n",
      "BER: 0.00e+00\n",
      "SNR: 26.34 dB\n",
      "SIR =  18.96  dB\n",
      "GMI: 4.00 bits\n",
      "\n"
     ]
    },
    {
     "data": {
      "application/vnd.jupyter.widget-view+json": {
       "model_id": "b969a24ccab3435ca90f44cb29cb1606",
       "version_major": 2,
       "version_minor": 0
      },
      "text/plain": [
       "  0%|          | 0/1 [00:00<?, ?it/s]"
      ]
     },
     "metadata": {},
     "output_type": "display_data"
    },
    {
     "name": "stdout",
     "output_type": "stream",
     "text": [
      "CSPR = 12.00 dB\n",
      "Results:\n",
      "BER: 0.00e+00\n",
      "SNR: 25.29 dB\n",
      "SIR =  17.63  dB\n",
      "GMI: 4.00 bits\n",
      "\n"
     ]
    },
    {
     "data": {
      "application/vnd.jupyter.widget-view+json": {
       "model_id": "e8615f353c2346f7b75e8cfb4d72fc09",
       "version_major": 2,
       "version_minor": 0
      },
      "text/plain": [
       "  0%|          | 0/1 [00:00<?, ?it/s]"
      ]
     },
     "metadata": {},
     "output_type": "display_data"
    },
    {
     "name": "stdout",
     "output_type": "stream",
     "text": [
      "CSPR = 12.00 dB\n",
      "Results:\n",
      "BER: 0.00e+00\n",
      "SNR: 24.32 dB\n",
      "SIR =  16.5  dB\n",
      "GMI: 4.00 bits\n",
      "\n"
     ]
    },
    {
     "data": {
      "application/vnd.jupyter.widget-view+json": {
       "model_id": "6453d4e4c1c04eaa9d724869bf5c5608",
       "version_major": 2,
       "version_minor": 0
      },
      "text/plain": [
       "  0%|          | 0/1 [00:00<?, ?it/s]"
      ]
     },
     "metadata": {},
     "output_type": "display_data"
    },
    {
     "name": "stdout",
     "output_type": "stream",
     "text": [
      "CSPR = 12.00 dB\n",
      "Results:\n",
      "BER: 0.00e+00\n",
      "SNR: 23.57 dB\n",
      "SIR =  15.64  dB\n",
      "GMI: 4.00 bits\n",
      "\n"
     ]
    },
    {
     "data": {
      "application/vnd.jupyter.widget-view+json": {
       "model_id": "c1b84e85329e422981435ec393704306",
       "version_major": 2,
       "version_minor": 0
      },
      "text/plain": [
       "  0%|          | 0/1 [00:00<?, ?it/s]"
      ]
     },
     "metadata": {},
     "output_type": "display_data"
    },
    {
     "name": "stdout",
     "output_type": "stream",
     "text": [
      "CSPR = 12.00 dB\n",
      "Results:\n",
      "BER: 0.00e+00\n",
      "SNR: 22.87 dB\n",
      "SIR =  14.78  dB\n",
      "GMI: 4.00 bits\n",
      "\n"
     ]
    },
    {
     "data": {
      "application/vnd.jupyter.widget-view+json": {
       "model_id": "58ec528ceaeb43859553fdc344df31a1",
       "version_major": 2,
       "version_minor": 0
      },
      "text/plain": [
       "  0%|          | 0/1 [00:00<?, ?it/s]"
      ]
     },
     "metadata": {},
     "output_type": "display_data"
    },
    {
     "name": "stdout",
     "output_type": "stream",
     "text": [
      "CSPR = 12.00 dB\n",
      "Results:\n",
      "BER: 0.00e+00\n",
      "SNR: 22.27 dB\n",
      "SIR =  14.14  dB\n",
      "GMI: 4.00 bits\n",
      "\n"
     ]
    },
    {
     "data": {
      "application/vnd.jupyter.widget-view+json": {
       "model_id": "8aba69ba5faf477f992cc763fb144722",
       "version_major": 2,
       "version_minor": 0
      },
      "text/plain": [
       "  0%|          | 0/1 [00:00<?, ?it/s]"
      ]
     },
     "metadata": {},
     "output_type": "display_data"
    },
    {
     "name": "stdout",
     "output_type": "stream",
     "text": [
      "CSPR = 12.00 dB\n",
      "Results:\n",
      "BER: 3.13e-06\n",
      "SNR: 21.75 dB\n",
      "SIR =  13.54  dB\n",
      "GMI: 4.00 bits\n",
      "\n"
     ]
    },
    {
     "data": {
      "application/vnd.jupyter.widget-view+json": {
       "model_id": "79d3373426704b538637e2f22971df3f",
       "version_major": 2,
       "version_minor": 0
      },
      "text/plain": [
       "  0%|          | 0/1 [00:00<?, ?it/s]"
      ]
     },
     "metadata": {},
     "output_type": "display_data"
    },
    {
     "name": "stdout",
     "output_type": "stream",
     "text": [
      "CSPR = 12.00 dB\n",
      "Results:\n",
      "BER: 3.13e-06\n",
      "SNR: 21.27 dB\n",
      "SIR =  12.96  dB\n",
      "GMI: 4.00 bits\n",
      "\n"
     ]
    },
    {
     "data": {
      "application/vnd.jupyter.widget-view+json": {
       "model_id": "11f820cc6ffa491ea49783ccdd76608c",
       "version_major": 2,
       "version_minor": 0
      },
      "text/plain": [
       "  0%|          | 0/1 [00:00<?, ?it/s]"
      ]
     },
     "metadata": {},
     "output_type": "display_data"
    },
    {
     "name": "stdout",
     "output_type": "stream",
     "text": [
      "CSPR = 12.00 dB\n",
      "Results:\n",
      "BER: 6.25e-06\n",
      "SNR: 20.81 dB\n",
      "SIR =  12.46  dB\n",
      "GMI: 4.00 bits\n",
      "\n"
     ]
    },
    {
     "data": {
      "application/vnd.jupyter.widget-view+json": {
       "model_id": "640271f6e1294f6cbc1f2954b1392556",
       "version_major": 2,
       "version_minor": 0
      },
      "text/plain": [
       "  0%|          | 0/1 [00:00<?, ?it/s]"
      ]
     },
     "metadata": {},
     "output_type": "display_data"
    },
    {
     "name": "stdout",
     "output_type": "stream",
     "text": [
      "CSPR = 12.00 dB\n",
      "Results:\n",
      "BER: 6.25e-06\n",
      "SNR: 20.44 dB\n",
      "SIR =  12.06  dB\n",
      "GMI: 4.00 bits\n",
      "\n"
     ]
    },
    {
     "data": {
      "application/vnd.jupyter.widget-view+json": {
       "model_id": "938b3a7b25f7487dbc7b0f15b0552842",
       "version_major": 2,
       "version_minor": 0
      },
      "text/plain": [
       "  0%|          | 0/1 [00:00<?, ?it/s]"
      ]
     },
     "metadata": {},
     "output_type": "display_data"
    },
    {
     "name": "stdout",
     "output_type": "stream",
     "text": [
      "CSPR = 12.00 dB\n",
      "Results:\n",
      "BER: 1.25e-05\n",
      "SNR: 20.02 dB\n",
      "SIR =  11.55  dB\n",
      "GMI: 4.00 bits\n",
      "\n"
     ]
    },
    {
     "data": {
      "application/vnd.jupyter.widget-view+json": {
       "model_id": "b079499ac641486bb7eb3910f5705816",
       "version_major": 2,
       "version_minor": 0
      },
      "text/plain": [
       "  0%|          | 0/1 [00:00<?, ?it/s]"
      ]
     },
     "metadata": {},
     "output_type": "display_data"
    },
    {
     "name": "stdout",
     "output_type": "stream",
     "text": [
      "CSPR = 12.00 dB\n",
      "Results:\n",
      "BER: 4.37e-05\n",
      "SNR: 19.66 dB\n",
      "SIR =  11.18  dB\n",
      "GMI: 4.00 bits\n",
      "\n"
     ]
    },
    {
     "data": {
      "application/vnd.jupyter.widget-view+json": {
       "model_id": "8229db85c5e64ddf8e4061544e30a9c5",
       "version_major": 2,
       "version_minor": 0
      },
      "text/plain": [
       "  0%|          | 0/1 [00:00<?, ?it/s]"
      ]
     },
     "metadata": {},
     "output_type": "display_data"
    },
    {
     "name": "stdout",
     "output_type": "stream",
     "text": [
      "CSPR = 12.00 dB\n",
      "Results:\n",
      "BER: 5.31e-05\n",
      "SNR: 19.38 dB\n",
      "SIR =  10.76  dB\n",
      "GMI: 4.00 bits\n",
      "\n"
     ]
    },
    {
     "data": {
      "application/vnd.jupyter.widget-view+json": {
       "model_id": "592ed635f1b948b295f962aff3cd104e",
       "version_major": 2,
       "version_minor": 0
      },
      "text/plain": [
       "  0%|          | 0/18 [00:00<?, ?it/s]"
      ]
     },
     "metadata": {},
     "output_type": "display_data"
    },
    {
     "data": {
      "application/vnd.jupyter.widget-view+json": {
       "model_id": "ce01c0342f444128b5bd8d65418175dc",
       "version_major": 2,
       "version_minor": 0
      },
      "text/plain": [
       "  0%|          | 0/1 [00:00<?, ?it/s]"
      ]
     },
     "metadata": {},
     "output_type": "display_data"
    },
    {
     "name": "stdout",
     "output_type": "stream",
     "text": [
      "CSPR = 12.00 dB\n",
      "Results:\n",
      "BER: 0.00e+00\n",
      "SNR: 36.52 dB\n",
      "SIR =  38.28  dB\n",
      "GMI: 4.00 bits\n",
      "\n"
     ]
    },
    {
     "data": {
      "application/vnd.jupyter.widget-view+json": {
       "model_id": "a0700396320c4202acf98da857785361",
       "version_major": 2,
       "version_minor": 0
      },
      "text/plain": [
       "  0%|          | 0/1 [00:00<?, ?it/s]"
      ]
     },
     "metadata": {},
     "output_type": "display_data"
    },
    {
     "name": "stdout",
     "output_type": "stream",
     "text": [
      "CSPR = 12.00 dB\n",
      "Results:\n",
      "BER: 0.00e+00\n",
      "SNR: 36.83 dB\n",
      "SIR =  38.15  dB\n",
      "GMI: 4.00 bits\n",
      "\n"
     ]
    },
    {
     "data": {
      "application/vnd.jupyter.widget-view+json": {
       "model_id": "e3e9b2b1459c4738b76ad95ec62f4dde",
       "version_major": 2,
       "version_minor": 0
      },
      "text/plain": [
       "  0%|          | 0/1 [00:00<?, ?it/s]"
      ]
     },
     "metadata": {},
     "output_type": "display_data"
    },
    {
     "name": "stdout",
     "output_type": "stream",
     "text": [
      "CSPR = 12.00 dB\n",
      "Results:\n",
      "BER: 0.00e+00\n",
      "SNR: 36.85 dB\n",
      "SIR =  37.69  dB\n",
      "GMI: 4.00 bits\n",
      "\n"
     ]
    },
    {
     "data": {
      "application/vnd.jupyter.widget-view+json": {
       "model_id": "bf8fea9a250f4e52942979774cf70ce6",
       "version_major": 2,
       "version_minor": 0
      },
      "text/plain": [
       "  0%|          | 0/1 [00:00<?, ?it/s]"
      ]
     },
     "metadata": {},
     "output_type": "display_data"
    },
    {
     "name": "stdout",
     "output_type": "stream",
     "text": [
      "CSPR = 12.00 dB\n",
      "Results:\n",
      "BER: 0.00e+00\n",
      "SNR: 33.41 dB\n",
      "SIR =  32.83  dB\n",
      "GMI: 4.00 bits\n",
      "\n"
     ]
    },
    {
     "data": {
      "application/vnd.jupyter.widget-view+json": {
       "model_id": "11b2b558bdd54d129dec7c0806074b51",
       "version_major": 2,
       "version_minor": 0
      },
      "text/plain": [
       "  0%|          | 0/1 [00:00<?, ?it/s]"
      ]
     },
     "metadata": {},
     "output_type": "display_data"
    },
    {
     "name": "stdout",
     "output_type": "stream",
     "text": [
      "CSPR = 12.00 dB\n",
      "Results:\n",
      "BER: 0.00e+00\n",
      "SNR: 31.25 dB\n",
      "SIR =  27.88  dB\n",
      "GMI: 4.00 bits\n",
      "\n"
     ]
    },
    {
     "data": {
      "application/vnd.jupyter.widget-view+json": {
       "model_id": "09c8220067d24bd5bd070e4da9500e7a",
       "version_major": 2,
       "version_minor": 0
      },
      "text/plain": [
       "  0%|          | 0/1 [00:00<?, ?it/s]"
      ]
     },
     "metadata": {},
     "output_type": "display_data"
    },
    {
     "name": "stdout",
     "output_type": "stream",
     "text": [
      "CSPR = 12.00 dB\n",
      "Results:\n",
      "BER: 0.00e+00\n",
      "SNR: 30.25 dB\n",
      "SIR =  24.62  dB\n",
      "GMI: 4.00 bits\n",
      "\n"
     ]
    },
    {
     "data": {
      "application/vnd.jupyter.widget-view+json": {
       "model_id": "55ec4e7783cc489c9926317070d3a52d",
       "version_major": 2,
       "version_minor": 0
      },
      "text/plain": [
       "  0%|          | 0/1 [00:00<?, ?it/s]"
      ]
     },
     "metadata": {},
     "output_type": "display_data"
    },
    {
     "name": "stdout",
     "output_type": "stream",
     "text": [
      "CSPR = 12.00 dB\n",
      "Results:\n",
      "BER: 0.00e+00\n",
      "SNR: 28.94 dB\n",
      "SIR =  22.01  dB\n",
      "GMI: 4.00 bits\n",
      "\n"
     ]
    },
    {
     "data": {
      "application/vnd.jupyter.widget-view+json": {
       "model_id": "a5e21b3c0d9748aa8983f8eab9f5619c",
       "version_major": 2,
       "version_minor": 0
      },
      "text/plain": [
       "  0%|          | 0/1 [00:00<?, ?it/s]"
      ]
     },
     "metadata": {},
     "output_type": "display_data"
    },
    {
     "name": "stdout",
     "output_type": "stream",
     "text": [
      "CSPR = 12.00 dB\n",
      "Results:\n",
      "BER: 0.00e+00\n",
      "SNR: 27.66 dB\n",
      "SIR =  20.2  dB\n",
      "GMI: 4.00 bits\n",
      "\n"
     ]
    },
    {
     "data": {
      "application/vnd.jupyter.widget-view+json": {
       "model_id": "1219fd97bdd9445397087c30aa5d5b9e",
       "version_major": 2,
       "version_minor": 0
      },
      "text/plain": [
       "  0%|          | 0/1 [00:00<?, ?it/s]"
      ]
     },
     "metadata": {},
     "output_type": "display_data"
    },
    {
     "name": "stdout",
     "output_type": "stream",
     "text": [
      "CSPR = 12.00 dB\n",
      "Results:\n",
      "BER: 0.00e+00\n",
      "SNR: 26.57 dB\n",
      "SIR =  18.83  dB\n",
      "GMI: 4.00 bits\n",
      "\n"
     ]
    },
    {
     "data": {
      "application/vnd.jupyter.widget-view+json": {
       "model_id": "b48a935cb3bb4cf7ae661eadd519c4fa",
       "version_major": 2,
       "version_minor": 0
      },
      "text/plain": [
       "  0%|          | 0/1 [00:00<?, ?it/s]"
      ]
     },
     "metadata": {},
     "output_type": "display_data"
    },
    {
     "name": "stdout",
     "output_type": "stream",
     "text": [
      "CSPR = 12.00 dB\n",
      "Results:\n",
      "BER: 0.00e+00\n",
      "SNR: 25.49 dB\n",
      "SIR =  17.52  dB\n",
      "GMI: 4.00 bits\n",
      "\n"
     ]
    },
    {
     "data": {
      "application/vnd.jupyter.widget-view+json": {
       "model_id": "9217fd2e50984cabb67e46c9dd3b422a",
       "version_major": 2,
       "version_minor": 0
      },
      "text/plain": [
       "  0%|          | 0/1 [00:00<?, ?it/s]"
      ]
     },
     "metadata": {},
     "output_type": "display_data"
    },
    {
     "name": "stdout",
     "output_type": "stream",
     "text": [
      "CSPR = 12.00 dB\n",
      "Results:\n",
      "BER: 0.00e+00\n",
      "SNR: 24.71 dB\n",
      "SIR =  16.62  dB\n",
      "GMI: 4.00 bits\n",
      "\n"
     ]
    },
    {
     "data": {
      "application/vnd.jupyter.widget-view+json": {
       "model_id": "b96b201a9e704e27947a9c0c20e63e72",
       "version_major": 2,
       "version_minor": 0
      },
      "text/plain": [
       "  0%|          | 0/1 [00:00<?, ?it/s]"
      ]
     },
     "metadata": {},
     "output_type": "display_data"
    },
    {
     "name": "stdout",
     "output_type": "stream",
     "text": [
      "CSPR = 12.00 dB\n",
      "Results:\n",
      "BER: 0.00e+00\n",
      "SNR: 23.97 dB\n",
      "SIR =  15.75  dB\n",
      "GMI: 4.00 bits\n",
      "\n"
     ]
    },
    {
     "data": {
      "application/vnd.jupyter.widget-view+json": {
       "model_id": "ff0af670eaed41498ff6bf002ffcafa9",
       "version_major": 2,
       "version_minor": 0
      },
      "text/plain": [
       "  0%|          | 0/1 [00:00<?, ?it/s]"
      ]
     },
     "metadata": {},
     "output_type": "display_data"
    },
    {
     "name": "stdout",
     "output_type": "stream",
     "text": [
      "CSPR = 12.00 dB\n",
      "Results:\n",
      "BER: 0.00e+00\n",
      "SNR: 23.34 dB\n",
      "SIR =  15.02  dB\n",
      "GMI: 4.00 bits\n",
      "\n"
     ]
    },
    {
     "data": {
      "application/vnd.jupyter.widget-view+json": {
       "model_id": "cb96be5af47f4999a7745fdd57ffc4e9",
       "version_major": 2,
       "version_minor": 0
      },
      "text/plain": [
       "  0%|          | 0/1 [00:00<?, ?it/s]"
      ]
     },
     "metadata": {},
     "output_type": "display_data"
    },
    {
     "name": "stdout",
     "output_type": "stream",
     "text": [
      "CSPR = 12.00 dB\n",
      "Results:\n",
      "BER: 0.00e+00\n",
      "SNR: 22.69 dB\n",
      "SIR =  14.28  dB\n",
      "GMI: 4.00 bits\n",
      "\n"
     ]
    },
    {
     "data": {
      "application/vnd.jupyter.widget-view+json": {
       "model_id": "d3c2478e0f6f4cd9b70f1da13834a656",
       "version_major": 2,
       "version_minor": 0
      },
      "text/plain": [
       "  0%|          | 0/1 [00:00<?, ?it/s]"
      ]
     },
     "metadata": {},
     "output_type": "display_data"
    },
    {
     "name": "stdout",
     "output_type": "stream",
     "text": [
      "CSPR = 12.00 dB\n",
      "Results:\n",
      "BER: 0.00e+00\n",
      "SNR: 22.20 dB\n",
      "SIR =  13.74  dB\n",
      "GMI: 4.00 bits\n",
      "\n"
     ]
    },
    {
     "data": {
      "application/vnd.jupyter.widget-view+json": {
       "model_id": "38e7c5e6249e404dbe6dd82578db610b",
       "version_major": 2,
       "version_minor": 0
      },
      "text/plain": [
       "  0%|          | 0/1 [00:00<?, ?it/s]"
      ]
     },
     "metadata": {},
     "output_type": "display_data"
    },
    {
     "name": "stdout",
     "output_type": "stream",
     "text": [
      "CSPR = 12.00 dB\n",
      "Results:\n",
      "BER: 3.13e-06\n",
      "SNR: 21.68 dB\n",
      "SIR =  13.14  dB\n",
      "GMI: 4.00 bits\n",
      "\n"
     ]
    },
    {
     "data": {
      "application/vnd.jupyter.widget-view+json": {
       "model_id": "6c92142c12f94e96bf6fe7ebf8946795",
       "version_major": 2,
       "version_minor": 0
      },
      "text/plain": [
       "  0%|          | 0/1 [00:00<?, ?it/s]"
      ]
     },
     "metadata": {},
     "output_type": "display_data"
    },
    {
     "name": "stdout",
     "output_type": "stream",
     "text": [
      "CSPR = 12.00 dB\n",
      "Results:\n",
      "BER: 3.13e-06\n",
      "SNR: 21.29 dB\n",
      "SIR =  12.7  dB\n",
      "GMI: 4.00 bits\n",
      "\n"
     ]
    },
    {
     "data": {
      "application/vnd.jupyter.widget-view+json": {
       "model_id": "958bc09f82314ec8b3e38bbc72de7c11",
       "version_major": 2,
       "version_minor": 0
      },
      "text/plain": [
       "  0%|          | 0/1 [00:00<?, ?it/s]"
      ]
     },
     "metadata": {},
     "output_type": "display_data"
    },
    {
     "name": "stdout",
     "output_type": "stream",
     "text": [
      "CSPR = 12.00 dB\n",
      "Results:\n",
      "BER: 1.56e-05\n",
      "SNR: 20.86 dB\n",
      "SIR =  12.16  dB\n",
      "GMI: 4.00 bits\n",
      "\n"
     ]
    },
    {
     "data": {
      "application/vnd.jupyter.widget-view+json": {
       "model_id": "68178a9b4d014d73935db54ffb8614fb",
       "version_major": 2,
       "version_minor": 0
      },
      "text/plain": [
       "  0%|          | 0/18 [00:00<?, ?it/s]"
      ]
     },
     "metadata": {},
     "output_type": "display_data"
    },
    {
     "data": {
      "application/vnd.jupyter.widget-view+json": {
       "model_id": "814ef11cd36247f88bc8174af2b4d3e4",
       "version_major": 2,
       "version_minor": 0
      },
      "text/plain": [
       "  0%|          | 0/1 [00:00<?, ?it/s]"
      ]
     },
     "metadata": {},
     "output_type": "display_data"
    },
    {
     "name": "stdout",
     "output_type": "stream",
     "text": [
      "CSPR = 12.00 dB\n",
      "Results:\n",
      "BER: 0.00e+00\n",
      "SNR: 36.04 dB\n",
      "SIR =  37.45  dB\n",
      "GMI: 4.00 bits\n",
      "\n"
     ]
    },
    {
     "data": {
      "application/vnd.jupyter.widget-view+json": {
       "model_id": "ab79811a522b4d69b716748ce8c7cd14",
       "version_major": 2,
       "version_minor": 0
      },
      "text/plain": [
       "  0%|          | 0/1 [00:00<?, ?it/s]"
      ]
     },
     "metadata": {},
     "output_type": "display_data"
    },
    {
     "name": "stdout",
     "output_type": "stream",
     "text": [
      "CSPR = 12.00 dB\n",
      "Results:\n",
      "BER: 0.00e+00\n",
      "SNR: 36.42 dB\n",
      "SIR =  37.69  dB\n",
      "GMI: 4.00 bits\n",
      "\n"
     ]
    },
    {
     "data": {
      "application/vnd.jupyter.widget-view+json": {
       "model_id": "ec65a93d74454a5d9965c7bd04bfff10",
       "version_major": 2,
       "version_minor": 0
      },
      "text/plain": [
       "  0%|          | 0/1 [00:00<?, ?it/s]"
      ]
     },
     "metadata": {},
     "output_type": "display_data"
    },
    {
     "name": "stdout",
     "output_type": "stream",
     "text": [
      "CSPR = 12.00 dB\n",
      "Results:\n",
      "BER: 0.00e+00\n",
      "SNR: 36.73 dB\n",
      "SIR =  37.53  dB\n",
      "GMI: 4.00 bits\n",
      "\n"
     ]
    },
    {
     "data": {
      "application/vnd.jupyter.widget-view+json": {
       "model_id": "7b14334b5a494517bc4a065e276bf4a1",
       "version_major": 2,
       "version_minor": 0
      },
      "text/plain": [
       "  0%|          | 0/1 [00:00<?, ?it/s]"
      ]
     },
     "metadata": {},
     "output_type": "display_data"
    },
    {
     "name": "stdout",
     "output_type": "stream",
     "text": [
      "CSPR = 12.00 dB\n",
      "Results:\n",
      "BER: 0.00e+00\n",
      "SNR: 37.04 dB\n",
      "SIR =  37.28  dB\n",
      "GMI: 4.00 bits\n",
      "\n"
     ]
    },
    {
     "data": {
      "application/vnd.jupyter.widget-view+json": {
       "model_id": "fb711d00371844c7aa9b5dd586091ee5",
       "version_major": 2,
       "version_minor": 0
      },
      "text/plain": [
       "  0%|          | 0/1 [00:00<?, ?it/s]"
      ]
     },
     "metadata": {},
     "output_type": "display_data"
    },
    {
     "name": "stdout",
     "output_type": "stream",
     "text": [
      "CSPR = 12.00 dB\n",
      "Results:\n",
      "BER: 0.00e+00\n",
      "SNR: 35.62 dB\n",
      "SIR =  35.5  dB\n",
      "GMI: 4.00 bits\n",
      "\n"
     ]
    },
    {
     "data": {
      "application/vnd.jupyter.widget-view+json": {
       "model_id": "37af61fd2d124060aca8a2dfbe0a6a95",
       "version_major": 2,
       "version_minor": 0
      },
      "text/plain": [
       "  0%|          | 0/1 [00:00<?, ?it/s]"
      ]
     },
     "metadata": {},
     "output_type": "display_data"
    },
    {
     "name": "stdout",
     "output_type": "stream",
     "text": [
      "CSPR = 12.00 dB\n",
      "Results:\n",
      "BER: 0.00e+00\n",
      "SNR: 32.75 dB\n",
      "SIR =  31.48  dB\n",
      "GMI: 4.00 bits\n",
      "\n"
     ]
    },
    {
     "data": {
      "application/vnd.jupyter.widget-view+json": {
       "model_id": "1c8fee1abf5a4dbf89221cb60c95532e",
       "version_major": 2,
       "version_minor": 0
      },
      "text/plain": [
       "  0%|          | 0/1 [00:00<?, ?it/s]"
      ]
     },
     "metadata": {},
     "output_type": "display_data"
    },
    {
     "name": "stdout",
     "output_type": "stream",
     "text": [
      "CSPR = 12.00 dB\n",
      "Results:\n",
      "BER: 0.00e+00\n",
      "SNR: 31.50 dB\n",
      "SIR =  27.74  dB\n",
      "GMI: 4.00 bits\n",
      "\n"
     ]
    },
    {
     "data": {
      "application/vnd.jupyter.widget-view+json": {
       "model_id": "af22306227a6456c834c17fc437a3fef",
       "version_major": 2,
       "version_minor": 0
      },
      "text/plain": [
       "  0%|          | 0/1 [00:00<?, ?it/s]"
      ]
     },
     "metadata": {},
     "output_type": "display_data"
    },
    {
     "name": "stdout",
     "output_type": "stream",
     "text": [
      "CSPR = 12.00 dB\n",
      "Results:\n",
      "BER: 0.00e+00\n",
      "SNR: 30.48 dB\n",
      "SIR =  24.88  dB\n",
      "GMI: 4.00 bits\n",
      "\n"
     ]
    },
    {
     "data": {
      "application/vnd.jupyter.widget-view+json": {
       "model_id": "c3ac60d43af74493838f43bf1062d0e1",
       "version_major": 2,
       "version_minor": 0
      },
      "text/plain": [
       "  0%|          | 0/1 [00:00<?, ?it/s]"
      ]
     },
     "metadata": {},
     "output_type": "display_data"
    },
    {
     "name": "stdout",
     "output_type": "stream",
     "text": [
      "CSPR = 12.00 dB\n",
      "Results:\n",
      "BER: 0.00e+00\n",
      "SNR: 29.15 dB\n",
      "SIR =  22.57  dB\n",
      "GMI: 4.00 bits\n",
      "\n"
     ]
    },
    {
     "data": {
      "application/vnd.jupyter.widget-view+json": {
       "model_id": "a8e858cbc9c7444891711de1c9ed298f",
       "version_major": 2,
       "version_minor": 0
      },
      "text/plain": [
       "  0%|          | 0/1 [00:00<?, ?it/s]"
      ]
     },
     "metadata": {},
     "output_type": "display_data"
    },
    {
     "name": "stdout",
     "output_type": "stream",
     "text": [
      "CSPR = 12.00 dB\n",
      "Results:\n",
      "BER: 0.00e+00\n",
      "SNR: 27.99 dB\n",
      "SIR =  20.91  dB\n",
      "GMI: 4.00 bits\n",
      "\n"
     ]
    },
    {
     "data": {
      "application/vnd.jupyter.widget-view+json": {
       "model_id": "372149b88e4f49e988388820cb014eac",
       "version_major": 2,
       "version_minor": 0
      },
      "text/plain": [
       "  0%|          | 0/1 [00:00<?, ?it/s]"
      ]
     },
     "metadata": {},
     "output_type": "display_data"
    },
    {
     "name": "stdout",
     "output_type": "stream",
     "text": [
      "CSPR = 12.00 dB\n",
      "Results:\n",
      "BER: 0.00e+00\n",
      "SNR: 26.87 dB\n",
      "SIR =  19.41  dB\n",
      "GMI: 4.00 bits\n",
      "\n"
     ]
    },
    {
     "data": {
      "application/vnd.jupyter.widget-view+json": {
       "model_id": "2f93b9654520467cbcbae6de05e860b8",
       "version_major": 2,
       "version_minor": 0
      },
      "text/plain": [
       "  0%|          | 0/1 [00:00<?, ?it/s]"
      ]
     },
     "metadata": {},
     "output_type": "display_data"
    },
    {
     "name": "stdout",
     "output_type": "stream",
     "text": [
      "CSPR = 12.00 dB\n",
      "Results:\n",
      "BER: 0.00e+00\n",
      "SNR: 25.86 dB\n",
      "SIR =  18.22  dB\n",
      "GMI: 4.00 bits\n",
      "\n"
     ]
    },
    {
     "data": {
      "application/vnd.jupyter.widget-view+json": {
       "model_id": "9bfe17706bc34ac9966d7a2b885c38e5",
       "version_major": 2,
       "version_minor": 0
      },
      "text/plain": [
       "  0%|          | 0/1 [00:00<?, ?it/s]"
      ]
     },
     "metadata": {},
     "output_type": "display_data"
    },
    {
     "name": "stdout",
     "output_type": "stream",
     "text": [
      "CSPR = 12.00 dB\n",
      "Results:\n",
      "BER: 0.00e+00\n",
      "SNR: 25.16 dB\n",
      "SIR =  17.33  dB\n",
      "GMI: 4.00 bits\n",
      "\n"
     ]
    },
    {
     "data": {
      "application/vnd.jupyter.widget-view+json": {
       "model_id": "57ec99b5e0c146e881b78d20af397682",
       "version_major": 2,
       "version_minor": 0
      },
      "text/plain": [
       "  0%|          | 0/1 [00:00<?, ?it/s]"
      ]
     },
     "metadata": {},
     "output_type": "display_data"
    },
    {
     "name": "stdout",
     "output_type": "stream",
     "text": [
      "CSPR = 12.00 dB\n",
      "Results:\n",
      "BER: 0.00e+00\n",
      "SNR: 24.43 dB\n",
      "SIR =  16.39  dB\n",
      "GMI: 4.00 bits\n",
      "\n"
     ]
    },
    {
     "data": {
      "application/vnd.jupyter.widget-view+json": {
       "model_id": "1dd507f1e5454e1889928af7b634da60",
       "version_major": 2,
       "version_minor": 0
      },
      "text/plain": [
       "  0%|          | 0/1 [00:00<?, ?it/s]"
      ]
     },
     "metadata": {},
     "output_type": "display_data"
    },
    {
     "name": "stdout",
     "output_type": "stream",
     "text": [
      "CSPR = 12.00 dB\n",
      "Results:\n",
      "BER: 0.00e+00\n",
      "SNR: 23.74 dB\n",
      "SIR =  15.57  dB\n",
      "GMI: 4.00 bits\n",
      "\n"
     ]
    },
    {
     "data": {
      "application/vnd.jupyter.widget-view+json": {
       "model_id": "4606aced3ad742309600b6e225326d21",
       "version_major": 2,
       "version_minor": 0
      },
      "text/plain": [
       "  0%|          | 0/1 [00:00<?, ?it/s]"
      ]
     },
     "metadata": {},
     "output_type": "display_data"
    },
    {
     "name": "stdout",
     "output_type": "stream",
     "text": [
      "CSPR = 12.00 dB\n",
      "Results:\n",
      "BER: 0.00e+00\n",
      "SNR: 23.21 dB\n",
      "SIR =  14.9  dB\n",
      "GMI: 4.00 bits\n",
      "\n"
     ]
    },
    {
     "data": {
      "application/vnd.jupyter.widget-view+json": {
       "model_id": "17856e06c2df435da6a45e559cc8bc5f",
       "version_major": 2,
       "version_minor": 0
      },
      "text/plain": [
       "  0%|          | 0/1 [00:00<?, ?it/s]"
      ]
     },
     "metadata": {},
     "output_type": "display_data"
    },
    {
     "name": "stdout",
     "output_type": "stream",
     "text": [
      "CSPR = 12.00 dB\n",
      "Results:\n",
      "BER: 0.00e+00\n",
      "SNR: 22.64 dB\n",
      "SIR =  14.21  dB\n",
      "GMI: 4.00 bits\n",
      "\n"
     ]
    },
    {
     "data": {
      "application/vnd.jupyter.widget-view+json": {
       "model_id": "8036903274a94b92bc85bf3c91ba9064",
       "version_major": 2,
       "version_minor": 0
      },
      "text/plain": [
       "  0%|          | 0/1 [00:00<?, ?it/s]"
      ]
     },
     "metadata": {},
     "output_type": "display_data"
    },
    {
     "name": "stdout",
     "output_type": "stream",
     "text": [
      "CSPR = 12.00 dB\n",
      "Results:\n",
      "BER: 0.00e+00\n",
      "SNR: 22.22 dB\n",
      "SIR =  13.68  dB\n",
      "GMI: 4.00 bits\n",
      "\n"
     ]
    },
    {
     "data": {
      "application/vnd.jupyter.widget-view+json": {
       "model_id": "d8d9ed04a5944ef0bd20437b91544e45",
       "version_major": 2,
       "version_minor": 0
      },
      "text/plain": [
       "  0%|          | 0/18 [00:00<?, ?it/s]"
      ]
     },
     "metadata": {},
     "output_type": "display_data"
    },
    {
     "data": {
      "application/vnd.jupyter.widget-view+json": {
       "model_id": "e54f81c9edf94e34ac40993891fdff54",
       "version_major": 2,
       "version_minor": 0
      },
      "text/plain": [
       "  0%|          | 0/1 [00:00<?, ?it/s]"
      ]
     },
     "metadata": {},
     "output_type": "display_data"
    },
    {
     "name": "stdout",
     "output_type": "stream",
     "text": [
      "CSPR = 12.00 dB\n",
      "Results:\n",
      "BER: 0.00e+00\n",
      "SNR: 35.43 dB\n",
      "SIR =  36.89  dB\n",
      "GMI: 4.00 bits\n",
      "\n"
     ]
    },
    {
     "data": {
      "application/vnd.jupyter.widget-view+json": {
       "model_id": "ce2dadf9e5904ff7a203d6f6a1a9a3c5",
       "version_major": 2,
       "version_minor": 0
      },
      "text/plain": [
       "  0%|          | 0/1 [00:00<?, ?it/s]"
      ]
     },
     "metadata": {},
     "output_type": "display_data"
    },
    {
     "name": "stdout",
     "output_type": "stream",
     "text": [
      "CSPR = 12.00 dB\n",
      "Results:\n",
      "BER: 0.00e+00\n",
      "SNR: 35.74 dB\n",
      "SIR =  36.72  dB\n",
      "GMI: 4.00 bits\n",
      "\n"
     ]
    },
    {
     "data": {
      "application/vnd.jupyter.widget-view+json": {
       "model_id": "726629c261ad4813afd40cf7b2132076",
       "version_major": 2,
       "version_minor": 0
      },
      "text/plain": [
       "  0%|          | 0/1 [00:00<?, ?it/s]"
      ]
     },
     "metadata": {},
     "output_type": "display_data"
    },
    {
     "name": "stdout",
     "output_type": "stream",
     "text": [
      "CSPR = 12.00 dB\n",
      "Results:\n",
      "BER: 0.00e+00\n",
      "SNR: 36.03 dB\n",
      "SIR =  36.7  dB\n",
      "GMI: 4.00 bits\n",
      "\n"
     ]
    },
    {
     "data": {
      "application/vnd.jupyter.widget-view+json": {
       "model_id": "71d7d2f94801468a8081053e251647db",
       "version_major": 2,
       "version_minor": 0
      },
      "text/plain": [
       "  0%|          | 0/1 [00:00<?, ?it/s]"
      ]
     },
     "metadata": {},
     "output_type": "display_data"
    },
    {
     "name": "stdout",
     "output_type": "stream",
     "text": [
      "CSPR = 12.00 dB\n",
      "Results:\n",
      "BER: 0.00e+00\n",
      "SNR: 36.22 dB\n",
      "SIR =  36.64  dB\n",
      "GMI: 4.00 bits\n",
      "\n"
     ]
    },
    {
     "data": {
      "application/vnd.jupyter.widget-view+json": {
       "model_id": "427aa47384ca4162a083a2d6da002913",
       "version_major": 2,
       "version_minor": 0
      },
      "text/plain": [
       "  0%|          | 0/1 [00:00<?, ?it/s]"
      ]
     },
     "metadata": {},
     "output_type": "display_data"
    },
    {
     "name": "stdout",
     "output_type": "stream",
     "text": [
      "CSPR = 12.00 dB\n",
      "Results:\n",
      "BER: 0.00e+00\n",
      "SNR: 36.43 dB\n",
      "SIR =  36.6  dB\n",
      "GMI: 4.00 bits\n",
      "\n"
     ]
    },
    {
     "data": {
      "application/vnd.jupyter.widget-view+json": {
       "model_id": "6d1fbb87c671409884344c91fc5e1d7b",
       "version_major": 2,
       "version_minor": 0
      },
      "text/plain": [
       "  0%|          | 0/1 [00:00<?, ?it/s]"
      ]
     },
     "metadata": {},
     "output_type": "display_data"
    },
    {
     "name": "stdout",
     "output_type": "stream",
     "text": [
      "CSPR = 12.00 dB\n",
      "Results:\n",
      "BER: 0.00e+00\n",
      "SNR: 36.05 dB\n",
      "SIR =  36.15  dB\n",
      "GMI: 4.00 bits\n",
      "\n"
     ]
    },
    {
     "data": {
      "application/vnd.jupyter.widget-view+json": {
       "model_id": "707e68db429643108549cda0902579b4",
       "version_major": 2,
       "version_minor": 0
      },
      "text/plain": [
       "  0%|          | 0/1 [00:00<?, ?it/s]"
      ]
     },
     "metadata": {},
     "output_type": "display_data"
    },
    {
     "name": "stdout",
     "output_type": "stream",
     "text": [
      "CSPR = 12.00 dB\n",
      "Results:\n",
      "BER: 0.00e+00\n",
      "SNR: 34.08 dB\n",
      "SIR =  33.65  dB\n",
      "GMI: 4.00 bits\n",
      "\n"
     ]
    },
    {
     "data": {
      "application/vnd.jupyter.widget-view+json": {
       "model_id": "df1799ba926044819238bbe4808e681f",
       "version_major": 2,
       "version_minor": 0
      },
      "text/plain": [
       "  0%|          | 0/1 [00:00<?, ?it/s]"
      ]
     },
     "metadata": {},
     "output_type": "display_data"
    },
    {
     "name": "stdout",
     "output_type": "stream",
     "text": [
      "CSPR = 12.00 dB\n",
      "Results:\n",
      "BER: 0.00e+00\n",
      "SNR: 32.19 dB\n",
      "SIR =  30.17  dB\n",
      "GMI: 4.00 bits\n",
      "\n"
     ]
    },
    {
     "data": {
      "application/vnd.jupyter.widget-view+json": {
       "model_id": "2a458f587d5e4cafada2e8592fefb482",
       "version_major": 2,
       "version_minor": 0
      },
      "text/plain": [
       "  0%|          | 0/1 [00:00<?, ?it/s]"
      ]
     },
     "metadata": {},
     "output_type": "display_data"
    },
    {
     "name": "stdout",
     "output_type": "stream",
     "text": [
      "CSPR = 12.00 dB\n",
      "Results:\n",
      "BER: 0.00e+00\n",
      "SNR: 31.16 dB\n",
      "SIR =  27.36  dB\n",
      "GMI: 4.00 bits\n",
      "\n"
     ]
    },
    {
     "data": {
      "application/vnd.jupyter.widget-view+json": {
       "model_id": "9c7338c528824ca1885826956f597e70",
       "version_major": 2,
       "version_minor": 0
      },
      "text/plain": [
       "  0%|          | 0/1 [00:00<?, ?it/s]"
      ]
     },
     "metadata": {},
     "output_type": "display_data"
    },
    {
     "name": "stdout",
     "output_type": "stream",
     "text": [
      "CSPR = 12.00 dB\n",
      "Results:\n",
      "BER: 0.00e+00\n",
      "SNR: 30.14 dB\n",
      "SIR =  24.89  dB\n",
      "GMI: 4.00 bits\n",
      "\n"
     ]
    },
    {
     "data": {
      "application/vnd.jupyter.widget-view+json": {
       "model_id": "44c5da99ca474a4a99b0efcf093455f6",
       "version_major": 2,
       "version_minor": 0
      },
      "text/plain": [
       "  0%|          | 0/1 [00:00<?, ?it/s]"
      ]
     },
     "metadata": {},
     "output_type": "display_data"
    },
    {
     "name": "stdout",
     "output_type": "stream",
     "text": [
      "CSPR = 12.00 dB\n",
      "Results:\n",
      "BER: 0.00e+00\n",
      "SNR: 29.05 dB\n",
      "SIR =  22.89  dB\n",
      "GMI: 4.00 bits\n",
      "\n"
     ]
    },
    {
     "data": {
      "application/vnd.jupyter.widget-view+json": {
       "model_id": "404f117842204d24a1a0fd564035ff4a",
       "version_major": 2,
       "version_minor": 0
      },
      "text/plain": [
       "  0%|          | 0/1 [00:00<?, ?it/s]"
      ]
     },
     "metadata": {},
     "output_type": "display_data"
    },
    {
     "name": "stdout",
     "output_type": "stream",
     "text": [
      "CSPR = 12.00 dB\n",
      "Results:\n",
      "BER: 0.00e+00\n",
      "SNR: 27.98 dB\n",
      "SIR =  21.29  dB\n",
      "GMI: 4.00 bits\n",
      "\n"
     ]
    },
    {
     "data": {
      "application/vnd.jupyter.widget-view+json": {
       "model_id": "bcb0f3043b7c4b57933882225955b1e7",
       "version_major": 2,
       "version_minor": 0
      },
      "text/plain": [
       "  0%|          | 0/1 [00:00<?, ?it/s]"
      ]
     },
     "metadata": {},
     "output_type": "display_data"
    },
    {
     "name": "stdout",
     "output_type": "stream",
     "text": [
      "CSPR = 12.00 dB\n",
      "Results:\n",
      "BER: 0.00e+00\n",
      "SNR: 26.94 dB\n",
      "SIR =  19.94  dB\n",
      "GMI: 4.00 bits\n",
      "\n"
     ]
    },
    {
     "data": {
      "application/vnd.jupyter.widget-view+json": {
       "model_id": "e938886cd59a4cf4bfd0cbd78b74a041",
       "version_major": 2,
       "version_minor": 0
      },
      "text/plain": [
       "  0%|          | 0/1 [00:00<?, ?it/s]"
      ]
     },
     "metadata": {},
     "output_type": "display_data"
    },
    {
     "name": "stdout",
     "output_type": "stream",
     "text": [
      "CSPR = 12.00 dB\n",
      "Results:\n",
      "BER: 0.00e+00\n",
      "SNR: 26.21 dB\n",
      "SIR =  18.81  dB\n",
      "GMI: 4.00 bits\n",
      "\n"
     ]
    },
    {
     "data": {
      "application/vnd.jupyter.widget-view+json": {
       "model_id": "fcc5f6012c874e71a5c7955ff9659739",
       "version_major": 2,
       "version_minor": 0
      },
      "text/plain": [
       "  0%|          | 0/1 [00:00<?, ?it/s]"
      ]
     },
     "metadata": {},
     "output_type": "display_data"
    },
    {
     "name": "stdout",
     "output_type": "stream",
     "text": [
      "CSPR = 12.00 dB\n",
      "Results:\n",
      "BER: 0.00e+00\n",
      "SNR: 25.36 dB\n",
      "SIR =  17.75  dB\n",
      "GMI: 4.00 bits\n",
      "\n"
     ]
    },
    {
     "data": {
      "application/vnd.jupyter.widget-view+json": {
       "model_id": "a0af407e657a4fe19a7aaa149646a711",
       "version_major": 2,
       "version_minor": 0
      },
      "text/plain": [
       "  0%|          | 0/1 [00:00<?, ?it/s]"
      ]
     },
     "metadata": {},
     "output_type": "display_data"
    },
    {
     "name": "stdout",
     "output_type": "stream",
     "text": [
      "CSPR = 12.00 dB\n",
      "Results:\n",
      "BER: 0.00e+00\n",
      "SNR: 24.70 dB\n",
      "SIR =  16.89  dB\n",
      "GMI: 4.00 bits\n",
      "\n"
     ]
    },
    {
     "data": {
      "application/vnd.jupyter.widget-view+json": {
       "model_id": "8d28880386074a408067208818419e3d",
       "version_major": 2,
       "version_minor": 0
      },
      "text/plain": [
       "  0%|          | 0/1 [00:00<?, ?it/s]"
      ]
     },
     "metadata": {},
     "output_type": "display_data"
    },
    {
     "name": "stdout",
     "output_type": "stream",
     "text": [
      "CSPR = 12.00 dB\n",
      "Results:\n",
      "BER: 0.00e+00\n",
      "SNR: 24.04 dB\n",
      "SIR =  16.01  dB\n",
      "GMI: 4.00 bits\n",
      "\n"
     ]
    },
    {
     "data": {
      "application/vnd.jupyter.widget-view+json": {
       "model_id": "eebb31543b5342ef92cc32deecf87768",
       "version_major": 2,
       "version_minor": 0
      },
      "text/plain": [
       "  0%|          | 0/1 [00:00<?, ?it/s]"
      ]
     },
     "metadata": {},
     "output_type": "display_data"
    },
    {
     "name": "stdout",
     "output_type": "stream",
     "text": [
      "CSPR = 12.00 dB\n",
      "Results:\n",
      "BER: 0.00e+00\n",
      "SNR: 23.49 dB\n",
      "SIR =  15.35  dB\n",
      "GMI: 4.00 bits\n",
      "\n"
     ]
    },
    {
     "data": {
      "application/vnd.jupyter.widget-view+json": {
       "model_id": "c672c9f56460471aa421ee62b52d6f58",
       "version_major": 2,
       "version_minor": 0
      },
      "text/plain": [
       "  0%|          | 0/18 [00:00<?, ?it/s]"
      ]
     },
     "metadata": {},
     "output_type": "display_data"
    },
    {
     "data": {
      "application/vnd.jupyter.widget-view+json": {
       "model_id": "b63c9aa6eb4342a986c7447fd7fb4e42",
       "version_major": 2,
       "version_minor": 0
      },
      "text/plain": [
       "  0%|          | 0/1 [00:00<?, ?it/s]"
      ]
     },
     "metadata": {},
     "output_type": "display_data"
    },
    {
     "name": "stdout",
     "output_type": "stream",
     "text": [
      "CSPR = 12.00 dB\n",
      "Results:\n",
      "BER: 0.00e+00\n",
      "SNR: 34.67 dB\n",
      "SIR =  35.89  dB\n",
      "GMI: 4.00 bits\n",
      "\n"
     ]
    },
    {
     "data": {
      "application/vnd.jupyter.widget-view+json": {
       "model_id": "75b82413c997499db4494f16c8eb61ee",
       "version_major": 2,
       "version_minor": 0
      },
      "text/plain": [
       "  0%|          | 0/1 [00:00<?, ?it/s]"
      ]
     },
     "metadata": {},
     "output_type": "display_data"
    },
    {
     "name": "stdout",
     "output_type": "stream",
     "text": [
      "CSPR = 12.00 dB\n",
      "Results:\n",
      "BER: 0.00e+00\n",
      "SNR: 34.96 dB\n",
      "SIR =  35.74  dB\n",
      "GMI: 4.00 bits\n",
      "\n"
     ]
    },
    {
     "data": {
      "application/vnd.jupyter.widget-view+json": {
       "model_id": "e8fd53433fbe47cb96d9bca5280fbc56",
       "version_major": 2,
       "version_minor": 0
      },
      "text/plain": [
       "  0%|          | 0/1 [00:00<?, ?it/s]"
      ]
     },
     "metadata": {},
     "output_type": "display_data"
    },
    {
     "name": "stdout",
     "output_type": "stream",
     "text": [
      "CSPR = 12.00 dB\n",
      "Results:\n",
      "BER: 0.00e+00\n",
      "SNR: 35.11 dB\n",
      "SIR =  35.9  dB\n",
      "GMI: 4.00 bits\n",
      "\n"
     ]
    },
    {
     "data": {
      "application/vnd.jupyter.widget-view+json": {
       "model_id": "5e16ad24bc204b09926c36ba65a1b29b",
       "version_major": 2,
       "version_minor": 0
      },
      "text/plain": [
       "  0%|          | 0/1 [00:00<?, ?it/s]"
      ]
     },
     "metadata": {},
     "output_type": "display_data"
    },
    {
     "name": "stdout",
     "output_type": "stream",
     "text": [
      "CSPR = 12.00 dB\n",
      "Results:\n",
      "BER: 0.00e+00\n",
      "SNR: 35.27 dB\n",
      "SIR =  35.64  dB\n",
      "GMI: 4.00 bits\n",
      "\n"
     ]
    },
    {
     "data": {
      "application/vnd.jupyter.widget-view+json": {
       "model_id": "6f6015ed11ea48f8a1e0c3d8837675fe",
       "version_major": 2,
       "version_minor": 0
      },
      "text/plain": [
       "  0%|          | 0/1 [00:00<?, ?it/s]"
      ]
     },
     "metadata": {},
     "output_type": "display_data"
    },
    {
     "name": "stdout",
     "output_type": "stream",
     "text": [
      "CSPR = 12.00 dB\n",
      "Results:\n",
      "BER: 0.00e+00\n",
      "SNR: 35.33 dB\n",
      "SIR =  35.5  dB\n",
      "GMI: 4.00 bits\n",
      "\n"
     ]
    },
    {
     "data": {
      "application/vnd.jupyter.widget-view+json": {
       "model_id": "a034e1eb683d464e8e530571e2dd220d",
       "version_major": 2,
       "version_minor": 0
      },
      "text/plain": [
       "  0%|          | 0/1 [00:00<?, ?it/s]"
      ]
     },
     "metadata": {},
     "output_type": "display_data"
    },
    {
     "name": "stdout",
     "output_type": "stream",
     "text": [
      "CSPR = 12.00 dB\n",
      "Results:\n",
      "BER: 0.00e+00\n",
      "SNR: 35.51 dB\n",
      "SIR =  35.52  dB\n",
      "GMI: 4.00 bits\n",
      "\n"
     ]
    },
    {
     "data": {
      "application/vnd.jupyter.widget-view+json": {
       "model_id": "992b118f6c51412d8f8b9ecde44b0647",
       "version_major": 2,
       "version_minor": 0
      },
      "text/plain": [
       "  0%|          | 0/1 [00:00<?, ?it/s]"
      ]
     },
     "metadata": {},
     "output_type": "display_data"
    },
    {
     "name": "stdout",
     "output_type": "stream",
     "text": [
      "CSPR = 12.00 dB\n",
      "Results:\n",
      "BER: 0.00e+00\n",
      "SNR: 35.46 dB\n",
      "SIR =  35.3  dB\n",
      "GMI: 4.00 bits\n",
      "\n"
     ]
    },
    {
     "data": {
      "application/vnd.jupyter.widget-view+json": {
       "model_id": "cfbe09d67f484d1aa201bd3438418206",
       "version_major": 2,
       "version_minor": 0
      },
      "text/plain": [
       "  0%|          | 0/1 [00:00<?, ?it/s]"
      ]
     },
     "metadata": {},
     "output_type": "display_data"
    },
    {
     "name": "stdout",
     "output_type": "stream",
     "text": [
      "CSPR = 12.00 dB\n",
      "Results:\n",
      "BER: 0.00e+00\n",
      "SNR: 34.43 dB\n",
      "SIR =  34.24  dB\n",
      "GMI: 4.00 bits\n",
      "\n"
     ]
    },
    {
     "data": {
      "application/vnd.jupyter.widget-view+json": {
       "model_id": "5c3c4fa32ad9430585cabc5cdca7ee38",
       "version_major": 2,
       "version_minor": 0
      },
      "text/plain": [
       "  0%|          | 0/1 [00:00<?, ?it/s]"
      ]
     },
     "metadata": {},
     "output_type": "display_data"
    },
    {
     "name": "stdout",
     "output_type": "stream",
     "text": [
      "CSPR = 12.00 dB\n",
      "Results:\n",
      "BER: 0.00e+00\n",
      "SNR: 32.74 dB\n",
      "SIR =  31.82  dB\n",
      "GMI: 4.00 bits\n",
      "\n"
     ]
    },
    {
     "data": {
      "application/vnd.jupyter.widget-view+json": {
       "model_id": "a6c7e9b9aaa94da581a2ec7590d6b75e",
       "version_major": 2,
       "version_minor": 0
      },
      "text/plain": [
       "  0%|          | 0/1 [00:00<?, ?it/s]"
      ]
     },
     "metadata": {},
     "output_type": "display_data"
    },
    {
     "name": "stdout",
     "output_type": "stream",
     "text": [
      "CSPR = 12.00 dB\n",
      "Results:\n",
      "BER: 0.00e+00\n",
      "SNR: 31.38 dB\n",
      "SIR =  29.16  dB\n",
      "GMI: 4.00 bits\n",
      "\n"
     ]
    },
    {
     "data": {
      "application/vnd.jupyter.widget-view+json": {
       "model_id": "c29bcc79b56f400f97b099671e895bd6",
       "version_major": 2,
       "version_minor": 0
      },
      "text/plain": [
       "  0%|          | 0/1 [00:00<?, ?it/s]"
      ]
     },
     "metadata": {},
     "output_type": "display_data"
    },
    {
     "name": "stdout",
     "output_type": "stream",
     "text": [
      "CSPR = 12.00 dB\n",
      "Results:\n",
      "BER: 0.00e+00\n",
      "SNR: 30.57 dB\n",
      "SIR =  26.73  dB\n",
      "GMI: 4.00 bits\n",
      "\n"
     ]
    },
    {
     "data": {
      "application/vnd.jupyter.widget-view+json": {
       "model_id": "0484238c9d294a2cbb4610f99c257323",
       "version_major": 2,
       "version_minor": 0
      },
      "text/plain": [
       "  0%|          | 0/1 [00:00<?, ?it/s]"
      ]
     },
     "metadata": {},
     "output_type": "display_data"
    },
    {
     "name": "stdout",
     "output_type": "stream",
     "text": [
      "CSPR = 12.00 dB\n",
      "Results:\n",
      "BER: 0.00e+00\n",
      "SNR: 29.69 dB\n",
      "SIR =  24.76  dB\n",
      "GMI: 4.00 bits\n",
      "\n"
     ]
    },
    {
     "data": {
      "application/vnd.jupyter.widget-view+json": {
       "model_id": "17269e2eac7f4d9ca2cbdcd7ea071fff",
       "version_major": 2,
       "version_minor": 0
      },
      "text/plain": [
       "  0%|          | 0/1 [00:00<?, ?it/s]"
      ]
     },
     "metadata": {},
     "output_type": "display_data"
    },
    {
     "name": "stdout",
     "output_type": "stream",
     "text": [
      "CSPR = 12.00 dB\n",
      "Results:\n",
      "BER: 0.00e+00\n",
      "SNR: 28.68 dB\n",
      "SIR =  22.95  dB\n",
      "GMI: 4.00 bits\n",
      "\n"
     ]
    },
    {
     "data": {
      "application/vnd.jupyter.widget-view+json": {
       "model_id": "f1f6d5c61f34495bb8faa9378da58c5a",
       "version_major": 2,
       "version_minor": 0
      },
      "text/plain": [
       "  0%|          | 0/1 [00:00<?, ?it/s]"
      ]
     },
     "metadata": {},
     "output_type": "display_data"
    },
    {
     "name": "stdout",
     "output_type": "stream",
     "text": [
      "CSPR = 12.00 dB\n",
      "Results:\n",
      "BER: 0.00e+00\n",
      "SNR: 27.73 dB\n",
      "SIR =  21.48  dB\n",
      "GMI: 4.00 bits\n",
      "\n"
     ]
    },
    {
     "data": {
      "application/vnd.jupyter.widget-view+json": {
       "model_id": "19098218f2fe489bb1114e673a081481",
       "version_major": 2,
       "version_minor": 0
      },
      "text/plain": [
       "  0%|          | 0/1 [00:00<?, ?it/s]"
      ]
     },
     "metadata": {},
     "output_type": "display_data"
    },
    {
     "name": "stdout",
     "output_type": "stream",
     "text": [
      "CSPR = 12.00 dB\n",
      "Results:\n",
      "BER: 0.00e+00\n",
      "SNR: 26.85 dB\n",
      "SIR =  20.17  dB\n",
      "GMI: 4.00 bits\n",
      "\n"
     ]
    },
    {
     "data": {
      "application/vnd.jupyter.widget-view+json": {
       "model_id": "f41a3a8136284c4081b70cbd6c995e9c",
       "version_major": 2,
       "version_minor": 0
      },
      "text/plain": [
       "  0%|          | 0/1 [00:00<?, ?it/s]"
      ]
     },
     "metadata": {},
     "output_type": "display_data"
    },
    {
     "name": "stdout",
     "output_type": "stream",
     "text": [
      "CSPR = 12.00 dB\n",
      "Results:\n",
      "BER: 0.00e+00\n",
      "SNR: 26.04 dB\n",
      "SIR =  19.06  dB\n",
      "GMI: 4.00 bits\n",
      "\n"
     ]
    },
    {
     "data": {
      "application/vnd.jupyter.widget-view+json": {
       "model_id": "5c9e09bdafcd46c9aa55c67a42babcf9",
       "version_major": 2,
       "version_minor": 0
      },
      "text/plain": [
       "  0%|          | 0/1 [00:00<?, ?it/s]"
      ]
     },
     "metadata": {},
     "output_type": "display_data"
    },
    {
     "name": "stdout",
     "output_type": "stream",
     "text": [
      "CSPR = 12.00 dB\n",
      "Results:\n",
      "BER: 0.00e+00\n",
      "SNR: 25.39 dB\n",
      "SIR =  18.06  dB\n",
      "GMI: 4.00 bits\n",
      "\n"
     ]
    },
    {
     "data": {
      "application/vnd.jupyter.widget-view+json": {
       "model_id": "8f616505ea464f7ebb338849ebc9955c",
       "version_major": 2,
       "version_minor": 0
      },
      "text/plain": [
       "  0%|          | 0/1 [00:00<?, ?it/s]"
      ]
     },
     "metadata": {},
     "output_type": "display_data"
    },
    {
     "name": "stdout",
     "output_type": "stream",
     "text": [
      "CSPR = 12.00 dB\n",
      "Results:\n",
      "BER: 0.00e+00\n",
      "SNR: 24.76 dB\n",
      "SIR =  17.23  dB\n",
      "GMI: 4.00 bits\n",
      "\n"
     ]
    },
    {
     "data": {
      "application/vnd.jupyter.widget-view+json": {
       "model_id": "ef732c78b87b4489936c90b3186e808a",
       "version_major": 2,
       "version_minor": 0
      },
      "text/plain": [
       "  0%|          | 0/6 [00:00<?, ?it/s]"
      ]
     },
     "metadata": {},
     "output_type": "display_data"
    },
    {
     "data": {
      "application/vnd.jupyter.widget-view+json": {
       "model_id": "ee2c81faca164b12bc44293dce9de111",
       "version_major": 2,
       "version_minor": 0
      },
      "text/plain": [
       "  0%|          | 0/18 [00:00<?, ?it/s]"
      ]
     },
     "metadata": {},
     "output_type": "display_data"
    },
    {
     "data": {
      "application/vnd.jupyter.widget-view+json": {
       "model_id": "b801295428264b8f8fb37876c0ebb2c1",
       "version_major": 2,
       "version_minor": 0
      },
      "text/plain": [
       "  0%|          | 0/1 [00:00<?, ?it/s]"
      ]
     },
     "metadata": {},
     "output_type": "display_data"
    },
    {
     "name": "stdout",
     "output_type": "stream",
     "text": [
      "CSPR = 12.00 dB\n",
      "12500/12500 [==============================] - 8s 630us/step\n",
      "Results:\n",
      "BER: 1.25e-05\n",
      "SNR: 22.79 dB\n",
      "SIR =  22.22  dB\n",
      "GMI: 4.00 bits\n",
      "\n"
     ]
    },
    {
     "data": {
      "application/vnd.jupyter.widget-view+json": {
       "model_id": "fc74538aba874226a6be8e4f657f3a83",
       "version_major": 2,
       "version_minor": 0
      },
      "text/plain": [
       "  0%|          | 0/1 [00:00<?, ?it/s]"
      ]
     },
     "metadata": {},
     "output_type": "display_data"
    },
    {
     "name": "stdout",
     "output_type": "stream",
     "text": [
      "CSPR = 12.00 dB\n",
      "12500/12500 [==============================] - 9s 704us/step\n",
      "Results:\n",
      "BER: 9.37e-06\n",
      "SNR: 21.84 dB\n",
      "SIR =  20.27  dB\n",
      "GMI: 4.00 bits\n",
      "\n"
     ]
    },
    {
     "data": {
      "application/vnd.jupyter.widget-view+json": {
       "model_id": "d41b628920a04faba157c9b9623216eb",
       "version_major": 2,
       "version_minor": 0
      },
      "text/plain": [
       "  0%|          | 0/1 [00:00<?, ?it/s]"
      ]
     },
     "metadata": {},
     "output_type": "display_data"
    },
    {
     "name": "stdout",
     "output_type": "stream",
     "text": [
      "CSPR = 12.00 dB\n",
      "12500/12500 [==============================] - 8s 666us/step\n",
      "Results:\n",
      "BER: 3.13e-06\n",
      "SNR: 21.77 dB\n",
      "SIR =  19.18  dB\n",
      "GMI: 4.00 bits\n",
      "\n"
     ]
    },
    {
     "data": {
      "application/vnd.jupyter.widget-view+json": {
       "model_id": "3afe054c611048a89f04d90526944053",
       "version_major": 2,
       "version_minor": 0
      },
      "text/plain": [
       "  0%|          | 0/1 [00:00<?, ?it/s]"
      ]
     },
     "metadata": {},
     "output_type": "display_data"
    },
    {
     "name": "stdout",
     "output_type": "stream",
     "text": [
      "CSPR = 12.00 dB\n",
      "12500/12500 [==============================] - 9s 680us/step\n",
      "Results:\n",
      "BER: 6.25e-06\n",
      "SNR: 21.24 dB\n",
      "SIR =  17.74  dB\n",
      "GMI: 4.00 bits\n",
      "\n"
     ]
    },
    {
     "data": {
      "application/vnd.jupyter.widget-view+json": {
       "model_id": "b918a8b5963a4eb285ba12f7bc059195",
       "version_major": 2,
       "version_minor": 0
      },
      "text/plain": [
       "  0%|          | 0/1 [00:00<?, ?it/s]"
      ]
     },
     "metadata": {},
     "output_type": "display_data"
    },
    {
     "name": "stdout",
     "output_type": "stream",
     "text": [
      "CSPR = 12.00 dB\n",
      "12500/12500 [==============================] - 9s 731us/step\n",
      "Results:\n",
      "BER: 0.00e+00\n",
      "SNR: 21.91 dB\n",
      "SIR =  17.04  dB\n",
      "GMI: 4.00 bits\n",
      "\n"
     ]
    },
    {
     "data": {
      "application/vnd.jupyter.widget-view+json": {
       "model_id": "c4fafbfd584c4116bfe6203f17234dbf",
       "version_major": 2,
       "version_minor": 0
      },
      "text/plain": [
       "  0%|          | 0/1 [00:00<?, ?it/s]"
      ]
     },
     "metadata": {},
     "output_type": "display_data"
    },
    {
     "name": "stdout",
     "output_type": "stream",
     "text": [
      "CSPR = 12.00 dB\n",
      "12500/12500 [==============================] - 9s 693us/step\n",
      "Results:\n",
      "BER: 9.37e-06\n",
      "SNR: 20.89 dB\n",
      "SIR =  16.01  dB\n",
      "GMI: 4.00 bits\n",
      "\n"
     ]
    },
    {
     "data": {
      "application/vnd.jupyter.widget-view+json": {
       "model_id": "ea00add3fb5a4ad7a7cb652c41fb476c",
       "version_major": 2,
       "version_minor": 0
      },
      "text/plain": [
       "  0%|          | 0/1 [00:00<?, ?it/s]"
      ]
     },
     "metadata": {},
     "output_type": "display_data"
    },
    {
     "name": "stdout",
     "output_type": "stream",
     "text": [
      "CSPR = 12.00 dB\n",
      "12500/12500 [==============================] - 9s 702us/step\n",
      "Results:\n",
      "BER: 2.19e-05\n",
      "SNR: 20.53 dB\n",
      "SIR =  15.36  dB\n",
      "GMI: 4.00 bits\n",
      "\n"
     ]
    },
    {
     "data": {
      "application/vnd.jupyter.widget-view+json": {
       "model_id": "63e9c50ab4694d1ea741c7aa0825ca33",
       "version_major": 2,
       "version_minor": 0
      },
      "text/plain": [
       "  0%|          | 0/1 [00:00<?, ?it/s]"
      ]
     },
     "metadata": {},
     "output_type": "display_data"
    },
    {
     "name": "stdout",
     "output_type": "stream",
     "text": [
      "CSPR = 12.00 dB\n",
      "12500/12500 [==============================] - 9s 691us/step\n",
      "Results:\n",
      "BER: 9.37e-06\n",
      "SNR: 20.90 dB\n",
      "SIR =  14.92  dB\n",
      "GMI: 4.00 bits\n",
      "\n"
     ]
    },
    {
     "data": {
      "application/vnd.jupyter.widget-view+json": {
       "model_id": "c3d4e47e57214ff380523fcf2236cf64",
       "version_major": 2,
       "version_minor": 0
      },
      "text/plain": [
       "  0%|          | 0/1 [00:00<?, ?it/s]"
      ]
     },
     "metadata": {},
     "output_type": "display_data"
    },
    {
     "name": "stdout",
     "output_type": "stream",
     "text": [
      "CSPR = 12.00 dB\n",
      "12500/12500 [==============================] - 9s 680us/step\n",
      "Results:\n",
      "BER: 6.25e-06\n",
      "SNR: 20.20 dB\n",
      "SIR =  14.3  dB\n",
      "GMI: 4.00 bits\n",
      "\n"
     ]
    },
    {
     "data": {
      "application/vnd.jupyter.widget-view+json": {
       "model_id": "c82b5d0c0dbc4ade8d4c600402ebb37d",
       "version_major": 2,
       "version_minor": 0
      },
      "text/plain": [
       "  0%|          | 0/1 [00:00<?, ?it/s]"
      ]
     },
     "metadata": {},
     "output_type": "display_data"
    },
    {
     "name": "stdout",
     "output_type": "stream",
     "text": [
      "CSPR = 12.00 dB\n",
      "12500/12500 [==============================] - 8s 647us/step\n",
      "Results:\n",
      "BER: 1.25e-05\n",
      "SNR: 20.10 dB\n",
      "SIR =  13.85  dB\n",
      "GMI: 4.00 bits\n",
      "\n"
     ]
    },
    {
     "data": {
      "application/vnd.jupyter.widget-view+json": {
       "model_id": "c6ffc3d332f444398ee8aad4d97b635f",
       "version_major": 2,
       "version_minor": 0
      },
      "text/plain": [
       "  0%|          | 0/1 [00:00<?, ?it/s]"
      ]
     },
     "metadata": {},
     "output_type": "display_data"
    },
    {
     "name": "stdout",
     "output_type": "stream",
     "text": [
      "CSPR = 12.00 dB\n",
      "12500/12500 [==============================] - 8s 664us/step\n",
      "Results:\n",
      "BER: 9.37e-06\n",
      "SNR: 19.95 dB\n",
      "SIR =  13.43  dB\n",
      "GMI: 4.00 bits\n",
      "\n"
     ]
    },
    {
     "data": {
      "application/vnd.jupyter.widget-view+json": {
       "model_id": "5679dac2a6a742d7a5943a8d7f5f73e9",
       "version_major": 2,
       "version_minor": 0
      },
      "text/plain": [
       "  0%|          | 0/1 [00:00<?, ?it/s]"
      ]
     },
     "metadata": {},
     "output_type": "display_data"
    },
    {
     "name": "stdout",
     "output_type": "stream",
     "text": [
      "CSPR = 12.00 dB\n",
      "12500/12500 [==============================] - 8s 634us/step\n",
      "Results:\n",
      "BER: 2.19e-05\n",
      "SNR: 19.95 dB\n",
      "SIR =  10.64  dB\n",
      "GMI: 4.00 bits\n",
      "\n"
     ]
    },
    {
     "data": {
      "application/vnd.jupyter.widget-view+json": {
       "model_id": "5a7cca62eb0b463ba21db6bc5b2aa18d",
       "version_major": 2,
       "version_minor": 0
      },
      "text/plain": [
       "  0%|          | 0/1 [00:00<?, ?it/s]"
      ]
     },
     "metadata": {},
     "output_type": "display_data"
    },
    {
     "name": "stdout",
     "output_type": "stream",
     "text": [
      "CSPR = 12.00 dB\n",
      "12500/12500 [==============================] - 8s 633us/step\n",
      "Results:\n",
      "BER: 1.19e-04\n",
      "SNR: 18.85 dB\n",
      "SIR =  12.55  dB\n",
      "GMI: 4.00 bits\n",
      "\n"
     ]
    },
    {
     "data": {
      "application/vnd.jupyter.widget-view+json": {
       "model_id": "d1181ad1d5be4a59a0467e06b1421177",
       "version_major": 2,
       "version_minor": 0
      },
      "text/plain": [
       "  0%|          | 0/1 [00:00<?, ?it/s]"
      ]
     },
     "metadata": {},
     "output_type": "display_data"
    },
    {
     "name": "stdout",
     "output_type": "stream",
     "text": [
      "CSPR = 12.00 dB\n",
      "12500/12500 [==============================] - 8s 631us/step\n",
      "Results:\n",
      "BER: 1.81e-04\n",
      "SNR: 18.38 dB\n",
      "SIR =  12.69  dB\n",
      "GMI: 4.00 bits\n",
      "\n"
     ]
    },
    {
     "data": {
      "application/vnd.jupyter.widget-view+json": {
       "model_id": "98209f08969140c4a01208a587fd126d",
       "version_major": 2,
       "version_minor": 0
      },
      "text/plain": [
       "  0%|          | 0/1 [00:00<?, ?it/s]"
      ]
     },
     "metadata": {},
     "output_type": "display_data"
    },
    {
     "name": "stdout",
     "output_type": "stream",
     "text": [
      "CSPR = 12.00 dB\n",
      "12500/12500 [==============================] - 8s 645us/step\n",
      "Results:\n",
      "BER: 8.75e-05\n",
      "SNR: 19.05 dB\n",
      "SIR =  11.94  dB\n",
      "GMI: 4.00 bits\n",
      "\n"
     ]
    },
    {
     "data": {
      "application/vnd.jupyter.widget-view+json": {
       "model_id": "995ad379fbbf498aa6b93abcf1ceecaf",
       "version_major": 2,
       "version_minor": 0
      },
      "text/plain": [
       "  0%|          | 0/1 [00:00<?, ?it/s]"
      ]
     },
     "metadata": {},
     "output_type": "display_data"
    },
    {
     "name": "stdout",
     "output_type": "stream",
     "text": [
      "CSPR = 12.00 dB\n",
      "12500/12500 [==============================] - 8s 660us/step\n",
      "Results:\n",
      "BER: 2.81e-05\n",
      "SNR: 19.03 dB\n",
      "SIR =  11.62  dB\n",
      "GMI: 4.00 bits\n",
      "\n"
     ]
    },
    {
     "data": {
      "application/vnd.jupyter.widget-view+json": {
       "model_id": "b6877d6587f5471091a9850800093232",
       "version_major": 2,
       "version_minor": 0
      },
      "text/plain": [
       "  0%|          | 0/1 [00:00<?, ?it/s]"
      ]
     },
     "metadata": {},
     "output_type": "display_data"
    },
    {
     "name": "stdout",
     "output_type": "stream",
     "text": [
      "CSPR = 12.00 dB\n",
      "12500/12500 [==============================] - 8s 628us/step\n",
      "Results:\n",
      "BER: 5.62e-05\n",
      "SNR: 18.83 dB\n",
      "SIR =  11.3  dB\n",
      "GMI: 4.00 bits\n",
      "\n"
     ]
    },
    {
     "data": {
      "application/vnd.jupyter.widget-view+json": {
       "model_id": "257b8e6cdd0b49c882680cea8f3714b4",
       "version_major": 2,
       "version_minor": 0
      },
      "text/plain": [
       "  0%|          | 0/1 [00:00<?, ?it/s]"
      ]
     },
     "metadata": {},
     "output_type": "display_data"
    },
    {
     "name": "stdout",
     "output_type": "stream",
     "text": [
      "CSPR = 12.00 dB\n",
      "12500/12500 [==============================] - 8s 661us/step\n",
      "Results:\n",
      "BER: 1.06e-04\n",
      "SNR: 18.66 dB\n",
      "SIR =  10.99  dB\n",
      "GMI: 4.00 bits\n",
      "\n"
     ]
    },
    {
     "data": {
      "application/vnd.jupyter.widget-view+json": {
       "model_id": "b42ce770e8cc4167a148d95f68ae90aa",
       "version_major": 2,
       "version_minor": 0
      },
      "text/plain": [
       "  0%|          | 0/18 [00:00<?, ?it/s]"
      ]
     },
     "metadata": {},
     "output_type": "display_data"
    },
    {
     "data": {
      "application/vnd.jupyter.widget-view+json": {
       "model_id": "a3cb67b4d6584b369539d891e413dd91",
       "version_major": 2,
       "version_minor": 0
      },
      "text/plain": [
       "  0%|          | 0/1 [00:00<?, ?it/s]"
      ]
     },
     "metadata": {},
     "output_type": "display_data"
    },
    {
     "name": "stdout",
     "output_type": "stream",
     "text": [
      "CSPR = 12.00 dB\n",
      "12500/12500 [==============================] - 9s 679us/step\n",
      "Results:\n",
      "BER: 0.00e+00\n",
      "SNR: 27.88 dB\n",
      "SIR =  27.91  dB\n",
      "GMI: 4.00 bits\n",
      "\n"
     ]
    },
    {
     "data": {
      "application/vnd.jupyter.widget-view+json": {
       "model_id": "e0dea89393644a40bfad6472e6189471",
       "version_major": 2,
       "version_minor": 0
      },
      "text/plain": [
       "  0%|          | 0/1 [00:00<?, ?it/s]"
      ]
     },
     "metadata": {},
     "output_type": "display_data"
    },
    {
     "name": "stdout",
     "output_type": "stream",
     "text": [
      "CSPR = 12.00 dB\n",
      "12500/12500 [==============================] - 9s 685us/step\n",
      "Results:\n",
      "BER: 6.25e-06\n",
      "SNR: 26.80 dB\n",
      "SIR =  26.63  dB\n",
      "GMI: 4.00 bits\n",
      "\n"
     ]
    },
    {
     "data": {
      "application/vnd.jupyter.widget-view+json": {
       "model_id": "ccbd121282484a2b80a23b0a3d32334a",
       "version_major": 2,
       "version_minor": 0
      },
      "text/plain": [
       "  0%|          | 0/1 [00:00<?, ?it/s]"
      ]
     },
     "metadata": {},
     "output_type": "display_data"
    },
    {
     "name": "stdout",
     "output_type": "stream",
     "text": [
      "CSPR = 12.00 dB\n",
      "12500/12500 [==============================] - 8s 668us/step\n",
      "Results:\n",
      "BER: 0.00e+00\n",
      "SNR: 26.74 dB\n",
      "SIR =  25.64  dB\n",
      "GMI: 4.00 bits\n",
      "\n"
     ]
    },
    {
     "data": {
      "application/vnd.jupyter.widget-view+json": {
       "model_id": "467fcfc5ad7c4196a7e56ee3b46095cc",
       "version_major": 2,
       "version_minor": 0
      },
      "text/plain": [
       "  0%|          | 0/1 [00:00<?, ?it/s]"
      ]
     },
     "metadata": {},
     "output_type": "display_data"
    },
    {
     "name": "stdout",
     "output_type": "stream",
     "text": [
      "CSPR = 12.00 dB\n",
      "12500/12500 [==============================] - 8s 651us/step\n",
      "Results:\n",
      "BER: 0.00e+00\n",
      "SNR: 27.04 dB\n",
      "SIR =  23.9  dB\n",
      "GMI: 4.00 bits\n",
      "\n"
     ]
    },
    {
     "data": {
      "application/vnd.jupyter.widget-view+json": {
       "model_id": "8b38a233b6bd4df589110943ebc77096",
       "version_major": 2,
       "version_minor": 0
      },
      "text/plain": [
       "  0%|          | 0/1 [00:00<?, ?it/s]"
      ]
     },
     "metadata": {},
     "output_type": "display_data"
    },
    {
     "name": "stdout",
     "output_type": "stream",
     "text": [
      "CSPR = 12.00 dB\n",
      "12500/12500 [==============================] - 8s 660us/step\n",
      "Results:\n",
      "BER: 3.13e-06\n",
      "SNR: 25.18 dB\n",
      "SIR =  21.28  dB\n",
      "GMI: 4.00 bits\n",
      "\n"
     ]
    },
    {
     "data": {
      "application/vnd.jupyter.widget-view+json": {
       "model_id": "1f64cd159d6d4a83b73ad1be2c505633",
       "version_major": 2,
       "version_minor": 0
      },
      "text/plain": [
       "  0%|          | 0/1 [00:00<?, ?it/s]"
      ]
     },
     "metadata": {},
     "output_type": "display_data"
    },
    {
     "name": "stdout",
     "output_type": "stream",
     "text": [
      "CSPR = 12.00 dB\n",
      "12500/12500 [==============================] - 8s 617us/step\n",
      "Results:\n",
      "BER: 0.00e+00\n",
      "SNR: 25.20 dB\n",
      "SIR =  19.85  dB\n",
      "GMI: 4.00 bits\n",
      "\n"
     ]
    },
    {
     "data": {
      "application/vnd.jupyter.widget-view+json": {
       "model_id": "8f3e8738ce3c40e39421039908e08cf1",
       "version_major": 2,
       "version_minor": 0
      },
      "text/plain": [
       "  0%|          | 0/1 [00:00<?, ?it/s]"
      ]
     },
     "metadata": {},
     "output_type": "display_data"
    },
    {
     "name": "stdout",
     "output_type": "stream",
     "text": [
      "CSPR = 12.00 dB\n",
      "12500/12500 [==============================] - 8s 674us/step\n",
      "Results:\n",
      "BER: 0.00e+00\n",
      "SNR: 24.75 dB\n",
      "SIR =  18.67  dB\n",
      "GMI: 4.00 bits\n",
      "\n"
     ]
    },
    {
     "data": {
      "application/vnd.jupyter.widget-view+json": {
       "model_id": "bc25a9f9f3dc47ed9ecd94bfd5c3e5b2",
       "version_major": 2,
       "version_minor": 0
      },
      "text/plain": [
       "  0%|          | 0/1 [00:00<?, ?it/s]"
      ]
     },
     "metadata": {},
     "output_type": "display_data"
    },
    {
     "name": "stdout",
     "output_type": "stream",
     "text": [
      "CSPR = 12.00 dB\n",
      "12500/12500 [==============================] - 8s 642us/step\n",
      "Results:\n",
      "BER: 3.13e-06\n",
      "SNR: 24.30 dB\n",
      "SIR =  17.77  dB\n",
      "GMI: 4.00 bits\n",
      "\n"
     ]
    },
    {
     "data": {
      "application/vnd.jupyter.widget-view+json": {
       "model_id": "14f422d8726145fa8182be40e77eb1e9",
       "version_major": 2,
       "version_minor": 0
      },
      "text/plain": [
       "  0%|          | 0/1 [00:00<?, ?it/s]"
      ]
     },
     "metadata": {},
     "output_type": "display_data"
    },
    {
     "name": "stdout",
     "output_type": "stream",
     "text": [
      "CSPR = 12.00 dB\n",
      "12500/12500 [==============================] - 8s 655us/step\n",
      "Results:\n",
      "BER: 0.00e+00\n",
      "SNR: 23.70 dB\n",
      "SIR =  16.91  dB\n",
      "GMI: 4.00 bits\n",
      "\n"
     ]
    },
    {
     "data": {
      "application/vnd.jupyter.widget-view+json": {
       "model_id": "7a6eeb19054f44719ddca97aa15206a6",
       "version_major": 2,
       "version_minor": 0
      },
      "text/plain": [
       "  0%|          | 0/1 [00:00<?, ?it/s]"
      ]
     },
     "metadata": {},
     "output_type": "display_data"
    },
    {
     "name": "stdout",
     "output_type": "stream",
     "text": [
      "CSPR = 12.00 dB\n",
      "12500/12500 [==============================] - 8s 659us/step\n",
      "Results:\n",
      "BER: 0.00e+00\n",
      "SNR: 22.84 dB\n",
      "SIR =  16.1  dB\n",
      "GMI: 4.00 bits\n",
      "\n"
     ]
    },
    {
     "data": {
      "application/vnd.jupyter.widget-view+json": {
       "model_id": "4a006b89417a4f53bb912c378099e2bd",
       "version_major": 2,
       "version_minor": 0
      },
      "text/plain": [
       "  0%|          | 0/1 [00:00<?, ?it/s]"
      ]
     },
     "metadata": {},
     "output_type": "display_data"
    },
    {
     "name": "stdout",
     "output_type": "stream",
     "text": [
      "CSPR = 12.00 dB\n",
      "12500/12500 [==============================] - 8s 642us/step\n",
      "Results:\n",
      "BER: 0.00e+00\n",
      "SNR: 22.06 dB\n",
      "SIR =  15.39  dB\n",
      "GMI: 4.00 bits\n",
      "\n"
     ]
    },
    {
     "data": {
      "application/vnd.jupyter.widget-view+json": {
       "model_id": "3eaaf69640884f66a62c111459689a03",
       "version_major": 2,
       "version_minor": 0
      },
      "text/plain": [
       "  0%|          | 0/1 [00:00<?, ?it/s]"
      ]
     },
     "metadata": {},
     "output_type": "display_data"
    },
    {
     "name": "stdout",
     "output_type": "stream",
     "text": [
      "CSPR = 12.00 dB\n",
      "12500/12500 [==============================] - 8s 664us/step\n",
      "Results:\n",
      "BER: 3.13e-06\n",
      "SNR: 21.90 dB\n",
      "SIR =  14.81  dB\n",
      "GMI: 4.00 bits\n",
      "\n"
     ]
    },
    {
     "data": {
      "application/vnd.jupyter.widget-view+json": {
       "model_id": "7fdbebeb63b4419682d878ae6214af92",
       "version_major": 2,
       "version_minor": 0
      },
      "text/plain": [
       "  0%|          | 0/1 [00:00<?, ?it/s]"
      ]
     },
     "metadata": {},
     "output_type": "display_data"
    },
    {
     "name": "stdout",
     "output_type": "stream",
     "text": [
      "CSPR = 12.00 dB\n",
      "12500/12500 [==============================] - 9s 708us/step\n",
      "Results:\n",
      "BER: 0.00e+00\n",
      "SNR: 21.74 dB\n",
      "SIR =  14.36  dB\n",
      "GMI: 4.00 bits\n",
      "\n"
     ]
    },
    {
     "data": {
      "application/vnd.jupyter.widget-view+json": {
       "model_id": "a2a14bcc3b05443191e42010b65e5ab6",
       "version_major": 2,
       "version_minor": 0
      },
      "text/plain": [
       "  0%|          | 0/1 [00:00<?, ?it/s]"
      ]
     },
     "metadata": {},
     "output_type": "display_data"
    },
    {
     "name": "stdout",
     "output_type": "stream",
     "text": [
      "CSPR = 12.00 dB\n",
      "12500/12500 [==============================] - 10s 779us/step\n",
      "Results:\n",
      "BER: 0.00e+00\n",
      "SNR: 21.47 dB\n",
      "SIR =  13.9  dB\n",
      "GMI: 4.00 bits\n",
      "\n"
     ]
    },
    {
     "data": {
      "application/vnd.jupyter.widget-view+json": {
       "model_id": "b86399d5cd5047efa70d9ef5ca12e92d",
       "version_major": 2,
       "version_minor": 0
      },
      "text/plain": [
       "  0%|          | 0/1 [00:00<?, ?it/s]"
      ]
     },
     "metadata": {},
     "output_type": "display_data"
    },
    {
     "name": "stdout",
     "output_type": "stream",
     "text": [
      "CSPR = 12.00 dB\n",
      "12500/12500 [==============================] - 13s 1ms/step\n",
      "Results:\n",
      "BER: 3.13e-06\n",
      "SNR: 20.85 dB\n",
      "SIR =  13.4  dB\n",
      "GMI: 4.00 bits\n",
      "\n"
     ]
    },
    {
     "data": {
      "application/vnd.jupyter.widget-view+json": {
       "model_id": "39f0b4c8dff547959b62ddd26a4ae894",
       "version_major": 2,
       "version_minor": 0
      },
      "text/plain": [
       "  0%|          | 0/1 [00:00<?, ?it/s]"
      ]
     },
     "metadata": {},
     "output_type": "display_data"
    },
    {
     "name": "stdout",
     "output_type": "stream",
     "text": [
      "CSPR = 12.00 dB\n",
      " 1768/12500 [===>..........................] - ETA: 10s"
     ]
    },
    {
     "ename": "KeyboardInterrupt",
     "evalue": "",
     "output_type": "error",
     "traceback": [
      "\u001b[1;31m---------------------------------------------------------------------------\u001b[0m",
      "\u001b[1;31mKeyboardInterrupt\u001b[0m                         Traceback (most recent call last)",
      "Cell \u001b[1;32mIn [6], line 69\u001b[0m\n\u001b[0;32m     66\u001b[0m \u001b[39mfor\u001b[39;00m indPhase \u001b[39min\u001b[39;00m \u001b[39mrange\u001b[39m(\u001b[39mlen\u001b[39m(sfm)):\n\u001b[0;32m     67\u001b[0m     X_input[indPhase] \u001b[39m=\u001b[39m sigAmp[indPhase:N\u001b[39m+\u001b[39mindPhase]\n\u001b[1;32m---> 69\u001b[0m sigRx_NN \u001b[39m=\u001b[39m model\u001b[39m.\u001b[39;49mpredict(X_input)\n\u001b[0;32m     71\u001b[0m \u001b[39m# optical field reconstruction\u001b[39;00m\n\u001b[0;32m     72\u001b[0m sigRx \u001b[39m=\u001b[39m sigRx_NN[:,\u001b[39m0\u001b[39m]\u001b[39m+\u001b[39m\u001b[39m1\u001b[39mj\u001b[39m*\u001b[39msigRx_NN[:,\u001b[39m1\u001b[39m]\n",
      "File \u001b[1;32mc:\\Users\\optic\\AppData\\Local\\Programs\\Python\\Python39\\lib\\site-packages\\keras\\utils\\traceback_utils.py:65\u001b[0m, in \u001b[0;36mfilter_traceback.<locals>.error_handler\u001b[1;34m(*args, **kwargs)\u001b[0m\n\u001b[0;32m     63\u001b[0m filtered_tb \u001b[39m=\u001b[39m \u001b[39mNone\u001b[39;00m\n\u001b[0;32m     64\u001b[0m \u001b[39mtry\u001b[39;00m:\n\u001b[1;32m---> 65\u001b[0m     \u001b[39mreturn\u001b[39;00m fn(\u001b[39m*\u001b[39margs, \u001b[39m*\u001b[39m\u001b[39m*\u001b[39mkwargs)\n\u001b[0;32m     66\u001b[0m \u001b[39mexcept\u001b[39;00m \u001b[39mException\u001b[39;00m \u001b[39mas\u001b[39;00m e:\n\u001b[0;32m     67\u001b[0m     filtered_tb \u001b[39m=\u001b[39m _process_traceback_frames(e\u001b[39m.\u001b[39m__traceback__)\n",
      "File \u001b[1;32mc:\\Users\\optic\\AppData\\Local\\Programs\\Python\\Python39\\lib\\site-packages\\keras\\engine\\training.py:2253\u001b[0m, in \u001b[0;36mModel.predict\u001b[1;34m(self, x, batch_size, verbose, steps, callbacks, max_queue_size, workers, use_multiprocessing)\u001b[0m\n\u001b[0;32m   2251\u001b[0m \u001b[39mfor\u001b[39;00m step \u001b[39min\u001b[39;00m data_handler\u001b[39m.\u001b[39msteps():\n\u001b[0;32m   2252\u001b[0m     callbacks\u001b[39m.\u001b[39mon_predict_batch_begin(step)\n\u001b[1;32m-> 2253\u001b[0m     tmp_batch_outputs \u001b[39m=\u001b[39m \u001b[39mself\u001b[39;49m\u001b[39m.\u001b[39;49mpredict_function(iterator)\n\u001b[0;32m   2254\u001b[0m     \u001b[39mif\u001b[39;00m data_handler\u001b[39m.\u001b[39mshould_sync:\n\u001b[0;32m   2255\u001b[0m         context\u001b[39m.\u001b[39masync_wait()\n",
      "File \u001b[1;32mc:\\Users\\optic\\AppData\\Local\\Programs\\Python\\Python39\\lib\\site-packages\\tensorflow\\python\\util\\traceback_utils.py:150\u001b[0m, in \u001b[0;36mfilter_traceback.<locals>.error_handler\u001b[1;34m(*args, **kwargs)\u001b[0m\n\u001b[0;32m    148\u001b[0m filtered_tb \u001b[39m=\u001b[39m \u001b[39mNone\u001b[39;00m\n\u001b[0;32m    149\u001b[0m \u001b[39mtry\u001b[39;00m:\n\u001b[1;32m--> 150\u001b[0m   \u001b[39mreturn\u001b[39;00m fn(\u001b[39m*\u001b[39margs, \u001b[39m*\u001b[39m\u001b[39m*\u001b[39mkwargs)\n\u001b[0;32m    151\u001b[0m \u001b[39mexcept\u001b[39;00m \u001b[39mException\u001b[39;00m \u001b[39mas\u001b[39;00m e:\n\u001b[0;32m    152\u001b[0m   filtered_tb \u001b[39m=\u001b[39m _process_traceback_frames(e\u001b[39m.\u001b[39m__traceback__)\n",
      "File \u001b[1;32mc:\\Users\\optic\\AppData\\Local\\Programs\\Python\\Python39\\lib\\site-packages\\tensorflow\\python\\eager\\def_function.py:915\u001b[0m, in \u001b[0;36mFunction.__call__\u001b[1;34m(self, *args, **kwds)\u001b[0m\n\u001b[0;32m    912\u001b[0m compiler \u001b[39m=\u001b[39m \u001b[39m\"\u001b[39m\u001b[39mxla\u001b[39m\u001b[39m\"\u001b[39m \u001b[39mif\u001b[39;00m \u001b[39mself\u001b[39m\u001b[39m.\u001b[39m_jit_compile \u001b[39melse\u001b[39;00m \u001b[39m\"\u001b[39m\u001b[39mnonXla\u001b[39m\u001b[39m\"\u001b[39m\n\u001b[0;32m    914\u001b[0m \u001b[39mwith\u001b[39;00m OptionalXlaContext(\u001b[39mself\u001b[39m\u001b[39m.\u001b[39m_jit_compile):\n\u001b[1;32m--> 915\u001b[0m   result \u001b[39m=\u001b[39m \u001b[39mself\u001b[39m\u001b[39m.\u001b[39m_call(\u001b[39m*\u001b[39margs, \u001b[39m*\u001b[39m\u001b[39m*\u001b[39mkwds)\n\u001b[0;32m    917\u001b[0m new_tracing_count \u001b[39m=\u001b[39m \u001b[39mself\u001b[39m\u001b[39m.\u001b[39mexperimental_get_tracing_count()\n\u001b[0;32m    918\u001b[0m without_tracing \u001b[39m=\u001b[39m (tracing_count \u001b[39m==\u001b[39m new_tracing_count)\n",
      "File \u001b[1;32mc:\\Users\\optic\\AppData\\Local\\Programs\\Python\\Python39\\lib\\site-packages\\tensorflow\\python\\eager\\def_function.py:954\u001b[0m, in \u001b[0;36mFunction._call\u001b[1;34m(self, *args, **kwds)\u001b[0m\n\u001b[0;32m    951\u001b[0m \u001b[39mself\u001b[39m\u001b[39m.\u001b[39m_lock\u001b[39m.\u001b[39mrelease()\n\u001b[0;32m    952\u001b[0m \u001b[39m# In this case we have not created variables on the first call. So we can\u001b[39;00m\n\u001b[0;32m    953\u001b[0m \u001b[39m# run the first trace but we should fail if variables are created.\u001b[39;00m\n\u001b[1;32m--> 954\u001b[0m results \u001b[39m=\u001b[39m \u001b[39mself\u001b[39m\u001b[39m.\u001b[39m_stateful_fn(\u001b[39m*\u001b[39margs, \u001b[39m*\u001b[39m\u001b[39m*\u001b[39mkwds)\n\u001b[0;32m    955\u001b[0m \u001b[39mif\u001b[39;00m \u001b[39mself\u001b[39m\u001b[39m.\u001b[39m_created_variables \u001b[39mand\u001b[39;00m \u001b[39mnot\u001b[39;00m ALLOW_DYNAMIC_VARIABLE_CREATION:\n\u001b[0;32m    956\u001b[0m   \u001b[39mraise\u001b[39;00m \u001b[39mValueError\u001b[39;00m(\u001b[39m\"\u001b[39m\u001b[39mCreating variables on a non-first call to a function\u001b[39m\u001b[39m\"\u001b[39m\n\u001b[0;32m    957\u001b[0m                    \u001b[39m\"\u001b[39m\u001b[39m decorated with tf.function.\u001b[39m\u001b[39m\"\u001b[39m)\n",
      "File \u001b[1;32mc:\\Users\\optic\\AppData\\Local\\Programs\\Python\\Python39\\lib\\site-packages\\tensorflow\\python\\eager\\function.py:2496\u001b[0m, in \u001b[0;36mFunction.__call__\u001b[1;34m(self, *args, **kwargs)\u001b[0m\n\u001b[0;32m   2493\u001b[0m \u001b[39mwith\u001b[39;00m \u001b[39mself\u001b[39m\u001b[39m.\u001b[39m_lock:\n\u001b[0;32m   2494\u001b[0m   (graph_function,\n\u001b[0;32m   2495\u001b[0m    filtered_flat_args) \u001b[39m=\u001b[39m \u001b[39mself\u001b[39m\u001b[39m.\u001b[39m_maybe_define_function(args, kwargs)\n\u001b[1;32m-> 2496\u001b[0m \u001b[39mreturn\u001b[39;00m graph_function\u001b[39m.\u001b[39;49m_call_flat(\n\u001b[0;32m   2497\u001b[0m     filtered_flat_args, captured_inputs\u001b[39m=\u001b[39;49mgraph_function\u001b[39m.\u001b[39;49mcaptured_inputs)\n",
      "File \u001b[1;32mc:\\Users\\optic\\AppData\\Local\\Programs\\Python\\Python39\\lib\\site-packages\\tensorflow\\python\\eager\\function.py:1862\u001b[0m, in \u001b[0;36mConcreteFunction._call_flat\u001b[1;34m(self, args, captured_inputs, cancellation_manager)\u001b[0m\n\u001b[0;32m   1858\u001b[0m possible_gradient_type \u001b[39m=\u001b[39m gradients_util\u001b[39m.\u001b[39mPossibleTapeGradientTypes(args)\n\u001b[0;32m   1859\u001b[0m \u001b[39mif\u001b[39;00m (possible_gradient_type \u001b[39m==\u001b[39m gradients_util\u001b[39m.\u001b[39mPOSSIBLE_GRADIENT_TYPES_NONE\n\u001b[0;32m   1860\u001b[0m     \u001b[39mand\u001b[39;00m executing_eagerly):\n\u001b[0;32m   1861\u001b[0m   \u001b[39m# No tape is watching; skip to running the function.\u001b[39;00m\n\u001b[1;32m-> 1862\u001b[0m   \u001b[39mreturn\u001b[39;00m \u001b[39mself\u001b[39m\u001b[39m.\u001b[39m_build_call_outputs(\u001b[39mself\u001b[39;49m\u001b[39m.\u001b[39;49m_inference_function\u001b[39m.\u001b[39;49mcall(\n\u001b[0;32m   1863\u001b[0m       ctx, args, cancellation_manager\u001b[39m=\u001b[39;49mcancellation_manager))\n\u001b[0;32m   1864\u001b[0m forward_backward \u001b[39m=\u001b[39m \u001b[39mself\u001b[39m\u001b[39m.\u001b[39m_select_forward_and_backward_functions(\n\u001b[0;32m   1865\u001b[0m     args,\n\u001b[0;32m   1866\u001b[0m     possible_gradient_type,\n\u001b[0;32m   1867\u001b[0m     executing_eagerly)\n\u001b[0;32m   1868\u001b[0m forward_function, args_with_tangents \u001b[39m=\u001b[39m forward_backward\u001b[39m.\u001b[39mforward()\n",
      "File \u001b[1;32mc:\\Users\\optic\\AppData\\Local\\Programs\\Python\\Python39\\lib\\site-packages\\tensorflow\\python\\eager\\function.py:499\u001b[0m, in \u001b[0;36m_EagerDefinedFunction.call\u001b[1;34m(self, ctx, args, cancellation_manager)\u001b[0m\n\u001b[0;32m    497\u001b[0m \u001b[39mwith\u001b[39;00m _InterpolateFunctionError(\u001b[39mself\u001b[39m):\n\u001b[0;32m    498\u001b[0m   \u001b[39mif\u001b[39;00m cancellation_manager \u001b[39mis\u001b[39;00m \u001b[39mNone\u001b[39;00m:\n\u001b[1;32m--> 499\u001b[0m     outputs \u001b[39m=\u001b[39m execute\u001b[39m.\u001b[39;49mexecute(\n\u001b[0;32m    500\u001b[0m         \u001b[39mstr\u001b[39;49m(\u001b[39mself\u001b[39;49m\u001b[39m.\u001b[39;49msignature\u001b[39m.\u001b[39;49mname),\n\u001b[0;32m    501\u001b[0m         num_outputs\u001b[39m=\u001b[39;49m\u001b[39mself\u001b[39;49m\u001b[39m.\u001b[39;49m_num_outputs,\n\u001b[0;32m    502\u001b[0m         inputs\u001b[39m=\u001b[39;49margs,\n\u001b[0;32m    503\u001b[0m         attrs\u001b[39m=\u001b[39;49mattrs,\n\u001b[0;32m    504\u001b[0m         ctx\u001b[39m=\u001b[39;49mctx)\n\u001b[0;32m    505\u001b[0m   \u001b[39melse\u001b[39;00m:\n\u001b[0;32m    506\u001b[0m     outputs \u001b[39m=\u001b[39m execute\u001b[39m.\u001b[39mexecute_with_cancellation(\n\u001b[0;32m    507\u001b[0m         \u001b[39mstr\u001b[39m(\u001b[39mself\u001b[39m\u001b[39m.\u001b[39msignature\u001b[39m.\u001b[39mname),\n\u001b[0;32m    508\u001b[0m         num_outputs\u001b[39m=\u001b[39m\u001b[39mself\u001b[39m\u001b[39m.\u001b[39m_num_outputs,\n\u001b[1;32m   (...)\u001b[0m\n\u001b[0;32m    511\u001b[0m         ctx\u001b[39m=\u001b[39mctx,\n\u001b[0;32m    512\u001b[0m         cancellation_manager\u001b[39m=\u001b[39mcancellation_manager)\n",
      "File \u001b[1;32mc:\\Users\\optic\\AppData\\Local\\Programs\\Python\\Python39\\lib\\site-packages\\tensorflow\\python\\eager\\execute.py:54\u001b[0m, in \u001b[0;36mquick_execute\u001b[1;34m(op_name, num_outputs, inputs, attrs, ctx, name)\u001b[0m\n\u001b[0;32m     52\u001b[0m \u001b[39mtry\u001b[39;00m:\n\u001b[0;32m     53\u001b[0m   ctx\u001b[39m.\u001b[39mensure_initialized()\n\u001b[1;32m---> 54\u001b[0m   tensors \u001b[39m=\u001b[39m pywrap_tfe\u001b[39m.\u001b[39;49mTFE_Py_Execute(ctx\u001b[39m.\u001b[39;49m_handle, device_name, op_name,\n\u001b[0;32m     55\u001b[0m                                       inputs, attrs, num_outputs)\n\u001b[0;32m     56\u001b[0m \u001b[39mexcept\u001b[39;00m core\u001b[39m.\u001b[39m_NotOkStatusException \u001b[39mas\u001b[39;00m e:\n\u001b[0;32m     57\u001b[0m   \u001b[39mif\u001b[39;00m name \u001b[39mis\u001b[39;00m \u001b[39mnot\u001b[39;00m \u001b[39mNone\u001b[39;00m:\n",
      "\u001b[1;31mKeyboardInterrupt\u001b[0m: "
     ]
    }
   ],
   "source": [
    "Rolloff = np.arange(0.05, 0.95, 0.05)\n",
    "FO_Values = np.arange(0e9, 6e9, 1e9)\n",
    "\n",
    "BER = np.zeros((3, len(Rolloff), len(FO_Values)))\n",
    "SER = np.zeros((3, len(Rolloff), len(FO_Values))) \n",
    "GMI = np.zeros((3, len(Rolloff), len(FO_Values)))\n",
    "MI  = np.zeros((3, len(Rolloff), len(FO_Values)))\n",
    "SNR = np.zeros((3, len(Rolloff), len(FO_Values)))\n",
    "SIR = np.zeros((3, len(Rolloff), len(FO_Values)))\n",
    "\n",
    "for indAlg, alg in enumerate(['KK', 'MLP', 'CONVNET']):\n",
    "    for indFO, FOfreq in enumerate(tqdm(FO_Values)):\n",
    "        for indRolloff, rollOff in enumerate(tqdm(Rolloff)):\n",
    "            \n",
    "            paramTx.alphaRRC = rollOff\n",
    "            FO = paramTx.Rs/2 + FOfreq\n",
    "\n",
    "             # generate optical signal signal\n",
    "            sigTx, symbTx_, paramTx = simpleWDMTx(paramTx)\n",
    "\n",
    "            # simulate linear signal propagation\n",
    "            sigCh = linFiberCh(sigTx, Ltotal, alpha, D, Fc, Fs)\n",
    "\n",
    "            symbTx = symbTx_[:, :, chIndex]\n",
    "            Plo = 10 ** (Plo_dBm / 10) * 1e-3  # power in W\n",
    "\n",
    "            # generate LO field\n",
    "            π = np.pi\n",
    "            t = np.arange(0, len(sigCh))*Ts\n",
    "            ϕ_pn_lo = phaseNoise(lw, len(sigCh), Ts)\n",
    "\n",
    "            sigLO = np.sqrt(Plo) * np.exp(-1j * (2 * π * FO * t + ϕ_lo + ϕ_pn_lo))\n",
    "\n",
    "            # Add LO to the received signal\n",
    "            sigRx = np.sqrt(Plo) + sigCh* np.exp(1j * (2 * π * FO * t + ϕ_lo + ϕ_pn_lo))\n",
    "            sfm   = sigRx.copy()\n",
    "\n",
    "            print('CSPR = %.2f dB'%(10*np.log10(signal_power(sigLO)/signal_power(sigCh))))\n",
    "\n",
    "            # simulate ideal direct-detection optical receiver\n",
    "            Ipd = photodiode(sigRx, paramPD)\n",
    "            Amp = np.sqrt(Ipd.real)\n",
    "            Amp = resample(Amp, paramADC).real\n",
    "\n",
    "            # resampling to ADC sampling rate\n",
    "            sigCh = resample(sigCh, paramADC)\n",
    "            sfm = resample(sfm, paramADC)\n",
    "            newFs = paramADC.SpS_out*paramTx.Rs\n",
    "\n",
    "            sfm = sfm/np.sqrt(signal_power(sfm))\n",
    "\n",
    "            if alg == 'KK':\n",
    "                # Kramers-Kronig phase-retrieval\n",
    "                phiTime = KramersKronigRx(Amp, newFs)\n",
    "                # optical field reconstruction\n",
    "                sigRx = Amp*np.exp(1j*phiTime)\n",
    "            \n",
    "            elif alg == 'MLP':\n",
    "                # Mlp phase-retrieval\n",
    "                model = tf.keras.models.load_model(path_mlp+'testModel_SpS_'+str(paramADC.SpS_out)+'_FO_'+str(FO/10e9)+'GHz_Rolloff_'+str(round(paramTx.alphaRRC, 2)))\n",
    "                #sigPhase = np.angle(sfm) # get signal phase samples (labels) (L,)\n",
    "                sigAmp  = np.pad(Amp, (int(N/2), int(N/2)), 'constant') # get signal amplitude samples (L,)\n",
    "                # create set of input features\n",
    "                X_input = np.zeros((len(sfm), N)) #(L,N)\n",
    "\n",
    "                for indPhase in range(len(sfm)):\n",
    "                    X_input[indPhase] = sigAmp[indPhase:N+indPhase]\n",
    "\n",
    "                sigRx_NN = model.predict(X_input)\n",
    "\n",
    "                # optical field reconstruction\n",
    "                sigRx = sigRx_NN[:,0]+1j*sigRx_NN[:,1]\n",
    "\n",
    "            else:\n",
    "                # ConvNet phase-retrieval\n",
    "                model = tf.keras.models.load_model(path_conv+'testModel_SpS_'+str(paramADC.SpS_out)+'_FO_'+str(FO/10e9)+'GHz_Rolloff_'+str(round(paramTx.alphaRRC, 2)))\n",
    "                #sigPhase = np.angle(sfm) # get signal phase samples (labels) (L,)\n",
    "                sigAmp  = np.pad(Amp, (int(N/2), int(N/2)), 'constant') # get signal amplitude samples (L,)\n",
    "\n",
    "                # create set of input features\n",
    "                X_input = np.zeros((len(sfm), N)) #(L,N)\n",
    "\n",
    "                for indPhase in range(len(sfm)):\n",
    "                    X_input[indPhase] = sigAmp[indPhase:N+indPhase]\n",
    "\n",
    "                sigRx_NN = model.predict(X_input)\n",
    "\n",
    "                # optical field reconstruction\n",
    "                sigRx = sigRx_NN[:,0]+1j*sigRx_NN[:,1]\n",
    "\n",
    "            # remove DC level\n",
    "            sigRx -= np.mean(sigRx) # np.sqrt(Plo)\n",
    "            \n",
    "            # downshift to baseband\n",
    "            t = np.arange(0, len(sigRx))*(1/newFs)\n",
    "            sigRx *= np.exp(-1j * (2 * π * FO * t))\n",
    "\n",
    "            # Matched filtering\n",
    "            if paramTx.pulse == \"nrz\":\n",
    "                pulse = pulseShape(\"nrz\", paramADC.SpS_out)\n",
    "            elif paramTx.pulse == \"rrc\":\n",
    "                pulse = pulseShape(\n",
    "                    \"rrc\", paramADC.SpS_out, N=paramTx.Ntaps, alpha=paramTx.alphaRRC, Ts=1 / paramTx.Rs\n",
    "                )\n",
    "\n",
    "            pulse = pulse / np.max(np.abs(pulse))\n",
    "            sigRx = firFilter(pulse, sigRx)\n",
    "            sigCh = firFilter(pulse, sigCh)\n",
    "\n",
    "            # correct for (possible) phase ambiguity\n",
    "            rot = np.mean(sigCh/sigRx)\n",
    "            sigRx = rot * sigRx\n",
    "            sigRx = sigRx / np.sqrt(signal_power(sigRx))\n",
    "\n",
    "            intf = sigRx/np.sqrt(signal_power(sigRx))-sigCh/np.sqrt(signal_power(sigCh))\n",
    "\n",
    "            SIR[indAlg, indRolloff, indFO] = 1/signal_power(intf)\n",
    "\n",
    "            # resample to 2 samples/symbol:\n",
    "            paramRes = parameters()\n",
    "            paramRes.Rs = paramTx.Rs\n",
    "            paramRes.SpS_in  = paramADC.SpS_out\n",
    "            paramRes.SpS_out = 2\n",
    "\n",
    "            sigRx = resample(sigRx, paramRes)\n",
    "\n",
    "            # CD compensation\n",
    "            sigRx = edc(sigRx, Ltotal, D, Fc, paramRes.SpS_out*paramTx.Rs)\n",
    "\n",
    "            # Downsampling to 2 sps and re-synchronization with transmitted sequences\n",
    "            sigRx = sigRx.reshape(-1, 1)\n",
    "\n",
    "            symbRx = symbolSync(sigRx, symbTx, 2)\n",
    "\n",
    "            # Power normalization\n",
    "            x = sigRx\n",
    "            d = symbRx\n",
    "\n",
    "            x = x.reshape(len(x), 1) / np.sqrt(signal_power(x))\n",
    "            d = d.reshape(len(d), 1) / np.sqrt(signal_power(d))\n",
    "\n",
    "            # Adaptive equalization          \n",
    "            paramEq = parameters()\n",
    "            paramEq.nTaps = 15\n",
    "            paramEq.SpS = 2\n",
    "            paramEq.mu = [1e-3, 5e-4]\n",
    "            paramEq.numIter = 5\n",
    "            paramEq.storeCoeff = False\n",
    "            paramEq.alg = [\"da-rde\", \"rde\"]\n",
    "            paramEq.M = paramTx.M\n",
    "            paramEq.L = [20000, 80000]\n",
    "            paramEq.prgsBar = False\n",
    "\n",
    "            y_EQ, H, errSq, Hiter = mimoAdaptEqualizer(x, dx=d, paramEq=paramEq)\n",
    "\n",
    "            # Carrier phase recovery\n",
    "            paramCPR = parameters()\n",
    "            paramCPR.alg = \"bps\"\n",
    "            paramCPR.M = paramTx.M\n",
    "            paramCPR.N = 85\n",
    "            paramCPR.B = 64\n",
    "            paramCPR.pilotInd = np.arange(0, len(y_EQ), 20)\n",
    "\n",
    "            y_CPR, θ = cpr(y_EQ, symbTx=d, paramCPR=paramCPR)\n",
    "\n",
    "            y_CPR = y_CPR / np.sqrt(signal_power(y_CPR))\n",
    "\n",
    "            # correct for (possible) phase ambiguity\n",
    "            for k in range(y_CPR.shape[1]):\n",
    "                rot = np.mean(d[:, k] / y_CPR[:, k])\n",
    "                y_CPR[:, k] = rot * y_CPR[:, k]\n",
    "\n",
    "            y_CPR = y_CPR / np.sqrt(signal_power(y_CPR))\n",
    "\n",
    "            discard = int(paramEq.L[0]/2)\n",
    "\n",
    "            ind = np.arange(discard, d.shape[0] - discard)\n",
    "            BER[indAlg,indRolloff,indFO], SER[indAlg,indRolloff,indFO], SNR[indAlg,indRolloff,indFO] = fastBERcalc(y_CPR[ind, :], d[ind, :], paramTx.M, 'qam')\n",
    "            GMI[indAlg,indRolloff,indFO], _ = monteCarloGMI(y_CPR[ind, :], d[ind, :],  paramTx.M, 'qam')\n",
    "            MI[indAlg,indRolloff,indFO] = monteCarloMI(y_CPR[ind, :], d[ind, :],  paramTx.M, 'qam')\n",
    "\n",
    "            print(\"Results:\")\n",
    "            print(\"BER: %.2e\" %(BER[indAlg,indRolloff,indFO]))\n",
    "            print(\"SNR: %.2f dB\" %(SNR[indAlg,indRolloff,indFO]))\n",
    "            print('SIR = ', round(10*np.log10(SIR[indAlg,indRolloff,indFO]), 2), ' dB')\n",
    "            print(\"GMI: %.2f bits\\n\" %(GMI[indAlg,indRolloff,indFO]))\n",
    "    \n",
    "# save the simulation data\n",
    "np.save(path_data+'BER_SpS_'+str(paramADC.SpS_out)+'_'+str(N)+'_Sample', BER)\n",
    "np.save(path_data+'SNR_SpS_'+str(paramADC.SpS_out)+'_'+str(N)+'_Sample', SNR)\n",
    "np.save(path_data+'SIR_SpS_'+str(paramADC.SpS_out)+'_'+str(N)+'_Sample', SIR)"
   ]
  },
  {
   "attachments": {},
   "cell_type": "markdown",
   "metadata": {},
   "source": [
    "## Simulation of a single polarization optical signal transmission"
   ]
  },
  {
   "cell_type": "code",
   "execution_count": 4,
   "metadata": {},
   "outputs": [],
   "source": [
    "## Transmitter parameters:\n",
    "paramTx = parameters()\n",
    "paramTx.M = 16                 # order of the modulation format\n",
    "paramTx.Rs = 32e9              # symbol rate [baud]\n",
    "paramTx.SpS = 4                # samples per symbol\n",
    "paramTx.Nbits = 400000         # total number of bits per polarization\n",
    "paramTx.pulse = \"rrc\"          # pulse shaping filter\n",
    "paramTx.Ntaps = 1024           # number of pulse shaping filter coefficients\n",
    "paramTx.alphaRRC = 0.5       # RRC rolloff\n",
    "paramTx.Pch_dBm = 0            # power of the optical signal [dBm]\n",
    "paramTx.Nch = 1                # number of WDM channels\n",
    "paramTx.Fc = 193.1e12          # central frequency of the optical spectrum\n",
    "paramTx.freqSpac = 37.5e9      # WDM grid spacing\n",
    "\n",
    "## Optical channel parameters:\n",
    "Ltotal = 100     # total link distance [km]\n",
    "alpha = 0        # fiber loss parameter [dB/km]\n",
    "D = 16           # fiber dispersion parameter [ps/nm/km]\n",
    "Fc = paramTx.Fc  # central optical frequency of the WDM spectrum [Hz]\n",
    "\n",
    "## Receiver parameters:\n",
    "\n",
    "# local oscillator (LO)\n",
    "FO = paramTx.Rs/2  # frequency offset\n",
    "lw = 0*200e3       # linewidth\n",
    "ϕ_lo = 0           # initial phase in rad\n",
    "#Plo_dBm = 12      # power in dBm\n",
    "\n",
    "# ADC sampling rate\n",
    "paramADC = parameters()\n",
    "paramADC.Rs = paramTx.Rs\n",
    "paramADC.SpS_in = paramTx.SpS\n",
    "paramADC.SpS_out = 4\n",
    "\n",
    "## General simulation parameters:\n",
    "chIndex = 0  # index of the channel to be demodulated\n",
    "plotPSD = True\n",
    "Fs = paramTx.Rs * paramTx.SpS  # simulation sampling rate\n",
    "Ts = 1 / Fs\n",
    "\n",
    "# photodiode parameters\n",
    "paramPD = parameters()\n",
    "paramPD.B  = 1.1*paramTx.Rs\n",
    "paramPD.Fs = Fs"
   ]
  },
  {
   "attachments": {},
   "cell_type": "markdown",
   "metadata": {},
   "source": [
    "## Run all CSPR variations"
   ]
  },
  {
   "cell_type": "code",
   "execution_count": 3,
   "metadata": {},
   "outputs": [
    {
     "data": {
      "text/plain": [
       "array([ 6,  7,  8,  9, 10, 11, 12, 13, 14, 15])"
      ]
     },
     "execution_count": 3,
     "metadata": {},
     "output_type": "execute_result"
    }
   ],
   "source": [
    "loPower = np.arange(6,16,1)\n",
    "BER = np.zeros((3, len(loPower)))\n",
    "SER = np.zeros((3, len(loPower)))\n",
    "GMI = np.zeros((3, len(loPower)))\n",
    "MI  = np.zeros((3, len(loPower)))\n",
    "SNR = np.zeros((3, len(loPower)))\n",
    "SIR = np.zeros((3, len(loPower)))\n",
    "\n",
    "for indAlg, alg in enumerate(['KK', 'MLP', 'CONVNET']):\n",
    "    for indPower, Plo_dBm in enumerate(tqdm(loPower)):\n",
    "        \n",
    "        # generate optical signal signal\n",
    "        sigTx, symbTx_, paramTx = simpleWDMTx(paramTx)\n",
    "\n",
    "        # simulate linear signal propagation\n",
    "        sigCh = linFiberCh(sigTx, Ltotal, alpha, D, Fc, Fs)\n",
    "\n",
    "        symbTx = symbTx_[:, :, chIndex]\n",
    "        Plo = 10 ** (Plo_dBm / 10) * 1e-3  # power in W\n",
    "\n",
    "        # generate LO field\n",
    "        π = np.pi\n",
    "        t = np.arange(0, len(sigCh))*Ts\n",
    "        ϕ_pn_lo = phaseNoise(lw, len(sigCh), Ts)\n",
    "\n",
    "        sigLO = np.sqrt(Plo) * np.exp(-1j * (2 * π * FO * t + ϕ_lo + ϕ_pn_lo))\n",
    "\n",
    "        # Add LO to the received signal\n",
    "        sigRx = np.sqrt(Plo) + sigCh* np.exp(1j * (2 * π * FO * t + ϕ_lo + ϕ_pn_lo))\n",
    "        sfm   = sigRx.copy()\n",
    "\n",
    "        print('CSPR = %.2f dB'%(10*np.log10(signal_power(sigLO)/signal_power(sigCh))))\n",
    "\n",
    "        # simulate ideal direct-detection optical receiver\n",
    "        Ipd = photodiode(sigRx, paramPD)\n",
    "        Amp = np.sqrt(Ipd.real)\n",
    "        Amp = resample(Amp, paramADC).real\n",
    "\n",
    "        # resampling to ADC sampling rate\n",
    "        sigCh = resample(sigCh, paramADC)\n",
    "        sfm = resample(sfm, paramADC)\n",
    "        newFs = paramADC.SpS_out*paramTx.Rs\n",
    "\n",
    "        sfm = sfm/np.sqrt(signal_power(sfm))\n",
    "        if alg == 'KK':\n",
    "            # Kramers-Kronig phase-retrieval\n",
    "            phiTime = KramersKronigRx(Amp, newFs)\n",
    "            # optical field reconstruction\n",
    "            sigRx = Amp*np.exp(1j*phiTime)\n",
    "\n",
    "        elif alg == 'MLP':\n",
    "            # Mlp phase-retrieval\n",
    "            model = tf.keras.load_model(path_mlp+'testModel_SpS_'+str(paramADC.SpS_out)+'_FO_'+str(FO/10e9)+'GHz_Rolloff_'+str(round(paramTx.alphaRRC, 2))) \n",
    "            #sigPhase = np.angle(sfm) # get signal phase samples (labels) (L,)\n",
    "            sigAmp  = np.pad(Amp, (int(N/2), int(N/2)), 'constant') # get signal amplitude samples (L,)\n",
    "            # create set of input features\n",
    "            X_input = np.zeros((len(sfm), N)) #(L,N)\n",
    "\n",
    "            for indPhase in range(len(sfm)):\n",
    "                X_input[indPhase] = sigAmp[indPhase:N+indPhase]\n",
    "\n",
    "            sigRx_NN = model.predict(X_input)\n",
    "            # optical field reconstruction\n",
    "            sigRx = sigRx_NN[:,0]+1j*sigRx_NN[:,1]\n",
    "\n",
    "        else:\n",
    "            # ConvNet phase-retrieval\n",
    "            model = tf.keras.load_model(path_conv+'testModel_SpS_'+str(paramADC.SpS_out)+'_FO_'+str(FO/10e9)+'GHz_Rolloff_'+str(round(paramTx.alphaRRC, 2)))\n",
    "            #sigPhase = np.angle(sfm) # get signal phase samples (labels) (L,)\n",
    "            sigAmp  = np.pad(Amp, (int(N/2), int(N/2)), 'constant') # get signal amplitude samples (L,)\n",
    "            # create set of input features\n",
    "            X_input = np.zeros((len(sfm), N)) #(L,N)\n",
    "\n",
    "            for indPhase in range(len(sfm)):\n",
    "                X_input[indPhase] = sigAmp[indPhase:N+indPhase]\n",
    "\n",
    "            sigRx_NN = model.predict(X_input)\n",
    "            # optical field reconstruction\n",
    "            sigRx = sigRx_NN[:,0]+1j*sigRx_NN[:,1]    \n",
    "\n",
    "        # remove DC level\n",
    "        sigRx -= np.mean(sigRx) # np.sqrt(Plo)  \n",
    "\n",
    "        # downshift to baseband\n",
    "        t = np.arange(0, len(sigRx))*(1/newFs)\n",
    "        sigRx *= np.exp(-1j * (2 * π * FO * t))\n",
    "        \n",
    "        # Matched filtering\n",
    "        if paramTx.pulse == \"nrz\":\n",
    "            pulse = pulseShape(\"nrz\", paramADC.SpS_out)\n",
    "        elif paramTx.pulse == \"rrc\":\n",
    "            pulse = pulseShape(\n",
    "                \"rrc\", paramADC.SpS_out, N=paramTx.Ntaps, alpha=paramTx.alphaRRC, Ts=1 / paramTx.Rs\n",
    "            )\n",
    "\n",
    "        pulse = pulse / np.max(np.abs(pulse))\n",
    "        sigRx = firFilter(pulse, sigRx)\n",
    "        sigCh = firFilter(pulse, sigCh)\n",
    "        \n",
    "        # correct for (possible) phase ambiguity\n",
    "        rot = np.mean(sigCh/sigRx)\n",
    "        sigRx = rot * sigRx\n",
    "        sigRx = sigRx / np.sqrt(signal_power(sigRx))\n",
    "\n",
    "        intf = sigRx/np.sqrt(signal_power(sigRx))-sigCh/np.sqrt(signal_power(sigCh))\n",
    "\n",
    "        SIR[indAlg, indPower] = 1/signal_power(intf)\n",
    "\n",
    "\n",
    "        # resample to 2 samples/symbol:\n",
    "        paramRes = parameters()\n",
    "        paramRes.Rs = paramTx.Rs\n",
    "        paramRes.SpS_in  = paramADC.SpS_out\n",
    "        paramRes.SpS_out = 2\n",
    "\n",
    "        sigRx = resample(sigRx, paramRes)\n",
    "\n",
    "        # CD compensation\n",
    "        sigRx = edc(sigRx, Ltotal, D, Fc, paramRes.SpS_out*paramTx.Rs)\n",
    "\n",
    "        # Downsampling to 2 sps and re-synchronization with transmitted sequences\n",
    "        sigRx = sigRx.reshape(-1, 1)\n",
    "\n",
    "        symbRx = symbolSync(sigRx, symbTx, 2)\n",
    "\n",
    "        # Power normalization\n",
    "        x = sigRx\n",
    "        d = symbRx\n",
    "\n",
    "        x = x.reshape(len(x), 1) / np.sqrt(signal_power(x))\n",
    "        d = d.reshape(len(d), 1) / np.sqrt(signal_power(d))\n",
    "\n",
    "        # Adaptive equalization\n",
    "        mod = QAMModem(m=paramTx.M)\n",
    "\n",
    "        paramEq = parameters()\n",
    "        paramEq.nTaps = 15\n",
    "        paramEq.SpS = 2\n",
    "        paramEq.mu = [1e-3, 5e-4]\n",
    "        paramEq.numIter = 5\n",
    "        paramEq.storeCoeff = False\n",
    "        paramEq.alg = [\"da-rde\", \"rde\"]\n",
    "        paramEq.M = paramTx.M\n",
    "        paramEq.L = [20000, 80000]\n",
    "        paramEq.prgsBar = False\n",
    "\n",
    "        y_EQ, H, errSq, Hiter = mimoAdaptEqualizer(x, dx=d, paramEq=paramEq)\n",
    "\n",
    "        # Carrier phase recovery\n",
    "        paramCPR = parameters()\n",
    "        paramCPR.alg = \"bps\"\n",
    "        paramCPR.M = paramTx.M\n",
    "        paramCPR.N = 85\n",
    "        paramCPR.B = 64\n",
    "        paramCPR.pilotInd = np.arange(0, len(y_EQ), 20)\n",
    "\n",
    "        y_CPR, θ = cpr(y_EQ, symbTx=d, paramCPR=paramCPR)\n",
    "\n",
    "        y_CPR = y_CPR / np.sqrt(signal_power(y_CPR))\n",
    "\n",
    "        # correct for (possible) phase ambiguity\n",
    "        for k in range(y_CPR.shape[1]):\n",
    "            rot = np.mean(d[:, k] / y_CPR[:, k])\n",
    "            y_CPR[:, k] = rot * y_CPR[:, k]\n",
    "\n",
    "        y_CPR = y_CPR / np.sqrt(signal_power(y_CPR))\n",
    "\n",
    "        discard = int(paramEq.L[0]/2)\n",
    "\n",
    "        ind = np.arange(discard, d.shape[0] - discard)\n",
    "        BER[indAlg,indPower], SER[indAlg,indPower], SNR[indAlg,indPower] = fastBERcalc(y_CPR[ind, :], d[ind, :], paramTx.M, 'qam')\n",
    "        GMI[indAlg,indPower], _ = monteCarloGMI(y_CPR[ind, :], d[ind, :],  paramTx.M, 'qam')\n",
    "        MI[indAlg,indPower] = monteCarloMI(y_CPR[ind, :], d[ind, :],  paramTx.M, 'qam')\n",
    "\n",
    "        print(\"Results:\")\n",
    "        print(\"BER: %.2e\" %(BER[indAlg,indPower]))\n",
    "        print(\"SNR: %.2f dB\" %(SNR[indAlg,indPower]))\n",
    "        print('SIR = ', round(10*np.log10(SIR[indAlg,indPower]), 2), ' dB')\n",
    "        print(\"GMI: %.2f bits\\n\" %(GMI[indAlg,indPower]))"
   ]
  }
 ],
 "metadata": {
  "kernelspec": {
   "display_name": "Python 3",
   "language": "python",
   "name": "python3"
  },
  "language_info": {
   "codemirror_mode": {
    "name": "ipython",
    "version": 3
   },
   "file_extension": ".py",
   "mimetype": "text/x-python",
   "name": "python",
   "nbconvert_exporter": "python",
   "pygments_lexer": "ipython3",
   "version": "3.9.0"
  },
  "vscode": {
   "interpreter": {
    "hash": "375d932ff305d5bb7891cf7c099632ff151b644ae138927e5c1b22b0b7153300"
   }
  }
 },
 "nbformat": 4,
 "nbformat_minor": 2
}
