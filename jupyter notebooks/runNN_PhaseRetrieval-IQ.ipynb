{
 "cells": [
  {
   "cell_type": "code",
   "execution_count": 1,
   "metadata": {},
   "outputs": [],
   "source": [
    "import matplotlib.pyplot as plt\n",
    "import numpy as np\n",
    "\n",
    "from commpy.modulation import QAMModem\n",
    "\n",
    "from optic.dsp import pulseShape, firFilter, decimate, symbolSync, resample\n",
    "from optic.models import phaseNoise, linFiberCh, KramersKronigRx, photodiode\n",
    "\n",
    "from optic.tx import simpleWDMTx\n",
    "from optic.core import parameters\n",
    "from optic.equalization import edc, mimoAdaptEqualizer\n",
    "from optic.carrierRecovery import cpr\n",
    "from optic.metrics import fastBERcalc, monteCarloGMI, monteCarloMI, signal_power\n",
    "from optic.plot import pconst\n",
    "\n",
    "import scipy.constants as const\n",
    "from tqdm.notebook import tqdm\n",
    "\n",
    "from tensorflow.keras.layers import Dense, BatchNormalization, Conv1DTranspose, Conv1D, Flatten, Add\n",
    "from tensorflow.keras.models import Sequential\n",
    "from tensorflow.keras.callbacks import EarlyStopping\n",
    "import tensorflow as tf\n",
    "from tensorflow.keras import backend as K"
   ]
  },
  {
   "cell_type": "code",
   "execution_count": 14,
   "metadata": {},
   "outputs": [],
   "source": [
    "## Transmitter parameters:\n",
    "paramTx = parameters()\n",
    "paramTx.M = 16                 # order of the modulation format\n",
    "paramTx.Rs = 32e9              # symbol rate [baud]\n",
    "paramTx.SpS = 4                # samples per symbol\n",
    "paramTx.Nbits = 400000         # total number of bits per polarization\n",
    "paramTx.pulse = \"rrc\"          # pulse shaping filter\n",
    "paramTx.Ntaps = 1024           # number of pulse shaping filter coefficients\n",
    "#paramTx.alphaRRC = 0.01        # RRC rolloff\n",
    "paramTx.Pch_dBm = 0            # power of the optical signal [dBm]\n",
    "paramTx.Nch = 1                # number of WDM channels\n",
    "paramTx.Fc = 193.1e12          # central frequency of the optical spectrum\n",
    "paramTx.freqSpac = 37.5e9      # WDM grid spacing\n",
    "\n",
    "## Optical channel parameters:\n",
    "Ltotal = 100       # total link distance [km]\n",
    "alpha = 0        # fiber loss parameter [dB/km]\n",
    "D = 16           # fiber dispersion parameter [ps/nm/km]\n",
    "Fc = paramTx.Fc  # central optical frequency of the WDM spectrum [Hz]\n",
    "\n",
    "## Receiver parameters:\n",
    "\n",
    "# local oscillator (LO)\n",
    "FO = paramTx.Rs/2 + 1e9  # frequency offset\n",
    "lw = 0*200e3       # linewidth\n",
    "ϕ_lo = 0           # initial phase in rad\n",
    "Plo_dBm = 12        # power in dBm\n",
    "\n",
    "# ADC sampling rate\n",
    "paramADC = parameters()\n",
    "paramADC.Rs = paramTx.Rs\n",
    "paramADC.SpS_in = paramTx.SpS\n",
    "paramADC.SpS_out = 4\n",
    "\n",
    "## General simulation parameters:\n",
    "chIndex = 0  # index of the channel to be demodulated\n",
    "plotPSD = True\n",
    "Fs = paramTx.Rs * paramTx.SpS  # simulation sampling rate\n",
    "Ts = 1 / Fs\n",
    "\n",
    "# photodiode parameters\n",
    "paramPD = parameters()\n",
    "paramPD.B  = 1.1*paramTx.Rs\n",
    "paramPD.Fs = Fs"
   ]
  },
  {
   "cell_type": "code",
   "execution_count": 15,
   "metadata": {},
   "outputs": [
    {
     "data": {
      "application/vnd.jupyter.widget-view+json": {
       "model_id": "2528233832374a0db867c4da78f29888",
       "version_major": 2,
       "version_minor": 0
      },
      "text/plain": [
       "  0%|          | 0/1 [00:00<?, ?it/s]"
      ]
     },
     "metadata": {},
     "output_type": "display_data"
    },
    {
     "name": "stdout",
     "output_type": "stream",
     "text": [
      "Demodulating channel #0 , fc: 193.1000 THz, λ: 1552.5244 nm\n",
      "\n",
      "Local oscillator P: 12.00 dBm, lw: 0.00 kHz, FO: 17000.00 MHz\n",
      "CSPR = 12.00 dB\n"
     ]
    },
    {
     "data": {
      "application/vnd.jupyter.widget-view+json": {
       "model_id": "bfe3ed472dc54a0ba6c97a21bdf8120d",
       "version_major": 2,
       "version_minor": 0
      },
      "text/plain": [
       "  0%|          | 0/5 [00:00<?, ?it/s]"
      ]
     },
     "metadata": {},
     "output_type": "display_data"
    },
    {
     "name": "stdout",
     "output_type": "stream",
     "text": [
      "Results:\n",
      "\n",
      "SER: 0.00e+00\n",
      "BER: 0.00e+00\n",
      "SNR: 29.76 dB\n",
      "MI: 4.00 bits\n",
      "GMI: 4.00 bits\n"
     ]
    },
    {
     "data": {
      "application/vnd.jupyter.widget-view+json": {
       "model_id": "ccedde04fac24f729baa11f8660b955b",
       "version_major": 2,
       "version_minor": 0
      },
      "text/plain": [
       "  0%|          | 0/1 [00:00<?, ?it/s]"
      ]
     },
     "metadata": {},
     "output_type": "display_data"
    },
    {
     "name": "stdout",
     "output_type": "stream",
     "text": [
      "Demodulating channel #0 , fc: 193.1000 THz, λ: 1552.5244 nm\n",
      "\n",
      "Local oscillator P: 12.00 dBm, lw: 0.00 kHz, FO: 17000.00 MHz\n",
      "CSPR = 12.00 dB\n"
     ]
    },
    {
     "data": {
      "application/vnd.jupyter.widget-view+json": {
       "model_id": "f0c29a9513ab4c3491438f70f8b45354",
       "version_major": 2,
       "version_minor": 0
      },
      "text/plain": [
       "  0%|          | 0/5 [00:00<?, ?it/s]"
      ]
     },
     "metadata": {},
     "output_type": "display_data"
    },
    {
     "name": "stdout",
     "output_type": "stream",
     "text": [
      "Results:\n",
      "\n",
      "SER: 4.44e-05\n",
      "BER: 1.39e-05\n",
      "SNR: 29.07 dB\n",
      "MI: 3.99 bits\n",
      "GMI: 3.99 bits\n"
     ]
    },
    {
     "data": {
      "application/vnd.jupyter.widget-view+json": {
       "model_id": "8604cffb04af478cbdfe003527d1283f",
       "version_major": 2,
       "version_minor": 0
      },
      "text/plain": [
       "  0%|          | 0/1 [00:00<?, ?it/s]"
      ]
     },
     "metadata": {},
     "output_type": "display_data"
    },
    {
     "name": "stdout",
     "output_type": "stream",
     "text": [
      "Demodulating channel #0 , fc: 193.1000 THz, λ: 1552.5244 nm\n",
      "\n",
      "Local oscillator P: 12.00 dBm, lw: 0.00 kHz, FO: 17000.00 MHz\n",
      "CSPR = 12.00 dB\n"
     ]
    },
    {
     "data": {
      "application/vnd.jupyter.widget-view+json": {
       "model_id": "7ddd846861664cde8f6a521250ad1225",
       "version_major": 2,
       "version_minor": 0
      },
      "text/plain": [
       "  0%|          | 0/5 [00:00<?, ?it/s]"
      ]
     },
     "metadata": {},
     "output_type": "display_data"
    },
    {
     "name": "stdout",
     "output_type": "stream",
     "text": [
      "Results:\n",
      "\n",
      "SER: 0.00e+00\n",
      "BER: 0.00e+00\n",
      "SNR: 25.15 dB\n",
      "MI: 4.00 bits\n",
      "GMI: 4.00 bits\n"
     ]
    },
    {
     "data": {
      "application/vnd.jupyter.widget-view+json": {
       "model_id": "b53b05ea667f414ea468624430436646",
       "version_major": 2,
       "version_minor": 0
      },
      "text/plain": [
       "  0%|          | 0/1 [00:00<?, ?it/s]"
      ]
     },
     "metadata": {},
     "output_type": "display_data"
    },
    {
     "name": "stdout",
     "output_type": "stream",
     "text": [
      "Demodulating channel #0 , fc: 193.1000 THz, λ: 1552.5244 nm\n",
      "\n",
      "Local oscillator P: 12.00 dBm, lw: 0.00 kHz, FO: 17000.00 MHz\n",
      "CSPR = 12.00 dB\n"
     ]
    },
    {
     "data": {
      "application/vnd.jupyter.widget-view+json": {
       "model_id": "40a04124cbba46e889a74c97ec380f6c",
       "version_major": 2,
       "version_minor": 0
      },
      "text/plain": [
       "  0%|          | 0/5 [00:00<?, ?it/s]"
      ]
     },
     "metadata": {},
     "output_type": "display_data"
    },
    {
     "name": "stdout",
     "output_type": "stream",
     "text": [
      "Results:\n",
      "\n",
      "SER: 2.22e-05\n",
      "BER: 5.56e-06\n",
      "SNR: 23.91 dB\n",
      "MI: 4.00 bits\n",
      "GMI: 4.00 bits\n"
     ]
    },
    {
     "data": {
      "application/vnd.jupyter.widget-view+json": {
       "model_id": "846b74a4fd194b43934f089c1ae89f5c",
       "version_major": 2,
       "version_minor": 0
      },
      "text/plain": [
       "  0%|          | 0/1 [00:00<?, ?it/s]"
      ]
     },
     "metadata": {},
     "output_type": "display_data"
    },
    {
     "name": "stdout",
     "output_type": "stream",
     "text": [
      "Demodulating channel #0 , fc: 193.1000 THz, λ: 1552.5244 nm\n",
      "\n",
      "Local oscillator P: 12.00 dBm, lw: 0.00 kHz, FO: 17000.00 MHz\n",
      "CSPR = 12.00 dB\n"
     ]
    },
    {
     "data": {
      "application/vnd.jupyter.widget-view+json": {
       "model_id": "c43d3b8979c54971b0788115248653cf",
       "version_major": 2,
       "version_minor": 0
      },
      "text/plain": [
       "  0%|          | 0/5 [00:00<?, ?it/s]"
      ]
     },
     "metadata": {},
     "output_type": "display_data"
    },
    {
     "name": "stdout",
     "output_type": "stream",
     "text": [
      "Results:\n",
      "\n",
      "SER: 0.00e+00\n",
      "BER: 0.00e+00\n",
      "SNR: 22.63 dB\n",
      "MI: 4.00 bits\n",
      "GMI: 4.00 bits\n"
     ]
    },
    {
     "data": {
      "application/vnd.jupyter.widget-view+json": {
       "model_id": "31bde95aa4b34f7197e546dd446b641c",
       "version_major": 2,
       "version_minor": 0
      },
      "text/plain": [
       "  0%|          | 0/1 [00:00<?, ?it/s]"
      ]
     },
     "metadata": {},
     "output_type": "display_data"
    },
    {
     "name": "stdout",
     "output_type": "stream",
     "text": [
      "Demodulating channel #0 , fc: 193.1000 THz, λ: 1552.5244 nm\n",
      "\n",
      "Local oscillator P: 12.00 dBm, lw: 0.00 kHz, FO: 17000.00 MHz\n",
      "CSPR = 12.00 dB\n"
     ]
    },
    {
     "data": {
      "application/vnd.jupyter.widget-view+json": {
       "model_id": "1eee621799fe459cb38c77825f2cb13b",
       "version_major": 2,
       "version_minor": 0
      },
      "text/plain": [
       "  0%|          | 0/5 [00:00<?, ?it/s]"
      ]
     },
     "metadata": {},
     "output_type": "display_data"
    },
    {
     "name": "stdout",
     "output_type": "stream",
     "text": [
      "Results:\n",
      "\n",
      "SER: 0.00e+00\n",
      "BER: 0.00e+00\n",
      "SNR: 21.57 dB\n",
      "MI: 4.00 bits\n",
      "GMI: 4.00 bits\n"
     ]
    },
    {
     "data": {
      "application/vnd.jupyter.widget-view+json": {
       "model_id": "1824eb75c30e4a249e2c93df79fe0070",
       "version_major": 2,
       "version_minor": 0
      },
      "text/plain": [
       "  0%|          | 0/1 [00:00<?, ?it/s]"
      ]
     },
     "metadata": {},
     "output_type": "display_data"
    },
    {
     "name": "stdout",
     "output_type": "stream",
     "text": [
      "Demodulating channel #0 , fc: 193.1000 THz, λ: 1552.5244 nm\n",
      "\n",
      "Local oscillator P: 12.00 dBm, lw: 0.00 kHz, FO: 17000.00 MHz\n",
      "CSPR = 12.00 dB\n"
     ]
    },
    {
     "data": {
      "application/vnd.jupyter.widget-view+json": {
       "model_id": "eabb057a5605478e9b23fca9b12d6346",
       "version_major": 2,
       "version_minor": 0
      },
      "text/plain": [
       "  0%|          | 0/5 [00:00<?, ?it/s]"
      ]
     },
     "metadata": {},
     "output_type": "display_data"
    },
    {
     "name": "stdout",
     "output_type": "stream",
     "text": [
      "Results:\n",
      "\n",
      "SER: 3.33e-05\n",
      "BER: 8.33e-06\n",
      "SNR: 20.64 dB\n",
      "MI: 4.00 bits\n",
      "GMI: 4.00 bits\n"
     ]
    },
    {
     "data": {
      "application/vnd.jupyter.widget-view+json": {
       "model_id": "e74cbcf350c64649859be93dfa500fce",
       "version_major": 2,
       "version_minor": 0
      },
      "text/plain": [
       "  0%|          | 0/1 [00:00<?, ?it/s]"
      ]
     },
     "metadata": {},
     "output_type": "display_data"
    },
    {
     "name": "stdout",
     "output_type": "stream",
     "text": [
      "Demodulating channel #0 , fc: 193.1000 THz, λ: 1552.5244 nm\n",
      "\n",
      "Local oscillator P: 12.00 dBm, lw: 0.00 kHz, FO: 17000.00 MHz\n",
      "CSPR = 12.00 dB\n"
     ]
    },
    {
     "data": {
      "application/vnd.jupyter.widget-view+json": {
       "model_id": "9ecff23b4f4e4ce0ace3cb40b10cbf63",
       "version_major": 2,
       "version_minor": 0
      },
      "text/plain": [
       "  0%|          | 0/5 [00:00<?, ?it/s]"
      ]
     },
     "metadata": {},
     "output_type": "display_data"
    },
    {
     "name": "stdout",
     "output_type": "stream",
     "text": [
      "Results:\n",
      "\n",
      "SER: 1.56e-04\n",
      "BER: 3.89e-05\n",
      "SNR: 19.79 dB\n",
      "MI: 4.00 bits\n",
      "GMI: 4.00 bits\n"
     ]
    },
    {
     "data": {
      "application/vnd.jupyter.widget-view+json": {
       "model_id": "7b3d6d1443854ced847b609e92123929",
       "version_major": 2,
       "version_minor": 0
      },
      "text/plain": [
       "  0%|          | 0/1 [00:00<?, ?it/s]"
      ]
     },
     "metadata": {},
     "output_type": "display_data"
    },
    {
     "name": "stdout",
     "output_type": "stream",
     "text": [
      "Demodulating channel #0 , fc: 193.1000 THz, λ: 1552.5244 nm\n",
      "\n",
      "Local oscillator P: 12.00 dBm, lw: 0.00 kHz, FO: 17000.00 MHz\n",
      "CSPR = 12.00 dB\n"
     ]
    },
    {
     "data": {
      "application/vnd.jupyter.widget-view+json": {
       "model_id": "89dd6b49c2c54903b9594afaba74b78b",
       "version_major": 2,
       "version_minor": 0
      },
      "text/plain": [
       "  0%|          | 0/5 [00:00<?, ?it/s]"
      ]
     },
     "metadata": {},
     "output_type": "display_data"
    },
    {
     "name": "stdout",
     "output_type": "stream",
     "text": [
      "Results:\n",
      "\n",
      "SER: 5.33e-04\n",
      "BER: 1.33e-04\n",
      "SNR: 18.99 dB\n",
      "MI: 4.00 bits\n",
      "GMI: 4.00 bits\n"
     ]
    },
    {
     "data": {
      "application/vnd.jupyter.widget-view+json": {
       "model_id": "e11650d7660444f58092dbbae8cb6361",
       "version_major": 2,
       "version_minor": 0
      },
      "text/plain": [
       "  0%|          | 0/1 [00:00<?, ?it/s]"
      ]
     },
     "metadata": {},
     "output_type": "display_data"
    },
    {
     "name": "stdout",
     "output_type": "stream",
     "text": [
      "Demodulating channel #0 , fc: 193.1000 THz, λ: 1552.5244 nm\n",
      "\n",
      "Local oscillator P: 12.00 dBm, lw: 0.00 kHz, FO: 17000.00 MHz\n",
      "CSPR = 12.00 dB\n"
     ]
    },
    {
     "data": {
      "application/vnd.jupyter.widget-view+json": {
       "model_id": "a18dd42e7c554117a06e4099d87aded4",
       "version_major": 2,
       "version_minor": 0
      },
      "text/plain": [
       "  0%|          | 0/5 [00:00<?, ?it/s]"
      ]
     },
     "metadata": {},
     "output_type": "display_data"
    },
    {
     "name": "stdout",
     "output_type": "stream",
     "text": [
      "Results:\n",
      "\n",
      "SER: 7.11e-04\n",
      "BER: 1.78e-04\n",
      "SNR: 18.42 dB\n",
      "MI: 4.00 bits\n",
      "GMI: 4.00 bits\n"
     ]
    }
   ],
   "source": [
    "Rolloff = np.arange(0.05, 0.95, 0.05)\n",
    "\n",
    "BER_KK = np.zeros(Rolloff.size)\n",
    "SER_KK = np.zeros(Rolloff.size) \n",
    "GMI_KK = np.zeros(Rolloff.size)\n",
    "MI_KK  = np.zeros(Rolloff.size)\n",
    "SNR_KK = np.zeros(Rolloff.size)\n",
    "\n",
    "for indRolloff, Rolloff_ in enumerate(Rolloff):\n",
    "\n",
    "    paramTx.alphaRRC = Rolloff_\n",
    "    # generate optical signal signal\n",
    "    sigTx, symbTx_, paramTx = simpleWDMTx(paramTx)\n",
    "\n",
    "    # simulate linear signal propagation\n",
    "    sigCh = linFiberCh(sigTx, Ltotal, alpha, D, Fc, Fs)\n",
    "\n",
    "    # receiver detection and demodulation\n",
    "    Fc = paramTx.Fc\n",
    "    Ts = 1 / Fs\n",
    "    mod = QAMModem(m=paramTx.M)\n",
    "\n",
    "    freqGrid = paramTx.freqGrid\n",
    "    print(\n",
    "        \"Demodulating channel #%d , fc: %.4f THz, λ: %.4f nm\\n\"\n",
    "        % (\n",
    "            chIndex,\n",
    "            (Fc + freqGrid[chIndex]) / 1e12,\n",
    "            const.c / (Fc + freqGrid[chIndex]) / 1e-9,\n",
    "        )\n",
    "    )\n",
    "\n",
    "    symbTx = symbTx_[:, :, chIndex]\n",
    "\n",
    "    Plo = 10 ** (Plo_dBm / 10) * 1e-3  # power in W\n",
    "\n",
    "    print(\n",
    "        \"Local oscillator P: %.2f dBm, lw: %.2f kHz, FO: %.2f MHz\"\n",
    "        % (Plo_dBm, lw / 1e3, FO / 1e6)\n",
    "    )\n",
    "\n",
    "    # generate LO field\n",
    "    π = np.pi\n",
    "    t = np.arange(0, len(sigCh))*Ts\n",
    "    ϕ_pn_lo = phaseNoise(lw, len(sigCh), Ts)\n",
    "\n",
    "    sigLO = np.sqrt(Plo) * np.exp(-1j * (2 * π * FO * t + ϕ_lo + ϕ_pn_lo))\n",
    "\n",
    "    # Add LO to the received signal\n",
    "    sigRx = np.sqrt(Plo) + sigCh * np.exp(1j * (2 * π * FO * t + ϕ_lo + ϕ_pn_lo))\n",
    "    sfm = sigRx.copy()\n",
    "\n",
    "    print('CSPR = %.2f dB' % (10*np.log10(signal_power(sigLO)/signal_power(sigCh))))\n",
    "\n",
    "    # ### Phase-retrieval stage\n",
    "\n",
    "    # In[4]:\n",
    "    \n",
    "    # simulate ideal direct-detection optical receiver\n",
    "    Ipd = photodiode(sigRx, paramPD)\n",
    "    Amp = np.sqrt(Ipd)\n",
    "    Amp = resample(Amp, paramADC)\n",
    "\n",
    "    # resampling to ADC sampling rate\n",
    "    sigCh = resample(sigCh, paramADC)\n",
    "    sfm = resample(sfm, paramADC)\n",
    "    newFs = paramADC.SpS_out*paramTx.Rs\n",
    "\n",
    "    sfm = sfm/np.sqrt(signal_power(sfm))\n",
    "    \n",
    "    # Kramers-Kronig phase-retrieval\n",
    "    phiTime = KramersKronigRx(Amp, newFs)\n",
    "\n",
    "    # optical field reconstruction\n",
    "    sigRx = Amp*np.exp(1j*phiTime)\n",
    "\n",
    "    # remove DC level\n",
    "    sigRx -= np.sqrt(Plo)  # np.mean(sigRx)\n",
    "\n",
    "    # downshift to baseband\n",
    "    t = np.arange(0, len(sigRx))*(1/newFs)\n",
    "    sigRx *= np.exp(-1j * (2 * π * FO * t))\n",
    "\n",
    "    # correct for (possible) phase ambiguity\n",
    "    rot = np.mean(sigCh/sigRx)\n",
    "    sigRx = rot * sigRx\n",
    "    sigRx = sigRx / np.sqrt(signal_power(sigRx))\n",
    "\n",
    "    # #### Standard receiver processing\n",
    "\n",
    "    # In[5]:\n",
    "\n",
    "    # resample to 2 samples/symbol:\n",
    "    paramRes = parameters()\n",
    "    paramRes.Rs = paramTx.Rs\n",
    "    paramRes.SpS_in = paramADC.SpS_out\n",
    "    paramRes.SpS_out = 2\n",
    "\n",
    "    sigRx = resample(sigRx, paramRes)\n",
    "\n",
    "    # Matched filtering and CD compensation\n",
    "\n",
    "    # Matched filtering\n",
    "    if paramTx.pulse == \"nrz\":\n",
    "        pulse = pulseShape(\"nrz\", paramADC.SpS_out)\n",
    "    elif paramTx.pulse == \"rrc\":\n",
    "        pulse = pulseShape(\n",
    "            \"rrc\", paramRes.SpS_out, N=paramTx.Ntaps, alpha=paramTx.alphaRRC, Ts=1 / paramTx.Rs\n",
    "        )\n",
    "\n",
    "    pulse = pulse / np.max(np.abs(pulse))\n",
    "    sigRx = firFilter(pulse, sigRx)\n",
    "\n",
    "    # plot constellations after matched filtering\n",
    "    #pconst(sigRx[0::paramRes.SpS_out], lim=True, R=3)\n",
    "\n",
    "    # CD compensation\n",
    "    sigRx = edc(sigRx, Ltotal, D, Fc, paramRes.SpS_out*paramTx.Rs)\n",
    "\n",
    "    #plot constellations after CD compensation\n",
    "    #pconst(sigRx[0::paramRes.SpS_out], lim=True, R=2)\n",
    "\n",
    "    # Downsampling to 2 sps and re-synchronization with transmitted sequences\n",
    "    sigRx = sigRx.reshape(-1, 1)\n",
    "\n",
    "    symbRx = symbolSync(sigRx, symbTx, 2)\n",
    "\n",
    "    # In[6]:\n",
    "\n",
    "    # Power normalization\n",
    "    x = sigRx\n",
    "    d = symbRx\n",
    "\n",
    "    x = x.reshape(len(x), 1) / np.sqrt(signal_power(x))\n",
    "    d = d.reshape(len(d), 1) / np.sqrt(signal_power(d))\n",
    "\n",
    "    # Adaptive equalization\n",
    "    mod = QAMModem(m=paramTx.M)\n",
    "\n",
    "    paramEq = parameters()\n",
    "    paramEq.nTaps = 15\n",
    "    paramEq.SpS = 2\n",
    "    paramEq.mu = [5e-3, 2e-3]\n",
    "    paramEq.numIter = 5\n",
    "    paramEq.storeCoeff = False\n",
    "    paramEq.alg = [\"nlms\", \"dd-lms\"]\n",
    "    paramEq.M = paramTx.M\n",
    "    paramEq.L = [20000, 80000]\n",
    "\n",
    "    y_EQ, H, errSq, Hiter = mimoAdaptEqualizer(x, dx=d, paramEq=paramEq)\n",
    "\n",
    "    discard = int(paramEq.L[0]/2)\n",
    "\n",
    "    #plot constellations after adaptive equalization\n",
    "    #pconst(y_EQ[discard:-discard, :], lim=True)\n",
    "\n",
    "    # In[7]:\n",
    "\n",
    "    # Carrier phase recovery\n",
    "    paramCPR = parameters()\n",
    "    paramCPR.alg = \"bps\"\n",
    "    paramCPR.M = paramTx.M\n",
    "    paramCPR.N = 75\n",
    "    paramCPR.B = 64\n",
    "    paramCPR.pilotInd = np.arange(0, len(y_EQ), 20)\n",
    "\n",
    "    y_CPR, θ = cpr(y_EQ, symbTx=d, paramCPR=paramCPR)\n",
    "\n",
    "    y_CPR = y_CPR / np.sqrt(signal_power(y_CPR))\n",
    "\n",
    "    discard = 5000\n",
    "\n",
    "    # plot constellations after CPR\n",
    "    #pconst(y_CPR[discard:-discard, :], lim=True)\n",
    "\n",
    "    # #### Evaluate transmission metrics\n",
    "\n",
    "    # In[8]:\n",
    "\n",
    "    # correct for (possible) phase ambiguity\n",
    "    for k in range(y_CPR.shape[1]):\n",
    "        rot = np.mean(d[:, k] / y_CPR[:, k])\n",
    "        y_CPR[:, k] = rot * y_CPR[:, k]\n",
    "\n",
    "    y_CPR = y_CPR / np.sqrt(signal_power(y_CPR))\n",
    "\n",
    "    ind = np.arange(discard, d.shape[0] - discard)\n",
    "    BER_KK[indRolloff], SER_KK[indRolloff], SNR_KK[indRolloff] = fastBERcalc(y_CPR[ind, :], d[ind, :], paramTx.M, 'qam')\n",
    "    GMI_KK[indRolloff], _ = monteCarloGMI(y_CPR[ind, :], d[ind, :], paramTx.M, 'qam')\n",
    "    MI_KK[indRolloff] = monteCarloMI(y_CPR[ind, :], d[ind, :], paramTx.M, 'qam')\n",
    "\n",
    "    print(\"Results:\\n\")\n",
    "    print(\"SER: %.2e\" % (SER_KK[indRolloff]))\n",
    "    print(\"BER: %.2e\" % (BER_KK[indRolloff]))\n",
    "    print(\"SNR: %.2f dB\" % (SNR_KK[indRolloff]))\n",
    "    print(\"MI: %.2f bits\" % (MI_KK[indRolloff]))\n",
    "    print(\"GMI: %.2f bits\" % (GMI_KK[indRolloff]))"
   ]
  },
  {
   "cell_type": "code",
   "execution_count": 16,
   "metadata": {},
   "outputs": [
    {
     "data": {
      "application/vnd.jupyter.widget-view+json": {
       "model_id": "2f1e18f2dc164b98beef3c2614b8b3ab",
       "version_major": 2,
       "version_minor": 0
      },
      "text/plain": [
       "  0%|          | 0/1 [00:00<?, ?it/s]"
      ]
     },
     "metadata": {},
     "output_type": "display_data"
    },
    {
     "name": "stdout",
     "output_type": "stream",
     "text": [
      "Demodulating channel #0 , fc: 193.1000 THz, λ: 1552.5244 nm\n",
      "\n",
      "Local oscillator P: 12.00 dBm, lw: 0.00 kHz, FO: 17000.00 MHz\n",
      "CSPR = 12.00 dB\n",
      "12500/12500 [==============================] - 49s 4ms/step\n"
     ]
    },
    {
     "data": {
      "application/vnd.jupyter.widget-view+json": {
       "model_id": "33aea7f1be314dee9fd0a98b096a131e",
       "version_major": 2,
       "version_minor": 0
      },
      "text/plain": [
       "  0%|          | 0/5 [00:00<?, ?it/s]"
      ]
     },
     "metadata": {},
     "output_type": "display_data"
    },
    {
     "name": "stdout",
     "output_type": "stream",
     "text": [
      "Results:\n",
      "\n",
      "SER: 0.00e+00\n",
      "BER: 0.00e+00\n",
      "SNR: 31.30 dB\n",
      "MI: 4.00 bits\n",
      "GMI: 4.00 bits\n"
     ]
    },
    {
     "data": {
      "application/vnd.jupyter.widget-view+json": {
       "model_id": "e7b8cff71e89420bb060660e8132b9c6",
       "version_major": 2,
       "version_minor": 0
      },
      "text/plain": [
       "  0%|          | 0/1 [00:00<?, ?it/s]"
      ]
     },
     "metadata": {},
     "output_type": "display_data"
    },
    {
     "name": "stdout",
     "output_type": "stream",
     "text": [
      "Demodulating channel #0 , fc: 193.1000 THz, λ: 1552.5244 nm\n",
      "\n",
      "Local oscillator P: 12.00 dBm, lw: 0.00 kHz, FO: 17000.00 MHz\n",
      "CSPR = 12.00 dB\n",
      "12500/12500 [==============================] - 48s 4ms/step\n"
     ]
    },
    {
     "data": {
      "application/vnd.jupyter.widget-view+json": {
       "model_id": "cf833a3796994bb097a52e7a62682783",
       "version_major": 2,
       "version_minor": 0
      },
      "text/plain": [
       "  0%|          | 0/5 [00:00<?, ?it/s]"
      ]
     },
     "metadata": {},
     "output_type": "display_data"
    },
    {
     "name": "stdout",
     "output_type": "stream",
     "text": [
      "Results:\n",
      "\n",
      "SER: 0.00e+00\n",
      "BER: 0.00e+00\n",
      "SNR: 22.83 dB\n",
      "MI: 4.00 bits\n",
      "GMI: 4.00 bits\n"
     ]
    },
    {
     "data": {
      "application/vnd.jupyter.widget-view+json": {
       "model_id": "57c954725f0648d3b3452bda7f3e4a3e",
       "version_major": 2,
       "version_minor": 0
      },
      "text/plain": [
       "  0%|          | 0/1 [00:00<?, ?it/s]"
      ]
     },
     "metadata": {},
     "output_type": "display_data"
    },
    {
     "name": "stdout",
     "output_type": "stream",
     "text": [
      "Demodulating channel #0 , fc: 193.1000 THz, λ: 1552.5244 nm\n",
      "\n",
      "Local oscillator P: 12.00 dBm, lw: 0.00 kHz, FO: 17000.00 MHz\n",
      "CSPR = 12.00 dB\n",
      "12500/12500 [==============================] - 48s 4ms/step\n"
     ]
    },
    {
     "data": {
      "application/vnd.jupyter.widget-view+json": {
       "model_id": "9ef392e930ea40bd976157708c586246",
       "version_major": 2,
       "version_minor": 0
      },
      "text/plain": [
       "  0%|          | 0/5 [00:00<?, ?it/s]"
      ]
     },
     "metadata": {},
     "output_type": "display_data"
    },
    {
     "name": "stdout",
     "output_type": "stream",
     "text": [
      "Results:\n",
      "\n",
      "SER: 0.00e+00\n",
      "BER: 0.00e+00\n",
      "SNR: 23.84 dB\n",
      "MI: 4.00 bits\n",
      "GMI: 4.00 bits\n"
     ]
    },
    {
     "data": {
      "application/vnd.jupyter.widget-view+json": {
       "model_id": "ae5e9156cff04b26bbe5ec7c909a3711",
       "version_major": 2,
       "version_minor": 0
      },
      "text/plain": [
       "  0%|          | 0/1 [00:00<?, ?it/s]"
      ]
     },
     "metadata": {},
     "output_type": "display_data"
    },
    {
     "name": "stdout",
     "output_type": "stream",
     "text": [
      "Demodulating channel #0 , fc: 193.1000 THz, λ: 1552.5244 nm\n",
      "\n",
      "Local oscillator P: 12.00 dBm, lw: 0.00 kHz, FO: 17000.00 MHz\n",
      "CSPR = 12.00 dB\n",
      "12500/12500 [==============================] - 53s 4ms/step\n"
     ]
    },
    {
     "data": {
      "application/vnd.jupyter.widget-view+json": {
       "model_id": "0015115394ca4ebd9d80217bcc29c618",
       "version_major": 2,
       "version_minor": 0
      },
      "text/plain": [
       "  0%|          | 0/5 [00:00<?, ?it/s]"
      ]
     },
     "metadata": {},
     "output_type": "display_data"
    },
    {
     "name": "stdout",
     "output_type": "stream",
     "text": [
      "Results:\n",
      "\n",
      "SER: 0.00e+00\n",
      "BER: 0.00e+00\n",
      "SNR: 23.00 dB\n",
      "MI: 4.00 bits\n",
      "GMI: 4.00 bits\n"
     ]
    },
    {
     "data": {
      "application/vnd.jupyter.widget-view+json": {
       "model_id": "ad372e7ab8154ace9708231e19ec8bea",
       "version_major": 2,
       "version_minor": 0
      },
      "text/plain": [
       "  0%|          | 0/1 [00:00<?, ?it/s]"
      ]
     },
     "metadata": {},
     "output_type": "display_data"
    },
    {
     "name": "stdout",
     "output_type": "stream",
     "text": [
      "Demodulating channel #0 , fc: 193.1000 THz, λ: 1552.5244 nm\n",
      "\n",
      "Local oscillator P: 12.00 dBm, lw: 0.00 kHz, FO: 17000.00 MHz\n",
      "CSPR = 12.00 dB\n",
      "12500/12500 [==============================] - 48s 4ms/step\n"
     ]
    },
    {
     "data": {
      "application/vnd.jupyter.widget-view+json": {
       "model_id": "7736170390e04709afd875da08b51b8e",
       "version_major": 2,
       "version_minor": 0
      },
      "text/plain": [
       "  0%|          | 0/5 [00:00<?, ?it/s]"
      ]
     },
     "metadata": {},
     "output_type": "display_data"
    },
    {
     "name": "stdout",
     "output_type": "stream",
     "text": [
      "Results:\n",
      "\n",
      "SER: 1.11e-05\n",
      "BER: 2.78e-06\n",
      "SNR: 20.95 dB\n",
      "MI: 4.00 bits\n",
      "GMI: 4.00 bits\n"
     ]
    },
    {
     "data": {
      "application/vnd.jupyter.widget-view+json": {
       "model_id": "7f6912cf5fed4391a154fd9965be1b4c",
       "version_major": 2,
       "version_minor": 0
      },
      "text/plain": [
       "  0%|          | 0/1 [00:00<?, ?it/s]"
      ]
     },
     "metadata": {},
     "output_type": "display_data"
    },
    {
     "name": "stdout",
     "output_type": "stream",
     "text": [
      "Demodulating channel #0 , fc: 193.1000 THz, λ: 1552.5244 nm\n",
      "\n",
      "Local oscillator P: 12.00 dBm, lw: 0.00 kHz, FO: 17000.00 MHz\n",
      "CSPR = 12.00 dB\n",
      "12500/12500 [==============================] - 48s 4ms/step\n"
     ]
    },
    {
     "data": {
      "application/vnd.jupyter.widget-view+json": {
       "model_id": "81b19aa32fff43e6a3688354f10ef89c",
       "version_major": 2,
       "version_minor": 0
      },
      "text/plain": [
       "  0%|          | 0/5 [00:00<?, ?it/s]"
      ]
     },
     "metadata": {},
     "output_type": "display_data"
    },
    {
     "name": "stdout",
     "output_type": "stream",
     "text": [
      "Results:\n",
      "\n",
      "SER: 6.67e-05\n",
      "BER: 1.67e-05\n",
      "SNR: 19.81 dB\n",
      "MI: 4.00 bits\n",
      "GMI: 4.00 bits\n"
     ]
    },
    {
     "data": {
      "application/vnd.jupyter.widget-view+json": {
       "model_id": "97d35d80b6b94a28b32886ac0c8e6400",
       "version_major": 2,
       "version_minor": 0
      },
      "text/plain": [
       "  0%|          | 0/1 [00:00<?, ?it/s]"
      ]
     },
     "metadata": {},
     "output_type": "display_data"
    },
    {
     "name": "stdout",
     "output_type": "stream",
     "text": [
      "Demodulating channel #0 , fc: 193.1000 THz, λ: 1552.5244 nm\n",
      "\n",
      "Local oscillator P: 12.00 dBm, lw: 0.00 kHz, FO: 17000.00 MHz\n",
      "CSPR = 12.00 dB\n",
      "12500/12500 [==============================] - 49s 4ms/step\n"
     ]
    },
    {
     "data": {
      "application/vnd.jupyter.widget-view+json": {
       "model_id": "23e3350be1c44c5587649907bf40bd62",
       "version_major": 2,
       "version_minor": 0
      },
      "text/plain": [
       "  0%|          | 0/5 [00:00<?, ?it/s]"
      ]
     },
     "metadata": {},
     "output_type": "display_data"
    },
    {
     "name": "stdout",
     "output_type": "stream",
     "text": [
      "Results:\n",
      "\n",
      "SER: 1.00e-04\n",
      "BER: 2.50e-05\n",
      "SNR: 19.26 dB\n",
      "MI: 4.00 bits\n",
      "GMI: 4.00 bits\n"
     ]
    },
    {
     "data": {
      "application/vnd.jupyter.widget-view+json": {
       "model_id": "84e10f15de554f6387f6d2f830221079",
       "version_major": 2,
       "version_minor": 0
      },
      "text/plain": [
       "  0%|          | 0/1 [00:00<?, ?it/s]"
      ]
     },
     "metadata": {},
     "output_type": "display_data"
    },
    {
     "name": "stdout",
     "output_type": "stream",
     "text": [
      "Demodulating channel #0 , fc: 193.1000 THz, λ: 1552.5244 nm\n",
      "\n",
      "Local oscillator P: 12.00 dBm, lw: 0.00 kHz, FO: 17000.00 MHz\n",
      "CSPR = 12.00 dB\n",
      "12500/12500 [==============================] - 47s 4ms/step\n"
     ]
    },
    {
     "data": {
      "application/vnd.jupyter.widget-view+json": {
       "model_id": "00160e562e604666b90d1ed0ce9dcae6",
       "version_major": 2,
       "version_minor": 0
      },
      "text/plain": [
       "  0%|          | 0/5 [00:00<?, ?it/s]"
      ]
     },
     "metadata": {},
     "output_type": "display_data"
    },
    {
     "name": "stdout",
     "output_type": "stream",
     "text": [
      "Results:\n",
      "\n",
      "SER: 1.60e-03\n",
      "BER: 4.00e-04\n",
      "SNR: 17.65 dB\n",
      "MI: 3.99 bits\n",
      "GMI: 3.99 bits\n"
     ]
    },
    {
     "data": {
      "application/vnd.jupyter.widget-view+json": {
       "model_id": "5942fbe9f8164ed29696e26409ec707e",
       "version_major": 2,
       "version_minor": 0
      },
      "text/plain": [
       "  0%|          | 0/1 [00:00<?, ?it/s]"
      ]
     },
     "metadata": {},
     "output_type": "display_data"
    },
    {
     "name": "stdout",
     "output_type": "stream",
     "text": [
      "Demodulating channel #0 , fc: 193.1000 THz, λ: 1552.5244 nm\n",
      "\n",
      "Local oscillator P: 12.00 dBm, lw: 0.00 kHz, FO: 17000.00 MHz\n",
      "CSPR = 12.00 dB\n",
      "12500/12500 [==============================] - 46s 4ms/step\n"
     ]
    },
    {
     "data": {
      "application/vnd.jupyter.widget-view+json": {
       "model_id": "f1e2edd8f3e04ed18735c03ce1c629e3",
       "version_major": 2,
       "version_minor": 0
      },
      "text/plain": [
       "  0%|          | 0/5 [00:00<?, ?it/s]"
      ]
     },
     "metadata": {},
     "output_type": "display_data"
    },
    {
     "name": "stdout",
     "output_type": "stream",
     "text": [
      "Results:\n",
      "\n",
      "SER: 1.48e-03\n",
      "BER: 3.69e-04\n",
      "SNR: 17.81 dB\n",
      "MI: 3.99 bits\n",
      "GMI: 3.99 bits\n"
     ]
    },
    {
     "data": {
      "application/vnd.jupyter.widget-view+json": {
       "model_id": "f948ca9c52b144f4b21dbd34782a290d",
       "version_major": 2,
       "version_minor": 0
      },
      "text/plain": [
       "  0%|          | 0/1 [00:00<?, ?it/s]"
      ]
     },
     "metadata": {},
     "output_type": "display_data"
    },
    {
     "name": "stdout",
     "output_type": "stream",
     "text": [
      "Demodulating channel #0 , fc: 193.1000 THz, λ: 1552.5244 nm\n",
      "\n",
      "Local oscillator P: 12.00 dBm, lw: 0.00 kHz, FO: 17000.00 MHz\n",
      "CSPR = 12.00 dB\n",
      "12500/12500 [==============================] - 51s 4ms/step\n"
     ]
    },
    {
     "data": {
      "application/vnd.jupyter.widget-view+json": {
       "model_id": "981c4daeada741fab0a7f020c764a6bd",
       "version_major": 2,
       "version_minor": 0
      },
      "text/plain": [
       "  0%|          | 0/5 [00:00<?, ?it/s]"
      ]
     },
     "metadata": {},
     "output_type": "display_data"
    },
    {
     "name": "stdout",
     "output_type": "stream",
     "text": [
      "Results:\n",
      "\n",
      "SER: 3.13e-03\n",
      "BER: 7.83e-04\n",
      "SNR: 17.36 dB\n",
      "MI: 3.99 bits\n",
      "GMI: 3.99 bits\n"
     ]
    }
   ],
   "source": [
    "Rolloff = np.arange(0.05, 0.95, 0.05)\n",
    "\n",
    "BER_NN = np.zeros(Rolloff.size)\n",
    "SER_NN = np.zeros(Rolloff.size)\n",
    "GMI_NN = np.zeros(Rolloff.size)\n",
    "MI_NN  = np.zeros(Rolloff.size)\n",
    "SNR_NN = np.zeros(Rolloff.size)\n",
    "\n",
    "N = 72  # number of input amplitude samples to the NN\n",
    "\n",
    "for indNN, Rolloff_NN in enumerate(Rolloff):\n",
    "\n",
    "    paramTx.alphaRRC = Rolloff_NN\n",
    "    model = tf.keras.models.load_model('ConvNets_models/test_ConvNet_model_SpS_'+str(paramADC.SpS_out)+'_FO_'+str(FO/10e9)+'GHz_Rolloff_'+str(round(paramTx.alphaRRC, 2)))\n",
    "\n",
    "    # generate optical signal signal\n",
    "    sigTx, symbTx_, paramTx = simpleWDMTx(paramTx)\n",
    "\n",
    "    # simulate linear signal propagation\n",
    "    sigCh = linFiberCh(sigTx, Ltotal, alpha, D, Fc, Fs)\n",
    "\n",
    "    # receiver detection and demodulation\n",
    "    Fc = paramTx.Fc\n",
    "    Ts = 1 / Fs\n",
    "    mod = QAMModem(m=paramTx.M)\n",
    "\n",
    "    freqGrid = paramTx.freqGrid\n",
    "    print(\n",
    "        \"Demodulating channel #%d , fc: %.4f THz, λ: %.4f nm\\n\"\n",
    "        % (\n",
    "            chIndex,\n",
    "            (Fc + freqGrid[chIndex]) / 1e12,\n",
    "            const.c / (Fc + freqGrid[chIndex]) / 1e-9,\n",
    "        )\n",
    "    )\n",
    "\n",
    "    symbTx = symbTx_[:, :, chIndex]\n",
    "\n",
    "    Plo = 10 ** (Plo_dBm / 10) * 1e-3  # power in W\n",
    "\n",
    "    print(\n",
    "        \"Local oscillator P: %.2f dBm, lw: %.2f kHz, FO: %.2f MHz\"\n",
    "        % (Plo_dBm, lw / 1e3, FO / 1e6)\n",
    "    )\n",
    "\n",
    "    # generate LO field\n",
    "    π = np.pi\n",
    "    t = np.arange(0, len(sigCh))*Ts\n",
    "    ϕ_pn_lo = phaseNoise(lw, len(sigCh), Ts)\n",
    "\n",
    "    sigLO = np.sqrt(Plo) * np.exp(-1j * (2 * π * FO * t + ϕ_lo + ϕ_pn_lo))\n",
    "\n",
    "    # Add LO to the received signal\n",
    "    sigRx = np.sqrt(Plo) + sigCh * np.exp(1j * (2 * π * FO * t + ϕ_lo + ϕ_pn_lo))\n",
    "    sfm = sigRx.copy()\n",
    "\n",
    "    print('CSPR = %.2f dB' % (10*np.log10(signal_power(sigLO)/signal_power(sigCh))))\n",
    "\n",
    "    # ### Phase-retrieval stage\n",
    "\n",
    "    # In[4]:\n",
    "    \n",
    "    # simulate ideal direct-detection optical receiver\n",
    "    Ipd = photodiode(sigRx, paramPD)\n",
    "    Amp = np.sqrt(Ipd)\n",
    "    Amp = resample(Amp, paramADC)\n",
    "\n",
    "    # resampling to ADC sampling rate\n",
    "    sigCh = resample(sigCh, paramADC)\n",
    "    sfm = resample(sfm, paramADC)\n",
    "    newFs = paramADC.SpS_out*paramTx.Rs\n",
    "\n",
    "    sfm = sfm/np.sqrt(signal_power(sfm))\n",
    "    \n",
    "    sigPhase = np.angle(sfm) # get signal phase samples (labels) (L,)\n",
    "    sigAmp   = np.pad(np.abs(sfm), (int(N/2), int(N/2)), 'constant') # get signal amplitude samples (L,)\n",
    "\n",
    "    # create set of input features\n",
    "    X_input = np.zeros((len(sigPhase), N)) #(L,N)\n",
    "\n",
    "    for indPhase in range(len(sigPhase)):\n",
    "        X_input[indPhase] = sigAmp[indPhase:N+indPhase]\n",
    "\n",
    "    sigRx_NN = model.predict(X_input)\n",
    "\n",
    "    # optical field reconstruction\n",
    "    sigRx = sigRx_NN[:,0]+1j*sigRx_NN[:,1]\n",
    "\n",
    "    # remove DC level\n",
    "    sigRx -= np.sqrt(Plo) # np.sqrt(Plo) \n",
    "\n",
    "    # downshift to baseband\n",
    "    t = np.arange(0, len(sigRx))*(1/newFs)\n",
    "    sigRx *= np.exp(-1j * (2 * π * FO * t))\n",
    "\n",
    "    # correct for (possible) phase ambiguity\n",
    "    rot = np.mean(sigCh/sigRx)\n",
    "    sigRx = rot * sigRx\n",
    "    sigRx = sigRx / np.sqrt(signal_power(sigRx))\n",
    "\n",
    "    # #### Standard receiver processing\n",
    "\n",
    "    # In[5]:\n",
    "\n",
    "    # resample to 2 samples/symbol:\n",
    "    paramRes = parameters()\n",
    "    paramRes.Rs = paramTx.Rs\n",
    "    paramRes.SpS_in = paramADC.SpS_out\n",
    "    paramRes.SpS_out = 2\n",
    "\n",
    "    sigRx = resample(sigRx, paramRes)\n",
    "\n",
    "    # Matched filtering and CD compensation\n",
    "\n",
    "    # Matched filtering\n",
    "    if paramTx.pulse == \"nrz\":\n",
    "        pulse = pulseShape(\"nrz\", paramADC.SpS_out)\n",
    "    elif paramTx.pulse == \"rrc\":\n",
    "        pulse = pulseShape(\n",
    "            \"rrc\", paramRes.SpS_out, N=paramTx.Ntaps, alpha=paramTx.alphaRRC, Ts=1 / paramTx.Rs\n",
    "        )\n",
    "\n",
    "    pulse = pulse / np.max(np.abs(pulse))\n",
    "    sigRx = firFilter(pulse, sigRx)\n",
    "\n",
    "    # plot constellations after matched filtering\n",
    "    #pconst(sigRx[0::paramRes.SpS_out], lim=True, R=3)\n",
    "\n",
    "    # CD compensation\n",
    "    sigRx = edc(sigRx, Ltotal, D, Fc, paramRes.SpS_out*paramTx.Rs)\n",
    "\n",
    "    #plot constellations after CD compensation\n",
    "    #pconst(sigRx[0::paramRes.SpS_out], lim=True, R=2)\n",
    "\n",
    "    # Downsampling to 2 sps and re-synchronization with transmitted sequences\n",
    "    sigRx = sigRx.reshape(-1, 1)\n",
    "\n",
    "    symbRx = symbolSync(sigRx, symbTx, 2)\n",
    "\n",
    "    # In[6]:\n",
    "\n",
    "    # Power normalization\n",
    "    x = sigRx\n",
    "    d = symbRx\n",
    "\n",
    "    x = x.reshape(len(x), 1) / np.sqrt(signal_power(x))\n",
    "    d = d.reshape(len(d), 1) / np.sqrt(signal_power(d))\n",
    "\n",
    "    # Adaptive equalization\n",
    "    mod = QAMModem(m=paramTx.M)\n",
    "\n",
    "    paramEq = parameters()\n",
    "    paramEq.nTaps = 15\n",
    "    paramEq.SpS = 2\n",
    "    paramEq.mu = [5e-3, 2e-3]\n",
    "    paramEq.numIter = 5\n",
    "    paramEq.storeCoeff = False\n",
    "    paramEq.alg = [\"nlms\", \"dd-lms\"]\n",
    "    paramEq.M = paramTx.M\n",
    "    paramEq.L = [20000, 80000]\n",
    "\n",
    "    y_EQ, H, errSq, Hiter = mimoAdaptEqualizer(x, dx=d, paramEq=paramEq)\n",
    "\n",
    "    discard = int(paramEq.L[0]/2)\n",
    "\n",
    "    #plot constellations after adaptive equalization\n",
    "    #pconst(y_EQ[discard:-discard, :], lim=True)\n",
    "\n",
    "    # In[7]:\n",
    "\n",
    "    # Carrier phase recovery\n",
    "    paramCPR = parameters()\n",
    "    paramCPR.alg = \"bps\"\n",
    "    paramCPR.M = paramTx.M\n",
    "    paramCPR.N = 75\n",
    "    paramCPR.B = 64\n",
    "    paramCPR.pilotInd = np.arange(0, len(y_EQ), 20)\n",
    "\n",
    "    y_CPR, θ = cpr(y_EQ, symbTx=d, paramCPR=paramCPR)\n",
    "\n",
    "    y_CPR = y_CPR / np.sqrt(signal_power(y_CPR))\n",
    "\n",
    "    discard = 5000\n",
    "\n",
    "    # plot constellations after CPR\n",
    "    #pconst(y_CPR[discard:-discard, :], lim=True)\n",
    "\n",
    "    # #### Evaluate transmission metrics\n",
    "\n",
    "    # In[8]:\n",
    "\n",
    "    # correct for (possible) phase ambiguity\n",
    "    for k in range(y_CPR.shape[1]):\n",
    "        rot = np.mean(d[:, k] / y_CPR[:, k])\n",
    "        y_CPR[:, k] = rot * y_CPR[:, k]\n",
    "\n",
    "    y_CPR = y_CPR / np.sqrt(signal_power(y_CPR))\n",
    "\n",
    "    ind = np.arange(discard, d.shape[0] - discard)\n",
    "    BER_NN[indNN], SER_NN[indNN], SNR_NN[indNN] = fastBERcalc(y_CPR[ind, :], d[ind, :], paramTx.M, 'qam')\n",
    "    GMI_NN[indNN], _ = monteCarloGMI(y_CPR[ind, :], d[ind, :], paramTx.M, 'qam')\n",
    "    MI_NN[indNN] = monteCarloMI(y_CPR[ind, :], d[ind, :], paramTx.M, 'qam')\n",
    "\n",
    "    print(\"Results:\\n\")\n",
    "    print(\"SER: %.2e\" % (SER_NN[indNN]))\n",
    "    print(\"BER: %.2e\" % (BER_NN[indNN]))\n",
    "    print(\"SNR: %.2f dB\" % (SNR_NN[indNN]))\n",
    "    print(\"MI: %.2f bits\" % (MI_NN[indNN]))\n",
    "    print(\"GMI: %.2f bits\" % (GMI_NN[indNN]))"
   ]
  },
  {
   "cell_type": "code",
   "execution_count": 25,
   "metadata": {},
   "outputs": [
    {
     "name": "stderr",
     "output_type": "stream",
     "text": [
      "C:\\Users\\optic\\AppData\\Local\\Temp\\ipykernel_32\\796388795.py:4: RuntimeWarning: divide by zero encountered in log10\n",
      "  plt.plot(Rolloff, np.log10(BER_NN), '-o', label='Rede Neural')\n",
      "C:\\Users\\optic\\AppData\\Local\\Temp\\ipykernel_32\\796388795.py:5: RuntimeWarning: divide by zero encountered in log10\n",
      "  plt.plot(Rolloff, np.log10(BER_KK), '-x', label='Algoritmo de KK')\n",
      "C:\\Users\\optic\\AppData\\Local\\Temp\\ipykernel_32\\796388795.py:22: RuntimeWarning: divide by zero encountered in log10\n",
      "  plt.plot(Rolloff, np.log10(SER_NN), '-o', label='Rede Neural')\n",
      "C:\\Users\\optic\\AppData\\Local\\Temp\\ipykernel_32\\796388795.py:23: RuntimeWarning: divide by zero encountered in log10\n",
      "  plt.plot(Rolloff, np.log10(SER_KK), '-x', label='Algoritmo de KK')\n"
     ]
    },
    {
     "data": {
      "text/plain": [
       "Text(0.5, 1.0, 'SER vs Rolloff')"
      ]
     },
     "execution_count": 25,
     "metadata": {},
     "output_type": "execute_result"
    },
    {
     "data": {
      "image/png": "[encoded data removed]",
      "text/plain": [
       "<Figure size 1300x800 with 3 Axes>"
      ]
     },
     "metadata": {},
     "output_type": "display_data"
    }
   ],
   "source": [
    "plt.figure(num=None, figsize=(13, 8))\n",
    "\n",
    "grafico1 = plt.subplot(2, 1, 2)\n",
    "plt.plot(Rolloff, np.log10(BER_NN), '-o', label='Rede Neural')\n",
    "plt.plot(Rolloff, np.log10(BER_KK), '-x', label='Algoritmo de KK')\n",
    "plt.xlabel('Roll-off RRC')\n",
    "plt.ylabel('$log10(BER)$')\n",
    "plt.grid()\n",
    "plt.legend()\n",
    "plt.title('BER vs Rolloff')\n",
    "\n",
    "grafico2 = plt.subplot(2, 2, 2, sharex=grafico1)\n",
    "plt.plot(Rolloff, SNR_NN, '-o', label='Rede Neural')\n",
    "plt.plot(Rolloff, SNR_KK, '-x', label='Algoritmo de KK')\n",
    "plt.xlabel('Roll-off RRC')\n",
    "plt.ylabel('$SNR(db)$')\n",
    "plt.grid()\n",
    "plt.legend()\n",
    "plt.title('SNR vs Rolloff')\n",
    "\n",
    "grafico3 = plt.subplot(2, 2, 1, sharex=grafico2)\n",
    "plt.plot(Rolloff, np.log10(SER_NN), '-o', label='Rede Neural')\n",
    "plt.plot(Rolloff, np.log10(SER_KK), '-x', label='Algoritmo de KK')\n",
    "plt.xlabel('Roll-off RRC')\n",
    "plt.ylabel('$SER$')\n",
    "plt.grid()\n",
    "plt.legend()\n",
    "plt.title('SER vs Rolloff')\n"
   ]
  }
 ],
 "metadata": {
  "kernelspec": {
   "display_name": "Python 3",
   "language": "python",
   "name": "python3"
  },
  "language_info": {
   "codemirror_mode": {
    "name": "ipython",
    "version": 3
   },
   "file_extension": ".py",
   "mimetype": "text/x-python",
   "name": "python",
   "nbconvert_exporter": "python",
   "pygments_lexer": "ipython3",
   "version": "3.9.13 (tags/v3.9.13:6de2ca5, May 17 2022, 16:36:42) [MSC v.1929 64 bit (AMD64)]"
  },
  "orig_nbformat": 4,
  "vscode": {
   "interpreter": {
    "hash": "4cead383004ffea04c5a085330d2187e41b90a08e531203cefc944d3da80249c"
   }
  }
 },
 "nbformat": 4,
 "nbformat_minor": 2
}
