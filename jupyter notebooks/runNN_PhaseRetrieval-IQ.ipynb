{
 "cells": [
  {
   "cell_type": "code",
   "execution_count": 2,
   "metadata": {},
   "outputs": [],
   "source": [
    "import matplotlib.pyplot as plt\n",
    "import numpy as np\n",
    "\n",
    "from commpy.modulation import QAMModem\n",
    "\n",
    "from optic.dsp import pulseShape, firFilter, decimate, symbolSync, resample\n",
    "from optic.models import phaseNoise, linFiberCh, KramersKronigRx, photodiode, awgn\n",
    "\n",
    "from optic.tx import simpleWDMTx\n",
    "from optic.core import parameters\n",
    "from optic.equalization import edc, mimoAdaptEqualizer\n",
    "from optic.carrierRecovery import cpr\n",
    "from optic.metrics import fastBERcalc, monteCarloGMI, monteCarloMI, signal_power\n",
    "from optic.plot import pconst\n",
    "\n",
    "import scipy.constants as const\n",
    "from tqdm.notebook import tqdm\n",
    "\n",
    "from tensorflow.keras.layers import Dense, BatchNormalization, Conv1DTranspose, Conv1D, Flatten, Add\n",
    "from tensorflow.keras.models import Sequential\n",
    "from tensorflow.keras.callbacks import EarlyStopping\n",
    "import tensorflow as tf\n",
    "from tensorflow.keras import backend as K"
   ]
  },
  {
   "cell_type": "code",
   "execution_count": 3,
   "metadata": {},
   "outputs": [],
   "source": [
    "figurePath = 'C:/Users/optic/Documents/PIVIC-PIBIC-Comunicacoes-Opticas/resultados/Figuras/Pibic'\n",
    "path_data  = r'C:/Users/optic/Documents/PIVIC-PIBIC-Comunicacoes-Opticas/resultados/Data/Pibic/'\n",
    "path_mlp   = 'C:/Users/optic/Documents/PIVIC-PIBIC-Comunicacoes-Opticas/models/NN_models/' \n",
    "path_conv  = 'C:/Users/optic/Documents/PIVIC-PIBIC-Comunicacoes-Opticas/models/CONV_models/'\n",
    "\n",
    "saveData = True\n",
    "N = 128 # number of input amplitude samples to the NN\n",
    "Interactions = 5"
   ]
  },
  {
   "cell_type": "markdown",
   "metadata": {},
   "source": [
    "## Simulation of a single polarization optical signal transmission"
   ]
  },
  {
   "cell_type": "code",
   "execution_count": 3,
   "metadata": {},
   "outputs": [],
   "source": [
    "## Transmitter parameters:\n",
    "paramTx = parameters()\n",
    "paramTx.M = 16                 # order of the modulation format\n",
    "paramTx.Rs = 32e9              # symbol rate [baud]\n",
    "paramTx.SpS = 4                # samples per symbol\n",
    "paramTx.Nbits = 400000         # total number of bits per polarization\n",
    "paramTx.pulse = \"rrc\"          # pulse shaping filter\n",
    "paramTx.Ntaps = 1024           # number of pulse shaping filter coefficients\n",
    "#paramTx.alphaRRC = 0.01       # RRC rolloff\n",
    "paramTx.Pch_dBm = 0            # power of the optical signal [dBm]\n",
    "paramTx.Nch = 1                # number of WDM channels\n",
    "paramTx.Fc = 193.1e12          # central frequency of the optical spectrum\n",
    "paramTx.freqSpac = 37.5e9      # WDM grid spacing\n",
    "\n",
    "## Optical channel parameters:\n",
    "Ltotal = 100     # total link distance [km]\n",
    "alpha = 0        # fiber loss parameter [dB/km]\n",
    "D = 16           # fiber dispersion parameter [ps/nm/km]\n",
    "Fc = paramTx.Fc  # central optical frequency of the WDM spectrum [Hz]\n",
    "\n",
    "## Receiver parameters:\n",
    "\n",
    "# local oscillator (LO)\n",
    "FO = paramTx.Rs/2 + 1e9  # frequency offset\n",
    "lw = 0*200e3       # linewidth\n",
    "ϕ_lo = 0           # initial phase in rad\n",
    "Plo_dBm = 12       # power in dBm\n",
    "\n",
    "# ADC sampling rate\n",
    "paramADC = parameters()\n",
    "paramADC.Rs = paramTx.Rs\n",
    "paramADC.SpS_in = paramTx.SpS\n",
    "paramADC.SpS_out = 4\n",
    "\n",
    "## General simulation parameters:\n",
    "chIndex = 0  # index of the channel to be demodulated\n",
    "plotPSD = True\n",
    "Fs = paramTx.Rs * paramTx.SpS  # simulation sampling rate\n",
    "Ts = 1 / Fs\n",
    "\n",
    "# photodiode parameters\n",
    "paramPD = parameters()\n",
    "paramPD.B  = 1.1*paramTx.Rs\n",
    "paramPD.Fs = Fs"
   ]
  },
  {
   "cell_type": "markdown",
   "metadata": {},
   "source": [
    "## Run BER vs rolloff vs FO for all cases"
   ]
  },
  {
   "cell_type": "code",
   "execution_count": 5,
   "metadata": {},
   "outputs": [
    {
     "data": {
      "application/vnd.jupyter.widget-view+json": {
       "model_id": "11a1ad9f351a4b79bac695edae83faea",
       "version_major": 2,
       "version_minor": 0
      },
      "text/plain": [
       "  0%|          | 0/6 [00:00<?, ?it/s]"
      ]
     },
     "metadata": {},
     "output_type": "display_data"
    },
    {
     "data": {
      "application/vnd.jupyter.widget-view+json": {
       "model_id": "0182fd4541694da5ba52d1edb0528d5e",
       "version_major": 2,
       "version_minor": 0
      },
      "text/plain": [
       "  0%|          | 0/18 [00:00<?, ?it/s]"
      ]
     },
     "metadata": {},
     "output_type": "display_data"
    },
    {
     "data": {
      "application/vnd.jupyter.widget-view+json": {
       "model_id": "f73a7ff99dbc4a7884267f83360929d6",
       "version_major": 2,
       "version_minor": 0
      },
      "text/plain": [
       "  0%|          | 0/1 [00:00<?, ?it/s]"
      ]
     },
     "metadata": {},
     "output_type": "display_data"
    },
    {
     "name": "stdout",
     "output_type": "stream",
     "text": [
      "CSPR = 12.00 dB\n"
     ]
    },
    {
     "ename": "KeyboardInterrupt",
     "evalue": "",
     "output_type": "error",
     "traceback": [
      "\u001b[1;31m---------------------------------------------------------------------------\u001b[0m",
      "\u001b[1;31mKeyboardInterrupt\u001b[0m                         Traceback (most recent call last)",
      "\u001b[1;32mc:\\Users\\optic\\Documents\\PIVIC-PIBIC-Comunicacoes-Opticas\\jupyter notebooks\\runNN_PhaseRetrieval-IQ.ipynb Cell 6\u001b[0m in \u001b[0;36m1\n\u001b[0;32m    <a href='vscode-notebook-cell:/c%3A/Users/optic/Documents/PIVIC-PIBIC-Comunicacoes-Opticas/jupyter%20notebooks/runNN_PhaseRetrieval-IQ.ipynb#W5sZmlsZQ%3D%3D?line=151'>152</a>\u001b[0m paramEq\u001b[39m.\u001b[39mL \u001b[39m=\u001b[39m [\u001b[39m20000\u001b[39m, \u001b[39m80000\u001b[39m]\n\u001b[0;32m    <a href='vscode-notebook-cell:/c%3A/Users/optic/Documents/PIVIC-PIBIC-Comunicacoes-Opticas/jupyter%20notebooks/runNN_PhaseRetrieval-IQ.ipynb#W5sZmlsZQ%3D%3D?line=152'>153</a>\u001b[0m paramEq\u001b[39m.\u001b[39mprgsBar \u001b[39m=\u001b[39m \u001b[39mFalse\u001b[39;00m\n\u001b[1;32m--> <a href='vscode-notebook-cell:/c%3A/Users/optic/Documents/PIVIC-PIBIC-Comunicacoes-Opticas/jupyter%20notebooks/runNN_PhaseRetrieval-IQ.ipynb#W5sZmlsZQ%3D%3D?line=154'>155</a>\u001b[0m y_EQ, H, errSq, Hiter \u001b[39m=\u001b[39m mimoAdaptEqualizer(x, dx\u001b[39m=\u001b[39;49md, paramEq\u001b[39m=\u001b[39;49mparamEq)\n\u001b[0;32m    <a href='vscode-notebook-cell:/c%3A/Users/optic/Documents/PIVIC-PIBIC-Comunicacoes-Opticas/jupyter%20notebooks/runNN_PhaseRetrieval-IQ.ipynb#W5sZmlsZQ%3D%3D?line=156'>157</a>\u001b[0m \u001b[39m# Carrier phase recovery\u001b[39;00m\n\u001b[0;32m    <a href='vscode-notebook-cell:/c%3A/Users/optic/Documents/PIVIC-PIBIC-Comunicacoes-Opticas/jupyter%20notebooks/runNN_PhaseRetrieval-IQ.ipynb#W5sZmlsZQ%3D%3D?line=157'>158</a>\u001b[0m paramCPR \u001b[39m=\u001b[39m parameters()\n",
      "File \u001b[1;32mc:\\Users\\optic\\AppData\\Local\\Programs\\Python\\Python39\\lib\\site-packages\\optic\\equalization.py:136\u001b[0m, in \u001b[0;36mmimoAdaptEqualizer\u001b[1;34m(x, dx, paramEq)\u001b[0m\n\u001b[0;32m    132\u001b[0m     \u001b[39mfor\u001b[39;00m indIter \u001b[39min\u001b[39;00m tqdm(\u001b[39mrange\u001b[39m(numIter), disable\u001b[39m=\u001b[39m\u001b[39mnot\u001b[39;00m (prgsBar)):\n\u001b[0;32m    133\u001b[0m         logg\u001b[39m.\u001b[39minfo(\n\u001b[0;32m    134\u001b[0m             \u001b[39mf\u001b[39m\u001b[39m\"\u001b[39m\u001b[39m{\u001b[39;00mrunAlg\u001b[39m}\u001b[39;00m\u001b[39m pre-convergence training iteration #%d\u001b[39m\u001b[39m\"\u001b[39m, indIter\n\u001b[0;32m    135\u001b[0m         )\n\u001b[1;32m--> 136\u001b[0m         yEq[nStart:nEnd, :], H, errSq[:, nStart:nEnd], Hiter \u001b[39m=\u001b[39m coreAdaptEq(\n\u001b[0;32m    137\u001b[0m             x[nStart \u001b[39m*\u001b[39;49m SpS : nEnd \u001b[39m*\u001b[39;49m SpS, :],\n\u001b[0;32m    138\u001b[0m             dx[nStart:nEnd, :],\n\u001b[0;32m    139\u001b[0m             SpS,\n\u001b[0;32m    140\u001b[0m             H,\n\u001b[0;32m    141\u001b[0m             L[indstage],\n\u001b[0;32m    142\u001b[0m             mu[indstage],\n\u001b[0;32m    143\u001b[0m             lambdaRLS,\n\u001b[0;32m    144\u001b[0m             nTaps,\n\u001b[0;32m    145\u001b[0m             storeCoeff,\n\u001b[0;32m    146\u001b[0m             runAlg,\n\u001b[0;32m    147\u001b[0m             constSymb,\n\u001b[0;32m    148\u001b[0m         )\n\u001b[0;32m    149\u001b[0m         logg\u001b[39m.\u001b[39minfo(\n\u001b[0;32m    150\u001b[0m             \u001b[39mf\u001b[39m\u001b[39m\"\u001b[39m\u001b[39m{\u001b[39;00mrunAlg\u001b[39m}\u001b[39;00m\u001b[39m MSE = %.6f.\u001b[39m\u001b[39m\"\u001b[39m, np\u001b[39m.\u001b[39mnanmean(errSq[:, nStart:nEnd])\n\u001b[0;32m    151\u001b[0m         )\n\u001b[0;32m    152\u001b[0m \u001b[39melse\u001b[39;00m:\n",
      "File \u001b[1;32mc:\\Users\\optic\\AppData\\Local\\Programs\\Python\\Python39\\lib\\site-packages\\numba\\core\\dispatcher.py:420\u001b[0m, in \u001b[0;36m_DispatcherBase._compile_for_args\u001b[1;34m(self, *args, **kws)\u001b[0m\n\u001b[0;32m    418\u001b[0m return_val \u001b[39m=\u001b[39m \u001b[39mNone\u001b[39;00m\n\u001b[0;32m    419\u001b[0m \u001b[39mtry\u001b[39;00m:\n\u001b[1;32m--> 420\u001b[0m     return_val \u001b[39m=\u001b[39m \u001b[39mself\u001b[39;49m\u001b[39m.\u001b[39;49mcompile(\u001b[39mtuple\u001b[39;49m(argtypes))\n\u001b[0;32m    421\u001b[0m \u001b[39mexcept\u001b[39;00m errors\u001b[39m.\u001b[39mForceLiteralArg \u001b[39mas\u001b[39;00m e:\n\u001b[0;32m    422\u001b[0m     \u001b[39m# Received request for compiler re-entry with the list of arguments\u001b[39;00m\n\u001b[0;32m    423\u001b[0m     \u001b[39m# indicated by e.requested_args.\u001b[39;00m\n\u001b[0;32m    424\u001b[0m     \u001b[39m# First, check if any of these args are already Literal-ized\u001b[39;00m\n\u001b[0;32m    425\u001b[0m     already_lit_pos \u001b[39m=\u001b[39m [i \u001b[39mfor\u001b[39;00m i \u001b[39min\u001b[39;00m e\u001b[39m.\u001b[39mrequested_args\n\u001b[0;32m    426\u001b[0m                        \u001b[39mif\u001b[39;00m \u001b[39misinstance\u001b[39m(args[i], types\u001b[39m.\u001b[39mLiteral)]\n",
      "File \u001b[1;32mc:\\Users\\optic\\AppData\\Local\\Programs\\Python\\Python39\\lib\\site-packages\\numba\\core\\dispatcher.py:965\u001b[0m, in \u001b[0;36mDispatcher.compile\u001b[1;34m(self, sig)\u001b[0m\n\u001b[0;32m    963\u001b[0m \u001b[39mwith\u001b[39;00m ev\u001b[39m.\u001b[39mtrigger_event(\u001b[39m\"\u001b[39m\u001b[39mnumba:compile\u001b[39m\u001b[39m\"\u001b[39m, data\u001b[39m=\u001b[39mev_details):\n\u001b[0;32m    964\u001b[0m     \u001b[39mtry\u001b[39;00m:\n\u001b[1;32m--> 965\u001b[0m         cres \u001b[39m=\u001b[39m \u001b[39mself\u001b[39;49m\u001b[39m.\u001b[39;49m_compiler\u001b[39m.\u001b[39;49mcompile(args, return_type)\n\u001b[0;32m    966\u001b[0m     \u001b[39mexcept\u001b[39;00m errors\u001b[39m.\u001b[39mForceLiteralArg \u001b[39mas\u001b[39;00m e:\n\u001b[0;32m    967\u001b[0m         \u001b[39mdef\u001b[39;00m \u001b[39mfolded\u001b[39m(args, kws):\n",
      "File \u001b[1;32mc:\\Users\\optic\\AppData\\Local\\Programs\\Python\\Python39\\lib\\site-packages\\numba\\core\\dispatcher.py:125\u001b[0m, in \u001b[0;36m_FunctionCompiler.compile\u001b[1;34m(self, args, return_type)\u001b[0m\n\u001b[0;32m    124\u001b[0m \u001b[39mdef\u001b[39;00m \u001b[39mcompile\u001b[39m(\u001b[39mself\u001b[39m, args, return_type):\n\u001b[1;32m--> 125\u001b[0m     status, retval \u001b[39m=\u001b[39m \u001b[39mself\u001b[39;49m\u001b[39m.\u001b[39;49m_compile_cached(args, return_type)\n\u001b[0;32m    126\u001b[0m     \u001b[39mif\u001b[39;00m status:\n\u001b[0;32m    127\u001b[0m         \u001b[39mreturn\u001b[39;00m retval\n",
      "File \u001b[1;32mc:\\Users\\optic\\AppData\\Local\\Programs\\Python\\Python39\\lib\\site-packages\\numba\\core\\dispatcher.py:139\u001b[0m, in \u001b[0;36m_FunctionCompiler._compile_cached\u001b[1;34m(self, args, return_type)\u001b[0m\n\u001b[0;32m    136\u001b[0m     \u001b[39mpass\u001b[39;00m\n\u001b[0;32m    138\u001b[0m \u001b[39mtry\u001b[39;00m:\n\u001b[1;32m--> 139\u001b[0m     retval \u001b[39m=\u001b[39m \u001b[39mself\u001b[39;49m\u001b[39m.\u001b[39;49m_compile_core(args, return_type)\n\u001b[0;32m    140\u001b[0m \u001b[39mexcept\u001b[39;00m errors\u001b[39m.\u001b[39mTypingError \u001b[39mas\u001b[39;00m e:\n\u001b[0;32m    141\u001b[0m     \u001b[39mself\u001b[39m\u001b[39m.\u001b[39m_failed_cache[key] \u001b[39m=\u001b[39m e\n",
      "File \u001b[1;32mc:\\Users\\optic\\AppData\\Local\\Programs\\Python\\Python39\\lib\\site-packages\\numba\\core\\dispatcher.py:152\u001b[0m, in \u001b[0;36m_FunctionCompiler._compile_core\u001b[1;34m(self, args, return_type)\u001b[0m\n\u001b[0;32m    149\u001b[0m flags \u001b[39m=\u001b[39m \u001b[39mself\u001b[39m\u001b[39m.\u001b[39m_customize_flags(flags)\n\u001b[0;32m    151\u001b[0m impl \u001b[39m=\u001b[39m \u001b[39mself\u001b[39m\u001b[39m.\u001b[39m_get_implementation(args, {})\n\u001b[1;32m--> 152\u001b[0m cres \u001b[39m=\u001b[39m compiler\u001b[39m.\u001b[39;49mcompile_extra(\u001b[39mself\u001b[39;49m\u001b[39m.\u001b[39;49mtargetdescr\u001b[39m.\u001b[39;49mtyping_context,\n\u001b[0;32m    153\u001b[0m                               \u001b[39mself\u001b[39;49m\u001b[39m.\u001b[39;49mtargetdescr\u001b[39m.\u001b[39;49mtarget_context,\n\u001b[0;32m    154\u001b[0m                               impl,\n\u001b[0;32m    155\u001b[0m                               args\u001b[39m=\u001b[39;49margs, return_type\u001b[39m=\u001b[39;49mreturn_type,\n\u001b[0;32m    156\u001b[0m                               flags\u001b[39m=\u001b[39;49mflags, \u001b[39mlocals\u001b[39;49m\u001b[39m=\u001b[39;49m\u001b[39mself\u001b[39;49m\u001b[39m.\u001b[39;49mlocals,\n\u001b[0;32m    157\u001b[0m                               pipeline_class\u001b[39m=\u001b[39;49m\u001b[39mself\u001b[39;49m\u001b[39m.\u001b[39;49mpipeline_class)\n\u001b[0;32m    158\u001b[0m \u001b[39m# Check typing error if object mode is used\u001b[39;00m\n\u001b[0;32m    159\u001b[0m \u001b[39mif\u001b[39;00m cres\u001b[39m.\u001b[39mtyping_error \u001b[39mis\u001b[39;00m \u001b[39mnot\u001b[39;00m \u001b[39mNone\u001b[39;00m \u001b[39mand\u001b[39;00m \u001b[39mnot\u001b[39;00m flags\u001b[39m.\u001b[39menable_pyobject:\n",
      "File \u001b[1;32mc:\\Users\\optic\\AppData\\Local\\Programs\\Python\\Python39\\lib\\site-packages\\numba\\core\\compiler.py:716\u001b[0m, in \u001b[0;36mcompile_extra\u001b[1;34m(typingctx, targetctx, func, args, return_type, flags, locals, library, pipeline_class)\u001b[0m\n\u001b[0;32m    692\u001b[0m \u001b[39m\"\"\"Compiler entry point\u001b[39;00m\n\u001b[0;32m    693\u001b[0m \n\u001b[0;32m    694\u001b[0m \u001b[39mParameter\u001b[39;00m\n\u001b[1;32m   (...)\u001b[0m\n\u001b[0;32m    712\u001b[0m \u001b[39m    compiler pipeline\u001b[39;00m\n\u001b[0;32m    713\u001b[0m \u001b[39m\"\"\"\u001b[39;00m\n\u001b[0;32m    714\u001b[0m pipeline \u001b[39m=\u001b[39m pipeline_class(typingctx, targetctx, library,\n\u001b[0;32m    715\u001b[0m                           args, return_type, flags, \u001b[39mlocals\u001b[39m)\n\u001b[1;32m--> 716\u001b[0m \u001b[39mreturn\u001b[39;00m pipeline\u001b[39m.\u001b[39;49mcompile_extra(func)\n",
      "File \u001b[1;32mc:\\Users\\optic\\AppData\\Local\\Programs\\Python\\Python39\\lib\\site-packages\\numba\\core\\compiler.py:452\u001b[0m, in \u001b[0;36mCompilerBase.compile_extra\u001b[1;34m(self, func)\u001b[0m\n\u001b[0;32m    450\u001b[0m \u001b[39mself\u001b[39m\u001b[39m.\u001b[39mstate\u001b[39m.\u001b[39mlifted \u001b[39m=\u001b[39m ()\n\u001b[0;32m    451\u001b[0m \u001b[39mself\u001b[39m\u001b[39m.\u001b[39mstate\u001b[39m.\u001b[39mlifted_from \u001b[39m=\u001b[39m \u001b[39mNone\u001b[39;00m\n\u001b[1;32m--> 452\u001b[0m \u001b[39mreturn\u001b[39;00m \u001b[39mself\u001b[39;49m\u001b[39m.\u001b[39;49m_compile_bytecode()\n",
      "File \u001b[1;32mc:\\Users\\optic\\AppData\\Local\\Programs\\Python\\Python39\\lib\\site-packages\\numba\\core\\compiler.py:520\u001b[0m, in \u001b[0;36mCompilerBase._compile_bytecode\u001b[1;34m(self)\u001b[0m\n\u001b[0;32m    516\u001b[0m \u001b[39m\"\"\"\u001b[39;00m\n\u001b[0;32m    517\u001b[0m \u001b[39mPopulate and run pipeline for bytecode input\u001b[39;00m\n\u001b[0;32m    518\u001b[0m \u001b[39m\"\"\"\u001b[39;00m\n\u001b[0;32m    519\u001b[0m \u001b[39massert\u001b[39;00m \u001b[39mself\u001b[39m\u001b[39m.\u001b[39mstate\u001b[39m.\u001b[39mfunc_ir \u001b[39mis\u001b[39;00m \u001b[39mNone\u001b[39;00m\n\u001b[1;32m--> 520\u001b[0m \u001b[39mreturn\u001b[39;00m \u001b[39mself\u001b[39;49m\u001b[39m.\u001b[39;49m_compile_core()\n",
      "File \u001b[1;32mc:\\Users\\optic\\AppData\\Local\\Programs\\Python\\Python39\\lib\\site-packages\\numba\\core\\compiler.py:486\u001b[0m, in \u001b[0;36mCompilerBase._compile_core\u001b[1;34m(self)\u001b[0m\n\u001b[0;32m    484\u001b[0m res \u001b[39m=\u001b[39m \u001b[39mNone\u001b[39;00m\n\u001b[0;32m    485\u001b[0m \u001b[39mtry\u001b[39;00m:\n\u001b[1;32m--> 486\u001b[0m     pm\u001b[39m.\u001b[39;49mrun(\u001b[39mself\u001b[39;49m\u001b[39m.\u001b[39;49mstate)\n\u001b[0;32m    487\u001b[0m     \u001b[39mif\u001b[39;00m \u001b[39mself\u001b[39m\u001b[39m.\u001b[39mstate\u001b[39m.\u001b[39mcr \u001b[39mis\u001b[39;00m \u001b[39mnot\u001b[39;00m \u001b[39mNone\u001b[39;00m:\n\u001b[0;32m    488\u001b[0m         \u001b[39mbreak\u001b[39;00m\n",
      "File \u001b[1;32mc:\\Users\\optic\\AppData\\Local\\Programs\\Python\\Python39\\lib\\site-packages\\numba\\core\\compiler_machinery.py:356\u001b[0m, in \u001b[0;36mPassManager.run\u001b[1;34m(self, state)\u001b[0m\n\u001b[0;32m    354\u001b[0m pass_inst \u001b[39m=\u001b[39m _pass_registry\u001b[39m.\u001b[39mget(pss)\u001b[39m.\u001b[39mpass_inst\n\u001b[0;32m    355\u001b[0m \u001b[39mif\u001b[39;00m \u001b[39misinstance\u001b[39m(pass_inst, CompilerPass):\n\u001b[1;32m--> 356\u001b[0m     \u001b[39mself\u001b[39;49m\u001b[39m.\u001b[39;49m_runPass(idx, pass_inst, state)\n\u001b[0;32m    357\u001b[0m \u001b[39melse\u001b[39;00m:\n\u001b[0;32m    358\u001b[0m     \u001b[39mraise\u001b[39;00m \u001b[39mBaseException\u001b[39;00m(\u001b[39m\"\u001b[39m\u001b[39mLegacy pass in use\u001b[39m\u001b[39m\"\u001b[39m)\n",
      "File \u001b[1;32mc:\\Users\\optic\\AppData\\Local\\Programs\\Python\\Python39\\lib\\site-packages\\numba\\core\\compiler_lock.py:35\u001b[0m, in \u001b[0;36m_CompilerLock.__call__.<locals>._acquire_compile_lock\u001b[1;34m(*args, **kwargs)\u001b[0m\n\u001b[0;32m     32\u001b[0m \u001b[39m@functools\u001b[39m\u001b[39m.\u001b[39mwraps(func)\n\u001b[0;32m     33\u001b[0m \u001b[39mdef\u001b[39;00m \u001b[39m_acquire_compile_lock\u001b[39m(\u001b[39m*\u001b[39margs, \u001b[39m*\u001b[39m\u001b[39m*\u001b[39mkwargs):\n\u001b[0;32m     34\u001b[0m     \u001b[39mwith\u001b[39;00m \u001b[39mself\u001b[39m:\n\u001b[1;32m---> 35\u001b[0m         \u001b[39mreturn\u001b[39;00m func(\u001b[39m*\u001b[39margs, \u001b[39m*\u001b[39m\u001b[39m*\u001b[39mkwargs)\n",
      "File \u001b[1;32mc:\\Users\\optic\\AppData\\Local\\Programs\\Python\\Python39\\lib\\site-packages\\numba\\core\\compiler_machinery.py:311\u001b[0m, in \u001b[0;36mPassManager._runPass\u001b[1;34m(self, index, pss, internal_state)\u001b[0m\n\u001b[0;32m    309\u001b[0m     mutated \u001b[39m|\u001b[39m\u001b[39m=\u001b[39m check(pss\u001b[39m.\u001b[39mrun_initialization, internal_state)\n\u001b[0;32m    310\u001b[0m \u001b[39mwith\u001b[39;00m SimpleTimer() \u001b[39mas\u001b[39;00m pass_time:\n\u001b[1;32m--> 311\u001b[0m     mutated \u001b[39m|\u001b[39m\u001b[39m=\u001b[39m check(pss\u001b[39m.\u001b[39;49mrun_pass, internal_state)\n\u001b[0;32m    312\u001b[0m \u001b[39mwith\u001b[39;00m SimpleTimer() \u001b[39mas\u001b[39;00m finalize_time:\n\u001b[0;32m    313\u001b[0m     mutated \u001b[39m|\u001b[39m\u001b[39m=\u001b[39m check(pss\u001b[39m.\u001b[39mrun_finalizer, internal_state)\n",
      "File \u001b[1;32mc:\\Users\\optic\\AppData\\Local\\Programs\\Python\\Python39\\lib\\site-packages\\numba\\core\\compiler_machinery.py:273\u001b[0m, in \u001b[0;36mPassManager._runPass.<locals>.check\u001b[1;34m(func, compiler_state)\u001b[0m\n\u001b[0;32m    272\u001b[0m \u001b[39mdef\u001b[39;00m \u001b[39mcheck\u001b[39m(func, compiler_state):\n\u001b[1;32m--> 273\u001b[0m     mangled \u001b[39m=\u001b[39m func(compiler_state)\n\u001b[0;32m    274\u001b[0m     \u001b[39mif\u001b[39;00m mangled \u001b[39mnot\u001b[39;00m \u001b[39min\u001b[39;00m (\u001b[39mTrue\u001b[39;00m, \u001b[39mFalse\u001b[39;00m):\n\u001b[0;32m    275\u001b[0m         msg \u001b[39m=\u001b[39m (\u001b[39m\"\u001b[39m\u001b[39mCompilerPass implementations should return True/False. \u001b[39m\u001b[39m\"\u001b[39m\n\u001b[0;32m    276\u001b[0m                \u001b[39m\"\u001b[39m\u001b[39mCompilerPass with name \u001b[39m\u001b[39m'\u001b[39m\u001b[39m%s\u001b[39;00m\u001b[39m'\u001b[39m\u001b[39m did not.\u001b[39m\u001b[39m\"\u001b[39m)\n",
      "File \u001b[1;32mc:\\Users\\optic\\AppData\\Local\\Programs\\Python\\Python39\\lib\\site-packages\\numba\\core\\typed_passes.py:394\u001b[0m, in \u001b[0;36mNativeLowering.run_pass\u001b[1;34m(self, state)\u001b[0m\n\u001b[0;32m    391\u001b[0m \u001b[39mwith\u001b[39;00m targetctx\u001b[39m.\u001b[39mpush_code_library(library):\n\u001b[0;32m    392\u001b[0m     lower \u001b[39m=\u001b[39m lowering\u001b[39m.\u001b[39mLower(targetctx, library, fndesc, interp,\n\u001b[0;32m    393\u001b[0m                            metadata\u001b[39m=\u001b[39mmetadata)\n\u001b[1;32m--> 394\u001b[0m     lower\u001b[39m.\u001b[39;49mlower()\n\u001b[0;32m    395\u001b[0m     \u001b[39mif\u001b[39;00m \u001b[39mnot\u001b[39;00m flags\u001b[39m.\u001b[39mno_cpython_wrapper:\n\u001b[0;32m    396\u001b[0m         lower\u001b[39m.\u001b[39mcreate_cpython_wrapper(flags\u001b[39m.\u001b[39mrelease_gil)\n",
      "File \u001b[1;32mc:\\Users\\optic\\AppData\\Local\\Programs\\Python\\Python39\\lib\\site-packages\\numba\\core\\lowering.py:168\u001b[0m, in \u001b[0;36mBaseLower.lower\u001b[1;34m(self)\u001b[0m\n\u001b[0;32m    166\u001b[0m \u001b[39mif\u001b[39;00m \u001b[39mself\u001b[39m\u001b[39m.\u001b[39mgenerator_info \u001b[39mis\u001b[39;00m \u001b[39mNone\u001b[39;00m:\n\u001b[0;32m    167\u001b[0m     \u001b[39mself\u001b[39m\u001b[39m.\u001b[39mgenlower \u001b[39m=\u001b[39m \u001b[39mNone\u001b[39;00m\n\u001b[1;32m--> 168\u001b[0m     \u001b[39mself\u001b[39;49m\u001b[39m.\u001b[39;49mlower_normal_function(\u001b[39mself\u001b[39;49m\u001b[39m.\u001b[39;49mfndesc)\n\u001b[0;32m    169\u001b[0m \u001b[39melse\u001b[39;00m:\n\u001b[0;32m    170\u001b[0m     \u001b[39mself\u001b[39m\u001b[39m.\u001b[39mgenlower \u001b[39m=\u001b[39m \u001b[39mself\u001b[39m\u001b[39m.\u001b[39mGeneratorLower(\u001b[39mself\u001b[39m)\n",
      "File \u001b[1;32mc:\\Users\\optic\\AppData\\Local\\Programs\\Python\\Python39\\lib\\site-packages\\numba\\core\\lowering.py:222\u001b[0m, in \u001b[0;36mBaseLower.lower_normal_function\u001b[1;34m(self, fndesc)\u001b[0m\n\u001b[0;32m    220\u001b[0m \u001b[39m# Init argument values\u001b[39;00m\n\u001b[0;32m    221\u001b[0m \u001b[39mself\u001b[39m\u001b[39m.\u001b[39mextract_function_arguments()\n\u001b[1;32m--> 222\u001b[0m entry_block_tail \u001b[39m=\u001b[39m \u001b[39mself\u001b[39;49m\u001b[39m.\u001b[39;49mlower_function_body()\n\u001b[0;32m    224\u001b[0m \u001b[39m# Close tail of entry block, do not emit debug metadata else the\u001b[39;00m\n\u001b[0;32m    225\u001b[0m \u001b[39m# unconditional jump gets associated with the metadata from the function\u001b[39;00m\n\u001b[0;32m    226\u001b[0m \u001b[39m# body end.\u001b[39;00m\n\u001b[0;32m    227\u001b[0m \u001b[39mwith\u001b[39;00m debuginfo\u001b[39m.\u001b[39msuspend_emission(\u001b[39mself\u001b[39m\u001b[39m.\u001b[39mbuilder):\n",
      "File \u001b[1;32mc:\\Users\\optic\\AppData\\Local\\Programs\\Python\\Python39\\lib\\site-packages\\numba\\core\\lowering.py:251\u001b[0m, in \u001b[0;36mBaseLower.lower_function_body\u001b[1;34m(self)\u001b[0m\n\u001b[0;32m    249\u001b[0m     bb \u001b[39m=\u001b[39m \u001b[39mself\u001b[39m\u001b[39m.\u001b[39mblkmap[offset]\n\u001b[0;32m    250\u001b[0m     \u001b[39mself\u001b[39m\u001b[39m.\u001b[39mbuilder\u001b[39m.\u001b[39mposition_at_end(bb)\n\u001b[1;32m--> 251\u001b[0m     \u001b[39mself\u001b[39;49m\u001b[39m.\u001b[39;49mlower_block(block)\n\u001b[0;32m    252\u001b[0m \u001b[39mself\u001b[39m\u001b[39m.\u001b[39mpost_lower()\n\u001b[0;32m    253\u001b[0m \u001b[39mreturn\u001b[39;00m entry_block_tail\n",
      "File \u001b[1;32mc:\\Users\\optic\\AppData\\Local\\Programs\\Python\\Python39\\lib\\site-packages\\numba\\core\\lowering.py:265\u001b[0m, in \u001b[0;36mBaseLower.lower_block\u001b[1;34m(self, block)\u001b[0m\n\u001b[0;32m    262\u001b[0m     defaulterrcls \u001b[39m=\u001b[39m partial(LoweringError, loc\u001b[39m=\u001b[39m\u001b[39mself\u001b[39m\u001b[39m.\u001b[39mloc)\n\u001b[0;32m    263\u001b[0m     \u001b[39mwith\u001b[39;00m new_error_context(\u001b[39m'\u001b[39m\u001b[39mlowering \u001b[39m\u001b[39m\"\u001b[39m\u001b[39m{inst}\u001b[39;00m\u001b[39m\"\u001b[39m\u001b[39m at \u001b[39m\u001b[39m{loc}\u001b[39;00m\u001b[39m'\u001b[39m, inst\u001b[39m=\u001b[39minst,\n\u001b[0;32m    264\u001b[0m                            loc\u001b[39m=\u001b[39m\u001b[39mself\u001b[39m\u001b[39m.\u001b[39mloc, errcls_\u001b[39m=\u001b[39mdefaulterrcls):\n\u001b[1;32m--> 265\u001b[0m         \u001b[39mself\u001b[39;49m\u001b[39m.\u001b[39;49mlower_inst(inst)\n\u001b[0;32m    266\u001b[0m \u001b[39mself\u001b[39m\u001b[39m.\u001b[39mpost_block(block)\n",
      "File \u001b[1;32mc:\\Users\\optic\\AppData\\Local\\Programs\\Python\\Python39\\lib\\site-packages\\numba\\core\\lowering.py:439\u001b[0m, in \u001b[0;36mLower.lower_inst\u001b[1;34m(self, inst)\u001b[0m\n\u001b[0;32m    437\u001b[0m \u001b[39mif\u001b[39;00m \u001b[39misinstance\u001b[39m(inst, ir\u001b[39m.\u001b[39mAssign):\n\u001b[0;32m    438\u001b[0m     ty \u001b[39m=\u001b[39m \u001b[39mself\u001b[39m\u001b[39m.\u001b[39mtypeof(inst\u001b[39m.\u001b[39mtarget\u001b[39m.\u001b[39mname)\n\u001b[1;32m--> 439\u001b[0m     val \u001b[39m=\u001b[39m \u001b[39mself\u001b[39;49m\u001b[39m.\u001b[39;49mlower_assign(ty, inst)\n\u001b[0;32m    440\u001b[0m     argidx \u001b[39m=\u001b[39m \u001b[39mNone\u001b[39;00m\n\u001b[0;32m    441\u001b[0m     \u001b[39m# If this is a store from an arg, like x = arg.x then tell debuginfo\u001b[39;00m\n\u001b[0;32m    442\u001b[0m     \u001b[39m# that this is the arg\u001b[39;00m\n",
      "File \u001b[1;32mc:\\Users\\optic\\AppData\\Local\\Programs\\Python\\Python39\\lib\\site-packages\\numba\\core\\lowering.py:626\u001b[0m, in \u001b[0;36mLower.lower_assign\u001b[1;34m(self, ty, inst)\u001b[0m\n\u001b[0;32m    623\u001b[0m     \u001b[39mreturn\u001b[39;00m res\n\u001b[0;32m    625\u001b[0m \u001b[39melif\u001b[39;00m \u001b[39misinstance\u001b[39m(value, ir\u001b[39m.\u001b[39mExpr):\n\u001b[1;32m--> 626\u001b[0m     \u001b[39mreturn\u001b[39;00m \u001b[39mself\u001b[39;49m\u001b[39m.\u001b[39;49mlower_expr(ty, value)\n\u001b[0;32m    628\u001b[0m \u001b[39melif\u001b[39;00m \u001b[39misinstance\u001b[39m(value, ir\u001b[39m.\u001b[39mVar):\n\u001b[0;32m    629\u001b[0m     val \u001b[39m=\u001b[39m \u001b[39mself\u001b[39m\u001b[39m.\u001b[39mloadvar(value\u001b[39m.\u001b[39mname)\n",
      "File \u001b[1;32mc:\\Users\\optic\\AppData\\Local\\Programs\\Python\\Python39\\lib\\site-packages\\numba\\core\\lowering.py:1368\u001b[0m, in \u001b[0;36mLower.lower_expr\u001b[1;34m(self, resty, expr)\u001b[0m\n\u001b[0;32m   1365\u001b[0m     \u001b[39mreturn\u001b[39;00m \u001b[39mself\u001b[39m\u001b[39m.\u001b[39mcontext\u001b[39m.\u001b[39mget_constant_null(resty)\n\u001b[0;32m   1367\u001b[0m \u001b[39melif\u001b[39;00m expr\u001b[39m.\u001b[39mop \u001b[39min\u001b[39;00m \u001b[39mself\u001b[39m\u001b[39m.\u001b[39mcontext\u001b[39m.\u001b[39mspecial_ops:\n\u001b[1;32m-> 1368\u001b[0m     res \u001b[39m=\u001b[39m \u001b[39mself\u001b[39;49m\u001b[39m.\u001b[39;49mcontext\u001b[39m.\u001b[39;49mspecial_ops[expr\u001b[39m.\u001b[39;49mop](\u001b[39mself\u001b[39;49m, expr)\n\u001b[0;32m   1369\u001b[0m     \u001b[39mreturn\u001b[39;00m res\n\u001b[0;32m   1371\u001b[0m \u001b[39mraise\u001b[39;00m \u001b[39mNotImplementedError\u001b[39;00m(expr)\n",
      "File \u001b[1;32mc:\\Users\\optic\\AppData\\Local\\Programs\\Python\\Python39\\lib\\site-packages\\numba\\np\\ufunc\\array_exprs.py:384\u001b[0m, in \u001b[0;36m_lower_array_expr\u001b[1;34m(lowerer, expr)\u001b[0m\n\u001b[0;32m    381\u001b[0m \u001b[39m# Follow the Numpy error model.  Note this also allows e.g. vectorizing\u001b[39;00m\n\u001b[0;32m    382\u001b[0m \u001b[39m# division (issue #1223).\u001b[39;00m\n\u001b[0;32m    383\u001b[0m flags\u001b[39m.\u001b[39merror_model \u001b[39m=\u001b[39m \u001b[39m'\u001b[39m\u001b[39mnumpy\u001b[39m\u001b[39m'\u001b[39m\n\u001b[1;32m--> 384\u001b[0m cres \u001b[39m=\u001b[39m context\u001b[39m.\u001b[39;49mcompile_subroutine(builder, impl, inner_sig, flags\u001b[39m=\u001b[39;49mflags,\n\u001b[0;32m    385\u001b[0m                                   caching\u001b[39m=\u001b[39;49m\u001b[39mFalse\u001b[39;49;00m)\n\u001b[0;32m    387\u001b[0m \u001b[39m# Create kernel subclass calling our native function\u001b[39;00m\n\u001b[0;32m    388\u001b[0m \u001b[39mfrom\u001b[39;00m \u001b[39mnumba\u001b[39;00m\u001b[39m.\u001b[39;00m\u001b[39mnp\u001b[39;00m \u001b[39mimport\u001b[39;00m npyimpl\n",
      "File \u001b[1;32mc:\\Users\\optic\\AppData\\Local\\Programs\\Python\\Python39\\lib\\site-packages\\numba\\core\\base.py:866\u001b[0m, in \u001b[0;36mBaseContext.compile_subroutine\u001b[1;34m(self, builder, impl, sig, locals, flags, caching)\u001b[0m\n\u001b[0;32m    864\u001b[0m     cached \u001b[39m=\u001b[39m \u001b[39mself\u001b[39m\u001b[39m.\u001b[39mcached_internal_func\u001b[39m.\u001b[39mget(cache_key)\n\u001b[0;32m    865\u001b[0m \u001b[39mif\u001b[39;00m cached \u001b[39mis\u001b[39;00m \u001b[39mNone\u001b[39;00m:\n\u001b[1;32m--> 866\u001b[0m     cres \u001b[39m=\u001b[39m \u001b[39mself\u001b[39;49m\u001b[39m.\u001b[39;49m_compile_subroutine_no_cache(builder, impl, sig,\n\u001b[0;32m    867\u001b[0m                                              \u001b[39mlocals\u001b[39;49m\u001b[39m=\u001b[39;49m\u001b[39mlocals\u001b[39;49m,\n\u001b[0;32m    868\u001b[0m                                              flags\u001b[39m=\u001b[39;49mflags)\n\u001b[0;32m    869\u001b[0m     \u001b[39mself\u001b[39m\u001b[39m.\u001b[39mcached_internal_func[cache_key] \u001b[39m=\u001b[39m cres\n\u001b[0;32m    871\u001b[0m cres \u001b[39m=\u001b[39m \u001b[39mself\u001b[39m\u001b[39m.\u001b[39mcached_internal_func[cache_key]\n",
      "File \u001b[1;32mc:\\Users\\optic\\AppData\\Local\\Programs\\Python\\Python39\\lib\\site-packages\\numba\\core\\base.py:837\u001b[0m, in \u001b[0;36mBaseContext._compile_subroutine_no_cache\u001b[1;34m(self, builder, impl, sig, locals, flags)\u001b[0m\n\u001b[0;32m    834\u001b[0m flags\u001b[39m.\u001b[39mno_cpython_wrapper \u001b[39m=\u001b[39m \u001b[39mTrue\u001b[39;00m\n\u001b[0;32m    835\u001b[0m flags\u001b[39m.\u001b[39mno_cfunc_wrapper \u001b[39m=\u001b[39m \u001b[39mTrue\u001b[39;00m\n\u001b[1;32m--> 837\u001b[0m cres \u001b[39m=\u001b[39m compiler\u001b[39m.\u001b[39;49mcompile_internal(\u001b[39mself\u001b[39;49m\u001b[39m.\u001b[39;49mtyping_context, \u001b[39mself\u001b[39;49m,\n\u001b[0;32m    838\u001b[0m                                  library,\n\u001b[0;32m    839\u001b[0m                                  impl, sig\u001b[39m.\u001b[39;49margs,\n\u001b[0;32m    840\u001b[0m                                  sig\u001b[39m.\u001b[39;49mreturn_type, flags,\n\u001b[0;32m    841\u001b[0m                                  \u001b[39mlocals\u001b[39;49m\u001b[39m=\u001b[39;49m\u001b[39mlocals\u001b[39;49m)\n\u001b[0;32m    843\u001b[0m \u001b[39m# Allow inlining the function inside callers.\u001b[39;00m\n\u001b[0;32m    844\u001b[0m \u001b[39mself\u001b[39m\u001b[39m.\u001b[39mactive_code_library\u001b[39m.\u001b[39madd_linking_library(cres\u001b[39m.\u001b[39mlibrary)\n",
      "File \u001b[1;32mc:\\Users\\optic\\AppData\\Local\\Programs\\Python\\Python39\\lib\\site-packages\\numba\\core\\compiler.py:790\u001b[0m, in \u001b[0;36mcompile_internal\u001b[1;34m(typingctx, targetctx, library, func, args, return_type, flags, locals)\u001b[0m\n\u001b[0;32m    785\u001b[0m \u001b[39m\"\"\"\u001b[39;00m\n\u001b[0;32m    786\u001b[0m \u001b[39mFor internal use only.\u001b[39;00m\n\u001b[0;32m    787\u001b[0m \u001b[39m\"\"\"\u001b[39;00m\n\u001b[0;32m    788\u001b[0m pipeline \u001b[39m=\u001b[39m Compiler(typingctx, targetctx, library,\n\u001b[0;32m    789\u001b[0m                     args, return_type, flags, \u001b[39mlocals\u001b[39m)\n\u001b[1;32m--> 790\u001b[0m \u001b[39mreturn\u001b[39;00m pipeline\u001b[39m.\u001b[39;49mcompile_extra(func)\n",
      "File \u001b[1;32mc:\\Users\\optic\\AppData\\Local\\Programs\\Python\\Python39\\lib\\site-packages\\numba\\core\\compiler.py:452\u001b[0m, in \u001b[0;36mCompilerBase.compile_extra\u001b[1;34m(self, func)\u001b[0m\n\u001b[0;32m    450\u001b[0m \u001b[39mself\u001b[39m\u001b[39m.\u001b[39mstate\u001b[39m.\u001b[39mlifted \u001b[39m=\u001b[39m ()\n\u001b[0;32m    451\u001b[0m \u001b[39mself\u001b[39m\u001b[39m.\u001b[39mstate\u001b[39m.\u001b[39mlifted_from \u001b[39m=\u001b[39m \u001b[39mNone\u001b[39;00m\n\u001b[1;32m--> 452\u001b[0m \u001b[39mreturn\u001b[39;00m \u001b[39mself\u001b[39;49m\u001b[39m.\u001b[39;49m_compile_bytecode()\n",
      "File \u001b[1;32mc:\\Users\\optic\\AppData\\Local\\Programs\\Python\\Python39\\lib\\site-packages\\numba\\core\\compiler.py:520\u001b[0m, in \u001b[0;36mCompilerBase._compile_bytecode\u001b[1;34m(self)\u001b[0m\n\u001b[0;32m    516\u001b[0m \u001b[39m\"\"\"\u001b[39;00m\n\u001b[0;32m    517\u001b[0m \u001b[39mPopulate and run pipeline for bytecode input\u001b[39;00m\n\u001b[0;32m    518\u001b[0m \u001b[39m\"\"\"\u001b[39;00m\n\u001b[0;32m    519\u001b[0m \u001b[39massert\u001b[39;00m \u001b[39mself\u001b[39m\u001b[39m.\u001b[39mstate\u001b[39m.\u001b[39mfunc_ir \u001b[39mis\u001b[39;00m \u001b[39mNone\u001b[39;00m\n\u001b[1;32m--> 520\u001b[0m \u001b[39mreturn\u001b[39;00m \u001b[39mself\u001b[39;49m\u001b[39m.\u001b[39;49m_compile_core()\n",
      "File \u001b[1;32mc:\\Users\\optic\\AppData\\Local\\Programs\\Python\\Python39\\lib\\site-packages\\numba\\core\\compiler.py:486\u001b[0m, in \u001b[0;36mCompilerBase._compile_core\u001b[1;34m(self)\u001b[0m\n\u001b[0;32m    484\u001b[0m res \u001b[39m=\u001b[39m \u001b[39mNone\u001b[39;00m\n\u001b[0;32m    485\u001b[0m \u001b[39mtry\u001b[39;00m:\n\u001b[1;32m--> 486\u001b[0m     pm\u001b[39m.\u001b[39;49mrun(\u001b[39mself\u001b[39;49m\u001b[39m.\u001b[39;49mstate)\n\u001b[0;32m    487\u001b[0m     \u001b[39mif\u001b[39;00m \u001b[39mself\u001b[39m\u001b[39m.\u001b[39mstate\u001b[39m.\u001b[39mcr \u001b[39mis\u001b[39;00m \u001b[39mnot\u001b[39;00m \u001b[39mNone\u001b[39;00m:\n\u001b[0;32m    488\u001b[0m         \u001b[39mbreak\u001b[39;00m\n",
      "File \u001b[1;32mc:\\Users\\optic\\AppData\\Local\\Programs\\Python\\Python39\\lib\\site-packages\\numba\\core\\compiler_machinery.py:356\u001b[0m, in \u001b[0;36mPassManager.run\u001b[1;34m(self, state)\u001b[0m\n\u001b[0;32m    354\u001b[0m pass_inst \u001b[39m=\u001b[39m _pass_registry\u001b[39m.\u001b[39mget(pss)\u001b[39m.\u001b[39mpass_inst\n\u001b[0;32m    355\u001b[0m \u001b[39mif\u001b[39;00m \u001b[39misinstance\u001b[39m(pass_inst, CompilerPass):\n\u001b[1;32m--> 356\u001b[0m     \u001b[39mself\u001b[39;49m\u001b[39m.\u001b[39;49m_runPass(idx, pass_inst, state)\n\u001b[0;32m    357\u001b[0m \u001b[39melse\u001b[39;00m:\n\u001b[0;32m    358\u001b[0m     \u001b[39mraise\u001b[39;00m \u001b[39mBaseException\u001b[39;00m(\u001b[39m\"\u001b[39m\u001b[39mLegacy pass in use\u001b[39m\u001b[39m\"\u001b[39m)\n",
      "File \u001b[1;32mc:\\Users\\optic\\AppData\\Local\\Programs\\Python\\Python39\\lib\\site-packages\\numba\\core\\compiler_lock.py:35\u001b[0m, in \u001b[0;36m_CompilerLock.__call__.<locals>._acquire_compile_lock\u001b[1;34m(*args, **kwargs)\u001b[0m\n\u001b[0;32m     32\u001b[0m \u001b[39m@functools\u001b[39m\u001b[39m.\u001b[39mwraps(func)\n\u001b[0;32m     33\u001b[0m \u001b[39mdef\u001b[39;00m \u001b[39m_acquire_compile_lock\u001b[39m(\u001b[39m*\u001b[39margs, \u001b[39m*\u001b[39m\u001b[39m*\u001b[39mkwargs):\n\u001b[0;32m     34\u001b[0m     \u001b[39mwith\u001b[39;00m \u001b[39mself\u001b[39m:\n\u001b[1;32m---> 35\u001b[0m         \u001b[39mreturn\u001b[39;00m func(\u001b[39m*\u001b[39margs, \u001b[39m*\u001b[39m\u001b[39m*\u001b[39mkwargs)\n",
      "File \u001b[1;32mc:\\Users\\optic\\AppData\\Local\\Programs\\Python\\Python39\\lib\\site-packages\\numba\\core\\compiler_machinery.py:311\u001b[0m, in \u001b[0;36mPassManager._runPass\u001b[1;34m(self, index, pss, internal_state)\u001b[0m\n\u001b[0;32m    309\u001b[0m     mutated \u001b[39m|\u001b[39m\u001b[39m=\u001b[39m check(pss\u001b[39m.\u001b[39mrun_initialization, internal_state)\n\u001b[0;32m    310\u001b[0m \u001b[39mwith\u001b[39;00m SimpleTimer() \u001b[39mas\u001b[39;00m pass_time:\n\u001b[1;32m--> 311\u001b[0m     mutated \u001b[39m|\u001b[39m\u001b[39m=\u001b[39m check(pss\u001b[39m.\u001b[39;49mrun_pass, internal_state)\n\u001b[0;32m    312\u001b[0m \u001b[39mwith\u001b[39;00m SimpleTimer() \u001b[39mas\u001b[39;00m finalize_time:\n\u001b[0;32m    313\u001b[0m     mutated \u001b[39m|\u001b[39m\u001b[39m=\u001b[39m check(pss\u001b[39m.\u001b[39mrun_finalizer, internal_state)\n",
      "File \u001b[1;32mc:\\Users\\optic\\AppData\\Local\\Programs\\Python\\Python39\\lib\\site-packages\\numba\\core\\compiler_machinery.py:273\u001b[0m, in \u001b[0;36mPassManager._runPass.<locals>.check\u001b[1;34m(func, compiler_state)\u001b[0m\n\u001b[0;32m    272\u001b[0m \u001b[39mdef\u001b[39;00m \u001b[39mcheck\u001b[39m(func, compiler_state):\n\u001b[1;32m--> 273\u001b[0m     mangled \u001b[39m=\u001b[39m func(compiler_state)\n\u001b[0;32m    274\u001b[0m     \u001b[39mif\u001b[39;00m mangled \u001b[39mnot\u001b[39;00m \u001b[39min\u001b[39;00m (\u001b[39mTrue\u001b[39;00m, \u001b[39mFalse\u001b[39;00m):\n\u001b[0;32m    275\u001b[0m         msg \u001b[39m=\u001b[39m (\u001b[39m\"\u001b[39m\u001b[39mCompilerPass implementations should return True/False. \u001b[39m\u001b[39m\"\u001b[39m\n\u001b[0;32m    276\u001b[0m                \u001b[39m\"\u001b[39m\u001b[39mCompilerPass with name \u001b[39m\u001b[39m'\u001b[39m\u001b[39m%s\u001b[39;00m\u001b[39m'\u001b[39m\u001b[39m did not.\u001b[39m\u001b[39m\"\u001b[39m)\n",
      "File \u001b[1;32mc:\\Users\\optic\\AppData\\Local\\Programs\\Python\\Python39\\lib\\site-packages\\numba\\core\\typed_passes.py:394\u001b[0m, in \u001b[0;36mNativeLowering.run_pass\u001b[1;34m(self, state)\u001b[0m\n\u001b[0;32m    391\u001b[0m \u001b[39mwith\u001b[39;00m targetctx\u001b[39m.\u001b[39mpush_code_library(library):\n\u001b[0;32m    392\u001b[0m     lower \u001b[39m=\u001b[39m lowering\u001b[39m.\u001b[39mLower(targetctx, library, fndesc, interp,\n\u001b[0;32m    393\u001b[0m                            metadata\u001b[39m=\u001b[39mmetadata)\n\u001b[1;32m--> 394\u001b[0m     lower\u001b[39m.\u001b[39;49mlower()\n\u001b[0;32m    395\u001b[0m     \u001b[39mif\u001b[39;00m \u001b[39mnot\u001b[39;00m flags\u001b[39m.\u001b[39mno_cpython_wrapper:\n\u001b[0;32m    396\u001b[0m         lower\u001b[39m.\u001b[39mcreate_cpython_wrapper(flags\u001b[39m.\u001b[39mrelease_gil)\n",
      "File \u001b[1;32mc:\\Users\\optic\\AppData\\Local\\Programs\\Python\\Python39\\lib\\site-packages\\numba\\core\\lowering.py:206\u001b[0m, in \u001b[0;36mBaseLower.lower\u001b[1;34m(self)\u001b[0m\n\u001b[0;32m    203\u001b[0m \u001b[39mself\u001b[39m\u001b[39m.\u001b[39mcontext\u001b[39m.\u001b[39mpost_lowering(\u001b[39mself\u001b[39m\u001b[39m.\u001b[39mmodule, \u001b[39mself\u001b[39m\u001b[39m.\u001b[39mlibrary)\n\u001b[0;32m    205\u001b[0m \u001b[39m# Materialize LLVM Module\u001b[39;00m\n\u001b[1;32m--> 206\u001b[0m \u001b[39mself\u001b[39;49m\u001b[39m.\u001b[39;49mlibrary\u001b[39m.\u001b[39;49madd_ir_module(\u001b[39mself\u001b[39;49m\u001b[39m.\u001b[39;49mmodule)\n",
      "File \u001b[1;32mc:\\Users\\optic\\AppData\\Local\\Programs\\Python\\Python39\\lib\\site-packages\\numba\\core\\codegen.py:727\u001b[0m, in \u001b[0;36mCPUCodeLibrary.add_ir_module\u001b[1;34m(self, ir_module)\u001b[0m\n\u001b[0;32m    725\u001b[0m \u001b[39massert\u001b[39;00m \u001b[39misinstance\u001b[39m(ir_module, llvmir\u001b[39m.\u001b[39mModule)\n\u001b[0;32m    726\u001b[0m ir \u001b[39m=\u001b[39m cgutils\u001b[39m.\u001b[39mnormalize_ir_text(\u001b[39mstr\u001b[39m(ir_module))\n\u001b[1;32m--> 727\u001b[0m ll_module \u001b[39m=\u001b[39m ll\u001b[39m.\u001b[39;49mparse_assembly(ir)\n\u001b[0;32m    728\u001b[0m ll_module\u001b[39m.\u001b[39mname \u001b[39m=\u001b[39m ir_module\u001b[39m.\u001b[39mname\n\u001b[0;32m    729\u001b[0m ll_module\u001b[39m.\u001b[39mverify()\n",
      "File \u001b[1;32mc:\\Users\\optic\\AppData\\Local\\Programs\\Python\\Python39\\lib\\site-packages\\llvmlite\\binding\\module.py:21\u001b[0m, in \u001b[0;36mparse_assembly\u001b[1;34m(llvmir, context)\u001b[0m\n\u001b[0;32m     18\u001b[0m strbuf \u001b[39m=\u001b[39m c_char_p(llvmir)\n\u001b[0;32m     19\u001b[0m \u001b[39mwith\u001b[39;00m ffi\u001b[39m.\u001b[39mOutputString() \u001b[39mas\u001b[39;00m errmsg:\n\u001b[0;32m     20\u001b[0m     mod \u001b[39m=\u001b[39m ModuleRef(\n\u001b[1;32m---> 21\u001b[0m         ffi\u001b[39m.\u001b[39;49mlib\u001b[39m.\u001b[39;49mLLVMPY_ParseAssembly(context, strbuf, errmsg),\n\u001b[0;32m     22\u001b[0m         context)\n\u001b[0;32m     23\u001b[0m     \u001b[39mif\u001b[39;00m errmsg:\n\u001b[0;32m     24\u001b[0m         mod\u001b[39m.\u001b[39mclose()\n",
      "File \u001b[1;32mc:\\Users\\optic\\AppData\\Local\\Programs\\Python\\Python39\\lib\\site-packages\\llvmlite\\binding\\ffi.py:151\u001b[0m, in \u001b[0;36m_lib_fn_wrapper.__call__\u001b[1;34m(self, *args, **kwargs)\u001b[0m\n\u001b[0;32m    149\u001b[0m \u001b[39mdef\u001b[39;00m \u001b[39m__call__\u001b[39m(\u001b[39mself\u001b[39m, \u001b[39m*\u001b[39margs, \u001b[39m*\u001b[39m\u001b[39m*\u001b[39mkwargs):\n\u001b[0;32m    150\u001b[0m     \u001b[39mwith\u001b[39;00m \u001b[39mself\u001b[39m\u001b[39m.\u001b[39m_lock:\n\u001b[1;32m--> 151\u001b[0m         \u001b[39mreturn\u001b[39;00m \u001b[39mself\u001b[39m\u001b[39m.\u001b[39m_cfn(\u001b[39m*\u001b[39margs, \u001b[39m*\u001b[39m\u001b[39m*\u001b[39mkwargs)\n",
      "\u001b[1;31mKeyboardInterrupt\u001b[0m: "
     ]
    }
   ],
   "source": [
    "Rolloff = np.arange(0.05, 0.95, 0.05)\n",
    "FO_Values = np.arange(0e9, 6e9, 1e9)\n",
    "\n",
    "BER = np.zeros((3, len(Rolloff), len(FO_Values)))\n",
    "SER = np.zeros((3, len(Rolloff), len(FO_Values))) \n",
    "GMI = np.zeros((3, len(Rolloff), len(FO_Values)))\n",
    "MI  = np.zeros((3, len(Rolloff), len(FO_Values)))\n",
    "SNR = np.zeros((3, len(Rolloff), len(FO_Values)))\n",
    "SIR = np.zeros((3, len(Rolloff), len(FO_Values)))\n",
    "\n",
    "for indfile in range(0, Interactions):\n",
    "    for indAlg, alg in enumerate(['KK', 'MLP', 'CONVNET']):\n",
    "        for indFO, FOfreq in enumerate(tqdm(FO_Values)):\n",
    "            for indRolloff, rollOff in enumerate(tqdm(Rolloff)):\n",
    "                \n",
    "                paramTx.alphaRRC = rollOff\n",
    "                FO = paramTx.Rs/2 + FOfreq\n",
    "\n",
    "                # generate optical signal signal\n",
    "                sigTx, symbTx_, paramTx = simpleWDMTx(paramTx)\n",
    "\n",
    "                # simulate linear signal propagation\n",
    "                sigCh = linFiberCh(sigTx, Ltotal, alpha, D, Fc, Fs)\n",
    "\n",
    "                symbTx = symbTx_[:, :, chIndex]\n",
    "                Plo = 10 ** (Plo_dBm / 10) * 1e-3  # power in W\n",
    "\n",
    "                # generate LO field\n",
    "                π = np.pi\n",
    "                t = np.arange(0, len(sigCh))*Ts\n",
    "                ϕ_pn_lo = phaseNoise(lw, len(sigCh), Ts)\n",
    "\n",
    "                sigLO = np.sqrt(Plo) * np.exp(-1j * (2 * π * FO * t + ϕ_lo + ϕ_pn_lo))\n",
    "\n",
    "                # Add LO to the received signal\n",
    "                sigRx = np.sqrt(Plo) + sigCh* np.exp(1j * (2 * π * FO * t + ϕ_lo + ϕ_pn_lo))\n",
    "                sfm   = sigRx.copy()\n",
    "\n",
    "                print('CSPR = %.2f dB'%(10*np.log10(signal_power(sigLO)/signal_power(sigCh))))\n",
    "\n",
    "                # simulate ideal direct-detection optical receiver\n",
    "                Ipd = photodiode(sigRx, paramPD)\n",
    "                Amp = np.sqrt(Ipd.real)\n",
    "                Amp = resample(Amp, paramADC).real\n",
    "\n",
    "                # resampling to ADC sampling rate\n",
    "                sigCh = resample(sigCh, paramADC)\n",
    "                sfm = resample(sfm, paramADC)\n",
    "                newFs = paramADC.SpS_out*paramTx.Rs\n",
    "\n",
    "                sfm = sfm/np.sqrt(signal_power(sfm))\n",
    "\n",
    "                if alg == 'KK':\n",
    "                    # Kramers-Kronig phase-retrieval\n",
    "                    phiTime = KramersKronigRx(Amp, newFs)\n",
    "                    # optical field reconstruction\n",
    "                    sigRx = Amp*np.exp(1j*phiTime)\n",
    "                \n",
    "                elif alg == 'MLP':\n",
    "                    # Mlp phase-retrieval\n",
    "                    model = tf.keras.models.load_model(path_mlp+'testModel_SpS_'+str(paramADC.SpS_out)+'_FO_'+str(FO/10e9)+'GHz_Rolloff_'+str(round(paramTx.alphaRRC, 2)))\n",
    "                    #sigPhase = np.angle(sfm) # get signal phase samples (labels) (L,)\n",
    "                    sigAmp  = np.pad(Amp, (int(N/2), int(N/2)), 'constant') # get signal amplitude samples (L,)\n",
    "                    # create set of input features\n",
    "                    X_input = np.zeros((len(sfm), N)) #(L,N)\n",
    "\n",
    "                    for indPhase in range(len(sfm)):\n",
    "                        X_input[indPhase] = sigAmp[indPhase:N+indPhase]\n",
    "\n",
    "                    sigRx_NN = model.predict(X_input)\n",
    "\n",
    "                    # optical field reconstruction\n",
    "                    sigRx = sigRx_NN[:,0]+1j*sigRx_NN[:,1]\n",
    "\n",
    "                elif alg == 'CONVNET':\n",
    "                    # ConvNet phase-retrieval\n",
    "                    model = tf.keras.models.load_model(path_conv+'testModel_SpS_'+str(paramADC.SpS_out)+'_FO_'+str(FO/10e9)+'GHz_Rolloff_'+str(round(paramTx.alphaRRC, 2)))\n",
    "                    #sigPhase = np.angle(sfm) # get signal phase samples (labels) (L,)\n",
    "                    sigAmp  = np.pad(Amp, (int(N/2), int(N/2)), 'constant') # get signal amplitude samples (L,)\n",
    "\n",
    "                    # create set of input features\n",
    "                    X_input = np.zeros((len(sfm), N)) #(L,N)\n",
    "\n",
    "                    for indPhase in range(len(sfm)):\n",
    "                        X_input[indPhase] = sigAmp[indPhase:N+indPhase]\n",
    "\n",
    "                    sigRx_NN = model.predict(X_input)\n",
    "\n",
    "                    # optical field reconstruction\n",
    "                    sigRx = sigRx_NN[:,0]+1j*sigRx_NN[:,1]\n",
    "                    \n",
    "                # remove DC level\n",
    "                sigRx -= np.mean(sigRx) # np.sqrt(Plo)\n",
    "                \n",
    "                # downshift to baseband\n",
    "                t = np.arange(0, len(sigRx))*(1/newFs)\n",
    "                sigRx *= np.exp(-1j * (2 * π * FO * t))\n",
    "\n",
    "                # Matched filtering\n",
    "                if paramTx.pulse == \"nrz\":\n",
    "                    pulse = pulseShape(\"nrz\", paramADC.SpS_out)\n",
    "                elif paramTx.pulse == \"rrc\":\n",
    "                    pulse = pulseShape(\n",
    "                        \"rrc\", paramADC.SpS_out, N=paramTx.Ntaps, alpha=paramTx.alphaRRC, Ts=1 / paramTx.Rs\n",
    "                    )\n",
    "\n",
    "                pulse = pulse / np.max(np.abs(pulse))\n",
    "                sigRx = firFilter(pulse, sigRx)\n",
    "                sigCh = firFilter(pulse, sigCh)\n",
    "\n",
    "                # correct for (possible) phase ambiguity\n",
    "                rot = np.mean(sigCh/sigRx)\n",
    "                sigRx = rot * sigRx\n",
    "                sigRx = sigRx / np.sqrt(signal_power(sigRx))\n",
    "\n",
    "                intf = sigRx/np.sqrt(signal_power(sigRx))-sigCh/np.sqrt(signal_power(sigCh))\n",
    "\n",
    "                SIR[indAlg, indRolloff, indFO] = 1/signal_power(intf)\n",
    "\n",
    "                # resample to 2 samples/symbol:\n",
    "                paramRes = parameters()\n",
    "                paramRes.Rs = paramTx.Rs\n",
    "                paramRes.SpS_in  = paramADC.SpS_out\n",
    "                paramRes.SpS_out = 2\n",
    "\n",
    "                sigRx = resample(sigRx, paramRes)\n",
    "\n",
    "                # CD compensation\n",
    "                sigRx = edc(sigRx, Ltotal, D, Fc, paramRes.SpS_out*paramTx.Rs)\n",
    "\n",
    "                # Downsampling to 2 sps and re-synchronization with transmitted sequences\n",
    "                sigRx = sigRx.reshape(-1, 1)\n",
    "\n",
    "                symbRx = symbolSync(sigRx, symbTx, 2)\n",
    "\n",
    "                # Power normalization\n",
    "                x = sigRx\n",
    "                d = symbRx\n",
    "\n",
    "                x = x.reshape(len(x), 1) / np.sqrt(signal_power(x))\n",
    "                d = d.reshape(len(d), 1) / np.sqrt(signal_power(d))\n",
    "\n",
    "                # Adaptive equalization          \n",
    "                paramEq = parameters()\n",
    "                paramEq.nTaps = 15\n",
    "                paramEq.SpS = 2\n",
    "                paramEq.mu = [1e-3, 5e-4]\n",
    "                paramEq.numIter = 5\n",
    "                paramEq.storeCoeff = False\n",
    "                paramEq.alg = [\"da-rde\", \"rde\"]\n",
    "                paramEq.M = paramTx.M\n",
    "                paramEq.L = [20000, 80000]\n",
    "                paramEq.prgsBar = False\n",
    "\n",
    "                y_EQ, H, errSq, Hiter = mimoAdaptEqualizer(x, dx=d, paramEq=paramEq)\n",
    "\n",
    "                # Carrier phase recovery\n",
    "                paramCPR = parameters()\n",
    "                paramCPR.alg = \"bps\"\n",
    "                paramCPR.M = paramTx.M\n",
    "                paramCPR.N = 85\n",
    "                paramCPR.B = 64\n",
    "                paramCPR.pilotInd = np.arange(0, len(y_EQ), 20)\n",
    "\n",
    "                y_CPR, θ = cpr(y_EQ, symbTx=d, paramCPR=paramCPR)\n",
    "\n",
    "                y_CPR = y_CPR / np.sqrt(signal_power(y_CPR))\n",
    "\n",
    "                # correct for (possible) phase ambiguity\n",
    "                for k in range(y_CPR.shape[1]):\n",
    "                    rot = np.mean(d[:, k] / y_CPR[:, k])\n",
    "                    y_CPR[:, k] = rot * y_CPR[:, k]\n",
    "\n",
    "                y_CPR = y_CPR / np.sqrt(signal_power(y_CPR))\n",
    "\n",
    "                discard = int(paramEq.L[0]/2)\n",
    "\n",
    "                ind = np.arange(discard, d.shape[0] - discard)\n",
    "                BER[indAlg,indRolloff,indFO], SER[indAlg,indRolloff,indFO], SNR[indAlg,indRolloff,indFO] = fastBERcalc(y_CPR[ind, :], d[ind, :], paramTx.M, 'qam')\n",
    "                GMI[indAlg,indRolloff,indFO], _ = monteCarloGMI(y_CPR[ind, :], d[ind, :],  paramTx.M, 'qam')\n",
    "                MI[indAlg,indRolloff,indFO] = monteCarloMI(y_CPR[ind, :], d[ind, :],  paramTx.M, 'qam')\n",
    "\n",
    "                print(\"Results:\")\n",
    "                print(\"BER: %.2e\" %(BER[indAlg,indRolloff,indFO]))\n",
    "                print(\"SNR: %.2f dB\" %(SNR[indAlg,indRolloff,indFO]))\n",
    "                print('SIR = ', round(10*np.log10(SIR[indAlg,indRolloff,indFO]), 2), ' dB')\n",
    "                print(\"GMI: %.2f bits\\n\" %(GMI[indAlg,indRolloff,indFO]))\n",
    "\n",
    "    if saveData:    \n",
    "        # save the simulation data\n",
    "        np.save(path_data+'BER_SpS_'+str(paramADC.SpS_out)+'_'+str(N)+'_Sample_'+str(indfile), BER)\n",
    "        np.save(path_data+'SNR_SpS_'+str(paramADC.SpS_out)+'_'+str(N)+'_Sample_'+str(indfile), SNR)\n",
    "        np.save(path_data+'SIR_SpS_'+str(paramADC.SpS_out)+'_'+str(N)+'_Sample_'+str(indfile), SIR)"
   ]
  },
  {
   "attachments": {},
   "cell_type": "markdown",
   "metadata": {},
   "source": [
    "## Simulation of a single polarization optical signal transmission"
   ]
  },
  {
   "cell_type": "code",
   "execution_count": 4,
   "metadata": {},
   "outputs": [],
   "source": [
    "## Transmitter parameters:\n",
    "paramTx = parameters()\n",
    "paramTx.M = 16                 # order of the modulation format\n",
    "paramTx.Rs = 32e9              # symbol rate [baud]\n",
    "paramTx.SpS = 4                # samples per symbol\n",
    "paramTx.Nbits = 400000         # total number of bits per polarization\n",
    "paramTx.pulse = \"rrc\"          # pulse shaping filter\n",
    "paramTx.Ntaps = 1024           # number of pulse shaping filter coefficients\n",
    "paramTx.alphaRRC = 0.5         # RRC rolloff\n",
    "paramTx.Pch_dBm = 0            # power of the optical signal [dBm]\n",
    "paramTx.Nch = 1                # number of WDM channels\n",
    "paramTx.Fc = 193.1e12          # central frequency of the optical spectrum\n",
    "paramTx.freqSpac = 37.5e9      # WDM grid spacing\n",
    "\n",
    "## Optical channel parameters:\n",
    "Ltotal = 100     # total link distance [km]\n",
    "alpha = 0.2      # fiber loss parameter [dB/km]\n",
    "D = 17           # fiber dispersion parameter [ps/nm/km]\n",
    "Fc = paramTx.Fc  # central optical frequency of the WDM spectrum [Hz]\n",
    "\n",
    "## Receiver parameters:\n",
    "\n",
    "# local oscillator (LO)\n",
    "FO = paramTx.Rs/2  # frequency offset\n",
    "lw = 1e3           # linewidth\n",
    "ϕ_lo = 0           # initial phase in rad\n",
    "#Plo_dBm = 12      # power in dBm\n",
    "\n",
    "# ADC sampling rate\n",
    "paramADC = parameters()\n",
    "paramADC.Rs = paramTx.Rs\n",
    "paramADC.SpS_in = paramTx.SpS\n",
    "paramADC.SpS_out = 4\n",
    "\n",
    "## General simulation parameters:\n",
    "chIndex = 0  # index of the channel to be demodulated\n",
    "plotPSD = True\n",
    "Fs = paramTx.Rs * paramTx.SpS  # simulation sampling rate\n",
    "Ts = 1 / Fs\n",
    "\n",
    "# photodiode parameters\n",
    "paramPD = parameters()\n",
    "paramPD.B  = 1.1*paramTx.Rs\n",
    "paramPD.Fs = Fs"
   ]
  },
  {
   "attachments": {},
   "cell_type": "markdown",
   "metadata": {},
   "source": [
    "## Run all CSPR variations"
   ]
  },
  {
   "cell_type": "code",
   "execution_count": 6,
   "metadata": {},
   "outputs": [
    {
     "data": {
      "application/vnd.jupyter.widget-view+json": {
       "model_id": "07035b5885f84612b33bd992e0cb84ad",
       "version_major": 2,
       "version_minor": 0
      },
      "text/plain": [
       "  0%|          | 0/10 [00:00<?, ?it/s]"
      ]
     },
     "metadata": {},
     "output_type": "display_data"
    },
    {
     "data": {
      "application/vnd.jupyter.widget-view+json": {
       "model_id": "8b86cc495374470081d3ce61e030f5ee",
       "version_major": 2,
       "version_minor": 0
      },
      "text/plain": [
       "  0%|          | 0/19 [00:00<?, ?it/s]"
      ]
     },
     "metadata": {},
     "output_type": "display_data"
    },
    {
     "data": {
      "application/vnd.jupyter.widget-view+json": {
       "model_id": "9d960e90cfd746cbbe6de76b2b496f2a",
       "version_major": 2,
       "version_minor": 0
      },
      "text/plain": [
       "  0%|          | 0/1 [00:00<?, ?it/s]"
      ]
     },
     "metadata": {},
     "output_type": "display_data"
    },
    {
     "name": "stdout",
     "output_type": "stream",
     "text": [
      "CSPR = 6.00 dB\n"
     ]
    },
    {
     "name": "stderr",
     "output_type": "stream",
     "text": [
      "c:\\Users\\optic\\AppData\\Local\\Programs\\Python\\Python39\\lib\\site-packages\\optic\\equalization.py:150: RuntimeWarning: Mean of empty slice\n",
      "  f\"{runAlg} MSE = %.6f.\", np.nanmean(errSq[:, nStart:nEnd])\n"
     ]
    }
   ],
   "source": [
    "loPower = np.arange(6,16,1)\n",
    "SNR_values = np.arange(11,30,1)\n",
    "\n",
    "BER = np.zeros((3, len(loPower), len(SNR_values)))\n",
    "SER = np.zeros((3, len(loPower), len(SNR_values)))\n",
    "GMI = np.zeros((3, len(loPower), len(SNR_values)))\n",
    "MI  = np.zeros((3, len(loPower), len(SNR_values)))\n",
    "SNR = np.zeros((3, len(loPower), len(SNR_values)))\n",
    "SIR = np.zeros((3, len(loPower), len(SNR_values)))\n",
    "\n",
    "for indfile in range(0, 1):\n",
    "    for indAlg, alg in enumerate(['KK', 'MLP', 'CONVNET']):\n",
    "        for indPower, Plo_dBm in enumerate(tqdm(loPower)):\n",
    "            for indSNR, SNRdB in enumerate(tqdm(SNR_values)):\n",
    "\n",
    "                # generate optical signal signal\n",
    "                sigTx, symbTx_, paramTx = simpleWDMTx(paramTx)\n",
    "                        \n",
    "                # simulate linear signal propagation\n",
    "                sigCh = linFiberCh(sigTx, Ltotal, alpha, D, Fc, Fs)\n",
    "\n",
    "                symbTx = symbTx_[:, :, chIndex]\n",
    "                \n",
    "                # AWGN channel\n",
    "                sigCh = awgn(sigCh, SNRdB, Fs, paramPD.B)\n",
    "\n",
    "                Plo = 10 ** (Plo_dBm / 10) * 1e-3  # power in W\n",
    "                \n",
    "                # generate LO field\n",
    "                π = np.pi\n",
    "                t = np.arange(0, len(sigCh))*Ts\n",
    "                ϕ_pn_lo = phaseNoise(lw, len(sigCh), Ts)\n",
    "\n",
    "                sigLO = np.sqrt(Plo) * np.exp(-1j * (2 * π * FO * t + ϕ_lo + ϕ_pn_lo))\n",
    "\n",
    "                # Add LO to the received signal\n",
    "                sigRx = np.sqrt(Plo) + sigCh* np.exp(1j * (2 * π * FO * t + ϕ_lo + ϕ_pn_lo))\n",
    "                sfm   = sigRx.copy()\n",
    "\n",
    "                print('CSPR = %.2f dB'%(10*np.log10(signal_power(sigLO)/signal_power(sigTx))))\n",
    "\n",
    "                # simulate ideal direct-detection optical receiver\n",
    "                Ipd = photodiode(sigRx, paramPD)\n",
    "                Amp = np.sqrt(Ipd.real)\n",
    "                Amp = resample(Amp, paramADC).real\n",
    "\n",
    "                # resampling to ADC sampling rate\n",
    "                sigCh = resample(sigCh, paramADC)\n",
    "                sfm = resample(sfm, paramADC)\n",
    "                newFs = paramADC.SpS_out*paramTx.Rs\n",
    "\n",
    "                sfm = sfm/np.sqrt(signal_power(sfm))\n",
    "                if alg == 'KK':\n",
    "                    # Kramers-Kronig phase-retrieval\n",
    "                    phiTime = KramersKronigRx(Amp, newFs)\n",
    "                    # optical field reconstruction\n",
    "                    sigRx = Amp*np.exp(1j*phiTime)\n",
    "\n",
    "                elif alg == 'MLP':\n",
    "                    # Mlp phase-retrieval\n",
    "                    model = tf.keras.models.load_model(path_mlp+'testModel_SpS_'+str(paramADC.SpS_out)+'_CSPR_'+str(Plo_dBm)+'dB') \n",
    "                    #sigPhase = np.angle(sfm) # get signal phase samples (labels) (L,)\n",
    "                    sigAmp  = np.pad(Amp, (int(N/2), int(N/2)), 'constant') # get signal amplitude samples (L,)\n",
    "                    # create set of input features\n",
    "                    X_input = np.zeros((len(sfm), N)) #(L,N)\n",
    "\n",
    "                    for indPhase in range(len(sfm)):\n",
    "                        X_input[indPhase] = sigAmp[indPhase:N+indPhase]\n",
    "\n",
    "                    sigRx_NN = model.predict(X_input)\n",
    "                    # optical field reconstruction\n",
    "                    sigRx = sigRx_NN[:,0]+1j*sigRx_NN[:,1]\n",
    "\n",
    "                elif alg == 'CONVNET':\n",
    "                    # ConvNet phase-retrieval\n",
    "                    model = tf.keras.models.load_model(path_conv+'testModel_SpS_'+str(paramADC.SpS_out)+'_CSPR_'+str(Plo_dBm)+'dB')\n",
    "                    #sigPhase = np.angle(sfm) # get signal phase samples (labels) (L,)\n",
    "                    sigAmp  = np.pad(Amp, (int(N/2), int(N/2)), 'constant') # get signal amplitude samples (L,)\n",
    "                    # create set of input features\n",
    "                    X_input = np.zeros((len(sfm), N)) #(L,N)\n",
    "\n",
    "                    for indPhase in range(len(sfm)):\n",
    "                        X_input[indPhase] = sigAmp[indPhase:N+indPhase]\n",
    "\n",
    "                    sigRx_NN = model.predict(X_input)\n",
    "                    # optical field reconstruction\n",
    "                    sigRx = sigRx_NN[:,0]+1j*sigRx_NN[:,1]    \n",
    "\n",
    "                # remove DC level\n",
    "                sigRx -= np.mean(sigRx) # np.sqrt(Plo)  \n",
    "\n",
    "                # downshift to baseband\n",
    "                t = np.arange(0, len(sigRx))*(1/newFs)\n",
    "                sigRx *= np.exp(-1j * (2 * π * FO * t))\n",
    "                \n",
    "                # Matched filtering\n",
    "                if paramTx.pulse == \"nrz\":\n",
    "                    pulse = pulseShape(\"nrz\", paramADC.SpS_out)\n",
    "                elif paramTx.pulse == \"rrc\":\n",
    "                    pulse = pulseShape(\n",
    "                        \"rrc\", paramADC.SpS_out, N=paramTx.Ntaps, alpha=paramTx.alphaRRC, Ts=1 / paramTx.Rs\n",
    "                    )\n",
    "\n",
    "                pulse = pulse / np.max(np.abs(pulse))\n",
    "                sigRx = firFilter(pulse, sigRx)\n",
    "                sigCh = firFilter(pulse, sigCh)\n",
    "                \n",
    "                # correct for (possible) phase ambiguity\n",
    "                rot = np.mean(sigCh/sigRx)\n",
    "                sigRx = rot * sigRx\n",
    "                sigRx = sigRx / np.sqrt(signal_power(sigRx))\n",
    "\n",
    "                intf = sigRx/np.sqrt(signal_power(sigRx))-sigCh/np.sqrt(signal_power(sigCh))\n",
    "\n",
    "                SIR[indAlg, indPower] = 1/signal_power(intf)\n",
    "\n",
    "\n",
    "                # resample to 2 samples/symbol:\n",
    "                paramRes = parameters()\n",
    "                paramRes.Rs = paramTx.Rs\n",
    "                paramRes.SpS_in  = paramADC.SpS_out\n",
    "                paramRes.SpS_out = 2\n",
    "\n",
    "                sigRx = resample(sigRx, paramRes)\n",
    "\n",
    "                # CD compensation\n",
    "                sigRx = edc(sigRx, Ltotal, D, Fc, paramRes.SpS_out*paramTx.Rs)\n",
    "\n",
    "                # Downsampling to 2 sps and re-synchronization with transmitted sequences\n",
    "                sigRx = sigRx.reshape(-1, 1)\n",
    "\n",
    "                symbRx = symbolSync(sigRx, symbTx, 2)\n",
    "\n",
    "                # Power normalization\n",
    "                x = sigRx\n",
    "                d = symbRx\n",
    "\n",
    "                x = x.reshape(len(x), 1) / np.sqrt(signal_power(x))\n",
    "                d = d.reshape(len(d), 1) / np.sqrt(signal_power(d))\n",
    "\n",
    "                # Adaptive equalization\n",
    "                mod = QAMModem(m=paramTx.M)\n",
    "\n",
    "                paramEq = parameters()\n",
    "                paramEq.nTaps = 15\n",
    "                paramEq.SpS = 2\n",
    "                paramEq.mu = [1e-3, 5e-4]\n",
    "                paramEq.numIter = 5\n",
    "                paramEq.storeCoeff = False\n",
    "                paramEq.alg = [\"da-rde\", \"rde\"]\n",
    "                paramEq.M = paramTx.M\n",
    "                paramEq.L = [20000, 80000]\n",
    "                paramEq.prgsBar = False\n",
    "\n",
    "                y_EQ, H, errSq, Hiter = mimoAdaptEqualizer(x, dx=d, paramEq=paramEq)\n",
    "\n",
    "                # Carrier phase recovery\n",
    "                paramCPR = parameters()\n",
    "                paramCPR.alg = \"bps\"\n",
    "                paramCPR.M = paramTx.M\n",
    "                paramCPR.N = 85\n",
    "                paramCPR.B = 64\n",
    "                paramCPR.pilotInd = np.arange(0, len(y_EQ), 20)\n",
    "\n",
    "                y_CPR, θ = cpr(y_EQ, symbTx=d, paramCPR=paramCPR)\n",
    "\n",
    "                y_CPR = y_CPR / np.sqrt(signal_power(y_CPR))\n",
    "\n",
    "                # correct for (possible) phase ambiguity\n",
    "                for k in range(y_CPR.shape[1]):\n",
    "                    rot = np.mean(d[:, k] / y_CPR[:, k])\n",
    "                    y_CPR[:, k] = rot * y_CPR[:, k]\n",
    "\n",
    "                y_CPR = y_CPR / np.sqrt(signal_power(y_CPR))\n",
    "\n",
    "                discard = int(paramEq.L[0]/2)\n",
    "\n",
    "                ind = np.arange(discard, d.shape[0] - discard)\n",
    "                BER[indAlg,indPower,indSNR], SER[indAlg,indPower,indSNR], SNR[indAlg,indPower,indSNR] = fastBERcalc(y_CPR[ind, :], d[ind, :], paramTx.M, 'qam')\n",
    "                GMI[indAlg,indPower,indSNR], _ = monteCarloGMI(y_CPR[ind, :], d[ind, :],  paramTx.M, 'qam')\n",
    "                MI[indAlg,indPower,indSNR] = monteCarloMI(y_CPR[ind, :], d[ind, :],  paramTx.M, 'qam')\n",
    "\n",
    "                print(\"Results:\")\n",
    "                print(\"BER: %.2e\" %(BER[indAlg,indPower,indSNR]))\n",
    "                print(\"SNR: %.2f dB\" %(SNR[indAlg,indPower,indSNR]))\n",
    "                print('SIR = ', round(10*np.log10(SIR[indAlg,indPower,indSNR]), 2), ' dB')\n",
    "                print(\"GMI: %.2f bits\\n\" %(GMI[indAlg,indPower,indSNR]))\n",
    "\n",
    "        if saveData:      \n",
    "            # save the simulation data\n",
    "            np.save(path_data+'CSPR_BER_SpS_'+str(paramADC.SpS_out)+'_'+str(N)+'_Sample_'+str(indfile)+str('_AWGN'), BER)\n",
    "            np.save(path_data+'CSPR_SNR_SpS_'+str(paramADC.SpS_out)+'_'+str(N)+'_Sample_'+str(indfile)+str('_AWGN'), SNR)\n",
    "            np.save(path_data+'CSPR_SIR_SpS_'+str(paramADC.SpS_out)+'_'+str(N)+'_Sample_'+str(indfile)+str('_AWGN'), SIR)\n",
    "            np.save(path_data+'CSPR_SER_SpS_'+str(paramADC.SpS_out)+'_'+str(N)+'_Sample_'+str(indfile)+str('_AWGN'), SER)"
   ]
  },
  {
   "attachments": {},
   "cell_type": "markdown",
   "metadata": {},
   "source": [
    "## Simulation of a single polarization optical signal transmission"
   ]
  },
  {
   "cell_type": "code",
   "execution_count": 3,
   "metadata": {},
   "outputs": [],
   "source": [
    "## Transmitter parameters:\n",
    "paramTx = parameters()\n",
    "paramTx.M = 16                 # order of the modulation format\n",
    "paramTx.Rs = 32e9              # symbol rate [baud]\n",
    "paramTx.SpS = 4                # samples per symbol\n",
    "paramTx.Nbits = 400000         # total number of bits per polarization\n",
    "paramTx.pulse = \"rrc\"          # pulse shaping filter\n",
    "paramTx.Ntaps = 1024           # number of pulse shaping filter coefficients\n",
    "# paramTx.alphaRRC = 0.5         # RRC rolloff\n",
    "paramTx.Pch_dBm = 0            # power of the optical signal [dBm]\n",
    "paramTx.Nch = 1                # number of WDM channels\n",
    "paramTx.Fc = 193.1e12          # central frequency of the optical spectrum\n",
    "paramTx.freqSpac = 37.5e9      # WDM grid spacing\n",
    "\n",
    "## Optical channel parameters:\n",
    "Ltotal = 100     # total link distance [km]\n",
    "alpha = 0        # fiber loss parameter [dB/km]\n",
    "D = 16           # fiber dispersion parameter [ps/nm/km]\n",
    "Fc = paramTx.Fc  # central optical frequency of the WDM spectrum [Hz]\n",
    "\n",
    "## Receiver parameters:\n",
    "\n",
    "# local oscillator (LO)\n",
    "FO = paramTx.Rs/2  # frequency offset\n",
    "lw = 0*200e3       # linewidth\n",
    "ϕ_lo = 0           # initial phase in rad\n",
    "Plo_dBm = 12       # power in dBm\n",
    "\n",
    "# ADC sampling rate\n",
    "paramADC = parameters()\n",
    "paramADC.Rs = paramTx.Rs\n",
    "paramADC.SpS_in = paramTx.SpS\n",
    "paramADC.SpS_out = 4\n",
    "\n",
    "## General simulation parameters:\n",
    "chIndex = 0  # index of the channel to be demodulated\n",
    "plotPSD = True\n",
    "Fs = paramTx.Rs * paramTx.SpS  # simulation sampling rate\n",
    "Ts = 1 / Fs\n",
    "\n",
    "# photodiode parameters\n",
    "paramPD = parameters()\n",
    "paramPD.B  = 1.1*paramTx.Rs\n",
    "paramPD.Fs = Fs"
   ]
  },
  {
   "attachments": {},
   "cell_type": "markdown",
   "metadata": {},
   "source": [
    "## Run all Roll-off variations"
   ]
  },
  {
   "cell_type": "code",
   "execution_count": 5,
   "metadata": {},
   "outputs": [
    {
     "data": {
      "application/vnd.jupyter.widget-view+json": {
       "model_id": "4200ac3125244319868c3d388441d911",
       "version_major": 2,
       "version_minor": 0
      },
      "text/plain": [
       "  0%|          | 0/18 [00:00<?, ?it/s]"
      ]
     },
     "metadata": {},
     "output_type": "display_data"
    },
    {
     "data": {
      "application/vnd.jupyter.widget-view+json": {
       "model_id": "c32d8d8f020b43c282d56ee3b847b025",
       "version_major": 2,
       "version_minor": 0
      },
      "text/plain": [
       "  0%|          | 0/1 [00:00<?, ?it/s]"
      ]
     },
     "metadata": {},
     "output_type": "display_data"
    },
    {
     "name": "stdout",
     "output_type": "stream",
     "text": [
      "CSPR = 12.00 dB\n",
      "Results:\n",
      "BER: 0.00e+00\n",
      "SNR: 24.03 dB\n",
      "SIR =  22.93  dB\n",
      "GMI: 4.00 bits\n",
      "\n"
     ]
    },
    {
     "data": {
      "application/vnd.jupyter.widget-view+json": {
       "model_id": "e1ab5aa15dc245ffa35d1d859b796d21",
       "version_major": 2,
       "version_minor": 0
      },
      "text/plain": [
       "  0%|          | 0/1 [00:00<?, ?it/s]"
      ]
     },
     "metadata": {},
     "output_type": "display_data"
    },
    {
     "name": "stdout",
     "output_type": "stream",
     "text": [
      "CSPR = 12.00 dB\n",
      "Results:\n",
      "BER: 0.00e+00\n",
      "SNR: 22.35 dB\n",
      "SIR =  19.78  dB\n",
      "GMI: 4.00 bits\n",
      "\n"
     ]
    },
    {
     "data": {
      "application/vnd.jupyter.widget-view+json": {
       "model_id": "62e849acfe2d4015ad55f8a4eaf96d60",
       "version_major": 2,
       "version_minor": 0
      },
      "text/plain": [
       "  0%|          | 0/1 [00:00<?, ?it/s]"
      ]
     },
     "metadata": {},
     "output_type": "display_data"
    },
    {
     "name": "stdout",
     "output_type": "stream",
     "text": [
      "CSPR = 12.00 dB\n",
      "Results:\n",
      "BER: 0.00e+00\n",
      "SNR: 22.09 dB\n",
      "SIR =  17.93  dB\n",
      "GMI: 4.00 bits\n",
      "\n"
     ]
    },
    {
     "data": {
      "application/vnd.jupyter.widget-view+json": {
       "model_id": "8f016dccef25423e95183e2c3c14af98",
       "version_major": 2,
       "version_minor": 0
      },
      "text/plain": [
       "  0%|          | 0/1 [00:00<?, ?it/s]"
      ]
     },
     "metadata": {},
     "output_type": "display_data"
    },
    {
     "name": "stdout",
     "output_type": "stream",
     "text": [
      "CSPR = 12.00 dB\n",
      "Results:\n",
      "BER: 0.00e+00\n",
      "SNR: 22.11 dB\n",
      "SIR =  16.73  dB\n",
      "GMI: 4.00 bits\n",
      "\n"
     ]
    },
    {
     "data": {
      "application/vnd.jupyter.widget-view+json": {
       "model_id": "30e4e657ce294f30931c37ca57373f12",
       "version_major": 2,
       "version_minor": 0
      },
      "text/plain": [
       "  0%|          | 0/1 [00:00<?, ?it/s]"
      ]
     },
     "metadata": {},
     "output_type": "display_data"
    },
    {
     "name": "stdout",
     "output_type": "stream",
     "text": [
      "CSPR = 12.00 dB\n",
      "Results:\n",
      "BER: 0.00e+00\n",
      "SNR: 21.99 dB\n",
      "SIR =  15.73  dB\n",
      "GMI: 4.00 bits\n",
      "\n"
     ]
    },
    {
     "data": {
      "application/vnd.jupyter.widget-view+json": {
       "model_id": "f8e9786bafb64b14b0b1999196be620d",
       "version_major": 2,
       "version_minor": 0
      },
      "text/plain": [
       "  0%|          | 0/1 [00:00<?, ?it/s]"
      ]
     },
     "metadata": {},
     "output_type": "display_data"
    },
    {
     "name": "stdout",
     "output_type": "stream",
     "text": [
      "CSPR = 12.00 dB\n",
      "Results:\n",
      "BER: 3.13e-06\n",
      "SNR: 21.50 dB\n",
      "SIR =  14.85  dB\n",
      "GMI: 4.00 bits\n",
      "\n"
     ]
    },
    {
     "data": {
      "application/vnd.jupyter.widget-view+json": {
       "model_id": "d5bff73546714f338771f567624cac81",
       "version_major": 2,
       "version_minor": 0
      },
      "text/plain": [
       "  0%|          | 0/1 [00:00<?, ?it/s]"
      ]
     },
     "metadata": {},
     "output_type": "display_data"
    },
    {
     "name": "stdout",
     "output_type": "stream",
     "text": [
      "CSPR = 12.00 dB\n",
      "Results:\n",
      "BER: 6.25e-06\n",
      "SNR: 21.12 dB\n",
      "SIR =  14.13  dB\n",
      "GMI: 4.00 bits\n",
      "\n"
     ]
    },
    {
     "data": {
      "application/vnd.jupyter.widget-view+json": {
       "model_id": "2b6a3231f6dd489096a7eb2683f04e1d",
       "version_major": 2,
       "version_minor": 0
      },
      "text/plain": [
       "  0%|          | 0/1 [00:00<?, ?it/s]"
      ]
     },
     "metadata": {},
     "output_type": "display_data"
    },
    {
     "name": "stdout",
     "output_type": "stream",
     "text": [
      "CSPR = 12.00 dB\n",
      "Results:\n",
      "BER: 1.56e-05\n",
      "SNR: 20.66 dB\n",
      "SIR =  13.49  dB\n",
      "GMI: 4.00 bits\n",
      "\n"
     ]
    },
    {
     "data": {
      "application/vnd.jupyter.widget-view+json": {
       "model_id": "a0c043beddf641f6a19f2461f32e64d3",
       "version_major": 2,
       "version_minor": 0
      },
      "text/plain": [
       "  0%|          | 0/1 [00:00<?, ?it/s]"
      ]
     },
     "metadata": {},
     "output_type": "display_data"
    },
    {
     "name": "stdout",
     "output_type": "stream",
     "text": [
      "CSPR = 12.00 dB\n",
      "Results:\n",
      "BER: 9.37e-06\n",
      "SNR: 20.30 dB\n",
      "SIR =  12.98  dB\n",
      "GMI: 4.00 bits\n",
      "\n"
     ]
    },
    {
     "data": {
      "application/vnd.jupyter.widget-view+json": {
       "model_id": "baea40a047614e59bb8f49bd5478f87a",
       "version_major": 2,
       "version_minor": 0
      },
      "text/plain": [
       "  0%|          | 0/1 [00:00<?, ?it/s]"
      ]
     },
     "metadata": {},
     "output_type": "display_data"
    },
    {
     "name": "stdout",
     "output_type": "stream",
     "text": [
      "CSPR = 12.00 dB\n",
      "Results:\n",
      "BER: 2.50e-05\n",
      "SNR: 20.00 dB\n",
      "SIR =  12.45  dB\n",
      "GMI: 4.00 bits\n",
      "\n"
     ]
    },
    {
     "data": {
      "application/vnd.jupyter.widget-view+json": {
       "model_id": "fed398dbd1704b13b0f7f3c3bda8be13",
       "version_major": 2,
       "version_minor": 0
      },
      "text/plain": [
       "  0%|          | 0/1 [00:00<?, ?it/s]"
      ]
     },
     "metadata": {},
     "output_type": "display_data"
    },
    {
     "name": "stdout",
     "output_type": "stream",
     "text": [
      "CSPR = 12.00 dB\n",
      "Results:\n",
      "BER: 2.81e-05\n",
      "SNR: 19.71 dB\n",
      "SIR =  12.04  dB\n",
      "GMI: 4.00 bits\n",
      "\n"
     ]
    },
    {
     "data": {
      "application/vnd.jupyter.widget-view+json": {
       "model_id": "9e93c55f99a74225b6c38d17c2b5b7b1",
       "version_major": 2,
       "version_minor": 0
      },
      "text/plain": [
       "  0%|          | 0/1 [00:00<?, ?it/s]"
      ]
     },
     "metadata": {},
     "output_type": "display_data"
    },
    {
     "name": "stdout",
     "output_type": "stream",
     "text": [
      "CSPR = 12.00 dB\n",
      "Results:\n",
      "BER: 8.44e-05\n",
      "SNR: 19.36 dB\n",
      "SIR =  11.6  dB\n",
      "GMI: 4.00 bits\n",
      "\n"
     ]
    },
    {
     "data": {
      "application/vnd.jupyter.widget-view+json": {
       "model_id": "0473bc563bf140269c6e546703723bba",
       "version_major": 2,
       "version_minor": 0
      },
      "text/plain": [
       "  0%|          | 0/1 [00:00<?, ?it/s]"
      ]
     },
     "metadata": {},
     "output_type": "display_data"
    },
    {
     "name": "stdout",
     "output_type": "stream",
     "text": [
      "CSPR = 12.00 dB\n",
      "Results:\n",
      "BER: 4.69e-05\n",
      "SNR: 19.15 dB\n",
      "SIR =  11.27  dB\n",
      "GMI: 4.00 bits\n",
      "\n"
     ]
    },
    {
     "data": {
      "application/vnd.jupyter.widget-view+json": {
       "model_id": "d292bd9458b242f0ab42151253305664",
       "version_major": 2,
       "version_minor": 0
      },
      "text/plain": [
       "  0%|          | 0/1 [00:00<?, ?it/s]"
      ]
     },
     "metadata": {},
     "output_type": "display_data"
    },
    {
     "name": "stdout",
     "output_type": "stream",
     "text": [
      "CSPR = 12.00 dB\n",
      "Results:\n",
      "BER: 7.50e-05\n",
      "SNR: 18.74 dB\n",
      "SIR =  10.8  dB\n",
      "GMI: 4.00 bits\n",
      "\n"
     ]
    },
    {
     "data": {
      "application/vnd.jupyter.widget-view+json": {
       "model_id": "07595c27dd004addbaf4c3d02e3c59f5",
       "version_major": 2,
       "version_minor": 0
      },
      "text/plain": [
       "  0%|          | 0/1 [00:00<?, ?it/s]"
      ]
     },
     "metadata": {},
     "output_type": "display_data"
    },
    {
     "name": "stdout",
     "output_type": "stream",
     "text": [
      "CSPR = 12.00 dB\n",
      "Results:\n",
      "BER: 1.59e-04\n",
      "SNR: 18.47 dB\n",
      "SIR =  10.46  dB\n",
      "GMI: 4.00 bits\n",
      "\n"
     ]
    },
    {
     "data": {
      "application/vnd.jupyter.widget-view+json": {
       "model_id": "b4b2a03e32ea41a8bfea70cc9ad8846f",
       "version_major": 2,
       "version_minor": 0
      },
      "text/plain": [
       "  0%|          | 0/1 [00:00<?, ?it/s]"
      ]
     },
     "metadata": {},
     "output_type": "display_data"
    },
    {
     "name": "stdout",
     "output_type": "stream",
     "text": [
      "CSPR = 12.00 dB\n",
      "Results:\n",
      "BER: 1.59e-04\n",
      "SNR: 18.27 dB\n",
      "SIR =  10.12  dB\n",
      "GMI: 4.00 bits\n",
      "\n"
     ]
    },
    {
     "data": {
      "application/vnd.jupyter.widget-view+json": {
       "model_id": "14f3774c867e41f6a87c65ff4e563cb0",
       "version_major": 2,
       "version_minor": 0
      },
      "text/plain": [
       "  0%|          | 0/1 [00:00<?, ?it/s]"
      ]
     },
     "metadata": {},
     "output_type": "display_data"
    },
    {
     "name": "stdout",
     "output_type": "stream",
     "text": [
      "CSPR = 12.00 dB\n",
      "Results:\n",
      "BER: 2.25e-04\n",
      "SNR: 18.02 dB\n",
      "SIR =  9.82  dB\n",
      "GMI: 4.00 bits\n",
      "\n"
     ]
    },
    {
     "data": {
      "application/vnd.jupyter.widget-view+json": {
       "model_id": "1ce6da41a2da4d6792ae84ec5a46a78b",
       "version_major": 2,
       "version_minor": 0
      },
      "text/plain": [
       "  0%|          | 0/1 [00:00<?, ?it/s]"
      ]
     },
     "metadata": {},
     "output_type": "display_data"
    },
    {
     "name": "stdout",
     "output_type": "stream",
     "text": [
      "CSPR = 12.00 dB\n",
      "Results:\n",
      "BER: 3.34e-04\n",
      "SNR: 17.82 dB\n",
      "SIR =  9.56  dB\n",
      "GMI: 3.99 bits\n",
      "\n"
     ]
    },
    {
     "data": {
      "application/vnd.jupyter.widget-view+json": {
       "model_id": "2273988f91d14e8187c910b363c64542",
       "version_major": 2,
       "version_minor": 0
      },
      "text/plain": [
       "  0%|          | 0/18 [00:00<?, ?it/s]"
      ]
     },
     "metadata": {},
     "output_type": "display_data"
    },
    {
     "data": {
      "application/vnd.jupyter.widget-view+json": {
       "model_id": "a14a8e9055d54cc085cfb98a7373168b",
       "version_major": 2,
       "version_minor": 0
      },
      "text/plain": [
       "  0%|          | 0/1 [00:00<?, ?it/s]"
      ]
     },
     "metadata": {},
     "output_type": "display_data"
    },
    {
     "name": "stdout",
     "output_type": "stream",
     "text": [
      "CSPR = 12.00 dB\n",
      "12500/12500 [==============================] - 8s 665us/step\n",
      "Results:\n",
      "BER: 6.25e-06\n",
      "SNR: 22.72 dB\n",
      "SIR =  22.1  dB\n",
      "GMI: 4.00 bits\n",
      "\n"
     ]
    },
    {
     "data": {
      "application/vnd.jupyter.widget-view+json": {
       "model_id": "e87e21f69b264384a3a32731919765ed",
       "version_major": 2,
       "version_minor": 0
      },
      "text/plain": [
       "  0%|          | 0/1 [00:00<?, ?it/s]"
      ]
     },
     "metadata": {},
     "output_type": "display_data"
    },
    {
     "name": "stdout",
     "output_type": "stream",
     "text": [
      "CSPR = 12.00 dB\n",
      "12500/12500 [==============================] - 9s 713us/step\n",
      "Results:\n",
      "BER: 3.13e-06\n",
      "SNR: 21.75 dB\n",
      "SIR =  20.29  dB\n",
      "GMI: 4.00 bits\n",
      "\n"
     ]
    },
    {
     "data": {
      "application/vnd.jupyter.widget-view+json": {
       "model_id": "2444327363fd40658a87768a0385f974",
       "version_major": 2,
       "version_minor": 0
      },
      "text/plain": [
       "  0%|          | 0/1 [00:00<?, ?it/s]"
      ]
     },
     "metadata": {},
     "output_type": "display_data"
    },
    {
     "name": "stdout",
     "output_type": "stream",
     "text": [
      "CSPR = 12.00 dB\n",
      "12500/12500 [==============================] - 8s 639us/step\n",
      "Results:\n",
      "BER: 6.25e-06\n",
      "SNR: 21.79 dB\n",
      "SIR =  19.09  dB\n",
      "GMI: 4.00 bits\n",
      "\n"
     ]
    },
    {
     "data": {
      "application/vnd.jupyter.widget-view+json": {
       "model_id": "df3653c7249944ca859ce96b10be044c",
       "version_major": 2,
       "version_minor": 0
      },
      "text/plain": [
       "  0%|          | 0/1 [00:00<?, ?it/s]"
      ]
     },
     "metadata": {},
     "output_type": "display_data"
    },
    {
     "name": "stdout",
     "output_type": "stream",
     "text": [
      "CSPR = 12.00 dB\n",
      "12500/12500 [==============================] - 8s 659us/step\n",
      "Results:\n",
      "BER: 3.13e-06\n",
      "SNR: 21.22 dB\n",
      "SIR =  17.7  dB\n",
      "GMI: 4.00 bits\n",
      "\n"
     ]
    },
    {
     "data": {
      "application/vnd.jupyter.widget-view+json": {
       "model_id": "1dcd558b32b441dda225e8e36b641107",
       "version_major": 2,
       "version_minor": 0
      },
      "text/plain": [
       "  0%|          | 0/1 [00:00<?, ?it/s]"
      ]
     },
     "metadata": {},
     "output_type": "display_data"
    },
    {
     "name": "stdout",
     "output_type": "stream",
     "text": [
      "CSPR = 12.00 dB\n",
      "12500/12500 [==============================] - 8s 674us/step\n",
      "Results:\n",
      "BER: 6.25e-06\n",
      "SNR: 21.90 dB\n",
      "SIR =  17.09  dB\n",
      "GMI: 4.00 bits\n",
      "\n"
     ]
    },
    {
     "data": {
      "application/vnd.jupyter.widget-view+json": {
       "model_id": "03d7e255cffc496f8dc7f8f960505324",
       "version_major": 2,
       "version_minor": 0
      },
      "text/plain": [
       "  0%|          | 0/1 [00:00<?, ?it/s]"
      ]
     },
     "metadata": {},
     "output_type": "display_data"
    },
    {
     "name": "stdout",
     "output_type": "stream",
     "text": [
      "CSPR = 12.00 dB\n",
      "12500/12500 [==============================] - 8s 629us/step\n",
      "Results:\n",
      "BER: 9.37e-06\n",
      "SNR: 20.93 dB\n",
      "SIR =  15.97  dB\n",
      "GMI: 4.00 bits\n",
      "\n"
     ]
    },
    {
     "data": {
      "application/vnd.jupyter.widget-view+json": {
       "model_id": "f43785662263440182c3650826c4b6ad",
       "version_major": 2,
       "version_minor": 0
      },
      "text/plain": [
       "  0%|          | 0/1 [00:00<?, ?it/s]"
      ]
     },
     "metadata": {},
     "output_type": "display_data"
    },
    {
     "name": "stdout",
     "output_type": "stream",
     "text": [
      "CSPR = 12.00 dB\n",
      "12500/12500 [==============================] - 8s 656us/step\n",
      "Results:\n",
      "BER: 1.87e-05\n",
      "SNR: 20.64 dB\n",
      "SIR =  15.42  dB\n",
      "GMI: 4.00 bits\n",
      "\n"
     ]
    },
    {
     "data": {
      "application/vnd.jupyter.widget-view+json": {
       "model_id": "d3377d1ad94140afacff9ddcf3c9b9db",
       "version_major": 2,
       "version_minor": 0
      },
      "text/plain": [
       "  0%|          | 0/1 [00:00<?, ?it/s]"
      ]
     },
     "metadata": {},
     "output_type": "display_data"
    },
    {
     "name": "stdout",
     "output_type": "stream",
     "text": [
      "CSPR = 12.00 dB\n",
      "12500/12500 [==============================] - 8s 666us/step\n",
      "Results:\n",
      "BER: 2.19e-05\n",
      "SNR: 20.92 dB\n",
      "SIR =  14.99  dB\n",
      "GMI: 4.00 bits\n",
      "\n"
     ]
    },
    {
     "data": {
      "application/vnd.jupyter.widget-view+json": {
       "model_id": "f64bb67db63c41e782cc56a7fd615ea6",
       "version_major": 2,
       "version_minor": 0
      },
      "text/plain": [
       "  0%|          | 0/1 [00:00<?, ?it/s]"
      ]
     },
     "metadata": {},
     "output_type": "display_data"
    },
    {
     "name": "stdout",
     "output_type": "stream",
     "text": [
      "CSPR = 12.00 dB\n",
      "12500/12500 [==============================] - 8s 645us/step\n",
      "Results:\n",
      "BER: 1.87e-05\n",
      "SNR: 20.17 dB\n",
      "SIR =  14.3  dB\n",
      "GMI: 4.00 bits\n",
      "\n"
     ]
    },
    {
     "data": {
      "application/vnd.jupyter.widget-view+json": {
       "model_id": "cbc5db7b0e5748f38b612c56a605a6f9",
       "version_major": 2,
       "version_minor": 0
      },
      "text/plain": [
       "  0%|          | 0/1 [00:00<?, ?it/s]"
      ]
     },
     "metadata": {},
     "output_type": "display_data"
    },
    {
     "name": "stdout",
     "output_type": "stream",
     "text": [
      "CSPR = 12.00 dB\n",
      "12500/12500 [==============================] - 9s 699us/step\n",
      "Results:\n",
      "BER: 3.13e-06\n",
      "SNR: 20.09 dB\n",
      "SIR =  13.89  dB\n",
      "GMI: 4.00 bits\n",
      "\n"
     ]
    },
    {
     "data": {
      "application/vnd.jupyter.widget-view+json": {
       "model_id": "1a7d8bfda8ee4e39bd554bed44404174",
       "version_major": 2,
       "version_minor": 0
      },
      "text/plain": [
       "  0%|          | 0/1 [00:00<?, ?it/s]"
      ]
     },
     "metadata": {},
     "output_type": "display_data"
    },
    {
     "name": "stdout",
     "output_type": "stream",
     "text": [
      "CSPR = 12.00 dB\n",
      "12500/12500 [==============================] - 8s 645us/step\n",
      "Results:\n",
      "BER: 9.37e-06\n",
      "SNR: 19.90 dB\n",
      "SIR =  13.4  dB\n",
      "GMI: 4.00 bits\n",
      "\n"
     ]
    },
    {
     "data": {
      "application/vnd.jupyter.widget-view+json": {
       "model_id": "0479746d814e48dca35d3d6b8d853459",
       "version_major": 2,
       "version_minor": 0
      },
      "text/plain": [
       "  0%|          | 0/1 [00:00<?, ?it/s]"
      ]
     },
     "metadata": {},
     "output_type": "display_data"
    },
    {
     "name": "stdout",
     "output_type": "stream",
     "text": [
      "CSPR = 12.00 dB\n",
      "12500/12500 [==============================] - 8s 643us/step\n",
      "Results:\n",
      "BER: 1.25e-05\n",
      "SNR: 19.97 dB\n",
      "SIR =  10.6  dB\n",
      "GMI: 4.00 bits\n",
      "\n"
     ]
    },
    {
     "data": {
      "application/vnd.jupyter.widget-view+json": {
       "model_id": "703f10433a4747b8833b41c8ef4afe56",
       "version_major": 2,
       "version_minor": 0
      },
      "text/plain": [
       "  0%|          | 0/1 [00:00<?, ?it/s]"
      ]
     },
     "metadata": {},
     "output_type": "display_data"
    },
    {
     "name": "stdout",
     "output_type": "stream",
     "text": [
      "CSPR = 12.00 dB\n",
      "12500/12500 [==============================] - 9s 724us/step\n",
      "Results:\n",
      "BER: 7.19e-05\n",
      "SNR: 18.89 dB\n",
      "SIR =  12.55  dB\n",
      "GMI: 4.00 bits\n",
      "\n"
     ]
    },
    {
     "data": {
      "application/vnd.jupyter.widget-view+json": {
       "model_id": "82dd27a8044e4587bb0964ad28ddd4c4",
       "version_major": 2,
       "version_minor": 0
      },
      "text/plain": [
       "  0%|          | 0/1 [00:00<?, ?it/s]"
      ]
     },
     "metadata": {},
     "output_type": "display_data"
    },
    {
     "name": "stdout",
     "output_type": "stream",
     "text": [
      "CSPR = 12.00 dB\n",
      "12500/12500 [==============================] - 9s 719us/step\n",
      "Results:\n",
      "BER: 1.44e-04\n",
      "SNR: 18.42 dB\n",
      "SIR =  12.71  dB\n",
      "GMI: 4.00 bits\n",
      "\n"
     ]
    },
    {
     "data": {
      "application/vnd.jupyter.widget-view+json": {
       "model_id": "809a19b3bd3a46cb8e6907aacfb1fd51",
       "version_major": 2,
       "version_minor": 0
      },
      "text/plain": [
       "  0%|          | 0/1 [00:00<?, ?it/s]"
      ]
     },
     "metadata": {},
     "output_type": "display_data"
    },
    {
     "name": "stdout",
     "output_type": "stream",
     "text": [
      "CSPR = 12.00 dB\n",
      "12500/12500 [==============================] - 8s 632us/step\n",
      "Results:\n",
      "BER: 6.25e-05\n",
      "SNR: 19.04 dB\n",
      "SIR =  11.88  dB\n",
      "GMI: 4.00 bits\n",
      "\n"
     ]
    },
    {
     "data": {
      "application/vnd.jupyter.widget-view+json": {
       "model_id": "c183ca8cc0674c259f7c4438aa4088d0",
       "version_major": 2,
       "version_minor": 0
      },
      "text/plain": [
       "  0%|          | 0/1 [00:00<?, ?it/s]"
      ]
     },
     "metadata": {},
     "output_type": "display_data"
    },
    {
     "name": "stdout",
     "output_type": "stream",
     "text": [
      "CSPR = 12.00 dB\n",
      "12500/12500 [==============================] - 8s 654us/step\n",
      "Results:\n",
      "BER: 3.13e-05\n",
      "SNR: 19.02 dB\n",
      "SIR =  11.65  dB\n",
      "GMI: 4.00 bits\n",
      "\n"
     ]
    },
    {
     "data": {
      "application/vnd.jupyter.widget-view+json": {
       "model_id": "79f6045ed5b54287a3dc9144dde4c5a7",
       "version_major": 2,
       "version_minor": 0
      },
      "text/plain": [
       "  0%|          | 0/1 [00:00<?, ?it/s]"
      ]
     },
     "metadata": {},
     "output_type": "display_data"
    },
    {
     "name": "stdout",
     "output_type": "stream",
     "text": [
      "CSPR = 12.00 dB\n",
      "12500/12500 [==============================] - 8s 603us/step\n",
      "Results:\n",
      "BER: 7.50e-05\n",
      "SNR: 18.82 dB\n",
      "SIR =  11.29  dB\n",
      "GMI: 4.00 bits\n",
      "\n"
     ]
    },
    {
     "data": {
      "application/vnd.jupyter.widget-view+json": {
       "model_id": "1c9d2af18fd64fdb85fd0690634f4635",
       "version_major": 2,
       "version_minor": 0
      },
      "text/plain": [
       "  0%|          | 0/1 [00:00<?, ?it/s]"
      ]
     },
     "metadata": {},
     "output_type": "display_data"
    },
    {
     "name": "stdout",
     "output_type": "stream",
     "text": [
      "CSPR = 12.00 dB\n",
      "12500/12500 [==============================] - 8s 654us/step\n",
      "Results:\n",
      "BER: 7.50e-05\n",
      "SNR: 18.72 dB\n",
      "SIR =  11.03  dB\n",
      "GMI: 4.00 bits\n",
      "\n"
     ]
    },
    {
     "data": {
      "application/vnd.jupyter.widget-view+json": {
       "model_id": "f2a3ec037922499d8d4deff1c0103a5d",
       "version_major": 2,
       "version_minor": 0
      },
      "text/plain": [
       "  0%|          | 0/18 [00:00<?, ?it/s]"
      ]
     },
     "metadata": {},
     "output_type": "display_data"
    },
    {
     "data": {
      "application/vnd.jupyter.widget-view+json": {
       "model_id": "65ee13cef92c4c79a3db69febc47a683",
       "version_major": 2,
       "version_minor": 0
      },
      "text/plain": [
       "  0%|          | 0/1 [00:00<?, ?it/s]"
      ]
     },
     "metadata": {},
     "output_type": "display_data"
    },
    {
     "name": "stdout",
     "output_type": "stream",
     "text": [
      "CSPR = 12.00 dB\n",
      "12500/12500 [==============================] - 67s 5ms/step\n",
      "Results:\n",
      "BER: 0.00e+00\n",
      "SNR: 24.55 dB\n",
      "SIR =  23.51  dB\n",
      "GMI: 4.00 bits\n",
      "\n"
     ]
    },
    {
     "data": {
      "application/vnd.jupyter.widget-view+json": {
       "model_id": "2349dacf5ff14d70bacc9f5ee71c2649",
       "version_major": 2,
       "version_minor": 0
      },
      "text/plain": [
       "  0%|          | 0/1 [00:00<?, ?it/s]"
      ]
     },
     "metadata": {},
     "output_type": "display_data"
    },
    {
     "name": "stdout",
     "output_type": "stream",
     "text": [
      "CSPR = 12.00 dB\n",
      "12500/12500 [==============================] - 60s 5ms/step\n",
      "Results:\n",
      "BER: 0.00e+00\n",
      "SNR: 22.64 dB\n",
      "SIR =  20.91  dB\n",
      "GMI: 4.00 bits\n",
      "\n"
     ]
    },
    {
     "data": {
      "application/vnd.jupyter.widget-view+json": {
       "model_id": "c9b258b3194341699ef3c8063d8ccf2c",
       "version_major": 2,
       "version_minor": 0
      },
      "text/plain": [
       "  0%|          | 0/1 [00:00<?, ?it/s]"
      ]
     },
     "metadata": {},
     "output_type": "display_data"
    },
    {
     "name": "stdout",
     "output_type": "stream",
     "text": [
      "CSPR = 12.00 dB\n",
      "12500/12500 [==============================] - 69s 6ms/step\n",
      "Results:\n",
      "BER: 0.00e+00\n",
      "SNR: 22.13 dB\n",
      "SIR =  19.37  dB\n",
      "GMI: 4.00 bits\n",
      "\n"
     ]
    },
    {
     "data": {
      "application/vnd.jupyter.widget-view+json": {
       "model_id": "6c296c6673f44a64bddcd5310e44fa4c",
       "version_major": 2,
       "version_minor": 0
      },
      "text/plain": [
       "  0%|          | 0/1 [00:00<?, ?it/s]"
      ]
     },
     "metadata": {},
     "output_type": "display_data"
    },
    {
     "name": "stdout",
     "output_type": "stream",
     "text": [
      "CSPR = 12.00 dB\n",
      "12500/12500 [==============================] - 68s 5ms/step\n",
      "Results:\n",
      "BER: 0.00e+00\n",
      "SNR: 22.05 dB\n",
      "SIR =  18.11  dB\n",
      "GMI: 4.00 bits\n",
      "\n"
     ]
    },
    {
     "data": {
      "application/vnd.jupyter.widget-view+json": {
       "model_id": "3d370e1a76e44ce4b500ed8941042408",
       "version_major": 2,
       "version_minor": 0
      },
      "text/plain": [
       "  0%|          | 0/1 [00:00<?, ?it/s]"
      ]
     },
     "metadata": {},
     "output_type": "display_data"
    },
    {
     "name": "stdout",
     "output_type": "stream",
     "text": [
      "CSPR = 12.00 dB\n",
      "12500/12500 [==============================] - 66s 5ms/step\n",
      "Results:\n",
      "BER: 0.00e+00\n",
      "SNR: 22.20 dB\n",
      "SIR =  17.17  dB\n",
      "GMI: 4.00 bits\n",
      "\n"
     ]
    },
    {
     "data": {
      "application/vnd.jupyter.widget-view+json": {
       "model_id": "adaa29b5d9164eb788dd4055767f9d72",
       "version_major": 2,
       "version_minor": 0
      },
      "text/plain": [
       "  0%|          | 0/1 [00:00<?, ?it/s]"
      ]
     },
     "metadata": {},
     "output_type": "display_data"
    },
    {
     "name": "stdout",
     "output_type": "stream",
     "text": [
      "CSPR = 12.00 dB\n",
      "12500/12500 [==============================] - 63s 5ms/step\n",
      "Results:\n",
      "BER: 0.00e+00\n",
      "SNR: 21.98 dB\n",
      "SIR =  16.34  dB\n",
      "GMI: 4.00 bits\n",
      "\n"
     ]
    },
    {
     "data": {
      "application/vnd.jupyter.widget-view+json": {
       "model_id": "8cb3986e0fd54527b8de9bb6c85a2996",
       "version_major": 2,
       "version_minor": 0
      },
      "text/plain": [
       "  0%|          | 0/1 [00:00<?, ?it/s]"
      ]
     },
     "metadata": {},
     "output_type": "display_data"
    },
    {
     "name": "stdout",
     "output_type": "stream",
     "text": [
      "CSPR = 12.00 dB\n",
      "12500/12500 [==============================] - 62s 5ms/step\n",
      "Results:\n",
      "BER: 0.00e+00\n",
      "SNR: 21.63 dB\n",
      "SIR =  15.64  dB\n",
      "GMI: 4.00 bits\n",
      "\n"
     ]
    },
    {
     "data": {
      "application/vnd.jupyter.widget-view+json": {
       "model_id": "b13eeee07870418eb4482d85cfa5530e",
       "version_major": 2,
       "version_minor": 0
      },
      "text/plain": [
       "  0%|          | 0/1 [00:00<?, ?it/s]"
      ]
     },
     "metadata": {},
     "output_type": "display_data"
    },
    {
     "name": "stdout",
     "output_type": "stream",
     "text": [
      "CSPR = 12.00 dB\n",
      "12500/12500 [==============================] - 62s 5ms/step\n",
      "Results:\n",
      "BER: 0.00e+00\n",
      "SNR: 21.04 dB\n",
      "SIR =  15.08  dB\n",
      "GMI: 4.00 bits\n",
      "\n"
     ]
    },
    {
     "data": {
      "application/vnd.jupyter.widget-view+json": {
       "model_id": "1253a9d27c87465a8c084bb68680a336",
       "version_major": 2,
       "version_minor": 0
      },
      "text/plain": [
       "  0%|          | 0/1 [00:00<?, ?it/s]"
      ]
     },
     "metadata": {},
     "output_type": "display_data"
    },
    {
     "name": "stdout",
     "output_type": "stream",
     "text": [
      "CSPR = 12.00 dB\n",
      "12500/12500 [==============================] - 66s 5ms/step\n",
      "Results:\n",
      "BER: 0.00e+00\n",
      "SNR: 20.73 dB\n",
      "SIR =  14.47  dB\n",
      "GMI: 4.00 bits\n",
      "\n"
     ]
    },
    {
     "data": {
      "application/vnd.jupyter.widget-view+json": {
       "model_id": "82ba367ca93d485e9eaec196b2da8131",
       "version_major": 2,
       "version_minor": 0
      },
      "text/plain": [
       "  0%|          | 0/1 [00:00<?, ?it/s]"
      ]
     },
     "metadata": {},
     "output_type": "display_data"
    },
    {
     "name": "stdout",
     "output_type": "stream",
     "text": [
      "CSPR = 12.00 dB\n",
      "12500/12500 [==============================] - 63s 5ms/step\n",
      "Results:\n",
      "BER: 6.25e-06\n",
      "SNR: 20.42 dB\n",
      "SIR =  14.03  dB\n",
      "GMI: 4.00 bits\n",
      "\n"
     ]
    },
    {
     "data": {
      "application/vnd.jupyter.widget-view+json": {
       "model_id": "1657844fde7a49cc8cc2767b464be9b2",
       "version_major": 2,
       "version_minor": 0
      },
      "text/plain": [
       "  0%|          | 0/1 [00:00<?, ?it/s]"
      ]
     },
     "metadata": {},
     "output_type": "display_data"
    },
    {
     "name": "stdout",
     "output_type": "stream",
     "text": [
      "CSPR = 12.00 dB\n",
      "12500/12500 [==============================] - 64s 5ms/step\n",
      "Results:\n",
      "BER: 1.25e-05\n",
      "SNR: 20.03 dB\n",
      "SIR =  14.5  dB\n",
      "GMI: 4.00 bits\n",
      "\n"
     ]
    },
    {
     "data": {
      "application/vnd.jupyter.widget-view+json": {
       "model_id": "e0cef3ed1a1642feae2a2b44388755e9",
       "version_major": 2,
       "version_minor": 0
      },
      "text/plain": [
       "  0%|          | 0/1 [00:00<?, ?it/s]"
      ]
     },
     "metadata": {},
     "output_type": "display_data"
    },
    {
     "name": "stdout",
     "output_type": "stream",
     "text": [
      "CSPR = 12.00 dB\n",
      "12500/12500 [==============================] - 64s 5ms/step\n",
      "Results:\n",
      "BER: 9.37e-06\n",
      "SNR: 19.69 dB\n",
      "SIR =  13.09  dB\n",
      "GMI: 4.00 bits\n",
      "\n"
     ]
    },
    {
     "data": {
      "application/vnd.jupyter.widget-view+json": {
       "model_id": "ffe1fc1469d14729ae8e370473e018f9",
       "version_major": 2,
       "version_minor": 0
      },
      "text/plain": [
       "  0%|          | 0/1 [00:00<?, ?it/s]"
      ]
     },
     "metadata": {},
     "output_type": "display_data"
    },
    {
     "name": "stdout",
     "output_type": "stream",
     "text": [
      "CSPR = 12.00 dB\n",
      "12500/12500 [==============================] - 63s 5ms/step\n",
      "Results:\n",
      "BER: 1.56e-05\n",
      "SNR: 19.97 dB\n",
      "SIR =  13.12  dB\n",
      "GMI: 4.00 bits\n",
      "\n"
     ]
    },
    {
     "data": {
      "application/vnd.jupyter.widget-view+json": {
       "model_id": "903459a177d94527a50c3cc1ea4a3b9b",
       "version_major": 2,
       "version_minor": 0
      },
      "text/plain": [
       "  0%|          | 0/1 [00:00<?, ?it/s]"
      ]
     },
     "metadata": {},
     "output_type": "display_data"
    },
    {
     "name": "stdout",
     "output_type": "stream",
     "text": [
      "CSPR = 12.00 dB\n",
      "12500/12500 [==============================] - 72s 6ms/step\n",
      "Results:\n",
      "BER: 3.75e-05\n",
      "SNR: 19.46 dB\n",
      "SIR =  12.32  dB\n",
      "GMI: 4.00 bits\n",
      "\n"
     ]
    },
    {
     "data": {
      "application/vnd.jupyter.widget-view+json": {
       "model_id": "b40c6a63cf6f4dfd886e50d6be2c2658",
       "version_major": 2,
       "version_minor": 0
      },
      "text/plain": [
       "  0%|          | 0/1 [00:00<?, ?it/s]"
      ]
     },
     "metadata": {},
     "output_type": "display_data"
    },
    {
     "name": "stdout",
     "output_type": "stream",
     "text": [
      "CSPR = 12.00 dB\n",
      "12500/12500 [==============================] - 73s 6ms/step\n",
      "Results:\n",
      "BER: 6.25e-06\n",
      "SNR: 20.20 dB\n",
      "SIR =  12.85  dB\n",
      "GMI: 4.00 bits\n",
      "\n"
     ]
    },
    {
     "data": {
      "application/vnd.jupyter.widget-view+json": {
       "model_id": "a359911cd69e4132837b221db210cfe7",
       "version_major": 2,
       "version_minor": 0
      },
      "text/plain": [
       "  0%|          | 0/1 [00:00<?, ?it/s]"
      ]
     },
     "metadata": {},
     "output_type": "display_data"
    },
    {
     "name": "stdout",
     "output_type": "stream",
     "text": [
      "CSPR = 12.00 dB\n",
      "12500/12500 [==============================] - 71s 6ms/step\n",
      "Results:\n",
      "BER: 1.87e-05\n",
      "SNR: 20.00 dB\n",
      "SIR =  12.68  dB\n",
      "GMI: 4.00 bits\n",
      "\n"
     ]
    },
    {
     "data": {
      "application/vnd.jupyter.widget-view+json": {
       "model_id": "e3c7b20d6b614095801354a405e4c306",
       "version_major": 2,
       "version_minor": 0
      },
      "text/plain": [
       "  0%|          | 0/1 [00:00<?, ?it/s]"
      ]
     },
     "metadata": {},
     "output_type": "display_data"
    },
    {
     "name": "stdout",
     "output_type": "stream",
     "text": [
      "CSPR = 12.00 dB\n",
      "12500/12500 [==============================] - 69s 5ms/step\n",
      "Results:\n",
      "BER: 4.06e-05\n",
      "SNR: 19.70 dB\n",
      "SIR =  12.23  dB\n",
      "GMI: 4.00 bits\n",
      "\n"
     ]
    },
    {
     "data": {
      "application/vnd.jupyter.widget-view+json": {
       "model_id": "a0d5ba7e904c4aaba9a2480b98b352e8",
       "version_major": 2,
       "version_minor": 0
      },
      "text/plain": [
       "  0%|          | 0/1 [00:00<?, ?it/s]"
      ]
     },
     "metadata": {},
     "output_type": "display_data"
    },
    {
     "name": "stdout",
     "output_type": "stream",
     "text": [
      "CSPR = 12.00 dB\n",
      "12500/12500 [==============================] - 68s 5ms/step\n",
      "Results:\n",
      "BER: 3.75e-05\n",
      "SNR: 19.68 dB\n",
      "SIR =  11.91  dB\n",
      "GMI: 4.00 bits\n",
      "\n"
     ]
    }
   ],
   "source": [
    "Rolloff = np.arange(0.05, 0.95, 0.05)\n",
    "BER = np.zeros((3, len(Rolloff)))\n",
    "SER = np.zeros((3, len(Rolloff)))\n",
    "GMI = np.zeros((3, len(Rolloff)))\n",
    "MI  = np.zeros((3, len(Rolloff)))\n",
    "SNR = np.zeros((3, len(Rolloff)))\n",
    "SIR = np.zeros((3, len(Rolloff)))\n",
    "\n",
    "for indfile in range(0, Interactions):\n",
    "    for indAlg, alg in enumerate(['KK', 'MLP', 'CONVNET']):\n",
    "        for indRoll, rollOff in enumerate(tqdm(Rolloff)):\n",
    "            \n",
    "            paramTx.alphaRRC = rollOff \n",
    "            # generate optical signal signal\n",
    "            sigTx, symbTx_, paramTx = simpleWDMTx(paramTx)\n",
    "\n",
    "            # simulate linear signal propagation\n",
    "            sigCh = linFiberCh(sigTx, Ltotal, alpha, D, Fc, Fs)\n",
    "\n",
    "            symbTx = symbTx_[:, :, chIndex]\n",
    "            Plo = 10 ** (Plo_dBm / 10) * 1e-3  # power in W\n",
    "\n",
    "            # generate LO field\n",
    "            π = np.pi\n",
    "            t = np.arange(0, len(sigCh))*Ts\n",
    "            ϕ_pn_lo = phaseNoise(lw, len(sigCh), Ts)\n",
    "\n",
    "            sigLO = np.sqrt(Plo) * np.exp(-1j * (2 * π * FO * t + ϕ_lo + ϕ_pn_lo))\n",
    "\n",
    "            # Add LO to the received signal\n",
    "            sigRx = np.sqrt(Plo) + sigCh* np.exp(1j * (2 * π * FO * t + ϕ_lo + ϕ_pn_lo))\n",
    "            sfm   = sigRx.copy()\n",
    "\n",
    "            print('CSPR = %.2f dB'%(10*np.log10(signal_power(sigLO)/signal_power(sigCh))))\n",
    "\n",
    "            # simulate ideal direct-detection optical receiver\n",
    "            Ipd = photodiode(sigRx, paramPD)\n",
    "            Amp = np.sqrt(Ipd.real)\n",
    "            Amp = resample(Amp, paramADC).real\n",
    "\n",
    "            # resampling to ADC sampling rate\n",
    "            sigCh = resample(sigCh, paramADC)\n",
    "            sfm = resample(sfm, paramADC)\n",
    "            newFs = paramADC.SpS_out*paramTx.Rs\n",
    "\n",
    "            sfm = sfm/np.sqrt(signal_power(sfm))\n",
    "            if alg == 'KK':\n",
    "                # Kramers-Kronig phase-retrieval\n",
    "                phiTime = KramersKronigRx(Amp, newFs)\n",
    "                # optical field reconstruction\n",
    "                sigRx = Amp*np.exp(1j*phiTime)\n",
    "\n",
    "            elif alg == 'MLP':\n",
    "                # Mlp phase-retrieval\n",
    "                model = tf.keras.models.load_model(path_mlp+'testModel_SpS_'+str(paramADC.SpS_out)+'_FO_'+str(FO/10e9)+'GHz_Rolloff_'+str(round(paramTx.alphaRRC, 2))) \n",
    "                #sigPhase = np.angle(sfm) # get signal phase samples (labels) (L,)\n",
    "                sigAmp  = np.pad(Amp, (int(N/2), int(N/2)), 'constant') # get signal amplitude samples (L,)\n",
    "                # create set of input features\n",
    "                X_input = np.zeros((len(sfm), N)) #(L,N)\n",
    "\n",
    "                for indPhase in range(len(sfm)):\n",
    "                    X_input[indPhase] = sigAmp[indPhase:N+indPhase]\n",
    "\n",
    "                sigRx_NN = model.predict(X_input)\n",
    "                # optical field reconstruction\n",
    "                sigRx = sigRx_NN[:,0]+1j*sigRx_NN[:,1]\n",
    "\n",
    "            elif alg == 'CONVNET':\n",
    "                # ConvNet phase-retrieval\n",
    "                model = tf.keras.models.load_model(path_conv+'testModel_SpS_'+str(paramADC.SpS_out)+'_FO_'+str(FO/10e9)+'GHz_Rolloff_'+str(round(paramTx.alphaRRC, 2)))\n",
    "                #sigPhase = np.angle(sfm) # get signal phase samples (labels) (L,)\n",
    "                sigAmp  = np.pad(Amp, (int(N/2), int(N/2)), 'constant') # get signal amplitude samples (L,)\n",
    "                # create set of input features\n",
    "                X_input = np.zeros((len(sfm), N)) #(L,N)\n",
    "\n",
    "                for indPhase in range(len(sfm)):\n",
    "                    X_input[indPhase] = sigAmp[indPhase:N+indPhase]\n",
    "\n",
    "                sigRx_NN = model.predict(X_input)\n",
    "                # optical field reconstruction\n",
    "                sigRx = sigRx_NN[:,0]+1j*sigRx_NN[:,1]    \n",
    "\n",
    "            # remove DC level\n",
    "            sigRx -= np.mean(sigRx) # np.sqrt(Plo)  \n",
    "\n",
    "            # downshift to baseband\n",
    "            t = np.arange(0, len(sigRx))*(1/newFs)\n",
    "            sigRx *= np.exp(-1j * (2 * π * FO * t))\n",
    "            \n",
    "            # Matched filtering\n",
    "            if paramTx.pulse == \"nrz\":\n",
    "                pulse = pulseShape(\"nrz\", paramADC.SpS_out)\n",
    "            elif paramTx.pulse == \"rrc\":\n",
    "                pulse = pulseShape(\n",
    "                    \"rrc\", paramADC.SpS_out, N=paramTx.Ntaps, alpha=paramTx.alphaRRC, Ts=1 / paramTx.Rs\n",
    "                )\n",
    "\n",
    "            pulse = pulse / np.max(np.abs(pulse))\n",
    "            sigRx = firFilter(pulse, sigRx)\n",
    "            sigCh = firFilter(pulse, sigCh)\n",
    "            \n",
    "            # correct for (possible) phase ambiguity\n",
    "            rot = np.mean(sigCh/sigRx)\n",
    "            sigRx = rot * sigRx\n",
    "            sigRx = sigRx / np.sqrt(signal_power(sigRx))\n",
    "\n",
    "            intf = sigRx/np.sqrt(signal_power(sigRx))-sigCh/np.sqrt(signal_power(sigCh))\n",
    "\n",
    "            SIR[indAlg, indRoll] = 1/signal_power(intf)\n",
    "\n",
    "\n",
    "            # resample to 2 samples/symbol:\n",
    "            paramRes = parameters()\n",
    "            paramRes.Rs = paramTx.Rs\n",
    "            paramRes.SpS_in  = paramADC.SpS_out\n",
    "            paramRes.SpS_out = 2\n",
    "\n",
    "            sigRx = resample(sigRx, paramRes)\n",
    "\n",
    "            # CD compensation\n",
    "            sigRx = edc(sigRx, Ltotal, D, Fc, paramRes.SpS_out*paramTx.Rs)\n",
    "\n",
    "            # Downsampling to 2 sps and re-synchronization with transmitted sequences\n",
    "            sigRx = sigRx.reshape(-1, 1)\n",
    "\n",
    "            symbRx = symbolSync(sigRx, symbTx, 2)\n",
    "\n",
    "            # Power normalization\n",
    "            x = sigRx\n",
    "            d = symbRx\n",
    "\n",
    "            x = x.reshape(len(x), 1) / np.sqrt(signal_power(x))\n",
    "            d = d.reshape(len(d), 1) / np.sqrt(signal_power(d))\n",
    "\n",
    "            # Adaptive equalization\n",
    "            mod = QAMModem(m=paramTx.M)\n",
    "\n",
    "            paramEq = parameters()\n",
    "            paramEq.nTaps = 15\n",
    "            paramEq.SpS = 2\n",
    "            paramEq.mu = [1e-3, 5e-4]\n",
    "            paramEq.numIter = 5\n",
    "            paramEq.storeCoeff = False\n",
    "            paramEq.alg = [\"da-rde\", \"rde\"]\n",
    "            paramEq.M = paramTx.M\n",
    "            paramEq.L = [20000, 80000]\n",
    "            paramEq.prgsBar = False\n",
    "\n",
    "            y_EQ, H, errSq, Hiter = mimoAdaptEqualizer(x, dx=d, paramEq=paramEq)\n",
    "\n",
    "            # Carrier phase recovery\n",
    "            paramCPR = parameters()\n",
    "            paramCPR.alg = \"bps\"\n",
    "            paramCPR.M = paramTx.M\n",
    "            paramCPR.N = 85\n",
    "            paramCPR.B = 64\n",
    "            paramCPR.pilotInd = np.arange(0, len(y_EQ), 20)\n",
    "\n",
    "            y_CPR, θ = cpr(y_EQ, symbTx=d, paramCPR=paramCPR)\n",
    "\n",
    "            y_CPR = y_CPR / np.sqrt(signal_power(y_CPR))\n",
    "\n",
    "            # correct for (possible) phase ambiguity\n",
    "            for k in range(y_CPR.shape[1]):\n",
    "                rot = np.mean(d[:, k] / y_CPR[:, k])\n",
    "                y_CPR[:, k] = rot * y_CPR[:, k]\n",
    "\n",
    "            y_CPR = y_CPR / np.sqrt(signal_power(y_CPR))\n",
    "\n",
    "            discard = int(paramEq.L[0]/2)\n",
    "\n",
    "            ind = np.arange(discard, d.shape[0] - discard)\n",
    "            BER[indAlg,indRoll], SER[indAlg,indRoll], SNR[indAlg,indRoll] = fastBERcalc(y_CPR[ind, :], d[ind, :], paramTx.M, 'qam')\n",
    "            GMI[indAlg,indRoll], _ = monteCarloGMI(y_CPR[ind, :], d[ind, :],  paramTx.M, 'qam')\n",
    "            MI[indAlg,indRoll] = monteCarloMI(y_CPR[ind, :], d[ind, :],  paramTx.M, 'qam')\n",
    "\n",
    "            print(\"Results:\")\n",
    "            print(\"BER: %.2e\" %(BER[indAlg,indRoll]))\n",
    "            print(\"SNR: %.2f dB\" %(SNR[indAlg,indRoll]))\n",
    "            print('SIR = ', round(10*np.log10(SIR[indAlg,indRoll]), 2), ' dB')\n",
    "            print(\"GMI: %.2f bits\\n\" %(GMI[indAlg,indRoll]))\n",
    "\n",
    "    if saveData:\n",
    "        # save the simulation data\n",
    "        np.save(path_data+'Rolloff_BER_SpS_'+str(paramADC.SpS_out)+'_'+str(N)+'_Sample_'+str(indfile), BER)\n",
    "        np.save(path_data+'Rolloff_SNR_SpS_'+str(paramADC.SpS_out)+'_'+str(N)+'_Sample_'+str(indfile), SNR)\n",
    "        np.save(path_data+'Rolloff_SIR_SpS_'+str(paramADC.SpS_out)+'_'+str(N)+'_Sample_'+str(indfile), SIR)\n",
    "        np.save(path_data+'Rolloff_SER_SpS_'+str(paramADC.SpS_out)+'_'+str(N)+'_Sample_'+str(indfile), SER)"
   ]
  },
  {
   "attachments": {},
   "cell_type": "markdown",
   "metadata": {},
   "source": [
    "## Simulation of a single polarization optical signal transmission"
   ]
  },
  {
   "cell_type": "code",
   "execution_count": 10,
   "metadata": {},
   "outputs": [],
   "source": [
    "## Transmitter parameters:\n",
    "paramTx = parameters()\n",
    "paramTx.M = 16                 # order of the modulation format\n",
    "paramTx.Rs = 32e9              # symbol rate [baud]\n",
    "paramTx.SpS = 4                # samples per symbol\n",
    "paramTx.Nbits = 400000         # total number of bits per polarization\n",
    "paramTx.pulse = \"rrc\"          # pulse shaping filter\n",
    "paramTx.Ntaps = 1024           # number of pulse shaping filter coefficients\n",
    "paramTx.alphaRRC = 0.5         # RRC rolloff\n",
    "paramTx.Pch_dBm = 0            # power of the optical signal [dBm]\n",
    "paramTx.Nch = 1                # number of WDM channels\n",
    "paramTx.Fc = 193.1e12          # central frequency of the optical spectrum\n",
    "paramTx.freqSpac = 37.5e9      # WDM grid spacing\n",
    "\n",
    "## Optical channel parameters:\n",
    "Ltotal = 100     # total link distance [km]\n",
    "alpha = 0        # fiber loss parameter [dB/km]\n",
    "D = 16           # fiber dispersion parameter [ps/nm/km]\n",
    "Fc = paramTx.Fc  # central optical frequency of the WDM spectrum [Hz]\n",
    "\n",
    "## Receiver parameters:\n",
    "\n",
    "# local oscillator (LO)\n",
    "# FO = paramTx.Rs/2  # frequency offset\n",
    "lw = 0*200e3       # linewidth\n",
    "ϕ_lo = 0           # initial phase in rad\n",
    "Plo_dBm = 12       # power in dBm\n",
    "\n",
    "# ADC sampling rate\n",
    "paramADC = parameters()\n",
    "paramADC.Rs = paramTx.Rs\n",
    "paramADC.SpS_in = paramTx.SpS\n",
    "paramADC.SpS_out = 4\n",
    "\n",
    "## General simulation parameters:\n",
    "chIndex = 0  # index of the channel to be demodulated\n",
    "plotPSD = True\n",
    "Fs = paramTx.Rs * paramTx.SpS  # simulation sampling rate\n",
    "Ts = 1 / Fs\n",
    "\n",
    "# photodiode parameters\n",
    "paramPD = parameters()\n",
    "paramPD.B  = 1.1*paramTx.Rs\n",
    "paramPD.Fs = Fs"
   ]
  },
  {
   "attachments": {},
   "cell_type": "markdown",
   "metadata": {},
   "source": [
    "## Run all *Frequency offset* (FO) variations"
   ]
  },
  {
   "cell_type": "code",
   "execution_count": 12,
   "metadata": {},
   "outputs": [
    {
     "data": {
      "application/vnd.jupyter.widget-view+json": {
       "model_id": "192da75216c644c8862739c80c303ea9",
       "version_major": 2,
       "version_minor": 0
      },
      "text/plain": [
       "  0%|          | 0/6 [00:00<?, ?it/s]"
      ]
     },
     "metadata": {},
     "output_type": "display_data"
    },
    {
     "data": {
      "application/vnd.jupyter.widget-view+json": {
       "model_id": "2bcf15db2613479d9f4fa0676fc6482f",
       "version_major": 2,
       "version_minor": 0
      },
      "text/plain": [
       "  0%|          | 0/1 [00:00<?, ?it/s]"
      ]
     },
     "metadata": {},
     "output_type": "display_data"
    },
    {
     "name": "stdout",
     "output_type": "stream",
     "text": [
      "CSPR = 12.00 dB\n"
     ]
    },
    {
     "data": {
      "application/vnd.jupyter.widget-view+json": {
       "model_id": "34a8826f58da493c8a1615584d9bea18",
       "version_major": 2,
       "version_minor": 0
      },
      "text/plain": [
       "  0%|          | 0/6 [00:00<?, ?it/s]"
      ]
     },
     "metadata": {},
     "output_type": "display_data"
    },
    {
     "data": {
      "application/vnd.jupyter.widget-view+json": {
       "model_id": "5e5454ab7e7a42e7b0bd8165b60c9d15",
       "version_major": 2,
       "version_minor": 0
      },
      "text/plain": [
       "  0%|          | 0/1 [00:00<?, ?it/s]"
      ]
     },
     "metadata": {},
     "output_type": "display_data"
    },
    {
     "name": "stdout",
     "output_type": "stream",
     "text": [
      "CSPR = 12.00 dB\n"
     ]
    },
    {
     "data": {
      "application/vnd.jupyter.widget-view+json": {
       "model_id": "d963eccc808549ed9ccc97ec891fa706",
       "version_major": 2,
       "version_minor": 0
      },
      "text/plain": [
       "  0%|          | 0/6 [00:00<?, ?it/s]"
      ]
     },
     "metadata": {},
     "output_type": "display_data"
    },
    {
     "data": {
      "application/vnd.jupyter.widget-view+json": {
       "model_id": "9b77a70c33964569bccf68ca6bfee651",
       "version_major": 2,
       "version_minor": 0
      },
      "text/plain": [
       "  0%|          | 0/1 [00:00<?, ?it/s]"
      ]
     },
     "metadata": {},
     "output_type": "display_data"
    },
    {
     "name": "stdout",
     "output_type": "stream",
     "text": [
      "CSPR = 12.00 dB\n",
      "12500/12500 [==============================] - 94s 8ms/step\n",
      "Results:\n",
      "BER: 0.00e+00\n",
      "SNR: 21.02 dB\n",
      "SIR =  14.6  dB\n",
      "GMI: 4.00 bits\n",
      "\n"
     ]
    },
    {
     "data": {
      "application/vnd.jupyter.widget-view+json": {
       "model_id": "09674c9fbe6348fe914159226abc08d7",
       "version_major": 2,
       "version_minor": 0
      },
      "text/plain": [
       "  0%|          | 0/1 [00:00<?, ?it/s]"
      ]
     },
     "metadata": {},
     "output_type": "display_data"
    },
    {
     "name": "stdout",
     "output_type": "stream",
     "text": [
      "CSPR = 12.00 dB\n",
      "12500/12500 [==============================] - 73s 6ms/step\n",
      "Results:\n",
      "BER: 0.00e+00\n",
      "SNR: 23.35 dB\n",
      "SIR =  16.2  dB\n",
      "GMI: 4.00 bits\n",
      "\n"
     ]
    },
    {
     "data": {
      "application/vnd.jupyter.widget-view+json": {
       "model_id": "662e8f974d9c418097e1639dfe432d0c",
       "version_major": 2,
       "version_minor": 0
      },
      "text/plain": [
       "  0%|          | 0/1 [00:00<?, ?it/s]"
      ]
     },
     "metadata": {},
     "output_type": "display_data"
    },
    {
     "name": "stdout",
     "output_type": "stream",
     "text": [
      "CSPR = 12.00 dB\n",
      "12500/12500 [==============================] - 74s 6ms/step\n",
      "Results:\n",
      "BER: 0.00e+00\n",
      "SNR: 28.97 dB\n",
      "SIR =  28.21  dB\n",
      "GMI: 4.00 bits\n",
      "\n"
     ]
    },
    {
     "data": {
      "application/vnd.jupyter.widget-view+json": {
       "model_id": "de2cd70bd37f4ee28371a717e1b883f8",
       "version_major": 2,
       "version_minor": 0
      },
      "text/plain": [
       "  0%|          | 0/1 [00:00<?, ?it/s]"
      ]
     },
     "metadata": {},
     "output_type": "display_data"
    },
    {
     "name": "stdout",
     "output_type": "stream",
     "text": [
      "CSPR = 12.00 dB\n",
      "12500/12500 [==============================] - 80s 6ms/step\n",
      "Results:\n",
      "BER: 0.00e+00\n",
      "SNR: 28.76 dB\n",
      "SIR =  22.27  dB\n",
      "GMI: 4.00 bits\n",
      "\n"
     ]
    },
    {
     "data": {
      "application/vnd.jupyter.widget-view+json": {
       "model_id": "aa672883762943aebdd32afa13cd5b8e",
       "version_major": 2,
       "version_minor": 0
      },
      "text/plain": [
       "  0%|          | 0/1 [00:00<?, ?it/s]"
      ]
     },
     "metadata": {},
     "output_type": "display_data"
    },
    {
     "name": "stdout",
     "output_type": "stream",
     "text": [
      "CSPR = 12.00 dB\n",
      "12500/12500 [==============================] - 75s 6ms/step\n",
      "Results:\n",
      "BER: 0.00e+00\n",
      "SNR: 30.72 dB\n",
      "SIR =  26.05  dB\n",
      "GMI: 4.00 bits\n",
      "\n"
     ]
    },
    {
     "data": {
      "application/vnd.jupyter.widget-view+json": {
       "model_id": "446d20c4ecbd47858fa15957becf061b",
       "version_major": 2,
       "version_minor": 0
      },
      "text/plain": [
       "  0%|          | 0/1 [00:00<?, ?it/s]"
      ]
     },
     "metadata": {},
     "output_type": "display_data"
    },
    {
     "name": "stdout",
     "output_type": "stream",
     "text": [
      "CSPR = 12.00 dB\n",
      "12500/12500 [==============================] - 77s 6ms/step\n",
      "Results:\n",
      "BER: 0.00e+00\n",
      "SNR: 32.49 dB\n",
      "SIR =  30.63  dB\n",
      "GMI: 4.00 bits\n",
      "\n"
     ]
    }
   ],
   "source": [
    "FO_Values = np.arange(0e9, 6e9, 1e9)\n",
    "BER = np.zeros((3, len(FO_Values)))\n",
    "SER = np.zeros((3, len(FO_Values)))\n",
    "GMI = np.zeros((3, len(FO_Values)))\n",
    "MI  = np.zeros((3, len(FO_Values)))\n",
    "SNR = np.zeros((3, len(FO_Values)))\n",
    "SIR = np.zeros((3, len(FO_Values)))\n",
    "\n",
    "for indfile in range(0, Interactions):\n",
    "    for indAlg, alg in enumerate(['KK', 'MLP', 'CONVNET']):\n",
    "        for indFO, FOfreq in enumerate(tqdm(FO_Values)):\n",
    "            \n",
    "            FO = paramTx.Rs/2 + FOfreq\n",
    "            # generate optical signal signal\n",
    "            sigTx, symbTx_, paramTx = simpleWDMTx(paramTx)\n",
    "\n",
    "            # simulate linear signal propagation\n",
    "            sigCh = linFiberCh(sigTx, Ltotal, alpha, D, Fc, Fs)\n",
    "\n",
    "            symbTx = symbTx_[:, :, chIndex]\n",
    "            Plo = 10 ** (Plo_dBm / 10) * 1e-3  # power in W\n",
    "\n",
    "            # generate LO field\n",
    "            π = np.pi\n",
    "            t = np.arange(0, len(sigCh))*Ts\n",
    "            ϕ_pn_lo = phaseNoise(lw, len(sigCh), Ts)\n",
    "\n",
    "            sigLO = np.sqrt(Plo) * np.exp(-1j * (2 * π * FO * t + ϕ_lo + ϕ_pn_lo))\n",
    "\n",
    "            # Add LO to the received signal\n",
    "            sigRx = np.sqrt(Plo) + sigCh* np.exp(1j * (2 * π * FO * t + ϕ_lo + ϕ_pn_lo))\n",
    "            sfm   = sigRx.copy()\n",
    "\n",
    "            print('CSPR = %.2f dB'%(10*np.log10(signal_power(sigLO)/signal_power(sigCh))))\n",
    "\n",
    "            # simulate ideal direct-detection optical receiver\n",
    "            Ipd = photodiode(sigRx, paramPD)\n",
    "            Amp = np.sqrt(Ipd.real)\n",
    "            Amp = resample(Amp, paramADC).real\n",
    "\n",
    "            # resampling to ADC sampling rate\n",
    "            sigCh = resample(sigCh, paramADC)\n",
    "            sfm = resample(sfm, paramADC)\n",
    "            newFs = paramADC.SpS_out*paramTx.Rs\n",
    "\n",
    "            sfm = sfm/np.sqrt(signal_power(sfm))\n",
    "            if alg == 'KK':\n",
    "                # Kramers-Kronig phase-retrieval\n",
    "                phiTime = KramersKronigRx(Amp, newFs)\n",
    "                # optical field reconstruction\n",
    "                sigRx = Amp*np.exp(1j*phiTime)\n",
    "                \n",
    "            elif alg == 'MLP':\n",
    "                # Mlp phase-retrieval\n",
    "                model = tf.keras.models.load_model(path_mlp+'testModel_SpS_'+str(paramADC.SpS_out)+'_FO_'+str(FO/10e9)+'GHz_Rolloff_'+str(round(paramTx.alphaRRC, 2))) \n",
    "                # #sigPhase = np.angle(sfm) # get signal phase samples (labels) (L,)\n",
    "                sigAmp  = np.pad(Amp, (int(N/2), int(N/2)), 'constant') # get signal amplitude samples (L,)\n",
    "                # create set of input features\n",
    "                X_input = np.zeros((len(sfm), N)) #(L,N)\n",
    "\n",
    "                for indPhase in range(len(sfm)):\n",
    "                    X_input[indPhase] = sigAmp[indPhase:N+indPhase]\n",
    "\n",
    "                sigRx_NN = model.predict(X_input)\n",
    "                # optical field reconstruction\n",
    "                sigRx = sigRx_NN[:,0]+1j*sigRx_NN[:,1]\n",
    "\n",
    "            elif alg == 'CONVNET':\n",
    "                # ConvNet phase-retrieval\n",
    "                model = tf.keras.models.load_model(path_conv+'testModel_SpS_'+str(paramADC.SpS_out)+'_FO_'+str(FO/10e9)+'GHz_Rolloff_'+str(round(paramTx.alphaRRC, 2)))\n",
    "                #sigPhase = np.angle(sfm) # get signal phase samples (labels) (L,)\n",
    "                sigAmp  = np.pad(Amp, (int(N/2), int(N/2)), 'constant') # get signal amplitude samples (L,)\n",
    "                # create set of input features\n",
    "                X_input = np.zeros((len(sfm), N)) #(L,N)\n",
    "\n",
    "                for indPhase in range(len(sfm)):\n",
    "                    X_input[indPhase] = sigAmp[indPhase:N+indPhase]\n",
    "\n",
    "                sigRx_NN = model.predict(X_input)\n",
    "                # optical field reconstruction\n",
    "                sigRx = sigRx_NN[:,0]+1j*sigRx_NN[:,1]    \n",
    "\n",
    "            # remove DC level\n",
    "            sigRx -= np.mean(sigRx) # np.sqrt(Plo)  \n",
    "\n",
    "            # downshift to baseband\n",
    "            t = np.arange(0, len(sigRx))*(1/newFs)\n",
    "            sigRx *= np.exp(-1j * (2 * π * FO * t))\n",
    "            \n",
    "            # Matched filtering\n",
    "            if paramTx.pulse == \"nrz\":\n",
    "                pulse = pulseShape(\"nrz\", paramADC.SpS_out)\n",
    "            elif paramTx.pulse == \"rrc\":\n",
    "                pulse = pulseShape(\n",
    "                    \"rrc\", paramADC.SpS_out, N=paramTx.Ntaps, alpha=paramTx.alphaRRC, Ts=1 / paramTx.Rs\n",
    "                )\n",
    "\n",
    "            pulse = pulse / np.max(np.abs(pulse))\n",
    "            sigRx = firFilter(pulse, sigRx)\n",
    "            sigCh = firFilter(pulse, sigCh)\n",
    "            \n",
    "            # correct for (possible) phase ambiguity\n",
    "            rot = np.mean(sigCh/sigRx)\n",
    "            sigRx = rot * sigRx\n",
    "            sigRx = sigRx / np.sqrt(signal_power(sigRx))\n",
    "\n",
    "            intf = sigRx/np.sqrt(signal_power(sigRx))-sigCh/np.sqrt(signal_power(sigCh))\n",
    "\n",
    "            SIR[indAlg, indFO] = 1/signal_power(intf)\n",
    "\n",
    "            # resample to 2 samples/symbol:\n",
    "            paramRes = parameters()\n",
    "            paramRes.Rs = paramTx.Rs\n",
    "            paramRes.SpS_in  = paramADC.SpS_out\n",
    "            paramRes.SpS_out = 2\n",
    "\n",
    "            sigRx = resample(sigRx, paramRes)\n",
    "\n",
    "            # CD compensation\n",
    "            sigRx = edc(sigRx, Ltotal, D, Fc, paramRes.SpS_out*paramTx.Rs)\n",
    "\n",
    "            # Downsampling to 2 sps and re-synchronization with transmitted sequences\n",
    "            sigRx = sigRx.reshape(-1, 1)\n",
    "\n",
    "            symbRx = symbolSync(sigRx, symbTx, 2)\n",
    "\n",
    "            # Power normalization\n",
    "            x = sigRx\n",
    "            d = symbRx\n",
    "\n",
    "            x = x.reshape(len(x), 1) / np.sqrt(signal_power(x))\n",
    "            d = d.reshape(len(d), 1) / np.sqrt(signal_power(d))\n",
    "\n",
    "            # Adaptive equalization\n",
    "            mod = QAMModem(m=paramTx.M)\n",
    "\n",
    "            paramEq = parameters()\n",
    "            paramEq.nTaps = 15\n",
    "            paramEq.SpS = 2\n",
    "            paramEq.mu = [1e-3, 5e-4]\n",
    "            paramEq.numIter = 5\n",
    "            paramEq.storeCoeff = False\n",
    "            paramEq.alg = [\"da-rde\", \"rde\"]\n",
    "            paramEq.M = paramTx.M\n",
    "            paramEq.L = [20000, 80000]\n",
    "            paramEq.prgsBar = False\n",
    "\n",
    "            y_EQ, H, errSq, Hiter = mimoAdaptEqualizer(x, dx=d, paramEq=paramEq)\n",
    "\n",
    "            # Carrier phase recovery\n",
    "            paramCPR = parameters()\n",
    "            paramCPR.alg = \"bps\"\n",
    "            paramCPR.M = paramTx.M\n",
    "            paramCPR.N = 85\n",
    "            paramCPR.B = 64\n",
    "            paramCPR.pilotInd = np.arange(0, len(y_EQ), 20)\n",
    "\n",
    "            y_CPR, θ = cpr(y_EQ, symbTx=d, paramCPR=paramCPR)\n",
    "\n",
    "            y_CPR = y_CPR / np.sqrt(signal_power(y_CPR))\n",
    "\n",
    "            # correct for (possible) phase ambiguity\n",
    "            for k in range(y_CPR.shape[1]):\n",
    "                rot = np.mean(d[:, k] / y_CPR[:, k])\n",
    "                y_CPR[:, k] = rot * y_CPR[:, k]\n",
    "\n",
    "            y_CPR = y_CPR / np.sqrt(signal_power(y_CPR))\n",
    "\n",
    "            discard = int(paramEq.L[0]/2)\n",
    "\n",
    "            ind = np.arange(discard, d.shape[0] - discard)\n",
    "            BER[indAlg,indFO], SER[indAlg,indFO], SNR[indAlg,indFO] = fastBERcalc(y_CPR[ind, :], d[ind, :], paramTx.M, 'qam')\n",
    "            GMI[indAlg,indFO], _ = monteCarloGMI(y_CPR[ind, :], d[ind, :],  paramTx.M, 'qam')\n",
    "            MI[indAlg,indFO] = monteCarloMI(y_CPR[ind, :], d[ind, :],  paramTx.M, 'qam')\n",
    "\n",
    "            print(\"Results:\")\n",
    "            print(\"BER: %.2e\" %(BER[indAlg,indFO]))\n",
    "            print(\"SNR: %.2f dB\" %(SNR[indAlg,indFO]))\n",
    "            print('SIR = ', round(10*np.log10(SIR[indAlg,indFO]), 2), ' dB')\n",
    "            print(\"GMI: %.2f bits\\n\" %(GMI[indAlg,indFO]))\n",
    "\n",
    "    if saveData:\n",
    "        # save the simulation data\n",
    "        np.save(path_data+'Conv_FO_BER_SpS_'+str(paramADC.SpS_out)+'_'+str(N)+'_Sample_'+str(indfile), BER)\n",
    "        np.save(path_data+'Conv_FO_SNR_SpS_'+str(paramADC.SpS_out)+'_'+str(N)+'_Sample_'+str(indfile), SNR)\n",
    "        np.save(path_data+'Conv_FO_SIR_SpS_'+str(paramADC.SpS_out)+'_'+str(N)+'_Sample_'+str(indfile), SIR)\n",
    "        np.save(path_data+'Conv_FO_SER_SpS_'+str(paramADC.SpS_out)+'_'+str(N)+'_Sample_'+str(indfile), SER)"
   ]
  }
 ],
 "metadata": {
  "kernelspec": {
   "display_name": "Python 3",
   "language": "python",
   "name": "python3"
  },
  "language_info": {
   "codemirror_mode": {
    "name": "ipython",
    "version": 3
   },
   "file_extension": ".py",
   "mimetype": "text/x-python",
   "name": "python",
   "nbconvert_exporter": "python",
   "pygments_lexer": "ipython3",
   "version": "3.9.0"
  },
  "vscode": {
   "interpreter": {
    "hash": "375d932ff305d5bb7891cf7c099632ff151b644ae138927e5c1b22b0b7153300"
   }
  }
 },
 "nbformat": 4,
 "nbformat_minor": 2
}
