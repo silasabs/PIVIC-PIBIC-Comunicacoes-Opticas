{
 "cells": [
  {
   "cell_type": "code",
   "execution_count": 23,
   "id": "b1edcfee",
   "metadata": {
    "ExecuteTime": {
     "end_time": "2022-02-10T19:01:33.299471Z",
     "start_time": "2022-02-10T19:01:33.281484Z"
    }
   },
   "outputs": [],
   "source": [
    "import matplotlib.pyplot as plt\n",
    "import numpy as np\n",
    "\n",
    "from commpy.modulation import QAMModem\n",
    "\n",
    "from optic.dsp import pulseShape, firFilter, decimate, symbolSync\n",
    "from optic.models import phaseNoise, KramersKronigRx, linFiberCh\n",
    "\n",
    "from optic.tx import simpleWDMTx\n",
    "from optic.core import parameters\n",
    "from optic.equalization import edc, mimoAdaptEqualizer\n",
    "from optic.carrierRecovery import cpr\n",
    "from optic.metrics import fastBERcalc, monteCarloGMI, monteCarloMI, signal_power\n",
    "from optic.plot import pconst\n",
    "\n",
    "import scipy.constants as const\n",
    "\n",
    "from tensorflow.keras.layers import Dense, Dropout, BatchNormalization\n",
    "from tensorflow.keras.models import Sequential\n",
    "from tensorflow.keras.callbacks import EarlyStopping\n",
    "import tensorflow as tf"
   ]
  },
  {
   "cell_type": "markdown",
   "id": "cf8081d8",
   "metadata": {
    "lines_to_next_cell": 2
   },
   "source": [
    "### Simulation of a single polarization optical signal transmission"
   ]
  },
  {
   "cell_type": "code",
   "execution_count": 24,
   "id": "8ef1c5b1",
   "metadata": {
    "ExecuteTime": {
     "end_time": "2022-02-10T19:01:33.379422Z",
     "start_time": "2022-02-10T19:01:33.366429Z"
    },
    "lines_to_next_cell": 2
   },
   "outputs": [],
   "source": [
    "# Transmitter parameters:\n",
    "paramTx = parameters()\n",
    "paramTx.M = 16                 # order of the modulation format\n",
    "paramTx.Rs = 32e9              # symbol rate [baud]\n",
    "paramTx.SpS = 2                # samples per symbol\n",
    "paramTx.Nbits = 400000         # total number of bits per polarization\n",
    "paramTx.pulse = \"rrc\"          # pulse shaping filter\n",
    "paramTx.Ntaps = 1024           # number of pulse shaping filter coefficients\n",
    "paramTx.alphaRRC = 0.01        # RRC rolloff\n",
    "paramTx.Pch_dBm = 0            # power of the optical signal [dBm]\n",
    "paramTx.Nch = 1                # number of WDM channels\n",
    "paramTx.Fc = 193.1e12          # central frequency of the optical spectrum\n",
    "paramTx.freqSpac = 37.5e9      # WDM grid spacing\n",
    "\n",
    "# Optical channel parameters:\n",
    "Ltotal = 50      # total link distance [km]\n",
    "alpha = 0        # fiber loss parameter [dB/km]\n",
    "D  = 16          # fiber dispersion parameter [ps/nm/km]\n",
    "Fc = paramTx.Fc  # central optical frequency of the WDM spectrum [Hz]\n",
    "\n",
    "# Receiver parameters:\n",
    "\n",
    "# local oscillator (LO)\n",
    "FO = paramTx.Rs/2  # frequency offset \n",
    "lw = 100e3         # linewidth\n",
    "ϕ_lo = 0           # initial phase in rad\n",
    "Plo_dBm = 9        # power in dBm\n",
    "\n",
    "# General simulation parameters\n",
    "chIndex = 0  # index of the channel to be demodulated\n",
    "plotPSD = True\n",
    "Fs = paramTx.Rs * paramTx.SpS  # simulation sampling rate"
   ]
  },
  {
   "cell_type": "code",
   "execution_count": 44,
   "id": "dcd6fdcb",
   "metadata": {},
   "outputs": [],
   "source": [
    "# Constants\n",
    "ROLLOFF = np.arange(0, 1, 0.05)\n",
    "FO      = np.arange(-1, 1, 0.05)  # frequency offset"
   ]
  },
  {
   "cell_type": "markdown",
   "id": "1b52e211",
   "metadata": {},
   "source": [
    "### BER vs Rolloff with KK algorithm"
   ]
  },
  {
   "cell_type": "code",
   "execution_count": 41,
   "id": "11870677",
   "metadata": {
    "ExecuteTime": {
     "end_time": "2022-02-10T19:01:35.010789Z",
     "start_time": "2022-02-10T19:01:33.381422Z"
    }
   },
   "outputs": [
    {
     "name": "stdout",
     "output_type": "stream",
     "text": [
      "channel 0\t fc : 193.1000 THz\n",
      "  mode #0\t power: 0.00 dBm\n",
      "channel 0\t power: -0.00 dBm\n",
      "\n",
      "total WDM signal power: -0.00 dBm\n",
      "CSPR = 9.00 dB\n",
      "\n",
      "\n",
      "nlms - training stage #0\n"
     ]
    },
    {
     "data": {
      "application/vnd.jupyter.widget-view+json": {
       "model_id": "b33af0ea7ec74372805ecf6915da6047",
       "version_major": 2,
       "version_minor": 0
      },
      "text/plain": [
       "  0%|          | 0/5 [00:00<?, ?it/s]"
      ]
     },
     "metadata": {},
     "output_type": "display_data"
    },
    {
     "name": "stdout",
     "output_type": "stream",
     "text": [
      "nlms pre-convergence training iteration #0\n",
      "nlms MSE = 0.065864.\n",
      "nlms pre-convergence training iteration #1\n",
      "nlms MSE = 0.045252.\n",
      "nlms pre-convergence training iteration #2\n",
      "nlms MSE = 0.044931.\n",
      "nlms pre-convergence training iteration #3\n",
      "nlms MSE = 0.044712.\n",
      "nlms pre-convergence training iteration #4\n",
      "nlms MSE = 0.044553.\n",
      "\n",
      "\n",
      "dd-lms - training stage #1\n",
      "dd-lms MSE = 0.031612.\n",
      "Results:\n",
      "\n",
      "SER: 3.44e-02\n",
      "BER: 1.10e-02\n",
      "SNR: 14.67 dB\n",
      "MI: 3.82 bits\n",
      "GMI: 3.78 bits\n",
      "channel 0\t fc : 193.1000 THz\n",
      "  mode #0\t power: 0.00 dBm\n",
      "channel 0\t power: -0.00 dBm\n",
      "\n",
      "total WDM signal power: -0.00 dBm\n",
      "CSPR = 9.00 dB\n",
      "\n",
      "\n",
      "nlms - training stage #0\n"
     ]
    },
    {
     "data": {
      "application/vnd.jupyter.widget-view+json": {
       "model_id": "b348b38d7bb34e4e8865a941c86d488d",
       "version_major": 2,
       "version_minor": 0
      },
      "text/plain": [
       "  0%|          | 0/5 [00:00<?, ?it/s]"
      ]
     },
     "metadata": {},
     "output_type": "display_data"
    },
    {
     "name": "stdout",
     "output_type": "stream",
     "text": [
      "nlms pre-convergence training iteration #0\n",
      "nlms MSE = 0.070841.\n",
      "nlms pre-convergence training iteration #1\n",
      "nlms MSE = 0.059064.\n",
      "nlms pre-convergence training iteration #2\n",
      "nlms MSE = 0.058740.\n",
      "nlms pre-convergence training iteration #3\n",
      "nlms MSE = 0.058524.\n",
      "nlms pre-convergence training iteration #4\n",
      "nlms MSE = 0.058366.\n",
      "\n",
      "\n",
      "dd-lms - training stage #1\n",
      "dd-lms MSE = 0.037559.\n",
      "Results:\n",
      "\n",
      "SER: 9.10e-01\n",
      "BER: 4.70e-01\n",
      "SNR: 0.46 dB\n",
      "MI: -0.03 bits\n",
      "GMI: 0.12 bits\n",
      "channel 0\t fc : 193.1000 THz\n",
      "  mode #0\t power: 0.00 dBm\n",
      "channel 0\t power: 0.00 dBm\n",
      "\n",
      "total WDM signal power: 0.00 dBm\n",
      "CSPR = 9.00 dB\n",
      "\n",
      "\n",
      "nlms - training stage #0\n"
     ]
    },
    {
     "data": {
      "application/vnd.jupyter.widget-view+json": {
       "model_id": "ad719ef3e395405c943fb949720a3b7f",
       "version_major": 2,
       "version_minor": 0
      },
      "text/plain": [
       "  0%|          | 0/5 [00:00<?, ?it/s]"
      ]
     },
     "metadata": {},
     "output_type": "display_data"
    },
    {
     "name": "stdout",
     "output_type": "stream",
     "text": [
      "nlms pre-convergence training iteration #0\n",
      "nlms MSE = 0.078521.\n",
      "nlms pre-convergence training iteration #1\n",
      "nlms MSE = 0.059336.\n",
      "nlms pre-convergence training iteration #2\n",
      "nlms MSE = 0.058940.\n",
      "nlms pre-convergence training iteration #3\n",
      "nlms MSE = 0.058669.\n",
      "nlms pre-convergence training iteration #4\n",
      "nlms MSE = 0.058467.\n",
      "\n",
      "\n",
      "dd-lms - training stage #1\n",
      "dd-lms MSE = 0.043261.\n",
      "Results:\n",
      "\n",
      "SER: 9.20e-01\n",
      "BER: 4.82e-01\n",
      "SNR: 0.03 dB\n",
      "MI: -0.30 bits\n",
      "GMI: 0.01 bits\n",
      "channel 0\t fc : 193.1000 THz\n",
      "  mode #0\t power: 0.00 dBm\n",
      "channel 0\t power: 0.00 dBm\n",
      "\n",
      "total WDM signal power: 0.00 dBm\n",
      "CSPR = 9.00 dB\n",
      "\n",
      "\n",
      "nlms - training stage #0\n"
     ]
    },
    {
     "data": {
      "application/vnd.jupyter.widget-view+json": {
       "model_id": "e732b21f23e945dc80f4ab0471a26187",
       "version_major": 2,
       "version_minor": 0
      },
      "text/plain": [
       "  0%|          | 0/5 [00:00<?, ?it/s]"
      ]
     },
     "metadata": {},
     "output_type": "display_data"
    },
    {
     "name": "stdout",
     "output_type": "stream",
     "text": [
      "nlms pre-convergence training iteration #0\n",
      "nlms MSE = 0.088513.\n",
      "nlms pre-convergence training iteration #1\n",
      "nlms MSE = 0.076340.\n",
      "nlms pre-convergence training iteration #2\n",
      "nlms MSE = 0.075978.\n",
      "nlms pre-convergence training iteration #3\n",
      "nlms MSE = 0.075754.\n",
      "nlms pre-convergence training iteration #4\n",
      "nlms MSE = 0.075586.\n",
      "\n",
      "\n",
      "dd-lms - training stage #1\n",
      "dd-lms MSE = 0.046964.\n",
      "Results:\n",
      "\n",
      "SER: 9.27e-01\n",
      "BER: 4.89e-01\n",
      "SNR: 0.07 dB\n",
      "MI: -0.24 bits\n",
      "GMI: 0.02 bits\n",
      "channel 0\t fc : 193.1000 THz\n",
      "  mode #0\t power: 0.00 dBm\n",
      "channel 0\t power: -0.00 dBm\n",
      "\n",
      "total WDM signal power: -0.00 dBm\n",
      "CSPR = 9.00 dB\n",
      "\n",
      "\n",
      "nlms - training stage #0\n"
     ]
    },
    {
     "data": {
      "application/vnd.jupyter.widget-view+json": {
       "model_id": "c6a358891d4549d99a62243c912ff99b",
       "version_major": 2,
       "version_minor": 0
      },
      "text/plain": [
       "  0%|          | 0/5 [00:00<?, ?it/s]"
      ]
     },
     "metadata": {},
     "output_type": "display_data"
    },
    {
     "name": "stdout",
     "output_type": "stream",
     "text": [
      "nlms pre-convergence training iteration #0\n",
      "nlms MSE = 0.097423.\n",
      "nlms pre-convergence training iteration #1\n",
      "nlms MSE = 0.080136.\n",
      "nlms pre-convergence training iteration #2\n",
      "nlms MSE = 0.079780.\n",
      "nlms pre-convergence training iteration #3\n",
      "nlms MSE = 0.079541.\n",
      "nlms pre-convergence training iteration #4\n",
      "nlms MSE = 0.079359.\n",
      "\n",
      "\n",
      "dd-lms - training stage #1\n",
      "dd-lms MSE = 0.050541.\n",
      "Results:\n",
      "\n",
      "SER: 9.19e-01\n",
      "BER: 4.82e-01\n",
      "SNR: 0.13 dB\n",
      "MI: -0.18 bits\n",
      "GMI: 0.03 bits\n",
      "channel 0\t fc : 193.1000 THz\n",
      "  mode #0\t power: 0.00 dBm\n",
      "channel 0\t power: -0.00 dBm\n",
      "\n",
      "total WDM signal power: -0.00 dBm\n",
      "CSPR = 9.00 dB\n",
      "\n",
      "\n",
      "nlms - training stage #0\n"
     ]
    },
    {
     "data": {
      "application/vnd.jupyter.widget-view+json": {
       "model_id": "cbf7f93fb537495592b4be0b2141ffb1",
       "version_major": 2,
       "version_minor": 0
      },
      "text/plain": [
       "  0%|          | 0/5 [00:00<?, ?it/s]"
      ]
     },
     "metadata": {},
     "output_type": "display_data"
    },
    {
     "name": "stdout",
     "output_type": "stream",
     "text": [
      "nlms pre-convergence training iteration #0\n",
      "nlms MSE = 0.103958.\n",
      "nlms pre-convergence training iteration #1\n",
      "nlms MSE = 0.084833.\n",
      "nlms pre-convergence training iteration #2\n",
      "nlms MSE = 0.084512.\n",
      "nlms pre-convergence training iteration #3\n",
      "nlms MSE = 0.084308.\n",
      "nlms pre-convergence training iteration #4\n",
      "nlms MSE = 0.084154.\n",
      "\n",
      "\n",
      "dd-lms - training stage #1\n",
      "dd-lms MSE = 0.053950.\n",
      "Results:\n",
      "\n",
      "SER: 9.23e-01\n",
      "BER: 4.82e-01\n",
      "SNR: 0.13 dB\n",
      "MI: -0.20 bits\n",
      "GMI: 0.03 bits\n",
      "channel 0\t fc : 193.1000 THz\n",
      "  mode #0\t power: 0.00 dBm\n",
      "channel 0\t power: 0.00 dBm\n",
      "\n",
      "total WDM signal power: 0.00 dBm\n",
      "CSPR = 9.00 dB\n",
      "\n",
      "\n",
      "nlms - training stage #0\n"
     ]
    },
    {
     "data": {
      "application/vnd.jupyter.widget-view+json": {
       "model_id": "6600128334914da182f3292f2bc81518",
       "version_major": 2,
       "version_minor": 0
      },
      "text/plain": [
       "  0%|          | 0/5 [00:00<?, ?it/s]"
      ]
     },
     "metadata": {},
     "output_type": "display_data"
    },
    {
     "name": "stdout",
     "output_type": "stream",
     "text": [
      "nlms pre-convergence training iteration #0\n",
      "nlms MSE = 0.118642.\n",
      "nlms pre-convergence training iteration #1\n",
      "nlms MSE = 0.141562.\n",
      "nlms pre-convergence training iteration #2\n",
      "nlms MSE = 0.141140.\n",
      "nlms pre-convergence training iteration #3\n",
      "nlms MSE = 0.140892.\n",
      "nlms pre-convergence training iteration #4\n",
      "nlms MSE = 0.140707.\n",
      "\n",
      "\n",
      "dd-lms - training stage #1\n",
      "dd-lms MSE = 0.056695.\n",
      "Results:\n",
      "\n",
      "SER: 9.30e-01\n",
      "BER: 4.76e-01\n",
      "SNR: 0.08 dB\n",
      "MI: -0.23 bits\n",
      "GMI: 0.02 bits\n",
      "channel 0\t fc : 193.1000 THz\n",
      "  mode #0\t power: 0.00 dBm\n",
      "channel 0\t power: -0.00 dBm\n",
      "\n",
      "total WDM signal power: -0.00 dBm\n",
      "CSPR = 9.00 dB\n",
      "\n",
      "\n",
      "nlms - training stage #0\n"
     ]
    },
    {
     "data": {
      "application/vnd.jupyter.widget-view+json": {
       "model_id": "6abfb76d8c184293a6b3e5efa380e77b",
       "version_major": 2,
       "version_minor": 0
      },
      "text/plain": [
       "  0%|          | 0/5 [00:00<?, ?it/s]"
      ]
     },
     "metadata": {},
     "output_type": "display_data"
    },
    {
     "name": "stdout",
     "output_type": "stream",
     "text": [
      "nlms pre-convergence training iteration #0\n",
      "nlms MSE = 0.123409.\n",
      "nlms pre-convergence training iteration #1\n",
      "nlms MSE = 0.103979.\n",
      "nlms pre-convergence training iteration #2\n",
      "nlms MSE = 0.103589.\n",
      "nlms pre-convergence training iteration #3\n",
      "nlms MSE = 0.103349.\n",
      "nlms pre-convergence training iteration #4\n",
      "nlms MSE = 0.103170.\n",
      "\n",
      "\n",
      "dd-lms - training stage #1\n",
      "dd-lms MSE = 0.056116.\n",
      "Results:\n",
      "\n",
      "SER: 9.37e-01\n",
      "BER: 4.86e-01\n",
      "SNR: 0.04 dB\n",
      "MI: -0.27 bits\n",
      "GMI: 0.01 bits\n",
      "channel 0\t fc : 193.1000 THz\n",
      "  mode #0\t power: 0.00 dBm\n",
      "channel 0\t power: -0.00 dBm\n",
      "\n",
      "total WDM signal power: -0.00 dBm\n",
      "CSPR = 9.00 dB\n",
      "\n",
      "\n",
      "nlms - training stage #0\n"
     ]
    },
    {
     "data": {
      "application/vnd.jupyter.widget-view+json": {
       "model_id": "faf5524690c14c0f870d028a9aff1453",
       "version_major": 2,
       "version_minor": 0
      },
      "text/plain": [
       "  0%|          | 0/5 [00:00<?, ?it/s]"
      ]
     },
     "metadata": {},
     "output_type": "display_data"
    },
    {
     "name": "stdout",
     "output_type": "stream",
     "text": [
      "nlms pre-convergence training iteration #0\n",
      "nlms MSE = 0.135066.\n",
      "nlms pre-convergence training iteration #1\n",
      "nlms MSE = 0.117147.\n",
      "nlms pre-convergence training iteration #2\n",
      "nlms MSE = 0.116784.\n",
      "nlms pre-convergence training iteration #3\n",
      "nlms MSE = 0.116558.\n",
      "nlms pre-convergence training iteration #4\n",
      "nlms MSE = 0.116392.\n",
      "\n",
      "\n",
      "dd-lms - training stage #1\n",
      "dd-lms MSE = 0.057766.\n",
      "Results:\n",
      "\n",
      "SER: 9.16e-01\n",
      "BER: 4.67e-01\n",
      "SNR: 0.13 dB\n",
      "MI: -0.19 bits\n",
      "GMI: 0.03 bits\n",
      "channel 0\t fc : 193.1000 THz\n",
      "  mode #0\t power: 0.00 dBm\n",
      "channel 0\t power: 0.00 dBm\n",
      "\n",
      "total WDM signal power: 0.00 dBm\n",
      "CSPR = 9.00 dB\n",
      "\n",
      "\n",
      "nlms - training stage #0\n"
     ]
    },
    {
     "data": {
      "application/vnd.jupyter.widget-view+json": {
       "model_id": "998adaddcce448ebb80e27e630f8a844",
       "version_major": 2,
       "version_minor": 0
      },
      "text/plain": [
       "  0%|          | 0/5 [00:00<?, ?it/s]"
      ]
     },
     "metadata": {},
     "output_type": "display_data"
    },
    {
     "name": "stdout",
     "output_type": "stream",
     "text": [
      "nlms pre-convergence training iteration #0\n",
      "nlms MSE = 0.139685.\n",
      "nlms pre-convergence training iteration #1\n",
      "nlms MSE = 0.125953.\n",
      "nlms pre-convergence training iteration #2\n",
      "nlms MSE = 0.125577.\n",
      "nlms pre-convergence training iteration #3\n",
      "nlms MSE = 0.125359.\n",
      "nlms pre-convergence training iteration #4\n",
      "nlms MSE = 0.125203.\n",
      "\n",
      "\n",
      "dd-lms - training stage #1\n",
      "dd-lms MSE = 0.056435.\n",
      "Results:\n",
      "\n",
      "SER: 9.28e-01\n",
      "BER: 4.87e-01\n",
      "SNR: 0.03 dB\n",
      "MI: -0.28 bits\n",
      "GMI: 0.01 bits\n",
      "channel 0\t fc : 193.1000 THz\n",
      "  mode #0\t power: 0.00 dBm\n",
      "channel 0\t power: -0.00 dBm\n",
      "\n",
      "total WDM signal power: -0.00 dBm\n",
      "CSPR = 9.00 dB\n",
      "\n",
      "\n",
      "nlms - training stage #0\n"
     ]
    },
    {
     "data": {
      "application/vnd.jupyter.widget-view+json": {
       "model_id": "e48773ea64bb4c6e911fd2b9581b9ea7",
       "version_major": 2,
       "version_minor": 0
      },
      "text/plain": [
       "  0%|          | 0/5 [00:00<?, ?it/s]"
      ]
     },
     "metadata": {},
     "output_type": "display_data"
    },
    {
     "name": "stdout",
     "output_type": "stream",
     "text": [
      "nlms pre-convergence training iteration #0\n",
      "nlms MSE = 0.149261.\n",
      "nlms pre-convergence training iteration #1\n",
      "nlms MSE = 0.135301.\n",
      "nlms pre-convergence training iteration #2\n",
      "nlms MSE = 0.134929.\n",
      "nlms pre-convergence training iteration #3\n",
      "nlms MSE = 0.134706.\n",
      "nlms pre-convergence training iteration #4\n",
      "nlms MSE = 0.134547.\n",
      "\n",
      "\n",
      "dd-lms - training stage #1\n",
      "dd-lms MSE = 0.058286.\n",
      "Results:\n",
      "\n",
      "SER: 9.28e-01\n",
      "BER: 4.84e-01\n",
      "SNR: 0.01 dB\n",
      "MI: -0.28 bits\n",
      "GMI: 0.01 bits\n",
      "channel 0\t fc : 193.1000 THz\n",
      "  mode #0\t power: 0.00 dBm\n",
      "channel 0\t power: 0.00 dBm\n",
      "\n",
      "total WDM signal power: 0.00 dBm\n",
      "CSPR = 9.00 dB\n",
      "\n",
      "\n",
      "nlms - training stage #0\n"
     ]
    },
    {
     "data": {
      "application/vnd.jupyter.widget-view+json": {
       "model_id": "edc7b9fba73c41b3808f34fe7e95f633",
       "version_major": 2,
       "version_minor": 0
      },
      "text/plain": [
       "  0%|          | 0/5 [00:00<?, ?it/s]"
      ]
     },
     "metadata": {},
     "output_type": "display_data"
    },
    {
     "name": "stdout",
     "output_type": "stream",
     "text": [
      "nlms pre-convergence training iteration #0\n",
      "nlms MSE = 0.156332.\n",
      "nlms pre-convergence training iteration #1\n",
      "nlms MSE = 0.139016.\n",
      "nlms pre-convergence training iteration #2\n",
      "nlms MSE = 0.138601.\n",
      "nlms pre-convergence training iteration #3\n",
      "nlms MSE = 0.138346.\n",
      "nlms pre-convergence training iteration #4\n",
      "nlms MSE = 0.138169.\n",
      "\n",
      "\n",
      "dd-lms - training stage #1\n",
      "dd-lms MSE = 0.055473.\n",
      "Results:\n",
      "\n",
      "SER: 9.34e-01\n",
      "BER: 4.95e-01\n",
      "SNR: -0.01 dB\n",
      "MI: -0.32 bits\n",
      "GMI: -0.00 bits\n",
      "channel 0\t fc : 193.1000 THz\n",
      "  mode #0\t power: 0.00 dBm\n",
      "channel 0\t power: -0.00 dBm\n",
      "\n",
      "total WDM signal power: -0.00 dBm\n",
      "CSPR = 9.00 dB\n",
      "\n",
      "\n",
      "nlms - training stage #0\n"
     ]
    },
    {
     "data": {
      "application/vnd.jupyter.widget-view+json": {
       "model_id": "470fc631279d470f93f83178ff860545",
       "version_major": 2,
       "version_minor": 0
      },
      "text/plain": [
       "  0%|          | 0/5 [00:00<?, ?it/s]"
      ]
     },
     "metadata": {},
     "output_type": "display_data"
    },
    {
     "name": "stdout",
     "output_type": "stream",
     "text": [
      "nlms pre-convergence training iteration #0\n",
      "nlms MSE = 0.169488.\n",
      "nlms pre-convergence training iteration #1\n",
      "nlms MSE = 0.149827.\n",
      "nlms pre-convergence training iteration #2\n",
      "nlms MSE = 0.149379.\n",
      "nlms pre-convergence training iteration #3\n",
      "nlms MSE = 0.149110.\n",
      "nlms pre-convergence training iteration #4\n",
      "nlms MSE = 0.148923.\n",
      "\n",
      "\n",
      "dd-lms - training stage #1\n",
      "dd-lms MSE = 0.057256.\n",
      "Results:\n",
      "\n",
      "SER: 9.37e-01\n",
      "BER: 4.97e-01\n",
      "SNR: -0.00 dB\n",
      "MI: -0.28 bits\n",
      "GMI: 0.00 bits\n",
      "channel 0\t fc : 193.1000 THz\n",
      "  mode #0\t power: 0.00 dBm\n",
      "channel 0\t power: 0.00 dBm\n",
      "\n",
      "total WDM signal power: 0.00 dBm\n",
      "CSPR = 9.00 dB\n",
      "\n",
      "\n",
      "nlms - training stage #0\n"
     ]
    },
    {
     "data": {
      "application/vnd.jupyter.widget-view+json": {
       "model_id": "f46dfd06d06f4296ba8f0d1c93bb5c06",
       "version_major": 2,
       "version_minor": 0
      },
      "text/plain": [
       "  0%|          | 0/5 [00:00<?, ?it/s]"
      ]
     },
     "metadata": {},
     "output_type": "display_data"
    },
    {
     "name": "stdout",
     "output_type": "stream",
     "text": [
      "nlms pre-convergence training iteration #0\n",
      "nlms MSE = 0.176354.\n",
      "nlms pre-convergence training iteration #1\n",
      "nlms MSE = 0.155851.\n",
      "nlms pre-convergence training iteration #2\n",
      "nlms MSE = 0.155350.\n",
      "nlms pre-convergence training iteration #3\n",
      "nlms MSE = 0.155048.\n",
      "nlms pre-convergence training iteration #4\n",
      "nlms MSE = 0.154849.\n",
      "\n",
      "\n",
      "dd-lms - training stage #1\n",
      "dd-lms MSE = 0.057132.\n",
      "Results:\n",
      "\n",
      "SER: 9.36e-01\n",
      "BER: 5.01e-01\n",
      "SNR: -0.03 dB\n",
      "MI: -0.37 bits\n",
      "GMI: -0.00 bits\n",
      "channel 0\t fc : 193.1000 THz\n",
      "  mode #0\t power: 0.00 dBm\n",
      "channel 0\t power: 0.00 dBm\n",
      "\n",
      "total WDM signal power: 0.00 dBm\n",
      "CSPR = 9.00 dB\n",
      "\n",
      "\n",
      "nlms - training stage #0\n"
     ]
    },
    {
     "data": {
      "application/vnd.jupyter.widget-view+json": {
       "model_id": "7999e94ffc6f49888a0a7aaacd005ae9",
       "version_major": 2,
       "version_minor": 0
      },
      "text/plain": [
       "  0%|          | 0/5 [00:00<?, ?it/s]"
      ]
     },
     "metadata": {},
     "output_type": "display_data"
    },
    {
     "name": "stdout",
     "output_type": "stream",
     "text": [
      "nlms pre-convergence training iteration #0\n",
      "nlms MSE = 0.183881.\n",
      "nlms pre-convergence training iteration #1\n",
      "nlms MSE = 0.164257.\n",
      "nlms pre-convergence training iteration #2\n",
      "nlms MSE = 0.163811.\n",
      "nlms pre-convergence training iteration #3\n",
      "nlms MSE = 0.163536.\n",
      "nlms pre-convergence training iteration #4\n",
      "nlms MSE = 0.163350.\n",
      "\n",
      "\n",
      "dd-lms - training stage #1\n",
      "dd-lms MSE = 0.058924.\n",
      "Results:\n",
      "\n",
      "SER: 9.36e-01\n",
      "BER: 4.96e-01\n",
      "SNR: -0.00 dB\n",
      "MI: -0.33 bits\n",
      "GMI: 0.00 bits\n",
      "channel 0\t fc : 193.1000 THz\n",
      "  mode #0\t power: 0.00 dBm\n",
      "channel 0\t power: 0.00 dBm\n",
      "\n",
      "total WDM signal power: 0.00 dBm\n",
      "CSPR = 9.00 dB\n",
      "\n",
      "\n",
      "nlms - training stage #0\n"
     ]
    },
    {
     "data": {
      "application/vnd.jupyter.widget-view+json": {
       "model_id": "99fb2dfe420d4c46b822dc6b4f5cac7c",
       "version_major": 2,
       "version_minor": 0
      },
      "text/plain": [
       "  0%|          | 0/5 [00:00<?, ?it/s]"
      ]
     },
     "metadata": {},
     "output_type": "display_data"
    },
    {
     "name": "stdout",
     "output_type": "stream",
     "text": [
      "nlms pre-convergence training iteration #0\n",
      "nlms MSE = 0.199011.\n",
      "nlms pre-convergence training iteration #1\n",
      "nlms MSE = 0.188267.\n",
      "nlms pre-convergence training iteration #2\n",
      "nlms MSE = 0.187858.\n",
      "nlms pre-convergence training iteration #3\n",
      "nlms MSE = 0.187620.\n",
      "nlms pre-convergence training iteration #4\n",
      "nlms MSE = 0.187464.\n",
      "\n",
      "\n",
      "dd-lms - training stage #1\n",
      "dd-lms MSE = 0.059648.\n",
      "Results:\n",
      "\n",
      "SER: 9.33e-01\n",
      "BER: 4.92e-01\n",
      "SNR: -0.04 dB\n",
      "MI: -0.33 bits\n",
      "GMI: -0.00 bits\n",
      "channel 0\t fc : 193.1000 THz\n",
      "  mode #0\t power: 0.00 dBm\n",
      "channel 0\t power: 0.00 dBm\n",
      "\n",
      "total WDM signal power: 0.00 dBm\n",
      "CSPR = 9.00 dB\n",
      "\n",
      "\n",
      "nlms - training stage #0\n"
     ]
    },
    {
     "data": {
      "application/vnd.jupyter.widget-view+json": {
       "model_id": "b8d97584fa984330a2f30ad4f5e8b834",
       "version_major": 2,
       "version_minor": 0
      },
      "text/plain": [
       "  0%|          | 0/5 [00:00<?, ?it/s]"
      ]
     },
     "metadata": {},
     "output_type": "display_data"
    },
    {
     "name": "stdout",
     "output_type": "stream",
     "text": [
      "nlms pre-convergence training iteration #0\n",
      "nlms MSE = 0.205763.\n",
      "nlms pre-convergence training iteration #1\n",
      "nlms MSE = 0.190764.\n",
      "nlms pre-convergence training iteration #2\n",
      "nlms MSE = 0.190200.\n",
      "nlms pre-convergence training iteration #3\n",
      "nlms MSE = 0.189872.\n",
      "nlms pre-convergence training iteration #4\n",
      "nlms MSE = 0.189661.\n",
      "\n",
      "\n",
      "dd-lms - training stage #1\n",
      "dd-lms MSE = 0.057703.\n",
      "Results:\n",
      "\n",
      "SER: 9.34e-01\n",
      "BER: 4.96e-01\n",
      "SNR: 0.00 dB\n",
      "MI: -0.36 bits\n",
      "GMI: 0.00 bits\n",
      "channel 0\t fc : 193.1000 THz\n",
      "  mode #0\t power: 0.00 dBm\n",
      "channel 0\t power: -0.00 dBm\n",
      "\n",
      "total WDM signal power: -0.00 dBm\n",
      "CSPR = 9.00 dB\n",
      "\n",
      "\n",
      "nlms - training stage #0\n"
     ]
    },
    {
     "data": {
      "application/vnd.jupyter.widget-view+json": {
       "model_id": "539fe1ce14554a4cb2c03bac79b6b71f",
       "version_major": 2,
       "version_minor": 0
      },
      "text/plain": [
       "  0%|          | 0/5 [00:00<?, ?it/s]"
      ]
     },
     "metadata": {},
     "output_type": "display_data"
    },
    {
     "name": "stdout",
     "output_type": "stream",
     "text": [
      "nlms pre-convergence training iteration #0\n",
      "nlms MSE = 0.211439.\n",
      "nlms pre-convergence training iteration #1\n",
      "nlms MSE = 0.192345.\n",
      "nlms pre-convergence training iteration #2\n",
      "nlms MSE = 0.191814.\n",
      "nlms pre-convergence training iteration #3\n",
      "nlms MSE = 0.191474.\n",
      "nlms pre-convergence training iteration #4\n",
      "nlms MSE = 0.191237.\n",
      "\n",
      "\n",
      "dd-lms - training stage #1\n",
      "dd-lms MSE = 0.059213.\n",
      "Results:\n",
      "\n",
      "SER: 9.33e-01\n",
      "BER: 4.89e-01\n",
      "SNR: 0.01 dB\n",
      "MI: -0.28 bits\n",
      "GMI: 0.01 bits\n",
      "channel 0\t fc : 193.1000 THz\n",
      "  mode #0\t power: 0.00 dBm\n",
      "channel 0\t power: -0.00 dBm\n",
      "\n",
      "total WDM signal power: -0.00 dBm\n",
      "CSPR = 9.00 dB\n",
      "\n",
      "\n",
      "nlms - training stage #0\n"
     ]
    },
    {
     "data": {
      "application/vnd.jupyter.widget-view+json": {
       "model_id": "9afb4dff315e49cba0044da9eb3c6273",
       "version_major": 2,
       "version_minor": 0
      },
      "text/plain": [
       "  0%|          | 0/5 [00:00<?, ?it/s]"
      ]
     },
     "metadata": {},
     "output_type": "display_data"
    },
    {
     "name": "stdout",
     "output_type": "stream",
     "text": [
      "nlms pre-convergence training iteration #0\n",
      "nlms MSE = 0.219453.\n",
      "nlms pre-convergence training iteration #1\n",
      "nlms MSE = 0.199592.\n",
      "nlms pre-convergence training iteration #2\n",
      "nlms MSE = 0.199055.\n",
      "nlms pre-convergence training iteration #3\n",
      "nlms MSE = 0.198722.\n",
      "nlms pre-convergence training iteration #4\n",
      "nlms MSE = 0.198494.\n",
      "\n",
      "\n",
      "dd-lms - training stage #1\n",
      "dd-lms MSE = 0.058570.\n",
      "Results:\n",
      "\n",
      "SER: 9.33e-01\n",
      "BER: 4.95e-01\n",
      "SNR: -0.00 dB\n",
      "MI: -0.31 bits\n",
      "GMI: 0.00 bits\n",
      "channel 0\t fc : 193.1000 THz\n",
      "  mode #0\t power: 0.00 dBm\n",
      "channel 0\t power: 0.00 dBm\n",
      "\n",
      "total WDM signal power: 0.00 dBm\n",
      "CSPR = 9.00 dB\n",
      "\n",
      "\n",
      "nlms - training stage #0\n"
     ]
    },
    {
     "data": {
      "application/vnd.jupyter.widget-view+json": {
       "model_id": "34526ae80a754fe694eae668536643ab",
       "version_major": 2,
       "version_minor": 0
      },
      "text/plain": [
       "  0%|          | 0/5 [00:00<?, ?it/s]"
      ]
     },
     "metadata": {},
     "output_type": "display_data"
    },
    {
     "name": "stdout",
     "output_type": "stream",
     "text": [
      "nlms pre-convergence training iteration #0\n",
      "nlms MSE = 0.234589.\n",
      "nlms pre-convergence training iteration #1\n",
      "nlms MSE = 0.214496.\n",
      "nlms pre-convergence training iteration #2\n",
      "nlms MSE = 0.213810.\n",
      "nlms pre-convergence training iteration #3\n",
      "nlms MSE = 0.213396.\n",
      "nlms pre-convergence training iteration #4\n",
      "nlms MSE = 0.213114.\n",
      "\n",
      "\n",
      "dd-lms - training stage #1\n",
      "dd-lms MSE = 0.059284.\n",
      "Results:\n",
      "\n",
      "SER: 9.31e-01\n",
      "BER: 4.93e-01\n",
      "SNR: -0.01 dB\n",
      "MI: -0.33 bits\n",
      "GMI: 0.00 bits\n"
     ]
    }
   ],
   "source": [
    "BER_KK = np.zeros(ROLLOFF.size)\n",
    "SER_KK = np.zeros(ROLLOFF.size)\n",
    "GMI_KK = np.zeros(ROLLOFF.size)\n",
    "MI_KK  = np.zeros(ROLLOFF.size)\n",
    "SNR_KK = np.zeros(ROLLOFF.size)\n",
    "\n",
    "for indROLL, ROLLOFF_ in enumerate(ROLLOFF):\n",
    "\n",
    "    paramTx.alphaRRC = ROLLOFF_\n",
    "    # generate optical signal signal\n",
    "    sigTx, symbTx_, paramTx = simpleWDMTx(paramTx)\n",
    "\n",
    "    # simulate linear signal propagation\n",
    "    sigCh = linFiberCh(sigTx, Ltotal, alpha, D, Fc, Fs)\n",
    "    \n",
    "    # receiver detection and demodulation\n",
    "\n",
    "    Fc = paramTx.Fc\n",
    "    Ts = 1 / Fs\n",
    "    mod = QAMModem(m=paramTx.M)\n",
    "\n",
    "    freqGrid = paramTx.freqGrid\n",
    "\n",
    "    symbTx = symbTx_[:, :, chIndex]\n",
    "    \n",
    "    #Plo_dBm = CSPR_\n",
    "    Plo = 10 ** (Plo_dBm / 10) * 1e-3  # power in W\n",
    "\n",
    "#     print(\n",
    "#         \"Local oscillator P: %.2f dBm, lw: %.2f kHz, FO: %.2f MHz\"\n",
    "#         % (Plo_dBm, lw / 1e3, FO / 1e6)\n",
    "#     )\n",
    "\n",
    "    # generate LO field\n",
    "    π = np.pi\n",
    "    t = np.arange(0, len(sigCh))*Ts\n",
    "    ϕ_pn_lo = phaseNoise(lw, len(sigCh), Ts)\n",
    "\n",
    "    sigLO = np.sqrt(Plo) * np.exp(-1j * (2 * π * FO * t + ϕ_lo + ϕ_pn_lo))\n",
    "\n",
    "    # Add LO to the received signal\n",
    "    sigRx = np.sqrt(Plo) + sigCh* np.exp(1j * (2 * π * FO * t + ϕ_lo + ϕ_pn_lo))\n",
    "    sfm   = sigRx.copy()\n",
    "\n",
    "    print('CSPR = %.2f dB'%(10*np.log10(signal_power(sigLO)/signal_power(sigCh))))\n",
    "\n",
    "    ### Phase-retrieval stage\n",
    "\n",
    "    # simulate ideal direct-detection optical receiver\n",
    "    Amp = np.abs(sigRx)\n",
    "\n",
    "    # Kramers-Kronig phase-retrieval\n",
    "    phiTime = KramersKronigRx(Amp, Fs)\n",
    "\n",
    "    # optical field reconstruction\n",
    "    sigRx = Amp*np.exp(1j*phiTime)\n",
    "\n",
    "    # remove DC level\n",
    "    sigRx -= np.sqrt(Plo)  # np.mean(sigRx)\n",
    "\n",
    "    # downshift to baseband\n",
    "    sigRx *= np.exp(-1j * (2 * π * FO * t))\n",
    "\n",
    "    #### Standard receiver processing\n",
    "\n",
    "    # Matched filtering and CD compensation\n",
    "\n",
    "    # Matched filtering\n",
    "    if paramTx.pulse == \"nrz\":\n",
    "        pulse = pulseShape(\"nrz\", paramTx.SpS)\n",
    "    elif paramTx.pulse == \"rrc\":\n",
    "        pulse = pulseShape(\n",
    "            \"rrc\", paramTx.SpS, N=paramTx.Ntaps, alpha=paramTx.alphaRRC, Ts=1 / paramTx.Rs\n",
    "        )\n",
    "\n",
    "    pulse = pulse / np.max(np.abs(pulse))\n",
    "    sigRx = firFilter(pulse, sigRx)\n",
    "\n",
    "#     # plot constellations after matched filtering\n",
    "#     pconst(sigRx[0::paramTx.SpS], lim=True, R=3)\n",
    "\n",
    "    # CD compensation\n",
    "    sigRx = edc(sigRx, Ltotal, D, Fc, Fs)\n",
    "\n",
    "#     #plot constellations after CD compensation\n",
    "#     pconst(sigRx[0::paramTx.SpS], lim=True, R=2)\n",
    "\n",
    "    # Downsampling to 2 sps and re-synchronization with transmitted sequences\n",
    "    sigRx = sigRx.reshape(-1, 1)\n",
    "\n",
    "    # decimation\n",
    "    paramDec = parameters()\n",
    "    paramDec.SpS_in = paramTx.SpS\n",
    "    paramDec.SpS_out = 2\n",
    "    sigRx = decimate(sigRx, paramDec)\n",
    "\n",
    "    symbRx = symbolSync(sigRx, symbTx, 2)\n",
    "\n",
    "    # Power normalization\n",
    "    x = sigRx\n",
    "    d = symbRx\n",
    "\n",
    "    x = x.reshape(len(x), 1) / np.sqrt(signal_power(x))\n",
    "    d = d.reshape(len(d), 1) / np.sqrt(signal_power(d))\n",
    "\n",
    "    # Adaptive equalization\n",
    "    mod = QAMModem(m=paramTx.M)\n",
    "\n",
    "    paramEq = parameters()\n",
    "    paramEq.nTaps = 7\n",
    "    paramEq.SpS = 2\n",
    "    paramEq.mu = [5e-3, 5e-3]\n",
    "    paramEq.numIter = 5\n",
    "    paramEq.storeCoeff = False\n",
    "    paramEq.alg = [\"nlms\", \"dd-lms\"]\n",
    "    paramEq.M = paramTx.M\n",
    "    paramEq.L = [20000, 80000]\n",
    "\n",
    "    y_EQ, H, errSq, Hiter = mimoAdaptEqualizer(x, dx=d, paramEq=paramEq)\n",
    "\n",
    "   # y_EQ = x[0::paramTx.SpS]\n",
    "    discard = int(paramEq.L[0]/2)\n",
    "\n",
    "#     #plot constellations after adaptive equalization\n",
    "#     pconst(y_EQ[discard:-discard,:], lim=True)\n",
    "\n",
    "    # Carrier phase recovery\n",
    "    paramCPR = parameters()\n",
    "    paramCPR.alg = \"bps\"\n",
    "    paramCPR.M = paramTx.M\n",
    "    paramCPR.N = 35\n",
    "    paramCPR.B = 64\n",
    "    paramCPR.pilotInd = np.arange(0, len(y_EQ), 20)\n",
    "\n",
    "    y_CPR, θ = cpr(y_EQ, symbTx=d, paramCPR=paramCPR)\n",
    "\n",
    "    y_CPR = y_CPR / np.sqrt(signal_power(y_CPR))\n",
    "\n",
    "#     plt.figure()\n",
    "#     plt.title(\"CPR estimated phase\")\n",
    "#     plt.plot(θ, \"-\")\n",
    "#     plt.xlim(0, len(θ))\n",
    "#     plt.grid()\n",
    "\n",
    "    discard = 5000\n",
    "\n",
    "#     # plot constellations after CPR\n",
    "#     pconst(y_CPR[discard:-discard, :], lim=True)\n",
    "\n",
    "    #### Evaluate transmission metrics\n",
    "\n",
    "    # correct for (possible) phase ambiguity\n",
    "    for k in range(y_CPR.shape[1]):\n",
    "        rot = np.mean(d[:, k] / y_CPR[:, k])\n",
    "        y_CPR[:, k] = rot * y_CPR[:, k]\n",
    "\n",
    "    y_CPR = y_CPR / np.sqrt(signal_power(y_CPR))\n",
    "\n",
    "    ind = np.arange(discard, d.shape[0] - discard)\n",
    "    BER_KK[indROLL], SER_KK[indROLL], SNR_KK[indROLL] = fastBERcalc(y_CPR[ind, :], d[ind, :], mod)\n",
    "    GMI_KK[indROLL], _ = monteCarloGMI(y_CPR[ind, :], d[ind, :], mod)\n",
    "    MI_KK[indROLL] = monteCarloMI(y_CPR[ind, :], d[ind, :], mod)\n",
    "\n",
    "    print(\"Results:\\n\")\n",
    "    print(\"SER: %.2e\" % (SER_KK[indROLL]))\n",
    "    print(\"BER: %.2e\" % (BER_KK[indROLL]))\n",
    "    print(\"SNR: %.2f dB\" % (SNR_KK[indROLL]))\n",
    "    print(\"MI: %.2f bits\" % (MI_KK[indROLL]))\n",
    "    print(\"GMI: %.2f bits\" % (GMI_KK[indROLL]))\n"
   ]
  },
  {
   "cell_type": "code",
   "execution_count": 42,
   "id": "297a16e1",
   "metadata": {
    "ExecuteTime": {
     "end_time": "2022-02-10T19:12:29.381297Z",
     "start_time": "2022-02-10T19:12:29.331330Z"
    }
   },
   "outputs": [
    {
     "data": {
      "image/png": "[encoded data removed]",
      "text/plain": [
       "<Figure size 432x288 with 1 Axes>"
      ]
     },
     "metadata": {
      "needs_background": "light"
     },
     "output_type": "display_data"
    }
   ],
   "source": [
    "plt.plot(ROLLOFF, np.log10(BER_KK),'-o')\n",
    "plt.xlabel('Roll-off factor RRC')\n",
    "plt.ylabel('log10(BER)')\n",
    "plt.grid();"
   ]
  },
  {
   "cell_type": "markdown",
   "id": "dc2b47b0",
   "metadata": {},
   "source": [
    "### BER vs FO with KK algorithm"
   ]
  },
  {
   "cell_type": "code",
   "execution_count": 45,
   "id": "e5ecdd52",
   "metadata": {},
   "outputs": [
    {
     "name": "stdout",
     "output_type": "stream",
     "text": [
      "channel 0\t fc : 193.1000 THz\n",
      "  mode #0\t power: 0.00 dBm\n",
      "channel 0\t power: 0.00 dBm\n",
      "\n",
      "total WDM signal power: 0.00 dBm\n",
      "CSPR = 9.00 dB\n",
      "\n",
      "\n",
      "nlms - training stage #0\n"
     ]
    },
    {
     "data": {
      "application/vnd.jupyter.widget-view+json": {
       "model_id": "36ad5ce34b864bc48ec70796168869cc",
       "version_major": 2,
       "version_minor": 0
      },
      "text/plain": [
       "  0%|          | 0/5 [00:00<?, ?it/s]"
      ]
     },
     "metadata": {},
     "output_type": "display_data"
    },
    {
     "name": "stdout",
     "output_type": "stream",
     "text": [
      "nlms pre-convergence training iteration #0\n",
      "nlms MSE = 0.674469.\n",
      "nlms pre-convergence training iteration #1\n",
      "nlms MSE = 0.643075.\n",
      "nlms pre-convergence training iteration #2\n",
      "nlms MSE = 0.636563.\n",
      "nlms pre-convergence training iteration #3\n",
      "nlms MSE = 0.632597.\n",
      "nlms pre-convergence training iteration #4\n",
      "nlms MSE = 0.630200.\n",
      "\n",
      "\n",
      "dd-lms - training stage #1\n",
      "dd-lms MSE = 0.066839.\n",
      "Results:\n",
      "\n",
      "SER: 9.36e-01\n",
      "BER: 4.98e-01\n",
      "SNR: -0.00 dB\n",
      "MI: -0.35 bits\n",
      "GMI: 0.00 bits\n",
      "channel 0\t fc : 193.1000 THz\n",
      "  mode #0\t power: 0.00 dBm\n",
      "channel 0\t power: 0.00 dBm\n",
      "\n",
      "total WDM signal power: 0.00 dBm\n",
      "CSPR = 9.00 dB\n",
      "\n",
      "\n",
      "nlms - training stage #0\n"
     ]
    },
    {
     "data": {
      "application/vnd.jupyter.widget-view+json": {
       "model_id": "886416806fa34012964f718ebccc52da",
       "version_major": 2,
       "version_minor": 0
      },
      "text/plain": [
       "  0%|          | 0/5 [00:00<?, ?it/s]"
      ]
     },
     "metadata": {},
     "output_type": "display_data"
    },
    {
     "name": "stdout",
     "output_type": "stream",
     "text": [
      "nlms pre-convergence training iteration #0\n",
      "nlms MSE = 0.677800.\n",
      "nlms pre-convergence training iteration #1\n",
      "nlms MSE = 0.639629.\n",
      "nlms pre-convergence training iteration #2\n",
      "nlms MSE = 0.631570.\n",
      "nlms pre-convergence training iteration #3\n",
      "nlms MSE = 0.626802.\n",
      "nlms pre-convergence training iteration #4\n",
      "nlms MSE = 0.623932.\n",
      "\n",
      "\n",
      "dd-lms - training stage #1\n",
      "dd-lms MSE = 0.066507.\n",
      "Results:\n",
      "\n",
      "SER: 9.36e-01\n",
      "BER: 4.97e-01\n",
      "SNR: 0.00 dB\n",
      "MI: -0.32 bits\n",
      "GMI: 0.00 bits\n",
      "channel 0\t fc : 193.1000 THz\n",
      "  mode #0\t power: 0.00 dBm\n",
      "channel 0\t power: -0.00 dBm\n",
      "\n",
      "total WDM signal power: -0.00 dBm\n",
      "CSPR = 9.00 dB\n",
      "\n",
      "\n",
      "nlms - training stage #0\n"
     ]
    },
    {
     "data": {
      "application/vnd.jupyter.widget-view+json": {
       "model_id": "2e433444cdfc4d7cb372e84b16caba75",
       "version_major": 2,
       "version_minor": 0
      },
      "text/plain": [
       "  0%|          | 0/5 [00:00<?, ?it/s]"
      ]
     },
     "metadata": {},
     "output_type": "display_data"
    },
    {
     "name": "stdout",
     "output_type": "stream",
     "text": [
      "nlms pre-convergence training iteration #0\n",
      "nlms MSE = 0.668732.\n",
      "nlms pre-convergence training iteration #1\n",
      "nlms MSE = 0.632836.\n",
      "nlms pre-convergence training iteration #2\n",
      "nlms MSE = 0.625207.\n",
      "nlms pre-convergence training iteration #3\n",
      "nlms MSE = 0.620690.\n",
      "nlms pre-convergence training iteration #4\n",
      "nlms MSE = 0.617952.\n",
      "\n",
      "\n",
      "dd-lms - training stage #1\n",
      "dd-lms MSE = 0.066908.\n",
      "Results:\n",
      "\n",
      "SER: 9.38e-01\n",
      "BER: 5.01e-01\n",
      "SNR: 0.00 dB\n",
      "MI: -0.34 bits\n",
      "GMI: 0.00 bits\n",
      "channel 0\t fc : 193.1000 THz\n",
      "  mode #0\t power: 0.00 dBm\n",
      "channel 0\t power: 0.00 dBm\n",
      "\n",
      "total WDM signal power: 0.00 dBm\n",
      "CSPR = 9.00 dB\n",
      "\n",
      "\n",
      "nlms - training stage #0\n"
     ]
    },
    {
     "data": {
      "application/vnd.jupyter.widget-view+json": {
       "model_id": "264982a188ae464d932034e4850f61da",
       "version_major": 2,
       "version_minor": 0
      },
      "text/plain": [
       "  0%|          | 0/5 [00:00<?, ?it/s]"
      ]
     },
     "metadata": {},
     "output_type": "display_data"
    },
    {
     "name": "stdout",
     "output_type": "stream",
     "text": [
      "nlms pre-convergence training iteration #0\n",
      "nlms MSE = 0.686489.\n",
      "nlms pre-convergence training iteration #1\n",
      "nlms MSE = 0.652033.\n",
      "nlms pre-convergence training iteration #2\n",
      "nlms MSE = 0.644765.\n",
      "nlms pre-convergence training iteration #3\n",
      "nlms MSE = 0.640219.\n",
      "nlms pre-convergence training iteration #4\n",
      "nlms MSE = 0.637384.\n",
      "\n",
      "\n",
      "dd-lms - training stage #1\n",
      "dd-lms MSE = 0.066988.\n",
      "Results:\n",
      "\n",
      "SER: 9.38e-01\n",
      "BER: 4.99e-01\n",
      "SNR: -0.00 dB\n",
      "MI: -0.35 bits\n",
      "GMI: 0.00 bits\n",
      "channel 0\t fc : 193.1000 THz\n",
      "  mode #0\t power: 0.00 dBm\n",
      "channel 0\t power: 0.00 dBm\n",
      "\n",
      "total WDM signal power: 0.00 dBm\n",
      "CSPR = 9.00 dB\n",
      "\n",
      "\n",
      "nlms - training stage #0\n"
     ]
    },
    {
     "data": {
      "application/vnd.jupyter.widget-view+json": {
       "model_id": "760dbbd9279c49dbb36e0c40d40ebeb6",
       "version_major": 2,
       "version_minor": 0
      },
      "text/plain": [
       "  0%|          | 0/5 [00:00<?, ?it/s]"
      ]
     },
     "metadata": {},
     "output_type": "display_data"
    },
    {
     "name": "stdout",
     "output_type": "stream",
     "text": [
      "nlms pre-convergence training iteration #0\n",
      "nlms MSE = 0.654234.\n",
      "nlms pre-convergence training iteration #1\n",
      "nlms MSE = 0.623923.\n",
      "nlms pre-convergence training iteration #2\n",
      "nlms MSE = 0.617698.\n",
      "nlms pre-convergence training iteration #3\n",
      "nlms MSE = 0.613986.\n",
      "nlms pre-convergence training iteration #4\n",
      "nlms MSE = 0.611749.\n",
      "\n",
      "\n",
      "dd-lms - training stage #1\n",
      "dd-lms MSE = 0.066858.\n",
      "Results:\n",
      "\n",
      "SER: 9.35e-01\n",
      "BER: 4.96e-01\n",
      "SNR: 0.00 dB\n",
      "MI: -0.33 bits\n",
      "GMI: 0.00 bits\n",
      "channel 0\t fc : 193.1000 THz\n",
      "  mode #0\t power: 0.00 dBm\n",
      "channel 0\t power: -0.00 dBm\n",
      "\n",
      "total WDM signal power: -0.00 dBm\n",
      "CSPR = 9.00 dB\n",
      "\n",
      "\n",
      "nlms - training stage #0\n"
     ]
    },
    {
     "data": {
      "application/vnd.jupyter.widget-view+json": {
       "model_id": "7d165bb7e9ee446886d0cf956c1ecd50",
       "version_major": 2,
       "version_minor": 0
      },
      "text/plain": [
       "  0%|          | 0/5 [00:00<?, ?it/s]"
      ]
     },
     "metadata": {},
     "output_type": "display_data"
    },
    {
     "name": "stdout",
     "output_type": "stream",
     "text": [
      "nlms pre-convergence training iteration #0\n",
      "nlms MSE = 0.668333.\n",
      "nlms pre-convergence training iteration #1\n",
      "nlms MSE = 0.632110.\n",
      "nlms pre-convergence training iteration #2\n",
      "nlms MSE = 0.624898.\n",
      "nlms pre-convergence training iteration #3\n",
      "nlms MSE = 0.620612.\n",
      "nlms pre-convergence training iteration #4\n",
      "nlms MSE = 0.617970.\n",
      "\n",
      "\n",
      "dd-lms - training stage #1\n",
      "dd-lms MSE = 0.066950.\n",
      "Results:\n",
      "\n",
      "SER: 9.37e-01\n",
      "BER: 4.98e-01\n",
      "SNR: -0.00 dB\n",
      "MI: -0.34 bits\n",
      "GMI: -0.00 bits\n",
      "channel 0\t fc : 193.1000 THz\n",
      "  mode #0\t power: 0.00 dBm\n",
      "channel 0\t power: -0.00 dBm\n",
      "\n",
      "total WDM signal power: -0.00 dBm\n",
      "CSPR = 9.00 dB\n",
      "\n",
      "\n",
      "nlms - training stage #0\n"
     ]
    },
    {
     "data": {
      "application/vnd.jupyter.widget-view+json": {
       "model_id": "dee6aa10deb24b3fa688318f0229e260",
       "version_major": 2,
       "version_minor": 0
      },
      "text/plain": [
       "  0%|          | 0/5 [00:00<?, ?it/s]"
      ]
     },
     "metadata": {},
     "output_type": "display_data"
    },
    {
     "name": "stdout",
     "output_type": "stream",
     "text": [
      "nlms pre-convergence training iteration #0\n",
      "nlms MSE = 0.685587.\n",
      "nlms pre-convergence training iteration #1\n",
      "nlms MSE = 0.659648.\n",
      "nlms pre-convergence training iteration #2\n",
      "nlms MSE = 0.652456.\n",
      "nlms pre-convergence training iteration #3\n",
      "nlms MSE = 0.648146.\n",
      "nlms pre-convergence training iteration #4\n",
      "nlms MSE = 0.645584.\n",
      "\n",
      "\n",
      "dd-lms - training stage #1\n",
      "dd-lms MSE = 0.067255.\n",
      "Results:\n",
      "\n",
      "SER: 9.37e-01\n",
      "BER: 5.00e-01\n",
      "SNR: -0.00 dB\n",
      "MI: -0.35 bits\n",
      "GMI: -0.00 bits\n",
      "channel 0\t fc : 193.1000 THz\n",
      "  mode #0\t power: 0.00 dBm\n",
      "channel 0\t power: 0.00 dBm\n",
      "\n",
      "total WDM signal power: 0.00 dBm\n",
      "CSPR = 9.00 dB\n",
      "\n",
      "\n",
      "nlms - training stage #0\n"
     ]
    },
    {
     "data": {
      "application/vnd.jupyter.widget-view+json": {
       "model_id": "d87c4dbe918d4d9cb43e1c7b89da252b",
       "version_major": 2,
       "version_minor": 0
      },
      "text/plain": [
       "  0%|          | 0/5 [00:00<?, ?it/s]"
      ]
     },
     "metadata": {},
     "output_type": "display_data"
    },
    {
     "name": "stdout",
     "output_type": "stream",
     "text": [
      "nlms pre-convergence training iteration #0\n",
      "nlms MSE = 0.662666.\n",
      "nlms pre-convergence training iteration #1\n",
      "nlms MSE = 0.628360.\n",
      "nlms pre-convergence training iteration #2\n",
      "nlms MSE = 0.621753.\n",
      "nlms pre-convergence training iteration #3\n",
      "nlms MSE = 0.617780.\n",
      "nlms pre-convergence training iteration #4\n",
      "nlms MSE = 0.615347.\n",
      "\n",
      "\n",
      "dd-lms - training stage #1\n",
      "dd-lms MSE = 0.066969.\n",
      "Results:\n",
      "\n",
      "SER: 9.36e-01\n",
      "BER: 5.00e-01\n",
      "SNR: -0.00 dB\n",
      "MI: -0.34 bits\n",
      "GMI: 0.00 bits\n",
      "channel 0\t fc : 193.1000 THz\n",
      "  mode #0\t power: 0.00 dBm\n",
      "channel 0\t power: 0.00 dBm\n",
      "\n",
      "total WDM signal power: 0.00 dBm\n",
      "CSPR = 9.00 dB\n",
      "\n",
      "\n",
      "nlms - training stage #0\n"
     ]
    },
    {
     "data": {
      "application/vnd.jupyter.widget-view+json": {
       "model_id": "79e92abe54604d37bdc18771006b2be1",
       "version_major": 2,
       "version_minor": 0
      },
      "text/plain": [
       "  0%|          | 0/5 [00:00<?, ?it/s]"
      ]
     },
     "metadata": {},
     "output_type": "display_data"
    },
    {
     "name": "stdout",
     "output_type": "stream",
     "text": [
      "nlms pre-convergence training iteration #0\n",
      "nlms MSE = 0.674726.\n",
      "nlms pre-convergence training iteration #1\n",
      "nlms MSE = 0.636225.\n",
      "nlms pre-convergence training iteration #2\n",
      "nlms MSE = 0.627954.\n",
      "nlms pre-convergence training iteration #3\n",
      "nlms MSE = 0.623159.\n",
      "nlms pre-convergence training iteration #4\n",
      "nlms MSE = 0.620372.\n",
      "\n",
      "\n",
      "dd-lms - training stage #1\n",
      "dd-lms MSE = 0.066862.\n",
      "Results:\n",
      "\n",
      "SER: 9.36e-01\n",
      "BER: 4.97e-01\n",
      "SNR: 0.00 dB\n",
      "MI: -0.33 bits\n",
      "GMI: 0.00 bits\n",
      "channel 0\t fc : 193.1000 THz\n",
      "  mode #0\t power: 0.00 dBm\n",
      "channel 0\t power: 0.00 dBm\n",
      "\n",
      "total WDM signal power: 0.00 dBm\n",
      "CSPR = 9.00 dB\n",
      "\n",
      "\n",
      "nlms - training stage #0\n"
     ]
    },
    {
     "data": {
      "application/vnd.jupyter.widget-view+json": {
       "model_id": "47e57e4a105147a3b80610a7d6a9459d",
       "version_major": 2,
       "version_minor": 0
      },
      "text/plain": [
       "  0%|          | 0/5 [00:00<?, ?it/s]"
      ]
     },
     "metadata": {},
     "output_type": "display_data"
    },
    {
     "name": "stdout",
     "output_type": "stream",
     "text": [
      "nlms pre-convergence training iteration #0\n",
      "nlms MSE = 0.681111.\n",
      "nlms pre-convergence training iteration #1\n",
      "nlms MSE = 0.642642.\n",
      "nlms pre-convergence training iteration #2\n",
      "nlms MSE = 0.634747.\n",
      "nlms pre-convergence training iteration #3\n",
      "nlms MSE = 0.630046.\n",
      "nlms pre-convergence training iteration #4\n",
      "nlms MSE = 0.627241.\n",
      "\n",
      "\n",
      "dd-lms - training stage #1\n",
      "dd-lms MSE = 0.066878.\n",
      "Results:\n",
      "\n",
      "SER: 9.38e-01\n",
      "BER: 4.99e-01\n",
      "SNR: 0.00 dB\n",
      "MI: -0.33 bits\n",
      "GMI: 0.00 bits\n",
      "channel 0\t fc : 193.1000 THz\n",
      "  mode #0\t power: 0.00 dBm\n",
      "channel 0\t power: 0.00 dBm\n",
      "\n",
      "total WDM signal power: 0.00 dBm\n",
      "CSPR = 9.00 dB\n",
      "\n",
      "\n",
      "nlms - training stage #0\n"
     ]
    },
    {
     "data": {
      "application/vnd.jupyter.widget-view+json": {
       "model_id": "779b7cbcb4674ff18de6e59f433d9370",
       "version_major": 2,
       "version_minor": 0
      },
      "text/plain": [
       "  0%|          | 0/5 [00:00<?, ?it/s]"
      ]
     },
     "metadata": {},
     "output_type": "display_data"
    },
    {
     "name": "stdout",
     "output_type": "stream",
     "text": [
      "nlms pre-convergence training iteration #0\n",
      "nlms MSE = 0.671569.\n",
      "nlms pre-convergence training iteration #1\n",
      "nlms MSE = 0.633912.\n",
      "nlms pre-convergence training iteration #2\n",
      "nlms MSE = 0.626508.\n",
      "nlms pre-convergence training iteration #3\n",
      "nlms MSE = 0.622004.\n",
      "nlms pre-convergence training iteration #4\n",
      "nlms MSE = 0.619230.\n",
      "\n",
      "\n",
      "dd-lms - training stage #1\n",
      "dd-lms MSE = 0.066948.\n",
      "Results:\n",
      "\n",
      "SER: 9.36e-01\n",
      "BER: 4.98e-01\n",
      "SNR: 0.00 dB\n",
      "MI: -0.32 bits\n",
      "GMI: 0.00 bits\n",
      "channel 0\t fc : 193.1000 THz\n",
      "  mode #0\t power: 0.00 dBm\n",
      "channel 0\t power: 0.00 dBm\n",
      "\n",
      "total WDM signal power: 0.00 dBm\n",
      "CSPR = 9.00 dB\n",
      "\n",
      "\n",
      "nlms - training stage #0\n"
     ]
    },
    {
     "data": {
      "application/vnd.jupyter.widget-view+json": {
       "model_id": "901a13578e9f4b09a800f9c434344cf8",
       "version_major": 2,
       "version_minor": 0
      },
      "text/plain": [
       "  0%|          | 0/5 [00:00<?, ?it/s]"
      ]
     },
     "metadata": {},
     "output_type": "display_data"
    },
    {
     "name": "stdout",
     "output_type": "stream",
     "text": [
      "nlms pre-convergence training iteration #0\n",
      "nlms MSE = 0.674201.\n",
      "nlms pre-convergence training iteration #1\n",
      "nlms MSE = 0.636020.\n",
      "nlms pre-convergence training iteration #2\n",
      "nlms MSE = 0.627898.\n",
      "nlms pre-convergence training iteration #3\n",
      "nlms MSE = 0.623181.\n",
      "nlms pre-convergence training iteration #4\n",
      "nlms MSE = 0.620378.\n",
      "\n",
      "\n",
      "dd-lms - training stage #1\n",
      "dd-lms MSE = 0.066857.\n",
      "Results:\n",
      "\n",
      "SER: 9.35e-01\n",
      "BER: 4.97e-01\n",
      "SNR: 0.00 dB\n",
      "MI: -0.32 bits\n",
      "GMI: 0.00 bits\n",
      "channel 0\t fc : 193.1000 THz\n",
      "  mode #0\t power: 0.00 dBm\n",
      "channel 0\t power: -0.00 dBm\n",
      "\n",
      "total WDM signal power: -0.00 dBm\n",
      "CSPR = 9.00 dB\n",
      "\n",
      "\n",
      "nlms - training stage #0\n"
     ]
    },
    {
     "data": {
      "application/vnd.jupyter.widget-view+json": {
       "model_id": "f84fd3389ca64fafbee1d857b6435f72",
       "version_major": 2,
       "version_minor": 0
      },
      "text/plain": [
       "  0%|          | 0/5 [00:00<?, ?it/s]"
      ]
     },
     "metadata": {},
     "output_type": "display_data"
    },
    {
     "name": "stdout",
     "output_type": "stream",
     "text": [
      "nlms pre-convergence training iteration #0\n",
      "nlms MSE = 0.683874.\n",
      "nlms pre-convergence training iteration #1\n",
      "nlms MSE = 0.658977.\n",
      "nlms pre-convergence training iteration #2\n",
      "nlms MSE = 0.652485.\n",
      "nlms pre-convergence training iteration #3\n",
      "nlms MSE = 0.648485.\n",
      "nlms pre-convergence training iteration #4\n",
      "nlms MSE = 0.646058.\n",
      "\n",
      "\n",
      "dd-lms - training stage #1\n",
      "dd-lms MSE = 0.067089.\n",
      "Results:\n",
      "\n",
      "SER: 9.37e-01\n",
      "BER: 4.97e-01\n",
      "SNR: 0.00 dB\n",
      "MI: -0.33 bits\n",
      "GMI: 0.00 bits\n",
      "channel 0\t fc : 193.1000 THz\n",
      "  mode #0\t power: 0.00 dBm\n",
      "channel 0\t power: -0.00 dBm\n",
      "\n",
      "total WDM signal power: -0.00 dBm\n",
      "CSPR = 9.00 dB\n",
      "\n",
      "\n",
      "nlms - training stage #0\n"
     ]
    },
    {
     "data": {
      "application/vnd.jupyter.widget-view+json": {
       "model_id": "afc63ae23a1d4e0ab5b0000d88666922",
       "version_major": 2,
       "version_minor": 0
      },
      "text/plain": [
       "  0%|          | 0/5 [00:00<?, ?it/s]"
      ]
     },
     "metadata": {},
     "output_type": "display_data"
    },
    {
     "name": "stdout",
     "output_type": "stream",
     "text": [
      "nlms pre-convergence training iteration #0\n",
      "nlms MSE = 0.678710.\n",
      "nlms pre-convergence training iteration #1\n",
      "nlms MSE = 0.642324.\n",
      "nlms pre-convergence training iteration #2\n",
      "nlms MSE = 0.634610.\n",
      "nlms pre-convergence training iteration #3\n",
      "nlms MSE = 0.629915.\n",
      "nlms pre-convergence training iteration #4\n",
      "nlms MSE = 0.627033.\n",
      "\n",
      "\n",
      "dd-lms - training stage #1\n",
      "dd-lms MSE = 0.066763.\n",
      "Results:\n",
      "\n",
      "SER: 9.35e-01\n",
      "BER: 4.98e-01\n",
      "SNR: 0.01 dB\n",
      "MI: -0.32 bits\n",
      "GMI: 0.00 bits\n",
      "channel 0\t fc : 193.1000 THz\n",
      "  mode #0\t power: 0.00 dBm\n",
      "channel 0\t power: -0.00 dBm\n",
      "\n",
      "total WDM signal power: -0.00 dBm\n",
      "CSPR = 9.00 dB\n",
      "\n",
      "\n",
      "nlms - training stage #0\n"
     ]
    },
    {
     "data": {
      "application/vnd.jupyter.widget-view+json": {
       "model_id": "98ef3ecc08ff4872956f2df17b3177a1",
       "version_major": 2,
       "version_minor": 0
      },
      "text/plain": [
       "  0%|          | 0/5 [00:00<?, ?it/s]"
      ]
     },
     "metadata": {},
     "output_type": "display_data"
    },
    {
     "name": "stdout",
     "output_type": "stream",
     "text": [
      "nlms pre-convergence training iteration #0\n",
      "nlms MSE = 0.682150.\n",
      "nlms pre-convergence training iteration #1\n",
      "nlms MSE = 0.643802.\n",
      "nlms pre-convergence training iteration #2\n",
      "nlms MSE = 0.635659.\n",
      "nlms pre-convergence training iteration #3\n",
      "nlms MSE = 0.630723.\n",
      "nlms pre-convergence training iteration #4\n",
      "nlms MSE = 0.627671.\n",
      "\n",
      "\n",
      "dd-lms - training stage #1\n",
      "dd-lms MSE = 0.066958.\n",
      "Results:\n",
      "\n",
      "SER: 9.38e-01\n",
      "BER: 5.00e-01\n",
      "SNR: 0.00 dB\n",
      "MI: -0.35 bits\n",
      "GMI: 0.00 bits\n",
      "channel 0\t fc : 193.1000 THz\n",
      "  mode #0\t power: 0.00 dBm\n",
      "channel 0\t power: 0.00 dBm\n",
      "\n",
      "total WDM signal power: 0.00 dBm\n",
      "CSPR = 9.00 dB\n",
      "\n",
      "\n",
      "nlms - training stage #0\n"
     ]
    },
    {
     "data": {
      "application/vnd.jupyter.widget-view+json": {
       "model_id": "b0676cc7d84346acab44969ed4d1b84a",
       "version_major": 2,
       "version_minor": 0
      },
      "text/plain": [
       "  0%|          | 0/5 [00:00<?, ?it/s]"
      ]
     },
     "metadata": {},
     "output_type": "display_data"
    },
    {
     "name": "stdout",
     "output_type": "stream",
     "text": [
      "nlms pre-convergence training iteration #0\n",
      "nlms MSE = 0.675286.\n",
      "nlms pre-convergence training iteration #1\n",
      "nlms MSE = 0.636307.\n",
      "nlms pre-convergence training iteration #2\n",
      "nlms MSE = 0.628058.\n",
      "nlms pre-convergence training iteration #3\n",
      "nlms MSE = 0.623064.\n",
      "nlms pre-convergence training iteration #4\n",
      "nlms MSE = 0.620015.\n",
      "\n",
      "\n",
      "dd-lms - training stage #1\n",
      "dd-lms MSE = 0.066722.\n",
      "Results:\n",
      "\n",
      "SER: 9.35e-01\n",
      "BER: 4.94e-01\n",
      "SNR: 0.00 dB\n",
      "MI: -0.33 bits\n",
      "GMI: 0.00 bits\n",
      "channel 0\t fc : 193.1000 THz\n",
      "  mode #0\t power: 0.00 dBm\n",
      "channel 0\t power: 0.00 dBm\n",
      "\n",
      "total WDM signal power: 0.00 dBm\n",
      "CSPR = 9.00 dB\n",
      "\n",
      "\n",
      "nlms - training stage #0\n"
     ]
    },
    {
     "data": {
      "application/vnd.jupyter.widget-view+json": {
       "model_id": "1b9256dda24e499a9ae4f901cb238767",
       "version_major": 2,
       "version_minor": 0
      },
      "text/plain": [
       "  0%|          | 0/5 [00:00<?, ?it/s]"
      ]
     },
     "metadata": {},
     "output_type": "display_data"
    },
    {
     "name": "stdout",
     "output_type": "stream",
     "text": [
      "nlms pre-convergence training iteration #0\n",
      "nlms MSE = 0.661932.\n",
      "nlms pre-convergence training iteration #1\n",
      "nlms MSE = 0.622619.\n",
      "nlms pre-convergence training iteration #2\n",
      "nlms MSE = 0.614819.\n",
      "nlms pre-convergence training iteration #3\n",
      "nlms MSE = 0.610226.\n",
      "nlms pre-convergence training iteration #4\n",
      "nlms MSE = 0.607488.\n",
      "\n",
      "\n",
      "dd-lms - training stage #1\n",
      "dd-lms MSE = 0.066948.\n",
      "Results:\n",
      "\n",
      "SER: 9.35e-01\n",
      "BER: 4.98e-01\n",
      "SNR: 0.00 dB\n",
      "MI: -0.33 bits\n",
      "GMI: 0.00 bits\n",
      "channel 0\t fc : 193.1000 THz\n",
      "  mode #0\t power: 0.00 dBm\n",
      "channel 0\t power: 0.00 dBm\n",
      "\n",
      "total WDM signal power: 0.00 dBm\n",
      "CSPR = 9.00 dB\n",
      "\n",
      "\n",
      "nlms - training stage #0\n"
     ]
    },
    {
     "data": {
      "application/vnd.jupyter.widget-view+json": {
       "model_id": "3e602e4f736c4d7aa448e6317824df0b",
       "version_major": 2,
       "version_minor": 0
      },
      "text/plain": [
       "  0%|          | 0/5 [00:00<?, ?it/s]"
      ]
     },
     "metadata": {},
     "output_type": "display_data"
    },
    {
     "name": "stdout",
     "output_type": "stream",
     "text": [
      "nlms pre-convergence training iteration #0\n",
      "nlms MSE = 0.669231.\n",
      "nlms pre-convergence training iteration #1\n",
      "nlms MSE = 0.634508.\n",
      "nlms pre-convergence training iteration #2\n",
      "nlms MSE = 0.627476.\n",
      "nlms pre-convergence training iteration #3\n",
      "nlms MSE = 0.623240.\n",
      "nlms pre-convergence training iteration #4\n",
      "nlms MSE = 0.620652.\n",
      "\n",
      "\n",
      "dd-lms - training stage #1\n",
      "dd-lms MSE = 0.066861.\n",
      "Results:\n",
      "\n",
      "SER: 9.36e-01\n",
      "BER: 4.96e-01\n",
      "SNR: 0.00 dB\n",
      "MI: -0.32 bits\n",
      "GMI: 0.00 bits\n",
      "channel 0\t fc : 193.1000 THz\n",
      "  mode #0\t power: 0.00 dBm\n",
      "channel 0\t power: -0.00 dBm\n",
      "\n",
      "total WDM signal power: -0.00 dBm\n",
      "CSPR = 9.00 dB\n",
      "\n",
      "\n",
      "nlms - training stage #0\n"
     ]
    },
    {
     "data": {
      "application/vnd.jupyter.widget-view+json": {
       "model_id": "f085e83142e54e338fe9320f3c0372e5",
       "version_major": 2,
       "version_minor": 0
      },
      "text/plain": [
       "  0%|          | 0/5 [00:00<?, ?it/s]"
      ]
     },
     "metadata": {},
     "output_type": "display_data"
    },
    {
     "name": "stdout",
     "output_type": "stream",
     "text": [
      "nlms pre-convergence training iteration #0\n",
      "nlms MSE = 0.656605.\n",
      "nlms pre-convergence training iteration #1\n",
      "nlms MSE = 0.631933.\n",
      "nlms pre-convergence training iteration #2\n",
      "nlms MSE = 0.626375.\n",
      "nlms pre-convergence training iteration #3\n",
      "nlms MSE = 0.622958.\n",
      "nlms pre-convergence training iteration #4\n",
      "nlms MSE = 0.620880.\n",
      "\n",
      "\n",
      "dd-lms - training stage #1\n",
      "dd-lms MSE = 0.067060.\n",
      "Results:\n",
      "\n",
      "SER: 9.35e-01\n",
      "BER: 4.96e-01\n",
      "SNR: 0.00 dB\n",
      "MI: -0.33 bits\n",
      "GMI: 0.00 bits\n",
      "channel 0\t fc : 193.1000 THz\n",
      "  mode #0\t power: 0.00 dBm\n",
      "channel 0\t power: -0.00 dBm\n",
      "\n",
      "total WDM signal power: -0.00 dBm\n",
      "CSPR = 9.00 dB\n",
      "\n",
      "\n",
      "nlms - training stage #0\n"
     ]
    },
    {
     "data": {
      "application/vnd.jupyter.widget-view+json": {
       "model_id": "8f3f03298bf64931a8b8d30cf09961d1",
       "version_major": 2,
       "version_minor": 0
      },
      "text/plain": [
       "  0%|          | 0/5 [00:00<?, ?it/s]"
      ]
     },
     "metadata": {},
     "output_type": "display_data"
    },
    {
     "name": "stdout",
     "output_type": "stream",
     "text": [
      "nlms pre-convergence training iteration #0\n",
      "nlms MSE = 0.673892.\n",
      "nlms pre-convergence training iteration #1\n",
      "nlms MSE = 0.639387.\n",
      "nlms pre-convergence training iteration #2\n",
      "nlms MSE = 0.632483.\n",
      "nlms pre-convergence training iteration #3\n",
      "nlms MSE = 0.628313.\n",
      "nlms pre-convergence training iteration #4\n",
      "nlms MSE = 0.625786.\n",
      "\n",
      "\n",
      "dd-lms - training stage #1\n",
      "dd-lms MSE = 0.066998.\n",
      "Results:\n",
      "\n",
      "SER: 9.36e-01\n",
      "BER: 4.97e-01\n",
      "SNR: 0.00 dB\n",
      "MI: -0.32 bits\n",
      "GMI: 0.00 bits\n",
      "channel 0\t fc : 193.1000 THz\n",
      "  mode #0\t power: 0.00 dBm\n",
      "channel 0\t power: -0.00 dBm\n",
      "\n",
      "total WDM signal power: -0.00 dBm\n",
      "CSPR = 9.00 dB\n",
      "\n",
      "\n",
      "nlms - training stage #0\n"
     ]
    },
    {
     "data": {
      "application/vnd.jupyter.widget-view+json": {
       "model_id": "00b92418298c45b6a28e9082bbdb8c50",
       "version_major": 2,
       "version_minor": 0
      },
      "text/plain": [
       "  0%|          | 0/5 [00:00<?, ?it/s]"
      ]
     },
     "metadata": {},
     "output_type": "display_data"
    },
    {
     "name": "stdout",
     "output_type": "stream",
     "text": [
      "nlms pre-convergence training iteration #0\n",
      "nlms MSE = 0.661353.\n",
      "nlms pre-convergence training iteration #1\n",
      "nlms MSE = 0.625261.\n",
      "nlms pre-convergence training iteration #2\n",
      "nlms MSE = 0.618345.\n",
      "nlms pre-convergence training iteration #3\n",
      "nlms MSE = 0.614171.\n",
      "nlms pre-convergence training iteration #4\n",
      "nlms MSE = 0.611577.\n",
      "\n",
      "\n",
      "dd-lms - training stage #1\n",
      "dd-lms MSE = 0.066501.\n",
      "Results:\n",
      "\n",
      "SER: 9.35e-01\n",
      "BER: 4.95e-01\n",
      "SNR: 0.01 dB\n",
      "MI: -0.31 bits\n",
      "GMI: 0.00 bits\n",
      "channel 0\t fc : 193.1000 THz\n",
      "  mode #0\t power: 0.00 dBm\n",
      "channel 0\t power: -0.00 dBm\n",
      "\n",
      "total WDM signal power: -0.00 dBm\n",
      "CSPR = 9.00 dB\n",
      "\n",
      "\n",
      "nlms - training stage #0\n"
     ]
    },
    {
     "data": {
      "application/vnd.jupyter.widget-view+json": {
       "model_id": "7496321e9c3340ad837aa23fd6e733e6",
       "version_major": 2,
       "version_minor": 0
      },
      "text/plain": [
       "  0%|          | 0/5 [00:00<?, ?it/s]"
      ]
     },
     "metadata": {},
     "output_type": "display_data"
    },
    {
     "name": "stdout",
     "output_type": "stream",
     "text": [
      "nlms pre-convergence training iteration #0\n",
      "nlms MSE = 0.678136.\n",
      "nlms pre-convergence training iteration #1\n",
      "nlms MSE = 0.640539.\n",
      "nlms pre-convergence training iteration #2\n",
      "nlms MSE = 0.633716.\n",
      "nlms pre-convergence training iteration #3\n",
      "nlms MSE = 0.629662.\n",
      "nlms pre-convergence training iteration #4\n",
      "nlms MSE = 0.627177.\n",
      "\n",
      "\n",
      "dd-lms - training stage #1\n",
      "dd-lms MSE = 0.067234.\n",
      "Results:\n",
      "\n",
      "SER: 9.36e-01\n",
      "BER: 4.96e-01\n",
      "SNR: 0.00 dB\n",
      "MI: -0.33 bits\n",
      "GMI: 0.00 bits\n",
      "channel 0\t fc : 193.1000 THz\n",
      "  mode #0\t power: 0.00 dBm\n",
      "channel 0\t power: -0.00 dBm\n",
      "\n",
      "total WDM signal power: -0.00 dBm\n",
      "CSPR = 9.00 dB\n",
      "\n",
      "\n",
      "nlms - training stage #0\n"
     ]
    },
    {
     "data": {
      "application/vnd.jupyter.widget-view+json": {
       "model_id": "6c30a3ad8f1f4203a39edc38205fca31",
       "version_major": 2,
       "version_minor": 0
      },
      "text/plain": [
       "  0%|          | 0/5 [00:00<?, ?it/s]"
      ]
     },
     "metadata": {},
     "output_type": "display_data"
    },
    {
     "name": "stdout",
     "output_type": "stream",
     "text": [
      "nlms pre-convergence training iteration #0\n",
      "nlms MSE = 0.679857.\n",
      "nlms pre-convergence training iteration #1\n",
      "nlms MSE = 0.639644.\n",
      "nlms pre-convergence training iteration #2\n",
      "nlms MSE = 0.631361.\n",
      "nlms pre-convergence training iteration #3\n",
      "nlms MSE = 0.626466.\n",
      "nlms pre-convergence training iteration #4\n",
      "nlms MSE = 0.623522.\n",
      "\n",
      "\n",
      "dd-lms - training stage #1\n",
      "dd-lms MSE = 0.067002.\n",
      "Results:\n",
      "\n",
      "SER: 9.35e-01\n",
      "BER: 4.96e-01\n",
      "SNR: 0.00 dB\n",
      "MI: -0.31 bits\n",
      "GMI: 0.00 bits\n",
      "channel 0\t fc : 193.1000 THz\n",
      "  mode #0\t power: 0.00 dBm\n",
      "channel 0\t power: -0.00 dBm\n",
      "\n",
      "total WDM signal power: -0.00 dBm\n",
      "CSPR = 9.00 dB\n",
      "\n",
      "\n",
      "nlms - training stage #0\n"
     ]
    },
    {
     "data": {
      "application/vnd.jupyter.widget-view+json": {
       "model_id": "969c61eb924c476b8510c65a7b844055",
       "version_major": 2,
       "version_minor": 0
      },
      "text/plain": [
       "  0%|          | 0/5 [00:00<?, ?it/s]"
      ]
     },
     "metadata": {},
     "output_type": "display_data"
    },
    {
     "name": "stdout",
     "output_type": "stream",
     "text": [
      "nlms pre-convergence training iteration #0\n",
      "nlms MSE = 0.680837.\n",
      "nlms pre-convergence training iteration #1\n",
      "nlms MSE = 0.651243.\n",
      "nlms pre-convergence training iteration #2\n",
      "nlms MSE = 0.644974.\n",
      "nlms pre-convergence training iteration #3\n",
      "nlms MSE = 0.641161.\n",
      "nlms pre-convergence training iteration #4\n",
      "nlms MSE = 0.638810.\n",
      "\n",
      "\n",
      "dd-lms - training stage #1\n",
      "dd-lms MSE = 0.066723.\n",
      "Results:\n",
      "\n",
      "SER: 9.36e-01\n",
      "BER: 4.96e-01\n",
      "SNR: 0.00 dB\n",
      "MI: -0.32 bits\n",
      "GMI: 0.00 bits\n",
      "channel 0\t fc : 193.1000 THz\n",
      "  mode #0\t power: 0.00 dBm\n",
      "channel 0\t power: -0.00 dBm\n",
      "\n",
      "total WDM signal power: -0.00 dBm\n",
      "CSPR = 9.00 dB\n",
      "\n",
      "\n",
      "nlms - training stage #0\n"
     ]
    },
    {
     "data": {
      "application/vnd.jupyter.widget-view+json": {
       "model_id": "d3063f46dbc549d896f0169cf245028f",
       "version_major": 2,
       "version_minor": 0
      },
      "text/plain": [
       "  0%|          | 0/5 [00:00<?, ?it/s]"
      ]
     },
     "metadata": {},
     "output_type": "display_data"
    },
    {
     "name": "stdout",
     "output_type": "stream",
     "text": [
      "nlms pre-convergence training iteration #0\n",
      "nlms MSE = 0.686926.\n",
      "nlms pre-convergence training iteration #1\n",
      "nlms MSE = 0.649968.\n",
      "nlms pre-convergence training iteration #2\n",
      "nlms MSE = 0.642074.\n",
      "nlms pre-convergence training iteration #3\n",
      "nlms MSE = 0.637169.\n",
      "nlms pre-convergence training iteration #4\n",
      "nlms MSE = 0.634111.\n",
      "\n",
      "\n",
      "dd-lms - training stage #1\n",
      "dd-lms MSE = 0.066929.\n",
      "Results:\n",
      "\n",
      "SER: 9.37e-01\n",
      "BER: 4.97e-01\n",
      "SNR: 0.01 dB\n",
      "MI: -0.31 bits\n",
      "GMI: 0.00 bits\n",
      "channel 0\t fc : 193.1000 THz\n",
      "  mode #0\t power: 0.00 dBm\n",
      "channel 0\t power: 0.00 dBm\n",
      "\n",
      "total WDM signal power: 0.00 dBm\n",
      "CSPR = 9.00 dB\n",
      "\n",
      "\n",
      "nlms - training stage #0\n"
     ]
    },
    {
     "data": {
      "application/vnd.jupyter.widget-view+json": {
       "model_id": "c4fad1708ffe4c4e8581ef0eb5570f29",
       "version_major": 2,
       "version_minor": 0
      },
      "text/plain": [
       "  0%|          | 0/5 [00:00<?, ?it/s]"
      ]
     },
     "metadata": {},
     "output_type": "display_data"
    },
    {
     "name": "stdout",
     "output_type": "stream",
     "text": [
      "nlms pre-convergence training iteration #0\n",
      "nlms MSE = 0.670883.\n",
      "nlms pre-convergence training iteration #1\n",
      "nlms MSE = 0.639695.\n",
      "nlms pre-convergence training iteration #2\n",
      "nlms MSE = 0.633445.\n",
      "nlms pre-convergence training iteration #3\n",
      "nlms MSE = 0.629701.\n",
      "nlms pre-convergence training iteration #4\n",
      "nlms MSE = 0.627406.\n",
      "\n",
      "\n",
      "dd-lms - training stage #1\n",
      "dd-lms MSE = 0.066940.\n",
      "Results:\n",
      "\n",
      "SER: 9.34e-01\n",
      "BER: 4.95e-01\n",
      "SNR: 0.01 dB\n",
      "MI: -0.31 bits\n",
      "GMI: 0.00 bits\n",
      "channel 0\t fc : 193.1000 THz\n",
      "  mode #0\t power: 0.00 dBm\n",
      "channel 0\t power: -0.00 dBm\n",
      "\n",
      "total WDM signal power: -0.00 dBm\n",
      "CSPR = 9.00 dB\n",
      "\n",
      "\n",
      "nlms - training stage #0\n"
     ]
    },
    {
     "data": {
      "application/vnd.jupyter.widget-view+json": {
       "model_id": "577e3a5a73834d6bb441c0f6faefcb5d",
       "version_major": 2,
       "version_minor": 0
      },
      "text/plain": [
       "  0%|          | 0/5 [00:00<?, ?it/s]"
      ]
     },
     "metadata": {},
     "output_type": "display_data"
    },
    {
     "name": "stdout",
     "output_type": "stream",
     "text": [
      "nlms pre-convergence training iteration #0\n",
      "nlms MSE = 0.669220.\n",
      "nlms pre-convergence training iteration #1\n",
      "nlms MSE = 0.634503.\n",
      "nlms pre-convergence training iteration #2\n",
      "nlms MSE = 0.627051.\n",
      "nlms pre-convergence training iteration #3\n",
      "nlms MSE = 0.622660.\n",
      "nlms pre-convergence training iteration #4\n",
      "nlms MSE = 0.619994.\n",
      "\n",
      "\n",
      "dd-lms - training stage #1\n",
      "dd-lms MSE = 0.066893.\n",
      "Results:\n",
      "\n",
      "SER: 9.37e-01\n",
      "BER: 4.98e-01\n",
      "SNR: 0.00 dB\n",
      "MI: -0.33 bits\n",
      "GMI: 0.00 bits\n",
      "channel 0\t fc : 193.1000 THz\n",
      "  mode #0\t power: 0.00 dBm\n",
      "channel 0\t power: 0.00 dBm\n",
      "\n",
      "total WDM signal power: 0.00 dBm\n",
      "CSPR = 9.00 dB\n",
      "\n",
      "\n",
      "nlms - training stage #0\n"
     ]
    },
    {
     "data": {
      "application/vnd.jupyter.widget-view+json": {
       "model_id": "d2f61cc4d42349ffbc0ffa74b2bf810e",
       "version_major": 2,
       "version_minor": 0
      },
      "text/plain": [
       "  0%|          | 0/5 [00:00<?, ?it/s]"
      ]
     },
     "metadata": {},
     "output_type": "display_data"
    },
    {
     "name": "stdout",
     "output_type": "stream",
     "text": [
      "nlms pre-convergence training iteration #0\n",
      "nlms MSE = 0.677261.\n",
      "nlms pre-convergence training iteration #1\n",
      "nlms MSE = 0.638754.\n",
      "nlms pre-convergence training iteration #2\n",
      "nlms MSE = 0.630980.\n",
      "nlms pre-convergence training iteration #3\n",
      "nlms MSE = 0.626308.\n",
      "nlms pre-convergence training iteration #4\n",
      "nlms MSE = 0.623481.\n",
      "\n",
      "\n",
      "dd-lms - training stage #1\n",
      "dd-lms MSE = 0.067024.\n",
      "Results:\n",
      "\n",
      "SER: 9.35e-01\n",
      "BER: 4.95e-01\n",
      "SNR: 0.01 dB\n",
      "MI: -0.30 bits\n",
      "GMI: 0.00 bits\n",
      "channel 0\t fc : 193.1000 THz\n",
      "  mode #0\t power: 0.00 dBm\n",
      "channel 0\t power: 0.00 dBm\n",
      "\n",
      "total WDM signal power: 0.00 dBm\n",
      "CSPR = 9.00 dB\n",
      "\n",
      "\n",
      "nlms - training stage #0\n"
     ]
    },
    {
     "data": {
      "application/vnd.jupyter.widget-view+json": {
       "model_id": "85239e2cd3694a30a5ca61c6f12b07f2",
       "version_major": 2,
       "version_minor": 0
      },
      "text/plain": [
       "  0%|          | 0/5 [00:00<?, ?it/s]"
      ]
     },
     "metadata": {},
     "output_type": "display_data"
    },
    {
     "name": "stdout",
     "output_type": "stream",
     "text": [
      "nlms pre-convergence training iteration #0\n",
      "nlms MSE = 0.686198.\n",
      "nlms pre-convergence training iteration #1\n",
      "nlms MSE = 0.645959.\n",
      "nlms pre-convergence training iteration #2\n",
      "nlms MSE = 0.637049.\n",
      "nlms pre-convergence training iteration #3\n",
      "nlms MSE = 0.631683.\n",
      "nlms pre-convergence training iteration #4\n",
      "nlms MSE = 0.628412.\n",
      "\n",
      "\n",
      "dd-lms - training stage #1\n",
      "dd-lms MSE = 0.066818.\n",
      "Results:\n",
      "\n",
      "SER: 9.38e-01\n",
      "BER: 4.98e-01\n",
      "SNR: 0.00 dB\n",
      "MI: -0.33 bits\n",
      "GMI: 0.00 bits\n",
      "channel 0\t fc : 193.1000 THz\n",
      "  mode #0\t power: 0.00 dBm\n",
      "channel 0\t power: 0.00 dBm\n",
      "\n",
      "total WDM signal power: 0.00 dBm\n",
      "CSPR = 9.00 dB\n",
      "\n",
      "\n",
      "nlms - training stage #0\n"
     ]
    },
    {
     "data": {
      "application/vnd.jupyter.widget-view+json": {
       "model_id": "ac3b457f044c4fdba722bd1b173b6c27",
       "version_major": 2,
       "version_minor": 0
      },
      "text/plain": [
       "  0%|          | 0/5 [00:00<?, ?it/s]"
      ]
     },
     "metadata": {},
     "output_type": "display_data"
    },
    {
     "name": "stdout",
     "output_type": "stream",
     "text": [
      "nlms pre-convergence training iteration #0\n",
      "nlms MSE = 0.681356.\n",
      "nlms pre-convergence training iteration #1\n",
      "nlms MSE = 0.646597.\n",
      "nlms pre-convergence training iteration #2\n",
      "nlms MSE = 0.638839.\n",
      "nlms pre-convergence training iteration #3\n",
      "nlms MSE = 0.634117.\n",
      "nlms pre-convergence training iteration #4\n",
      "nlms MSE = 0.631232.\n",
      "\n",
      "\n",
      "dd-lms - training stage #1\n",
      "dd-lms MSE = 0.067062.\n",
      "Results:\n",
      "\n",
      "SER: 9.36e-01\n",
      "BER: 4.97e-01\n",
      "SNR: 0.00 dB\n",
      "MI: -0.33 bits\n",
      "GMI: 0.00 bits\n",
      "channel 0\t fc : 193.1000 THz\n",
      "  mode #0\t power: 0.00 dBm\n",
      "channel 0\t power: 0.00 dBm\n",
      "\n",
      "total WDM signal power: 0.00 dBm\n",
      "CSPR = 9.00 dB\n",
      "\n",
      "\n",
      "nlms - training stage #0\n"
     ]
    },
    {
     "data": {
      "application/vnd.jupyter.widget-view+json": {
       "model_id": "3810f0de2d3c46a7bcd50f67da302817",
       "version_major": 2,
       "version_minor": 0
      },
      "text/plain": [
       "  0%|          | 0/5 [00:00<?, ?it/s]"
      ]
     },
     "metadata": {},
     "output_type": "display_data"
    },
    {
     "name": "stdout",
     "output_type": "stream",
     "text": [
      "nlms pre-convergence training iteration #0\n",
      "nlms MSE = 0.669893.\n",
      "nlms pre-convergence training iteration #1\n",
      "nlms MSE = 0.636095.\n",
      "nlms pre-convergence training iteration #2\n",
      "nlms MSE = 0.629087.\n",
      "nlms pre-convergence training iteration #3\n",
      "nlms MSE = 0.624937.\n",
      "nlms pre-convergence training iteration #4\n",
      "nlms MSE = 0.622417.\n",
      "\n",
      "\n",
      "dd-lms - training stage #1\n",
      "dd-lms MSE = 0.066908.\n",
      "Results:\n",
      "\n",
      "SER: 9.37e-01\n",
      "BER: 4.97e-01\n",
      "SNR: 0.00 dB\n",
      "MI: -0.32 bits\n",
      "GMI: 0.00 bits\n",
      "channel 0\t fc : 193.1000 THz\n",
      "  mode #0\t power: 0.00 dBm\n",
      "channel 0\t power: -0.00 dBm\n",
      "\n",
      "total WDM signal power: -0.00 dBm\n",
      "CSPR = 9.00 dB\n",
      "\n",
      "\n",
      "nlms - training stage #0\n"
     ]
    },
    {
     "data": {
      "application/vnd.jupyter.widget-view+json": {
       "model_id": "4aa7ac85f00e4665b3cc69069df5dca1",
       "version_major": 2,
       "version_minor": 0
      },
      "text/plain": [
       "  0%|          | 0/5 [00:00<?, ?it/s]"
      ]
     },
     "metadata": {},
     "output_type": "display_data"
    },
    {
     "name": "stdout",
     "output_type": "stream",
     "text": [
      "nlms pre-convergence training iteration #0\n",
      "nlms MSE = 0.663150.\n",
      "nlms pre-convergence training iteration #1\n",
      "nlms MSE = 0.627749.\n",
      "nlms pre-convergence training iteration #2\n",
      "nlms MSE = 0.620314.\n",
      "nlms pre-convergence training iteration #3\n",
      "nlms MSE = 0.615999.\n",
      "nlms pre-convergence training iteration #4\n",
      "nlms MSE = 0.613465.\n",
      "\n",
      "\n",
      "dd-lms - training stage #1\n",
      "dd-lms MSE = 0.066973.\n",
      "Results:\n",
      "\n",
      "SER: 9.36e-01\n",
      "BER: 4.96e-01\n",
      "SNR: 0.00 dB\n",
      "MI: -0.32 bits\n",
      "GMI: 0.00 bits\n",
      "channel 0\t fc : 193.1000 THz\n",
      "  mode #0\t power: 0.00 dBm\n",
      "channel 0\t power: 0.00 dBm\n",
      "\n",
      "total WDM signal power: 0.00 dBm\n",
      "CSPR = 9.00 dB\n",
      "\n",
      "\n",
      "nlms - training stage #0\n"
     ]
    },
    {
     "data": {
      "application/vnd.jupyter.widget-view+json": {
       "model_id": "5c76a79859e4411ca5d69d75f83db810",
       "version_major": 2,
       "version_minor": 0
      },
      "text/plain": [
       "  0%|          | 0/5 [00:00<?, ?it/s]"
      ]
     },
     "metadata": {},
     "output_type": "display_data"
    },
    {
     "name": "stdout",
     "output_type": "stream",
     "text": [
      "nlms pre-convergence training iteration #0\n",
      "nlms MSE = 0.671726.\n",
      "nlms pre-convergence training iteration #1\n",
      "nlms MSE = 0.636239.\n",
      "nlms pre-convergence training iteration #2\n",
      "nlms MSE = 0.628912.\n",
      "nlms pre-convergence training iteration #3\n",
      "nlms MSE = 0.624498.\n",
      "nlms pre-convergence training iteration #4\n",
      "nlms MSE = 0.621781.\n",
      "\n",
      "\n",
      "dd-lms - training stage #1\n",
      "dd-lms MSE = 0.066880.\n",
      "Results:\n",
      "\n",
      "SER: 9.37e-01\n",
      "BER: 4.99e-01\n",
      "SNR: 0.00 dB\n",
      "MI: -0.34 bits\n",
      "GMI: 0.00 bits\n",
      "channel 0\t fc : 193.1000 THz\n",
      "  mode #0\t power: 0.00 dBm\n",
      "channel 0\t power: 0.00 dBm\n",
      "\n",
      "total WDM signal power: 0.00 dBm\n",
      "CSPR = 9.00 dB\n",
      "\n",
      "\n",
      "nlms - training stage #0\n"
     ]
    },
    {
     "data": {
      "application/vnd.jupyter.widget-view+json": {
       "model_id": "97f85a71a93e4221a475e94e1baea698",
       "version_major": 2,
       "version_minor": 0
      },
      "text/plain": [
       "  0%|          | 0/5 [00:00<?, ?it/s]"
      ]
     },
     "metadata": {},
     "output_type": "display_data"
    },
    {
     "name": "stdout",
     "output_type": "stream",
     "text": [
      "nlms pre-convergence training iteration #0\n",
      "nlms MSE = 0.678646.\n",
      "nlms pre-convergence training iteration #1\n",
      "nlms MSE = 0.648366.\n",
      "nlms pre-convergence training iteration #2\n",
      "nlms MSE = 0.641168.\n",
      "nlms pre-convergence training iteration #3\n",
      "nlms MSE = 0.636624.\n",
      "nlms pre-convergence training iteration #4\n",
      "nlms MSE = 0.633766.\n",
      "\n",
      "\n",
      "dd-lms - training stage #1\n",
      "dd-lms MSE = 0.067067.\n",
      "Results:\n",
      "\n",
      "SER: 9.37e-01\n",
      "BER: 4.99e-01\n",
      "SNR: 0.00 dB\n",
      "MI: -0.34 bits\n",
      "GMI: 0.00 bits\n",
      "channel 0\t fc : 193.1000 THz\n",
      "  mode #0\t power: 0.00 dBm\n",
      "channel 0\t power: -0.00 dBm\n",
      "\n",
      "total WDM signal power: -0.00 dBm\n",
      "CSPR = 9.00 dB\n",
      "\n",
      "\n",
      "nlms - training stage #0\n"
     ]
    },
    {
     "data": {
      "application/vnd.jupyter.widget-view+json": {
       "model_id": "2724e4069a924f36852d786966342b4f",
       "version_major": 2,
       "version_minor": 0
      },
      "text/plain": [
       "  0%|          | 0/5 [00:00<?, ?it/s]"
      ]
     },
     "metadata": {},
     "output_type": "display_data"
    },
    {
     "name": "stdout",
     "output_type": "stream",
     "text": [
      "nlms pre-convergence training iteration #0\n",
      "nlms MSE = 0.671767.\n",
      "nlms pre-convergence training iteration #1\n",
      "nlms MSE = 0.635379.\n",
      "nlms pre-convergence training iteration #2\n",
      "nlms MSE = 0.627623.\n",
      "nlms pre-convergence training iteration #3\n",
      "nlms MSE = 0.623020.\n",
      "nlms pre-convergence training iteration #4\n",
      "nlms MSE = 0.620242.\n",
      "\n",
      "\n",
      "dd-lms - training stage #1\n",
      "dd-lms MSE = 0.066903.\n",
      "Results:\n",
      "\n",
      "SER: 9.38e-01\n",
      "BER: 5.01e-01\n",
      "SNR: 0.00 dB\n",
      "MI: -0.34 bits\n",
      "GMI: 0.00 bits\n",
      "channel 0\t fc : 193.1000 THz\n",
      "  mode #0\t power: 0.00 dBm\n",
      "channel 0\t power: -0.00 dBm\n",
      "\n",
      "total WDM signal power: -0.00 dBm\n",
      "CSPR = 9.00 dB\n",
      "\n",
      "\n",
      "nlms - training stage #0\n"
     ]
    },
    {
     "data": {
      "application/vnd.jupyter.widget-view+json": {
       "model_id": "85a73e133970449bba77478662e69c3b",
       "version_major": 2,
       "version_minor": 0
      },
      "text/plain": [
       "  0%|          | 0/5 [00:00<?, ?it/s]"
      ]
     },
     "metadata": {},
     "output_type": "display_data"
    },
    {
     "name": "stdout",
     "output_type": "stream",
     "text": [
      "nlms pre-convergence training iteration #0\n",
      "nlms MSE = 0.673122.\n",
      "nlms pre-convergence training iteration #1\n",
      "nlms MSE = 0.638785.\n",
      "nlms pre-convergence training iteration #2\n",
      "nlms MSE = 0.632039.\n",
      "nlms pre-convergence training iteration #3\n",
      "nlms MSE = 0.628073.\n",
      "nlms pre-convergence training iteration #4\n",
      "nlms MSE = 0.625681.\n",
      "\n",
      "\n",
      "dd-lms - training stage #1\n",
      "dd-lms MSE = 0.066792.\n",
      "Results:\n",
      "\n",
      "SER: 9.34e-01\n",
      "BER: 4.95e-01\n",
      "SNR: 0.01 dB\n",
      "MI: -0.29 bits\n",
      "GMI: 0.00 bits\n",
      "channel 0\t fc : 193.1000 THz\n",
      "  mode #0\t power: 0.00 dBm\n",
      "channel 0\t power: 0.00 dBm\n",
      "\n",
      "total WDM signal power: 0.00 dBm\n",
      "CSPR = 9.00 dB\n",
      "\n",
      "\n",
      "nlms - training stage #0\n"
     ]
    },
    {
     "data": {
      "application/vnd.jupyter.widget-view+json": {
       "model_id": "5228ff531c7f45e3be8fb696f0b85bd0",
       "version_major": 2,
       "version_minor": 0
      },
      "text/plain": [
       "  0%|          | 0/5 [00:00<?, ?it/s]"
      ]
     },
     "metadata": {},
     "output_type": "display_data"
    },
    {
     "name": "stdout",
     "output_type": "stream",
     "text": [
      "nlms pre-convergence training iteration #0\n",
      "nlms MSE = 0.672779.\n",
      "nlms pre-convergence training iteration #1\n",
      "nlms MSE = 0.635045.\n",
      "nlms pre-convergence training iteration #2\n",
      "nlms MSE = 0.627518.\n",
      "nlms pre-convergence training iteration #3\n",
      "nlms MSE = 0.623131.\n",
      "nlms pre-convergence training iteration #4\n",
      "nlms MSE = 0.620531.\n",
      "\n",
      "\n",
      "dd-lms - training stage #1\n",
      "dd-lms MSE = 0.067013.\n",
      "Results:\n",
      "\n",
      "SER: 9.37e-01\n",
      "BER: 4.99e-01\n",
      "SNR: -0.00 dB\n",
      "MI: -0.34 bits\n",
      "GMI: 0.00 bits\n",
      "channel 0\t fc : 193.1000 THz\n",
      "  mode #0\t power: 0.00 dBm\n",
      "channel 0\t power: 0.00 dBm\n",
      "\n",
      "total WDM signal power: 0.00 dBm\n",
      "CSPR = 9.00 dB\n",
      "\n",
      "\n",
      "nlms - training stage #0\n"
     ]
    },
    {
     "data": {
      "application/vnd.jupyter.widget-view+json": {
       "model_id": "54e3cfa43ed14227815b9420cb7a7935",
       "version_major": 2,
       "version_minor": 0
      },
      "text/plain": [
       "  0%|          | 0/5 [00:00<?, ?it/s]"
      ]
     },
     "metadata": {},
     "output_type": "display_data"
    },
    {
     "name": "stdout",
     "output_type": "stream",
     "text": [
      "nlms pre-convergence training iteration #0\n",
      "nlms MSE = 0.681027.\n",
      "nlms pre-convergence training iteration #1\n",
      "nlms MSE = 0.641681.\n",
      "nlms pre-convergence training iteration #2\n",
      "nlms MSE = 0.634137.\n",
      "nlms pre-convergence training iteration #3\n",
      "nlms MSE = 0.629633.\n",
      "nlms pre-convergence training iteration #4\n",
      "nlms MSE = 0.626914.\n",
      "\n",
      "\n",
      "dd-lms - training stage #1\n",
      "dd-lms MSE = 0.066797.\n",
      "Results:\n",
      "\n",
      "SER: 9.36e-01\n",
      "BER: 4.98e-01\n",
      "SNR: 0.00 dB\n",
      "MI: -0.33 bits\n",
      "GMI: 0.00 bits\n",
      "channel 0\t fc : 193.1000 THz\n",
      "  mode #0\t power: 0.00 dBm\n",
      "channel 0\t power: -0.00 dBm\n",
      "\n",
      "total WDM signal power: -0.00 dBm\n",
      "CSPR = 9.00 dB\n",
      "\n",
      "\n",
      "nlms - training stage #0\n"
     ]
    },
    {
     "data": {
      "application/vnd.jupyter.widget-view+json": {
       "model_id": "6cdee39155a04f8f89b4c814772a507e",
       "version_major": 2,
       "version_minor": 0
      },
      "text/plain": [
       "  0%|          | 0/5 [00:00<?, ?it/s]"
      ]
     },
     "metadata": {},
     "output_type": "display_data"
    },
    {
     "name": "stdout",
     "output_type": "stream",
     "text": [
      "nlms pre-convergence training iteration #0\n",
      "nlms MSE = 0.680656.\n",
      "nlms pre-convergence training iteration #1\n",
      "nlms MSE = 0.643799.\n",
      "nlms pre-convergence training iteration #2\n",
      "nlms MSE = 0.636006.\n",
      "nlms pre-convergence training iteration #3\n",
      "nlms MSE = 0.631308.\n",
      "nlms pre-convergence training iteration #4\n",
      "nlms MSE = 0.628421.\n",
      "\n",
      "\n",
      "dd-lms - training stage #1\n",
      "dd-lms MSE = 0.067119.\n",
      "Results:\n",
      "\n",
      "SER: 9.37e-01\n",
      "BER: 4.98e-01\n",
      "SNR: 0.00 dB\n",
      "MI: -0.33 bits\n",
      "GMI: 0.00 bits\n",
      "channel 0\t fc : 193.1000 THz\n",
      "  mode #0\t power: 0.00 dBm\n",
      "channel 0\t power: -0.00 dBm\n",
      "\n",
      "total WDM signal power: -0.00 dBm\n",
      "CSPR = 9.00 dB\n",
      "\n",
      "\n",
      "nlms - training stage #0\n"
     ]
    },
    {
     "data": {
      "application/vnd.jupyter.widget-view+json": {
       "model_id": "41876d2ce1324e7797230eee3591515d",
       "version_major": 2,
       "version_minor": 0
      },
      "text/plain": [
       "  0%|          | 0/5 [00:00<?, ?it/s]"
      ]
     },
     "metadata": {},
     "output_type": "display_data"
    },
    {
     "name": "stdout",
     "output_type": "stream",
     "text": [
      "nlms pre-convergence training iteration #0\n",
      "nlms MSE = 0.667011.\n",
      "nlms pre-convergence training iteration #1\n",
      "nlms MSE = 0.627736.\n",
      "nlms pre-convergence training iteration #2\n",
      "nlms MSE = 0.619510.\n",
      "nlms pre-convergence training iteration #3\n",
      "nlms MSE = 0.614798.\n",
      "nlms pre-convergence training iteration #4\n",
      "nlms MSE = 0.612069.\n",
      "\n",
      "\n",
      "dd-lms - training stage #1\n",
      "dd-lms MSE = 0.066902.\n",
      "Results:\n",
      "\n",
      "SER: 9.37e-01\n",
      "BER: 4.99e-01\n",
      "SNR: -0.00 dB\n",
      "MI: -0.34 bits\n",
      "GMI: 0.00 bits\n"
     ]
    }
   ],
   "source": [
    "BER_KK = np.zeros(FO.size)\n",
    "SER_KK = np.zeros(FO.size)\n",
    "GMI_KK = np.zeros(FO.size)\n",
    "MI_KK  = np.zeros(FO.size)\n",
    "SNR_KK = np.zeros(FO.size)\n",
    "\n",
    "for indFO, FO_ in enumerate(FO):\n",
    "\n",
    "    # generate optical signal signal\n",
    "    sigTx, symbTx_, paramTx = simpleWDMTx(paramTx)\n",
    "\n",
    "    # simulate linear signal propagation\n",
    "    sigCh = linFiberCh(sigTx, Ltotal, alpha, D, Fc, Fs)\n",
    "\n",
    "    # receiver detection and demodulation\n",
    "\n",
    "    Fc = paramTx.Fc\n",
    "    Ts = 1 / Fs\n",
    "    mod = QAMModem(m=paramTx.M)\n",
    "\n",
    "    freqGrid = paramTx.freqGrid\n",
    "\n",
    "    symbTx = symbTx_[:, :, chIndex]\n",
    "\n",
    "    #Plo_dBm = CSPR_\n",
    "    Plo = 10 ** (Plo_dBm / 10) * 1e-3  # power in W\n",
    "\n",
    "#     print(\n",
    "#         \"Local oscillator P: %.2f dBm, lw: %.2f kHz, FO: %.2f MHz\"\n",
    "#         % (Plo_dBm, lw / 1e3, FO / 1e6)\n",
    "#     )\n",
    "\n",
    "    # generate LO field\n",
    "    π = np.pi\n",
    "    t = np.arange(0, len(sigCh))*Ts\n",
    "    ϕ_pn_lo = phaseNoise(lw, len(sigCh), Ts)\n",
    "\n",
    "    sigLO = np.sqrt(Plo) * np.exp(-1j * (2 * π * FO_ * t + ϕ_lo + ϕ_pn_lo))\n",
    "\n",
    "    # Add LO to the received signal\n",
    "    sigRx = np.sqrt(Plo) + sigCh * np.exp(1j * (2 * π * FO_ * t + ϕ_lo + ϕ_pn_lo))\n",
    "    sfm = sigRx.copy()\n",
    "\n",
    "    print('CSPR = %.2f dB' % (10*np.log10(signal_power(sigLO)/signal_power(sigCh))))\n",
    "\n",
    "    ### Phase-retrieval stage\n",
    "\n",
    "    # simulate ideal direct-detection optical receiver\n",
    "    Amp = np.abs(sigRx)\n",
    "\n",
    "    # Kramers-Kronig phase-retrieval\n",
    "    phiTime = KramersKronigRx(Amp, Fs)\n",
    "\n",
    "    # optical field reconstruction\n",
    "    sigRx = Amp*np.exp(1j*phiTime)\n",
    "\n",
    "    # remove DC level\n",
    "    sigRx -= np.sqrt(Plo)  # np.mean(sigRx)\n",
    "\n",
    "    # downshift to baseband\n",
    "    sigRx *= np.exp(-1j * (2 * π * FO_ * t))\n",
    "\n",
    "    #### Standard receiver processing\n",
    "\n",
    "    # Matched filtering and CD compensation\n",
    "\n",
    "    # Matched filtering\n",
    "    if paramTx.pulse == \"nrz\":\n",
    "        pulse = pulseShape(\"nrz\", paramTx.SpS)\n",
    "    elif paramTx.pulse == \"rrc\":\n",
    "        pulse = pulseShape(\n",
    "            \"rrc\", paramTx.SpS, N=paramTx.Ntaps, alpha=paramTx.alphaRRC, Ts=1 / paramTx.Rs\n",
    "        )\n",
    "\n",
    "    pulse = pulse / np.max(np.abs(pulse))\n",
    "    sigRx = firFilter(pulse, sigRx)\n",
    "\n",
    "#     # plot constellations after matched filtering\n",
    "#     pconst(sigRx[0::paramTx.SpS], lim=True, R=3)\n",
    "\n",
    "    # CD compensation\n",
    "    sigRx = edc(sigRx, Ltotal, D, Fc, Fs)\n",
    "\n",
    "#     #plot constellations after CD compensation\n",
    "#     pconst(sigRx[0::paramTx.SpS], lim=True, R=2)\n",
    "\n",
    "    # Downsampling to 2 sps and re-synchronization with transmitted sequences\n",
    "    sigRx = sigRx.reshape(-1, 1)\n",
    "\n",
    "    # decimation\n",
    "    paramDec = parameters()\n",
    "    paramDec.SpS_in = paramTx.SpS\n",
    "    paramDec.SpS_out = 2\n",
    "    sigRx = decimate(sigRx, paramDec)\n",
    "\n",
    "    symbRx = symbolSync(sigRx, symbTx, 2)\n",
    "\n",
    "    # Power normalization\n",
    "    x = sigRx\n",
    "    d = symbRx\n",
    "\n",
    "    x = x.reshape(len(x), 1) / np.sqrt(signal_power(x))\n",
    "    d = d.reshape(len(d), 1) / np.sqrt(signal_power(d))\n",
    "\n",
    "    # Adaptive equalization\n",
    "    mod = QAMModem(m=paramTx.M)\n",
    "\n",
    "    paramEq = parameters()\n",
    "    paramEq.nTaps = 7\n",
    "    paramEq.SpS = 2\n",
    "    paramEq.mu = [5e-3, 5e-3]\n",
    "    paramEq.numIter = 5\n",
    "    paramEq.storeCoeff = False\n",
    "    paramEq.alg = [\"nlms\", \"dd-lms\"]\n",
    "    paramEq.M = paramTx.M\n",
    "    paramEq.L = [20000, 80000]\n",
    "\n",
    "    y_EQ, H, errSq, Hiter = mimoAdaptEqualizer(x, dx=d, paramEq=paramEq)\n",
    "\n",
    "   # y_EQ = x[0::paramTx.SpS]\n",
    "    discard = int(paramEq.L[0]/2)\n",
    "\n",
    "#     #plot constellations after adaptive equalization\n",
    "#     pconst(y_EQ[discard:-discard,:], lim=True)\n",
    "\n",
    "    # Carrier phase recovery\n",
    "    paramCPR = parameters()\n",
    "    paramCPR.alg = \"bps\"\n",
    "    paramCPR.M = paramTx.M\n",
    "    paramCPR.N = 35\n",
    "    paramCPR.B = 64\n",
    "    paramCPR.pilotInd = np.arange(0, len(y_EQ), 20)\n",
    "\n",
    "    y_CPR, θ = cpr(y_EQ, symbTx=d, paramCPR=paramCPR)\n",
    "\n",
    "    y_CPR = y_CPR / np.sqrt(signal_power(y_CPR))\n",
    "\n",
    "#     plt.figure()\n",
    "#     plt.title(\"CPR estimated phase\")\n",
    "#     plt.plot(θ, \"-\")\n",
    "#     plt.xlim(0, len(θ))\n",
    "#     plt.grid()\n",
    "\n",
    "    discard = 5000\n",
    "\n",
    "#     # plot constellations after CPR\n",
    "#     pconst(y_CPR[discard:-discard, :], lim=True)\n",
    "\n",
    "    #### Evaluate transmission metrics\n",
    "\n",
    "    # correct for (possible) phase ambiguity\n",
    "    for k in range(y_CPR.shape[1]):\n",
    "        rot = np.mean(d[:, k] / y_CPR[:, k])\n",
    "        y_CPR[:, k] = rot * y_CPR[:, k]\n",
    "\n",
    "    y_CPR = y_CPR / np.sqrt(signal_power(y_CPR))\n",
    "\n",
    "    ind = np.arange(discard, d.shape[0] - discard)\n",
    "    BER_KK[indFO], SER_KK[indFO], SNR_KK[indFO] = fastBERcalc(y_CPR[ind, :], d[ind, :], mod)\n",
    "    GMI_KK[indFO], _ = monteCarloGMI(y_CPR[ind, :], d[ind, :], mod)\n",
    "    MI_KK[indFO] = monteCarloMI(y_CPR[ind, :], d[ind, :], mod)\n",
    "\n",
    "    print(\"Results:\\n\")\n",
    "    print(\"SER: %.2e\" % (SER_KK[indFO]))\n",
    "    print(\"BER: %.2e\" % (BER_KK[indFO]))\n",
    "    print(\"SNR: %.2f dB\" % (SNR_KK[indFO]))\n",
    "    print(\"MI: %.2f bits\" % (MI_KK[indFO]))\n",
    "    print(\"GMI: %.2f bits\" % (GMI_KK[indFO]))"
   ]
  },
  {
   "cell_type": "code",
   "execution_count": 52,
   "id": "436db181",
   "metadata": {},
   "outputs": [
    {
     "data": {
      "image/png": "[encoded data removed]",
      "text/plain": [
       "<Figure size 648x288 with 1 Axes>"
      ]
     },
     "metadata": {
      "needs_background": "light"
     },
     "output_type": "display_data"
    }
   ],
   "source": [
    "plt.figure(figsize=(9, 4))\n",
    "plt.plot(FO, np.log10(BER_KK), '-o')\n",
    "plt.xlabel('FO (frequency offset)')\n",
    "plt.ylabel('log10(BER)')\n",
    "plt.grid()"
   ]
  },
  {
   "cell_type": "markdown",
   "id": "1605eea1",
   "metadata": {},
   "source": [
    "## Simulation of a single polarization optical signal transmission"
   ]
  },
  {
   "cell_type": "code",
   "execution_count": 30,
   "id": "80760c6a",
   "metadata": {},
   "outputs": [],
   "source": [
    "# Transmitter parameters:\n",
    "paramTx = parameters()\n",
    "paramTx.M = 16                 # order of the modulation format\n",
    "paramTx.Rs = 32e9              # symbol rate [baud]\n",
    "paramTx.SpS = 2                # samples per symbol\n",
    "paramTx.Nbits = 400000         # total number of bits per polarization\n",
    "paramTx.pulse = \"rrc\"          # pulse shaping filter\n",
    "paramTx.Ntaps = 1024           # number of pulse shaping filter coefficients\n",
    "paramTx.alphaRRC = 0.01        # RRC rolloff\n",
    "paramTx.Pch_dBm = 0            # power of the optical signal [dBm]\n",
    "paramTx.Nch = 1                # number of WDM channels\n",
    "paramTx.Fc = 193.1e12          # central frequency of the optical spectrum\n",
    "paramTx.freqSpac = 37.5e9      # WDM grid spacing\n",
    "\n",
    "# Optical channel parameters:\n",
    "Ltotal = 50      # total link distance [km]\n",
    "alpha = 0        # fiber loss parameter [dB/km]\n",
    "D = 16          # fiber dispersion parameter [ps/nm/km]\n",
    "Fc = paramTx.Fc  # central optical frequency of the WDM spectrum [Hz]\n",
    "\n",
    "# Receiver parameters:\n",
    "\n",
    "# local oscillator (LO)\n",
    "FO = paramTx.Rs/2  # frequency offset\n",
    "lw = 100e3         # linewidth\n",
    "ϕ_lo = 0           # initial phase in rad\n",
    "Plo_dBm = 9        # power in dBm\n",
    "\n",
    "# General simulation parameters\n",
    "chIndex = 0  # index of the channel to be demodulated\n",
    "plotPSD = True\n",
    "Fs = paramTx.Rs * paramTx.SpS  # simulation sampling rate\n"
   ]
  },
  {
   "cell_type": "markdown",
   "id": "575ffc38",
   "metadata": {},
   "source": [
    "## BER vs Rolloff with NN algorithm"
   ]
  },
  {
   "cell_type": "code",
   "execution_count": 31,
   "id": "cfc3e647",
   "metadata": {},
   "outputs": [
    {
     "name": "stdout",
     "output_type": "stream",
     "text": [
      "channel 0\t fc : 193.1000 THz\n",
      "  mode #0\t power: 0.00 dBm\n",
      "channel 0\t power: -0.00 dBm\n",
      "\n",
      "total WDM signal power: -0.00 dBm\n",
      "CSPR = 9.00 dB\n",
      "\n",
      "\n",
      "nlms - training stage #0\n"
     ]
    },
    {
     "data": {
      "application/vnd.jupyter.widget-view+json": {
       "model_id": "0f8d133d2533442fbd00c68d1d3c0069",
       "version_major": 2,
       "version_minor": 0
      },
      "text/plain": [
       "  0%|          | 0/5 [00:00<?, ?it/s]"
      ]
     },
     "metadata": {},
     "output_type": "display_data"
    },
    {
     "name": "stdout",
     "output_type": "stream",
     "text": [
      "nlms pre-convergence training iteration #0\n",
      "nlms MSE = 0.012806.\n",
      "nlms pre-convergence training iteration #1\n",
      "nlms MSE = 0.012745.\n",
      "nlms pre-convergence training iteration #2\n",
      "nlms MSE = 0.012748.\n",
      "nlms pre-convergence training iteration #3\n",
      "nlms MSE = 0.012749.\n",
      "nlms pre-convergence training iteration #4\n",
      "nlms MSE = 0.012749.\n",
      "\n",
      "\n",
      "dd-lms - training stage #1\n",
      "dd-lms MSE = 0.007564.\n",
      "Results:\n",
      "\n",
      "SER: 4.11e-04\n",
      "BER: 1.08e-04\n",
      "SNR: 21.98 dB\n",
      "MI: 4.00 bits\n",
      "GMI: 3.99 bits\n",
      "channel 0\t fc : 193.1000 THz\n",
      "  mode #0\t power: 0.00 dBm\n",
      "channel 0\t power: 0.00 dBm\n",
      "\n",
      "total WDM signal power: 0.00 dBm\n",
      "CSPR = 9.00 dB\n",
      "\n",
      "\n",
      "nlms - training stage #0\n"
     ]
    },
    {
     "data": {
      "application/vnd.jupyter.widget-view+json": {
       "model_id": "92dccfa45b674ba288adc54c90565dbb",
       "version_major": 2,
       "version_minor": 0
      },
      "text/plain": [
       "  0%|          | 0/5 [00:00<?, ?it/s]"
      ]
     },
     "metadata": {},
     "output_type": "display_data"
    },
    {
     "name": "stdout",
     "output_type": "stream",
     "text": [
      "nlms pre-convergence training iteration #0\n",
      "nlms MSE = 0.027632.\n",
      "nlms pre-convergence training iteration #1\n",
      "nlms MSE = 0.038023.\n",
      "nlms pre-convergence training iteration #2\n",
      "nlms MSE = 0.038137.\n",
      "nlms pre-convergence training iteration #3\n",
      "nlms MSE = 0.038144.\n",
      "nlms pre-convergence training iteration #4\n",
      "nlms MSE = 0.038144.\n",
      "\n",
      "\n",
      "dd-lms - training stage #1\n",
      "dd-lms MSE = 0.017105.\n",
      "Results:\n",
      "\n",
      "SER: 8.68e-01\n",
      "BER: 4.01e-01\n",
      "SNR: 1.51 dB\n",
      "MI: 0.40 bits\n",
      "GMI: 0.40 bits\n",
      "channel 0\t fc : 193.1000 THz\n",
      "  mode #0\t power: 0.00 dBm\n",
      "channel 0\t power: -0.00 dBm\n",
      "\n",
      "total WDM signal power: -0.00 dBm\n",
      "CSPR = 9.00 dB\n",
      "\n",
      "\n",
      "nlms - training stage #0\n"
     ]
    },
    {
     "data": {
      "application/vnd.jupyter.widget-view+json": {
       "model_id": "a8acbbc90dce442d83b86aa7919308db",
       "version_major": 2,
       "version_minor": 0
      },
      "text/plain": [
       "  0%|          | 0/5 [00:00<?, ?it/s]"
      ]
     },
     "metadata": {},
     "output_type": "display_data"
    },
    {
     "name": "stdout",
     "output_type": "stream",
     "text": [
      "nlms pre-convergence training iteration #0\n",
      "nlms MSE = 0.032347.\n",
      "nlms pre-convergence training iteration #1\n",
      "nlms MSE = 0.037933.\n",
      "nlms pre-convergence training iteration #2\n",
      "nlms MSE = 0.037991.\n",
      "nlms pre-convergence training iteration #3\n",
      "nlms MSE = 0.037995.\n",
      "nlms pre-convergence training iteration #4\n",
      "nlms MSE = 0.037995.\n",
      "\n",
      "\n",
      "dd-lms - training stage #1\n",
      "dd-lms MSE = 0.027233.\n",
      "Results:\n",
      "\n",
      "SER: 8.63e-01\n",
      "BER: 3.89e-01\n",
      "SNR: 1.64 dB\n",
      "MI: 0.44 bits\n",
      "GMI: 0.44 bits\n",
      "channel 0\t fc : 193.1000 THz\n",
      "  mode #0\t power: 0.00 dBm\n",
      "channel 0\t power: 0.00 dBm\n",
      "\n",
      "total WDM signal power: 0.00 dBm\n",
      "CSPR = 9.00 dB\n",
      "\n",
      "\n",
      "nlms - training stage #0\n"
     ]
    },
    {
     "data": {
      "application/vnd.jupyter.widget-view+json": {
       "model_id": "382599cad5c44747847c2278f5e72c7f",
       "version_major": 2,
       "version_minor": 0
      },
      "text/plain": [
       "  0%|          | 0/5 [00:00<?, ?it/s]"
      ]
     },
     "metadata": {},
     "output_type": "display_data"
    },
    {
     "name": "stdout",
     "output_type": "stream",
     "text": [
      "nlms pre-convergence training iteration #0\n",
      "nlms MSE = 0.045523.\n",
      "nlms pre-convergence training iteration #1\n",
      "nlms MSE = 0.049184.\n",
      "nlms pre-convergence training iteration #2\n",
      "nlms MSE = 0.049267.\n",
      "nlms pre-convergence training iteration #3\n",
      "nlms MSE = 0.049273.\n",
      "nlms pre-convergence training iteration #4\n",
      "nlms MSE = 0.049274.\n",
      "\n",
      "\n",
      "dd-lms - training stage #1\n",
      "dd-lms MSE = 0.033406.\n",
      "Results:\n",
      "\n",
      "SER: 8.97e-01\n",
      "BER: 4.63e-01\n",
      "SNR: 0.70 dB\n",
      "MI: 0.10 bits\n",
      "GMI: 0.18 bits\n",
      "channel 0\t fc : 193.1000 THz\n",
      "  mode #0\t power: 0.00 dBm\n",
      "channel 0\t power: -0.00 dBm\n",
      "\n",
      "total WDM signal power: -0.00 dBm\n",
      "CSPR = 9.00 dB\n",
      "\n",
      "\n",
      "nlms - training stage #0\n"
     ]
    },
    {
     "data": {
      "application/vnd.jupyter.widget-view+json": {
       "model_id": "894e7ebf3b6c4a8895c3e7bee22518e6",
       "version_major": 2,
       "version_minor": 0
      },
      "text/plain": [
       "  0%|          | 0/5 [00:00<?, ?it/s]"
      ]
     },
     "metadata": {},
     "output_type": "display_data"
    },
    {
     "name": "stdout",
     "output_type": "stream",
     "text": [
      "nlms pre-convergence training iteration #0\n",
      "nlms MSE = 0.054886.\n",
      "nlms pre-convergence training iteration #1\n",
      "nlms MSE = 0.056158.\n",
      "nlms pre-convergence training iteration #2\n",
      "nlms MSE = 0.056169.\n",
      "nlms pre-convergence training iteration #3\n",
      "nlms MSE = 0.056169.\n",
      "nlms pre-convergence training iteration #4\n",
      "nlms MSE = 0.056168.\n",
      "\n",
      "\n",
      "dd-lms - training stage #1\n",
      "dd-lms MSE = 0.039261.\n",
      "Results:\n",
      "\n",
      "SER: 8.75e-01\n",
      "BER: 4.05e-01\n",
      "SNR: 1.45 dB\n",
      "MI: 0.38 bits\n",
      "GMI: 0.39 bits\n",
      "channel 0\t fc : 193.1000 THz\n",
      "  mode #0\t power: 0.00 dBm\n",
      "channel 0\t power: -0.00 dBm\n",
      "\n",
      "total WDM signal power: -0.00 dBm\n",
      "CSPR = 9.00 dB\n",
      "\n",
      "\n",
      "nlms - training stage #0\n"
     ]
    },
    {
     "data": {
      "application/vnd.jupyter.widget-view+json": {
       "model_id": "b5579d2cffd1422d9330d8b61fa5f662",
       "version_major": 2,
       "version_minor": 0
      },
      "text/plain": [
       "  0%|          | 0/5 [00:00<?, ?it/s]"
      ]
     },
     "metadata": {},
     "output_type": "display_data"
    },
    {
     "name": "stdout",
     "output_type": "stream",
     "text": [
      "nlms pre-convergence training iteration #0\n",
      "nlms MSE = 0.067764.\n",
      "nlms pre-convergence training iteration #1\n",
      "nlms MSE = 0.068198.\n",
      "nlms pre-convergence training iteration #2\n",
      "nlms MSE = 0.068210.\n",
      "nlms pre-convergence training iteration #3\n",
      "nlms MSE = 0.068211.\n",
      "nlms pre-convergence training iteration #4\n",
      "nlms MSE = 0.068211.\n",
      "\n",
      "\n",
      "dd-lms - training stage #1\n",
      "dd-lms MSE = 0.044689.\n",
      "Results:\n",
      "\n",
      "SER: 9.24e-01\n",
      "BER: 4.80e-01\n",
      "SNR: 0.10 dB\n",
      "MI: -0.21 bits\n",
      "GMI: 0.03 bits\n",
      "channel 0\t fc : 193.1000 THz\n",
      "  mode #0\t power: 0.00 dBm\n",
      "channel 0\t power: -0.00 dBm\n",
      "\n",
      "total WDM signal power: -0.00 dBm\n",
      "CSPR = 9.00 dB\n",
      "\n",
      "\n",
      "nlms - training stage #0\n"
     ]
    },
    {
     "data": {
      "application/vnd.jupyter.widget-view+json": {
       "model_id": "8c2a5d42dfee426589f64f8e8e3056c3",
       "version_major": 2,
       "version_minor": 0
      },
      "text/plain": [
       "  0%|          | 0/5 [00:00<?, ?it/s]"
      ]
     },
     "metadata": {},
     "output_type": "display_data"
    },
    {
     "name": "stdout",
     "output_type": "stream",
     "text": [
      "nlms pre-convergence training iteration #0\n",
      "nlms MSE = 0.078924.\n",
      "nlms pre-convergence training iteration #1\n",
      "nlms MSE = 0.078894.\n",
      "nlms pre-convergence training iteration #2\n",
      "nlms MSE = 0.078891.\n",
      "nlms pre-convergence training iteration #3\n",
      "nlms MSE = 0.078889.\n",
      "nlms pre-convergence training iteration #4\n",
      "nlms MSE = 0.078887.\n",
      "\n",
      "\n",
      "dd-lms - training stage #1\n",
      "dd-lms MSE = 0.047231.\n",
      "Results:\n",
      "\n",
      "SER: 9.15e-01\n",
      "BER: 4.56e-01\n",
      "SNR: 0.23 dB\n",
      "MI: -0.13 bits\n",
      "GMI: 0.06 bits\n",
      "channel 0\t fc : 193.1000 THz\n",
      "  mode #0\t power: 0.00 dBm\n",
      "channel 0\t power: 0.00 dBm\n",
      "\n",
      "total WDM signal power: 0.00 dBm\n",
      "CSPR = 9.00 dB\n",
      "\n",
      "\n",
      "nlms - training stage #0\n"
     ]
    },
    {
     "data": {
      "application/vnd.jupyter.widget-view+json": {
       "model_id": "f5a6af746fe74a67adc6f82283d8aab0",
       "version_major": 2,
       "version_minor": 0
      },
      "text/plain": [
       "  0%|          | 0/5 [00:00<?, ?it/s]"
      ]
     },
     "metadata": {},
     "output_type": "display_data"
    },
    {
     "name": "stdout",
     "output_type": "stream",
     "text": [
      "nlms pre-convergence training iteration #0\n",
      "nlms MSE = 0.095871.\n",
      "nlms pre-convergence training iteration #1\n",
      "nlms MSE = 0.106362.\n",
      "nlms pre-convergence training iteration #2\n",
      "nlms MSE = 0.106548.\n",
      "nlms pre-convergence training iteration #3\n",
      "nlms MSE = 0.106563.\n",
      "nlms pre-convergence training iteration #4\n",
      "nlms MSE = 0.106561.\n",
      "\n",
      "\n",
      "dd-lms - training stage #1\n",
      "dd-lms MSE = 0.051473.\n",
      "Results:\n",
      "\n",
      "SER: 9.25e-01\n",
      "BER: 4.87e-01\n",
      "SNR: 0.08 dB\n",
      "MI: -0.22 bits\n",
      "GMI: 0.02 bits\n",
      "channel 0\t fc : 193.1000 THz\n",
      "  mode #0\t power: 0.00 dBm\n",
      "channel 0\t power: 0.00 dBm\n",
      "\n",
      "total WDM signal power: 0.00 dBm\n",
      "CSPR = 9.00 dB\n",
      "\n",
      "\n",
      "nlms - training stage #0\n"
     ]
    },
    {
     "data": {
      "application/vnd.jupyter.widget-view+json": {
       "model_id": "7700edc6f1f34a248c5cb5ffcca72a27",
       "version_major": 2,
       "version_minor": 0
      },
      "text/plain": [
       "  0%|          | 0/5 [00:00<?, ?it/s]"
      ]
     },
     "metadata": {},
     "output_type": "display_data"
    },
    {
     "name": "stdout",
     "output_type": "stream",
     "text": [
      "nlms pre-convergence training iteration #0\n",
      "nlms MSE = 0.101747.\n",
      "nlms pre-convergence training iteration #1\n",
      "nlms MSE = 0.124180.\n",
      "nlms pre-convergence training iteration #2\n",
      "nlms MSE = 0.124422.\n",
      "nlms pre-convergence training iteration #3\n",
      "nlms MSE = 0.124440.\n",
      "nlms pre-convergence training iteration #4\n",
      "nlms MSE = 0.124440.\n",
      "\n",
      "\n",
      "dd-lms - training stage #1\n",
      "dd-lms MSE = 0.055980.\n",
      "Results:\n",
      "\n",
      "SER: 9.21e-01\n",
      "BER: 4.85e-01\n",
      "SNR: 0.09 dB\n",
      "MI: -0.23 bits\n",
      "GMI: 0.02 bits\n",
      "channel 0\t fc : 193.1000 THz\n",
      "  mode #0\t power: 0.00 dBm\n",
      "channel 0\t power: 0.00 dBm\n",
      "\n",
      "total WDM signal power: 0.00 dBm\n",
      "CSPR = 9.00 dB\n",
      "\n",
      "\n",
      "nlms - training stage #0\n"
     ]
    },
    {
     "data": {
      "application/vnd.jupyter.widget-view+json": {
       "model_id": "0401ba1fcb524c8abfe672872e50feb7",
       "version_major": 2,
       "version_minor": 0
      },
      "text/plain": [
       "  0%|          | 0/5 [00:00<?, ?it/s]"
      ]
     },
     "metadata": {},
     "output_type": "display_data"
    },
    {
     "name": "stdout",
     "output_type": "stream",
     "text": [
      "nlms pre-convergence training iteration #0\n",
      "nlms MSE = 0.109988.\n",
      "nlms pre-convergence training iteration #1\n",
      "nlms MSE = 0.121253.\n",
      "nlms pre-convergence training iteration #2\n",
      "nlms MSE = 0.121372.\n",
      "nlms pre-convergence training iteration #3\n",
      "nlms MSE = 0.121378.\n",
      "nlms pre-convergence training iteration #4\n",
      "nlms MSE = 0.121374.\n",
      "\n",
      "\n",
      "dd-lms - training stage #1\n",
      "dd-lms MSE = 0.052225.\n",
      "Results:\n",
      "\n",
      "SER: 9.16e-01\n",
      "BER: 4.66e-01\n",
      "SNR: 0.13 dB\n",
      "MI: -0.20 bits\n",
      "GMI: 0.03 bits\n",
      "channel 0\t fc : 193.1000 THz\n",
      "  mode #0\t power: 0.00 dBm\n",
      "channel 0\t power: 0.00 dBm\n",
      "\n",
      "total WDM signal power: 0.00 dBm\n",
      "CSPR = 9.00 dB\n",
      "\n",
      "\n",
      "nlms - training stage #0\n"
     ]
    },
    {
     "data": {
      "application/vnd.jupyter.widget-view+json": {
       "model_id": "9b127b840b1442fa9910b5a7a50f7b87",
       "version_major": 2,
       "version_minor": 0
      },
      "text/plain": [
       "  0%|          | 0/5 [00:00<?, ?it/s]"
      ]
     },
     "metadata": {},
     "output_type": "display_data"
    },
    {
     "name": "stdout",
     "output_type": "stream",
     "text": [
      "nlms pre-convergence training iteration #0\n",
      "nlms MSE = 0.126945.\n",
      "nlms pre-convergence training iteration #1\n",
      "nlms MSE = 0.127885.\n",
      "nlms pre-convergence training iteration #2\n",
      "nlms MSE = 0.127908.\n",
      "nlms pre-convergence training iteration #3\n",
      "nlms MSE = 0.127905.\n",
      "nlms pre-convergence training iteration #4\n",
      "nlms MSE = 0.127899.\n",
      "\n",
      "\n",
      "dd-lms - training stage #1\n",
      "dd-lms MSE = 0.063522.\n",
      "Results:\n",
      "\n",
      "SER: 9.30e-01\n",
      "BER: 4.88e-01\n",
      "SNR: 0.03 dB\n",
      "MI: -0.28 bits\n",
      "GMI: 0.01 bits\n",
      "channel 0\t fc : 193.1000 THz\n",
      "  mode #0\t power: 0.00 dBm\n",
      "channel 0\t power: 0.00 dBm\n",
      "\n",
      "total WDM signal power: 0.00 dBm\n",
      "CSPR = 9.00 dB\n",
      "\n",
      "\n",
      "nlms - training stage #0\n"
     ]
    },
    {
     "data": {
      "application/vnd.jupyter.widget-view+json": {
       "model_id": "c0e06ed7366d427cb97d86ba502612d8",
       "version_major": 2,
       "version_minor": 0
      },
      "text/plain": [
       "  0%|          | 0/5 [00:00<?, ?it/s]"
      ]
     },
     "metadata": {},
     "output_type": "display_data"
    },
    {
     "name": "stdout",
     "output_type": "stream",
     "text": [
      "nlms pre-convergence training iteration #0\n",
      "nlms MSE = 0.130281.\n",
      "nlms pre-convergence training iteration #1\n",
      "nlms MSE = 0.131350.\n",
      "nlms pre-convergence training iteration #2\n",
      "nlms MSE = 0.131334.\n",
      "nlms pre-convergence training iteration #3\n",
      "nlms MSE = 0.131325.\n",
      "nlms pre-convergence training iteration #4\n",
      "nlms MSE = 0.131318.\n",
      "\n",
      "\n",
      "dd-lms - training stage #1\n",
      "dd-lms MSE = 0.063299.\n",
      "Results:\n",
      "\n",
      "SER: 9.35e-01\n",
      "BER: 4.94e-01\n",
      "SNR: 0.01 dB\n",
      "MI: -0.31 bits\n",
      "GMI: 0.00 bits\n",
      "channel 0\t fc : 193.1000 THz\n",
      "  mode #0\t power: 0.00 dBm\n",
      "channel 0\t power: -0.00 dBm\n",
      "\n",
      "total WDM signal power: -0.00 dBm\n",
      "CSPR = 9.00 dB\n",
      "\n",
      "\n",
      "nlms - training stage #0\n"
     ]
    },
    {
     "data": {
      "application/vnd.jupyter.widget-view+json": {
       "model_id": "e7503d9c815e41a49e1018e84469f66d",
       "version_major": 2,
       "version_minor": 0
      },
      "text/plain": [
       "  0%|          | 0/5 [00:00<?, ?it/s]"
      ]
     },
     "metadata": {},
     "output_type": "display_data"
    },
    {
     "name": "stdout",
     "output_type": "stream",
     "text": [
      "nlms pre-convergence training iteration #0\n",
      "nlms MSE = 0.139789.\n",
      "nlms pre-convergence training iteration #1\n",
      "nlms MSE = 0.139015.\n",
      "nlms pre-convergence training iteration #2\n",
      "nlms MSE = 0.139002.\n",
      "nlms pre-convergence training iteration #3\n",
      "nlms MSE = 0.138992.\n",
      "nlms pre-convergence training iteration #4\n",
      "nlms MSE = 0.138982.\n",
      "\n",
      "\n",
      "dd-lms - training stage #1\n",
      "dd-lms MSE = 0.059465.\n",
      "Results:\n",
      "\n",
      "SER: 9.33e-01\n",
      "BER: 4.90e-01\n",
      "SNR: -0.03 dB\n",
      "MI: -0.32 bits\n",
      "GMI: 0.00 bits\n",
      "channel 0\t fc : 193.1000 THz\n",
      "  mode #0\t power: 0.00 dBm\n",
      "channel 0\t power: 0.00 dBm\n",
      "\n",
      "total WDM signal power: 0.00 dBm\n",
      "CSPR = 9.00 dB\n",
      "\n",
      "\n",
      "nlms - training stage #0\n"
     ]
    },
    {
     "data": {
      "application/vnd.jupyter.widget-view+json": {
       "model_id": "6b91cf5a674445cf871d9eebf232b9fa",
       "version_major": 2,
       "version_minor": 0
      },
      "text/plain": [
       "  0%|          | 0/5 [00:00<?, ?it/s]"
      ]
     },
     "metadata": {},
     "output_type": "display_data"
    },
    {
     "name": "stdout",
     "output_type": "stream",
     "text": [
      "nlms pre-convergence training iteration #0\n",
      "nlms MSE = 0.152388.\n",
      "nlms pre-convergence training iteration #1\n",
      "nlms MSE = 0.155458.\n",
      "nlms pre-convergence training iteration #2\n",
      "nlms MSE = 0.155507.\n",
      "nlms pre-convergence training iteration #3\n",
      "nlms MSE = 0.155500.\n",
      "nlms pre-convergence training iteration #4\n",
      "nlms MSE = 0.155487.\n",
      "\n",
      "\n",
      "dd-lms - training stage #1\n",
      "dd-lms MSE = 0.058032.\n",
      "Results:\n",
      "\n",
      "SER: 9.33e-01\n",
      "BER: 4.96e-01\n",
      "SNR: 0.01 dB\n",
      "MI: -0.31 bits\n",
      "GMI: 0.00 bits\n",
      "channel 0\t fc : 193.1000 THz\n",
      "  mode #0\t power: 0.00 dBm\n",
      "channel 0\t power: 0.00 dBm\n",
      "\n",
      "total WDM signal power: 0.00 dBm\n",
      "CSPR = 9.00 dB\n",
      "\n",
      "\n",
      "nlms - training stage #0\n"
     ]
    },
    {
     "data": {
      "application/vnd.jupyter.widget-view+json": {
       "model_id": "aafd3d0b0c844353948342cab7b6e0bc",
       "version_major": 2,
       "version_minor": 0
      },
      "text/plain": [
       "  0%|          | 0/5 [00:00<?, ?it/s]"
      ]
     },
     "metadata": {},
     "output_type": "display_data"
    },
    {
     "name": "stdout",
     "output_type": "stream",
     "text": [
      "nlms pre-convergence training iteration #0\n",
      "nlms MSE = 0.165119.\n",
      "nlms pre-convergence training iteration #1\n",
      "nlms MSE = 0.175284.\n",
      "nlms pre-convergence training iteration #2\n",
      "nlms MSE = 0.175352.\n",
      "nlms pre-convergence training iteration #3\n",
      "nlms MSE = 0.175347.\n",
      "nlms pre-convergence training iteration #4\n",
      "nlms MSE = 0.175337.\n",
      "\n",
      "\n",
      "dd-lms - training stage #1\n",
      "dd-lms MSE = 0.056452.\n",
      "Results:\n",
      "\n",
      "SER: 9.32e-01\n",
      "BER: 4.87e-01\n",
      "SNR: -0.01 dB\n",
      "MI: -0.29 bits\n",
      "GMI: 0.00 bits\n",
      "channel 0\t fc : 193.1000 THz\n",
      "  mode #0\t power: 0.00 dBm\n",
      "channel 0\t power: 0.00 dBm\n",
      "\n",
      "total WDM signal power: 0.00 dBm\n",
      "CSPR = 9.00 dB\n",
      "\n",
      "\n",
      "nlms - training stage #0\n"
     ]
    },
    {
     "data": {
      "application/vnd.jupyter.widget-view+json": {
       "model_id": "a2864006100e4cea8bf7f20315df8fde",
       "version_major": 2,
       "version_minor": 0
      },
      "text/plain": [
       "  0%|          | 0/5 [00:00<?, ?it/s]"
      ]
     },
     "metadata": {},
     "output_type": "display_data"
    },
    {
     "name": "stdout",
     "output_type": "stream",
     "text": [
      "nlms pre-convergence training iteration #0\n",
      "nlms MSE = 0.170698.\n",
      "nlms pre-convergence training iteration #1\n",
      "nlms MSE = 0.170293.\n",
      "nlms pre-convergence training iteration #2\n",
      "nlms MSE = 0.170296.\n",
      "nlms pre-convergence training iteration #3\n",
      "nlms MSE = 0.170280.\n",
      "nlms pre-convergence training iteration #4\n",
      "nlms MSE = 0.170264.\n",
      "\n",
      "\n",
      "dd-lms - training stage #1\n",
      "dd-lms MSE = 0.057596.\n",
      "Results:\n",
      "\n",
      "SER: 9.31e-01\n",
      "BER: 4.95e-01\n",
      "SNR: 0.01 dB\n",
      "MI: -0.31 bits\n",
      "GMI: 0.00 bits\n",
      "channel 0\t fc : 193.1000 THz\n",
      "  mode #0\t power: 0.00 dBm\n",
      "channel 0\t power: -0.00 dBm\n",
      "\n",
      "total WDM signal power: -0.00 dBm\n",
      "CSPR = 9.00 dB\n",
      "\n",
      "\n",
      "nlms - training stage #0\n"
     ]
    },
    {
     "data": {
      "application/vnd.jupyter.widget-view+json": {
       "model_id": "0aaf00fb832843ddb56306df678fcafa",
       "version_major": 2,
       "version_minor": 0
      },
      "text/plain": [
       "  0%|          | 0/5 [00:00<?, ?it/s]"
      ]
     },
     "metadata": {},
     "output_type": "display_data"
    },
    {
     "name": "stdout",
     "output_type": "stream",
     "text": [
      "nlms pre-convergence training iteration #0\n",
      "nlms MSE = 0.180699.\n",
      "nlms pre-convergence training iteration #1\n",
      "nlms MSE = 0.187183.\n",
      "nlms pre-convergence training iteration #2\n",
      "nlms MSE = 0.187252.\n",
      "nlms pre-convergence training iteration #3\n",
      "nlms MSE = 0.187247.\n",
      "nlms pre-convergence training iteration #4\n",
      "nlms MSE = 0.187235.\n",
      "\n",
      "\n",
      "dd-lms - training stage #1\n",
      "dd-lms MSE = 0.058630.\n",
      "Results:\n",
      "\n",
      "SER: 9.32e-01\n",
      "BER: 4.89e-01\n",
      "SNR: 0.02 dB\n",
      "MI: -0.28 bits\n",
      "GMI: 0.01 bits\n",
      "channel 0\t fc : 193.1000 THz\n",
      "  mode #0\t power: 0.00 dBm\n",
      "channel 0\t power: -0.00 dBm\n",
      "\n",
      "total WDM signal power: -0.00 dBm\n",
      "CSPR = 9.00 dB\n",
      "\n",
      "\n",
      "nlms - training stage #0\n"
     ]
    },
    {
     "data": {
      "application/vnd.jupyter.widget-view+json": {
       "model_id": "526faf9c575443bcb487eae5ecb89340",
       "version_major": 2,
       "version_minor": 0
      },
      "text/plain": [
       "  0%|          | 0/5 [00:00<?, ?it/s]"
      ]
     },
     "metadata": {},
     "output_type": "display_data"
    },
    {
     "name": "stdout",
     "output_type": "stream",
     "text": [
      "nlms pre-convergence training iteration #0\n",
      "nlms MSE = 0.193977.\n",
      "nlms pre-convergence training iteration #1\n",
      "nlms MSE = 0.208197.\n",
      "nlms pre-convergence training iteration #2\n",
      "nlms MSE = 0.208461.\n",
      "nlms pre-convergence training iteration #3\n",
      "nlms MSE = 0.208467.\n",
      "nlms pre-convergence training iteration #4\n",
      "nlms MSE = 0.208451.\n",
      "\n",
      "\n",
      "dd-lms - training stage #1\n",
      "dd-lms MSE = 0.058275.\n",
      "Results:\n",
      "\n",
      "SER: 9.31e-01\n",
      "BER: 4.90e-01\n",
      "SNR: 0.02 dB\n",
      "MI: -0.26 bits\n",
      "GMI: 0.01 bits\n",
      "channel 0\t fc : 193.1000 THz\n",
      "  mode #0\t power: 0.00 dBm\n",
      "channel 0\t power: -0.00 dBm\n",
      "\n",
      "total WDM signal power: -0.00 dBm\n",
      "CSPR = 9.00 dB\n",
      "\n",
      "\n",
      "nlms - training stage #0\n"
     ]
    },
    {
     "data": {
      "application/vnd.jupyter.widget-view+json": {
       "model_id": "44f6acb196014f77ae54d14a1b84ad77",
       "version_major": 2,
       "version_minor": 0
      },
      "text/plain": [
       "  0%|          | 0/5 [00:00<?, ?it/s]"
      ]
     },
     "metadata": {},
     "output_type": "display_data"
    },
    {
     "name": "stdout",
     "output_type": "stream",
     "text": [
      "nlms pre-convergence training iteration #0\n",
      "nlms MSE = 0.200474.\n",
      "nlms pre-convergence training iteration #1\n",
      "nlms MSE = 0.201787.\n",
      "nlms pre-convergence training iteration #2\n",
      "nlms MSE = 0.201764.\n",
      "nlms pre-convergence training iteration #3\n",
      "nlms MSE = 0.201740.\n",
      "nlms pre-convergence training iteration #4\n",
      "nlms MSE = 0.201717.\n",
      "\n",
      "\n",
      "dd-lms - training stage #1\n",
      "dd-lms MSE = 0.061417.\n",
      "Results:\n",
      "\n",
      "SER: 9.36e-01\n",
      "BER: 5.00e-01\n",
      "SNR: -0.00 dB\n",
      "MI: -0.35 bits\n",
      "GMI: -0.00 bits\n",
      "channel 0\t fc : 193.1000 THz\n",
      "  mode #0\t power: 0.00 dBm\n",
      "channel 0\t power: -0.00 dBm\n",
      "\n",
      "total WDM signal power: -0.00 dBm\n",
      "CSPR = 9.00 dB\n",
      "\n",
      "\n",
      "nlms - training stage #0\n"
     ]
    },
    {
     "data": {
      "application/vnd.jupyter.widget-view+json": {
       "model_id": "bf75ed9e06d14f56932ad2c32784bf0e",
       "version_major": 2,
       "version_minor": 0
      },
      "text/plain": [
       "  0%|          | 0/5 [00:00<?, ?it/s]"
      ]
     },
     "metadata": {},
     "output_type": "display_data"
    },
    {
     "name": "stdout",
     "output_type": "stream",
     "text": [
      "nlms pre-convergence training iteration #0\n",
      "nlms MSE = 0.211219.\n",
      "nlms pre-convergence training iteration #1\n",
      "nlms MSE = 0.218942.\n",
      "nlms pre-convergence training iteration #2\n",
      "nlms MSE = 0.219010.\n",
      "nlms pre-convergence training iteration #3\n",
      "nlms MSE = 0.218987.\n",
      "nlms pre-convergence training iteration #4\n",
      "nlms MSE = 0.218959.\n",
      "\n",
      "\n",
      "dd-lms - training stage #1\n",
      "dd-lms MSE = 0.060054.\n",
      "Results:\n",
      "\n",
      "SER: 9.31e-01\n",
      "BER: 4.85e-01\n",
      "SNR: 0.04 dB\n",
      "MI: -0.27 bits\n",
      "GMI: 0.01 bits\n"
     ]
    }
   ],
   "source": [
    "modelNN = tf.keras.models.load_model('NN_models/testModel_SpS_'+str(paramTx.SpS))\n",
    "N = 256  # number of input amplitude samples to the NN\n",
    "\n",
    "BER_NN = np.zeros(ROLLOFF.size)\n",
    "SER_NN = np.zeros(ROLLOFF.size)\n",
    "GMI_NN = np.zeros(ROLLOFF.size)\n",
    "MI_NN  = np.zeros(ROLLOFF.size)\n",
    "SNR_NN = np.zeros(ROLLOFF.size)\n",
    "\n",
    "for indROLL, ROLLOFF_ in enumerate(ROLLOFF):\n",
    "    \n",
    "    paramTx.alphaRRC = ROLLOFF_\n",
    "    # generate optical signal signal\n",
    "    sigTx, symbTx_, paramTx = simpleWDMTx(paramTx)\n",
    "\n",
    "    # simulate linear signal propagation\n",
    "    sigCh = linFiberCh(sigTx, Ltotal, alpha, D, Fc, Fs)\n",
    "\n",
    "    # receiver detection and demodulation\n",
    "\n",
    "    Fc = paramTx.Fc\n",
    "    Ts = 1 / Fs\n",
    "    mod = QAMModem(m=paramTx.M)\n",
    "\n",
    "    freqGrid = paramTx.freqGrid\n",
    "\n",
    "    symbTx = symbTx_[:, :, chIndex]\n",
    "\n",
    "    #Plo_dBm = CSPR_\n",
    "    Plo = 10 ** (Plo_dBm / 10) * 1e-3  # power in W\n",
    "\n",
    "#     print(\n",
    "#         \"Local oscillator P: %.2f dBm, lw: %.2f kHz, FO: %.2f MHz\"\n",
    "#         % (Plo_dBm, lw / 1e3, FO / 1e6)\n",
    "#     )\n",
    "\n",
    "    # generate LO field\n",
    "    π = np.pi\n",
    "    t = np.arange(0, len(sigCh))*Ts\n",
    "    ϕ_pn_lo = phaseNoise(lw, len(sigCh), Ts)\n",
    "\n",
    "    sigLO = np.sqrt(Plo) * np.exp(-1j * (2 * π * FO * t + ϕ_lo + ϕ_pn_lo))\n",
    "\n",
    "    # Add LO to the received signal\n",
    "    sigRx = np.sqrt(Plo) + sigCh * np.exp(1j * (2 * π * FO * t + ϕ_lo + ϕ_pn_lo))\n",
    "    sfm = sigRx.copy()\n",
    "\n",
    "    print('CSPR = %.2f dB' % (10*np.log10(signal_power(sigLO)/signal_power(sigCh))))\n",
    "\n",
    "    ### Phase-retrieval stage\n",
    "    sfm = sfm/np.sqrt(signal_power(sfm))\n",
    "\n",
    "    # simulate ideal direct-detection optical receiver\n",
    "    # get signal amplitude samples (L,)\n",
    "    sigAmp = np.pad(np.abs(sfm), (int(N/2), int(N/2)), 'constant')\n",
    "\n",
    "    # create set of input features\n",
    "    inputNN = np.zeros((len(sfm), N))  # (L,N)\n",
    "\n",
    "    for indPhase in range(len(sfm)):\n",
    "        inputNN[indPhase] = sigAmp[indPhase:N+indPhase]\n",
    "\n",
    "    phiTime_NN = modelNN.predict(inputNN)\n",
    "    phiTime_NN = phiTime_NN.reshape(-1,)\n",
    "\n",
    "    # optical field reconstruction\n",
    "    sigRx = np.abs(sfm)*np.exp(1j*phiTime_NN)\n",
    "\n",
    "    # remove DC level\n",
    "    sigRx -= np.mean(sigRx)  # np.sqrt(Plo)\n",
    "\n",
    "    # downshift to baseband\n",
    "    sigRx *= np.exp(-1j * (2 * π * FO * t))\n",
    "\n",
    "    #### Standard receiver processing\n",
    "\n",
    "    # Matched filtering and CD compensation\n",
    "\n",
    "    # Matched filtering\n",
    "    if paramTx.pulse == \"nrz\":\n",
    "        pulse = pulseShape(\"nrz\", paramTx.SpS)\n",
    "    elif paramTx.pulse == \"rrc\":\n",
    "        pulse = pulseShape(\n",
    "            \"rrc\", paramTx.SpS, N=paramTx.Ntaps, alpha=paramTx.alphaRRC, Ts=1 / paramTx.Rs\n",
    "        )\n",
    "\n",
    "    pulse = pulse / np.max(np.abs(pulse))\n",
    "    sigRx = firFilter(pulse, sigRx)\n",
    "\n",
    "#     # plot constellations after matched filtering\n",
    "#     pconst(sigRx[0::paramTx.SpS], lim=True, R=3)\n",
    "\n",
    "    # CD compensation\n",
    "    sigRx = edc(sigRx, Ltotal, D, Fc, Fs)\n",
    "\n",
    "    #plot constellations after CD compensation\n",
    "#     discard = 5000\n",
    "#     pconst(sigRx[discard:-discard:paramTx.SpS], lim=True, R=2)\n",
    "\n",
    "    # Downsampling to 2 sps and re-synchronization with transmitted sequences\n",
    "    sigRx = sigRx.reshape(-1, 1)\n",
    "\n",
    "#     # decimation\n",
    "#     paramDec = parameters()\n",
    "#     paramDec.SpS_in = paramTx.SpS\n",
    "#     paramDec.SpS_out = 2\n",
    "#     sigRx = decimate(sigRx, paramDec)\n",
    "\n",
    "#     symbRx = symbolSync(sigRx, symbTx, 2)\n",
    "\n",
    "    # Power normalization\n",
    "    x = sigRx\n",
    "    d = symbTx\n",
    "\n",
    "    x = x.reshape(len(x), 1) / np.sqrt(signal_power(x))\n",
    "    d = d.reshape(len(d), 1) / np.sqrt(signal_power(d))\n",
    "\n",
    "    # Adaptive equalization\n",
    "    mod = QAMModem(m=paramTx.M)\n",
    "\n",
    "    paramEq = parameters()\n",
    "    paramEq.nTaps = 7\n",
    "    paramEq.SpS = 2\n",
    "    paramEq.mu = [5e-3, 5e-3]\n",
    "    paramEq.numIter = 5\n",
    "    paramEq.storeCoeff = False\n",
    "    paramEq.alg = [\"nlms\", \"dd-lms\"]\n",
    "    paramEq.M = paramTx.M\n",
    "    paramEq.L = [20000, 80000]\n",
    "\n",
    "    y_EQ, H, errSq, Hiter = mimoAdaptEqualizer(x, dx=d, paramEq=paramEq)\n",
    "\n",
    "    #y_EQ = x[0::paramTx.SpS]\n",
    "\n",
    "    discard = int(paramEq.L[0]/2)\n",
    "\n",
    "    #plot constellations after adaptive equalization\n",
    "#     pconst(y_EQ[discard:-discard,:], lim=True)\n",
    "\n",
    "    # Carrier phase recovery\n",
    "    paramCPR = parameters()\n",
    "    paramCPR.alg = \"bps\"\n",
    "    paramCPR.M = paramTx.M\n",
    "    paramCPR.N = 35\n",
    "    paramCPR.B = 64\n",
    "    paramCPR.pilotInd = np.arange(0, len(y_EQ), 20)\n",
    "\n",
    "    y_CPR, θ = cpr(y_EQ, symbTx=d, paramCPR=paramCPR)\n",
    "\n",
    "    y_CPR = y_CPR / np.sqrt(signal_power(y_CPR))\n",
    "\n",
    "    discard = 5000\n",
    "\n",
    "    # plot constellations after CPR\n",
    "#     pconst(y_CPR[discard:-discard, :], lim=True)\n",
    "\n",
    "    #### Evaluate transmission metrics\n",
    "\n",
    "    # correct for (possible) phase ambiguity\n",
    "    for k in range(y_CPR.shape[1]):\n",
    "        rot = np.mean(d[:, k] / y_CPR[:, k])\n",
    "        y_CPR[:, k] = rot * y_CPR[:, k]\n",
    "\n",
    "    y_CPR = y_CPR / np.sqrt(signal_power(y_CPR))\n",
    "\n",
    "    ind = np.arange(discard, d.shape[0] - discard)\n",
    "    BER_NN[indROLL], SER_NN[indROLL], SNR_NN[indROLL] = fastBERcalc(y_CPR[ind, :], d[ind, :], mod)\n",
    "    GMI_NN[indROLL], _ = monteCarloGMI(y_CPR[ind, :], d[ind, :], mod)\n",
    "    MI_NN[indROLL] = monteCarloMI(y_CPR[ind, :], d[ind, :], mod)\n",
    "\n",
    "    print(\"Results:\\n\")\n",
    "    print(\"SER: %.2e\" % (SER_NN[indROLL]))\n",
    "    print(\"BER: %.2e\" % (BER_NN[indROLL]))\n",
    "    print(\"SNR: %.2f dB\" % (SNR_NN[indROLL]))\n",
    "    print(\"MI: %.2f bits\" % (MI_NN[indROLL]))\n",
    "    print(\"GMI: %.2f bits\" % (GMI_NN[indROLL]))"
   ]
  },
  {
   "cell_type": "code",
   "execution_count": 43,
   "id": "419f27af",
   "metadata": {},
   "outputs": [
    {
     "data": {
      "text/plain": [
       "<matplotlib.legend.Legend at 0x230e01e5760>"
      ]
     },
     "execution_count": 43,
     "metadata": {},
     "output_type": "execute_result"
    },
    {
     "data": {
      "image/png": "[encoded data removed]",
      "text/plain": [
       "<Figure size 432x288 with 1 Axes>"
      ]
     },
     "metadata": {
      "needs_background": "light"
     },
     "output_type": "display_data"
    }
   ],
   "source": [
    "plt.plot(ROLLOFF, np.log10(BER_KK), '-x', label='KK algorithm')\n",
    "plt.plot(ROLLOFF, np.log10(BER_NN), '-o', label='Neural network')\n",
    "plt.xlabel('Roll-off factor RRC')\n",
    "plt.ylabel('log10(BER)')\n",
    "plt.grid()\n",
    "plt.legend()"
   ]
  },
  {
   "cell_type": "markdown",
   "id": "6129356d",
   "metadata": {},
   "source": [
    "## BER vs FO with NN algorithm"
   ]
  },
  {
   "cell_type": "code",
   "execution_count": 48,
   "id": "0245754d",
   "metadata": {},
   "outputs": [
    {
     "name": "stdout",
     "output_type": "stream",
     "text": [
      "channel 0\t fc : 193.1000 THz\n",
      "  mode #0\t power: 0.00 dBm\n",
      "channel 0\t power: 0.00 dBm\n",
      "\n",
      "total WDM signal power: 0.00 dBm\n",
      "CSPR = 9.00 dB\n",
      "\n",
      "\n",
      "nlms - training stage #0\n"
     ]
    },
    {
     "data": {
      "application/vnd.jupyter.widget-view+json": {
       "model_id": "1270a5bda93447a5826d4e0cbb6380ba",
       "version_major": 2,
       "version_minor": 0
      },
      "text/plain": [
       "  0%|          | 0/5 [00:00<?, ?it/s]"
      ]
     },
     "metadata": {},
     "output_type": "display_data"
    },
    {
     "name": "stdout",
     "output_type": "stream",
     "text": [
      "nlms pre-convergence training iteration #0\n",
      "nlms MSE = 0.645749.\n",
      "nlms pre-convergence training iteration #1\n",
      "nlms MSE = 0.644061.\n",
      "nlms pre-convergence training iteration #2\n",
      "nlms MSE = 0.641512.\n",
      "nlms pre-convergence training iteration #3\n",
      "nlms MSE = 0.639678.\n",
      "nlms pre-convergence training iteration #4\n",
      "nlms MSE = 0.638323.\n",
      "\n",
      "\n",
      "dd-lms - training stage #1\n",
      "dd-lms MSE = 0.066811.\n",
      "Results:\n",
      "\n",
      "SER: 9.38e-01\n",
      "BER: 4.99e-01\n",
      "SNR: 0.00 dB\n",
      "MI: -0.34 bits\n",
      "GMI: 0.00 bits\n",
      "channel 0\t fc : 193.1000 THz\n",
      "  mode #0\t power: 0.00 dBm\n",
      "channel 0\t power: 0.00 dBm\n",
      "\n",
      "total WDM signal power: 0.00 dBm\n",
      "CSPR = 9.00 dB\n",
      "\n",
      "\n",
      "nlms - training stage #0\n"
     ]
    },
    {
     "data": {
      "application/vnd.jupyter.widget-view+json": {
       "model_id": "cf7d10b13a914e6aa5d36805333b4748",
       "version_major": 2,
       "version_minor": 0
      },
      "text/plain": [
       "  0%|          | 0/5 [00:00<?, ?it/s]"
      ]
     },
     "metadata": {},
     "output_type": "display_data"
    },
    {
     "name": "stdout",
     "output_type": "stream",
     "text": [
      "nlms pre-convergence training iteration #0\n",
      "nlms MSE = 0.633684.\n",
      "nlms pre-convergence training iteration #1\n",
      "nlms MSE = 0.624251.\n",
      "nlms pre-convergence training iteration #2\n",
      "nlms MSE = 0.620201.\n",
      "nlms pre-convergence training iteration #3\n",
      "nlms MSE = 0.617474.\n",
      "nlms pre-convergence training iteration #4\n",
      "nlms MSE = 0.615559.\n",
      "\n",
      "\n",
      "dd-lms - training stage #1\n",
      "dd-lms MSE = 0.066721.\n",
      "Results:\n",
      "\n",
      "SER: 9.37e-01\n",
      "BER: 5.01e-01\n",
      "SNR: -0.00 dB\n",
      "MI: -0.34 bits\n",
      "GMI: 0.00 bits\n",
      "channel 0\t fc : 193.1000 THz\n",
      "  mode #0\t power: 0.00 dBm\n",
      "channel 0\t power: 0.00 dBm\n",
      "\n",
      "total WDM signal power: 0.00 dBm\n",
      "CSPR = 9.00 dB\n",
      "\n",
      "\n",
      "nlms - training stage #0\n"
     ]
    },
    {
     "data": {
      "application/vnd.jupyter.widget-view+json": {
       "model_id": "5ce3d6374084451c93254df0484b0b6a",
       "version_major": 2,
       "version_minor": 0
      },
      "text/plain": [
       "  0%|          | 0/5 [00:00<?, ?it/s]"
      ]
     },
     "metadata": {},
     "output_type": "display_data"
    },
    {
     "name": "stdout",
     "output_type": "stream",
     "text": [
      "nlms pre-convergence training iteration #0\n",
      "nlms MSE = 0.632550.\n",
      "nlms pre-convergence training iteration #1\n",
      "nlms MSE = 0.624241.\n",
      "nlms pre-convergence training iteration #2\n",
      "nlms MSE = 0.621155.\n",
      "nlms pre-convergence training iteration #3\n",
      "nlms MSE = 0.619053.\n",
      "nlms pre-convergence training iteration #4\n",
      "nlms MSE = 0.617541.\n",
      "\n",
      "\n",
      "dd-lms - training stage #1\n",
      "dd-lms MSE = 0.066761.\n",
      "Results:\n",
      "\n",
      "SER: 9.37e-01\n",
      "BER: 4.97e-01\n",
      "SNR: 0.01 dB\n",
      "MI: -0.31 bits\n",
      "GMI: 0.00 bits\n",
      "channel 0\t fc : 193.1000 THz\n",
      "  mode #0\t power: 0.00 dBm\n",
      "channel 0\t power: 0.00 dBm\n",
      "\n",
      "total WDM signal power: 0.00 dBm\n",
      "CSPR = 9.00 dB\n",
      "\n",
      "\n",
      "nlms - training stage #0\n"
     ]
    },
    {
     "data": {
      "application/vnd.jupyter.widget-view+json": {
       "model_id": "f83ccb96f72141d0a6f0897a03f1d659",
       "version_major": 2,
       "version_minor": 0
      },
      "text/plain": [
       "  0%|          | 0/5 [00:00<?, ?it/s]"
      ]
     },
     "metadata": {},
     "output_type": "display_data"
    },
    {
     "name": "stdout",
     "output_type": "stream",
     "text": [
      "nlms pre-convergence training iteration #0\n",
      "nlms MSE = 0.633765.\n",
      "nlms pre-convergence training iteration #1\n",
      "nlms MSE = 0.620913.\n",
      "nlms pre-convergence training iteration #2\n",
      "nlms MSE = 0.617589.\n",
      "nlms pre-convergence training iteration #3\n",
      "nlms MSE = 0.615411.\n",
      "nlms pre-convergence training iteration #4\n",
      "nlms MSE = 0.613874.\n",
      "\n",
      "\n",
      "dd-lms - training stage #1\n",
      "dd-lms MSE = 0.066916.\n",
      "Results:\n",
      "\n",
      "SER: 9.36e-01\n",
      "BER: 4.99e-01\n",
      "SNR: 0.00 dB\n",
      "MI: -0.33 bits\n",
      "GMI: 0.00 bits\n",
      "channel 0\t fc : 193.1000 THz\n",
      "  mode #0\t power: 0.00 dBm\n",
      "channel 0\t power: 0.00 dBm\n",
      "\n",
      "total WDM signal power: 0.00 dBm\n",
      "CSPR = 9.00 dB\n",
      "\n",
      "\n",
      "nlms - training stage #0\n"
     ]
    },
    {
     "data": {
      "application/vnd.jupyter.widget-view+json": {
       "model_id": "68241c3cee444d2ba436baae333430da",
       "version_major": 2,
       "version_minor": 0
      },
      "text/plain": [
       "  0%|          | 0/5 [00:00<?, ?it/s]"
      ]
     },
     "metadata": {},
     "output_type": "display_data"
    },
    {
     "name": "stdout",
     "output_type": "stream",
     "text": [
      "nlms pre-convergence training iteration #0\n",
      "nlms MSE = 0.627949.\n",
      "nlms pre-convergence training iteration #1\n",
      "nlms MSE = 0.617381.\n",
      "nlms pre-convergence training iteration #2\n",
      "nlms MSE = 0.614235.\n",
      "nlms pre-convergence training iteration #3\n",
      "nlms MSE = 0.612110.\n",
      "nlms pre-convergence training iteration #4\n",
      "nlms MSE = 0.610593.\n",
      "\n",
      "\n",
      "dd-lms - training stage #1\n",
      "dd-lms MSE = 0.066893.\n",
      "Results:\n",
      "\n",
      "SER: 9.36e-01\n",
      "BER: 4.96e-01\n",
      "SNR: 0.00 dB\n",
      "MI: -0.32 bits\n",
      "GMI: 0.00 bits\n",
      "channel 0\t fc : 193.1000 THz\n",
      "  mode #0\t power: 0.00 dBm\n",
      "channel 0\t power: 0.00 dBm\n",
      "\n",
      "total WDM signal power: 0.00 dBm\n",
      "CSPR = 9.00 dB\n",
      "\n",
      "\n",
      "nlms - training stage #0\n"
     ]
    },
    {
     "data": {
      "application/vnd.jupyter.widget-view+json": {
       "model_id": "c42bde5ec2674b6fae3f7471fa0778ac",
       "version_major": 2,
       "version_minor": 0
      },
      "text/plain": [
       "  0%|          | 0/5 [00:00<?, ?it/s]"
      ]
     },
     "metadata": {},
     "output_type": "display_data"
    },
    {
     "name": "stdout",
     "output_type": "stream",
     "text": [
      "nlms pre-convergence training iteration #0\n",
      "nlms MSE = 0.634894.\n",
      "nlms pre-convergence training iteration #1\n",
      "nlms MSE = 0.627959.\n",
      "nlms pre-convergence training iteration #2\n",
      "nlms MSE = 0.624536.\n",
      "nlms pre-convergence training iteration #3\n",
      "nlms MSE = 0.622151.\n",
      "nlms pre-convergence training iteration #4\n",
      "nlms MSE = 0.620433.\n",
      "\n",
      "\n",
      "dd-lms - training stage #1\n",
      "dd-lms MSE = 0.067056.\n",
      "Results:\n",
      "\n",
      "SER: 9.35e-01\n",
      "BER: 4.95e-01\n",
      "SNR: 0.01 dB\n",
      "MI: -0.31 bits\n",
      "GMI: 0.00 bits\n",
      "channel 0\t fc : 193.1000 THz\n",
      "  mode #0\t power: 0.00 dBm\n",
      "channel 0\t power: -0.00 dBm\n",
      "\n",
      "total WDM signal power: -0.00 dBm\n",
      "CSPR = 9.00 dB\n",
      "\n",
      "\n",
      "nlms - training stage #0\n"
     ]
    },
    {
     "data": {
      "application/vnd.jupyter.widget-view+json": {
       "model_id": "7ce1ca62befb4964b77fd39f111be0f2",
       "version_major": 2,
       "version_minor": 0
      },
      "text/plain": [
       "  0%|          | 0/5 [00:00<?, ?it/s]"
      ]
     },
     "metadata": {},
     "output_type": "display_data"
    },
    {
     "name": "stdout",
     "output_type": "stream",
     "text": [
      "nlms pre-convergence training iteration #0\n",
      "nlms MSE = 0.630864.\n",
      "nlms pre-convergence training iteration #1\n",
      "nlms MSE = 0.625216.\n",
      "nlms pre-convergence training iteration #2\n",
      "nlms MSE = 0.621495.\n",
      "nlms pre-convergence training iteration #3\n",
      "nlms MSE = 0.618935.\n",
      "nlms pre-convergence training iteration #4\n",
      "nlms MSE = 0.617112.\n",
      "\n",
      "\n",
      "dd-lms - training stage #1\n",
      "dd-lms MSE = 0.066777.\n",
      "Results:\n",
      "\n",
      "SER: 9.35e-01\n",
      "BER: 4.96e-01\n",
      "SNR: 0.01 dB\n",
      "MI: -0.31 bits\n",
      "GMI: 0.00 bits\n",
      "channel 0\t fc : 193.1000 THz\n",
      "  mode #0\t power: 0.00 dBm\n",
      "channel 0\t power: -0.00 dBm\n",
      "\n",
      "total WDM signal power: -0.00 dBm\n",
      "CSPR = 9.00 dB\n",
      "\n",
      "\n",
      "nlms - training stage #0\n"
     ]
    },
    {
     "data": {
      "application/vnd.jupyter.widget-view+json": {
       "model_id": "864ef2035b3744a3aacd803cbdc98fc3",
       "version_major": 2,
       "version_minor": 0
      },
      "text/plain": [
       "  0%|          | 0/5 [00:00<?, ?it/s]"
      ]
     },
     "metadata": {},
     "output_type": "display_data"
    },
    {
     "name": "stdout",
     "output_type": "stream",
     "text": [
      "nlms pre-convergence training iteration #0\n",
      "nlms MSE = 0.630884.\n",
      "nlms pre-convergence training iteration #1\n",
      "nlms MSE = 0.620356.\n",
      "nlms pre-convergence training iteration #2\n",
      "nlms MSE = 0.617185.\n",
      "nlms pre-convergence training iteration #3\n",
      "nlms MSE = 0.614987.\n",
      "nlms pre-convergence training iteration #4\n",
      "nlms MSE = 0.613365.\n",
      "\n",
      "\n",
      "dd-lms - training stage #1\n",
      "dd-lms MSE = 0.066946.\n",
      "Results:\n",
      "\n",
      "SER: 9.36e-01\n",
      "BER: 4.98e-01\n",
      "SNR: 0.00 dB\n",
      "MI: -0.34 bits\n",
      "GMI: 0.00 bits\n",
      "channel 0\t fc : 193.1000 THz\n",
      "  mode #0\t power: 0.00 dBm\n",
      "channel 0\t power: -0.00 dBm\n",
      "\n",
      "total WDM signal power: -0.00 dBm\n",
      "CSPR = 9.00 dB\n",
      "\n",
      "\n",
      "nlms - training stage #0\n"
     ]
    },
    {
     "data": {
      "application/vnd.jupyter.widget-view+json": {
       "model_id": "71cd69c263344f839208cbad614b2a8f",
       "version_major": 2,
       "version_minor": 0
      },
      "text/plain": [
       "  0%|          | 0/5 [00:00<?, ?it/s]"
      ]
     },
     "metadata": {},
     "output_type": "display_data"
    },
    {
     "name": "stdout",
     "output_type": "stream",
     "text": [
      "nlms pre-convergence training iteration #0\n",
      "nlms MSE = 0.623285.\n",
      "nlms pre-convergence training iteration #1\n",
      "nlms MSE = 0.611027.\n",
      "nlms pre-convergence training iteration #2\n",
      "nlms MSE = 0.607623.\n",
      "nlms pre-convergence training iteration #3\n",
      "nlms MSE = 0.605332.\n",
      "nlms pre-convergence training iteration #4\n",
      "nlms MSE = 0.603720.\n",
      "\n",
      "\n",
      "dd-lms - training stage #1\n",
      "dd-lms MSE = 0.067285.\n",
      "Results:\n",
      "\n",
      "SER: 9.36e-01\n",
      "BER: 4.97e-01\n",
      "SNR: 0.00 dB\n",
      "MI: -0.32 bits\n",
      "GMI: 0.00 bits\n",
      "channel 0\t fc : 193.1000 THz\n",
      "  mode #0\t power: 0.00 dBm\n",
      "channel 0\t power: 0.00 dBm\n",
      "\n",
      "total WDM signal power: 0.00 dBm\n",
      "CSPR = 9.00 dB\n",
      "\n",
      "\n",
      "nlms - training stage #0\n"
     ]
    },
    {
     "data": {
      "application/vnd.jupyter.widget-view+json": {
       "model_id": "e52fd50196ec4f9fb6146a05802bd333",
       "version_major": 2,
       "version_minor": 0
      },
      "text/plain": [
       "  0%|          | 0/5 [00:00<?, ?it/s]"
      ]
     },
     "metadata": {},
     "output_type": "display_data"
    },
    {
     "name": "stdout",
     "output_type": "stream",
     "text": [
      "nlms pre-convergence training iteration #0\n",
      "nlms MSE = 0.627915.\n",
      "nlms pre-convergence training iteration #1\n",
      "nlms MSE = 0.615747.\n",
      "nlms pre-convergence training iteration #2\n",
      "nlms MSE = 0.612042.\n",
      "nlms pre-convergence training iteration #3\n",
      "nlms MSE = 0.609637.\n",
      "nlms pre-convergence training iteration #4\n",
      "nlms MSE = 0.607968.\n",
      "\n",
      "\n",
      "dd-lms - training stage #1\n",
      "dd-lms MSE = 0.066900.\n",
      "Results:\n",
      "\n",
      "SER: 9.36e-01\n",
      "BER: 4.98e-01\n",
      "SNR: 0.00 dB\n",
      "MI: -0.33 bits\n",
      "GMI: 0.00 bits\n",
      "channel 0\t fc : 193.1000 THz\n",
      "  mode #0\t power: 0.00 dBm\n",
      "channel 0\t power: -0.00 dBm\n",
      "\n",
      "total WDM signal power: -0.00 dBm\n",
      "CSPR = 9.00 dB\n",
      "\n",
      "\n",
      "nlms - training stage #0\n"
     ]
    },
    {
     "data": {
      "application/vnd.jupyter.widget-view+json": {
       "model_id": "652723df99db45b6ad3a3eb6867867cf",
       "version_major": 2,
       "version_minor": 0
      },
      "text/plain": [
       "  0%|          | 0/5 [00:00<?, ?it/s]"
      ]
     },
     "metadata": {},
     "output_type": "display_data"
    },
    {
     "name": "stdout",
     "output_type": "stream",
     "text": [
      "nlms pre-convergence training iteration #0\n",
      "nlms MSE = 0.636169.\n",
      "nlms pre-convergence training iteration #1\n",
      "nlms MSE = 0.630693.\n",
      "nlms pre-convergence training iteration #2\n",
      "nlms MSE = 0.626973.\n",
      "nlms pre-convergence training iteration #3\n",
      "nlms MSE = 0.624502.\n",
      "nlms pre-convergence training iteration #4\n",
      "nlms MSE = 0.622804.\n",
      "\n",
      "\n",
      "dd-lms - training stage #1\n",
      "dd-lms MSE = 0.067101.\n",
      "Results:\n",
      "\n",
      "SER: 9.34e-01\n",
      "BER: 4.97e-01\n",
      "SNR: 0.00 dB\n",
      "MI: -0.33 bits\n",
      "GMI: 0.00 bits\n",
      "channel 0\t fc : 193.1000 THz\n",
      "  mode #0\t power: 0.00 dBm\n",
      "channel 0\t power: -0.00 dBm\n",
      "\n",
      "total WDM signal power: -0.00 dBm\n",
      "CSPR = 9.00 dB\n",
      "\n",
      "\n",
      "nlms - training stage #0\n"
     ]
    },
    {
     "data": {
      "application/vnd.jupyter.widget-view+json": {
       "model_id": "9df3888c19b04ef7903aa53bd8738e47",
       "version_major": 2,
       "version_minor": 0
      },
      "text/plain": [
       "  0%|          | 0/5 [00:00<?, ?it/s]"
      ]
     },
     "metadata": {},
     "output_type": "display_data"
    },
    {
     "name": "stdout",
     "output_type": "stream",
     "text": [
      "nlms pre-convergence training iteration #0\n",
      "nlms MSE = 0.627204.\n",
      "nlms pre-convergence training iteration #1\n",
      "nlms MSE = 0.614953.\n",
      "nlms pre-convergence training iteration #2\n",
      "nlms MSE = 0.611111.\n",
      "nlms pre-convergence training iteration #3\n",
      "nlms MSE = 0.608486.\n",
      "nlms pre-convergence training iteration #4\n",
      "nlms MSE = 0.606579.\n",
      "\n",
      "\n",
      "dd-lms - training stage #1\n",
      "dd-lms MSE = 0.067004.\n",
      "Results:\n",
      "\n",
      "SER: 9.34e-01\n",
      "BER: 4.95e-01\n",
      "SNR: 0.00 dB\n",
      "MI: -0.32 bits\n",
      "GMI: 0.00 bits\n",
      "channel 0\t fc : 193.1000 THz\n",
      "  mode #0\t power: 0.00 dBm\n",
      "channel 0\t power: -0.00 dBm\n",
      "\n",
      "total WDM signal power: -0.00 dBm\n",
      "CSPR = 9.00 dB\n",
      "\n",
      "\n",
      "nlms - training stage #0\n"
     ]
    },
    {
     "data": {
      "application/vnd.jupyter.widget-view+json": {
       "model_id": "8714dfd969e84eb2a858d8708b08cc4f",
       "version_major": 2,
       "version_minor": 0
      },
      "text/plain": [
       "  0%|          | 0/5 [00:00<?, ?it/s]"
      ]
     },
     "metadata": {},
     "output_type": "display_data"
    },
    {
     "name": "stdout",
     "output_type": "stream",
     "text": [
      "nlms pre-convergence training iteration #0\n",
      "nlms MSE = 0.635552.\n",
      "nlms pre-convergence training iteration #1\n",
      "nlms MSE = 0.624643.\n",
      "nlms pre-convergence training iteration #2\n",
      "nlms MSE = 0.621295.\n",
      "nlms pre-convergence training iteration #3\n",
      "nlms MSE = 0.619014.\n",
      "nlms pre-convergence training iteration #4\n",
      "nlms MSE = 0.617357.\n",
      "\n",
      "\n",
      "dd-lms - training stage #1\n",
      "dd-lms MSE = 0.066876.\n",
      "Results:\n",
      "\n",
      "SER: 9.35e-01\n",
      "BER: 4.96e-01\n",
      "SNR: 0.01 dB\n",
      "MI: -0.30 bits\n",
      "GMI: 0.00 bits\n",
      "channel 0\t fc : 193.1000 THz\n",
      "  mode #0\t power: 0.00 dBm\n",
      "channel 0\t power: -0.00 dBm\n",
      "\n",
      "total WDM signal power: -0.00 dBm\n",
      "CSPR = 9.00 dB\n",
      "\n",
      "\n",
      "nlms - training stage #0\n"
     ]
    },
    {
     "data": {
      "application/vnd.jupyter.widget-view+json": {
       "model_id": "9acf02e2977c4792bec012e74c74f5f6",
       "version_major": 2,
       "version_minor": 0
      },
      "text/plain": [
       "  0%|          | 0/5 [00:00<?, ?it/s]"
      ]
     },
     "metadata": {},
     "output_type": "display_data"
    },
    {
     "name": "stdout",
     "output_type": "stream",
     "text": [
      "nlms pre-convergence training iteration #0\n",
      "nlms MSE = 0.638096.\n",
      "nlms pre-convergence training iteration #1\n",
      "nlms MSE = 0.628176.\n",
      "nlms pre-convergence training iteration #2\n",
      "nlms MSE = 0.624459.\n",
      "nlms pre-convergence training iteration #3\n",
      "nlms MSE = 0.621934.\n",
      "nlms pre-convergence training iteration #4\n",
      "nlms MSE = 0.620131.\n",
      "\n",
      "\n",
      "dd-lms - training stage #1\n",
      "dd-lms MSE = 0.067098.\n",
      "Results:\n",
      "\n",
      "SER: 9.35e-01\n",
      "BER: 4.98e-01\n",
      "SNR: 0.00 dB\n",
      "MI: -0.33 bits\n",
      "GMI: 0.00 bits\n",
      "channel 0\t fc : 193.1000 THz\n",
      "  mode #0\t power: 0.00 dBm\n",
      "channel 0\t power: 0.00 dBm\n",
      "\n",
      "total WDM signal power: 0.00 dBm\n",
      "CSPR = 9.00 dB\n",
      "\n",
      "\n",
      "nlms - training stage #0\n"
     ]
    },
    {
     "data": {
      "application/vnd.jupyter.widget-view+json": {
       "model_id": "7ed2dcdeb7af449f84dfe7214d76a1da",
       "version_major": 2,
       "version_minor": 0
      },
      "text/plain": [
       "  0%|          | 0/5 [00:00<?, ?it/s]"
      ]
     },
     "metadata": {},
     "output_type": "display_data"
    },
    {
     "name": "stdout",
     "output_type": "stream",
     "text": [
      "nlms pre-convergence training iteration #0\n",
      "nlms MSE = 0.632234.\n",
      "nlms pre-convergence training iteration #1\n",
      "nlms MSE = 0.626100.\n",
      "nlms pre-convergence training iteration #2\n",
      "nlms MSE = 0.622986.\n",
      "nlms pre-convergence training iteration #3\n",
      "nlms MSE = 0.620785.\n",
      "nlms pre-convergence training iteration #4\n",
      "nlms MSE = 0.619187.\n",
      "\n",
      "\n",
      "dd-lms - training stage #1\n",
      "dd-lms MSE = 0.066874.\n",
      "Results:\n",
      "\n",
      "SER: 9.35e-01\n",
      "BER: 4.97e-01\n",
      "SNR: 0.00 dB\n",
      "MI: -0.33 bits\n",
      "GMI: 0.00 bits\n",
      "channel 0\t fc : 193.1000 THz\n",
      "  mode #0\t power: 0.00 dBm\n",
      "channel 0\t power: 0.00 dBm\n",
      "\n",
      "total WDM signal power: 0.00 dBm\n",
      "CSPR = 9.00 dB\n",
      "\n",
      "\n",
      "nlms - training stage #0\n"
     ]
    },
    {
     "data": {
      "application/vnd.jupyter.widget-view+json": {
       "model_id": "7b198a9d4d4841a89fde9a3dfef1e40f",
       "version_major": 2,
       "version_minor": 0
      },
      "text/plain": [
       "  0%|          | 0/5 [00:00<?, ?it/s]"
      ]
     },
     "metadata": {},
     "output_type": "display_data"
    },
    {
     "name": "stdout",
     "output_type": "stream",
     "text": [
      "nlms pre-convergence training iteration #0\n",
      "nlms MSE = 0.626277.\n",
      "nlms pre-convergence training iteration #1\n",
      "nlms MSE = 0.614523.\n",
      "nlms pre-convergence training iteration #2\n",
      "nlms MSE = 0.611064.\n",
      "nlms pre-convergence training iteration #3\n",
      "nlms MSE = 0.608764.\n",
      "nlms pre-convergence training iteration #4\n",
      "nlms MSE = 0.607130.\n",
      "\n",
      "\n",
      "dd-lms - training stage #1\n",
      "dd-lms MSE = 0.066882.\n",
      "Results:\n",
      "\n",
      "SER: 9.37e-01\n",
      "BER: 4.99e-01\n",
      "SNR: 0.00 dB\n",
      "MI: -0.33 bits\n",
      "GMI: 0.00 bits\n",
      "channel 0\t fc : 193.1000 THz\n",
      "  mode #0\t power: 0.00 dBm\n",
      "channel 0\t power: -0.00 dBm\n",
      "\n",
      "total WDM signal power: -0.00 dBm\n",
      "CSPR = 9.00 dB\n",
      "\n",
      "\n",
      "nlms - training stage #0\n"
     ]
    },
    {
     "data": {
      "application/vnd.jupyter.widget-view+json": {
       "model_id": "00dc8450c81747ecbbf51e426c59a5d4",
       "version_major": 2,
       "version_minor": 0
      },
      "text/plain": [
       "  0%|          | 0/5 [00:00<?, ?it/s]"
      ]
     },
     "metadata": {},
     "output_type": "display_data"
    },
    {
     "name": "stdout",
     "output_type": "stream",
     "text": [
      "nlms pre-convergence training iteration #0\n",
      "nlms MSE = 0.633259.\n",
      "nlms pre-convergence training iteration #1\n",
      "nlms MSE = 0.621642.\n",
      "nlms pre-convergence training iteration #2\n",
      "nlms MSE = 0.618078.\n",
      "nlms pre-convergence training iteration #3\n",
      "nlms MSE = 0.615694.\n",
      "nlms pre-convergence training iteration #4\n",
      "nlms MSE = 0.613986.\n",
      "\n",
      "\n",
      "dd-lms - training stage #1\n",
      "dd-lms MSE = 0.066944.\n",
      "Results:\n",
      "\n",
      "SER: 9.35e-01\n",
      "BER: 4.97e-01\n",
      "SNR: 0.00 dB\n",
      "MI: -0.32 bits\n",
      "GMI: 0.00 bits\n",
      "channel 0\t fc : 193.1000 THz\n",
      "  mode #0\t power: 0.00 dBm\n",
      "channel 0\t power: -0.00 dBm\n",
      "\n",
      "total WDM signal power: -0.00 dBm\n",
      "CSPR = 9.00 dB\n",
      "\n",
      "\n",
      "nlms - training stage #0\n"
     ]
    },
    {
     "data": {
      "application/vnd.jupyter.widget-view+json": {
       "model_id": "b1c7e3bb9e064d52bd5201614a28630e",
       "version_major": 2,
       "version_minor": 0
      },
      "text/plain": [
       "  0%|          | 0/5 [00:00<?, ?it/s]"
      ]
     },
     "metadata": {},
     "output_type": "display_data"
    },
    {
     "name": "stdout",
     "output_type": "stream",
     "text": [
      "nlms pre-convergence training iteration #0\n",
      "nlms MSE = 0.635454.\n",
      "nlms pre-convergence training iteration #1\n",
      "nlms MSE = 0.623463.\n",
      "nlms pre-convergence training iteration #2\n",
      "nlms MSE = 0.619587.\n",
      "nlms pre-convergence training iteration #3\n",
      "nlms MSE = 0.616946.\n",
      "nlms pre-convergence training iteration #4\n",
      "nlms MSE = 0.615045.\n",
      "\n",
      "\n",
      "dd-lms - training stage #1\n",
      "dd-lms MSE = 0.066953.\n",
      "Results:\n",
      "\n",
      "SER: 9.35e-01\n",
      "BER: 4.97e-01\n",
      "SNR: 0.00 dB\n",
      "MI: -0.32 bits\n",
      "GMI: 0.00 bits\n",
      "channel 0\t fc : 193.1000 THz\n",
      "  mode #0\t power: 0.00 dBm\n",
      "channel 0\t power: -0.00 dBm\n",
      "\n",
      "total WDM signal power: -0.00 dBm\n",
      "CSPR = 9.00 dB\n",
      "\n",
      "\n",
      "nlms - training stage #0\n"
     ]
    },
    {
     "data": {
      "application/vnd.jupyter.widget-view+json": {
       "model_id": "d3144499cc73497ebbf15ffcfd742c21",
       "version_major": 2,
       "version_minor": 0
      },
      "text/plain": [
       "  0%|          | 0/5 [00:00<?, ?it/s]"
      ]
     },
     "metadata": {},
     "output_type": "display_data"
    },
    {
     "name": "stdout",
     "output_type": "stream",
     "text": [
      "nlms pre-convergence training iteration #0\n",
      "nlms MSE = 0.630195.\n",
      "nlms pre-convergence training iteration #1\n",
      "nlms MSE = 0.617959.\n",
      "nlms pre-convergence training iteration #2\n",
      "nlms MSE = 0.614145.\n",
      "nlms pre-convergence training iteration #3\n",
      "nlms MSE = 0.611603.\n",
      "nlms pre-convergence training iteration #4\n",
      "nlms MSE = 0.609817.\n",
      "\n",
      "\n",
      "dd-lms - training stage #1\n",
      "dd-lms MSE = 0.066986.\n",
      "Results:\n",
      "\n",
      "SER: 9.38e-01\n",
      "BER: 4.98e-01\n",
      "SNR: 0.00 dB\n",
      "MI: -0.34 bits\n",
      "GMI: 0.00 bits\n",
      "channel 0\t fc : 193.1000 THz\n",
      "  mode #0\t power: 0.00 dBm\n",
      "channel 0\t power: -0.00 dBm\n",
      "\n",
      "total WDM signal power: -0.00 dBm\n",
      "CSPR = 9.00 dB\n",
      "\n",
      "\n",
      "nlms - training stage #0\n"
     ]
    },
    {
     "data": {
      "application/vnd.jupyter.widget-view+json": {
       "model_id": "6b47878e40914382958e635fc3501674",
       "version_major": 2,
       "version_minor": 0
      },
      "text/plain": [
       "  0%|          | 0/5 [00:00<?, ?it/s]"
      ]
     },
     "metadata": {},
     "output_type": "display_data"
    },
    {
     "name": "stdout",
     "output_type": "stream",
     "text": [
      "nlms pre-convergence training iteration #0\n",
      "nlms MSE = 0.631058.\n",
      "nlms pre-convergence training iteration #1\n",
      "nlms MSE = 0.619414.\n",
      "nlms pre-convergence training iteration #2\n",
      "nlms MSE = 0.615893.\n",
      "nlms pre-convergence training iteration #3\n",
      "nlms MSE = 0.613610.\n",
      "nlms pre-convergence training iteration #4\n",
      "nlms MSE = 0.612036.\n",
      "\n",
      "\n",
      "dd-lms - training stage #1\n",
      "dd-lms MSE = 0.066870.\n",
      "Results:\n",
      "\n",
      "SER: 9.37e-01\n",
      "BER: 5.00e-01\n",
      "SNR: 0.00 dB\n",
      "MI: -0.33 bits\n",
      "GMI: 0.00 bits\n",
      "channel 0\t fc : 193.1000 THz\n",
      "  mode #0\t power: 0.00 dBm\n",
      "channel 0\t power: -0.00 dBm\n",
      "\n",
      "total WDM signal power: -0.00 dBm\n",
      "CSPR = 9.00 dB\n",
      "\n",
      "\n",
      "nlms - training stage #0\n"
     ]
    },
    {
     "data": {
      "application/vnd.jupyter.widget-view+json": {
       "model_id": "5407126ce08c45808106ec898b01a257",
       "version_major": 2,
       "version_minor": 0
      },
      "text/plain": [
       "  0%|          | 0/5 [00:00<?, ?it/s]"
      ]
     },
     "metadata": {},
     "output_type": "display_data"
    },
    {
     "name": "stdout",
     "output_type": "stream",
     "text": [
      "nlms pre-convergence training iteration #0\n",
      "nlms MSE = 0.622044.\n",
      "nlms pre-convergence training iteration #1\n",
      "nlms MSE = 0.610042.\n",
      "nlms pre-convergence training iteration #2\n",
      "nlms MSE = 0.606548.\n",
      "nlms pre-convergence training iteration #3\n",
      "nlms MSE = 0.604113.\n",
      "nlms pre-convergence training iteration #4\n",
      "nlms MSE = 0.602297.\n",
      "\n",
      "\n",
      "dd-lms - training stage #1\n",
      "dd-lms MSE = 0.066737.\n",
      "Results:\n",
      "\n",
      "SER: 9.37e-01\n",
      "BER: 4.99e-01\n",
      "SNR: -0.00 dB\n",
      "MI: -0.34 bits\n",
      "GMI: -0.00 bits\n",
      "channel 0\t fc : 193.1000 THz\n",
      "  mode #0\t power: 0.00 dBm\n",
      "channel 0\t power: 0.00 dBm\n",
      "\n",
      "total WDM signal power: 0.00 dBm\n",
      "CSPR = 9.00 dB\n",
      "\n",
      "\n",
      "nlms - training stage #0\n"
     ]
    },
    {
     "data": {
      "application/vnd.jupyter.widget-view+json": {
       "model_id": "0576d7c8f825454491799fc405bf303e",
       "version_major": 2,
       "version_minor": 0
      },
      "text/plain": [
       "  0%|          | 0/5 [00:00<?, ?it/s]"
      ]
     },
     "metadata": {},
     "output_type": "display_data"
    },
    {
     "name": "stdout",
     "output_type": "stream",
     "text": [
      "nlms pre-convergence training iteration #0\n",
      "nlms MSE = 0.634236.\n",
      "nlms pre-convergence training iteration #1\n",
      "nlms MSE = 0.625913.\n",
      "nlms pre-convergence training iteration #2\n",
      "nlms MSE = 0.622207.\n",
      "nlms pre-convergence training iteration #3\n",
      "nlms MSE = 0.619741.\n",
      "nlms pre-convergence training iteration #4\n",
      "nlms MSE = 0.618031.\n",
      "\n",
      "\n",
      "dd-lms - training stage #1\n",
      "dd-lms MSE = 0.066943.\n",
      "Results:\n",
      "\n",
      "SER: 9.36e-01\n",
      "BER: 4.97e-01\n",
      "SNR: 0.00 dB\n",
      "MI: -0.32 bits\n",
      "GMI: 0.00 bits\n",
      "channel 0\t fc : 193.1000 THz\n",
      "  mode #0\t power: 0.00 dBm\n",
      "channel 0\t power: 0.00 dBm\n",
      "\n",
      "total WDM signal power: 0.00 dBm\n",
      "CSPR = 9.00 dB\n",
      "\n",
      "\n",
      "nlms - training stage #0\n"
     ]
    },
    {
     "data": {
      "application/vnd.jupyter.widget-view+json": {
       "model_id": "9c279ba7ee404c40868a28906bf3543d",
       "version_major": 2,
       "version_minor": 0
      },
      "text/plain": [
       "  0%|          | 0/5 [00:00<?, ?it/s]"
      ]
     },
     "metadata": {},
     "output_type": "display_data"
    },
    {
     "name": "stdout",
     "output_type": "stream",
     "text": [
      "nlms pre-convergence training iteration #0\n",
      "nlms MSE = 0.631620.\n",
      "nlms pre-convergence training iteration #1\n",
      "nlms MSE = 0.620379.\n",
      "nlms pre-convergence training iteration #2\n",
      "nlms MSE = 0.616545.\n",
      "nlms pre-convergence training iteration #3\n",
      "nlms MSE = 0.614031.\n",
      "nlms pre-convergence training iteration #4\n",
      "nlms MSE = 0.612275.\n",
      "\n",
      "\n",
      "dd-lms - training stage #1\n",
      "dd-lms MSE = 0.067203.\n",
      "Results:\n",
      "\n",
      "SER: 9.37e-01\n",
      "BER: 4.99e-01\n",
      "SNR: 0.00 dB\n",
      "MI: -0.33 bits\n",
      "GMI: 0.00 bits\n",
      "channel 0\t fc : 193.1000 THz\n",
      "  mode #0\t power: 0.00 dBm\n",
      "channel 0\t power: -0.00 dBm\n",
      "\n",
      "total WDM signal power: -0.00 dBm\n",
      "CSPR = 9.00 dB\n",
      "\n",
      "\n",
      "nlms - training stage #0\n"
     ]
    },
    {
     "data": {
      "application/vnd.jupyter.widget-view+json": {
       "model_id": "71e83265488b4101a9ce97d3e9b8514e",
       "version_major": 2,
       "version_minor": 0
      },
      "text/plain": [
       "  0%|          | 0/5 [00:00<?, ?it/s]"
      ]
     },
     "metadata": {},
     "output_type": "display_data"
    },
    {
     "name": "stdout",
     "output_type": "stream",
     "text": [
      "nlms pre-convergence training iteration #0\n",
      "nlms MSE = 0.622955.\n",
      "nlms pre-convergence training iteration #1\n",
      "nlms MSE = 0.611731.\n",
      "nlms pre-convergence training iteration #2\n",
      "nlms MSE = 0.608197.\n",
      "nlms pre-convergence training iteration #3\n",
      "nlms MSE = 0.605850.\n",
      "nlms pre-convergence training iteration #4\n",
      "nlms MSE = 0.604176.\n",
      "\n",
      "\n",
      "dd-lms - training stage #1\n",
      "dd-lms MSE = 0.066990.\n",
      "Results:\n",
      "\n",
      "SER: 9.35e-01\n",
      "BER: 4.97e-01\n",
      "SNR: 0.00 dB\n",
      "MI: -0.33 bits\n",
      "GMI: 0.00 bits\n",
      "channel 0\t fc : 193.1000 THz\n",
      "  mode #0\t power: 0.00 dBm\n",
      "channel 0\t power: -0.00 dBm\n",
      "\n",
      "total WDM signal power: -0.00 dBm\n",
      "CSPR = 9.00 dB\n",
      "\n",
      "\n",
      "nlms - training stage #0\n"
     ]
    },
    {
     "data": {
      "application/vnd.jupyter.widget-view+json": {
       "model_id": "e1a7c3da01bb44959f482157c0d46076",
       "version_major": 2,
       "version_minor": 0
      },
      "text/plain": [
       "  0%|          | 0/5 [00:00<?, ?it/s]"
      ]
     },
     "metadata": {},
     "output_type": "display_data"
    },
    {
     "name": "stdout",
     "output_type": "stream",
     "text": [
      "nlms pre-convergence training iteration #0\n",
      "nlms MSE = 0.636408.\n",
      "nlms pre-convergence training iteration #1\n",
      "nlms MSE = 0.626665.\n",
      "nlms pre-convergence training iteration #2\n",
      "nlms MSE = 0.623216.\n",
      "nlms pre-convergence training iteration #3\n",
      "nlms MSE = 0.620883.\n",
      "nlms pre-convergence training iteration #4\n",
      "nlms MSE = 0.619224.\n",
      "\n",
      "\n",
      "dd-lms - training stage #1\n",
      "dd-lms MSE = 0.066961.\n",
      "Results:\n",
      "\n",
      "SER: 9.37e-01\n",
      "BER: 4.97e-01\n",
      "SNR: 0.00 dB\n",
      "MI: -0.33 bits\n",
      "GMI: 0.00 bits\n",
      "channel 0\t fc : 193.1000 THz\n",
      "  mode #0\t power: 0.00 dBm\n",
      "channel 0\t power: 0.00 dBm\n",
      "\n",
      "total WDM signal power: 0.00 dBm\n",
      "CSPR = 9.00 dB\n",
      "\n",
      "\n",
      "nlms - training stage #0\n"
     ]
    },
    {
     "data": {
      "application/vnd.jupyter.widget-view+json": {
       "model_id": "89daebb0a9ff4d899e7fdbe56749374d",
       "version_major": 2,
       "version_minor": 0
      },
      "text/plain": [
       "  0%|          | 0/5 [00:00<?, ?it/s]"
      ]
     },
     "metadata": {},
     "output_type": "display_data"
    },
    {
     "name": "stdout",
     "output_type": "stream",
     "text": [
      "nlms pre-convergence training iteration #0\n",
      "nlms MSE = 0.632183.\n",
      "nlms pre-convergence training iteration #1\n",
      "nlms MSE = 0.620806.\n",
      "nlms pre-convergence training iteration #2\n",
      "nlms MSE = 0.617336.\n",
      "nlms pre-convergence training iteration #3\n",
      "nlms MSE = 0.614941.\n",
      "nlms pre-convergence training iteration #4\n",
      "nlms MSE = 0.613206.\n",
      "\n",
      "\n",
      "dd-lms - training stage #1\n",
      "dd-lms MSE = 0.067019.\n",
      "Results:\n",
      "\n",
      "SER: 9.36e-01\n",
      "BER: 4.99e-01\n",
      "SNR: -0.00 dB\n",
      "MI: -0.34 bits\n",
      "GMI: 0.00 bits\n",
      "channel 0\t fc : 193.1000 THz\n",
      "  mode #0\t power: 0.00 dBm\n",
      "channel 0\t power: 0.00 dBm\n",
      "\n",
      "total WDM signal power: 0.00 dBm\n",
      "CSPR = 9.00 dB\n",
      "\n",
      "\n",
      "nlms - training stage #0\n"
     ]
    },
    {
     "data": {
      "application/vnd.jupyter.widget-view+json": {
       "model_id": "d727d68516fd445dad91abdb46cab222",
       "version_major": 2,
       "version_minor": 0
      },
      "text/plain": [
       "  0%|          | 0/5 [00:00<?, ?it/s]"
      ]
     },
     "metadata": {},
     "output_type": "display_data"
    },
    {
     "name": "stdout",
     "output_type": "stream",
     "text": [
      "nlms pre-convergence training iteration #0\n",
      "nlms MSE = 0.636056.\n",
      "nlms pre-convergence training iteration #1\n",
      "nlms MSE = 0.624354.\n",
      "nlms pre-convergence training iteration #2\n",
      "nlms MSE = 0.620949.\n",
      "nlms pre-convergence training iteration #3\n",
      "nlms MSE = 0.618710.\n",
      "nlms pre-convergence training iteration #4\n",
      "nlms MSE = 0.617140.\n",
      "\n",
      "\n",
      "dd-lms - training stage #1\n",
      "dd-lms MSE = 0.066951.\n",
      "Results:\n",
      "\n",
      "SER: 9.38e-01\n",
      "BER: 5.00e-01\n",
      "SNR: -0.00 dB\n",
      "MI: -0.34 bits\n",
      "GMI: 0.00 bits\n",
      "channel 0\t fc : 193.1000 THz\n",
      "  mode #0\t power: 0.00 dBm\n",
      "channel 0\t power: 0.00 dBm\n",
      "\n",
      "total WDM signal power: 0.00 dBm\n",
      "CSPR = 9.00 dB\n",
      "\n",
      "\n",
      "nlms - training stage #0\n"
     ]
    },
    {
     "data": {
      "application/vnd.jupyter.widget-view+json": {
       "model_id": "8a428b642ac346b883d9f3ad2d9375b8",
       "version_major": 2,
       "version_minor": 0
      },
      "text/plain": [
       "  0%|          | 0/5 [00:00<?, ?it/s]"
      ]
     },
     "metadata": {},
     "output_type": "display_data"
    },
    {
     "name": "stdout",
     "output_type": "stream",
     "text": [
      "nlms pre-convergence training iteration #0\n",
      "nlms MSE = 0.624856.\n",
      "nlms pre-convergence training iteration #1\n",
      "nlms MSE = 0.615428.\n",
      "nlms pre-convergence training iteration #2\n",
      "nlms MSE = 0.612390.\n",
      "nlms pre-convergence training iteration #3\n",
      "nlms MSE = 0.610248.\n",
      "nlms pre-convergence training iteration #4\n",
      "nlms MSE = 0.608679.\n",
      "\n",
      "\n",
      "dd-lms - training stage #1\n",
      "dd-lms MSE = 0.066839.\n",
      "Results:\n",
      "\n",
      "SER: 9.36e-01\n",
      "BER: 4.99e-01\n",
      "SNR: -0.00 dB\n",
      "MI: -0.35 bits\n",
      "GMI: 0.00 bits\n",
      "channel 0\t fc : 193.1000 THz\n",
      "  mode #0\t power: 0.00 dBm\n",
      "channel 0\t power: -0.00 dBm\n",
      "\n",
      "total WDM signal power: -0.00 dBm\n",
      "CSPR = 9.00 dB\n",
      "\n",
      "\n",
      "nlms - training stage #0\n"
     ]
    },
    {
     "data": {
      "application/vnd.jupyter.widget-view+json": {
       "model_id": "ec597a04c8db401088fdccc8981764ed",
       "version_major": 2,
       "version_minor": 0
      },
      "text/plain": [
       "  0%|          | 0/5 [00:00<?, ?it/s]"
      ]
     },
     "metadata": {},
     "output_type": "display_data"
    },
    {
     "name": "stdout",
     "output_type": "stream",
     "text": [
      "nlms pre-convergence training iteration #0\n",
      "nlms MSE = 0.633103.\n",
      "nlms pre-convergence training iteration #1\n",
      "nlms MSE = 0.624615.\n",
      "nlms pre-convergence training iteration #2\n",
      "nlms MSE = 0.621421.\n",
      "nlms pre-convergence training iteration #3\n",
      "nlms MSE = 0.619183.\n",
      "nlms pre-convergence training iteration #4\n",
      "nlms MSE = 0.617551.\n",
      "\n",
      "\n",
      "dd-lms - training stage #1\n",
      "dd-lms MSE = 0.067004.\n",
      "Results:\n",
      "\n",
      "SER: 9.38e-01\n",
      "BER: 5.00e-01\n",
      "SNR: 0.00 dB\n",
      "MI: -0.34 bits\n",
      "GMI: 0.00 bits\n",
      "channel 0\t fc : 193.1000 THz\n",
      "  mode #0\t power: 0.00 dBm\n",
      "channel 0\t power: 0.00 dBm\n",
      "\n",
      "total WDM signal power: 0.00 dBm\n",
      "CSPR = 9.00 dB\n",
      "\n",
      "\n",
      "nlms - training stage #0\n"
     ]
    },
    {
     "data": {
      "application/vnd.jupyter.widget-view+json": {
       "model_id": "1ee014aa2f004716aa76cbf9ecadb6a1",
       "version_major": 2,
       "version_minor": 0
      },
      "text/plain": [
       "  0%|          | 0/5 [00:00<?, ?it/s]"
      ]
     },
     "metadata": {},
     "output_type": "display_data"
    },
    {
     "name": "stdout",
     "output_type": "stream",
     "text": [
      "nlms pre-convergence training iteration #0\n",
      "nlms MSE = 0.639949.\n",
      "nlms pre-convergence training iteration #1\n",
      "nlms MSE = 0.628228.\n",
      "nlms pre-convergence training iteration #2\n",
      "nlms MSE = 0.624920.\n",
      "nlms pre-convergence training iteration #3\n",
      "nlms MSE = 0.622610.\n",
      "nlms pre-convergence training iteration #4\n",
      "nlms MSE = 0.620924.\n",
      "\n",
      "\n",
      "dd-lms - training stage #1\n",
      "dd-lms MSE = 0.066939.\n",
      "Results:\n",
      "\n",
      "SER: 9.39e-01\n",
      "BER: 5.00e-01\n",
      "SNR: 0.00 dB\n",
      "MI: -0.34 bits\n",
      "GMI: 0.00 bits\n",
      "channel 0\t fc : 193.1000 THz\n",
      "  mode #0\t power: 0.00 dBm\n",
      "channel 0\t power: 0.00 dBm\n",
      "\n",
      "total WDM signal power: 0.00 dBm\n",
      "CSPR = 9.00 dB\n",
      "\n",
      "\n",
      "nlms - training stage #0\n"
     ]
    },
    {
     "data": {
      "application/vnd.jupyter.widget-view+json": {
       "model_id": "839fd89c4f1742ef95839d1d225d72ce",
       "version_major": 2,
       "version_minor": 0
      },
      "text/plain": [
       "  0%|          | 0/5 [00:00<?, ?it/s]"
      ]
     },
     "metadata": {},
     "output_type": "display_data"
    },
    {
     "name": "stdout",
     "output_type": "stream",
     "text": [
      "nlms pre-convergence training iteration #0\n",
      "nlms MSE = 0.632680.\n",
      "nlms pre-convergence training iteration #1\n",
      "nlms MSE = 0.626687.\n",
      "nlms pre-convergence training iteration #2\n",
      "nlms MSE = 0.623697.\n",
      "nlms pre-convergence training iteration #3\n",
      "nlms MSE = 0.621576.\n",
      "nlms pre-convergence training iteration #4\n",
      "nlms MSE = 0.620035.\n",
      "\n",
      "\n",
      "dd-lms - training stage #1\n",
      "dd-lms MSE = 0.067314.\n",
      "Results:\n",
      "\n",
      "SER: 9.37e-01\n",
      "BER: 4.99e-01\n",
      "SNR: -0.00 dB\n",
      "MI: -0.34 bits\n",
      "GMI: 0.00 bits\n",
      "channel 0\t fc : 193.1000 THz\n",
      "  mode #0\t power: 0.00 dBm\n",
      "channel 0\t power: 0.00 dBm\n",
      "\n",
      "total WDM signal power: 0.00 dBm\n",
      "CSPR = 9.00 dB\n",
      "\n",
      "\n",
      "nlms - training stage #0\n"
     ]
    },
    {
     "data": {
      "application/vnd.jupyter.widget-view+json": {
       "model_id": "b9d23c81362b404a8696162cbcb57b09",
       "version_major": 2,
       "version_minor": 0
      },
      "text/plain": [
       "  0%|          | 0/5 [00:00<?, ?it/s]"
      ]
     },
     "metadata": {},
     "output_type": "display_data"
    },
    {
     "name": "stdout",
     "output_type": "stream",
     "text": [
      "nlms pre-convergence training iteration #0\n",
      "nlms MSE = 0.641437.\n",
      "nlms pre-convergence training iteration #1\n",
      "nlms MSE = 0.631549.\n",
      "nlms pre-convergence training iteration #2\n",
      "nlms MSE = 0.627866.\n",
      "nlms pre-convergence training iteration #3\n",
      "nlms MSE = 0.625390.\n",
      "nlms pre-convergence training iteration #4\n",
      "nlms MSE = 0.623670.\n",
      "\n",
      "\n",
      "dd-lms - training stage #1\n",
      "dd-lms MSE = 0.067109.\n",
      "Results:\n",
      "\n",
      "SER: 9.36e-01\n",
      "BER: 4.96e-01\n",
      "SNR: 0.00 dB\n",
      "MI: -0.32 bits\n",
      "GMI: 0.00 bits\n",
      "channel 0\t fc : 193.1000 THz\n",
      "  mode #0\t power: 0.00 dBm\n",
      "channel 0\t power: 0.00 dBm\n",
      "\n",
      "total WDM signal power: 0.00 dBm\n",
      "CSPR = 9.00 dB\n",
      "\n",
      "\n",
      "nlms - training stage #0\n"
     ]
    },
    {
     "data": {
      "application/vnd.jupyter.widget-view+json": {
       "model_id": "90cab16d6c1f47b684711d53af7d2dc0",
       "version_major": 2,
       "version_minor": 0
      },
      "text/plain": [
       "  0%|          | 0/5 [00:00<?, ?it/s]"
      ]
     },
     "metadata": {},
     "output_type": "display_data"
    },
    {
     "name": "stdout",
     "output_type": "stream",
     "text": [
      "nlms pre-convergence training iteration #0\n",
      "nlms MSE = 0.632999.\n",
      "nlms pre-convergence training iteration #1\n",
      "nlms MSE = 0.622924.\n",
      "nlms pre-convergence training iteration #2\n",
      "nlms MSE = 0.619187.\n",
      "nlms pre-convergence training iteration #3\n",
      "nlms MSE = 0.616594.\n",
      "nlms pre-convergence training iteration #4\n",
      "nlms MSE = 0.614699.\n",
      "\n",
      "\n",
      "dd-lms - training stage #1\n",
      "dd-lms MSE = 0.067141.\n",
      "Results:\n",
      "\n",
      "SER: 9.37e-01\n",
      "BER: 4.99e-01\n",
      "SNR: 0.00 dB\n",
      "MI: -0.35 bits\n",
      "GMI: 0.00 bits\n",
      "channel 0\t fc : 193.1000 THz\n",
      "  mode #0\t power: 0.00 dBm\n",
      "channel 0\t power: -0.00 dBm\n",
      "\n",
      "total WDM signal power: -0.00 dBm\n",
      "CSPR = 9.00 dB\n",
      "\n",
      "\n",
      "nlms - training stage #0\n"
     ]
    },
    {
     "data": {
      "application/vnd.jupyter.widget-view+json": {
       "model_id": "6b7db8e451ef4f0387ec4594f419bc3a",
       "version_major": 2,
       "version_minor": 0
      },
      "text/plain": [
       "  0%|          | 0/5 [00:00<?, ?it/s]"
      ]
     },
     "metadata": {},
     "output_type": "display_data"
    },
    {
     "name": "stdout",
     "output_type": "stream",
     "text": [
      "nlms pre-convergence training iteration #0\n",
      "nlms MSE = 0.632044.\n",
      "nlms pre-convergence training iteration #1\n",
      "nlms MSE = 0.625544.\n",
      "nlms pre-convergence training iteration #2\n",
      "nlms MSE = 0.622572.\n",
      "nlms pre-convergence training iteration #3\n",
      "nlms MSE = 0.620491.\n",
      "nlms pre-convergence training iteration #4\n",
      "nlms MSE = 0.619006.\n",
      "\n",
      "\n",
      "dd-lms - training stage #1\n",
      "dd-lms MSE = 0.066850.\n",
      "Results:\n",
      "\n",
      "SER: 9.39e-01\n",
      "BER: 5.01e-01\n",
      "SNR: -0.00 dB\n",
      "MI: -0.35 bits\n",
      "GMI: -0.00 bits\n",
      "channel 0\t fc : 193.1000 THz\n",
      "  mode #0\t power: 0.00 dBm\n",
      "channel 0\t power: 0.00 dBm\n",
      "\n",
      "total WDM signal power: 0.00 dBm\n",
      "CSPR = 9.00 dB\n",
      "\n",
      "\n",
      "nlms - training stage #0\n"
     ]
    },
    {
     "data": {
      "application/vnd.jupyter.widget-view+json": {
       "model_id": "785d48c093cb4b76a7b0f19758d8fcc2",
       "version_major": 2,
       "version_minor": 0
      },
      "text/plain": [
       "  0%|          | 0/5 [00:00<?, ?it/s]"
      ]
     },
     "metadata": {},
     "output_type": "display_data"
    },
    {
     "name": "stdout",
     "output_type": "stream",
     "text": [
      "nlms pre-convergence training iteration #0\n",
      "nlms MSE = 0.635632.\n",
      "nlms pre-convergence training iteration #1\n",
      "nlms MSE = 0.623149.\n",
      "nlms pre-convergence training iteration #2\n",
      "nlms MSE = 0.619603.\n",
      "nlms pre-convergence training iteration #3\n",
      "nlms MSE = 0.617220.\n",
      "nlms pre-convergence training iteration #4\n",
      "nlms MSE = 0.615509.\n",
      "\n",
      "\n",
      "dd-lms - training stage #1\n",
      "dd-lms MSE = 0.066914.\n",
      "Results:\n",
      "\n",
      "SER: 9.36e-01\n",
      "BER: 4.98e-01\n",
      "SNR: 0.00 dB\n",
      "MI: -0.33 bits\n",
      "GMI: 0.00 bits\n",
      "channel 0\t fc : 193.1000 THz\n",
      "  mode #0\t power: 0.00 dBm\n",
      "channel 0\t power: -0.00 dBm\n",
      "\n",
      "total WDM signal power: -0.00 dBm\n",
      "CSPR = 9.00 dB\n",
      "\n",
      "\n",
      "nlms - training stage #0\n"
     ]
    },
    {
     "data": {
      "application/vnd.jupyter.widget-view+json": {
       "model_id": "32901e40ddf54c7da528fd89a58b0839",
       "version_major": 2,
       "version_minor": 0
      },
      "text/plain": [
       "  0%|          | 0/5 [00:00<?, ?it/s]"
      ]
     },
     "metadata": {},
     "output_type": "display_data"
    },
    {
     "name": "stdout",
     "output_type": "stream",
     "text": [
      "nlms pre-convergence training iteration #0\n",
      "nlms MSE = 0.636581.\n",
      "nlms pre-convergence training iteration #1\n",
      "nlms MSE = 0.625683.\n",
      "nlms pre-convergence training iteration #2\n",
      "nlms MSE = 0.622525.\n",
      "nlms pre-convergence training iteration #3\n",
      "nlms MSE = 0.620406.\n",
      "nlms pre-convergence training iteration #4\n",
      "nlms MSE = 0.618892.\n",
      "\n",
      "\n",
      "dd-lms - training stage #1\n",
      "dd-lms MSE = 0.066844.\n",
      "Results:\n",
      "\n",
      "SER: 9.37e-01\n",
      "BER: 4.99e-01\n",
      "SNR: -0.00 dB\n",
      "MI: -0.34 bits\n",
      "GMI: 0.00 bits\n",
      "channel 0\t fc : 193.1000 THz\n",
      "  mode #0\t power: 0.00 dBm\n",
      "channel 0\t power: -0.00 dBm\n",
      "\n",
      "total WDM signal power: -0.00 dBm\n",
      "CSPR = 9.00 dB\n",
      "\n",
      "\n",
      "nlms - training stage #0\n"
     ]
    },
    {
     "data": {
      "application/vnd.jupyter.widget-view+json": {
       "model_id": "833f5532a586455fa08c91f47a94c78e",
       "version_major": 2,
       "version_minor": 0
      },
      "text/plain": [
       "  0%|          | 0/5 [00:00<?, ?it/s]"
      ]
     },
     "metadata": {},
     "output_type": "display_data"
    },
    {
     "name": "stdout",
     "output_type": "stream",
     "text": [
      "nlms pre-convergence training iteration #0\n",
      "nlms MSE = 0.629042.\n",
      "nlms pre-convergence training iteration #1\n",
      "nlms MSE = 0.619728.\n",
      "nlms pre-convergence training iteration #2\n",
      "nlms MSE = 0.616174.\n",
      "nlms pre-convergence training iteration #3\n",
      "nlms MSE = 0.613734.\n",
      "nlms pre-convergence training iteration #4\n",
      "nlms MSE = 0.611974.\n",
      "\n",
      "\n",
      "dd-lms - training stage #1\n",
      "dd-lms MSE = 0.066650.\n",
      "Results:\n",
      "\n",
      "SER: 9.36e-01\n",
      "BER: 4.97e-01\n",
      "SNR: 0.00 dB\n",
      "MI: -0.32 bits\n",
      "GMI: 0.00 bits\n",
      "channel 0\t fc : 193.1000 THz\n",
      "  mode #0\t power: 0.00 dBm\n",
      "channel 0\t power: -0.00 dBm\n",
      "\n",
      "total WDM signal power: -0.00 dBm\n",
      "CSPR = 9.00 dB\n",
      "\n",
      "\n",
      "nlms - training stage #0\n"
     ]
    },
    {
     "data": {
      "application/vnd.jupyter.widget-view+json": {
       "model_id": "eb77c628aa4e422ba19932680b5911d1",
       "version_major": 2,
       "version_minor": 0
      },
      "text/plain": [
       "  0%|          | 0/5 [00:00<?, ?it/s]"
      ]
     },
     "metadata": {},
     "output_type": "display_data"
    },
    {
     "name": "stdout",
     "output_type": "stream",
     "text": [
      "nlms pre-convergence training iteration #0\n",
      "nlms MSE = 0.637840.\n",
      "nlms pre-convergence training iteration #1\n",
      "nlms MSE = 0.641011.\n",
      "nlms pre-convergence training iteration #2\n",
      "nlms MSE = 0.638099.\n",
      "nlms pre-convergence training iteration #3\n",
      "nlms MSE = 0.636128.\n",
      "nlms pre-convergence training iteration #4\n",
      "nlms MSE = 0.634780.\n",
      "\n",
      "\n",
      "dd-lms - training stage #1\n",
      "dd-lms MSE = 0.066842.\n",
      "Results:\n",
      "\n",
      "SER: 9.37e-01\n",
      "BER: 5.00e-01\n",
      "SNR: -0.00 dB\n",
      "MI: -0.34 bits\n",
      "GMI: 0.00 bits\n",
      "channel 0\t fc : 193.1000 THz\n",
      "  mode #0\t power: 0.00 dBm\n",
      "channel 0\t power: 0.00 dBm\n",
      "\n",
      "total WDM signal power: 0.00 dBm\n",
      "CSPR = 9.00 dB\n",
      "\n",
      "\n",
      "nlms - training stage #0\n"
     ]
    },
    {
     "data": {
      "application/vnd.jupyter.widget-view+json": {
       "model_id": "cab11684ce954ce3bfceb274de85df9b",
       "version_major": 2,
       "version_minor": 0
      },
      "text/plain": [
       "  0%|          | 0/5 [00:00<?, ?it/s]"
      ]
     },
     "metadata": {},
     "output_type": "display_data"
    },
    {
     "name": "stdout",
     "output_type": "stream",
     "text": [
      "nlms pre-convergence training iteration #0\n",
      "nlms MSE = 0.630942.\n",
      "nlms pre-convergence training iteration #1\n",
      "nlms MSE = 0.619045.\n",
      "nlms pre-convergence training iteration #2\n",
      "nlms MSE = 0.615411.\n",
      "nlms pre-convergence training iteration #3\n",
      "nlms MSE = 0.613003.\n",
      "nlms pre-convergence training iteration #4\n",
      "nlms MSE = 0.611308.\n",
      "\n",
      "\n",
      "dd-lms - training stage #1\n",
      "dd-lms MSE = 0.066963.\n",
      "Results:\n",
      "\n",
      "SER: 9.38e-01\n",
      "BER: 5.00e-01\n",
      "SNR: 0.00 dB\n",
      "MI: -0.35 bits\n",
      "GMI: 0.00 bits\n",
      "channel 0\t fc : 193.1000 THz\n",
      "  mode #0\t power: 0.00 dBm\n",
      "channel 0\t power: 0.00 dBm\n",
      "\n",
      "total WDM signal power: 0.00 dBm\n",
      "CSPR = 9.00 dB\n",
      "\n",
      "\n",
      "nlms - training stage #0\n"
     ]
    },
    {
     "data": {
      "application/vnd.jupyter.widget-view+json": {
       "model_id": "27a6aa3af88f4ea18cafc0524512d43d",
       "version_major": 2,
       "version_minor": 0
      },
      "text/plain": [
       "  0%|          | 0/5 [00:00<?, ?it/s]"
      ]
     },
     "metadata": {},
     "output_type": "display_data"
    },
    {
     "name": "stdout",
     "output_type": "stream",
     "text": [
      "nlms pre-convergence training iteration #0\n",
      "nlms MSE = 0.627058.\n",
      "nlms pre-convergence training iteration #1\n",
      "nlms MSE = 0.614625.\n",
      "nlms pre-convergence training iteration #2\n",
      "nlms MSE = 0.610955.\n",
      "nlms pre-convergence training iteration #3\n",
      "nlms MSE = 0.608442.\n",
      "nlms pre-convergence training iteration #4\n",
      "nlms MSE = 0.606613.\n",
      "\n",
      "\n",
      "dd-lms - training stage #1\n",
      "dd-lms MSE = 0.066851.\n",
      "Results:\n",
      "\n",
      "SER: 9.35e-01\n",
      "BER: 4.99e-01\n",
      "SNR: 0.00 dB\n",
      "MI: -0.34 bits\n",
      "GMI: 0.00 bits\n"
     ]
    }
   ],
   "source": [
    "BER_NN = np.zeros(FO.size)\n",
    "SER_NN = np.zeros(FO.size)\n",
    "GMI_NN = np.zeros(FO.size)\n",
    "MI_NN  = np.zeros(FO.size)\n",
    "SNR_NN = np.zeros(FO.size)\n",
    "\n",
    "for indFO, FO_ in enumerate(FO):\n",
    "\n",
    "    # generate optical signal signal\n",
    "    sigTx, symbTx_, paramTx = simpleWDMTx(paramTx)\n",
    "\n",
    "    # simulate linear signal propagation\n",
    "    sigCh = linFiberCh(sigTx, Ltotal, alpha, D, Fc, Fs)\n",
    "\n",
    "    # receiver detection and demodulation\n",
    "\n",
    "    Fc = paramTx.Fc\n",
    "    Ts = 1 / Fs\n",
    "    mod = QAMModem(m=paramTx.M)\n",
    "\n",
    "    freqGrid = paramTx.freqGrid\n",
    "\n",
    "    symbTx = symbTx_[:, :, chIndex]\n",
    "\n",
    "    #Plo_dBm = CSPR_\n",
    "    Plo = 10 ** (Plo_dBm / 10) * 1e-3  # power in W\n",
    "\n",
    "#     print(\n",
    "#         \"Local oscillator P: %.2f dBm, lw: %.2f kHz, FO: %.2f MHz\"\n",
    "#         % (Plo_dBm, lw / 1e3, FO / 1e6)\n",
    "#     )\n",
    "\n",
    "    # generate LO field\n",
    "    π = np.pi\n",
    "    t = np.arange(0, len(sigCh))*Ts\n",
    "    ϕ_pn_lo = phaseNoise(lw, len(sigCh), Ts)\n",
    "\n",
    "    sigLO = np.sqrt(Plo) * np.exp(-1j * (2 * π * FO_ * t + ϕ_lo + ϕ_pn_lo))\n",
    "\n",
    "    # Add LO to the received signal\n",
    "    sigRx = np.sqrt(Plo) + sigCh * np.exp(1j * (2 * π * FO_ * t + ϕ_lo + ϕ_pn_lo))\n",
    "    sfm = sigRx.copy()\n",
    "\n",
    "    print('CSPR = %.2f dB' % (10*np.log10(signal_power(sigLO)/signal_power(sigCh))))\n",
    "\n",
    "    modelNN = tf.keras.models.load_model('NN_models/testModel_SpS_'+str(paramTx.SpS))\n",
    "    N = 256  # number of input amplitude samples to the NN\n",
    "\n",
    "    ### Phase-retrieval stage\n",
    "    sfm = sfm/np.sqrt(signal_power(sfm))\n",
    "\n",
    "    # simulate ideal direct-detection optical receiver\n",
    "    # get signal amplitude samples (L,)\n",
    "    sigAmp = np.pad(np.abs(sfm), (int(N/2), int(N/2)), 'constant')\n",
    "\n",
    "    # create set of input features\n",
    "    inputNN = np.zeros((len(sfm), N))  # (L,N)\n",
    "\n",
    "    for indPhase in range(len(sfm)):\n",
    "        inputNN[indPhase] = sigAmp[indPhase:N+indPhase]\n",
    "\n",
    "    phiTime_NN = modelNN.predict(inputNN)\n",
    "    phiTime_NN = phiTime_NN.reshape(-1,)\n",
    "\n",
    "    # optical field reconstruction\n",
    "    sigRx = np.abs(sfm)*np.exp(1j*phiTime_NN)\n",
    "\n",
    "    # remove DC level\n",
    "    sigRx -= np.mean(sigRx)  # np.sqrt(Plo)\n",
    "\n",
    "    # downshift to baseband\n",
    "    sigRx *= np.exp(-1j * (2 * π * FO_ * t))\n",
    "\n",
    "    #### Standard receiver processing\n",
    "\n",
    "    # Matched filtering and CD compensation\n",
    "\n",
    "    # Matched filtering\n",
    "    if paramTx.pulse == \"nrz\":\n",
    "        pulse = pulseShape(\"nrz\", paramTx.SpS)\n",
    "    elif paramTx.pulse == \"rrc\":\n",
    "        pulse = pulseShape(\n",
    "            \"rrc\", paramTx.SpS, N=paramTx.Ntaps, alpha=paramTx.alphaRRC, Ts=1 / paramTx.Rs\n",
    "        )\n",
    "\n",
    "    pulse = pulse / np.max(np.abs(pulse))\n",
    "    sigRx = firFilter(pulse, sigRx)\n",
    "\n",
    "#     # plot constellations after matched filtering\n",
    "#     pconst(sigRx[0::paramTx.SpS], lim=True, R=3)\n",
    "\n",
    "    # CD compensation\n",
    "    sigRx = edc(sigRx, Ltotal, D, Fc, Fs)\n",
    "\n",
    "    #plot constellations after CD compensation\n",
    "#     discard = 5000\n",
    "#     pconst(sigRx[discard:-discard:paramTx.SpS], lim=True, R=2)\n",
    "\n",
    "    # Downsampling to 2 sps and re-synchronization with transmitted sequences\n",
    "    sigRx = sigRx.reshape(-1, 1)\n",
    "\n",
    "#     # decimation\n",
    "#     paramDec = parameters()\n",
    "#     paramDec.SpS_in = paramTx.SpS\n",
    "#     paramDec.SpS_out = 2\n",
    "#     sigRx = decimate(sigRx, paramDec)\n",
    "\n",
    "#     symbRx = symbolSync(sigRx, symbTx, 2)\n",
    "\n",
    "    # Power normalization\n",
    "    x = sigRx\n",
    "    d = symbTx\n",
    "\n",
    "    x = x.reshape(len(x), 1) / np.sqrt(signal_power(x))\n",
    "    d = d.reshape(len(d), 1) / np.sqrt(signal_power(d))\n",
    "\n",
    "    # Adaptive equalization\n",
    "    mod = QAMModem(m=paramTx.M)\n",
    "\n",
    "    paramEq = parameters()\n",
    "    paramEq.nTaps = 7\n",
    "    paramEq.SpS = 2\n",
    "    paramEq.mu = [5e-3, 5e-3]\n",
    "    paramEq.numIter = 5\n",
    "    paramEq.storeCoeff = False\n",
    "    paramEq.alg = [\"nlms\", \"dd-lms\"]\n",
    "    paramEq.M = paramTx.M\n",
    "    paramEq.L = [20000, 80000]\n",
    "\n",
    "    y_EQ, H, errSq, Hiter = mimoAdaptEqualizer(x, dx=d, paramEq=paramEq)\n",
    "\n",
    "    #y_EQ = x[0::paramTx.SpS]\n",
    "\n",
    "    discard = int(paramEq.L[0]/2)\n",
    "\n",
    "    #plot constellations after adaptive equalization\n",
    "#     pconst(y_EQ[discard:-discard,:], lim=True)\n",
    "\n",
    "    # Carrier phase recovery\n",
    "    paramCPR = parameters()\n",
    "    paramCPR.alg = \"bps\"\n",
    "    paramCPR.M = paramTx.M\n",
    "    paramCPR.N = 35\n",
    "    paramCPR.B = 64\n",
    "    paramCPR.pilotInd = np.arange(0, len(y_EQ), 20)\n",
    "\n",
    "    y_CPR, θ = cpr(y_EQ, symbTx=d, paramCPR=paramCPR)\n",
    "\n",
    "    y_CPR = y_CPR / np.sqrt(signal_power(y_CPR))\n",
    "\n",
    "    discard = 5000\n",
    "\n",
    "    # plot constellations after CPR\n",
    "#     pconst(y_CPR[discard:-discard, :], lim=True)\n",
    "\n",
    "    #### Evaluate transmission metrics\n",
    "\n",
    "    # correct for (possible) phase ambiguity\n",
    "    for k in range(y_CPR.shape[1]):\n",
    "        rot = np.mean(d[:, k] / y_CPR[:, k])\n",
    "        y_CPR[:, k] = rot * y_CPR[:, k]\n",
    "\n",
    "    y_CPR = y_CPR / np.sqrt(signal_power(y_CPR))\n",
    "\n",
    "    ind = np.arange(discard, d.shape[0] - discard)\n",
    "    BER_NN[indFO], SER_NN[indFO], SNR_NN[indFO] = fastBERcalc(y_CPR[ind, :], d[ind, :], mod)\n",
    "    GMI_NN[indFO], _ = monteCarloGMI(y_CPR[ind, :], d[ind, :], mod)\n",
    "    MI_NN[indFO] = monteCarloMI(y_CPR[ind, :], d[ind, :], mod)\n",
    "\n",
    "    print(\"Results:\\n\")\n",
    "    print(\"SER: %.2e\" % (SER_NN[indFO]))\n",
    "    print(\"BER: %.2e\" % (BER_NN[indFO]))\n",
    "    print(\"SNR: %.2f dB\" % (SNR_NN[indFO]))\n",
    "    print(\"MI: %.2f bits\" % (MI_NN[indFO]))\n",
    "    print(\"GMI: %.2f bits\" % (GMI_NN[indFO]))"
   ]
  },
  {
   "cell_type": "code",
   "execution_count": 51,
   "id": "9457f901",
   "metadata": {},
   "outputs": [
    {
     "data": {
      "image/png": "[encoded data removed]",
      "text/plain": [
       "<Figure size 648x288 with 1 Axes>"
      ]
     },
     "metadata": {
      "needs_background": "light"
     },
     "output_type": "display_data"
    }
   ],
   "source": [
    "plt.figure(figsize=(9, 4))\n",
    "plt.plot(FO, np.log10(BER_KK), '-x', label='KK algorithm')\n",
    "plt.plot(FO, np.log10(BER_NN), '-o', label='Neural Network')\n",
    "plt.xlabel('FO (frequency offset)')\n",
    "plt.ylabel('log10(BER)')\n",
    "plt.grid()"
   ]
  }
 ],
 "metadata": {
  "interpreter": {
   "hash": "9d5b6e03d6ac79a37ef7da211c0e283cea2ee331edb1c9b7aa89f897c687f1b0"
  },
  "jupytext": {
   "cell_metadata_filter": "-all",
   "encoding": "# -*- coding: utf-8 -*-",
   "formats": "ipynb,auto:light",
   "notebook_metadata_filter": "-all",
   "text_representation": {
    "extension": ".py",
    "format_name": "light"
   }
  },
  "kernelspec": {
   "display_name": "Python 3.9.9 64-bit (system)",
   "language": "python",
   "name": "python3"
  },
  "language_info": {
   "codemirror_mode": {
    "name": "ipython",
    "version": 3
   },
   "file_extension": ".py",
   "mimetype": "text/x-python",
   "name": "python",
   "nbconvert_exporter": "python",
   "pygments_lexer": "ipython3",
   "version": "3.9.9"
  }
 },
 "nbformat": 4,
 "nbformat_minor": 5
}
