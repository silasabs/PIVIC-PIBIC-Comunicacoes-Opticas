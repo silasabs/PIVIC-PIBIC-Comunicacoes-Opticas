{
 "cells": [
  {
   "cell_type": "code",
   "execution_count": 20,
   "id": "b1edcfee",
   "metadata": {
    "ExecuteTime": {
     "end_time": "2022-02-10T19:01:33.299471Z",
     "start_time": "2022-02-10T19:01:33.281484Z"
    }
   },
   "outputs": [],
   "source": [
    "import matplotlib.pyplot as plt\n",
    "import numpy as np\n",
    "\n",
    "from commpy.modulation import QAMModem\n",
    "\n",
    "from optic.dsp import pulseShape, firFilter, decimate, symbolSync\n",
    "from optic.models import phaseNoise, KramersKronigRx, linFiberCh\n",
    "\n",
    "from optic.tx import simpleWDMTx\n",
    "from optic.core import parameters\n",
    "from optic.equalization import edc, mimoAdaptEqualizer\n",
    "from optic.carrierRecovery import cpr\n",
    "from optic.metrics import fastBERcalc, monteCarloGMI, monteCarloMI, signal_power\n",
    "from optic.plot import pconst\n",
    "\n",
    "import scipy.constants as const\n",
    "\n",
    "from tensorflow.keras.layers import Dense, Dropout, BatchNormalization\n",
    "from tensorflow.keras.models import Sequential\n",
    "from tensorflow.keras.callbacks import EarlyStopping\n",
    "import tensorflow as tf"
   ]
  },
  {
   "cell_type": "markdown",
   "id": "cf8081d8",
   "metadata": {
    "lines_to_next_cell": 2
   },
   "source": [
    "### Simulation of a single polarization optical signal transmission"
   ]
  },
  {
   "cell_type": "code",
   "execution_count": 21,
   "id": "8ef1c5b1",
   "metadata": {
    "ExecuteTime": {
     "end_time": "2022-02-10T19:01:33.379422Z",
     "start_time": "2022-02-10T19:01:33.366429Z"
    },
    "lines_to_next_cell": 2
   },
   "outputs": [],
   "source": [
    "# Transmitter parameters:\n",
    "paramTx = parameters()\n",
    "paramTx.M = 16                 # order of the modulation format\n",
    "paramTx.Rs = 32e9              # symbol rate [baud]\n",
    "paramTx.SpS = 2                # samples per symbol\n",
    "paramTx.Nbits = 400000         # total number of bits per polarization\n",
    "paramTx.pulse = \"rrc\"          # pulse shaping filter\n",
    "paramTx.Ntaps = 1024           # number of pulse shaping filter coefficients\n",
    "paramTx.alphaRRC = 0.01        # RRC rolloff\n",
    "paramTx.Pch_dBm = 0            # power of the optical signal [dBm]\n",
    "paramTx.Nch = 1                # number of WDM channels\n",
    "paramTx.Fc = 193.1e12          # central frequency of the optical spectrum\n",
    "paramTx.freqSpac = 37.5e9      # WDM grid spacing\n",
    "\n",
    "# Optical channel parameters:\n",
    "Ltotal = 50      # total link distance [km]\n",
    "alpha = 0        # fiber loss parameter [dB/km]\n",
    "D  = 16          # fiber dispersion parameter [ps/nm/km]\n",
    "Fc = paramTx.Fc  # central optical frequency of the WDM spectrum [Hz]\n",
    "\n",
    "# Receiver parameters:\n",
    "\n",
    "# local oscillator (LO)\n",
    "FO = paramTx.Rs/2  # frequency offset \n",
    "lw = 100e3         # linewidth\n",
    "ϕ_lo = 0           # initial phase in rad\n",
    "Plo_dBm = 9        # power in dBm\n",
    "\n",
    "# General simulation parameters\n",
    "chIndex = 0  # index of the channel to be demodulated\n",
    "plotPSD = True\n",
    "Fs = paramTx.Rs * paramTx.SpS  # simulation sampling rate"
   ]
  },
  {
   "cell_type": "code",
   "execution_count": 40,
   "id": "dcd6fdcb",
   "metadata": {},
   "outputs": [],
   "source": [
    "# Constants\n",
    "ROLLOFF = np.arange(0, 1, 0.05)"
   ]
  },
  {
   "cell_type": "markdown",
   "id": "1b52e211",
   "metadata": {},
   "source": [
    "### BER vs Rolloff with KK algorithm"
   ]
  },
  {
   "cell_type": "code",
   "execution_count": 41,
   "id": "11870677",
   "metadata": {
    "ExecuteTime": {
     "end_time": "2022-02-10T19:01:35.010789Z",
     "start_time": "2022-02-10T19:01:33.381422Z"
    }
   },
   "outputs": [
    {
     "name": "stdout",
     "output_type": "stream",
     "text": [
      "channel 0\t fc : 193.1000 THz\n",
      "  mode #0\t power: 0.00 dBm\n",
      "channel 0\t power: -0.00 dBm\n",
      "\n",
      "total WDM signal power: -0.00 dBm\n",
      "CSPR = 9.00 dB\n",
      "\n",
      "\n",
      "nlms - training stage #0\n"
     ]
    },
    {
     "data": {
      "application/vnd.jupyter.widget-view+json": {
       "model_id": "11522b0a7f474e47884d83d0c7afe7e3",
       "version_major": 2,
       "version_minor": 0
      },
      "text/plain": [
       "  0%|          | 0/5 [00:00<?, ?it/s]"
      ]
     },
     "metadata": {},
     "output_type": "display_data"
    },
    {
     "name": "stdout",
     "output_type": "stream",
     "text": [
      "nlms pre-convergence training iteration #0\n",
      "nlms MSE = 0.060093.\n",
      "nlms pre-convergence training iteration #1\n",
      "nlms MSE = 0.040896.\n",
      "nlms pre-convergence training iteration #2\n",
      "nlms MSE = 0.040588.\n",
      "nlms pre-convergence training iteration #3\n",
      "nlms MSE = 0.040373.\n",
      "nlms pre-convergence training iteration #4\n",
      "nlms MSE = 0.040216.\n",
      "\n",
      "\n",
      "dd-lms - training stage #1\n",
      "dd-lms MSE = 0.032149.\n",
      "Results:\n",
      "\n",
      "SER: 3.63e-02\n",
      "BER: 1.18e-02\n",
      "SNR: 14.55 dB\n",
      "MI: 3.80 bits\n",
      "GMI: 3.76 bits\n",
      "channel 0\t fc : 193.1000 THz\n",
      "  mode #0\t power: 0.00 dBm\n",
      "channel 0\t power: 0.00 dBm\n",
      "\n",
      "total WDM signal power: 0.00 dBm\n",
      "CSPR = 9.00 dB\n",
      "\n",
      "\n",
      "nlms - training stage #0\n"
     ]
    },
    {
     "data": {
      "application/vnd.jupyter.widget-view+json": {
       "model_id": "6e560308668542bd9d2ad5f3be14d9ac",
       "version_major": 2,
       "version_minor": 0
      },
      "text/plain": [
       "  0%|          | 0/5 [00:00<?, ?it/s]"
      ]
     },
     "metadata": {},
     "output_type": "display_data"
    },
    {
     "name": "stdout",
     "output_type": "stream",
     "text": [
      "nlms pre-convergence training iteration #0\n",
      "nlms MSE = 0.069467.\n",
      "nlms pre-convergence training iteration #1\n",
      "nlms MSE = 0.048646.\n",
      "nlms pre-convergence training iteration #2\n",
      "nlms MSE = 0.048328.\n",
      "nlms pre-convergence training iteration #3\n",
      "nlms MSE = 0.048110.\n",
      "nlms pre-convergence training iteration #4\n",
      "nlms MSE = 0.047950.\n",
      "\n",
      "\n",
      "dd-lms - training stage #1\n",
      "dd-lms MSE = 0.038362.\n",
      "Results:\n",
      "\n",
      "SER: 8.86e-01\n",
      "BER: 4.66e-01\n",
      "SNR: 0.54 dB\n",
      "MI: 0.03 bits\n",
      "GMI: 0.14 bits\n",
      "channel 0\t fc : 193.1000 THz\n",
      "  mode #0\t power: 0.00 dBm\n",
      "channel 0\t power: 0.00 dBm\n",
      "\n",
      "total WDM signal power: 0.00 dBm\n",
      "CSPR = 9.00 dB\n",
      "\n",
      "\n",
      "nlms - training stage #0\n"
     ]
    },
    {
     "data": {
      "application/vnd.jupyter.widget-view+json": {
       "model_id": "44d9478ec57942d0b866acd3a51597ce",
       "version_major": 2,
       "version_minor": 0
      },
      "text/plain": [
       "  0%|          | 0/5 [00:00<?, ?it/s]"
      ]
     },
     "metadata": {},
     "output_type": "display_data"
    },
    {
     "name": "stdout",
     "output_type": "stream",
     "text": [
      "nlms pre-convergence training iteration #0\n",
      "nlms MSE = 0.085098.\n",
      "nlms pre-convergence training iteration #1\n",
      "nlms MSE = 0.089684.\n",
      "nlms pre-convergence training iteration #2\n",
      "nlms MSE = 0.089393.\n",
      "nlms pre-convergence training iteration #3\n",
      "nlms MSE = 0.089217.\n",
      "nlms pre-convergence training iteration #4\n",
      "nlms MSE = 0.089085.\n",
      "\n",
      "\n",
      "dd-lms - training stage #1\n",
      "dd-lms MSE = 0.043135.\n",
      "Results:\n",
      "\n",
      "SER: 9.20e-01\n",
      "BER: 4.86e-01\n",
      "SNR: 0.09 dB\n",
      "MI: -0.23 bits\n",
      "GMI: 0.02 bits\n",
      "channel 0\t fc : 193.1000 THz\n",
      "  mode #0\t power: 0.00 dBm\n",
      "channel 0\t power: 0.00 dBm\n",
      "\n",
      "total WDM signal power: 0.00 dBm\n",
      "CSPR = 9.00 dB\n",
      "\n",
      "\n",
      "nlms - training stage #0\n"
     ]
    },
    {
     "data": {
      "application/vnd.jupyter.widget-view+json": {
       "model_id": "0d900699aede4e5a8db98720b821866c",
       "version_major": 2,
       "version_minor": 0
      },
      "text/plain": [
       "  0%|          | 0/5 [00:00<?, ?it/s]"
      ]
     },
     "metadata": {},
     "output_type": "display_data"
    },
    {
     "name": "stdout",
     "output_type": "stream",
     "text": [
      "nlms pre-convergence training iteration #0\n",
      "nlms MSE = 0.087543.\n",
      "nlms pre-convergence training iteration #1\n",
      "nlms MSE = 0.076380.\n",
      "nlms pre-convergence training iteration #2\n",
      "nlms MSE = 0.076072.\n",
      "nlms pre-convergence training iteration #3\n",
      "nlms MSE = 0.075875.\n",
      "nlms pre-convergence training iteration #4\n",
      "nlms MSE = 0.075725.\n",
      "\n",
      "\n",
      "dd-lms - training stage #1\n",
      "dd-lms MSE = 0.046620.\n",
      "Results:\n",
      "\n",
      "SER: 9.26e-01\n",
      "BER: 4.71e-01\n",
      "SNR: 0.07 dB\n",
      "MI: -0.24 bits\n",
      "GMI: 0.02 bits\n",
      "channel 0\t fc : 193.1000 THz\n",
      "  mode #0\t power: 0.00 dBm\n",
      "channel 0\t power: -0.00 dBm\n",
      "\n",
      "total WDM signal power: -0.00 dBm\n",
      "CSPR = 9.00 dB\n",
      "\n",
      "\n",
      "nlms - training stage #0\n"
     ]
    },
    {
     "data": {
      "application/vnd.jupyter.widget-view+json": {
       "model_id": "97d839a39afe46a785b31fd3cebf05bd",
       "version_major": 2,
       "version_minor": 0
      },
      "text/plain": [
       "  0%|          | 0/5 [00:00<?, ?it/s]"
      ]
     },
     "metadata": {},
     "output_type": "display_data"
    },
    {
     "name": "stdout",
     "output_type": "stream",
     "text": [
      "nlms pre-convergence training iteration #0\n",
      "nlms MSE = 0.094072.\n",
      "nlms pre-convergence training iteration #1\n",
      "nlms MSE = 0.076270.\n",
      "nlms pre-convergence training iteration #2\n",
      "nlms MSE = 0.075881.\n",
      "nlms pre-convergence training iteration #3\n",
      "nlms MSE = 0.075616.\n",
      "nlms pre-convergence training iteration #4\n",
      "nlms MSE = 0.075416.\n",
      "\n",
      "\n",
      "dd-lms - training stage #1\n",
      "dd-lms MSE = 0.050706.\n",
      "Results:\n",
      "\n",
      "SER: 9.17e-01\n",
      "BER: 4.56e-01\n",
      "SNR: 0.23 dB\n",
      "MI: -0.13 bits\n",
      "GMI: 0.06 bits\n",
      "channel 0\t fc : 193.1000 THz\n",
      "  mode #0\t power: 0.00 dBm\n",
      "channel 0\t power: 0.00 dBm\n",
      "\n",
      "total WDM signal power: 0.00 dBm\n",
      "CSPR = 9.00 dB\n",
      "\n",
      "\n",
      "nlms - training stage #0\n"
     ]
    },
    {
     "data": {
      "application/vnd.jupyter.widget-view+json": {
       "model_id": "0803faea4cb8417cae3dafe374310f81",
       "version_major": 2,
       "version_minor": 0
      },
      "text/plain": [
       "  0%|          | 0/5 [00:00<?, ?it/s]"
      ]
     },
     "metadata": {},
     "output_type": "display_data"
    },
    {
     "name": "stdout",
     "output_type": "stream",
     "text": [
      "nlms pre-convergence training iteration #0\n",
      "nlms MSE = 0.109830.\n",
      "nlms pre-convergence training iteration #1\n",
      "nlms MSE = 0.089165.\n",
      "nlms pre-convergence training iteration #2\n",
      "nlms MSE = 0.088773.\n",
      "nlms pre-convergence training iteration #3\n",
      "nlms MSE = 0.088506.\n",
      "nlms pre-convergence training iteration #4\n",
      "nlms MSE = 0.088303.\n",
      "\n",
      "\n",
      "dd-lms - training stage #1\n",
      "dd-lms MSE = 0.052041.\n",
      "Results:\n",
      "\n",
      "SER: 9.35e-01\n",
      "BER: 4.80e-01\n",
      "SNR: 0.09 dB\n",
      "MI: -0.22 bits\n",
      "GMI: 0.02 bits\n",
      "channel 0\t fc : 193.1000 THz\n",
      "  mode #0\t power: 0.00 dBm\n",
      "channel 0\t power: -0.00 dBm\n",
      "\n",
      "total WDM signal power: -0.00 dBm\n",
      "CSPR = 9.00 dB\n",
      "\n",
      "\n",
      "nlms - training stage #0\n"
     ]
    },
    {
     "data": {
      "application/vnd.jupyter.widget-view+json": {
       "model_id": "5065c026c2d542fa938dab3ccc38f523",
       "version_major": 2,
       "version_minor": 0
      },
      "text/plain": [
       "  0%|          | 0/5 [00:00<?, ?it/s]"
      ]
     },
     "metadata": {},
     "output_type": "display_data"
    },
    {
     "name": "stdout",
     "output_type": "stream",
     "text": [
      "nlms pre-convergence training iteration #0\n",
      "nlms MSE = 0.115592.\n",
      "nlms pre-convergence training iteration #1\n",
      "nlms MSE = 0.095001.\n",
      "nlms pre-convergence training iteration #2\n",
      "nlms MSE = 0.094599.\n",
      "nlms pre-convergence training iteration #3\n",
      "nlms MSE = 0.094335.\n",
      "nlms pre-convergence training iteration #4\n",
      "nlms MSE = 0.094138.\n",
      "\n",
      "\n",
      "dd-lms - training stage #1\n",
      "dd-lms MSE = 0.054307.\n",
      "Results:\n",
      "\n",
      "SER: 9.37e-01\n",
      "BER: 5.05e-01\n",
      "SNR: -0.00 dB\n",
      "MI: -0.42 bits\n",
      "GMI: -0.00 bits\n",
      "channel 0\t fc : 193.1000 THz\n",
      "  mode #0\t power: 0.00 dBm\n",
      "channel 0\t power: -0.00 dBm\n",
      "\n",
      "total WDM signal power: -0.00 dBm\n",
      "CSPR = 9.00 dB\n",
      "\n",
      "\n",
      "nlms - training stage #0\n"
     ]
    },
    {
     "data": {
      "application/vnd.jupyter.widget-view+json": {
       "model_id": "538d370aecbb4374a5e858c5ca20278b",
       "version_major": 2,
       "version_minor": 0
      },
      "text/plain": [
       "  0%|          | 0/5 [00:00<?, ?it/s]"
      ]
     },
     "metadata": {},
     "output_type": "display_data"
    },
    {
     "name": "stdout",
     "output_type": "stream",
     "text": [
      "nlms pre-convergence training iteration #0\n",
      "nlms MSE = 0.122254.\n",
      "nlms pre-convergence training iteration #1\n",
      "nlms MSE = 0.103391.\n",
      "nlms pre-convergence training iteration #2\n",
      "nlms MSE = 0.102965.\n",
      "nlms pre-convergence training iteration #3\n",
      "nlms MSE = 0.102692.\n",
      "nlms pre-convergence training iteration #4\n",
      "nlms MSE = 0.102491.\n",
      "\n",
      "\n",
      "dd-lms - training stage #1\n",
      "dd-lms MSE = 0.059324.\n",
      "Results:\n",
      "\n",
      "SER: 9.18e-01\n",
      "BER: 4.74e-01\n",
      "SNR: 0.06 dB\n",
      "MI: -0.24 bits\n",
      "GMI: 0.02 bits\n",
      "channel 0\t fc : 193.1000 THz\n",
      "  mode #0\t power: 0.00 dBm\n",
      "channel 0\t power: 0.00 dBm\n",
      "\n",
      "total WDM signal power: 0.00 dBm\n",
      "CSPR = 9.00 dB\n",
      "\n",
      "\n",
      "nlms - training stage #0\n"
     ]
    },
    {
     "data": {
      "application/vnd.jupyter.widget-view+json": {
       "model_id": "856e5c9578b84d679d05e91d041172dd",
       "version_major": 2,
       "version_minor": 0
      },
      "text/plain": [
       "  0%|          | 0/5 [00:00<?, ?it/s]"
      ]
     },
     "metadata": {},
     "output_type": "display_data"
    },
    {
     "name": "stdout",
     "output_type": "stream",
     "text": [
      "nlms pre-convergence training iteration #0\n",
      "nlms MSE = 0.131796.\n",
      "nlms pre-convergence training iteration #1\n",
      "nlms MSE = 0.112498.\n",
      "nlms pre-convergence training iteration #2\n",
      "nlms MSE = 0.112118.\n",
      "nlms pre-convergence training iteration #3\n",
      "nlms MSE = 0.111884.\n",
      "nlms pre-convergence training iteration #4\n",
      "nlms MSE = 0.111714.\n",
      "\n",
      "\n",
      "dd-lms - training stage #1\n",
      "dd-lms MSE = 0.058484.\n",
      "Results:\n",
      "\n",
      "SER: 9.24e-01\n",
      "BER: 4.83e-01\n",
      "SNR: 0.10 dB\n",
      "MI: -0.21 bits\n",
      "GMI: 0.02 bits\n",
      "channel 0\t fc : 193.1000 THz\n",
      "  mode #0\t power: 0.00 dBm\n",
      "channel 0\t power: -0.00 dBm\n",
      "\n",
      "total WDM signal power: -0.00 dBm\n",
      "CSPR = 9.00 dB\n",
      "\n",
      "\n",
      "nlms - training stage #0\n"
     ]
    },
    {
     "data": {
      "application/vnd.jupyter.widget-view+json": {
       "model_id": "9d0e4616f06d46999f562fa2889596b3",
       "version_major": 2,
       "version_minor": 0
      },
      "text/plain": [
       "  0%|          | 0/5 [00:00<?, ?it/s]"
      ]
     },
     "metadata": {},
     "output_type": "display_data"
    },
    {
     "name": "stdout",
     "output_type": "stream",
     "text": [
      "nlms pre-convergence training iteration #0\n",
      "nlms MSE = 0.145509.\n",
      "nlms pre-convergence training iteration #1\n",
      "nlms MSE = 0.129441.\n",
      "nlms pre-convergence training iteration #2\n",
      "nlms MSE = 0.129080.\n",
      "nlms pre-convergence training iteration #3\n",
      "nlms MSE = 0.128852.\n",
      "nlms pre-convergence training iteration #4\n",
      "nlms MSE = 0.128687.\n",
      "\n",
      "\n",
      "dd-lms - training stage #1\n",
      "dd-lms MSE = 0.057760.\n",
      "Results:\n",
      "\n",
      "SER: 9.28e-01\n",
      "BER: 4.84e-01\n",
      "SNR: 0.00 dB\n",
      "MI: -0.29 bits\n",
      "GMI: 0.01 bits\n",
      "channel 0\t fc : 193.1000 THz\n",
      "  mode #0\t power: 0.00 dBm\n",
      "channel 0\t power: -0.00 dBm\n",
      "\n",
      "total WDM signal power: -0.00 dBm\n",
      "CSPR = 9.00 dB\n",
      "\n",
      "\n",
      "nlms - training stage #0\n"
     ]
    },
    {
     "data": {
      "application/vnd.jupyter.widget-view+json": {
       "model_id": "0ef98c0f316b4877a1e27642311c50f0",
       "version_major": 2,
       "version_minor": 0
      },
      "text/plain": [
       "  0%|          | 0/5 [00:00<?, ?it/s]"
      ]
     },
     "metadata": {},
     "output_type": "display_data"
    },
    {
     "name": "stdout",
     "output_type": "stream",
     "text": [
      "nlms pre-convergence training iteration #0\n",
      "nlms MSE = 0.151035.\n",
      "nlms pre-convergence training iteration #1\n",
      "nlms MSE = 0.132371.\n",
      "nlms pre-convergence training iteration #2\n",
      "nlms MSE = 0.131992.\n",
      "nlms pre-convergence training iteration #3\n",
      "nlms MSE = 0.131756.\n",
      "nlms pre-convergence training iteration #4\n",
      "nlms MSE = 0.131586.\n",
      "\n",
      "\n",
      "dd-lms - training stage #1\n",
      "dd-lms MSE = 0.057254.\n",
      "Results:\n",
      "\n",
      "SER: 9.33e-01\n",
      "BER: 4.89e-01\n",
      "SNR: 0.04 dB\n",
      "MI: -0.25 bits\n",
      "GMI: 0.01 bits\n",
      "channel 0\t fc : 193.1000 THz\n",
      "  mode #0\t power: 0.00 dBm\n",
      "channel 0\t power: 0.00 dBm\n",
      "\n",
      "total WDM signal power: 0.00 dBm\n",
      "CSPR = 9.00 dB\n",
      "\n",
      "\n",
      "nlms - training stage #0\n"
     ]
    },
    {
     "data": {
      "application/vnd.jupyter.widget-view+json": {
       "model_id": "6e9cde9d17824fa6b94b140492220d20",
       "version_major": 2,
       "version_minor": 0
      },
      "text/plain": [
       "  0%|          | 0/5 [00:00<?, ?it/s]"
      ]
     },
     "metadata": {},
     "output_type": "display_data"
    },
    {
     "name": "stdout",
     "output_type": "stream",
     "text": [
      "nlms pre-convergence training iteration #0\n",
      "nlms MSE = 0.159802.\n",
      "nlms pre-convergence training iteration #1\n",
      "nlms MSE = 0.144078.\n",
      "nlms pre-convergence training iteration #2\n",
      "nlms MSE = 0.143724.\n",
      "nlms pre-convergence training iteration #3\n",
      "nlms MSE = 0.143518.\n",
      "nlms pre-convergence training iteration #4\n",
      "nlms MSE = 0.143378.\n",
      "\n",
      "\n",
      "dd-lms - training stage #1\n",
      "dd-lms MSE = 0.060587.\n",
      "Results:\n",
      "\n",
      "SER: 9.34e-01\n",
      "BER: 4.92e-01\n",
      "SNR: -0.06 dB\n",
      "MI: -0.34 bits\n",
      "GMI: -0.00 bits\n",
      "channel 0\t fc : 193.1000 THz\n",
      "  mode #0\t power: 0.00 dBm\n",
      "channel 0\t power: -0.00 dBm\n",
      "\n",
      "total WDM signal power: -0.00 dBm\n",
      "CSPR = 9.00 dB\n",
      "\n",
      "\n",
      "nlms - training stage #0\n"
     ]
    },
    {
     "data": {
      "application/vnd.jupyter.widget-view+json": {
       "model_id": "96c5cb5c66dd4c5da71d24e447620a3d",
       "version_major": 2,
       "version_minor": 0
      },
      "text/plain": [
       "  0%|          | 0/5 [00:00<?, ?it/s]"
      ]
     },
     "metadata": {},
     "output_type": "display_data"
    },
    {
     "name": "stdout",
     "output_type": "stream",
     "text": [
      "nlms pre-convergence training iteration #0\n",
      "nlms MSE = 0.167599.\n",
      "nlms pre-convergence training iteration #1\n",
      "nlms MSE = 0.149989.\n",
      "nlms pre-convergence training iteration #2\n",
      "nlms MSE = 0.149576.\n",
      "nlms pre-convergence training iteration #3\n",
      "nlms MSE = 0.149316.\n",
      "nlms pre-convergence training iteration #4\n",
      "nlms MSE = 0.149137.\n",
      "\n",
      "\n",
      "dd-lms - training stage #1\n",
      "dd-lms MSE = 0.056451.\n",
      "Results:\n",
      "\n",
      "SER: 9.40e-01\n",
      "BER: 4.92e-01\n",
      "SNR: 0.01 dB\n",
      "MI: -0.30 bits\n",
      "GMI: 0.00 bits\n",
      "channel 0\t fc : 193.1000 THz\n",
      "  mode #0\t power: 0.00 dBm\n",
      "channel 0\t power: 0.00 dBm\n",
      "\n",
      "total WDM signal power: 0.00 dBm\n",
      "CSPR = 9.00 dB\n",
      "\n",
      "\n",
      "nlms - training stage #0\n"
     ]
    },
    {
     "data": {
      "application/vnd.jupyter.widget-view+json": {
       "model_id": "90dc1e34ce5b41b297f9b7ee8166b8c2",
       "version_major": 2,
       "version_minor": 0
      },
      "text/plain": [
       "  0%|          | 0/5 [00:00<?, ?it/s]"
      ]
     },
     "metadata": {},
     "output_type": "display_data"
    },
    {
     "name": "stdout",
     "output_type": "stream",
     "text": [
      "nlms pre-convergence training iteration #0\n",
      "nlms MSE = 0.180280.\n",
      "nlms pre-convergence training iteration #1\n",
      "nlms MSE = 0.163886.\n",
      "nlms pre-convergence training iteration #2\n",
      "nlms MSE = 0.163501.\n",
      "nlms pre-convergence training iteration #3\n",
      "nlms MSE = 0.163283.\n",
      "nlms pre-convergence training iteration #4\n",
      "nlms MSE = 0.163138.\n",
      "\n",
      "\n",
      "dd-lms - training stage #1\n",
      "dd-lms MSE = 0.056109.\n",
      "Results:\n",
      "\n",
      "SER: 9.27e-01\n",
      "BER: 4.83e-01\n",
      "SNR: 0.03 dB\n",
      "MI: -0.27 bits\n",
      "GMI: 0.01 bits\n",
      "channel 0\t fc : 193.1000 THz\n",
      "  mode #0\t power: 0.00 dBm\n",
      "channel 0\t power: -0.00 dBm\n",
      "\n",
      "total WDM signal power: -0.00 dBm\n",
      "CSPR = 9.00 dB\n",
      "\n",
      "\n",
      "nlms - training stage #0\n"
     ]
    },
    {
     "data": {
      "application/vnd.jupyter.widget-view+json": {
       "model_id": "c809e0aa56b4427d8fd4171d91fdcedb",
       "version_major": 2,
       "version_minor": 0
      },
      "text/plain": [
       "  0%|          | 0/5 [00:00<?, ?it/s]"
      ]
     },
     "metadata": {},
     "output_type": "display_data"
    },
    {
     "name": "stdout",
     "output_type": "stream",
     "text": [
      "nlms pre-convergence training iteration #0\n",
      "nlms MSE = 0.186125.\n",
      "nlms pre-convergence training iteration #1\n",
      "nlms MSE = 0.167270.\n",
      "nlms pre-convergence training iteration #2\n",
      "nlms MSE = 0.166820.\n",
      "nlms pre-convergence training iteration #3\n",
      "nlms MSE = 0.166552.\n",
      "nlms pre-convergence training iteration #4\n",
      "nlms MSE = 0.166379.\n",
      "\n",
      "\n",
      "dd-lms - training stage #1\n",
      "dd-lms MSE = 0.059037.\n",
      "Results:\n",
      "\n",
      "SER: 9.32e-01\n",
      "BER: 4.91e-01\n",
      "SNR: -0.01 dB\n",
      "MI: -0.30 bits\n",
      "GMI: 0.00 bits\n",
      "channel 0\t fc : 193.1000 THz\n",
      "  mode #0\t power: 0.00 dBm\n",
      "channel 0\t power: 0.00 dBm\n",
      "\n",
      "total WDM signal power: 0.00 dBm\n",
      "CSPR = 9.00 dB\n",
      "\n",
      "\n",
      "nlms - training stage #0\n"
     ]
    },
    {
     "data": {
      "application/vnd.jupyter.widget-view+json": {
       "model_id": "677d5de009934c5ab189948cec9de9b2",
       "version_major": 2,
       "version_minor": 0
      },
      "text/plain": [
       "  0%|          | 0/5 [00:00<?, ?it/s]"
      ]
     },
     "metadata": {},
     "output_type": "display_data"
    },
    {
     "name": "stdout",
     "output_type": "stream",
     "text": [
      "nlms pre-convergence training iteration #0\n",
      "nlms MSE = 0.194939.\n",
      "nlms pre-convergence training iteration #1\n",
      "nlms MSE = 0.175231.\n",
      "nlms pre-convergence training iteration #2\n",
      "nlms MSE = 0.174870.\n",
      "nlms pre-convergence training iteration #3\n",
      "nlms MSE = 0.174641.\n",
      "nlms pre-convergence training iteration #4\n",
      "nlms MSE = 0.174484.\n",
      "\n",
      "\n",
      "dd-lms - training stage #1\n",
      "dd-lms MSE = 0.057354.\n",
      "Results:\n",
      "\n",
      "SER: 9.32e-01\n",
      "BER: 4.89e-01\n",
      "SNR: -0.02 dB\n",
      "MI: -0.31 bits\n",
      "GMI: 0.00 bits\n",
      "channel 0\t fc : 193.1000 THz\n",
      "  mode #0\t power: 0.00 dBm\n",
      "channel 0\t power: -0.00 dBm\n",
      "\n",
      "total WDM signal power: -0.00 dBm\n",
      "CSPR = 9.00 dB\n",
      "\n",
      "\n",
      "nlms - training stage #0\n"
     ]
    },
    {
     "data": {
      "application/vnd.jupyter.widget-view+json": {
       "model_id": "1ce7b1fba7dd452286661203ffb2865e",
       "version_major": 2,
       "version_minor": 0
      },
      "text/plain": [
       "  0%|          | 0/5 [00:00<?, ?it/s]"
      ]
     },
     "metadata": {},
     "output_type": "display_data"
    },
    {
     "name": "stdout",
     "output_type": "stream",
     "text": [
      "nlms pre-convergence training iteration #0\n",
      "nlms MSE = 0.202972.\n",
      "nlms pre-convergence training iteration #1\n",
      "nlms MSE = 0.191962.\n",
      "nlms pre-convergence training iteration #2\n",
      "nlms MSE = 0.191412.\n",
      "nlms pre-convergence training iteration #3\n",
      "nlms MSE = 0.191111.\n",
      "nlms pre-convergence training iteration #4\n",
      "nlms MSE = 0.190918.\n",
      "\n",
      "\n",
      "dd-lms - training stage #1\n",
      "dd-lms MSE = 0.060600.\n",
      "Results:\n",
      "\n",
      "SER: 9.36e-01\n",
      "BER: 4.98e-01\n",
      "SNR: -0.00 dB\n",
      "MI: -0.34 bits\n",
      "GMI: -0.00 bits\n",
      "channel 0\t fc : 193.1000 THz\n",
      "  mode #0\t power: 0.00 dBm\n",
      "channel 0\t power: 0.00 dBm\n",
      "\n",
      "total WDM signal power: 0.00 dBm\n",
      "CSPR = 9.00 dB\n",
      "\n",
      "\n",
      "nlms - training stage #0\n"
     ]
    },
    {
     "data": {
      "application/vnd.jupyter.widget-view+json": {
       "model_id": "728fb7f03d644c35afabdb237a3a2161",
       "version_major": 2,
       "version_minor": 0
      },
      "text/plain": [
       "  0%|          | 0/5 [00:00<?, ?it/s]"
      ]
     },
     "metadata": {},
     "output_type": "display_data"
    },
    {
     "name": "stdout",
     "output_type": "stream",
     "text": [
      "nlms pre-convergence training iteration #0\n",
      "nlms MSE = 0.213480.\n",
      "nlms pre-convergence training iteration #1\n",
      "nlms MSE = 0.193249.\n",
      "nlms pre-convergence training iteration #2\n",
      "nlms MSE = 0.192691.\n",
      "nlms pre-convergence training iteration #3\n",
      "nlms MSE = 0.192333.\n",
      "nlms pre-convergence training iteration #4\n",
      "nlms MSE = 0.192092.\n",
      "\n",
      "\n",
      "dd-lms - training stage #1\n",
      "dd-lms MSE = 0.058608.\n",
      "Results:\n",
      "\n",
      "SER: 9.34e-01\n",
      "BER: 4.96e-01\n",
      "SNR: 0.01 dB\n",
      "MI: -0.31 bits\n",
      "GMI: 0.00 bits\n",
      "channel 0\t fc : 193.1000 THz\n",
      "  mode #0\t power: 0.00 dBm\n",
      "channel 0\t power: -0.00 dBm\n",
      "\n",
      "total WDM signal power: -0.00 dBm\n",
      "CSPR = 9.00 dB\n",
      "\n",
      "\n",
      "nlms - training stage #0\n"
     ]
    },
    {
     "data": {
      "application/vnd.jupyter.widget-view+json": {
       "model_id": "e3f905f898734720a6f4e519b1326efb",
       "version_major": 2,
       "version_minor": 0
      },
      "text/plain": [
       "  0%|          | 0/5 [00:00<?, ?it/s]"
      ]
     },
     "metadata": {},
     "output_type": "display_data"
    },
    {
     "name": "stdout",
     "output_type": "stream",
     "text": [
      "nlms pre-convergence training iteration #0\n",
      "nlms MSE = 0.220433.\n",
      "nlms pre-convergence training iteration #1\n",
      "nlms MSE = 0.199784.\n",
      "nlms pre-convergence training iteration #2\n",
      "nlms MSE = 0.199080.\n",
      "nlms pre-convergence training iteration #3\n",
      "nlms MSE = 0.198651.\n",
      "nlms pre-convergence training iteration #4\n",
      "nlms MSE = 0.198369.\n",
      "\n",
      "\n",
      "dd-lms - training stage #1\n",
      "dd-lms MSE = 0.059286.\n",
      "Results:\n",
      "\n",
      "SER: 9.34e-01\n",
      "BER: 4.93e-01\n",
      "SNR: 0.01 dB\n",
      "MI: -0.31 bits\n",
      "GMI: 0.00 bits\n",
      "channel 0\t fc : 193.1000 THz\n",
      "  mode #0\t power: 0.00 dBm\n",
      "channel 0\t power: -0.00 dBm\n",
      "\n",
      "total WDM signal power: -0.00 dBm\n",
      "CSPR = 9.00 dB\n",
      "\n",
      "\n",
      "nlms - training stage #0\n"
     ]
    },
    {
     "data": {
      "application/vnd.jupyter.widget-view+json": {
       "model_id": "71a5ebead7914276b25692f493162cea",
       "version_major": 2,
       "version_minor": 0
      },
      "text/plain": [
       "  0%|          | 0/5 [00:00<?, ?it/s]"
      ]
     },
     "metadata": {},
     "output_type": "display_data"
    },
    {
     "name": "stdout",
     "output_type": "stream",
     "text": [
      "nlms pre-convergence training iteration #0\n",
      "nlms MSE = 0.235880.\n",
      "nlms pre-convergence training iteration #1\n",
      "nlms MSE = 0.228801.\n",
      "nlms pre-convergence training iteration #2\n",
      "nlms MSE = 0.228217.\n",
      "nlms pre-convergence training iteration #3\n",
      "nlms MSE = 0.227862.\n",
      "nlms pre-convergence training iteration #4\n",
      "nlms MSE = 0.227619.\n",
      "\n",
      "\n",
      "dd-lms - training stage #1\n",
      "dd-lms MSE = 0.059559.\n",
      "Results:\n",
      "\n",
      "SER: 9.35e-01\n",
      "BER: 4.94e-01\n",
      "SNR: -0.02 dB\n",
      "MI: -0.34 bits\n",
      "GMI: -0.00 bits\n"
     ]
    }
   ],
   "source": [
    "BER_KK = np.zeros(ROLLOFF.size)\n",
    "SER_KK = np.zeros(ROLLOFF.size)\n",
    "GMI_KK = np.zeros(ROLLOFF.size)\n",
    "MI_KK  = np.zeros(ROLLOFF.size)\n",
    "SNR_KK = np.zeros(ROLLOFF.size)\n",
    "\n",
    "for indROLL, ROLLOFF_ in enumerate(ROLLOFF):\n",
    "\n",
    "    paramTx.alphaRRC = ROLLOFF_\n",
    "    # generate optical signal signal\n",
    "    sigTx, symbTx_, paramTx = simpleWDMTx(paramTx)\n",
    "\n",
    "    # simulate linear signal propagation\n",
    "    sigCh = linFiberCh(sigTx, Ltotal, alpha, D, Fc, Fs)\n",
    "    \n",
    "    # receiver detection and demodulation\n",
    "\n",
    "    Fc = paramTx.Fc\n",
    "    Ts = 1 / Fs\n",
    "    mod = QAMModem(m=paramTx.M)\n",
    "\n",
    "    freqGrid = paramTx.freqGrid\n",
    "\n",
    "    symbTx = symbTx_[:, :, chIndex]\n",
    "    \n",
    "    #Plo_dBm = CSPR_\n",
    "    Plo = 10 ** (Plo_dBm / 10) * 1e-3  # power in W\n",
    "\n",
    "#     print(\n",
    "#         \"Local oscillator P: %.2f dBm, lw: %.2f kHz, FO: %.2f MHz\"\n",
    "#         % (Plo_dBm, lw / 1e3, FO / 1e6)\n",
    "#     )\n",
    "\n",
    "    # generate LO field\n",
    "    π = np.pi\n",
    "    t = np.arange(0, len(sigCh))*Ts\n",
    "    ϕ_pn_lo = phaseNoise(lw, len(sigCh), Ts)\n",
    "\n",
    "    sigLO = np.sqrt(Plo) * np.exp(-1j * (2 * π * FO * t + ϕ_lo + ϕ_pn_lo))\n",
    "\n",
    "    # Add LO to the received signal\n",
    "    sigRx = np.sqrt(Plo) + sigCh* np.exp(1j * (2 * π * FO * t + ϕ_lo + ϕ_pn_lo))\n",
    "    sfm   = sigRx.copy()\n",
    "\n",
    "    print('CSPR = %.2f dB'%(10*np.log10(signal_power(sigLO)/signal_power(sigCh))))\n",
    "\n",
    "    ### Phase-retrieval stage\n",
    "\n",
    "    # simulate ideal direct-detection optical receiver\n",
    "    Amp = np.abs(sigRx)\n",
    "\n",
    "    # Kramers-Kronig phase-retrieval\n",
    "    phiTime = KramersKronigRx(Amp, Fs)\n",
    "\n",
    "    # optical field reconstruction\n",
    "    sigRx = Amp*np.exp(1j*phiTime)\n",
    "\n",
    "    # remove DC level\n",
    "    sigRx -= np.sqrt(Plo)  # np.mean(sigRx)\n",
    "\n",
    "    # downshift to baseband\n",
    "    sigRx *= np.exp(-1j * (2 * π * FO * t))\n",
    "\n",
    "    #### Standard receiver processing\n",
    "\n",
    "    # Matched filtering and CD compensation\n",
    "\n",
    "    # Matched filtering\n",
    "    if paramTx.pulse == \"nrz\":\n",
    "        pulse = pulseShape(\"nrz\", paramTx.SpS)\n",
    "    elif paramTx.pulse == \"rrc\":\n",
    "        pulse = pulseShape(\n",
    "            \"rrc\", paramTx.SpS, N=paramTx.Ntaps, alpha=paramTx.alphaRRC, Ts=1 / paramTx.Rs\n",
    "        )\n",
    "\n",
    "    pulse = pulse / np.max(np.abs(pulse))\n",
    "    sigRx = firFilter(pulse, sigRx)\n",
    "\n",
    "#     # plot constellations after matched filtering\n",
    "#     pconst(sigRx[0::paramTx.SpS], lim=True, R=3)\n",
    "\n",
    "    # CD compensation\n",
    "    sigRx = edc(sigRx, Ltotal, D, Fc, Fs)\n",
    "\n",
    "#     #plot constellations after CD compensation\n",
    "#     pconst(sigRx[0::paramTx.SpS], lim=True, R=2)\n",
    "\n",
    "    # Downsampling to 2 sps and re-synchronization with transmitted sequences\n",
    "    sigRx = sigRx.reshape(-1, 1)\n",
    "\n",
    "    # decimation\n",
    "    paramDec = parameters()\n",
    "    paramDec.SpS_in = paramTx.SpS\n",
    "    paramDec.SpS_out = 2\n",
    "    sigRx = decimate(sigRx, paramDec)\n",
    "\n",
    "    symbRx = symbolSync(sigRx, symbTx, 2)\n",
    "\n",
    "    # Power normalization\n",
    "    x = sigRx\n",
    "    d = symbRx\n",
    "\n",
    "    x = x.reshape(len(x), 1) / np.sqrt(signal_power(x))\n",
    "    d = d.reshape(len(d), 1) / np.sqrt(signal_power(d))\n",
    "\n",
    "    # Adaptive equalization\n",
    "    mod = QAMModem(m=paramTx.M)\n",
    "\n",
    "    paramEq = parameters()\n",
    "    paramEq.nTaps = 7\n",
    "    paramEq.SpS = 2\n",
    "    paramEq.mu = [5e-3, 5e-3]\n",
    "    paramEq.numIter = 5\n",
    "    paramEq.storeCoeff = False\n",
    "    paramEq.alg = [\"nlms\", \"dd-lms\"]\n",
    "    paramEq.M = paramTx.M\n",
    "    paramEq.L = [20000, 80000]\n",
    "\n",
    "    y_EQ, H, errSq, Hiter = mimoAdaptEqualizer(x, dx=d, paramEq=paramEq)\n",
    "\n",
    "   # y_EQ = x[0::paramTx.SpS]\n",
    "    discard = int(paramEq.L[0]/2)\n",
    "\n",
    "#     #plot constellations after adaptive equalization\n",
    "#     pconst(y_EQ[discard:-discard,:], lim=True)\n",
    "\n",
    "    # Carrier phase recovery\n",
    "    paramCPR = parameters()\n",
    "    paramCPR.alg = \"bps\"\n",
    "    paramCPR.M = paramTx.M\n",
    "    paramCPR.N = 35\n",
    "    paramCPR.B = 64\n",
    "    paramCPR.pilotInd = np.arange(0, len(y_EQ), 20)\n",
    "\n",
    "    y_CPR, θ = cpr(y_EQ, symbTx=d, paramCPR=paramCPR)\n",
    "\n",
    "    y_CPR = y_CPR / np.sqrt(signal_power(y_CPR))\n",
    "\n",
    "#     plt.figure()\n",
    "#     plt.title(\"CPR estimated phase\")\n",
    "#     plt.plot(θ, \"-\")\n",
    "#     plt.xlim(0, len(θ))\n",
    "#     plt.grid()\n",
    "\n",
    "    discard = 5000\n",
    "\n",
    "#     # plot constellations after CPR\n",
    "#     pconst(y_CPR[discard:-discard, :], lim=True)\n",
    "\n",
    "    #### Evaluate transmission metrics\n",
    "\n",
    "    # correct for (possible) phase ambiguity\n",
    "    for k in range(y_CPR.shape[1]):\n",
    "        rot = np.mean(d[:, k] / y_CPR[:, k])\n",
    "        y_CPR[:, k] = rot * y_CPR[:, k]\n",
    "\n",
    "    y_CPR = y_CPR / np.sqrt(signal_power(y_CPR))\n",
    "\n",
    "    ind = np.arange(discard, d.shape[0] - discard)\n",
    "    BER_KK[indROLL], SER_KK[indROLL], SNR_KK[indROLL] = fastBERcalc(y_CPR[ind, :], d[ind, :], mod)\n",
    "    GMI_KK[indROLL], _ = monteCarloGMI(y_CPR[ind, :], d[ind, :], mod)\n",
    "    MI_KK[indROLL] = monteCarloMI(y_CPR[ind, :], d[ind, :], mod)\n",
    "\n",
    "    print(\"Results:\\n\")\n",
    "    print(\"SER: %.2e\" % (SER_KK[indROLL]))\n",
    "    print(\"BER: %.2e\" % (BER_KK[indROLL]))\n",
    "    print(\"SNR: %.2f dB\" % (SNR_KK[indROLL]))\n",
    "    print(\"MI: %.2f bits\" % (MI_KK[indROLL]))\n",
    "    print(\"GMI: %.2f bits\" % (GMI_KK[indROLL]))\n"
   ]
  },
  {
   "cell_type": "code",
   "execution_count": 42,
   "id": "297a16e1",
   "metadata": {
    "ExecuteTime": {
     "end_time": "2022-02-10T19:12:29.381297Z",
     "start_time": "2022-02-10T19:12:29.331330Z"
    }
   },
   "outputs": [
    {
     "data": {
      "image/png": "[encoded data removed]",
      "text/plain": [
       "<Figure size 432x288 with 1 Axes>"
      ]
     },
     "metadata": {
      "needs_background": "light"
     },
     "output_type": "display_data"
    }
   ],
   "source": [
    "plt.plot(ROLLOFF, np.log10(BER_KK),'-o')\n",
    "plt.xlabel('Roll-off factor RRC')\n",
    "plt.ylabel('log10(BER)')\n",
    "plt.grid();"
   ]
  },
  {
   "cell_type": "markdown",
   "id": "dc2b47b0",
   "metadata": {},
   "source": [
    "### BER vs FO with KK algorithm"
   ]
  },
  {
   "cell_type": "code",
   "execution_count": 24,
   "id": "e5ecdd52",
   "metadata": {},
   "outputs": [
    {
     "name": "stdout",
     "output_type": "stream",
     "text": [
      "channel 0\t fc : 193.1000 THz\n",
      "  mode #0\t power: 0.00 dBm\n",
      "channel 0\t power: 0.00 dBm\n",
      "\n",
      "total WDM signal power: 0.00 dBm\n",
      "CSPR = 9.00 dB\n",
      "\n",
      "\n",
      "nlms - training stage #0\n"
     ]
    },
    {
     "data": {
      "application/vnd.jupyter.widget-view+json": {
       "model_id": "686c5ae80fdd448084fd4636c54099b1",
       "version_major": 2,
       "version_minor": 0
      },
      "text/plain": [
       "  0%|          | 0/5 [00:00<?, ?it/s]"
      ]
     },
     "metadata": {},
     "output_type": "display_data"
    },
    {
     "name": "stdout",
     "output_type": "stream",
     "text": [
      "nlms pre-convergence training iteration #0\n",
      "nlms MSE = 0.682180.\n",
      "nlms pre-convergence training iteration #1\n",
      "nlms MSE = 0.647996.\n",
      "nlms pre-convergence training iteration #2\n",
      "nlms MSE = 0.640787.\n",
      "nlms pre-convergence training iteration #3\n",
      "nlms MSE = 0.636297.\n",
      "nlms pre-convergence training iteration #4\n",
      "nlms MSE = 0.633527.\n",
      "\n",
      "\n",
      "dd-lms - training stage #1\n",
      "dd-lms MSE = 0.067042.\n",
      "Results:\n",
      "\n",
      "SER: 9.37e-01\n",
      "BER: 4.99e-01\n",
      "SNR: 0.00 dB\n",
      "MI: -0.33 bits\n",
      "GMI: 0.00 bits\n",
      "channel 0\t fc : 193.1000 THz\n",
      "  mode #0\t power: 0.00 dBm\n",
      "channel 0\t power: 0.00 dBm\n",
      "\n",
      "total WDM signal power: 0.00 dBm\n",
      "CSPR = 9.00 dB\n",
      "\n",
      "\n",
      "nlms - training stage #0\n"
     ]
    },
    {
     "data": {
      "application/vnd.jupyter.widget-view+json": {
       "model_id": "48a3eee2d5fb4639a8309e0abc2da4ff",
       "version_major": 2,
       "version_minor": 0
      },
      "text/plain": [
       "  0%|          | 0/5 [00:00<?, ?it/s]"
      ]
     },
     "metadata": {},
     "output_type": "display_data"
    },
    {
     "name": "stdout",
     "output_type": "stream",
     "text": [
      "nlms pre-convergence training iteration #0\n",
      "nlms MSE = 0.687480.\n",
      "nlms pre-convergence training iteration #1\n",
      "nlms MSE = 0.658744.\n",
      "nlms pre-convergence training iteration #2\n",
      "nlms MSE = 0.651607.\n",
      "nlms pre-convergence training iteration #3\n",
      "nlms MSE = 0.647142.\n",
      "nlms pre-convergence training iteration #4\n",
      "nlms MSE = 0.644365.\n",
      "\n",
      "\n",
      "dd-lms - training stage #1\n",
      "dd-lms MSE = 0.066758.\n",
      "Results:\n",
      "\n",
      "SER: 9.38e-01\n",
      "BER: 4.98e-01\n",
      "SNR: 0.00 dB\n",
      "MI: -0.32 bits\n",
      "GMI: 0.00 bits\n",
      "channel 0\t fc : 193.1000 THz\n",
      "  mode #0\t power: 0.00 dBm\n",
      "channel 0\t power: 0.00 dBm\n",
      "\n",
      "total WDM signal power: 0.00 dBm\n",
      "CSPR = 9.00 dB\n",
      "\n",
      "\n",
      "nlms - training stage #0\n"
     ]
    },
    {
     "data": {
      "application/vnd.jupyter.widget-view+json": {
       "model_id": "377c01dc3e9044d4b2296e64920a0d2d",
       "version_major": 2,
       "version_minor": 0
      },
      "text/plain": [
       "  0%|          | 0/5 [00:00<?, ?it/s]"
      ]
     },
     "metadata": {},
     "output_type": "display_data"
    },
    {
     "name": "stdout",
     "output_type": "stream",
     "text": [
      "nlms pre-convergence training iteration #0\n",
      "nlms MSE = 0.680774.\n",
      "nlms pre-convergence training iteration #1\n",
      "nlms MSE = 0.648641.\n",
      "nlms pre-convergence training iteration #2\n",
      "nlms MSE = 0.641041.\n",
      "nlms pre-convergence training iteration #3\n",
      "nlms MSE = 0.636524.\n",
      "nlms pre-convergence training iteration #4\n",
      "nlms MSE = 0.633842.\n",
      "\n",
      "\n",
      "dd-lms - training stage #1\n",
      "dd-lms MSE = 0.067092.\n",
      "Results:\n",
      "\n",
      "SER: 9.38e-01\n",
      "BER: 4.99e-01\n",
      "SNR: 0.00 dB\n",
      "MI: -0.34 bits\n",
      "GMI: 0.00 bits\n",
      "channel 0\t fc : 193.1000 THz\n",
      "  mode #0\t power: 0.00 dBm\n",
      "channel 0\t power: -0.00 dBm\n",
      "\n",
      "total WDM signal power: -0.00 dBm\n",
      "CSPR = 9.00 dB\n",
      "\n",
      "\n",
      "nlms - training stage #0\n"
     ]
    },
    {
     "data": {
      "application/vnd.jupyter.widget-view+json": {
       "model_id": "f7a99a41a83c44fea0a35c63f94cc76e",
       "version_major": 2,
       "version_minor": 0
      },
      "text/plain": [
       "  0%|          | 0/5 [00:00<?, ?it/s]"
      ]
     },
     "metadata": {},
     "output_type": "display_data"
    },
    {
     "name": "stdout",
     "output_type": "stream",
     "text": [
      "nlms pre-convergence training iteration #0\n",
      "nlms MSE = 0.661632.\n",
      "nlms pre-convergence training iteration #1\n",
      "nlms MSE = 0.629003.\n",
      "nlms pre-convergence training iteration #2\n",
      "nlms MSE = 0.622145.\n",
      "nlms pre-convergence training iteration #3\n",
      "nlms MSE = 0.617990.\n",
      "nlms pre-convergence training iteration #4\n",
      "nlms MSE = 0.615431.\n",
      "\n",
      "\n",
      "dd-lms - training stage #1\n",
      "dd-lms MSE = 0.066849.\n",
      "Results:\n",
      "\n",
      "SER: 9.37e-01\n",
      "BER: 4.99e-01\n",
      "SNR: 0.00 dB\n",
      "MI: -0.34 bits\n",
      "GMI: 0.00 bits\n",
      "channel 0\t fc : 193.1000 THz\n",
      "  mode #0\t power: 0.00 dBm\n",
      "channel 0\t power: 0.00 dBm\n",
      "\n",
      "total WDM signal power: 0.00 dBm\n",
      "CSPR = 9.00 dB\n",
      "\n",
      "\n",
      "nlms - training stage #0\n"
     ]
    },
    {
     "data": {
      "application/vnd.jupyter.widget-view+json": {
       "model_id": "0a3e2ba2911647a099e27b33fefe00d0",
       "version_major": 2,
       "version_minor": 0
      },
      "text/plain": [
       "  0%|          | 0/5 [00:00<?, ?it/s]"
      ]
     },
     "metadata": {},
     "output_type": "display_data"
    },
    {
     "name": "stdout",
     "output_type": "stream",
     "text": [
      "nlms pre-convergence training iteration #0\n",
      "nlms MSE = 0.664324.\n",
      "nlms pre-convergence training iteration #1\n",
      "nlms MSE = 0.640577.\n",
      "nlms pre-convergence training iteration #2\n",
      "nlms MSE = 0.635258.\n",
      "nlms pre-convergence training iteration #3\n",
      "nlms MSE = 0.632050.\n",
      "nlms pre-convergence training iteration #4\n",
      "nlms MSE = 0.630111.\n",
      "\n",
      "\n",
      "dd-lms - training stage #1\n",
      "dd-lms MSE = 0.066764.\n",
      "Results:\n",
      "\n",
      "SER: 9.36e-01\n",
      "BER: 4.99e-01\n",
      "SNR: 0.00 dB\n",
      "MI: -0.32 bits\n",
      "GMI: 0.00 bits\n",
      "channel 0\t fc : 193.1000 THz\n",
      "  mode #0\t power: 0.00 dBm\n",
      "channel 0\t power: 0.00 dBm\n",
      "\n",
      "total WDM signal power: 0.00 dBm\n",
      "CSPR = 9.00 dB\n",
      "\n",
      "\n",
      "nlms - training stage #0\n"
     ]
    },
    {
     "data": {
      "application/vnd.jupyter.widget-view+json": {
       "model_id": "18938bb7ced64ce19a215701997a4ab9",
       "version_major": 2,
       "version_minor": 0
      },
      "text/plain": [
       "  0%|          | 0/5 [00:00<?, ?it/s]"
      ]
     },
     "metadata": {},
     "output_type": "display_data"
    },
    {
     "name": "stdout",
     "output_type": "stream",
     "text": [
      "nlms pre-convergence training iteration #0\n",
      "nlms MSE = 0.676025.\n",
      "nlms pre-convergence training iteration #1\n",
      "nlms MSE = 0.642127.\n",
      "nlms pre-convergence training iteration #2\n",
      "nlms MSE = 0.634695.\n",
      "nlms pre-convergence training iteration #3\n",
      "nlms MSE = 0.630186.\n",
      "nlms pre-convergence training iteration #4\n",
      "nlms MSE = 0.627431.\n",
      "\n",
      "\n",
      "dd-lms - training stage #1\n",
      "dd-lms MSE = 0.067030.\n",
      "Results:\n",
      "\n",
      "SER: 9.36e-01\n",
      "BER: 4.98e-01\n",
      "SNR: 0.00 dB\n",
      "MI: -0.32 bits\n",
      "GMI: 0.00 bits\n",
      "channel 0\t fc : 193.1000 THz\n",
      "  mode #0\t power: 0.00 dBm\n",
      "channel 0\t power: 0.00 dBm\n",
      "\n",
      "total WDM signal power: 0.00 dBm\n",
      "CSPR = 9.00 dB\n",
      "\n",
      "\n",
      "nlms - training stage #0\n"
     ]
    },
    {
     "data": {
      "application/vnd.jupyter.widget-view+json": {
       "model_id": "d093c7f190b44841aba6d652be22b36c",
       "version_major": 2,
       "version_minor": 0
      },
      "text/plain": [
       "  0%|          | 0/5 [00:00<?, ?it/s]"
      ]
     },
     "metadata": {},
     "output_type": "display_data"
    },
    {
     "name": "stdout",
     "output_type": "stream",
     "text": [
      "nlms pre-convergence training iteration #0\n",
      "nlms MSE = 0.679320.\n",
      "nlms pre-convergence training iteration #1\n",
      "nlms MSE = 0.644573.\n",
      "nlms pre-convergence training iteration #2\n",
      "nlms MSE = 0.636767.\n",
      "nlms pre-convergence training iteration #3\n",
      "nlms MSE = 0.632186.\n",
      "nlms pre-convergence training iteration #4\n",
      "nlms MSE = 0.629471.\n",
      "\n",
      "\n",
      "dd-lms - training stage #1\n",
      "dd-lms MSE = 0.066940.\n",
      "Results:\n",
      "\n",
      "SER: 9.34e-01\n",
      "BER: 4.95e-01\n",
      "SNR: 0.01 dB\n",
      "MI: -0.30 bits\n",
      "GMI: 0.00 bits\n",
      "channel 0\t fc : 193.1000 THz\n",
      "  mode #0\t power: 0.00 dBm\n",
      "channel 0\t power: -0.00 dBm\n",
      "\n",
      "total WDM signal power: -0.00 dBm\n",
      "CSPR = 9.00 dB\n",
      "\n",
      "\n",
      "nlms - training stage #0\n"
     ]
    },
    {
     "data": {
      "application/vnd.jupyter.widget-view+json": {
       "model_id": "39e5a6dc296243e3857d2c9648fe004c",
       "version_major": 2,
       "version_minor": 0
      },
      "text/plain": [
       "  0%|          | 0/5 [00:00<?, ?it/s]"
      ]
     },
     "metadata": {},
     "output_type": "display_data"
    },
    {
     "name": "stdout",
     "output_type": "stream",
     "text": [
      "nlms pre-convergence training iteration #0\n",
      "nlms MSE = 0.659432.\n",
      "nlms pre-convergence training iteration #1\n",
      "nlms MSE = 0.630023.\n",
      "nlms pre-convergence training iteration #2\n",
      "nlms MSE = 0.623746.\n",
      "nlms pre-convergence training iteration #3\n",
      "nlms MSE = 0.619986.\n",
      "nlms pre-convergence training iteration #4\n",
      "nlms MSE = 0.617674.\n",
      "\n",
      "\n",
      "dd-lms - training stage #1\n",
      "dd-lms MSE = 0.066842.\n",
      "Results:\n",
      "\n",
      "SER: 9.37e-01\n",
      "BER: 4.98e-01\n",
      "SNR: 0.01 dB\n",
      "MI: -0.31 bits\n",
      "GMI: 0.00 bits\n",
      "channel 0\t fc : 193.1000 THz\n",
      "  mode #0\t power: 0.00 dBm\n",
      "channel 0\t power: 0.00 dBm\n",
      "\n",
      "total WDM signal power: 0.00 dBm\n",
      "CSPR = 9.00 dB\n",
      "\n",
      "\n",
      "nlms - training stage #0\n"
     ]
    },
    {
     "data": {
      "application/vnd.jupyter.widget-view+json": {
       "model_id": "c5c5d60ef3c8469ab949d7b0ad9193f5",
       "version_major": 2,
       "version_minor": 0
      },
      "text/plain": [
       "  0%|          | 0/5 [00:00<?, ?it/s]"
      ]
     },
     "metadata": {},
     "output_type": "display_data"
    },
    {
     "name": "stdout",
     "output_type": "stream",
     "text": [
      "nlms pre-convergence training iteration #0\n",
      "nlms MSE = 0.674501.\n",
      "nlms pre-convergence training iteration #1\n",
      "nlms MSE = 0.635516.\n",
      "nlms pre-convergence training iteration #2\n",
      "nlms MSE = 0.627139.\n",
      "nlms pre-convergence training iteration #3\n",
      "nlms MSE = 0.622024.\n",
      "nlms pre-convergence training iteration #4\n",
      "nlms MSE = 0.618858.\n",
      "\n",
      "\n",
      "dd-lms - training stage #1\n",
      "dd-lms MSE = 0.066873.\n",
      "Results:\n",
      "\n",
      "SER: 9.35e-01\n",
      "BER: 4.97e-01\n",
      "SNR: -0.00 dB\n",
      "MI: -0.32 bits\n",
      "GMI: 0.00 bits\n",
      "channel 0\t fc : 193.1000 THz\n",
      "  mode #0\t power: 0.00 dBm\n",
      "channel 0\t power: 0.00 dBm\n",
      "\n",
      "total WDM signal power: 0.00 dBm\n",
      "CSPR = 9.00 dB\n",
      "\n",
      "\n",
      "nlms - training stage #0\n"
     ]
    },
    {
     "data": {
      "application/vnd.jupyter.widget-view+json": {
       "model_id": "50330620fdba47c296b0b3ad7f3a8c13",
       "version_major": 2,
       "version_minor": 0
      },
      "text/plain": [
       "  0%|          | 0/5 [00:00<?, ?it/s]"
      ]
     },
     "metadata": {},
     "output_type": "display_data"
    },
    {
     "name": "stdout",
     "output_type": "stream",
     "text": [
      "nlms pre-convergence training iteration #0\n",
      "nlms MSE = 0.673824.\n",
      "nlms pre-convergence training iteration #1\n",
      "nlms MSE = 0.635530.\n",
      "nlms pre-convergence training iteration #2\n",
      "nlms MSE = 0.627765.\n",
      "nlms pre-convergence training iteration #3\n",
      "nlms MSE = 0.623021.\n",
      "nlms pre-convergence training iteration #4\n",
      "nlms MSE = 0.620080.\n",
      "\n",
      "\n",
      "dd-lms - training stage #1\n",
      "dd-lms MSE = 0.066743.\n",
      "Results:\n",
      "\n",
      "SER: 9.36e-01\n",
      "BER: 4.98e-01\n",
      "SNR: 0.00 dB\n",
      "MI: -0.33 bits\n",
      "GMI: 0.00 bits\n",
      "channel 0\t fc : 193.1000 THz\n",
      "  mode #0\t power: 0.00 dBm\n",
      "channel 0\t power: 0.00 dBm\n",
      "\n",
      "total WDM signal power: 0.00 dBm\n",
      "CSPR = 9.00 dB\n",
      "\n",
      "\n",
      "nlms - training stage #0\n"
     ]
    },
    {
     "data": {
      "application/vnd.jupyter.widget-view+json": {
       "model_id": "f6c5d6d7326d4d449e297bb52a462d84",
       "version_major": 2,
       "version_minor": 0
      },
      "text/plain": [
       "  0%|          | 0/5 [00:00<?, ?it/s]"
      ]
     },
     "metadata": {},
     "output_type": "display_data"
    },
    {
     "name": "stdout",
     "output_type": "stream",
     "text": [
      "nlms pre-convergence training iteration #0\n",
      "nlms MSE = 0.673929.\n",
      "nlms pre-convergence training iteration #1\n",
      "nlms MSE = 0.636288.\n",
      "nlms pre-convergence training iteration #2\n",
      "nlms MSE = 0.628670.\n",
      "nlms pre-convergence training iteration #3\n",
      "nlms MSE = 0.624100.\n",
      "nlms pre-convergence training iteration #4\n",
      "nlms MSE = 0.621325.\n",
      "\n",
      "\n",
      "dd-lms - training stage #1\n",
      "dd-lms MSE = 0.067230.\n",
      "Results:\n",
      "\n",
      "SER: 9.38e-01\n",
      "BER: 5.00e-01\n",
      "SNR: -0.00 dB\n",
      "MI: -0.35 bits\n",
      "GMI: 0.00 bits\n",
      "channel 0\t fc : 193.1000 THz\n",
      "  mode #0\t power: 0.00 dBm\n",
      "channel 0\t power: -0.00 dBm\n",
      "\n",
      "total WDM signal power: -0.00 dBm\n",
      "CSPR = 9.00 dB\n",
      "\n",
      "\n",
      "nlms - training stage #0\n"
     ]
    },
    {
     "data": {
      "application/vnd.jupyter.widget-view+json": {
       "model_id": "9c2d1a7b083d4257acc229eec1d616e6",
       "version_major": 2,
       "version_minor": 0
      },
      "text/plain": [
       "  0%|          | 0/5 [00:00<?, ?it/s]"
      ]
     },
     "metadata": {},
     "output_type": "display_data"
    },
    {
     "name": "stdout",
     "output_type": "stream",
     "text": [
      "nlms pre-convergence training iteration #0\n",
      "nlms MSE = 0.681813.\n",
      "nlms pre-convergence training iteration #1\n",
      "nlms MSE = 0.639664.\n",
      "nlms pre-convergence training iteration #2\n",
      "nlms MSE = 0.630955.\n",
      "nlms pre-convergence training iteration #3\n",
      "nlms MSE = 0.625712.\n",
      "nlms pre-convergence training iteration #4\n",
      "nlms MSE = 0.622484.\n",
      "\n",
      "\n",
      "dd-lms - training stage #1\n",
      "dd-lms MSE = 0.066854.\n",
      "Results:\n",
      "\n",
      "SER: 9.37e-01\n",
      "BER: 4.98e-01\n",
      "SNR: 0.00 dB\n",
      "MI: -0.32 bits\n",
      "GMI: 0.00 bits\n",
      "channel 0\t fc : 193.1000 THz\n",
      "  mode #0\t power: 0.00 dBm\n",
      "channel 0\t power: 0.00 dBm\n",
      "\n",
      "total WDM signal power: 0.00 dBm\n",
      "CSPR = 9.00 dB\n",
      "\n",
      "\n",
      "nlms - training stage #0\n"
     ]
    },
    {
     "data": {
      "application/vnd.jupyter.widget-view+json": {
       "model_id": "d2185c00dd3845308023d9e6d2c57226",
       "version_major": 2,
       "version_minor": 0
      },
      "text/plain": [
       "  0%|          | 0/5 [00:00<?, ?it/s]"
      ]
     },
     "metadata": {},
     "output_type": "display_data"
    },
    {
     "name": "stdout",
     "output_type": "stream",
     "text": [
      "nlms pre-convergence training iteration #0\n",
      "nlms MSE = 0.676715.\n",
      "nlms pre-convergence training iteration #1\n",
      "nlms MSE = 0.648857.\n",
      "nlms pre-convergence training iteration #2\n",
      "nlms MSE = 0.642066.\n",
      "nlms pre-convergence training iteration #3\n",
      "nlms MSE = 0.637888.\n",
      "nlms pre-convergence training iteration #4\n",
      "nlms MSE = 0.635365.\n",
      "\n",
      "\n",
      "dd-lms - training stage #1\n",
      "dd-lms MSE = 0.066558.\n",
      "Results:\n",
      "\n",
      "SER: 9.36e-01\n",
      "BER: 4.96e-01\n",
      "SNR: 0.01 dB\n",
      "MI: -0.31 bits\n",
      "GMI: 0.00 bits\n",
      "channel 0\t fc : 193.1000 THz\n",
      "  mode #0\t power: 0.00 dBm\n",
      "channel 0\t power: -0.00 dBm\n",
      "\n",
      "total WDM signal power: -0.00 dBm\n",
      "CSPR = 9.00 dB\n",
      "\n",
      "\n",
      "nlms - training stage #0\n"
     ]
    },
    {
     "data": {
      "application/vnd.jupyter.widget-view+json": {
       "model_id": "5543469d69124aa18d3d99596bcb9659",
       "version_major": 2,
       "version_minor": 0
      },
      "text/plain": [
       "  0%|          | 0/5 [00:00<?, ?it/s]"
      ]
     },
     "metadata": {},
     "output_type": "display_data"
    },
    {
     "name": "stdout",
     "output_type": "stream",
     "text": [
      "nlms pre-convergence training iteration #0\n",
      "nlms MSE = 0.672344.\n",
      "nlms pre-convergence training iteration #1\n",
      "nlms MSE = 0.634337.\n",
      "nlms pre-convergence training iteration #2\n",
      "nlms MSE = 0.626309.\n",
      "nlms pre-convergence training iteration #3\n",
      "nlms MSE = 0.621578.\n",
      "nlms pre-convergence training iteration #4\n",
      "nlms MSE = 0.618749.\n",
      "\n",
      "\n",
      "dd-lms - training stage #1\n",
      "dd-lms MSE = 0.066959.\n",
      "Results:\n",
      "\n",
      "SER: 9.36e-01\n",
      "BER: 4.98e-01\n",
      "SNR: 0.00 dB\n",
      "MI: -0.33 bits\n",
      "GMI: 0.00 bits\n",
      "channel 0\t fc : 193.1000 THz\n",
      "  mode #0\t power: 0.00 dBm\n",
      "channel 0\t power: 0.00 dBm\n",
      "\n",
      "total WDM signal power: 0.00 dBm\n",
      "CSPR = 9.00 dB\n",
      "\n",
      "\n",
      "nlms - training stage #0\n"
     ]
    },
    {
     "data": {
      "application/vnd.jupyter.widget-view+json": {
       "model_id": "7e6d9f4d8194431caa95e31ab8243a9e",
       "version_major": 2,
       "version_minor": 0
      },
      "text/plain": [
       "  0%|          | 0/5 [00:00<?, ?it/s]"
      ]
     },
     "metadata": {},
     "output_type": "display_data"
    },
    {
     "name": "stdout",
     "output_type": "stream",
     "text": [
      "nlms pre-convergence training iteration #0\n",
      "nlms MSE = 0.666767.\n",
      "nlms pre-convergence training iteration #1\n",
      "nlms MSE = 0.635823.\n",
      "nlms pre-convergence training iteration #2\n",
      "nlms MSE = 0.629321.\n",
      "nlms pre-convergence training iteration #3\n",
      "nlms MSE = 0.625380.\n",
      "nlms pre-convergence training iteration #4\n",
      "nlms MSE = 0.622989.\n",
      "\n",
      "\n",
      "dd-lms - training stage #1\n",
      "dd-lms MSE = 0.067030.\n",
      "Results:\n",
      "\n",
      "SER: 9.36e-01\n",
      "BER: 4.96e-01\n",
      "SNR: 0.01 dB\n",
      "MI: -0.31 bits\n",
      "GMI: 0.00 bits\n",
      "channel 0\t fc : 193.1000 THz\n",
      "  mode #0\t power: 0.00 dBm\n",
      "channel 0\t power: -0.00 dBm\n",
      "\n",
      "total WDM signal power: -0.00 dBm\n",
      "CSPR = 9.00 dB\n",
      "\n",
      "\n",
      "nlms - training stage #0\n"
     ]
    },
    {
     "data": {
      "application/vnd.jupyter.widget-view+json": {
       "model_id": "00182685f650478797a78dbcf26ae488",
       "version_major": 2,
       "version_minor": 0
      },
      "text/plain": [
       "  0%|          | 0/5 [00:00<?, ?it/s]"
      ]
     },
     "metadata": {},
     "output_type": "display_data"
    },
    {
     "name": "stdout",
     "output_type": "stream",
     "text": [
      "nlms pre-convergence training iteration #0\n",
      "nlms MSE = 0.661879.\n",
      "nlms pre-convergence training iteration #1\n",
      "nlms MSE = 0.634180.\n",
      "nlms pre-convergence training iteration #2\n",
      "nlms MSE = 0.627781.\n",
      "nlms pre-convergence training iteration #3\n",
      "nlms MSE = 0.623960.\n",
      "nlms pre-convergence training iteration #4\n",
      "nlms MSE = 0.621651.\n",
      "\n",
      "\n",
      "dd-lms - training stage #1\n",
      "dd-lms MSE = 0.066977.\n",
      "Results:\n",
      "\n",
      "SER: 9.34e-01\n",
      "BER: 4.96e-01\n",
      "SNR: 0.00 dB\n",
      "MI: -0.33 bits\n",
      "GMI: 0.00 bits\n",
      "channel 0\t fc : 193.1000 THz\n",
      "  mode #0\t power: 0.00 dBm\n",
      "channel 0\t power: -0.00 dBm\n",
      "\n",
      "total WDM signal power: -0.00 dBm\n",
      "CSPR = 9.00 dB\n",
      "\n",
      "\n",
      "nlms - training stage #0\n"
     ]
    },
    {
     "data": {
      "application/vnd.jupyter.widget-view+json": {
       "model_id": "6e407c099da54a5081d4bebe6d2fb7c4",
       "version_major": 2,
       "version_minor": 0
      },
      "text/plain": [
       "  0%|          | 0/5 [00:00<?, ?it/s]"
      ]
     },
     "metadata": {},
     "output_type": "display_data"
    },
    {
     "name": "stdout",
     "output_type": "stream",
     "text": [
      "nlms pre-convergence training iteration #0\n",
      "nlms MSE = 0.681923.\n",
      "nlms pre-convergence training iteration #1\n",
      "nlms MSE = 0.640829.\n",
      "nlms pre-convergence training iteration #2\n",
      "nlms MSE = 0.632953.\n",
      "nlms pre-convergence training iteration #3\n",
      "nlms MSE = 0.628210.\n",
      "nlms pre-convergence training iteration #4\n",
      "nlms MSE = 0.625295.\n",
      "\n",
      "\n",
      "dd-lms - training stage #1\n",
      "dd-lms MSE = 0.066845.\n",
      "Results:\n",
      "\n",
      "SER: 9.37e-01\n",
      "BER: 4.97e-01\n",
      "SNR: 0.00 dB\n",
      "MI: -0.33 bits\n",
      "GMI: 0.00 bits\n",
      "channel 0\t fc : 193.1000 THz\n",
      "  mode #0\t power: 0.00 dBm\n",
      "channel 0\t power: 0.00 dBm\n",
      "\n",
      "total WDM signal power: 0.00 dBm\n",
      "CSPR = 9.00 dB\n",
      "\n",
      "\n",
      "nlms - training stage #0\n"
     ]
    },
    {
     "data": {
      "application/vnd.jupyter.widget-view+json": {
       "model_id": "fed4435e46d04fb1830df001d8807612",
       "version_major": 2,
       "version_minor": 0
      },
      "text/plain": [
       "  0%|          | 0/5 [00:00<?, ?it/s]"
      ]
     },
     "metadata": {},
     "output_type": "display_data"
    },
    {
     "name": "stdout",
     "output_type": "stream",
     "text": [
      "nlms pre-convergence training iteration #0\n",
      "nlms MSE = 0.667413.\n",
      "nlms pre-convergence training iteration #1\n",
      "nlms MSE = 0.633003.\n",
      "nlms pre-convergence training iteration #2\n",
      "nlms MSE = 0.625839.\n",
      "nlms pre-convergence training iteration #3\n",
      "nlms MSE = 0.621500.\n",
      "nlms pre-convergence training iteration #4\n",
      "nlms MSE = 0.618816.\n",
      "\n",
      "\n",
      "dd-lms - training stage #1\n",
      "dd-lms MSE = 0.066978.\n",
      "Results:\n",
      "\n",
      "SER: 9.36e-01\n",
      "BER: 4.97e-01\n",
      "SNR: 0.00 dB\n",
      "MI: -0.33 bits\n",
      "GMI: 0.00 bits\n",
      "channel 0\t fc : 193.1000 THz\n",
      "  mode #0\t power: 0.00 dBm\n",
      "channel 0\t power: 0.00 dBm\n",
      "\n",
      "total WDM signal power: 0.00 dBm\n",
      "CSPR = 9.00 dB\n",
      "\n",
      "\n",
      "nlms - training stage #0\n"
     ]
    },
    {
     "data": {
      "application/vnd.jupyter.widget-view+json": {
       "model_id": "3fe318d76e6641f3b735d5b0be35342d",
       "version_major": 2,
       "version_minor": 0
      },
      "text/plain": [
       "  0%|          | 0/5 [00:00<?, ?it/s]"
      ]
     },
     "metadata": {},
     "output_type": "display_data"
    },
    {
     "name": "stdout",
     "output_type": "stream",
     "text": [
      "nlms pre-convergence training iteration #0\n",
      "nlms MSE = 0.665019.\n",
      "nlms pre-convergence training iteration #1\n",
      "nlms MSE = 0.633457.\n",
      "nlms pre-convergence training iteration #2\n",
      "nlms MSE = 0.627448.\n",
      "nlms pre-convergence training iteration #3\n",
      "nlms MSE = 0.623844.\n",
      "nlms pre-convergence training iteration #4\n",
      "nlms MSE = 0.621636.\n",
      "\n",
      "\n",
      "dd-lms - training stage #1\n",
      "dd-lms MSE = 0.066800.\n",
      "Results:\n",
      "\n",
      "SER: 9.36e-01\n",
      "BER: 4.97e-01\n",
      "SNR: 0.01 dB\n",
      "MI: -0.31 bits\n",
      "GMI: 0.00 bits\n",
      "channel 0\t fc : 193.1000 THz\n",
      "  mode #0\t power: 0.00 dBm\n",
      "channel 0\t power: -0.00 dBm\n",
      "\n",
      "total WDM signal power: -0.00 dBm\n",
      "CSPR = 9.00 dB\n",
      "\n",
      "\n",
      "nlms - training stage #0\n"
     ]
    },
    {
     "data": {
      "application/vnd.jupyter.widget-view+json": {
       "model_id": "53f0bd9c7fcf46a1ae7caff0727e0daa",
       "version_major": 2,
       "version_minor": 0
      },
      "text/plain": [
       "  0%|          | 0/5 [00:00<?, ?it/s]"
      ]
     },
     "metadata": {},
     "output_type": "display_data"
    },
    {
     "name": "stdout",
     "output_type": "stream",
     "text": [
      "nlms pre-convergence training iteration #0\n",
      "nlms MSE = 0.677970.\n",
      "nlms pre-convergence training iteration #1\n",
      "nlms MSE = 0.639402.\n",
      "nlms pre-convergence training iteration #2\n",
      "nlms MSE = 0.631361.\n",
      "nlms pre-convergence training iteration #3\n",
      "nlms MSE = 0.626412.\n",
      "nlms pre-convergence training iteration #4\n",
      "nlms MSE = 0.623359.\n",
      "\n",
      "\n",
      "dd-lms - training stage #1\n",
      "dd-lms MSE = 0.067106.\n",
      "Results:\n",
      "\n",
      "SER: 9.36e-01\n",
      "BER: 4.98e-01\n",
      "SNR: 0.00 dB\n",
      "MI: -0.32 bits\n",
      "GMI: 0.00 bits\n",
      "channel 0\t fc : 193.1000 THz\n",
      "  mode #0\t power: 0.00 dBm\n",
      "channel 0\t power: 0.00 dBm\n",
      "\n",
      "total WDM signal power: 0.00 dBm\n",
      "CSPR = 9.00 dB\n",
      "\n",
      "\n",
      "nlms - training stage #0\n"
     ]
    },
    {
     "data": {
      "application/vnd.jupyter.widget-view+json": {
       "model_id": "c9bb32dfca9d4582b17846bd9634f48a",
       "version_major": 2,
       "version_minor": 0
      },
      "text/plain": [
       "  0%|          | 0/5 [00:00<?, ?it/s]"
      ]
     },
     "metadata": {},
     "output_type": "display_data"
    },
    {
     "name": "stdout",
     "output_type": "stream",
     "text": [
      "nlms pre-convergence training iteration #0\n",
      "nlms MSE = 0.680164.\n",
      "nlms pre-convergence training iteration #1\n",
      "nlms MSE = 0.646338.\n",
      "nlms pre-convergence training iteration #2\n",
      "nlms MSE = 0.639094.\n",
      "nlms pre-convergence training iteration #3\n",
      "nlms MSE = 0.634819.\n",
      "nlms pre-convergence training iteration #4\n",
      "nlms MSE = 0.632225.\n",
      "\n",
      "\n",
      "dd-lms - training stage #1\n",
      "dd-lms MSE = 0.067269.\n",
      "Results:\n",
      "\n",
      "SER: 9.38e-01\n",
      "BER: 4.99e-01\n",
      "SNR: 0.00 dB\n",
      "MI: -0.34 bits\n",
      "GMI: 0.00 bits\n",
      "channel 0\t fc : 193.1000 THz\n",
      "  mode #0\t power: 0.00 dBm\n",
      "channel 0\t power: -0.00 dBm\n",
      "\n",
      "total WDM signal power: -0.00 dBm\n",
      "CSPR = 9.00 dB\n",
      "\n",
      "\n",
      "nlms - training stage #0\n"
     ]
    },
    {
     "data": {
      "application/vnd.jupyter.widget-view+json": {
       "model_id": "1d7b61dd4ffc481a9d211547c5234520",
       "version_major": 2,
       "version_minor": 0
      },
      "text/plain": [
       "  0%|          | 0/5 [00:00<?, ?it/s]"
      ]
     },
     "metadata": {},
     "output_type": "display_data"
    },
    {
     "name": "stdout",
     "output_type": "stream",
     "text": [
      "nlms pre-convergence training iteration #0\n",
      "nlms MSE = 0.680434.\n",
      "nlms pre-convergence training iteration #1\n",
      "nlms MSE = 0.639401.\n",
      "nlms pre-convergence training iteration #2\n",
      "nlms MSE = 0.630846.\n",
      "nlms pre-convergence training iteration #3\n",
      "nlms MSE = 0.625719.\n",
      "nlms pre-convergence training iteration #4\n",
      "nlms MSE = 0.622593.\n",
      "\n",
      "\n",
      "dd-lms - training stage #1\n",
      "dd-lms MSE = 0.067088.\n",
      "Results:\n",
      "\n",
      "SER: 9.36e-01\n",
      "BER: 4.97e-01\n",
      "SNR: 0.00 dB\n",
      "MI: -0.33 bits\n",
      "GMI: 0.00 bits\n",
      "channel 0\t fc : 193.1000 THz\n",
      "  mode #0\t power: 0.00 dBm\n",
      "channel 0\t power: -0.00 dBm\n",
      "\n",
      "total WDM signal power: -0.00 dBm\n",
      "CSPR = 9.00 dB\n",
      "\n",
      "\n",
      "nlms - training stage #0\n"
     ]
    },
    {
     "data": {
      "application/vnd.jupyter.widget-view+json": {
       "model_id": "abe42234490f4c2b8247c369d47b5100",
       "version_major": 2,
       "version_minor": 0
      },
      "text/plain": [
       "  0%|          | 0/5 [00:00<?, ?it/s]"
      ]
     },
     "metadata": {},
     "output_type": "display_data"
    },
    {
     "name": "stdout",
     "output_type": "stream",
     "text": [
      "nlms pre-convergence training iteration #0\n",
      "nlms MSE = 0.680354.\n",
      "nlms pre-convergence training iteration #1\n",
      "nlms MSE = 0.642273.\n",
      "nlms pre-convergence training iteration #2\n",
      "nlms MSE = 0.633955.\n",
      "nlms pre-convergence training iteration #3\n",
      "nlms MSE = 0.629077.\n",
      "nlms pre-convergence training iteration #4\n",
      "nlms MSE = 0.626206.\n",
      "\n",
      "\n",
      "dd-lms - training stage #1\n",
      "dd-lms MSE = 0.066962.\n",
      "Results:\n",
      "\n",
      "SER: 9.36e-01\n",
      "BER: 4.96e-01\n",
      "SNR: 0.00 dB\n",
      "MI: -0.32 bits\n",
      "GMI: 0.00 bits\n",
      "channel 0\t fc : 193.1000 THz\n",
      "  mode #0\t power: 0.00 dBm\n",
      "channel 0\t power: 0.00 dBm\n",
      "\n",
      "total WDM signal power: 0.00 dBm\n",
      "CSPR = 9.00 dB\n",
      "\n",
      "\n",
      "nlms - training stage #0\n"
     ]
    },
    {
     "data": {
      "application/vnd.jupyter.widget-view+json": {
       "model_id": "1b801f61c82746129edf20e61973b656",
       "version_major": 2,
       "version_minor": 0
      },
      "text/plain": [
       "  0%|          | 0/5 [00:00<?, ?it/s]"
      ]
     },
     "metadata": {},
     "output_type": "display_data"
    },
    {
     "name": "stdout",
     "output_type": "stream",
     "text": [
      "nlms pre-convergence training iteration #0\n",
      "nlms MSE = 0.674068.\n",
      "nlms pre-convergence training iteration #1\n",
      "nlms MSE = 0.632849.\n",
      "nlms pre-convergence training iteration #2\n",
      "nlms MSE = 0.624560.\n",
      "nlms pre-convergence training iteration #3\n",
      "nlms MSE = 0.619626.\n",
      "nlms pre-convergence training iteration #4\n",
      "nlms MSE = 0.616655.\n",
      "\n",
      "\n",
      "dd-lms - training stage #1\n",
      "dd-lms MSE = 0.066973.\n",
      "Results:\n",
      "\n",
      "SER: 9.36e-01\n",
      "BER: 4.97e-01\n",
      "SNR: 0.00 dB\n",
      "MI: -0.33 bits\n",
      "GMI: 0.00 bits\n",
      "channel 0\t fc : 193.1000 THz\n",
      "  mode #0\t power: 0.00 dBm\n",
      "channel 0\t power: -0.00 dBm\n",
      "\n",
      "total WDM signal power: -0.00 dBm\n",
      "CSPR = 9.00 dB\n",
      "\n",
      "\n",
      "nlms - training stage #0\n"
     ]
    },
    {
     "data": {
      "application/vnd.jupyter.widget-view+json": {
       "model_id": "73da9105eb1346ff8ce63eb2dc104b10",
       "version_major": 2,
       "version_minor": 0
      },
      "text/plain": [
       "  0%|          | 0/5 [00:00<?, ?it/s]"
      ]
     },
     "metadata": {},
     "output_type": "display_data"
    },
    {
     "name": "stdout",
     "output_type": "stream",
     "text": [
      "nlms pre-convergence training iteration #0\n",
      "nlms MSE = 0.673857.\n",
      "nlms pre-convergence training iteration #1\n",
      "nlms MSE = 0.635234.\n",
      "nlms pre-convergence training iteration #2\n",
      "nlms MSE = 0.626488.\n",
      "nlms pre-convergence training iteration #3\n",
      "nlms MSE = 0.621174.\n",
      "nlms pre-convergence training iteration #4\n",
      "nlms MSE = 0.617902.\n",
      "\n",
      "\n",
      "dd-lms - training stage #1\n",
      "dd-lms MSE = 0.066932.\n",
      "Results:\n",
      "\n",
      "SER: 9.37e-01\n",
      "BER: 4.99e-01\n",
      "SNR: 0.00 dB\n",
      "MI: -0.34 bits\n",
      "GMI: 0.00 bits\n",
      "channel 0\t fc : 193.1000 THz\n",
      "  mode #0\t power: 0.00 dBm\n",
      "channel 0\t power: -0.00 dBm\n",
      "\n",
      "total WDM signal power: -0.00 dBm\n",
      "CSPR = 9.00 dB\n",
      "\n",
      "\n",
      "nlms - training stage #0\n"
     ]
    },
    {
     "data": {
      "application/vnd.jupyter.widget-view+json": {
       "model_id": "f03c737cbf0f4de08b727351e37b8ac7",
       "version_major": 2,
       "version_minor": 0
      },
      "text/plain": [
       "  0%|          | 0/5 [00:00<?, ?it/s]"
      ]
     },
     "metadata": {},
     "output_type": "display_data"
    },
    {
     "name": "stdout",
     "output_type": "stream",
     "text": [
      "nlms pre-convergence training iteration #0\n",
      "nlms MSE = 0.687596.\n",
      "nlms pre-convergence training iteration #1\n",
      "nlms MSE = 0.644079.\n",
      "nlms pre-convergence training iteration #2\n",
      "nlms MSE = 0.635291.\n",
      "nlms pre-convergence training iteration #3\n",
      "nlms MSE = 0.630096.\n",
      "nlms pre-convergence training iteration #4\n",
      "nlms MSE = 0.626989.\n",
      "\n",
      "\n",
      "dd-lms - training stage #1\n",
      "dd-lms MSE = 0.067175.\n",
      "Results:\n",
      "\n",
      "SER: 9.36e-01\n",
      "BER: 4.97e-01\n",
      "SNR: 0.00 dB\n",
      "MI: -0.33 bits\n",
      "GMI: 0.00 bits\n",
      "channel 0\t fc : 193.1000 THz\n",
      "  mode #0\t power: 0.00 dBm\n",
      "channel 0\t power: 0.00 dBm\n",
      "\n",
      "total WDM signal power: 0.00 dBm\n",
      "CSPR = 9.00 dB\n",
      "\n",
      "\n",
      "nlms - training stage #0\n"
     ]
    },
    {
     "data": {
      "application/vnd.jupyter.widget-view+json": {
       "model_id": "da69168680fa4321a866f8704b53a700",
       "version_major": 2,
       "version_minor": 0
      },
      "text/plain": [
       "  0%|          | 0/5 [00:00<?, ?it/s]"
      ]
     },
     "metadata": {},
     "output_type": "display_data"
    },
    {
     "name": "stdout",
     "output_type": "stream",
     "text": [
      "nlms pre-convergence training iteration #0\n",
      "nlms MSE = 0.667287.\n",
      "nlms pre-convergence training iteration #1\n",
      "nlms MSE = 0.634899.\n",
      "nlms pre-convergence training iteration #2\n",
      "nlms MSE = 0.627958.\n",
      "nlms pre-convergence training iteration #3\n",
      "nlms MSE = 0.623835.\n",
      "nlms pre-convergence training iteration #4\n",
      "nlms MSE = 0.621360.\n",
      "\n",
      "\n",
      "dd-lms - training stage #1\n",
      "dd-lms MSE = 0.067117.\n",
      "Results:\n",
      "\n",
      "SER: 9.35e-01\n",
      "BER: 4.97e-01\n",
      "SNR: 0.00 dB\n",
      "MI: -0.32 bits\n",
      "GMI: 0.00 bits\n",
      "channel 0\t fc : 193.1000 THz\n",
      "  mode #0\t power: 0.00 dBm\n",
      "channel 0\t power: -0.00 dBm\n",
      "\n",
      "total WDM signal power: -0.00 dBm\n",
      "CSPR = 9.00 dB\n",
      "\n",
      "\n",
      "nlms - training stage #0\n"
     ]
    },
    {
     "data": {
      "application/vnd.jupyter.widget-view+json": {
       "model_id": "b95de1f6ea99409db091a4870771ccf8",
       "version_major": 2,
       "version_minor": 0
      },
      "text/plain": [
       "  0%|          | 0/5 [00:00<?, ?it/s]"
      ]
     },
     "metadata": {},
     "output_type": "display_data"
    },
    {
     "name": "stdout",
     "output_type": "stream",
     "text": [
      "nlms pre-convergence training iteration #0\n",
      "nlms MSE = 0.671877.\n",
      "nlms pre-convergence training iteration #1\n",
      "nlms MSE = 0.638529.\n",
      "nlms pre-convergence training iteration #2\n",
      "nlms MSE = 0.631550.\n",
      "nlms pre-convergence training iteration #3\n",
      "nlms MSE = 0.627429.\n",
      "nlms pre-convergence training iteration #4\n",
      "nlms MSE = 0.624958.\n",
      "\n",
      "\n",
      "dd-lms - training stage #1\n",
      "dd-lms MSE = 0.066984.\n",
      "Results:\n",
      "\n",
      "SER: 9.35e-01\n",
      "BER: 4.95e-01\n",
      "SNR: 0.01 dB\n",
      "MI: -0.31 bits\n",
      "GMI: 0.00 bits\n",
      "channel 0\t fc : 193.1000 THz\n",
      "  mode #0\t power: 0.00 dBm\n",
      "channel 0\t power: 0.00 dBm\n",
      "\n",
      "total WDM signal power: 0.00 dBm\n",
      "CSPR = 9.00 dB\n",
      "\n",
      "\n",
      "nlms - training stage #0\n"
     ]
    },
    {
     "data": {
      "application/vnd.jupyter.widget-view+json": {
       "model_id": "369c42487c674681ac156a0d23e9b809",
       "version_major": 2,
       "version_minor": 0
      },
      "text/plain": [
       "  0%|          | 0/5 [00:00<?, ?it/s]"
      ]
     },
     "metadata": {},
     "output_type": "display_data"
    },
    {
     "name": "stdout",
     "output_type": "stream",
     "text": [
      "nlms pre-convergence training iteration #0\n",
      "nlms MSE = 0.673331.\n",
      "nlms pre-convergence training iteration #1\n",
      "nlms MSE = 0.636256.\n",
      "nlms pre-convergence training iteration #2\n",
      "nlms MSE = 0.628602.\n",
      "nlms pre-convergence training iteration #3\n",
      "nlms MSE = 0.624138.\n",
      "nlms pre-convergence training iteration #4\n",
      "nlms MSE = 0.621473.\n",
      "\n",
      "\n",
      "dd-lms - training stage #1\n",
      "dd-lms MSE = 0.066861.\n",
      "Results:\n",
      "\n",
      "SER: 9.37e-01\n",
      "BER: 4.99e-01\n",
      "SNR: -0.00 dB\n",
      "MI: -0.34 bits\n",
      "GMI: 0.00 bits\n",
      "channel 0\t fc : 193.1000 THz\n",
      "  mode #0\t power: 0.00 dBm\n",
      "channel 0\t power: -0.00 dBm\n",
      "\n",
      "total WDM signal power: -0.00 dBm\n",
      "CSPR = 9.00 dB\n",
      "\n",
      "\n",
      "nlms - training stage #0\n"
     ]
    },
    {
     "data": {
      "application/vnd.jupyter.widget-view+json": {
       "model_id": "962ee80c9224465ca6c31ec23c167e92",
       "version_major": 2,
       "version_minor": 0
      },
      "text/plain": [
       "  0%|          | 0/5 [00:00<?, ?it/s]"
      ]
     },
     "metadata": {},
     "output_type": "display_data"
    },
    {
     "name": "stdout",
     "output_type": "stream",
     "text": [
      "nlms pre-convergence training iteration #0\n",
      "nlms MSE = 0.680179.\n",
      "nlms pre-convergence training iteration #1\n",
      "nlms MSE = 0.641020.\n",
      "nlms pre-convergence training iteration #2\n",
      "nlms MSE = 0.632640.\n",
      "nlms pre-convergence training iteration #3\n",
      "nlms MSE = 0.627612.\n",
      "nlms pre-convergence training iteration #4\n",
      "nlms MSE = 0.624564.\n",
      "\n",
      "\n",
      "dd-lms - training stage #1\n",
      "dd-lms MSE = 0.066925.\n",
      "Results:\n",
      "\n",
      "SER: 9.35e-01\n",
      "BER: 4.95e-01\n",
      "SNR: 0.01 dB\n",
      "MI: -0.30 bits\n",
      "GMI: 0.00 bits\n",
      "channel 0\t fc : 193.1000 THz\n",
      "  mode #0\t power: 0.00 dBm\n",
      "channel 0\t power: -0.00 dBm\n",
      "\n",
      "total WDM signal power: -0.00 dBm\n",
      "CSPR = 9.00 dB\n",
      "\n",
      "\n",
      "nlms - training stage #0\n"
     ]
    },
    {
     "data": {
      "application/vnd.jupyter.widget-view+json": {
       "model_id": "f63b332cdcf4433e82be59866f07bbf1",
       "version_major": 2,
       "version_minor": 0
      },
      "text/plain": [
       "  0%|          | 0/5 [00:00<?, ?it/s]"
      ]
     },
     "metadata": {},
     "output_type": "display_data"
    },
    {
     "name": "stdout",
     "output_type": "stream",
     "text": [
      "nlms pre-convergence training iteration #0\n",
      "nlms MSE = 0.679355.\n",
      "nlms pre-convergence training iteration #1\n",
      "nlms MSE = 0.638740.\n",
      "nlms pre-convergence training iteration #2\n",
      "nlms MSE = 0.630617.\n",
      "nlms pre-convergence training iteration #3\n",
      "nlms MSE = 0.625723.\n",
      "nlms pre-convergence training iteration #4\n",
      "nlms MSE = 0.622720.\n",
      "\n",
      "\n",
      "dd-lms - training stage #1\n",
      "dd-lms MSE = 0.067271.\n",
      "Results:\n",
      "\n",
      "SER: 9.36e-01\n",
      "BER: 4.95e-01\n",
      "SNR: 0.01 dB\n",
      "MI: -0.30 bits\n",
      "GMI: 0.00 bits\n",
      "channel 0\t fc : 193.1000 THz\n",
      "  mode #0\t power: 0.00 dBm\n",
      "channel 0\t power: -0.00 dBm\n",
      "\n",
      "total WDM signal power: -0.00 dBm\n",
      "CSPR = 9.00 dB\n",
      "\n",
      "\n",
      "nlms - training stage #0\n"
     ]
    },
    {
     "data": {
      "application/vnd.jupyter.widget-view+json": {
       "model_id": "3474f24a1fcd41b48cf9195c5bc74865",
       "version_major": 2,
       "version_minor": 0
      },
      "text/plain": [
       "  0%|          | 0/5 [00:00<?, ?it/s]"
      ]
     },
     "metadata": {},
     "output_type": "display_data"
    },
    {
     "name": "stdout",
     "output_type": "stream",
     "text": [
      "nlms pre-convergence training iteration #0\n",
      "nlms MSE = 0.667833.\n",
      "nlms pre-convergence training iteration #1\n",
      "nlms MSE = 0.631272.\n",
      "nlms pre-convergence training iteration #2\n",
      "nlms MSE = 0.623375.\n",
      "nlms pre-convergence training iteration #3\n",
      "nlms MSE = 0.618807.\n",
      "nlms pre-convergence training iteration #4\n",
      "nlms MSE = 0.616124.\n",
      "\n",
      "\n",
      "dd-lms - training stage #1\n",
      "dd-lms MSE = 0.066901.\n",
      "Results:\n",
      "\n",
      "SER: 9.37e-01\n",
      "BER: 4.97e-01\n",
      "SNR: 0.00 dB\n",
      "MI: -0.32 bits\n",
      "GMI: 0.00 bits\n",
      "channel 0\t fc : 193.1000 THz\n",
      "  mode #0\t power: 0.00 dBm\n",
      "channel 0\t power: 0.00 dBm\n",
      "\n",
      "total WDM signal power: 0.00 dBm\n",
      "CSPR = 9.00 dB\n",
      "\n",
      "\n",
      "nlms - training stage #0\n"
     ]
    },
    {
     "data": {
      "application/vnd.jupyter.widget-view+json": {
       "model_id": "8ab56409a4dd425e8d2a65ea5704331c",
       "version_major": 2,
       "version_minor": 0
      },
      "text/plain": [
       "  0%|          | 0/5 [00:00<?, ?it/s]"
      ]
     },
     "metadata": {},
     "output_type": "display_data"
    },
    {
     "name": "stdout",
     "output_type": "stream",
     "text": [
      "nlms pre-convergence training iteration #0\n",
      "nlms MSE = 0.671576.\n",
      "nlms pre-convergence training iteration #1\n",
      "nlms MSE = 0.643729.\n",
      "nlms pre-convergence training iteration #2\n",
      "nlms MSE = 0.637072.\n",
      "nlms pre-convergence training iteration #3\n",
      "nlms MSE = 0.633126.\n",
      "nlms pre-convergence training iteration #4\n",
      "nlms MSE = 0.630756.\n",
      "\n",
      "\n",
      "dd-lms - training stage #1\n",
      "dd-lms MSE = 0.067257.\n",
      "Results:\n",
      "\n",
      "SER: 9.37e-01\n",
      "BER: 4.98e-01\n",
      "SNR: -0.00 dB\n",
      "MI: -0.35 bits\n",
      "GMI: -0.00 bits\n",
      "channel 0\t fc : 193.1000 THz\n",
      "  mode #0\t power: 0.00 dBm\n",
      "channel 0\t power: -0.00 dBm\n",
      "\n",
      "total WDM signal power: -0.00 dBm\n",
      "CSPR = 9.00 dB\n",
      "\n",
      "\n",
      "nlms - training stage #0\n"
     ]
    },
    {
     "data": {
      "application/vnd.jupyter.widget-view+json": {
       "model_id": "29db89b1a6694ccb8724ef875a131eb2",
       "version_major": 2,
       "version_minor": 0
      },
      "text/plain": [
       "  0%|          | 0/5 [00:00<?, ?it/s]"
      ]
     },
     "metadata": {},
     "output_type": "display_data"
    },
    {
     "name": "stdout",
     "output_type": "stream",
     "text": [
      "nlms pre-convergence training iteration #0\n",
      "nlms MSE = 0.667182.\n",
      "nlms pre-convergence training iteration #1\n",
      "nlms MSE = 0.642520.\n",
      "nlms pre-convergence training iteration #2\n",
      "nlms MSE = 0.637209.\n",
      "nlms pre-convergence training iteration #3\n",
      "nlms MSE = 0.633923.\n",
      "nlms pre-convergence training iteration #4\n",
      "nlms MSE = 0.631898.\n",
      "\n",
      "\n",
      "dd-lms - training stage #1\n",
      "dd-lms MSE = 0.066606.\n",
      "Results:\n",
      "\n",
      "SER: 9.36e-01\n",
      "BER: 4.97e-01\n",
      "SNR: 0.00 dB\n",
      "MI: -0.32 bits\n",
      "GMI: 0.00 bits\n",
      "channel 0\t fc : 193.1000 THz\n",
      "  mode #0\t power: 0.00 dBm\n",
      "channel 0\t power: -0.00 dBm\n",
      "\n",
      "total WDM signal power: -0.00 dBm\n",
      "CSPR = 9.00 dB\n",
      "\n",
      "\n",
      "nlms - training stage #0\n"
     ]
    },
    {
     "data": {
      "application/vnd.jupyter.widget-view+json": {
       "model_id": "fff25ed21f7845f1931fbff075c6d1c7",
       "version_major": 2,
       "version_minor": 0
      },
      "text/plain": [
       "  0%|          | 0/5 [00:00<?, ?it/s]"
      ]
     },
     "metadata": {},
     "output_type": "display_data"
    },
    {
     "name": "stdout",
     "output_type": "stream",
     "text": [
      "nlms pre-convergence training iteration #0\n",
      "nlms MSE = 0.680229.\n",
      "nlms pre-convergence training iteration #1\n",
      "nlms MSE = 0.639738.\n",
      "nlms pre-convergence training iteration #2\n",
      "nlms MSE = 0.631729.\n",
      "nlms pre-convergence training iteration #3\n",
      "nlms MSE = 0.626975.\n",
      "nlms pre-convergence training iteration #4\n",
      "nlms MSE = 0.624111.\n",
      "\n",
      "\n",
      "dd-lms - training stage #1\n",
      "dd-lms MSE = 0.066891.\n",
      "Results:\n",
      "\n",
      "SER: 9.33e-01\n",
      "BER: 4.93e-01\n",
      "SNR: 0.01 dB\n",
      "MI: -0.30 bits\n",
      "GMI: 0.00 bits\n",
      "channel 0\t fc : 193.1000 THz\n",
      "  mode #0\t power: 0.00 dBm\n",
      "channel 0\t power: -0.00 dBm\n",
      "\n",
      "total WDM signal power: -0.00 dBm\n",
      "CSPR = 9.00 dB\n",
      "\n",
      "\n",
      "nlms - training stage #0\n"
     ]
    },
    {
     "data": {
      "application/vnd.jupyter.widget-view+json": {
       "model_id": "10542d01d16b4ca791a9c343d1acaf4c",
       "version_major": 2,
       "version_minor": 0
      },
      "text/plain": [
       "  0%|          | 0/5 [00:00<?, ?it/s]"
      ]
     },
     "metadata": {},
     "output_type": "display_data"
    },
    {
     "name": "stdout",
     "output_type": "stream",
     "text": [
      "nlms pre-convergence training iteration #0\n",
      "nlms MSE = 0.668208.\n",
      "nlms pre-convergence training iteration #1\n",
      "nlms MSE = 0.633528.\n",
      "nlms pre-convergence training iteration #2\n",
      "nlms MSE = 0.626273.\n",
      "nlms pre-convergence training iteration #3\n",
      "nlms MSE = 0.621895.\n",
      "nlms pre-convergence training iteration #4\n",
      "nlms MSE = 0.619235.\n",
      "\n",
      "\n",
      "dd-lms - training stage #1\n",
      "dd-lms MSE = 0.066929.\n",
      "Results:\n",
      "\n",
      "SER: 9.36e-01\n",
      "BER: 4.96e-01\n",
      "SNR: 0.00 dB\n",
      "MI: -0.32 bits\n",
      "GMI: 0.00 bits\n",
      "channel 0\t fc : 193.1000 THz\n",
      "  mode #0\t power: 0.00 dBm\n",
      "channel 0\t power: -0.00 dBm\n",
      "\n",
      "total WDM signal power: -0.00 dBm\n",
      "CSPR = 9.00 dB\n",
      "\n",
      "\n",
      "nlms - training stage #0\n"
     ]
    },
    {
     "data": {
      "application/vnd.jupyter.widget-view+json": {
       "model_id": "771aee34d8804e0d91255fbbd3c567e2",
       "version_major": 2,
       "version_minor": 0
      },
      "text/plain": [
       "  0%|          | 0/5 [00:00<?, ?it/s]"
      ]
     },
     "metadata": {},
     "output_type": "display_data"
    },
    {
     "name": "stdout",
     "output_type": "stream",
     "text": [
      "nlms pre-convergence training iteration #0\n",
      "nlms MSE = 0.676654.\n",
      "nlms pre-convergence training iteration #1\n",
      "nlms MSE = 0.635246.\n",
      "nlms pre-convergence training iteration #2\n",
      "nlms MSE = 0.626875.\n",
      "nlms pre-convergence training iteration #3\n",
      "nlms MSE = 0.622012.\n",
      "nlms pre-convergence training iteration #4\n",
      "nlms MSE = 0.619164.\n",
      "\n",
      "\n",
      "dd-lms - training stage #1\n",
      "dd-lms MSE = 0.066732.\n",
      "Results:\n",
      "\n",
      "SER: 9.38e-01\n",
      "BER: 4.99e-01\n",
      "SNR: -0.00 dB\n",
      "MI: -0.35 bits\n",
      "GMI: -0.00 bits\n",
      "channel 0\t fc : 193.1000 THz\n",
      "  mode #0\t power: 0.00 dBm\n",
      "channel 0\t power: 0.00 dBm\n",
      "\n",
      "total WDM signal power: 0.00 dBm\n",
      "CSPR = 9.00 dB\n",
      "\n",
      "\n",
      "nlms - training stage #0\n"
     ]
    },
    {
     "data": {
      "application/vnd.jupyter.widget-view+json": {
       "model_id": "e36a94ff81e9413da60f3166ceddbf7a",
       "version_major": 2,
       "version_minor": 0
      },
      "text/plain": [
       "  0%|          | 0/5 [00:00<?, ?it/s]"
      ]
     },
     "metadata": {},
     "output_type": "display_data"
    },
    {
     "name": "stdout",
     "output_type": "stream",
     "text": [
      "nlms pre-convergence training iteration #0\n",
      "nlms MSE = 0.675955.\n",
      "nlms pre-convergence training iteration #1\n",
      "nlms MSE = 0.633661.\n",
      "nlms pre-convergence training iteration #2\n",
      "nlms MSE = 0.625180.\n",
      "nlms pre-convergence training iteration #3\n",
      "nlms MSE = 0.619959.\n",
      "nlms pre-convergence training iteration #4\n",
      "nlms MSE = 0.616695.\n",
      "\n",
      "\n",
      "dd-lms - training stage #1\n",
      "dd-lms MSE = 0.067094.\n",
      "Results:\n",
      "\n",
      "SER: 9.36e-01\n",
      "BER: 4.97e-01\n",
      "SNR: 0.00 dB\n",
      "MI: -0.32 bits\n",
      "GMI: 0.00 bits\n",
      "channel 0\t fc : 193.1000 THz\n",
      "  mode #0\t power: 0.00 dBm\n",
      "channel 0\t power: -0.00 dBm\n",
      "\n",
      "total WDM signal power: -0.00 dBm\n",
      "CSPR = 9.00 dB\n",
      "\n",
      "\n",
      "nlms - training stage #0\n"
     ]
    },
    {
     "data": {
      "application/vnd.jupyter.widget-view+json": {
       "model_id": "e60a820a7ff94503962936259facf59b",
       "version_major": 2,
       "version_minor": 0
      },
      "text/plain": [
       "  0%|          | 0/5 [00:00<?, ?it/s]"
      ]
     },
     "metadata": {},
     "output_type": "display_data"
    },
    {
     "name": "stdout",
     "output_type": "stream",
     "text": [
      "nlms pre-convergence training iteration #0\n",
      "nlms MSE = 0.670581.\n",
      "nlms pre-convergence training iteration #1\n",
      "nlms MSE = 0.634298.\n",
      "nlms pre-convergence training iteration #2\n",
      "nlms MSE = 0.626123.\n",
      "nlms pre-convergence training iteration #3\n",
      "nlms MSE = 0.621195.\n",
      "nlms pre-convergence training iteration #4\n",
      "nlms MSE = 0.618188.\n",
      "\n",
      "\n",
      "dd-lms - training stage #1\n",
      "dd-lms MSE = 0.067203.\n",
      "Results:\n",
      "\n",
      "SER: 9.35e-01\n",
      "BER: 4.96e-01\n",
      "SNR: 0.00 dB\n",
      "MI: -0.32 bits\n",
      "GMI: 0.00 bits\n",
      "channel 0\t fc : 193.1000 THz\n",
      "  mode #0\t power: 0.00 dBm\n",
      "channel 0\t power: 0.00 dBm\n",
      "\n",
      "total WDM signal power: 0.00 dBm\n",
      "CSPR = 9.00 dB\n",
      "\n",
      "\n",
      "nlms - training stage #0\n"
     ]
    },
    {
     "data": {
      "application/vnd.jupyter.widget-view+json": {
       "model_id": "da77dca0326a48bb8a033e116b02983a",
       "version_major": 2,
       "version_minor": 0
      },
      "text/plain": [
       "  0%|          | 0/5 [00:00<?, ?it/s]"
      ]
     },
     "metadata": {},
     "output_type": "display_data"
    },
    {
     "name": "stdout",
     "output_type": "stream",
     "text": [
      "nlms pre-convergence training iteration #0\n",
      "nlms MSE = 0.669167.\n",
      "nlms pre-convergence training iteration #1\n",
      "nlms MSE = 0.628672.\n",
      "nlms pre-convergence training iteration #2\n",
      "nlms MSE = 0.620730.\n",
      "nlms pre-convergence training iteration #3\n",
      "nlms MSE = 0.615991.\n",
      "nlms pre-convergence training iteration #4\n",
      "nlms MSE = 0.613113.\n",
      "\n",
      "\n",
      "dd-lms - training stage #1\n",
      "dd-lms MSE = 0.067095.\n",
      "Results:\n",
      "\n",
      "SER: 9.38e-01\n",
      "BER: 4.99e-01\n",
      "SNR: -0.00 dB\n",
      "MI: -0.34 bits\n",
      "GMI: -0.00 bits\n"
     ]
    }
   ],
   "source": [
    "FO = np.arange(-1, 1, 0.05)  # frequency offset\n",
    "\n",
    "BER_KK = np.zeros(FO.size)\n",
    "SER_KK = np.zeros(FO.size)\n",
    "GMI_KK = np.zeros(FO.size)\n",
    "MI_KK  = np.zeros(FO.size)\n",
    "SNR_KK = np.zeros(FO.size)\n",
    "\n",
    "for indFO, FO_ in enumerate(FO):\n",
    "\n",
    "    # generate optical signal signal\n",
    "    sigTx, symbTx_, paramTx = simpleWDMTx(paramTx)\n",
    "\n",
    "    # simulate linear signal propagation\n",
    "    sigCh = linFiberCh(sigTx, Ltotal, alpha, D, Fc, Fs)\n",
    "\n",
    "    # receiver detection and demodulation\n",
    "\n",
    "    Fc = paramTx.Fc\n",
    "    Ts = 1 / Fs\n",
    "    mod = QAMModem(m=paramTx.M)\n",
    "\n",
    "    freqGrid = paramTx.freqGrid\n",
    "\n",
    "    symbTx = symbTx_[:, :, chIndex]\n",
    "\n",
    "    #Plo_dBm = CSPR_\n",
    "    Plo = 10 ** (Plo_dBm / 10) * 1e-3  # power in W\n",
    "\n",
    "#     print(\n",
    "#         \"Local oscillator P: %.2f dBm, lw: %.2f kHz, FO: %.2f MHz\"\n",
    "#         % (Plo_dBm, lw / 1e3, FO / 1e6)\n",
    "#     )\n",
    "\n",
    "    # generate LO field\n",
    "    π = np.pi\n",
    "    t = np.arange(0, len(sigCh))*Ts\n",
    "    ϕ_pn_lo = phaseNoise(lw, len(sigCh), Ts)\n",
    "\n",
    "    sigLO = np.sqrt(Plo) * np.exp(-1j * (2 * π * FO_ * t + ϕ_lo + ϕ_pn_lo))\n",
    "\n",
    "    # Add LO to the received signal\n",
    "    sigRx = np.sqrt(Plo) + sigCh * np.exp(1j * (2 * π * FO_ * t + ϕ_lo + ϕ_pn_lo))\n",
    "    sfm = sigRx.copy()\n",
    "\n",
    "    print('CSPR = %.2f dB' % (10*np.log10(signal_power(sigLO)/signal_power(sigCh))))\n",
    "\n",
    "    ### Phase-retrieval stage\n",
    "\n",
    "    # simulate ideal direct-detection optical receiver\n",
    "    Amp = np.abs(sigRx)\n",
    "\n",
    "    # Kramers-Kronig phase-retrieval\n",
    "    phiTime = KramersKronigRx(Amp, Fs)\n",
    "\n",
    "    # optical field reconstruction\n",
    "    sigRx = Amp*np.exp(1j*phiTime)\n",
    "\n",
    "    # remove DC level\n",
    "    sigRx -= np.sqrt(Plo)  # np.mean(sigRx)\n",
    "\n",
    "    # downshift to baseband\n",
    "    sigRx *= np.exp(-1j * (2 * π * FO_ * t))\n",
    "\n",
    "    #### Standard receiver processing\n",
    "\n",
    "    # Matched filtering and CD compensation\n",
    "\n",
    "    # Matched filtering\n",
    "    if paramTx.pulse == \"nrz\":\n",
    "        pulse = pulseShape(\"nrz\", paramTx.SpS)\n",
    "    elif paramTx.pulse == \"rrc\":\n",
    "        pulse = pulseShape(\n",
    "            \"rrc\", paramTx.SpS, N=paramTx.Ntaps, alpha=paramTx.alphaRRC, Ts=1 / paramTx.Rs\n",
    "        )\n",
    "\n",
    "    pulse = pulse / np.max(np.abs(pulse))\n",
    "    sigRx = firFilter(pulse, sigRx)\n",
    "\n",
    "#     # plot constellations after matched filtering\n",
    "#     pconst(sigRx[0::paramTx.SpS], lim=True, R=3)\n",
    "\n",
    "    # CD compensation\n",
    "    sigRx = edc(sigRx, Ltotal, D, Fc, Fs)\n",
    "\n",
    "#     #plot constellations after CD compensation\n",
    "#     pconst(sigRx[0::paramTx.SpS], lim=True, R=2)\n",
    "\n",
    "    # Downsampling to 2 sps and re-synchronization with transmitted sequences\n",
    "    sigRx = sigRx.reshape(-1, 1)\n",
    "\n",
    "    # decimation\n",
    "    paramDec = parameters()\n",
    "    paramDec.SpS_in = paramTx.SpS\n",
    "    paramDec.SpS_out = 2\n",
    "    sigRx = decimate(sigRx, paramDec)\n",
    "\n",
    "    symbRx = symbolSync(sigRx, symbTx, 2)\n",
    "\n",
    "    # Power normalization\n",
    "    x = sigRx\n",
    "    d = symbRx\n",
    "\n",
    "    x = x.reshape(len(x), 1) / np.sqrt(signal_power(x))\n",
    "    d = d.reshape(len(d), 1) / np.sqrt(signal_power(d))\n",
    "\n",
    "    # Adaptive equalization\n",
    "    mod = QAMModem(m=paramTx.M)\n",
    "\n",
    "    paramEq = parameters()\n",
    "    paramEq.nTaps = 7\n",
    "    paramEq.SpS = 2\n",
    "    paramEq.mu = [5e-3, 5e-3]\n",
    "    paramEq.numIter = 5\n",
    "    paramEq.storeCoeff = False\n",
    "    paramEq.alg = [\"nlms\", \"dd-lms\"]\n",
    "    paramEq.M = paramTx.M\n",
    "    paramEq.L = [20000, 80000]\n",
    "\n",
    "    y_EQ, H, errSq, Hiter = mimoAdaptEqualizer(x, dx=d, paramEq=paramEq)\n",
    "\n",
    "   # y_EQ = x[0::paramTx.SpS]\n",
    "    discard = int(paramEq.L[0]/2)\n",
    "\n",
    "#     #plot constellations after adaptive equalization\n",
    "#     pconst(y_EQ[discard:-discard,:], lim=True)\n",
    "\n",
    "    # Carrier phase recovery\n",
    "    paramCPR = parameters()\n",
    "    paramCPR.alg = \"bps\"\n",
    "    paramCPR.M = paramTx.M\n",
    "    paramCPR.N = 35\n",
    "    paramCPR.B = 64\n",
    "    paramCPR.pilotInd = np.arange(0, len(y_EQ), 20)\n",
    "\n",
    "    y_CPR, θ = cpr(y_EQ, symbTx=d, paramCPR=paramCPR)\n",
    "\n",
    "    y_CPR = y_CPR / np.sqrt(signal_power(y_CPR))\n",
    "\n",
    "#     plt.figure()\n",
    "#     plt.title(\"CPR estimated phase\")\n",
    "#     plt.plot(θ, \"-\")\n",
    "#     plt.xlim(0, len(θ))\n",
    "#     plt.grid()\n",
    "\n",
    "    discard = 5000\n",
    "\n",
    "#     # plot constellations after CPR\n",
    "#     pconst(y_CPR[discard:-discard, :], lim=True)\n",
    "\n",
    "    #### Evaluate transmission metrics\n",
    "\n",
    "    # correct for (possible) phase ambiguity\n",
    "    for k in range(y_CPR.shape[1]):\n",
    "        rot = np.mean(d[:, k] / y_CPR[:, k])\n",
    "        y_CPR[:, k] = rot * y_CPR[:, k]\n",
    "\n",
    "    y_CPR = y_CPR / np.sqrt(signal_power(y_CPR))\n",
    "\n",
    "    ind = np.arange(discard, d.shape[0] - discard)\n",
    "    BER_KK[indFO], SER_KK[indFO], SNR_KK[indFO] = fastBERcalc(y_CPR[ind, :], d[ind, :], mod)\n",
    "    GMI_KK[indFO], _ = monteCarloGMI(y_CPR[ind, :], d[ind, :], mod)\n",
    "    MI_KK[indFO] = monteCarloMI(y_CPR[ind, :], d[ind, :], mod)\n",
    "\n",
    "    print(\"Results:\\n\")\n",
    "    print(\"SER: %.2e\" % (SER_KK[indFO]))\n",
    "    print(\"BER: %.2e\" % (BER_KK[indFO]))\n",
    "    print(\"SNR: %.2f dB\" % (SNR_KK[indFO]))\n",
    "    print(\"MI: %.2f bits\" % (MI_KK[indFO]))\n",
    "    print(\"GMI: %.2f bits\" % (GMI_KK[indFO]))"
   ]
  },
  {
   "cell_type": "code",
   "execution_count": 25,
   "id": "436db181",
   "metadata": {},
   "outputs": [
    {
     "data": {
      "image/png": "[encoded data removed]",
      "text/plain": [
       "<Figure size 432x288 with 1 Axes>"
      ]
     },
     "metadata": {
      "needs_background": "light"
     },
     "output_type": "display_data"
    }
   ],
   "source": [
    "plt.plot(FO, np.log10(BER_KK), '-o')\n",
    "plt.xlabel('FO (frequency offset)')\n",
    "plt.ylabel('log10(BER)')\n",
    "plt.grid()"
   ]
  },
  {
   "cell_type": "markdown",
   "id": "5a997fb2",
   "metadata": {},
   "source": [
    "## BER vs Rolloff with NN algorithm"
   ]
  },
  {
   "cell_type": "code",
   "execution_count": 26,
   "id": "80760c6a",
   "metadata": {},
   "outputs": [],
   "source": [
    "# Transmitter parameters:\n",
    "paramTx = parameters()\n",
    "paramTx.M = 16                 # order of the modulation format\n",
    "paramTx.Rs = 32e9              # symbol rate [baud]\n",
    "paramTx.SpS = 2                # samples per symbol\n",
    "paramTx.Nbits = 400000         # total number of bits per polarization\n",
    "paramTx.pulse = \"rrc\"          # pulse shaping filter\n",
    "paramTx.Ntaps = 1024           # number of pulse shaping filter coefficients\n",
    "paramTx.alphaRRC = 0.01        # RRC rolloff\n",
    "paramTx.Pch_dBm = 0            # power of the optical signal [dBm]\n",
    "paramTx.Nch = 1                # number of WDM channels\n",
    "paramTx.Fc = 193.1e12          # central frequency of the optical spectrum\n",
    "paramTx.freqSpac = 37.5e9      # WDM grid spacing\n",
    "\n",
    "# Optical channel parameters:\n",
    "Ltotal = 50      # total link distance [km]\n",
    "alpha = 0        # fiber loss parameter [dB/km]\n",
    "D = 16          # fiber dispersion parameter [ps/nm/km]\n",
    "Fc = paramTx.Fc  # central optical frequency of the WDM spectrum [Hz]\n",
    "\n",
    "# Receiver parameters:\n",
    "\n",
    "# local oscillator (LO)\n",
    "FO = paramTx.Rs/2  # frequency offset\n",
    "lw = 100e3         # linewidth\n",
    "ϕ_lo = 0           # initial phase in rad\n",
    "Plo_dBm = 9        # power in dBm\n",
    "\n",
    "# General simulation parameters\n",
    "chIndex = 0  # index of the channel to be demodulated\n",
    "plotPSD = True\n",
    "Fs = paramTx.Rs * paramTx.SpS  # simulation sampling rate\n"
   ]
  },
  {
   "cell_type": "code",
   "execution_count": 43,
   "id": "cfc3e647",
   "metadata": {},
   "outputs": [
    {
     "name": "stdout",
     "output_type": "stream",
     "text": [
      "channel 0\t fc : 193.1000 THz\n",
      "  mode #0\t power: 0.00 dBm\n",
      "channel 0\t power: -0.00 dBm\n",
      "\n",
      "total WDM signal power: -0.00 dBm\n",
      "CSPR = 9.00 dB\n",
      "\n",
      "\n",
      "nlms - training stage #0\n"
     ]
    },
    {
     "data": {
      "application/vnd.jupyter.widget-view+json": {
       "model_id": "bd5c47127bde4dc684c1857c8d9f4367",
       "version_major": 2,
       "version_minor": 0
      },
      "text/plain": [
       "  0%|          | 0/5 [00:00<?, ?it/s]"
      ]
     },
     "metadata": {},
     "output_type": "display_data"
    },
    {
     "name": "stdout",
     "output_type": "stream",
     "text": [
      "nlms pre-convergence training iteration #0\n",
      "nlms MSE = 0.013607.\n",
      "nlms pre-convergence training iteration #1\n",
      "nlms MSE = 0.016816.\n",
      "nlms pre-convergence training iteration #2\n",
      "nlms MSE = 0.016835.\n",
      "nlms pre-convergence training iteration #3\n",
      "nlms MSE = 0.016836.\n",
      "nlms pre-convergence training iteration #4\n",
      "nlms MSE = 0.016836.\n",
      "\n",
      "\n",
      "dd-lms - training stage #1\n",
      "dd-lms MSE = 0.007221.\n",
      "Results:\n",
      "\n",
      "SER: 3.78e-04\n",
      "BER: 1.11e-04\n",
      "SNR: 22.21 dB\n",
      "MI: 3.99 bits\n",
      "GMI: 3.99 bits\n",
      "channel 0\t fc : 193.1000 THz\n",
      "  mode #0\t power: 0.00 dBm\n",
      "channel 0\t power: 0.00 dBm\n",
      "\n",
      "total WDM signal power: 0.00 dBm\n",
      "CSPR = 9.00 dB\n",
      "\n",
      "\n",
      "nlms - training stage #0\n"
     ]
    },
    {
     "data": {
      "application/vnd.jupyter.widget-view+json": {
       "model_id": "54acd5a4a0724d98ad318ccbc3c95cfe",
       "version_major": 2,
       "version_minor": 0
      },
      "text/plain": [
       "  0%|          | 0/5 [00:00<?, ?it/s]"
      ]
     },
     "metadata": {},
     "output_type": "display_data"
    },
    {
     "name": "stdout",
     "output_type": "stream",
     "text": [
      "nlms pre-convergence training iteration #0\n",
      "nlms MSE = 0.024434.\n",
      "nlms pre-convergence training iteration #1\n",
      "nlms MSE = 0.024232.\n",
      "nlms pre-convergence training iteration #2\n",
      "nlms MSE = 0.024228.\n",
      "nlms pre-convergence training iteration #3\n",
      "nlms MSE = 0.024227.\n",
      "nlms pre-convergence training iteration #4\n",
      "nlms MSE = 0.024226.\n",
      "\n",
      "\n",
      "dd-lms - training stage #1\n",
      "dd-lms MSE = 0.016859.\n",
      "Results:\n",
      "\n",
      "SER: 7.76e-01\n",
      "BER: 3.07e-01\n",
      "SNR: 3.09 dB\n",
      "MI: 0.90 bits\n",
      "GMI: 0.82 bits\n",
      "channel 0\t fc : 193.1000 THz\n",
      "  mode #0\t power: 0.00 dBm\n",
      "channel 0\t power: -0.00 dBm\n",
      "\n",
      "total WDM signal power: -0.00 dBm\n",
      "CSPR = 9.00 dB\n",
      "\n",
      "\n",
      "nlms - training stage #0\n"
     ]
    },
    {
     "data": {
      "application/vnd.jupyter.widget-view+json": {
       "model_id": "f53830744b8a49daaf3fb01794322d78",
       "version_major": 2,
       "version_minor": 0
      },
      "text/plain": [
       "  0%|          | 0/5 [00:00<?, ?it/s]"
      ]
     },
     "metadata": {},
     "output_type": "display_data"
    },
    {
     "name": "stdout",
     "output_type": "stream",
     "text": [
      "nlms pre-convergence training iteration #0\n",
      "nlms MSE = 0.033287.\n",
      "nlms pre-convergence training iteration #1\n",
      "nlms MSE = 0.037006.\n",
      "nlms pre-convergence training iteration #2\n",
      "nlms MSE = 0.037037.\n",
      "nlms pre-convergence training iteration #3\n",
      "nlms MSE = 0.037039.\n",
      "nlms pre-convergence training iteration #4\n",
      "nlms MSE = 0.037039.\n",
      "\n",
      "\n",
      "dd-lms - training stage #1\n",
      "dd-lms MSE = 0.026425.\n",
      "Results:\n",
      "\n",
      "SER: 8.85e-01\n",
      "BER: 4.06e-01\n",
      "SNR: 1.48 dB\n",
      "MI: 0.39 bits\n",
      "GMI: 0.40 bits\n",
      "channel 0\t fc : 193.1000 THz\n",
      "  mode #0\t power: 0.00 dBm\n",
      "channel 0\t power: -0.00 dBm\n",
      "\n",
      "total WDM signal power: -0.00 dBm\n",
      "CSPR = 9.00 dB\n",
      "\n",
      "\n",
      "nlms - training stage #0\n"
     ]
    },
    {
     "data": {
      "application/vnd.jupyter.widget-view+json": {
       "model_id": "8c7d638e3d3b446d8204901c562a723a",
       "version_major": 2,
       "version_minor": 0
      },
      "text/plain": [
       "  0%|          | 0/5 [00:00<?, ?it/s]"
      ]
     },
     "metadata": {},
     "output_type": "display_data"
    },
    {
     "name": "stdout",
     "output_type": "stream",
     "text": [
      "nlms pre-convergence training iteration #0\n",
      "nlms MSE = 0.044008.\n",
      "nlms pre-convergence training iteration #1\n",
      "nlms MSE = 0.046539.\n",
      "nlms pre-convergence training iteration #2\n",
      "nlms MSE = 0.046575.\n",
      "nlms pre-convergence training iteration #3\n",
      "nlms MSE = 0.046577.\n",
      "nlms pre-convergence training iteration #4\n",
      "nlms MSE = 0.046576.\n",
      "\n",
      "\n",
      "dd-lms - training stage #1\n",
      "dd-lms MSE = 0.032927.\n",
      "Results:\n",
      "\n",
      "SER: 9.35e-01\n",
      "BER: 4.96e-01\n",
      "SNR: 0.01 dB\n",
      "MI: -0.36 bits\n",
      "GMI: 0.00 bits\n",
      "channel 0\t fc : 193.1000 THz\n",
      "  mode #0\t power: 0.00 dBm\n",
      "channel 0\t power: -0.00 dBm\n",
      "\n",
      "total WDM signal power: -0.00 dBm\n",
      "CSPR = 9.00 dB\n",
      "\n",
      "\n",
      "nlms - training stage #0\n"
     ]
    },
    {
     "data": {
      "application/vnd.jupyter.widget-view+json": {
       "model_id": "d71138145f0640a58197f917a957f82c",
       "version_major": 2,
       "version_minor": 0
      },
      "text/plain": [
       "  0%|          | 0/5 [00:00<?, ?it/s]"
      ]
     },
     "metadata": {},
     "output_type": "display_data"
    },
    {
     "name": "stdout",
     "output_type": "stream",
     "text": [
      "nlms pre-convergence training iteration #0\n",
      "nlms MSE = 0.058426.\n",
      "nlms pre-convergence training iteration #1\n",
      "nlms MSE = 0.058568.\n",
      "nlms pre-convergence training iteration #2\n",
      "nlms MSE = 0.058558.\n",
      "nlms pre-convergence training iteration #3\n",
      "nlms MSE = 0.058556.\n",
      "nlms pre-convergence training iteration #4\n",
      "nlms MSE = 0.058554.\n",
      "\n",
      "\n",
      "dd-lms - training stage #1\n",
      "dd-lms MSE = 0.038317.\n",
      "Results:\n",
      "\n",
      "SER: 8.60e-01\n",
      "BER: 4.13e-01\n",
      "SNR: 1.06 dB\n",
      "MI: 0.23 bits\n",
      "GMI: 0.28 bits\n",
      "channel 0\t fc : 193.1000 THz\n",
      "  mode #0\t power: 0.00 dBm\n",
      "channel 0\t power: -0.00 dBm\n",
      "\n",
      "total WDM signal power: -0.00 dBm\n",
      "CSPR = 9.00 dB\n",
      "\n",
      "\n",
      "nlms - training stage #0\n"
     ]
    },
    {
     "data": {
      "application/vnd.jupyter.widget-view+json": {
       "model_id": "5247a3fcd1c049b4a1de08a95fa9417b",
       "version_major": 2,
       "version_minor": 0
      },
      "text/plain": [
       "  0%|          | 0/5 [00:00<?, ?it/s]"
      ]
     },
     "metadata": {},
     "output_type": "display_data"
    },
    {
     "name": "stdout",
     "output_type": "stream",
     "text": [
      "nlms pre-convergence training iteration #0\n",
      "nlms MSE = 0.069884.\n",
      "nlms pre-convergence training iteration #1\n",
      "nlms MSE = 0.073855.\n",
      "nlms pre-convergence training iteration #2\n",
      "nlms MSE = 0.073889.\n",
      "nlms pre-convergence training iteration #3\n",
      "nlms MSE = 0.073890.\n",
      "nlms pre-convergence training iteration #4\n",
      "nlms MSE = 0.073889.\n",
      "\n",
      "\n",
      "dd-lms - training stage #1\n",
      "dd-lms MSE = 0.045928.\n",
      "Results:\n",
      "\n",
      "SER: 9.15e-01\n",
      "BER: 4.59e-01\n",
      "SNR: 0.14 dB\n",
      "MI: -0.19 bits\n",
      "GMI: 0.03 bits\n",
      "channel 0\t fc : 193.1000 THz\n",
      "  mode #0\t power: 0.00 dBm\n",
      "channel 0\t power: -0.00 dBm\n",
      "\n",
      "total WDM signal power: -0.00 dBm\n",
      "CSPR = 9.00 dB\n",
      "\n",
      "\n",
      "nlms - training stage #0\n"
     ]
    },
    {
     "data": {
      "application/vnd.jupyter.widget-view+json": {
       "model_id": "159e541322984e729212ecf1ab0f7dfc",
       "version_major": 2,
       "version_minor": 0
      },
      "text/plain": [
       "  0%|          | 0/5 [00:00<?, ?it/s]"
      ]
     },
     "metadata": {},
     "output_type": "display_data"
    },
    {
     "name": "stdout",
     "output_type": "stream",
     "text": [
      "nlms pre-convergence training iteration #0\n",
      "nlms MSE = 0.079012.\n",
      "nlms pre-convergence training iteration #1\n",
      "nlms MSE = 0.084508.\n",
      "nlms pre-convergence training iteration #2\n",
      "nlms MSE = 0.084587.\n",
      "nlms pre-convergence training iteration #3\n",
      "nlms MSE = 0.084592.\n",
      "nlms pre-convergence training iteration #4\n",
      "nlms MSE = 0.084591.\n",
      "\n",
      "\n",
      "dd-lms - training stage #1\n",
      "dd-lms MSE = 0.049757.\n",
      "Results:\n",
      "\n",
      "SER: 9.21e-01\n",
      "BER: 4.75e-01\n",
      "SNR: 0.08 dB\n",
      "MI: -0.23 bits\n",
      "GMI: 0.02 bits\n",
      "channel 0\t fc : 193.1000 THz\n",
      "  mode #0\t power: 0.00 dBm\n",
      "channel 0\t power: -0.00 dBm\n",
      "\n",
      "total WDM signal power: -0.00 dBm\n",
      "CSPR = 9.00 dB\n",
      "\n",
      "\n",
      "nlms - training stage #0\n"
     ]
    },
    {
     "data": {
      "application/vnd.jupyter.widget-view+json": {
       "model_id": "ddc63ea2ac9044a0930d41a65e9ce916",
       "version_major": 2,
       "version_minor": 0
      },
      "text/plain": [
       "  0%|          | 0/5 [00:00<?, ?it/s]"
      ]
     },
     "metadata": {},
     "output_type": "display_data"
    },
    {
     "name": "stdout",
     "output_type": "stream",
     "text": [
      "nlms pre-convergence training iteration #0\n",
      "nlms MSE = 0.094829.\n",
      "nlms pre-convergence training iteration #1\n",
      "nlms MSE = 0.118013.\n",
      "nlms pre-convergence training iteration #2\n",
      "nlms MSE = 0.118378.\n",
      "nlms pre-convergence training iteration #3\n",
      "nlms MSE = 0.118408.\n",
      "nlms pre-convergence training iteration #4\n",
      "nlms MSE = 0.118408.\n",
      "\n",
      "\n",
      "dd-lms - training stage #1\n",
      "dd-lms MSE = 0.052140.\n",
      "Results:\n",
      "\n",
      "SER: 9.00e-01\n",
      "BER: 4.34e-01\n",
      "SNR: 0.41 dB\n",
      "MI: -0.04 bits\n",
      "GMI: 0.10 bits\n",
      "channel 0\t fc : 193.1000 THz\n",
      "  mode #0\t power: 0.00 dBm\n",
      "channel 0\t power: -0.00 dBm\n",
      "\n",
      "total WDM signal power: -0.00 dBm\n",
      "CSPR = 9.00 dB\n",
      "\n",
      "\n",
      "nlms - training stage #0\n"
     ]
    },
    {
     "data": {
      "application/vnd.jupyter.widget-view+json": {
       "model_id": "9d1807787e3b447c9ad960606a7f516f",
       "version_major": 2,
       "version_minor": 0
      },
      "text/plain": [
       "  0%|          | 0/5 [00:00<?, ?it/s]"
      ]
     },
     "metadata": {},
     "output_type": "display_data"
    },
    {
     "name": "stdout",
     "output_type": "stream",
     "text": [
      "nlms pre-convergence training iteration #0\n",
      "nlms MSE = 0.097179.\n",
      "nlms pre-convergence training iteration #1\n",
      "nlms MSE = 0.097936.\n",
      "nlms pre-convergence training iteration #2\n",
      "nlms MSE = 0.097941.\n",
      "nlms pre-convergence training iteration #3\n",
      "nlms MSE = 0.097938.\n",
      "nlms pre-convergence training iteration #4\n",
      "nlms MSE = 0.097935.\n",
      "\n",
      "\n",
      "dd-lms - training stage #1\n",
      "dd-lms MSE = 0.053032.\n",
      "Results:\n",
      "\n",
      "SER: 9.01e-01\n",
      "BER: 4.65e-01\n",
      "SNR: 0.14 dB\n",
      "MI: -0.18 bits\n",
      "GMI: 0.04 bits\n",
      "channel 0\t fc : 193.1000 THz\n",
      "  mode #0\t power: 0.00 dBm\n",
      "channel 0\t power: 0.00 dBm\n",
      "\n",
      "total WDM signal power: 0.00 dBm\n",
      "CSPR = 9.00 dB\n",
      "\n",
      "\n",
      "nlms - training stage #0\n"
     ]
    },
    {
     "data": {
      "application/vnd.jupyter.widget-view+json": {
       "model_id": "bbae42391c104bb7b5f350610914f494",
       "version_major": 2,
       "version_minor": 0
      },
      "text/plain": [
       "  0%|          | 0/5 [00:00<?, ?it/s]"
      ]
     },
     "metadata": {},
     "output_type": "display_data"
    },
    {
     "name": "stdout",
     "output_type": "stream",
     "text": [
      "nlms pre-convergence training iteration #0\n",
      "nlms MSE = 0.109962.\n",
      "nlms pre-convergence training iteration #1\n",
      "nlms MSE = 0.110401.\n",
      "nlms pre-convergence training iteration #2\n",
      "nlms MSE = 0.110416.\n",
      "nlms pre-convergence training iteration #3\n",
      "nlms MSE = 0.110412.\n",
      "nlms pre-convergence training iteration #4\n",
      "nlms MSE = 0.110407.\n",
      "\n",
      "\n",
      "dd-lms - training stage #1\n",
      "dd-lms MSE = 0.054062.\n",
      "Results:\n",
      "\n",
      "SER: 9.07e-01\n",
      "BER: 4.58e-01\n",
      "SNR: 0.43 dB\n",
      "MI: -0.02 bits\n",
      "GMI: 0.11 bits\n",
      "channel 0\t fc : 193.1000 THz\n",
      "  mode #0\t power: 0.00 dBm\n",
      "channel 0\t power: 0.00 dBm\n",
      "\n",
      "total WDM signal power: 0.00 dBm\n",
      "CSPR = 9.00 dB\n",
      "\n",
      "\n",
      "nlms - training stage #0\n"
     ]
    },
    {
     "data": {
      "application/vnd.jupyter.widget-view+json": {
       "model_id": "a3df01e6560444409e1674a78442422a",
       "version_major": 2,
       "version_minor": 0
      },
      "text/plain": [
       "  0%|          | 0/5 [00:00<?, ?it/s]"
      ]
     },
     "metadata": {},
     "output_type": "display_data"
    },
    {
     "name": "stdout",
     "output_type": "stream",
     "text": [
      "nlms pre-convergence training iteration #0\n",
      "nlms MSE = 0.117664.\n",
      "nlms pre-convergence training iteration #1\n",
      "nlms MSE = 0.118123.\n",
      "nlms pre-convergence training iteration #2\n",
      "nlms MSE = 0.118112.\n",
      "nlms pre-convergence training iteration #3\n",
      "nlms MSE = 0.118102.\n",
      "nlms pre-convergence training iteration #4\n",
      "nlms MSE = 0.118093.\n",
      "\n",
      "\n",
      "dd-lms - training stage #1\n",
      "dd-lms MSE = 0.056317.\n",
      "Results:\n",
      "\n",
      "SER: 9.11e-01\n",
      "BER: 4.59e-01\n",
      "SNR: 0.14 dB\n",
      "MI: -0.18 bits\n",
      "GMI: 0.04 bits\n",
      "channel 0\t fc : 193.1000 THz\n",
      "  mode #0\t power: 0.00 dBm\n",
      "channel 0\t power: 0.00 dBm\n",
      "\n",
      "total WDM signal power: 0.00 dBm\n",
      "CSPR = 9.00 dB\n",
      "\n",
      "\n",
      "nlms - training stage #0\n"
     ]
    },
    {
     "data": {
      "application/vnd.jupyter.widget-view+json": {
       "model_id": "539fad6a353f4c8db5204439fe83e42f",
       "version_major": 2,
       "version_minor": 0
      },
      "text/plain": [
       "  0%|          | 0/5 [00:00<?, ?it/s]"
      ]
     },
     "metadata": {},
     "output_type": "display_data"
    },
    {
     "name": "stdout",
     "output_type": "stream",
     "text": [
      "nlms pre-convergence training iteration #0\n",
      "nlms MSE = 0.132050.\n",
      "nlms pre-convergence training iteration #1\n",
      "nlms MSE = 0.135928.\n",
      "nlms pre-convergence training iteration #2\n",
      "nlms MSE = 0.135961.\n",
      "nlms pre-convergence training iteration #3\n",
      "nlms MSE = 0.135955.\n",
      "nlms pre-convergence training iteration #4\n",
      "nlms MSE = 0.135946.\n",
      "\n",
      "\n",
      "dd-lms - training stage #1\n",
      "dd-lms MSE = 0.056108.\n",
      "Results:\n",
      "\n",
      "SER: 9.26e-01\n",
      "BER: 4.87e-01\n",
      "SNR: 0.10 dB\n",
      "MI: -0.22 bits\n",
      "GMI: 0.02 bits\n",
      "channel 0\t fc : 193.1000 THz\n",
      "  mode #0\t power: 0.00 dBm\n",
      "channel 0\t power: 0.00 dBm\n",
      "\n",
      "total WDM signal power: 0.00 dBm\n",
      "CSPR = 9.00 dB\n",
      "\n",
      "\n",
      "nlms - training stage #0\n"
     ]
    },
    {
     "data": {
      "application/vnd.jupyter.widget-view+json": {
       "model_id": "aeb597a5c63c43d0adf9a21b1ebba8e5",
       "version_major": 2,
       "version_minor": 0
      },
      "text/plain": [
       "  0%|          | 0/5 [00:00<?, ?it/s]"
      ]
     },
     "metadata": {},
     "output_type": "display_data"
    },
    {
     "name": "stdout",
     "output_type": "stream",
     "text": [
      "nlms pre-convergence training iteration #0\n",
      "nlms MSE = 0.143066.\n",
      "nlms pre-convergence training iteration #1\n",
      "nlms MSE = 0.152966.\n",
      "nlms pre-convergence training iteration #2\n",
      "nlms MSE = 0.153057.\n",
      "nlms pre-convergence training iteration #3\n",
      "nlms MSE = 0.153058.\n",
      "nlms pre-convergence training iteration #4\n",
      "nlms MSE = 0.153052.\n",
      "\n",
      "\n",
      "dd-lms - training stage #1\n",
      "dd-lms MSE = 0.056158.\n",
      "Results:\n",
      "\n",
      "SER: 9.32e-01\n",
      "BER: 4.89e-01\n",
      "SNR: -0.04 dB\n",
      "MI: -0.31 bits\n",
      "GMI: 0.00 bits\n",
      "channel 0\t fc : 193.1000 THz\n",
      "  mode #0\t power: 0.00 dBm\n",
      "channel 0\t power: 0.00 dBm\n",
      "\n",
      "total WDM signal power: 0.00 dBm\n",
      "CSPR = 9.00 dB\n",
      "\n",
      "\n",
      "nlms - training stage #0\n"
     ]
    },
    {
     "data": {
      "application/vnd.jupyter.widget-view+json": {
       "model_id": "189d54ca6d0346c788c8aba31238d32c",
       "version_major": 2,
       "version_minor": 0
      },
      "text/plain": [
       "  0%|          | 0/5 [00:00<?, ?it/s]"
      ]
     },
     "metadata": {},
     "output_type": "display_data"
    },
    {
     "name": "stdout",
     "output_type": "stream",
     "text": [
      "nlms pre-convergence training iteration #0\n",
      "nlms MSE = 0.151989.\n",
      "nlms pre-convergence training iteration #1\n",
      "nlms MSE = 0.152389.\n",
      "nlms pre-convergence training iteration #2\n",
      "nlms MSE = 0.152408.\n",
      "nlms pre-convergence training iteration #3\n",
      "nlms MSE = 0.152401.\n",
      "nlms pre-convergence training iteration #4\n",
      "nlms MSE = 0.152391.\n",
      "\n",
      "\n",
      "dd-lms - training stage #1\n",
      "dd-lms MSE = 0.056664.\n",
      "Results:\n",
      "\n",
      "SER: 9.37e-01\n",
      "BER: 4.93e-01\n",
      "SNR: -0.01 dB\n",
      "MI: -0.31 bits\n",
      "GMI: 0.00 bits\n",
      "channel 0\t fc : 193.1000 THz\n",
      "  mode #0\t power: 0.00 dBm\n",
      "channel 0\t power: 0.00 dBm\n",
      "\n",
      "total WDM signal power: 0.00 dBm\n",
      "CSPR = 9.00 dB\n",
      "\n",
      "\n",
      "nlms - training stage #0\n"
     ]
    },
    {
     "data": {
      "application/vnd.jupyter.widget-view+json": {
       "model_id": "ea2a7ae0b2d44fc898be5bfda71feb28",
       "version_major": 2,
       "version_minor": 0
      },
      "text/plain": [
       "  0%|          | 0/5 [00:00<?, ?it/s]"
      ]
     },
     "metadata": {},
     "output_type": "display_data"
    },
    {
     "name": "stdout",
     "output_type": "stream",
     "text": [
      "nlms pre-convergence training iteration #0\n",
      "nlms MSE = 0.161905.\n",
      "nlms pre-convergence training iteration #1\n",
      "nlms MSE = 0.175326.\n",
      "nlms pre-convergence training iteration #2\n",
      "nlms MSE = 0.175414.\n",
      "nlms pre-convergence training iteration #3\n",
      "nlms MSE = 0.175412.\n",
      "nlms pre-convergence training iteration #4\n",
      "nlms MSE = 0.175403.\n",
      "\n",
      "\n",
      "dd-lms - training stage #1\n",
      "dd-lms MSE = 0.057160.\n",
      "Results:\n",
      "\n",
      "SER: 9.35e-01\n",
      "BER: 4.90e-01\n",
      "SNR: 0.01 dB\n",
      "MI: -0.28 bits\n",
      "GMI: 0.00 bits\n",
      "channel 0\t fc : 193.1000 THz\n",
      "  mode #0\t power: 0.00 dBm\n",
      "channel 0\t power: 0.00 dBm\n",
      "\n",
      "total WDM signal power: 0.00 dBm\n",
      "CSPR = 9.00 dB\n",
      "\n",
      "\n",
      "nlms - training stage #0\n"
     ]
    },
    {
     "data": {
      "application/vnd.jupyter.widget-view+json": {
       "model_id": "76e508185638498fab0dd08b8201f9ab",
       "version_major": 2,
       "version_minor": 0
      },
      "text/plain": [
       "  0%|          | 0/5 [00:00<?, ?it/s]"
      ]
     },
     "metadata": {},
     "output_type": "display_data"
    },
    {
     "name": "stdout",
     "output_type": "stream",
     "text": [
      "nlms pre-convergence training iteration #0\n",
      "nlms MSE = 0.178805.\n",
      "nlms pre-convergence training iteration #1\n",
      "nlms MSE = 0.202874.\n",
      "nlms pre-convergence training iteration #2\n",
      "nlms MSE = 0.203264.\n",
      "nlms pre-convergence training iteration #3\n",
      "nlms MSE = 0.203280.\n",
      "nlms pre-convergence training iteration #4\n",
      "nlms MSE = 0.203265.\n",
      "\n",
      "\n",
      "dd-lms - training stage #1\n",
      "dd-lms MSE = 0.058641.\n",
      "Results:\n",
      "\n",
      "SER: 9.27e-01\n",
      "BER: 4.83e-01\n",
      "SNR: 0.05 dB\n",
      "MI: -0.24 bits\n",
      "GMI: 0.01 bits\n",
      "channel 0\t fc : 193.1000 THz\n",
      "  mode #0\t power: 0.00 dBm\n",
      "channel 0\t power: 0.00 dBm\n",
      "\n",
      "total WDM signal power: 0.00 dBm\n",
      "CSPR = 9.00 dB\n",
      "\n",
      "\n",
      "nlms - training stage #0\n"
     ]
    },
    {
     "data": {
      "application/vnd.jupyter.widget-view+json": {
       "model_id": "6c941c4c6d964cca9d7f448d35762a02",
       "version_major": 2,
       "version_minor": 0
      },
      "text/plain": [
       "  0%|          | 0/5 [00:00<?, ?it/s]"
      ]
     },
     "metadata": {},
     "output_type": "display_data"
    },
    {
     "name": "stdout",
     "output_type": "stream",
     "text": [
      "nlms pre-convergence training iteration #0\n",
      "nlms MSE = 0.187047.\n",
      "nlms pre-convergence training iteration #1\n",
      "nlms MSE = 0.193812.\n",
      "nlms pre-convergence training iteration #2\n",
      "nlms MSE = 0.193855.\n",
      "nlms pre-convergence training iteration #3\n",
      "nlms MSE = 0.193841.\n",
      "nlms pre-convergence training iteration #4\n",
      "nlms MSE = 0.193823.\n",
      "\n",
      "\n",
      "dd-lms - training stage #1\n",
      "dd-lms MSE = 0.061753.\n",
      "Results:\n",
      "\n",
      "SER: 9.33e-01\n",
      "BER: 4.95e-01\n",
      "SNR: -0.06 dB\n",
      "MI: -0.36 bits\n",
      "GMI: -0.00 bits\n",
      "channel 0\t fc : 193.1000 THz\n",
      "  mode #0\t power: 0.00 dBm\n",
      "channel 0\t power: -0.00 dBm\n",
      "\n",
      "total WDM signal power: -0.00 dBm\n",
      "CSPR = 9.00 dB\n",
      "\n",
      "\n",
      "nlms - training stage #0\n"
     ]
    },
    {
     "data": {
      "application/vnd.jupyter.widget-view+json": {
       "model_id": "871d42bd7951469295c30cc087b1daf8",
       "version_major": 2,
       "version_minor": 0
      },
      "text/plain": [
       "  0%|          | 0/5 [00:00<?, ?it/s]"
      ]
     },
     "metadata": {},
     "output_type": "display_data"
    },
    {
     "name": "stdout",
     "output_type": "stream",
     "text": [
      "nlms pre-convergence training iteration #0\n",
      "nlms MSE = 0.197884.\n",
      "nlms pre-convergence training iteration #1\n",
      "nlms MSE = 0.196796.\n",
      "nlms pre-convergence training iteration #2\n",
      "nlms MSE = 0.196770.\n",
      "nlms pre-convergence training iteration #3\n",
      "nlms MSE = 0.196729.\n",
      "nlms pre-convergence training iteration #4\n",
      "nlms MSE = 0.196692.\n",
      "\n",
      "\n",
      "dd-lms - training stage #1\n",
      "dd-lms MSE = 0.061693.\n",
      "Results:\n",
      "\n",
      "SER: 9.33e-01\n",
      "BER: 4.94e-01\n",
      "SNR: -0.00 dB\n",
      "MI: -0.31 bits\n",
      "GMI: 0.00 bits\n",
      "channel 0\t fc : 193.1000 THz\n",
      "  mode #0\t power: 0.00 dBm\n",
      "channel 0\t power: -0.00 dBm\n",
      "\n",
      "total WDM signal power: -0.00 dBm\n",
      "CSPR = 9.00 dB\n",
      "\n",
      "\n",
      "nlms - training stage #0\n"
     ]
    },
    {
     "data": {
      "application/vnd.jupyter.widget-view+json": {
       "model_id": "41bc1a7f4811483fb5f65e438c3cd748",
       "version_major": 2,
       "version_minor": 0
      },
      "text/plain": [
       "  0%|          | 0/5 [00:00<?, ?it/s]"
      ]
     },
     "metadata": {},
     "output_type": "display_data"
    },
    {
     "name": "stdout",
     "output_type": "stream",
     "text": [
      "nlms pre-convergence training iteration #0\n",
      "nlms MSE = 0.201835.\n",
      "nlms pre-convergence training iteration #1\n",
      "nlms MSE = 0.202754.\n",
      "nlms pre-convergence training iteration #2\n",
      "nlms MSE = 0.202780.\n",
      "nlms pre-convergence training iteration #3\n",
      "nlms MSE = 0.202755.\n",
      "nlms pre-convergence training iteration #4\n",
      "nlms MSE = 0.202726.\n",
      "\n",
      "\n",
      "dd-lms - training stage #1\n",
      "dd-lms MSE = 0.061316.\n",
      "Results:\n",
      "\n",
      "SER: 9.36e-01\n",
      "BER: 4.99e-01\n",
      "SNR: -0.01 dB\n",
      "MI: -0.36 bits\n",
      "GMI: -0.00 bits\n",
      "channel 0\t fc : 193.1000 THz\n",
      "  mode #0\t power: 0.00 dBm\n",
      "channel 0\t power: -0.00 dBm\n",
      "\n",
      "total WDM signal power: -0.00 dBm\n",
      "CSPR = 9.00 dB\n",
      "\n",
      "\n",
      "nlms - training stage #0\n"
     ]
    },
    {
     "data": {
      "application/vnd.jupyter.widget-view+json": {
       "model_id": "10af83034774458cb0bea41b23199075",
       "version_major": 2,
       "version_minor": 0
      },
      "text/plain": [
       "  0%|          | 0/5 [00:00<?, ?it/s]"
      ]
     },
     "metadata": {},
     "output_type": "display_data"
    },
    {
     "name": "stdout",
     "output_type": "stream",
     "text": [
      "nlms pre-convergence training iteration #0\n",
      "nlms MSE = 0.216552.\n",
      "nlms pre-convergence training iteration #1\n",
      "nlms MSE = 0.216754.\n",
      "nlms pre-convergence training iteration #2\n",
      "nlms MSE = 0.216744.\n",
      "nlms pre-convergence training iteration #3\n",
      "nlms MSE = 0.216725.\n",
      "nlms pre-convergence training iteration #4\n",
      "nlms MSE = 0.216706.\n",
      "\n",
      "\n",
      "dd-lms - training stage #1\n",
      "dd-lms MSE = 0.060615.\n",
      "Results:\n",
      "\n",
      "SER: 9.31e-01\n",
      "BER: 4.90e-01\n",
      "SNR: -0.01 dB\n",
      "MI: -0.31 bits\n",
      "GMI: 0.00 bits\n"
     ]
    }
   ],
   "source": [
    "modelNN = tf.keras.models.load_model('NN_models/testModel_SpS_'+str(paramTx.SpS))\n",
    "N = 256  # number of input amplitude samples to the NN\n",
    "\n",
    "BER_NN = np.zeros(ROLLOFF.size)\n",
    "SER_NN = np.zeros(ROLLOFF.size)\n",
    "GMI_NN = np.zeros(ROLLOFF.size)\n",
    "MI_NN  = np.zeros(ROLLOFF.size)\n",
    "SNR_NN = np.zeros(ROLLOFF.size)\n",
    "\n",
    "for indROLL, ROLLOFF_ in enumerate(ROLLOFF):\n",
    "    \n",
    "    paramTx.alphaRRC = ROLLOFF_\n",
    "    # generate optical signal signal\n",
    "    sigTx, symbTx_, paramTx = simpleWDMTx(paramTx)\n",
    "\n",
    "    # simulate linear signal propagation\n",
    "    sigCh = linFiberCh(sigTx, Ltotal, alpha, D, Fc, Fs)\n",
    "\n",
    "    # receiver detection and demodulation\n",
    "\n",
    "    Fc = paramTx.Fc\n",
    "    Ts = 1 / Fs\n",
    "    mod = QAMModem(m=paramTx.M)\n",
    "\n",
    "    freqGrid = paramTx.freqGrid\n",
    "\n",
    "    symbTx = symbTx_[:, :, chIndex]\n",
    "\n",
    "    #Plo_dBm = CSPR_\n",
    "    Plo = 10 ** (Plo_dBm / 10) * 1e-3  # power in W\n",
    "\n",
    "#     print(\n",
    "#         \"Local oscillator P: %.2f dBm, lw: %.2f kHz, FO: %.2f MHz\"\n",
    "#         % (Plo_dBm, lw / 1e3, FO / 1e6)\n",
    "#     )\n",
    "\n",
    "    # generate LO field\n",
    "    π = np.pi\n",
    "    t = np.arange(0, len(sigCh))*Ts\n",
    "    ϕ_pn_lo = phaseNoise(lw, len(sigCh), Ts)\n",
    "\n",
    "    sigLO = np.sqrt(Plo) * np.exp(-1j * (2 * π * FO * t + ϕ_lo + ϕ_pn_lo))\n",
    "\n",
    "    # Add LO to the received signal\n",
    "    sigRx = np.sqrt(Plo) + sigCh * np.exp(1j * (2 * π * FO * t + ϕ_lo + ϕ_pn_lo))\n",
    "    sfm = sigRx.copy()\n",
    "\n",
    "    print('CSPR = %.2f dB' % (10*np.log10(signal_power(sigLO)/signal_power(sigCh))))\n",
    "\n",
    "    ### Phase-retrieval stage\n",
    "    sfm = sfm/np.sqrt(signal_power(sfm))\n",
    "\n",
    "    # simulate ideal direct-detection optical receiver\n",
    "    # get signal amplitude samples (L,)\n",
    "    sigAmp = np.pad(np.abs(sfm), (int(N/2), int(N/2)), 'constant')\n",
    "\n",
    "    # create set of input features\n",
    "    inputNN = np.zeros((len(sfm), N))  # (L,N)\n",
    "\n",
    "    for indPhase in range(len(sfm)):\n",
    "        inputNN[indPhase] = sigAmp[indPhase:N+indPhase]\n",
    "\n",
    "    phiTime_NN = modelNN.predict(inputNN)\n",
    "    phiTime_NN = phiTime_NN.reshape(-1,)\n",
    "\n",
    "    # optical field reconstruction\n",
    "    sigRx = np.abs(sfm)*np.exp(1j*phiTime_NN)\n",
    "\n",
    "    # remove DC level\n",
    "    sigRx -= np.mean(sigRx)  # np.sqrt(Plo)\n",
    "\n",
    "    # downshift to baseband\n",
    "    sigRx *= np.exp(-1j * (2 * π * FO * t))\n",
    "\n",
    "    #### Standard receiver processing\n",
    "\n",
    "    # Matched filtering and CD compensation\n",
    "\n",
    "    # Matched filtering\n",
    "    if paramTx.pulse == \"nrz\":\n",
    "        pulse = pulseShape(\"nrz\", paramTx.SpS)\n",
    "    elif paramTx.pulse == \"rrc\":\n",
    "        pulse = pulseShape(\n",
    "            \"rrc\", paramTx.SpS, N=paramTx.Ntaps, alpha=paramTx.alphaRRC, Ts=1 / paramTx.Rs\n",
    "        )\n",
    "\n",
    "    pulse = pulse / np.max(np.abs(pulse))\n",
    "    sigRx = firFilter(pulse, sigRx)\n",
    "\n",
    "#     # plot constellations after matched filtering\n",
    "#     pconst(sigRx[0::paramTx.SpS], lim=True, R=3)\n",
    "\n",
    "    # CD compensation\n",
    "    sigRx = edc(sigRx, Ltotal, D, Fc, Fs)\n",
    "\n",
    "    #plot constellations after CD compensation\n",
    "#     discard = 5000\n",
    "#     pconst(sigRx[discard:-discard:paramTx.SpS], lim=True, R=2)\n",
    "\n",
    "    # Downsampling to 2 sps and re-synchronization with transmitted sequences\n",
    "    sigRx = sigRx.reshape(-1, 1)\n",
    "\n",
    "#     # decimation\n",
    "#     paramDec = parameters()\n",
    "#     paramDec.SpS_in = paramTx.SpS\n",
    "#     paramDec.SpS_out = 2\n",
    "#     sigRx = decimate(sigRx, paramDec)\n",
    "\n",
    "#     symbRx = symbolSync(sigRx, symbTx, 2)\n",
    "\n",
    "    # Power normalization\n",
    "    x = sigRx\n",
    "    d = symbTx\n",
    "\n",
    "    x = x.reshape(len(x), 1) / np.sqrt(signal_power(x))\n",
    "    d = d.reshape(len(d), 1) / np.sqrt(signal_power(d))\n",
    "\n",
    "    # Adaptive equalization\n",
    "    mod = QAMModem(m=paramTx.M)\n",
    "\n",
    "    paramEq = parameters()\n",
    "    paramEq.nTaps = 7\n",
    "    paramEq.SpS = 2\n",
    "    paramEq.mu = [5e-3, 5e-3]\n",
    "    paramEq.numIter = 5\n",
    "    paramEq.storeCoeff = False\n",
    "    paramEq.alg = [\"nlms\", \"dd-lms\"]\n",
    "    paramEq.M = paramTx.M\n",
    "    paramEq.L = [20000, 80000]\n",
    "\n",
    "    y_EQ, H, errSq, Hiter = mimoAdaptEqualizer(x, dx=d, paramEq=paramEq)\n",
    "\n",
    "    #y_EQ = x[0::paramTx.SpS]\n",
    "\n",
    "    discard = int(paramEq.L[0]/2)\n",
    "\n",
    "    #plot constellations after adaptive equalization\n",
    "#     pconst(y_EQ[discard:-discard,:], lim=True)\n",
    "\n",
    "    # Carrier phase recovery\n",
    "    paramCPR = parameters()\n",
    "    paramCPR.alg = \"bps\"\n",
    "    paramCPR.M = paramTx.M\n",
    "    paramCPR.N = 35\n",
    "    paramCPR.B = 64\n",
    "    paramCPR.pilotInd = np.arange(0, len(y_EQ), 20)\n",
    "\n",
    "    y_CPR, θ = cpr(y_EQ, symbTx=d, paramCPR=paramCPR)\n",
    "\n",
    "    y_CPR = y_CPR / np.sqrt(signal_power(y_CPR))\n",
    "\n",
    "    discard = 5000\n",
    "\n",
    "    # plot constellations after CPR\n",
    "#     pconst(y_CPR[discard:-discard, :], lim=True)\n",
    "\n",
    "    #### Evaluate transmission metrics\n",
    "\n",
    "    # correct for (possible) phase ambiguity\n",
    "    for k in range(y_CPR.shape[1]):\n",
    "        rot = np.mean(d[:, k] / y_CPR[:, k])\n",
    "        y_CPR[:, k] = rot * y_CPR[:, k]\n",
    "\n",
    "    y_CPR = y_CPR / np.sqrt(signal_power(y_CPR))\n",
    "\n",
    "    ind = np.arange(discard, d.shape[0] - discard)\n",
    "    BER_NN[indROLL], SER_NN[indROLL], SNR_NN[indROLL] = fastBERcalc(y_CPR[ind, :], d[ind, :], mod)\n",
    "    GMI_NN[indROLL], _ = monteCarloGMI(y_CPR[ind, :], d[ind, :], mod)\n",
    "    MI_NN[indROLL] = monteCarloMI(y_CPR[ind, :], d[ind, :], mod)\n",
    "\n",
    "    print(\"Results:\\n\")\n",
    "    print(\"SER: %.2e\" % (SER_NN[indROLL]))\n",
    "    print(\"BER: %.2e\" % (BER_NN[indROLL]))\n",
    "    print(\"SNR: %.2f dB\" % (SNR_NN[indROLL]))\n",
    "    print(\"MI: %.2f bits\" % (MI_NN[indROLL]))\n",
    "    print(\"GMI: %.2f bits\" % (GMI_NN[indROLL]))"
   ]
  },
  {
   "cell_type": "code",
   "execution_count": 45,
   "id": "419f27af",
   "metadata": {},
   "outputs": [
    {
     "data": {
      "text/plain": [
       "<matplotlib.legend.Legend at 0x1da64d34490>"
      ]
     },
     "execution_count": 45,
     "metadata": {},
     "output_type": "execute_result"
    },
    {
     "data": {
      "image/png": "[encoded data removed]",
      "text/plain": [
       "<Figure size 432x288 with 1 Axes>"
      ]
     },
     "metadata": {
      "needs_background": "light"
     },
     "output_type": "display_data"
    }
   ],
   "source": [
    "plt.plot(ROLLOFF, np.log10(BER_KK), '-x', label='KK algorithm')\n",
    "plt.plot(ROLLOFF, np.log10(BER_NN), '-o', label='Neural network')\n",
    "plt.xlabel('Roll-off factor RRC')\n",
    "plt.ylabel('log10(BER)')\n",
    "plt.grid()\n",
    "plt.legend()"
   ]
  }
 ],
 "metadata": {
  "interpreter": {
   "hash": "9d5b6e03d6ac79a37ef7da211c0e283cea2ee331edb1c9b7aa89f897c687f1b0"
  },
  "jupytext": {
   "cell_metadata_filter": "-all",
   "encoding": "# -*- coding: utf-8 -*-",
   "formats": "ipynb,auto:light",
   "notebook_metadata_filter": "-all",
   "text_representation": {
    "extension": ".py",
    "format_name": "light"
   }
  },
  "kernelspec": {
   "display_name": "Python 3.9.9 64-bit (system)",
   "language": "python",
   "name": "python3"
  },
  "language_info": {
   "codemirror_mode": {
    "name": "ipython",
    "version": 3
   },
   "file_extension": ".py",
   "mimetype": "text/x-python",
   "name": "python",
   "nbconvert_exporter": "python",
   "pygments_lexer": "ipython3",
   "version": "3.9.9"
  }
 },
 "nbformat": 4,
 "nbformat_minor": 5
}
