{
 "cells": [
  {
   "cell_type": "code",
   "execution_count": 3,
   "id": "b1edcfee",
   "metadata": {
    "ExecuteTime": {
     "end_time": "2022-02-10T19:01:33.299471Z",
     "start_time": "2022-02-10T19:01:33.281484Z"
    }
   },
   "outputs": [],
   "source": [
    "import matplotlib.pyplot as plt\n",
    "import numpy as np\n",
    "\n",
    "from commpy.modulation import QAMModem\n",
    "\n",
    "from optic.dsp import pulseShape, firFilter, decimate, symbolSync\n",
    "from optic.models import phaseNoise, KramersKronigRx, linFiberCh\n",
    "\n",
    "from optic.tx import simpleWDMTx\n",
    "from optic.core import parameters\n",
    "from optic.equalization import edc, mimoAdaptEqualizer\n",
    "from optic.carrierRecovery import cpr\n",
    "from optic.metrics import fastBERcalc, monteCarloGMI, monteCarloMI, signal_power\n",
    "from optic.plot import pconst\n",
    "\n",
    "import scipy.constants as const\n",
    "\n",
    "from tensorflow.keras.layers import Dense, Dropout, BatchNormalization\n",
    "from tensorflow.keras.models import Sequential\n",
    "from tensorflow.keras.callbacks import EarlyStopping\n",
    "import tensorflow as tf"
   ]
  },
  {
   "cell_type": "markdown",
   "id": "cf8081d8",
   "metadata": {
    "lines_to_next_cell": 2
   },
   "source": [
    "### Simulation of a single polarization optical signal transmission"
   ]
  },
  {
   "cell_type": "code",
   "execution_count": 4,
   "id": "8ef1c5b1",
   "metadata": {
    "ExecuteTime": {
     "end_time": "2022-02-10T19:01:33.379422Z",
     "start_time": "2022-02-10T19:01:33.366429Z"
    },
    "lines_to_next_cell": 2
   },
   "outputs": [],
   "source": [
    "# Transmitter parameters:\n",
    "paramTx = parameters()\n",
    "paramTx.M = 16                 # order of the modulation format\n",
    "paramTx.Rs = 32e9              # symbol rate [baud]\n",
    "paramTx.SpS = 2                # samples per symbol\n",
    "paramTx.Nbits = 400000         # total number of bits per polarization\n",
    "paramTx.pulse = \"rrc\"          # pulse shaping filter\n",
    "paramTx.Ntaps = 1024           # number of pulse shaping filter coefficients\n",
    "paramTx.alphaRRC = 0.01        # RRC rolloff\n",
    "paramTx.Pch_dBm = 0            # power of the optical signal [dBm]\n",
    "paramTx.Nch = 1                # number of WDM channels\n",
    "paramTx.Fc = 193.1e12          # central frequency of the optical spectrum\n",
    "paramTx.freqSpac = 37.5e9      # WDM grid spacing\n",
    "\n",
    "# Optical channel parameters:\n",
    "Ltotal = 50      # total link distance [km]\n",
    "alpha = 0        # fiber loss parameter [dB/km]\n",
    "D  = 16          # fiber dispersion parameter [ps/nm/km]\n",
    "Fc = paramTx.Fc  # central optical frequency of the WDM spectrum [Hz]\n",
    "\n",
    "# Receiver parameters:\n",
    "\n",
    "# local oscillator (LO)\n",
    "FO = paramTx.Rs/2  # frequency offset \n",
    "lw = 100e3         # linewidth\n",
    "ϕ_lo = 0           # initial phase in rad\n",
    "Plo_dBm = 9        # power in dBm\n",
    "\n",
    "# General simulation parameters\n",
    "chIndex = 0  # index of the channel to be demodulated\n",
    "plotPSD = True\n",
    "Fs = paramTx.Rs * paramTx.SpS  # simulation sampling rate"
   ]
  },
  {
   "cell_type": "markdown",
   "id": "1b52e211",
   "metadata": {},
   "source": [
    "### BER vs Roll-Off with KK algorithm"
   ]
  },
  {
   "cell_type": "code",
   "execution_count": 9,
   "id": "11870677",
   "metadata": {
    "ExecuteTime": {
     "end_time": "2022-02-10T19:01:35.010789Z",
     "start_time": "2022-02-10T19:01:33.381422Z"
    }
   },
   "outputs": [
    {
     "name": "stdout",
     "output_type": "stream",
     "text": [
      "channel 0\t fc : 193.1000 THz\n",
      "  mode #0\t power: 0.00 dBm\n",
      "channel 0\t power: -0.00 dBm\n",
      "\n",
      "total WDM signal power: -0.00 dBm\n",
      "CSPR = 9.00 dB\n",
      "\n",
      "\n",
      "nlms - training stage #0\n"
     ]
    },
    {
     "data": {
      "application/vnd.jupyter.widget-view+json": {
       "model_id": "f1c3ded884444a9797e20bc68ce43671",
       "version_major": 2,
       "version_minor": 0
      },
      "text/plain": [
       "  0%|          | 0/5 [00:00<?, ?it/s]"
      ]
     },
     "metadata": {},
     "output_type": "display_data"
    },
    {
     "name": "stdout",
     "output_type": "stream",
     "text": [
      "nlms pre-convergence training iteration #0\n",
      "nlms MSE = 0.065537.\n",
      "nlms pre-convergence training iteration #1\n",
      "nlms MSE = 0.063862.\n",
      "nlms pre-convergence training iteration #2\n",
      "nlms MSE = 0.063526.\n",
      "nlms pre-convergence training iteration #3\n",
      "nlms MSE = 0.063314.\n",
      "nlms pre-convergence training iteration #4\n",
      "nlms MSE = 0.063164.\n",
      "\n",
      "\n",
      "dd-lms - training stage #1\n",
      "dd-lms MSE = 0.031985.\n",
      "Results:\n",
      "\n",
      "SER: 3.54e-02\n",
      "BER: 1.14e-02\n",
      "SNR: 14.60 dB\n",
      "MI: 3.82 bits\n",
      "GMI: 3.78 bits\n",
      "channel 0\t fc : 193.1000 THz\n",
      "  mode #0\t power: 0.00 dBm\n",
      "channel 0\t power: -0.00 dBm\n",
      "\n",
      "total WDM signal power: -0.00 dBm\n",
      "CSPR = 9.00 dB\n",
      "\n",
      "\n",
      "nlms - training stage #0\n"
     ]
    },
    {
     "data": {
      "application/vnd.jupyter.widget-view+json": {
       "model_id": "3d31434fa20a454dae087bd84efa7e5f",
       "version_major": 2,
       "version_minor": 0
      },
      "text/plain": [
       "  0%|          | 0/5 [00:00<?, ?it/s]"
      ]
     },
     "metadata": {},
     "output_type": "display_data"
    },
    {
     "name": "stdout",
     "output_type": "stream",
     "text": [
      "nlms pre-convergence training iteration #0\n",
      "nlms MSE = 0.069091.\n",
      "nlms pre-convergence training iteration #1\n",
      "nlms MSE = 0.049062.\n",
      "nlms pre-convergence training iteration #2\n",
      "nlms MSE = 0.048760.\n",
      "nlms pre-convergence training iteration #3\n",
      "nlms MSE = 0.048548.\n",
      "nlms pre-convergence training iteration #4\n",
      "nlms MSE = 0.048391.\n",
      "\n",
      "\n",
      "dd-lms - training stage #1\n",
      "dd-lms MSE = 0.038202.\n",
      "Results:\n",
      "\n",
      "SER: 7.78e-01\n",
      "BER: 3.34e-01\n",
      "SNR: 1.74 dB\n",
      "MI: 0.46 bits\n",
      "GMI: 0.47 bits\n",
      "channel 0\t fc : 193.1000 THz\n",
      "  mode #0\t power: 0.00 dBm\n",
      "channel 0\t power: -0.00 dBm\n",
      "\n",
      "total WDM signal power: -0.00 dBm\n",
      "CSPR = 9.00 dB\n",
      "\n",
      "\n",
      "nlms - training stage #0\n"
     ]
    },
    {
     "data": {
      "application/vnd.jupyter.widget-view+json": {
       "model_id": "1d75b988a08347eab3ca7bf7e62ff46d",
       "version_major": 2,
       "version_minor": 0
      },
      "text/plain": [
       "  0%|          | 0/5 [00:00<?, ?it/s]"
      ]
     },
     "metadata": {},
     "output_type": "display_data"
    },
    {
     "name": "stdout",
     "output_type": "stream",
     "text": [
      "nlms pre-convergence training iteration #0\n",
      "nlms MSE = 0.080488.\n",
      "nlms pre-convergence training iteration #1\n",
      "nlms MSE = 0.060721.\n",
      "nlms pre-convergence training iteration #2\n",
      "nlms MSE = 0.060358.\n",
      "nlms pre-convergence training iteration #3\n",
      "nlms MSE = 0.060112.\n",
      "nlms pre-convergence training iteration #4\n",
      "nlms MSE = 0.059926.\n",
      "\n",
      "\n",
      "dd-lms - training stage #1\n",
      "dd-lms MSE = 0.044366.\n",
      "Results:\n",
      "\n",
      "SER: 9.18e-01\n",
      "BER: 4.87e-01\n",
      "SNR: 0.09 dB\n",
      "MI: -0.22 bits\n",
      "GMI: 0.02 bits\n",
      "channel 0\t fc : 193.1000 THz\n",
      "  mode #0\t power: 0.00 dBm\n",
      "channel 0\t power: -0.00 dBm\n",
      "\n",
      "total WDM signal power: -0.00 dBm\n",
      "CSPR = 9.00 dB\n",
      "\n",
      "\n",
      "nlms - training stage #0\n"
     ]
    },
    {
     "data": {
      "application/vnd.jupyter.widget-view+json": {
       "model_id": "2fe055bee30048d89cf5fdb7842392c5",
       "version_major": 2,
       "version_minor": 0
      },
      "text/plain": [
       "  0%|          | 0/5 [00:00<?, ?it/s]"
      ]
     },
     "metadata": {},
     "output_type": "display_data"
    },
    {
     "name": "stdout",
     "output_type": "stream",
     "text": [
      "nlms pre-convergence training iteration #0\n",
      "nlms MSE = 0.089633.\n",
      "nlms pre-convergence training iteration #1\n",
      "nlms MSE = 0.070388.\n",
      "nlms pre-convergence training iteration #2\n",
      "nlms MSE = 0.070001.\n",
      "nlms pre-convergence training iteration #3\n",
      "nlms MSE = 0.069743.\n",
      "nlms pre-convergence training iteration #4\n",
      "nlms MSE = 0.069549.\n",
      "\n",
      "\n",
      "dd-lms - training stage #1\n",
      "dd-lms MSE = 0.048324.\n",
      "Results:\n",
      "\n",
      "SER: 9.13e-01\n",
      "BER: 4.67e-01\n",
      "SNR: 0.19 dB\n",
      "MI: -0.16 bits\n",
      "GMI: 0.05 bits\n",
      "channel 0\t fc : 193.1000 THz\n",
      "  mode #0\t power: 0.00 dBm\n",
      "channel 0\t power: -0.00 dBm\n",
      "\n",
      "total WDM signal power: -0.00 dBm\n",
      "CSPR = 9.00 dB\n",
      "\n",
      "\n",
      "nlms - training stage #0\n"
     ]
    },
    {
     "data": {
      "application/vnd.jupyter.widget-view+json": {
       "model_id": "3eb72a8ef850413f9b58e98bb1617d5c",
       "version_major": 2,
       "version_minor": 0
      },
      "text/plain": [
       "  0%|          | 0/5 [00:00<?, ?it/s]"
      ]
     },
     "metadata": {},
     "output_type": "display_data"
    },
    {
     "name": "stdout",
     "output_type": "stream",
     "text": [
      "nlms pre-convergence training iteration #0\n",
      "nlms MSE = 0.097870.\n",
      "nlms pre-convergence training iteration #1\n",
      "nlms MSE = 0.095316.\n",
      "nlms pre-convergence training iteration #2\n",
      "nlms MSE = 0.095013.\n",
      "nlms pre-convergence training iteration #3\n",
      "nlms MSE = 0.094820.\n",
      "nlms pre-convergence training iteration #4\n",
      "nlms MSE = 0.094672.\n",
      "\n",
      "\n",
      "dd-lms - training stage #1\n",
      "dd-lms MSE = 0.050236.\n",
      "Results:\n",
      "\n",
      "SER: 9.25e-01\n",
      "BER: 4.73e-01\n",
      "SNR: 0.15 dB\n",
      "MI: -0.18 bits\n",
      "GMI: 0.04 bits\n",
      "channel 0\t fc : 193.1000 THz\n",
      "  mode #0\t power: 0.00 dBm\n",
      "channel 0\t power: 0.00 dBm\n",
      "\n",
      "total WDM signal power: 0.00 dBm\n",
      "CSPR = 9.00 dB\n",
      "\n",
      "\n",
      "nlms - training stage #0\n"
     ]
    },
    {
     "data": {
      "application/vnd.jupyter.widget-view+json": {
       "model_id": "434583a00e084f2c96de53ca98dc67af",
       "version_major": 2,
       "version_minor": 0
      },
      "text/plain": [
       "  0%|          | 0/5 [00:00<?, ?it/s]"
      ]
     },
     "metadata": {},
     "output_type": "display_data"
    },
    {
     "name": "stdout",
     "output_type": "stream",
     "text": [
      "nlms pre-convergence training iteration #0\n",
      "nlms MSE = 0.108578.\n",
      "nlms pre-convergence training iteration #1\n",
      "nlms MSE = 0.089675.\n",
      "nlms pre-convergence training iteration #2\n",
      "nlms MSE = 0.089294.\n",
      "nlms pre-convergence training iteration #3\n",
      "nlms MSE = 0.089032.\n",
      "nlms pre-convergence training iteration #4\n",
      "nlms MSE = 0.088834.\n",
      "\n",
      "\n",
      "dd-lms - training stage #1\n",
      "dd-lms MSE = 0.055154.\n",
      "Results:\n",
      "\n",
      "SER: 9.07e-01\n",
      "BER: 4.42e-01\n",
      "SNR: 0.44 dB\n",
      "MI: -0.03 bits\n",
      "GMI: 0.11 bits\n",
      "channel 0\t fc : 193.1000 THz\n",
      "  mode #0\t power: 0.00 dBm\n",
      "channel 0\t power: 0.00 dBm\n",
      "\n",
      "total WDM signal power: 0.00 dBm\n",
      "CSPR = 9.00 dB\n",
      "\n",
      "\n",
      "nlms - training stage #0\n"
     ]
    },
    {
     "data": {
      "application/vnd.jupyter.widget-view+json": {
       "model_id": "a879bf6c0b274e10898017166a1555a5",
       "version_major": 2,
       "version_minor": 0
      },
      "text/plain": [
       "  0%|          | 0/5 [00:00<?, ?it/s]"
      ]
     },
     "metadata": {},
     "output_type": "display_data"
    },
    {
     "name": "stdout",
     "output_type": "stream",
     "text": [
      "nlms pre-convergence training iteration #0\n",
      "nlms MSE = 0.120213.\n",
      "nlms pre-convergence training iteration #1\n",
      "nlms MSE = 0.121370.\n",
      "nlms pre-convergence training iteration #2\n",
      "nlms MSE = 0.120970.\n",
      "nlms pre-convergence training iteration #3\n",
      "nlms MSE = 0.120727.\n",
      "nlms pre-convergence training iteration #4\n",
      "nlms MSE = 0.120547.\n",
      "\n",
      "\n",
      "dd-lms - training stage #1\n",
      "dd-lms MSE = 0.056829.\n",
      "Results:\n",
      "\n",
      "SER: 9.16e-01\n",
      "BER: 4.74e-01\n",
      "SNR: 0.11 dB\n",
      "MI: -0.21 bits\n",
      "GMI: 0.03 bits\n",
      "channel 0\t fc : 193.1000 THz\n",
      "  mode #0\t power: 0.00 dBm\n",
      "channel 0\t power: 0.00 dBm\n",
      "\n",
      "total WDM signal power: 0.00 dBm\n",
      "CSPR = 9.00 dB\n",
      "\n",
      "\n",
      "nlms - training stage #0\n"
     ]
    },
    {
     "data": {
      "application/vnd.jupyter.widget-view+json": {
       "model_id": "a6fa70cc1aea45a78f0ddb13f2ec221f",
       "version_major": 2,
       "version_minor": 0
      },
      "text/plain": [
       "  0%|          | 0/5 [00:00<?, ?it/s]"
      ]
     },
     "metadata": {},
     "output_type": "display_data"
    },
    {
     "name": "stdout",
     "output_type": "stream",
     "text": [
      "nlms pre-convergence training iteration #0\n",
      "nlms MSE = 0.122589.\n",
      "nlms pre-convergence training iteration #1\n",
      "nlms MSE = 0.104092.\n",
      "nlms pre-convergence training iteration #2\n",
      "nlms MSE = 0.103725.\n",
      "nlms pre-convergence training iteration #3\n",
      "nlms MSE = 0.103481.\n",
      "nlms pre-convergence training iteration #4\n",
      "nlms MSE = 0.103297.\n",
      "\n",
      "\n",
      "dd-lms - training stage #1\n",
      "dd-lms MSE = 0.058946.\n",
      "Results:\n",
      "\n",
      "SER: 9.22e-01\n",
      "BER: 4.79e-01\n",
      "SNR: 0.13 dB\n",
      "MI: -0.19 bits\n",
      "GMI: 0.03 bits\n",
      "channel 0\t fc : 193.1000 THz\n",
      "  mode #0\t power: 0.00 dBm\n",
      "channel 0\t power: -0.00 dBm\n",
      "\n",
      "total WDM signal power: -0.00 dBm\n",
      "CSPR = 9.00 dB\n",
      "\n",
      "\n",
      "nlms - training stage #0\n"
     ]
    },
    {
     "data": {
      "application/vnd.jupyter.widget-view+json": {
       "model_id": "c164864f5b8a4603902e03785030bfe3",
       "version_major": 2,
       "version_minor": 0
      },
      "text/plain": [
       "  0%|          | 0/5 [00:00<?, ?it/s]"
      ]
     },
     "metadata": {},
     "output_type": "display_data"
    },
    {
     "name": "stdout",
     "output_type": "stream",
     "text": [
      "nlms pre-convergence training iteration #0\n",
      "nlms MSE = 0.130788.\n",
      "nlms pre-convergence training iteration #1\n",
      "nlms MSE = 0.110797.\n",
      "nlms pre-convergence training iteration #2\n",
      "nlms MSE = 0.110341.\n",
      "nlms pre-convergence training iteration #3\n",
      "nlms MSE = 0.110053.\n",
      "nlms pre-convergence training iteration #4\n",
      "nlms MSE = 0.109842.\n",
      "\n",
      "\n",
      "dd-lms - training stage #1\n",
      "dd-lms MSE = 0.059138.\n",
      "Results:\n",
      "\n",
      "SER: 9.29e-01\n",
      "BER: 4.87e-01\n",
      "SNR: 0.01 dB\n",
      "MI: -0.28 bits\n",
      "GMI: 0.01 bits\n",
      "channel 0\t fc : 193.1000 THz\n",
      "  mode #0\t power: 0.00 dBm\n",
      "channel 0\t power: -0.00 dBm\n",
      "\n",
      "total WDM signal power: -0.00 dBm\n",
      "CSPR = 9.00 dB\n",
      "\n",
      "\n",
      "nlms - training stage #0\n"
     ]
    },
    {
     "data": {
      "application/vnd.jupyter.widget-view+json": {
       "model_id": "d88597cb0886481abfd535a913e6cb10",
       "version_major": 2,
       "version_minor": 0
      },
      "text/plain": [
       "  0%|          | 0/5 [00:00<?, ?it/s]"
      ]
     },
     "metadata": {},
     "output_type": "display_data"
    },
    {
     "name": "stdout",
     "output_type": "stream",
     "text": [
      "nlms pre-convergence training iteration #0\n",
      "nlms MSE = 0.142826.\n",
      "nlms pre-convergence training iteration #1\n",
      "nlms MSE = 0.138788.\n",
      "nlms pre-convergence training iteration #2\n",
      "nlms MSE = 0.138399.\n",
      "nlms pre-convergence training iteration #3\n",
      "nlms MSE = 0.138173.\n",
      "nlms pre-convergence training iteration #4\n",
      "nlms MSE = 0.138017.\n",
      "\n",
      "\n",
      "dd-lms - training stage #1\n",
      "dd-lms MSE = 0.058949.\n",
      "Results:\n",
      "\n",
      "SER: 9.31e-01\n",
      "BER: 4.91e-01\n",
      "SNR: 0.02 dB\n",
      "MI: -0.28 bits\n",
      "GMI: 0.01 bits\n",
      "channel 0\t fc : 193.1000 THz\n",
      "  mode #0\t power: 0.00 dBm\n",
      "channel 0\t power: 0.00 dBm\n",
      "\n",
      "total WDM signal power: 0.00 dBm\n",
      "CSPR = 9.00 dB\n",
      "\n",
      "\n",
      "nlms - training stage #0\n"
     ]
    },
    {
     "data": {
      "application/vnd.jupyter.widget-view+json": {
       "model_id": "88e9ec6992af44618e572a06b4c07801",
       "version_major": 2,
       "version_minor": 0
      },
      "text/plain": [
       "  0%|          | 0/5 [00:00<?, ?it/s]"
      ]
     },
     "metadata": {},
     "output_type": "display_data"
    },
    {
     "name": "stdout",
     "output_type": "stream",
     "text": [
      "nlms pre-convergence training iteration #0\n",
      "nlms MSE = 0.152804.\n",
      "nlms pre-convergence training iteration #1\n",
      "nlms MSE = 0.132565.\n",
      "nlms pre-convergence training iteration #2\n",
      "nlms MSE = 0.132165.\n",
      "nlms pre-convergence training iteration #3\n",
      "nlms MSE = 0.131925.\n",
      "nlms pre-convergence training iteration #4\n",
      "nlms MSE = 0.131758.\n",
      "\n",
      "\n",
      "dd-lms - training stage #1\n",
      "dd-lms MSE = 0.060447.\n",
      "Results:\n",
      "\n",
      "SER: 9.31e-01\n",
      "BER: 4.96e-01\n",
      "SNR: 0.02 dB\n",
      "MI: -0.32 bits\n",
      "GMI: 0.00 bits\n",
      "channel 0\t fc : 193.1000 THz\n",
      "  mode #0\t power: 0.00 dBm\n",
      "channel 0\t power: 0.00 dBm\n",
      "\n",
      "total WDM signal power: 0.00 dBm\n",
      "CSPR = 9.00 dB\n",
      "\n",
      "\n",
      "nlms - training stage #0\n"
     ]
    },
    {
     "data": {
      "application/vnd.jupyter.widget-view+json": {
       "model_id": "7850b98c986e4856b4684dfadcd18790",
       "version_major": 2,
       "version_minor": 0
      },
      "text/plain": [
       "  0%|          | 0/5 [00:00<?, ?it/s]"
      ]
     },
     "metadata": {},
     "output_type": "display_data"
    },
    {
     "name": "stdout",
     "output_type": "stream",
     "text": [
      "nlms pre-convergence training iteration #0\n",
      "nlms MSE = 0.159099.\n",
      "nlms pre-convergence training iteration #1\n",
      "nlms MSE = 0.141442.\n",
      "nlms pre-convergence training iteration #2\n",
      "nlms MSE = 0.141055.\n",
      "nlms pre-convergence training iteration #3\n",
      "nlms MSE = 0.140812.\n",
      "nlms pre-convergence training iteration #4\n",
      "nlms MSE = 0.140643.\n",
      "\n",
      "\n",
      "dd-lms - training stage #1\n",
      "dd-lms MSE = 0.059074.\n",
      "Results:\n",
      "\n",
      "SER: 9.26e-01\n",
      "BER: 4.87e-01\n",
      "SNR: 0.00 dB\n",
      "MI: -0.28 bits\n",
      "GMI: 0.01 bits\n",
      "channel 0\t fc : 193.1000 THz\n",
      "  mode #0\t power: 0.00 dBm\n",
      "channel 0\t power: 0.00 dBm\n",
      "\n",
      "total WDM signal power: 0.00 dBm\n",
      "CSPR = 9.00 dB\n",
      "\n",
      "\n",
      "nlms - training stage #0\n"
     ]
    },
    {
     "data": {
      "application/vnd.jupyter.widget-view+json": {
       "model_id": "be7663bf2a7c4313a86609ff0b80e8c8",
       "version_major": 2,
       "version_minor": 0
      },
      "text/plain": [
       "  0%|          | 0/5 [00:00<?, ?it/s]"
      ]
     },
     "metadata": {},
     "output_type": "display_data"
    },
    {
     "name": "stdout",
     "output_type": "stream",
     "text": [
      "nlms pre-convergence training iteration #0\n",
      "nlms MSE = 0.172055.\n",
      "nlms pre-convergence training iteration #1\n",
      "nlms MSE = 0.154271.\n",
      "nlms pre-convergence training iteration #2\n",
      "nlms MSE = 0.153915.\n",
      "nlms pre-convergence training iteration #3\n",
      "nlms MSE = 0.153689.\n",
      "nlms pre-convergence training iteration #4\n",
      "nlms MSE = 0.153535.\n",
      "\n",
      "\n",
      "dd-lms - training stage #1\n",
      "dd-lms MSE = 0.061239.\n",
      "Results:\n",
      "\n",
      "SER: 9.35e-01\n",
      "BER: 4.97e-01\n",
      "SNR: -0.00 dB\n",
      "MI: -0.34 bits\n",
      "GMI: -0.00 bits\n",
      "channel 0\t fc : 193.1000 THz\n",
      "  mode #0\t power: 0.00 dBm\n",
      "channel 0\t power: 0.00 dBm\n",
      "\n",
      "total WDM signal power: 0.00 dBm\n",
      "CSPR = 9.00 dB\n",
      "\n",
      "\n",
      "nlms - training stage #0\n"
     ]
    },
    {
     "data": {
      "application/vnd.jupyter.widget-view+json": {
       "model_id": "130ce1400d03451ab493057738f2be39",
       "version_major": 2,
       "version_minor": 0
      },
      "text/plain": [
       "  0%|          | 0/5 [00:00<?, ?it/s]"
      ]
     },
     "metadata": {},
     "output_type": "display_data"
    },
    {
     "name": "stdout",
     "output_type": "stream",
     "text": [
      "nlms pre-convergence training iteration #0\n",
      "nlms MSE = 0.180252.\n",
      "nlms pre-convergence training iteration #1\n",
      "nlms MSE = 0.173087.\n",
      "nlms pre-convergence training iteration #2\n",
      "nlms MSE = 0.172630.\n",
      "nlms pre-convergence training iteration #3\n",
      "nlms MSE = 0.172365.\n",
      "nlms pre-convergence training iteration #4\n",
      "nlms MSE = 0.172196.\n",
      "\n",
      "\n",
      "dd-lms - training stage #1\n",
      "dd-lms MSE = 0.058674.\n",
      "Results:\n",
      "\n",
      "SER: 9.31e-01\n",
      "BER: 4.95e-01\n",
      "SNR: 0.01 dB\n",
      "MI: -0.28 bits\n",
      "GMI: 0.00 bits\n",
      "channel 0\t fc : 193.1000 THz\n",
      "  mode #0\t power: 0.00 dBm\n",
      "channel 0\t power: 0.00 dBm\n",
      "\n",
      "total WDM signal power: 0.00 dBm\n",
      "CSPR = 9.00 dB\n",
      "\n",
      "\n",
      "nlms - training stage #0\n"
     ]
    },
    {
     "data": {
      "application/vnd.jupyter.widget-view+json": {
       "model_id": "888c7cf245754f0c986215e4ac2953ba",
       "version_major": 2,
       "version_minor": 0
      },
      "text/plain": [
       "  0%|          | 0/5 [00:00<?, ?it/s]"
      ]
     },
     "metadata": {},
     "output_type": "display_data"
    },
    {
     "name": "stdout",
     "output_type": "stream",
     "text": [
      "nlms pre-convergence training iteration #0\n",
      "nlms MSE = 0.186656.\n",
      "nlms pre-convergence training iteration #1\n",
      "nlms MSE = 0.166291.\n",
      "nlms pre-convergence training iteration #2\n",
      "nlms MSE = 0.165829.\n",
      "nlms pre-convergence training iteration #3\n",
      "nlms MSE = 0.165546.\n",
      "nlms pre-convergence training iteration #4\n",
      "nlms MSE = 0.165354.\n",
      "\n",
      "\n",
      "dd-lms - training stage #1\n",
      "dd-lms MSE = 0.057659.\n",
      "Results:\n",
      "\n",
      "SER: 9.33e-01\n",
      "BER: 4.93e-01\n",
      "SNR: -0.01 dB\n",
      "MI: -0.33 bits\n",
      "GMI: 0.00 bits\n",
      "channel 0\t fc : 193.1000 THz\n",
      "  mode #0\t power: 0.00 dBm\n",
      "channel 0\t power: 0.00 dBm\n",
      "\n",
      "total WDM signal power: 0.00 dBm\n",
      "CSPR = 9.00 dB\n",
      "\n",
      "\n",
      "nlms - training stage #0\n"
     ]
    },
    {
     "data": {
      "application/vnd.jupyter.widget-view+json": {
       "model_id": "061bacd11e5640a784a55eb744119ee1",
       "version_major": 2,
       "version_minor": 0
      },
      "text/plain": [
       "  0%|          | 0/5 [00:00<?, ?it/s]"
      ]
     },
     "metadata": {},
     "output_type": "display_data"
    },
    {
     "name": "stdout",
     "output_type": "stream",
     "text": [
      "nlms pre-convergence training iteration #0\n",
      "nlms MSE = 0.195621.\n",
      "nlms pre-convergence training iteration #1\n",
      "nlms MSE = 0.174887.\n",
      "nlms pre-convergence training iteration #2\n",
      "nlms MSE = 0.174254.\n",
      "nlms pre-convergence training iteration #3\n",
      "nlms MSE = 0.173877.\n",
      "nlms pre-convergence training iteration #4\n",
      "nlms MSE = 0.173635.\n",
      "\n",
      "\n",
      "dd-lms - training stage #1\n",
      "dd-lms MSE = 0.060595.\n",
      "Results:\n",
      "\n",
      "SER: 9.31e-01\n",
      "BER: 4.86e-01\n",
      "SNR: -0.01 dB\n",
      "MI: -0.29 bits\n",
      "GMI: 0.01 bits\n",
      "channel 0\t fc : 193.1000 THz\n",
      "  mode #0\t power: 0.00 dBm\n",
      "channel 0\t power: -0.00 dBm\n",
      "\n",
      "total WDM signal power: -0.00 dBm\n",
      "CSPR = 9.00 dB\n",
      "\n",
      "\n",
      "nlms - training stage #0\n"
     ]
    },
    {
     "data": {
      "application/vnd.jupyter.widget-view+json": {
       "model_id": "71f3b377d84145828dfb69c44f9caa7b",
       "version_major": 2,
       "version_minor": 0
      },
      "text/plain": [
       "  0%|          | 0/5 [00:00<?, ?it/s]"
      ]
     },
     "metadata": {},
     "output_type": "display_data"
    },
    {
     "name": "stdout",
     "output_type": "stream",
     "text": [
      "nlms pre-convergence training iteration #0\n",
      "nlms MSE = 0.202011.\n",
      "nlms pre-convergence training iteration #1\n",
      "nlms MSE = 0.182860.\n",
      "nlms pre-convergence training iteration #2\n",
      "nlms MSE = 0.182381.\n",
      "nlms pre-convergence training iteration #3\n",
      "nlms MSE = 0.182100.\n",
      "nlms pre-convergence training iteration #4\n",
      "nlms MSE = 0.181913.\n",
      "\n",
      "\n",
      "dd-lms - training stage #1\n",
      "dd-lms MSE = 0.057357.\n",
      "Results:\n",
      "\n",
      "SER: 9.35e-01\n",
      "BER: 4.96e-01\n",
      "SNR: -0.05 dB\n",
      "MI: -0.36 bits\n",
      "GMI: -0.00 bits\n",
      "channel 0\t fc : 193.1000 THz\n",
      "  mode #0\t power: 0.00 dBm\n",
      "channel 0\t power: 0.00 dBm\n",
      "\n",
      "total WDM signal power: 0.00 dBm\n",
      "CSPR = 9.00 dB\n",
      "\n",
      "\n",
      "nlms - training stage #0\n"
     ]
    },
    {
     "data": {
      "application/vnd.jupyter.widget-view+json": {
       "model_id": "b517830b9d8f44f6b18b946bc35e1493",
       "version_major": 2,
       "version_minor": 0
      },
      "text/plain": [
       "  0%|          | 0/5 [00:00<?, ?it/s]"
      ]
     },
     "metadata": {},
     "output_type": "display_data"
    },
    {
     "name": "stdout",
     "output_type": "stream",
     "text": [
      "nlms pre-convergence training iteration #0\n",
      "nlms MSE = 0.210836.\n",
      "nlms pre-convergence training iteration #1\n",
      "nlms MSE = 0.195640.\n",
      "nlms pre-convergence training iteration #2\n",
      "nlms MSE = 0.195132.\n",
      "nlms pre-convergence training iteration #3\n",
      "nlms MSE = 0.194821.\n",
      "nlms pre-convergence training iteration #4\n",
      "nlms MSE = 0.194614.\n",
      "\n",
      "\n",
      "dd-lms - training stage #1\n",
      "dd-lms MSE = 0.059766.\n",
      "Results:\n",
      "\n",
      "SER: 9.29e-01\n",
      "BER: 4.91e-01\n",
      "SNR: 0.00 dB\n",
      "MI: -0.31 bits\n",
      "GMI: 0.00 bits\n",
      "channel 0\t fc : 193.1000 THz\n",
      "  mode #0\t power: 0.00 dBm\n",
      "channel 0\t power: -0.00 dBm\n",
      "\n",
      "total WDM signal power: -0.00 dBm\n",
      "CSPR = 9.00 dB\n",
      "\n",
      "\n",
      "nlms - training stage #0\n"
     ]
    },
    {
     "data": {
      "application/vnd.jupyter.widget-view+json": {
       "model_id": "f307328b820d46558260408ed6b0a628",
       "version_major": 2,
       "version_minor": 0
      },
      "text/plain": [
       "  0%|          | 0/5 [00:00<?, ?it/s]"
      ]
     },
     "metadata": {},
     "output_type": "display_data"
    },
    {
     "name": "stdout",
     "output_type": "stream",
     "text": [
      "nlms pre-convergence training iteration #0\n",
      "nlms MSE = 0.222198.\n",
      "nlms pre-convergence training iteration #1\n",
      "nlms MSE = 0.207072.\n",
      "nlms pre-convergence training iteration #2\n",
      "nlms MSE = 0.206437.\n",
      "nlms pre-convergence training iteration #3\n",
      "nlms MSE = 0.206030.\n",
      "nlms pre-convergence training iteration #4\n",
      "nlms MSE = 0.205749.\n",
      "\n",
      "\n",
      "dd-lms - training stage #1\n",
      "dd-lms MSE = 0.058189.\n",
      "Results:\n",
      "\n",
      "SER: 9.36e-01\n",
      "BER: 4.97e-01\n",
      "SNR: -0.02 dB\n",
      "MI: -0.34 bits\n",
      "GMI: -0.00 bits\n",
      "channel 0\t fc : 193.1000 THz\n",
      "  mode #0\t power: 0.00 dBm\n",
      "channel 0\t power: 0.00 dBm\n",
      "\n",
      "total WDM signal power: 0.00 dBm\n",
      "CSPR = 9.00 dB\n",
      "\n",
      "\n",
      "nlms - training stage #0\n"
     ]
    },
    {
     "data": {
      "application/vnd.jupyter.widget-view+json": {
       "model_id": "b82c2376599b455a9d0d1a64735d06e7",
       "version_major": 2,
       "version_minor": 0
      },
      "text/plain": [
       "  0%|          | 0/5 [00:00<?, ?it/s]"
      ]
     },
     "metadata": {},
     "output_type": "display_data"
    },
    {
     "name": "stdout",
     "output_type": "stream",
     "text": [
      "nlms pre-convergence training iteration #0\n",
      "nlms MSE = 0.230151.\n",
      "nlms pre-convergence training iteration #1\n",
      "nlms MSE = 0.208959.\n",
      "nlms pre-convergence training iteration #2\n",
      "nlms MSE = 0.208277.\n",
      "nlms pre-convergence training iteration #3\n",
      "nlms MSE = 0.207844.\n",
      "nlms pre-convergence training iteration #4\n",
      "nlms MSE = 0.207545.\n",
      "\n",
      "\n",
      "dd-lms - training stage #1\n",
      "dd-lms MSE = 0.060252.\n",
      "Results:\n",
      "\n",
      "SER: 9.29e-01\n",
      "BER: 4.85e-01\n",
      "SNR: -0.05 dB\n",
      "MI: -0.29 bits\n",
      "GMI: 0.01 bits\n"
     ]
    }
   ],
   "source": [
    "#paramTx.alphaRRC = np.arange(0, 1, 0.01)\n",
    "ROLLOFF = np.arange(0, 1, 0.05)\n",
    "\n",
    "BER_KK = np.zeros(ROLLOFF.size)\n",
    "SER_KK = np.zeros(ROLLOFF.size)\n",
    "GMI_KK = np.zeros(ROLLOFF.size)\n",
    "MI_KK  = np.zeros(ROLLOFF.size)\n",
    "SNR_KK = np.zeros(ROLLOFF.size)\n",
    "\n",
    "for indROLL, ROLLOFF_ in enumerate(ROLLOFF):\n",
    "\n",
    "    paramTx.alphaRRC = ROLLOFF_\n",
    "    # generate optical signal signal\n",
    "    sigTx, symbTx_, paramTx = simpleWDMTx(paramTx)\n",
    "\n",
    "    # simulate linear signal propagation\n",
    "    sigCh = linFiberCh(sigTx, Ltotal, alpha, D, Fc, Fs)\n",
    "    \n",
    "    # receiver detection and demodulation\n",
    "\n",
    "    Fc = paramTx.Fc\n",
    "    Ts = 1 / Fs\n",
    "    mod = QAMModem(m=paramTx.M)\n",
    "\n",
    "    freqGrid = paramTx.freqGrid\n",
    "\n",
    "    symbTx = symbTx_[:, :, chIndex]\n",
    "    \n",
    "    #Plo_dBm = CSPR_\n",
    "    Plo = 10 ** (Plo_dBm / 10) * 1e-3  # power in W\n",
    "\n",
    "#     print(\n",
    "#         \"Local oscillator P: %.2f dBm, lw: %.2f kHz, FO: %.2f MHz\"\n",
    "#         % (Plo_dBm, lw / 1e3, FO / 1e6)\n",
    "#     )\n",
    "\n",
    "    # generate LO field\n",
    "    π = np.pi\n",
    "    t = np.arange(0, len(sigCh))*Ts\n",
    "    ϕ_pn_lo = phaseNoise(lw, len(sigCh), Ts)\n",
    "\n",
    "    sigLO = np.sqrt(Plo) * np.exp(-1j * (2 * π * FO * t + ϕ_lo + ϕ_pn_lo))\n",
    "\n",
    "    # Add LO to the received signal\n",
    "    sigRx = np.sqrt(Plo) + sigCh* np.exp(1j * (2 * π * FO * t + ϕ_lo + ϕ_pn_lo))\n",
    "    sfm   = sigRx.copy()\n",
    "\n",
    "    print('CSPR = %.2f dB'%(10*np.log10(signal_power(sigLO)/signal_power(sigCh))))\n",
    "\n",
    "    ### Phase-retrieval stage\n",
    "\n",
    "    # simulate ideal direct-detection optical receiver\n",
    "    Amp = np.abs(sigRx)\n",
    "\n",
    "    # Kramers-Kronig phase-retrieval\n",
    "    phiTime = KramersKronigRx(Amp, Fs)\n",
    "\n",
    "    # optical field reconstruction\n",
    "    sigRx = Amp*np.exp(1j*phiTime)\n",
    "\n",
    "    # remove DC level\n",
    "    sigRx -= np.sqrt(Plo)  # np.mean(sigRx)\n",
    "\n",
    "    # downshift to baseband\n",
    "    sigRx *= np.exp(-1j * (2 * π * FO * t))\n",
    "\n",
    "    #### Standard receiver processing\n",
    "\n",
    "    # Matched filtering and CD compensation\n",
    "\n",
    "    # Matched filtering\n",
    "    if paramTx.pulse == \"nrz\":\n",
    "        pulse = pulseShape(\"nrz\", paramTx.SpS)\n",
    "    elif paramTx.pulse == \"rrc\":\n",
    "        pulse = pulseShape(\n",
    "            \"rrc\", paramTx.SpS, N=paramTx.Ntaps, alpha=paramTx.alphaRRC, Ts=1 / paramTx.Rs\n",
    "        )\n",
    "\n",
    "    pulse = pulse / np.max(np.abs(pulse))\n",
    "    sigRx = firFilter(pulse, sigRx)\n",
    "\n",
    "#     # plot constellations after matched filtering\n",
    "#     pconst(sigRx[0::paramTx.SpS], lim=True, R=3)\n",
    "\n",
    "    # CD compensation\n",
    "    sigRx = edc(sigRx, Ltotal, D, Fc, Fs)\n",
    "\n",
    "#     #plot constellations after CD compensation\n",
    "#     pconst(sigRx[0::paramTx.SpS], lim=True, R=2)\n",
    "\n",
    "    # Downsampling to 2 sps and re-synchronization with transmitted sequences\n",
    "    sigRx = sigRx.reshape(-1, 1)\n",
    "\n",
    "    # decimation\n",
    "    paramDec = parameters()\n",
    "    paramDec.SpS_in = paramTx.SpS\n",
    "    paramDec.SpS_out = 2\n",
    "    sigRx = decimate(sigRx, paramDec)\n",
    "\n",
    "    symbRx = symbolSync(sigRx, symbTx, 2)\n",
    "\n",
    "    # Power normalization\n",
    "    x = sigRx\n",
    "    d = symbRx\n",
    "\n",
    "    x = x.reshape(len(x), 1) / np.sqrt(signal_power(x))\n",
    "    d = d.reshape(len(d), 1) / np.sqrt(signal_power(d))\n",
    "\n",
    "    # Adaptive equalization\n",
    "    mod = QAMModem(m=paramTx.M)\n",
    "\n",
    "    paramEq = parameters()\n",
    "    paramEq.nTaps = 7\n",
    "    paramEq.SpS = 2\n",
    "    paramEq.mu = [5e-3, 5e-3]\n",
    "    paramEq.numIter = 5\n",
    "    paramEq.storeCoeff = False\n",
    "    paramEq.alg = [\"nlms\", \"dd-lms\"]\n",
    "    paramEq.M = paramTx.M\n",
    "    paramEq.L = [20000, 80000]\n",
    "\n",
    "    y_EQ, H, errSq, Hiter = mimoAdaptEqualizer(x, dx=d, paramEq=paramEq)\n",
    "\n",
    "   # y_EQ = x[0::paramTx.SpS]\n",
    "    discard = int(paramEq.L[0]/2)\n",
    "\n",
    "#     #plot constellations after adaptive equalization\n",
    "#     pconst(y_EQ[discard:-discard,:], lim=True)\n",
    "\n",
    "    # Carrier phase recovery\n",
    "    paramCPR = parameters()\n",
    "    paramCPR.alg = \"bps\"\n",
    "    paramCPR.M = paramTx.M\n",
    "    paramCPR.N = 35\n",
    "    paramCPR.B = 64\n",
    "    paramCPR.pilotInd = np.arange(0, len(y_EQ), 20)\n",
    "\n",
    "    y_CPR, θ = cpr(y_EQ, symbTx=d, paramCPR=paramCPR)\n",
    "\n",
    "    y_CPR = y_CPR / np.sqrt(signal_power(y_CPR))\n",
    "\n",
    "#     plt.figure()\n",
    "#     plt.title(\"CPR estimated phase\")\n",
    "#     plt.plot(θ, \"-\")\n",
    "#     plt.xlim(0, len(θ))\n",
    "#     plt.grid()\n",
    "\n",
    "    discard = 5000\n",
    "\n",
    "#     # plot constellations after CPR\n",
    "#     pconst(y_CPR[discard:-discard, :], lim=True)\n",
    "\n",
    "    #### Evaluate transmission metrics\n",
    "\n",
    "    # correct for (possible) phase ambiguity\n",
    "    for k in range(y_CPR.shape[1]):\n",
    "        rot = np.mean(d[:, k] / y_CPR[:, k])\n",
    "        y_CPR[:, k] = rot * y_CPR[:, k]\n",
    "\n",
    "    y_CPR = y_CPR / np.sqrt(signal_power(y_CPR))\n",
    "\n",
    "    ind = np.arange(discard, d.shape[0] - discard)\n",
    "    BER_KK[indROLL], SER_KK[indROLL], SNR_KK[indROLL] = fastBERcalc(y_CPR[ind, :], d[ind, :], mod)\n",
    "    GMI_KK[indROLL], _ = monteCarloGMI(y_CPR[ind, :], d[ind, :], mod)\n",
    "    MI_KK[indROLL] = monteCarloMI(y_CPR[ind, :], d[ind, :], mod)\n",
    "\n",
    "    print(\"Results:\\n\")\n",
    "    print(\"SER: %.2e\" % (SER_KK[indROLL]))\n",
    "    print(\"BER: %.2e\" % (BER_KK[indROLL]))\n",
    "    print(\"SNR: %.2f dB\" % (SNR_KK[indROLL]))\n",
    "    print(\"MI: %.2f bits\" % (MI_KK[indROLL]))\n",
    "    print(\"GMI: %.2f bits\" % (GMI_KK[indROLL]))\n"
   ]
  },
  {
   "cell_type": "code",
   "execution_count": 10,
   "id": "297a16e1",
   "metadata": {
    "ExecuteTime": {
     "end_time": "2022-02-10T19:12:29.381297Z",
     "start_time": "2022-02-10T19:12:29.331330Z"
    }
   },
   "outputs": [
    {
     "data": {
      "image/png": "[encoded data removed]",
      "text/plain": [
       "<Figure size 432x288 with 1 Axes>"
      ]
     },
     "metadata": {
      "needs_background": "light"
     },
     "output_type": "display_data"
    }
   ],
   "source": [
    "plt.plot(ROLLOFF, np.log10(BER_KK),'-o')\n",
    "plt.xlabel('Roll-off factor RRC')\n",
    "plt.ylabel('log10(BER)')\n",
    "plt.grid();"
   ]
  },
  {
   "cell_type": "markdown",
   "id": "dc2b47b0",
   "metadata": {},
   "source": [
    "### BER vs FO with KK algorithm"
   ]
  },
  {
   "cell_type": "code",
   "execution_count": 12,
   "id": "e5ecdd52",
   "metadata": {},
   "outputs": [
    {
     "name": "stdout",
     "output_type": "stream",
     "text": [
      "channel 0\t fc : 193.1000 THz\n",
      "  mode #0\t power: 0.00 dBm\n",
      "channel 0\t power: -0.00 dBm\n",
      "\n",
      "total WDM signal power: -0.00 dBm\n",
      "CSPR = 9.00 dB\n",
      "\n",
      "\n",
      "nlms - training stage #0\n"
     ]
    },
    {
     "data": {
      "application/vnd.jupyter.widget-view+json": {
       "model_id": "193f00a3b38c42d58c404f65a9b743dc",
       "version_major": 2,
       "version_minor": 0
      },
      "text/plain": [
       "  0%|          | 0/5 [00:00<?, ?it/s]"
      ]
     },
     "metadata": {},
     "output_type": "display_data"
    },
    {
     "name": "stdout",
     "output_type": "stream",
     "text": [
      "nlms pre-convergence training iteration #0\n",
      "nlms MSE = 0.666530.\n",
      "nlms pre-convergence training iteration #1\n",
      "nlms MSE = 0.631372.\n",
      "nlms pre-convergence training iteration #2\n",
      "nlms MSE = 0.624222.\n",
      "nlms pre-convergence training iteration #3\n",
      "nlms MSE = 0.619980.\n",
      "nlms pre-convergence training iteration #4\n",
      "nlms MSE = 0.617438.\n",
      "\n",
      "\n",
      "dd-lms - training stage #1\n",
      "dd-lms MSE = 0.067336.\n",
      "Results:\n",
      "\n",
      "SER: 9.36e-01\n",
      "BER: 4.98e-01\n",
      "SNR: 0.00 dB\n",
      "MI: -0.33 bits\n",
      "GMI: 0.00 bits\n",
      "channel 0\t fc : 193.1000 THz\n",
      "  mode #0\t power: 0.00 dBm\n",
      "channel 0\t power: 0.00 dBm\n",
      "\n",
      "total WDM signal power: 0.00 dBm\n",
      "CSPR = 9.00 dB\n",
      "\n",
      "\n",
      "nlms - training stage #0\n"
     ]
    },
    {
     "data": {
      "application/vnd.jupyter.widget-view+json": {
       "model_id": "081ad780babc4f088fa7fff0118108b7",
       "version_major": 2,
       "version_minor": 0
      },
      "text/plain": [
       "  0%|          | 0/5 [00:00<?, ?it/s]"
      ]
     },
     "metadata": {},
     "output_type": "display_data"
    },
    {
     "name": "stdout",
     "output_type": "stream",
     "text": [
      "nlms pre-convergence training iteration #0\n",
      "nlms MSE = 0.678588.\n",
      "nlms pre-convergence training iteration #1\n",
      "nlms MSE = 0.647530.\n",
      "nlms pre-convergence training iteration #2\n",
      "nlms MSE = 0.639884.\n",
      "nlms pre-convergence training iteration #3\n",
      "nlms MSE = 0.635115.\n",
      "nlms pre-convergence training iteration #4\n",
      "nlms MSE = 0.632097.\n",
      "\n",
      "\n",
      "dd-lms - training stage #1\n",
      "dd-lms MSE = 0.066799.\n",
      "Results:\n",
      "\n",
      "SER: 9.36e-01\n",
      "BER: 4.98e-01\n",
      "SNR: 0.00 dB\n",
      "MI: -0.33 bits\n",
      "GMI: 0.00 bits\n",
      "channel 0\t fc : 193.1000 THz\n",
      "  mode #0\t power: 0.00 dBm\n",
      "channel 0\t power: 0.00 dBm\n",
      "\n",
      "total WDM signal power: 0.00 dBm\n",
      "CSPR = 9.00 dB\n",
      "\n",
      "\n",
      "nlms - training stage #0\n"
     ]
    },
    {
     "data": {
      "application/vnd.jupyter.widget-view+json": {
       "model_id": "6e691a9569b046c6bb27d05a907ade42",
       "version_major": 2,
       "version_minor": 0
      },
      "text/plain": [
       "  0%|          | 0/5 [00:00<?, ?it/s]"
      ]
     },
     "metadata": {},
     "output_type": "display_data"
    },
    {
     "name": "stdout",
     "output_type": "stream",
     "text": [
      "nlms pre-convergence training iteration #0\n",
      "nlms MSE = 0.675264.\n",
      "nlms pre-convergence training iteration #1\n",
      "nlms MSE = 0.636211.\n",
      "nlms pre-convergence training iteration #2\n",
      "nlms MSE = 0.628226.\n",
      "nlms pre-convergence training iteration #3\n",
      "nlms MSE = 0.623278.\n",
      "nlms pre-convergence training iteration #4\n",
      "nlms MSE = 0.620155.\n",
      "\n",
      "\n",
      "dd-lms - training stage #1\n",
      "dd-lms MSE = 0.066852.\n",
      "Results:\n",
      "\n",
      "SER: 9.37e-01\n",
      "BER: 5.00e-01\n",
      "SNR: -0.00 dB\n",
      "MI: -0.34 bits\n",
      "GMI: -0.00 bits\n",
      "channel 0\t fc : 193.1000 THz\n",
      "  mode #0\t power: 0.00 dBm\n",
      "channel 0\t power: 0.00 dBm\n",
      "\n",
      "total WDM signal power: 0.00 dBm\n",
      "CSPR = 9.00 dB\n",
      "\n",
      "\n",
      "nlms - training stage #0\n"
     ]
    },
    {
     "data": {
      "application/vnd.jupyter.widget-view+json": {
       "model_id": "0bd158ea69244e21b4f65e35e54671a4",
       "version_major": 2,
       "version_minor": 0
      },
      "text/plain": [
       "  0%|          | 0/5 [00:00<?, ?it/s]"
      ]
     },
     "metadata": {},
     "output_type": "display_data"
    },
    {
     "name": "stdout",
     "output_type": "stream",
     "text": [
      "nlms pre-convergence training iteration #0\n",
      "nlms MSE = 0.685088.\n",
      "nlms pre-convergence training iteration #1\n",
      "nlms MSE = 0.655838.\n",
      "nlms pre-convergence training iteration #2\n",
      "nlms MSE = 0.648250.\n",
      "nlms pre-convergence training iteration #3\n",
      "nlms MSE = 0.643561.\n",
      "nlms pre-convergence training iteration #4\n",
      "nlms MSE = 0.640664.\n",
      "\n",
      "\n",
      "dd-lms - training stage #1\n",
      "dd-lms MSE = 0.066986.\n",
      "Results:\n",
      "\n",
      "SER: 9.38e-01\n",
      "BER: 4.99e-01\n",
      "SNR: 0.00 dB\n",
      "MI: -0.34 bits\n",
      "GMI: 0.00 bits\n",
      "channel 0\t fc : 193.1000 THz\n",
      "  mode #0\t power: 0.00 dBm\n",
      "channel 0\t power: -0.00 dBm\n",
      "\n",
      "total WDM signal power: -0.00 dBm\n",
      "CSPR = 9.00 dB\n",
      "\n",
      "\n",
      "nlms - training stage #0\n"
     ]
    },
    {
     "data": {
      "application/vnd.jupyter.widget-view+json": {
       "model_id": "20c5232c03e741228980ea67a98740c7",
       "version_major": 2,
       "version_minor": 0
      },
      "text/plain": [
       "  0%|          | 0/5 [00:00<?, ?it/s]"
      ]
     },
     "metadata": {},
     "output_type": "display_data"
    },
    {
     "name": "stdout",
     "output_type": "stream",
     "text": [
      "nlms pre-convergence training iteration #0\n",
      "nlms MSE = 0.679696.\n",
      "nlms pre-convergence training iteration #1\n",
      "nlms MSE = 0.641059.\n",
      "nlms pre-convergence training iteration #2\n",
      "nlms MSE = 0.633617.\n",
      "nlms pre-convergence training iteration #3\n",
      "nlms MSE = 0.629252.\n",
      "nlms pre-convergence training iteration #4\n",
      "nlms MSE = 0.626661.\n",
      "\n",
      "\n",
      "dd-lms - training stage #1\n",
      "dd-lms MSE = 0.067113.\n",
      "Results:\n",
      "\n",
      "SER: 9.37e-01\n",
      "BER: 5.01e-01\n",
      "SNR: 0.00 dB\n",
      "MI: -0.34 bits\n",
      "GMI: 0.00 bits\n",
      "channel 0\t fc : 193.1000 THz\n",
      "  mode #0\t power: 0.00 dBm\n",
      "channel 0\t power: -0.00 dBm\n",
      "\n",
      "total WDM signal power: -0.00 dBm\n",
      "CSPR = 9.00 dB\n",
      "\n",
      "\n",
      "nlms - training stage #0\n"
     ]
    },
    {
     "data": {
      "application/vnd.jupyter.widget-view+json": {
       "model_id": "4a61e3fd33d142a19d3dda6ada9187e7",
       "version_major": 2,
       "version_minor": 0
      },
      "text/plain": [
       "  0%|          | 0/5 [00:00<?, ?it/s]"
      ]
     },
     "metadata": {},
     "output_type": "display_data"
    },
    {
     "name": "stdout",
     "output_type": "stream",
     "text": [
      "nlms pre-convergence training iteration #0\n",
      "nlms MSE = 0.680560.\n",
      "nlms pre-convergence training iteration #1\n",
      "nlms MSE = 0.651617.\n",
      "nlms pre-convergence training iteration #2\n",
      "nlms MSE = 0.645004.\n",
      "nlms pre-convergence training iteration #3\n",
      "nlms MSE = 0.641040.\n",
      "nlms pre-convergence training iteration #4\n",
      "nlms MSE = 0.638646.\n",
      "\n",
      "\n",
      "dd-lms - training stage #1\n",
      "dd-lms MSE = 0.067271.\n",
      "Results:\n",
      "\n",
      "SER: 9.37e-01\n",
      "BER: 5.00e-01\n",
      "SNR: -0.00 dB\n",
      "MI: -0.35 bits\n",
      "GMI: -0.00 bits\n",
      "channel 0\t fc : 193.1000 THz\n",
      "  mode #0\t power: 0.00 dBm\n",
      "channel 0\t power: 0.00 dBm\n",
      "\n",
      "total WDM signal power: 0.00 dBm\n",
      "CSPR = 9.00 dB\n",
      "\n",
      "\n",
      "nlms - training stage #0\n"
     ]
    },
    {
     "data": {
      "application/vnd.jupyter.widget-view+json": {
       "model_id": "990395a34e8f4cb69ec3f1e315c5c689",
       "version_major": 2,
       "version_minor": 0
      },
      "text/plain": [
       "  0%|          | 0/5 [00:00<?, ?it/s]"
      ]
     },
     "metadata": {},
     "output_type": "display_data"
    },
    {
     "name": "stdout",
     "output_type": "stream",
     "text": [
      "nlms pre-convergence training iteration #0\n",
      "nlms MSE = 0.669104.\n",
      "nlms pre-convergence training iteration #1\n",
      "nlms MSE = 0.631037.\n",
      "nlms pre-convergence training iteration #2\n",
      "nlms MSE = 0.623179.\n",
      "nlms pre-convergence training iteration #3\n",
      "nlms MSE = 0.618513.\n",
      "nlms pre-convergence training iteration #4\n",
      "nlms MSE = 0.615699.\n",
      "\n",
      "\n",
      "dd-lms - training stage #1\n",
      "dd-lms MSE = 0.067027.\n",
      "Results:\n",
      "\n",
      "SER: 9.36e-01\n",
      "BER: 4.99e-01\n",
      "SNR: -0.08 dB\n",
      "MI: -0.34 bits\n",
      "GMI: -0.00 bits\n",
      "channel 0\t fc : 193.1000 THz\n",
      "  mode #0\t power: 0.00 dBm\n",
      "channel 0\t power: -0.00 dBm\n",
      "\n",
      "total WDM signal power: -0.00 dBm\n",
      "CSPR = 9.00 dB\n",
      "\n",
      "\n",
      "nlms - training stage #0\n"
     ]
    },
    {
     "data": {
      "application/vnd.jupyter.widget-view+json": {
       "model_id": "3375cc7142f64ca2a9875ba5bb83b642",
       "version_major": 2,
       "version_minor": 0
      },
      "text/plain": [
       "  0%|          | 0/5 [00:00<?, ?it/s]"
      ]
     },
     "metadata": {},
     "output_type": "display_data"
    },
    {
     "name": "stdout",
     "output_type": "stream",
     "text": [
      "nlms pre-convergence training iteration #0\n",
      "nlms MSE = 0.677626.\n",
      "nlms pre-convergence training iteration #1\n",
      "nlms MSE = 0.642238.\n",
      "nlms pre-convergence training iteration #2\n",
      "nlms MSE = 0.634469.\n",
      "nlms pre-convergence training iteration #3\n",
      "nlms MSE = 0.629746.\n",
      "nlms pre-convergence training iteration #4\n",
      "nlms MSE = 0.626872.\n",
      "\n",
      "\n",
      "dd-lms - training stage #1\n",
      "dd-lms MSE = 0.066598.\n",
      "Results:\n",
      "\n",
      "SER: 9.37e-01\n",
      "BER: 5.00e-01\n",
      "SNR: -0.00 dB\n",
      "MI: -0.34 bits\n",
      "GMI: -0.00 bits\n",
      "channel 0\t fc : 193.1000 THz\n",
      "  mode #0\t power: 0.00 dBm\n",
      "channel 0\t power: -0.00 dBm\n",
      "\n",
      "total WDM signal power: -0.00 dBm\n",
      "CSPR = 9.00 dB\n",
      "\n",
      "\n",
      "nlms - training stage #0\n"
     ]
    },
    {
     "data": {
      "application/vnd.jupyter.widget-view+json": {
       "model_id": "c11e654c470f4ff7abb7a8074d276739",
       "version_major": 2,
       "version_minor": 0
      },
      "text/plain": [
       "  0%|          | 0/5 [00:00<?, ?it/s]"
      ]
     },
     "metadata": {},
     "output_type": "display_data"
    },
    {
     "name": "stdout",
     "output_type": "stream",
     "text": [
      "nlms pre-convergence training iteration #0\n",
      "nlms MSE = 0.658729.\n",
      "nlms pre-convergence training iteration #1\n",
      "nlms MSE = 0.621812.\n",
      "nlms pre-convergence training iteration #2\n",
      "nlms MSE = 0.614186.\n",
      "nlms pre-convergence training iteration #3\n",
      "nlms MSE = 0.609599.\n",
      "nlms pre-convergence training iteration #4\n",
      "nlms MSE = 0.606804.\n",
      "\n",
      "\n",
      "dd-lms - training stage #1\n",
      "dd-lms MSE = 0.067006.\n",
      "Results:\n",
      "\n",
      "SER: 9.36e-01\n",
      "BER: 4.97e-01\n",
      "SNR: 0.00 dB\n",
      "MI: -0.32 bits\n",
      "GMI: 0.00 bits\n",
      "channel 0\t fc : 193.1000 THz\n",
      "  mode #0\t power: 0.00 dBm\n",
      "channel 0\t power: 0.00 dBm\n",
      "\n",
      "total WDM signal power: 0.00 dBm\n",
      "CSPR = 9.00 dB\n",
      "\n",
      "\n",
      "nlms - training stage #0\n"
     ]
    },
    {
     "data": {
      "application/vnd.jupyter.widget-view+json": {
       "model_id": "9314c2ccc3024aa2ad2070eed1a76c57",
       "version_major": 2,
       "version_minor": 0
      },
      "text/plain": [
       "  0%|          | 0/5 [00:00<?, ?it/s]"
      ]
     },
     "metadata": {},
     "output_type": "display_data"
    },
    {
     "name": "stdout",
     "output_type": "stream",
     "text": [
      "nlms pre-convergence training iteration #0\n",
      "nlms MSE = 0.673471.\n",
      "nlms pre-convergence training iteration #1\n",
      "nlms MSE = 0.631903.\n",
      "nlms pre-convergence training iteration #2\n",
      "nlms MSE = 0.623578.\n",
      "nlms pre-convergence training iteration #3\n",
      "nlms MSE = 0.618520.\n",
      "nlms pre-convergence training iteration #4\n",
      "nlms MSE = 0.615369.\n",
      "\n",
      "\n",
      "dd-lms - training stage #1\n",
      "dd-lms MSE = 0.066816.\n",
      "Results:\n",
      "\n",
      "SER: 9.36e-01\n",
      "BER: 4.97e-01\n",
      "SNR: 0.00 dB\n",
      "MI: -0.33 bits\n",
      "GMI: 0.00 bits\n",
      "channel 0\t fc : 193.1000 THz\n",
      "  mode #0\t power: 0.00 dBm\n",
      "channel 0\t power: 0.00 dBm\n",
      "\n",
      "total WDM signal power: 0.00 dBm\n",
      "CSPR = 9.00 dB\n",
      "\n",
      "\n",
      "nlms - training stage #0\n"
     ]
    },
    {
     "data": {
      "application/vnd.jupyter.widget-view+json": {
       "model_id": "062af9b131184a8ab2e687d9df4f632a",
       "version_major": 2,
       "version_minor": 0
      },
      "text/plain": [
       "  0%|          | 0/5 [00:00<?, ?it/s]"
      ]
     },
     "metadata": {},
     "output_type": "display_data"
    },
    {
     "name": "stdout",
     "output_type": "stream",
     "text": [
      "nlms pre-convergence training iteration #0\n",
      "nlms MSE = 0.673376.\n",
      "nlms pre-convergence training iteration #1\n",
      "nlms MSE = 0.633470.\n",
      "nlms pre-convergence training iteration #2\n",
      "nlms MSE = 0.625159.\n",
      "nlms pre-convergence training iteration #3\n",
      "nlms MSE = 0.620207.\n",
      "nlms pre-convergence training iteration #4\n",
      "nlms MSE = 0.617233.\n",
      "\n",
      "\n",
      "dd-lms - training stage #1\n",
      "dd-lms MSE = 0.067011.\n",
      "Results:\n",
      "\n",
      "SER: 9.38e-01\n",
      "BER: 5.01e-01\n",
      "SNR: -0.00 dB\n",
      "MI: -0.34 bits\n",
      "GMI: -0.00 bits\n",
      "channel 0\t fc : 193.1000 THz\n",
      "  mode #0\t power: 0.00 dBm\n",
      "channel 0\t power: 0.00 dBm\n",
      "\n",
      "total WDM signal power: 0.00 dBm\n",
      "CSPR = 9.00 dB\n",
      "\n",
      "\n",
      "nlms - training stage #0\n"
     ]
    },
    {
     "data": {
      "application/vnd.jupyter.widget-view+json": {
       "model_id": "f363e17028d241598969babf004e1a6d",
       "version_major": 2,
       "version_minor": 0
      },
      "text/plain": [
       "  0%|          | 0/5 [00:00<?, ?it/s]"
      ]
     },
     "metadata": {},
     "output_type": "display_data"
    },
    {
     "name": "stdout",
     "output_type": "stream",
     "text": [
      "nlms pre-convergence training iteration #0\n",
      "nlms MSE = 0.684092.\n",
      "nlms pre-convergence training iteration #1\n",
      "nlms MSE = 0.644766.\n",
      "nlms pre-convergence training iteration #2\n",
      "nlms MSE = 0.636444.\n",
      "nlms pre-convergence training iteration #3\n",
      "nlms MSE = 0.631473.\n",
      "nlms pre-convergence training iteration #4\n",
      "nlms MSE = 0.628481.\n",
      "\n",
      "\n",
      "dd-lms - training stage #1\n",
      "dd-lms MSE = 0.066918.\n",
      "Results:\n",
      "\n",
      "SER: 9.38e-01\n",
      "BER: 4.99e-01\n",
      "SNR: 0.00 dB\n",
      "MI: -0.33 bits\n",
      "GMI: 0.00 bits\n",
      "channel 0\t fc : 193.1000 THz\n",
      "  mode #0\t power: 0.00 dBm\n",
      "channel 0\t power: -0.00 dBm\n",
      "\n",
      "total WDM signal power: -0.00 dBm\n",
      "CSPR = 9.00 dB\n",
      "\n",
      "\n",
      "nlms - training stage #0\n"
     ]
    },
    {
     "data": {
      "application/vnd.jupyter.widget-view+json": {
       "model_id": "5f96447d7b934ee0b5b17d3adb6ece06",
       "version_major": 2,
       "version_minor": 0
      },
      "text/plain": [
       "  0%|          | 0/5 [00:00<?, ?it/s]"
      ]
     },
     "metadata": {},
     "output_type": "display_data"
    },
    {
     "name": "stdout",
     "output_type": "stream",
     "text": [
      "nlms pre-convergence training iteration #0\n",
      "nlms MSE = 0.674686.\n",
      "nlms pre-convergence training iteration #1\n",
      "nlms MSE = 0.640553.\n",
      "nlms pre-convergence training iteration #2\n",
      "nlms MSE = 0.633131.\n",
      "nlms pre-convergence training iteration #3\n",
      "nlms MSE = 0.628657.\n",
      "nlms pre-convergence training iteration #4\n",
      "nlms MSE = 0.625959.\n",
      "\n",
      "\n",
      "dd-lms - training stage #1\n",
      "dd-lms MSE = 0.067120.\n",
      "Results:\n",
      "\n",
      "SER: 9.35e-01\n",
      "BER: 4.95e-01\n",
      "SNR: 0.01 dB\n",
      "MI: -0.31 bits\n",
      "GMI: 0.00 bits\n",
      "channel 0\t fc : 193.1000 THz\n",
      "  mode #0\t power: 0.00 dBm\n",
      "channel 0\t power: -0.00 dBm\n",
      "\n",
      "total WDM signal power: -0.00 dBm\n",
      "CSPR = 9.00 dB\n",
      "\n",
      "\n",
      "nlms - training stage #0\n"
     ]
    },
    {
     "data": {
      "application/vnd.jupyter.widget-view+json": {
       "model_id": "a2aef16b87604d61bcebacb6f4a9ebb8",
       "version_major": 2,
       "version_minor": 0
      },
      "text/plain": [
       "  0%|          | 0/5 [00:00<?, ?it/s]"
      ]
     },
     "metadata": {},
     "output_type": "display_data"
    },
    {
     "name": "stdout",
     "output_type": "stream",
     "text": [
      "nlms pre-convergence training iteration #0\n",
      "nlms MSE = 0.675330.\n",
      "nlms pre-convergence training iteration #1\n",
      "nlms MSE = 0.638675.\n",
      "nlms pre-convergence training iteration #2\n",
      "nlms MSE = 0.631641.\n",
      "nlms pre-convergence training iteration #3\n",
      "nlms MSE = 0.627444.\n",
      "nlms pre-convergence training iteration #4\n",
      "nlms MSE = 0.624893.\n",
      "\n",
      "\n",
      "dd-lms - training stage #1\n",
      "dd-lms MSE = 0.067006.\n",
      "Results:\n",
      "\n",
      "SER: 9.37e-01\n",
      "BER: 4.97e-01\n",
      "SNR: 0.00 dB\n",
      "MI: -0.32 bits\n",
      "GMI: 0.00 bits\n",
      "channel 0\t fc : 193.1000 THz\n",
      "  mode #0\t power: 0.00 dBm\n",
      "channel 0\t power: 0.00 dBm\n",
      "\n",
      "total WDM signal power: 0.00 dBm\n",
      "CSPR = 9.00 dB\n",
      "\n",
      "\n",
      "nlms - training stage #0\n"
     ]
    },
    {
     "data": {
      "application/vnd.jupyter.widget-view+json": {
       "model_id": "19c9964e358e4e61a96d559aeabafdcc",
       "version_major": 2,
       "version_minor": 0
      },
      "text/plain": [
       "  0%|          | 0/5 [00:00<?, ?it/s]"
      ]
     },
     "metadata": {},
     "output_type": "display_data"
    },
    {
     "name": "stdout",
     "output_type": "stream",
     "text": [
      "nlms pre-convergence training iteration #0\n",
      "nlms MSE = 0.666107.\n",
      "nlms pre-convergence training iteration #1\n",
      "nlms MSE = 0.631488.\n",
      "nlms pre-convergence training iteration #2\n",
      "nlms MSE = 0.624503.\n",
      "nlms pre-convergence training iteration #3\n",
      "nlms MSE = 0.620321.\n",
      "nlms pre-convergence training iteration #4\n",
      "nlms MSE = 0.617780.\n",
      "\n",
      "\n",
      "dd-lms - training stage #1\n",
      "dd-lms MSE = 0.066943.\n",
      "Results:\n",
      "\n",
      "SER: 9.37e-01\n",
      "BER: 4.98e-01\n",
      "SNR: 0.00 dB\n",
      "MI: -0.33 bits\n",
      "GMI: 0.00 bits\n",
      "channel 0\t fc : 193.1000 THz\n",
      "  mode #0\t power: 0.00 dBm\n",
      "channel 0\t power: 0.00 dBm\n",
      "\n",
      "total WDM signal power: 0.00 dBm\n",
      "CSPR = 9.00 dB\n",
      "\n",
      "\n",
      "nlms - training stage #0\n"
     ]
    },
    {
     "data": {
      "application/vnd.jupyter.widget-view+json": {
       "model_id": "b0f89a9cd1924c9ebede2705b6cc7a67",
       "version_major": 2,
       "version_minor": 0
      },
      "text/plain": [
       "  0%|          | 0/5 [00:00<?, ?it/s]"
      ]
     },
     "metadata": {},
     "output_type": "display_data"
    },
    {
     "name": "stdout",
     "output_type": "stream",
     "text": [
      "nlms pre-convergence training iteration #0\n",
      "nlms MSE = 0.664477.\n",
      "nlms pre-convergence training iteration #1\n",
      "nlms MSE = 0.625934.\n",
      "nlms pre-convergence training iteration #2\n",
      "nlms MSE = 0.618243.\n",
      "nlms pre-convergence training iteration #3\n",
      "nlms MSE = 0.613615.\n",
      "nlms pre-convergence training iteration #4\n",
      "nlms MSE = 0.610792.\n",
      "\n",
      "\n",
      "dd-lms - training stage #1\n",
      "dd-lms MSE = 0.067065.\n",
      "Results:\n",
      "\n",
      "SER: 9.37e-01\n",
      "BER: 4.98e-01\n",
      "SNR: 0.00 dB\n",
      "MI: -0.32 bits\n",
      "GMI: 0.00 bits\n",
      "channel 0\t fc : 193.1000 THz\n",
      "  mode #0\t power: 0.00 dBm\n",
      "channel 0\t power: 0.00 dBm\n",
      "\n",
      "total WDM signal power: 0.00 dBm\n",
      "CSPR = 9.00 dB\n",
      "\n",
      "\n",
      "nlms - training stage #0\n"
     ]
    },
    {
     "data": {
      "application/vnd.jupyter.widget-view+json": {
       "model_id": "87b8af897b4a44e996e2e28a46659b11",
       "version_major": 2,
       "version_minor": 0
      },
      "text/plain": [
       "  0%|          | 0/5 [00:00<?, ?it/s]"
      ]
     },
     "metadata": {},
     "output_type": "display_data"
    },
    {
     "name": "stdout",
     "output_type": "stream",
     "text": [
      "nlms pre-convergence training iteration #0\n",
      "nlms MSE = 0.671501.\n",
      "nlms pre-convergence training iteration #1\n",
      "nlms MSE = 0.654588.\n",
      "nlms pre-convergence training iteration #2\n",
      "nlms MSE = 0.649178.\n",
      "nlms pre-convergence training iteration #3\n",
      "nlms MSE = 0.645966.\n",
      "nlms pre-convergence training iteration #4\n",
      "nlms MSE = 0.644042.\n",
      "\n",
      "\n",
      "dd-lms - training stage #1\n",
      "dd-lms MSE = 0.067020.\n",
      "Results:\n",
      "\n",
      "SER: 9.35e-01\n",
      "BER: 4.96e-01\n",
      "SNR: 0.01 dB\n",
      "MI: -0.31 bits\n",
      "GMI: 0.00 bits\n",
      "channel 0\t fc : 193.1000 THz\n",
      "  mode #0\t power: 0.00 dBm\n",
      "channel 0\t power: 0.00 dBm\n",
      "\n",
      "total WDM signal power: 0.00 dBm\n",
      "CSPR = 9.00 dB\n",
      "\n",
      "\n",
      "nlms - training stage #0\n"
     ]
    },
    {
     "data": {
      "application/vnd.jupyter.widget-view+json": {
       "model_id": "9a1a3a311033493dbc38b596e8ea5632",
       "version_major": 2,
       "version_minor": 0
      },
      "text/plain": [
       "  0%|          | 0/5 [00:00<?, ?it/s]"
      ]
     },
     "metadata": {},
     "output_type": "display_data"
    },
    {
     "name": "stdout",
     "output_type": "stream",
     "text": [
      "nlms pre-convergence training iteration #0\n",
      "nlms MSE = 0.668274.\n",
      "nlms pre-convergence training iteration #1\n",
      "nlms MSE = 0.641539.\n",
      "nlms pre-convergence training iteration #2\n",
      "nlms MSE = 0.635211.\n",
      "nlms pre-convergence training iteration #3\n",
      "nlms MSE = 0.631453.\n",
      "nlms pre-convergence training iteration #4\n",
      "nlms MSE = 0.629181.\n",
      "\n",
      "\n",
      "dd-lms - training stage #1\n",
      "dd-lms MSE = 0.067172.\n",
      "Results:\n",
      "\n",
      "SER: 9.39e-01\n",
      "BER: 5.00e-01\n",
      "SNR: -0.00 dB\n",
      "MI: -0.36 bits\n",
      "GMI: -0.00 bits\n",
      "channel 0\t fc : 193.1000 THz\n",
      "  mode #0\t power: 0.00 dBm\n",
      "channel 0\t power: 0.00 dBm\n",
      "\n",
      "total WDM signal power: 0.00 dBm\n",
      "CSPR = 9.00 dB\n",
      "\n",
      "\n",
      "nlms - training stage #0\n"
     ]
    },
    {
     "data": {
      "application/vnd.jupyter.widget-view+json": {
       "model_id": "3e49273b93094e9f91459e0a6ffced03",
       "version_major": 2,
       "version_minor": 0
      },
      "text/plain": [
       "  0%|          | 0/5 [00:00<?, ?it/s]"
      ]
     },
     "metadata": {},
     "output_type": "display_data"
    },
    {
     "name": "stdout",
     "output_type": "stream",
     "text": [
      "nlms pre-convergence training iteration #0\n",
      "nlms MSE = 0.666208.\n",
      "nlms pre-convergence training iteration #1\n",
      "nlms MSE = 0.641202.\n",
      "nlms pre-convergence training iteration #2\n",
      "nlms MSE = 0.635525.\n",
      "nlms pre-convergence training iteration #3\n",
      "nlms MSE = 0.632137.\n",
      "nlms pre-convergence training iteration #4\n",
      "nlms MSE = 0.630091.\n",
      "\n",
      "\n",
      "dd-lms - training stage #1\n",
      "dd-lms MSE = 0.066884.\n",
      "Results:\n",
      "\n",
      "SER: 9.36e-01\n",
      "BER: 4.99e-01\n",
      "SNR: 0.00 dB\n",
      "MI: -0.32 bits\n",
      "GMI: 0.00 bits\n",
      "channel 0\t fc : 193.1000 THz\n",
      "  mode #0\t power: 0.00 dBm\n",
      "channel 0\t power: -0.00 dBm\n",
      "\n",
      "total WDM signal power: -0.00 dBm\n",
      "CSPR = 9.00 dB\n",
      "\n",
      "\n",
      "nlms - training stage #0\n"
     ]
    },
    {
     "data": {
      "application/vnd.jupyter.widget-view+json": {
       "model_id": "119e51b0ab4d479d9a13ffff4f088700",
       "version_major": 2,
       "version_minor": 0
      },
      "text/plain": [
       "  0%|          | 0/5 [00:00<?, ?it/s]"
      ]
     },
     "metadata": {},
     "output_type": "display_data"
    },
    {
     "name": "stdout",
     "output_type": "stream",
     "text": [
      "nlms pre-convergence training iteration #0\n",
      "nlms MSE = 0.671088.\n",
      "nlms pre-convergence training iteration #1\n",
      "nlms MSE = 0.632532.\n",
      "nlms pre-convergence training iteration #2\n",
      "nlms MSE = 0.625015.\n",
      "nlms pre-convergence training iteration #3\n",
      "nlms MSE = 0.620444.\n",
      "nlms pre-convergence training iteration #4\n",
      "nlms MSE = 0.617657.\n",
      "\n",
      "\n",
      "dd-lms - training stage #1\n",
      "dd-lms MSE = 0.067128.\n",
      "Results:\n",
      "\n",
      "SER: 9.37e-01\n",
      "BER: 4.99e-01\n",
      "SNR: -0.00 dB\n",
      "MI: -0.33 bits\n",
      "GMI: 0.00 bits\n",
      "channel 0\t fc : 193.1000 THz\n",
      "  mode #0\t power: 0.00 dBm\n",
      "channel 0\t power: 0.00 dBm\n",
      "\n",
      "total WDM signal power: 0.00 dBm\n",
      "CSPR = 9.00 dB\n",
      "\n",
      "\n",
      "nlms - training stage #0\n"
     ]
    },
    {
     "data": {
      "application/vnd.jupyter.widget-view+json": {
       "model_id": "df32e31aab424177bfc03270634bad09",
       "version_major": 2,
       "version_minor": 0
      },
      "text/plain": [
       "  0%|          | 0/5 [00:00<?, ?it/s]"
      ]
     },
     "metadata": {},
     "output_type": "display_data"
    },
    {
     "name": "stdout",
     "output_type": "stream",
     "text": [
      "nlms pre-convergence training iteration #0\n",
      "nlms MSE = 0.675024.\n",
      "nlms pre-convergence training iteration #1\n",
      "nlms MSE = 0.639481.\n",
      "nlms pre-convergence training iteration #2\n",
      "nlms MSE = 0.631496.\n",
      "nlms pre-convergence training iteration #3\n",
      "nlms MSE = 0.626642.\n",
      "nlms pre-convergence training iteration #4\n",
      "nlms MSE = 0.623677.\n",
      "\n",
      "\n",
      "dd-lms - training stage #1\n",
      "dd-lms MSE = 0.066766.\n",
      "Results:\n",
      "\n",
      "SER: 9.35e-01\n",
      "BER: 4.95e-01\n",
      "SNR: 0.01 dB\n",
      "MI: -0.31 bits\n",
      "GMI: 0.00 bits\n",
      "channel 0\t fc : 193.1000 THz\n",
      "  mode #0\t power: 0.00 dBm\n",
      "channel 0\t power: 0.00 dBm\n",
      "\n",
      "total WDM signal power: 0.00 dBm\n",
      "CSPR = 9.00 dB\n",
      "\n",
      "\n",
      "nlms - training stage #0\n"
     ]
    },
    {
     "data": {
      "application/vnd.jupyter.widget-view+json": {
       "model_id": "c215b1696a3643708ab41d2c41c1c04b",
       "version_major": 2,
       "version_minor": 0
      },
      "text/plain": [
       "  0%|          | 0/5 [00:00<?, ?it/s]"
      ]
     },
     "metadata": {},
     "output_type": "display_data"
    },
    {
     "name": "stdout",
     "output_type": "stream",
     "text": [
      "nlms pre-convergence training iteration #0\n",
      "nlms MSE = 0.689587.\n",
      "nlms pre-convergence training iteration #1\n",
      "nlms MSE = 0.651980.\n",
      "nlms pre-convergence training iteration #2\n",
      "nlms MSE = 0.644295.\n",
      "nlms pre-convergence training iteration #3\n",
      "nlms MSE = 0.639661.\n",
      "nlms pre-convergence training iteration #4\n",
      "nlms MSE = 0.636815.\n",
      "\n",
      "\n",
      "dd-lms - training stage #1\n",
      "dd-lms MSE = 0.067182.\n",
      "Results:\n",
      "\n",
      "SER: 9.36e-01\n",
      "BER: 4.95e-01\n",
      "SNR: 0.01 dB\n",
      "MI: -0.32 bits\n",
      "GMI: 0.00 bits\n",
      "channel 0\t fc : 193.1000 THz\n",
      "  mode #0\t power: 0.00 dBm\n",
      "channel 0\t power: 0.00 dBm\n",
      "\n",
      "total WDM signal power: 0.00 dBm\n",
      "CSPR = 9.00 dB\n",
      "\n",
      "\n",
      "nlms - training stage #0\n"
     ]
    },
    {
     "data": {
      "application/vnd.jupyter.widget-view+json": {
       "model_id": "26940a3af1de42949f32ecd25b940e7e",
       "version_major": 2,
       "version_minor": 0
      },
      "text/plain": [
       "  0%|          | 0/5 [00:00<?, ?it/s]"
      ]
     },
     "metadata": {},
     "output_type": "display_data"
    },
    {
     "name": "stdout",
     "output_type": "stream",
     "text": [
      "nlms pre-convergence training iteration #0\n",
      "nlms MSE = 0.669604.\n",
      "nlms pre-convergence training iteration #1\n",
      "nlms MSE = 0.633411.\n",
      "nlms pre-convergence training iteration #2\n",
      "nlms MSE = 0.625885.\n",
      "nlms pre-convergence training iteration #3\n",
      "nlms MSE = 0.621311.\n",
      "nlms pre-convergence training iteration #4\n",
      "nlms MSE = 0.618508.\n",
      "\n",
      "\n",
      "dd-lms - training stage #1\n",
      "dd-lms MSE = 0.066880.\n",
      "Results:\n",
      "\n",
      "SER: 9.37e-01\n",
      "BER: 5.01e-01\n",
      "SNR: -0.00 dB\n",
      "MI: -0.34 bits\n",
      "GMI: -0.00 bits\n",
      "channel 0\t fc : 193.1000 THz\n",
      "  mode #0\t power: 0.00 dBm\n",
      "channel 0\t power: 0.00 dBm\n",
      "\n",
      "total WDM signal power: 0.00 dBm\n",
      "CSPR = 9.00 dB\n",
      "\n",
      "\n",
      "nlms - training stage #0\n"
     ]
    },
    {
     "data": {
      "application/vnd.jupyter.widget-view+json": {
       "model_id": "bda1c745aadd492ba5ae75e033034066",
       "version_major": 2,
       "version_minor": 0
      },
      "text/plain": [
       "  0%|          | 0/5 [00:00<?, ?it/s]"
      ]
     },
     "metadata": {},
     "output_type": "display_data"
    },
    {
     "name": "stdout",
     "output_type": "stream",
     "text": [
      "nlms pre-convergence training iteration #0\n",
      "nlms MSE = 0.676259.\n",
      "nlms pre-convergence training iteration #1\n",
      "nlms MSE = 0.635674.\n",
      "nlms pre-convergence training iteration #2\n",
      "nlms MSE = 0.628032.\n",
      "nlms pre-convergence training iteration #3\n",
      "nlms MSE = 0.623429.\n",
      "nlms pre-convergence training iteration #4\n",
      "nlms MSE = 0.620607.\n",
      "\n",
      "\n",
      "dd-lms - training stage #1\n",
      "dd-lms MSE = 0.066824.\n",
      "Results:\n",
      "\n",
      "SER: 9.37e-01\n",
      "BER: 4.97e-01\n",
      "SNR: 0.00 dB\n",
      "MI: -0.33 bits\n",
      "GMI: 0.00 bits\n",
      "channel 0\t fc : 193.1000 THz\n",
      "  mode #0\t power: 0.00 dBm\n",
      "channel 0\t power: -0.00 dBm\n",
      "\n",
      "total WDM signal power: -0.00 dBm\n",
      "CSPR = 9.00 dB\n",
      "\n",
      "\n",
      "nlms - training stage #0\n"
     ]
    },
    {
     "data": {
      "application/vnd.jupyter.widget-view+json": {
       "model_id": "5964d0676f9b4754854ddf866f6843c0",
       "version_major": 2,
       "version_minor": 0
      },
      "text/plain": [
       "  0%|          | 0/5 [00:00<?, ?it/s]"
      ]
     },
     "metadata": {},
     "output_type": "display_data"
    },
    {
     "name": "stdout",
     "output_type": "stream",
     "text": [
      "nlms pre-convergence training iteration #0\n",
      "nlms MSE = 0.669902.\n",
      "nlms pre-convergence training iteration #1\n",
      "nlms MSE = 0.632687.\n",
      "nlms pre-convergence training iteration #2\n",
      "nlms MSE = 0.625008.\n",
      "nlms pre-convergence training iteration #3\n",
      "nlms MSE = 0.620398.\n",
      "nlms pre-convergence training iteration #4\n",
      "nlms MSE = 0.617600.\n",
      "\n",
      "\n",
      "dd-lms - training stage #1\n",
      "dd-lms MSE = 0.066902.\n",
      "Results:\n",
      "\n",
      "SER: 9.35e-01\n",
      "BER: 4.98e-01\n",
      "SNR: -0.00 dB\n",
      "MI: -0.34 bits\n",
      "GMI: 0.00 bits\n",
      "channel 0\t fc : 193.1000 THz\n",
      "  mode #0\t power: 0.00 dBm\n",
      "channel 0\t power: 0.00 dBm\n",
      "\n",
      "total WDM signal power: 0.00 dBm\n",
      "CSPR = 9.00 dB\n",
      "\n",
      "\n",
      "nlms - training stage #0\n"
     ]
    },
    {
     "data": {
      "application/vnd.jupyter.widget-view+json": {
       "model_id": "eed5bafa04ce4d589e87435fb08fad5a",
       "version_major": 2,
       "version_minor": 0
      },
      "text/plain": [
       "  0%|          | 0/5 [00:00<?, ?it/s]"
      ]
     },
     "metadata": {},
     "output_type": "display_data"
    },
    {
     "name": "stdout",
     "output_type": "stream",
     "text": [
      "nlms pre-convergence training iteration #0\n",
      "nlms MSE = 0.678792.\n",
      "nlms pre-convergence training iteration #1\n",
      "nlms MSE = 0.649127.\n",
      "nlms pre-convergence training iteration #2\n",
      "nlms MSE = 0.641782.\n",
      "nlms pre-convergence training iteration #3\n",
      "nlms MSE = 0.637328.\n",
      "nlms pre-convergence training iteration #4\n",
      "nlms MSE = 0.634633.\n",
      "\n",
      "\n",
      "dd-lms - training stage #1\n",
      "dd-lms MSE = 0.066873.\n",
      "Results:\n",
      "\n",
      "SER: 9.37e-01\n",
      "BER: 4.99e-01\n",
      "SNR: 0.00 dB\n",
      "MI: -0.34 bits\n",
      "GMI: 0.00 bits\n",
      "channel 0\t fc : 193.1000 THz\n",
      "  mode #0\t power: 0.00 dBm\n",
      "channel 0\t power: 0.00 dBm\n",
      "\n",
      "total WDM signal power: 0.00 dBm\n",
      "CSPR = 9.00 dB\n",
      "\n",
      "\n",
      "nlms - training stage #0\n"
     ]
    },
    {
     "data": {
      "application/vnd.jupyter.widget-view+json": {
       "model_id": "5c21252ee7a348bbb80bb06b2d32c74e",
       "version_major": 2,
       "version_minor": 0
      },
      "text/plain": [
       "  0%|          | 0/5 [00:00<?, ?it/s]"
      ]
     },
     "metadata": {},
     "output_type": "display_data"
    },
    {
     "name": "stdout",
     "output_type": "stream",
     "text": [
      "nlms pre-convergence training iteration #0\n",
      "nlms MSE = 0.668880.\n",
      "nlms pre-convergence training iteration #1\n",
      "nlms MSE = 0.630195.\n",
      "nlms pre-convergence training iteration #2\n",
      "nlms MSE = 0.622112.\n",
      "nlms pre-convergence training iteration #3\n",
      "nlms MSE = 0.617403.\n",
      "nlms pre-convergence training iteration #4\n",
      "nlms MSE = 0.614613.\n",
      "\n",
      "\n",
      "dd-lms - training stage #1\n",
      "dd-lms MSE = 0.066983.\n",
      "Results:\n",
      "\n",
      "SER: 9.36e-01\n",
      "BER: 4.97e-01\n",
      "SNR: 0.00 dB\n",
      "MI: -0.32 bits\n",
      "GMI: 0.00 bits\n",
      "channel 0\t fc : 193.1000 THz\n",
      "  mode #0\t power: 0.00 dBm\n",
      "channel 0\t power: -0.00 dBm\n",
      "\n",
      "total WDM signal power: -0.00 dBm\n",
      "CSPR = 9.00 dB\n",
      "\n",
      "\n",
      "nlms - training stage #0\n"
     ]
    },
    {
     "data": {
      "application/vnd.jupyter.widget-view+json": {
       "model_id": "d7c78348a7e74973b46b8d9728c67e39",
       "version_major": 2,
       "version_minor": 0
      },
      "text/plain": [
       "  0%|          | 0/5 [00:00<?, ?it/s]"
      ]
     },
     "metadata": {},
     "output_type": "display_data"
    },
    {
     "name": "stdout",
     "output_type": "stream",
     "text": [
      "nlms pre-convergence training iteration #0\n",
      "nlms MSE = 0.681773.\n",
      "nlms pre-convergence training iteration #1\n",
      "nlms MSE = 0.643091.\n",
      "nlms pre-convergence training iteration #2\n",
      "nlms MSE = 0.634979.\n",
      "nlms pre-convergence training iteration #3\n",
      "nlms MSE = 0.630153.\n",
      "nlms pre-convergence training iteration #4\n",
      "nlms MSE = 0.627230.\n",
      "\n",
      "\n",
      "dd-lms - training stage #1\n",
      "dd-lms MSE = 0.066914.\n",
      "Results:\n",
      "\n",
      "SER: 9.37e-01\n",
      "BER: 4.99e-01\n",
      "SNR: -0.00 dB\n",
      "MI: -0.34 bits\n",
      "GMI: -0.00 bits\n",
      "channel 0\t fc : 193.1000 THz\n",
      "  mode #0\t power: 0.00 dBm\n",
      "channel 0\t power: -0.00 dBm\n",
      "\n",
      "total WDM signal power: -0.00 dBm\n",
      "CSPR = 9.00 dB\n",
      "\n",
      "\n",
      "nlms - training stage #0\n"
     ]
    },
    {
     "data": {
      "application/vnd.jupyter.widget-view+json": {
       "model_id": "51acdd573bf74724bc39338e361c2f51",
       "version_major": 2,
       "version_minor": 0
      },
      "text/plain": [
       "  0%|          | 0/5 [00:00<?, ?it/s]"
      ]
     },
     "metadata": {},
     "output_type": "display_data"
    },
    {
     "name": "stdout",
     "output_type": "stream",
     "text": [
      "nlms pre-convergence training iteration #0\n",
      "nlms MSE = 0.669490.\n",
      "nlms pre-convergence training iteration #1\n",
      "nlms MSE = 0.635550.\n",
      "nlms pre-convergence training iteration #2\n",
      "nlms MSE = 0.627616.\n",
      "nlms pre-convergence training iteration #3\n",
      "nlms MSE = 0.622870.\n",
      "nlms pre-convergence training iteration #4\n",
      "nlms MSE = 0.619998.\n",
      "\n",
      "\n",
      "dd-lms - training stage #1\n",
      "dd-lms MSE = 0.067072.\n",
      "Results:\n",
      "\n",
      "SER: 9.38e-01\n",
      "BER: 4.99e-01\n",
      "SNR: 0.00 dB\n",
      "MI: -0.34 bits\n",
      "GMI: 0.00 bits\n",
      "channel 0\t fc : 193.1000 THz\n",
      "  mode #0\t power: 0.00 dBm\n",
      "channel 0\t power: -0.00 dBm\n",
      "\n",
      "total WDM signal power: -0.00 dBm\n",
      "CSPR = 9.00 dB\n",
      "\n",
      "\n",
      "nlms - training stage #0\n"
     ]
    },
    {
     "data": {
      "application/vnd.jupyter.widget-view+json": {
       "model_id": "4e893667b6c342bbbbc8580d2fb81ed8",
       "version_major": 2,
       "version_minor": 0
      },
      "text/plain": [
       "  0%|          | 0/5 [00:00<?, ?it/s]"
      ]
     },
     "metadata": {},
     "output_type": "display_data"
    },
    {
     "name": "stdout",
     "output_type": "stream",
     "text": [
      "nlms pre-convergence training iteration #0\n",
      "nlms MSE = 0.670567.\n",
      "nlms pre-convergence training iteration #1\n",
      "nlms MSE = 0.630252.\n",
      "nlms pre-convergence training iteration #2\n",
      "nlms MSE = 0.622049.\n",
      "nlms pre-convergence training iteration #3\n",
      "nlms MSE = 0.617104.\n",
      "nlms pre-convergence training iteration #4\n",
      "nlms MSE = 0.614047.\n",
      "\n",
      "\n",
      "dd-lms - training stage #1\n",
      "dd-lms MSE = 0.067132.\n",
      "Results:\n",
      "\n",
      "SER: 9.35e-01\n",
      "BER: 4.95e-01\n",
      "SNR: 0.01 dB\n",
      "MI: -0.31 bits\n",
      "GMI: 0.00 bits\n",
      "channel 0\t fc : 193.1000 THz\n",
      "  mode #0\t power: 0.00 dBm\n",
      "channel 0\t power: 0.00 dBm\n",
      "\n",
      "total WDM signal power: 0.00 dBm\n",
      "CSPR = 9.00 dB\n",
      "\n",
      "\n",
      "nlms - training stage #0\n"
     ]
    },
    {
     "data": {
      "application/vnd.jupyter.widget-view+json": {
       "model_id": "517220082d594cb098b876c052692455",
       "version_major": 2,
       "version_minor": 0
      },
      "text/plain": [
       "  0%|          | 0/5 [00:00<?, ?it/s]"
      ]
     },
     "metadata": {},
     "output_type": "display_data"
    },
    {
     "name": "stdout",
     "output_type": "stream",
     "text": [
      "nlms pre-convergence training iteration #0\n",
      "nlms MSE = 0.672098.\n",
      "nlms pre-convergence training iteration #1\n",
      "nlms MSE = 0.635101.\n",
      "nlms pre-convergence training iteration #2\n",
      "nlms MSE = 0.627486.\n",
      "nlms pre-convergence training iteration #3\n",
      "nlms MSE = 0.623034.\n",
      "nlms pre-convergence training iteration #4\n",
      "nlms MSE = 0.620384.\n",
      "\n",
      "\n",
      "dd-lms - training stage #1\n",
      "dd-lms MSE = 0.066855.\n",
      "Results:\n",
      "\n",
      "SER: 9.36e-01\n",
      "BER: 4.96e-01\n",
      "SNR: 0.00 dB\n",
      "MI: -0.35 bits\n",
      "GMI: 0.00 bits\n",
      "channel 0\t fc : 193.1000 THz\n",
      "  mode #0\t power: 0.00 dBm\n",
      "channel 0\t power: -0.00 dBm\n",
      "\n",
      "total WDM signal power: -0.00 dBm\n",
      "CSPR = 9.00 dB\n",
      "\n",
      "\n",
      "nlms - training stage #0\n"
     ]
    },
    {
     "data": {
      "application/vnd.jupyter.widget-view+json": {
       "model_id": "924a24ca955147b988bbcb447ac9cb11",
       "version_major": 2,
       "version_minor": 0
      },
      "text/plain": [
       "  0%|          | 0/5 [00:00<?, ?it/s]"
      ]
     },
     "metadata": {},
     "output_type": "display_data"
    },
    {
     "name": "stdout",
     "output_type": "stream",
     "text": [
      "nlms pre-convergence training iteration #0\n",
      "nlms MSE = 0.675380.\n",
      "nlms pre-convergence training iteration #1\n",
      "nlms MSE = 0.637036.\n",
      "nlms pre-convergence training iteration #2\n",
      "nlms MSE = 0.629066.\n",
      "nlms pre-convergence training iteration #3\n",
      "nlms MSE = 0.624238.\n",
      "nlms pre-convergence training iteration #4\n",
      "nlms MSE = 0.621279.\n",
      "\n",
      "\n",
      "dd-lms - training stage #1\n",
      "dd-lms MSE = 0.066864.\n",
      "Results:\n",
      "\n",
      "SER: 9.36e-01\n",
      "BER: 4.98e-01\n",
      "SNR: 0.00 dB\n",
      "MI: -0.33 bits\n",
      "GMI: 0.00 bits\n",
      "channel 0\t fc : 193.1000 THz\n",
      "  mode #0\t power: 0.00 dBm\n",
      "channel 0\t power: 0.00 dBm\n",
      "\n",
      "total WDM signal power: 0.00 dBm\n",
      "CSPR = 9.00 dB\n",
      "\n",
      "\n",
      "nlms - training stage #0\n"
     ]
    },
    {
     "data": {
      "application/vnd.jupyter.widget-view+json": {
       "model_id": "949287d130544a03875ed339b5335cb7",
       "version_major": 2,
       "version_minor": 0
      },
      "text/plain": [
       "  0%|          | 0/5 [00:00<?, ?it/s]"
      ]
     },
     "metadata": {},
     "output_type": "display_data"
    },
    {
     "name": "stdout",
     "output_type": "stream",
     "text": [
      "nlms pre-convergence training iteration #0\n",
      "nlms MSE = 0.667456.\n",
      "nlms pre-convergence training iteration #1\n",
      "nlms MSE = 0.628374.\n",
      "nlms pre-convergence training iteration #2\n",
      "nlms MSE = 0.620552.\n",
      "nlms pre-convergence training iteration #3\n",
      "nlms MSE = 0.615926.\n",
      "nlms pre-convergence training iteration #4\n",
      "nlms MSE = 0.613147.\n",
      "\n",
      "\n",
      "dd-lms - training stage #1\n",
      "dd-lms MSE = 0.066772.\n",
      "Results:\n",
      "\n",
      "SER: 9.37e-01\n",
      "BER: 4.98e-01\n",
      "SNR: 0.00 dB\n",
      "MI: -0.33 bits\n",
      "GMI: 0.00 bits\n",
      "channel 0\t fc : 193.1000 THz\n",
      "  mode #0\t power: 0.00 dBm\n",
      "channel 0\t power: -0.00 dBm\n",
      "\n",
      "total WDM signal power: -0.00 dBm\n",
      "CSPR = 9.00 dB\n",
      "\n",
      "\n",
      "nlms - training stage #0\n"
     ]
    },
    {
     "data": {
      "application/vnd.jupyter.widget-view+json": {
       "model_id": "d625a4b8cd654034915c8000c259fac1",
       "version_major": 2,
       "version_minor": 0
      },
      "text/plain": [
       "  0%|          | 0/5 [00:00<?, ?it/s]"
      ]
     },
     "metadata": {},
     "output_type": "display_data"
    },
    {
     "name": "stdout",
     "output_type": "stream",
     "text": [
      "nlms pre-convergence training iteration #0\n",
      "nlms MSE = 0.672111.\n",
      "nlms pre-convergence training iteration #1\n",
      "nlms MSE = 0.638088.\n",
      "nlms pre-convergence training iteration #2\n",
      "nlms MSE = 0.630145.\n",
      "nlms pre-convergence training iteration #3\n",
      "nlms MSE = 0.625354.\n",
      "nlms pre-convergence training iteration #4\n",
      "nlms MSE = 0.622446.\n",
      "\n",
      "\n",
      "dd-lms - training stage #1\n",
      "dd-lms MSE = 0.066970.\n",
      "Results:\n",
      "\n",
      "SER: 9.35e-01\n",
      "BER: 4.95e-01\n",
      "SNR: 0.01 dB\n",
      "MI: -0.31 bits\n",
      "GMI: 0.00 bits\n",
      "channel 0\t fc : 193.1000 THz\n",
      "  mode #0\t power: 0.00 dBm\n",
      "channel 0\t power: -0.00 dBm\n",
      "\n",
      "total WDM signal power: -0.00 dBm\n",
      "CSPR = 9.00 dB\n",
      "\n",
      "\n",
      "nlms - training stage #0\n"
     ]
    },
    {
     "data": {
      "application/vnd.jupyter.widget-view+json": {
       "model_id": "26f3f1e624fe4c549aec76583c02091f",
       "version_major": 2,
       "version_minor": 0
      },
      "text/plain": [
       "  0%|          | 0/5 [00:00<?, ?it/s]"
      ]
     },
     "metadata": {},
     "output_type": "display_data"
    },
    {
     "name": "stdout",
     "output_type": "stream",
     "text": [
      "nlms pre-convergence training iteration #0\n",
      "nlms MSE = 0.682432.\n",
      "nlms pre-convergence training iteration #1\n",
      "nlms MSE = 0.649701.\n",
      "nlms pre-convergence training iteration #2\n",
      "nlms MSE = 0.642350.\n",
      "nlms pre-convergence training iteration #3\n",
      "nlms MSE = 0.637920.\n",
      "nlms pre-convergence training iteration #4\n",
      "nlms MSE = 0.635248.\n",
      "\n",
      "\n",
      "dd-lms - training stage #1\n",
      "dd-lms MSE = 0.066613.\n",
      "Results:\n",
      "\n",
      "SER: 9.37e-01\n",
      "BER: 4.99e-01\n",
      "SNR: 0.00 dB\n",
      "MI: -0.32 bits\n",
      "GMI: 0.00 bits\n",
      "channel 0\t fc : 193.1000 THz\n",
      "  mode #0\t power: 0.00 dBm\n",
      "channel 0\t power: -0.00 dBm\n",
      "\n",
      "total WDM signal power: -0.00 dBm\n",
      "CSPR = 9.00 dB\n",
      "\n",
      "\n",
      "nlms - training stage #0\n"
     ]
    },
    {
     "data": {
      "application/vnd.jupyter.widget-view+json": {
       "model_id": "12dfdbbfbe78449ab812b40fb1543f35",
       "version_major": 2,
       "version_minor": 0
      },
      "text/plain": [
       "  0%|          | 0/5 [00:00<?, ?it/s]"
      ]
     },
     "metadata": {},
     "output_type": "display_data"
    },
    {
     "name": "stdout",
     "output_type": "stream",
     "text": [
      "nlms pre-convergence training iteration #0\n",
      "nlms MSE = 0.684008.\n",
      "nlms pre-convergence training iteration #1\n",
      "nlms MSE = 0.644653.\n",
      "nlms pre-convergence training iteration #2\n",
      "nlms MSE = 0.637025.\n",
      "nlms pre-convergence training iteration #3\n",
      "nlms MSE = 0.632438.\n",
      "nlms pre-convergence training iteration #4\n",
      "nlms MSE = 0.629631.\n",
      "\n",
      "\n",
      "dd-lms - training stage #1\n",
      "dd-lms MSE = 0.066783.\n",
      "Results:\n",
      "\n",
      "SER: 9.36e-01\n",
      "BER: 4.96e-01\n",
      "SNR: 0.00 dB\n",
      "MI: -0.33 bits\n",
      "GMI: 0.00 bits\n",
      "channel 0\t fc : 193.1000 THz\n",
      "  mode #0\t power: 0.00 dBm\n",
      "channel 0\t power: -0.00 dBm\n",
      "\n",
      "total WDM signal power: -0.00 dBm\n",
      "CSPR = 9.00 dB\n",
      "\n",
      "\n",
      "nlms - training stage #0\n"
     ]
    },
    {
     "data": {
      "application/vnd.jupyter.widget-view+json": {
       "model_id": "a45275f5b583473388032c2b41fd6dad",
       "version_major": 2,
       "version_minor": 0
      },
      "text/plain": [
       "  0%|          | 0/5 [00:00<?, ?it/s]"
      ]
     },
     "metadata": {},
     "output_type": "display_data"
    },
    {
     "name": "stdout",
     "output_type": "stream",
     "text": [
      "nlms pre-convergence training iteration #0\n",
      "nlms MSE = 0.680136.\n",
      "nlms pre-convergence training iteration #1\n",
      "nlms MSE = 0.657765.\n",
      "nlms pre-convergence training iteration #2\n",
      "nlms MSE = 0.651549.\n",
      "nlms pre-convergence training iteration #3\n",
      "nlms MSE = 0.647740.\n",
      "nlms pre-convergence training iteration #4\n",
      "nlms MSE = 0.645472.\n",
      "\n",
      "\n",
      "dd-lms - training stage #1\n",
      "dd-lms MSE = 0.066988.\n",
      "Results:\n",
      "\n",
      "SER: 9.37e-01\n",
      "BER: 5.02e-01\n",
      "SNR: -0.00 dB\n",
      "MI: -0.35 bits\n",
      "GMI: -0.00 bits\n",
      "channel 0\t fc : 193.1000 THz\n",
      "  mode #0\t power: 0.00 dBm\n",
      "channel 0\t power: -0.00 dBm\n",
      "\n",
      "total WDM signal power: -0.00 dBm\n",
      "CSPR = 9.00 dB\n",
      "\n",
      "\n",
      "nlms - training stage #0\n"
     ]
    },
    {
     "data": {
      "application/vnd.jupyter.widget-view+json": {
       "model_id": "2b2da179ee674d96b7d8fe4577348c1b",
       "version_major": 2,
       "version_minor": 0
      },
      "text/plain": [
       "  0%|          | 0/5 [00:00<?, ?it/s]"
      ]
     },
     "metadata": {},
     "output_type": "display_data"
    },
    {
     "name": "stdout",
     "output_type": "stream",
     "text": [
      "nlms pre-convergence training iteration #0\n",
      "nlms MSE = 0.672329.\n",
      "nlms pre-convergence training iteration #1\n",
      "nlms MSE = 0.633601.\n",
      "nlms pre-convergence training iteration #2\n",
      "nlms MSE = 0.625482.\n",
      "nlms pre-convergence training iteration #3\n",
      "nlms MSE = 0.620700.\n",
      "nlms pre-convergence training iteration #4\n",
      "nlms MSE = 0.617832.\n",
      "\n",
      "\n",
      "dd-lms - training stage #1\n",
      "dd-lms MSE = 0.066971.\n",
      "Results:\n",
      "\n",
      "SER: 9.37e-01\n",
      "BER: 4.97e-01\n",
      "SNR: 0.00 dB\n",
      "MI: -0.32 bits\n",
      "GMI: 0.00 bits\n",
      "channel 0\t fc : 193.1000 THz\n",
      "  mode #0\t power: 0.00 dBm\n",
      "channel 0\t power: 0.00 dBm\n",
      "\n",
      "total WDM signal power: 0.00 dBm\n",
      "CSPR = 9.00 dB\n",
      "\n",
      "\n",
      "nlms - training stage #0\n"
     ]
    },
    {
     "data": {
      "application/vnd.jupyter.widget-view+json": {
       "model_id": "c4b10f0492774911abf5923f6faff7d7",
       "version_major": 2,
       "version_minor": 0
      },
      "text/plain": [
       "  0%|          | 0/5 [00:00<?, ?it/s]"
      ]
     },
     "metadata": {},
     "output_type": "display_data"
    },
    {
     "name": "stdout",
     "output_type": "stream",
     "text": [
      "nlms pre-convergence training iteration #0\n",
      "nlms MSE = 0.658950.\n",
      "nlms pre-convergence training iteration #1\n",
      "nlms MSE = 0.632386.\n",
      "nlms pre-convergence training iteration #2\n",
      "nlms MSE = 0.626273.\n",
      "nlms pre-convergence training iteration #3\n",
      "nlms MSE = 0.622538.\n",
      "nlms pre-convergence training iteration #4\n",
      "nlms MSE = 0.620220.\n",
      "\n",
      "\n",
      "dd-lms - training stage #1\n",
      "dd-lms MSE = 0.066637.\n",
      "Results:\n",
      "\n",
      "SER: 9.35e-01\n",
      "BER: 4.99e-01\n",
      "SNR: 0.00 dB\n",
      "MI: -0.33 bits\n",
      "GMI: 0.00 bits\n",
      "channel 0\t fc : 193.1000 THz\n",
      "  mode #0\t power: 0.00 dBm\n",
      "channel 0\t power: -0.00 dBm\n",
      "\n",
      "total WDM signal power: -0.00 dBm\n",
      "CSPR = 9.00 dB\n",
      "\n",
      "\n",
      "nlms - training stage #0\n"
     ]
    },
    {
     "data": {
      "application/vnd.jupyter.widget-view+json": {
       "model_id": "9376fa26565244a4b19066e1c0920c45",
       "version_major": 2,
       "version_minor": 0
      },
      "text/plain": [
       "  0%|          | 0/5 [00:00<?, ?it/s]"
      ]
     },
     "metadata": {},
     "output_type": "display_data"
    },
    {
     "name": "stdout",
     "output_type": "stream",
     "text": [
      "nlms pre-convergence training iteration #0\n",
      "nlms MSE = 0.670869.\n",
      "nlms pre-convergence training iteration #1\n",
      "nlms MSE = 0.633918.\n",
      "nlms pre-convergence training iteration #2\n",
      "nlms MSE = 0.626877.\n",
      "nlms pre-convergence training iteration #3\n",
      "nlms MSE = 0.622673.\n",
      "nlms pre-convergence training iteration #4\n",
      "nlms MSE = 0.620150.\n",
      "\n",
      "\n",
      "dd-lms - training stage #1\n",
      "dd-lms MSE = 0.067047.\n",
      "Results:\n",
      "\n",
      "SER: 9.37e-01\n",
      "BER: 4.99e-01\n",
      "SNR: 0.00 dB\n",
      "MI: -0.33 bits\n",
      "GMI: 0.00 bits\n"
     ]
    }
   ],
   "source": [
    "FO = np.arange(-1, 1, 0.05)  # frequency offset\n",
    "\n",
    "BER_KK = np.zeros(FO.size)\n",
    "SER_KK = np.zeros(FO.size)\n",
    "GMI_KK = np.zeros(FO.size)\n",
    "MI_KK  = np.zeros(FO.size)\n",
    "SNR_KK = np.zeros(FO.size)\n",
    "\n",
    "for indFO, FO_ in enumerate(FO):\n",
    "\n",
    "    # generate optical signal signal\n",
    "    sigTx, symbTx_, paramTx = simpleWDMTx(paramTx)\n",
    "\n",
    "    # simulate linear signal propagation\n",
    "    sigCh = linFiberCh(sigTx, Ltotal, alpha, D, Fc, Fs)\n",
    "\n",
    "    # receiver detection and demodulation\n",
    "\n",
    "    Fc = paramTx.Fc\n",
    "    Ts = 1 / Fs\n",
    "    mod = QAMModem(m=paramTx.M)\n",
    "\n",
    "    freqGrid = paramTx.freqGrid\n",
    "\n",
    "    symbTx = symbTx_[:, :, chIndex]\n",
    "\n",
    "    #Plo_dBm = CSPR_\n",
    "    Plo = 10 ** (Plo_dBm / 10) * 1e-3  # power in W\n",
    "\n",
    "#     print(\n",
    "#         \"Local oscillator P: %.2f dBm, lw: %.2f kHz, FO: %.2f MHz\"\n",
    "#         % (Plo_dBm, lw / 1e3, FO / 1e6)\n",
    "#     )\n",
    "\n",
    "    # generate LO field\n",
    "    π = np.pi\n",
    "    t = np.arange(0, len(sigCh))*Ts\n",
    "    ϕ_pn_lo = phaseNoise(lw, len(sigCh), Ts)\n",
    "\n",
    "    sigLO = np.sqrt(Plo) * np.exp(-1j * (2 * π * FO_ * t + ϕ_lo + ϕ_pn_lo))\n",
    "\n",
    "    # Add LO to the received signal\n",
    "    sigRx = np.sqrt(Plo) + sigCh * np.exp(1j * (2 * π * FO_ * t + ϕ_lo + ϕ_pn_lo))\n",
    "    sfm = sigRx.copy()\n",
    "\n",
    "    print('CSPR = %.2f dB' % (10*np.log10(signal_power(sigLO)/signal_power(sigCh))))\n",
    "\n",
    "    ### Phase-retrieval stage\n",
    "\n",
    "    # simulate ideal direct-detection optical receiver\n",
    "    Amp = np.abs(sigRx)\n",
    "\n",
    "    # Kramers-Kronig phase-retrieval\n",
    "    phiTime = KramersKronigRx(Amp, Fs)\n",
    "\n",
    "    # optical field reconstruction\n",
    "    sigRx = Amp*np.exp(1j*phiTime)\n",
    "\n",
    "    # remove DC level\n",
    "    sigRx -= np.sqrt(Plo)  # np.mean(sigRx)\n",
    "\n",
    "    # downshift to baseband\n",
    "    sigRx *= np.exp(-1j * (2 * π * FO_ * t))\n",
    "\n",
    "    #### Standard receiver processing\n",
    "\n",
    "    # Matched filtering and CD compensation\n",
    "\n",
    "    # Matched filtering\n",
    "    if paramTx.pulse == \"nrz\":\n",
    "        pulse = pulseShape(\"nrz\", paramTx.SpS)\n",
    "    elif paramTx.pulse == \"rrc\":\n",
    "        pulse = pulseShape(\n",
    "            \"rrc\", paramTx.SpS, N=paramTx.Ntaps, alpha=paramTx.alphaRRC, Ts=1 / paramTx.Rs\n",
    "        )\n",
    "\n",
    "    pulse = pulse / np.max(np.abs(pulse))\n",
    "    sigRx = firFilter(pulse, sigRx)\n",
    "\n",
    "#     # plot constellations after matched filtering\n",
    "#     pconst(sigRx[0::paramTx.SpS], lim=True, R=3)\n",
    "\n",
    "    # CD compensation\n",
    "    sigRx = edc(sigRx, Ltotal, D, Fc, Fs)\n",
    "\n",
    "#     #plot constellations after CD compensation\n",
    "#     pconst(sigRx[0::paramTx.SpS], lim=True, R=2)\n",
    "\n",
    "    # Downsampling to 2 sps and re-synchronization with transmitted sequences\n",
    "    sigRx = sigRx.reshape(-1, 1)\n",
    "\n",
    "    # decimation\n",
    "    paramDec = parameters()\n",
    "    paramDec.SpS_in = paramTx.SpS\n",
    "    paramDec.SpS_out = 2\n",
    "    sigRx = decimate(sigRx, paramDec)\n",
    "\n",
    "    symbRx = symbolSync(sigRx, symbTx, 2)\n",
    "\n",
    "    # Power normalization\n",
    "    x = sigRx\n",
    "    d = symbRx\n",
    "\n",
    "    x = x.reshape(len(x), 1) / np.sqrt(signal_power(x))\n",
    "    d = d.reshape(len(d), 1) / np.sqrt(signal_power(d))\n",
    "\n",
    "    # Adaptive equalization\n",
    "    mod = QAMModem(m=paramTx.M)\n",
    "\n",
    "    paramEq = parameters()\n",
    "    paramEq.nTaps = 7\n",
    "    paramEq.SpS = 2\n",
    "    paramEq.mu = [5e-3, 5e-3]\n",
    "    paramEq.numIter = 5\n",
    "    paramEq.storeCoeff = False\n",
    "    paramEq.alg = [\"nlms\", \"dd-lms\"]\n",
    "    paramEq.M = paramTx.M\n",
    "    paramEq.L = [20000, 80000]\n",
    "\n",
    "    y_EQ, H, errSq, Hiter = mimoAdaptEqualizer(x, dx=d, paramEq=paramEq)\n",
    "\n",
    "   # y_EQ = x[0::paramTx.SpS]\n",
    "    discard = int(paramEq.L[0]/2)\n",
    "\n",
    "#     #plot constellations after adaptive equalization\n",
    "#     pconst(y_EQ[discard:-discard,:], lim=True)\n",
    "\n",
    "    # Carrier phase recovery\n",
    "    paramCPR = parameters()\n",
    "    paramCPR.alg = \"bps\"\n",
    "    paramCPR.M = paramTx.M\n",
    "    paramCPR.N = 35\n",
    "    paramCPR.B = 64\n",
    "    paramCPR.pilotInd = np.arange(0, len(y_EQ), 20)\n",
    "\n",
    "    y_CPR, θ = cpr(y_EQ, symbTx=d, paramCPR=paramCPR)\n",
    "\n",
    "    y_CPR = y_CPR / np.sqrt(signal_power(y_CPR))\n",
    "\n",
    "#     plt.figure()\n",
    "#     plt.title(\"CPR estimated phase\")\n",
    "#     plt.plot(θ, \"-\")\n",
    "#     plt.xlim(0, len(θ))\n",
    "#     plt.grid()\n",
    "\n",
    "    discard = 5000\n",
    "\n",
    "#     # plot constellations after CPR\n",
    "#     pconst(y_CPR[discard:-discard, :], lim=True)\n",
    "\n",
    "    #### Evaluate transmission metrics\n",
    "\n",
    "    # correct for (possible) phase ambiguity\n",
    "    for k in range(y_CPR.shape[1]):\n",
    "        rot = np.mean(d[:, k] / y_CPR[:, k])\n",
    "        y_CPR[:, k] = rot * y_CPR[:, k]\n",
    "\n",
    "    y_CPR = y_CPR / np.sqrt(signal_power(y_CPR))\n",
    "\n",
    "    ind = np.arange(discard, d.shape[0] - discard)\n",
    "    BER_KK[indFO], SER_KK[indFO], SNR_KK[indFO] = fastBERcalc(y_CPR[ind, :], d[ind, :], mod)\n",
    "    GMI_KK[indFO], _ = monteCarloGMI(y_CPR[ind, :], d[ind, :], mod)\n",
    "    MI_KK[indFO] = monteCarloMI(y_CPR[ind, :], d[ind, :], mod)\n",
    "\n",
    "    print(\"Results:\\n\")\n",
    "    print(\"SER: %.2e\" % (SER_KK[indFO]))\n",
    "    print(\"BER: %.2e\" % (BER_KK[indFO]))\n",
    "    print(\"SNR: %.2f dB\" % (SNR_KK[indFO]))\n",
    "    print(\"MI: %.2f bits\" % (MI_KK[indFO]))\n",
    "    print(\"GMI: %.2f bits\" % (GMI_KK[indFO]))"
   ]
  },
  {
   "cell_type": "code",
   "execution_count": 13,
   "id": "436db181",
   "metadata": {},
   "outputs": [
    {
     "data": {
      "image/png": "[encoded data removed]",
      "text/plain": [
       "<Figure size 432x288 with 1 Axes>"
      ]
     },
     "metadata": {
      "needs_background": "light"
     },
     "output_type": "display_data"
    }
   ],
   "source": [
    "plt.plot(FO, np.log10(BER_KK), '-o')\n",
    "plt.xlabel('FO')\n",
    "plt.ylabel('log10(BER)')\n",
    "plt.grid()"
   ]
  }
 ],
 "metadata": {
  "interpreter": {
   "hash": "9d5b6e03d6ac79a37ef7da211c0e283cea2ee331edb1c9b7aa89f897c687f1b0"
  },
  "jupytext": {
   "cell_metadata_filter": "-all",
   "encoding": "# -*- coding: utf-8 -*-",
   "formats": "ipynb,auto:light",
   "notebook_metadata_filter": "-all",
   "text_representation": {
    "extension": ".py",
    "format_name": "light"
   }
  },
  "kernelspec": {
   "display_name": "Python 3.9.9 64-bit (system)",
   "language": "python",
   "name": "python3"
  },
  "language_info": {
   "codemirror_mode": {
    "name": "ipython",
    "version": 3
   },
   "file_extension": ".py",
   "mimetype": "text/x-python",
   "name": "python",
   "nbconvert_exporter": "python",
   "pygments_lexer": "ipython3",
   "version": "3.9.9"
  }
 },
 "nbformat": 4,
 "nbformat_minor": 5
}
