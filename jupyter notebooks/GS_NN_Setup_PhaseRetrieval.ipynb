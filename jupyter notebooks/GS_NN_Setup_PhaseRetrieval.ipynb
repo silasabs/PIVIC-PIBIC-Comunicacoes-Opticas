{
 "cells": [
  {
   "cell_type": "code",
   "execution_count": 1,
   "metadata": {},
   "outputs": [],
   "source": [
    "import matplotlib.pyplot as plt\n",
    "import numpy as np\n",
    "from commpy.modulation import QAMModem\n",
    "\n",
    "from scripts.dsp import pulseShape, firFilter, decimate, symbolSync, resample\n",
    "from scripts.models import phaseNoise, KramersKronigRx, linFiberCh\n",
    "from scripts.tx import simpleWDMTx\n",
    "from scripts.core import parameters\n",
    "from scripts.equalization import edc, mimoAdaptEqualizer\n",
    "from scripts.carrierRecovery import cpr\n",
    "from scripts.metrics import fastBERcalc, monteCarloGMI, monteCarloMI, signal_power\n",
    "from scripts.plot import pconst\n",
    "\n",
    "import scipy.constants as const"
   ]
  },
  {
   "cell_type": "code",
   "execution_count": 2,
   "metadata": {},
   "outputs": [],
   "source": [
    "plt.rcParams['font.size'] = 14\n",
    "plt.rcParams['lines.linewidth'] = 2"
   ]
  },
  {
   "cell_type": "markdown",
   "metadata": {},
   "source": [
    "# Simulation of coherent transmission\n",
    "\n",
    "## **Transmitter**\n",
    "**Simulation of a single polarization optical signal transmission**"
   ]
  },
  {
   "cell_type": "code",
   "execution_count": 3,
   "metadata": {},
   "outputs": [],
   "source": [
    "## Transmitter parameters:\n",
    "paramTx = parameters()\n",
    "paramTx.M = 16                 # order of the modulation format\n",
    "paramTx.Rs = 32e9              # symbol rate [baud]\n",
    "paramTx.SpS = 4                # samples per symbol\n",
    "paramTx.Nbits = 400000         # total number of bits per polarization\n",
    "paramTx.pulse = \"rrc\"          # pulse shaping filter\n",
    "paramTx.Ntaps = 1024           # number of pulse shaping filter coefficients\n",
    "paramTx.alphaRRC = 0.01        # RRC rolloff\n",
    "paramTx.Pch_dBm = 0            # power of the optical signal [dBm]\n",
    "paramTx.Nch = 1                # number of WDM channels\n",
    "paramTx.Fc = 193.1e12          # central frequency of the optical spectrum\n",
    "paramTx.freqSpac = 37.5e9      # WDM grid spacing\n",
    "\n",
    "## Optical channel parameters:\n",
    "Ltotal = 0       # total link distance [km]\n",
    "alpha = 0        # fiber loss parameter [dB/km]\n",
    "D = 16           # fiber dispersion parameter [ps/nm/km]\n",
    "Fc = paramTx.Fc  # central optical frequency of the WDM spectrum [Hz]\n",
    "\n",
    "## Receiver parameters:\n",
    "\n",
    "# local oscillator (LO)\n",
    "FO = paramTx.Rs/2  # frequency offset\n",
    "lw = 0*200e3       # linewidth\n",
    "ϕ_lo = 0           # initial phase in rad\n",
    "Plo_dBm = 12        # power in dBm\n",
    "\n",
    "# ADC sampling rate\n",
    "paramADC = parameters()\n",
    "paramADC.Rs = paramTx.Rs\n",
    "paramADC.SpS_in = paramTx.SpS\n",
    "paramADC.SpS_out = 2\n",
    "\n",
    "## General simulation parameters:\n",
    "chIndex = 0  # index of the channel to be demodulated\n",
    "plotPSD = True\n",
    "Fs = paramTx.Rs * paramTx.SpS  # simulation sampling rate"
   ]
  },
  {
   "cell_type": "code",
   "execution_count": 4,
   "metadata": {},
   "outputs": [
    {
     "name": "stdout",
     "output_type": "stream",
     "text": [
      "channel 0\t fc : 193.1000 THz\n",
      "  mode #0\t power: 0.00 dBm\n",
      "channel 0\t power: -0.00 dBm\n",
      "\n",
      "total WDM dignal power: -0.00 dBm\n",
      "Demodulating channel #0 , fc: 193.1000 THz, λ: 1552.5244 nm\n",
      "\n",
      "Local oscillator P: 12.00 dBm, lw: 0.00 kHz, FO: 16000.00 MHz\n"
     ]
    }
   ],
   "source": [
    "# generate optical signal signal\n",
    "sigTx, symbTx_, paramTx = simpleWDMTx(paramTx)\n",
    "\n",
    "# simulate linear signal propagation\n",
    "sigCh_0 = linFiberCh(sigTx, Ltotal, alpha, D, Fc, Fs)\n",
    "# addition of multiple dispersions\n",
    "sigCh_1 = linFiberCh(sigCh_0, 25, alpha, D, Fc, Fs)\n",
    "sigCh_2 = linFiberCh(sigCh_0, 35, alpha, D, Fc, Fs)\n",
    "sigCh_3 = linFiberCh(sigCh_0, 55, alpha, D, Fc, Fs)\n",
    "\n",
    "# receiver detection and demodulation\n",
    "Fc = paramTx.Fc\n",
    "Ts = 1 / Fs\n",
    "mod = QAMModem(m=paramTx.M)\n",
    "\n",
    "freqGrid = paramTx.freqGrid\n",
    "print(\n",
    "    \"Demodulating channel #%d , fc: %.4f THz, λ: %.4f nm\\n\"\n",
    "    % (\n",
    "        chIndex,\n",
    "        (Fc + freqGrid[chIndex]) / 1e12,\n",
    "        const.c / (Fc + freqGrid[chIndex]) / 1e-9,\n",
    "    )\n",
    ")\n",
    "\n",
    "symbTx = symbTx_[:, :, chIndex]\n",
    "Plo = 10 ** (Plo_dBm / 10) * 1e-3  # power in W\n",
    "\n",
    "print(\n",
    "    \"Local oscillator P: %.2f dBm, lw: %.2f kHz, FO: %.2f MHz\"\n",
    "    % (Plo_dBm, lw / 1e3, FO / 1e6)\n",
    ")"
   ]
  },
  {
   "cell_type": "markdown",
   "metadata": {},
   "source": [
    "# Phase-retrieval stage\n",
    "\n",
    "**Simulation of an ideal direct sensing optical receiver**"
   ]
  },
  {
   "cell_type": "code",
   "execution_count": 5,
   "metadata": {},
   "outputs": [],
   "source": [
    "Amp_0 = np.abs(sigCh_0)\n",
    "Amp_1 = np.abs(sigCh_1)\n",
    "Amp_2 = np.abs(sigCh_2)\n",
    "Amp_3 = np.abs(sigCh_3)\n",
    "\n",
    "# resampling to ADC sampling rate\n",
    "Amp_0 = resample(Amp_0, paramADC)\n",
    "Amp_1 = resample(Amp_1, paramADC)\n",
    "Amp_2 = resample(Amp_2, paramADC)\n",
    "Amp_3 = resample(Amp_3, paramADC)\n",
    "\n",
    "newFs = paramADC.SpS_out*paramTx.Rs"
   ]
  },
  {
   "cell_type": "code",
   "execution_count": 6,
   "metadata": {},
   "outputs": [],
   "source": [
    "from tensorflow.keras.layers import Dense, Dropout, BatchNormalization, MaxPool1D\n",
    "from tensorflow.keras.models import Sequential\n",
    "from tensorflow.keras.callbacks import EarlyStopping\n",
    "import tensorflow as tf\n",
    "from tensorflow.keras import layers\n",
    "from tensorflow.keras import backend as K"
   ]
  },
  {
   "cell_type": "code",
   "execution_count": 7,
   "metadata": {},
   "outputs": [
    {
     "name": "stderr",
     "output_type": "stream",
     "text": [
      "C:\\Users\\SILASJ~1\\AppData\\Local\\Temp/ipykernel_16496/1867627630.py:24: ComplexWarning: Casting complex values to real discards the imaginary part\n",
      "  X_train[indPhase] = np.concatenate((sigAmp_0[indPhase:N+indPhase], sigAmp_1[indPhase:N+indPhase], sigAmp_2[indPhase:N+indPhase], sigAmp_3[indPhase:N+indPhase]))\n"
     ]
    }
   ],
   "source": [
    "# Neural network training\n",
    "\n",
    "N = 256  # number of input amplitude samples to the NN\n",
    "\n",
    "sigCh_0 = resample(sigCh_0, paramADC)\n",
    "\n",
    "Amp_0 = Amp_0/np.sqrt(signal_power(Amp_0))\n",
    "Amp_1 = Amp_1/np.sqrt(signal_power(Amp_1))\n",
    "Amp_2 = Amp_2/np.sqrt(signal_power(Amp_2))\n",
    "Amp_3 = Amp_3/np.sqrt(signal_power(Amp_3))\n",
    "\n",
    "sigPhase = np.angle(sigCh_0)  # get signal phase samples (labels) (L,)\n",
    "\n",
    "# get signal amplitude samples (L,)\n",
    "sigAmp_0 = np.pad(Amp_0, (int(N/2), int(N/2)), 'constant')\n",
    "sigAmp_1 = np.pad(Amp_1, (int(N/2), int(N/2)), 'constant')\n",
    "sigAmp_2 = np.pad(Amp_2, (int(N/2), int(N/2)), 'constant')\n",
    "sigAmp_3 = np.pad(Amp_3, (int(N/2), int(N/2)), 'constant')\n",
    "\n",
    "# create set of input features\n",
    "X_train = np.zeros((len(sigPhase), 4*N))  # (L,N)\n",
    "\n",
    "for indPhase in range(len(sigPhase)):\n",
    "    X_train[indPhase] = np.concatenate((sigAmp_0[indPhase:N+indPhase], sigAmp_1[indPhase:N+indPhase], sigAmp_2[indPhase:N+indPhase], sigAmp_3[indPhase:N+indPhase]))\n",
    "\n",
    "\n",
    "# create set of phase labels\n",
    "y_train = sigPhase.copy()"
   ]
  },
  {
   "cell_type": "code",
   "execution_count": null,
   "metadata": {},
   "outputs": [
    {
     "name": "stdout",
     "output_type": "stream",
     "text": [
      "(200000, 1024) (200000,)\n"
     ]
    }
   ],
   "source": [
    "#print(X_train.shape, y_train.shape)"
   ]
  },
  {
   "cell_type": "code",
   "execution_count": null,
   "metadata": {},
   "outputs": [],
   "source": [
    "# define neural network model\n",
    "\n",
    "# MLP tests\n",
    "stop = EarlyStopping(monitor='val_loss', patience=5)\n",
    "#rlronp = tf.keras.callbacks.ReduceLROnPlateau(monitor=\"val_loss\", factor=0.5, patience=2, verbose=1)\n",
    "\n",
    "model = Sequential()\n",
    "\n",
    "# MLP model\n",
    "# model.add(BatchNormalization())\n",
    "# # Input Layer\n",
    "# model.add(Dense(100, input_shape=(4*N,), activation='relu'))\n",
    "# model.add(Dropout(0.5))\n",
    "# # Hidden layer\n",
    "# model.add(BatchNormalization())\n",
    "# model.add(Dense(100, activation='relu'))\n",
    "# model.add(Dropout(0.1))\n",
    "# # Hidden layer\n",
    "# model.add(BatchNormalization())\n",
    "# model.add(Dense(16, activation='relu'))\n",
    "# model.add(Dropout(0.1))\n",
    "# # Output layer\n",
    "# model.add(Dense(1, activation='linear'))\n",
    "\n",
    "# RNN hybrid model\n",
    "# model.add(layers.LSTM(64, return_sequences=True, input_shape=(4*N, 1)))\n",
    "# # Add a LSTM layer with 128 internal units.\n",
    "# model.add(layers.LSTM(16))\n",
    "# # Add a Dense layer with 10 units.\n",
    "# model.add(BatchNormalization())\n",
    "# model.add(Dense(16, activation='relu'))\n",
    "# model.add(Dense(1, activation='linear'))\n",
    "\n",
    "# CNN model\n",
    "# model.add(layers.Conv1D(32, 2, activation='relu', input_shape=(4*N, 1)))\n",
    "# model.add(layers.MaxPooling1D((2)))\n",
    "# model.add(layers.Conv1D(64, (3), activation='relu'))\n",
    "# model.add(layers.MaxPooling1D((2)))\n",
    "# model.add(layers.Conv1D(64, (3), activation='relu'))\n",
    "# model.add(BatchNormalization())\n",
    "# model.add(Dense(16, activation='relu'))\n",
    "# model.add(Dense(1, activation='linear'))\n",
    "\n",
    "model.compile(loss='msle', optimizer='adam')\n",
    "model.fit(X_train, y_train, epochs=100, callbacks=[stop], validation_split=0.3, batch_size=500)\n",
    "\n",
    "model.summary()\n",
    "\n",
    "cw1 = model.layers[1].get_weights()\n",
    "plt.plot(cw1[0])\n",
    "\n",
    "#model.save('NN_models/testModel_SpS_'+str(paramADC.SpS_out))"
   ]
  }
 ],
 "metadata": {
  "interpreter": {
   "hash": "6a90d2e94899a98afb0a47000a9d24bed02713814328ecee1e6bdce0d06ae96c"
  },
  "kernelspec": {
   "display_name": "Python 3.9.9 64-bit (system)",
   "language": "python",
   "name": "python3"
  },
  "language_info": {
   "codemirror_mode": {
    "name": "ipython",
    "version": 3
   },
   "file_extension": ".py",
   "mimetype": "text/x-python",
   "name": "python",
   "nbconvert_exporter": "python",
   "pygments_lexer": "ipython3",
   "version": "3.9.9"
  },
  "orig_nbformat": 4
 },
 "nbformat": 4,
 "nbformat_minor": 2
}
