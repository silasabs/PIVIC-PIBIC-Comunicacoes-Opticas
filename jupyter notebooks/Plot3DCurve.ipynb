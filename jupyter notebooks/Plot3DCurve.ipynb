{
 "cells": [
  {
   "cell_type": "code",
   "execution_count": 1,
   "metadata": {},
   "outputs": [],
   "source": [
    "import matplotlib.pyplot as plt\n",
    "import numpy as np\n",
    "\n",
    "from commpy.modulation import QAMModem\n",
    "\n",
    "from optic.dsp import pulseShape, firFilter, decimate, symbolSync, resample\n",
    "from optic.models import phaseNoise, KramersKronigRx, linFiberCh\n",
    "\n",
    "from optic.tx import simpleWDMTx\n",
    "from optic.core import parameters\n",
    "from optic.equalization import edc, mimoAdaptEqualizer\n",
    "from optic.carrierRecovery import cpr\n",
    "from optic.metrics import fastBERcalc, monteCarloGMI, monteCarloMI, signal_power\n",
    "from optic.plot import pconst\n",
    "\n",
    "import scipy.constants as const\n",
    "\n",
    "from tensorflow.keras.layers import Dense, Dropout, BatchNormalization\n",
    "from tensorflow.keras.models import Sequential\n",
    "from tensorflow.keras.callbacks import EarlyStopping\n",
    "import tensorflow as tf"
   ]
  },
  {
   "cell_type": "markdown",
   "metadata": {},
   "source": [
    "### Simulation of a single polarization optical signal transmission"
   ]
  },
  {
   "cell_type": "code",
   "execution_count": 2,
   "metadata": {},
   "outputs": [],
   "source": [
    "## Transmitter parameters:\n",
    "paramTx = parameters()\n",
    "paramTx.M = 64                 # order of the modulation format\n",
    "paramTx.Rs = 32e9              # symbol rate [baud]\n",
    "paramTx.SpS = 4                # samples per symbol\n",
    "paramTx.Nbits = 600000         # total number of bits per polarization\n",
    "paramTx.pulse = \"rrc\"          # pulse shaping filter\n",
    "paramTx.Ntaps = 1024           # number of pulse shaping filter coefficients\n",
    "#paramTx.alphaRRC = 0.91        # RRC rolloff\n",
    "paramTx.Pch_dBm = 0            # power of the optical signal [dBm]\n",
    "paramTx.Nch = 1                # number of WDM channels\n",
    "paramTx.Fc = 193.1e12          # central frequency of the optical spectrum\n",
    "paramTx.freqSpac = 37.5e9      # WDM grid spacing\n",
    "\n",
    "## Optical channel parameters:\n",
    "Ltotal = 50      # total link distance [km]\n",
    "alpha = 0        # fiber loss parameter [dB/km]\n",
    "D = 16          # fiber dispersion parameter [ps/nm/km]\n",
    "Fc = paramTx.Fc  # central optical frequency of the WDM spectrum [Hz]\n",
    "\n",
    "## Receiver parameters:\n",
    "\n",
    "# local oscillator (LO)\n",
    "#FO = 5e9 + paramTx.Rs/2  # frequency offset\n",
    "lw = 0*200e3       # linewidth\n",
    "ϕ_lo = 0           # initial phase in rad\n",
    "Plo_dBm = 12        # power in dBm\n",
    "\n",
    "# ADC sampling rate\n",
    "paramADC = parameters()\n",
    "paramADC.Rs = paramTx.Rs\n",
    "paramADC.SpS_in = paramTx.SpS\n",
    "paramADC.SpS_out = 4\n",
    "\n",
    "## General simulation parameters:\n",
    "chIndex = 0  # index of the channel to be demodulated\n",
    "plotPSD = True\n",
    "Fs = paramTx.Rs * paramTx.SpS  # simulation sampling rate"
   ]
  },
  {
   "cell_type": "code",
   "execution_count": 3,
   "metadata": {},
   "outputs": [],
   "source": [
    "plt.rcParams['font.size'] = 13\n",
    "plt.rcParams['lines.linewidth'] = 1.5\n",
    "plt.rcParams['text.usetex'] = False"
   ]
  },
  {
   "cell_type": "markdown",
   "metadata": {},
   "source": [
    "### Neural Network Performance Analysis"
   ]
  },
  {
   "cell_type": "code",
   "execution_count": 36,
   "metadata": {},
   "outputs": [
    {
     "name": "stdout",
     "output_type": "stream",
     "text": [
      "channel 0\t fc : 193.1000 THz\n",
      "  mode #0\t power: 0.00 dBm\n",
      "channel 0\t power: -0.00 dBm\n",
      "\n",
      "total WDM signal power: -0.00 dBm\n",
      "Demodulating channel #0 , fc: 193.1000 THz, λ: 1552.5244 nm\n",
      "\n",
      "Local oscillator P: 12.00 dBm, lw: 0.00 kHz, FO: 17000.00 MHz\n",
      "CSPR = 12.00 dB\n",
      "\n",
      "\n",
      "nlms - training stage #0\n"
     ]
    },
    {
     "data": {
      "application/vnd.jupyter.widget-view+json": {
       "model_id": "bc8f831a585e4a3ca397f4603da9e643",
       "version_major": 2,
       "version_minor": 0
      },
      "text/plain": [
       "  0%|          | 0/5 [00:00<?, ?it/s]"
      ]
     },
     "metadata": {},
     "output_type": "display_data"
    },
    {
     "name": "stdout",
     "output_type": "stream",
     "text": [
      "nlms pre-convergence training iteration #0\n",
      "nlms MSE = 0.022289.\n",
      "nlms pre-convergence training iteration #1\n",
      "nlms MSE = 0.002693.\n",
      "nlms pre-convergence training iteration #2\n",
      "nlms MSE = 0.002315.\n",
      "nlms pre-convergence training iteration #3\n",
      "nlms MSE = 0.002098.\n",
      "nlms pre-convergence training iteration #4\n",
      "nlms MSE = 0.001954.\n",
      "\n",
      "\n",
      "dd-lms - training stage #1\n",
      "dd-lms MSE = 0.001084.\n",
      "Results:\n",
      "\n",
      "SER: 1.67e-04\n",
      "BER: 3.52e-05\n",
      "SNR: 29.47 dB\n",
      "MI: 6.00 bits\n",
      "GMI: 6.00 bits\n",
      "channel 0\t fc : 193.1000 THz\n",
      "  mode #0\t power: 0.00 dBm\n",
      "channel 0\t power: 0.00 dBm\n",
      "\n",
      "total WDM signal power: 0.00 dBm\n",
      "Demodulating channel #0 , fc: 193.1000 THz, λ: 1552.5244 nm\n",
      "\n",
      "Local oscillator P: 12.00 dBm, lw: 0.00 kHz, FO: 17000.00 MHz\n",
      "CSPR = 12.00 dB\n",
      "\n",
      "\n",
      "nlms - training stage #0\n"
     ]
    },
    {
     "data": {
      "application/vnd.jupyter.widget-view+json": {
       "model_id": "0d9bea5f46184c0eabb42776522fb49f",
       "version_major": 2,
       "version_minor": 0
      },
      "text/plain": [
       "  0%|          | 0/5 [00:00<?, ?it/s]"
      ]
     },
     "metadata": {},
     "output_type": "display_data"
    },
    {
     "name": "stdout",
     "output_type": "stream",
     "text": [
      "nlms pre-convergence training iteration #0\n",
      "nlms MSE = 0.021265.\n",
      "nlms pre-convergence training iteration #1\n",
      "nlms MSE = 0.003813.\n",
      "nlms pre-convergence training iteration #2\n",
      "nlms MSE = 0.003295.\n",
      "nlms pre-convergence training iteration #3\n",
      "nlms MSE = 0.003018.\n",
      "nlms pre-convergence training iteration #4\n",
      "nlms MSE = 0.002846.\n",
      "\n",
      "\n",
      "dd-lms - training stage #1\n",
      "dd-lms MSE = 0.001319.\n",
      "Results:\n",
      "\n",
      "SER: 2.22e-04\n",
      "BER: 5.19e-05\n",
      "SNR: 28.69 dB\n",
      "MI: 6.00 bits\n",
      "GMI: 6.00 bits\n",
      "channel 0\t fc : 193.1000 THz\n",
      "  mode #0\t power: 0.00 dBm\n",
      "channel 0\t power: 0.00 dBm\n",
      "\n",
      "total WDM signal power: 0.00 dBm\n",
      "Demodulating channel #0 , fc: 193.1000 THz, λ: 1552.5244 nm\n",
      "\n",
      "Local oscillator P: 12.00 dBm, lw: 0.00 kHz, FO: 17000.00 MHz\n",
      "CSPR = 12.00 dB\n",
      "\n",
      "\n",
      "nlms - training stage #0\n"
     ]
    },
    {
     "data": {
      "application/vnd.jupyter.widget-view+json": {
       "model_id": "0952e53e862b4c0b8166b0a7126b7ce5",
       "version_major": 2,
       "version_minor": 0
      },
      "text/plain": [
       "  0%|          | 0/5 [00:00<?, ?it/s]"
      ]
     },
     "metadata": {},
     "output_type": "display_data"
    },
    {
     "name": "stdout",
     "output_type": "stream",
     "text": [
      "nlms pre-convergence training iteration #0\n",
      "nlms MSE = 0.021818.\n",
      "nlms pre-convergence training iteration #1\n",
      "nlms MSE = 0.005337.\n",
      "nlms pre-convergence training iteration #2\n",
      "nlms MSE = 0.004776.\n",
      "nlms pre-convergence training iteration #3\n",
      "nlms MSE = 0.004435.\n",
      "nlms pre-convergence training iteration #4\n",
      "nlms MSE = 0.004206.\n",
      "\n",
      "\n",
      "dd-lms - training stage #1\n",
      "dd-lms MSE = 0.002882.\n",
      "Results:\n",
      "\n",
      "SER: 1.09e-03\n",
      "BER: 2.33e-04\n",
      "SNR: 25.32 dB\n",
      "MI: 6.00 bits\n",
      "GMI: 5.99 bits\n",
      "channel 0\t fc : 193.1000 THz\n",
      "  mode #0\t power: 0.00 dBm\n",
      "channel 0\t power: 0.00 dBm\n",
      "\n",
      "total WDM signal power: 0.00 dBm\n",
      "Demodulating channel #0 , fc: 193.1000 THz, λ: 1552.5244 nm\n",
      "\n",
      "Local oscillator P: 12.00 dBm, lw: 0.00 kHz, FO: 17000.00 MHz\n",
      "CSPR = 12.00 dB\n",
      "\n",
      "\n",
      "nlms - training stage #0\n"
     ]
    },
    {
     "data": {
      "application/vnd.jupyter.widget-view+json": {
       "model_id": "2ed9f0821cc742429d54dcd90aac1fd6",
       "version_major": 2,
       "version_minor": 0
      },
      "text/plain": [
       "  0%|          | 0/5 [00:00<?, ?it/s]"
      ]
     },
     "metadata": {},
     "output_type": "display_data"
    },
    {
     "name": "stdout",
     "output_type": "stream",
     "text": [
      "nlms pre-convergence training iteration #0\n",
      "nlms MSE = 0.025962.\n",
      "nlms pre-convergence training iteration #1\n",
      "nlms MSE = 0.008715.\n",
      "nlms pre-convergence training iteration #2\n",
      "nlms MSE = 0.007492.\n",
      "nlms pre-convergence training iteration #3\n",
      "nlms MSE = 0.006719.\n",
      "nlms pre-convergence training iteration #4\n",
      "nlms MSE = 0.006181.\n",
      "\n",
      "\n",
      "dd-lms - training stage #1\n",
      "dd-lms MSE = 0.004042.\n",
      "Results:\n",
      "\n",
      "SER: 5.43e-03\n",
      "BER: 1.32e-03\n",
      "SNR: 23.69 dB\n",
      "MI: 5.97 bits\n",
      "GMI: 5.96 bits\n",
      "channel 0\t fc : 193.1000 THz\n",
      "  mode #0\t power: 0.00 dBm\n",
      "channel 0\t power: 0.00 dBm\n",
      "\n",
      "total WDM signal power: 0.00 dBm\n",
      "Demodulating channel #0 , fc: 193.1000 THz, λ: 1552.5244 nm\n",
      "\n",
      "Local oscillator P: 12.00 dBm, lw: 0.00 kHz, FO: 17000.00 MHz\n",
      "CSPR = 12.00 dB\n",
      "\n",
      "\n",
      "nlms - training stage #0\n"
     ]
    },
    {
     "data": {
      "application/vnd.jupyter.widget-view+json": {
       "model_id": "62e709aa87c3474b8b2af72e29be1894",
       "version_major": 2,
       "version_minor": 0
      },
      "text/plain": [
       "  0%|          | 0/5 [00:00<?, ?it/s]"
      ]
     },
     "metadata": {},
     "output_type": "display_data"
    },
    {
     "name": "stdout",
     "output_type": "stream",
     "text": [
      "nlms pre-convergence training iteration #0\n",
      "nlms MSE = 0.030381.\n",
      "nlms pre-convergence training iteration #1\n",
      "nlms MSE = 0.011556.\n",
      "nlms pre-convergence training iteration #2\n",
      "nlms MSE = 0.009363.\n",
      "nlms pre-convergence training iteration #3\n",
      "nlms MSE = 0.008077.\n",
      "nlms pre-convergence training iteration #4\n",
      "nlms MSE = 0.007253.\n",
      "\n",
      "\n",
      "dd-lms - training stage #1\n",
      "dd-lms MSE = 0.004817.\n",
      "Results:\n",
      "\n",
      "SER: 1.08e-02\n",
      "BER: 2.67e-03\n",
      "SNR: 22.87 dB\n",
      "MI: 5.95 bits\n",
      "GMI: 5.92 bits\n",
      "channel 0\t fc : 193.1000 THz\n",
      "  mode #0\t power: 0.00 dBm\n",
      "channel 0\t power: -0.00 dBm\n",
      "\n",
      "total WDM signal power: -0.00 dBm\n",
      "Demodulating channel #0 , fc: 193.1000 THz, λ: 1552.5244 nm\n",
      "\n",
      "Local oscillator P: 12.00 dBm, lw: 0.00 kHz, FO: 17000.00 MHz\n",
      "CSPR = 12.00 dB\n",
      "\n",
      "\n",
      "nlms - training stage #0\n"
     ]
    },
    {
     "data": {
      "application/vnd.jupyter.widget-view+json": {
       "model_id": "c04e2b51604346fb9015b85c046a13ee",
       "version_major": 2,
       "version_minor": 0
      },
      "text/plain": [
       "  0%|          | 0/5 [00:00<?, ?it/s]"
      ]
     },
     "metadata": {},
     "output_type": "display_data"
    },
    {
     "name": "stdout",
     "output_type": "stream",
     "text": [
      "nlms pre-convergence training iteration #0\n",
      "nlms MSE = 0.034390.\n",
      "nlms pre-convergence training iteration #1\n",
      "nlms MSE = 0.014129.\n",
      "nlms pre-convergence training iteration #2\n",
      "nlms MSE = 0.011148.\n",
      "nlms pre-convergence training iteration #3\n",
      "nlms MSE = 0.009507.\n",
      "nlms pre-convergence training iteration #4\n",
      "nlms MSE = 0.008521.\n",
      "\n",
      "\n",
      "dd-lms - training stage #1\n",
      "dd-lms MSE = 0.006063.\n",
      "Results:\n",
      "\n",
      "SER: 2.25e-02\n",
      "BER: 5.67e-03\n",
      "SNR: 21.83 dB\n",
      "MI: 5.90 bits\n",
      "GMI: 5.84 bits\n",
      "channel 0\t fc : 193.1000 THz\n",
      "  mode #0\t power: 0.00 dBm\n",
      "channel 0\t power: -0.00 dBm\n",
      "\n",
      "total WDM signal power: -0.00 dBm\n",
      "Demodulating channel #0 , fc: 193.1000 THz, λ: 1552.5244 nm\n",
      "\n",
      "Local oscillator P: 12.00 dBm, lw: 0.00 kHz, FO: 17000.00 MHz\n",
      "CSPR = 12.00 dB\n",
      "\n",
      "\n",
      "nlms - training stage #0\n"
     ]
    },
    {
     "data": {
      "application/vnd.jupyter.widget-view+json": {
       "model_id": "13db9085989043e5b20816a328b1871f",
       "version_major": 2,
       "version_minor": 0
      },
      "text/plain": [
       "  0%|          | 0/5 [00:00<?, ?it/s]"
      ]
     },
     "metadata": {},
     "output_type": "display_data"
    },
    {
     "name": "stdout",
     "output_type": "stream",
     "text": [
      "nlms pre-convergence training iteration #0\n",
      "nlms MSE = 0.039301.\n",
      "nlms pre-convergence training iteration #1\n",
      "nlms MSE = 0.020151.\n",
      "nlms pre-convergence training iteration #2\n",
      "nlms MSE = 0.016910.\n",
      "nlms pre-convergence training iteration #3\n",
      "nlms MSE = 0.015098.\n",
      "nlms pre-convergence training iteration #4\n",
      "nlms MSE = 0.014022.\n",
      "\n",
      "\n",
      "dd-lms - training stage #1\n",
      "dd-lms MSE = 0.010001.\n",
      "Results:\n",
      "\n",
      "SER: 9.70e-02\n",
      "BER: 2.58e-02\n",
      "SNR: 19.03 dB\n",
      "MI: 5.59 bits\n",
      "GMI: 5.38 bits\n",
      "channel 0\t fc : 193.1000 THz\n",
      "  mode #0\t power: 0.00 dBm\n",
      "channel 0\t power: 0.00 dBm\n",
      "\n",
      "total WDM signal power: 0.00 dBm\n",
      "Demodulating channel #0 , fc: 193.1000 THz, λ: 1552.5244 nm\n",
      "\n",
      "Local oscillator P: 12.00 dBm, lw: 0.00 kHz, FO: 17000.00 MHz\n",
      "CSPR = 12.00 dB\n",
      "\n",
      "\n",
      "nlms - training stage #0\n"
     ]
    },
    {
     "data": {
      "application/vnd.jupyter.widget-view+json": {
       "model_id": "74256edd8b844a2589943ee5101c4f8a",
       "version_major": 2,
       "version_minor": 0
      },
      "text/plain": [
       "  0%|          | 0/5 [00:00<?, ?it/s]"
      ]
     },
     "metadata": {},
     "output_type": "display_data"
    },
    {
     "name": "stdout",
     "output_type": "stream",
     "text": [
      "nlms pre-convergence training iteration #0\n",
      "nlms MSE = 0.044401.\n",
      "nlms pre-convergence training iteration #1\n",
      "nlms MSE = 0.025003.\n",
      "nlms pre-convergence training iteration #2\n",
      "nlms MSE = 0.020992.\n",
      "nlms pre-convergence training iteration #3\n",
      "nlms MSE = 0.018857.\n",
      "nlms pre-convergence training iteration #4\n",
      "nlms MSE = 0.017612.\n",
      "\n",
      "\n",
      "dd-lms - training stage #1\n",
      "dd-lms MSE = 0.011608.\n",
      "Results:\n",
      "\n",
      "SER: 1.47e-01\n",
      "BER: 4.01e-02\n",
      "SNR: 17.90 dB\n",
      "MI: 5.37 bits\n",
      "GMI: 5.05 bits\n",
      "channel 0\t fc : 193.1000 THz\n",
      "  mode #0\t power: 0.00 dBm\n",
      "channel 0\t power: 0.00 dBm\n",
      "\n",
      "total WDM signal power: 0.00 dBm\n",
      "Demodulating channel #0 , fc: 193.1000 THz, λ: 1552.5244 nm\n",
      "\n",
      "Local oscillator P: 12.00 dBm, lw: 0.00 kHz, FO: 17000.00 MHz\n",
      "CSPR = 12.00 dB\n",
      "\n",
      "\n",
      "nlms - training stage #0\n"
     ]
    },
    {
     "data": {
      "application/vnd.jupyter.widget-view+json": {
       "model_id": "dc058763e1b04ae985478b1d8d4224f9",
       "version_major": 2,
       "version_minor": 0
      },
      "text/plain": [
       "  0%|          | 0/5 [00:00<?, ?it/s]"
      ]
     },
     "metadata": {},
     "output_type": "display_data"
    },
    {
     "name": "stdout",
     "output_type": "stream",
     "text": [
      "nlms pre-convergence training iteration #0\n",
      "nlms MSE = 0.049875.\n",
      "nlms pre-convergence training iteration #1\n",
      "nlms MSE = 0.029501.\n",
      "nlms pre-convergence training iteration #2\n",
      "nlms MSE = 0.025015.\n",
      "nlms pre-convergence training iteration #3\n",
      "nlms MSE = 0.022583.\n",
      "nlms pre-convergence training iteration #4\n",
      "nlms MSE = 0.021158.\n",
      "\n",
      "\n",
      "dd-lms - training stage #1\n",
      "dd-lms MSE = 0.013243.\n",
      "Results:\n",
      "\n",
      "SER: 2.18e-01\n",
      "BER: 6.03e-02\n",
      "SNR: 16.76 dB\n",
      "MI: 5.11 bits\n",
      "GMI: 4.66 bits\n",
      "channel 0\t fc : 193.1000 THz\n",
      "  mode #0\t power: 0.00 dBm\n",
      "channel 0\t power: 0.00 dBm\n",
      "\n",
      "total WDM signal power: 0.00 dBm\n",
      "Demodulating channel #0 , fc: 193.1000 THz, λ: 1552.5244 nm\n",
      "\n",
      "Local oscillator P: 12.00 dBm, lw: 0.00 kHz, FO: 17000.00 MHz\n",
      "CSPR = 12.00 dB\n",
      "\n",
      "\n",
      "nlms - training stage #0\n"
     ]
    },
    {
     "data": {
      "application/vnd.jupyter.widget-view+json": {
       "model_id": "d196b5fc7a244de89d1a29d6ba5f5abf",
       "version_major": 2,
       "version_minor": 0
      },
      "text/plain": [
       "  0%|          | 0/5 [00:00<?, ?it/s]"
      ]
     },
     "metadata": {},
     "output_type": "display_data"
    },
    {
     "name": "stdout",
     "output_type": "stream",
     "text": [
      "nlms pre-convergence training iteration #0\n",
      "nlms MSE = 0.052490.\n",
      "nlms pre-convergence training iteration #1\n",
      "nlms MSE = 0.033317.\n",
      "nlms pre-convergence training iteration #2\n",
      "nlms MSE = 0.028948.\n",
      "nlms pre-convergence training iteration #3\n",
      "nlms MSE = 0.026498.\n",
      "nlms pre-convergence training iteration #4\n",
      "nlms MSE = 0.025024.\n",
      "\n",
      "\n",
      "dd-lms - training stage #1\n",
      "dd-lms MSE = 0.014245.\n",
      "Results:\n",
      "\n",
      "SER: 2.91e-01\n",
      "BER: 8.22e-02\n",
      "SNR: 15.68 dB\n",
      "MI: 4.81 bits\n",
      "GMI: 4.25 bits\n",
      "channel 0\t fc : 193.1000 THz\n",
      "  mode #0\t power: 0.00 dBm\n",
      "channel 0\t power: 0.00 dBm\n",
      "\n",
      "total WDM signal power: 0.00 dBm\n",
      "Demodulating channel #0 , fc: 193.1000 THz, λ: 1552.5244 nm\n",
      "\n",
      "Local oscillator P: 12.00 dBm, lw: 0.00 kHz, FO: 18000.00 MHz\n",
      "CSPR = 12.00 dB\n",
      "\n",
      "\n",
      "nlms - training stage #0\n"
     ]
    },
    {
     "data": {
      "application/vnd.jupyter.widget-view+json": {
       "model_id": "9e09910002d44b04be3c4c4b8dc289f1",
       "version_major": 2,
       "version_minor": 0
      },
      "text/plain": [
       "  0%|          | 0/5 [00:00<?, ?it/s]"
      ]
     },
     "metadata": {},
     "output_type": "display_data"
    },
    {
     "name": "stdout",
     "output_type": "stream",
     "text": [
      "nlms pre-convergence training iteration #0\n",
      "nlms MSE = 0.022526.\n",
      "nlms pre-convergence training iteration #1\n",
      "nlms MSE = 0.002757.\n",
      "nlms pre-convergence training iteration #2\n",
      "nlms MSE = 0.002338.\n",
      "nlms pre-convergence training iteration #3\n",
      "nlms MSE = 0.002096.\n",
      "nlms pre-convergence training iteration #4\n",
      "nlms MSE = 0.001938.\n",
      "\n",
      "\n",
      "dd-lms - training stage #1\n",
      "dd-lms MSE = 0.001467.\n",
      "Results:\n",
      "\n",
      "SER: 2.56e-04\n",
      "BER: 5.00e-05\n",
      "SNR: 28.20 dB\n",
      "MI: 6.00 bits\n",
      "GMI: 6.00 bits\n",
      "channel 0\t fc : 193.1000 THz\n",
      "  mode #0\t power: 0.00 dBm\n",
      "channel 0\t power: -0.00 dBm\n",
      "\n",
      "total WDM signal power: -0.00 dBm\n",
      "Demodulating channel #0 , fc: 193.1000 THz, λ: 1552.5244 nm\n",
      "\n",
      "Local oscillator P: 12.00 dBm, lw: 0.00 kHz, FO: 18000.00 MHz\n",
      "CSPR = 12.00 dB\n",
      "\n",
      "\n",
      "nlms - training stage #0\n"
     ]
    },
    {
     "data": {
      "application/vnd.jupyter.widget-view+json": {
       "model_id": "28499736d09148b88e8b68e91777d68d",
       "version_major": 2,
       "version_minor": 0
      },
      "text/plain": [
       "  0%|          | 0/5 [00:00<?, ?it/s]"
      ]
     },
     "metadata": {},
     "output_type": "display_data"
    },
    {
     "name": "stdout",
     "output_type": "stream",
     "text": [
      "nlms pre-convergence training iteration #0\n",
      "nlms MSE = 0.019511.\n",
      "nlms pre-convergence training iteration #1\n",
      "nlms MSE = 0.002405.\n",
      "nlms pre-convergence training iteration #2\n",
      "nlms MSE = 0.001935.\n",
      "nlms pre-convergence training iteration #3\n",
      "nlms MSE = 0.001686.\n",
      "nlms pre-convergence training iteration #4\n",
      "nlms MSE = 0.001534.\n",
      "\n",
      "\n",
      "dd-lms - training stage #1\n",
      "dd-lms MSE = 0.000886.\n",
      "Results:\n",
      "\n",
      "SER: 1.11e-04\n",
      "BER: 2.22e-05\n",
      "SNR: 30.31 dB\n",
      "MI: 6.00 bits\n",
      "GMI: 6.00 bits\n",
      "channel 0\t fc : 193.1000 THz\n",
      "  mode #0\t power: 0.00 dBm\n",
      "channel 0\t power: 0.00 dBm\n",
      "\n",
      "total WDM signal power: 0.00 dBm\n",
      "Demodulating channel #0 , fc: 193.1000 THz, λ: 1552.5244 nm\n",
      "\n",
      "Local oscillator P: 12.00 dBm, lw: 0.00 kHz, FO: 18000.00 MHz\n",
      "CSPR = 12.00 dB\n",
      "\n",
      "\n",
      "nlms - training stage #0\n"
     ]
    },
    {
     "data": {
      "application/vnd.jupyter.widget-view+json": {
       "model_id": "d4150efa880d42888370dcc750b1c668",
       "version_major": 2,
       "version_minor": 0
      },
      "text/plain": [
       "  0%|          | 0/5 [00:00<?, ?it/s]"
      ]
     },
     "metadata": {},
     "output_type": "display_data"
    },
    {
     "name": "stdout",
     "output_type": "stream",
     "text": [
      "nlms pre-convergence training iteration #0\n",
      "nlms MSE = 0.018302.\n",
      "nlms pre-convergence training iteration #1\n",
      "nlms MSE = 0.002783.\n",
      "nlms pre-convergence training iteration #2\n",
      "nlms MSE = 0.002557.\n",
      "nlms pre-convergence training iteration #3\n",
      "nlms MSE = 0.002402.\n",
      "nlms pre-convergence training iteration #4\n",
      "nlms MSE = 0.002292.\n",
      "\n",
      "\n",
      "dd-lms - training stage #1\n",
      "dd-lms MSE = 0.001421.\n",
      "Results:\n",
      "\n",
      "SER: 2.89e-04\n",
      "BER: 6.48e-05\n",
      "SNR: 28.37 dB\n",
      "MI: 6.00 bits\n",
      "GMI: 6.00 bits\n",
      "channel 0\t fc : 193.1000 THz\n",
      "  mode #0\t power: 0.00 dBm\n",
      "channel 0\t power: 0.00 dBm\n",
      "\n",
      "total WDM signal power: 0.00 dBm\n",
      "Demodulating channel #0 , fc: 193.1000 THz, λ: 1552.5244 nm\n",
      "\n",
      "Local oscillator P: 12.00 dBm, lw: 0.00 kHz, FO: 18000.00 MHz\n",
      "CSPR = 12.00 dB\n",
      "\n",
      "\n",
      "nlms - training stage #0\n"
     ]
    },
    {
     "data": {
      "application/vnd.jupyter.widget-view+json": {
       "model_id": "5bc4d8c521014eecaae1d43eda3ad856",
       "version_major": 2,
       "version_minor": 0
      },
      "text/plain": [
       "  0%|          | 0/5 [00:00<?, ?it/s]"
      ]
     },
     "metadata": {},
     "output_type": "display_data"
    },
    {
     "name": "stdout",
     "output_type": "stream",
     "text": [
      "nlms pre-convergence training iteration #0\n",
      "nlms MSE = 0.018884.\n",
      "nlms pre-convergence training iteration #1\n",
      "nlms MSE = 0.003884.\n",
      "nlms pre-convergence training iteration #2\n",
      "nlms MSE = 0.003540.\n",
      "nlms pre-convergence training iteration #3\n",
      "nlms MSE = 0.003285.\n",
      "nlms pre-convergence training iteration #4\n",
      "nlms MSE = 0.003087.\n",
      "\n",
      "\n",
      "dd-lms - training stage #1\n",
      "dd-lms MSE = 0.001794.\n",
      "Results:\n",
      "\n",
      "SER: 7.78e-05\n",
      "BER: 1.85e-05\n",
      "SNR: 27.25 dB\n",
      "MI: 6.00 bits\n",
      "GMI: 6.00 bits\n",
      "channel 0\t fc : 193.1000 THz\n",
      "  mode #0\t power: 0.00 dBm\n",
      "channel 0\t power: 0.00 dBm\n",
      "\n",
      "total WDM signal power: 0.00 dBm\n",
      "Demodulating channel #0 , fc: 193.1000 THz, λ: 1552.5244 nm\n",
      "\n",
      "Local oscillator P: 12.00 dBm, lw: 0.00 kHz, FO: 18000.00 MHz\n",
      "CSPR = 12.00 dB\n",
      "\n",
      "\n",
      "nlms - training stage #0\n"
     ]
    },
    {
     "data": {
      "application/vnd.jupyter.widget-view+json": {
       "model_id": "52e54ee67e8347f987c5931e8ff3d0a9",
       "version_major": 2,
       "version_minor": 0
      },
      "text/plain": [
       "  0%|          | 0/5 [00:00<?, ?it/s]"
      ]
     },
     "metadata": {},
     "output_type": "display_data"
    },
    {
     "name": "stdout",
     "output_type": "stream",
     "text": [
      "nlms pre-convergence training iteration #0\n",
      "nlms MSE = 0.021524.\n",
      "nlms pre-convergence training iteration #1\n",
      "nlms MSE = 0.006304.\n",
      "nlms pre-convergence training iteration #2\n",
      "nlms MSE = 0.005332.\n",
      "nlms pre-convergence training iteration #3\n",
      "nlms MSE = 0.004687.\n",
      "nlms pre-convergence training iteration #4\n",
      "nlms MSE = 0.004233.\n",
      "\n",
      "\n",
      "dd-lms - training stage #1\n",
      "dd-lms MSE = 0.002682.\n",
      "Results:\n",
      "\n",
      "SER: 1.53e-03\n",
      "BER: 3.65e-04\n",
      "SNR: 25.48 dB\n",
      "MI: 5.99 bits\n",
      "GMI: 5.99 bits\n",
      "channel 0\t fc : 193.1000 THz\n",
      "  mode #0\t power: 0.00 dBm\n",
      "channel 0\t power: 0.00 dBm\n",
      "\n",
      "total WDM signal power: 0.00 dBm\n",
      "Demodulating channel #0 , fc: 193.1000 THz, λ: 1552.5244 nm\n",
      "\n",
      "Local oscillator P: 12.00 dBm, lw: 0.00 kHz, FO: 18000.00 MHz\n",
      "CSPR = 12.00 dB\n",
      "\n",
      "\n",
      "nlms - training stage #0\n"
     ]
    },
    {
     "data": {
      "application/vnd.jupyter.widget-view+json": {
       "model_id": "c26b01d571ff4d218f988c75734aa6a2",
       "version_major": 2,
       "version_minor": 0
      },
      "text/plain": [
       "  0%|          | 0/5 [00:00<?, ?it/s]"
      ]
     },
     "metadata": {},
     "output_type": "display_data"
    },
    {
     "name": "stdout",
     "output_type": "stream",
     "text": [
      "nlms pre-convergence training iteration #0\n",
      "nlms MSE = 0.025589.\n",
      "nlms pre-convergence training iteration #1\n",
      "nlms MSE = 0.008980.\n",
      "nlms pre-convergence training iteration #2\n",
      "nlms MSE = 0.007089.\n",
      "nlms pre-convergence training iteration #3\n",
      "nlms MSE = 0.005968.\n",
      "nlms pre-convergence training iteration #4\n",
      "nlms MSE = 0.005262.\n",
      "\n",
      "\n",
      "dd-lms - training stage #1\n",
      "dd-lms MSE = 0.003491.\n",
      "Results:\n",
      "\n",
      "SER: 3.27e-03\n",
      "BER: 7.80e-04\n",
      "SNR: 24.32 dB\n",
      "MI: 5.98 bits\n",
      "GMI: 5.98 bits\n",
      "channel 0\t fc : 193.1000 THz\n",
      "  mode #0\t power: 0.00 dBm\n",
      "channel 0\t power: 0.00 dBm\n",
      "\n",
      "total WDM signal power: 0.00 dBm\n",
      "Demodulating channel #0 , fc: 193.1000 THz, λ: 1552.5244 nm\n",
      "\n",
      "Local oscillator P: 12.00 dBm, lw: 0.00 kHz, FO: 18000.00 MHz\n",
      "CSPR = 12.00 dB\n",
      "\n",
      "\n",
      "nlms - training stage #0\n"
     ]
    },
    {
     "data": {
      "application/vnd.jupyter.widget-view+json": {
       "model_id": "bc49da86d9994a8cbed0e9e6112d4fba",
       "version_major": 2,
       "version_minor": 0
      },
      "text/plain": [
       "  0%|          | 0/5 [00:00<?, ?it/s]"
      ]
     },
     "metadata": {},
     "output_type": "display_data"
    },
    {
     "name": "stdout",
     "output_type": "stream",
     "text": [
      "nlms pre-convergence training iteration #0\n",
      "nlms MSE = 0.029323.\n",
      "nlms pre-convergence training iteration #1\n",
      "nlms MSE = 0.011242.\n",
      "nlms pre-convergence training iteration #2\n",
      "nlms MSE = 0.008608.\n",
      "nlms pre-convergence training iteration #3\n",
      "nlms MSE = 0.007173.\n",
      "nlms pre-convergence training iteration #4\n",
      "nlms MSE = 0.006332.\n",
      "\n",
      "\n",
      "dd-lms - training stage #1\n",
      "dd-lms MSE = 0.004336.\n",
      "Results:\n",
      "\n",
      "SER: 7.27e-03\n",
      "BER: 1.82e-03\n",
      "SNR: 23.36 dB\n",
      "MI: 5.96 bits\n",
      "GMI: 5.94 bits\n",
      "channel 0\t fc : 193.1000 THz\n",
      "  mode #0\t power: 0.00 dBm\n",
      "channel 0\t power: 0.00 dBm\n",
      "\n",
      "total WDM signal power: 0.00 dBm\n",
      "Demodulating channel #0 , fc: 193.1000 THz, λ: 1552.5244 nm\n",
      "\n",
      "Local oscillator P: 12.00 dBm, lw: 0.00 kHz, FO: 18000.00 MHz\n",
      "CSPR = 12.00 dB\n",
      "\n",
      "\n",
      "nlms - training stage #0\n"
     ]
    },
    {
     "data": {
      "application/vnd.jupyter.widget-view+json": {
       "model_id": "99df56ff576a49148d856061d5213753",
       "version_major": 2,
       "version_minor": 0
      },
      "text/plain": [
       "  0%|          | 0/5 [00:00<?, ?it/s]"
      ]
     },
     "metadata": {},
     "output_type": "display_data"
    },
    {
     "name": "stdout",
     "output_type": "stream",
     "text": [
      "nlms pre-convergence training iteration #0\n",
      "nlms MSE = 0.032505.\n",
      "nlms pre-convergence training iteration #1\n",
      "nlms MSE = 0.016757.\n",
      "nlms pre-convergence training iteration #2\n",
      "nlms MSE = 0.014338.\n",
      "nlms pre-convergence training iteration #3\n",
      "nlms MSE = 0.012864.\n",
      "nlms pre-convergence training iteration #4\n",
      "nlms MSE = 0.011935.\n",
      "\n",
      "\n",
      "dd-lms - training stage #1\n",
      "dd-lms MSE = 0.009070.\n",
      "Results:\n",
      "\n",
      "SER: 6.90e-02\n",
      "BER: 1.78e-02\n",
      "SNR: 19.73 dB\n",
      "MI: 5.70 bits\n",
      "GMI: 5.56 bits\n",
      "channel 0\t fc : 193.1000 THz\n",
      "  mode #0\t power: 0.00 dBm\n",
      "channel 0\t power: 0.00 dBm\n",
      "\n",
      "total WDM signal power: 0.00 dBm\n",
      "Demodulating channel #0 , fc: 193.1000 THz, λ: 1552.5244 nm\n",
      "\n",
      "Local oscillator P: 12.00 dBm, lw: 0.00 kHz, FO: 18000.00 MHz\n",
      "CSPR = 12.00 dB\n",
      "\n",
      "\n",
      "nlms - training stage #0\n"
     ]
    },
    {
     "data": {
      "application/vnd.jupyter.widget-view+json": {
       "model_id": "da79f3d416d149b0b077b2229620ca9f",
       "version_major": 2,
       "version_minor": 0
      },
      "text/plain": [
       "  0%|          | 0/5 [00:00<?, ?it/s]"
      ]
     },
     "metadata": {},
     "output_type": "display_data"
    },
    {
     "name": "stdout",
     "output_type": "stream",
     "text": [
      "nlms pre-convergence training iteration #0\n",
      "nlms MSE = 0.040011.\n",
      "nlms pre-convergence training iteration #1\n",
      "nlms MSE = 0.020741.\n",
      "nlms pre-convergence training iteration #2\n",
      "nlms MSE = 0.017028.\n",
      "nlms pre-convergence training iteration #3\n",
      "nlms MSE = 0.015099.\n",
      "nlms pre-convergence training iteration #4\n",
      "nlms MSE = 0.014003.\n",
      "\n",
      "\n",
      "dd-lms - training stage #1\n",
      "dd-lms MSE = 0.010073.\n",
      "Results:\n",
      "\n",
      "SER: 9.66e-02\n",
      "BER: 2.52e-02\n",
      "SNR: 19.05 dB\n",
      "MI: 5.60 bits\n",
      "GMI: 5.40 bits\n",
      "channel 0\t fc : 193.1000 THz\n",
      "  mode #0\t power: 0.00 dBm\n",
      "channel 0\t power: -0.00 dBm\n",
      "\n",
      "total WDM signal power: -0.00 dBm\n",
      "Demodulating channel #0 , fc: 193.1000 THz, λ: 1552.5244 nm\n",
      "\n",
      "Local oscillator P: 12.00 dBm, lw: 0.00 kHz, FO: 18000.00 MHz\n",
      "CSPR = 12.00 dB\n",
      "\n",
      "\n",
      "nlms - training stage #0\n"
     ]
    },
    {
     "data": {
      "application/vnd.jupyter.widget-view+json": {
       "model_id": "e07f0c1977514219855386ad72264a39",
       "version_major": 2,
       "version_minor": 0
      },
      "text/plain": [
       "  0%|          | 0/5 [00:00<?, ?it/s]"
      ]
     },
     "metadata": {},
     "output_type": "display_data"
    },
    {
     "name": "stdout",
     "output_type": "stream",
     "text": [
      "nlms pre-convergence training iteration #0\n",
      "nlms MSE = 0.045916.\n",
      "nlms pre-convergence training iteration #1\n",
      "nlms MSE = 0.020972.\n",
      "nlms pre-convergence training iteration #2\n",
      "nlms MSE = 0.015653.\n",
      "nlms pre-convergence training iteration #3\n",
      "nlms MSE = 0.013129.\n",
      "nlms pre-convergence training iteration #4\n",
      "nlms MSE = 0.011713.\n",
      "\n",
      "\n",
      "dd-lms - training stage #1\n",
      "dd-lms MSE = 0.007866.\n",
      "Results:\n",
      "\n",
      "SER: 4.75e-02\n",
      "BER: 1.22e-02\n",
      "SNR: 20.42 dB\n",
      "MI: 5.79 bits\n",
      "GMI: 5.69 bits\n",
      "channel 0\t fc : 193.1000 THz\n",
      "  mode #0\t power: 0.00 dBm\n",
      "channel 0\t power: -0.00 dBm\n",
      "\n",
      "total WDM signal power: -0.00 dBm\n",
      "Demodulating channel #0 , fc: 193.1000 THz, λ: 1552.5244 nm\n",
      "\n",
      "Local oscillator P: 12.00 dBm, lw: 0.00 kHz, FO: 19000.00 MHz\n",
      "CSPR = 12.00 dB\n",
      "\n",
      "\n",
      "nlms - training stage #0\n"
     ]
    },
    {
     "data": {
      "application/vnd.jupyter.widget-view+json": {
       "model_id": "b1c46420ffd3431387e2b086fbc1c7c8",
       "version_major": 2,
       "version_minor": 0
      },
      "text/plain": [
       "  0%|          | 0/5 [00:00<?, ?it/s]"
      ]
     },
     "metadata": {},
     "output_type": "display_data"
    },
    {
     "name": "stdout",
     "output_type": "stream",
     "text": [
      "nlms pre-convergence training iteration #0\n",
      "nlms MSE = 0.022826.\n",
      "nlms pre-convergence training iteration #1\n",
      "nlms MSE = 0.002649.\n",
      "nlms pre-convergence training iteration #2\n",
      "nlms MSE = 0.002212.\n",
      "nlms pre-convergence training iteration #3\n",
      "nlms MSE = 0.001960.\n",
      "nlms pre-convergence training iteration #4\n",
      "nlms MSE = 0.001793.\n",
      "\n",
      "\n",
      "dd-lms - training stage #1\n",
      "dd-lms MSE = 0.001032.\n",
      "Results:\n",
      "\n",
      "SER: 3.33e-05\n",
      "BER: 5.56e-06\n",
      "SNR: 29.63 dB\n",
      "MI: 6.00 bits\n",
      "GMI: 6.00 bits\n",
      "channel 0\t fc : 193.1000 THz\n",
      "  mode #0\t power: 0.00 dBm\n",
      "channel 0\t power: -0.00 dBm\n",
      "\n",
      "total WDM signal power: -0.00 dBm\n",
      "Demodulating channel #0 , fc: 193.1000 THz, λ: 1552.5244 nm\n",
      "\n",
      "Local oscillator P: 12.00 dBm, lw: 0.00 kHz, FO: 19000.00 MHz\n",
      "CSPR = 12.00 dB\n",
      "\n",
      "\n",
      "nlms - training stage #0\n"
     ]
    },
    {
     "data": {
      "application/vnd.jupyter.widget-view+json": {
       "model_id": "68b02d0f6c56458a97d5ea7bed74c669",
       "version_major": 2,
       "version_minor": 0
      },
      "text/plain": [
       "  0%|          | 0/5 [00:00<?, ?it/s]"
      ]
     },
     "metadata": {},
     "output_type": "display_data"
    },
    {
     "name": "stdout",
     "output_type": "stream",
     "text": [
      "nlms pre-convergence training iteration #0\n",
      "nlms MSE = 0.020157.\n",
      "nlms pre-convergence training iteration #1\n",
      "nlms MSE = 0.002485.\n",
      "nlms pre-convergence training iteration #2\n",
      "nlms MSE = 0.001993.\n",
      "nlms pre-convergence training iteration #3\n",
      "nlms MSE = 0.001729.\n",
      "nlms pre-convergence training iteration #4\n",
      "nlms MSE = 0.001566.\n",
      "\n",
      "\n",
      "dd-lms - training stage #1\n",
      "dd-lms MSE = 0.000928.\n",
      "Results:\n",
      "\n",
      "SER: 8.89e-05\n",
      "BER: 1.85e-05\n",
      "SNR: 30.16 dB\n",
      "MI: 6.00 bits\n",
      "GMI: 6.00 bits\n",
      "channel 0\t fc : 193.1000 THz\n",
      "  mode #0\t power: 0.00 dBm\n",
      "channel 0\t power: -0.00 dBm\n",
      "\n",
      "total WDM signal power: -0.00 dBm\n",
      "Demodulating channel #0 , fc: 193.1000 THz, λ: 1552.5244 nm\n",
      "\n",
      "Local oscillator P: 12.00 dBm, lw: 0.00 kHz, FO: 19000.00 MHz\n",
      "CSPR = 12.00 dB\n",
      "\n",
      "\n",
      "nlms - training stage #0\n"
     ]
    },
    {
     "data": {
      "application/vnd.jupyter.widget-view+json": {
       "model_id": "76798e3b513544a3b04ec522434b2e0e",
       "version_major": 2,
       "version_minor": 0
      },
      "text/plain": [
       "  0%|          | 0/5 [00:00<?, ?it/s]"
      ]
     },
     "metadata": {},
     "output_type": "display_data"
    },
    {
     "name": "stdout",
     "output_type": "stream",
     "text": [
      "nlms pre-convergence training iteration #0\n",
      "nlms MSE = 0.017313.\n",
      "nlms pre-convergence training iteration #1\n",
      "nlms MSE = 0.002209.\n",
      "nlms pre-convergence training iteration #2\n",
      "nlms MSE = 0.002046.\n",
      "nlms pre-convergence training iteration #3\n",
      "nlms MSE = 0.001931.\n",
      "nlms pre-convergence training iteration #4\n",
      "nlms MSE = 0.001848.\n",
      "\n",
      "\n",
      "dd-lms - training stage #1\n",
      "dd-lms MSE = 0.000765.\n",
      "Results:\n",
      "\n",
      "SER: 0.00e+00\n",
      "BER: 0.00e+00\n",
      "SNR: 31.01 dB\n",
      "MI: 6.00 bits\n",
      "GMI: 6.00 bits\n",
      "channel 0\t fc : 193.1000 THz\n",
      "  mode #0\t power: 0.00 dBm\n",
      "channel 0\t power: -0.00 dBm\n",
      "\n",
      "total WDM signal power: -0.00 dBm\n",
      "Demodulating channel #0 , fc: 193.1000 THz, λ: 1552.5244 nm\n",
      "\n",
      "Local oscillator P: 12.00 dBm, lw: 0.00 kHz, FO: 19000.00 MHz\n",
      "CSPR = 12.00 dB\n",
      "\n",
      "\n",
      "nlms - training stage #0\n"
     ]
    },
    {
     "data": {
      "application/vnd.jupyter.widget-view+json": {
       "model_id": "50b6a17d859c419aa49c65f745001d90",
       "version_major": 2,
       "version_minor": 0
      },
      "text/plain": [
       "  0%|          | 0/5 [00:00<?, ?it/s]"
      ]
     },
     "metadata": {},
     "output_type": "display_data"
    },
    {
     "name": "stdout",
     "output_type": "stream",
     "text": [
      "nlms pre-convergence training iteration #0\n",
      "nlms MSE = 0.016133.\n",
      "nlms pre-convergence training iteration #1\n",
      "nlms MSE = 0.002355.\n",
      "nlms pre-convergence training iteration #2\n",
      "nlms MSE = 0.002313.\n",
      "nlms pre-convergence training iteration #3\n",
      "nlms MSE = 0.002276.\n",
      "nlms pre-convergence training iteration #4\n",
      "nlms MSE = 0.002244.\n",
      "\n",
      "\n",
      "dd-lms - training stage #1\n",
      "dd-lms MSE = 0.001347.\n",
      "Results:\n",
      "\n",
      "SER: 2.44e-04\n",
      "BER: 5.56e-05\n",
      "SNR: 28.63 dB\n",
      "MI: 6.00 bits\n",
      "GMI: 6.00 bits\n",
      "channel 0\t fc : 193.1000 THz\n",
      "  mode #0\t power: 0.00 dBm\n",
      "channel 0\t power: -0.00 dBm\n",
      "\n",
      "total WDM signal power: -0.00 dBm\n",
      "Demodulating channel #0 , fc: 193.1000 THz, λ: 1552.5244 nm\n",
      "\n",
      "Local oscillator P: 12.00 dBm, lw: 0.00 kHz, FO: 19000.00 MHz\n",
      "CSPR = 12.00 dB\n",
      "\n",
      "\n",
      "nlms - training stage #0\n"
     ]
    },
    {
     "data": {
      "application/vnd.jupyter.widget-view+json": {
       "model_id": "5537e2c1e3554ccaba74c68dbf61ad7b",
       "version_major": 2,
       "version_minor": 0
      },
      "text/plain": [
       "  0%|          | 0/5 [00:00<?, ?it/s]"
      ]
     },
     "metadata": {},
     "output_type": "display_data"
    },
    {
     "name": "stdout",
     "output_type": "stream",
     "text": [
      "nlms pre-convergence training iteration #0\n",
      "nlms MSE = 0.016830.\n",
      "nlms pre-convergence training iteration #1\n",
      "nlms MSE = 0.003490.\n",
      "nlms pre-convergence training iteration #2\n",
      "nlms MSE = 0.003276.\n",
      "nlms pre-convergence training iteration #3\n",
      "nlms MSE = 0.003103.\n",
      "nlms pre-convergence training iteration #4\n",
      "nlms MSE = 0.002960.\n",
      "\n",
      "\n",
      "dd-lms - training stage #1\n",
      "dd-lms MSE = 0.001794.\n",
      "Results:\n",
      "\n",
      "SER: 2.56e-04\n",
      "BER: 6.48e-05\n",
      "SNR: 27.21 dB\n",
      "MI: 6.00 bits\n",
      "GMI: 6.00 bits\n",
      "channel 0\t fc : 193.1000 THz\n",
      "  mode #0\t power: 0.00 dBm\n",
      "channel 0\t power: 0.00 dBm\n",
      "\n",
      "total WDM signal power: 0.00 dBm\n",
      "Demodulating channel #0 , fc: 193.1000 THz, λ: 1552.5244 nm\n",
      "\n",
      "Local oscillator P: 12.00 dBm, lw: 0.00 kHz, FO: 19000.00 MHz\n",
      "CSPR = 12.00 dB\n",
      "\n",
      "\n",
      "nlms - training stage #0\n"
     ]
    },
    {
     "data": {
      "application/vnd.jupyter.widget-view+json": {
       "model_id": "121d5829e51e4960b0ddffa6090a8800",
       "version_major": 2,
       "version_minor": 0
      },
      "text/plain": [
       "  0%|          | 0/5 [00:00<?, ?it/s]"
      ]
     },
     "metadata": {},
     "output_type": "display_data"
    },
    {
     "name": "stdout",
     "output_type": "stream",
     "text": [
      "nlms pre-convergence training iteration #0\n",
      "nlms MSE = 0.019453.\n",
      "nlms pre-convergence training iteration #1\n",
      "nlms MSE = 0.005501.\n",
      "nlms pre-convergence training iteration #2\n",
      "nlms MSE = 0.004723.\n",
      "nlms pre-convergence training iteration #3\n",
      "nlms MSE = 0.004187.\n",
      "nlms pre-convergence training iteration #4\n",
      "nlms MSE = 0.003805.\n",
      "\n",
      "\n",
      "dd-lms - training stage #1\n",
      "dd-lms MSE = 0.002233.\n",
      "Results:\n",
      "\n",
      "SER: 6.00e-04\n",
      "BER: 1.24e-04\n",
      "SNR: 26.29 dB\n",
      "MI: 6.00 bits\n",
      "GMI: 5.99 bits\n",
      "channel 0\t fc : 193.1000 THz\n",
      "  mode #0\t power: 0.00 dBm\n",
      "channel 0\t power: 0.00 dBm\n",
      "\n",
      "total WDM signal power: 0.00 dBm\n",
      "Demodulating channel #0 , fc: 193.1000 THz, λ: 1552.5244 nm\n",
      "\n",
      "Local oscillator P: 12.00 dBm, lw: 0.00 kHz, FO: 19000.00 MHz\n",
      "CSPR = 12.00 dB\n",
      "\n",
      "\n",
      "nlms - training stage #0\n"
     ]
    },
    {
     "data": {
      "application/vnd.jupyter.widget-view+json": {
       "model_id": "0f1f0df4803a4925841fc7504ec51f5d",
       "version_major": 2,
       "version_minor": 0
      },
      "text/plain": [
       "  0%|          | 0/5 [00:00<?, ?it/s]"
      ]
     },
     "metadata": {},
     "output_type": "display_data"
    },
    {
     "name": "stdout",
     "output_type": "stream",
     "text": [
      "nlms pre-convergence training iteration #0\n",
      "nlms MSE = 0.022036.\n",
      "nlms pre-convergence training iteration #1\n",
      "nlms MSE = 0.006959.\n",
      "nlms pre-convergence training iteration #2\n",
      "nlms MSE = 0.005488.\n",
      "nlms pre-convergence training iteration #3\n",
      "nlms MSE = 0.004620.\n",
      "nlms pre-convergence training iteration #4\n",
      "nlms MSE = 0.004084.\n",
      "\n",
      "\n",
      "dd-lms - training stage #1\n",
      "dd-lms MSE = 0.002748.\n",
      "Results:\n",
      "\n",
      "SER: 1.21e-03\n",
      "BER: 3.04e-04\n",
      "SNR: 25.39 dB\n",
      "MI: 5.99 bits\n",
      "GMI: 5.99 bits\n",
      "channel 0\t fc : 193.1000 THz\n",
      "  mode #0\t power: 0.00 dBm\n",
      "channel 0\t power: -0.00 dBm\n",
      "\n",
      "total WDM signal power: -0.00 dBm\n",
      "Demodulating channel #0 , fc: 193.1000 THz, λ: 1552.5244 nm\n",
      "\n",
      "Local oscillator P: 12.00 dBm, lw: 0.00 kHz, FO: 19000.00 MHz\n",
      "CSPR = 12.00 dB\n",
      "\n",
      "\n",
      "nlms - training stage #0\n"
     ]
    },
    {
     "data": {
      "application/vnd.jupyter.widget-view+json": {
       "model_id": "8247145d831b43cfa3130ec6e6319acf",
       "version_major": 2,
       "version_minor": 0
      },
      "text/plain": [
       "  0%|          | 0/5 [00:00<?, ?it/s]"
      ]
     },
     "metadata": {},
     "output_type": "display_data"
    },
    {
     "name": "stdout",
     "output_type": "stream",
     "text": [
      "nlms pre-convergence training iteration #0\n",
      "nlms MSE = 0.027688.\n",
      "nlms pre-convergence training iteration #1\n",
      "nlms MSE = 0.011009.\n",
      "nlms pre-convergence training iteration #2\n",
      "nlms MSE = 0.008400.\n",
      "nlms pre-convergence training iteration #3\n",
      "nlms MSE = 0.006974.\n",
      "nlms pre-convergence training iteration #4\n",
      "nlms MSE = 0.006145.\n",
      "\n",
      "\n",
      "dd-lms - training stage #1\n",
      "dd-lms MSE = 0.004299.\n",
      "Results:\n",
      "\n",
      "SER: 7.47e-03\n",
      "BER: 1.86e-03\n",
      "SNR: 23.42 dB\n",
      "MI: 5.96 bits\n",
      "GMI: 5.94 bits\n",
      "channel 0\t fc : 193.1000 THz\n",
      "  mode #0\t power: 0.00 dBm\n",
      "channel 0\t power: -0.00 dBm\n",
      "\n",
      "total WDM signal power: -0.00 dBm\n",
      "Demodulating channel #0 , fc: 193.1000 THz, λ: 1552.5244 nm\n",
      "\n",
      "Local oscillator P: 12.00 dBm, lw: 0.00 kHz, FO: 19000.00 MHz\n",
      "CSPR = 12.00 dB\n",
      "\n",
      "\n",
      "nlms - training stage #0\n"
     ]
    },
    {
     "data": {
      "application/vnd.jupyter.widget-view+json": {
       "model_id": "bcb3a405349b44baabafde35185b8aa4",
       "version_major": 2,
       "version_minor": 0
      },
      "text/plain": [
       "  0%|          | 0/5 [00:00<?, ?it/s]"
      ]
     },
     "metadata": {},
     "output_type": "display_data"
    },
    {
     "name": "stdout",
     "output_type": "stream",
     "text": [
      "nlms pre-convergence training iteration #0\n",
      "nlms MSE = 0.031099.\n",
      "nlms pre-convergence training iteration #1\n",
      "nlms MSE = 0.012686.\n",
      "nlms pre-convergence training iteration #2\n",
      "nlms MSE = 0.009469.\n",
      "nlms pre-convergence training iteration #3\n",
      "nlms MSE = 0.007821.\n",
      "nlms pre-convergence training iteration #4\n",
      "nlms MSE = 0.006905.\n",
      "\n",
      "\n",
      "dd-lms - training stage #1\n",
      "dd-lms MSE = 0.004787.\n",
      "Results:\n",
      "\n",
      "SER: 9.92e-03\n",
      "BER: 2.42e-03\n",
      "SNR: 22.93 dB\n",
      "MI: 5.95 bits\n",
      "GMI: 5.93 bits\n",
      "channel 0\t fc : 193.1000 THz\n",
      "  mode #0\t power: 0.00 dBm\n",
      "channel 0\t power: -0.00 dBm\n",
      "\n",
      "total WDM signal power: -0.00 dBm\n",
      "Demodulating channel #0 , fc: 193.1000 THz, λ: 1552.5244 nm\n",
      "\n",
      "Local oscillator P: 12.00 dBm, lw: 0.00 kHz, FO: 19000.00 MHz\n",
      "CSPR = 12.00 dB\n",
      "\n",
      "\n",
      "nlms - training stage #0\n"
     ]
    },
    {
     "data": {
      "application/vnd.jupyter.widget-view+json": {
       "model_id": "e75fea479ba242059bc0be997fc0b98a",
       "version_major": 2,
       "version_minor": 0
      },
      "text/plain": [
       "  0%|          | 0/5 [00:00<?, ?it/s]"
      ]
     },
     "metadata": {},
     "output_type": "display_data"
    },
    {
     "name": "stdout",
     "output_type": "stream",
     "text": [
      "nlms pre-convergence training iteration #0\n",
      "nlms MSE = 0.036258.\n",
      "nlms pre-convergence training iteration #1\n",
      "nlms MSE = 0.018149.\n",
      "nlms pre-convergence training iteration #2\n",
      "nlms MSE = 0.014715.\n",
      "nlms pre-convergence training iteration #3\n",
      "nlms MSE = 0.012860.\n",
      "nlms pre-convergence training iteration #4\n",
      "nlms MSE = 0.011778.\n",
      "\n",
      "\n",
      "dd-lms - training stage #1\n",
      "dd-lms MSE = 0.008573.\n",
      "Results:\n",
      "\n",
      "SER: 5.43e-02\n",
      "BER: 1.39e-02\n",
      "SNR: 20.12 dB\n",
      "MI: 5.77 bits\n",
      "GMI: 5.65 bits\n",
      "channel 0\t fc : 193.1000 THz\n",
      "  mode #0\t power: 0.00 dBm\n",
      "channel 0\t power: -0.00 dBm\n",
      "\n",
      "total WDM signal power: -0.00 dBm\n",
      "Demodulating channel #0 , fc: 193.1000 THz, λ: 1552.5244 nm\n",
      "\n",
      "Local oscillator P: 12.00 dBm, lw: 0.00 kHz, FO: 20000.00 MHz\n",
      "CSPR = 12.00 dB\n",
      "\n",
      "\n",
      "nlms - training stage #0\n"
     ]
    },
    {
     "data": {
      "application/vnd.jupyter.widget-view+json": {
       "model_id": "0d6989a0df594cbea1c01758bee6ce2b",
       "version_major": 2,
       "version_minor": 0
      },
      "text/plain": [
       "  0%|          | 0/5 [00:00<?, ?it/s]"
      ]
     },
     "metadata": {},
     "output_type": "display_data"
    },
    {
     "name": "stdout",
     "output_type": "stream",
     "text": [
      "nlms pre-convergence training iteration #0\n",
      "nlms MSE = 0.021782.\n",
      "nlms pre-convergence training iteration #1\n",
      "nlms MSE = 0.002143.\n",
      "nlms pre-convergence training iteration #2\n",
      "nlms MSE = 0.001731.\n",
      "nlms pre-convergence training iteration #3\n",
      "nlms MSE = 0.001495.\n",
      "nlms pre-convergence training iteration #4\n",
      "nlms MSE = 0.001340.\n",
      "\n",
      "\n",
      "dd-lms - training stage #1\n",
      "dd-lms MSE = 0.000844.\n",
      "Results:\n",
      "\n",
      "SER: 0.00e+00\n",
      "BER: 0.00e+00\n",
      "SNR: 30.47 dB\n",
      "MI: 6.00 bits\n",
      "GMI: 6.00 bits\n",
      "channel 0\t fc : 193.1000 THz\n",
      "  mode #0\t power: 0.00 dBm\n",
      "channel 0\t power: -0.00 dBm\n",
      "\n",
      "total WDM signal power: -0.00 dBm\n",
      "Demodulating channel #0 , fc: 193.1000 THz, λ: 1552.5244 nm\n",
      "\n",
      "Local oscillator P: 12.00 dBm, lw: 0.00 kHz, FO: 20000.00 MHz\n",
      "CSPR = 12.00 dB\n",
      "\n",
      "\n",
      "nlms - training stage #0\n"
     ]
    },
    {
     "data": {
      "application/vnd.jupyter.widget-view+json": {
       "model_id": "55f4d3a39a544be4929740d3367b8992",
       "version_major": 2,
       "version_minor": 0
      },
      "text/plain": [
       "  0%|          | 0/5 [00:00<?, ?it/s]"
      ]
     },
     "metadata": {},
     "output_type": "display_data"
    },
    {
     "name": "stdout",
     "output_type": "stream",
     "text": [
      "nlms pre-convergence training iteration #0\n",
      "nlms MSE = 0.019840.\n",
      "nlms pre-convergence training iteration #1\n",
      "nlms MSE = 0.002346.\n",
      "nlms pre-convergence training iteration #2\n",
      "nlms MSE = 0.001862.\n",
      "nlms pre-convergence training iteration #3\n",
      "nlms MSE = 0.001602.\n",
      "nlms pre-convergence training iteration #4\n",
      "nlms MSE = 0.001442.\n",
      "\n",
      "\n",
      "dd-lms - training stage #1\n",
      "dd-lms MSE = 0.000791.\n",
      "Results:\n",
      "\n",
      "SER: 3.33e-05\n",
      "BER: 5.56e-06\n",
      "SNR: 30.83 dB\n",
      "MI: 6.03 bits\n",
      "GMI: 6.00 bits\n",
      "channel 0\t fc : 193.1000 THz\n",
      "  mode #0\t power: 0.00 dBm\n",
      "channel 0\t power: -0.00 dBm\n",
      "\n",
      "total WDM signal power: -0.00 dBm\n",
      "Demodulating channel #0 , fc: 193.1000 THz, λ: 1552.5244 nm\n",
      "\n",
      "Local oscillator P: 12.00 dBm, lw: 0.00 kHz, FO: 20000.00 MHz\n",
      "CSPR = 12.00 dB\n",
      "\n",
      "\n",
      "nlms - training stage #0\n"
     ]
    },
    {
     "data": {
      "application/vnd.jupyter.widget-view+json": {
       "model_id": "bd5e0e05b9644ebf97ee2df832fd1d20",
       "version_major": 2,
       "version_minor": 0
      },
      "text/plain": [
       "  0%|          | 0/5 [00:00<?, ?it/s]"
      ]
     },
     "metadata": {},
     "output_type": "display_data"
    },
    {
     "name": "stdout",
     "output_type": "stream",
     "text": [
      "nlms pre-convergence training iteration #0\n",
      "nlms MSE = 0.016815.\n",
      "nlms pre-convergence training iteration #1\n",
      "nlms MSE = 0.001686.\n",
      "nlms pre-convergence training iteration #2\n",
      "nlms MSE = 0.001511.\n",
      "nlms pre-convergence training iteration #3\n",
      "nlms MSE = 0.001385.\n",
      "nlms pre-convergence training iteration #4\n",
      "nlms MSE = 0.001293.\n",
      "\n",
      "\n",
      "dd-lms - training stage #1\n",
      "dd-lms MSE = 0.000924.\n",
      "Results:\n",
      "\n",
      "SER: 1.89e-04\n",
      "BER: 4.63e-05\n",
      "SNR: 30.13 dB\n",
      "MI: 6.00 bits\n",
      "GMI: 5.99 bits\n",
      "channel 0\t fc : 193.1000 THz\n",
      "  mode #0\t power: 0.00 dBm\n",
      "channel 0\t power: 0.00 dBm\n",
      "\n",
      "total WDM signal power: 0.00 dBm\n",
      "Demodulating channel #0 , fc: 193.1000 THz, λ: 1552.5244 nm\n",
      "\n",
      "Local oscillator P: 12.00 dBm, lw: 0.00 kHz, FO: 20000.00 MHz\n",
      "CSPR = 12.00 dB\n",
      "\n",
      "\n",
      "nlms - training stage #0\n"
     ]
    },
    {
     "data": {
      "application/vnd.jupyter.widget-view+json": {
       "model_id": "184eb9be927c417dbfe010ed6aa8d6ff",
       "version_major": 2,
       "version_minor": 0
      },
      "text/plain": [
       "  0%|          | 0/5 [00:00<?, ?it/s]"
      ]
     },
     "metadata": {},
     "output_type": "display_data"
    },
    {
     "name": "stdout",
     "output_type": "stream",
     "text": [
      "nlms pre-convergence training iteration #0\n",
      "nlms MSE = 0.015983.\n",
      "nlms pre-convergence training iteration #1\n",
      "nlms MSE = 0.001784.\n",
      "nlms pre-convergence training iteration #2\n",
      "nlms MSE = 0.001760.\n",
      "nlms pre-convergence training iteration #3\n",
      "nlms MSE = 0.001738.\n",
      "nlms pre-convergence training iteration #4\n",
      "nlms MSE = 0.001719.\n",
      "\n",
      "\n",
      "dd-lms - training stage #1\n",
      "dd-lms MSE = 0.001119.\n",
      "Results:\n",
      "\n",
      "SER: 1.89e-04\n",
      "BER: 4.63e-05\n",
      "SNR: 29.48 dB\n",
      "MI: 6.00 bits\n",
      "GMI: 6.00 bits\n",
      "channel 0\t fc : 193.1000 THz\n",
      "  mode #0\t power: 0.00 dBm\n",
      "channel 0\t power: 0.00 dBm\n",
      "\n",
      "total WDM signal power: 0.00 dBm\n",
      "Demodulating channel #0 , fc: 193.1000 THz, λ: 1552.5244 nm\n",
      "\n",
      "Local oscillator P: 12.00 dBm, lw: 0.00 kHz, FO: 20000.00 MHz\n",
      "CSPR = 12.00 dB\n",
      "\n",
      "\n",
      "nlms - training stage #0\n"
     ]
    },
    {
     "data": {
      "application/vnd.jupyter.widget-view+json": {
       "model_id": "a5f86bdd60a243a18df32f376b05bba2",
       "version_major": 2,
       "version_minor": 0
      },
      "text/plain": [
       "  0%|          | 0/5 [00:00<?, ?it/s]"
      ]
     },
     "metadata": {},
     "output_type": "display_data"
    },
    {
     "name": "stdout",
     "output_type": "stream",
     "text": [
      "nlms pre-convergence training iteration #0\n",
      "nlms MSE = 0.015241.\n",
      "nlms pre-convergence training iteration #1\n",
      "nlms MSE = 0.002167.\n",
      "nlms pre-convergence training iteration #2\n",
      "nlms MSE = 0.002130.\n",
      "nlms pre-convergence training iteration #3\n",
      "nlms MSE = 0.002096.\n",
      "nlms pre-convergence training iteration #4\n",
      "nlms MSE = 0.002064.\n",
      "\n",
      "\n",
      "dd-lms - training stage #1\n",
      "dd-lms MSE = 0.001452.\n",
      "Results:\n",
      "\n",
      "SER: 7.56e-04\n",
      "BER: 1.74e-04\n",
      "SNR: 28.23 dB\n",
      "MI: 5.99 bits\n",
      "GMI: 5.98 bits\n",
      "channel 0\t fc : 193.1000 THz\n",
      "  mode #0\t power: 0.00 dBm\n",
      "channel 0\t power: -0.00 dBm\n",
      "\n",
      "total WDM signal power: -0.00 dBm\n",
      "Demodulating channel #0 , fc: 193.1000 THz, λ: 1552.5244 nm\n",
      "\n",
      "Local oscillator P: 12.00 dBm, lw: 0.00 kHz, FO: 20000.00 MHz\n",
      "CSPR = 12.00 dB\n",
      "\n",
      "\n",
      "nlms - training stage #0\n"
     ]
    },
    {
     "data": {
      "application/vnd.jupyter.widget-view+json": {
       "model_id": "d12802f5ba8841aaa188018094f9f882",
       "version_major": 2,
       "version_minor": 0
      },
      "text/plain": [
       "  0%|          | 0/5 [00:00<?, ?it/s]"
      ]
     },
     "metadata": {},
     "output_type": "display_data"
    },
    {
     "name": "stdout",
     "output_type": "stream",
     "text": [
      "nlms pre-convergence training iteration #0\n",
      "nlms MSE = 0.015248.\n",
      "nlms pre-convergence training iteration #1\n",
      "nlms MSE = 0.003072.\n",
      "nlms pre-convergence training iteration #2\n",
      "nlms MSE = 0.002871.\n",
      "nlms pre-convergence training iteration #3\n",
      "nlms MSE = 0.002707.\n",
      "nlms pre-convergence training iteration #4\n",
      "nlms MSE = 0.002570.\n",
      "\n",
      "\n",
      "dd-lms - training stage #1\n",
      "dd-lms MSE = 0.001675.\n",
      "Results:\n",
      "\n",
      "SER: 1.00e-04\n",
      "BER: 1.67e-05\n",
      "SNR: 27.54 dB\n",
      "MI: 6.00 bits\n",
      "GMI: 6.00 bits\n",
      "channel 0\t fc : 193.1000 THz\n",
      "  mode #0\t power: 0.00 dBm\n",
      "channel 0\t power: 0.00 dBm\n",
      "\n",
      "total WDM signal power: 0.00 dBm\n",
      "Demodulating channel #0 , fc: 193.1000 THz, λ: 1552.5244 nm\n",
      "\n",
      "Local oscillator P: 12.00 dBm, lw: 0.00 kHz, FO: 20000.00 MHz\n",
      "CSPR = 12.00 dB\n",
      "\n",
      "\n",
      "nlms - training stage #0\n"
     ]
    },
    {
     "data": {
      "application/vnd.jupyter.widget-view+json": {
       "model_id": "c31a6cbcb61f415a9441b86088bf2a10",
       "version_major": 2,
       "version_minor": 0
      },
      "text/plain": [
       "  0%|          | 0/5 [00:00<?, ?it/s]"
      ]
     },
     "metadata": {},
     "output_type": "display_data"
    },
    {
     "name": "stdout",
     "output_type": "stream",
     "text": [
      "nlms pre-convergence training iteration #0\n",
      "nlms MSE = 0.018267.\n",
      "nlms pre-convergence training iteration #1\n",
      "nlms MSE = 0.005620.\n",
      "nlms pre-convergence training iteration #2\n",
      "nlms MSE = 0.004949.\n",
      "nlms pre-convergence training iteration #3\n",
      "nlms MSE = 0.004463.\n",
      "nlms pre-convergence training iteration #4\n",
      "nlms MSE = 0.004106.\n",
      "\n",
      "\n",
      "dd-lms - training stage #1\n",
      "dd-lms MSE = 0.002668.\n",
      "Results:\n",
      "\n",
      "SER: 1.29e-03\n",
      "BER: 3.09e-04\n",
      "SNR: 25.50 dB\n",
      "MI: 5.99 bits\n",
      "GMI: 5.99 bits\n",
      "channel 0\t fc : 193.1000 THz\n",
      "  mode #0\t power: 0.00 dBm\n",
      "channel 0\t power: 0.00 dBm\n",
      "\n",
      "total WDM signal power: 0.00 dBm\n",
      "Demodulating channel #0 , fc: 193.1000 THz, λ: 1552.5244 nm\n",
      "\n",
      "Local oscillator P: 12.00 dBm, lw: 0.00 kHz, FO: 20000.00 MHz\n",
      "CSPR = 12.00 dB\n",
      "\n",
      "\n",
      "nlms - training stage #0\n"
     ]
    },
    {
     "data": {
      "application/vnd.jupyter.widget-view+json": {
       "model_id": "a12a7bd4acc14ca5b56f58d33c6de67c",
       "version_major": 2,
       "version_minor": 0
      },
      "text/plain": [
       "  0%|          | 0/5 [00:00<?, ?it/s]"
      ]
     },
     "metadata": {},
     "output_type": "display_data"
    },
    {
     "name": "stdout",
     "output_type": "stream",
     "text": [
      "nlms pre-convergence training iteration #0\n",
      "nlms MSE = 0.021161.\n",
      "nlms pre-convergence training iteration #1\n",
      "nlms MSE = 0.007624.\n",
      "nlms pre-convergence training iteration #2\n",
      "nlms MSE = 0.006221.\n",
      "nlms pre-convergence training iteration #3\n",
      "nlms MSE = 0.005341.\n",
      "nlms pre-convergence training iteration #4\n",
      "nlms MSE = 0.004773.\n",
      "\n",
      "\n",
      "dd-lms - training stage #1\n",
      "dd-lms MSE = 0.002987.\n",
      "Results:\n",
      "\n",
      "SER: 1.44e-03\n",
      "BER: 3.52e-04\n",
      "SNR: 25.05 dB\n",
      "MI: 5.99 bits\n",
      "GMI: 5.99 bits\n",
      "channel 0\t fc : 193.1000 THz\n",
      "  mode #0\t power: 0.00 dBm\n",
      "channel 0\t power: 0.00 dBm\n",
      "\n",
      "total WDM signal power: 0.00 dBm\n",
      "Demodulating channel #0 , fc: 193.1000 THz, λ: 1552.5244 nm\n",
      "\n",
      "Local oscillator P: 12.00 dBm, lw: 0.00 kHz, FO: 20000.00 MHz\n",
      "CSPR = 12.00 dB\n",
      "\n",
      "\n",
      "nlms - training stage #0\n"
     ]
    },
    {
     "data": {
      "application/vnd.jupyter.widget-view+json": {
       "model_id": "e8df3fcb08a44584837d8e553afd9497",
       "version_major": 2,
       "version_minor": 0
      },
      "text/plain": [
       "  0%|          | 0/5 [00:00<?, ?it/s]"
      ]
     },
     "metadata": {},
     "output_type": "display_data"
    },
    {
     "name": "stdout",
     "output_type": "stream",
     "text": [
      "nlms pre-convergence training iteration #0\n",
      "nlms MSE = 0.023506.\n",
      "nlms pre-convergence training iteration #1\n",
      "nlms MSE = 0.008764.\n",
      "nlms pre-convergence training iteration #2\n",
      "nlms MSE = 0.006731.\n",
      "nlms pre-convergence training iteration #3\n",
      "nlms MSE = 0.005592.\n",
      "nlms pre-convergence training iteration #4\n",
      "nlms MSE = 0.004924.\n",
      "\n",
      "\n",
      "dd-lms - training stage #1\n",
      "dd-lms MSE = 0.003411.\n",
      "Results:\n",
      "\n",
      "SER: 2.38e-03\n",
      "BER: 5.74e-04\n",
      "SNR: 24.50 dB\n",
      "MI: 5.99 bits\n",
      "GMI: 5.98 bits\n",
      "channel 0\t fc : 193.1000 THz\n",
      "  mode #0\t power: 0.00 dBm\n",
      "channel 0\t power: -0.00 dBm\n",
      "\n",
      "total WDM signal power: -0.00 dBm\n",
      "Demodulating channel #0 , fc: 193.1000 THz, λ: 1552.5244 nm\n",
      "\n",
      "Local oscillator P: 12.00 dBm, lw: 0.00 kHz, FO: 20000.00 MHz\n",
      "CSPR = 12.00 dB\n",
      "\n",
      "\n",
      "nlms - training stage #0\n"
     ]
    },
    {
     "data": {
      "application/vnd.jupyter.widget-view+json": {
       "model_id": "c887c69d77104ea9b88ffd98ca0240c0",
       "version_major": 2,
       "version_minor": 0
      },
      "text/plain": [
       "  0%|          | 0/5 [00:00<?, ?it/s]"
      ]
     },
     "metadata": {},
     "output_type": "display_data"
    },
    {
     "name": "stdout",
     "output_type": "stream",
     "text": [
      "nlms pre-convergence training iteration #0\n",
      "nlms MSE = 0.028623.\n",
      "nlms pre-convergence training iteration #1\n",
      "nlms MSE = 0.012089.\n",
      "nlms pre-convergence training iteration #2\n",
      "nlms MSE = 0.009061.\n",
      "nlms pre-convergence training iteration #3\n",
      "nlms MSE = 0.007510.\n",
      "nlms pre-convergence training iteration #4\n",
      "nlms MSE = 0.006646.\n",
      "\n",
      "\n",
      "dd-lms - training stage #1\n",
      "dd-lms MSE = 0.004685.\n",
      "Results:\n",
      "\n",
      "SER: 9.12e-03\n",
      "BER: 2.17e-03\n",
      "SNR: 23.04 dB\n",
      "MI: 5.96 bits\n",
      "GMI: 5.93 bits\n",
      "channel 0\t fc : 193.1000 THz\n",
      "  mode #0\t power: 0.00 dBm\n",
      "channel 0\t power: 0.00 dBm\n",
      "\n",
      "total WDM signal power: 0.00 dBm\n",
      "Demodulating channel #0 , fc: 193.1000 THz, λ: 1552.5244 nm\n",
      "\n",
      "Local oscillator P: 12.00 dBm, lw: 0.00 kHz, FO: 21000.00 MHz\n",
      "CSPR = 12.00 dB\n",
      "\n",
      "\n",
      "nlms - training stage #0\n"
     ]
    },
    {
     "data": {
      "application/vnd.jupyter.widget-view+json": {
       "model_id": "9861422110914a71944dfacbd12127d8",
       "version_major": 2,
       "version_minor": 0
      },
      "text/plain": [
       "  0%|          | 0/5 [00:00<?, ?it/s]"
      ]
     },
     "metadata": {},
     "output_type": "display_data"
    },
    {
     "name": "stdout",
     "output_type": "stream",
     "text": [
      "nlms pre-convergence training iteration #0\n",
      "nlms MSE = 0.021823.\n",
      "nlms pre-convergence training iteration #1\n",
      "nlms MSE = 0.001908.\n",
      "nlms pre-convergence training iteration #2\n",
      "nlms MSE = 0.001506.\n",
      "nlms pre-convergence training iteration #3\n",
      "nlms MSE = 0.001275.\n",
      "nlms pre-convergence training iteration #4\n",
      "nlms MSE = 0.001122.\n",
      "\n",
      "\n",
      "dd-lms - training stage #1\n",
      "dd-lms MSE = 0.000716.\n",
      "Results:\n",
      "\n",
      "SER: 1.11e-05\n",
      "BER: 1.85e-06\n",
      "SNR: 31.19 dB\n",
      "MI: 6.00 bits\n",
      "GMI: 6.00 bits\n",
      "channel 0\t fc : 193.1000 THz\n",
      "  mode #0\t power: 0.00 dBm\n",
      "channel 0\t power: 0.00 dBm\n",
      "\n",
      "total WDM signal power: 0.00 dBm\n",
      "Demodulating channel #0 , fc: 193.1000 THz, λ: 1552.5244 nm\n",
      "\n",
      "Local oscillator P: 12.00 dBm, lw: 0.00 kHz, FO: 21000.00 MHz\n",
      "CSPR = 12.00 dB\n",
      "\n",
      "\n",
      "nlms - training stage #0\n"
     ]
    },
    {
     "data": {
      "application/vnd.jupyter.widget-view+json": {
       "model_id": "3ab872d82f75456aa4912e9799cc5e2a",
       "version_major": 2,
       "version_minor": 0
      },
      "text/plain": [
       "  0%|          | 0/5 [00:00<?, ?it/s]"
      ]
     },
     "metadata": {},
     "output_type": "display_data"
    },
    {
     "name": "stdout",
     "output_type": "stream",
     "text": [
      "nlms pre-convergence training iteration #0\n",
      "nlms MSE = 0.020100.\n",
      "nlms pre-convergence training iteration #1\n",
      "nlms MSE = 0.002247.\n",
      "nlms pre-convergence training iteration #2\n",
      "nlms MSE = 0.001782.\n",
      "nlms pre-convergence training iteration #3\n",
      "nlms MSE = 0.001535.\n",
      "nlms pre-convergence training iteration #4\n",
      "nlms MSE = 0.001382.\n",
      "\n",
      "\n",
      "dd-lms - training stage #1\n",
      "dd-lms MSE = 0.000898.\n",
      "Results:\n",
      "\n",
      "SER: 1.22e-04\n",
      "BER: 2.96e-05\n",
      "SNR: 30.26 dB\n",
      "MI: 6.00 bits\n",
      "GMI: 5.99 bits\n",
      "channel 0\t fc : 193.1000 THz\n",
      "  mode #0\t power: 0.00 dBm\n",
      "channel 0\t power: -0.00 dBm\n",
      "\n",
      "total WDM signal power: -0.00 dBm\n",
      "Demodulating channel #0 , fc: 193.1000 THz, λ: 1552.5244 nm\n",
      "\n",
      "Local oscillator P: 12.00 dBm, lw: 0.00 kHz, FO: 21000.00 MHz\n",
      "CSPR = 12.00 dB\n",
      "\n",
      "\n",
      "nlms - training stage #0\n"
     ]
    },
    {
     "data": {
      "application/vnd.jupyter.widget-view+json": {
       "model_id": "22c4f04028ca453f995229dc4399a7a4",
       "version_major": 2,
       "version_minor": 0
      },
      "text/plain": [
       "  0%|          | 0/5 [00:00<?, ?it/s]"
      ]
     },
     "metadata": {},
     "output_type": "display_data"
    },
    {
     "name": "stdout",
     "output_type": "stream",
     "text": [
      "nlms pre-convergence training iteration #0\n",
      "nlms MSE = 0.016385.\n",
      "nlms pre-convergence training iteration #1\n",
      "nlms MSE = 0.001547.\n",
      "nlms pre-convergence training iteration #2\n",
      "nlms MSE = 0.001362.\n",
      "nlms pre-convergence training iteration #3\n",
      "nlms MSE = 0.001233.\n",
      "nlms pre-convergence training iteration #4\n",
      "nlms MSE = 0.001140.\n",
      "\n",
      "\n",
      "dd-lms - training stage #1\n",
      "dd-lms MSE = 0.000727.\n",
      "Results:\n",
      "\n",
      "SER: 2.22e-05\n",
      "BER: 3.70e-06\n",
      "SNR: 31.14 dB\n",
      "MI: 6.00 bits\n",
      "GMI: 6.00 bits\n",
      "channel 0\t fc : 193.1000 THz\n",
      "  mode #0\t power: 0.00 dBm\n",
      "channel 0\t power: -0.00 dBm\n",
      "\n",
      "total WDM signal power: -0.00 dBm\n",
      "Demodulating channel #0 , fc: 193.1000 THz, λ: 1552.5244 nm\n",
      "\n",
      "Local oscillator P: 12.00 dBm, lw: 0.00 kHz, FO: 21000.00 MHz\n",
      "CSPR = 12.00 dB\n",
      "\n",
      "\n",
      "nlms - training stage #0\n"
     ]
    },
    {
     "data": {
      "application/vnd.jupyter.widget-view+json": {
       "model_id": "edebc0a4e76a41e1b67354e4bf8ce173",
       "version_major": 2,
       "version_minor": 0
      },
      "text/plain": [
       "  0%|          | 0/5 [00:00<?, ?it/s]"
      ]
     },
     "metadata": {},
     "output_type": "display_data"
    },
    {
     "name": "stdout",
     "output_type": "stream",
     "text": [
      "nlms pre-convergence training iteration #0\n",
      "nlms MSE = 0.015294.\n",
      "nlms pre-convergence training iteration #1\n",
      "nlms MSE = 0.001636.\n",
      "nlms pre-convergence training iteration #2\n",
      "nlms MSE = 0.001615.\n",
      "nlms pre-convergence training iteration #3\n",
      "nlms MSE = 0.001596.\n",
      "nlms pre-convergence training iteration #4\n",
      "nlms MSE = 0.001580.\n",
      "\n",
      "\n",
      "dd-lms - training stage #1\n",
      "dd-lms MSE = 0.001020.\n",
      "Results:\n",
      "\n",
      "SER: 2.22e-04\n",
      "BER: 5.00e-05\n",
      "SNR: 29.82 dB\n",
      "MI: 5.99 bits\n",
      "GMI: 5.99 bits\n",
      "channel 0\t fc : 193.1000 THz\n",
      "  mode #0\t power: 0.00 dBm\n",
      "channel 0\t power: 0.00 dBm\n",
      "\n",
      "total WDM signal power: 0.00 dBm\n",
      "Demodulating channel #0 , fc: 193.1000 THz, λ: 1552.5244 nm\n",
      "\n",
      "Local oscillator P: 12.00 dBm, lw: 0.00 kHz, FO: 21000.00 MHz\n",
      "CSPR = 12.00 dB\n",
      "\n",
      "\n",
      "nlms - training stage #0\n"
     ]
    },
    {
     "data": {
      "application/vnd.jupyter.widget-view+json": {
       "model_id": "66aae74be29b4279b4e3253396656d5b",
       "version_major": 2,
       "version_minor": 0
      },
      "text/plain": [
       "  0%|          | 0/5 [00:00<?, ?it/s]"
      ]
     },
     "metadata": {},
     "output_type": "display_data"
    },
    {
     "name": "stdout",
     "output_type": "stream",
     "text": [
      "nlms pre-convergence training iteration #0\n",
      "nlms MSE = 0.013851.\n",
      "nlms pre-convergence training iteration #1\n",
      "nlms MSE = 0.001502.\n",
      "nlms pre-convergence training iteration #2\n",
      "nlms MSE = 0.001492.\n",
      "nlms pre-convergence training iteration #3\n",
      "nlms MSE = 0.001485.\n",
      "nlms pre-convergence training iteration #4\n",
      "nlms MSE = 0.001478.\n",
      "\n",
      "\n",
      "dd-lms - training stage #1\n",
      "dd-lms MSE = 0.000893.\n",
      "Results:\n",
      "\n",
      "SER: 5.56e-05\n",
      "BER: 1.30e-05\n",
      "SNR: 30.46 dB\n",
      "MI: 6.00 bits\n",
      "GMI: 6.00 bits\n",
      "channel 0\t fc : 193.1000 THz\n",
      "  mode #0\t power: 0.00 dBm\n",
      "channel 0\t power: -0.00 dBm\n",
      "\n",
      "total WDM signal power: -0.00 dBm\n",
      "Demodulating channel #0 , fc: 193.1000 THz, λ: 1552.5244 nm\n",
      "\n",
      "Local oscillator P: 12.00 dBm, lw: 0.00 kHz, FO: 21000.00 MHz\n",
      "CSPR = 12.00 dB\n",
      "\n",
      "\n",
      "nlms - training stage #0\n"
     ]
    },
    {
     "data": {
      "application/vnd.jupyter.widget-view+json": {
       "model_id": "4f8c6d78045c491d821dd55166216360",
       "version_major": 2,
       "version_minor": 0
      },
      "text/plain": [
       "  0%|          | 0/5 [00:00<?, ?it/s]"
      ]
     },
     "metadata": {},
     "output_type": "display_data"
    },
    {
     "name": "stdout",
     "output_type": "stream",
     "text": [
      "nlms pre-convergence training iteration #0\n",
      "nlms MSE = 0.013869.\n",
      "nlms pre-convergence training iteration #1\n",
      "nlms MSE = 0.002422.\n",
      "nlms pre-convergence training iteration #2\n",
      "nlms MSE = 0.002384.\n",
      "nlms pre-convergence training iteration #3\n",
      "nlms MSE = 0.002349.\n",
      "nlms pre-convergence training iteration #4\n",
      "nlms MSE = 0.002317.\n",
      "\n",
      "\n",
      "dd-lms - training stage #1\n",
      "dd-lms MSE = 0.001417.\n",
      "Results:\n",
      "\n",
      "SER: 1.78e-04\n",
      "BER: 3.33e-05\n",
      "SNR: 28.38 dB\n",
      "MI: 6.00 bits\n",
      "GMI: 6.00 bits\n",
      "channel 0\t fc : 193.1000 THz\n",
      "  mode #0\t power: 0.00 dBm\n",
      "channel 0\t power: 0.00 dBm\n",
      "\n",
      "total WDM signal power: 0.00 dBm\n",
      "Demodulating channel #0 , fc: 193.1000 THz, λ: 1552.5244 nm\n",
      "\n",
      "Local oscillator P: 12.00 dBm, lw: 0.00 kHz, FO: 21000.00 MHz\n",
      "CSPR = 12.00 dB\n",
      "\n",
      "\n",
      "nlms - training stage #0\n"
     ]
    },
    {
     "data": {
      "application/vnd.jupyter.widget-view+json": {
       "model_id": "7344d5deedcf412493cc4f28582d335e",
       "version_major": 2,
       "version_minor": 0
      },
      "text/plain": [
       "  0%|          | 0/5 [00:00<?, ?it/s]"
      ]
     },
     "metadata": {},
     "output_type": "display_data"
    },
    {
     "name": "stdout",
     "output_type": "stream",
     "text": [
      "nlms pre-convergence training iteration #0\n",
      "nlms MSE = 0.014824.\n",
      "nlms pre-convergence training iteration #1\n",
      "nlms MSE = 0.003204.\n",
      "nlms pre-convergence training iteration #2\n",
      "nlms MSE = 0.002997.\n",
      "nlms pre-convergence training iteration #3\n",
      "nlms MSE = 0.002823.\n",
      "nlms pre-convergence training iteration #4\n",
      "nlms MSE = 0.002676.\n",
      "\n",
      "\n",
      "dd-lms - training stage #1\n",
      "dd-lms MSE = 0.001734.\n",
      "Results:\n",
      "\n",
      "SER: 1.67e-04\n",
      "BER: 3.33e-05\n",
      "SNR: 27.37 dB\n",
      "MI: 6.00 bits\n",
      "GMI: 6.00 bits\n",
      "channel 0\t fc : 193.1000 THz\n",
      "  mode #0\t power: 0.00 dBm\n",
      "channel 0\t power: 0.00 dBm\n",
      "\n",
      "total WDM signal power: 0.00 dBm\n",
      "Demodulating channel #0 , fc: 193.1000 THz, λ: 1552.5244 nm\n",
      "\n",
      "Local oscillator P: 12.00 dBm, lw: 0.00 kHz, FO: 21000.00 MHz\n",
      "CSPR = 12.00 dB\n",
      "\n",
      "\n",
      "nlms - training stage #0\n"
     ]
    },
    {
     "data": {
      "application/vnd.jupyter.widget-view+json": {
       "model_id": "7452d44704824cd7bcb1d5127b28686b",
       "version_major": 2,
       "version_minor": 0
      },
      "text/plain": [
       "  0%|          | 0/5 [00:00<?, ?it/s]"
      ]
     },
     "metadata": {},
     "output_type": "display_data"
    },
    {
     "name": "stdout",
     "output_type": "stream",
     "text": [
      "nlms pre-convergence training iteration #0\n",
      "nlms MSE = 0.016388.\n",
      "nlms pre-convergence training iteration #1\n",
      "nlms MSE = 0.004775.\n",
      "nlms pre-convergence training iteration #2\n",
      "nlms MSE = 0.004243.\n",
      "nlms pre-convergence training iteration #3\n",
      "nlms MSE = 0.003845.\n",
      "nlms pre-convergence training iteration #4\n",
      "nlms MSE = 0.003545.\n",
      "\n",
      "\n",
      "dd-lms - training stage #1\n",
      "dd-lms MSE = 0.002242.\n",
      "Results:\n",
      "\n",
      "SER: 1.04e-03\n",
      "BER: 2.50e-04\n",
      "SNR: 26.29 dB\n",
      "MI: 5.99 bits\n",
      "GMI: 5.98 bits\n",
      "channel 0\t fc : 193.1000 THz\n",
      "  mode #0\t power: 0.00 dBm\n",
      "channel 0\t power: -0.00 dBm\n",
      "\n",
      "total WDM signal power: -0.00 dBm\n",
      "Demodulating channel #0 , fc: 193.1000 THz, λ: 1552.5244 nm\n",
      "\n",
      "Local oscillator P: 12.00 dBm, lw: 0.00 kHz, FO: 21000.00 MHz\n",
      "CSPR = 12.00 dB\n",
      "\n",
      "\n",
      "nlms - training stage #0\n"
     ]
    },
    {
     "data": {
      "application/vnd.jupyter.widget-view+json": {
       "model_id": "eb011d74dbf24997bb38d0440e14d024",
       "version_major": 2,
       "version_minor": 0
      },
      "text/plain": [
       "  0%|          | 0/5 [00:00<?, ?it/s]"
      ]
     },
     "metadata": {},
     "output_type": "display_data"
    },
    {
     "name": "stdout",
     "output_type": "stream",
     "text": [
      "nlms pre-convergence training iteration #0\n",
      "nlms MSE = 0.019319.\n",
      "nlms pre-convergence training iteration #1\n",
      "nlms MSE = 0.006724.\n",
      "nlms pre-convergence training iteration #2\n",
      "nlms MSE = 0.005517.\n",
      "nlms pre-convergence training iteration #3\n",
      "nlms MSE = 0.004733.\n",
      "nlms pre-convergence training iteration #4\n",
      "nlms MSE = 0.004213.\n",
      "\n",
      "\n",
      "dd-lms - training stage #1\n",
      "dd-lms MSE = 0.002848.\n",
      "Results:\n",
      "\n",
      "SER: 1.52e-03\n",
      "BER: 3.65e-04\n",
      "SNR: 25.20 dB\n",
      "MI: 5.99 bits\n",
      "GMI: 5.99 bits\n",
      "channel 0\t fc : 193.1000 THz\n",
      "  mode #0\t power: 0.00 dBm\n",
      "channel 0\t power: -0.00 dBm\n",
      "\n",
      "total WDM signal power: -0.00 dBm\n",
      "Demodulating channel #0 , fc: 193.1000 THz, λ: 1552.5244 nm\n",
      "\n",
      "Local oscillator P: 12.00 dBm, lw: 0.00 kHz, FO: 21000.00 MHz\n",
      "CSPR = 12.00 dB\n",
      "\n",
      "\n",
      "nlms - training stage #0\n"
     ]
    },
    {
     "data": {
      "application/vnd.jupyter.widget-view+json": {
       "model_id": "d038ca5d697c406ea9d6618f1949d5ea",
       "version_major": 2,
       "version_minor": 0
      },
      "text/plain": [
       "  0%|          | 0/5 [00:00<?, ?it/s]"
      ]
     },
     "metadata": {},
     "output_type": "display_data"
    },
    {
     "name": "stdout",
     "output_type": "stream",
     "text": [
      "nlms pre-convergence training iteration #0\n",
      "nlms MSE = 0.026921.\n",
      "nlms pre-convergence training iteration #1\n",
      "nlms MSE = 0.012070.\n",
      "nlms pre-convergence training iteration #2\n",
      "nlms MSE = 0.009332.\n",
      "nlms pre-convergence training iteration #3\n",
      "nlms MSE = 0.007734.\n",
      "nlms pre-convergence training iteration #4\n",
      "nlms MSE = 0.006763.\n",
      "\n",
      "\n",
      "dd-lms - training stage #1\n",
      "dd-lms MSE = 0.004208.\n",
      "Results:\n",
      "\n",
      "SER: 5.79e-03\n",
      "BER: 1.45e-03\n",
      "SNR: 23.43 dB\n",
      "MI: 5.97 bits\n",
      "GMI: 5.96 bits\n"
     ]
    }
   ],
   "source": [
    "FO_Values = np.arange(1e9, 6e9, 1e9)\n",
    "Rolloff = np.arange(0.01, 0.99, 0.1)\n",
    "\n",
    "BER_NN = np.zeros((FO_Values.size, Rolloff.size))\n",
    "SER_NN = np.zeros((FO_Values.size, Rolloff.size))\n",
    "GMI_NN = np.zeros((FO_Values.size, Rolloff.size))\n",
    "MI_NN  = np.zeros((FO_Values.size, Rolloff.size))\n",
    "SNR_NN = np.zeros((FO_Values.size, Rolloff.size))\n",
    "\n",
    "N = 256  # number of input amplitude samples to the NN\n",
    "\n",
    "for indNN, FO_ in enumerate(FO_Values):\n",
    "    for index, indRoll_ in enumerate(Rolloff):\n",
    "        \n",
    "        # Main simulation parameters\n",
    "        paramTx.alphaRRC = indRoll_\n",
    "        FO = FO_ + paramTx.Rs/2\n",
    "        # get the model according to the simulation parameters\n",
    "        modelNN = tf.keras.models.load_model('NN_models/testModel_SpS_'+str(paramADC.SpS_out)+'_FO_'+str(FO/10e9)+'GHz_Rolloff_'+str(round(paramTx.alphaRRC, 2)))\n",
    "        \n",
    "        # generate optical signal signal\n",
    "        sigTx, symbTx_, paramTx = simpleWDMTx(paramTx)\n",
    "\n",
    "        # simulate linear signal propagation\n",
    "        sigCh = linFiberCh(sigTx, Ltotal, alpha, D, Fc, Fs)\n",
    "\n",
    "        # receiver detection and demodulation\n",
    "        Fc = paramTx.Fc\n",
    "        Ts = 1 / Fs\n",
    "        mod = QAMModem(m=paramTx.M)\n",
    "\n",
    "        freqGrid = paramTx.freqGrid\n",
    "        print(\n",
    "            \"Demodulating channel #%d , fc: %.4f THz, λ: %.4f nm\\n\"\n",
    "            % (\n",
    "                chIndex,\n",
    "                (Fc + freqGrid[chIndex]) / 1e12,\n",
    "                const.c / (Fc + freqGrid[chIndex]) / 1e-9,\n",
    "            )\n",
    "        )\n",
    "\n",
    "        symbTx = symbTx_[:, :, chIndex]\n",
    "\n",
    "        Plo = 10 ** (Plo_dBm / 10) * 1e-3  # power in W\n",
    "\n",
    "        print(\n",
    "            \"Local oscillator P: %.2f dBm, lw: %.2f kHz, FO: %.2f MHz\"\n",
    "            % (Plo_dBm, lw / 1e3, FO / 1e6)\n",
    "        )\n",
    "\n",
    "        # generate LO field\n",
    "        π = np.pi\n",
    "        t = np.arange(0, len(sigCh))*Ts\n",
    "        ϕ_pn_lo = phaseNoise(lw, len(sigCh), Ts)\n",
    "\n",
    "        sigLO = np.sqrt(Plo) * np.exp(-1j * (2 * π * FO * t + ϕ_lo + ϕ_pn_lo))\n",
    "\n",
    "        # Add LO to the received signal\n",
    "        sigRx = np.sqrt(Plo) + sigCh * np.exp(1j * (2 * π * FO * t + ϕ_lo + ϕ_pn_lo))\n",
    "        sfm = sigRx.copy()\n",
    "\n",
    "        print('CSPR = %.2f dB' % (10*np.log10(signal_power(sigLO)/signal_power(sigCh))))\n",
    "\n",
    "        # ### Phase-retrieval stage\n",
    "\n",
    "        # In[4]:\n",
    "\n",
    "        # resampling to ADC sampling rate\n",
    "        sigCh = resample(sigCh, paramADC)\n",
    "        sfm = resample(sfm, paramADC)\n",
    "        newFs = paramADC.SpS_out*paramTx.Rs\n",
    "\n",
    "        # simulate ideal direct-detection optical receiver\n",
    "        Amp = np.abs(sigRx)\n",
    "        Amp = resample(Amp, paramADC)\n",
    "\n",
    "        sfm = sfm/np.sqrt(signal_power(sfm))\n",
    "\n",
    "        sigPhase = np.angle(sfm)  # get signal phase samples (labels) (L,)\n",
    "        sigAmp   = np.pad(np.abs(sfm), (int(N/2), int(N/2)), 'constant') # get signal amplitude samples (L,)\n",
    "\n",
    "        # create set of input features\n",
    "        X_input = np.zeros((len(sigPhase), N))  # (L,N)\n",
    "\n",
    "        for indPhase in range(len(sigPhase)):\n",
    "            X_input[indPhase] = sigAmp[indPhase:N+indPhase]\n",
    "\n",
    "        phiTime_NN = modelNN.predict(X_input)\n",
    "        phiTime_NN = phiTime_NN.reshape(-1,)\n",
    "\n",
    "        # optical field reconstruction\n",
    "        sigRx = np.abs(sfm)*np.exp(1j*phiTime_NN)\n",
    "\n",
    "        # remove DC level\n",
    "        sigRx -= np.mean(sigRx)  # np.sqrt(Plo)\n",
    "\n",
    "        # downshift to baseband\n",
    "        t = np.arange(0, len(sigRx))*(1/newFs)\n",
    "        sigRx *= np.exp(-1j * (2 * π * FO * t))\n",
    "\n",
    "        # correct for (possible) phase ambiguity\n",
    "        rot = np.mean(sigCh/sigRx)\n",
    "        sigRx = rot * sigRx\n",
    "        sigRx = sigRx / np.sqrt(signal_power(sigRx))\n",
    "\n",
    "        # #### Standard receiver processing\n",
    "\n",
    "        # In[5]:\n",
    "\n",
    "        # resample to 2 samples/symbol:\n",
    "        paramRes = parameters()\n",
    "        paramRes.Rs = paramTx.Rs\n",
    "        paramRes.SpS_in = paramADC.SpS_out\n",
    "        paramRes.SpS_out = 2\n",
    "\n",
    "        sigRx = resample(sigRx, paramRes)\n",
    "\n",
    "        # Matched filtering and CD compensation\n",
    "\n",
    "        # Matched filtering\n",
    "        if paramTx.pulse == \"nrz\":\n",
    "            pulse = pulseShape(\"nrz\", paramADC.SpS_out)\n",
    "        elif paramTx.pulse == \"rrc\":\n",
    "            pulse = pulseShape(\n",
    "                \"rrc\", paramRes.SpS_out, N=paramTx.Ntaps, alpha=paramTx.alphaRRC, Ts=1 / paramTx.Rs\n",
    "            )\n",
    "\n",
    "        pulse = pulse / np.max(np.abs(pulse))\n",
    "        sigRx = firFilter(pulse, sigRx)\n",
    "\n",
    "        # plot constellations after matched filtering\n",
    "        #pconst(sigRx[0::paramRes.SpS_out], lim=True, R=3)\n",
    "\n",
    "        # CD compensation\n",
    "        sigRx = edc(sigRx, Ltotal, D, Fc, paramRes.SpS_out*paramTx.Rs)\n",
    "\n",
    "        #plot constellations after CD compensation\n",
    "        #pconst(sigRx[0::paramRes.SpS_out], lim=True, R=2)\n",
    "\n",
    "        # Downsampling to 2 sps and re-synchronization with transmitted sequences\n",
    "        sigRx = sigRx.reshape(-1, 1)\n",
    "\n",
    "        symbRx = symbolSync(sigRx, symbTx, 2)\n",
    "\n",
    "        # In[6]:\n",
    "\n",
    "        # Power normalization\n",
    "        x = sigRx\n",
    "        d = symbRx\n",
    "\n",
    "        x = x.reshape(len(x), 1) / np.sqrt(signal_power(x))\n",
    "        d = d.reshape(len(d), 1) / np.sqrt(signal_power(d))\n",
    "\n",
    "        # Adaptive equalization\n",
    "        mod = QAMModem(m=paramTx.M)\n",
    "\n",
    "        paramEq = parameters()\n",
    "        paramEq.nTaps = 15\n",
    "        paramEq.SpS = 2\n",
    "        paramEq.mu = [5e-3, 2e-3]\n",
    "        paramEq.numIter = 5\n",
    "        paramEq.storeCoeff = False\n",
    "        paramEq.alg = [\"nlms\", \"dd-lms\"]\n",
    "        paramEq.M = paramTx.M\n",
    "        paramEq.L = [20000, 80000]\n",
    "\n",
    "        y_EQ, H, errSq, Hiter = mimoAdaptEqualizer(x, dx=d, paramEq=paramEq)\n",
    "\n",
    "        discard = int(paramEq.L[0]/2)\n",
    "\n",
    "        #plot constellations after adaptive equalization\n",
    "        #pconst(y_EQ[discard:-discard, :], lim=True)\n",
    "\n",
    "        # In[7]:\n",
    "\n",
    "        # Carrier phase recovery\n",
    "        paramCPR = parameters()\n",
    "        paramCPR.alg = \"bps\"\n",
    "        paramCPR.M = paramTx.M\n",
    "        paramCPR.N = 75\n",
    "        paramCPR.B = 64\n",
    "        paramCPR.pilotInd = np.arange(0, len(y_EQ), 20)\n",
    "\n",
    "        y_CPR, θ = cpr(y_EQ, symbTx=d, paramCPR=paramCPR)\n",
    "\n",
    "        y_CPR = y_CPR / np.sqrt(signal_power(y_CPR))\n",
    "\n",
    "        discard = 5000\n",
    "\n",
    "        # plot constellations after CPR\n",
    "        #pconst(y_CPR[discard:-discard, :], lim=True)\n",
    "\n",
    "        # #### Evaluate transmission metrics\n",
    "\n",
    "        # In[8]:\n",
    "\n",
    "        # correct for (possible) phase ambiguity\n",
    "        for k in range(y_CPR.shape[1]):\n",
    "            rot = np.mean(d[:, k] / y_CPR[:, k])\n",
    "            y_CPR[:, k] = rot * y_CPR[:, k]\n",
    "\n",
    "        y_CPR = y_CPR / np.sqrt(signal_power(y_CPR))\n",
    "\n",
    "        ind = np.arange(discard, d.shape[0] - discard)\n",
    "        BER_NN[indNN][index], SER_NN[indNN][index], SNR_NN[indNN][index] = fastBERcalc(y_CPR[ind, :], d[ind, :], mod)\n",
    "        GMI_NN[indNN][index], _ = monteCarloGMI(y_CPR[ind, :], d[ind, :], mod)\n",
    "        MI_NN[indNN][index] = monteCarloMI(y_CPR[ind, :], d[ind, :], mod)\n",
    "\n",
    "        print(\"Results:\\n\")\n",
    "        print(\"SER: %.2e\" % (SER_NN[indNN][index]))\n",
    "        print(\"BER: %.2e\" % (BER_NN[indNN][index]))\n",
    "        print(\"SNR: %.2f dB\" % (SNR_NN[indNN][index]))\n",
    "        print(\"MI: %.2f bits\" % (MI_NN[indNN][index]))\n",
    "        print(\"GMI: %.2f bits\" % (GMI_NN[indNN][index]))\n"
   ]
  },
  {
   "cell_type": "markdown",
   "metadata": {},
   "source": [
    "### Plot 3D Metrics"
   ]
  },
  {
   "cell_type": "code",
   "execution_count": 37,
   "metadata": {},
   "outputs": [],
   "source": [
    "from mpl_toolkits.mplot3d import Axes3D\n",
    "from matplotlib import cm"
   ]
  },
  {
   "cell_type": "code",
   "execution_count": 104,
   "metadata": {},
   "outputs": [
    {
     "data": {
      "image/png": "[encoded data removed]",
      "text/plain": [
       "<Figure size 792x720 with 2 Axes>"
      ]
     },
     "metadata": {
      "needs_background": "light"
     },
     "output_type": "display_data"
    }
   ],
   "source": [
    "x = np.arange(0.01, 0.99, 0.1)\n",
    "y = np.arange(1e9, 6e9, 1e9)\n",
    "\n",
    "x, y = np.meshgrid(x, y)\n",
    "z1 = BER_NN # shape((5, 10))\n",
    "\n",
    "fig = plt.figure(figsize=(11, 10))\n",
    "ax = plt.axes(projection='3d')\n",
    "\n",
    "surf = ax.plot_surface(x, y, z1, cmap='magma', edgecolor='None')\n",
    "fig.colorbar(surf, ax=ax, shrink=0.5, aspect=5)\n",
    "ax.set_xlabel('Rolloff')\n",
    "ax.set_ylabel('FO')\n",
    "ax.set_zlabel('BER')\n",
    "ax.view_init(elev=30, azim=215)\n",
    "ax.set_title('BER Surface Plot')\n",
    "\n",
    "plt.show()"
   ]
  }
 ],
 "metadata": {
  "kernelspec": {
   "display_name": "Python 3 (ipykernel)",
   "language": "python",
   "name": "python3"
  },
  "language_info": {
   "codemirror_mode": {
    "name": "ipython",
    "version": 3
   },
   "file_extension": ".py",
   "mimetype": "text/x-python",
   "name": "python",
   "nbconvert_exporter": "python",
   "pygments_lexer": "ipython3",
   "version": "3.9.9"
  },
  "vscode": {
   "interpreter": {
    "hash": "9d5b6e03d6ac79a37ef7da211c0e283cea2ee331edb1c9b7aa89f897c687f1b0"
   }
  }
 },
 "nbformat": 4,
 "nbformat_minor": 2
}
