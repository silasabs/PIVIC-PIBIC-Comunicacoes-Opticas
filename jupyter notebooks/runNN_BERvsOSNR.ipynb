{
 "cells": [
  {
   "cell_type": "code",
   "execution_count": 1,
   "metadata": {},
   "outputs": [],
   "source": [
    "import matplotlib.pyplot as plt\n",
    "import numpy as np\n",
    "\n",
    "from commpy.modulation import QAMModem\n",
    "\n",
    "from optic.dsp import pulseShape, firFilter, decimate, symbolSync, resample\n",
    "from optic.models import phaseNoise, linFiberCh, KramersKronigRx, photodiode, awgn\n",
    "\n",
    "from optic.tx import simpleWDMTx\n",
    "from optic.core import parameters\n",
    "from optic.equalization import edc, mimoAdaptEqualizer\n",
    "from optic.carrierRecovery import cpr\n",
    "from optic.metrics import fastBERcalc, monteCarloGMI, monteCarloMI, signal_power\n",
    "from optic.plot import pconst\n",
    "\n",
    "import scipy.constants as const\n",
    "from tqdm.notebook import tqdm\n",
    "\n",
    "from tensorflow.keras.layers import Dense, BatchNormalization, Conv1DTranspose, Conv1D, Flatten, Add\n",
    "from tensorflow.keras.models import Sequential\n",
    "from tensorflow.keras.callbacks import EarlyStopping\n",
    "import tensorflow as tf\n",
    "from tensorflow.keras import backend as K"
   ]
  },
  {
   "cell_type": "code",
   "execution_count": 2,
   "metadata": {},
   "outputs": [],
   "source": [
    "figurePath = 'C:/Users/optic/Documents/PIVIC-PIBIC-Comunicacoes-Opticas/resultados/Figuras/Pibic'\n",
    "path_data  = r'C:/Users/optic/Documents/PIVIC-PIBIC-Comunicacoes-Opticas/resultados/Data/Pibic/'\n",
    "path_mlp   = 'C:/Users/optic/Documents/PIVIC-PIBIC-Comunicacoes-Opticas/models/NN_models/' \n",
    "path_conv  = 'C:/Users/optic/Documents/PIVIC-PIBIC-Comunicacoes-Opticas/models/CONV_models/'\n",
    "\n",
    "saveData = True\n",
    "N = 128 # number of input amplitude samples to the NN\n",
    "Interactions = 5"
   ]
  },
  {
   "attachments": {},
   "cell_type": "markdown",
   "metadata": {},
   "source": [
    "## Simulation of a single polarization optical signal transmission"
   ]
  },
  {
   "cell_type": "code",
   "execution_count": 3,
   "metadata": {},
   "outputs": [],
   "source": [
    "## Transmitter parameters:\n",
    "paramTx = parameters()\n",
    "paramTx.M = 16                 # order of the modulation format\n",
    "paramTx.Rs = 32e9              # symbol rate [baud]\n",
    "paramTx.SpS = 4                # samples per symbol\n",
    "paramTx.Nbits = 400000         # total number of bits per polarization\n",
    "paramTx.pulse = \"rrc\"          # pulse shaping filter\n",
    "paramTx.Ntaps = 1024           # number of pulse shaping filter coefficients\n",
    "paramTx.alphaRRC = 0.05        # RRC rolloff\n",
    "paramTx.Pch_dBm = 0            # power of the optical signal [dBm]\n",
    "paramTx.Nch = 1                # number of WDM channels\n",
    "paramTx.Fc = 193.1e12          # central frequency of the optical spectrum\n",
    "paramTx.freqSpac = 37.5e9      # WDM grid spacing\n",
    "\n",
    "## Optical channel parameters:\n",
    "Ltotal = 100     # total link distance [km]\n",
    "alpha = 0        # fiber loss parameter [dB/km]\n",
    "D = 17           # fiber dispersion parameter [ps/nm/km]\n",
    "Fc = paramTx.Fc  # central optical frequency of the WDM spectrum [Hz]\n",
    "\n",
    "## Receiver parameters:\n",
    "\n",
    "# local oscillator (LO)\n",
    "FO = paramTx.Rs/2  # frequency offset\n",
    "lw = 0*200e3       # linewidth\n",
    "ϕ_lo = 0           # initial phase in rad\n",
    "#Plo_dBm = 12      # power in dBm\n",
    "\n",
    "# ADC sampling rate\n",
    "paramADC = parameters()\n",
    "paramADC.Rs = paramTx.Rs\n",
    "paramADC.SpS_in = paramTx.SpS\n",
    "paramADC.SpS_out = 4\n",
    "\n",
    "## General simulation parameters:\n",
    "chIndex = 0  # index of the channel to be demodulated\n",
    "plotPSD = True\n",
    "Fs = paramTx.Rs * paramTx.SpS  # simulation sampling rate\n",
    "Ts = 1 / Fs\n",
    "\n",
    "# photodiode parameters\n",
    "paramPD = parameters()\n",
    "paramPD.B  = 1.1*paramTx.Rs\n",
    "paramPD.Fs = Fs"
   ]
  },
  {
   "attachments": {},
   "cell_type": "markdown",
   "metadata": {},
   "source": [
    "## Run all CSPR variations in AWGN channel"
   ]
  },
  {
   "cell_type": "code",
   "execution_count": 5,
   "metadata": {},
   "outputs": [
    {
     "data": {
      "application/vnd.jupyter.widget-view+json": {
       "model_id": "c05715bf05af40c2ac822280ba859c7d",
       "version_major": 2,
       "version_minor": 0
      },
      "text/plain": [
       "  0%|          | 0/10 [00:00<?, ?it/s]"
      ]
     },
     "metadata": {},
     "output_type": "display_data"
    },
    {
     "data": {
      "application/vnd.jupyter.widget-view+json": {
       "model_id": "389bf832ef574a17ae2a1937e8a14ccc",
       "version_major": 2,
       "version_minor": 0
      },
      "text/plain": [
       "  0%|          | 0/10 [00:00<?, ?it/s]"
      ]
     },
     "metadata": {},
     "output_type": "display_data"
    },
    {
     "data": {
      "application/vnd.jupyter.widget-view+json": {
       "model_id": "01322bce4074447b938f045c9bb832b0",
       "version_major": 2,
       "version_minor": 0
      },
      "text/plain": [
       "  0%|          | 0/1 [00:00<?, ?it/s]"
      ]
     },
     "metadata": {},
     "output_type": "display_data"
    },
    {
     "name": "stdout",
     "output_type": "stream",
     "text": [
      "CSPR = 6.00 dB\n",
      "12500/12500 [==============================] - 77s 6ms/step\n",
      "Results:\n",
      "BER: 3.70e-02\n",
      "SNR: 11.52 dB\n",
      "SIR =  13.25  dB\n",
      "GMI: 3.44 bits\n",
      "\n"
     ]
    },
    {
     "data": {
      "application/vnd.jupyter.widget-view+json": {
       "model_id": "f2d774afbcf74ad983d243f7ac3f3a72",
       "version_major": 2,
       "version_minor": 0
      },
      "text/plain": [
       "  0%|          | 0/1 [00:00<?, ?it/s]"
      ]
     },
     "metadata": {},
     "output_type": "display_data"
    },
    {
     "name": "stdout",
     "output_type": "stream",
     "text": [
      "CSPR = 6.00 dB\n",
      "12500/12500 [==============================] - 73s 6ms/step\n",
      "Results:\n",
      "BER: 2.51e-02\n",
      "SNR: 12.38 dB\n",
      "SIR =  13.95  dB\n",
      "GMI: 3.60 bits\n",
      "\n"
     ]
    },
    {
     "data": {
      "application/vnd.jupyter.widget-view+json": {
       "model_id": "e9c34d4bfa1546169c0f842aa2ad07e7",
       "version_major": 2,
       "version_minor": 0
      },
      "text/plain": [
       "  0%|          | 0/1 [00:00<?, ?it/s]"
      ]
     },
     "metadata": {},
     "output_type": "display_data"
    },
    {
     "name": "stdout",
     "output_type": "stream",
     "text": [
      "CSPR = 6.00 dB\n",
      "12500/12500 [==============================] - 83s 7ms/step\n",
      "Results:\n",
      "BER: 1.65e-02\n",
      "SNR: 13.21 dB\n",
      "SIR =  14.63  dB\n",
      "GMI: 3.73 bits\n",
      "\n"
     ]
    },
    {
     "data": {
      "application/vnd.jupyter.widget-view+json": {
       "model_id": "66a14c2734ec441bbb3a9491b88e3896",
       "version_major": 2,
       "version_minor": 0
      },
      "text/plain": [
       "  0%|          | 0/1 [00:00<?, ?it/s]"
      ]
     },
     "metadata": {},
     "output_type": "display_data"
    },
    {
     "name": "stdout",
     "output_type": "stream",
     "text": [
      "CSPR = 6.00 dB\n",
      "12500/12500 [==============================] - 72s 6ms/step\n",
      "Results:\n",
      "BER: 1.07e-02\n",
      "SNR: 13.99 dB\n",
      "SIR =  15.26  dB\n",
      "GMI: 3.81 bits\n",
      "\n"
     ]
    },
    {
     "data": {
      "application/vnd.jupyter.widget-view+json": {
       "model_id": "2f57ecabac0147ed90c26ea58d512ff8",
       "version_major": 2,
       "version_minor": 0
      },
      "text/plain": [
       "  0%|          | 0/1 [00:00<?, ?it/s]"
      ]
     },
     "metadata": {},
     "output_type": "display_data"
    },
    {
     "name": "stdout",
     "output_type": "stream",
     "text": [
      "CSPR = 6.00 dB\n",
      "12500/12500 [==============================] - 76s 6ms/step\n",
      "Results:\n",
      "BER: 7.86e-03\n",
      "SNR: 14.61 dB\n",
      "SIR =  15.68  dB\n",
      "GMI: 3.84 bits\n",
      "\n"
     ]
    },
    {
     "data": {
      "application/vnd.jupyter.widget-view+json": {
       "model_id": "67c39abcf5074edb9672f38fd73acb56",
       "version_major": 2,
       "version_minor": 0
      },
      "text/plain": [
       "  0%|          | 0/1 [00:00<?, ?it/s]"
      ]
     },
     "metadata": {},
     "output_type": "display_data"
    },
    {
     "name": "stdout",
     "output_type": "stream",
     "text": [
      "CSPR = 6.00 dB\n",
      "12500/12500 [==============================] - 70s 6ms/step\n",
      "Results:\n",
      "BER: 4.87e-03\n",
      "SNR: 15.36 dB\n",
      "SIR =  16.23  dB\n",
      "GMI: 3.89 bits\n",
      "\n"
     ]
    },
    {
     "data": {
      "application/vnd.jupyter.widget-view+json": {
       "model_id": "360d43d0246c4b2ba4eea6410cb20fe6",
       "version_major": 2,
       "version_minor": 0
      },
      "text/plain": [
       "  0%|          | 0/1 [00:00<?, ?it/s]"
      ]
     },
     "metadata": {},
     "output_type": "display_data"
    },
    {
     "name": "stdout",
     "output_type": "stream",
     "text": [
      "CSPR = 6.00 dB\n",
      "12500/12500 [==============================] - 81s 6ms/step\n",
      "Results:\n",
      "BER: 3.70e-03\n",
      "SNR: 15.96 dB\n",
      "SIR =  16.67  dB\n",
      "GMI: 3.89 bits\n",
      "\n"
     ]
    },
    {
     "data": {
      "application/vnd.jupyter.widget-view+json": {
       "model_id": "a4c58472607c42c6a150895a09f8fdd3",
       "version_major": 2,
       "version_minor": 0
      },
      "text/plain": [
       "  0%|          | 0/1 [00:00<?, ?it/s]"
      ]
     },
     "metadata": {},
     "output_type": "display_data"
    },
    {
     "name": "stdout",
     "output_type": "stream",
     "text": [
      "CSPR = 6.00 dB\n",
      "12500/12500 [==============================] - 81s 6ms/step\n",
      "Results:\n",
      "BER: 2.91e-03\n",
      "SNR: 16.56 dB\n",
      "SIR =  17.11  dB\n",
      "GMI: 3.91 bits\n",
      "\n"
     ]
    },
    {
     "data": {
      "application/vnd.jupyter.widget-view+json": {
       "model_id": "b70825f18a0a468799e6c4c585068b76",
       "version_major": 2,
       "version_minor": 0
      },
      "text/plain": [
       "  0%|          | 0/1 [00:00<?, ?it/s]"
      ]
     },
     "metadata": {},
     "output_type": "display_data"
    },
    {
     "name": "stdout",
     "output_type": "stream",
     "text": [
      "CSPR = 6.00 dB\n",
      "12500/12500 [==============================] - 78s 6ms/step\n",
      "Results:\n",
      "BER: 2.13e-03\n",
      "SNR: 17.09 dB\n",
      "SIR =  17.44  dB\n",
      "GMI: 3.92 bits\n",
      "\n"
     ]
    },
    {
     "data": {
      "application/vnd.jupyter.widget-view+json": {
       "model_id": "b4cfded799df4de98c9034a7989b99b8",
       "version_major": 2,
       "version_minor": 0
      },
      "text/plain": [
       "  0%|          | 0/1 [00:00<?, ?it/s]"
      ]
     },
     "metadata": {},
     "output_type": "display_data"
    },
    {
     "name": "stdout",
     "output_type": "stream",
     "text": [
      "CSPR = 6.00 dB\n",
      "12500/12500 [==============================] - 77s 6ms/step\n",
      "Results:\n",
      "BER: 2.27e-03\n",
      "SNR: 17.49 dB\n",
      "SIR =  17.7  dB\n",
      "GMI: 3.90 bits\n",
      "\n"
     ]
    },
    {
     "data": {
      "application/vnd.jupyter.widget-view+json": {
       "model_id": "9dc26f5b70f84f98b7c324f14ed97644",
       "version_major": 2,
       "version_minor": 0
      },
      "text/plain": [
       "  0%|          | 0/10 [00:00<?, ?it/s]"
      ]
     },
     "metadata": {},
     "output_type": "display_data"
    },
    {
     "data": {
      "application/vnd.jupyter.widget-view+json": {
       "model_id": "2da119055df846e18e3d2e84d9f244ea",
       "version_major": 2,
       "version_minor": 0
      },
      "text/plain": [
       "  0%|          | 0/1 [00:00<?, ?it/s]"
      ]
     },
     "metadata": {},
     "output_type": "display_data"
    },
    {
     "name": "stdout",
     "output_type": "stream",
     "text": [
      "CSPR = 7.00 dB\n",
      "12500/12500 [==============================] - 77s 6ms/step\n",
      "Results:\n",
      "BER: 3.20e-02\n",
      "SNR: 11.85 dB\n",
      "SIR =  13.74  dB\n",
      "GMI: 3.52 bits\n",
      "\n"
     ]
    },
    {
     "data": {
      "application/vnd.jupyter.widget-view+json": {
       "model_id": "28089d52e1f24d72bd23a7926d2bd485",
       "version_major": 2,
       "version_minor": 0
      },
      "text/plain": [
       "  0%|          | 0/1 [00:00<?, ?it/s]"
      ]
     },
     "metadata": {},
     "output_type": "display_data"
    },
    {
     "name": "stdout",
     "output_type": "stream",
     "text": [
      "CSPR = 7.00 dB\n",
      "12500/12500 [==============================] - 82s 7ms/step\n",
      "Results:\n",
      "BER: 2.09e-02\n",
      "SNR: 12.72 dB\n",
      "SIR =  14.48  dB\n",
      "GMI: 3.67 bits\n",
      "\n"
     ]
    },
    {
     "data": {
      "application/vnd.jupyter.widget-view+json": {
       "model_id": "7e23adef72fc47ed9930500c0f91bfe7",
       "version_major": 2,
       "version_minor": 0
      },
      "text/plain": [
       "  0%|          | 0/1 [00:00<?, ?it/s]"
      ]
     },
     "metadata": {},
     "output_type": "display_data"
    },
    {
     "name": "stdout",
     "output_type": "stream",
     "text": [
      "CSPR = 7.00 dB\n",
      "12500/12500 [==============================] - 82s 7ms/step\n",
      "Results:\n",
      "BER: 1.31e-02\n",
      "SNR: 13.54 dB\n",
      "SIR =  15.11  dB\n",
      "GMI: 3.79 bits\n",
      "\n"
     ]
    },
    {
     "data": {
      "application/vnd.jupyter.widget-view+json": {
       "model_id": "9c3b3c7bec874579b6a3c2c5c7644a01",
       "version_major": 2,
       "version_minor": 0
      },
      "text/plain": [
       "  0%|          | 0/1 [00:00<?, ?it/s]"
      ]
     },
     "metadata": {},
     "output_type": "display_data"
    },
    {
     "name": "stdout",
     "output_type": "stream",
     "text": [
      "CSPR = 7.00 dB\n",
      "12500/12500 [==============================] - 86s 7ms/step\n",
      "Results:\n",
      "BER: 8.15e-03\n",
      "SNR: 14.30 dB\n",
      "SIR =  15.72  dB\n",
      "GMI: 3.86 bits\n",
      "\n"
     ]
    },
    {
     "data": {
      "application/vnd.jupyter.widget-view+json": {
       "model_id": "ed51403bcf66497f939d4286488648ae",
       "version_major": 2,
       "version_minor": 0
      },
      "text/plain": [
       "  0%|          | 0/1 [00:00<?, ?it/s]"
      ]
     },
     "metadata": {},
     "output_type": "display_data"
    },
    {
     "name": "stdout",
     "output_type": "stream",
     "text": [
      "CSPR = 7.00 dB\n",
      "12500/12500 [==============================] - 83s 7ms/step\n",
      "Results:\n",
      "BER: 4.51e-03\n",
      "SNR: 15.11 dB\n",
      "SIR =  16.33  dB\n",
      "GMI: 3.92 bits\n",
      "\n"
     ]
    },
    {
     "data": {
      "application/vnd.jupyter.widget-view+json": {
       "model_id": "fef540732aed403ba65aa70d483188fe",
       "version_major": 2,
       "version_minor": 0
      },
      "text/plain": [
       "  0%|          | 0/1 [00:00<?, ?it/s]"
      ]
     },
     "metadata": {},
     "output_type": "display_data"
    },
    {
     "name": "stdout",
     "output_type": "stream",
     "text": [
      "CSPR = 7.00 dB\n",
      "12500/12500 [==============================] - 83s 7ms/step\n",
      "Results:\n",
      "BER: 2.79e-03\n",
      "SNR: 15.81 dB\n",
      "SIR =  16.82  dB\n",
      "GMI: 3.95 bits\n",
      "\n"
     ]
    },
    {
     "data": {
      "application/vnd.jupyter.widget-view+json": {
       "model_id": "7e71680634ed4beaad1d286bb0a9c219",
       "version_major": 2,
       "version_minor": 0
      },
      "text/plain": [
       "  0%|          | 0/1 [00:00<?, ?it/s]"
      ]
     },
     "metadata": {},
     "output_type": "display_data"
    },
    {
     "name": "stdout",
     "output_type": "stream",
     "text": [
      "CSPR = 7.00 dB\n",
      "12500/12500 [==============================] - 84s 7ms/step\n",
      "Results:\n",
      "BER: 1.80e-03\n",
      "SNR: 16.41 dB\n",
      "SIR =  17.17  dB\n",
      "GMI: 3.96 bits\n",
      "\n"
     ]
    },
    {
     "data": {
      "application/vnd.jupyter.widget-view+json": {
       "model_id": "8b6fce5bdb964c66b29e06949d28fe46",
       "version_major": 2,
       "version_minor": 0
      },
      "text/plain": [
       "  0%|          | 0/1 [00:00<?, ?it/s]"
      ]
     },
     "metadata": {},
     "output_type": "display_data"
    },
    {
     "name": "stdout",
     "output_type": "stream",
     "text": [
      "CSPR = 7.00 dB\n",
      "12500/12500 [==============================] - 83s 7ms/step\n",
      "Results:\n",
      "BER: 1.17e-03\n",
      "SNR: 17.02 dB\n",
      "SIR =  17.54  dB\n",
      "GMI: 3.97 bits\n",
      "\n"
     ]
    },
    {
     "data": {
      "application/vnd.jupyter.widget-view+json": {
       "model_id": "c794207f34d841489436a122bdf46e92",
       "version_major": 2,
       "version_minor": 0
      },
      "text/plain": [
       "  0%|          | 0/1 [00:00<?, ?it/s]"
      ]
     },
     "metadata": {},
     "output_type": "display_data"
    },
    {
     "name": "stdout",
     "output_type": "stream",
     "text": [
      "CSPR = 7.00 dB\n",
      "12500/12500 [==============================] - 81s 6ms/step\n",
      "Results:\n",
      "BER: 7.22e-04\n",
      "SNR: 17.60 dB\n",
      "SIR =  17.95  dB\n",
      "GMI: 3.98 bits\n",
      "\n"
     ]
    },
    {
     "data": {
      "application/vnd.jupyter.widget-view+json": {
       "model_id": "5e197a85ad76462bbb03c3b15f0fe7f3",
       "version_major": 2,
       "version_minor": 0
      },
      "text/plain": [
       "  0%|          | 0/1 [00:00<?, ?it/s]"
      ]
     },
     "metadata": {},
     "output_type": "display_data"
    },
    {
     "name": "stdout",
     "output_type": "stream",
     "text": [
      "CSPR = 7.00 dB\n",
      "12500/12500 [==============================] - 83s 7ms/step\n",
      "Results:\n",
      "BER: 5.97e-04\n",
      "SNR: 18.07 dB\n",
      "SIR =  18.22  dB\n",
      "GMI: 3.98 bits\n",
      "\n"
     ]
    },
    {
     "data": {
      "application/vnd.jupyter.widget-view+json": {
       "model_id": "e08dc9a3f811403986da92e0340abbc2",
       "version_major": 2,
       "version_minor": 0
      },
      "text/plain": [
       "  0%|          | 0/10 [00:00<?, ?it/s]"
      ]
     },
     "metadata": {},
     "output_type": "display_data"
    },
    {
     "data": {
      "application/vnd.jupyter.widget-view+json": {
       "model_id": "438d3abb8a6d4bd0b28d829a81af9724",
       "version_major": 2,
       "version_minor": 0
      },
      "text/plain": [
       "  0%|          | 0/1 [00:00<?, ?it/s]"
      ]
     },
     "metadata": {},
     "output_type": "display_data"
    },
    {
     "name": "stdout",
     "output_type": "stream",
     "text": [
      "CSPR = 8.00 dB\n",
      "12500/12500 [==============================] - 81s 6ms/step\n",
      "Results:\n",
      "BER: 2.85e-02\n",
      "SNR: 12.10 dB\n",
      "SIR =  14.07  dB\n",
      "GMI: 3.57 bits\n",
      "\n"
     ]
    },
    {
     "data": {
      "application/vnd.jupyter.widget-view+json": {
       "model_id": "0876202864bf4822ba86054a549074c3",
       "version_major": 2,
       "version_minor": 0
      },
      "text/plain": [
       "  0%|          | 0/1 [00:00<?, ?it/s]"
      ]
     },
     "metadata": {},
     "output_type": "display_data"
    },
    {
     "name": "stdout",
     "output_type": "stream",
     "text": [
      "CSPR = 8.00 dB\n",
      "12500/12500 [==============================] - 83s 7ms/step\n",
      "Results:\n",
      "BER: 1.80e-02\n",
      "SNR: 12.95 dB\n",
      "SIR =  14.78  dB\n",
      "GMI: 3.72 bits\n",
      "\n"
     ]
    },
    {
     "data": {
      "application/vnd.jupyter.widget-view+json": {
       "model_id": "4fa03ec2a6f243cea014cbb99e8a7456",
       "version_major": 2,
       "version_minor": 0
      },
      "text/plain": [
       "  0%|          | 0/1 [00:00<?, ?it/s]"
      ]
     },
     "metadata": {},
     "output_type": "display_data"
    },
    {
     "name": "stdout",
     "output_type": "stream",
     "text": [
      "CSPR = 8.00 dB\n",
      "12500/12500 [==============================] - 83s 7ms/step\n",
      "Results:\n",
      "BER: 1.11e-02\n",
      "SNR: 13.78 dB\n",
      "SIR =  15.42  dB\n",
      "GMI: 3.82 bits\n",
      "\n"
     ]
    },
    {
     "data": {
      "application/vnd.jupyter.widget-view+json": {
       "model_id": "ea6ac3098888452b8020e40371342a17",
       "version_major": 2,
       "version_minor": 0
      },
      "text/plain": [
       "  0%|          | 0/1 [00:00<?, ?it/s]"
      ]
     },
     "metadata": {},
     "output_type": "display_data"
    },
    {
     "name": "stdout",
     "output_type": "stream",
     "text": [
      "CSPR = 8.00 dB\n",
      "12500/12500 [==============================] - 80s 6ms/step\n",
      "Results:\n",
      "BER: 6.67e-03\n",
      "SNR: 14.52 dB\n",
      "SIR =  15.96  dB\n",
      "GMI: 3.89 bits\n",
      "\n"
     ]
    },
    {
     "data": {
      "application/vnd.jupyter.widget-view+json": {
       "model_id": "77aa49b7c14941d9ae78473a17a0cd28",
       "version_major": 2,
       "version_minor": 0
      },
      "text/plain": [
       "  0%|          | 0/1 [00:00<?, ?it/s]"
      ]
     },
     "metadata": {},
     "output_type": "display_data"
    },
    {
     "name": "stdout",
     "output_type": "stream",
     "text": [
      "CSPR = 8.00 dB\n",
      "12500/12500 [==============================] - 81s 6ms/step\n",
      "Results:\n",
      "BER: 3.78e-03\n",
      "SNR: 15.32 dB\n",
      "SIR =  16.57  dB\n",
      "GMI: 3.93 bits\n",
      "\n"
     ]
    },
    {
     "data": {
      "application/vnd.jupyter.widget-view+json": {
       "model_id": "03bc67dd825c40688ba18644799902f7",
       "version_major": 2,
       "version_minor": 0
      },
      "text/plain": [
       "  0%|          | 0/1 [00:00<?, ?it/s]"
      ]
     },
     "metadata": {},
     "output_type": "display_data"
    },
    {
     "name": "stdout",
     "output_type": "stream",
     "text": [
      "CSPR = 8.00 dB\n",
      "12500/12500 [==============================] - 83s 7ms/step\n",
      "Results:\n",
      "BER: 1.72e-03\n",
      "SNR: 16.06 dB\n",
      "SIR =  17.1  dB\n",
      "GMI: 3.97 bits\n",
      "\n"
     ]
    },
    {
     "data": {
      "application/vnd.jupyter.widget-view+json": {
       "model_id": "d3ae401d06014d43baff5779e1d1956c",
       "version_major": 2,
       "version_minor": 0
      },
      "text/plain": [
       "  0%|          | 0/1 [00:00<?, ?it/s]"
      ]
     },
     "metadata": {},
     "output_type": "display_data"
    },
    {
     "name": "stdout",
     "output_type": "stream",
     "text": [
      "CSPR = 8.00 dB\n",
      "12500/12500 [==============================] - 81s 6ms/step\n",
      "Results:\n",
      "BER: 1.04e-03\n",
      "SNR: 16.70 dB\n",
      "SIR =  17.5  dB\n",
      "GMI: 3.98 bits\n",
      "\n"
     ]
    },
    {
     "data": {
      "application/vnd.jupyter.widget-view+json": {
       "model_id": "b76c2c5dc21e4731a216aaa353a1bc2c",
       "version_major": 2,
       "version_minor": 0
      },
      "text/plain": [
       "  0%|          | 0/1 [00:00<?, ?it/s]"
      ]
     },
     "metadata": {},
     "output_type": "display_data"
    },
    {
     "name": "stdout",
     "output_type": "stream",
     "text": [
      "CSPR = 8.00 dB\n",
      "12500/12500 [==============================] - 80s 6ms/step\n",
      "Results:\n",
      "BER: 5.66e-04\n",
      "SNR: 17.35 dB\n",
      "SIR =  17.94  dB\n",
      "GMI: 3.99 bits\n",
      "\n"
     ]
    },
    {
     "data": {
      "application/vnd.jupyter.widget-view+json": {
       "model_id": "f341b0e954fc4dd9a6a37c4d61f84280",
       "version_major": 2,
       "version_minor": 0
      },
      "text/plain": [
       "  0%|          | 0/1 [00:00<?, ?it/s]"
      ]
     },
     "metadata": {},
     "output_type": "display_data"
    },
    {
     "name": "stdout",
     "output_type": "stream",
     "text": [
      "CSPR = 8.00 dB\n",
      "12500/12500 [==============================] - 78s 6ms/step\n",
      "Results:\n",
      "BER: 3.38e-04\n",
      "SNR: 17.84 dB\n",
      "SIR =  18.17  dB\n",
      "GMI: 3.99 bits\n",
      "\n"
     ]
    },
    {
     "data": {
      "application/vnd.jupyter.widget-view+json": {
       "model_id": "4b0194625b2941e2886dd8b9f050c958",
       "version_major": 2,
       "version_minor": 0
      },
      "text/plain": [
       "  0%|          | 0/1 [00:00<?, ?it/s]"
      ]
     },
     "metadata": {},
     "output_type": "display_data"
    },
    {
     "name": "stdout",
     "output_type": "stream",
     "text": [
      "CSPR = 8.00 dB\n",
      "12500/12500 [==============================] - 78s 6ms/step\n",
      "Results:\n",
      "BER: 2.00e-04\n",
      "SNR: 18.32 dB\n",
      "SIR =  18.51  dB\n",
      "GMI: 4.00 bits\n",
      "\n"
     ]
    },
    {
     "data": {
      "application/vnd.jupyter.widget-view+json": {
       "model_id": "78e9cecbf3ff4b6a89454a2be26d3186",
       "version_major": 2,
       "version_minor": 0
      },
      "text/plain": [
       "  0%|          | 0/10 [00:00<?, ?it/s]"
      ]
     },
     "metadata": {},
     "output_type": "display_data"
    },
    {
     "data": {
      "application/vnd.jupyter.widget-view+json": {
       "model_id": "65ee042a36094c38a971b0e584ea01e4",
       "version_major": 2,
       "version_minor": 0
      },
      "text/plain": [
       "  0%|          | 0/1 [00:00<?, ?it/s]"
      ]
     },
     "metadata": {},
     "output_type": "display_data"
    },
    {
     "name": "stdout",
     "output_type": "stream",
     "text": [
      "CSPR = 9.00 dB\n",
      "12500/12500 [==============================] - 78s 6ms/step\n",
      "Results:\n",
      "BER: 2.62e-02\n",
      "SNR: 12.25 dB\n",
      "SIR =  14.35  dB\n",
      "GMI: 3.60 bits\n",
      "\n"
     ]
    },
    {
     "data": {
      "application/vnd.jupyter.widget-view+json": {
       "model_id": "6d3f0162685242bcaf64dfd4d70b78ee",
       "version_major": 2,
       "version_minor": 0
      },
      "text/plain": [
       "  0%|          | 0/1 [00:00<?, ?it/s]"
      ]
     },
     "metadata": {},
     "output_type": "display_data"
    },
    {
     "name": "stdout",
     "output_type": "stream",
     "text": [
      "CSPR = 9.00 dB\n",
      "12500/12500 [==============================] - 80s 6ms/step\n",
      "Results:\n",
      "BER: 1.62e-02\n",
      "SNR: 13.14 dB\n",
      "SIR =  15.1  dB\n",
      "GMI: 3.75 bits\n",
      "\n"
     ]
    },
    {
     "data": {
      "application/vnd.jupyter.widget-view+json": {
       "model_id": "39acf1fedf4040d4a16315e87b0c45ed",
       "version_major": 2,
       "version_minor": 0
      },
      "text/plain": [
       "  0%|          | 0/1 [00:00<?, ?it/s]"
      ]
     },
     "metadata": {},
     "output_type": "display_data"
    },
    {
     "name": "stdout",
     "output_type": "stream",
     "text": [
      "CSPR = 9.00 dB\n",
      "12500/12500 [==============================] - 85s 7ms/step\n",
      "Results:\n",
      "BER: 9.98e-03\n",
      "SNR: 13.94 dB\n",
      "SIR =  15.68  dB\n",
      "GMI: 3.84 bits\n",
      "\n"
     ]
    },
    {
     "data": {
      "application/vnd.jupyter.widget-view+json": {
       "model_id": "2bd552d8e9f3477aa61d4149bf70cb44",
       "version_major": 2,
       "version_minor": 0
      },
      "text/plain": [
       "  0%|          | 0/1 [00:00<?, ?it/s]"
      ]
     },
     "metadata": {},
     "output_type": "display_data"
    },
    {
     "name": "stdout",
     "output_type": "stream",
     "text": [
      "CSPR = 9.00 dB\n",
      "12500/12500 [==============================] - 82s 7ms/step\n",
      "Results:\n",
      "BER: 5.35e-03\n",
      "SNR: 14.79 dB\n",
      "SIR =  16.28  dB\n",
      "GMI: 3.91 bits\n",
      "\n"
     ]
    },
    {
     "data": {
      "application/vnd.jupyter.widget-view+json": {
       "model_id": "bd0251527c2342dfa338852ae41b57ec",
       "version_major": 2,
       "version_minor": 0
      },
      "text/plain": [
       "  0%|          | 0/1 [00:00<?, ?it/s]"
      ]
     },
     "metadata": {},
     "output_type": "display_data"
    },
    {
     "name": "stdout",
     "output_type": "stream",
     "text": [
      "CSPR = 9.00 dB\n",
      "12500/12500 [==============================] - 82s 7ms/step\n",
      "Results:\n",
      "BER: 2.81e-03\n",
      "SNR: 15.54 dB\n",
      "SIR =  16.82  dB\n",
      "GMI: 3.95 bits\n",
      "\n"
     ]
    },
    {
     "data": {
      "application/vnd.jupyter.widget-view+json": {
       "model_id": "8b7bac357cf4450eb1b39df452f6d3e2",
       "version_major": 2,
       "version_minor": 0
      },
      "text/plain": [
       "  0%|          | 0/1 [00:00<?, ?it/s]"
      ]
     },
     "metadata": {},
     "output_type": "display_data"
    },
    {
     "name": "stdout",
     "output_type": "stream",
     "text": [
      "CSPR = 9.00 dB\n",
      "12500/12500 [==============================] - 81s 6ms/step\n",
      "Results:\n",
      "BER: 1.51e-03\n",
      "SNR: 16.31 dB\n",
      "SIR =  17.41  dB\n",
      "GMI: 3.97 bits\n",
      "\n"
     ]
    },
    {
     "data": {
      "application/vnd.jupyter.widget-view+json": {
       "model_id": "e7a3caad0b364f12affd4dc2ee0eae95",
       "version_major": 2,
       "version_minor": 0
      },
      "text/plain": [
       "  0%|          | 0/1 [00:00<?, ?it/s]"
      ]
     },
     "metadata": {},
     "output_type": "display_data"
    },
    {
     "name": "stdout",
     "output_type": "stream",
     "text": [
      "CSPR = 9.00 dB\n",
      "12500/12500 [==============================] - 84s 7ms/step\n",
      "Results:\n",
      "BER: 6.84e-04\n",
      "SNR: 16.93 dB\n",
      "SIR =  17.79  dB\n",
      "GMI: 3.99 bits\n",
      "\n"
     ]
    },
    {
     "data": {
      "application/vnd.jupyter.widget-view+json": {
       "model_id": "65e98a7db3b1466d8771650cf6423698",
       "version_major": 2,
       "version_minor": 0
      },
      "text/plain": [
       "  0%|          | 0/1 [00:00<?, ?it/s]"
      ]
     },
     "metadata": {},
     "output_type": "display_data"
    },
    {
     "name": "stdout",
     "output_type": "stream",
     "text": [
      "CSPR = 9.00 dB\n",
      "12500/12500 [==============================] - 84s 7ms/step\n",
      "Results:\n",
      "BER: 3.38e-04\n",
      "SNR: 17.51 dB\n",
      "SIR =  18.17  dB\n",
      "GMI: 3.99 bits\n",
      "\n"
     ]
    },
    {
     "data": {
      "application/vnd.jupyter.widget-view+json": {
       "model_id": "64a5c4351e3a4cf2bf32001ae4a121a2",
       "version_major": 2,
       "version_minor": 0
      },
      "text/plain": [
       "  0%|          | 0/1 [00:00<?, ?it/s]"
      ]
     },
     "metadata": {},
     "output_type": "display_data"
    },
    {
     "name": "stdout",
     "output_type": "stream",
     "text": [
      "CSPR = 9.00 dB\n",
      "12500/12500 [==============================] - 84s 7ms/step\n",
      "Results:\n",
      "BER: 1.84e-04\n",
      "SNR: 18.09 dB\n",
      "SIR =  18.52  dB\n",
      "GMI: 4.00 bits\n",
      "\n"
     ]
    },
    {
     "data": {
      "application/vnd.jupyter.widget-view+json": {
       "model_id": "d60ab6838c76457e8aae35c9b0a6ff78",
       "version_major": 2,
       "version_minor": 0
      },
      "text/plain": [
       "  0%|          | 0/1 [00:00<?, ?it/s]"
      ]
     },
     "metadata": {},
     "output_type": "display_data"
    },
    {
     "name": "stdout",
     "output_type": "stream",
     "text": [
      "CSPR = 9.00 dB\n",
      "12500/12500 [==============================] - 82s 6ms/step\n",
      "Results:\n",
      "BER: 9.69e-05\n",
      "SNR: 18.58 dB\n",
      "SIR =  18.77  dB\n",
      "GMI: 4.00 bits\n",
      "\n"
     ]
    },
    {
     "data": {
      "application/vnd.jupyter.widget-view+json": {
       "model_id": "b92dfeb1ad8e418bb61b276157cc7e27",
       "version_major": 2,
       "version_minor": 0
      },
      "text/plain": [
       "  0%|          | 0/10 [00:00<?, ?it/s]"
      ]
     },
     "metadata": {},
     "output_type": "display_data"
    },
    {
     "data": {
      "application/vnd.jupyter.widget-view+json": {
       "model_id": "327e1f1740c540a4b3213bbcbe193d15",
       "version_major": 2,
       "version_minor": 0
      },
      "text/plain": [
       "  0%|          | 0/1 [00:00<?, ?it/s]"
      ]
     },
     "metadata": {},
     "output_type": "display_data"
    },
    {
     "name": "stdout",
     "output_type": "stream",
     "text": [
      "CSPR = 10.00 dB\n",
      "12500/12500 [==============================] - 83s 7ms/step\n",
      "Results:\n",
      "BER: 2.42e-02\n",
      "SNR: 12.41 dB\n",
      "SIR =  14.55  dB\n",
      "GMI: 3.64 bits\n",
      "\n"
     ]
    },
    {
     "data": {
      "application/vnd.jupyter.widget-view+json": {
       "model_id": "5ec28899a28a44bc9a73d75ee80911ae",
       "version_major": 2,
       "version_minor": 0
      },
      "text/plain": [
       "  0%|          | 0/1 [00:00<?, ?it/s]"
      ]
     },
     "metadata": {},
     "output_type": "display_data"
    },
    {
     "name": "stdout",
     "output_type": "stream",
     "text": [
      "CSPR = 10.00 dB\n",
      "12500/12500 [==============================] - 68s 5ms/step\n",
      "Results:\n",
      "BER: 1.51e-02\n",
      "SNR: 13.26 dB\n",
      "SIR =  15.28  dB\n",
      "GMI: 3.76 bits\n",
      "\n"
     ]
    },
    {
     "data": {
      "application/vnd.jupyter.widget-view+json": {
       "model_id": "b52affef79c74f1d94201500756bc11a",
       "version_major": 2,
       "version_minor": 0
      },
      "text/plain": [
       "  0%|          | 0/1 [00:00<?, ?it/s]"
      ]
     },
     "metadata": {},
     "output_type": "display_data"
    },
    {
     "name": "stdout",
     "output_type": "stream",
     "text": [
      "CSPR = 10.00 dB\n",
      "12500/12500 [==============================] - 76s 6ms/step\n",
      "Results:\n",
      "BER: 8.88e-03\n",
      "SNR: 14.13 dB\n",
      "SIR =  15.92  dB\n",
      "GMI: 3.86 bits\n",
      "\n"
     ]
    },
    {
     "data": {
      "application/vnd.jupyter.widget-view+json": {
       "model_id": "2ad141d611d143dca3e333efd4505935",
       "version_major": 2,
       "version_minor": 0
      },
      "text/plain": [
       "  0%|          | 0/1 [00:00<?, ?it/s]"
      ]
     },
     "metadata": {},
     "output_type": "display_data"
    },
    {
     "name": "stdout",
     "output_type": "stream",
     "text": [
      "CSPR = 10.00 dB\n",
      "12500/12500 [==============================] - 72s 6ms/step\n",
      "Results:\n",
      "BER: 4.98e-03\n",
      "SNR: 14.94 dB\n",
      "SIR =  16.45  dB\n",
      "GMI: 3.92 bits\n",
      "\n"
     ]
    },
    {
     "data": {
      "application/vnd.jupyter.widget-view+json": {
       "model_id": "072358ba2df34ef1b7a70a9bdffe688c",
       "version_major": 2,
       "version_minor": 0
      },
      "text/plain": [
       "  0%|          | 0/1 [00:00<?, ?it/s]"
      ]
     },
     "metadata": {},
     "output_type": "display_data"
    },
    {
     "name": "stdout",
     "output_type": "stream",
     "text": [
      "CSPR = 10.00 dB\n",
      "12500/12500 [==============================] - 75s 6ms/step\n",
      "Results:\n",
      "BER: 2.63e-03\n",
      "SNR: 15.69 dB\n",
      "SIR =  17.06  dB\n",
      "GMI: 3.96 bits\n",
      "\n"
     ]
    },
    {
     "data": {
      "application/vnd.jupyter.widget-view+json": {
       "model_id": "b57b3721a72b47268709a4d37374ad2d",
       "version_major": 2,
       "version_minor": 0
      },
      "text/plain": [
       "  0%|          | 0/1 [00:00<?, ?it/s]"
      ]
     },
     "metadata": {},
     "output_type": "display_data"
    },
    {
     "name": "stdout",
     "output_type": "stream",
     "text": [
      "CSPR = 10.00 dB\n",
      "12500/12500 [==============================] - 73s 6ms/step\n",
      "Results:\n",
      "BER: 1.21e-03\n",
      "SNR: 16.39 dB\n",
      "SIR =  17.55  dB\n",
      "GMI: 3.98 bits\n",
      "\n"
     ]
    },
    {
     "data": {
      "application/vnd.jupyter.widget-view+json": {
       "model_id": "d1b6e3361aa54c54a710cf092572bd86",
       "version_major": 2,
       "version_minor": 0
      },
      "text/plain": [
       "  0%|          | 0/1 [00:00<?, ?it/s]"
      ]
     },
     "metadata": {},
     "output_type": "display_data"
    },
    {
     "name": "stdout",
     "output_type": "stream",
     "text": [
      "CSPR = 10.00 dB\n",
      "12500/12500 [==============================] - 80s 6ms/step\n",
      "Results:\n",
      "BER: 6.25e-04\n",
      "SNR: 17.02 dB\n",
      "SIR =  17.89  dB\n",
      "GMI: 3.99 bits\n",
      "\n"
     ]
    },
    {
     "data": {
      "application/vnd.jupyter.widget-view+json": {
       "model_id": "740b528d3181455ca9d50aeb6e6fa4b3",
       "version_major": 2,
       "version_minor": 0
      },
      "text/plain": [
       "  0%|          | 0/1 [00:00<?, ?it/s]"
      ]
     },
     "metadata": {},
     "output_type": "display_data"
    },
    {
     "name": "stdout",
     "output_type": "stream",
     "text": [
      "CSPR = 10.00 dB\n",
      "12500/12500 [==============================] - 87s 7ms/step\n",
      "Results:\n",
      "BER: 2.62e-04\n",
      "SNR: 17.67 dB\n",
      "SIR =  18.34  dB\n",
      "GMI: 4.00 bits\n",
      "\n"
     ]
    },
    {
     "data": {
      "application/vnd.jupyter.widget-view+json": {
       "model_id": "f3164bf507734e23b0926eaeca0c74ec",
       "version_major": 2,
       "version_minor": 0
      },
      "text/plain": [
       "  0%|          | 0/1 [00:00<?, ?it/s]"
      ]
     },
     "metadata": {},
     "output_type": "display_data"
    },
    {
     "name": "stdout",
     "output_type": "stream",
     "text": [
      "CSPR = 10.00 dB\n",
      "12500/12500 [==============================] - 85s 7ms/step\n",
      "Results:\n",
      "BER: 1.00e-04\n",
      "SNR: 18.20 dB\n",
      "SIR =  18.66  dB\n",
      "GMI: 4.00 bits\n",
      "\n"
     ]
    },
    {
     "data": {
      "application/vnd.jupyter.widget-view+json": {
       "model_id": "41af679e9ab949469c151e01e5957a2d",
       "version_major": 2,
       "version_minor": 0
      },
      "text/plain": [
       "  0%|          | 0/1 [00:00<?, ?it/s]"
      ]
     },
     "metadata": {},
     "output_type": "display_data"
    },
    {
     "name": "stdout",
     "output_type": "stream",
     "text": [
      "CSPR = 10.00 dB\n",
      "12500/12500 [==============================] - 82s 7ms/step\n",
      "Results:\n",
      "BER: 5.62e-05\n",
      "SNR: 18.75 dB\n",
      "SIR =  18.93  dB\n",
      "GMI: 4.00 bits\n",
      "\n"
     ]
    },
    {
     "data": {
      "application/vnd.jupyter.widget-view+json": {
       "model_id": "68033637e1f14088bf4578f6639163bc",
       "version_major": 2,
       "version_minor": 0
      },
      "text/plain": [
       "  0%|          | 0/10 [00:00<?, ?it/s]"
      ]
     },
     "metadata": {},
     "output_type": "display_data"
    },
    {
     "data": {
      "application/vnd.jupyter.widget-view+json": {
       "model_id": "ca05c927e5094f8b91cf910fe9ef0461",
       "version_major": 2,
       "version_minor": 0
      },
      "text/plain": [
       "  0%|          | 0/1 [00:00<?, ?it/s]"
      ]
     },
     "metadata": {},
     "output_type": "display_data"
    },
    {
     "name": "stdout",
     "output_type": "stream",
     "text": [
      "CSPR = 11.00 dB\n",
      "12500/12500 [==============================] - 84s 7ms/step\n",
      "Results:\n",
      "BER: 2.35e-02\n",
      "SNR: 12.51 dB\n",
      "SIR =  14.69  dB\n",
      "GMI: 3.64 bits\n",
      "\n"
     ]
    },
    {
     "data": {
      "application/vnd.jupyter.widget-view+json": {
       "model_id": "fa594777f73440ccaa2110bf36f4ac30",
       "version_major": 2,
       "version_minor": 0
      },
      "text/plain": [
       "  0%|          | 0/1 [00:00<?, ?it/s]"
      ]
     },
     "metadata": {},
     "output_type": "display_data"
    },
    {
     "name": "stdout",
     "output_type": "stream",
     "text": [
      "CSPR = 11.00 dB\n",
      "12500/12500 [==============================] - 84s 7ms/step\n",
      "Results:\n",
      "BER: 1.50e-02\n",
      "SNR: 13.33 dB\n",
      "SIR =  15.37  dB\n",
      "GMI: 3.77 bits\n",
      "\n"
     ]
    },
    {
     "data": {
      "application/vnd.jupyter.widget-view+json": {
       "model_id": "1cfaa4ad4b3246ee8c3a40a7542d8021",
       "version_major": 2,
       "version_minor": 0
      },
      "text/plain": [
       "  0%|          | 0/1 [00:00<?, ?it/s]"
      ]
     },
     "metadata": {},
     "output_type": "display_data"
    },
    {
     "name": "stdout",
     "output_type": "stream",
     "text": [
      "CSPR = 11.00 dB\n",
      "12500/12500 [==============================] - 84s 7ms/step\n",
      "Results:\n",
      "BER: 8.90e-03\n",
      "SNR: 14.19 dB\n",
      "SIR =  16.01  dB\n",
      "GMI: 3.86 bits\n",
      "\n"
     ]
    },
    {
     "data": {
      "application/vnd.jupyter.widget-view+json": {
       "model_id": "2cb34904dcec45a7b186678648808930",
       "version_major": 2,
       "version_minor": 0
      },
      "text/plain": [
       "  0%|          | 0/1 [00:00<?, ?it/s]"
      ]
     },
     "metadata": {},
     "output_type": "display_data"
    },
    {
     "name": "stdout",
     "output_type": "stream",
     "text": [
      "CSPR = 11.00 dB\n",
      "12500/12500 [==============================] - 85s 7ms/step\n",
      "Results:\n",
      "BER: 4.70e-03\n",
      "SNR: 15.00 dB\n",
      "SIR =  16.62  dB\n",
      "GMI: 3.92 bits\n",
      "\n"
     ]
    },
    {
     "data": {
      "application/vnd.jupyter.widget-view+json": {
       "model_id": "283c7d5f4131446db4ea5a984881c96b",
       "version_major": 2,
       "version_minor": 0
      },
      "text/plain": [
       "  0%|          | 0/1 [00:00<?, ?it/s]"
      ]
     },
     "metadata": {},
     "output_type": "display_data"
    },
    {
     "name": "stdout",
     "output_type": "stream",
     "text": [
      "CSPR = 11.00 dB\n",
      "12500/12500 [==============================] - 84s 7ms/step\n",
      "Results:\n",
      "BER: 2.33e-03\n",
      "SNR: 15.75 dB\n",
      "SIR =  17.12  dB\n",
      "GMI: 3.96 bits\n",
      "\n"
     ]
    },
    {
     "data": {
      "application/vnd.jupyter.widget-view+json": {
       "model_id": "9d666b09de5241c7aa99e94989559084",
       "version_major": 2,
       "version_minor": 0
      },
      "text/plain": [
       "  0%|          | 0/1 [00:00<?, ?it/s]"
      ]
     },
     "metadata": {},
     "output_type": "display_data"
    },
    {
     "name": "stdout",
     "output_type": "stream",
     "text": [
      "CSPR = 11.00 dB\n",
      "12500/12500 [==============================] - 84s 7ms/step\n",
      "Results:\n",
      "BER: 1.09e-03\n",
      "SNR: 16.49 dB\n",
      "SIR =  17.59  dB\n",
      "GMI: 3.98 bits\n",
      "\n"
     ]
    },
    {
     "data": {
      "application/vnd.jupyter.widget-view+json": {
       "model_id": "af830e38e1a94e92b19eba099eb7656e",
       "version_major": 2,
       "version_minor": 0
      },
      "text/plain": [
       "  0%|          | 0/1 [00:00<?, ?it/s]"
      ]
     },
     "metadata": {},
     "output_type": "display_data"
    },
    {
     "name": "stdout",
     "output_type": "stream",
     "text": [
      "CSPR = 11.00 dB\n",
      "12500/12500 [==============================] - 83s 7ms/step\n",
      "Results:\n",
      "BER: 4.75e-04\n",
      "SNR: 17.17 dB\n",
      "SIR =  18.08  dB\n",
      "GMI: 3.99 bits\n",
      "\n"
     ]
    },
    {
     "data": {
      "application/vnd.jupyter.widget-view+json": {
       "model_id": "dce552a18d724f4e975f1b2298d94a29",
       "version_major": 2,
       "version_minor": 0
      },
      "text/plain": [
       "  0%|          | 0/1 [00:00<?, ?it/s]"
      ]
     },
     "metadata": {},
     "output_type": "display_data"
    },
    {
     "name": "stdout",
     "output_type": "stream",
     "text": [
      "CSPR = 11.00 dB\n",
      "12500/12500 [==============================] - 84s 7ms/step\n",
      "Results:\n",
      "BER: 1.84e-04\n",
      "SNR: 17.87 dB\n",
      "SIR =  18.55  dB\n",
      "GMI: 4.00 bits\n",
      "\n"
     ]
    },
    {
     "data": {
      "application/vnd.jupyter.widget-view+json": {
       "model_id": "f19641aa5f014ea3a12471bda57f4c71",
       "version_major": 2,
       "version_minor": 0
      },
      "text/plain": [
       "  0%|          | 0/1 [00:00<?, ?it/s]"
      ]
     },
     "metadata": {},
     "output_type": "display_data"
    },
    {
     "name": "stdout",
     "output_type": "stream",
     "text": [
      "CSPR = 11.00 dB\n",
      "12500/12500 [==============================] - 80s 6ms/step\n",
      "Results:\n",
      "BER: 9.38e-05\n",
      "SNR: 18.30 dB\n",
      "SIR =  18.72  dB\n",
      "GMI: 4.00 bits\n",
      "\n"
     ]
    },
    {
     "data": {
      "application/vnd.jupyter.widget-view+json": {
       "model_id": "83756681253b48ddb82aa2f4f27f7956",
       "version_major": 2,
       "version_minor": 0
      },
      "text/plain": [
       "  0%|          | 0/1 [00:00<?, ?it/s]"
      ]
     },
     "metadata": {},
     "output_type": "display_data"
    },
    {
     "name": "stdout",
     "output_type": "stream",
     "text": [
      "CSPR = 11.00 dB\n",
      "12500/12500 [==============================] - 75s 6ms/step\n",
      "Results:\n",
      "BER: 7.50e-05\n",
      "SNR: 18.80 dB\n",
      "SIR =  19.02  dB\n",
      "GMI: 4.00 bits\n",
      "\n"
     ]
    },
    {
     "data": {
      "application/vnd.jupyter.widget-view+json": {
       "model_id": "87e49429a37445bdb6094c18523c2ada",
       "version_major": 2,
       "version_minor": 0
      },
      "text/plain": [
       "  0%|          | 0/10 [00:00<?, ?it/s]"
      ]
     },
     "metadata": {},
     "output_type": "display_data"
    },
    {
     "data": {
      "application/vnd.jupyter.widget-view+json": {
       "model_id": "38811a4fb0354e4e95665539f0a8aa71",
       "version_major": 2,
       "version_minor": 0
      },
      "text/plain": [
       "  0%|          | 0/1 [00:00<?, ?it/s]"
      ]
     },
     "metadata": {},
     "output_type": "display_data"
    },
    {
     "name": "stdout",
     "output_type": "stream",
     "text": [
      "CSPR = 12.00 dB\n",
      "12500/12500 [==============================] - 78s 6ms/step\n",
      "Results:\n",
      "BER: 2.32e-02\n",
      "SNR: 12.54 dB\n",
      "SIR =  14.79  dB\n",
      "GMI: 3.65 bits\n",
      "\n"
     ]
    },
    {
     "data": {
      "application/vnd.jupyter.widget-view+json": {
       "model_id": "125c262ce6c44a22b3f0a54f3cd5c488",
       "version_major": 2,
       "version_minor": 0
      },
      "text/plain": [
       "  0%|          | 0/1 [00:00<?, ?it/s]"
      ]
     },
     "metadata": {},
     "output_type": "display_data"
    },
    {
     "name": "stdout",
     "output_type": "stream",
     "text": [
      "CSPR = 12.00 dB\n",
      "12500/12500 [==============================] - 73s 6ms/step\n",
      "Results:\n",
      "BER: 1.43e-02\n",
      "SNR: 13.42 dB\n",
      "SIR =  15.49  dB\n",
      "GMI: 3.78 bits\n",
      "\n"
     ]
    },
    {
     "data": {
      "application/vnd.jupyter.widget-view+json": {
       "model_id": "4723e63118a748b1b2059e2427f6ff31",
       "version_major": 2,
       "version_minor": 0
      },
      "text/plain": [
       "  0%|          | 0/1 [00:00<?, ?it/s]"
      ]
     },
     "metadata": {},
     "output_type": "display_data"
    },
    {
     "name": "stdout",
     "output_type": "stream",
     "text": [
      "CSPR = 12.00 dB\n",
      "12500/12500 [==============================] - 72s 6ms/step\n",
      "Results:\n",
      "BER: 8.38e-03\n",
      "SNR: 14.21 dB\n",
      "SIR =  16.11  dB\n",
      "GMI: 3.87 bits\n",
      "\n"
     ]
    },
    {
     "data": {
      "application/vnd.jupyter.widget-view+json": {
       "model_id": "07cc5ce238cf43468903cf63ab47d96b",
       "version_major": 2,
       "version_minor": 0
      },
      "text/plain": [
       "  0%|          | 0/1 [00:00<?, ?it/s]"
      ]
     },
     "metadata": {},
     "output_type": "display_data"
    },
    {
     "name": "stdout",
     "output_type": "stream",
     "text": [
      "CSPR = 12.00 dB\n",
      "12500/12500 [==============================] - 75s 6ms/step\n",
      "Results:\n",
      "BER: 4.60e-03\n",
      "SNR: 15.02 dB\n",
      "SIR =  16.69  dB\n",
      "GMI: 3.93 bits\n",
      "\n"
     ]
    },
    {
     "data": {
      "application/vnd.jupyter.widget-view+json": {
       "model_id": "37843d359e18485ab10f9084257e9250",
       "version_major": 2,
       "version_minor": 0
      },
      "text/plain": [
       "  0%|          | 0/1 [00:00<?, ?it/s]"
      ]
     },
     "metadata": {},
     "output_type": "display_data"
    },
    {
     "name": "stdout",
     "output_type": "stream",
     "text": [
      "CSPR = 12.00 dB\n",
      "12500/12500 [==============================] - 72s 6ms/step\n",
      "Results:\n",
      "BER: 2.30e-03\n",
      "SNR: 15.79 dB\n",
      "SIR =  17.18  dB\n",
      "GMI: 3.96 bits\n",
      "\n"
     ]
    },
    {
     "data": {
      "application/vnd.jupyter.widget-view+json": {
       "model_id": "e9962f82cba9486dbf7d922c7e1acb93",
       "version_major": 2,
       "version_minor": 0
      },
      "text/plain": [
       "  0%|          | 0/1 [00:00<?, ?it/s]"
      ]
     },
     "metadata": {},
     "output_type": "display_data"
    },
    {
     "name": "stdout",
     "output_type": "stream",
     "text": [
      "CSPR = 12.00 dB\n",
      "12500/12500 [==============================] - 70s 6ms/step\n",
      "Results:\n",
      "BER: 1.11e-03\n",
      "SNR: 16.52 dB\n",
      "SIR =  17.77  dB\n",
      "GMI: 3.98 bits\n",
      "\n"
     ]
    },
    {
     "data": {
      "application/vnd.jupyter.widget-view+json": {
       "model_id": "7d60a306c5ad489ab6a9ad4100b1894d",
       "version_major": 2,
       "version_minor": 0
      },
      "text/plain": [
       "  0%|          | 0/1 [00:00<?, ?it/s]"
      ]
     },
     "metadata": {},
     "output_type": "display_data"
    },
    {
     "name": "stdout",
     "output_type": "stream",
     "text": [
      "CSPR = 12.00 dB\n",
      "12500/12500 [==============================] - 72s 6ms/step\n",
      "Results:\n",
      "BER: 5.72e-04\n",
      "SNR: 17.16 dB\n",
      "SIR =  18.11  dB\n",
      "GMI: 3.99 bits\n",
      "\n"
     ]
    },
    {
     "data": {
      "application/vnd.jupyter.widget-view+json": {
       "model_id": "1feb347989614c2bb36bb01117e9b8ee",
       "version_major": 2,
       "version_minor": 0
      },
      "text/plain": [
       "  0%|          | 0/1 [00:00<?, ?it/s]"
      ]
     },
     "metadata": {},
     "output_type": "display_data"
    },
    {
     "name": "stdout",
     "output_type": "stream",
     "text": [
      "CSPR = 12.00 dB\n",
      "12500/12500 [==============================] - 72s 6ms/step\n",
      "Results:\n",
      "BER: 2.34e-04\n",
      "SNR: 17.81 dB\n",
      "SIR =  18.49  dB\n",
      "GMI: 4.00 bits\n",
      "\n"
     ]
    },
    {
     "data": {
      "application/vnd.jupyter.widget-view+json": {
       "model_id": "c75272e173754a0991ca89dbd95a412b",
       "version_major": 2,
       "version_minor": 0
      },
      "text/plain": [
       "  0%|          | 0/1 [00:00<?, ?it/s]"
      ]
     },
     "metadata": {},
     "output_type": "display_data"
    },
    {
     "name": "stdout",
     "output_type": "stream",
     "text": [
      "CSPR = 12.00 dB\n",
      "12500/12500 [==============================] - 79s 6ms/step\n",
      "Results:\n",
      "BER: 1.00e-04\n",
      "SNR: 18.31 dB\n",
      "SIR =  18.84  dB\n",
      "GMI: 4.00 bits\n",
      "\n"
     ]
    },
    {
     "data": {
      "application/vnd.jupyter.widget-view+json": {
       "model_id": "c3476a74d783463eb174020893eb1836",
       "version_major": 2,
       "version_minor": 0
      },
      "text/plain": [
       "  0%|          | 0/1 [00:00<?, ?it/s]"
      ]
     },
     "metadata": {},
     "output_type": "display_data"
    },
    {
     "name": "stdout",
     "output_type": "stream",
     "text": [
      "CSPR = 12.00 dB\n",
      "12500/12500 [==============================] - 73s 6ms/step\n",
      "Results:\n",
      "BER: 6.56e-05\n",
      "SNR: 18.84 dB\n",
      "SIR =  19.08  dB\n",
      "GMI: 4.00 bits\n",
      "\n"
     ]
    },
    {
     "data": {
      "application/vnd.jupyter.widget-view+json": {
       "model_id": "7a3a32477bd24884aedb6b5aaea1228b",
       "version_major": 2,
       "version_minor": 0
      },
      "text/plain": [
       "  0%|          | 0/10 [00:00<?, ?it/s]"
      ]
     },
     "metadata": {},
     "output_type": "display_data"
    },
    {
     "data": {
      "application/vnd.jupyter.widget-view+json": {
       "model_id": "1db0736432bf489b8fdb3ba12304bf9f",
       "version_major": 2,
       "version_minor": 0
      },
      "text/plain": [
       "  0%|          | 0/1 [00:00<?, ?it/s]"
      ]
     },
     "metadata": {},
     "output_type": "display_data"
    },
    {
     "name": "stdout",
     "output_type": "stream",
     "text": [
      "CSPR = 13.00 dB\n",
      "12500/12500 [==============================] - 75s 6ms/step\n",
      "Results:\n",
      "BER: 2.23e-02\n",
      "SNR: 12.57 dB\n",
      "SIR =  14.88  dB\n",
      "GMI: 3.66 bits\n",
      "\n"
     ]
    },
    {
     "data": {
      "application/vnd.jupyter.widget-view+json": {
       "model_id": "38914419e2ce43979646a38090f6b9ce",
       "version_major": 2,
       "version_minor": 0
      },
      "text/plain": [
       "  0%|          | 0/1 [00:00<?, ?it/s]"
      ]
     },
     "metadata": {},
     "output_type": "display_data"
    },
    {
     "name": "stdout",
     "output_type": "stream",
     "text": [
      "CSPR = 13.00 dB\n",
      "12500/12500 [==============================] - 71s 6ms/step\n",
      "Results:\n",
      "BER: 1.37e-02\n",
      "SNR: 13.45 dB\n",
      "SIR =  15.53  dB\n",
      "GMI: 3.79 bits\n",
      "\n"
     ]
    },
    {
     "data": {
      "application/vnd.jupyter.widget-view+json": {
       "model_id": "3564f03debfe4c5aa4e8f137d00ab250",
       "version_major": 2,
       "version_minor": 0
      },
      "text/plain": [
       "  0%|          | 0/1 [00:00<?, ?it/s]"
      ]
     },
     "metadata": {},
     "output_type": "display_data"
    },
    {
     "name": "stdout",
     "output_type": "stream",
     "text": [
      "CSPR = 13.00 dB\n",
      "12500/12500 [==============================] - 71s 6ms/step\n",
      "Results:\n",
      "BER: 8.32e-03\n",
      "SNR: 14.24 dB\n",
      "SIR =  16.15  dB\n",
      "GMI: 3.87 bits\n",
      "\n"
     ]
    },
    {
     "data": {
      "application/vnd.jupyter.widget-view+json": {
       "model_id": "cdfd49034e66408d9e105b98bfa3d040",
       "version_major": 2,
       "version_minor": 0
      },
      "text/plain": [
       "  0%|          | 0/1 [00:00<?, ?it/s]"
      ]
     },
     "metadata": {},
     "output_type": "display_data"
    },
    {
     "name": "stdout",
     "output_type": "stream",
     "text": [
      "CSPR = 13.00 dB\n",
      "12500/12500 [==============================] - 78s 6ms/step\n",
      "Results:\n",
      "BER: 4.25e-03\n",
      "SNR: 15.09 dB\n",
      "SIR =  16.77  dB\n",
      "GMI: 3.93 bits\n",
      "\n"
     ]
    },
    {
     "data": {
      "application/vnd.jupyter.widget-view+json": {
       "model_id": "169e536afba8428ca02b1969fa06d19d",
       "version_major": 2,
       "version_minor": 0
      },
      "text/plain": [
       "  0%|          | 0/1 [00:00<?, ?it/s]"
      ]
     },
     "metadata": {},
     "output_type": "display_data"
    },
    {
     "name": "stdout",
     "output_type": "stream",
     "text": [
      "CSPR = 13.00 dB\n",
      "12500/12500 [==============================] - 86s 7ms/step\n",
      "Results:\n",
      "BER: 2.18e-03\n",
      "SNR: 15.84 dB\n",
      "SIR =  17.26  dB\n",
      "GMI: 3.96 bits\n",
      "\n"
     ]
    },
    {
     "data": {
      "application/vnd.jupyter.widget-view+json": {
       "model_id": "d4fea853afdd4750af8f0111bed20a82",
       "version_major": 2,
       "version_minor": 0
      },
      "text/plain": [
       "  0%|          | 0/1 [00:00<?, ?it/s]"
      ]
     },
     "metadata": {},
     "output_type": "display_data"
    },
    {
     "name": "stdout",
     "output_type": "stream",
     "text": [
      "CSPR = 13.00 dB\n",
      "12500/12500 [==============================] - 86s 7ms/step\n",
      "Results:\n",
      "BER: 1.03e-03\n",
      "SNR: 16.54 dB\n",
      "SIR =  17.76  dB\n",
      "GMI: 3.98 bits\n",
      "\n"
     ]
    },
    {
     "data": {
      "application/vnd.jupyter.widget-view+json": {
       "model_id": "a9f49ea7dfa5435884b3626cc2685552",
       "version_major": 2,
       "version_minor": 0
      },
      "text/plain": [
       "  0%|          | 0/1 [00:00<?, ?it/s]"
      ]
     },
     "metadata": {},
     "output_type": "display_data"
    },
    {
     "name": "stdout",
     "output_type": "stream",
     "text": [
      "CSPR = 13.00 dB\n",
      "12500/12500 [==============================] - 87s 7ms/step\n",
      "Results:\n",
      "BER: 4.78e-04\n",
      "SNR: 17.22 dB\n",
      "SIR =  18.16  dB\n",
      "GMI: 3.99 bits\n",
      "\n"
     ]
    },
    {
     "data": {
      "application/vnd.jupyter.widget-view+json": {
       "model_id": "a1969ab5810a4d0ab9dcbdae86132e42",
       "version_major": 2,
       "version_minor": 0
      },
      "text/plain": [
       "  0%|          | 0/1 [00:00<?, ?it/s]"
      ]
     },
     "metadata": {},
     "output_type": "display_data"
    },
    {
     "name": "stdout",
     "output_type": "stream",
     "text": [
      "CSPR = 13.00 dB\n",
      "12500/12500 [==============================] - 85s 7ms/step\n",
      "Results:\n",
      "BER: 2.53e-04\n",
      "SNR: 17.84 dB\n",
      "SIR =  18.54  dB\n",
      "GMI: 4.00 bits\n",
      "\n"
     ]
    },
    {
     "data": {
      "application/vnd.jupyter.widget-view+json": {
       "model_id": "cd12b4fa3e0a4f2098a39e80a52c5d8e",
       "version_major": 2,
       "version_minor": 0
      },
      "text/plain": [
       "  0%|          | 0/1 [00:00<?, ?it/s]"
      ]
     },
     "metadata": {},
     "output_type": "display_data"
    },
    {
     "name": "stdout",
     "output_type": "stream",
     "text": [
      "CSPR = 13.00 dB\n",
      "12500/12500 [==============================] - 85s 7ms/step\n",
      "Results:\n",
      "BER: 8.12e-05\n",
      "SNR: 18.41 dB\n",
      "SIR =  18.88  dB\n",
      "GMI: 4.00 bits\n",
      "\n"
     ]
    },
    {
     "data": {
      "application/vnd.jupyter.widget-view+json": {
       "model_id": "016b5c19193c43b5b3484faaa3ae5181",
       "version_major": 2,
       "version_minor": 0
      },
      "text/plain": [
       "  0%|          | 0/1 [00:00<?, ?it/s]"
      ]
     },
     "metadata": {},
     "output_type": "display_data"
    },
    {
     "name": "stdout",
     "output_type": "stream",
     "text": [
      "CSPR = 13.00 dB\n",
      "12500/12500 [==============================] - 88s 7ms/step\n",
      "Results:\n",
      "BER: 5.31e-05\n",
      "SNR: 18.85 dB\n",
      "SIR =  19.05  dB\n",
      "GMI: 4.00 bits\n",
      "\n"
     ]
    },
    {
     "data": {
      "application/vnd.jupyter.widget-view+json": {
       "model_id": "aa6017426c514d1daf33d0cfe279ebf9",
       "version_major": 2,
       "version_minor": 0
      },
      "text/plain": [
       "  0%|          | 0/10 [00:00<?, ?it/s]"
      ]
     },
     "metadata": {},
     "output_type": "display_data"
    },
    {
     "data": {
      "application/vnd.jupyter.widget-view+json": {
       "model_id": "24fea05f6b5d4d01a3a2e4598a3b92c9",
       "version_major": 2,
       "version_minor": 0
      },
      "text/plain": [
       "  0%|          | 0/1 [00:00<?, ?it/s]"
      ]
     },
     "metadata": {},
     "output_type": "display_data"
    },
    {
     "name": "stdout",
     "output_type": "stream",
     "text": [
      "CSPR = 14.00 dB\n",
      "12500/12500 [==============================] - 89s 7ms/step\n",
      "Results:\n",
      "BER: 2.21e-02\n",
      "SNR: 12.64 dB\n",
      "SIR =  14.93  dB\n",
      "GMI: 3.67 bits\n",
      "\n"
     ]
    },
    {
     "data": {
      "application/vnd.jupyter.widget-view+json": {
       "model_id": "3483c98f16c1444faf9303563074b1c7",
       "version_major": 2,
       "version_minor": 0
      },
      "text/plain": [
       "  0%|          | 0/1 [00:00<?, ?it/s]"
      ]
     },
     "metadata": {},
     "output_type": "display_data"
    },
    {
     "name": "stdout",
     "output_type": "stream",
     "text": [
      "CSPR = 14.00 dB\n",
      "12500/12500 [==============================] - 85s 7ms/step\n",
      "Results:\n",
      "BER: 1.36e-02\n",
      "SNR: 13.50 dB\n",
      "SIR =  15.58  dB\n",
      "GMI: 3.79 bits\n",
      "\n"
     ]
    },
    {
     "data": {
      "application/vnd.jupyter.widget-view+json": {
       "model_id": "a44956b643aa4eab869a83f564359cb4",
       "version_major": 2,
       "version_minor": 0
      },
      "text/plain": [
       "  0%|          | 0/1 [00:00<?, ?it/s]"
      ]
     },
     "metadata": {},
     "output_type": "display_data"
    },
    {
     "name": "stdout",
     "output_type": "stream",
     "text": [
      "CSPR = 14.00 dB\n",
      "12500/12500 [==============================] - 81s 6ms/step\n",
      "Results:\n",
      "BER: 7.60e-03\n",
      "SNR: 14.34 dB\n",
      "SIR =  16.25  dB\n",
      "GMI: 3.88 bits\n",
      "\n"
     ]
    },
    {
     "data": {
      "application/vnd.jupyter.widget-view+json": {
       "model_id": "7a4b3049b09b42e19c7a6c2ec622d9de",
       "version_major": 2,
       "version_minor": 0
      },
      "text/plain": [
       "  0%|          | 0/1 [00:00<?, ?it/s]"
      ]
     },
     "metadata": {},
     "output_type": "display_data"
    },
    {
     "name": "stdout",
     "output_type": "stream",
     "text": [
      "CSPR = 14.00 dB\n",
      "12500/12500 [==============================] - 80s 6ms/step\n",
      "Results:\n",
      "BER: 4.17e-03\n",
      "SNR: 15.15 dB\n",
      "SIR =  16.83  dB\n",
      "GMI: 3.93 bits\n",
      "\n"
     ]
    },
    {
     "data": {
      "application/vnd.jupyter.widget-view+json": {
       "model_id": "4a841549d1224391a96d5ff00e93146b",
       "version_major": 2,
       "version_minor": 0
      },
      "text/plain": [
       "  0%|          | 0/1 [00:00<?, ?it/s]"
      ]
     },
     "metadata": {},
     "output_type": "display_data"
    },
    {
     "name": "stdout",
     "output_type": "stream",
     "text": [
      "CSPR = 14.00 dB\n",
      "12500/12500 [==============================] - 83s 7ms/step\n",
      "Results:\n",
      "BER: 2.15e-03\n",
      "SNR: 15.89 dB\n",
      "SIR =  17.3  dB\n",
      "GMI: 3.96 bits\n",
      "\n"
     ]
    },
    {
     "data": {
      "application/vnd.jupyter.widget-view+json": {
       "model_id": "e3da50f8b8634eebb6d400a8c4f83d54",
       "version_major": 2,
       "version_minor": 0
      },
      "text/plain": [
       "  0%|          | 0/1 [00:00<?, ?it/s]"
      ]
     },
     "metadata": {},
     "output_type": "display_data"
    },
    {
     "name": "stdout",
     "output_type": "stream",
     "text": [
      "CSPR = 14.00 dB\n",
      "12500/12500 [==============================] - 83s 7ms/step\n",
      "Results:\n",
      "BER: 9.59e-04\n",
      "SNR: 16.62 dB\n",
      "SIR =  17.77  dB\n",
      "GMI: 3.98 bits\n",
      "\n"
     ]
    },
    {
     "data": {
      "application/vnd.jupyter.widget-view+json": {
       "model_id": "4ba6eea9fd4f442ea1a401d544a56abe",
       "version_major": 2,
       "version_minor": 0
      },
      "text/plain": [
       "  0%|          | 0/1 [00:00<?, ?it/s]"
      ]
     },
     "metadata": {},
     "output_type": "display_data"
    },
    {
     "name": "stdout",
     "output_type": "stream",
     "text": [
      "CSPR = 14.00 dB\n",
      "12500/12500 [==============================] - 85s 7ms/step\n",
      "Results:\n",
      "BER: 3.78e-04\n",
      "SNR: 17.33 dB\n",
      "SIR =  18.22  dB\n",
      "GMI: 3.99 bits\n",
      "\n"
     ]
    },
    {
     "data": {
      "application/vnd.jupyter.widget-view+json": {
       "model_id": "34432532af3641459477456dbd5b2fc4",
       "version_major": 2,
       "version_minor": 0
      },
      "text/plain": [
       "  0%|          | 0/1 [00:00<?, ?it/s]"
      ]
     },
     "metadata": {},
     "output_type": "display_data"
    },
    {
     "name": "stdout",
     "output_type": "stream",
     "text": [
      "CSPR = 14.00 dB\n",
      "12500/12500 [==============================] - 82s 7ms/step\n",
      "Results:\n",
      "BER: 1.97e-04\n",
      "SNR: 17.95 dB\n",
      "SIR =  18.53  dB\n",
      "GMI: 4.00 bits\n",
      "\n"
     ]
    },
    {
     "data": {
      "application/vnd.jupyter.widget-view+json": {
       "model_id": "8f4bb93c1adc43f3b2aa31cf0367e70f",
       "version_major": 2,
       "version_minor": 0
      },
      "text/plain": [
       "  0%|          | 0/1 [00:00<?, ?it/s]"
      ]
     },
     "metadata": {},
     "output_type": "display_data"
    },
    {
     "name": "stdout",
     "output_type": "stream",
     "text": [
      "CSPR = 14.00 dB\n",
      "12500/12500 [==============================] - 83s 7ms/step\n",
      "Results:\n",
      "BER: 7.19e-05\n",
      "SNR: 18.53 dB\n",
      "SIR =  18.94  dB\n",
      "GMI: 4.00 bits\n",
      "\n"
     ]
    },
    {
     "data": {
      "application/vnd.jupyter.widget-view+json": {
       "model_id": "28b54ad1d2574b71a3f463f9fd383db9",
       "version_major": 2,
       "version_minor": 0
      },
      "text/plain": [
       "  0%|          | 0/1 [00:00<?, ?it/s]"
      ]
     },
     "metadata": {},
     "output_type": "display_data"
    },
    {
     "name": "stdout",
     "output_type": "stream",
     "text": [
      "CSPR = 14.00 dB\n",
      "12500/12500 [==============================] - 80s 6ms/step\n",
      "Results:\n",
      "BER: 3.75e-05\n",
      "SNR: 19.05 dB\n",
      "SIR =  19.19  dB\n",
      "GMI: 4.00 bits\n",
      "\n"
     ]
    },
    {
     "data": {
      "application/vnd.jupyter.widget-view+json": {
       "model_id": "408514d7c2ef4d4588d094237dae9350",
       "version_major": 2,
       "version_minor": 0
      },
      "text/plain": [
       "  0%|          | 0/10 [00:00<?, ?it/s]"
      ]
     },
     "metadata": {},
     "output_type": "display_data"
    },
    {
     "data": {
      "application/vnd.jupyter.widget-view+json": {
       "model_id": "7dfae1941a164719bfe0bf6dfe495d6b",
       "version_major": 2,
       "version_minor": 0
      },
      "text/plain": [
       "  0%|          | 0/1 [00:00<?, ?it/s]"
      ]
     },
     "metadata": {},
     "output_type": "display_data"
    },
    {
     "name": "stdout",
     "output_type": "stream",
     "text": [
      "CSPR = 15.00 dB\n",
      "12500/12500 [==============================] - 84s 7ms/step\n",
      "Results:\n",
      "BER: 2.10e-02\n",
      "SNR: 12.73 dB\n",
      "SIR =  15.04  dB\n",
      "GMI: 3.68 bits\n",
      "\n"
     ]
    },
    {
     "data": {
      "application/vnd.jupyter.widget-view+json": {
       "model_id": "79ab3fb7242d460f8f1c8d6cc36fd235",
       "version_major": 2,
       "version_minor": 0
      },
      "text/plain": [
       "  0%|          | 0/1 [00:00<?, ?it/s]"
      ]
     },
     "metadata": {},
     "output_type": "display_data"
    },
    {
     "name": "stdout",
     "output_type": "stream",
     "text": [
      "CSPR = 15.00 dB\n",
      "12500/12500 [==============================] - 83s 7ms/step\n",
      "Results:\n",
      "BER: 1.25e-02\n",
      "SNR: 13.62 dB\n",
      "SIR =  15.7  dB\n",
      "GMI: 3.80 bits\n",
      "\n"
     ]
    },
    {
     "data": {
      "application/vnd.jupyter.widget-view+json": {
       "model_id": "976e17b859754e69b4c5226b5b40ad01",
       "version_major": 2,
       "version_minor": 0
      },
      "text/plain": [
       "  0%|          | 0/1 [00:00<?, ?it/s]"
      ]
     },
     "metadata": {},
     "output_type": "display_data"
    },
    {
     "name": "stdout",
     "output_type": "stream",
     "text": [
      "CSPR = 15.00 dB\n",
      "12500/12500 [==============================] - 84s 7ms/step\n",
      "Results:\n",
      "BER: 7.45e-03\n",
      "SNR: 14.45 dB\n",
      "SIR =  16.38  dB\n",
      "GMI: 3.88 bits\n",
      "\n"
     ]
    },
    {
     "data": {
      "application/vnd.jupyter.widget-view+json": {
       "model_id": "4db1dc99b10844f3aeaa95af4e45d89d",
       "version_major": 2,
       "version_minor": 0
      },
      "text/plain": [
       "  0%|          | 0/1 [00:00<?, ?it/s]"
      ]
     },
     "metadata": {},
     "output_type": "display_data"
    },
    {
     "name": "stdout",
     "output_type": "stream",
     "text": [
      "CSPR = 15.00 dB\n",
      "12500/12500 [==============================] - 83s 7ms/step\n",
      "Results:\n",
      "BER: 3.70e-03\n",
      "SNR: 15.31 dB\n",
      "SIR =  16.95  dB\n",
      "GMI: 3.94 bits\n",
      "\n"
     ]
    },
    {
     "data": {
      "application/vnd.jupyter.widget-view+json": {
       "model_id": "bf055fbbf0aa45579fdae3bae4b488b4",
       "version_major": 2,
       "version_minor": 0
      },
      "text/plain": [
       "  0%|          | 0/1 [00:00<?, ?it/s]"
      ]
     },
     "metadata": {},
     "output_type": "display_data"
    },
    {
     "name": "stdout",
     "output_type": "stream",
     "text": [
      "CSPR = 15.00 dB\n",
      "12500/12500 [==============================] - 79s 6ms/step\n",
      "Results:\n",
      "BER: 1.96e-03\n",
      "SNR: 16.07 dB\n",
      "SIR =  17.49  dB\n",
      "GMI: 3.97 bits\n",
      "\n"
     ]
    },
    {
     "data": {
      "application/vnd.jupyter.widget-view+json": {
       "model_id": "a9fdf3bac97d4fb68b80ebca4d69ac9d",
       "version_major": 2,
       "version_minor": 0
      },
      "text/plain": [
       "  0%|          | 0/1 [00:00<?, ?it/s]"
      ]
     },
     "metadata": {},
     "output_type": "display_data"
    },
    {
     "name": "stdout",
     "output_type": "stream",
     "text": [
      "CSPR = 15.00 dB\n",
      "12500/12500 [==============================] - 75s 6ms/step\n",
      "Results:\n",
      "BER: 8.22e-04\n",
      "SNR: 16.80 dB\n",
      "SIR =  17.94  dB\n",
      "GMI: 3.99 bits\n",
      "\n"
     ]
    },
    {
     "data": {
      "application/vnd.jupyter.widget-view+json": {
       "model_id": "71b1e9d3c57a46f9aaa997192c6e096d",
       "version_major": 2,
       "version_minor": 0
      },
      "text/plain": [
       "  0%|          | 0/1 [00:00<?, ?it/s]"
      ]
     },
     "metadata": {},
     "output_type": "display_data"
    },
    {
     "name": "stdout",
     "output_type": "stream",
     "text": [
      "CSPR = 15.00 dB\n",
      "12500/12500 [==============================] - 77s 6ms/step\n",
      "Results:\n",
      "BER: 3.06e-04\n",
      "SNR: 17.56 dB\n",
      "SIR =  18.48  dB\n",
      "GMI: 3.99 bits\n",
      "\n"
     ]
    },
    {
     "data": {
      "application/vnd.jupyter.widget-view+json": {
       "model_id": "6e0ffd87c5f04feea38d76f194007a82",
       "version_major": 2,
       "version_minor": 0
      },
      "text/plain": [
       "  0%|          | 0/1 [00:00<?, ?it/s]"
      ]
     },
     "metadata": {},
     "output_type": "display_data"
    },
    {
     "name": "stdout",
     "output_type": "stream",
     "text": [
      "CSPR = 15.00 dB\n",
      "12500/12500 [==============================] - 71s 6ms/step\n",
      "Results:\n",
      "BER: 9.38e-05\n",
      "SNR: 18.23 dB\n",
      "SIR =  18.86  dB\n",
      "GMI: 4.00 bits\n",
      "\n"
     ]
    },
    {
     "data": {
      "application/vnd.jupyter.widget-view+json": {
       "model_id": "7a7d5022990547d895f476595f7c79f1",
       "version_major": 2,
       "version_minor": 0
      },
      "text/plain": [
       "  0%|          | 0/1 [00:00<?, ?it/s]"
      ]
     },
     "metadata": {},
     "output_type": "display_data"
    },
    {
     "name": "stdout",
     "output_type": "stream",
     "text": [
      "CSPR = 15.00 dB\n",
      "12500/12500 [==============================] - 73s 6ms/step\n",
      "Results:\n",
      "BER: 4.37e-05\n",
      "SNR: 18.79 dB\n",
      "SIR =  19.12  dB\n",
      "GMI: 4.00 bits\n",
      "\n"
     ]
    },
    {
     "data": {
      "application/vnd.jupyter.widget-view+json": {
       "model_id": "cb9a098f1ff649509ff4258a4cb998c0",
       "version_major": 2,
       "version_minor": 0
      },
      "text/plain": [
       "  0%|          | 0/1 [00:00<?, ?it/s]"
      ]
     },
     "metadata": {},
     "output_type": "display_data"
    },
    {
     "name": "stdout",
     "output_type": "stream",
     "text": [
      "CSPR = 15.00 dB\n",
      "12500/12500 [==============================] - 70s 6ms/step\n",
      "Results:\n",
      "BER: 1.25e-05\n",
      "SNR: 19.34 dB\n",
      "SIR =  19.43  dB\n",
      "GMI: 4.00 bits\n",
      "\n"
     ]
    }
   ],
   "source": [
    "loPower = np.arange(6,16,1)\n",
    "SNR_values = np.arange(16,26,1)\n",
    "\n",
    "BER = np.zeros((3, len(loPower), len(SNR_values)))\n",
    "SER = np.zeros((3, len(loPower), len(SNR_values)))\n",
    "GMI = np.zeros((3, len(loPower), len(SNR_values)))\n",
    "MI  = np.zeros((3, len(loPower), len(SNR_values)))\n",
    "SNR = np.zeros((3, len(loPower), len(SNR_values)))\n",
    "SIR = np.zeros((3, len(loPower), len(SNR_values)))\n",
    "\n",
    "for indfile in range(0, 1):\n",
    "    for indAlg, alg in enumerate(['CONVNET_TRAIN']):\n",
    "        for indPower, Plo_dBm in enumerate(tqdm(loPower)):\n",
    "            for indSNR, SNRdB in enumerate(tqdm(SNR_values)):\n",
    "\n",
    "                # generate optical signal signal\n",
    "                sigTx, symbTx_, paramTx = simpleWDMTx(paramTx)\n",
    "                        \n",
    "                # simulate linear signal propagation\n",
    "                sigCh = linFiberCh(sigTx, Ltotal, alpha, D, Fc, Fs)\n",
    "                # AWGN channel\n",
    "                sigCh = awgn(sigCh, SNRdB, Fs, paramPD.B)\n",
    "                \n",
    "                symbTx = symbTx_[:, :, chIndex]\n",
    "                Plo = 10 ** (Plo_dBm / 10) * 1e-3  # power in W\n",
    "                \n",
    "                # generate LO field\n",
    "                π = np.pi\n",
    "                t = np.arange(0, len(sigCh))*Ts\n",
    "                ϕ_pn_lo = phaseNoise(lw, len(sigCh), Ts)\n",
    "\n",
    "                sigLO = np.sqrt(Plo) * np.exp(-1j * (2 * π * FO * t + ϕ_lo + ϕ_pn_lo))\n",
    "\n",
    "                # Add LO to the received signal\n",
    "                sigRx = np.sqrt(Plo) + sigCh* np.exp(1j * (2 * π * FO * t + ϕ_lo + ϕ_pn_lo))\n",
    "                sfm   = sigRx.copy()\n",
    "\n",
    "                print('CSPR = %.2f dB'%(10*np.log10(signal_power(sigLO)/signal_power(sigTx))))\n",
    "\n",
    "                # simulate ideal direct-detection optical receiver\n",
    "                Ipd = photodiode(sigRx, paramPD)\n",
    "                Amp = np.sqrt(Ipd.real)\n",
    "                Amp = resample(Amp, paramADC).real\n",
    "\n",
    "                # resampling to ADC sampling rate\n",
    "                sigCh = resample(sigCh, paramADC)\n",
    "                sfm = resample(sfm, paramADC)\n",
    "                newFs = paramADC.SpS_out*paramTx.Rs\n",
    "\n",
    "                sfm = sfm/np.sqrt(signal_power(sfm))\n",
    "                # if alg == 'KK':\n",
    "                #     # Kramers-Kronig phase-retrieval\n",
    "                #     phiTime = KramersKronigRx(Amp, newFs)\n",
    "                #     # optical field reconstruction\n",
    "                #     sigRx = Amp*np.exp(1j*phiTime)\n",
    "\n",
    "                if alg == 'CONVNET_TRAIN':\n",
    "                    # Mlp phase-retrieval\n",
    "                    model = tf.keras.models.load_model(path_conv+'testModel_SpS_4_CSPR_15dB_DataTrain') \n",
    "                    #sigPhase = np.angle(sfm) # get signal phase samples (labels) (L,)\n",
    "                    sigAmp  = np.pad(Amp, (int(N/2), int(N/2)), 'constant') # get signal amplitude samples (L,)\n",
    "                    # create set of input features\n",
    "                    X_input = np.zeros((len(sfm), N)) #(L,N)\n",
    "\n",
    "                    for indPhase in range(len(sfm)):\n",
    "                        X_input[indPhase] = sigAmp[indPhase:N+indPhase]\n",
    "\n",
    "                    sigRx_NN = model.predict(X_input)\n",
    "                    # optical field reconstruction\n",
    "                    sigRx = sigRx_NN[:,0]+1j*sigRx_NN[:,1]\n",
    "\n",
    "                # elif alg == 'CONVNET':\n",
    "                #     # ConvNet phase-retrieval\n",
    "                #     model = tf.keras.models.load_model(path_conv+'testModel_SpS_'+str(paramADC.SpS_out)+'_CSPR_'+str(Plo_dBm)+'dB_debugTrain')\n",
    "                #     #sigPhase = np.angle(sfm) # get signal phase samples (labels) (L,)\n",
    "                #     sigAmp  = np.pad(Amp, (int(N/2), int(N/2)), 'constant') # get signal amplitude samples (L,)\n",
    "                #     # create set of input features\n",
    "                #     X_input = np.zeros((len(sfm), N)) #(L,N)\n",
    "\n",
    "                #     for indPhase in range(len(sfm)):\n",
    "                #         X_input[indPhase] = sigAmp[indPhase:N+indPhase]\n",
    "\n",
    "                #     sigRx_NN = model.predict(X_input)\n",
    "                #     # optical field reconstruction\n",
    "                #     sigRx = sigRx_NN[:,0]+1j*sigRx_NN[:,1]    \n",
    "\n",
    "                # remove DC level\n",
    "                sigRx -= np.mean(sigRx) # np.sqrt(Plo)  \n",
    "\n",
    "                # downshift to baseband\n",
    "                t = np.arange(0, len(sigRx))*(1/newFs)\n",
    "                sigRx *= np.exp(-1j * (2 * π * FO * t))\n",
    "                \n",
    "                # Matched filtering\n",
    "                if paramTx.pulse == \"nrz\":\n",
    "                    pulse = pulseShape(\"nrz\", paramADC.SpS_out)\n",
    "                elif paramTx.pulse == \"rrc\":\n",
    "                    pulse = pulseShape(\n",
    "                        \"rrc\", paramADC.SpS_out, N=paramTx.Ntaps, alpha=paramTx.alphaRRC, Ts=1 / paramTx.Rs\n",
    "                    )\n",
    "\n",
    "                pulse = pulse / np.max(np.abs(pulse))\n",
    "                sigRx = firFilter(pulse, sigRx)\n",
    "                sigCh = firFilter(pulse, sigCh)\n",
    "                \n",
    "                # correct for (possible) phase ambiguity\n",
    "                rot = np.mean(sigCh/sigRx)\n",
    "                sigRx = rot * sigRx\n",
    "                sigRx = sigRx / np.sqrt(signal_power(sigRx))\n",
    "\n",
    "                intf = sigRx/np.sqrt(signal_power(sigRx))-sigCh/np.sqrt(signal_power(sigCh))\n",
    "\n",
    "                SIR[indAlg, indPower] = 1/signal_power(intf)\n",
    "\n",
    "\n",
    "                # resample to 2 samples/symbol:\n",
    "                paramRes = parameters()\n",
    "                paramRes.Rs = paramTx.Rs\n",
    "                paramRes.SpS_in  = paramADC.SpS_out\n",
    "                paramRes.SpS_out = 2\n",
    "\n",
    "                sigRx = resample(sigRx, paramRes)\n",
    "\n",
    "                # CD compensation\n",
    "                sigRx = edc(sigRx, Ltotal, D, Fc, paramRes.SpS_out*paramTx.Rs)\n",
    "\n",
    "                # Downsampling to 2 sps and re-synchronization with transmitted sequences\n",
    "                sigRx = sigRx.reshape(-1, 1)\n",
    "\n",
    "                symbRx = symbolSync(sigRx, symbTx, 2)\n",
    "\n",
    "                # Power normalization\n",
    "                x = sigRx\n",
    "                d = symbRx\n",
    "\n",
    "                x = x.reshape(len(x), 1) / np.sqrt(signal_power(x))\n",
    "                d = d.reshape(len(d), 1) / np.sqrt(signal_power(d))\n",
    "\n",
    "                # Adaptive equalization\n",
    "                mod = QAMModem(m=paramTx.M)\n",
    "\n",
    "                paramEq = parameters()\n",
    "                paramEq.nTaps = 15\n",
    "                paramEq.SpS = 2\n",
    "                paramEq.mu = [1e-3, 5e-4]\n",
    "                paramEq.numIter = 5\n",
    "                paramEq.storeCoeff = False\n",
    "                paramEq.alg = [\"da-rde\", \"rde\"]\n",
    "                paramEq.M = paramTx.M\n",
    "                paramEq.L = [20000, 80000]\n",
    "                paramEq.prgsBar = False\n",
    "\n",
    "                y_EQ, H, errSq, Hiter = mimoAdaptEqualizer(x, dx=d, paramEq=paramEq)\n",
    "\n",
    "                # Carrier phase recovery\n",
    "                paramCPR = parameters()\n",
    "                paramCPR.alg = \"bps\"\n",
    "                paramCPR.M = paramTx.M\n",
    "                paramCPR.N = 85\n",
    "                paramCPR.B = 64\n",
    "                paramCPR.pilotInd = np.arange(0, len(y_EQ), 20)\n",
    "\n",
    "                y_CPR, θ = cpr(y_EQ, symbTx=d, paramCPR=paramCPR)\n",
    "\n",
    "                y_CPR = y_CPR / np.sqrt(signal_power(y_CPR))\n",
    "\n",
    "                # correct for (possible) phase ambiguity\n",
    "                for k in range(y_CPR.shape[1]):\n",
    "                    rot = np.mean(d[:, k] / y_CPR[:, k])\n",
    "                    y_CPR[:, k] = rot * y_CPR[:, k]\n",
    "\n",
    "                y_CPR = y_CPR / np.sqrt(signal_power(y_CPR))\n",
    "\n",
    "                discard = int(paramEq.L[0]/2)\n",
    "\n",
    "                ind = np.arange(discard, d.shape[0] - discard)\n",
    "                BER[indAlg,indPower,indSNR], SER[indAlg,indPower,indSNR], SNR[indAlg,indPower,indSNR] = fastBERcalc(y_CPR[ind, :], d[ind, :], paramTx.M, 'qam')\n",
    "                GMI[indAlg,indPower,indSNR], _ = monteCarloGMI(y_CPR[ind, :], d[ind, :],  paramTx.M, 'qam')\n",
    "                MI[indAlg,indPower,indSNR] = monteCarloMI(y_CPR[ind, :], d[ind, :],  paramTx.M, 'qam')\n",
    "\n",
    "                print(\"Results:\")\n",
    "                print(\"BER: %.2e\" %(BER[indAlg,indPower,indSNR]))\n",
    "                print(\"SNR: %.2f dB\" %(SNR[indAlg,indPower,indSNR]))\n",
    "                print('SIR = ', round(10*np.log10(SIR[indAlg,indPower,indSNR]), 2), ' dB')\n",
    "                print(\"GMI: %.2f bits\\n\" %(GMI[indAlg,indPower,indSNR]))\n",
    "\n",
    "    if saveData:      \n",
    "        # save the simulation data\n",
    "        np.save(path_data+'CSPR_BER_SpS_'+str(paramADC.SpS_out)+'_'+str(N)+'_Sample_'+str(indfile)+str('_AWGN_TRAIN'), BER)\n",
    "        np.save(path_data+'CSPR_SNR_SpS_'+str(paramADC.SpS_out)+'_'+str(N)+'_Sample_'+str(indfile)+str('_AWGN_TRAIN'), SNR)\n",
    "        np.save(path_data+'CSPR_SIR_SpS_'+str(paramADC.SpS_out)+'_'+str(N)+'_Sample_'+str(indfile)+str('_AWGN_TRAIN'), SIR)\n",
    "        np.save(path_data+'CSPR_SER_SpS_'+str(paramADC.SpS_out)+'_'+str(N)+'_Sample_'+str(indfile)+str('_AWGN_TRAIN'), SER)"
   ]
  }
 ],
 "metadata": {
  "kernelspec": {
   "display_name": "Python 3",
   "language": "python",
   "name": "python3"
  },
  "language_info": {
   "codemirror_mode": {
    "name": "ipython",
    "version": 3
   },
   "file_extension": ".py",
   "mimetype": "text/x-python",
   "name": "python",
   "nbconvert_exporter": "python",
   "pygments_lexer": "ipython3",
   "version": "3.9.0"
  },
  "orig_nbformat": 4
 },
 "nbformat": 4,
 "nbformat_minor": 2
}
