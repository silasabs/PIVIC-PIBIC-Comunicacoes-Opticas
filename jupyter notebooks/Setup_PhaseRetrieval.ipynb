{
 "cells": [
  {
   "cell_type": "code",
   "execution_count": 2,
   "metadata": {},
   "outputs": [],
   "source": [
    "import matplotlib.pyplot as plt\n",
    "import numpy as np\n",
    "from commpy.modulation import QAMModem\n",
    "\n",
    "# Modulos do OptiCommpy\n",
    "from pyfiles.dsp import pulseShape, firFilter, decimate, symbolSync, resample\n",
    "from pyfiles.models import phaseNoise, KramersKronigRx, linFiberCh\n",
    "from pyfiles.tx import simpleWDMTx\n",
    "from pyfiles.core import parameters\n",
    "from pyfiles.equalization import edc, mimoAdaptEqualizer\n",
    "from pyfiles.carrierRecovery import cpr\n",
    "from pyfiles.metrics import fastBERcalc, monteCarloGMI, monteCarloMI, signal_power\n",
    "from pyfiles.plot import pconst\n",
    "\n",
    "import scipy.constants as const\n",
    "# Modulo responsável pelo pre-processamento, criação de datasets, treinamento e criação de modelos. \n",
    "#from pyfiles.functions import get_model"
   ]
  },
  {
   "cell_type": "code",
   "execution_count": 3,
   "metadata": {},
   "outputs": [],
   "source": [
    "plt.rcParams['font.size'] = 14\n",
    "plt.rcParams['lines.linewidth'] = 3"
   ]
  },
  {
   "cell_type": "markdown",
   "metadata": {},
   "source": [
    "### Simulação de uma transmissão de sinal óptico\n",
    "\n",
    "- Definição de parâmetros do transmissor\n",
    "- Definição dos parâmetros da fibra\n",
    "- Definição de parâmetros gerias da simulação"
   ]
  },
  {
   "cell_type": "code",
   "execution_count": 4,
   "metadata": {},
   "outputs": [],
   "source": [
    "## Parâmetros do Transmissor:\n",
    "\n",
    "paramTx = parameters()\n",
    "paramTx.M = 16                 # ordem do formato de modulação\n",
    "paramTx.Rs = 32e9              # taxa de símbolo [baud]\n",
    "paramTx.SpS = 4                # amostras por símbolo\n",
    "paramTx.Nbits = 400000         # número total de bits por polarização\n",
    "paramTx.pulse = \"rrc\"          # filtro de modelagem de pulso\n",
    "paramTx.Ntaps = 1024           # número de coeficientes de filtro de modelagem de pulso\n",
    "paramTx.alphaRRC = 0.01        # RRC rolloff\n",
    "paramTx.Pch_dBm = 0            # potência do sinal óptico [dBm]\n",
    "paramTx.Nch = 1                # número de canais WDM\n",
    "paramTx.Fc = 193.1e12          # frequência central do espectro óptico\n",
    "paramTx.freqSpac = 37.5e9      # espaçamento da grade WDM\n",
    "\n",
    "## Parâmetros do canal óptico:\n",
    "\n",
    "Ltotal = 55      # distância total do link [km]\n",
    "alpha = 0        # parâmetro de perda da fibra [dB/km]\n",
    "D = 16           # parâmetro de disperção [ps/nm/km]\n",
    "Fc = paramTx.Fc  # frequência óptica central do espectro WDM [Hz]\n",
    "\n",
    "## Parâmetros do receptor:\n",
    "\n",
    "# local oscillator (LO) - Alterar a frequência do sinal.\n",
    "FO = paramTx.Rs/2   # deslocamento de frequência\n",
    "lw = 0*200e3        # espessura da linha\n",
    "ϕ_lo = 0            # fase inicial em rad\n",
    "Plo_dBm = 12        # potência em dBm\n",
    "\n",
    "# Taxa de amostragem ADC\n",
    "paramADC = parameters()\n",
    "paramADC.Rs = paramTx.Rs\n",
    "paramADC.SpS_in = paramTx.SpS\n",
    "paramADC.SpS_out = 2\n",
    "\n",
    "## Parâmetros gerais de simulação:\n",
    "\n",
    "chIndex = 0  # index of the channel to be demodulated\n",
    "plotPSD = True\n",
    "Fs = paramTx.Rs * paramTx.SpS  # simulation sampling rate\n",
    "# Números de elementos dispersivos\n",
    "N = 4"
   ]
  },
  {
   "cell_type": "markdown",
   "metadata": {},
   "source": [
    "### Script de simulação do núcleo\n",
    "\n",
    "- Configuração experimental usando três elementos dispersivos após a transmissão de 55 [km]\n",
    "- Geração do sinal óptico\n",
    "- Geração dos elementos de dispersão\n",
    "- Adição do campo LO sobre os sinais que foram gerados"
   ]
  },
  {
   "cell_type": "code",
   "execution_count": 5,
   "metadata": {},
   "outputs": [],
   "source": [
    "def LO_generate(sigCh, Plo, FO, Ts):\n",
    "    \"\"\"\n",
    "    Gera o campo LO sobre o sinal recebido\n",
    "\n",
    "    param sigCh: Sinal óptico\n",
    "    param Plo: Potência em w\n",
    "    param FO: Deslocamento de frequência\n",
    "    param Ts: intervalo de sinalização \n",
    "\n",
    "    return sfm: símbolos a serem observados.\n",
    "    return sigRx: sinal recebido.\n",
    "    \"\"\"\n",
    "    π = np.pi\n",
    "    \n",
    "    t = np.arange(0, len(sigCh))*Ts\n",
    "    ϕ_pn_lo = phaseNoise(lw, len(sigCh), Ts)\n",
    "    sigLO = np.sqrt(Plo) * np.exp(-1j * (2 * π * FO * t + ϕ_lo + ϕ_pn_lo))\n",
    "    \n",
    "    # Adiciona o campo LO para o sinal recebido\n",
    "    sigRx = np.sqrt(Plo) + sigCh * np.exp(1j * (2 * π * FO * t + ϕ_lo + ϕ_pn_lo))\n",
    "    sfm = sigRx.copy()\n",
    "\n",
    "    return sfm, sigRx\n",
    "\n",
    "\n",
    "# def plot_spectrum(N, Fs, sigCh):\n",
    "    \n",
    "#     plt.psd(\n",
    "#         sigCh,\n",
    "#         Fs=Fs,\n",
    "#         Fc=paramTx.Fc,\n",
    "#         NFFT= 4*1024,\n",
    "#         sides=\"twosided\",\n",
    "#         label=\"$optical spectrum - Rx$\",\n",
    "#     )\n",
    "\n",
    "#     plt.legend()\n",
    "#     plt.title(\"optical spectrum\")\n"
   ]
  },
  {
   "cell_type": "code",
   "execution_count": 6,
   "metadata": {
    "scrolled": false
   },
   "outputs": [
    {
     "name": "stdout",
     "output_type": "stream",
     "text": [
      "channel 0\t fc : 193.1000 THz\n",
      "  mode #0\t power: 0.00 dBm\n",
      "channel 0\t power: 0.00 dBm\n",
      "\n",
      "total WDM dignal power: 0.00 dBm\n",
      "Demodulating channel #0 , fc: 193.1000 THz, λ: 1552.5244 nm\n",
      "\n",
      "Local oscillator P: 12.00 dBm, lw: 0.00 kHz, FO: 16000.00 MHz\n"
     ]
    }
   ],
   "source": [
    "# Gera o sinal óptico\n",
    "sigTx, symbTx_, paramTx = simpleWDMTx(paramTx)\n",
    "\n",
    "# Simula a propagação de sinal linear na fibra\n",
    "sigCh_0 = linFiberCh(sigTx, Ltotal, alpha, D, Fc, Fs)\n",
    "# Adiciona multiplas disperções\n",
    "sigCh_1 = linFiberCh(sigTx, 25, alpha, D, Fc, Fs)\n",
    "sigCh_2 = linFiberCh(sigTx, 35, alpha, D, Fc, Fs)\n",
    "sigCh_3 = linFiberCh(sigTx, 55, alpha, D, Fc, Fs)\n",
    "\n",
    "# plota o espectro óptico antes e depois da transmissão\n",
    "\n",
    "# # Antes\n",
    "# plt.figure(figsize=(8, 5))\n",
    "# plt.xlim(paramTx.Fc - Fs / 2, paramTx.Fc + Fs / 2)\n",
    "# plt.psd(\n",
    "#     sigTx[:, 0],\n",
    "#     Fs=Fs,\n",
    "#     Fc=paramTx.Fc,\n",
    "#     NFFT=4 * 1024,\n",
    "#     sides=\"twosided\",\n",
    "#     label=\"optical spectrum - Tx\",\n",
    "# )\n",
    "\n",
    "# Detecção e demodulação do receptor\n",
    "Fc = paramTx.Fc\n",
    "Ts = 1 / Fs\n",
    "mod = QAMModem(m=paramTx.M)\n",
    "\n",
    "freqGrid = paramTx.freqGrid\n",
    "print(\n",
    "    \"Demodulating channel #%d , fc: %.4f THz, λ: %.4f nm\\n\"\n",
    "    % (\n",
    "        chIndex,\n",
    "        (Fc + freqGrid[chIndex]) / 1e12,\n",
    "        const.c / (Fc + freqGrid[chIndex]) / 1e-9,\n",
    "    )\n",
    ")\n",
    "\n",
    "symbTx = symbTx_[:, :, chIndex]\n",
    "Plo = 10 ** (Plo_dBm / 10) * 1e-3  # power in W\n",
    "\n",
    "print(\n",
    "    \"Local oscillator P: %.2f dBm, lw: %.2f kHz, FO: %.2f MHz\"\n",
    "    % (Plo_dBm, lw / 1e3, FO / 1e6)\n",
    ")\n",
    "\n",
    "# Gera o campo LO para todas as disperções\n",
    "sfm_0, sigRx_0 = LO_generate(sigCh_0, Plo, FO, Ts)\n",
    "sfm_1, sigRx_1 = LO_generate(sigCh_1, Plo, FO, Ts)\n",
    "sfm_2, sigRx_2 = LO_generate(sigCh_2, Plo, FO, Ts)\n",
    "sfm_3, sigRx_3 = LO_generate(sigCh_3, Plo, FO, Ts)\n",
    "\n",
    "# plota o espectro após adicionar LO\n",
    "# plot_spectrum(N, Fs, sigRx_0)\n"
   ]
  },
  {
   "cell_type": "markdown",
   "metadata": {},
   "source": [
    "### Simulação do receptor óptico de detecção direta ideal\n",
    "\n",
    "- Implementação da detecção direta\n",
    "- Obtenção de valores de fase e amplitude "
   ]
  },
  {
   "cell_type": "code",
   "execution_count": 9,
   "metadata": {},
   "outputs": [],
   "source": [
    "## Realiza a reamostragem para taxa de amostragem ADC ##\n",
    "\n",
    "# for index in range(0, N):\n",
    "#     # Reamostragem para SigCh_index\n",
    "#     sigCh = globals().get('sigCh_%d' % index)\n",
    "#     sigCh = resample(sigCh, paramADC)\n",
    "#     # Reamostragem para sfm_index\n",
    "#     sfm = globals().get('sfm_%d' % index)\n",
    "#     sfm = resample(sfm, paramADC)\n",
    "\n",
    "# Realiza a reamostragem para taxa de amostragem ADC\n",
    "sigCh_0 = resample(sigCh_0, paramADC)\n",
    "sigCh_1 = resample(sigCh_1, paramADC)\n",
    "sigCh_2 = resample(sigCh_2, paramADC)\n",
    "sigCh_3 = resample(sigCh_3, paramADC)\n",
    "\n",
    "sfm_0 = resample(sfm_0, paramADC)\n",
    "sfm_1 = resample(sfm_1, paramADC)\n",
    "sfm_2 = resample(sfm_2, paramADC)\n",
    "sfm_3 = resample(sfm_3, paramADC)\n",
    "\n",
    "newFs = paramADC.SpS_out*paramTx.Rs"
   ]
  },
  {
   "cell_type": "markdown",
   "metadata": {},
   "source": [
    "### Estágio de recuperação de fase"
   ]
  }
 ],
 "metadata": {
  "interpreter": {
   "hash": "6a90d2e94899a98afb0a47000a9d24bed02713814328ecee1e6bdce0d06ae96c"
  },
  "kernelspec": {
   "display_name": "Python 3 (ipykernel)",
   "language": "python",
   "name": "python3"
  },
  "language_info": {
   "codemirror_mode": {
    "name": "ipython",
    "version": 3
   },
   "file_extension": ".py",
   "mimetype": "text/x-python",
   "name": "python",
   "nbconvert_exporter": "python",
   "pygments_lexer": "ipython3",
   "version": "3.9.9"
  }
 },
 "nbformat": 4,
 "nbformat_minor": 2
}
