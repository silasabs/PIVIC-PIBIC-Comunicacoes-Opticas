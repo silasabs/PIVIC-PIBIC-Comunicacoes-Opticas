{
 "cells": [
  {
   "cell_type": "markdown",
   "metadata": {},
   "source": [
    "# Configuração experimental usando três elementos dispersivos após a transmissão de 55km"
   ]
  },
  {
   "cell_type": "code",
   "execution_count": 1,
   "metadata": {},
   "outputs": [],
   "source": [
    "import matplotlib.pyplot as plt\n",
    "import numpy as np\n",
    "from commpy.modulation import QAMModem\n",
    "\n",
    "# Modulos do OptiCommpy\n",
    "from pyfiles.dsp import pulseShape, firFilter, decimate, symbolSync, resample\n",
    "from pyfiles.models import phaseNoise, KramersKronigRx, linFiberCh\n",
    "from pyfiles.tx import simpleWDMTx\n",
    "from pyfiles.core import parameters\n",
    "from pyfiles.equalization import edc, mimoAdaptEqualizer\n",
    "from pyfiles.carrierRecovery import cpr\n",
    "from pyfiles.metrics import fastBERcalc, monteCarloGMI, monteCarloMI, signal_power\n",
    "from pyfiles.plot import pconst\n",
    "\n",
    "import scipy.constants as const\n",
    "# Modulo responsável pelo pre-processamento, criação de datasets, treinamento e criação de modelos. \n",
    "#from pyfiles.functions import get_model"
   ]
  },
  {
   "cell_type": "markdown",
   "metadata": {},
   "source": [
    "### Simulação de uma transmissão de sinal óptico"
   ]
  },
  {
   "cell_type": "code",
   "execution_count": 2,
   "metadata": {},
   "outputs": [],
   "source": [
    "## Parâmetros do Transmissor:\n",
    "\n",
    "paramTx = parameters()\n",
    "paramTx.M = 16                 # ordem do formato de modulação\n",
    "paramTx.Rs = 32e9              # taxa de símbolo [baud]\n",
    "paramTx.SpS = 4                # amostras por símbolo\n",
    "paramTx.Nbits = 400000         # número total de bits por polarização\n",
    "paramTx.pulse = \"rrc\"          # filtro de modelagem de pulso\n",
    "paramTx.Ntaps = 1024           # número de coeficientes de filtro de modelagem de pulso\n",
    "paramTx.alphaRRC = 0.01        # RRC rolloff\n",
    "paramTx.Pch_dBm = 0            # potência do sinal óptico [dBm]\n",
    "paramTx.Nch = 1                # número de canais WDM\n",
    "paramTx.Fc = 193.1e12          # frequência central do espectro óptico\n",
    "paramTx.freqSpac = 37.5e9      # espaçamento da grade WDM\n",
    "\n",
    "## Parâmetros do canal óptico:\n",
    "\n",
    "Ltotal = 55      # distância total do link [km]\n",
    "alpha = 0        # parâmetro de perda da fibra [dB/km]\n",
    "D = 16           # parâmetro de disperção [ps/nm/km]\n",
    "Fc = paramTx.Fc  # frequência óptica central do espectro WDM [Hz]\n",
    "\n",
    "## Parâmetros do receptor:\n",
    "\n",
    "# local oscillator (LO) - Alterar a frequência do sinal.\n",
    "FO = paramTx.Rs/2   # deslocamento de frequência\n",
    "lw = 0*200e3        # espessura da linha\n",
    "ϕ_lo = 0            # fase inicial em rad\n",
    "Plo_dBm = 12        # potência em dBm\n",
    "\n",
    "# Taxa de amostragem ADC\n",
    "paramADC = parameters()\n",
    "paramADC.Rs = paramTx.Rs\n",
    "paramADC.SpS_in = paramTx.SpS\n",
    "paramADC.SpS_out = 2\n",
    "\n",
    "## Parâmetros gerais de simulação:\n",
    "\n",
    "chIndex = 0  # index of the channel to be demodulated\n",
    "plotPSD = True\n",
    "Fs = paramTx.Rs * paramTx.SpS  # simulation sampling rate"
   ]
  },
  {
   "cell_type": "markdown",
   "metadata": {},
   "source": [
    "### Script de simulação do núcleo"
   ]
  },
  {
   "cell_type": "code",
   "execution_count": 3,
   "metadata": {},
   "outputs": [],
   "source": [
    "def LO_generate(sigCh, Plo, FO, Ts):\n",
    "    \"\"\"\n",
    "    Gera o campo LO sobre o sinal recebido\n",
    "\n",
    "    param sigCh: Sinal óptico\n",
    "    param Plo: Potência em w\n",
    "    param FO: Deslocamento de frequência\n",
    "    param Ts: intervalo de sinalização \n",
    "\n",
    "    return sfm: símbolos a serem observados.\n",
    "    return sigRx: sinal recebido.\n",
    "    \"\"\"\n",
    "    π = np.pi\n",
    "    \n",
    "    t = np.arange(0, len(sigCh))*Ts\n",
    "    ϕ_pn_lo = phaseNoise(lw, len(sigCh), Ts)\n",
    "    sigLO = np.sqrt(Plo) * np.exp(-1j * (2 * π * FO * t + ϕ_lo + ϕ_pn_lo))\n",
    "    \n",
    "    # Adiciona o campo LO para o sinal recebido\n",
    "    sigRx = np.sqrt(Plo) + sigCh * np.exp(1j * (2 * π * FO * t + ϕ_lo + ϕ_pn_lo))\n",
    "    sfm = sigRx.copy()\n",
    "\n",
    "    return sfm, sigRx\n"
   ]
  },
  {
   "cell_type": "code",
   "execution_count": 4,
   "metadata": {
    "scrolled": false
   },
   "outputs": [
    {
     "name": "stdout",
     "output_type": "stream",
     "text": [
      "channel 0\t fc : 193.1000 THz\n",
      "  mode #0\t power: 0.00 dBm\n",
      "channel 0\t power: -0.00 dBm\n",
      "\n",
      "total WDM dignal power: -0.00 dBm\n",
      "Demodulating channel #0 , fc: 193.1000 THz, λ: 1552.5244 nm\n",
      "\n",
      "Local oscillator P: 12.00 dBm, lw: 0.00 kHz, FO: 16000.00 MHz\n"
     ]
    }
   ],
   "source": [
    "# Gera o sinal óptico\n",
    "sigTx, symbTx_, paramTx = simpleWDMTx(paramTx)\n",
    "\n",
    "# Simula a propagação de sinal linear na fibra\n",
    "sigCh_0 = linFiberCh(sigTx, Ltotal, alpha, D, Fc, Fs)\n",
    "# Adiciona multiplas disperções\n",
    "sigCh_1 = linFiberCh(sigTx, 25, alpha, D, Fc, Fs)\n",
    "sigCh_2 = linFiberCh(sigTx, 35, alpha, D, Fc, Fs)\n",
    "sigCh_3 = linFiberCh(sigTx, 55, alpha, D, Fc, Fs)\n",
    "\n",
    "# plota o espectro óptico antes e depois da transmissão\n",
    "\n",
    "# Antes\n",
    "\"\"\" plt.figure(figsize=(12, 9))\n",
    "plt.xlim(paramTx.Fc - Fs / 2, paramTx.Fc + Fs / 2)\n",
    "plt.psd(\n",
    "    sigTx[:, 0],\n",
    "    Fs=Fs,\n",
    "    Fc=paramTx.Fc,\n",
    "    NFFT=4 * 1024,\n",
    "    sides=\"twosided\",\n",
    "    label=\"optical spectrum - Tx\",\n",
    ")\n",
    "\n",
    "# Depois\n",
    "plt.psd(\n",
    "    sigCh_0,\n",
    "    Fs=Fs,\n",
    "    Fc=paramTx.Fc,\n",
    "    NFFT=4 * 1024,\n",
    "    sides=\"twosided\",\n",
    "    label=\"optical spectrum - Rx\",\n",
    ")\n",
    "plt.legend()\n",
    "plt.title(\"optical spectrum\")\n",
    " \"\"\"\n",
    "\n",
    "# Números de elementos dispersivos\n",
    "N = 4\n",
    "# Detecção e demodulação do receptor\n",
    "Fc = paramTx.Fc\n",
    "Ts = 1 / Fs\n",
    "mod = QAMModem(m=paramTx.M)\n",
    "\n",
    "freqGrid = paramTx.freqGrid\n",
    "print(\n",
    "    \"Demodulating channel #%d , fc: %.4f THz, λ: %.4f nm\\n\"\n",
    "    % (\n",
    "        chIndex,\n",
    "        (Fc + freqGrid[chIndex]) / 1e12,\n",
    "        const.c / (Fc + freqGrid[chIndex]) / 1e-9,\n",
    "    )\n",
    ")\n",
    "\n",
    "symbTx = symbTx_[:, :, chIndex]\n",
    "Plo = 10 ** (Plo_dBm / 10) * 1e-3  # power in W\n",
    "\n",
    "print(\n",
    "    \"Local oscillator P: %.2f dBm, lw: %.2f kHz, FO: %.2f MHz\"\n",
    "    % (Plo_dBm, lw / 1e3, FO / 1e6)\n",
    ")\n",
    "\n",
    "# Gera o campo LO para todas as disperções\n",
    "sfm_0, sigRx_0 = LO_generate(sigCh_0, Plo, FO, Ts)\n",
    "sfm_1, sigRx_1 = LO_generate(sigCh_1, Plo, FO, Ts)\n",
    "sfm_2, sigRx_2 = LO_generate(sigCh_2, Plo, FO, Ts)\n",
    "sfm_3, sigRx_3 = LO_generate(sigCh_3, Plo, FO, Ts)\n",
    "\n",
    "# plota o espectro após adicionar LO\n",
    "\"\"\" plt.psd(\n",
    "    sigRx_0,\n",
    "    Fs=Fs,\n",
    "    Fc=paramTx.Fc,\n",
    "    NFFT=4 * 1024,\n",
    "    sides=\"twosided\",\n",
    "    label=\"optical spectrum - Rx + LO\",\n",
    ")\n",
    "plt.legend()\n",
    "plt.title(\"optical WDM spectrum\");\n",
    " \"\"\";"
   ]
  },
  {
   "cell_type": "markdown",
   "metadata": {},
   "source": [
    "### Simulação do receptor óptico de detecção direta ideal"
   ]
  },
  {
   "cell_type": "code",
   "execution_count": 5,
   "metadata": {},
   "outputs": [],
   "source": [
    "def Intensity_Values_and_Phase(sfm):\n",
    "    \"\"\"\n",
    "    Retorna valores de intensidade e fase do sinal\n",
    "\n",
    "    para sfm:\n",
    "    return Amp, sigPhase: Amplitude e Fase do sinal recebido.\n",
    "    \"\"\"\n",
    "    Amp = np.abs(sfm)\n",
    "    Amp = resample(Amp, paramADC)\n",
    "\n",
    "    sigPhase = np.angle(sfm)\n",
    "\n",
    "    return Amp, sigPhase"
   ]
  },
  {
   "cell_type": "code",
   "execution_count": 18,
   "metadata": {},
   "outputs": [],
   "source": [
    "## Realiza a reamostragem para taxa de amostragem ADC ##\n",
    "\n",
    "for index in range(0, N):\n",
    "    # Reamostragem para SigCh_index\n",
    "    sigCh = globals().get('sigCh_%d' % index)\n",
    "    sigCh = resample(sigCh, paramADC)\n",
    "    # Reamostragem para sfm_index\n",
    "    sfm = globals().get('sfm_%d' % index)\n",
    "    sfm = resample(sfm, paramADC)\n",
    "\n",
    "\"\"\" sigCh_0 = resample(sigCh_0, paramADC)\n",
    "sigCh_1 = resample(sigCh_1, paramADC)\n",
    "sigCh_2 = resample(sigCh_2, paramADC)\n",
    "sigCh_3 = resample(sigCh_3, paramADC)\n",
    "\n",
    "sfm_0 = resample(sfm_0, paramADC)\n",
    "sfm_1 = resample(sfm_1, paramADC)\n",
    "sfm_2 = resample(sfm_2, paramADC)\n",
    "sfm_3 = resample(sfm_3, paramADC)\n",
    " \"\"\"\n",
    "newFs = paramADC.SpS_out*paramTx.Rs\n",
    "\n",
    "## Simulação de uma detecção direta ideal ##\n",
    "\n",
    "#Amp_0, sigPhase_0 = Intensity_Values_and_Phase(sfm_0) # Primeiro sinal óptico \n",
    "#Amp_1, sigPhase_1 = Intensity_Values_and_Phase(sfm_1) # Elemento dispersivo em 25km\n",
    "#Amp_2, sigPhase_2 = Intensity_Values_and_Phase(sfm_2) # Elemento dispersivo em 35km\n",
    "#Amp_3, sigPhase_3 = Intensity_Values_and_Phase(sfm_3) # Elemento dispersivo em 55km"
   ]
  },
  {
   "cell_type": "markdown",
   "metadata": {},
   "source": [
    "### Estágio de recuperação de fase"
   ]
  },
  {
   "cell_type": "code",
   "execution_count": 9,
   "metadata": {},
   "outputs": [],
   "source": [
    "from tensorflow.keras.layers import Dense, Dropout, BatchNormalization\n",
    "from tensorflow.keras.models import Sequential\n",
    "from tensorflow.keras.callbacks import EarlyStopping\n",
    "import tensorflow as tf\n",
    "from tensorflow.keras import backend as K"
   ]
  },
  {
   "cell_type": "code",
   "execution_count": 40,
   "metadata": {},
   "outputs": [
    {
     "name": "stdout",
     "output_type": "stream",
     "text": [
      "Epoch 1/100\n",
      "4375/4375 [==============================] - 6s 1ms/step - loss: 0.0024 - val_loss: 4.0612e-04\n",
      "Epoch 2/100\n",
      "4375/4375 [==============================] - 5s 1ms/step - loss: 5.8329e-04 - val_loss: 4.1657e-04\n",
      "Epoch 3/100\n",
      "4375/4375 [==============================] - 5s 1ms/step - loss: 5.1993e-04 - val_loss: 3.3012e-04\n",
      "Epoch 4/100\n",
      "4375/4375 [==============================] - 5s 1ms/step - loss: 4.7450e-04 - val_loss: 3.3256e-04\n",
      "Epoch 5/100\n",
      "4375/4375 [==============================] - 5s 1ms/step - loss: 4.6614e-04 - val_loss: 3.0003e-04\n",
      "Epoch 6/100\n",
      "4375/4375 [==============================] - 5s 1ms/step - loss: 4.5199e-04 - val_loss: 3.0267e-04\n",
      "Epoch 7/100\n",
      "4375/4375 [==============================] - 5s 1ms/step - loss: 4.3937e-04 - val_loss: 2.6750e-04\n",
      "Epoch 8/100\n",
      "4375/4375 [==============================] - 5s 1ms/step - loss: 4.3363e-04 - val_loss: 2.6283e-04\n",
      "Epoch 9/100\n",
      "4375/4375 [==============================] - 5s 1ms/step - loss: 4.4365e-04 - val_loss: 2.7034e-04\n",
      "Epoch 10/100\n",
      "4375/4375 [==============================] - 5s 1ms/step - loss: 4.2558e-04 - val_loss: 3.4265e-04\n",
      "Epoch 11/100\n",
      "4375/4375 [==============================] - 5s 1ms/step - loss: 4.2818e-04 - val_loss: 2.8410e-04\n",
      "Epoch 12/100\n",
      "4375/4375 [==============================] - 5s 1ms/step - loss: 4.2397e-04 - val_loss: 2.7905e-04\n",
      "Epoch 13/100\n",
      "4375/4375 [==============================] - 5s 1ms/step - loss: 4.1554e-04 - val_loss: 3.5884e-04\n",
      "Model: \"sequential_1\"\n",
      "_________________________________________________________________\n",
      " Layer (type)                Output Shape              Param #   \n",
      "=================================================================\n",
      " batch_normalization_1 (Batc  (256, 256)               1024      \n",
      " hNormalization)                                                 \n",
      "                                                                 \n",
      " dense_4 (Dense)             (256, 4)                  1028      \n",
      "                                                                 \n",
      " dense_5 (Dense)             (256, 8)                  40        \n",
      "                                                                 \n",
      " dense_6 (Dense)             (256, 8)                  72        \n",
      "                                                                 \n",
      " dense_7 (Dense)             (256, 4)                  36        \n",
      "                                                                 \n",
      " dense_8 (Dense)             (256, 1)                  5         \n",
      "                                                                 \n",
      "=================================================================\n",
      "Total params: 2,205\n",
      "Trainable params: 1,693\n",
      "Non-trainable params: 512\n",
      "_________________________________________________________________\n"
     ]
    },
    {
     "data": {
      "text/plain": [
       "[<matplotlib.lines.Line2D at 0x1ece3b72310>,\n",
       " <matplotlib.lines.Line2D at 0x1ece3b721c0>,\n",
       " <matplotlib.lines.Line2D at 0x1ece3b20670>,\n",
       " <matplotlib.lines.Line2D at 0x1ece59757c0>]"
      ]
     },
     "execution_count": 40,
     "metadata": {},
     "output_type": "execute_result"
    },
    {
     "data": {
      "image/png": "[encoded data removed]",
      "text/plain": [
       "<Figure size 432x288 with 1 Axes>"
      ]
     },
     "metadata": {
      "needs_background": "light"
     },
     "output_type": "display_data"
    }
   ],
   "source": [
    "M = 256  # Número de amostras de amplitude para RNA\n",
    "\n",
    "sfm = np.concatenate((sfm_0, sfm_1, sfm_2, sfm_3))\n",
    "sfm = sfm/np.sqrt(signal_power(sfm))\n",
    "\n",
    "sigPhase = np.angle(sfm)  # Amostras de fase (L,)\n",
    "sigAmp = np.pad(np.abs(sfm), (int(M/2), int(M/2)), 'constant')  # Amostras de Amplitudes (L,)\n",
    "\n",
    "X_train = np.zeros((len(sigPhase), M))\n",
    "\n",
    "for index in range(len(sigPhase)):\n",
    "    X_train[index] = sigAmp[index:M+index]\n",
    "\n",
    "y_train = sigPhase.copy()\n",
    "\n",
    "# definindo o modelo da rede neural\n",
    "stop = EarlyStopping(monitor='val_loss', patience=5)\n",
    "model = Sequential()\n",
    "model.add(BatchNormalization())\n",
    "model.add(Dense(4, input_shape=(M,)))\n",
    "model.add(Dense(8, activation='relu'))\n",
    "model.add(Dense(8, activation='relu'))\n",
    "model.add(Dense(4, activation='relu'))\n",
    "model.add(Dense(1))\n",
    "model.compile(optimizer='adam', loss='mse')\n",
    "\n",
    "model.fit(X_train, y_train, epochs=100, callbacks=[stop], validation_split=0.3, batch_size=256)\n",
    "\n",
    "model.summary()\n",
    "\n",
    "cw1 = model.layers[1].get_weights()\n",
    "plt.plot(cw1[0])"
   ]
  },
  {
   "cell_type": "code",
   "execution_count": 41,
   "metadata": {},
   "outputs": [],
   "source": [
    "phiTime_NN = model.predict(X_train)\n",
    "phiTime_NN = phiTime_NN.reshape(-1,)"
   ]
  },
  {
   "cell_type": "code",
   "execution_count": 42,
   "metadata": {},
   "outputs": [
    {
     "data": {
      "text/plain": [
       "<matplotlib.legend.Legend at 0x1ece41db3d0>"
      ]
     },
     "execution_count": 42,
     "metadata": {},
     "output_type": "execute_result"
    },
    {
     "data": {
      "image/png": "[encoded data removed]",
      "text/plain": [
       "<Figure size 648x288 with 1 Axes>"
      ]
     },
     "metadata": {
      "needs_background": "light"
     },
     "output_type": "display_data"
    }
   ],
   "source": [
    "plt.figure(figsize=(9, 4))\n",
    "plt.plot(np.angle(sfm)[300:400], '-o', label='True')\n",
    "plt.plot(phiTime_NN[300:400], 's', label='NN')\n",
    "plt.legend()"
   ]
  },
  {
   "cell_type": "code",
   "execution_count": 43,
   "metadata": {},
   "outputs": [
    {
     "name": "stdout",
     "output_type": "stream",
     "text": [
      "channel 0\t fc : 193.1000 THz\n",
      "  mode #0\t power: 0.00 dBm\n",
      "channel 0\t power: -0.00 dBm\n",
      "\n",
      "total WDM dignal power: -0.00 dBm\n",
      "Demodulating channel #0 , fc: 193.1000 THz, λ: 1552.5244 nm\n",
      "\n",
      "Local oscillator P: 12.00 dBm, lw: 0.00 kHz, FO: 16000.00 MHz\n"
     ]
    }
   ],
   "source": [
    "M = model.layers[1].get_weights()[0].shape[0]\n",
    "\n",
    "# Gera sinal óptico\n",
    "sigTx, symbTx_, paramTx = simpleWDMTx(paramTx)\n",
    "\n",
    "# Simula a propagação de sinal linear na fibra\n",
    "sigCh_0 = linFiberCh(sigTx, Ltotal, alpha, D, Fc, Fs)\n",
    "# Adiciona multiplas disperções\n",
    "sigCh_1 = linFiberCh(sigTx, 25, alpha, D, Fc, Fs)\n",
    "sigCh_2 = linFiberCh(sigTx, 35, alpha, D, Fc, Fs)\n",
    "sigCh_3 = linFiberCh(sigTx, 55, alpha, D, Fc, Fs)\n",
    "\n",
    "# Detecção e demodulação do receptor\n",
    "Fc = paramTx.Fc\n",
    "Ts = 1 / Fs\n",
    "mod = QAMModem(m=paramTx.M)\n",
    "\n",
    "freqGrid = paramTx.freqGrid\n",
    "print(\n",
    "    \"Demodulating channel #%d , fc: %.4f THz, λ: %.4f nm\\n\"\n",
    "    % (\n",
    "        chIndex,\n",
    "        (Fc + freqGrid[chIndex]) / 1e12,\n",
    "        const.c / (Fc + freqGrid[chIndex]) / 1e-9,\n",
    "    )\n",
    ")\n",
    "\n",
    "symbTx = symbTx_[:, :, chIndex]\n",
    "Plo = 10 ** (Plo_dBm / 10) * 1e-3  # power in W\n",
    "\n",
    "print(\n",
    "    \"Local oscillator P: %.2f dBm, lw: %.2f kHz, FO: %.2f MHz\"\n",
    "    % (Plo_dBm, lw / 1e3, FO / 1e6)\n",
    ")\n",
    "\n",
    "# Gera o campo LO para todas as disperções\n",
    "sfm_0, sigRx_0 = LO_generate(sigCh_0, Plo, FO, Ts)\n",
    "sfm_1, sigRx_1 = LO_generate(sigCh_1, Plo, FO, Ts)\n",
    "sfm_2, sigRx_2 = LO_generate(sigCh_2, Plo, FO, Ts)\n",
    "sfm_3, sigRx_3 = LO_generate(sigCh_3, Plo, FO, Ts)\n",
    "\n",
    "## Realiza a reamostragem para taxa de amostragem ADC ##\n",
    "\n",
    "for index in range(0, N):\n",
    "    # Reamostragem para SigCh_index\n",
    "    sigCh = globals().get('sigCh_%d' % index)\n",
    "    sigCh = resample(sigCh, paramADC)\n",
    "    # Reamostragem para sfm_index\n",
    "    sfm = globals().get('sfm_%d' % index)\n",
    "    sfm = resample(sfm, paramADC)\n",
    "\n",
    "newFs = paramADC.SpS_out*paramTx.Rs\n",
    "\n",
    "## Simulação da detecção direta ideal\n",
    "\n",
    "#Amp_0, sigPhase_0 = Intensity_Values_and_Phase(sfm_0) # Primeiro sinal óptico\n",
    "#Amp_1, sigPhase_1 = Intensity_Values_and_Phase(sfm_1) # Elemento dispersivo em 25km\n",
    "#Amp_2, sigPhase_2 = Intensity_Values_and_Phase(sfm_2) # Elemento dispersivo em 35km\n",
    "#Amp_3, sigPhase_3 = Intensity_Values_and_Phase(sfm_3) # Elemento dispersivo em 55km\n",
    "\n",
    "for index in range(0, N):\n",
    "    sfm = globals().get('sfm_%d' % index)\n",
    "    sfm = sfm/np.sqrt(signal_power(sfm))\n",
    "\n",
    "# Valores de fase esperados para os quatro sinais\n",
    "sigPhase_0 = np.angle(sfm_0)\n",
    "sigPhase_1 = np.angle(sfm_1)\n",
    "sigPhase_2 = np.angle(sfm_2)\n",
    "sigPhase_3 = np.angle(sfm_3)\n",
    "\n",
    "# Valores de Amplitudes por DD\n",
    "sigAmp_0 = np.pad(np.abs(sfm_0), (int(M/2), int(M/2)), 'constant')\n",
    "sigAmp_1 = np.pad(np.abs(sfm_1), (int(M/2), int(M/2)), 'constant')\n",
    "sigAmp_2 = np.pad(np.abs(sfm_2), (int(M/2), int(M/2)), 'constant')\n",
    "sigAmp_3 = np.pad(np.abs(sfm_3), (int(M/2), int(M/2)), 'constant')\n",
    "\n",
    "X_input_0 = np.zeros((len(sigPhase_0), M))\n",
    "\n",
    "for index in range(len(sigPhase_0)):\n",
    "    X_input_0[index] = sigAmp_0[index:M+index]\n",
    "\n",
    "# Reconstrução do primeiro sinal sigCh_0\n",
    "phiTime_NN_0 = model.predict(X_input_0) \n",
    "phiTime_NN_0 = phiTime_NN_0.reshape(-1,)\n",
    "\n",
    "sigRx_0 = np.abs(sfm_0)*np.exp(1j*phiTime_NN_0)"
   ]
  }
 ],
 "metadata": {
  "interpreter": {
   "hash": "6a90d2e94899a98afb0a47000a9d24bed02713814328ecee1e6bdce0d06ae96c"
  },
  "kernelspec": {
   "display_name": "Python 3 (ipykernel)",
   "language": "python",
   "name": "python3"
  },
  "language_info": {
   "codemirror_mode": {
    "name": "ipython",
    "version": 3
   },
   "file_extension": ".py",
   "mimetype": "text/x-python",
   "name": "python",
   "nbconvert_exporter": "python",
   "pygments_lexer": "ipython3",
   "version": "3.9.9"
  }
 },
 "nbformat": 4,
 "nbformat_minor": 2
}
