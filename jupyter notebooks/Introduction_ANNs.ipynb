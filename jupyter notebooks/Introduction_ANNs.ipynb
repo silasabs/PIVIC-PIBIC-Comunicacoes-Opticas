{
 "cells": [
  {
   "cell_type": "code",
   "execution_count": 77,
   "metadata": {},
   "outputs": [],
   "source": [
    "import matplotlib.pyplot as plt\n",
    "import sympy as sp\n",
    "import numpy as np\n",
    "import scipy as spy\n",
    "import tensorflow as tf\n",
    "# Suporte a versão legado do tensorflow\n",
    "tf.compat.v1.disable_eager_execution()\n",
    "from tensorflow.keras.models import Sequential\n",
    "from tensorflow.keras.layers import Activation, Dense\n",
    "from tensorflow.keras.optimizers import Adam\n",
    "from tensorflow.keras.metrics import binary_accuracy\n",
    "from keras.models import load_model\n",
    "import math\n",
    "import random"
   ]
  },
  {
   "cell_type": "code",
   "execution_count": 78,
   "metadata": {},
   "outputs": [],
   "source": [
    "from IPython.core.display import HTML\n",
    "from IPython.core.pylabtools import figsize\n",
    "from IPython.display import display, Math"
   ]
  },
  {
   "cell_type": "code",
   "execution_count": 79,
   "metadata": {},
   "outputs": [
    {
     "name": "stdout",
     "output_type": "stream",
     "text": [
      "Num GPUs Available:  0\n"
     ]
    }
   ],
   "source": [
    "# Verifica se há GPUs disponíveis para serem utilizadas pelo tensorflow.\n",
    "print(\"Num GPUs Available: \", len(tf.config.experimental.list_physical_devices('GPU')))"
   ]
  },
  {
   "cell_type": "markdown",
   "metadata": {},
   "source": [
    "# Redes Neurais Artificiais \n",
    "# Table of Contents\n",
    "\n",
    "[1. Introdução as redes neurais artificiais](#heading--1)\n",
    "\n",
    "  * [1.1. Introdução as RNAs](#heading--1-1)\n",
    "  * [1.2. Perceptrons](#heading--1-2)\n",
    "  * [1.3. Representação matemática](#heading--1-3)\n",
    "  * [1.4. Funções de ativação](#heading--1-4)\n",
    "  * [1.5. Arquitetura de rede](#heading--1-5)\n",
    "  * [1.6. Exemplo para o problema de XOR](#heading--1-6)\n",
    "\n",
    "[2. Multilayer Perceptrons, redes de multiplas camadas](#heading--2)\n",
    "\n",
    "  * [2.1. Back-Propagation Algorithm](#heading--2-1)\n",
    "  * [2.2. Problemas de Classificação](#heading--2-1)    \n",
    "  * [2.3. Problemas de Regressão](#heading--2-2)\n",
    "----\n",
    "<a id=\"heading--1-1\"></a>\n",
    "## Introdução as RNAs\n",
    "\n",
    "<div style=\"text-align: justify\"> A utilização de redes neurais artificiais (RNAs) vem sendo comumente utilizada em diferentes setores de tecnologia, onde algumas caracteristicas como a não linearidade, adaptabilidade e a sua capacidade de implementação em hardware o tornam um grande potencial para ser inerente e tolerânte a falhas. Este notebook trata-se de introduzir o contéudo sobre RNAs contendo alguns algoritmos de aprendizado de máquina que podem implementar uma rede neural artificial MLP. </div>\n",
    "\n",
    "<a id=\"heading--1-2\"></a>\n",
    "## Perceptrons\n",
    "\n",
    "<div style=\"text-align: justify\"> As RNAs são inspiradas na analogia neurobiológica do cérebro, que é a prova viva de que o processamento paralelo tolerante a falhas não é apenas fisicamente possível, mas também rápido e poderoso, trazendo essa analogia para os algoritmos de aprendizado de máquina temos os neurônios (perceptrons) que é uma unidade de processamento de informações fundamental para a operação de uma rede neural, que formam a base para o projeto de uma grande família de redes neurais artificiais, a função do perceptron é funcionar como um classificador linear (binário). Além disso, é usado na aprendizagem supervisionada e pode ser usado para classificar os dados de entrada fornecidos.</div>\n",
    "<br/><center>Figura 1 - Modelo não linear de um neurônio, rotulado k</center><br/>\n",
    "\n",
    "<br/><img src=\"https://i.postimg.cc/xC6GLgKG/arquitetura-perceptron.png\" style=\"display:block; margin:auto\"><br/>\n",
    "\n",
    "Alguns elementos importantes que podemos observar são:\n",
    "\n",
    "**- Sinapses**: Conjunto de sinapses, ou links de conexão, onde cada um e caracterizado com um peso independente, onde o sinal de entrada ![equation](https://latex.codecogs.com/gif.latex?x_j) da sinapse ![equation](https://latex.codecogs.com/gif.latex?j) conectado ao neurônio ![equation](https://latex.codecogs.com/gif.latex?k) e multiplicado pelo peso sináptico ![equation](https://latex.codecogs.com/gif.latex?w_%7Bkj%7D).\n",
    "<br/>**- Adder**: Também existe a presença de um somatório que ira somar os sinais de entrada, ponderados pelas respectivas intensidades sinápticas do neurônio, tais operações constituem em uma combinação linear. <br/>\n",
    "**- Activation function**: Ao final também temos a função de ativação que serve para limitar a amplitude da saída de um neurônio. A função de ativação é conhecida como função de esmagamento, na medida em que comprime (limita) a faixa de amplitue permitida do sinal de saída para algum valor finito. Normalmente, a faixa de amplitude normalizada da saída de um neurônio é escrita como o intervalo de unidade fechada ![equation](https://latex.codecogs.com/gif.latex?%5B0%2C1%5D) ou, alternativamente, ![equation](https://latex.codecogs.com/gif.latex?%5B-1%2C1%5D).\n",
    "\n",
    "Além desses três itens podemos perceber a existência de um fator externo chamado de tendência (Bias) denotado por ![equation](https://latex.codecogs.com/gif.latex?b_k) ele tem como objetivo aumentar ou diminuir a entrada líquida da função de ativação, dependendo se ela e positiva ou negativa, respectivamente.\n",
    "\n",
    "<a id=\"heading--1-3\"></a>\n",
    "## Representação Matemática\n",
    "\n",
    "Podemos descrever o neurônio k representado na Fig. 1 escrevendo as sequintes equações:\n",
    "\n",
    "<br/><center> <font size=\"4\"> $$u_k=\\sum_{j=1}^{m}w_{kj}x_j$$ </font></center><br/>\n",
    "<br/><center> <font size=\"4\"> $$y_k=\\varphi(u_k + b_k)$$ </font></center><br/>\n",
    "\n",
    "Onde ![equation](https://latex.codecogs.com/gif.latex?x_1%2C%20x_2%2C%20...%20x_m) são sinais de entrada; ![equation](https://latex.codecogs.com/gif.latex?w_1%2C%20w_2%2C%20...%20w_%7Bkm%7D) são os respectivos pesos sinápticos do neurônio k; ![equation](https://latex.codecogs.com/gif.latex?u_k) é a saída do combinador linear devido aos sinais de entrada; ![equation](https://latex.codecogs.com/gif.latex?b_k) como sendo a têndencia, tendo como efeito a transformação afim à saída ![equation](https://latex.codecogs.com/gif.latex?u_k) do combinador linear; ![equation](https://latex.codecogs.com/gif.latex?%5Cvarphi%28%5Ccdot%29) representando a função de ativação e finalmente ![equation](https://latex.codecogs.com/gif.latex?y_k) sendo o resultado de saída do nosso neurônio.\n",
    "\n",
    "<br/><center> <font size=\"4\">$$v_k=u_k + b_k$$ </font></center><br/>\n",
    "\n",
    "O ![equation](https://latex.codecogs.com/gif.latex?b_k) é um parâmetro externo do neurônio ![equation](https://latex.codecogs.com/gif.latex?k). de forma equivalente, podemos formular a combinação das equações da seguinte forma:\n",
    "\n",
    "<br/><center> <font size=\"4\">$$v_k=\\sum_{j=0}^{m}w_{kj}x_j$$ </font></center><br/>\n",
    "\n",
    "<a id=\"heading--1-4\"></a>\n",
    "## Funções de ativação\n",
    "\n",
    "As funções de ativação denotada por ![equation](https://latex.codecogs.com/gif.latex?%5Cvarphi%28v%29) podem definir a saída de um neurônio em termos do campo local induzido ![equation](https://latex.codecogs.com/gif.latex?v) podemos encontrar diversos tipos de funções de ativação, abaixo encontramos as mais comuns\n",
    "\n",
    "**Função de limite (Heaviside)**: \n",
    "<br/><center> <font size=\"4\"> $$\\varphi(v) = \\begin{cases} 1, &{v \\geq 0} \\\\ 0, &{v < 0} \\end{cases}$$ </font></center><br/>\n",
    "\n",
    "Esta forma de função de limite é comumente referida como função de Heaviside.Correspondentemente, a saída do neurônio k que pode ser expressa como\n",
    "\n",
    "<br/><center> <font size=\"4\"> $$y_k = \\begin{cases} 1, &{v_k \\geq 0} \\\\ 0, &{v_k < 0} \\end{cases}$$ </font></center><br/>\n",
    "\n",
    "Onde ![equation](https://latex.codecogs.com/gif.latex?v_k) é o campo local induzido do neurônio; isso é,\n",
    "\n",
    "<br/><center> <font size=\"4\">$$v_k=\\sum_{j=1}^{m}w_{kj}x_j + b_k$$ </font></center><br/>\n"
   ]
  },
  {
   "cell_type": "code",
   "execution_count": 80,
   "metadata": {},
   "outputs": [
    {
     "data": {
      "image/png": "[encoded data removed]",
      "text/plain": [
       "<Figure size 432x288 with 1 Axes>"
      ]
     },
     "metadata": {
      "needs_background": "light"
     },
     "output_type": "display_data"
    }
   ],
   "source": [
    "# Heaviside function example\n",
    "def heaviside(v_signal):\n",
    "    \"\"\"\n",
    "    Função de ativação Heaviside \n",
    "    :param v_signal : campo local induzido do neurônio.\n",
    "    \n",
    "    :return activFunction: retorna valor 0 ou 1 dependendo do campo local induzido.\n",
    "    \"\"\"\n",
    "    activFunction = np.heaviside(v_signal, 1)\n",
    "    return activFunction\n",
    "    \n",
    "    # Forma alternativa\n",
    "    # return 1 * (v_signal >= 0) - 1 * (v_signal < 0)\n",
    "\n",
    "v = np.linspace(-5, 5, 10000)\n",
    "\n",
    "#plota a função Heaviside\n",
    "plt.title('heaviside function')\n",
    "plt.xlabel('v', fontsize=12)\n",
    "plt.ylabel('H(v)', fontsize=12)\n",
    "plt.xlim(-5, 5)\n",
    "plt.plot(v, heaviside(v))\n",
    "plt.grid()\n"
   ]
  },
  {
   "cell_type": "markdown",
   "metadata": {},
   "source": [
    "Na computação neural, esse neurônio é conhecido como o Modelo McCulloch – Pitts, em reconhecimento ao trabalho pioneiro realizado por McCulloch e Pitts (1943). Neste modelo, a saída de um neurônio assume o valor de 1 se o campo local induzido desse neurônio for não negativo e 0, caso contrário. Esta declaração descreve a propriedade tudo ou nada do modelo McCulloch – Pitts.\n",
    "\n",
    "**Função sgmóid**: A função sigmóide, cujo gráfico é em forma de \"S\", é de longe a forma mais comum de função de ativação usada na construção de redes neurais. É definido como uma função estritamente crescente que exibe um equilíbrio elegante entre o comportamento linear e não linear. Como exemplo de função linear temos a seguinte função\n",
    "\n",
    "<br/><center> <font size=\"4\"> $$\\varphi(v) = \\frac{1}{1 + exp(-av)}$$ </font></center><br/>\n",
    "\n",
    "<br/>Onde **a** é o parâmetro de inclinação da função sigmoid. Conforme o parâmetro de inclinação se aproxima do infinito, a função sigmóide torna-se simplesmente uma função de limite.<br/> "
   ]
  },
  {
   "cell_type": "code",
   "execution_count": 81,
   "metadata": {},
   "outputs": [
    {
     "data": {
      "image/png": "[encoded data removed]",
      "text/plain": [
       "<Figure size 432x288 with 1 Axes>"
      ]
     },
     "metadata": {
      "needs_background": "light"
     },
     "output_type": "display_data"
    }
   ],
   "source": [
    "def sigmoid(v_signal, a):\n",
    "  \"\"\"\n",
    "  Função de ativação sigmoid \n",
    "  :param v_signal : campo local induzido do neurônio.\n",
    "  :param a : parâmetro de inclinação da função sigmoid.\n",
    "\n",
    "  :return : retorna uma faixa contínua de valores 0 e 1.\n",
    "  \"\"\"\n",
    "  return 1 / (1 + np.exp(-a * v_signal))\n",
    "\n",
    "def generator():\n",
    "  \"\"\"\n",
    "  Função que gera inteiros aleatórios.\n",
    "  \"\"\"\n",
    "  return random.random()\n",
    "\n",
    "v = np.linspace(-5, 5, 10000)\n",
    "\n",
    "#plota as curvas da função sigmóide\n",
    "plt.title('sigmoid function')\n",
    "plt.xlabel('v', fontsize=12)\n",
    "plt.ylabel('S(v)', fontsize=12)\n",
    "plt.xlim(-5, 5)\n",
    "plt.plot(v, sigmoid(v, generator()))\n",
    "plt.plot(v, sigmoid(v, generator()))\n",
    "plt.plot(v, sigmoid(v, generator()))\n",
    "plt.plot(v, sigmoid(v, generator()))\n",
    "plt.grid()\n"
   ]
  },
  {
   "cell_type": "markdown",
   "metadata": {},
   "source": [
    "Enquanto uma função de limite assume o valor de 0 ou 1, uma função sigmoid assume uma faixa contínua de valores de 0 a 1. Além disso podemos observar também que o a função sigmoid é diferenciável, enquanto a função de limite não é, onde a caracteristica de ser diferenciável e bastante importante na teoria das redes neurais. \n",
    "\n",
    "Outra função bastante útil e a **função signum**, onde algumas vezes e necessário ter a função de ativação na faixa de -1 a 1, caso em que a função de ativação é uma função ímpar do campo local induzido, sendo essa função definida como\n",
    "\n",
    "<br/><center> <font size=\"4\"> $$\\varphi(v) = \\begin{cases} 1, &{v > 0} \\\\ 0, &{v = 0} \\\\ -1, &{v < 0} \\end{cases}$$ </font></center><br/>"
   ]
  },
  {
   "cell_type": "code",
   "execution_count": 82,
   "metadata": {},
   "outputs": [
    {
     "data": {
      "image/png": "[encoded data removed]",
      "text/plain": [
       "<Figure size 432x288 with 1 Axes>"
      ]
     },
     "metadata": {
      "needs_background": "light"
     },
     "output_type": "display_data"
    }
   ],
   "source": [
    "def signum(v_signal):\n",
    "    \"\"\"\n",
    "    Função de ativação signum\n",
    "    :param v_signal : campo local induzido do neurônio.\n",
    "\n",
    "    :return activFunction: retorna valores na faixa de -1 e 1.\n",
    "    \"\"\"\n",
    "    activFunction = np.sign(v_signal)\n",
    "    return activFunction\n",
    "    \n",
    "\n",
    "v = np.linspace(-5, 5, 10000)\n",
    "\n",
    "#plota a curva da função signum\n",
    "plt.title('signum function')\n",
    "plt.xlabel('v', fontsize=12)\n",
    "plt.ylabel('Signum(v)', fontsize=12)\n",
    "plt.xlim(-5, 5)\n",
    "plt.plot(v, signum(v))\n",
    "plt.grid()\n"
   ]
  },
  {
   "cell_type": "markdown",
   "metadata": {},
   "source": [
    "Para a forma correspondente de uma função sigmóide, podemos usar o função tangente hiperbólica, definido por\n",
    "\n",
    "<br/><center> <font size=\"4\"> $$\\varphi(v) = tanh(v)$$ </font></center><br/>\n",
    "\n",
    "Permitir que uma função de ativação do tipo sigmóide assuma valores negativos pode render benefícios práticos satisfatórios. Abaixo temos o plot das funções de ativação mais utilizadas pelos perceptrons."
   ]
  },
  {
   "cell_type": "code",
   "execution_count": 83,
   "metadata": {},
   "outputs": [
    {
     "data": {
      "image/png": "[encoded data removed]",
      "text/plain": [
       "<Figure size 432x288 with 1 Axes>"
      ]
     },
     "metadata": {
      "needs_background": "light"
     },
     "output_type": "display_data"
    }
   ],
   "source": [
    "#plota as funções de ativação ja vistas\n",
    "plt.title('Activation functions')\n",
    "plt.xlim(-5, 5)\n",
    "\n",
    "# gera um intervalo\n",
    "t = np.linspace(-5, 5, 10)\n",
    "\n",
    "#plot das funções de ativação\n",
    "plt.plot(v, sigmoid(v, generator()), 'r--', label='Sigmoid')\n",
    "plt.plot(v, signum(v), label = 'Signum')\n",
    "plt.plot(t, heaviside(t), '--', label='Heaviside')\n",
    "plt.plot(v, np.tanh(v), label='Tanh')\n",
    "plt.legend()\n",
    "plt.grid()\n"
   ]
  },
  {
   "cell_type": "markdown",
   "metadata": {},
   "source": [
    "<a id=\"heading--1-5\"></a>\n",
    "# Arquiteturas de Redes Neurais\n",
    "\n",
    "A maneira como os neurônios de uma rede neural são estruturados está intimamente ligada ao algoritmo de aprendizagem usado para treinar a rede. Em geral temos três classes fundamentalmente diferentes de\n",
    "arquiteturas de rede.\n",
    "\n",
    "- **Redes Feedforward de Camada Única** : Em uma rede neural os neurônios são organizados na forma de camadas, na forma mais simples de uma rede em camadas, temos uma camada de entrada de nós de origem que se projetam diretamente em um camada de saída de neurônios (nós de computação), mas não viceversa. Em outras palavras significa que não há loops na rede, as informações sempre são alimentadas para a frente, nunca são enviadas de volta e não formam um ciclo. <br/><center>Redes Feedforward de Camada Única</center><br/>\n",
    "\n",
    "<br/><img src=\"https://i.postimg.cc/dt0dRX31/1.png\" style=\"display:block; margin:auto\"><br/>\n",
    "\n",
    "- **Redes Multilayer Feedforward** : A segunda classe de uma rede neural feedforward se distingue pela presença de um ou mais camadas escondidas, cujos nós de computação são chamados de forma correspondente\n",
    "neurônios escondidos ou unidades escondidas; o termo “oculto” refere-se ao fato de que essa parte da rede neural não é vista diretamente da entrada ou da saída da rede. A função dos neurônios ocultos é intervir entre a entrada externa e a saída da rede de alguma maneira útil. Em muitas aplicações, as unidades dessas redes aplicam uma função sigmoid como uma função de ativação. \n",
    "\n",
    "<center>Redes Multilayer Feedforward</center>\n",
    "\n",
    "<br/><img src=\"https://i.postimg.cc/tgFVCGSr/2.png\" style=\"display:block; margin:auto\"><br/>\n",
    "\n",
    "- **Redes Recorrentes** : Uma rede neural recorrente distingue-se de uma rede neural feedforward por ter pelo menos um ciclo, onde a rede recorrente pode consistir em uma única camada de neurônios com cada neurônio alimentando seu sinal de saída de volta para as entradas de todos os outros neurônios, em consequência esse tipo de rede se torna muito úteis e poderosas, os loops se comportam na forma de feedback que se refere a uma situação em que a saída de um neurônio é realimentada em sua própria entrada. A presença de loops de feedback, seja na estrutura recorrente tem um impacto profundo na capacidade de aprendizagem da rede e em seu desempenho. Além disso, os loops de feedback envolvem o uso de ramos específicos compostos de elementos de atraso de tempo unitário que resulta em um comportamento dinâmico não linear, assumindo que a rede neural contém unidades não lineares, o atraso de tempo unitário pode ser denotado como: $$z^{-1}$$ \n",
    "\n",
    "<center>Redes Recorrentes</center>\n",
    "\n",
    "<img src=\"https://i.postimg.cc/YSxYzw6v/3.png\" style=\"display:block; margin:auto\">\n",
    "\n",
    "<a id=\"heading--1-6\"></a>\n",
    "\n",
    "## Hiperparâmetros de uma rede neural\n",
    "\n",
    "<div style=\"text-align: justify\"> Até então foi abordado como funcionam os neurônios que podem agir como uma unidade de processamento simples, tais neurônios se unem por meio de conexões sinápticas que formam a base para o projeto de uma grande família de redes neurais artificiais, também foi abordado a importância dos hiperparâmtros de uma rede neural como a definição de uma função de ativação que definem a saída de um neurônio e a importância dessas funções serem diferenciáveis no uso de alguns algoritmos como o Back-Propagation que veremos mais a frente, o mesmo realiza ajustes nos pesos e vieses da rede visando minimizar a função de perda, tal função visa calcular a  diferença entre os resultados obtidos com os resultados esperados quantificando a perda associado a um evento. Além desses parâmetros podemos definir um otimizador sendo este um dos parâmetros que mais influenciam no desempenho da rede neural, o mesmo tem como objetivo diminuir o erro entre os resultados obtidos durante o treinamento em comparação com os resultados desejados. A escolha desses parâmetros podem variar de acordo com o problema a ser solucionado, visto que certas funções podem se comportar melhor em uma determinada situação do que outras. <br>\n",
    "\n"
   ]
  },
  {
   "cell_type": "markdown",
   "metadata": {},
   "source": [
    "## Exemplo para o problema de XOR\n",
    "\n",
    "Primeiramente precisamos saber o que e a função XOR, nada mais é que uma operação lógica exclusiva ou (disjunção exclusiva) que produz verdadeiro somente quando as entradas diferem, a operação pode ser representada como:\n",
    "\n",
    "| Primeira entrada | Segunda entrada | Saída da função |\n",
    "|:---: |:---: |:---: |\n",
    "| X0 | X1 | Y = X0 xor X1 |\n",
    "| 0 | 0 | 0 |\n",
    "| 0 | 1 | 1 |\n",
    "| 1 | 0 | 1 |\n",
    "| 1 | 1 | 0 |\n",
    "\n",
    "Minsky e Papert analisaram matematicamente o Perceptron e demostraram que redes de uma camada não são capazes de solucionar problemas que não sejam linearmente separáveis. Como não acreditavam na possibilidade de se construir um método de treinamento para redes com mais de uma camada, eles concluíram que as redes neurais seriam sempre suscetíveis a essa limitação. Nesse ponto e intropduzido as redes multilayer perceptron (MLP) ou Perceptron multicamadas, como vimos anteriormente podemos utilizar diversas arquiteturas de redes para diferentes problemas, assim iremos introduzir o primeiro algoritmo de aprendizagem para uma rede MLP.\n"
   ]
  },
  {
   "cell_type": "markdown",
   "metadata": {},
   "source": [
    "## Construindo a Rede Neural\n",
    "\n",
    "Para a resolução do problema de XOR poderemos implementar uma rede MLP e treiná-la utilizando o gradiente decendente ou outro otimizador de sua preferência como o Adam, e como função de ativação utilizaremos a função relu. Sequindo a seguinte arquitetura.\n",
    "\n",
    "<br/><img src=\"https://i.postimg.cc/t4qQYZqz/diagrama.png\" style=\"display:block; margin:auto\"><br/>"
   ]
  },
  {
   "cell_type": "code",
   "execution_count": 85,
   "metadata": {},
   "outputs": [],
   "source": [
    "from tensorflow.keras.callbacks import EarlyStopping\n",
    "from tensorflow.keras.layers import Dense, Dropout, BatchNormalization"
   ]
  },
  {
   "cell_type": "code",
   "execution_count": 120,
   "metadata": {},
   "outputs": [
    {
     "name": "stdout",
     "output_type": "stream",
     "text": [
      "WARNING:tensorflow:The `nb_epoch` argument in `fit` has been renamed `epochs`.\n",
      "Train on 4 samples\n",
      "Epoch 1/100\n",
      "4/4 [==============================] - ETA: 0s - loss: 0.2237 - binary_accuracy: 0.7500WARNING:tensorflow:Early stopping conditioned on metric `val_loss` which is not available. Available metrics are: loss,binary_accuracy\n",
      "4/4 [==============================] - 0s 14ms/sample - loss: 0.2237 - binary_accuracy: 0.7500\n",
      "Epoch 2/100\n",
      "4/4 [==============================] - ETA: 0s - loss: 0.2149 - binary_accuracy: 0.5000WARNING:tensorflow:Early stopping conditioned on metric `val_loss` which is not available. Available metrics are: loss,binary_accuracy\n",
      "4/4 [==============================] - 0s 498us/sample - loss: 0.2149 - binary_accuracy: 0.5000\n",
      "Epoch 3/100\n",
      "4/4 [==============================] - ETA: 0s - loss: 0.1019 - binary_accuracy: 1.0000WARNING:tensorflow:Early stopping conditioned on metric `val_loss` which is not available. Available metrics are: loss,binary_accuracy\n",
      "4/4 [==============================] - 0s 748us/sample - loss: 0.1019 - binary_accuracy: 1.0000\n",
      "Epoch 4/100\n",
      "4/4 [==============================] - ETA: 0s - loss: 0.0990 - binary_accuracy: 0.7500WARNING:tensorflow:Early stopping conditioned on metric `val_loss` which is not available. Available metrics are: loss,binary_accuracy\n",
      "4/4 [==============================] - 0s 749us/sample - loss: 0.0990 - binary_accuracy: 0.7500\n",
      "Epoch 5/100\n",
      "4/4 [==============================] - ETA: 0s - loss: 0.0212 - binary_accuracy: 1.0000WARNING:tensorflow:Early stopping conditioned on metric `val_loss` which is not available. Available metrics are: loss,binary_accuracy\n",
      "4/4 [==============================] - 0s 498us/sample - loss: 0.0212 - binary_accuracy: 1.0000\n",
      "Epoch 6/100\n",
      "4/4 [==============================] - ETA: 0s - loss: 0.0322 - binary_accuracy: 1.0000WARNING:tensorflow:Early stopping conditioned on metric `val_loss` which is not available. Available metrics are: loss,binary_accuracy\n",
      "4/4 [==============================] - 0s 249us/sample - loss: 0.0322 - binary_accuracy: 1.0000\n",
      "Epoch 7/100\n",
      "4/4 [==============================] - ETA: 0s - loss: 0.0413 - binary_accuracy: 1.0000WARNING:tensorflow:Early stopping conditioned on metric `val_loss` which is not available. Available metrics are: loss,binary_accuracy\n",
      "4/4 [==============================] - 0s 499us/sample - loss: 0.0413 - binary_accuracy: 1.0000\n",
      "Epoch 8/100\n",
      "4/4 [==============================] - ETA: 0s - loss: 0.0057 - binary_accuracy: 1.0000WARNING:tensorflow:Early stopping conditioned on metric `val_loss` which is not available. Available metrics are: loss,binary_accuracy\n",
      "4/4 [==============================] - 0s 498us/sample - loss: 0.0057 - binary_accuracy: 1.0000\n",
      "Epoch 9/100\n",
      "4/4 [==============================] - ETA: 0s - loss: 0.0128 - binary_accuracy: 1.0000WARNING:tensorflow:Early stopping conditioned on metric `val_loss` which is not available. Available metrics are: loss,binary_accuracy\n",
      "4/4 [==============================] - 0s 499us/sample - loss: 0.0128 - binary_accuracy: 1.0000\n",
      "Epoch 10/100\n",
      "4/4 [==============================] - ETA: 0s - loss: 0.0313 - binary_accuracy: 1.0000WARNING:tensorflow:Early stopping conditioned on metric `val_loss` which is not available. Available metrics are: loss,binary_accuracy\n",
      "4/4 [==============================] - 0s 499us/sample - loss: 0.0313 - binary_accuracy: 1.0000\n",
      "Epoch 11/100\n",
      "4/4 [==============================] - ETA: 0s - loss: 0.0219 - binary_accuracy: 1.0000WARNING:tensorflow:Early stopping conditioned on metric `val_loss` which is not available. Available metrics are: loss,binary_accuracy\n",
      "4/4 [==============================] - 0s 997us/sample - loss: 0.0219 - binary_accuracy: 1.0000\n",
      "Epoch 12/100\n",
      "4/4 [==============================] - ETA: 0s - loss: 0.0022 - binary_accuracy: 1.0000WARNING:tensorflow:Early stopping conditioned on metric `val_loss` which is not available. Available metrics are: loss,binary_accuracy\n",
      "4/4 [==============================] - 0s 249us/sample - loss: 0.0022 - binary_accuracy: 1.0000\n",
      "Epoch 13/100\n",
      "4/4 [==============================] - ETA: 0s - loss: 0.0065 - binary_accuracy: 1.0000WARNING:tensorflow:Early stopping conditioned on metric `val_loss` which is not available. Available metrics are: loss,binary_accuracy\n",
      "4/4 [==============================] - 0s 499us/sample - loss: 0.0065 - binary_accuracy: 1.0000\n",
      "Epoch 14/100\n",
      "4/4 [==============================] - ETA: 0s - loss: 0.0198 - binary_accuracy: 1.0000WARNING:tensorflow:Early stopping conditioned on metric `val_loss` which is not available. Available metrics are: loss,binary_accuracy\n",
      "4/4 [==============================] - 0s 499us/sample - loss: 0.0198 - binary_accuracy: 1.0000\n",
      "Epoch 15/100\n",
      "4/4 [==============================] - ETA: 0s - loss: 0.0110 - binary_accuracy: 1.0000WARNING:tensorflow:Early stopping conditioned on metric `val_loss` which is not available. Available metrics are: loss,binary_accuracy\n",
      "4/4 [==============================] - 0s 499us/sample - loss: 0.0110 - binary_accuracy: 1.0000\n",
      "Epoch 16/100\n",
      "4/4 [==============================] - ETA: 0s - loss: 0.0024 - binary_accuracy: 1.0000WARNING:tensorflow:Early stopping conditioned on metric `val_loss` which is not available. Available metrics are: loss,binary_accuracy\n",
      "4/4 [==============================] - 0s 748us/sample - loss: 0.0024 - binary_accuracy: 1.0000\n",
      "Epoch 17/100\n",
      "4/4 [==============================] - ETA: 0s - loss: 0.0084 - binary_accuracy: 1.0000WARNING:tensorflow:Early stopping conditioned on metric `val_loss` which is not available. Available metrics are: loss,binary_accuracy\n",
      "4/4 [==============================] - 0s 499us/sample - loss: 0.0084 - binary_accuracy: 1.0000\n",
      "Epoch 18/100\n",
      "4/4 [==============================] - ETA: 0s - loss: 0.0116 - binary_accuracy: 1.0000WARNING:tensorflow:Early stopping conditioned on metric `val_loss` which is not available. Available metrics are: loss,binary_accuracy\n",
      "4/4 [==============================] - 0s 499us/sample - loss: 0.0116 - binary_accuracy: 1.0000\n",
      "Epoch 19/100\n",
      "4/4 [==============================] - ETA: 0s - loss: 0.0049 - binary_accuracy: 1.0000WARNING:tensorflow:Early stopping conditioned on metric `val_loss` which is not available. Available metrics are: loss,binary_accuracy\n",
      "4/4 [==============================] - 0s 499us/sample - loss: 0.0049 - binary_accuracy: 1.0000\n",
      "Epoch 20/100\n",
      "4/4 [==============================] - ETA: 0s - loss: 0.0018 - binary_accuracy: 1.0000WARNING:tensorflow:Early stopping conditioned on metric `val_loss` which is not available. Available metrics are: loss,binary_accuracy\n",
      "4/4 [==============================] - 0s 2ms/sample - loss: 0.0018 - binary_accuracy: 1.0000\n",
      "Epoch 21/100\n",
      "4/4 [==============================] - ETA: 0s - loss: 0.0077 - binary_accuracy: 1.0000WARNING:tensorflow:Early stopping conditioned on metric `val_loss` which is not available. Available metrics are: loss,binary_accuracy\n",
      "4/4 [==============================] - 0s 748us/sample - loss: 0.0077 - binary_accuracy: 1.0000\n",
      "Epoch 22/100\n",
      "4/4 [==============================] - ETA: 0s - loss: 0.0075 - binary_accuracy: 1.0000WARNING:tensorflow:Early stopping conditioned on metric `val_loss` which is not available. Available metrics are: loss,binary_accuracy\n",
      "4/4 [==============================] - 0s 1ms/sample - loss: 0.0075 - binary_accuracy: 1.0000\n",
      "Epoch 23/100\n",
      "4/4 [==============================] - ETA: 0s - loss: 0.0011 - binary_accuracy: 1.0000WARNING:tensorflow:Early stopping conditioned on metric `val_loss` which is not available. Available metrics are: loss,binary_accuracy\n",
      "4/4 [==============================] - 0s 499us/sample - loss: 0.0011 - binary_accuracy: 1.0000\n",
      "Epoch 24/100\n",
      "4/4 [==============================] - ETA: 0s - loss: 0.0012 - binary_accuracy: 1.0000WARNING:tensorflow:Early stopping conditioned on metric `val_loss` which is not available. Available metrics are: loss,binary_accuracy\n",
      "4/4 [==============================] - 0s 499us/sample - loss: 0.0012 - binary_accuracy: 1.0000\n",
      "Epoch 25/100\n",
      "4/4 [==============================] - ETA: 0s - loss: 0.0057 - binary_accuracy: 1.0000WARNING:tensorflow:Early stopping conditioned on metric `val_loss` which is not available. Available metrics are: loss,binary_accuracy\n",
      "4/4 [==============================] - 0s 750us/sample - loss: 0.0057 - binary_accuracy: 1.0000\n",
      "Epoch 26/100\n",
      "4/4 [==============================] - ETA: 0s - loss: 0.0052 - binary_accuracy: 1.0000WARNING:tensorflow:Early stopping conditioned on metric `val_loss` which is not available. Available metrics are: loss,binary_accuracy\n",
      "4/4 [==============================] - 0s 499us/sample - loss: 0.0052 - binary_accuracy: 1.0000\n",
      "Epoch 27/100\n",
      "4/4 [==============================] - ETA: 0s - loss: 0.0013 - binary_accuracy: 1.0000WARNING:tensorflow:Early stopping conditioned on metric `val_loss` which is not available. Available metrics are: loss,binary_accuracy\n",
      "4/4 [==============================] - 0s 498us/sample - loss: 0.0013 - binary_accuracy: 1.0000\n",
      "Epoch 28/100\n",
      "4/4 [==============================] - ETA: 0s - loss: 0.0011 - binary_accuracy: 1.0000WARNING:tensorflow:Early stopping conditioned on metric `val_loss` which is not available. Available metrics are: loss,binary_accuracy\n",
      "4/4 [==============================] - 0s 499us/sample - loss: 0.0011 - binary_accuracy: 1.0000\n",
      "Epoch 29/100\n",
      "4/4 [==============================] - ETA: 0s - loss: 0.0034 - binary_accuracy: 1.0000WARNING:tensorflow:Early stopping conditioned on metric `val_loss` which is not available. Available metrics are: loss,binary_accuracy\n",
      "4/4 [==============================] - 0s 499us/sample - loss: 0.0034 - binary_accuracy: 1.0000\n",
      "Epoch 30/100\n",
      "4/4 [==============================] - ETA: 0s - loss: 0.0024 - binary_accuracy: 1.0000WARNING:tensorflow:Early stopping conditioned on metric `val_loss` which is not available. Available metrics are: loss,binary_accuracy\n",
      "4/4 [==============================] - 0s 748us/sample - loss: 0.0024 - binary_accuracy: 1.0000\n",
      "Epoch 31/100\n",
      "4/4 [==============================] - ETA: 0s - loss: 6.8706e-04 - binary_accuracy: 1.0000WARNING:tensorflow:Early stopping conditioned on metric `val_loss` which is not available. Available metrics are: loss,binary_accuracy\n",
      "4/4 [==============================] - 0s 499us/sample - loss: 6.8706e-04 - binary_accuracy: 1.0000\n",
      "Epoch 32/100\n",
      "4/4 [==============================] - ETA: 0s - loss: 0.0019 - binary_accuracy: 1.0000WARNING:tensorflow:Early stopping conditioned on metric `val_loss` which is not available. Available metrics are: loss,binary_accuracy\n",
      "4/4 [==============================] - 0s 499us/sample - loss: 0.0019 - binary_accuracy: 1.0000\n",
      "Epoch 33/100\n",
      "4/4 [==============================] - ETA: 0s - loss: 0.0026 - binary_accuracy: 1.0000WARNING:tensorflow:Early stopping conditioned on metric `val_loss` which is not available. Available metrics are: loss,binary_accuracy\n",
      "4/4 [==============================] - 0s 249us/sample - loss: 0.0026 - binary_accuracy: 1.0000\n",
      "Epoch 34/100\n",
      "4/4 [==============================] - ETA: 0s - loss: 9.3974e-04 - binary_accuracy: 1.0000WARNING:tensorflow:Early stopping conditioned on metric `val_loss` which is not available. Available metrics are: loss,binary_accuracy\n",
      "4/4 [==============================] - 0s 249us/sample - loss: 9.3974e-04 - binary_accuracy: 1.0000\n",
      "Epoch 35/100\n",
      "4/4 [==============================] - ETA: 0s - loss: 1.4573e-04 - binary_accuracy: 1.0000WARNING:tensorflow:Early stopping conditioned on metric `val_loss` which is not available. Available metrics are: loss,binary_accuracy\n",
      "4/4 [==============================] - 0s 748us/sample - loss: 1.4573e-04 - binary_accuracy: 1.0000\n",
      "Epoch 36/100\n",
      "4/4 [==============================] - ETA: 0s - loss: 0.0016 - binary_accuracy: 1.0000WARNING:tensorflow:Early stopping conditioned on metric `val_loss` which is not available. Available metrics are: loss,binary_accuracy\n",
      "4/4 [==============================] - 0s 249us/sample - loss: 0.0016 - binary_accuracy: 1.0000\n",
      "Epoch 37/100\n",
      "4/4 [==============================] - ETA: 0s - loss: 0.0018 - binary_accuracy: 1.0000WARNING:tensorflow:Early stopping conditioned on metric `val_loss` which is not available. Available metrics are: loss,binary_accuracy\n",
      "4/4 [==============================] - 0s 499us/sample - loss: 0.0018 - binary_accuracy: 1.0000\n",
      "Epoch 38/100\n",
      "4/4 [==============================] - ETA: 0s - loss: 3.5968e-04 - binary_accuracy: 1.0000WARNING:tensorflow:Early stopping conditioned on metric `val_loss` which is not available. Available metrics are: loss,binary_accuracy\n",
      "4/4 [==============================] - 0s 499us/sample - loss: 3.5968e-04 - binary_accuracy: 1.0000\n",
      "Epoch 39/100\n",
      "4/4 [==============================] - ETA: 0s - loss: 3.1119e-04 - binary_accuracy: 1.0000WARNING:tensorflow:Early stopping conditioned on metric `val_loss` which is not available. Available metrics are: loss,binary_accuracy\n",
      "4/4 [==============================] - 0s 499us/sample - loss: 3.1119e-04 - binary_accuracy: 1.0000\n",
      "Epoch 40/100\n",
      "4/4 [==============================] - ETA: 0s - loss: 0.0012 - binary_accuracy: 1.0000WARNING:tensorflow:Early stopping conditioned on metric `val_loss` which is not available. Available metrics are: loss,binary_accuracy\n",
      "4/4 [==============================] - 0s 748us/sample - loss: 0.0012 - binary_accuracy: 1.0000\n",
      "Epoch 41/100\n",
      "4/4 [==============================] - ETA: 0s - loss: 8.7566e-04 - binary_accuracy: 1.0000WARNING:tensorflow:Early stopping conditioned on metric `val_loss` which is not available. Available metrics are: loss,binary_accuracy\n",
      "4/4 [==============================] - 0s 499us/sample - loss: 8.7566e-04 - binary_accuracy: 1.0000\n",
      "Epoch 42/100\n",
      "4/4 [==============================] - ETA: 0s - loss: 2.2608e-04 - binary_accuracy: 1.0000WARNING:tensorflow:Early stopping conditioned on metric `val_loss` which is not available. Available metrics are: loss,binary_accuracy\n",
      "4/4 [==============================] - 0s 1ms/sample - loss: 2.2608e-04 - binary_accuracy: 1.0000\n",
      "Epoch 43/100\n",
      "4/4 [==============================] - ETA: 0s - loss: 6.2442e-04 - binary_accuracy: 1.0000WARNING:tensorflow:Early stopping conditioned on metric `val_loss` which is not available. Available metrics are: loss,binary_accuracy\n",
      "4/4 [==============================] - 0s 498us/sample - loss: 6.2442e-04 - binary_accuracy: 1.0000\n",
      "Epoch 44/100\n",
      "4/4 [==============================] - ETA: 0s - loss: 8.0006e-04 - binary_accuracy: 1.0000WARNING:tensorflow:Early stopping conditioned on metric `val_loss` which is not available. Available metrics are: loss,binary_accuracy\n",
      "4/4 [==============================] - 0s 498us/sample - loss: 8.0006e-04 - binary_accuracy: 1.0000\n",
      "Epoch 45/100\n",
      "4/4 [==============================] - ETA: 0s - loss: 1.8226e-04 - binary_accuracy: 1.0000WARNING:tensorflow:Early stopping conditioned on metric `val_loss` which is not available. Available metrics are: loss,binary_accuracy\n",
      "4/4 [==============================] - 0s 499us/sample - loss: 1.8226e-04 - binary_accuracy: 1.0000\n",
      "Epoch 46/100\n",
      "4/4 [==============================] - ETA: 0s - loss: 1.9438e-04 - binary_accuracy: 1.0000WARNING:tensorflow:Early stopping conditioned on metric `val_loss` which is not available. Available metrics are: loss,binary_accuracy\n",
      "4/4 [==============================] - 0s 499us/sample - loss: 1.9438e-04 - binary_accuracy: 1.0000\n",
      "Epoch 47/100\n",
      "4/4 [==============================] - ETA: 0s - loss: 6.8368e-04 - binary_accuracy: 1.0000WARNING:tensorflow:Early stopping conditioned on metric `val_loss` which is not available. Available metrics are: loss,binary_accuracy\n",
      "4/4 [==============================] - 0s 499us/sample - loss: 6.8368e-04 - binary_accuracy: 1.0000\n",
      "Epoch 48/100\n",
      "4/4 [==============================] - ETA: 0s - loss: 4.5578e-04 - binary_accuracy: 1.0000WARNING:tensorflow:Early stopping conditioned on metric `val_loss` which is not available. Available metrics are: loss,binary_accuracy\n",
      "4/4 [==============================] - 0s 499us/sample - loss: 4.5578e-04 - binary_accuracy: 1.0000\n",
      "Epoch 49/100\n",
      "4/4 [==============================] - ETA: 0s - loss: 1.8797e-05 - binary_accuracy: 1.0000WARNING:tensorflow:Early stopping conditioned on metric `val_loss` which is not available. Available metrics are: loss,binary_accuracy\n",
      "4/4 [==============================] - 0s 499us/sample - loss: 1.8797e-05 - binary_accuracy: 1.0000\n",
      "Epoch 50/100\n",
      "4/4 [==============================] - ETA: 0s - loss: 2.5163e-04 - binary_accuracy: 1.0000WARNING:tensorflow:Early stopping conditioned on metric `val_loss` which is not available. Available metrics are: loss,binary_accuracy\n",
      "4/4 [==============================] - 0s 499us/sample - loss: 2.5163e-04 - binary_accuracy: 1.0000\n",
      "Epoch 51/100\n",
      "4/4 [==============================] - ETA: 0s - loss: 4.3816e-04 - binary_accuracy: 1.0000WARNING:tensorflow:Early stopping conditioned on metric `val_loss` which is not available. Available metrics are: loss,binary_accuracy\n",
      "4/4 [==============================] - 0s 1ms/sample - loss: 4.3816e-04 - binary_accuracy: 1.0000\n",
      "Epoch 52/100\n",
      "4/4 [==============================] - ETA: 0s - loss: 1.4891e-04 - binary_accuracy: 1.0000WARNING:tensorflow:Early stopping conditioned on metric `val_loss` which is not available. Available metrics are: loss,binary_accuracy\n",
      "4/4 [==============================] - 0s 748us/sample - loss: 1.4891e-04 - binary_accuracy: 1.0000\n",
      "Epoch 53/100\n",
      "4/4 [==============================] - ETA: 0s - loss: 1.2301e-04 - binary_accuracy: 1.0000WARNING:tensorflow:Early stopping conditioned on metric `val_loss` which is not available. Available metrics are: loss,binary_accuracy\n",
      "4/4 [==============================] - 0s 748us/sample - loss: 1.2301e-04 - binary_accuracy: 1.0000\n",
      "Epoch 54/100\n",
      "4/4 [==============================] - ETA: 0s - loss: 2.9599e-04 - binary_accuracy: 1.0000WARNING:tensorflow:Early stopping conditioned on metric `val_loss` which is not available. Available metrics are: loss,binary_accuracy\n",
      "4/4 [==============================] - 0s 499us/sample - loss: 2.9599e-04 - binary_accuracy: 1.0000\n",
      "Epoch 55/100\n",
      "4/4 [==============================] - ETA: 0s - loss: 1.4578e-04 - binary_accuracy: 1.0000WARNING:tensorflow:Early stopping conditioned on metric `val_loss` which is not available. Available metrics are: loss,binary_accuracy\n",
      "4/4 [==============================] - 0s 499us/sample - loss: 1.4578e-04 - binary_accuracy: 1.0000\n",
      "Epoch 56/100\n",
      "4/4 [==============================] - ETA: 0s - loss: 3.8588e-05 - binary_accuracy: 1.0000WARNING:tensorflow:Early stopping conditioned on metric `val_loss` which is not available. Available metrics are: loss,binary_accuracy\n",
      "4/4 [==============================] - 0s 499us/sample - loss: 3.8588e-05 - binary_accuracy: 1.0000\n",
      "Epoch 57/100\n",
      "4/4 [==============================] - ETA: 0s - loss: 2.1766e-04 - binary_accuracy: 1.0000WARNING:tensorflow:Early stopping conditioned on metric `val_loss` which is not available. Available metrics are: loss,binary_accuracy\n",
      "4/4 [==============================] - 0s 249us/sample - loss: 2.1766e-04 - binary_accuracy: 1.0000\n",
      "Epoch 58/100\n",
      "4/4 [==============================] - ETA: 0s - loss: 1.8940e-04 - binary_accuracy: 1.0000WARNING:tensorflow:Early stopping conditioned on metric `val_loss` which is not available. Available metrics are: loss,binary_accuracy\n",
      "4/4 [==============================] - 0s 499us/sample - loss: 1.8940e-04 - binary_accuracy: 1.0000\n",
      "Epoch 59/100\n",
      "4/4 [==============================] - ETA: 0s - loss: 7.8590e-06 - binary_accuracy: 1.0000WARNING:tensorflow:Early stopping conditioned on metric `val_loss` which is not available. Available metrics are: loss,binary_accuracy\n",
      "4/4 [==============================] - 0s 498us/sample - loss: 7.8590e-06 - binary_accuracy: 1.0000\n",
      "Epoch 60/100\n",
      "4/4 [==============================] - ETA: 0s - loss: 8.4943e-05 - binary_accuracy: 1.0000WARNING:tensorflow:Early stopping conditioned on metric `val_loss` which is not available. Available metrics are: loss,binary_accuracy\n",
      "4/4 [==============================] - 0s 499us/sample - loss: 8.4943e-05 - binary_accuracy: 1.0000\n",
      "Epoch 61/100\n",
      "4/4 [==============================] - ETA: 0s - loss: 1.6777e-04 - binary_accuracy: 1.0000WARNING:tensorflow:Early stopping conditioned on metric `val_loss` which is not available. Available metrics are: loss,binary_accuracy\n",
      "4/4 [==============================] - 0s 998us/sample - loss: 1.6777e-04 - binary_accuracy: 1.0000\n",
      "Epoch 62/100\n",
      "4/4 [==============================] - ETA: 0s - loss: 5.6181e-05 - binary_accuracy: 1.0000WARNING:tensorflow:Early stopping conditioned on metric `val_loss` which is not available. Available metrics are: loss,binary_accuracy\n",
      "4/4 [==============================] - 0s 499us/sample - loss: 5.6181e-05 - binary_accuracy: 1.0000\n",
      "Epoch 63/100\n",
      "4/4 [==============================] - ETA: 0s - loss: 4.1484e-05 - binary_accuracy: 1.0000WARNING:tensorflow:Early stopping conditioned on metric `val_loss` which is not available. Available metrics are: loss,binary_accuracy\n",
      "4/4 [==============================] - 0s 499us/sample - loss: 4.1484e-05 - binary_accuracy: 1.0000\n",
      "Epoch 64/100\n",
      "4/4 [==============================] - ETA: 0s - loss: 1.0727e-04 - binary_accuracy: 1.0000WARNING:tensorflow:Early stopping conditioned on metric `val_loss` which is not available. Available metrics are: loss,binary_accuracy\n",
      "4/4 [==============================] - 0s 499us/sample - loss: 1.0727e-04 - binary_accuracy: 1.0000\n",
      "Epoch 65/100\n",
      "4/4 [==============================] - ETA: 0s - loss: 4.5750e-05 - binary_accuracy: 1.0000WARNING:tensorflow:Early stopping conditioned on metric `val_loss` which is not available. Available metrics are: loss,binary_accuracy\n",
      "4/4 [==============================] - 0s 499us/sample - loss: 4.5750e-05 - binary_accuracy: 1.0000\n",
      "Epoch 66/100\n",
      "4/4 [==============================] - ETA: 0s - loss: 2.4884e-05 - binary_accuracy: 1.0000WARNING:tensorflow:Early stopping conditioned on metric `val_loss` which is not available. Available metrics are: loss,binary_accuracy\n",
      "4/4 [==============================] - 0s 997us/sample - loss: 2.4884e-05 - binary_accuracy: 1.0000\n",
      "Epoch 67/100\n",
      "4/4 [==============================] - ETA: 0s - loss: 8.8920e-05 - binary_accuracy: 1.0000WARNING:tensorflow:Early stopping conditioned on metric `val_loss` which is not available. Available metrics are: loss,binary_accuracy\n",
      "4/4 [==============================] - 0s 748us/sample - loss: 8.8920e-05 - binary_accuracy: 1.0000\n",
      "Epoch 68/100\n",
      "4/4 [==============================] - ETA: 0s - loss: 4.9868e-05 - binary_accuracy: 1.0000WARNING:tensorflow:Early stopping conditioned on metric `val_loss` which is not available. Available metrics are: loss,binary_accuracy\n",
      "4/4 [==============================] - 0s 499us/sample - loss: 4.9868e-05 - binary_accuracy: 1.0000\n",
      "Epoch 69/100\n",
      "4/4 [==============================] - ETA: 0s - loss: 5.0453e-07 - binary_accuracy: 1.0000WARNING:tensorflow:Early stopping conditioned on metric `val_loss` which is not available. Available metrics are: loss,binary_accuracy\n",
      "4/4 [==============================] - 0s 499us/sample - loss: 5.0453e-07 - binary_accuracy: 1.0000\n",
      "Epoch 70/100\n",
      "4/4 [==============================] - ETA: 0s - loss: 5.2067e-05 - binary_accuracy: 1.0000WARNING:tensorflow:Early stopping conditioned on metric `val_loss` which is not available. Available metrics are: loss,binary_accuracy\n",
      "4/4 [==============================] - 0s 498us/sample - loss: 5.2067e-05 - binary_accuracy: 1.0000\n",
      "Epoch 71/100\n",
      "4/4 [==============================] - ETA: 0s - loss: 5.3129e-05 - binary_accuracy: 1.0000WARNING:tensorflow:Early stopping conditioned on metric `val_loss` which is not available. Available metrics are: loss,binary_accuracy\n",
      "4/4 [==============================] - 0s 499us/sample - loss: 5.3129e-05 - binary_accuracy: 1.0000\n",
      "Epoch 72/100\n",
      "4/4 [==============================] - ETA: 0s - loss: 8.1027e-06 - binary_accuracy: 1.0000WARNING:tensorflow:Early stopping conditioned on metric `val_loss` which is not available. Available metrics are: loss,binary_accuracy\n",
      "4/4 [==============================] - 0s 748us/sample - loss: 8.1027e-06 - binary_accuracy: 1.0000\n",
      "Epoch 73/100\n",
      "4/4 [==============================] - ETA: 0s - loss: 2.9207e-05 - binary_accuracy: 1.0000WARNING:tensorflow:Early stopping conditioned on metric `val_loss` which is not available. Available metrics are: loss,binary_accuracy\n",
      "4/4 [==============================] - 0s 499us/sample - loss: 2.9207e-05 - binary_accuracy: 1.0000\n",
      "Epoch 74/100\n",
      "4/4 [==============================] - ETA: 0s - loss: 3.5585e-05 - binary_accuracy: 1.0000WARNING:tensorflow:Early stopping conditioned on metric `val_loss` which is not available. Available metrics are: loss,binary_accuracy\n",
      "4/4 [==============================] - 0s 498us/sample - loss: 3.5585e-05 - binary_accuracy: 1.0000\n",
      "Epoch 75/100\n",
      "4/4 [==============================] - ETA: 0s - loss: 7.5141e-06 - binary_accuracy: 1.0000WARNING:tensorflow:Early stopping conditioned on metric `val_loss` which is not available. Available metrics are: loss,binary_accuracy\n",
      "4/4 [==============================] - 0s 499us/sample - loss: 7.5141e-06 - binary_accuracy: 1.0000\n",
      "Epoch 76/100\n",
      "4/4 [==============================] - ETA: 0s - loss: 2.4204e-05 - binary_accuracy: 1.0000WARNING:tensorflow:Early stopping conditioned on metric `val_loss` which is not available. Available metrics are: loss,binary_accuracy\n",
      "4/4 [==============================] - 0s 499us/sample - loss: 2.4204e-05 - binary_accuracy: 1.0000\n",
      "Epoch 77/100\n",
      "4/4 [==============================] - ETA: 0s - loss: 2.9900e-05 - binary_accuracy: 1.0000WARNING:tensorflow:Early stopping conditioned on metric `val_loss` which is not available. Available metrics are: loss,binary_accuracy\n",
      "4/4 [==============================] - 0s 499us/sample - loss: 2.9900e-05 - binary_accuracy: 1.0000\n",
      "Epoch 78/100\n",
      "4/4 [==============================] - ETA: 0s - loss: 2.0680e-06 - binary_accuracy: 1.0000WARNING:tensorflow:Early stopping conditioned on metric `val_loss` which is not available. Available metrics are: loss,binary_accuracy\n",
      "4/4 [==============================] - 0s 499us/sample - loss: 2.0680e-06 - binary_accuracy: 1.0000\n",
      "Epoch 79/100\n",
      "4/4 [==============================] - ETA: 0s - loss: 1.3051e-05 - binary_accuracy: 1.0000WARNING:tensorflow:Early stopping conditioned on metric `val_loss` which is not available. Available metrics are: loss,binary_accuracy\n",
      "4/4 [==============================] - 0s 498us/sample - loss: 1.3051e-05 - binary_accuracy: 1.0000\n",
      "Epoch 80/100\n",
      "4/4 [==============================] - ETA: 0s - loss: 2.5456e-05 - binary_accuracy: 1.0000WARNING:tensorflow:Early stopping conditioned on metric `val_loss` which is not available. Available metrics are: loss,binary_accuracy\n",
      "4/4 [==============================] - 0s 250us/sample - loss: 2.5456e-05 - binary_accuracy: 1.0000\n",
      "Epoch 81/100\n",
      "4/4 [==============================] - ETA: 0s - loss: 5.5656e-06 - binary_accuracy: 1.0000WARNING:tensorflow:Early stopping conditioned on metric `val_loss` which is not available. Available metrics are: loss,binary_accuracy\n",
      "4/4 [==============================] - 0s 499us/sample - loss: 5.5656e-06 - binary_accuracy: 1.0000\n",
      "Epoch 82/100\n",
      "4/4 [==============================] - ETA: 0s - loss: 7.5027e-06 - binary_accuracy: 1.0000WARNING:tensorflow:Early stopping conditioned on metric `val_loss` which is not available. Available metrics are: loss,binary_accuracy\n",
      "4/4 [==============================] - 0s 499us/sample - loss: 7.5027e-06 - binary_accuracy: 1.0000\n",
      "Epoch 83/100\n",
      "4/4 [==============================] - ETA: 0s - loss: 1.5961e-05 - binary_accuracy: 1.0000WARNING:tensorflow:Early stopping conditioned on metric `val_loss` which is not available. Available metrics are: loss,binary_accuracy\n",
      "4/4 [==============================] - 0s 748us/sample - loss: 1.5961e-05 - binary_accuracy: 1.0000\n",
      "Epoch 84/100\n",
      "4/4 [==============================] - ETA: 0s - loss: 4.4379e-06 - binary_accuracy: 1.0000WARNING:tensorflow:Early stopping conditioned on metric `val_loss` which is not available. Available metrics are: loss,binary_accuracy\n",
      "4/4 [==============================] - 0s 499us/sample - loss: 4.4379e-06 - binary_accuracy: 1.0000\n",
      "Epoch 85/100\n",
      "4/4 [==============================] - ETA: 0s - loss: 7.8577e-06 - binary_accuracy: 1.0000WARNING:tensorflow:Early stopping conditioned on metric `val_loss` which is not available. Available metrics are: loss,binary_accuracy\n",
      "4/4 [==============================] - 0s 499us/sample - loss: 7.8577e-06 - binary_accuracy: 1.0000\n",
      "Epoch 86/100\n",
      "4/4 [==============================] - ETA: 0s - loss: 1.2360e-05 - binary_accuracy: 1.0000WARNING:tensorflow:Early stopping conditioned on metric `val_loss` which is not available. Available metrics are: loss,binary_accuracy\n",
      "4/4 [==============================] - 0s 499us/sample - loss: 1.2360e-05 - binary_accuracy: 1.0000\n",
      "Epoch 87/100\n",
      "4/4 [==============================] - ETA: 0s - loss: 1.3952e-06 - binary_accuracy: 1.0000WARNING:tensorflow:Early stopping conditioned on metric `val_loss` which is not available. Available metrics are: loss,binary_accuracy\n",
      "4/4 [==============================] - 0s 249us/sample - loss: 1.3952e-06 - binary_accuracy: 1.0000\n",
      "Epoch 88/100\n",
      "4/4 [==============================] - ETA: 0s - loss: 4.9984e-06 - binary_accuracy: 1.0000WARNING:tensorflow:Early stopping conditioned on metric `val_loss` which is not available. Available metrics are: loss,binary_accuracy\n",
      "4/4 [==============================] - 0s 499us/sample - loss: 4.9984e-06 - binary_accuracy: 1.0000\n",
      "Epoch 89/100\n",
      "4/4 [==============================] - ETA: 0s - loss: 1.0330e-05 - binary_accuracy: 1.0000WARNING:tensorflow:Early stopping conditioned on metric `val_loss` which is not available. Available metrics are: loss,binary_accuracy\n",
      "4/4 [==============================] - 0s 499us/sample - loss: 1.0330e-05 - binary_accuracy: 1.0000\n",
      "Epoch 90/100\n",
      "4/4 [==============================] - ETA: 0s - loss: 1.8547e-06 - binary_accuracy: 1.0000WARNING:tensorflow:Early stopping conditioned on metric `val_loss` which is not available. Available metrics are: loss,binary_accuracy\n",
      "4/4 [==============================] - 0s 499us/sample - loss: 1.8547e-06 - binary_accuracy: 1.0000\n",
      "Epoch 91/100\n",
      "4/4 [==============================] - ETA: 0s - loss: 3.2383e-06 - binary_accuracy: 1.0000WARNING:tensorflow:Early stopping conditioned on metric `val_loss` which is not available. Available metrics are: loss,binary_accuracy\n",
      "4/4 [==============================] - 0s 499us/sample - loss: 3.2383e-06 - binary_accuracy: 1.0000\n",
      "Epoch 92/100\n",
      "4/4 [==============================] - ETA: 0s - loss: 6.4521e-06 - binary_accuracy: 1.0000WARNING:tensorflow:Early stopping conditioned on metric `val_loss` which is not available. Available metrics are: loss,binary_accuracy\n",
      "4/4 [==============================] - 0s 499us/sample - loss: 6.4521e-06 - binary_accuracy: 1.0000\n",
      "Epoch 93/100\n",
      "4/4 [==============================] - ETA: 0s - loss: 1.6014e-06 - binary_accuracy: 1.0000WARNING:tensorflow:Early stopping conditioned on metric `val_loss` which is not available. Available metrics are: loss,binary_accuracy\n",
      "4/4 [==============================] - 0s 499us/sample - loss: 1.6014e-06 - binary_accuracy: 1.0000\n",
      "Epoch 94/100\n",
      "4/4 [==============================] - ETA: 0s - loss: 3.6848e-06 - binary_accuracy: 1.0000WARNING:tensorflow:Early stopping conditioned on metric `val_loss` which is not available. Available metrics are: loss,binary_accuracy\n",
      "4/4 [==============================] - 0s 499us/sample - loss: 3.6848e-06 - binary_accuracy: 1.0000\n",
      "Epoch 95/100\n",
      "4/4 [==============================] - ETA: 0s - loss: 4.3554e-06 - binary_accuracy: 1.0000WARNING:tensorflow:Early stopping conditioned on metric `val_loss` which is not available. Available metrics are: loss,binary_accuracy\n",
      "4/4 [==============================] - 0s 498us/sample - loss: 4.3554e-06 - binary_accuracy: 1.0000\n",
      "Epoch 96/100\n",
      "4/4 [==============================] - ETA: 0s - loss: 2.3975e-07 - binary_accuracy: 1.0000WARNING:tensorflow:Early stopping conditioned on metric `val_loss` which is not available. Available metrics are: loss,binary_accuracy\n",
      "4/4 [==============================] - 0s 499us/sample - loss: 2.3975e-07 - binary_accuracy: 1.0000\n",
      "Epoch 97/100\n",
      "4/4 [==============================] - ETA: 0s - loss: 3.1346e-06 - binary_accuracy: 1.0000WARNING:tensorflow:Early stopping conditioned on metric `val_loss` which is not available. Available metrics are: loss,binary_accuracy\n",
      "4/4 [==============================] - 0s 499us/sample - loss: 3.1346e-06 - binary_accuracy: 1.0000\n",
      "Epoch 98/100\n",
      "4/4 [==============================] - ETA: 0s - loss: 3.5527e-06 - binary_accuracy: 1.0000WARNING:tensorflow:Early stopping conditioned on metric `val_loss` which is not available. Available metrics are: loss,binary_accuracy\n",
      "4/4 [==============================] - 0s 499us/sample - loss: 3.5527e-06 - binary_accuracy: 1.0000\n",
      "Epoch 99/100\n",
      "4/4 [==============================] - ETA: 0s - loss: 1.9409e-07 - binary_accuracy: 1.0000WARNING:tensorflow:Early stopping conditioned on metric `val_loss` which is not available. Available metrics are: loss,binary_accuracy\n",
      "4/4 [==============================] - 0s 499us/sample - loss: 1.9409e-07 - binary_accuracy: 1.0000\n",
      "Epoch 100/100\n",
      "4/4 [==============================] - ETA: 0s - loss: 2.1726e-06 - binary_accuracy: 1.0000WARNING:tensorflow:Early stopping conditioned on metric `val_loss` which is not available. Available metrics are: loss,binary_accuracy\n",
      "4/4 [==============================] - 0s 499us/sample - loss: 2.1726e-06 - binary_accuracy: 1.0000\n",
      "Model: \"sequential_12\"\n",
      "_________________________________________________________________\n",
      " Layer (type)                Output Shape              Param #   \n",
      "=================================================================\n",
      " dense_21 (Dense)            (None, 4)                 12        \n",
      "                                                                 \n",
      " dense_22 (Dense)            (None, 8)                 40        \n",
      "                                                                 \n",
      " dense_23 (Dense)            (None, 1)                 9         \n",
      "                                                                 \n",
      "=================================================================\n",
      "Total params: 61\n",
      "Trainable params: 61\n",
      "Non-trainable params: 0\n",
      "_________________________________________________________________\n"
     ]
    },
    {
     "name": "stderr",
     "output_type": "stream",
     "text": [
      "C:\\Users\\Silas João\\AppData\\Local\\Programs\\Python\\Python39\\lib\\site-packages\\keras\\engine\\training_v1.py:2079: UserWarning: `Model.state_updates` will be removed in a future version. This property should not be used in TensorFlow 2.0, as `updates` are applied automatically.\n",
      "  updates=self.state_updates,\n"
     ]
    },
    {
     "data": {
      "image/png": "[encoded data removed]",
      "text/plain": [
       "<Figure size 720x576 with 2 Axes>"
      ]
     },
     "metadata": {
      "needs_background": "light"
     },
     "output_type": "display_data"
    }
   ],
   "source": [
    "# Simples implementação de uma rede neural MLP, utilizando o ecossistema do Tensorflow e keras\n",
    "# o motivo pelo qual podemos optar pela sua utilização e devido o uso em conjunto do keras ao numpy\n",
    "# que se utiliza internamente de matrizes numpy como entradas.\n",
    "\n",
    "# Criando o conjunto de dados com os quatro diferentes estados da porta XOR.\n",
    "data = np.array([[0,0],[0,1],[1,0],[1,1]], \"float32\")\n",
    "\n",
    "# Quatro possiveis respostas da função XOR.\n",
    "target_data = np.array([[0], [1], [1], [0]], \"float32\")\n",
    "\n",
    "# Criação do modelo. O Keras oferece duas APIs diferentes para construir um modelo: uma funcional e uma sequencial \n",
    "# Nesta demostração estamos usando a API sequencial.\n",
    "stop = EarlyStopping(monitor = 'val_loss', patience = 5)\n",
    "model = Sequential()\n",
    "\n",
    "# Adição de uma camada ao modelo com 60 neurônios ocultos, input_dim = 2 como sendo o comprimento de entrada\n",
    "# também se utilizando da função de ativação sigmoid.\n",
    "model.add(Dense(4, input_dim = 2, activation = 'relu'))\n",
    "model.add(Dense(8, input_dim = 2, activation='relu'))\n",
    "model.add(Dense(1, activation='relu'))\n",
    "\n",
    "# Configuração do modelo de aprendizagem:\n",
    "# Função de perda: mean_squared_error.\n",
    "# Otimizador: Adam, com taxa de aprendizado de 0.01.\n",
    "otimizador = tf.keras.optimizers.Adam(learning_rate = 0.1)\n",
    "\n",
    "# Metrics : binary_accuracy, fornece a precissão das previsões, calculando a média dos quadrados dos erros entre rótulos e previsões.\n",
    "model.compile(loss = 'mse', optimizer = otimizador, metrics=['binary_accuracy'])\n",
    "\n",
    "# Definindo a quantidade de iterações como 100, com saídas fornecendo apenas um valor de resposta\n",
    "#(a função fit se utiliza do algoritmo de retropropagação que veremos mais a frente).\n",
    "history = model.fit(data, target_data, nb_epoch = 100, verbose = 1, callbacks=[stop])\n",
    "\n",
    "# Predição do modelo\n",
    "model.predict(data).round()\n",
    "\n",
    "# Exibe as chaves que foram coletadas no treinamento, dados de precissão e perda.\n",
    "#history.history.keys()\n",
    "\n",
    "# Imprime um resumo da string da rede, assim como suas caracteristicas.\n",
    "model.summary()\n",
    "\n",
    "# Conjunto dos dados de perda.\n",
    "# print(history.history['loss'])\n",
    "# Conjunto dos dados de precissão.\n",
    "# print(history.history['binary_accuracy'])\n",
    "\n",
    "# Podemos perceper agora o desempenho da rede através das métricas que foram geradas na saída.\n",
    "# Vemos que se alterarmos o otimizador para o adam que se refere a outro método de aprendizagem,\n",
    "# poderemos obter resultados melhores com até 100% de precisão antes das últimas iterações. Além\n",
    "# de poder testar configurações e arquiteturas diferentes para a rede neral, com isso resolvemos \n",
    "# o problema de XOR implementando uma simples rede neural MLP.\n",
    "\n",
    "# Realizando o plot das métricas obtidas podemos entender melhor como a rede aprende ao longo do tempo.\n",
    "plt.figure(num=None, figsize=(10, 8))\n",
    "grafico1 = plt.subplot(311)\n",
    "plt.plot(history.history['binary_accuracy'], label = \"accuracy\", color='green')\n",
    "plt.xlabel('Epoch')\n",
    "plt.ylabel('Accuracy')\n",
    "plt.title('Model precision graph')\n",
    "plt.legend(loc = 2)\n",
    "plt.title('Model Accuracy')\n",
    "\n",
    "grafico2 = plt.subplot(312, sharex = grafico1)\n",
    "plt.plot(history.history['loss'], label = \"loss\", color = 'red')\n",
    "plt.xlabel('Epoch')\n",
    "plt.ylabel('Loss')\n",
    "plt.legend(loc = 2)\n",
    "plt.title('Model loss chart')\n",
    "\n",
    "plt.tight_layout()"
   ]
  },
  {
   "cell_type": "code",
   "execution_count": 121,
   "metadata": {},
   "outputs": [
    {
     "name": "stdout",
     "output_type": "stream",
     "text": [
      "XOR[0. 0.] = [0.]\n",
      "XOR[0. 1.] = [1.]\n",
      "XOR[1. 0.] = [1.]\n",
      "XOR[1. 1.] = [0.]\n"
     ]
    }
   ],
   "source": [
    "XOR_Output = model.predict(data)\n",
    " \n",
    "for index in range(0, len(data)):\n",
    "    print(\"XOR{} = {}\".format(data[index], XOR_Output[index].round(1)))\n",
    "\n",
    "#print(\"Resposta dada pela RNA: \", XOR_Output[2].round(1))\n",
    "#print(\"Resposta para o caso selecionado: XOR\", data[2])\n",
    "\n",
    "#weights = model.layers[1].get_weights()\n",
    "#plt.plot(weights[0], '-x', color = 'b')"
   ]
  },
  {
   "cell_type": "markdown",
   "metadata": {},
   "source": [
    "<a id=\"heading--2\"></a>\n",
    "### Multilayer Perceptrons, redes de multiplas camadas\n",
    "\n",
    "Vimos até então que o perceptron de Rosenblatt, que é basicamente uma rede neural de camada única. Nele, mostramos que essa rede é limitada à classificação de padrões linearmente separáveis, onde muitas vezes não e possivel resolver problemas mais complexos que não podem ser linearmente separáveis mostrando como exemplo o problema de XOR e a primeira implementação de uma rede MLP. Para superar as limitações práticas do perceptron devemos olhar para uma estrutura de rede neural conhecida como perceptron multicamadas, os pontos a seguir destacam as caracteristicas básicas dos perceptrons multicamadas:\n",
    "\n",
    "- O modelo de cada neurônio na rede inclui uma função de ativação não linear que é diferenciável.\n",
    "- A rede contém uma ou mais camadas que estão ocultas tanto da entrada quanto nós de saída.\n",
    "- A rede exibe um alto grau de conectividade, cuja extensão é determinada extraído por pesos sinápticos da rede.\n",
    "\n",
    "Essas mesmas características, no entanto, também são responsáveis pelas deficiências de nosso conhecimento sobre o comportamento da rede. Primeiro, a presença de um formulário distribuído da não linearidade e a alta conectividade da rede tornam a análise teórica de um perceptron multicamadas difícil de realizar. Em segundo lugar, o uso de neurônios ocultos torna o processo de aprendizagem mais difícil de visualizar. Em um sentido implícito, o processo de aprendizagem deve decidir quais recursos do padrão de entrada devem ser representados pelo neurônios. Visando essas dificuldades existe um método popular para o treinamento de perceptrons multicamadas é a retropropagação que também inclui o LMS como um caso especial. Este treinamento segue em duas fases.\n",
    "\n",
    "1. Na fase direta, os pesos sinápticos da rede são fixos e o sinal de entrada é propagado pela rede, camada por camada, até atingir a saída. Assim, nesta fase, as mudanças estão confinadas aos potenciais de ativação e saídas dos neurônios na rede. \n",
    "\n",
    "2. Na fase de retrocesso, um sinal de erro é produzido comparando a saída da rede com uma resposta desejada. O sinal de erro resultante é propagado pela rede, novamente camada por camada, mas desta vez a propagação é executada na direção inversa. Nesta segunda fase, ajustes sucessivos são feitos nos pesos sinápticos da rede. O cálculo dos ajustes para a camada de saída é direto, mas é muito mais desafiador para as camadas ocultas.\n",
    "\n",
    "**Função dos neurônios ocultos:** Os neurônios ocultos atuam como detectores de recursos; como tal, eles desempenham um papel crítico na operação de um perceptron multicamadas. À medida que o processo de aprendizagem progride através do perceptron multicamadas, os neurônios ocultos começam a \"descobrir\" gradualmente as características salientes que caracterizam os dados de treinamento. Eles fazem isso realizando uma transformação não linear em os dados de entrada em um novo espaço denominado espaço de recursos. Nesse novo espaço, as classes de interesse em uma tarefa de classificação de padrões, por exemplo, podem ser mais facilmente separadas umas das outras do que no espaço de dados de entrada original. Na verdade, é a formação desse espaço de recursos por meio da **aprendizagem supervisionada** que distingue o perceptron de multicamadas do perceptron de Rosenblatt.\n",
    "\n",
    "<a id=\"heading--2-1\"></a>\n",
    "### Métodos de classificação utilizando Back-Propagation"
   ]
  },
  {
   "cell_type": "markdown",
   "metadata": {},
   "source": [
    "Simplificando o algoritmo de retropropagação o mesmo visa minimizar a função de custo ajustando os pesos e vieses da rede. O nível de ajuste é determinado pelos gradientes da função de custo em relação a esses parâmetros, em outras palavras o algoritmo calcula o gradiente da função de perda em relação aos pesos da rede para um único exemplo de entrada-saída, permitindo otimizar os parâmetros do modelo.\n",
    "\n",
    "<br/><img src=\"https://i.postimg.cc/9F19ZQQ9/Capturar.png\" style=\"display:block; margin:auto\"><br/>\n",
    "\n",
    "Como vimos anteriormente o próprio Keras admite a retropropagação por padrão na função *fit()*, assim demostraremos com mais um exemplo de uma rede neural que tem como objetivo a classificação das imagens de treiamento fornecidas pelo keras. Os algoritmos de classificação tem como objetivo classificar itens ou amostras de acordo com as características observadas pelo supervisor prevendo a categoria de uma observação dada."
   ]
  },
  {
   "cell_type": "markdown",
   "metadata": {},
   "source": [
    "##### Levantamento dos dados de treinamento e dados de teste, usando um dataset pre-definido pelo keras."
   ]
  },
  {
   "cell_type": "code",
   "execution_count": 88,
   "metadata": {},
   "outputs": [],
   "source": [
    "# Levantando os dados de treino e validação das imagens a serem avaliadas e seus respectivos rótulos.\n",
    "# Imagens Dim: 28x28.\n",
    "# Rótulos: Matriz de inteiros variando de 0 a 9.\n",
    "# Cada imagem e mapeada para um único rótulo uma vez que os nomes das classes não estão incluidos no conjunto de dados.\n",
    "dataset = tf.keras.datasets.fashion_mnist\n",
    "(train_images, train_labels), (test_images, test_labels) = dataset.load_data()\n",
    "\n",
    "# Definindo os nomes das classes\n",
    "class_names = ['T-shirt/top', 'Trouser', 'Pullover', 'Dress', 'Coat', 'Sandal', 'Shirt', 'Sneaker', 'Bag', 'Ankle boot']\n",
    "\n",
    "# Quantidade de imagens no conjunto de treinamento onde cada imagem representa 28x28 pixels.\n",
    "# 60.000 Imagens da mesma maneira possuimos 60.000 rótulos para cada imagem.\n",
    "#train_images.shape\n",
    "\n",
    "# Quantidade de rótulos para cada imagem.\n",
    "#len(test_labels)\n",
    "# Quantidade de imagens de teste.\n",
    "#len(test_imagens)"
   ]
  },
  {
   "cell_type": "markdown",
   "metadata": {},
   "source": [
    "##### Pre processamento das imagens "
   ]
  },
  {
   "cell_type": "code",
   "execution_count": 89,
   "metadata": {},
   "outputs": [
    {
     "data": {
      "image/png": "[encoded data removed]",
      "text/plain": [
       "<Figure size 432x288 with 10 Axes>"
      ]
     },
     "metadata": {},
     "output_type": "display_data"
    }
   ],
   "source": [
    "# Realizando o pre-processamento das imagens \n",
    "# Inspecionando a primeira imagem do conjunto de treinamento podemos perceber que os valores\n",
    "# de pixels caem na faixa de 0 a 255, antes de alimentar a rede neural iremos realizar o\n",
    "# pre-processamento dividindo os valores por 255.\n",
    "plt.figure()\n",
    "plt.imshow(train_images[0])\n",
    "plt.colorbar()\n",
    "plt.grid(False)\n",
    "\n",
    "# E importante que tanto os dados de treinamento quanto os de testes sejam realizados da mesma forma.\n",
    "train_images = train_images / 255   \n",
    "test_imagens = test_images / 255\n",
    "\n",
    "# Exibindo as primeiras 10 imagens do conjunto de treinamento com seus respectivos rótulos.\n",
    "for i in range(10):\n",
    "    plt.subplot(5, 5, i + 1)\n",
    "    plt.xticks([])\n",
    "    plt.yticks([])\n",
    "    plt.grid(False)\n",
    "    plt.imshow(train_images[i], cmap=plt.cm.binary)\n",
    "    plt.xlabel(class_names[train_labels[i]])\n",
    "    plt.tight_layout()\n"
   ]
  },
  {
   "cell_type": "markdown",
   "metadata": {},
   "source": [
    "##### Construção do Modelo"
   ]
  },
  {
   "cell_type": "code",
   "execution_count": 90,
   "metadata": {},
   "outputs": [
    {
     "name": "stdout",
     "output_type": "stream",
     "text": [
      "Train on 30000 samples, validate on 30000 samples\n",
      "Epoch 1/10\n",
      "28928/30000 [===========================>..] - ETA: 0s - loss: 1.3898 - accuracy: 0.5180"
     ]
    },
    {
     "name": "stderr",
     "output_type": "stream",
     "text": [
      "C:\\Users\\Silas João\\AppData\\Local\\Programs\\Python\\Python39\\lib\\site-packages\\keras\\engine\\training_v1.py:2057: UserWarning: `Model.state_updates` will be removed in a future version. This property should not be used in TensorFlow 2.0, as `updates` are applied automatically.\n",
      "  updates = self.state_updates\n"
     ]
    },
    {
     "name": "stdout",
     "output_type": "stream",
     "text": [
      "30000/30000 [==============================] - 1s 37us/sample - loss: 1.3861 - accuracy: 0.5179 - val_loss: 1.1782 - val_accuracy: 0.5304\n",
      "Epoch 2/10\n",
      "30000/30000 [==============================] - 1s 35us/sample - loss: 1.2020 - accuracy: 0.5917 - val_loss: 1.3982 - val_accuracy: 0.6291\n",
      "Epoch 3/10\n",
      "30000/30000 [==============================] - 1s 34us/sample - loss: 1.2238 - accuracy: 0.5847 - val_loss: 1.1940 - val_accuracy: 0.6233\n",
      "Epoch 4/10\n",
      "30000/30000 [==============================] - 1s 36us/sample - loss: 1.1907 - accuracy: 0.6070 - val_loss: 1.2615 - val_accuracy: 0.6329\n",
      "Epoch 5/10\n",
      "30000/30000 [==============================] - 1s 40us/sample - loss: 1.2288 - accuracy: 0.6169 - val_loss: 1.0066 - val_accuracy: 0.6539\n",
      "Epoch 6/10\n",
      "30000/30000 [==============================] - 1s 45us/sample - loss: 1.1027 - accuracy: 0.6480 - val_loss: 1.1435 - val_accuracy: 0.6134\n",
      "Epoch 7/10\n",
      "30000/30000 [==============================] - 1s 43us/sample - loss: 1.1457 - accuracy: 0.6377 - val_loss: 1.0324 - val_accuracy: 0.6628\n",
      "Epoch 8/10\n",
      "30000/30000 [==============================] - 1s 41us/sample - loss: 1.1110 - accuracy: 0.6508 - val_loss: 1.0219 - val_accuracy: 0.6599\n",
      "Epoch 9/10\n",
      "30000/30000 [==============================] - 1s 42us/sample - loss: 1.0665 - accuracy: 0.6593 - val_loss: 1.0922 - val_accuracy: 0.6630\n",
      "Epoch 10/10\n",
      "30000/30000 [==============================] - 1s 38us/sample - loss: 1.0952 - accuracy: 0.6519 - val_loss: 1.1585 - val_accuracy: 0.7170\n",
      "Model: \"sequential_7\"\n",
      "_________________________________________________________________\n",
      " Layer (type)                Output Shape              Param #   \n",
      "=================================================================\n",
      " flatten_1 (Flatten)         (None, 784)               0         \n",
      "                                                                 \n",
      " dense_11 (Dense)            (None, 128)               100480    \n",
      "                                                                 \n",
      " dense_12 (Dense)            (None, 10)                1290      \n",
      "                                                                 \n",
      "=================================================================\n",
      "Total params: 101,770\n",
      "Trainable params: 101,770\n",
      "Non-trainable params: 0\n",
      "_________________________________________________________________\n"
     ]
    }
   ],
   "source": [
    "# Iniciando a construção do modelo com duas camadas totalmente conectadas, a primeira recebendo 128 neurônios\n",
    "# para a segunda camada fornecendo a saída com 10 neurônios.\n",
    "model = Sequential()\n",
    "# model.add(BatchNormalization())\n",
    "# Nivela a enrada das dados. \n",
    "model.add(tf.keras.layers.Flatten(input_shape = (28, 28)))\n",
    "model.add(Dense(128, activation = 'sigmoid'))\n",
    "model.add(Dense(10, activation='sigmoid'))\n",
    "\n",
    "# Definindo o Otimizador e compilando o modelo proposto.\n",
    "otimizador = tf.keras.optimizers.Adam(learning_rate = 0.1)\n",
    "model.compile(optimizer=otimizador, loss='sparse_categorical_crossentropy', metrics=['accuracy'])\n",
    "\n",
    "# Alimentando a rede com os dados de treinamento fazendo com que o modelo aprenda a associar\n",
    "# os rótulos as imagens, logo após pedindo ao modelo para que faça predições sobre um conjunto de teste\n",
    "# Na Alimentação da rede o mesmo implementa o algoritmo de backpropagation.\n",
    "model.fit(train_images, train_labels, epochs=10, validation_split=0.5)\n",
    "model.summary()"
   ]
  },
  {
   "cell_type": "markdown",
   "metadata": {},
   "source": [
    "##### Avaliando a precisão comparando o desempenho do modelo em conjunto com os dados de teste"
   ]
  },
  {
   "cell_type": "code",
   "execution_count": 91,
   "metadata": {},
   "outputs": [
    {
     "name": "stdout",
     "output_type": "stream",
     "text": [
      "precisão dos testes: 0.71\n"
     ]
    }
   ],
   "source": [
    "# Mostra a porcentagem de precisão do modelo alimentado pelo conjunto de testes\n",
    "test_loss, test_acc = model.evaluate(test_images, test_labels)\n",
    "print('precisão dos testes: {:.2f}'.format(test_acc))\n"
   ]
  },
  {
   "cell_type": "markdown",
   "metadata": {},
   "source": [
    "##### Realizando Predições "
   ]
  },
  {
   "cell_type": "code",
   "execution_count": 92,
   "metadata": {},
   "outputs": [
    {
     "name": "stderr",
     "output_type": "stream",
     "text": [
      "C:\\Users\\Silas João\\AppData\\Local\\Programs\\Python\\Python39\\lib\\site-packages\\keras\\engine\\training_v1.py:2079: UserWarning: `Model.state_updates` will be removed in a future version. This property should not be used in TensorFlow 2.0, as `updates` are applied automatically.\n",
      "  updates=self.state_updates,\n"
     ]
    },
    {
     "name": "stdout",
     "output_type": "stream",
     "text": [
      "Seleção da imagem pelo modelo:  9\n",
      "Rótulo da imagem verdadeira:  9\n"
     ]
    }
   ],
   "source": [
    "# Realizando a predição \n",
    "predictions = model.predict(test_images)\n",
    "# A predição e uma matriz de 10 números que descrevem a confiança do modelo.\n",
    "# Predição da primeira imagem.\n",
    "predictions[0]\n",
    "\n",
    "# Verificando qual etiqueta tem o valor de confiança mais alto.\n",
    "print('Seleção da imagem pelo modelo: ', np.argmax(predictions[0]))\n",
    "# Veficando o rótulo da mesma se coincide com o obtido na imagem da predição.\n",
    "print('Rótulo da imagem verdadeira: ', test_labels[0])\n",
    "\n",
    "# Caso ambos sejam convergentes vemos que a rede conseguiu realizar a predição sobre os dados de teste, porém caso\n",
    "# Os valores sejam divergentes a mesma ainda precisa ser ajustada.\n"
   ]
  },
  {
   "cell_type": "code",
   "execution_count": 93,
   "metadata": {},
   "outputs": [],
   "source": [
    "# model.save('Introduction_ANNs_classfication.h5')"
   ]
  },
  {
   "cell_type": "markdown",
   "metadata": {},
   "source": [
    "<a id=\"heading--2-2\"></a>\n",
    "### Aplicações de Regressão Linear"
   ]
  },
  {
   "cell_type": "markdown",
   "metadata": {},
   "source": [
    "A regressão linear é um dos algoritmos de aprendizado de máquina fundamentais utilizada para estimar a condicional de uma variável y, dados os valores de algumas outras variáveis x. A regressão, em geral, tem como objectivo tratar de um valor que não se consegue estimar inicialmente. Neste exemplo iremos utilizar o mesmo príncipio resolvendo um problema simples e clássico estimando a inclinação da reta para se adaptar aos dados proprostos."
   ]
  },
  {
   "cell_type": "code",
   "execution_count": 110,
   "metadata": {},
   "outputs": [
    {
     "data": {
      "text/plain": [
       "<matplotlib.legend.Legend at 0x212ed42d370>"
      ]
     },
     "execution_count": 110,
     "metadata": {},
     "output_type": "execute_result"
    },
    {
     "data": {
      "image/png": "[encoded data removed]",
      "text/plain": [
       "<Figure size 432x288 with 1 Axes>"
      ]
     },
     "metadata": {
      "needs_background": "light"
     },
     "output_type": "display_data"
    }
   ],
   "source": [
    "data = np.linspace(0, 150, 151)\n",
    "random_data = data + 95 * np.random.random((len(data)))  # Gerando dados aleatórios. Ruídos sobre os dados.\n",
    "\n",
    "# Apresentação dos dados de amostragem\n",
    "plt.scatter(data, random_data, label = 'data')\n",
    "plt.legend()\n",
    "#plt.grid()"
   ]
  },
  {
   "cell_type": "code",
   "execution_count": 111,
   "metadata": {},
   "outputs": [
    {
     "name": "stdout",
     "output_type": "stream",
     "text": [
      "Train on 151 samples\n",
      "Epoch 1/100\n",
      " 20/151 [==>...........................] - ETA: 1s - loss: 44881.9062WARNING:tensorflow:Early stopping conditioned on metric `val_loss` which is not available. Available metrics are: loss\n",
      "151/151 [==============================] - 0s 1ms/sample - loss: 29685.3639\n",
      "Epoch 2/100\n",
      " 20/151 [==>...........................] - ETA: 0s - loss: 14441.3281WARNING:tensorflow:Early stopping conditioned on metric `val_loss` which is not available. Available metrics are: loss\n",
      "151/151 [==============================] - 0s 33us/sample - loss: 11578.1311\n",
      "Epoch 3/100\n",
      " 20/151 [==>...........................] - ETA: 0s - loss: 5142.8252WARNING:tensorflow:Early stopping conditioned on metric `val_loss` which is not available. Available metrics are: loss\n",
      "151/151 [==============================] - 0s 26us/sample - loss: 3502.8640\n",
      "Epoch 4/100\n",
      " 20/151 [==>...........................] - ETA: 0s - loss: 1692.5211WARNING:tensorflow:Early stopping conditioned on metric `val_loss` which is not available. Available metrics are: loss\n",
      "151/151 [==============================] - 0s 33us/sample - loss: 1370.5132\n",
      "Epoch 5/100\n",
      " 20/151 [==>...........................] - ETA: 0s - loss: 1425.3447WARNING:tensorflow:Early stopping conditioned on metric `val_loss` which is not available. Available metrics are: loss\n",
      "151/151 [==============================] - 0s 40us/sample - loss: 1640.3676\n",
      "Epoch 6/100\n",
      " 20/151 [==>...........................] - ETA: 0s - loss: 1860.0328WARNING:tensorflow:Early stopping conditioned on metric `val_loss` which is not available. Available metrics are: loss\n",
      "151/151 [==============================] - 0s 46us/sample - loss: 1749.6591\n",
      "Epoch 7/100\n",
      " 20/151 [==>...........................] - ETA: 0s - loss: 1255.4128WARNING:tensorflow:Early stopping conditioned on metric `val_loss` which is not available. Available metrics are: loss\n",
      "151/151 [==============================] - 0s 40us/sample - loss: 1512.1746\n",
      "Epoch 8/100\n",
      " 20/151 [==>...........................] - ETA: 0s - loss: 1170.9719WARNING:tensorflow:Early stopping conditioned on metric `val_loss` which is not available. Available metrics are: loss\n",
      "151/151 [==============================] - 0s 40us/sample - loss: 1355.0932\n",
      "Epoch 9/100\n",
      " 20/151 [==>...........................] - ETA: 0s - loss: 1107.1758WARNING:tensorflow:Early stopping conditioned on metric `val_loss` which is not available. Available metrics are: loss\n",
      "151/151 [==============================] - 0s 40us/sample - loss: 1358.5540\n",
      "Epoch 10/100\n",
      " 20/151 [==>...........................] - ETA: 0s - loss: 1549.4681WARNING:tensorflow:Early stopping conditioned on metric `val_loss` which is not available. Available metrics are: loss\n",
      "151/151 [==============================] - 0s 40us/sample - loss: 1361.7059\n",
      "Epoch 11/100\n",
      " 20/151 [==>...........................] - ETA: 0s - loss: 1391.2264WARNING:tensorflow:Early stopping conditioned on metric `val_loss` which is not available. Available metrics are: loss\n",
      "151/151 [==============================] - 0s 46us/sample - loss: 1343.9919\n",
      "Epoch 12/100\n",
      " 20/151 [==>...........................] - ETA: 0s - loss: 1022.3792WARNING:tensorflow:Early stopping conditioned on metric `val_loss` which is not available. Available metrics are: loss\n",
      "151/151 [==============================] - 0s 46us/sample - loss: 1336.2072\n",
      "Epoch 13/100\n",
      " 20/151 [==>...........................] - ETA: 0s - loss: 1414.9666WARNING:tensorflow:Early stopping conditioned on metric `val_loss` which is not available. Available metrics are: loss\n",
      "151/151 [==============================] - 0s 40us/sample - loss: 1334.3077\n",
      "Epoch 14/100\n",
      " 20/151 [==>...........................] - ETA: 0s - loss: 1229.3025WARNING:tensorflow:Early stopping conditioned on metric `val_loss` which is not available. Available metrics are: loss\n",
      "151/151 [==============================] - 0s 40us/sample - loss: 1330.6892\n",
      "Epoch 15/100\n",
      " 20/151 [==>...........................] - ETA: 0s - loss: 1508.2625WARNING:tensorflow:Early stopping conditioned on metric `val_loss` which is not available. Available metrics are: loss\n",
      "151/151 [==============================] - 0s 33us/sample - loss: 1329.0498\n",
      "Epoch 16/100\n",
      " 20/151 [==>...........................] - ETA: 0s - loss: 1525.6272WARNING:tensorflow:Early stopping conditioned on metric `val_loss` which is not available. Available metrics are: loss\n",
      "151/151 [==============================] - 0s 33us/sample - loss: 1323.7860\n",
      "Epoch 17/100\n",
      " 20/151 [==>...........................] - ETA: 0s - loss: 1057.9045WARNING:tensorflow:Early stopping conditioned on metric `val_loss` which is not available. Available metrics are: loss\n",
      "151/151 [==============================] - 0s 33us/sample - loss: 1319.6888\n",
      "Epoch 18/100\n",
      " 20/151 [==>...........................] - ETA: 0s - loss: 1459.0948WARNING:tensorflow:Early stopping conditioned on metric `val_loss` which is not available. Available metrics are: loss\n",
      "151/151 [==============================] - 0s 33us/sample - loss: 1316.0566\n",
      "Epoch 19/100\n",
      " 20/151 [==>...........................] - ETA: 0s - loss: 1609.1771WARNING:tensorflow:Early stopping conditioned on metric `val_loss` which is not available. Available metrics are: loss\n",
      "151/151 [==============================] - 0s 53us/sample - loss: 1312.8319\n",
      "Epoch 20/100\n",
      " 20/151 [==>...........................] - ETA: 0s - loss: 1162.6643WARNING:tensorflow:Early stopping conditioned on metric `val_loss` which is not available. Available metrics are: loss\n",
      "151/151 [==============================] - 0s 46us/sample - loss: 1310.2926\n",
      "Epoch 21/100\n",
      " 20/151 [==>...........................] - ETA: 0s - loss: 1292.7075WARNING:tensorflow:Early stopping conditioned on metric `val_loss` which is not available. Available metrics are: loss\n",
      "151/151 [==============================] - 0s 40us/sample - loss: 1303.8021\n",
      "Epoch 22/100\n",
      " 20/151 [==>...........................] - ETA: 0s - loss: 682.7233WARNING:tensorflow:Early stopping conditioned on metric `val_loss` which is not available. Available metrics are: loss\n",
      "151/151 [==============================] - 0s 46us/sample - loss: 1300.0979\n",
      "Epoch 23/100\n",
      " 20/151 [==>...........................] - ETA: 0s - loss: 1487.8677WARNING:tensorflow:Early stopping conditioned on metric `val_loss` which is not available. Available metrics are: loss\n",
      "151/151 [==============================] - 0s 33us/sample - loss: 1295.4341\n",
      "Epoch 24/100\n",
      " 20/151 [==>...........................] - ETA: 0s - loss: 1207.5808WARNING:tensorflow:Early stopping conditioned on metric `val_loss` which is not available. Available metrics are: loss\n",
      "151/151 [==============================] - 0s 33us/sample - loss: 1296.4390\n",
      "Epoch 25/100\n",
      " 20/151 [==>...........................] - ETA: 0s - loss: 1025.4570WARNING:tensorflow:Early stopping conditioned on metric `val_loss` which is not available. Available metrics are: loss\n",
      "151/151 [==============================] - 0s 40us/sample - loss: 1288.2373\n",
      "Epoch 26/100\n",
      " 20/151 [==>...........................] - ETA: 0s - loss: 1574.4021WARNING:tensorflow:Early stopping conditioned on metric `val_loss` which is not available. Available metrics are: loss\n",
      "151/151 [==============================] - 0s 33us/sample - loss: 1285.8352\n",
      "Epoch 27/100\n",
      " 20/151 [==>...........................] - ETA: 0s - loss: 1341.0417WARNING:tensorflow:Early stopping conditioned on metric `val_loss` which is not available. Available metrics are: loss\n",
      "151/151 [==============================] - 0s 33us/sample - loss: 1279.7499\n",
      "Epoch 28/100\n",
      " 20/151 [==>...........................] - ETA: 0s - loss: 1762.8903WARNING:tensorflow:Early stopping conditioned on metric `val_loss` which is not available. Available metrics are: loss\n",
      "151/151 [==============================] - 0s 46us/sample - loss: 1280.9743\n",
      "Epoch 29/100\n",
      " 20/151 [==>...........................] - ETA: 0s - loss: 1124.2107WARNING:tensorflow:Early stopping conditioned on metric `val_loss` which is not available. Available metrics are: loss\n",
      "151/151 [==============================] - 0s 33us/sample - loss: 1269.3174\n",
      "Epoch 30/100\n",
      " 20/151 [==>...........................] - ETA: 0s - loss: 869.8478WARNING:tensorflow:Early stopping conditioned on metric `val_loss` which is not available. Available metrics are: loss\n",
      "151/151 [==============================] - 0s 66us/sample - loss: 1264.6160\n",
      "Epoch 31/100\n",
      " 20/151 [==>...........................] - ETA: 0s - loss: 1034.3000WARNING:tensorflow:Early stopping conditioned on metric `val_loss` which is not available. Available metrics are: loss\n",
      "151/151 [==============================] - 0s 33us/sample - loss: 1268.6816\n",
      "Epoch 32/100\n",
      " 20/151 [==>...........................] - ETA: 0s - loss: 1608.6494WARNING:tensorflow:Early stopping conditioned on metric `val_loss` which is not available. Available metrics are: loss\n",
      "151/151 [==============================] - 0s 40us/sample - loss: 1258.8731\n",
      "Epoch 33/100\n",
      " 20/151 [==>...........................] - ETA: 0s - loss: 952.5951WARNING:tensorflow:Early stopping conditioned on metric `val_loss` which is not available. Available metrics are: loss\n",
      "151/151 [==============================] - 0s 40us/sample - loss: 1251.7003\n",
      "Epoch 34/100\n",
      " 20/151 [==>...........................] - ETA: 0s - loss: 1225.5494WARNING:tensorflow:Early stopping conditioned on metric `val_loss` which is not available. Available metrics are: loss\n",
      "151/151 [==============================] - 0s 33us/sample - loss: 1247.8398\n",
      "Epoch 35/100\n",
      " 20/151 [==>...........................] - ETA: 0s - loss: 1368.2930WARNING:tensorflow:Early stopping conditioned on metric `val_loss` which is not available. Available metrics are: loss\n",
      "151/151 [==============================] - 0s 53us/sample - loss: 1248.3763\n",
      "Epoch 36/100\n",
      " 20/151 [==>...........................] - ETA: 0s - loss: 1553.4072WARNING:tensorflow:Early stopping conditioned on metric `val_loss` which is not available. Available metrics are: loss\n",
      "151/151 [==============================] - 0s 33us/sample - loss: 1238.4519\n",
      "Epoch 37/100\n",
      " 20/151 [==>...........................] - ETA: 0s - loss: 1036.2416WARNING:tensorflow:Early stopping conditioned on metric `val_loss` which is not available. Available metrics are: loss\n",
      "151/151 [==============================] - 0s 33us/sample - loss: 1233.6306\n",
      "Epoch 38/100\n",
      " 20/151 [==>...........................] - ETA: 0s - loss: 780.2721WARNING:tensorflow:Early stopping conditioned on metric `val_loss` which is not available. Available metrics are: loss\n",
      "151/151 [==============================] - 0s 40us/sample - loss: 1233.0322\n",
      "Epoch 39/100\n",
      " 20/151 [==>...........................] - ETA: 0s - loss: 1073.2703WARNING:tensorflow:Early stopping conditioned on metric `val_loss` which is not available. Available metrics are: loss\n",
      "151/151 [==============================] - 0s 33us/sample - loss: 1225.0788\n",
      "Epoch 40/100\n",
      " 20/151 [==>...........................] - ETA: 0s - loss: 1357.0907WARNING:tensorflow:Early stopping conditioned on metric `val_loss` which is not available. Available metrics are: loss\n",
      "151/151 [==============================] - 0s 40us/sample - loss: 1224.5170\n",
      "Epoch 41/100\n",
      " 20/151 [==>...........................] - ETA: 0s - loss: 1256.9958WARNING:tensorflow:Early stopping conditioned on metric `val_loss` which is not available. Available metrics are: loss\n",
      "151/151 [==============================] - 0s 40us/sample - loss: 1215.0731\n",
      "Epoch 42/100\n",
      " 20/151 [==>...........................] - ETA: 0s - loss: 1223.7533WARNING:tensorflow:Early stopping conditioned on metric `val_loss` which is not available. Available metrics are: loss\n",
      "151/151 [==============================] - 0s 40us/sample - loss: 1214.1086\n",
      "Epoch 43/100\n",
      " 20/151 [==>...........................] - ETA: 0s - loss: 847.3737WARNING:tensorflow:Early stopping conditioned on metric `val_loss` which is not available. Available metrics are: loss\n",
      "151/151 [==============================] - 0s 40us/sample - loss: 1203.8597\n",
      "Epoch 44/100\n",
      " 20/151 [==>...........................] - ETA: 0s - loss: 1136.6539WARNING:tensorflow:Early stopping conditioned on metric `val_loss` which is not available. Available metrics are: loss\n",
      "151/151 [==============================] - 0s 40us/sample - loss: 1203.1663\n",
      "Epoch 45/100\n",
      " 20/151 [==>...........................] - ETA: 0s - loss: 1490.9507WARNING:tensorflow:Early stopping conditioned on metric `val_loss` which is not available. Available metrics are: loss\n",
      "151/151 [==============================] - 0s 33us/sample - loss: 1195.3312\n",
      "Epoch 46/100\n",
      " 20/151 [==>...........................] - ETA: 0s - loss: 1061.1981WARNING:tensorflow:Early stopping conditioned on metric `val_loss` which is not available. Available metrics are: loss\n",
      "151/151 [==============================] - 0s 40us/sample - loss: 1190.7753\n",
      "Epoch 47/100\n",
      " 20/151 [==>...........................] - ETA: 0s - loss: 1069.5254WARNING:tensorflow:Early stopping conditioned on metric `val_loss` which is not available. Available metrics are: loss\n",
      "151/151 [==============================] - 0s 33us/sample - loss: 1187.3973\n",
      "Epoch 48/100\n",
      " 20/151 [==>...........................] - ETA: 0s - loss: 1394.5658WARNING:tensorflow:Early stopping conditioned on metric `val_loss` which is not available. Available metrics are: loss\n",
      "151/151 [==============================] - 0s 46us/sample - loss: 1183.2256\n",
      "Epoch 49/100\n",
      " 20/151 [==>...........................] - ETA: 0s - loss: 804.5427WARNING:tensorflow:Early stopping conditioned on metric `val_loss` which is not available. Available metrics are: loss\n",
      "151/151 [==============================] - 0s 40us/sample - loss: 1181.6884\n",
      "Epoch 50/100\n",
      " 20/151 [==>...........................] - ETA: 0s - loss: 1918.4514WARNING:tensorflow:Early stopping conditioned on metric `val_loss` which is not available. Available metrics are: loss\n",
      "151/151 [==============================] - 0s 46us/sample - loss: 1173.8547\n",
      "Epoch 51/100\n",
      " 20/151 [==>...........................] - ETA: 0s - loss: 980.0713WARNING:tensorflow:Early stopping conditioned on metric `val_loss` which is not available. Available metrics are: loss\n",
      "151/151 [==============================] - 0s 40us/sample - loss: 1174.1125\n",
      "Epoch 52/100\n",
      " 20/151 [==>...........................] - ETA: 0s - loss: 883.7235WARNING:tensorflow:Early stopping conditioned on metric `val_loss` which is not available. Available metrics are: loss\n",
      "151/151 [==============================] - 0s 33us/sample - loss: 1166.3238\n",
      "Epoch 53/100\n",
      " 20/151 [==>...........................] - ETA: 0s - loss: 956.5371WARNING:tensorflow:Early stopping conditioned on metric `val_loss` which is not available. Available metrics are: loss\n",
      "151/151 [==============================] - 0s 53us/sample - loss: 1164.8091\n",
      "Epoch 54/100\n",
      " 20/151 [==>...........................] - ETA: 0s - loss: 807.2059WARNING:tensorflow:Early stopping conditioned on metric `val_loss` which is not available. Available metrics are: loss\n",
      "151/151 [==============================] - 0s 40us/sample - loss: 1159.3625\n",
      "Epoch 55/100\n",
      " 20/151 [==>...........................] - ETA: 0s - loss: 1406.7405WARNING:tensorflow:Early stopping conditioned on metric `val_loss` which is not available. Available metrics are: loss\n",
      "151/151 [==============================] - 0s 33us/sample - loss: 1153.3440\n",
      "Epoch 56/100\n",
      " 20/151 [==>...........................] - ETA: 0s - loss: 1113.8702WARNING:tensorflow:Early stopping conditioned on metric `val_loss` which is not available. Available metrics are: loss\n",
      "151/151 [==============================] - 0s 33us/sample - loss: 1146.9285\n",
      "Epoch 57/100\n",
      " 20/151 [==>...........................] - ETA: 0s - loss: 1150.1957WARNING:tensorflow:Early stopping conditioned on metric `val_loss` which is not available. Available metrics are: loss\n",
      "151/151 [==============================] - 0s 40us/sample - loss: 1151.4583\n",
      "Epoch 58/100\n",
      " 20/151 [==>...........................] - ETA: 0s - loss: 1061.6790WARNING:tensorflow:Early stopping conditioned on metric `val_loss` which is not available. Available metrics are: loss\n",
      "151/151 [==============================] - 0s 46us/sample - loss: 1148.9918\n",
      "Epoch 59/100\n",
      " 20/151 [==>...........................] - ETA: 0s - loss: 1114.7488WARNING:tensorflow:Early stopping conditioned on metric `val_loss` which is not available. Available metrics are: loss\n",
      "151/151 [==============================] - 0s 40us/sample - loss: 1132.9682\n",
      "Epoch 60/100\n",
      " 20/151 [==>...........................] - ETA: 0s - loss: 1226.2659WARNING:tensorflow:Early stopping conditioned on metric `val_loss` which is not available. Available metrics are: loss\n",
      "151/151 [==============================] - 0s 40us/sample - loss: 1132.7761\n",
      "Epoch 61/100\n",
      " 20/151 [==>...........................] - ETA: 0s - loss: 1276.1823WARNING:tensorflow:Early stopping conditioned on metric `val_loss` which is not available. Available metrics are: loss\n",
      "151/151 [==============================] - 0s 53us/sample - loss: 1130.0496\n",
      "Epoch 62/100\n",
      " 20/151 [==>...........................] - ETA: 0s - loss: 1076.7528WARNING:tensorflow:Early stopping conditioned on metric `val_loss` which is not available. Available metrics are: loss\n",
      "151/151 [==============================] - 0s 33us/sample - loss: 1122.2648\n",
      "Epoch 63/100\n",
      " 20/151 [==>...........................] - ETA: 0s - loss: 1542.9734WARNING:tensorflow:Early stopping conditioned on metric `val_loss` which is not available. Available metrics are: loss\n",
      "151/151 [==============================] - 0s 53us/sample - loss: 1121.6526\n",
      "Epoch 64/100\n",
      " 20/151 [==>...........................] - ETA: 0s - loss: 1558.9968WARNING:tensorflow:Early stopping conditioned on metric `val_loss` which is not available. Available metrics are: loss\n",
      "151/151 [==============================] - 0s 46us/sample - loss: 1114.4215\n",
      "Epoch 65/100\n",
      " 20/151 [==>...........................] - ETA: 0s - loss: 1093.1213WARNING:tensorflow:Early stopping conditioned on metric `val_loss` which is not available. Available metrics are: loss\n",
      "151/151 [==============================] - 0s 40us/sample - loss: 1120.6872\n",
      "Epoch 66/100\n",
      " 20/151 [==>...........................] - ETA: 0s - loss: 1254.5830WARNING:tensorflow:Early stopping conditioned on metric `val_loss` which is not available. Available metrics are: loss\n",
      "151/151 [==============================] - 0s 40us/sample - loss: 1128.7194\n",
      "Epoch 67/100\n",
      " 20/151 [==>...........................] - ETA: 0s - loss: 1062.0374WARNING:tensorflow:Early stopping conditioned on metric `val_loss` which is not available. Available metrics are: loss\n",
      "151/151 [==============================] - 0s 33us/sample - loss: 1104.7148\n",
      "Epoch 68/100\n",
      " 20/151 [==>...........................] - ETA: 0s - loss: 953.3541WARNING:tensorflow:Early stopping conditioned on metric `val_loss` which is not available. Available metrics are: loss\n",
      "151/151 [==============================] - 0s 40us/sample - loss: 1097.9524\n",
      "Epoch 69/100\n",
      " 20/151 [==>...........................] - ETA: 0s - loss: 1372.4479WARNING:tensorflow:Early stopping conditioned on metric `val_loss` which is not available. Available metrics are: loss\n",
      "151/151 [==============================] - 0s 33us/sample - loss: 1096.5881\n",
      "Epoch 70/100\n",
      " 20/151 [==>...........................] - ETA: 0s - loss: 811.5627WARNING:tensorflow:Early stopping conditioned on metric `val_loss` which is not available. Available metrics are: loss\n",
      "151/151 [==============================] - 0s 33us/sample - loss: 1091.5150\n",
      "Epoch 71/100\n",
      " 20/151 [==>...........................] - ETA: 0s - loss: 826.6605WARNING:tensorflow:Early stopping conditioned on metric `val_loss` which is not available. Available metrics are: loss\n",
      "151/151 [==============================] - 0s 40us/sample - loss: 1098.8733\n",
      "Epoch 72/100\n",
      " 20/151 [==>...........................] - ETA: 0s - loss: 1197.7129WARNING:tensorflow:Early stopping conditioned on metric `val_loss` which is not available. Available metrics are: loss\n",
      "151/151 [==============================] - 0s 33us/sample - loss: 1080.6852\n",
      "Epoch 73/100\n",
      " 20/151 [==>...........................] - ETA: 0s - loss: 1049.1963WARNING:tensorflow:Early stopping conditioned on metric `val_loss` which is not available. Available metrics are: loss\n",
      "151/151 [==============================] - 0s 33us/sample - loss: 1090.0670\n",
      "Epoch 74/100\n",
      " 20/151 [==>...........................] - ETA: 0s - loss: 1079.5458WARNING:tensorflow:Early stopping conditioned on metric `val_loss` which is not available. Available metrics are: loss\n",
      "151/151 [==============================] - 0s 33us/sample - loss: 1076.3909\n",
      "Epoch 75/100\n",
      " 20/151 [==>...........................] - ETA: 0s - loss: 1123.7129WARNING:tensorflow:Early stopping conditioned on metric `val_loss` which is not available. Available metrics are: loss\n",
      "151/151 [==============================] - 0s 33us/sample - loss: 1078.1428\n",
      "Epoch 76/100\n",
      " 20/151 [==>...........................] - ETA: 0s - loss: 871.8896WARNING:tensorflow:Early stopping conditioned on metric `val_loss` which is not available. Available metrics are: loss\n",
      "151/151 [==============================] - 0s 46us/sample - loss: 1070.0091\n",
      "Epoch 77/100\n",
      " 20/151 [==>...........................] - ETA: 0s - loss: 984.6323WARNING:tensorflow:Early stopping conditioned on metric `val_loss` which is not available. Available metrics are: loss\n",
      "151/151 [==============================] - 0s 40us/sample - loss: 1068.5463\n",
      "Epoch 78/100\n",
      " 20/151 [==>...........................] - ETA: 0s - loss: 1381.8220WARNING:tensorflow:Early stopping conditioned on metric `val_loss` which is not available. Available metrics are: loss\n",
      "151/151 [==============================] - 0s 33us/sample - loss: 1070.0245\n",
      "Epoch 79/100\n",
      " 20/151 [==>...........................] - ETA: 0s - loss: 1220.1664WARNING:tensorflow:Early stopping conditioned on metric `val_loss` which is not available. Available metrics are: loss\n",
      "151/151 [==============================] - 0s 40us/sample - loss: 1062.4098\n",
      "Epoch 80/100\n",
      " 20/151 [==>...........................] - ETA: 0s - loss: 1225.1826WARNING:tensorflow:Early stopping conditioned on metric `val_loss` which is not available. Available metrics are: loss\n",
      "151/151 [==============================] - 0s 40us/sample - loss: 1052.8504\n",
      "Epoch 81/100\n",
      " 20/151 [==>...........................] - ETA: 0s - loss: 1087.3418WARNING:tensorflow:Early stopping conditioned on metric `val_loss` which is not available. Available metrics are: loss\n",
      "151/151 [==============================] - 0s 33us/sample - loss: 1056.1051\n",
      "Epoch 82/100\n",
      " 20/151 [==>...........................] - ETA: 0s - loss: 868.0992WARNING:tensorflow:Early stopping conditioned on metric `val_loss` which is not available. Available metrics are: loss\n",
      "151/151 [==============================] - 0s 40us/sample - loss: 1058.5140\n",
      "Epoch 83/100\n",
      " 20/151 [==>...........................] - ETA: 0s - loss: 950.1774WARNING:tensorflow:Early stopping conditioned on metric `val_loss` which is not available. Available metrics are: loss\n",
      "151/151 [==============================] - 0s 33us/sample - loss: 1045.1377\n",
      "Epoch 84/100\n",
      " 20/151 [==>...........................] - ETA: 0s - loss: 1045.7456WARNING:tensorflow:Early stopping conditioned on metric `val_loss` which is not available. Available metrics are: loss\n",
      "151/151 [==============================] - 0s 33us/sample - loss: 1046.1654\n",
      "Epoch 85/100\n",
      " 20/151 [==>...........................] - ETA: 0s - loss: 1142.9500WARNING:tensorflow:Early stopping conditioned on metric `val_loss` which is not available. Available metrics are: loss\n",
      "151/151 [==============================] - 0s 40us/sample - loss: 1036.7308\n",
      "Epoch 86/100\n",
      " 20/151 [==>...........................] - ETA: 0s - loss: 1030.2542WARNING:tensorflow:Early stopping conditioned on metric `val_loss` which is not available. Available metrics are: loss\n",
      "151/151 [==============================] - 0s 40us/sample - loss: 1035.8360\n",
      "Epoch 87/100\n",
      " 20/151 [==>...........................] - ETA: 0s - loss: 1286.6228WARNING:tensorflow:Early stopping conditioned on metric `val_loss` which is not available. Available metrics are: loss\n",
      "151/151 [==============================] - 0s 33us/sample - loss: 1030.2429\n",
      "Epoch 88/100\n",
      " 20/151 [==>...........................] - ETA: 0s - loss: 1188.9426WARNING:tensorflow:Early stopping conditioned on metric `val_loss` which is not available. Available metrics are: loss\n",
      "151/151 [==============================] - 0s 40us/sample - loss: 1029.9341\n",
      "Epoch 89/100\n",
      " 20/151 [==>...........................] - ETA: 0s - loss: 1060.3685WARNING:tensorflow:Early stopping conditioned on metric `val_loss` which is not available. Available metrics are: loss\n",
      "151/151 [==============================] - 0s 33us/sample - loss: 1025.6321\n",
      "Epoch 90/100\n",
      " 20/151 [==>...........................] - ETA: 0s - loss: 875.9141WARNING:tensorflow:Early stopping conditioned on metric `val_loss` which is not available. Available metrics are: loss\n",
      "151/151 [==============================] - 0s 40us/sample - loss: 1026.7861\n",
      "Epoch 91/100\n",
      " 20/151 [==>...........................] - ETA: 0s - loss: 973.7297WARNING:tensorflow:Early stopping conditioned on metric `val_loss` which is not available. Available metrics are: loss\n",
      "151/151 [==============================] - 0s 40us/sample - loss: 1040.2549\n",
      "Epoch 92/100\n",
      " 20/151 [==>...........................] - ETA: 0s - loss: 1019.1112WARNING:tensorflow:Early stopping conditioned on metric `val_loss` which is not available. Available metrics are: loss\n",
      "151/151 [==============================] - 0s 40us/sample - loss: 1015.0249\n",
      "Epoch 93/100\n",
      " 20/151 [==>...........................] - ETA: 0s - loss: 1259.1536WARNING:tensorflow:Early stopping conditioned on metric `val_loss` which is not available. Available metrics are: loss\n",
      "151/151 [==============================] - 0s 46us/sample - loss: 1015.8681\n",
      "Epoch 94/100\n",
      " 20/151 [==>...........................] - ETA: 0s - loss: 854.1789WARNING:tensorflow:Early stopping conditioned on metric `val_loss` which is not available. Available metrics are: loss\n",
      "151/151 [==============================] - 0s 33us/sample - loss: 1014.3591\n",
      "Epoch 95/100\n",
      " 20/151 [==>...........................] - ETA: 0s - loss: 909.0345WARNING:tensorflow:Early stopping conditioned on metric `val_loss` which is not available. Available metrics are: loss\n",
      "151/151 [==============================] - 0s 46us/sample - loss: 1008.3125\n",
      "Epoch 96/100\n",
      " 20/151 [==>...........................] - ETA: 0s - loss: 961.8693WARNING:tensorflow:Early stopping conditioned on metric `val_loss` which is not available. Available metrics are: loss\n",
      "151/151 [==============================] - 0s 40us/sample - loss: 1004.9703\n",
      "Epoch 97/100\n",
      " 20/151 [==>...........................] - ETA: 0s - loss: 966.4854WARNING:tensorflow:Early stopping conditioned on metric `val_loss` which is not available. Available metrics are: loss\n",
      "151/151 [==============================] - 0s 33us/sample - loss: 1035.9162\n",
      "Epoch 98/100\n",
      " 20/151 [==>...........................] - ETA: 0s - loss: 914.8893WARNING:tensorflow:Early stopping conditioned on metric `val_loss` which is not available. Available metrics are: loss\n",
      "151/151 [==============================] - 0s 46us/sample - loss: 999.3919\n",
      "Epoch 99/100\n",
      " 20/151 [==>...........................] - ETA: 0s - loss: 748.0760WARNING:tensorflow:Early stopping conditioned on metric `val_loss` which is not available. Available metrics are: loss\n",
      "151/151 [==============================] - 0s 40us/sample - loss: 1018.5429\n",
      "Epoch 100/100\n",
      " 20/151 [==>...........................] - ETA: 0s - loss: 1275.2037WARNING:tensorflow:Early stopping conditioned on metric `val_loss` which is not available. Available metrics are: loss\n",
      "151/151 [==============================] - 0s 40us/sample - loss: 998.3796\n"
     ]
    }
   ],
   "source": [
    "# Iremos modelar a reta y = m * x + b com apenas um único neurônio.\n",
    "stop = EarlyStopping(monitor='val_loss', patience=5)\n",
    "model = Sequential()\n",
    "# Ativação linear, não altera a soma ponderada da entrada de forma alguma e, em vez disso, retorna o valor diretamente.\n",
    "model.add(tf.keras.layers.Dense(1, input_shape = [1]))\n",
    "model.compile(loss = 'mse', optimizer = tf.keras.optimizers.Adam(0.1))\n",
    "\n",
    "history = model.fit(data, random_data, epochs = 100, callbacks=[stop], batch_size=20)"
   ]
  },
  {
   "cell_type": "code",
   "execution_count": 112,
   "metadata": {},
   "outputs": [
    {
     "data": {
      "text/plain": [
       "Text(0, 0.5, 'Loss')"
      ]
     },
     "execution_count": 112,
     "metadata": {},
     "output_type": "execute_result"
    },
    {
     "data": {
      "image/png": "[encoded data removed]",
      "text/plain": [
       "<Figure size 432x288 with 1 Axes>"
      ]
     },
     "metadata": {
      "needs_background": "light"
     },
     "output_type": "display_data"
    }
   ],
   "source": [
    "# Perdas durante o treinamento\n",
    "plt.plot(history.history['loss'], label = 'loss')\n",
    "plt.legend()\n",
    "plt.xlabel('Epoch')\n",
    "plt.ylabel('Loss')"
   ]
  },
  {
   "cell_type": "code",
   "execution_count": 113,
   "metadata": {},
   "outputs": [
    {
     "data": {
      "text/latex": [
       "$\\displaystyle y_0 = 1.23 x + 24.46$"
      ],
      "text/plain": [
       "<IPython.core.display.Math object>"
      ]
     },
     "metadata": {},
     "output_type": "display_data"
    },
    {
     "data": {
      "image/png": "[encoded data removed]",
      "text/plain": [
       "<Figure size 432x288 with 1 Axes>"
      ]
     },
     "metadata": {
      "needs_background": "light"
     },
     "output_type": "display_data"
    }
   ],
   "source": [
    "# Realizando a predição do modelo\n",
    "predicao = model.predict(data)\n",
    "\n",
    "plt.scatter(data, random_data, label = 'data')\n",
    "plt.plot(predicao, label = 'Predição do modelo', color = 'r')\n",
    "plt.title('Reta de regressão')\n",
    "plt.xlabel('x')\n",
    "plt.ylabel('y')\n",
    "plt.legend()\n",
    "\n",
    "# Visualiza os valores dos coeficientes estimados pelo modelo, retornando os pesos e biases da primeira camada.\n",
    "coef = model.layers[0].get_weights()\n",
    "#print('y = {}x + {}'.format(coef[0].round(2), coef[1].round(2)))\n",
    "display(Math('y_0 = %.2f x + %.2f'%(coef[0], coef[1])))"
   ]
  },
  {
   "cell_type": "code",
   "execution_count": 114,
   "metadata": {},
   "outputs": [],
   "source": [
    "# model.save('Introduction_ANNs_regression.h5')"
   ]
  },
  {
   "cell_type": "markdown",
   "metadata": {},
   "source": [
    "Nesta aplicação foi demostrado o método de regressão linear que nada mais é o processo de traçar uma reta através dos dados em um diagrama de dispersão. A reta resume esses dados, o que é útil quando fazemos previsões. Onde o modelo foi capaz de determinar os coeficientes da reta que também pode ser utilizada para realizar previsões. Para entendermos melhor como os coeficientes da reta podem ser determinados iremos demostrar o mesmo exemplo utilizando o método dos mínimos quadrados.\n",
    "\n",
    "O método dos mínimos quadrados se baseia na regressão simples onde queremos estimar valores de uma determinada variável y, assim podemos cosiderar os valores de outra variável x conforme a equação abaixo\n",
    "\n",
    "$$y = \\alpha + \\beta x + \\epsilon_1$$ \n",
    "\n",
    "*Alpha*: Parâmetro do modelo chamado de constante.\n",
    "\n",
    "*Beta*: Parâmetro do modelo chamado de coeficiente da variável *x*.\n",
    "\n",
    "*Epsilon:* Erro - representa a variação de *y* que não é explicada pelo modelo. \n",
    "\n",
    "Além de um conjunto de dados históricos observados de *y* e *x* denotado por *n*. O método dos mínimos quadrados ajuda a encontrar as estimativas de *alpha* e *beta*, sendo somente as estimativas desses parâmetros visto que seus valores reais são desconhecidos. Assim sabendo dessas informações obtemos o seguinte modelo\n",
    "\n",
    "$$y = a + bx_i + e_i$$ \n",
    "\n",
    "onde *i* indica cada uma das *n* observações da base de dados e *e* passa a ser chamado de resíduo, ao invés de erro. O método dos mínimos quadrados minimiza a soma dos quadrado dos resíduos, ou seja, minimiza:\n",
    "\n",
    "$$\\sum_{i=1}^{n}{e^2_i}$$\n",
    "\n",
    "A ideia por trás dessa técnica é que, minimizando a soma do quadrado dos resíduos, encontraremos *a* e *b* que trarão a menor diferença entre a previsão de *y* e o *y* realmente observado.\n",
    "\n",
    "Assim temos as sequintes equações para determinar os coeficientes\n",
    "\n",
    "$$a = \\overline{y} - b\\overline{x}$$\n",
    "$$b = \\frac{\\sum_{i=1}^{n}{(x_i - \\overline{x})(y_i - \\overline{y})}}{\\sum_{i=1}^{n}{(x_i - \\overline{x})}^2}$$"
   ]
  },
  {
   "cell_type": "code",
   "execution_count": 115,
   "metadata": {},
   "outputs": [],
   "source": [
    "def estimativa_coef(x, y):\n",
    "  \"\"\"\n",
    "  Esta função usa o método dos mínimos quadrados como forma de estimar os coeficientes da reta de regressão\n",
    "  param x, y: diagrama de dispersão.\n",
    "\n",
    "  return b0, b1: coeficientes estimados.\n",
    "  \"\"\"\n",
    "  # x e y recebem as  a variáveis de alvo e as variáveis independentes.\n",
    "  # Contendo o diagrama de dispersão.\n",
    "\n",
    "  n = np.size(x)  # número de observações visto que y depende de x\n",
    "\n",
    "  # retirando a média dos valores de x e y\n",
    "  mean_x = np.mean(x)\n",
    "  mean_y = np.mean(y)\n",
    "\n",
    "  # calcula o desvio cruzado e o desvio sobre x\n",
    "  SS_xy = np.sum(y * x) - n * mean_y * mean_x\n",
    "  SS_xx = np.sum(x * x) - n * mean_x * mean_x\n",
    "\n",
    "  # Determinação dos coeficientes\n",
    "  b1 = SS_xy / SS_xx\n",
    "  b0 = mean_y - b1 * mean_x\n",
    "  \n",
    "  return (b0, b1)\n"
   ]
  },
  {
   "cell_type": "code",
   "execution_count": 116,
   "metadata": {},
   "outputs": [],
   "source": [
    "def plot_regression_line(x, y, b):\n",
    "  \"\"\"\n",
    "  Esta função realiza o plot da reta de regressão sobre o diagrama de dispersão\n",
    "  param x, y: diagrama de dispersão.\n",
    "  param b: coeficientes estimados.\n",
    "  \"\"\"\n",
    "  # Plot do diagrama de dispersão.\n",
    "  plt.scatter(x, y, label = 'data')\n",
    "\n",
    "  # Plot da reta de regressão.\n",
    "  y = b[0] + b[1] * x\n",
    "  plt.plot(x, y, color = 'r', label = 'regression line')\n",
    "  plt.title('Reta de regressão')\n",
    "\n",
    "  plt.legend()\n",
    "  plt.xlabel('x')\n",
    "  plt.ylabel('y')\n",
    "\n",
    "  plt.show()"
   ]
  },
  {
   "cell_type": "code",
   "execution_count": 117,
   "metadata": {},
   "outputs": [
    {
     "data": {
      "image/png": "[encoded data removed]",
      "text/plain": [
       "<Figure size 432x288 with 1 Axes>"
      ]
     },
     "metadata": {
      "needs_background": "light"
     },
     "output_type": "display_data"
    }
   ],
   "source": [
    "# Plot da reta de regressão utilizando o mesmo diagrama de disperção \n",
    "coef = estimativa_coef(data, random_data)\n",
    "plot_regression_line(data, random_data, coef)"
   ]
  },
  {
   "cell_type": "code",
   "execution_count": 118,
   "metadata": {},
   "outputs": [
    {
     "data": {
      "text/latex": [
       "$\\displaystyle y_1 = 1.02 x + 46.23$"
      ],
      "text/plain": [
       "<IPython.core.display.Math object>"
      ]
     },
     "metadata": {},
     "output_type": "display_data"
    }
   ],
   "source": [
    "# Equação da reta\n",
    "#print('y = {}x + {} ' .format(coef[1].round(2), coef[0].round(2)))\n",
    "display(Math('y_1 = %.2f x + %.2f' % (coef[1], coef[0])))"
   ]
  },
  {
   "cell_type": "markdown",
   "metadata": {},
   "source": [
    "### NN vs Mínimos Quadrados"
   ]
  },
  {
   "cell_type": "code",
   "execution_count": 119,
   "metadata": {},
   "outputs": [
    {
     "data": {
      "text/plain": [
       "<matplotlib.legend.Legend at 0x212cd731820>"
      ]
     },
     "execution_count": 119,
     "metadata": {},
     "output_type": "execute_result"
    },
    {
     "data": {
      "image/png": "[encoded data removed]",
      "text/plain": [
       "<Figure size 720x504 with 1 Axes>"
      ]
     },
     "metadata": {
      "needs_background": "light"
     },
     "output_type": "display_data"
    }
   ],
   "source": [
    "plt.figure(num=None, figsize=(10,7))\n",
    "plt.scatter(data, random_data, label='data')\n",
    "plt.plot(predicao, label='NN', color='r')\n",
    "plt.plot(coef[0] + coef[1] * data, label='MQ Algorithm', color='g')\n",
    "plt.grid()\n",
    "plt.title('NN vs MQ')\n",
    "plt.xlabel('X')\n",
    "plt.ylabel('Y')\n",
    "plt.legend()"
   ]
  },
  {
   "cell_type": "markdown",
   "metadata": {},
   "source": [
    "## Referências\n",
    "**[1]** Neural networks and learning machines, Simon Haykin.—3rd ed.\\ **[2]** Hands-On Machine Learning with Scikit-Learn, Keras, and TensorFlow by Aurélien Géron Copyright © 2019 Kiwisoft S.A.S. All rights reserved."
   ]
  }
 ],
 "metadata": {
  "interpreter": {
   "hash": "4a22de80fc93258c52614dd645d6390ddae8dec301560c1a6829d645aa7adbd4"
  },
  "kernelspec": {
   "display_name": "Python 3.8.0 64-bit",
   "name": "python3"
  },
  "language_info": {
   "codemirror_mode": {
    "name": "ipython",
    "version": 3
   },
   "file_extension": ".py",
   "mimetype": "text/x-python",
   "name": "python",
   "nbconvert_exporter": "python",
   "pygments_lexer": "ipython3",
   "version": "3.9.9"
  },
  "orig_nbformat": 4
 },
 "nbformat": 4,
 "nbformat_minor": 2
}
