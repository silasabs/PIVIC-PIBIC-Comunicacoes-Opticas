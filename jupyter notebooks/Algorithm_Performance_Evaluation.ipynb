{
 "cells": [
  {
   "cell_type": "code",
   "execution_count": 1,
   "metadata": {},
   "outputs": [],
   "source": [
    "import matplotlib.pyplot as plt\n",
    "import numpy as np\n",
    "\n",
    "from commpy.modulation import QAMModem\n",
    "\n",
    "from optic.dsp import pulseShape, firFilter, decimate, symbolSync, resample\n",
    "from optic.models import phaseNoise, KramersKronigRx, linFiberCh\n",
    "\n",
    "from optic.tx import simpleWDMTx\n",
    "from optic.core import parameters\n",
    "from optic.equalization import edc, mimoAdaptEqualizer\n",
    "from optic.carrierRecovery import cpr\n",
    "from optic.metrics import fastBERcalc, monteCarloGMI, monteCarloMI, signal_power\n",
    "from optic.plot import pconst\n",
    "\n",
    "import scipy.constants as const\n",
    "\n",
    "from tensorflow.keras.layers import Dense, Dropout, BatchNormalization\n",
    "from tensorflow.keras.models import Sequential\n",
    "from tensorflow.keras.callbacks import EarlyStopping\n",
    "import tensorflow as tf"
   ]
  },
  {
   "cell_type": "markdown",
   "metadata": {},
   "source": [
    "### Simulation of a single polarization optical signal transmission"
   ]
  },
  {
   "cell_type": "code",
   "execution_count": 2,
   "metadata": {},
   "outputs": [],
   "source": [
    "## Transmitter parameters:\n",
    "paramTx = parameters()\n",
    "paramTx.M = 64                 # order of the modulation format\n",
    "paramTx.Rs = 32e9              # symbol rate [baud]\n",
    "paramTx.SpS = 4                # samples per symbol\n",
    "paramTx.Nbits = 600000         # total number of bits per polarization\n",
    "paramTx.pulse = \"rrc\"          # pulse shaping filter\n",
    "paramTx.Ntaps = 1024           # number of pulse shaping filter coefficients\n",
    "#paramTx.alphaRRC = 0.91        # RRC rolloff\n",
    "paramTx.Pch_dBm = 0            # power of the optical signal [dBm]\n",
    "paramTx.Nch = 1                # number of WDM channels\n",
    "paramTx.Fc = 193.1e12          # central frequency of the optical spectrum\n",
    "paramTx.freqSpac = 37.5e9      # WDM grid spacing\n",
    "\n",
    "## Optical channel parameters:\n",
    "Ltotal = 50      # total link distance [km]\n",
    "alpha = 0        # fiber loss parameter [dB/km]\n",
    "D = 16           # fiber dispersion parameter [ps/nm/km]\n",
    "Fc = paramTx.Fc  # central optical frequency of the WDM spectrum [Hz]\n",
    "\n",
    "## Receiver parameters:\n",
    "\n",
    "# local oscillator (LO)\n",
    "#FO = 5e9 + paramTx.Rs/2  # frequency offset\n",
    "lw = 0*200e3       # linewidth\n",
    "ϕ_lo = 0           # initial phase in rad\n",
    "Plo_dBm = 12       # power in dBm\n",
    "\n",
    "# ADC sampling rate\n",
    "paramADC = parameters()\n",
    "paramADC.Rs = paramTx.Rs\n",
    "paramADC.SpS_in = paramTx.SpS\n",
    "paramADC.SpS_out = 4\n",
    "\n",
    "## General simulation parameters:\n",
    "chIndex = 0  # index of the channel to be demodulated\n",
    "plotPSD = True\n",
    "Fs = paramTx.Rs * paramTx.SpS  # simulation sampling rate"
   ]
  },
  {
   "cell_type": "code",
   "execution_count": 3,
   "metadata": {},
   "outputs": [],
   "source": [
    "plt.rcParams['font.size'] = 13\n",
    "plt.rcParams['lines.linewidth'] = 1.5\n",
    "plt.rcParams['text.usetex'] = False"
   ]
  },
  {
   "cell_type": "markdown",
   "metadata": {},
   "source": [
    "### Neural Network Performance Analysis"
   ]
  },
  {
   "cell_type": "code",
   "execution_count": 4,
   "metadata": {},
   "outputs": [
    {
     "name": "stdout",
     "output_type": "stream",
     "text": [
      "channel 0\t fc : 193.1000 THz\n",
      "  mode #0\t power: 0.00 dBm\n",
      "channel 0\t power: 0.00 dBm\n",
      "\n",
      "total WDM signal power: 0.00 dBm\n",
      "Demodulating channel #0 , fc: 193.1000 THz, λ: 1552.5244 nm\n",
      "\n",
      "Local oscillator P: 12.00 dBm, lw: 0.00 kHz, FO: 17000.00 MHz\n",
      "CSPR = 12.00 dB\n",
      "\n",
      "\n",
      "nlms - training stage #0\n"
     ]
    },
    {
     "data": {
      "application/vnd.jupyter.widget-view+json": {
       "model_id": "f491e751d882413a9cfc7f45dd6c01b5",
       "version_major": 2,
       "version_minor": 0
      },
      "text/plain": [
       "  0%|          | 0/5 [00:00<?, ?it/s]"
      ]
     },
     "metadata": {},
     "output_type": "display_data"
    },
    {
     "name": "stdout",
     "output_type": "stream",
     "text": [
      "nlms pre-convergence training iteration #0\n",
      "nlms MSE = 0.022210.\n",
      "nlms pre-convergence training iteration #1\n",
      "nlms MSE = 0.002716.\n",
      "nlms pre-convergence training iteration #2\n",
      "nlms MSE = 0.002310.\n",
      "nlms pre-convergence training iteration #3\n",
      "nlms MSE = 0.002077.\n",
      "nlms pre-convergence training iteration #4\n",
      "nlms MSE = 0.001924.\n",
      "\n",
      "\n",
      "dd-lms - training stage #1\n",
      "dd-lms MSE = 0.001096.\n",
      "Results:\n",
      "\n",
      "SER: 1.33e-04\n",
      "BER: 3.15e-05\n",
      "SNR: 29.50 dB\n",
      "MI: 6.00 bits\n",
      "GMI: 6.00 bits\n",
      "channel 0\t fc : 193.1000 THz\n",
      "  mode #0\t power: 0.00 dBm\n",
      "channel 0\t power: -0.00 dBm\n",
      "\n",
      "total WDM signal power: -0.00 dBm\n",
      "Demodulating channel #0 , fc: 193.1000 THz, λ: 1552.5244 nm\n",
      "\n",
      "Local oscillator P: 12.00 dBm, lw: 0.00 kHz, FO: 17000.00 MHz\n",
      "CSPR = 12.00 dB\n",
      "\n",
      "\n",
      "nlms - training stage #0\n"
     ]
    },
    {
     "data": {
      "application/vnd.jupyter.widget-view+json": {
       "model_id": "0779c4e1e01e41c59277efa19f77592e",
       "version_major": 2,
       "version_minor": 0
      },
      "text/plain": [
       "  0%|          | 0/5 [00:00<?, ?it/s]"
      ]
     },
     "metadata": {},
     "output_type": "display_data"
    },
    {
     "name": "stdout",
     "output_type": "stream",
     "text": [
      "nlms pre-convergence training iteration #0\n",
      "nlms MSE = 0.021285.\n",
      "nlms pre-convergence training iteration #1\n",
      "nlms MSE = 0.003849.\n",
      "nlms pre-convergence training iteration #2\n",
      "nlms MSE = 0.003329.\n",
      "nlms pre-convergence training iteration #3\n",
      "nlms MSE = 0.003052.\n",
      "nlms pre-convergence training iteration #4\n",
      "nlms MSE = 0.002883.\n",
      "\n",
      "\n",
      "dd-lms - training stage #1\n",
      "dd-lms MSE = 0.001330.\n",
      "Results:\n",
      "\n",
      "SER: 3.11e-04\n",
      "BER: 7.22e-05\n",
      "SNR: 28.65 dB\n",
      "MI: 6.00 bits\n",
      "GMI: 5.99 bits\n",
      "channel 0\t fc : 193.1000 THz\n",
      "  mode #0\t power: 0.00 dBm\n",
      "channel 0\t power: 0.00 dBm\n",
      "\n",
      "total WDM signal power: 0.00 dBm\n",
      "Demodulating channel #0 , fc: 193.1000 THz, λ: 1552.5244 nm\n",
      "\n",
      "Local oscillator P: 12.00 dBm, lw: 0.00 kHz, FO: 17000.00 MHz\n",
      "CSPR = 12.00 dB\n",
      "\n",
      "\n",
      "nlms - training stage #0\n"
     ]
    },
    {
     "data": {
      "application/vnd.jupyter.widget-view+json": {
       "model_id": "3591e610b5ee43b49143a9ae94c5dbc3",
       "version_major": 2,
       "version_minor": 0
      },
      "text/plain": [
       "  0%|          | 0/5 [00:00<?, ?it/s]"
      ]
     },
     "metadata": {},
     "output_type": "display_data"
    },
    {
     "name": "stdout",
     "output_type": "stream",
     "text": [
      "nlms pre-convergence training iteration #0\n",
      "nlms MSE = 0.022467.\n",
      "nlms pre-convergence training iteration #1\n",
      "nlms MSE = 0.005410.\n",
      "nlms pre-convergence training iteration #2\n",
      "nlms MSE = 0.004855.\n",
      "nlms pre-convergence training iteration #3\n",
      "nlms MSE = 0.004517.\n",
      "nlms pre-convergence training iteration #4\n",
      "nlms MSE = 0.004290.\n",
      "\n",
      "\n",
      "dd-lms - training stage #1\n",
      "dd-lms MSE = 0.002901.\n",
      "Results:\n",
      "\n",
      "SER: 1.00e-03\n",
      "BER: 2.26e-04\n",
      "SNR: 25.37 dB\n",
      "MI: 6.00 bits\n",
      "GMI: 5.99 bits\n",
      "channel 0\t fc : 193.1000 THz\n",
      "  mode #0\t power: 0.00 dBm\n",
      "channel 0\t power: -0.00 dBm\n",
      "\n",
      "total WDM signal power: -0.00 dBm\n",
      "Demodulating channel #0 , fc: 193.1000 THz, λ: 1552.5244 nm\n",
      "\n",
      "Local oscillator P: 12.00 dBm, lw: 0.00 kHz, FO: 17000.00 MHz\n",
      "CSPR = 12.00 dB\n",
      "\n",
      "\n",
      "nlms - training stage #0\n"
     ]
    },
    {
     "data": {
      "application/vnd.jupyter.widget-view+json": {
       "model_id": "f098fa135a6240968256563de0164359",
       "version_major": 2,
       "version_minor": 0
      },
      "text/plain": [
       "  0%|          | 0/5 [00:00<?, ?it/s]"
      ]
     },
     "metadata": {},
     "output_type": "display_data"
    },
    {
     "name": "stdout",
     "output_type": "stream",
     "text": [
      "nlms pre-convergence training iteration #0\n",
      "nlms MSE = 0.026489.\n",
      "nlms pre-convergence training iteration #1\n",
      "nlms MSE = 0.008963.\n",
      "nlms pre-convergence training iteration #2\n",
      "nlms MSE = 0.007700.\n",
      "nlms pre-convergence training iteration #3\n",
      "nlms MSE = 0.006894.\n",
      "nlms pre-convergence training iteration #4\n",
      "nlms MSE = 0.006333.\n",
      "\n",
      "\n",
      "dd-lms - training stage #1\n",
      "dd-lms MSE = 0.004058.\n",
      "Results:\n",
      "\n",
      "SER: 5.76e-03\n",
      "BER: 1.39e-03\n",
      "SNR: 23.66 dB\n",
      "MI: 5.97 bits\n",
      "GMI: 5.96 bits\n",
      "channel 0\t fc : 193.1000 THz\n",
      "  mode #0\t power: 0.00 dBm\n",
      "channel 0\t power: 0.00 dBm\n",
      "\n",
      "total WDM signal power: 0.00 dBm\n",
      "Demodulating channel #0 , fc: 193.1000 THz, λ: 1552.5244 nm\n",
      "\n",
      "Local oscillator P: 12.00 dBm, lw: 0.00 kHz, FO: 17000.00 MHz\n",
      "CSPR = 12.00 dB\n",
      "\n",
      "\n",
      "nlms - training stage #0\n"
     ]
    },
    {
     "data": {
      "application/vnd.jupyter.widget-view+json": {
       "model_id": "875b02401289428caf59144dc4f6f5e4",
       "version_major": 2,
       "version_minor": 0
      },
      "text/plain": [
       "  0%|          | 0/5 [00:00<?, ?it/s]"
      ]
     },
     "metadata": {},
     "output_type": "display_data"
    },
    {
     "name": "stdout",
     "output_type": "stream",
     "text": [
      "nlms pre-convergence training iteration #0\n",
      "nlms MSE = 0.030861.\n",
      "nlms pre-convergence training iteration #1\n",
      "nlms MSE = 0.011835.\n",
      "nlms pre-convergence training iteration #2\n",
      "nlms MSE = 0.009599.\n",
      "nlms pre-convergence training iteration #3\n",
      "nlms MSE = 0.008279.\n",
      "nlms pre-convergence training iteration #4\n",
      "nlms MSE = 0.007432.\n",
      "\n",
      "\n",
      "dd-lms - training stage #1\n",
      "dd-lms MSE = 0.004710.\n",
      "Results:\n",
      "\n",
      "SER: 1.02e-02\n",
      "BER: 2.57e-03\n",
      "SNR: 22.94 dB\n",
      "MI: 5.95 bits\n",
      "GMI: 5.92 bits\n",
      "channel 0\t fc : 193.1000 THz\n",
      "  mode #0\t power: 0.00 dBm\n",
      "channel 0\t power: 0.00 dBm\n",
      "\n",
      "total WDM signal power: 0.00 dBm\n",
      "Demodulating channel #0 , fc: 193.1000 THz, λ: 1552.5244 nm\n",
      "\n",
      "Local oscillator P: 12.00 dBm, lw: 0.00 kHz, FO: 17000.00 MHz\n",
      "CSPR = 12.00 dB\n",
      "\n",
      "\n",
      "nlms - training stage #0\n"
     ]
    },
    {
     "data": {
      "application/vnd.jupyter.widget-view+json": {
       "model_id": "095a5c8cf04747d89b13a0d5c57ccaa8",
       "version_major": 2,
       "version_minor": 0
      },
      "text/plain": [
       "  0%|          | 0/5 [00:00<?, ?it/s]"
      ]
     },
     "metadata": {},
     "output_type": "display_data"
    },
    {
     "name": "stdout",
     "output_type": "stream",
     "text": [
      "nlms pre-convergence training iteration #0\n",
      "nlms MSE = 0.034892.\n",
      "nlms pre-convergence training iteration #1\n",
      "nlms MSE = 0.014273.\n",
      "nlms pre-convergence training iteration #2\n",
      "nlms MSE = 0.011201.\n",
      "nlms pre-convergence training iteration #3\n",
      "nlms MSE = 0.009545.\n",
      "nlms pre-convergence training iteration #4\n",
      "nlms MSE = 0.008559.\n",
      "\n",
      "\n",
      "dd-lms - training stage #1\n",
      "dd-lms MSE = 0.006010.\n",
      "Results:\n",
      "\n",
      "SER: 2.16e-02\n",
      "BER: 5.62e-03\n",
      "SNR: 21.85 dB\n",
      "MI: 5.90 bits\n",
      "GMI: 5.84 bits\n",
      "channel 0\t fc : 193.1000 THz\n",
      "  mode #0\t power: 0.00 dBm\n",
      "channel 0\t power: 0.00 dBm\n",
      "\n",
      "total WDM signal power: 0.00 dBm\n",
      "Demodulating channel #0 , fc: 193.1000 THz, λ: 1552.5244 nm\n",
      "\n",
      "Local oscillator P: 12.00 dBm, lw: 0.00 kHz, FO: 17000.00 MHz\n",
      "CSPR = 12.00 dB\n",
      "\n",
      "\n",
      "nlms - training stage #0\n"
     ]
    },
    {
     "data": {
      "application/vnd.jupyter.widget-view+json": {
       "model_id": "ace35969314a4bd78240473f7e7eec89",
       "version_major": 2,
       "version_minor": 0
      },
      "text/plain": [
       "  0%|          | 0/5 [00:00<?, ?it/s]"
      ]
     },
     "metadata": {},
     "output_type": "display_data"
    },
    {
     "name": "stdout",
     "output_type": "stream",
     "text": [
      "nlms pre-convergence training iteration #0\n",
      "nlms MSE = 0.039795.\n",
      "nlms pre-convergence training iteration #1\n",
      "nlms MSE = 0.019979.\n",
      "nlms pre-convergence training iteration #2\n",
      "nlms MSE = 0.016746.\n",
      "nlms pre-convergence training iteration #3\n",
      "nlms MSE = 0.014959.\n",
      "nlms pre-convergence training iteration #4\n",
      "nlms MSE = 0.013902.\n",
      "\n",
      "\n",
      "dd-lms - training stage #1\n",
      "dd-lms MSE = 0.009910.\n",
      "Results:\n",
      "\n",
      "SER: 9.62e-02\n",
      "BER: 2.53e-02\n",
      "SNR: 19.07 dB\n",
      "MI: 5.59 bits\n",
      "GMI: 5.38 bits\n",
      "channel 0\t fc : 193.1000 THz\n",
      "  mode #0\t power: 0.00 dBm\n",
      "channel 0\t power: 0.00 dBm\n",
      "\n",
      "total WDM signal power: 0.00 dBm\n",
      "Demodulating channel #0 , fc: 193.1000 THz, λ: 1552.5244 nm\n",
      "\n",
      "Local oscillator P: 12.00 dBm, lw: 0.00 kHz, FO: 17000.00 MHz\n",
      "CSPR = 12.00 dB\n",
      "\n",
      "\n",
      "nlms - training stage #0\n"
     ]
    },
    {
     "data": {
      "application/vnd.jupyter.widget-view+json": {
       "model_id": "8f584be5bbd1446c8be0d03a0599d407",
       "version_major": 2,
       "version_minor": 0
      },
      "text/plain": [
       "  0%|          | 0/5 [00:00<?, ?it/s]"
      ]
     },
     "metadata": {},
     "output_type": "display_data"
    },
    {
     "name": "stdout",
     "output_type": "stream",
     "text": [
      "nlms pre-convergence training iteration #0\n",
      "nlms MSE = 0.043746.\n",
      "nlms pre-convergence training iteration #1\n",
      "nlms MSE = 0.024821.\n",
      "nlms pre-convergence training iteration #2\n",
      "nlms MSE = 0.020916.\n",
      "nlms pre-convergence training iteration #3\n",
      "nlms MSE = 0.018795.\n",
      "nlms pre-convergence training iteration #4\n",
      "nlms MSE = 0.017545.\n",
      "\n",
      "\n",
      "dd-lms - training stage #1\n",
      "dd-lms MSE = 0.011603.\n",
      "Results:\n",
      "\n",
      "SER: 1.50e-01\n",
      "BER: 4.04e-02\n",
      "SNR: 17.88 dB\n",
      "MI: 5.37 bits\n",
      "GMI: 5.05 bits\n",
      "channel 0\t fc : 193.1000 THz\n",
      "  mode #0\t power: 0.00 dBm\n",
      "channel 0\t power: -0.00 dBm\n",
      "\n",
      "total WDM signal power: -0.00 dBm\n",
      "Demodulating channel #0 , fc: 193.1000 THz, λ: 1552.5244 nm\n",
      "\n",
      "Local oscillator P: 12.00 dBm, lw: 0.00 kHz, FO: 17000.00 MHz\n",
      "CSPR = 12.00 dB\n",
      "\n",
      "\n",
      "nlms - training stage #0\n"
     ]
    },
    {
     "data": {
      "application/vnd.jupyter.widget-view+json": {
       "model_id": "da47f33afb99484f96f3de85dadc3ae0",
       "version_major": 2,
       "version_minor": 0
      },
      "text/plain": [
       "  0%|          | 0/5 [00:00<?, ?it/s]"
      ]
     },
     "metadata": {},
     "output_type": "display_data"
    },
    {
     "name": "stdout",
     "output_type": "stream",
     "text": [
      "nlms pre-convergence training iteration #0\n",
      "nlms MSE = 0.050175.\n",
      "nlms pre-convergence training iteration #1\n",
      "nlms MSE = 0.029603.\n",
      "nlms pre-convergence training iteration #2\n",
      "nlms MSE = 0.025113.\n",
      "nlms pre-convergence training iteration #3\n",
      "nlms MSE = 0.022689.\n",
      "nlms pre-convergence training iteration #4\n",
      "nlms MSE = 0.021269.\n",
      "\n",
      "\n",
      "dd-lms - training stage #1\n",
      "dd-lms MSE = 0.013117.\n",
      "Results:\n",
      "\n",
      "SER: 2.13e-01\n",
      "BER: 5.91e-02\n",
      "SNR: 16.82 dB\n",
      "MI: 5.12 bits\n",
      "GMI: 4.68 bits\n",
      "channel 0\t fc : 193.1000 THz\n",
      "  mode #0\t power: 0.00 dBm\n",
      "channel 0\t power: -0.00 dBm\n",
      "\n",
      "total WDM signal power: -0.00 dBm\n",
      "Demodulating channel #0 , fc: 193.1000 THz, λ: 1552.5244 nm\n",
      "\n",
      "Local oscillator P: 12.00 dBm, lw: 0.00 kHz, FO: 17000.00 MHz\n",
      "CSPR = 12.00 dB\n",
      "\n",
      "\n",
      "nlms - training stage #0\n"
     ]
    },
    {
     "data": {
      "application/vnd.jupyter.widget-view+json": {
       "model_id": "bf080f9e6ba74ebaa3633ae3b837cdfa",
       "version_major": 2,
       "version_minor": 0
      },
      "text/plain": [
       "  0%|          | 0/5 [00:00<?, ?it/s]"
      ]
     },
     "metadata": {},
     "output_type": "display_data"
    },
    {
     "name": "stdout",
     "output_type": "stream",
     "text": [
      "nlms pre-convergence training iteration #0\n",
      "nlms MSE = 0.052147.\n",
      "nlms pre-convergence training iteration #1\n",
      "nlms MSE = 0.032777.\n",
      "nlms pre-convergence training iteration #2\n",
      "nlms MSE = 0.028390.\n",
      "nlms pre-convergence training iteration #3\n",
      "nlms MSE = 0.025907.\n",
      "nlms pre-convergence training iteration #4\n",
      "nlms MSE = 0.024407.\n",
      "\n",
      "\n",
      "dd-lms - training stage #1\n",
      "dd-lms MSE = 0.014278.\n",
      "Results:\n",
      "\n",
      "SER: 2.91e-01\n",
      "BER: 8.29e-02\n",
      "SNR: 15.69 dB\n",
      "MI: 4.81 bits\n",
      "GMI: 4.25 bits\n",
      "channel 0\t fc : 193.1000 THz\n",
      "  mode #0\t power: 0.00 dBm\n",
      "channel 0\t power: -0.00 dBm\n",
      "\n",
      "total WDM signal power: -0.00 dBm\n",
      "Demodulating channel #0 , fc: 193.1000 THz, λ: 1552.5244 nm\n",
      "\n",
      "Local oscillator P: 12.00 dBm, lw: 0.00 kHz, FO: 18000.00 MHz\n",
      "CSPR = 12.00 dB\n",
      "\n",
      "\n",
      "nlms - training stage #0\n"
     ]
    },
    {
     "data": {
      "application/vnd.jupyter.widget-view+json": {
       "model_id": "68ad10e87bb04c5fa2cf2be9767668d2",
       "version_major": 2,
       "version_minor": 0
      },
      "text/plain": [
       "  0%|          | 0/5 [00:00<?, ?it/s]"
      ]
     },
     "metadata": {},
     "output_type": "display_data"
    },
    {
     "name": "stdout",
     "output_type": "stream",
     "text": [
      "nlms pre-convergence training iteration #0\n",
      "nlms MSE = 0.022895.\n",
      "nlms pre-convergence training iteration #1\n",
      "nlms MSE = 0.002781.\n",
      "nlms pre-convergence training iteration #2\n",
      "nlms MSE = 0.002363.\n",
      "nlms pre-convergence training iteration #3\n",
      "nlms MSE = 0.002121.\n",
      "nlms pre-convergence training iteration #4\n",
      "nlms MSE = 0.001963.\n",
      "\n",
      "\n",
      "dd-lms - training stage #1\n",
      "dd-lms MSE = 0.001473.\n",
      "Results:\n",
      "\n",
      "SER: 3.67e-04\n",
      "BER: 7.78e-05\n",
      "SNR: 28.16 dB\n",
      "MI: 5.99 bits\n",
      "GMI: 5.99 bits\n",
      "channel 0\t fc : 193.1000 THz\n",
      "  mode #0\t power: 0.00 dBm\n",
      "channel 0\t power: -0.00 dBm\n",
      "\n",
      "total WDM signal power: -0.00 dBm\n",
      "Demodulating channel #0 , fc: 193.1000 THz, λ: 1552.5244 nm\n",
      "\n",
      "Local oscillator P: 12.00 dBm, lw: 0.00 kHz, FO: 18000.00 MHz\n",
      "CSPR = 12.00 dB\n",
      "\n",
      "\n",
      "nlms - training stage #0\n"
     ]
    },
    {
     "data": {
      "application/vnd.jupyter.widget-view+json": {
       "model_id": "acd725ca8b06448caf68cd44df1dac49",
       "version_major": 2,
       "version_minor": 0
      },
      "text/plain": [
       "  0%|          | 0/5 [00:00<?, ?it/s]"
      ]
     },
     "metadata": {},
     "output_type": "display_data"
    },
    {
     "name": "stdout",
     "output_type": "stream",
     "text": [
      "nlms pre-convergence training iteration #0\n",
      "nlms MSE = 0.020481.\n",
      "nlms pre-convergence training iteration #1\n",
      "nlms MSE = 0.003011.\n",
      "nlms pre-convergence training iteration #2\n",
      "nlms MSE = 0.002540.\n",
      "nlms pre-convergence training iteration #3\n",
      "nlms MSE = 0.002292.\n",
      "nlms pre-convergence training iteration #4\n",
      "nlms MSE = 0.002141.\n",
      "\n",
      "\n",
      "dd-lms - training stage #1\n",
      "dd-lms MSE = 0.000897.\n",
      "Results:\n",
      "\n",
      "SER: 1.56e-04\n",
      "BER: 3.70e-05\n",
      "SNR: 30.34 dB\n",
      "MI: 6.00 bits\n",
      "GMI: 6.00 bits\n",
      "channel 0\t fc : 193.1000 THz\n",
      "  mode #0\t power: 0.00 dBm\n",
      "channel 0\t power: -0.00 dBm\n",
      "\n",
      "total WDM signal power: -0.00 dBm\n",
      "Demodulating channel #0 , fc: 193.1000 THz, λ: 1552.5244 nm\n",
      "\n",
      "Local oscillator P: 12.00 dBm, lw: 0.00 kHz, FO: 18000.00 MHz\n",
      "CSPR = 12.00 dB\n",
      "\n",
      "\n",
      "nlms - training stage #0\n"
     ]
    },
    {
     "data": {
      "application/vnd.jupyter.widget-view+json": {
       "model_id": "999694052fab40f7bce0ff0e16671b19",
       "version_major": 2,
       "version_minor": 0
      },
      "text/plain": [
       "  0%|          | 0/5 [00:00<?, ?it/s]"
      ]
     },
     "metadata": {},
     "output_type": "display_data"
    },
    {
     "name": "stdout",
     "output_type": "stream",
     "text": [
      "nlms pre-convergence training iteration #0\n",
      "nlms MSE = 0.018229.\n",
      "nlms pre-convergence training iteration #1\n",
      "nlms MSE = 0.003323.\n",
      "nlms pre-convergence training iteration #2\n",
      "nlms MSE = 0.003094.\n",
      "nlms pre-convergence training iteration #3\n",
      "nlms MSE = 0.002939.\n",
      "nlms pre-convergence training iteration #4\n",
      "nlms MSE = 0.002829.\n",
      "\n",
      "\n",
      "dd-lms - training stage #1\n",
      "dd-lms MSE = 0.001449.\n",
      "Results:\n",
      "\n",
      "SER: 4.22e-04\n",
      "BER: 8.52e-05\n",
      "SNR: 28.30 dB\n",
      "MI: 6.00 bits\n",
      "GMI: 5.99 bits\n",
      "channel 0\t fc : 193.1000 THz\n",
      "  mode #0\t power: 0.00 dBm\n",
      "channel 0\t power: 0.00 dBm\n",
      "\n",
      "total WDM signal power: 0.00 dBm\n",
      "Demodulating channel #0 , fc: 193.1000 THz, λ: 1552.5244 nm\n",
      "\n",
      "Local oscillator P: 12.00 dBm, lw: 0.00 kHz, FO: 18000.00 MHz\n",
      "CSPR = 12.00 dB\n",
      "\n",
      "\n",
      "nlms - training stage #0\n"
     ]
    },
    {
     "data": {
      "application/vnd.jupyter.widget-view+json": {
       "model_id": "122a6522e5f347b0ac4a90d441e4f732",
       "version_major": 2,
       "version_minor": 0
      },
      "text/plain": [
       "  0%|          | 0/5 [00:00<?, ?it/s]"
      ]
     },
     "metadata": {},
     "output_type": "display_data"
    },
    {
     "name": "stdout",
     "output_type": "stream",
     "text": [
      "nlms pre-convergence training iteration #0\n",
      "nlms MSE = 0.018437.\n",
      "nlms pre-convergence training iteration #1\n",
      "nlms MSE = 0.003922.\n",
      "nlms pre-convergence training iteration #2\n",
      "nlms MSE = 0.003613.\n",
      "nlms pre-convergence training iteration #3\n",
      "nlms MSE = 0.003384.\n",
      "nlms pre-convergence training iteration #4\n",
      "nlms MSE = 0.003204.\n",
      "\n",
      "\n",
      "dd-lms - training stage #1\n",
      "dd-lms MSE = 0.001819.\n",
      "Results:\n",
      "\n",
      "SER: 1.44e-04\n",
      "BER: 2.96e-05\n",
      "SNR: 27.22 dB\n",
      "MI: 6.00 bits\n",
      "GMI: 6.00 bits\n",
      "channel 0\t fc : 193.1000 THz\n",
      "  mode #0\t power: 0.00 dBm\n",
      "channel 0\t power: -0.00 dBm\n",
      "\n",
      "total WDM signal power: -0.00 dBm\n",
      "Demodulating channel #0 , fc: 193.1000 THz, λ: 1552.5244 nm\n",
      "\n",
      "Local oscillator P: 12.00 dBm, lw: 0.00 kHz, FO: 18000.00 MHz\n",
      "CSPR = 12.00 dB\n",
      "\n",
      "\n",
      "nlms - training stage #0\n"
     ]
    },
    {
     "data": {
      "application/vnd.jupyter.widget-view+json": {
       "model_id": "01496a28ea9345b989cb6404a1b9f7a3",
       "version_major": 2,
       "version_minor": 0
      },
      "text/plain": [
       "  0%|          | 0/5 [00:00<?, ?it/s]"
      ]
     },
     "metadata": {},
     "output_type": "display_data"
    },
    {
     "name": "stdout",
     "output_type": "stream",
     "text": [
      "nlms pre-convergence training iteration #0\n",
      "nlms MSE = 0.021502.\n",
      "nlms pre-convergence training iteration #1\n",
      "nlms MSE = 0.006178.\n",
      "nlms pre-convergence training iteration #2\n",
      "nlms MSE = 0.005217.\n",
      "nlms pre-convergence training iteration #3\n",
      "nlms MSE = 0.004575.\n",
      "nlms pre-convergence training iteration #4\n",
      "nlms MSE = 0.004121.\n",
      "\n",
      "\n",
      "dd-lms - training stage #1\n",
      "dd-lms MSE = 0.002697.\n",
      "Results:\n",
      "\n",
      "SER: 1.28e-03\n",
      "BER: 2.94e-04\n",
      "SNR: 25.49 dB\n",
      "MI: 5.99 bits\n",
      "GMI: 5.99 bits\n",
      "channel 0\t fc : 193.1000 THz\n",
      "  mode #0\t power: 0.00 dBm\n",
      "channel 0\t power: -0.00 dBm\n",
      "\n",
      "total WDM signal power: -0.00 dBm\n",
      "Demodulating channel #0 , fc: 193.1000 THz, λ: 1552.5244 nm\n",
      "\n",
      "Local oscillator P: 12.00 dBm, lw: 0.00 kHz, FO: 18000.00 MHz\n",
      "CSPR = 12.00 dB\n",
      "\n",
      "\n",
      "nlms - training stage #0\n"
     ]
    },
    {
     "data": {
      "application/vnd.jupyter.widget-view+json": {
       "model_id": "e549bca230db452db8cdae44b1871ec2",
       "version_major": 2,
       "version_minor": 0
      },
      "text/plain": [
       "  0%|          | 0/5 [00:00<?, ?it/s]"
      ]
     },
     "metadata": {},
     "output_type": "display_data"
    },
    {
     "name": "stdout",
     "output_type": "stream",
     "text": [
      "nlms pre-convergence training iteration #0\n",
      "nlms MSE = 0.025899.\n",
      "nlms pre-convergence training iteration #1\n",
      "nlms MSE = 0.009206.\n",
      "nlms pre-convergence training iteration #2\n",
      "nlms MSE = 0.007273.\n",
      "nlms pre-convergence training iteration #3\n",
      "nlms MSE = 0.006138.\n",
      "nlms pre-convergence training iteration #4\n",
      "nlms MSE = 0.005425.\n",
      "\n",
      "\n",
      "dd-lms - training stage #1\n",
      "dd-lms MSE = 0.003500.\n",
      "Results:\n",
      "\n",
      "SER: 2.82e-03\n",
      "BER: 6.87e-04\n",
      "SNR: 24.30 dB\n",
      "MI: 5.98 bits\n",
      "GMI: 5.98 bits\n",
      "channel 0\t fc : 193.1000 THz\n",
      "  mode #0\t power: 0.00 dBm\n",
      "channel 0\t power: -0.00 dBm\n",
      "\n",
      "total WDM signal power: -0.00 dBm\n",
      "Demodulating channel #0 , fc: 193.1000 THz, λ: 1552.5244 nm\n",
      "\n",
      "Local oscillator P: 12.00 dBm, lw: 0.00 kHz, FO: 18000.00 MHz\n",
      "CSPR = 12.00 dB\n",
      "\n",
      "\n",
      "nlms - training stage #0\n"
     ]
    },
    {
     "data": {
      "application/vnd.jupyter.widget-view+json": {
       "model_id": "40c6011280514e09af7b2290529f02bd",
       "version_major": 2,
       "version_minor": 0
      },
      "text/plain": [
       "  0%|          | 0/5 [00:00<?, ?it/s]"
      ]
     },
     "metadata": {},
     "output_type": "display_data"
    },
    {
     "name": "stdout",
     "output_type": "stream",
     "text": [
      "nlms pre-convergence training iteration #0\n",
      "nlms MSE = 0.029093.\n",
      "nlms pre-convergence training iteration #1\n",
      "nlms MSE = 0.011029.\n",
      "nlms pre-convergence training iteration #2\n",
      "nlms MSE = 0.008373.\n",
      "nlms pre-convergence training iteration #3\n",
      "nlms MSE = 0.006952.\n",
      "nlms pre-convergence training iteration #4\n",
      "nlms MSE = 0.006130.\n",
      "\n",
      "\n",
      "dd-lms - training stage #1\n",
      "dd-lms MSE = 0.004331.\n",
      "Results:\n",
      "\n",
      "SER: 7.10e-03\n",
      "BER: 1.79e-03\n",
      "SNR: 23.42 dB\n",
      "MI: 5.96 bits\n",
      "GMI: 5.94 bits\n",
      "channel 0\t fc : 193.1000 THz\n",
      "  mode #0\t power: 0.00 dBm\n",
      "channel 0\t power: -0.00 dBm\n",
      "\n",
      "total WDM signal power: -0.00 dBm\n",
      "Demodulating channel #0 , fc: 193.1000 THz, λ: 1552.5244 nm\n",
      "\n",
      "Local oscillator P: 12.00 dBm, lw: 0.00 kHz, FO: 18000.00 MHz\n",
      "CSPR = 12.00 dB\n",
      "\n",
      "\n",
      "nlms - training stage #0\n"
     ]
    },
    {
     "data": {
      "application/vnd.jupyter.widget-view+json": {
       "model_id": "f1c082569e654cd082257fed5060cadf",
       "version_major": 2,
       "version_minor": 0
      },
      "text/plain": [
       "  0%|          | 0/5 [00:00<?, ?it/s]"
      ]
     },
     "metadata": {},
     "output_type": "display_data"
    },
    {
     "name": "stdout",
     "output_type": "stream",
     "text": [
      "nlms pre-convergence training iteration #0\n",
      "nlms MSE = 0.032998.\n",
      "nlms pre-convergence training iteration #1\n",
      "nlms MSE = 0.017046.\n",
      "nlms pre-convergence training iteration #2\n",
      "nlms MSE = 0.014584.\n",
      "nlms pre-convergence training iteration #3\n",
      "nlms MSE = 0.013077.\n",
      "nlms pre-convergence training iteration #4\n",
      "nlms MSE = 0.012124.\n",
      "\n",
      "\n",
      "dd-lms - training stage #1\n",
      "dd-lms MSE = 0.008999.\n",
      "Results:\n",
      "\n",
      "SER: 6.82e-02\n",
      "BER: 1.78e-02\n",
      "SNR: 19.74 dB\n",
      "MI: 5.70 bits\n",
      "GMI: 5.55 bits\n",
      "channel 0\t fc : 193.1000 THz\n",
      "  mode #0\t power: 0.00 dBm\n",
      "channel 0\t power: 0.00 dBm\n",
      "\n",
      "total WDM signal power: 0.00 dBm\n",
      "Demodulating channel #0 , fc: 193.1000 THz, λ: 1552.5244 nm\n",
      "\n",
      "Local oscillator P: 12.00 dBm, lw: 0.00 kHz, FO: 18000.00 MHz\n",
      "CSPR = 12.00 dB\n",
      "\n",
      "\n",
      "nlms - training stage #0\n"
     ]
    },
    {
     "data": {
      "application/vnd.jupyter.widget-view+json": {
       "model_id": "3e6d3daec5414f7ea442e655304ef02b",
       "version_major": 2,
       "version_minor": 0
      },
      "text/plain": [
       "  0%|          | 0/5 [00:00<?, ?it/s]"
      ]
     },
     "metadata": {},
     "output_type": "display_data"
    },
    {
     "name": "stdout",
     "output_type": "stream",
     "text": [
      "nlms pre-convergence training iteration #0\n",
      "nlms MSE = 0.038788.\n",
      "nlms pre-convergence training iteration #1\n",
      "nlms MSE = 0.020459.\n",
      "nlms pre-convergence training iteration #2\n",
      "nlms MSE = 0.016880.\n",
      "nlms pre-convergence training iteration #3\n",
      "nlms MSE = 0.014997.\n",
      "nlms pre-convergence training iteration #4\n",
      "nlms MSE = 0.013916.\n",
      "\n",
      "\n",
      "dd-lms - training stage #1\n",
      "dd-lms MSE = 0.010107.\n",
      "Results:\n",
      "\n",
      "SER: 9.57e-02\n",
      "BER: 2.51e-02\n",
      "SNR: 19.04 dB\n",
      "MI: 5.60 bits\n",
      "GMI: 5.40 bits\n",
      "channel 0\t fc : 193.1000 THz\n",
      "  mode #0\t power: 0.00 dBm\n",
      "channel 0\t power: -0.00 dBm\n",
      "\n",
      "total WDM signal power: -0.00 dBm\n",
      "Demodulating channel #0 , fc: 193.1000 THz, λ: 1552.5244 nm\n",
      "\n",
      "Local oscillator P: 12.00 dBm, lw: 0.00 kHz, FO: 18000.00 MHz\n",
      "CSPR = 12.00 dB\n",
      "\n",
      "\n",
      "nlms - training stage #0\n"
     ]
    },
    {
     "data": {
      "application/vnd.jupyter.widget-view+json": {
       "model_id": "6c7935fc54494b6686e2d92a2708e07d",
       "version_major": 2,
       "version_minor": 0
      },
      "text/plain": [
       "  0%|          | 0/5 [00:00<?, ?it/s]"
      ]
     },
     "metadata": {},
     "output_type": "display_data"
    },
    {
     "name": "stdout",
     "output_type": "stream",
     "text": [
      "nlms pre-convergence training iteration #0\n",
      "nlms MSE = 0.045465.\n",
      "nlms pre-convergence training iteration #1\n",
      "nlms MSE = 0.020713.\n",
      "nlms pre-convergence training iteration #2\n",
      "nlms MSE = 0.015529.\n",
      "nlms pre-convergence training iteration #3\n",
      "nlms MSE = 0.013078.\n",
      "nlms pre-convergence training iteration #4\n",
      "nlms MSE = 0.011699.\n",
      "\n",
      "\n",
      "dd-lms - training stage #1\n",
      "dd-lms MSE = 0.007856.\n",
      "Results:\n",
      "\n",
      "SER: 4.76e-02\n",
      "BER: 1.22e-02\n",
      "SNR: 20.44 dB\n",
      "MI: 5.79 bits\n",
      "GMI: 5.68 bits\n",
      "channel 0\t fc : 193.1000 THz\n",
      "  mode #0\t power: 0.00 dBm\n",
      "channel 0\t power: -0.00 dBm\n",
      "\n",
      "total WDM signal power: -0.00 dBm\n",
      "Demodulating channel #0 , fc: 193.1000 THz, λ: 1552.5244 nm\n",
      "\n",
      "Local oscillator P: 12.00 dBm, lw: 0.00 kHz, FO: 19000.00 MHz\n",
      "CSPR = 12.00 dB\n",
      "\n",
      "\n",
      "nlms - training stage #0\n"
     ]
    },
    {
     "data": {
      "application/vnd.jupyter.widget-view+json": {
       "model_id": "b4e06a5e059a434396cce10f17e9daaa",
       "version_major": 2,
       "version_minor": 0
      },
      "text/plain": [
       "  0%|          | 0/5 [00:00<?, ?it/s]"
      ]
     },
     "metadata": {},
     "output_type": "display_data"
    },
    {
     "name": "stdout",
     "output_type": "stream",
     "text": [
      "nlms pre-convergence training iteration #0\n",
      "nlms MSE = 0.022050.\n",
      "nlms pre-convergence training iteration #1\n",
      "nlms MSE = 0.002449.\n",
      "nlms pre-convergence training iteration #2\n",
      "nlms MSE = 0.002014.\n",
      "nlms pre-convergence training iteration #3\n",
      "nlms MSE = 0.001764.\n",
      "nlms pre-convergence training iteration #4\n",
      "nlms MSE = 0.001598.\n",
      "\n",
      "\n",
      "dd-lms - training stage #1\n",
      "dd-lms MSE = 0.001042.\n",
      "Results:\n",
      "\n",
      "SER: 6.67e-05\n",
      "BER: 1.85e-05\n",
      "SNR: 29.61 dB\n",
      "MI: 6.00 bits\n",
      "GMI: 6.00 bits\n",
      "channel 0\t fc : 193.1000 THz\n",
      "  mode #0\t power: 0.00 dBm\n",
      "channel 0\t power: 0.00 dBm\n",
      "\n",
      "total WDM signal power: 0.00 dBm\n",
      "Demodulating channel #0 , fc: 193.1000 THz, λ: 1552.5244 nm\n",
      "\n",
      "Local oscillator P: 12.00 dBm, lw: 0.00 kHz, FO: 19000.00 MHz\n",
      "CSPR = 12.00 dB\n",
      "\n",
      "\n",
      "nlms - training stage #0\n"
     ]
    },
    {
     "data": {
      "application/vnd.jupyter.widget-view+json": {
       "model_id": "77d679a3a8c94b22ad805471ba6f5f22",
       "version_major": 2,
       "version_minor": 0
      },
      "text/plain": [
       "  0%|          | 0/5 [00:00<?, ?it/s]"
      ]
     },
     "metadata": {},
     "output_type": "display_data"
    },
    {
     "name": "stdout",
     "output_type": "stream",
     "text": [
      "nlms pre-convergence training iteration #0\n",
      "nlms MSE = 0.020140.\n",
      "nlms pre-convergence training iteration #1\n",
      "nlms MSE = 0.002864.\n",
      "nlms pre-convergence training iteration #2\n",
      "nlms MSE = 0.002390.\n",
      "nlms pre-convergence training iteration #3\n",
      "nlms MSE = 0.002138.\n",
      "nlms pre-convergence training iteration #4\n",
      "nlms MSE = 0.001984.\n",
      "\n",
      "\n",
      "dd-lms - training stage #1\n",
      "dd-lms MSE = 0.000910.\n",
      "Results:\n",
      "\n",
      "SER: 1.44e-04\n",
      "BER: 2.59e-05\n",
      "SNR: 30.17 dB\n",
      "MI: 6.00 bits\n",
      "GMI: 6.00 bits\n",
      "channel 0\t fc : 193.1000 THz\n",
      "  mode #0\t power: 0.00 dBm\n",
      "channel 0\t power: 0.00 dBm\n",
      "\n",
      "total WDM signal power: 0.00 dBm\n",
      "Demodulating channel #0 , fc: 193.1000 THz, λ: 1552.5244 nm\n",
      "\n",
      "Local oscillator P: 12.00 dBm, lw: 0.00 kHz, FO: 19000.00 MHz\n",
      "CSPR = 12.00 dB\n",
      "\n",
      "\n",
      "nlms - training stage #0\n"
     ]
    },
    {
     "data": {
      "application/vnd.jupyter.widget-view+json": {
       "model_id": "b2c04520eeb247d6bdf6fad7fe7bd25a",
       "version_major": 2,
       "version_minor": 0
      },
      "text/plain": [
       "  0%|          | 0/5 [00:00<?, ?it/s]"
      ]
     },
     "metadata": {},
     "output_type": "display_data"
    },
    {
     "name": "stdout",
     "output_type": "stream",
     "text": [
      "nlms pre-convergence training iteration #0\n",
      "nlms MSE = 0.016791.\n",
      "nlms pre-convergence training iteration #1\n",
      "nlms MSE = 0.001752.\n",
      "nlms pre-convergence training iteration #2\n",
      "nlms MSE = 0.001596.\n",
      "nlms pre-convergence training iteration #3\n",
      "nlms MSE = 0.001487.\n",
      "nlms pre-convergence training iteration #4\n",
      "nlms MSE = 0.001408.\n",
      "\n",
      "\n",
      "dd-lms - training stage #1\n",
      "dd-lms MSE = 0.000750.\n",
      "Results:\n",
      "\n",
      "SER: 2.22e-05\n",
      "BER: 3.70e-06\n",
      "SNR: 31.00 dB\n",
      "MI: 6.00 bits\n",
      "GMI: 6.00 bits\n",
      "channel 0\t fc : 193.1000 THz\n",
      "  mode #0\t power: 0.00 dBm\n",
      "channel 0\t power: -0.00 dBm\n",
      "\n",
      "total WDM signal power: -0.00 dBm\n",
      "Demodulating channel #0 , fc: 193.1000 THz, λ: 1552.5244 nm\n",
      "\n",
      "Local oscillator P: 12.00 dBm, lw: 0.00 kHz, FO: 19000.00 MHz\n",
      "CSPR = 12.00 dB\n",
      "\n",
      "\n",
      "nlms - training stage #0\n"
     ]
    },
    {
     "data": {
      "application/vnd.jupyter.widget-view+json": {
       "model_id": "a86bf3361d2f4aadaf04e3cb2362d586",
       "version_major": 2,
       "version_minor": 0
      },
      "text/plain": [
       "  0%|          | 0/5 [00:00<?, ?it/s]"
      ]
     },
     "metadata": {},
     "output_type": "display_data"
    },
    {
     "name": "stdout",
     "output_type": "stream",
     "text": [
      "nlms pre-convergence training iteration #0\n",
      "nlms MSE = 0.015511.\n",
      "nlms pre-convergence training iteration #1\n",
      "nlms MSE = 0.001976.\n",
      "nlms pre-convergence training iteration #2\n",
      "nlms MSE = 0.001936.\n",
      "nlms pre-convergence training iteration #3\n",
      "nlms MSE = 0.001901.\n",
      "nlms pre-convergence training iteration #4\n",
      "nlms MSE = 0.001871.\n",
      "\n",
      "\n",
      "dd-lms - training stage #1\n",
      "dd-lms MSE = 0.001337.\n",
      "Results:\n",
      "\n",
      "SER: 1.11e-04\n",
      "BER: 2.41e-05\n",
      "SNR: 28.68 dB\n",
      "MI: 6.00 bits\n",
      "GMI: 6.00 bits\n",
      "channel 0\t fc : 193.1000 THz\n",
      "  mode #0\t power: 0.00 dBm\n",
      "channel 0\t power: 0.00 dBm\n",
      "\n",
      "total WDM signal power: 0.00 dBm\n",
      "Demodulating channel #0 , fc: 193.1000 THz, λ: 1552.5244 nm\n",
      "\n",
      "Local oscillator P: 12.00 dBm, lw: 0.00 kHz, FO: 19000.00 MHz\n",
      "CSPR = 12.00 dB\n",
      "\n",
      "\n",
      "nlms - training stage #0\n"
     ]
    },
    {
     "data": {
      "application/vnd.jupyter.widget-view+json": {
       "model_id": "5b5e8b05d94747febdf5b838cc8b195c",
       "version_major": 2,
       "version_minor": 0
      },
      "text/plain": [
       "  0%|          | 0/5 [00:00<?, ?it/s]"
      ]
     },
     "metadata": {},
     "output_type": "display_data"
    },
    {
     "name": "stdout",
     "output_type": "stream",
     "text": [
      "nlms pre-convergence training iteration #0\n",
      "nlms MSE = 0.017374.\n",
      "nlms pre-convergence training iteration #1\n",
      "nlms MSE = 0.003757.\n",
      "nlms pre-convergence training iteration #2\n",
      "nlms MSE = 0.003531.\n",
      "nlms pre-convergence training iteration #3\n",
      "nlms MSE = 0.003346.\n",
      "nlms pre-convergence training iteration #4\n",
      "nlms MSE = 0.003190.\n",
      "\n",
      "\n",
      "dd-lms - training stage #1\n",
      "dd-lms MSE = 0.001791.\n",
      "Results:\n",
      "\n",
      "SER: 2.78e-04\n",
      "BER: 5.93e-05\n",
      "SNR: 27.28 dB\n",
      "MI: 6.00 bits\n",
      "GMI: 6.00 bits\n",
      "channel 0\t fc : 193.1000 THz\n",
      "  mode #0\t power: 0.00 dBm\n",
      "channel 0\t power: 0.00 dBm\n",
      "\n",
      "total WDM signal power: 0.00 dBm\n",
      "Demodulating channel #0 , fc: 193.1000 THz, λ: 1552.5244 nm\n",
      "\n",
      "Local oscillator P: 12.00 dBm, lw: 0.00 kHz, FO: 19000.00 MHz\n",
      "CSPR = 12.00 dB\n",
      "\n",
      "\n",
      "nlms - training stage #0\n"
     ]
    },
    {
     "data": {
      "application/vnd.jupyter.widget-view+json": {
       "model_id": "f2b2213a48bd4cd98cafc306007a45b6",
       "version_major": 2,
       "version_minor": 0
      },
      "text/plain": [
       "  0%|          | 0/5 [00:00<?, ?it/s]"
      ]
     },
     "metadata": {},
     "output_type": "display_data"
    },
    {
     "name": "stdout",
     "output_type": "stream",
     "text": [
      "nlms pre-convergence training iteration #0\n",
      "nlms MSE = 0.019258.\n",
      "nlms pre-convergence training iteration #1\n",
      "nlms MSE = 0.005054.\n",
      "nlms pre-convergence training iteration #2\n",
      "nlms MSE = 0.004298.\n",
      "nlms pre-convergence training iteration #3\n",
      "nlms MSE = 0.003783.\n",
      "nlms pre-convergence training iteration #4\n",
      "nlms MSE = 0.003419.\n",
      "\n",
      "\n",
      "dd-lms - training stage #1\n",
      "dd-lms MSE = 0.002213.\n",
      "Results:\n",
      "\n",
      "SER: 4.67e-04\n",
      "BER: 1.17e-04\n",
      "SNR: 26.27 dB\n",
      "MI: 6.00 bits\n",
      "GMI: 6.00 bits\n",
      "channel 0\t fc : 193.1000 THz\n",
      "  mode #0\t power: 0.00 dBm\n",
      "channel 0\t power: -0.00 dBm\n",
      "\n",
      "total WDM signal power: -0.00 dBm\n",
      "Demodulating channel #0 , fc: 193.1000 THz, λ: 1552.5244 nm\n",
      "\n",
      "Local oscillator P: 12.00 dBm, lw: 0.00 kHz, FO: 19000.00 MHz\n",
      "CSPR = 12.00 dB\n",
      "\n",
      "\n",
      "nlms - training stage #0\n"
     ]
    },
    {
     "data": {
      "application/vnd.jupyter.widget-view+json": {
       "model_id": "cdd100cf08f14ab6a891e9309db52de4",
       "version_major": 2,
       "version_minor": 0
      },
      "text/plain": [
       "  0%|          | 0/5 [00:00<?, ?it/s]"
      ]
     },
     "metadata": {},
     "output_type": "display_data"
    },
    {
     "name": "stdout",
     "output_type": "stream",
     "text": [
      "nlms pre-convergence training iteration #0\n",
      "nlms MSE = 0.022417.\n",
      "nlms pre-convergence training iteration #1\n",
      "nlms MSE = 0.007162.\n",
      "nlms pre-convergence training iteration #2\n",
      "nlms MSE = 0.005701.\n",
      "nlms pre-convergence training iteration #3\n",
      "nlms MSE = 0.004836.\n",
      "nlms pre-convergence training iteration #4\n",
      "nlms MSE = 0.004301.\n",
      "\n",
      "\n",
      "dd-lms - training stage #1\n",
      "dd-lms MSE = 0.002779.\n",
      "Results:\n",
      "\n",
      "SER: 1.28e-03\n",
      "BER: 2.81e-04\n",
      "SNR: 25.39 dB\n",
      "MI: 5.99 bits\n",
      "GMI: 5.99 bits\n",
      "channel 0\t fc : 193.1000 THz\n",
      "  mode #0\t power: 0.00 dBm\n",
      "channel 0\t power: -0.00 dBm\n",
      "\n",
      "total WDM signal power: -0.00 dBm\n",
      "Demodulating channel #0 , fc: 193.1000 THz, λ: 1552.5244 nm\n",
      "\n",
      "Local oscillator P: 12.00 dBm, lw: 0.00 kHz, FO: 19000.00 MHz\n",
      "CSPR = 12.00 dB\n",
      "\n",
      "\n",
      "nlms - training stage #0\n"
     ]
    },
    {
     "data": {
      "application/vnd.jupyter.widget-view+json": {
       "model_id": "d2ed99b0033b432ba38662ee4cca6fab",
       "version_major": 2,
       "version_minor": 0
      },
      "text/plain": [
       "  0%|          | 0/5 [00:00<?, ?it/s]"
      ]
     },
     "metadata": {},
     "output_type": "display_data"
    },
    {
     "name": "stdout",
     "output_type": "stream",
     "text": [
      "nlms pre-convergence training iteration #0\n",
      "nlms MSE = 0.028455.\n",
      "nlms pre-convergence training iteration #1\n",
      "nlms MSE = 0.011452.\n",
      "nlms pre-convergence training iteration #2\n",
      "nlms MSE = 0.008792.\n",
      "nlms pre-convergence training iteration #3\n",
      "nlms MSE = 0.007325.\n",
      "nlms pre-convergence training iteration #4\n",
      "nlms MSE = 0.006469.\n",
      "\n",
      "\n",
      "dd-lms - training stage #1\n",
      "dd-lms MSE = 0.004325.\n",
      "Results:\n",
      "\n",
      "SER: 7.19e-03\n",
      "BER: 1.77e-03\n",
      "SNR: 23.40 dB\n",
      "MI: 5.97 bits\n",
      "GMI: 5.94 bits\n",
      "channel 0\t fc : 193.1000 THz\n",
      "  mode #0\t power: 0.00 dBm\n",
      "channel 0\t power: 0.00 dBm\n",
      "\n",
      "total WDM signal power: 0.00 dBm\n",
      "Demodulating channel #0 , fc: 193.1000 THz, λ: 1552.5244 nm\n",
      "\n",
      "Local oscillator P: 12.00 dBm, lw: 0.00 kHz, FO: 19000.00 MHz\n",
      "CSPR = 12.00 dB\n",
      "\n",
      "\n",
      "nlms - training stage #0\n"
     ]
    },
    {
     "data": {
      "application/vnd.jupyter.widget-view+json": {
       "model_id": "e4d9b59913b34a8787dc1eb92d49eb4e",
       "version_major": 2,
       "version_minor": 0
      },
      "text/plain": [
       "  0%|          | 0/5 [00:00<?, ?it/s]"
      ]
     },
     "metadata": {},
     "output_type": "display_data"
    },
    {
     "name": "stdout",
     "output_type": "stream",
     "text": [
      "nlms pre-convergence training iteration #0\n",
      "nlms MSE = 0.030751.\n",
      "nlms pre-convergence training iteration #1\n",
      "nlms MSE = 0.012738.\n",
      "nlms pre-convergence training iteration #2\n",
      "nlms MSE = 0.009589.\n",
      "nlms pre-convergence training iteration #3\n",
      "nlms MSE = 0.007989.\n",
      "nlms pre-convergence training iteration #4\n",
      "nlms MSE = 0.007099.\n",
      "\n",
      "\n",
      "dd-lms - training stage #1\n",
      "dd-lms MSE = 0.004827.\n",
      "Results:\n",
      "\n",
      "SER: 9.74e-03\n",
      "BER: 2.45e-03\n",
      "SNR: 22.89 dB\n",
      "MI: 5.95 bits\n",
      "GMI: 5.93 bits\n",
      "channel 0\t fc : 193.1000 THz\n",
      "  mode #0\t power: 0.00 dBm\n",
      "channel 0\t power: -0.00 dBm\n",
      "\n",
      "total WDM signal power: -0.00 dBm\n",
      "Demodulating channel #0 , fc: 193.1000 THz, λ: 1552.5244 nm\n",
      "\n",
      "Local oscillator P: 12.00 dBm, lw: 0.00 kHz, FO: 19000.00 MHz\n",
      "CSPR = 12.00 dB\n",
      "\n",
      "\n",
      "nlms - training stage #0\n"
     ]
    },
    {
     "data": {
      "application/vnd.jupyter.widget-view+json": {
       "model_id": "24b45e60713b4160afd06ade330332a9",
       "version_major": 2,
       "version_minor": 0
      },
      "text/plain": [
       "  0%|          | 0/5 [00:00<?, ?it/s]"
      ]
     },
     "metadata": {},
     "output_type": "display_data"
    },
    {
     "name": "stdout",
     "output_type": "stream",
     "text": [
      "nlms pre-convergence training iteration #0\n",
      "nlms MSE = 0.036217.\n",
      "nlms pre-convergence training iteration #1\n",
      "nlms MSE = 0.017730.\n",
      "nlms pre-convergence training iteration #2\n",
      "nlms MSE = 0.014270.\n",
      "nlms pre-convergence training iteration #3\n",
      "nlms MSE = 0.012433.\n",
      "nlms pre-convergence training iteration #4\n",
      "nlms MSE = 0.011376.\n",
      "\n",
      "\n",
      "dd-lms - training stage #1\n",
      "dd-lms MSE = 0.008672.\n",
      "Results:\n",
      "\n",
      "SER: 5.59e-02\n",
      "BER: 1.45e-02\n",
      "SNR: 20.05 dB\n",
      "MI: 5.76 bits\n",
      "GMI: 5.64 bits\n",
      "channel 0\t fc : 193.1000 THz\n",
      "  mode #0\t power: 0.00 dBm\n",
      "channel 0\t power: -0.00 dBm\n",
      "\n",
      "total WDM signal power: -0.00 dBm\n",
      "Demodulating channel #0 , fc: 193.1000 THz, λ: 1552.5244 nm\n",
      "\n",
      "Local oscillator P: 12.00 dBm, lw: 0.00 kHz, FO: 20000.00 MHz\n",
      "CSPR = 12.00 dB\n",
      "\n",
      "\n",
      "nlms - training stage #0\n"
     ]
    },
    {
     "data": {
      "application/vnd.jupyter.widget-view+json": {
       "model_id": "1fbb4c10241845bebe14e28f818bdbf0",
       "version_major": 2,
       "version_minor": 0
      },
      "text/plain": [
       "  0%|          | 0/5 [00:00<?, ?it/s]"
      ]
     },
     "metadata": {},
     "output_type": "display_data"
    },
    {
     "name": "stdout",
     "output_type": "stream",
     "text": [
      "nlms pre-convergence training iteration #0\n",
      "nlms MSE = 0.021851.\n",
      "nlms pre-convergence training iteration #1\n",
      "nlms MSE = 0.001974.\n",
      "nlms pre-convergence training iteration #2\n",
      "nlms MSE = 0.001569.\n",
      "nlms pre-convergence training iteration #3\n",
      "nlms MSE = 0.001339.\n",
      "nlms pre-convergence training iteration #4\n",
      "nlms MSE = 0.001185.\n",
      "\n",
      "\n",
      "dd-lms - training stage #1\n",
      "dd-lms MSE = 0.000856.\n",
      "Results:\n",
      "\n",
      "SER: 6.67e-05\n",
      "BER: 1.30e-05\n",
      "SNR: 30.47 dB\n",
      "MI: 6.00 bits\n",
      "GMI: 6.00 bits\n",
      "channel 0\t fc : 193.1000 THz\n",
      "  mode #0\t power: 0.00 dBm\n",
      "channel 0\t power: 0.00 dBm\n",
      "\n",
      "total WDM signal power: 0.00 dBm\n",
      "Demodulating channel #0 , fc: 193.1000 THz, λ: 1552.5244 nm\n",
      "\n",
      "Local oscillator P: 12.00 dBm, lw: 0.00 kHz, FO: 20000.00 MHz\n",
      "CSPR = 12.00 dB\n",
      "\n",
      "\n",
      "nlms - training stage #0\n"
     ]
    },
    {
     "data": {
      "application/vnd.jupyter.widget-view+json": {
       "model_id": "cddd1da4b61e420ea1140d0708199771",
       "version_major": 2,
       "version_minor": 0
      },
      "text/plain": [
       "  0%|          | 0/5 [00:00<?, ?it/s]"
      ]
     },
     "metadata": {},
     "output_type": "display_data"
    },
    {
     "name": "stdout",
     "output_type": "stream",
     "text": [
      "nlms pre-convergence training iteration #0\n",
      "nlms MSE = 0.019368.\n",
      "nlms pre-convergence training iteration #1\n",
      "nlms MSE = 0.002192.\n",
      "nlms pre-convergence training iteration #2\n",
      "nlms MSE = 0.001720.\n",
      "nlms pre-convergence training iteration #3\n",
      "nlms MSE = 0.001468.\n",
      "nlms pre-convergence training iteration #4\n",
      "nlms MSE = 0.001312.\n",
      "\n",
      "\n",
      "dd-lms - training stage #1\n",
      "dd-lms MSE = 0.000776.\n",
      "Results:\n",
      "\n",
      "SER: 8.89e-05\n",
      "BER: 2.04e-05\n",
      "SNR: 30.84 dB\n",
      "MI: 6.00 bits\n",
      "GMI: 6.00 bits\n",
      "channel 0\t fc : 193.1000 THz\n",
      "  mode #0\t power: 0.00 dBm\n",
      "channel 0\t power: -0.00 dBm\n",
      "\n",
      "total WDM signal power: -0.00 dBm\n",
      "Demodulating channel #0 , fc: 193.1000 THz, λ: 1552.5244 nm\n",
      "\n",
      "Local oscillator P: 12.00 dBm, lw: 0.00 kHz, FO: 20000.00 MHz\n",
      "CSPR = 12.00 dB\n",
      "\n",
      "\n",
      "nlms - training stage #0\n"
     ]
    },
    {
     "data": {
      "application/vnd.jupyter.widget-view+json": {
       "model_id": "64e1d793556a4afa913c7ec2e8d7a2d4",
       "version_major": 2,
       "version_minor": 0
      },
      "text/plain": [
       "  0%|          | 0/5 [00:00<?, ?it/s]"
      ]
     },
     "metadata": {},
     "output_type": "display_data"
    },
    {
     "name": "stdout",
     "output_type": "stream",
     "text": [
      "nlms pre-convergence training iteration #0\n",
      "nlms MSE = 0.016492.\n",
      "nlms pre-convergence training iteration #1\n",
      "nlms MSE = 0.001701.\n",
      "nlms pre-convergence training iteration #2\n",
      "nlms MSE = 0.001521.\n",
      "nlms pre-convergence training iteration #3\n",
      "nlms MSE = 0.001394.\n",
      "nlms pre-convergence training iteration #4\n",
      "nlms MSE = 0.001301.\n",
      "\n",
      "\n",
      "dd-lms - training stage #1\n",
      "dd-lms MSE = 0.000905.\n",
      "Results:\n",
      "\n",
      "SER: 6.67e-05\n",
      "BER: 1.48e-05\n",
      "SNR: 30.22 dB\n",
      "MI: 6.00 bits\n",
      "GMI: 6.00 bits\n",
      "channel 0\t fc : 193.1000 THz\n",
      "  mode #0\t power: 0.00 dBm\n",
      "channel 0\t power: -0.00 dBm\n",
      "\n",
      "total WDM signal power: -0.00 dBm\n",
      "Demodulating channel #0 , fc: 193.1000 THz, λ: 1552.5244 nm\n",
      "\n",
      "Local oscillator P: 12.00 dBm, lw: 0.00 kHz, FO: 20000.00 MHz\n",
      "CSPR = 12.00 dB\n",
      "\n",
      "\n",
      "nlms - training stage #0\n"
     ]
    },
    {
     "data": {
      "application/vnd.jupyter.widget-view+json": {
       "model_id": "83c14092e50347a487cb8797615af1f3",
       "version_major": 2,
       "version_minor": 0
      },
      "text/plain": [
       "  0%|          | 0/5 [00:00<?, ?it/s]"
      ]
     },
     "metadata": {},
     "output_type": "display_data"
    },
    {
     "name": "stdout",
     "output_type": "stream",
     "text": [
      "nlms pre-convergence training iteration #0\n",
      "nlms MSE = 0.015960.\n",
      "nlms pre-convergence training iteration #1\n",
      "nlms MSE = 0.001942.\n",
      "nlms pre-convergence training iteration #2\n",
      "nlms MSE = 0.001917.\n",
      "nlms pre-convergence training iteration #3\n",
      "nlms MSE = 0.001895.\n",
      "nlms pre-convergence training iteration #4\n",
      "nlms MSE = 0.001875.\n",
      "\n",
      "\n",
      "dd-lms - training stage #1\n",
      "dd-lms MSE = 0.001123.\n",
      "Results:\n",
      "\n",
      "SER: 1.22e-04\n",
      "BER: 2.78e-05\n",
      "SNR: 29.41 dB\n",
      "MI: 6.00 bits\n",
      "GMI: 6.00 bits\n",
      "channel 0\t fc : 193.1000 THz\n",
      "  mode #0\t power: 0.00 dBm\n",
      "channel 0\t power: -0.00 dBm\n",
      "\n",
      "total WDM signal power: -0.00 dBm\n",
      "Demodulating channel #0 , fc: 193.1000 THz, λ: 1552.5244 nm\n",
      "\n",
      "Local oscillator P: 12.00 dBm, lw: 0.00 kHz, FO: 20000.00 MHz\n",
      "CSPR = 12.00 dB\n",
      "\n",
      "\n",
      "nlms - training stage #0\n"
     ]
    },
    {
     "data": {
      "application/vnd.jupyter.widget-view+json": {
       "model_id": "bce4c7e904bd412a8cfea3063ffb3d75",
       "version_major": 2,
       "version_minor": 0
      },
      "text/plain": [
       "  0%|          | 0/5 [00:00<?, ?it/s]"
      ]
     },
     "metadata": {},
     "output_type": "display_data"
    },
    {
     "name": "stdout",
     "output_type": "stream",
     "text": [
      "nlms pre-convergence training iteration #0\n",
      "nlms MSE = 0.015044.\n",
      "nlms pre-convergence training iteration #1\n",
      "nlms MSE = 0.002335.\n",
      "nlms pre-convergence training iteration #2\n",
      "nlms MSE = 0.002296.\n",
      "nlms pre-convergence training iteration #3\n",
      "nlms MSE = 0.002260.\n",
      "nlms pre-convergence training iteration #4\n",
      "nlms MSE = 0.002228.\n",
      "\n",
      "\n",
      "dd-lms - training stage #1\n",
      "dd-lms MSE = 0.001474.\n",
      "Results:\n",
      "\n",
      "SER: 6.78e-04\n",
      "BER: 1.67e-04\n",
      "SNR: 28.20 dB\n",
      "MI: 5.99 bits\n",
      "GMI: 5.99 bits\n",
      "channel 0\t fc : 193.1000 THz\n",
      "  mode #0\t power: 0.00 dBm\n",
      "channel 0\t power: 0.00 dBm\n",
      "\n",
      "total WDM signal power: 0.00 dBm\n",
      "Demodulating channel #0 , fc: 193.1000 THz, λ: 1552.5244 nm\n",
      "\n",
      "Local oscillator P: 12.00 dBm, lw: 0.00 kHz, FO: 20000.00 MHz\n",
      "CSPR = 12.00 dB\n",
      "\n",
      "\n",
      "nlms - training stage #0\n"
     ]
    },
    {
     "data": {
      "application/vnd.jupyter.widget-view+json": {
       "model_id": "62d3922b624d4ddf8591edd818918f05",
       "version_major": 2,
       "version_minor": 0
      },
      "text/plain": [
       "  0%|          | 0/5 [00:00<?, ?it/s]"
      ]
     },
     "metadata": {},
     "output_type": "display_data"
    },
    {
     "name": "stdout",
     "output_type": "stream",
     "text": [
      "nlms pre-convergence training iteration #0\n",
      "nlms MSE = 0.015833.\n",
      "nlms pre-convergence training iteration #1\n",
      "nlms MSE = 0.003172.\n",
      "nlms pre-convergence training iteration #2\n",
      "nlms MSE = 0.002961.\n",
      "nlms pre-convergence training iteration #3\n",
      "nlms MSE = 0.002789.\n",
      "nlms pre-convergence training iteration #4\n",
      "nlms MSE = 0.002645.\n",
      "\n",
      "\n",
      "dd-lms - training stage #1\n",
      "dd-lms MSE = 0.001682.\n",
      "Results:\n",
      "\n",
      "SER: 1.56e-04\n",
      "BER: 3.15e-05\n",
      "SNR: 27.51 dB\n",
      "MI: 6.00 bits\n",
      "GMI: 6.00 bits\n",
      "channel 0\t fc : 193.1000 THz\n",
      "  mode #0\t power: 0.00 dBm\n",
      "channel 0\t power: -0.00 dBm\n",
      "\n",
      "total WDM signal power: -0.00 dBm\n",
      "Demodulating channel #0 , fc: 193.1000 THz, λ: 1552.5244 nm\n",
      "\n",
      "Local oscillator P: 12.00 dBm, lw: 0.00 kHz, FO: 20000.00 MHz\n",
      "CSPR = 12.00 dB\n",
      "\n",
      "\n",
      "nlms - training stage #0\n"
     ]
    },
    {
     "data": {
      "application/vnd.jupyter.widget-view+json": {
       "model_id": "88ef49e3550e40038082774fd9c91b95",
       "version_major": 2,
       "version_minor": 0
      },
      "text/plain": [
       "  0%|          | 0/5 [00:00<?, ?it/s]"
      ]
     },
     "metadata": {},
     "output_type": "display_data"
    },
    {
     "name": "stdout",
     "output_type": "stream",
     "text": [
      "nlms pre-convergence training iteration #0\n",
      "nlms MSE = 0.018005.\n",
      "nlms pre-convergence training iteration #1\n",
      "nlms MSE = 0.005667.\n",
      "nlms pre-convergence training iteration #2\n",
      "nlms MSE = 0.005008.\n",
      "nlms pre-convergence training iteration #3\n",
      "nlms MSE = 0.004530.\n",
      "nlms pre-convergence training iteration #4\n",
      "nlms MSE = 0.004175.\n",
      "\n",
      "\n",
      "dd-lms - training stage #1\n",
      "dd-lms MSE = 0.002661.\n",
      "Results:\n",
      "\n",
      "SER: 1.20e-03\n",
      "BER: 2.76e-04\n",
      "SNR: 25.52 dB\n",
      "MI: 5.99 bits\n",
      "GMI: 5.99 bits\n",
      "channel 0\t fc : 193.1000 THz\n",
      "  mode #0\t power: 0.00 dBm\n",
      "channel 0\t power: 0.00 dBm\n",
      "\n",
      "total WDM signal power: 0.00 dBm\n",
      "Demodulating channel #0 , fc: 193.1000 THz, λ: 1552.5244 nm\n",
      "\n",
      "Local oscillator P: 12.00 dBm, lw: 0.00 kHz, FO: 20000.00 MHz\n",
      "CSPR = 12.00 dB\n",
      "\n",
      "\n",
      "nlms - training stage #0\n"
     ]
    },
    {
     "data": {
      "application/vnd.jupyter.widget-view+json": {
       "model_id": "981ceec76ebe445e8f4f5351b06d86f4",
       "version_major": 2,
       "version_minor": 0
      },
      "text/plain": [
       "  0%|          | 0/5 [00:00<?, ?it/s]"
      ]
     },
     "metadata": {},
     "output_type": "display_data"
    },
    {
     "name": "stdout",
     "output_type": "stream",
     "text": [
      "nlms pre-convergence training iteration #0\n",
      "nlms MSE = 0.021001.\n",
      "nlms pre-convergence training iteration #1\n",
      "nlms MSE = 0.007377.\n",
      "nlms pre-convergence training iteration #2\n",
      "nlms MSE = 0.005944.\n",
      "nlms pre-convergence training iteration #3\n",
      "nlms MSE = 0.005045.\n",
      "nlms pre-convergence training iteration #4\n",
      "nlms MSE = 0.004467.\n",
      "\n",
      "\n",
      "dd-lms - training stage #1\n",
      "dd-lms MSE = 0.002976.\n",
      "Results:\n",
      "\n",
      "SER: 1.63e-03\n",
      "BER: 3.96e-04\n",
      "SNR: 25.01 dB\n",
      "MI: 5.99 bits\n",
      "GMI: 5.99 bits\n",
      "channel 0\t fc : 193.1000 THz\n",
      "  mode #0\t power: 0.00 dBm\n",
      "channel 0\t power: -0.00 dBm\n",
      "\n",
      "total WDM signal power: -0.00 dBm\n",
      "Demodulating channel #0 , fc: 193.1000 THz, λ: 1552.5244 nm\n",
      "\n",
      "Local oscillator P: 12.00 dBm, lw: 0.00 kHz, FO: 20000.00 MHz\n",
      "CSPR = 12.00 dB\n",
      "\n",
      "\n",
      "nlms - training stage #0\n"
     ]
    },
    {
     "data": {
      "application/vnd.jupyter.widget-view+json": {
       "model_id": "3db88acc3c71467195790f9063a78e03",
       "version_major": 2,
       "version_minor": 0
      },
      "text/plain": [
       "  0%|          | 0/5 [00:00<?, ?it/s]"
      ]
     },
     "metadata": {},
     "output_type": "display_data"
    },
    {
     "name": "stdout",
     "output_type": "stream",
     "text": [
      "nlms pre-convergence training iteration #0\n",
      "nlms MSE = 0.024393.\n",
      "nlms pre-convergence training iteration #1\n",
      "nlms MSE = 0.009205.\n",
      "nlms pre-convergence training iteration #2\n",
      "nlms MSE = 0.007114.\n",
      "nlms pre-convergence training iteration #3\n",
      "nlms MSE = 0.005957.\n",
      "nlms pre-convergence training iteration #4\n",
      "nlms MSE = 0.005284.\n",
      "\n",
      "\n",
      "dd-lms - training stage #1\n",
      "dd-lms MSE = 0.003372.\n",
      "Results:\n",
      "\n",
      "SER: 2.68e-03\n",
      "BER: 6.57e-04\n",
      "SNR: 24.51 dB\n",
      "MI: 5.98 bits\n",
      "GMI: 5.98 bits\n",
      "channel 0\t fc : 193.1000 THz\n",
      "  mode #0\t power: 0.00 dBm\n",
      "channel 0\t power: -0.00 dBm\n",
      "\n",
      "total WDM signal power: -0.00 dBm\n",
      "Demodulating channel #0 , fc: 193.1000 THz, λ: 1552.5244 nm\n",
      "\n",
      "Local oscillator P: 12.00 dBm, lw: 0.00 kHz, FO: 20000.00 MHz\n",
      "CSPR = 12.00 dB\n",
      "\n",
      "\n",
      "nlms - training stage #0\n"
     ]
    },
    {
     "data": {
      "application/vnd.jupyter.widget-view+json": {
       "model_id": "16d9aa75fb83464f8efd73597fad2fc3",
       "version_major": 2,
       "version_minor": 0
      },
      "text/plain": [
       "  0%|          | 0/5 [00:00<?, ?it/s]"
      ]
     },
     "metadata": {},
     "output_type": "display_data"
    },
    {
     "name": "stdout",
     "output_type": "stream",
     "text": [
      "nlms pre-convergence training iteration #0\n",
      "nlms MSE = 0.028876.\n",
      "nlms pre-convergence training iteration #1\n",
      "nlms MSE = 0.012194.\n",
      "nlms pre-convergence training iteration #2\n",
      "nlms MSE = 0.009182.\n",
      "nlms pre-convergence training iteration #3\n",
      "nlms MSE = 0.007632.\n",
      "nlms pre-convergence training iteration #4\n",
      "nlms MSE = 0.006766.\n",
      "\n",
      "\n",
      "dd-lms - training stage #1\n",
      "dd-lms MSE = 0.004697.\n",
      "Results:\n",
      "\n",
      "SER: 8.77e-03\n",
      "BER: 2.18e-03\n",
      "SNR: 23.01 dB\n",
      "MI: 5.96 bits\n",
      "GMI: 5.94 bits\n",
      "channel 0\t fc : 193.1000 THz\n",
      "  mode #0\t power: 0.00 dBm\n",
      "channel 0\t power: 0.00 dBm\n",
      "\n",
      "total WDM signal power: 0.00 dBm\n",
      "Demodulating channel #0 , fc: 193.1000 THz, λ: 1552.5244 nm\n",
      "\n",
      "Local oscillator P: 12.00 dBm, lw: 0.00 kHz, FO: 21000.00 MHz\n",
      "CSPR = 12.00 dB\n",
      "\n",
      "\n",
      "nlms - training stage #0\n"
     ]
    },
    {
     "data": {
      "application/vnd.jupyter.widget-view+json": {
       "model_id": "658281b398fd4098bd6c024246f9a44a",
       "version_major": 2,
       "version_minor": 0
      },
      "text/plain": [
       "  0%|          | 0/5 [00:00<?, ?it/s]"
      ]
     },
     "metadata": {},
     "output_type": "display_data"
    },
    {
     "name": "stdout",
     "output_type": "stream",
     "text": [
      "nlms pre-convergence training iteration #0\n",
      "nlms MSE = 0.021195.\n",
      "nlms pre-convergence training iteration #1\n",
      "nlms MSE = 0.002029.\n",
      "nlms pre-convergence training iteration #2\n",
      "nlms MSE = 0.001621.\n",
      "nlms pre-convergence training iteration #3\n",
      "nlms MSE = 0.001387.\n",
      "nlms pre-convergence training iteration #4\n",
      "nlms MSE = 0.001231.\n",
      "\n",
      "\n",
      "dd-lms - training stage #1\n",
      "dd-lms MSE = 0.000709.\n",
      "Results:\n",
      "\n",
      "SER: 6.67e-05\n",
      "BER: 1.30e-05\n",
      "SNR: 31.17 dB\n",
      "MI: 6.01 bits\n",
      "GMI: 6.00 bits\n",
      "channel 0\t fc : 193.1000 THz\n",
      "  mode #0\t power: 0.00 dBm\n",
      "channel 0\t power: -0.00 dBm\n",
      "\n",
      "total WDM signal power: -0.00 dBm\n",
      "Demodulating channel #0 , fc: 193.1000 THz, λ: 1552.5244 nm\n",
      "\n",
      "Local oscillator P: 12.00 dBm, lw: 0.00 kHz, FO: 21000.00 MHz\n",
      "CSPR = 12.00 dB\n",
      "\n",
      "\n",
      "nlms - training stage #0\n"
     ]
    },
    {
     "data": {
      "application/vnd.jupyter.widget-view+json": {
       "model_id": "7dbec840556c484099d359fa191d5bfd",
       "version_major": 2,
       "version_minor": 0
      },
      "text/plain": [
       "  0%|          | 0/5 [00:00<?, ?it/s]"
      ]
     },
     "metadata": {},
     "output_type": "display_data"
    },
    {
     "name": "stdout",
     "output_type": "stream",
     "text": [
      "nlms pre-convergence training iteration #0\n",
      "nlms MSE = 0.019456.\n",
      "nlms pre-convergence training iteration #1\n",
      "nlms MSE = 0.002204.\n",
      "nlms pre-convergence training iteration #2\n",
      "nlms MSE = 0.001732.\n",
      "nlms pre-convergence training iteration #3\n",
      "nlms MSE = 0.001482.\n",
      "nlms pre-convergence training iteration #4\n",
      "nlms MSE = 0.001328.\n",
      "\n",
      "\n",
      "dd-lms - training stage #1\n",
      "dd-lms MSE = 0.000899.\n",
      "Results:\n",
      "\n",
      "SER: 2.78e-04\n",
      "BER: 7.41e-05\n",
      "SNR: 30.22 dB\n",
      "MI: 5.99 bits\n",
      "GMI: 5.99 bits\n",
      "channel 0\t fc : 193.1000 THz\n",
      "  mode #0\t power: 0.00 dBm\n",
      "channel 0\t power: -0.00 dBm\n",
      "\n",
      "total WDM signal power: -0.00 dBm\n",
      "Demodulating channel #0 , fc: 193.1000 THz, λ: 1552.5244 nm\n",
      "\n",
      "Local oscillator P: 12.00 dBm, lw: 0.00 kHz, FO: 21000.00 MHz\n",
      "CSPR = 12.00 dB\n",
      "\n",
      "\n",
      "nlms - training stage #0\n"
     ]
    },
    {
     "data": {
      "application/vnd.jupyter.widget-view+json": {
       "model_id": "c8cb3571cfa44264b572d4809050c94d",
       "version_major": 2,
       "version_minor": 0
      },
      "text/plain": [
       "  0%|          | 0/5 [00:00<?, ?it/s]"
      ]
     },
     "metadata": {},
     "output_type": "display_data"
    },
    {
     "name": "stdout",
     "output_type": "stream",
     "text": [
      "nlms pre-convergence training iteration #0\n",
      "nlms MSE = 0.016697.\n",
      "nlms pre-convergence training iteration #1\n",
      "nlms MSE = 0.001616.\n",
      "nlms pre-convergence training iteration #2\n",
      "nlms MSE = 0.001435.\n",
      "nlms pre-convergence training iteration #3\n",
      "nlms MSE = 0.001306.\n",
      "nlms pre-convergence training iteration #4\n",
      "nlms MSE = 0.001212.\n",
      "\n",
      "\n",
      "dd-lms - training stage #1\n",
      "dd-lms MSE = 0.000737.\n",
      "Results:\n",
      "\n",
      "SER: 5.56e-05\n",
      "BER: 1.48e-05\n",
      "SNR: 31.09 dB\n",
      "MI: 6.00 bits\n",
      "GMI: 6.00 bits\n",
      "channel 0\t fc : 193.1000 THz\n",
      "  mode #0\t power: 0.00 dBm\n",
      "channel 0\t power: -0.00 dBm\n",
      "\n",
      "total WDM signal power: -0.00 dBm\n",
      "Demodulating channel #0 , fc: 193.1000 THz, λ: 1552.5244 nm\n",
      "\n",
      "Local oscillator P: 12.00 dBm, lw: 0.00 kHz, FO: 21000.00 MHz\n",
      "CSPR = 12.00 dB\n",
      "\n",
      "\n",
      "nlms - training stage #0\n"
     ]
    },
    {
     "data": {
      "application/vnd.jupyter.widget-view+json": {
       "model_id": "90b9c58008f44c6bab039e3ba01d7e5e",
       "version_major": 2,
       "version_minor": 0
      },
      "text/plain": [
       "  0%|          | 0/5 [00:00<?, ?it/s]"
      ]
     },
     "metadata": {},
     "output_type": "display_data"
    },
    {
     "name": "stdout",
     "output_type": "stream",
     "text": [
      "nlms pre-convergence training iteration #0\n",
      "nlms MSE = 0.015148.\n",
      "nlms pre-convergence training iteration #1\n",
      "nlms MSE = 0.001498.\n",
      "nlms pre-convergence training iteration #2\n",
      "nlms MSE = 0.001475.\n",
      "nlms pre-convergence training iteration #3\n",
      "nlms MSE = 0.001455.\n",
      "nlms pre-convergence training iteration #4\n",
      "nlms MSE = 0.001438.\n",
      "\n",
      "\n",
      "dd-lms - training stage #1\n",
      "dd-lms MSE = 0.001019.\n",
      "Results:\n",
      "\n",
      "SER: 2.11e-04\n",
      "BER: 5.56e-05\n",
      "SNR: 29.85 dB\n",
      "MI: 6.00 bits\n",
      "GMI: 5.99 bits\n",
      "channel 0\t fc : 193.1000 THz\n",
      "  mode #0\t power: 0.00 dBm\n",
      "channel 0\t power: 0.00 dBm\n",
      "\n",
      "total WDM signal power: 0.00 dBm\n",
      "Demodulating channel #0 , fc: 193.1000 THz, λ: 1552.5244 nm\n",
      "\n",
      "Local oscillator P: 12.00 dBm, lw: 0.00 kHz, FO: 21000.00 MHz\n",
      "CSPR = 12.00 dB\n",
      "\n",
      "\n",
      "nlms - training stage #0\n"
     ]
    },
    {
     "data": {
      "application/vnd.jupyter.widget-view+json": {
       "model_id": "47f0f0770c5f48d286c0363fb7542c7a",
       "version_major": 2,
       "version_minor": 0
      },
      "text/plain": [
       "  0%|          | 0/5 [00:00<?, ?it/s]"
      ]
     },
     "metadata": {},
     "output_type": "display_data"
    },
    {
     "name": "stdout",
     "output_type": "stream",
     "text": [
      "nlms pre-convergence training iteration #0\n",
      "nlms MSE = 0.014106.\n",
      "nlms pre-convergence training iteration #1\n",
      "nlms MSE = 0.001607.\n",
      "nlms pre-convergence training iteration #2\n",
      "nlms MSE = 0.001596.\n",
      "nlms pre-convergence training iteration #3\n",
      "nlms MSE = 0.001586.\n",
      "nlms pre-convergence training iteration #4\n",
      "nlms MSE = 0.001577.\n",
      "\n",
      "\n",
      "dd-lms - training stage #1\n",
      "dd-lms MSE = 0.000889.\n",
      "Results:\n",
      "\n",
      "SER: 8.89e-05\n",
      "BER: 2.22e-05\n",
      "SNR: 30.47 dB\n",
      "MI: 6.00 bits\n",
      "GMI: 6.00 bits\n",
      "channel 0\t fc : 193.1000 THz\n",
      "  mode #0\t power: 0.00 dBm\n",
      "channel 0\t power: -0.00 dBm\n",
      "\n",
      "total WDM signal power: -0.00 dBm\n",
      "Demodulating channel #0 , fc: 193.1000 THz, λ: 1552.5244 nm\n",
      "\n",
      "Local oscillator P: 12.00 dBm, lw: 0.00 kHz, FO: 21000.00 MHz\n",
      "CSPR = 12.00 dB\n",
      "\n",
      "\n",
      "nlms - training stage #0\n"
     ]
    },
    {
     "data": {
      "application/vnd.jupyter.widget-view+json": {
       "model_id": "3531040ade964565a47dbf860eee38cb",
       "version_major": 2,
       "version_minor": 0
      },
      "text/plain": [
       "  0%|          | 0/5 [00:00<?, ?it/s]"
      ]
     },
     "metadata": {},
     "output_type": "display_data"
    },
    {
     "name": "stdout",
     "output_type": "stream",
     "text": [
      "nlms pre-convergence training iteration #0\n",
      "nlms MSE = 0.014081.\n",
      "nlms pre-convergence training iteration #1\n",
      "nlms MSE = 0.002188.\n",
      "nlms pre-convergence training iteration #2\n",
      "nlms MSE = 0.002153.\n",
      "nlms pre-convergence training iteration #3\n",
      "nlms MSE = 0.002122.\n",
      "nlms pre-convergence training iteration #4\n",
      "nlms MSE = 0.002093.\n",
      "\n",
      "\n",
      "dd-lms - training stage #1\n",
      "dd-lms MSE = 0.001432.\n",
      "Results:\n",
      "\n",
      "SER: 2.89e-04\n",
      "BER: 6.67e-05\n",
      "SNR: 28.34 dB\n",
      "MI: 5.99 bits\n",
      "GMI: 5.99 bits\n",
      "channel 0\t fc : 193.1000 THz\n",
      "  mode #0\t power: 0.00 dBm\n",
      "channel 0\t power: 0.00 dBm\n",
      "\n",
      "total WDM signal power: 0.00 dBm\n",
      "Demodulating channel #0 , fc: 193.1000 THz, λ: 1552.5244 nm\n",
      "\n",
      "Local oscillator P: 12.00 dBm, lw: 0.00 kHz, FO: 21000.00 MHz\n",
      "CSPR = 12.00 dB\n",
      "\n",
      "\n",
      "nlms - training stage #0\n"
     ]
    },
    {
     "data": {
      "application/vnd.jupyter.widget-view+json": {
       "model_id": "67b3dde6691746a79fdd408774b711e3",
       "version_major": 2,
       "version_minor": 0
      },
      "text/plain": [
       "  0%|          | 0/5 [00:00<?, ?it/s]"
      ]
     },
     "metadata": {},
     "output_type": "display_data"
    },
    {
     "name": "stdout",
     "output_type": "stream",
     "text": [
      "nlms pre-convergence training iteration #0\n",
      "nlms MSE = 0.015166.\n",
      "nlms pre-convergence training iteration #1\n",
      "nlms MSE = 0.003456.\n",
      "nlms pre-convergence training iteration #2\n",
      "nlms MSE = 0.003237.\n",
      "nlms pre-convergence training iteration #3\n",
      "nlms MSE = 0.003055.\n",
      "nlms pre-convergence training iteration #4\n",
      "nlms MSE = 0.002901.\n",
      "\n",
      "\n",
      "dd-lms - training stage #1\n",
      "dd-lms MSE = 0.001733.\n",
      "Results:\n",
      "\n",
      "SER: 1.22e-04\n",
      "BER: 3.15e-05\n",
      "SNR: 27.33 dB\n",
      "MI: 6.00 bits\n",
      "GMI: 6.00 bits\n",
      "channel 0\t fc : 193.1000 THz\n",
      "  mode #0\t power: 0.00 dBm\n",
      "channel 0\t power: -0.00 dBm\n",
      "\n",
      "total WDM signal power: -0.00 dBm\n",
      "Demodulating channel #0 , fc: 193.1000 THz, λ: 1552.5244 nm\n",
      "\n",
      "Local oscillator P: 12.00 dBm, lw: 0.00 kHz, FO: 21000.00 MHz\n",
      "CSPR = 12.00 dB\n",
      "\n",
      "\n",
      "nlms - training stage #0\n"
     ]
    },
    {
     "data": {
      "application/vnd.jupyter.widget-view+json": {
       "model_id": "12ed69adfd284cefbef4648696833f84",
       "version_major": 2,
       "version_minor": 0
      },
      "text/plain": [
       "  0%|          | 0/5 [00:00<?, ?it/s]"
      ]
     },
     "metadata": {},
     "output_type": "display_data"
    },
    {
     "name": "stdout",
     "output_type": "stream",
     "text": [
      "nlms pre-convergence training iteration #0\n",
      "nlms MSE = 0.016403.\n",
      "nlms pre-convergence training iteration #1\n",
      "nlms MSE = 0.004562.\n",
      "nlms pre-convergence training iteration #2\n",
      "nlms MSE = 0.004013.\n",
      "nlms pre-convergence training iteration #3\n",
      "nlms MSE = 0.003607.\n",
      "nlms pre-convergence training iteration #4\n",
      "nlms MSE = 0.003303.\n",
      "\n",
      "\n",
      "dd-lms - training stage #1\n",
      "dd-lms MSE = 0.002241.\n",
      "Results:\n",
      "\n",
      "SER: 6.67e-04\n",
      "BER: 1.43e-04\n",
      "SNR: 26.29 dB\n",
      "MI: 6.00 bits\n",
      "GMI: 5.99 bits\n",
      "channel 0\t fc : 193.1000 THz\n",
      "  mode #0\t power: 0.00 dBm\n",
      "channel 0\t power: -0.00 dBm\n",
      "\n",
      "total WDM signal power: -0.00 dBm\n",
      "Demodulating channel #0 , fc: 193.1000 THz, λ: 1552.5244 nm\n",
      "\n",
      "Local oscillator P: 12.00 dBm, lw: 0.00 kHz, FO: 21000.00 MHz\n",
      "CSPR = 12.00 dB\n",
      "\n",
      "\n",
      "nlms - training stage #0\n"
     ]
    },
    {
     "data": {
      "application/vnd.jupyter.widget-view+json": {
       "model_id": "31d05bea874346feab201eafce9e4fb5",
       "version_major": 2,
       "version_minor": 0
      },
      "text/plain": [
       "  0%|          | 0/5 [00:00<?, ?it/s]"
      ]
     },
     "metadata": {},
     "output_type": "display_data"
    },
    {
     "name": "stdout",
     "output_type": "stream",
     "text": [
      "nlms pre-convergence training iteration #0\n",
      "nlms MSE = 0.019678.\n",
      "nlms pre-convergence training iteration #1\n",
      "nlms MSE = 0.006873.\n",
      "nlms pre-convergence training iteration #2\n",
      "nlms MSE = 0.005656.\n",
      "nlms pre-convergence training iteration #3\n",
      "nlms MSE = 0.004869.\n",
      "nlms pre-convergence training iteration #4\n",
      "nlms MSE = 0.004348.\n",
      "\n",
      "\n",
      "dd-lms - training stage #1\n",
      "dd-lms MSE = 0.002870.\n",
      "Results:\n",
      "\n",
      "SER: 1.46e-03\n",
      "BER: 3.37e-04\n",
      "SNR: 25.22 dB\n",
      "MI: 5.99 bits\n",
      "GMI: 5.99 bits\n",
      "channel 0\t fc : 193.1000 THz\n",
      "  mode #0\t power: 0.00 dBm\n",
      "channel 0\t power: 0.00 dBm\n",
      "\n",
      "total WDM signal power: 0.00 dBm\n",
      "Demodulating channel #0 , fc: 193.1000 THz, λ: 1552.5244 nm\n",
      "\n",
      "Local oscillator P: 12.00 dBm, lw: 0.00 kHz, FO: 21000.00 MHz\n",
      "CSPR = 12.00 dB\n",
      "\n",
      "\n",
      "nlms - training stage #0\n"
     ]
    },
    {
     "data": {
      "application/vnd.jupyter.widget-view+json": {
       "model_id": "8a273d0bb53941568aefce5aeac96ce6",
       "version_major": 2,
       "version_minor": 0
      },
      "text/plain": [
       "  0%|          | 0/5 [00:00<?, ?it/s]"
      ]
     },
     "metadata": {},
     "output_type": "display_data"
    },
    {
     "name": "stdout",
     "output_type": "stream",
     "text": [
      "nlms pre-convergence training iteration #0\n",
      "nlms MSE = 0.026222.\n",
      "nlms pre-convergence training iteration #1\n",
      "nlms MSE = 0.011804.\n",
      "nlms pre-convergence training iteration #2\n",
      "nlms MSE = 0.009108.\n",
      "nlms pre-convergence training iteration #3\n",
      "nlms MSE = 0.007512.\n",
      "nlms pre-convergence training iteration #4\n",
      "nlms MSE = 0.006530.\n",
      "\n",
      "\n",
      "dd-lms - training stage #1\n",
      "dd-lms MSE = 0.004188.\n",
      "Results:\n",
      "\n",
      "SER: 6.36e-03\n",
      "BER: 1.53e-03\n",
      "SNR: 23.45 dB\n",
      "MI: 5.97 bits\n",
      "GMI: 5.95 bits\n"
     ]
    }
   ],
   "source": [
    "FO_Values = np.arange(1e9, 6e9, 1e9)\n",
    "Rolloff = np.arange(0.01, 0.99, 0.1)\n",
    "\n",
    "BER_NN = np.zeros((FO_Values.size, Rolloff.size))\n",
    "SER_NN = np.zeros((FO_Values.size, Rolloff.size))\n",
    "GMI_NN = np.zeros((FO_Values.size, Rolloff.size))\n",
    "MI_NN  = np.zeros((FO_Values.size, Rolloff.size))\n",
    "SNR_NN = np.zeros((FO_Values.size, Rolloff.size))\n",
    "\n",
    "N = 256  # number of input amplitude samples to the NN\n",
    "\n",
    "for indNN, FO_ in enumerate(FO_Values):\n",
    "    for index, indRoll_ in enumerate(Rolloff):\n",
    "        \n",
    "        # Main simulation parameters\n",
    "        paramTx.alphaRRC = indRoll_\n",
    "        FO = FO_ + paramTx.Rs/2\n",
    "        # get the model according to the simulation parameters\n",
    "        modelNN = tf.keras.models.load_model('NN_models/testModel_SpS_'+str(paramADC.SpS_out)+'_FO_'+str(FO/10e9)+'GHz_Rolloff_'+str(round(paramTx.alphaRRC, 2)))\n",
    "        \n",
    "        # generate optical signal signal\n",
    "        sigTx, symbTx_, paramTx = simpleWDMTx(paramTx)\n",
    "\n",
    "        # simulate linear signal propagation\n",
    "        sigCh = linFiberCh(sigTx, Ltotal, alpha, D, Fc, Fs)\n",
    "\n",
    "        # receiver detection and demodulation\n",
    "        Fc = paramTx.Fc\n",
    "        Ts = 1 / Fs\n",
    "        mod = QAMModem(m=paramTx.M)\n",
    "\n",
    "        freqGrid = paramTx.freqGrid\n",
    "        print(\n",
    "            \"Demodulating channel #%d , fc: %.4f THz, λ: %.4f nm\\n\"\n",
    "            % (\n",
    "                chIndex,\n",
    "                (Fc + freqGrid[chIndex]) / 1e12,\n",
    "                const.c / (Fc + freqGrid[chIndex]) / 1e-9,\n",
    "            )\n",
    "        )\n",
    "\n",
    "        symbTx = symbTx_[:, :, chIndex]\n",
    "\n",
    "        Plo = 10 ** (Plo_dBm / 10) * 1e-3  # power in W\n",
    "\n",
    "        print(\n",
    "            \"Local oscillator P: %.2f dBm, lw: %.2f kHz, FO: %.2f MHz\"\n",
    "            % (Plo_dBm, lw / 1e3, FO / 1e6)\n",
    "        )\n",
    "\n",
    "        # generate LO field\n",
    "        π = np.pi\n",
    "        t = np.arange(0, len(sigCh))*Ts\n",
    "        ϕ_pn_lo = phaseNoise(lw, len(sigCh), Ts)\n",
    "\n",
    "        sigLO = np.sqrt(Plo) * np.exp(-1j * (2 * π * FO * t + ϕ_lo + ϕ_pn_lo))\n",
    "\n",
    "        # Add LO to the received signal\n",
    "        sigRx = np.sqrt(Plo) + sigCh * np.exp(1j * (2 * π * FO * t + ϕ_lo + ϕ_pn_lo))\n",
    "        sfm = sigRx.copy()\n",
    "\n",
    "        print('CSPR = %.2f dB' % (10*np.log10(signal_power(sigLO)/signal_power(sigCh))))\n",
    "\n",
    "        # ### Phase-retrieval stage\n",
    "\n",
    "        # In[4]:\n",
    "\n",
    "        # resampling to ADC sampling rate\n",
    "        sigCh = resample(sigCh, paramADC)\n",
    "        sfm = resample(sfm, paramADC)\n",
    "        newFs = paramADC.SpS_out*paramTx.Rs\n",
    "\n",
    "        # simulate ideal direct-detection optical receiver\n",
    "        Amp = np.abs(sigRx)\n",
    "        Amp = resample(Amp, paramADC)\n",
    "\n",
    "        sfm = sfm/np.sqrt(signal_power(sfm))\n",
    "\n",
    "        sigPhase = np.angle(sfm)  # get signal phase samples (labels) (L,)\n",
    "        sigAmp   = np.pad(np.abs(sfm), (int(N/2), int(N/2)), 'constant') # get signal amplitude samples (L,)\n",
    "\n",
    "        # create set of input features\n",
    "        X_input = np.zeros((len(sigPhase), N))  # (L,N)\n",
    "\n",
    "        for indPhase in range(len(sigPhase)):\n",
    "            X_input[indPhase] = sigAmp[indPhase:N+indPhase]\n",
    "\n",
    "        phiTime_NN = modelNN.predict(X_input)\n",
    "        phiTime_NN = phiTime_NN.reshape(-1,)\n",
    "\n",
    "        # optical field reconstruction\n",
    "        sigRx = np.abs(sfm)*np.exp(1j*phiTime_NN)\n",
    "\n",
    "        # remove DC level\n",
    "        sigRx -= np.mean(sigRx)  # np.sqrt(Plo)\n",
    "\n",
    "        # downshift to baseband\n",
    "        t = np.arange(0, len(sigRx))*(1/newFs)\n",
    "        sigRx *= np.exp(-1j * (2 * π * FO * t))\n",
    "\n",
    "        # correct for (possible) phase ambiguity\n",
    "        rot = np.mean(sigCh/sigRx)\n",
    "        sigRx = rot * sigRx\n",
    "        sigRx = sigRx / np.sqrt(signal_power(sigRx))\n",
    "\n",
    "        # #### Standard receiver processing\n",
    "\n",
    "        # In[5]:\n",
    "\n",
    "        # resample to 2 samples/symbol:\n",
    "        paramRes = parameters()\n",
    "        paramRes.Rs = paramTx.Rs\n",
    "        paramRes.SpS_in = paramADC.SpS_out\n",
    "        paramRes.SpS_out = 2\n",
    "\n",
    "        sigRx = resample(sigRx, paramRes)\n",
    "\n",
    "        # Matched filtering and CD compensation\n",
    "\n",
    "        # Matched filtering\n",
    "        if paramTx.pulse == \"nrz\":\n",
    "            pulse = pulseShape(\"nrz\", paramADC.SpS_out)\n",
    "        elif paramTx.pulse == \"rrc\":\n",
    "            pulse = pulseShape(\n",
    "                \"rrc\", paramRes.SpS_out, N=paramTx.Ntaps, alpha=paramTx.alphaRRC, Ts=1 / paramTx.Rs\n",
    "            )\n",
    "\n",
    "        pulse = pulse / np.max(np.abs(pulse))\n",
    "        sigRx = firFilter(pulse, sigRx)\n",
    "\n",
    "        # plot constellations after matched filtering\n",
    "        #pconst(sigRx[0::paramRes.SpS_out], lim=True, R=3)\n",
    "\n",
    "        # CD compensation\n",
    "        sigRx = edc(sigRx, Ltotal, D, Fc, paramRes.SpS_out*paramTx.Rs)\n",
    "\n",
    "        #plot constellations after CD compensation\n",
    "        #pconst(sigRx[0::paramRes.SpS_out], lim=True, R=2)\n",
    "\n",
    "        # Downsampling to 2 sps and re-synchronization with transmitted sequences\n",
    "        sigRx = sigRx.reshape(-1, 1)\n",
    "\n",
    "        symbRx = symbolSync(sigRx, symbTx, 2)\n",
    "\n",
    "        # In[6]:\n",
    "\n",
    "        # Power normalization\n",
    "        x = sigRx\n",
    "        d = symbRx\n",
    "\n",
    "        x = x.reshape(len(x), 1) / np.sqrt(signal_power(x))\n",
    "        d = d.reshape(len(d), 1) / np.sqrt(signal_power(d))\n",
    "\n",
    "        # Adaptive equalization\n",
    "        mod = QAMModem(m=paramTx.M)\n",
    "\n",
    "        paramEq = parameters()\n",
    "        paramEq.nTaps = 15\n",
    "        paramEq.SpS = 2\n",
    "        paramEq.mu = [5e-3, 2e-3]\n",
    "        paramEq.numIter = 5\n",
    "        paramEq.storeCoeff = False\n",
    "        paramEq.alg = [\"nlms\", \"dd-lms\"]\n",
    "        paramEq.M = paramTx.M\n",
    "        paramEq.L = [20000, 80000]\n",
    "\n",
    "        y_EQ, H, errSq, Hiter = mimoAdaptEqualizer(x, dx=d, paramEq=paramEq)\n",
    "\n",
    "        discard = int(paramEq.L[0]/2)\n",
    "\n",
    "        #plot constellations after adaptive equalization\n",
    "        #pconst(y_EQ[discard:-discard, :], lim=True)\n",
    "\n",
    "        # In[7]:\n",
    "\n",
    "        # Carrier phase recovery\n",
    "        paramCPR = parameters()\n",
    "        paramCPR.alg = \"bps\"\n",
    "        paramCPR.M = paramTx.M\n",
    "        paramCPR.N = 75\n",
    "        paramCPR.B = 64\n",
    "        paramCPR.pilotInd = np.arange(0, len(y_EQ), 20)\n",
    "\n",
    "        y_CPR, θ = cpr(y_EQ, symbTx=d, paramCPR=paramCPR)\n",
    "\n",
    "        y_CPR = y_CPR / np.sqrt(signal_power(y_CPR))\n",
    "\n",
    "        discard = 5000\n",
    "\n",
    "        # plot constellations after CPR\n",
    "        #pconst(y_CPR[discard:-discard, :], lim=True)\n",
    "\n",
    "        # #### Evaluate transmission metrics\n",
    "\n",
    "        # In[8]:\n",
    "\n",
    "        # correct for (possible) phase ambiguity\n",
    "        for k in range(y_CPR.shape[1]):\n",
    "            rot = np.mean(d[:, k] / y_CPR[:, k])\n",
    "            y_CPR[:, k] = rot * y_CPR[:, k]\n",
    "\n",
    "        y_CPR = y_CPR / np.sqrt(signal_power(y_CPR))\n",
    "\n",
    "        ind = np.arange(discard, d.shape[0] - discard)\n",
    "        BER_NN[indNN][index], SER_NN[indNN][index], SNR_NN[indNN][index] = fastBERcalc(y_CPR[ind, :], d[ind, :], mod)\n",
    "        GMI_NN[indNN][index], _ = monteCarloGMI(y_CPR[ind, :], d[ind, :], mod)\n",
    "        MI_NN[indNN][index] = monteCarloMI(y_CPR[ind, :], d[ind, :], mod)\n",
    "\n",
    "        print(\"Results:\\n\")\n",
    "        print(\"SER: %.2e\" % (SER_NN[indNN][index]))\n",
    "        print(\"BER: %.2e\" % (BER_NN[indNN][index]))\n",
    "        print(\"SNR: %.2f dB\" % (SNR_NN[indNN][index]))\n",
    "        print(\"MI: %.2f bits\" % (MI_NN[indNN][index]))\n",
    "        print(\"GMI: %.2f bits\" % (GMI_NN[indNN][index]))\n"
   ]
  },
  {
   "cell_type": "markdown",
   "metadata": {},
   "source": [
    "### Model Performance Evaluation\n",
    "\n",
    "Realiza uma avaliação da performace do modelo de acordo com cada parâmetro alterado durante a simulação gerando uma superficie no plano tridimensional, para cada ponto obtemos uma configuração distinta para os parâmetros de interesse (Rolloff e FO)   "
   ]
  },
  {
   "cell_type": "code",
   "execution_count": 5,
   "metadata": {},
   "outputs": [],
   "source": [
    "from mpl_toolkits.mplot3d import Axes3D\n",
    "from matplotlib import cm"
   ]
  },
  {
   "cell_type": "code",
   "execution_count": 88,
   "metadata": {},
   "outputs": [
    {
     "data": {
      "image/png": "[encoded data removed]",
      "text/plain": [
       "<Figure size 720x576 with 2 Axes>"
      ]
     },
     "metadata": {
      "needs_background": "light"
     },
     "output_type": "display_data"
    }
   ],
   "source": [
    "x = np.arange(0.01, 0.99, 0.1)\n",
    "y = np.arange(1e9, 6e9, 1e9)\n",
    "\n",
    "x, y = np.meshgrid(x, y)\n",
    "z1 = np.log10(BER_NN)  # shape((5, 10))\n",
    "\n",
    "fig = plt.figure(figsize=(10, 8))\n",
    "ax = plt.axes(projection='3d')\n",
    "\n",
    "surf = ax.plot_surface(x, y, z1, cmap=cm.coolwarm, linewidth=1, antialiased=True, edgecolor='None')\n",
    "fig.colorbar(surf, ax=ax, shrink=0.5, aspect=7)\n",
    "ax.set_xlabel('Rolloff')\n",
    "ax.set_ylabel('FO')\n",
    "ax.set_zlabel('$log(BER)$')\n",
    "ax.view_init(elev=30, azim=215)\n",
    "ax.set_title('BER Surface Plot')\n",
    "\n",
    "plt.show()\n",
    "plt.savefig(r'C:\\Users\\Silas João\\Documents\\GitHub\\PIVIC-Comunicacoes-Opticas\\resultados\\results_ModelPerformance_64QAM.png', dpi=600)"
   ]
  },
  {
   "cell_type": "code",
   "execution_count": 2,
   "metadata": {},
   "outputs": [],
   "source": [
    "## Transmitter parameters:\n",
    "paramTx = parameters()\n",
    "paramTx.M = 64                 # order of the modulation format\n",
    "paramTx.Rs = 32e9              # symbol rate [baud]\n",
    "paramTx.SpS = 4                # samples per symbol\n",
    "paramTx.Nbits = 600000         # total number of bits per polarization\n",
    "paramTx.pulse = \"rrc\"          # pulse shaping filter\n",
    "paramTx.Ntaps = 1024           # number of pulse shaping filter coefficients\n",
    "#paramTx.alphaRRC = 0.91        # RRC rolloff\n",
    "paramTx.Pch_dBm = 0            # power of the optical signal [dBm]\n",
    "paramTx.Nch = 1                # number of WDM channels\n",
    "paramTx.Fc = 193.1e12          # central frequency of the optical spectrum\n",
    "paramTx.freqSpac = 37.5e9      # WDM grid spacing\n",
    "\n",
    "## Optical channel parameters:\n",
    "Ltotal = 50      # total link distance [km]\n",
    "alpha = 0        # fiber loss parameter [dB/km]\n",
    "D = 16          # fiber dispersion parameter [ps/nm/km]\n",
    "Fc = paramTx.Fc  # central optical frequency of the WDM spectrum [Hz]\n",
    "\n",
    "## Receiver parameters:\n",
    "\n",
    "# local oscillator (LO)\n",
    "#FO = 5e9 + paramTx.Rs/2  # frequency offset\n",
    "lw = 0*200e3       # linewidth\n",
    "ϕ_lo = 0           # initial phase in rad\n",
    "Plo_dBm = 12        # power in dBm\n",
    "\n",
    "# ADC sampling rate\n",
    "paramADC = parameters()\n",
    "paramADC.Rs = paramTx.Rs\n",
    "paramADC.SpS_in = paramTx.SpS\n",
    "paramADC.SpS_out = 4\n",
    "\n",
    "## General simulation parameters:\n",
    "chIndex = 0  # index of the channel to be demodulated\n",
    "plotPSD = True\n",
    "Fs = paramTx.Rs * paramTx.SpS  # simulation sampling rate"
   ]
  },
  {
   "cell_type": "code",
   "execution_count": 3,
   "metadata": {},
   "outputs": [
    {
     "name": "stdout",
     "output_type": "stream",
     "text": [
      "channel 0\t fc : 193.1000 THz\n",
      "  mode #0\t power: 0.00 dBm\n",
      "channel 0\t power: -0.00 dBm\n",
      "\n",
      "total WDM signal power: -0.00 dBm\n",
      "Demodulating channel #0 , fc: 193.1000 THz, λ: 1552.5244 nm\n",
      "\n",
      "Local oscillator P: 12.00 dBm, lw: 0.00 kHz, FO: 17000.00 MHz\n",
      "CSPR = 12.00 dB\n",
      "\n",
      "\n",
      "nlms - training stage #0\n"
     ]
    },
    {
     "data": {
      "application/vnd.jupyter.widget-view+json": {
       "model_id": "382fe74f39c946848abbe1d4b92f1afd",
       "version_major": 2,
       "version_minor": 0
      },
      "text/plain": [
       "  0%|          | 0/5 [00:00<?, ?it/s]"
      ]
     },
     "metadata": {},
     "output_type": "display_data"
    },
    {
     "name": "stdout",
     "output_type": "stream",
     "text": [
      "nlms pre-convergence training iteration #0\n",
      "nlms MSE = 0.022166.\n",
      "nlms pre-convergence training iteration #1\n",
      "nlms MSE = 0.002309.\n",
      "nlms pre-convergence training iteration #2\n",
      "nlms MSE = 0.001904.\n",
      "nlms pre-convergence training iteration #3\n",
      "nlms MSE = 0.001671.\n",
      "nlms pre-convergence training iteration #4\n",
      "nlms MSE = 0.001518.\n",
      "\n",
      "\n",
      "dd-lms - training stage #1\n",
      "dd-lms MSE = 0.000988.\n",
      "Results:\n",
      "\n",
      "SER: 4.44e-04\n",
      "BER: 1.17e-04\n",
      "SNR: 29.83 dB\n",
      "MI: 6.00 bits\n",
      "GMI: 5.98 bits\n",
      "channel 0\t fc : 193.1000 THz\n",
      "  mode #0\t power: 0.00 dBm\n",
      "channel 0\t power: 0.00 dBm\n",
      "\n",
      "total WDM signal power: 0.00 dBm\n",
      "Demodulating channel #0 , fc: 193.1000 THz, λ: 1552.5244 nm\n",
      "\n",
      "Local oscillator P: 12.00 dBm, lw: 0.00 kHz, FO: 17000.00 MHz\n",
      "CSPR = 12.00 dB\n",
      "\n",
      "\n",
      "nlms - training stage #0\n"
     ]
    },
    {
     "data": {
      "application/vnd.jupyter.widget-view+json": {
       "model_id": "a3b523b4726b4af8a285fa87b3172a61",
       "version_major": 2,
       "version_minor": 0
      },
      "text/plain": [
       "  0%|          | 0/5 [00:00<?, ?it/s]"
      ]
     },
     "metadata": {},
     "output_type": "display_data"
    },
    {
     "name": "stdout",
     "output_type": "stream",
     "text": [
      "nlms pre-convergence training iteration #0\n",
      "nlms MSE = 0.020216.\n",
      "nlms pre-convergence training iteration #1\n",
      "nlms MSE = 0.002802.\n",
      "nlms pre-convergence training iteration #2\n",
      "nlms MSE = 0.002339.\n",
      "nlms pre-convergence training iteration #3\n",
      "nlms MSE = 0.002099.\n",
      "nlms pre-convergence training iteration #4\n",
      "nlms MSE = 0.001952.\n",
      "\n",
      "\n",
      "dd-lms - training stage #1\n",
      "dd-lms MSE = 0.001195.\n",
      "Results:\n",
      "\n",
      "SER: 3.89e-04\n",
      "BER: 8.52e-05\n",
      "SNR: 29.19 dB\n",
      "MI: 5.99 bits\n",
      "GMI: 5.99 bits\n",
      "channel 0\t fc : 193.1000 THz\n",
      "  mode #0\t power: 0.00 dBm\n",
      "channel 0\t power: -0.00 dBm\n",
      "\n",
      "total WDM signal power: -0.00 dBm\n",
      "Demodulating channel #0 , fc: 193.1000 THz, λ: 1552.5244 nm\n",
      "\n",
      "Local oscillator P: 12.00 dBm, lw: 0.00 kHz, FO: 17000.00 MHz\n",
      "CSPR = 12.00 dB\n",
      "\n",
      "\n",
      "nlms - training stage #0\n"
     ]
    },
    {
     "data": {
      "application/vnd.jupyter.widget-view+json": {
       "model_id": "02dace0d82614de9af9424cf7d9759e5",
       "version_major": 2,
       "version_minor": 0
      },
      "text/plain": [
       "  0%|          | 0/5 [00:00<?, ?it/s]"
      ]
     },
     "metadata": {},
     "output_type": "display_data"
    },
    {
     "name": "stdout",
     "output_type": "stream",
     "text": [
      "nlms pre-convergence training iteration #0\n",
      "nlms MSE = 0.023184.\n",
      "nlms pre-convergence training iteration #1\n",
      "nlms MSE = 0.005543.\n",
      "nlms pre-convergence training iteration #2\n",
      "nlms MSE = 0.004833.\n",
      "nlms pre-convergence training iteration #3\n",
      "nlms MSE = 0.004447.\n",
      "nlms pre-convergence training iteration #4\n",
      "nlms MSE = 0.004195.\n",
      "\n",
      "\n",
      "dd-lms - training stage #1\n",
      "dd-lms MSE = 0.003053.\n",
      "Results:\n",
      "\n",
      "SER: 2.02e-03\n",
      "BER: 5.00e-04\n",
      "SNR: 25.15 dB\n",
      "MI: 5.99 bits\n",
      "GMI: 5.98 bits\n",
      "channel 0\t fc : 193.1000 THz\n",
      "  mode #0\t power: 0.00 dBm\n",
      "channel 0\t power: 0.00 dBm\n",
      "\n",
      "total WDM signal power: 0.00 dBm\n",
      "Demodulating channel #0 , fc: 193.1000 THz, λ: 1552.5244 nm\n",
      "\n",
      "Local oscillator P: 12.00 dBm, lw: 0.00 kHz, FO: 17000.00 MHz\n",
      "CSPR = 12.00 dB\n",
      "\n",
      "\n",
      "nlms - training stage #0\n"
     ]
    },
    {
     "data": {
      "application/vnd.jupyter.widget-view+json": {
       "model_id": "54e07b43da8d4a44b5e430090f9abf18",
       "version_major": 2,
       "version_minor": 0
      },
      "text/plain": [
       "  0%|          | 0/5 [00:00<?, ?it/s]"
      ]
     },
     "metadata": {},
     "output_type": "display_data"
    },
    {
     "name": "stdout",
     "output_type": "stream",
     "text": [
      "nlms pre-convergence training iteration #0\n",
      "nlms MSE = 0.027537.\n",
      "nlms pre-convergence training iteration #1\n",
      "nlms MSE = 0.008680.\n",
      "nlms pre-convergence training iteration #2\n",
      "nlms MSE = 0.007151.\n",
      "nlms pre-convergence training iteration #3\n",
      "nlms MSE = 0.006351.\n",
      "nlms pre-convergence training iteration #4\n",
      "nlms MSE = 0.005838.\n",
      "\n",
      "\n",
      "dd-lms - training stage #1\n",
      "dd-lms MSE = 0.003926.\n",
      "Results:\n",
      "\n",
      "SER: 6.63e-03\n",
      "BER: 1.68e-03\n",
      "SNR: 23.94 dB\n",
      "MI: 5.96 bits\n",
      "GMI: 5.94 bits\n",
      "channel 0\t fc : 193.1000 THz\n",
      "  mode #0\t power: 0.00 dBm\n",
      "channel 0\t power: 0.00 dBm\n",
      "\n",
      "total WDM signal power: 0.00 dBm\n",
      "Demodulating channel #0 , fc: 193.1000 THz, λ: 1552.5244 nm\n",
      "\n",
      "Local oscillator P: 12.00 dBm, lw: 0.00 kHz, FO: 17000.00 MHz\n",
      "CSPR = 12.00 dB\n",
      "\n",
      "\n",
      "nlms - training stage #0\n"
     ]
    },
    {
     "data": {
      "application/vnd.jupyter.widget-view+json": {
       "model_id": "652508558bcb44f1b79934e55b6937b2",
       "version_major": 2,
       "version_minor": 0
      },
      "text/plain": [
       "  0%|          | 0/5 [00:00<?, ?it/s]"
      ]
     },
     "metadata": {},
     "output_type": "display_data"
    },
    {
     "name": "stdout",
     "output_type": "stream",
     "text": [
      "nlms pre-convergence training iteration #0\n",
      "nlms MSE = 0.032769.\n",
      "nlms pre-convergence training iteration #1\n",
      "nlms MSE = 0.011682.\n",
      "nlms pre-convergence training iteration #2\n",
      "nlms MSE = 0.009298.\n",
      "nlms pre-convergence training iteration #3\n",
      "nlms MSE = 0.008140.\n",
      "nlms pre-convergence training iteration #4\n",
      "nlms MSE = 0.007438.\n",
      "\n",
      "\n",
      "dd-lms - training stage #1\n",
      "dd-lms MSE = 0.005146.\n",
      "Results:\n",
      "\n",
      "SER: 1.34e-02\n",
      "BER: 3.44e-03\n",
      "SNR: 22.72 dB\n",
      "MI: 5.93 bits\n",
      "GMI: 5.89 bits\n",
      "channel 0\t fc : 193.1000 THz\n",
      "  mode #0\t power: 0.00 dBm\n",
      "channel 0\t power: 0.00 dBm\n",
      "\n",
      "total WDM signal power: 0.00 dBm\n",
      "Demodulating channel #0 , fc: 193.1000 THz, λ: 1552.5244 nm\n",
      "\n",
      "Local oscillator P: 12.00 dBm, lw: 0.00 kHz, FO: 17000.00 MHz\n",
      "CSPR = 12.00 dB\n",
      "\n",
      "\n",
      "nlms - training stage #0\n"
     ]
    },
    {
     "data": {
      "application/vnd.jupyter.widget-view+json": {
       "model_id": "db64867b05a54c6f86bbcd1ab30a6c41",
       "version_major": 2,
       "version_minor": 0
      },
      "text/plain": [
       "  0%|          | 0/5 [00:00<?, ?it/s]"
      ]
     },
     "metadata": {},
     "output_type": "display_data"
    },
    {
     "name": "stdout",
     "output_type": "stream",
     "text": [
      "nlms pre-convergence training iteration #0\n",
      "nlms MSE = 0.039147.\n",
      "nlms pre-convergence training iteration #1\n",
      "nlms MSE = 0.014892.\n",
      "nlms pre-convergence training iteration #2\n",
      "nlms MSE = 0.011766.\n",
      "nlms pre-convergence training iteration #3\n",
      "nlms MSE = 0.010343.\n",
      "nlms pre-convergence training iteration #4\n",
      "nlms MSE = 0.009508.\n",
      "\n",
      "\n",
      "dd-lms - training stage #1\n",
      "dd-lms MSE = 0.006596.\n",
      "Results:\n",
      "\n",
      "SER: 3.24e-02\n",
      "BER: 8.40e-03\n",
      "SNR: 21.41 dB\n",
      "MI: 5.84 bits\n",
      "GMI: 5.76 bits\n",
      "channel 0\t fc : 193.1000 THz\n",
      "  mode #0\t power: 0.00 dBm\n",
      "channel 0\t power: -0.00 dBm\n",
      "\n",
      "total WDM signal power: -0.00 dBm\n",
      "Demodulating channel #0 , fc: 193.1000 THz, λ: 1552.5244 nm\n",
      "\n",
      "Local oscillator P: 12.00 dBm, lw: 0.00 kHz, FO: 17000.00 MHz\n",
      "CSPR = 12.00 dB\n",
      "\n",
      "\n",
      "nlms - training stage #0\n"
     ]
    },
    {
     "data": {
      "application/vnd.jupyter.widget-view+json": {
       "model_id": "acfe84059899488282e4f66f24c6703a",
       "version_major": 2,
       "version_minor": 0
      },
      "text/plain": [
       "  0%|          | 0/5 [00:00<?, ?it/s]"
      ]
     },
     "metadata": {},
     "output_type": "display_data"
    },
    {
     "name": "stdout",
     "output_type": "stream",
     "text": [
      "nlms pre-convergence training iteration #0\n",
      "nlms MSE = 0.045061.\n",
      "nlms pre-convergence training iteration #1\n",
      "nlms MSE = 0.018221.\n",
      "nlms pre-convergence training iteration #2\n",
      "nlms MSE = 0.014442.\n",
      "nlms pre-convergence training iteration #3\n",
      "nlms MSE = 0.012721.\n",
      "nlms pre-convergence training iteration #4\n",
      "nlms MSE = 0.011710.\n",
      "\n",
      "\n",
      "dd-lms - training stage #1\n",
      "dd-lms MSE = 0.007921.\n",
      "Results:\n",
      "\n",
      "SER: 5.31e-02\n",
      "BER: 1.40e-02\n",
      "SNR: 20.40 dB\n",
      "MI: 5.75 bits\n",
      "GMI: 5.62 bits\n",
      "channel 0\t fc : 193.1000 THz\n",
      "  mode #0\t power: 0.00 dBm\n",
      "channel 0\t power: 0.00 dBm\n",
      "\n",
      "total WDM signal power: 0.00 dBm\n",
      "Demodulating channel #0 , fc: 193.1000 THz, λ: 1552.5244 nm\n",
      "\n",
      "Local oscillator P: 12.00 dBm, lw: 0.00 kHz, FO: 17000.00 MHz\n",
      "CSPR = 12.00 dB\n",
      "\n",
      "\n",
      "nlms - training stage #0\n"
     ]
    },
    {
     "data": {
      "application/vnd.jupyter.widget-view+json": {
       "model_id": "3a322ace19f64f74aec2ae42f0862b11",
       "version_major": 2,
       "version_minor": 0
      },
      "text/plain": [
       "  0%|          | 0/5 [00:00<?, ?it/s]"
      ]
     },
     "metadata": {},
     "output_type": "display_data"
    },
    {
     "name": "stdout",
     "output_type": "stream",
     "text": [
      "nlms pre-convergence training iteration #0\n",
      "nlms MSE = 0.050187.\n",
      "nlms pre-convergence training iteration #1\n",
      "nlms MSE = 0.021160.\n",
      "nlms pre-convergence training iteration #2\n",
      "nlms MSE = 0.016769.\n",
      "nlms pre-convergence training iteration #3\n",
      "nlms MSE = 0.014761.\n",
      "nlms pre-convergence training iteration #4\n",
      "nlms MSE = 0.013572.\n",
      "\n",
      "\n",
      "dd-lms - training stage #1\n",
      "dd-lms MSE = 0.009308.\n",
      "Results:\n",
      "\n",
      "SER: 8.27e-02\n",
      "BER: 2.20e-02\n",
      "SNR: 19.47 dB\n",
      "MI: 5.64 bits\n",
      "GMI: 5.44 bits\n",
      "channel 0\t fc : 193.1000 THz\n",
      "  mode #0\t power: 0.00 dBm\n",
      "channel 0\t power: 0.00 dBm\n",
      "\n",
      "total WDM signal power: 0.00 dBm\n",
      "Demodulating channel #0 , fc: 193.1000 THz, λ: 1552.5244 nm\n",
      "\n",
      "Local oscillator P: 12.00 dBm, lw: 0.00 kHz, FO: 17000.00 MHz\n",
      "CSPR = 12.00 dB\n",
      "\n",
      "\n",
      "nlms - training stage #0\n"
     ]
    },
    {
     "data": {
      "application/vnd.jupyter.widget-view+json": {
       "model_id": "2c9db3f9f2fb4a6fac688b4284d9b399",
       "version_major": 2,
       "version_minor": 0
      },
      "text/plain": [
       "  0%|          | 0/5 [00:00<?, ?it/s]"
      ]
     },
     "metadata": {},
     "output_type": "display_data"
    },
    {
     "name": "stdout",
     "output_type": "stream",
     "text": [
      "nlms pre-convergence training iteration #0\n",
      "nlms MSE = 0.056270.\n",
      "nlms pre-convergence training iteration #1\n",
      "nlms MSE = 0.025663.\n",
      "nlms pre-convergence training iteration #2\n",
      "nlms MSE = 0.020466.\n",
      "nlms pre-convergence training iteration #3\n",
      "nlms MSE = 0.017991.\n",
      "nlms pre-convergence training iteration #4\n",
      "nlms MSE = 0.016494.\n",
      "\n",
      "\n",
      "dd-lms - training stage #1\n",
      "dd-lms MSE = 0.010703.\n",
      "Results:\n",
      "\n",
      "SER: 1.18e-01\n",
      "BER: 3.16e-02\n",
      "SNR: 18.57 dB\n",
      "MI: 5.50 bits\n",
      "GMI: 5.24 bits\n",
      "channel 0\t fc : 193.1000 THz\n",
      "  mode #0\t power: 0.00 dBm\n",
      "channel 0\t power: -0.00 dBm\n",
      "\n",
      "total WDM signal power: -0.00 dBm\n",
      "Demodulating channel #0 , fc: 193.1000 THz, λ: 1552.5244 nm\n",
      "\n",
      "Local oscillator P: 12.00 dBm, lw: 0.00 kHz, FO: 17000.00 MHz\n",
      "CSPR = 12.00 dB\n",
      "\n",
      "\n",
      "nlms - training stage #0\n"
     ]
    },
    {
     "data": {
      "application/vnd.jupyter.widget-view+json": {
       "model_id": "af700e501a6240ccaed7692aa92836e7",
       "version_major": 2,
       "version_minor": 0
      },
      "text/plain": [
       "  0%|          | 0/5 [00:00<?, ?it/s]"
      ]
     },
     "metadata": {},
     "output_type": "display_data"
    },
    {
     "name": "stdout",
     "output_type": "stream",
     "text": [
      "nlms pre-convergence training iteration #0\n",
      "nlms MSE = 0.064175.\n",
      "nlms pre-convergence training iteration #1\n",
      "nlms MSE = 0.029384.\n",
      "nlms pre-convergence training iteration #2\n",
      "nlms MSE = 0.023385.\n",
      "nlms pre-convergence training iteration #3\n",
      "nlms MSE = 0.020580.\n",
      "nlms pre-convergence training iteration #4\n",
      "nlms MSE = 0.018886.\n",
      "\n",
      "\n",
      "dd-lms - training stage #1\n",
      "dd-lms MSE = 0.011898.\n",
      "Results:\n",
      "\n",
      "SER: 1.64e-01\n",
      "BER: 4.45e-02\n",
      "SNR: 17.71 dB\n",
      "MI: 5.32 bits\n",
      "GMI: 4.97 bits\n",
      "channel 0\t fc : 193.1000 THz\n",
      "  mode #0\t power: 0.00 dBm\n",
      "channel 0\t power: -0.00 dBm\n",
      "\n",
      "total WDM signal power: -0.00 dBm\n",
      "Demodulating channel #0 , fc: 193.1000 THz, λ: 1552.5244 nm\n",
      "\n",
      "Local oscillator P: 12.00 dBm, lw: 0.00 kHz, FO: 18000.00 MHz\n",
      "CSPR = 12.00 dB\n",
      "\n",
      "\n",
      "nlms - training stage #0\n"
     ]
    },
    {
     "data": {
      "application/vnd.jupyter.widget-view+json": {
       "model_id": "ee32b061d07f4ac1a03d8b990da50c15",
       "version_major": 2,
       "version_minor": 0
      },
      "text/plain": [
       "  0%|          | 0/5 [00:00<?, ?it/s]"
      ]
     },
     "metadata": {},
     "output_type": "display_data"
    },
    {
     "name": "stdout",
     "output_type": "stream",
     "text": [
      "nlms pre-convergence training iteration #0\n",
      "nlms MSE = 0.022316.\n",
      "nlms pre-convergence training iteration #1\n",
      "nlms MSE = 0.002549.\n",
      "nlms pre-convergence training iteration #2\n",
      "nlms MSE = 0.002150.\n",
      "nlms pre-convergence training iteration #3\n",
      "nlms MSE = 0.001920.\n",
      "nlms pre-convergence training iteration #4\n",
      "nlms MSE = 0.001767.\n",
      "\n",
      "\n",
      "dd-lms - training stage #1\n",
      "dd-lms MSE = 0.001105.\n",
      "Results:\n",
      "\n",
      "SER: 5.89e-04\n",
      "BER: 1.37e-04\n",
      "SNR: 29.36 dB\n",
      "MI: 5.98 bits\n",
      "GMI: 5.98 bits\n",
      "channel 0\t fc : 193.1000 THz\n",
      "  mode #0\t power: 0.00 dBm\n",
      "channel 0\t power: -0.00 dBm\n",
      "\n",
      "total WDM signal power: -0.00 dBm\n",
      "Demodulating channel #0 , fc: 193.1000 THz, λ: 1552.5244 nm\n",
      "\n",
      "Local oscillator P: 12.00 dBm, lw: 0.00 kHz, FO: 18000.00 MHz\n",
      "CSPR = 12.00 dB\n",
      "\n",
      "\n",
      "nlms - training stage #0\n"
     ]
    },
    {
     "data": {
      "application/vnd.jupyter.widget-view+json": {
       "model_id": "0f9128e78c164049b69d3bef1b194401",
       "version_major": 2,
       "version_minor": 0
      },
      "text/plain": [
       "  0%|          | 0/5 [00:00<?, ?it/s]"
      ]
     },
     "metadata": {},
     "output_type": "display_data"
    },
    {
     "name": "stdout",
     "output_type": "stream",
     "text": [
      "nlms pre-convergence training iteration #0\n",
      "nlms MSE = 0.019985.\n",
      "nlms pre-convergence training iteration #1\n",
      "nlms MSE = 0.002598.\n",
      "nlms pre-convergence training iteration #2\n",
      "nlms MSE = 0.002128.\n",
      "nlms pre-convergence training iteration #3\n",
      "nlms MSE = 0.001882.\n",
      "nlms pre-convergence training iteration #4\n",
      "nlms MSE = 0.001731.\n",
      "\n",
      "\n",
      "dd-lms - training stage #1\n",
      "dd-lms MSE = 0.001021.\n",
      "Results:\n",
      "\n",
      "SER: 5.00e-04\n",
      "BER: 1.22e-04\n",
      "SNR: 29.73 dB\n",
      "MI: 5.99 bits\n",
      "GMI: 5.98 bits\n",
      "channel 0\t fc : 193.1000 THz\n",
      "  mode #0\t power: 0.00 dBm\n",
      "channel 0\t power: 0.00 dBm\n",
      "\n",
      "total WDM signal power: 0.00 dBm\n",
      "Demodulating channel #0 , fc: 193.1000 THz, λ: 1552.5244 nm\n",
      "\n",
      "Local oscillator P: 12.00 dBm, lw: 0.00 kHz, FO: 18000.00 MHz\n",
      "CSPR = 12.00 dB\n",
      "\n",
      "\n",
      "nlms - training stage #0\n"
     ]
    },
    {
     "data": {
      "application/vnd.jupyter.widget-view+json": {
       "model_id": "405fd27960964173a8010506b23e5919",
       "version_major": 2,
       "version_minor": 0
      },
      "text/plain": [
       "  0%|          | 0/5 [00:00<?, ?it/s]"
      ]
     },
     "metadata": {},
     "output_type": "display_data"
    },
    {
     "name": "stdout",
     "output_type": "stream",
     "text": [
      "nlms pre-convergence training iteration #0\n",
      "nlms MSE = 0.018129.\n",
      "nlms pre-convergence training iteration #1\n",
      "nlms MSE = 0.002382.\n",
      "nlms pre-convergence training iteration #2\n",
      "nlms MSE = 0.002175.\n",
      "nlms pre-convergence training iteration #3\n",
      "nlms MSE = 0.002036.\n",
      "nlms pre-convergence training iteration #4\n",
      "nlms MSE = 0.001936.\n",
      "\n",
      "\n",
      "dd-lms - training stage #1\n",
      "dd-lms MSE = 0.001474.\n",
      "Results:\n",
      "\n",
      "SER: 6.89e-04\n",
      "BER: 1.89e-04\n",
      "SNR: 28.24 dB\n",
      "MI: 5.98 bits\n",
      "GMI: 5.98 bits\n",
      "channel 0\t fc : 193.1000 THz\n",
      "  mode #0\t power: 0.00 dBm\n",
      "channel 0\t power: 0.00 dBm\n",
      "\n",
      "total WDM signal power: 0.00 dBm\n",
      "Demodulating channel #0 , fc: 193.1000 THz, λ: 1552.5244 nm\n",
      "\n",
      "Local oscillator P: 12.00 dBm, lw: 0.00 kHz, FO: 18000.00 MHz\n",
      "CSPR = 12.00 dB\n",
      "\n",
      "\n",
      "nlms - training stage #0\n"
     ]
    },
    {
     "data": {
      "application/vnd.jupyter.widget-view+json": {
       "model_id": "f879c98357124d5b869c14f2dc9ac7c9",
       "version_major": 2,
       "version_minor": 0
      },
      "text/plain": [
       "  0%|          | 0/5 [00:00<?, ?it/s]"
      ]
     },
     "metadata": {},
     "output_type": "display_data"
    },
    {
     "name": "stdout",
     "output_type": "stream",
     "text": [
      "nlms pre-convergence training iteration #0\n",
      "nlms MSE = 0.020042.\n",
      "nlms pre-convergence training iteration #1\n",
      "nlms MSE = 0.004921.\n",
      "nlms pre-convergence training iteration #2\n",
      "nlms MSE = 0.004331.\n",
      "nlms pre-convergence training iteration #3\n",
      "nlms MSE = 0.003940.\n",
      "nlms pre-convergence training iteration #4\n",
      "nlms MSE = 0.003660.\n",
      "\n",
      "\n",
      "dd-lms - training stage #1\n",
      "dd-lms MSE = 0.002293.\n",
      "Results:\n",
      "\n",
      "SER: 1.24e-03\n",
      "BER: 2.91e-04\n",
      "SNR: 26.31 dB\n",
      "MI: 5.99 bits\n",
      "GMI: 5.98 bits\n",
      "channel 0\t fc : 193.1000 THz\n",
      "  mode #0\t power: 0.00 dBm\n",
      "channel 0\t power: -0.00 dBm\n",
      "\n",
      "total WDM signal power: -0.00 dBm\n",
      "Demodulating channel #0 , fc: 193.1000 THz, λ: 1552.5244 nm\n",
      "\n",
      "Local oscillator P: 12.00 dBm, lw: 0.00 kHz, FO: 18000.00 MHz\n",
      "CSPR = 12.00 dB\n",
      "\n",
      "\n",
      "nlms - training stage #0\n"
     ]
    },
    {
     "data": {
      "application/vnd.jupyter.widget-view+json": {
       "model_id": "d246d26b7bdd43549f376d6b4a9d638c",
       "version_major": 2,
       "version_minor": 0
      },
      "text/plain": [
       "  0%|          | 0/5 [00:00<?, ?it/s]"
      ]
     },
     "metadata": {},
     "output_type": "display_data"
    },
    {
     "name": "stdout",
     "output_type": "stream",
     "text": [
      "nlms pre-convergence training iteration #0\n",
      "nlms MSE = 0.023853.\n",
      "nlms pre-convergence training iteration #1\n",
      "nlms MSE = 0.007331.\n",
      "nlms pre-convergence training iteration #2\n",
      "nlms MSE = 0.005814.\n",
      "nlms pre-convergence training iteration #3\n",
      "nlms MSE = 0.005004.\n",
      "nlms pre-convergence training iteration #4\n",
      "nlms MSE = 0.004511.\n",
      "\n",
      "\n",
      "dd-lms - training stage #1\n",
      "dd-lms MSE = 0.003119.\n",
      "Results:\n",
      "\n",
      "SER: 2.68e-03\n",
      "BER: 6.57e-04\n",
      "SNR: 25.01 dB\n",
      "MI: 5.98 bits\n",
      "GMI: 5.97 bits\n",
      "channel 0\t fc : 193.1000 THz\n",
      "  mode #0\t power: 0.00 dBm\n",
      "channel 0\t power: 0.00 dBm\n",
      "\n",
      "total WDM signal power: 0.00 dBm\n",
      "Demodulating channel #0 , fc: 193.1000 THz, λ: 1552.5244 nm\n",
      "\n",
      "Local oscillator P: 12.00 dBm, lw: 0.00 kHz, FO: 18000.00 MHz\n",
      "CSPR = 12.00 dB\n",
      "\n",
      "\n",
      "nlms - training stage #0\n"
     ]
    },
    {
     "data": {
      "application/vnd.jupyter.widget-view+json": {
       "model_id": "52be6258a25043c69147258b6030e9ce",
       "version_major": 2,
       "version_minor": 0
      },
      "text/plain": [
       "  0%|          | 0/5 [00:00<?, ?it/s]"
      ]
     },
     "metadata": {},
     "output_type": "display_data"
    },
    {
     "name": "stdout",
     "output_type": "stream",
     "text": [
      "nlms pre-convergence training iteration #0\n",
      "nlms MSE = 0.028439.\n",
      "nlms pre-convergence training iteration #1\n",
      "nlms MSE = 0.009584.\n",
      "nlms pre-convergence training iteration #2\n",
      "nlms MSE = 0.007390.\n",
      "nlms pre-convergence training iteration #3\n",
      "nlms MSE = 0.006398.\n",
      "nlms pre-convergence training iteration #4\n",
      "nlms MSE = 0.005844.\n",
      "\n",
      "\n",
      "dd-lms - training stage #1\n",
      "dd-lms MSE = 0.004194.\n",
      "Results:\n",
      "\n",
      "SER: 7.24e-03\n",
      "BER: 1.79e-03\n",
      "SNR: 23.68 dB\n",
      "MI: 5.95 bits\n",
      "GMI: 5.93 bits\n",
      "channel 0\t fc : 193.1000 THz\n",
      "  mode #0\t power: 0.00 dBm\n",
      "channel 0\t power: 0.00 dBm\n",
      "\n",
      "total WDM signal power: 0.00 dBm\n",
      "Demodulating channel #0 , fc: 193.1000 THz, λ: 1552.5244 nm\n",
      "\n",
      "Local oscillator P: 12.00 dBm, lw: 0.00 kHz, FO: 18000.00 MHz\n",
      "CSPR = 12.00 dB\n",
      "\n",
      "\n",
      "nlms - training stage #0\n"
     ]
    },
    {
     "data": {
      "application/vnd.jupyter.widget-view+json": {
       "model_id": "fb8b63b1cb90420ba799832bdb88a004",
       "version_major": 2,
       "version_minor": 0
      },
      "text/plain": [
       "  0%|          | 0/5 [00:00<?, ?it/s]"
      ]
     },
     "metadata": {},
     "output_type": "display_data"
    },
    {
     "name": "stdout",
     "output_type": "stream",
     "text": [
      "nlms pre-convergence training iteration #0\n",
      "nlms MSE = 0.033798.\n",
      "nlms pre-convergence training iteration #1\n",
      "nlms MSE = 0.012108.\n",
      "nlms pre-convergence training iteration #2\n",
      "nlms MSE = 0.009355.\n",
      "nlms pre-convergence training iteration #3\n",
      "nlms MSE = 0.008209.\n",
      "nlms pre-convergence training iteration #4\n",
      "nlms MSE = 0.007578.\n",
      "\n",
      "\n",
      "dd-lms - training stage #1\n",
      "dd-lms MSE = 0.005519.\n",
      "Results:\n",
      "\n",
      "SER: 1.65e-02\n",
      "BER: 4.28e-03\n",
      "SNR: 22.40 dB\n",
      "MI: 5.92 bits\n",
      "GMI: 5.88 bits\n",
      "channel 0\t fc : 193.1000 THz\n",
      "  mode #0\t power: 0.00 dBm\n",
      "channel 0\t power: -0.00 dBm\n",
      "\n",
      "total WDM signal power: -0.00 dBm\n",
      "Demodulating channel #0 , fc: 193.1000 THz, λ: 1552.5244 nm\n",
      "\n",
      "Local oscillator P: 12.00 dBm, lw: 0.00 kHz, FO: 18000.00 MHz\n",
      "CSPR = 12.00 dB\n",
      "\n",
      "\n",
      "nlms - training stage #0\n"
     ]
    },
    {
     "data": {
      "application/vnd.jupyter.widget-view+json": {
       "model_id": "b4709ccf109d4b828743f0f17c5b06a8",
       "version_major": 2,
       "version_minor": 0
      },
      "text/plain": [
       "  0%|          | 0/5 [00:00<?, ?it/s]"
      ]
     },
     "metadata": {},
     "output_type": "display_data"
    },
    {
     "name": "stdout",
     "output_type": "stream",
     "text": [
      "nlms pre-convergence training iteration #0\n",
      "nlms MSE = 0.039857.\n",
      "nlms pre-convergence training iteration #1\n",
      "nlms MSE = 0.015573.\n",
      "nlms pre-convergence training iteration #2\n",
      "nlms MSE = 0.012106.\n",
      "nlms pre-convergence training iteration #3\n",
      "nlms MSE = 0.010606.\n",
      "nlms pre-convergence training iteration #4\n",
      "nlms MSE = 0.009755.\n",
      "\n",
      "\n",
      "dd-lms - training stage #1\n",
      "dd-lms MSE = 0.006762.\n",
      "Results:\n",
      "\n",
      "SER: 3.21e-02\n",
      "BER: 8.22e-03\n",
      "SNR: 21.32 dB\n",
      "MI: 5.85 bits\n",
      "GMI: 5.77 bits\n",
      "channel 0\t fc : 193.1000 THz\n",
      "  mode #0\t power: 0.00 dBm\n",
      "channel 0\t power: 0.00 dBm\n",
      "\n",
      "total WDM signal power: 0.00 dBm\n",
      "Demodulating channel #0 , fc: 193.1000 THz, λ: 1552.5244 nm\n",
      "\n",
      "Local oscillator P: 12.00 dBm, lw: 0.00 kHz, FO: 18000.00 MHz\n",
      "CSPR = 12.00 dB\n",
      "\n",
      "\n",
      "nlms - training stage #0\n"
     ]
    },
    {
     "data": {
      "application/vnd.jupyter.widget-view+json": {
       "model_id": "a17673126c5742c9bace74c5cab20d03",
       "version_major": 2,
       "version_minor": 0
      },
      "text/plain": [
       "  0%|          | 0/5 [00:00<?, ?it/s]"
      ]
     },
     "metadata": {},
     "output_type": "display_data"
    },
    {
     "name": "stdout",
     "output_type": "stream",
     "text": [
      "nlms pre-convergence training iteration #0\n",
      "nlms MSE = 0.045171.\n",
      "nlms pre-convergence training iteration #1\n",
      "nlms MSE = 0.018420.\n",
      "nlms pre-convergence training iteration #2\n",
      "nlms MSE = 0.014350.\n",
      "nlms pre-convergence training iteration #3\n",
      "nlms MSE = 0.012570.\n",
      "nlms pre-convergence training iteration #4\n",
      "nlms MSE = 0.011539.\n",
      "\n",
      "\n",
      "dd-lms - training stage #1\n",
      "dd-lms MSE = 0.008198.\n",
      "Results:\n",
      "\n",
      "SER: 5.27e-02\n",
      "BER: 1.37e-02\n",
      "SNR: 20.33 dB\n",
      "MI: 5.76 bits\n",
      "GMI: 5.64 bits\n",
      "channel 0\t fc : 193.1000 THz\n",
      "  mode #0\t power: 0.00 dBm\n",
      "channel 0\t power: -0.00 dBm\n",
      "\n",
      "total WDM signal power: -0.00 dBm\n",
      "Demodulating channel #0 , fc: 193.1000 THz, λ: 1552.5244 nm\n",
      "\n",
      "Local oscillator P: 12.00 dBm, lw: 0.00 kHz, FO: 18000.00 MHz\n",
      "CSPR = 12.00 dB\n",
      "\n",
      "\n",
      "nlms - training stage #0\n"
     ]
    },
    {
     "data": {
      "application/vnd.jupyter.widget-view+json": {
       "model_id": "2d0bca1521b742aab13f8fa9c8d42838",
       "version_major": 2,
       "version_minor": 0
      },
      "text/plain": [
       "  0%|          | 0/5 [00:00<?, ?it/s]"
      ]
     },
     "metadata": {},
     "output_type": "display_data"
    },
    {
     "name": "stdout",
     "output_type": "stream",
     "text": [
      "nlms pre-convergence training iteration #0\n",
      "nlms MSE = 0.052344.\n",
      "nlms pre-convergence training iteration #1\n",
      "nlms MSE = 0.022746.\n",
      "nlms pre-convergence training iteration #2\n",
      "nlms MSE = 0.017804.\n",
      "nlms pre-convergence training iteration #3\n",
      "nlms MSE = 0.015566.\n",
      "nlms pre-convergence training iteration #4\n",
      "nlms MSE = 0.014235.\n",
      "\n",
      "\n",
      "dd-lms - training stage #1\n",
      "dd-lms MSE = 0.009352.\n",
      "Results:\n",
      "\n",
      "SER: 8.31e-02\n",
      "BER: 2.19e-02\n",
      "SNR: 19.43 dB\n",
      "MI: 5.64 bits\n",
      "GMI: 5.46 bits\n",
      "channel 0\t fc : 193.1000 THz\n",
      "  mode #0\t power: 0.00 dBm\n",
      "channel 0\t power: -0.00 dBm\n",
      "\n",
      "total WDM signal power: -0.00 dBm\n",
      "Demodulating channel #0 , fc: 193.1000 THz, λ: 1552.5244 nm\n",
      "\n",
      "Local oscillator P: 12.00 dBm, lw: 0.00 kHz, FO: 19000.00 MHz\n",
      "CSPR = 12.00 dB\n",
      "\n",
      "\n",
      "nlms - training stage #0\n"
     ]
    },
    {
     "data": {
      "application/vnd.jupyter.widget-view+json": {
       "model_id": "219d2d2785f84c44985b3ffe156d902f",
       "version_major": 2,
       "version_minor": 0
      },
      "text/plain": [
       "  0%|          | 0/5 [00:00<?, ?it/s]"
      ]
     },
     "metadata": {},
     "output_type": "display_data"
    },
    {
     "name": "stdout",
     "output_type": "stream",
     "text": [
      "nlms pre-convergence training iteration #0\n",
      "nlms MSE = 0.022180.\n",
      "nlms pre-convergence training iteration #1\n",
      "nlms MSE = 0.002544.\n",
      "nlms pre-convergence training iteration #2\n",
      "nlms MSE = 0.002142.\n",
      "nlms pre-convergence training iteration #3\n",
      "nlms MSE = 0.001912.\n",
      "nlms pre-convergence training iteration #4\n",
      "nlms MSE = 0.001762.\n",
      "\n",
      "\n",
      "dd-lms - training stage #1\n",
      "dd-lms MSE = 0.001287.\n",
      "Results:\n",
      "\n",
      "SER: 7.67e-04\n",
      "BER: 2.09e-04\n",
      "SNR: 28.73 dB\n",
      "MI: 5.99 bits\n",
      "GMI: 5.98 bits\n",
      "channel 0\t fc : 193.1000 THz\n",
      "  mode #0\t power: 0.00 dBm\n",
      "channel 0\t power: 0.00 dBm\n",
      "\n",
      "total WDM signal power: 0.00 dBm\n",
      "Demodulating channel #0 , fc: 193.1000 THz, λ: 1552.5244 nm\n",
      "\n",
      "Local oscillator P: 12.00 dBm, lw: 0.00 kHz, FO: 19000.00 MHz\n",
      "CSPR = 12.00 dB\n",
      "\n",
      "\n",
      "nlms - training stage #0\n"
     ]
    },
    {
     "data": {
      "application/vnd.jupyter.widget-view+json": {
       "model_id": "8f5ebee3a87f42849bd008cd090e445e",
       "version_major": 2,
       "version_minor": 0
      },
      "text/plain": [
       "  0%|          | 0/5 [00:00<?, ?it/s]"
      ]
     },
     "metadata": {},
     "output_type": "display_data"
    },
    {
     "name": "stdout",
     "output_type": "stream",
     "text": [
      "nlms pre-convergence training iteration #0\n",
      "nlms MSE = 0.019919.\n",
      "nlms pre-convergence training iteration #1\n",
      "nlms MSE = 0.002544.\n",
      "nlms pre-convergence training iteration #2\n",
      "nlms MSE = 0.002083.\n",
      "nlms pre-convergence training iteration #3\n",
      "nlms MSE = 0.001839.\n",
      "nlms pre-convergence training iteration #4\n",
      "nlms MSE = 0.001689.\n",
      "\n",
      "\n",
      "dd-lms - training stage #1\n",
      "dd-lms MSE = 0.001173.\n",
      "Results:\n",
      "\n",
      "SER: 7.00e-04\n",
      "BER: 1.70e-04\n",
      "SNR: 29.13 dB\n",
      "MI: 5.99 bits\n",
      "GMI: 5.98 bits\n",
      "channel 0\t fc : 193.1000 THz\n",
      "  mode #0\t power: 0.00 dBm\n",
      "channel 0\t power: 0.00 dBm\n",
      "\n",
      "total WDM signal power: 0.00 dBm\n",
      "Demodulating channel #0 , fc: 193.1000 THz, λ: 1552.5244 nm\n",
      "\n",
      "Local oscillator P: 12.00 dBm, lw: 0.00 kHz, FO: 19000.00 MHz\n",
      "CSPR = 12.00 dB\n",
      "\n",
      "\n",
      "nlms - training stage #0\n"
     ]
    },
    {
     "data": {
      "application/vnd.jupyter.widget-view+json": {
       "model_id": "9b6091ae54cd46ff8456a59eee2bf860",
       "version_major": 2,
       "version_minor": 0
      },
      "text/plain": [
       "  0%|          | 0/5 [00:00<?, ?it/s]"
      ]
     },
     "metadata": {},
     "output_type": "display_data"
    },
    {
     "name": "stdout",
     "output_type": "stream",
     "text": [
      "nlms pre-convergence training iteration #0\n",
      "nlms MSE = 0.017224.\n",
      "nlms pre-convergence training iteration #1\n",
      "nlms MSE = 0.002130.\n",
      "nlms pre-convergence training iteration #2\n",
      "nlms MSE = 0.001954.\n",
      "nlms pre-convergence training iteration #3\n",
      "nlms MSE = 0.001829.\n",
      "nlms pre-convergence training iteration #4\n",
      "nlms MSE = 0.001738.\n",
      "\n",
      "\n",
      "dd-lms - training stage #1\n",
      "dd-lms MSE = 0.001245.\n",
      "Results:\n",
      "\n",
      "SER: 5.78e-04\n",
      "BER: 1.57e-04\n",
      "SNR: 28.85 dB\n",
      "MI: 5.99 bits\n",
      "GMI: 5.98 bits\n",
      "channel 0\t fc : 193.1000 THz\n",
      "  mode #0\t power: 0.00 dBm\n",
      "channel 0\t power: 0.00 dBm\n",
      "\n",
      "total WDM signal power: 0.00 dBm\n",
      "Demodulating channel #0 , fc: 193.1000 THz, λ: 1552.5244 nm\n",
      "\n",
      "Local oscillator P: 12.00 dBm, lw: 0.00 kHz, FO: 19000.00 MHz\n",
      "CSPR = 12.00 dB\n",
      "\n",
      "\n",
      "nlms - training stage #0\n"
     ]
    },
    {
     "data": {
      "application/vnd.jupyter.widget-view+json": {
       "model_id": "59ac5765c8e14ea8882715842e4cafb5",
       "version_major": 2,
       "version_minor": 0
      },
      "text/plain": [
       "  0%|          | 0/5 [00:00<?, ?it/s]"
      ]
     },
     "metadata": {},
     "output_type": "display_data"
    },
    {
     "name": "stdout",
     "output_type": "stream",
     "text": [
      "nlms pre-convergence training iteration #0\n",
      "nlms MSE = 0.016496.\n",
      "nlms pre-convergence training iteration #1\n",
      "nlms MSE = 0.002468.\n",
      "nlms pre-convergence training iteration #2\n",
      "nlms MSE = 0.002389.\n",
      "nlms pre-convergence training iteration #3\n",
      "nlms MSE = 0.002320.\n",
      "nlms pre-convergence training iteration #4\n",
      "nlms MSE = 0.002260.\n",
      "\n",
      "\n",
      "dd-lms - training stage #1\n",
      "dd-lms MSE = 0.001732.\n",
      "Results:\n",
      "\n",
      "SER: 9.11e-04\n",
      "BER: 2.39e-04\n",
      "SNR: 27.47 dB\n",
      "MI: 5.99 bits\n",
      "GMI: 5.98 bits\n",
      "channel 0\t fc : 193.1000 THz\n",
      "  mode #0\t power: 0.00 dBm\n",
      "channel 0\t power: 0.00 dBm\n",
      "\n",
      "total WDM signal power: 0.00 dBm\n",
      "Demodulating channel #0 , fc: 193.1000 THz, λ: 1552.5244 nm\n",
      "\n",
      "Local oscillator P: 12.00 dBm, lw: 0.00 kHz, FO: 19000.00 MHz\n",
      "CSPR = 12.00 dB\n",
      "\n",
      "\n",
      "nlms - training stage #0\n"
     ]
    },
    {
     "data": {
      "application/vnd.jupyter.widget-view+json": {
       "model_id": "946cb9f1f7b3438abe316e33b763442b",
       "version_major": 2,
       "version_minor": 0
      },
      "text/plain": [
       "  0%|          | 0/5 [00:00<?, ?it/s]"
      ]
     },
     "metadata": {},
     "output_type": "display_data"
    },
    {
     "name": "stdout",
     "output_type": "stream",
     "text": [
      "nlms pre-convergence training iteration #0\n",
      "nlms MSE = 0.018268.\n",
      "nlms pre-convergence training iteration #1\n",
      "nlms MSE = 0.004815.\n",
      "nlms pre-convergence training iteration #2\n",
      "nlms MSE = 0.004224.\n",
      "nlms pre-convergence training iteration #3\n",
      "nlms MSE = 0.003817.\n",
      "nlms pre-convergence training iteration #4\n",
      "nlms MSE = 0.003523.\n",
      "\n",
      "\n",
      "dd-lms - training stage #1\n",
      "dd-lms MSE = 0.002216.\n",
      "Results:\n",
      "\n",
      "SER: 1.20e-03\n",
      "BER: 3.17e-04\n",
      "SNR: 26.40 dB\n",
      "MI: 5.99 bits\n",
      "GMI: 5.98 bits\n",
      "channel 0\t fc : 193.1000 THz\n",
      "  mode #0\t power: 0.00 dBm\n",
      "channel 0\t power: 0.00 dBm\n",
      "\n",
      "total WDM signal power: 0.00 dBm\n",
      "Demodulating channel #0 , fc: 193.1000 THz, λ: 1552.5244 nm\n",
      "\n",
      "Local oscillator P: 12.00 dBm, lw: 0.00 kHz, FO: 19000.00 MHz\n",
      "CSPR = 12.00 dB\n",
      "\n",
      "\n",
      "nlms - training stage #0\n"
     ]
    },
    {
     "data": {
      "application/vnd.jupyter.widget-view+json": {
       "model_id": "c16f1bb07bfa46d6aabc001cfa8296f6",
       "version_major": 2,
       "version_minor": 0
      },
      "text/plain": [
       "  0%|          | 0/5 [00:00<?, ?it/s]"
      ]
     },
     "metadata": {},
     "output_type": "display_data"
    },
    {
     "name": "stdout",
     "output_type": "stream",
     "text": [
      "nlms pre-convergence training iteration #0\n",
      "nlms MSE = 0.022144.\n",
      "nlms pre-convergence training iteration #1\n",
      "nlms MSE = 0.006872.\n",
      "nlms pre-convergence training iteration #2\n",
      "nlms MSE = 0.005430.\n",
      "nlms pre-convergence training iteration #3\n",
      "nlms MSE = 0.004665.\n",
      "nlms pre-convergence training iteration #4\n",
      "nlms MSE = 0.004220.\n",
      "\n",
      "\n",
      "dd-lms - training stage #1\n",
      "dd-lms MSE = 0.002947.\n",
      "Results:\n",
      "\n",
      "SER: 2.46e-03\n",
      "BER: 6.31e-04\n",
      "SNR: 25.25 dB\n",
      "MI: 5.98 bits\n",
      "GMI: 5.97 bits\n",
      "channel 0\t fc : 193.1000 THz\n",
      "  mode #0\t power: 0.00 dBm\n",
      "channel 0\t power: -0.00 dBm\n",
      "\n",
      "total WDM signal power: -0.00 dBm\n",
      "Demodulating channel #0 , fc: 193.1000 THz, λ: 1552.5244 nm\n",
      "\n",
      "Local oscillator P: 12.00 dBm, lw: 0.00 kHz, FO: 19000.00 MHz\n",
      "CSPR = 12.00 dB\n",
      "\n",
      "\n",
      "nlms - training stage #0\n"
     ]
    },
    {
     "data": {
      "application/vnd.jupyter.widget-view+json": {
       "model_id": "3014ae8ed28a46168f859087f6aa7fc8",
       "version_major": 2,
       "version_minor": 0
      },
      "text/plain": [
       "  0%|          | 0/5 [00:00<?, ?it/s]"
      ]
     },
     "metadata": {},
     "output_type": "display_data"
    },
    {
     "name": "stdout",
     "output_type": "stream",
     "text": [
      "nlms pre-convergence training iteration #0\n",
      "nlms MSE = 0.026502.\n",
      "nlms pre-convergence training iteration #1\n",
      "nlms MSE = 0.008769.\n",
      "nlms pre-convergence training iteration #2\n",
      "nlms MSE = 0.006660.\n",
      "nlms pre-convergence training iteration #3\n",
      "nlms MSE = 0.005758.\n",
      "nlms pre-convergence training iteration #4\n",
      "nlms MSE = 0.005294.\n",
      "\n",
      "\n",
      "dd-lms - training stage #1\n",
      "dd-lms MSE = 0.003968.\n",
      "Results:\n",
      "\n",
      "SER: 5.91e-03\n",
      "BER: 1.47e-03\n",
      "SNR: 23.95 dB\n",
      "MI: 5.96 bits\n",
      "GMI: 5.95 bits\n",
      "channel 0\t fc : 193.1000 THz\n",
      "  mode #0\t power: 0.00 dBm\n",
      "channel 0\t power: 0.00 dBm\n",
      "\n",
      "total WDM signal power: 0.00 dBm\n",
      "Demodulating channel #0 , fc: 193.1000 THz, λ: 1552.5244 nm\n",
      "\n",
      "Local oscillator P: 12.00 dBm, lw: 0.00 kHz, FO: 19000.00 MHz\n",
      "CSPR = 12.00 dB\n",
      "\n",
      "\n",
      "nlms - training stage #0\n"
     ]
    },
    {
     "data": {
      "application/vnd.jupyter.widget-view+json": {
       "model_id": "9b6b67b61be142209d7fe734f47e616c",
       "version_major": 2,
       "version_minor": 0
      },
      "text/plain": [
       "  0%|          | 0/5 [00:00<?, ?it/s]"
      ]
     },
     "metadata": {},
     "output_type": "display_data"
    },
    {
     "name": "stdout",
     "output_type": "stream",
     "text": [
      "nlms pre-convergence training iteration #0\n",
      "nlms MSE = 0.030162.\n",
      "nlms pre-convergence training iteration #1\n",
      "nlms MSE = 0.011073.\n",
      "nlms pre-convergence training iteration #2\n",
      "nlms MSE = 0.008365.\n",
      "nlms pre-convergence training iteration #3\n",
      "nlms MSE = 0.007246.\n",
      "nlms pre-convergence training iteration #4\n",
      "nlms MSE = 0.006661.\n",
      "\n",
      "\n",
      "dd-lms - training stage #1\n",
      "dd-lms MSE = 0.005166.\n",
      "Results:\n",
      "\n",
      "SER: 1.40e-02\n",
      "BER: 3.57e-03\n",
      "SNR: 22.72 dB\n",
      "MI: 5.93 bits\n",
      "GMI: 5.89 bits\n",
      "channel 0\t fc : 193.1000 THz\n",
      "  mode #0\t power: 0.00 dBm\n",
      "channel 0\t power: -0.00 dBm\n",
      "\n",
      "total WDM signal power: -0.00 dBm\n",
      "Demodulating channel #0 , fc: 193.1000 THz, λ: 1552.5244 nm\n",
      "\n",
      "Local oscillator P: 12.00 dBm, lw: 0.00 kHz, FO: 19000.00 MHz\n",
      "CSPR = 12.00 dB\n",
      "\n",
      "\n",
      "nlms - training stage #0\n"
     ]
    },
    {
     "data": {
      "application/vnd.jupyter.widget-view+json": {
       "model_id": "7ea3c3985bd649c18720b83486098c92",
       "version_major": 2,
       "version_minor": 0
      },
      "text/plain": [
       "  0%|          | 0/5 [00:00<?, ?it/s]"
      ]
     },
     "metadata": {},
     "output_type": "display_data"
    },
    {
     "name": "stdout",
     "output_type": "stream",
     "text": [
      "nlms pre-convergence training iteration #0\n",
      "nlms MSE = 0.035327.\n",
      "nlms pre-convergence training iteration #1\n",
      "nlms MSE = 0.013923.\n",
      "nlms pre-convergence training iteration #2\n",
      "nlms MSE = 0.010700.\n",
      "nlms pre-convergence training iteration #3\n",
      "nlms MSE = 0.009344.\n",
      "nlms pre-convergence training iteration #4\n",
      "nlms MSE = 0.008591.\n",
      "\n",
      "\n",
      "dd-lms - training stage #1\n",
      "dd-lms MSE = 0.006272.\n",
      "Results:\n",
      "\n",
      "SER: 2.57e-02\n",
      "BER: 6.61e-03\n",
      "SNR: 21.70 dB\n",
      "MI: 5.87 bits\n",
      "GMI: 5.81 bits\n",
      "channel 0\t fc : 193.1000 THz\n",
      "  mode #0\t power: 0.00 dBm\n",
      "channel 0\t power: -0.00 dBm\n",
      "\n",
      "total WDM signal power: -0.00 dBm\n",
      "Demodulating channel #0 , fc: 193.1000 THz, λ: 1552.5244 nm\n",
      "\n",
      "Local oscillator P: 12.00 dBm, lw: 0.00 kHz, FO: 19000.00 MHz\n",
      "CSPR = 12.00 dB\n",
      "\n",
      "\n",
      "nlms - training stage #0\n"
     ]
    },
    {
     "data": {
      "application/vnd.jupyter.widget-view+json": {
       "model_id": "267fdfd799724cd0b27cd5fdbd86083e",
       "version_major": 2,
       "version_minor": 0
      },
      "text/plain": [
       "  0%|          | 0/5 [00:00<?, ?it/s]"
      ]
     },
     "metadata": {},
     "output_type": "display_data"
    },
    {
     "name": "stdout",
     "output_type": "stream",
     "text": [
      "nlms pre-convergence training iteration #0\n",
      "nlms MSE = 0.042201.\n",
      "nlms pre-convergence training iteration #1\n",
      "nlms MSE = 0.017384.\n",
      "nlms pre-convergence training iteration #2\n",
      "nlms MSE = 0.013584.\n",
      "nlms pre-convergence training iteration #3\n",
      "nlms MSE = 0.011956.\n",
      "nlms pre-convergence training iteration #4\n",
      "nlms MSE = 0.011011.\n",
      "\n",
      "\n",
      "dd-lms - training stage #1\n",
      "dd-lms MSE = 0.007374.\n",
      "Results:\n",
      "\n",
      "SER: 4.39e-02\n",
      "BER: 1.15e-02\n",
      "SNR: 20.75 dB\n",
      "MI: 5.79 bits\n",
      "GMI: 5.69 bits\n",
      "channel 0\t fc : 193.1000 THz\n",
      "  mode #0\t power: 0.00 dBm\n",
      "channel 0\t power: 0.00 dBm\n",
      "\n",
      "total WDM signal power: 0.00 dBm\n",
      "Demodulating channel #0 , fc: 193.1000 THz, λ: 1552.5244 nm\n",
      "\n",
      "Local oscillator P: 12.00 dBm, lw: 0.00 kHz, FO: 20000.00 MHz\n",
      "CSPR = 12.00 dB\n",
      "\n",
      "\n",
      "nlms - training stage #0\n"
     ]
    },
    {
     "data": {
      "application/vnd.jupyter.widget-view+json": {
       "model_id": "bf41058f9e5242cc8734da1c48b71c31",
       "version_major": 2,
       "version_minor": 0
      },
      "text/plain": [
       "  0%|          | 0/5 [00:00<?, ?it/s]"
      ]
     },
     "metadata": {},
     "output_type": "display_data"
    },
    {
     "name": "stdout",
     "output_type": "stream",
     "text": [
      "nlms pre-convergence training iteration #0\n",
      "nlms MSE = 0.023135.\n",
      "nlms pre-convergence training iteration #1\n",
      "nlms MSE = 0.002822.\n",
      "nlms pre-convergence training iteration #2\n",
      "nlms MSE = 0.002418.\n",
      "nlms pre-convergence training iteration #3\n",
      "nlms MSE = 0.002186.\n",
      "nlms pre-convergence training iteration #4\n",
      "nlms MSE = 0.002033.\n",
      "\n",
      "\n",
      "dd-lms - training stage #1\n",
      "dd-lms MSE = 0.001489.\n",
      "Results:\n",
      "\n",
      "SER: 1.09e-03\n",
      "BER: 2.69e-04\n",
      "SNR: 28.07 dB\n",
      "MI: 5.98 bits\n",
      "GMI: 5.97 bits\n",
      "channel 0\t fc : 193.1000 THz\n",
      "  mode #0\t power: 0.00 dBm\n",
      "channel 0\t power: -0.00 dBm\n",
      "\n",
      "total WDM signal power: -0.00 dBm\n",
      "Demodulating channel #0 , fc: 193.1000 THz, λ: 1552.5244 nm\n",
      "\n",
      "Local oscillator P: 12.00 dBm, lw: 0.00 kHz, FO: 20000.00 MHz\n",
      "CSPR = 12.00 dB\n",
      "\n",
      "\n",
      "nlms - training stage #0\n"
     ]
    },
    {
     "data": {
      "application/vnd.jupyter.widget-view+json": {
       "model_id": "8e4c386895ac4953a83684e6d81563a1",
       "version_major": 2,
       "version_minor": 0
      },
      "text/plain": [
       "  0%|          | 0/5 [00:00<?, ?it/s]"
      ]
     },
     "metadata": {},
     "output_type": "display_data"
    },
    {
     "name": "stdout",
     "output_type": "stream",
     "text": [
      "nlms pre-convergence training iteration #0\n",
      "nlms MSE = 0.020203.\n",
      "nlms pre-convergence training iteration #1\n",
      "nlms MSE = 0.002937.\n",
      "nlms pre-convergence training iteration #2\n",
      "nlms MSE = 0.002470.\n",
      "nlms pre-convergence training iteration #3\n",
      "nlms MSE = 0.002223.\n",
      "nlms pre-convergence training iteration #4\n",
      "nlms MSE = 0.002071.\n",
      "\n",
      "\n",
      "dd-lms - training stage #1\n",
      "dd-lms MSE = 0.001367.\n",
      "Results:\n",
      "\n",
      "SER: 8.11e-04\n",
      "BER: 2.17e-04\n",
      "SNR: 28.46 dB\n",
      "MI: 5.98 bits\n",
      "GMI: 5.97 bits\n",
      "channel 0\t fc : 193.1000 THz\n",
      "  mode #0\t power: 0.00 dBm\n",
      "channel 0\t power: -0.00 dBm\n",
      "\n",
      "total WDM signal power: -0.00 dBm\n",
      "Demodulating channel #0 , fc: 193.1000 THz, λ: 1552.5244 nm\n",
      "\n",
      "Local oscillator P: 12.00 dBm, lw: 0.00 kHz, FO: 20000.00 MHz\n",
      "CSPR = 12.00 dB\n",
      "\n",
      "\n",
      "nlms - training stage #0\n"
     ]
    },
    {
     "data": {
      "application/vnd.jupyter.widget-view+json": {
       "model_id": "261ed59b020244d3b211a67e930c9f23",
       "version_major": 2,
       "version_minor": 0
      },
      "text/plain": [
       "  0%|          | 0/5 [00:00<?, ?it/s]"
      ]
     },
     "metadata": {},
     "output_type": "display_data"
    },
    {
     "name": "stdout",
     "output_type": "stream",
     "text": [
      "nlms pre-convergence training iteration #0\n",
      "nlms MSE = 0.017431.\n",
      "nlms pre-convergence training iteration #1\n",
      "nlms MSE = 0.002595.\n",
      "nlms pre-convergence training iteration #2\n",
      "nlms MSE = 0.002411.\n",
      "nlms pre-convergence training iteration #3\n",
      "nlms MSE = 0.002281.\n",
      "nlms pre-convergence training iteration #4\n",
      "nlms MSE = 0.002187.\n",
      "\n",
      "\n",
      "dd-lms - training stage #1\n",
      "dd-lms MSE = 0.001478.\n",
      "Results:\n",
      "\n",
      "SER: 1.09e-03\n",
      "BER: 2.56e-04\n",
      "SNR: 28.13 dB\n",
      "MI: 5.98 bits\n",
      "GMI: 5.97 bits\n",
      "channel 0\t fc : 193.1000 THz\n",
      "  mode #0\t power: 0.00 dBm\n",
      "channel 0\t power: 0.00 dBm\n",
      "\n",
      "total WDM signal power: 0.00 dBm\n",
      "Demodulating channel #0 , fc: 193.1000 THz, λ: 1552.5244 nm\n",
      "\n",
      "Local oscillator P: 12.00 dBm, lw: 0.00 kHz, FO: 20000.00 MHz\n",
      "CSPR = 12.00 dB\n",
      "\n",
      "\n",
      "nlms - training stage #0\n"
     ]
    },
    {
     "data": {
      "application/vnd.jupyter.widget-view+json": {
       "model_id": "c917fef4729e4c1999a2d04ae91baf72",
       "version_major": 2,
       "version_minor": 0
      },
      "text/plain": [
       "  0%|          | 0/5 [00:00<?, ?it/s]"
      ]
     },
     "metadata": {},
     "output_type": "display_data"
    },
    {
     "name": "stdout",
     "output_type": "stream",
     "text": [
      "nlms pre-convergence training iteration #0\n",
      "nlms MSE = 0.015844.\n",
      "nlms pre-convergence training iteration #1\n",
      "nlms MSE = 0.002218.\n",
      "nlms pre-convergence training iteration #2\n",
      "nlms MSE = 0.002186.\n",
      "nlms pre-convergence training iteration #3\n",
      "nlms MSE = 0.002156.\n",
      "nlms pre-convergence training iteration #4\n",
      "nlms MSE = 0.002130.\n",
      "\n",
      "\n",
      "dd-lms - training stage #1\n",
      "dd-lms MSE = 0.001665.\n",
      "Results:\n",
      "\n",
      "SER: 1.11e-03\n",
      "BER: 2.70e-04\n",
      "SNR: 27.68 dB\n",
      "MI: 5.98 bits\n",
      "GMI: 5.98 bits\n",
      "channel 0\t fc : 193.1000 THz\n",
      "  mode #0\t power: 0.00 dBm\n",
      "channel 0\t power: 0.00 dBm\n",
      "\n",
      "total WDM signal power: 0.00 dBm\n",
      "Demodulating channel #0 , fc: 193.1000 THz, λ: 1552.5244 nm\n",
      "\n",
      "Local oscillator P: 12.00 dBm, lw: 0.00 kHz, FO: 20000.00 MHz\n",
      "CSPR = 12.00 dB\n",
      "\n",
      "\n",
      "nlms - training stage #0\n"
     ]
    },
    {
     "data": {
      "application/vnd.jupyter.widget-view+json": {
       "model_id": "a1cf78deab5e4ae6b2172de371e3e21f",
       "version_major": 2,
       "version_minor": 0
      },
      "text/plain": [
       "  0%|          | 0/5 [00:00<?, ?it/s]"
      ]
     },
     "metadata": {},
     "output_type": "display_data"
    },
    {
     "name": "stdout",
     "output_type": "stream",
     "text": [
      "nlms pre-convergence training iteration #0\n",
      "nlms MSE = 0.015372.\n",
      "nlms pre-convergence training iteration #1\n",
      "nlms MSE = 0.003136.\n",
      "nlms pre-convergence training iteration #2\n",
      "nlms MSE = 0.003020.\n",
      "nlms pre-convergence training iteration #3\n",
      "nlms MSE = 0.002918.\n",
      "nlms pre-convergence training iteration #4\n",
      "nlms MSE = 0.002828.\n",
      "\n",
      "\n",
      "dd-lms - training stage #1\n",
      "dd-lms MSE = 0.002048.\n",
      "Results:\n",
      "\n",
      "SER: 1.62e-03\n",
      "BER: 4.22e-04\n",
      "SNR: 26.71 dB\n",
      "MI: 5.98 bits\n",
      "GMI: 5.96 bits\n",
      "channel 0\t fc : 193.1000 THz\n",
      "  mode #0\t power: 0.00 dBm\n",
      "channel 0\t power: -0.00 dBm\n",
      "\n",
      "total WDM signal power: -0.00 dBm\n",
      "Demodulating channel #0 , fc: 193.1000 THz, λ: 1552.5244 nm\n",
      "\n",
      "Local oscillator P: 12.00 dBm, lw: 0.00 kHz, FO: 20000.00 MHz\n",
      "CSPR = 12.00 dB\n",
      "\n",
      "\n",
      "nlms - training stage #0\n"
     ]
    },
    {
     "data": {
      "application/vnd.jupyter.widget-view+json": {
       "model_id": "a971c82410ed4c13add187db9b8a725a",
       "version_major": 2,
       "version_minor": 0
      },
      "text/plain": [
       "  0%|          | 0/5 [00:00<?, ?it/s]"
      ]
     },
     "metadata": {},
     "output_type": "display_data"
    },
    {
     "name": "stdout",
     "output_type": "stream",
     "text": [
      "nlms pre-convergence training iteration #0\n",
      "nlms MSE = 0.017529.\n",
      "nlms pre-convergence training iteration #1\n",
      "nlms MSE = 0.004994.\n",
      "nlms pre-convergence training iteration #2\n",
      "nlms MSE = 0.004383.\n",
      "nlms pre-convergence training iteration #3\n",
      "nlms MSE = 0.003950.\n",
      "nlms pre-convergence training iteration #4\n",
      "nlms MSE = 0.003633.\n",
      "\n",
      "\n",
      "dd-lms - training stage #1\n",
      "dd-lms MSE = 0.002495.\n",
      "Results:\n",
      "\n",
      "SER: 2.36e-03\n",
      "BER: 6.07e-04\n",
      "SNR: 25.84 dB\n",
      "MI: 5.98 bits\n",
      "GMI: 5.96 bits\n",
      "channel 0\t fc : 193.1000 THz\n",
      "  mode #0\t power: 0.00 dBm\n",
      "channel 0\t power: -0.00 dBm\n",
      "\n",
      "total WDM signal power: -0.00 dBm\n",
      "Demodulating channel #0 , fc: 193.1000 THz, λ: 1552.5244 nm\n",
      "\n",
      "Local oscillator P: 12.00 dBm, lw: 0.00 kHz, FO: 20000.00 MHz\n",
      "CSPR = 12.00 dB\n",
      "\n",
      "\n",
      "nlms - training stage #0\n"
     ]
    },
    {
     "data": {
      "application/vnd.jupyter.widget-view+json": {
       "model_id": "a850ae8a0a174fab885bd90123828348",
       "version_major": 2,
       "version_minor": 0
      },
      "text/plain": [
       "  0%|          | 0/5 [00:00<?, ?it/s]"
      ]
     },
     "metadata": {},
     "output_type": "display_data"
    },
    {
     "name": "stdout",
     "output_type": "stream",
     "text": [
      "nlms pre-convergence training iteration #0\n",
      "nlms MSE = 0.021252.\n",
      "nlms pre-convergence training iteration #1\n",
      "nlms MSE = 0.007070.\n",
      "nlms pre-convergence training iteration #2\n",
      "nlms MSE = 0.005684.\n",
      "nlms pre-convergence training iteration #3\n",
      "nlms MSE = 0.004912.\n",
      "nlms pre-convergence training iteration #4\n",
      "nlms MSE = 0.004457.\n",
      "\n",
      "\n",
      "dd-lms - training stage #1\n",
      "dd-lms MSE = 0.003133.\n",
      "Results:\n",
      "\n",
      "SER: 3.67e-03\n",
      "BER: 9.33e-04\n",
      "SNR: 24.89 dB\n",
      "MI: 5.97 bits\n",
      "GMI: 5.96 bits\n",
      "channel 0\t fc : 193.1000 THz\n",
      "  mode #0\t power: 0.00 dBm\n",
      "channel 0\t power: 0.00 dBm\n",
      "\n",
      "total WDM signal power: 0.00 dBm\n",
      "Demodulating channel #0 , fc: 193.1000 THz, λ: 1552.5244 nm\n",
      "\n",
      "Local oscillator P: 12.00 dBm, lw: 0.00 kHz, FO: 20000.00 MHz\n",
      "CSPR = 12.00 dB\n",
      "\n",
      "\n",
      "nlms - training stage #0\n"
     ]
    },
    {
     "data": {
      "application/vnd.jupyter.widget-view+json": {
       "model_id": "25a1c3e7b22246588d228dbedd15e7f6",
       "version_major": 2,
       "version_minor": 0
      },
      "text/plain": [
       "  0%|          | 0/5 [00:00<?, ?it/s]"
      ]
     },
     "metadata": {},
     "output_type": "display_data"
    },
    {
     "name": "stdout",
     "output_type": "stream",
     "text": [
      "nlms pre-convergence training iteration #0\n",
      "nlms MSE = 0.025289.\n",
      "nlms pre-convergence training iteration #1\n",
      "nlms MSE = 0.009089.\n",
      "nlms pre-convergence training iteration #2\n",
      "nlms MSE = 0.006950.\n",
      "nlms pre-convergence training iteration #3\n",
      "nlms MSE = 0.005994.\n",
      "nlms pre-convergence training iteration #4\n",
      "nlms MSE = 0.005505.\n",
      "\n",
      "\n",
      "dd-lms - training stage #1\n",
      "dd-lms MSE = 0.004099.\n",
      "Results:\n",
      "\n",
      "SER: 7.11e-03\n",
      "BER: 1.77e-03\n",
      "SNR: 23.76 dB\n",
      "MI: 5.95 bits\n",
      "GMI: 5.93 bits\n",
      "channel 0\t fc : 193.1000 THz\n",
      "  mode #0\t power: 0.00 dBm\n",
      "channel 0\t power: -0.00 dBm\n",
      "\n",
      "total WDM signal power: -0.00 dBm\n",
      "Demodulating channel #0 , fc: 193.1000 THz, λ: 1552.5244 nm\n",
      "\n",
      "Local oscillator P: 12.00 dBm, lw: 0.00 kHz, FO: 20000.00 MHz\n",
      "CSPR = 12.00 dB\n",
      "\n",
      "\n",
      "nlms - training stage #0\n"
     ]
    },
    {
     "data": {
      "application/vnd.jupyter.widget-view+json": {
       "model_id": "8e930da85ac14712acbad9bed5f45a8e",
       "version_major": 2,
       "version_minor": 0
      },
      "text/plain": [
       "  0%|          | 0/5 [00:00<?, ?it/s]"
      ]
     },
     "metadata": {},
     "output_type": "display_data"
    },
    {
     "name": "stdout",
     "output_type": "stream",
     "text": [
      "nlms pre-convergence training iteration #0\n",
      "nlms MSE = 0.029347.\n",
      "nlms pre-convergence training iteration #1\n",
      "nlms MSE = 0.011106.\n",
      "nlms pre-convergence training iteration #2\n",
      "nlms MSE = 0.008428.\n",
      "nlms pre-convergence training iteration #3\n",
      "nlms MSE = 0.007345.\n",
      "nlms pre-convergence training iteration #4\n",
      "nlms MSE = 0.006794.\n",
      "\n",
      "\n",
      "dd-lms - training stage #1\n",
      "dd-lms MSE = 0.005137.\n",
      "Results:\n",
      "\n",
      "SER: 1.36e-02\n",
      "BER: 3.45e-03\n",
      "SNR: 22.69 dB\n",
      "MI: 5.93 bits\n",
      "GMI: 5.89 bits\n",
      "channel 0\t fc : 193.1000 THz\n",
      "  mode #0\t power: 0.00 dBm\n",
      "channel 0\t power: -0.00 dBm\n",
      "\n",
      "total WDM signal power: -0.00 dBm\n",
      "Demodulating channel #0 , fc: 193.1000 THz, λ: 1552.5244 nm\n",
      "\n",
      "Local oscillator P: 12.00 dBm, lw: 0.00 kHz, FO: 20000.00 MHz\n",
      "CSPR = 12.00 dB\n",
      "\n",
      "\n",
      "nlms - training stage #0\n"
     ]
    },
    {
     "data": {
      "application/vnd.jupyter.widget-view+json": {
       "model_id": "86b3b460cd1d4e21b23c20139913b3d4",
       "version_major": 2,
       "version_minor": 0
      },
      "text/plain": [
       "  0%|          | 0/5 [00:00<?, ?it/s]"
      ]
     },
     "metadata": {},
     "output_type": "display_data"
    },
    {
     "name": "stdout",
     "output_type": "stream",
     "text": [
      "nlms pre-convergence training iteration #0\n",
      "nlms MSE = 0.034547.\n",
      "nlms pre-convergence training iteration #1\n",
      "nlms MSE = 0.014007.\n",
      "nlms pre-convergence training iteration #2\n",
      "nlms MSE = 0.010773.\n",
      "nlms pre-convergence training iteration #3\n",
      "nlms MSE = 0.009450.\n",
      "nlms pre-convergence training iteration #4\n",
      "nlms MSE = 0.008734.\n",
      "\n",
      "\n",
      "dd-lms - training stage #1\n",
      "dd-lms MSE = 0.006195.\n",
      "Results:\n",
      "\n",
      "SER: 2.49e-02\n",
      "BER: 6.35e-03\n",
      "SNR: 21.74 dB\n",
      "MI: 5.88 bits\n",
      "GMI: 5.82 bits\n",
      "channel 0\t fc : 193.1000 THz\n",
      "  mode #0\t power: 0.00 dBm\n",
      "channel 0\t power: -0.00 dBm\n",
      "\n",
      "total WDM signal power: -0.00 dBm\n",
      "Demodulating channel #0 , fc: 193.1000 THz, λ: 1552.5244 nm\n",
      "\n",
      "Local oscillator P: 12.00 dBm, lw: 0.00 kHz, FO: 21000.00 MHz\n",
      "CSPR = 12.00 dB\n",
      "\n",
      "\n",
      "nlms - training stage #0\n"
     ]
    },
    {
     "data": {
      "application/vnd.jupyter.widget-view+json": {
       "model_id": "73274a76d72544c98b92836e31516472",
       "version_major": 2,
       "version_minor": 0
      },
      "text/plain": [
       "  0%|          | 0/5 [00:00<?, ?it/s]"
      ]
     },
     "metadata": {},
     "output_type": "display_data"
    },
    {
     "name": "stdout",
     "output_type": "stream",
     "text": [
      "nlms pre-convergence training iteration #0\n",
      "nlms MSE = 0.022838.\n",
      "nlms pre-convergence training iteration #1\n",
      "nlms MSE = 0.003166.\n",
      "nlms pre-convergence training iteration #2\n",
      "nlms MSE = 0.002737.\n",
      "nlms pre-convergence training iteration #3\n",
      "nlms MSE = 0.002494.\n",
      "nlms pre-convergence training iteration #4\n",
      "nlms MSE = 0.002333.\n",
      "\n",
      "\n",
      "dd-lms - training stage #1\n",
      "dd-lms MSE = 0.001698.\n",
      "Results:\n",
      "\n",
      "SER: 1.47e-03\n",
      "BER: 3.65e-04\n",
      "SNR: 27.46 dB\n",
      "MI: 5.98 bits\n",
      "GMI: 5.97 bits\n",
      "channel 0\t fc : 193.1000 THz\n",
      "  mode #0\t power: 0.00 dBm\n",
      "channel 0\t power: -0.00 dBm\n",
      "\n",
      "total WDM signal power: -0.00 dBm\n",
      "Demodulating channel #0 , fc: 193.1000 THz, λ: 1552.5244 nm\n",
      "\n",
      "Local oscillator P: 12.00 dBm, lw: 0.00 kHz, FO: 21000.00 MHz\n",
      "CSPR = 12.00 dB\n",
      "\n",
      "\n",
      "nlms - training stage #0\n"
     ]
    },
    {
     "data": {
      "application/vnd.jupyter.widget-view+json": {
       "model_id": "9a87de4f59b742d48b2866c3c14c859a",
       "version_major": 2,
       "version_minor": 0
      },
      "text/plain": [
       "  0%|          | 0/5 [00:00<?, ?it/s]"
      ]
     },
     "metadata": {},
     "output_type": "display_data"
    },
    {
     "name": "stdout",
     "output_type": "stream",
     "text": [
      "nlms pre-convergence training iteration #0\n",
      "nlms MSE = 0.020421.\n",
      "nlms pre-convergence training iteration #1\n",
      "nlms MSE = 0.003107.\n",
      "nlms pre-convergence training iteration #2\n",
      "nlms MSE = 0.002635.\n",
      "nlms pre-convergence training iteration #3\n",
      "nlms MSE = 0.002386.\n",
      "nlms pre-convergence training iteration #4\n",
      "nlms MSE = 0.002233.\n",
      "\n",
      "\n",
      "dd-lms - training stage #1\n",
      "dd-lms MSE = 0.001637.\n",
      "Results:\n",
      "\n",
      "SER: 1.37e-03\n",
      "BER: 3.43e-04\n",
      "SNR: 27.64 dB\n",
      "MI: 5.97 bits\n",
      "GMI: 5.95 bits\n",
      "channel 0\t fc : 193.1000 THz\n",
      "  mode #0\t power: 0.00 dBm\n",
      "channel 0\t power: -0.00 dBm\n",
      "\n",
      "total WDM signal power: -0.00 dBm\n",
      "Demodulating channel #0 , fc: 193.1000 THz, λ: 1552.5244 nm\n",
      "\n",
      "Local oscillator P: 12.00 dBm, lw: 0.00 kHz, FO: 21000.00 MHz\n",
      "CSPR = 12.00 dB\n",
      "\n",
      "\n",
      "nlms - training stage #0\n"
     ]
    },
    {
     "data": {
      "application/vnd.jupyter.widget-view+json": {
       "model_id": "b88d91f83ff4412494578d8f31d12a26",
       "version_major": 2,
       "version_minor": 0
      },
      "text/plain": [
       "  0%|          | 0/5 [00:00<?, ?it/s]"
      ]
     },
     "metadata": {},
     "output_type": "display_data"
    },
    {
     "name": "stdout",
     "output_type": "stream",
     "text": [
      "nlms pre-convergence training iteration #0\n",
      "nlms MSE = 0.018366.\n",
      "nlms pre-convergence training iteration #1\n",
      "nlms MSE = 0.002832.\n",
      "nlms pre-convergence training iteration #2\n",
      "nlms MSE = 0.002649.\n",
      "nlms pre-convergence training iteration #3\n",
      "nlms MSE = 0.002521.\n",
      "nlms pre-convergence training iteration #4\n",
      "nlms MSE = 0.002427.\n",
      "\n",
      "\n",
      "dd-lms - training stage #1\n",
      "dd-lms MSE = 0.001712.\n",
      "Results:\n",
      "\n",
      "SER: 1.27e-03\n",
      "BER: 3.24e-04\n",
      "SNR: 27.46 dB\n",
      "MI: 5.98 bits\n",
      "GMI: 5.97 bits\n",
      "channel 0\t fc : 193.1000 THz\n",
      "  mode #0\t power: 0.00 dBm\n",
      "channel 0\t power: -0.00 dBm\n",
      "\n",
      "total WDM signal power: -0.00 dBm\n",
      "Demodulating channel #0 , fc: 193.1000 THz, λ: 1552.5244 nm\n",
      "\n",
      "Local oscillator P: 12.00 dBm, lw: 0.00 kHz, FO: 21000.00 MHz\n",
      "CSPR = 12.00 dB\n",
      "\n",
      "\n",
      "nlms - training stage #0\n"
     ]
    },
    {
     "data": {
      "application/vnd.jupyter.widget-view+json": {
       "model_id": "a9174d44097549168e0444e942768f49",
       "version_major": 2,
       "version_minor": 0
      },
      "text/plain": [
       "  0%|          | 0/5 [00:00<?, ?it/s]"
      ]
     },
     "metadata": {},
     "output_type": "display_data"
    },
    {
     "name": "stdout",
     "output_type": "stream",
     "text": [
      "nlms pre-convergence training iteration #0\n",
      "nlms MSE = 0.016049.\n",
      "nlms pre-convergence training iteration #1\n",
      "nlms MSE = 0.002240.\n",
      "nlms pre-convergence training iteration #2\n",
      "nlms MSE = 0.002204.\n",
      "nlms pre-convergence training iteration #3\n",
      "nlms MSE = 0.002172.\n",
      "nlms pre-convergence training iteration #4\n",
      "nlms MSE = 0.002143.\n",
      "\n",
      "\n",
      "dd-lms - training stage #1\n",
      "dd-lms MSE = 0.001818.\n",
      "Results:\n",
      "\n",
      "SER: 1.23e-03\n",
      "BER: 3.17e-04\n",
      "SNR: 27.27 dB\n",
      "MI: 5.98 bits\n",
      "GMI: 5.97 bits\n",
      "channel 0\t fc : 193.1000 THz\n",
      "  mode #0\t power: 0.00 dBm\n",
      "channel 0\t power: 0.00 dBm\n",
      "\n",
      "total WDM signal power: 0.00 dBm\n",
      "Demodulating channel #0 , fc: 193.1000 THz, λ: 1552.5244 nm\n",
      "\n",
      "Local oscillator P: 12.00 dBm, lw: 0.00 kHz, FO: 21000.00 MHz\n",
      "CSPR = 12.00 dB\n",
      "\n",
      "\n",
      "nlms - training stage #0\n"
     ]
    },
    {
     "data": {
      "application/vnd.jupyter.widget-view+json": {
       "model_id": "d9d615aa522144938990cf773f2d5675",
       "version_major": 2,
       "version_minor": 0
      },
      "text/plain": [
       "  0%|          | 0/5 [00:00<?, ?it/s]"
      ]
     },
     "metadata": {},
     "output_type": "display_data"
    },
    {
     "name": "stdout",
     "output_type": "stream",
     "text": [
      "nlms pre-convergence training iteration #0\n",
      "nlms MSE = 0.015129.\n",
      "nlms pre-convergence training iteration #1\n",
      "nlms MSE = 0.002837.\n",
      "nlms pre-convergence training iteration #2\n",
      "nlms MSE = 0.002794.\n",
      "nlms pre-convergence training iteration #3\n",
      "nlms MSE = 0.002754.\n",
      "nlms pre-convergence training iteration #4\n",
      "nlms MSE = 0.002716.\n",
      "\n",
      "\n",
      "dd-lms - training stage #1\n",
      "dd-lms MSE = 0.002029.\n",
      "Results:\n",
      "\n",
      "SER: 1.70e-03\n",
      "BER: 4.13e-04\n",
      "SNR: 26.77 dB\n",
      "MI: 5.98 bits\n",
      "GMI: 5.97 bits\n",
      "channel 0\t fc : 193.1000 THz\n",
      "  mode #0\t power: 0.00 dBm\n",
      "channel 0\t power: -0.00 dBm\n",
      "\n",
      "total WDM signal power: -0.00 dBm\n",
      "Demodulating channel #0 , fc: 193.1000 THz, λ: 1552.5244 nm\n",
      "\n",
      "Local oscillator P: 12.00 dBm, lw: 0.00 kHz, FO: 21000.00 MHz\n",
      "CSPR = 12.00 dB\n",
      "\n",
      "\n",
      "nlms - training stage #0\n"
     ]
    },
    {
     "data": {
      "application/vnd.jupyter.widget-view+json": {
       "model_id": "8bf1c3d6047f4b17b9fce8bb3c863a92",
       "version_major": 2,
       "version_minor": 0
      },
      "text/plain": [
       "  0%|          | 0/5 [00:00<?, ?it/s]"
      ]
     },
     "metadata": {},
     "output_type": "display_data"
    },
    {
     "name": "stdout",
     "output_type": "stream",
     "text": [
      "nlms pre-convergence training iteration #0\n",
      "nlms MSE = 0.016085.\n",
      "nlms pre-convergence training iteration #1\n",
      "nlms MSE = 0.003953.\n",
      "nlms pre-convergence training iteration #2\n",
      "nlms MSE = 0.003800.\n",
      "nlms pre-convergence training iteration #3\n",
      "nlms MSE = 0.003665.\n",
      "nlms pre-convergence training iteration #4\n",
      "nlms MSE = 0.003546.\n",
      "\n",
      "\n",
      "dd-lms - training stage #1\n",
      "dd-lms MSE = 0.002429.\n",
      "Results:\n",
      "\n",
      "SER: 2.18e-03\n",
      "BER: 5.43e-04\n",
      "SNR: 25.97 dB\n",
      "MI: 5.98 bits\n",
      "GMI: 5.97 bits\n",
      "channel 0\t fc : 193.1000 THz\n",
      "  mode #0\t power: 0.00 dBm\n",
      "channel 0\t power: 0.00 dBm\n",
      "\n",
      "total WDM signal power: 0.00 dBm\n",
      "Demodulating channel #0 , fc: 193.1000 THz, λ: 1552.5244 nm\n",
      "\n",
      "Local oscillator P: 12.00 dBm, lw: 0.00 kHz, FO: 21000.00 MHz\n",
      "CSPR = 12.00 dB\n",
      "\n",
      "\n",
      "nlms - training stage #0\n"
     ]
    },
    {
     "data": {
      "application/vnd.jupyter.widget-view+json": {
       "model_id": "c6e5c47c4ae94872bb0a8934d6933d33",
       "version_major": 2,
       "version_minor": 0
      },
      "text/plain": [
       "  0%|          | 0/5 [00:00<?, ?it/s]"
      ]
     },
     "metadata": {},
     "output_type": "display_data"
    },
    {
     "name": "stdout",
     "output_type": "stream",
     "text": [
      "nlms pre-convergence training iteration #0\n",
      "nlms MSE = 0.017438.\n",
      "nlms pre-convergence training iteration #1\n",
      "nlms MSE = 0.005429.\n",
      "nlms pre-convergence training iteration #2\n",
      "nlms MSE = 0.004837.\n",
      "nlms pre-convergence training iteration #3\n",
      "nlms MSE = 0.004408.\n",
      "nlms pre-convergence training iteration #4\n",
      "nlms MSE = 0.004093.\n",
      "\n",
      "\n",
      "dd-lms - training stage #1\n",
      "dd-lms MSE = 0.002933.\n",
      "Results:\n",
      "\n",
      "SER: 3.61e-03\n",
      "BER: 8.50e-04\n",
      "SNR: 25.15 dB\n",
      "MI: 5.96 bits\n",
      "GMI: 5.94 bits\n",
      "channel 0\t fc : 193.1000 THz\n",
      "  mode #0\t power: 0.00 dBm\n",
      "channel 0\t power: -0.00 dBm\n",
      "\n",
      "total WDM signal power: -0.00 dBm\n",
      "Demodulating channel #0 , fc: 193.1000 THz, λ: 1552.5244 nm\n",
      "\n",
      "Local oscillator P: 12.00 dBm, lw: 0.00 kHz, FO: 21000.00 MHz\n",
      "CSPR = 12.00 dB\n",
      "\n",
      "\n",
      "nlms - training stage #0\n"
     ]
    },
    {
     "data": {
      "application/vnd.jupyter.widget-view+json": {
       "model_id": "f25a26b844b245838b1c8723a1359943",
       "version_major": 2,
       "version_minor": 0
      },
      "text/plain": [
       "  0%|          | 0/5 [00:00<?, ?it/s]"
      ]
     },
     "metadata": {},
     "output_type": "display_data"
    },
    {
     "name": "stdout",
     "output_type": "stream",
     "text": [
      "nlms pre-convergence training iteration #0\n",
      "nlms MSE = 0.020351.\n",
      "nlms pre-convergence training iteration #1\n",
      "nlms MSE = 0.007387.\n",
      "nlms pre-convergence training iteration #2\n",
      "nlms MSE = 0.006112.\n",
      "nlms pre-convergence training iteration #3\n",
      "nlms MSE = 0.005383.\n",
      "nlms pre-convergence training iteration #4\n",
      "nlms MSE = 0.004947.\n",
      "\n",
      "\n",
      "dd-lms - training stage #1\n",
      "dd-lms MSE = 0.003605.\n",
      "Results:\n",
      "\n",
      "SER: 5.28e-03\n",
      "BER: 1.39e-03\n",
      "SNR: 24.31 dB\n",
      "MI: 5.96 bits\n",
      "GMI: 5.94 bits\n",
      "channel 0\t fc : 193.1000 THz\n",
      "  mode #0\t power: 0.00 dBm\n",
      "channel 0\t power: -0.00 dBm\n",
      "\n",
      "total WDM signal power: -0.00 dBm\n",
      "Demodulating channel #0 , fc: 193.1000 THz, λ: 1552.5244 nm\n",
      "\n",
      "Local oscillator P: 12.00 dBm, lw: 0.00 kHz, FO: 21000.00 MHz\n",
      "CSPR = 12.00 dB\n",
      "\n",
      "\n",
      "nlms - training stage #0\n"
     ]
    },
    {
     "data": {
      "application/vnd.jupyter.widget-view+json": {
       "model_id": "fae4d80a82e048789cca98a894e97c90",
       "version_major": 2,
       "version_minor": 0
      },
      "text/plain": [
       "  0%|          | 0/5 [00:00<?, ?it/s]"
      ]
     },
     "metadata": {},
     "output_type": "display_data"
    },
    {
     "name": "stdout",
     "output_type": "stream",
     "text": [
      "nlms pre-convergence training iteration #0\n",
      "nlms MSE = 0.023116.\n",
      "nlms pre-convergence training iteration #1\n",
      "nlms MSE = 0.009072.\n",
      "nlms pre-convergence training iteration #2\n",
      "nlms MSE = 0.007192.\n",
      "nlms pre-convergence training iteration #3\n",
      "nlms MSE = 0.006316.\n",
      "nlms pre-convergence training iteration #4\n",
      "nlms MSE = 0.005856.\n",
      "\n",
      "\n",
      "dd-lms - training stage #1\n",
      "dd-lms MSE = 0.004480.\n",
      "Results:\n",
      "\n",
      "SER: 8.76e-03\n",
      "BER: 2.28e-03\n",
      "SNR: 23.32 dB\n",
      "MI: 5.94 bits\n",
      "GMI: 5.91 bits\n",
      "channel 0\t fc : 193.1000 THz\n",
      "  mode #0\t power: 0.00 dBm\n",
      "channel 0\t power: -0.00 dBm\n",
      "\n",
      "total WDM signal power: -0.00 dBm\n",
      "Demodulating channel #0 , fc: 193.1000 THz, λ: 1552.5244 nm\n",
      "\n",
      "Local oscillator P: 12.00 dBm, lw: 0.00 kHz, FO: 21000.00 MHz\n",
      "CSPR = 12.00 dB\n",
      "\n",
      "\n",
      "nlms - training stage #0\n"
     ]
    },
    {
     "data": {
      "application/vnd.jupyter.widget-view+json": {
       "model_id": "bf7b15c170184868b4fff61f29c78872",
       "version_major": 2,
       "version_minor": 0
      },
      "text/plain": [
       "  0%|          | 0/5 [00:00<?, ?it/s]"
      ]
     },
     "metadata": {},
     "output_type": "display_data"
    },
    {
     "name": "stdout",
     "output_type": "stream",
     "text": [
      "nlms pre-convergence training iteration #0\n",
      "nlms MSE = 0.027704.\n",
      "nlms pre-convergence training iteration #1\n",
      "nlms MSE = 0.011237.\n",
      "nlms pre-convergence training iteration #2\n",
      "nlms MSE = 0.008761.\n",
      "nlms pre-convergence training iteration #3\n",
      "nlms MSE = 0.007726.\n",
      "nlms pre-convergence training iteration #4\n",
      "nlms MSE = 0.007188.\n",
      "\n",
      "\n",
      "dd-lms - training stage #1\n",
      "dd-lms MSE = 0.005393.\n",
      "Results:\n",
      "\n",
      "SER: 1.47e-02\n",
      "BER: 3.70e-03\n",
      "SNR: 22.47 dB\n",
      "MI: 5.92 bits\n",
      "GMI: 5.89 bits\n"
     ]
    }
   ],
   "source": [
    "FO_Values = np.arange(1e9, 6e9, 1e9)\n",
    "Rolloff = np.arange(0.01, 0.99, 0.1)\n",
    "\n",
    "BER_KK = np.zeros((FO_Values.size, Rolloff.size))\n",
    "SER_KK = np.zeros((FO_Values.size, Rolloff.size))\n",
    "GMI_KK = np.zeros((FO_Values.size, Rolloff.size))\n",
    "MI_KK  = np.zeros((FO_Values.size, Rolloff.size))\n",
    "SNR_KK = np.zeros((FO_Values.size, Rolloff.size))\n",
    "\n",
    "for indNN, FO_ in enumerate(FO_Values):\n",
    "    for index, indRoll_ in enumerate(Rolloff):\n",
    "        # Main simulation parameters\n",
    "        paramTx.alphaRRC = indRoll_\n",
    "        FO = FO_ + paramTx.Rs/2\n",
    "        \n",
    "        # generate optical signal signal\n",
    "        sigTx, symbTx_, paramTx = simpleWDMTx(paramTx)\n",
    "\n",
    "        # simulate linear signal propagation\n",
    "        sigCh = linFiberCh(sigTx, Ltotal, alpha, D, Fc, Fs)\n",
    "\n",
    "        # receiver detection and demodulation\n",
    "        Fc = paramTx.Fc\n",
    "        Ts = 1 / Fs\n",
    "        mod = QAMModem(m=paramTx.M)\n",
    "\n",
    "        freqGrid = paramTx.freqGrid\n",
    "        print(\n",
    "            \"Demodulating channel #%d , fc: %.4f THz, λ: %.4f nm\\n\"\n",
    "            % (\n",
    "                chIndex,\n",
    "                (Fc + freqGrid[chIndex]) / 1e12,\n",
    "                const.c / (Fc + freqGrid[chIndex]) / 1e-9,\n",
    "            )\n",
    "        )\n",
    "\n",
    "        symbTx = symbTx_[:, :, chIndex]\n",
    "\n",
    "        Plo = 10 ** (Plo_dBm / 10) * 1e-3  # power in W\n",
    "\n",
    "        print(\n",
    "            \"Local oscillator P: %.2f dBm, lw: %.2f kHz, FO: %.2f MHz\"\n",
    "            % (Plo_dBm, lw / 1e3, FO / 1e6)\n",
    "        )\n",
    "\n",
    "        # generate LO field\n",
    "        π = np.pi\n",
    "        t = np.arange(0, len(sigCh))*Ts\n",
    "        ϕ_pn_lo = phaseNoise(lw, len(sigCh), Ts)\n",
    "\n",
    "        sigLO = np.sqrt(Plo) * np.exp(-1j * (2 * π * FO * t + ϕ_lo + ϕ_pn_lo))\n",
    "\n",
    "        # Add LO to the received signal\n",
    "        sigRx = np.sqrt(Plo) + sigCh * np.exp(1j * (2 * π * FO * t + ϕ_lo + ϕ_pn_lo))\n",
    "        sfm = sigRx.copy()\n",
    "\n",
    "        print('CSPR = %.2f dB' % (10*np.log10(signal_power(sigLO)/signal_power(sigCh))))\n",
    "\n",
    "        # ### Phase-retrieval stage\n",
    "\n",
    "        # In[4]:\n",
    "\n",
    "        # resampling to ADC sampling rate\n",
    "        sigCh = resample(sigCh, paramADC)\n",
    "        sfm = resample(sfm, paramADC)\n",
    "        newFs = paramADC.SpS_out*paramTx.Rs\n",
    "\n",
    "        # simulate ideal direct-detection optical receiver\n",
    "        Amp = np.abs(sigRx)\n",
    "        Amp = resample(Amp, paramADC)\n",
    "\n",
    "        # Kramers-Kronig phase-retrieval\n",
    "        phiTime = KramersKronigRx(Amp, newFs)\n",
    "\n",
    "        # optical field reconstruction\n",
    "        sigRx = Amp*np.exp(1j*phiTime)\n",
    "\n",
    "        # remove DC level\n",
    "        sigRx -= np.sqrt(Plo)  # np.mean(sigRx)\n",
    "\n",
    "        # downshift to baseband\n",
    "        t = np.arange(0, len(sigRx))*(1/newFs)\n",
    "        sigRx *= np.exp(-1j * (2 * π * FO * t))\n",
    "\n",
    "        # correct for (possible) phase ambiguity\n",
    "        rot = np.mean(sigCh/sigRx)\n",
    "        sigRx = rot * sigRx\n",
    "        sigRx = sigRx / np.sqrt(signal_power(sigRx))\n",
    "\n",
    "        # #### Standard receiver processing\n",
    "\n",
    "        # In[5]:\n",
    "\n",
    "        # resample to 2 samples/symbol:\n",
    "        paramRes = parameters()\n",
    "        paramRes.Rs = paramTx.Rs\n",
    "        paramRes.SpS_in = paramADC.SpS_out\n",
    "        paramRes.SpS_out = 2\n",
    "\n",
    "        sigRx = resample(sigRx, paramRes)\n",
    "\n",
    "        # Matched filtering and CD compensation\n",
    "\n",
    "        # Matched filtering\n",
    "        if paramTx.pulse == \"nrz\":\n",
    "            pulse = pulseShape(\"nrz\", paramADC.SpS_out)\n",
    "        elif paramTx.pulse == \"rrc\":\n",
    "            pulse = pulseShape(\"rrc\", paramRes.SpS_out, N=paramTx.Ntaps, alpha=paramTx.alphaRRC, Ts=1 / paramTx.Rs)\n",
    "\n",
    "        pulse = pulse / np.max(np.abs(pulse))\n",
    "        sigRx = firFilter(pulse, sigRx)\n",
    "\n",
    "        # plot constellations after matched filtering\n",
    "        #pconst(sigRx[0::paramRes.SpS_out], lim=True, R=3)\n",
    "\n",
    "        # CD compensation\n",
    "        sigRx = edc(sigRx, Ltotal, D, Fc, paramRes.SpS_out*paramTx.Rs)\n",
    "\n",
    "        #plot constellations after CD compensation\n",
    "        #pconst(sigRx[0::paramRes.SpS_out], lim=True, R=2)\n",
    "\n",
    "        # Downsampling to 2 sps and re-synchronization with transmitted sequences\n",
    "        sigRx = sigRx.reshape(-1, 1)\n",
    "\n",
    "        symbRx = symbolSync(sigRx, symbTx, 2)\n",
    "\n",
    "        # In[6]:\n",
    "\n",
    "        # Power normalization\n",
    "        x = sigRx\n",
    "        d = symbRx\n",
    "\n",
    "        x = x.reshape(len(x), 1) / np.sqrt(signal_power(x))\n",
    "        d = d.reshape(len(d), 1) / np.sqrt(signal_power(d))\n",
    "\n",
    "        # Adaptive equalization\n",
    "        mod = QAMModem(m=paramTx.M)\n",
    "\n",
    "        paramEq = parameters()\n",
    "        paramEq.nTaps = 15\n",
    "        paramEq.SpS = 2\n",
    "        paramEq.mu = [5e-3, 2e-3]\n",
    "        paramEq.numIter = 5\n",
    "        paramEq.storeCoeff = False\n",
    "        paramEq.alg = [\"nlms\", \"dd-lms\"]\n",
    "        paramEq.M = paramTx.M\n",
    "        paramEq.L = [20000, 80000]\n",
    "\n",
    "        y_EQ, H, errSq, Hiter = mimoAdaptEqualizer(x, dx=d, paramEq=paramEq)\n",
    "\n",
    "        discard = int(paramEq.L[0]/2)\n",
    "\n",
    "        #plot constellations after adaptive equalization\n",
    "        #pconst(y_EQ[discard:-discard, :], lim=True)\n",
    "\n",
    "        # In[7]:\n",
    "\n",
    "        # Carrier phase recovery\n",
    "        paramCPR = parameters()\n",
    "        paramCPR.alg = \"bps\"\n",
    "        paramCPR.M = paramTx.M\n",
    "        paramCPR.N = 75\n",
    "        paramCPR.B = 64\n",
    "        paramCPR.pilotInd = np.arange(0, len(y_EQ), 20)\n",
    "\n",
    "        y_CPR, θ = cpr(y_EQ, symbTx=d, paramCPR=paramCPR)\n",
    "\n",
    "        y_CPR = y_CPR / np.sqrt(signal_power(y_CPR))\n",
    "\n",
    "        discard = 5000\n",
    "\n",
    "        # plot constellations after CPR\n",
    "        #pconst(y_CPR[discard:-discard, :], lim=True)\n",
    "\n",
    "        # #### Evaluate transmission metrics\n",
    "\n",
    "        # In[8]:\n",
    "\n",
    "        # correct for (possible) phase ambiguity\n",
    "        for k in range(y_CPR.shape[1]):\n",
    "            rot = np.mean(d[:, k] / y_CPR[:, k])\n",
    "            y_CPR[:, k] = rot * y_CPR[:, k]\n",
    "\n",
    "        y_CPR = y_CPR / np.sqrt(signal_power(y_CPR))\n",
    "\n",
    "        ind = np.arange(discard, d.shape[0] - discard)\n",
    "        BER_KK[indNN][index], SER_KK[indNN][index], SNR_KK[indNN][index] = fastBERcalc(y_CPR[ind, :], d[ind, :], mod)\n",
    "        GMI_KK[indNN][index], _ = monteCarloGMI(y_CPR[ind, :], d[ind, :], mod)\n",
    "        MI_KK[indNN][index] = monteCarloMI(y_CPR[ind, :], d[ind, :], mod)\n",
    "\n",
    "        print(\"Results:\\n\")\n",
    "        print(\"SER: %.2e\" % (SER_KK[indNN][index]))\n",
    "        print(\"BER: %.2e\" % (BER_KK[indNN][index]))\n",
    "        print(\"SNR: %.2f dB\" % (SNR_KK[indNN][index]))\n",
    "        print(\"MI: %.2f bits\" % (MI_KK[indNN][index]))\n",
    "        print(\"GMI: %.2f bits\" % (GMI_KK[indNN][index]))\n"
   ]
  },
  {
   "cell_type": "code",
   "execution_count": 8,
   "metadata": {},
   "outputs": [
    {
     "data": {
      "image/png": "[encoded data removed]",
      "text/plain": [
       "<Figure size 720x576 with 2 Axes>"
      ]
     },
     "metadata": {
      "needs_background": "light"
     },
     "output_type": "display_data"
    },
    {
     "data": {
      "text/plain": [
       "<Figure size 432x288 with 0 Axes>"
      ]
     },
     "metadata": {},
     "output_type": "display_data"
    }
   ],
   "source": [
    "x = np.arange(0.01, 0.99, 0.1)\n",
    "y = np.arange(1e9, 6e9, 1e9)\n",
    "\n",
    "x, y = np.meshgrid(x, y)\n",
    "z1 = np.log10(BER_KK)  # shape((5, 10))\n",
    "\n",
    "fig = plt.figure(figsize=(10, 8))\n",
    "ax = plt.axes(projection='3d')\n",
    "\n",
    "surf_KK = ax.plot_surface(x, y, z1, cmap=cm.coolwarm, linewidth=1, antialiased=True, edgecolor='None')\n",
    "fig.colorbar(surf_KK, ax=ax, shrink=0.5, aspect=7)\n",
    "ax.set_xlabel('Rolloff')\n",
    "ax.set_ylabel('FO')\n",
    "ax.set_zlabel('$log(BER)$')\n",
    "ax.view_init(elev=30, azim=215)\n",
    "ax.set_title('BER Surface Plot KK')\n",
    "\n",
    "plt.show()\n",
    "plt.savefig(r'C:\\Users\\Silas João\\Documents\\GitHub\\PIVIC-Comunicacoes-Opticas\\resultados\\results_KKPerformance_64QAM.png', dpi=600)\n"
   ]
  }
 ],
 "metadata": {
  "kernelspec": {
   "display_name": "Python 3 (ipykernel)",
   "language": "python",
   "name": "python3"
  },
  "language_info": {
   "codemirror_mode": {
    "name": "ipython",
    "version": 3
   },
   "file_extension": ".py",
   "mimetype": "text/x-python",
   "name": "python",
   "nbconvert_exporter": "python",
   "pygments_lexer": "ipython3",
   "version": "3.9.9"
  },
  "vscode": {
   "interpreter": {
    "hash": "9d5b6e03d6ac79a37ef7da211c0e283cea2ee331edb1c9b7aa89f897c687f1b0"
   }
  }
 },
 "nbformat": 4,
 "nbformat_minor": 2
}
