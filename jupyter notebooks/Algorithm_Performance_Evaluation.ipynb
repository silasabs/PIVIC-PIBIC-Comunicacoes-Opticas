{
 "cells": [
  {
   "cell_type": "code",
   "execution_count": 1,
   "metadata": {},
   "outputs": [],
   "source": [
    "import matplotlib.pyplot as plt\n",
    "import numpy as np\n",
    "\n",
    "from commpy.modulation import QAMModem\n",
    "\n",
    "from optic.dsp import pulseShape, firFilter, decimate, symbolSync, resample\n",
    "from optic.models import phaseNoise, KramersKronigRx, linFiberCh\n",
    "\n",
    "from optic.tx import simpleWDMTx\n",
    "from optic.core import parameters\n",
    "from optic.equalization import edc, mimoAdaptEqualizer\n",
    "from optic.carrierRecovery import cpr\n",
    "from optic.metrics import fastBERcalc, monteCarloGMI, monteCarloMI, signal_power\n",
    "from optic.plot import pconst\n",
    "\n",
    "import scipy.constants as const\n",
    "\n",
    "from tensorflow.keras.layers import Dense, Dropout, BatchNormalization\n",
    "from tensorflow.keras.models import Sequential\n",
    "from tensorflow.keras.callbacks import EarlyStopping\n",
    "import tensorflow as tf"
   ]
  },
  {
   "cell_type": "markdown",
   "metadata": {},
   "source": [
    "### Simulation of a single polarization optical signal transmission"
   ]
  },
  {
   "cell_type": "code",
   "execution_count": 2,
   "metadata": {},
   "outputs": [],
   "source": [
    "## Transmitter parameters:\n",
    "paramTx = parameters()\n",
    "paramTx.M = 64                 # order of the modulation format\n",
    "paramTx.Rs = 32e9              # symbol rate [baud]\n",
    "paramTx.SpS = 4                # samples per symbol\n",
    "paramTx.Nbits = 600000         # total number of bits per polarization\n",
    "paramTx.pulse = \"rrc\"          # pulse shaping filter\n",
    "paramTx.Ntaps = 1024           # number of pulse shaping filter coefficients\n",
    "#paramTx.alphaRRC = 0.91        # RRC rolloff\n",
    "paramTx.Pch_dBm = 0            # power of the optical signal [dBm]\n",
    "paramTx.Nch = 1                # number of WDM channels\n",
    "paramTx.Fc = 193.1e12          # central frequency of the optical spectrum\n",
    "paramTx.freqSpac = 37.5e9      # WDM grid spacing\n",
    "\n",
    "## Optical channel parameters:\n",
    "Ltotal = 50      # total link distance [km]\n",
    "alpha = 0        # fiber loss parameter [dB/km]\n",
    "D = 16           # fiber dispersion parameter [ps/nm/km]\n",
    "Fc = paramTx.Fc  # central optical frequency of the WDM spectrum [Hz]\n",
    "\n",
    "## Receiver parameters:\n",
    "\n",
    "# local oscillator (LO)\n",
    "#FO = 5e9 + paramTx.Rs/2  # frequency offset\n",
    "lw = 0*200e3       # linewidth\n",
    "ϕ_lo = 0           # initial phase in rad\n",
    "Plo_dBm = 12       # power in dBm\n",
    "\n",
    "# ADC sampling rate\n",
    "paramADC = parameters()\n",
    "paramADC.Rs = paramTx.Rs\n",
    "paramADC.SpS_in = paramTx.SpS\n",
    "paramADC.SpS_out = 4\n",
    "\n",
    "## General simulation parameters:\n",
    "chIndex = 0  # index of the channel to be demodulated\n",
    "plotPSD = True\n",
    "Fs = paramTx.Rs * paramTx.SpS  # simulation sampling rate"
   ]
  },
  {
   "cell_type": "code",
   "execution_count": 14,
   "metadata": {},
   "outputs": [],
   "source": [
    "plt.rcParams['font.size'] = 10\n",
    "plt.rcParams['lines.linewidth'] = 1\n",
    "plt.rcParams['text.usetex'] = False"
   ]
  },
  {
   "cell_type": "markdown",
   "metadata": {},
   "source": [
    "### Neural Network Performance Analysis"
   ]
  },
  {
   "cell_type": "code",
   "execution_count": 4,
   "metadata": {},
   "outputs": [
    {
     "name": "stdout",
     "output_type": "stream",
     "text": [
      "channel 0\t fc : 193.1000 THz\n",
      "  mode #0\t power: 0.00 dBm\n",
      "channel 0\t power: 0.00 dBm\n",
      "\n",
      "total WDM dignal power: 0.00 dBm\n",
      "Demodulating channel #0 , fc: 193.1000 THz, λ: 1552.5244 nm\n",
      "\n",
      "Local oscillator P: 12.00 dBm, lw: 0.00 kHz, FO: 17000.00 MHz\n",
      "CSPR = 12.00 dB\n",
      "\n",
      "\n",
      "nlms - training stage #0\n"
     ]
    },
    {
     "data": {
      "application/vnd.jupyter.widget-view+json": {
       "model_id": "3e37d46547a34e5b9d67d32ea2488c7b",
       "version_major": 2,
       "version_minor": 0
      },
      "text/plain": [
       "  0%|          | 0/5 [00:00<?, ?it/s]"
      ]
     },
     "metadata": {},
     "output_type": "display_data"
    },
    {
     "name": "stdout",
     "output_type": "stream",
     "text": [
      "nlms pre-convergence training iteration #0\n",
      "nlms MSE = 0.022730.\n",
      "nlms pre-convergence training iteration #1\n",
      "nlms MSE = 0.003081.\n",
      "nlms pre-convergence training iteration #2\n",
      "nlms MSE = 0.002686.\n",
      "nlms pre-convergence training iteration #3\n",
      "nlms MSE = 0.002462.\n",
      "nlms pre-convergence training iteration #4\n",
      "nlms MSE = 0.002316.\n",
      "\n",
      "\n",
      "dd-lms - training stage #1\n",
      "dd-lms MSE = 0.001053.\n",
      "Results:\n",
      "\n",
      "SER: 2.89e-04\n",
      "BER: 4.81e-05\n",
      "SNR: 29.56 dB\n",
      "MI: 6.00 bits\n",
      "GMI: 5.99 bits\n",
      "channel 0\t fc : 193.1000 THz\n",
      "  mode #0\t power: 0.00 dBm\n",
      "channel 0\t power: 0.00 dBm\n",
      "\n",
      "total WDM dignal power: 0.00 dBm\n",
      "Demodulating channel #0 , fc: 193.1000 THz, λ: 1552.5244 nm\n",
      "\n",
      "Local oscillator P: 12.00 dBm, lw: 0.00 kHz, FO: 17000.00 MHz\n",
      "CSPR = 12.00 dB\n",
      "\n",
      "\n",
      "nlms - training stage #0\n"
     ]
    },
    {
     "data": {
      "application/vnd.jupyter.widget-view+json": {
       "model_id": "792eee9a51764975b8ad00effeab9fb4",
       "version_major": 2,
       "version_minor": 0
      },
      "text/plain": [
       "  0%|          | 0/5 [00:00<?, ?it/s]"
      ]
     },
     "metadata": {},
     "output_type": "display_data"
    },
    {
     "name": "stdout",
     "output_type": "stream",
     "text": [
      "nlms pre-convergence training iteration #0\n",
      "nlms MSE = 0.021584.\n",
      "nlms pre-convergence training iteration #1\n",
      "nlms MSE = 0.003609.\n",
      "nlms pre-convergence training iteration #2\n",
      "nlms MSE = 0.003105.\n",
      "nlms pre-convergence training iteration #3\n",
      "nlms MSE = 0.002846.\n",
      "nlms pre-convergence training iteration #4\n",
      "nlms MSE = 0.002690.\n",
      "\n",
      "\n",
      "dd-lms - training stage #1\n",
      "dd-lms MSE = 0.001126.\n",
      "Results:\n",
      "\n",
      "SER: 1.11e-04\n",
      "BER: 1.85e-05\n",
      "SNR: 29.34 dB\n",
      "MI: 6.00 bits\n",
      "GMI: 6.00 bits\n",
      "channel 0\t fc : 193.1000 THz\n",
      "  mode #0\t power: 0.00 dBm\n",
      "channel 0\t power: 0.00 dBm\n",
      "\n",
      "total WDM dignal power: 0.00 dBm\n",
      "Demodulating channel #0 , fc: 193.1000 THz, λ: 1552.5244 nm\n",
      "\n",
      "Local oscillator P: 12.00 dBm, lw: 0.00 kHz, FO: 17000.00 MHz\n",
      "CSPR = 12.00 dB\n",
      "\n",
      "\n",
      "nlms - training stage #0\n"
     ]
    },
    {
     "data": {
      "application/vnd.jupyter.widget-view+json": {
       "model_id": "befd0d2d0d1d473d96acc309e9a3415e",
       "version_major": 2,
       "version_minor": 0
      },
      "text/plain": [
       "  0%|          | 0/5 [00:00<?, ?it/s]"
      ]
     },
     "metadata": {},
     "output_type": "display_data"
    },
    {
     "name": "stdout",
     "output_type": "stream",
     "text": [
      "nlms pre-convergence training iteration #0\n",
      "nlms MSE = 0.021498.\n",
      "nlms pre-convergence training iteration #1\n",
      "nlms MSE = 0.004705.\n",
      "nlms pre-convergence training iteration #2\n",
      "nlms MSE = 0.004177.\n",
      "nlms pre-convergence training iteration #3\n",
      "nlms MSE = 0.003854.\n",
      "nlms pre-convergence training iteration #4\n",
      "nlms MSE = 0.003636.\n",
      "\n",
      "\n",
      "dd-lms - training stage #1\n",
      "dd-lms MSE = 0.002659.\n",
      "Results:\n",
      "\n",
      "SER: 1.38e-03\n",
      "BER: 2.33e-04\n",
      "SNR: 25.69 dB\n",
      "MI: 5.99 bits\n",
      "GMI: 5.99 bits\n",
      "channel 0\t fc : 193.1000 THz\n",
      "  mode #0\t power: 0.00 dBm\n",
      "channel 0\t power: -0.00 dBm\n",
      "\n",
      "total WDM dignal power: -0.00 dBm\n",
      "Demodulating channel #0 , fc: 193.1000 THz, λ: 1552.5244 nm\n",
      "\n",
      "Local oscillator P: 12.00 dBm, lw: 0.00 kHz, FO: 17000.00 MHz\n",
      "CSPR = 12.00 dB\n",
      "\n",
      "\n",
      "nlms - training stage #0\n"
     ]
    },
    {
     "data": {
      "application/vnd.jupyter.widget-view+json": {
       "model_id": "7bad7d86fa8e43b79cbfd4908e6a9255",
       "version_major": 2,
       "version_minor": 0
      },
      "text/plain": [
       "  0%|          | 0/5 [00:00<?, ?it/s]"
      ]
     },
     "metadata": {},
     "output_type": "display_data"
    },
    {
     "name": "stdout",
     "output_type": "stream",
     "text": [
      "nlms pre-convergence training iteration #0\n",
      "nlms MSE = 0.025117.\n",
      "nlms pre-convergence training iteration #1\n",
      "nlms MSE = 0.007918.\n",
      "nlms pre-convergence training iteration #2\n",
      "nlms MSE = 0.006791.\n",
      "nlms pre-convergence training iteration #3\n",
      "nlms MSE = 0.006090.\n",
      "nlms pre-convergence training iteration #4\n",
      "nlms MSE = 0.005609.\n",
      "\n",
      "\n",
      "dd-lms - training stage #1\n",
      "dd-lms MSE = 0.004090.\n",
      "Results:\n",
      "\n",
      "SER: 5.78e-03\n",
      "BER: 9.72e-04\n",
      "SNR: 23.71 dB\n",
      "MI: 5.97 bits\n",
      "GMI: 5.97 bits\n",
      "channel 0\t fc : 193.1000 THz\n",
      "  mode #0\t power: 0.00 dBm\n",
      "channel 0\t power: -0.00 dBm\n",
      "\n",
      "total WDM dignal power: -0.00 dBm\n",
      "Demodulating channel #0 , fc: 193.1000 THz, λ: 1552.5244 nm\n",
      "\n",
      "Local oscillator P: 12.00 dBm, lw: 0.00 kHz, FO: 17000.00 MHz\n",
      "CSPR = 12.00 dB\n",
      "\n",
      "\n",
      "nlms - training stage #0\n"
     ]
    },
    {
     "data": {
      "application/vnd.jupyter.widget-view+json": {
       "model_id": "424ac60037264fe4b3470935dbae2d20",
       "version_major": 2,
       "version_minor": 0
      },
      "text/plain": [
       "  0%|          | 0/5 [00:00<?, ?it/s]"
      ]
     },
     "metadata": {},
     "output_type": "display_data"
    },
    {
     "name": "stdout",
     "output_type": "stream",
     "text": [
      "nlms pre-convergence training iteration #0\n",
      "nlms MSE = 0.030587.\n",
      "nlms pre-convergence training iteration #1\n",
      "nlms MSE = 0.011424.\n",
      "nlms pre-convergence training iteration #2\n",
      "nlms MSE = 0.009221.\n",
      "nlms pre-convergence training iteration #3\n",
      "nlms MSE = 0.007940.\n",
      "nlms pre-convergence training iteration #4\n",
      "nlms MSE = 0.007119.\n",
      "\n",
      "\n",
      "dd-lms - training stage #1\n",
      "dd-lms MSE = 0.004864.\n",
      "Results:\n",
      "\n",
      "SER: 1.11e-02\n",
      "BER: 1.88e-03\n",
      "SNR: 22.88 dB\n",
      "MI: 5.95 bits\n",
      "GMI: 5.94 bits\n",
      "channel 0\t fc : 193.1000 THz\n",
      "  mode #0\t power: 0.00 dBm\n",
      "channel 0\t power: -0.00 dBm\n",
      "\n",
      "total WDM dignal power: -0.00 dBm\n",
      "Demodulating channel #0 , fc: 193.1000 THz, λ: 1552.5244 nm\n",
      "\n",
      "Local oscillator P: 12.00 dBm, lw: 0.00 kHz, FO: 17000.00 MHz\n",
      "CSPR = 12.00 dB\n",
      "\n",
      "\n",
      "nlms - training stage #0\n"
     ]
    },
    {
     "data": {
      "application/vnd.jupyter.widget-view+json": {
       "model_id": "8cfa1f9560b54c48a1f3e23f4f1c51fc",
       "version_major": 2,
       "version_minor": 0
      },
      "text/plain": [
       "  0%|          | 0/5 [00:00<?, ?it/s]"
      ]
     },
     "metadata": {},
     "output_type": "display_data"
    },
    {
     "name": "stdout",
     "output_type": "stream",
     "text": [
      "nlms pre-convergence training iteration #0\n",
      "nlms MSE = 0.034580.\n",
      "nlms pre-convergence training iteration #1\n",
      "nlms MSE = 0.016133.\n",
      "nlms pre-convergence training iteration #2\n",
      "nlms MSE = 0.013566.\n",
      "nlms pre-convergence training iteration #3\n",
      "nlms MSE = 0.012057.\n",
      "nlms pre-convergence training iteration #4\n",
      "nlms MSE = 0.011111.\n",
      "\n",
      "\n",
      "dd-lms - training stage #1\n",
      "dd-lms MSE = 0.008141.\n",
      "Results:\n",
      "\n",
      "SER: 5.02e-02\n",
      "BER: 8.56e-03\n",
      "SNR: 20.33 dB\n",
      "MI: 5.78 bits\n",
      "GMI: 5.78 bits\n",
      "channel 0\t fc : 193.1000 THz\n",
      "  mode #0\t power: 0.00 dBm\n",
      "channel 0\t power: 0.00 dBm\n",
      "\n",
      "total WDM dignal power: 0.00 dBm\n",
      "Demodulating channel #0 , fc: 193.1000 THz, λ: 1552.5244 nm\n",
      "\n",
      "Local oscillator P: 12.00 dBm, lw: 0.00 kHz, FO: 17000.00 MHz\n",
      "CSPR = 12.00 dB\n",
      "\n",
      "\n",
      "nlms - training stage #0\n"
     ]
    },
    {
     "data": {
      "application/vnd.jupyter.widget-view+json": {
       "model_id": "e6499985386b46169d2752d0076ed76d",
       "version_major": 2,
       "version_minor": 0
      },
      "text/plain": [
       "  0%|          | 0/5 [00:00<?, ?it/s]"
      ]
     },
     "metadata": {},
     "output_type": "display_data"
    },
    {
     "name": "stdout",
     "output_type": "stream",
     "text": [
      "nlms pre-convergence training iteration #0\n",
      "nlms MSE = 0.040638.\n",
      "nlms pre-convergence training iteration #1\n",
      "nlms MSE = 0.017266.\n",
      "nlms pre-convergence training iteration #2\n",
      "nlms MSE = 0.013153.\n",
      "nlms pre-convergence training iteration #3\n",
      "nlms MSE = 0.011146.\n",
      "nlms pre-convergence training iteration #4\n",
      "nlms MSE = 0.010026.\n",
      "\n",
      "\n",
      "dd-lms - training stage #1\n",
      "dd-lms MSE = 0.006874.\n",
      "Results:\n",
      "\n",
      "SER: 3.22e-02\n",
      "BER: 5.46e-03\n",
      "SNR: 21.19 dB\n",
      "MI: 5.86 bits\n",
      "GMI: 5.86 bits\n",
      "channel 0\t fc : 193.1000 THz\n",
      "  mode #0\t power: 0.00 dBm\n",
      "channel 0\t power: -0.00 dBm\n",
      "\n",
      "total WDM dignal power: -0.00 dBm\n",
      "Demodulating channel #0 , fc: 193.1000 THz, λ: 1552.5244 nm\n",
      "\n",
      "Local oscillator P: 12.00 dBm, lw: 0.00 kHz, FO: 17000.00 MHz\n",
      "CSPR = 12.00 dB\n",
      "\n",
      "\n",
      "nlms - training stage #0\n"
     ]
    },
    {
     "data": {
      "application/vnd.jupyter.widget-view+json": {
       "model_id": "097e0da2511240c59254a4bb8bb9d659",
       "version_major": 2,
       "version_minor": 0
      },
      "text/plain": [
       "  0%|          | 0/5 [00:00<?, ?it/s]"
      ]
     },
     "metadata": {},
     "output_type": "display_data"
    },
    {
     "name": "stdout",
     "output_type": "stream",
     "text": [
      "nlms pre-convergence training iteration #0\n",
      "nlms MSE = 0.046846.\n",
      "nlms pre-convergence training iteration #1\n",
      "nlms MSE = 0.021867.\n",
      "nlms pre-convergence training iteration #2\n",
      "nlms MSE = 0.016756.\n",
      "nlms pre-convergence training iteration #3\n",
      "nlms MSE = 0.014289.\n",
      "nlms pre-convergence training iteration #4\n",
      "nlms MSE = 0.012903.\n",
      "\n",
      "\n",
      "dd-lms - training stage #1\n",
      "dd-lms MSE = 0.008601.\n",
      "Results:\n",
      "\n",
      "SER: 6.10e-02\n",
      "BER: 1.05e-02\n",
      "SNR: 19.97 dB\n",
      "MI: 5.74 bits\n",
      "GMI: 5.74 bits\n",
      "channel 0\t fc : 193.1000 THz\n",
      "  mode #0\t power: 0.00 dBm\n",
      "channel 0\t power: 0.00 dBm\n",
      "\n",
      "total WDM dignal power: 0.00 dBm\n",
      "Demodulating channel #0 , fc: 193.1000 THz, λ: 1552.5244 nm\n",
      "\n",
      "Local oscillator P: 12.00 dBm, lw: 0.00 kHz, FO: 17000.00 MHz\n",
      "CSPR = 12.00 dB\n",
      "\n",
      "\n",
      "nlms - training stage #0\n"
     ]
    },
    {
     "data": {
      "application/vnd.jupyter.widget-view+json": {
       "model_id": "c5c67b89e8d341519495929e3c341b4f",
       "version_major": 2,
       "version_minor": 0
      },
      "text/plain": [
       "  0%|          | 0/5 [00:00<?, ?it/s]"
      ]
     },
     "metadata": {},
     "output_type": "display_data"
    },
    {
     "name": "stdout",
     "output_type": "stream",
     "text": [
      "nlms pre-convergence training iteration #0\n",
      "nlms MSE = 0.052756.\n",
      "nlms pre-convergence training iteration #1\n",
      "nlms MSE = 0.024893.\n",
      "nlms pre-convergence training iteration #2\n",
      "nlms MSE = 0.018975.\n",
      "nlms pre-convergence training iteration #3\n",
      "nlms MSE = 0.016209.\n",
      "nlms pre-convergence training iteration #4\n",
      "nlms MSE = 0.014647.\n",
      "\n",
      "\n",
      "dd-lms - training stage #1\n",
      "dd-lms MSE = 0.009609.\n",
      "Results:\n",
      "\n",
      "SER: 8.59e-02\n",
      "BER: 1.48e-02\n",
      "SNR: 19.30 dB\n",
      "MI: 5.64 bits\n",
      "GMI: 5.64 bits\n",
      "channel 0\t fc : 193.1000 THz\n",
      "  mode #0\t power: 0.00 dBm\n",
      "channel 0\t power: 0.00 dBm\n",
      "\n",
      "total WDM dignal power: 0.00 dBm\n",
      "Demodulating channel #0 , fc: 193.1000 THz, λ: 1552.5244 nm\n",
      "\n",
      "Local oscillator P: 12.00 dBm, lw: 0.00 kHz, FO: 17000.00 MHz\n",
      "CSPR = 12.00 dB\n",
      "\n",
      "\n",
      "nlms - training stage #0\n"
     ]
    },
    {
     "data": {
      "application/vnd.jupyter.widget-view+json": {
       "model_id": "4263c3d03b954e62b5b85fea952cfb93",
       "version_major": 2,
       "version_minor": 0
      },
      "text/plain": [
       "  0%|          | 0/5 [00:00<?, ?it/s]"
      ]
     },
     "metadata": {},
     "output_type": "display_data"
    },
    {
     "name": "stdout",
     "output_type": "stream",
     "text": [
      "nlms pre-convergence training iteration #0\n",
      "nlms MSE = 0.058408.\n",
      "nlms pre-convergence training iteration #1\n",
      "nlms MSE = 0.033341.\n",
      "nlms pre-convergence training iteration #2\n",
      "nlms MSE = 0.026916.\n",
      "nlms pre-convergence training iteration #3\n",
      "nlms MSE = 0.023741.\n",
      "nlms pre-convergence training iteration #4\n",
      "nlms MSE = 0.021923.\n",
      "\n",
      "\n",
      "dd-lms - training stage #1\n",
      "dd-lms MSE = 0.013524.\n",
      "Results:\n",
      "\n",
      "SER: 2.27e-01\n",
      "BER: 4.07e-02\n",
      "SNR: 16.64 dB\n",
      "MI: 5.08 bits\n",
      "GMI: 5.08 bits\n",
      "channel 0\t fc : 193.1000 THz\n",
      "  mode #0\t power: 0.00 dBm\n",
      "channel 0\t power: -0.00 dBm\n",
      "\n",
      "total WDM dignal power: -0.00 dBm\n",
      "Demodulating channel #0 , fc: 193.1000 THz, λ: 1552.5244 nm\n",
      "\n",
      "Local oscillator P: 12.00 dBm, lw: 0.00 kHz, FO: 18000.00 MHz\n",
      "CSPR = 12.00 dB\n",
      "\n",
      "\n",
      "nlms - training stage #0\n"
     ]
    },
    {
     "data": {
      "application/vnd.jupyter.widget-view+json": {
       "model_id": "f35bf5a18f704f0aa2d7f2ce50642d1f",
       "version_major": 2,
       "version_minor": 0
      },
      "text/plain": [
       "  0%|          | 0/5 [00:00<?, ?it/s]"
      ]
     },
     "metadata": {},
     "output_type": "display_data"
    },
    {
     "name": "stdout",
     "output_type": "stream",
     "text": [
      "nlms pre-convergence training iteration #0\n",
      "nlms MSE = 0.022437.\n",
      "nlms pre-convergence training iteration #1\n",
      "nlms MSE = 0.002692.\n",
      "nlms pre-convergence training iteration #2\n",
      "nlms MSE = 0.002285.\n",
      "nlms pre-convergence training iteration #3\n",
      "nlms MSE = 0.002051.\n",
      "nlms pre-convergence training iteration #4\n",
      "nlms MSE = 0.001897.\n",
      "\n",
      "\n",
      "dd-lms - training stage #1\n",
      "dd-lms MSE = 0.001201.\n",
      "Results:\n",
      "\n",
      "SER: 4.11e-04\n",
      "BER: 7.04e-05\n",
      "SNR: 29.05 dB\n",
      "MI: 5.99 bits\n",
      "GMI: 5.99 bits\n",
      "channel 0\t fc : 193.1000 THz\n",
      "  mode #0\t power: 0.00 dBm\n",
      "channel 0\t power: 0.00 dBm\n",
      "\n",
      "total WDM dignal power: 0.00 dBm\n",
      "Demodulating channel #0 , fc: 193.1000 THz, λ: 1552.5244 nm\n",
      "\n",
      "Local oscillator P: 12.00 dBm, lw: 0.00 kHz, FO: 18000.00 MHz\n",
      "CSPR = 12.00 dB\n",
      "\n",
      "\n",
      "nlms - training stage #0\n"
     ]
    },
    {
     "data": {
      "application/vnd.jupyter.widget-view+json": {
       "model_id": "7309798d3d6048c59d926a2ade643d2f",
       "version_major": 2,
       "version_minor": 0
      },
      "text/plain": [
       "  0%|          | 0/5 [00:00<?, ?it/s]"
      ]
     },
     "metadata": {},
     "output_type": "display_data"
    },
    {
     "name": "stdout",
     "output_type": "stream",
     "text": [
      "nlms pre-convergence training iteration #0\n",
      "nlms MSE = 0.019854.\n",
      "nlms pre-convergence training iteration #1\n",
      "nlms MSE = 0.002260.\n",
      "nlms pre-convergence training iteration #2\n",
      "nlms MSE = 0.001784.\n",
      "nlms pre-convergence training iteration #3\n",
      "nlms MSE = 0.001529.\n",
      "nlms pre-convergence training iteration #4\n",
      "nlms MSE = 0.001371.\n",
      "\n",
      "\n",
      "dd-lms - training stage #1\n",
      "dd-lms MSE = 0.000959.\n",
      "Results:\n",
      "\n",
      "SER: 1.22e-04\n",
      "BER: 2.04e-05\n",
      "SNR: 29.98 dB\n",
      "MI: 6.00 bits\n",
      "GMI: 6.00 bits\n",
      "channel 0\t fc : 193.1000 THz\n",
      "  mode #0\t power: 0.00 dBm\n",
      "channel 0\t power: -0.00 dBm\n",
      "\n",
      "total WDM dignal power: -0.00 dBm\n",
      "Demodulating channel #0 , fc: 193.1000 THz, λ: 1552.5244 nm\n",
      "\n",
      "Local oscillator P: 12.00 dBm, lw: 0.00 kHz, FO: 18000.00 MHz\n",
      "CSPR = 12.00 dB\n",
      "\n",
      "\n",
      "nlms - training stage #0\n"
     ]
    },
    {
     "data": {
      "application/vnd.jupyter.widget-view+json": {
       "model_id": "1e1c056aeefd4c019a1c9c8795f57170",
       "version_major": 2,
       "version_minor": 0
      },
      "text/plain": [
       "  0%|          | 0/5 [00:00<?, ?it/s]"
      ]
     },
     "metadata": {},
     "output_type": "display_data"
    },
    {
     "name": "stdout",
     "output_type": "stream",
     "text": [
      "nlms pre-convergence training iteration #0\n",
      "nlms MSE = 0.018056.\n",
      "nlms pre-convergence training iteration #1\n",
      "nlms MSE = 0.002616.\n",
      "nlms pre-convergence training iteration #2\n",
      "nlms MSE = 0.002415.\n",
      "nlms pre-convergence training iteration #3\n",
      "nlms MSE = 0.002280.\n",
      "nlms pre-convergence training iteration #4\n",
      "nlms MSE = 0.002183.\n",
      "\n",
      "\n",
      "dd-lms - training stage #1\n",
      "dd-lms MSE = 0.001106.\n",
      "Results:\n",
      "\n",
      "SER: 4.44e-05\n",
      "BER: 7.41e-06\n",
      "SNR: 29.45 dB\n",
      "MI: 6.01 bits\n",
      "GMI: 6.00 bits\n",
      "channel 0\t fc : 193.1000 THz\n",
      "  mode #0\t power: 0.00 dBm\n",
      "channel 0\t power: 0.00 dBm\n",
      "\n",
      "total WDM dignal power: 0.00 dBm\n",
      "Demodulating channel #0 , fc: 193.1000 THz, λ: 1552.5244 nm\n",
      "\n",
      "Local oscillator P: 12.00 dBm, lw: 0.00 kHz, FO: 18000.00 MHz\n",
      "CSPR = 12.00 dB\n",
      "\n",
      "\n",
      "nlms - training stage #0\n"
     ]
    },
    {
     "data": {
      "application/vnd.jupyter.widget-view+json": {
       "model_id": "61f45e2b27174f64b9669b570763ab98",
       "version_major": 2,
       "version_minor": 0
      },
      "text/plain": [
       "  0%|          | 0/5 [00:00<?, ?it/s]"
      ]
     },
     "metadata": {},
     "output_type": "display_data"
    },
    {
     "name": "stdout",
     "output_type": "stream",
     "text": [
      "nlms pre-convergence training iteration #0\n",
      "nlms MSE = 0.019030.\n",
      "nlms pre-convergence training iteration #1\n",
      "nlms MSE = 0.004055.\n",
      "nlms pre-convergence training iteration #2\n",
      "nlms MSE = 0.003772.\n",
      "nlms pre-convergence training iteration #3\n",
      "nlms MSE = 0.003561.\n",
      "nlms pre-convergence training iteration #4\n",
      "nlms MSE = 0.003396.\n",
      "\n",
      "\n",
      "dd-lms - training stage #1\n",
      "dd-lms MSE = 0.002098.\n",
      "Results:\n",
      "\n",
      "SER: 3.22e-04\n",
      "BER: 5.37e-05\n",
      "SNR: 26.64 dB\n",
      "MI: 6.00 bits\n",
      "GMI: 6.00 bits\n",
      "channel 0\t fc : 193.1000 THz\n",
      "  mode #0\t power: 0.00 dBm\n",
      "channel 0\t power: 0.00 dBm\n",
      "\n",
      "total WDM dignal power: 0.00 dBm\n",
      "Demodulating channel #0 , fc: 193.1000 THz, λ: 1552.5244 nm\n",
      "\n",
      "Local oscillator P: 12.00 dBm, lw: 0.00 kHz, FO: 18000.00 MHz\n",
      "CSPR = 12.00 dB\n",
      "\n",
      "\n",
      "nlms - training stage #0\n"
     ]
    },
    {
     "data": {
      "application/vnd.jupyter.widget-view+json": {
       "model_id": "b89a59b728df4a76ac3c7bb7885033ca",
       "version_major": 2,
       "version_minor": 0
      },
      "text/plain": [
       "  0%|          | 0/5 [00:00<?, ?it/s]"
      ]
     },
     "metadata": {},
     "output_type": "display_data"
    },
    {
     "name": "stdout",
     "output_type": "stream",
     "text": [
      "nlms pre-convergence training iteration #0\n",
      "nlms MSE = 0.021550.\n",
      "nlms pre-convergence training iteration #1\n",
      "nlms MSE = 0.006152.\n",
      "nlms pre-convergence training iteration #2\n",
      "nlms MSE = 0.005216.\n",
      "nlms pre-convergence training iteration #3\n",
      "nlms MSE = 0.004585.\n",
      "nlms pre-convergence training iteration #4\n",
      "nlms MSE = 0.004134.\n",
      "\n",
      "\n",
      "dd-lms - training stage #1\n",
      "dd-lms MSE = 0.002499.\n",
      "Results:\n",
      "\n",
      "SER: 9.00e-04\n",
      "BER: 1.50e-04\n",
      "SNR: 25.78 dB\n",
      "MI: 5.99 bits\n",
      "GMI: 5.99 bits\n",
      "channel 0\t fc : 193.1000 THz\n",
      "  mode #0\t power: 0.00 dBm\n",
      "channel 0\t power: 0.00 dBm\n",
      "\n",
      "total WDM dignal power: 0.00 dBm\n",
      "Demodulating channel #0 , fc: 193.1000 THz, λ: 1552.5244 nm\n",
      "\n",
      "Local oscillator P: 12.00 dBm, lw: 0.00 kHz, FO: 18000.00 MHz\n",
      "CSPR = 12.00 dB\n",
      "\n",
      "\n",
      "nlms - training stage #0\n"
     ]
    },
    {
     "data": {
      "application/vnd.jupyter.widget-view+json": {
       "model_id": "d7b7934b09e84df1a767df97e39b5ccc",
       "version_major": 2,
       "version_minor": 0
      },
      "text/plain": [
       "  0%|          | 0/5 [00:00<?, ?it/s]"
      ]
     },
     "metadata": {},
     "output_type": "display_data"
    },
    {
     "name": "stdout",
     "output_type": "stream",
     "text": [
      "nlms pre-convergence training iteration #0\n",
      "nlms MSE = 0.025026.\n",
      "nlms pre-convergence training iteration #1\n",
      "nlms MSE = 0.008499.\n",
      "nlms pre-convergence training iteration #2\n",
      "nlms MSE = 0.006802.\n",
      "nlms pre-convergence training iteration #3\n",
      "nlms MSE = 0.005781.\n",
      "nlms pre-convergence training iteration #4\n",
      "nlms MSE = 0.005129.\n",
      "\n",
      "\n",
      "dd-lms - training stage #1\n",
      "dd-lms MSE = 0.003426.\n",
      "Results:\n",
      "\n",
      "SER: 2.99e-03\n",
      "BER: 5.02e-04\n",
      "SNR: 24.43 dB\n",
      "MI: 5.98 bits\n",
      "GMI: 5.98 bits\n",
      "channel 0\t fc : 193.1000 THz\n",
      "  mode #0\t power: 0.00 dBm\n",
      "channel 0\t power: -0.00 dBm\n",
      "\n",
      "total WDM dignal power: -0.00 dBm\n",
      "Demodulating channel #0 , fc: 193.1000 THz, λ: 1552.5244 nm\n",
      "\n",
      "Local oscillator P: 12.00 dBm, lw: 0.00 kHz, FO: 18000.00 MHz\n",
      "CSPR = 12.00 dB\n",
      "\n",
      "\n",
      "nlms - training stage #0\n"
     ]
    },
    {
     "data": {
      "application/vnd.jupyter.widget-view+json": {
       "model_id": "6beaf64e5d44483da74d1cb85c37bcc2",
       "version_major": 2,
       "version_minor": 0
      },
      "text/plain": [
       "  0%|          | 0/5 [00:00<?, ?it/s]"
      ]
     },
     "metadata": {},
     "output_type": "display_data"
    },
    {
     "name": "stdout",
     "output_type": "stream",
     "text": [
      "nlms pre-convergence training iteration #0\n",
      "nlms MSE = 0.031331.\n",
      "nlms pre-convergence training iteration #1\n",
      "nlms MSE = 0.012629.\n",
      "nlms pre-convergence training iteration #2\n",
      "nlms MSE = 0.009761.\n",
      "nlms pre-convergence training iteration #3\n",
      "nlms MSE = 0.008245.\n",
      "nlms pre-convergence training iteration #4\n",
      "nlms MSE = 0.007374.\n",
      "\n",
      "\n",
      "dd-lms - training stage #1\n",
      "dd-lms MSE = 0.005198.\n",
      "Results:\n",
      "\n",
      "SER: 1.30e-02\n",
      "BER: 2.19e-03\n",
      "SNR: 22.54 dB\n",
      "MI: 5.94 bits\n",
      "GMI: 5.94 bits\n",
      "channel 0\t fc : 193.1000 THz\n",
      "  mode #0\t power: 0.00 dBm\n",
      "channel 0\t power: -0.00 dBm\n",
      "\n",
      "total WDM dignal power: -0.00 dBm\n",
      "Demodulating channel #0 , fc: 193.1000 THz, λ: 1552.5244 nm\n",
      "\n",
      "Local oscillator P: 12.00 dBm, lw: 0.00 kHz, FO: 18000.00 MHz\n",
      "CSPR = 12.00 dB\n",
      "\n",
      "\n",
      "nlms - training stage #0\n"
     ]
    },
    {
     "data": {
      "application/vnd.jupyter.widget-view+json": {
       "model_id": "f6e593bff074426d96b58e7163058752",
       "version_major": 2,
       "version_minor": 0
      },
      "text/plain": [
       "  0%|          | 0/5 [00:00<?, ?it/s]"
      ]
     },
     "metadata": {},
     "output_type": "display_data"
    },
    {
     "name": "stdout",
     "output_type": "stream",
     "text": [
      "nlms pre-convergence training iteration #0\n",
      "nlms MSE = 0.036798.\n",
      "nlms pre-convergence training iteration #1\n",
      "nlms MSE = 0.017994.\n",
      "nlms pre-convergence training iteration #2\n",
      "nlms MSE = 0.014569.\n",
      "nlms pre-convergence training iteration #3\n",
      "nlms MSE = 0.012707.\n",
      "nlms pre-convergence training iteration #4\n",
      "nlms MSE = 0.011629.\n",
      "\n",
      "\n",
      "dd-lms - training stage #1\n",
      "dd-lms MSE = 0.008641.\n",
      "Results:\n",
      "\n",
      "SER: 5.86e-02\n",
      "BER: 1.00e-02\n",
      "SNR: 20.02 dB\n",
      "MI: 5.75 bits\n",
      "GMI: 5.75 bits\n",
      "channel 0\t fc : 193.1000 THz\n",
      "  mode #0\t power: 0.00 dBm\n",
      "channel 0\t power: 0.00 dBm\n",
      "\n",
      "total WDM dignal power: 0.00 dBm\n",
      "Demodulating channel #0 , fc: 193.1000 THz, λ: 1552.5244 nm\n",
      "\n",
      "Local oscillator P: 12.00 dBm, lw: 0.00 kHz, FO: 18000.00 MHz\n",
      "CSPR = 12.00 dB\n",
      "\n",
      "\n",
      "nlms - training stage #0\n"
     ]
    },
    {
     "data": {
      "application/vnd.jupyter.widget-view+json": {
       "model_id": "ca467f3817fe444983ac4a8f2c5215a4",
       "version_major": 2,
       "version_minor": 0
      },
      "text/plain": [
       "  0%|          | 0/5 [00:00<?, ?it/s]"
      ]
     },
     "metadata": {},
     "output_type": "display_data"
    },
    {
     "name": "stdout",
     "output_type": "stream",
     "text": [
      "nlms pre-convergence training iteration #0\n",
      "nlms MSE = 0.041202.\n",
      "nlms pre-convergence training iteration #1\n",
      "nlms MSE = 0.017722.\n",
      "nlms pre-convergence training iteration #2\n",
      "nlms MSE = 0.013166.\n",
      "nlms pre-convergence training iteration #3\n",
      "nlms MSE = 0.011050.\n",
      "nlms pre-convergence training iteration #4\n",
      "nlms MSE = 0.009884.\n",
      "\n",
      "\n",
      "dd-lms - training stage #1\n",
      "dd-lms MSE = 0.006647.\n",
      "Results:\n",
      "\n",
      "SER: 3.00e-02\n",
      "BER: 5.07e-03\n",
      "SNR: 21.30 dB\n",
      "MI: 5.86 bits\n",
      "GMI: 5.86 bits\n",
      "channel 0\t fc : 193.1000 THz\n",
      "  mode #0\t power: 0.00 dBm\n",
      "channel 0\t power: -0.00 dBm\n",
      "\n",
      "total WDM dignal power: -0.00 dBm\n",
      "Demodulating channel #0 , fc: 193.1000 THz, λ: 1552.5244 nm\n",
      "\n",
      "Local oscillator P: 12.00 dBm, lw: 0.00 kHz, FO: 18000.00 MHz\n",
      "CSPR = 12.00 dB\n",
      "\n",
      "\n",
      "nlms - training stage #0\n"
     ]
    },
    {
     "data": {
      "application/vnd.jupyter.widget-view+json": {
       "model_id": "6ea117f737604a96b5e7cfcd90a51f38",
       "version_major": 2,
       "version_minor": 0
      },
      "text/plain": [
       "  0%|          | 0/5 [00:00<?, ?it/s]"
      ]
     },
     "metadata": {},
     "output_type": "display_data"
    },
    {
     "name": "stdout",
     "output_type": "stream",
     "text": [
      "nlms pre-convergence training iteration #0\n",
      "nlms MSE = 0.046875.\n",
      "nlms pre-convergence training iteration #1\n",
      "nlms MSE = 0.020861.\n",
      "nlms pre-convergence training iteration #2\n",
      "nlms MSE = 0.015333.\n",
      "nlms pre-convergence training iteration #3\n",
      "nlms MSE = 0.012729.\n",
      "nlms pre-convergence training iteration #4\n",
      "nlms MSE = 0.011254.\n",
      "\n",
      "\n",
      "dd-lms - training stage #1\n",
      "dd-lms MSE = 0.007345.\n",
      "Results:\n",
      "\n",
      "SER: 4.03e-02\n",
      "BER: 6.86e-03\n",
      "SNR: 20.76 dB\n",
      "MI: 5.82 bits\n",
      "GMI: 5.82 bits\n",
      "channel 0\t fc : 193.1000 THz\n",
      "  mode #0\t power: 0.00 dBm\n",
      "channel 0\t power: -0.00 dBm\n",
      "\n",
      "total WDM dignal power: -0.00 dBm\n",
      "Demodulating channel #0 , fc: 193.1000 THz, λ: 1552.5244 nm\n",
      "\n",
      "Local oscillator P: 12.00 dBm, lw: 0.00 kHz, FO: 19000.00 MHz\n",
      "CSPR = 12.00 dB\n",
      "\n",
      "\n",
      "nlms - training stage #0\n"
     ]
    },
    {
     "data": {
      "application/vnd.jupyter.widget-view+json": {
       "model_id": "e4c25008a58b47438342be60c0a9a043",
       "version_major": 2,
       "version_minor": 0
      },
      "text/plain": [
       "  0%|          | 0/5 [00:00<?, ?it/s]"
      ]
     },
     "metadata": {},
     "output_type": "display_data"
    },
    {
     "name": "stdout",
     "output_type": "stream",
     "text": [
      "nlms pre-convergence training iteration #0\n",
      "nlms MSE = 0.022749.\n",
      "nlms pre-convergence training iteration #1\n",
      "nlms MSE = 0.002573.\n",
      "nlms pre-convergence training iteration #2\n",
      "nlms MSE = 0.002158.\n",
      "nlms pre-convergence training iteration #3\n",
      "nlms MSE = 0.001920.\n",
      "nlms pre-convergence training iteration #4\n",
      "nlms MSE = 0.001764.\n",
      "\n",
      "\n",
      "dd-lms - training stage #1\n",
      "dd-lms MSE = 0.001154.\n",
      "Results:\n",
      "\n",
      "SER: 2.00e-04\n",
      "BER: 3.52e-05\n",
      "SNR: 29.17 dB\n",
      "MI: 6.00 bits\n",
      "GMI: 6.00 bits\n",
      "channel 0\t fc : 193.1000 THz\n",
      "  mode #0\t power: 0.00 dBm\n",
      "channel 0\t power: 0.00 dBm\n",
      "\n",
      "total WDM dignal power: 0.00 dBm\n",
      "Demodulating channel #0 , fc: 193.1000 THz, λ: 1552.5244 nm\n",
      "\n",
      "Local oscillator P: 12.00 dBm, lw: 0.00 kHz, FO: 19000.00 MHz\n",
      "CSPR = 12.00 dB\n",
      "\n",
      "\n",
      "nlms - training stage #0\n"
     ]
    },
    {
     "data": {
      "application/vnd.jupyter.widget-view+json": {
       "model_id": "8ccefd7cb1cc4f5abf3a2ae9cc303b22",
       "version_major": 2,
       "version_minor": 0
      },
      "text/plain": [
       "  0%|          | 0/5 [00:00<?, ?it/s]"
      ]
     },
     "metadata": {},
     "output_type": "display_data"
    },
    {
     "name": "stdout",
     "output_type": "stream",
     "text": [
      "nlms pre-convergence training iteration #0\n",
      "nlms MSE = 0.019761.\n",
      "nlms pre-convergence training iteration #1\n",
      "nlms MSE = 0.002332.\n",
      "nlms pre-convergence training iteration #2\n",
      "nlms MSE = 0.001864.\n",
      "nlms pre-convergence training iteration #3\n",
      "nlms MSE = 0.001614.\n",
      "nlms pre-convergence training iteration #4\n",
      "nlms MSE = 0.001460.\n",
      "\n",
      "\n",
      "dd-lms - training stage #1\n",
      "dd-lms MSE = 0.000907.\n",
      "Results:\n",
      "\n",
      "SER: 2.00e-04\n",
      "BER: 3.33e-05\n",
      "SNR: 30.19 dB\n",
      "MI: 6.00 bits\n",
      "GMI: 6.00 bits\n",
      "channel 0\t fc : 193.1000 THz\n",
      "  mode #0\t power: 0.00 dBm\n",
      "channel 0\t power: 0.00 dBm\n",
      "\n",
      "total WDM dignal power: 0.00 dBm\n",
      "Demodulating channel #0 , fc: 193.1000 THz, λ: 1552.5244 nm\n",
      "\n",
      "Local oscillator P: 12.00 dBm, lw: 0.00 kHz, FO: 19000.00 MHz\n",
      "CSPR = 12.00 dB\n",
      "\n",
      "\n",
      "nlms - training stage #0\n"
     ]
    },
    {
     "data": {
      "application/vnd.jupyter.widget-view+json": {
       "model_id": "658932dd20aa430595ed63dd91b3295a",
       "version_major": 2,
       "version_minor": 0
      },
      "text/plain": [
       "  0%|          | 0/5 [00:00<?, ?it/s]"
      ]
     },
     "metadata": {},
     "output_type": "display_data"
    },
    {
     "name": "stdout",
     "output_type": "stream",
     "text": [
      "nlms pre-convergence training iteration #0\n",
      "nlms MSE = 0.018047.\n",
      "nlms pre-convergence training iteration #1\n",
      "nlms MSE = 0.002801.\n",
      "nlms pre-convergence training iteration #2\n",
      "nlms MSE = 0.002623.\n",
      "nlms pre-convergence training iteration #3\n",
      "nlms MSE = 0.002498.\n",
      "nlms pre-convergence training iteration #4\n",
      "nlms MSE = 0.002407.\n",
      "\n",
      "\n",
      "dd-lms - training stage #1\n",
      "dd-lms MSE = 0.001296.\n",
      "Results:\n",
      "\n",
      "SER: 2.33e-04\n",
      "BER: 3.89e-05\n",
      "SNR: 28.73 dB\n",
      "MI: 6.00 bits\n",
      "GMI: 6.00 bits\n",
      "channel 0\t fc : 193.1000 THz\n",
      "  mode #0\t power: 0.00 dBm\n",
      "channel 0\t power: -0.00 dBm\n",
      "\n",
      "total WDM dignal power: -0.00 dBm\n",
      "Demodulating channel #0 , fc: 193.1000 THz, λ: 1552.5244 nm\n",
      "\n",
      "Local oscillator P: 12.00 dBm, lw: 0.00 kHz, FO: 19000.00 MHz\n",
      "CSPR = 12.00 dB\n",
      "\n",
      "\n",
      "nlms - training stage #0\n"
     ]
    },
    {
     "data": {
      "application/vnd.jupyter.widget-view+json": {
       "model_id": "c90ffbecdc6c4610b3a136047542bb43",
       "version_major": 2,
       "version_minor": 0
      },
      "text/plain": [
       "  0%|          | 0/5 [00:00<?, ?it/s]"
      ]
     },
     "metadata": {},
     "output_type": "display_data"
    },
    {
     "name": "stdout",
     "output_type": "stream",
     "text": [
      "nlms pre-convergence training iteration #0\n",
      "nlms MSE = 0.016890.\n",
      "nlms pre-convergence training iteration #1\n",
      "nlms MSE = 0.002765.\n",
      "nlms pre-convergence training iteration #2\n",
      "nlms MSE = 0.002724.\n",
      "nlms pre-convergence training iteration #3\n",
      "nlms MSE = 0.002689.\n",
      "nlms pre-convergence training iteration #4\n",
      "nlms MSE = 0.002658.\n",
      "\n",
      "\n",
      "dd-lms - training stage #1\n",
      "dd-lms MSE = 0.001570.\n",
      "Results:\n",
      "\n",
      "SER: 3.44e-04\n",
      "BER: 5.74e-05\n",
      "SNR: 27.99 dB\n",
      "MI: 6.00 bits\n",
      "GMI: 6.00 bits\n",
      "channel 0\t fc : 193.1000 THz\n",
      "  mode #0\t power: 0.00 dBm\n",
      "channel 0\t power: -0.00 dBm\n",
      "\n",
      "total WDM dignal power: -0.00 dBm\n",
      "Demodulating channel #0 , fc: 193.1000 THz, λ: 1552.5244 nm\n",
      "\n",
      "Local oscillator P: 12.00 dBm, lw: 0.00 kHz, FO: 19000.00 MHz\n",
      "CSPR = 12.00 dB\n",
      "\n",
      "\n",
      "nlms - training stage #0\n"
     ]
    },
    {
     "data": {
      "application/vnd.jupyter.widget-view+json": {
       "model_id": "a061d7fad3084a06b83aede003ec05c1",
       "version_major": 2,
       "version_minor": 0
      },
      "text/plain": [
       "  0%|          | 0/5 [00:00<?, ?it/s]"
      ]
     },
     "metadata": {},
     "output_type": "display_data"
    },
    {
     "name": "stdout",
     "output_type": "stream",
     "text": [
      "nlms pre-convergence training iteration #0\n",
      "nlms MSE = 0.017118.\n",
      "nlms pre-convergence training iteration #1\n",
      "nlms MSE = 0.003532.\n",
      "nlms pre-convergence training iteration #2\n",
      "nlms MSE = 0.003316.\n",
      "nlms pre-convergence training iteration #3\n",
      "nlms MSE = 0.003144.\n",
      "nlms pre-convergence training iteration #4\n",
      "nlms MSE = 0.003002.\n",
      "\n",
      "\n",
      "dd-lms - training stage #1\n",
      "dd-lms MSE = 0.001692.\n",
      "Results:\n",
      "\n",
      "SER: 2.11e-04\n",
      "BER: 3.52e-05\n",
      "SNR: 27.47 dB\n",
      "MI: 6.00 bits\n",
      "GMI: 6.00 bits\n",
      "channel 0\t fc : 193.1000 THz\n",
      "  mode #0\t power: 0.00 dBm\n",
      "channel 0\t power: -0.00 dBm\n",
      "\n",
      "total WDM dignal power: -0.00 dBm\n",
      "Demodulating channel #0 , fc: 193.1000 THz, λ: 1552.5244 nm\n",
      "\n",
      "Local oscillator P: 12.00 dBm, lw: 0.00 kHz, FO: 19000.00 MHz\n",
      "CSPR = 12.00 dB\n",
      "\n",
      "\n",
      "nlms - training stage #0\n"
     ]
    },
    {
     "data": {
      "application/vnd.jupyter.widget-view+json": {
       "model_id": "e8aee992cb604a9ea6fea23c931cfcf7",
       "version_major": 2,
       "version_minor": 0
      },
      "text/plain": [
       "  0%|          | 0/5 [00:00<?, ?it/s]"
      ]
     },
     "metadata": {},
     "output_type": "display_data"
    },
    {
     "name": "stdout",
     "output_type": "stream",
     "text": [
      "nlms pre-convergence training iteration #0\n",
      "nlms MSE = 0.019164.\n",
      "nlms pre-convergence training iteration #1\n",
      "nlms MSE = 0.005548.\n",
      "nlms pre-convergence training iteration #2\n",
      "nlms MSE = 0.004728.\n",
      "nlms pre-convergence training iteration #3\n",
      "nlms MSE = 0.004161.\n",
      "nlms pre-convergence training iteration #4\n",
      "nlms MSE = 0.003755.\n",
      "\n",
      "\n",
      "dd-lms - training stage #1\n",
      "dd-lms MSE = 0.002223.\n",
      "Results:\n",
      "\n",
      "SER: 4.22e-04\n",
      "BER: 7.22e-05\n",
      "SNR: 26.29 dB\n",
      "MI: 6.00 bits\n",
      "GMI: 6.00 bits\n",
      "channel 0\t fc : 193.1000 THz\n",
      "  mode #0\t power: 0.00 dBm\n",
      "channel 0\t power: -0.00 dBm\n",
      "\n",
      "total WDM dignal power: -0.00 dBm\n",
      "Demodulating channel #0 , fc: 193.1000 THz, λ: 1552.5244 nm\n",
      "\n",
      "Local oscillator P: 12.00 dBm, lw: 0.00 kHz, FO: 19000.00 MHz\n",
      "CSPR = 12.00 dB\n",
      "\n",
      "\n",
      "nlms - training stage #0\n"
     ]
    },
    {
     "data": {
      "application/vnd.jupyter.widget-view+json": {
       "model_id": "cbe7596adb8c48bdb6ad1562f3906cfa",
       "version_major": 2,
       "version_minor": 0
      },
      "text/plain": [
       "  0%|          | 0/5 [00:00<?, ?it/s]"
      ]
     },
     "metadata": {},
     "output_type": "display_data"
    },
    {
     "name": "stdout",
     "output_type": "stream",
     "text": [
      "nlms pre-convergence training iteration #0\n",
      "nlms MSE = 0.023079.\n",
      "nlms pre-convergence training iteration #1\n",
      "nlms MSE = 0.008403.\n",
      "nlms pre-convergence training iteration #2\n",
      "nlms MSE = 0.006736.\n",
      "nlms pre-convergence training iteration #3\n",
      "nlms MSE = 0.005701.\n",
      "nlms pre-convergence training iteration #4\n",
      "nlms MSE = 0.005034.\n",
      "\n",
      "\n",
      "dd-lms - training stage #1\n",
      "dd-lms MSE = 0.003362.\n",
      "Results:\n",
      "\n",
      "SER: 2.51e-03\n",
      "BER: 4.19e-04\n",
      "SNR: 24.51 dB\n",
      "MI: 5.99 bits\n",
      "GMI: 5.99 bits\n",
      "channel 0\t fc : 193.1000 THz\n",
      "  mode #0\t power: 0.00 dBm\n",
      "channel 0\t power: 0.00 dBm\n",
      "\n",
      "total WDM dignal power: 0.00 dBm\n",
      "Demodulating channel #0 , fc: 193.1000 THz, λ: 1552.5244 nm\n",
      "\n",
      "Local oscillator P: 12.00 dBm, lw: 0.00 kHz, FO: 19000.00 MHz\n",
      "CSPR = 12.00 dB\n",
      "\n",
      "\n",
      "nlms - training stage #0\n"
     ]
    },
    {
     "data": {
      "application/vnd.jupyter.widget-view+json": {
       "model_id": "7e6223cf6fcb4f368bf27ddd0ff2b3fe",
       "version_major": 2,
       "version_minor": 0
      },
      "text/plain": [
       "  0%|          | 0/5 [00:00<?, ?it/s]"
      ]
     },
     "metadata": {},
     "output_type": "display_data"
    },
    {
     "name": "stdout",
     "output_type": "stream",
     "text": [
      "nlms pre-convergence training iteration #0\n",
      "nlms MSE = 0.027642.\n",
      "nlms pre-convergence training iteration #1\n",
      "nlms MSE = 0.010531.\n",
      "nlms pre-convergence training iteration #2\n",
      "nlms MSE = 0.007975.\n",
      "nlms pre-convergence training iteration #3\n",
      "nlms MSE = 0.006578.\n",
      "nlms pre-convergence training iteration #4\n",
      "nlms MSE = 0.005773.\n",
      "\n",
      "\n",
      "dd-lms - training stage #1\n",
      "dd-lms MSE = 0.004165.\n",
      "Results:\n",
      "\n",
      "SER: 5.36e-03\n",
      "BER: 9.04e-04\n",
      "SNR: 23.61 dB\n",
      "MI: 5.97 bits\n",
      "GMI: 5.97 bits\n",
      "channel 0\t fc : 193.1000 THz\n",
      "  mode #0\t power: 0.00 dBm\n",
      "channel 0\t power: -0.00 dBm\n",
      "\n",
      "total WDM dignal power: -0.00 dBm\n",
      "Demodulating channel #0 , fc: 193.1000 THz, λ: 1552.5244 nm\n",
      "\n",
      "Local oscillator P: 12.00 dBm, lw: 0.00 kHz, FO: 19000.00 MHz\n",
      "CSPR = 12.00 dB\n",
      "\n",
      "\n",
      "nlms - training stage #0\n"
     ]
    },
    {
     "data": {
      "application/vnd.jupyter.widget-view+json": {
       "model_id": "68218b3fed2348b3956014db74127485",
       "version_major": 2,
       "version_minor": 0
      },
      "text/plain": [
       "  0%|          | 0/5 [00:00<?, ?it/s]"
      ]
     },
     "metadata": {},
     "output_type": "display_data"
    },
    {
     "name": "stdout",
     "output_type": "stream",
     "text": [
      "nlms pre-convergence training iteration #0\n",
      "nlms MSE = 0.032752.\n",
      "nlms pre-convergence training iteration #1\n",
      "nlms MSE = 0.017403.\n",
      "nlms pre-convergence training iteration #2\n",
      "nlms MSE = 0.014937.\n",
      "nlms pre-convergence training iteration #3\n",
      "nlms MSE = 0.013439.\n",
      "nlms pre-convergence training iteration #4\n",
      "nlms MSE = 0.012493.\n",
      "\n",
      "\n",
      "dd-lms - training stage #1\n",
      "dd-lms MSE = 0.009075.\n",
      "Results:\n",
      "\n",
      "SER: 7.63e-02\n",
      "BER: 1.31e-02\n",
      "SNR: 19.59 dB\n",
      "MI: 5.67 bits\n",
      "GMI: 5.67 bits\n",
      "channel 0\t fc : 193.1000 THz\n",
      "  mode #0\t power: 0.00 dBm\n",
      "channel 0\t power: -0.00 dBm\n",
      "\n",
      "total WDM dignal power: -0.00 dBm\n",
      "Demodulating channel #0 , fc: 193.1000 THz, λ: 1552.5244 nm\n",
      "\n",
      "Local oscillator P: 12.00 dBm, lw: 0.00 kHz, FO: 19000.00 MHz\n",
      "CSPR = 12.00 dB\n",
      "\n",
      "\n",
      "nlms - training stage #0\n"
     ]
    },
    {
     "data": {
      "application/vnd.jupyter.widget-view+json": {
       "model_id": "9d744915201f4e89ac1f80135249ea82",
       "version_major": 2,
       "version_minor": 0
      },
      "text/plain": [
       "  0%|          | 0/5 [00:00<?, ?it/s]"
      ]
     },
     "metadata": {},
     "output_type": "display_data"
    },
    {
     "name": "stdout",
     "output_type": "stream",
     "text": [
      "nlms pre-convergence training iteration #0\n",
      "nlms MSE = 0.036642.\n",
      "nlms pre-convergence training iteration #1\n",
      "nlms MSE = 0.016419.\n",
      "nlms pre-convergence training iteration #2\n",
      "nlms MSE = 0.012174.\n",
      "nlms pre-convergence training iteration #3\n",
      "nlms MSE = 0.010060.\n",
      "nlms pre-convergence training iteration #4\n",
      "nlms MSE = 0.008880.\n",
      "\n",
      "\n",
      "dd-lms - training stage #1\n",
      "dd-lms MSE = 0.006127.\n",
      "Results:\n",
      "\n",
      "SER: 2.12e-02\n",
      "BER: 3.57e-03\n",
      "SNR: 21.76 dB\n",
      "MI: 5.91 bits\n",
      "GMI: 5.90 bits\n",
      "channel 0\t fc : 193.1000 THz\n",
      "  mode #0\t power: 0.00 dBm\n",
      "channel 0\t power: -0.00 dBm\n",
      "\n",
      "total WDM dignal power: -0.00 dBm\n",
      "Demodulating channel #0 , fc: 193.1000 THz, λ: 1552.5244 nm\n",
      "\n",
      "Local oscillator P: 12.00 dBm, lw: 0.00 kHz, FO: 20000.00 MHz\n",
      "CSPR = 12.00 dB\n",
      "\n",
      "\n",
      "nlms - training stage #0\n"
     ]
    },
    {
     "data": {
      "application/vnd.jupyter.widget-view+json": {
       "model_id": "385155cedccc4597a7401c5d4d8e09ca",
       "version_major": 2,
       "version_minor": 0
      },
      "text/plain": [
       "  0%|          | 0/5 [00:00<?, ?it/s]"
      ]
     },
     "metadata": {},
     "output_type": "display_data"
    },
    {
     "name": "stdout",
     "output_type": "stream",
     "text": [
      "nlms pre-convergence training iteration #0\n",
      "nlms MSE = 0.021973.\n",
      "nlms pre-convergence training iteration #1\n",
      "nlms MSE = 0.002425.\n",
      "nlms pre-convergence training iteration #2\n",
      "nlms MSE = 0.002008.\n",
      "nlms pre-convergence training iteration #3\n",
      "nlms MSE = 0.001769.\n",
      "nlms pre-convergence training iteration #4\n",
      "nlms MSE = 0.001611.\n",
      "\n",
      "\n",
      "dd-lms - training stage #1\n",
      "dd-lms MSE = 0.000967.\n",
      "Results:\n",
      "\n",
      "SER: 4.22e-04\n",
      "BER: 7.22e-05\n",
      "SNR: 29.87 dB\n",
      "MI: 6.00 bits\n",
      "GMI: 5.99 bits\n",
      "channel 0\t fc : 193.1000 THz\n",
      "  mode #0\t power: 0.00 dBm\n",
      "channel 0\t power: -0.00 dBm\n",
      "\n",
      "total WDM dignal power: -0.00 dBm\n",
      "Demodulating channel #0 , fc: 193.1000 THz, λ: 1552.5244 nm\n",
      "\n",
      "Local oscillator P: 12.00 dBm, lw: 0.00 kHz, FO: 20000.00 MHz\n",
      "CSPR = 12.00 dB\n",
      "\n",
      "\n",
      "nlms - training stage #0\n"
     ]
    },
    {
     "data": {
      "application/vnd.jupyter.widget-view+json": {
       "model_id": "72f74ace626b462aa1870054b0a9e842",
       "version_major": 2,
       "version_minor": 0
      },
      "text/plain": [
       "  0%|          | 0/5 [00:00<?, ?it/s]"
      ]
     },
     "metadata": {},
     "output_type": "display_data"
    },
    {
     "name": "stdout",
     "output_type": "stream",
     "text": [
      "nlms pre-convergence training iteration #0\n",
      "nlms MSE = 0.019350.\n",
      "nlms pre-convergence training iteration #1\n",
      "nlms MSE = 0.002218.\n",
      "nlms pre-convergence training iteration #2\n",
      "nlms MSE = 0.001757.\n",
      "nlms pre-convergence training iteration #3\n",
      "nlms MSE = 0.001510.\n",
      "nlms pre-convergence training iteration #4\n",
      "nlms MSE = 0.001357.\n",
      "\n",
      "\n",
      "dd-lms - training stage #1\n",
      "dd-lms MSE = 0.000898.\n",
      "Results:\n",
      "\n",
      "SER: 1.44e-04\n",
      "BER: 2.59e-05\n",
      "SNR: 30.29 dB\n",
      "MI: 6.01 bits\n",
      "GMI: 6.00 bits\n",
      "channel 0\t fc : 193.1000 THz\n",
      "  mode #0\t power: 0.00 dBm\n",
      "channel 0\t power: -0.00 dBm\n",
      "\n",
      "total WDM dignal power: -0.00 dBm\n",
      "Demodulating channel #0 , fc: 193.1000 THz, λ: 1552.5244 nm\n",
      "\n",
      "Local oscillator P: 12.00 dBm, lw: 0.00 kHz, FO: 20000.00 MHz\n",
      "CSPR = 12.00 dB\n",
      "\n",
      "\n",
      "nlms - training stage #0\n"
     ]
    },
    {
     "data": {
      "application/vnd.jupyter.widget-view+json": {
       "model_id": "1923eac1a14848eaa6a1ecfa7fea5aa9",
       "version_major": 2,
       "version_minor": 0
      },
      "text/plain": [
       "  0%|          | 0/5 [00:00<?, ?it/s]"
      ]
     },
     "metadata": {},
     "output_type": "display_data"
    },
    {
     "name": "stdout",
     "output_type": "stream",
     "text": [
      "nlms pre-convergence training iteration #0\n",
      "nlms MSE = 0.017053.\n",
      "nlms pre-convergence training iteration #1\n",
      "nlms MSE = 0.001961.\n",
      "nlms pre-convergence training iteration #2\n",
      "nlms MSE = 0.001806.\n",
      "nlms pre-convergence training iteration #3\n",
      "nlms MSE = 0.001696.\n",
      "nlms pre-convergence training iteration #4\n",
      "nlms MSE = 0.001615.\n",
      "\n",
      "\n",
      "dd-lms - training stage #1\n",
      "dd-lms MSE = 0.001048.\n",
      "Results:\n",
      "\n",
      "SER: 2.00e-04\n",
      "BER: 3.52e-05\n",
      "SNR: 29.68 dB\n",
      "MI: 6.00 bits\n",
      "GMI: 6.00 bits\n",
      "channel 0\t fc : 193.1000 THz\n",
      "  mode #0\t power: 0.00 dBm\n",
      "channel 0\t power: -0.00 dBm\n",
      "\n",
      "total WDM dignal power: -0.00 dBm\n",
      "Demodulating channel #0 , fc: 193.1000 THz, λ: 1552.5244 nm\n",
      "\n",
      "Local oscillator P: 12.00 dBm, lw: 0.00 kHz, FO: 20000.00 MHz\n",
      "CSPR = 12.00 dB\n",
      "\n",
      "\n",
      "nlms - training stage #0\n"
     ]
    },
    {
     "data": {
      "application/vnd.jupyter.widget-view+json": {
       "model_id": "034dcdbfddaf4d5bb754b57f362f9653",
       "version_major": 2,
       "version_minor": 0
      },
      "text/plain": [
       "  0%|          | 0/5 [00:00<?, ?it/s]"
      ]
     },
     "metadata": {},
     "output_type": "display_data"
    },
    {
     "name": "stdout",
     "output_type": "stream",
     "text": [
      "nlms pre-convergence training iteration #0\n",
      "nlms MSE = 0.015746.\n",
      "nlms pre-convergence training iteration #1\n",
      "nlms MSE = 0.001779.\n",
      "nlms pre-convergence training iteration #2\n",
      "nlms MSE = 0.001754.\n",
      "nlms pre-convergence training iteration #3\n",
      "nlms MSE = 0.001732.\n",
      "nlms pre-convergence training iteration #4\n",
      "nlms MSE = 0.001713.\n",
      "\n",
      "\n",
      "dd-lms - training stage #1\n",
      "dd-lms MSE = 0.000897.\n",
      "Results:\n",
      "\n",
      "SER: 6.67e-05\n",
      "BER: 1.11e-05\n",
      "SNR: 30.47 dB\n",
      "MI: 6.00 bits\n",
      "GMI: 6.00 bits\n",
      "channel 0\t fc : 193.1000 THz\n",
      "  mode #0\t power: 0.00 dBm\n",
      "channel 0\t power: -0.00 dBm\n",
      "\n",
      "total WDM dignal power: -0.00 dBm\n",
      "Demodulating channel #0 , fc: 193.1000 THz, λ: 1552.5244 nm\n",
      "\n",
      "Local oscillator P: 12.00 dBm, lw: 0.00 kHz, FO: 20000.00 MHz\n",
      "CSPR = 12.00 dB\n",
      "\n",
      "\n",
      "nlms - training stage #0\n"
     ]
    },
    {
     "data": {
      "application/vnd.jupyter.widget-view+json": {
       "model_id": "4f9701b3afe34bacaf96341b47c2396a",
       "version_major": 2,
       "version_minor": 0
      },
      "text/plain": [
       "  0%|          | 0/5 [00:00<?, ?it/s]"
      ]
     },
     "metadata": {},
     "output_type": "display_data"
    },
    {
     "name": "stdout",
     "output_type": "stream",
     "text": [
      "nlms pre-convergence training iteration #0\n",
      "nlms MSE = 0.014960.\n",
      "nlms pre-convergence training iteration #1\n",
      "nlms MSE = 0.002010.\n",
      "nlms pre-convergence training iteration #2\n",
      "nlms MSE = 0.001974.\n",
      "nlms pre-convergence training iteration #3\n",
      "nlms MSE = 0.001942.\n",
      "nlms pre-convergence training iteration #4\n",
      "nlms MSE = 0.001912.\n",
      "\n",
      "\n",
      "dd-lms - training stage #1\n",
      "dd-lms MSE = 0.001466.\n",
      "Results:\n",
      "\n",
      "SER: 2.78e-04\n",
      "BER: 4.63e-05\n",
      "SNR: 28.23 dB\n",
      "MI: 6.00 bits\n",
      "GMI: 6.00 bits\n",
      "channel 0\t fc : 193.1000 THz\n",
      "  mode #0\t power: 0.00 dBm\n",
      "channel 0\t power: 0.00 dBm\n",
      "\n",
      "total WDM dignal power: 0.00 dBm\n",
      "Demodulating channel #0 , fc: 193.1000 THz, λ: 1552.5244 nm\n",
      "\n",
      "Local oscillator P: 12.00 dBm, lw: 0.00 kHz, FO: 20000.00 MHz\n",
      "CSPR = 12.00 dB\n",
      "\n",
      "\n",
      "nlms - training stage #0\n"
     ]
    },
    {
     "data": {
      "application/vnd.jupyter.widget-view+json": {
       "model_id": "babd50825b944163af5a89418e1dd160",
       "version_major": 2,
       "version_minor": 0
      },
      "text/plain": [
       "  0%|          | 0/5 [00:00<?, ?it/s]"
      ]
     },
     "metadata": {},
     "output_type": "display_data"
    },
    {
     "name": "stdout",
     "output_type": "stream",
     "text": [
      "nlms pre-convergence training iteration #0\n",
      "nlms MSE = 0.016859.\n",
      "nlms pre-convergence training iteration #1\n",
      "nlms MSE = 0.004195.\n",
      "nlms pre-convergence training iteration #2\n",
      "nlms MSE = 0.003919.\n",
      "nlms pre-convergence training iteration #3\n",
      "nlms MSE = 0.003698.\n",
      "nlms pre-convergence training iteration #4\n",
      "nlms MSE = 0.003516.\n",
      "\n",
      "\n",
      "dd-lms - training stage #1\n",
      "dd-lms MSE = 0.001995.\n",
      "Results:\n",
      "\n",
      "SER: 2.44e-04\n",
      "BER: 4.26e-05\n",
      "SNR: 26.74 dB\n",
      "MI: 6.00 bits\n",
      "GMI: 6.00 bits\n",
      "channel 0\t fc : 193.1000 THz\n",
      "  mode #0\t power: 0.00 dBm\n",
      "channel 0\t power: -0.00 dBm\n",
      "\n",
      "total WDM dignal power: -0.00 dBm\n",
      "Demodulating channel #0 , fc: 193.1000 THz, λ: 1552.5244 nm\n",
      "\n",
      "Local oscillator P: 12.00 dBm, lw: 0.00 kHz, FO: 20000.00 MHz\n",
      "CSPR = 12.00 dB\n",
      "\n",
      "\n",
      "nlms - training stage #0\n"
     ]
    },
    {
     "data": {
      "application/vnd.jupyter.widget-view+json": {
       "model_id": "aa296a2a70784466a177cb122a8f43a2",
       "version_major": 2,
       "version_minor": 0
      },
      "text/plain": [
       "  0%|          | 0/5 [00:00<?, ?it/s]"
      ]
     },
     "metadata": {},
     "output_type": "display_data"
    },
    {
     "name": "stdout",
     "output_type": "stream",
     "text": [
      "nlms pre-convergence training iteration #0\n",
      "nlms MSE = 0.018369.\n",
      "nlms pre-convergence training iteration #1\n",
      "nlms MSE = 0.005449.\n",
      "nlms pre-convergence training iteration #2\n",
      "nlms MSE = 0.004712.\n",
      "nlms pre-convergence training iteration #3\n",
      "nlms MSE = 0.004180.\n",
      "nlms pre-convergence training iteration #4\n",
      "nlms MSE = 0.003788.\n",
      "\n",
      "\n",
      "dd-lms - training stage #1\n",
      "dd-lms MSE = 0.002407.\n",
      "Results:\n",
      "\n",
      "SER: 9.00e-04\n",
      "BER: 1.50e-04\n",
      "SNR: 25.93 dB\n",
      "MI: 5.99 bits\n",
      "GMI: 5.99 bits\n",
      "channel 0\t fc : 193.1000 THz\n",
      "  mode #0\t power: 0.00 dBm\n",
      "channel 0\t power: -0.00 dBm\n",
      "\n",
      "total WDM dignal power: -0.00 dBm\n",
      "Demodulating channel #0 , fc: 193.1000 THz, λ: 1552.5244 nm\n",
      "\n",
      "Local oscillator P: 12.00 dBm, lw: 0.00 kHz, FO: 20000.00 MHz\n",
      "CSPR = 12.00 dB\n",
      "\n",
      "\n",
      "nlms - training stage #0\n"
     ]
    },
    {
     "data": {
      "application/vnd.jupyter.widget-view+json": {
       "model_id": "04b72f4798234248b01a879cc327a5d0",
       "version_major": 2,
       "version_minor": 0
      },
      "text/plain": [
       "  0%|          | 0/5 [00:00<?, ?it/s]"
      ]
     },
     "metadata": {},
     "output_type": "display_data"
    },
    {
     "name": "stdout",
     "output_type": "stream",
     "text": [
      "nlms pre-convergence training iteration #0\n",
      "nlms MSE = 0.020928.\n",
      "nlms pre-convergence training iteration #1\n",
      "nlms MSE = 0.007310.\n",
      "nlms pre-convergence training iteration #2\n",
      "nlms MSE = 0.005932.\n",
      "nlms pre-convergence training iteration #3\n",
      "nlms MSE = 0.005055.\n",
      "nlms pre-convergence training iteration #4\n",
      "nlms MSE = 0.004481.\n",
      "\n",
      "\n",
      "dd-lms - training stage #1\n",
      "dd-lms MSE = 0.002812.\n",
      "Results:\n",
      "\n",
      "SER: 1.14e-03\n",
      "BER: 1.93e-04\n",
      "SNR: 25.29 dB\n",
      "MI: 5.99 bits\n",
      "GMI: 5.99 bits\n",
      "channel 0\t fc : 193.1000 THz\n",
      "  mode #0\t power: 0.00 dBm\n",
      "channel 0\t power: -0.00 dBm\n",
      "\n",
      "total WDM dignal power: -0.00 dBm\n",
      "Demodulating channel #0 , fc: 193.1000 THz, λ: 1552.5244 nm\n",
      "\n",
      "Local oscillator P: 12.00 dBm, lw: 0.00 kHz, FO: 20000.00 MHz\n",
      "CSPR = 12.00 dB\n",
      "\n",
      "\n",
      "nlms - training stage #0\n"
     ]
    },
    {
     "data": {
      "application/vnd.jupyter.widget-view+json": {
       "model_id": "9a9aab9687254b6fbdfd9db096b9212f",
       "version_major": 2,
       "version_minor": 0
      },
      "text/plain": [
       "  0%|          | 0/5 [00:00<?, ?it/s]"
      ]
     },
     "metadata": {},
     "output_type": "display_data"
    },
    {
     "name": "stdout",
     "output_type": "stream",
     "text": [
      "nlms pre-convergence training iteration #0\n",
      "nlms MSE = 0.025139.\n",
      "nlms pre-convergence training iteration #1\n",
      "nlms MSE = 0.009941.\n",
      "nlms pre-convergence training iteration #2\n",
      "nlms MSE = 0.007714.\n",
      "nlms pre-convergence training iteration #3\n",
      "nlms MSE = 0.006449.\n",
      "nlms pre-convergence training iteration #4\n",
      "nlms MSE = 0.005701.\n",
      "\n",
      "\n",
      "dd-lms - training stage #1\n",
      "dd-lms MSE = 0.003922.\n",
      "Results:\n",
      "\n",
      "SER: 4.90e-03\n",
      "BER: 8.22e-04\n",
      "SNR: 23.78 dB\n",
      "MI: 5.97 bits\n",
      "GMI: 5.97 bits\n",
      "channel 0\t fc : 193.1000 THz\n",
      "  mode #0\t power: 0.00 dBm\n",
      "channel 0\t power: -0.00 dBm\n",
      "\n",
      "total WDM dignal power: -0.00 dBm\n",
      "Demodulating channel #0 , fc: 193.1000 THz, λ: 1552.5244 nm\n",
      "\n",
      "Local oscillator P: 12.00 dBm, lw: 0.00 kHz, FO: 20000.00 MHz\n",
      "CSPR = 12.00 dB\n",
      "\n",
      "\n",
      "nlms - training stage #0\n"
     ]
    },
    {
     "data": {
      "application/vnd.jupyter.widget-view+json": {
       "model_id": "45c39bca58b44369bf7d1ac6ed1be421",
       "version_major": 2,
       "version_minor": 0
      },
      "text/plain": [
       "  0%|          | 0/5 [00:00<?, ?it/s]"
      ]
     },
     "metadata": {},
     "output_type": "display_data"
    },
    {
     "name": "stdout",
     "output_type": "stream",
     "text": [
      "nlms pre-convergence training iteration #0\n",
      "nlms MSE = 0.029077.\n",
      "nlms pre-convergence training iteration #1\n",
      "nlms MSE = 0.012850.\n",
      "nlms pre-convergence training iteration #2\n",
      "nlms MSE = 0.009803.\n",
      "nlms pre-convergence training iteration #3\n",
      "nlms MSE = 0.008120.\n",
      "nlms pre-convergence training iteration #4\n",
      "nlms MSE = 0.007133.\n",
      "\n",
      "\n",
      "dd-lms - training stage #1\n",
      "dd-lms MSE = 0.004865.\n",
      "Results:\n",
      "\n",
      "SER: 1.06e-02\n",
      "BER: 1.77e-03\n",
      "SNR: 22.81 dB\n",
      "MI: 5.95 bits\n",
      "GMI: 5.95 bits\n",
      "channel 0\t fc : 193.1000 THz\n",
      "  mode #0\t power: 0.00 dBm\n",
      "channel 0\t power: 0.00 dBm\n",
      "\n",
      "total WDM dignal power: 0.00 dBm\n",
      "Demodulating channel #0 , fc: 193.1000 THz, λ: 1552.5244 nm\n",
      "\n",
      "Local oscillator P: 12.00 dBm, lw: 0.00 kHz, FO: 21000.00 MHz\n",
      "CSPR = 12.00 dB\n",
      "\n",
      "\n",
      "nlms - training stage #0\n"
     ]
    },
    {
     "data": {
      "application/vnd.jupyter.widget-view+json": {
       "model_id": "3e1cd404125348c786a207f8e6fe1215",
       "version_major": 2,
       "version_minor": 0
      },
      "text/plain": [
       "  0%|          | 0/5 [00:00<?, ?it/s]"
      ]
     },
     "metadata": {},
     "output_type": "display_data"
    },
    {
     "name": "stdout",
     "output_type": "stream",
     "text": [
      "nlms pre-convergence training iteration #0\n",
      "nlms MSE = 0.022323.\n",
      "nlms pre-convergence training iteration #1\n",
      "nlms MSE = 0.002243.\n",
      "nlms pre-convergence training iteration #2\n",
      "nlms MSE = 0.001838.\n",
      "nlms pre-convergence training iteration #3\n",
      "nlms MSE = 0.001607.\n",
      "nlms pre-convergence training iteration #4\n",
      "nlms MSE = 0.001452.\n",
      "\n",
      "\n",
      "dd-lms - training stage #1\n",
      "dd-lms MSE = 0.000950.\n",
      "Results:\n",
      "\n",
      "SER: 8.89e-05\n",
      "BER: 1.48e-05\n",
      "SNR: 30.01 dB\n",
      "MI: 6.01 bits\n",
      "GMI: 6.00 bits\n",
      "channel 0\t fc : 193.1000 THz\n",
      "  mode #0\t power: 0.00 dBm\n",
      "channel 0\t power: 0.00 dBm\n",
      "\n",
      "total WDM dignal power: 0.00 dBm\n",
      "Demodulating channel #0 , fc: 193.1000 THz, λ: 1552.5244 nm\n",
      "\n",
      "Local oscillator P: 12.00 dBm, lw: 0.00 kHz, FO: 21000.00 MHz\n",
      "CSPR = 12.00 dB\n",
      "\n",
      "\n",
      "nlms - training stage #0\n"
     ]
    },
    {
     "data": {
      "application/vnd.jupyter.widget-view+json": {
       "model_id": "90a4d5d2fbae4ced9185248178d1d862",
       "version_major": 2,
       "version_minor": 0
      },
      "text/plain": [
       "  0%|          | 0/5 [00:00<?, ?it/s]"
      ]
     },
     "metadata": {},
     "output_type": "display_data"
    },
    {
     "name": "stdout",
     "output_type": "stream",
     "text": [
      "nlms pre-convergence training iteration #0\n",
      "nlms MSE = 0.019885.\n",
      "nlms pre-convergence training iteration #1\n",
      "nlms MSE = 0.002032.\n",
      "nlms pre-convergence training iteration #2\n",
      "nlms MSE = 0.001554.\n",
      "nlms pre-convergence training iteration #3\n",
      "nlms MSE = 0.001295.\n",
      "nlms pre-convergence training iteration #4\n",
      "nlms MSE = 0.001133.\n",
      "\n",
      "\n",
      "dd-lms - training stage #1\n",
      "dd-lms MSE = 0.000686.\n",
      "Results:\n",
      "\n",
      "SER: 1.00e-04\n",
      "BER: 1.67e-05\n",
      "SNR: 31.35 dB\n",
      "MI: 6.00 bits\n",
      "GMI: 6.00 bits\n",
      "channel 0\t fc : 193.1000 THz\n",
      "  mode #0\t power: 0.00 dBm\n",
      "channel 0\t power: -0.00 dBm\n",
      "\n",
      "total WDM dignal power: -0.00 dBm\n",
      "Demodulating channel #0 , fc: 193.1000 THz, λ: 1552.5244 nm\n",
      "\n",
      "Local oscillator P: 12.00 dBm, lw: 0.00 kHz, FO: 21000.00 MHz\n",
      "CSPR = 12.00 dB\n",
      "\n",
      "\n",
      "nlms - training stage #0\n"
     ]
    },
    {
     "data": {
      "application/vnd.jupyter.widget-view+json": {
       "model_id": "32f07b4b898946619dabf7860cd7c3a7",
       "version_major": 2,
       "version_minor": 0
      },
      "text/plain": [
       "  0%|          | 0/5 [00:00<?, ?it/s]"
      ]
     },
     "metadata": {},
     "output_type": "display_data"
    },
    {
     "name": "stdout",
     "output_type": "stream",
     "text": [
      "nlms pre-convergence training iteration #0\n",
      "nlms MSE = 0.016954.\n",
      "nlms pre-convergence training iteration #1\n",
      "nlms MSE = 0.001786.\n",
      "nlms pre-convergence training iteration #2\n",
      "nlms MSE = 0.001616.\n",
      "nlms pre-convergence training iteration #3\n",
      "nlms MSE = 0.001494.\n",
      "nlms pre-convergence training iteration #4\n",
      "nlms MSE = 0.001404.\n",
      "\n",
      "\n",
      "dd-lms - training stage #1\n",
      "dd-lms MSE = 0.000743.\n",
      "Results:\n",
      "\n",
      "SER: 3.33e-05\n",
      "BER: 5.56e-06\n",
      "SNR: 31.06 dB\n",
      "MI: 6.00 bits\n",
      "GMI: 6.00 bits\n",
      "channel 0\t fc : 193.1000 THz\n",
      "  mode #0\t power: 0.00 dBm\n",
      "channel 0\t power: 0.00 dBm\n",
      "\n",
      "total WDM dignal power: 0.00 dBm\n",
      "Demodulating channel #0 , fc: 193.1000 THz, λ: 1552.5244 nm\n",
      "\n",
      "Local oscillator P: 12.00 dBm, lw: 0.00 kHz, FO: 21000.00 MHz\n",
      "CSPR = 12.00 dB\n",
      "\n",
      "\n",
      "nlms - training stage #0\n"
     ]
    },
    {
     "data": {
      "application/vnd.jupyter.widget-view+json": {
       "model_id": "a9ebf4751a1f493db0594257710d9d02",
       "version_major": 2,
       "version_minor": 0
      },
      "text/plain": [
       "  0%|          | 0/5 [00:00<?, ?it/s]"
      ]
     },
     "metadata": {},
     "output_type": "display_data"
    },
    {
     "name": "stdout",
     "output_type": "stream",
     "text": [
      "nlms pre-convergence training iteration #0\n",
      "nlms MSE = 0.015586.\n",
      "nlms pre-convergence training iteration #1\n",
      "nlms MSE = 0.001507.\n",
      "nlms pre-convergence training iteration #2\n",
      "nlms MSE = 0.001486.\n",
      "nlms pre-convergence training iteration #3\n",
      "nlms MSE = 0.001467.\n",
      "nlms pre-convergence training iteration #4\n",
      "nlms MSE = 0.001452.\n",
      "\n",
      "\n",
      "dd-lms - training stage #1\n",
      "dd-lms MSE = 0.000824.\n",
      "Results:\n",
      "\n",
      "SER: 5.56e-05\n",
      "BER: 1.11e-05\n",
      "SNR: 30.74 dB\n",
      "MI: 6.00 bits\n",
      "GMI: 6.00 bits\n",
      "channel 0\t fc : 193.1000 THz\n",
      "  mode #0\t power: 0.00 dBm\n",
      "channel 0\t power: 0.00 dBm\n",
      "\n",
      "total WDM dignal power: 0.00 dBm\n",
      "Demodulating channel #0 , fc: 193.1000 THz, λ: 1552.5244 nm\n",
      "\n",
      "Local oscillator P: 12.00 dBm, lw: 0.00 kHz, FO: 21000.00 MHz\n",
      "CSPR = 12.00 dB\n",
      "\n",
      "\n",
      "nlms - training stage #0\n"
     ]
    },
    {
     "data": {
      "application/vnd.jupyter.widget-view+json": {
       "model_id": "730190519c63432fa5aee8237e8defd1",
       "version_major": 2,
       "version_minor": 0
      },
      "text/plain": [
       "  0%|          | 0/5 [00:00<?, ?it/s]"
      ]
     },
     "metadata": {},
     "output_type": "display_data"
    },
    {
     "name": "stdout",
     "output_type": "stream",
     "text": [
      "nlms pre-convergence training iteration #0\n",
      "nlms MSE = 0.014032.\n",
      "nlms pre-convergence training iteration #1\n",
      "nlms MSE = 0.001441.\n",
      "nlms pre-convergence training iteration #2\n",
      "nlms MSE = 0.001434.\n",
      "nlms pre-convergence training iteration #3\n",
      "nlms MSE = 0.001428.\n",
      "nlms pre-convergence training iteration #4\n",
      "nlms MSE = 0.001423.\n",
      "\n",
      "\n",
      "dd-lms - training stage #1\n",
      "dd-lms MSE = 0.000958.\n",
      "Results:\n",
      "\n",
      "SER: 1.11e-05\n",
      "BER: 1.85e-06\n",
      "SNR: 30.15 dB\n",
      "MI: 6.00 bits\n",
      "GMI: 6.00 bits\n",
      "channel 0\t fc : 193.1000 THz\n",
      "  mode #0\t power: 0.00 dBm\n",
      "channel 0\t power: -0.00 dBm\n",
      "\n",
      "total WDM dignal power: -0.00 dBm\n",
      "Demodulating channel #0 , fc: 193.1000 THz, λ: 1552.5244 nm\n",
      "\n",
      "Local oscillator P: 12.00 dBm, lw: 0.00 kHz, FO: 21000.00 MHz\n",
      "CSPR = 12.00 dB\n",
      "\n",
      "\n",
      "nlms - training stage #0\n"
     ]
    },
    {
     "data": {
      "application/vnd.jupyter.widget-view+json": {
       "model_id": "03fc43c5834144a599d8170bbbc182c6",
       "version_major": 2,
       "version_minor": 0
      },
      "text/plain": [
       "  0%|          | 0/5 [00:00<?, ?it/s]"
      ]
     },
     "metadata": {},
     "output_type": "display_data"
    },
    {
     "name": "stdout",
     "output_type": "stream",
     "text": [
      "nlms pre-convergence training iteration #0\n",
      "nlms MSE = 0.014266.\n",
      "nlms pre-convergence training iteration #1\n",
      "nlms MSE = 0.002457.\n",
      "nlms pre-convergence training iteration #2\n",
      "nlms MSE = 0.002412.\n",
      "nlms pre-convergence training iteration #3\n",
      "nlms MSE = 0.002373.\n",
      "nlms pre-convergence training iteration #4\n",
      "nlms MSE = 0.002336.\n",
      "\n",
      "\n",
      "dd-lms - training stage #1\n",
      "dd-lms MSE = 0.001505.\n",
      "Results:\n",
      "\n",
      "SER: 2.33e-04\n",
      "BER: 3.89e-05\n",
      "SNR: 28.10 dB\n",
      "MI: 6.00 bits\n",
      "GMI: 6.00 bits\n",
      "channel 0\t fc : 193.1000 THz\n",
      "  mode #0\t power: 0.00 dBm\n",
      "channel 0\t power: -0.00 dBm\n",
      "\n",
      "total WDM dignal power: -0.00 dBm\n",
      "Demodulating channel #0 , fc: 193.1000 THz, λ: 1552.5244 nm\n",
      "\n",
      "Local oscillator P: 12.00 dBm, lw: 0.00 kHz, FO: 21000.00 MHz\n",
      "CSPR = 12.00 dB\n",
      "\n",
      "\n",
      "nlms - training stage #0\n"
     ]
    },
    {
     "data": {
      "application/vnd.jupyter.widget-view+json": {
       "model_id": "b5d605ccb5be4981a5c0619218b8d154",
       "version_major": 2,
       "version_minor": 0
      },
      "text/plain": [
       "  0%|          | 0/5 [00:00<?, ?it/s]"
      ]
     },
     "metadata": {},
     "output_type": "display_data"
    },
    {
     "name": "stdout",
     "output_type": "stream",
     "text": [
      "nlms pre-convergence training iteration #0\n",
      "nlms MSE = 0.015373.\n",
      "nlms pre-convergence training iteration #1\n",
      "nlms MSE = 0.003408.\n",
      "nlms pre-convergence training iteration #2\n",
      "nlms MSE = 0.003188.\n",
      "nlms pre-convergence training iteration #3\n",
      "nlms MSE = 0.003004.\n",
      "nlms pre-convergence training iteration #4\n",
      "nlms MSE = 0.002849.\n",
      "\n",
      "\n",
      "dd-lms - training stage #1\n",
      "dd-lms MSE = 0.001700.\n",
      "Results:\n",
      "\n",
      "SER: 1.22e-04\n",
      "BER: 2.04e-05\n",
      "SNR: 27.44 dB\n",
      "MI: 6.00 bits\n",
      "GMI: 6.00 bits\n",
      "channel 0\t fc : 193.1000 THz\n",
      "  mode #0\t power: 0.00 dBm\n",
      "channel 0\t power: -0.00 dBm\n",
      "\n",
      "total WDM dignal power: -0.00 dBm\n",
      "Demodulating channel #0 , fc: 193.1000 THz, λ: 1552.5244 nm\n",
      "\n",
      "Local oscillator P: 12.00 dBm, lw: 0.00 kHz, FO: 21000.00 MHz\n",
      "CSPR = 12.00 dB\n",
      "\n",
      "\n",
      "nlms - training stage #0\n"
     ]
    },
    {
     "data": {
      "application/vnd.jupyter.widget-view+json": {
       "model_id": "95bd96eb011c4f32b56a7a4c01514c99",
       "version_major": 2,
       "version_minor": 0
      },
      "text/plain": [
       "  0%|          | 0/5 [00:00<?, ?it/s]"
      ]
     },
     "metadata": {},
     "output_type": "display_data"
    },
    {
     "name": "stdout",
     "output_type": "stream",
     "text": [
      "nlms pre-convergence training iteration #0\n",
      "nlms MSE = 0.015538.\n",
      "nlms pre-convergence training iteration #1\n",
      "nlms MSE = 0.004194.\n",
      "nlms pre-convergence training iteration #2\n",
      "nlms MSE = 0.003714.\n",
      "nlms pre-convergence training iteration #3\n",
      "nlms MSE = 0.003359.\n",
      "nlms pre-convergence training iteration #4\n",
      "nlms MSE = 0.003092.\n",
      "\n",
      "\n",
      "dd-lms - training stage #1\n",
      "dd-lms MSE = 0.002074.\n",
      "Results:\n",
      "\n",
      "SER: 3.11e-04\n",
      "BER: 5.19e-05\n",
      "SNR: 26.62 dB\n",
      "MI: 6.00 bits\n",
      "GMI: 6.00 bits\n",
      "channel 0\t fc : 193.1000 THz\n",
      "  mode #0\t power: 0.00 dBm\n",
      "channel 0\t power: -0.00 dBm\n",
      "\n",
      "total WDM dignal power: -0.00 dBm\n",
      "Demodulating channel #0 , fc: 193.1000 THz, λ: 1552.5244 nm\n",
      "\n",
      "Local oscillator P: 12.00 dBm, lw: 0.00 kHz, FO: 21000.00 MHz\n",
      "CSPR = 12.00 dB\n",
      "\n",
      "\n",
      "nlms - training stage #0\n"
     ]
    },
    {
     "data": {
      "application/vnd.jupyter.widget-view+json": {
       "model_id": "30e3e582eb01441ca420f6acadc78eca",
       "version_major": 2,
       "version_minor": 0
      },
      "text/plain": [
       "  0%|          | 0/5 [00:00<?, ?it/s]"
      ]
     },
     "metadata": {},
     "output_type": "display_data"
    },
    {
     "name": "stdout",
     "output_type": "stream",
     "text": [
      "nlms pre-convergence training iteration #0\n",
      "nlms MSE = 0.019332.\n",
      "nlms pre-convergence training iteration #1\n",
      "nlms MSE = 0.006692.\n",
      "nlms pre-convergence training iteration #2\n",
      "nlms MSE = 0.005465.\n",
      "nlms pre-convergence training iteration #3\n",
      "nlms MSE = 0.004669.\n",
      "nlms pre-convergence training iteration #4\n",
      "nlms MSE = 0.004144.\n",
      "\n",
      "\n",
      "dd-lms - training stage #1\n",
      "dd-lms MSE = 0.002809.\n",
      "Results:\n",
      "\n",
      "SER: 1.31e-03\n",
      "BER: 2.22e-04\n",
      "SNR: 25.25 dB\n",
      "MI: 5.99 bits\n",
      "GMI: 5.99 bits\n",
      "channel 0\t fc : 193.1000 THz\n",
      "  mode #0\t power: 0.00 dBm\n",
      "channel 0\t power: -0.00 dBm\n",
      "\n",
      "total WDM dignal power: -0.00 dBm\n",
      "Demodulating channel #0 , fc: 193.1000 THz, λ: 1552.5244 nm\n",
      "\n",
      "Local oscillator P: 12.00 dBm, lw: 0.00 kHz, FO: 21000.00 MHz\n",
      "CSPR = 12.00 dB\n",
      "\n",
      "\n",
      "nlms - training stage #0\n"
     ]
    },
    {
     "data": {
      "application/vnd.jupyter.widget-view+json": {
       "model_id": "29d70e16b68944e5a2cf2a53a9dc7d0f",
       "version_major": 2,
       "version_minor": 0
      },
      "text/plain": [
       "  0%|          | 0/5 [00:00<?, ?it/s]"
      ]
     },
     "metadata": {},
     "output_type": "display_data"
    },
    {
     "name": "stdout",
     "output_type": "stream",
     "text": [
      "nlms pre-convergence training iteration #0\n",
      "nlms MSE = 0.021587.\n",
      "nlms pre-convergence training iteration #1\n",
      "nlms MSE = 0.008184.\n",
      "nlms pre-convergence training iteration #2\n",
      "nlms MSE = 0.006519.\n",
      "nlms pre-convergence training iteration #3\n",
      "nlms MSE = 0.005546.\n",
      "nlms pre-convergence training iteration #4\n",
      "nlms MSE = 0.004957.\n",
      "\n",
      "\n",
      "dd-lms - training stage #1\n",
      "dd-lms MSE = 0.003494.\n",
      "Results:\n",
      "\n",
      "SER: 2.39e-03\n",
      "BER: 3.98e-04\n",
      "SNR: 24.40 dB\n",
      "MI: 5.99 bits\n",
      "GMI: 5.99 bits\n"
     ]
    }
   ],
   "source": [
    "FO_Values = np.arange(1e9, 6e9, 1e9)\n",
    "Rolloff = np.arange(0.01, 0.99, 0.1)\n",
    "\n",
    "BER_NN = np.zeros((FO_Values.size, Rolloff.size))\n",
    "SER_NN = np.zeros((FO_Values.size, Rolloff.size))\n",
    "GMI_NN = np.zeros((FO_Values.size, Rolloff.size))\n",
    "MI_NN  = np.zeros((FO_Values.size, Rolloff.size))\n",
    "SNR_NN = np.zeros((FO_Values.size, Rolloff.size))\n",
    "\n",
    "N = 256  # number of input amplitude samples to the NN\n",
    "\n",
    "for indNN, FO_ in enumerate(FO_Values):\n",
    "    for index, indRoll_ in enumerate(Rolloff):\n",
    "    \n",
    "        # Main simulation parameters\n",
    "        paramTx.alphaRRC = indRoll_\n",
    "        FO = FO_ + paramTx.Rs/2\n",
    "        # get the model according to the simulation parameters\n",
    "        modelNN = tf.keras.models.load_model('Legacy_NN_models/testModel_SpS_'+str(paramADC.SpS_out)+'_FO_'+str(FO/10e9)+'GHz_Rolloff_'+str(round(paramTx.alphaRRC, 2)))\n",
    "        \n",
    "        # generate optical signal signal\n",
    "        sigTx, symbTx_, paramTx = simpleWDMTx(paramTx)\n",
    "\n",
    "        # simulate linear signal propagation\n",
    "        sigCh = linFiberCh(sigTx, Ltotal, alpha, D, Fc, Fs)\n",
    "\n",
    "        # receiver detection and demodulation\n",
    "        Fc = paramTx.Fc\n",
    "        Ts = 1 / Fs\n",
    "        mod = QAMModem(m=paramTx.M)\n",
    "\n",
    "        freqGrid = paramTx.freqGrid\n",
    "        print(\n",
    "            \"Demodulating channel #%d , fc: %.4f THz, λ: %.4f nm\\n\"\n",
    "            % (\n",
    "                chIndex,\n",
    "                (Fc + freqGrid[chIndex]) / 1e12,\n",
    "                const.c / (Fc + freqGrid[chIndex]) / 1e-9,\n",
    "            )\n",
    "        )\n",
    "\n",
    "        symbTx = symbTx_[:, :, chIndex]\n",
    "\n",
    "        Plo = 10 ** (Plo_dBm / 10) * 1e-3  # power in W\n",
    "\n",
    "        print(\n",
    "            \"Local oscillator P: %.2f dBm, lw: %.2f kHz, FO: %.2f MHz\"\n",
    "            % (Plo_dBm, lw / 1e3, FO / 1e6)\n",
    "        )\n",
    "\n",
    "        # generate LO field\n",
    "        π = np.pi\n",
    "        t = np.arange(0, len(sigCh))*Ts\n",
    "        ϕ_pn_lo = phaseNoise(lw, len(sigCh), Ts)\n",
    "\n",
    "        sigLO = np.sqrt(Plo) * np.exp(-1j * (2 * π * FO * t + ϕ_lo + ϕ_pn_lo))\n",
    "\n",
    "        # Add LO to the received signal\n",
    "        sigRx = np.sqrt(Plo) + sigCh * np.exp(1j * (2 * π * FO * t + ϕ_lo + ϕ_pn_lo))\n",
    "        sfm = sigRx.copy()\n",
    "\n",
    "        print('CSPR = %.2f dB' % (10*np.log10(signal_power(sigLO)/signal_power(sigCh))))\n",
    "\n",
    "        # ### Phase-retrieval stage\n",
    "\n",
    "        # In[4]:\n",
    "\n",
    "        # resampling to ADC sampling rate\n",
    "        sigCh = resample(sigCh, paramADC)\n",
    "        sfm = resample(sfm, paramADC)\n",
    "        newFs = paramADC.SpS_out*paramTx.Rs\n",
    "\n",
    "        # simulate ideal direct-detection optical receiver\n",
    "        Amp = np.abs(sigRx)\n",
    "        Amp = resample(Amp, paramADC)\n",
    "\n",
    "        sfm = sfm/np.sqrt(signal_power(sfm))\n",
    "\n",
    "        sigPhase = np.angle(sfm)  # get signal phase samples (labels) (L,)\n",
    "        sigAmp   = np.pad(np.abs(sfm), (int(N/2), int(N/2)), 'constant') # get signal amplitude samples (L,)\n",
    "\n",
    "        # create set of input features\n",
    "        X_input = np.zeros((len(sigPhase), N))  # (L,N)\n",
    "\n",
    "        for indPhase in range(len(sigPhase)):\n",
    "            X_input[indPhase] = sigAmp[indPhase:N+indPhase]\n",
    "\n",
    "        phiTime_NN = modelNN.predict(X_input)\n",
    "        phiTime_NN = phiTime_NN.reshape(-1,)\n",
    "\n",
    "        # optical field reconstruction\n",
    "        sigRx = np.abs(sfm)*np.exp(1j*phiTime_NN)\n",
    "\n",
    "        # remove DC level\n",
    "        sigRx -= np.mean(sigRx)  # np.sqrt(Plo)\n",
    "\n",
    "        # downshift to baseband\n",
    "        t = np.arange(0, len(sigRx))*(1/newFs)\n",
    "        sigRx *= np.exp(-1j * (2 * π * FO * t))\n",
    "\n",
    "        # correct for (possible) phase ambiguity\n",
    "        rot = np.mean(sigCh/sigRx)\n",
    "        sigRx = rot * sigRx\n",
    "        sigRx = sigRx / np.sqrt(signal_power(sigRx))\n",
    "\n",
    "        # #### Standard receiver processing\n",
    "\n",
    "        # In[5]:\n",
    "\n",
    "        # resample to 2 samples/symbol:\n",
    "        paramRes = parameters()\n",
    "        paramRes.Rs = paramTx.Rs\n",
    "        paramRes.SpS_in = paramADC.SpS_out\n",
    "        paramRes.SpS_out = 2\n",
    "\n",
    "        sigRx = resample(sigRx, paramRes)\n",
    "\n",
    "        # Matched filtering and CD compensation\n",
    "\n",
    "        # Matched filtering\n",
    "        if paramTx.pulse == \"nrz\":\n",
    "            pulse = pulseShape(\"nrz\", paramADC.SpS_out)\n",
    "        elif paramTx.pulse == \"rrc\":\n",
    "            pulse = pulseShape(\n",
    "                \"rrc\", paramRes.SpS_out, N=paramTx.Ntaps, alpha=paramTx.alphaRRC, Ts=1 / paramTx.Rs\n",
    "            )\n",
    "\n",
    "        pulse = pulse / np.max(np.abs(pulse))\n",
    "        sigRx = firFilter(pulse, sigRx)\n",
    "\n",
    "        # plot constellations after matched filtering\n",
    "        #pconst(sigRx[0::paramRes.SpS_out], lim=True, R=3)\n",
    "\n",
    "        # CD compensation\n",
    "        sigRx = edc(sigRx, Ltotal, D, Fc, paramRes.SpS_out*paramTx.Rs)\n",
    "\n",
    "        #plot constellations after CD compensation\n",
    "        #pconst(sigRx[0::paramRes.SpS_out], lim=True, R=2)\n",
    "\n",
    "        # Downsampling to 2 sps and re-synchronization with transmitted sequences\n",
    "        sigRx = sigRx.reshape(-1, 1)\n",
    "\n",
    "        symbRx = symbolSync(sigRx, symbTx, 2)\n",
    "\n",
    "        # In[6]:\n",
    "\n",
    "        # Power normalization\n",
    "        x = sigRx\n",
    "        d = symbRx\n",
    "\n",
    "        x = x.reshape(len(x), 1) / np.sqrt(signal_power(x))\n",
    "        d = d.reshape(len(d), 1) / np.sqrt(signal_power(d))\n",
    "\n",
    "        # Adaptive equalization\n",
    "        mod = QAMModem(m=paramTx.M)\n",
    "\n",
    "        paramEq = parameters()\n",
    "        paramEq.nTaps = 15\n",
    "        paramEq.SpS = 2\n",
    "        paramEq.mu = [5e-3, 2e-3]\n",
    "        paramEq.numIter = 5\n",
    "        paramEq.storeCoeff = False\n",
    "        paramEq.alg = [\"nlms\", \"dd-lms\"]\n",
    "        paramEq.M = paramTx.M\n",
    "        paramEq.L = [20000, 80000]\n",
    "\n",
    "        y_EQ, H, errSq, Hiter = mimoAdaptEqualizer(x, dx=d, paramEq=paramEq)\n",
    "\n",
    "        discard = int(paramEq.L[0]/2)\n",
    "\n",
    "        #plot constellations after adaptive equalization\n",
    "        #pconst(y_EQ[discard:-discard, :], lim=True)\n",
    "\n",
    "        # In[7]:\n",
    "\n",
    "        # Carrier phase recovery\n",
    "        paramCPR = parameters()\n",
    "        paramCPR.alg = \"bps\"\n",
    "        paramCPR.M = paramTx.M\n",
    "        paramCPR.N = 75\n",
    "        paramCPR.B = 64\n",
    "        paramCPR.pilotInd = np.arange(0, len(y_EQ), 20)\n",
    "\n",
    "        y_CPR, θ = cpr(y_EQ, symbTx=d, paramCPR=paramCPR)\n",
    "\n",
    "        y_CPR = y_CPR / np.sqrt(signal_power(y_CPR))\n",
    "\n",
    "        discard = 5000\n",
    "\n",
    "        # plot constellations after CPR\n",
    "        #pconst(y_CPR[discard:-discard, :], lim=True)\n",
    "\n",
    "        # #### Evaluate transmission metrics\n",
    "\n",
    "        # In[8]:\n",
    "\n",
    "        # correct for (possible) phase ambiguity\n",
    "        for k in range(y_CPR.shape[1]):\n",
    "            rot = np.mean(d[:, k] / y_CPR[:, k])\n",
    "            y_CPR[:, k] = rot * y_CPR[:, k]\n",
    "\n",
    "        y_CPR = y_CPR / np.sqrt(signal_power(y_CPR))\n",
    "\n",
    "        ind = np.arange(discard, d.shape[0] - discard)\n",
    "        BER_NN[indNN][index], SER_NN[indNN][index], SNR_NN[indNN][index] = fastBERcalc(y_CPR[ind, :], d[ind, :], mod)\n",
    "        GMI_NN[indNN][index], _ = monteCarloGMI(y_CPR[ind, :], d[ind, :], mod)\n",
    "        MI_NN[indNN][index] = monteCarloMI(y_CPR[ind, :], d[ind, :], mod)\n",
    "\n",
    "        print(\"Results:\\n\")\n",
    "        print(\"SER: %.2e\" % (SER_NN[indNN][index]))\n",
    "        print(\"BER: %.2e\" % (BER_NN[indNN][index]))\n",
    "        print(\"SNR: %.2f dB\" % (SNR_NN[indNN][index]))\n",
    "        print(\"MI: %.2f bits\" % (MI_NN[indNN][index]))\n",
    "        print(\"GMI: %.2f bits\" % (GMI_NN[indNN][index]))\n"
   ]
  },
  {
   "cell_type": "markdown",
   "metadata": {},
   "source": [
    "### Model Performance Evaluation\n",
    "\n",
    "Realiza uma avaliação da performace do modelo de acordo com cada parâmetro alterado durante a simulação gerando uma superficie no plano tridimensional, para cada ponto obtemos uma configuração distinta para os parâmetros de interesse (Rolloff e FO)   "
   ]
  },
  {
   "cell_type": "code",
   "execution_count": 5,
   "metadata": {},
   "outputs": [],
   "source": [
    "from mpl_toolkits.mplot3d import Axes3D\n",
    "from matplotlib import cm"
   ]
  },
  {
   "cell_type": "code",
   "execution_count": 91,
   "metadata": {},
   "outputs": [
    {
     "data": {
      "image/png": "[encoded data removed]",
      "text/plain": [
       "<Figure size 800x600 with 2 Axes>"
      ]
     },
     "metadata": {},
     "output_type": "display_data"
    },
    {
     "data": {
      "image/png": "[encoded data removed]",
      "text/plain": [
       "<Figure size 500x500 with 1 Axes>"
      ]
     },
     "metadata": {},
     "output_type": "display_data"
    },
    {
     "data": {
      "text/plain": [
       "<Figure size 640x480 with 0 Axes>"
      ]
     },
     "metadata": {},
     "output_type": "display_data"
    }
   ],
   "source": [
    "from filecmp import cmp\n",
    "\n",
    "\n",
    "x = np.arange(0.01, 0.99, 0.1)\n",
    "y = np.arange(1e9, 6e9, 1e9)\n",
    "\n",
    "x, y = np.meshgrid(x, y)\n",
    "z1 = np.log10(BER_NN)  # shape((5, 10))\n",
    "\n",
    "fig = plt.figure(figsize=(8, 6))\n",
    "ax = plt.axes(projection='3d')\n",
    "\n",
    "fig = plt.figure(figsize=(5, 5))\n",
    "plt.contourf(x, y, z1, cmap=cm.winter)\n",
    "plt.xlabel('Rolloff')\n",
    "plt.ylabel('FO')\n",
    "plt.savefig(r'C:\\Users\\Silas\\Documents\\PIVIC-Comunicacoes-Opticas\\resultados\\results_ModelPerformanceContourf_64QAM.png', dpi=600)\n",
    "\n",
    "surf = ax.plot_surface(x, y, z1, cmap=cm.winter, linewidth=1, antialiased=True, edgecolor='None')\n",
    "#surf = ax.scatter(x, y, z1, marker='s', s=150, color='blue')\n",
    "fig.colorbar(surf, ax=ax, shrink=0.5, aspect=7)\n",
    "ax.set_xlabel('Rolloff')\n",
    "ax.set_ylabel('FO')\n",
    "ax.set_zlabel('$log(BER)$')\n",
    "ax.view_init(elev=30, azim=215)\n",
    "ax.set_title('BER Surface Plot')\n",
    "\n",
    "plt.show()\n",
    "plt.savefig(r'C:\\Users\\Silas\\Documents\\PIVIC-Comunicacoes-Opticas\\resultados\\results_ModelPerformance_64QAM.png', dpi=600)"
   ]
  },
  {
   "cell_type": "code",
   "execution_count": 9,
   "metadata": {},
   "outputs": [],
   "source": [
    "## Transmitter parameters:\n",
    "paramTx = parameters()\n",
    "paramTx.M = 64                 # order of the modulation format\n",
    "paramTx.Rs = 32e9              # symbol rate [baud]\n",
    "paramTx.SpS = 4                # samples per symbol\n",
    "paramTx.Nbits = 600000         # total number of bits per polarization\n",
    "paramTx.pulse = \"rrc\"          # pulse shaping filter\n",
    "paramTx.Ntaps = 1024           # number of pulse shaping filter coefficients\n",
    "#paramTx.alphaRRC = 0.91        # RRC rolloff\n",
    "paramTx.Pch_dBm = 0            # power of the optical signal [dBm]\n",
    "paramTx.Nch = 1                # number of WDM channels\n",
    "paramTx.Fc = 193.1e12          # central frequency of the optical spectrum\n",
    "paramTx.freqSpac = 37.5e9      # WDM grid spacing\n",
    "\n",
    "## Optical channel parameters:\n",
    "Ltotal = 50      # total link distance [km]\n",
    "alpha = 0        # fiber loss parameter [dB/km]\n",
    "D = 16          # fiber dispersion parameter [ps/nm/km]\n",
    "Fc = paramTx.Fc  # central optical frequency of the WDM spectrum [Hz]\n",
    "\n",
    "## Receiver parameters:\n",
    "\n",
    "# local oscillator (LO)\n",
    "#FO = 5e9 + paramTx.Rs/2  # frequency offset\n",
    "lw = 0*200e3       # linewidth\n",
    "ϕ_lo = 0           # initial phase in rad\n",
    "Plo_dBm = 12        # power in dBm\n",
    "\n",
    "# ADC sampling rate\n",
    "paramADC = parameters()\n",
    "paramADC.Rs = paramTx.Rs\n",
    "paramADC.SpS_in = paramTx.SpS\n",
    "paramADC.SpS_out = 4\n",
    "\n",
    "## General simulation parameters:\n",
    "chIndex = 0  # index of the channel to be demodulated\n",
    "plotPSD = True\n",
    "Fs = paramTx.Rs * paramTx.SpS  # simulation sampling rate"
   ]
  },
  {
   "cell_type": "code",
   "execution_count": 10,
   "metadata": {},
   "outputs": [
    {
     "name": "stdout",
     "output_type": "stream",
     "text": [
      "channel 0\t fc : 193.1000 THz\n",
      "  mode #0\t power: 0.00 dBm\n",
      "channel 0\t power: 0.00 dBm\n",
      "\n",
      "total WDM dignal power: 0.00 dBm\n",
      "Demodulating channel #0 , fc: 193.1000 THz, λ: 1552.5244 nm\n",
      "\n",
      "Local oscillator P: 12.00 dBm, lw: 0.00 kHz, FO: 17000.00 MHz\n",
      "CSPR = 12.00 dB\n",
      "\n",
      "\n",
      "nlms - training stage #0\n"
     ]
    },
    {
     "data": {
      "application/vnd.jupyter.widget-view+json": {
       "model_id": "6deba79ab4de455f90017873e02a2012",
       "version_major": 2,
       "version_minor": 0
      },
      "text/plain": [
       "  0%|          | 0/5 [00:00<?, ?it/s]"
      ]
     },
     "metadata": {},
     "output_type": "display_data"
    },
    {
     "name": "stdout",
     "output_type": "stream",
     "text": [
      "nlms pre-convergence training iteration #0\n",
      "nlms MSE = 0.022355.\n",
      "nlms pre-convergence training iteration #1\n",
      "nlms MSE = 0.002423.\n",
      "nlms pre-convergence training iteration #2\n",
      "nlms MSE = 0.002021.\n",
      "nlms pre-convergence training iteration #3\n",
      "nlms MSE = 0.001792.\n",
      "nlms pre-convergence training iteration #4\n",
      "nlms MSE = 0.001638.\n",
      "\n",
      "\n",
      "dd-lms - training stage #1\n",
      "dd-lms MSE = 0.000989.\n",
      "Results:\n",
      "\n",
      "SER: 3.89e-04\n",
      "BER: 6.85e-05\n",
      "SNR: 29.80 dB\n",
      "MI: 5.99 bits\n",
      "GMI: 5.99 bits\n",
      "channel 0\t fc : 193.1000 THz\n",
      "  mode #0\t power: 0.00 dBm\n",
      "channel 0\t power: -0.00 dBm\n",
      "\n",
      "total WDM dignal power: -0.00 dBm\n",
      "Demodulating channel #0 , fc: 193.1000 THz, λ: 1552.5244 nm\n",
      "\n",
      "Local oscillator P: 12.00 dBm, lw: 0.00 kHz, FO: 17000.00 MHz\n",
      "CSPR = 12.00 dB\n",
      "\n",
      "\n",
      "nlms - training stage #0\n"
     ]
    },
    {
     "data": {
      "application/vnd.jupyter.widget-view+json": {
       "model_id": "69eca22fefaf46468ef512232457b272",
       "version_major": 2,
       "version_minor": 0
      },
      "text/plain": [
       "  0%|          | 0/5 [00:00<?, ?it/s]"
      ]
     },
     "metadata": {},
     "output_type": "display_data"
    },
    {
     "name": "stdout",
     "output_type": "stream",
     "text": [
      "nlms pre-convergence training iteration #0\n",
      "nlms MSE = 0.020086.\n",
      "nlms pre-convergence training iteration #1\n",
      "nlms MSE = 0.002555.\n",
      "nlms pre-convergence training iteration #2\n",
      "nlms MSE = 0.002080.\n",
      "nlms pre-convergence training iteration #3\n",
      "nlms MSE = 0.001835.\n",
      "nlms pre-convergence training iteration #4\n",
      "nlms MSE = 0.001686.\n",
      "\n",
      "\n",
      "dd-lms - training stage #1\n",
      "dd-lms MSE = 0.001172.\n",
      "Results:\n",
      "\n",
      "SER: 4.22e-04\n",
      "BER: 7.04e-05\n",
      "SNR: 29.19 dB\n",
      "MI: 5.99 bits\n",
      "GMI: 5.99 bits\n",
      "channel 0\t fc : 193.1000 THz\n",
      "  mode #0\t power: 0.00 dBm\n",
      "channel 0\t power: 0.00 dBm\n",
      "\n",
      "total WDM dignal power: 0.00 dBm\n",
      "Demodulating channel #0 , fc: 193.1000 THz, λ: 1552.5244 nm\n",
      "\n",
      "Local oscillator P: 12.00 dBm, lw: 0.00 kHz, FO: 17000.00 MHz\n",
      "CSPR = 12.00 dB\n",
      "\n",
      "\n",
      "nlms - training stage #0\n"
     ]
    },
    {
     "data": {
      "application/vnd.jupyter.widget-view+json": {
       "model_id": "7ba22157867f4c48b2662a0ce4a5a363",
       "version_major": 2,
       "version_minor": 0
      },
      "text/plain": [
       "  0%|          | 0/5 [00:00<?, ?it/s]"
      ]
     },
     "metadata": {},
     "output_type": "display_data"
    },
    {
     "name": "stdout",
     "output_type": "stream",
     "text": [
      "nlms pre-convergence training iteration #0\n",
      "nlms MSE = 0.022567.\n",
      "nlms pre-convergence training iteration #1\n",
      "nlms MSE = 0.005585.\n",
      "nlms pre-convergence training iteration #2\n",
      "nlms MSE = 0.004895.\n",
      "nlms pre-convergence training iteration #3\n",
      "nlms MSE = 0.004512.\n",
      "nlms pre-convergence training iteration #4\n",
      "nlms MSE = 0.004258.\n",
      "\n",
      "\n",
      "dd-lms - training stage #1\n",
      "dd-lms MSE = 0.002996.\n",
      "Results:\n",
      "\n",
      "SER: 2.00e-03\n",
      "BER: 3.37e-04\n",
      "SNR: 25.18 dB\n",
      "MI: 5.98 bits\n",
      "GMI: 5.98 bits\n",
      "channel 0\t fc : 193.1000 THz\n",
      "  mode #0\t power: 0.00 dBm\n",
      "channel 0\t power: -0.00 dBm\n",
      "\n",
      "total WDM dignal power: -0.00 dBm\n",
      "Demodulating channel #0 , fc: 193.1000 THz, λ: 1552.5244 nm\n",
      "\n",
      "Local oscillator P: 12.00 dBm, lw: 0.00 kHz, FO: 17000.00 MHz\n",
      "CSPR = 12.00 dB\n",
      "\n",
      "\n",
      "nlms - training stage #0\n"
     ]
    },
    {
     "data": {
      "application/vnd.jupyter.widget-view+json": {
       "model_id": "222f58c31e604162af91f36d2f492507",
       "version_major": 2,
       "version_minor": 0
      },
      "text/plain": [
       "  0%|          | 0/5 [00:00<?, ?it/s]"
      ]
     },
     "metadata": {},
     "output_type": "display_data"
    },
    {
     "name": "stdout",
     "output_type": "stream",
     "text": [
      "nlms pre-convergence training iteration #0\n",
      "nlms MSE = 0.027478.\n",
      "nlms pre-convergence training iteration #1\n",
      "nlms MSE = 0.008801.\n",
      "nlms pre-convergence training iteration #2\n",
      "nlms MSE = 0.007281.\n",
      "nlms pre-convergence training iteration #3\n",
      "nlms MSE = 0.006488.\n",
      "nlms pre-convergence training iteration #4\n",
      "nlms MSE = 0.005983.\n",
      "\n",
      "\n",
      "dd-lms - training stage #1\n",
      "dd-lms MSE = 0.004025.\n",
      "Results:\n",
      "\n",
      "SER: 6.49e-03\n",
      "BER: 1.10e-03\n",
      "SNR: 23.85 dB\n",
      "MI: 5.96 bits\n",
      "GMI: 5.96 bits\n",
      "channel 0\t fc : 193.1000 THz\n",
      "  mode #0\t power: 0.00 dBm\n",
      "channel 0\t power: -0.00 dBm\n",
      "\n",
      "total WDM dignal power: -0.00 dBm\n",
      "Demodulating channel #0 , fc: 193.1000 THz, λ: 1552.5244 nm\n",
      "\n",
      "Local oscillator P: 12.00 dBm, lw: 0.00 kHz, FO: 17000.00 MHz\n",
      "CSPR = 12.00 dB\n",
      "\n",
      "\n",
      "nlms - training stage #0\n"
     ]
    },
    {
     "data": {
      "application/vnd.jupyter.widget-view+json": {
       "model_id": "136212b78ff34c3f8e0a9c0dc898b08e",
       "version_major": 2,
       "version_minor": 0
      },
      "text/plain": [
       "  0%|          | 0/5 [00:00<?, ?it/s]"
      ]
     },
     "metadata": {},
     "output_type": "display_data"
    },
    {
     "name": "stdout",
     "output_type": "stream",
     "text": [
      "nlms pre-convergence training iteration #0\n",
      "nlms MSE = 0.032747.\n",
      "nlms pre-convergence training iteration #1\n",
      "nlms MSE = 0.011512.\n",
      "nlms pre-convergence training iteration #2\n",
      "nlms MSE = 0.009178.\n",
      "nlms pre-convergence training iteration #3\n",
      "nlms MSE = 0.008067.\n",
      "nlms pre-convergence training iteration #4\n",
      "nlms MSE = 0.007396.\n",
      "\n",
      "\n",
      "dd-lms - training stage #1\n",
      "dd-lms MSE = 0.005242.\n",
      "Results:\n",
      "\n",
      "SER: 1.60e-02\n",
      "BER: 2.71e-03\n",
      "SNR: 22.58 dB\n",
      "MI: 5.92 bits\n",
      "GMI: 5.91 bits\n",
      "channel 0\t fc : 193.1000 THz\n",
      "  mode #0\t power: 0.00 dBm\n",
      "channel 0\t power: -0.00 dBm\n",
      "\n",
      "total WDM dignal power: -0.00 dBm\n",
      "Demodulating channel #0 , fc: 193.1000 THz, λ: 1552.5244 nm\n",
      "\n",
      "Local oscillator P: 12.00 dBm, lw: 0.00 kHz, FO: 17000.00 MHz\n",
      "CSPR = 12.00 dB\n",
      "\n",
      "\n",
      "nlms - training stage #0\n"
     ]
    },
    {
     "data": {
      "application/vnd.jupyter.widget-view+json": {
       "model_id": "cf6a4f690b1e4b529591d5302e287aa5",
       "version_major": 2,
       "version_minor": 0
      },
      "text/plain": [
       "  0%|          | 0/5 [00:00<?, ?it/s]"
      ]
     },
     "metadata": {},
     "output_type": "display_data"
    },
    {
     "name": "stdout",
     "output_type": "stream",
     "text": [
      "nlms pre-convergence training iteration #0\n",
      "nlms MSE = 0.037569.\n",
      "nlms pre-convergence training iteration #1\n",
      "nlms MSE = 0.014166.\n",
      "nlms pre-convergence training iteration #2\n",
      "nlms MSE = 0.011178.\n",
      "nlms pre-convergence training iteration #3\n",
      "nlms MSE = 0.009804.\n",
      "nlms pre-convergence training iteration #4\n",
      "nlms MSE = 0.008984.\n",
      "\n",
      "\n",
      "dd-lms - training stage #1\n",
      "dd-lms MSE = 0.006579.\n",
      "Results:\n",
      "\n",
      "SER: 2.97e-02\n",
      "BER: 5.11e-03\n",
      "SNR: 21.47 dB\n",
      "MI: 5.86 bits\n",
      "GMI: 5.85 bits\n",
      "channel 0\t fc : 193.1000 THz\n",
      "  mode #0\t power: 0.00 dBm\n",
      "channel 0\t power: -0.00 dBm\n",
      "\n",
      "total WDM dignal power: -0.00 dBm\n",
      "Demodulating channel #0 , fc: 193.1000 THz, λ: 1552.5244 nm\n",
      "\n",
      "Local oscillator P: 12.00 dBm, lw: 0.00 kHz, FO: 17000.00 MHz\n",
      "CSPR = 12.00 dB\n",
      "\n",
      "\n",
      "nlms - training stage #0\n"
     ]
    },
    {
     "data": {
      "application/vnd.jupyter.widget-view+json": {
       "model_id": "5f93f40501c649d9aee88f6901314fdc",
       "version_major": 2,
       "version_minor": 0
      },
      "text/plain": [
       "  0%|          | 0/5 [00:00<?, ?it/s]"
      ]
     },
     "metadata": {},
     "output_type": "display_data"
    },
    {
     "name": "stdout",
     "output_type": "stream",
     "text": [
      "nlms pre-convergence training iteration #0\n",
      "nlms MSE = 0.044305.\n",
      "nlms pre-convergence training iteration #1\n",
      "nlms MSE = 0.017713.\n",
      "nlms pre-convergence training iteration #2\n",
      "nlms MSE = 0.014048.\n",
      "nlms pre-convergence training iteration #3\n",
      "nlms MSE = 0.012371.\n",
      "nlms pre-convergence training iteration #4\n",
      "nlms MSE = 0.011376.\n",
      "\n",
      "\n",
      "dd-lms - training stage #1\n",
      "dd-lms MSE = 0.008030.\n",
      "Results:\n",
      "\n",
      "SER: 5.45e-02\n",
      "BER: 9.37e-03\n",
      "SNR: 20.36 dB\n",
      "MI: 5.75 bits\n",
      "GMI: 5.75 bits\n",
      "channel 0\t fc : 193.1000 THz\n",
      "  mode #0\t power: 0.00 dBm\n",
      "channel 0\t power: 0.00 dBm\n",
      "\n",
      "total WDM dignal power: 0.00 dBm\n",
      "Demodulating channel #0 , fc: 193.1000 THz, λ: 1552.5244 nm\n",
      "\n",
      "Local oscillator P: 12.00 dBm, lw: 0.00 kHz, FO: 17000.00 MHz\n",
      "CSPR = 12.00 dB\n",
      "\n",
      "\n",
      "nlms - training stage #0\n"
     ]
    },
    {
     "data": {
      "application/vnd.jupyter.widget-view+json": {
       "model_id": "7b9f3420bdcb4298bbe125696e26e97c",
       "version_major": 2,
       "version_minor": 0
      },
      "text/plain": [
       "  0%|          | 0/5 [00:00<?, ?it/s]"
      ]
     },
     "metadata": {},
     "output_type": "display_data"
    },
    {
     "name": "stdout",
     "output_type": "stream",
     "text": [
      "nlms pre-convergence training iteration #0\n",
      "nlms MSE = 0.051197.\n",
      "nlms pre-convergence training iteration #1\n",
      "nlms MSE = 0.021852.\n",
      "nlms pre-convergence training iteration #2\n",
      "nlms MSE = 0.017443.\n",
      "nlms pre-convergence training iteration #3\n",
      "nlms MSE = 0.015398.\n",
      "nlms pre-convergence training iteration #4\n",
      "nlms MSE = 0.014181.\n",
      "\n",
      "\n",
      "dd-lms - training stage #1\n",
      "dd-lms MSE = 0.009216.\n",
      "Results:\n",
      "\n",
      "SER: 7.97e-02\n",
      "BER: 1.37e-02\n",
      "SNR: 19.52 dB\n",
      "MI: 5.65 bits\n",
      "GMI: 5.65 bits\n",
      "channel 0\t fc : 193.1000 THz\n",
      "  mode #0\t power: 0.00 dBm\n",
      "channel 0\t power: -0.00 dBm\n",
      "\n",
      "total WDM dignal power: -0.00 dBm\n",
      "Demodulating channel #0 , fc: 193.1000 THz, λ: 1552.5244 nm\n",
      "\n",
      "Local oscillator P: 12.00 dBm, lw: 0.00 kHz, FO: 17000.00 MHz\n",
      "CSPR = 12.00 dB\n",
      "\n",
      "\n",
      "nlms - training stage #0\n"
     ]
    },
    {
     "data": {
      "application/vnd.jupyter.widget-view+json": {
       "model_id": "c1a4b1e8abf84dcda878f309b0b30e12",
       "version_major": 2,
       "version_minor": 0
      },
      "text/plain": [
       "  0%|          | 0/5 [00:00<?, ?it/s]"
      ]
     },
     "metadata": {},
     "output_type": "display_data"
    },
    {
     "name": "stdout",
     "output_type": "stream",
     "text": [
      "nlms pre-convergence training iteration #0\n",
      "nlms MSE = 0.057285.\n",
      "nlms pre-convergence training iteration #1\n",
      "nlms MSE = 0.025676.\n",
      "nlms pre-convergence training iteration #2\n",
      "nlms MSE = 0.020437.\n",
      "nlms pre-convergence training iteration #3\n",
      "nlms MSE = 0.017989.\n",
      "nlms pre-convergence training iteration #4\n",
      "nlms MSE = 0.016516.\n",
      "\n",
      "\n",
      "dd-lms - training stage #1\n",
      "dd-lms MSE = 0.010685.\n",
      "Results:\n",
      "\n",
      "SER: 1.18e-01\n",
      "BER: 2.06e-02\n",
      "SNR: 18.57 dB\n",
      "MI: 5.49 bits\n",
      "GMI: 5.49 bits\n",
      "channel 0\t fc : 193.1000 THz\n",
      "  mode #0\t power: 0.00 dBm\n",
      "channel 0\t power: -0.00 dBm\n",
      "\n",
      "total WDM dignal power: -0.00 dBm\n",
      "Demodulating channel #0 , fc: 193.1000 THz, λ: 1552.5244 nm\n",
      "\n",
      "Local oscillator P: 12.00 dBm, lw: 0.00 kHz, FO: 17000.00 MHz\n",
      "CSPR = 12.00 dB\n",
      "\n",
      "\n",
      "nlms - training stage #0\n"
     ]
    },
    {
     "data": {
      "application/vnd.jupyter.widget-view+json": {
       "model_id": "498a9dc139554bf9846fc9442428a934",
       "version_major": 2,
       "version_minor": 0
      },
      "text/plain": [
       "  0%|          | 0/5 [00:00<?, ?it/s]"
      ]
     },
     "metadata": {},
     "output_type": "display_data"
    },
    {
     "name": "stdout",
     "output_type": "stream",
     "text": [
      "nlms pre-convergence training iteration #0\n",
      "nlms MSE = 0.064470.\n",
      "nlms pre-convergence training iteration #1\n",
      "nlms MSE = 0.029339.\n",
      "nlms pre-convergence training iteration #2\n",
      "nlms MSE = 0.023385.\n",
      "nlms pre-convergence training iteration #3\n",
      "nlms MSE = 0.020629.\n",
      "nlms pre-convergence training iteration #4\n",
      "nlms MSE = 0.018965.\n",
      "\n",
      "\n",
      "dd-lms - training stage #1\n",
      "dd-lms MSE = 0.011786.\n",
      "Results:\n",
      "\n",
      "SER: 1.60e-01\n",
      "BER: 2.83e-02\n",
      "SNR: 17.75 dB\n",
      "MI: 5.32 bits\n",
      "GMI: 5.32 bits\n",
      "channel 0\t fc : 193.1000 THz\n",
      "  mode #0\t power: 0.00 dBm\n",
      "channel 0\t power: -0.00 dBm\n",
      "\n",
      "total WDM dignal power: -0.00 dBm\n",
      "Demodulating channel #0 , fc: 193.1000 THz, λ: 1552.5244 nm\n",
      "\n",
      "Local oscillator P: 12.00 dBm, lw: 0.00 kHz, FO: 18000.00 MHz\n",
      "CSPR = 12.00 dB\n",
      "\n",
      "\n",
      "nlms - training stage #0\n"
     ]
    },
    {
     "data": {
      "application/vnd.jupyter.widget-view+json": {
       "model_id": "c2a57490e0a64aa181e6c43ba344ac4f",
       "version_major": 2,
       "version_minor": 0
      },
      "text/plain": [
       "  0%|          | 0/5 [00:00<?, ?it/s]"
      ]
     },
     "metadata": {},
     "output_type": "display_data"
    },
    {
     "name": "stdout",
     "output_type": "stream",
     "text": [
      "nlms pre-convergence training iteration #0\n",
      "nlms MSE = 0.022388.\n",
      "nlms pre-convergence training iteration #1\n",
      "nlms MSE = 0.002423.\n",
      "nlms pre-convergence training iteration #2\n",
      "nlms MSE = 0.002011.\n",
      "nlms pre-convergence training iteration #3\n",
      "nlms MSE = 0.001775.\n",
      "nlms pre-convergence training iteration #4\n",
      "nlms MSE = 0.001621.\n",
      "\n",
      "\n",
      "dd-lms - training stage #1\n",
      "dd-lms MSE = 0.001101.\n",
      "Results:\n",
      "\n",
      "SER: 4.89e-04\n",
      "BER: 8.52e-05\n",
      "SNR: 29.35 dB\n",
      "MI: 5.99 bits\n",
      "GMI: 5.99 bits\n",
      "channel 0\t fc : 193.1000 THz\n",
      "  mode #0\t power: 0.00 dBm\n",
      "channel 0\t power: 0.00 dBm\n",
      "\n",
      "total WDM dignal power: 0.00 dBm\n",
      "Demodulating channel #0 , fc: 193.1000 THz, λ: 1552.5244 nm\n",
      "\n",
      "Local oscillator P: 12.00 dBm, lw: 0.00 kHz, FO: 18000.00 MHz\n",
      "CSPR = 12.00 dB\n",
      "\n",
      "\n",
      "nlms - training stage #0\n"
     ]
    },
    {
     "data": {
      "application/vnd.jupyter.widget-view+json": {
       "model_id": "7559efe0c0b74ea8a86b69858330972e",
       "version_major": 2,
       "version_minor": 0
      },
      "text/plain": [
       "  0%|          | 0/5 [00:00<?, ?it/s]"
      ]
     },
     "metadata": {},
     "output_type": "display_data"
    },
    {
     "name": "stdout",
     "output_type": "stream",
     "text": [
      "nlms pre-convergence training iteration #0\n",
      "nlms MSE = 0.019749.\n",
      "nlms pre-convergence training iteration #1\n",
      "nlms MSE = 0.002527.\n",
      "nlms pre-convergence training iteration #2\n",
      "nlms MSE = 0.002072.\n",
      "nlms pre-convergence training iteration #3\n",
      "nlms MSE = 0.001832.\n",
      "nlms pre-convergence training iteration #4\n",
      "nlms MSE = 0.001683.\n",
      "\n",
      "\n",
      "dd-lms - training stage #1\n",
      "dd-lms MSE = 0.001009.\n",
      "Results:\n",
      "\n",
      "SER: 4.67e-04\n",
      "BER: 7.78e-05\n",
      "SNR: 29.73 dB\n",
      "MI: 5.99 bits\n",
      "GMI: 5.99 bits\n",
      "channel 0\t fc : 193.1000 THz\n",
      "  mode #0\t power: 0.00 dBm\n",
      "channel 0\t power: -0.00 dBm\n",
      "\n",
      "total WDM dignal power: -0.00 dBm\n",
      "Demodulating channel #0 , fc: 193.1000 THz, λ: 1552.5244 nm\n",
      "\n",
      "Local oscillator P: 12.00 dBm, lw: 0.00 kHz, FO: 18000.00 MHz\n",
      "CSPR = 12.00 dB\n",
      "\n",
      "\n",
      "nlms - training stage #0\n"
     ]
    },
    {
     "data": {
      "application/vnd.jupyter.widget-view+json": {
       "model_id": "e646c197186d41a79f349af07a200be0",
       "version_major": 2,
       "version_minor": 0
      },
      "text/plain": [
       "  0%|          | 0/5 [00:00<?, ?it/s]"
      ]
     },
     "metadata": {},
     "output_type": "display_data"
    },
    {
     "name": "stdout",
     "output_type": "stream",
     "text": [
      "nlms pre-convergence training iteration #0\n",
      "nlms MSE = 0.017503.\n",
      "nlms pre-convergence training iteration #1\n",
      "nlms MSE = 0.002743.\n",
      "nlms pre-convergence training iteration #2\n",
      "nlms MSE = 0.002532.\n",
      "nlms pre-convergence training iteration #3\n",
      "nlms MSE = 0.002391.\n",
      "nlms pre-convergence training iteration #4\n",
      "nlms MSE = 0.002291.\n",
      "\n",
      "\n",
      "dd-lms - training stage #1\n",
      "dd-lms MSE = 0.001443.\n",
      "Results:\n",
      "\n",
      "SER: 4.67e-04\n",
      "BER: 8.15e-05\n",
      "SNR: 28.33 dB\n",
      "MI: 5.99 bits\n",
      "GMI: 5.99 bits\n",
      "channel 0\t fc : 193.1000 THz\n",
      "  mode #0\t power: 0.00 dBm\n",
      "channel 0\t power: 0.00 dBm\n",
      "\n",
      "total WDM dignal power: 0.00 dBm\n",
      "Demodulating channel #0 , fc: 193.1000 THz, λ: 1552.5244 nm\n",
      "\n",
      "Local oscillator P: 12.00 dBm, lw: 0.00 kHz, FO: 18000.00 MHz\n",
      "CSPR = 12.00 dB\n",
      "\n",
      "\n",
      "nlms - training stage #0\n"
     ]
    },
    {
     "data": {
      "application/vnd.jupyter.widget-view+json": {
       "model_id": "8b811efba9044a1489588befdd9cf5ae",
       "version_major": 2,
       "version_minor": 0
      },
      "text/plain": [
       "  0%|          | 0/5 [00:00<?, ?it/s]"
      ]
     },
     "metadata": {},
     "output_type": "display_data"
    },
    {
     "name": "stdout",
     "output_type": "stream",
     "text": [
      "nlms pre-convergence training iteration #0\n",
      "nlms MSE = 0.020172.\n",
      "nlms pre-convergence training iteration #1\n",
      "nlms MSE = 0.004955.\n",
      "nlms pre-convergence training iteration #2\n",
      "nlms MSE = 0.004375.\n",
      "nlms pre-convergence training iteration #3\n",
      "nlms MSE = 0.003988.\n",
      "nlms pre-convergence training iteration #4\n",
      "nlms MSE = 0.003708.\n",
      "\n",
      "\n",
      "dd-lms - training stage #1\n",
      "dd-lms MSE = 0.002310.\n",
      "Results:\n",
      "\n",
      "SER: 9.67e-04\n",
      "BER: 1.65e-04\n",
      "SNR: 26.28 dB\n",
      "MI: 5.99 bits\n",
      "GMI: 5.99 bits\n",
      "channel 0\t fc : 193.1000 THz\n",
      "  mode #0\t power: 0.00 dBm\n",
      "channel 0\t power: -0.00 dBm\n",
      "\n",
      "total WDM dignal power: -0.00 dBm\n",
      "Demodulating channel #0 , fc: 193.1000 THz, λ: 1552.5244 nm\n",
      "\n",
      "Local oscillator P: 12.00 dBm, lw: 0.00 kHz, FO: 18000.00 MHz\n",
      "CSPR = 12.00 dB\n",
      "\n",
      "\n",
      "nlms - training stage #0\n"
     ]
    },
    {
     "data": {
      "application/vnd.jupyter.widget-view+json": {
       "model_id": "7312d66e962c4a0eb8d204507d4154f3",
       "version_major": 2,
       "version_minor": 0
      },
      "text/plain": [
       "  0%|          | 0/5 [00:00<?, ?it/s]"
      ]
     },
     "metadata": {},
     "output_type": "display_data"
    },
    {
     "name": "stdout",
     "output_type": "stream",
     "text": [
      "nlms pre-convergence training iteration #0\n",
      "nlms MSE = 0.024193.\n",
      "nlms pre-convergence training iteration #1\n",
      "nlms MSE = 0.007527.\n",
      "nlms pre-convergence training iteration #2\n",
      "nlms MSE = 0.005975.\n",
      "nlms pre-convergence training iteration #3\n",
      "nlms MSE = 0.005162.\n",
      "nlms pre-convergence training iteration #4\n",
      "nlms MSE = 0.004671.\n",
      "\n",
      "\n",
      "dd-lms - training stage #1\n",
      "dd-lms MSE = 0.003084.\n",
      "Results:\n",
      "\n",
      "SER: 2.63e-03\n",
      "BER: 4.46e-04\n",
      "SNR: 25.01 dB\n",
      "MI: 5.98 bits\n",
      "GMI: 5.98 bits\n",
      "channel 0\t fc : 193.1000 THz\n",
      "  mode #0\t power: 0.00 dBm\n",
      "channel 0\t power: -0.00 dBm\n",
      "\n",
      "total WDM dignal power: -0.00 dBm\n",
      "Demodulating channel #0 , fc: 193.1000 THz, λ: 1552.5244 nm\n",
      "\n",
      "Local oscillator P: 12.00 dBm, lw: 0.00 kHz, FO: 18000.00 MHz\n",
      "CSPR = 12.00 dB\n",
      "\n",
      "\n",
      "nlms - training stage #0\n"
     ]
    },
    {
     "data": {
      "application/vnd.jupyter.widget-view+json": {
       "model_id": "4e2e091b848b4716888407cf0e5018d5",
       "version_major": 2,
       "version_minor": 0
      },
      "text/plain": [
       "  0%|          | 0/5 [00:00<?, ?it/s]"
      ]
     },
     "metadata": {},
     "output_type": "display_data"
    },
    {
     "name": "stdout",
     "output_type": "stream",
     "text": [
      "nlms pre-convergence training iteration #0\n",
      "nlms MSE = 0.028951.\n",
      "nlms pre-convergence training iteration #1\n",
      "nlms MSE = 0.009673.\n",
      "nlms pre-convergence training iteration #2\n",
      "nlms MSE = 0.007456.\n",
      "nlms pre-convergence training iteration #3\n",
      "nlms MSE = 0.006457.\n",
      "nlms pre-convergence training iteration #4\n",
      "nlms MSE = 0.005901.\n",
      "\n",
      "\n",
      "dd-lms - training stage #1\n",
      "dd-lms MSE = 0.004229.\n",
      "Results:\n",
      "\n",
      "SER: 7.41e-03\n",
      "BER: 1.25e-03\n",
      "SNR: 23.65 dB\n",
      "MI: 5.96 bits\n",
      "GMI: 5.95 bits\n",
      "channel 0\t fc : 193.1000 THz\n",
      "  mode #0\t power: 0.00 dBm\n",
      "channel 0\t power: 0.00 dBm\n",
      "\n",
      "total WDM dignal power: 0.00 dBm\n",
      "Demodulating channel #0 , fc: 193.1000 THz, λ: 1552.5244 nm\n",
      "\n",
      "Local oscillator P: 12.00 dBm, lw: 0.00 kHz, FO: 18000.00 MHz\n",
      "CSPR = 12.00 dB\n",
      "\n",
      "\n",
      "nlms - training stage #0\n"
     ]
    },
    {
     "data": {
      "application/vnd.jupyter.widget-view+json": {
       "model_id": "f48a653b0853464b87ffa75d4b77c704",
       "version_major": 2,
       "version_minor": 0
      },
      "text/plain": [
       "  0%|          | 0/5 [00:00<?, ?it/s]"
      ]
     },
     "metadata": {},
     "output_type": "display_data"
    },
    {
     "name": "stdout",
     "output_type": "stream",
     "text": [
      "nlms pre-convergence training iteration #0\n",
      "nlms MSE = 0.033984.\n",
      "nlms pre-convergence training iteration #1\n",
      "nlms MSE = 0.012341.\n",
      "nlms pre-convergence training iteration #2\n",
      "nlms MSE = 0.009448.\n",
      "nlms pre-convergence training iteration #3\n",
      "nlms MSE = 0.008214.\n",
      "nlms pre-convergence training iteration #4\n",
      "nlms MSE = 0.007533.\n",
      "\n",
      "\n",
      "dd-lms - training stage #1\n",
      "dd-lms MSE = 0.005502.\n",
      "Results:\n",
      "\n",
      "SER: 1.70e-02\n",
      "BER: 2.88e-03\n",
      "SNR: 22.38 dB\n",
      "MI: 5.91 bits\n",
      "GMI: 5.91 bits\n",
      "channel 0\t fc : 193.1000 THz\n",
      "  mode #0\t power: 0.00 dBm\n",
      "channel 0\t power: -0.00 dBm\n",
      "\n",
      "total WDM dignal power: -0.00 dBm\n",
      "Demodulating channel #0 , fc: 193.1000 THz, λ: 1552.5244 nm\n",
      "\n",
      "Local oscillator P: 12.00 dBm, lw: 0.00 kHz, FO: 18000.00 MHz\n",
      "CSPR = 12.00 dB\n",
      "\n",
      "\n",
      "nlms - training stage #0\n"
     ]
    },
    {
     "data": {
      "application/vnd.jupyter.widget-view+json": {
       "model_id": "a199e1888d5d42408189f9c940b3d5c2",
       "version_major": 2,
       "version_minor": 0
      },
      "text/plain": [
       "  0%|          | 0/5 [00:00<?, ?it/s]"
      ]
     },
     "metadata": {},
     "output_type": "display_data"
    },
    {
     "name": "stdout",
     "output_type": "stream",
     "text": [
      "nlms pre-convergence training iteration #0\n",
      "nlms MSE = 0.039736.\n",
      "nlms pre-convergence training iteration #1\n",
      "nlms MSE = 0.015273.\n",
      "nlms pre-convergence training iteration #2\n",
      "nlms MSE = 0.011798.\n",
      "nlms pre-convergence training iteration #3\n",
      "nlms MSE = 0.010320.\n",
      "nlms pre-convergence training iteration #4\n",
      "nlms MSE = 0.009486.\n",
      "\n",
      "\n",
      "dd-lms - training stage #1\n",
      "dd-lms MSE = 0.006779.\n",
      "Results:\n",
      "\n",
      "SER: 3.24e-02\n",
      "BER: 5.53e-03\n",
      "SNR: 21.29 dB\n",
      "MI: 5.84 bits\n",
      "GMI: 5.84 bits\n",
      "channel 0\t fc : 193.1000 THz\n",
      "  mode #0\t power: 0.00 dBm\n",
      "channel 0\t power: -0.00 dBm\n",
      "\n",
      "total WDM dignal power: -0.00 dBm\n",
      "Demodulating channel #0 , fc: 193.1000 THz, λ: 1552.5244 nm\n",
      "\n",
      "Local oscillator P: 12.00 dBm, lw: 0.00 kHz, FO: 18000.00 MHz\n",
      "CSPR = 12.00 dB\n",
      "\n",
      "\n",
      "nlms - training stage #0\n"
     ]
    },
    {
     "data": {
      "application/vnd.jupyter.widget-view+json": {
       "model_id": "75cebb8d96b44b0eb00ff001442dcfe5",
       "version_major": 2,
       "version_minor": 0
      },
      "text/plain": [
       "  0%|          | 0/5 [00:00<?, ?it/s]"
      ]
     },
     "metadata": {},
     "output_type": "display_data"
    },
    {
     "name": "stdout",
     "output_type": "stream",
     "text": [
      "nlms pre-convergence training iteration #0\n",
      "nlms MSE = 0.045702.\n",
      "nlms pre-convergence training iteration #1\n",
      "nlms MSE = 0.018905.\n",
      "nlms pre-convergence training iteration #2\n",
      "nlms MSE = 0.014822.\n",
      "nlms pre-convergence training iteration #3\n",
      "nlms MSE = 0.013013.\n",
      "nlms pre-convergence training iteration #4\n",
      "nlms MSE = 0.011958.\n",
      "\n",
      "\n",
      "dd-lms - training stage #1\n",
      "dd-lms MSE = 0.008062.\n",
      "Results:\n",
      "\n",
      "SER: 5.43e-02\n",
      "BER: 9.35e-03\n",
      "SNR: 20.30 dB\n",
      "MI: 5.75 bits\n",
      "GMI: 5.75 bits\n",
      "channel 0\t fc : 193.1000 THz\n",
      "  mode #0\t power: 0.00 dBm\n",
      "channel 0\t power: 0.00 dBm\n",
      "\n",
      "total WDM dignal power: 0.00 dBm\n",
      "Demodulating channel #0 , fc: 193.1000 THz, λ: 1552.5244 nm\n",
      "\n",
      "Local oscillator P: 12.00 dBm, lw: 0.00 kHz, FO: 18000.00 MHz\n",
      "CSPR = 12.00 dB\n",
      "\n",
      "\n",
      "nlms - training stage #0\n"
     ]
    },
    {
     "data": {
      "application/vnd.jupyter.widget-view+json": {
       "model_id": "ed8559782c71495ba396350a5eee97ea",
       "version_major": 2,
       "version_minor": 0
      },
      "text/plain": [
       "  0%|          | 0/5 [00:00<?, ?it/s]"
      ]
     },
     "metadata": {},
     "output_type": "display_data"
    },
    {
     "name": "stdout",
     "output_type": "stream",
     "text": [
      "nlms pre-convergence training iteration #0\n",
      "nlms MSE = 0.051931.\n",
      "nlms pre-convergence training iteration #1\n",
      "nlms MSE = 0.022429.\n",
      "nlms pre-convergence training iteration #2\n",
      "nlms MSE = 0.017659.\n",
      "nlms pre-convergence training iteration #3\n",
      "nlms MSE = 0.015517.\n",
      "nlms pre-convergence training iteration #4\n",
      "nlms MSE = 0.014253.\n",
      "\n",
      "\n",
      "dd-lms - training stage #1\n",
      "dd-lms MSE = 0.009448.\n",
      "Results:\n",
      "\n",
      "SER: 8.25e-02\n",
      "BER: 1.42e-02\n",
      "SNR: 19.41 dB\n",
      "MI: 5.64 bits\n",
      "GMI: 5.64 bits\n",
      "channel 0\t fc : 193.1000 THz\n",
      "  mode #0\t power: 0.00 dBm\n",
      "channel 0\t power: 0.00 dBm\n",
      "\n",
      "total WDM dignal power: 0.00 dBm\n",
      "Demodulating channel #0 , fc: 193.1000 THz, λ: 1552.5244 nm\n",
      "\n",
      "Local oscillator P: 12.00 dBm, lw: 0.00 kHz, FO: 19000.00 MHz\n",
      "CSPR = 12.00 dB\n",
      "\n",
      "\n",
      "nlms - training stage #0\n"
     ]
    },
    {
     "data": {
      "application/vnd.jupyter.widget-view+json": {
       "model_id": "dc0a7cdc2b0542ddba0d396a75e48802",
       "version_major": 2,
       "version_minor": 0
      },
      "text/plain": [
       "  0%|          | 0/5 [00:00<?, ?it/s]"
      ]
     },
     "metadata": {},
     "output_type": "display_data"
    },
    {
     "name": "stdout",
     "output_type": "stream",
     "text": [
      "nlms pre-convergence training iteration #0\n",
      "nlms MSE = 0.022325.\n",
      "nlms pre-convergence training iteration #1\n",
      "nlms MSE = 0.002652.\n",
      "nlms pre-convergence training iteration #2\n",
      "nlms MSE = 0.002258.\n",
      "nlms pre-convergence training iteration #3\n",
      "nlms MSE = 0.002033.\n",
      "nlms pre-convergence training iteration #4\n",
      "nlms MSE = 0.001884.\n",
      "\n",
      "\n",
      "dd-lms - training stage #1\n",
      "dd-lms MSE = 0.001265.\n",
      "Results:\n",
      "\n",
      "SER: 6.67e-04\n",
      "BER: 1.13e-04\n",
      "SNR: 28.80 dB\n",
      "MI: 5.99 bits\n",
      "GMI: 5.98 bits\n",
      "channel 0\t fc : 193.1000 THz\n",
      "  mode #0\t power: 0.00 dBm\n",
      "channel 0\t power: -0.00 dBm\n",
      "\n",
      "total WDM dignal power: -0.00 dBm\n",
      "Demodulating channel #0 , fc: 193.1000 THz, λ: 1552.5244 nm\n",
      "\n",
      "Local oscillator P: 12.00 dBm, lw: 0.00 kHz, FO: 19000.00 MHz\n",
      "CSPR = 12.00 dB\n",
      "\n",
      "\n",
      "nlms - training stage #0\n"
     ]
    },
    {
     "data": {
      "application/vnd.jupyter.widget-view+json": {
       "model_id": "84598f0114ed4f7091b6cd8b11b16e78",
       "version_major": 2,
       "version_minor": 0
      },
      "text/plain": [
       "  0%|          | 0/5 [00:00<?, ?it/s]"
      ]
     },
     "metadata": {},
     "output_type": "display_data"
    },
    {
     "name": "stdout",
     "output_type": "stream",
     "text": [
      "nlms pre-convergence training iteration #0\n",
      "nlms MSE = 0.020430.\n",
      "nlms pre-convergence training iteration #1\n",
      "nlms MSE = 0.002579.\n",
      "nlms pre-convergence training iteration #2\n",
      "nlms MSE = 0.002115.\n",
      "nlms pre-convergence training iteration #3\n",
      "nlms MSE = 0.001869.\n",
      "nlms pre-convergence training iteration #4\n",
      "nlms MSE = 0.001717.\n",
      "\n",
      "\n",
      "dd-lms - training stage #1\n",
      "dd-lms MSE = 0.001164.\n",
      "Results:\n",
      "\n",
      "SER: 7.11e-04\n",
      "BER: 1.24e-04\n",
      "SNR: 29.13 dB\n",
      "MI: 5.99 bits\n",
      "GMI: 5.99 bits\n",
      "channel 0\t fc : 193.1000 THz\n",
      "  mode #0\t power: 0.00 dBm\n",
      "channel 0\t power: 0.00 dBm\n",
      "\n",
      "total WDM dignal power: 0.00 dBm\n",
      "Demodulating channel #0 , fc: 193.1000 THz, λ: 1552.5244 nm\n",
      "\n",
      "Local oscillator P: 12.00 dBm, lw: 0.00 kHz, FO: 19000.00 MHz\n",
      "CSPR = 12.00 dB\n",
      "\n",
      "\n",
      "nlms - training stage #0\n"
     ]
    },
    {
     "data": {
      "application/vnd.jupyter.widget-view+json": {
       "model_id": "47825b6ff95e478fb9bd328a51cb5293",
       "version_major": 2,
       "version_minor": 0
      },
      "text/plain": [
       "  0%|          | 0/5 [00:00<?, ?it/s]"
      ]
     },
     "metadata": {},
     "output_type": "display_data"
    },
    {
     "name": "stdout",
     "output_type": "stream",
     "text": [
      "nlms pre-convergence training iteration #0\n",
      "nlms MSE = 0.017001.\n",
      "nlms pre-convergence training iteration #1\n",
      "nlms MSE = 0.002140.\n",
      "nlms pre-convergence training iteration #2\n",
      "nlms MSE = 0.001968.\n",
      "nlms pre-convergence training iteration #3\n",
      "nlms MSE = 0.001845.\n",
      "nlms pre-convergence training iteration #4\n",
      "nlms MSE = 0.001756.\n",
      "\n",
      "\n",
      "dd-lms - training stage #1\n",
      "dd-lms MSE = 0.001252.\n",
      "Results:\n",
      "\n",
      "SER: 6.22e-04\n",
      "BER: 1.04e-04\n",
      "SNR: 28.85 dB\n",
      "MI: 5.99 bits\n",
      "GMI: 5.99 bits\n",
      "channel 0\t fc : 193.1000 THz\n",
      "  mode #0\t power: 0.00 dBm\n",
      "channel 0\t power: -0.00 dBm\n",
      "\n",
      "total WDM dignal power: -0.00 dBm\n",
      "Demodulating channel #0 , fc: 193.1000 THz, λ: 1552.5244 nm\n",
      "\n",
      "Local oscillator P: 12.00 dBm, lw: 0.00 kHz, FO: 19000.00 MHz\n",
      "CSPR = 12.00 dB\n",
      "\n",
      "\n",
      "nlms - training stage #0\n"
     ]
    },
    {
     "data": {
      "application/vnd.jupyter.widget-view+json": {
       "model_id": "95a2d75130b24cfb9377d4ce5a144368",
       "version_major": 2,
       "version_minor": 0
      },
      "text/plain": [
       "  0%|          | 0/5 [00:00<?, ?it/s]"
      ]
     },
     "metadata": {},
     "output_type": "display_data"
    },
    {
     "name": "stdout",
     "output_type": "stream",
     "text": [
      "nlms pre-convergence training iteration #0\n",
      "nlms MSE = 0.016517.\n",
      "nlms pre-convergence training iteration #1\n",
      "nlms MSE = 0.002630.\n",
      "nlms pre-convergence training iteration #2\n",
      "nlms MSE = 0.002551.\n",
      "nlms pre-convergence training iteration #3\n",
      "nlms MSE = 0.002482.\n",
      "nlms pre-convergence training iteration #4\n",
      "nlms MSE = 0.002422.\n",
      "\n",
      "\n",
      "dd-lms - training stage #1\n",
      "dd-lms MSE = 0.001713.\n",
      "Results:\n",
      "\n",
      "SER: 7.78e-04\n",
      "BER: 1.35e-04\n",
      "SNR: 27.55 dB\n",
      "MI: 5.99 bits\n",
      "GMI: 5.99 bits\n",
      "channel 0\t fc : 193.1000 THz\n",
      "  mode #0\t power: 0.00 dBm\n",
      "channel 0\t power: 0.00 dBm\n",
      "\n",
      "total WDM dignal power: 0.00 dBm\n",
      "Demodulating channel #0 , fc: 193.1000 THz, λ: 1552.5244 nm\n",
      "\n",
      "Local oscillator P: 12.00 dBm, lw: 0.00 kHz, FO: 19000.00 MHz\n",
      "CSPR = 12.00 dB\n",
      "\n",
      "\n",
      "nlms - training stage #0\n"
     ]
    },
    {
     "data": {
      "application/vnd.jupyter.widget-view+json": {
       "model_id": "031477f810124ddaa85c0b8f793c8482",
       "version_major": 2,
       "version_minor": 0
      },
      "text/plain": [
       "  0%|          | 0/5 [00:00<?, ?it/s]"
      ]
     },
     "metadata": {},
     "output_type": "display_data"
    },
    {
     "name": "stdout",
     "output_type": "stream",
     "text": [
      "nlms pre-convergence training iteration #0\n",
      "nlms MSE = 0.018663.\n",
      "nlms pre-convergence training iteration #1\n",
      "nlms MSE = 0.004795.\n",
      "nlms pre-convergence training iteration #2\n",
      "nlms MSE = 0.004213.\n",
      "nlms pre-convergence training iteration #3\n",
      "nlms MSE = 0.003808.\n",
      "nlms pre-convergence training iteration #4\n",
      "nlms MSE = 0.003511.\n",
      "\n",
      "\n",
      "dd-lms - training stage #1\n",
      "dd-lms MSE = 0.002205.\n",
      "Results:\n",
      "\n",
      "SER: 1.38e-03\n",
      "BER: 2.31e-04\n",
      "SNR: 26.42 dB\n",
      "MI: 5.99 bits\n",
      "GMI: 5.98 bits\n",
      "channel 0\t fc : 193.1000 THz\n",
      "  mode #0\t power: 0.00 dBm\n",
      "channel 0\t power: 0.00 dBm\n",
      "\n",
      "total WDM dignal power: 0.00 dBm\n",
      "Demodulating channel #0 , fc: 193.1000 THz, λ: 1552.5244 nm\n",
      "\n",
      "Local oscillator P: 12.00 dBm, lw: 0.00 kHz, FO: 19000.00 MHz\n",
      "CSPR = 12.00 dB\n",
      "\n",
      "\n",
      "nlms - training stage #0\n"
     ]
    },
    {
     "data": {
      "application/vnd.jupyter.widget-view+json": {
       "model_id": "14615bd1c1ff47b591591a6733642125",
       "version_major": 2,
       "version_minor": 0
      },
      "text/plain": [
       "  0%|          | 0/5 [00:00<?, ?it/s]"
      ]
     },
     "metadata": {},
     "output_type": "display_data"
    },
    {
     "name": "stdout",
     "output_type": "stream",
     "text": [
      "nlms pre-convergence training iteration #0\n",
      "nlms MSE = 0.022574.\n",
      "nlms pre-convergence training iteration #1\n",
      "nlms MSE = 0.007157.\n",
      "nlms pre-convergence training iteration #2\n",
      "nlms MSE = 0.005690.\n",
      "nlms pre-convergence training iteration #3\n",
      "nlms MSE = 0.004921.\n",
      "nlms pre-convergence training iteration #4\n",
      "nlms MSE = 0.004475.\n",
      "\n",
      "\n",
      "dd-lms - training stage #1\n",
      "dd-lms MSE = 0.002905.\n",
      "Results:\n",
      "\n",
      "SER: 2.22e-03\n",
      "BER: 3.72e-04\n",
      "SNR: 25.29 dB\n",
      "MI: 5.98 bits\n",
      "GMI: 5.98 bits\n",
      "channel 0\t fc : 193.1000 THz\n",
      "  mode #0\t power: 0.00 dBm\n",
      "channel 0\t power: -0.00 dBm\n",
      "\n",
      "total WDM dignal power: -0.00 dBm\n",
      "Demodulating channel #0 , fc: 193.1000 THz, λ: 1552.5244 nm\n",
      "\n",
      "Local oscillator P: 12.00 dBm, lw: 0.00 kHz, FO: 19000.00 MHz\n",
      "CSPR = 12.00 dB\n",
      "\n",
      "\n",
      "nlms - training stage #0\n"
     ]
    },
    {
     "data": {
      "application/vnd.jupyter.widget-view+json": {
       "model_id": "948f688b66084f799e49a1f6bccdb2f5",
       "version_major": 2,
       "version_minor": 0
      },
      "text/plain": [
       "  0%|          | 0/5 [00:00<?, ?it/s]"
      ]
     },
     "metadata": {},
     "output_type": "display_data"
    },
    {
     "name": "stdout",
     "output_type": "stream",
     "text": [
      "nlms pre-convergence training iteration #0\n",
      "nlms MSE = 0.026422.\n",
      "nlms pre-convergence training iteration #1\n",
      "nlms MSE = 0.008924.\n",
      "nlms pre-convergence training iteration #2\n",
      "nlms MSE = 0.006760.\n",
      "nlms pre-convergence training iteration #3\n",
      "nlms MSE = 0.005806.\n",
      "nlms pre-convergence training iteration #4\n",
      "nlms MSE = 0.005312.\n",
      "\n",
      "\n",
      "dd-lms - training stage #1\n",
      "dd-lms MSE = 0.003915.\n",
      "Results:\n",
      "\n",
      "SER: 6.13e-03\n",
      "BER: 1.03e-03\n",
      "SNR: 23.94 dB\n",
      "MI: 5.96 bits\n",
      "GMI: 5.96 bits\n",
      "channel 0\t fc : 193.1000 THz\n",
      "  mode #0\t power: 0.00 dBm\n",
      "channel 0\t power: -0.00 dBm\n",
      "\n",
      "total WDM dignal power: -0.00 dBm\n",
      "Demodulating channel #0 , fc: 193.1000 THz, λ: 1552.5244 nm\n",
      "\n",
      "Local oscillator P: 12.00 dBm, lw: 0.00 kHz, FO: 19000.00 MHz\n",
      "CSPR = 12.00 dB\n",
      "\n",
      "\n",
      "nlms - training stage #0\n"
     ]
    },
    {
     "data": {
      "application/vnd.jupyter.widget-view+json": {
       "model_id": "4d3e2843371046be840cff9db8fb32d6",
       "version_major": 2,
       "version_minor": 0
      },
      "text/plain": [
       "  0%|          | 0/5 [00:00<?, ?it/s]"
      ]
     },
     "metadata": {},
     "output_type": "display_data"
    },
    {
     "name": "stdout",
     "output_type": "stream",
     "text": [
      "nlms pre-convergence training iteration #0\n",
      "nlms MSE = 0.031111.\n",
      "nlms pre-convergence training iteration #1\n",
      "nlms MSE = 0.011100.\n",
      "nlms pre-convergence training iteration #2\n",
      "nlms MSE = 0.008469.\n",
      "nlms pre-convergence training iteration #3\n",
      "nlms MSE = 0.007411.\n",
      "nlms pre-convergence training iteration #4\n",
      "nlms MSE = 0.006854.\n",
      "\n",
      "\n",
      "dd-lms - training stage #1\n",
      "dd-lms MSE = 0.005032.\n",
      "Results:\n",
      "\n",
      "SER: 1.26e-02\n",
      "BER: 2.13e-03\n",
      "SNR: 22.79 dB\n",
      "MI: 5.93 bits\n",
      "GMI: 5.93 bits\n",
      "channel 0\t fc : 193.1000 THz\n",
      "  mode #0\t power: 0.00 dBm\n",
      "channel 0\t power: -0.00 dBm\n",
      "\n",
      "total WDM dignal power: -0.00 dBm\n",
      "Demodulating channel #0 , fc: 193.1000 THz, λ: 1552.5244 nm\n",
      "\n",
      "Local oscillator P: 12.00 dBm, lw: 0.00 kHz, FO: 19000.00 MHz\n",
      "CSPR = 12.00 dB\n",
      "\n",
      "\n",
      "nlms - training stage #0\n"
     ]
    },
    {
     "data": {
      "application/vnd.jupyter.widget-view+json": {
       "model_id": "efd28f32ca6343d3b2188ec85b335780",
       "version_major": 2,
       "version_minor": 0
      },
      "text/plain": [
       "  0%|          | 0/5 [00:00<?, ?it/s]"
      ]
     },
     "metadata": {},
     "output_type": "display_data"
    },
    {
     "name": "stdout",
     "output_type": "stream",
     "text": [
      "nlms pre-convergence training iteration #0\n",
      "nlms MSE = 0.036033.\n",
      "nlms pre-convergence training iteration #1\n",
      "nlms MSE = 0.013994.\n",
      "nlms pre-convergence training iteration #2\n",
      "nlms MSE = 0.010793.\n",
      "nlms pre-convergence training iteration #3\n",
      "nlms MSE = 0.009477.\n",
      "nlms pre-convergence training iteration #4\n",
      "nlms MSE = 0.008751.\n",
      "\n",
      "\n",
      "dd-lms - training stage #1\n",
      "dd-lms MSE = 0.006283.\n",
      "Results:\n",
      "\n",
      "SER: 2.70e-02\n",
      "BER: 4.65e-03\n",
      "SNR: 21.65 dB\n",
      "MI: 5.87 bits\n",
      "GMI: 5.87 bits\n",
      "channel 0\t fc : 193.1000 THz\n",
      "  mode #0\t power: 0.00 dBm\n",
      "channel 0\t power: -0.00 dBm\n",
      "\n",
      "total WDM dignal power: -0.00 dBm\n",
      "Demodulating channel #0 , fc: 193.1000 THz, λ: 1552.5244 nm\n",
      "\n",
      "Local oscillator P: 12.00 dBm, lw: 0.00 kHz, FO: 19000.00 MHz\n",
      "CSPR = 12.00 dB\n",
      "\n",
      "\n",
      "nlms - training stage #0\n"
     ]
    },
    {
     "data": {
      "application/vnd.jupyter.widget-view+json": {
       "model_id": "cd887109712e4f16912709cfeac6bfc7",
       "version_major": 2,
       "version_minor": 0
      },
      "text/plain": [
       "  0%|          | 0/5 [00:00<?, ?it/s]"
      ]
     },
     "metadata": {},
     "output_type": "display_data"
    },
    {
     "name": "stdout",
     "output_type": "stream",
     "text": [
      "nlms pre-convergence training iteration #0\n",
      "nlms MSE = 0.041384.\n",
      "nlms pre-convergence training iteration #1\n",
      "nlms MSE = 0.016911.\n",
      "nlms pre-convergence training iteration #2\n",
      "nlms MSE = 0.013182.\n",
      "nlms pre-convergence training iteration #3\n",
      "nlms MSE = 0.011572.\n",
      "nlms pre-convergence training iteration #4\n",
      "nlms MSE = 0.010635.\n",
      "\n",
      "\n",
      "dd-lms - training stage #1\n",
      "dd-lms MSE = 0.007485.\n",
      "Results:\n",
      "\n",
      "SER: 4.46e-02\n",
      "BER: 7.66e-03\n",
      "SNR: 20.73 dB\n",
      "MI: 5.80 bits\n",
      "GMI: 5.79 bits\n",
      "channel 0\t fc : 193.1000 THz\n",
      "  mode #0\t power: 0.00 dBm\n",
      "channel 0\t power: -0.00 dBm\n",
      "\n",
      "total WDM dignal power: -0.00 dBm\n",
      "Demodulating channel #0 , fc: 193.1000 THz, λ: 1552.5244 nm\n",
      "\n",
      "Local oscillator P: 12.00 dBm, lw: 0.00 kHz, FO: 20000.00 MHz\n",
      "CSPR = 12.00 dB\n",
      "\n",
      "\n",
      "nlms - training stage #0\n"
     ]
    },
    {
     "data": {
      "application/vnd.jupyter.widget-view+json": {
       "model_id": "d834935cfcb44df5b800af229db7b2b7",
       "version_major": 2,
       "version_minor": 0
      },
      "text/plain": [
       "  0%|          | 0/5 [00:00<?, ?it/s]"
      ]
     },
     "metadata": {},
     "output_type": "display_data"
    },
    {
     "name": "stdout",
     "output_type": "stream",
     "text": [
      "nlms pre-convergence training iteration #0\n",
      "nlms MSE = 0.022253.\n",
      "nlms pre-convergence training iteration #1\n",
      "nlms MSE = 0.002784.\n",
      "nlms pre-convergence training iteration #2\n",
      "nlms MSE = 0.002373.\n",
      "nlms pre-convergence training iteration #3\n",
      "nlms MSE = 0.002137.\n",
      "nlms pre-convergence training iteration #4\n",
      "nlms MSE = 0.001982.\n",
      "\n",
      "\n",
      "dd-lms - training stage #1\n",
      "dd-lms MSE = 0.001473.\n",
      "Results:\n",
      "\n",
      "SER: 9.89e-04\n",
      "BER: 1.69e-04\n",
      "SNR: 28.14 dB\n",
      "MI: 5.98 bits\n",
      "GMI: 5.98 bits\n",
      "channel 0\t fc : 193.1000 THz\n",
      "  mode #0\t power: 0.00 dBm\n",
      "channel 0\t power: 0.00 dBm\n",
      "\n",
      "total WDM dignal power: 0.00 dBm\n",
      "Demodulating channel #0 , fc: 193.1000 THz, λ: 1552.5244 nm\n",
      "\n",
      "Local oscillator P: 12.00 dBm, lw: 0.00 kHz, FO: 20000.00 MHz\n",
      "CSPR = 12.00 dB\n",
      "\n",
      "\n",
      "nlms - training stage #0\n"
     ]
    },
    {
     "data": {
      "application/vnd.jupyter.widget-view+json": {
       "model_id": "09baca55706841ef9ccfc5e2887648f2",
       "version_major": 2,
       "version_minor": 0
      },
      "text/plain": [
       "  0%|          | 0/5 [00:00<?, ?it/s]"
      ]
     },
     "metadata": {},
     "output_type": "display_data"
    },
    {
     "name": "stdout",
     "output_type": "stream",
     "text": [
      "nlms pre-convergence training iteration #0\n",
      "nlms MSE = 0.020701.\n",
      "nlms pre-convergence training iteration #1\n",
      "nlms MSE = 0.002753.\n",
      "nlms pre-convergence training iteration #2\n",
      "nlms MSE = 0.002280.\n",
      "nlms pre-convergence training iteration #3\n",
      "nlms MSE = 0.002025.\n",
      "nlms pre-convergence training iteration #4\n",
      "nlms MSE = 0.001866.\n",
      "\n",
      "\n",
      "dd-lms - training stage #1\n",
      "dd-lms MSE = 0.001357.\n",
      "Results:\n",
      "\n",
      "SER: 1.03e-03\n",
      "BER: 1.74e-04\n",
      "SNR: 28.46 dB\n",
      "MI: 5.98 bits\n",
      "GMI: 5.98 bits\n",
      "channel 0\t fc : 193.1000 THz\n",
      "  mode #0\t power: 0.00 dBm\n",
      "channel 0\t power: 0.00 dBm\n",
      "\n",
      "total WDM dignal power: 0.00 dBm\n",
      "Demodulating channel #0 , fc: 193.1000 THz, λ: 1552.5244 nm\n",
      "\n",
      "Local oscillator P: 12.00 dBm, lw: 0.00 kHz, FO: 20000.00 MHz\n",
      "CSPR = 12.00 dB\n",
      "\n",
      "\n",
      "nlms - training stage #0\n"
     ]
    },
    {
     "data": {
      "application/vnd.jupyter.widget-view+json": {
       "model_id": "c7d58b916dca484f9a9a57c0ccf303e6",
       "version_major": 2,
       "version_minor": 0
      },
      "text/plain": [
       "  0%|          | 0/5 [00:00<?, ?it/s]"
      ]
     },
     "metadata": {},
     "output_type": "display_data"
    },
    {
     "name": "stdout",
     "output_type": "stream",
     "text": [
      "nlms pre-convergence training iteration #0\n",
      "nlms MSE = 0.017627.\n",
      "nlms pre-convergence training iteration #1\n",
      "nlms MSE = 0.002442.\n",
      "nlms pre-convergence training iteration #2\n",
      "nlms MSE = 0.002267.\n",
      "nlms pre-convergence training iteration #3\n",
      "nlms MSE = 0.002144.\n",
      "nlms pre-convergence training iteration #4\n",
      "nlms MSE = 0.002055.\n",
      "\n",
      "\n",
      "dd-lms - training stage #1\n",
      "dd-lms MSE = 0.001496.\n",
      "Results:\n",
      "\n",
      "SER: 1.07e-03\n",
      "BER: 1.85e-04\n",
      "SNR: 28.11 dB\n",
      "MI: 5.98 bits\n",
      "GMI: 5.98 bits\n",
      "channel 0\t fc : 193.1000 THz\n",
      "  mode #0\t power: 0.00 dBm\n",
      "channel 0\t power: -0.00 dBm\n",
      "\n",
      "total WDM dignal power: -0.00 dBm\n",
      "Demodulating channel #0 , fc: 193.1000 THz, λ: 1552.5244 nm\n",
      "\n",
      "Local oscillator P: 12.00 dBm, lw: 0.00 kHz, FO: 20000.00 MHz\n",
      "CSPR = 12.00 dB\n",
      "\n",
      "\n",
      "nlms - training stage #0\n"
     ]
    },
    {
     "data": {
      "application/vnd.jupyter.widget-view+json": {
       "model_id": "ba9ee1b31d974e55b53d5dc4bb41943e",
       "version_major": 2,
       "version_minor": 0
      },
      "text/plain": [
       "  0%|          | 0/5 [00:00<?, ?it/s]"
      ]
     },
     "metadata": {},
     "output_type": "display_data"
    },
    {
     "name": "stdout",
     "output_type": "stream",
     "text": [
      "nlms pre-convergence training iteration #0\n",
      "nlms MSE = 0.015609.\n",
      "nlms pre-convergence training iteration #1\n",
      "nlms MSE = 0.002177.\n",
      "nlms pre-convergence training iteration #2\n",
      "nlms MSE = 0.002142.\n",
      "nlms pre-convergence training iteration #3\n",
      "nlms MSE = 0.002110.\n",
      "nlms pre-convergence training iteration #4\n",
      "nlms MSE = 0.002081.\n",
      "\n",
      "\n",
      "dd-lms - training stage #1\n",
      "dd-lms MSE = 0.001642.\n",
      "Results:\n",
      "\n",
      "SER: 1.23e-03\n",
      "BER: 2.06e-04\n",
      "SNR: 27.72 dB\n",
      "MI: 5.98 bits\n",
      "GMI: 5.98 bits\n",
      "channel 0\t fc : 193.1000 THz\n",
      "  mode #0\t power: 0.00 dBm\n",
      "channel 0\t power: -0.00 dBm\n",
      "\n",
      "total WDM dignal power: -0.00 dBm\n",
      "Demodulating channel #0 , fc: 193.1000 THz, λ: 1552.5244 nm\n",
      "\n",
      "Local oscillator P: 12.00 dBm, lw: 0.00 kHz, FO: 20000.00 MHz\n",
      "CSPR = 12.00 dB\n",
      "\n",
      "\n",
      "nlms - training stage #0\n"
     ]
    },
    {
     "data": {
      "application/vnd.jupyter.widget-view+json": {
       "model_id": "607819b296464aad85d87aa80dc75a5c",
       "version_major": 2,
       "version_minor": 0
      },
      "text/plain": [
       "  0%|          | 0/5 [00:00<?, ?it/s]"
      ]
     },
     "metadata": {},
     "output_type": "display_data"
    },
    {
     "name": "stdout",
     "output_type": "stream",
     "text": [
      "nlms pre-convergence training iteration #0\n",
      "nlms MSE = 0.015870.\n",
      "nlms pre-convergence training iteration #1\n",
      "nlms MSE = 0.003015.\n",
      "nlms pre-convergence training iteration #2\n",
      "nlms MSE = 0.002906.\n",
      "nlms pre-convergence training iteration #3\n",
      "nlms MSE = 0.002810.\n",
      "nlms pre-convergence training iteration #4\n",
      "nlms MSE = 0.002725.\n",
      "\n",
      "\n",
      "dd-lms - training stage #1\n",
      "dd-lms MSE = 0.002032.\n",
      "Results:\n",
      "\n",
      "SER: 1.26e-03\n",
      "BER: 2.09e-04\n",
      "SNR: 26.76 dB\n",
      "MI: 5.99 bits\n",
      "GMI: 5.99 bits\n",
      "channel 0\t fc : 193.1000 THz\n",
      "  mode #0\t power: 0.00 dBm\n",
      "channel 0\t power: -0.00 dBm\n",
      "\n",
      "total WDM dignal power: -0.00 dBm\n",
      "Demodulating channel #0 , fc: 193.1000 THz, λ: 1552.5244 nm\n",
      "\n",
      "Local oscillator P: 12.00 dBm, lw: 0.00 kHz, FO: 20000.00 MHz\n",
      "CSPR = 12.00 dB\n",
      "\n",
      "\n",
      "nlms - training stage #0\n"
     ]
    },
    {
     "data": {
      "application/vnd.jupyter.widget-view+json": {
       "model_id": "bf2d2f8ee39b40f6840b1a4e2f237e33",
       "version_major": 2,
       "version_minor": 0
      },
      "text/plain": [
       "  0%|          | 0/5 [00:00<?, ?it/s]"
      ]
     },
     "metadata": {},
     "output_type": "display_data"
    },
    {
     "name": "stdout",
     "output_type": "stream",
     "text": [
      "nlms pre-convergence training iteration #0\n",
      "nlms MSE = 0.018235.\n",
      "nlms pre-convergence training iteration #1\n",
      "nlms MSE = 0.005222.\n",
      "nlms pre-convergence training iteration #2\n",
      "nlms MSE = 0.004606.\n",
      "nlms pre-convergence training iteration #3\n",
      "nlms MSE = 0.004169.\n",
      "nlms pre-convergence training iteration #4\n",
      "nlms MSE = 0.003850.\n",
      "\n",
      "\n",
      "dd-lms - training stage #1\n",
      "dd-lms MSE = 0.002451.\n",
      "Results:\n",
      "\n",
      "SER: 1.94e-03\n",
      "BER: 3.26e-04\n",
      "SNR: 25.91 dB\n",
      "MI: 5.98 bits\n",
      "GMI: 5.98 bits\n",
      "channel 0\t fc : 193.1000 THz\n",
      "  mode #0\t power: 0.00 dBm\n",
      "channel 0\t power: -0.00 dBm\n",
      "\n",
      "total WDM dignal power: -0.00 dBm\n",
      "Demodulating channel #0 , fc: 193.1000 THz, λ: 1552.5244 nm\n",
      "\n",
      "Local oscillator P: 12.00 dBm, lw: 0.00 kHz, FO: 20000.00 MHz\n",
      "CSPR = 12.00 dB\n",
      "\n",
      "\n",
      "nlms - training stage #0\n"
     ]
    },
    {
     "data": {
      "application/vnd.jupyter.widget-view+json": {
       "model_id": "e0dc5a686b074b0f9619e0f07a024273",
       "version_major": 2,
       "version_minor": 0
      },
      "text/plain": [
       "  0%|          | 0/5 [00:00<?, ?it/s]"
      ]
     },
     "metadata": {},
     "output_type": "display_data"
    },
    {
     "name": "stdout",
     "output_type": "stream",
     "text": [
      "nlms pre-convergence training iteration #0\n",
      "nlms MSE = 0.020907.\n",
      "nlms pre-convergence training iteration #1\n",
      "nlms MSE = 0.007075.\n",
      "nlms pre-convergence training iteration #2\n",
      "nlms MSE = 0.005676.\n",
      "nlms pre-convergence training iteration #3\n",
      "nlms MSE = 0.004901.\n",
      "nlms pre-convergence training iteration #4\n",
      "nlms MSE = 0.004445.\n",
      "\n",
      "\n",
      "dd-lms - training stage #1\n",
      "dd-lms MSE = 0.003138.\n",
      "Results:\n",
      "\n",
      "SER: 3.32e-03\n",
      "BER: 5.65e-04\n",
      "SNR: 24.95 dB\n",
      "MI: 5.98 bits\n",
      "GMI: 5.97 bits\n",
      "channel 0\t fc : 193.1000 THz\n",
      "  mode #0\t power: 0.00 dBm\n",
      "channel 0\t power: 0.00 dBm\n",
      "\n",
      "total WDM dignal power: 0.00 dBm\n",
      "Demodulating channel #0 , fc: 193.1000 THz, λ: 1552.5244 nm\n",
      "\n",
      "Local oscillator P: 12.00 dBm, lw: 0.00 kHz, FO: 20000.00 MHz\n",
      "CSPR = 12.00 dB\n",
      "\n",
      "\n",
      "nlms - training stage #0\n"
     ]
    },
    {
     "data": {
      "application/vnd.jupyter.widget-view+json": {
       "model_id": "ded6fbd10e6c49d4bcd9d923bc5745ba",
       "version_major": 2,
       "version_minor": 0
      },
      "text/plain": [
       "  0%|          | 0/5 [00:00<?, ?it/s]"
      ]
     },
     "metadata": {},
     "output_type": "display_data"
    },
    {
     "name": "stdout",
     "output_type": "stream",
     "text": [
      "nlms pre-convergence training iteration #0\n",
      "nlms MSE = 0.024932.\n",
      "nlms pre-convergence training iteration #1\n",
      "nlms MSE = 0.009128.\n",
      "nlms pre-convergence training iteration #2\n",
      "nlms MSE = 0.007009.\n",
      "nlms pre-convergence training iteration #3\n",
      "nlms MSE = 0.006039.\n",
      "nlms pre-convergence training iteration #4\n",
      "nlms MSE = 0.005535.\n",
      "\n",
      "\n",
      "dd-lms - training stage #1\n",
      "dd-lms MSE = 0.004164.\n",
      "Results:\n",
      "\n",
      "SER: 7.53e-03\n",
      "BER: 1.27e-03\n",
      "SNR: 23.71 dB\n",
      "MI: 5.96 bits\n",
      "GMI: 5.95 bits\n",
      "channel 0\t fc : 193.1000 THz\n",
      "  mode #0\t power: 0.00 dBm\n",
      "channel 0\t power: -0.00 dBm\n",
      "\n",
      "total WDM dignal power: -0.00 dBm\n",
      "Demodulating channel #0 , fc: 193.1000 THz, λ: 1552.5244 nm\n",
      "\n",
      "Local oscillator P: 12.00 dBm, lw: 0.00 kHz, FO: 20000.00 MHz\n",
      "CSPR = 12.00 dB\n",
      "\n",
      "\n",
      "nlms - training stage #0\n"
     ]
    },
    {
     "data": {
      "application/vnd.jupyter.widget-view+json": {
       "model_id": "96e00ecae3154f079e36c898f167f935",
       "version_major": 2,
       "version_minor": 0
      },
      "text/plain": [
       "  0%|          | 0/5 [00:00<?, ?it/s]"
      ]
     },
     "metadata": {},
     "output_type": "display_data"
    },
    {
     "name": "stdout",
     "output_type": "stream",
     "text": [
      "nlms pre-convergence training iteration #0\n",
      "nlms MSE = 0.028901.\n",
      "nlms pre-convergence training iteration #1\n",
      "nlms MSE = 0.011217.\n",
      "nlms pre-convergence training iteration #2\n",
      "nlms MSE = 0.008606.\n",
      "nlms pre-convergence training iteration #3\n",
      "nlms MSE = 0.007518.\n",
      "nlms pre-convergence training iteration #4\n",
      "nlms MSE = 0.006952.\n",
      "\n",
      "\n",
      "dd-lms - training stage #1\n",
      "dd-lms MSE = 0.005225.\n",
      "Results:\n",
      "\n",
      "SER: 1.45e-02\n",
      "BER: 2.47e-03\n",
      "SNR: 22.64 dB\n",
      "MI: 5.92 bits\n",
      "GMI: 5.92 bits\n",
      "channel 0\t fc : 193.1000 THz\n",
      "  mode #0\t power: 0.00 dBm\n",
      "channel 0\t power: -0.00 dBm\n",
      "\n",
      "total WDM dignal power: -0.00 dBm\n",
      "Demodulating channel #0 , fc: 193.1000 THz, λ: 1552.5244 nm\n",
      "\n",
      "Local oscillator P: 12.00 dBm, lw: 0.00 kHz, FO: 20000.00 MHz\n",
      "CSPR = 12.00 dB\n",
      "\n",
      "\n",
      "nlms - training stage #0\n"
     ]
    },
    {
     "data": {
      "application/vnd.jupyter.widget-view+json": {
       "model_id": "c1e26f591d3b48e3ac82d42caade6522",
       "version_major": 2,
       "version_minor": 0
      },
      "text/plain": [
       "  0%|          | 0/5 [00:00<?, ?it/s]"
      ]
     },
     "metadata": {},
     "output_type": "display_data"
    },
    {
     "name": "stdout",
     "output_type": "stream",
     "text": [
      "nlms pre-convergence training iteration #0\n",
      "nlms MSE = 0.034274.\n",
      "nlms pre-convergence training iteration #1\n",
      "nlms MSE = 0.013618.\n",
      "nlms pre-convergence training iteration #2\n",
      "nlms MSE = 0.010402.\n",
      "nlms pre-convergence training iteration #3\n",
      "nlms MSE = 0.009093.\n",
      "nlms pre-convergence training iteration #4\n",
      "nlms MSE = 0.008386.\n",
      "\n",
      "\n",
      "dd-lms - training stage #1\n",
      "dd-lms MSE = 0.006174.\n",
      "Results:\n",
      "\n",
      "SER: 2.38e-02\n",
      "BER: 4.05e-03\n",
      "SNR: 21.74 dB\n",
      "MI: 5.88 bits\n",
      "GMI: 5.88 bits\n",
      "channel 0\t fc : 193.1000 THz\n",
      "  mode #0\t power: 0.00 dBm\n",
      "channel 0\t power: 0.00 dBm\n",
      "\n",
      "total WDM dignal power: 0.00 dBm\n",
      "Demodulating channel #0 , fc: 193.1000 THz, λ: 1552.5244 nm\n",
      "\n",
      "Local oscillator P: 12.00 dBm, lw: 0.00 kHz, FO: 21000.00 MHz\n",
      "CSPR = 12.00 dB\n",
      "\n",
      "\n",
      "nlms - training stage #0\n"
     ]
    },
    {
     "data": {
      "application/vnd.jupyter.widget-view+json": {
       "model_id": "95ec0253f4c14dcb99ba26bbc9dc2fdd",
       "version_major": 2,
       "version_minor": 0
      },
      "text/plain": [
       "  0%|          | 0/5 [00:00<?, ?it/s]"
      ]
     },
     "metadata": {},
     "output_type": "display_data"
    },
    {
     "name": "stdout",
     "output_type": "stream",
     "text": [
      "nlms pre-convergence training iteration #0\n",
      "nlms MSE = 0.023151.\n",
      "nlms pre-convergence training iteration #1\n",
      "nlms MSE = 0.003004.\n",
      "nlms pre-convergence training iteration #2\n",
      "nlms MSE = 0.002594.\n",
      "nlms pre-convergence training iteration #3\n",
      "nlms MSE = 0.002360.\n",
      "nlms pre-convergence training iteration #4\n",
      "nlms MSE = 0.002206.\n",
      "\n",
      "\n",
      "dd-lms - training stage #1\n",
      "dd-lms MSE = 0.001705.\n",
      "Results:\n",
      "\n",
      "SER: 1.60e-03\n",
      "BER: 2.80e-04\n",
      "SNR: 27.48 dB\n",
      "MI: 5.97 bits\n",
      "GMI: 5.97 bits\n",
      "channel 0\t fc : 193.1000 THz\n",
      "  mode #0\t power: 0.00 dBm\n",
      "channel 0\t power: -0.00 dBm\n",
      "\n",
      "total WDM dignal power: -0.00 dBm\n",
      "Demodulating channel #0 , fc: 193.1000 THz, λ: 1552.5244 nm\n",
      "\n",
      "Local oscillator P: 12.00 dBm, lw: 0.00 kHz, FO: 21000.00 MHz\n",
      "CSPR = 12.00 dB\n",
      "\n",
      "\n",
      "nlms - training stage #0\n"
     ]
    },
    {
     "data": {
      "application/vnd.jupyter.widget-view+json": {
       "model_id": "d18f1e5de3d34da6a8e6ae72a4b0ece9",
       "version_major": 2,
       "version_minor": 0
      },
      "text/plain": [
       "  0%|          | 0/5 [00:00<?, ?it/s]"
      ]
     },
     "metadata": {},
     "output_type": "display_data"
    },
    {
     "name": "stdout",
     "output_type": "stream",
     "text": [
      "nlms pre-convergence training iteration #0\n",
      "nlms MSE = 0.020513.\n",
      "nlms pre-convergence training iteration #1\n",
      "nlms MSE = 0.002996.\n",
      "nlms pre-convergence training iteration #2\n",
      "nlms MSE = 0.002537.\n",
      "nlms pre-convergence training iteration #3\n",
      "nlms MSE = 0.002298.\n",
      "nlms pre-convergence training iteration #4\n",
      "nlms MSE = 0.002151.\n",
      "\n",
      "\n",
      "dd-lms - training stage #1\n",
      "dd-lms MSE = 0.001662.\n",
      "Results:\n",
      "\n",
      "SER: 1.61e-03\n",
      "BER: 2.69e-04\n",
      "SNR: 27.65 dB\n",
      "MI: 5.97 bits\n",
      "GMI: 5.97 bits\n",
      "channel 0\t fc : 193.1000 THz\n",
      "  mode #0\t power: 0.00 dBm\n",
      "channel 0\t power: -0.00 dBm\n",
      "\n",
      "total WDM dignal power: -0.00 dBm\n",
      "Demodulating channel #0 , fc: 193.1000 THz, λ: 1552.5244 nm\n",
      "\n",
      "Local oscillator P: 12.00 dBm, lw: 0.00 kHz, FO: 21000.00 MHz\n",
      "CSPR = 12.00 dB\n",
      "\n",
      "\n",
      "nlms - training stage #0\n"
     ]
    },
    {
     "data": {
      "application/vnd.jupyter.widget-view+json": {
       "model_id": "d203d4bc998248d5a5fbbf3759ddd67a",
       "version_major": 2,
       "version_minor": 0
      },
      "text/plain": [
       "  0%|          | 0/5 [00:00<?, ?it/s]"
      ]
     },
     "metadata": {},
     "output_type": "display_data"
    },
    {
     "name": "stdout",
     "output_type": "stream",
     "text": [
      "nlms pre-convergence training iteration #0\n",
      "nlms MSE = 0.017889.\n",
      "nlms pre-convergence training iteration #1\n",
      "nlms MSE = 0.002803.\n",
      "nlms pre-convergence training iteration #2\n",
      "nlms MSE = 0.002618.\n",
      "nlms pre-convergence training iteration #3\n",
      "nlms MSE = 0.002486.\n",
      "nlms pre-convergence training iteration #4\n",
      "nlms MSE = 0.002389.\n",
      "\n",
      "\n",
      "dd-lms - training stage #1\n",
      "dd-lms MSE = 0.001698.\n",
      "Results:\n",
      "\n",
      "SER: 1.07e-03\n",
      "BER: 1.91e-04\n",
      "SNR: 27.55 dB\n",
      "MI: 5.98 bits\n",
      "GMI: 5.98 bits\n",
      "channel 0\t fc : 193.1000 THz\n",
      "  mode #0\t power: 0.00 dBm\n",
      "channel 0\t power: 0.00 dBm\n",
      "\n",
      "total WDM dignal power: 0.00 dBm\n",
      "Demodulating channel #0 , fc: 193.1000 THz, λ: 1552.5244 nm\n",
      "\n",
      "Local oscillator P: 12.00 dBm, lw: 0.00 kHz, FO: 21000.00 MHz\n",
      "CSPR = 12.00 dB\n",
      "\n",
      "\n",
      "nlms - training stage #0\n"
     ]
    },
    {
     "data": {
      "application/vnd.jupyter.widget-view+json": {
       "model_id": "9a5ca58baa6e4e2081d5100fb7d1d0b0",
       "version_major": 2,
       "version_minor": 0
      },
      "text/plain": [
       "  0%|          | 0/5 [00:00<?, ?it/s]"
      ]
     },
     "metadata": {},
     "output_type": "display_data"
    },
    {
     "name": "stdout",
     "output_type": "stream",
     "text": [
      "nlms pre-convergence training iteration #0\n",
      "nlms MSE = 0.016140.\n",
      "nlms pre-convergence training iteration #1\n",
      "nlms MSE = 0.002369.\n",
      "nlms pre-convergence training iteration #2\n",
      "nlms MSE = 0.002330.\n",
      "nlms pre-convergence training iteration #3\n",
      "nlms MSE = 0.002296.\n",
      "nlms pre-convergence training iteration #4\n",
      "nlms MSE = 0.002266.\n",
      "\n",
      "\n",
      "dd-lms - training stage #1\n",
      "dd-lms MSE = 0.001868.\n",
      "Results:\n",
      "\n",
      "SER: 1.50e-03\n",
      "BER: 2.57e-04\n",
      "SNR: 27.16 dB\n",
      "MI: 5.98 bits\n",
      "GMI: 5.98 bits\n",
      "channel 0\t fc : 193.1000 THz\n",
      "  mode #0\t power: 0.00 dBm\n",
      "channel 0\t power: 0.00 dBm\n",
      "\n",
      "total WDM dignal power: 0.00 dBm\n",
      "Demodulating channel #0 , fc: 193.1000 THz, λ: 1552.5244 nm\n",
      "\n",
      "Local oscillator P: 12.00 dBm, lw: 0.00 kHz, FO: 21000.00 MHz\n",
      "CSPR = 12.00 dB\n",
      "\n",
      "\n",
      "nlms - training stage #0\n"
     ]
    },
    {
     "data": {
      "application/vnd.jupyter.widget-view+json": {
       "model_id": "663e5d9a5fcf4447bc776380fd5ec88e",
       "version_major": 2,
       "version_minor": 0
      },
      "text/plain": [
       "  0%|          | 0/5 [00:00<?, ?it/s]"
      ]
     },
     "metadata": {},
     "output_type": "display_data"
    },
    {
     "name": "stdout",
     "output_type": "stream",
     "text": [
      "nlms pre-convergence training iteration #0\n",
      "nlms MSE = 0.015163.\n",
      "nlms pre-convergence training iteration #1\n",
      "nlms MSE = 0.002665.\n",
      "nlms pre-convergence training iteration #2\n",
      "nlms MSE = 0.002625.\n",
      "nlms pre-convergence training iteration #3\n",
      "nlms MSE = 0.002587.\n",
      "nlms pre-convergence training iteration #4\n",
      "nlms MSE = 0.002552.\n",
      "\n",
      "\n",
      "dd-lms - training stage #1\n",
      "dd-lms MSE = 0.002030.\n",
      "Results:\n",
      "\n",
      "SER: 1.46e-03\n",
      "BER: 2.46e-04\n",
      "SNR: 26.76 dB\n",
      "MI: 5.98 bits\n",
      "GMI: 5.98 bits\n",
      "channel 0\t fc : 193.1000 THz\n",
      "  mode #0\t power: 0.00 dBm\n",
      "channel 0\t power: -0.00 dBm\n",
      "\n",
      "total WDM dignal power: -0.00 dBm\n",
      "Demodulating channel #0 , fc: 193.1000 THz, λ: 1552.5244 nm\n",
      "\n",
      "Local oscillator P: 12.00 dBm, lw: 0.00 kHz, FO: 21000.00 MHz\n",
      "CSPR = 12.00 dB\n",
      "\n",
      "\n",
      "nlms - training stage #0\n"
     ]
    },
    {
     "data": {
      "application/vnd.jupyter.widget-view+json": {
       "model_id": "e3f6ceabd66b47278cf66b56a4632a8f",
       "version_major": 2,
       "version_minor": 0
      },
      "text/plain": [
       "  0%|          | 0/5 [00:00<?, ?it/s]"
      ]
     },
     "metadata": {},
     "output_type": "display_data"
    },
    {
     "name": "stdout",
     "output_type": "stream",
     "text": [
      "nlms pre-convergence training iteration #0\n",
      "nlms MSE = 0.015881.\n",
      "nlms pre-convergence training iteration #1\n",
      "nlms MSE = 0.003771.\n",
      "nlms pre-convergence training iteration #2\n",
      "nlms MSE = 0.003623.\n",
      "nlms pre-convergence training iteration #3\n",
      "nlms MSE = 0.003493.\n",
      "nlms pre-convergence training iteration #4\n",
      "nlms MSE = 0.003378.\n",
      "\n",
      "\n",
      "dd-lms - training stage #1\n",
      "dd-lms MSE = 0.002389.\n",
      "Results:\n",
      "\n",
      "SER: 2.07e-03\n",
      "BER: 3.46e-04\n",
      "SNR: 25.97 dB\n",
      "MI: 5.98 bits\n",
      "GMI: 5.98 bits\n",
      "channel 0\t fc : 193.1000 THz\n",
      "  mode #0\t power: 0.00 dBm\n",
      "channel 0\t power: 0.00 dBm\n",
      "\n",
      "total WDM dignal power: 0.00 dBm\n",
      "Demodulating channel #0 , fc: 193.1000 THz, λ: 1552.5244 nm\n",
      "\n",
      "Local oscillator P: 12.00 dBm, lw: 0.00 kHz, FO: 21000.00 MHz\n",
      "CSPR = 12.00 dB\n",
      "\n",
      "\n",
      "nlms - training stage #0\n"
     ]
    },
    {
     "data": {
      "application/vnd.jupyter.widget-view+json": {
       "model_id": "6596986d7df242bebd38d27a6d76773d",
       "version_major": 2,
       "version_minor": 0
      },
      "text/plain": [
       "  0%|          | 0/5 [00:00<?, ?it/s]"
      ]
     },
     "metadata": {},
     "output_type": "display_data"
    },
    {
     "name": "stdout",
     "output_type": "stream",
     "text": [
      "nlms pre-convergence training iteration #0\n",
      "nlms MSE = 0.017207.\n",
      "nlms pre-convergence training iteration #1\n",
      "nlms MSE = 0.005417.\n",
      "nlms pre-convergence training iteration #2\n",
      "nlms MSE = 0.004832.\n",
      "nlms pre-convergence training iteration #3\n",
      "nlms MSE = 0.004415.\n",
      "nlms pre-convergence training iteration #4\n",
      "nlms MSE = 0.004111.\n",
      "\n",
      "\n",
      "dd-lms - training stage #1\n",
      "dd-lms MSE = 0.002925.\n",
      "Results:\n",
      "\n",
      "SER: 3.44e-03\n",
      "BER: 5.81e-04\n",
      "SNR: 25.17 dB\n",
      "MI: 5.98 bits\n",
      "GMI: 5.97 bits\n",
      "channel 0\t fc : 193.1000 THz\n",
      "  mode #0\t power: 0.00 dBm\n",
      "channel 0\t power: 0.00 dBm\n",
      "\n",
      "total WDM dignal power: 0.00 dBm\n",
      "Demodulating channel #0 , fc: 193.1000 THz, λ: 1552.5244 nm\n",
      "\n",
      "Local oscillator P: 12.00 dBm, lw: 0.00 kHz, FO: 21000.00 MHz\n",
      "CSPR = 12.00 dB\n",
      "\n",
      "\n",
      "nlms - training stage #0\n"
     ]
    },
    {
     "data": {
      "application/vnd.jupyter.widget-view+json": {
       "model_id": "11d9c8e34b14422ea023d9ea2598fbcf",
       "version_major": 2,
       "version_minor": 0
      },
      "text/plain": [
       "  0%|          | 0/5 [00:00<?, ?it/s]"
      ]
     },
     "metadata": {},
     "output_type": "display_data"
    },
    {
     "name": "stdout",
     "output_type": "stream",
     "text": [
      "nlms pre-convergence training iteration #0\n",
      "nlms MSE = 0.020192.\n",
      "nlms pre-convergence training iteration #1\n",
      "nlms MSE = 0.007431.\n",
      "nlms pre-convergence training iteration #2\n",
      "nlms MSE = 0.006160.\n",
      "nlms pre-convergence training iteration #3\n",
      "nlms MSE = 0.005434.\n",
      "nlms pre-convergence training iteration #4\n",
      "nlms MSE = 0.004997.\n",
      "\n",
      "\n",
      "dd-lms - training stage #1\n",
      "dd-lms MSE = 0.003536.\n",
      "Results:\n",
      "\n",
      "SER: 4.96e-03\n",
      "BER: 8.52e-04\n",
      "SNR: 24.34 dB\n",
      "MI: 5.96 bits\n",
      "GMI: 5.96 bits\n",
      "channel 0\t fc : 193.1000 THz\n",
      "  mode #0\t power: 0.00 dBm\n",
      "channel 0\t power: 0.00 dBm\n",
      "\n",
      "total WDM dignal power: 0.00 dBm\n",
      "Demodulating channel #0 , fc: 193.1000 THz, λ: 1552.5244 nm\n",
      "\n",
      "Local oscillator P: 12.00 dBm, lw: 0.00 kHz, FO: 21000.00 MHz\n",
      "CSPR = 12.00 dB\n",
      "\n",
      "\n",
      "nlms - training stage #0\n"
     ]
    },
    {
     "data": {
      "application/vnd.jupyter.widget-view+json": {
       "model_id": "7c3aee2b120b40109467f995fff39d2e",
       "version_major": 2,
       "version_minor": 0
      },
      "text/plain": [
       "  0%|          | 0/5 [00:00<?, ?it/s]"
      ]
     },
     "metadata": {},
     "output_type": "display_data"
    },
    {
     "name": "stdout",
     "output_type": "stream",
     "text": [
      "nlms pre-convergence training iteration #0\n",
      "nlms MSE = 0.023349.\n",
      "nlms pre-convergence training iteration #1\n",
      "nlms MSE = 0.009364.\n",
      "nlms pre-convergence training iteration #2\n",
      "nlms MSE = 0.007458.\n",
      "nlms pre-convergence training iteration #3\n",
      "nlms MSE = 0.006554.\n",
      "nlms pre-convergence training iteration #4\n",
      "nlms MSE = 0.006074.\n",
      "\n",
      "\n",
      "dd-lms - training stage #1\n",
      "dd-lms MSE = 0.004464.\n",
      "Results:\n",
      "\n",
      "SER: 9.12e-03\n",
      "BER: 1.54e-03\n",
      "SNR: 23.33 dB\n",
      "MI: 5.94 bits\n",
      "GMI: 5.94 bits\n",
      "channel 0\t fc : 193.1000 THz\n",
      "  mode #0\t power: 0.00 dBm\n",
      "channel 0\t power: -0.00 dBm\n",
      "\n",
      "total WDM dignal power: -0.00 dBm\n",
      "Demodulating channel #0 , fc: 193.1000 THz, λ: 1552.5244 nm\n",
      "\n",
      "Local oscillator P: 12.00 dBm, lw: 0.00 kHz, FO: 21000.00 MHz\n",
      "CSPR = 12.00 dB\n",
      "\n",
      "\n",
      "nlms - training stage #0\n"
     ]
    },
    {
     "data": {
      "application/vnd.jupyter.widget-view+json": {
       "model_id": "2739291ad1ae4ad1a59f1a1d30b65b27",
       "version_major": 2,
       "version_minor": 0
      },
      "text/plain": [
       "  0%|          | 0/5 [00:00<?, ?it/s]"
      ]
     },
     "metadata": {},
     "output_type": "display_data"
    },
    {
     "name": "stdout",
     "output_type": "stream",
     "text": [
      "nlms pre-convergence training iteration #0\n",
      "nlms MSE = 0.027279.\n",
      "nlms pre-convergence training iteration #1\n",
      "nlms MSE = 0.011035.\n",
      "nlms pre-convergence training iteration #2\n",
      "nlms MSE = 0.008601.\n",
      "nlms pre-convergence training iteration #3\n",
      "nlms MSE = 0.007574.\n",
      "nlms pre-convergence training iteration #4\n",
      "nlms MSE = 0.007038.\n",
      "\n",
      "\n",
      "dd-lms - training stage #1\n",
      "dd-lms MSE = 0.005424.\n",
      "Results:\n",
      "\n",
      "SER: 1.51e-02\n",
      "BER: 2.56e-03\n",
      "SNR: 22.43 dB\n",
      "MI: 5.92 bits\n",
      "GMI: 5.92 bits\n"
     ]
    }
   ],
   "source": [
    "FO_Values = np.arange(1e9, 6e9, 1e9)\n",
    "Rolloff = np.arange(0.01, 0.99, 0.1)\n",
    "\n",
    "BER_KK = np.zeros((FO_Values.size, Rolloff.size))\n",
    "SER_KK = np.zeros((FO_Values.size, Rolloff.size))\n",
    "GMI_KK = np.zeros((FO_Values.size, Rolloff.size))\n",
    "MI_KK  = np.zeros((FO_Values.size, Rolloff.size))\n",
    "SNR_KK = np.zeros((FO_Values.size, Rolloff.size))\n",
    "\n",
    "for indNN, FO_ in enumerate(FO_Values):\n",
    "    for index, indRoll_ in enumerate(Rolloff):\n",
    "        # Main simulation parameters\n",
    "        paramTx.alphaRRC = indRoll_\n",
    "        FO = FO_ + paramTx.Rs/2\n",
    "        \n",
    "        # generate optical signal signal\n",
    "        sigTx, symbTx_, paramTx = simpleWDMTx(paramTx)\n",
    "\n",
    "        # simulate linear signal propagation\n",
    "        sigCh = linFiberCh(sigTx, Ltotal, alpha, D, Fc, Fs)\n",
    "\n",
    "        # receiver detection and demodulation\n",
    "        Fc = paramTx.Fc\n",
    "        Ts = 1 / Fs\n",
    "        mod = QAMModem(m=paramTx.M)\n",
    "\n",
    "        freqGrid = paramTx.freqGrid\n",
    "        print(\n",
    "            \"Demodulating channel #%d , fc: %.4f THz, λ: %.4f nm\\n\"\n",
    "            % (\n",
    "                chIndex,\n",
    "                (Fc + freqGrid[chIndex]) / 1e12,\n",
    "                const.c / (Fc + freqGrid[chIndex]) / 1e-9,\n",
    "            )\n",
    "        )\n",
    "\n",
    "        symbTx = symbTx_[:, :, chIndex]\n",
    "\n",
    "        Plo = 10 ** (Plo_dBm / 10) * 1e-3  # power in W\n",
    "\n",
    "        print(\n",
    "            \"Local oscillator P: %.2f dBm, lw: %.2f kHz, FO: %.2f MHz\"\n",
    "            % (Plo_dBm, lw / 1e3, FO / 1e6)\n",
    "        )\n",
    "\n",
    "        # generate LO field\n",
    "        π = np.pi\n",
    "        t = np.arange(0, len(sigCh))*Ts\n",
    "        ϕ_pn_lo = phaseNoise(lw, len(sigCh), Ts)\n",
    "\n",
    "        sigLO = np.sqrt(Plo) * np.exp(-1j * (2 * π * FO * t + ϕ_lo + ϕ_pn_lo))\n",
    "\n",
    "        # Add LO to the received signal\n",
    "        sigRx = np.sqrt(Plo) + sigCh * np.exp(1j * (2 * π * FO * t + ϕ_lo + ϕ_pn_lo))\n",
    "        sfm = sigRx.copy()\n",
    "\n",
    "        print('CSPR = %.2f dB' % (10*np.log10(signal_power(sigLO)/signal_power(sigCh))))\n",
    "\n",
    "        # ### Phase-retrieval stage\n",
    "\n",
    "        # In[4]:\n",
    "\n",
    "        # resampling to ADC sampling rate\n",
    "        sigCh = resample(sigCh, paramADC)\n",
    "        sfm = resample(sfm, paramADC)\n",
    "        newFs = paramADC.SpS_out*paramTx.Rs\n",
    "\n",
    "        # simulate ideal direct-detection optical receiver\n",
    "        Amp = np.abs(sigRx)\n",
    "        Amp = resample(Amp, paramADC)\n",
    "\n",
    "        # Kramers-Kronig phase-retrieval\n",
    "        phiTime = KramersKronigRx(Amp, newFs)\n",
    "\n",
    "        # optical field reconstruction\n",
    "        sigRx = Amp*np.exp(1j*phiTime)\n",
    "\n",
    "        # remove DC level\n",
    "        sigRx -= np.sqrt(Plo)  # np.mean(sigRx)\n",
    "\n",
    "        # downshift to baseband\n",
    "        t = np.arange(0, len(sigRx))*(1/newFs)\n",
    "        sigRx *= np.exp(-1j * (2 * π * FO * t))\n",
    "\n",
    "        # correct for (possible) phase ambiguity\n",
    "        rot = np.mean(sigCh/sigRx)\n",
    "        sigRx = rot * sigRx\n",
    "        sigRx = sigRx / np.sqrt(signal_power(sigRx))\n",
    "\n",
    "        # #### Standard receiver processing\n",
    "\n",
    "        # In[5]:\n",
    "\n",
    "        # resample to 2 samples/symbol:\n",
    "        paramRes = parameters()\n",
    "        paramRes.Rs = paramTx.Rs\n",
    "        paramRes.SpS_in = paramADC.SpS_out\n",
    "        paramRes.SpS_out = 2\n",
    "\n",
    "        sigRx = resample(sigRx, paramRes)\n",
    "\n",
    "        # Matched filtering and CD compensation\n",
    "\n",
    "        # Matched filtering\n",
    "        if paramTx.pulse == \"nrz\":\n",
    "            pulse = pulseShape(\"nrz\", paramADC.SpS_out)\n",
    "        elif paramTx.pulse == \"rrc\":\n",
    "            pulse = pulseShape(\"rrc\", paramRes.SpS_out, N=paramTx.Ntaps, alpha=paramTx.alphaRRC, Ts=1 / paramTx.Rs)\n",
    "\n",
    "        pulse = pulse / np.max(np.abs(pulse))\n",
    "        sigRx = firFilter(pulse, sigRx)\n",
    "\n",
    "        # plot constellations after matched filtering\n",
    "        #pconst(sigRx[0::paramRes.SpS_out], lim=True, R=3)\n",
    "\n",
    "        # CD compensation\n",
    "        sigRx = edc(sigRx, Ltotal, D, Fc, paramRes.SpS_out*paramTx.Rs)\n",
    "\n",
    "        #plot constellations after CD compensation\n",
    "        #pconst(sigRx[0::paramRes.SpS_out], lim=True, R=2)\n",
    "\n",
    "        # Downsampling to 2 sps and re-synchronization with transmitted sequences\n",
    "        sigRx = sigRx.reshape(-1, 1)\n",
    "\n",
    "        symbRx = symbolSync(sigRx, symbTx, 2)\n",
    "\n",
    "        # In[6]:\n",
    "\n",
    "        # Power normalization\n",
    "        x = sigRx\n",
    "        d = symbRx\n",
    "\n",
    "        x = x.reshape(len(x), 1) / np.sqrt(signal_power(x))\n",
    "        d = d.reshape(len(d), 1) / np.sqrt(signal_power(d))\n",
    "\n",
    "        # Adaptive equalization\n",
    "        mod = QAMModem(m=paramTx.M)\n",
    "\n",
    "        paramEq = parameters()\n",
    "        paramEq.nTaps = 15\n",
    "        paramEq.SpS = 2\n",
    "        paramEq.mu = [5e-3, 2e-3]\n",
    "        paramEq.numIter = 5\n",
    "        paramEq.storeCoeff = False\n",
    "        paramEq.alg = [\"nlms\", \"dd-lms\"]\n",
    "        paramEq.M = paramTx.M\n",
    "        paramEq.L = [20000, 80000]\n",
    "\n",
    "        y_EQ, H, errSq, Hiter = mimoAdaptEqualizer(x, dx=d, paramEq=paramEq)\n",
    "\n",
    "        discard = int(paramEq.L[0]/2)\n",
    "\n",
    "        #plot constellations after adaptive equalization\n",
    "        #pconst(y_EQ[discard:-discard, :], lim=True)\n",
    "\n",
    "        # In[7]:\n",
    "\n",
    "        # Carrier phase recovery\n",
    "        paramCPR = parameters()\n",
    "        paramCPR.alg = \"bps\"\n",
    "        paramCPR.M = paramTx.M\n",
    "        paramCPR.N = 75\n",
    "        paramCPR.B = 64\n",
    "        paramCPR.pilotInd = np.arange(0, len(y_EQ), 20)\n",
    "\n",
    "        y_CPR, θ = cpr(y_EQ, symbTx=d, paramCPR=paramCPR)\n",
    "\n",
    "        y_CPR = y_CPR / np.sqrt(signal_power(y_CPR))\n",
    "\n",
    "        discard = 5000\n",
    "\n",
    "        # plot constellations after CPR\n",
    "        #pconst(y_CPR[discard:-discard, :], lim=True)\n",
    "\n",
    "        # #### Evaluate transmission metrics\n",
    "\n",
    "        # In[8]:\n",
    "\n",
    "        # correct for (possible) phase ambiguity\n",
    "        for k in range(y_CPR.shape[1]):\n",
    "            rot = np.mean(d[:, k] / y_CPR[:, k])\n",
    "            y_CPR[:, k] = rot * y_CPR[:, k]\n",
    "\n",
    "        y_CPR = y_CPR / np.sqrt(signal_power(y_CPR))\n",
    "\n",
    "        ind = np.arange(discard, d.shape[0] - discard)\n",
    "        BER_KK[indNN][index], SER_KK[indNN][index], SNR_KK[indNN][index] = fastBERcalc(y_CPR[ind, :], d[ind, :], mod)\n",
    "        GMI_KK[indNN][index], _ = monteCarloGMI(y_CPR[ind, :], d[ind, :], mod)\n",
    "        MI_KK[indNN][index] = monteCarloMI(y_CPR[ind, :], d[ind, :], mod)\n",
    "\n",
    "        print(\"Results:\\n\")\n",
    "        print(\"SER: %.2e\" % (SER_KK[indNN][index]))\n",
    "        print(\"BER: %.2e\" % (BER_KK[indNN][index]))\n",
    "        print(\"SNR: %.2f dB\" % (SNR_KK[indNN][index]))\n",
    "        print(\"MI: %.2f bits\" % (MI_KK[indNN][index]))\n",
    "        print(\"GMI: %.2f bits\" % (GMI_KK[indNN][index]))\n"
   ]
  },
  {
   "cell_type": "code",
   "execution_count": 94,
   "metadata": {},
   "outputs": [
    {
     "data": {
      "image/png": "[encoded data removed]",
      "text/plain": [
       "<Figure size 800x600 with 2 Axes>"
      ]
     },
     "metadata": {},
     "output_type": "display_data"
    },
    {
     "data": {
      "image/png": "[encoded data removed]",
      "text/plain": [
       "<Figure size 500x500 with 1 Axes>"
      ]
     },
     "metadata": {},
     "output_type": "display_data"
    },
    {
     "data": {
      "text/plain": [
       "<Figure size 640x480 with 0 Axes>"
      ]
     },
     "metadata": {},
     "output_type": "display_data"
    }
   ],
   "source": [
    "x = np.arange(0.01, 0.99, 0.1)\n",
    "y = np.arange(1e9, 6e9, 1e9)\n",
    "\n",
    "x, y = np.meshgrid(x, y)\n",
    "z1 = np.log10(BER_KK)  # shape((5, 10))\n",
    "\n",
    "fig = plt.figure(figsize=(8, 6))\n",
    "ax = plt.axes(projection='3d')\n",
    "\n",
    "fig = plt.figure(figsize=(5, 5))\n",
    "plt.contourf(x, y, z1, cmap=cm.autumn)\n",
    "plt.xlabel('Rolloff')\n",
    "plt.ylabel('FO')\n",
    "plt.savefig(r'C:\\Users\\Silas\\Documents\\PIVIC-Comunicacoes-Opticas\\resultados\\results_KKPerformanceContourf_64QAM.png', dpi=600)\n",
    "\n",
    "surf_KK = ax.plot_surface(x, y, z1, cmap=cm.autumn, linewidth=1, antialiased=True, edgecolor='None')\n",
    "#surf_KK = ax.scatter(x, y, z1, marker='s', s=200, color='blue')\n",
    "fig.colorbar(surf_KK, ax=ax, shrink=0.5, aspect=7)\n",
    "ax.set_xlabel('Rolloff')\n",
    "ax.set_ylabel('FO')\n",
    "ax.set_zlabel('$log(BER)$')\n",
    "ax.view_init(elev=30, azim=215)\n",
    "ax.set_title('BER Surface Plot KK')\n",
    "\n",
    "plt.show()\n",
    "plt.savefig(r'C:\\Users\\Silas\\Documents\\PIVIC-Comunicacoes-Opticas\\resultados\\results_KKPerformance_64QAM.png', dpi=600)\n"
   ]
  },
  {
   "cell_type": "markdown",
   "metadata": {},
   "source": [
    "#### Superposition of Surfaces"
   ]
  },
  {
   "cell_type": "code",
   "execution_count": 72,
   "metadata": {},
   "outputs": [
    {
     "data": {
      "image/png": "[encoded data removed]",
      "text/plain": [
       "<Figure size 1000x800 with 1 Axes>"
      ]
     },
     "metadata": {},
     "output_type": "display_data"
    }
   ],
   "source": [
    "x = np.arange(0.01, 0.99, 0.1)\n",
    "y = np.arange(1e9, 6e9, 1e9)\n",
    "\n",
    "x, y = np.meshgrid(x, y)\n",
    "fig = plt.figure(figsize=(10, 8))\n",
    "ax = plt.axes(projection='3d')\n",
    "\n",
    "ax.plot_surface(x, y, np.log10(BER_NN), alpha = 1, rstride=1, cstride=1, cmap=cm.winter, linewidth=0.5, antialiased=True, zorder = 0.5)\n",
    "ax.plot_surface(x, y, np.log10(BER_KK), alpha = 0.90, rstride=1, cstride=1, cmap=cm.autumn, linewidth=0.5, antialiased=True, zorder = 0.3)\n",
    "ax.set_title('Superposition of Surfaces')\n",
    "ax.set_xlabel('Rolloff')\n",
    "ax.set_ylabel('FO')\n",
    "ax.set_zlabel('$log(BER)$')\n",
    "ax.view_init(elev=25, azim=130)\n",
    "\n",
    "plt.savefig(r'C:\\Users\\Silas\\Documents\\PIVIC-Comunicacoes-Opticas\\resultados\\results_SuperpositionSurfaces_64QAM.png', dpi=600)\n"
   ]
  }
 ],
 "metadata": {
  "kernelspec": {
   "display_name": "Python 3.9.13 64-bit",
   "language": "python",
   "name": "python3"
  },
  "language_info": {
   "codemirror_mode": {
    "name": "ipython",
    "version": 3
   },
   "file_extension": ".py",
   "mimetype": "text/x-python",
   "name": "python",
   "nbconvert_exporter": "python",
   "pygments_lexer": "ipython3",
   "version": "3.9.13"
  },
  "vscode": {
   "interpreter": {
    "hash": "4cead383004ffea04c5a085330d2187e41b90a08e531203cefc944d3da80249c"
   }
  }
 },
 "nbformat": 4,
 "nbformat_minor": 2
}
