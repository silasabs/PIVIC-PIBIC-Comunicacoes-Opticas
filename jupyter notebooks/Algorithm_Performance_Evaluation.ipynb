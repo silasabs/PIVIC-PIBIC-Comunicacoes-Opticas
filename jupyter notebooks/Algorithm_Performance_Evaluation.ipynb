{
 "cells": [
  {
   "cell_type": "code",
   "execution_count": 1,
   "metadata": {},
   "outputs": [],
   "source": [
    "import matplotlib.pyplot as plt\n",
    "import numpy as np\n",
    "\n",
    "from commpy.modulation import QAMModem\n",
    "\n",
    "from optic.dsp import pulseShape, firFilter, decimate, symbolSync, resample\n",
    "from optic.models import phaseNoise, KramersKronigRx, linFiberCh\n",
    "\n",
    "from optic.tx import simpleWDMTx\n",
    "from optic.core import parameters\n",
    "from optic.equalization import edc, mimoAdaptEqualizer\n",
    "from optic.carrierRecovery import cpr\n",
    "from optic.metrics import fastBERcalc, monteCarloGMI, monteCarloMI, signal_power\n",
    "from optic.plot import pconst\n",
    "\n",
    "import scipy.constants as const\n",
    "\n",
    "from tensorflow.keras.layers import Dense, Dropout, BatchNormalization\n",
    "from tensorflow.keras.models import Sequential\n",
    "from tensorflow.keras.callbacks import EarlyStopping\n",
    "import tensorflow as tf"
   ]
  },
  {
   "cell_type": "markdown",
   "metadata": {},
   "source": [
    "### Simulation of a single polarization optical signal transmission"
   ]
  },
  {
   "cell_type": "code",
   "execution_count": 5,
   "metadata": {},
   "outputs": [],
   "source": [
    "## Transmitter parameters:\n",
    "paramTx = parameters()\n",
    "paramTx.M = 64                 # order of the modulation format\n",
    "paramTx.Rs = 32e9              # symbol rate [baud]\n",
    "paramTx.SpS = 4                # samples per symbol\n",
    "paramTx.Nbits = 600000         # total number of bits per polarization\n",
    "paramTx.pulse = \"rrc\"          # pulse shaping filter\n",
    "paramTx.Ntaps = 1024           # number of pulse shaping filter coefficients\n",
    "#paramTx.alphaRRC = 0.91        # RRC rolloff\n",
    "paramTx.Pch_dBm = 0            # power of the optical signal [dBm]\n",
    "paramTx.Nch = 1                # number of WDM channels\n",
    "paramTx.Fc = 193.1e12          # central frequency of the optical spectrum\n",
    "paramTx.freqSpac = 37.5e9      # WDM grid spacing\n",
    "\n",
    "## Optical channel parameters:\n",
    "Ltotal = 50      # total link distance [km]\n",
    "alpha = 0        # fiber loss parameter [dB/km]\n",
    "D = 16           # fiber dispersion parameter [ps/nm/km]\n",
    "Fc = paramTx.Fc  # central optical frequency of the WDM spectrum [Hz]\n",
    "\n",
    "## Receiver parameters:\n",
    "\n",
    "# local oscillator (LO)\n",
    "#FO = 5e9 + paramTx.Rs/2  # frequency offset\n",
    "lw = 0*200e3       # linewidth\n",
    "ϕ_lo = 0           # initial phase in rad\n",
    "Plo_dBm = 12       # power in dBm\n",
    "\n",
    "# ADC sampling rate\n",
    "paramADC = parameters()\n",
    "paramADC.Rs = paramTx.Rs\n",
    "paramADC.SpS_in = paramTx.SpS\n",
    "paramADC.SpS_out = 4\n",
    "\n",
    "## General simulation parameters:\n",
    "chIndex = 0  # index of the channel to be demodulated\n",
    "plotPSD = True\n",
    "Fs = paramTx.Rs * paramTx.SpS  # simulation sampling rate"
   ]
  },
  {
   "cell_type": "markdown",
   "metadata": {},
   "source": [
    "### Transmission with machine learning-based phase recovery"
   ]
  },
  {
   "cell_type": "code",
   "execution_count": 7,
   "metadata": {},
   "outputs": [
    {
     "name": "stdout",
     "output_type": "stream",
     "text": [
      "channel 0\t fc : 193.1000 THz\n",
      "  mode #0\t power: 0.00 dBm\n",
      "channel 0\t power: -0.00 dBm\n",
      "\n",
      "total WDM dignal power: -0.00 dBm\n",
      "Demodulating channel #0 , fc: 193.1000 THz, λ: 1552.5244 nm\n",
      "\n",
      "Local oscillator P: 12.00 dBm, lw: 0.00 kHz, FO: 17000.00 MHz\n",
      "CSPR = 12.00 dB\n",
      "12500/12500 [==============================] - 16s 1ms/step\n",
      "\n",
      "\n",
      "nlms - training stage #0\n"
     ]
    },
    {
     "data": {
      "application/vnd.jupyter.widget-view+json": {
       "model_id": "28e8b24af4b54405a62019aa5b538d56",
       "version_major": 2,
       "version_minor": 0
      },
      "text/plain": [
       "  0%|          | 0/5 [00:00<?, ?it/s]"
      ]
     },
     "metadata": {},
     "output_type": "display_data"
    },
    {
     "name": "stdout",
     "output_type": "stream",
     "text": [
      "nlms pre-convergence training iteration #0\n",
      "nlms MSE = 0.022443.\n",
      "nlms pre-convergence training iteration #1\n",
      "nlms MSE = 0.002968.\n",
      "nlms pre-convergence training iteration #2\n",
      "nlms MSE = 0.002542.\n",
      "nlms pre-convergence training iteration #3\n",
      "nlms MSE = 0.002305.\n",
      "nlms pre-convergence training iteration #4\n",
      "nlms MSE = 0.002150.\n",
      "\n",
      "\n",
      "dd-lms - training stage #1\n",
      "dd-lms MSE = 0.001042.\n",
      "Results:\n",
      "\n",
      "SER: 1.89e-04\n",
      "BER: 3.15e-05\n",
      "SNR: 29.58 dB\n",
      "MI: 5.99 bits\n",
      "GMI: 5.99 bits\n",
      "channel 0\t fc : 193.1000 THz\n",
      "  mode #0\t power: 0.00 dBm\n",
      "channel 0\t power: -0.00 dBm\n",
      "\n",
      "total WDM dignal power: -0.00 dBm\n",
      "Demodulating channel #0 , fc: 193.1000 THz, λ: 1552.5244 nm\n",
      "\n",
      "Local oscillator P: 12.00 dBm, lw: 0.00 kHz, FO: 17000.00 MHz\n",
      "CSPR = 12.00 dB\n",
      "12500/12500 [==============================] - 15s 1ms/step\n",
      "\n",
      "\n",
      "nlms - training stage #0\n"
     ]
    },
    {
     "data": {
      "application/vnd.jupyter.widget-view+json": {
       "model_id": "74b38a84b4a340aaaa20923f832d291a",
       "version_major": 2,
       "version_minor": 0
      },
      "text/plain": [
       "  0%|          | 0/5 [00:00<?, ?it/s]"
      ]
     },
     "metadata": {},
     "output_type": "display_data"
    },
    {
     "name": "stdout",
     "output_type": "stream",
     "text": [
      "nlms pre-convergence training iteration #0\n",
      "nlms MSE = 0.020744.\n",
      "nlms pre-convergence training iteration #1\n",
      "nlms MSE = 0.003021.\n",
      "nlms pre-convergence training iteration #2\n",
      "nlms MSE = 0.002514.\n",
      "nlms pre-convergence training iteration #3\n",
      "nlms MSE = 0.002246.\n",
      "nlms pre-convergence training iteration #4\n",
      "nlms MSE = 0.002083.\n",
      "\n",
      "\n",
      "dd-lms - training stage #1\n",
      "dd-lms MSE = 0.001122.\n",
      "Results:\n",
      "\n",
      "SER: 3.33e-05\n",
      "BER: 5.56e-06\n",
      "SNR: 29.39 dB\n",
      "MI: 6.00 bits\n",
      "GMI: 6.00 bits\n",
      "channel 0\t fc : 193.1000 THz\n",
      "  mode #0\t power: 0.00 dBm\n",
      "channel 0\t power: 0.00 dBm\n",
      "\n",
      "total WDM dignal power: 0.00 dBm\n",
      "Demodulating channel #0 , fc: 193.1000 THz, λ: 1552.5244 nm\n",
      "\n",
      "Local oscillator P: 12.00 dBm, lw: 0.00 kHz, FO: 17000.00 MHz\n",
      "CSPR = 12.00 dB\n",
      "12500/12500 [==============================] - 15s 1ms/step\n",
      "\n",
      "\n",
      "nlms - training stage #0\n"
     ]
    },
    {
     "data": {
      "application/vnd.jupyter.widget-view+json": {
       "model_id": "b75bcace7a9240549d862197c912298e",
       "version_major": 2,
       "version_minor": 0
      },
      "text/plain": [
       "  0%|          | 0/5 [00:00<?, ?it/s]"
      ]
     },
     "metadata": {},
     "output_type": "display_data"
    },
    {
     "name": "stdout",
     "output_type": "stream",
     "text": [
      "nlms pre-convergence training iteration #0\n",
      "nlms MSE = 0.021684.\n",
      "nlms pre-convergence training iteration #1\n",
      "nlms MSE = 0.004785.\n",
      "nlms pre-convergence training iteration #2\n",
      "nlms MSE = 0.004262.\n",
      "nlms pre-convergence training iteration #3\n",
      "nlms MSE = 0.003941.\n",
      "nlms pre-convergence training iteration #4\n",
      "nlms MSE = 0.003724.\n",
      "\n",
      "\n",
      "dd-lms - training stage #1\n",
      "dd-lms MSE = 0.002667.\n",
      "Results:\n",
      "\n",
      "SER: 1.39e-03\n",
      "BER: 2.35e-04\n",
      "SNR: 25.67 dB\n",
      "MI: 5.99 bits\n",
      "GMI: 5.99 bits\n",
      "channel 0\t fc : 193.1000 THz\n",
      "  mode #0\t power: 0.00 dBm\n",
      "channel 0\t power: -0.00 dBm\n",
      "\n",
      "total WDM dignal power: -0.00 dBm\n",
      "Demodulating channel #0 , fc: 193.1000 THz, λ: 1552.5244 nm\n",
      "\n",
      "Local oscillator P: 12.00 dBm, lw: 0.00 kHz, FO: 17000.00 MHz\n",
      "CSPR = 12.00 dB\n",
      "12500/12500 [==============================] - 16s 1ms/step\n",
      "\n",
      "\n",
      "nlms - training stage #0\n"
     ]
    },
    {
     "data": {
      "application/vnd.jupyter.widget-view+json": {
       "model_id": "14144d936ceb438bbf7258f9a936eb2b",
       "version_major": 2,
       "version_minor": 0
      },
      "text/plain": [
       "  0%|          | 0/5 [00:00<?, ?it/s]"
      ]
     },
     "metadata": {},
     "output_type": "display_data"
    },
    {
     "name": "stdout",
     "output_type": "stream",
     "text": [
      "nlms pre-convergence training iteration #0\n",
      "nlms MSE = 0.025961.\n",
      "nlms pre-convergence training iteration #1\n",
      "nlms MSE = 0.008405.\n",
      "nlms pre-convergence training iteration #2\n",
      "nlms MSE = 0.007211.\n",
      "nlms pre-convergence training iteration #3\n",
      "nlms MSE = 0.006469.\n",
      "nlms pre-convergence training iteration #4\n",
      "nlms MSE = 0.005960.\n",
      "\n",
      "\n",
      "dd-lms - training stage #1\n",
      "dd-lms MSE = 0.004023.\n",
      "Results:\n",
      "\n",
      "SER: 5.76e-03\n",
      "BER: 9.72e-04\n",
      "SNR: 23.74 dB\n",
      "MI: 5.97 bits\n",
      "GMI: 5.97 bits\n",
      "channel 0\t fc : 193.1000 THz\n",
      "  mode #0\t power: 0.00 dBm\n",
      "channel 0\t power: 0.00 dBm\n",
      "\n",
      "total WDM dignal power: 0.00 dBm\n",
      "Demodulating channel #0 , fc: 193.1000 THz, λ: 1552.5244 nm\n",
      "\n",
      "Local oscillator P: 12.00 dBm, lw: 0.00 kHz, FO: 17000.00 MHz\n",
      "CSPR = 12.00 dB\n",
      "12500/12500 [==============================] - 17s 1ms/step\n",
      "\n",
      "\n",
      "nlms - training stage #0\n"
     ]
    },
    {
     "data": {
      "application/vnd.jupyter.widget-view+json": {
       "model_id": "e175c6d3a90f4b978f635795e4d05c6f",
       "version_major": 2,
       "version_minor": 0
      },
      "text/plain": [
       "  0%|          | 0/5 [00:00<?, ?it/s]"
      ]
     },
     "metadata": {},
     "output_type": "display_data"
    },
    {
     "name": "stdout",
     "output_type": "stream",
     "text": [
      "nlms pre-convergence training iteration #0\n",
      "nlms MSE = 0.031022.\n",
      "nlms pre-convergence training iteration #1\n",
      "nlms MSE = 0.011709.\n",
      "nlms pre-convergence training iteration #2\n",
      "nlms MSE = 0.009458.\n",
      "nlms pre-convergence training iteration #3\n",
      "nlms MSE = 0.008127.\n",
      "nlms pre-convergence training iteration #4\n",
      "nlms MSE = 0.007271.\n",
      "\n",
      "\n",
      "dd-lms - training stage #1\n",
      "dd-lms MSE = 0.004816.\n",
      "Results:\n",
      "\n",
      "SER: 1.09e-02\n",
      "BER: 1.83e-03\n",
      "SNR: 22.87 dB\n",
      "MI: 5.94 bits\n",
      "GMI: 5.95 bits\n",
      "channel 0\t fc : 193.1000 THz\n",
      "  mode #0\t power: 0.00 dBm\n",
      "channel 0\t power: -0.00 dBm\n",
      "\n",
      "total WDM dignal power: -0.00 dBm\n",
      "Demodulating channel #0 , fc: 193.1000 THz, λ: 1552.5244 nm\n",
      "\n",
      "Local oscillator P: 12.00 dBm, lw: 0.00 kHz, FO: 17000.00 MHz\n",
      "CSPR = 12.00 dB\n",
      "12500/12500 [==============================] - 15s 1ms/step\n",
      "\n",
      "\n",
      "nlms - training stage #0\n"
     ]
    },
    {
     "data": {
      "application/vnd.jupyter.widget-view+json": {
       "model_id": "598b2ea74a264768b5f83ff1d022c51a",
       "version_major": 2,
       "version_minor": 0
      },
      "text/plain": [
       "  0%|          | 0/5 [00:00<?, ?it/s]"
      ]
     },
     "metadata": {},
     "output_type": "display_data"
    },
    {
     "name": "stdout",
     "output_type": "stream",
     "text": [
      "nlms pre-convergence training iteration #0\n",
      "nlms MSE = 0.033631.\n",
      "nlms pre-convergence training iteration #1\n",
      "nlms MSE = 0.015775.\n",
      "nlms pre-convergence training iteration #2\n",
      "nlms MSE = 0.013267.\n",
      "nlms pre-convergence training iteration #3\n",
      "nlms MSE = 0.011786.\n",
      "nlms pre-convergence training iteration #4\n",
      "nlms MSE = 0.010856.\n",
      "\n",
      "\n",
      "dd-lms - training stage #1\n",
      "dd-lms MSE = 0.008198.\n",
      "Results:\n",
      "\n",
      "SER: 5.07e-02\n",
      "BER: 8.67e-03\n",
      "SNR: 20.29 dB\n",
      "MI: 5.78 bits\n",
      "GMI: 5.78 bits\n",
      "channel 0\t fc : 193.1000 THz\n",
      "  mode #0\t power: 0.00 dBm\n",
      "channel 0\t power: -0.00 dBm\n",
      "\n",
      "total WDM dignal power: -0.00 dBm\n",
      "Demodulating channel #0 , fc: 193.1000 THz, λ: 1552.5244 nm\n",
      "\n",
      "Local oscillator P: 12.00 dBm, lw: 0.00 kHz, FO: 17000.00 MHz\n",
      "CSPR = 12.00 dB\n",
      "12500/12500 [==============================] - 15s 1ms/step\n",
      "\n",
      "\n",
      "nlms - training stage #0\n"
     ]
    },
    {
     "data": {
      "application/vnd.jupyter.widget-view+json": {
       "model_id": "ac0edeb6ee4a4ea2b57916d1ff76bcb4",
       "version_major": 2,
       "version_minor": 0
      },
      "text/plain": [
       "  0%|          | 0/5 [00:00<?, ?it/s]"
      ]
     },
     "metadata": {},
     "output_type": "display_data"
    },
    {
     "name": "stdout",
     "output_type": "stream",
     "text": [
      "nlms pre-convergence training iteration #0\n",
      "nlms MSE = 0.039731.\n",
      "nlms pre-convergence training iteration #1\n",
      "nlms MSE = 0.016818.\n",
      "nlms pre-convergence training iteration #2\n",
      "nlms MSE = 0.012818.\n",
      "nlms pre-convergence training iteration #3\n",
      "nlms MSE = 0.010853.\n",
      "nlms pre-convergence training iteration #4\n",
      "nlms MSE = 0.009754.\n",
      "\n",
      "\n",
      "dd-lms - training stage #1\n",
      "dd-lms MSE = 0.006886.\n",
      "Results:\n",
      "\n",
      "SER: 3.26e-02\n",
      "BER: 5.54e-03\n",
      "SNR: 21.18 dB\n",
      "MI: 5.85 bits\n",
      "GMI: 5.85 bits\n",
      "channel 0\t fc : 193.1000 THz\n",
      "  mode #0\t power: 0.00 dBm\n",
      "channel 0\t power: -0.00 dBm\n",
      "\n",
      "total WDM dignal power: -0.00 dBm\n",
      "Demodulating channel #0 , fc: 193.1000 THz, λ: 1552.5244 nm\n",
      "\n",
      "Local oscillator P: 12.00 dBm, lw: 0.00 kHz, FO: 17000.00 MHz\n",
      "CSPR = 12.00 dB\n",
      "12500/12500 [==============================] - 16s 1ms/step\n",
      "\n",
      "\n",
      "nlms - training stage #0\n"
     ]
    },
    {
     "data": {
      "application/vnd.jupyter.widget-view+json": {
       "model_id": "033c6526b1fe4f6a9cf9c2d31bb7dc7b",
       "version_major": 2,
       "version_minor": 0
      },
      "text/plain": [
       "  0%|          | 0/5 [00:00<?, ?it/s]"
      ]
     },
     "metadata": {},
     "output_type": "display_data"
    },
    {
     "name": "stdout",
     "output_type": "stream",
     "text": [
      "nlms pre-convergence training iteration #0\n",
      "nlms MSE = 0.046744.\n",
      "nlms pre-convergence training iteration #1\n",
      "nlms MSE = 0.021555.\n",
      "nlms pre-convergence training iteration #2\n",
      "nlms MSE = 0.016571.\n",
      "nlms pre-convergence training iteration #3\n",
      "nlms MSE = 0.014179.\n",
      "nlms pre-convergence training iteration #4\n",
      "nlms MSE = 0.012833.\n",
      "\n",
      "\n",
      "dd-lms - training stage #1\n",
      "dd-lms MSE = 0.008650.\n",
      "Results:\n",
      "\n",
      "SER: 6.47e-02\n",
      "BER: 1.11e-02\n",
      "SNR: 19.91 dB\n",
      "MI: 5.72 bits\n",
      "GMI: 5.72 bits\n",
      "channel 0\t fc : 193.1000 THz\n",
      "  mode #0\t power: 0.00 dBm\n",
      "channel 0\t power: -0.00 dBm\n",
      "\n",
      "total WDM dignal power: -0.00 dBm\n",
      "Demodulating channel #0 , fc: 193.1000 THz, λ: 1552.5244 nm\n",
      "\n",
      "Local oscillator P: 12.00 dBm, lw: 0.00 kHz, FO: 17000.00 MHz\n",
      "CSPR = 12.00 dB\n",
      "12500/12500 [==============================] - 16s 1ms/step\n",
      "\n",
      "\n",
      "nlms - training stage #0\n"
     ]
    },
    {
     "data": {
      "application/vnd.jupyter.widget-view+json": {
       "model_id": "5ee1cf2361314d929217ba40f95b7d12",
       "version_major": 2,
       "version_minor": 0
      },
      "text/plain": [
       "  0%|          | 0/5 [00:00<?, ?it/s]"
      ]
     },
     "metadata": {},
     "output_type": "display_data"
    },
    {
     "name": "stdout",
     "output_type": "stream",
     "text": [
      "nlms pre-convergence training iteration #0\n",
      "nlms MSE = 0.053215.\n",
      "nlms pre-convergence training iteration #1\n",
      "nlms MSE = 0.024986.\n",
      "nlms pre-convergence training iteration #2\n",
      "nlms MSE = 0.019137.\n",
      "nlms pre-convergence training iteration #3\n",
      "nlms MSE = 0.016410.\n",
      "nlms pre-convergence training iteration #4\n",
      "nlms MSE = 0.014861.\n",
      "\n",
      "\n",
      "dd-lms - training stage #1\n",
      "dd-lms MSE = 0.009526.\n",
      "Results:\n",
      "\n",
      "SER: 8.52e-02\n",
      "BER: 1.46e-02\n",
      "SNR: 19.31 dB\n",
      "MI: 5.64 bits\n",
      "GMI: 5.64 bits\n",
      "channel 0\t fc : 193.1000 THz\n",
      "  mode #0\t power: 0.00 dBm\n",
      "channel 0\t power: 0.00 dBm\n",
      "\n",
      "total WDM dignal power: 0.00 dBm\n",
      "Demodulating channel #0 , fc: 193.1000 THz, λ: 1552.5244 nm\n",
      "\n",
      "Local oscillator P: 12.00 dBm, lw: 0.00 kHz, FO: 17000.00 MHz\n",
      "CSPR = 12.00 dB\n",
      "12500/12500 [==============================] - 15s 1ms/step\n",
      "\n",
      "\n",
      "nlms - training stage #0\n"
     ]
    },
    {
     "data": {
      "application/vnd.jupyter.widget-view+json": {
       "model_id": "1c7c48cf70804fd7b6e4b3a1cdbe0beb",
       "version_major": 2,
       "version_minor": 0
      },
      "text/plain": [
       "  0%|          | 0/5 [00:00<?, ?it/s]"
      ]
     },
     "metadata": {},
     "output_type": "display_data"
    },
    {
     "name": "stdout",
     "output_type": "stream",
     "text": [
      "nlms pre-convergence training iteration #0\n",
      "nlms MSE = 0.059260.\n",
      "nlms pre-convergence training iteration #1\n",
      "nlms MSE = 0.033801.\n",
      "nlms pre-convergence training iteration #2\n",
      "nlms MSE = 0.027328.\n",
      "nlms pre-convergence training iteration #3\n",
      "nlms MSE = 0.024147.\n",
      "nlms pre-convergence training iteration #4\n",
      "nlms MSE = 0.022334.\n",
      "\n",
      "\n",
      "dd-lms - training stage #1\n",
      "dd-lms MSE = 0.013464.\n",
      "Results:\n",
      "\n",
      "SER: 2.27e-01\n",
      "BER: 4.07e-02\n",
      "SNR: 16.64 dB\n",
      "MI: 5.08 bits\n",
      "GMI: 5.08 bits\n",
      "channel 0\t fc : 193.1000 THz\n",
      "  mode #0\t power: 0.00 dBm\n",
      "channel 0\t power: 0.00 dBm\n",
      "\n",
      "total WDM dignal power: 0.00 dBm\n",
      "Demodulating channel #0 , fc: 193.1000 THz, λ: 1552.5244 nm\n",
      "\n",
      "Local oscillator P: 12.00 dBm, lw: 0.00 kHz, FO: 18000.00 MHz\n",
      "CSPR = 12.00 dB\n",
      "12500/12500 [==============================] - 16s 1ms/step\n",
      "\n",
      "\n",
      "nlms - training stage #0\n"
     ]
    },
    {
     "data": {
      "application/vnd.jupyter.widget-view+json": {
       "model_id": "ce2edbfd059f45daadf8067a21858e80",
       "version_major": 2,
       "version_minor": 0
      },
      "text/plain": [
       "  0%|          | 0/5 [00:00<?, ?it/s]"
      ]
     },
     "metadata": {},
     "output_type": "display_data"
    },
    {
     "name": "stdout",
     "output_type": "stream",
     "text": [
      "nlms pre-convergence training iteration #0\n",
      "nlms MSE = 0.022297.\n",
      "nlms pre-convergence training iteration #1\n",
      "nlms MSE = 0.002498.\n",
      "nlms pre-convergence training iteration #2\n",
      "nlms MSE = 0.002111.\n",
      "nlms pre-convergence training iteration #3\n",
      "nlms MSE = 0.001888.\n",
      "nlms pre-convergence training iteration #4\n",
      "nlms MSE = 0.001739.\n",
      "\n",
      "\n",
      "dd-lms - training stage #1\n",
      "dd-lms MSE = 0.001177.\n",
      "Results:\n",
      "\n",
      "SER: 3.33e-04\n",
      "BER: 5.56e-05\n",
      "SNR: 29.14 dB\n",
      "MI: 5.99 bits\n",
      "GMI: 5.99 bits\n",
      "channel 0\t fc : 193.1000 THz\n",
      "  mode #0\t power: 0.00 dBm\n",
      "channel 0\t power: 0.00 dBm\n",
      "\n",
      "total WDM dignal power: 0.00 dBm\n",
      "Demodulating channel #0 , fc: 193.1000 THz, λ: 1552.5244 nm\n",
      "\n",
      "Local oscillator P: 12.00 dBm, lw: 0.00 kHz, FO: 18000.00 MHz\n",
      "CSPR = 12.00 dB\n",
      "12500/12500 [==============================] - 16s 1ms/step\n",
      "\n",
      "\n",
      "nlms - training stage #0\n"
     ]
    },
    {
     "data": {
      "application/vnd.jupyter.widget-view+json": {
       "model_id": "cefb2dc97fd14898bd833c00db058cd2",
       "version_major": 2,
       "version_minor": 0
      },
      "text/plain": [
       "  0%|          | 0/5 [00:00<?, ?it/s]"
      ]
     },
     "metadata": {},
     "output_type": "display_data"
    },
    {
     "name": "stdout",
     "output_type": "stream",
     "text": [
      "nlms pre-convergence training iteration #0\n",
      "nlms MSE = 0.019834.\n",
      "nlms pre-convergence training iteration #1\n",
      "nlms MSE = 0.002551.\n",
      "nlms pre-convergence training iteration #2\n",
      "nlms MSE = 0.002063.\n",
      "nlms pre-convergence training iteration #3\n",
      "nlms MSE = 0.001806.\n",
      "nlms pre-convergence training iteration #4\n",
      "nlms MSE = 0.001649.\n",
      "\n",
      "\n",
      "dd-lms - training stage #1\n",
      "dd-lms MSE = 0.000958.\n",
      "Results:\n",
      "\n",
      "SER: 1.22e-04\n",
      "BER: 2.04e-05\n",
      "SNR: 30.00 dB\n",
      "MI: 6.00 bits\n",
      "GMI: 6.00 bits\n",
      "channel 0\t fc : 193.1000 THz\n",
      "  mode #0\t power: 0.00 dBm\n",
      "channel 0\t power: -0.00 dBm\n",
      "\n",
      "total WDM dignal power: -0.00 dBm\n",
      "Demodulating channel #0 , fc: 193.1000 THz, λ: 1552.5244 nm\n",
      "\n",
      "Local oscillator P: 12.00 dBm, lw: 0.00 kHz, FO: 18000.00 MHz\n",
      "CSPR = 12.00 dB\n",
      "12500/12500 [==============================] - 15s 1ms/step\n",
      "\n",
      "\n",
      "nlms - training stage #0\n"
     ]
    },
    {
     "data": {
      "application/vnd.jupyter.widget-view+json": {
       "model_id": "2ed8c26982f64707a3a8f8a3535cf0d9",
       "version_major": 2,
       "version_minor": 0
      },
      "text/plain": [
       "  0%|          | 0/5 [00:00<?, ?it/s]"
      ]
     },
     "metadata": {},
     "output_type": "display_data"
    },
    {
     "name": "stdout",
     "output_type": "stream",
     "text": [
      "nlms pre-convergence training iteration #0\n",
      "nlms MSE = 0.017429.\n",
      "nlms pre-convergence training iteration #1\n",
      "nlms MSE = 0.002374.\n",
      "nlms pre-convergence training iteration #2\n",
      "nlms MSE = 0.002182.\n",
      "nlms pre-convergence training iteration #3\n",
      "nlms MSE = 0.002053.\n",
      "nlms pre-convergence training iteration #4\n",
      "nlms MSE = 0.001962.\n",
      "\n",
      "\n",
      "dd-lms - training stage #1\n",
      "dd-lms MSE = 0.001131.\n",
      "Results:\n",
      "\n",
      "SER: 1.00e-04\n",
      "BER: 1.67e-05\n",
      "SNR: 29.37 dB\n",
      "MI: 6.00 bits\n",
      "GMI: 6.00 bits\n",
      "channel 0\t fc : 193.1000 THz\n",
      "  mode #0\t power: 0.00 dBm\n",
      "channel 0\t power: -0.00 dBm\n",
      "\n",
      "total WDM dignal power: -0.00 dBm\n",
      "Demodulating channel #0 , fc: 193.1000 THz, λ: 1552.5244 nm\n",
      "\n",
      "Local oscillator P: 12.00 dBm, lw: 0.00 kHz, FO: 18000.00 MHz\n",
      "CSPR = 12.00 dB\n",
      "12500/12500 [==============================] - 15s 1ms/step\n",
      "\n",
      "\n",
      "nlms - training stage #0\n"
     ]
    },
    {
     "data": {
      "application/vnd.jupyter.widget-view+json": {
       "model_id": "84e29c2419354fd0a8e5ae81d7c2c316",
       "version_major": 2,
       "version_minor": 0
      },
      "text/plain": [
       "  0%|          | 0/5 [00:00<?, ?it/s]"
      ]
     },
     "metadata": {},
     "output_type": "display_data"
    },
    {
     "name": "stdout",
     "output_type": "stream",
     "text": [
      "nlms pre-convergence training iteration #0\n",
      "nlms MSE = 0.018923.\n",
      "nlms pre-convergence training iteration #1\n",
      "nlms MSE = 0.003773.\n",
      "nlms pre-convergence training iteration #2\n",
      "nlms MSE = 0.003501.\n",
      "nlms pre-convergence training iteration #3\n",
      "nlms MSE = 0.003299.\n",
      "nlms pre-convergence training iteration #4\n",
      "nlms MSE = 0.003141.\n",
      "\n",
      "\n",
      "dd-lms - training stage #1\n",
      "dd-lms MSE = 0.002074.\n",
      "Results:\n",
      "\n",
      "SER: 3.00e-04\n",
      "BER: 5.00e-05\n",
      "SNR: 26.69 dB\n",
      "MI: 6.00 bits\n",
      "GMI: 6.00 bits\n",
      "channel 0\t fc : 193.1000 THz\n",
      "  mode #0\t power: 0.00 dBm\n",
      "channel 0\t power: 0.00 dBm\n",
      "\n",
      "total WDM dignal power: 0.00 dBm\n",
      "Demodulating channel #0 , fc: 193.1000 THz, λ: 1552.5244 nm\n",
      "\n",
      "Local oscillator P: 12.00 dBm, lw: 0.00 kHz, FO: 18000.00 MHz\n",
      "CSPR = 12.00 dB\n",
      "12500/12500 [==============================] - 15s 1ms/step\n",
      "\n",
      "\n",
      "nlms - training stage #0\n"
     ]
    },
    {
     "data": {
      "application/vnd.jupyter.widget-view+json": {
       "model_id": "557e2f6e37934cf784deb9d3b6280b60",
       "version_major": 2,
       "version_minor": 0
      },
      "text/plain": [
       "  0%|          | 0/5 [00:00<?, ?it/s]"
      ]
     },
     "metadata": {},
     "output_type": "display_data"
    },
    {
     "name": "stdout",
     "output_type": "stream",
     "text": [
      "nlms pre-convergence training iteration #0\n",
      "nlms MSE = 0.021610.\n",
      "nlms pre-convergence training iteration #1\n",
      "nlms MSE = 0.006096.\n",
      "nlms pre-convergence training iteration #2\n",
      "nlms MSE = 0.005183.\n",
      "nlms pre-convergence training iteration #3\n",
      "nlms MSE = 0.004575.\n",
      "nlms pre-convergence training iteration #4\n",
      "nlms MSE = 0.004146.\n",
      "\n",
      "\n",
      "dd-lms - training stage #1\n",
      "dd-lms MSE = 0.002566.\n",
      "Results:\n",
      "\n",
      "SER: 1.01e-03\n",
      "BER: 1.70e-04\n",
      "SNR: 25.70 dB\n",
      "MI: 5.99 bits\n",
      "GMI: 5.99 bits\n",
      "channel 0\t fc : 193.1000 THz\n",
      "  mode #0\t power: 0.00 dBm\n",
      "channel 0\t power: -0.00 dBm\n",
      "\n",
      "total WDM dignal power: -0.00 dBm\n",
      "Demodulating channel #0 , fc: 193.1000 THz, λ: 1552.5244 nm\n",
      "\n",
      "Local oscillator P: 12.00 dBm, lw: 0.00 kHz, FO: 18000.00 MHz\n",
      "CSPR = 12.00 dB\n",
      "12500/12500 [==============================] - 15s 1ms/step\n",
      "\n",
      "\n",
      "nlms - training stage #0\n"
     ]
    },
    {
     "data": {
      "application/vnd.jupyter.widget-view+json": {
       "model_id": "76b6229f90444b2d90a69ffc74f204c5",
       "version_major": 2,
       "version_minor": 0
      },
      "text/plain": [
       "  0%|          | 0/5 [00:00<?, ?it/s]"
      ]
     },
     "metadata": {},
     "output_type": "display_data"
    },
    {
     "name": "stdout",
     "output_type": "stream",
     "text": [
      "nlms pre-convergence training iteration #0\n",
      "nlms MSE = 0.024587.\n",
      "nlms pre-convergence training iteration #1\n",
      "nlms MSE = 0.008410.\n",
      "nlms pre-convergence training iteration #2\n",
      "nlms MSE = 0.006739.\n",
      "nlms pre-convergence training iteration #3\n",
      "nlms MSE = 0.005724.\n",
      "nlms pre-convergence training iteration #4\n",
      "nlms MSE = 0.005072.\n",
      "\n",
      "\n",
      "dd-lms - training stage #1\n",
      "dd-lms MSE = 0.003413.\n",
      "Results:\n",
      "\n",
      "SER: 3.01e-03\n",
      "BER: 5.04e-04\n",
      "SNR: 24.47 dB\n",
      "MI: 5.98 bits\n",
      "GMI: 5.98 bits\n",
      "channel 0\t fc : 193.1000 THz\n",
      "  mode #0\t power: 0.00 dBm\n",
      "channel 0\t power: -0.00 dBm\n",
      "\n",
      "total WDM dignal power: -0.00 dBm\n",
      "Demodulating channel #0 , fc: 193.1000 THz, λ: 1552.5244 nm\n",
      "\n",
      "Local oscillator P: 12.00 dBm, lw: 0.00 kHz, FO: 18000.00 MHz\n",
      "CSPR = 12.00 dB\n",
      "12500/12500 [==============================] - 15s 1ms/step\n",
      "\n",
      "\n",
      "nlms - training stage #0\n"
     ]
    },
    {
     "data": {
      "application/vnd.jupyter.widget-view+json": {
       "model_id": "0ae208b9739041b681f90545b2ef3207",
       "version_major": 2,
       "version_minor": 0
      },
      "text/plain": [
       "  0%|          | 0/5 [00:00<?, ?it/s]"
      ]
     },
     "metadata": {},
     "output_type": "display_data"
    },
    {
     "name": "stdout",
     "output_type": "stream",
     "text": [
      "nlms pre-convergence training iteration #0\n",
      "nlms MSE = 0.031226.\n",
      "nlms pre-convergence training iteration #1\n",
      "nlms MSE = 0.012712.\n",
      "nlms pre-convergence training iteration #2\n",
      "nlms MSE = 0.009803.\n",
      "nlms pre-convergence training iteration #3\n",
      "nlms MSE = 0.008237.\n",
      "nlms pre-convergence training iteration #4\n",
      "nlms MSE = 0.007329.\n",
      "\n",
      "\n",
      "dd-lms - training stage #1\n",
      "dd-lms MSE = 0.005161.\n",
      "Results:\n",
      "\n",
      "SER: 1.20e-02\n",
      "BER: 2.01e-03\n",
      "SNR: 22.60 dB\n",
      "MI: 5.94 bits\n",
      "GMI: 5.94 bits\n",
      "channel 0\t fc : 193.1000 THz\n",
      "  mode #0\t power: 0.00 dBm\n",
      "channel 0\t power: 0.00 dBm\n",
      "\n",
      "total WDM dignal power: 0.00 dBm\n",
      "Demodulating channel #0 , fc: 193.1000 THz, λ: 1552.5244 nm\n",
      "\n",
      "Local oscillator P: 12.00 dBm, lw: 0.00 kHz, FO: 18000.00 MHz\n",
      "CSPR = 12.00 dB\n",
      "12500/12500 [==============================] - 16s 1ms/step\n",
      "\n",
      "\n",
      "nlms - training stage #0\n"
     ]
    },
    {
     "data": {
      "application/vnd.jupyter.widget-view+json": {
       "model_id": "e7dfe9633f0e449c8fcabb8feb4921b0",
       "version_major": 2,
       "version_minor": 0
      },
      "text/plain": [
       "  0%|          | 0/5 [00:00<?, ?it/s]"
      ]
     },
     "metadata": {},
     "output_type": "display_data"
    },
    {
     "name": "stdout",
     "output_type": "stream",
     "text": [
      "nlms pre-convergence training iteration #0\n",
      "nlms MSE = 0.036592.\n",
      "nlms pre-convergence training iteration #1\n",
      "nlms MSE = 0.017940.\n",
      "nlms pre-convergence training iteration #2\n",
      "nlms MSE = 0.014543.\n",
      "nlms pre-convergence training iteration #3\n",
      "nlms MSE = 0.012658.\n",
      "nlms pre-convergence training iteration #4\n",
      "nlms MSE = 0.011553.\n",
      "\n",
      "\n",
      "dd-lms - training stage #1\n",
      "dd-lms MSE = 0.008571.\n",
      "Results:\n",
      "\n",
      "SER: 5.68e-02\n",
      "BER: 9.68e-03\n",
      "SNR: 20.05 dB\n",
      "MI: 5.75 bits\n",
      "GMI: 5.75 bits\n",
      "channel 0\t fc : 193.1000 THz\n",
      "  mode #0\t power: 0.00 dBm\n",
      "channel 0\t power: -0.00 dBm\n",
      "\n",
      "total WDM dignal power: -0.00 dBm\n",
      "Demodulating channel #0 , fc: 193.1000 THz, λ: 1552.5244 nm\n",
      "\n",
      "Local oscillator P: 12.00 dBm, lw: 0.00 kHz, FO: 18000.00 MHz\n",
      "CSPR = 12.00 dB\n",
      "12500/12500 [==============================] - 16s 1ms/step\n",
      "\n",
      "\n",
      "nlms - training stage #0\n"
     ]
    },
    {
     "data": {
      "application/vnd.jupyter.widget-view+json": {
       "model_id": "0aded53df0e64284910ae0d56f13b84f",
       "version_major": 2,
       "version_minor": 0
      },
      "text/plain": [
       "  0%|          | 0/5 [00:00<?, ?it/s]"
      ]
     },
     "metadata": {},
     "output_type": "display_data"
    },
    {
     "name": "stdout",
     "output_type": "stream",
     "text": [
      "nlms pre-convergence training iteration #0\n",
      "nlms MSE = 0.041617.\n",
      "nlms pre-convergence training iteration #1\n",
      "nlms MSE = 0.018113.\n",
      "nlms pre-convergence training iteration #2\n",
      "nlms MSE = 0.013406.\n",
      "nlms pre-convergence training iteration #3\n",
      "nlms MSE = 0.011190.\n",
      "nlms pre-convergence training iteration #4\n",
      "nlms MSE = 0.009966.\n",
      "\n",
      "\n",
      "dd-lms - training stage #1\n",
      "dd-lms MSE = 0.006629.\n",
      "Results:\n",
      "\n",
      "SER: 2.81e-02\n",
      "BER: 4.78e-03\n",
      "SNR: 21.36 dB\n",
      "MI: 5.87 bits\n",
      "GMI: 5.87 bits\n",
      "channel 0\t fc : 193.1000 THz\n",
      "  mode #0\t power: 0.00 dBm\n",
      "channel 0\t power: -0.00 dBm\n",
      "\n",
      "total WDM dignal power: -0.00 dBm\n",
      "Demodulating channel #0 , fc: 193.1000 THz, λ: 1552.5244 nm\n",
      "\n",
      "Local oscillator P: 12.00 dBm, lw: 0.00 kHz, FO: 18000.00 MHz\n",
      "CSPR = 12.00 dB\n",
      "12500/12500 [==============================] - 16s 1ms/step\n",
      "\n",
      "\n",
      "nlms - training stage #0\n"
     ]
    },
    {
     "data": {
      "application/vnd.jupyter.widget-view+json": {
       "model_id": "df8ffd18303e4fd2ac05ed0747893729",
       "version_major": 2,
       "version_minor": 0
      },
      "text/plain": [
       "  0%|          | 0/5 [00:00<?, ?it/s]"
      ]
     },
     "metadata": {},
     "output_type": "display_data"
    },
    {
     "name": "stdout",
     "output_type": "stream",
     "text": [
      "nlms pre-convergence training iteration #0\n",
      "nlms MSE = 0.047563.\n",
      "nlms pre-convergence training iteration #1\n",
      "nlms MSE = 0.021024.\n",
      "nlms pre-convergence training iteration #2\n",
      "nlms MSE = 0.015407.\n",
      "nlms pre-convergence training iteration #3\n",
      "nlms MSE = 0.012789.\n",
      "nlms pre-convergence training iteration #4\n",
      "nlms MSE = 0.011322.\n",
      "\n",
      "\n",
      "dd-lms - training stage #1\n",
      "dd-lms MSE = 0.007335.\n",
      "Results:\n",
      "\n",
      "SER: 3.93e-02\n",
      "BER: 6.70e-03\n",
      "SNR: 20.78 dB\n",
      "MI: 5.83 bits\n",
      "GMI: 5.83 bits\n",
      "channel 0\t fc : 193.1000 THz\n",
      "  mode #0\t power: 0.00 dBm\n",
      "channel 0\t power: 0.00 dBm\n",
      "\n",
      "total WDM dignal power: 0.00 dBm\n",
      "Demodulating channel #0 , fc: 193.1000 THz, λ: 1552.5244 nm\n",
      "\n",
      "Local oscillator P: 12.00 dBm, lw: 0.00 kHz, FO: 19000.00 MHz\n",
      "CSPR = 12.00 dB\n",
      "12500/12500 [==============================] - 15s 1ms/step\n",
      "\n",
      "\n",
      "nlms - training stage #0\n"
     ]
    },
    {
     "data": {
      "application/vnd.jupyter.widget-view+json": {
       "model_id": "c77c26ee0fbe4c1e8c5d35df53ca2cd5",
       "version_major": 2,
       "version_minor": 0
      },
      "text/plain": [
       "  0%|          | 0/5 [00:00<?, ?it/s]"
      ]
     },
     "metadata": {},
     "output_type": "display_data"
    },
    {
     "name": "stdout",
     "output_type": "stream",
     "text": [
      "nlms pre-convergence training iteration #0\n",
      "nlms MSE = 0.022196.\n",
      "nlms pre-convergence training iteration #1\n",
      "nlms MSE = 0.002392.\n",
      "nlms pre-convergence training iteration #2\n",
      "nlms MSE = 0.001976.\n",
      "nlms pre-convergence training iteration #3\n",
      "nlms MSE = 0.001736.\n",
      "nlms pre-convergence training iteration #4\n",
      "nlms MSE = 0.001579.\n",
      "\n",
      "\n",
      "dd-lms - training stage #1\n",
      "dd-lms MSE = 0.001153.\n",
      "Results:\n",
      "\n",
      "SER: 2.22e-04\n",
      "BER: 3.70e-05\n",
      "SNR: 29.19 dB\n",
      "MI: 6.00 bits\n",
      "GMI: 6.00 bits\n",
      "channel 0\t fc : 193.1000 THz\n",
      "  mode #0\t power: 0.00 dBm\n",
      "channel 0\t power: 0.00 dBm\n",
      "\n",
      "total WDM dignal power: 0.00 dBm\n",
      "Demodulating channel #0 , fc: 193.1000 THz, λ: 1552.5244 nm\n",
      "\n",
      "Local oscillator P: 12.00 dBm, lw: 0.00 kHz, FO: 19000.00 MHz\n",
      "CSPR = 12.00 dB\n",
      "12500/12500 [==============================] - 15s 1ms/step\n",
      "\n",
      "\n",
      "nlms - training stage #0\n"
     ]
    },
    {
     "data": {
      "application/vnd.jupyter.widget-view+json": {
       "model_id": "8301a7756a394292a4b7686e1bc08029",
       "version_major": 2,
       "version_minor": 0
      },
      "text/plain": [
       "  0%|          | 0/5 [00:00<?, ?it/s]"
      ]
     },
     "metadata": {},
     "output_type": "display_data"
    },
    {
     "name": "stdout",
     "output_type": "stream",
     "text": [
      "nlms pre-convergence training iteration #0\n",
      "nlms MSE = 0.019411.\n",
      "nlms pre-convergence training iteration #1\n",
      "nlms MSE = 0.002448.\n",
      "nlms pre-convergence training iteration #2\n",
      "nlms MSE = 0.001948.\n",
      "nlms pre-convergence training iteration #3\n",
      "nlms MSE = 0.001682.\n",
      "nlms pre-convergence training iteration #4\n",
      "nlms MSE = 0.001520.\n",
      "\n",
      "\n",
      "dd-lms - training stage #1\n",
      "dd-lms MSE = 0.000898.\n",
      "Results:\n",
      "\n",
      "SER: 8.89e-05\n",
      "BER: 1.48e-05\n",
      "SNR: 30.25 dB\n",
      "MI: 6.00 bits\n",
      "GMI: 6.00 bits\n",
      "channel 0\t fc : 193.1000 THz\n",
      "  mode #0\t power: 0.00 dBm\n",
      "channel 0\t power: -0.00 dBm\n",
      "\n",
      "total WDM dignal power: -0.00 dBm\n",
      "Demodulating channel #0 , fc: 193.1000 THz, λ: 1552.5244 nm\n",
      "\n",
      "Local oscillator P: 12.00 dBm, lw: 0.00 kHz, FO: 19000.00 MHz\n",
      "CSPR = 12.00 dB\n",
      "12500/12500 [==============================] - 16s 1ms/step\n",
      "\n",
      "\n",
      "nlms - training stage #0\n"
     ]
    },
    {
     "data": {
      "application/vnd.jupyter.widget-view+json": {
       "model_id": "a1dc30c5abc642bb9d7a0273a1270570",
       "version_major": 2,
       "version_minor": 0
      },
      "text/plain": [
       "  0%|          | 0/5 [00:00<?, ?it/s]"
      ]
     },
     "metadata": {},
     "output_type": "display_data"
    },
    {
     "name": "stdout",
     "output_type": "stream",
     "text": [
      "nlms pre-convergence training iteration #0\n",
      "nlms MSE = 0.017643.\n",
      "nlms pre-convergence training iteration #1\n",
      "nlms MSE = 0.002656.\n",
      "nlms pre-convergence training iteration #2\n",
      "nlms MSE = 0.002485.\n",
      "nlms pre-convergence training iteration #3\n",
      "nlms MSE = 0.002364.\n",
      "nlms pre-convergence training iteration #4\n",
      "nlms MSE = 0.002276.\n",
      "\n",
      "\n",
      "dd-lms - training stage #1\n",
      "dd-lms MSE = 0.001302.\n",
      "Results:\n",
      "\n",
      "SER: 1.56e-04\n",
      "BER: 2.78e-05\n",
      "SNR: 28.74 dB\n",
      "MI: 6.00 bits\n",
      "GMI: 6.00 bits\n",
      "channel 0\t fc : 193.1000 THz\n",
      "  mode #0\t power: 0.00 dBm\n",
      "channel 0\t power: 0.00 dBm\n",
      "\n",
      "total WDM dignal power: 0.00 dBm\n",
      "Demodulating channel #0 , fc: 193.1000 THz, λ: 1552.5244 nm\n",
      "\n",
      "Local oscillator P: 12.00 dBm, lw: 0.00 kHz, FO: 19000.00 MHz\n",
      "CSPR = 12.00 dB\n",
      "12500/12500 [==============================] - 16s 1ms/step\n",
      "\n",
      "\n",
      "nlms - training stage #0\n"
     ]
    },
    {
     "data": {
      "application/vnd.jupyter.widget-view+json": {
       "model_id": "62ce3898f6484e8591117f67d84c0840",
       "version_major": 2,
       "version_minor": 0
      },
      "text/plain": [
       "  0%|          | 0/5 [00:00<?, ?it/s]"
      ]
     },
     "metadata": {},
     "output_type": "display_data"
    },
    {
     "name": "stdout",
     "output_type": "stream",
     "text": [
      "nlms pre-convergence training iteration #0\n",
      "nlms MSE = 0.017362.\n",
      "nlms pre-convergence training iteration #1\n",
      "nlms MSE = 0.002782.\n",
      "nlms pre-convergence training iteration #2\n",
      "nlms MSE = 0.002738.\n",
      "nlms pre-convergence training iteration #3\n",
      "nlms MSE = 0.002699.\n",
      "nlms pre-convergence training iteration #4\n",
      "nlms MSE = 0.002664.\n",
      "\n",
      "\n",
      "dd-lms - training stage #1\n",
      "dd-lms MSE = 0.001563.\n",
      "Results:\n",
      "\n",
      "SER: 2.78e-04\n",
      "BER: 4.63e-05\n",
      "SNR: 27.99 dB\n",
      "MI: 6.00 bits\n",
      "GMI: 6.00 bits\n",
      "channel 0\t fc : 193.1000 THz\n",
      "  mode #0\t power: 0.00 dBm\n",
      "channel 0\t power: 0.00 dBm\n",
      "\n",
      "total WDM dignal power: 0.00 dBm\n",
      "Demodulating channel #0 , fc: 193.1000 THz, λ: 1552.5244 nm\n",
      "\n",
      "Local oscillator P: 12.00 dBm, lw: 0.00 kHz, FO: 19000.00 MHz\n",
      "CSPR = 12.00 dB\n",
      "12500/12500 [==============================] - 15s 1ms/step\n",
      "\n",
      "\n",
      "nlms - training stage #0\n"
     ]
    },
    {
     "data": {
      "application/vnd.jupyter.widget-view+json": {
       "model_id": "3b8a18f0253d493fbf2ed008dc92e292",
       "version_major": 2,
       "version_minor": 0
      },
      "text/plain": [
       "  0%|          | 0/5 [00:00<?, ?it/s]"
      ]
     },
     "metadata": {},
     "output_type": "display_data"
    },
    {
     "name": "stdout",
     "output_type": "stream",
     "text": [
      "nlms pre-convergence training iteration #0\n",
      "nlms MSE = 0.016859.\n",
      "nlms pre-convergence training iteration #1\n",
      "nlms MSE = 0.003495.\n",
      "nlms pre-convergence training iteration #2\n",
      "nlms MSE = 0.003271.\n",
      "nlms pre-convergence training iteration #3\n",
      "nlms MSE = 0.003093.\n",
      "nlms pre-convergence training iteration #4\n",
      "nlms MSE = 0.002948.\n",
      "\n",
      "\n",
      "dd-lms - training stage #1\n",
      "dd-lms MSE = 0.001704.\n",
      "Results:\n",
      "\n",
      "SER: 1.56e-04\n",
      "BER: 2.59e-05\n",
      "SNR: 27.43 dB\n",
      "MI: 6.00 bits\n",
      "GMI: 6.00 bits\n",
      "channel 0\t fc : 193.1000 THz\n",
      "  mode #0\t power: 0.00 dBm\n",
      "channel 0\t power: -0.00 dBm\n",
      "\n",
      "total WDM dignal power: -0.00 dBm\n",
      "Demodulating channel #0 , fc: 193.1000 THz, λ: 1552.5244 nm\n",
      "\n",
      "Local oscillator P: 12.00 dBm, lw: 0.00 kHz, FO: 19000.00 MHz\n",
      "CSPR = 12.00 dB\n",
      "12500/12500 [==============================] - 15s 1ms/step\n",
      "\n",
      "\n",
      "nlms - training stage #0\n"
     ]
    },
    {
     "data": {
      "application/vnd.jupyter.widget-view+json": {
       "model_id": "957733d6d8a348508cf41f812f1897ff",
       "version_major": 2,
       "version_minor": 0
      },
      "text/plain": [
       "  0%|          | 0/5 [00:00<?, ?it/s]"
      ]
     },
     "metadata": {},
     "output_type": "display_data"
    },
    {
     "name": "stdout",
     "output_type": "stream",
     "text": [
      "nlms pre-convergence training iteration #0\n",
      "nlms MSE = 0.018786.\n",
      "nlms pre-convergence training iteration #1\n",
      "nlms MSE = 0.005433.\n",
      "nlms pre-convergence training iteration #2\n",
      "nlms MSE = 0.004583.\n",
      "nlms pre-convergence training iteration #3\n",
      "nlms MSE = 0.003997.\n",
      "nlms pre-convergence training iteration #4\n",
      "nlms MSE = 0.003579.\n",
      "\n",
      "\n",
      "dd-lms - training stage #1\n",
      "dd-lms MSE = 0.002227.\n",
      "Results:\n",
      "\n",
      "SER: 4.89e-04\n",
      "BER: 8.15e-05\n",
      "SNR: 26.24 dB\n",
      "MI: 6.00 bits\n",
      "GMI: 6.00 bits\n",
      "channel 0\t fc : 193.1000 THz\n",
      "  mode #0\t power: 0.00 dBm\n",
      "channel 0\t power: 0.00 dBm\n",
      "\n",
      "total WDM dignal power: 0.00 dBm\n",
      "Demodulating channel #0 , fc: 193.1000 THz, λ: 1552.5244 nm\n",
      "\n",
      "Local oscillator P: 12.00 dBm, lw: 0.00 kHz, FO: 19000.00 MHz\n",
      "CSPR = 12.00 dB\n",
      "12500/12500 [==============================] - 16s 1ms/step\n",
      "\n",
      "\n",
      "nlms - training stage #0\n"
     ]
    },
    {
     "data": {
      "application/vnd.jupyter.widget-view+json": {
       "model_id": "60372a2d765c42378a0f17cc1b1c7c7e",
       "version_major": 2,
       "version_minor": 0
      },
      "text/plain": [
       "  0%|          | 0/5 [00:00<?, ?it/s]"
      ]
     },
     "metadata": {},
     "output_type": "display_data"
    },
    {
     "name": "stdout",
     "output_type": "stream",
     "text": [
      "nlms pre-convergence training iteration #0\n",
      "nlms MSE = 0.023492.\n",
      "nlms pre-convergence training iteration #1\n",
      "nlms MSE = 0.008394.\n",
      "nlms pre-convergence training iteration #2\n",
      "nlms MSE = 0.006712.\n",
      "nlms pre-convergence training iteration #3\n",
      "nlms MSE = 0.005678.\n",
      "nlms pre-convergence training iteration #4\n",
      "nlms MSE = 0.005017.\n",
      "\n",
      "\n",
      "dd-lms - training stage #1\n",
      "dd-lms MSE = 0.003342.\n",
      "Results:\n",
      "\n",
      "SER: 2.72e-03\n",
      "BER: 4.56e-04\n",
      "SNR: 24.53 dB\n",
      "MI: 5.98 bits\n",
      "GMI: 5.98 bits\n",
      "channel 0\t fc : 193.1000 THz\n",
      "  mode #0\t power: 0.00 dBm\n",
      "channel 0\t power: 0.00 dBm\n",
      "\n",
      "total WDM dignal power: 0.00 dBm\n",
      "Demodulating channel #0 , fc: 193.1000 THz, λ: 1552.5244 nm\n",
      "\n",
      "Local oscillator P: 12.00 dBm, lw: 0.00 kHz, FO: 19000.00 MHz\n",
      "CSPR = 12.00 dB\n",
      "12500/12500 [==============================] - 16s 1ms/step\n",
      "\n",
      "\n",
      "nlms - training stage #0\n"
     ]
    },
    {
     "data": {
      "application/vnd.jupyter.widget-view+json": {
       "model_id": "b6f07ae9f7cb4ba7b3f97a888e7415bb",
       "version_major": 2,
       "version_minor": 0
      },
      "text/plain": [
       "  0%|          | 0/5 [00:00<?, ?it/s]"
      ]
     },
     "metadata": {},
     "output_type": "display_data"
    },
    {
     "name": "stdout",
     "output_type": "stream",
     "text": [
      "nlms pre-convergence training iteration #0\n",
      "nlms MSE = 0.027699.\n",
      "nlms pre-convergence training iteration #1\n",
      "nlms MSE = 0.010785.\n",
      "nlms pre-convergence training iteration #2\n",
      "nlms MSE = 0.008184.\n",
      "nlms pre-convergence training iteration #3\n",
      "nlms MSE = 0.006762.\n",
      "nlms pre-convergence training iteration #4\n",
      "nlms MSE = 0.005942.\n",
      "\n",
      "\n",
      "dd-lms - training stage #1\n",
      "dd-lms MSE = 0.004121.\n",
      "Results:\n",
      "\n",
      "SER: 5.22e-03\n",
      "BER: 8.76e-04\n",
      "SNR: 23.64 dB\n",
      "MI: 5.97 bits\n",
      "GMI: 5.97 bits\n",
      "channel 0\t fc : 193.1000 THz\n",
      "  mode #0\t power: 0.00 dBm\n",
      "channel 0\t power: -0.00 dBm\n",
      "\n",
      "total WDM dignal power: -0.00 dBm\n",
      "Demodulating channel #0 , fc: 193.1000 THz, λ: 1552.5244 nm\n",
      "\n",
      "Local oscillator P: 12.00 dBm, lw: 0.00 kHz, FO: 19000.00 MHz\n",
      "CSPR = 12.00 dB\n",
      "12500/12500 [==============================] - 15s 1ms/step\n",
      "\n",
      "\n",
      "nlms - training stage #0\n"
     ]
    },
    {
     "data": {
      "application/vnd.jupyter.widget-view+json": {
       "model_id": "83aa08fbe43a4db6bb0040ea52247544",
       "version_major": 2,
       "version_minor": 0
      },
      "text/plain": [
       "  0%|          | 0/5 [00:00<?, ?it/s]"
      ]
     },
     "metadata": {},
     "output_type": "display_data"
    },
    {
     "name": "stdout",
     "output_type": "stream",
     "text": [
      "nlms pre-convergence training iteration #0\n",
      "nlms MSE = 0.032606.\n",
      "nlms pre-convergence training iteration #1\n",
      "nlms MSE = 0.017574.\n",
      "nlms pre-convergence training iteration #2\n",
      "nlms MSE = 0.015055.\n",
      "nlms pre-convergence training iteration #3\n",
      "nlms MSE = 0.013540.\n",
      "nlms pre-convergence training iteration #4\n",
      "nlms MSE = 0.012589.\n",
      "\n",
      "\n",
      "dd-lms - training stage #1\n",
      "dd-lms MSE = 0.009068.\n",
      "Results:\n",
      "\n",
      "SER: 7.52e-02\n",
      "BER: 1.30e-02\n",
      "SNR: 19.60 dB\n",
      "MI: 5.67 bits\n",
      "GMI: 5.67 bits\n",
      "channel 0\t fc : 193.1000 THz\n",
      "  mode #0\t power: 0.00 dBm\n",
      "channel 0\t power: -0.00 dBm\n",
      "\n",
      "total WDM dignal power: -0.00 dBm\n",
      "Demodulating channel #0 , fc: 193.1000 THz, λ: 1552.5244 nm\n",
      "\n",
      "Local oscillator P: 12.00 dBm, lw: 0.00 kHz, FO: 19000.00 MHz\n",
      "CSPR = 12.00 dB\n",
      "12500/12500 [==============================] - 15s 1ms/step\n",
      "\n",
      "\n",
      "nlms - training stage #0\n"
     ]
    },
    {
     "data": {
      "application/vnd.jupyter.widget-view+json": {
       "model_id": "cb850be5a7fb4ec5b61af6ff784f3d16",
       "version_major": 2,
       "version_minor": 0
      },
      "text/plain": [
       "  0%|          | 0/5 [00:00<?, ?it/s]"
      ]
     },
     "metadata": {},
     "output_type": "display_data"
    },
    {
     "name": "stdout",
     "output_type": "stream",
     "text": [
      "nlms pre-convergence training iteration #0\n",
      "nlms MSE = 0.036503.\n",
      "nlms pre-convergence training iteration #1\n",
      "nlms MSE = 0.016606.\n",
      "nlms pre-convergence training iteration #2\n",
      "nlms MSE = 0.012434.\n",
      "nlms pre-convergence training iteration #3\n",
      "nlms MSE = 0.010354.\n",
      "nlms pre-convergence training iteration #4\n",
      "nlms MSE = 0.009184.\n",
      "\n",
      "\n",
      "dd-lms - training stage #1\n",
      "dd-lms MSE = 0.006148.\n",
      "Results:\n",
      "\n",
      "SER: 2.25e-02\n",
      "BER: 3.80e-03\n",
      "SNR: 21.74 dB\n",
      "MI: 5.91 bits\n",
      "GMI: 5.90 bits\n",
      "channel 0\t fc : 193.1000 THz\n",
      "  mode #0\t power: 0.00 dBm\n",
      "channel 0\t power: 0.00 dBm\n",
      "\n",
      "total WDM dignal power: 0.00 dBm\n",
      "Demodulating channel #0 , fc: 193.1000 THz, λ: 1552.5244 nm\n",
      "\n",
      "Local oscillator P: 12.00 dBm, lw: 0.00 kHz, FO: 20000.00 MHz\n",
      "CSPR = 12.00 dB\n",
      "12500/12500 [==============================] - 15s 1ms/step\n",
      "\n",
      "\n",
      "nlms - training stage #0\n"
     ]
    },
    {
     "data": {
      "application/vnd.jupyter.widget-view+json": {
       "model_id": "56044588ed7e447ca56999445efc0a99",
       "version_major": 2,
       "version_minor": 0
      },
      "text/plain": [
       "  0%|          | 0/5 [00:00<?, ?it/s]"
      ]
     },
     "metadata": {},
     "output_type": "display_data"
    },
    {
     "name": "stdout",
     "output_type": "stream",
     "text": [
      "nlms pre-convergence training iteration #0\n",
      "nlms MSE = 0.021805.\n",
      "nlms pre-convergence training iteration #1\n",
      "nlms MSE = 0.002203.\n",
      "nlms pre-convergence training iteration #2\n",
      "nlms MSE = 0.001797.\n",
      "nlms pre-convergence training iteration #3\n",
      "nlms MSE = 0.001565.\n",
      "nlms pre-convergence training iteration #4\n",
      "nlms MSE = 0.001411.\n",
      "\n",
      "\n",
      "dd-lms - training stage #1\n",
      "dd-lms MSE = 0.000953.\n",
      "Results:\n",
      "\n",
      "SER: 3.89e-04\n",
      "BER: 6.67e-05\n",
      "SNR: 29.91 dB\n",
      "MI: 5.99 bits\n",
      "GMI: 5.99 bits\n",
      "channel 0\t fc : 193.1000 THz\n",
      "  mode #0\t power: 0.00 dBm\n",
      "channel 0\t power: 0.00 dBm\n",
      "\n",
      "total WDM dignal power: 0.00 dBm\n",
      "Demodulating channel #0 , fc: 193.1000 THz, λ: 1552.5244 nm\n",
      "\n",
      "Local oscillator P: 12.00 dBm, lw: 0.00 kHz, FO: 20000.00 MHz\n",
      "CSPR = 12.00 dB\n",
      "12500/12500 [==============================] - 16s 1ms/step\n",
      "\n",
      "\n",
      "nlms - training stage #0\n"
     ]
    },
    {
     "data": {
      "application/vnd.jupyter.widget-view+json": {
       "model_id": "22163c96d5c54724b99f97f201f9af6e",
       "version_major": 2,
       "version_minor": 0
      },
      "text/plain": [
       "  0%|          | 0/5 [00:00<?, ?it/s]"
      ]
     },
     "metadata": {},
     "output_type": "display_data"
    },
    {
     "name": "stdout",
     "output_type": "stream",
     "text": [
      "nlms pre-convergence training iteration #0\n",
      "nlms MSE = 0.020212.\n",
      "nlms pre-convergence training iteration #1\n",
      "nlms MSE = 0.002311.\n",
      "nlms pre-convergence training iteration #2\n",
      "nlms MSE = 0.001847.\n",
      "nlms pre-convergence training iteration #3\n",
      "nlms MSE = 0.001599.\n",
      "nlms pre-convergence training iteration #4\n",
      "nlms MSE = 0.001446.\n",
      "\n",
      "\n",
      "dd-lms - training stage #1\n",
      "dd-lms MSE = 0.000903.\n",
      "Results:\n",
      "\n",
      "SER: 1.00e-04\n",
      "BER: 1.85e-05\n",
      "SNR: 30.24 dB\n",
      "MI: 6.00 bits\n",
      "GMI: 6.00 bits\n",
      "channel 0\t fc : 193.1000 THz\n",
      "  mode #0\t power: 0.00 dBm\n",
      "channel 0\t power: -0.00 dBm\n",
      "\n",
      "total WDM dignal power: -0.00 dBm\n",
      "Demodulating channel #0 , fc: 193.1000 THz, λ: 1552.5244 nm\n",
      "\n",
      "Local oscillator P: 12.00 dBm, lw: 0.00 kHz, FO: 20000.00 MHz\n",
      "CSPR = 12.00 dB\n",
      "12500/12500 [==============================] - 16s 1ms/step\n",
      "\n",
      "\n",
      "nlms - training stage #0\n"
     ]
    },
    {
     "data": {
      "application/vnd.jupyter.widget-view+json": {
       "model_id": "a2925f0ee9b14946b0f27762a0d4a7e8",
       "version_major": 2,
       "version_minor": 0
      },
      "text/plain": [
       "  0%|          | 0/5 [00:00<?, ?it/s]"
      ]
     },
     "metadata": {},
     "output_type": "display_data"
    },
    {
     "name": "stdout",
     "output_type": "stream",
     "text": [
      "nlms pre-convergence training iteration #0\n",
      "nlms MSE = 0.016844.\n",
      "nlms pre-convergence training iteration #1\n",
      "nlms MSE = 0.001817.\n",
      "nlms pre-convergence training iteration #2\n",
      "nlms MSE = 0.001658.\n",
      "nlms pre-convergence training iteration #3\n",
      "nlms MSE = 0.001545.\n",
      "nlms pre-convergence training iteration #4\n",
      "nlms MSE = 0.001463.\n",
      "\n",
      "\n",
      "dd-lms - training stage #1\n",
      "dd-lms MSE = 0.001013.\n",
      "Results:\n",
      "\n",
      "SER: 1.33e-04\n",
      "BER: 2.22e-05\n",
      "SNR: 29.79 dB\n",
      "MI: 6.00 bits\n",
      "GMI: 6.00 bits\n",
      "channel 0\t fc : 193.1000 THz\n",
      "  mode #0\t power: 0.00 dBm\n",
      "channel 0\t power: 0.00 dBm\n",
      "\n",
      "total WDM dignal power: 0.00 dBm\n",
      "Demodulating channel #0 , fc: 193.1000 THz, λ: 1552.5244 nm\n",
      "\n",
      "Local oscillator P: 12.00 dBm, lw: 0.00 kHz, FO: 20000.00 MHz\n",
      "CSPR = 12.00 dB\n",
      "12500/12500 [==============================] - 15s 1ms/step\n",
      "\n",
      "\n",
      "nlms - training stage #0\n"
     ]
    },
    {
     "data": {
      "application/vnd.jupyter.widget-view+json": {
       "model_id": "52218c5b8f9b46bc8cd0d6d2dc5e6361",
       "version_major": 2,
       "version_minor": 0
      },
      "text/plain": [
       "  0%|          | 0/5 [00:00<?, ?it/s]"
      ]
     },
     "metadata": {},
     "output_type": "display_data"
    },
    {
     "name": "stdout",
     "output_type": "stream",
     "text": [
      "nlms pre-convergence training iteration #0\n",
      "nlms MSE = 0.015439.\n",
      "nlms pre-convergence training iteration #1\n",
      "nlms MSE = 0.001784.\n",
      "nlms pre-convergence training iteration #2\n",
      "nlms MSE = 0.001760.\n",
      "nlms pre-convergence training iteration #3\n",
      "nlms MSE = 0.001739.\n",
      "nlms pre-convergence training iteration #4\n",
      "nlms MSE = 0.001721.\n",
      "\n",
      "\n",
      "dd-lms - training stage #1\n",
      "dd-lms MSE = 0.000879.\n",
      "Results:\n",
      "\n",
      "SER: 4.44e-05\n",
      "BER: 7.41e-06\n",
      "SNR: 30.51 dB\n",
      "MI: 6.00 bits\n",
      "GMI: 6.00 bits\n",
      "channel 0\t fc : 193.1000 THz\n",
      "  mode #0\t power: 0.00 dBm\n",
      "channel 0\t power: 0.00 dBm\n",
      "\n",
      "total WDM dignal power: 0.00 dBm\n",
      "Demodulating channel #0 , fc: 193.1000 THz, λ: 1552.5244 nm\n",
      "\n",
      "Local oscillator P: 12.00 dBm, lw: 0.00 kHz, FO: 20000.00 MHz\n",
      "CSPR = 12.00 dB\n",
      "12500/12500 [==============================] - 15s 1ms/step\n",
      "\n",
      "\n",
      "nlms - training stage #0\n"
     ]
    },
    {
     "data": {
      "application/vnd.jupyter.widget-view+json": {
       "model_id": "61ddc58971de40ca86515c475a86bb86",
       "version_major": 2,
       "version_minor": 0
      },
      "text/plain": [
       "  0%|          | 0/5 [00:00<?, ?it/s]"
      ]
     },
     "metadata": {},
     "output_type": "display_data"
    },
    {
     "name": "stdout",
     "output_type": "stream",
     "text": [
      "nlms pre-convergence training iteration #0\n",
      "nlms MSE = 0.015252.\n",
      "nlms pre-convergence training iteration #1\n",
      "nlms MSE = 0.002306.\n",
      "nlms pre-convergence training iteration #2\n",
      "nlms MSE = 0.002274.\n",
      "nlms pre-convergence training iteration #3\n",
      "nlms MSE = 0.002246.\n",
      "nlms pre-convergence training iteration #4\n",
      "nlms MSE = 0.002221.\n",
      "\n",
      "\n",
      "dd-lms - training stage #1\n",
      "dd-lms MSE = 0.001500.\n",
      "Results:\n",
      "\n",
      "SER: 2.11e-04\n",
      "BER: 3.52e-05\n",
      "SNR: 28.16 dB\n",
      "MI: 6.00 bits\n",
      "GMI: 6.00 bits\n",
      "channel 0\t fc : 193.1000 THz\n",
      "  mode #0\t power: 0.00 dBm\n",
      "channel 0\t power: -0.00 dBm\n",
      "\n",
      "total WDM dignal power: -0.00 dBm\n",
      "Demodulating channel #0 , fc: 193.1000 THz, λ: 1552.5244 nm\n",
      "\n",
      "Local oscillator P: 12.00 dBm, lw: 0.00 kHz, FO: 20000.00 MHz\n",
      "CSPR = 12.00 dB\n",
      "12500/12500 [==============================] - 16s 1ms/step\n",
      "\n",
      "\n",
      "nlms - training stage #0\n"
     ]
    },
    {
     "data": {
      "application/vnd.jupyter.widget-view+json": {
       "model_id": "12706d52d22c4a46855edef5e11c8652",
       "version_major": 2,
       "version_minor": 0
      },
      "text/plain": [
       "  0%|          | 0/5 [00:00<?, ?it/s]"
      ]
     },
     "metadata": {},
     "output_type": "display_data"
    },
    {
     "name": "stdout",
     "output_type": "stream",
     "text": [
      "nlms pre-convergence training iteration #0\n",
      "nlms MSE = 0.016988.\n",
      "nlms pre-convergence training iteration #1\n",
      "nlms MSE = 0.003997.\n",
      "nlms pre-convergence training iteration #2\n",
      "nlms MSE = 0.003713.\n",
      "nlms pre-convergence training iteration #3\n",
      "nlms MSE = 0.003485.\n",
      "nlms pre-convergence training iteration #4\n",
      "nlms MSE = 0.003298.\n",
      "\n",
      "\n",
      "dd-lms - training stage #1\n",
      "dd-lms MSE = 0.001962.\n",
      "Results:\n",
      "\n",
      "SER: 4.11e-04\n",
      "BER: 6.85e-05\n",
      "SNR: 26.81 dB\n",
      "MI: 6.00 bits\n",
      "GMI: 6.00 bits\n",
      "channel 0\t fc : 193.1000 THz\n",
      "  mode #0\t power: 0.00 dBm\n",
      "channel 0\t power: 0.00 dBm\n",
      "\n",
      "total WDM dignal power: 0.00 dBm\n",
      "Demodulating channel #0 , fc: 193.1000 THz, λ: 1552.5244 nm\n",
      "\n",
      "Local oscillator P: 12.00 dBm, lw: 0.00 kHz, FO: 20000.00 MHz\n",
      "CSPR = 12.00 dB\n",
      "12500/12500 [==============================] - 16s 1ms/step\n",
      "\n",
      "\n",
      "nlms - training stage #0\n"
     ]
    },
    {
     "data": {
      "application/vnd.jupyter.widget-view+json": {
       "model_id": "79fe365451114e1fa3db37f5a6ffa42b",
       "version_major": 2,
       "version_minor": 0
      },
      "text/plain": [
       "  0%|          | 0/5 [00:00<?, ?it/s]"
      ]
     },
     "metadata": {},
     "output_type": "display_data"
    },
    {
     "name": "stdout",
     "output_type": "stream",
     "text": [
      "nlms pre-convergence training iteration #0\n",
      "nlms MSE = 0.018510.\n",
      "nlms pre-convergence training iteration #1\n",
      "nlms MSE = 0.005497.\n",
      "nlms pre-convergence training iteration #2\n",
      "nlms MSE = 0.004732.\n",
      "nlms pre-convergence training iteration #3\n",
      "nlms MSE = 0.004187.\n",
      "nlms pre-convergence training iteration #4\n",
      "nlms MSE = 0.003789.\n",
      "\n",
      "\n",
      "dd-lms - training stage #1\n",
      "dd-lms MSE = 0.002347.\n",
      "Results:\n",
      "\n",
      "SER: 7.89e-04\n",
      "BER: 1.31e-04\n",
      "SNR: 26.01 dB\n",
      "MI: 5.99 bits\n",
      "GMI: 5.99 bits\n",
      "channel 0\t fc : 193.1000 THz\n",
      "  mode #0\t power: 0.00 dBm\n",
      "channel 0\t power: -0.00 dBm\n",
      "\n",
      "total WDM dignal power: -0.00 dBm\n",
      "Demodulating channel #0 , fc: 193.1000 THz, λ: 1552.5244 nm\n",
      "\n",
      "Local oscillator P: 12.00 dBm, lw: 0.00 kHz, FO: 20000.00 MHz\n",
      "CSPR = 12.00 dB\n",
      "12500/12500 [==============================] - 16s 1ms/step\n",
      "\n",
      "\n",
      "nlms - training stage #0\n"
     ]
    },
    {
     "data": {
      "application/vnd.jupyter.widget-view+json": {
       "model_id": "6768008345ed4c0dab8b26f8fa03a6a1",
       "version_major": 2,
       "version_minor": 0
      },
      "text/plain": [
       "  0%|          | 0/5 [00:00<?, ?it/s]"
      ]
     },
     "metadata": {},
     "output_type": "display_data"
    },
    {
     "name": "stdout",
     "output_type": "stream",
     "text": [
      "nlms pre-convergence training iteration #0\n",
      "nlms MSE = 0.020315.\n",
      "nlms pre-convergence training iteration #1\n",
      "nlms MSE = 0.007209.\n",
      "nlms pre-convergence training iteration #2\n",
      "nlms MSE = 0.005790.\n",
      "nlms pre-convergence training iteration #3\n",
      "nlms MSE = 0.004897.\n",
      "nlms pre-convergence training iteration #4\n",
      "nlms MSE = 0.004318.\n",
      "\n",
      "\n",
      "dd-lms - training stage #1\n",
      "dd-lms MSE = 0.002804.\n",
      "Results:\n",
      "\n",
      "SER: 1.21e-03\n",
      "BER: 2.06e-04\n",
      "SNR: 25.29 dB\n",
      "MI: 5.99 bits\n",
      "GMI: 5.99 bits\n",
      "channel 0\t fc : 193.1000 THz\n",
      "  mode #0\t power: 0.00 dBm\n",
      "channel 0\t power: -0.00 dBm\n",
      "\n",
      "total WDM dignal power: -0.00 dBm\n",
      "Demodulating channel #0 , fc: 193.1000 THz, λ: 1552.5244 nm\n",
      "\n",
      "Local oscillator P: 12.00 dBm, lw: 0.00 kHz, FO: 20000.00 MHz\n",
      "CSPR = 12.00 dB\n",
      "12500/12500 [==============================] - 15s 1ms/step\n",
      "\n",
      "\n",
      "nlms - training stage #0\n"
     ]
    },
    {
     "data": {
      "application/vnd.jupyter.widget-view+json": {
       "model_id": "92a56f3abe634db4b5bce07929835754",
       "version_major": 2,
       "version_minor": 0
      },
      "text/plain": [
       "  0%|          | 0/5 [00:00<?, ?it/s]"
      ]
     },
     "metadata": {},
     "output_type": "display_data"
    },
    {
     "name": "stdout",
     "output_type": "stream",
     "text": [
      "nlms pre-convergence training iteration #0\n",
      "nlms MSE = 0.024725.\n",
      "nlms pre-convergence training iteration #1\n",
      "nlms MSE = 0.010039.\n",
      "nlms pre-convergence training iteration #2\n",
      "nlms MSE = 0.007775.\n",
      "nlms pre-convergence training iteration #3\n",
      "nlms MSE = 0.006480.\n",
      "nlms pre-convergence training iteration #4\n",
      "nlms MSE = 0.005707.\n",
      "\n",
      "\n",
      "dd-lms - training stage #1\n",
      "dd-lms MSE = 0.003988.\n",
      "Results:\n",
      "\n",
      "SER: 5.26e-03\n",
      "BER: 8.78e-04\n",
      "SNR: 23.76 dB\n",
      "MI: 5.97 bits\n",
      "GMI: 5.97 bits\n",
      "channel 0\t fc : 193.1000 THz\n",
      "  mode #0\t power: 0.00 dBm\n",
      "channel 0\t power: 0.00 dBm\n",
      "\n",
      "total WDM dignal power: 0.00 dBm\n",
      "Demodulating channel #0 , fc: 193.1000 THz, λ: 1552.5244 nm\n",
      "\n",
      "Local oscillator P: 12.00 dBm, lw: 0.00 kHz, FO: 20000.00 MHz\n",
      "CSPR = 12.00 dB\n",
      "12500/12500 [==============================] - 16s 1ms/step\n",
      "\n",
      "\n",
      "nlms - training stage #0\n"
     ]
    },
    {
     "data": {
      "application/vnd.jupyter.widget-view+json": {
       "model_id": "a2d49470d79a4fa6b12bbe7465a32188",
       "version_major": 2,
       "version_minor": 0
      },
      "text/plain": [
       "  0%|          | 0/5 [00:00<?, ?it/s]"
      ]
     },
     "metadata": {},
     "output_type": "display_data"
    },
    {
     "name": "stdout",
     "output_type": "stream",
     "text": [
      "nlms pre-convergence training iteration #0\n",
      "nlms MSE = 0.029314.\n",
      "nlms pre-convergence training iteration #1\n",
      "nlms MSE = 0.013025.\n",
      "nlms pre-convergence training iteration #2\n",
      "nlms MSE = 0.009937.\n",
      "nlms pre-convergence training iteration #3\n",
      "nlms MSE = 0.008236.\n",
      "nlms pre-convergence training iteration #4\n",
      "nlms MSE = 0.007239.\n",
      "\n",
      "\n",
      "dd-lms - training stage #1\n",
      "dd-lms MSE = 0.004839.\n",
      "Results:\n",
      "\n",
      "SER: 1.06e-02\n",
      "BER: 1.79e-03\n",
      "SNR: 22.85 dB\n",
      "MI: 5.95 bits\n",
      "GMI: 5.95 bits\n",
      "channel 0\t fc : 193.1000 THz\n",
      "  mode #0\t power: 0.00 dBm\n",
      "channel 0\t power: 0.00 dBm\n",
      "\n",
      "total WDM dignal power: 0.00 dBm\n",
      "Demodulating channel #0 , fc: 193.1000 THz, λ: 1552.5244 nm\n",
      "\n",
      "Local oscillator P: 12.00 dBm, lw: 0.00 kHz, FO: 21000.00 MHz\n",
      "CSPR = 12.00 dB\n",
      "12500/12500 [==============================] - 16s 1ms/step\n",
      "\n",
      "\n",
      "nlms - training stage #0\n"
     ]
    },
    {
     "data": {
      "application/vnd.jupyter.widget-view+json": {
       "model_id": "06155fac01034c76b433cf081777a2f6",
       "version_major": 2,
       "version_minor": 0
      },
      "text/plain": [
       "  0%|          | 0/5 [00:00<?, ?it/s]"
      ]
     },
     "metadata": {},
     "output_type": "display_data"
    },
    {
     "name": "stdout",
     "output_type": "stream",
     "text": [
      "nlms pre-convergence training iteration #0\n",
      "nlms MSE = 0.021616.\n",
      "nlms pre-convergence training iteration #1\n",
      "nlms MSE = 0.002185.\n",
      "nlms pre-convergence training iteration #2\n",
      "nlms MSE = 0.001780.\n",
      "nlms pre-convergence training iteration #3\n",
      "nlms MSE = 0.001547.\n",
      "nlms pre-convergence training iteration #4\n",
      "nlms MSE = 0.001394.\n",
      "\n",
      "\n",
      "dd-lms - training stage #1\n",
      "dd-lms MSE = 0.000950.\n",
      "Results:\n",
      "\n",
      "SER: 1.33e-04\n",
      "BER: 2.22e-05\n",
      "SNR: 29.99 dB\n",
      "MI: 6.00 bits\n",
      "GMI: 6.00 bits\n",
      "channel 0\t fc : 193.1000 THz\n",
      "  mode #0\t power: 0.00 dBm\n",
      "channel 0\t power: -0.00 dBm\n",
      "\n",
      "total WDM dignal power: -0.00 dBm\n",
      "Demodulating channel #0 , fc: 193.1000 THz, λ: 1552.5244 nm\n",
      "\n",
      "Local oscillator P: 12.00 dBm, lw: 0.00 kHz, FO: 21000.00 MHz\n",
      "CSPR = 12.00 dB\n",
      "12500/12500 [==============================] - 15s 1ms/step\n",
      "\n",
      "\n",
      "nlms - training stage #0\n"
     ]
    },
    {
     "data": {
      "application/vnd.jupyter.widget-view+json": {
       "model_id": "194a5e2f277944bcb726b32fefe6d88d",
       "version_major": 2,
       "version_minor": 0
      },
      "text/plain": [
       "  0%|          | 0/5 [00:00<?, ?it/s]"
      ]
     },
     "metadata": {},
     "output_type": "display_data"
    },
    {
     "name": "stdout",
     "output_type": "stream",
     "text": [
      "nlms pre-convergence training iteration #0\n",
      "nlms MSE = 0.019785.\n",
      "nlms pre-convergence training iteration #1\n",
      "nlms MSE = 0.001958.\n",
      "nlms pre-convergence training iteration #2\n",
      "nlms MSE = 0.001476.\n",
      "nlms pre-convergence training iteration #3\n",
      "nlms MSE = 0.001213.\n",
      "nlms pre-convergence training iteration #4\n",
      "nlms MSE = 0.001049.\n",
      "\n",
      "\n",
      "dd-lms - training stage #1\n",
      "dd-lms MSE = 0.000682.\n",
      "Results:\n",
      "\n",
      "SER: 5.56e-05\n",
      "BER: 9.26e-06\n",
      "SNR: 31.37 dB\n",
      "MI: 6.00 bits\n",
      "GMI: 6.00 bits\n",
      "channel 0\t fc : 193.1000 THz\n",
      "  mode #0\t power: 0.00 dBm\n",
      "channel 0\t power: 0.00 dBm\n",
      "\n",
      "total WDM dignal power: 0.00 dBm\n",
      "Demodulating channel #0 , fc: 193.1000 THz, λ: 1552.5244 nm\n",
      "\n",
      "Local oscillator P: 12.00 dBm, lw: 0.00 kHz, FO: 21000.00 MHz\n",
      "CSPR = 12.00 dB\n",
      "12500/12500 [==============================] - 16s 1ms/step\n",
      "\n",
      "\n",
      "nlms - training stage #0\n"
     ]
    },
    {
     "data": {
      "application/vnd.jupyter.widget-view+json": {
       "model_id": "c61074793bfe4b56a162e1500538a5b9",
       "version_major": 2,
       "version_minor": 0
      },
      "text/plain": [
       "  0%|          | 0/5 [00:00<?, ?it/s]"
      ]
     },
     "metadata": {},
     "output_type": "display_data"
    },
    {
     "name": "stdout",
     "output_type": "stream",
     "text": [
      "nlms pre-convergence training iteration #0\n",
      "nlms MSE = 0.016736.\n",
      "nlms pre-convergence training iteration #1\n",
      "nlms MSE = 0.001618.\n",
      "nlms pre-convergence training iteration #2\n",
      "nlms MSE = 0.001445.\n",
      "nlms pre-convergence training iteration #3\n",
      "nlms MSE = 0.001321.\n",
      "nlms pre-convergence training iteration #4\n",
      "nlms MSE = 0.001229.\n",
      "\n",
      "\n",
      "dd-lms - training stage #1\n",
      "dd-lms MSE = 0.000746.\n",
      "Results:\n",
      "\n",
      "SER: 1.11e-05\n",
      "BER: 1.85e-06\n",
      "SNR: 31.04 dB\n",
      "MI: 6.01 bits\n",
      "GMI: 6.00 bits\n",
      "channel 0\t fc : 193.1000 THz\n",
      "  mode #0\t power: 0.00 dBm\n",
      "channel 0\t power: -0.00 dBm\n",
      "\n",
      "total WDM dignal power: -0.00 dBm\n",
      "Demodulating channel #0 , fc: 193.1000 THz, λ: 1552.5244 nm\n",
      "\n",
      "Local oscillator P: 12.00 dBm, lw: 0.00 kHz, FO: 21000.00 MHz\n",
      "CSPR = 12.00 dB\n",
      "12500/12500 [==============================] - 16s 1ms/step\n",
      "\n",
      "\n",
      "nlms - training stage #0\n"
     ]
    },
    {
     "data": {
      "application/vnd.jupyter.widget-view+json": {
       "model_id": "1f5f5b292c3a4564b8507149a8e19a49",
       "version_major": 2,
       "version_minor": 0
      },
      "text/plain": [
       "  0%|          | 0/5 [00:00<?, ?it/s]"
      ]
     },
     "metadata": {},
     "output_type": "display_data"
    },
    {
     "name": "stdout",
     "output_type": "stream",
     "text": [
      "nlms pre-convergence training iteration #0\n",
      "nlms MSE = 0.015363.\n",
      "nlms pre-convergence training iteration #1\n",
      "nlms MSE = 0.001596.\n",
      "nlms pre-convergence training iteration #2\n",
      "nlms MSE = 0.001576.\n",
      "nlms pre-convergence training iteration #3\n",
      "nlms MSE = 0.001558.\n",
      "nlms pre-convergence training iteration #4\n",
      "nlms MSE = 0.001542.\n",
      "\n",
      "\n",
      "dd-lms - training stage #1\n",
      "dd-lms MSE = 0.000828.\n",
      "Results:\n",
      "\n",
      "SER: 1.11e-05\n",
      "BER: 1.85e-06\n",
      "SNR: 30.74 dB\n",
      "MI: 6.00 bits\n",
      "GMI: 6.00 bits\n",
      "channel 0\t fc : 193.1000 THz\n",
      "  mode #0\t power: 0.00 dBm\n",
      "channel 0\t power: 0.00 dBm\n",
      "\n",
      "total WDM dignal power: 0.00 dBm\n",
      "Demodulating channel #0 , fc: 193.1000 THz, λ: 1552.5244 nm\n",
      "\n",
      "Local oscillator P: 12.00 dBm, lw: 0.00 kHz, FO: 21000.00 MHz\n",
      "CSPR = 12.00 dB\n",
      "12500/12500 [==============================] - 16s 1ms/step\n",
      "\n",
      "\n",
      "nlms - training stage #0\n"
     ]
    },
    {
     "data": {
      "application/vnd.jupyter.widget-view+json": {
       "model_id": "dab349da8d514b2f93e4122b3d0de731",
       "version_major": 2,
       "version_minor": 0
      },
      "text/plain": [
       "  0%|          | 0/5 [00:00<?, ?it/s]"
      ]
     },
     "metadata": {},
     "output_type": "display_data"
    },
    {
     "name": "stdout",
     "output_type": "stream",
     "text": [
      "nlms pre-convergence training iteration #0\n",
      "nlms MSE = 0.014122.\n",
      "nlms pre-convergence training iteration #1\n",
      "nlms MSE = 0.001593.\n",
      "nlms pre-convergence training iteration #2\n",
      "nlms MSE = 0.001585.\n",
      "nlms pre-convergence training iteration #3\n",
      "nlms MSE = 0.001580.\n",
      "nlms pre-convergence training iteration #4\n",
      "nlms MSE = 0.001574.\n",
      "\n",
      "\n",
      "dd-lms - training stage #1\n",
      "dd-lms MSE = 0.000973.\n",
      "Results:\n",
      "\n",
      "SER: 7.78e-05\n",
      "BER: 1.30e-05\n",
      "SNR: 30.05 dB\n",
      "MI: 6.00 bits\n",
      "GMI: 6.00 bits\n",
      "channel 0\t fc : 193.1000 THz\n",
      "  mode #0\t power: 0.00 dBm\n",
      "channel 0\t power: -0.00 dBm\n",
      "\n",
      "total WDM dignal power: -0.00 dBm\n",
      "Demodulating channel #0 , fc: 193.1000 THz, λ: 1552.5244 nm\n",
      "\n",
      "Local oscillator P: 12.00 dBm, lw: 0.00 kHz, FO: 21000.00 MHz\n",
      "CSPR = 12.00 dB\n",
      "12500/12500 [==============================] - 15s 1ms/step\n",
      "\n",
      "\n",
      "nlms - training stage #0\n"
     ]
    },
    {
     "data": {
      "application/vnd.jupyter.widget-view+json": {
       "model_id": "00ea1958429e44f29eead3d53fa52559",
       "version_major": 2,
       "version_minor": 0
      },
      "text/plain": [
       "  0%|          | 0/5 [00:00<?, ?it/s]"
      ]
     },
     "metadata": {},
     "output_type": "display_data"
    },
    {
     "name": "stdout",
     "output_type": "stream",
     "text": [
      "nlms pre-convergence training iteration #0\n",
      "nlms MSE = 0.014353.\n",
      "nlms pre-convergence training iteration #1\n",
      "nlms MSE = 0.002301.\n",
      "nlms pre-convergence training iteration #2\n",
      "nlms MSE = 0.002258.\n",
      "nlms pre-convergence training iteration #3\n",
      "nlms MSE = 0.002219.\n",
      "nlms pre-convergence training iteration #4\n",
      "nlms MSE = 0.002183.\n",
      "\n",
      "\n",
      "dd-lms - training stage #1\n",
      "dd-lms MSE = 0.001509.\n",
      "Results:\n",
      "\n",
      "SER: 2.67e-04\n",
      "BER: 4.44e-05\n",
      "SNR: 28.11 dB\n",
      "MI: 6.00 bits\n",
      "GMI: 6.00 bits\n",
      "channel 0\t fc : 193.1000 THz\n",
      "  mode #0\t power: 0.00 dBm\n",
      "channel 0\t power: -0.00 dBm\n",
      "\n",
      "total WDM dignal power: -0.00 dBm\n",
      "Demodulating channel #0 , fc: 193.1000 THz, λ: 1552.5244 nm\n",
      "\n",
      "Local oscillator P: 12.00 dBm, lw: 0.00 kHz, FO: 21000.00 MHz\n",
      "CSPR = 12.00 dB\n",
      "12500/12500 [==============================] - 16s 1ms/step\n",
      "\n",
      "\n",
      "nlms - training stage #0\n"
     ]
    },
    {
     "data": {
      "application/vnd.jupyter.widget-view+json": {
       "model_id": "eee9983f4da146d2a2c2798854bfc87c",
       "version_major": 2,
       "version_minor": 0
      },
      "text/plain": [
       "  0%|          | 0/5 [00:00<?, ?it/s]"
      ]
     },
     "metadata": {},
     "output_type": "display_data"
    },
    {
     "name": "stdout",
     "output_type": "stream",
     "text": [
      "nlms pre-convergence training iteration #0\n",
      "nlms MSE = 0.014871.\n",
      "nlms pre-convergence training iteration #1\n",
      "nlms MSE = 0.003125.\n",
      "nlms pre-convergence training iteration #2\n",
      "nlms MSE = 0.002919.\n",
      "nlms pre-convergence training iteration #3\n",
      "nlms MSE = 0.002747.\n",
      "nlms pre-convergence training iteration #4\n",
      "nlms MSE = 0.002602.\n",
      "\n",
      "\n",
      "dd-lms - training stage #1\n",
      "dd-lms MSE = 0.001703.\n",
      "Results:\n",
      "\n",
      "SER: 3.78e-04\n",
      "BER: 6.67e-05\n",
      "SNR: 27.42 dB\n",
      "MI: 5.99 bits\n",
      "GMI: 5.99 bits\n",
      "channel 0\t fc : 193.1000 THz\n",
      "  mode #0\t power: 0.00 dBm\n",
      "channel 0\t power: 0.00 dBm\n",
      "\n",
      "total WDM dignal power: 0.00 dBm\n",
      "Demodulating channel #0 , fc: 193.1000 THz, λ: 1552.5244 nm\n",
      "\n",
      "Local oscillator P: 12.00 dBm, lw: 0.00 kHz, FO: 21000.00 MHz\n",
      "CSPR = 12.00 dB\n",
      "12500/12500 [==============================] - 16s 1ms/step\n",
      "\n",
      "\n",
      "nlms - training stage #0\n"
     ]
    },
    {
     "data": {
      "application/vnd.jupyter.widget-view+json": {
       "model_id": "9ef87ecd4c4a4c83834f05382b2a0f97",
       "version_major": 2,
       "version_minor": 0
      },
      "text/plain": [
       "  0%|          | 0/5 [00:00<?, ?it/s]"
      ]
     },
     "metadata": {},
     "output_type": "display_data"
    },
    {
     "name": "stdout",
     "output_type": "stream",
     "text": [
      "nlms pre-convergence training iteration #0\n",
      "nlms MSE = 0.015723.\n",
      "nlms pre-convergence training iteration #1\n",
      "nlms MSE = 0.004345.\n",
      "nlms pre-convergence training iteration #2\n",
      "nlms MSE = 0.003877.\n",
      "nlms pre-convergence training iteration #3\n",
      "nlms MSE = 0.003527.\n",
      "nlms pre-convergence training iteration #4\n",
      "nlms MSE = 0.003263.\n",
      "\n",
      "\n",
      "dd-lms - training stage #1\n",
      "dd-lms MSE = 0.002085.\n",
      "Results:\n",
      "\n",
      "SER: 3.67e-04\n",
      "BER: 6.11e-05\n",
      "SNR: 26.66 dB\n",
      "MI: 6.01 bits\n",
      "GMI: 6.00 bits\n",
      "channel 0\t fc : 193.1000 THz\n",
      "  mode #0\t power: 0.00 dBm\n",
      "channel 0\t power: 0.00 dBm\n",
      "\n",
      "total WDM dignal power: 0.00 dBm\n",
      "Demodulating channel #0 , fc: 193.1000 THz, λ: 1552.5244 nm\n",
      "\n",
      "Local oscillator P: 12.00 dBm, lw: 0.00 kHz, FO: 21000.00 MHz\n",
      "CSPR = 12.00 dB\n",
      "12500/12500 [==============================] - 16s 1ms/step\n",
      "\n",
      "\n",
      "nlms - training stage #0\n"
     ]
    },
    {
     "data": {
      "application/vnd.jupyter.widget-view+json": {
       "model_id": "fd7ccd8dc75f41dcb3c5d64d748c825c",
       "version_major": 2,
       "version_minor": 0
      },
      "text/plain": [
       "  0%|          | 0/5 [00:00<?, ?it/s]"
      ]
     },
     "metadata": {},
     "output_type": "display_data"
    },
    {
     "name": "stdout",
     "output_type": "stream",
     "text": [
      "nlms pre-convergence training iteration #0\n",
      "nlms MSE = 0.019482.\n",
      "nlms pre-convergence training iteration #1\n",
      "nlms MSE = 0.006744.\n",
      "nlms pre-convergence training iteration #2\n",
      "nlms MSE = 0.005480.\n",
      "nlms pre-convergence training iteration #3\n",
      "nlms MSE = 0.004659.\n",
      "nlms pre-convergence training iteration #4\n",
      "nlms MSE = 0.004116.\n",
      "\n",
      "\n",
      "dd-lms - training stage #1\n",
      "dd-lms MSE = 0.002814.\n",
      "Results:\n",
      "\n",
      "SER: 1.51e-03\n",
      "BER: 2.56e-04\n",
      "SNR: 25.26 dB\n",
      "MI: 5.99 bits\n",
      "GMI: 5.99 bits\n",
      "channel 0\t fc : 193.1000 THz\n",
      "  mode #0\t power: 0.00 dBm\n",
      "channel 0\t power: 0.00 dBm\n",
      "\n",
      "total WDM dignal power: 0.00 dBm\n",
      "Demodulating channel #0 , fc: 193.1000 THz, λ: 1552.5244 nm\n",
      "\n",
      "Local oscillator P: 12.00 dBm, lw: 0.00 kHz, FO: 21000.00 MHz\n",
      "CSPR = 12.00 dB\n",
      "12500/12500 [==============================] - 16s 1ms/step\n",
      "\n",
      "\n",
      "nlms - training stage #0\n"
     ]
    },
    {
     "data": {
      "application/vnd.jupyter.widget-view+json": {
       "model_id": "91df5f33cac34a4c98c3683645270e77",
       "version_major": 2,
       "version_minor": 0
      },
      "text/plain": [
       "  0%|          | 0/5 [00:00<?, ?it/s]"
      ]
     },
     "metadata": {},
     "output_type": "display_data"
    },
    {
     "name": "stdout",
     "output_type": "stream",
     "text": [
      "nlms pre-convergence training iteration #0\n",
      "nlms MSE = 0.021498.\n",
      "nlms pre-convergence training iteration #1\n",
      "nlms MSE = 0.008211.\n",
      "nlms pre-convergence training iteration #2\n",
      "nlms MSE = 0.006524.\n",
      "nlms pre-convergence training iteration #3\n",
      "nlms MSE = 0.005545.\n",
      "nlms pre-convergence training iteration #4\n",
      "nlms MSE = 0.004955.\n",
      "\n",
      "\n",
      "dd-lms - training stage #1\n",
      "dd-lms MSE = 0.003451.\n",
      "Results:\n",
      "\n",
      "SER: 2.57e-03\n",
      "BER: 4.31e-04\n",
      "SNR: 24.41 dB\n",
      "MI: 5.98 bits\n",
      "GMI: 5.99 bits\n"
     ]
    }
   ],
   "source": [
    "FO_Values = np.arange(1e9, 6e9, 1e9)\n",
    "Rolloff = np.arange(0.01, 0.99, 0.1)\n",
    "\n",
    "BER_NN = np.zeros((FO_Values.size, Rolloff.size))\n",
    "SER_NN = np.zeros((FO_Values.size, Rolloff.size))\n",
    "GMI_NN = np.zeros((FO_Values.size, Rolloff.size))\n",
    "MI_NN  = np.zeros((FO_Values.size, Rolloff.size))\n",
    "SNR_NN = np.zeros((FO_Values.size, Rolloff.size))\n",
    "\n",
    "iterations = 5 # number of iterations per simulation\n",
    "N = 256  # number of input amplitude samples to the NN\n",
    "\n",
    "for indfile in range(0, iterations):\n",
    "    for indNN, FO_ in enumerate(FO_Values):\n",
    "        for index, indRoll_ in enumerate(Rolloff):\n",
    "        \n",
    "            # Main simulation parameters\n",
    "            paramTx.alphaRRC = indRoll_\n",
    "            FO = FO_ + paramTx.Rs/2\n",
    "            # get the model according to the simulation parameters\n",
    "            modelNN = tf.keras.models.load_model('Legacy_NN_models/testModel_SpS_'+str(paramADC.SpS_out)+'_FO_'+str(FO/10e9)+'GHz_Rolloff_'+str(round(paramTx.alphaRRC, 2)))\n",
    "            \n",
    "            # generate optical signal signal\n",
    "            sigTx, symbTx_, paramTx = simpleWDMTx(paramTx)\n",
    "\n",
    "            # simulate linear signal propagation\n",
    "            sigCh = linFiberCh(sigTx, Ltotal, alpha, D, Fc, Fs)\n",
    "\n",
    "            # receiver detection and demodulation\n",
    "            Fc = paramTx.Fc\n",
    "            Ts = 1 / Fs\n",
    "            mod = QAMModem(m=paramTx.M)\n",
    "\n",
    "            freqGrid = paramTx.freqGrid\n",
    "            print(\n",
    "                \"Demodulating channel #%d , fc: %.4f THz, λ: %.4f nm\\n\"\n",
    "                % (\n",
    "                    chIndex,\n",
    "                    (Fc + freqGrid[chIndex]) / 1e12,\n",
    "                    const.c / (Fc + freqGrid[chIndex]) / 1e-9,\n",
    "                )\n",
    "            )\n",
    "\n",
    "            symbTx = symbTx_[:, :, chIndex]\n",
    "\n",
    "            Plo = 10 ** (Plo_dBm / 10) * 1e-3  # power in W\n",
    "\n",
    "            print(\n",
    "                \"Local oscillator P: %.2f dBm, lw: %.2f kHz, FO: %.2f MHz\"\n",
    "                % (Plo_dBm, lw / 1e3, FO / 1e6)\n",
    "            )\n",
    "\n",
    "            # generate LO field\n",
    "            π = np.pi\n",
    "            t = np.arange(0, len(sigCh))*Ts\n",
    "            ϕ_pn_lo = phaseNoise(lw, len(sigCh), Ts)\n",
    "\n",
    "            sigLO = np.sqrt(Plo) * np.exp(-1j * (2 * π * FO * t + ϕ_lo + ϕ_pn_lo))\n",
    "\n",
    "            # Add LO to the received signal\n",
    "            sigRx = np.sqrt(Plo) + sigCh * np.exp(1j * (2 * π * FO * t + ϕ_lo + ϕ_pn_lo))\n",
    "            sfm = sigRx.copy()\n",
    "\n",
    "            print('CSPR = %.2f dB' % (10*np.log10(signal_power(sigLO)/signal_power(sigCh))))\n",
    "\n",
    "            # ### Phase-retrieval stage\n",
    "\n",
    "            # In[4]:\n",
    "\n",
    "            # resampling to ADC sampling rate\n",
    "            sigCh = resample(sigCh, paramADC)\n",
    "            sfm = resample(sfm, paramADC)\n",
    "            newFs = paramADC.SpS_out*paramTx.Rs\n",
    "\n",
    "            # simulate ideal direct-detection optical receiver\n",
    "            Amp = np.abs(sigRx)\n",
    "            Amp = resample(Amp, paramADC)\n",
    "\n",
    "            sfm = sfm/np.sqrt(signal_power(sfm))\n",
    "\n",
    "            sigPhase = np.angle(sfm)  # get signal phase samples (labels) (L,)\n",
    "            sigAmp   = np.pad(np.abs(sfm), (int(N/2), int(N/2)), 'constant') # get signal amplitude samples (L,)\n",
    "\n",
    "            # create set of input features\n",
    "            X_input = np.zeros((len(sigPhase), N))  # (L,N)\n",
    "\n",
    "            for indPhase in range(len(sigPhase)):\n",
    "                X_input[indPhase] = sigAmp[indPhase:N+indPhase]\n",
    "\n",
    "            phiTime_NN = modelNN.predict(X_input)\n",
    "            phiTime_NN = phiTime_NN.reshape(-1,)\n",
    "\n",
    "            # optical field reconstruction\n",
    "            sigRx = np.abs(sfm)*np.exp(1j*phiTime_NN)\n",
    "\n",
    "            # remove DC level\n",
    "            sigRx -= np.mean(sigRx)  # np.sqrt(Plo)\n",
    "\n",
    "            # downshift to baseband\n",
    "            t = np.arange(0, len(sigRx))*(1/newFs)\n",
    "            sigRx *= np.exp(-1j * (2 * π * FO * t))\n",
    "\n",
    "            # correct for (possible) phase ambiguity\n",
    "            rot = np.mean(sigCh/sigRx)\n",
    "            sigRx = rot * sigRx\n",
    "            sigRx = sigRx / np.sqrt(signal_power(sigRx))\n",
    "\n",
    "            # #### Standard receiver processing\n",
    "\n",
    "            # In[5]:\n",
    "\n",
    "            # resample to 2 samples/symbol:\n",
    "            paramRes = parameters()\n",
    "            paramRes.Rs = paramTx.Rs\n",
    "            paramRes.SpS_in = paramADC.SpS_out\n",
    "            paramRes.SpS_out = 2\n",
    "\n",
    "            sigRx = resample(sigRx, paramRes)\n",
    "\n",
    "            # Matched filtering and CD compensation\n",
    "\n",
    "            # Matched filtering\n",
    "            if paramTx.pulse == \"nrz\":\n",
    "                pulse = pulseShape(\"nrz\", paramADC.SpS_out)\n",
    "            elif paramTx.pulse == \"rrc\":\n",
    "                pulse = pulseShape(\n",
    "                    \"rrc\", paramRes.SpS_out, N=paramTx.Ntaps, alpha=paramTx.alphaRRC, Ts=1 / paramTx.Rs\n",
    "                )\n",
    "\n",
    "            pulse = pulse / np.max(np.abs(pulse))\n",
    "            sigRx = firFilter(pulse, sigRx)\n",
    "\n",
    "            # plot constellations after matched filtering\n",
    "            #pconst(sigRx[0::paramRes.SpS_out], lim=True, R=3)\n",
    "\n",
    "            # CD compensation\n",
    "            sigRx = edc(sigRx, Ltotal, D, Fc, paramRes.SpS_out*paramTx.Rs)\n",
    "\n",
    "            #plot constellations after CD compensation\n",
    "            #pconst(sigRx[0::paramRes.SpS_out], lim=True, R=2)\n",
    "\n",
    "            # Downsampling to 2 sps and re-synchronization with transmitted sequences\n",
    "            sigRx = sigRx.reshape(-1, 1)\n",
    "\n",
    "            symbRx = symbolSync(sigRx, symbTx, 2)\n",
    "\n",
    "            # In[6]:\n",
    "\n",
    "            # Power normalization\n",
    "            x = sigRx\n",
    "            d = symbRx\n",
    "\n",
    "            x = x.reshape(len(x), 1) / np.sqrt(signal_power(x))\n",
    "            d = d.reshape(len(d), 1) / np.sqrt(signal_power(d))\n",
    "\n",
    "            # Adaptive equalization\n",
    "            mod = QAMModem(m=paramTx.M)\n",
    "\n",
    "            paramEq = parameters()\n",
    "            paramEq.nTaps = 15\n",
    "            paramEq.SpS = 2\n",
    "            paramEq.mu = [5e-3, 2e-3]\n",
    "            paramEq.numIter = 5\n",
    "            paramEq.storeCoeff = False\n",
    "            paramEq.alg = [\"nlms\", \"dd-lms\"]\n",
    "            paramEq.M = paramTx.M\n",
    "            paramEq.L = [20000, 80000]\n",
    "\n",
    "            y_EQ, H, errSq, Hiter = mimoAdaptEqualizer(x, dx=d, paramEq=paramEq)\n",
    "\n",
    "            discard = int(paramEq.L[0]/2)\n",
    "\n",
    "            #plot constellations after adaptive equalization\n",
    "            #pconst(y_EQ[discard:-discard, :], lim=True)\n",
    "\n",
    "            # In[7]:\n",
    "\n",
    "            # Carrier phase recovery\n",
    "            paramCPR = parameters()\n",
    "            paramCPR.alg = \"bps\"\n",
    "            paramCPR.M = paramTx.M\n",
    "            paramCPR.N = 75\n",
    "            paramCPR.B = 64\n",
    "            paramCPR.pilotInd = np.arange(0, len(y_EQ), 20)\n",
    "\n",
    "            y_CPR, θ = cpr(y_EQ, symbTx=d, paramCPR=paramCPR)\n",
    "\n",
    "            y_CPR = y_CPR / np.sqrt(signal_power(y_CPR))\n",
    "\n",
    "            discard = 5000\n",
    "\n",
    "            # plot constellations after CPR\n",
    "            #pconst(y_CPR[discard:-discard, :], lim=True)\n",
    "\n",
    "            # #### Evaluate transmission metrics\n",
    "\n",
    "            # In[8]:\n",
    "\n",
    "            # correct for (possible) phase ambiguity\n",
    "            for k in range(y_CPR.shape[1]):\n",
    "                rot = np.mean(d[:, k] / y_CPR[:, k])\n",
    "                y_CPR[:, k] = rot * y_CPR[:, k]\n",
    "\n",
    "            y_CPR = y_CPR / np.sqrt(signal_power(y_CPR))\n",
    "\n",
    "            ind = np.arange(discard, d.shape[0] - discard)\n",
    "            BER_NN[indNN][index], SER_NN[indNN][index], SNR_NN[indNN][index] = fastBERcalc(y_CPR[ind, :], d[ind, :], mod)\n",
    "            GMI_NN[indNN][index], _ = monteCarloGMI(y_CPR[ind, :], d[ind, :], mod)\n",
    "            MI_NN[indNN][index] = monteCarloMI(y_CPR[ind, :], d[ind, :], mod)\n",
    "\n",
    "            print(\"Results:\\n\")\n",
    "            print(\"SER: %.2e\" % (SER_NN[indNN][index]))\n",
    "            print(\"BER: %.2e\" % (BER_NN[indNN][index]))\n",
    "            print(\"SNR: %.2f dB\" % (SNR_NN[indNN][index]))\n",
    "            print(\"MI: %.2f bits\" % (MI_NN[indNN][index]))\n",
    "            print(\"GMI: %.2f bits\" % (GMI_NN[indNN][index]))\n",
    "\n",
    "    np.save(r'/home/silas/Documentos/GitHub/PIVIC-Comunicacoes-Opticas/resultados/Data/BER_NN_'+str(indfile), BER_NN)"
   ]
  },
  {
   "cell_type": "markdown",
   "metadata": {},
   "source": [
    "#### Transmission with phase recovery using the KK algorithm"
   ]
  },
  {
   "cell_type": "code",
   "execution_count": 2,
   "metadata": {},
   "outputs": [],
   "source": [
    "## Transmitter parameters:\n",
    "paramTx = parameters()\n",
    "paramTx.M = 64                 # order of the modulation format\n",
    "paramTx.Rs = 32e9              # symbol rate [baud]\n",
    "paramTx.SpS = 4                # samples per symbol\n",
    "paramTx.Nbits = 600000         # total number of bits per polarization\n",
    "paramTx.pulse = \"rrc\"          # pulse shaping filter\n",
    "paramTx.Ntaps = 1024           # number of pulse shaping filter coefficients\n",
    "#paramTx.alphaRRC = 0.91        # RRC rolloff\n",
    "paramTx.Pch_dBm = 0            # power of the optical signal [dBm]\n",
    "paramTx.Nch = 1                # number of WDM channels\n",
    "paramTx.Fc = 193.1e12          # central frequency of the optical spectrum\n",
    "paramTx.freqSpac = 37.5e9      # WDM grid spacing\n",
    "\n",
    "## Optical channel parameters:\n",
    "Ltotal = 50      # total link distance [km]\n",
    "alpha = 0        # fiber loss parameter [dB/km]\n",
    "D = 16          # fiber dispersion parameter [ps/nm/km]\n",
    "Fc = paramTx.Fc  # central optical frequency of the WDM spectrum [Hz]\n",
    "\n",
    "## Receiver parameters:\n",
    "\n",
    "# local oscillator (LO)\n",
    "#FO = 5e9 + paramTx.Rs/2  # frequency offset\n",
    "lw = 0*200e3       # linewidth\n",
    "ϕ_lo = 0           # initial phase in rad\n",
    "Plo_dBm = 12        # power in dBm\n",
    "\n",
    "# ADC sampling rate\n",
    "paramADC = parameters()\n",
    "paramADC.Rs = paramTx.Rs\n",
    "paramADC.SpS_in = paramTx.SpS\n",
    "paramADC.SpS_out = 4\n",
    "\n",
    "## General simulation parameters:\n",
    "chIndex = 0  # index of the channel to be demodulated\n",
    "plotPSD = True\n",
    "Fs = paramTx.Rs * paramTx.SpS  # simulation sampling rate"
   ]
  },
  {
   "cell_type": "code",
   "execution_count": 3,
   "metadata": {},
   "outputs": [
    {
     "name": "stdout",
     "output_type": "stream",
     "text": [
      "channel 0\t fc : 193.1000 THz\n",
      "  mode #0\t power: 0.00 dBm\n",
      "channel 0\t power: -0.00 dBm\n",
      "\n",
      "total WDM dignal power: -0.00 dBm\n",
      "Demodulating channel #0 , fc: 193.1000 THz, λ: 1552.5244 nm\n",
      "\n",
      "Local oscillator P: 12.00 dBm, lw: 0.00 kHz, FO: 17000.00 MHz\n",
      "CSPR = 12.00 dB\n",
      "\n",
      "\n",
      "nlms - training stage #0\n"
     ]
    },
    {
     "data": {
      "application/vnd.jupyter.widget-view+json": {
       "model_id": "ad3328b103e84774a340debebfd90ed0",
       "version_major": 2,
       "version_minor": 0
      },
      "text/plain": [
       "  0%|          | 0/5 [00:00<?, ?it/s]"
      ]
     },
     "metadata": {},
     "output_type": "display_data"
    },
    {
     "name": "stdout",
     "output_type": "stream",
     "text": [
      "nlms pre-convergence training iteration #0\n",
      "nlms MSE = 0.022294.\n",
      "nlms pre-convergence training iteration #1\n",
      "nlms MSE = 0.002431.\n",
      "nlms pre-convergence training iteration #2\n",
      "nlms MSE = 0.002025.\n",
      "nlms pre-convergence training iteration #3\n",
      "nlms MSE = 0.001795.\n",
      "nlms pre-convergence training iteration #4\n",
      "nlms MSE = 0.001643.\n",
      "\n",
      "\n",
      "dd-lms - training stage #1\n",
      "dd-lms MSE = 0.000985.\n",
      "Results:\n",
      "\n",
      "SER: 4.00e-04\n",
      "BER: 6.85e-05\n",
      "SNR: 29.87 dB\n",
      "MI: 5.99 bits\n",
      "GMI: 5.99 bits\n",
      "channel 0\t fc : 193.1000 THz\n",
      "  mode #0\t power: 0.00 dBm\n",
      "channel 0\t power: -0.00 dBm\n",
      "\n",
      "total WDM dignal power: -0.00 dBm\n",
      "Demodulating channel #0 , fc: 193.1000 THz, λ: 1552.5244 nm\n",
      "\n",
      "Local oscillator P: 12.00 dBm, lw: 0.00 kHz, FO: 17000.00 MHz\n",
      "CSPR = 12.00 dB\n",
      "\n",
      "\n",
      "nlms - training stage #0\n"
     ]
    },
    {
     "data": {
      "application/vnd.jupyter.widget-view+json": {
       "model_id": "686063d494b04c93b6dd422aef1bd310",
       "version_major": 2,
       "version_minor": 0
      },
      "text/plain": [
       "  0%|          | 0/5 [00:00<?, ?it/s]"
      ]
     },
     "metadata": {},
     "output_type": "display_data"
    },
    {
     "name": "stdout",
     "output_type": "stream",
     "text": [
      "nlms pre-convergence training iteration #0\n",
      "nlms MSE = 0.020253.\n",
      "nlms pre-convergence training iteration #1\n",
      "nlms MSE = 0.002711.\n",
      "nlms pre-convergence training iteration #2\n",
      "nlms MSE = 0.002244.\n",
      "nlms pre-convergence training iteration #3\n",
      "nlms MSE = 0.002001.\n",
      "nlms pre-convergence training iteration #4\n",
      "nlms MSE = 0.001852.\n",
      "\n",
      "\n",
      "dd-lms - training stage #1\n",
      "dd-lms MSE = 0.001181.\n",
      "Results:\n",
      "\n",
      "SER: 3.00e-04\n",
      "BER: 5.00e-05\n",
      "SNR: 29.24 dB\n",
      "MI: 5.99 bits\n",
      "GMI: 5.99 bits\n",
      "channel 0\t fc : 193.1000 THz\n",
      "  mode #0\t power: 0.00 dBm\n",
      "channel 0\t power: 0.00 dBm\n",
      "\n",
      "total WDM dignal power: 0.00 dBm\n",
      "Demodulating channel #0 , fc: 193.1000 THz, λ: 1552.5244 nm\n",
      "\n",
      "Local oscillator P: 12.00 dBm, lw: 0.00 kHz, FO: 17000.00 MHz\n",
      "CSPR = 12.00 dB\n",
      "\n",
      "\n",
      "nlms - training stage #0\n"
     ]
    },
    {
     "data": {
      "application/vnd.jupyter.widget-view+json": {
       "model_id": "9dc5beeaccf848b7bfd3381dd7028f16",
       "version_major": 2,
       "version_minor": 0
      },
      "text/plain": [
       "  0%|          | 0/5 [00:00<?, ?it/s]"
      ]
     },
     "metadata": {},
     "output_type": "display_data"
    },
    {
     "name": "stdout",
     "output_type": "stream",
     "text": [
      "nlms pre-convergence training iteration #0\n",
      "nlms MSE = 0.022638.\n",
      "nlms pre-convergence training iteration #1\n",
      "nlms MSE = 0.005592.\n",
      "nlms pre-convergence training iteration #2\n",
      "nlms MSE = 0.004908.\n",
      "nlms pre-convergence training iteration #3\n",
      "nlms MSE = 0.004528.\n",
      "nlms pre-convergence training iteration #4\n",
      "nlms MSE = 0.004278.\n",
      "\n",
      "\n",
      "dd-lms - training stage #1\n",
      "dd-lms MSE = 0.003002.\n",
      "Results:\n",
      "\n",
      "SER: 2.02e-03\n",
      "BER: 3.44e-04\n",
      "SNR: 25.21 dB\n",
      "MI: 5.99 bits\n",
      "GMI: 5.99 bits\n",
      "channel 0\t fc : 193.1000 THz\n",
      "  mode #0\t power: 0.00 dBm\n",
      "channel 0\t power: -0.00 dBm\n",
      "\n",
      "total WDM dignal power: -0.00 dBm\n",
      "Demodulating channel #0 , fc: 193.1000 THz, λ: 1552.5244 nm\n",
      "\n",
      "Local oscillator P: 12.00 dBm, lw: 0.00 kHz, FO: 17000.00 MHz\n",
      "CSPR = 12.00 dB\n",
      "\n",
      "\n",
      "nlms - training stage #0\n"
     ]
    },
    {
     "data": {
      "application/vnd.jupyter.widget-view+json": {
       "model_id": "76f03d68ae2144f2996b36be0f6c0173",
       "version_major": 2,
       "version_minor": 0
      },
      "text/plain": [
       "  0%|          | 0/5 [00:00<?, ?it/s]"
      ]
     },
     "metadata": {},
     "output_type": "display_data"
    },
    {
     "name": "stdout",
     "output_type": "stream",
     "text": [
      "nlms pre-convergence training iteration #0\n",
      "nlms MSE = 0.027598.\n",
      "nlms pre-convergence training iteration #1\n",
      "nlms MSE = 0.008713.\n",
      "nlms pre-convergence training iteration #2\n",
      "nlms MSE = 0.007179.\n",
      "nlms pre-convergence training iteration #3\n",
      "nlms MSE = 0.006375.\n",
      "nlms pre-convergence training iteration #4\n",
      "nlms MSE = 0.005864.\n",
      "\n",
      "\n",
      "dd-lms - training stage #1\n",
      "dd-lms MSE = 0.004003.\n",
      "Results:\n",
      "\n",
      "SER: 6.37e-03\n",
      "BER: 1.07e-03\n",
      "SNR: 23.84 dB\n",
      "MI: 5.96 bits\n",
      "GMI: 5.96 bits\n",
      "channel 0\t fc : 193.1000 THz\n",
      "  mode #0\t power: 0.00 dBm\n",
      "channel 0\t power: 0.00 dBm\n",
      "\n",
      "total WDM dignal power: 0.00 dBm\n",
      "Demodulating channel #0 , fc: 193.1000 THz, λ: 1552.5244 nm\n",
      "\n",
      "Local oscillator P: 12.00 dBm, lw: 0.00 kHz, FO: 17000.00 MHz\n",
      "CSPR = 12.00 dB\n",
      "\n",
      "\n",
      "nlms - training stage #0\n"
     ]
    },
    {
     "data": {
      "application/vnd.jupyter.widget-view+json": {
       "model_id": "9d29cd295d78438a86b537fb44f7ee04",
       "version_major": 2,
       "version_minor": 0
      },
      "text/plain": [
       "  0%|          | 0/5 [00:00<?, ?it/s]"
      ]
     },
     "metadata": {},
     "output_type": "display_data"
    },
    {
     "name": "stdout",
     "output_type": "stream",
     "text": [
      "nlms pre-convergence training iteration #0\n",
      "nlms MSE = 0.031800.\n",
      "nlms pre-convergence training iteration #1\n",
      "nlms MSE = 0.010954.\n",
      "nlms pre-convergence training iteration #2\n",
      "nlms MSE = 0.008701.\n",
      "nlms pre-convergence training iteration #3\n",
      "nlms MSE = 0.007622.\n",
      "nlms pre-convergence training iteration #4\n",
      "nlms MSE = 0.006966.\n",
      "\n",
      "\n",
      "dd-lms - training stage #1\n",
      "dd-lms MSE = 0.005217.\n",
      "Results:\n",
      "\n",
      "SER: 1.49e-02\n",
      "BER: 2.54e-03\n",
      "SNR: 22.67 dB\n",
      "MI: 5.93 bits\n",
      "GMI: 5.92 bits\n",
      "channel 0\t fc : 193.1000 THz\n",
      "  mode #0\t power: 0.00 dBm\n",
      "channel 0\t power: -0.00 dBm\n",
      "\n",
      "total WDM dignal power: -0.00 dBm\n",
      "Demodulating channel #0 , fc: 193.1000 THz, λ: 1552.5244 nm\n",
      "\n",
      "Local oscillator P: 12.00 dBm, lw: 0.00 kHz, FO: 17000.00 MHz\n",
      "CSPR = 12.00 dB\n",
      "\n",
      "\n",
      "nlms - training stage #0\n"
     ]
    },
    {
     "data": {
      "application/vnd.jupyter.widget-view+json": {
       "model_id": "6dc3260e3a644106805c17a00037a907",
       "version_major": 2,
       "version_minor": 0
      },
      "text/plain": [
       "  0%|          | 0/5 [00:00<?, ?it/s]"
      ]
     },
     "metadata": {},
     "output_type": "display_data"
    },
    {
     "name": "stdout",
     "output_type": "stream",
     "text": [
      "nlms pre-convergence training iteration #0\n",
      "nlms MSE = 0.038454.\n",
      "nlms pre-convergence training iteration #1\n",
      "nlms MSE = 0.014584.\n",
      "nlms pre-convergence training iteration #2\n",
      "nlms MSE = 0.011553.\n",
      "nlms pre-convergence training iteration #3\n",
      "nlms MSE = 0.010163.\n",
      "nlms pre-convergence training iteration #4\n",
      "nlms MSE = 0.009336.\n",
      "\n",
      "\n",
      "dd-lms - training stage #1\n",
      "dd-lms MSE = 0.006535.\n",
      "Results:\n",
      "\n",
      "SER: 3.20e-02\n",
      "BER: 5.45e-03\n",
      "SNR: 21.45 dB\n",
      "MI: 5.85 bits\n",
      "GMI: 5.84 bits\n",
      "channel 0\t fc : 193.1000 THz\n",
      "  mode #0\t power: 0.00 dBm\n",
      "channel 0\t power: -0.00 dBm\n",
      "\n",
      "total WDM dignal power: -0.00 dBm\n",
      "Demodulating channel #0 , fc: 193.1000 THz, λ: 1552.5244 nm\n",
      "\n",
      "Local oscillator P: 12.00 dBm, lw: 0.00 kHz, FO: 17000.00 MHz\n",
      "CSPR = 12.00 dB\n",
      "\n",
      "\n",
      "nlms - training stage #0\n"
     ]
    },
    {
     "data": {
      "application/vnd.jupyter.widget-view+json": {
       "model_id": "66b442e2d52040869eaf307b140e4860",
       "version_major": 2,
       "version_minor": 0
      },
      "text/plain": [
       "  0%|          | 0/5 [00:00<?, ?it/s]"
      ]
     },
     "metadata": {},
     "output_type": "display_data"
    },
    {
     "name": "stdout",
     "output_type": "stream",
     "text": [
      "nlms pre-convergence training iteration #0\n",
      "nlms MSE = 0.044463.\n",
      "nlms pre-convergence training iteration #1\n",
      "nlms MSE = 0.017809.\n",
      "nlms pre-convergence training iteration #2\n",
      "nlms MSE = 0.014072.\n",
      "nlms pre-convergence training iteration #3\n",
      "nlms MSE = 0.012373.\n",
      "nlms pre-convergence training iteration #4\n",
      "nlms MSE = 0.011373.\n",
      "\n",
      "\n",
      "dd-lms - training stage #1\n",
      "dd-lms MSE = 0.007913.\n",
      "Results:\n",
      "\n",
      "SER: 5.23e-02\n",
      "BER: 8.99e-03\n",
      "SNR: 20.43 dB\n",
      "MI: 5.76 bits\n",
      "GMI: 5.76 bits\n",
      "channel 0\t fc : 193.1000 THz\n",
      "  mode #0\t power: 0.00 dBm\n",
      "channel 0\t power: 0.00 dBm\n",
      "\n",
      "total WDM dignal power: 0.00 dBm\n",
      "Demodulating channel #0 , fc: 193.1000 THz, λ: 1552.5244 nm\n",
      "\n",
      "Local oscillator P: 12.00 dBm, lw: 0.00 kHz, FO: 17000.00 MHz\n",
      "CSPR = 12.00 dB\n",
      "\n",
      "\n",
      "nlms - training stage #0\n"
     ]
    },
    {
     "data": {
      "application/vnd.jupyter.widget-view+json": {
       "model_id": "06d04608f2fc4e94a84ddd8878bfddd8",
       "version_major": 2,
       "version_minor": 0
      },
      "text/plain": [
       "  0%|          | 0/5 [00:00<?, ?it/s]"
      ]
     },
     "metadata": {},
     "output_type": "display_data"
    },
    {
     "name": "stdout",
     "output_type": "stream",
     "text": [
      "nlms pre-convergence training iteration #0\n",
      "nlms MSE = 0.050333.\n",
      "nlms pre-convergence training iteration #1\n",
      "nlms MSE = 0.021139.\n",
      "nlms pre-convergence training iteration #2\n",
      "nlms MSE = 0.016777.\n",
      "nlms pre-convergence training iteration #3\n",
      "nlms MSE = 0.014776.\n",
      "nlms pre-convergence training iteration #4\n",
      "nlms MSE = 0.013587.\n",
      "\n",
      "\n",
      "dd-lms - training stage #1\n",
      "dd-lms MSE = 0.009363.\n",
      "Results:\n",
      "\n",
      "SER: 8.13e-02\n",
      "BER: 1.41e-02\n",
      "SNR: 19.47 dB\n",
      "MI: 5.64 bits\n",
      "GMI: 5.64 bits\n",
      "channel 0\t fc : 193.1000 THz\n",
      "  mode #0\t power: 0.00 dBm\n",
      "channel 0\t power: -0.00 dBm\n",
      "\n",
      "total WDM dignal power: -0.00 dBm\n",
      "Demodulating channel #0 , fc: 193.1000 THz, λ: 1552.5244 nm\n",
      "\n",
      "Local oscillator P: 12.00 dBm, lw: 0.00 kHz, FO: 17000.00 MHz\n",
      "CSPR = 12.00 dB\n",
      "\n",
      "\n",
      "nlms - training stage #0\n"
     ]
    },
    {
     "data": {
      "application/vnd.jupyter.widget-view+json": {
       "model_id": "07ff01221d074fb087a967686e184098",
       "version_major": 2,
       "version_minor": 0
      },
      "text/plain": [
       "  0%|          | 0/5 [00:00<?, ?it/s]"
      ]
     },
     "metadata": {},
     "output_type": "display_data"
    },
    {
     "name": "stdout",
     "output_type": "stream",
     "text": [
      "nlms pre-convergence training iteration #0\n",
      "nlms MSE = 0.057062.\n",
      "nlms pre-convergence training iteration #1\n",
      "nlms MSE = 0.025459.\n",
      "nlms pre-convergence training iteration #2\n",
      "nlms MSE = 0.020391.\n",
      "nlms pre-convergence training iteration #3\n",
      "nlms MSE = 0.017975.\n",
      "nlms pre-convergence training iteration #4\n",
      "nlms MSE = 0.016501.\n",
      "\n",
      "\n",
      "dd-lms - training stage #1\n",
      "dd-lms MSE = 0.010704.\n",
      "Results:\n",
      "\n",
      "SER: 1.18e-01\n",
      "BER: 2.07e-02\n",
      "SNR: 18.54 dB\n",
      "MI: 5.49 bits\n",
      "GMI: 5.48 bits\n",
      "channel 0\t fc : 193.1000 THz\n",
      "  mode #0\t power: 0.00 dBm\n",
      "channel 0\t power: -0.00 dBm\n",
      "\n",
      "total WDM dignal power: -0.00 dBm\n",
      "Demodulating channel #0 , fc: 193.1000 THz, λ: 1552.5244 nm\n",
      "\n",
      "Local oscillator P: 12.00 dBm, lw: 0.00 kHz, FO: 17000.00 MHz\n",
      "CSPR = 12.00 dB\n",
      "\n",
      "\n",
      "nlms - training stage #0\n"
     ]
    },
    {
     "data": {
      "application/vnd.jupyter.widget-view+json": {
       "model_id": "9f5c147147e44fe689c8ad0553764279",
       "version_major": 2,
       "version_minor": 0
      },
      "text/plain": [
       "  0%|          | 0/5 [00:00<?, ?it/s]"
      ]
     },
     "metadata": {},
     "output_type": "display_data"
    },
    {
     "name": "stdout",
     "output_type": "stream",
     "text": [
      "nlms pre-convergence training iteration #0\n",
      "nlms MSE = 0.064195.\n",
      "nlms pre-convergence training iteration #1\n",
      "nlms MSE = 0.029275.\n",
      "nlms pre-convergence training iteration #2\n",
      "nlms MSE = 0.023386.\n",
      "nlms pre-convergence training iteration #3\n",
      "nlms MSE = 0.020583.\n",
      "nlms pre-convergence training iteration #4\n",
      "nlms MSE = 0.018867.\n",
      "\n",
      "\n",
      "dd-lms - training stage #1\n",
      "dd-lms MSE = 0.011752.\n",
      "Results:\n",
      "\n",
      "SER: 1.57e-01\n",
      "BER: 2.77e-02\n",
      "SNR: 17.79 dB\n",
      "MI: 5.34 bits\n",
      "GMI: 5.34 bits\n",
      "channel 0\t fc : 193.1000 THz\n",
      "  mode #0\t power: 0.00 dBm\n",
      "channel 0\t power: 0.00 dBm\n",
      "\n",
      "total WDM dignal power: 0.00 dBm\n",
      "Demodulating channel #0 , fc: 193.1000 THz, λ: 1552.5244 nm\n",
      "\n",
      "Local oscillator P: 12.00 dBm, lw: 0.00 kHz, FO: 18000.00 MHz\n",
      "CSPR = 12.00 dB\n",
      "\n",
      "\n",
      "nlms - training stage #0\n"
     ]
    },
    {
     "data": {
      "application/vnd.jupyter.widget-view+json": {
       "model_id": "3f67d91fdfe34c868a3bf4a2aa9f9cf9",
       "version_major": 2,
       "version_minor": 0
      },
      "text/plain": [
       "  0%|          | 0/5 [00:00<?, ?it/s]"
      ]
     },
     "metadata": {},
     "output_type": "display_data"
    },
    {
     "name": "stdout",
     "output_type": "stream",
     "text": [
      "nlms pre-convergence training iteration #0\n",
      "nlms MSE = 0.022032.\n",
      "nlms pre-convergence training iteration #1\n",
      "nlms MSE = 0.002438.\n",
      "nlms pre-convergence training iteration #2\n",
      "nlms MSE = 0.002027.\n",
      "nlms pre-convergence training iteration #3\n",
      "nlms MSE = 0.001792.\n",
      "nlms pre-convergence training iteration #4\n",
      "nlms MSE = 0.001638.\n",
      "\n",
      "\n",
      "dd-lms - training stage #1\n",
      "dd-lms MSE = 0.001106.\n",
      "Results:\n",
      "\n",
      "SER: 5.44e-04\n",
      "BER: 9.07e-05\n",
      "SNR: 29.38 dB\n",
      "MI: 5.99 bits\n",
      "GMI: 5.98 bits\n",
      "channel 0\t fc : 193.1000 THz\n",
      "  mode #0\t power: 0.00 dBm\n",
      "channel 0\t power: 0.00 dBm\n",
      "\n",
      "total WDM dignal power: 0.00 dBm\n",
      "Demodulating channel #0 , fc: 193.1000 THz, λ: 1552.5244 nm\n",
      "\n",
      "Local oscillator P: 12.00 dBm, lw: 0.00 kHz, FO: 18000.00 MHz\n",
      "CSPR = 12.00 dB\n",
      "\n",
      "\n",
      "nlms - training stage #0\n"
     ]
    },
    {
     "data": {
      "application/vnd.jupyter.widget-view+json": {
       "model_id": "ee07123d17d849fdb2415c811a5c6c9b",
       "version_major": 2,
       "version_minor": 0
      },
      "text/plain": [
       "  0%|          | 0/5 [00:00<?, ?it/s]"
      ]
     },
     "metadata": {},
     "output_type": "display_data"
    },
    {
     "name": "stdout",
     "output_type": "stream",
     "text": [
      "nlms pre-convergence training iteration #0\n",
      "nlms MSE = 0.020147.\n",
      "nlms pre-convergence training iteration #1\n",
      "nlms MSE = 0.002685.\n",
      "nlms pre-convergence training iteration #2\n",
      "nlms MSE = 0.002223.\n",
      "nlms pre-convergence training iteration #3\n",
      "nlms MSE = 0.001981.\n",
      "nlms pre-convergence training iteration #4\n",
      "nlms MSE = 0.001832.\n",
      "\n",
      "\n",
      "dd-lms - training stage #1\n",
      "dd-lms MSE = 0.001007.\n",
      "Results:\n",
      "\n",
      "SER: 5.33e-04\n",
      "BER: 8.89e-05\n",
      "SNR: 29.72 dB\n",
      "MI: 5.99 bits\n",
      "GMI: 5.99 bits\n",
      "channel 0\t fc : 193.1000 THz\n",
      "  mode #0\t power: 0.00 dBm\n",
      "channel 0\t power: 0.00 dBm\n",
      "\n",
      "total WDM dignal power: 0.00 dBm\n",
      "Demodulating channel #0 , fc: 193.1000 THz, λ: 1552.5244 nm\n",
      "\n",
      "Local oscillator P: 12.00 dBm, lw: 0.00 kHz, FO: 18000.00 MHz\n",
      "CSPR = 12.00 dB\n",
      "\n",
      "\n",
      "nlms - training stage #0\n"
     ]
    },
    {
     "data": {
      "application/vnd.jupyter.widget-view+json": {
       "model_id": "d4dbadca208b497aa3590f93076d3e0a",
       "version_major": 2,
       "version_minor": 0
      },
      "text/plain": [
       "  0%|          | 0/5 [00:00<?, ?it/s]"
      ]
     },
     "metadata": {},
     "output_type": "display_data"
    },
    {
     "name": "stdout",
     "output_type": "stream",
     "text": [
      "nlms pre-convergence training iteration #0\n",
      "nlms MSE = 0.017867.\n",
      "nlms pre-convergence training iteration #1\n",
      "nlms MSE = 0.002525.\n",
      "nlms pre-convergence training iteration #2\n",
      "nlms MSE = 0.002313.\n",
      "nlms pre-convergence training iteration #3\n",
      "nlms MSE = 0.002170.\n",
      "nlms pre-convergence training iteration #4\n",
      "nlms MSE = 0.002068.\n",
      "\n",
      "\n",
      "dd-lms - training stage #1\n",
      "dd-lms MSE = 0.001440.\n",
      "Results:\n",
      "\n",
      "SER: 6.89e-04\n",
      "BER: 1.19e-04\n",
      "SNR: 28.34 dB\n",
      "MI: 5.99 bits\n",
      "GMI: 5.99 bits\n",
      "channel 0\t fc : 193.1000 THz\n",
      "  mode #0\t power: 0.00 dBm\n",
      "channel 0\t power: 0.00 dBm\n",
      "\n",
      "total WDM dignal power: 0.00 dBm\n",
      "Demodulating channel #0 , fc: 193.1000 THz, λ: 1552.5244 nm\n",
      "\n",
      "Local oscillator P: 12.00 dBm, lw: 0.00 kHz, FO: 18000.00 MHz\n",
      "CSPR = 12.00 dB\n",
      "\n",
      "\n",
      "nlms - training stage #0\n"
     ]
    },
    {
     "data": {
      "application/vnd.jupyter.widget-view+json": {
       "model_id": "2a27f46c4ebd47fb8fa5387fd547ba39",
       "version_major": 2,
       "version_minor": 0
      },
      "text/plain": [
       "  0%|          | 0/5 [00:00<?, ?it/s]"
      ]
     },
     "metadata": {},
     "output_type": "display_data"
    },
    {
     "name": "stdout",
     "output_type": "stream",
     "text": [
      "nlms pre-convergence training iteration #0\n",
      "nlms MSE = 0.019876.\n",
      "nlms pre-convergence training iteration #1\n",
      "nlms MSE = 0.004799.\n",
      "nlms pre-convergence training iteration #2\n",
      "nlms MSE = 0.004223.\n",
      "nlms pre-convergence training iteration #3\n",
      "nlms MSE = 0.003836.\n",
      "nlms pre-convergence training iteration #4\n",
      "nlms MSE = 0.003553.\n",
      "\n",
      "\n",
      "dd-lms - training stage #1\n",
      "dd-lms MSE = 0.002255.\n",
      "Results:\n",
      "\n",
      "SER: 9.00e-04\n",
      "BER: 1.52e-04\n",
      "SNR: 26.34 dB\n",
      "MI: 5.99 bits\n",
      "GMI: 5.99 bits\n",
      "channel 0\t fc : 193.1000 THz\n",
      "  mode #0\t power: 0.00 dBm\n",
      "channel 0\t power: 0.00 dBm\n",
      "\n",
      "total WDM dignal power: 0.00 dBm\n",
      "Demodulating channel #0 , fc: 193.1000 THz, λ: 1552.5244 nm\n",
      "\n",
      "Local oscillator P: 12.00 dBm, lw: 0.00 kHz, FO: 18000.00 MHz\n",
      "CSPR = 12.00 dB\n",
      "\n",
      "\n",
      "nlms - training stage #0\n"
     ]
    },
    {
     "data": {
      "application/vnd.jupyter.widget-view+json": {
       "model_id": "f33ccf2b1f724cd7b01dc0eaeef60059",
       "version_major": 2,
       "version_minor": 0
      },
      "text/plain": [
       "  0%|          | 0/5 [00:00<?, ?it/s]"
      ]
     },
     "metadata": {},
     "output_type": "display_data"
    },
    {
     "name": "stdout",
     "output_type": "stream",
     "text": [
      "nlms pre-convergence training iteration #0\n",
      "nlms MSE = 0.024299.\n",
      "nlms pre-convergence training iteration #1\n",
      "nlms MSE = 0.007269.\n",
      "nlms pre-convergence training iteration #2\n",
      "nlms MSE = 0.005766.\n",
      "nlms pre-convergence training iteration #3\n",
      "nlms MSE = 0.004968.\n",
      "nlms pre-convergence training iteration #4\n",
      "nlms MSE = 0.004482.\n",
      "\n",
      "\n",
      "dd-lms - training stage #1\n",
      "dd-lms MSE = 0.003054.\n",
      "Results:\n",
      "\n",
      "SER: 2.73e-03\n",
      "BER: 4.57e-04\n",
      "SNR: 25.09 dB\n",
      "MI: 5.98 bits\n",
      "GMI: 5.98 bits\n",
      "channel 0\t fc : 193.1000 THz\n",
      "  mode #0\t power: 0.00 dBm\n",
      "channel 0\t power: -0.00 dBm\n",
      "\n",
      "total WDM dignal power: -0.00 dBm\n",
      "Demodulating channel #0 , fc: 193.1000 THz, λ: 1552.5244 nm\n",
      "\n",
      "Local oscillator P: 12.00 dBm, lw: 0.00 kHz, FO: 18000.00 MHz\n",
      "CSPR = 12.00 dB\n",
      "\n",
      "\n",
      "nlms - training stage #0\n"
     ]
    },
    {
     "data": {
      "application/vnd.jupyter.widget-view+json": {
       "model_id": "a779e77a16414d78818c833e47891bac",
       "version_major": 2,
       "version_minor": 0
      },
      "text/plain": [
       "  0%|          | 0/5 [00:00<?, ?it/s]"
      ]
     },
     "metadata": {},
     "output_type": "display_data"
    },
    {
     "name": "stdout",
     "output_type": "stream",
     "text": [
      "nlms pre-convergence training iteration #0\n",
      "nlms MSE = 0.029042.\n",
      "nlms pre-convergence training iteration #1\n",
      "nlms MSE = 0.009703.\n",
      "nlms pre-convergence training iteration #2\n",
      "nlms MSE = 0.007383.\n",
      "nlms pre-convergence training iteration #3\n",
      "nlms MSE = 0.006330.\n",
      "nlms pre-convergence training iteration #4\n",
      "nlms MSE = 0.005747.\n",
      "\n",
      "\n",
      "dd-lms - training stage #1\n",
      "dd-lms MSE = 0.004140.\n",
      "Results:\n",
      "\n",
      "SER: 5.93e-03\n",
      "BER: 1.00e-03\n",
      "SNR: 23.73 dB\n",
      "MI: 5.96 bits\n",
      "GMI: 5.96 bits\n",
      "channel 0\t fc : 193.1000 THz\n",
      "  mode #0\t power: 0.00 dBm\n",
      "channel 0\t power: -0.00 dBm\n",
      "\n",
      "total WDM dignal power: -0.00 dBm\n",
      "Demodulating channel #0 , fc: 193.1000 THz, λ: 1552.5244 nm\n",
      "\n",
      "Local oscillator P: 12.00 dBm, lw: 0.00 kHz, FO: 18000.00 MHz\n",
      "CSPR = 12.00 dB\n",
      "\n",
      "\n",
      "nlms - training stage #0\n"
     ]
    },
    {
     "data": {
      "application/vnd.jupyter.widget-view+json": {
       "model_id": "a3e27637a3244f8eb2edd7a686dcfaa6",
       "version_major": 2,
       "version_minor": 0
      },
      "text/plain": [
       "  0%|          | 0/5 [00:00<?, ?it/s]"
      ]
     },
     "metadata": {},
     "output_type": "display_data"
    },
    {
     "name": "stdout",
     "output_type": "stream",
     "text": [
      "nlms pre-convergence training iteration #0\n",
      "nlms MSE = 0.034350.\n",
      "nlms pre-convergence training iteration #1\n",
      "nlms MSE = 0.012310.\n",
      "nlms pre-convergence training iteration #2\n",
      "nlms MSE = 0.009419.\n",
      "nlms pre-convergence training iteration #3\n",
      "nlms MSE = 0.008175.\n",
      "nlms pre-convergence training iteration #4\n",
      "nlms MSE = 0.007479.\n",
      "\n",
      "\n",
      "dd-lms - training stage #1\n",
      "dd-lms MSE = 0.005492.\n",
      "Results:\n",
      "\n",
      "SER: 1.59e-02\n",
      "BER: 2.71e-03\n",
      "SNR: 22.39 dB\n",
      "MI: 5.92 bits\n",
      "GMI: 5.92 bits\n",
      "channel 0\t fc : 193.1000 THz\n",
      "  mode #0\t power: 0.00 dBm\n",
      "channel 0\t power: 0.00 dBm\n",
      "\n",
      "total WDM dignal power: 0.00 dBm\n",
      "Demodulating channel #0 , fc: 193.1000 THz, λ: 1552.5244 nm\n",
      "\n",
      "Local oscillator P: 12.00 dBm, lw: 0.00 kHz, FO: 18000.00 MHz\n",
      "CSPR = 12.00 dB\n",
      "\n",
      "\n",
      "nlms - training stage #0\n"
     ]
    },
    {
     "data": {
      "application/vnd.jupyter.widget-view+json": {
       "model_id": "2e32f90bc9724d9bbe534ac3764e6580",
       "version_major": 2,
       "version_minor": 0
      },
      "text/plain": [
       "  0%|          | 0/5 [00:00<?, ?it/s]"
      ]
     },
     "metadata": {},
     "output_type": "display_data"
    },
    {
     "name": "stdout",
     "output_type": "stream",
     "text": [
      "nlms pre-convergence training iteration #0\n",
      "nlms MSE = 0.039735.\n",
      "nlms pre-convergence training iteration #1\n",
      "nlms MSE = 0.015402.\n",
      "nlms pre-convergence training iteration #2\n",
      "nlms MSE = 0.011831.\n",
      "nlms pre-convergence training iteration #3\n",
      "nlms MSE = 0.010308.\n",
      "nlms pre-convergence training iteration #4\n",
      "nlms MSE = 0.009459.\n",
      "\n",
      "\n",
      "dd-lms - training stage #1\n",
      "dd-lms MSE = 0.006803.\n",
      "Results:\n",
      "\n",
      "SER: 3.21e-02\n",
      "BER: 5.48e-03\n",
      "SNR: 21.26 dB\n",
      "MI: 5.85 bits\n",
      "GMI: 5.85 bits\n",
      "channel 0\t fc : 193.1000 THz\n",
      "  mode #0\t power: 0.00 dBm\n",
      "channel 0\t power: -0.00 dBm\n",
      "\n",
      "total WDM dignal power: -0.00 dBm\n",
      "Demodulating channel #0 , fc: 193.1000 THz, λ: 1552.5244 nm\n",
      "\n",
      "Local oscillator P: 12.00 dBm, lw: 0.00 kHz, FO: 18000.00 MHz\n",
      "CSPR = 12.00 dB\n",
      "\n",
      "\n",
      "nlms - training stage #0\n"
     ]
    },
    {
     "data": {
      "application/vnd.jupyter.widget-view+json": {
       "model_id": "e1bf702b7b40466793b3f93ff8d91fa1",
       "version_major": 2,
       "version_minor": 0
      },
      "text/plain": [
       "  0%|          | 0/5 [00:00<?, ?it/s]"
      ]
     },
     "metadata": {},
     "output_type": "display_data"
    },
    {
     "name": "stdout",
     "output_type": "stream",
     "text": [
      "nlms pre-convergence training iteration #0\n",
      "nlms MSE = 0.046074.\n",
      "nlms pre-convergence training iteration #1\n",
      "nlms MSE = 0.018859.\n",
      "nlms pre-convergence training iteration #2\n",
      "nlms MSE = 0.014726.\n",
      "nlms pre-convergence training iteration #3\n",
      "nlms MSE = 0.012924.\n",
      "nlms pre-convergence training iteration #4\n",
      "nlms MSE = 0.011885.\n",
      "\n",
      "\n",
      "dd-lms - training stage #1\n",
      "dd-lms MSE = 0.008170.\n",
      "Results:\n",
      "\n",
      "SER: 5.48e-02\n",
      "BER: 9.40e-03\n",
      "SNR: 20.27 dB\n",
      "MI: 5.75 bits\n",
      "GMI: 5.75 bits\n",
      "channel 0\t fc : 193.1000 THz\n",
      "  mode #0\t power: 0.00 dBm\n",
      "channel 0\t power: 0.00 dBm\n",
      "\n",
      "total WDM dignal power: 0.00 dBm\n",
      "Demodulating channel #0 , fc: 193.1000 THz, λ: 1552.5244 nm\n",
      "\n",
      "Local oscillator P: 12.00 dBm, lw: 0.00 kHz, FO: 18000.00 MHz\n",
      "CSPR = 12.00 dB\n",
      "\n",
      "\n",
      "nlms - training stage #0\n"
     ]
    },
    {
     "data": {
      "application/vnd.jupyter.widget-view+json": {
       "model_id": "d05c3c90d5d14a948d81b8b18f9d75ca",
       "version_major": 2,
       "version_minor": 0
      },
      "text/plain": [
       "  0%|          | 0/5 [00:00<?, ?it/s]"
      ]
     },
     "metadata": {},
     "output_type": "display_data"
    },
    {
     "name": "stdout",
     "output_type": "stream",
     "text": [
      "nlms pre-convergence training iteration #0\n",
      "nlms MSE = 0.051432.\n",
      "nlms pre-convergence training iteration #1\n",
      "nlms MSE = 0.022010.\n",
      "nlms pre-convergence training iteration #2\n",
      "nlms MSE = 0.017154.\n",
      "nlms pre-convergence training iteration #3\n",
      "nlms MSE = 0.015005.\n",
      "nlms pre-convergence training iteration #4\n",
      "nlms MSE = 0.013741.\n",
      "\n",
      "\n",
      "dd-lms - training stage #1\n",
      "dd-lms MSE = 0.009332.\n",
      "Results:\n",
      "\n",
      "SER: 8.09e-02\n",
      "BER: 1.40e-02\n",
      "SNR: 19.44 dB\n",
      "MI: 5.64 bits\n",
      "GMI: 5.64 bits\n",
      "channel 0\t fc : 193.1000 THz\n",
      "  mode #0\t power: 0.00 dBm\n",
      "channel 0\t power: -0.00 dBm\n",
      "\n",
      "total WDM dignal power: -0.00 dBm\n",
      "Demodulating channel #0 , fc: 193.1000 THz, λ: 1552.5244 nm\n",
      "\n",
      "Local oscillator P: 12.00 dBm, lw: 0.00 kHz, FO: 19000.00 MHz\n",
      "CSPR = 12.00 dB\n",
      "\n",
      "\n",
      "nlms - training stage #0\n"
     ]
    },
    {
     "data": {
      "application/vnd.jupyter.widget-view+json": {
       "model_id": "dcaaec691f58472fa5208e973d2c30ba",
       "version_major": 2,
       "version_minor": 0
      },
      "text/plain": [
       "  0%|          | 0/5 [00:00<?, ?it/s]"
      ]
     },
     "metadata": {},
     "output_type": "display_data"
    },
    {
     "name": "stdout",
     "output_type": "stream",
     "text": [
      "nlms pre-convergence training iteration #0\n",
      "nlms MSE = 0.022843.\n",
      "nlms pre-convergence training iteration #1\n",
      "nlms MSE = 0.002543.\n",
      "nlms pre-convergence training iteration #2\n",
      "nlms MSE = 0.002138.\n",
      "nlms pre-convergence training iteration #3\n",
      "nlms MSE = 0.001908.\n",
      "nlms pre-convergence training iteration #4\n",
      "nlms MSE = 0.001756.\n",
      "\n",
      "\n",
      "dd-lms - training stage #1\n",
      "dd-lms MSE = 0.001271.\n",
      "Results:\n",
      "\n",
      "SER: 8.89e-04\n",
      "BER: 1.59e-04\n",
      "SNR: 28.73 dB\n",
      "MI: 5.98 bits\n",
      "GMI: 5.98 bits\n",
      "channel 0\t fc : 193.1000 THz\n",
      "  mode #0\t power: 0.00 dBm\n",
      "channel 0\t power: 0.00 dBm\n",
      "\n",
      "total WDM dignal power: 0.00 dBm\n",
      "Demodulating channel #0 , fc: 193.1000 THz, λ: 1552.5244 nm\n",
      "\n",
      "Local oscillator P: 12.00 dBm, lw: 0.00 kHz, FO: 19000.00 MHz\n",
      "CSPR = 12.00 dB\n",
      "\n",
      "\n",
      "nlms - training stage #0\n"
     ]
    },
    {
     "data": {
      "application/vnd.jupyter.widget-view+json": {
       "model_id": "06c987fced96425ea351ebcbeda043dc",
       "version_major": 2,
       "version_minor": 0
      },
      "text/plain": [
       "  0%|          | 0/5 [00:00<?, ?it/s]"
      ]
     },
     "metadata": {},
     "output_type": "display_data"
    },
    {
     "name": "stdout",
     "output_type": "stream",
     "text": [
      "nlms pre-convergence training iteration #0\n",
      "nlms MSE = 0.020161.\n",
      "nlms pre-convergence training iteration #1\n",
      "nlms MSE = 0.002533.\n",
      "nlms pre-convergence training iteration #2\n",
      "nlms MSE = 0.002073.\n",
      "nlms pre-convergence training iteration #3\n",
      "nlms MSE = 0.001827.\n",
      "nlms pre-convergence training iteration #4\n",
      "nlms MSE = 0.001675.\n",
      "\n",
      "\n",
      "dd-lms - training stage #1\n",
      "dd-lms MSE = 0.001168.\n",
      "Results:\n",
      "\n",
      "SER: 6.67e-04\n",
      "BER: 1.11e-04\n",
      "SNR: 29.13 dB\n",
      "MI: 5.99 bits\n",
      "GMI: 5.99 bits\n",
      "channel 0\t fc : 193.1000 THz\n",
      "  mode #0\t power: 0.00 dBm\n",
      "channel 0\t power: -0.00 dBm\n",
      "\n",
      "total WDM dignal power: -0.00 dBm\n",
      "Demodulating channel #0 , fc: 193.1000 THz, λ: 1552.5244 nm\n",
      "\n",
      "Local oscillator P: 12.00 dBm, lw: 0.00 kHz, FO: 19000.00 MHz\n",
      "CSPR = 12.00 dB\n",
      "\n",
      "\n",
      "nlms - training stage #0\n"
     ]
    },
    {
     "data": {
      "application/vnd.jupyter.widget-view+json": {
       "model_id": "509a11a9d75a4366b62e2c50723b16c9",
       "version_major": 2,
       "version_minor": 0
      },
      "text/plain": [
       "  0%|          | 0/5 [00:00<?, ?it/s]"
      ]
     },
     "metadata": {},
     "output_type": "display_data"
    },
    {
     "name": "stdout",
     "output_type": "stream",
     "text": [
      "nlms pre-convergence training iteration #0\n",
      "nlms MSE = 0.017334.\n",
      "nlms pre-convergence training iteration #1\n",
      "nlms MSE = 0.002098.\n",
      "nlms pre-convergence training iteration #2\n",
      "nlms MSE = 0.001926.\n",
      "nlms pre-convergence training iteration #3\n",
      "nlms MSE = 0.001805.\n",
      "nlms pre-convergence training iteration #4\n",
      "nlms MSE = 0.001715.\n",
      "\n",
      "\n",
      "dd-lms - training stage #1\n",
      "dd-lms MSE = 0.001272.\n",
      "Results:\n",
      "\n",
      "SER: 7.67e-04\n",
      "BER: 1.30e-04\n",
      "SNR: 28.77 dB\n",
      "MI: 5.98 bits\n",
      "GMI: 5.98 bits\n",
      "channel 0\t fc : 193.1000 THz\n",
      "  mode #0\t power: 0.00 dBm\n",
      "channel 0\t power: -0.00 dBm\n",
      "\n",
      "total WDM dignal power: -0.00 dBm\n",
      "Demodulating channel #0 , fc: 193.1000 THz, λ: 1552.5244 nm\n",
      "\n",
      "Local oscillator P: 12.00 dBm, lw: 0.00 kHz, FO: 19000.00 MHz\n",
      "CSPR = 12.00 dB\n",
      "\n",
      "\n",
      "nlms - training stage #0\n"
     ]
    },
    {
     "data": {
      "application/vnd.jupyter.widget-view+json": {
       "model_id": "9f945dabbbc84204b45ee953fff202df",
       "version_major": 2,
       "version_minor": 0
      },
      "text/plain": [
       "  0%|          | 0/5 [00:00<?, ?it/s]"
      ]
     },
     "metadata": {},
     "output_type": "display_data"
    },
    {
     "name": "stdout",
     "output_type": "stream",
     "text": [
      "nlms pre-convergence training iteration #0\n",
      "nlms MSE = 0.016575.\n",
      "nlms pre-convergence training iteration #1\n",
      "nlms MSE = 0.002840.\n",
      "nlms pre-convergence training iteration #2\n",
      "nlms MSE = 0.002757.\n",
      "nlms pre-convergence training iteration #3\n",
      "nlms MSE = 0.002686.\n",
      "nlms pre-convergence training iteration #4\n",
      "nlms MSE = 0.002623.\n",
      "\n",
      "\n",
      "dd-lms - training stage #1\n",
      "dd-lms MSE = 0.001694.\n",
      "Results:\n",
      "\n",
      "SER: 7.44e-04\n",
      "BER: 1.26e-04\n",
      "SNR: 27.60 dB\n",
      "MI: 5.99 bits\n",
      "GMI: 5.99 bits\n",
      "channel 0\t fc : 193.1000 THz\n",
      "  mode #0\t power: 0.00 dBm\n",
      "channel 0\t power: 0.00 dBm\n",
      "\n",
      "total WDM dignal power: 0.00 dBm\n",
      "Demodulating channel #0 , fc: 193.1000 THz, λ: 1552.5244 nm\n",
      "\n",
      "Local oscillator P: 12.00 dBm, lw: 0.00 kHz, FO: 19000.00 MHz\n",
      "CSPR = 12.00 dB\n",
      "\n",
      "\n",
      "nlms - training stage #0\n"
     ]
    },
    {
     "data": {
      "application/vnd.jupyter.widget-view+json": {
       "model_id": "981ae649eafd4a7785ae58594ccf64c0",
       "version_major": 2,
       "version_minor": 0
      },
      "text/plain": [
       "  0%|          | 0/5 [00:00<?, ?it/s]"
      ]
     },
     "metadata": {},
     "output_type": "display_data"
    },
    {
     "name": "stdout",
     "output_type": "stream",
     "text": [
      "nlms pre-convergence training iteration #0\n",
      "nlms MSE = 0.018400.\n",
      "nlms pre-convergence training iteration #1\n",
      "nlms MSE = 0.004518.\n",
      "nlms pre-convergence training iteration #2\n",
      "nlms MSE = 0.003932.\n",
      "nlms pre-convergence training iteration #3\n",
      "nlms MSE = 0.003526.\n",
      "nlms pre-convergence training iteration #4\n",
      "nlms MSE = 0.003232.\n",
      "\n",
      "\n",
      "dd-lms - training stage #1\n",
      "dd-lms MSE = 0.002235.\n",
      "Results:\n",
      "\n",
      "SER: 1.21e-03\n",
      "BER: 2.06e-04\n",
      "SNR: 26.43 dB\n",
      "MI: 5.99 bits\n",
      "GMI: 5.99 bits\n",
      "channel 0\t fc : 193.1000 THz\n",
      "  mode #0\t power: 0.00 dBm\n",
      "channel 0\t power: -0.00 dBm\n",
      "\n",
      "total WDM dignal power: -0.00 dBm\n",
      "Demodulating channel #0 , fc: 193.1000 THz, λ: 1552.5244 nm\n",
      "\n",
      "Local oscillator P: 12.00 dBm, lw: 0.00 kHz, FO: 19000.00 MHz\n",
      "CSPR = 12.00 dB\n",
      "\n",
      "\n",
      "nlms - training stage #0\n"
     ]
    },
    {
     "data": {
      "application/vnd.jupyter.widget-view+json": {
       "model_id": "d6fbd357600f44eab1e6555dea0b5ee5",
       "version_major": 2,
       "version_minor": 0
      },
      "text/plain": [
       "  0%|          | 0/5 [00:00<?, ?it/s]"
      ]
     },
     "metadata": {},
     "output_type": "display_data"
    },
    {
     "name": "stdout",
     "output_type": "stream",
     "text": [
      "nlms pre-convergence training iteration #0\n",
      "nlms MSE = 0.022372.\n",
      "nlms pre-convergence training iteration #1\n",
      "nlms MSE = 0.006859.\n",
      "nlms pre-convergence training iteration #2\n",
      "nlms MSE = 0.005407.\n",
      "nlms pre-convergence training iteration #3\n",
      "nlms MSE = 0.004650.\n",
      "nlms pre-convergence training iteration #4\n",
      "nlms MSE = 0.004215.\n",
      "\n",
      "\n",
      "dd-lms - training stage #1\n",
      "dd-lms MSE = 0.002952.\n",
      "Results:\n",
      "\n",
      "SER: 2.40e-03\n",
      "BER: 4.07e-04\n",
      "SNR: 25.22 dB\n",
      "MI: 5.98 bits\n",
      "GMI: 5.98 bits\n",
      "channel 0\t fc : 193.1000 THz\n",
      "  mode #0\t power: 0.00 dBm\n",
      "channel 0\t power: -0.00 dBm\n",
      "\n",
      "total WDM dignal power: -0.00 dBm\n",
      "Demodulating channel #0 , fc: 193.1000 THz, λ: 1552.5244 nm\n",
      "\n",
      "Local oscillator P: 12.00 dBm, lw: 0.00 kHz, FO: 19000.00 MHz\n",
      "CSPR = 12.00 dB\n",
      "\n",
      "\n",
      "nlms - training stage #0\n"
     ]
    },
    {
     "data": {
      "application/vnd.jupyter.widget-view+json": {
       "model_id": "c9cf46e45e2f4a9589b541e247ef5736",
       "version_major": 2,
       "version_minor": 0
      },
      "text/plain": [
       "  0%|          | 0/5 [00:00<?, ?it/s]"
      ]
     },
     "metadata": {},
     "output_type": "display_data"
    },
    {
     "name": "stdout",
     "output_type": "stream",
     "text": [
      "nlms pre-convergence training iteration #0\n",
      "nlms MSE = 0.025532.\n",
      "nlms pre-convergence training iteration #1\n",
      "nlms MSE = 0.008634.\n",
      "nlms pre-convergence training iteration #2\n",
      "nlms MSE = 0.006517.\n",
      "nlms pre-convergence training iteration #3\n",
      "nlms MSE = 0.005573.\n",
      "nlms pre-convergence training iteration #4\n",
      "nlms MSE = 0.005079.\n",
      "\n",
      "\n",
      "dd-lms - training stage #1\n",
      "dd-lms MSE = 0.003983.\n",
      "Results:\n",
      "\n",
      "SER: 6.31e-03\n",
      "BER: 1.08e-03\n",
      "SNR: 23.94 dB\n",
      "MI: 5.96 bits\n",
      "GMI: 5.96 bits\n",
      "channel 0\t fc : 193.1000 THz\n",
      "  mode #0\t power: 0.00 dBm\n",
      "channel 0\t power: 0.00 dBm\n",
      "\n",
      "total WDM dignal power: 0.00 dBm\n",
      "Demodulating channel #0 , fc: 193.1000 THz, λ: 1552.5244 nm\n",
      "\n",
      "Local oscillator P: 12.00 dBm, lw: 0.00 kHz, FO: 19000.00 MHz\n",
      "CSPR = 12.00 dB\n",
      "\n",
      "\n",
      "nlms - training stage #0\n"
     ]
    },
    {
     "data": {
      "application/vnd.jupyter.widget-view+json": {
       "model_id": "7c900de4e30845119ce3552cca544fbb",
       "version_major": 2,
       "version_minor": 0
      },
      "text/plain": [
       "  0%|          | 0/5 [00:00<?, ?it/s]"
      ]
     },
     "metadata": {},
     "output_type": "display_data"
    },
    {
     "name": "stdout",
     "output_type": "stream",
     "text": [
      "nlms pre-convergence training iteration #0\n",
      "nlms MSE = 0.031051.\n",
      "nlms pre-convergence training iteration #1\n",
      "nlms MSE = 0.011140.\n",
      "nlms pre-convergence training iteration #2\n",
      "nlms MSE = 0.008485.\n",
      "nlms pre-convergence training iteration #3\n",
      "nlms MSE = 0.007417.\n",
      "nlms pre-convergence training iteration #4\n",
      "nlms MSE = 0.006859.\n",
      "\n",
      "\n",
      "dd-lms - training stage #1\n",
      "dd-lms MSE = 0.005128.\n",
      "Results:\n",
      "\n",
      "SER: 1.28e-02\n",
      "BER: 2.17e-03\n",
      "SNR: 22.75 dB\n",
      "MI: 5.93 bits\n",
      "GMI: 5.93 bits\n",
      "channel 0\t fc : 193.1000 THz\n",
      "  mode #0\t power: 0.00 dBm\n",
      "channel 0\t power: -0.00 dBm\n",
      "\n",
      "total WDM dignal power: -0.00 dBm\n",
      "Demodulating channel #0 , fc: 193.1000 THz, λ: 1552.5244 nm\n",
      "\n",
      "Local oscillator P: 12.00 dBm, lw: 0.00 kHz, FO: 19000.00 MHz\n",
      "CSPR = 12.00 dB\n",
      "\n",
      "\n",
      "nlms - training stage #0\n"
     ]
    },
    {
     "data": {
      "application/vnd.jupyter.widget-view+json": {
       "model_id": "a68a1666cf534e2695dd86f730157c30",
       "version_major": 2,
       "version_minor": 0
      },
      "text/plain": [
       "  0%|          | 0/5 [00:00<?, ?it/s]"
      ]
     },
     "metadata": {},
     "output_type": "display_data"
    },
    {
     "name": "stdout",
     "output_type": "stream",
     "text": [
      "nlms pre-convergence training iteration #0\n",
      "nlms MSE = 0.036475.\n",
      "nlms pre-convergence training iteration #1\n",
      "nlms MSE = 0.014077.\n",
      "nlms pre-convergence training iteration #2\n",
      "nlms MSE = 0.010929.\n",
      "nlms pre-convergence training iteration #3\n",
      "nlms MSE = 0.009626.\n",
      "nlms pre-convergence training iteration #4\n",
      "nlms MSE = 0.008896.\n",
      "\n",
      "\n",
      "dd-lms - training stage #1\n",
      "dd-lms MSE = 0.006213.\n",
      "Results:\n",
      "\n",
      "SER: 2.60e-02\n",
      "BER: 4.44e-03\n",
      "SNR: 21.68 dB\n",
      "MI: 5.87 bits\n",
      "GMI: 5.87 bits\n",
      "channel 0\t fc : 193.1000 THz\n",
      "  mode #0\t power: 0.00 dBm\n",
      "channel 0\t power: 0.00 dBm\n",
      "\n",
      "total WDM dignal power: 0.00 dBm\n",
      "Demodulating channel #0 , fc: 193.1000 THz, λ: 1552.5244 nm\n",
      "\n",
      "Local oscillator P: 12.00 dBm, lw: 0.00 kHz, FO: 19000.00 MHz\n",
      "CSPR = 12.00 dB\n",
      "\n",
      "\n",
      "nlms - training stage #0\n"
     ]
    },
    {
     "data": {
      "application/vnd.jupyter.widget-view+json": {
       "model_id": "d1aaf190fa3b4be4be1d820c1e3b1d66",
       "version_major": 2,
       "version_minor": 0
      },
      "text/plain": [
       "  0%|          | 0/5 [00:00<?, ?it/s]"
      ]
     },
     "metadata": {},
     "output_type": "display_data"
    },
    {
     "name": "stdout",
     "output_type": "stream",
     "text": [
      "nlms pre-convergence training iteration #0\n",
      "nlms MSE = 0.041926.\n",
      "nlms pre-convergence training iteration #1\n",
      "nlms MSE = 0.016870.\n",
      "nlms pre-convergence training iteration #2\n",
      "nlms MSE = 0.013114.\n",
      "nlms pre-convergence training iteration #3\n",
      "nlms MSE = 0.011528.\n",
      "nlms pre-convergence training iteration #4\n",
      "nlms MSE = 0.010617.\n",
      "\n",
      "\n",
      "dd-lms - training stage #1\n",
      "dd-lms MSE = 0.007419.\n",
      "Results:\n",
      "\n",
      "SER: 4.18e-02\n",
      "BER: 7.15e-03\n",
      "SNR: 20.80 dB\n",
      "MI: 5.80 bits\n",
      "GMI: 5.80 bits\n",
      "channel 0\t fc : 193.1000 THz\n",
      "  mode #0\t power: 0.00 dBm\n",
      "channel 0\t power: 0.00 dBm\n",
      "\n",
      "total WDM dignal power: 0.00 dBm\n",
      "Demodulating channel #0 , fc: 193.1000 THz, λ: 1552.5244 nm\n",
      "\n",
      "Local oscillator P: 12.00 dBm, lw: 0.00 kHz, FO: 20000.00 MHz\n",
      "CSPR = 12.00 dB\n",
      "\n",
      "\n",
      "nlms - training stage #0\n"
     ]
    },
    {
     "data": {
      "application/vnd.jupyter.widget-view+json": {
       "model_id": "d3e5d2095bc240e5b8d0cb91fe3a47de",
       "version_major": 2,
       "version_minor": 0
      },
      "text/plain": [
       "  0%|          | 0/5 [00:00<?, ?it/s]"
      ]
     },
     "metadata": {},
     "output_type": "display_data"
    },
    {
     "name": "stdout",
     "output_type": "stream",
     "text": [
      "nlms pre-convergence training iteration #0\n",
      "nlms MSE = 0.021758.\n",
      "nlms pre-convergence training iteration #1\n",
      "nlms MSE = 0.002764.\n",
      "nlms pre-convergence training iteration #2\n",
      "nlms MSE = 0.002360.\n",
      "nlms pre-convergence training iteration #3\n",
      "nlms MSE = 0.002129.\n",
      "nlms pre-convergence training iteration #4\n",
      "nlms MSE = 0.001977.\n",
      "\n",
      "\n",
      "dd-lms - training stage #1\n",
      "dd-lms MSE = 0.001452.\n",
      "Results:\n",
      "\n",
      "SER: 8.00e-04\n",
      "BER: 1.35e-04\n",
      "SNR: 28.21 dB\n",
      "MI: 5.99 bits\n",
      "GMI: 5.99 bits\n",
      "channel 0\t fc : 193.1000 THz\n",
      "  mode #0\t power: 0.00 dBm\n",
      "channel 0\t power: -0.00 dBm\n",
      "\n",
      "total WDM dignal power: -0.00 dBm\n",
      "Demodulating channel #0 , fc: 193.1000 THz, λ: 1552.5244 nm\n",
      "\n",
      "Local oscillator P: 12.00 dBm, lw: 0.00 kHz, FO: 20000.00 MHz\n",
      "CSPR = 12.00 dB\n",
      "\n",
      "\n",
      "nlms - training stage #0\n"
     ]
    },
    {
     "data": {
      "application/vnd.jupyter.widget-view+json": {
       "model_id": "a55b1a777a8845c898a0d24a18049d9a",
       "version_major": 2,
       "version_minor": 0
      },
      "text/plain": [
       "  0%|          | 0/5 [00:00<?, ?it/s]"
      ]
     },
     "metadata": {},
     "output_type": "display_data"
    },
    {
     "name": "stdout",
     "output_type": "stream",
     "text": [
      "nlms pre-convergence training iteration #0\n",
      "nlms MSE = 0.020627.\n",
      "nlms pre-convergence training iteration #1\n",
      "nlms MSE = 0.002752.\n",
      "nlms pre-convergence training iteration #2\n",
      "nlms MSE = 0.002284.\n",
      "nlms pre-convergence training iteration #3\n",
      "nlms MSE = 0.002036.\n",
      "nlms pre-convergence training iteration #4\n",
      "nlms MSE = 0.001883.\n",
      "\n",
      "\n",
      "dd-lms - training stage #1\n",
      "dd-lms MSE = 0.001369.\n",
      "Results:\n",
      "\n",
      "SER: 1.00e-03\n",
      "BER: 1.70e-04\n",
      "SNR: 28.45 dB\n",
      "MI: 5.98 bits\n",
      "GMI: 5.98 bits\n",
      "channel 0\t fc : 193.1000 THz\n",
      "  mode #0\t power: 0.00 dBm\n",
      "channel 0\t power: 0.00 dBm\n",
      "\n",
      "total WDM dignal power: 0.00 dBm\n",
      "Demodulating channel #0 , fc: 193.1000 THz, λ: 1552.5244 nm\n",
      "\n",
      "Local oscillator P: 12.00 dBm, lw: 0.00 kHz, FO: 20000.00 MHz\n",
      "CSPR = 12.00 dB\n",
      "\n",
      "\n",
      "nlms - training stage #0\n"
     ]
    },
    {
     "data": {
      "application/vnd.jupyter.widget-view+json": {
       "model_id": "5aa27cbdf13b4023974c6c18decc30d5",
       "version_major": 2,
       "version_minor": 0
      },
      "text/plain": [
       "  0%|          | 0/5 [00:00<?, ?it/s]"
      ]
     },
     "metadata": {},
     "output_type": "display_data"
    },
    {
     "name": "stdout",
     "output_type": "stream",
     "text": [
      "nlms pre-convergence training iteration #0\n",
      "nlms MSE = 0.017553.\n",
      "nlms pre-convergence training iteration #1\n",
      "nlms MSE = 0.002413.\n",
      "nlms pre-convergence training iteration #2\n",
      "nlms MSE = 0.002237.\n",
      "nlms pre-convergence training iteration #3\n",
      "nlms MSE = 0.002114.\n",
      "nlms pre-convergence training iteration #4\n",
      "nlms MSE = 0.002025.\n",
      "\n",
      "\n",
      "dd-lms - training stage #1\n",
      "dd-lms MSE = 0.001446.\n",
      "Results:\n",
      "\n",
      "SER: 1.08e-03\n",
      "BER: 1.80e-04\n",
      "SNR: 28.21 dB\n",
      "MI: 5.98 bits\n",
      "GMI: 5.98 bits\n",
      "channel 0\t fc : 193.1000 THz\n",
      "  mode #0\t power: 0.00 dBm\n",
      "channel 0\t power: -0.00 dBm\n",
      "\n",
      "total WDM dignal power: -0.00 dBm\n",
      "Demodulating channel #0 , fc: 193.1000 THz, λ: 1552.5244 nm\n",
      "\n",
      "Local oscillator P: 12.00 dBm, lw: 0.00 kHz, FO: 20000.00 MHz\n",
      "CSPR = 12.00 dB\n",
      "\n",
      "\n",
      "nlms - training stage #0\n"
     ]
    },
    {
     "data": {
      "application/vnd.jupyter.widget-view+json": {
       "model_id": "20786ba8eafb40d59a505f91a3fd8013",
       "version_major": 2,
       "version_minor": 0
      },
      "text/plain": [
       "  0%|          | 0/5 [00:00<?, ?it/s]"
      ]
     },
     "metadata": {},
     "output_type": "display_data"
    },
    {
     "name": "stdout",
     "output_type": "stream",
     "text": [
      "nlms pre-convergence training iteration #0\n",
      "nlms MSE = 0.016073.\n",
      "nlms pre-convergence training iteration #1\n",
      "nlms MSE = 0.002132.\n",
      "nlms pre-convergence training iteration #2\n",
      "nlms MSE = 0.002097.\n",
      "nlms pre-convergence training iteration #3\n",
      "nlms MSE = 0.002066.\n",
      "nlms pre-convergence training iteration #4\n",
      "nlms MSE = 0.002037.\n",
      "\n",
      "\n",
      "dd-lms - training stage #1\n",
      "dd-lms MSE = 0.001638.\n",
      "Results:\n",
      "\n",
      "SER: 1.00e-03\n",
      "BER: 1.72e-04\n",
      "SNR: 27.74 dB\n",
      "MI: 5.98 bits\n",
      "GMI: 5.98 bits\n",
      "channel 0\t fc : 193.1000 THz\n",
      "  mode #0\t power: 0.00 dBm\n",
      "channel 0\t power: -0.00 dBm\n",
      "\n",
      "total WDM dignal power: -0.00 dBm\n",
      "Demodulating channel #0 , fc: 193.1000 THz, λ: 1552.5244 nm\n",
      "\n",
      "Local oscillator P: 12.00 dBm, lw: 0.00 kHz, FO: 20000.00 MHz\n",
      "CSPR = 12.00 dB\n",
      "\n",
      "\n",
      "nlms - training stage #0\n"
     ]
    },
    {
     "data": {
      "application/vnd.jupyter.widget-view+json": {
       "model_id": "c8cfb90c9f3e4e059875cc22b6e7b618",
       "version_major": 2,
       "version_minor": 0
      },
      "text/plain": [
       "  0%|          | 0/5 [00:00<?, ?it/s]"
      ]
     },
     "metadata": {},
     "output_type": "display_data"
    },
    {
     "name": "stdout",
     "output_type": "stream",
     "text": [
      "nlms pre-convergence training iteration #0\n",
      "nlms MSE = 0.016398.\n",
      "nlms pre-convergence training iteration #1\n",
      "nlms MSE = 0.003468.\n",
      "nlms pre-convergence training iteration #2\n",
      "nlms MSE = 0.003340.\n",
      "nlms pre-convergence training iteration #3\n",
      "nlms MSE = 0.003227.\n",
      "nlms pre-convergence training iteration #4\n",
      "nlms MSE = 0.003127.\n",
      "\n",
      "\n",
      "dd-lms - training stage #1\n",
      "dd-lms MSE = 0.002025.\n",
      "Results:\n",
      "\n",
      "SER: 1.09e-03\n",
      "BER: 1.81e-04\n",
      "SNR: 26.76 dB\n",
      "MI: 5.99 bits\n",
      "GMI: 5.99 bits\n",
      "channel 0\t fc : 193.1000 THz\n",
      "  mode #0\t power: 0.00 dBm\n",
      "channel 0\t power: -0.00 dBm\n",
      "\n",
      "total WDM dignal power: -0.00 dBm\n",
      "Demodulating channel #0 , fc: 193.1000 THz, λ: 1552.5244 nm\n",
      "\n",
      "Local oscillator P: 12.00 dBm, lw: 0.00 kHz, FO: 20000.00 MHz\n",
      "CSPR = 12.00 dB\n",
      "\n",
      "\n",
      "nlms - training stage #0\n"
     ]
    },
    {
     "data": {
      "application/vnd.jupyter.widget-view+json": {
       "model_id": "e9a67ecdc0c74f9d9e6dc7e55a97c380",
       "version_major": 2,
       "version_minor": 0
      },
      "text/plain": [
       "  0%|          | 0/5 [00:00<?, ?it/s]"
      ]
     },
     "metadata": {},
     "output_type": "display_data"
    },
    {
     "name": "stdout",
     "output_type": "stream",
     "text": [
      "nlms pre-convergence training iteration #0\n",
      "nlms MSE = 0.017968.\n",
      "nlms pre-convergence training iteration #1\n",
      "nlms MSE = 0.005133.\n",
      "nlms pre-convergence training iteration #2\n",
      "nlms MSE = 0.004513.\n",
      "nlms pre-convergence training iteration #3\n",
      "nlms MSE = 0.004074.\n",
      "nlms pre-convergence training iteration #4\n",
      "nlms MSE = 0.003754.\n",
      "\n",
      "\n",
      "dd-lms - training stage #1\n",
      "dd-lms MSE = 0.002435.\n",
      "Results:\n",
      "\n",
      "SER: 1.94e-03\n",
      "BER: 3.33e-04\n",
      "SNR: 25.91 dB\n",
      "MI: 5.98 bits\n",
      "GMI: 5.98 bits\n",
      "channel 0\t fc : 193.1000 THz\n",
      "  mode #0\t power: 0.00 dBm\n",
      "channel 0\t power: -0.00 dBm\n",
      "\n",
      "total WDM dignal power: -0.00 dBm\n",
      "Demodulating channel #0 , fc: 193.1000 THz, λ: 1552.5244 nm\n",
      "\n",
      "Local oscillator P: 12.00 dBm, lw: 0.00 kHz, FO: 20000.00 MHz\n",
      "CSPR = 12.00 dB\n",
      "\n",
      "\n",
      "nlms - training stage #0\n"
     ]
    },
    {
     "data": {
      "application/vnd.jupyter.widget-view+json": {
       "model_id": "adceb2a57cca4aacab314f33f2b30db4",
       "version_major": 2,
       "version_minor": 0
      },
      "text/plain": [
       "  0%|          | 0/5 [00:00<?, ?it/s]"
      ]
     },
     "metadata": {},
     "output_type": "display_data"
    },
    {
     "name": "stdout",
     "output_type": "stream",
     "text": [
      "nlms pre-convergence training iteration #0\n",
      "nlms MSE = 0.020841.\n",
      "nlms pre-convergence training iteration #1\n",
      "nlms MSE = 0.007115.\n",
      "nlms pre-convergence training iteration #2\n",
      "nlms MSE = 0.005696.\n",
      "nlms pre-convergence training iteration #3\n",
      "nlms MSE = 0.004911.\n",
      "nlms pre-convergence training iteration #4\n",
      "nlms MSE = 0.004450.\n",
      "\n",
      "\n",
      "dd-lms - training stage #1\n",
      "dd-lms MSE = 0.003176.\n",
      "Results:\n",
      "\n",
      "SER: 3.61e-03\n",
      "BER: 6.15e-04\n",
      "SNR: 24.85 dB\n",
      "MI: 5.97 bits\n",
      "GMI: 5.97 bits\n",
      "channel 0\t fc : 193.1000 THz\n",
      "  mode #0\t power: 0.00 dBm\n",
      "channel 0\t power: 0.00 dBm\n",
      "\n",
      "total WDM dignal power: 0.00 dBm\n",
      "Demodulating channel #0 , fc: 193.1000 THz, λ: 1552.5244 nm\n",
      "\n",
      "Local oscillator P: 12.00 dBm, lw: 0.00 kHz, FO: 20000.00 MHz\n",
      "CSPR = 12.00 dB\n",
      "\n",
      "\n",
      "nlms - training stage #0\n"
     ]
    },
    {
     "data": {
      "application/vnd.jupyter.widget-view+json": {
       "model_id": "50dc3886d2684edc92508f12452aa674",
       "version_major": 2,
       "version_minor": 0
      },
      "text/plain": [
       "  0%|          | 0/5 [00:00<?, ?it/s]"
      ]
     },
     "metadata": {},
     "output_type": "display_data"
    },
    {
     "name": "stdout",
     "output_type": "stream",
     "text": [
      "nlms pre-convergence training iteration #0\n",
      "nlms MSE = 0.024966.\n",
      "nlms pre-convergence training iteration #1\n",
      "nlms MSE = 0.008930.\n",
      "nlms pre-convergence training iteration #2\n",
      "nlms MSE = 0.006840.\n",
      "nlms pre-convergence training iteration #3\n",
      "nlms MSE = 0.005902.\n",
      "nlms pre-convergence training iteration #4\n",
      "nlms MSE = 0.005423.\n",
      "\n",
      "\n",
      "dd-lms - training stage #1\n",
      "dd-lms MSE = 0.004124.\n",
      "Results:\n",
      "\n",
      "SER: 7.67e-03\n",
      "BER: 1.29e-03\n",
      "SNR: 23.70 dB\n",
      "MI: 5.95 bits\n",
      "GMI: 5.95 bits\n",
      "channel 0\t fc : 193.1000 THz\n",
      "  mode #0\t power: 0.00 dBm\n",
      "channel 0\t power: 0.00 dBm\n",
      "\n",
      "total WDM dignal power: 0.00 dBm\n",
      "Demodulating channel #0 , fc: 193.1000 THz, λ: 1552.5244 nm\n",
      "\n",
      "Local oscillator P: 12.00 dBm, lw: 0.00 kHz, FO: 20000.00 MHz\n",
      "CSPR = 12.00 dB\n",
      "\n",
      "\n",
      "nlms - training stage #0\n"
     ]
    },
    {
     "data": {
      "application/vnd.jupyter.widget-view+json": {
       "model_id": "af371addcfb14bb89f6d05d2c98761f1",
       "version_major": 2,
       "version_minor": 0
      },
      "text/plain": [
       "  0%|          | 0/5 [00:00<?, ?it/s]"
      ]
     },
     "metadata": {},
     "output_type": "display_data"
    },
    {
     "name": "stdout",
     "output_type": "stream",
     "text": [
      "nlms pre-convergence training iteration #0\n",
      "nlms MSE = 0.029312.\n",
      "nlms pre-convergence training iteration #1\n",
      "nlms MSE = 0.011201.\n",
      "nlms pre-convergence training iteration #2\n",
      "nlms MSE = 0.008535.\n",
      "nlms pre-convergence training iteration #3\n",
      "nlms MSE = 0.007440.\n",
      "nlms pre-convergence training iteration #4\n",
      "nlms MSE = 0.006881.\n",
      "\n",
      "\n",
      "dd-lms - training stage #1\n",
      "dd-lms MSE = 0.005123.\n",
      "Results:\n",
      "\n",
      "SER: 1.49e-02\n",
      "BER: 2.51e-03\n",
      "SNR: 22.67 dB\n",
      "MI: 5.92 bits\n",
      "GMI: 5.92 bits\n",
      "channel 0\t fc : 193.1000 THz\n",
      "  mode #0\t power: 0.00 dBm\n",
      "channel 0\t power: -0.00 dBm\n",
      "\n",
      "total WDM dignal power: -0.00 dBm\n",
      "Demodulating channel #0 , fc: 193.1000 THz, λ: 1552.5244 nm\n",
      "\n",
      "Local oscillator P: 12.00 dBm, lw: 0.00 kHz, FO: 20000.00 MHz\n",
      "CSPR = 12.00 dB\n",
      "\n",
      "\n",
      "nlms - training stage #0\n"
     ]
    },
    {
     "data": {
      "application/vnd.jupyter.widget-view+json": {
       "model_id": "3478ed8798e14b90a38a912b442c0a21",
       "version_major": 2,
       "version_minor": 0
      },
      "text/plain": [
       "  0%|          | 0/5 [00:00<?, ?it/s]"
      ]
     },
     "metadata": {},
     "output_type": "display_data"
    },
    {
     "name": "stdout",
     "output_type": "stream",
     "text": [
      "nlms pre-convergence training iteration #0\n",
      "nlms MSE = 0.034121.\n",
      "nlms pre-convergence training iteration #1\n",
      "nlms MSE = 0.013818.\n",
      "nlms pre-convergence training iteration #2\n",
      "nlms MSE = 0.010629.\n",
      "nlms pre-convergence training iteration #3\n",
      "nlms MSE = 0.009332.\n",
      "nlms pre-convergence training iteration #4\n",
      "nlms MSE = 0.008623.\n",
      "\n",
      "\n",
      "dd-lms - training stage #1\n",
      "dd-lms MSE = 0.006264.\n",
      "Results:\n",
      "\n",
      "SER: 2.59e-02\n",
      "BER: 4.41e-03\n",
      "SNR: 21.71 dB\n",
      "MI: 5.88 bits\n",
      "GMI: 5.87 bits\n",
      "channel 0\t fc : 193.1000 THz\n",
      "  mode #0\t power: 0.00 dBm\n",
      "channel 0\t power: -0.00 dBm\n",
      "\n",
      "total WDM dignal power: -0.00 dBm\n",
      "Demodulating channel #0 , fc: 193.1000 THz, λ: 1552.5244 nm\n",
      "\n",
      "Local oscillator P: 12.00 dBm, lw: 0.00 kHz, FO: 21000.00 MHz\n",
      "CSPR = 12.00 dB\n",
      "\n",
      "\n",
      "nlms - training stage #0\n"
     ]
    },
    {
     "data": {
      "application/vnd.jupyter.widget-view+json": {
       "model_id": "2c165984452f4d4e90a766ec0b88136c",
       "version_major": 2,
       "version_minor": 0
      },
      "text/plain": [
       "  0%|          | 0/5 [00:00<?, ?it/s]"
      ]
     },
     "metadata": {},
     "output_type": "display_data"
    },
    {
     "name": "stdout",
     "output_type": "stream",
     "text": [
      "nlms pre-convergence training iteration #0\n",
      "nlms MSE = 0.022414.\n",
      "nlms pre-convergence training iteration #1\n",
      "nlms MSE = 0.003241.\n",
      "nlms pre-convergence training iteration #2\n",
      "nlms MSE = 0.002836.\n",
      "nlms pre-convergence training iteration #3\n",
      "nlms MSE = 0.002602.\n",
      "nlms pre-convergence training iteration #4\n",
      "nlms MSE = 0.002448.\n",
      "\n",
      "\n",
      "dd-lms - training stage #1\n",
      "dd-lms MSE = 0.001726.\n",
      "Results:\n",
      "\n",
      "SER: 1.49e-03\n",
      "BER: 2.54e-04\n",
      "SNR: 27.47 dB\n",
      "MI: 5.98 bits\n",
      "GMI: 5.98 bits\n",
      "channel 0\t fc : 193.1000 THz\n",
      "  mode #0\t power: 0.00 dBm\n",
      "channel 0\t power: -0.00 dBm\n",
      "\n",
      "total WDM dignal power: -0.00 dBm\n",
      "Demodulating channel #0 , fc: 193.1000 THz, λ: 1552.5244 nm\n",
      "\n",
      "Local oscillator P: 12.00 dBm, lw: 0.00 kHz, FO: 21000.00 MHz\n",
      "CSPR = 12.00 dB\n",
      "\n",
      "\n",
      "nlms - training stage #0\n"
     ]
    },
    {
     "data": {
      "application/vnd.jupyter.widget-view+json": {
       "model_id": "05050b1f9d43488e83d2a6d98961846b",
       "version_major": 2,
       "version_minor": 0
      },
      "text/plain": [
       "  0%|          | 0/5 [00:00<?, ?it/s]"
      ]
     },
     "metadata": {},
     "output_type": "display_data"
    },
    {
     "name": "stdout",
     "output_type": "stream",
     "text": [
      "nlms pre-convergence training iteration #0\n",
      "nlms MSE = 0.020871.\n",
      "nlms pre-convergence training iteration #1\n",
      "nlms MSE = 0.003307.\n",
      "nlms pre-convergence training iteration #2\n",
      "nlms MSE = 0.002835.\n",
      "nlms pre-convergence training iteration #3\n",
      "nlms MSE = 0.002588.\n",
      "nlms pre-convergence training iteration #4\n",
      "nlms MSE = 0.002436.\n",
      "\n",
      "\n",
      "dd-lms - training stage #1\n",
      "dd-lms MSE = 0.001611.\n",
      "Results:\n",
      "\n",
      "SER: 1.48e-03\n",
      "BER: 2.48e-04\n",
      "SNR: 27.71 dB\n",
      "MI: 5.97 bits\n",
      "GMI: 5.97 bits\n",
      "channel 0\t fc : 193.1000 THz\n",
      "  mode #0\t power: 0.00 dBm\n",
      "channel 0\t power: -0.00 dBm\n",
      "\n",
      "total WDM dignal power: -0.00 dBm\n",
      "Demodulating channel #0 , fc: 193.1000 THz, λ: 1552.5244 nm\n",
      "\n",
      "Local oscillator P: 12.00 dBm, lw: 0.00 kHz, FO: 21000.00 MHz\n",
      "CSPR = 12.00 dB\n",
      "\n",
      "\n",
      "nlms - training stage #0\n"
     ]
    },
    {
     "data": {
      "application/vnd.jupyter.widget-view+json": {
       "model_id": "aa6ad8bd8f3842448b585acdcf8772e0",
       "version_major": 2,
       "version_minor": 0
      },
      "text/plain": [
       "  0%|          | 0/5 [00:00<?, ?it/s]"
      ]
     },
     "metadata": {},
     "output_type": "display_data"
    },
    {
     "name": "stdout",
     "output_type": "stream",
     "text": [
      "nlms pre-convergence training iteration #0\n",
      "nlms MSE = 0.017737.\n",
      "nlms pre-convergence training iteration #1\n",
      "nlms MSE = 0.002702.\n",
      "nlms pre-convergence training iteration #2\n",
      "nlms MSE = 0.002513.\n",
      "nlms pre-convergence training iteration #3\n",
      "nlms MSE = 0.002379.\n",
      "nlms pre-convergence training iteration #4\n",
      "nlms MSE = 0.002281.\n",
      "\n",
      "\n",
      "dd-lms - training stage #1\n",
      "dd-lms MSE = 0.001729.\n",
      "Results:\n",
      "\n",
      "SER: 1.41e-03\n",
      "BER: 2.46e-04\n",
      "SNR: 27.46 dB\n",
      "MI: 5.98 bits\n",
      "GMI: 5.98 bits\n",
      "channel 0\t fc : 193.1000 THz\n",
      "  mode #0\t power: 0.00 dBm\n",
      "channel 0\t power: 0.00 dBm\n",
      "\n",
      "total WDM dignal power: 0.00 dBm\n",
      "Demodulating channel #0 , fc: 193.1000 THz, λ: 1552.5244 nm\n",
      "\n",
      "Local oscillator P: 12.00 dBm, lw: 0.00 kHz, FO: 21000.00 MHz\n",
      "CSPR = 12.00 dB\n",
      "\n",
      "\n",
      "nlms - training stage #0\n"
     ]
    },
    {
     "data": {
      "application/vnd.jupyter.widget-view+json": {
       "model_id": "410b3e9e5e5547a399dad9e095766363",
       "version_major": 2,
       "version_minor": 0
      },
      "text/plain": [
       "  0%|          | 0/5 [00:00<?, ?it/s]"
      ]
     },
     "metadata": {},
     "output_type": "display_data"
    },
    {
     "name": "stdout",
     "output_type": "stream",
     "text": [
      "nlms pre-convergence training iteration #0\n",
      "nlms MSE = 0.016220.\n",
      "nlms pre-convergence training iteration #1\n",
      "nlms MSE = 0.002402.\n",
      "nlms pre-convergence training iteration #2\n",
      "nlms MSE = 0.002367.\n",
      "nlms pre-convergence training iteration #3\n",
      "nlms MSE = 0.002336.\n",
      "nlms pre-convergence training iteration #4\n",
      "nlms MSE = 0.002308.\n",
      "\n",
      "\n",
      "dd-lms - training stage #1\n",
      "dd-lms MSE = 0.001859.\n",
      "Results:\n",
      "\n",
      "SER: 1.66e-03\n",
      "BER: 2.83e-04\n",
      "SNR: 27.16 dB\n",
      "MI: 5.97 bits\n",
      "GMI: 5.97 bits\n",
      "channel 0\t fc : 193.1000 THz\n",
      "  mode #0\t power: 0.00 dBm\n",
      "channel 0\t power: 0.00 dBm\n",
      "\n",
      "total WDM dignal power: 0.00 dBm\n",
      "Demodulating channel #0 , fc: 193.1000 THz, λ: 1552.5244 nm\n",
      "\n",
      "Local oscillator P: 12.00 dBm, lw: 0.00 kHz, FO: 21000.00 MHz\n",
      "CSPR = 12.00 dB\n",
      "\n",
      "\n",
      "nlms - training stage #0\n"
     ]
    },
    {
     "data": {
      "application/vnd.jupyter.widget-view+json": {
       "model_id": "a08aba0d41374ca0b3b2607880a0a54a",
       "version_major": 2,
       "version_minor": 0
      },
      "text/plain": [
       "  0%|          | 0/5 [00:00<?, ?it/s]"
      ]
     },
     "metadata": {},
     "output_type": "display_data"
    },
    {
     "name": "stdout",
     "output_type": "stream",
     "text": [
      "nlms pre-convergence training iteration #0\n",
      "nlms MSE = 0.015709.\n",
      "nlms pre-convergence training iteration #1\n",
      "nlms MSE = 0.002782.\n",
      "nlms pre-convergence training iteration #2\n",
      "nlms MSE = 0.002739.\n",
      "nlms pre-convergence training iteration #3\n",
      "nlms MSE = 0.002700.\n",
      "nlms pre-convergence training iteration #4\n",
      "nlms MSE = 0.002662.\n",
      "\n",
      "\n",
      "dd-lms - training stage #1\n",
      "dd-lms MSE = 0.002019.\n",
      "Results:\n",
      "\n",
      "SER: 1.58e-03\n",
      "BER: 2.72e-04\n",
      "SNR: 26.77 dB\n",
      "MI: 5.98 bits\n",
      "GMI: 5.98 bits\n",
      "channel 0\t fc : 193.1000 THz\n",
      "  mode #0\t power: 0.00 dBm\n",
      "channel 0\t power: -0.00 dBm\n",
      "\n",
      "total WDM dignal power: -0.00 dBm\n",
      "Demodulating channel #0 , fc: 193.1000 THz, λ: 1552.5244 nm\n",
      "\n",
      "Local oscillator P: 12.00 dBm, lw: 0.00 kHz, FO: 21000.00 MHz\n",
      "CSPR = 12.00 dB\n",
      "\n",
      "\n",
      "nlms - training stage #0\n"
     ]
    },
    {
     "data": {
      "application/vnd.jupyter.widget-view+json": {
       "model_id": "8b5c4f416bd84698ae88aac2509c1168",
       "version_major": 2,
       "version_minor": 0
      },
      "text/plain": [
       "  0%|          | 0/5 [00:00<?, ?it/s]"
      ]
     },
     "metadata": {},
     "output_type": "display_data"
    },
    {
     "name": "stdout",
     "output_type": "stream",
     "text": [
      "nlms pre-convergence training iteration #0\n",
      "nlms MSE = 0.015355.\n",
      "nlms pre-convergence training iteration #1\n",
      "nlms MSE = 0.003626.\n",
      "nlms pre-convergence training iteration #2\n",
      "nlms MSE = 0.003482.\n",
      "nlms pre-convergence training iteration #3\n",
      "nlms MSE = 0.003354.\n",
      "nlms pre-convergence training iteration #4\n",
      "nlms MSE = 0.003241.\n",
      "\n",
      "\n",
      "dd-lms - training stage #1\n",
      "dd-lms MSE = 0.002407.\n",
      "Results:\n",
      "\n",
      "SER: 2.19e-03\n",
      "BER: 3.78e-04\n",
      "SNR: 26.00 dB\n",
      "MI: 5.98 bits\n",
      "GMI: 5.98 bits\n",
      "channel 0\t fc : 193.1000 THz\n",
      "  mode #0\t power: 0.00 dBm\n",
      "channel 0\t power: -0.00 dBm\n",
      "\n",
      "total WDM dignal power: -0.00 dBm\n",
      "Demodulating channel #0 , fc: 193.1000 THz, λ: 1552.5244 nm\n",
      "\n",
      "Local oscillator P: 12.00 dBm, lw: 0.00 kHz, FO: 21000.00 MHz\n",
      "CSPR = 12.00 dB\n",
      "\n",
      "\n",
      "nlms - training stage #0\n"
     ]
    },
    {
     "data": {
      "application/vnd.jupyter.widget-view+json": {
       "model_id": "29deee7a6fba4482aa6585d92dde60bf",
       "version_major": 2,
       "version_minor": 0
      },
      "text/plain": [
       "  0%|          | 0/5 [00:00<?, ?it/s]"
      ]
     },
     "metadata": {},
     "output_type": "display_data"
    },
    {
     "name": "stdout",
     "output_type": "stream",
     "text": [
      "nlms pre-convergence training iteration #0\n",
      "nlms MSE = 0.017536.\n",
      "nlms pre-convergence training iteration #1\n",
      "nlms MSE = 0.005503.\n",
      "nlms pre-convergence training iteration #2\n",
      "nlms MSE = 0.004933.\n",
      "nlms pre-convergence training iteration #3\n",
      "nlms MSE = 0.004518.\n",
      "nlms pre-convergence training iteration #4\n",
      "nlms MSE = 0.004212.\n",
      "\n",
      "\n",
      "dd-lms - training stage #1\n",
      "dd-lms MSE = 0.002895.\n",
      "Results:\n",
      "\n",
      "SER: 3.29e-03\n",
      "BER: 5.70e-04\n",
      "SNR: 25.19 dB\n",
      "MI: 5.97 bits\n",
      "GMI: 5.97 bits\n",
      "channel 0\t fc : 193.1000 THz\n",
      "  mode #0\t power: 0.00 dBm\n",
      "channel 0\t power: 0.00 dBm\n",
      "\n",
      "total WDM dignal power: 0.00 dBm\n",
      "Demodulating channel #0 , fc: 193.1000 THz, λ: 1552.5244 nm\n",
      "\n",
      "Local oscillator P: 12.00 dBm, lw: 0.00 kHz, FO: 21000.00 MHz\n",
      "CSPR = 12.00 dB\n",
      "\n",
      "\n",
      "nlms - training stage #0\n"
     ]
    },
    {
     "data": {
      "application/vnd.jupyter.widget-view+json": {
       "model_id": "0da132c3e76f4b18943752baf3b0e9aa",
       "version_major": 2,
       "version_minor": 0
      },
      "text/plain": [
       "  0%|          | 0/5 [00:00<?, ?it/s]"
      ]
     },
     "metadata": {},
     "output_type": "display_data"
    },
    {
     "name": "stdout",
     "output_type": "stream",
     "text": [
      "nlms pre-convergence training iteration #0\n",
      "nlms MSE = 0.019937.\n",
      "nlms pre-convergence training iteration #1\n",
      "nlms MSE = 0.007050.\n",
      "nlms pre-convergence training iteration #2\n",
      "nlms MSE = 0.005784.\n",
      "nlms pre-convergence training iteration #3\n",
      "nlms MSE = 0.005070.\n",
      "nlms pre-convergence training iteration #4\n",
      "nlms MSE = 0.004647.\n",
      "\n",
      "\n",
      "dd-lms - training stage #1\n",
      "dd-lms MSE = 0.003598.\n",
      "Results:\n",
      "\n",
      "SER: 5.30e-03\n",
      "BER: 9.06e-04\n",
      "SNR: 24.28 dB\n",
      "MI: 5.96 bits\n",
      "GMI: 5.96 bits\n",
      "channel 0\t fc : 193.1000 THz\n",
      "  mode #0\t power: 0.00 dBm\n",
      "channel 0\t power: -0.00 dBm\n",
      "\n",
      "total WDM dignal power: -0.00 dBm\n",
      "Demodulating channel #0 , fc: 193.1000 THz, λ: 1552.5244 nm\n",
      "\n",
      "Local oscillator P: 12.00 dBm, lw: 0.00 kHz, FO: 21000.00 MHz\n",
      "CSPR = 12.00 dB\n",
      "\n",
      "\n",
      "nlms - training stage #0\n"
     ]
    },
    {
     "data": {
      "application/vnd.jupyter.widget-view+json": {
       "model_id": "a2a398c0dabf46f4944ec8c0f12e2405",
       "version_major": 2,
       "version_minor": 0
      },
      "text/plain": [
       "  0%|          | 0/5 [00:00<?, ?it/s]"
      ]
     },
     "metadata": {},
     "output_type": "display_data"
    },
    {
     "name": "stdout",
     "output_type": "stream",
     "text": [
      "nlms pre-convergence training iteration #0\n",
      "nlms MSE = 0.023931.\n",
      "nlms pre-convergence training iteration #1\n",
      "nlms MSE = 0.009327.\n",
      "nlms pre-convergence training iteration #2\n",
      "nlms MSE = 0.007412.\n",
      "nlms pre-convergence training iteration #3\n",
      "nlms MSE = 0.006521.\n",
      "nlms pre-convergence training iteration #4\n",
      "nlms MSE = 0.006051.\n",
      "\n",
      "\n",
      "dd-lms - training stage #1\n",
      "dd-lms MSE = 0.004467.\n",
      "Results:\n",
      "\n",
      "SER: 8.92e-03\n",
      "BER: 1.50e-03\n",
      "SNR: 23.36 dB\n",
      "MI: 5.95 bits\n",
      "GMI: 5.95 bits\n",
      "channel 0\t fc : 193.1000 THz\n",
      "  mode #0\t power: 0.00 dBm\n",
      "channel 0\t power: 0.00 dBm\n",
      "\n",
      "total WDM dignal power: 0.00 dBm\n",
      "Demodulating channel #0 , fc: 193.1000 THz, λ: 1552.5244 nm\n",
      "\n",
      "Local oscillator P: 12.00 dBm, lw: 0.00 kHz, FO: 21000.00 MHz\n",
      "CSPR = 12.00 dB\n",
      "\n",
      "\n",
      "nlms - training stage #0\n"
     ]
    },
    {
     "data": {
      "application/vnd.jupyter.widget-view+json": {
       "model_id": "b6492aa49a514e33840c47b534db9cd0",
       "version_major": 2,
       "version_minor": 0
      },
      "text/plain": [
       "  0%|          | 0/5 [00:00<?, ?it/s]"
      ]
     },
     "metadata": {},
     "output_type": "display_data"
    },
    {
     "name": "stdout",
     "output_type": "stream",
     "text": [
      "nlms pre-convergence training iteration #0\n",
      "nlms MSE = 0.027862.\n",
      "nlms pre-convergence training iteration #1\n",
      "nlms MSE = 0.011231.\n",
      "nlms pre-convergence training iteration #2\n",
      "nlms MSE = 0.008808.\n",
      "nlms pre-convergence training iteration #3\n",
      "nlms MSE = 0.007802.\n",
      "nlms pre-convergence training iteration #4\n",
      "nlms MSE = 0.007279.\n",
      "\n",
      "\n",
      "dd-lms - training stage #1\n",
      "dd-lms MSE = 0.005352.\n",
      "Results:\n",
      "\n",
      "SER: 1.60e-02\n",
      "BER: 2.74e-03\n",
      "SNR: 22.46 dB\n",
      "MI: 5.91 bits\n",
      "GMI: 5.91 bits\n",
      "channel 0\t fc : 193.1000 THz\n",
      "  mode #0\t power: 0.00 dBm\n",
      "channel 0\t power: 0.00 dBm\n",
      "\n",
      "total WDM dignal power: 0.00 dBm\n",
      "Demodulating channel #0 , fc: 193.1000 THz, λ: 1552.5244 nm\n",
      "\n",
      "Local oscillator P: 12.00 dBm, lw: 0.00 kHz, FO: 17000.00 MHz\n",
      "CSPR = 12.00 dB\n",
      "\n",
      "\n",
      "nlms - training stage #0\n"
     ]
    },
    {
     "data": {
      "application/vnd.jupyter.widget-view+json": {
       "model_id": "6d78f0466fe04074a23da00e213be48e",
       "version_major": 2,
       "version_minor": 0
      },
      "text/plain": [
       "  0%|          | 0/5 [00:00<?, ?it/s]"
      ]
     },
     "metadata": {},
     "output_type": "display_data"
    },
    {
     "name": "stdout",
     "output_type": "stream",
     "text": [
      "nlms pre-convergence training iteration #0\n",
      "nlms MSE = 0.022539.\n",
      "nlms pre-convergence training iteration #1\n",
      "nlms MSE = 0.002600.\n",
      "nlms pre-convergence training iteration #2\n",
      "nlms MSE = 0.002197.\n",
      "nlms pre-convergence training iteration #3\n",
      "nlms MSE = 0.001966.\n",
      "nlms pre-convergence training iteration #4\n",
      "nlms MSE = 0.001813.\n",
      "\n",
      "\n",
      "dd-lms - training stage #1\n",
      "dd-lms MSE = 0.000973.\n",
      "Results:\n",
      "\n",
      "SER: 4.22e-04\n",
      "BER: 7.04e-05\n",
      "SNR: 29.88 dB\n",
      "MI: 5.99 bits\n",
      "GMI: 5.99 bits\n",
      "channel 0\t fc : 193.1000 THz\n",
      "  mode #0\t power: 0.00 dBm\n",
      "channel 0\t power: -0.00 dBm\n",
      "\n",
      "total WDM dignal power: -0.00 dBm\n",
      "Demodulating channel #0 , fc: 193.1000 THz, λ: 1552.5244 nm\n",
      "\n",
      "Local oscillator P: 12.00 dBm, lw: 0.00 kHz, FO: 17000.00 MHz\n",
      "CSPR = 12.00 dB\n",
      "\n",
      "\n",
      "nlms - training stage #0\n"
     ]
    },
    {
     "data": {
      "application/vnd.jupyter.widget-view+json": {
       "model_id": "f8a18db9c9f14c288796e5e5aedee222",
       "version_major": 2,
       "version_minor": 0
      },
      "text/plain": [
       "  0%|          | 0/5 [00:00<?, ?it/s]"
      ]
     },
     "metadata": {},
     "output_type": "display_data"
    },
    {
     "name": "stdout",
     "output_type": "stream",
     "text": [
      "nlms pre-convergence training iteration #0\n",
      "nlms MSE = 0.019999.\n",
      "nlms pre-convergence training iteration #1\n",
      "nlms MSE = 0.002478.\n",
      "nlms pre-convergence training iteration #2\n",
      "nlms MSE = 0.002029.\n",
      "nlms pre-convergence training iteration #3\n",
      "nlms MSE = 0.001796.\n",
      "nlms pre-convergence training iteration #4\n",
      "nlms MSE = 0.001654.\n",
      "\n",
      "\n",
      "dd-lms - training stage #1\n",
      "dd-lms MSE = 0.001167.\n",
      "Results:\n",
      "\n",
      "SER: 5.00e-04\n",
      "BER: 8.33e-05\n",
      "SNR: 29.23 dB\n",
      "MI: 5.99 bits\n",
      "GMI: 5.99 bits\n",
      "channel 0\t fc : 193.1000 THz\n",
      "  mode #0\t power: 0.00 dBm\n",
      "channel 0\t power: 0.00 dBm\n",
      "\n",
      "total WDM dignal power: 0.00 dBm\n",
      "Demodulating channel #0 , fc: 193.1000 THz, λ: 1552.5244 nm\n",
      "\n",
      "Local oscillator P: 12.00 dBm, lw: 0.00 kHz, FO: 17000.00 MHz\n",
      "CSPR = 12.00 dB\n",
      "\n",
      "\n",
      "nlms - training stage #0\n"
     ]
    },
    {
     "data": {
      "application/vnd.jupyter.widget-view+json": {
       "model_id": "1eb961c1e77a4b9fa2b560940891ceb4",
       "version_major": 2,
       "version_minor": 0
      },
      "text/plain": [
       "  0%|          | 0/5 [00:00<?, ?it/s]"
      ]
     },
     "metadata": {},
     "output_type": "display_data"
    },
    {
     "name": "stdout",
     "output_type": "stream",
     "text": [
      "nlms pre-convergence training iteration #0\n",
      "nlms MSE = 0.022398.\n",
      "nlms pre-convergence training iteration #1\n",
      "nlms MSE = 0.005437.\n",
      "nlms pre-convergence training iteration #2\n",
      "nlms MSE = 0.004758.\n",
      "nlms pre-convergence training iteration #3\n",
      "nlms MSE = 0.004377.\n",
      "nlms pre-convergence training iteration #4\n",
      "nlms MSE = 0.004125.\n",
      "\n",
      "\n",
      "dd-lms - training stage #1\n",
      "dd-lms MSE = 0.003053.\n",
      "Results:\n",
      "\n",
      "SER: 1.93e-03\n",
      "BER: 3.26e-04\n",
      "SNR: 25.16 dB\n",
      "MI: 5.98 bits\n",
      "GMI: 5.99 bits\n",
      "channel 0\t fc : 193.1000 THz\n",
      "  mode #0\t power: 0.00 dBm\n",
      "channel 0\t power: 0.00 dBm\n",
      "\n",
      "total WDM dignal power: 0.00 dBm\n",
      "Demodulating channel #0 , fc: 193.1000 THz, λ: 1552.5244 nm\n",
      "\n",
      "Local oscillator P: 12.00 dBm, lw: 0.00 kHz, FO: 17000.00 MHz\n",
      "CSPR = 12.00 dB\n",
      "\n",
      "\n",
      "nlms - training stage #0\n"
     ]
    },
    {
     "data": {
      "application/vnd.jupyter.widget-view+json": {
       "model_id": "7711304167d4401b9f01d67e39b72976",
       "version_major": 2,
       "version_minor": 0
      },
      "text/plain": [
       "  0%|          | 0/5 [00:00<?, ?it/s]"
      ]
     },
     "metadata": {},
     "output_type": "display_data"
    },
    {
     "name": "stdout",
     "output_type": "stream",
     "text": [
      "nlms pre-convergence training iteration #0\n",
      "nlms MSE = 0.027595.\n",
      "nlms pre-convergence training iteration #1\n",
      "nlms MSE = 0.008744.\n",
      "nlms pre-convergence training iteration #2\n",
      "nlms MSE = 0.007251.\n",
      "nlms pre-convergence training iteration #3\n",
      "nlms MSE = 0.006466.\n",
      "nlms pre-convergence training iteration #4\n",
      "nlms MSE = 0.005963.\n",
      "\n",
      "\n",
      "dd-lms - training stage #1\n",
      "dd-lms MSE = 0.004030.\n",
      "Results:\n",
      "\n",
      "SER: 6.52e-03\n",
      "BER: 1.10e-03\n",
      "SNR: 23.86 dB\n",
      "MI: 5.96 bits\n",
      "GMI: 5.96 bits\n",
      "channel 0\t fc : 193.1000 THz\n",
      "  mode #0\t power: 0.00 dBm\n",
      "channel 0\t power: 0.00 dBm\n",
      "\n",
      "total WDM dignal power: 0.00 dBm\n",
      "Demodulating channel #0 , fc: 193.1000 THz, λ: 1552.5244 nm\n",
      "\n",
      "Local oscillator P: 12.00 dBm, lw: 0.00 kHz, FO: 17000.00 MHz\n",
      "CSPR = 12.00 dB\n",
      "\n",
      "\n",
      "nlms - training stage #0\n"
     ]
    },
    {
     "data": {
      "application/vnd.jupyter.widget-view+json": {
       "model_id": "d062254e85524169959f1daa4ce529c1",
       "version_major": 2,
       "version_minor": 0
      },
      "text/plain": [
       "  0%|          | 0/5 [00:00<?, ?it/s]"
      ]
     },
     "metadata": {},
     "output_type": "display_data"
    },
    {
     "name": "stdout",
     "output_type": "stream",
     "text": [
      "nlms pre-convergence training iteration #0\n",
      "nlms MSE = 0.032970.\n",
      "nlms pre-convergence training iteration #1\n",
      "nlms MSE = 0.011675.\n",
      "nlms pre-convergence training iteration #2\n",
      "nlms MSE = 0.009314.\n",
      "nlms pre-convergence training iteration #3\n",
      "nlms MSE = 0.008180.\n",
      "nlms pre-convergence training iteration #4\n",
      "nlms MSE = 0.007492.\n",
      "\n",
      "\n",
      "dd-lms - training stage #1\n",
      "dd-lms MSE = 0.005195.\n",
      "Results:\n",
      "\n",
      "SER: 1.50e-02\n",
      "BER: 2.55e-03\n",
      "SNR: 22.66 dB\n",
      "MI: 5.92 bits\n",
      "GMI: 5.92 bits\n",
      "channel 0\t fc : 193.1000 THz\n",
      "  mode #0\t power: 0.00 dBm\n",
      "channel 0\t power: 0.00 dBm\n",
      "\n",
      "total WDM dignal power: 0.00 dBm\n",
      "Demodulating channel #0 , fc: 193.1000 THz, λ: 1552.5244 nm\n",
      "\n",
      "Local oscillator P: 12.00 dBm, lw: 0.00 kHz, FO: 17000.00 MHz\n",
      "CSPR = 12.00 dB\n",
      "\n",
      "\n",
      "nlms - training stage #0\n"
     ]
    },
    {
     "data": {
      "application/vnd.jupyter.widget-view+json": {
       "model_id": "b14b6b6ac4184bd29815ff1103d61cd6",
       "version_major": 2,
       "version_minor": 0
      },
      "text/plain": [
       "  0%|          | 0/5 [00:00<?, ?it/s]"
      ]
     },
     "metadata": {},
     "output_type": "display_data"
    },
    {
     "name": "stdout",
     "output_type": "stream",
     "text": [
      "nlms pre-convergence training iteration #0\n",
      "nlms MSE = 0.038761.\n",
      "nlms pre-convergence training iteration #1\n",
      "nlms MSE = 0.014502.\n",
      "nlms pre-convergence training iteration #2\n",
      "nlms MSE = 0.011475.\n",
      "nlms pre-convergence training iteration #3\n",
      "nlms MSE = 0.010074.\n",
      "nlms pre-convergence training iteration #4\n",
      "nlms MSE = 0.009236.\n",
      "\n",
      "\n",
      "dd-lms - training stage #1\n",
      "dd-lms MSE = 0.006522.\n",
      "Results:\n",
      "\n",
      "SER: 3.08e-02\n",
      "BER: 5.25e-03\n",
      "SNR: 21.49 dB\n",
      "MI: 5.85 bits\n",
      "GMI: 5.85 bits\n",
      "channel 0\t fc : 193.1000 THz\n",
      "  mode #0\t power: 0.00 dBm\n",
      "channel 0\t power: -0.00 dBm\n",
      "\n",
      "total WDM dignal power: -0.00 dBm\n",
      "Demodulating channel #0 , fc: 193.1000 THz, λ: 1552.5244 nm\n",
      "\n",
      "Local oscillator P: 12.00 dBm, lw: 0.00 kHz, FO: 17000.00 MHz\n",
      "CSPR = 12.00 dB\n",
      "\n",
      "\n",
      "nlms - training stage #0\n"
     ]
    },
    {
     "data": {
      "application/vnd.jupyter.widget-view+json": {
       "model_id": "ba6f4a3ed6d2427996705f1328bf1555",
       "version_major": 2,
       "version_minor": 0
      },
      "text/plain": [
       "  0%|          | 0/5 [00:00<?, ?it/s]"
      ]
     },
     "metadata": {},
     "output_type": "display_data"
    },
    {
     "name": "stdout",
     "output_type": "stream",
     "text": [
      "nlms pre-convergence training iteration #0\n",
      "nlms MSE = 0.044411.\n",
      "nlms pre-convergence training iteration #1\n",
      "nlms MSE = 0.017976.\n",
      "nlms pre-convergence training iteration #2\n",
      "nlms MSE = 0.014270.\n",
      "nlms pre-convergence training iteration #3\n",
      "nlms MSE = 0.012554.\n",
      "nlms pre-convergence training iteration #4\n",
      "nlms MSE = 0.011529.\n",
      "\n",
      "\n",
      "dd-lms - training stage #1\n",
      "dd-lms MSE = 0.007951.\n",
      "Results:\n",
      "\n",
      "SER: 5.40e-02\n",
      "BER: 9.30e-03\n",
      "SNR: 20.39 dB\n",
      "MI: 5.75 bits\n",
      "GMI: 5.75 bits\n",
      "channel 0\t fc : 193.1000 THz\n",
      "  mode #0\t power: 0.00 dBm\n",
      "channel 0\t power: 0.00 dBm\n",
      "\n",
      "total WDM dignal power: 0.00 dBm\n",
      "Demodulating channel #0 , fc: 193.1000 THz, λ: 1552.5244 nm\n",
      "\n",
      "Local oscillator P: 12.00 dBm, lw: 0.00 kHz, FO: 17000.00 MHz\n",
      "CSPR = 12.00 dB\n",
      "\n",
      "\n",
      "nlms - training stage #0\n"
     ]
    },
    {
     "data": {
      "application/vnd.jupyter.widget-view+json": {
       "model_id": "baa6517bde804d0ebb1f40b3d1bc9b69",
       "version_major": 2,
       "version_minor": 0
      },
      "text/plain": [
       "  0%|          | 0/5 [00:00<?, ?it/s]"
      ]
     },
     "metadata": {},
     "output_type": "display_data"
    },
    {
     "name": "stdout",
     "output_type": "stream",
     "text": [
      "nlms pre-convergence training iteration #0\n",
      "nlms MSE = 0.050932.\n",
      "nlms pre-convergence training iteration #1\n",
      "nlms MSE = 0.021474.\n",
      "nlms pre-convergence training iteration #2\n",
      "nlms MSE = 0.017073.\n",
      "nlms pre-convergence training iteration #3\n",
      "nlms MSE = 0.015042.\n",
      "nlms pre-convergence training iteration #4\n",
      "nlms MSE = 0.013831.\n",
      "\n",
      "\n",
      "dd-lms - training stage #1\n",
      "dd-lms MSE = 0.009275.\n",
      "Results:\n",
      "\n",
      "SER: 7.99e-02\n",
      "BER: 1.39e-02\n",
      "SNR: 19.47 dB\n",
      "MI: 5.64 bits\n",
      "GMI: 5.64 bits\n",
      "channel 0\t fc : 193.1000 THz\n",
      "  mode #0\t power: 0.00 dBm\n",
      "channel 0\t power: -0.00 dBm\n",
      "\n",
      "total WDM dignal power: -0.00 dBm\n",
      "Demodulating channel #0 , fc: 193.1000 THz, λ: 1552.5244 nm\n",
      "\n",
      "Local oscillator P: 12.00 dBm, lw: 0.00 kHz, FO: 17000.00 MHz\n",
      "CSPR = 12.00 dB\n",
      "\n",
      "\n",
      "nlms - training stage #0\n"
     ]
    },
    {
     "data": {
      "application/vnd.jupyter.widget-view+json": {
       "model_id": "fba2c14499e64834b24020fed7e6786f",
       "version_major": 2,
       "version_minor": 0
      },
      "text/plain": [
       "  0%|          | 0/5 [00:00<?, ?it/s]"
      ]
     },
     "metadata": {},
     "output_type": "display_data"
    },
    {
     "name": "stdout",
     "output_type": "stream",
     "text": [
      "nlms pre-convergence training iteration #0\n",
      "nlms MSE = 0.057179.\n",
      "nlms pre-convergence training iteration #1\n",
      "nlms MSE = 0.025335.\n",
      "nlms pre-convergence training iteration #2\n",
      "nlms MSE = 0.020205.\n",
      "nlms pre-convergence training iteration #3\n",
      "nlms MSE = 0.017813.\n",
      "nlms pre-convergence training iteration #4\n",
      "nlms MSE = 0.016373.\n",
      "\n",
      "\n",
      "dd-lms - training stage #1\n",
      "dd-lms MSE = 0.010601.\n",
      "Results:\n",
      "\n",
      "SER: 1.18e-01\n",
      "BER: 2.07e-02\n",
      "SNR: 18.59 dB\n",
      "MI: 5.49 bits\n",
      "GMI: 5.49 bits\n",
      "channel 0\t fc : 193.1000 THz\n",
      "  mode #0\t power: 0.00 dBm\n",
      "channel 0\t power: 0.00 dBm\n",
      "\n",
      "total WDM dignal power: 0.00 dBm\n",
      "Demodulating channel #0 , fc: 193.1000 THz, λ: 1552.5244 nm\n",
      "\n",
      "Local oscillator P: 12.00 dBm, lw: 0.00 kHz, FO: 17000.00 MHz\n",
      "CSPR = 12.00 dB\n",
      "\n",
      "\n",
      "nlms - training stage #0\n"
     ]
    },
    {
     "data": {
      "application/vnd.jupyter.widget-view+json": {
       "model_id": "c28f25adf5934c2299168dcacc6ccdf8",
       "version_major": 2,
       "version_minor": 0
      },
      "text/plain": [
       "  0%|          | 0/5 [00:00<?, ?it/s]"
      ]
     },
     "metadata": {},
     "output_type": "display_data"
    },
    {
     "name": "stdout",
     "output_type": "stream",
     "text": [
      "nlms pre-convergence training iteration #0\n",
      "nlms MSE = 0.063679.\n",
      "nlms pre-convergence training iteration #1\n",
      "nlms MSE = 0.029204.\n",
      "nlms pre-convergence training iteration #2\n",
      "nlms MSE = 0.023405.\n",
      "nlms pre-convergence training iteration #3\n",
      "nlms MSE = 0.020658.\n",
      "nlms pre-convergence training iteration #4\n",
      "nlms MSE = 0.018978.\n",
      "\n",
      "\n",
      "dd-lms - training stage #1\n",
      "dd-lms MSE = 0.011780.\n",
      "Results:\n",
      "\n",
      "SER: 1.59e-01\n",
      "BER: 2.82e-02\n",
      "SNR: 17.78 dB\n",
      "MI: 5.33 bits\n",
      "GMI: 5.33 bits\n",
      "channel 0\t fc : 193.1000 THz\n",
      "  mode #0\t power: 0.00 dBm\n",
      "channel 0\t power: -0.00 dBm\n",
      "\n",
      "total WDM dignal power: -0.00 dBm\n",
      "Demodulating channel #0 , fc: 193.1000 THz, λ: 1552.5244 nm\n",
      "\n",
      "Local oscillator P: 12.00 dBm, lw: 0.00 kHz, FO: 18000.00 MHz\n",
      "CSPR = 12.00 dB\n",
      "\n",
      "\n",
      "nlms - training stage #0\n"
     ]
    },
    {
     "data": {
      "application/vnd.jupyter.widget-view+json": {
       "model_id": "8ad07c96d8124de6b55e8edc09a72e74",
       "version_major": 2,
       "version_minor": 0
      },
      "text/plain": [
       "  0%|          | 0/5 [00:00<?, ?it/s]"
      ]
     },
     "metadata": {},
     "output_type": "display_data"
    },
    {
     "name": "stdout",
     "output_type": "stream",
     "text": [
      "nlms pre-convergence training iteration #0\n",
      "nlms MSE = 0.022764.\n",
      "nlms pre-convergence training iteration #1\n",
      "nlms MSE = 0.002429.\n",
      "nlms pre-convergence training iteration #2\n",
      "nlms MSE = 0.002024.\n",
      "nlms pre-convergence training iteration #3\n",
      "nlms MSE = 0.001795.\n",
      "nlms pre-convergence training iteration #4\n",
      "nlms MSE = 0.001643.\n",
      "\n",
      "\n",
      "dd-lms - training stage #1\n",
      "dd-lms MSE = 0.001100.\n",
      "Results:\n",
      "\n",
      "SER: 5.78e-04\n",
      "BER: 1.04e-04\n",
      "SNR: 29.34 dB\n",
      "MI: 5.98 bits\n",
      "GMI: 5.98 bits\n",
      "channel 0\t fc : 193.1000 THz\n",
      "  mode #0\t power: 0.00 dBm\n",
      "channel 0\t power: -0.00 dBm\n",
      "\n",
      "total WDM dignal power: -0.00 dBm\n",
      "Demodulating channel #0 , fc: 193.1000 THz, λ: 1552.5244 nm\n",
      "\n",
      "Local oscillator P: 12.00 dBm, lw: 0.00 kHz, FO: 18000.00 MHz\n",
      "CSPR = 12.00 dB\n",
      "\n",
      "\n",
      "nlms - training stage #0\n"
     ]
    },
    {
     "data": {
      "application/vnd.jupyter.widget-view+json": {
       "model_id": "f5678920e8a847628ee818d726c0b298",
       "version_major": 2,
       "version_minor": 0
      },
      "text/plain": [
       "  0%|          | 0/5 [00:00<?, ?it/s]"
      ]
     },
     "metadata": {},
     "output_type": "display_data"
    },
    {
     "name": "stdout",
     "output_type": "stream",
     "text": [
      "nlms pre-convergence training iteration #0\n",
      "nlms MSE = 0.020202.\n",
      "nlms pre-convergence training iteration #1\n",
      "nlms MSE = 0.002545.\n",
      "nlms pre-convergence training iteration #2\n",
      "nlms MSE = 0.002080.\n",
      "nlms pre-convergence training iteration #3\n",
      "nlms MSE = 0.001833.\n",
      "nlms pre-convergence training iteration #4\n",
      "nlms MSE = 0.001680.\n",
      "\n",
      "\n",
      "dd-lms - training stage #1\n",
      "dd-lms MSE = 0.000988.\n",
      "Results:\n",
      "\n",
      "SER: 5.56e-04\n",
      "BER: 9.44e-05\n",
      "SNR: 29.78 dB\n",
      "MI: 5.99 bits\n",
      "GMI: 5.99 bits\n",
      "channel 0\t fc : 193.1000 THz\n",
      "  mode #0\t power: 0.00 dBm\n",
      "channel 0\t power: 0.00 dBm\n",
      "\n",
      "total WDM dignal power: 0.00 dBm\n",
      "Demodulating channel #0 , fc: 193.1000 THz, λ: 1552.5244 nm\n",
      "\n",
      "Local oscillator P: 12.00 dBm, lw: 0.00 kHz, FO: 18000.00 MHz\n",
      "CSPR = 12.00 dB\n",
      "\n",
      "\n",
      "nlms - training stage #0\n"
     ]
    },
    {
     "data": {
      "application/vnd.jupyter.widget-view+json": {
       "model_id": "e6bbaa5a8f04447ea8eaec84884b9dfa",
       "version_major": 2,
       "version_minor": 0
      },
      "text/plain": [
       "  0%|          | 0/5 [00:00<?, ?it/s]"
      ]
     },
     "metadata": {},
     "output_type": "display_data"
    },
    {
     "name": "stdout",
     "output_type": "stream",
     "text": [
      "nlms pre-convergence training iteration #0\n",
      "nlms MSE = 0.017869.\n",
      "nlms pre-convergence training iteration #1\n",
      "nlms MSE = 0.002643.\n",
      "nlms pre-convergence training iteration #2\n",
      "nlms MSE = 0.002437.\n",
      "nlms pre-convergence training iteration #3\n",
      "nlms MSE = 0.002296.\n",
      "nlms pre-convergence training iteration #4\n",
      "nlms MSE = 0.002194.\n",
      "\n",
      "\n",
      "dd-lms - training stage #1\n",
      "dd-lms MSE = 0.001469.\n",
      "Results:\n",
      "\n",
      "SER: 4.56e-04\n",
      "BER: 7.59e-05\n",
      "SNR: 28.28 dB\n",
      "MI: 5.99 bits\n",
      "GMI: 5.99 bits\n",
      "channel 0\t fc : 193.1000 THz\n",
      "  mode #0\t power: 0.00 dBm\n",
      "channel 0\t power: 0.00 dBm\n",
      "\n",
      "total WDM dignal power: 0.00 dBm\n",
      "Demodulating channel #0 , fc: 193.1000 THz, λ: 1552.5244 nm\n",
      "\n",
      "Local oscillator P: 12.00 dBm, lw: 0.00 kHz, FO: 18000.00 MHz\n",
      "CSPR = 12.00 dB\n",
      "\n",
      "\n",
      "nlms - training stage #0\n"
     ]
    },
    {
     "data": {
      "application/vnd.jupyter.widget-view+json": {
       "model_id": "1d64ab81b20d4c3a9e47f7510ba6578c",
       "version_major": 2,
       "version_minor": 0
      },
      "text/plain": [
       "  0%|          | 0/5 [00:00<?, ?it/s]"
      ]
     },
     "metadata": {},
     "output_type": "display_data"
    },
    {
     "name": "stdout",
     "output_type": "stream",
     "text": [
      "nlms pre-convergence training iteration #0\n",
      "nlms MSE = 0.019892.\n",
      "nlms pre-convergence training iteration #1\n",
      "nlms MSE = 0.004713.\n",
      "nlms pre-convergence training iteration #2\n",
      "nlms MSE = 0.004136.\n",
      "nlms pre-convergence training iteration #3\n",
      "nlms MSE = 0.003755.\n",
      "nlms pre-convergence training iteration #4\n",
      "nlms MSE = 0.003480.\n",
      "\n",
      "\n",
      "dd-lms - training stage #1\n",
      "dd-lms MSE = 0.002293.\n",
      "Results:\n",
      "\n",
      "SER: 1.10e-03\n",
      "BER: 1.91e-04\n",
      "SNR: 26.30 dB\n",
      "MI: 5.99 bits\n",
      "GMI: 5.99 bits\n",
      "channel 0\t fc : 193.1000 THz\n",
      "  mode #0\t power: 0.00 dBm\n",
      "channel 0\t power: 0.00 dBm\n",
      "\n",
      "total WDM dignal power: 0.00 dBm\n",
      "Demodulating channel #0 , fc: 193.1000 THz, λ: 1552.5244 nm\n",
      "\n",
      "Local oscillator P: 12.00 dBm, lw: 0.00 kHz, FO: 18000.00 MHz\n",
      "CSPR = 12.00 dB\n",
      "\n",
      "\n",
      "nlms - training stage #0\n"
     ]
    },
    {
     "data": {
      "application/vnd.jupyter.widget-view+json": {
       "model_id": "b33170c2f2e74067adc4f63d22967a34",
       "version_major": 2,
       "version_minor": 0
      },
      "text/plain": [
       "  0%|          | 0/5 [00:00<?, ?it/s]"
      ]
     },
     "metadata": {},
     "output_type": "display_data"
    },
    {
     "name": "stdout",
     "output_type": "stream",
     "text": [
      "nlms pre-convergence training iteration #0\n",
      "nlms MSE = 0.024267.\n",
      "nlms pre-convergence training iteration #1\n",
      "nlms MSE = 0.007408.\n",
      "nlms pre-convergence training iteration #2\n",
      "nlms MSE = 0.005857.\n",
      "nlms pre-convergence training iteration #3\n",
      "nlms MSE = 0.005019.\n",
      "nlms pre-convergence training iteration #4\n",
      "nlms MSE = 0.004504.\n",
      "\n",
      "\n",
      "dd-lms - training stage #1\n",
      "dd-lms MSE = 0.003098.\n",
      "Results:\n",
      "\n",
      "SER: 2.37e-03\n",
      "BER: 4.00e-04\n",
      "SNR: 25.02 dB\n",
      "MI: 5.98 bits\n",
      "GMI: 5.98 bits\n",
      "channel 0\t fc : 193.1000 THz\n",
      "  mode #0\t power: 0.00 dBm\n",
      "channel 0\t power: -0.00 dBm\n",
      "\n",
      "total WDM dignal power: -0.00 dBm\n",
      "Demodulating channel #0 , fc: 193.1000 THz, λ: 1552.5244 nm\n",
      "\n",
      "Local oscillator P: 12.00 dBm, lw: 0.00 kHz, FO: 18000.00 MHz\n",
      "CSPR = 12.00 dB\n",
      "\n",
      "\n",
      "nlms - training stage #0\n"
     ]
    },
    {
     "data": {
      "application/vnd.jupyter.widget-view+json": {
       "model_id": "82c9935b174848059b0cd4ff90c9504d",
       "version_major": 2,
       "version_minor": 0
      },
      "text/plain": [
       "  0%|          | 0/5 [00:00<?, ?it/s]"
      ]
     },
     "metadata": {},
     "output_type": "display_data"
    },
    {
     "name": "stdout",
     "output_type": "stream",
     "text": [
      "nlms pre-convergence training iteration #0\n",
      "nlms MSE = 0.028882.\n",
      "nlms pre-convergence training iteration #1\n",
      "nlms MSE = 0.009801.\n",
      "nlms pre-convergence training iteration #2\n",
      "nlms MSE = 0.007537.\n",
      "nlms pre-convergence training iteration #3\n",
      "nlms MSE = 0.006524.\n",
      "nlms pre-convergence training iteration #4\n",
      "nlms MSE = 0.005963.\n",
      "\n",
      "\n",
      "dd-lms - training stage #1\n",
      "dd-lms MSE = 0.004220.\n",
      "Results:\n",
      "\n",
      "SER: 6.81e-03\n",
      "BER: 1.15e-03\n",
      "SNR: 23.68 dB\n",
      "MI: 5.96 bits\n",
      "GMI: 5.96 bits\n",
      "channel 0\t fc : 193.1000 THz\n",
      "  mode #0\t power: 0.00 dBm\n",
      "channel 0\t power: -0.00 dBm\n",
      "\n",
      "total WDM dignal power: -0.00 dBm\n",
      "Demodulating channel #0 , fc: 193.1000 THz, λ: 1552.5244 nm\n",
      "\n",
      "Local oscillator P: 12.00 dBm, lw: 0.00 kHz, FO: 18000.00 MHz\n",
      "CSPR = 12.00 dB\n",
      "\n",
      "\n",
      "nlms - training stage #0\n"
     ]
    },
    {
     "data": {
      "application/vnd.jupyter.widget-view+json": {
       "model_id": "aa82c5b88f98425988c3a21fee7f1a17",
       "version_major": 2,
       "version_minor": 0
      },
      "text/plain": [
       "  0%|          | 0/5 [00:00<?, ?it/s]"
      ]
     },
     "metadata": {},
     "output_type": "display_data"
    },
    {
     "name": "stdout",
     "output_type": "stream",
     "text": [
      "nlms pre-convergence training iteration #0\n",
      "nlms MSE = 0.034528.\n",
      "nlms pre-convergence training iteration #1\n",
      "nlms MSE = 0.012523.\n",
      "nlms pre-convergence training iteration #2\n",
      "nlms MSE = 0.009585.\n",
      "nlms pre-convergence training iteration #3\n",
      "nlms MSE = 0.008327.\n",
      "nlms pre-convergence training iteration #4\n",
      "nlms MSE = 0.007631.\n",
      "\n",
      "\n",
      "dd-lms - training stage #1\n",
      "dd-lms MSE = 0.005393.\n",
      "Results:\n",
      "\n",
      "SER: 1.52e-02\n",
      "BER: 2.58e-03\n",
      "SNR: 22.48 dB\n",
      "MI: 5.92 bits\n",
      "GMI: 5.92 bits\n",
      "channel 0\t fc : 193.1000 THz\n",
      "  mode #0\t power: 0.00 dBm\n",
      "channel 0\t power: -0.00 dBm\n",
      "\n",
      "total WDM dignal power: -0.00 dBm\n",
      "Demodulating channel #0 , fc: 193.1000 THz, λ: 1552.5244 nm\n",
      "\n",
      "Local oscillator P: 12.00 dBm, lw: 0.00 kHz, FO: 18000.00 MHz\n",
      "CSPR = 12.00 dB\n",
      "\n",
      "\n",
      "nlms - training stage #0\n"
     ]
    },
    {
     "data": {
      "application/vnd.jupyter.widget-view+json": {
       "model_id": "b3bfc8fece6446b1afc2a29e6c18f9d0",
       "version_major": 2,
       "version_minor": 0
      },
      "text/plain": [
       "  0%|          | 0/5 [00:00<?, ?it/s]"
      ]
     },
     "metadata": {},
     "output_type": "display_data"
    },
    {
     "name": "stdout",
     "output_type": "stream",
     "text": [
      "nlms pre-convergence training iteration #0\n",
      "nlms MSE = 0.039779.\n",
      "nlms pre-convergence training iteration #1\n",
      "nlms MSE = 0.015327.\n",
      "nlms pre-convergence training iteration #2\n",
      "nlms MSE = 0.011773.\n",
      "nlms pre-convergence training iteration #3\n",
      "nlms MSE = 0.010291.\n",
      "nlms pre-convergence training iteration #4\n",
      "nlms MSE = 0.009471.\n",
      "\n",
      "\n",
      "dd-lms - training stage #1\n",
      "dd-lms MSE = 0.006731.\n",
      "Results:\n",
      "\n",
      "SER: 3.07e-02\n",
      "BER: 5.24e-03\n",
      "SNR: 21.34 dB\n",
      "MI: 5.85 bits\n",
      "GMI: 5.86 bits\n",
      "channel 0\t fc : 193.1000 THz\n",
      "  mode #0\t power: 0.00 dBm\n",
      "channel 0\t power: 0.00 dBm\n",
      "\n",
      "total WDM dignal power: 0.00 dBm\n",
      "Demodulating channel #0 , fc: 193.1000 THz, λ: 1552.5244 nm\n",
      "\n",
      "Local oscillator P: 12.00 dBm, lw: 0.00 kHz, FO: 18000.00 MHz\n",
      "CSPR = 12.00 dB\n",
      "\n",
      "\n",
      "nlms - training stage #0\n"
     ]
    },
    {
     "data": {
      "application/vnd.jupyter.widget-view+json": {
       "model_id": "5643d4e531104fe48976dd78293f8002",
       "version_major": 2,
       "version_minor": 0
      },
      "text/plain": [
       "  0%|          | 0/5 [00:00<?, ?it/s]"
      ]
     },
     "metadata": {},
     "output_type": "display_data"
    },
    {
     "name": "stdout",
     "output_type": "stream",
     "text": [
      "nlms pre-convergence training iteration #0\n",
      "nlms MSE = 0.045599.\n",
      "nlms pre-convergence training iteration #1\n",
      "nlms MSE = 0.018876.\n",
      "nlms pre-convergence training iteration #2\n",
      "nlms MSE = 0.014732.\n",
      "nlms pre-convergence training iteration #3\n",
      "nlms MSE = 0.012924.\n",
      "nlms pre-convergence training iteration #4\n",
      "nlms MSE = 0.011882.\n",
      "\n",
      "\n",
      "dd-lms - training stage #1\n",
      "dd-lms MSE = 0.008145.\n",
      "Results:\n",
      "\n",
      "SER: 5.65e-02\n",
      "BER: 9.71e-03\n",
      "SNR: 20.27 dB\n",
      "MI: 5.75 bits\n",
      "GMI: 5.75 bits\n",
      "channel 0\t fc : 193.1000 THz\n",
      "  mode #0\t power: 0.00 dBm\n",
      "channel 0\t power: -0.00 dBm\n",
      "\n",
      "total WDM dignal power: -0.00 dBm\n",
      "Demodulating channel #0 , fc: 193.1000 THz, λ: 1552.5244 nm\n",
      "\n",
      "Local oscillator P: 12.00 dBm, lw: 0.00 kHz, FO: 18000.00 MHz\n",
      "CSPR = 12.00 dB\n",
      "\n",
      "\n",
      "nlms - training stage #0\n"
     ]
    },
    {
     "data": {
      "application/vnd.jupyter.widget-view+json": {
       "model_id": "a59b610292354ac5aed6f518d411648f",
       "version_major": 2,
       "version_minor": 0
      },
      "text/plain": [
       "  0%|          | 0/5 [00:00<?, ?it/s]"
      ]
     },
     "metadata": {},
     "output_type": "display_data"
    },
    {
     "name": "stdout",
     "output_type": "stream",
     "text": [
      "nlms pre-convergence training iteration #0\n",
      "nlms MSE = 0.050898.\n",
      "nlms pre-convergence training iteration #1\n",
      "nlms MSE = 0.022097.\n",
      "nlms pre-convergence training iteration #2\n",
      "nlms MSE = 0.017281.\n",
      "nlms pre-convergence training iteration #3\n",
      "nlms MSE = 0.015105.\n",
      "nlms pre-convergence training iteration #4\n",
      "nlms MSE = 0.013818.\n",
      "\n",
      "\n",
      "dd-lms - training stage #1\n",
      "dd-lms MSE = 0.009462.\n",
      "Results:\n",
      "\n",
      "SER: 8.24e-02\n",
      "BER: 1.42e-02\n",
      "SNR: 19.38 dB\n",
      "MI: 5.64 bits\n",
      "GMI: 5.64 bits\n",
      "channel 0\t fc : 193.1000 THz\n",
      "  mode #0\t power: 0.00 dBm\n",
      "channel 0\t power: -0.00 dBm\n",
      "\n",
      "total WDM dignal power: -0.00 dBm\n",
      "Demodulating channel #0 , fc: 193.1000 THz, λ: 1552.5244 nm\n",
      "\n",
      "Local oscillator P: 12.00 dBm, lw: 0.00 kHz, FO: 19000.00 MHz\n",
      "CSPR = 12.00 dB\n",
      "\n",
      "\n",
      "nlms - training stage #0\n"
     ]
    },
    {
     "data": {
      "application/vnd.jupyter.widget-view+json": {
       "model_id": "9c71aa4b07df4baa80d47f2130584d0d",
       "version_major": 2,
       "version_minor": 0
      },
      "text/plain": [
       "  0%|          | 0/5 [00:00<?, ?it/s]"
      ]
     },
     "metadata": {},
     "output_type": "display_data"
    },
    {
     "name": "stdout",
     "output_type": "stream",
     "text": [
      "nlms pre-convergence training iteration #0\n",
      "nlms MSE = 0.022445.\n",
      "nlms pre-convergence training iteration #1\n",
      "nlms MSE = 0.002593.\n",
      "nlms pre-convergence training iteration #2\n",
      "nlms MSE = 0.002181.\n",
      "nlms pre-convergence training iteration #3\n",
      "nlms MSE = 0.001944.\n",
      "nlms pre-convergence training iteration #4\n",
      "nlms MSE = 0.001789.\n",
      "\n",
      "\n",
      "dd-lms - training stage #1\n",
      "dd-lms MSE = 0.001221.\n",
      "Results:\n",
      "\n",
      "SER: 6.56e-04\n",
      "BER: 1.13e-04\n",
      "SNR: 28.85 dB\n",
      "MI: 5.98 bits\n",
      "GMI: 5.98 bits\n",
      "channel 0\t fc : 193.1000 THz\n",
      "  mode #0\t power: 0.00 dBm\n",
      "channel 0\t power: -0.00 dBm\n",
      "\n",
      "total WDM dignal power: -0.00 dBm\n",
      "Demodulating channel #0 , fc: 193.1000 THz, λ: 1552.5244 nm\n",
      "\n",
      "Local oscillator P: 12.00 dBm, lw: 0.00 kHz, FO: 19000.00 MHz\n",
      "CSPR = 12.00 dB\n",
      "\n",
      "\n",
      "nlms - training stage #0\n"
     ]
    },
    {
     "data": {
      "application/vnd.jupyter.widget-view+json": {
       "model_id": "e7af697b781243d5873af48853ac9263",
       "version_major": 2,
       "version_minor": 0
      },
      "text/plain": [
       "  0%|          | 0/5 [00:00<?, ?it/s]"
      ]
     },
     "metadata": {},
     "output_type": "display_data"
    },
    {
     "name": "stdout",
     "output_type": "stream",
     "text": [
      "nlms pre-convergence training iteration #0\n",
      "nlms MSE = 0.020103.\n",
      "nlms pre-convergence training iteration #1\n",
      "nlms MSE = 0.002471.\n",
      "nlms pre-convergence training iteration #2\n",
      "nlms MSE = 0.002009.\n",
      "nlms pre-convergence training iteration #3\n",
      "nlms MSE = 0.001762.\n",
      "nlms pre-convergence training iteration #4\n",
      "nlms MSE = 0.001610.\n",
      "\n",
      "\n",
      "dd-lms - training stage #1\n",
      "dd-lms MSE = 0.001182.\n",
      "Results:\n",
      "\n",
      "SER: 6.56e-04\n",
      "BER: 1.09e-04\n",
      "SNR: 29.08 dB\n",
      "MI: 5.98 bits\n",
      "GMI: 5.98 bits\n",
      "channel 0\t fc : 193.1000 THz\n",
      "  mode #0\t power: 0.00 dBm\n",
      "channel 0\t power: 0.00 dBm\n",
      "\n",
      "total WDM dignal power: 0.00 dBm\n",
      "Demodulating channel #0 , fc: 193.1000 THz, λ: 1552.5244 nm\n",
      "\n",
      "Local oscillator P: 12.00 dBm, lw: 0.00 kHz, FO: 19000.00 MHz\n",
      "CSPR = 12.00 dB\n",
      "\n",
      "\n",
      "nlms - training stage #0\n"
     ]
    },
    {
     "data": {
      "application/vnd.jupyter.widget-view+json": {
       "model_id": "96cc0369af88450bad73a112f5ac3a6e",
       "version_major": 2,
       "version_minor": 0
      },
      "text/plain": [
       "  0%|          | 0/5 [00:00<?, ?it/s]"
      ]
     },
     "metadata": {},
     "output_type": "display_data"
    },
    {
     "name": "stdout",
     "output_type": "stream",
     "text": [
      "nlms pre-convergence training iteration #0\n",
      "nlms MSE = 0.017527.\n",
      "nlms pre-convergence training iteration #1\n",
      "nlms MSE = 0.002323.\n",
      "nlms pre-convergence training iteration #2\n",
      "nlms MSE = 0.002140.\n",
      "nlms pre-convergence training iteration #3\n",
      "nlms MSE = 0.002012.\n",
      "nlms pre-convergence training iteration #4\n",
      "nlms MSE = 0.001919.\n",
      "\n",
      "\n",
      "dd-lms - training stage #1\n",
      "dd-lms MSE = 0.001264.\n",
      "Results:\n",
      "\n",
      "SER: 7.56e-04\n",
      "BER: 1.30e-04\n",
      "SNR: 28.78 dB\n",
      "MI: 5.98 bits\n",
      "GMI: 5.98 bits\n",
      "channel 0\t fc : 193.1000 THz\n",
      "  mode #0\t power: 0.00 dBm\n",
      "channel 0\t power: -0.00 dBm\n",
      "\n",
      "total WDM dignal power: -0.00 dBm\n",
      "Demodulating channel #0 , fc: 193.1000 THz, λ: 1552.5244 nm\n",
      "\n",
      "Local oscillator P: 12.00 dBm, lw: 0.00 kHz, FO: 19000.00 MHz\n",
      "CSPR = 12.00 dB\n",
      "\n",
      "\n",
      "nlms - training stage #0\n"
     ]
    },
    {
     "data": {
      "application/vnd.jupyter.widget-view+json": {
       "model_id": "68d2604fbec14e84bf6d1e07f1f82d96",
       "version_major": 2,
       "version_minor": 0
      },
      "text/plain": [
       "  0%|          | 0/5 [00:00<?, ?it/s]"
      ]
     },
     "metadata": {},
     "output_type": "display_data"
    },
    {
     "name": "stdout",
     "output_type": "stream",
     "text": [
      "nlms pre-convergence training iteration #0\n",
      "nlms MSE = 0.016748.\n",
      "nlms pre-convergence training iteration #1\n",
      "nlms MSE = 0.002673.\n",
      "nlms pre-convergence training iteration #2\n",
      "nlms MSE = 0.002594.\n",
      "nlms pre-convergence training iteration #3\n",
      "nlms MSE = 0.002525.\n",
      "nlms pre-convergence training iteration #4\n",
      "nlms MSE = 0.002464.\n",
      "\n",
      "\n",
      "dd-lms - training stage #1\n",
      "dd-lms MSE = 0.001729.\n",
      "Results:\n",
      "\n",
      "SER: 9.22e-04\n",
      "BER: 1.57e-04\n",
      "SNR: 27.52 dB\n",
      "MI: 5.99 bits\n",
      "GMI: 5.99 bits\n",
      "channel 0\t fc : 193.1000 THz\n",
      "  mode #0\t power: 0.00 dBm\n",
      "channel 0\t power: -0.00 dBm\n",
      "\n",
      "total WDM dignal power: -0.00 dBm\n",
      "Demodulating channel #0 , fc: 193.1000 THz, λ: 1552.5244 nm\n",
      "\n",
      "Local oscillator P: 12.00 dBm, lw: 0.00 kHz, FO: 19000.00 MHz\n",
      "CSPR = 12.00 dB\n",
      "\n",
      "\n",
      "nlms - training stage #0\n"
     ]
    },
    {
     "data": {
      "application/vnd.jupyter.widget-view+json": {
       "model_id": "08f91e0fe38245b8b138f3109df7b860",
       "version_major": 2,
       "version_minor": 0
      },
      "text/plain": [
       "  0%|          | 0/5 [00:00<?, ?it/s]"
      ]
     },
     "metadata": {},
     "output_type": "display_data"
    },
    {
     "name": "stdout",
     "output_type": "stream",
     "text": [
      "nlms pre-convergence training iteration #0\n",
      "nlms MSE = 0.018475.\n",
      "nlms pre-convergence training iteration #1\n",
      "nlms MSE = 0.004875.\n",
      "nlms pre-convergence training iteration #2\n",
      "nlms MSE = 0.004284.\n",
      "nlms pre-convergence training iteration #3\n",
      "nlms MSE = 0.003873.\n",
      "nlms pre-convergence training iteration #4\n",
      "nlms MSE = 0.003574.\n",
      "\n",
      "\n",
      "dd-lms - training stage #1\n",
      "dd-lms MSE = 0.002197.\n",
      "Results:\n",
      "\n",
      "SER: 1.68e-03\n",
      "BER: 2.85e-04\n",
      "SNR: 26.44 dB\n",
      "MI: 5.98 bits\n",
      "GMI: 5.98 bits\n",
      "channel 0\t fc : 193.1000 THz\n",
      "  mode #0\t power: 0.00 dBm\n",
      "channel 0\t power: 0.00 dBm\n",
      "\n",
      "total WDM dignal power: 0.00 dBm\n",
      "Demodulating channel #0 , fc: 193.1000 THz, λ: 1552.5244 nm\n",
      "\n",
      "Local oscillator P: 12.00 dBm, lw: 0.00 kHz, FO: 19000.00 MHz\n",
      "CSPR = 12.00 dB\n",
      "\n",
      "\n",
      "nlms - training stage #0\n"
     ]
    },
    {
     "data": {
      "application/vnd.jupyter.widget-view+json": {
       "model_id": "bb95b8936fac48808a15df19cb209f41",
       "version_major": 2,
       "version_minor": 0
      },
      "text/plain": [
       "  0%|          | 0/5 [00:00<?, ?it/s]"
      ]
     },
     "metadata": {},
     "output_type": "display_data"
    },
    {
     "name": "stdout",
     "output_type": "stream",
     "text": [
      "nlms pre-convergence training iteration #0\n",
      "nlms MSE = 0.022056.\n",
      "nlms pre-convergence training iteration #1\n",
      "nlms MSE = 0.006919.\n",
      "nlms pre-convergence training iteration #2\n",
      "nlms MSE = 0.005470.\n",
      "nlms pre-convergence training iteration #3\n",
      "nlms MSE = 0.004710.\n",
      "nlms pre-convergence training iteration #4\n",
      "nlms MSE = 0.004272.\n",
      "\n",
      "\n",
      "dd-lms - training stage #1\n",
      "dd-lms MSE = 0.002989.\n",
      "Results:\n",
      "\n",
      "SER: 2.32e-03\n",
      "BER: 3.93e-04\n",
      "SNR: 25.25 dB\n",
      "MI: 5.98 bits\n",
      "GMI: 5.98 bits\n",
      "channel 0\t fc : 193.1000 THz\n",
      "  mode #0\t power: 0.00 dBm\n",
      "channel 0\t power: -0.00 dBm\n",
      "\n",
      "total WDM dignal power: -0.00 dBm\n",
      "Demodulating channel #0 , fc: 193.1000 THz, λ: 1552.5244 nm\n",
      "\n",
      "Local oscillator P: 12.00 dBm, lw: 0.00 kHz, FO: 19000.00 MHz\n",
      "CSPR = 12.00 dB\n",
      "\n",
      "\n",
      "nlms - training stage #0\n"
     ]
    },
    {
     "data": {
      "application/vnd.jupyter.widget-view+json": {
       "model_id": "3b7b7eb89b40410299833c01035de078",
       "version_major": 2,
       "version_minor": 0
      },
      "text/plain": [
       "  0%|          | 0/5 [00:00<?, ?it/s]"
      ]
     },
     "metadata": {},
     "output_type": "display_data"
    },
    {
     "name": "stdout",
     "output_type": "stream",
     "text": [
      "nlms pre-convergence training iteration #0\n",
      "nlms MSE = 0.026026.\n",
      "nlms pre-convergence training iteration #1\n",
      "nlms MSE = 0.008651.\n",
      "nlms pre-convergence training iteration #2\n",
      "nlms MSE = 0.006528.\n",
      "nlms pre-convergence training iteration #3\n",
      "nlms MSE = 0.005613.\n",
      "nlms pre-convergence training iteration #4\n",
      "nlms MSE = 0.005144.\n",
      "\n",
      "\n",
      "dd-lms - training stage #1\n",
      "dd-lms MSE = 0.003941.\n",
      "Results:\n",
      "\n",
      "SER: 5.39e-03\n",
      "BER: 9.20e-04\n",
      "SNR: 24.00 dB\n",
      "MI: 5.96 bits\n",
      "GMI: 5.97 bits\n",
      "channel 0\t fc : 193.1000 THz\n",
      "  mode #0\t power: 0.00 dBm\n",
      "channel 0\t power: -0.00 dBm\n",
      "\n",
      "total WDM dignal power: -0.00 dBm\n",
      "Demodulating channel #0 , fc: 193.1000 THz, λ: 1552.5244 nm\n",
      "\n",
      "Local oscillator P: 12.00 dBm, lw: 0.00 kHz, FO: 19000.00 MHz\n",
      "CSPR = 12.00 dB\n",
      "\n",
      "\n",
      "nlms - training stage #0\n"
     ]
    },
    {
     "data": {
      "application/vnd.jupyter.widget-view+json": {
       "model_id": "1fb90b6a50d54f839959f5d50a69e784",
       "version_major": 2,
       "version_minor": 0
      },
      "text/plain": [
       "  0%|          | 0/5 [00:00<?, ?it/s]"
      ]
     },
     "metadata": {},
     "output_type": "display_data"
    },
    {
     "name": "stdout",
     "output_type": "stream",
     "text": [
      "nlms pre-convergence training iteration #0\n",
      "nlms MSE = 0.030936.\n",
      "nlms pre-convergence training iteration #1\n",
      "nlms MSE = 0.011186.\n",
      "nlms pre-convergence training iteration #2\n",
      "nlms MSE = 0.008601.\n",
      "nlms pre-convergence training iteration #3\n",
      "nlms MSE = 0.007565.\n",
      "nlms pre-convergence training iteration #4\n",
      "nlms MSE = 0.007016.\n",
      "\n",
      "\n",
      "dd-lms - training stage #1\n",
      "dd-lms MSE = 0.005138.\n",
      "Results:\n",
      "\n",
      "SER: 1.43e-02\n",
      "BER: 2.44e-03\n",
      "SNR: 22.72 dB\n",
      "MI: 5.92 bits\n",
      "GMI: 5.92 bits\n",
      "channel 0\t fc : 193.1000 THz\n",
      "  mode #0\t power: 0.00 dBm\n",
      "channel 0\t power: -0.00 dBm\n",
      "\n",
      "total WDM dignal power: -0.00 dBm\n",
      "Demodulating channel #0 , fc: 193.1000 THz, λ: 1552.5244 nm\n",
      "\n",
      "Local oscillator P: 12.00 dBm, lw: 0.00 kHz, FO: 19000.00 MHz\n",
      "CSPR = 12.00 dB\n",
      "\n",
      "\n",
      "nlms - training stage #0\n"
     ]
    },
    {
     "data": {
      "application/vnd.jupyter.widget-view+json": {
       "model_id": "7d6f83aca5ac4761932efb782107d09c",
       "version_major": 2,
       "version_minor": 0
      },
      "text/plain": [
       "  0%|          | 0/5 [00:00<?, ?it/s]"
      ]
     },
     "metadata": {},
     "output_type": "display_data"
    },
    {
     "name": "stdout",
     "output_type": "stream",
     "text": [
      "nlms pre-convergence training iteration #0\n",
      "nlms MSE = 0.035964.\n",
      "nlms pre-convergence training iteration #1\n",
      "nlms MSE = 0.013738.\n",
      "nlms pre-convergence training iteration #2\n",
      "nlms MSE = 0.010562.\n",
      "nlms pre-convergence training iteration #3\n",
      "nlms MSE = 0.009270.\n",
      "nlms pre-convergence training iteration #4\n",
      "nlms MSE = 0.008562.\n",
      "\n",
      "\n",
      "dd-lms - training stage #1\n",
      "dd-lms MSE = 0.006307.\n",
      "Results:\n",
      "\n",
      "SER: 2.44e-02\n",
      "BER: 4.14e-03\n",
      "SNR: 21.70 dB\n",
      "MI: 5.88 bits\n",
      "GMI: 5.88 bits\n",
      "channel 0\t fc : 193.1000 THz\n",
      "  mode #0\t power: 0.00 dBm\n",
      "channel 0\t power: 0.00 dBm\n",
      "\n",
      "total WDM dignal power: 0.00 dBm\n",
      "Demodulating channel #0 , fc: 193.1000 THz, λ: 1552.5244 nm\n",
      "\n",
      "Local oscillator P: 12.00 dBm, lw: 0.00 kHz, FO: 19000.00 MHz\n",
      "CSPR = 12.00 dB\n",
      "\n",
      "\n",
      "nlms - training stage #0\n"
     ]
    },
    {
     "data": {
      "application/vnd.jupyter.widget-view+json": {
       "model_id": "fd9152694864432baa17d9111e9f5f40",
       "version_major": 2,
       "version_minor": 0
      },
      "text/plain": [
       "  0%|          | 0/5 [00:00<?, ?it/s]"
      ]
     },
     "metadata": {},
     "output_type": "display_data"
    },
    {
     "name": "stdout",
     "output_type": "stream",
     "text": [
      "nlms pre-convergence training iteration #0\n",
      "nlms MSE = 0.041240.\n",
      "nlms pre-convergence training iteration #1\n",
      "nlms MSE = 0.016727.\n",
      "nlms pre-convergence training iteration #2\n",
      "nlms MSE = 0.012979.\n",
      "nlms pre-convergence training iteration #3\n",
      "nlms MSE = 0.011413.\n",
      "nlms pre-convergence training iteration #4\n",
      "nlms MSE = 0.010522.\n",
      "\n",
      "\n",
      "dd-lms - training stage #1\n",
      "dd-lms MSE = 0.007492.\n",
      "Results:\n",
      "\n",
      "SER: 4.24e-02\n",
      "BER: 7.26e-03\n",
      "SNR: 20.77 dB\n",
      "MI: 5.80 bits\n",
      "GMI: 5.80 bits\n",
      "channel 0\t fc : 193.1000 THz\n",
      "  mode #0\t power: 0.00 dBm\n",
      "channel 0\t power: 0.00 dBm\n",
      "\n",
      "total WDM dignal power: 0.00 dBm\n",
      "Demodulating channel #0 , fc: 193.1000 THz, λ: 1552.5244 nm\n",
      "\n",
      "Local oscillator P: 12.00 dBm, lw: 0.00 kHz, FO: 20000.00 MHz\n",
      "CSPR = 12.00 dB\n",
      "\n",
      "\n",
      "nlms - training stage #0\n"
     ]
    },
    {
     "data": {
      "application/vnd.jupyter.widget-view+json": {
       "model_id": "cf9cf0009c474897b6cea8b47f6c9b49",
       "version_major": 2,
       "version_minor": 0
      },
      "text/plain": [
       "  0%|          | 0/5 [00:00<?, ?it/s]"
      ]
     },
     "metadata": {},
     "output_type": "display_data"
    },
    {
     "name": "stdout",
     "output_type": "stream",
     "text": [
      "nlms pre-convergence training iteration #0\n",
      "nlms MSE = 0.022478.\n",
      "nlms pre-convergence training iteration #1\n",
      "nlms MSE = 0.002938.\n",
      "nlms pre-convergence training iteration #2\n",
      "nlms MSE = 0.002518.\n",
      "nlms pre-convergence training iteration #3\n",
      "nlms MSE = 0.002278.\n",
      "nlms pre-convergence training iteration #4\n",
      "nlms MSE = 0.002118.\n",
      "\n",
      "\n",
      "dd-lms - training stage #1\n",
      "dd-lms MSE = 0.001473.\n",
      "Results:\n",
      "\n",
      "SER: 9.67e-04\n",
      "BER: 1.65e-04\n",
      "SNR: 28.14 dB\n",
      "MI: 5.98 bits\n",
      "GMI: 5.99 bits\n",
      "channel 0\t fc : 193.1000 THz\n",
      "  mode #0\t power: 0.00 dBm\n",
      "channel 0\t power: 0.00 dBm\n",
      "\n",
      "total WDM dignal power: 0.00 dBm\n",
      "Demodulating channel #0 , fc: 193.1000 THz, λ: 1552.5244 nm\n",
      "\n",
      "Local oscillator P: 12.00 dBm, lw: 0.00 kHz, FO: 20000.00 MHz\n",
      "CSPR = 12.00 dB\n",
      "\n",
      "\n",
      "nlms - training stage #0\n"
     ]
    },
    {
     "data": {
      "application/vnd.jupyter.widget-view+json": {
       "model_id": "1316f7f6ec85422d82a81fe95b6e891a",
       "version_major": 2,
       "version_minor": 0
      },
      "text/plain": [
       "  0%|          | 0/5 [00:00<?, ?it/s]"
      ]
     },
     "metadata": {},
     "output_type": "display_data"
    },
    {
     "name": "stdout",
     "output_type": "stream",
     "text": [
      "nlms pre-convergence training iteration #0\n",
      "nlms MSE = 0.020076.\n",
      "nlms pre-convergence training iteration #1\n",
      "nlms MSE = 0.002801.\n",
      "nlms pre-convergence training iteration #2\n",
      "nlms MSE = 0.002333.\n",
      "nlms pre-convergence training iteration #3\n",
      "nlms MSE = 0.002084.\n",
      "nlms pre-convergence training iteration #4\n",
      "nlms MSE = 0.001931.\n",
      "\n",
      "\n",
      "dd-lms - training stage #1\n",
      "dd-lms MSE = 0.001385.\n",
      "Results:\n",
      "\n",
      "SER: 1.03e-03\n",
      "BER: 1.74e-04\n",
      "SNR: 28.42 dB\n",
      "MI: 5.98 bits\n",
      "GMI: 5.98 bits\n",
      "channel 0\t fc : 193.1000 THz\n",
      "  mode #0\t power: 0.00 dBm\n",
      "channel 0\t power: -0.00 dBm\n",
      "\n",
      "total WDM dignal power: -0.00 dBm\n",
      "Demodulating channel #0 , fc: 193.1000 THz, λ: 1552.5244 nm\n",
      "\n",
      "Local oscillator P: 12.00 dBm, lw: 0.00 kHz, FO: 20000.00 MHz\n",
      "CSPR = 12.00 dB\n",
      "\n",
      "\n",
      "nlms - training stage #0\n"
     ]
    },
    {
     "data": {
      "application/vnd.jupyter.widget-view+json": {
       "model_id": "6732c85c0d164c129e2635aa365b0909",
       "version_major": 2,
       "version_minor": 0
      },
      "text/plain": [
       "  0%|          | 0/5 [00:00<?, ?it/s]"
      ]
     },
     "metadata": {},
     "output_type": "display_data"
    },
    {
     "name": "stdout",
     "output_type": "stream",
     "text": [
      "nlms pre-convergence training iteration #0\n",
      "nlms MSE = 0.017637.\n",
      "nlms pre-convergence training iteration #1\n",
      "nlms MSE = 0.002392.\n",
      "nlms pre-convergence training iteration #2\n",
      "nlms MSE = 0.002213.\n",
      "nlms pre-convergence training iteration #3\n",
      "nlms MSE = 0.002089.\n",
      "nlms pre-convergence training iteration #4\n",
      "nlms MSE = 0.001998.\n",
      "\n",
      "\n",
      "dd-lms - training stage #1\n",
      "dd-lms MSE = 0.001452.\n",
      "Results:\n",
      "\n",
      "SER: 1.01e-03\n",
      "BER: 1.70e-04\n",
      "SNR: 28.16 dB\n",
      "MI: 5.98 bits\n",
      "GMI: 5.98 bits\n",
      "channel 0\t fc : 193.1000 THz\n",
      "  mode #0\t power: 0.00 dBm\n",
      "channel 0\t power: -0.00 dBm\n",
      "\n",
      "total WDM dignal power: -0.00 dBm\n",
      "Demodulating channel #0 , fc: 193.1000 THz, λ: 1552.5244 nm\n",
      "\n",
      "Local oscillator P: 12.00 dBm, lw: 0.00 kHz, FO: 20000.00 MHz\n",
      "CSPR = 12.00 dB\n",
      "\n",
      "\n",
      "nlms - training stage #0\n"
     ]
    },
    {
     "data": {
      "application/vnd.jupyter.widget-view+json": {
       "model_id": "c1f83aab0ee14abaa5b4c2dabb238d2a",
       "version_major": 2,
       "version_minor": 0
      },
      "text/plain": [
       "  0%|          | 0/5 [00:00<?, ?it/s]"
      ]
     },
     "metadata": {},
     "output_type": "display_data"
    },
    {
     "name": "stdout",
     "output_type": "stream",
     "text": [
      "nlms pre-convergence training iteration #0\n",
      "nlms MSE = 0.015957.\n",
      "nlms pre-convergence training iteration #1\n",
      "nlms MSE = 0.002178.\n",
      "nlms pre-convergence training iteration #2\n",
      "nlms MSE = 0.002143.\n",
      "nlms pre-convergence training iteration #3\n",
      "nlms MSE = 0.002111.\n",
      "nlms pre-convergence training iteration #4\n",
      "nlms MSE = 0.002083.\n",
      "\n",
      "\n",
      "dd-lms - training stage #1\n",
      "dd-lms MSE = 0.001652.\n",
      "Results:\n",
      "\n",
      "SER: 1.02e-03\n",
      "BER: 1.70e-04\n",
      "SNR: 27.70 dB\n",
      "MI: 5.98 bits\n",
      "GMI: 5.98 bits\n",
      "channel 0\t fc : 193.1000 THz\n",
      "  mode #0\t power: 0.00 dBm\n",
      "channel 0\t power: -0.00 dBm\n",
      "\n",
      "total WDM dignal power: -0.00 dBm\n",
      "Demodulating channel #0 , fc: 193.1000 THz, λ: 1552.5244 nm\n",
      "\n",
      "Local oscillator P: 12.00 dBm, lw: 0.00 kHz, FO: 20000.00 MHz\n",
      "CSPR = 12.00 dB\n",
      "\n",
      "\n",
      "nlms - training stage #0\n"
     ]
    },
    {
     "data": {
      "application/vnd.jupyter.widget-view+json": {
       "model_id": "94f0b1f31eee4ce1b2a1ff87bbf3d44f",
       "version_major": 2,
       "version_minor": 0
      },
      "text/plain": [
       "  0%|          | 0/5 [00:00<?, ?it/s]"
      ]
     },
     "metadata": {},
     "output_type": "display_data"
    },
    {
     "name": "stdout",
     "output_type": "stream",
     "text": [
      "nlms pre-convergence training iteration #0\n",
      "nlms MSE = 0.016059.\n",
      "nlms pre-convergence training iteration #1\n",
      "nlms MSE = 0.003250.\n",
      "nlms pre-convergence training iteration #2\n",
      "nlms MSE = 0.003131.\n",
      "nlms pre-convergence training iteration #3\n",
      "nlms MSE = 0.003026.\n",
      "nlms pre-convergence training iteration #4\n",
      "nlms MSE = 0.002933.\n",
      "\n",
      "\n",
      "dd-lms - training stage #1\n",
      "dd-lms MSE = 0.001987.\n",
      "Results:\n",
      "\n",
      "SER: 1.27e-03\n",
      "BER: 2.13e-04\n",
      "SNR: 26.81 dB\n",
      "MI: 5.98 bits\n",
      "GMI: 5.98 bits\n",
      "channel 0\t fc : 193.1000 THz\n",
      "  mode #0\t power: 0.00 dBm\n",
      "channel 0\t power: -0.00 dBm\n",
      "\n",
      "total WDM dignal power: -0.00 dBm\n",
      "Demodulating channel #0 , fc: 193.1000 THz, λ: 1552.5244 nm\n",
      "\n",
      "Local oscillator P: 12.00 dBm, lw: 0.00 kHz, FO: 20000.00 MHz\n",
      "CSPR = 12.00 dB\n",
      "\n",
      "\n",
      "nlms - training stage #0\n"
     ]
    },
    {
     "data": {
      "application/vnd.jupyter.widget-view+json": {
       "model_id": "f3882d14fa8e4d4b9c9819df4fab71f8",
       "version_major": 2,
       "version_minor": 0
      },
      "text/plain": [
       "  0%|          | 0/5 [00:00<?, ?it/s]"
      ]
     },
     "metadata": {},
     "output_type": "display_data"
    },
    {
     "name": "stdout",
     "output_type": "stream",
     "text": [
      "nlms pre-convergence training iteration #0\n",
      "nlms MSE = 0.017907.\n",
      "nlms pre-convergence training iteration #1\n",
      "nlms MSE = 0.005124.\n",
      "nlms pre-convergence training iteration #2\n",
      "nlms MSE = 0.004514.\n",
      "nlms pre-convergence training iteration #3\n",
      "nlms MSE = 0.004075.\n",
      "nlms pre-convergence training iteration #4\n",
      "nlms MSE = 0.003750.\n",
      "\n",
      "\n",
      "dd-lms - training stage #1\n",
      "dd-lms MSE = 0.002508.\n",
      "Results:\n",
      "\n",
      "SER: 2.22e-03\n",
      "BER: 3.78e-04\n",
      "SNR: 25.87 dB\n",
      "MI: 5.98 bits\n",
      "GMI: 5.98 bits\n",
      "channel 0\t fc : 193.1000 THz\n",
      "  mode #0\t power: 0.00 dBm\n",
      "channel 0\t power: -0.00 dBm\n",
      "\n",
      "total WDM dignal power: -0.00 dBm\n",
      "Demodulating channel #0 , fc: 193.1000 THz, λ: 1552.5244 nm\n",
      "\n",
      "Local oscillator P: 12.00 dBm, lw: 0.00 kHz, FO: 20000.00 MHz\n",
      "CSPR = 12.00 dB\n",
      "\n",
      "\n",
      "nlms - training stage #0\n"
     ]
    },
    {
     "data": {
      "application/vnd.jupyter.widget-view+json": {
       "model_id": "e4a8eb9348294e0e90c1b1ec9b706e43",
       "version_major": 2,
       "version_minor": 0
      },
      "text/plain": [
       "  0%|          | 0/5 [00:00<?, ?it/s]"
      ]
     },
     "metadata": {},
     "output_type": "display_data"
    },
    {
     "name": "stdout",
     "output_type": "stream",
     "text": [
      "nlms pre-convergence training iteration #0\n",
      "nlms MSE = 0.020988.\n",
      "nlms pre-convergence training iteration #1\n",
      "nlms MSE = 0.007085.\n",
      "nlms pre-convergence training iteration #2\n",
      "nlms MSE = 0.005697.\n",
      "nlms pre-convergence training iteration #3\n",
      "nlms MSE = 0.004921.\n",
      "nlms pre-convergence training iteration #4\n",
      "nlms MSE = 0.004463.\n",
      "\n",
      "\n",
      "dd-lms - training stage #1\n",
      "dd-lms MSE = 0.003216.\n",
      "Results:\n",
      "\n",
      "SER: 3.79e-03\n",
      "BER: 6.39e-04\n",
      "SNR: 24.84 dB\n",
      "MI: 5.97 bits\n",
      "GMI: 5.97 bits\n",
      "channel 0\t fc : 193.1000 THz\n",
      "  mode #0\t power: 0.00 dBm\n",
      "channel 0\t power: -0.00 dBm\n",
      "\n",
      "total WDM dignal power: -0.00 dBm\n",
      "Demodulating channel #0 , fc: 193.1000 THz, λ: 1552.5244 nm\n",
      "\n",
      "Local oscillator P: 12.00 dBm, lw: 0.00 kHz, FO: 20000.00 MHz\n",
      "CSPR = 12.00 dB\n",
      "\n",
      "\n",
      "nlms - training stage #0\n"
     ]
    },
    {
     "data": {
      "application/vnd.jupyter.widget-view+json": {
       "model_id": "e7a4f6c113d84688a1bb391c72e5d07a",
       "version_major": 2,
       "version_minor": 0
      },
      "text/plain": [
       "  0%|          | 0/5 [00:00<?, ?it/s]"
      ]
     },
     "metadata": {},
     "output_type": "display_data"
    },
    {
     "name": "stdout",
     "output_type": "stream",
     "text": [
      "nlms pre-convergence training iteration #0\n",
      "nlms MSE = 0.024760.\n",
      "nlms pre-convergence training iteration #1\n",
      "nlms MSE = 0.009018.\n",
      "nlms pre-convergence training iteration #2\n",
      "nlms MSE = 0.006938.\n",
      "nlms pre-convergence training iteration #3\n",
      "nlms MSE = 0.005986.\n",
      "nlms pre-convergence training iteration #4\n",
      "nlms MSE = 0.005491.\n",
      "\n",
      "\n",
      "dd-lms - training stage #1\n",
      "dd-lms MSE = 0.004133.\n",
      "Results:\n",
      "\n",
      "SER: 7.10e-03\n",
      "BER: 1.20e-03\n",
      "SNR: 23.73 dB\n",
      "MI: 5.96 bits\n",
      "GMI: 5.96 bits\n",
      "channel 0\t fc : 193.1000 THz\n",
      "  mode #0\t power: 0.00 dBm\n",
      "channel 0\t power: -0.00 dBm\n",
      "\n",
      "total WDM dignal power: -0.00 dBm\n",
      "Demodulating channel #0 , fc: 193.1000 THz, λ: 1552.5244 nm\n",
      "\n",
      "Local oscillator P: 12.00 dBm, lw: 0.00 kHz, FO: 20000.00 MHz\n",
      "CSPR = 12.00 dB\n",
      "\n",
      "\n",
      "nlms - training stage #0\n"
     ]
    },
    {
     "data": {
      "application/vnd.jupyter.widget-view+json": {
       "model_id": "fd10d46a8e0c4a30a36e81d1e9f2a123",
       "version_major": 2,
       "version_minor": 0
      },
      "text/plain": [
       "  0%|          | 0/5 [00:00<?, ?it/s]"
      ]
     },
     "metadata": {},
     "output_type": "display_data"
    },
    {
     "name": "stdout",
     "output_type": "stream",
     "text": [
      "nlms pre-convergence training iteration #0\n",
      "nlms MSE = 0.029424.\n",
      "nlms pre-convergence training iteration #1\n",
      "nlms MSE = 0.011210.\n",
      "nlms pre-convergence training iteration #2\n",
      "nlms MSE = 0.008568.\n",
      "nlms pre-convergence training iteration #3\n",
      "nlms MSE = 0.007510.\n",
      "nlms pre-convergence training iteration #4\n",
      "nlms MSE = 0.006973.\n",
      "\n",
      "\n",
      "dd-lms - training stage #1\n",
      "dd-lms MSE = 0.005245.\n",
      "Results:\n",
      "\n",
      "SER: 1.53e-02\n",
      "BER: 2.59e-03\n",
      "SNR: 22.60 dB\n",
      "MI: 5.92 bits\n",
      "GMI: 5.92 bits\n",
      "channel 0\t fc : 193.1000 THz\n",
      "  mode #0\t power: 0.00 dBm\n",
      "channel 0\t power: 0.00 dBm\n",
      "\n",
      "total WDM dignal power: 0.00 dBm\n",
      "Demodulating channel #0 , fc: 193.1000 THz, λ: 1552.5244 nm\n",
      "\n",
      "Local oscillator P: 12.00 dBm, lw: 0.00 kHz, FO: 20000.00 MHz\n",
      "CSPR = 12.00 dB\n",
      "\n",
      "\n",
      "nlms - training stage #0\n"
     ]
    },
    {
     "data": {
      "application/vnd.jupyter.widget-view+json": {
       "model_id": "5ece5bd33525418c8837831cdf5e623a",
       "version_major": 2,
       "version_minor": 0
      },
      "text/plain": [
       "  0%|          | 0/5 [00:00<?, ?it/s]"
      ]
     },
     "metadata": {},
     "output_type": "display_data"
    },
    {
     "name": "stdout",
     "output_type": "stream",
     "text": [
      "nlms pre-convergence training iteration #0\n",
      "nlms MSE = 0.035133.\n",
      "nlms pre-convergence training iteration #1\n",
      "nlms MSE = 0.014222.\n",
      "nlms pre-convergence training iteration #2\n",
      "nlms MSE = 0.010958.\n",
      "nlms pre-convergence training iteration #3\n",
      "nlms MSE = 0.009633.\n",
      "nlms pre-convergence training iteration #4\n",
      "nlms MSE = 0.008913.\n",
      "\n",
      "\n",
      "dd-lms - training stage #1\n",
      "dd-lms MSE = 0.006228.\n",
      "Results:\n",
      "\n",
      "SER: 2.55e-02\n",
      "BER: 4.35e-03\n",
      "SNR: 21.71 dB\n",
      "MI: 5.88 bits\n",
      "GMI: 5.87 bits\n",
      "channel 0\t fc : 193.1000 THz\n",
      "  mode #0\t power: 0.00 dBm\n",
      "channel 0\t power: 0.00 dBm\n",
      "\n",
      "total WDM dignal power: 0.00 dBm\n",
      "Demodulating channel #0 , fc: 193.1000 THz, λ: 1552.5244 nm\n",
      "\n",
      "Local oscillator P: 12.00 dBm, lw: 0.00 kHz, FO: 21000.00 MHz\n",
      "CSPR = 12.00 dB\n",
      "\n",
      "\n",
      "nlms - training stage #0\n"
     ]
    },
    {
     "data": {
      "application/vnd.jupyter.widget-view+json": {
       "model_id": "b648c1685ddb43b683a9968e17139812",
       "version_major": 2,
       "version_minor": 0
      },
      "text/plain": [
       "  0%|          | 0/5 [00:00<?, ?it/s]"
      ]
     },
     "metadata": {},
     "output_type": "display_data"
    },
    {
     "name": "stdout",
     "output_type": "stream",
     "text": [
      "nlms pre-convergence training iteration #0\n",
      "nlms MSE = 0.023017.\n",
      "nlms pre-convergence training iteration #1\n",
      "nlms MSE = 0.003157.\n",
      "nlms pre-convergence training iteration #2\n",
      "nlms MSE = 0.002758.\n",
      "nlms pre-convergence training iteration #3\n",
      "nlms MSE = 0.002531.\n",
      "nlms pre-convergence training iteration #4\n",
      "nlms MSE = 0.002382.\n",
      "\n",
      "\n",
      "dd-lms - training stage #1\n",
      "dd-lms MSE = 0.001729.\n",
      "Results:\n",
      "\n",
      "SER: 1.53e-03\n",
      "BER: 2.69e-04\n",
      "SNR: 27.40 dB\n",
      "MI: 5.97 bits\n",
      "GMI: 5.97 bits\n",
      "channel 0\t fc : 193.1000 THz\n",
      "  mode #0\t power: 0.00 dBm\n",
      "channel 0\t power: 0.00 dBm\n",
      "\n",
      "total WDM dignal power: 0.00 dBm\n",
      "Demodulating channel #0 , fc: 193.1000 THz, λ: 1552.5244 nm\n",
      "\n",
      "Local oscillator P: 12.00 dBm, lw: 0.00 kHz, FO: 21000.00 MHz\n",
      "CSPR = 12.00 dB\n",
      "\n",
      "\n",
      "nlms - training stage #0\n"
     ]
    },
    {
     "data": {
      "application/vnd.jupyter.widget-view+json": {
       "model_id": "6c4877dd80c0480f89e8673b82e3c3ab",
       "version_major": 2,
       "version_minor": 0
      },
      "text/plain": [
       "  0%|          | 0/5 [00:00<?, ?it/s]"
      ]
     },
     "metadata": {},
     "output_type": "display_data"
    },
    {
     "name": "stdout",
     "output_type": "stream",
     "text": [
      "nlms pre-convergence training iteration #0\n",
      "nlms MSE = 0.020703.\n",
      "nlms pre-convergence training iteration #1\n",
      "nlms MSE = 0.003029.\n",
      "nlms pre-convergence training iteration #2\n",
      "nlms MSE = 0.002547.\n",
      "nlms pre-convergence training iteration #3\n",
      "nlms MSE = 0.002292.\n",
      "nlms pre-convergence training iteration #4\n",
      "nlms MSE = 0.002135.\n",
      "\n",
      "\n",
      "dd-lms - training stage #1\n",
      "dd-lms MSE = 0.001619.\n",
      "Results:\n",
      "\n",
      "SER: 1.31e-03\n",
      "BER: 2.22e-04\n",
      "SNR: 27.72 dB\n",
      "MI: 5.97 bits\n",
      "GMI: 5.97 bits\n",
      "channel 0\t fc : 193.1000 THz\n",
      "  mode #0\t power: 0.00 dBm\n",
      "channel 0\t power: -0.00 dBm\n",
      "\n",
      "total WDM dignal power: -0.00 dBm\n",
      "Demodulating channel #0 , fc: 193.1000 THz, λ: 1552.5244 nm\n",
      "\n",
      "Local oscillator P: 12.00 dBm, lw: 0.00 kHz, FO: 21000.00 MHz\n",
      "CSPR = 12.00 dB\n",
      "\n",
      "\n",
      "nlms - training stage #0\n"
     ]
    },
    {
     "data": {
      "application/vnd.jupyter.widget-view+json": {
       "model_id": "03df38e162574bcca411cbb15e4899ec",
       "version_major": 2,
       "version_minor": 0
      },
      "text/plain": [
       "  0%|          | 0/5 [00:00<?, ?it/s]"
      ]
     },
     "metadata": {},
     "output_type": "display_data"
    },
    {
     "name": "stdout",
     "output_type": "stream",
     "text": [
      "nlms pre-convergence training iteration #0\n",
      "nlms MSE = 0.017730.\n",
      "nlms pre-convergence training iteration #1\n",
      "nlms MSE = 0.002778.\n",
      "nlms pre-convergence training iteration #2\n",
      "nlms MSE = 0.002592.\n",
      "nlms pre-convergence training iteration #3\n",
      "nlms MSE = 0.002462.\n",
      "nlms pre-convergence training iteration #4\n",
      "nlms MSE = 0.002366.\n",
      "\n",
      "\n",
      "dd-lms - training stage #1\n",
      "dd-lms MSE = 0.001685.\n",
      "Results:\n",
      "\n",
      "SER: 1.42e-03\n",
      "BER: 2.50e-04\n",
      "SNR: 27.52 dB\n",
      "MI: 5.97 bits\n",
      "GMI: 5.97 bits\n",
      "channel 0\t fc : 193.1000 THz\n",
      "  mode #0\t power: 0.00 dBm\n",
      "channel 0\t power: 0.00 dBm\n",
      "\n",
      "total WDM dignal power: 0.00 dBm\n",
      "Demodulating channel #0 , fc: 193.1000 THz, λ: 1552.5244 nm\n",
      "\n",
      "Local oscillator P: 12.00 dBm, lw: 0.00 kHz, FO: 21000.00 MHz\n",
      "CSPR = 12.00 dB\n",
      "\n",
      "\n",
      "nlms - training stage #0\n"
     ]
    },
    {
     "data": {
      "application/vnd.jupyter.widget-view+json": {
       "model_id": "a2eec6093ef44bfaa1cf02d17f066a03",
       "version_major": 2,
       "version_minor": 0
      },
      "text/plain": [
       "  0%|          | 0/5 [00:00<?, ?it/s]"
      ]
     },
     "metadata": {},
     "output_type": "display_data"
    },
    {
     "name": "stdout",
     "output_type": "stream",
     "text": [
      "nlms pre-convergence training iteration #0\n",
      "nlms MSE = 0.016508.\n",
      "nlms pre-convergence training iteration #1\n",
      "nlms MSE = 0.002645.\n",
      "nlms pre-convergence training iteration #2\n",
      "nlms MSE = 0.002609.\n",
      "nlms pre-convergence training iteration #3\n",
      "nlms MSE = 0.002577.\n",
      "nlms pre-convergence training iteration #4\n",
      "nlms MSE = 0.002548.\n",
      "\n",
      "\n",
      "dd-lms - training stage #1\n",
      "dd-lms MSE = 0.001843.\n",
      "Results:\n",
      "\n",
      "SER: 1.38e-03\n",
      "BER: 2.41e-04\n",
      "SNR: 27.27 dB\n",
      "MI: 5.98 bits\n",
      "GMI: 5.98 bits\n",
      "channel 0\t fc : 193.1000 THz\n",
      "  mode #0\t power: 0.00 dBm\n",
      "channel 0\t power: -0.00 dBm\n",
      "\n",
      "total WDM dignal power: -0.00 dBm\n",
      "Demodulating channel #0 , fc: 193.1000 THz, λ: 1552.5244 nm\n",
      "\n",
      "Local oscillator P: 12.00 dBm, lw: 0.00 kHz, FO: 21000.00 MHz\n",
      "CSPR = 12.00 dB\n",
      "\n",
      "\n",
      "nlms - training stage #0\n"
     ]
    },
    {
     "data": {
      "application/vnd.jupyter.widget-view+json": {
       "model_id": "ae2f38cf5f7a4f9ca7e780dd20f341a7",
       "version_major": 2,
       "version_minor": 0
      },
      "text/plain": [
       "  0%|          | 0/5 [00:00<?, ?it/s]"
      ]
     },
     "metadata": {},
     "output_type": "display_data"
    },
    {
     "name": "stdout",
     "output_type": "stream",
     "text": [
      "nlms pre-convergence training iteration #0\n",
      "nlms MSE = 0.015313.\n",
      "nlms pre-convergence training iteration #1\n",
      "nlms MSE = 0.002724.\n",
      "nlms pre-convergence training iteration #2\n",
      "nlms MSE = 0.002684.\n",
      "nlms pre-convergence training iteration #3\n",
      "nlms MSE = 0.002647.\n",
      "nlms pre-convergence training iteration #4\n",
      "nlms MSE = 0.002612.\n",
      "\n",
      "\n",
      "dd-lms - training stage #1\n",
      "dd-lms MSE = 0.002044.\n",
      "Results:\n",
      "\n",
      "SER: 1.47e-03\n",
      "BER: 2.44e-04\n",
      "SNR: 26.79 dB\n",
      "MI: 5.98 bits\n",
      "GMI: 5.98 bits\n",
      "channel 0\t fc : 193.1000 THz\n",
      "  mode #0\t power: 0.00 dBm\n",
      "channel 0\t power: -0.00 dBm\n",
      "\n",
      "total WDM dignal power: -0.00 dBm\n",
      "Demodulating channel #0 , fc: 193.1000 THz, λ: 1552.5244 nm\n",
      "\n",
      "Local oscillator P: 12.00 dBm, lw: 0.00 kHz, FO: 21000.00 MHz\n",
      "CSPR = 12.00 dB\n",
      "\n",
      "\n",
      "nlms - training stage #0\n"
     ]
    },
    {
     "data": {
      "application/vnd.jupyter.widget-view+json": {
       "model_id": "d13241d86c944ab28aed990e7bba0d11",
       "version_major": 2,
       "version_minor": 0
      },
      "text/plain": [
       "  0%|          | 0/5 [00:00<?, ?it/s]"
      ]
     },
     "metadata": {},
     "output_type": "display_data"
    },
    {
     "name": "stdout",
     "output_type": "stream",
     "text": [
      "nlms pre-convergence training iteration #0\n",
      "nlms MSE = 0.015703.\n",
      "nlms pre-convergence training iteration #1\n",
      "nlms MSE = 0.003808.\n",
      "nlms pre-convergence training iteration #2\n",
      "nlms MSE = 0.003651.\n",
      "nlms pre-convergence training iteration #3\n",
      "nlms MSE = 0.003513.\n",
      "nlms pre-convergence training iteration #4\n",
      "nlms MSE = 0.003390.\n",
      "\n",
      "\n",
      "dd-lms - training stage #1\n",
      "dd-lms MSE = 0.002393.\n",
      "Results:\n",
      "\n",
      "SER: 2.10e-03\n",
      "BER: 3.61e-04\n",
      "SNR: 25.98 dB\n",
      "MI: 5.97 bits\n",
      "GMI: 5.97 bits\n",
      "channel 0\t fc : 193.1000 THz\n",
      "  mode #0\t power: 0.00 dBm\n",
      "channel 0\t power: 0.00 dBm\n",
      "\n",
      "total WDM dignal power: 0.00 dBm\n",
      "Demodulating channel #0 , fc: 193.1000 THz, λ: 1552.5244 nm\n",
      "\n",
      "Local oscillator P: 12.00 dBm, lw: 0.00 kHz, FO: 21000.00 MHz\n",
      "CSPR = 12.00 dB\n",
      "\n",
      "\n",
      "nlms - training stage #0\n"
     ]
    },
    {
     "data": {
      "application/vnd.jupyter.widget-view+json": {
       "model_id": "b06fc9f73ab246b69d87b45b6e63a813",
       "version_major": 2,
       "version_minor": 0
      },
      "text/plain": [
       "  0%|          | 0/5 [00:00<?, ?it/s]"
      ]
     },
     "metadata": {},
     "output_type": "display_data"
    },
    {
     "name": "stdout",
     "output_type": "stream",
     "text": [
      "nlms pre-convergence training iteration #0\n",
      "nlms MSE = 0.017557.\n",
      "nlms pre-convergence training iteration #1\n",
      "nlms MSE = 0.005547.\n",
      "nlms pre-convergence training iteration #2\n",
      "nlms MSE = 0.004950.\n",
      "nlms pre-convergence training iteration #3\n",
      "nlms MSE = 0.004519.\n",
      "nlms pre-convergence training iteration #4\n",
      "nlms MSE = 0.004202.\n",
      "\n",
      "\n",
      "dd-lms - training stage #1\n",
      "dd-lms MSE = 0.002914.\n",
      "Results:\n",
      "\n",
      "SER: 3.20e-03\n",
      "BER: 5.43e-04\n",
      "SNR: 25.16 dB\n",
      "MI: 5.97 bits\n",
      "GMI: 5.97 bits\n",
      "channel 0\t fc : 193.1000 THz\n",
      "  mode #0\t power: 0.00 dBm\n",
      "channel 0\t power: -0.00 dBm\n",
      "\n",
      "total WDM dignal power: -0.00 dBm\n",
      "Demodulating channel #0 , fc: 193.1000 THz, λ: 1552.5244 nm\n",
      "\n",
      "Local oscillator P: 12.00 dBm, lw: 0.00 kHz, FO: 21000.00 MHz\n",
      "CSPR = 12.00 dB\n",
      "\n",
      "\n",
      "nlms - training stage #0\n"
     ]
    },
    {
     "data": {
      "application/vnd.jupyter.widget-view+json": {
       "model_id": "5044d17d64604bd990e68d9e0d0f2fbe",
       "version_major": 2,
       "version_minor": 0
      },
      "text/plain": [
       "  0%|          | 0/5 [00:00<?, ?it/s]"
      ]
     },
     "metadata": {},
     "output_type": "display_data"
    },
    {
     "name": "stdout",
     "output_type": "stream",
     "text": [
      "nlms pre-convergence training iteration #0\n",
      "nlms MSE = 0.020472.\n",
      "nlms pre-convergence training iteration #1\n",
      "nlms MSE = 0.007457.\n",
      "nlms pre-convergence training iteration #2\n",
      "nlms MSE = 0.006186.\n",
      "nlms pre-convergence training iteration #3\n",
      "nlms MSE = 0.005461.\n",
      "nlms pre-convergence training iteration #4\n",
      "nlms MSE = 0.005027.\n",
      "\n",
      "\n",
      "dd-lms - training stage #1\n",
      "dd-lms MSE = 0.003568.\n",
      "Results:\n",
      "\n",
      "SER: 5.30e-03\n",
      "BER: 9.04e-04\n",
      "SNR: 24.28 dB\n",
      "MI: 5.96 bits\n",
      "GMI: 5.96 bits\n",
      "channel 0\t fc : 193.1000 THz\n",
      "  mode #0\t power: 0.00 dBm\n",
      "channel 0\t power: 0.00 dBm\n",
      "\n",
      "total WDM dignal power: 0.00 dBm\n",
      "Demodulating channel #0 , fc: 193.1000 THz, λ: 1552.5244 nm\n",
      "\n",
      "Local oscillator P: 12.00 dBm, lw: 0.00 kHz, FO: 21000.00 MHz\n",
      "CSPR = 12.00 dB\n",
      "\n",
      "\n",
      "nlms - training stage #0\n"
     ]
    },
    {
     "data": {
      "application/vnd.jupyter.widget-view+json": {
       "model_id": "b0cd7dc420b74bd7adfc97989bd85b76",
       "version_major": 2,
       "version_minor": 0
      },
      "text/plain": [
       "  0%|          | 0/5 [00:00<?, ?it/s]"
      ]
     },
     "metadata": {},
     "output_type": "display_data"
    },
    {
     "name": "stdout",
     "output_type": "stream",
     "text": [
      "nlms pre-convergence training iteration #0\n",
      "nlms MSE = 0.023513.\n",
      "nlms pre-convergence training iteration #1\n",
      "nlms MSE = 0.009146.\n",
      "nlms pre-convergence training iteration #2\n",
      "nlms MSE = 0.007241.\n",
      "nlms pre-convergence training iteration #3\n",
      "nlms MSE = 0.006348.\n",
      "nlms pre-convergence training iteration #4\n",
      "nlms MSE = 0.005875.\n",
      "\n",
      "\n",
      "dd-lms - training stage #1\n",
      "dd-lms MSE = 0.004509.\n",
      "Results:\n",
      "\n",
      "SER: 8.84e-03\n",
      "BER: 1.49e-03\n",
      "SNR: 23.32 dB\n",
      "MI: 5.95 bits\n",
      "GMI: 5.95 bits\n",
      "channel 0\t fc : 193.1000 THz\n",
      "  mode #0\t power: 0.00 dBm\n",
      "channel 0\t power: 0.00 dBm\n",
      "\n",
      "total WDM dignal power: 0.00 dBm\n",
      "Demodulating channel #0 , fc: 193.1000 THz, λ: 1552.5244 nm\n",
      "\n",
      "Local oscillator P: 12.00 dBm, lw: 0.00 kHz, FO: 21000.00 MHz\n",
      "CSPR = 12.00 dB\n",
      "\n",
      "\n",
      "nlms - training stage #0\n"
     ]
    },
    {
     "data": {
      "application/vnd.jupyter.widget-view+json": {
       "model_id": "479867a67d684e2785191eda20fc6f71",
       "version_major": 2,
       "version_minor": 0
      },
      "text/plain": [
       "  0%|          | 0/5 [00:00<?, ?it/s]"
      ]
     },
     "metadata": {},
     "output_type": "display_data"
    },
    {
     "name": "stdout",
     "output_type": "stream",
     "text": [
      "nlms pre-convergence training iteration #0\n",
      "nlms MSE = 0.027412.\n",
      "nlms pre-convergence training iteration #1\n",
      "nlms MSE = 0.011124.\n",
      "nlms pre-convergence training iteration #2\n",
      "nlms MSE = 0.008713.\n",
      "nlms pre-convergence training iteration #3\n",
      "nlms MSE = 0.007718.\n",
      "nlms pre-convergence training iteration #4\n",
      "nlms MSE = 0.007205.\n",
      "\n",
      "\n",
      "dd-lms - training stage #1\n",
      "dd-lms MSE = 0.005413.\n",
      "Results:\n",
      "\n",
      "SER: 1.60e-02\n",
      "BER: 2.73e-03\n",
      "SNR: 22.43 dB\n",
      "MI: 5.92 bits\n",
      "GMI: 5.92 bits\n",
      "channel 0\t fc : 193.1000 THz\n",
      "  mode #0\t power: 0.00 dBm\n",
      "channel 0\t power: -0.00 dBm\n",
      "\n",
      "total WDM dignal power: -0.00 dBm\n",
      "Demodulating channel #0 , fc: 193.1000 THz, λ: 1552.5244 nm\n",
      "\n",
      "Local oscillator P: 12.00 dBm, lw: 0.00 kHz, FO: 17000.00 MHz\n",
      "CSPR = 12.00 dB\n",
      "\n",
      "\n",
      "nlms - training stage #0\n"
     ]
    },
    {
     "data": {
      "application/vnd.jupyter.widget-view+json": {
       "model_id": "f5aea31f73004cd0b5582556dbd031bc",
       "version_major": 2,
       "version_minor": 0
      },
      "text/plain": [
       "  0%|          | 0/5 [00:00<?, ?it/s]"
      ]
     },
     "metadata": {},
     "output_type": "display_data"
    },
    {
     "name": "stdout",
     "output_type": "stream",
     "text": [
      "nlms pre-convergence training iteration #0\n",
      "nlms MSE = 0.021883.\n",
      "nlms pre-convergence training iteration #1\n",
      "nlms MSE = 0.002295.\n",
      "nlms pre-convergence training iteration #2\n",
      "nlms MSE = 0.001893.\n",
      "nlms pre-convergence training iteration #3\n",
      "nlms MSE = 0.001661.\n",
      "nlms pre-convergence training iteration #4\n",
      "nlms MSE = 0.001509.\n",
      "\n",
      "\n",
      "dd-lms - training stage #1\n",
      "dd-lms MSE = 0.000963.\n",
      "Results:\n",
      "\n",
      "SER: 3.78e-04\n",
      "BER: 6.30e-05\n",
      "SNR: 29.92 dB\n",
      "MI: 6.00 bits\n",
      "GMI: 5.99 bits\n",
      "channel 0\t fc : 193.1000 THz\n",
      "  mode #0\t power: 0.00 dBm\n",
      "channel 0\t power: 0.00 dBm\n",
      "\n",
      "total WDM dignal power: 0.00 dBm\n",
      "Demodulating channel #0 , fc: 193.1000 THz, λ: 1552.5244 nm\n",
      "\n",
      "Local oscillator P: 12.00 dBm, lw: 0.00 kHz, FO: 17000.00 MHz\n",
      "CSPR = 12.00 dB\n",
      "\n",
      "\n",
      "nlms - training stage #0\n"
     ]
    },
    {
     "data": {
      "application/vnd.jupyter.widget-view+json": {
       "model_id": "7b2eee6cbfda4e399281f1eae495a0b5",
       "version_major": 2,
       "version_minor": 0
      },
      "text/plain": [
       "  0%|          | 0/5 [00:00<?, ?it/s]"
      ]
     },
     "metadata": {},
     "output_type": "display_data"
    },
    {
     "name": "stdout",
     "output_type": "stream",
     "text": [
      "nlms pre-convergence training iteration #0\n",
      "nlms MSE = 0.020107.\n",
      "nlms pre-convergence training iteration #1\n",
      "nlms MSE = 0.002660.\n",
      "nlms pre-convergence training iteration #2\n",
      "nlms MSE = 0.002182.\n",
      "nlms pre-convergence training iteration #3\n",
      "nlms MSE = 0.001934.\n",
      "nlms pre-convergence training iteration #4\n",
      "nlms MSE = 0.001782.\n",
      "\n",
      "\n",
      "dd-lms - training stage #1\n",
      "dd-lms MSE = 0.001144.\n",
      "Results:\n",
      "\n",
      "SER: 4.33e-04\n",
      "BER: 7.41e-05\n",
      "SNR: 29.29 dB\n",
      "MI: 5.99 bits\n",
      "GMI: 5.99 bits\n",
      "channel 0\t fc : 193.1000 THz\n",
      "  mode #0\t power: 0.00 dBm\n",
      "channel 0\t power: -0.00 dBm\n",
      "\n",
      "total WDM dignal power: -0.00 dBm\n",
      "Demodulating channel #0 , fc: 193.1000 THz, λ: 1552.5244 nm\n",
      "\n",
      "Local oscillator P: 12.00 dBm, lw: 0.00 kHz, FO: 17000.00 MHz\n",
      "CSPR = 12.00 dB\n",
      "\n",
      "\n",
      "nlms - training stage #0\n"
     ]
    },
    {
     "data": {
      "application/vnd.jupyter.widget-view+json": {
       "model_id": "ebe8483c1419448a9c0adffd1637d109",
       "version_major": 2,
       "version_minor": 0
      },
      "text/plain": [
       "  0%|          | 0/5 [00:00<?, ?it/s]"
      ]
     },
     "metadata": {},
     "output_type": "display_data"
    },
    {
     "name": "stdout",
     "output_type": "stream",
     "text": [
      "nlms pre-convergence training iteration #0\n",
      "nlms MSE = 0.022944.\n",
      "nlms pre-convergence training iteration #1\n",
      "nlms MSE = 0.005622.\n",
      "nlms pre-convergence training iteration #2\n",
      "nlms MSE = 0.004947.\n",
      "nlms pre-convergence training iteration #3\n",
      "nlms MSE = 0.004572.\n",
      "nlms pre-convergence training iteration #4\n",
      "nlms MSE = 0.004326.\n",
      "\n",
      "\n",
      "dd-lms - training stage #1\n",
      "dd-lms MSE = 0.003000.\n",
      "Results:\n",
      "\n",
      "SER: 2.14e-03\n",
      "BER: 3.59e-04\n",
      "SNR: 25.21 dB\n",
      "MI: 5.99 bits\n",
      "GMI: 5.99 bits\n",
      "channel 0\t fc : 193.1000 THz\n",
      "  mode #0\t power: 0.00 dBm\n",
      "channel 0\t power: -0.00 dBm\n",
      "\n",
      "total WDM dignal power: -0.00 dBm\n",
      "Demodulating channel #0 , fc: 193.1000 THz, λ: 1552.5244 nm\n",
      "\n",
      "Local oscillator P: 12.00 dBm, lw: 0.00 kHz, FO: 17000.00 MHz\n",
      "CSPR = 12.00 dB\n",
      "\n",
      "\n",
      "nlms - training stage #0\n"
     ]
    },
    {
     "data": {
      "application/vnd.jupyter.widget-view+json": {
       "model_id": "25d5244cf005418eb004100eaf27d4c1",
       "version_major": 2,
       "version_minor": 0
      },
      "text/plain": [
       "  0%|          | 0/5 [00:00<?, ?it/s]"
      ]
     },
     "metadata": {},
     "output_type": "display_data"
    },
    {
     "name": "stdout",
     "output_type": "stream",
     "text": [
      "nlms pre-convergence training iteration #0\n",
      "nlms MSE = 0.028000.\n",
      "nlms pre-convergence training iteration #1\n",
      "nlms MSE = 0.008856.\n",
      "nlms pre-convergence training iteration #2\n",
      "nlms MSE = 0.007274.\n",
      "nlms pre-convergence training iteration #3\n",
      "nlms MSE = 0.006441.\n",
      "nlms pre-convergence training iteration #4\n",
      "nlms MSE = 0.005910.\n",
      "\n",
      "\n",
      "dd-lms - training stage #1\n",
      "dd-lms MSE = 0.004005.\n",
      "Results:\n",
      "\n",
      "SER: 6.74e-03\n",
      "BER: 1.14e-03\n",
      "SNR: 23.86 dB\n",
      "MI: 5.96 bits\n",
      "GMI: 5.96 bits\n",
      "channel 0\t fc : 193.1000 THz\n",
      "  mode #0\t power: 0.00 dBm\n",
      "channel 0\t power: -0.00 dBm\n",
      "\n",
      "total WDM dignal power: -0.00 dBm\n",
      "Demodulating channel #0 , fc: 193.1000 THz, λ: 1552.5244 nm\n",
      "\n",
      "Local oscillator P: 12.00 dBm, lw: 0.00 kHz, FO: 17000.00 MHz\n",
      "CSPR = 12.00 dB\n",
      "\n",
      "\n",
      "nlms - training stage #0\n"
     ]
    },
    {
     "data": {
      "application/vnd.jupyter.widget-view+json": {
       "model_id": "be63a10a11274689bc6bfb3b55abc92c",
       "version_major": 2,
       "version_minor": 0
      },
      "text/plain": [
       "  0%|          | 0/5 [00:00<?, ?it/s]"
      ]
     },
     "metadata": {},
     "output_type": "display_data"
    },
    {
     "name": "stdout",
     "output_type": "stream",
     "text": [
      "nlms pre-convergence training iteration #0\n",
      "nlms MSE = 0.033103.\n",
      "nlms pre-convergence training iteration #1\n",
      "nlms MSE = 0.011815.\n",
      "nlms pre-convergence training iteration #2\n",
      "nlms MSE = 0.009469.\n",
      "nlms pre-convergence training iteration #3\n",
      "nlms MSE = 0.008338.\n",
      "nlms pre-convergence training iteration #4\n",
      "nlms MSE = 0.007649.\n",
      "\n",
      "\n",
      "dd-lms - training stage #1\n",
      "dd-lms MSE = 0.005202.\n",
      "Results:\n",
      "\n",
      "SER: 1.49e-02\n",
      "BER: 2.52e-03\n",
      "SNR: 22.65 dB\n",
      "MI: 5.92 bits\n",
      "GMI: 5.92 bits\n",
      "channel 0\t fc : 193.1000 THz\n",
      "  mode #0\t power: 0.00 dBm\n",
      "channel 0\t power: 0.00 dBm\n",
      "\n",
      "total WDM dignal power: 0.00 dBm\n",
      "Demodulating channel #0 , fc: 193.1000 THz, λ: 1552.5244 nm\n",
      "\n",
      "Local oscillator P: 12.00 dBm, lw: 0.00 kHz, FO: 17000.00 MHz\n",
      "CSPR = 12.00 dB\n",
      "\n",
      "\n",
      "nlms - training stage #0\n"
     ]
    },
    {
     "data": {
      "application/vnd.jupyter.widget-view+json": {
       "model_id": "b2939942ee2446c4b1f6502a228d1ea1",
       "version_major": 2,
       "version_minor": 0
      },
      "text/plain": [
       "  0%|          | 0/5 [00:00<?, ?it/s]"
      ]
     },
     "metadata": {},
     "output_type": "display_data"
    },
    {
     "name": "stdout",
     "output_type": "stream",
     "text": [
      "nlms pre-convergence training iteration #0\n",
      "nlms MSE = 0.038456.\n",
      "nlms pre-convergence training iteration #1\n",
      "nlms MSE = 0.014651.\n",
      "nlms pre-convergence training iteration #2\n",
      "nlms MSE = 0.011579.\n",
      "nlms pre-convergence training iteration #3\n",
      "nlms MSE = 0.010165.\n",
      "nlms pre-convergence training iteration #4\n",
      "nlms MSE = 0.009328.\n",
      "\n",
      "\n",
      "dd-lms - training stage #1\n",
      "dd-lms MSE = 0.006650.\n",
      "Results:\n",
      "\n",
      "SER: 3.07e-02\n",
      "BER: 5.29e-03\n",
      "SNR: 21.43 dB\n",
      "MI: 5.85 bits\n",
      "GMI: 5.84 bits\n",
      "channel 0\t fc : 193.1000 THz\n",
      "  mode #0\t power: 0.00 dBm\n",
      "channel 0\t power: -0.00 dBm\n",
      "\n",
      "total WDM dignal power: -0.00 dBm\n",
      "Demodulating channel #0 , fc: 193.1000 THz, λ: 1552.5244 nm\n",
      "\n",
      "Local oscillator P: 12.00 dBm, lw: 0.00 kHz, FO: 17000.00 MHz\n",
      "CSPR = 12.00 dB\n",
      "\n",
      "\n",
      "nlms - training stage #0\n"
     ]
    },
    {
     "data": {
      "application/vnd.jupyter.widget-view+json": {
       "model_id": "66a7a0636fa24562bdf8996c65fc209e",
       "version_major": 2,
       "version_minor": 0
      },
      "text/plain": [
       "  0%|          | 0/5 [00:00<?, ?it/s]"
      ]
     },
     "metadata": {},
     "output_type": "display_data"
    },
    {
     "name": "stdout",
     "output_type": "stream",
     "text": [
      "nlms pre-convergence training iteration #0\n",
      "nlms MSE = 0.044764.\n",
      "nlms pre-convergence training iteration #1\n",
      "nlms MSE = 0.018182.\n",
      "nlms pre-convergence training iteration #2\n",
      "nlms MSE = 0.014317.\n",
      "nlms pre-convergence training iteration #3\n",
      "nlms MSE = 0.012548.\n",
      "nlms pre-convergence training iteration #4\n",
      "nlms MSE = 0.011506.\n",
      "\n",
      "\n",
      "dd-lms - training stage #1\n",
      "dd-lms MSE = 0.007988.\n",
      "Results:\n",
      "\n",
      "SER: 5.26e-02\n",
      "BER: 9.04e-03\n",
      "SNR: 20.41 dB\n",
      "MI: 5.76 bits\n",
      "GMI: 5.76 bits\n",
      "channel 0\t fc : 193.1000 THz\n",
      "  mode #0\t power: 0.00 dBm\n",
      "channel 0\t power: -0.00 dBm\n",
      "\n",
      "total WDM dignal power: -0.00 dBm\n",
      "Demodulating channel #0 , fc: 193.1000 THz, λ: 1552.5244 nm\n",
      "\n",
      "Local oscillator P: 12.00 dBm, lw: 0.00 kHz, FO: 17000.00 MHz\n",
      "CSPR = 12.00 dB\n",
      "\n",
      "\n",
      "nlms - training stage #0\n"
     ]
    },
    {
     "data": {
      "application/vnd.jupyter.widget-view+json": {
       "model_id": "b27679a6d88044b2aca232b2621400d3",
       "version_major": 2,
       "version_minor": 0
      },
      "text/plain": [
       "  0%|          | 0/5 [00:00<?, ?it/s]"
      ]
     },
     "metadata": {},
     "output_type": "display_data"
    },
    {
     "name": "stdout",
     "output_type": "stream",
     "text": [
      "nlms pre-convergence training iteration #0\n",
      "nlms MSE = 0.051304.\n",
      "nlms pre-convergence training iteration #1\n",
      "nlms MSE = 0.021837.\n",
      "nlms pre-convergence training iteration #2\n",
      "nlms MSE = 0.017429.\n",
      "nlms pre-convergence training iteration #3\n",
      "nlms MSE = 0.015385.\n",
      "nlms pre-convergence training iteration #4\n",
      "nlms MSE = 0.014161.\n",
      "\n",
      "\n",
      "dd-lms - training stage #1\n",
      "dd-lms MSE = 0.009263.\n",
      "Results:\n",
      "\n",
      "SER: 8.25e-02\n",
      "BER: 1.43e-02\n",
      "SNR: 19.48 dB\n",
      "MI: 5.64 bits\n",
      "GMI: 5.64 bits\n",
      "channel 0\t fc : 193.1000 THz\n",
      "  mode #0\t power: 0.00 dBm\n",
      "channel 0\t power: -0.00 dBm\n",
      "\n",
      "total WDM dignal power: -0.00 dBm\n",
      "Demodulating channel #0 , fc: 193.1000 THz, λ: 1552.5244 nm\n",
      "\n",
      "Local oscillator P: 12.00 dBm, lw: 0.00 kHz, FO: 17000.00 MHz\n",
      "CSPR = 12.00 dB\n",
      "\n",
      "\n",
      "nlms - training stage #0\n"
     ]
    },
    {
     "data": {
      "application/vnd.jupyter.widget-view+json": {
       "model_id": "850b760e234f4189a1acb6c0060958e2",
       "version_major": 2,
       "version_minor": 0
      },
      "text/plain": [
       "  0%|          | 0/5 [00:00<?, ?it/s]"
      ]
     },
     "metadata": {},
     "output_type": "display_data"
    },
    {
     "name": "stdout",
     "output_type": "stream",
     "text": [
      "nlms pre-convergence training iteration #0\n",
      "nlms MSE = 0.057780.\n",
      "nlms pre-convergence training iteration #1\n",
      "nlms MSE = 0.025901.\n",
      "nlms pre-convergence training iteration #2\n",
      "nlms MSE = 0.020649.\n",
      "nlms pre-convergence training iteration #3\n",
      "nlms MSE = 0.018187.\n",
      "nlms pre-convergence training iteration #4\n",
      "nlms MSE = 0.016707.\n",
      "\n",
      "\n",
      "dd-lms - training stage #1\n",
      "dd-lms MSE = 0.010649.\n",
      "Results:\n",
      "\n",
      "SER: 1.18e-01\n",
      "BER: 2.05e-02\n",
      "SNR: 18.58 dB\n",
      "MI: 5.50 bits\n",
      "GMI: 5.50 bits\n",
      "channel 0\t fc : 193.1000 THz\n",
      "  mode #0\t power: 0.00 dBm\n",
      "channel 0\t power: -0.00 dBm\n",
      "\n",
      "total WDM dignal power: -0.00 dBm\n",
      "Demodulating channel #0 , fc: 193.1000 THz, λ: 1552.5244 nm\n",
      "\n",
      "Local oscillator P: 12.00 dBm, lw: 0.00 kHz, FO: 17000.00 MHz\n",
      "CSPR = 12.00 dB\n",
      "\n",
      "\n",
      "nlms - training stage #0\n"
     ]
    },
    {
     "data": {
      "application/vnd.jupyter.widget-view+json": {
       "model_id": "20645b0e5b4e40208db08ab7c535b61d",
       "version_major": 2,
       "version_minor": 0
      },
      "text/plain": [
       "  0%|          | 0/5 [00:00<?, ?it/s]"
      ]
     },
     "metadata": {},
     "output_type": "display_data"
    },
    {
     "name": "stdout",
     "output_type": "stream",
     "text": [
      "nlms pre-convergence training iteration #0\n",
      "nlms MSE = 0.063494.\n",
      "nlms pre-convergence training iteration #1\n",
      "nlms MSE = 0.029025.\n",
      "nlms pre-convergence training iteration #2\n",
      "nlms MSE = 0.023016.\n",
      "nlms pre-convergence training iteration #3\n",
      "nlms MSE = 0.020219.\n",
      "nlms pre-convergence training iteration #4\n",
      "nlms MSE = 0.018527.\n",
      "\n",
      "\n",
      "dd-lms - training stage #1\n",
      "dd-lms MSE = 0.011826.\n",
      "Results:\n",
      "\n",
      "SER: 1.59e-01\n",
      "BER: 2.81e-02\n",
      "SNR: 17.78 dB\n",
      "MI: 5.34 bits\n",
      "GMI: 5.34 bits\n",
      "channel 0\t fc : 193.1000 THz\n",
      "  mode #0\t power: 0.00 dBm\n",
      "channel 0\t power: 0.00 dBm\n",
      "\n",
      "total WDM dignal power: 0.00 dBm\n",
      "Demodulating channel #0 , fc: 193.1000 THz, λ: 1552.5244 nm\n",
      "\n",
      "Local oscillator P: 12.00 dBm, lw: 0.00 kHz, FO: 18000.00 MHz\n",
      "CSPR = 12.00 dB\n",
      "\n",
      "\n",
      "nlms - training stage #0\n"
     ]
    },
    {
     "data": {
      "application/vnd.jupyter.widget-view+json": {
       "model_id": "db738349a0814239b50774c81a64baa9",
       "version_major": 2,
       "version_minor": 0
      },
      "text/plain": [
       "  0%|          | 0/5 [00:00<?, ?it/s]"
      ]
     },
     "metadata": {},
     "output_type": "display_data"
    },
    {
     "name": "stdout",
     "output_type": "stream",
     "text": [
      "nlms pre-convergence training iteration #0\n",
      "nlms MSE = 0.022093.\n",
      "nlms pre-convergence training iteration #1\n",
      "nlms MSE = 0.002325.\n",
      "nlms pre-convergence training iteration #2\n",
      "nlms MSE = 0.001924.\n",
      "nlms pre-convergence training iteration #3\n",
      "nlms MSE = 0.001695.\n",
      "nlms pre-convergence training iteration #4\n",
      "nlms MSE = 0.001544.\n",
      "\n",
      "\n",
      "dd-lms - training stage #1\n",
      "dd-lms MSE = 0.001106.\n",
      "Results:\n",
      "\n",
      "SER: 4.78e-04\n",
      "BER: 8.15e-05\n",
      "SNR: 29.37 dB\n",
      "MI: 5.99 bits\n",
      "GMI: 5.99 bits\n",
      "channel 0\t fc : 193.1000 THz\n",
      "  mode #0\t power: 0.00 dBm\n",
      "channel 0\t power: -0.00 dBm\n",
      "\n",
      "total WDM dignal power: -0.00 dBm\n",
      "Demodulating channel #0 , fc: 193.1000 THz, λ: 1552.5244 nm\n",
      "\n",
      "Local oscillator P: 12.00 dBm, lw: 0.00 kHz, FO: 18000.00 MHz\n",
      "CSPR = 12.00 dB\n",
      "\n",
      "\n",
      "nlms - training stage #0\n"
     ]
    },
    {
     "data": {
      "application/vnd.jupyter.widget-view+json": {
       "model_id": "7464bf41bddc4beb818a23b66be27b15",
       "version_major": 2,
       "version_minor": 0
      },
      "text/plain": [
       "  0%|          | 0/5 [00:00<?, ?it/s]"
      ]
     },
     "metadata": {},
     "output_type": "display_data"
    },
    {
     "name": "stdout",
     "output_type": "stream",
     "text": [
      "nlms pre-convergence training iteration #0\n",
      "nlms MSE = 0.019927.\n",
      "nlms pre-convergence training iteration #1\n",
      "nlms MSE = 0.002372.\n",
      "nlms pre-convergence training iteration #2\n",
      "nlms MSE = 0.001909.\n",
      "nlms pre-convergence training iteration #3\n",
      "nlms MSE = 0.001662.\n",
      "nlms pre-convergence training iteration #4\n",
      "nlms MSE = 0.001510.\n",
      "\n",
      "\n",
      "dd-lms - training stage #1\n",
      "dd-lms MSE = 0.001014.\n",
      "Results:\n",
      "\n",
      "SER: 4.11e-04\n",
      "BER: 7.04e-05\n",
      "SNR: 29.75 dB\n",
      "MI: 5.98 bits\n",
      "GMI: 5.98 bits\n",
      "channel 0\t fc : 193.1000 THz\n",
      "  mode #0\t power: 0.00 dBm\n",
      "channel 0\t power: -0.00 dBm\n",
      "\n",
      "total WDM dignal power: -0.00 dBm\n",
      "Demodulating channel #0 , fc: 193.1000 THz, λ: 1552.5244 nm\n",
      "\n",
      "Local oscillator P: 12.00 dBm, lw: 0.00 kHz, FO: 18000.00 MHz\n",
      "CSPR = 12.00 dB\n",
      "\n",
      "\n",
      "nlms - training stage #0\n"
     ]
    },
    {
     "data": {
      "application/vnd.jupyter.widget-view+json": {
       "model_id": "615d863c11784ca8ab920e01f5f33222",
       "version_major": 2,
       "version_minor": 0
      },
      "text/plain": [
       "  0%|          | 0/5 [00:00<?, ?it/s]"
      ]
     },
     "metadata": {},
     "output_type": "display_data"
    },
    {
     "name": "stdout",
     "output_type": "stream",
     "text": [
      "nlms pre-convergence training iteration #0\n",
      "nlms MSE = 0.018013.\n",
      "nlms pre-convergence training iteration #1\n",
      "nlms MSE = 0.002767.\n",
      "nlms pre-convergence training iteration #2\n",
      "nlms MSE = 0.002561.\n",
      "nlms pre-convergence training iteration #3\n",
      "nlms MSE = 0.002421.\n",
      "nlms pre-convergence training iteration #4\n",
      "nlms MSE = 0.002321.\n",
      "\n",
      "\n",
      "dd-lms - training stage #1\n",
      "dd-lms MSE = 0.001454.\n",
      "Results:\n",
      "\n",
      "SER: 5.56e-04\n",
      "BER: 9.44e-05\n",
      "SNR: 28.29 dB\n",
      "MI: 5.99 bits\n",
      "GMI: 5.99 bits\n",
      "channel 0\t fc : 193.1000 THz\n",
      "  mode #0\t power: 0.00 dBm\n",
      "channel 0\t power: 0.00 dBm\n",
      "\n",
      "total WDM dignal power: 0.00 dBm\n",
      "Demodulating channel #0 , fc: 193.1000 THz, λ: 1552.5244 nm\n",
      "\n",
      "Local oscillator P: 12.00 dBm, lw: 0.00 kHz, FO: 18000.00 MHz\n",
      "CSPR = 12.00 dB\n",
      "\n",
      "\n",
      "nlms - training stage #0\n"
     ]
    },
    {
     "data": {
      "application/vnd.jupyter.widget-view+json": {
       "model_id": "f8c35e832158474584f361faa6dbd947",
       "version_major": 2,
       "version_minor": 0
      },
      "text/plain": [
       "  0%|          | 0/5 [00:00<?, ?it/s]"
      ]
     },
     "metadata": {},
     "output_type": "display_data"
    },
    {
     "name": "stdout",
     "output_type": "stream",
     "text": [
      "nlms pre-convergence training iteration #0\n",
      "nlms MSE = 0.019906.\n",
      "nlms pre-convergence training iteration #1\n",
      "nlms MSE = 0.004747.\n",
      "nlms pre-convergence training iteration #2\n",
      "nlms MSE = 0.004175.\n",
      "nlms pre-convergence training iteration #3\n",
      "nlms MSE = 0.003794.\n",
      "nlms pre-convergence training iteration #4\n",
      "nlms MSE = 0.003518.\n",
      "\n",
      "\n",
      "dd-lms - training stage #1\n",
      "dd-lms MSE = 0.002273.\n",
      "Results:\n",
      "\n",
      "SER: 1.26e-03\n",
      "BER: 2.09e-04\n",
      "SNR: 26.34 dB\n",
      "MI: 5.99 bits\n",
      "GMI: 5.99 bits\n",
      "channel 0\t fc : 193.1000 THz\n",
      "  mode #0\t power: 0.00 dBm\n",
      "channel 0\t power: 0.00 dBm\n",
      "\n",
      "total WDM dignal power: 0.00 dBm\n",
      "Demodulating channel #0 , fc: 193.1000 THz, λ: 1552.5244 nm\n",
      "\n",
      "Local oscillator P: 12.00 dBm, lw: 0.00 kHz, FO: 18000.00 MHz\n",
      "CSPR = 12.00 dB\n",
      "\n",
      "\n",
      "nlms - training stage #0\n"
     ]
    },
    {
     "data": {
      "application/vnd.jupyter.widget-view+json": {
       "model_id": "a41aefda6a5c4327a71e2b0ca1465489",
       "version_major": 2,
       "version_minor": 0
      },
      "text/plain": [
       "  0%|          | 0/5 [00:00<?, ?it/s]"
      ]
     },
     "metadata": {},
     "output_type": "display_data"
    },
    {
     "name": "stdout",
     "output_type": "stream",
     "text": [
      "nlms pre-convergence training iteration #0\n",
      "nlms MSE = 0.024234.\n",
      "nlms pre-convergence training iteration #1\n",
      "nlms MSE = 0.007240.\n",
      "nlms pre-convergence training iteration #2\n",
      "nlms MSE = 0.005703.\n",
      "nlms pre-convergence training iteration #3\n",
      "nlms MSE = 0.004880.\n",
      "nlms pre-convergence training iteration #4\n",
      "nlms MSE = 0.004377.\n",
      "\n",
      "\n",
      "dd-lms - training stage #1\n",
      "dd-lms MSE = 0.003068.\n",
      "Results:\n",
      "\n",
      "SER: 2.83e-03\n",
      "BER: 4.78e-04\n",
      "SNR: 25.04 dB\n",
      "MI: 5.98 bits\n",
      "GMI: 5.98 bits\n",
      "channel 0\t fc : 193.1000 THz\n",
      "  mode #0\t power: 0.00 dBm\n",
      "channel 0\t power: -0.00 dBm\n",
      "\n",
      "total WDM dignal power: -0.00 dBm\n",
      "Demodulating channel #0 , fc: 193.1000 THz, λ: 1552.5244 nm\n",
      "\n",
      "Local oscillator P: 12.00 dBm, lw: 0.00 kHz, FO: 18000.00 MHz\n",
      "CSPR = 12.00 dB\n",
      "\n",
      "\n",
      "nlms - training stage #0\n"
     ]
    },
    {
     "data": {
      "application/vnd.jupyter.widget-view+json": {
       "model_id": "da006f57a26b4810b9d9b5a50d49f26c",
       "version_major": 2,
       "version_minor": 0
      },
      "text/plain": [
       "  0%|          | 0/5 [00:00<?, ?it/s]"
      ]
     },
     "metadata": {},
     "output_type": "display_data"
    },
    {
     "name": "stdout",
     "output_type": "stream",
     "text": [
      "nlms pre-convergence training iteration #0\n",
      "nlms MSE = 0.029233.\n",
      "nlms pre-convergence training iteration #1\n",
      "nlms MSE = 0.009894.\n",
      "nlms pre-convergence training iteration #2\n",
      "nlms MSE = 0.007627.\n",
      "nlms pre-convergence training iteration #3\n",
      "nlms MSE = 0.006616.\n",
      "nlms pre-convergence training iteration #4\n",
      "nlms MSE = 0.006057.\n",
      "\n",
      "\n",
      "dd-lms - training stage #1\n",
      "dd-lms MSE = 0.004223.\n",
      "Results:\n",
      "\n",
      "SER: 7.38e-03\n",
      "BER: 1.24e-03\n",
      "SNR: 23.62 dB\n",
      "MI: 5.96 bits\n",
      "GMI: 5.96 bits\n",
      "channel 0\t fc : 193.1000 THz\n",
      "  mode #0\t power: 0.00 dBm\n",
      "channel 0\t power: -0.00 dBm\n",
      "\n",
      "total WDM dignal power: -0.00 dBm\n",
      "Demodulating channel #0 , fc: 193.1000 THz, λ: 1552.5244 nm\n",
      "\n",
      "Local oscillator P: 12.00 dBm, lw: 0.00 kHz, FO: 18000.00 MHz\n",
      "CSPR = 12.00 dB\n",
      "\n",
      "\n",
      "nlms - training stage #0\n"
     ]
    },
    {
     "data": {
      "application/vnd.jupyter.widget-view+json": {
       "model_id": "aea07850797e407c92b8fca63ba2300d",
       "version_major": 2,
       "version_minor": 0
      },
      "text/plain": [
       "  0%|          | 0/5 [00:00<?, ?it/s]"
      ]
     },
     "metadata": {},
     "output_type": "display_data"
    },
    {
     "name": "stdout",
     "output_type": "stream",
     "text": [
      "nlms pre-convergence training iteration #0\n",
      "nlms MSE = 0.034709.\n",
      "nlms pre-convergence training iteration #1\n",
      "nlms MSE = 0.012411.\n",
      "nlms pre-convergence training iteration #2\n",
      "nlms MSE = 0.009550.\n",
      "nlms pre-convergence training iteration #3\n",
      "nlms MSE = 0.008332.\n",
      "nlms pre-convergence training iteration #4\n",
      "nlms MSE = 0.007653.\n",
      "\n",
      "\n",
      "dd-lms - training stage #1\n",
      "dd-lms MSE = 0.005456.\n",
      "Results:\n",
      "\n",
      "SER: 1.69e-02\n",
      "BER: 2.85e-03\n",
      "SNR: 22.39 dB\n",
      "MI: 5.91 bits\n",
      "GMI: 5.91 bits\n",
      "channel 0\t fc : 193.1000 THz\n",
      "  mode #0\t power: 0.00 dBm\n",
      "channel 0\t power: -0.00 dBm\n",
      "\n",
      "total WDM dignal power: -0.00 dBm\n",
      "Demodulating channel #0 , fc: 193.1000 THz, λ: 1552.5244 nm\n",
      "\n",
      "Local oscillator P: 12.00 dBm, lw: 0.00 kHz, FO: 18000.00 MHz\n",
      "CSPR = 12.00 dB\n",
      "\n",
      "\n",
      "nlms - training stage #0\n"
     ]
    },
    {
     "data": {
      "application/vnd.jupyter.widget-view+json": {
       "model_id": "4a342f10b3904f52acdef8166e637ea5",
       "version_major": 2,
       "version_minor": 0
      },
      "text/plain": [
       "  0%|          | 0/5 [00:00<?, ?it/s]"
      ]
     },
     "metadata": {},
     "output_type": "display_data"
    },
    {
     "name": "stdout",
     "output_type": "stream",
     "text": [
      "nlms pre-convergence training iteration #0\n",
      "nlms MSE = 0.039893.\n",
      "nlms pre-convergence training iteration #1\n",
      "nlms MSE = 0.015406.\n",
      "nlms pre-convergence training iteration #2\n",
      "nlms MSE = 0.011885.\n",
      "nlms pre-convergence training iteration #3\n",
      "nlms MSE = 0.010382.\n",
      "nlms pre-convergence training iteration #4\n",
      "nlms MSE = 0.009535.\n",
      "\n",
      "\n",
      "dd-lms - training stage #1\n",
      "dd-lms MSE = 0.006730.\n",
      "Results:\n",
      "\n",
      "SER: 3.16e-02\n",
      "BER: 5.38e-03\n",
      "SNR: 21.34 dB\n",
      "MI: 5.85 bits\n",
      "GMI: 5.85 bits\n",
      "channel 0\t fc : 193.1000 THz\n",
      "  mode #0\t power: 0.00 dBm\n",
      "channel 0\t power: 0.00 dBm\n",
      "\n",
      "total WDM dignal power: 0.00 dBm\n",
      "Demodulating channel #0 , fc: 193.1000 THz, λ: 1552.5244 nm\n",
      "\n",
      "Local oscillator P: 12.00 dBm, lw: 0.00 kHz, FO: 18000.00 MHz\n",
      "CSPR = 12.00 dB\n",
      "\n",
      "\n",
      "nlms - training stage #0\n"
     ]
    },
    {
     "data": {
      "application/vnd.jupyter.widget-view+json": {
       "model_id": "04c634cabf52433e94aa95b482ac5fa8",
       "version_major": 2,
       "version_minor": 0
      },
      "text/plain": [
       "  0%|          | 0/5 [00:00<?, ?it/s]"
      ]
     },
     "metadata": {},
     "output_type": "display_data"
    },
    {
     "name": "stdout",
     "output_type": "stream",
     "text": [
      "nlms pre-convergence training iteration #0\n",
      "nlms MSE = 0.044863.\n",
      "nlms pre-convergence training iteration #1\n",
      "nlms MSE = 0.018546.\n",
      "nlms pre-convergence training iteration #2\n",
      "nlms MSE = 0.014424.\n",
      "nlms pre-convergence training iteration #3\n",
      "nlms MSE = 0.012626.\n",
      "nlms pre-convergence training iteration #4\n",
      "nlms MSE = 0.011594.\n",
      "\n",
      "\n",
      "dd-lms - training stage #1\n",
      "dd-lms MSE = 0.008196.\n",
      "Results:\n",
      "\n",
      "SER: 5.51e-02\n",
      "BER: 9.47e-03\n",
      "SNR: 20.27 dB\n",
      "MI: 5.75 bits\n",
      "GMI: 5.75 bits\n",
      "channel 0\t fc : 193.1000 THz\n",
      "  mode #0\t power: 0.00 dBm\n",
      "channel 0\t power: -0.00 dBm\n",
      "\n",
      "total WDM dignal power: -0.00 dBm\n",
      "Demodulating channel #0 , fc: 193.1000 THz, λ: 1552.5244 nm\n",
      "\n",
      "Local oscillator P: 12.00 dBm, lw: 0.00 kHz, FO: 18000.00 MHz\n",
      "CSPR = 12.00 dB\n",
      "\n",
      "\n",
      "nlms - training stage #0\n"
     ]
    },
    {
     "data": {
      "application/vnd.jupyter.widget-view+json": {
       "model_id": "d78e2f09cb024c148cedf04eeddc4479",
       "version_major": 2,
       "version_minor": 0
      },
      "text/plain": [
       "  0%|          | 0/5 [00:00<?, ?it/s]"
      ]
     },
     "metadata": {},
     "output_type": "display_data"
    },
    {
     "name": "stdout",
     "output_type": "stream",
     "text": [
      "nlms pre-convergence training iteration #0\n",
      "nlms MSE = 0.052669.\n",
      "nlms pre-convergence training iteration #1\n",
      "nlms MSE = 0.022532.\n",
      "nlms pre-convergence training iteration #2\n",
      "nlms MSE = 0.017713.\n",
      "nlms pre-convergence training iteration #3\n",
      "nlms MSE = 0.015558.\n",
      "nlms pre-convergence training iteration #4\n",
      "nlms MSE = 0.014285.\n",
      "\n",
      "\n",
      "dd-lms - training stage #1\n",
      "dd-lms MSE = 0.009420.\n",
      "Results:\n",
      "\n",
      "SER: 8.38e-02\n",
      "BER: 1.44e-02\n",
      "SNR: 19.38 dB\n",
      "MI: 5.64 bits\n",
      "GMI: 5.64 bits\n",
      "channel 0\t fc : 193.1000 THz\n",
      "  mode #0\t power: 0.00 dBm\n",
      "channel 0\t power: 0.00 dBm\n",
      "\n",
      "total WDM dignal power: 0.00 dBm\n",
      "Demodulating channel #0 , fc: 193.1000 THz, λ: 1552.5244 nm\n",
      "\n",
      "Local oscillator P: 12.00 dBm, lw: 0.00 kHz, FO: 19000.00 MHz\n",
      "CSPR = 12.00 dB\n",
      "\n",
      "\n",
      "nlms - training stage #0\n"
     ]
    },
    {
     "data": {
      "application/vnd.jupyter.widget-view+json": {
       "model_id": "4d0fa2b2b7b24c829a382c7cebefdd48",
       "version_major": 2,
       "version_minor": 0
      },
      "text/plain": [
       "  0%|          | 0/5 [00:00<?, ?it/s]"
      ]
     },
     "metadata": {},
     "output_type": "display_data"
    },
    {
     "name": "stdout",
     "output_type": "stream",
     "text": [
      "nlms pre-convergence training iteration #0\n",
      "nlms MSE = 0.022669.\n",
      "nlms pre-convergence training iteration #1\n",
      "nlms MSE = 0.002675.\n",
      "nlms pre-convergence training iteration #2\n",
      "nlms MSE = 0.002273.\n",
      "nlms pre-convergence training iteration #3\n",
      "nlms MSE = 0.002041.\n",
      "nlms pre-convergence training iteration #4\n",
      "nlms MSE = 0.001887.\n",
      "\n",
      "\n",
      "dd-lms - training stage #1\n",
      "dd-lms MSE = 0.001271.\n",
      "Results:\n",
      "\n",
      "SER: 5.00e-04\n",
      "BER: 8.33e-05\n",
      "SNR: 28.81 dB\n",
      "MI: 5.99 bits\n",
      "GMI: 5.99 bits\n",
      "channel 0\t fc : 193.1000 THz\n",
      "  mode #0\t power: 0.00 dBm\n",
      "channel 0\t power: 0.00 dBm\n",
      "\n",
      "total WDM dignal power: 0.00 dBm\n",
      "Demodulating channel #0 , fc: 193.1000 THz, λ: 1552.5244 nm\n",
      "\n",
      "Local oscillator P: 12.00 dBm, lw: 0.00 kHz, FO: 19000.00 MHz\n",
      "CSPR = 12.00 dB\n",
      "\n",
      "\n",
      "nlms - training stage #0\n"
     ]
    },
    {
     "data": {
      "application/vnd.jupyter.widget-view+json": {
       "model_id": "31e756d7f1cd43e1a4ccacd4f6776c31",
       "version_major": 2,
       "version_minor": 0
      },
      "text/plain": [
       "  0%|          | 0/5 [00:00<?, ?it/s]"
      ]
     },
     "metadata": {},
     "output_type": "display_data"
    },
    {
     "name": "stdout",
     "output_type": "stream",
     "text": [
      "nlms pre-convergence training iteration #0\n",
      "nlms MSE = 0.019917.\n",
      "nlms pre-convergence training iteration #1\n",
      "nlms MSE = 0.002589.\n",
      "nlms pre-convergence training iteration #2\n",
      "nlms MSE = 0.002122.\n",
      "nlms pre-convergence training iteration #3\n",
      "nlms MSE = 0.001874.\n",
      "nlms pre-convergence training iteration #4\n",
      "nlms MSE = 0.001720.\n",
      "\n",
      "\n",
      "dd-lms - training stage #1\n",
      "dd-lms MSE = 0.001165.\n",
      "Results:\n",
      "\n",
      "SER: 6.89e-04\n",
      "BER: 1.17e-04\n",
      "SNR: 29.13 dB\n",
      "MI: 5.99 bits\n",
      "GMI: 5.99 bits\n",
      "channel 0\t fc : 193.1000 THz\n",
      "  mode #0\t power: 0.00 dBm\n",
      "channel 0\t power: -0.00 dBm\n",
      "\n",
      "total WDM dignal power: -0.00 dBm\n",
      "Demodulating channel #0 , fc: 193.1000 THz, λ: 1552.5244 nm\n",
      "\n",
      "Local oscillator P: 12.00 dBm, lw: 0.00 kHz, FO: 19000.00 MHz\n",
      "CSPR = 12.00 dB\n",
      "\n",
      "\n",
      "nlms - training stage #0\n"
     ]
    },
    {
     "data": {
      "application/vnd.jupyter.widget-view+json": {
       "model_id": "486a6232bc5d4348a1131ea6c767a387",
       "version_major": 2,
       "version_minor": 0
      },
      "text/plain": [
       "  0%|          | 0/5 [00:00<?, ?it/s]"
      ]
     },
     "metadata": {},
     "output_type": "display_data"
    },
    {
     "name": "stdout",
     "output_type": "stream",
     "text": [
      "nlms pre-convergence training iteration #0\n",
      "nlms MSE = 0.017253.\n",
      "nlms pre-convergence training iteration #1\n",
      "nlms MSE = 0.002051.\n",
      "nlms pre-convergence training iteration #2\n",
      "nlms MSE = 0.001882.\n",
      "nlms pre-convergence training iteration #3\n",
      "nlms MSE = 0.001762.\n",
      "nlms pre-convergence training iteration #4\n",
      "nlms MSE = 0.001674.\n",
      "\n",
      "\n",
      "dd-lms - training stage #1\n",
      "dd-lms MSE = 0.001273.\n",
      "Results:\n",
      "\n",
      "SER: 7.11e-04\n",
      "BER: 1.19e-04\n",
      "SNR: 28.81 dB\n",
      "MI: 5.99 bits\n",
      "GMI: 5.99 bits\n",
      "channel 0\t fc : 193.1000 THz\n",
      "  mode #0\t power: 0.00 dBm\n",
      "channel 0\t power: -0.00 dBm\n",
      "\n",
      "total WDM dignal power: -0.00 dBm\n",
      "Demodulating channel #0 , fc: 193.1000 THz, λ: 1552.5244 nm\n",
      "\n",
      "Local oscillator P: 12.00 dBm, lw: 0.00 kHz, FO: 19000.00 MHz\n",
      "CSPR = 12.00 dB\n",
      "\n",
      "\n",
      "nlms - training stage #0\n"
     ]
    },
    {
     "data": {
      "application/vnd.jupyter.widget-view+json": {
       "model_id": "22fa5e4bac7945d39883236bda7fa654",
       "version_major": 2,
       "version_minor": 0
      },
      "text/plain": [
       "  0%|          | 0/5 [00:00<?, ?it/s]"
      ]
     },
     "metadata": {},
     "output_type": "display_data"
    },
    {
     "name": "stdout",
     "output_type": "stream",
     "text": [
      "nlms pre-convergence training iteration #0\n",
      "nlms MSE = 0.016383.\n",
      "nlms pre-convergence training iteration #1\n",
      "nlms MSE = 0.002709.\n",
      "nlms pre-convergence training iteration #2\n",
      "nlms MSE = 0.002628.\n",
      "nlms pre-convergence training iteration #3\n",
      "nlms MSE = 0.002557.\n",
      "nlms pre-convergence training iteration #4\n",
      "nlms MSE = 0.002495.\n",
      "\n",
      "\n",
      "dd-lms - training stage #1\n",
      "dd-lms MSE = 0.001718.\n",
      "Results:\n",
      "\n",
      "SER: 8.89e-04\n",
      "BER: 1.48e-04\n",
      "SNR: 27.54 dB\n",
      "MI: 5.99 bits\n",
      "GMI: 5.99 bits\n",
      "channel 0\t fc : 193.1000 THz\n",
      "  mode #0\t power: 0.00 dBm\n",
      "channel 0\t power: -0.00 dBm\n",
      "\n",
      "total WDM dignal power: -0.00 dBm\n",
      "Demodulating channel #0 , fc: 193.1000 THz, λ: 1552.5244 nm\n",
      "\n",
      "Local oscillator P: 12.00 dBm, lw: 0.00 kHz, FO: 19000.00 MHz\n",
      "CSPR = 12.00 dB\n",
      "\n",
      "\n",
      "nlms - training stage #0\n"
     ]
    },
    {
     "data": {
      "application/vnd.jupyter.widget-view+json": {
       "model_id": "38c7dd13acc741149f235838494def37",
       "version_major": 2,
       "version_minor": 0
      },
      "text/plain": [
       "  0%|          | 0/5 [00:00<?, ?it/s]"
      ]
     },
     "metadata": {},
     "output_type": "display_data"
    },
    {
     "name": "stdout",
     "output_type": "stream",
     "text": [
      "nlms pre-convergence training iteration #0\n",
      "nlms MSE = 0.018422.\n",
      "nlms pre-convergence training iteration #1\n",
      "nlms MSE = 0.004702.\n",
      "nlms pre-convergence training iteration #2\n",
      "nlms MSE = 0.004129.\n",
      "nlms pre-convergence training iteration #3\n",
      "nlms MSE = 0.003728.\n",
      "nlms pre-convergence training iteration #4\n",
      "nlms MSE = 0.003433.\n",
      "\n",
      "\n",
      "dd-lms - training stage #1\n",
      "dd-lms MSE = 0.002208.\n",
      "Results:\n",
      "\n",
      "SER: 1.23e-03\n",
      "BER: 2.07e-04\n",
      "SNR: 26.40 dB\n",
      "MI: 5.99 bits\n",
      "GMI: 5.99 bits\n",
      "channel 0\t fc : 193.1000 THz\n",
      "  mode #0\t power: 0.00 dBm\n",
      "channel 0\t power: 0.00 dBm\n",
      "\n",
      "total WDM dignal power: 0.00 dBm\n",
      "Demodulating channel #0 , fc: 193.1000 THz, λ: 1552.5244 nm\n",
      "\n",
      "Local oscillator P: 12.00 dBm, lw: 0.00 kHz, FO: 19000.00 MHz\n",
      "CSPR = 12.00 dB\n",
      "\n",
      "\n",
      "nlms - training stage #0\n"
     ]
    },
    {
     "data": {
      "application/vnd.jupyter.widget-view+json": {
       "model_id": "7f96cc59249e467cb67572fe875260c2",
       "version_major": 2,
       "version_minor": 0
      },
      "text/plain": [
       "  0%|          | 0/5 [00:00<?, ?it/s]"
      ]
     },
     "metadata": {},
     "output_type": "display_data"
    },
    {
     "name": "stdout",
     "output_type": "stream",
     "text": [
      "nlms pre-convergence training iteration #0\n",
      "nlms MSE = 0.022157.\n",
      "nlms pre-convergence training iteration #1\n",
      "nlms MSE = 0.006954.\n",
      "nlms pre-convergence training iteration #2\n",
      "nlms MSE = 0.005500.\n",
      "nlms pre-convergence training iteration #3\n",
      "nlms MSE = 0.004728.\n",
      "nlms pre-convergence training iteration #4\n",
      "nlms MSE = 0.004278.\n",
      "\n",
      "\n",
      "dd-lms - training stage #1\n",
      "dd-lms MSE = 0.002923.\n",
      "Results:\n",
      "\n",
      "SER: 2.22e-03\n",
      "BER: 3.72e-04\n",
      "SNR: 25.28 dB\n",
      "MI: 5.98 bits\n",
      "GMI: 5.99 bits\n",
      "channel 0\t fc : 193.1000 THz\n",
      "  mode #0\t power: 0.00 dBm\n",
      "channel 0\t power: -0.00 dBm\n",
      "\n",
      "total WDM dignal power: -0.00 dBm\n",
      "Demodulating channel #0 , fc: 193.1000 THz, λ: 1552.5244 nm\n",
      "\n",
      "Local oscillator P: 12.00 dBm, lw: 0.00 kHz, FO: 19000.00 MHz\n",
      "CSPR = 12.00 dB\n",
      "\n",
      "\n",
      "nlms - training stage #0\n"
     ]
    },
    {
     "data": {
      "application/vnd.jupyter.widget-view+json": {
       "model_id": "4c70d68a71e74f9a87ef6ca303e937dc",
       "version_major": 2,
       "version_minor": 0
      },
      "text/plain": [
       "  0%|          | 0/5 [00:00<?, ?it/s]"
      ]
     },
     "metadata": {},
     "output_type": "display_data"
    },
    {
     "name": "stdout",
     "output_type": "stream",
     "text": [
      "nlms pre-convergence training iteration #0\n",
      "nlms MSE = 0.026076.\n",
      "nlms pre-convergence training iteration #1\n",
      "nlms MSE = 0.009097.\n",
      "nlms pre-convergence training iteration #2\n",
      "nlms MSE = 0.006957.\n",
      "nlms pre-convergence training iteration #3\n",
      "nlms MSE = 0.006003.\n",
      "nlms pre-convergence training iteration #4\n",
      "nlms MSE = 0.005505.\n",
      "\n",
      "\n",
      "dd-lms - training stage #1\n",
      "dd-lms MSE = 0.003879.\n",
      "Results:\n",
      "\n",
      "SER: 5.13e-03\n",
      "BER: 8.72e-04\n",
      "SNR: 24.07 dB\n",
      "MI: 5.97 bits\n",
      "GMI: 5.97 bits\n",
      "channel 0\t fc : 193.1000 THz\n",
      "  mode #0\t power: 0.00 dBm\n",
      "channel 0\t power: -0.00 dBm\n",
      "\n",
      "total WDM dignal power: -0.00 dBm\n",
      "Demodulating channel #0 , fc: 193.1000 THz, λ: 1552.5244 nm\n",
      "\n",
      "Local oscillator P: 12.00 dBm, lw: 0.00 kHz, FO: 19000.00 MHz\n",
      "CSPR = 12.00 dB\n",
      "\n",
      "\n",
      "nlms - training stage #0\n"
     ]
    },
    {
     "data": {
      "application/vnd.jupyter.widget-view+json": {
       "model_id": "f327d5cb2086494c95bfa1d2fb4f87b5",
       "version_major": 2,
       "version_minor": 0
      },
      "text/plain": [
       "  0%|          | 0/5 [00:00<?, ?it/s]"
      ]
     },
     "metadata": {},
     "output_type": "display_data"
    },
    {
     "name": "stdout",
     "output_type": "stream",
     "text": [
      "nlms pre-convergence training iteration #0\n",
      "nlms MSE = 0.030996.\n",
      "nlms pre-convergence training iteration #1\n",
      "nlms MSE = 0.011198.\n",
      "nlms pre-convergence training iteration #2\n",
      "nlms MSE = 0.008460.\n",
      "nlms pre-convergence training iteration #3\n",
      "nlms MSE = 0.007341.\n",
      "nlms pre-convergence training iteration #4\n",
      "nlms MSE = 0.006757.\n",
      "\n",
      "\n",
      "dd-lms - training stage #1\n",
      "dd-lms MSE = 0.005109.\n",
      "Results:\n",
      "\n",
      "SER: 1.28e-02\n",
      "BER: 2.17e-03\n",
      "SNR: 22.75 dB\n",
      "MI: 5.93 bits\n",
      "GMI: 5.93 bits\n",
      "channel 0\t fc : 193.1000 THz\n",
      "  mode #0\t power: 0.00 dBm\n",
      "channel 0\t power: -0.00 dBm\n",
      "\n",
      "total WDM dignal power: -0.00 dBm\n",
      "Demodulating channel #0 , fc: 193.1000 THz, λ: 1552.5244 nm\n",
      "\n",
      "Local oscillator P: 12.00 dBm, lw: 0.00 kHz, FO: 19000.00 MHz\n",
      "CSPR = 12.00 dB\n",
      "\n",
      "\n",
      "nlms - training stage #0\n"
     ]
    },
    {
     "data": {
      "application/vnd.jupyter.widget-view+json": {
       "model_id": "7d03a0310fad4ca49c78952fbbe9b887",
       "version_major": 2,
       "version_minor": 0
      },
      "text/plain": [
       "  0%|          | 0/5 [00:00<?, ?it/s]"
      ]
     },
     "metadata": {},
     "output_type": "display_data"
    },
    {
     "name": "stdout",
     "output_type": "stream",
     "text": [
      "nlms pre-convergence training iteration #0\n",
      "nlms MSE = 0.036175.\n",
      "nlms pre-convergence training iteration #1\n",
      "nlms MSE = 0.013973.\n",
      "nlms pre-convergence training iteration #2\n",
      "nlms MSE = 0.010774.\n",
      "nlms pre-convergence training iteration #3\n",
      "nlms MSE = 0.009445.\n",
      "nlms pre-convergence training iteration #4\n",
      "nlms MSE = 0.008705.\n",
      "\n",
      "\n",
      "dd-lms - training stage #1\n",
      "dd-lms MSE = 0.006231.\n",
      "Results:\n",
      "\n",
      "SER: 2.57e-02\n",
      "BER: 4.37e-03\n",
      "SNR: 21.71 dB\n",
      "MI: 5.87 bits\n",
      "GMI: 5.87 bits\n",
      "channel 0\t fc : 193.1000 THz\n",
      "  mode #0\t power: 0.00 dBm\n",
      "channel 0\t power: 0.00 dBm\n",
      "\n",
      "total WDM dignal power: 0.00 dBm\n",
      "Demodulating channel #0 , fc: 193.1000 THz, λ: 1552.5244 nm\n",
      "\n",
      "Local oscillator P: 12.00 dBm, lw: 0.00 kHz, FO: 19000.00 MHz\n",
      "CSPR = 12.00 dB\n",
      "\n",
      "\n",
      "nlms - training stage #0\n"
     ]
    },
    {
     "data": {
      "application/vnd.jupyter.widget-view+json": {
       "model_id": "cce1560e566344a0bacea801f252fa4a",
       "version_major": 2,
       "version_minor": 0
      },
      "text/plain": [
       "  0%|          | 0/5 [00:00<?, ?it/s]"
      ]
     },
     "metadata": {},
     "output_type": "display_data"
    },
    {
     "name": "stdout",
     "output_type": "stream",
     "text": [
      "nlms pre-convergence training iteration #0\n",
      "nlms MSE = 0.041868.\n",
      "nlms pre-convergence training iteration #1\n",
      "nlms MSE = 0.017107.\n",
      "nlms pre-convergence training iteration #2\n",
      "nlms MSE = 0.013223.\n",
      "nlms pre-convergence training iteration #3\n",
      "nlms MSE = 0.011599.\n",
      "nlms pre-convergence training iteration #4\n",
      "nlms MSE = 0.010677.\n",
      "\n",
      "\n",
      "dd-lms - training stage #1\n",
      "dd-lms MSE = 0.007395.\n",
      "Results:\n",
      "\n",
      "SER: 4.09e-02\n",
      "BER: 6.99e-03\n",
      "SNR: 20.82 dB\n",
      "MI: 5.81 bits\n",
      "GMI: 5.81 bits\n",
      "channel 0\t fc : 193.1000 THz\n",
      "  mode #0\t power: 0.00 dBm\n",
      "channel 0\t power: -0.00 dBm\n",
      "\n",
      "total WDM dignal power: -0.00 dBm\n",
      "Demodulating channel #0 , fc: 193.1000 THz, λ: 1552.5244 nm\n",
      "\n",
      "Local oscillator P: 12.00 dBm, lw: 0.00 kHz, FO: 20000.00 MHz\n",
      "CSPR = 12.00 dB\n",
      "\n",
      "\n",
      "nlms - training stage #0\n"
     ]
    },
    {
     "data": {
      "application/vnd.jupyter.widget-view+json": {
       "model_id": "66acb83614474d709e027a69d1ba7ec2",
       "version_major": 2,
       "version_minor": 0
      },
      "text/plain": [
       "  0%|          | 0/5 [00:00<?, ?it/s]"
      ]
     },
     "metadata": {},
     "output_type": "display_data"
    },
    {
     "name": "stdout",
     "output_type": "stream",
     "text": [
      "nlms pre-convergence training iteration #0\n",
      "nlms MSE = 0.022835.\n",
      "nlms pre-convergence training iteration #1\n",
      "nlms MSE = 0.003036.\n",
      "nlms pre-convergence training iteration #2\n",
      "nlms MSE = 0.002627.\n",
      "nlms pre-convergence training iteration #3\n",
      "nlms MSE = 0.002394.\n",
      "nlms pre-convergence training iteration #4\n",
      "nlms MSE = 0.002240.\n",
      "\n",
      "\n",
      "dd-lms - training stage #1\n",
      "dd-lms MSE = 0.001444.\n",
      "Results:\n",
      "\n",
      "SER: 9.11e-04\n",
      "BER: 1.57e-04\n",
      "SNR: 28.22 dB\n",
      "MI: 5.98 bits\n",
      "GMI: 5.98 bits\n",
      "channel 0\t fc : 193.1000 THz\n",
      "  mode #0\t power: 0.00 dBm\n",
      "channel 0\t power: -0.00 dBm\n",
      "\n",
      "total WDM dignal power: -0.00 dBm\n",
      "Demodulating channel #0 , fc: 193.1000 THz, λ: 1552.5244 nm\n",
      "\n",
      "Local oscillator P: 12.00 dBm, lw: 0.00 kHz, FO: 20000.00 MHz\n",
      "CSPR = 12.00 dB\n",
      "\n",
      "\n",
      "nlms - training stage #0\n"
     ]
    },
    {
     "data": {
      "application/vnd.jupyter.widget-view+json": {
       "model_id": "6aba28131d804700902d96ef84692206",
       "version_major": 2,
       "version_minor": 0
      },
      "text/plain": [
       "  0%|          | 0/5 [00:00<?, ?it/s]"
      ]
     },
     "metadata": {},
     "output_type": "display_data"
    },
    {
     "name": "stdout",
     "output_type": "stream",
     "text": [
      "nlms pre-convergence training iteration #0\n",
      "nlms MSE = 0.020433.\n",
      "nlms pre-convergence training iteration #1\n",
      "nlms MSE = 0.002938.\n",
      "nlms pre-convergence training iteration #2\n",
      "nlms MSE = 0.002488.\n",
      "nlms pre-convergence training iteration #3\n",
      "nlms MSE = 0.002250.\n",
      "nlms pre-convergence training iteration #4\n",
      "nlms MSE = 0.002103.\n",
      "\n",
      "\n",
      "dd-lms - training stage #1\n",
      "dd-lms MSE = 0.001435.\n",
      "Results:\n",
      "\n",
      "SER: 1.01e-03\n",
      "BER: 1.78e-04\n",
      "SNR: 28.26 dB\n",
      "MI: 5.97 bits\n",
      "GMI: 5.97 bits\n",
      "channel 0\t fc : 193.1000 THz\n",
      "  mode #0\t power: 0.00 dBm\n",
      "channel 0\t power: 0.00 dBm\n",
      "\n",
      "total WDM dignal power: 0.00 dBm\n",
      "Demodulating channel #0 , fc: 193.1000 THz, λ: 1552.5244 nm\n",
      "\n",
      "Local oscillator P: 12.00 dBm, lw: 0.00 kHz, FO: 20000.00 MHz\n",
      "CSPR = 12.00 dB\n",
      "\n",
      "\n",
      "nlms - training stage #0\n"
     ]
    },
    {
     "data": {
      "application/vnd.jupyter.widget-view+json": {
       "model_id": "337f5e58aa09400d8e1e2ee557db7c9d",
       "version_major": 2,
       "version_minor": 0
      },
      "text/plain": [
       "  0%|          | 0/5 [00:00<?, ?it/s]"
      ]
     },
     "metadata": {},
     "output_type": "display_data"
    },
    {
     "name": "stdout",
     "output_type": "stream",
     "text": [
      "nlms pre-convergence training iteration #0\n",
      "nlms MSE = 0.017872.\n",
      "nlms pre-convergence training iteration #1\n",
      "nlms MSE = 0.002489.\n",
      "nlms pre-convergence training iteration #2\n",
      "nlms MSE = 0.002312.\n",
      "nlms pre-convergence training iteration #3\n",
      "nlms MSE = 0.002188.\n",
      "nlms pre-convergence training iteration #4\n",
      "nlms MSE = 0.002098.\n",
      "\n",
      "\n",
      "dd-lms - training stage #1\n",
      "dd-lms MSE = 0.001441.\n",
      "Results:\n",
      "\n",
      "SER: 9.00e-04\n",
      "BER: 1.50e-04\n",
      "SNR: 28.21 dB\n",
      "MI: 5.98 bits\n",
      "GMI: 5.98 bits\n",
      "channel 0\t fc : 193.1000 THz\n",
      "  mode #0\t power: 0.00 dBm\n",
      "channel 0\t power: 0.00 dBm\n",
      "\n",
      "total WDM dignal power: 0.00 dBm\n",
      "Demodulating channel #0 , fc: 193.1000 THz, λ: 1552.5244 nm\n",
      "\n",
      "Local oscillator P: 12.00 dBm, lw: 0.00 kHz, FO: 20000.00 MHz\n",
      "CSPR = 12.00 dB\n",
      "\n",
      "\n",
      "nlms - training stage #0\n"
     ]
    },
    {
     "data": {
      "application/vnd.jupyter.widget-view+json": {
       "model_id": "5b894f04d5c94afdbe88248bf29b3f18",
       "version_major": 2,
       "version_minor": 0
      },
      "text/plain": [
       "  0%|          | 0/5 [00:00<?, ?it/s]"
      ]
     },
     "metadata": {},
     "output_type": "display_data"
    },
    {
     "name": "stdout",
     "output_type": "stream",
     "text": [
      "nlms pre-convergence training iteration #0\n",
      "nlms MSE = 0.016175.\n",
      "nlms pre-convergence training iteration #1\n",
      "nlms MSE = 0.002317.\n",
      "nlms pre-convergence training iteration #2\n",
      "nlms MSE = 0.002283.\n",
      "nlms pre-convergence training iteration #3\n",
      "nlms MSE = 0.002253.\n",
      "nlms pre-convergence training iteration #4\n",
      "nlms MSE = 0.002226.\n",
      "\n",
      "\n",
      "dd-lms - training stage #1\n",
      "dd-lms MSE = 0.001637.\n",
      "Results:\n",
      "\n",
      "SER: 1.18e-03\n",
      "BER: 1.96e-04\n",
      "SNR: 27.70 dB\n",
      "MI: 5.98 bits\n",
      "GMI: 5.98 bits\n",
      "channel 0\t fc : 193.1000 THz\n",
      "  mode #0\t power: 0.00 dBm\n",
      "channel 0\t power: 0.00 dBm\n",
      "\n",
      "total WDM dignal power: 0.00 dBm\n",
      "Demodulating channel #0 , fc: 193.1000 THz, λ: 1552.5244 nm\n",
      "\n",
      "Local oscillator P: 12.00 dBm, lw: 0.00 kHz, FO: 20000.00 MHz\n",
      "CSPR = 12.00 dB\n",
      "\n",
      "\n",
      "nlms - training stage #0\n"
     ]
    },
    {
     "data": {
      "application/vnd.jupyter.widget-view+json": {
       "model_id": "983bd85a8835456bb37c3612c50e8ac7",
       "version_major": 2,
       "version_minor": 0
      },
      "text/plain": [
       "  0%|          | 0/5 [00:00<?, ?it/s]"
      ]
     },
     "metadata": {},
     "output_type": "display_data"
    },
    {
     "name": "stdout",
     "output_type": "stream",
     "text": [
      "nlms pre-convergence training iteration #0\n",
      "nlms MSE = 0.016036.\n",
      "nlms pre-convergence training iteration #1\n",
      "nlms MSE = 0.003247.\n",
      "nlms pre-convergence training iteration #2\n",
      "nlms MSE = 0.003136.\n",
      "nlms pre-convergence training iteration #3\n",
      "nlms MSE = 0.003039.\n",
      "nlms pre-convergence training iteration #4\n",
      "nlms MSE = 0.002953.\n",
      "\n",
      "\n",
      "dd-lms - training stage #1\n",
      "dd-lms MSE = 0.002039.\n",
      "Results:\n",
      "\n",
      "SER: 1.69e-03\n",
      "BER: 2.89e-04\n",
      "SNR: 26.75 dB\n",
      "MI: 5.98 bits\n",
      "GMI: 5.98 bits\n",
      "channel 0\t fc : 193.1000 THz\n",
      "  mode #0\t power: 0.00 dBm\n",
      "channel 0\t power: -0.00 dBm\n",
      "\n",
      "total WDM dignal power: -0.00 dBm\n",
      "Demodulating channel #0 , fc: 193.1000 THz, λ: 1552.5244 nm\n",
      "\n",
      "Local oscillator P: 12.00 dBm, lw: 0.00 kHz, FO: 20000.00 MHz\n",
      "CSPR = 12.00 dB\n",
      "\n",
      "\n",
      "nlms - training stage #0\n"
     ]
    },
    {
     "data": {
      "application/vnd.jupyter.widget-view+json": {
       "model_id": "8ded529dce57469385fb0a41323bf063",
       "version_major": 2,
       "version_minor": 0
      },
      "text/plain": [
       "  0%|          | 0/5 [00:00<?, ?it/s]"
      ]
     },
     "metadata": {},
     "output_type": "display_data"
    },
    {
     "name": "stdout",
     "output_type": "stream",
     "text": [
      "nlms pre-convergence training iteration #0\n",
      "nlms MSE = 0.017807.\n",
      "nlms pre-convergence training iteration #1\n",
      "nlms MSE = 0.005061.\n",
      "nlms pre-convergence training iteration #2\n",
      "nlms MSE = 0.004427.\n",
      "nlms pre-convergence training iteration #3\n",
      "nlms MSE = 0.003979.\n",
      "nlms pre-convergence training iteration #4\n",
      "nlms MSE = 0.003653.\n",
      "\n",
      "\n",
      "dd-lms - training stage #1\n",
      "dd-lms MSE = 0.002439.\n",
      "Results:\n",
      "\n",
      "SER: 1.77e-03\n",
      "BER: 2.96e-04\n",
      "SNR: 25.96 dB\n",
      "MI: 5.98 bits\n",
      "GMI: 5.98 bits\n",
      "channel 0\t fc : 193.1000 THz\n",
      "  mode #0\t power: 0.00 dBm\n",
      "channel 0\t power: -0.00 dBm\n",
      "\n",
      "total WDM dignal power: -0.00 dBm\n",
      "Demodulating channel #0 , fc: 193.1000 THz, λ: 1552.5244 nm\n",
      "\n",
      "Local oscillator P: 12.00 dBm, lw: 0.00 kHz, FO: 20000.00 MHz\n",
      "CSPR = 12.00 dB\n",
      "\n",
      "\n",
      "nlms - training stage #0\n"
     ]
    },
    {
     "data": {
      "application/vnd.jupyter.widget-view+json": {
       "model_id": "c63bc2c5f2b14191ac92f9b2b636de7c",
       "version_major": 2,
       "version_minor": 0
      },
      "text/plain": [
       "  0%|          | 0/5 [00:00<?, ?it/s]"
      ]
     },
     "metadata": {},
     "output_type": "display_data"
    },
    {
     "name": "stdout",
     "output_type": "stream",
     "text": [
      "nlms pre-convergence training iteration #0\n",
      "nlms MSE = 0.021062.\n",
      "nlms pre-convergence training iteration #1\n",
      "nlms MSE = 0.007121.\n",
      "nlms pre-convergence training iteration #2\n",
      "nlms MSE = 0.005719.\n",
      "nlms pre-convergence training iteration #3\n",
      "nlms MSE = 0.004932.\n",
      "nlms pre-convergence training iteration #4\n",
      "nlms MSE = 0.004466.\n",
      "\n",
      "\n",
      "dd-lms - training stage #1\n",
      "dd-lms MSE = 0.003203.\n",
      "Results:\n",
      "\n",
      "SER: 3.44e-03\n",
      "BER: 5.87e-04\n",
      "SNR: 24.86 dB\n",
      "MI: 5.97 bits\n",
      "GMI: 5.97 bits\n",
      "channel 0\t fc : 193.1000 THz\n",
      "  mode #0\t power: 0.00 dBm\n",
      "channel 0\t power: -0.00 dBm\n",
      "\n",
      "total WDM dignal power: -0.00 dBm\n",
      "Demodulating channel #0 , fc: 193.1000 THz, λ: 1552.5244 nm\n",
      "\n",
      "Local oscillator P: 12.00 dBm, lw: 0.00 kHz, FO: 20000.00 MHz\n",
      "CSPR = 12.00 dB\n",
      "\n",
      "\n",
      "nlms - training stage #0\n"
     ]
    },
    {
     "data": {
      "application/vnd.jupyter.widget-view+json": {
       "model_id": "702796e32e2d49559eb3e66a3aa06fac",
       "version_major": 2,
       "version_minor": 0
      },
      "text/plain": [
       "  0%|          | 0/5 [00:00<?, ?it/s]"
      ]
     },
     "metadata": {},
     "output_type": "display_data"
    },
    {
     "name": "stdout",
     "output_type": "stream",
     "text": [
      "nlms pre-convergence training iteration #0\n",
      "nlms MSE = 0.025271.\n",
      "nlms pre-convergence training iteration #1\n",
      "nlms MSE = 0.009087.\n",
      "nlms pre-convergence training iteration #2\n",
      "nlms MSE = 0.006986.\n",
      "nlms pre-convergence training iteration #3\n",
      "nlms MSE = 0.006036.\n",
      "nlms pre-convergence training iteration #4\n",
      "nlms MSE = 0.005546.\n",
      "\n",
      "\n",
      "dd-lms - training stage #1\n",
      "dd-lms MSE = 0.004119.\n",
      "Results:\n",
      "\n",
      "SER: 6.56e-03\n",
      "BER: 1.11e-03\n",
      "SNR: 23.77 dB\n",
      "MI: 5.96 bits\n",
      "GMI: 5.96 bits\n",
      "channel 0\t fc : 193.1000 THz\n",
      "  mode #0\t power: 0.00 dBm\n",
      "channel 0\t power: 0.00 dBm\n",
      "\n",
      "total WDM dignal power: 0.00 dBm\n",
      "Demodulating channel #0 , fc: 193.1000 THz, λ: 1552.5244 nm\n",
      "\n",
      "Local oscillator P: 12.00 dBm, lw: 0.00 kHz, FO: 20000.00 MHz\n",
      "CSPR = 12.00 dB\n",
      "\n",
      "\n",
      "nlms - training stage #0\n"
     ]
    },
    {
     "data": {
      "application/vnd.jupyter.widget-view+json": {
       "model_id": "f1980092ad5049549dd587517148af8b",
       "version_major": 2,
       "version_minor": 0
      },
      "text/plain": [
       "  0%|          | 0/5 [00:00<?, ?it/s]"
      ]
     },
     "metadata": {},
     "output_type": "display_data"
    },
    {
     "name": "stdout",
     "output_type": "stream",
     "text": [
      "nlms pre-convergence training iteration #0\n",
      "nlms MSE = 0.030021.\n",
      "nlms pre-convergence training iteration #1\n",
      "nlms MSE = 0.011241.\n",
      "nlms pre-convergence training iteration #2\n",
      "nlms MSE = 0.008560.\n",
      "nlms pre-convergence training iteration #3\n",
      "nlms MSE = 0.007472.\n",
      "nlms pre-convergence training iteration #4\n",
      "nlms MSE = 0.006921.\n",
      "\n",
      "\n",
      "dd-lms - training stage #1\n",
      "dd-lms MSE = 0.005214.\n",
      "Results:\n",
      "\n",
      "SER: 1.52e-02\n",
      "BER: 2.57e-03\n",
      "SNR: 22.62 dB\n",
      "MI: 5.92 bits\n",
      "GMI: 5.92 bits\n",
      "channel 0\t fc : 193.1000 THz\n",
      "  mode #0\t power: 0.00 dBm\n",
      "channel 0\t power: -0.00 dBm\n",
      "\n",
      "total WDM dignal power: -0.00 dBm\n",
      "Demodulating channel #0 , fc: 193.1000 THz, λ: 1552.5244 nm\n",
      "\n",
      "Local oscillator P: 12.00 dBm, lw: 0.00 kHz, FO: 20000.00 MHz\n",
      "CSPR = 12.00 dB\n",
      "\n",
      "\n",
      "nlms - training stage #0\n"
     ]
    },
    {
     "data": {
      "application/vnd.jupyter.widget-view+json": {
       "model_id": "b0a3f9ca8dd74769ba42d9ee742c6cad",
       "version_major": 2,
       "version_minor": 0
      },
      "text/plain": [
       "  0%|          | 0/5 [00:00<?, ?it/s]"
      ]
     },
     "metadata": {},
     "output_type": "display_data"
    },
    {
     "name": "stdout",
     "output_type": "stream",
     "text": [
      "nlms pre-convergence training iteration #0\n",
      "nlms MSE = 0.034220.\n",
      "nlms pre-convergence training iteration #1\n",
      "nlms MSE = 0.013726.\n",
      "nlms pre-convergence training iteration #2\n",
      "nlms MSE = 0.010513.\n",
      "nlms pre-convergence training iteration #3\n",
      "nlms MSE = 0.009230.\n",
      "nlms pre-convergence training iteration #4\n",
      "nlms MSE = 0.008543.\n",
      "\n",
      "\n",
      "dd-lms - training stage #1\n",
      "dd-lms MSE = 0.006283.\n",
      "Results:\n",
      "\n",
      "SER: 2.57e-02\n",
      "BER: 4.36e-03\n",
      "SNR: 21.68 dB\n",
      "MI: 5.87 bits\n",
      "GMI: 5.87 bits\n",
      "channel 0\t fc : 193.1000 THz\n",
      "  mode #0\t power: 0.00 dBm\n",
      "channel 0\t power: -0.00 dBm\n",
      "\n",
      "total WDM dignal power: -0.00 dBm\n",
      "Demodulating channel #0 , fc: 193.1000 THz, λ: 1552.5244 nm\n",
      "\n",
      "Local oscillator P: 12.00 dBm, lw: 0.00 kHz, FO: 21000.00 MHz\n",
      "CSPR = 12.00 dB\n",
      "\n",
      "\n",
      "nlms - training stage #0\n"
     ]
    },
    {
     "data": {
      "application/vnd.jupyter.widget-view+json": {
       "model_id": "c2455cb9562a48a197da59e50840bd39",
       "version_major": 2,
       "version_minor": 0
      },
      "text/plain": [
       "  0%|          | 0/5 [00:00<?, ?it/s]"
      ]
     },
     "metadata": {},
     "output_type": "display_data"
    },
    {
     "name": "stdout",
     "output_type": "stream",
     "text": [
      "nlms pre-convergence training iteration #0\n",
      "nlms MSE = 0.022914.\n",
      "nlms pre-convergence training iteration #1\n",
      "nlms MSE = 0.003016.\n",
      "nlms pre-convergence training iteration #2\n",
      "nlms MSE = 0.002614.\n",
      "nlms pre-convergence training iteration #3\n",
      "nlms MSE = 0.002378.\n",
      "nlms pre-convergence training iteration #4\n",
      "nlms MSE = 0.002223.\n",
      "\n",
      "\n",
      "dd-lms - training stage #1\n",
      "dd-lms MSE = 0.001695.\n",
      "Results:\n",
      "\n",
      "SER: 1.31e-03\n",
      "BER: 2.24e-04\n",
      "SNR: 27.49 dB\n",
      "MI: 5.98 bits\n",
      "GMI: 5.98 bits\n",
      "channel 0\t fc : 193.1000 THz\n",
      "  mode #0\t power: 0.00 dBm\n",
      "channel 0\t power: -0.00 dBm\n",
      "\n",
      "total WDM dignal power: -0.00 dBm\n",
      "Demodulating channel #0 , fc: 193.1000 THz, λ: 1552.5244 nm\n",
      "\n",
      "Local oscillator P: 12.00 dBm, lw: 0.00 kHz, FO: 21000.00 MHz\n",
      "CSPR = 12.00 dB\n",
      "\n",
      "\n",
      "nlms - training stage #0\n"
     ]
    },
    {
     "data": {
      "application/vnd.jupyter.widget-view+json": {
       "model_id": "bba6c632840f4e3291479aeac31f0691",
       "version_major": 2,
       "version_minor": 0
      },
      "text/plain": [
       "  0%|          | 0/5 [00:00<?, ?it/s]"
      ]
     },
     "metadata": {},
     "output_type": "display_data"
    },
    {
     "name": "stdout",
     "output_type": "stream",
     "text": [
      "nlms pre-convergence training iteration #0\n",
      "nlms MSE = 0.020749.\n",
      "nlms pre-convergence training iteration #1\n",
      "nlms MSE = 0.003136.\n",
      "nlms pre-convergence training iteration #2\n",
      "nlms MSE = 0.002665.\n",
      "nlms pre-convergence training iteration #3\n",
      "nlms MSE = 0.002415.\n",
      "nlms pre-convergence training iteration #4\n",
      "nlms MSE = 0.002261.\n",
      "\n",
      "\n",
      "dd-lms - training stage #1\n",
      "dd-lms MSE = 0.001639.\n",
      "Results:\n",
      "\n",
      "SER: 1.18e-03\n",
      "BER: 2.02e-04\n",
      "SNR: 27.72 dB\n",
      "MI: 5.98 bits\n",
      "GMI: 5.98 bits\n",
      "channel 0\t fc : 193.1000 THz\n",
      "  mode #0\t power: 0.00 dBm\n",
      "channel 0\t power: -0.00 dBm\n",
      "\n",
      "total WDM dignal power: -0.00 dBm\n",
      "Demodulating channel #0 , fc: 193.1000 THz, λ: 1552.5244 nm\n",
      "\n",
      "Local oscillator P: 12.00 dBm, lw: 0.00 kHz, FO: 21000.00 MHz\n",
      "CSPR = 12.00 dB\n",
      "\n",
      "\n",
      "nlms - training stage #0\n"
     ]
    },
    {
     "data": {
      "application/vnd.jupyter.widget-view+json": {
       "model_id": "587bc8ee0a17448ca99f65824f2b41f4",
       "version_major": 2,
       "version_minor": 0
      },
      "text/plain": [
       "  0%|          | 0/5 [00:00<?, ?it/s]"
      ]
     },
     "metadata": {},
     "output_type": "display_data"
    },
    {
     "name": "stdout",
     "output_type": "stream",
     "text": [
      "nlms pre-convergence training iteration #0\n",
      "nlms MSE = 0.018371.\n",
      "nlms pre-convergence training iteration #1\n",
      "nlms MSE = 0.002860.\n",
      "nlms pre-convergence training iteration #2\n",
      "nlms MSE = 0.002678.\n",
      "nlms pre-convergence training iteration #3\n",
      "nlms MSE = 0.002550.\n",
      "nlms pre-convergence training iteration #4\n",
      "nlms MSE = 0.002457.\n",
      "\n",
      "\n",
      "dd-lms - training stage #1\n",
      "dd-lms MSE = 0.001706.\n",
      "Results:\n",
      "\n",
      "SER: 1.21e-03\n",
      "BER: 2.06e-04\n",
      "SNR: 27.52 dB\n",
      "MI: 5.98 bits\n",
      "GMI: 5.98 bits\n",
      "channel 0\t fc : 193.1000 THz\n",
      "  mode #0\t power: 0.00 dBm\n",
      "channel 0\t power: 0.00 dBm\n",
      "\n",
      "total WDM dignal power: 0.00 dBm\n",
      "Demodulating channel #0 , fc: 193.1000 THz, λ: 1552.5244 nm\n",
      "\n",
      "Local oscillator P: 12.00 dBm, lw: 0.00 kHz, FO: 21000.00 MHz\n",
      "CSPR = 12.00 dB\n",
      "\n",
      "\n",
      "nlms - training stage #0\n"
     ]
    },
    {
     "data": {
      "application/vnd.jupyter.widget-view+json": {
       "model_id": "deaa9e1158e841fdb31acc59069dbeba",
       "version_major": 2,
       "version_minor": 0
      },
      "text/plain": [
       "  0%|          | 0/5 [00:00<?, ?it/s]"
      ]
     },
     "metadata": {},
     "output_type": "display_data"
    },
    {
     "name": "stdout",
     "output_type": "stream",
     "text": [
      "nlms pre-convergence training iteration #0\n",
      "nlms MSE = 0.015806.\n",
      "nlms pre-convergence training iteration #1\n",
      "nlms MSE = 0.002331.\n",
      "nlms pre-convergence training iteration #2\n",
      "nlms MSE = 0.002293.\n",
      "nlms pre-convergence training iteration #3\n",
      "nlms MSE = 0.002259.\n",
      "nlms pre-convergence training iteration #4\n",
      "nlms MSE = 0.002229.\n",
      "\n",
      "\n",
      "dd-lms - training stage #1\n",
      "dd-lms MSE = 0.001827.\n",
      "Results:\n",
      "\n",
      "SER: 1.41e-03\n",
      "BER: 2.39e-04\n",
      "SNR: 27.23 dB\n",
      "MI: 5.98 bits\n",
      "GMI: 5.98 bits\n",
      "channel 0\t fc : 193.1000 THz\n",
      "  mode #0\t power: 0.00 dBm\n",
      "channel 0\t power: 0.00 dBm\n",
      "\n",
      "total WDM dignal power: 0.00 dBm\n",
      "Demodulating channel #0 , fc: 193.1000 THz, λ: 1552.5244 nm\n",
      "\n",
      "Local oscillator P: 12.00 dBm, lw: 0.00 kHz, FO: 21000.00 MHz\n",
      "CSPR = 12.00 dB\n",
      "\n",
      "\n",
      "nlms - training stage #0\n"
     ]
    },
    {
     "data": {
      "application/vnd.jupyter.widget-view+json": {
       "model_id": "425f30dcb2844aa4acf5cac90aab5e02",
       "version_major": 2,
       "version_minor": 0
      },
      "text/plain": [
       "  0%|          | 0/5 [00:00<?, ?it/s]"
      ]
     },
     "metadata": {},
     "output_type": "display_data"
    },
    {
     "name": "stdout",
     "output_type": "stream",
     "text": [
      "nlms pre-convergence training iteration #0\n",
      "nlms MSE = 0.015311.\n",
      "nlms pre-convergence training iteration #1\n",
      "nlms MSE = 0.002728.\n",
      "nlms pre-convergence training iteration #2\n",
      "nlms MSE = 0.002688.\n",
      "nlms pre-convergence training iteration #3\n",
      "nlms MSE = 0.002650.\n",
      "nlms pre-convergence training iteration #4\n",
      "nlms MSE = 0.002614.\n",
      "\n",
      "\n",
      "dd-lms - training stage #1\n",
      "dd-lms MSE = 0.002069.\n",
      "Results:\n",
      "\n",
      "SER: 1.92e-03\n",
      "BER: 3.28e-04\n",
      "SNR: 26.72 dB\n",
      "MI: 5.98 bits\n",
      "GMI: 5.98 bits\n",
      "channel 0\t fc : 193.1000 THz\n",
      "  mode #0\t power: 0.00 dBm\n",
      "channel 0\t power: 0.00 dBm\n",
      "\n",
      "total WDM dignal power: 0.00 dBm\n",
      "Demodulating channel #0 , fc: 193.1000 THz, λ: 1552.5244 nm\n",
      "\n",
      "Local oscillator P: 12.00 dBm, lw: 0.00 kHz, FO: 21000.00 MHz\n",
      "CSPR = 12.00 dB\n",
      "\n",
      "\n",
      "nlms - training stage #0\n"
     ]
    },
    {
     "data": {
      "application/vnd.jupyter.widget-view+json": {
       "model_id": "6c2dbdbde4744bfe9d2321dccbd48ec8",
       "version_major": 2,
       "version_minor": 0
      },
      "text/plain": [
       "  0%|          | 0/5 [00:00<?, ?it/s]"
      ]
     },
     "metadata": {},
     "output_type": "display_data"
    },
    {
     "name": "stdout",
     "output_type": "stream",
     "text": [
      "nlms pre-convergence training iteration #0\n",
      "nlms MSE = 0.015543.\n",
      "nlms pre-convergence training iteration #1\n",
      "nlms MSE = 0.003643.\n",
      "nlms pre-convergence training iteration #2\n",
      "nlms MSE = 0.003492.\n",
      "nlms pre-convergence training iteration #3\n",
      "nlms MSE = 0.003360.\n",
      "nlms pre-convergence training iteration #4\n",
      "nlms MSE = 0.003244.\n",
      "\n",
      "\n",
      "dd-lms - training stage #1\n",
      "dd-lms MSE = 0.002442.\n",
      "Results:\n",
      "\n",
      "SER: 2.19e-03\n",
      "BER: 3.65e-04\n",
      "SNR: 25.99 dB\n",
      "MI: 5.98 bits\n",
      "GMI: 5.98 bits\n",
      "channel 0\t fc : 193.1000 THz\n",
      "  mode #0\t power: 0.00 dBm\n",
      "channel 0\t power: 0.00 dBm\n",
      "\n",
      "total WDM dignal power: 0.00 dBm\n",
      "Demodulating channel #0 , fc: 193.1000 THz, λ: 1552.5244 nm\n",
      "\n",
      "Local oscillator P: 12.00 dBm, lw: 0.00 kHz, FO: 21000.00 MHz\n",
      "CSPR = 12.00 dB\n",
      "\n",
      "\n",
      "nlms - training stage #0\n"
     ]
    },
    {
     "data": {
      "application/vnd.jupyter.widget-view+json": {
       "model_id": "6b01cce933d1434496e3f1a09ec69df6",
       "version_major": 2,
       "version_minor": 0
      },
      "text/plain": [
       "  0%|          | 0/5 [00:00<?, ?it/s]"
      ]
     },
     "metadata": {},
     "output_type": "display_data"
    },
    {
     "name": "stdout",
     "output_type": "stream",
     "text": [
      "nlms pre-convergence training iteration #0\n",
      "nlms MSE = 0.017654.\n",
      "nlms pre-convergence training iteration #1\n",
      "nlms MSE = 0.005513.\n",
      "nlms pre-convergence training iteration #2\n",
      "nlms MSE = 0.004908.\n",
      "nlms pre-convergence training iteration #3\n",
      "nlms MSE = 0.004475.\n",
      "nlms pre-convergence training iteration #4\n",
      "nlms MSE = 0.004158.\n",
      "\n",
      "\n",
      "dd-lms - training stage #1\n",
      "dd-lms MSE = 0.002919.\n",
      "Results:\n",
      "\n",
      "SER: 3.28e-03\n",
      "BER: 5.61e-04\n",
      "SNR: 25.15 dB\n",
      "MI: 5.97 bits\n",
      "GMI: 5.97 bits\n",
      "channel 0\t fc : 193.1000 THz\n",
      "  mode #0\t power: 0.00 dBm\n",
      "channel 0\t power: -0.00 dBm\n",
      "\n",
      "total WDM dignal power: -0.00 dBm\n",
      "Demodulating channel #0 , fc: 193.1000 THz, λ: 1552.5244 nm\n",
      "\n",
      "Local oscillator P: 12.00 dBm, lw: 0.00 kHz, FO: 21000.00 MHz\n",
      "CSPR = 12.00 dB\n",
      "\n",
      "\n",
      "nlms - training stage #0\n"
     ]
    },
    {
     "data": {
      "application/vnd.jupyter.widget-view+json": {
       "model_id": "08314e52103e4d9080042377bd22c919",
       "version_major": 2,
       "version_minor": 0
      },
      "text/plain": [
       "  0%|          | 0/5 [00:00<?, ?it/s]"
      ]
     },
     "metadata": {},
     "output_type": "display_data"
    },
    {
     "name": "stdout",
     "output_type": "stream",
     "text": [
      "nlms pre-convergence training iteration #0\n",
      "nlms MSE = 0.019896.\n",
      "nlms pre-convergence training iteration #1\n",
      "nlms MSE = 0.007202.\n",
      "nlms pre-convergence training iteration #2\n",
      "nlms MSE = 0.005965.\n",
      "nlms pre-convergence training iteration #3\n",
      "nlms MSE = 0.005242.\n",
      "nlms pre-convergence training iteration #4\n",
      "nlms MSE = 0.004800.\n",
      "\n",
      "\n",
      "dd-lms - training stage #1\n",
      "dd-lms MSE = 0.003584.\n",
      "Results:\n",
      "\n",
      "SER: 5.50e-03\n",
      "BER: 9.30e-04\n",
      "SNR: 24.30 dB\n",
      "MI: 5.96 bits\n",
      "GMI: 5.96 bits\n",
      "channel 0\t fc : 193.1000 THz\n",
      "  mode #0\t power: 0.00 dBm\n",
      "channel 0\t power: 0.00 dBm\n",
      "\n",
      "total WDM dignal power: 0.00 dBm\n",
      "Demodulating channel #0 , fc: 193.1000 THz, λ: 1552.5244 nm\n",
      "\n",
      "Local oscillator P: 12.00 dBm, lw: 0.00 kHz, FO: 21000.00 MHz\n",
      "CSPR = 12.00 dB\n",
      "\n",
      "\n",
      "nlms - training stage #0\n"
     ]
    },
    {
     "data": {
      "application/vnd.jupyter.widget-view+json": {
       "model_id": "7d78c80240af4e25a996350af9677b15",
       "version_major": 2,
       "version_minor": 0
      },
      "text/plain": [
       "  0%|          | 0/5 [00:00<?, ?it/s]"
      ]
     },
     "metadata": {},
     "output_type": "display_data"
    },
    {
     "name": "stdout",
     "output_type": "stream",
     "text": [
      "nlms pre-convergence training iteration #0\n",
      "nlms MSE = 0.023774.\n",
      "nlms pre-convergence training iteration #1\n",
      "nlms MSE = 0.009356.\n",
      "nlms pre-convergence training iteration #2\n",
      "nlms MSE = 0.007412.\n",
      "nlms pre-convergence training iteration #3\n",
      "nlms MSE = 0.006511.\n",
      "nlms pre-convergence training iteration #4\n",
      "nlms MSE = 0.006034.\n",
      "\n",
      "\n",
      "dd-lms - training stage #1\n",
      "dd-lms MSE = 0.004412.\n",
      "Results:\n",
      "\n",
      "SER: 9.20e-03\n",
      "BER: 1.56e-03\n",
      "SNR: 23.36 dB\n",
      "MI: 5.94 bits\n",
      "GMI: 5.94 bits\n",
      "channel 0\t fc : 193.1000 THz\n",
      "  mode #0\t power: 0.00 dBm\n",
      "channel 0\t power: -0.00 dBm\n",
      "\n",
      "total WDM dignal power: -0.00 dBm\n",
      "Demodulating channel #0 , fc: 193.1000 THz, λ: 1552.5244 nm\n",
      "\n",
      "Local oscillator P: 12.00 dBm, lw: 0.00 kHz, FO: 21000.00 MHz\n",
      "CSPR = 12.00 dB\n",
      "\n",
      "\n",
      "nlms - training stage #0\n"
     ]
    },
    {
     "data": {
      "application/vnd.jupyter.widget-view+json": {
       "model_id": "8dcfcd44a775435ab9f22000df79439f",
       "version_major": 2,
       "version_minor": 0
      },
      "text/plain": [
       "  0%|          | 0/5 [00:00<?, ?it/s]"
      ]
     },
     "metadata": {},
     "output_type": "display_data"
    },
    {
     "name": "stdout",
     "output_type": "stream",
     "text": [
      "nlms pre-convergence training iteration #0\n",
      "nlms MSE = 0.027629.\n",
      "nlms pre-convergence training iteration #1\n",
      "nlms MSE = 0.011361.\n",
      "nlms pre-convergence training iteration #2\n",
      "nlms MSE = 0.008919.\n",
      "nlms pre-convergence training iteration #3\n",
      "nlms MSE = 0.007869.\n",
      "nlms pre-convergence training iteration #4\n",
      "nlms MSE = 0.007317.\n",
      "\n",
      "\n",
      "dd-lms - training stage #1\n",
      "dd-lms MSE = 0.005419.\n",
      "Results:\n",
      "\n",
      "SER: 1.57e-02\n",
      "BER: 2.68e-03\n",
      "SNR: 22.44 dB\n",
      "MI: 5.92 bits\n",
      "GMI: 5.91 bits\n",
      "channel 0\t fc : 193.1000 THz\n",
      "  mode #0\t power: 0.00 dBm\n",
      "channel 0\t power: 0.00 dBm\n",
      "\n",
      "total WDM dignal power: 0.00 dBm\n",
      "Demodulating channel #0 , fc: 193.1000 THz, λ: 1552.5244 nm\n",
      "\n",
      "Local oscillator P: 12.00 dBm, lw: 0.00 kHz, FO: 17000.00 MHz\n",
      "CSPR = 12.00 dB\n",
      "\n",
      "\n",
      "nlms - training stage #0\n"
     ]
    },
    {
     "data": {
      "application/vnd.jupyter.widget-view+json": {
       "model_id": "665c28143b8e435c8ce2da0561c2d5de",
       "version_major": 2,
       "version_minor": 0
      },
      "text/plain": [
       "  0%|          | 0/5 [00:00<?, ?it/s]"
      ]
     },
     "metadata": {},
     "output_type": "display_data"
    },
    {
     "name": "stdout",
     "output_type": "stream",
     "text": [
      "nlms pre-convergence training iteration #0\n",
      "nlms MSE = 0.022077.\n",
      "nlms pre-convergence training iteration #1\n",
      "nlms MSE = 0.002243.\n",
      "nlms pre-convergence training iteration #2\n",
      "nlms MSE = 0.001832.\n",
      "nlms pre-convergence training iteration #3\n",
      "nlms MSE = 0.001596.\n",
      "nlms pre-convergence training iteration #4\n",
      "nlms MSE = 0.001440.\n",
      "\n",
      "\n",
      "dd-lms - training stage #1\n",
      "dd-lms MSE = 0.000973.\n",
      "Results:\n",
      "\n",
      "SER: 4.44e-04\n",
      "BER: 7.59e-05\n",
      "SNR: 29.86 dB\n",
      "MI: 5.99 bits\n",
      "GMI: 5.99 bits\n",
      "channel 0\t fc : 193.1000 THz\n",
      "  mode #0\t power: 0.00 dBm\n",
      "channel 0\t power: -0.00 dBm\n",
      "\n",
      "total WDM dignal power: -0.00 dBm\n",
      "Demodulating channel #0 , fc: 193.1000 THz, λ: 1552.5244 nm\n",
      "\n",
      "Local oscillator P: 12.00 dBm, lw: 0.00 kHz, FO: 17000.00 MHz\n",
      "CSPR = 12.00 dB\n",
      "\n",
      "\n",
      "nlms - training stage #0\n"
     ]
    },
    {
     "data": {
      "application/vnd.jupyter.widget-view+json": {
       "model_id": "dcbe9a23dc8b4c90bd55e3b1378a4058",
       "version_major": 2,
       "version_minor": 0
      },
      "text/plain": [
       "  0%|          | 0/5 [00:00<?, ?it/s]"
      ]
     },
     "metadata": {},
     "output_type": "display_data"
    },
    {
     "name": "stdout",
     "output_type": "stream",
     "text": [
      "nlms pre-convergence training iteration #0\n",
      "nlms MSE = 0.020277.\n",
      "nlms pre-convergence training iteration #1\n",
      "nlms MSE = 0.002566.\n",
      "nlms pre-convergence training iteration #2\n",
      "nlms MSE = 0.002099.\n",
      "nlms pre-convergence training iteration #3\n",
      "nlms MSE = 0.001853.\n",
      "nlms pre-convergence training iteration #4\n",
      "nlms MSE = 0.001703.\n",
      "\n",
      "\n",
      "dd-lms - training stage #1\n",
      "dd-lms MSE = 0.001181.\n",
      "Results:\n",
      "\n",
      "SER: 4.89e-04\n",
      "BER: 8.15e-05\n",
      "SNR: 29.22 dB\n",
      "MI: 5.99 bits\n",
      "GMI: 5.99 bits\n",
      "channel 0\t fc : 193.1000 THz\n",
      "  mode #0\t power: 0.00 dBm\n",
      "channel 0\t power: 0.00 dBm\n",
      "\n",
      "total WDM dignal power: 0.00 dBm\n",
      "Demodulating channel #0 , fc: 193.1000 THz, λ: 1552.5244 nm\n",
      "\n",
      "Local oscillator P: 12.00 dBm, lw: 0.00 kHz, FO: 17000.00 MHz\n",
      "CSPR = 12.00 dB\n",
      "\n",
      "\n",
      "nlms - training stage #0\n"
     ]
    },
    {
     "data": {
      "application/vnd.jupyter.widget-view+json": {
       "model_id": "0e1830eb602947e287f7033509b5df6b",
       "version_major": 2,
       "version_minor": 0
      },
      "text/plain": [
       "  0%|          | 0/5 [00:00<?, ?it/s]"
      ]
     },
     "metadata": {},
     "output_type": "display_data"
    },
    {
     "name": "stdout",
     "output_type": "stream",
     "text": [
      "nlms pre-convergence training iteration #0\n",
      "nlms MSE = 0.022359.\n",
      "nlms pre-convergence training iteration #1\n",
      "nlms MSE = 0.005457.\n",
      "nlms pre-convergence training iteration #2\n",
      "nlms MSE = 0.004804.\n",
      "nlms pre-convergence training iteration #3\n",
      "nlms MSE = 0.004435.\n",
      "nlms pre-convergence training iteration #4\n",
      "nlms MSE = 0.004188.\n",
      "\n",
      "\n",
      "dd-lms - training stage #1\n",
      "dd-lms MSE = 0.003020.\n",
      "Results:\n",
      "\n",
      "SER: 2.34e-03\n",
      "BER: 3.94e-04\n",
      "SNR: 25.18 dB\n",
      "MI: 5.99 bits\n",
      "GMI: 5.98 bits\n",
      "channel 0\t fc : 193.1000 THz\n",
      "  mode #0\t power: 0.00 dBm\n",
      "channel 0\t power: 0.00 dBm\n",
      "\n",
      "total WDM dignal power: 0.00 dBm\n",
      "Demodulating channel #0 , fc: 193.1000 THz, λ: 1552.5244 nm\n",
      "\n",
      "Local oscillator P: 12.00 dBm, lw: 0.00 kHz, FO: 17000.00 MHz\n",
      "CSPR = 12.00 dB\n",
      "\n",
      "\n",
      "nlms - training stage #0\n"
     ]
    },
    {
     "data": {
      "application/vnd.jupyter.widget-view+json": {
       "model_id": "948739335e8245a8b4cf3a50f91457d8",
       "version_major": 2,
       "version_minor": 0
      },
      "text/plain": [
       "  0%|          | 0/5 [00:00<?, ?it/s]"
      ]
     },
     "metadata": {},
     "output_type": "display_data"
    },
    {
     "name": "stdout",
     "output_type": "stream",
     "text": [
      "nlms pre-convergence training iteration #0\n",
      "nlms MSE = 0.027669.\n",
      "nlms pre-convergence training iteration #1\n",
      "nlms MSE = 0.008654.\n",
      "nlms pre-convergence training iteration #2\n",
      "nlms MSE = 0.007135.\n",
      "nlms pre-convergence training iteration #3\n",
      "nlms MSE = 0.006353.\n",
      "nlms pre-convergence training iteration #4\n",
      "nlms MSE = 0.005855.\n",
      "\n",
      "\n",
      "dd-lms - training stage #1\n",
      "dd-lms MSE = 0.003971.\n",
      "Results:\n",
      "\n",
      "SER: 6.36e-03\n",
      "BER: 1.07e-03\n",
      "SNR: 23.91 dB\n",
      "MI: 5.96 bits\n",
      "GMI: 5.96 bits\n",
      "channel 0\t fc : 193.1000 THz\n",
      "  mode #0\t power: 0.00 dBm\n",
      "channel 0\t power: 0.00 dBm\n",
      "\n",
      "total WDM dignal power: 0.00 dBm\n",
      "Demodulating channel #0 , fc: 193.1000 THz, λ: 1552.5244 nm\n",
      "\n",
      "Local oscillator P: 12.00 dBm, lw: 0.00 kHz, FO: 17000.00 MHz\n",
      "CSPR = 12.00 dB\n",
      "\n",
      "\n",
      "nlms - training stage #0\n"
     ]
    },
    {
     "data": {
      "application/vnd.jupyter.widget-view+json": {
       "model_id": "84eb8779c2f64cb7a6145e58d3e3aa04",
       "version_major": 2,
       "version_minor": 0
      },
      "text/plain": [
       "  0%|          | 0/5 [00:00<?, ?it/s]"
      ]
     },
     "metadata": {},
     "output_type": "display_data"
    },
    {
     "name": "stdout",
     "output_type": "stream",
     "text": [
      "nlms pre-convergence training iteration #0\n",
      "nlms MSE = 0.032957.\n",
      "nlms pre-convergence training iteration #1\n",
      "nlms MSE = 0.011595.\n",
      "nlms pre-convergence training iteration #2\n",
      "nlms MSE = 0.009210.\n",
      "nlms pre-convergence training iteration #3\n",
      "nlms MSE = 0.008066.\n",
      "nlms pre-convergence training iteration #4\n",
      "nlms MSE = 0.007373.\n",
      "\n",
      "\n",
      "dd-lms - training stage #1\n",
      "dd-lms MSE = 0.005243.\n",
      "Results:\n",
      "\n",
      "SER: 1.50e-02\n",
      "BER: 2.56e-03\n",
      "SNR: 22.63 dB\n",
      "MI: 5.92 bits\n",
      "GMI: 5.92 bits\n",
      "channel 0\t fc : 193.1000 THz\n",
      "  mode #0\t power: 0.00 dBm\n",
      "channel 0\t power: 0.00 dBm\n",
      "\n",
      "total WDM dignal power: 0.00 dBm\n",
      "Demodulating channel #0 , fc: 193.1000 THz, λ: 1552.5244 nm\n",
      "\n",
      "Local oscillator P: 12.00 dBm, lw: 0.00 kHz, FO: 17000.00 MHz\n",
      "CSPR = 12.00 dB\n",
      "\n",
      "\n",
      "nlms - training stage #0\n"
     ]
    },
    {
     "data": {
      "application/vnd.jupyter.widget-view+json": {
       "model_id": "3b6e16acd4cd434c8d4dcb412e86cb6b",
       "version_major": 2,
       "version_minor": 0
      },
      "text/plain": [
       "  0%|          | 0/5 [00:00<?, ?it/s]"
      ]
     },
     "metadata": {},
     "output_type": "display_data"
    },
    {
     "name": "stdout",
     "output_type": "stream",
     "text": [
      "nlms pre-convergence training iteration #0\n",
      "nlms MSE = 0.038128.\n",
      "nlms pre-convergence training iteration #1\n",
      "nlms MSE = 0.014435.\n",
      "nlms pre-convergence training iteration #2\n",
      "nlms MSE = 0.011462.\n",
      "nlms pre-convergence training iteration #3\n",
      "nlms MSE = 0.010092.\n",
      "nlms pre-convergence training iteration #4\n",
      "nlms MSE = 0.009276.\n",
      "\n",
      "\n",
      "dd-lms - training stage #1\n",
      "dd-lms MSE = 0.006572.\n",
      "Results:\n",
      "\n",
      "SER: 3.14e-02\n",
      "BER: 5.36e-03\n",
      "SNR: 21.42 dB\n",
      "MI: 5.84 bits\n",
      "GMI: 5.84 bits\n",
      "channel 0\t fc : 193.1000 THz\n",
      "  mode #0\t power: 0.00 dBm\n",
      "channel 0\t power: 0.00 dBm\n",
      "\n",
      "total WDM dignal power: 0.00 dBm\n",
      "Demodulating channel #0 , fc: 193.1000 THz, λ: 1552.5244 nm\n",
      "\n",
      "Local oscillator P: 12.00 dBm, lw: 0.00 kHz, FO: 17000.00 MHz\n",
      "CSPR = 12.00 dB\n",
      "\n",
      "\n",
      "nlms - training stage #0\n"
     ]
    },
    {
     "data": {
      "application/vnd.jupyter.widget-view+json": {
       "model_id": "e89b7ad4da8d49eca06f72ccb21255e3",
       "version_major": 2,
       "version_minor": 0
      },
      "text/plain": [
       "  0%|          | 0/5 [00:00<?, ?it/s]"
      ]
     },
     "metadata": {},
     "output_type": "display_data"
    },
    {
     "name": "stdout",
     "output_type": "stream",
     "text": [
      "nlms pre-convergence training iteration #0\n",
      "nlms MSE = 0.045146.\n",
      "nlms pre-convergence training iteration #1\n",
      "nlms MSE = 0.017980.\n",
      "nlms pre-convergence training iteration #2\n",
      "nlms MSE = 0.014354.\n",
      "nlms pre-convergence training iteration #3\n",
      "nlms MSE = 0.012687.\n",
      "nlms pre-convergence training iteration #4\n",
      "nlms MSE = 0.011691.\n",
      "\n",
      "\n",
      "dd-lms - training stage #1\n",
      "dd-lms MSE = 0.007861.\n",
      "Results:\n",
      "\n",
      "SER: 5.25e-02\n",
      "BER: 9.07e-03\n",
      "SNR: 20.44 dB\n",
      "MI: 5.75 bits\n",
      "GMI: 5.75 bits\n",
      "channel 0\t fc : 193.1000 THz\n",
      "  mode #0\t power: 0.00 dBm\n",
      "channel 0\t power: -0.00 dBm\n",
      "\n",
      "total WDM dignal power: -0.00 dBm\n",
      "Demodulating channel #0 , fc: 193.1000 THz, λ: 1552.5244 nm\n",
      "\n",
      "Local oscillator P: 12.00 dBm, lw: 0.00 kHz, FO: 17000.00 MHz\n",
      "CSPR = 12.00 dB\n",
      "\n",
      "\n",
      "nlms - training stage #0\n"
     ]
    },
    {
     "data": {
      "application/vnd.jupyter.widget-view+json": {
       "model_id": "de18b1b88b314b78a9745275aeb8b071",
       "version_major": 2,
       "version_minor": 0
      },
      "text/plain": [
       "  0%|          | 0/5 [00:00<?, ?it/s]"
      ]
     },
     "metadata": {},
     "output_type": "display_data"
    },
    {
     "name": "stdout",
     "output_type": "stream",
     "text": [
      "nlms pre-convergence training iteration #0\n",
      "nlms MSE = 0.051314.\n",
      "nlms pre-convergence training iteration #1\n",
      "nlms MSE = 0.021478.\n",
      "nlms pre-convergence training iteration #2\n",
      "nlms MSE = 0.016944.\n",
      "nlms pre-convergence training iteration #3\n",
      "nlms MSE = 0.014882.\n",
      "nlms pre-convergence training iteration #4\n",
      "nlms MSE = 0.013670.\n",
      "\n",
      "\n",
      "dd-lms - training stage #1\n",
      "dd-lms MSE = 0.009270.\n",
      "Results:\n",
      "\n",
      "SER: 8.11e-02\n",
      "BER: 1.41e-02\n",
      "SNR: 19.49 dB\n",
      "MI: 5.64 bits\n",
      "GMI: 5.64 bits\n",
      "channel 0\t fc : 193.1000 THz\n",
      "  mode #0\t power: 0.00 dBm\n",
      "channel 0\t power: 0.00 dBm\n",
      "\n",
      "total WDM dignal power: 0.00 dBm\n",
      "Demodulating channel #0 , fc: 193.1000 THz, λ: 1552.5244 nm\n",
      "\n",
      "Local oscillator P: 12.00 dBm, lw: 0.00 kHz, FO: 17000.00 MHz\n",
      "CSPR = 12.00 dB\n",
      "\n",
      "\n",
      "nlms - training stage #0\n"
     ]
    },
    {
     "data": {
      "application/vnd.jupyter.widget-view+json": {
       "model_id": "3fec2441dc3e4fc2a0323d4c3b92b19f",
       "version_major": 2,
       "version_minor": 0
      },
      "text/plain": [
       "  0%|          | 0/5 [00:00<?, ?it/s]"
      ]
     },
     "metadata": {},
     "output_type": "display_data"
    },
    {
     "name": "stdout",
     "output_type": "stream",
     "text": [
      "nlms pre-convergence training iteration #0\n",
      "nlms MSE = 0.057252.\n",
      "nlms pre-convergence training iteration #1\n",
      "nlms MSE = 0.025486.\n",
      "nlms pre-convergence training iteration #2\n",
      "nlms MSE = 0.020424.\n",
      "nlms pre-convergence training iteration #3\n",
      "nlms MSE = 0.018053.\n",
      "nlms pre-convergence training iteration #4\n",
      "nlms MSE = 0.016623.\n",
      "\n",
      "\n",
      "dd-lms - training stage #1\n",
      "dd-lms MSE = 0.010706.\n",
      "Results:\n",
      "\n",
      "SER: 1.22e-01\n",
      "BER: 2.14e-02\n",
      "SNR: 18.51 dB\n",
      "MI: 5.48 bits\n",
      "GMI: 5.48 bits\n",
      "channel 0\t fc : 193.1000 THz\n",
      "  mode #0\t power: 0.00 dBm\n",
      "channel 0\t power: -0.00 dBm\n",
      "\n",
      "total WDM dignal power: -0.00 dBm\n",
      "Demodulating channel #0 , fc: 193.1000 THz, λ: 1552.5244 nm\n",
      "\n",
      "Local oscillator P: 12.00 dBm, lw: 0.00 kHz, FO: 17000.00 MHz\n",
      "CSPR = 12.00 dB\n",
      "\n",
      "\n",
      "nlms - training stage #0\n"
     ]
    },
    {
     "data": {
      "application/vnd.jupyter.widget-view+json": {
       "model_id": "f33f59d7832b4751b547790965ae2ed1",
       "version_major": 2,
       "version_minor": 0
      },
      "text/plain": [
       "  0%|          | 0/5 [00:00<?, ?it/s]"
      ]
     },
     "metadata": {},
     "output_type": "display_data"
    },
    {
     "name": "stdout",
     "output_type": "stream",
     "text": [
      "nlms pre-convergence training iteration #0\n",
      "nlms MSE = 0.064344.\n",
      "nlms pre-convergence training iteration #1\n",
      "nlms MSE = 0.029560.\n",
      "nlms pre-convergence training iteration #2\n",
      "nlms MSE = 0.023601.\n",
      "nlms pre-convergence training iteration #3\n",
      "nlms MSE = 0.020804.\n",
      "nlms pre-convergence training iteration #4\n",
      "nlms MSE = 0.019106.\n",
      "\n",
      "\n",
      "dd-lms - training stage #1\n",
      "dd-lms MSE = 0.011809.\n",
      "Results:\n",
      "\n",
      "SER: 1.63e-01\n",
      "BER: 2.88e-02\n",
      "SNR: 17.72 dB\n",
      "MI: 5.32 bits\n",
      "GMI: 5.32 bits\n",
      "channel 0\t fc : 193.1000 THz\n",
      "  mode #0\t power: 0.00 dBm\n",
      "channel 0\t power: 0.00 dBm\n",
      "\n",
      "total WDM dignal power: 0.00 dBm\n",
      "Demodulating channel #0 , fc: 193.1000 THz, λ: 1552.5244 nm\n",
      "\n",
      "Local oscillator P: 12.00 dBm, lw: 0.00 kHz, FO: 18000.00 MHz\n",
      "CSPR = 12.00 dB\n",
      "\n",
      "\n",
      "nlms - training stage #0\n"
     ]
    },
    {
     "data": {
      "application/vnd.jupyter.widget-view+json": {
       "model_id": "b220dc3703ee490a8e7278f0a18f9195",
       "version_major": 2,
       "version_minor": 0
      },
      "text/plain": [
       "  0%|          | 0/5 [00:00<?, ?it/s]"
      ]
     },
     "metadata": {},
     "output_type": "display_data"
    },
    {
     "name": "stdout",
     "output_type": "stream",
     "text": [
      "nlms pre-convergence training iteration #0\n",
      "nlms MSE = 0.022250.\n",
      "nlms pre-convergence training iteration #1\n",
      "nlms MSE = 0.002505.\n",
      "nlms pre-convergence training iteration #2\n",
      "nlms MSE = 0.002109.\n",
      "nlms pre-convergence training iteration #3\n",
      "nlms MSE = 0.001880.\n",
      "nlms pre-convergence training iteration #4\n",
      "nlms MSE = 0.001729.\n",
      "\n",
      "\n",
      "dd-lms - training stage #1\n",
      "dd-lms MSE = 0.001098.\n",
      "Results:\n",
      "\n",
      "SER: 5.78e-04\n",
      "BER: 1.02e-04\n",
      "SNR: 29.31 dB\n",
      "MI: 5.98 bits\n",
      "GMI: 5.98 bits\n",
      "channel 0\t fc : 193.1000 THz\n",
      "  mode #0\t power: 0.00 dBm\n",
      "channel 0\t power: -0.00 dBm\n",
      "\n",
      "total WDM dignal power: -0.00 dBm\n",
      "Demodulating channel #0 , fc: 193.1000 THz, λ: 1552.5244 nm\n",
      "\n",
      "Local oscillator P: 12.00 dBm, lw: 0.00 kHz, FO: 18000.00 MHz\n",
      "CSPR = 12.00 dB\n",
      "\n",
      "\n",
      "nlms - training stage #0\n"
     ]
    },
    {
     "data": {
      "application/vnd.jupyter.widget-view+json": {
       "model_id": "1d336e91cad44e3da1aa102a5d78988d",
       "version_major": 2,
       "version_minor": 0
      },
      "text/plain": [
       "  0%|          | 0/5 [00:00<?, ?it/s]"
      ]
     },
     "metadata": {},
     "output_type": "display_data"
    },
    {
     "name": "stdout",
     "output_type": "stream",
     "text": [
      "nlms pre-convergence training iteration #0\n",
      "nlms MSE = 0.019687.\n",
      "nlms pre-convergence training iteration #1\n",
      "nlms MSE = 0.002465.\n",
      "nlms pre-convergence training iteration #2\n",
      "nlms MSE = 0.002010.\n",
      "nlms pre-convergence training iteration #3\n",
      "nlms MSE = 0.001767.\n",
      "nlms pre-convergence training iteration #4\n",
      "nlms MSE = 0.001616.\n",
      "\n",
      "\n",
      "dd-lms - training stage #1\n",
      "dd-lms MSE = 0.001027.\n",
      "Results:\n",
      "\n",
      "SER: 5.11e-04\n",
      "BER: 8.89e-05\n",
      "SNR: 29.67 dB\n",
      "MI: 5.99 bits\n",
      "GMI: 5.99 bits\n",
      "channel 0\t fc : 193.1000 THz\n",
      "  mode #0\t power: 0.00 dBm\n",
      "channel 0\t power: -0.00 dBm\n",
      "\n",
      "total WDM dignal power: -0.00 dBm\n",
      "Demodulating channel #0 , fc: 193.1000 THz, λ: 1552.5244 nm\n",
      "\n",
      "Local oscillator P: 12.00 dBm, lw: 0.00 kHz, FO: 18000.00 MHz\n",
      "CSPR = 12.00 dB\n",
      "\n",
      "\n",
      "nlms - training stage #0\n"
     ]
    },
    {
     "data": {
      "application/vnd.jupyter.widget-view+json": {
       "model_id": "70054688910e41e98570315276fd601a",
       "version_major": 2,
       "version_minor": 0
      },
      "text/plain": [
       "  0%|          | 0/5 [00:00<?, ?it/s]"
      ]
     },
     "metadata": {},
     "output_type": "display_data"
    },
    {
     "name": "stdout",
     "output_type": "stream",
     "text": [
      "nlms pre-convergence training iteration #0\n",
      "nlms MSE = 0.017785.\n",
      "nlms pre-convergence training iteration #1\n",
      "nlms MSE = 0.002556.\n",
      "nlms pre-convergence training iteration #2\n",
      "nlms MSE = 0.002350.\n",
      "nlms pre-convergence training iteration #3\n",
      "nlms MSE = 0.002210.\n",
      "nlms pre-convergence training iteration #4\n",
      "nlms MSE = 0.002110.\n",
      "\n",
      "\n",
      "dd-lms - training stage #1\n",
      "dd-lms MSE = 0.001462.\n",
      "Results:\n",
      "\n",
      "SER: 5.44e-04\n",
      "BER: 9.26e-05\n",
      "SNR: 28.28 dB\n",
      "MI: 5.99 bits\n",
      "GMI: 5.99 bits\n",
      "channel 0\t fc : 193.1000 THz\n",
      "  mode #0\t power: 0.00 dBm\n",
      "channel 0\t power: -0.00 dBm\n",
      "\n",
      "total WDM dignal power: -0.00 dBm\n",
      "Demodulating channel #0 , fc: 193.1000 THz, λ: 1552.5244 nm\n",
      "\n",
      "Local oscillator P: 12.00 dBm, lw: 0.00 kHz, FO: 18000.00 MHz\n",
      "CSPR = 12.00 dB\n",
      "\n",
      "\n",
      "nlms - training stage #0\n"
     ]
    },
    {
     "data": {
      "application/vnd.jupyter.widget-view+json": {
       "model_id": "e4ffb0183e7b406e9e98d2f27a6082cf",
       "version_major": 2,
       "version_minor": 0
      },
      "text/plain": [
       "  0%|          | 0/5 [00:00<?, ?it/s]"
      ]
     },
     "metadata": {},
     "output_type": "display_data"
    },
    {
     "name": "stdout",
     "output_type": "stream",
     "text": [
      "nlms pre-convergence training iteration #0\n",
      "nlms MSE = 0.019804.\n",
      "nlms pre-convergence training iteration #1\n",
      "nlms MSE = 0.004763.\n",
      "nlms pre-convergence training iteration #2\n",
      "nlms MSE = 0.004186.\n",
      "nlms pre-convergence training iteration #3\n",
      "nlms MSE = 0.003804.\n",
      "nlms pre-convergence training iteration #4\n",
      "nlms MSE = 0.003528.\n",
      "\n",
      "\n",
      "dd-lms - training stage #1\n",
      "dd-lms MSE = 0.002268.\n",
      "Results:\n",
      "\n",
      "SER: 1.04e-03\n",
      "BER: 1.78e-04\n",
      "SNR: 26.33 dB\n",
      "MI: 5.99 bits\n",
      "GMI: 5.99 bits\n",
      "channel 0\t fc : 193.1000 THz\n",
      "  mode #0\t power: 0.00 dBm\n",
      "channel 0\t power: 0.00 dBm\n",
      "\n",
      "total WDM dignal power: 0.00 dBm\n",
      "Demodulating channel #0 , fc: 193.1000 THz, λ: 1552.5244 nm\n",
      "\n",
      "Local oscillator P: 12.00 dBm, lw: 0.00 kHz, FO: 18000.00 MHz\n",
      "CSPR = 12.00 dB\n",
      "\n",
      "\n",
      "nlms - training stage #0\n"
     ]
    },
    {
     "data": {
      "application/vnd.jupyter.widget-view+json": {
       "model_id": "d4753ffb423246719b08a0feb5907e8f",
       "version_major": 2,
       "version_minor": 0
      },
      "text/plain": [
       "  0%|          | 0/5 [00:00<?, ?it/s]"
      ]
     },
     "metadata": {},
     "output_type": "display_data"
    },
    {
     "name": "stdout",
     "output_type": "stream",
     "text": [
      "nlms pre-convergence training iteration #0\n",
      "nlms MSE = 0.023809.\n",
      "nlms pre-convergence training iteration #1\n",
      "nlms MSE = 0.007264.\n",
      "nlms pre-convergence training iteration #2\n",
      "nlms MSE = 0.005812.\n",
      "nlms pre-convergence training iteration #3\n",
      "nlms MSE = 0.005042.\n",
      "nlms pre-convergence training iteration #4\n",
      "nlms MSE = 0.004572.\n",
      "\n",
      "\n",
      "dd-lms - training stage #1\n",
      "dd-lms MSE = 0.003117.\n",
      "Results:\n",
      "\n",
      "SER: 2.78e-03\n",
      "BER: 4.76e-04\n",
      "SNR: 25.02 dB\n",
      "MI: 5.98 bits\n",
      "GMI: 5.98 bits\n",
      "channel 0\t fc : 193.1000 THz\n",
      "  mode #0\t power: 0.00 dBm\n",
      "channel 0\t power: -0.00 dBm\n",
      "\n",
      "total WDM dignal power: -0.00 dBm\n",
      "Demodulating channel #0 , fc: 193.1000 THz, λ: 1552.5244 nm\n",
      "\n",
      "Local oscillator P: 12.00 dBm, lw: 0.00 kHz, FO: 18000.00 MHz\n",
      "CSPR = 12.00 dB\n",
      "\n",
      "\n",
      "nlms - training stage #0\n"
     ]
    },
    {
     "data": {
      "application/vnd.jupyter.widget-view+json": {
       "model_id": "31c21fb426af4c19a90964ba59c87b2b",
       "version_major": 2,
       "version_minor": 0
      },
      "text/plain": [
       "  0%|          | 0/5 [00:00<?, ?it/s]"
      ]
     },
     "metadata": {},
     "output_type": "display_data"
    },
    {
     "name": "stdout",
     "output_type": "stream",
     "text": [
      "nlms pre-convergence training iteration #0\n",
      "nlms MSE = 0.029494.\n",
      "nlms pre-convergence training iteration #1\n",
      "nlms MSE = 0.009991.\n",
      "nlms pre-convergence training iteration #2\n",
      "nlms MSE = 0.007676.\n",
      "nlms pre-convergence training iteration #3\n",
      "nlms MSE = 0.006632.\n",
      "nlms pre-convergence training iteration #4\n",
      "nlms MSE = 0.006053.\n",
      "\n",
      "\n",
      "dd-lms - training stage #1\n",
      "dd-lms MSE = 0.004209.\n",
      "Results:\n",
      "\n",
      "SER: 7.03e-03\n",
      "BER: 1.19e-03\n",
      "SNR: 23.65 dB\n",
      "MI: 5.96 bits\n",
      "GMI: 5.96 bits\n",
      "channel 0\t fc : 193.1000 THz\n",
      "  mode #0\t power: 0.00 dBm\n",
      "channel 0\t power: -0.00 dBm\n",
      "\n",
      "total WDM dignal power: -0.00 dBm\n",
      "Demodulating channel #0 , fc: 193.1000 THz, λ: 1552.5244 nm\n",
      "\n",
      "Local oscillator P: 12.00 dBm, lw: 0.00 kHz, FO: 18000.00 MHz\n",
      "CSPR = 12.00 dB\n",
      "\n",
      "\n",
      "nlms - training stage #0\n"
     ]
    },
    {
     "data": {
      "application/vnd.jupyter.widget-view+json": {
       "model_id": "f3fa0d09bdb74d0d994580f686820399",
       "version_major": 2,
       "version_minor": 0
      },
      "text/plain": [
       "  0%|          | 0/5 [00:00<?, ?it/s]"
      ]
     },
     "metadata": {},
     "output_type": "display_data"
    },
    {
     "name": "stdout",
     "output_type": "stream",
     "text": [
      "nlms pre-convergence training iteration #0\n",
      "nlms MSE = 0.033791.\n",
      "nlms pre-convergence training iteration #1\n",
      "nlms MSE = 0.012301.\n",
      "nlms pre-convergence training iteration #2\n",
      "nlms MSE = 0.009453.\n",
      "nlms pre-convergence training iteration #3\n",
      "nlms MSE = 0.008222.\n",
      "nlms pre-convergence training iteration #4\n",
      "nlms MSE = 0.007537.\n",
      "\n",
      "\n",
      "dd-lms - training stage #1\n",
      "dd-lms MSE = 0.005442.\n",
      "Results:\n",
      "\n",
      "SER: 1.58e-02\n",
      "BER: 2.68e-03\n",
      "SNR: 22.44 dB\n",
      "MI: 5.92 bits\n",
      "GMI: 5.92 bits\n",
      "channel 0\t fc : 193.1000 THz\n",
      "  mode #0\t power: 0.00 dBm\n",
      "channel 0\t power: -0.00 dBm\n",
      "\n",
      "total WDM dignal power: -0.00 dBm\n",
      "Demodulating channel #0 , fc: 193.1000 THz, λ: 1552.5244 nm\n",
      "\n",
      "Local oscillator P: 12.00 dBm, lw: 0.00 kHz, FO: 18000.00 MHz\n",
      "CSPR = 12.00 dB\n",
      "\n",
      "\n",
      "nlms - training stage #0\n"
     ]
    },
    {
     "data": {
      "application/vnd.jupyter.widget-view+json": {
       "model_id": "d1d96c100d2c46c7b191f98a2c0704e4",
       "version_major": 2,
       "version_minor": 0
      },
      "text/plain": [
       "  0%|          | 0/5 [00:00<?, ?it/s]"
      ]
     },
     "metadata": {},
     "output_type": "display_data"
    },
    {
     "name": "stdout",
     "output_type": "stream",
     "text": [
      "nlms pre-convergence training iteration #0\n",
      "nlms MSE = 0.039525.\n",
      "nlms pre-convergence training iteration #1\n",
      "nlms MSE = 0.015391.\n",
      "nlms pre-convergence training iteration #2\n",
      "nlms MSE = 0.011974.\n",
      "nlms pre-convergence training iteration #3\n",
      "nlms MSE = 0.010501.\n",
      "nlms pre-convergence training iteration #4\n",
      "nlms MSE = 0.009661.\n",
      "\n",
      "\n",
      "dd-lms - training stage #1\n",
      "dd-lms MSE = 0.006807.\n",
      "Results:\n",
      "\n",
      "SER: 3.15e-02\n",
      "BER: 5.36e-03\n",
      "SNR: 21.31 dB\n",
      "MI: 5.85 bits\n",
      "GMI: 5.85 bits\n",
      "channel 0\t fc : 193.1000 THz\n",
      "  mode #0\t power: 0.00 dBm\n",
      "channel 0\t power: 0.00 dBm\n",
      "\n",
      "total WDM dignal power: 0.00 dBm\n",
      "Demodulating channel #0 , fc: 193.1000 THz, λ: 1552.5244 nm\n",
      "\n",
      "Local oscillator P: 12.00 dBm, lw: 0.00 kHz, FO: 18000.00 MHz\n",
      "CSPR = 12.00 dB\n",
      "\n",
      "\n",
      "nlms - training stage #0\n"
     ]
    },
    {
     "data": {
      "application/vnd.jupyter.widget-view+json": {
       "model_id": "8aa85abaf4b5481f92b6e8a9774e3a5b",
       "version_major": 2,
       "version_minor": 0
      },
      "text/plain": [
       "  0%|          | 0/5 [00:00<?, ?it/s]"
      ]
     },
     "metadata": {},
     "output_type": "display_data"
    },
    {
     "name": "stdout",
     "output_type": "stream",
     "text": [
      "nlms pre-convergence training iteration #0\n",
      "nlms MSE = 0.045710.\n",
      "nlms pre-convergence training iteration #1\n",
      "nlms MSE = 0.018767.\n",
      "nlms pre-convergence training iteration #2\n",
      "nlms MSE = 0.014795.\n",
      "nlms pre-convergence training iteration #3\n",
      "nlms MSE = 0.013016.\n",
      "nlms pre-convergence training iteration #4\n",
      "nlms MSE = 0.011968.\n",
      "\n",
      "\n",
      "dd-lms - training stage #1\n",
      "dd-lms MSE = 0.008075.\n",
      "Results:\n",
      "\n",
      "SER: 5.30e-02\n",
      "BER: 9.06e-03\n",
      "SNR: 20.33 dB\n",
      "MI: 5.76 bits\n",
      "GMI: 5.76 bits\n",
      "channel 0\t fc : 193.1000 THz\n",
      "  mode #0\t power: 0.00 dBm\n",
      "channel 0\t power: -0.00 dBm\n",
      "\n",
      "total WDM dignal power: -0.00 dBm\n",
      "Demodulating channel #0 , fc: 193.1000 THz, λ: 1552.5244 nm\n",
      "\n",
      "Local oscillator P: 12.00 dBm, lw: 0.00 kHz, FO: 18000.00 MHz\n",
      "CSPR = 12.00 dB\n",
      "\n",
      "\n",
      "nlms - training stage #0\n"
     ]
    },
    {
     "data": {
      "application/vnd.jupyter.widget-view+json": {
       "model_id": "e6b7be6ff65d482db0de8f26274797e7",
       "version_major": 2,
       "version_minor": 0
      },
      "text/plain": [
       "  0%|          | 0/5 [00:00<?, ?it/s]"
      ]
     },
     "metadata": {},
     "output_type": "display_data"
    },
    {
     "name": "stdout",
     "output_type": "stream",
     "text": [
      "nlms pre-convergence training iteration #0\n",
      "nlms MSE = 0.051165.\n",
      "nlms pre-convergence training iteration #1\n",
      "nlms MSE = 0.022031.\n",
      "nlms pre-convergence training iteration #2\n",
      "nlms MSE = 0.017285.\n",
      "nlms pre-convergence training iteration #3\n",
      "nlms MSE = 0.015160.\n",
      "nlms pre-convergence training iteration #4\n",
      "nlms MSE = 0.013896.\n",
      "\n",
      "\n",
      "dd-lms - training stage #1\n",
      "dd-lms MSE = 0.009396.\n",
      "Results:\n",
      "\n",
      "SER: 8.05e-02\n",
      "BER: 1.39e-02\n",
      "SNR: 19.42 dB\n",
      "MI: 5.65 bits\n",
      "GMI: 5.65 bits\n",
      "channel 0\t fc : 193.1000 THz\n",
      "  mode #0\t power: 0.00 dBm\n",
      "channel 0\t power: 0.00 dBm\n",
      "\n",
      "total WDM dignal power: 0.00 dBm\n",
      "Demodulating channel #0 , fc: 193.1000 THz, λ: 1552.5244 nm\n",
      "\n",
      "Local oscillator P: 12.00 dBm, lw: 0.00 kHz, FO: 19000.00 MHz\n",
      "CSPR = 12.00 dB\n",
      "\n",
      "\n",
      "nlms - training stage #0\n"
     ]
    },
    {
     "data": {
      "application/vnd.jupyter.widget-view+json": {
       "model_id": "86ee59bfd1234cc6acee1f1b58c073d4",
       "version_major": 2,
       "version_minor": 0
      },
      "text/plain": [
       "  0%|          | 0/5 [00:00<?, ?it/s]"
      ]
     },
     "metadata": {},
     "output_type": "display_data"
    },
    {
     "name": "stdout",
     "output_type": "stream",
     "text": [
      "nlms pre-convergence training iteration #0\n",
      "nlms MSE = 0.022160.\n",
      "nlms pre-convergence training iteration #1\n",
      "nlms MSE = 0.002526.\n",
      "nlms pre-convergence training iteration #2\n",
      "nlms MSE = 0.002119.\n",
      "nlms pre-convergence training iteration #3\n",
      "nlms MSE = 0.001886.\n",
      "nlms pre-convergence training iteration #4\n",
      "nlms MSE = 0.001733.\n",
      "\n",
      "\n",
      "dd-lms - training stage #1\n",
      "dd-lms MSE = 0.001286.\n",
      "Results:\n",
      "\n",
      "SER: 9.11e-04\n",
      "BER: 1.52e-04\n",
      "SNR: 28.67 dB\n",
      "MI: 5.98 bits\n",
      "GMI: 5.98 bits\n",
      "channel 0\t fc : 193.1000 THz\n",
      "  mode #0\t power: 0.00 dBm\n",
      "channel 0\t power: -0.00 dBm\n",
      "\n",
      "total WDM dignal power: -0.00 dBm\n",
      "Demodulating channel #0 , fc: 193.1000 THz, λ: 1552.5244 nm\n",
      "\n",
      "Local oscillator P: 12.00 dBm, lw: 0.00 kHz, FO: 19000.00 MHz\n",
      "CSPR = 12.00 dB\n",
      "\n",
      "\n",
      "nlms - training stage #0\n"
     ]
    },
    {
     "data": {
      "application/vnd.jupyter.widget-view+json": {
       "model_id": "350a607b0dbc48258c2554075ed8c5a7",
       "version_major": 2,
       "version_minor": 0
      },
      "text/plain": [
       "  0%|          | 0/5 [00:00<?, ?it/s]"
      ]
     },
     "metadata": {},
     "output_type": "display_data"
    },
    {
     "name": "stdout",
     "output_type": "stream",
     "text": [
      "nlms pre-convergence training iteration #0\n",
      "nlms MSE = 0.020133.\n",
      "nlms pre-convergence training iteration #1\n",
      "nlms MSE = 0.002732.\n",
      "nlms pre-convergence training iteration #2\n",
      "nlms MSE = 0.002270.\n",
      "nlms pre-convergence training iteration #3\n",
      "nlms MSE = 0.002025.\n",
      "nlms pre-convergence training iteration #4\n",
      "nlms MSE = 0.001873.\n",
      "\n",
      "\n",
      "dd-lms - training stage #1\n",
      "dd-lms MSE = 0.001182.\n",
      "Results:\n",
      "\n",
      "SER: 6.33e-04\n",
      "BER: 1.07e-04\n",
      "SNR: 29.15 dB\n",
      "MI: 5.98 bits\n",
      "GMI: 5.98 bits\n",
      "channel 0\t fc : 193.1000 THz\n",
      "  mode #0\t power: 0.00 dBm\n",
      "channel 0\t power: -0.00 dBm\n",
      "\n",
      "total WDM dignal power: -0.00 dBm\n",
      "Demodulating channel #0 , fc: 193.1000 THz, λ: 1552.5244 nm\n",
      "\n",
      "Local oscillator P: 12.00 dBm, lw: 0.00 kHz, FO: 19000.00 MHz\n",
      "CSPR = 12.00 dB\n",
      "\n",
      "\n",
      "nlms - training stage #0\n"
     ]
    },
    {
     "data": {
      "application/vnd.jupyter.widget-view+json": {
       "model_id": "8e3aecee36834e348bdf63b28fd6c3c4",
       "version_major": 2,
       "version_minor": 0
      },
      "text/plain": [
       "  0%|          | 0/5 [00:00<?, ?it/s]"
      ]
     },
     "metadata": {},
     "output_type": "display_data"
    },
    {
     "name": "stdout",
     "output_type": "stream",
     "text": [
      "nlms pre-convergence training iteration #0\n",
      "nlms MSE = 0.017515.\n",
      "nlms pre-convergence training iteration #1\n",
      "nlms MSE = 0.002154.\n",
      "nlms pre-convergence training iteration #2\n",
      "nlms MSE = 0.001984.\n",
      "nlms pre-convergence training iteration #3\n",
      "nlms MSE = 0.001862.\n",
      "nlms pre-convergence training iteration #4\n",
      "nlms MSE = 0.001774.\n",
      "\n",
      "\n",
      "dd-lms - training stage #1\n",
      "dd-lms MSE = 0.001276.\n",
      "Results:\n",
      "\n",
      "SER: 1.01e-03\n",
      "BER: 1.74e-04\n",
      "SNR: 28.74 dB\n",
      "MI: 5.98 bits\n",
      "GMI: 5.98 bits\n",
      "channel 0\t fc : 193.1000 THz\n",
      "  mode #0\t power: 0.00 dBm\n",
      "channel 0\t power: -0.00 dBm\n",
      "\n",
      "total WDM dignal power: -0.00 dBm\n",
      "Demodulating channel #0 , fc: 193.1000 THz, λ: 1552.5244 nm\n",
      "\n",
      "Local oscillator P: 12.00 dBm, lw: 0.00 kHz, FO: 19000.00 MHz\n",
      "CSPR = 12.00 dB\n",
      "\n",
      "\n",
      "nlms - training stage #0\n"
     ]
    },
    {
     "data": {
      "application/vnd.jupyter.widget-view+json": {
       "model_id": "c3215bad866040bfbea1480332717d55",
       "version_major": 2,
       "version_minor": 0
      },
      "text/plain": [
       "  0%|          | 0/5 [00:00<?, ?it/s]"
      ]
     },
     "metadata": {},
     "output_type": "display_data"
    },
    {
     "name": "stdout",
     "output_type": "stream",
     "text": [
      "nlms pre-convergence training iteration #0\n",
      "nlms MSE = 0.016248.\n",
      "nlms pre-convergence training iteration #1\n",
      "nlms MSE = 0.002476.\n",
      "nlms pre-convergence training iteration #2\n",
      "nlms MSE = 0.002397.\n",
      "nlms pre-convergence training iteration #3\n",
      "nlms MSE = 0.002330.\n",
      "nlms pre-convergence training iteration #4\n",
      "nlms MSE = 0.002271.\n",
      "\n",
      "\n",
      "dd-lms - training stage #1\n",
      "dd-lms MSE = 0.001751.\n",
      "Results:\n",
      "\n",
      "SER: 8.22e-04\n",
      "BER: 1.41e-04\n",
      "SNR: 27.48 dB\n",
      "MI: 5.99 bits\n",
      "GMI: 5.99 bits\n",
      "channel 0\t fc : 193.1000 THz\n",
      "  mode #0\t power: 0.00 dBm\n",
      "channel 0\t power: 0.00 dBm\n",
      "\n",
      "total WDM dignal power: 0.00 dBm\n",
      "Demodulating channel #0 , fc: 193.1000 THz, λ: 1552.5244 nm\n",
      "\n",
      "Local oscillator P: 12.00 dBm, lw: 0.00 kHz, FO: 19000.00 MHz\n",
      "CSPR = 12.00 dB\n",
      "\n",
      "\n",
      "nlms - training stage #0\n"
     ]
    },
    {
     "data": {
      "application/vnd.jupyter.widget-view+json": {
       "model_id": "3de0f5007f2a4cde8a9ad4d3a80b9d03",
       "version_major": 2,
       "version_minor": 0
      },
      "text/plain": [
       "  0%|          | 0/5 [00:00<?, ?it/s]"
      ]
     },
     "metadata": {},
     "output_type": "display_data"
    },
    {
     "name": "stdout",
     "output_type": "stream",
     "text": [
      "nlms pre-convergence training iteration #0\n",
      "nlms MSE = 0.018715.\n",
      "nlms pre-convergence training iteration #1\n",
      "nlms MSE = 0.004870.\n",
      "nlms pre-convergence training iteration #2\n",
      "nlms MSE = 0.004292.\n",
      "nlms pre-convergence training iteration #3\n",
      "nlms MSE = 0.003886.\n",
      "nlms pre-convergence training iteration #4\n",
      "nlms MSE = 0.003588.\n",
      "\n",
      "\n",
      "dd-lms - training stage #1\n",
      "dd-lms MSE = 0.002191.\n",
      "Results:\n",
      "\n",
      "SER: 1.24e-03\n",
      "BER: 2.11e-04\n",
      "SNR: 26.39 dB\n",
      "MI: 5.99 bits\n",
      "GMI: 5.99 bits\n",
      "channel 0\t fc : 193.1000 THz\n",
      "  mode #0\t power: 0.00 dBm\n",
      "channel 0\t power: -0.00 dBm\n",
      "\n",
      "total WDM dignal power: -0.00 dBm\n",
      "Demodulating channel #0 , fc: 193.1000 THz, λ: 1552.5244 nm\n",
      "\n",
      "Local oscillator P: 12.00 dBm, lw: 0.00 kHz, FO: 19000.00 MHz\n",
      "CSPR = 12.00 dB\n",
      "\n",
      "\n",
      "nlms - training stage #0\n"
     ]
    },
    {
     "data": {
      "application/vnd.jupyter.widget-view+json": {
       "model_id": "edd43aa42ba844e488414e4e6d772410",
       "version_major": 2,
       "version_minor": 0
      },
      "text/plain": [
       "  0%|          | 0/5 [00:00<?, ?it/s]"
      ]
     },
     "metadata": {},
     "output_type": "display_data"
    },
    {
     "name": "stdout",
     "output_type": "stream",
     "text": [
      "nlms pre-convergence training iteration #0\n",
      "nlms MSE = 0.022310.\n",
      "nlms pre-convergence training iteration #1\n",
      "nlms MSE = 0.006823.\n",
      "nlms pre-convergence training iteration #2\n",
      "nlms MSE = 0.005369.\n",
      "nlms pre-convergence training iteration #3\n",
      "nlms MSE = 0.004613.\n",
      "nlms pre-convergence training iteration #4\n",
      "nlms MSE = 0.004178.\n",
      "\n",
      "\n",
      "dd-lms - training stage #1\n",
      "dd-lms MSE = 0.002946.\n",
      "Results:\n",
      "\n",
      "SER: 2.58e-03\n",
      "BER: 4.35e-04\n",
      "SNR: 25.25 dB\n",
      "MI: 5.98 bits\n",
      "GMI: 5.98 bits\n",
      "channel 0\t fc : 193.1000 THz\n",
      "  mode #0\t power: 0.00 dBm\n",
      "channel 0\t power: 0.00 dBm\n",
      "\n",
      "total WDM dignal power: 0.00 dBm\n",
      "Demodulating channel #0 , fc: 193.1000 THz, λ: 1552.5244 nm\n",
      "\n",
      "Local oscillator P: 12.00 dBm, lw: 0.00 kHz, FO: 19000.00 MHz\n",
      "CSPR = 12.00 dB\n",
      "\n",
      "\n",
      "nlms - training stage #0\n"
     ]
    },
    {
     "data": {
      "application/vnd.jupyter.widget-view+json": {
       "model_id": "fafad758dff84afea1c80abbc9fe939f",
       "version_major": 2,
       "version_minor": 0
      },
      "text/plain": [
       "  0%|          | 0/5 [00:00<?, ?it/s]"
      ]
     },
     "metadata": {},
     "output_type": "display_data"
    },
    {
     "name": "stdout",
     "output_type": "stream",
     "text": [
      "nlms pre-convergence training iteration #0\n",
      "nlms MSE = 0.026559.\n",
      "nlms pre-convergence training iteration #1\n",
      "nlms MSE = 0.008879.\n",
      "nlms pre-convergence training iteration #2\n",
      "nlms MSE = 0.006731.\n",
      "nlms pre-convergence training iteration #3\n",
      "nlms MSE = 0.005790.\n",
      "nlms pre-convergence training iteration #4\n",
      "nlms MSE = 0.005303.\n",
      "\n",
      "\n",
      "dd-lms - training stage #1\n",
      "dd-lms MSE = 0.003924.\n",
      "Results:\n",
      "\n",
      "SER: 6.31e-03\n",
      "BER: 1.08e-03\n",
      "SNR: 23.97 dB\n",
      "MI: 5.96 bits\n",
      "GMI: 5.96 bits\n",
      "channel 0\t fc : 193.1000 THz\n",
      "  mode #0\t power: 0.00 dBm\n",
      "channel 0\t power: -0.00 dBm\n",
      "\n",
      "total WDM dignal power: -0.00 dBm\n",
      "Demodulating channel #0 , fc: 193.1000 THz, λ: 1552.5244 nm\n",
      "\n",
      "Local oscillator P: 12.00 dBm, lw: 0.00 kHz, FO: 19000.00 MHz\n",
      "CSPR = 12.00 dB\n",
      "\n",
      "\n",
      "nlms - training stage #0\n"
     ]
    },
    {
     "data": {
      "application/vnd.jupyter.widget-view+json": {
       "model_id": "914fef71225542e183a60b6f1fbecc6d",
       "version_major": 2,
       "version_minor": 0
      },
      "text/plain": [
       "  0%|          | 0/5 [00:00<?, ?it/s]"
      ]
     },
     "metadata": {},
     "output_type": "display_data"
    },
    {
     "name": "stdout",
     "output_type": "stream",
     "text": [
      "nlms pre-convergence training iteration #0\n",
      "nlms MSE = 0.030464.\n",
      "nlms pre-convergence training iteration #1\n",
      "nlms MSE = 0.010875.\n",
      "nlms pre-convergence training iteration #2\n",
      "nlms MSE = 0.008191.\n",
      "nlms pre-convergence training iteration #3\n",
      "nlms MSE = 0.007100.\n",
      "nlms pre-convergence training iteration #4\n",
      "nlms MSE = 0.006534.\n",
      "\n",
      "\n",
      "dd-lms - training stage #1\n",
      "dd-lms MSE = 0.005086.\n",
      "Results:\n",
      "\n",
      "SER: 1.23e-02\n",
      "BER: 2.08e-03\n",
      "SNR: 22.82 dB\n",
      "MI: 5.94 bits\n",
      "GMI: 5.93 bits\n",
      "channel 0\t fc : 193.1000 THz\n",
      "  mode #0\t power: 0.00 dBm\n",
      "channel 0\t power: 0.00 dBm\n",
      "\n",
      "total WDM dignal power: 0.00 dBm\n",
      "Demodulating channel #0 , fc: 193.1000 THz, λ: 1552.5244 nm\n",
      "\n",
      "Local oscillator P: 12.00 dBm, lw: 0.00 kHz, FO: 19000.00 MHz\n",
      "CSPR = 12.00 dB\n",
      "\n",
      "\n",
      "nlms - training stage #0\n"
     ]
    },
    {
     "data": {
      "application/vnd.jupyter.widget-view+json": {
       "model_id": "cbc554b7864e439cb6f59ceb29bac4ef",
       "version_major": 2,
       "version_minor": 0
      },
      "text/plain": [
       "  0%|          | 0/5 [00:00<?, ?it/s]"
      ]
     },
     "metadata": {},
     "output_type": "display_data"
    },
    {
     "name": "stdout",
     "output_type": "stream",
     "text": [
      "nlms pre-convergence training iteration #0\n",
      "nlms MSE = 0.036223.\n",
      "nlms pre-convergence training iteration #1\n",
      "nlms MSE = 0.014076.\n",
      "nlms pre-convergence training iteration #2\n",
      "nlms MSE = 0.010840.\n",
      "nlms pre-convergence training iteration #3\n",
      "nlms MSE = 0.009515.\n",
      "nlms pre-convergence training iteration #4\n",
      "nlms MSE = 0.008790.\n",
      "\n",
      "\n",
      "dd-lms - training stage #1\n",
      "dd-lms MSE = 0.006284.\n",
      "Results:\n",
      "\n",
      "SER: 2.57e-02\n",
      "BER: 4.38e-03\n",
      "SNR: 21.69 dB\n",
      "MI: 5.88 bits\n",
      "GMI: 5.87 bits\n",
      "channel 0\t fc : 193.1000 THz\n",
      "  mode #0\t power: 0.00 dBm\n",
      "channel 0\t power: -0.00 dBm\n",
      "\n",
      "total WDM dignal power: -0.00 dBm\n",
      "Demodulating channel #0 , fc: 193.1000 THz, λ: 1552.5244 nm\n",
      "\n",
      "Local oscillator P: 12.00 dBm, lw: 0.00 kHz, FO: 19000.00 MHz\n",
      "CSPR = 12.00 dB\n",
      "\n",
      "\n",
      "nlms - training stage #0\n"
     ]
    },
    {
     "data": {
      "application/vnd.jupyter.widget-view+json": {
       "model_id": "ea8fa33e7ed2484589a9b80222893081",
       "version_major": 2,
       "version_minor": 0
      },
      "text/plain": [
       "  0%|          | 0/5 [00:00<?, ?it/s]"
      ]
     },
     "metadata": {},
     "output_type": "display_data"
    },
    {
     "name": "stdout",
     "output_type": "stream",
     "text": [
      "nlms pre-convergence training iteration #0\n",
      "nlms MSE = 0.041296.\n",
      "nlms pre-convergence training iteration #1\n",
      "nlms MSE = 0.016848.\n",
      "nlms pre-convergence training iteration #2\n",
      "nlms MSE = 0.013034.\n",
      "nlms pre-convergence training iteration #3\n",
      "nlms MSE = 0.011423.\n",
      "nlms pre-convergence training iteration #4\n",
      "nlms MSE = 0.010502.\n",
      "\n",
      "\n",
      "dd-lms - training stage #1\n",
      "dd-lms MSE = 0.007359.\n",
      "Results:\n",
      "\n",
      "SER: 4.15e-02\n",
      "BER: 7.12e-03\n",
      "SNR: 20.83 dB\n",
      "MI: 5.81 bits\n",
      "GMI: 5.81 bits\n",
      "channel 0\t fc : 193.1000 THz\n",
      "  mode #0\t power: 0.00 dBm\n",
      "channel 0\t power: -0.00 dBm\n",
      "\n",
      "total WDM dignal power: -0.00 dBm\n",
      "Demodulating channel #0 , fc: 193.1000 THz, λ: 1552.5244 nm\n",
      "\n",
      "Local oscillator P: 12.00 dBm, lw: 0.00 kHz, FO: 20000.00 MHz\n",
      "CSPR = 12.00 dB\n",
      "\n",
      "\n",
      "nlms - training stage #0\n"
     ]
    },
    {
     "data": {
      "application/vnd.jupyter.widget-view+json": {
       "model_id": "42f94b9445ff4381b62df6fc33965add",
       "version_major": 2,
       "version_minor": 0
      },
      "text/plain": [
       "  0%|          | 0/5 [00:00<?, ?it/s]"
      ]
     },
     "metadata": {},
     "output_type": "display_data"
    },
    {
     "name": "stdout",
     "output_type": "stream",
     "text": [
      "nlms pre-convergence training iteration #0\n",
      "nlms MSE = 0.022638.\n",
      "nlms pre-convergence training iteration #1\n",
      "nlms MSE = 0.002736.\n",
      "nlms pre-convergence training iteration #2\n",
      "nlms MSE = 0.002325.\n",
      "nlms pre-convergence training iteration #3\n",
      "nlms MSE = 0.002094.\n",
      "nlms pre-convergence training iteration #4\n",
      "nlms MSE = 0.001942.\n",
      "\n",
      "\n",
      "dd-lms - training stage #1\n",
      "dd-lms MSE = 0.001488.\n",
      "Results:\n",
      "\n",
      "SER: 1.13e-03\n",
      "BER: 1.91e-04\n",
      "SNR: 28.09 dB\n",
      "MI: 5.98 bits\n",
      "GMI: 5.98 bits\n",
      "channel 0\t fc : 193.1000 THz\n",
      "  mode #0\t power: 0.00 dBm\n",
      "channel 0\t power: 0.00 dBm\n",
      "\n",
      "total WDM dignal power: 0.00 dBm\n",
      "Demodulating channel #0 , fc: 193.1000 THz, λ: 1552.5244 nm\n",
      "\n",
      "Local oscillator P: 12.00 dBm, lw: 0.00 kHz, FO: 20000.00 MHz\n",
      "CSPR = 12.00 dB\n",
      "\n",
      "\n",
      "nlms - training stage #0\n"
     ]
    },
    {
     "data": {
      "application/vnd.jupyter.widget-view+json": {
       "model_id": "5755c26b2c65415483144bba08c80d45",
       "version_major": 2,
       "version_minor": 0
      },
      "text/plain": [
       "  0%|          | 0/5 [00:00<?, ?it/s]"
      ]
     },
     "metadata": {},
     "output_type": "display_data"
    },
    {
     "name": "stdout",
     "output_type": "stream",
     "text": [
      "nlms pre-convergence training iteration #0\n",
      "nlms MSE = 0.020032.\n",
      "nlms pre-convergence training iteration #1\n",
      "nlms MSE = 0.002815.\n",
      "nlms pre-convergence training iteration #2\n",
      "nlms MSE = 0.002337.\n",
      "nlms pre-convergence training iteration #3\n",
      "nlms MSE = 0.002083.\n",
      "nlms pre-convergence training iteration #4\n",
      "nlms MSE = 0.001927.\n",
      "\n",
      "\n",
      "dd-lms - training stage #1\n",
      "dd-lms MSE = 0.001354.\n",
      "Results:\n",
      "\n",
      "SER: 9.78e-04\n",
      "BER: 1.65e-04\n",
      "SNR: 28.43 dB\n",
      "MI: 5.98 bits\n",
      "GMI: 5.98 bits\n",
      "channel 0\t fc : 193.1000 THz\n",
      "  mode #0\t power: 0.00 dBm\n",
      "channel 0\t power: 0.00 dBm\n",
      "\n",
      "total WDM dignal power: 0.00 dBm\n",
      "Demodulating channel #0 , fc: 193.1000 THz, λ: 1552.5244 nm\n",
      "\n",
      "Local oscillator P: 12.00 dBm, lw: 0.00 kHz, FO: 20000.00 MHz\n",
      "CSPR = 12.00 dB\n",
      "\n",
      "\n",
      "nlms - training stage #0\n"
     ]
    },
    {
     "data": {
      "application/vnd.jupyter.widget-view+json": {
       "model_id": "e3c9bfe47c8740ea8353b491b0721aac",
       "version_major": 2,
       "version_minor": 0
      },
      "text/plain": [
       "  0%|          | 0/5 [00:00<?, ?it/s]"
      ]
     },
     "metadata": {},
     "output_type": "display_data"
    },
    {
     "name": "stdout",
     "output_type": "stream",
     "text": [
      "nlms pre-convergence training iteration #0\n",
      "nlms MSE = 0.017303.\n",
      "nlms pre-convergence training iteration #1\n",
      "nlms MSE = 0.002450.\n",
      "nlms pre-convergence training iteration #2\n",
      "nlms MSE = 0.002277.\n",
      "nlms pre-convergence training iteration #3\n",
      "nlms MSE = 0.002155.\n",
      "nlms pre-convergence training iteration #4\n",
      "nlms MSE = 0.002067.\n",
      "\n",
      "\n",
      "dd-lms - training stage #1\n",
      "dd-lms MSE = 0.001472.\n",
      "Results:\n",
      "\n",
      "SER: 1.07e-03\n",
      "BER: 1.85e-04\n",
      "SNR: 28.16 dB\n",
      "MI: 5.99 bits\n",
      "GMI: 5.98 bits\n",
      "channel 0\t fc : 193.1000 THz\n",
      "  mode #0\t power: 0.00 dBm\n",
      "channel 0\t power: 0.00 dBm\n",
      "\n",
      "total WDM dignal power: 0.00 dBm\n",
      "Demodulating channel #0 , fc: 193.1000 THz, λ: 1552.5244 nm\n",
      "\n",
      "Local oscillator P: 12.00 dBm, lw: 0.00 kHz, FO: 20000.00 MHz\n",
      "CSPR = 12.00 dB\n",
      "\n",
      "\n",
      "nlms - training stage #0\n"
     ]
    },
    {
     "data": {
      "application/vnd.jupyter.widget-view+json": {
       "model_id": "72f642c636ff44d4beb718111e085399",
       "version_major": 2,
       "version_minor": 0
      },
      "text/plain": [
       "  0%|          | 0/5 [00:00<?, ?it/s]"
      ]
     },
     "metadata": {},
     "output_type": "display_data"
    },
    {
     "name": "stdout",
     "output_type": "stream",
     "text": [
      "nlms pre-convergence training iteration #0\n",
      "nlms MSE = 0.015782.\n",
      "nlms pre-convergence training iteration #1\n",
      "nlms MSE = 0.002298.\n",
      "nlms pre-convergence training iteration #2\n",
      "nlms MSE = 0.002263.\n",
      "nlms pre-convergence training iteration #3\n",
      "nlms MSE = 0.002232.\n",
      "nlms pre-convergence training iteration #4\n",
      "nlms MSE = 0.002203.\n",
      "\n",
      "\n",
      "dd-lms - training stage #1\n",
      "dd-lms MSE = 0.001642.\n",
      "Results:\n",
      "\n",
      "SER: 9.89e-04\n",
      "BER: 1.67e-04\n",
      "SNR: 27.74 dB\n",
      "MI: 5.99 bits\n",
      "GMI: 5.99 bits\n",
      "channel 0\t fc : 193.1000 THz\n",
      "  mode #0\t power: 0.00 dBm\n",
      "channel 0\t power: -0.00 dBm\n",
      "\n",
      "total WDM dignal power: -0.00 dBm\n",
      "Demodulating channel #0 , fc: 193.1000 THz, λ: 1552.5244 nm\n",
      "\n",
      "Local oscillator P: 12.00 dBm, lw: 0.00 kHz, FO: 20000.00 MHz\n",
      "CSPR = 12.00 dB\n",
      "\n",
      "\n",
      "nlms - training stage #0\n"
     ]
    },
    {
     "data": {
      "application/vnd.jupyter.widget-view+json": {
       "model_id": "a4fd95868fb843d0880d2375891c06e4",
       "version_major": 2,
       "version_minor": 0
      },
      "text/plain": [
       "  0%|          | 0/5 [00:00<?, ?it/s]"
      ]
     },
     "metadata": {},
     "output_type": "display_data"
    },
    {
     "name": "stdout",
     "output_type": "stream",
     "text": [
      "nlms pre-convergence training iteration #0\n",
      "nlms MSE = 0.016279.\n",
      "nlms pre-convergence training iteration #1\n",
      "nlms MSE = 0.003354.\n",
      "nlms pre-convergence training iteration #2\n",
      "nlms MSE = 0.003233.\n",
      "nlms pre-convergence training iteration #3\n",
      "nlms MSE = 0.003126.\n",
      "nlms pre-convergence training iteration #4\n",
      "nlms MSE = 0.003031.\n",
      "\n",
      "\n",
      "dd-lms - training stage #1\n",
      "dd-lms MSE = 0.002027.\n",
      "Results:\n",
      "\n",
      "SER: 1.76e-03\n",
      "BER: 3.02e-04\n",
      "SNR: 26.70 dB\n",
      "MI: 5.98 bits\n",
      "GMI: 5.97 bits\n",
      "channel 0\t fc : 193.1000 THz\n",
      "  mode #0\t power: 0.00 dBm\n",
      "channel 0\t power: -0.00 dBm\n",
      "\n",
      "total WDM dignal power: -0.00 dBm\n",
      "Demodulating channel #0 , fc: 193.1000 THz, λ: 1552.5244 nm\n",
      "\n",
      "Local oscillator P: 12.00 dBm, lw: 0.00 kHz, FO: 20000.00 MHz\n",
      "CSPR = 12.00 dB\n",
      "\n",
      "\n",
      "nlms - training stage #0\n"
     ]
    },
    {
     "data": {
      "application/vnd.jupyter.widget-view+json": {
       "model_id": "bdffa910fa954fe1942f48de57df02a6",
       "version_major": 2,
       "version_minor": 0
      },
      "text/plain": [
       "  0%|          | 0/5 [00:00<?, ?it/s]"
      ]
     },
     "metadata": {},
     "output_type": "display_data"
    },
    {
     "name": "stdout",
     "output_type": "stream",
     "text": [
      "nlms pre-convergence training iteration #0\n",
      "nlms MSE = 0.017768.\n",
      "nlms pre-convergence training iteration #1\n",
      "nlms MSE = 0.005195.\n",
      "nlms pre-convergence training iteration #2\n",
      "nlms MSE = 0.004557.\n",
      "nlms pre-convergence training iteration #3\n",
      "nlms MSE = 0.004107.\n",
      "nlms pre-convergence training iteration #4\n",
      "nlms MSE = 0.003782.\n",
      "\n",
      "\n",
      "dd-lms - training stage #1\n",
      "dd-lms MSE = 0.002457.\n",
      "Results:\n",
      "\n",
      "SER: 2.06e-03\n",
      "BER: 3.52e-04\n",
      "SNR: 25.87 dB\n",
      "MI: 5.98 bits\n",
      "GMI: 5.98 bits\n",
      "channel 0\t fc : 193.1000 THz\n",
      "  mode #0\t power: 0.00 dBm\n",
      "channel 0\t power: 0.00 dBm\n",
      "\n",
      "total WDM dignal power: 0.00 dBm\n",
      "Demodulating channel #0 , fc: 193.1000 THz, λ: 1552.5244 nm\n",
      "\n",
      "Local oscillator P: 12.00 dBm, lw: 0.00 kHz, FO: 20000.00 MHz\n",
      "CSPR = 12.00 dB\n",
      "\n",
      "\n",
      "nlms - training stage #0\n"
     ]
    },
    {
     "data": {
      "application/vnd.jupyter.widget-view+json": {
       "model_id": "d33e01fd584b438583c2c424a8c1c211",
       "version_major": 2,
       "version_minor": 0
      },
      "text/plain": [
       "  0%|          | 0/5 [00:00<?, ?it/s]"
      ]
     },
     "metadata": {},
     "output_type": "display_data"
    },
    {
     "name": "stdout",
     "output_type": "stream",
     "text": [
      "nlms pre-convergence training iteration #0\n",
      "nlms MSE = 0.021200.\n",
      "nlms pre-convergence training iteration #1\n",
      "nlms MSE = 0.007102.\n",
      "nlms pre-convergence training iteration #2\n",
      "nlms MSE = 0.005679.\n",
      "nlms pre-convergence training iteration #3\n",
      "nlms MSE = 0.004893.\n",
      "nlms pre-convergence training iteration #4\n",
      "nlms MSE = 0.004432.\n",
      "\n",
      "\n",
      "dd-lms - training stage #1\n",
      "dd-lms MSE = 0.003160.\n",
      "Results:\n",
      "\n",
      "SER: 3.28e-03\n",
      "BER: 5.54e-04\n",
      "SNR: 24.93 dB\n",
      "MI: 5.98 bits\n",
      "GMI: 5.97 bits\n",
      "channel 0\t fc : 193.1000 THz\n",
      "  mode #0\t power: 0.00 dBm\n",
      "channel 0\t power: 0.00 dBm\n",
      "\n",
      "total WDM dignal power: 0.00 dBm\n",
      "Demodulating channel #0 , fc: 193.1000 THz, λ: 1552.5244 nm\n",
      "\n",
      "Local oscillator P: 12.00 dBm, lw: 0.00 kHz, FO: 20000.00 MHz\n",
      "CSPR = 12.00 dB\n",
      "\n",
      "\n",
      "nlms - training stage #0\n"
     ]
    },
    {
     "data": {
      "application/vnd.jupyter.widget-view+json": {
       "model_id": "a4a2defb4ee94cdda0704eedda6db188",
       "version_major": 2,
       "version_minor": 0
      },
      "text/plain": [
       "  0%|          | 0/5 [00:00<?, ?it/s]"
      ]
     },
     "metadata": {},
     "output_type": "display_data"
    },
    {
     "name": "stdout",
     "output_type": "stream",
     "text": [
      "nlms pre-convergence training iteration #0\n",
      "nlms MSE = 0.024341.\n",
      "nlms pre-convergence training iteration #1\n",
      "nlms MSE = 0.008940.\n",
      "nlms pre-convergence training iteration #2\n",
      "nlms MSE = 0.006832.\n",
      "nlms pre-convergence training iteration #3\n",
      "nlms MSE = 0.005865.\n",
      "nlms pre-convergence training iteration #4\n",
      "nlms MSE = 0.005363.\n",
      "\n",
      "\n",
      "dd-lms - training stage #1\n",
      "dd-lms MSE = 0.004152.\n",
      "Results:\n",
      "\n",
      "SER: 8.04e-03\n",
      "BER: 1.36e-03\n",
      "SNR: 23.70 dB\n",
      "MI: 5.95 bits\n",
      "GMI: 5.95 bits\n",
      "channel 0\t fc : 193.1000 THz\n",
      "  mode #0\t power: 0.00 dBm\n",
      "channel 0\t power: -0.00 dBm\n",
      "\n",
      "total WDM dignal power: -0.00 dBm\n",
      "Demodulating channel #0 , fc: 193.1000 THz, λ: 1552.5244 nm\n",
      "\n",
      "Local oscillator P: 12.00 dBm, lw: 0.00 kHz, FO: 20000.00 MHz\n",
      "CSPR = 12.00 dB\n",
      "\n",
      "\n",
      "nlms - training stage #0\n"
     ]
    },
    {
     "data": {
      "application/vnd.jupyter.widget-view+json": {
       "model_id": "7bbed0255d514a77856f57285e905698",
       "version_major": 2,
       "version_minor": 0
      },
      "text/plain": [
       "  0%|          | 0/5 [00:00<?, ?it/s]"
      ]
     },
     "metadata": {},
     "output_type": "display_data"
    },
    {
     "name": "stdout",
     "output_type": "stream",
     "text": [
      "nlms pre-convergence training iteration #0\n",
      "nlms MSE = 0.029596.\n",
      "nlms pre-convergence training iteration #1\n",
      "nlms MSE = 0.011309.\n",
      "nlms pre-convergence training iteration #2\n",
      "nlms MSE = 0.008640.\n",
      "nlms pre-convergence training iteration #3\n",
      "nlms MSE = 0.007546.\n",
      "nlms pre-convergence training iteration #4\n",
      "nlms MSE = 0.006985.\n",
      "\n",
      "\n",
      "dd-lms - training stage #1\n",
      "dd-lms MSE = 0.005197.\n",
      "Results:\n",
      "\n",
      "SER: 1.44e-02\n",
      "BER: 2.44e-03\n",
      "SNR: 22.65 dB\n",
      "MI: 5.93 bits\n",
      "GMI: 5.92 bits\n",
      "channel 0\t fc : 193.1000 THz\n",
      "  mode #0\t power: 0.00 dBm\n",
      "channel 0\t power: 0.00 dBm\n",
      "\n",
      "total WDM dignal power: 0.00 dBm\n",
      "Demodulating channel #0 , fc: 193.1000 THz, λ: 1552.5244 nm\n",
      "\n",
      "Local oscillator P: 12.00 dBm, lw: 0.00 kHz, FO: 20000.00 MHz\n",
      "CSPR = 12.00 dB\n",
      "\n",
      "\n",
      "nlms - training stage #0\n"
     ]
    },
    {
     "data": {
      "application/vnd.jupyter.widget-view+json": {
       "model_id": "8664b06bba0d4507a8c1e2ec2eab606e",
       "version_major": 2,
       "version_minor": 0
      },
      "text/plain": [
       "  0%|          | 0/5 [00:00<?, ?it/s]"
      ]
     },
     "metadata": {},
     "output_type": "display_data"
    },
    {
     "name": "stdout",
     "output_type": "stream",
     "text": [
      "nlms pre-convergence training iteration #0\n",
      "nlms MSE = 0.034016.\n",
      "nlms pre-convergence training iteration #1\n",
      "nlms MSE = 0.013853.\n",
      "nlms pre-convergence training iteration #2\n",
      "nlms MSE = 0.010614.\n",
      "nlms pre-convergence training iteration #3\n",
      "nlms MSE = 0.009295.\n",
      "nlms pre-convergence training iteration #4\n",
      "nlms MSE = 0.008587.\n",
      "\n",
      "\n",
      "dd-lms - training stage #1\n",
      "dd-lms MSE = 0.006254.\n",
      "Results:\n",
      "\n",
      "SER: 2.55e-02\n",
      "BER: 4.35e-03\n",
      "SNR: 21.69 dB\n",
      "MI: 5.87 bits\n",
      "GMI: 5.87 bits\n",
      "channel 0\t fc : 193.1000 THz\n",
      "  mode #0\t power: 0.00 dBm\n",
      "channel 0\t power: 0.00 dBm\n",
      "\n",
      "total WDM dignal power: 0.00 dBm\n",
      "Demodulating channel #0 , fc: 193.1000 THz, λ: 1552.5244 nm\n",
      "\n",
      "Local oscillator P: 12.00 dBm, lw: 0.00 kHz, FO: 21000.00 MHz\n",
      "CSPR = 12.00 dB\n",
      "\n",
      "\n",
      "nlms - training stage #0\n"
     ]
    },
    {
     "data": {
      "application/vnd.jupyter.widget-view+json": {
       "model_id": "77710d2dcaf84ba88bb65ccf211dc82c",
       "version_major": 2,
       "version_minor": 0
      },
      "text/plain": [
       "  0%|          | 0/5 [00:00<?, ?it/s]"
      ]
     },
     "metadata": {},
     "output_type": "display_data"
    },
    {
     "name": "stdout",
     "output_type": "stream",
     "text": [
      "nlms pre-convergence training iteration #0\n",
      "nlms MSE = 0.023097.\n",
      "nlms pre-convergence training iteration #1\n",
      "nlms MSE = 0.003133.\n",
      "nlms pre-convergence training iteration #2\n",
      "nlms MSE = 0.002732.\n",
      "nlms pre-convergence training iteration #3\n",
      "nlms MSE = 0.002504.\n",
      "nlms pre-convergence training iteration #4\n",
      "nlms MSE = 0.002353.\n",
      "\n",
      "\n",
      "dd-lms - training stage #1\n",
      "dd-lms MSE = 0.001743.\n",
      "Results:\n",
      "\n",
      "SER: 1.22e-03\n",
      "BER: 2.07e-04\n",
      "SNR: 27.47 dB\n",
      "MI: 5.98 bits\n",
      "GMI: 5.98 bits\n",
      "channel 0\t fc : 193.1000 THz\n",
      "  mode #0\t power: 0.00 dBm\n",
      "channel 0\t power: 0.00 dBm\n",
      "\n",
      "total WDM dignal power: 0.00 dBm\n",
      "Demodulating channel #0 , fc: 193.1000 THz, λ: 1552.5244 nm\n",
      "\n",
      "Local oscillator P: 12.00 dBm, lw: 0.00 kHz, FO: 21000.00 MHz\n",
      "CSPR = 12.00 dB\n",
      "\n",
      "\n",
      "nlms - training stage #0\n"
     ]
    },
    {
     "data": {
      "application/vnd.jupyter.widget-view+json": {
       "model_id": "1d45287331b64945bd7afbf8d45e2437",
       "version_major": 2,
       "version_minor": 0
      },
      "text/plain": [
       "  0%|          | 0/5 [00:00<?, ?it/s]"
      ]
     },
     "metadata": {},
     "output_type": "display_data"
    },
    {
     "name": "stdout",
     "output_type": "stream",
     "text": [
      "nlms pre-convergence training iteration #0\n",
      "nlms MSE = 0.020144.\n",
      "nlms pre-convergence training iteration #1\n",
      "nlms MSE = 0.002933.\n",
      "nlms pre-convergence training iteration #2\n",
      "nlms MSE = 0.002463.\n",
      "nlms pre-convergence training iteration #3\n",
      "nlms MSE = 0.002213.\n",
      "nlms pre-convergence training iteration #4\n",
      "nlms MSE = 0.002058.\n",
      "\n",
      "\n",
      "dd-lms - training stage #1\n",
      "dd-lms MSE = 0.001619.\n",
      "Results:\n",
      "\n",
      "SER: 1.43e-03\n",
      "BER: 2.44e-04\n",
      "SNR: 27.73 dB\n",
      "MI: 5.98 bits\n",
      "GMI: 5.98 bits\n",
      "channel 0\t fc : 193.1000 THz\n",
      "  mode #0\t power: 0.00 dBm\n",
      "channel 0\t power: -0.00 dBm\n",
      "\n",
      "total WDM dignal power: -0.00 dBm\n",
      "Demodulating channel #0 , fc: 193.1000 THz, λ: 1552.5244 nm\n",
      "\n",
      "Local oscillator P: 12.00 dBm, lw: 0.00 kHz, FO: 21000.00 MHz\n",
      "CSPR = 12.00 dB\n",
      "\n",
      "\n",
      "nlms - training stage #0\n"
     ]
    },
    {
     "data": {
      "application/vnd.jupyter.widget-view+json": {
       "model_id": "2a353208683f4d51acb5f29f5aec83eb",
       "version_major": 2,
       "version_minor": 0
      },
      "text/plain": [
       "  0%|          | 0/5 [00:00<?, ?it/s]"
      ]
     },
     "metadata": {},
     "output_type": "display_data"
    },
    {
     "name": "stdout",
     "output_type": "stream",
     "text": [
      "nlms pre-convergence training iteration #0\n",
      "nlms MSE = 0.018143.\n",
      "nlms pre-convergence training iteration #1\n",
      "nlms MSE = 0.002615.\n",
      "nlms pre-convergence training iteration #2\n",
      "nlms MSE = 0.002435.\n",
      "nlms pre-convergence training iteration #3\n",
      "nlms MSE = 0.002307.\n",
      "nlms pre-convergence training iteration #4\n",
      "nlms MSE = 0.002214.\n",
      "\n",
      "\n",
      "dd-lms - training stage #1\n",
      "dd-lms MSE = 0.001723.\n",
      "Results:\n",
      "\n",
      "SER: 1.38e-03\n",
      "BER: 2.39e-04\n",
      "SNR: 27.46 dB\n",
      "MI: 5.98 bits\n",
      "GMI: 5.98 bits\n",
      "channel 0\t fc : 193.1000 THz\n",
      "  mode #0\t power: 0.00 dBm\n",
      "channel 0\t power: -0.00 dBm\n",
      "\n",
      "total WDM dignal power: -0.00 dBm\n",
      "Demodulating channel #0 , fc: 193.1000 THz, λ: 1552.5244 nm\n",
      "\n",
      "Local oscillator P: 12.00 dBm, lw: 0.00 kHz, FO: 21000.00 MHz\n",
      "CSPR = 12.00 dB\n",
      "\n",
      "\n",
      "nlms - training stage #0\n"
     ]
    },
    {
     "data": {
      "application/vnd.jupyter.widget-view+json": {
       "model_id": "558ceb1b882645ecbccffc98992795fe",
       "version_major": 2,
       "version_minor": 0
      },
      "text/plain": [
       "  0%|          | 0/5 [00:00<?, ?it/s]"
      ]
     },
     "metadata": {},
     "output_type": "display_data"
    },
    {
     "name": "stdout",
     "output_type": "stream",
     "text": [
      "nlms pre-convergence training iteration #0\n",
      "nlms MSE = 0.015352.\n",
      "nlms pre-convergence training iteration #1\n",
      "nlms MSE = 0.002278.\n",
      "nlms pre-convergence training iteration #2\n",
      "nlms MSE = 0.002239.\n",
      "nlms pre-convergence training iteration #3\n",
      "nlms MSE = 0.002205.\n",
      "nlms pre-convergence training iteration #4\n",
      "nlms MSE = 0.002174.\n",
      "\n",
      "\n",
      "dd-lms - training stage #1\n",
      "dd-lms MSE = 0.001868.\n",
      "Results:\n",
      "\n",
      "SER: 1.33e-03\n",
      "BER: 2.37e-04\n",
      "SNR: 27.18 dB\n",
      "MI: 5.98 bits\n",
      "GMI: 5.97 bits\n",
      "channel 0\t fc : 193.1000 THz\n",
      "  mode #0\t power: 0.00 dBm\n",
      "channel 0\t power: 0.00 dBm\n",
      "\n",
      "total WDM dignal power: 0.00 dBm\n",
      "Demodulating channel #0 , fc: 193.1000 THz, λ: 1552.5244 nm\n",
      "\n",
      "Local oscillator P: 12.00 dBm, lw: 0.00 kHz, FO: 21000.00 MHz\n",
      "CSPR = 12.00 dB\n",
      "\n",
      "\n",
      "nlms - training stage #0\n"
     ]
    },
    {
     "data": {
      "application/vnd.jupyter.widget-view+json": {
       "model_id": "198efffcd62f48edbd85980bc2a139f8",
       "version_major": 2,
       "version_minor": 0
      },
      "text/plain": [
       "  0%|          | 0/5 [00:00<?, ?it/s]"
      ]
     },
     "metadata": {},
     "output_type": "display_data"
    },
    {
     "name": "stdout",
     "output_type": "stream",
     "text": [
      "nlms pre-convergence training iteration #0\n",
      "nlms MSE = 0.015245.\n",
      "nlms pre-convergence training iteration #1\n",
      "nlms MSE = 0.002845.\n",
      "nlms pre-convergence training iteration #2\n",
      "nlms MSE = 0.002800.\n",
      "nlms pre-convergence training iteration #3\n",
      "nlms MSE = 0.002757.\n",
      "nlms pre-convergence training iteration #4\n",
      "nlms MSE = 0.002717.\n",
      "\n",
      "\n",
      "dd-lms - training stage #1\n",
      "dd-lms MSE = 0.002015.\n",
      "Results:\n",
      "\n",
      "SER: 1.48e-03\n",
      "BER: 2.59e-04\n",
      "SNR: 26.76 dB\n",
      "MI: 5.98 bits\n",
      "GMI: 5.98 bits\n",
      "channel 0\t fc : 193.1000 THz\n",
      "  mode #0\t power: 0.00 dBm\n",
      "channel 0\t power: 0.00 dBm\n",
      "\n",
      "total WDM dignal power: 0.00 dBm\n",
      "Demodulating channel #0 , fc: 193.1000 THz, λ: 1552.5244 nm\n",
      "\n",
      "Local oscillator P: 12.00 dBm, lw: 0.00 kHz, FO: 21000.00 MHz\n",
      "CSPR = 12.00 dB\n",
      "\n",
      "\n",
      "nlms - training stage #0\n"
     ]
    },
    {
     "data": {
      "application/vnd.jupyter.widget-view+json": {
       "model_id": "31498278340449ff895f1a72db7eaeb0",
       "version_major": 2,
       "version_minor": 0
      },
      "text/plain": [
       "  0%|          | 0/5 [00:00<?, ?it/s]"
      ]
     },
     "metadata": {},
     "output_type": "display_data"
    },
    {
     "name": "stdout",
     "output_type": "stream",
     "text": [
      "nlms pre-convergence training iteration #0\n",
      "nlms MSE = 0.015835.\n",
      "nlms pre-convergence training iteration #1\n",
      "nlms MSE = 0.003894.\n",
      "nlms pre-convergence training iteration #2\n",
      "nlms MSE = 0.003736.\n",
      "nlms pre-convergence training iteration #3\n",
      "nlms MSE = 0.003598.\n",
      "nlms pre-convergence training iteration #4\n",
      "nlms MSE = 0.003477.\n",
      "\n",
      "\n",
      "dd-lms - training stage #1\n",
      "dd-lms MSE = 0.002372.\n",
      "Results:\n",
      "\n",
      "SER: 2.17e-03\n",
      "BER: 3.67e-04\n",
      "SNR: 26.06 dB\n",
      "MI: 5.97 bits\n",
      "GMI: 5.97 bits\n",
      "channel 0\t fc : 193.1000 THz\n",
      "  mode #0\t power: 0.00 dBm\n",
      "channel 0\t power: 0.00 dBm\n",
      "\n",
      "total WDM dignal power: 0.00 dBm\n",
      "Demodulating channel #0 , fc: 193.1000 THz, λ: 1552.5244 nm\n",
      "\n",
      "Local oscillator P: 12.00 dBm, lw: 0.00 kHz, FO: 21000.00 MHz\n",
      "CSPR = 12.00 dB\n",
      "\n",
      "\n",
      "nlms - training stage #0\n"
     ]
    },
    {
     "data": {
      "application/vnd.jupyter.widget-view+json": {
       "model_id": "b8001dd56c6b4ad9a9be05add3804125",
       "version_major": 2,
       "version_minor": 0
      },
      "text/plain": [
       "  0%|          | 0/5 [00:00<?, ?it/s]"
      ]
     },
     "metadata": {},
     "output_type": "display_data"
    },
    {
     "name": "stdout",
     "output_type": "stream",
     "text": [
      "nlms pre-convergence training iteration #0\n",
      "nlms MSE = 0.017879.\n",
      "nlms pre-convergence training iteration #1\n",
      "nlms MSE = 0.005724.\n",
      "nlms pre-convergence training iteration #2\n",
      "nlms MSE = 0.005116.\n",
      "nlms pre-convergence training iteration #3\n",
      "nlms MSE = 0.004683.\n",
      "nlms pre-convergence training iteration #4\n",
      "nlms MSE = 0.004368.\n",
      "\n",
      "\n",
      "dd-lms - training stage #1\n",
      "dd-lms MSE = 0.002895.\n",
      "Results:\n",
      "\n",
      "SER: 3.29e-03\n",
      "BER: 5.65e-04\n",
      "SNR: 25.16 dB\n",
      "MI: 5.97 bits\n",
      "GMI: 5.97 bits\n",
      "channel 0\t fc : 193.1000 THz\n",
      "  mode #0\t power: 0.00 dBm\n",
      "channel 0\t power: -0.00 dBm\n",
      "\n",
      "total WDM dignal power: -0.00 dBm\n",
      "Demodulating channel #0 , fc: 193.1000 THz, λ: 1552.5244 nm\n",
      "\n",
      "Local oscillator P: 12.00 dBm, lw: 0.00 kHz, FO: 21000.00 MHz\n",
      "CSPR = 12.00 dB\n",
      "\n",
      "\n",
      "nlms - training stage #0\n"
     ]
    },
    {
     "data": {
      "application/vnd.jupyter.widget-view+json": {
       "model_id": "1c8e630d85f34753bed6e9b42a6ce598",
       "version_major": 2,
       "version_minor": 0
      },
      "text/plain": [
       "  0%|          | 0/5 [00:00<?, ?it/s]"
      ]
     },
     "metadata": {},
     "output_type": "display_data"
    },
    {
     "name": "stdout",
     "output_type": "stream",
     "text": [
      "nlms pre-convergence training iteration #0\n",
      "nlms MSE = 0.019703.\n",
      "nlms pre-convergence training iteration #1\n",
      "nlms MSE = 0.007041.\n",
      "nlms pre-convergence training iteration #2\n",
      "nlms MSE = 0.005822.\n",
      "nlms pre-convergence training iteration #3\n",
      "nlms MSE = 0.005108.\n",
      "nlms pre-convergence training iteration #4\n",
      "nlms MSE = 0.004671.\n",
      "\n",
      "\n",
      "dd-lms - training stage #1\n",
      "dd-lms MSE = 0.003582.\n",
      "Results:\n",
      "\n",
      "SER: 4.93e-03\n",
      "BER: 8.35e-04\n",
      "SNR: 24.35 dB\n",
      "MI: 5.96 bits\n",
      "GMI: 5.96 bits\n",
      "channel 0\t fc : 193.1000 THz\n",
      "  mode #0\t power: 0.00 dBm\n",
      "channel 0\t power: -0.00 dBm\n",
      "\n",
      "total WDM dignal power: -0.00 dBm\n",
      "Demodulating channel #0 , fc: 193.1000 THz, λ: 1552.5244 nm\n",
      "\n",
      "Local oscillator P: 12.00 dBm, lw: 0.00 kHz, FO: 21000.00 MHz\n",
      "CSPR = 12.00 dB\n",
      "\n",
      "\n",
      "nlms - training stage #0\n"
     ]
    },
    {
     "data": {
      "application/vnd.jupyter.widget-view+json": {
       "model_id": "d47025d27da34f65ae0e00ad185ed148",
       "version_major": 2,
       "version_minor": 0
      },
      "text/plain": [
       "  0%|          | 0/5 [00:00<?, ?it/s]"
      ]
     },
     "metadata": {},
     "output_type": "display_data"
    },
    {
     "name": "stdout",
     "output_type": "stream",
     "text": [
      "nlms pre-convergence training iteration #0\n",
      "nlms MSE = 0.023690.\n",
      "nlms pre-convergence training iteration #1\n",
      "nlms MSE = 0.009246.\n",
      "nlms pre-convergence training iteration #2\n",
      "nlms MSE = 0.007331.\n",
      "nlms pre-convergence training iteration #3\n",
      "nlms MSE = 0.006454.\n",
      "nlms pre-convergence training iteration #4\n",
      "nlms MSE = 0.005999.\n",
      "\n",
      "\n",
      "dd-lms - training stage #1\n",
      "dd-lms MSE = 0.004418.\n",
      "Results:\n",
      "\n",
      "SER: 9.72e-03\n",
      "BER: 1.66e-03\n",
      "SNR: 23.36 dB\n",
      "MI: 5.94 bits\n",
      "GMI: 5.94 bits\n",
      "channel 0\t fc : 193.1000 THz\n",
      "  mode #0\t power: 0.00 dBm\n",
      "channel 0\t power: -0.00 dBm\n",
      "\n",
      "total WDM dignal power: -0.00 dBm\n",
      "Demodulating channel #0 , fc: 193.1000 THz, λ: 1552.5244 nm\n",
      "\n",
      "Local oscillator P: 12.00 dBm, lw: 0.00 kHz, FO: 21000.00 MHz\n",
      "CSPR = 12.00 dB\n",
      "\n",
      "\n",
      "nlms - training stage #0\n"
     ]
    },
    {
     "data": {
      "application/vnd.jupyter.widget-view+json": {
       "model_id": "a2549157ac844ea09c5f78e364176164",
       "version_major": 2,
       "version_minor": 0
      },
      "text/plain": [
       "  0%|          | 0/5 [00:00<?, ?it/s]"
      ]
     },
     "metadata": {},
     "output_type": "display_data"
    },
    {
     "name": "stdout",
     "output_type": "stream",
     "text": [
      "nlms pre-convergence training iteration #0\n",
      "nlms MSE = 0.027315.\n",
      "nlms pre-convergence training iteration #1\n",
      "nlms MSE = 0.011065.\n",
      "nlms pre-convergence training iteration #2\n",
      "nlms MSE = 0.008673.\n",
      "nlms pre-convergence training iteration #3\n",
      "nlms MSE = 0.007678.\n",
      "nlms pre-convergence training iteration #4\n",
      "nlms MSE = 0.007162.\n",
      "\n",
      "\n",
      "dd-lms - training stage #1\n",
      "dd-lms MSE = 0.005415.\n",
      "Results:\n",
      "\n",
      "SER: 1.51e-02\n",
      "BER: 2.55e-03\n",
      "SNR: 22.46 dB\n",
      "MI: 5.92 bits\n",
      "GMI: 5.93 bits\n",
      "channel 0\t fc : 193.1000 THz\n",
      "  mode #0\t power: 0.00 dBm\n",
      "channel 0\t power: -0.00 dBm\n",
      "\n",
      "total WDM dignal power: -0.00 dBm\n",
      "Demodulating channel #0 , fc: 193.1000 THz, λ: 1552.5244 nm\n",
      "\n",
      "Local oscillator P: 12.00 dBm, lw: 0.00 kHz, FO: 17000.00 MHz\n",
      "CSPR = 12.00 dB\n",
      "\n",
      "\n",
      "nlms - training stage #0\n"
     ]
    },
    {
     "data": {
      "application/vnd.jupyter.widget-view+json": {
       "model_id": "25d940f2e24c4ea394709a83b8e3316b",
       "version_major": 2,
       "version_minor": 0
      },
      "text/plain": [
       "  0%|          | 0/5 [00:00<?, ?it/s]"
      ]
     },
     "metadata": {},
     "output_type": "display_data"
    },
    {
     "name": "stdout",
     "output_type": "stream",
     "text": [
      "nlms pre-convergence training iteration #0\n",
      "nlms MSE = 0.022675.\n",
      "nlms pre-convergence training iteration #1\n",
      "nlms MSE = 0.002390.\n",
      "nlms pre-convergence training iteration #2\n",
      "nlms MSE = 0.001979.\n",
      "nlms pre-convergence training iteration #3\n",
      "nlms MSE = 0.001744.\n",
      "nlms pre-convergence training iteration #4\n",
      "nlms MSE = 0.001588.\n",
      "\n",
      "\n",
      "dd-lms - training stage #1\n",
      "dd-lms MSE = 0.000970.\n",
      "Results:\n",
      "\n",
      "SER: 3.44e-04\n",
      "BER: 5.74e-05\n",
      "SNR: 29.90 dB\n",
      "MI: 5.99 bits\n",
      "GMI: 5.99 bits\n",
      "channel 0\t fc : 193.1000 THz\n",
      "  mode #0\t power: 0.00 dBm\n",
      "channel 0\t power: 0.00 dBm\n",
      "\n",
      "total WDM dignal power: 0.00 dBm\n",
      "Demodulating channel #0 , fc: 193.1000 THz, λ: 1552.5244 nm\n",
      "\n",
      "Local oscillator P: 12.00 dBm, lw: 0.00 kHz, FO: 17000.00 MHz\n",
      "CSPR = 12.00 dB\n",
      "\n",
      "\n",
      "nlms - training stage #0\n"
     ]
    },
    {
     "data": {
      "application/vnd.jupyter.widget-view+json": {
       "model_id": "e0a43d1ff81c41ef976c89686c32ace9",
       "version_major": 2,
       "version_minor": 0
      },
      "text/plain": [
       "  0%|          | 0/5 [00:00<?, ?it/s]"
      ]
     },
     "metadata": {},
     "output_type": "display_data"
    },
    {
     "name": "stdout",
     "output_type": "stream",
     "text": [
      "nlms pre-convergence training iteration #0\n",
      "nlms MSE = 0.020406.\n",
      "nlms pre-convergence training iteration #1\n",
      "nlms MSE = 0.002815.\n",
      "nlms pre-convergence training iteration #2\n",
      "nlms MSE = 0.002347.\n",
      "nlms pre-convergence training iteration #3\n",
      "nlms MSE = 0.002104.\n",
      "nlms pre-convergence training iteration #4\n",
      "nlms MSE = 0.001956.\n",
      "\n",
      "\n",
      "dd-lms - training stage #1\n",
      "dd-lms MSE = 0.001170.\n",
      "Results:\n",
      "\n",
      "SER: 3.00e-04\n",
      "BER: 5.37e-05\n",
      "SNR: 29.24 dB\n",
      "MI: 5.99 bits\n",
      "GMI: 5.99 bits\n",
      "channel 0\t fc : 193.1000 THz\n",
      "  mode #0\t power: 0.00 dBm\n",
      "channel 0\t power: -0.00 dBm\n",
      "\n",
      "total WDM dignal power: -0.00 dBm\n",
      "Demodulating channel #0 , fc: 193.1000 THz, λ: 1552.5244 nm\n",
      "\n",
      "Local oscillator P: 12.00 dBm, lw: 0.00 kHz, FO: 17000.00 MHz\n",
      "CSPR = 12.00 dB\n",
      "\n",
      "\n",
      "nlms - training stage #0\n"
     ]
    },
    {
     "data": {
      "application/vnd.jupyter.widget-view+json": {
       "model_id": "def50f6292f343d6812ccdd82ce9f80a",
       "version_major": 2,
       "version_minor": 0
      },
      "text/plain": [
       "  0%|          | 0/5 [00:00<?, ?it/s]"
      ]
     },
     "metadata": {},
     "output_type": "display_data"
    },
    {
     "name": "stdout",
     "output_type": "stream",
     "text": [
      "nlms pre-convergence training iteration #0\n",
      "nlms MSE = 0.023108.\n",
      "nlms pre-convergence training iteration #1\n",
      "nlms MSE = 0.005618.\n",
      "nlms pre-convergence training iteration #2\n",
      "nlms MSE = 0.004927.\n",
      "nlms pre-convergence training iteration #3\n",
      "nlms MSE = 0.004542.\n",
      "nlms pre-convergence training iteration #4\n",
      "nlms MSE = 0.004291.\n",
      "\n",
      "\n",
      "dd-lms - training stage #1\n",
      "dd-lms MSE = 0.002992.\n",
      "Results:\n",
      "\n",
      "SER: 1.90e-03\n",
      "BER: 3.19e-04\n",
      "SNR: 25.22 dB\n",
      "MI: 5.99 bits\n",
      "GMI: 5.99 bits\n",
      "channel 0\t fc : 193.1000 THz\n",
      "  mode #0\t power: 0.00 dBm\n",
      "channel 0\t power: -0.00 dBm\n",
      "\n",
      "total WDM dignal power: -0.00 dBm\n",
      "Demodulating channel #0 , fc: 193.1000 THz, λ: 1552.5244 nm\n",
      "\n",
      "Local oscillator P: 12.00 dBm, lw: 0.00 kHz, FO: 17000.00 MHz\n",
      "CSPR = 12.00 dB\n",
      "\n",
      "\n",
      "nlms - training stage #0\n"
     ]
    },
    {
     "data": {
      "application/vnd.jupyter.widget-view+json": {
       "model_id": "11395ad7fe1b4c229774e5ea6ff236d6",
       "version_major": 2,
       "version_minor": 0
      },
      "text/plain": [
       "  0%|          | 0/5 [00:00<?, ?it/s]"
      ]
     },
     "metadata": {},
     "output_type": "display_data"
    },
    {
     "name": "stdout",
     "output_type": "stream",
     "text": [
      "nlms pre-convergence training iteration #0\n",
      "nlms MSE = 0.026751.\n",
      "nlms pre-convergence training iteration #1\n",
      "nlms MSE = 0.008470.\n",
      "nlms pre-convergence training iteration #2\n",
      "nlms MSE = 0.006983.\n",
      "nlms pre-convergence training iteration #3\n",
      "nlms MSE = 0.006197.\n",
      "nlms pre-convergence training iteration #4\n",
      "nlms MSE = 0.005694.\n",
      "\n",
      "\n",
      "dd-lms - training stage #1\n",
      "dd-lms MSE = 0.003983.\n",
      "Results:\n",
      "\n",
      "SER: 6.64e-03\n",
      "BER: 1.12e-03\n",
      "SNR: 23.86 dB\n",
      "MI: 5.96 bits\n",
      "GMI: 5.96 bits\n",
      "channel 0\t fc : 193.1000 THz\n",
      "  mode #0\t power: 0.00 dBm\n",
      "channel 0\t power: -0.00 dBm\n",
      "\n",
      "total WDM dignal power: -0.00 dBm\n",
      "Demodulating channel #0 , fc: 193.1000 THz, λ: 1552.5244 nm\n",
      "\n",
      "Local oscillator P: 12.00 dBm, lw: 0.00 kHz, FO: 17000.00 MHz\n",
      "CSPR = 12.00 dB\n",
      "\n",
      "\n",
      "nlms - training stage #0\n"
     ]
    },
    {
     "data": {
      "application/vnd.jupyter.widget-view+json": {
       "model_id": "53d52342220449f39c90e7d0da846e61",
       "version_major": 2,
       "version_minor": 0
      },
      "text/plain": [
       "  0%|          | 0/5 [00:00<?, ?it/s]"
      ]
     },
     "metadata": {},
     "output_type": "display_data"
    },
    {
     "name": "stdout",
     "output_type": "stream",
     "text": [
      "nlms pre-convergence training iteration #0\n",
      "nlms MSE = 0.033639.\n",
      "nlms pre-convergence training iteration #1\n",
      "nlms MSE = 0.011463.\n",
      "nlms pre-convergence training iteration #2\n",
      "nlms MSE = 0.009102.\n",
      "nlms pre-convergence training iteration #3\n",
      "nlms MSE = 0.007977.\n",
      "nlms pre-convergence training iteration #4\n",
      "nlms MSE = 0.007296.\n",
      "\n",
      "\n",
      "dd-lms - training stage #1\n",
      "dd-lms MSE = 0.005202.\n",
      "Results:\n",
      "\n",
      "SER: 1.53e-02\n",
      "BER: 2.59e-03\n",
      "SNR: 22.64 dB\n",
      "MI: 5.92 bits\n",
      "GMI: 5.92 bits\n",
      "channel 0\t fc : 193.1000 THz\n",
      "  mode #0\t power: 0.00 dBm\n",
      "channel 0\t power: -0.00 dBm\n",
      "\n",
      "total WDM dignal power: -0.00 dBm\n",
      "Demodulating channel #0 , fc: 193.1000 THz, λ: 1552.5244 nm\n",
      "\n",
      "Local oscillator P: 12.00 dBm, lw: 0.00 kHz, FO: 17000.00 MHz\n",
      "CSPR = 12.00 dB\n",
      "\n",
      "\n",
      "nlms - training stage #0\n"
     ]
    },
    {
     "data": {
      "application/vnd.jupyter.widget-view+json": {
       "model_id": "3a37c62f931d4abb8bbabd21f1dad8a3",
       "version_major": 2,
       "version_minor": 0
      },
      "text/plain": [
       "  0%|          | 0/5 [00:00<?, ?it/s]"
      ]
     },
     "metadata": {},
     "output_type": "display_data"
    },
    {
     "name": "stdout",
     "output_type": "stream",
     "text": [
      "nlms pre-convergence training iteration #0\n",
      "nlms MSE = 0.038534.\n",
      "nlms pre-convergence training iteration #1\n",
      "nlms MSE = 0.014359.\n",
      "nlms pre-convergence training iteration #2\n",
      "nlms MSE = 0.011351.\n",
      "nlms pre-convergence training iteration #3\n",
      "nlms MSE = 0.009975.\n",
      "nlms pre-convergence training iteration #4\n",
      "nlms MSE = 0.009157.\n",
      "\n",
      "\n",
      "dd-lms - training stage #1\n",
      "dd-lms MSE = 0.006552.\n",
      "Results:\n",
      "\n",
      "SER: 3.04e-02\n",
      "BER: 5.20e-03\n",
      "SNR: 21.48 dB\n",
      "MI: 5.85 bits\n",
      "GMI: 5.85 bits\n",
      "channel 0\t fc : 193.1000 THz\n",
      "  mode #0\t power: 0.00 dBm\n",
      "channel 0\t power: 0.00 dBm\n",
      "\n",
      "total WDM dignal power: 0.00 dBm\n",
      "Demodulating channel #0 , fc: 193.1000 THz, λ: 1552.5244 nm\n",
      "\n",
      "Local oscillator P: 12.00 dBm, lw: 0.00 kHz, FO: 17000.00 MHz\n",
      "CSPR = 12.00 dB\n",
      "\n",
      "\n",
      "nlms - training stage #0\n"
     ]
    },
    {
     "data": {
      "application/vnd.jupyter.widget-view+json": {
       "model_id": "6a2ac871116f4466ae8788e99bc2273b",
       "version_major": 2,
       "version_minor": 0
      },
      "text/plain": [
       "  0%|          | 0/5 [00:00<?, ?it/s]"
      ]
     },
     "metadata": {},
     "output_type": "display_data"
    },
    {
     "name": "stdout",
     "output_type": "stream",
     "text": [
      "nlms pre-convergence training iteration #0\n",
      "nlms MSE = 0.044313.\n",
      "nlms pre-convergence training iteration #1\n",
      "nlms MSE = 0.017763.\n",
      "nlms pre-convergence training iteration #2\n",
      "nlms MSE = 0.014005.\n",
      "nlms pre-convergence training iteration #3\n",
      "nlms MSE = 0.012295.\n",
      "nlms pre-convergence training iteration #4\n",
      "nlms MSE = 0.011282.\n",
      "\n",
      "\n",
      "dd-lms - training stage #1\n",
      "dd-lms MSE = 0.007889.\n",
      "Results:\n",
      "\n",
      "SER: 5.11e-02\n",
      "BER: 8.73e-03\n",
      "SNR: 20.47 dB\n",
      "MI: 5.76 bits\n",
      "GMI: 5.76 bits\n",
      "channel 0\t fc : 193.1000 THz\n",
      "  mode #0\t power: 0.00 dBm\n",
      "channel 0\t power: -0.00 dBm\n",
      "\n",
      "total WDM dignal power: -0.00 dBm\n",
      "Demodulating channel #0 , fc: 193.1000 THz, λ: 1552.5244 nm\n",
      "\n",
      "Local oscillator P: 12.00 dBm, lw: 0.00 kHz, FO: 17000.00 MHz\n",
      "CSPR = 12.00 dB\n",
      "\n",
      "\n",
      "nlms - training stage #0\n"
     ]
    },
    {
     "data": {
      "application/vnd.jupyter.widget-view+json": {
       "model_id": "4406281720824e13a41b8b1a4b809505",
       "version_major": 2,
       "version_minor": 0
      },
      "text/plain": [
       "  0%|          | 0/5 [00:00<?, ?it/s]"
      ]
     },
     "metadata": {},
     "output_type": "display_data"
    },
    {
     "name": "stdout",
     "output_type": "stream",
     "text": [
      "nlms pre-convergence training iteration #0\n",
      "nlms MSE = 0.050907.\n",
      "nlms pre-convergence training iteration #1\n",
      "nlms MSE = 0.021710.\n",
      "nlms pre-convergence training iteration #2\n",
      "nlms MSE = 0.017321.\n",
      "nlms pre-convergence training iteration #3\n",
      "nlms MSE = 0.015271.\n",
      "nlms pre-convergence training iteration #4\n",
      "nlms MSE = 0.014043.\n",
      "\n",
      "\n",
      "dd-lms - training stage #1\n",
      "dd-lms MSE = 0.009336.\n",
      "Results:\n",
      "\n",
      "SER: 8.31e-02\n",
      "BER: 1.44e-02\n",
      "SNR: 19.45 dB\n",
      "MI: 5.64 bits\n",
      "GMI: 5.64 bits\n",
      "channel 0\t fc : 193.1000 THz\n",
      "  mode #0\t power: 0.00 dBm\n",
      "channel 0\t power: 0.00 dBm\n",
      "\n",
      "total WDM dignal power: 0.00 dBm\n",
      "Demodulating channel #0 , fc: 193.1000 THz, λ: 1552.5244 nm\n",
      "\n",
      "Local oscillator P: 12.00 dBm, lw: 0.00 kHz, FO: 17000.00 MHz\n",
      "CSPR = 12.00 dB\n",
      "\n",
      "\n",
      "nlms - training stage #0\n"
     ]
    },
    {
     "data": {
      "application/vnd.jupyter.widget-view+json": {
       "model_id": "1dd0bcabe91349b995d2d29d0f9b3303",
       "version_major": 2,
       "version_minor": 0
      },
      "text/plain": [
       "  0%|          | 0/5 [00:00<?, ?it/s]"
      ]
     },
     "metadata": {},
     "output_type": "display_data"
    },
    {
     "name": "stdout",
     "output_type": "stream",
     "text": [
      "nlms pre-convergence training iteration #0\n",
      "nlms MSE = 0.057025.\n",
      "nlms pre-convergence training iteration #1\n",
      "nlms MSE = 0.025073.\n",
      "nlms pre-convergence training iteration #2\n",
      "nlms MSE = 0.019924.\n",
      "nlms pre-convergence training iteration #3\n",
      "nlms MSE = 0.017535.\n",
      "nlms pre-convergence training iteration #4\n",
      "nlms MSE = 0.016107.\n",
      "\n",
      "\n",
      "dd-lms - training stage #1\n",
      "dd-lms MSE = 0.010614.\n",
      "Results:\n",
      "\n",
      "SER: 1.17e-01\n",
      "BER: 2.05e-02\n",
      "SNR: 18.59 dB\n",
      "MI: 5.49 bits\n",
      "GMI: 5.49 bits\n",
      "channel 0\t fc : 193.1000 THz\n",
      "  mode #0\t power: 0.00 dBm\n",
      "channel 0\t power: 0.00 dBm\n",
      "\n",
      "total WDM dignal power: 0.00 dBm\n",
      "Demodulating channel #0 , fc: 193.1000 THz, λ: 1552.5244 nm\n",
      "\n",
      "Local oscillator P: 12.00 dBm, lw: 0.00 kHz, FO: 17000.00 MHz\n",
      "CSPR = 12.00 dB\n",
      "\n",
      "\n",
      "nlms - training stage #0\n"
     ]
    },
    {
     "data": {
      "application/vnd.jupyter.widget-view+json": {
       "model_id": "25b2204fc2a849139d72d6d5dd73202c",
       "version_major": 2,
       "version_minor": 0
      },
      "text/plain": [
       "  0%|          | 0/5 [00:00<?, ?it/s]"
      ]
     },
     "metadata": {},
     "output_type": "display_data"
    },
    {
     "name": "stdout",
     "output_type": "stream",
     "text": [
      "nlms pre-convergence training iteration #0\n",
      "nlms MSE = 0.064392.\n",
      "nlms pre-convergence training iteration #1\n",
      "nlms MSE = 0.029701.\n",
      "nlms pre-convergence training iteration #2\n",
      "nlms MSE = 0.023906.\n",
      "nlms pre-convergence training iteration #3\n",
      "nlms MSE = 0.021116.\n",
      "nlms pre-convergence training iteration #4\n",
      "nlms MSE = 0.019395.\n",
      "\n",
      "\n",
      "dd-lms - training stage #1\n",
      "dd-lms MSE = 0.011850.\n",
      "Results:\n",
      "\n",
      "SER: 1.64e-01\n",
      "BER: 2.91e-02\n",
      "SNR: 17.70 dB\n",
      "MI: 5.32 bits\n",
      "GMI: 5.31 bits\n",
      "channel 0\t fc : 193.1000 THz\n",
      "  mode #0\t power: 0.00 dBm\n",
      "channel 0\t power: 0.00 dBm\n",
      "\n",
      "total WDM dignal power: 0.00 dBm\n",
      "Demodulating channel #0 , fc: 193.1000 THz, λ: 1552.5244 nm\n",
      "\n",
      "Local oscillator P: 12.00 dBm, lw: 0.00 kHz, FO: 18000.00 MHz\n",
      "CSPR = 12.00 dB\n",
      "\n",
      "\n",
      "nlms - training stage #0\n"
     ]
    },
    {
     "data": {
      "application/vnd.jupyter.widget-view+json": {
       "model_id": "b97ca49b38f44758b8bf3c715c081969",
       "version_major": 2,
       "version_minor": 0
      },
      "text/plain": [
       "  0%|          | 0/5 [00:00<?, ?it/s]"
      ]
     },
     "metadata": {},
     "output_type": "display_data"
    },
    {
     "name": "stdout",
     "output_type": "stream",
     "text": [
      "nlms pre-convergence training iteration #0\n",
      "nlms MSE = 0.021973.\n",
      "nlms pre-convergence training iteration #1\n",
      "nlms MSE = 0.002620.\n",
      "nlms pre-convergence training iteration #2\n",
      "nlms MSE = 0.002215.\n",
      "nlms pre-convergence training iteration #3\n",
      "nlms MSE = 0.001986.\n",
      "nlms pre-convergence training iteration #4\n",
      "nlms MSE = 0.001834.\n",
      "\n",
      "\n",
      "dd-lms - training stage #1\n",
      "dd-lms MSE = 0.001110.\n",
      "Results:\n",
      "\n",
      "SER: 6.00e-04\n",
      "BER: 1.04e-04\n",
      "SNR: 29.28 dB\n",
      "MI: 5.98 bits\n",
      "GMI: 5.98 bits\n",
      "channel 0\t fc : 193.1000 THz\n",
      "  mode #0\t power: 0.00 dBm\n",
      "channel 0\t power: 0.00 dBm\n",
      "\n",
      "total WDM dignal power: 0.00 dBm\n",
      "Demodulating channel #0 , fc: 193.1000 THz, λ: 1552.5244 nm\n",
      "\n",
      "Local oscillator P: 12.00 dBm, lw: 0.00 kHz, FO: 18000.00 MHz\n",
      "CSPR = 12.00 dB\n",
      "\n",
      "\n",
      "nlms - training stage #0\n"
     ]
    },
    {
     "data": {
      "application/vnd.jupyter.widget-view+json": {
       "model_id": "ddcbd90d291f44b89f7185e76377add5",
       "version_major": 2,
       "version_minor": 0
      },
      "text/plain": [
       "  0%|          | 0/5 [00:00<?, ?it/s]"
      ]
     },
     "metadata": {},
     "output_type": "display_data"
    },
    {
     "name": "stdout",
     "output_type": "stream",
     "text": [
      "nlms pre-convergence training iteration #0\n",
      "nlms MSE = 0.020192.\n",
      "nlms pre-convergence training iteration #1\n",
      "nlms MSE = 0.002512.\n",
      "nlms pre-convergence training iteration #2\n",
      "nlms MSE = 0.002042.\n",
      "nlms pre-convergence training iteration #3\n",
      "nlms MSE = 0.001794.\n",
      "nlms pre-convergence training iteration #4\n",
      "nlms MSE = 0.001642.\n",
      "\n",
      "\n",
      "dd-lms - training stage #1\n",
      "dd-lms MSE = 0.000993.\n",
      "Results:\n",
      "\n",
      "SER: 5.33e-04\n",
      "BER: 9.07e-05\n",
      "SNR: 29.80 dB\n",
      "MI: 5.99 bits\n",
      "GMI: 5.99 bits\n",
      "channel 0\t fc : 193.1000 THz\n",
      "  mode #0\t power: 0.00 dBm\n",
      "channel 0\t power: 0.00 dBm\n",
      "\n",
      "total WDM dignal power: 0.00 dBm\n",
      "Demodulating channel #0 , fc: 193.1000 THz, λ: 1552.5244 nm\n",
      "\n",
      "Local oscillator P: 12.00 dBm, lw: 0.00 kHz, FO: 18000.00 MHz\n",
      "CSPR = 12.00 dB\n",
      "\n",
      "\n",
      "nlms - training stage #0\n"
     ]
    },
    {
     "data": {
      "application/vnd.jupyter.widget-view+json": {
       "model_id": "137a65de080843aba6cb2df1b803a957",
       "version_major": 2,
       "version_minor": 0
      },
      "text/plain": [
       "  0%|          | 0/5 [00:00<?, ?it/s]"
      ]
     },
     "metadata": {},
     "output_type": "display_data"
    },
    {
     "name": "stdout",
     "output_type": "stream",
     "text": [
      "nlms pre-convergence training iteration #0\n",
      "nlms MSE = 0.018109.\n",
      "nlms pre-convergence training iteration #1\n",
      "nlms MSE = 0.002479.\n",
      "nlms pre-convergence training iteration #2\n",
      "nlms MSE = 0.002268.\n",
      "nlms pre-convergence training iteration #3\n",
      "nlms MSE = 0.002125.\n",
      "nlms pre-convergence training iteration #4\n",
      "nlms MSE = 0.002023.\n",
      "\n",
      "\n",
      "dd-lms - training stage #1\n",
      "dd-lms MSE = 0.001463.\n",
      "Results:\n",
      "\n",
      "SER: 5.22e-04\n",
      "BER: 8.89e-05\n",
      "SNR: 28.26 dB\n",
      "MI: 5.99 bits\n",
      "GMI: 5.99 bits\n",
      "channel 0\t fc : 193.1000 THz\n",
      "  mode #0\t power: 0.00 dBm\n",
      "channel 0\t power: 0.00 dBm\n",
      "\n",
      "total WDM dignal power: 0.00 dBm\n",
      "Demodulating channel #0 , fc: 193.1000 THz, λ: 1552.5244 nm\n",
      "\n",
      "Local oscillator P: 12.00 dBm, lw: 0.00 kHz, FO: 18000.00 MHz\n",
      "CSPR = 12.00 dB\n",
      "\n",
      "\n",
      "nlms - training stage #0\n"
     ]
    },
    {
     "data": {
      "application/vnd.jupyter.widget-view+json": {
       "model_id": "53d671adbd15487cab5dad2ea3aa480a",
       "version_major": 2,
       "version_minor": 0
      },
      "text/plain": [
       "  0%|          | 0/5 [00:00<?, ?it/s]"
      ]
     },
     "metadata": {},
     "output_type": "display_data"
    },
    {
     "name": "stdout",
     "output_type": "stream",
     "text": [
      "nlms pre-convergence training iteration #0\n",
      "nlms MSE = 0.019721.\n",
      "nlms pre-convergence training iteration #1\n",
      "nlms MSE = 0.004678.\n",
      "nlms pre-convergence training iteration #2\n",
      "nlms MSE = 0.004110.\n",
      "nlms pre-convergence training iteration #3\n",
      "nlms MSE = 0.003727.\n",
      "nlms pre-convergence training iteration #4\n",
      "nlms MSE = 0.003449.\n",
      "\n",
      "\n",
      "dd-lms - training stage #1\n",
      "dd-lms MSE = 0.002308.\n",
      "Results:\n",
      "\n",
      "SER: 1.11e-03\n",
      "BER: 1.89e-04\n",
      "SNR: 26.28 dB\n",
      "MI: 5.99 bits\n",
      "GMI: 5.99 bits\n",
      "channel 0\t fc : 193.1000 THz\n",
      "  mode #0\t power: 0.00 dBm\n",
      "channel 0\t power: 0.00 dBm\n",
      "\n",
      "total WDM dignal power: 0.00 dBm\n",
      "Demodulating channel #0 , fc: 193.1000 THz, λ: 1552.5244 nm\n",
      "\n",
      "Local oscillator P: 12.00 dBm, lw: 0.00 kHz, FO: 18000.00 MHz\n",
      "CSPR = 12.00 dB\n",
      "\n",
      "\n",
      "nlms - training stage #0\n"
     ]
    },
    {
     "data": {
      "application/vnd.jupyter.widget-view+json": {
       "model_id": "1c0f7f6c11a9465ab05714e8048246dd",
       "version_major": 2,
       "version_minor": 0
      },
      "text/plain": [
       "  0%|          | 0/5 [00:00<?, ?it/s]"
      ]
     },
     "metadata": {},
     "output_type": "display_data"
    },
    {
     "name": "stdout",
     "output_type": "stream",
     "text": [
      "nlms pre-convergence training iteration #0\n",
      "nlms MSE = 0.024166.\n",
      "nlms pre-convergence training iteration #1\n",
      "nlms MSE = 0.007462.\n",
      "nlms pre-convergence training iteration #2\n",
      "nlms MSE = 0.005934.\n",
      "nlms pre-convergence training iteration #3\n",
      "nlms MSE = 0.005137.\n",
      "nlms pre-convergence training iteration #4\n",
      "nlms MSE = 0.004655.\n",
      "\n",
      "\n",
      "dd-lms - training stage #1\n",
      "dd-lms MSE = 0.003082.\n",
      "Results:\n",
      "\n",
      "SER: 2.59e-03\n",
      "BER: 4.33e-04\n",
      "SNR: 25.04 dB\n",
      "MI: 5.98 bits\n",
      "GMI: 5.98 bits\n",
      "channel 0\t fc : 193.1000 THz\n",
      "  mode #0\t power: 0.00 dBm\n",
      "channel 0\t power: 0.00 dBm\n",
      "\n",
      "total WDM dignal power: 0.00 dBm\n",
      "Demodulating channel #0 , fc: 193.1000 THz, λ: 1552.5244 nm\n",
      "\n",
      "Local oscillator P: 12.00 dBm, lw: 0.00 kHz, FO: 18000.00 MHz\n",
      "CSPR = 12.00 dB\n",
      "\n",
      "\n",
      "nlms - training stage #0\n"
     ]
    },
    {
     "data": {
      "application/vnd.jupyter.widget-view+json": {
       "model_id": "9bb8f897327f4747a3859b75110795ab",
       "version_major": 2,
       "version_minor": 0
      },
      "text/plain": [
       "  0%|          | 0/5 [00:00<?, ?it/s]"
      ]
     },
     "metadata": {},
     "output_type": "display_data"
    },
    {
     "name": "stdout",
     "output_type": "stream",
     "text": [
      "nlms pre-convergence training iteration #0\n",
      "nlms MSE = 0.028915.\n",
      "nlms pre-convergence training iteration #1\n",
      "nlms MSE = 0.009587.\n",
      "nlms pre-convergence training iteration #2\n",
      "nlms MSE = 0.007327.\n",
      "nlms pre-convergence training iteration #3\n",
      "nlms MSE = 0.006310.\n",
      "nlms pre-convergence training iteration #4\n",
      "nlms MSE = 0.005746.\n",
      "\n",
      "\n",
      "dd-lms - training stage #1\n",
      "dd-lms MSE = 0.004193.\n",
      "Results:\n",
      "\n",
      "SER: 7.06e-03\n",
      "BER: 1.20e-03\n",
      "SNR: 23.69 dB\n",
      "MI: 5.96 bits\n",
      "GMI: 5.96 bits\n",
      "channel 0\t fc : 193.1000 THz\n",
      "  mode #0\t power: 0.00 dBm\n",
      "channel 0\t power: -0.00 dBm\n",
      "\n",
      "total WDM dignal power: -0.00 dBm\n",
      "Demodulating channel #0 , fc: 193.1000 THz, λ: 1552.5244 nm\n",
      "\n",
      "Local oscillator P: 12.00 dBm, lw: 0.00 kHz, FO: 18000.00 MHz\n",
      "CSPR = 12.00 dB\n",
      "\n",
      "\n",
      "nlms - training stage #0\n"
     ]
    },
    {
     "data": {
      "application/vnd.jupyter.widget-view+json": {
       "model_id": "0c7fdec7050e49dc818a1be31e1a3e30",
       "version_major": 2,
       "version_minor": 0
      },
      "text/plain": [
       "  0%|          | 0/5 [00:00<?, ?it/s]"
      ]
     },
     "metadata": {},
     "output_type": "display_data"
    },
    {
     "name": "stdout",
     "output_type": "stream",
     "text": [
      "nlms pre-convergence training iteration #0\n",
      "nlms MSE = 0.034067.\n",
      "nlms pre-convergence training iteration #1\n",
      "nlms MSE = 0.012323.\n",
      "nlms pre-convergence training iteration #2\n",
      "nlms MSE = 0.009393.\n",
      "nlms pre-convergence training iteration #3\n",
      "nlms MSE = 0.008158.\n",
      "nlms pre-convergence training iteration #4\n",
      "nlms MSE = 0.007484.\n",
      "\n",
      "\n",
      "dd-lms - training stage #1\n",
      "dd-lms MSE = 0.005472.\n",
      "Results:\n",
      "\n",
      "SER: 1.66e-02\n",
      "BER: 2.81e-03\n",
      "SNR: 22.42 dB\n",
      "MI: 5.92 bits\n",
      "GMI: 5.91 bits\n",
      "channel 0\t fc : 193.1000 THz\n",
      "  mode #0\t power: 0.00 dBm\n",
      "channel 0\t power: 0.00 dBm\n",
      "\n",
      "total WDM dignal power: 0.00 dBm\n",
      "Demodulating channel #0 , fc: 193.1000 THz, λ: 1552.5244 nm\n",
      "\n",
      "Local oscillator P: 12.00 dBm, lw: 0.00 kHz, FO: 18000.00 MHz\n",
      "CSPR = 12.00 dB\n",
      "\n",
      "\n",
      "nlms - training stage #0\n"
     ]
    },
    {
     "data": {
      "application/vnd.jupyter.widget-view+json": {
       "model_id": "3658dd3042dc490b8735802a40e719d6",
       "version_major": 2,
       "version_minor": 0
      },
      "text/plain": [
       "  0%|          | 0/5 [00:00<?, ?it/s]"
      ]
     },
     "metadata": {},
     "output_type": "display_data"
    },
    {
     "name": "stdout",
     "output_type": "stream",
     "text": [
      "nlms pre-convergence training iteration #0\n",
      "nlms MSE = 0.039031.\n",
      "nlms pre-convergence training iteration #1\n",
      "nlms MSE = 0.015087.\n",
      "nlms pre-convergence training iteration #2\n",
      "nlms MSE = 0.011735.\n",
      "nlms pre-convergence training iteration #3\n",
      "nlms MSE = 0.010288.\n",
      "nlms pre-convergence training iteration #4\n",
      "nlms MSE = 0.009460.\n",
      "\n",
      "\n",
      "dd-lms - training stage #1\n",
      "dd-lms MSE = 0.006873.\n",
      "Results:\n",
      "\n",
      "SER: 3.23e-02\n",
      "BER: 5.51e-03\n",
      "SNR: 21.26 dB\n",
      "MI: 5.84 bits\n",
      "GMI: 5.84 bits\n",
      "channel 0\t fc : 193.1000 THz\n",
      "  mode #0\t power: 0.00 dBm\n",
      "channel 0\t power: 0.00 dBm\n",
      "\n",
      "total WDM dignal power: 0.00 dBm\n",
      "Demodulating channel #0 , fc: 193.1000 THz, λ: 1552.5244 nm\n",
      "\n",
      "Local oscillator P: 12.00 dBm, lw: 0.00 kHz, FO: 18000.00 MHz\n",
      "CSPR = 12.00 dB\n",
      "\n",
      "\n",
      "nlms - training stage #0\n"
     ]
    },
    {
     "data": {
      "application/vnd.jupyter.widget-view+json": {
       "model_id": "6c6e8d68016f424ea37e237199e8e310",
       "version_major": 2,
       "version_minor": 0
      },
      "text/plain": [
       "  0%|          | 0/5 [00:00<?, ?it/s]"
      ]
     },
     "metadata": {},
     "output_type": "display_data"
    },
    {
     "name": "stdout",
     "output_type": "stream",
     "text": [
      "nlms pre-convergence training iteration #0\n",
      "nlms MSE = 0.046166.\n",
      "nlms pre-convergence training iteration #1\n",
      "nlms MSE = 0.019016.\n",
      "nlms pre-convergence training iteration #2\n",
      "nlms MSE = 0.014818.\n",
      "nlms pre-convergence training iteration #3\n",
      "nlms MSE = 0.012945.\n",
      "nlms pre-convergence training iteration #4\n",
      "nlms MSE = 0.011857.\n",
      "\n",
      "\n",
      "dd-lms - training stage #1\n",
      "dd-lms MSE = 0.008202.\n",
      "Results:\n",
      "\n",
      "SER: 5.62e-02\n",
      "BER: 9.66e-03\n",
      "SNR: 20.24 dB\n",
      "MI: 5.75 bits\n",
      "GMI: 5.74 bits\n",
      "channel 0\t fc : 193.1000 THz\n",
      "  mode #0\t power: 0.00 dBm\n",
      "channel 0\t power: 0.00 dBm\n",
      "\n",
      "total WDM dignal power: 0.00 dBm\n",
      "Demodulating channel #0 , fc: 193.1000 THz, λ: 1552.5244 nm\n",
      "\n",
      "Local oscillator P: 12.00 dBm, lw: 0.00 kHz, FO: 18000.00 MHz\n",
      "CSPR = 12.00 dB\n",
      "\n",
      "\n",
      "nlms - training stage #0\n"
     ]
    },
    {
     "data": {
      "application/vnd.jupyter.widget-view+json": {
       "model_id": "bb60aff229c7461fa47bdb50ee95e6e8",
       "version_major": 2,
       "version_minor": 0
      },
      "text/plain": [
       "  0%|          | 0/5 [00:00<?, ?it/s]"
      ]
     },
     "metadata": {},
     "output_type": "display_data"
    },
    {
     "name": "stdout",
     "output_type": "stream",
     "text": [
      "nlms pre-convergence training iteration #0\n",
      "nlms MSE = 0.051885.\n",
      "nlms pre-convergence training iteration #1\n",
      "nlms MSE = 0.022515.\n",
      "nlms pre-convergence training iteration #2\n",
      "nlms MSE = 0.017717.\n",
      "nlms pre-convergence training iteration #3\n",
      "nlms MSE = 0.015541.\n",
      "nlms pre-convergence training iteration #4\n",
      "nlms MSE = 0.014241.\n",
      "\n",
      "\n",
      "dd-lms - training stage #1\n",
      "dd-lms MSE = 0.009296.\n",
      "Results:\n",
      "\n",
      "SER: 7.98e-02\n",
      "BER: 1.38e-02\n",
      "SNR: 19.48 dB\n",
      "MI: 5.65 bits\n",
      "GMI: 5.65 bits\n",
      "channel 0\t fc : 193.1000 THz\n",
      "  mode #0\t power: 0.00 dBm\n",
      "channel 0\t power: 0.00 dBm\n",
      "\n",
      "total WDM dignal power: 0.00 dBm\n",
      "Demodulating channel #0 , fc: 193.1000 THz, λ: 1552.5244 nm\n",
      "\n",
      "Local oscillator P: 12.00 dBm, lw: 0.00 kHz, FO: 19000.00 MHz\n",
      "CSPR = 12.00 dB\n",
      "\n",
      "\n",
      "nlms - training stage #0\n"
     ]
    },
    {
     "data": {
      "application/vnd.jupyter.widget-view+json": {
       "model_id": "456f9b0e5f344201a9ded3efcf703c48",
       "version_major": 2,
       "version_minor": 0
      },
      "text/plain": [
       "  0%|          | 0/5 [00:00<?, ?it/s]"
      ]
     },
     "metadata": {},
     "output_type": "display_data"
    },
    {
     "name": "stdout",
     "output_type": "stream",
     "text": [
      "nlms pre-convergence training iteration #0\n",
      "nlms MSE = 0.022034.\n",
      "nlms pre-convergence training iteration #1\n",
      "nlms MSE = 0.002650.\n",
      "nlms pre-convergence training iteration #2\n",
      "nlms MSE = 0.002233.\n",
      "nlms pre-convergence training iteration #3\n",
      "nlms MSE = 0.001995.\n",
      "nlms pre-convergence training iteration #4\n",
      "nlms MSE = 0.001838.\n",
      "\n",
      "\n",
      "dd-lms - training stage #1\n",
      "dd-lms MSE = 0.001292.\n",
      "Results:\n",
      "\n",
      "SER: 9.11e-04\n",
      "BER: 1.54e-04\n",
      "SNR: 28.68 dB\n",
      "MI: 5.98 bits\n",
      "GMI: 5.98 bits\n",
      "channel 0\t fc : 193.1000 THz\n",
      "  mode #0\t power: 0.00 dBm\n",
      "channel 0\t power: -0.00 dBm\n",
      "\n",
      "total WDM dignal power: -0.00 dBm\n",
      "Demodulating channel #0 , fc: 193.1000 THz, λ: 1552.5244 nm\n",
      "\n",
      "Local oscillator P: 12.00 dBm, lw: 0.00 kHz, FO: 19000.00 MHz\n",
      "CSPR = 12.00 dB\n",
      "\n",
      "\n",
      "nlms - training stage #0\n"
     ]
    },
    {
     "data": {
      "application/vnd.jupyter.widget-view+json": {
       "model_id": "7613a67b76e74d9cb432c075fcd3ed1d",
       "version_major": 2,
       "version_minor": 0
      },
      "text/plain": [
       "  0%|          | 0/5 [00:00<?, ?it/s]"
      ]
     },
     "metadata": {},
     "output_type": "display_data"
    },
    {
     "name": "stdout",
     "output_type": "stream",
     "text": [
      "nlms pre-convergence training iteration #0\n",
      "nlms MSE = 0.019797.\n",
      "nlms pre-convergence training iteration #1\n",
      "nlms MSE = 0.002695.\n",
      "nlms pre-convergence training iteration #2\n",
      "nlms MSE = 0.002233.\n",
      "nlms pre-convergence training iteration #3\n",
      "nlms MSE = 0.001989.\n",
      "nlms pre-convergence training iteration #4\n",
      "nlms MSE = 0.001838.\n",
      "\n",
      "\n",
      "dd-lms - training stage #1\n",
      "dd-lms MSE = 0.001178.\n",
      "Results:\n",
      "\n",
      "SER: 7.22e-04\n",
      "BER: 1.20e-04\n",
      "SNR: 29.03 dB\n",
      "MI: 5.98 bits\n",
      "GMI: 5.98 bits\n",
      "channel 0\t fc : 193.1000 THz\n",
      "  mode #0\t power: 0.00 dBm\n",
      "channel 0\t power: 0.00 dBm\n",
      "\n",
      "total WDM dignal power: 0.00 dBm\n",
      "Demodulating channel #0 , fc: 193.1000 THz, λ: 1552.5244 nm\n",
      "\n",
      "Local oscillator P: 12.00 dBm, lw: 0.00 kHz, FO: 19000.00 MHz\n",
      "CSPR = 12.00 dB\n",
      "\n",
      "\n",
      "nlms - training stage #0\n"
     ]
    },
    {
     "data": {
      "application/vnd.jupyter.widget-view+json": {
       "model_id": "317b2dbea28f4c5b8abea696c77d3237",
       "version_major": 2,
       "version_minor": 0
      },
      "text/plain": [
       "  0%|          | 0/5 [00:00<?, ?it/s]"
      ]
     },
     "metadata": {},
     "output_type": "display_data"
    },
    {
     "name": "stdout",
     "output_type": "stream",
     "text": [
      "nlms pre-convergence training iteration #0\n",
      "nlms MSE = 0.017047.\n",
      "nlms pre-convergence training iteration #1\n",
      "nlms MSE = 0.002180.\n",
      "nlms pre-convergence training iteration #2\n",
      "nlms MSE = 0.002014.\n",
      "nlms pre-convergence training iteration #3\n",
      "nlms MSE = 0.001895.\n",
      "nlms pre-convergence training iteration #4\n",
      "nlms MSE = 0.001809.\n",
      "\n",
      "\n",
      "dd-lms - training stage #1\n",
      "dd-lms MSE = 0.001279.\n",
      "Results:\n",
      "\n",
      "SER: 8.33e-04\n",
      "BER: 1.44e-04\n",
      "SNR: 28.75 dB\n",
      "MI: 5.98 bits\n",
      "GMI: 5.98 bits\n",
      "channel 0\t fc : 193.1000 THz\n",
      "  mode #0\t power: 0.00 dBm\n",
      "channel 0\t power: -0.00 dBm\n",
      "\n",
      "total WDM dignal power: -0.00 dBm\n",
      "Demodulating channel #0 , fc: 193.1000 THz, λ: 1552.5244 nm\n",
      "\n",
      "Local oscillator P: 12.00 dBm, lw: 0.00 kHz, FO: 19000.00 MHz\n",
      "CSPR = 12.00 dB\n",
      "\n",
      "\n",
      "nlms - training stage #0\n"
     ]
    },
    {
     "data": {
      "application/vnd.jupyter.widget-view+json": {
       "model_id": "f1e128cf31fe4344ad3a50ee98b8db5e",
       "version_major": 2,
       "version_minor": 0
      },
      "text/plain": [
       "  0%|          | 0/5 [00:00<?, ?it/s]"
      ]
     },
     "metadata": {},
     "output_type": "display_data"
    },
    {
     "name": "stdout",
     "output_type": "stream",
     "text": [
      "nlms pre-convergence training iteration #0\n",
      "nlms MSE = 0.016472.\n",
      "nlms pre-convergence training iteration #1\n",
      "nlms MSE = 0.002584.\n",
      "nlms pre-convergence training iteration #2\n",
      "nlms MSE = 0.002507.\n",
      "nlms pre-convergence training iteration #3\n",
      "nlms MSE = 0.002440.\n",
      "nlms pre-convergence training iteration #4\n",
      "nlms MSE = 0.002381.\n",
      "\n",
      "\n",
      "dd-lms - training stage #1\n",
      "dd-lms MSE = 0.001729.\n",
      "Results:\n",
      "\n",
      "SER: 7.56e-04\n",
      "BER: 1.30e-04\n",
      "SNR: 27.50 dB\n",
      "MI: 5.99 bits\n",
      "GMI: 5.99 bits\n",
      "channel 0\t fc : 193.1000 THz\n",
      "  mode #0\t power: 0.00 dBm\n",
      "channel 0\t power: -0.00 dBm\n",
      "\n",
      "total WDM dignal power: -0.00 dBm\n",
      "Demodulating channel #0 , fc: 193.1000 THz, λ: 1552.5244 nm\n",
      "\n",
      "Local oscillator P: 12.00 dBm, lw: 0.00 kHz, FO: 19000.00 MHz\n",
      "CSPR = 12.00 dB\n",
      "\n",
      "\n",
      "nlms - training stage #0\n"
     ]
    },
    {
     "data": {
      "application/vnd.jupyter.widget-view+json": {
       "model_id": "fe1ebd47a9fb4011b8889cfef21ec6f8",
       "version_major": 2,
       "version_minor": 0
      },
      "text/plain": [
       "  0%|          | 0/5 [00:00<?, ?it/s]"
      ]
     },
     "metadata": {},
     "output_type": "display_data"
    },
    {
     "name": "stdout",
     "output_type": "stream",
     "text": [
      "nlms pre-convergence training iteration #0\n",
      "nlms MSE = 0.018642.\n",
      "nlms pre-convergence training iteration #1\n",
      "nlms MSE = 0.004723.\n",
      "nlms pre-convergence training iteration #2\n",
      "nlms MSE = 0.004145.\n",
      "nlms pre-convergence training iteration #3\n",
      "nlms MSE = 0.003740.\n",
      "nlms pre-convergence training iteration #4\n",
      "nlms MSE = 0.003443.\n",
      "\n",
      "\n",
      "dd-lms - training stage #1\n",
      "dd-lms MSE = 0.002215.\n",
      "Results:\n",
      "\n",
      "SER: 1.56e-03\n",
      "BER: 2.61e-04\n",
      "SNR: 26.36 dB\n",
      "MI: 5.98 bits\n",
      "GMI: 5.98 bits\n",
      "channel 0\t fc : 193.1000 THz\n",
      "  mode #0\t power: 0.00 dBm\n",
      "channel 0\t power: -0.00 dBm\n",
      "\n",
      "total WDM dignal power: -0.00 dBm\n",
      "Demodulating channel #0 , fc: 193.1000 THz, λ: 1552.5244 nm\n",
      "\n",
      "Local oscillator P: 12.00 dBm, lw: 0.00 kHz, FO: 19000.00 MHz\n",
      "CSPR = 12.00 dB\n",
      "\n",
      "\n",
      "nlms - training stage #0\n"
     ]
    },
    {
     "data": {
      "application/vnd.jupyter.widget-view+json": {
       "model_id": "18c07e16979940f59719a30443888683",
       "version_major": 2,
       "version_minor": 0
      },
      "text/plain": [
       "  0%|          | 0/5 [00:00<?, ?it/s]"
      ]
     },
     "metadata": {},
     "output_type": "display_data"
    },
    {
     "name": "stdout",
     "output_type": "stream",
     "text": [
      "nlms pre-convergence training iteration #0\n",
      "nlms MSE = 0.022176.\n",
      "nlms pre-convergence training iteration #1\n",
      "nlms MSE = 0.007040.\n",
      "nlms pre-convergence training iteration #2\n",
      "nlms MSE = 0.005582.\n",
      "nlms pre-convergence training iteration #3\n",
      "nlms MSE = 0.004796.\n",
      "nlms pre-convergence training iteration #4\n",
      "nlms MSE = 0.004334.\n",
      "\n",
      "\n",
      "dd-lms - training stage #1\n",
      "dd-lms MSE = 0.002941.\n",
      "Results:\n",
      "\n",
      "SER: 2.80e-03\n",
      "BER: 4.72e-04\n",
      "SNR: 25.20 dB\n",
      "MI: 5.98 bits\n",
      "GMI: 5.98 bits\n",
      "channel 0\t fc : 193.1000 THz\n",
      "  mode #0\t power: 0.00 dBm\n",
      "channel 0\t power: -0.00 dBm\n",
      "\n",
      "total WDM dignal power: -0.00 dBm\n",
      "Demodulating channel #0 , fc: 193.1000 THz, λ: 1552.5244 nm\n",
      "\n",
      "Local oscillator P: 12.00 dBm, lw: 0.00 kHz, FO: 19000.00 MHz\n",
      "CSPR = 12.00 dB\n",
      "\n",
      "\n",
      "nlms - training stage #0\n"
     ]
    },
    {
     "data": {
      "application/vnd.jupyter.widget-view+json": {
       "model_id": "88949b8b06c840e3bd23dc2e326a5ffd",
       "version_major": 2,
       "version_minor": 0
      },
      "text/plain": [
       "  0%|          | 0/5 [00:00<?, ?it/s]"
      ]
     },
     "metadata": {},
     "output_type": "display_data"
    },
    {
     "name": "stdout",
     "output_type": "stream",
     "text": [
      "nlms pre-convergence training iteration #0\n",
      "nlms MSE = 0.026160.\n",
      "nlms pre-convergence training iteration #1\n",
      "nlms MSE = 0.008902.\n",
      "nlms pre-convergence training iteration #2\n",
      "nlms MSE = 0.006751.\n",
      "nlms pre-convergence training iteration #3\n",
      "nlms MSE = 0.005781.\n",
      "nlms pre-convergence training iteration #4\n",
      "nlms MSE = 0.005269.\n",
      "\n",
      "\n",
      "dd-lms - training stage #1\n",
      "dd-lms MSE = 0.003970.\n",
      "Results:\n",
      "\n",
      "SER: 5.73e-03\n",
      "BER: 9.67e-04\n",
      "SNR: 23.98 dB\n",
      "MI: 5.97 bits\n",
      "GMI: 5.97 bits\n",
      "channel 0\t fc : 193.1000 THz\n",
      "  mode #0\t power: 0.00 dBm\n",
      "channel 0\t power: 0.00 dBm\n",
      "\n",
      "total WDM dignal power: 0.00 dBm\n",
      "Demodulating channel #0 , fc: 193.1000 THz, λ: 1552.5244 nm\n",
      "\n",
      "Local oscillator P: 12.00 dBm, lw: 0.00 kHz, FO: 19000.00 MHz\n",
      "CSPR = 12.00 dB\n",
      "\n",
      "\n",
      "nlms - training stage #0\n"
     ]
    },
    {
     "data": {
      "application/vnd.jupyter.widget-view+json": {
       "model_id": "bbd29e2979a448f2a7ab43778adde979",
       "version_major": 2,
       "version_minor": 0
      },
      "text/plain": [
       "  0%|          | 0/5 [00:00<?, ?it/s]"
      ]
     },
     "metadata": {},
     "output_type": "display_data"
    },
    {
     "name": "stdout",
     "output_type": "stream",
     "text": [
      "nlms pre-convergence training iteration #0\n",
      "nlms MSE = 0.030817.\n",
      "nlms pre-convergence training iteration #1\n",
      "nlms MSE = 0.011255.\n",
      "nlms pre-convergence training iteration #2\n",
      "nlms MSE = 0.008579.\n",
      "nlms pre-convergence training iteration #3\n",
      "nlms MSE = 0.007500.\n",
      "nlms pre-convergence training iteration #4\n",
      "nlms MSE = 0.006935.\n",
      "\n",
      "\n",
      "dd-lms - training stage #1\n",
      "dd-lms MSE = 0.005059.\n",
      "Results:\n",
      "\n",
      "SER: 1.34e-02\n",
      "BER: 2.29e-03\n",
      "SNR: 22.78 dB\n",
      "MI: 5.93 bits\n",
      "GMI: 5.93 bits\n",
      "channel 0\t fc : 193.1000 THz\n",
      "  mode #0\t power: 0.00 dBm\n",
      "channel 0\t power: -0.00 dBm\n",
      "\n",
      "total WDM dignal power: -0.00 dBm\n",
      "Demodulating channel #0 , fc: 193.1000 THz, λ: 1552.5244 nm\n",
      "\n",
      "Local oscillator P: 12.00 dBm, lw: 0.00 kHz, FO: 19000.00 MHz\n",
      "CSPR = 12.00 dB\n",
      "\n",
      "\n",
      "nlms - training stage #0\n"
     ]
    },
    {
     "data": {
      "application/vnd.jupyter.widget-view+json": {
       "model_id": "90b299d0d6df4f7c8399060d7a8ca8a1",
       "version_major": 2,
       "version_minor": 0
      },
      "text/plain": [
       "  0%|          | 0/5 [00:00<?, ?it/s]"
      ]
     },
     "metadata": {},
     "output_type": "display_data"
    },
    {
     "name": "stdout",
     "output_type": "stream",
     "text": [
      "nlms pre-convergence training iteration #0\n",
      "nlms MSE = 0.035990.\n",
      "nlms pre-convergence training iteration #1\n",
      "nlms MSE = 0.013767.\n",
      "nlms pre-convergence training iteration #2\n",
      "nlms MSE = 0.010641.\n",
      "nlms pre-convergence training iteration #3\n",
      "nlms MSE = 0.009368.\n",
      "nlms pre-convergence training iteration #4\n",
      "nlms MSE = 0.008664.\n",
      "\n",
      "\n",
      "dd-lms - training stage #1\n",
      "dd-lms MSE = 0.006273.\n",
      "Results:\n",
      "\n",
      "SER: 2.54e-02\n",
      "BER: 4.33e-03\n",
      "SNR: 21.73 dB\n",
      "MI: 5.88 bits\n",
      "GMI: 5.88 bits\n",
      "channel 0\t fc : 193.1000 THz\n",
      "  mode #0\t power: 0.00 dBm\n",
      "channel 0\t power: 0.00 dBm\n",
      "\n",
      "total WDM dignal power: 0.00 dBm\n",
      "Demodulating channel #0 , fc: 193.1000 THz, λ: 1552.5244 nm\n",
      "\n",
      "Local oscillator P: 12.00 dBm, lw: 0.00 kHz, FO: 19000.00 MHz\n",
      "CSPR = 12.00 dB\n",
      "\n",
      "\n",
      "nlms - training stage #0\n"
     ]
    },
    {
     "data": {
      "application/vnd.jupyter.widget-view+json": {
       "model_id": "be56b6c5b87445dabdb0a421a5836da1",
       "version_major": 2,
       "version_minor": 0
      },
      "text/plain": [
       "  0%|          | 0/5 [00:00<?, ?it/s]"
      ]
     },
     "metadata": {},
     "output_type": "display_data"
    },
    {
     "name": "stdout",
     "output_type": "stream",
     "text": [
      "nlms pre-convergence training iteration #0\n",
      "nlms MSE = 0.041033.\n",
      "nlms pre-convergence training iteration #1\n",
      "nlms MSE = 0.016675.\n",
      "nlms pre-convergence training iteration #2\n",
      "nlms MSE = 0.012897.\n",
      "nlms pre-convergence training iteration #3\n",
      "nlms MSE = 0.011302.\n",
      "nlms pre-convergence training iteration #4\n",
      "nlms MSE = 0.010392.\n",
      "\n",
      "\n",
      "dd-lms - training stage #1\n",
      "dd-lms MSE = 0.007410.\n",
      "Results:\n",
      "\n",
      "SER: 4.04e-02\n",
      "BER: 6.93e-03\n",
      "SNR: 20.83 dB\n",
      "MI: 5.81 bits\n",
      "GMI: 5.82 bits\n",
      "channel 0\t fc : 193.1000 THz\n",
      "  mode #0\t power: 0.00 dBm\n",
      "channel 0\t power: -0.00 dBm\n",
      "\n",
      "total WDM dignal power: -0.00 dBm\n",
      "Demodulating channel #0 , fc: 193.1000 THz, λ: 1552.5244 nm\n",
      "\n",
      "Local oscillator P: 12.00 dBm, lw: 0.00 kHz, FO: 20000.00 MHz\n",
      "CSPR = 12.00 dB\n",
      "\n",
      "\n",
      "nlms - training stage #0\n"
     ]
    },
    {
     "data": {
      "application/vnd.jupyter.widget-view+json": {
       "model_id": "b8c4e034c479470a8c7700cc1e7eab20",
       "version_major": 2,
       "version_minor": 0
      },
      "text/plain": [
       "  0%|          | 0/5 [00:00<?, ?it/s]"
      ]
     },
     "metadata": {},
     "output_type": "display_data"
    },
    {
     "name": "stdout",
     "output_type": "stream",
     "text": [
      "nlms pre-convergence training iteration #0\n",
      "nlms MSE = 0.022347.\n",
      "nlms pre-convergence training iteration #1\n",
      "nlms MSE = 0.002790.\n",
      "nlms pre-convergence training iteration #2\n",
      "nlms MSE = 0.002388.\n",
      "nlms pre-convergence training iteration #3\n",
      "nlms MSE = 0.002157.\n",
      "nlms pre-convergence training iteration #4\n",
      "nlms MSE = 0.002003.\n",
      "\n",
      "\n",
      "dd-lms - training stage #1\n",
      "dd-lms MSE = 0.001456.\n",
      "Results:\n",
      "\n",
      "SER: 9.89e-04\n",
      "BER: 1.69e-04\n",
      "SNR: 28.19 dB\n",
      "MI: 5.98 bits\n",
      "GMI: 5.98 bits\n",
      "channel 0\t fc : 193.1000 THz\n",
      "  mode #0\t power: 0.00 dBm\n",
      "channel 0\t power: 0.00 dBm\n",
      "\n",
      "total WDM dignal power: 0.00 dBm\n",
      "Demodulating channel #0 , fc: 193.1000 THz, λ: 1552.5244 nm\n",
      "\n",
      "Local oscillator P: 12.00 dBm, lw: 0.00 kHz, FO: 20000.00 MHz\n",
      "CSPR = 12.00 dB\n",
      "\n",
      "\n",
      "nlms - training stage #0\n"
     ]
    },
    {
     "data": {
      "application/vnd.jupyter.widget-view+json": {
       "model_id": "40271f5279184a028c5435e3b0c5d6f1",
       "version_major": 2,
       "version_minor": 0
      },
      "text/plain": [
       "  0%|          | 0/5 [00:00<?, ?it/s]"
      ]
     },
     "metadata": {},
     "output_type": "display_data"
    },
    {
     "name": "stdout",
     "output_type": "stream",
     "text": [
      "nlms pre-convergence training iteration #0\n",
      "nlms MSE = 0.019983.\n",
      "nlms pre-convergence training iteration #1\n",
      "nlms MSE = 0.002798.\n",
      "nlms pre-convergence training iteration #2\n",
      "nlms MSE = 0.002325.\n",
      "nlms pre-convergence training iteration #3\n",
      "nlms MSE = 0.002075.\n",
      "nlms pre-convergence training iteration #4\n",
      "nlms MSE = 0.001920.\n",
      "\n",
      "\n",
      "dd-lms - training stage #1\n",
      "dd-lms MSE = 0.001364.\n",
      "Results:\n",
      "\n",
      "SER: 8.67e-04\n",
      "BER: 1.48e-04\n",
      "SNR: 28.46 dB\n",
      "MI: 5.98 bits\n",
      "GMI: 5.98 bits\n",
      "channel 0\t fc : 193.1000 THz\n",
      "  mode #0\t power: 0.00 dBm\n",
      "channel 0\t power: -0.00 dBm\n",
      "\n",
      "total WDM dignal power: -0.00 dBm\n",
      "Demodulating channel #0 , fc: 193.1000 THz, λ: 1552.5244 nm\n",
      "\n",
      "Local oscillator P: 12.00 dBm, lw: 0.00 kHz, FO: 20000.00 MHz\n",
      "CSPR = 12.00 dB\n",
      "\n",
      "\n",
      "nlms - training stage #0\n"
     ]
    },
    {
     "data": {
      "application/vnd.jupyter.widget-view+json": {
       "model_id": "87c358002aca4c0396df755f3bfc8b59",
       "version_major": 2,
       "version_minor": 0
      },
      "text/plain": [
       "  0%|          | 0/5 [00:00<?, ?it/s]"
      ]
     },
     "metadata": {},
     "output_type": "display_data"
    },
    {
     "name": "stdout",
     "output_type": "stream",
     "text": [
      "nlms pre-convergence training iteration #0\n",
      "nlms MSE = 0.017167.\n",
      "nlms pre-convergence training iteration #1\n",
      "nlms MSE = 0.002365.\n",
      "nlms pre-convergence training iteration #2\n",
      "nlms MSE = 0.002192.\n",
      "nlms pre-convergence training iteration #3\n",
      "nlms MSE = 0.002069.\n",
      "nlms pre-convergence training iteration #4\n",
      "nlms MSE = 0.001979.\n",
      "\n",
      "\n",
      "dd-lms - training stage #1\n",
      "dd-lms MSE = 0.001485.\n",
      "Results:\n",
      "\n",
      "SER: 9.00e-04\n",
      "BER: 1.52e-04\n",
      "SNR: 28.16 dB\n",
      "MI: 5.99 bits\n",
      "GMI: 5.99 bits\n",
      "channel 0\t fc : 193.1000 THz\n",
      "  mode #0\t power: 0.00 dBm\n",
      "channel 0\t power: -0.00 dBm\n",
      "\n",
      "total WDM dignal power: -0.00 dBm\n",
      "Demodulating channel #0 , fc: 193.1000 THz, λ: 1552.5244 nm\n",
      "\n",
      "Local oscillator P: 12.00 dBm, lw: 0.00 kHz, FO: 20000.00 MHz\n",
      "CSPR = 12.00 dB\n",
      "\n",
      "\n",
      "nlms - training stage #0\n"
     ]
    },
    {
     "data": {
      "application/vnd.jupyter.widget-view+json": {
       "model_id": "c153ec3cb2d64389b901db2664975c89",
       "version_major": 2,
       "version_minor": 0
      },
      "text/plain": [
       "  0%|          | 0/5 [00:00<?, ?it/s]"
      ]
     },
     "metadata": {},
     "output_type": "display_data"
    },
    {
     "name": "stdout",
     "output_type": "stream",
     "text": [
      "nlms pre-convergence training iteration #0\n",
      "nlms MSE = 0.015805.\n",
      "nlms pre-convergence training iteration #1\n",
      "nlms MSE = 0.002194.\n",
      "nlms pre-convergence training iteration #2\n",
      "nlms MSE = 0.002164.\n",
      "nlms pre-convergence training iteration #3\n",
      "nlms MSE = 0.002138.\n",
      "nlms pre-convergence training iteration #4\n",
      "nlms MSE = 0.002114.\n",
      "\n",
      "\n",
      "dd-lms - training stage #1\n",
      "dd-lms MSE = 0.001657.\n",
      "Results:\n",
      "\n",
      "SER: 1.11e-03\n",
      "BER: 1.91e-04\n",
      "SNR: 27.71 dB\n",
      "MI: 5.98 bits\n",
      "GMI: 5.98 bits\n",
      "channel 0\t fc : 193.1000 THz\n",
      "  mode #0\t power: 0.00 dBm\n",
      "channel 0\t power: 0.00 dBm\n",
      "\n",
      "total WDM dignal power: 0.00 dBm\n",
      "Demodulating channel #0 , fc: 193.1000 THz, λ: 1552.5244 nm\n",
      "\n",
      "Local oscillator P: 12.00 dBm, lw: 0.00 kHz, FO: 20000.00 MHz\n",
      "CSPR = 12.00 dB\n",
      "\n",
      "\n",
      "nlms - training stage #0\n"
     ]
    },
    {
     "data": {
      "application/vnd.jupyter.widget-view+json": {
       "model_id": "31723450c58f4c23813a7ad6a42680d5",
       "version_major": 2,
       "version_minor": 0
      },
      "text/plain": [
       "  0%|          | 0/5 [00:00<?, ?it/s]"
      ]
     },
     "metadata": {},
     "output_type": "display_data"
    },
    {
     "name": "stdout",
     "output_type": "stream",
     "text": [
      "nlms pre-convergence training iteration #0\n",
      "nlms MSE = 0.016044.\n",
      "nlms pre-convergence training iteration #1\n",
      "nlms MSE = 0.003244.\n",
      "nlms pre-convergence training iteration #2\n",
      "nlms MSE = 0.003128.\n",
      "nlms pre-convergence training iteration #3\n",
      "nlms MSE = 0.003025.\n",
      "nlms pre-convergence training iteration #4\n",
      "nlms MSE = 0.002933.\n",
      "\n",
      "\n",
      "dd-lms - training stage #1\n",
      "dd-lms MSE = 0.002015.\n",
      "Results:\n",
      "\n",
      "SER: 1.54e-03\n",
      "BER: 2.61e-04\n",
      "SNR: 26.80 dB\n",
      "MI: 5.98 bits\n",
      "GMI: 5.98 bits\n",
      "channel 0\t fc : 193.1000 THz\n",
      "  mode #0\t power: 0.00 dBm\n",
      "channel 0\t power: -0.00 dBm\n",
      "\n",
      "total WDM dignal power: -0.00 dBm\n",
      "Demodulating channel #0 , fc: 193.1000 THz, λ: 1552.5244 nm\n",
      "\n",
      "Local oscillator P: 12.00 dBm, lw: 0.00 kHz, FO: 20000.00 MHz\n",
      "CSPR = 12.00 dB\n",
      "\n",
      "\n",
      "nlms - training stage #0\n"
     ]
    },
    {
     "data": {
      "application/vnd.jupyter.widget-view+json": {
       "model_id": "a91ddc53e69345828cde8e85a249e802",
       "version_major": 2,
       "version_minor": 0
      },
      "text/plain": [
       "  0%|          | 0/5 [00:00<?, ?it/s]"
      ]
     },
     "metadata": {},
     "output_type": "display_data"
    },
    {
     "name": "stdout",
     "output_type": "stream",
     "text": [
      "nlms pre-convergence training iteration #0\n",
      "nlms MSE = 0.018250.\n",
      "nlms pre-convergence training iteration #1\n",
      "nlms MSE = 0.005200.\n",
      "nlms pre-convergence training iteration #2\n",
      "nlms MSE = 0.004576.\n",
      "nlms pre-convergence training iteration #3\n",
      "nlms MSE = 0.004128.\n",
      "nlms pre-convergence training iteration #4\n",
      "nlms MSE = 0.003800.\n",
      "\n",
      "\n",
      "dd-lms - training stage #1\n",
      "dd-lms MSE = 0.002472.\n",
      "Results:\n",
      "\n",
      "SER: 2.17e-03\n",
      "BER: 3.65e-04\n",
      "SNR: 25.86 dB\n",
      "MI: 5.97 bits\n",
      "GMI: 5.97 bits\n",
      "channel 0\t fc : 193.1000 THz\n",
      "  mode #0\t power: 0.00 dBm\n",
      "channel 0\t power: -0.00 dBm\n",
      "\n",
      "total WDM dignal power: -0.00 dBm\n",
      "Demodulating channel #0 , fc: 193.1000 THz, λ: 1552.5244 nm\n",
      "\n",
      "Local oscillator P: 12.00 dBm, lw: 0.00 kHz, FO: 20000.00 MHz\n",
      "CSPR = 12.00 dB\n",
      "\n",
      "\n",
      "nlms - training stage #0\n"
     ]
    },
    {
     "data": {
      "application/vnd.jupyter.widget-view+json": {
       "model_id": "6a5cdc3eb6f24d4883880a5f65a596a4",
       "version_major": 2,
       "version_minor": 0
      },
      "text/plain": [
       "  0%|          | 0/5 [00:00<?, ?it/s]"
      ]
     },
     "metadata": {},
     "output_type": "display_data"
    },
    {
     "name": "stdout",
     "output_type": "stream",
     "text": [
      "nlms pre-convergence training iteration #0\n",
      "nlms MSE = 0.021409.\n",
      "nlms pre-convergence training iteration #1\n",
      "nlms MSE = 0.007204.\n",
      "nlms pre-convergence training iteration #2\n",
      "nlms MSE = 0.005801.\n",
      "nlms pre-convergence training iteration #3\n",
      "nlms MSE = 0.005013.\n",
      "nlms pre-convergence training iteration #4\n",
      "nlms MSE = 0.004545.\n",
      "\n",
      "\n",
      "dd-lms - training stage #1\n",
      "dd-lms MSE = 0.003214.\n",
      "Results:\n",
      "\n",
      "SER: 3.46e-03\n",
      "BER: 5.85e-04\n",
      "SNR: 24.84 dB\n",
      "MI: 5.97 bits\n",
      "GMI: 5.97 bits\n",
      "channel 0\t fc : 193.1000 THz\n",
      "  mode #0\t power: 0.00 dBm\n",
      "channel 0\t power: -0.00 dBm\n",
      "\n",
      "total WDM dignal power: -0.00 dBm\n",
      "Demodulating channel #0 , fc: 193.1000 THz, λ: 1552.5244 nm\n",
      "\n",
      "Local oscillator P: 12.00 dBm, lw: 0.00 kHz, FO: 20000.00 MHz\n",
      "CSPR = 12.00 dB\n",
      "\n",
      "\n",
      "nlms - training stage #0\n"
     ]
    },
    {
     "data": {
      "application/vnd.jupyter.widget-view+json": {
       "model_id": "6b1886299f1548cfa20491fd87ed7b7a",
       "version_major": 2,
       "version_minor": 0
      },
      "text/plain": [
       "  0%|          | 0/5 [00:00<?, ?it/s]"
      ]
     },
     "metadata": {},
     "output_type": "display_data"
    },
    {
     "name": "stdout",
     "output_type": "stream",
     "text": [
      "nlms pre-convergence training iteration #0\n",
      "nlms MSE = 0.025192.\n",
      "nlms pre-convergence training iteration #1\n",
      "nlms MSE = 0.009210.\n",
      "nlms pre-convergence training iteration #2\n",
      "nlms MSE = 0.007105.\n",
      "nlms pre-convergence training iteration #3\n",
      "nlms MSE = 0.006167.\n",
      "nlms pre-convergence training iteration #4\n",
      "nlms MSE = 0.005686.\n",
      "\n",
      "\n",
      "dd-lms - training stage #1\n",
      "dd-lms MSE = 0.004181.\n",
      "Results:\n",
      "\n",
      "SER: 7.68e-03\n",
      "BER: 1.31e-03\n",
      "SNR: 23.68 dB\n",
      "MI: 5.95 bits\n",
      "GMI: 5.95 bits\n",
      "channel 0\t fc : 193.1000 THz\n",
      "  mode #0\t power: 0.00 dBm\n",
      "channel 0\t power: -0.00 dBm\n",
      "\n",
      "total WDM dignal power: -0.00 dBm\n",
      "Demodulating channel #0 , fc: 193.1000 THz, λ: 1552.5244 nm\n",
      "\n",
      "Local oscillator P: 12.00 dBm, lw: 0.00 kHz, FO: 20000.00 MHz\n",
      "CSPR = 12.00 dB\n",
      "\n",
      "\n",
      "nlms - training stage #0\n"
     ]
    },
    {
     "data": {
      "application/vnd.jupyter.widget-view+json": {
       "model_id": "935027cd3728425c89aec796ed04e2fb",
       "version_major": 2,
       "version_minor": 0
      },
      "text/plain": [
       "  0%|          | 0/5 [00:00<?, ?it/s]"
      ]
     },
     "metadata": {},
     "output_type": "display_data"
    },
    {
     "name": "stdout",
     "output_type": "stream",
     "text": [
      "nlms pre-convergence training iteration #0\n",
      "nlms MSE = 0.029387.\n",
      "nlms pre-convergence training iteration #1\n",
      "nlms MSE = 0.011505.\n",
      "nlms pre-convergence training iteration #2\n",
      "nlms MSE = 0.008838.\n",
      "nlms pre-convergence training iteration #3\n",
      "nlms MSE = 0.007738.\n",
      "nlms pre-convergence training iteration #4\n",
      "nlms MSE = 0.007168.\n",
      "\n",
      "\n",
      "dd-lms - training stage #1\n",
      "dd-lms MSE = 0.005167.\n",
      "Results:\n",
      "\n",
      "SER: 1.47e-02\n",
      "BER: 2.49e-03\n",
      "SNR: 22.65 dB\n",
      "MI: 5.92 bits\n",
      "GMI: 5.92 bits\n",
      "channel 0\t fc : 193.1000 THz\n",
      "  mode #0\t power: 0.00 dBm\n",
      "channel 0\t power: 0.00 dBm\n",
      "\n",
      "total WDM dignal power: 0.00 dBm\n",
      "Demodulating channel #0 , fc: 193.1000 THz, λ: 1552.5244 nm\n",
      "\n",
      "Local oscillator P: 12.00 dBm, lw: 0.00 kHz, FO: 20000.00 MHz\n",
      "CSPR = 12.00 dB\n",
      "\n",
      "\n",
      "nlms - training stage #0\n"
     ]
    },
    {
     "data": {
      "application/vnd.jupyter.widget-view+json": {
       "model_id": "627b25d381e843b58b2b47828bb55fd1",
       "version_major": 2,
       "version_minor": 0
      },
      "text/plain": [
       "  0%|          | 0/5 [00:00<?, ?it/s]"
      ]
     },
     "metadata": {},
     "output_type": "display_data"
    },
    {
     "name": "stdout",
     "output_type": "stream",
     "text": [
      "nlms pre-convergence training iteration #0\n",
      "nlms MSE = 0.034005.\n",
      "nlms pre-convergence training iteration #1\n",
      "nlms MSE = 0.013910.\n",
      "nlms pre-convergence training iteration #2\n",
      "nlms MSE = 0.010690.\n",
      "nlms pre-convergence training iteration #3\n",
      "nlms MSE = 0.009365.\n",
      "nlms pre-convergence training iteration #4\n",
      "nlms MSE = 0.008650.\n",
      "\n",
      "\n",
      "dd-lms - training stage #1\n",
      "dd-lms MSE = 0.006220.\n",
      "Results:\n",
      "\n",
      "SER: 2.43e-02\n",
      "BER: 4.14e-03\n",
      "SNR: 21.73 dB\n",
      "MI: 5.88 bits\n",
      "GMI: 5.88 bits\n",
      "channel 0\t fc : 193.1000 THz\n",
      "  mode #0\t power: 0.00 dBm\n",
      "channel 0\t power: 0.00 dBm\n",
      "\n",
      "total WDM dignal power: 0.00 dBm\n",
      "Demodulating channel #0 , fc: 193.1000 THz, λ: 1552.5244 nm\n",
      "\n",
      "Local oscillator P: 12.00 dBm, lw: 0.00 kHz, FO: 21000.00 MHz\n",
      "CSPR = 12.00 dB\n",
      "\n",
      "\n",
      "nlms - training stage #0\n"
     ]
    },
    {
     "data": {
      "application/vnd.jupyter.widget-view+json": {
       "model_id": "fb3ce1ab490d4fb5a7679d4c27c3d079",
       "version_major": 2,
       "version_minor": 0
      },
      "text/plain": [
       "  0%|          | 0/5 [00:00<?, ?it/s]"
      ]
     },
     "metadata": {},
     "output_type": "display_data"
    },
    {
     "name": "stdout",
     "output_type": "stream",
     "text": [
      "nlms pre-convergence training iteration #0\n",
      "nlms MSE = 0.022932.\n",
      "nlms pre-convergence training iteration #1\n",
      "nlms MSE = 0.003015.\n",
      "nlms pre-convergence training iteration #2\n",
      "nlms MSE = 0.002614.\n",
      "nlms pre-convergence training iteration #3\n",
      "nlms MSE = 0.002386.\n",
      "nlms pre-convergence training iteration #4\n",
      "nlms MSE = 0.002234.\n",
      "\n",
      "\n",
      "dd-lms - training stage #1\n",
      "dd-lms MSE = 0.001709.\n",
      "Results:\n",
      "\n",
      "SER: 1.30e-03\n",
      "BER: 2.20e-04\n",
      "SNR: 27.50 dB\n",
      "MI: 5.98 bits\n",
      "GMI: 5.98 bits\n",
      "channel 0\t fc : 193.1000 THz\n",
      "  mode #0\t power: 0.00 dBm\n",
      "channel 0\t power: 0.00 dBm\n",
      "\n",
      "total WDM dignal power: 0.00 dBm\n",
      "Demodulating channel #0 , fc: 193.1000 THz, λ: 1552.5244 nm\n",
      "\n",
      "Local oscillator P: 12.00 dBm, lw: 0.00 kHz, FO: 21000.00 MHz\n",
      "CSPR = 12.00 dB\n",
      "\n",
      "\n",
      "nlms - training stage #0\n"
     ]
    },
    {
     "data": {
      "application/vnd.jupyter.widget-view+json": {
       "model_id": "6ec3a81a326e465d9c23167b9ddd5f0e",
       "version_major": 2,
       "version_minor": 0
      },
      "text/plain": [
       "  0%|          | 0/5 [00:00<?, ?it/s]"
      ]
     },
     "metadata": {},
     "output_type": "display_data"
    },
    {
     "name": "stdout",
     "output_type": "stream",
     "text": [
      "nlms pre-convergence training iteration #0\n",
      "nlms MSE = 0.020325.\n",
      "nlms pre-convergence training iteration #1\n",
      "nlms MSE = 0.003203.\n",
      "nlms pre-convergence training iteration #2\n",
      "nlms MSE = 0.002738.\n",
      "nlms pre-convergence training iteration #3\n",
      "nlms MSE = 0.002491.\n",
      "nlms pre-convergence training iteration #4\n",
      "nlms MSE = 0.002338.\n",
      "\n",
      "\n",
      "dd-lms - training stage #1\n",
      "dd-lms MSE = 0.001651.\n",
      "Results:\n",
      "\n",
      "SER: 1.54e-03\n",
      "BER: 2.69e-04\n",
      "SNR: 27.62 dB\n",
      "MI: 5.97 bits\n",
      "GMI: 5.97 bits\n",
      "channel 0\t fc : 193.1000 THz\n",
      "  mode #0\t power: 0.00 dBm\n",
      "channel 0\t power: -0.00 dBm\n",
      "\n",
      "total WDM dignal power: -0.00 dBm\n",
      "Demodulating channel #0 , fc: 193.1000 THz, λ: 1552.5244 nm\n",
      "\n",
      "Local oscillator P: 12.00 dBm, lw: 0.00 kHz, FO: 21000.00 MHz\n",
      "CSPR = 12.00 dB\n",
      "\n",
      "\n",
      "nlms - training stage #0\n"
     ]
    },
    {
     "data": {
      "application/vnd.jupyter.widget-view+json": {
       "model_id": "e0df18f6a47a49d39864efe0dd30e4f1",
       "version_major": 2,
       "version_minor": 0
      },
      "text/plain": [
       "  0%|          | 0/5 [00:00<?, ?it/s]"
      ]
     },
     "metadata": {},
     "output_type": "display_data"
    },
    {
     "name": "stdout",
     "output_type": "stream",
     "text": [
      "nlms pre-convergence training iteration #0\n",
      "nlms MSE = 0.017909.\n",
      "nlms pre-convergence training iteration #1\n",
      "nlms MSE = 0.002609.\n",
      "nlms pre-convergence training iteration #2\n",
      "nlms MSE = 0.002427.\n",
      "nlms pre-convergence training iteration #3\n",
      "nlms MSE = 0.002299.\n",
      "nlms pre-convergence training iteration #4\n",
      "nlms MSE = 0.002206.\n",
      "\n",
      "\n",
      "dd-lms - training stage #1\n",
      "dd-lms MSE = 0.001723.\n",
      "Results:\n",
      "\n",
      "SER: 1.22e-03\n",
      "BER: 2.09e-04\n",
      "SNR: 27.52 dB\n",
      "MI: 5.98 bits\n",
      "GMI: 5.98 bits\n",
      "channel 0\t fc : 193.1000 THz\n",
      "  mode #0\t power: 0.00 dBm\n",
      "channel 0\t power: -0.00 dBm\n",
      "\n",
      "total WDM dignal power: -0.00 dBm\n",
      "Demodulating channel #0 , fc: 193.1000 THz, λ: 1552.5244 nm\n",
      "\n",
      "Local oscillator P: 12.00 dBm, lw: 0.00 kHz, FO: 21000.00 MHz\n",
      "CSPR = 12.00 dB\n",
      "\n",
      "\n",
      "nlms - training stage #0\n"
     ]
    },
    {
     "data": {
      "application/vnd.jupyter.widget-view+json": {
       "model_id": "9512ceee7d944128b8072d92e627a281",
       "version_major": 2,
       "version_minor": 0
      },
      "text/plain": [
       "  0%|          | 0/5 [00:00<?, ?it/s]"
      ]
     },
     "metadata": {},
     "output_type": "display_data"
    },
    {
     "name": "stdout",
     "output_type": "stream",
     "text": [
      "nlms pre-convergence training iteration #0\n",
      "nlms MSE = 0.015828.\n",
      "nlms pre-convergence training iteration #1\n",
      "nlms MSE = 0.002361.\n",
      "nlms pre-convergence training iteration #2\n",
      "nlms MSE = 0.002323.\n",
      "nlms pre-convergence training iteration #3\n",
      "nlms MSE = 0.002289.\n",
      "nlms pre-convergence training iteration #4\n",
      "nlms MSE = 0.002258.\n",
      "\n",
      "\n",
      "dd-lms - training stage #1\n",
      "dd-lms MSE = 0.001867.\n",
      "Results:\n",
      "\n",
      "SER: 1.50e-03\n",
      "BER: 2.54e-04\n",
      "SNR: 27.15 dB\n",
      "MI: 5.98 bits\n",
      "GMI: 5.98 bits\n",
      "channel 0\t fc : 193.1000 THz\n",
      "  mode #0\t power: 0.00 dBm\n",
      "channel 0\t power: 0.00 dBm\n",
      "\n",
      "total WDM dignal power: 0.00 dBm\n",
      "Demodulating channel #0 , fc: 193.1000 THz, λ: 1552.5244 nm\n",
      "\n",
      "Local oscillator P: 12.00 dBm, lw: 0.00 kHz, FO: 21000.00 MHz\n",
      "CSPR = 12.00 dB\n",
      "\n",
      "\n",
      "nlms - training stage #0\n"
     ]
    },
    {
     "data": {
      "application/vnd.jupyter.widget-view+json": {
       "model_id": "b59cdb143e014a7d911354a02de9a1df",
       "version_major": 2,
       "version_minor": 0
      },
      "text/plain": [
       "  0%|          | 0/5 [00:00<?, ?it/s]"
      ]
     },
     "metadata": {},
     "output_type": "display_data"
    },
    {
     "name": "stdout",
     "output_type": "stream",
     "text": [
      "nlms pre-convergence training iteration #0\n",
      "nlms MSE = 0.015299.\n",
      "nlms pre-convergence training iteration #1\n",
      "nlms MSE = 0.002651.\n",
      "nlms pre-convergence training iteration #2\n",
      "nlms MSE = 0.002612.\n",
      "nlms pre-convergence training iteration #3\n",
      "nlms MSE = 0.002575.\n",
      "nlms pre-convergence training iteration #4\n",
      "nlms MSE = 0.002540.\n",
      "\n",
      "\n",
      "dd-lms - training stage #1\n",
      "dd-lms MSE = 0.002038.\n",
      "Results:\n",
      "\n",
      "SER: 1.71e-03\n",
      "BER: 2.87e-04\n",
      "SNR: 26.79 dB\n",
      "MI: 5.99 bits\n",
      "GMI: 5.98 bits\n",
      "channel 0\t fc : 193.1000 THz\n",
      "  mode #0\t power: 0.00 dBm\n",
      "channel 0\t power: -0.00 dBm\n",
      "\n",
      "total WDM dignal power: -0.00 dBm\n",
      "Demodulating channel #0 , fc: 193.1000 THz, λ: 1552.5244 nm\n",
      "\n",
      "Local oscillator P: 12.00 dBm, lw: 0.00 kHz, FO: 21000.00 MHz\n",
      "CSPR = 12.00 dB\n",
      "\n",
      "\n",
      "nlms - training stage #0\n"
     ]
    },
    {
     "data": {
      "application/vnd.jupyter.widget-view+json": {
       "model_id": "0f71a9ad0d814800ac6e04a6f4cc8ca2",
       "version_major": 2,
       "version_minor": 0
      },
      "text/plain": [
       "  0%|          | 0/5 [00:00<?, ?it/s]"
      ]
     },
     "metadata": {},
     "output_type": "display_data"
    },
    {
     "name": "stdout",
     "output_type": "stream",
     "text": [
      "nlms pre-convergence training iteration #0\n",
      "nlms MSE = 0.015322.\n",
      "nlms pre-convergence training iteration #1\n",
      "nlms MSE = 0.003659.\n",
      "nlms pre-convergence training iteration #2\n",
      "nlms MSE = 0.003510.\n",
      "nlms pre-convergence training iteration #3\n",
      "nlms MSE = 0.003380.\n",
      "nlms pre-convergence training iteration #4\n",
      "nlms MSE = 0.003264.\n",
      "\n",
      "\n",
      "dd-lms - training stage #1\n",
      "dd-lms MSE = 0.002413.\n",
      "Results:\n",
      "\n",
      "SER: 2.11e-03\n",
      "BER: 3.63e-04\n",
      "SNR: 26.01 dB\n",
      "MI: 5.98 bits\n",
      "GMI: 5.98 bits\n",
      "channel 0\t fc : 193.1000 THz\n",
      "  mode #0\t power: 0.00 dBm\n",
      "channel 0\t power: 0.00 dBm\n",
      "\n",
      "total WDM dignal power: 0.00 dBm\n",
      "Demodulating channel #0 , fc: 193.1000 THz, λ: 1552.5244 nm\n",
      "\n",
      "Local oscillator P: 12.00 dBm, lw: 0.00 kHz, FO: 21000.00 MHz\n",
      "CSPR = 12.00 dB\n",
      "\n",
      "\n",
      "nlms - training stage #0\n"
     ]
    },
    {
     "data": {
      "application/vnd.jupyter.widget-view+json": {
       "model_id": "5269c579a28248d0adcb37a8299ce7eb",
       "version_major": 2,
       "version_minor": 0
      },
      "text/plain": [
       "  0%|          | 0/5 [00:00<?, ?it/s]"
      ]
     },
     "metadata": {},
     "output_type": "display_data"
    },
    {
     "name": "stdout",
     "output_type": "stream",
     "text": [
      "nlms pre-convergence training iteration #0\n",
      "nlms MSE = 0.017552.\n",
      "nlms pre-convergence training iteration #1\n",
      "nlms MSE = 0.005641.\n",
      "nlms pre-convergence training iteration #2\n",
      "nlms MSE = 0.005057.\n",
      "nlms pre-convergence training iteration #3\n",
      "nlms MSE = 0.004632.\n",
      "nlms pre-convergence training iteration #4\n",
      "nlms MSE = 0.004318.\n",
      "\n",
      "\n",
      "dd-lms - training stage #1\n",
      "dd-lms MSE = 0.002859.\n",
      "Results:\n",
      "\n",
      "SER: 2.94e-03\n",
      "BER: 5.02e-04\n",
      "SNR: 25.21 dB\n",
      "MI: 5.97 bits\n",
      "GMI: 5.97 bits\n",
      "channel 0\t fc : 193.1000 THz\n",
      "  mode #0\t power: 0.00 dBm\n",
      "channel 0\t power: 0.00 dBm\n",
      "\n",
      "total WDM dignal power: 0.00 dBm\n",
      "Demodulating channel #0 , fc: 193.1000 THz, λ: 1552.5244 nm\n",
      "\n",
      "Local oscillator P: 12.00 dBm, lw: 0.00 kHz, FO: 21000.00 MHz\n",
      "CSPR = 12.00 dB\n",
      "\n",
      "\n",
      "nlms - training stage #0\n"
     ]
    },
    {
     "data": {
      "application/vnd.jupyter.widget-view+json": {
       "model_id": "dc7185e1f5b549d99a3d5c21a35e4f02",
       "version_major": 2,
       "version_minor": 0
      },
      "text/plain": [
       "  0%|          | 0/5 [00:00<?, ?it/s]"
      ]
     },
     "metadata": {},
     "output_type": "display_data"
    },
    {
     "name": "stdout",
     "output_type": "stream",
     "text": [
      "nlms pre-convergence training iteration #0\n",
      "nlms MSE = 0.020154.\n",
      "nlms pre-convergence training iteration #1\n",
      "nlms MSE = 0.007322.\n",
      "nlms pre-convergence training iteration #2\n",
      "nlms MSE = 0.006040.\n",
      "nlms pre-convergence training iteration #3\n",
      "nlms MSE = 0.005314.\n",
      "nlms pre-convergence training iteration #4\n",
      "nlms MSE = 0.004883.\n",
      "\n",
      "\n",
      "dd-lms - training stage #1\n",
      "dd-lms MSE = 0.003573.\n",
      "Results:\n",
      "\n",
      "SER: 4.90e-03\n",
      "BER: 8.22e-04\n",
      "SNR: 24.31 dB\n",
      "MI: 5.97 bits\n",
      "GMI: 5.97 bits\n",
      "channel 0\t fc : 193.1000 THz\n",
      "  mode #0\t power: 0.00 dBm\n",
      "channel 0\t power: -0.00 dBm\n",
      "\n",
      "total WDM dignal power: -0.00 dBm\n",
      "Demodulating channel #0 , fc: 193.1000 THz, λ: 1552.5244 nm\n",
      "\n",
      "Local oscillator P: 12.00 dBm, lw: 0.00 kHz, FO: 21000.00 MHz\n",
      "CSPR = 12.00 dB\n",
      "\n",
      "\n",
      "nlms - training stage #0\n"
     ]
    },
    {
     "data": {
      "application/vnd.jupyter.widget-view+json": {
       "model_id": "5428391f3d084af992ddd9cef14ded78",
       "version_major": 2,
       "version_minor": 0
      },
      "text/plain": [
       "  0%|          | 0/5 [00:00<?, ?it/s]"
      ]
     },
     "metadata": {},
     "output_type": "display_data"
    },
    {
     "name": "stdout",
     "output_type": "stream",
     "text": [
      "nlms pre-convergence training iteration #0\n",
      "nlms MSE = 0.023220.\n",
      "nlms pre-convergence training iteration #1\n",
      "nlms MSE = 0.009034.\n",
      "nlms pre-convergence training iteration #2\n",
      "nlms MSE = 0.007117.\n",
      "nlms pre-convergence training iteration #3\n",
      "nlms MSE = 0.006210.\n",
      "nlms pre-convergence training iteration #4\n",
      "nlms MSE = 0.005733.\n",
      "\n",
      "\n",
      "dd-lms - training stage #1\n",
      "dd-lms MSE = 0.004449.\n",
      "Results:\n",
      "\n",
      "SER: 8.68e-03\n",
      "BER: 1.47e-03\n",
      "SNR: 23.36 dB\n",
      "MI: 5.95 bits\n",
      "GMI: 5.95 bits\n",
      "channel 0\t fc : 193.1000 THz\n",
      "  mode #0\t power: 0.00 dBm\n",
      "channel 0\t power: -0.00 dBm\n",
      "\n",
      "total WDM dignal power: -0.00 dBm\n",
      "Demodulating channel #0 , fc: 193.1000 THz, λ: 1552.5244 nm\n",
      "\n",
      "Local oscillator P: 12.00 dBm, lw: 0.00 kHz, FO: 21000.00 MHz\n",
      "CSPR = 12.00 dB\n",
      "\n",
      "\n",
      "nlms - training stage #0\n"
     ]
    },
    {
     "data": {
      "application/vnd.jupyter.widget-view+json": {
       "model_id": "1a296fd8b440468e95a4f017fc927059",
       "version_major": 2,
       "version_minor": 0
      },
      "text/plain": [
       "  0%|          | 0/5 [00:00<?, ?it/s]"
      ]
     },
     "metadata": {},
     "output_type": "display_data"
    },
    {
     "name": "stdout",
     "output_type": "stream",
     "text": [
      "nlms pre-convergence training iteration #0\n",
      "nlms MSE = 0.027559.\n",
      "nlms pre-convergence training iteration #1\n",
      "nlms MSE = 0.011225.\n",
      "nlms pre-convergence training iteration #2\n",
      "nlms MSE = 0.008821.\n",
      "nlms pre-convergence training iteration #3\n",
      "nlms MSE = 0.007810.\n",
      "nlms pre-convergence training iteration #4\n",
      "nlms MSE = 0.007280.\n",
      "\n",
      "\n",
      "dd-lms - training stage #1\n",
      "dd-lms MSE = 0.005454.\n",
      "Results:\n",
      "\n",
      "SER: 1.56e-02\n",
      "BER: 2.65e-03\n",
      "SNR: 22.40 dB\n",
      "MI: 5.92 bits\n",
      "GMI: 5.92 bits\n"
     ]
    }
   ],
   "source": [
    "FO_Values = np.arange(1e9, 6e9, 1e9)\n",
    "Rolloff = np.arange(0.01, 0.99, 0.1)\n",
    "\n",
    "BER_KK = np.zeros((FO_Values.size, Rolloff.size))\n",
    "SER_KK = np.zeros((FO_Values.size, Rolloff.size))\n",
    "GMI_KK = np.zeros((FO_Values.size, Rolloff.size))\n",
    "MI_KK  = np.zeros((FO_Values.size, Rolloff.size))\n",
    "SNR_KK = np.zeros((FO_Values.size, Rolloff.size))\n",
    "\n",
    "iterations = 5 # number of iterations per simulation\n",
    "\n",
    "for indfile in range(0, iterations):\n",
    "    for indNN, FO_ in enumerate(FO_Values):\n",
    "        for index, indRoll_ in enumerate(Rolloff):\n",
    "            # Main simulation parameters\n",
    "            paramTx.alphaRRC = indRoll_\n",
    "            FO = FO_ + paramTx.Rs/2\n",
    "            \n",
    "            # generate optical signal signal\n",
    "            sigTx, symbTx_, paramTx = simpleWDMTx(paramTx)\n",
    "\n",
    "            # simulate linear signal propagation\n",
    "            sigCh = linFiberCh(sigTx, Ltotal, alpha, D, Fc, Fs)\n",
    "\n",
    "            # receiver detection and demodulation\n",
    "            Fc = paramTx.Fc\n",
    "            Ts = 1 / Fs\n",
    "            mod = QAMModem(m=paramTx.M)\n",
    "\n",
    "            freqGrid = paramTx.freqGrid\n",
    "            print(\n",
    "                \"Demodulating channel #%d , fc: %.4f THz, λ: %.4f nm\\n\"\n",
    "                % (\n",
    "                    chIndex,\n",
    "                    (Fc + freqGrid[chIndex]) / 1e12,\n",
    "                    const.c / (Fc + freqGrid[chIndex]) / 1e-9,\n",
    "                )\n",
    "            )\n",
    "\n",
    "            symbTx = symbTx_[:, :, chIndex]\n",
    "\n",
    "            Plo = 10 ** (Plo_dBm / 10) * 1e-3  # power in W\n",
    "\n",
    "            print(\n",
    "                \"Local oscillator P: %.2f dBm, lw: %.2f kHz, FO: %.2f MHz\"\n",
    "                % (Plo_dBm, lw / 1e3, FO / 1e6)\n",
    "            )\n",
    "\n",
    "            # generate LO field\n",
    "            π = np.pi\n",
    "            t = np.arange(0, len(sigCh))*Ts\n",
    "            ϕ_pn_lo = phaseNoise(lw, len(sigCh), Ts)\n",
    "\n",
    "            sigLO = np.sqrt(Plo) * np.exp(-1j * (2 * π * FO * t + ϕ_lo + ϕ_pn_lo))\n",
    "\n",
    "            # Add LO to the received signal\n",
    "            sigRx = np.sqrt(Plo) + sigCh * np.exp(1j * (2 * π * FO * t + ϕ_lo + ϕ_pn_lo))\n",
    "            sfm = sigRx.copy()\n",
    "\n",
    "            print('CSPR = %.2f dB' % (10*np.log10(signal_power(sigLO)/signal_power(sigCh))))\n",
    "\n",
    "            # ### Phase-retrieval stage\n",
    "\n",
    "            # In[4]:\n",
    "\n",
    "            # resampling to ADC sampling rate\n",
    "            sigCh = resample(sigCh, paramADC)\n",
    "            sfm = resample(sfm, paramADC)\n",
    "            newFs = paramADC.SpS_out*paramTx.Rs\n",
    "\n",
    "            # simulate ideal direct-detection optical receiver\n",
    "            Amp = np.abs(sigRx)\n",
    "            Amp = resample(Amp, paramADC)\n",
    "\n",
    "            # Kramers-Kronig phase-retrieval\n",
    "            phiTime = KramersKronigRx(Amp, newFs)\n",
    "\n",
    "            # optical field reconstruction\n",
    "            sigRx = Amp*np.exp(1j*phiTime)\n",
    "\n",
    "            # remove DC level\n",
    "            sigRx -= np.sqrt(Plo)  # np.mean(sigRx)\n",
    "\n",
    "            # downshift to baseband\n",
    "            t = np.arange(0, len(sigRx))*(1/newFs)\n",
    "            sigRx *= np.exp(-1j * (2 * π * FO * t))\n",
    "\n",
    "            # correct for (possible) phase ambiguity\n",
    "            rot = np.mean(sigCh/sigRx)\n",
    "            sigRx = rot * sigRx\n",
    "            sigRx = sigRx / np.sqrt(signal_power(sigRx))\n",
    "\n",
    "            # #### Standard receiver processing\n",
    "\n",
    "            # In[5]:\n",
    "\n",
    "            # resample to 2 samples/symbol:\n",
    "            paramRes = parameters()\n",
    "            paramRes.Rs = paramTx.Rs\n",
    "            paramRes.SpS_in = paramADC.SpS_out\n",
    "            paramRes.SpS_out = 2\n",
    "\n",
    "            sigRx = resample(sigRx, paramRes)\n",
    "\n",
    "            # Matched filtering and CD compensation\n",
    "\n",
    "            # Matched filtering\n",
    "            if paramTx.pulse == \"nrz\":\n",
    "                pulse = pulseShape(\"nrz\", paramADC.SpS_out)\n",
    "            elif paramTx.pulse == \"rrc\":\n",
    "                pulse = pulseShape(\"rrc\", paramRes.SpS_out, N=paramTx.Ntaps, alpha=paramTx.alphaRRC, Ts=1 / paramTx.Rs)\n",
    "\n",
    "            pulse = pulse / np.max(np.abs(pulse))\n",
    "            sigRx = firFilter(pulse, sigRx)\n",
    "\n",
    "            # plot constellations after matched filtering\n",
    "            #pconst(sigRx[0::paramRes.SpS_out], lim=True, R=3)\n",
    "\n",
    "            # CD compensation\n",
    "            sigRx = edc(sigRx, Ltotal, D, Fc, paramRes.SpS_out*paramTx.Rs)\n",
    "\n",
    "            #plot constellations after CD compensation\n",
    "            #pconst(sigRx[0::paramRes.SpS_out], lim=True, R=2)\n",
    "\n",
    "            # Downsampling to 2 sps and re-synchronization with transmitted sequences\n",
    "            sigRx = sigRx.reshape(-1, 1)\n",
    "\n",
    "            symbRx = symbolSync(sigRx, symbTx, 2)\n",
    "\n",
    "            # In[6]:\n",
    "\n",
    "            # Power normalization\n",
    "            x = sigRx\n",
    "            d = symbRx\n",
    "\n",
    "            x = x.reshape(len(x), 1) / np.sqrt(signal_power(x))\n",
    "            d = d.reshape(len(d), 1) / np.sqrt(signal_power(d))\n",
    "\n",
    "            # Adaptive equalization\n",
    "            mod = QAMModem(m=paramTx.M)\n",
    "\n",
    "            paramEq = parameters()\n",
    "            paramEq.nTaps = 15\n",
    "            paramEq.SpS = 2\n",
    "            paramEq.mu = [5e-3, 2e-3]\n",
    "            paramEq.numIter = 5\n",
    "            paramEq.storeCoeff = False\n",
    "            paramEq.alg = [\"nlms\", \"dd-lms\"]\n",
    "            paramEq.M = paramTx.M\n",
    "            paramEq.L = [20000, 80000]\n",
    "\n",
    "            y_EQ, H, errSq, Hiter = mimoAdaptEqualizer(x, dx=d, paramEq=paramEq)\n",
    "\n",
    "            discard = int(paramEq.L[0]/2)\n",
    "\n",
    "            #plot constellations after adaptive equalization\n",
    "            #pconst(y_EQ[discard:-discard, :], lim=True)\n",
    "\n",
    "            # In[7]:\n",
    "\n",
    "            # Carrier phase recovery\n",
    "            paramCPR = parameters()\n",
    "            paramCPR.alg = \"bps\"\n",
    "            paramCPR.M = paramTx.M\n",
    "            paramCPR.N = 75\n",
    "            paramCPR.B = 64\n",
    "            paramCPR.pilotInd = np.arange(0, len(y_EQ), 20)\n",
    "\n",
    "            y_CPR, θ = cpr(y_EQ, symbTx=d, paramCPR=paramCPR)\n",
    "\n",
    "            y_CPR = y_CPR / np.sqrt(signal_power(y_CPR))\n",
    "\n",
    "            discard = 5000\n",
    "\n",
    "            # plot constellations after CPR\n",
    "            #pconst(y_CPR[discard:-discard, :], lim=True)\n",
    "\n",
    "            # #### Evaluate transmission metrics\n",
    "\n",
    "            # In[8]:\n",
    "\n",
    "            # correct for (possible) phase ambiguity\n",
    "            for k in range(y_CPR.shape[1]):\n",
    "                rot = np.mean(d[:, k] / y_CPR[:, k])\n",
    "                y_CPR[:, k] = rot * y_CPR[:, k]\n",
    "\n",
    "            y_CPR = y_CPR / np.sqrt(signal_power(y_CPR))\n",
    "\n",
    "            ind = np.arange(discard, d.shape[0] - discard)\n",
    "            BER_KK[indNN][index], SER_KK[indNN][index], SNR_KK[indNN][index] = fastBERcalc(y_CPR[ind, :], d[ind, :], mod)\n",
    "            GMI_KK[indNN][index], _ = monteCarloGMI(y_CPR[ind, :], d[ind, :], mod)\n",
    "            MI_KK[indNN][index] = monteCarloMI(y_CPR[ind, :], d[ind, :], mod)\n",
    "\n",
    "            print(\"Results:\\n\")\n",
    "            print(\"SER: %.2e\" % (SER_KK[indNN][index]))\n",
    "            print(\"BER: %.2e\" % (BER_KK[indNN][index]))\n",
    "            print(\"SNR: %.2f dB\" % (SNR_KK[indNN][index]))\n",
    "            print(\"MI: %.2f bits\" % (MI_KK[indNN][index]))\n",
    "            print(\"GMI: %.2f bits\" % (GMI_KK[indNN][index]))\n",
    "\n",
    "    np.save(r'/home/silas/Documentos/GitHub/PIVIC-Comunicacoes-Opticas/resultados/Data/BER_KK_'+str(indfile), BER_KK)"
   ]
  }
 ],
 "metadata": {
  "kernelspec": {
   "display_name": "Python 3.9.13 64-bit",
   "language": "python",
   "name": "python3"
  },
  "language_info": {
   "codemirror_mode": {
    "name": "ipython",
    "version": 3
   },
   "file_extension": ".py",
   "mimetype": "text/x-python",
   "name": "python",
   "nbconvert_exporter": "python",
   "pygments_lexer": "ipython3",
   "version": "3.9.13"
  },
  "vscode": {
   "interpreter": {
    "hash": "4cead383004ffea04c5a085330d2187e41b90a08e531203cefc944d3da80249c"
   }
  }
 },
 "nbformat": 4,
 "nbformat_minor": 2
}
