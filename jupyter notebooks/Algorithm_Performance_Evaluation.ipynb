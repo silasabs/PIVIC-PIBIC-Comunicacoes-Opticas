{
 "cells": [
  {
   "cell_type": "code",
   "execution_count": 1,
   "metadata": {},
   "outputs": [
    {
     "name": "stderr",
     "output_type": "stream",
     "text": [
      "2022-09-07 09:55:02.763395: W tensorflow/stream_executor/platform/default/dso_loader.cc:64] Could not load dynamic library 'libcudart.so.11.0'; dlerror: libcudart.so.11.0: cannot open shared object file: No such file or directory\n",
      "2022-09-07 09:55:02.763459: I tensorflow/stream_executor/cuda/cudart_stub.cc:29] Ignore above cudart dlerror if you do not have a GPU set up on your machine.\n"
     ]
    }
   ],
   "source": [
    "import matplotlib.pyplot as plt\n",
    "import numpy as np\n",
    "\n",
    "from commpy.modulation import QAMModem\n",
    "\n",
    "from optic.dsp import pulseShape, firFilter, decimate, symbolSync, resample\n",
    "from optic.models import phaseNoise, KramersKronigRx, linFiberCh\n",
    "\n",
    "from optic.tx import simpleWDMTx\n",
    "from optic.core import parameters\n",
    "from optic.equalization import edc, mimoAdaptEqualizer\n",
    "from optic.carrierRecovery import cpr\n",
    "from optic.metrics import fastBERcalc, monteCarloGMI, monteCarloMI, signal_power\n",
    "from optic.plot import pconst\n",
    "\n",
    "import scipy.constants as const\n",
    "\n",
    "from tensorflow.keras.layers import Dense, Dropout, BatchNormalization\n",
    "from tensorflow.keras.models import Sequential\n",
    "from tensorflow.keras.callbacks import EarlyStopping\n",
    "import tensorflow as tf"
   ]
  },
  {
   "cell_type": "markdown",
   "metadata": {},
   "source": [
    "### Simulation of a single polarization optical signal transmission"
   ]
  },
  {
   "cell_type": "code",
   "execution_count": 5,
   "metadata": {},
   "outputs": [],
   "source": [
    "## Transmitter parameters:\n",
    "paramTx = parameters()\n",
    "paramTx.M = 64                 # order of the modulation format\n",
    "paramTx.Rs = 32e9              # symbol rate [baud]\n",
    "paramTx.SpS = 4                # samples per symbol\n",
    "paramTx.Nbits = 600000         # total number of bits per polarization\n",
    "paramTx.pulse = \"rrc\"          # pulse shaping filter\n",
    "paramTx.Ntaps = 1024           # number of pulse shaping filter coefficients\n",
    "#paramTx.alphaRRC = 0.91        # RRC rolloff\n",
    "paramTx.Pch_dBm = 0            # power of the optical signal [dBm]\n",
    "paramTx.Nch = 1                # number of WDM channels\n",
    "paramTx.Fc = 193.1e12          # central frequency of the optical spectrum\n",
    "paramTx.freqSpac = 37.5e9      # WDM grid spacing\n",
    "\n",
    "## Optical channel parameters:\n",
    "Ltotal = 50      # total link distance [km]\n",
    "alpha = 0        # fiber loss parameter [dB/km]\n",
    "D = 16           # fiber dispersion parameter [ps/nm/km]\n",
    "Fc = paramTx.Fc  # central optical frequency of the WDM spectrum [Hz]\n",
    "\n",
    "## Receiver parameters:\n",
    "\n",
    "# local oscillator (LO)\n",
    "#FO = 5e9 + paramTx.Rs/2  # frequency offset\n",
    "lw = 0*200e3       # linewidth\n",
    "ϕ_lo = 0           # initial phase in rad\n",
    "Plo_dBm = 12       # power in dBm\n",
    "\n",
    "# ADC sampling rate\n",
    "paramADC = parameters()\n",
    "paramADC.Rs = paramTx.Rs\n",
    "paramADC.SpS_in = paramTx.SpS\n",
    "paramADC.SpS_out = 4\n",
    "\n",
    "## General simulation parameters:\n",
    "chIndex = 0  # index of the channel to be demodulated\n",
    "plotPSD = True\n",
    "Fs = paramTx.Rs * paramTx.SpS  # simulation sampling rate"
   ]
  },
  {
   "cell_type": "code",
   "execution_count": 6,
   "metadata": {},
   "outputs": [],
   "source": [
    "plt.rcParams['font.size'] = 10\n",
    "plt.rcParams['lines.linewidth'] = 1\n",
    "plt.rcParams['text.usetex'] = False"
   ]
  },
  {
   "cell_type": "markdown",
   "metadata": {},
   "source": [
    "### Neural Network Performance Analysis"
   ]
  },
  {
   "cell_type": "code",
   "execution_count": 7,
   "metadata": {},
   "outputs": [
    {
     "name": "stdout",
     "output_type": "stream",
     "text": [
      "channel 0\t fc : 193.1000 THz\n",
      "  mode #0\t power: 0.00 dBm\n",
      "channel 0\t power: -0.00 dBm\n",
      "\n",
      "total WDM dignal power: -0.00 dBm\n",
      "Demodulating channel #0 , fc: 193.1000 THz, λ: 1552.5244 nm\n",
      "\n",
      "Local oscillator P: 12.00 dBm, lw: 0.00 kHz, FO: 17000.00 MHz\n",
      "CSPR = 12.00 dB\n",
      "12500/12500 [==============================] - 16s 1ms/step\n",
      "\n",
      "\n",
      "nlms - training stage #0\n"
     ]
    },
    {
     "data": {
      "application/vnd.jupyter.widget-view+json": {
       "model_id": "28e8b24af4b54405a62019aa5b538d56",
       "version_major": 2,
       "version_minor": 0
      },
      "text/plain": [
       "  0%|          | 0/5 [00:00<?, ?it/s]"
      ]
     },
     "metadata": {},
     "output_type": "display_data"
    },
    {
     "name": "stdout",
     "output_type": "stream",
     "text": [
      "nlms pre-convergence training iteration #0\n",
      "nlms MSE = 0.022443.\n",
      "nlms pre-convergence training iteration #1\n",
      "nlms MSE = 0.002968.\n",
      "nlms pre-convergence training iteration #2\n",
      "nlms MSE = 0.002542.\n",
      "nlms pre-convergence training iteration #3\n",
      "nlms MSE = 0.002305.\n",
      "nlms pre-convergence training iteration #4\n",
      "nlms MSE = 0.002150.\n",
      "\n",
      "\n",
      "dd-lms - training stage #1\n",
      "dd-lms MSE = 0.001042.\n",
      "Results:\n",
      "\n",
      "SER: 1.89e-04\n",
      "BER: 3.15e-05\n",
      "SNR: 29.58 dB\n",
      "MI: 5.99 bits\n",
      "GMI: 5.99 bits\n",
      "channel 0\t fc : 193.1000 THz\n",
      "  mode #0\t power: 0.00 dBm\n",
      "channel 0\t power: -0.00 dBm\n",
      "\n",
      "total WDM dignal power: -0.00 dBm\n",
      "Demodulating channel #0 , fc: 193.1000 THz, λ: 1552.5244 nm\n",
      "\n",
      "Local oscillator P: 12.00 dBm, lw: 0.00 kHz, FO: 17000.00 MHz\n",
      "CSPR = 12.00 dB\n",
      "12500/12500 [==============================] - 15s 1ms/step\n",
      "\n",
      "\n",
      "nlms - training stage #0\n"
     ]
    },
    {
     "data": {
      "application/vnd.jupyter.widget-view+json": {
       "model_id": "74b38a84b4a340aaaa20923f832d291a",
       "version_major": 2,
       "version_minor": 0
      },
      "text/plain": [
       "  0%|          | 0/5 [00:00<?, ?it/s]"
      ]
     },
     "metadata": {},
     "output_type": "display_data"
    },
    {
     "name": "stdout",
     "output_type": "stream",
     "text": [
      "nlms pre-convergence training iteration #0\n",
      "nlms MSE = 0.020744.\n",
      "nlms pre-convergence training iteration #1\n",
      "nlms MSE = 0.003021.\n",
      "nlms pre-convergence training iteration #2\n",
      "nlms MSE = 0.002514.\n",
      "nlms pre-convergence training iteration #3\n",
      "nlms MSE = 0.002246.\n",
      "nlms pre-convergence training iteration #4\n",
      "nlms MSE = 0.002083.\n",
      "\n",
      "\n",
      "dd-lms - training stage #1\n",
      "dd-lms MSE = 0.001122.\n",
      "Results:\n",
      "\n",
      "SER: 3.33e-05\n",
      "BER: 5.56e-06\n",
      "SNR: 29.39 dB\n",
      "MI: 6.00 bits\n",
      "GMI: 6.00 bits\n",
      "channel 0\t fc : 193.1000 THz\n",
      "  mode #0\t power: 0.00 dBm\n",
      "channel 0\t power: 0.00 dBm\n",
      "\n",
      "total WDM dignal power: 0.00 dBm\n",
      "Demodulating channel #0 , fc: 193.1000 THz, λ: 1552.5244 nm\n",
      "\n",
      "Local oscillator P: 12.00 dBm, lw: 0.00 kHz, FO: 17000.00 MHz\n",
      "CSPR = 12.00 dB\n",
      "12500/12500 [==============================] - 15s 1ms/step\n",
      "\n",
      "\n",
      "nlms - training stage #0\n"
     ]
    },
    {
     "data": {
      "application/vnd.jupyter.widget-view+json": {
       "model_id": "b75bcace7a9240549d862197c912298e",
       "version_major": 2,
       "version_minor": 0
      },
      "text/plain": [
       "  0%|          | 0/5 [00:00<?, ?it/s]"
      ]
     },
     "metadata": {},
     "output_type": "display_data"
    },
    {
     "name": "stdout",
     "output_type": "stream",
     "text": [
      "nlms pre-convergence training iteration #0\n",
      "nlms MSE = 0.021684.\n",
      "nlms pre-convergence training iteration #1\n",
      "nlms MSE = 0.004785.\n",
      "nlms pre-convergence training iteration #2\n",
      "nlms MSE = 0.004262.\n",
      "nlms pre-convergence training iteration #3\n",
      "nlms MSE = 0.003941.\n",
      "nlms pre-convergence training iteration #4\n",
      "nlms MSE = 0.003724.\n",
      "\n",
      "\n",
      "dd-lms - training stage #1\n",
      "dd-lms MSE = 0.002667.\n",
      "Results:\n",
      "\n",
      "SER: 1.39e-03\n",
      "BER: 2.35e-04\n",
      "SNR: 25.67 dB\n",
      "MI: 5.99 bits\n",
      "GMI: 5.99 bits\n",
      "channel 0\t fc : 193.1000 THz\n",
      "  mode #0\t power: 0.00 dBm\n",
      "channel 0\t power: -0.00 dBm\n",
      "\n",
      "total WDM dignal power: -0.00 dBm\n",
      "Demodulating channel #0 , fc: 193.1000 THz, λ: 1552.5244 nm\n",
      "\n",
      "Local oscillator P: 12.00 dBm, lw: 0.00 kHz, FO: 17000.00 MHz\n",
      "CSPR = 12.00 dB\n",
      "12500/12500 [==============================] - 16s 1ms/step\n",
      "\n",
      "\n",
      "nlms - training stage #0\n"
     ]
    },
    {
     "data": {
      "application/vnd.jupyter.widget-view+json": {
       "model_id": "14144d936ceb438bbf7258f9a936eb2b",
       "version_major": 2,
       "version_minor": 0
      },
      "text/plain": [
       "  0%|          | 0/5 [00:00<?, ?it/s]"
      ]
     },
     "metadata": {},
     "output_type": "display_data"
    },
    {
     "name": "stdout",
     "output_type": "stream",
     "text": [
      "nlms pre-convergence training iteration #0\n",
      "nlms MSE = 0.025961.\n",
      "nlms pre-convergence training iteration #1\n",
      "nlms MSE = 0.008405.\n",
      "nlms pre-convergence training iteration #2\n",
      "nlms MSE = 0.007211.\n",
      "nlms pre-convergence training iteration #3\n",
      "nlms MSE = 0.006469.\n",
      "nlms pre-convergence training iteration #4\n",
      "nlms MSE = 0.005960.\n",
      "\n",
      "\n",
      "dd-lms - training stage #1\n",
      "dd-lms MSE = 0.004023.\n",
      "Results:\n",
      "\n",
      "SER: 5.76e-03\n",
      "BER: 9.72e-04\n",
      "SNR: 23.74 dB\n",
      "MI: 5.97 bits\n",
      "GMI: 5.97 bits\n",
      "channel 0\t fc : 193.1000 THz\n",
      "  mode #0\t power: 0.00 dBm\n",
      "channel 0\t power: 0.00 dBm\n",
      "\n",
      "total WDM dignal power: 0.00 dBm\n",
      "Demodulating channel #0 , fc: 193.1000 THz, λ: 1552.5244 nm\n",
      "\n",
      "Local oscillator P: 12.00 dBm, lw: 0.00 kHz, FO: 17000.00 MHz\n",
      "CSPR = 12.00 dB\n",
      "12500/12500 [==============================] - 17s 1ms/step\n",
      "\n",
      "\n",
      "nlms - training stage #0\n"
     ]
    },
    {
     "data": {
      "application/vnd.jupyter.widget-view+json": {
       "model_id": "e175c6d3a90f4b978f635795e4d05c6f",
       "version_major": 2,
       "version_minor": 0
      },
      "text/plain": [
       "  0%|          | 0/5 [00:00<?, ?it/s]"
      ]
     },
     "metadata": {},
     "output_type": "display_data"
    },
    {
     "name": "stdout",
     "output_type": "stream",
     "text": [
      "nlms pre-convergence training iteration #0\n",
      "nlms MSE = 0.031022.\n",
      "nlms pre-convergence training iteration #1\n",
      "nlms MSE = 0.011709.\n",
      "nlms pre-convergence training iteration #2\n",
      "nlms MSE = 0.009458.\n",
      "nlms pre-convergence training iteration #3\n",
      "nlms MSE = 0.008127.\n",
      "nlms pre-convergence training iteration #4\n",
      "nlms MSE = 0.007271.\n",
      "\n",
      "\n",
      "dd-lms - training stage #1\n",
      "dd-lms MSE = 0.004816.\n",
      "Results:\n",
      "\n",
      "SER: 1.09e-02\n",
      "BER: 1.83e-03\n",
      "SNR: 22.87 dB\n",
      "MI: 5.94 bits\n",
      "GMI: 5.95 bits\n",
      "channel 0\t fc : 193.1000 THz\n",
      "  mode #0\t power: 0.00 dBm\n",
      "channel 0\t power: -0.00 dBm\n",
      "\n",
      "total WDM dignal power: -0.00 dBm\n",
      "Demodulating channel #0 , fc: 193.1000 THz, λ: 1552.5244 nm\n",
      "\n",
      "Local oscillator P: 12.00 dBm, lw: 0.00 kHz, FO: 17000.00 MHz\n",
      "CSPR = 12.00 dB\n",
      "12500/12500 [==============================] - 15s 1ms/step\n",
      "\n",
      "\n",
      "nlms - training stage #0\n"
     ]
    },
    {
     "data": {
      "application/vnd.jupyter.widget-view+json": {
       "model_id": "598b2ea74a264768b5f83ff1d022c51a",
       "version_major": 2,
       "version_minor": 0
      },
      "text/plain": [
       "  0%|          | 0/5 [00:00<?, ?it/s]"
      ]
     },
     "metadata": {},
     "output_type": "display_data"
    },
    {
     "name": "stdout",
     "output_type": "stream",
     "text": [
      "nlms pre-convergence training iteration #0\n",
      "nlms MSE = 0.033631.\n",
      "nlms pre-convergence training iteration #1\n",
      "nlms MSE = 0.015775.\n",
      "nlms pre-convergence training iteration #2\n",
      "nlms MSE = 0.013267.\n",
      "nlms pre-convergence training iteration #3\n",
      "nlms MSE = 0.011786.\n",
      "nlms pre-convergence training iteration #4\n",
      "nlms MSE = 0.010856.\n",
      "\n",
      "\n",
      "dd-lms - training stage #1\n",
      "dd-lms MSE = 0.008198.\n",
      "Results:\n",
      "\n",
      "SER: 5.07e-02\n",
      "BER: 8.67e-03\n",
      "SNR: 20.29 dB\n",
      "MI: 5.78 bits\n",
      "GMI: 5.78 bits\n",
      "channel 0\t fc : 193.1000 THz\n",
      "  mode #0\t power: 0.00 dBm\n",
      "channel 0\t power: -0.00 dBm\n",
      "\n",
      "total WDM dignal power: -0.00 dBm\n",
      "Demodulating channel #0 , fc: 193.1000 THz, λ: 1552.5244 nm\n",
      "\n",
      "Local oscillator P: 12.00 dBm, lw: 0.00 kHz, FO: 17000.00 MHz\n",
      "CSPR = 12.00 dB\n",
      "12500/12500 [==============================] - 15s 1ms/step\n",
      "\n",
      "\n",
      "nlms - training stage #0\n"
     ]
    },
    {
     "data": {
      "application/vnd.jupyter.widget-view+json": {
       "model_id": "ac0edeb6ee4a4ea2b57916d1ff76bcb4",
       "version_major": 2,
       "version_minor": 0
      },
      "text/plain": [
       "  0%|          | 0/5 [00:00<?, ?it/s]"
      ]
     },
     "metadata": {},
     "output_type": "display_data"
    },
    {
     "name": "stdout",
     "output_type": "stream",
     "text": [
      "nlms pre-convergence training iteration #0\n",
      "nlms MSE = 0.039731.\n",
      "nlms pre-convergence training iteration #1\n",
      "nlms MSE = 0.016818.\n",
      "nlms pre-convergence training iteration #2\n",
      "nlms MSE = 0.012818.\n",
      "nlms pre-convergence training iteration #3\n",
      "nlms MSE = 0.010853.\n",
      "nlms pre-convergence training iteration #4\n",
      "nlms MSE = 0.009754.\n",
      "\n",
      "\n",
      "dd-lms - training stage #1\n",
      "dd-lms MSE = 0.006886.\n",
      "Results:\n",
      "\n",
      "SER: 3.26e-02\n",
      "BER: 5.54e-03\n",
      "SNR: 21.18 dB\n",
      "MI: 5.85 bits\n",
      "GMI: 5.85 bits\n",
      "channel 0\t fc : 193.1000 THz\n",
      "  mode #0\t power: 0.00 dBm\n",
      "channel 0\t power: -0.00 dBm\n",
      "\n",
      "total WDM dignal power: -0.00 dBm\n",
      "Demodulating channel #0 , fc: 193.1000 THz, λ: 1552.5244 nm\n",
      "\n",
      "Local oscillator P: 12.00 dBm, lw: 0.00 kHz, FO: 17000.00 MHz\n",
      "CSPR = 12.00 dB\n",
      "12500/12500 [==============================] - 16s 1ms/step\n",
      "\n",
      "\n",
      "nlms - training stage #0\n"
     ]
    },
    {
     "data": {
      "application/vnd.jupyter.widget-view+json": {
       "model_id": "033c6526b1fe4f6a9cf9c2d31bb7dc7b",
       "version_major": 2,
       "version_minor": 0
      },
      "text/plain": [
       "  0%|          | 0/5 [00:00<?, ?it/s]"
      ]
     },
     "metadata": {},
     "output_type": "display_data"
    },
    {
     "name": "stdout",
     "output_type": "stream",
     "text": [
      "nlms pre-convergence training iteration #0\n",
      "nlms MSE = 0.046744.\n",
      "nlms pre-convergence training iteration #1\n",
      "nlms MSE = 0.021555.\n",
      "nlms pre-convergence training iteration #2\n",
      "nlms MSE = 0.016571.\n",
      "nlms pre-convergence training iteration #3\n",
      "nlms MSE = 0.014179.\n",
      "nlms pre-convergence training iteration #4\n",
      "nlms MSE = 0.012833.\n",
      "\n",
      "\n",
      "dd-lms - training stage #1\n",
      "dd-lms MSE = 0.008650.\n",
      "Results:\n",
      "\n",
      "SER: 6.47e-02\n",
      "BER: 1.11e-02\n",
      "SNR: 19.91 dB\n",
      "MI: 5.72 bits\n",
      "GMI: 5.72 bits\n",
      "channel 0\t fc : 193.1000 THz\n",
      "  mode #0\t power: 0.00 dBm\n",
      "channel 0\t power: -0.00 dBm\n",
      "\n",
      "total WDM dignal power: -0.00 dBm\n",
      "Demodulating channel #0 , fc: 193.1000 THz, λ: 1552.5244 nm\n",
      "\n",
      "Local oscillator P: 12.00 dBm, lw: 0.00 kHz, FO: 17000.00 MHz\n",
      "CSPR = 12.00 dB\n",
      "12500/12500 [==============================] - 16s 1ms/step\n",
      "\n",
      "\n",
      "nlms - training stage #0\n"
     ]
    },
    {
     "data": {
      "application/vnd.jupyter.widget-view+json": {
       "model_id": "5ee1cf2361314d929217ba40f95b7d12",
       "version_major": 2,
       "version_minor": 0
      },
      "text/plain": [
       "  0%|          | 0/5 [00:00<?, ?it/s]"
      ]
     },
     "metadata": {},
     "output_type": "display_data"
    },
    {
     "name": "stdout",
     "output_type": "stream",
     "text": [
      "nlms pre-convergence training iteration #0\n",
      "nlms MSE = 0.053215.\n",
      "nlms pre-convergence training iteration #1\n",
      "nlms MSE = 0.024986.\n",
      "nlms pre-convergence training iteration #2\n",
      "nlms MSE = 0.019137.\n",
      "nlms pre-convergence training iteration #3\n",
      "nlms MSE = 0.016410.\n",
      "nlms pre-convergence training iteration #4\n",
      "nlms MSE = 0.014861.\n",
      "\n",
      "\n",
      "dd-lms - training stage #1\n",
      "dd-lms MSE = 0.009526.\n",
      "Results:\n",
      "\n",
      "SER: 8.52e-02\n",
      "BER: 1.46e-02\n",
      "SNR: 19.31 dB\n",
      "MI: 5.64 bits\n",
      "GMI: 5.64 bits\n",
      "channel 0\t fc : 193.1000 THz\n",
      "  mode #0\t power: 0.00 dBm\n",
      "channel 0\t power: 0.00 dBm\n",
      "\n",
      "total WDM dignal power: 0.00 dBm\n",
      "Demodulating channel #0 , fc: 193.1000 THz, λ: 1552.5244 nm\n",
      "\n",
      "Local oscillator P: 12.00 dBm, lw: 0.00 kHz, FO: 17000.00 MHz\n",
      "CSPR = 12.00 dB\n",
      "12500/12500 [==============================] - 15s 1ms/step\n",
      "\n",
      "\n",
      "nlms - training stage #0\n"
     ]
    },
    {
     "data": {
      "application/vnd.jupyter.widget-view+json": {
       "model_id": "1c7c48cf70804fd7b6e4b3a1cdbe0beb",
       "version_major": 2,
       "version_minor": 0
      },
      "text/plain": [
       "  0%|          | 0/5 [00:00<?, ?it/s]"
      ]
     },
     "metadata": {},
     "output_type": "display_data"
    },
    {
     "name": "stdout",
     "output_type": "stream",
     "text": [
      "nlms pre-convergence training iteration #0\n",
      "nlms MSE = 0.059260.\n",
      "nlms pre-convergence training iteration #1\n",
      "nlms MSE = 0.033801.\n",
      "nlms pre-convergence training iteration #2\n",
      "nlms MSE = 0.027328.\n",
      "nlms pre-convergence training iteration #3\n",
      "nlms MSE = 0.024147.\n",
      "nlms pre-convergence training iteration #4\n",
      "nlms MSE = 0.022334.\n",
      "\n",
      "\n",
      "dd-lms - training stage #1\n",
      "dd-lms MSE = 0.013464.\n",
      "Results:\n",
      "\n",
      "SER: 2.27e-01\n",
      "BER: 4.07e-02\n",
      "SNR: 16.64 dB\n",
      "MI: 5.08 bits\n",
      "GMI: 5.08 bits\n",
      "channel 0\t fc : 193.1000 THz\n",
      "  mode #0\t power: 0.00 dBm\n",
      "channel 0\t power: 0.00 dBm\n",
      "\n",
      "total WDM dignal power: 0.00 dBm\n",
      "Demodulating channel #0 , fc: 193.1000 THz, λ: 1552.5244 nm\n",
      "\n",
      "Local oscillator P: 12.00 dBm, lw: 0.00 kHz, FO: 18000.00 MHz\n",
      "CSPR = 12.00 dB\n",
      "12500/12500 [==============================] - 16s 1ms/step\n",
      "\n",
      "\n",
      "nlms - training stage #0\n"
     ]
    },
    {
     "data": {
      "application/vnd.jupyter.widget-view+json": {
       "model_id": "ce2edbfd059f45daadf8067a21858e80",
       "version_major": 2,
       "version_minor": 0
      },
      "text/plain": [
       "  0%|          | 0/5 [00:00<?, ?it/s]"
      ]
     },
     "metadata": {},
     "output_type": "display_data"
    },
    {
     "name": "stdout",
     "output_type": "stream",
     "text": [
      "nlms pre-convergence training iteration #0\n",
      "nlms MSE = 0.022297.\n",
      "nlms pre-convergence training iteration #1\n",
      "nlms MSE = 0.002498.\n",
      "nlms pre-convergence training iteration #2\n",
      "nlms MSE = 0.002111.\n",
      "nlms pre-convergence training iteration #3\n",
      "nlms MSE = 0.001888.\n",
      "nlms pre-convergence training iteration #4\n",
      "nlms MSE = 0.001739.\n",
      "\n",
      "\n",
      "dd-lms - training stage #1\n",
      "dd-lms MSE = 0.001177.\n",
      "Results:\n",
      "\n",
      "SER: 3.33e-04\n",
      "BER: 5.56e-05\n",
      "SNR: 29.14 dB\n",
      "MI: 5.99 bits\n",
      "GMI: 5.99 bits\n",
      "channel 0\t fc : 193.1000 THz\n",
      "  mode #0\t power: 0.00 dBm\n",
      "channel 0\t power: 0.00 dBm\n",
      "\n",
      "total WDM dignal power: 0.00 dBm\n",
      "Demodulating channel #0 , fc: 193.1000 THz, λ: 1552.5244 nm\n",
      "\n",
      "Local oscillator P: 12.00 dBm, lw: 0.00 kHz, FO: 18000.00 MHz\n",
      "CSPR = 12.00 dB\n",
      "12500/12500 [==============================] - 16s 1ms/step\n",
      "\n",
      "\n",
      "nlms - training stage #0\n"
     ]
    },
    {
     "data": {
      "application/vnd.jupyter.widget-view+json": {
       "model_id": "cefb2dc97fd14898bd833c00db058cd2",
       "version_major": 2,
       "version_minor": 0
      },
      "text/plain": [
       "  0%|          | 0/5 [00:00<?, ?it/s]"
      ]
     },
     "metadata": {},
     "output_type": "display_data"
    },
    {
     "name": "stdout",
     "output_type": "stream",
     "text": [
      "nlms pre-convergence training iteration #0\n",
      "nlms MSE = 0.019834.\n",
      "nlms pre-convergence training iteration #1\n",
      "nlms MSE = 0.002551.\n",
      "nlms pre-convergence training iteration #2\n",
      "nlms MSE = 0.002063.\n",
      "nlms pre-convergence training iteration #3\n",
      "nlms MSE = 0.001806.\n",
      "nlms pre-convergence training iteration #4\n",
      "nlms MSE = 0.001649.\n",
      "\n",
      "\n",
      "dd-lms - training stage #1\n",
      "dd-lms MSE = 0.000958.\n",
      "Results:\n",
      "\n",
      "SER: 1.22e-04\n",
      "BER: 2.04e-05\n",
      "SNR: 30.00 dB\n",
      "MI: 6.00 bits\n",
      "GMI: 6.00 bits\n",
      "channel 0\t fc : 193.1000 THz\n",
      "  mode #0\t power: 0.00 dBm\n",
      "channel 0\t power: -0.00 dBm\n",
      "\n",
      "total WDM dignal power: -0.00 dBm\n",
      "Demodulating channel #0 , fc: 193.1000 THz, λ: 1552.5244 nm\n",
      "\n",
      "Local oscillator P: 12.00 dBm, lw: 0.00 kHz, FO: 18000.00 MHz\n",
      "CSPR = 12.00 dB\n",
      "12500/12500 [==============================] - 15s 1ms/step\n",
      "\n",
      "\n",
      "nlms - training stage #0\n"
     ]
    },
    {
     "data": {
      "application/vnd.jupyter.widget-view+json": {
       "model_id": "2ed8c26982f64707a3a8f8a3535cf0d9",
       "version_major": 2,
       "version_minor": 0
      },
      "text/plain": [
       "  0%|          | 0/5 [00:00<?, ?it/s]"
      ]
     },
     "metadata": {},
     "output_type": "display_data"
    },
    {
     "name": "stdout",
     "output_type": "stream",
     "text": [
      "nlms pre-convergence training iteration #0\n",
      "nlms MSE = 0.017429.\n",
      "nlms pre-convergence training iteration #1\n",
      "nlms MSE = 0.002374.\n",
      "nlms pre-convergence training iteration #2\n",
      "nlms MSE = 0.002182.\n",
      "nlms pre-convergence training iteration #3\n",
      "nlms MSE = 0.002053.\n",
      "nlms pre-convergence training iteration #4\n",
      "nlms MSE = 0.001962.\n",
      "\n",
      "\n",
      "dd-lms - training stage #1\n",
      "dd-lms MSE = 0.001131.\n",
      "Results:\n",
      "\n",
      "SER: 1.00e-04\n",
      "BER: 1.67e-05\n",
      "SNR: 29.37 dB\n",
      "MI: 6.00 bits\n",
      "GMI: 6.00 bits\n",
      "channel 0\t fc : 193.1000 THz\n",
      "  mode #0\t power: 0.00 dBm\n",
      "channel 0\t power: -0.00 dBm\n",
      "\n",
      "total WDM dignal power: -0.00 dBm\n",
      "Demodulating channel #0 , fc: 193.1000 THz, λ: 1552.5244 nm\n",
      "\n",
      "Local oscillator P: 12.00 dBm, lw: 0.00 kHz, FO: 18000.00 MHz\n",
      "CSPR = 12.00 dB\n",
      "12500/12500 [==============================] - 15s 1ms/step\n",
      "\n",
      "\n",
      "nlms - training stage #0\n"
     ]
    },
    {
     "data": {
      "application/vnd.jupyter.widget-view+json": {
       "model_id": "84e29c2419354fd0a8e5ae81d7c2c316",
       "version_major": 2,
       "version_minor": 0
      },
      "text/plain": [
       "  0%|          | 0/5 [00:00<?, ?it/s]"
      ]
     },
     "metadata": {},
     "output_type": "display_data"
    },
    {
     "name": "stdout",
     "output_type": "stream",
     "text": [
      "nlms pre-convergence training iteration #0\n",
      "nlms MSE = 0.018923.\n",
      "nlms pre-convergence training iteration #1\n",
      "nlms MSE = 0.003773.\n",
      "nlms pre-convergence training iteration #2\n",
      "nlms MSE = 0.003501.\n",
      "nlms pre-convergence training iteration #3\n",
      "nlms MSE = 0.003299.\n",
      "nlms pre-convergence training iteration #4\n",
      "nlms MSE = 0.003141.\n",
      "\n",
      "\n",
      "dd-lms - training stage #1\n",
      "dd-lms MSE = 0.002074.\n",
      "Results:\n",
      "\n",
      "SER: 3.00e-04\n",
      "BER: 5.00e-05\n",
      "SNR: 26.69 dB\n",
      "MI: 6.00 bits\n",
      "GMI: 6.00 bits\n",
      "channel 0\t fc : 193.1000 THz\n",
      "  mode #0\t power: 0.00 dBm\n",
      "channel 0\t power: 0.00 dBm\n",
      "\n",
      "total WDM dignal power: 0.00 dBm\n",
      "Demodulating channel #0 , fc: 193.1000 THz, λ: 1552.5244 nm\n",
      "\n",
      "Local oscillator P: 12.00 dBm, lw: 0.00 kHz, FO: 18000.00 MHz\n",
      "CSPR = 12.00 dB\n",
      "12500/12500 [==============================] - 15s 1ms/step\n",
      "\n",
      "\n",
      "nlms - training stage #0\n"
     ]
    },
    {
     "data": {
      "application/vnd.jupyter.widget-view+json": {
       "model_id": "557e2f6e37934cf784deb9d3b6280b60",
       "version_major": 2,
       "version_minor": 0
      },
      "text/plain": [
       "  0%|          | 0/5 [00:00<?, ?it/s]"
      ]
     },
     "metadata": {},
     "output_type": "display_data"
    },
    {
     "name": "stdout",
     "output_type": "stream",
     "text": [
      "nlms pre-convergence training iteration #0\n",
      "nlms MSE = 0.021610.\n",
      "nlms pre-convergence training iteration #1\n",
      "nlms MSE = 0.006096.\n",
      "nlms pre-convergence training iteration #2\n",
      "nlms MSE = 0.005183.\n",
      "nlms pre-convergence training iteration #3\n",
      "nlms MSE = 0.004575.\n",
      "nlms pre-convergence training iteration #4\n",
      "nlms MSE = 0.004146.\n",
      "\n",
      "\n",
      "dd-lms - training stage #1\n",
      "dd-lms MSE = 0.002566.\n",
      "Results:\n",
      "\n",
      "SER: 1.01e-03\n",
      "BER: 1.70e-04\n",
      "SNR: 25.70 dB\n",
      "MI: 5.99 bits\n",
      "GMI: 5.99 bits\n",
      "channel 0\t fc : 193.1000 THz\n",
      "  mode #0\t power: 0.00 dBm\n",
      "channel 0\t power: -0.00 dBm\n",
      "\n",
      "total WDM dignal power: -0.00 dBm\n",
      "Demodulating channel #0 , fc: 193.1000 THz, λ: 1552.5244 nm\n",
      "\n",
      "Local oscillator P: 12.00 dBm, lw: 0.00 kHz, FO: 18000.00 MHz\n",
      "CSPR = 12.00 dB\n",
      "12500/12500 [==============================] - 15s 1ms/step\n",
      "\n",
      "\n",
      "nlms - training stage #0\n"
     ]
    },
    {
     "data": {
      "application/vnd.jupyter.widget-view+json": {
       "model_id": "76b6229f90444b2d90a69ffc74f204c5",
       "version_major": 2,
       "version_minor": 0
      },
      "text/plain": [
       "  0%|          | 0/5 [00:00<?, ?it/s]"
      ]
     },
     "metadata": {},
     "output_type": "display_data"
    },
    {
     "name": "stdout",
     "output_type": "stream",
     "text": [
      "nlms pre-convergence training iteration #0\n",
      "nlms MSE = 0.024587.\n",
      "nlms pre-convergence training iteration #1\n",
      "nlms MSE = 0.008410.\n",
      "nlms pre-convergence training iteration #2\n",
      "nlms MSE = 0.006739.\n",
      "nlms pre-convergence training iteration #3\n",
      "nlms MSE = 0.005724.\n",
      "nlms pre-convergence training iteration #4\n",
      "nlms MSE = 0.005072.\n",
      "\n",
      "\n",
      "dd-lms - training stage #1\n",
      "dd-lms MSE = 0.003413.\n",
      "Results:\n",
      "\n",
      "SER: 3.01e-03\n",
      "BER: 5.04e-04\n",
      "SNR: 24.47 dB\n",
      "MI: 5.98 bits\n",
      "GMI: 5.98 bits\n",
      "channel 0\t fc : 193.1000 THz\n",
      "  mode #0\t power: 0.00 dBm\n",
      "channel 0\t power: -0.00 dBm\n",
      "\n",
      "total WDM dignal power: -0.00 dBm\n",
      "Demodulating channel #0 , fc: 193.1000 THz, λ: 1552.5244 nm\n",
      "\n",
      "Local oscillator P: 12.00 dBm, lw: 0.00 kHz, FO: 18000.00 MHz\n",
      "CSPR = 12.00 dB\n",
      "12500/12500 [==============================] - 15s 1ms/step\n",
      "\n",
      "\n",
      "nlms - training stage #0\n"
     ]
    },
    {
     "data": {
      "application/vnd.jupyter.widget-view+json": {
       "model_id": "0ae208b9739041b681f90545b2ef3207",
       "version_major": 2,
       "version_minor": 0
      },
      "text/plain": [
       "  0%|          | 0/5 [00:00<?, ?it/s]"
      ]
     },
     "metadata": {},
     "output_type": "display_data"
    },
    {
     "name": "stdout",
     "output_type": "stream",
     "text": [
      "nlms pre-convergence training iteration #0\n",
      "nlms MSE = 0.031226.\n",
      "nlms pre-convergence training iteration #1\n",
      "nlms MSE = 0.012712.\n",
      "nlms pre-convergence training iteration #2\n",
      "nlms MSE = 0.009803.\n",
      "nlms pre-convergence training iteration #3\n",
      "nlms MSE = 0.008237.\n",
      "nlms pre-convergence training iteration #4\n",
      "nlms MSE = 0.007329.\n",
      "\n",
      "\n",
      "dd-lms - training stage #1\n",
      "dd-lms MSE = 0.005161.\n",
      "Results:\n",
      "\n",
      "SER: 1.20e-02\n",
      "BER: 2.01e-03\n",
      "SNR: 22.60 dB\n",
      "MI: 5.94 bits\n",
      "GMI: 5.94 bits\n",
      "channel 0\t fc : 193.1000 THz\n",
      "  mode #0\t power: 0.00 dBm\n",
      "channel 0\t power: 0.00 dBm\n",
      "\n",
      "total WDM dignal power: 0.00 dBm\n",
      "Demodulating channel #0 , fc: 193.1000 THz, λ: 1552.5244 nm\n",
      "\n",
      "Local oscillator P: 12.00 dBm, lw: 0.00 kHz, FO: 18000.00 MHz\n",
      "CSPR = 12.00 dB\n",
      "12500/12500 [==============================] - 16s 1ms/step\n",
      "\n",
      "\n",
      "nlms - training stage #0\n"
     ]
    },
    {
     "data": {
      "application/vnd.jupyter.widget-view+json": {
       "model_id": "e7dfe9633f0e449c8fcabb8feb4921b0",
       "version_major": 2,
       "version_minor": 0
      },
      "text/plain": [
       "  0%|          | 0/5 [00:00<?, ?it/s]"
      ]
     },
     "metadata": {},
     "output_type": "display_data"
    },
    {
     "name": "stdout",
     "output_type": "stream",
     "text": [
      "nlms pre-convergence training iteration #0\n",
      "nlms MSE = 0.036592.\n",
      "nlms pre-convergence training iteration #1\n",
      "nlms MSE = 0.017940.\n",
      "nlms pre-convergence training iteration #2\n",
      "nlms MSE = 0.014543.\n",
      "nlms pre-convergence training iteration #3\n",
      "nlms MSE = 0.012658.\n",
      "nlms pre-convergence training iteration #4\n",
      "nlms MSE = 0.011553.\n",
      "\n",
      "\n",
      "dd-lms - training stage #1\n",
      "dd-lms MSE = 0.008571.\n",
      "Results:\n",
      "\n",
      "SER: 5.68e-02\n",
      "BER: 9.68e-03\n",
      "SNR: 20.05 dB\n",
      "MI: 5.75 bits\n",
      "GMI: 5.75 bits\n",
      "channel 0\t fc : 193.1000 THz\n",
      "  mode #0\t power: 0.00 dBm\n",
      "channel 0\t power: -0.00 dBm\n",
      "\n",
      "total WDM dignal power: -0.00 dBm\n",
      "Demodulating channel #0 , fc: 193.1000 THz, λ: 1552.5244 nm\n",
      "\n",
      "Local oscillator P: 12.00 dBm, lw: 0.00 kHz, FO: 18000.00 MHz\n",
      "CSPR = 12.00 dB\n",
      "12500/12500 [==============================] - 16s 1ms/step\n",
      "\n",
      "\n",
      "nlms - training stage #0\n"
     ]
    },
    {
     "data": {
      "application/vnd.jupyter.widget-view+json": {
       "model_id": "0aded53df0e64284910ae0d56f13b84f",
       "version_major": 2,
       "version_minor": 0
      },
      "text/plain": [
       "  0%|          | 0/5 [00:00<?, ?it/s]"
      ]
     },
     "metadata": {},
     "output_type": "display_data"
    },
    {
     "name": "stdout",
     "output_type": "stream",
     "text": [
      "nlms pre-convergence training iteration #0\n",
      "nlms MSE = 0.041617.\n",
      "nlms pre-convergence training iteration #1\n",
      "nlms MSE = 0.018113.\n",
      "nlms pre-convergence training iteration #2\n",
      "nlms MSE = 0.013406.\n",
      "nlms pre-convergence training iteration #3\n",
      "nlms MSE = 0.011190.\n",
      "nlms pre-convergence training iteration #4\n",
      "nlms MSE = 0.009966.\n",
      "\n",
      "\n",
      "dd-lms - training stage #1\n",
      "dd-lms MSE = 0.006629.\n",
      "Results:\n",
      "\n",
      "SER: 2.81e-02\n",
      "BER: 4.78e-03\n",
      "SNR: 21.36 dB\n",
      "MI: 5.87 bits\n",
      "GMI: 5.87 bits\n",
      "channel 0\t fc : 193.1000 THz\n",
      "  mode #0\t power: 0.00 dBm\n",
      "channel 0\t power: -0.00 dBm\n",
      "\n",
      "total WDM dignal power: -0.00 dBm\n",
      "Demodulating channel #0 , fc: 193.1000 THz, λ: 1552.5244 nm\n",
      "\n",
      "Local oscillator P: 12.00 dBm, lw: 0.00 kHz, FO: 18000.00 MHz\n",
      "CSPR = 12.00 dB\n",
      "12500/12500 [==============================] - 16s 1ms/step\n",
      "\n",
      "\n",
      "nlms - training stage #0\n"
     ]
    },
    {
     "data": {
      "application/vnd.jupyter.widget-view+json": {
       "model_id": "df8ffd18303e4fd2ac05ed0747893729",
       "version_major": 2,
       "version_minor": 0
      },
      "text/plain": [
       "  0%|          | 0/5 [00:00<?, ?it/s]"
      ]
     },
     "metadata": {},
     "output_type": "display_data"
    },
    {
     "name": "stdout",
     "output_type": "stream",
     "text": [
      "nlms pre-convergence training iteration #0\n",
      "nlms MSE = 0.047563.\n",
      "nlms pre-convergence training iteration #1\n",
      "nlms MSE = 0.021024.\n",
      "nlms pre-convergence training iteration #2\n",
      "nlms MSE = 0.015407.\n",
      "nlms pre-convergence training iteration #3\n",
      "nlms MSE = 0.012789.\n",
      "nlms pre-convergence training iteration #4\n",
      "nlms MSE = 0.011322.\n",
      "\n",
      "\n",
      "dd-lms - training stage #1\n",
      "dd-lms MSE = 0.007335.\n",
      "Results:\n",
      "\n",
      "SER: 3.93e-02\n",
      "BER: 6.70e-03\n",
      "SNR: 20.78 dB\n",
      "MI: 5.83 bits\n",
      "GMI: 5.83 bits\n",
      "channel 0\t fc : 193.1000 THz\n",
      "  mode #0\t power: 0.00 dBm\n",
      "channel 0\t power: 0.00 dBm\n",
      "\n",
      "total WDM dignal power: 0.00 dBm\n",
      "Demodulating channel #0 , fc: 193.1000 THz, λ: 1552.5244 nm\n",
      "\n",
      "Local oscillator P: 12.00 dBm, lw: 0.00 kHz, FO: 19000.00 MHz\n",
      "CSPR = 12.00 dB\n",
      "12500/12500 [==============================] - 15s 1ms/step\n",
      "\n",
      "\n",
      "nlms - training stage #0\n"
     ]
    },
    {
     "data": {
      "application/vnd.jupyter.widget-view+json": {
       "model_id": "c77c26ee0fbe4c1e8c5d35df53ca2cd5",
       "version_major": 2,
       "version_minor": 0
      },
      "text/plain": [
       "  0%|          | 0/5 [00:00<?, ?it/s]"
      ]
     },
     "metadata": {},
     "output_type": "display_data"
    },
    {
     "name": "stdout",
     "output_type": "stream",
     "text": [
      "nlms pre-convergence training iteration #0\n",
      "nlms MSE = 0.022196.\n",
      "nlms pre-convergence training iteration #1\n",
      "nlms MSE = 0.002392.\n",
      "nlms pre-convergence training iteration #2\n",
      "nlms MSE = 0.001976.\n",
      "nlms pre-convergence training iteration #3\n",
      "nlms MSE = 0.001736.\n",
      "nlms pre-convergence training iteration #4\n",
      "nlms MSE = 0.001579.\n",
      "\n",
      "\n",
      "dd-lms - training stage #1\n",
      "dd-lms MSE = 0.001153.\n",
      "Results:\n",
      "\n",
      "SER: 2.22e-04\n",
      "BER: 3.70e-05\n",
      "SNR: 29.19 dB\n",
      "MI: 6.00 bits\n",
      "GMI: 6.00 bits\n",
      "channel 0\t fc : 193.1000 THz\n",
      "  mode #0\t power: 0.00 dBm\n",
      "channel 0\t power: 0.00 dBm\n",
      "\n",
      "total WDM dignal power: 0.00 dBm\n",
      "Demodulating channel #0 , fc: 193.1000 THz, λ: 1552.5244 nm\n",
      "\n",
      "Local oscillator P: 12.00 dBm, lw: 0.00 kHz, FO: 19000.00 MHz\n",
      "CSPR = 12.00 dB\n",
      "12500/12500 [==============================] - 15s 1ms/step\n",
      "\n",
      "\n",
      "nlms - training stage #0\n"
     ]
    },
    {
     "data": {
      "application/vnd.jupyter.widget-view+json": {
       "model_id": "8301a7756a394292a4b7686e1bc08029",
       "version_major": 2,
       "version_minor": 0
      },
      "text/plain": [
       "  0%|          | 0/5 [00:00<?, ?it/s]"
      ]
     },
     "metadata": {},
     "output_type": "display_data"
    },
    {
     "name": "stdout",
     "output_type": "stream",
     "text": [
      "nlms pre-convergence training iteration #0\n",
      "nlms MSE = 0.019411.\n",
      "nlms pre-convergence training iteration #1\n",
      "nlms MSE = 0.002448.\n",
      "nlms pre-convergence training iteration #2\n",
      "nlms MSE = 0.001948.\n",
      "nlms pre-convergence training iteration #3\n",
      "nlms MSE = 0.001682.\n",
      "nlms pre-convergence training iteration #4\n",
      "nlms MSE = 0.001520.\n",
      "\n",
      "\n",
      "dd-lms - training stage #1\n",
      "dd-lms MSE = 0.000898.\n",
      "Results:\n",
      "\n",
      "SER: 8.89e-05\n",
      "BER: 1.48e-05\n",
      "SNR: 30.25 dB\n",
      "MI: 6.00 bits\n",
      "GMI: 6.00 bits\n",
      "channel 0\t fc : 193.1000 THz\n",
      "  mode #0\t power: 0.00 dBm\n",
      "channel 0\t power: -0.00 dBm\n",
      "\n",
      "total WDM dignal power: -0.00 dBm\n",
      "Demodulating channel #0 , fc: 193.1000 THz, λ: 1552.5244 nm\n",
      "\n",
      "Local oscillator P: 12.00 dBm, lw: 0.00 kHz, FO: 19000.00 MHz\n",
      "CSPR = 12.00 dB\n",
      "12500/12500 [==============================] - 16s 1ms/step\n",
      "\n",
      "\n",
      "nlms - training stage #0\n"
     ]
    },
    {
     "data": {
      "application/vnd.jupyter.widget-view+json": {
       "model_id": "a1dc30c5abc642bb9d7a0273a1270570",
       "version_major": 2,
       "version_minor": 0
      },
      "text/plain": [
       "  0%|          | 0/5 [00:00<?, ?it/s]"
      ]
     },
     "metadata": {},
     "output_type": "display_data"
    },
    {
     "name": "stdout",
     "output_type": "stream",
     "text": [
      "nlms pre-convergence training iteration #0\n",
      "nlms MSE = 0.017643.\n",
      "nlms pre-convergence training iteration #1\n",
      "nlms MSE = 0.002656.\n",
      "nlms pre-convergence training iteration #2\n",
      "nlms MSE = 0.002485.\n",
      "nlms pre-convergence training iteration #3\n",
      "nlms MSE = 0.002364.\n",
      "nlms pre-convergence training iteration #4\n",
      "nlms MSE = 0.002276.\n",
      "\n",
      "\n",
      "dd-lms - training stage #1\n",
      "dd-lms MSE = 0.001302.\n",
      "Results:\n",
      "\n",
      "SER: 1.56e-04\n",
      "BER: 2.78e-05\n",
      "SNR: 28.74 dB\n",
      "MI: 6.00 bits\n",
      "GMI: 6.00 bits\n",
      "channel 0\t fc : 193.1000 THz\n",
      "  mode #0\t power: 0.00 dBm\n",
      "channel 0\t power: 0.00 dBm\n",
      "\n",
      "total WDM dignal power: 0.00 dBm\n",
      "Demodulating channel #0 , fc: 193.1000 THz, λ: 1552.5244 nm\n",
      "\n",
      "Local oscillator P: 12.00 dBm, lw: 0.00 kHz, FO: 19000.00 MHz\n",
      "CSPR = 12.00 dB\n",
      "12500/12500 [==============================] - 16s 1ms/step\n",
      "\n",
      "\n",
      "nlms - training stage #0\n"
     ]
    },
    {
     "data": {
      "application/vnd.jupyter.widget-view+json": {
       "model_id": "62ce3898f6484e8591117f67d84c0840",
       "version_major": 2,
       "version_minor": 0
      },
      "text/plain": [
       "  0%|          | 0/5 [00:00<?, ?it/s]"
      ]
     },
     "metadata": {},
     "output_type": "display_data"
    },
    {
     "name": "stdout",
     "output_type": "stream",
     "text": [
      "nlms pre-convergence training iteration #0\n",
      "nlms MSE = 0.017362.\n",
      "nlms pre-convergence training iteration #1\n",
      "nlms MSE = 0.002782.\n",
      "nlms pre-convergence training iteration #2\n",
      "nlms MSE = 0.002738.\n",
      "nlms pre-convergence training iteration #3\n",
      "nlms MSE = 0.002699.\n",
      "nlms pre-convergence training iteration #4\n",
      "nlms MSE = 0.002664.\n",
      "\n",
      "\n",
      "dd-lms - training stage #1\n",
      "dd-lms MSE = 0.001563.\n",
      "Results:\n",
      "\n",
      "SER: 2.78e-04\n",
      "BER: 4.63e-05\n",
      "SNR: 27.99 dB\n",
      "MI: 6.00 bits\n",
      "GMI: 6.00 bits\n",
      "channel 0\t fc : 193.1000 THz\n",
      "  mode #0\t power: 0.00 dBm\n",
      "channel 0\t power: 0.00 dBm\n",
      "\n",
      "total WDM dignal power: 0.00 dBm\n",
      "Demodulating channel #0 , fc: 193.1000 THz, λ: 1552.5244 nm\n",
      "\n",
      "Local oscillator P: 12.00 dBm, lw: 0.00 kHz, FO: 19000.00 MHz\n",
      "CSPR = 12.00 dB\n",
      "12500/12500 [==============================] - 15s 1ms/step\n",
      "\n",
      "\n",
      "nlms - training stage #0\n"
     ]
    },
    {
     "data": {
      "application/vnd.jupyter.widget-view+json": {
       "model_id": "3b8a18f0253d493fbf2ed008dc92e292",
       "version_major": 2,
       "version_minor": 0
      },
      "text/plain": [
       "  0%|          | 0/5 [00:00<?, ?it/s]"
      ]
     },
     "metadata": {},
     "output_type": "display_data"
    },
    {
     "name": "stdout",
     "output_type": "stream",
     "text": [
      "nlms pre-convergence training iteration #0\n",
      "nlms MSE = 0.016859.\n",
      "nlms pre-convergence training iteration #1\n",
      "nlms MSE = 0.003495.\n",
      "nlms pre-convergence training iteration #2\n",
      "nlms MSE = 0.003271.\n",
      "nlms pre-convergence training iteration #3\n",
      "nlms MSE = 0.003093.\n",
      "nlms pre-convergence training iteration #4\n",
      "nlms MSE = 0.002948.\n",
      "\n",
      "\n",
      "dd-lms - training stage #1\n",
      "dd-lms MSE = 0.001704.\n",
      "Results:\n",
      "\n",
      "SER: 1.56e-04\n",
      "BER: 2.59e-05\n",
      "SNR: 27.43 dB\n",
      "MI: 6.00 bits\n",
      "GMI: 6.00 bits\n",
      "channel 0\t fc : 193.1000 THz\n",
      "  mode #0\t power: 0.00 dBm\n",
      "channel 0\t power: -0.00 dBm\n",
      "\n",
      "total WDM dignal power: -0.00 dBm\n",
      "Demodulating channel #0 , fc: 193.1000 THz, λ: 1552.5244 nm\n",
      "\n",
      "Local oscillator P: 12.00 dBm, lw: 0.00 kHz, FO: 19000.00 MHz\n",
      "CSPR = 12.00 dB\n",
      "12500/12500 [==============================] - 15s 1ms/step\n",
      "\n",
      "\n",
      "nlms - training stage #0\n"
     ]
    },
    {
     "data": {
      "application/vnd.jupyter.widget-view+json": {
       "model_id": "957733d6d8a348508cf41f812f1897ff",
       "version_major": 2,
       "version_minor": 0
      },
      "text/plain": [
       "  0%|          | 0/5 [00:00<?, ?it/s]"
      ]
     },
     "metadata": {},
     "output_type": "display_data"
    },
    {
     "name": "stdout",
     "output_type": "stream",
     "text": [
      "nlms pre-convergence training iteration #0\n",
      "nlms MSE = 0.018786.\n",
      "nlms pre-convergence training iteration #1\n",
      "nlms MSE = 0.005433.\n",
      "nlms pre-convergence training iteration #2\n",
      "nlms MSE = 0.004583.\n",
      "nlms pre-convergence training iteration #3\n",
      "nlms MSE = 0.003997.\n",
      "nlms pre-convergence training iteration #4\n",
      "nlms MSE = 0.003579.\n",
      "\n",
      "\n",
      "dd-lms - training stage #1\n",
      "dd-lms MSE = 0.002227.\n",
      "Results:\n",
      "\n",
      "SER: 4.89e-04\n",
      "BER: 8.15e-05\n",
      "SNR: 26.24 dB\n",
      "MI: 6.00 bits\n",
      "GMI: 6.00 bits\n",
      "channel 0\t fc : 193.1000 THz\n",
      "  mode #0\t power: 0.00 dBm\n",
      "channel 0\t power: 0.00 dBm\n",
      "\n",
      "total WDM dignal power: 0.00 dBm\n",
      "Demodulating channel #0 , fc: 193.1000 THz, λ: 1552.5244 nm\n",
      "\n",
      "Local oscillator P: 12.00 dBm, lw: 0.00 kHz, FO: 19000.00 MHz\n",
      "CSPR = 12.00 dB\n",
      "12500/12500 [==============================] - 16s 1ms/step\n",
      "\n",
      "\n",
      "nlms - training stage #0\n"
     ]
    },
    {
     "data": {
      "application/vnd.jupyter.widget-view+json": {
       "model_id": "60372a2d765c42378a0f17cc1b1c7c7e",
       "version_major": 2,
       "version_minor": 0
      },
      "text/plain": [
       "  0%|          | 0/5 [00:00<?, ?it/s]"
      ]
     },
     "metadata": {},
     "output_type": "display_data"
    },
    {
     "name": "stdout",
     "output_type": "stream",
     "text": [
      "nlms pre-convergence training iteration #0\n",
      "nlms MSE = 0.023492.\n",
      "nlms pre-convergence training iteration #1\n",
      "nlms MSE = 0.008394.\n",
      "nlms pre-convergence training iteration #2\n",
      "nlms MSE = 0.006712.\n",
      "nlms pre-convergence training iteration #3\n",
      "nlms MSE = 0.005678.\n",
      "nlms pre-convergence training iteration #4\n",
      "nlms MSE = 0.005017.\n",
      "\n",
      "\n",
      "dd-lms - training stage #1\n",
      "dd-lms MSE = 0.003342.\n",
      "Results:\n",
      "\n",
      "SER: 2.72e-03\n",
      "BER: 4.56e-04\n",
      "SNR: 24.53 dB\n",
      "MI: 5.98 bits\n",
      "GMI: 5.98 bits\n",
      "channel 0\t fc : 193.1000 THz\n",
      "  mode #0\t power: 0.00 dBm\n",
      "channel 0\t power: 0.00 dBm\n",
      "\n",
      "total WDM dignal power: 0.00 dBm\n",
      "Demodulating channel #0 , fc: 193.1000 THz, λ: 1552.5244 nm\n",
      "\n",
      "Local oscillator P: 12.00 dBm, lw: 0.00 kHz, FO: 19000.00 MHz\n",
      "CSPR = 12.00 dB\n",
      "12500/12500 [==============================] - 16s 1ms/step\n",
      "\n",
      "\n",
      "nlms - training stage #0\n"
     ]
    },
    {
     "data": {
      "application/vnd.jupyter.widget-view+json": {
       "model_id": "b6f07ae9f7cb4ba7b3f97a888e7415bb",
       "version_major": 2,
       "version_minor": 0
      },
      "text/plain": [
       "  0%|          | 0/5 [00:00<?, ?it/s]"
      ]
     },
     "metadata": {},
     "output_type": "display_data"
    },
    {
     "name": "stdout",
     "output_type": "stream",
     "text": [
      "nlms pre-convergence training iteration #0\n",
      "nlms MSE = 0.027699.\n",
      "nlms pre-convergence training iteration #1\n",
      "nlms MSE = 0.010785.\n",
      "nlms pre-convergence training iteration #2\n",
      "nlms MSE = 0.008184.\n",
      "nlms pre-convergence training iteration #3\n",
      "nlms MSE = 0.006762.\n",
      "nlms pre-convergence training iteration #4\n",
      "nlms MSE = 0.005942.\n",
      "\n",
      "\n",
      "dd-lms - training stage #1\n",
      "dd-lms MSE = 0.004121.\n",
      "Results:\n",
      "\n",
      "SER: 5.22e-03\n",
      "BER: 8.76e-04\n",
      "SNR: 23.64 dB\n",
      "MI: 5.97 bits\n",
      "GMI: 5.97 bits\n",
      "channel 0\t fc : 193.1000 THz\n",
      "  mode #0\t power: 0.00 dBm\n",
      "channel 0\t power: -0.00 dBm\n",
      "\n",
      "total WDM dignal power: -0.00 dBm\n",
      "Demodulating channel #0 , fc: 193.1000 THz, λ: 1552.5244 nm\n",
      "\n",
      "Local oscillator P: 12.00 dBm, lw: 0.00 kHz, FO: 19000.00 MHz\n",
      "CSPR = 12.00 dB\n",
      "12500/12500 [==============================] - 15s 1ms/step\n",
      "\n",
      "\n",
      "nlms - training stage #0\n"
     ]
    },
    {
     "data": {
      "application/vnd.jupyter.widget-view+json": {
       "model_id": "83aa08fbe43a4db6bb0040ea52247544",
       "version_major": 2,
       "version_minor": 0
      },
      "text/plain": [
       "  0%|          | 0/5 [00:00<?, ?it/s]"
      ]
     },
     "metadata": {},
     "output_type": "display_data"
    },
    {
     "name": "stdout",
     "output_type": "stream",
     "text": [
      "nlms pre-convergence training iteration #0\n",
      "nlms MSE = 0.032606.\n",
      "nlms pre-convergence training iteration #1\n",
      "nlms MSE = 0.017574.\n",
      "nlms pre-convergence training iteration #2\n",
      "nlms MSE = 0.015055.\n",
      "nlms pre-convergence training iteration #3\n",
      "nlms MSE = 0.013540.\n",
      "nlms pre-convergence training iteration #4\n",
      "nlms MSE = 0.012589.\n",
      "\n",
      "\n",
      "dd-lms - training stage #1\n",
      "dd-lms MSE = 0.009068.\n",
      "Results:\n",
      "\n",
      "SER: 7.52e-02\n",
      "BER: 1.30e-02\n",
      "SNR: 19.60 dB\n",
      "MI: 5.67 bits\n",
      "GMI: 5.67 bits\n",
      "channel 0\t fc : 193.1000 THz\n",
      "  mode #0\t power: 0.00 dBm\n",
      "channel 0\t power: -0.00 dBm\n",
      "\n",
      "total WDM dignal power: -0.00 dBm\n",
      "Demodulating channel #0 , fc: 193.1000 THz, λ: 1552.5244 nm\n",
      "\n",
      "Local oscillator P: 12.00 dBm, lw: 0.00 kHz, FO: 19000.00 MHz\n",
      "CSPR = 12.00 dB\n",
      "12500/12500 [==============================] - 15s 1ms/step\n",
      "\n",
      "\n",
      "nlms - training stage #0\n"
     ]
    },
    {
     "data": {
      "application/vnd.jupyter.widget-view+json": {
       "model_id": "cb850be5a7fb4ec5b61af6ff784f3d16",
       "version_major": 2,
       "version_minor": 0
      },
      "text/plain": [
       "  0%|          | 0/5 [00:00<?, ?it/s]"
      ]
     },
     "metadata": {},
     "output_type": "display_data"
    },
    {
     "name": "stdout",
     "output_type": "stream",
     "text": [
      "nlms pre-convergence training iteration #0\n",
      "nlms MSE = 0.036503.\n",
      "nlms pre-convergence training iteration #1\n",
      "nlms MSE = 0.016606.\n",
      "nlms pre-convergence training iteration #2\n",
      "nlms MSE = 0.012434.\n",
      "nlms pre-convergence training iteration #3\n",
      "nlms MSE = 0.010354.\n",
      "nlms pre-convergence training iteration #4\n",
      "nlms MSE = 0.009184.\n",
      "\n",
      "\n",
      "dd-lms - training stage #1\n",
      "dd-lms MSE = 0.006148.\n",
      "Results:\n",
      "\n",
      "SER: 2.25e-02\n",
      "BER: 3.80e-03\n",
      "SNR: 21.74 dB\n",
      "MI: 5.91 bits\n",
      "GMI: 5.90 bits\n",
      "channel 0\t fc : 193.1000 THz\n",
      "  mode #0\t power: 0.00 dBm\n",
      "channel 0\t power: 0.00 dBm\n",
      "\n",
      "total WDM dignal power: 0.00 dBm\n",
      "Demodulating channel #0 , fc: 193.1000 THz, λ: 1552.5244 nm\n",
      "\n",
      "Local oscillator P: 12.00 dBm, lw: 0.00 kHz, FO: 20000.00 MHz\n",
      "CSPR = 12.00 dB\n",
      "12500/12500 [==============================] - 15s 1ms/step\n",
      "\n",
      "\n",
      "nlms - training stage #0\n"
     ]
    },
    {
     "data": {
      "application/vnd.jupyter.widget-view+json": {
       "model_id": "56044588ed7e447ca56999445efc0a99",
       "version_major": 2,
       "version_minor": 0
      },
      "text/plain": [
       "  0%|          | 0/5 [00:00<?, ?it/s]"
      ]
     },
     "metadata": {},
     "output_type": "display_data"
    },
    {
     "name": "stdout",
     "output_type": "stream",
     "text": [
      "nlms pre-convergence training iteration #0\n",
      "nlms MSE = 0.021805.\n",
      "nlms pre-convergence training iteration #1\n",
      "nlms MSE = 0.002203.\n",
      "nlms pre-convergence training iteration #2\n",
      "nlms MSE = 0.001797.\n",
      "nlms pre-convergence training iteration #3\n",
      "nlms MSE = 0.001565.\n",
      "nlms pre-convergence training iteration #4\n",
      "nlms MSE = 0.001411.\n",
      "\n",
      "\n",
      "dd-lms - training stage #1\n",
      "dd-lms MSE = 0.000953.\n",
      "Results:\n",
      "\n",
      "SER: 3.89e-04\n",
      "BER: 6.67e-05\n",
      "SNR: 29.91 dB\n",
      "MI: 5.99 bits\n",
      "GMI: 5.99 bits\n",
      "channel 0\t fc : 193.1000 THz\n",
      "  mode #0\t power: 0.00 dBm\n",
      "channel 0\t power: 0.00 dBm\n",
      "\n",
      "total WDM dignal power: 0.00 dBm\n",
      "Demodulating channel #0 , fc: 193.1000 THz, λ: 1552.5244 nm\n",
      "\n",
      "Local oscillator P: 12.00 dBm, lw: 0.00 kHz, FO: 20000.00 MHz\n",
      "CSPR = 12.00 dB\n",
      "12500/12500 [==============================] - 16s 1ms/step\n",
      "\n",
      "\n",
      "nlms - training stage #0\n"
     ]
    },
    {
     "data": {
      "application/vnd.jupyter.widget-view+json": {
       "model_id": "22163c96d5c54724b99f97f201f9af6e",
       "version_major": 2,
       "version_minor": 0
      },
      "text/plain": [
       "  0%|          | 0/5 [00:00<?, ?it/s]"
      ]
     },
     "metadata": {},
     "output_type": "display_data"
    },
    {
     "name": "stdout",
     "output_type": "stream",
     "text": [
      "nlms pre-convergence training iteration #0\n",
      "nlms MSE = 0.020212.\n",
      "nlms pre-convergence training iteration #1\n",
      "nlms MSE = 0.002311.\n",
      "nlms pre-convergence training iteration #2\n",
      "nlms MSE = 0.001847.\n",
      "nlms pre-convergence training iteration #3\n",
      "nlms MSE = 0.001599.\n",
      "nlms pre-convergence training iteration #4\n",
      "nlms MSE = 0.001446.\n",
      "\n",
      "\n",
      "dd-lms - training stage #1\n",
      "dd-lms MSE = 0.000903.\n",
      "Results:\n",
      "\n",
      "SER: 1.00e-04\n",
      "BER: 1.85e-05\n",
      "SNR: 30.24 dB\n",
      "MI: 6.00 bits\n",
      "GMI: 6.00 bits\n",
      "channel 0\t fc : 193.1000 THz\n",
      "  mode #0\t power: 0.00 dBm\n",
      "channel 0\t power: -0.00 dBm\n",
      "\n",
      "total WDM dignal power: -0.00 dBm\n",
      "Demodulating channel #0 , fc: 193.1000 THz, λ: 1552.5244 nm\n",
      "\n",
      "Local oscillator P: 12.00 dBm, lw: 0.00 kHz, FO: 20000.00 MHz\n",
      "CSPR = 12.00 dB\n",
      "12500/12500 [==============================] - 16s 1ms/step\n",
      "\n",
      "\n",
      "nlms - training stage #0\n"
     ]
    },
    {
     "data": {
      "application/vnd.jupyter.widget-view+json": {
       "model_id": "a2925f0ee9b14946b0f27762a0d4a7e8",
       "version_major": 2,
       "version_minor": 0
      },
      "text/plain": [
       "  0%|          | 0/5 [00:00<?, ?it/s]"
      ]
     },
     "metadata": {},
     "output_type": "display_data"
    },
    {
     "name": "stdout",
     "output_type": "stream",
     "text": [
      "nlms pre-convergence training iteration #0\n",
      "nlms MSE = 0.016844.\n",
      "nlms pre-convergence training iteration #1\n",
      "nlms MSE = 0.001817.\n",
      "nlms pre-convergence training iteration #2\n",
      "nlms MSE = 0.001658.\n",
      "nlms pre-convergence training iteration #3\n",
      "nlms MSE = 0.001545.\n",
      "nlms pre-convergence training iteration #4\n",
      "nlms MSE = 0.001463.\n",
      "\n",
      "\n",
      "dd-lms - training stage #1\n",
      "dd-lms MSE = 0.001013.\n",
      "Results:\n",
      "\n",
      "SER: 1.33e-04\n",
      "BER: 2.22e-05\n",
      "SNR: 29.79 dB\n",
      "MI: 6.00 bits\n",
      "GMI: 6.00 bits\n",
      "channel 0\t fc : 193.1000 THz\n",
      "  mode #0\t power: 0.00 dBm\n",
      "channel 0\t power: 0.00 dBm\n",
      "\n",
      "total WDM dignal power: 0.00 dBm\n",
      "Demodulating channel #0 , fc: 193.1000 THz, λ: 1552.5244 nm\n",
      "\n",
      "Local oscillator P: 12.00 dBm, lw: 0.00 kHz, FO: 20000.00 MHz\n",
      "CSPR = 12.00 dB\n",
      "12500/12500 [==============================] - 15s 1ms/step\n",
      "\n",
      "\n",
      "nlms - training stage #0\n"
     ]
    },
    {
     "data": {
      "application/vnd.jupyter.widget-view+json": {
       "model_id": "52218c5b8f9b46bc8cd0d6d2dc5e6361",
       "version_major": 2,
       "version_minor": 0
      },
      "text/plain": [
       "  0%|          | 0/5 [00:00<?, ?it/s]"
      ]
     },
     "metadata": {},
     "output_type": "display_data"
    },
    {
     "name": "stdout",
     "output_type": "stream",
     "text": [
      "nlms pre-convergence training iteration #0\n",
      "nlms MSE = 0.015439.\n",
      "nlms pre-convergence training iteration #1\n",
      "nlms MSE = 0.001784.\n",
      "nlms pre-convergence training iteration #2\n",
      "nlms MSE = 0.001760.\n",
      "nlms pre-convergence training iteration #3\n",
      "nlms MSE = 0.001739.\n",
      "nlms pre-convergence training iteration #4\n",
      "nlms MSE = 0.001721.\n",
      "\n",
      "\n",
      "dd-lms - training stage #1\n",
      "dd-lms MSE = 0.000879.\n",
      "Results:\n",
      "\n",
      "SER: 4.44e-05\n",
      "BER: 7.41e-06\n",
      "SNR: 30.51 dB\n",
      "MI: 6.00 bits\n",
      "GMI: 6.00 bits\n",
      "channel 0\t fc : 193.1000 THz\n",
      "  mode #0\t power: 0.00 dBm\n",
      "channel 0\t power: 0.00 dBm\n",
      "\n",
      "total WDM dignal power: 0.00 dBm\n",
      "Demodulating channel #0 , fc: 193.1000 THz, λ: 1552.5244 nm\n",
      "\n",
      "Local oscillator P: 12.00 dBm, lw: 0.00 kHz, FO: 20000.00 MHz\n",
      "CSPR = 12.00 dB\n",
      "12500/12500 [==============================] - 15s 1ms/step\n",
      "\n",
      "\n",
      "nlms - training stage #0\n"
     ]
    },
    {
     "data": {
      "application/vnd.jupyter.widget-view+json": {
       "model_id": "61ddc58971de40ca86515c475a86bb86",
       "version_major": 2,
       "version_minor": 0
      },
      "text/plain": [
       "  0%|          | 0/5 [00:00<?, ?it/s]"
      ]
     },
     "metadata": {},
     "output_type": "display_data"
    },
    {
     "name": "stdout",
     "output_type": "stream",
     "text": [
      "nlms pre-convergence training iteration #0\n",
      "nlms MSE = 0.015252.\n",
      "nlms pre-convergence training iteration #1\n",
      "nlms MSE = 0.002306.\n",
      "nlms pre-convergence training iteration #2\n",
      "nlms MSE = 0.002274.\n",
      "nlms pre-convergence training iteration #3\n",
      "nlms MSE = 0.002246.\n",
      "nlms pre-convergence training iteration #4\n",
      "nlms MSE = 0.002221.\n",
      "\n",
      "\n",
      "dd-lms - training stage #1\n",
      "dd-lms MSE = 0.001500.\n",
      "Results:\n",
      "\n",
      "SER: 2.11e-04\n",
      "BER: 3.52e-05\n",
      "SNR: 28.16 dB\n",
      "MI: 6.00 bits\n",
      "GMI: 6.00 bits\n",
      "channel 0\t fc : 193.1000 THz\n",
      "  mode #0\t power: 0.00 dBm\n",
      "channel 0\t power: -0.00 dBm\n",
      "\n",
      "total WDM dignal power: -0.00 dBm\n",
      "Demodulating channel #0 , fc: 193.1000 THz, λ: 1552.5244 nm\n",
      "\n",
      "Local oscillator P: 12.00 dBm, lw: 0.00 kHz, FO: 20000.00 MHz\n",
      "CSPR = 12.00 dB\n",
      "12500/12500 [==============================] - 16s 1ms/step\n",
      "\n",
      "\n",
      "nlms - training stage #0\n"
     ]
    },
    {
     "data": {
      "application/vnd.jupyter.widget-view+json": {
       "model_id": "12706d52d22c4a46855edef5e11c8652",
       "version_major": 2,
       "version_minor": 0
      },
      "text/plain": [
       "  0%|          | 0/5 [00:00<?, ?it/s]"
      ]
     },
     "metadata": {},
     "output_type": "display_data"
    },
    {
     "name": "stdout",
     "output_type": "stream",
     "text": [
      "nlms pre-convergence training iteration #0\n",
      "nlms MSE = 0.016988.\n",
      "nlms pre-convergence training iteration #1\n",
      "nlms MSE = 0.003997.\n",
      "nlms pre-convergence training iteration #2\n",
      "nlms MSE = 0.003713.\n",
      "nlms pre-convergence training iteration #3\n",
      "nlms MSE = 0.003485.\n",
      "nlms pre-convergence training iteration #4\n",
      "nlms MSE = 0.003298.\n",
      "\n",
      "\n",
      "dd-lms - training stage #1\n",
      "dd-lms MSE = 0.001962.\n",
      "Results:\n",
      "\n",
      "SER: 4.11e-04\n",
      "BER: 6.85e-05\n",
      "SNR: 26.81 dB\n",
      "MI: 6.00 bits\n",
      "GMI: 6.00 bits\n",
      "channel 0\t fc : 193.1000 THz\n",
      "  mode #0\t power: 0.00 dBm\n",
      "channel 0\t power: 0.00 dBm\n",
      "\n",
      "total WDM dignal power: 0.00 dBm\n",
      "Demodulating channel #0 , fc: 193.1000 THz, λ: 1552.5244 nm\n",
      "\n",
      "Local oscillator P: 12.00 dBm, lw: 0.00 kHz, FO: 20000.00 MHz\n",
      "CSPR = 12.00 dB\n",
      "12500/12500 [==============================] - 16s 1ms/step\n",
      "\n",
      "\n",
      "nlms - training stage #0\n"
     ]
    },
    {
     "data": {
      "application/vnd.jupyter.widget-view+json": {
       "model_id": "79fe365451114e1fa3db37f5a6ffa42b",
       "version_major": 2,
       "version_minor": 0
      },
      "text/plain": [
       "  0%|          | 0/5 [00:00<?, ?it/s]"
      ]
     },
     "metadata": {},
     "output_type": "display_data"
    },
    {
     "name": "stdout",
     "output_type": "stream",
     "text": [
      "nlms pre-convergence training iteration #0\n",
      "nlms MSE = 0.018510.\n",
      "nlms pre-convergence training iteration #1\n",
      "nlms MSE = 0.005497.\n",
      "nlms pre-convergence training iteration #2\n",
      "nlms MSE = 0.004732.\n",
      "nlms pre-convergence training iteration #3\n",
      "nlms MSE = 0.004187.\n",
      "nlms pre-convergence training iteration #4\n",
      "nlms MSE = 0.003789.\n",
      "\n",
      "\n",
      "dd-lms - training stage #1\n",
      "dd-lms MSE = 0.002347.\n",
      "Results:\n",
      "\n",
      "SER: 7.89e-04\n",
      "BER: 1.31e-04\n",
      "SNR: 26.01 dB\n",
      "MI: 5.99 bits\n",
      "GMI: 5.99 bits\n",
      "channel 0\t fc : 193.1000 THz\n",
      "  mode #0\t power: 0.00 dBm\n",
      "channel 0\t power: -0.00 dBm\n",
      "\n",
      "total WDM dignal power: -0.00 dBm\n",
      "Demodulating channel #0 , fc: 193.1000 THz, λ: 1552.5244 nm\n",
      "\n",
      "Local oscillator P: 12.00 dBm, lw: 0.00 kHz, FO: 20000.00 MHz\n",
      "CSPR = 12.00 dB\n",
      "12500/12500 [==============================] - 16s 1ms/step\n",
      "\n",
      "\n",
      "nlms - training stage #0\n"
     ]
    },
    {
     "data": {
      "application/vnd.jupyter.widget-view+json": {
       "model_id": "6768008345ed4c0dab8b26f8fa03a6a1",
       "version_major": 2,
       "version_minor": 0
      },
      "text/plain": [
       "  0%|          | 0/5 [00:00<?, ?it/s]"
      ]
     },
     "metadata": {},
     "output_type": "display_data"
    },
    {
     "name": "stdout",
     "output_type": "stream",
     "text": [
      "nlms pre-convergence training iteration #0\n",
      "nlms MSE = 0.020315.\n",
      "nlms pre-convergence training iteration #1\n",
      "nlms MSE = 0.007209.\n",
      "nlms pre-convergence training iteration #2\n",
      "nlms MSE = 0.005790.\n",
      "nlms pre-convergence training iteration #3\n",
      "nlms MSE = 0.004897.\n",
      "nlms pre-convergence training iteration #4\n",
      "nlms MSE = 0.004318.\n",
      "\n",
      "\n",
      "dd-lms - training stage #1\n",
      "dd-lms MSE = 0.002804.\n",
      "Results:\n",
      "\n",
      "SER: 1.21e-03\n",
      "BER: 2.06e-04\n",
      "SNR: 25.29 dB\n",
      "MI: 5.99 bits\n",
      "GMI: 5.99 bits\n",
      "channel 0\t fc : 193.1000 THz\n",
      "  mode #0\t power: 0.00 dBm\n",
      "channel 0\t power: -0.00 dBm\n",
      "\n",
      "total WDM dignal power: -0.00 dBm\n",
      "Demodulating channel #0 , fc: 193.1000 THz, λ: 1552.5244 nm\n",
      "\n",
      "Local oscillator P: 12.00 dBm, lw: 0.00 kHz, FO: 20000.00 MHz\n",
      "CSPR = 12.00 dB\n",
      "12500/12500 [==============================] - 15s 1ms/step\n",
      "\n",
      "\n",
      "nlms - training stage #0\n"
     ]
    },
    {
     "data": {
      "application/vnd.jupyter.widget-view+json": {
       "model_id": "92a56f3abe634db4b5bce07929835754",
       "version_major": 2,
       "version_minor": 0
      },
      "text/plain": [
       "  0%|          | 0/5 [00:00<?, ?it/s]"
      ]
     },
     "metadata": {},
     "output_type": "display_data"
    },
    {
     "name": "stdout",
     "output_type": "stream",
     "text": [
      "nlms pre-convergence training iteration #0\n",
      "nlms MSE = 0.024725.\n",
      "nlms pre-convergence training iteration #1\n",
      "nlms MSE = 0.010039.\n",
      "nlms pre-convergence training iteration #2\n",
      "nlms MSE = 0.007775.\n",
      "nlms pre-convergence training iteration #3\n",
      "nlms MSE = 0.006480.\n",
      "nlms pre-convergence training iteration #4\n",
      "nlms MSE = 0.005707.\n",
      "\n",
      "\n",
      "dd-lms - training stage #1\n",
      "dd-lms MSE = 0.003988.\n",
      "Results:\n",
      "\n",
      "SER: 5.26e-03\n",
      "BER: 8.78e-04\n",
      "SNR: 23.76 dB\n",
      "MI: 5.97 bits\n",
      "GMI: 5.97 bits\n",
      "channel 0\t fc : 193.1000 THz\n",
      "  mode #0\t power: 0.00 dBm\n",
      "channel 0\t power: 0.00 dBm\n",
      "\n",
      "total WDM dignal power: 0.00 dBm\n",
      "Demodulating channel #0 , fc: 193.1000 THz, λ: 1552.5244 nm\n",
      "\n",
      "Local oscillator P: 12.00 dBm, lw: 0.00 kHz, FO: 20000.00 MHz\n",
      "CSPR = 12.00 dB\n",
      "12500/12500 [==============================] - 16s 1ms/step\n",
      "\n",
      "\n",
      "nlms - training stage #0\n"
     ]
    },
    {
     "data": {
      "application/vnd.jupyter.widget-view+json": {
       "model_id": "a2d49470d79a4fa6b12bbe7465a32188",
       "version_major": 2,
       "version_minor": 0
      },
      "text/plain": [
       "  0%|          | 0/5 [00:00<?, ?it/s]"
      ]
     },
     "metadata": {},
     "output_type": "display_data"
    },
    {
     "name": "stdout",
     "output_type": "stream",
     "text": [
      "nlms pre-convergence training iteration #0\n",
      "nlms MSE = 0.029314.\n",
      "nlms pre-convergence training iteration #1\n",
      "nlms MSE = 0.013025.\n",
      "nlms pre-convergence training iteration #2\n",
      "nlms MSE = 0.009937.\n",
      "nlms pre-convergence training iteration #3\n",
      "nlms MSE = 0.008236.\n",
      "nlms pre-convergence training iteration #4\n",
      "nlms MSE = 0.007239.\n",
      "\n",
      "\n",
      "dd-lms - training stage #1\n",
      "dd-lms MSE = 0.004839.\n",
      "Results:\n",
      "\n",
      "SER: 1.06e-02\n",
      "BER: 1.79e-03\n",
      "SNR: 22.85 dB\n",
      "MI: 5.95 bits\n",
      "GMI: 5.95 bits\n",
      "channel 0\t fc : 193.1000 THz\n",
      "  mode #0\t power: 0.00 dBm\n",
      "channel 0\t power: 0.00 dBm\n",
      "\n",
      "total WDM dignal power: 0.00 dBm\n",
      "Demodulating channel #0 , fc: 193.1000 THz, λ: 1552.5244 nm\n",
      "\n",
      "Local oscillator P: 12.00 dBm, lw: 0.00 kHz, FO: 21000.00 MHz\n",
      "CSPR = 12.00 dB\n",
      "12500/12500 [==============================] - 16s 1ms/step\n",
      "\n",
      "\n",
      "nlms - training stage #0\n"
     ]
    },
    {
     "data": {
      "application/vnd.jupyter.widget-view+json": {
       "model_id": "06155fac01034c76b433cf081777a2f6",
       "version_major": 2,
       "version_minor": 0
      },
      "text/plain": [
       "  0%|          | 0/5 [00:00<?, ?it/s]"
      ]
     },
     "metadata": {},
     "output_type": "display_data"
    },
    {
     "name": "stdout",
     "output_type": "stream",
     "text": [
      "nlms pre-convergence training iteration #0\n",
      "nlms MSE = 0.021616.\n",
      "nlms pre-convergence training iteration #1\n",
      "nlms MSE = 0.002185.\n",
      "nlms pre-convergence training iteration #2\n",
      "nlms MSE = 0.001780.\n",
      "nlms pre-convergence training iteration #3\n",
      "nlms MSE = 0.001547.\n",
      "nlms pre-convergence training iteration #4\n",
      "nlms MSE = 0.001394.\n",
      "\n",
      "\n",
      "dd-lms - training stage #1\n",
      "dd-lms MSE = 0.000950.\n",
      "Results:\n",
      "\n",
      "SER: 1.33e-04\n",
      "BER: 2.22e-05\n",
      "SNR: 29.99 dB\n",
      "MI: 6.00 bits\n",
      "GMI: 6.00 bits\n",
      "channel 0\t fc : 193.1000 THz\n",
      "  mode #0\t power: 0.00 dBm\n",
      "channel 0\t power: -0.00 dBm\n",
      "\n",
      "total WDM dignal power: -0.00 dBm\n",
      "Demodulating channel #0 , fc: 193.1000 THz, λ: 1552.5244 nm\n",
      "\n",
      "Local oscillator P: 12.00 dBm, lw: 0.00 kHz, FO: 21000.00 MHz\n",
      "CSPR = 12.00 dB\n",
      "12500/12500 [==============================] - 15s 1ms/step\n",
      "\n",
      "\n",
      "nlms - training stage #0\n"
     ]
    },
    {
     "data": {
      "application/vnd.jupyter.widget-view+json": {
       "model_id": "194a5e2f277944bcb726b32fefe6d88d",
       "version_major": 2,
       "version_minor": 0
      },
      "text/plain": [
       "  0%|          | 0/5 [00:00<?, ?it/s]"
      ]
     },
     "metadata": {},
     "output_type": "display_data"
    },
    {
     "name": "stdout",
     "output_type": "stream",
     "text": [
      "nlms pre-convergence training iteration #0\n",
      "nlms MSE = 0.019785.\n",
      "nlms pre-convergence training iteration #1\n",
      "nlms MSE = 0.001958.\n",
      "nlms pre-convergence training iteration #2\n",
      "nlms MSE = 0.001476.\n",
      "nlms pre-convergence training iteration #3\n",
      "nlms MSE = 0.001213.\n",
      "nlms pre-convergence training iteration #4\n",
      "nlms MSE = 0.001049.\n",
      "\n",
      "\n",
      "dd-lms - training stage #1\n",
      "dd-lms MSE = 0.000682.\n",
      "Results:\n",
      "\n",
      "SER: 5.56e-05\n",
      "BER: 9.26e-06\n",
      "SNR: 31.37 dB\n",
      "MI: 6.00 bits\n",
      "GMI: 6.00 bits\n",
      "channel 0\t fc : 193.1000 THz\n",
      "  mode #0\t power: 0.00 dBm\n",
      "channel 0\t power: 0.00 dBm\n",
      "\n",
      "total WDM dignal power: 0.00 dBm\n",
      "Demodulating channel #0 , fc: 193.1000 THz, λ: 1552.5244 nm\n",
      "\n",
      "Local oscillator P: 12.00 dBm, lw: 0.00 kHz, FO: 21000.00 MHz\n",
      "CSPR = 12.00 dB\n",
      "12500/12500 [==============================] - 16s 1ms/step\n",
      "\n",
      "\n",
      "nlms - training stage #0\n"
     ]
    },
    {
     "data": {
      "application/vnd.jupyter.widget-view+json": {
       "model_id": "c61074793bfe4b56a162e1500538a5b9",
       "version_major": 2,
       "version_minor": 0
      },
      "text/plain": [
       "  0%|          | 0/5 [00:00<?, ?it/s]"
      ]
     },
     "metadata": {},
     "output_type": "display_data"
    },
    {
     "name": "stdout",
     "output_type": "stream",
     "text": [
      "nlms pre-convergence training iteration #0\n",
      "nlms MSE = 0.016736.\n",
      "nlms pre-convergence training iteration #1\n",
      "nlms MSE = 0.001618.\n",
      "nlms pre-convergence training iteration #2\n",
      "nlms MSE = 0.001445.\n",
      "nlms pre-convergence training iteration #3\n",
      "nlms MSE = 0.001321.\n",
      "nlms pre-convergence training iteration #4\n",
      "nlms MSE = 0.001229.\n",
      "\n",
      "\n",
      "dd-lms - training stage #1\n",
      "dd-lms MSE = 0.000746.\n",
      "Results:\n",
      "\n",
      "SER: 1.11e-05\n",
      "BER: 1.85e-06\n",
      "SNR: 31.04 dB\n",
      "MI: 6.01 bits\n",
      "GMI: 6.00 bits\n",
      "channel 0\t fc : 193.1000 THz\n",
      "  mode #0\t power: 0.00 dBm\n",
      "channel 0\t power: -0.00 dBm\n",
      "\n",
      "total WDM dignal power: -0.00 dBm\n",
      "Demodulating channel #0 , fc: 193.1000 THz, λ: 1552.5244 nm\n",
      "\n",
      "Local oscillator P: 12.00 dBm, lw: 0.00 kHz, FO: 21000.00 MHz\n",
      "CSPR = 12.00 dB\n",
      "12500/12500 [==============================] - 16s 1ms/step\n",
      "\n",
      "\n",
      "nlms - training stage #0\n"
     ]
    },
    {
     "data": {
      "application/vnd.jupyter.widget-view+json": {
       "model_id": "1f5f5b292c3a4564b8507149a8e19a49",
       "version_major": 2,
       "version_minor": 0
      },
      "text/plain": [
       "  0%|          | 0/5 [00:00<?, ?it/s]"
      ]
     },
     "metadata": {},
     "output_type": "display_data"
    },
    {
     "name": "stdout",
     "output_type": "stream",
     "text": [
      "nlms pre-convergence training iteration #0\n",
      "nlms MSE = 0.015363.\n",
      "nlms pre-convergence training iteration #1\n",
      "nlms MSE = 0.001596.\n",
      "nlms pre-convergence training iteration #2\n",
      "nlms MSE = 0.001576.\n",
      "nlms pre-convergence training iteration #3\n",
      "nlms MSE = 0.001558.\n",
      "nlms pre-convergence training iteration #4\n",
      "nlms MSE = 0.001542.\n",
      "\n",
      "\n",
      "dd-lms - training stage #1\n",
      "dd-lms MSE = 0.000828.\n",
      "Results:\n",
      "\n",
      "SER: 1.11e-05\n",
      "BER: 1.85e-06\n",
      "SNR: 30.74 dB\n",
      "MI: 6.00 bits\n",
      "GMI: 6.00 bits\n",
      "channel 0\t fc : 193.1000 THz\n",
      "  mode #0\t power: 0.00 dBm\n",
      "channel 0\t power: 0.00 dBm\n",
      "\n",
      "total WDM dignal power: 0.00 dBm\n",
      "Demodulating channel #0 , fc: 193.1000 THz, λ: 1552.5244 nm\n",
      "\n",
      "Local oscillator P: 12.00 dBm, lw: 0.00 kHz, FO: 21000.00 MHz\n",
      "CSPR = 12.00 dB\n",
      "12500/12500 [==============================] - 16s 1ms/step\n",
      "\n",
      "\n",
      "nlms - training stage #0\n"
     ]
    },
    {
     "data": {
      "application/vnd.jupyter.widget-view+json": {
       "model_id": "dab349da8d514b2f93e4122b3d0de731",
       "version_major": 2,
       "version_minor": 0
      },
      "text/plain": [
       "  0%|          | 0/5 [00:00<?, ?it/s]"
      ]
     },
     "metadata": {},
     "output_type": "display_data"
    },
    {
     "name": "stdout",
     "output_type": "stream",
     "text": [
      "nlms pre-convergence training iteration #0\n",
      "nlms MSE = 0.014122.\n",
      "nlms pre-convergence training iteration #1\n",
      "nlms MSE = 0.001593.\n",
      "nlms pre-convergence training iteration #2\n",
      "nlms MSE = 0.001585.\n",
      "nlms pre-convergence training iteration #3\n",
      "nlms MSE = 0.001580.\n",
      "nlms pre-convergence training iteration #4\n",
      "nlms MSE = 0.001574.\n",
      "\n",
      "\n",
      "dd-lms - training stage #1\n",
      "dd-lms MSE = 0.000973.\n",
      "Results:\n",
      "\n",
      "SER: 7.78e-05\n",
      "BER: 1.30e-05\n",
      "SNR: 30.05 dB\n",
      "MI: 6.00 bits\n",
      "GMI: 6.00 bits\n",
      "channel 0\t fc : 193.1000 THz\n",
      "  mode #0\t power: 0.00 dBm\n",
      "channel 0\t power: -0.00 dBm\n",
      "\n",
      "total WDM dignal power: -0.00 dBm\n",
      "Demodulating channel #0 , fc: 193.1000 THz, λ: 1552.5244 nm\n",
      "\n",
      "Local oscillator P: 12.00 dBm, lw: 0.00 kHz, FO: 21000.00 MHz\n",
      "CSPR = 12.00 dB\n",
      "12500/12500 [==============================] - 15s 1ms/step\n",
      "\n",
      "\n",
      "nlms - training stage #0\n"
     ]
    },
    {
     "data": {
      "application/vnd.jupyter.widget-view+json": {
       "model_id": "00ea1958429e44f29eead3d53fa52559",
       "version_major": 2,
       "version_minor": 0
      },
      "text/plain": [
       "  0%|          | 0/5 [00:00<?, ?it/s]"
      ]
     },
     "metadata": {},
     "output_type": "display_data"
    },
    {
     "name": "stdout",
     "output_type": "stream",
     "text": [
      "nlms pre-convergence training iteration #0\n",
      "nlms MSE = 0.014353.\n",
      "nlms pre-convergence training iteration #1\n",
      "nlms MSE = 0.002301.\n",
      "nlms pre-convergence training iteration #2\n",
      "nlms MSE = 0.002258.\n",
      "nlms pre-convergence training iteration #3\n",
      "nlms MSE = 0.002219.\n",
      "nlms pre-convergence training iteration #4\n",
      "nlms MSE = 0.002183.\n",
      "\n",
      "\n",
      "dd-lms - training stage #1\n",
      "dd-lms MSE = 0.001509.\n",
      "Results:\n",
      "\n",
      "SER: 2.67e-04\n",
      "BER: 4.44e-05\n",
      "SNR: 28.11 dB\n",
      "MI: 6.00 bits\n",
      "GMI: 6.00 bits\n",
      "channel 0\t fc : 193.1000 THz\n",
      "  mode #0\t power: 0.00 dBm\n",
      "channel 0\t power: -0.00 dBm\n",
      "\n",
      "total WDM dignal power: -0.00 dBm\n",
      "Demodulating channel #0 , fc: 193.1000 THz, λ: 1552.5244 nm\n",
      "\n",
      "Local oscillator P: 12.00 dBm, lw: 0.00 kHz, FO: 21000.00 MHz\n",
      "CSPR = 12.00 dB\n",
      "12500/12500 [==============================] - 16s 1ms/step\n",
      "\n",
      "\n",
      "nlms - training stage #0\n"
     ]
    },
    {
     "data": {
      "application/vnd.jupyter.widget-view+json": {
       "model_id": "eee9983f4da146d2a2c2798854bfc87c",
       "version_major": 2,
       "version_minor": 0
      },
      "text/plain": [
       "  0%|          | 0/5 [00:00<?, ?it/s]"
      ]
     },
     "metadata": {},
     "output_type": "display_data"
    },
    {
     "name": "stdout",
     "output_type": "stream",
     "text": [
      "nlms pre-convergence training iteration #0\n",
      "nlms MSE = 0.014871.\n",
      "nlms pre-convergence training iteration #1\n",
      "nlms MSE = 0.003125.\n",
      "nlms pre-convergence training iteration #2\n",
      "nlms MSE = 0.002919.\n",
      "nlms pre-convergence training iteration #3\n",
      "nlms MSE = 0.002747.\n",
      "nlms pre-convergence training iteration #4\n",
      "nlms MSE = 0.002602.\n",
      "\n",
      "\n",
      "dd-lms - training stage #1\n",
      "dd-lms MSE = 0.001703.\n",
      "Results:\n",
      "\n",
      "SER: 3.78e-04\n",
      "BER: 6.67e-05\n",
      "SNR: 27.42 dB\n",
      "MI: 5.99 bits\n",
      "GMI: 5.99 bits\n",
      "channel 0\t fc : 193.1000 THz\n",
      "  mode #0\t power: 0.00 dBm\n",
      "channel 0\t power: 0.00 dBm\n",
      "\n",
      "total WDM dignal power: 0.00 dBm\n",
      "Demodulating channel #0 , fc: 193.1000 THz, λ: 1552.5244 nm\n",
      "\n",
      "Local oscillator P: 12.00 dBm, lw: 0.00 kHz, FO: 21000.00 MHz\n",
      "CSPR = 12.00 dB\n",
      "12500/12500 [==============================] - 16s 1ms/step\n",
      "\n",
      "\n",
      "nlms - training stage #0\n"
     ]
    },
    {
     "data": {
      "application/vnd.jupyter.widget-view+json": {
       "model_id": "9ef87ecd4c4a4c83834f05382b2a0f97",
       "version_major": 2,
       "version_minor": 0
      },
      "text/plain": [
       "  0%|          | 0/5 [00:00<?, ?it/s]"
      ]
     },
     "metadata": {},
     "output_type": "display_data"
    },
    {
     "name": "stdout",
     "output_type": "stream",
     "text": [
      "nlms pre-convergence training iteration #0\n",
      "nlms MSE = 0.015723.\n",
      "nlms pre-convergence training iteration #1\n",
      "nlms MSE = 0.004345.\n",
      "nlms pre-convergence training iteration #2\n",
      "nlms MSE = 0.003877.\n",
      "nlms pre-convergence training iteration #3\n",
      "nlms MSE = 0.003527.\n",
      "nlms pre-convergence training iteration #4\n",
      "nlms MSE = 0.003263.\n",
      "\n",
      "\n",
      "dd-lms - training stage #1\n",
      "dd-lms MSE = 0.002085.\n",
      "Results:\n",
      "\n",
      "SER: 3.67e-04\n",
      "BER: 6.11e-05\n",
      "SNR: 26.66 dB\n",
      "MI: 6.01 bits\n",
      "GMI: 6.00 bits\n",
      "channel 0\t fc : 193.1000 THz\n",
      "  mode #0\t power: 0.00 dBm\n",
      "channel 0\t power: 0.00 dBm\n",
      "\n",
      "total WDM dignal power: 0.00 dBm\n",
      "Demodulating channel #0 , fc: 193.1000 THz, λ: 1552.5244 nm\n",
      "\n",
      "Local oscillator P: 12.00 dBm, lw: 0.00 kHz, FO: 21000.00 MHz\n",
      "CSPR = 12.00 dB\n",
      "12500/12500 [==============================] - 16s 1ms/step\n",
      "\n",
      "\n",
      "nlms - training stage #0\n"
     ]
    },
    {
     "data": {
      "application/vnd.jupyter.widget-view+json": {
       "model_id": "fd7ccd8dc75f41dcb3c5d64d748c825c",
       "version_major": 2,
       "version_minor": 0
      },
      "text/plain": [
       "  0%|          | 0/5 [00:00<?, ?it/s]"
      ]
     },
     "metadata": {},
     "output_type": "display_data"
    },
    {
     "name": "stdout",
     "output_type": "stream",
     "text": [
      "nlms pre-convergence training iteration #0\n",
      "nlms MSE = 0.019482.\n",
      "nlms pre-convergence training iteration #1\n",
      "nlms MSE = 0.006744.\n",
      "nlms pre-convergence training iteration #2\n",
      "nlms MSE = 0.005480.\n",
      "nlms pre-convergence training iteration #3\n",
      "nlms MSE = 0.004659.\n",
      "nlms pre-convergence training iteration #4\n",
      "nlms MSE = 0.004116.\n",
      "\n",
      "\n",
      "dd-lms - training stage #1\n",
      "dd-lms MSE = 0.002814.\n",
      "Results:\n",
      "\n",
      "SER: 1.51e-03\n",
      "BER: 2.56e-04\n",
      "SNR: 25.26 dB\n",
      "MI: 5.99 bits\n",
      "GMI: 5.99 bits\n",
      "channel 0\t fc : 193.1000 THz\n",
      "  mode #0\t power: 0.00 dBm\n",
      "channel 0\t power: 0.00 dBm\n",
      "\n",
      "total WDM dignal power: 0.00 dBm\n",
      "Demodulating channel #0 , fc: 193.1000 THz, λ: 1552.5244 nm\n",
      "\n",
      "Local oscillator P: 12.00 dBm, lw: 0.00 kHz, FO: 21000.00 MHz\n",
      "CSPR = 12.00 dB\n",
      "12500/12500 [==============================] - 16s 1ms/step\n",
      "\n",
      "\n",
      "nlms - training stage #0\n"
     ]
    },
    {
     "data": {
      "application/vnd.jupyter.widget-view+json": {
       "model_id": "91df5f33cac34a4c98c3683645270e77",
       "version_major": 2,
       "version_minor": 0
      },
      "text/plain": [
       "  0%|          | 0/5 [00:00<?, ?it/s]"
      ]
     },
     "metadata": {},
     "output_type": "display_data"
    },
    {
     "name": "stdout",
     "output_type": "stream",
     "text": [
      "nlms pre-convergence training iteration #0\n",
      "nlms MSE = 0.021498.\n",
      "nlms pre-convergence training iteration #1\n",
      "nlms MSE = 0.008211.\n",
      "nlms pre-convergence training iteration #2\n",
      "nlms MSE = 0.006524.\n",
      "nlms pre-convergence training iteration #3\n",
      "nlms MSE = 0.005545.\n",
      "nlms pre-convergence training iteration #4\n",
      "nlms MSE = 0.004955.\n",
      "\n",
      "\n",
      "dd-lms - training stage #1\n",
      "dd-lms MSE = 0.003451.\n",
      "Results:\n",
      "\n",
      "SER: 2.57e-03\n",
      "BER: 4.31e-04\n",
      "SNR: 24.41 dB\n",
      "MI: 5.98 bits\n",
      "GMI: 5.99 bits\n"
     ]
    }
   ],
   "source": [
    "FO_Values = np.arange(1e9, 6e9, 1e9)\n",
    "Rolloff = np.arange(0.01, 0.99, 0.1)\n",
    "\n",
    "BER_NN = np.zeros((FO_Values.size, Rolloff.size))\n",
    "SER_NN = np.zeros((FO_Values.size, Rolloff.size))\n",
    "GMI_NN = np.zeros((FO_Values.size, Rolloff.size))\n",
    "MI_NN  = np.zeros((FO_Values.size, Rolloff.size))\n",
    "SNR_NN = np.zeros((FO_Values.size, Rolloff.size))\n",
    "\n",
    "iterations = 5 # number of iterations per simulation\n",
    "N = 256  # number of input amplitude samples to the NN\n",
    "\n",
    "for indfile in range(0, iterations):\n",
    "    for indNN, FO_ in enumerate(FO_Values):\n",
    "        for index, indRoll_ in enumerate(Rolloff):\n",
    "        \n",
    "            # Main simulation parameters\n",
    "            paramTx.alphaRRC = indRoll_\n",
    "            FO = FO_ + paramTx.Rs/2\n",
    "            # get the model according to the simulation parameters\n",
    "            modelNN = tf.keras.models.load_model('Legacy_NN_models/testModel_SpS_'+str(paramADC.SpS_out)+'_FO_'+str(FO/10e9)+'GHz_Rolloff_'+str(round(paramTx.alphaRRC, 2)))\n",
    "            \n",
    "            # generate optical signal signal\n",
    "            sigTx, symbTx_, paramTx = simpleWDMTx(paramTx)\n",
    "\n",
    "            # simulate linear signal propagation\n",
    "            sigCh = linFiberCh(sigTx, Ltotal, alpha, D, Fc, Fs)\n",
    "\n",
    "            # receiver detection and demodulation\n",
    "            Fc = paramTx.Fc\n",
    "            Ts = 1 / Fs\n",
    "            mod = QAMModem(m=paramTx.M)\n",
    "\n",
    "            freqGrid = paramTx.freqGrid\n",
    "            print(\n",
    "                \"Demodulating channel #%d , fc: %.4f THz, λ: %.4f nm\\n\"\n",
    "                % (\n",
    "                    chIndex,\n",
    "                    (Fc + freqGrid[chIndex]) / 1e12,\n",
    "                    const.c / (Fc + freqGrid[chIndex]) / 1e-9,\n",
    "                )\n",
    "            )\n",
    "\n",
    "            symbTx = symbTx_[:, :, chIndex]\n",
    "\n",
    "            Plo = 10 ** (Plo_dBm / 10) * 1e-3  # power in W\n",
    "\n",
    "            print(\n",
    "                \"Local oscillator P: %.2f dBm, lw: %.2f kHz, FO: %.2f MHz\"\n",
    "                % (Plo_dBm, lw / 1e3, FO / 1e6)\n",
    "            )\n",
    "\n",
    "            # generate LO field\n",
    "            π = np.pi\n",
    "            t = np.arange(0, len(sigCh))*Ts\n",
    "            ϕ_pn_lo = phaseNoise(lw, len(sigCh), Ts)\n",
    "\n",
    "            sigLO = np.sqrt(Plo) * np.exp(-1j * (2 * π * FO * t + ϕ_lo + ϕ_pn_lo))\n",
    "\n",
    "            # Add LO to the received signal\n",
    "            sigRx = np.sqrt(Plo) + sigCh * np.exp(1j * (2 * π * FO * t + ϕ_lo + ϕ_pn_lo))\n",
    "            sfm = sigRx.copy()\n",
    "\n",
    "            print('CSPR = %.2f dB' % (10*np.log10(signal_power(sigLO)/signal_power(sigCh))))\n",
    "\n",
    "            # ### Phase-retrieval stage\n",
    "\n",
    "            # In[4]:\n",
    "\n",
    "            # resampling to ADC sampling rate\n",
    "            sigCh = resample(sigCh, paramADC)\n",
    "            sfm = resample(sfm, paramADC)\n",
    "            newFs = paramADC.SpS_out*paramTx.Rs\n",
    "\n",
    "            # simulate ideal direct-detection optical receiver\n",
    "            Amp = np.abs(sigRx)\n",
    "            Amp = resample(Amp, paramADC)\n",
    "\n",
    "            sfm = sfm/np.sqrt(signal_power(sfm))\n",
    "\n",
    "            sigPhase = np.angle(sfm)  # get signal phase samples (labels) (L,)\n",
    "            sigAmp   = np.pad(np.abs(sfm), (int(N/2), int(N/2)), 'constant') # get signal amplitude samples (L,)\n",
    "\n",
    "            # create set of input features\n",
    "            X_input = np.zeros((len(sigPhase), N))  # (L,N)\n",
    "\n",
    "            for indPhase in range(len(sigPhase)):\n",
    "                X_input[indPhase] = sigAmp[indPhase:N+indPhase]\n",
    "\n",
    "            phiTime_NN = modelNN.predict(X_input)\n",
    "            phiTime_NN = phiTime_NN.reshape(-1,)\n",
    "\n",
    "            # optical field reconstruction\n",
    "            sigRx = np.abs(sfm)*np.exp(1j*phiTime_NN)\n",
    "\n",
    "            # remove DC level\n",
    "            sigRx -= np.mean(sigRx)  # np.sqrt(Plo)\n",
    "\n",
    "            # downshift to baseband\n",
    "            t = np.arange(0, len(sigRx))*(1/newFs)\n",
    "            sigRx *= np.exp(-1j * (2 * π * FO * t))\n",
    "\n",
    "            # correct for (possible) phase ambiguity\n",
    "            rot = np.mean(sigCh/sigRx)\n",
    "            sigRx = rot * sigRx\n",
    "            sigRx = sigRx / np.sqrt(signal_power(sigRx))\n",
    "\n",
    "            # #### Standard receiver processing\n",
    "\n",
    "            # In[5]:\n",
    "\n",
    "            # resample to 2 samples/symbol:\n",
    "            paramRes = parameters()\n",
    "            paramRes.Rs = paramTx.Rs\n",
    "            paramRes.SpS_in = paramADC.SpS_out\n",
    "            paramRes.SpS_out = 2\n",
    "\n",
    "            sigRx = resample(sigRx, paramRes)\n",
    "\n",
    "            # Matched filtering and CD compensation\n",
    "\n",
    "            # Matched filtering\n",
    "            if paramTx.pulse == \"nrz\":\n",
    "                pulse = pulseShape(\"nrz\", paramADC.SpS_out)\n",
    "            elif paramTx.pulse == \"rrc\":\n",
    "                pulse = pulseShape(\n",
    "                    \"rrc\", paramRes.SpS_out, N=paramTx.Ntaps, alpha=paramTx.alphaRRC, Ts=1 / paramTx.Rs\n",
    "                )\n",
    "\n",
    "            pulse = pulse / np.max(np.abs(pulse))\n",
    "            sigRx = firFilter(pulse, sigRx)\n",
    "\n",
    "            # plot constellations after matched filtering\n",
    "            #pconst(sigRx[0::paramRes.SpS_out], lim=True, R=3)\n",
    "\n",
    "            # CD compensation\n",
    "            sigRx = edc(sigRx, Ltotal, D, Fc, paramRes.SpS_out*paramTx.Rs)\n",
    "\n",
    "            #plot constellations after CD compensation\n",
    "            #pconst(sigRx[0::paramRes.SpS_out], lim=True, R=2)\n",
    "\n",
    "            # Downsampling to 2 sps and re-synchronization with transmitted sequences\n",
    "            sigRx = sigRx.reshape(-1, 1)\n",
    "\n",
    "            symbRx = symbolSync(sigRx, symbTx, 2)\n",
    "\n",
    "            # In[6]:\n",
    "\n",
    "            # Power normalization\n",
    "            x = sigRx\n",
    "            d = symbRx\n",
    "\n",
    "            x = x.reshape(len(x), 1) / np.sqrt(signal_power(x))\n",
    "            d = d.reshape(len(d), 1) / np.sqrt(signal_power(d))\n",
    "\n",
    "            # Adaptive equalization\n",
    "            mod = QAMModem(m=paramTx.M)\n",
    "\n",
    "            paramEq = parameters()\n",
    "            paramEq.nTaps = 15\n",
    "            paramEq.SpS = 2\n",
    "            paramEq.mu = [5e-3, 2e-3]\n",
    "            paramEq.numIter = 5\n",
    "            paramEq.storeCoeff = False\n",
    "            paramEq.alg = [\"nlms\", \"dd-lms\"]\n",
    "            paramEq.M = paramTx.M\n",
    "            paramEq.L = [20000, 80000]\n",
    "\n",
    "            y_EQ, H, errSq, Hiter = mimoAdaptEqualizer(x, dx=d, paramEq=paramEq)\n",
    "\n",
    "            discard = int(paramEq.L[0]/2)\n",
    "\n",
    "            #plot constellations after adaptive equalization\n",
    "            #pconst(y_EQ[discard:-discard, :], lim=True)\n",
    "\n",
    "            # In[7]:\n",
    "\n",
    "            # Carrier phase recovery\n",
    "            paramCPR = parameters()\n",
    "            paramCPR.alg = \"bps\"\n",
    "            paramCPR.M = paramTx.M\n",
    "            paramCPR.N = 75\n",
    "            paramCPR.B = 64\n",
    "            paramCPR.pilotInd = np.arange(0, len(y_EQ), 20)\n",
    "\n",
    "            y_CPR, θ = cpr(y_EQ, symbTx=d, paramCPR=paramCPR)\n",
    "\n",
    "            y_CPR = y_CPR / np.sqrt(signal_power(y_CPR))\n",
    "\n",
    "            discard = 5000\n",
    "\n",
    "            # plot constellations after CPR\n",
    "            #pconst(y_CPR[discard:-discard, :], lim=True)\n",
    "\n",
    "            # #### Evaluate transmission metrics\n",
    "\n",
    "            # In[8]:\n",
    "\n",
    "            # correct for (possible) phase ambiguity\n",
    "            for k in range(y_CPR.shape[1]):\n",
    "                rot = np.mean(d[:, k] / y_CPR[:, k])\n",
    "                y_CPR[:, k] = rot * y_CPR[:, k]\n",
    "\n",
    "            y_CPR = y_CPR / np.sqrt(signal_power(y_CPR))\n",
    "\n",
    "            ind = np.arange(discard, d.shape[0] - discard)\n",
    "            BER_NN[indNN][index], SER_NN[indNN][index], SNR_NN[indNN][index] = fastBERcalc(y_CPR[ind, :], d[ind, :], mod)\n",
    "            GMI_NN[indNN][index], _ = monteCarloGMI(y_CPR[ind, :], d[ind, :], mod)\n",
    "            MI_NN[indNN][index] = monteCarloMI(y_CPR[ind, :], d[ind, :], mod)\n",
    "\n",
    "            print(\"Results:\\n\")\n",
    "            print(\"SER: %.2e\" % (SER_NN[indNN][index]))\n",
    "            print(\"BER: %.2e\" % (BER_NN[indNN][index]))\n",
    "            print(\"SNR: %.2f dB\" % (SNR_NN[indNN][index]))\n",
    "            print(\"MI: %.2f bits\" % (MI_NN[indNN][index]))\n",
    "            print(\"GMI: %.2f bits\" % (GMI_NN[indNN][index]))\n",
    "\n",
    "    np.save(r'/home/silas/Documentos/GitHub/PIVIC-Comunicacoes-Opticas/resultados/BER_NN_'+str(indfile), BER_NN)"
   ]
  },
  {
   "cell_type": "markdown",
   "metadata": {},
   "source": [
    "### Model Performance Evaluation\n",
    "\n",
    "Realiza uma avaliação da performace do modelo de acordo com cada parâmetro alterado durante a simulação gerando uma superficie no plano tridimensional, para cada ponto obtemos uma configuração distinta para os parâmetros de interesse (Rolloff e FO)   "
   ]
  },
  {
   "cell_type": "code",
   "execution_count": 114,
   "metadata": {},
   "outputs": [],
   "source": [
    "from mpl_toolkits.mplot3d import Axes3D\n",
    "from filecmp import cmp\n",
    "from matplotlib import cm\n",
    "import seaborn as sns"
   ]
  },
  {
   "cell_type": "code",
   "execution_count": 96,
   "metadata": {},
   "outputs": [
    {
     "data": {
      "image/png": "[encoded data removed]",
      "text/plain": [
       "<Figure size 800x600 with 2 Axes>"
      ]
     },
     "metadata": {},
     "output_type": "display_data"
    },
    {
     "data": {
      "image/png": "[encoded data removed]",
      "text/plain": [
       "<Figure size 500x500 with 1 Axes>"
      ]
     },
     "metadata": {},
     "output_type": "display_data"
    },
    {
     "data": {
      "text/plain": [
       "<Figure size 640x480 with 0 Axes>"
      ]
     },
     "metadata": {},
     "output_type": "display_data"
    }
   ],
   "source": [
    "x = np.arange(0.01, 0.99, 0.1)\n",
    "y = np.arange(1e9, 6e9, 1e9)\n",
    "\n",
    "x, y = np.meshgrid(x, y)\n",
    "z1 = np.log10(BER_NN)  # shape((5, 10))\n",
    "\n",
    "fig = plt.figure(figsize=(8, 6))\n",
    "ax = plt.axes(projection='3d')\n",
    "\n",
    "fig = plt.figure(figsize=(5, 5))\n",
    "plt.contourf(x, y, z1, cmap=cm.winter)\n",
    "plt.xlabel('Rolloff')\n",
    "plt.ylabel('FO')\n",
    "plt.savefig(r'C:\\Users\\Silas\\Documents\\PIVIC-Comunicacoes-Opticas\\resultados\\results_ModelPerformanceContourf_64QAM.png', dpi=600)\n",
    "\n",
    "surf = ax.plot_surface(x, y, z1, cmap=cm.winter, linewidth=1, antialiased=True, edgecolor='None')\n",
    "#surf = ax.scatter(x, y, z1, marker='s', s=150, color='blue')\n",
    "fig.colorbar(surf, ax=ax, shrink=0.5, aspect=7)\n",
    "ax.set_xlabel('Rolloff')\n",
    "ax.set_ylabel('FO')\n",
    "ax.set_zlabel('$log(BER)$')\n",
    "ax.view_init(elev=30, azim=215)\n",
    "ax.set_title('BER Surface Plot')\n",
    "\n",
    "plt.show()\n",
    "plt.savefig(r'C:\\Users\\Silas\\Documents\\PIVIC-Comunicacoes-Opticas\\resultados\\results_ModelPerformance_64QAM.png', dpi=600)"
   ]
  },
  {
   "cell_type": "code",
   "execution_count": 134,
   "metadata": {},
   "outputs": [
    {
     "data": {
      "image/png": "[encoded data removed]",
      "text/plain": [
       "<Figure size 1300x700 with 2 Axes>"
      ]
     },
     "metadata": {},
     "output_type": "display_data"
    }
   ],
   "source": [
    "fig = plt.figure(figsize=(13, 7))\n",
    "sns.heatmap(np.log10(BER_NN), annot=True, cmap='YlGnBu')\n",
    "plt.title('Heat Map NN')\n",
    "plt.ylabel('FO')\n",
    "plt.xlabel('Rolloff')\n",
    "plt.savefig(r'C:\\Users\\Silas\\Documents\\PIVIC-Comunicacoes-Opticas\\resultados\\results_ModelPerformanceHeatMap_64QAM.png', dpi=600)"
   ]
  },
  {
   "cell_type": "code",
   "execution_count": 9,
   "metadata": {},
   "outputs": [],
   "source": [
    "## Transmitter parameters:\n",
    "paramTx = parameters()\n",
    "paramTx.M = 64                 # order of the modulation format\n",
    "paramTx.Rs = 32e9              # symbol rate [baud]\n",
    "paramTx.SpS = 4                # samples per symbol\n",
    "paramTx.Nbits = 600000         # total number of bits per polarization\n",
    "paramTx.pulse = \"rrc\"          # pulse shaping filter\n",
    "paramTx.Ntaps = 1024           # number of pulse shaping filter coefficients\n",
    "#paramTx.alphaRRC = 0.91        # RRC rolloff\n",
    "paramTx.Pch_dBm = 0            # power of the optical signal [dBm]\n",
    "paramTx.Nch = 1                # number of WDM channels\n",
    "paramTx.Fc = 193.1e12          # central frequency of the optical spectrum\n",
    "paramTx.freqSpac = 37.5e9      # WDM grid spacing\n",
    "\n",
    "## Optical channel parameters:\n",
    "Ltotal = 50      # total link distance [km]\n",
    "alpha = 0        # fiber loss parameter [dB/km]\n",
    "D = 16          # fiber dispersion parameter [ps/nm/km]\n",
    "Fc = paramTx.Fc  # central optical frequency of the WDM spectrum [Hz]\n",
    "\n",
    "## Receiver parameters:\n",
    "\n",
    "# local oscillator (LO)\n",
    "#FO = 5e9 + paramTx.Rs/2  # frequency offset\n",
    "lw = 0*200e3       # linewidth\n",
    "ϕ_lo = 0           # initial phase in rad\n",
    "Plo_dBm = 12        # power in dBm\n",
    "\n",
    "# ADC sampling rate\n",
    "paramADC = parameters()\n",
    "paramADC.Rs = paramTx.Rs\n",
    "paramADC.SpS_in = paramTx.SpS\n",
    "paramADC.SpS_out = 4\n",
    "\n",
    "## General simulation parameters:\n",
    "chIndex = 0  # index of the channel to be demodulated\n",
    "plotPSD = True\n",
    "Fs = paramTx.Rs * paramTx.SpS  # simulation sampling rate"
   ]
  },
  {
   "cell_type": "code",
   "execution_count": 10,
   "metadata": {},
   "outputs": [
    {
     "name": "stdout",
     "output_type": "stream",
     "text": [
      "channel 0\t fc : 193.1000 THz\n",
      "  mode #0\t power: 0.00 dBm\n",
      "channel 0\t power: 0.00 dBm\n",
      "\n",
      "total WDM dignal power: 0.00 dBm\n",
      "Demodulating channel #0 , fc: 193.1000 THz, λ: 1552.5244 nm\n",
      "\n",
      "Local oscillator P: 12.00 dBm, lw: 0.00 kHz, FO: 17000.00 MHz\n",
      "CSPR = 12.00 dB\n",
      "\n",
      "\n",
      "nlms - training stage #0\n"
     ]
    },
    {
     "data": {
      "application/vnd.jupyter.widget-view+json": {
       "model_id": "6deba79ab4de455f90017873e02a2012",
       "version_major": 2,
       "version_minor": 0
      },
      "text/plain": [
       "  0%|          | 0/5 [00:00<?, ?it/s]"
      ]
     },
     "metadata": {},
     "output_type": "display_data"
    },
    {
     "name": "stdout",
     "output_type": "stream",
     "text": [
      "nlms pre-convergence training iteration #0\n",
      "nlms MSE = 0.022355.\n",
      "nlms pre-convergence training iteration #1\n",
      "nlms MSE = 0.002423.\n",
      "nlms pre-convergence training iteration #2\n",
      "nlms MSE = 0.002021.\n",
      "nlms pre-convergence training iteration #3\n",
      "nlms MSE = 0.001792.\n",
      "nlms pre-convergence training iteration #4\n",
      "nlms MSE = 0.001638.\n",
      "\n",
      "\n",
      "dd-lms - training stage #1\n",
      "dd-lms MSE = 0.000989.\n",
      "Results:\n",
      "\n",
      "SER: 3.89e-04\n",
      "BER: 6.85e-05\n",
      "SNR: 29.80 dB\n",
      "MI: 5.99 bits\n",
      "GMI: 5.99 bits\n",
      "channel 0\t fc : 193.1000 THz\n",
      "  mode #0\t power: 0.00 dBm\n",
      "channel 0\t power: -0.00 dBm\n",
      "\n",
      "total WDM dignal power: -0.00 dBm\n",
      "Demodulating channel #0 , fc: 193.1000 THz, λ: 1552.5244 nm\n",
      "\n",
      "Local oscillator P: 12.00 dBm, lw: 0.00 kHz, FO: 17000.00 MHz\n",
      "CSPR = 12.00 dB\n",
      "\n",
      "\n",
      "nlms - training stage #0\n"
     ]
    },
    {
     "data": {
      "application/vnd.jupyter.widget-view+json": {
       "model_id": "69eca22fefaf46468ef512232457b272",
       "version_major": 2,
       "version_minor": 0
      },
      "text/plain": [
       "  0%|          | 0/5 [00:00<?, ?it/s]"
      ]
     },
     "metadata": {},
     "output_type": "display_data"
    },
    {
     "name": "stdout",
     "output_type": "stream",
     "text": [
      "nlms pre-convergence training iteration #0\n",
      "nlms MSE = 0.020086.\n",
      "nlms pre-convergence training iteration #1\n",
      "nlms MSE = 0.002555.\n",
      "nlms pre-convergence training iteration #2\n",
      "nlms MSE = 0.002080.\n",
      "nlms pre-convergence training iteration #3\n",
      "nlms MSE = 0.001835.\n",
      "nlms pre-convergence training iteration #4\n",
      "nlms MSE = 0.001686.\n",
      "\n",
      "\n",
      "dd-lms - training stage #1\n",
      "dd-lms MSE = 0.001172.\n",
      "Results:\n",
      "\n",
      "SER: 4.22e-04\n",
      "BER: 7.04e-05\n",
      "SNR: 29.19 dB\n",
      "MI: 5.99 bits\n",
      "GMI: 5.99 bits\n",
      "channel 0\t fc : 193.1000 THz\n",
      "  mode #0\t power: 0.00 dBm\n",
      "channel 0\t power: 0.00 dBm\n",
      "\n",
      "total WDM dignal power: 0.00 dBm\n",
      "Demodulating channel #0 , fc: 193.1000 THz, λ: 1552.5244 nm\n",
      "\n",
      "Local oscillator P: 12.00 dBm, lw: 0.00 kHz, FO: 17000.00 MHz\n",
      "CSPR = 12.00 dB\n",
      "\n",
      "\n",
      "nlms - training stage #0\n"
     ]
    },
    {
     "data": {
      "application/vnd.jupyter.widget-view+json": {
       "model_id": "7ba22157867f4c48b2662a0ce4a5a363",
       "version_major": 2,
       "version_minor": 0
      },
      "text/plain": [
       "  0%|          | 0/5 [00:00<?, ?it/s]"
      ]
     },
     "metadata": {},
     "output_type": "display_data"
    },
    {
     "name": "stdout",
     "output_type": "stream",
     "text": [
      "nlms pre-convergence training iteration #0\n",
      "nlms MSE = 0.022567.\n",
      "nlms pre-convergence training iteration #1\n",
      "nlms MSE = 0.005585.\n",
      "nlms pre-convergence training iteration #2\n",
      "nlms MSE = 0.004895.\n",
      "nlms pre-convergence training iteration #3\n",
      "nlms MSE = 0.004512.\n",
      "nlms pre-convergence training iteration #4\n",
      "nlms MSE = 0.004258.\n",
      "\n",
      "\n",
      "dd-lms - training stage #1\n",
      "dd-lms MSE = 0.002996.\n",
      "Results:\n",
      "\n",
      "SER: 2.00e-03\n",
      "BER: 3.37e-04\n",
      "SNR: 25.18 dB\n",
      "MI: 5.98 bits\n",
      "GMI: 5.98 bits\n",
      "channel 0\t fc : 193.1000 THz\n",
      "  mode #0\t power: 0.00 dBm\n",
      "channel 0\t power: -0.00 dBm\n",
      "\n",
      "total WDM dignal power: -0.00 dBm\n",
      "Demodulating channel #0 , fc: 193.1000 THz, λ: 1552.5244 nm\n",
      "\n",
      "Local oscillator P: 12.00 dBm, lw: 0.00 kHz, FO: 17000.00 MHz\n",
      "CSPR = 12.00 dB\n",
      "\n",
      "\n",
      "nlms - training stage #0\n"
     ]
    },
    {
     "data": {
      "application/vnd.jupyter.widget-view+json": {
       "model_id": "222f58c31e604162af91f36d2f492507",
       "version_major": 2,
       "version_minor": 0
      },
      "text/plain": [
       "  0%|          | 0/5 [00:00<?, ?it/s]"
      ]
     },
     "metadata": {},
     "output_type": "display_data"
    },
    {
     "name": "stdout",
     "output_type": "stream",
     "text": [
      "nlms pre-convergence training iteration #0\n",
      "nlms MSE = 0.027478.\n",
      "nlms pre-convergence training iteration #1\n",
      "nlms MSE = 0.008801.\n",
      "nlms pre-convergence training iteration #2\n",
      "nlms MSE = 0.007281.\n",
      "nlms pre-convergence training iteration #3\n",
      "nlms MSE = 0.006488.\n",
      "nlms pre-convergence training iteration #4\n",
      "nlms MSE = 0.005983.\n",
      "\n",
      "\n",
      "dd-lms - training stage #1\n",
      "dd-lms MSE = 0.004025.\n",
      "Results:\n",
      "\n",
      "SER: 6.49e-03\n",
      "BER: 1.10e-03\n",
      "SNR: 23.85 dB\n",
      "MI: 5.96 bits\n",
      "GMI: 5.96 bits\n",
      "channel 0\t fc : 193.1000 THz\n",
      "  mode #0\t power: 0.00 dBm\n",
      "channel 0\t power: -0.00 dBm\n",
      "\n",
      "total WDM dignal power: -0.00 dBm\n",
      "Demodulating channel #0 , fc: 193.1000 THz, λ: 1552.5244 nm\n",
      "\n",
      "Local oscillator P: 12.00 dBm, lw: 0.00 kHz, FO: 17000.00 MHz\n",
      "CSPR = 12.00 dB\n",
      "\n",
      "\n",
      "nlms - training stage #0\n"
     ]
    },
    {
     "data": {
      "application/vnd.jupyter.widget-view+json": {
       "model_id": "136212b78ff34c3f8e0a9c0dc898b08e",
       "version_major": 2,
       "version_minor": 0
      },
      "text/plain": [
       "  0%|          | 0/5 [00:00<?, ?it/s]"
      ]
     },
     "metadata": {},
     "output_type": "display_data"
    },
    {
     "name": "stdout",
     "output_type": "stream",
     "text": [
      "nlms pre-convergence training iteration #0\n",
      "nlms MSE = 0.032747.\n",
      "nlms pre-convergence training iteration #1\n",
      "nlms MSE = 0.011512.\n",
      "nlms pre-convergence training iteration #2\n",
      "nlms MSE = 0.009178.\n",
      "nlms pre-convergence training iteration #3\n",
      "nlms MSE = 0.008067.\n",
      "nlms pre-convergence training iteration #4\n",
      "nlms MSE = 0.007396.\n",
      "\n",
      "\n",
      "dd-lms - training stage #1\n",
      "dd-lms MSE = 0.005242.\n",
      "Results:\n",
      "\n",
      "SER: 1.60e-02\n",
      "BER: 2.71e-03\n",
      "SNR: 22.58 dB\n",
      "MI: 5.92 bits\n",
      "GMI: 5.91 bits\n",
      "channel 0\t fc : 193.1000 THz\n",
      "  mode #0\t power: 0.00 dBm\n",
      "channel 0\t power: -0.00 dBm\n",
      "\n",
      "total WDM dignal power: -0.00 dBm\n",
      "Demodulating channel #0 , fc: 193.1000 THz, λ: 1552.5244 nm\n",
      "\n",
      "Local oscillator P: 12.00 dBm, lw: 0.00 kHz, FO: 17000.00 MHz\n",
      "CSPR = 12.00 dB\n",
      "\n",
      "\n",
      "nlms - training stage #0\n"
     ]
    },
    {
     "data": {
      "application/vnd.jupyter.widget-view+json": {
       "model_id": "cf6a4f690b1e4b529591d5302e287aa5",
       "version_major": 2,
       "version_minor": 0
      },
      "text/plain": [
       "  0%|          | 0/5 [00:00<?, ?it/s]"
      ]
     },
     "metadata": {},
     "output_type": "display_data"
    },
    {
     "name": "stdout",
     "output_type": "stream",
     "text": [
      "nlms pre-convergence training iteration #0\n",
      "nlms MSE = 0.037569.\n",
      "nlms pre-convergence training iteration #1\n",
      "nlms MSE = 0.014166.\n",
      "nlms pre-convergence training iteration #2\n",
      "nlms MSE = 0.011178.\n",
      "nlms pre-convergence training iteration #3\n",
      "nlms MSE = 0.009804.\n",
      "nlms pre-convergence training iteration #4\n",
      "nlms MSE = 0.008984.\n",
      "\n",
      "\n",
      "dd-lms - training stage #1\n",
      "dd-lms MSE = 0.006579.\n",
      "Results:\n",
      "\n",
      "SER: 2.97e-02\n",
      "BER: 5.11e-03\n",
      "SNR: 21.47 dB\n",
      "MI: 5.86 bits\n",
      "GMI: 5.85 bits\n",
      "channel 0\t fc : 193.1000 THz\n",
      "  mode #0\t power: 0.00 dBm\n",
      "channel 0\t power: -0.00 dBm\n",
      "\n",
      "total WDM dignal power: -0.00 dBm\n",
      "Demodulating channel #0 , fc: 193.1000 THz, λ: 1552.5244 nm\n",
      "\n",
      "Local oscillator P: 12.00 dBm, lw: 0.00 kHz, FO: 17000.00 MHz\n",
      "CSPR = 12.00 dB\n",
      "\n",
      "\n",
      "nlms - training stage #0\n"
     ]
    },
    {
     "data": {
      "application/vnd.jupyter.widget-view+json": {
       "model_id": "5f93f40501c649d9aee88f6901314fdc",
       "version_major": 2,
       "version_minor": 0
      },
      "text/plain": [
       "  0%|          | 0/5 [00:00<?, ?it/s]"
      ]
     },
     "metadata": {},
     "output_type": "display_data"
    },
    {
     "name": "stdout",
     "output_type": "stream",
     "text": [
      "nlms pre-convergence training iteration #0\n",
      "nlms MSE = 0.044305.\n",
      "nlms pre-convergence training iteration #1\n",
      "nlms MSE = 0.017713.\n",
      "nlms pre-convergence training iteration #2\n",
      "nlms MSE = 0.014048.\n",
      "nlms pre-convergence training iteration #3\n",
      "nlms MSE = 0.012371.\n",
      "nlms pre-convergence training iteration #4\n",
      "nlms MSE = 0.011376.\n",
      "\n",
      "\n",
      "dd-lms - training stage #1\n",
      "dd-lms MSE = 0.008030.\n",
      "Results:\n",
      "\n",
      "SER: 5.45e-02\n",
      "BER: 9.37e-03\n",
      "SNR: 20.36 dB\n",
      "MI: 5.75 bits\n",
      "GMI: 5.75 bits\n",
      "channel 0\t fc : 193.1000 THz\n",
      "  mode #0\t power: 0.00 dBm\n",
      "channel 0\t power: 0.00 dBm\n",
      "\n",
      "total WDM dignal power: 0.00 dBm\n",
      "Demodulating channel #0 , fc: 193.1000 THz, λ: 1552.5244 nm\n",
      "\n",
      "Local oscillator P: 12.00 dBm, lw: 0.00 kHz, FO: 17000.00 MHz\n",
      "CSPR = 12.00 dB\n",
      "\n",
      "\n",
      "nlms - training stage #0\n"
     ]
    },
    {
     "data": {
      "application/vnd.jupyter.widget-view+json": {
       "model_id": "7b9f3420bdcb4298bbe125696e26e97c",
       "version_major": 2,
       "version_minor": 0
      },
      "text/plain": [
       "  0%|          | 0/5 [00:00<?, ?it/s]"
      ]
     },
     "metadata": {},
     "output_type": "display_data"
    },
    {
     "name": "stdout",
     "output_type": "stream",
     "text": [
      "nlms pre-convergence training iteration #0\n",
      "nlms MSE = 0.051197.\n",
      "nlms pre-convergence training iteration #1\n",
      "nlms MSE = 0.021852.\n",
      "nlms pre-convergence training iteration #2\n",
      "nlms MSE = 0.017443.\n",
      "nlms pre-convergence training iteration #3\n",
      "nlms MSE = 0.015398.\n",
      "nlms pre-convergence training iteration #4\n",
      "nlms MSE = 0.014181.\n",
      "\n",
      "\n",
      "dd-lms - training stage #1\n",
      "dd-lms MSE = 0.009216.\n",
      "Results:\n",
      "\n",
      "SER: 7.97e-02\n",
      "BER: 1.37e-02\n",
      "SNR: 19.52 dB\n",
      "MI: 5.65 bits\n",
      "GMI: 5.65 bits\n",
      "channel 0\t fc : 193.1000 THz\n",
      "  mode #0\t power: 0.00 dBm\n",
      "channel 0\t power: -0.00 dBm\n",
      "\n",
      "total WDM dignal power: -0.00 dBm\n",
      "Demodulating channel #0 , fc: 193.1000 THz, λ: 1552.5244 nm\n",
      "\n",
      "Local oscillator P: 12.00 dBm, lw: 0.00 kHz, FO: 17000.00 MHz\n",
      "CSPR = 12.00 dB\n",
      "\n",
      "\n",
      "nlms - training stage #0\n"
     ]
    },
    {
     "data": {
      "application/vnd.jupyter.widget-view+json": {
       "model_id": "c1a4b1e8abf84dcda878f309b0b30e12",
       "version_major": 2,
       "version_minor": 0
      },
      "text/plain": [
       "  0%|          | 0/5 [00:00<?, ?it/s]"
      ]
     },
     "metadata": {},
     "output_type": "display_data"
    },
    {
     "name": "stdout",
     "output_type": "stream",
     "text": [
      "nlms pre-convergence training iteration #0\n",
      "nlms MSE = 0.057285.\n",
      "nlms pre-convergence training iteration #1\n",
      "nlms MSE = 0.025676.\n",
      "nlms pre-convergence training iteration #2\n",
      "nlms MSE = 0.020437.\n",
      "nlms pre-convergence training iteration #3\n",
      "nlms MSE = 0.017989.\n",
      "nlms pre-convergence training iteration #4\n",
      "nlms MSE = 0.016516.\n",
      "\n",
      "\n",
      "dd-lms - training stage #1\n",
      "dd-lms MSE = 0.010685.\n",
      "Results:\n",
      "\n",
      "SER: 1.18e-01\n",
      "BER: 2.06e-02\n",
      "SNR: 18.57 dB\n",
      "MI: 5.49 bits\n",
      "GMI: 5.49 bits\n",
      "channel 0\t fc : 193.1000 THz\n",
      "  mode #0\t power: 0.00 dBm\n",
      "channel 0\t power: -0.00 dBm\n",
      "\n",
      "total WDM dignal power: -0.00 dBm\n",
      "Demodulating channel #0 , fc: 193.1000 THz, λ: 1552.5244 nm\n",
      "\n",
      "Local oscillator P: 12.00 dBm, lw: 0.00 kHz, FO: 17000.00 MHz\n",
      "CSPR = 12.00 dB\n",
      "\n",
      "\n",
      "nlms - training stage #0\n"
     ]
    },
    {
     "data": {
      "application/vnd.jupyter.widget-view+json": {
       "model_id": "498a9dc139554bf9846fc9442428a934",
       "version_major": 2,
       "version_minor": 0
      },
      "text/plain": [
       "  0%|          | 0/5 [00:00<?, ?it/s]"
      ]
     },
     "metadata": {},
     "output_type": "display_data"
    },
    {
     "name": "stdout",
     "output_type": "stream",
     "text": [
      "nlms pre-convergence training iteration #0\n",
      "nlms MSE = 0.064470.\n",
      "nlms pre-convergence training iteration #1\n",
      "nlms MSE = 0.029339.\n",
      "nlms pre-convergence training iteration #2\n",
      "nlms MSE = 0.023385.\n",
      "nlms pre-convergence training iteration #3\n",
      "nlms MSE = 0.020629.\n",
      "nlms pre-convergence training iteration #4\n",
      "nlms MSE = 0.018965.\n",
      "\n",
      "\n",
      "dd-lms - training stage #1\n",
      "dd-lms MSE = 0.011786.\n",
      "Results:\n",
      "\n",
      "SER: 1.60e-01\n",
      "BER: 2.83e-02\n",
      "SNR: 17.75 dB\n",
      "MI: 5.32 bits\n",
      "GMI: 5.32 bits\n",
      "channel 0\t fc : 193.1000 THz\n",
      "  mode #0\t power: 0.00 dBm\n",
      "channel 0\t power: -0.00 dBm\n",
      "\n",
      "total WDM dignal power: -0.00 dBm\n",
      "Demodulating channel #0 , fc: 193.1000 THz, λ: 1552.5244 nm\n",
      "\n",
      "Local oscillator P: 12.00 dBm, lw: 0.00 kHz, FO: 18000.00 MHz\n",
      "CSPR = 12.00 dB\n",
      "\n",
      "\n",
      "nlms - training stage #0\n"
     ]
    },
    {
     "data": {
      "application/vnd.jupyter.widget-view+json": {
       "model_id": "c2a57490e0a64aa181e6c43ba344ac4f",
       "version_major": 2,
       "version_minor": 0
      },
      "text/plain": [
       "  0%|          | 0/5 [00:00<?, ?it/s]"
      ]
     },
     "metadata": {},
     "output_type": "display_data"
    },
    {
     "name": "stdout",
     "output_type": "stream",
     "text": [
      "nlms pre-convergence training iteration #0\n",
      "nlms MSE = 0.022388.\n",
      "nlms pre-convergence training iteration #1\n",
      "nlms MSE = 0.002423.\n",
      "nlms pre-convergence training iteration #2\n",
      "nlms MSE = 0.002011.\n",
      "nlms pre-convergence training iteration #3\n",
      "nlms MSE = 0.001775.\n",
      "nlms pre-convergence training iteration #4\n",
      "nlms MSE = 0.001621.\n",
      "\n",
      "\n",
      "dd-lms - training stage #1\n",
      "dd-lms MSE = 0.001101.\n",
      "Results:\n",
      "\n",
      "SER: 4.89e-04\n",
      "BER: 8.52e-05\n",
      "SNR: 29.35 dB\n",
      "MI: 5.99 bits\n",
      "GMI: 5.99 bits\n",
      "channel 0\t fc : 193.1000 THz\n",
      "  mode #0\t power: 0.00 dBm\n",
      "channel 0\t power: 0.00 dBm\n",
      "\n",
      "total WDM dignal power: 0.00 dBm\n",
      "Demodulating channel #0 , fc: 193.1000 THz, λ: 1552.5244 nm\n",
      "\n",
      "Local oscillator P: 12.00 dBm, lw: 0.00 kHz, FO: 18000.00 MHz\n",
      "CSPR = 12.00 dB\n",
      "\n",
      "\n",
      "nlms - training stage #0\n"
     ]
    },
    {
     "data": {
      "application/vnd.jupyter.widget-view+json": {
       "model_id": "7559efe0c0b74ea8a86b69858330972e",
       "version_major": 2,
       "version_minor": 0
      },
      "text/plain": [
       "  0%|          | 0/5 [00:00<?, ?it/s]"
      ]
     },
     "metadata": {},
     "output_type": "display_data"
    },
    {
     "name": "stdout",
     "output_type": "stream",
     "text": [
      "nlms pre-convergence training iteration #0\n",
      "nlms MSE = 0.019749.\n",
      "nlms pre-convergence training iteration #1\n",
      "nlms MSE = 0.002527.\n",
      "nlms pre-convergence training iteration #2\n",
      "nlms MSE = 0.002072.\n",
      "nlms pre-convergence training iteration #3\n",
      "nlms MSE = 0.001832.\n",
      "nlms pre-convergence training iteration #4\n",
      "nlms MSE = 0.001683.\n",
      "\n",
      "\n",
      "dd-lms - training stage #1\n",
      "dd-lms MSE = 0.001009.\n",
      "Results:\n",
      "\n",
      "SER: 4.67e-04\n",
      "BER: 7.78e-05\n",
      "SNR: 29.73 dB\n",
      "MI: 5.99 bits\n",
      "GMI: 5.99 bits\n",
      "channel 0\t fc : 193.1000 THz\n",
      "  mode #0\t power: 0.00 dBm\n",
      "channel 0\t power: -0.00 dBm\n",
      "\n",
      "total WDM dignal power: -0.00 dBm\n",
      "Demodulating channel #0 , fc: 193.1000 THz, λ: 1552.5244 nm\n",
      "\n",
      "Local oscillator P: 12.00 dBm, lw: 0.00 kHz, FO: 18000.00 MHz\n",
      "CSPR = 12.00 dB\n",
      "\n",
      "\n",
      "nlms - training stage #0\n"
     ]
    },
    {
     "data": {
      "application/vnd.jupyter.widget-view+json": {
       "model_id": "e646c197186d41a79f349af07a200be0",
       "version_major": 2,
       "version_minor": 0
      },
      "text/plain": [
       "  0%|          | 0/5 [00:00<?, ?it/s]"
      ]
     },
     "metadata": {},
     "output_type": "display_data"
    },
    {
     "name": "stdout",
     "output_type": "stream",
     "text": [
      "nlms pre-convergence training iteration #0\n",
      "nlms MSE = 0.017503.\n",
      "nlms pre-convergence training iteration #1\n",
      "nlms MSE = 0.002743.\n",
      "nlms pre-convergence training iteration #2\n",
      "nlms MSE = 0.002532.\n",
      "nlms pre-convergence training iteration #3\n",
      "nlms MSE = 0.002391.\n",
      "nlms pre-convergence training iteration #4\n",
      "nlms MSE = 0.002291.\n",
      "\n",
      "\n",
      "dd-lms - training stage #1\n",
      "dd-lms MSE = 0.001443.\n",
      "Results:\n",
      "\n",
      "SER: 4.67e-04\n",
      "BER: 8.15e-05\n",
      "SNR: 28.33 dB\n",
      "MI: 5.99 bits\n",
      "GMI: 5.99 bits\n",
      "channel 0\t fc : 193.1000 THz\n",
      "  mode #0\t power: 0.00 dBm\n",
      "channel 0\t power: 0.00 dBm\n",
      "\n",
      "total WDM dignal power: 0.00 dBm\n",
      "Demodulating channel #0 , fc: 193.1000 THz, λ: 1552.5244 nm\n",
      "\n",
      "Local oscillator P: 12.00 dBm, lw: 0.00 kHz, FO: 18000.00 MHz\n",
      "CSPR = 12.00 dB\n",
      "\n",
      "\n",
      "nlms - training stage #0\n"
     ]
    },
    {
     "data": {
      "application/vnd.jupyter.widget-view+json": {
       "model_id": "8b811efba9044a1489588befdd9cf5ae",
       "version_major": 2,
       "version_minor": 0
      },
      "text/plain": [
       "  0%|          | 0/5 [00:00<?, ?it/s]"
      ]
     },
     "metadata": {},
     "output_type": "display_data"
    },
    {
     "name": "stdout",
     "output_type": "stream",
     "text": [
      "nlms pre-convergence training iteration #0\n",
      "nlms MSE = 0.020172.\n",
      "nlms pre-convergence training iteration #1\n",
      "nlms MSE = 0.004955.\n",
      "nlms pre-convergence training iteration #2\n",
      "nlms MSE = 0.004375.\n",
      "nlms pre-convergence training iteration #3\n",
      "nlms MSE = 0.003988.\n",
      "nlms pre-convergence training iteration #4\n",
      "nlms MSE = 0.003708.\n",
      "\n",
      "\n",
      "dd-lms - training stage #1\n",
      "dd-lms MSE = 0.002310.\n",
      "Results:\n",
      "\n",
      "SER: 9.67e-04\n",
      "BER: 1.65e-04\n",
      "SNR: 26.28 dB\n",
      "MI: 5.99 bits\n",
      "GMI: 5.99 bits\n",
      "channel 0\t fc : 193.1000 THz\n",
      "  mode #0\t power: 0.00 dBm\n",
      "channel 0\t power: -0.00 dBm\n",
      "\n",
      "total WDM dignal power: -0.00 dBm\n",
      "Demodulating channel #0 , fc: 193.1000 THz, λ: 1552.5244 nm\n",
      "\n",
      "Local oscillator P: 12.00 dBm, lw: 0.00 kHz, FO: 18000.00 MHz\n",
      "CSPR = 12.00 dB\n",
      "\n",
      "\n",
      "nlms - training stage #0\n"
     ]
    },
    {
     "data": {
      "application/vnd.jupyter.widget-view+json": {
       "model_id": "7312d66e962c4a0eb8d204507d4154f3",
       "version_major": 2,
       "version_minor": 0
      },
      "text/plain": [
       "  0%|          | 0/5 [00:00<?, ?it/s]"
      ]
     },
     "metadata": {},
     "output_type": "display_data"
    },
    {
     "name": "stdout",
     "output_type": "stream",
     "text": [
      "nlms pre-convergence training iteration #0\n",
      "nlms MSE = 0.024193.\n",
      "nlms pre-convergence training iteration #1\n",
      "nlms MSE = 0.007527.\n",
      "nlms pre-convergence training iteration #2\n",
      "nlms MSE = 0.005975.\n",
      "nlms pre-convergence training iteration #3\n",
      "nlms MSE = 0.005162.\n",
      "nlms pre-convergence training iteration #4\n",
      "nlms MSE = 0.004671.\n",
      "\n",
      "\n",
      "dd-lms - training stage #1\n",
      "dd-lms MSE = 0.003084.\n",
      "Results:\n",
      "\n",
      "SER: 2.63e-03\n",
      "BER: 4.46e-04\n",
      "SNR: 25.01 dB\n",
      "MI: 5.98 bits\n",
      "GMI: 5.98 bits\n",
      "channel 0\t fc : 193.1000 THz\n",
      "  mode #0\t power: 0.00 dBm\n",
      "channel 0\t power: -0.00 dBm\n",
      "\n",
      "total WDM dignal power: -0.00 dBm\n",
      "Demodulating channel #0 , fc: 193.1000 THz, λ: 1552.5244 nm\n",
      "\n",
      "Local oscillator P: 12.00 dBm, lw: 0.00 kHz, FO: 18000.00 MHz\n",
      "CSPR = 12.00 dB\n",
      "\n",
      "\n",
      "nlms - training stage #0\n"
     ]
    },
    {
     "data": {
      "application/vnd.jupyter.widget-view+json": {
       "model_id": "4e2e091b848b4716888407cf0e5018d5",
       "version_major": 2,
       "version_minor": 0
      },
      "text/plain": [
       "  0%|          | 0/5 [00:00<?, ?it/s]"
      ]
     },
     "metadata": {},
     "output_type": "display_data"
    },
    {
     "name": "stdout",
     "output_type": "stream",
     "text": [
      "nlms pre-convergence training iteration #0\n",
      "nlms MSE = 0.028951.\n",
      "nlms pre-convergence training iteration #1\n",
      "nlms MSE = 0.009673.\n",
      "nlms pre-convergence training iteration #2\n",
      "nlms MSE = 0.007456.\n",
      "nlms pre-convergence training iteration #3\n",
      "nlms MSE = 0.006457.\n",
      "nlms pre-convergence training iteration #4\n",
      "nlms MSE = 0.005901.\n",
      "\n",
      "\n",
      "dd-lms - training stage #1\n",
      "dd-lms MSE = 0.004229.\n",
      "Results:\n",
      "\n",
      "SER: 7.41e-03\n",
      "BER: 1.25e-03\n",
      "SNR: 23.65 dB\n",
      "MI: 5.96 bits\n",
      "GMI: 5.95 bits\n",
      "channel 0\t fc : 193.1000 THz\n",
      "  mode #0\t power: 0.00 dBm\n",
      "channel 0\t power: 0.00 dBm\n",
      "\n",
      "total WDM dignal power: 0.00 dBm\n",
      "Demodulating channel #0 , fc: 193.1000 THz, λ: 1552.5244 nm\n",
      "\n",
      "Local oscillator P: 12.00 dBm, lw: 0.00 kHz, FO: 18000.00 MHz\n",
      "CSPR = 12.00 dB\n",
      "\n",
      "\n",
      "nlms - training stage #0\n"
     ]
    },
    {
     "data": {
      "application/vnd.jupyter.widget-view+json": {
       "model_id": "f48a653b0853464b87ffa75d4b77c704",
       "version_major": 2,
       "version_minor": 0
      },
      "text/plain": [
       "  0%|          | 0/5 [00:00<?, ?it/s]"
      ]
     },
     "metadata": {},
     "output_type": "display_data"
    },
    {
     "name": "stdout",
     "output_type": "stream",
     "text": [
      "nlms pre-convergence training iteration #0\n",
      "nlms MSE = 0.033984.\n",
      "nlms pre-convergence training iteration #1\n",
      "nlms MSE = 0.012341.\n",
      "nlms pre-convergence training iteration #2\n",
      "nlms MSE = 0.009448.\n",
      "nlms pre-convergence training iteration #3\n",
      "nlms MSE = 0.008214.\n",
      "nlms pre-convergence training iteration #4\n",
      "nlms MSE = 0.007533.\n",
      "\n",
      "\n",
      "dd-lms - training stage #1\n",
      "dd-lms MSE = 0.005502.\n",
      "Results:\n",
      "\n",
      "SER: 1.70e-02\n",
      "BER: 2.88e-03\n",
      "SNR: 22.38 dB\n",
      "MI: 5.91 bits\n",
      "GMI: 5.91 bits\n",
      "channel 0\t fc : 193.1000 THz\n",
      "  mode #0\t power: 0.00 dBm\n",
      "channel 0\t power: -0.00 dBm\n",
      "\n",
      "total WDM dignal power: -0.00 dBm\n",
      "Demodulating channel #0 , fc: 193.1000 THz, λ: 1552.5244 nm\n",
      "\n",
      "Local oscillator P: 12.00 dBm, lw: 0.00 kHz, FO: 18000.00 MHz\n",
      "CSPR = 12.00 dB\n",
      "\n",
      "\n",
      "nlms - training stage #0\n"
     ]
    },
    {
     "data": {
      "application/vnd.jupyter.widget-view+json": {
       "model_id": "a199e1888d5d42408189f9c940b3d5c2",
       "version_major": 2,
       "version_minor": 0
      },
      "text/plain": [
       "  0%|          | 0/5 [00:00<?, ?it/s]"
      ]
     },
     "metadata": {},
     "output_type": "display_data"
    },
    {
     "name": "stdout",
     "output_type": "stream",
     "text": [
      "nlms pre-convergence training iteration #0\n",
      "nlms MSE = 0.039736.\n",
      "nlms pre-convergence training iteration #1\n",
      "nlms MSE = 0.015273.\n",
      "nlms pre-convergence training iteration #2\n",
      "nlms MSE = 0.011798.\n",
      "nlms pre-convergence training iteration #3\n",
      "nlms MSE = 0.010320.\n",
      "nlms pre-convergence training iteration #4\n",
      "nlms MSE = 0.009486.\n",
      "\n",
      "\n",
      "dd-lms - training stage #1\n",
      "dd-lms MSE = 0.006779.\n",
      "Results:\n",
      "\n",
      "SER: 3.24e-02\n",
      "BER: 5.53e-03\n",
      "SNR: 21.29 dB\n",
      "MI: 5.84 bits\n",
      "GMI: 5.84 bits\n",
      "channel 0\t fc : 193.1000 THz\n",
      "  mode #0\t power: 0.00 dBm\n",
      "channel 0\t power: -0.00 dBm\n",
      "\n",
      "total WDM dignal power: -0.00 dBm\n",
      "Demodulating channel #0 , fc: 193.1000 THz, λ: 1552.5244 nm\n",
      "\n",
      "Local oscillator P: 12.00 dBm, lw: 0.00 kHz, FO: 18000.00 MHz\n",
      "CSPR = 12.00 dB\n",
      "\n",
      "\n",
      "nlms - training stage #0\n"
     ]
    },
    {
     "data": {
      "application/vnd.jupyter.widget-view+json": {
       "model_id": "75cebb8d96b44b0eb00ff001442dcfe5",
       "version_major": 2,
       "version_minor": 0
      },
      "text/plain": [
       "  0%|          | 0/5 [00:00<?, ?it/s]"
      ]
     },
     "metadata": {},
     "output_type": "display_data"
    },
    {
     "name": "stdout",
     "output_type": "stream",
     "text": [
      "nlms pre-convergence training iteration #0\n",
      "nlms MSE = 0.045702.\n",
      "nlms pre-convergence training iteration #1\n",
      "nlms MSE = 0.018905.\n",
      "nlms pre-convergence training iteration #2\n",
      "nlms MSE = 0.014822.\n",
      "nlms pre-convergence training iteration #3\n",
      "nlms MSE = 0.013013.\n",
      "nlms pre-convergence training iteration #4\n",
      "nlms MSE = 0.011958.\n",
      "\n",
      "\n",
      "dd-lms - training stage #1\n",
      "dd-lms MSE = 0.008062.\n",
      "Results:\n",
      "\n",
      "SER: 5.43e-02\n",
      "BER: 9.35e-03\n",
      "SNR: 20.30 dB\n",
      "MI: 5.75 bits\n",
      "GMI: 5.75 bits\n",
      "channel 0\t fc : 193.1000 THz\n",
      "  mode #0\t power: 0.00 dBm\n",
      "channel 0\t power: 0.00 dBm\n",
      "\n",
      "total WDM dignal power: 0.00 dBm\n",
      "Demodulating channel #0 , fc: 193.1000 THz, λ: 1552.5244 nm\n",
      "\n",
      "Local oscillator P: 12.00 dBm, lw: 0.00 kHz, FO: 18000.00 MHz\n",
      "CSPR = 12.00 dB\n",
      "\n",
      "\n",
      "nlms - training stage #0\n"
     ]
    },
    {
     "data": {
      "application/vnd.jupyter.widget-view+json": {
       "model_id": "ed8559782c71495ba396350a5eee97ea",
       "version_major": 2,
       "version_minor": 0
      },
      "text/plain": [
       "  0%|          | 0/5 [00:00<?, ?it/s]"
      ]
     },
     "metadata": {},
     "output_type": "display_data"
    },
    {
     "name": "stdout",
     "output_type": "stream",
     "text": [
      "nlms pre-convergence training iteration #0\n",
      "nlms MSE = 0.051931.\n",
      "nlms pre-convergence training iteration #1\n",
      "nlms MSE = 0.022429.\n",
      "nlms pre-convergence training iteration #2\n",
      "nlms MSE = 0.017659.\n",
      "nlms pre-convergence training iteration #3\n",
      "nlms MSE = 0.015517.\n",
      "nlms pre-convergence training iteration #4\n",
      "nlms MSE = 0.014253.\n",
      "\n",
      "\n",
      "dd-lms - training stage #1\n",
      "dd-lms MSE = 0.009448.\n",
      "Results:\n",
      "\n",
      "SER: 8.25e-02\n",
      "BER: 1.42e-02\n",
      "SNR: 19.41 dB\n",
      "MI: 5.64 bits\n",
      "GMI: 5.64 bits\n",
      "channel 0\t fc : 193.1000 THz\n",
      "  mode #0\t power: 0.00 dBm\n",
      "channel 0\t power: 0.00 dBm\n",
      "\n",
      "total WDM dignal power: 0.00 dBm\n",
      "Demodulating channel #0 , fc: 193.1000 THz, λ: 1552.5244 nm\n",
      "\n",
      "Local oscillator P: 12.00 dBm, lw: 0.00 kHz, FO: 19000.00 MHz\n",
      "CSPR = 12.00 dB\n",
      "\n",
      "\n",
      "nlms - training stage #0\n"
     ]
    },
    {
     "data": {
      "application/vnd.jupyter.widget-view+json": {
       "model_id": "dc0a7cdc2b0542ddba0d396a75e48802",
       "version_major": 2,
       "version_minor": 0
      },
      "text/plain": [
       "  0%|          | 0/5 [00:00<?, ?it/s]"
      ]
     },
     "metadata": {},
     "output_type": "display_data"
    },
    {
     "name": "stdout",
     "output_type": "stream",
     "text": [
      "nlms pre-convergence training iteration #0\n",
      "nlms MSE = 0.022325.\n",
      "nlms pre-convergence training iteration #1\n",
      "nlms MSE = 0.002652.\n",
      "nlms pre-convergence training iteration #2\n",
      "nlms MSE = 0.002258.\n",
      "nlms pre-convergence training iteration #3\n",
      "nlms MSE = 0.002033.\n",
      "nlms pre-convergence training iteration #4\n",
      "nlms MSE = 0.001884.\n",
      "\n",
      "\n",
      "dd-lms - training stage #1\n",
      "dd-lms MSE = 0.001265.\n",
      "Results:\n",
      "\n",
      "SER: 6.67e-04\n",
      "BER: 1.13e-04\n",
      "SNR: 28.80 dB\n",
      "MI: 5.99 bits\n",
      "GMI: 5.98 bits\n",
      "channel 0\t fc : 193.1000 THz\n",
      "  mode #0\t power: 0.00 dBm\n",
      "channel 0\t power: -0.00 dBm\n",
      "\n",
      "total WDM dignal power: -0.00 dBm\n",
      "Demodulating channel #0 , fc: 193.1000 THz, λ: 1552.5244 nm\n",
      "\n",
      "Local oscillator P: 12.00 dBm, lw: 0.00 kHz, FO: 19000.00 MHz\n",
      "CSPR = 12.00 dB\n",
      "\n",
      "\n",
      "nlms - training stage #0\n"
     ]
    },
    {
     "data": {
      "application/vnd.jupyter.widget-view+json": {
       "model_id": "84598f0114ed4f7091b6cd8b11b16e78",
       "version_major": 2,
       "version_minor": 0
      },
      "text/plain": [
       "  0%|          | 0/5 [00:00<?, ?it/s]"
      ]
     },
     "metadata": {},
     "output_type": "display_data"
    },
    {
     "name": "stdout",
     "output_type": "stream",
     "text": [
      "nlms pre-convergence training iteration #0\n",
      "nlms MSE = 0.020430.\n",
      "nlms pre-convergence training iteration #1\n",
      "nlms MSE = 0.002579.\n",
      "nlms pre-convergence training iteration #2\n",
      "nlms MSE = 0.002115.\n",
      "nlms pre-convergence training iteration #3\n",
      "nlms MSE = 0.001869.\n",
      "nlms pre-convergence training iteration #4\n",
      "nlms MSE = 0.001717.\n",
      "\n",
      "\n",
      "dd-lms - training stage #1\n",
      "dd-lms MSE = 0.001164.\n",
      "Results:\n",
      "\n",
      "SER: 7.11e-04\n",
      "BER: 1.24e-04\n",
      "SNR: 29.13 dB\n",
      "MI: 5.99 bits\n",
      "GMI: 5.99 bits\n",
      "channel 0\t fc : 193.1000 THz\n",
      "  mode #0\t power: 0.00 dBm\n",
      "channel 0\t power: 0.00 dBm\n",
      "\n",
      "total WDM dignal power: 0.00 dBm\n",
      "Demodulating channel #0 , fc: 193.1000 THz, λ: 1552.5244 nm\n",
      "\n",
      "Local oscillator P: 12.00 dBm, lw: 0.00 kHz, FO: 19000.00 MHz\n",
      "CSPR = 12.00 dB\n",
      "\n",
      "\n",
      "nlms - training stage #0\n"
     ]
    },
    {
     "data": {
      "application/vnd.jupyter.widget-view+json": {
       "model_id": "47825b6ff95e478fb9bd328a51cb5293",
       "version_major": 2,
       "version_minor": 0
      },
      "text/plain": [
       "  0%|          | 0/5 [00:00<?, ?it/s]"
      ]
     },
     "metadata": {},
     "output_type": "display_data"
    },
    {
     "name": "stdout",
     "output_type": "stream",
     "text": [
      "nlms pre-convergence training iteration #0\n",
      "nlms MSE = 0.017001.\n",
      "nlms pre-convergence training iteration #1\n",
      "nlms MSE = 0.002140.\n",
      "nlms pre-convergence training iteration #2\n",
      "nlms MSE = 0.001968.\n",
      "nlms pre-convergence training iteration #3\n",
      "nlms MSE = 0.001845.\n",
      "nlms pre-convergence training iteration #4\n",
      "nlms MSE = 0.001756.\n",
      "\n",
      "\n",
      "dd-lms - training stage #1\n",
      "dd-lms MSE = 0.001252.\n",
      "Results:\n",
      "\n",
      "SER: 6.22e-04\n",
      "BER: 1.04e-04\n",
      "SNR: 28.85 dB\n",
      "MI: 5.99 bits\n",
      "GMI: 5.99 bits\n",
      "channel 0\t fc : 193.1000 THz\n",
      "  mode #0\t power: 0.00 dBm\n",
      "channel 0\t power: -0.00 dBm\n",
      "\n",
      "total WDM dignal power: -0.00 dBm\n",
      "Demodulating channel #0 , fc: 193.1000 THz, λ: 1552.5244 nm\n",
      "\n",
      "Local oscillator P: 12.00 dBm, lw: 0.00 kHz, FO: 19000.00 MHz\n",
      "CSPR = 12.00 dB\n",
      "\n",
      "\n",
      "nlms - training stage #0\n"
     ]
    },
    {
     "data": {
      "application/vnd.jupyter.widget-view+json": {
       "model_id": "95a2d75130b24cfb9377d4ce5a144368",
       "version_major": 2,
       "version_minor": 0
      },
      "text/plain": [
       "  0%|          | 0/5 [00:00<?, ?it/s]"
      ]
     },
     "metadata": {},
     "output_type": "display_data"
    },
    {
     "name": "stdout",
     "output_type": "stream",
     "text": [
      "nlms pre-convergence training iteration #0\n",
      "nlms MSE = 0.016517.\n",
      "nlms pre-convergence training iteration #1\n",
      "nlms MSE = 0.002630.\n",
      "nlms pre-convergence training iteration #2\n",
      "nlms MSE = 0.002551.\n",
      "nlms pre-convergence training iteration #3\n",
      "nlms MSE = 0.002482.\n",
      "nlms pre-convergence training iteration #4\n",
      "nlms MSE = 0.002422.\n",
      "\n",
      "\n",
      "dd-lms - training stage #1\n",
      "dd-lms MSE = 0.001713.\n",
      "Results:\n",
      "\n",
      "SER: 7.78e-04\n",
      "BER: 1.35e-04\n",
      "SNR: 27.55 dB\n",
      "MI: 5.99 bits\n",
      "GMI: 5.99 bits\n",
      "channel 0\t fc : 193.1000 THz\n",
      "  mode #0\t power: 0.00 dBm\n",
      "channel 0\t power: 0.00 dBm\n",
      "\n",
      "total WDM dignal power: 0.00 dBm\n",
      "Demodulating channel #0 , fc: 193.1000 THz, λ: 1552.5244 nm\n",
      "\n",
      "Local oscillator P: 12.00 dBm, lw: 0.00 kHz, FO: 19000.00 MHz\n",
      "CSPR = 12.00 dB\n",
      "\n",
      "\n",
      "nlms - training stage #0\n"
     ]
    },
    {
     "data": {
      "application/vnd.jupyter.widget-view+json": {
       "model_id": "031477f810124ddaa85c0b8f793c8482",
       "version_major": 2,
       "version_minor": 0
      },
      "text/plain": [
       "  0%|          | 0/5 [00:00<?, ?it/s]"
      ]
     },
     "metadata": {},
     "output_type": "display_data"
    },
    {
     "name": "stdout",
     "output_type": "stream",
     "text": [
      "nlms pre-convergence training iteration #0\n",
      "nlms MSE = 0.018663.\n",
      "nlms pre-convergence training iteration #1\n",
      "nlms MSE = 0.004795.\n",
      "nlms pre-convergence training iteration #2\n",
      "nlms MSE = 0.004213.\n",
      "nlms pre-convergence training iteration #3\n",
      "nlms MSE = 0.003808.\n",
      "nlms pre-convergence training iteration #4\n",
      "nlms MSE = 0.003511.\n",
      "\n",
      "\n",
      "dd-lms - training stage #1\n",
      "dd-lms MSE = 0.002205.\n",
      "Results:\n",
      "\n",
      "SER: 1.38e-03\n",
      "BER: 2.31e-04\n",
      "SNR: 26.42 dB\n",
      "MI: 5.99 bits\n",
      "GMI: 5.98 bits\n",
      "channel 0\t fc : 193.1000 THz\n",
      "  mode #0\t power: 0.00 dBm\n",
      "channel 0\t power: 0.00 dBm\n",
      "\n",
      "total WDM dignal power: 0.00 dBm\n",
      "Demodulating channel #0 , fc: 193.1000 THz, λ: 1552.5244 nm\n",
      "\n",
      "Local oscillator P: 12.00 dBm, lw: 0.00 kHz, FO: 19000.00 MHz\n",
      "CSPR = 12.00 dB\n",
      "\n",
      "\n",
      "nlms - training stage #0\n"
     ]
    },
    {
     "data": {
      "application/vnd.jupyter.widget-view+json": {
       "model_id": "14615bd1c1ff47b591591a6733642125",
       "version_major": 2,
       "version_minor": 0
      },
      "text/plain": [
       "  0%|          | 0/5 [00:00<?, ?it/s]"
      ]
     },
     "metadata": {},
     "output_type": "display_data"
    },
    {
     "name": "stdout",
     "output_type": "stream",
     "text": [
      "nlms pre-convergence training iteration #0\n",
      "nlms MSE = 0.022574.\n",
      "nlms pre-convergence training iteration #1\n",
      "nlms MSE = 0.007157.\n",
      "nlms pre-convergence training iteration #2\n",
      "nlms MSE = 0.005690.\n",
      "nlms pre-convergence training iteration #3\n",
      "nlms MSE = 0.004921.\n",
      "nlms pre-convergence training iteration #4\n",
      "nlms MSE = 0.004475.\n",
      "\n",
      "\n",
      "dd-lms - training stage #1\n",
      "dd-lms MSE = 0.002905.\n",
      "Results:\n",
      "\n",
      "SER: 2.22e-03\n",
      "BER: 3.72e-04\n",
      "SNR: 25.29 dB\n",
      "MI: 5.98 bits\n",
      "GMI: 5.98 bits\n",
      "channel 0\t fc : 193.1000 THz\n",
      "  mode #0\t power: 0.00 dBm\n",
      "channel 0\t power: -0.00 dBm\n",
      "\n",
      "total WDM dignal power: -0.00 dBm\n",
      "Demodulating channel #0 , fc: 193.1000 THz, λ: 1552.5244 nm\n",
      "\n",
      "Local oscillator P: 12.00 dBm, lw: 0.00 kHz, FO: 19000.00 MHz\n",
      "CSPR = 12.00 dB\n",
      "\n",
      "\n",
      "nlms - training stage #0\n"
     ]
    },
    {
     "data": {
      "application/vnd.jupyter.widget-view+json": {
       "model_id": "948f688b66084f799e49a1f6bccdb2f5",
       "version_major": 2,
       "version_minor": 0
      },
      "text/plain": [
       "  0%|          | 0/5 [00:00<?, ?it/s]"
      ]
     },
     "metadata": {},
     "output_type": "display_data"
    },
    {
     "name": "stdout",
     "output_type": "stream",
     "text": [
      "nlms pre-convergence training iteration #0\n",
      "nlms MSE = 0.026422.\n",
      "nlms pre-convergence training iteration #1\n",
      "nlms MSE = 0.008924.\n",
      "nlms pre-convergence training iteration #2\n",
      "nlms MSE = 0.006760.\n",
      "nlms pre-convergence training iteration #3\n",
      "nlms MSE = 0.005806.\n",
      "nlms pre-convergence training iteration #4\n",
      "nlms MSE = 0.005312.\n",
      "\n",
      "\n",
      "dd-lms - training stage #1\n",
      "dd-lms MSE = 0.003915.\n",
      "Results:\n",
      "\n",
      "SER: 6.13e-03\n",
      "BER: 1.03e-03\n",
      "SNR: 23.94 dB\n",
      "MI: 5.96 bits\n",
      "GMI: 5.96 bits\n",
      "channel 0\t fc : 193.1000 THz\n",
      "  mode #0\t power: 0.00 dBm\n",
      "channel 0\t power: -0.00 dBm\n",
      "\n",
      "total WDM dignal power: -0.00 dBm\n",
      "Demodulating channel #0 , fc: 193.1000 THz, λ: 1552.5244 nm\n",
      "\n",
      "Local oscillator P: 12.00 dBm, lw: 0.00 kHz, FO: 19000.00 MHz\n",
      "CSPR = 12.00 dB\n",
      "\n",
      "\n",
      "nlms - training stage #0\n"
     ]
    },
    {
     "data": {
      "application/vnd.jupyter.widget-view+json": {
       "model_id": "4d3e2843371046be840cff9db8fb32d6",
       "version_major": 2,
       "version_minor": 0
      },
      "text/plain": [
       "  0%|          | 0/5 [00:00<?, ?it/s]"
      ]
     },
     "metadata": {},
     "output_type": "display_data"
    },
    {
     "name": "stdout",
     "output_type": "stream",
     "text": [
      "nlms pre-convergence training iteration #0\n",
      "nlms MSE = 0.031111.\n",
      "nlms pre-convergence training iteration #1\n",
      "nlms MSE = 0.011100.\n",
      "nlms pre-convergence training iteration #2\n",
      "nlms MSE = 0.008469.\n",
      "nlms pre-convergence training iteration #3\n",
      "nlms MSE = 0.007411.\n",
      "nlms pre-convergence training iteration #4\n",
      "nlms MSE = 0.006854.\n",
      "\n",
      "\n",
      "dd-lms - training stage #1\n",
      "dd-lms MSE = 0.005032.\n",
      "Results:\n",
      "\n",
      "SER: 1.26e-02\n",
      "BER: 2.13e-03\n",
      "SNR: 22.79 dB\n",
      "MI: 5.93 bits\n",
      "GMI: 5.93 bits\n",
      "channel 0\t fc : 193.1000 THz\n",
      "  mode #0\t power: 0.00 dBm\n",
      "channel 0\t power: -0.00 dBm\n",
      "\n",
      "total WDM dignal power: -0.00 dBm\n",
      "Demodulating channel #0 , fc: 193.1000 THz, λ: 1552.5244 nm\n",
      "\n",
      "Local oscillator P: 12.00 dBm, lw: 0.00 kHz, FO: 19000.00 MHz\n",
      "CSPR = 12.00 dB\n",
      "\n",
      "\n",
      "nlms - training stage #0\n"
     ]
    },
    {
     "data": {
      "application/vnd.jupyter.widget-view+json": {
       "model_id": "efd28f32ca6343d3b2188ec85b335780",
       "version_major": 2,
       "version_minor": 0
      },
      "text/plain": [
       "  0%|          | 0/5 [00:00<?, ?it/s]"
      ]
     },
     "metadata": {},
     "output_type": "display_data"
    },
    {
     "name": "stdout",
     "output_type": "stream",
     "text": [
      "nlms pre-convergence training iteration #0\n",
      "nlms MSE = 0.036033.\n",
      "nlms pre-convergence training iteration #1\n",
      "nlms MSE = 0.013994.\n",
      "nlms pre-convergence training iteration #2\n",
      "nlms MSE = 0.010793.\n",
      "nlms pre-convergence training iteration #3\n",
      "nlms MSE = 0.009477.\n",
      "nlms pre-convergence training iteration #4\n",
      "nlms MSE = 0.008751.\n",
      "\n",
      "\n",
      "dd-lms - training stage #1\n",
      "dd-lms MSE = 0.006283.\n",
      "Results:\n",
      "\n",
      "SER: 2.70e-02\n",
      "BER: 4.65e-03\n",
      "SNR: 21.65 dB\n",
      "MI: 5.87 bits\n",
      "GMI: 5.87 bits\n",
      "channel 0\t fc : 193.1000 THz\n",
      "  mode #0\t power: 0.00 dBm\n",
      "channel 0\t power: -0.00 dBm\n",
      "\n",
      "total WDM dignal power: -0.00 dBm\n",
      "Demodulating channel #0 , fc: 193.1000 THz, λ: 1552.5244 nm\n",
      "\n",
      "Local oscillator P: 12.00 dBm, lw: 0.00 kHz, FO: 19000.00 MHz\n",
      "CSPR = 12.00 dB\n",
      "\n",
      "\n",
      "nlms - training stage #0\n"
     ]
    },
    {
     "data": {
      "application/vnd.jupyter.widget-view+json": {
       "model_id": "cd887109712e4f16912709cfeac6bfc7",
       "version_major": 2,
       "version_minor": 0
      },
      "text/plain": [
       "  0%|          | 0/5 [00:00<?, ?it/s]"
      ]
     },
     "metadata": {},
     "output_type": "display_data"
    },
    {
     "name": "stdout",
     "output_type": "stream",
     "text": [
      "nlms pre-convergence training iteration #0\n",
      "nlms MSE = 0.041384.\n",
      "nlms pre-convergence training iteration #1\n",
      "nlms MSE = 0.016911.\n",
      "nlms pre-convergence training iteration #2\n",
      "nlms MSE = 0.013182.\n",
      "nlms pre-convergence training iteration #3\n",
      "nlms MSE = 0.011572.\n",
      "nlms pre-convergence training iteration #4\n",
      "nlms MSE = 0.010635.\n",
      "\n",
      "\n",
      "dd-lms - training stage #1\n",
      "dd-lms MSE = 0.007485.\n",
      "Results:\n",
      "\n",
      "SER: 4.46e-02\n",
      "BER: 7.66e-03\n",
      "SNR: 20.73 dB\n",
      "MI: 5.80 bits\n",
      "GMI: 5.79 bits\n",
      "channel 0\t fc : 193.1000 THz\n",
      "  mode #0\t power: 0.00 dBm\n",
      "channel 0\t power: -0.00 dBm\n",
      "\n",
      "total WDM dignal power: -0.00 dBm\n",
      "Demodulating channel #0 , fc: 193.1000 THz, λ: 1552.5244 nm\n",
      "\n",
      "Local oscillator P: 12.00 dBm, lw: 0.00 kHz, FO: 20000.00 MHz\n",
      "CSPR = 12.00 dB\n",
      "\n",
      "\n",
      "nlms - training stage #0\n"
     ]
    },
    {
     "data": {
      "application/vnd.jupyter.widget-view+json": {
       "model_id": "d834935cfcb44df5b800af229db7b2b7",
       "version_major": 2,
       "version_minor": 0
      },
      "text/plain": [
       "  0%|          | 0/5 [00:00<?, ?it/s]"
      ]
     },
     "metadata": {},
     "output_type": "display_data"
    },
    {
     "name": "stdout",
     "output_type": "stream",
     "text": [
      "nlms pre-convergence training iteration #0\n",
      "nlms MSE = 0.022253.\n",
      "nlms pre-convergence training iteration #1\n",
      "nlms MSE = 0.002784.\n",
      "nlms pre-convergence training iteration #2\n",
      "nlms MSE = 0.002373.\n",
      "nlms pre-convergence training iteration #3\n",
      "nlms MSE = 0.002137.\n",
      "nlms pre-convergence training iteration #4\n",
      "nlms MSE = 0.001982.\n",
      "\n",
      "\n",
      "dd-lms - training stage #1\n",
      "dd-lms MSE = 0.001473.\n",
      "Results:\n",
      "\n",
      "SER: 9.89e-04\n",
      "BER: 1.69e-04\n",
      "SNR: 28.14 dB\n",
      "MI: 5.98 bits\n",
      "GMI: 5.98 bits\n",
      "channel 0\t fc : 193.1000 THz\n",
      "  mode #0\t power: 0.00 dBm\n",
      "channel 0\t power: 0.00 dBm\n",
      "\n",
      "total WDM dignal power: 0.00 dBm\n",
      "Demodulating channel #0 , fc: 193.1000 THz, λ: 1552.5244 nm\n",
      "\n",
      "Local oscillator P: 12.00 dBm, lw: 0.00 kHz, FO: 20000.00 MHz\n",
      "CSPR = 12.00 dB\n",
      "\n",
      "\n",
      "nlms - training stage #0\n"
     ]
    },
    {
     "data": {
      "application/vnd.jupyter.widget-view+json": {
       "model_id": "09baca55706841ef9ccfc5e2887648f2",
       "version_major": 2,
       "version_minor": 0
      },
      "text/plain": [
       "  0%|          | 0/5 [00:00<?, ?it/s]"
      ]
     },
     "metadata": {},
     "output_type": "display_data"
    },
    {
     "name": "stdout",
     "output_type": "stream",
     "text": [
      "nlms pre-convergence training iteration #0\n",
      "nlms MSE = 0.020701.\n",
      "nlms pre-convergence training iteration #1\n",
      "nlms MSE = 0.002753.\n",
      "nlms pre-convergence training iteration #2\n",
      "nlms MSE = 0.002280.\n",
      "nlms pre-convergence training iteration #3\n",
      "nlms MSE = 0.002025.\n",
      "nlms pre-convergence training iteration #4\n",
      "nlms MSE = 0.001866.\n",
      "\n",
      "\n",
      "dd-lms - training stage #1\n",
      "dd-lms MSE = 0.001357.\n",
      "Results:\n",
      "\n",
      "SER: 1.03e-03\n",
      "BER: 1.74e-04\n",
      "SNR: 28.46 dB\n",
      "MI: 5.98 bits\n",
      "GMI: 5.98 bits\n",
      "channel 0\t fc : 193.1000 THz\n",
      "  mode #0\t power: 0.00 dBm\n",
      "channel 0\t power: 0.00 dBm\n",
      "\n",
      "total WDM dignal power: 0.00 dBm\n",
      "Demodulating channel #0 , fc: 193.1000 THz, λ: 1552.5244 nm\n",
      "\n",
      "Local oscillator P: 12.00 dBm, lw: 0.00 kHz, FO: 20000.00 MHz\n",
      "CSPR = 12.00 dB\n",
      "\n",
      "\n",
      "nlms - training stage #0\n"
     ]
    },
    {
     "data": {
      "application/vnd.jupyter.widget-view+json": {
       "model_id": "c7d58b916dca484f9a9a57c0ccf303e6",
       "version_major": 2,
       "version_minor": 0
      },
      "text/plain": [
       "  0%|          | 0/5 [00:00<?, ?it/s]"
      ]
     },
     "metadata": {},
     "output_type": "display_data"
    },
    {
     "name": "stdout",
     "output_type": "stream",
     "text": [
      "nlms pre-convergence training iteration #0\n",
      "nlms MSE = 0.017627.\n",
      "nlms pre-convergence training iteration #1\n",
      "nlms MSE = 0.002442.\n",
      "nlms pre-convergence training iteration #2\n",
      "nlms MSE = 0.002267.\n",
      "nlms pre-convergence training iteration #3\n",
      "nlms MSE = 0.002144.\n",
      "nlms pre-convergence training iteration #4\n",
      "nlms MSE = 0.002055.\n",
      "\n",
      "\n",
      "dd-lms - training stage #1\n",
      "dd-lms MSE = 0.001496.\n",
      "Results:\n",
      "\n",
      "SER: 1.07e-03\n",
      "BER: 1.85e-04\n",
      "SNR: 28.11 dB\n",
      "MI: 5.98 bits\n",
      "GMI: 5.98 bits\n",
      "channel 0\t fc : 193.1000 THz\n",
      "  mode #0\t power: 0.00 dBm\n",
      "channel 0\t power: -0.00 dBm\n",
      "\n",
      "total WDM dignal power: -0.00 dBm\n",
      "Demodulating channel #0 , fc: 193.1000 THz, λ: 1552.5244 nm\n",
      "\n",
      "Local oscillator P: 12.00 dBm, lw: 0.00 kHz, FO: 20000.00 MHz\n",
      "CSPR = 12.00 dB\n",
      "\n",
      "\n",
      "nlms - training stage #0\n"
     ]
    },
    {
     "data": {
      "application/vnd.jupyter.widget-view+json": {
       "model_id": "ba9ee1b31d974e55b53d5dc4bb41943e",
       "version_major": 2,
       "version_minor": 0
      },
      "text/plain": [
       "  0%|          | 0/5 [00:00<?, ?it/s]"
      ]
     },
     "metadata": {},
     "output_type": "display_data"
    },
    {
     "name": "stdout",
     "output_type": "stream",
     "text": [
      "nlms pre-convergence training iteration #0\n",
      "nlms MSE = 0.015609.\n",
      "nlms pre-convergence training iteration #1\n",
      "nlms MSE = 0.002177.\n",
      "nlms pre-convergence training iteration #2\n",
      "nlms MSE = 0.002142.\n",
      "nlms pre-convergence training iteration #3\n",
      "nlms MSE = 0.002110.\n",
      "nlms pre-convergence training iteration #4\n",
      "nlms MSE = 0.002081.\n",
      "\n",
      "\n",
      "dd-lms - training stage #1\n",
      "dd-lms MSE = 0.001642.\n",
      "Results:\n",
      "\n",
      "SER: 1.23e-03\n",
      "BER: 2.06e-04\n",
      "SNR: 27.72 dB\n",
      "MI: 5.98 bits\n",
      "GMI: 5.98 bits\n",
      "channel 0\t fc : 193.1000 THz\n",
      "  mode #0\t power: 0.00 dBm\n",
      "channel 0\t power: -0.00 dBm\n",
      "\n",
      "total WDM dignal power: -0.00 dBm\n",
      "Demodulating channel #0 , fc: 193.1000 THz, λ: 1552.5244 nm\n",
      "\n",
      "Local oscillator P: 12.00 dBm, lw: 0.00 kHz, FO: 20000.00 MHz\n",
      "CSPR = 12.00 dB\n",
      "\n",
      "\n",
      "nlms - training stage #0\n"
     ]
    },
    {
     "data": {
      "application/vnd.jupyter.widget-view+json": {
       "model_id": "607819b296464aad85d87aa80dc75a5c",
       "version_major": 2,
       "version_minor": 0
      },
      "text/plain": [
       "  0%|          | 0/5 [00:00<?, ?it/s]"
      ]
     },
     "metadata": {},
     "output_type": "display_data"
    },
    {
     "name": "stdout",
     "output_type": "stream",
     "text": [
      "nlms pre-convergence training iteration #0\n",
      "nlms MSE = 0.015870.\n",
      "nlms pre-convergence training iteration #1\n",
      "nlms MSE = 0.003015.\n",
      "nlms pre-convergence training iteration #2\n",
      "nlms MSE = 0.002906.\n",
      "nlms pre-convergence training iteration #3\n",
      "nlms MSE = 0.002810.\n",
      "nlms pre-convergence training iteration #4\n",
      "nlms MSE = 0.002725.\n",
      "\n",
      "\n",
      "dd-lms - training stage #1\n",
      "dd-lms MSE = 0.002032.\n",
      "Results:\n",
      "\n",
      "SER: 1.26e-03\n",
      "BER: 2.09e-04\n",
      "SNR: 26.76 dB\n",
      "MI: 5.99 bits\n",
      "GMI: 5.99 bits\n",
      "channel 0\t fc : 193.1000 THz\n",
      "  mode #0\t power: 0.00 dBm\n",
      "channel 0\t power: -0.00 dBm\n",
      "\n",
      "total WDM dignal power: -0.00 dBm\n",
      "Demodulating channel #0 , fc: 193.1000 THz, λ: 1552.5244 nm\n",
      "\n",
      "Local oscillator P: 12.00 dBm, lw: 0.00 kHz, FO: 20000.00 MHz\n",
      "CSPR = 12.00 dB\n",
      "\n",
      "\n",
      "nlms - training stage #0\n"
     ]
    },
    {
     "data": {
      "application/vnd.jupyter.widget-view+json": {
       "model_id": "bf2d2f8ee39b40f6840b1a4e2f237e33",
       "version_major": 2,
       "version_minor": 0
      },
      "text/plain": [
       "  0%|          | 0/5 [00:00<?, ?it/s]"
      ]
     },
     "metadata": {},
     "output_type": "display_data"
    },
    {
     "name": "stdout",
     "output_type": "stream",
     "text": [
      "nlms pre-convergence training iteration #0\n",
      "nlms MSE = 0.018235.\n",
      "nlms pre-convergence training iteration #1\n",
      "nlms MSE = 0.005222.\n",
      "nlms pre-convergence training iteration #2\n",
      "nlms MSE = 0.004606.\n",
      "nlms pre-convergence training iteration #3\n",
      "nlms MSE = 0.004169.\n",
      "nlms pre-convergence training iteration #4\n",
      "nlms MSE = 0.003850.\n",
      "\n",
      "\n",
      "dd-lms - training stage #1\n",
      "dd-lms MSE = 0.002451.\n",
      "Results:\n",
      "\n",
      "SER: 1.94e-03\n",
      "BER: 3.26e-04\n",
      "SNR: 25.91 dB\n",
      "MI: 5.98 bits\n",
      "GMI: 5.98 bits\n",
      "channel 0\t fc : 193.1000 THz\n",
      "  mode #0\t power: 0.00 dBm\n",
      "channel 0\t power: -0.00 dBm\n",
      "\n",
      "total WDM dignal power: -0.00 dBm\n",
      "Demodulating channel #0 , fc: 193.1000 THz, λ: 1552.5244 nm\n",
      "\n",
      "Local oscillator P: 12.00 dBm, lw: 0.00 kHz, FO: 20000.00 MHz\n",
      "CSPR = 12.00 dB\n",
      "\n",
      "\n",
      "nlms - training stage #0\n"
     ]
    },
    {
     "data": {
      "application/vnd.jupyter.widget-view+json": {
       "model_id": "e0dc5a686b074b0f9619e0f07a024273",
       "version_major": 2,
       "version_minor": 0
      },
      "text/plain": [
       "  0%|          | 0/5 [00:00<?, ?it/s]"
      ]
     },
     "metadata": {},
     "output_type": "display_data"
    },
    {
     "name": "stdout",
     "output_type": "stream",
     "text": [
      "nlms pre-convergence training iteration #0\n",
      "nlms MSE = 0.020907.\n",
      "nlms pre-convergence training iteration #1\n",
      "nlms MSE = 0.007075.\n",
      "nlms pre-convergence training iteration #2\n",
      "nlms MSE = 0.005676.\n",
      "nlms pre-convergence training iteration #3\n",
      "nlms MSE = 0.004901.\n",
      "nlms pre-convergence training iteration #4\n",
      "nlms MSE = 0.004445.\n",
      "\n",
      "\n",
      "dd-lms - training stage #1\n",
      "dd-lms MSE = 0.003138.\n",
      "Results:\n",
      "\n",
      "SER: 3.32e-03\n",
      "BER: 5.65e-04\n",
      "SNR: 24.95 dB\n",
      "MI: 5.98 bits\n",
      "GMI: 5.97 bits\n",
      "channel 0\t fc : 193.1000 THz\n",
      "  mode #0\t power: 0.00 dBm\n",
      "channel 0\t power: 0.00 dBm\n",
      "\n",
      "total WDM dignal power: 0.00 dBm\n",
      "Demodulating channel #0 , fc: 193.1000 THz, λ: 1552.5244 nm\n",
      "\n",
      "Local oscillator P: 12.00 dBm, lw: 0.00 kHz, FO: 20000.00 MHz\n",
      "CSPR = 12.00 dB\n",
      "\n",
      "\n",
      "nlms - training stage #0\n"
     ]
    },
    {
     "data": {
      "application/vnd.jupyter.widget-view+json": {
       "model_id": "ded6fbd10e6c49d4bcd9d923bc5745ba",
       "version_major": 2,
       "version_minor": 0
      },
      "text/plain": [
       "  0%|          | 0/5 [00:00<?, ?it/s]"
      ]
     },
     "metadata": {},
     "output_type": "display_data"
    },
    {
     "name": "stdout",
     "output_type": "stream",
     "text": [
      "nlms pre-convergence training iteration #0\n",
      "nlms MSE = 0.024932.\n",
      "nlms pre-convergence training iteration #1\n",
      "nlms MSE = 0.009128.\n",
      "nlms pre-convergence training iteration #2\n",
      "nlms MSE = 0.007009.\n",
      "nlms pre-convergence training iteration #3\n",
      "nlms MSE = 0.006039.\n",
      "nlms pre-convergence training iteration #4\n",
      "nlms MSE = 0.005535.\n",
      "\n",
      "\n",
      "dd-lms - training stage #1\n",
      "dd-lms MSE = 0.004164.\n",
      "Results:\n",
      "\n",
      "SER: 7.53e-03\n",
      "BER: 1.27e-03\n",
      "SNR: 23.71 dB\n",
      "MI: 5.96 bits\n",
      "GMI: 5.95 bits\n",
      "channel 0\t fc : 193.1000 THz\n",
      "  mode #0\t power: 0.00 dBm\n",
      "channel 0\t power: -0.00 dBm\n",
      "\n",
      "total WDM dignal power: -0.00 dBm\n",
      "Demodulating channel #0 , fc: 193.1000 THz, λ: 1552.5244 nm\n",
      "\n",
      "Local oscillator P: 12.00 dBm, lw: 0.00 kHz, FO: 20000.00 MHz\n",
      "CSPR = 12.00 dB\n",
      "\n",
      "\n",
      "nlms - training stage #0\n"
     ]
    },
    {
     "data": {
      "application/vnd.jupyter.widget-view+json": {
       "model_id": "96e00ecae3154f079e36c898f167f935",
       "version_major": 2,
       "version_minor": 0
      },
      "text/plain": [
       "  0%|          | 0/5 [00:00<?, ?it/s]"
      ]
     },
     "metadata": {},
     "output_type": "display_data"
    },
    {
     "name": "stdout",
     "output_type": "stream",
     "text": [
      "nlms pre-convergence training iteration #0\n",
      "nlms MSE = 0.028901.\n",
      "nlms pre-convergence training iteration #1\n",
      "nlms MSE = 0.011217.\n",
      "nlms pre-convergence training iteration #2\n",
      "nlms MSE = 0.008606.\n",
      "nlms pre-convergence training iteration #3\n",
      "nlms MSE = 0.007518.\n",
      "nlms pre-convergence training iteration #4\n",
      "nlms MSE = 0.006952.\n",
      "\n",
      "\n",
      "dd-lms - training stage #1\n",
      "dd-lms MSE = 0.005225.\n",
      "Results:\n",
      "\n",
      "SER: 1.45e-02\n",
      "BER: 2.47e-03\n",
      "SNR: 22.64 dB\n",
      "MI: 5.92 bits\n",
      "GMI: 5.92 bits\n",
      "channel 0\t fc : 193.1000 THz\n",
      "  mode #0\t power: 0.00 dBm\n",
      "channel 0\t power: -0.00 dBm\n",
      "\n",
      "total WDM dignal power: -0.00 dBm\n",
      "Demodulating channel #0 , fc: 193.1000 THz, λ: 1552.5244 nm\n",
      "\n",
      "Local oscillator P: 12.00 dBm, lw: 0.00 kHz, FO: 20000.00 MHz\n",
      "CSPR = 12.00 dB\n",
      "\n",
      "\n",
      "nlms - training stage #0\n"
     ]
    },
    {
     "data": {
      "application/vnd.jupyter.widget-view+json": {
       "model_id": "c1e26f591d3b48e3ac82d42caade6522",
       "version_major": 2,
       "version_minor": 0
      },
      "text/plain": [
       "  0%|          | 0/5 [00:00<?, ?it/s]"
      ]
     },
     "metadata": {},
     "output_type": "display_data"
    },
    {
     "name": "stdout",
     "output_type": "stream",
     "text": [
      "nlms pre-convergence training iteration #0\n",
      "nlms MSE = 0.034274.\n",
      "nlms pre-convergence training iteration #1\n",
      "nlms MSE = 0.013618.\n",
      "nlms pre-convergence training iteration #2\n",
      "nlms MSE = 0.010402.\n",
      "nlms pre-convergence training iteration #3\n",
      "nlms MSE = 0.009093.\n",
      "nlms pre-convergence training iteration #4\n",
      "nlms MSE = 0.008386.\n",
      "\n",
      "\n",
      "dd-lms - training stage #1\n",
      "dd-lms MSE = 0.006174.\n",
      "Results:\n",
      "\n",
      "SER: 2.38e-02\n",
      "BER: 4.05e-03\n",
      "SNR: 21.74 dB\n",
      "MI: 5.88 bits\n",
      "GMI: 5.88 bits\n",
      "channel 0\t fc : 193.1000 THz\n",
      "  mode #0\t power: 0.00 dBm\n",
      "channel 0\t power: 0.00 dBm\n",
      "\n",
      "total WDM dignal power: 0.00 dBm\n",
      "Demodulating channel #0 , fc: 193.1000 THz, λ: 1552.5244 nm\n",
      "\n",
      "Local oscillator P: 12.00 dBm, lw: 0.00 kHz, FO: 21000.00 MHz\n",
      "CSPR = 12.00 dB\n",
      "\n",
      "\n",
      "nlms - training stage #0\n"
     ]
    },
    {
     "data": {
      "application/vnd.jupyter.widget-view+json": {
       "model_id": "95ec0253f4c14dcb99ba26bbc9dc2fdd",
       "version_major": 2,
       "version_minor": 0
      },
      "text/plain": [
       "  0%|          | 0/5 [00:00<?, ?it/s]"
      ]
     },
     "metadata": {},
     "output_type": "display_data"
    },
    {
     "name": "stdout",
     "output_type": "stream",
     "text": [
      "nlms pre-convergence training iteration #0\n",
      "nlms MSE = 0.023151.\n",
      "nlms pre-convergence training iteration #1\n",
      "nlms MSE = 0.003004.\n",
      "nlms pre-convergence training iteration #2\n",
      "nlms MSE = 0.002594.\n",
      "nlms pre-convergence training iteration #3\n",
      "nlms MSE = 0.002360.\n",
      "nlms pre-convergence training iteration #4\n",
      "nlms MSE = 0.002206.\n",
      "\n",
      "\n",
      "dd-lms - training stage #1\n",
      "dd-lms MSE = 0.001705.\n",
      "Results:\n",
      "\n",
      "SER: 1.60e-03\n",
      "BER: 2.80e-04\n",
      "SNR: 27.48 dB\n",
      "MI: 5.97 bits\n",
      "GMI: 5.97 bits\n",
      "channel 0\t fc : 193.1000 THz\n",
      "  mode #0\t power: 0.00 dBm\n",
      "channel 0\t power: -0.00 dBm\n",
      "\n",
      "total WDM dignal power: -0.00 dBm\n",
      "Demodulating channel #0 , fc: 193.1000 THz, λ: 1552.5244 nm\n",
      "\n",
      "Local oscillator P: 12.00 dBm, lw: 0.00 kHz, FO: 21000.00 MHz\n",
      "CSPR = 12.00 dB\n",
      "\n",
      "\n",
      "nlms - training stage #0\n"
     ]
    },
    {
     "data": {
      "application/vnd.jupyter.widget-view+json": {
       "model_id": "d18f1e5de3d34da6a8e6ae72a4b0ece9",
       "version_major": 2,
       "version_minor": 0
      },
      "text/plain": [
       "  0%|          | 0/5 [00:00<?, ?it/s]"
      ]
     },
     "metadata": {},
     "output_type": "display_data"
    },
    {
     "name": "stdout",
     "output_type": "stream",
     "text": [
      "nlms pre-convergence training iteration #0\n",
      "nlms MSE = 0.020513.\n",
      "nlms pre-convergence training iteration #1\n",
      "nlms MSE = 0.002996.\n",
      "nlms pre-convergence training iteration #2\n",
      "nlms MSE = 0.002537.\n",
      "nlms pre-convergence training iteration #3\n",
      "nlms MSE = 0.002298.\n",
      "nlms pre-convergence training iteration #4\n",
      "nlms MSE = 0.002151.\n",
      "\n",
      "\n",
      "dd-lms - training stage #1\n",
      "dd-lms MSE = 0.001662.\n",
      "Results:\n",
      "\n",
      "SER: 1.61e-03\n",
      "BER: 2.69e-04\n",
      "SNR: 27.65 dB\n",
      "MI: 5.97 bits\n",
      "GMI: 5.97 bits\n",
      "channel 0\t fc : 193.1000 THz\n",
      "  mode #0\t power: 0.00 dBm\n",
      "channel 0\t power: -0.00 dBm\n",
      "\n",
      "total WDM dignal power: -0.00 dBm\n",
      "Demodulating channel #0 , fc: 193.1000 THz, λ: 1552.5244 nm\n",
      "\n",
      "Local oscillator P: 12.00 dBm, lw: 0.00 kHz, FO: 21000.00 MHz\n",
      "CSPR = 12.00 dB\n",
      "\n",
      "\n",
      "nlms - training stage #0\n"
     ]
    },
    {
     "data": {
      "application/vnd.jupyter.widget-view+json": {
       "model_id": "d203d4bc998248d5a5fbbf3759ddd67a",
       "version_major": 2,
       "version_minor": 0
      },
      "text/plain": [
       "  0%|          | 0/5 [00:00<?, ?it/s]"
      ]
     },
     "metadata": {},
     "output_type": "display_data"
    },
    {
     "name": "stdout",
     "output_type": "stream",
     "text": [
      "nlms pre-convergence training iteration #0\n",
      "nlms MSE = 0.017889.\n",
      "nlms pre-convergence training iteration #1\n",
      "nlms MSE = 0.002803.\n",
      "nlms pre-convergence training iteration #2\n",
      "nlms MSE = 0.002618.\n",
      "nlms pre-convergence training iteration #3\n",
      "nlms MSE = 0.002486.\n",
      "nlms pre-convergence training iteration #4\n",
      "nlms MSE = 0.002389.\n",
      "\n",
      "\n",
      "dd-lms - training stage #1\n",
      "dd-lms MSE = 0.001698.\n",
      "Results:\n",
      "\n",
      "SER: 1.07e-03\n",
      "BER: 1.91e-04\n",
      "SNR: 27.55 dB\n",
      "MI: 5.98 bits\n",
      "GMI: 5.98 bits\n",
      "channel 0\t fc : 193.1000 THz\n",
      "  mode #0\t power: 0.00 dBm\n",
      "channel 0\t power: 0.00 dBm\n",
      "\n",
      "total WDM dignal power: 0.00 dBm\n",
      "Demodulating channel #0 , fc: 193.1000 THz, λ: 1552.5244 nm\n",
      "\n",
      "Local oscillator P: 12.00 dBm, lw: 0.00 kHz, FO: 21000.00 MHz\n",
      "CSPR = 12.00 dB\n",
      "\n",
      "\n",
      "nlms - training stage #0\n"
     ]
    },
    {
     "data": {
      "application/vnd.jupyter.widget-view+json": {
       "model_id": "9a5ca58baa6e4e2081d5100fb7d1d0b0",
       "version_major": 2,
       "version_minor": 0
      },
      "text/plain": [
       "  0%|          | 0/5 [00:00<?, ?it/s]"
      ]
     },
     "metadata": {},
     "output_type": "display_data"
    },
    {
     "name": "stdout",
     "output_type": "stream",
     "text": [
      "nlms pre-convergence training iteration #0\n",
      "nlms MSE = 0.016140.\n",
      "nlms pre-convergence training iteration #1\n",
      "nlms MSE = 0.002369.\n",
      "nlms pre-convergence training iteration #2\n",
      "nlms MSE = 0.002330.\n",
      "nlms pre-convergence training iteration #3\n",
      "nlms MSE = 0.002296.\n",
      "nlms pre-convergence training iteration #4\n",
      "nlms MSE = 0.002266.\n",
      "\n",
      "\n",
      "dd-lms - training stage #1\n",
      "dd-lms MSE = 0.001868.\n",
      "Results:\n",
      "\n",
      "SER: 1.50e-03\n",
      "BER: 2.57e-04\n",
      "SNR: 27.16 dB\n",
      "MI: 5.98 bits\n",
      "GMI: 5.98 bits\n",
      "channel 0\t fc : 193.1000 THz\n",
      "  mode #0\t power: 0.00 dBm\n",
      "channel 0\t power: 0.00 dBm\n",
      "\n",
      "total WDM dignal power: 0.00 dBm\n",
      "Demodulating channel #0 , fc: 193.1000 THz, λ: 1552.5244 nm\n",
      "\n",
      "Local oscillator P: 12.00 dBm, lw: 0.00 kHz, FO: 21000.00 MHz\n",
      "CSPR = 12.00 dB\n",
      "\n",
      "\n",
      "nlms - training stage #0\n"
     ]
    },
    {
     "data": {
      "application/vnd.jupyter.widget-view+json": {
       "model_id": "663e5d9a5fcf4447bc776380fd5ec88e",
       "version_major": 2,
       "version_minor": 0
      },
      "text/plain": [
       "  0%|          | 0/5 [00:00<?, ?it/s]"
      ]
     },
     "metadata": {},
     "output_type": "display_data"
    },
    {
     "name": "stdout",
     "output_type": "stream",
     "text": [
      "nlms pre-convergence training iteration #0\n",
      "nlms MSE = 0.015163.\n",
      "nlms pre-convergence training iteration #1\n",
      "nlms MSE = 0.002665.\n",
      "nlms pre-convergence training iteration #2\n",
      "nlms MSE = 0.002625.\n",
      "nlms pre-convergence training iteration #3\n",
      "nlms MSE = 0.002587.\n",
      "nlms pre-convergence training iteration #4\n",
      "nlms MSE = 0.002552.\n",
      "\n",
      "\n",
      "dd-lms - training stage #1\n",
      "dd-lms MSE = 0.002030.\n",
      "Results:\n",
      "\n",
      "SER: 1.46e-03\n",
      "BER: 2.46e-04\n",
      "SNR: 26.76 dB\n",
      "MI: 5.98 bits\n",
      "GMI: 5.98 bits\n",
      "channel 0\t fc : 193.1000 THz\n",
      "  mode #0\t power: 0.00 dBm\n",
      "channel 0\t power: -0.00 dBm\n",
      "\n",
      "total WDM dignal power: -0.00 dBm\n",
      "Demodulating channel #0 , fc: 193.1000 THz, λ: 1552.5244 nm\n",
      "\n",
      "Local oscillator P: 12.00 dBm, lw: 0.00 kHz, FO: 21000.00 MHz\n",
      "CSPR = 12.00 dB\n",
      "\n",
      "\n",
      "nlms - training stage #0\n"
     ]
    },
    {
     "data": {
      "application/vnd.jupyter.widget-view+json": {
       "model_id": "e3f6ceabd66b47278cf66b56a4632a8f",
       "version_major": 2,
       "version_minor": 0
      },
      "text/plain": [
       "  0%|          | 0/5 [00:00<?, ?it/s]"
      ]
     },
     "metadata": {},
     "output_type": "display_data"
    },
    {
     "name": "stdout",
     "output_type": "stream",
     "text": [
      "nlms pre-convergence training iteration #0\n",
      "nlms MSE = 0.015881.\n",
      "nlms pre-convergence training iteration #1\n",
      "nlms MSE = 0.003771.\n",
      "nlms pre-convergence training iteration #2\n",
      "nlms MSE = 0.003623.\n",
      "nlms pre-convergence training iteration #3\n",
      "nlms MSE = 0.003493.\n",
      "nlms pre-convergence training iteration #4\n",
      "nlms MSE = 0.003378.\n",
      "\n",
      "\n",
      "dd-lms - training stage #1\n",
      "dd-lms MSE = 0.002389.\n",
      "Results:\n",
      "\n",
      "SER: 2.07e-03\n",
      "BER: 3.46e-04\n",
      "SNR: 25.97 dB\n",
      "MI: 5.98 bits\n",
      "GMI: 5.98 bits\n",
      "channel 0\t fc : 193.1000 THz\n",
      "  mode #0\t power: 0.00 dBm\n",
      "channel 0\t power: 0.00 dBm\n",
      "\n",
      "total WDM dignal power: 0.00 dBm\n",
      "Demodulating channel #0 , fc: 193.1000 THz, λ: 1552.5244 nm\n",
      "\n",
      "Local oscillator P: 12.00 dBm, lw: 0.00 kHz, FO: 21000.00 MHz\n",
      "CSPR = 12.00 dB\n",
      "\n",
      "\n",
      "nlms - training stage #0\n"
     ]
    },
    {
     "data": {
      "application/vnd.jupyter.widget-view+json": {
       "model_id": "6596986d7df242bebd38d27a6d76773d",
       "version_major": 2,
       "version_minor": 0
      },
      "text/plain": [
       "  0%|          | 0/5 [00:00<?, ?it/s]"
      ]
     },
     "metadata": {},
     "output_type": "display_data"
    },
    {
     "name": "stdout",
     "output_type": "stream",
     "text": [
      "nlms pre-convergence training iteration #0\n",
      "nlms MSE = 0.017207.\n",
      "nlms pre-convergence training iteration #1\n",
      "nlms MSE = 0.005417.\n",
      "nlms pre-convergence training iteration #2\n",
      "nlms MSE = 0.004832.\n",
      "nlms pre-convergence training iteration #3\n",
      "nlms MSE = 0.004415.\n",
      "nlms pre-convergence training iteration #4\n",
      "nlms MSE = 0.004111.\n",
      "\n",
      "\n",
      "dd-lms - training stage #1\n",
      "dd-lms MSE = 0.002925.\n",
      "Results:\n",
      "\n",
      "SER: 3.44e-03\n",
      "BER: 5.81e-04\n",
      "SNR: 25.17 dB\n",
      "MI: 5.98 bits\n",
      "GMI: 5.97 bits\n",
      "channel 0\t fc : 193.1000 THz\n",
      "  mode #0\t power: 0.00 dBm\n",
      "channel 0\t power: 0.00 dBm\n",
      "\n",
      "total WDM dignal power: 0.00 dBm\n",
      "Demodulating channel #0 , fc: 193.1000 THz, λ: 1552.5244 nm\n",
      "\n",
      "Local oscillator P: 12.00 dBm, lw: 0.00 kHz, FO: 21000.00 MHz\n",
      "CSPR = 12.00 dB\n",
      "\n",
      "\n",
      "nlms - training stage #0\n"
     ]
    },
    {
     "data": {
      "application/vnd.jupyter.widget-view+json": {
       "model_id": "11d9c8e34b14422ea023d9ea2598fbcf",
       "version_major": 2,
       "version_minor": 0
      },
      "text/plain": [
       "  0%|          | 0/5 [00:00<?, ?it/s]"
      ]
     },
     "metadata": {},
     "output_type": "display_data"
    },
    {
     "name": "stdout",
     "output_type": "stream",
     "text": [
      "nlms pre-convergence training iteration #0\n",
      "nlms MSE = 0.020192.\n",
      "nlms pre-convergence training iteration #1\n",
      "nlms MSE = 0.007431.\n",
      "nlms pre-convergence training iteration #2\n",
      "nlms MSE = 0.006160.\n",
      "nlms pre-convergence training iteration #3\n",
      "nlms MSE = 0.005434.\n",
      "nlms pre-convergence training iteration #4\n",
      "nlms MSE = 0.004997.\n",
      "\n",
      "\n",
      "dd-lms - training stage #1\n",
      "dd-lms MSE = 0.003536.\n",
      "Results:\n",
      "\n",
      "SER: 4.96e-03\n",
      "BER: 8.52e-04\n",
      "SNR: 24.34 dB\n",
      "MI: 5.96 bits\n",
      "GMI: 5.96 bits\n",
      "channel 0\t fc : 193.1000 THz\n",
      "  mode #0\t power: 0.00 dBm\n",
      "channel 0\t power: 0.00 dBm\n",
      "\n",
      "total WDM dignal power: 0.00 dBm\n",
      "Demodulating channel #0 , fc: 193.1000 THz, λ: 1552.5244 nm\n",
      "\n",
      "Local oscillator P: 12.00 dBm, lw: 0.00 kHz, FO: 21000.00 MHz\n",
      "CSPR = 12.00 dB\n",
      "\n",
      "\n",
      "nlms - training stage #0\n"
     ]
    },
    {
     "data": {
      "application/vnd.jupyter.widget-view+json": {
       "model_id": "7c3aee2b120b40109467f995fff39d2e",
       "version_major": 2,
       "version_minor": 0
      },
      "text/plain": [
       "  0%|          | 0/5 [00:00<?, ?it/s]"
      ]
     },
     "metadata": {},
     "output_type": "display_data"
    },
    {
     "name": "stdout",
     "output_type": "stream",
     "text": [
      "nlms pre-convergence training iteration #0\n",
      "nlms MSE = 0.023349.\n",
      "nlms pre-convergence training iteration #1\n",
      "nlms MSE = 0.009364.\n",
      "nlms pre-convergence training iteration #2\n",
      "nlms MSE = 0.007458.\n",
      "nlms pre-convergence training iteration #3\n",
      "nlms MSE = 0.006554.\n",
      "nlms pre-convergence training iteration #4\n",
      "nlms MSE = 0.006074.\n",
      "\n",
      "\n",
      "dd-lms - training stage #1\n",
      "dd-lms MSE = 0.004464.\n",
      "Results:\n",
      "\n",
      "SER: 9.12e-03\n",
      "BER: 1.54e-03\n",
      "SNR: 23.33 dB\n",
      "MI: 5.94 bits\n",
      "GMI: 5.94 bits\n",
      "channel 0\t fc : 193.1000 THz\n",
      "  mode #0\t power: 0.00 dBm\n",
      "channel 0\t power: -0.00 dBm\n",
      "\n",
      "total WDM dignal power: -0.00 dBm\n",
      "Demodulating channel #0 , fc: 193.1000 THz, λ: 1552.5244 nm\n",
      "\n",
      "Local oscillator P: 12.00 dBm, lw: 0.00 kHz, FO: 21000.00 MHz\n",
      "CSPR = 12.00 dB\n",
      "\n",
      "\n",
      "nlms - training stage #0\n"
     ]
    },
    {
     "data": {
      "application/vnd.jupyter.widget-view+json": {
       "model_id": "2739291ad1ae4ad1a59f1a1d30b65b27",
       "version_major": 2,
       "version_minor": 0
      },
      "text/plain": [
       "  0%|          | 0/5 [00:00<?, ?it/s]"
      ]
     },
     "metadata": {},
     "output_type": "display_data"
    },
    {
     "name": "stdout",
     "output_type": "stream",
     "text": [
      "nlms pre-convergence training iteration #0\n",
      "nlms MSE = 0.027279.\n",
      "nlms pre-convergence training iteration #1\n",
      "nlms MSE = 0.011035.\n",
      "nlms pre-convergence training iteration #2\n",
      "nlms MSE = 0.008601.\n",
      "nlms pre-convergence training iteration #3\n",
      "nlms MSE = 0.007574.\n",
      "nlms pre-convergence training iteration #4\n",
      "nlms MSE = 0.007038.\n",
      "\n",
      "\n",
      "dd-lms - training stage #1\n",
      "dd-lms MSE = 0.005424.\n",
      "Results:\n",
      "\n",
      "SER: 1.51e-02\n",
      "BER: 2.56e-03\n",
      "SNR: 22.43 dB\n",
      "MI: 5.92 bits\n",
      "GMI: 5.92 bits\n"
     ]
    }
   ],
   "source": [
    "FO_Values = np.arange(1e9, 6e9, 1e9)\n",
    "Rolloff = np.arange(0.01, 0.99, 0.1)\n",
    "\n",
    "BER_KK = np.zeros((FO_Values.size, Rolloff.size))\n",
    "SER_KK = np.zeros((FO_Values.size, Rolloff.size))\n",
    "GMI_KK = np.zeros((FO_Values.size, Rolloff.size))\n",
    "MI_KK  = np.zeros((FO_Values.size, Rolloff.size))\n",
    "SNR_KK = np.zeros((FO_Values.size, Rolloff.size))\n",
    "\n",
    "iterations = 5 # number of iterations per simulation\n",
    "\n",
    "for indfile in range(0, iterations):\n",
    "    for indNN, FO_ in enumerate(FO_Values):\n",
    "        for index, indRoll_ in enumerate(Rolloff):\n",
    "            # Main simulation parameters\n",
    "            paramTx.alphaRRC = indRoll_\n",
    "            FO = FO_ + paramTx.Rs/2\n",
    "            \n",
    "            # generate optical signal signal\n",
    "            sigTx, symbTx_, paramTx = simpleWDMTx(paramTx)\n",
    "\n",
    "            # simulate linear signal propagation\n",
    "            sigCh = linFiberCh(sigTx, Ltotal, alpha, D, Fc, Fs)\n",
    "\n",
    "            # receiver detection and demodulation\n",
    "            Fc = paramTx.Fc\n",
    "            Ts = 1 / Fs\n",
    "            mod = QAMModem(m=paramTx.M)\n",
    "\n",
    "            freqGrid = paramTx.freqGrid\n",
    "            print(\n",
    "                \"Demodulating channel #%d , fc: %.4f THz, λ: %.4f nm\\n\"\n",
    "                % (\n",
    "                    chIndex,\n",
    "                    (Fc + freqGrid[chIndex]) / 1e12,\n",
    "                    const.c / (Fc + freqGrid[chIndex]) / 1e-9,\n",
    "                )\n",
    "            )\n",
    "\n",
    "            symbTx = symbTx_[:, :, chIndex]\n",
    "\n",
    "            Plo = 10 ** (Plo_dBm / 10) * 1e-3  # power in W\n",
    "\n",
    "            print(\n",
    "                \"Local oscillator P: %.2f dBm, lw: %.2f kHz, FO: %.2f MHz\"\n",
    "                % (Plo_dBm, lw / 1e3, FO / 1e6)\n",
    "            )\n",
    "\n",
    "            # generate LO field\n",
    "            π = np.pi\n",
    "            t = np.arange(0, len(sigCh))*Ts\n",
    "            ϕ_pn_lo = phaseNoise(lw, len(sigCh), Ts)\n",
    "\n",
    "            sigLO = np.sqrt(Plo) * np.exp(-1j * (2 * π * FO * t + ϕ_lo + ϕ_pn_lo))\n",
    "\n",
    "            # Add LO to the received signal\n",
    "            sigRx = np.sqrt(Plo) + sigCh * np.exp(1j * (2 * π * FO * t + ϕ_lo + ϕ_pn_lo))\n",
    "            sfm = sigRx.copy()\n",
    "\n",
    "            print('CSPR = %.2f dB' % (10*np.log10(signal_power(sigLO)/signal_power(sigCh))))\n",
    "\n",
    "            # ### Phase-retrieval stage\n",
    "\n",
    "            # In[4]:\n",
    "\n",
    "            # resampling to ADC sampling rate\n",
    "            sigCh = resample(sigCh, paramADC)\n",
    "            sfm = resample(sfm, paramADC)\n",
    "            newFs = paramADC.SpS_out*paramTx.Rs\n",
    "\n",
    "            # simulate ideal direct-detection optical receiver\n",
    "            Amp = np.abs(sigRx)\n",
    "            Amp = resample(Amp, paramADC)\n",
    "\n",
    "            # Kramers-Kronig phase-retrieval\n",
    "            phiTime = KramersKronigRx(Amp, newFs)\n",
    "\n",
    "            # optical field reconstruction\n",
    "            sigRx = Amp*np.exp(1j*phiTime)\n",
    "\n",
    "            # remove DC level\n",
    "            sigRx -= np.sqrt(Plo)  # np.mean(sigRx)\n",
    "\n",
    "            # downshift to baseband\n",
    "            t = np.arange(0, len(sigRx))*(1/newFs)\n",
    "            sigRx *= np.exp(-1j * (2 * π * FO * t))\n",
    "\n",
    "            # correct for (possible) phase ambiguity\n",
    "            rot = np.mean(sigCh/sigRx)\n",
    "            sigRx = rot * sigRx\n",
    "            sigRx = sigRx / np.sqrt(signal_power(sigRx))\n",
    "\n",
    "            # #### Standard receiver processing\n",
    "\n",
    "            # In[5]:\n",
    "\n",
    "            # resample to 2 samples/symbol:\n",
    "            paramRes = parameters()\n",
    "            paramRes.Rs = paramTx.Rs\n",
    "            paramRes.SpS_in = paramADC.SpS_out\n",
    "            paramRes.SpS_out = 2\n",
    "\n",
    "            sigRx = resample(sigRx, paramRes)\n",
    "\n",
    "            # Matched filtering and CD compensation\n",
    "\n",
    "            # Matched filtering\n",
    "            if paramTx.pulse == \"nrz\":\n",
    "                pulse = pulseShape(\"nrz\", paramADC.SpS_out)\n",
    "            elif paramTx.pulse == \"rrc\":\n",
    "                pulse = pulseShape(\"rrc\", paramRes.SpS_out, N=paramTx.Ntaps, alpha=paramTx.alphaRRC, Ts=1 / paramTx.Rs)\n",
    "\n",
    "            pulse = pulse / np.max(np.abs(pulse))\n",
    "            sigRx = firFilter(pulse, sigRx)\n",
    "\n",
    "            # plot constellations after matched filtering\n",
    "            #pconst(sigRx[0::paramRes.SpS_out], lim=True, R=3)\n",
    "\n",
    "            # CD compensation\n",
    "            sigRx = edc(sigRx, Ltotal, D, Fc, paramRes.SpS_out*paramTx.Rs)\n",
    "\n",
    "            #plot constellations after CD compensation\n",
    "            #pconst(sigRx[0::paramRes.SpS_out], lim=True, R=2)\n",
    "\n",
    "            # Downsampling to 2 sps and re-synchronization with transmitted sequences\n",
    "            sigRx = sigRx.reshape(-1, 1)\n",
    "\n",
    "            symbRx = symbolSync(sigRx, symbTx, 2)\n",
    "\n",
    "            # In[6]:\n",
    "\n",
    "            # Power normalization\n",
    "            x = sigRx\n",
    "            d = symbRx\n",
    "\n",
    "            x = x.reshape(len(x), 1) / np.sqrt(signal_power(x))\n",
    "            d = d.reshape(len(d), 1) / np.sqrt(signal_power(d))\n",
    "\n",
    "            # Adaptive equalization\n",
    "            mod = QAMModem(m=paramTx.M)\n",
    "\n",
    "            paramEq = parameters()\n",
    "            paramEq.nTaps = 15\n",
    "            paramEq.SpS = 2\n",
    "            paramEq.mu = [5e-3, 2e-3]\n",
    "            paramEq.numIter = 5\n",
    "            paramEq.storeCoeff = False\n",
    "            paramEq.alg = [\"nlms\", \"dd-lms\"]\n",
    "            paramEq.M = paramTx.M\n",
    "            paramEq.L = [20000, 80000]\n",
    "\n",
    "            y_EQ, H, errSq, Hiter = mimoAdaptEqualizer(x, dx=d, paramEq=paramEq)\n",
    "\n",
    "            discard = int(paramEq.L[0]/2)\n",
    "\n",
    "            #plot constellations after adaptive equalization\n",
    "            #pconst(y_EQ[discard:-discard, :], lim=True)\n",
    "\n",
    "            # In[7]:\n",
    "\n",
    "            # Carrier phase recovery\n",
    "            paramCPR = parameters()\n",
    "            paramCPR.alg = \"bps\"\n",
    "            paramCPR.M = paramTx.M\n",
    "            paramCPR.N = 75\n",
    "            paramCPR.B = 64\n",
    "            paramCPR.pilotInd = np.arange(0, len(y_EQ), 20)\n",
    "\n",
    "            y_CPR, θ = cpr(y_EQ, symbTx=d, paramCPR=paramCPR)\n",
    "\n",
    "            y_CPR = y_CPR / np.sqrt(signal_power(y_CPR))\n",
    "\n",
    "            discard = 5000\n",
    "\n",
    "            # plot constellations after CPR\n",
    "            #pconst(y_CPR[discard:-discard, :], lim=True)\n",
    "\n",
    "            # #### Evaluate transmission metrics\n",
    "\n",
    "            # In[8]:\n",
    "\n",
    "            # correct for (possible) phase ambiguity\n",
    "            for k in range(y_CPR.shape[1]):\n",
    "                rot = np.mean(d[:, k] / y_CPR[:, k])\n",
    "                y_CPR[:, k] = rot * y_CPR[:, k]\n",
    "\n",
    "            y_CPR = y_CPR / np.sqrt(signal_power(y_CPR))\n",
    "\n",
    "            ind = np.arange(discard, d.shape[0] - discard)\n",
    "            BER_KK[indNN][index], SER_KK[indNN][index], SNR_KK[indNN][index] = fastBERcalc(y_CPR[ind, :], d[ind, :], mod)\n",
    "            GMI_KK[indNN][index], _ = monteCarloGMI(y_CPR[ind, :], d[ind, :], mod)\n",
    "            MI_KK[indNN][index] = monteCarloMI(y_CPR[ind, :], d[ind, :], mod)\n",
    "\n",
    "            print(\"Results:\\n\")\n",
    "            print(\"SER: %.2e\" % (SER_KK[indNN][index]))\n",
    "            print(\"BER: %.2e\" % (BER_KK[indNN][index]))\n",
    "            print(\"SNR: %.2f dB\" % (SNR_KK[indNN][index]))\n",
    "            print(\"MI: %.2f bits\" % (MI_KK[indNN][index]))\n",
    "            print(\"GMI: %.2f bits\" % (GMI_KK[indNN][index]))\n",
    "\n",
    "    np.save(r'/home/silas/Documentos/GitHub/PIVIC-Comunicacoes-Opticas/resultados/BER_KK_'+str(indfile), BER_KK)"
   ]
  },
  {
   "cell_type": "code",
   "execution_count": 94,
   "metadata": {},
   "outputs": [
    {
     "data": {
      "image/png": "[encoded data removed]",
      "text/plain": [
       "<Figure size 800x600 with 2 Axes>"
      ]
     },
     "metadata": {},
     "output_type": "display_data"
    },
    {
     "data": {
      "image/png": "[encoded data removed]",
      "text/plain": [
       "<Figure size 500x500 with 1 Axes>"
      ]
     },
     "metadata": {},
     "output_type": "display_data"
    },
    {
     "data": {
      "text/plain": [
       "<Figure size 640x480 with 0 Axes>"
      ]
     },
     "metadata": {},
     "output_type": "display_data"
    }
   ],
   "source": [
    "x = np.arange(0.01, 0.99, 0.1)\n",
    "y = np.arange(1e9, 6e9, 1e9)\n",
    "\n",
    "x, y = np.meshgrid(x, y)\n",
    "z1 = np.log10(BER_KK)  # shape((5, 10))\n",
    "\n",
    "fig = plt.figure(figsize=(8, 6))\n",
    "ax = plt.axes(projection='3d')\n",
    "\n",
    "fig = plt.figure(figsize=(5, 5))\n",
    "plt.contourf(x, y, z1, cmap=cm.autumn)\n",
    "plt.xlabel('Rolloff')\n",
    "plt.ylabel('FO')\n",
    "plt.savefig(r'C:\\Users\\Silas\\Documents\\PIVIC-Comunicacoes-Opticas\\resultados\\results_KKPerformanceContourf_64QAM.png', dpi=600)\n",
    "\n",
    "surf_KK = ax.plot_surface(x, y, z1, cmap=cm.autumn, linewidth=1, antialiased=True, edgecolor='None')\n",
    "#surf_KK = ax.scatter(x, y, z1, marker='s', s=200, color='blue')\n",
    "fig.colorbar(surf_KK, ax=ax, shrink=0.5, aspect=7)\n",
    "ax.set_xlabel('Rolloff')\n",
    "ax.set_ylabel('FO')\n",
    "ax.set_zlabel('$log(BER)$')\n",
    "ax.view_init(elev=30, azim=215)\n",
    "ax.set_title('BER Surface Plot KK')\n",
    "\n",
    "plt.show()\n",
    "plt.savefig(r'C:\\Users\\Silas\\Documents\\PIVIC-Comunicacoes-Opticas\\resultados\\results_KKPerformance_64QAM.png', dpi=600)\n"
   ]
  },
  {
   "cell_type": "code",
   "execution_count": 133,
   "metadata": {},
   "outputs": [
    {
     "data": {
      "image/png": "[encoded data removed]",
      "text/plain": [
       "<Figure size 1300x700 with 2 Axes>"
      ]
     },
     "metadata": {},
     "output_type": "display_data"
    }
   ],
   "source": [
    "fig = plt.figure(figsize=(13, 7))\n",
    "sns.heatmap(np.log10(BER_KK), annot=True, cmap='YlOrBr')\n",
    "plt.title('Heat Map KK Algorithm')\n",
    "plt.ylabel('FO')\n",
    "plt.xlabel('Rolloff')\n",
    "plt.savefig(r'C:\\Users\\Silas\\Documents\\PIVIC-Comunicacoes-Opticas\\resultados\\results_KKPerformanceHeatMap_64QAM.png', dpi=600);"
   ]
  },
  {
   "cell_type": "markdown",
   "metadata": {},
   "source": [
    "#### Superposition of Surfaces"
   ]
  },
  {
   "cell_type": "code",
   "execution_count": 113,
   "metadata": {},
   "outputs": [
    {
     "data": {
      "image/png": "[encoded data removed]",
      "text/plain": [
       "<Figure size 1000x800 with 1 Axes>"
      ]
     },
     "metadata": {},
     "output_type": "display_data"
    }
   ],
   "source": [
    "import matplotlib as mpl\n",
    "\n",
    "x = np.arange(0.01, 0.99, 0.1)\n",
    "y = np.arange(1e9, 6e9, 1e9)\n",
    "\n",
    "x, y = np.meshgrid(x, y)\n",
    "fig = plt.figure(figsize=(10, 8))\n",
    "ax = plt.axes(projection='3d')\n",
    "\n",
    "ax.plot_surface(x, y, np.log10(BER_NN), label='teste',alpha = 1, rstride=1, cstride=1, cmap=cm.winter, linewidth=0.5, antialiased=True, zorder = 0.5)\n",
    "ax.plot_surface(x, y, np.log10(BER_KK), alpha = 0.90, rstride=1, cstride=1, cmap=cm.autumn, linewidth=0.5, antialiased=True, zorder = 0.3)\n",
    "ax.set_title('Superposition of Surfaces')\n",
    "ax.set_xlabel('Rolloff')\n",
    "ax.set_ylabel('FO')\n",
    "ax.set_zlabel('$log(BER)$')\n",
    "ax.view_init(elev=25, azim=130)\n",
    "\n",
    "# fake legends\n",
    "fake2Dline = mpl.lines.Line2D([0],[0], linestyle=\"none\", c='b', marker = 'o')\n",
    "fake2Dline2 = mpl.lines.Line2D([0],[0], linestyle=\"none\", c='r', marker = 'o')\n",
    "ax.legend([fake2Dline, fake2Dline2], ['Neural Network', 'KK Algorithm'], numpoints = 1)\n",
    "\n",
    "plt.savefig(r'C:\\Users\\Silas\\Documents\\PIVIC-Comunicacoes-Opticas\\resultados\\results_SuperpositionSurfaces_64QAM.png', dpi=600)\n"
   ]
  }
 ],
 "metadata": {
  "kernelspec": {
   "display_name": "Python 3.9.13 64-bit",
   "language": "python",
   "name": "python3"
  },
  "language_info": {
   "codemirror_mode": {
    "name": "ipython",
    "version": 3
   },
   "file_extension": ".py",
   "mimetype": "text/x-python",
   "name": "python",
   "nbconvert_exporter": "python",
   "pygments_lexer": "ipython3",
   "version": "3.9.13"
  },
  "vscode": {
   "interpreter": {
    "hash": "4cead383004ffea04c5a085330d2187e41b90a08e531203cefc944d3da80249c"
   }
  }
 },
 "nbformat": 4,
 "nbformat_minor": 2
}
