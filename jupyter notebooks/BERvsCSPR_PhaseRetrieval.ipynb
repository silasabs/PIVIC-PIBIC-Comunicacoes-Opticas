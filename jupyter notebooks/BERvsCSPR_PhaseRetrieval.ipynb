{
 "cells": [
  {
   "cell_type": "code",
   "execution_count": 1,
   "id": "b1edcfee",
   "metadata": {
    "ExecuteTime": {
     "end_time": "2022-02-10T19:01:33.299471Z",
     "start_time": "2022-02-10T19:01:33.281484Z"
    }
   },
   "outputs": [],
   "source": [
    "import matplotlib.pyplot as plt\n",
    "import numpy as np\n",
    "\n",
    "from commpy.modulation import QAMModem\n",
    "\n",
    "from optic.dsp import pulseShape, firFilter, decimate, symbolSync\n",
    "from optic.models import phaseNoise, KramersKronigRx, linFiberCh\n",
    "\n",
    "from optic.tx import simpleWDMTx\n",
    "from optic.core import parameters\n",
    "from optic.equalization import edc, mimoAdaptEqualizer\n",
    "from optic.carrierRecovery import cpr\n",
    "from optic.metrics import fastBERcalc, monteCarloGMI, monteCarloMI, signal_power\n",
    "from optic.plot import pconst\n",
    "\n",
    "import scipy.constants as const\n",
    "\n",
    "from tensorflow.keras.layers import Dense, Dropout, BatchNormalization\n",
    "from tensorflow.keras.models import Sequential\n",
    "from tensorflow.keras.callbacks import EarlyStopping\n",
    "import tensorflow as tf"
   ]
  },
  {
   "cell_type": "markdown",
   "id": "cf8081d8",
   "metadata": {
    "lines_to_next_cell": 2
   },
   "source": [
    "### Simulation of a single polarization optical signal transmission"
   ]
  },
  {
   "cell_type": "code",
   "execution_count": 43,
   "id": "8ef1c5b1",
   "metadata": {
    "ExecuteTime": {
     "end_time": "2022-02-10T19:01:33.379422Z",
     "start_time": "2022-02-10T19:01:33.366429Z"
    },
    "lines_to_next_cell": 2
   },
   "outputs": [],
   "source": [
    "# Transmitter parameters:\n",
    "paramTx = parameters()\n",
    "paramTx.M = 16                 # order of the modulation format\n",
    "paramTx.Rs = 32e9              # symbol rate [baud]\n",
    "paramTx.SpS = 2                # samples per symbol\n",
    "paramTx.Nbits = 400000         # total number of bits per polarization\n",
    "paramTx.pulse = \"rrc\"          # pulse shaping filter\n",
    "paramTx.Ntaps = 1024           # number of pulse shaping filter coefficients\n",
    "paramTx.alphaRRC = 0.01        # RRC rolloff\n",
    "paramTx.Pch_dBm = 0            # power of the optical signal [dBm]\n",
    "paramTx.Nch = 1                # number of WDM channels\n",
    "paramTx.Fc = 193.1e12          # central frequency of the optical spectrum\n",
    "paramTx.freqSpac = 37.5e9      # WDM grid spacing\n",
    "\n",
    "# Optical channel parameters:\n",
    "Ltotal = 50      # total link distance [km]\n",
    "alpha = 0        # fiber loss parameter [dB/km]\n",
    "D  = 16          # fiber dispersion parameter [ps/nm/km]\n",
    "Fc = paramTx.Fc  # central optical frequency of the WDM spectrum [Hz]\n",
    "\n",
    "# Receiver parameters:\n",
    "\n",
    "# local oscillator (LO)\n",
    "FO = paramTx.Rs/2  # frequency offset \n",
    "lw = 100e3         # linewidth\n",
    "ϕ_lo = 0           # initial phase in rad\n",
    "Plo_dBm = 9        # power in dBm\n",
    "\n",
    "# General simulation parameters\n",
    "chIndex = 0  # index of the channel to be demodulated\n",
    "plotPSD = True\n",
    "Fs = paramTx.Rs * paramTx.SpS  # simulation sampling rate"
   ]
  },
  {
   "cell_type": "markdown",
   "id": "1b52e211",
   "metadata": {},
   "source": [
    "### BER vs CSPR with KK algorithm"
   ]
  },
  {
   "cell_type": "code",
   "execution_count": 60,
   "id": "11870677",
   "metadata": {
    "ExecuteTime": {
     "end_time": "2022-02-10T19:01:35.010789Z",
     "start_time": "2022-02-10T19:01:33.381422Z"
    }
   },
   "outputs": [
    {
     "name": "stdout",
     "output_type": "stream",
     "text": [
      "channel 0\t fc : 193.1000 THz\n",
      "  mode #0\t power: 0.00 dBm\n",
      "channel 0\t power: 0.00 dBm\n",
      "\n",
      "total WDM signal power: 0.00 dBm\n",
      "CSPR = 3.00 dB\n",
      "\n",
      "\n",
      "nlms - training stage #0\n"
     ]
    },
    {
     "data": {
      "application/vnd.jupyter.widget-view+json": {
       "model_id": "fc38183ef3964d84928e58f0a7f382d1",
       "version_major": 2,
       "version_minor": 0
      },
      "text/plain": [
       "  0%|          | 0/5 [00:00<?, ?it/s]"
      ]
     },
     "metadata": {},
     "output_type": "display_data"
    },
    {
     "name": "stdout",
     "output_type": "stream",
     "text": [
      "nlms pre-convergence training iteration #0\n",
      "nlms MSE = 0.173717.\n",
      "nlms pre-convergence training iteration #1\n",
      "nlms MSE = 0.155126.\n",
      "nlms pre-convergence training iteration #2\n",
      "nlms MSE = 0.154886.\n",
      "nlms pre-convergence training iteration #3\n",
      "nlms MSE = 0.154710.\n",
      "nlms pre-convergence training iteration #4\n",
      "nlms MSE = 0.154583.\n",
      "\n",
      "\n",
      "dd-lms - training stage #1\n",
      "dd-lms MSE = 0.055188.\n",
      "Results:\n",
      "\n",
      "SER: 9.27e-01\n",
      "BER: 4.82e-01\n",
      "SNR: 0.03 dB\n",
      "MI: -0.26 bits\n",
      "GMI: -0.07 bits\n",
      "channel 0\t fc : 193.1000 THz\n",
      "  mode #0\t power: 0.00 dBm\n",
      "channel 0\t power: 0.00 dBm\n",
      "\n",
      "total WDM signal power: 0.00 dBm\n",
      "CSPR = 3.50 dB\n",
      "\n",
      "\n",
      "nlms - training stage #0\n"
     ]
    },
    {
     "data": {
      "application/vnd.jupyter.widget-view+json": {
       "model_id": "bb492dcec5c046eaad18c5fc9c06e53d",
       "version_major": 2,
       "version_minor": 0
      },
      "text/plain": [
       "  0%|          | 0/5 [00:00<?, ?it/s]"
      ]
     },
     "metadata": {},
     "output_type": "display_data"
    },
    {
     "name": "stdout",
     "output_type": "stream",
     "text": [
      "nlms pre-convergence training iteration #0\n",
      "nlms MSE = 0.154862.\n",
      "nlms pre-convergence training iteration #1\n",
      "nlms MSE = 0.134792.\n",
      "nlms pre-convergence training iteration #2\n",
      "nlms MSE = 0.134572.\n",
      "nlms pre-convergence training iteration #3\n",
      "nlms MSE = 0.134423.\n",
      "nlms pre-convergence training iteration #4\n",
      "nlms MSE = 0.134317.\n",
      "\n",
      "\n",
      "dd-lms - training stage #1\n",
      "dd-lms MSE = 0.058712.\n",
      "Results:\n",
      "\n",
      "SER: 9.33e-01\n",
      "BER: 4.85e-01\n",
      "SNR: 0.02 dB\n",
      "MI: -0.43 bits\n",
      "GMI: -0.05 bits\n",
      "channel 0\t fc : 193.1000 THz\n",
      "  mode #0\t power: 0.00 dBm\n",
      "channel 0\t power: -0.00 dBm\n",
      "\n",
      "total WDM signal power: -0.00 dBm\n",
      "CSPR = 4.00 dB\n",
      "\n",
      "\n",
      "nlms - training stage #0\n"
     ]
    },
    {
     "data": {
      "application/vnd.jupyter.widget-view+json": {
       "model_id": "4f194dbfeb0246bb822729f0aac2d12e",
       "version_major": 2,
       "version_minor": 0
      },
      "text/plain": [
       "  0%|          | 0/5 [00:00<?, ?it/s]"
      ]
     },
     "metadata": {},
     "output_type": "display_data"
    },
    {
     "name": "stdout",
     "output_type": "stream",
     "text": [
      "nlms pre-convergence training iteration #0\n",
      "nlms MSE = 0.146154.\n",
      "nlms pre-convergence training iteration #1\n",
      "nlms MSE = 0.131817.\n",
      "nlms pre-convergence training iteration #2\n",
      "nlms MSE = 0.131611.\n",
      "nlms pre-convergence training iteration #3\n",
      "nlms MSE = 0.131459.\n",
      "nlms pre-convergence training iteration #4\n",
      "nlms MSE = 0.131348.\n",
      "\n",
      "\n",
      "dd-lms - training stage #1\n",
      "dd-lms MSE = 0.061966.\n",
      "Results:\n",
      "\n",
      "SER: 9.33e-01\n",
      "BER: 4.93e-01\n",
      "SNR: 0.00 dB\n",
      "MI: -0.32 bits\n",
      "GMI: -0.06 bits\n",
      "channel 0\t fc : 193.1000 THz\n",
      "  mode #0\t power: 0.00 dBm\n",
      "channel 0\t power: -0.00 dBm\n",
      "\n",
      "total WDM signal power: -0.00 dBm\n",
      "CSPR = 4.50 dB\n",
      "\n",
      "\n",
      "nlms - training stage #0\n"
     ]
    },
    {
     "data": {
      "application/vnd.jupyter.widget-view+json": {
       "model_id": "678784a7f05d4af7b595b2c0d588d58b",
       "version_major": 2,
       "version_minor": 0
      },
      "text/plain": [
       "  0%|          | 0/5 [00:00<?, ?it/s]"
      ]
     },
     "metadata": {},
     "output_type": "display_data"
    },
    {
     "name": "stdout",
     "output_type": "stream",
     "text": [
      "nlms pre-convergence training iteration #0\n",
      "nlms MSE = 0.128544.\n",
      "nlms pre-convergence training iteration #1\n",
      "nlms MSE = 0.109711.\n",
      "nlms pre-convergence training iteration #2\n",
      "nlms MSE = 0.109420.\n",
      "nlms pre-convergence training iteration #3\n",
      "nlms MSE = 0.109218.\n",
      "nlms pre-convergence training iteration #4\n",
      "nlms MSE = 0.109070.\n",
      "\n",
      "\n",
      "dd-lms - training stage #1\n",
      "dd-lms MSE = 0.060149.\n",
      "Results:\n",
      "\n",
      "SER: 9.36e-01\n",
      "BER: 4.86e-01\n",
      "SNR: 0.01 dB\n",
      "MI: -0.31 bits\n",
      "GMI: -0.06 bits\n",
      "channel 0\t fc : 193.1000 THz\n",
      "  mode #0\t power: 0.00 dBm\n",
      "channel 0\t power: 0.00 dBm\n",
      "\n",
      "total WDM signal power: 0.00 dBm\n",
      "CSPR = 5.00 dB\n",
      "\n",
      "\n",
      "nlms - training stage #0\n"
     ]
    },
    {
     "data": {
      "application/vnd.jupyter.widget-view+json": {
       "model_id": "62822fc6f04f4d59bb57f4fa00821807",
       "version_major": 2,
       "version_minor": 0
      },
      "text/plain": [
       "  0%|          | 0/5 [00:00<?, ?it/s]"
      ]
     },
     "metadata": {},
     "output_type": "display_data"
    },
    {
     "name": "stdout",
     "output_type": "stream",
     "text": [
      "nlms pre-convergence training iteration #0\n",
      "nlms MSE = 0.121107.\n",
      "nlms pre-convergence training iteration #1\n",
      "nlms MSE = 0.102229.\n",
      "nlms pre-convergence training iteration #2\n",
      "nlms MSE = 0.102002.\n",
      "nlms pre-convergence training iteration #3\n",
      "nlms MSE = 0.101850.\n",
      "nlms pre-convergence training iteration #4\n",
      "nlms MSE = 0.101740.\n",
      "\n",
      "\n",
      "dd-lms - training stage #1\n",
      "dd-lms MSE = 0.052373.\n",
      "Results:\n",
      "\n",
      "SER: 9.26e-01\n",
      "BER: 4.82e-01\n",
      "SNR: -0.10 dB\n",
      "MI: -0.35 bits\n",
      "GMI: -0.06 bits\n",
      "channel 0\t fc : 193.1000 THz\n",
      "  mode #0\t power: 0.00 dBm\n",
      "channel 0\t power: -0.00 dBm\n",
      "\n",
      "total WDM signal power: -0.00 dBm\n",
      "CSPR = 5.50 dB\n",
      "\n",
      "\n",
      "nlms - training stage #0\n"
     ]
    },
    {
     "data": {
      "application/vnd.jupyter.widget-view+json": {
       "model_id": "57d4bb5f3d2c42ba92ddd4a5bacb57a9",
       "version_major": 2,
       "version_minor": 0
      },
      "text/plain": [
       "  0%|          | 0/5 [00:00<?, ?it/s]"
      ]
     },
     "metadata": {},
     "output_type": "display_data"
    },
    {
     "name": "stdout",
     "output_type": "stream",
     "text": [
      "nlms pre-convergence training iteration #0\n",
      "nlms MSE = 0.107301.\n",
      "nlms pre-convergence training iteration #1\n",
      "nlms MSE = 0.086332.\n",
      "nlms pre-convergence training iteration #2\n",
      "nlms MSE = 0.086035.\n",
      "nlms pre-convergence training iteration #3\n",
      "nlms MSE = 0.085845.\n",
      "nlms pre-convergence training iteration #4\n",
      "nlms MSE = 0.085708.\n",
      "\n",
      "\n",
      "dd-lms - training stage #1\n",
      "dd-lms MSE = 0.055102.\n",
      "Results:\n",
      "\n",
      "SER: 9.28e-01\n",
      "BER: 4.82e-01\n",
      "SNR: 0.03 dB\n",
      "MI: -0.28 bits\n",
      "GMI: -0.06 bits\n",
      "channel 0\t fc : 193.1000 THz\n",
      "  mode #0\t power: 0.00 dBm\n",
      "channel 0\t power: 0.00 dBm\n",
      "\n",
      "total WDM signal power: 0.00 dBm\n",
      "CSPR = 6.00 dB\n",
      "\n",
      "\n",
      "nlms - training stage #0\n"
     ]
    },
    {
     "data": {
      "application/vnd.jupyter.widget-view+json": {
       "model_id": "1b7e3757a74b48479c9c4e95e1204c15",
       "version_major": 2,
       "version_minor": 0
      },
      "text/plain": [
       "  0%|          | 0/5 [00:00<?, ?it/s]"
      ]
     },
     "metadata": {},
     "output_type": "display_data"
    },
    {
     "name": "stdout",
     "output_type": "stream",
     "text": [
      "nlms pre-convergence training iteration #0\n",
      "nlms MSE = 0.099362.\n",
      "nlms pre-convergence training iteration #1\n",
      "nlms MSE = 0.079162.\n",
      "nlms pre-convergence training iteration #2\n",
      "nlms MSE = 0.078876.\n",
      "nlms pre-convergence training iteration #3\n",
      "nlms MSE = 0.078675.\n",
      "nlms pre-convergence training iteration #4\n",
      "nlms MSE = 0.078532.\n",
      "\n",
      "\n",
      "dd-lms - training stage #1\n",
      "dd-lms MSE = 0.051797.\n",
      "Results:\n",
      "\n",
      "SER: 9.07e-01\n",
      "BER: 4.60e-01\n",
      "SNR: 0.13 dB\n",
      "MI: -0.19 bits\n",
      "GMI: -0.05 bits\n",
      "channel 0\t fc : 193.1000 THz\n",
      "  mode #0\t power: 0.00 dBm\n",
      "channel 0\t power: -0.00 dBm\n",
      "\n",
      "total WDM signal power: -0.00 dBm\n",
      "CSPR = 6.50 dB\n",
      "\n",
      "\n",
      "nlms - training stage #0\n"
     ]
    },
    {
     "data": {
      "application/vnd.jupyter.widget-view+json": {
       "model_id": "59341a57e81146cd91b25103a5ea0ec9",
       "version_major": 2,
       "version_minor": 0
      },
      "text/plain": [
       "  0%|          | 0/5 [00:00<?, ?it/s]"
      ]
     },
     "metadata": {},
     "output_type": "display_data"
    },
    {
     "name": "stdout",
     "output_type": "stream",
     "text": [
      "nlms pre-convergence training iteration #0\n",
      "nlms MSE = 0.097013.\n",
      "nlms pre-convergence training iteration #1\n",
      "nlms MSE = 0.078747.\n",
      "nlms pre-convergence training iteration #2\n",
      "nlms MSE = 0.078461.\n",
      "nlms pre-convergence training iteration #3\n",
      "nlms MSE = 0.078280.\n",
      "nlms pre-convergence training iteration #4\n",
      "nlms MSE = 0.078150.\n",
      "\n",
      "\n",
      "dd-lms - training stage #1\n",
      "dd-lms MSE = 0.049504.\n",
      "Results:\n",
      "\n",
      "SER: 9.36e-01\n",
      "BER: 4.68e-01\n",
      "SNR: 0.07 dB\n",
      "MI: -0.25 bits\n",
      "GMI: -0.05 bits\n",
      "channel 0\t fc : 193.1000 THz\n",
      "  mode #0\t power: 0.00 dBm\n",
      "channel 0\t power: -0.00 dBm\n",
      "\n",
      "total WDM signal power: -0.00 dBm\n",
      "CSPR = 7.00 dB\n",
      "\n",
      "\n",
      "nlms - training stage #0\n"
     ]
    },
    {
     "data": {
      "application/vnd.jupyter.widget-view+json": {
       "model_id": "ae495448197b4552a32583188e8b3b50",
       "version_major": 2,
       "version_minor": 0
      },
      "text/plain": [
       "  0%|          | 0/5 [00:00<?, ?it/s]"
      ]
     },
     "metadata": {},
     "output_type": "display_data"
    },
    {
     "name": "stdout",
     "output_type": "stream",
     "text": [
      "nlms pre-convergence training iteration #0\n",
      "nlms MSE = 0.087250.\n",
      "nlms pre-convergence training iteration #1\n",
      "nlms MSE = 0.067284.\n",
      "nlms pre-convergence training iteration #2\n",
      "nlms MSE = 0.067022.\n",
      "nlms pre-convergence training iteration #3\n",
      "nlms MSE = 0.066841.\n",
      "nlms pre-convergence training iteration #4\n",
      "nlms MSE = 0.066709.\n",
      "\n",
      "\n",
      "dd-lms - training stage #1\n",
      "dd-lms MSE = 0.046121.\n",
      "Results:\n",
      "\n",
      "SER: 8.94e-01\n",
      "BER: 4.15e-01\n",
      "SNR: 0.80 dB\n",
      "MI: 0.13 bits\n",
      "GMI: 0.11 bits\n",
      "channel 0\t fc : 193.1000 THz\n",
      "  mode #0\t power: 0.00 dBm\n",
      "channel 0\t power: -0.00 dBm\n",
      "\n",
      "total WDM signal power: -0.00 dBm\n",
      "CSPR = 7.50 dB\n",
      "\n",
      "\n",
      "nlms - training stage #0\n"
     ]
    },
    {
     "data": {
      "application/vnd.jupyter.widget-view+json": {
       "model_id": "e314c79864fd4d58891caa3d616ece23",
       "version_major": 2,
       "version_minor": 0
      },
      "text/plain": [
       "  0%|          | 0/5 [00:00<?, ?it/s]"
      ]
     },
     "metadata": {},
     "output_type": "display_data"
    },
    {
     "name": "stdout",
     "output_type": "stream",
     "text": [
      "nlms pre-convergence training iteration #0\n",
      "nlms MSE = 0.078898.\n",
      "nlms pre-convergence training iteration #1\n",
      "nlms MSE = 0.058751.\n",
      "nlms pre-convergence training iteration #2\n",
      "nlms MSE = 0.058457.\n",
      "nlms pre-convergence training iteration #3\n",
      "nlms MSE = 0.058244.\n",
      "nlms pre-convergence training iteration #4\n",
      "nlms MSE = 0.058090.\n",
      "\n",
      "\n",
      "dd-lms - training stage #1\n",
      "dd-lms MSE = 0.042131.\n",
      "Results:\n",
      "\n",
      "SER: 9.24e-01\n",
      "BER: 4.55e-01\n",
      "SNR: 0.24 dB\n",
      "MI: -0.12 bits\n",
      "GMI: -0.03 bits\n",
      "channel 0\t fc : 193.1000 THz\n",
      "  mode #0\t power: 0.00 dBm\n",
      "channel 0\t power: -0.00 dBm\n",
      "\n",
      "total WDM signal power: -0.00 dBm\n",
      "CSPR = 8.00 dB\n",
      "\n",
      "\n",
      "nlms - training stage #0\n"
     ]
    },
    {
     "data": {
      "application/vnd.jupyter.widget-view+json": {
       "model_id": "5c647faa077548f6aa5d88e351df22fb",
       "version_major": 2,
       "version_minor": 0
      },
      "text/plain": [
       "  0%|          | 0/5 [00:00<?, ?it/s]"
      ]
     },
     "metadata": {},
     "output_type": "display_data"
    },
    {
     "name": "stdout",
     "output_type": "stream",
     "text": [
      "nlms pre-convergence training iteration #0\n",
      "nlms MSE = 0.072816.\n",
      "nlms pre-convergence training iteration #1\n",
      "nlms MSE = 0.056465.\n",
      "nlms pre-convergence training iteration #2\n",
      "nlms MSE = 0.056124.\n",
      "nlms pre-convergence training iteration #3\n",
      "nlms MSE = 0.055893.\n",
      "nlms pre-convergence training iteration #4\n",
      "nlms MSE = 0.055726.\n",
      "\n",
      "\n",
      "dd-lms - training stage #1\n",
      "dd-lms MSE = 0.038852.\n",
      "Results:\n",
      "\n",
      "SER: 8.70e-01\n",
      "BER: 4.17e-01\n",
      "SNR: 0.73 dB\n",
      "MI: 0.11 bits\n",
      "GMI: 0.12 bits\n",
      "channel 0\t fc : 193.1000 THz\n",
      "  mode #0\t power: 0.00 dBm\n",
      "channel 0\t power: -0.00 dBm\n",
      "\n",
      "total WDM signal power: -0.00 dBm\n",
      "CSPR = 8.50 dB\n",
      "\n",
      "\n",
      "nlms - training stage #0\n"
     ]
    },
    {
     "data": {
      "application/vnd.jupyter.widget-view+json": {
       "model_id": "211c810dcdf64104818f20ed42c9cbc0",
       "version_major": 2,
       "version_minor": 0
      },
      "text/plain": [
       "  0%|          | 0/5 [00:00<?, ?it/s]"
      ]
     },
     "metadata": {},
     "output_type": "display_data"
    },
    {
     "name": "stdout",
     "output_type": "stream",
     "text": [
      "nlms pre-convergence training iteration #0\n",
      "nlms MSE = 0.069684.\n",
      "nlms pre-convergence training iteration #1\n",
      "nlms MSE = 0.050450.\n",
      "nlms pre-convergence training iteration #2\n",
      "nlms MSE = 0.050117.\n",
      "nlms pre-convergence training iteration #3\n",
      "nlms MSE = 0.049886.\n",
      "nlms pre-convergence training iteration #4\n",
      "nlms MSE = 0.049717.\n",
      "\n",
      "\n",
      "dd-lms - training stage #1\n",
      "dd-lms MSE = 0.035658.\n",
      "Results:\n",
      "\n",
      "SER: 8.52e-01\n",
      "BER: 2.95e-01\n",
      "SNR: 3.03 dB\n",
      "MI: 0.90 bits\n",
      "GMI: 0.75 bits\n",
      "channel 0\t fc : 193.1000 THz\n",
      "  mode #0\t power: 0.00 dBm\n",
      "channel 0\t power: -0.00 dBm\n",
      "\n",
      "total WDM signal power: -0.00 dBm\n",
      "CSPR = 9.00 dB\n",
      "\n",
      "\n",
      "nlms - training stage #0\n"
     ]
    },
    {
     "data": {
      "application/vnd.jupyter.widget-view+json": {
       "model_id": "8490bae51eb547e6856ff35538cb3cb8",
       "version_major": 2,
       "version_minor": 0
      },
      "text/plain": [
       "  0%|          | 0/5 [00:00<?, ?it/s]"
      ]
     },
     "metadata": {},
     "output_type": "display_data"
    },
    {
     "name": "stdout",
     "output_type": "stream",
     "text": [
      "nlms pre-convergence training iteration #0\n",
      "nlms MSE = 0.060611.\n",
      "nlms pre-convergence training iteration #1\n",
      "nlms MSE = 0.043115.\n",
      "nlms pre-convergence training iteration #2\n",
      "nlms MSE = 0.042830.\n",
      "nlms pre-convergence training iteration #3\n",
      "nlms MSE = 0.042634.\n",
      "nlms pre-convergence training iteration #4\n",
      "nlms MSE = 0.042489.\n",
      "\n",
      "\n",
      "dd-lms - training stage #1\n",
      "dd-lms MSE = 0.032604.\n",
      "Results:\n",
      "\n",
      "SER: 3.78e-02\n",
      "BER: 9.71e-03\n",
      "SNR: 14.47 dB\n",
      "MI: 3.81 bits\n",
      "GMI: 3.81 bits\n",
      "channel 0\t fc : 193.1000 THz\n",
      "  mode #0\t power: 0.00 dBm\n",
      "channel 0\t power: 0.00 dBm\n",
      "\n",
      "total WDM signal power: 0.00 dBm\n",
      "CSPR = 9.50 dB\n",
      "\n",
      "\n",
      "nlms - training stage #0\n"
     ]
    },
    {
     "data": {
      "application/vnd.jupyter.widget-view+json": {
       "model_id": "2c8e40dc63634399957f39cfbd0d532d",
       "version_major": 2,
       "version_minor": 0
      },
      "text/plain": [
       "  0%|          | 0/5 [00:00<?, ?it/s]"
      ]
     },
     "metadata": {},
     "output_type": "display_data"
    },
    {
     "name": "stdout",
     "output_type": "stream",
     "text": [
      "nlms pre-convergence training iteration #0\n",
      "nlms MSE = 0.064783.\n",
      "nlms pre-convergence training iteration #1\n",
      "nlms MSE = 0.060142.\n",
      "nlms pre-convergence training iteration #2\n",
      "nlms MSE = 0.059842.\n",
      "nlms pre-convergence training iteration #3\n",
      "nlms MSE = 0.059640.\n",
      "nlms pre-convergence training iteration #4\n",
      "nlms MSE = 0.059494.\n",
      "\n",
      "\n",
      "dd-lms - training stage #1\n",
      "dd-lms MSE = 0.030159.\n",
      "Results:\n",
      "\n",
      "SER: 2.86e-02\n",
      "BER: 7.34e-03\n",
      "SNR: 14.96 dB\n",
      "MI: 3.85 bits\n",
      "GMI: 3.85 bits\n",
      "channel 0\t fc : 193.1000 THz\n",
      "  mode #0\t power: 0.00 dBm\n",
      "channel 0\t power: 0.00 dBm\n",
      "\n",
      "total WDM signal power: 0.00 dBm\n",
      "CSPR = 10.00 dB\n",
      "\n",
      "\n",
      "nlms - training stage #0\n"
     ]
    },
    {
     "data": {
      "application/vnd.jupyter.widget-view+json": {
       "model_id": "160d121acf3a439d83580228f9e4af15",
       "version_major": 2,
       "version_minor": 0
      },
      "text/plain": [
       "  0%|          | 0/5 [00:00<?, ?it/s]"
      ]
     },
     "metadata": {},
     "output_type": "display_data"
    },
    {
     "name": "stdout",
     "output_type": "stream",
     "text": [
      "nlms pre-convergence training iteration #0\n",
      "nlms MSE = 0.055736.\n",
      "nlms pre-convergence training iteration #1\n",
      "nlms MSE = 0.034741.\n",
      "nlms pre-convergence training iteration #2\n",
      "nlms MSE = 0.034457.\n",
      "nlms pre-convergence training iteration #3\n",
      "nlms MSE = 0.034266.\n",
      "nlms pre-convergence training iteration #4\n",
      "nlms MSE = 0.034127.\n",
      "\n",
      "\n",
      "dd-lms - training stage #1\n",
      "dd-lms MSE = 0.026968.\n",
      "Results:\n",
      "\n",
      "SER: 1.99e-02\n",
      "BER: 5.06e-03\n",
      "SNR: 15.62 dB\n",
      "MI: 3.90 bits\n",
      "GMI: 3.90 bits\n",
      "channel 0\t fc : 193.1000 THz\n",
      "  mode #0\t power: 0.00 dBm\n",
      "channel 0\t power: -0.00 dBm\n",
      "\n",
      "total WDM signal power: -0.00 dBm\n",
      "CSPR = 10.50 dB\n",
      "\n",
      "\n",
      "nlms - training stage #0\n"
     ]
    },
    {
     "data": {
      "application/vnd.jupyter.widget-view+json": {
       "model_id": "1bb40b0ee42d4783b84c64d322037902",
       "version_major": 2,
       "version_minor": 0
      },
      "text/plain": [
       "  0%|          | 0/5 [00:00<?, ?it/s]"
      ]
     },
     "metadata": {},
     "output_type": "display_data"
    },
    {
     "name": "stdout",
     "output_type": "stream",
     "text": [
      "nlms pre-convergence training iteration #0\n",
      "nlms MSE = 0.054098.\n",
      "nlms pre-convergence training iteration #1\n",
      "nlms MSE = 0.043095.\n",
      "nlms pre-convergence training iteration #2\n",
      "nlms MSE = 0.042770.\n",
      "nlms pre-convergence training iteration #3\n",
      "nlms MSE = 0.042555.\n",
      "nlms pre-convergence training iteration #4\n",
      "nlms MSE = 0.042399.\n",
      "\n",
      "\n",
      "dd-lms - training stage #1\n",
      "dd-lms MSE = 0.025060.\n",
      "Results:\n",
      "\n",
      "SER: 1.41e-02\n",
      "BER: 3.58e-03\n",
      "SNR: 16.01 dB\n",
      "MI: 3.92 bits\n",
      "GMI: 3.93 bits\n",
      "channel 0\t fc : 193.1000 THz\n",
      "  mode #0\t power: 0.00 dBm\n",
      "channel 0\t power: -0.00 dBm\n",
      "\n",
      "total WDM signal power: -0.00 dBm\n",
      "CSPR = 11.00 dB\n",
      "\n",
      "\n",
      "nlms - training stage #0\n"
     ]
    },
    {
     "data": {
      "application/vnd.jupyter.widget-view+json": {
       "model_id": "c8e98100a654406a8b69694f2c1cb07c",
       "version_major": 2,
       "version_minor": 0
      },
      "text/plain": [
       "  0%|          | 0/5 [00:00<?, ?it/s]"
      ]
     },
     "metadata": {},
     "output_type": "display_data"
    },
    {
     "name": "stdout",
     "output_type": "stream",
     "text": [
      "nlms pre-convergence training iteration #0\n",
      "nlms MSE = 0.057310.\n",
      "nlms pre-convergence training iteration #1\n",
      "nlms MSE = 0.050904.\n",
      "nlms pre-convergence training iteration #2\n",
      "nlms MSE = 0.050582.\n",
      "nlms pre-convergence training iteration #3\n",
      "nlms MSE = 0.050397.\n",
      "nlms pre-convergence training iteration #4\n",
      "nlms MSE = 0.050265.\n",
      "\n",
      "\n",
      "dd-lms - training stage #1\n",
      "dd-lms MSE = 0.022437.\n",
      "Results:\n",
      "\n",
      "SER: 9.61e-03\n",
      "BER: 2.42e-03\n",
      "SNR: 16.56 dB\n",
      "MI: 3.95 bits\n",
      "GMI: 3.95 bits\n",
      "channel 0\t fc : 193.1000 THz\n",
      "  mode #0\t power: 0.00 dBm\n",
      "channel 0\t power: 0.00 dBm\n",
      "\n",
      "total WDM signal power: 0.00 dBm\n",
      "CSPR = 11.50 dB\n",
      "\n",
      "\n",
      "nlms - training stage #0\n"
     ]
    },
    {
     "data": {
      "application/vnd.jupyter.widget-view+json": {
       "model_id": "3bf5ce22ab194b7e90d9a52280f10da2",
       "version_major": 2,
       "version_minor": 0
      },
      "text/plain": [
       "  0%|          | 0/5 [00:00<?, ?it/s]"
      ]
     },
     "metadata": {},
     "output_type": "display_data"
    },
    {
     "name": "stdout",
     "output_type": "stream",
     "text": [
      "nlms pre-convergence training iteration #0\n",
      "nlms MSE = 0.049417.\n",
      "nlms pre-convergence training iteration #1\n",
      "nlms MSE = 0.028882.\n",
      "nlms pre-convergence training iteration #2\n",
      "nlms MSE = 0.028565.\n",
      "nlms pre-convergence training iteration #3\n",
      "nlms MSE = 0.028342.\n",
      "nlms pre-convergence training iteration #4\n",
      "nlms MSE = 0.028180.\n",
      "\n",
      "\n",
      "dd-lms - training stage #1\n",
      "dd-lms MSE = 0.020669.\n",
      "Results:\n",
      "\n",
      "SER: 7.10e-03\n",
      "BER: 1.80e-03\n",
      "SNR: 17.01 dB\n",
      "MI: 3.96 bits\n",
      "GMI: 3.96 bits\n",
      "channel 0\t fc : 193.1000 THz\n",
      "  mode #0\t power: 0.00 dBm\n",
      "channel 0\t power: -0.00 dBm\n",
      "\n",
      "total WDM signal power: -0.00 dBm\n",
      "CSPR = 12.00 dB\n",
      "\n",
      "\n",
      "nlms - training stage #0\n"
     ]
    },
    {
     "data": {
      "application/vnd.jupyter.widget-view+json": {
       "model_id": "05cde5982fab4cbba7eaef120e0e9d09",
       "version_major": 2,
       "version_minor": 0
      },
      "text/plain": [
       "  0%|          | 0/5 [00:00<?, ?it/s]"
      ]
     },
     "metadata": {},
     "output_type": "display_data"
    },
    {
     "name": "stdout",
     "output_type": "stream",
     "text": [
      "nlms pre-convergence training iteration #0\n",
      "nlms MSE = 0.045813.\n",
      "nlms pre-convergence training iteration #1\n",
      "nlms MSE = 0.027172.\n",
      "nlms pre-convergence training iteration #2\n",
      "nlms MSE = 0.026863.\n",
      "nlms pre-convergence training iteration #3\n",
      "nlms MSE = 0.026649.\n",
      "nlms pre-convergence training iteration #4\n",
      "nlms MSE = 0.026493.\n",
      "\n",
      "\n",
      "dd-lms - training stage #1\n",
      "dd-lms MSE = 0.018350.\n",
      "Results:\n",
      "\n",
      "SER: 4.20e-03\n",
      "BER: 1.06e-03\n",
      "SNR: 17.55 dB\n",
      "MI: 3.98 bits\n",
      "GMI: 3.98 bits\n",
      "channel 0\t fc : 193.1000 THz\n",
      "  mode #0\t power: 0.00 dBm\n",
      "channel 0\t power: -0.00 dBm\n",
      "\n",
      "total WDM signal power: -0.00 dBm\n",
      "CSPR = 12.50 dB\n",
      "\n",
      "\n",
      "nlms - training stage #0\n"
     ]
    },
    {
     "data": {
      "application/vnd.jupyter.widget-view+json": {
       "model_id": "b3c3fa1532874549b66a2756ccf4fad1",
       "version_major": 2,
       "version_minor": 0
      },
      "text/plain": [
       "  0%|          | 0/5 [00:00<?, ?it/s]"
      ]
     },
     "metadata": {},
     "output_type": "display_data"
    },
    {
     "name": "stdout",
     "output_type": "stream",
     "text": [
      "nlms pre-convergence training iteration #0\n",
      "nlms MSE = 0.045479.\n",
      "nlms pre-convergence training iteration #1\n",
      "nlms MSE = 0.024791.\n",
      "nlms pre-convergence training iteration #2\n",
      "nlms MSE = 0.024500.\n",
      "nlms pre-convergence training iteration #3\n",
      "nlms MSE = 0.024306.\n",
      "nlms pre-convergence training iteration #4\n",
      "nlms MSE = 0.024165.\n",
      "\n",
      "\n",
      "dd-lms - training stage #1\n",
      "dd-lms MSE = 0.017268.\n",
      "Results:\n",
      "\n",
      "SER: 2.84e-03\n",
      "BER: 7.14e-04\n",
      "SNR: 17.93 dB\n",
      "MI: 3.99 bits\n",
      "GMI: 3.98 bits\n",
      "channel 0\t fc : 193.1000 THz\n",
      "  mode #0\t power: 0.00 dBm\n",
      "channel 0\t power: 0.00 dBm\n",
      "\n",
      "total WDM signal power: 0.00 dBm\n",
      "CSPR = 13.00 dB\n",
      "\n",
      "\n",
      "nlms - training stage #0\n"
     ]
    },
    {
     "data": {
      "application/vnd.jupyter.widget-view+json": {
       "model_id": "44178ae3767d41cb9f3aa1493a99a562",
       "version_major": 2,
       "version_minor": 0
      },
      "text/plain": [
       "  0%|          | 0/5 [00:00<?, ?it/s]"
      ]
     },
     "metadata": {},
     "output_type": "display_data"
    },
    {
     "name": "stdout",
     "output_type": "stream",
     "text": [
      "nlms pre-convergence training iteration #0\n",
      "nlms MSE = 0.046156.\n",
      "nlms pre-convergence training iteration #1\n",
      "nlms MSE = 0.028395.\n",
      "nlms pre-convergence training iteration #2\n",
      "nlms MSE = 0.028051.\n",
      "nlms pre-convergence training iteration #3\n",
      "nlms MSE = 0.027822.\n",
      "nlms pre-convergence training iteration #4\n",
      "nlms MSE = 0.027656.\n",
      "\n",
      "\n",
      "dd-lms - training stage #1\n",
      "dd-lms MSE = 0.015862.\n",
      "Results:\n",
      "\n",
      "SER: 1.76e-03\n",
      "BER: 4.42e-04\n",
      "SNR: 18.33 dB\n",
      "MI: 3.99 bits\n",
      "GMI: 3.99 bits\n",
      "channel 0\t fc : 193.1000 THz\n",
      "  mode #0\t power: 0.00 dBm\n",
      "channel 0\t power: -0.00 dBm\n",
      "\n",
      "total WDM signal power: -0.00 dBm\n",
      "CSPR = 13.50 dB\n",
      "\n",
      "\n",
      "nlms - training stage #0\n"
     ]
    },
    {
     "data": {
      "application/vnd.jupyter.widget-view+json": {
       "model_id": "01644b4a2e564e0697c6aaeb0fbd844f",
       "version_major": 2,
       "version_minor": 0
      },
      "text/plain": [
       "  0%|          | 0/5 [00:00<?, ?it/s]"
      ]
     },
     "metadata": {},
     "output_type": "display_data"
    },
    {
     "name": "stdout",
     "output_type": "stream",
     "text": [
      "nlms pre-convergence training iteration #0\n",
      "nlms MSE = 0.041738.\n",
      "nlms pre-convergence training iteration #1\n",
      "nlms MSE = 0.025835.\n",
      "nlms pre-convergence training iteration #2\n",
      "nlms MSE = 0.025517.\n",
      "nlms pre-convergence training iteration #3\n",
      "nlms MSE = 0.025309.\n",
      "nlms pre-convergence training iteration #4\n",
      "nlms MSE = 0.025158.\n",
      "\n",
      "\n",
      "dd-lms - training stage #1\n",
      "dd-lms MSE = 0.014583.\n",
      "Results:\n",
      "\n",
      "SER: 1.18e-03\n",
      "BER: 2.97e-04\n",
      "SNR: 18.75 dB\n",
      "MI: 3.99 bits\n",
      "GMI: 3.99 bits\n",
      "channel 0\t fc : 193.1000 THz\n",
      "  mode #0\t power: 0.00 dBm\n",
      "channel 0\t power: 0.00 dBm\n",
      "\n",
      "total WDM signal power: 0.00 dBm\n",
      "CSPR = 14.00 dB\n",
      "\n",
      "\n",
      "nlms - training stage #0\n"
     ]
    },
    {
     "data": {
      "application/vnd.jupyter.widget-view+json": {
       "model_id": "34f6c95b6aad4939b1fe6daffadfb5ae",
       "version_major": 2,
       "version_minor": 0
      },
      "text/plain": [
       "  0%|          | 0/5 [00:00<?, ?it/s]"
      ]
     },
     "metadata": {},
     "output_type": "display_data"
    },
    {
     "name": "stdout",
     "output_type": "stream",
     "text": [
      "nlms pre-convergence training iteration #0\n",
      "nlms MSE = 0.042614.\n",
      "nlms pre-convergence training iteration #1\n",
      "nlms MSE = 0.031079.\n",
      "nlms pre-convergence training iteration #2\n",
      "nlms MSE = 0.030754.\n",
      "nlms pre-convergence training iteration #3\n",
      "nlms MSE = 0.030540.\n",
      "nlms pre-convergence training iteration #4\n",
      "nlms MSE = 0.030385.\n",
      "\n",
      "\n",
      "dd-lms - training stage #1\n",
      "dd-lms MSE = 0.013163.\n",
      "Results:\n",
      "\n",
      "SER: 6.89e-04\n",
      "BER: 1.72e-04\n",
      "SNR: 19.21 dB\n",
      "MI: 4.00 bits\n",
      "GMI: 4.00 bits\n",
      "channel 0\t fc : 193.1000 THz\n",
      "  mode #0\t power: 0.00 dBm\n",
      "channel 0\t power: 0.00 dBm\n",
      "\n",
      "total WDM signal power: 0.00 dBm\n",
      "CSPR = 14.50 dB\n",
      "\n",
      "\n",
      "nlms - training stage #0\n"
     ]
    },
    {
     "data": {
      "application/vnd.jupyter.widget-view+json": {
       "model_id": "e77e202f05b241caa2fbf35ae48a41c9",
       "version_major": 2,
       "version_minor": 0
      },
      "text/plain": [
       "  0%|          | 0/5 [00:00<?, ?it/s]"
      ]
     },
     "metadata": {},
     "output_type": "display_data"
    },
    {
     "name": "stdout",
     "output_type": "stream",
     "text": [
      "nlms pre-convergence training iteration #0\n",
      "nlms MSE = 0.042192.\n",
      "nlms pre-convergence training iteration #1\n",
      "nlms MSE = 0.022692.\n",
      "nlms pre-convergence training iteration #2\n",
      "nlms MSE = 0.022368.\n",
      "nlms pre-convergence training iteration #3\n",
      "nlms MSE = 0.022145.\n",
      "nlms pre-convergence training iteration #4\n",
      "nlms MSE = 0.021983.\n",
      "\n",
      "\n",
      "dd-lms - training stage #1\n",
      "dd-lms MSE = 0.012377.\n",
      "Results:\n",
      "\n",
      "SER: 3.33e-04\n",
      "BER: 8.33e-05\n",
      "SNR: 19.50 dB\n",
      "MI: 4.00 bits\n",
      "GMI: 4.00 bits\n",
      "channel 0\t fc : 193.1000 THz\n",
      "  mode #0\t power: 0.00 dBm\n",
      "channel 0\t power: -0.00 dBm\n",
      "\n",
      "total WDM signal power: -0.00 dBm\n",
      "CSPR = 15.00 dB\n",
      "\n",
      "\n",
      "nlms - training stage #0\n"
     ]
    },
    {
     "data": {
      "application/vnd.jupyter.widget-view+json": {
       "model_id": "b289a0eafcc54958a534f21625f61ff5",
       "version_major": 2,
       "version_minor": 0
      },
      "text/plain": [
       "  0%|          | 0/5 [00:00<?, ?it/s]"
      ]
     },
     "metadata": {},
     "output_type": "display_data"
    },
    {
     "name": "stdout",
     "output_type": "stream",
     "text": [
      "nlms pre-convergence training iteration #0\n",
      "nlms MSE = 0.038543.\n",
      "nlms pre-convergence training iteration #1\n",
      "nlms MSE = 0.018016.\n",
      "nlms pre-convergence training iteration #2\n",
      "nlms MSE = 0.017675.\n",
      "nlms pre-convergence training iteration #3\n",
      "nlms MSE = 0.017444.\n",
      "nlms pre-convergence training iteration #4\n",
      "nlms MSE = 0.017275.\n",
      "\n",
      "\n",
      "dd-lms - training stage #1\n",
      "dd-lms MSE = 0.011567.\n",
      "Results:\n",
      "\n",
      "SER: 1.89e-04\n",
      "BER: 4.72e-05\n",
      "SNR: 19.86 dB\n",
      "MI: 4.00 bits\n",
      "GMI: 4.00 bits\n",
      "channel 0\t fc : 193.1000 THz\n",
      "  mode #0\t power: 0.00 dBm\n",
      "channel 0\t power: 0.00 dBm\n",
      "\n",
      "total WDM signal power: 0.00 dBm\n",
      "CSPR = 15.50 dB\n",
      "\n",
      "\n",
      "nlms - training stage #0\n"
     ]
    },
    {
     "data": {
      "application/vnd.jupyter.widget-view+json": {
       "model_id": "f4f05c05932d4644ae0e53abfb30c214",
       "version_major": 2,
       "version_minor": 0
      },
      "text/plain": [
       "  0%|          | 0/5 [00:00<?, ?it/s]"
      ]
     },
     "metadata": {},
     "output_type": "display_data"
    },
    {
     "name": "stdout",
     "output_type": "stream",
     "text": [
      "nlms pre-convergence training iteration #0\n",
      "nlms MSE = 0.037935.\n",
      "nlms pre-convergence training iteration #1\n",
      "nlms MSE = 0.019498.\n",
      "nlms pre-convergence training iteration #2\n",
      "nlms MSE = 0.019177.\n",
      "nlms pre-convergence training iteration #3\n",
      "nlms MSE = 0.018964.\n",
      "nlms pre-convergence training iteration #4\n",
      "nlms MSE = 0.018809.\n",
      "\n",
      "\n",
      "dd-lms - training stage #1\n",
      "dd-lms MSE = 0.010808.\n",
      "Results:\n",
      "\n",
      "SER: 1.00e-04\n",
      "BER: 2.50e-05\n",
      "SNR: 20.19 dB\n",
      "MI: 4.00 bits\n",
      "GMI: 4.00 bits\n"
     ]
    }
   ],
   "source": [
    "CSPR = np.arange(3, 16, 0.5)\n",
    "\n",
    "BER_KK = np.zeros(CSPR.size)\n",
    "SER_KK = np.zeros(CSPR.size)\n",
    "GMI_KK = np.zeros(CSPR.size)\n",
    "MI_KK  = np.zeros(CSPR.size)\n",
    "SNR_KK = np.zeros(CSPR.size)\n",
    "\n",
    "for indCSPR, CSPR_ in enumerate(CSPR):\n",
    "\n",
    "    # generate optical signal signal\n",
    "    sigTx, symbTx_, paramTx = simpleWDMTx(paramTx)\n",
    "\n",
    "    # simulate linear signal propagation\n",
    "    sigCh = linFiberCh(sigTx, Ltotal, alpha, D, Fc, Fs)\n",
    "    \n",
    "    # receiver detection and demodulation\n",
    "\n",
    "    Fc = paramTx.Fc\n",
    "    Ts = 1 / Fs\n",
    "    mod = QAMModem(m=paramTx.M)\n",
    "\n",
    "    freqGrid = paramTx.freqGrid\n",
    "\n",
    "    symbTx = symbTx_[:, :, chIndex]\n",
    "    \n",
    "    Plo_dBm = CSPR_\n",
    "    Plo = 10 ** (Plo_dBm / 10) * 1e-3  # power in W\n",
    "\n",
    "#     print(\n",
    "#         \"Local oscillator P: %.2f dBm, lw: %.2f kHz, FO: %.2f MHz\"\n",
    "#         % (Plo_dBm, lw / 1e3, FO / 1e6)\n",
    "#     )\n",
    "\n",
    "    # generate LO field\n",
    "    π = np.pi\n",
    "    t = np.arange(0, len(sigCh))*Ts\n",
    "    ϕ_pn_lo = phaseNoise(lw, len(sigCh), Ts)\n",
    "\n",
    "    sigLO = np.sqrt(Plo) * np.exp(-1j * (2 * π * FO * t + ϕ_lo + ϕ_pn_lo))\n",
    "\n",
    "    # Add LO to the received signal\n",
    "    sigRx = np.sqrt(Plo) + sigCh* np.exp(1j * (2 * π * FO * t + ϕ_lo + ϕ_pn_lo))\n",
    "    sfm   = sigRx.copy()\n",
    "\n",
    "    print('CSPR = %.2f dB'%(10*np.log10(signal_power(sigLO)/signal_power(sigCh))))\n",
    "\n",
    "    ### Phase-retrieval stage\n",
    "\n",
    "    # simulate ideal direct-detection optical receiver\n",
    "    Amp = np.abs(sigRx)\n",
    "\n",
    "    # Kramers-Kronig phase-retrieval\n",
    "    phiTime = KramersKronigRx(Amp, Fs)\n",
    "\n",
    "    # optical field reconstruction\n",
    "    sigRx = Amp*np.exp(1j*phiTime)\n",
    "\n",
    "    # remove DC level\n",
    "    sigRx -= np.sqrt(Plo)  # np.mean(sigRx)\n",
    "\n",
    "    # downshift to baseband\n",
    "    sigRx *= np.exp(-1j * (2 * π * FO * t))\n",
    "\n",
    "    #### Standard receiver processing\n",
    "\n",
    "    # Matched filtering and CD compensation\n",
    "\n",
    "    # Matched filtering\n",
    "    if paramTx.pulse == \"nrz\":\n",
    "        pulse = pulseShape(\"nrz\", paramTx.SpS)\n",
    "    elif paramTx.pulse == \"rrc\":\n",
    "        pulse = pulseShape(\n",
    "            \"rrc\", paramTx.SpS, N=paramTx.Ntaps, alpha=paramTx.alphaRRC, Ts=1 / paramTx.Rs\n",
    "        )\n",
    "\n",
    "    pulse = pulse / np.max(np.abs(pulse))\n",
    "    sigRx = firFilter(pulse, sigRx)\n",
    "\n",
    "#     # plot constellations after matched filtering\n",
    "#     pconst(sigRx[0::paramTx.SpS], lim=True, R=3)\n",
    "\n",
    "    # CD compensation\n",
    "    sigRx = edc(sigRx, Ltotal, D, Fc, Fs)\n",
    "\n",
    "#     #plot constellations after CD compensation\n",
    "#     pconst(sigRx[0::paramTx.SpS], lim=True, R=2)\n",
    "\n",
    "    # Downsampling to 2 sps and re-synchronization with transmitted sequences\n",
    "    sigRx = sigRx.reshape(-1, 1)\n",
    "\n",
    "    # decimation\n",
    "    paramDec = parameters()\n",
    "    paramDec.SpS_in = paramTx.SpS\n",
    "    paramDec.SpS_out = 2\n",
    "    sigRx = decimate(sigRx, paramDec)\n",
    "\n",
    "    symbRx = symbolSync(sigRx, symbTx, 2)\n",
    "\n",
    "    # Power normalization\n",
    "    x = sigRx\n",
    "    d = symbRx\n",
    "\n",
    "    x = x.reshape(len(x), 1) / np.sqrt(signal_power(x))\n",
    "    d = d.reshape(len(d), 1) / np.sqrt(signal_power(d))\n",
    "\n",
    "    # Adaptive equalization\n",
    "    mod = QAMModem(m=paramTx.M)\n",
    "\n",
    "    paramEq = parameters()\n",
    "    paramEq.nTaps = 7\n",
    "    paramEq.SpS = 2\n",
    "    paramEq.mu = [5e-3, 5e-3]\n",
    "    paramEq.numIter = 5\n",
    "    paramEq.storeCoeff = False\n",
    "    paramEq.alg = [\"nlms\", \"dd-lms\"]\n",
    "    paramEq.M = paramTx.M\n",
    "    paramEq.L = [20000, 80000]\n",
    "\n",
    "    y_EQ, H, errSq, Hiter = mimoAdaptEqualizer(x, dx=d, paramEq=paramEq)\n",
    "\n",
    "   # y_EQ = x[0::paramTx.SpS]\n",
    "    discard = int(paramEq.L[0]/2)\n",
    "\n",
    "#     #plot constellations after adaptive equalization\n",
    "#     pconst(y_EQ[discard:-discard,:], lim=True)\n",
    "\n",
    "    # Carrier phase recovery\n",
    "    paramCPR = parameters()\n",
    "    paramCPR.alg = \"bps\"\n",
    "    paramCPR.M = paramTx.M\n",
    "    paramCPR.N = 35\n",
    "    paramCPR.B = 64\n",
    "    paramCPR.pilotInd = np.arange(0, len(y_EQ), 20)\n",
    "\n",
    "    y_CPR, θ = cpr(y_EQ, symbTx=d, paramCPR=paramCPR)\n",
    "\n",
    "    y_CPR = y_CPR / np.sqrt(signal_power(y_CPR))\n",
    "\n",
    "#     plt.figure()\n",
    "#     plt.title(\"CPR estimated phase\")\n",
    "#     plt.plot(θ, \"-\")\n",
    "#     plt.xlim(0, len(θ))\n",
    "#     plt.grid()\n",
    "\n",
    "    discard = 5000\n",
    "\n",
    "#     # plot constellations after CPR\n",
    "#     pconst(y_CPR[discard:-discard, :], lim=True)\n",
    "\n",
    "    #### Evaluate transmission metrics\n",
    "\n",
    "    # correct for (possible) phase ambiguity\n",
    "    for k in range(y_CPR.shape[1]):\n",
    "        rot = np.mean(d[:, k] / y_CPR[:, k])\n",
    "        y_CPR[:, k] = rot * y_CPR[:, k]\n",
    "\n",
    "    y_CPR = y_CPR / np.sqrt(signal_power(y_CPR))\n",
    "\n",
    "    ind = np.arange(discard, d.shape[0] - discard)\n",
    "    BER_KK[indCSPR], SER_KK[indCSPR], SNR_KK[indCSPR] = fastBERcalc(y_CPR[ind, :], d[ind, :], mod)\n",
    "    GMI_KK[indCSPR], _ = monteCarloGMI(y_CPR[ind, :], d[ind, :], mod)\n",
    "    MI_KK[indCSPR] = monteCarloMI(y_CPR[ind, :], d[ind, :], mod)\n",
    "\n",
    "    print(\"Results:\\n\")\n",
    "    print(\"SER: %.2e\" % (SER_KK[indCSPR]))\n",
    "    print(\"BER: %.2e\" % (BER_KK[indCSPR]))\n",
    "    print(\"SNR: %.2f dB\" % (SNR_KK[indCSPR]))\n",
    "    print(\"MI: %.2f bits\" % (MI_KK[indCSPR]))\n",
    "    print(\"GMI: %.2f bits\" % (GMI_KK[indCSPR]));"
   ]
  },
  {
   "cell_type": "code",
   "execution_count": 61,
   "id": "297a16e1",
   "metadata": {
    "ExecuteTime": {
     "end_time": "2022-02-10T19:12:29.381297Z",
     "start_time": "2022-02-10T19:12:29.331330Z"
    }
   },
   "outputs": [
    {
     "data": {
      "image/png": "[encoded data removed]",
      "text/plain": [
       "<Figure size 432x288 with 1 Axes>"
      ]
     },
     "metadata": {
      "needs_background": "light"
     },
     "output_type": "display_data"
    }
   ],
   "source": [
    "plt.plot(CSPR, np.log10(BER_KK),'-o')\n",
    "plt.xlabel('CSPR (dB)')\n",
    "plt.ylabel('log10(BER)')\n",
    "plt.grid();"
   ]
  },
  {
   "cell_type": "markdown",
   "id": "85ee14f1",
   "metadata": {},
   "source": [
    "## BER vs CSPR with NN algorithm"
   ]
  },
  {
   "cell_type": "code",
   "execution_count": 62,
   "id": "66ae9c83",
   "metadata": {},
   "outputs": [
    {
     "name": "stdout",
     "output_type": "stream",
     "text": [
      "channel 0\t fc : 193.1000 THz\n",
      "  mode #0\t power: 0.00 dBm\n",
      "channel 0\t power: -0.00 dBm\n",
      "\n",
      "total WDM signal power: -0.00 dBm\n",
      "CSPR = 3.00 dB\n",
      "\n",
      "\n",
      "nlms - training stage #0\n"
     ]
    },
    {
     "data": {
      "application/vnd.jupyter.widget-view+json": {
       "model_id": "dcbbd8b7fa6d43fe88eaa23141f94322",
       "version_major": 2,
       "version_minor": 0
      },
      "text/plain": [
       "  0%|          | 0/5 [00:00<?, ?it/s]"
      ]
     },
     "metadata": {},
     "output_type": "display_data"
    },
    {
     "name": "stdout",
     "output_type": "stream",
     "text": [
      "nlms pre-convergence training iteration #0\n",
      "nlms MSE = 0.083364.\n",
      "nlms pre-convergence training iteration #1\n",
      "nlms MSE = 0.082680.\n",
      "nlms pre-convergence training iteration #2\n",
      "nlms MSE = 0.082659.\n",
      "nlms pre-convergence training iteration #3\n",
      "nlms MSE = 0.082651.\n",
      "nlms pre-convergence training iteration #4\n",
      "nlms MSE = 0.082645.\n",
      "\n",
      "\n",
      "dd-lms - training stage #1\n",
      "dd-lms MSE = 0.042049.\n",
      "Results:\n",
      "\n",
      "SER: 8.88e-01\n",
      "BER: 4.04e-01\n",
      "SNR: 0.75 dB\n",
      "MI: 0.11 bits\n",
      "GMI: 0.10 bits\n",
      "channel 0\t fc : 193.1000 THz\n",
      "  mode #0\t power: 0.00 dBm\n",
      "channel 0\t power: -0.00 dBm\n",
      "\n",
      "total WDM signal power: -0.00 dBm\n",
      "CSPR = 3.50 dB\n",
      "\n",
      "\n",
      "nlms - training stage #0\n"
     ]
    },
    {
     "data": {
      "application/vnd.jupyter.widget-view+json": {
       "model_id": "a6299c7212c6407392630055d25e6dfd",
       "version_major": 2,
       "version_minor": 0
      },
      "text/plain": [
       "  0%|          | 0/5 [00:00<?, ?it/s]"
      ]
     },
     "metadata": {},
     "output_type": "display_data"
    },
    {
     "name": "stdout",
     "output_type": "stream",
     "text": [
      "nlms pre-convergence training iteration #0\n",
      "nlms MSE = 0.065341.\n",
      "nlms pre-convergence training iteration #1\n",
      "nlms MSE = 0.070547.\n",
      "nlms pre-convergence training iteration #2\n",
      "nlms MSE = 0.070573.\n",
      "nlms pre-convergence training iteration #3\n",
      "nlms MSE = 0.070571.\n",
      "nlms pre-convergence training iteration #4\n",
      "nlms MSE = 0.070568.\n",
      "\n",
      "\n",
      "dd-lms - training stage #1\n",
      "dd-lms MSE = 0.037760.\n",
      "Results:\n",
      "\n",
      "SER: 8.57e-01\n",
      "BER: 4.06e-01\n",
      "SNR: 0.71 dB\n",
      "MI: 0.08 bits\n",
      "GMI: 0.11 bits\n",
      "channel 0\t fc : 193.1000 THz\n",
      "  mode #0\t power: 0.00 dBm\n",
      "channel 0\t power: -0.00 dBm\n",
      "\n",
      "total WDM signal power: -0.00 dBm\n",
      "CSPR = 4.00 dB\n",
      "\n",
      "\n",
      "nlms - training stage #0\n"
     ]
    },
    {
     "data": {
      "application/vnd.jupyter.widget-view+json": {
       "model_id": "566084b50cde482e9acb3fbaf941cbae",
       "version_major": 2,
       "version_minor": 0
      },
      "text/plain": [
       "  0%|          | 0/5 [00:00<?, ?it/s]"
      ]
     },
     "metadata": {},
     "output_type": "display_data"
    },
    {
     "name": "stdout",
     "output_type": "stream",
     "text": [
      "nlms pre-convergence training iteration #0\n",
      "nlms MSE = 0.055052.\n",
      "nlms pre-convergence training iteration #1\n",
      "nlms MSE = 0.058205.\n",
      "nlms pre-convergence training iteration #2\n",
      "nlms MSE = 0.058214.\n",
      "nlms pre-convergence training iteration #3\n",
      "nlms MSE = 0.058211.\n",
      "nlms pre-convergence training iteration #4\n",
      "nlms MSE = 0.058209.\n",
      "\n",
      "\n",
      "dd-lms - training stage #1\n",
      "dd-lms MSE = 0.033290.\n",
      "Results:\n",
      "\n",
      "SER: 8.13e-01\n",
      "BER: 2.80e-01\n",
      "SNR: 3.22 dB\n",
      "MI: 0.97 bits\n",
      "GMI: 0.86 bits\n",
      "channel 0\t fc : 193.1000 THz\n",
      "  mode #0\t power: 0.00 dBm\n",
      "channel 0\t power: 0.00 dBm\n",
      "\n",
      "total WDM signal power: 0.00 dBm\n",
      "CSPR = 4.50 dB\n",
      "\n",
      "\n",
      "nlms - training stage #0\n"
     ]
    },
    {
     "data": {
      "application/vnd.jupyter.widget-view+json": {
       "model_id": "5d8c25db0b59406a9b29203dda03fef6",
       "version_major": 2,
       "version_minor": 0
      },
      "text/plain": [
       "  0%|          | 0/5 [00:00<?, ?it/s]"
      ]
     },
     "metadata": {},
     "output_type": "display_data"
    },
    {
     "name": "stdout",
     "output_type": "stream",
     "text": [
      "nlms pre-convergence training iteration #0\n",
      "nlms MSE = 0.046086.\n",
      "nlms pre-convergence training iteration #1\n",
      "nlms MSE = 0.045858.\n",
      "nlms pre-convergence training iteration #2\n",
      "nlms MSE = 0.045856.\n",
      "nlms pre-convergence training iteration #3\n",
      "nlms MSE = 0.045853.\n",
      "nlms pre-convergence training iteration #4\n",
      "nlms MSE = 0.045851.\n",
      "\n",
      "\n",
      "dd-lms - training stage #1\n",
      "dd-lms MSE = 0.029714.\n",
      "Results:\n",
      "\n",
      "SER: 8.42e-01\n",
      "BER: 4.05e-01\n",
      "SNR: 0.76 dB\n",
      "MI: 0.11 bits\n",
      "GMI: 0.14 bits\n",
      "channel 0\t fc : 193.1000 THz\n",
      "  mode #0\t power: 0.00 dBm\n",
      "channel 0\t power: -0.00 dBm\n",
      "\n",
      "total WDM signal power: -0.00 dBm\n",
      "CSPR = 5.00 dB\n",
      "\n",
      "\n",
      "nlms - training stage #0\n"
     ]
    },
    {
     "data": {
      "application/vnd.jupyter.widget-view+json": {
       "model_id": "ad1ba728752f4e31a3797b61efe8a17d",
       "version_major": 2,
       "version_minor": 0
      },
      "text/plain": [
       "  0%|          | 0/5 [00:00<?, ?it/s]"
      ]
     },
     "metadata": {},
     "output_type": "display_data"
    },
    {
     "name": "stdout",
     "output_type": "stream",
     "text": [
      "nlms pre-convergence training iteration #0\n",
      "nlms MSE = 0.040001.\n",
      "nlms pre-convergence training iteration #1\n",
      "nlms MSE = 0.039793.\n",
      "nlms pre-convergence training iteration #2\n",
      "nlms MSE = 0.039796.\n",
      "nlms pre-convergence training iteration #3\n",
      "nlms MSE = 0.039794.\n",
      "nlms pre-convergence training iteration #4\n",
      "nlms MSE = 0.039792.\n",
      "\n",
      "\n",
      "dd-lms - training stage #1\n",
      "dd-lms MSE = 0.025657.\n",
      "Results:\n",
      "\n",
      "SER: 4.60e-02\n",
      "BER: 1.27e-02\n",
      "SNR: 14.89 dB\n",
      "MI: 3.63 bits\n",
      "GMI: 3.64 bits\n",
      "channel 0\t fc : 193.1000 THz\n",
      "  mode #0\t power: 0.00 dBm\n",
      "channel 0\t power: -0.00 dBm\n",
      "\n",
      "total WDM signal power: -0.00 dBm\n",
      "CSPR = 5.50 dB\n",
      "\n",
      "\n",
      "nlms - training stage #0\n"
     ]
    },
    {
     "data": {
      "application/vnd.jupyter.widget-view+json": {
       "model_id": "888a9011f7fe4b69a032ade819f25a1c",
       "version_major": 2,
       "version_minor": 0
      },
      "text/plain": [
       "  0%|          | 0/5 [00:00<?, ?it/s]"
      ]
     },
     "metadata": {},
     "output_type": "display_data"
    },
    {
     "name": "stdout",
     "output_type": "stream",
     "text": [
      "nlms pre-convergence training iteration #0\n",
      "nlms MSE = 0.037004.\n",
      "nlms pre-convergence training iteration #1\n",
      "nlms MSE = 0.036918.\n",
      "nlms pre-convergence training iteration #2\n",
      "nlms MSE = 0.036911.\n",
      "nlms pre-convergence training iteration #3\n",
      "nlms MSE = 0.036910.\n",
      "nlms pre-convergence training iteration #4\n",
      "nlms MSE = 0.036909.\n",
      "\n",
      "\n",
      "dd-lms - training stage #1\n",
      "dd-lms MSE = 0.022080.\n",
      "Results:\n",
      "\n",
      "SER: 3.14e-02\n",
      "BER: 8.56e-03\n",
      "SNR: 15.87 dB\n",
      "MI: 3.72 bits\n",
      "GMI: 3.73 bits\n",
      "channel 0\t fc : 193.1000 THz\n",
      "  mode #0\t power: 0.00 dBm\n",
      "channel 0\t power: 0.00 dBm\n",
      "\n",
      "total WDM signal power: 0.00 dBm\n",
      "CSPR = 6.00 dB\n",
      "\n",
      "\n",
      "nlms - training stage #0\n"
     ]
    },
    {
     "data": {
      "application/vnd.jupyter.widget-view+json": {
       "model_id": "594dde64aa374610815b9262e713d7aa",
       "version_major": 2,
       "version_minor": 0
      },
      "text/plain": [
       "  0%|          | 0/5 [00:00<?, ?it/s]"
      ]
     },
     "metadata": {},
     "output_type": "display_data"
    },
    {
     "name": "stdout",
     "output_type": "stream",
     "text": [
      "nlms pre-convergence training iteration #0\n",
      "nlms MSE = 0.029369.\n",
      "nlms pre-convergence training iteration #1\n",
      "nlms MSE = 0.043310.\n",
      "nlms pre-convergence training iteration #2\n",
      "nlms MSE = 0.043433.\n",
      "nlms pre-convergence training iteration #3\n",
      "nlms MSE = 0.043438.\n",
      "nlms pre-convergence training iteration #4\n",
      "nlms MSE = 0.043438.\n",
      "\n",
      "\n",
      "dd-lms - training stage #1\n",
      "dd-lms MSE = 0.019238.\n",
      "Results:\n",
      "\n",
      "SER: 2.21e-02\n",
      "BER: 5.94e-03\n",
      "SNR: 16.70 dB\n",
      "MI: 3.78 bits\n",
      "GMI: 3.78 bits\n",
      "channel 0\t fc : 193.1000 THz\n",
      "  mode #0\t power: 0.00 dBm\n",
      "channel 0\t power: 0.00 dBm\n",
      "\n",
      "total WDM signal power: 0.00 dBm\n",
      "CSPR = 6.50 dB\n",
      "\n",
      "\n",
      "nlms - training stage #0\n"
     ]
    },
    {
     "data": {
      "application/vnd.jupyter.widget-view+json": {
       "model_id": "1ec6ee3433a54800aeba94398f21161e",
       "version_major": 2,
       "version_minor": 0
      },
      "text/plain": [
       "  0%|          | 0/5 [00:00<?, ?it/s]"
      ]
     },
     "metadata": {},
     "output_type": "display_data"
    },
    {
     "name": "stdout",
     "output_type": "stream",
     "text": [
      "nlms pre-convergence training iteration #0\n",
      "nlms MSE = 0.019995.\n",
      "nlms pre-convergence training iteration #1\n",
      "nlms MSE = 0.019903.\n",
      "nlms pre-convergence training iteration #2\n",
      "nlms MSE = 0.019901.\n",
      "nlms pre-convergence training iteration #3\n",
      "nlms MSE = 0.019901.\n",
      "nlms pre-convergence training iteration #4\n",
      "nlms MSE = 0.019900.\n",
      "\n",
      "\n",
      "dd-lms - training stage #1\n",
      "dd-lms MSE = 0.016017.\n",
      "Results:\n",
      "\n",
      "SER: 1.31e-02\n",
      "BER: 3.47e-03\n",
      "SNR: 17.84 dB\n",
      "MI: 3.85 bits\n",
      "GMI: 3.85 bits\n",
      "channel 0\t fc : 193.1000 THz\n",
      "  mode #0\t power: 0.00 dBm\n",
      "channel 0\t power: 0.00 dBm\n",
      "\n",
      "total WDM signal power: 0.00 dBm\n",
      "CSPR = 7.00 dB\n",
      "\n",
      "\n",
      "nlms - training stage #0\n"
     ]
    },
    {
     "data": {
      "application/vnd.jupyter.widget-view+json": {
       "model_id": "c3a8bc3eb95a4147b39d98e254ee6548",
       "version_major": 2,
       "version_minor": 0
      },
      "text/plain": [
       "  0%|          | 0/5 [00:00<?, ?it/s]"
      ]
     },
     "metadata": {},
     "output_type": "display_data"
    },
    {
     "name": "stdout",
     "output_type": "stream",
     "text": [
      "nlms pre-convergence training iteration #0\n",
      "nlms MSE = 0.022823.\n",
      "nlms pre-convergence training iteration #1\n",
      "nlms MSE = 0.027120.\n",
      "nlms pre-convergence training iteration #2\n",
      "nlms MSE = 0.027200.\n",
      "nlms pre-convergence training iteration #3\n",
      "nlms MSE = 0.027203.\n",
      "nlms pre-convergence training iteration #4\n",
      "nlms MSE = 0.027203.\n",
      "\n",
      "\n",
      "dd-lms - training stage #1\n",
      "dd-lms MSE = 0.014028.\n",
      "Results:\n",
      "\n",
      "SER: 8.88e-03\n",
      "BER: 2.34e-03\n",
      "SNR: 18.54 dB\n",
      "MI: 3.89 bits\n",
      "GMI: 3.89 bits\n",
      "channel 0\t fc : 193.1000 THz\n",
      "  mode #0\t power: 0.00 dBm\n",
      "channel 0\t power: -0.00 dBm\n",
      "\n",
      "total WDM signal power: -0.00 dBm\n",
      "CSPR = 7.50 dB\n",
      "\n",
      "\n",
      "nlms - training stage #0\n"
     ]
    },
    {
     "data": {
      "application/vnd.jupyter.widget-view+json": {
       "model_id": "b9968d991bb1439c8c64f52972a2adb5",
       "version_major": 2,
       "version_minor": 0
      },
      "text/plain": [
       "  0%|          | 0/5 [00:00<?, ?it/s]"
      ]
     },
     "metadata": {},
     "output_type": "display_data"
    },
    {
     "name": "stdout",
     "output_type": "stream",
     "text": [
      "nlms pre-convergence training iteration #0\n",
      "nlms MSE = 0.019754.\n",
      "nlms pre-convergence training iteration #1\n",
      "nlms MSE = 0.019682.\n",
      "nlms pre-convergence training iteration #2\n",
      "nlms MSE = 0.019680.\n",
      "nlms pre-convergence training iteration #3\n",
      "nlms MSE = 0.019679.\n",
      "nlms pre-convergence training iteration #4\n",
      "nlms MSE = 0.019678.\n",
      "\n",
      "\n",
      "dd-lms - training stage #1\n",
      "dd-lms MSE = 0.012284.\n",
      "Results:\n",
      "\n",
      "SER: 5.34e-03\n",
      "BER: 1.41e-03\n",
      "SNR: 19.31 dB\n",
      "MI: 3.93 bits\n",
      "GMI: 3.93 bits\n",
      "channel 0\t fc : 193.1000 THz\n",
      "  mode #0\t power: 0.00 dBm\n",
      "channel 0\t power: -0.00 dBm\n",
      "\n",
      "total WDM signal power: -0.00 dBm\n",
      "CSPR = 8.00 dB\n",
      "\n",
      "\n",
      "nlms - training stage #0\n"
     ]
    },
    {
     "data": {
      "application/vnd.jupyter.widget-view+json": {
       "model_id": "3ad52945c50041ab820accae1adc6392",
       "version_major": 2,
       "version_minor": 0
      },
      "text/plain": [
       "  0%|          | 0/5 [00:00<?, ?it/s]"
      ]
     },
     "metadata": {},
     "output_type": "display_data"
    },
    {
     "name": "stdout",
     "output_type": "stream",
     "text": [
      "nlms pre-convergence training iteration #0\n",
      "nlms MSE = 0.017143.\n",
      "nlms pre-convergence training iteration #1\n",
      "nlms MSE = 0.023065.\n",
      "nlms pre-convergence training iteration #2\n",
      "nlms MSE = 0.023091.\n",
      "nlms pre-convergence training iteration #3\n",
      "nlms MSE = 0.023092.\n",
      "nlms pre-convergence training iteration #4\n",
      "nlms MSE = 0.023092.\n",
      "\n",
      "\n",
      "dd-lms - training stage #1\n",
      "dd-lms MSE = 0.010813.\n",
      "Results:\n",
      "\n",
      "SER: 3.09e-03\n",
      "BER: 8.03e-04\n",
      "SNR: 20.00 dB\n",
      "MI: 3.96 bits\n",
      "GMI: 3.96 bits\n",
      "channel 0\t fc : 193.1000 THz\n",
      "  mode #0\t power: 0.00 dBm\n",
      "channel 0\t power: -0.00 dBm\n",
      "\n",
      "total WDM signal power: -0.00 dBm\n",
      "CSPR = 8.50 dB\n",
      "\n",
      "\n",
      "nlms - training stage #0\n"
     ]
    },
    {
     "data": {
      "application/vnd.jupyter.widget-view+json": {
       "model_id": "316dd79a0f1d403babb499f7a3dca6c2",
       "version_major": 2,
       "version_minor": 0
      },
      "text/plain": [
       "  0%|          | 0/5 [00:00<?, ?it/s]"
      ]
     },
     "metadata": {},
     "output_type": "display_data"
    },
    {
     "name": "stdout",
     "output_type": "stream",
     "text": [
      "nlms pre-convergence training iteration #0\n",
      "nlms MSE = 0.018851.\n",
      "nlms pre-convergence training iteration #1\n",
      "nlms MSE = 0.025861.\n",
      "nlms pre-convergence training iteration #2\n",
      "nlms MSE = 0.025932.\n",
      "nlms pre-convergence training iteration #3\n",
      "nlms MSE = 0.025935.\n",
      "nlms pre-convergence training iteration #4\n",
      "nlms MSE = 0.025934.\n",
      "\n",
      "\n",
      "dd-lms - training stage #1\n",
      "dd-lms MSE = 0.009266.\n",
      "Results:\n",
      "\n",
      "SER: 1.69e-03\n",
      "BER: 4.28e-04\n",
      "SNR: 20.68 dB\n",
      "MI: 3.97 bits\n",
      "GMI: 3.98 bits\n",
      "channel 0\t fc : 193.1000 THz\n",
      "  mode #0\t power: 0.00 dBm\n",
      "channel 0\t power: -0.00 dBm\n",
      "\n",
      "total WDM signal power: -0.00 dBm\n",
      "CSPR = 9.00 dB\n",
      "\n",
      "\n",
      "nlms - training stage #0\n"
     ]
    },
    {
     "data": {
      "application/vnd.jupyter.widget-view+json": {
       "model_id": "ecdb9bf6901648299bb28282d3033b97",
       "version_major": 2,
       "version_minor": 0
      },
      "text/plain": [
       "  0%|          | 0/5 [00:00<?, ?it/s]"
      ]
     },
     "metadata": {},
     "output_type": "display_data"
    },
    {
     "name": "stdout",
     "output_type": "stream",
     "text": [
      "nlms pre-convergence training iteration #0\n",
      "nlms MSE = 0.020230.\n",
      "nlms pre-convergence training iteration #1\n",
      "nlms MSE = 0.020230.\n",
      "nlms pre-convergence training iteration #2\n",
      "nlms MSE = 0.020232.\n",
      "nlms pre-convergence training iteration #3\n",
      "nlms MSE = 0.020230.\n",
      "nlms pre-convergence training iteration #4\n",
      "nlms MSE = 0.020229.\n",
      "\n",
      "\n",
      "dd-lms - training stage #1\n",
      "dd-lms MSE = 0.008876.\n",
      "Results:\n",
      "\n",
      "SER: 8.56e-04\n",
      "BER: 2.19e-04\n",
      "SNR: 21.17 dB\n",
      "MI: 3.99 bits\n",
      "GMI: 3.99 bits\n",
      "channel 0\t fc : 193.1000 THz\n",
      "  mode #0\t power: 0.00 dBm\n",
      "channel 0\t power: 0.00 dBm\n",
      "\n",
      "total WDM signal power: 0.00 dBm\n",
      "CSPR = 9.50 dB\n",
      "\n",
      "\n",
      "nlms - training stage #0\n"
     ]
    },
    {
     "data": {
      "application/vnd.jupyter.widget-view+json": {
       "model_id": "01ea2081a86e46e79e01cecfccdfe6cf",
       "version_major": 2,
       "version_minor": 0
      },
      "text/plain": [
       "  0%|          | 0/5 [00:00<?, ?it/s]"
      ]
     },
     "metadata": {},
     "output_type": "display_data"
    },
    {
     "name": "stdout",
     "output_type": "stream",
     "text": [
      "nlms pre-convergence training iteration #0\n",
      "nlms MSE = 0.011960.\n",
      "nlms pre-convergence training iteration #1\n",
      "nlms MSE = 0.013013.\n",
      "nlms pre-convergence training iteration #2\n",
      "nlms MSE = 0.013022.\n",
      "nlms pre-convergence training iteration #3\n",
      "nlms MSE = 0.013019.\n",
      "nlms pre-convergence training iteration #4\n",
      "nlms MSE = 0.013016.\n",
      "\n",
      "\n",
      "dd-lms - training stage #1\n",
      "dd-lms MSE = 0.007812.\n",
      "Results:\n",
      "\n",
      "SER: 4.56e-04\n",
      "BER: 1.14e-04\n",
      "SNR: 21.80 dB\n",
      "MI: 4.00 bits\n",
      "GMI: 3.99 bits\n",
      "channel 0\t fc : 193.1000 THz\n",
      "  mode #0\t power: 0.00 dBm\n",
      "channel 0\t power: -0.00 dBm\n",
      "\n",
      "total WDM signal power: -0.00 dBm\n",
      "CSPR = 10.00 dB\n",
      "\n",
      "\n",
      "nlms - training stage #0\n"
     ]
    },
    {
     "data": {
      "application/vnd.jupyter.widget-view+json": {
       "model_id": "0dd0a77f95b74ffb878a455074687abc",
       "version_major": 2,
       "version_minor": 0
      },
      "text/plain": [
       "  0%|          | 0/5 [00:00<?, ?it/s]"
      ]
     },
     "metadata": {},
     "output_type": "display_data"
    },
    {
     "name": "stdout",
     "output_type": "stream",
     "text": [
      "nlms pre-convergence training iteration #0\n",
      "nlms MSE = 0.016904.\n",
      "nlms pre-convergence training iteration #1\n",
      "nlms MSE = 0.022505.\n",
      "nlms pre-convergence training iteration #2\n",
      "nlms MSE = 0.022502.\n",
      "nlms pre-convergence training iteration #3\n",
      "nlms MSE = 0.022499.\n",
      "nlms pre-convergence training iteration #4\n",
      "nlms MSE = 0.022496.\n",
      "\n",
      "\n",
      "dd-lms - training stage #1\n",
      "dd-lms MSE = 0.007305.\n",
      "Results:\n",
      "\n",
      "SER: 2.89e-04\n",
      "BER: 7.22e-05\n",
      "SNR: 21.97 dB\n",
      "MI: 3.99 bits\n",
      "GMI: 4.00 bits\n",
      "channel 0\t fc : 193.1000 THz\n",
      "  mode #0\t power: 0.00 dBm\n",
      "channel 0\t power: 0.00 dBm\n",
      "\n",
      "total WDM signal power: 0.00 dBm\n",
      "CSPR = 10.50 dB\n",
      "\n",
      "\n",
      "nlms - training stage #0\n"
     ]
    },
    {
     "data": {
      "application/vnd.jupyter.widget-view+json": {
       "model_id": "0badf8c01fb9435d8a2c41b21aa07e28",
       "version_major": 2,
       "version_minor": 0
      },
      "text/plain": [
       "  0%|          | 0/5 [00:00<?, ?it/s]"
      ]
     },
     "metadata": {},
     "output_type": "display_data"
    },
    {
     "name": "stdout",
     "output_type": "stream",
     "text": [
      "nlms pre-convergence training iteration #0\n",
      "nlms MSE = 0.016497.\n",
      "nlms pre-convergence training iteration #1\n",
      "nlms MSE = 0.023060.\n",
      "nlms pre-convergence training iteration #2\n",
      "nlms MSE = 0.023091.\n",
      "nlms pre-convergence training iteration #3\n",
      "nlms MSE = 0.023091.\n",
      "nlms pre-convergence training iteration #4\n",
      "nlms MSE = 0.023089.\n",
      "\n",
      "\n",
      "dd-lms - training stage #1\n",
      "dd-lms MSE = 0.006705.\n",
      "Results:\n",
      "\n",
      "SER: 5.56e-05\n",
      "BER: 1.39e-05\n",
      "SNR: 22.34 dB\n",
      "MI: 4.00 bits\n",
      "GMI: 4.00 bits\n",
      "channel 0\t fc : 193.1000 THz\n",
      "  mode #0\t power: 0.00 dBm\n",
      "channel 0\t power: -0.00 dBm\n",
      "\n",
      "total WDM signal power: -0.00 dBm\n",
      "CSPR = 11.00 dB\n",
      "\n",
      "\n",
      "nlms - training stage #0\n"
     ]
    },
    {
     "data": {
      "application/vnd.jupyter.widget-view+json": {
       "model_id": "afde11a7027d405c8d5293e17d3f8cff",
       "version_major": 2,
       "version_minor": 0
      },
      "text/plain": [
       "  0%|          | 0/5 [00:00<?, ?it/s]"
      ]
     },
     "metadata": {},
     "output_type": "display_data"
    },
    {
     "name": "stdout",
     "output_type": "stream",
     "text": [
      "nlms pre-convergence training iteration #0\n",
      "nlms MSE = 0.014898.\n",
      "nlms pre-convergence training iteration #1\n",
      "nlms MSE = 0.014820.\n",
      "nlms pre-convergence training iteration #2\n",
      "nlms MSE = 0.014807.\n",
      "nlms pre-convergence training iteration #3\n",
      "nlms MSE = 0.014802.\n",
      "nlms pre-convergence training iteration #4\n",
      "nlms MSE = 0.014798.\n",
      "\n",
      "\n",
      "dd-lms - training stage #1\n",
      "dd-lms MSE = 0.006688.\n",
      "Results:\n",
      "\n",
      "SER: 4.44e-05\n",
      "BER: 1.11e-05\n",
      "SNR: 22.82 dB\n",
      "MI: 4.00 bits\n",
      "GMI: 4.00 bits\n",
      "channel 0\t fc : 193.1000 THz\n",
      "  mode #0\t power: 0.00 dBm\n",
      "channel 0\t power: 0.00 dBm\n",
      "\n",
      "total WDM signal power: 0.00 dBm\n",
      "CSPR = 11.50 dB\n",
      "\n",
      "\n",
      "nlms - training stage #0\n"
     ]
    },
    {
     "data": {
      "application/vnd.jupyter.widget-view+json": {
       "model_id": "63d2145be9de4fde8266cf0ffcb2d596",
       "version_major": 2,
       "version_minor": 0
      },
      "text/plain": [
       "  0%|          | 0/5 [00:00<?, ?it/s]"
      ]
     },
     "metadata": {},
     "output_type": "display_data"
    },
    {
     "name": "stdout",
     "output_type": "stream",
     "text": [
      "nlms pre-convergence training iteration #0\n",
      "nlms MSE = 0.015884.\n",
      "nlms pre-convergence training iteration #1\n",
      "nlms MSE = 0.031367.\n",
      "nlms pre-convergence training iteration #2\n",
      "nlms MSE = 0.031500.\n",
      "nlms pre-convergence training iteration #3\n",
      "nlms MSE = 0.031504.\n",
      "nlms pre-convergence training iteration #4\n",
      "nlms MSE = 0.031502.\n",
      "\n",
      "\n",
      "dd-lms - training stage #1\n",
      "dd-lms MSE = 0.006503.\n",
      "Results:\n",
      "\n",
      "SER: 2.22e-05\n",
      "BER: 5.56e-06\n",
      "SNR: 22.69 dB\n",
      "MI: 4.00 bits\n",
      "GMI: 4.00 bits\n",
      "channel 0\t fc : 193.1000 THz\n",
      "  mode #0\t power: 0.00 dBm\n",
      "channel 0\t power: -0.00 dBm\n",
      "\n",
      "total WDM signal power: -0.00 dBm\n",
      "CSPR = 12.00 dB\n",
      "\n",
      "\n",
      "nlms - training stage #0\n"
     ]
    },
    {
     "data": {
      "application/vnd.jupyter.widget-view+json": {
       "model_id": "862915163d4e4cb390604f9da0b313a2",
       "version_major": 2,
       "version_minor": 0
      },
      "text/plain": [
       "  0%|          | 0/5 [00:00<?, ?it/s]"
      ]
     },
     "metadata": {},
     "output_type": "display_data"
    },
    {
     "name": "stdout",
     "output_type": "stream",
     "text": [
      "nlms pre-convergence training iteration #0\n",
      "nlms MSE = 0.014070.\n",
      "nlms pre-convergence training iteration #1\n",
      "nlms MSE = 0.014530.\n",
      "nlms pre-convergence training iteration #2\n",
      "nlms MSE = 0.014534.\n",
      "nlms pre-convergence training iteration #3\n",
      "nlms MSE = 0.014530.\n",
      "nlms pre-convergence training iteration #4\n",
      "nlms MSE = 0.014526.\n",
      "\n",
      "\n",
      "dd-lms - training stage #1\n",
      "dd-lms MSE = 0.006156.\n",
      "Results:\n",
      "\n",
      "SER: 2.22e-05\n",
      "BER: 5.56e-06\n",
      "SNR: 23.17 dB\n",
      "MI: 4.00 bits\n",
      "GMI: 4.00 bits\n",
      "channel 0\t fc : 193.1000 THz\n",
      "  mode #0\t power: 0.00 dBm\n",
      "channel 0\t power: 0.00 dBm\n",
      "\n",
      "total WDM signal power: 0.00 dBm\n",
      "CSPR = 12.50 dB\n",
      "\n",
      "\n",
      "nlms - training stage #0\n"
     ]
    },
    {
     "data": {
      "application/vnd.jupyter.widget-view+json": {
       "model_id": "9fd79aaa491a4b6d9ad71f1c37d465b9",
       "version_major": 2,
       "version_minor": 0
      },
      "text/plain": [
       "  0%|          | 0/5 [00:00<?, ?it/s]"
      ]
     },
     "metadata": {},
     "output_type": "display_data"
    },
    {
     "name": "stdout",
     "output_type": "stream",
     "text": [
      "nlms pre-convergence training iteration #0\n",
      "nlms MSE = 0.014272.\n",
      "nlms pre-convergence training iteration #1\n",
      "nlms MSE = 0.014838.\n",
      "nlms pre-convergence training iteration #2\n",
      "nlms MSE = 0.014828.\n",
      "nlms pre-convergence training iteration #3\n",
      "nlms MSE = 0.014823.\n",
      "nlms pre-convergence training iteration #4\n",
      "nlms MSE = 0.014819.\n",
      "\n",
      "\n",
      "dd-lms - training stage #1\n",
      "dd-lms MSE = 0.006039.\n",
      "Results:\n",
      "\n",
      "SER: 0.00e+00\n",
      "BER: 0.00e+00\n",
      "SNR: 23.14 dB\n",
      "MI: 4.00 bits\n",
      "GMI: 4.00 bits\n",
      "channel 0\t fc : 193.1000 THz\n",
      "  mode #0\t power: 0.00 dBm\n",
      "channel 0\t power: -0.00 dBm\n",
      "\n",
      "total WDM signal power: -0.00 dBm\n",
      "CSPR = 13.00 dB\n",
      "\n",
      "\n",
      "nlms - training stage #0\n"
     ]
    },
    {
     "data": {
      "application/vnd.jupyter.widget-view+json": {
       "model_id": "f897764f5b3b4af5947a37e18f85a280",
       "version_major": 2,
       "version_minor": 0
      },
      "text/plain": [
       "  0%|          | 0/5 [00:00<?, ?it/s]"
      ]
     },
     "metadata": {},
     "output_type": "display_data"
    },
    {
     "name": "stdout",
     "output_type": "stream",
     "text": [
      "nlms pre-convergence training iteration #0\n",
      "nlms MSE = 0.015096.\n",
      "nlms pre-convergence training iteration #1\n",
      "nlms MSE = 0.019136.\n",
      "nlms pre-convergence training iteration #2\n",
      "nlms MSE = 0.019174.\n",
      "nlms pre-convergence training iteration #3\n",
      "nlms MSE = 0.019169.\n",
      "nlms pre-convergence training iteration #4\n",
      "nlms MSE = 0.019162.\n",
      "\n",
      "\n",
      "dd-lms - training stage #1\n",
      "dd-lms MSE = 0.005812.\n",
      "Results:\n",
      "\n",
      "SER: 0.00e+00\n",
      "BER: 0.00e+00\n",
      "SNR: 23.14 dB\n",
      "MI: 4.00 bits\n",
      "GMI: 4.00 bits\n",
      "channel 0\t fc : 193.1000 THz\n",
      "  mode #0\t power: 0.00 dBm\n",
      "channel 0\t power: 0.00 dBm\n",
      "\n",
      "total WDM signal power: 0.00 dBm\n",
      "CSPR = 13.50 dB\n",
      "\n",
      "\n",
      "nlms - training stage #0\n"
     ]
    },
    {
     "data": {
      "application/vnd.jupyter.widget-view+json": {
       "model_id": "bd7451c910fb4c4e95ad3fcfe0409400",
       "version_major": 2,
       "version_minor": 0
      },
      "text/plain": [
       "  0%|          | 0/5 [00:00<?, ?it/s]"
      ]
     },
     "metadata": {},
     "output_type": "display_data"
    },
    {
     "name": "stdout",
     "output_type": "stream",
     "text": [
      "nlms pre-convergence training iteration #0\n",
      "nlms MSE = 0.016332.\n",
      "nlms pre-convergence training iteration #1\n",
      "nlms MSE = 0.016445.\n",
      "nlms pre-convergence training iteration #2\n",
      "nlms MSE = 0.016429.\n",
      "nlms pre-convergence training iteration #3\n",
      "nlms MSE = 0.016422.\n",
      "nlms pre-convergence training iteration #4\n",
      "nlms MSE = 0.016416.\n",
      "\n",
      "\n",
      "dd-lms - training stage #1\n",
      "dd-lms MSE = 0.005622.\n",
      "Results:\n",
      "\n",
      "SER: 0.00e+00\n",
      "BER: 0.00e+00\n",
      "SNR: 23.48 dB\n",
      "MI: 4.00 bits\n",
      "GMI: 4.00 bits\n",
      "channel 0\t fc : 193.1000 THz\n",
      "  mode #0\t power: 0.00 dBm\n",
      "channel 0\t power: -0.00 dBm\n",
      "\n",
      "total WDM signal power: -0.00 dBm\n",
      "CSPR = 14.00 dB\n",
      "\n",
      "\n",
      "nlms - training stage #0\n"
     ]
    },
    {
     "data": {
      "application/vnd.jupyter.widget-view+json": {
       "model_id": "95c29138490f4f5095be9a00ce15d71e",
       "version_major": 2,
       "version_minor": 0
      },
      "text/plain": [
       "  0%|          | 0/5 [00:00<?, ?it/s]"
      ]
     },
     "metadata": {},
     "output_type": "display_data"
    },
    {
     "name": "stdout",
     "output_type": "stream",
     "text": [
      "nlms pre-convergence training iteration #0\n",
      "nlms MSE = 0.018248.\n",
      "nlms pre-convergence training iteration #1\n",
      "nlms MSE = 0.025672.\n",
      "nlms pre-convergence training iteration #2\n",
      "nlms MSE = 0.025683.\n",
      "nlms pre-convergence training iteration #3\n",
      "nlms MSE = 0.025676.\n",
      "nlms pre-convergence training iteration #4\n",
      "nlms MSE = 0.025669.\n",
      "\n",
      "\n",
      "dd-lms - training stage #1\n",
      "dd-lms MSE = 0.005709.\n",
      "Results:\n",
      "\n",
      "SER: 0.00e+00\n",
      "BER: 0.00e+00\n",
      "SNR: 23.57 dB\n",
      "MI: 4.00 bits\n",
      "GMI: 4.00 bits\n",
      "channel 0\t fc : 193.1000 THz\n",
      "  mode #0\t power: 0.00 dBm\n",
      "channel 0\t power: -0.00 dBm\n",
      "\n",
      "total WDM signal power: -0.00 dBm\n",
      "CSPR = 14.50 dB\n",
      "\n",
      "\n",
      "nlms - training stage #0\n"
     ]
    },
    {
     "data": {
      "application/vnd.jupyter.widget-view+json": {
       "model_id": "3b6d4486cc8b4a608721e8df20092a0b",
       "version_major": 2,
       "version_minor": 0
      },
      "text/plain": [
       "  0%|          | 0/5 [00:00<?, ?it/s]"
      ]
     },
     "metadata": {},
     "output_type": "display_data"
    },
    {
     "name": "stdout",
     "output_type": "stream",
     "text": [
      "nlms pre-convergence training iteration #0\n",
      "nlms MSE = 0.013920.\n",
      "nlms pre-convergence training iteration #1\n",
      "nlms MSE = 0.015277.\n",
      "nlms pre-convergence training iteration #2\n",
      "nlms MSE = 0.015265.\n",
      "nlms pre-convergence training iteration #3\n",
      "nlms MSE = 0.015253.\n",
      "nlms pre-convergence training iteration #4\n",
      "nlms MSE = 0.015243.\n",
      "\n",
      "\n",
      "dd-lms - training stage #1\n",
      "dd-lms MSE = 0.005918.\n",
      "Results:\n",
      "\n",
      "SER: 0.00e+00\n",
      "BER: 0.00e+00\n",
      "SNR: 23.44 dB\n",
      "MI: 4.00 bits\n",
      "GMI: 4.00 bits\n",
      "channel 0\t fc : 193.1000 THz\n",
      "  mode #0\t power: 0.00 dBm\n",
      "channel 0\t power: -0.00 dBm\n",
      "\n",
      "total WDM signal power: -0.00 dBm\n",
      "CSPR = 15.00 dB\n",
      "\n",
      "\n",
      "nlms - training stage #0\n"
     ]
    },
    {
     "data": {
      "application/vnd.jupyter.widget-view+json": {
       "model_id": "0e38ad8ae4424aa588ea3cfbee79d3cc",
       "version_major": 2,
       "version_minor": 0
      },
      "text/plain": [
       "  0%|          | 0/5 [00:00<?, ?it/s]"
      ]
     },
     "metadata": {},
     "output_type": "display_data"
    },
    {
     "name": "stdout",
     "output_type": "stream",
     "text": [
      "nlms pre-convergence training iteration #0\n",
      "nlms MSE = 0.017562.\n",
      "nlms pre-convergence training iteration #1\n",
      "nlms MSE = 0.027857.\n",
      "nlms pre-convergence training iteration #2\n",
      "nlms MSE = 0.027948.\n",
      "nlms pre-convergence training iteration #3\n",
      "nlms MSE = 0.027944.\n",
      "nlms pre-convergence training iteration #4\n",
      "nlms MSE = 0.027936.\n",
      "\n",
      "\n",
      "dd-lms - training stage #1\n",
      "dd-lms MSE = 0.005534.\n",
      "Results:\n",
      "\n",
      "SER: 0.00e+00\n",
      "BER: 0.00e+00\n",
      "SNR: 23.56 dB\n",
      "MI: 4.00 bits\n",
      "GMI: 4.00 bits\n",
      "channel 0\t fc : 193.1000 THz\n",
      "  mode #0\t power: 0.00 dBm\n",
      "channel 0\t power: -0.00 dBm\n",
      "\n",
      "total WDM signal power: -0.00 dBm\n",
      "CSPR = 15.50 dB\n",
      "\n",
      "\n",
      "nlms - training stage #0\n"
     ]
    },
    {
     "data": {
      "application/vnd.jupyter.widget-view+json": {
       "model_id": "11021abbb5504cfb8e3dd5b07e5b0aa0",
       "version_major": 2,
       "version_minor": 0
      },
      "text/plain": [
       "  0%|          | 0/5 [00:00<?, ?it/s]"
      ]
     },
     "metadata": {},
     "output_type": "display_data"
    },
    {
     "name": "stdout",
     "output_type": "stream",
     "text": [
      "nlms pre-convergence training iteration #0\n",
      "nlms MSE = 0.016241.\n",
      "nlms pre-convergence training iteration #1\n",
      "nlms MSE = 0.021503.\n",
      "nlms pre-convergence training iteration #2\n",
      "nlms MSE = 0.021509.\n",
      "nlms pre-convergence training iteration #3\n",
      "nlms MSE = 0.021502.\n",
      "nlms pre-convergence training iteration #4\n",
      "nlms MSE = 0.021495.\n",
      "\n",
      "\n",
      "dd-lms - training stage #1\n",
      "dd-lms MSE = 0.005520.\n",
      "Results:\n",
      "\n",
      "SER: 0.00e+00\n",
      "BER: 0.00e+00\n",
      "SNR: 23.50 dB\n",
      "MI: 4.00 bits\n",
      "GMI: 4.00 bits\n"
     ]
    }
   ],
   "source": [
    "modelNN = tf.keras.models.load_model('NN_models/testModel')\n",
    "N = 256 # number of input amplitude samples to the NN\n",
    "\n",
    "CSPR = np.arange(3, 16, 0.5)\n",
    "\n",
    "BER_NN = np.zeros(CSPR.size)\n",
    "SER_NN = np.zeros(CSPR.size)\n",
    "GMI_NN = np.zeros(CSPR.size)\n",
    "MI_NN  = np.zeros(CSPR.size)\n",
    "SNR_NN = np.zeros(CSPR.size)\n",
    "\n",
    "for indCSPR, CSPR_ in enumerate(CSPR):\n",
    "\n",
    "    # generate optical signal signal\n",
    "    sigTx, symbTx_, paramTx = simpleWDMTx(paramTx)\n",
    "\n",
    "    # simulate linear signal propagation\n",
    "    sigCh = linFiberCh(sigTx, Ltotal, alpha, D, Fc, Fs)\n",
    "    \n",
    "    # receiver detection and demodulation\n",
    "\n",
    "    Fc = paramTx.Fc\n",
    "    Ts = 1 / Fs\n",
    "    mod = QAMModem(m=paramTx.M)\n",
    "\n",
    "    freqGrid = paramTx.freqGrid\n",
    "\n",
    "    symbTx = symbTx_[:, :, chIndex]\n",
    "    \n",
    "    Plo_dBm = CSPR_\n",
    "    Plo = 10 ** (Plo_dBm / 10) * 1e-3  # power in W\n",
    "\n",
    "    # generate LO field\n",
    "    π = np.pi\n",
    "    t = np.arange(0, len(sigCh))*Ts\n",
    "    ϕ_pn_lo = phaseNoise(lw, len(sigCh), Ts)\n",
    "\n",
    "    sigLO = np.sqrt(Plo) * np.exp(-1j * (2 * π * FO * t + ϕ_lo + ϕ_pn_lo))\n",
    "\n",
    "    # Add LO to the received signal\n",
    "    sigRx = np.sqrt(Plo) + sigCh* np.exp(1j * (2 * π * FO * t + ϕ_lo + ϕ_pn_lo))\n",
    "    sfm   = sigRx.copy()\n",
    "\n",
    "    print('CSPR = %.2f dB'%(10*np.log10(signal_power(sigLO)/signal_power(sigCh))))\n",
    "\n",
    "    ### Phase-retrieval stage\n",
    "    \n",
    "    sfm = sfm/np.sqrt(signal_power(sfm))\n",
    "    \n",
    "    # simulate ideal direct-detection optical receiver\n",
    "    sigAmp   = np.pad(np.abs(sfm), (int(N/2), int(N/2)), 'constant') # get signal amplitude samples (L,)\n",
    "    \n",
    "    # create set of input features\n",
    "    inputNN = np.zeros((len(sfm), N)) #(L,N)\n",
    "\n",
    "    for indPhase in range(len(sfm)):\n",
    "        inputNN[indPhase] = sigAmp[indPhase:N+indPhase]\n",
    "        \n",
    "    phiTime_NN = modelNN.predict(inputNN)\n",
    "    phiTime_NN = phiTime_NN.reshape(-1,)\n",
    "\n",
    "    # optical field reconstruction\n",
    "    sigRx = np.abs(sfm)*np.exp(1j*phiTime_NN)\n",
    "\n",
    "    # remove DC level\n",
    "    sigRx -= np.mean(sigRx) # np.sqrt(Plo)  \n",
    "\n",
    "    # downshift to baseband\n",
    "    sigRx *= np.exp(-1j * (2 * π * FO * t))\n",
    "\n",
    "    #### Standard receiver processing\n",
    "\n",
    "    # Matched filtering and CD compensation\n",
    "\n",
    "    # Matched filtering\n",
    "    if paramTx.pulse == \"nrz\":\n",
    "        pulse = pulseShape(\"nrz\", paramTx.SpS)\n",
    "    elif paramTx.pulse == \"rrc\":\n",
    "        pulse = pulseShape(\n",
    "            \"rrc\", paramTx.SpS, N=paramTx.Ntaps, alpha=paramTx.alphaRRC, Ts=1 / paramTx.Rs\n",
    "        )\n",
    "\n",
    "    pulse = pulse / np.max(np.abs(pulse))\n",
    "    sigRx = firFilter(pulse, sigRx)\n",
    "\n",
    "#     # plot constellations after matched filtering\n",
    "#     pconst(sigRx[0::paramTx.SpS], lim=True, R=3)\n",
    "\n",
    "    # CD compensation\n",
    "    sigRx = edc(sigRx, Ltotal, D, Fc, Fs)\n",
    "\n",
    "    #plot constellations after CD compensation\n",
    "#     discard = 5000\n",
    "#     pconst(sigRx[discard:-discard:paramTx.SpS], lim=True, R=2)\n",
    "\n",
    "    # Downsampling to 2 sps and re-synchronization with transmitted sequences\n",
    "    sigRx = sigRx.reshape(-1, 1)\n",
    "\n",
    "#     # decimation\n",
    "#     paramDec = parameters()\n",
    "#     paramDec.SpS_in = paramTx.SpS\n",
    "#     paramDec.SpS_out = 2\n",
    "#     sigRx = decimate(sigRx, paramDec)\n",
    "\n",
    "#     symbRx = symbolSync(sigRx, symbTx, 2)\n",
    "\n",
    "    # Power normalization\n",
    "    x = sigRx\n",
    "    d = symbTx\n",
    "\n",
    "    x = x.reshape(len(x), 1) / np.sqrt(signal_power(x))\n",
    "    d = d.reshape(len(d), 1) / np.sqrt(signal_power(d))\n",
    "\n",
    "    # Adaptive equalization\n",
    "    mod = QAMModem(m=paramTx.M)\n",
    "\n",
    "    paramEq = parameters()\n",
    "    paramEq.nTaps = 7\n",
    "    paramEq.SpS = 2\n",
    "    paramEq.mu = [5e-3, 5e-3]\n",
    "    paramEq.numIter = 5\n",
    "    paramEq.storeCoeff = False\n",
    "    paramEq.alg = [\"nlms\", \"dd-lms\"]\n",
    "    paramEq.M = paramTx.M\n",
    "    paramEq.L = [20000, 80000]\n",
    "    \n",
    "    y_EQ, H, errSq, Hiter = mimoAdaptEqualizer(x, dx=d, paramEq=paramEq)\n",
    "\n",
    "    #y_EQ = x[0::paramTx.SpS]\n",
    "    \n",
    "    discard = int(paramEq.L[0]/2)\n",
    "\n",
    "    #plot constellations after adaptive equalization\n",
    "#     pconst(y_EQ[discard:-discard,:], lim=True)\n",
    "\n",
    "    # Carrier phase recovery\n",
    "    paramCPR = parameters()\n",
    "    paramCPR.alg = \"bps\"\n",
    "    paramCPR.M = paramTx.M\n",
    "    paramCPR.N = 35\n",
    "    paramCPR.B = 64\n",
    "    paramCPR.pilotInd = np.arange(0, len(y_EQ), 20)\n",
    "\n",
    "    y_CPR, θ = cpr(y_EQ, symbTx=d, paramCPR=paramCPR)\n",
    "\n",
    "    y_CPR = y_CPR / np.sqrt(signal_power(y_CPR))\n",
    "\n",
    "    discard = 5000\n",
    "\n",
    "    # plot constellations after CPR\n",
    "#     pconst(y_CPR[discard:-discard, :], lim=True)\n",
    "\n",
    "    #### Evaluate transmission metrics\n",
    "\n",
    "    # correct for (possible) phase ambiguity\n",
    "    for k in range(y_CPR.shape[1]):\n",
    "        rot = np.mean(d[:, k] / y_CPR[:, k])\n",
    "        y_CPR[:, k] = rot * y_CPR[:, k]\n",
    "\n",
    "    y_CPR = y_CPR / np.sqrt(signal_power(y_CPR))\n",
    "\n",
    "    ind = np.arange(discard, d.shape[0] - discard)\n",
    "    BER_NN[indCSPR], SER_NN[indCSPR], SNR_NN[indCSPR] = fastBERcalc(y_CPR[ind, :], d[ind, :], mod)\n",
    "    GMI_NN[indCSPR], _ = monteCarloGMI(y_CPR[ind, :], d[ind, :], mod)\n",
    "    MI_NN[indCSPR] = monteCarloMI(y_CPR[ind, :], d[ind, :], mod)\n",
    "\n",
    "    print(\"Results:\\n\")\n",
    "    print(\"SER: %.2e\" % (SER_NN[indCSPR]))\n",
    "    print(\"BER: %.2e\" % (BER_NN[indCSPR]))\n",
    "    print(\"SNR: %.2f dB\" % (SNR_NN[indCSPR]))\n",
    "    print(\"MI: %.2f bits\" % (MI_NN[indCSPR]))\n",
    "    print(\"GMI: %.2f bits\" % (GMI_NN[indCSPR]));"
   ]
  },
  {
   "cell_type": "code",
   "execution_count": 63,
   "id": "4f8cd346",
   "metadata": {},
   "outputs": [
    {
     "name": "stderr",
     "output_type": "stream",
     "text": [
      "C:\\Users\\edson.DESKTOP-54IJM4F\\AppData\\Local\\Temp/ipykernel_7792/2260913929.py:2: RuntimeWarning: divide by zero encountered in log10\n",
      "  plt.plot(CSPR, np.log10(BER_NN),'-o', label='Neural network')\n"
     ]
    },
    {
     "data": {
      "image/png": "[encoded data removed]",
      "text/plain": [
       "<Figure size 432x288 with 1 Axes>"
      ]
     },
     "metadata": {
      "needs_background": "light"
     },
     "output_type": "display_data"
    }
   ],
   "source": [
    "plt.plot(CSPR, np.log10(BER_KK),'-x', label='KK algorithm')\n",
    "plt.plot(CSPR, np.log10(BER_NN),'-o', label='Neural network')\n",
    "plt.xlabel('CSPR (dB)')\n",
    "plt.ylabel('log10(BER)')\n",
    "plt.grid()\n",
    "plt.legend();"
   ]
  },
  {
   "cell_type": "code",
   "execution_count": 23,
   "id": "655b02d0",
   "metadata": {},
   "outputs": [
    {
     "data": {
      "image/png": "[encoded data removed]",
      "text/plain": [
       "<Figure size 432x288 with 1 Axes>"
      ]
     },
     "metadata": {
      "needs_background": "light"
     },
     "output_type": "display_data"
    }
   ],
   "source": [
    "# plot constellations after CPR\n",
    "pconst(y_CPR[discard:-discard, :], lim=True)"
   ]
  },
  {
   "cell_type": "code",
   "execution_count": 127,
   "id": "72e2fe64",
   "metadata": {
    "scrolled": true
   },
   "outputs": [
    {
     "data": {
      "image/png": "[encoded data removed]",
      "text/plain": [
       "<Figure size 432x288 with 1 Axes>"
      ]
     },
     "metadata": {
      "needs_background": "light"
     },
     "output_type": "display_data"
    }
   ],
   "source": [
    "cw1 = model.layers[1].get_weights()\n",
    "plt.plot(cw1[0]);"
   ]
  }
 ],
 "metadata": {
  "jupytext": {
   "cell_metadata_filter": "-all",
   "encoding": "# -*- coding: utf-8 -*-",
   "formats": "ipynb,auto:light",
   "notebook_metadata_filter": "-all",
   "text_representation": {
    "extension": ".py",
    "format_name": "light"
   }
  },
  "kernelspec": {
   "display_name": "Python 3 (ipykernel)",
   "language": "python",
   "name": "python3"
  },
  "language_info": {
   "codemirror_mode": {
    "name": "ipython",
    "version": 3
   },
   "file_extension": ".py",
   "mimetype": "text/x-python",
   "name": "python",
   "nbconvert_exporter": "python",
   "pygments_lexer": "ipython3",
   "version": "3.9.7"
  }
 },
 "nbformat": 4,
 "nbformat_minor": 5
}
