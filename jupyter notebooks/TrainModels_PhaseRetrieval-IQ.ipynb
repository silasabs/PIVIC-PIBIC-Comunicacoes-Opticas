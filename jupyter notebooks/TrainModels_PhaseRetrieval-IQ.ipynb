{
 "cells": [
  {
   "cell_type": "code",
   "execution_count": 1,
   "metadata": {},
   "outputs": [],
   "source": [
    "from tensorflow.keras.layers import Dense, BatchNormalization, Conv1DTranspose, Conv1D, Flatten, Add, Activation\n",
    "from tensorflow.keras.models import Sequential\n",
    "from tensorflow.keras.callbacks import EarlyStopping\n",
    "import tensorflow as tf\n",
    "from tensorflow.keras import backend as K\n",
    "from keras.utils.vis_utils import plot_model"
   ]
  },
  {
   "cell_type": "code",
   "execution_count": 2,
   "metadata": {},
   "outputs": [],
   "source": [
    "import matplotlib.pyplot as plt\n",
    "import numpy as np\n",
    "\n",
    "from commpy.modulation import QAMModem\n",
    "\n",
    "from optic.dsp import pulseShape, firFilter, decimate, symbolSync, resample\n",
    "from optic.models import phaseNoise, linFiberCh, KramersKronigRx, photodiode\n",
    "\n",
    "from optic.tx import simpleWDMTx\n",
    "from optic.core import parameters\n",
    "from optic.equalization import edc, mimoAdaptEqualizer\n",
    "from optic.carrierRecovery import cpr\n",
    "from optic.metrics import fastBERcalc, monteCarloGMI, monteCarloMI, signal_power\n",
    "from optic.plot import pconst\n",
    "\n",
    "import scipy.constants as const\n",
    "from tqdm.notebook import tqdm\n",
    "import sys"
   ]
  },
  {
   "cell_type": "code",
   "execution_count": 3,
   "metadata": {},
   "outputs": [],
   "source": [
    "def loadArray(file_path):\n",
    "    with open(file_path, 'rb') as stream:\n",
    "        data = np.load(stream)\n",
    "    return data"
   ]
  },
  {
   "cell_type": "code",
   "execution_count": 53,
   "metadata": {},
   "outputs": [],
   "source": [
    "def permutate_input_output(input_matrix, output_matrix):\n",
    "    \n",
    "    num_rows, num_cols = input_matrix.shape\n",
    "    # Cria uma matriz de permutação para trocar as linhas\n",
    "    permutation = np.random.permutation(num_rows)\n",
    "\n",
    "    # Aplica a permutação nas matrizes de entrada e saída\n",
    "    permuted_input_matrix = input_matrix[permutation]\n",
    "    permuted_output_matrix = output_matrix[permutation]\n",
    "\n",
    "    return permuted_input_matrix, permuted_output_matrix"
   ]
  },
  {
   "cell_type": "code",
   "execution_count": 37,
   "metadata": {},
   "outputs": [],
   "source": [
    "def create_convnet(N, n0, img_path='convnet_image.png'):\n",
    "    \n",
    "    \"\"\" Esta função retorna o modelo da rede neural citada pelo artigo \n",
    "    \"Deep learning-based Phase Retrieval Scheme for Minimum-phase Signal Recovery\".\n",
    "    Alguns parâmetros podem ser fixos como:\n",
    "    \n",
    "    k = 3: tamanho do kernel das camadas convolucionais 1D dentro de um Bloco D/U\n",
    "    s: passo das camadas convolucionais 1D dentro de um bloco D/U, para este caso foi selecionado s = 2.\n",
    "    d: profundidade do modelo, ou seja, o número de blocos D e U, para este caso foi selecionado d = 3\n",
    "        \n",
    "    Args:\n",
    "        N (int): Número de amostras de amplitude do sinal.\n",
    "        n0 (int): Número de núcleos de camadas convolucionais 1D dentro de um bloco D/U\n",
    "        img_path (str, optional): Nome do arquivo de saída para o plot do modelo em .png. Defaults to 'convnet_image.png'.\n",
    "\n",
    "    Returns:\n",
    "        object: modelo da rede neural.\n",
    "    \"\"\"\n",
    "    \n",
    "    model = Sequential()   \n",
    "    input_shape = tf.keras.Input(shape=(N, 1))\n",
    "    \n",
    "    normalize = BatchNormalization()(input_shape)\n",
    "    relu_layer = Activation('relu')(normalize)\n",
    "\n",
    "    # skip connection\n",
    "    skipConnection0 = Conv1D(filters=n0, kernel_size=1, activation='linear')(relu_layer)\n",
    "    \n",
    "    ## D Block 01\n",
    "    Dtower_7 = Conv1D(n0, kernel_size=3, padding='same', strides=2, activation='relu')(relu_layer)\n",
    "    # parallel layer\n",
    "    Dtower_parallel_01 = Conv1D(n0, kernel_size=3, padding='same', strides=2, activation='relu')(relu_layer)\n",
    "    Dtower_8 = Conv1D(n0, kernel_size=3, padding='same', activation='relu')(Dtower_7)\n",
    "    D01_added = Add()([Dtower_8, Dtower_parallel_01])\n",
    "     \n",
    "    # skip connection\n",
    "    skipConnection1 = Conv1D(filters=n0, kernel_size=1, activation='linear')(D01_added)\n",
    "    \n",
    "    ## D Block 02\n",
    "    Dtower_5 = Conv1D(n0, kernel_size=3, padding='same', strides=2, activation='relu')(D01_added)\n",
    "    # parallel layer\n",
    "    Dtower_parallel_02 = Conv1D(n0, kernel_size=3, padding='same', strides=2, activation='relu')(D01_added)  \n",
    "    Dtower_6 = Conv1D(n0, kernel_size=3, padding='same', activation='relu')(Dtower_5)\n",
    "    D02_added = Add()([Dtower_6, Dtower_parallel_02])\n",
    "    \n",
    "    # skip connection\n",
    "    skipConnection2 = Conv1D(filters=n0, kernel_size=1, activation='linear')(D02_added)\n",
    "    \n",
    "    ## D Block 03\n",
    "    Dtower_3 = Conv1D(n0, kernel_size=3, padding='same', strides=2, activation='relu')(D02_added)\n",
    "    # parallel layer\n",
    "    Dtower_parallel_03 = Conv1D(n0, kernel_size=3, padding='same', strides=2, activation='relu')(D02_added)  \n",
    "    Dtower_4 = Conv1D(n0, kernel_size=3, padding='same', activation='relu')(Dtower_3)\n",
    "    D03_added = Add()([Dtower_4, Dtower_parallel_03])\n",
    "\n",
    "    ## U Block 03 \n",
    "    tower_1 = Conv1DTranspose(n0, kernel_size=3, padding='same', strides=2, activation='relu')(D03_added)\n",
    "    # parallel layer\n",
    "    tower_parallel_03 = Conv1DTranspose(n0, kernel_size=3, padding='same', strides=2, activation='relu')(D03_added)\n",
    "    tower_2 = Conv1D(n0, kernel_size=3, padding='same', activation='relu')(tower_1)\n",
    "    U01_added = Add()([tower_2, tower_parallel_03, skipConnection2])\n",
    "\n",
    "    ## U Block 02\n",
    "    tower_3 = Conv1DTranspose(n0, kernel_size=3, padding='same', strides=2, activation='relu')(U01_added)\n",
    "    # parallel layer\n",
    "    tower_parallel_02 = Conv1DTranspose(n0, kernel_size=3, padding='same', strides=2, activation='relu')(U01_added) \n",
    "    tower_4 = Conv1D(n0, kernel_size=3, padding='same', activation='relu')(tower_3)\n",
    "    U02_added = Add()([tower_4, tower_parallel_02, skipConnection1])\n",
    "    \n",
    "    ## U Block 01\n",
    "    tower_5 = Conv1DTranspose(n0, kernel_size=3, padding='same', strides=2, activation='relu')(U02_added)\n",
    "    # parallel layer\n",
    "    tower_parallel_01 = Conv1DTranspose(n0, kernel_size=3, padding='same', strides=2, activation='relu')(U02_added)  \n",
    "    tower_6 = Conv1D(n0, kernel_size=3, padding='same', activation='relu')(tower_5)\n",
    "    U03_added = Add()([tower_6, tower_parallel_01, skipConnection0])\n",
    "    \n",
    "    # output layer\n",
    "    output_layer = Conv1D(2, kernel_size=3, padding='same', activation='linear')(U03_added)\n",
    "    flat = Flatten()(output_layer)\n",
    "    output = Dense(2, activation='linear')(flat)\n",
    "    \n",
    "    model = tf.keras.Model(input_shape, output)\n",
    "    plot_model(model, to_file=img_path, show_layer_names=True, show_layer_activations=True)\n",
    "    \n",
    "    return model"
   ]
  },
  {
   "cell_type": "code",
   "execution_count": 38,
   "metadata": {},
   "outputs": [
    {
     "name": "stdout",
     "output_type": "stream",
     "text": [
      "Model: \"model_5\"\n",
      "__________________________________________________________________________________________________\n",
      " Layer (type)                   Output Shape         Param #     Connected to                     \n",
      "==================================================================================================\n",
      " input_6 (InputLayer)           [(None, 128, 1)]     0           []                               \n",
      "                                                                                                  \n",
      " batch_normalization_5 (BatchNo  (None, 128, 1)      4           ['input_6[0][0]']                \n",
      " rmalization)                                                                                     \n",
      "                                                                                                  \n",
      " activation_5 (Activation)      (None, 128, 1)       0           ['batch_normalization_5[0][0]']  \n",
      "                                                                                                  \n",
      " conv1d_81 (Conv1D)             (None, 64, 32)       128         ['activation_5[0][0]']           \n",
      "                                                                                                  \n",
      " conv1d_83 (Conv1D)             (None, 64, 32)       3104        ['conv1d_81[0][0]']              \n",
      "                                                                                                  \n",
      " conv1d_82 (Conv1D)             (None, 64, 32)       128         ['activation_5[0][0]']           \n",
      "                                                                                                  \n",
      " add_30 (Add)                   (None, 64, 32)       0           ['conv1d_83[0][0]',              \n",
      "                                                                  'conv1d_82[0][0]']              \n",
      "                                                                                                  \n",
      " conv1d_85 (Conv1D)             (None, 32, 32)       3104        ['add_30[0][0]']                 \n",
      "                                                                                                  \n",
      " conv1d_87 (Conv1D)             (None, 32, 32)       3104        ['conv1d_85[0][0]']              \n",
      "                                                                                                  \n",
      " conv1d_86 (Conv1D)             (None, 32, 32)       3104        ['add_30[0][0]']                 \n",
      "                                                                                                  \n",
      " add_31 (Add)                   (None, 32, 32)       0           ['conv1d_87[0][0]',              \n",
      "                                                                  'conv1d_86[0][0]']              \n",
      "                                                                                                  \n",
      " conv1d_89 (Conv1D)             (None, 16, 32)       3104        ['add_31[0][0]']                 \n",
      "                                                                                                  \n",
      " conv1d_91 (Conv1D)             (None, 16, 32)       3104        ['conv1d_89[0][0]']              \n",
      "                                                                                                  \n",
      " conv1d_90 (Conv1D)             (None, 16, 32)       3104        ['add_31[0][0]']                 \n",
      "                                                                                                  \n",
      " add_32 (Add)                   (None, 16, 32)       0           ['conv1d_91[0][0]',              \n",
      "                                                                  'conv1d_90[0][0]']              \n",
      "                                                                                                  \n",
      " conv1d_transpose_30 (Conv1DTra  (None, 32, 32)      3104        ['add_32[0][0]']                 \n",
      " nspose)                                                                                          \n",
      "                                                                                                  \n",
      " conv1d_92 (Conv1D)             (None, 32, 32)       3104        ['conv1d_transpose_30[0][0]']    \n",
      "                                                                                                  \n",
      " conv1d_transpose_31 (Conv1DTra  (None, 32, 32)      3104        ['add_32[0][0]']                 \n",
      " nspose)                                                                                          \n",
      "                                                                                                  \n",
      " conv1d_88 (Conv1D)             (None, 32, 32)       1056        ['add_31[0][0]']                 \n",
      "                                                                                                  \n",
      " add_33 (Add)                   (None, 32, 32)       0           ['conv1d_92[0][0]',              \n",
      "                                                                  'conv1d_transpose_31[0][0]',    \n",
      "                                                                  'conv1d_88[0][0]']              \n",
      "                                                                                                  \n",
      " conv1d_transpose_32 (Conv1DTra  (None, 64, 32)      3104        ['add_33[0][0]']                 \n",
      " nspose)                                                                                          \n",
      "                                                                                                  \n",
      " conv1d_93 (Conv1D)             (None, 64, 32)       3104        ['conv1d_transpose_32[0][0]']    \n",
      "                                                                                                  \n",
      " conv1d_transpose_33 (Conv1DTra  (None, 64, 32)      3104        ['add_33[0][0]']                 \n",
      " nspose)                                                                                          \n",
      "                                                                                                  \n",
      " conv1d_84 (Conv1D)             (None, 64, 32)       1056        ['add_30[0][0]']                 \n",
      "                                                                                                  \n",
      " add_34 (Add)                   (None, 64, 32)       0           ['conv1d_93[0][0]',              \n",
      "                                                                  'conv1d_transpose_33[0][0]',    \n",
      "                                                                  'conv1d_84[0][0]']              \n",
      "                                                                                                  \n",
      " conv1d_transpose_34 (Conv1DTra  (None, 128, 32)     3104        ['add_34[0][0]']                 \n",
      " nspose)                                                                                          \n",
      "                                                                                                  \n",
      " conv1d_94 (Conv1D)             (None, 128, 32)      3104        ['conv1d_transpose_34[0][0]']    \n",
      "                                                                                                  \n",
      " conv1d_transpose_35 (Conv1DTra  (None, 128, 32)     3104        ['add_34[0][0]']                 \n",
      " nspose)                                                                                          \n",
      "                                                                                                  \n",
      " conv1d_80 (Conv1D)             (None, 128, 32)      64          ['activation_5[0][0]']           \n",
      "                                                                                                  \n",
      " add_35 (Add)                   (None, 128, 32)      0           ['conv1d_94[0][0]',              \n",
      "                                                                  'conv1d_transpose_35[0][0]',    \n",
      "                                                                  'conv1d_80[0][0]']              \n",
      "                                                                                                  \n",
      " conv1d_95 (Conv1D)             (None, 128, 2)       194         ['add_35[0][0]']                 \n",
      "                                                                                                  \n",
      " flatten_5 (Flatten)            (None, 256)          0           ['conv1d_95[0][0]']              \n",
      "                                                                                                  \n",
      " dense_5 (Dense)                (None, 2)            514         ['flatten_5[0][0]']              \n",
      "                                                                                                  \n",
      "==================================================================================================\n",
      "Total params: 52,808\n",
      "Trainable params: 52,806\n",
      "Non-trainable params: 2\n",
      "__________________________________________________________________________________________________\n"
     ]
    }
   ],
   "source": [
    "model = create_convnet(128, 32)\n",
    "model.summary()"
   ]
  },
  {
   "cell_type": "code",
   "execution_count": 11,
   "metadata": {},
   "outputs": [],
   "source": [
    "## Transmitter parameters:\n",
    "paramTx = parameters()\n",
    "paramTx.M = 16                 # order of the modulation format\n",
    "paramTx.Rs = 32e9              # symbol rate [baud]\n",
    "paramTx.SpS = 4                # samples per symbol\n",
    "paramTx.Nbits = 3000           # total number of bits per polarization\n",
    "paramTx.pulse = \"rrc\"          # pulse shaping filter\n",
    "paramTx.Ntaps = 1024           # number of pulse shaping filter coefficients\n",
    "paramTx.alphaRRC = 0.05        # RRC rolloff\n",
    "paramTx.Pch_dBm = 0            # power of the optical signal [dBm]\n",
    "paramTx.Nch = 1                # number of WDM channels\n",
    "paramTx.Fc = 193.1e12          # central frequency of the optical spectrum\n",
    "paramTx.freqSpac = 37.5e9      # WDM grid spacing\n",
    "\n",
    "## Optical channel parameters:\n",
    "Ltotal = 100       # total link distance [km]\n",
    "alpha = 0        # fiber loss parameter [dB/km]\n",
    "D = 16           # fiber dispersion parameter [ps/nm/km]\n",
    "Fc = paramTx.Fc  # central optical frequency of the WDM spectrum [Hz]\n",
    "\n",
    "## Receiver parameters:\n",
    "\n",
    "# local oscillator (LO)\n",
    "FO = paramTx.Rs/2   # frequency offset\n",
    "lw = 0*200e3        # linewidth\n",
    "ϕ_lo = 0            # initial phase in rad\n",
    "# Plo_dBm = 11        # power in dBm outlier\n",
    "\n",
    "# ADC sampling rate\n",
    "paramADC = parameters()\n",
    "paramADC.Rs = paramTx.Rs\n",
    "paramADC.SpS_in = paramTx.SpS\n",
    "paramADC.SpS_out = 4\n",
    "\n",
    "## General simulation parameters:\n",
    "chIndex = 0  # index of the channel to be demodulated\n",
    "plotPSD = True\n",
    "Fs = paramTx.Rs * paramTx.SpS  # simulation sampling rate\n",
    "\n",
    "# photodiode parameters\n",
    "paramPD = parameters()\n",
    "paramPD.B  = 1.1*paramTx.Rs\n",
    "paramPD.Fs = Fs\n",
    "Ts = 1 / Fs"
   ]
  },
  {
   "cell_type": "code",
   "execution_count": 12,
   "metadata": {},
   "outputs": [
    {
     "data": {
      "application/vnd.jupyter.widget-view+json": {
       "model_id": "d618b7ab2c774ee7b9967ad8e275ada4",
       "version_major": 2,
       "version_minor": 0
      },
      "text/plain": [
       "  0%|          | 0/10 [00:00<?, ?it/s]"
      ]
     },
     "metadata": {},
     "output_type": "display_data"
    },
    {
     "data": {
      "application/vnd.jupyter.widget-view+json": {
       "model_id": "64831fb6e8d74948afa2a59e64ecbe21",
       "version_major": 2,
       "version_minor": 0
      },
      "text/plain": [
       "  0%|          | 0/1 [00:00<?, ?it/s]"
      ]
     },
     "metadata": {},
     "output_type": "display_data"
    },
    {
     "name": "stdout",
     "output_type": "stream",
     "text": [
      "CSPR = 6.00 dB\n"
     ]
    },
    {
     "data": {
      "application/vnd.jupyter.widget-view+json": {
       "model_id": "85f531ad47e043be9504a56aeac8a3dc",
       "version_major": 2,
       "version_minor": 0
      },
      "text/plain": [
       "  0%|          | 0/1 [00:00<?, ?it/s]"
      ]
     },
     "metadata": {},
     "output_type": "display_data"
    },
    {
     "name": "stdout",
     "output_type": "stream",
     "text": [
      "CSPR = 7.00 dB\n"
     ]
    },
    {
     "data": {
      "application/vnd.jupyter.widget-view+json": {
       "model_id": "f86ce81c4d83467cb080148df5bcb052",
       "version_major": 2,
       "version_minor": 0
      },
      "text/plain": [
       "  0%|          | 0/1 [00:00<?, ?it/s]"
      ]
     },
     "metadata": {},
     "output_type": "display_data"
    },
    {
     "name": "stdout",
     "output_type": "stream",
     "text": [
      "CSPR = 8.00 dB\n"
     ]
    },
    {
     "data": {
      "application/vnd.jupyter.widget-view+json": {
       "model_id": "99c65a8ae2ac463ba89f23cca877d425",
       "version_major": 2,
       "version_minor": 0
      },
      "text/plain": [
       "  0%|          | 0/1 [00:00<?, ?it/s]"
      ]
     },
     "metadata": {},
     "output_type": "display_data"
    },
    {
     "name": "stdout",
     "output_type": "stream",
     "text": [
      "CSPR = 9.00 dB\n"
     ]
    },
    {
     "data": {
      "application/vnd.jupyter.widget-view+json": {
       "model_id": "d0508227dc0e4688b3f2a7e684511149",
       "version_major": 2,
       "version_minor": 0
      },
      "text/plain": [
       "  0%|          | 0/1 [00:00<?, ?it/s]"
      ]
     },
     "metadata": {},
     "output_type": "display_data"
    },
    {
     "name": "stdout",
     "output_type": "stream",
     "text": [
      "CSPR = 10.00 dB\n"
     ]
    },
    {
     "data": {
      "application/vnd.jupyter.widget-view+json": {
       "model_id": "346161d15d7448438c6d7913d9a889fd",
       "version_major": 2,
       "version_minor": 0
      },
      "text/plain": [
       "  0%|          | 0/1 [00:00<?, ?it/s]"
      ]
     },
     "metadata": {},
     "output_type": "display_data"
    },
    {
     "name": "stdout",
     "output_type": "stream",
     "text": [
      "CSPR = 11.00 dB\n"
     ]
    },
    {
     "data": {
      "application/vnd.jupyter.widget-view+json": {
       "model_id": "e05e7fe8416f4f9b81b62c804f59f720",
       "version_major": 2,
       "version_minor": 0
      },
      "text/plain": [
       "  0%|          | 0/1 [00:00<?, ?it/s]"
      ]
     },
     "metadata": {},
     "output_type": "display_data"
    },
    {
     "name": "stdout",
     "output_type": "stream",
     "text": [
      "CSPR = 12.00 dB\n"
     ]
    },
    {
     "data": {
      "application/vnd.jupyter.widget-view+json": {
       "model_id": "50c50b88a20a47b58c23a8564fe9895c",
       "version_major": 2,
       "version_minor": 0
      },
      "text/plain": [
       "  0%|          | 0/1 [00:00<?, ?it/s]"
      ]
     },
     "metadata": {},
     "output_type": "display_data"
    },
    {
     "name": "stdout",
     "output_type": "stream",
     "text": [
      "CSPR = 13.00 dB\n"
     ]
    },
    {
     "data": {
      "application/vnd.jupyter.widget-view+json": {
       "model_id": "41f3032cd6974af49f15f4908be0a22c",
       "version_major": 2,
       "version_minor": 0
      },
      "text/plain": [
       "  0%|          | 0/1 [00:00<?, ?it/s]"
      ]
     },
     "metadata": {},
     "output_type": "display_data"
    },
    {
     "name": "stdout",
     "output_type": "stream",
     "text": [
      "CSPR = 14.00 dB\n"
     ]
    },
    {
     "data": {
      "application/vnd.jupyter.widget-view+json": {
       "model_id": "0ae8d65b6e10485f9de4a28ede8d8ff7",
       "version_major": 2,
       "version_minor": 0
      },
      "text/plain": [
       "  0%|          | 0/1 [00:00<?, ?it/s]"
      ]
     },
     "metadata": {},
     "output_type": "display_data"
    },
    {
     "name": "stdout",
     "output_type": "stream",
     "text": [
      "CSPR = 15.00 dB\n"
     ]
    }
   ],
   "source": [
    "path = 'C:/Users/optic/Documents/PIVIC-PIBIC-Comunicacoes-Opticas/models/CONV_models/'\n",
    "N = 128 # number of input amplitude samples to the NN\n",
    "n0 = 32\n",
    "\n",
    "loPower = np.arange(6,16,1)\n",
    "\n",
    "for indPower, Plo_dBm in enumerate(tqdm(loPower)):\n",
    "\n",
    "    # generate optical signal signal\n",
    "    sigTx, symbTx_, paramTx = simpleWDMTx(paramTx)\n",
    "\n",
    "    # simulate linear signal propagation\n",
    "    sigCh = linFiberCh(sigTx, Ltotal, alpha, D, Fc, Fs)\n",
    "\n",
    "    symbTx = symbTx_[:, :, chIndex]\n",
    "    Plo = 10 ** (Plo_dBm / 10) * 1e-3  # power in W\n",
    "\n",
    "    # generate LO field\n",
    "    π = np.pi\n",
    "    t = np.arange(0, len(sigCh))*Ts\n",
    "    ϕ_pn_lo = phaseNoise(lw, len(sigCh), Ts)\n",
    "\n",
    "    sigLO = np.sqrt(Plo) * np.exp(-1j * (2 * π * FO * t + ϕ_lo + ϕ_pn_lo))\n",
    "\n",
    "    # Add LO to the received signal\n",
    "    sigRx = np.sqrt(Plo) + sigCh* np.exp(1j * (2 * π * FO * t + ϕ_lo + ϕ_pn_lo))\n",
    "    sfm   = sigRx.copy()\n",
    "\n",
    "    print('CSPR = %.2f dB'%(10*np.log10(signal_power(sigLO)/signal_power(sigCh))))\n",
    "\n",
    "    # simulate ideal direct-detection optical receiver\n",
    "    Ipd = photodiode(sigRx, paramPD)\n",
    "    Amp = np.sqrt(Ipd.real)\n",
    "    Amp = resample(Amp, paramADC).real\n",
    "\n",
    "    # resampling to ADC sampling rate\n",
    "    sigCh = resample(sigCh, paramADC)\n",
    "    sfm = resample(sfm, paramADC)\n",
    "    newFs = paramADC.SpS_out*paramTx.Rs\n",
    "\n",
    "    sfm = sfm/np.sqrt(signal_power(sfm))\n",
    "    \n",
    "    # Neural network training\n",
    "\n",
    "    #sigPhase = np.angle(sfm) # get signal phase samples (labels) (L,)\n",
    "    sigAmp = np.pad(Amp, (int(N/2), int(N/2)), 'constant') # get signal amplitude samples (L,)\n",
    "\n",
    "    # create set of input features\n",
    "    X_train = np.zeros((len(sfm), N)) #(L,N)\n",
    "\n",
    "    for indPhase in range(len(sfm)):\n",
    "        X_train[indPhase] = sigAmp[indPhase:N+indPhase]\n",
    "\n",
    "    # create set of phase labels\n",
    "    y_train = np.array([sfm.real, sfm.imag]).T\n",
    "    \n",
    "    np.save(r'C:\\Users\\Silas\\Documents\\PIVIC-Comunicacoes-Opticas\\resultados\\Data\\Pibic\\training data\\X_train_'+str(Plo_dBm)+'dB', X_train)\n",
    "    np.save(r'C:\\Users\\Silas\\Documents\\PIVIC-Comunicacoes-Opticas\\resultados\\Data\\Pibic\\training data\\y_train_'+str(Plo_dBm)+'dB', y_train)"
   ]
  },
  {
   "cell_type": "code",
   "execution_count": 13,
   "metadata": {},
   "outputs": [],
   "source": [
    "X_train_6dB = loadArray(r'C:\\Users\\Silas\\Documents\\PIVIC-Comunicacoes-Opticas\\resultados\\Data\\Pibic\\training data\\X_train_6dB.npy')\n",
    "X_train_7dB = loadArray(r'C:\\Users\\Silas\\Documents\\PIVIC-Comunicacoes-Opticas\\resultados\\Data\\Pibic\\training data\\X_train_7dB.npy')\n",
    "X_train_8dB = loadArray(r'C:\\Users\\Silas\\Documents\\PIVIC-Comunicacoes-Opticas\\resultados\\Data\\Pibic\\training data\\X_train_8dB.npy')\n",
    "X_train_9dB = loadArray(r'C:\\Users\\Silas\\Documents\\PIVIC-Comunicacoes-Opticas\\resultados\\Data\\Pibic\\training data\\X_train_9dB.npy')\n",
    "X_train_10dB = loadArray(r'C:\\Users\\Silas\\Documents\\PIVIC-Comunicacoes-Opticas\\resultados\\Data\\Pibic\\training data\\X_train_10dB.npy')\n",
    "X_train_11dB = loadArray(r'C:\\Users\\Silas\\Documents\\PIVIC-Comunicacoes-Opticas\\resultados\\Data\\Pibic\\training data\\X_train_11dB.npy')\n",
    "X_train_12dB = loadArray(r'C:\\Users\\Silas\\Documents\\PIVIC-Comunicacoes-Opticas\\resultados\\Data\\Pibic\\training data\\X_train_12dB.npy')\n",
    "X_train_13dB = loadArray(r'C:\\Users\\Silas\\Documents\\PIVIC-Comunicacoes-Opticas\\resultados\\Data\\Pibic\\training data\\X_train_13dB.npy')\n",
    "X_train_14dB = loadArray(r'C:\\Users\\Silas\\Documents\\PIVIC-Comunicacoes-Opticas\\resultados\\Data\\Pibic\\training data\\X_train_14dB.npy')\n",
    "X_train_15dB = loadArray(r'C:\\Users\\Silas\\Documents\\PIVIC-Comunicacoes-Opticas\\resultados\\Data\\Pibic\\training data\\X_train_15dB.npy')"
   ]
  },
  {
   "cell_type": "code",
   "execution_count": 14,
   "metadata": {},
   "outputs": [],
   "source": [
    "y_train_6dB = loadArray(r'C:\\Users\\Silas\\Documents\\PIVIC-Comunicacoes-Opticas\\resultados\\Data\\Pibic\\training data\\y_train_6dB.npy')\n",
    "y_train_7dB = loadArray(r'C:\\Users\\Silas\\Documents\\PIVIC-Comunicacoes-Opticas\\resultados\\Data\\Pibic\\training data\\y_train_7dB.npy')\n",
    "y_train_8dB = loadArray(r'C:\\Users\\Silas\\Documents\\PIVIC-Comunicacoes-Opticas\\resultados\\Data\\Pibic\\training data\\y_train_8dB.npy')\n",
    "y_train_9dB = loadArray(r'C:\\Users\\Silas\\Documents\\PIVIC-Comunicacoes-Opticas\\resultados\\Data\\Pibic\\training data\\y_train_9dB.npy')\n",
    "y_train_10dB = loadArray(r'C:\\Users\\Silas\\Documents\\PIVIC-Comunicacoes-Opticas\\resultados\\Data\\Pibic\\training data\\y_train_10dB.npy')\n",
    "y_train_11dB = loadArray(r'C:\\Users\\Silas\\Documents\\PIVIC-Comunicacoes-Opticas\\resultados\\Data\\Pibic\\training data\\y_train_11dB.npy')\n",
    "y_train_12dB = loadArray(r'C:\\Users\\Silas\\Documents\\PIVIC-Comunicacoes-Opticas\\resultados\\Data\\Pibic\\training data\\y_train_12dB.npy')\n",
    "y_train_13dB = loadArray(r'C:\\Users\\Silas\\Documents\\PIVIC-Comunicacoes-Opticas\\resultados\\Data\\Pibic\\training data\\y_train_13dB.npy')\n",
    "y_train_14dB = loadArray(r'C:\\Users\\Silas\\Documents\\PIVIC-Comunicacoes-Opticas\\resultados\\Data\\Pibic\\training data\\y_train_14dB.npy')\n",
    "y_train_15dB = loadArray(r'C:\\Users\\Silas\\Documents\\PIVIC-Comunicacoes-Opticas\\resultados\\Data\\Pibic\\training data\\y_train_15dB.npy')"
   ]
  },
  {
   "cell_type": "code",
   "execution_count": 51,
   "metadata": {},
   "outputs": [],
   "source": [
    "X_train = np.concatenate((X_train_6dB, X_train_7dB, X_train_8dB, X_train_9dB, X_train_10dB, X_train_11dB, X_train_12dB, X_train_13dB, X_train_14dB, X_train_15dB), axis=0)\n",
    "y_train = np.concatenate((y_train_6dB, y_train_7dB, y_train_8dB, y_train_9dB, y_train_10dB, y_train_11dB, y_train_12dB, y_train_13dB, y_train_14dB, y_train_15dB), axis=0)"
   ]
  },
  {
   "cell_type": "code",
   "execution_count": 52,
   "metadata": {},
   "outputs": [
    {
     "name": "stdout",
     "output_type": "stream",
     "text": [
      "(30000, 128) (30000, 2)\n"
     ]
    }
   ],
   "source": [
    "print(X_train.shape, y_train.shape)"
   ]
  },
  {
   "cell_type": "code",
   "execution_count": 54,
   "metadata": {},
   "outputs": [],
   "source": [
    "permuted_X_train, permuted_y_train = permutate_input_output(X_train, y_train)"
   ]
  },
  {
   "cell_type": "code",
   "execution_count": null,
   "metadata": {},
   "outputs": [],
   "source": [
    "# define neural network model\n",
    "stop = EarlyStopping(monitor='val_loss', patience=5)\n",
    "model = create_convnet(N, n0)\n",
    "model.compile(optimizer=tf.keras.optimizers.Adam(learning_rate=0.001), loss='mse')\n",
    "model.fit(permuted_X_train, permuted_y_train, epochs=200, callbacks=[stop], validation_split=0.3, batch_size=256)\n",
    "# model.summary()\n",
    "\n",
    "model.save(path+'testModel_SpS_'+str(paramTx.SpS)+'_CSPR_'+str(Plo_dBm)+'dB_DataTrain', save_format='h5')"
   ]
  }
 ],
 "metadata": {
  "kernelspec": {
   "display_name": "Python 3",
   "language": "python",
   "name": "python3"
  },
  "language_info": {
   "codemirror_mode": {
    "name": "ipython",
    "version": 3
   },
   "file_extension": ".py",
   "mimetype": "text/x-python",
   "name": "python",
   "nbconvert_exporter": "python",
   "pygments_lexer": "ipython3",
   "version": "3.9.13"
  },
  "orig_nbformat": 4
 },
 "nbformat": 4,
 "nbformat_minor": 2
}
