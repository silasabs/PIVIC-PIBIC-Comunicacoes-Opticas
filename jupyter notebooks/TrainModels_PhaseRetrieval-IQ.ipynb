{
 "cells": [
  {
   "cell_type": "code",
   "execution_count": 1,
   "metadata": {},
   "outputs": [],
   "source": [
    "import tensorflow as tf\n",
    "from tensorflow.keras.layers import Dense, BatchNormalization, Conv1DTranspose, Conv1D, Flatten, Add, Activation\n",
    "from tensorflow.keras.models import Sequential\n",
    "from tensorflow.keras.callbacks import EarlyStopping\n",
    "from tensorflow.keras import backend as K"
   ]
  },
  {
   "cell_type": "code",
   "execution_count": 2,
   "metadata": {},
   "outputs": [],
   "source": [
    "import matplotlib.pyplot as plt\n",
    "import numpy as np\n",
    "\n",
    "from commpy.modulation import QAMModem\n",
    "\n",
    "from optic.dsp import pulseShape, firFilter, decimate, symbolSync, resample\n",
    "from optic.models import phaseNoise, linFiberCh, KramersKronigRx, photodiode\n",
    "\n",
    "from optic.tx import simpleWDMTx\n",
    "from optic.core import parameters\n",
    "from optic.equalization import edc, mimoAdaptEqualizer\n",
    "from optic.carrierRecovery import cpr\n",
    "from optic.metrics import fastBERcalc, monteCarloGMI, monteCarloMI, signal_power\n",
    "from optic.plot import pconst\n",
    "\n",
    "import scipy.constants as const\n",
    "from tqdm.notebook import tqdm\n",
    "import sys"
   ]
  },
  {
   "cell_type": "code",
   "execution_count": 9,
   "metadata": {},
   "outputs": [],
   "source": [
    "from pathlib import Path\n",
    "import sys\n",
    "sys.path.append(str(Path(r'C:/Users/optic/Documents/PIVIC-PIBIC-Comunicacoes-Opticas/models/deep_tcn_tensorflow/model').parent.parent))"
   ]
  },
  {
   "cell_type": "code",
   "execution_count": 10,
   "metadata": {},
   "outputs": [],
   "source": [
    "from models.deep_tcn_tensorflow.model import DeepTCN\n",
    "from models.deep_tcn_tensorflow.plots import plot"
   ]
  },
  {
   "cell_type": "markdown",
   "metadata": {},
   "source": [
    "### Funções auxiliares para permutar o dataset"
   ]
  },
  {
   "cell_type": "code",
   "execution_count": 4,
   "metadata": {},
   "outputs": [],
   "source": [
    "def permutate_input_output(input_matrix, output_matrix):\n",
    "    \n",
    "    num_rows, num_cols = input_matrix.shape\n",
    "    # Cria uma matriz de permutação para trocar as linhas\n",
    "    permutation = np.random.permutation(num_rows)\n",
    "\n",
    "    # Aplica a permutação nas matrizes de entrada e saída\n",
    "    permuted_input_matrix = input_matrix[permutation]\n",
    "    permuted_output_matrix = output_matrix[permutation]\n",
    "\n",
    "    return permuted_input_matrix, permuted_output_matrix"
   ]
  },
  {
   "cell_type": "code",
   "execution_count": 4,
   "metadata": {},
   "outputs": [],
   "source": [
    "def shuffle_dataset(X_train, y_train):\n",
    "  \"\"\"\n",
    "  Embaralha os dados de treinamento X_train e y_train.\n",
    "\n",
    "  Args:\n",
    "    X_train: Conjunto de dados de treinamento.\n",
    "    y_train: Rótulos de treinamento.\n",
    "\n",
    "  Returns:\n",
    "    X_train, y_train: Conjunto de dados e rótulos embaralhados.\n",
    "  \"\"\"\n",
    "\n",
    "  # Obtém o número de amostras.\n",
    "  n_samples = X_train.shape[0]\n",
    "\n",
    "  # Cria uma lista de índices aleatórios.\n",
    "  shuffled_indices = np.random.permutation(n_samples)\n",
    "\n",
    "  # Embala os dados e os rótulos de acordo com os índices aleatórios.\n",
    "  X_train_shuffled = X_train[shuffled_indices]\n",
    "  y_train_shuffled = y_train[shuffled_indices]\n",
    "\n",
    "  return X_train_shuffled, y_train_shuffled"
   ]
  },
  {
   "cell_type": "markdown",
   "metadata": {},
   "source": [
    "### Define a rede convolucional "
   ]
  },
  {
   "cell_type": "code",
   "execution_count": 6,
   "metadata": {},
   "outputs": [],
   "source": [
    "def create_convnet(N, n0, img_path='convnet_image.png'):\n",
    "    \n",
    "    \"\"\" Esta função retorna o modelo da rede neural citada pelo artigo \n",
    "    \"Deep learning-based Phase Retrieval Scheme for Minimum-phase Signal Recovery\".\n",
    "    Alguns parâmetros podem ser fixos como:\n",
    "    \n",
    "    k = 3: tamanho do kernel das camadas convolucionais 1D dentro de um Bloco D/U\n",
    "    s: passo das camadas convolucionais 1D dentro de um bloco D/U, para este caso foi selecionado s = 2.\n",
    "    d: profundidade do modelo, ou seja, o número de blocos D e U, para este caso foi selecionado d = 3\n",
    "        \n",
    "    Args:\n",
    "        N (int): Número de amostras de amplitude do sinal.\n",
    "        n0 (int): Número de núcleos de camadas convolucionais 1D dentro de um bloco D/U\n",
    "        img_path (str, optional): Nome do arquivo de saída para o plot do modelo em .png. Defaults to 'convnet_image.png'.\n",
    "\n",
    "    Returns:\n",
    "        object: modelo da rede neural.\n",
    "    \"\"\"\n",
    "    \n",
    "    model = Sequential()   \n",
    "    input_shape = tf.keras.Input(shape=(N, 1))\n",
    "    \n",
    "    normalize = BatchNormalization()(input_shape)\n",
    "    relu_layer = Activation('relu')(normalize)\n",
    "\n",
    "    # skip connection\n",
    "    skipConnection0 = Conv1D(filters=n0, kernel_size=1, activation='linear')(relu_layer)\n",
    "    \n",
    "    ## D Block 01\n",
    "    Dtower_7 = Conv1D(n0, kernel_size=3, padding='same', strides=2, activation='relu')(relu_layer)\n",
    "    # parallel layer\n",
    "    Dtower_parallel_01 = Conv1D(n0, kernel_size=3, padding='same', strides=2, activation='relu')(relu_layer)\n",
    "    Dtower_8 = Conv1D(n0, kernel_size=3, padding='same', activation='relu')(Dtower_7)\n",
    "    D01_added = Add()([Dtower_8, Dtower_parallel_01])\n",
    "     \n",
    "    # skip connection\n",
    "    skipConnection1 = Conv1D(filters=n0, kernel_size=1, activation='linear')(D01_added)\n",
    "    \n",
    "    ## D Block 02\n",
    "    Dtower_5 = Conv1D(n0, kernel_size=3, padding='same', strides=2, activation='relu')(D01_added)\n",
    "    # parallel layer\n",
    "    Dtower_parallel_02 = Conv1D(n0, kernel_size=3, padding='same', strides=2, activation='relu')(D01_added)  \n",
    "    Dtower_6 = Conv1D(n0, kernel_size=3, padding='same', activation='relu')(Dtower_5)\n",
    "    D02_added = Add()([Dtower_6, Dtower_parallel_02])\n",
    "    \n",
    "    # skip connection\n",
    "    skipConnection2 = Conv1D(filters=n0, kernel_size=1, activation='linear')(D02_added)\n",
    "    \n",
    "    ## D Block 03\n",
    "    Dtower_3 = Conv1D(n0, kernel_size=3, padding='same', strides=2, activation='relu')(D02_added)\n",
    "    # parallel layer\n",
    "    Dtower_parallel_03 = Conv1D(n0, kernel_size=3, padding='same', strides=2, activation='relu')(D02_added)  \n",
    "    Dtower_4 = Conv1D(n0, kernel_size=3, padding='same', activation='relu')(Dtower_3)\n",
    "    D03_added = Add()([Dtower_4, Dtower_parallel_03])\n",
    "\n",
    "    ## U Block 03 \n",
    "    tower_1 = Conv1DTranspose(n0, kernel_size=3, padding='same', strides=2, activation='relu')(D03_added)\n",
    "    # parallel layer\n",
    "    tower_parallel_03 = Conv1DTranspose(n0, kernel_size=3, padding='same', strides=2, activation='relu')(D03_added)\n",
    "    tower_2 = Conv1D(n0, kernel_size=3, padding='same', activation='relu')(tower_1)\n",
    "    U01_added = Add()([tower_2, tower_parallel_03, skipConnection2])\n",
    "\n",
    "    ## U Block 02\n",
    "    tower_3 = Conv1DTranspose(n0, kernel_size=3, padding='same', strides=2, activation='relu')(U01_added)\n",
    "    # parallel layer\n",
    "    tower_parallel_02 = Conv1DTranspose(n0, kernel_size=3, padding='same', strides=2, activation='relu')(U01_added) \n",
    "    tower_4 = Conv1D(n0, kernel_size=3, padding='same', activation='relu')(tower_3)\n",
    "    U02_added = Add()([tower_4, tower_parallel_02, skipConnection1])\n",
    "    \n",
    "    ## U Block 01\n",
    "    tower_5 = Conv1DTranspose(n0, kernel_size=3, padding='same', strides=2, activation='relu')(U02_added)\n",
    "    # parallel layer\n",
    "    tower_parallel_01 = Conv1DTranspose(n0, kernel_size=3, padding='same', strides=2, activation='relu')(U02_added)  \n",
    "    tower_6 = Conv1D(n0, kernel_size=3, padding='same', activation='relu')(tower_5)\n",
    "    U03_added = Add()([tower_6, tower_parallel_01, skipConnection0])\n",
    "    \n",
    "    # output layer\n",
    "    output_layer = Conv1D(2, kernel_size=3, padding='same', activation='linear')(U03_added)\n",
    "    flat = Flatten()(output_layer)\n",
    "    output = Dense(2, activation='linear')(flat)\n",
    "    \n",
    "    model = tf.keras.Model(input_shape, output)\n",
    "    #plot_model(model, to_file=img_path, show_layer_names=True, show_layer_activations=True)\n",
    "    \n",
    "    return model"
   ]
  },
  {
   "cell_type": "code",
   "execution_count": 7,
   "metadata": {},
   "outputs": [
    {
     "name": "stdout",
     "output_type": "stream",
     "text": [
      "Model: \"model_1\"\n",
      "__________________________________________________________________________________________________\n",
      " Layer (type)                   Output Shape         Param #     Connected to                     \n",
      "==================================================================================================\n",
      " input_2 (InputLayer)           [(None, 128, 1)]     0           []                               \n",
      "                                                                                                  \n",
      " batch_normalization (BatchNorm  (None, 128, 1)      4           ['input_2[0][0]']                \n",
      " alization)                                                                                       \n",
      "                                                                                                  \n",
      " activation (Activation)        (None, 128, 1)       0           ['batch_normalization[0][0]']    \n",
      "                                                                                                  \n",
      " conv1d_1 (Conv1D)              (None, 64, 32)       128         ['activation[0][0]']             \n",
      "                                                                                                  \n",
      " conv1d_3 (Conv1D)              (None, 64, 32)       3104        ['conv1d_1[0][0]']               \n",
      "                                                                                                  \n",
      " conv1d_2 (Conv1D)              (None, 64, 32)       128         ['activation[0][0]']             \n",
      "                                                                                                  \n",
      " add (Add)                      (None, 64, 32)       0           ['conv1d_3[0][0]',               \n",
      "                                                                  'conv1d_2[0][0]']               \n",
      "                                                                                                  \n",
      " conv1d_5 (Conv1D)              (None, 32, 32)       3104        ['add[0][0]']                    \n",
      "                                                                                                  \n",
      " conv1d_7 (Conv1D)              (None, 32, 32)       3104        ['conv1d_5[0][0]']               \n",
      "                                                                                                  \n",
      " conv1d_6 (Conv1D)              (None, 32, 32)       3104        ['add[0][0]']                    \n",
      "                                                                                                  \n",
      " add_1 (Add)                    (None, 32, 32)       0           ['conv1d_7[0][0]',               \n",
      "                                                                  'conv1d_6[0][0]']               \n",
      "                                                                                                  \n",
      " conv1d_9 (Conv1D)              (None, 16, 32)       3104        ['add_1[0][0]']                  \n",
      "                                                                                                  \n",
      " conv1d_11 (Conv1D)             (None, 16, 32)       3104        ['conv1d_9[0][0]']               \n",
      "                                                                                                  \n",
      " conv1d_10 (Conv1D)             (None, 16, 32)       3104        ['add_1[0][0]']                  \n",
      "                                                                                                  \n",
      " add_2 (Add)                    (None, 16, 32)       0           ['conv1d_11[0][0]',              \n",
      "                                                                  'conv1d_10[0][0]']              \n",
      "                                                                                                  \n",
      " conv1d_transpose (Conv1DTransp  (None, 32, 32)      3104        ['add_2[0][0]']                  \n",
      " ose)                                                                                             \n",
      "                                                                                                  \n",
      " conv1d_12 (Conv1D)             (None, 32, 32)       3104        ['conv1d_transpose[0][0]']       \n",
      "                                                                                                  \n",
      " conv1d_transpose_1 (Conv1DTran  (None, 32, 32)      3104        ['add_2[0][0]']                  \n",
      " spose)                                                                                           \n",
      "                                                                                                  \n",
      " conv1d_8 (Conv1D)              (None, 32, 32)       1056        ['add_1[0][0]']                  \n",
      "                                                                                                  \n",
      " add_3 (Add)                    (None, 32, 32)       0           ['conv1d_12[0][0]',              \n",
      "                                                                  'conv1d_transpose_1[0][0]',     \n",
      "                                                                  'conv1d_8[0][0]']               \n",
      "                                                                                                  \n",
      " conv1d_transpose_2 (Conv1DTran  (None, 64, 32)      3104        ['add_3[0][0]']                  \n",
      " spose)                                                                                           \n",
      "                                                                                                  \n",
      " conv1d_13 (Conv1D)             (None, 64, 32)       3104        ['conv1d_transpose_2[0][0]']     \n",
      "                                                                                                  \n",
      " conv1d_transpose_3 (Conv1DTran  (None, 64, 32)      3104        ['add_3[0][0]']                  \n",
      " spose)                                                                                           \n",
      "                                                                                                  \n",
      " conv1d_4 (Conv1D)              (None, 64, 32)       1056        ['add[0][0]']                    \n",
      "                                                                                                  \n",
      " add_4 (Add)                    (None, 64, 32)       0           ['conv1d_13[0][0]',              \n",
      "                                                                  'conv1d_transpose_3[0][0]',     \n",
      "                                                                  'conv1d_4[0][0]']               \n",
      "                                                                                                  \n",
      " conv1d_transpose_4 (Conv1DTran  (None, 128, 32)     3104        ['add_4[0][0]']                  \n",
      " spose)                                                                                           \n",
      "                                                                                                  \n",
      " conv1d_14 (Conv1D)             (None, 128, 32)      3104        ['conv1d_transpose_4[0][0]']     \n",
      "                                                                                                  \n",
      " conv1d_transpose_5 (Conv1DTran  (None, 128, 32)     3104        ['add_4[0][0]']                  \n",
      " spose)                                                                                           \n",
      "                                                                                                  \n",
      " conv1d (Conv1D)                (None, 128, 32)      64          ['activation[0][0]']             \n",
      "                                                                                                  \n",
      " add_5 (Add)                    (None, 128, 32)      0           ['conv1d_14[0][0]',              \n",
      "                                                                  'conv1d_transpose_5[0][0]',     \n",
      "                                                                  'conv1d[0][0]']                 \n",
      "                                                                                                  \n",
      " conv1d_15 (Conv1D)             (None, 128, 2)       194         ['add_5[0][0]']                  \n",
      "                                                                                                  \n",
      " flatten (Flatten)              (None, 256)          0           ['conv1d_15[0][0]']              \n",
      "                                                                                                  \n",
      " dense_4 (Dense)                (None, 2)            514         ['flatten[0][0]']                \n",
      "                                                                                                  \n",
      "==================================================================================================\n",
      "Total params: 52,808\n",
      "Trainable params: 52,806\n",
      "Non-trainable params: 2\n",
      "__________________________________________________________________________________________________\n"
     ]
    }
   ],
   "source": [
    "model = create_convnet(128, 32)\n",
    "model.summary()"
   ]
  },
  {
   "cell_type": "markdown",
   "metadata": {},
   "source": [
    "### Simulation of a single polarization optical signal transmission"
   ]
  },
  {
   "cell_type": "code",
   "execution_count": 16,
   "metadata": {},
   "outputs": [],
   "source": [
    "## Transmitter parameters:\n",
    "paramTx = parameters()\n",
    "paramTx.M = 16                 # order of the modulation format\n",
    "paramTx.Rs = 32e9              # symbol rate [baud]\n",
    "paramTx.SpS = 4                # samples per symbol\n",
    "paramTx.Nbits = 40000          # total number of bits per polarization\n",
    "paramTx.pulse = \"rrc\"          # pulse shaping filter\n",
    "paramTx.Ntaps = 1024           # number of pulse shaping filter coefficients\n",
    "paramTx.alphaRRC = 0.5         # RRC rolloff\n",
    "paramTx.Pch_dBm = 0            # power of the optical signal [dBm]\n",
    "paramTx.Nch = 1                # number of WDM channels\n",
    "paramTx.Fc = 193.1e12          # central frequency of the optical spectrum\n",
    "paramTx.freqSpac = 37.5e9      # WDM grid spacing\n",
    "\n",
    "## Optical channel parameters:\n",
    "Ltotal = 100     # total link distance [km]\n",
    "alpha = 0        # fiber loss parameter [dB/km]\n",
    "D = 16           # fiber dispersion parameter [ps/nm/km]\n",
    "Fc = paramTx.Fc  # central optical frequency of the WDM spectrum [Hz]\n",
    "\n",
    "## Receiver parameters:\n",
    "\n",
    "# local oscillator (LO)\n",
    "FO = paramTx.Rs/2  # frequency offset\n",
    "lw = 0*200e3       # linewidth\n",
    "ϕ_lo = 0           # initial phase in rad\n",
    "#Plo_dBm = 12      # power in dBm\n",
    "\n",
    "# ADC sampling rate\n",
    "paramADC = parameters()\n",
    "paramADC.Rs = paramTx.Rs\n",
    "paramADC.SpS_in = paramTx.SpS\n",
    "paramADC.SpS_out = 4\n",
    "\n",
    "## General simulation parameters:\n",
    "chIndex = 0  # index of the channel to be demodulated\n",
    "plotPSD = True\n",
    "Fs = paramTx.Rs * paramTx.SpS  # simulation sampling rate\n",
    "Ts = 1 / Fs\n",
    "\n",
    "# photodiode parameters\n",
    "paramPD = parameters()\n",
    "paramPD.B  = 1.1*paramTx.Rs\n",
    "paramPD.Fs = Fs"
   ]
  },
  {
   "cell_type": "code",
   "execution_count": 17,
   "metadata": {},
   "outputs": [
    {
     "data": {
      "application/vnd.jupyter.widget-view+json": {
       "model_id": "f251e09890594977afeacaf3564c3a92",
       "version_major": 2,
       "version_minor": 0
      },
      "text/plain": [
       "  0%|          | 0/10 [00:00<?, ?it/s]"
      ]
     },
     "metadata": {},
     "output_type": "display_data"
    },
    {
     "data": {
      "application/vnd.jupyter.widget-view+json": {
       "model_id": "166726cf28684482a2ab6d976f5210e1",
       "version_major": 2,
       "version_minor": 0
      },
      "text/plain": [
       "  0%|          | 0/1 [00:00<?, ?it/s]"
      ]
     },
     "metadata": {},
     "output_type": "display_data"
    },
    {
     "name": "stdout",
     "output_type": "stream",
     "text": [
      "CSPR = 6.00 dB\n"
     ]
    },
    {
     "data": {
      "application/vnd.jupyter.widget-view+json": {
       "model_id": "a83253ba401249ffa5ab3777361019c6",
       "version_major": 2,
       "version_minor": 0
      },
      "text/plain": [
       "  0%|          | 0/1 [00:00<?, ?it/s]"
      ]
     },
     "metadata": {},
     "output_type": "display_data"
    },
    {
     "name": "stdout",
     "output_type": "stream",
     "text": [
      "CSPR = 7.00 dB\n"
     ]
    },
    {
     "data": {
      "application/vnd.jupyter.widget-view+json": {
       "model_id": "ccd5c4dd7e91491dbbe21eb4c73d19c4",
       "version_major": 2,
       "version_minor": 0
      },
      "text/plain": [
       "  0%|          | 0/1 [00:00<?, ?it/s]"
      ]
     },
     "metadata": {},
     "output_type": "display_data"
    },
    {
     "name": "stdout",
     "output_type": "stream",
     "text": [
      "CSPR = 8.00 dB\n"
     ]
    },
    {
     "data": {
      "application/vnd.jupyter.widget-view+json": {
       "model_id": "645471128123431ababded82ea6781ee",
       "version_major": 2,
       "version_minor": 0
      },
      "text/plain": [
       "  0%|          | 0/1 [00:00<?, ?it/s]"
      ]
     },
     "metadata": {},
     "output_type": "display_data"
    },
    {
     "name": "stdout",
     "output_type": "stream",
     "text": [
      "CSPR = 9.00 dB\n"
     ]
    },
    {
     "data": {
      "application/vnd.jupyter.widget-view+json": {
       "model_id": "2848582cf72441fd8f40c4a5f791c7da",
       "version_major": 2,
       "version_minor": 0
      },
      "text/plain": [
       "  0%|          | 0/1 [00:00<?, ?it/s]"
      ]
     },
     "metadata": {},
     "output_type": "display_data"
    },
    {
     "name": "stdout",
     "output_type": "stream",
     "text": [
      "CSPR = 10.00 dB\n"
     ]
    },
    {
     "data": {
      "application/vnd.jupyter.widget-view+json": {
       "model_id": "0d1df08033b64714a88d55b0bf9ea5c5",
       "version_major": 2,
       "version_minor": 0
      },
      "text/plain": [
       "  0%|          | 0/1 [00:00<?, ?it/s]"
      ]
     },
     "metadata": {},
     "output_type": "display_data"
    },
    {
     "name": "stdout",
     "output_type": "stream",
     "text": [
      "CSPR = 11.00 dB\n"
     ]
    },
    {
     "data": {
      "application/vnd.jupyter.widget-view+json": {
       "model_id": "b29e2431442a411caf9f5a3b2cda6d64",
       "version_major": 2,
       "version_minor": 0
      },
      "text/plain": [
       "  0%|          | 0/1 [00:00<?, ?it/s]"
      ]
     },
     "metadata": {},
     "output_type": "display_data"
    },
    {
     "name": "stdout",
     "output_type": "stream",
     "text": [
      "CSPR = 12.00 dB\n"
     ]
    },
    {
     "data": {
      "application/vnd.jupyter.widget-view+json": {
       "model_id": "3908fa09236b4d5c8d583f6f784238c6",
       "version_major": 2,
       "version_minor": 0
      },
      "text/plain": [
       "  0%|          | 0/1 [00:00<?, ?it/s]"
      ]
     },
     "metadata": {},
     "output_type": "display_data"
    },
    {
     "name": "stdout",
     "output_type": "stream",
     "text": [
      "CSPR = 13.00 dB\n"
     ]
    },
    {
     "data": {
      "application/vnd.jupyter.widget-view+json": {
       "model_id": "0500458cb9664100bb3cc0c752321584",
       "version_major": 2,
       "version_minor": 0
      },
      "text/plain": [
       "  0%|          | 0/1 [00:00<?, ?it/s]"
      ]
     },
     "metadata": {},
     "output_type": "display_data"
    },
    {
     "name": "stdout",
     "output_type": "stream",
     "text": [
      "CSPR = 14.00 dB\n"
     ]
    },
    {
     "data": {
      "application/vnd.jupyter.widget-view+json": {
       "model_id": "2707bc219ade429ca103c62a666f72ac",
       "version_major": 2,
       "version_minor": 0
      },
      "text/plain": [
       "  0%|          | 0/1 [00:00<?, ?it/s]"
      ]
     },
     "metadata": {},
     "output_type": "display_data"
    },
    {
     "name": "stdout",
     "output_type": "stream",
     "text": [
      "CSPR = 15.00 dB\n"
     ]
    }
   ],
   "source": [
    "N = 128 # number of input amplitude samples to the NN\n",
    "\n",
    "y_train_list = []\n",
    "X_train_list = []\n",
    "\n",
    "loPower = np.arange(6,16,1)\n",
    "\n",
    "for indPower, Plo_dBm in enumerate(tqdm(loPower)):\n",
    "\n",
    "    # generate optical signal signal\n",
    "    sigTx, symbTx_, paramTx = simpleWDMTx(paramTx)\n",
    "\n",
    "    # simulate linear signal propagation\n",
    "    sigCh = linFiberCh(sigTx, Ltotal, alpha, D, Fc, Fs)\n",
    "\n",
    "    symbTx = symbTx_[:, :, chIndex]\n",
    "    Plo = 10 ** (Plo_dBm / 10) * 1e-3  # power in W\n",
    "\n",
    "    # generate LO field\n",
    "    π = np.pi\n",
    "    t = np.arange(0, len(sigCh))*Ts\n",
    "    ϕ_pn_lo = phaseNoise(lw, len(sigCh), Ts)\n",
    "\n",
    "    sigLO = np.sqrt(Plo) * np.exp(-1j * (2 * π * FO * t + ϕ_lo + ϕ_pn_lo))\n",
    "\n",
    "    # Add LO to the received signal\n",
    "    sigRx = np.sqrt(Plo) + sigCh* np.exp(1j * (2 * π * FO * t + ϕ_lo + ϕ_pn_lo))\n",
    "    sfm   = sigRx.copy()\n",
    "\n",
    "    print('CSPR = %.2f dB'%(10*np.log10(signal_power(sigLO)/signal_power(sigCh))))\n",
    "\n",
    "    # simulate ideal direct-detection optical receiver\n",
    "    Ipd = photodiode(sigRx, paramPD)\n",
    "    Amp = np.sqrt(Ipd.real)\n",
    "    Amp = resample(Amp, paramADC).real\n",
    "\n",
    "    # resampling to ADC sampling rate\n",
    "    sigCh = resample(sigCh, paramADC)\n",
    "    sfm = resample(sfm, paramADC)\n",
    "    newFs = paramADC.SpS_out*paramTx.Rs\n",
    "\n",
    "    sfm = sfm/np.sqrt(signal_power(sfm))\n",
    "    \n",
    "    # Neural network training\n",
    "\n",
    "    #sigPhase = np.angle(sfm) # get signal phase samples (labels) (L,)\n",
    "    sigAmp = np.pad(Amp, (int(N/2), int(N/2)), 'constant') # get signal amplitude samples (L,)\n",
    "\n",
    "    # create set of input features\n",
    "    X_train = np.zeros((len(sfm), N)) #(L,N)\n",
    "\n",
    "    for indPhase in range(len(sfm)):\n",
    "        X_train[indPhase] = sigAmp[indPhase:N+indPhase]\n",
    "\n",
    "    # create set of phase labels\n",
    "    y_train = np.array([sfm.real, sfm.imag]).T\n",
    "\n",
    "    y_train_list.append(y_train)\n",
    "    X_train_list.append(X_train)\n",
    "\n",
    "y_train_final = np.concatenate(y_train_list, axis=0)\n",
    "X_train_final = np.concatenate(X_train_list, axis=0)"
   ]
  },
  {
   "cell_type": "code",
   "execution_count": 18,
   "metadata": {},
   "outputs": [
    {
     "name": "stdout",
     "output_type": "stream",
     "text": [
      "(400000, 128) (400000, 2)\n"
     ]
    }
   ],
   "source": [
    "print(X_train_final.shape, y_train_final.shape)"
   ]
  },
  {
   "cell_type": "markdown",
   "metadata": {},
   "source": [
    "### Permuta o conjunto de treinamento"
   ]
  },
  {
   "cell_type": "code",
   "execution_count": 19,
   "metadata": {},
   "outputs": [],
   "source": [
    "indices = tf.range(start=0, limit=tf.shape(X_train_final)[0], dtype=tf.int32)\n",
    "idx = tf.random.shuffle(indices)\n",
    "\n",
    "x_data = tf.gather(X_train_final, idx)\n",
    "y_data = tf.gather(y_train_final, idx)"
   ]
  },
  {
   "attachments": {},
   "cell_type": "markdown",
   "metadata": {},
   "source": [
    "### Define o treinamento para rede MLP"
   ]
  },
  {
   "cell_type": "code",
   "execution_count": 24,
   "metadata": {},
   "outputs": [],
   "source": [
    "# define neural network model\n",
    "stop = EarlyStopping(monitor='val_loss', patience=5)\n",
    "model = Sequential()\n",
    "model.add(BatchNormalization())\n",
    "model.add(Dense(4, input_shape=(N,)))\n",
    "model.add(Dense(8, activation='relu'))\n",
    "model.add(Dense(4, activation='relu'))\n",
    "model.add(Dense(2))"
   ]
  },
  {
   "cell_type": "code",
   "execution_count": 10,
   "metadata": {},
   "outputs": [
    {
     "name": "stdout",
     "output_type": "stream",
     "text": [
      "Epoch 1/200\n",
      "1094/1094 [==============================] - 5s 3ms/step - loss: 0.2064 - val_loss: 0.0656\n",
      "Epoch 2/200\n",
      "1094/1094 [==============================] - 2s 2ms/step - loss: 0.0517 - val_loss: 0.0482\n",
      "Epoch 3/200\n",
      "1094/1094 [==============================] - 3s 2ms/step - loss: 0.0383 - val_loss: 0.0289\n",
      "Epoch 4/200\n",
      "1094/1094 [==============================] - 2s 2ms/step - loss: 0.0281 - val_loss: 0.0273\n",
      "Epoch 5/200\n",
      "1094/1094 [==============================] - 2s 2ms/step - loss: 0.0270 - val_loss: 0.0267\n",
      "Epoch 6/200\n",
      "1094/1094 [==============================] - 3s 2ms/step - loss: 0.0262 - val_loss: 0.0258\n",
      "Epoch 7/200\n",
      "1094/1094 [==============================] - 3s 3ms/step - loss: 0.0245 - val_loss: 0.0095\n",
      "Epoch 8/200\n",
      "1094/1094 [==============================] - 2s 2ms/step - loss: 0.0070 - val_loss: 0.0055\n",
      "Epoch 9/200\n",
      "1094/1094 [==============================] - 3s 2ms/step - loss: 0.0056 - val_loss: 0.0051\n",
      "Epoch 10/200\n",
      "1094/1094 [==============================] - 3s 2ms/step - loss: 0.0054 - val_loss: 0.0050\n",
      "Epoch 11/200\n",
      "1094/1094 [==============================] - 3s 2ms/step - loss: 0.0053 - val_loss: 0.0050\n",
      "Epoch 12/200\n",
      "1094/1094 [==============================] - 3s 2ms/step - loss: 0.0053 - val_loss: 0.0050\n",
      "Epoch 13/200\n",
      "1094/1094 [==============================] - 2s 2ms/step - loss: 0.0053 - val_loss: 0.0050\n",
      "Epoch 14/200\n",
      "1094/1094 [==============================] - 2s 2ms/step - loss: 0.0052 - val_loss: 0.0049\n",
      "Epoch 15/200\n",
      "1094/1094 [==============================] - 2s 2ms/step - loss: 0.0051 - val_loss: 0.0049\n",
      "Epoch 16/200\n",
      "1094/1094 [==============================] - 2s 2ms/step - loss: 0.0051 - val_loss: 0.0048\n",
      "Epoch 17/200\n",
      "1094/1094 [==============================] - 2s 2ms/step - loss: 0.0051 - val_loss: 0.0048\n",
      "Epoch 18/200\n",
      "1094/1094 [==============================] - 2s 2ms/step - loss: 0.0051 - val_loss: 0.0047\n",
      "Epoch 19/200\n",
      "1094/1094 [==============================] - 2s 2ms/step - loss: 0.0051 - val_loss: 0.0047\n",
      "Epoch 20/200\n",
      "1094/1094 [==============================] - 3s 2ms/step - loss: 0.0051 - val_loss: 0.0050\n",
      "Epoch 21/200\n",
      "1094/1094 [==============================] - 2s 2ms/step - loss: 0.0050 - val_loss: 0.0050\n",
      "Epoch 22/200\n",
      "1094/1094 [==============================] - 2s 2ms/step - loss: 0.0050 - val_loss: 0.0047\n",
      "Epoch 23/200\n",
      "1094/1094 [==============================] - 2s 2ms/step - loss: 0.0050 - val_loss: 0.0047\n"
     ]
    }
   ],
   "source": [
    "model.compile(optimizer='adam', loss='mse')\n",
    "model.fit(x_data, y_data, epochs=200, callbacks=[stop], validation_split=0.3, batch_size=256)\n",
    "model.save('C:/Users/silas/Documents/PIVIC-PIBIC-Comunicacoes-Opticas/models/NN_models/'+'testModel_SpS_'+str(paramTx.SpS)+'_CSPR_DataPermuted', save_format='h5')"
   ]
  },
  {
   "attachments": {},
   "cell_type": "markdown",
   "metadata": {},
   "source": [
    "### Define o treinamento para a DeepTCN"
   ]
  },
  {
   "cell_type": "code",
   "execution_count": 36,
   "metadata": {},
   "outputs": [],
   "source": [
    "model = DeepTCN(\n",
    "    y=y_data,\n",
    "    x=x_data,\n",
    "    forecast_period=2,\n",
    "    lookback_period=2,\n",
    "    quantiles=[0.001, 0.1, 0.5, 0.9, 0.999],\n",
    "    filters=32,\n",
    "    kernel_size=3,\n",
    "    dilation_rates=[4],\n",
    "    loss='mse'\n",
    ")"
   ]
  },
  {
   "cell_type": "code",
   "execution_count": 37,
   "metadata": {},
   "outputs": [
    {
     "name": "stdout",
     "output_type": "stream",
     "text": [
      "Epoch 1/2\n",
      "WARNING:tensorflow:From c:\\Users\\optic\\AppData\\Local\\Programs\\Python\\Python39\\lib\\site-packages\\tensorflow\\python\\autograph\\pyct\\static_analysis\\liveness.py:83: Analyzer.lamba_check (from tensorflow.python.autograph.pyct.static_analysis.liveness) is deprecated and will be removed after 2023-09-23.\n",
      "Instructions for updating:\n",
      "Lambda fuctions will be no more assumed to be used in the statement where they are used, or at least in the same block. https://github.com/tensorflow/tensorflow/issues/56089\n"
     ]
    },
    {
     "name": "stderr",
     "output_type": "stream",
     "text": [
      "WARNING:tensorflow:From c:\\Users\\optic\\AppData\\Local\\Programs\\Python\\Python39\\lib\\site-packages\\tensorflow\\python\\autograph\\pyct\\static_analysis\\liveness.py:83: Analyzer.lamba_check (from tensorflow.python.autograph.pyct.static_analysis.liveness) is deprecated and will be removed after 2023-09-23.\n",
      "Instructions for updating:\n",
      "Lambda fuctions will be no more assumed to be used in the statement where they are used, or at least in the same block. https://github.com/tensorflow/tensorflow/issues/56089\n"
     ]
    },
    {
     "name": "stdout",
     "output_type": "stream",
     "text": [
      "4375/4375 [==============================] - 71s 6ms/step - loss: 0.0350 - val_loss: 0.0195\n",
      "Epoch 2/2\n",
      "4375/4375 [==============================] - 21s 5ms/step - loss: 0.0204 - val_loss: 0.0202\n"
     ]
    }
   ],
   "source": [
    "path = r'C:/Users/optic/Documents/PIVIC-PIBIC-Comunicacoes-Opticas/models/deep_tcn_tensorflow/'\n",
    "\n",
    "model.fit(\n",
    "    learning_rate=0.001,\n",
    "    batch_size=64,\n",
    "    epochs=2,\n",
    "    verbose=1,\n",
    "    validation_split=0.3\n",
    ")\n",
    "\n",
    "#model.saveModel(path+'testModel_SpS_'+str(paramTx.SpS)+'_CSPR_DataPermuted')"
   ]
  },
  {
   "cell_type": "code",
   "execution_count": 48,
   "metadata": {},
   "outputs": [
    {
     "data": {
      "text/html": [
       "<div>\n",
       "<style scoped>\n",
       "    .dataframe tbody tr th:only-of-type {\n",
       "        vertical-align: middle;\n",
       "    }\n",
       "\n",
       "    .dataframe tbody tr th {\n",
       "        vertical-align: top;\n",
       "    }\n",
       "\n",
       "    .dataframe thead th {\n",
       "        text-align: right;\n",
       "    }\n",
       "</style>\n",
       "<table border=\"1\" class=\"dataframe\">\n",
       "  <thead>\n",
       "    <tr style=\"text-align: right;\">\n",
       "      <th></th>\n",
       "      <th>time_idx</th>\n",
       "      <th>target_1</th>\n",
       "      <th>target_2</th>\n",
       "      <th>target_1_0.001</th>\n",
       "      <th>target_1_0.1</th>\n",
       "      <th>target_1_0.5</th>\n",
       "      <th>target_1_0.9</th>\n",
       "      <th>target_1_0.999</th>\n",
       "      <th>target_2_0.001</th>\n",
       "      <th>target_2_0.1</th>\n",
       "      <th>target_2_0.5</th>\n",
       "      <th>target_2_0.9</th>\n",
       "      <th>target_2_0.999</th>\n",
       "    </tr>\n",
       "  </thead>\n",
       "  <tbody>\n",
       "    <tr>\n",
       "      <th>0</th>\n",
       "      <td>0.0</td>\n",
       "      <td>0.765882</td>\n",
       "      <td>-0.195580</td>\n",
       "      <td>NaN</td>\n",
       "      <td>NaN</td>\n",
       "      <td>NaN</td>\n",
       "      <td>NaN</td>\n",
       "      <td>NaN</td>\n",
       "      <td>NaN</td>\n",
       "      <td>NaN</td>\n",
       "      <td>NaN</td>\n",
       "      <td>NaN</td>\n",
       "      <td>NaN</td>\n",
       "    </tr>\n",
       "    <tr>\n",
       "      <th>1</th>\n",
       "      <td>1.0</td>\n",
       "      <td>0.858656</td>\n",
       "      <td>0.022075</td>\n",
       "      <td>NaN</td>\n",
       "      <td>NaN</td>\n",
       "      <td>NaN</td>\n",
       "      <td>NaN</td>\n",
       "      <td>NaN</td>\n",
       "      <td>NaN</td>\n",
       "      <td>NaN</td>\n",
       "      <td>NaN</td>\n",
       "      <td>NaN</td>\n",
       "      <td>NaN</td>\n",
       "    </tr>\n",
       "    <tr>\n",
       "      <th>2</th>\n",
       "      <td>2.0</td>\n",
       "      <td>0.342175</td>\n",
       "      <td>0.176667</td>\n",
       "      <td>NaN</td>\n",
       "      <td>NaN</td>\n",
       "      <td>NaN</td>\n",
       "      <td>NaN</td>\n",
       "      <td>NaN</td>\n",
       "      <td>NaN</td>\n",
       "      <td>NaN</td>\n",
       "      <td>NaN</td>\n",
       "      <td>NaN</td>\n",
       "      <td>NaN</td>\n",
       "    </tr>\n",
       "    <tr>\n",
       "      <th>3</th>\n",
       "      <td>3.0</td>\n",
       "      <td>0.928871</td>\n",
       "      <td>0.037518</td>\n",
       "      <td>NaN</td>\n",
       "      <td>NaN</td>\n",
       "      <td>NaN</td>\n",
       "      <td>NaN</td>\n",
       "      <td>NaN</td>\n",
       "      <td>NaN</td>\n",
       "      <td>NaN</td>\n",
       "      <td>NaN</td>\n",
       "      <td>NaN</td>\n",
       "      <td>NaN</td>\n",
       "    </tr>\n",
       "    <tr>\n",
       "      <th>4</th>\n",
       "      <td>4.0</td>\n",
       "      <td>0.707462</td>\n",
       "      <td>0.063786</td>\n",
       "      <td>NaN</td>\n",
       "      <td>NaN</td>\n",
       "      <td>NaN</td>\n",
       "      <td>NaN</td>\n",
       "      <td>NaN</td>\n",
       "      <td>NaN</td>\n",
       "      <td>NaN</td>\n",
       "      <td>NaN</td>\n",
       "      <td>NaN</td>\n",
       "      <td>NaN</td>\n",
       "    </tr>\n",
       "  </tbody>\n",
       "</table>\n",
       "</div>"
      ],
      "text/plain": [
       "   time_idx  target_1  target_2  target_1_0.001  target_1_0.1  target_1_0.5  \\\n",
       "0       0.0  0.765882 -0.195580             NaN           NaN           NaN   \n",
       "1       1.0  0.858656  0.022075             NaN           NaN           NaN   \n",
       "2       2.0  0.342175  0.176667             NaN           NaN           NaN   \n",
       "3       3.0  0.928871  0.037518             NaN           NaN           NaN   \n",
       "4       4.0  0.707462  0.063786             NaN           NaN           NaN   \n",
       "\n",
       "   target_1_0.9  target_1_0.999  target_2_0.001  target_2_0.1  target_2_0.5  \\\n",
       "0           NaN             NaN             NaN           NaN           NaN   \n",
       "1           NaN             NaN             NaN           NaN           NaN   \n",
       "2           NaN             NaN             NaN           NaN           NaN   \n",
       "3           NaN             NaN             NaN           NaN           NaN   \n",
       "4           NaN             NaN             NaN           NaN           NaN   \n",
       "\n",
       "   target_2_0.9  target_2_0.999  \n",
       "0           NaN             NaN  \n",
       "1           NaN             NaN  \n",
       "2           NaN             NaN  \n",
       "3           NaN             NaN  \n",
       "4           NaN             NaN  "
      ]
     },
     "execution_count": 48,
     "metadata": {},
     "output_type": "execute_result"
    }
   ],
   "source": [
    "df = model.forecast(y=np.array(y_data), x=np.array(x_data))\n",
    "df.head()"
   ]
  },
  {
   "cell_type": "code",
   "execution_count": 49,
   "metadata": {},
   "outputs": [
    {
     "data": {
      "text/html": [
       "<div>\n",
       "<style scoped>\n",
       "    .dataframe tbody tr th:only-of-type {\n",
       "        vertical-align: middle;\n",
       "    }\n",
       "\n",
       "    .dataframe tbody tr th {\n",
       "        vertical-align: top;\n",
       "    }\n",
       "\n",
       "    .dataframe thead th {\n",
       "        text-align: right;\n",
       "    }\n",
       "</style>\n",
       "<table border=\"1\" class=\"dataframe\">\n",
       "  <thead>\n",
       "    <tr style=\"text-align: right;\">\n",
       "      <th></th>\n",
       "      <th>target_2</th>\n",
       "    </tr>\n",
       "  </thead>\n",
       "  <tbody>\n",
       "    <tr>\n",
       "      <th>0</th>\n",
       "      <td>-0.195580</td>\n",
       "    </tr>\n",
       "    <tr>\n",
       "      <th>1</th>\n",
       "      <td>0.022075</td>\n",
       "    </tr>\n",
       "    <tr>\n",
       "      <th>2</th>\n",
       "      <td>0.176667</td>\n",
       "    </tr>\n",
       "    <tr>\n",
       "      <th>3</th>\n",
       "      <td>0.037518</td>\n",
       "    </tr>\n",
       "    <tr>\n",
       "      <th>4</th>\n",
       "      <td>0.063786</td>\n",
       "    </tr>\n",
       "    <tr>\n",
       "      <th>...</th>\n",
       "      <td>...</td>\n",
       "    </tr>\n",
       "    <tr>\n",
       "      <th>399998</th>\n",
       "      <td>0.019848</td>\n",
       "    </tr>\n",
       "    <tr>\n",
       "      <th>399999</th>\n",
       "      <td>0.453941</td>\n",
       "    </tr>\n",
       "    <tr>\n",
       "      <th>400000</th>\n",
       "      <td>NaN</td>\n",
       "    </tr>\n",
       "    <tr>\n",
       "      <th>400001</th>\n",
       "      <td>NaN</td>\n",
       "    </tr>\n",
       "    <tr>\n",
       "      <th>400002</th>\n",
       "      <td>NaN</td>\n",
       "    </tr>\n",
       "  </tbody>\n",
       "</table>\n",
       "<p>400003 rows × 1 columns</p>\n",
       "</div>"
      ],
      "text/plain": [
       "        target_2\n",
       "0      -0.195580\n",
       "1       0.022075\n",
       "2       0.176667\n",
       "3       0.037518\n",
       "4       0.063786\n",
       "...          ...\n",
       "399998  0.019848\n",
       "399999  0.453941\n",
       "400000       NaN\n",
       "400001       NaN\n",
       "400002       NaN\n",
       "\n",
       "[400003 rows x 1 columns]"
      ]
     },
     "execution_count": 49,
     "metadata": {},
     "output_type": "execute_result"
    }
   ],
   "source": [
    "df[['target_2']]"
   ]
  },
  {
   "cell_type": "code",
   "execution_count": 43,
   "metadata": {},
   "outputs": [],
   "source": [
    "fig = plot(df=df, quantiles=[0.001, 0.1, 0.5, 0.9, 0.999])\n",
    "fig.write_image('results.png', scale=4, height=900, width=700)"
   ]
  },
  {
   "cell_type": "code",
   "execution_count": 3,
   "metadata": {},
   "outputs": [],
   "source": [
    "import tensorflow as tf\n",
    "from tensorflow.keras.layers import Input, Dense\n",
    "from tfts import AutoModel, AutoConfig"
   ]
  },
  {
   "cell_type": "code",
   "execution_count": 13,
   "metadata": {},
   "outputs": [],
   "source": [
    "def build_model():\n",
    "    #tf.keras.Input(shape=(N, 1))\n",
    "    train_length = 128\n",
    "    train_features = 1\n",
    "    predict_length = 1\n",
    "    config = AutoConfig('tcn').get_config()\n",
    "\n",
    "    inputs = Input([train_length, train_features])\n",
    "    backbone = AutoModel(\"tcn\")\n",
    "    outputs = backbone(inputs)\n",
    "    flat = Flatten()(outputs)\n",
    "    output = Dense(2, activation='linear')(flat)\n",
    "    model = tf.keras.Model(inputs=inputs, outputs=output)\n",
    "    model.compile(loss=\"mse\", optimizer=\"adam\")\n",
    "\n",
    "    return config, model"
   ]
  },
  {
   "cell_type": "code",
   "execution_count": 14,
   "metadata": {},
   "outputs": [
    {
     "name": "stdout",
     "output_type": "stream",
     "text": [
      "Model: \"model_4\"\n",
      "__________________________________________________________________________________________________\n",
      " Layer (type)                   Output Shape         Param #     Connected to                     \n",
      "==================================================================================================\n",
      " input_5 (InputLayer)           [(None, 128, 1)]     0           []                               \n",
      "                                                                                                  \n",
      " encoder_dense_time1 (DenseTemp  (None, 128, 128)    256         ['input_5[0][0]']                \n",
      " )                                                                                                \n",
      "                                                                                                  \n",
      " conv_temp_12 (ConvTemp)        (None, 128, 256)     65792       ['encoder_dense_time1[0][0]']    \n",
      "                                                                                                  \n",
      " tf.split_24 (TFOpLambda)       [(None, 128, 128),   0           ['conv_temp_12[0][0]']           \n",
      "                                 (None, 128, 128)]                                                \n",
      "                                                                                                  \n",
      " tf.math.tanh_12 (TFOpLambda)   (None, 128, 128)     0           ['tf.split_24[0][0]']            \n",
      "                                                                                                  \n",
      " tf.math.sigmoid_12 (TFOpLambda  (None, 128, 128)    0           ['tf.split_24[0][1]']            \n",
      " )                                                                                                \n",
      "                                                                                                  \n",
      " tf.math.multiply_12 (TFOpLambd  (None, 128, 128)    0           ['tf.math.tanh_12[0][0]',        \n",
      " a)                                                               'tf.math.sigmoid_12[0][0]']     \n",
      "                                                                                                  \n",
      " encoder_dense_time2 (DenseTemp  (None, 128, 256)    33024       ['tf.math.multiply_12[0][0]',    \n",
      " )                                                                'tf.math.multiply_13[0][0]',    \n",
      "                                                                  'tf.math.multiply_14[0][0]',    \n",
      "                                                                  'tf.math.multiply_15[0][0]']    \n",
      "                                                                                                  \n",
      " tf.split_25 (TFOpLambda)       [(None, 128, 128),   0           ['encoder_dense_time2[0][0]']    \n",
      "                                 (None, 128, 128)]                                                \n",
      "                                                                                                  \n",
      " tf.__operators__.add_12 (TFOpL  (None, 128, 128)    0           ['encoder_dense_time1[0][0]',    \n",
      " ambda)                                                           'tf.split_25[0][1]']            \n",
      "                                                                                                  \n",
      " conv_temp_13 (ConvTemp)        (None, 128, 256)     65792       ['tf.__operators__.add_12[0][0]']\n",
      "                                                                                                  \n",
      " tf.split_26 (TFOpLambda)       [(None, 128, 128),   0           ['conv_temp_13[0][0]']           \n",
      "                                 (None, 128, 128)]                                                \n",
      "                                                                                                  \n",
      " tf.math.tanh_13 (TFOpLambda)   (None, 128, 128)     0           ['tf.split_26[0][0]']            \n",
      "                                                                                                  \n",
      " tf.math.sigmoid_13 (TFOpLambda  (None, 128, 128)    0           ['tf.split_26[0][1]']            \n",
      " )                                                                                                \n",
      "                                                                                                  \n",
      " tf.math.multiply_13 (TFOpLambd  (None, 128, 128)    0           ['tf.math.tanh_13[0][0]',        \n",
      " a)                                                               'tf.math.sigmoid_13[0][0]']     \n",
      "                                                                                                  \n",
      " tf.split_27 (TFOpLambda)       [(None, 128, 128),   0           ['encoder_dense_time2[1][0]']    \n",
      "                                 (None, 128, 128)]                                                \n",
      "                                                                                                  \n",
      " tf.__operators__.add_13 (TFOpL  (None, 128, 128)    0           ['tf.__operators__.add_12[0][0]',\n",
      " ambda)                                                           'tf.split_27[0][1]']            \n",
      "                                                                                                  \n",
      " conv_temp_14 (ConvTemp)        (None, 128, 256)     65792       ['tf.__operators__.add_13[0][0]']\n",
      "                                                                                                  \n",
      " tf.split_28 (TFOpLambda)       [(None, 128, 128),   0           ['conv_temp_14[0][0]']           \n",
      "                                 (None, 128, 128)]                                                \n",
      "                                                                                                  \n",
      " tf.math.tanh_14 (TFOpLambda)   (None, 128, 128)     0           ['tf.split_28[0][0]']            \n",
      "                                                                                                  \n",
      " tf.math.sigmoid_14 (TFOpLambda  (None, 128, 128)    0           ['tf.split_28[0][1]']            \n",
      " )                                                                                                \n",
      "                                                                                                  \n",
      " tf.math.multiply_14 (TFOpLambd  (None, 128, 128)    0           ['tf.math.tanh_14[0][0]',        \n",
      " a)                                                               'tf.math.sigmoid_14[0][0]']     \n",
      "                                                                                                  \n",
      " tf.split_29 (TFOpLambda)       [(None, 128, 128),   0           ['encoder_dense_time2[2][0]']    \n",
      "                                 (None, 128, 128)]                                                \n",
      "                                                                                                  \n",
      " tf.__operators__.add_14 (TFOpL  (None, 128, 128)    0           ['tf.__operators__.add_13[0][0]',\n",
      " ambda)                                                           'tf.split_29[0][1]']            \n",
      "                                                                                                  \n",
      " conv_temp_15 (ConvTemp)        (None, 128, 256)     65792       ['tf.__operators__.add_14[0][0]']\n",
      "                                                                                                  \n",
      " tf.split_30 (TFOpLambda)       [(None, 128, 128),   0           ['conv_temp_15[0][0]']           \n",
      "                                 (None, 128, 128)]                                                \n",
      "                                                                                                  \n",
      " tf.math.tanh_15 (TFOpLambda)   (None, 128, 128)     0           ['tf.split_30[0][0]']            \n",
      "                                                                                                  \n",
      " tf.math.sigmoid_15 (TFOpLambda  (None, 128, 128)    0           ['tf.split_30[0][1]']            \n",
      " )                                                                                                \n",
      "                                                                                                  \n",
      " tf.math.multiply_15 (TFOpLambd  (None, 128, 128)    0           ['tf.math.tanh_15[0][0]',        \n",
      " a)                                                               'tf.math.sigmoid_15[0][0]']     \n",
      "                                                                                                  \n",
      " tf.split_31 (TFOpLambda)       [(None, 128, 128),   0           ['encoder_dense_time2[3][0]']    \n",
      "                                 (None, 128, 128)]                                                \n",
      "                                                                                                  \n",
      " tf.concat_3 (TFOpLambda)       (None, 128, 512)     0           ['tf.split_25[0][0]',            \n",
      "                                                                  'tf.split_27[0][0]',            \n",
      "                                                                  'tf.split_29[0][0]',            \n",
      "                                                                  'tf.split_31[0][0]']            \n",
      "                                                                                                  \n",
      " tf.nn.relu_3 (TFOpLambda)      (None, 128, 512)     0           ['tf.concat_3[0][0]']            \n",
      "                                                                                                  \n",
      " encoder_dense_time3 (DenseTemp  (None, 128, 64)     32832       ['tf.nn.relu_3[0][0]']           \n",
      " )                                                                                                \n",
      "                                                                                                  \n",
      " tf.__operators__.getitem_3 (Sl  (None, 64)          0           ['encoder_dense_time3[0][0]']    \n",
      " icingOpLambda)                                                                                   \n",
      "                                                                                                  \n",
      " dropout_6 (Dropout)            (None, 64)           0           ['tf.__operators__.getitem_3[0][0\n",
      "                                                                 ]']                              \n",
      "                                                                                                  \n",
      " dense_14 (Dense)               (None, 512)          33280       ['dropout_6[0][0]']              \n",
      "                                                                                                  \n",
      " dropout_7 (Dropout)            multiple             0           ['dense_14[0][0]',               \n",
      "                                                                  'dense_15[0][0]']               \n",
      "                                                                                                  \n",
      " dense_15 (Dense)               (None, 1024)         525312      ['dropout_7[0][0]']              \n",
      "                                                                                                  \n",
      " dense_13 (Dense)               (None, 1)            1025        ['dropout_7[1][0]']              \n",
      "                                                                                                  \n",
      " tf.expand_dims_3 (TFOpLambda)  (None, 1, 1)         0           ['dense_13[0][0]']               \n",
      "                                                                                                  \n",
      " flatten_1 (Flatten)            (None, 1)            0           ['tf.expand_dims_3[0][0]']       \n",
      "                                                                                                  \n",
      " dense_16 (Dense)               (None, 2)            4           ['flatten_1[0][0]']              \n",
      "                                                                                                  \n",
      "==================================================================================================\n",
      "Total params: 888,901\n",
      "Trainable params: 888,901\n",
      "Non-trainable params: 0\n",
      "__________________________________________________________________________________________________\n"
     ]
    }
   ],
   "source": [
    "config, model = build_model()\n",
    "model.summary()"
   ]
  },
  {
   "cell_type": "code",
   "execution_count": 20,
   "metadata": {},
   "outputs": [
    {
     "name": "stdout",
     "output_type": "stream",
     "text": [
      "Epoch 1/200\n",
      "8750/8750 [==============================] - 1462s 167ms/step - loss: 0.0554 - val_loss: 0.0490\n",
      "Epoch 2/200\n",
      "8750/8750 [==============================] - 1344s 154ms/step - loss: 0.0484 - val_loss: 0.0482\n",
      "Epoch 3/200\n",
      "8750/8750 [==============================] - 1303s 149ms/step - loss: 0.0482 - val_loss: 0.0482\n",
      "Epoch 4/200\n",
      "8750/8750 [==============================] - 1284s 147ms/step - loss: 0.0481 - val_loss: 0.0481\n",
      "Epoch 5/200\n",
      "8750/8750 [==============================] - 1287s 147ms/step - loss: 0.0481 - val_loss: 0.0482\n",
      "Epoch 6/200\n",
      "8750/8750 [==============================] - 1295s 148ms/step - loss: 0.0480 - val_loss: 0.0481\n",
      "Epoch 7/200\n",
      "8750/8750 [==============================] - 1300s 149ms/step - loss: 0.0480 - val_loss: 0.0482\n",
      "Epoch 8/200\n",
      "8750/8750 [==============================] - 1300s 149ms/step - loss: 0.0480 - val_loss: 0.0481\n",
      "Epoch 9/200\n",
      "8750/8750 [==============================] - 1306s 149ms/step - loss: 0.0480 - val_loss: 0.0482\n"
     ]
    },
    {
     "data": {
      "text/plain": [
       "<keras.callbacks.History at 0x2d1d563bf10>"
      ]
     },
     "execution_count": 20,
     "metadata": {},
     "output_type": "execute_result"
    }
   ],
   "source": [
    "config, model = build_model()\n",
    "stop = EarlyStopping(monitor='val_loss', patience=5)\n",
    "model.fit(x_data, y_data, epochs=200, callbacks=[stop], validation_split=0.3, batch_size=32)"
   ]
  },
  {
   "attachments": {},
   "cell_type": "markdown",
   "metadata": {},
   "source": [
    "### Define o treinamento para rede convolucional "
   ]
  },
  {
   "cell_type": "code",
   "execution_count": 11,
   "metadata": {},
   "outputs": [
    {
     "name": "stdout",
     "output_type": "stream",
     "text": [
      "Epoch 1/200\n",
      "1094/1094 [==============================] - 187s 167ms/step - loss: 0.0250 - val_loss: 0.0064\n",
      "Epoch 2/200\n",
      "1094/1094 [==============================] - 175s 160ms/step - loss: 0.0050 - val_loss: 0.0044\n",
      "Epoch 3/200\n",
      "1094/1094 [==============================] - 175s 160ms/step - loss: 0.0045 - val_loss: 0.0046\n",
      "Epoch 4/200\n",
      "1094/1094 [==============================] - 177s 162ms/step - loss: 0.0043 - val_loss: 0.0043\n",
      "Epoch 5/200\n",
      "1094/1094 [==============================] - 174s 159ms/step - loss: 0.0043 - val_loss: 0.0042\n",
      "Epoch 6/200\n",
      "1094/1094 [==============================] - 163s 149ms/step - loss: 0.0042 - val_loss: 0.0043\n",
      "Epoch 7/200\n",
      "1094/1094 [==============================] - 169s 155ms/step - loss: 0.0042 - val_loss: 0.0040\n",
      "Epoch 8/200\n",
      "1094/1094 [==============================] - 177s 162ms/step - loss: 0.0041 - val_loss: 0.0041\n",
      "Epoch 9/200\n",
      "1094/1094 [==============================] - 174s 159ms/step - loss: 0.0041 - val_loss: 0.0041\n",
      "Epoch 10/200\n",
      "1094/1094 [==============================] - 175s 160ms/step - loss: 0.0041 - val_loss: 0.0040\n",
      "Epoch 11/200\n",
      "1094/1094 [==============================] - 173s 158ms/step - loss: 0.0040 - val_loss: 0.0040\n",
      "Epoch 12/200\n",
      "1094/1094 [==============================] - 174s 159ms/step - loss: 0.0040 - val_loss: 0.0039\n",
      "Epoch 13/200\n",
      "1094/1094 [==============================] - 173s 158ms/step - loss: 0.0040 - val_loss: 0.0041\n",
      "Epoch 14/200\n",
      "1094/1094 [==============================] - 164s 150ms/step - loss: 0.0040 - val_loss: 0.0038\n",
      "Epoch 15/200\n",
      "1094/1094 [==============================] - 160s 146ms/step - loss: 0.0040 - val_loss: 0.0039\n",
      "Epoch 16/200\n",
      "1094/1094 [==============================] - 158s 145ms/step - loss: 0.0039 - val_loss: 0.0038\n",
      "Epoch 17/200\n",
      "1094/1094 [==============================] - 158s 144ms/step - loss: 0.0039 - val_loss: 0.0040\n",
      "Epoch 18/200\n",
      "1094/1094 [==============================] - 157s 144ms/step - loss: 0.0039 - val_loss: 0.0039\n",
      "Epoch 19/200\n",
      "1094/1094 [==============================] - 175s 160ms/step - loss: 0.0039 - val_loss: 0.0039\n"
     ]
    }
   ],
   "source": [
    "path = 'C:/Users/silas/Documents/PIVIC-PIBIC-Comunicacoes-Opticas/models/Conv_models/'\n",
    "n0 = 32\n",
    "\n",
    "# define neural network model\n",
    "stop = EarlyStopping(monitor='val_loss', patience=5)\n",
    "model = create_convnet(N, n0)\n",
    "model.compile(optimizer=tf.keras.optimizers.Adam(learning_rate=0.001), loss='mse')\n",
    "model.fit(x_data, y_data, epochs=200, callbacks=[stop], validation_split=0.3, batch_size=256)\n",
    "# model.summary()\n",
    "\n",
    "model.save(path+'testModel_SpS_'+str(paramTx.SpS)+'_CSPR_DataPermuted', save_format='h5')"
   ]
  }
 ],
 "metadata": {
  "kernelspec": {
   "display_name": "Python 3",
   "language": "python",
   "name": "python3"
  },
  "language_info": {
   "codemirror_mode": {
    "name": "ipython",
    "version": 3
   },
   "file_extension": ".py",
   "mimetype": "text/x-python",
   "name": "python",
   "nbconvert_exporter": "python",
   "pygments_lexer": "ipython3",
   "version": "3.9.0"
  },
  "orig_nbformat": 4
 },
 "nbformat": 4,
 "nbformat_minor": 2
}
