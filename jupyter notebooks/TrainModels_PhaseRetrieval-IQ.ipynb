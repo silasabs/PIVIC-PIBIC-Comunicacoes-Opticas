{
 "cells": [
  {
   "cell_type": "code",
   "execution_count": 1,
   "metadata": {},
   "outputs": [],
   "source": [
    "from tensorflow.keras.layers import Dense, BatchNormalization, Conv1DTranspose, Conv1D, Flatten, Add, Activation\n",
    "from tensorflow.keras.models import Sequential\n",
    "from tensorflow.keras.callbacks import EarlyStopping\n",
    "import tensorflow as tf\n",
    "from tensorflow.keras import backend as K\n",
    "from keras.utils.vis_utils import plot_model"
   ]
  },
  {
   "cell_type": "code",
   "execution_count": 2,
   "metadata": {},
   "outputs": [],
   "source": [
    "import matplotlib.pyplot as plt\n",
    "import numpy as np\n",
    "\n",
    "from commpy.modulation import QAMModem\n",
    "\n",
    "from optic.dsp import pulseShape, firFilter, decimate, symbolSync, resample\n",
    "from optic.models import phaseNoise, linFiberCh, KramersKronigRx, photodiode\n",
    "\n",
    "from optic.tx import simpleWDMTx\n",
    "from optic.core import parameters\n",
    "from optic.equalization import edc, mimoAdaptEqualizer\n",
    "from optic.carrierRecovery import cpr\n",
    "from optic.metrics import fastBERcalc, monteCarloGMI, monteCarloMI, signal_power\n",
    "from optic.plot import pconst\n",
    "\n",
    "import scipy.constants as const\n",
    "from tqdm.notebook import tqdm\n",
    "import sys"
   ]
  },
  {
   "cell_type": "code",
   "execution_count": 3,
   "metadata": {},
   "outputs": [],
   "source": [
    "def loadArray(file_path):\n",
    "    with open(file_path, 'rb') as stream:\n",
    "        data = np.load(stream)\n",
    "    return data"
   ]
  },
  {
   "cell_type": "code",
   "execution_count": 4,
   "metadata": {},
   "outputs": [],
   "source": [
    "def permutate_input_output(input_matrix, output_matrix):\n",
    "    \n",
    "    num_rows, num_cols = input_matrix.shape\n",
    "    # Cria uma matriz de permutação para trocar as linhas\n",
    "    permutation = np.random.permutation(num_rows)\n",
    "\n",
    "    # Aplica a permutação nas matrizes de entrada e saída\n",
    "    permuted_input_matrix = input_matrix[permutation]\n",
    "    permuted_output_matrix = output_matrix[permutation]\n",
    "\n",
    "    return permuted_input_matrix, permuted_output_matrix"
   ]
  },
  {
   "cell_type": "code",
   "execution_count": 5,
   "metadata": {},
   "outputs": [],
   "source": [
    "def create_convnet(N, n0, img_path='convnet_image.png'):\n",
    "    \n",
    "    \"\"\" Esta função retorna o modelo da rede neural citada pelo artigo \n",
    "    \"Deep learning-based Phase Retrieval Scheme for Minimum-phase Signal Recovery\".\n",
    "    Alguns parâmetros podem ser fixos como:\n",
    "    \n",
    "    k = 3: tamanho do kernel das camadas convolucionais 1D dentro de um Bloco D/U\n",
    "    s: passo das camadas convolucionais 1D dentro de um bloco D/U, para este caso foi selecionado s = 2.\n",
    "    d: profundidade do modelo, ou seja, o número de blocos D e U, para este caso foi selecionado d = 3\n",
    "        \n",
    "    Args:\n",
    "        N (int): Número de amostras de amplitude do sinal.\n",
    "        n0 (int): Número de núcleos de camadas convolucionais 1D dentro de um bloco D/U\n",
    "        img_path (str, optional): Nome do arquivo de saída para o plot do modelo em .png. Defaults to 'convnet_image.png'.\n",
    "\n",
    "    Returns:\n",
    "        object: modelo da rede neural.\n",
    "    \"\"\"\n",
    "    \n",
    "    model = Sequential()   \n",
    "    input_shape = tf.keras.Input(shape=(N, 1))\n",
    "    \n",
    "    normalize = BatchNormalization()(input_shape)\n",
    "    relu_layer = Activation('relu')(normalize)\n",
    "\n",
    "    # skip connection\n",
    "    skipConnection0 = Conv1D(filters=n0, kernel_size=1, activation='linear')(relu_layer)\n",
    "    \n",
    "    ## D Block 01\n",
    "    Dtower_7 = Conv1D(n0, kernel_size=3, padding='same', strides=2, activation='relu')(relu_layer)\n",
    "    # parallel layer\n",
    "    Dtower_parallel_01 = Conv1D(n0, kernel_size=3, padding='same', strides=2, activation='relu')(relu_layer)\n",
    "    Dtower_8 = Conv1D(n0, kernel_size=3, padding='same', activation='relu')(Dtower_7)\n",
    "    D01_added = Add()([Dtower_8, Dtower_parallel_01])\n",
    "     \n",
    "    # skip connection\n",
    "    skipConnection1 = Conv1D(filters=n0, kernel_size=1, activation='linear')(D01_added)\n",
    "    \n",
    "    ## D Block 02\n",
    "    Dtower_5 = Conv1D(n0, kernel_size=3, padding='same', strides=2, activation='relu')(D01_added)\n",
    "    # parallel layer\n",
    "    Dtower_parallel_02 = Conv1D(n0, kernel_size=3, padding='same', strides=2, activation='relu')(D01_added)  \n",
    "    Dtower_6 = Conv1D(n0, kernel_size=3, padding='same', activation='relu')(Dtower_5)\n",
    "    D02_added = Add()([Dtower_6, Dtower_parallel_02])\n",
    "    \n",
    "    # skip connection\n",
    "    skipConnection2 = Conv1D(filters=n0, kernel_size=1, activation='linear')(D02_added)\n",
    "    \n",
    "    ## D Block 03\n",
    "    Dtower_3 = Conv1D(n0, kernel_size=3, padding='same', strides=2, activation='relu')(D02_added)\n",
    "    # parallel layer\n",
    "    Dtower_parallel_03 = Conv1D(n0, kernel_size=3, padding='same', strides=2, activation='relu')(D02_added)  \n",
    "    Dtower_4 = Conv1D(n0, kernel_size=3, padding='same', activation='relu')(Dtower_3)\n",
    "    D03_added = Add()([Dtower_4, Dtower_parallel_03])\n",
    "\n",
    "    ## U Block 03 \n",
    "    tower_1 = Conv1DTranspose(n0, kernel_size=3, padding='same', strides=2, activation='relu')(D03_added)\n",
    "    # parallel layer\n",
    "    tower_parallel_03 = Conv1DTranspose(n0, kernel_size=3, padding='same', strides=2, activation='relu')(D03_added)\n",
    "    tower_2 = Conv1D(n0, kernel_size=3, padding='same', activation='relu')(tower_1)\n",
    "    U01_added = Add()([tower_2, tower_parallel_03, skipConnection2])\n",
    "\n",
    "    ## U Block 02\n",
    "    tower_3 = Conv1DTranspose(n0, kernel_size=3, padding='same', strides=2, activation='relu')(U01_added)\n",
    "    # parallel layer\n",
    "    tower_parallel_02 = Conv1DTranspose(n0, kernel_size=3, padding='same', strides=2, activation='relu')(U01_added) \n",
    "    tower_4 = Conv1D(n0, kernel_size=3, padding='same', activation='relu')(tower_3)\n",
    "    U02_added = Add()([tower_4, tower_parallel_02, skipConnection1])\n",
    "    \n",
    "    ## U Block 01\n",
    "    tower_5 = Conv1DTranspose(n0, kernel_size=3, padding='same', strides=2, activation='relu')(U02_added)\n",
    "    # parallel layer\n",
    "    tower_parallel_01 = Conv1DTranspose(n0, kernel_size=3, padding='same', strides=2, activation='relu')(U02_added)  \n",
    "    tower_6 = Conv1D(n0, kernel_size=3, padding='same', activation='relu')(tower_5)\n",
    "    U03_added = Add()([tower_6, tower_parallel_01, skipConnection0])\n",
    "    \n",
    "    # output layer\n",
    "    output_layer = Conv1D(2, kernel_size=3, padding='same', activation='linear')(U03_added)\n",
    "    flat = Flatten()(output_layer)\n",
    "    output = Dense(2, activation='linear')(flat)\n",
    "    \n",
    "    model = tf.keras.Model(input_shape, output)\n",
    "    plot_model(model, to_file=img_path, show_layer_names=True, show_layer_activations=True)\n",
    "    \n",
    "    return model"
   ]
  },
  {
   "cell_type": "code",
   "execution_count": 6,
   "metadata": {},
   "outputs": [
    {
     "name": "stdout",
     "output_type": "stream",
     "text": [
      "Model: \"model\"\n",
      "__________________________________________________________________________________________________\n",
      " Layer (type)                   Output Shape         Param #     Connected to                     \n",
      "==================================================================================================\n",
      " input_1 (InputLayer)           [(None, 128, 1)]     0           []                               \n",
      "                                                                                                  \n",
      " batch_normalization (BatchNorm  (None, 128, 1)      4           ['input_1[0][0]']                \n",
      " alization)                                                                                       \n",
      "                                                                                                  \n",
      " activation (Activation)        (None, 128, 1)       0           ['batch_normalization[0][0]']    \n",
      "                                                                                                  \n",
      " conv1d_1 (Conv1D)              (None, 64, 32)       128         ['activation[0][0]']             \n",
      "                                                                                                  \n",
      " conv1d_3 (Conv1D)              (None, 64, 32)       3104        ['conv1d_1[0][0]']               \n",
      "                                                                                                  \n",
      " conv1d_2 (Conv1D)              (None, 64, 32)       128         ['activation[0][0]']             \n",
      "                                                                                                  \n",
      " add (Add)                      (None, 64, 32)       0           ['conv1d_3[0][0]',               \n",
      "                                                                  'conv1d_2[0][0]']               \n",
      "                                                                                                  \n",
      " conv1d_5 (Conv1D)              (None, 32, 32)       3104        ['add[0][0]']                    \n",
      "                                                                                                  \n",
      " conv1d_7 (Conv1D)              (None, 32, 32)       3104        ['conv1d_5[0][0]']               \n",
      "                                                                                                  \n",
      " conv1d_6 (Conv1D)              (None, 32, 32)       3104        ['add[0][0]']                    \n",
      "                                                                                                  \n",
      " add_1 (Add)                    (None, 32, 32)       0           ['conv1d_7[0][0]',               \n",
      "                                                                  'conv1d_6[0][0]']               \n",
      "                                                                                                  \n",
      " conv1d_9 (Conv1D)              (None, 16, 32)       3104        ['add_1[0][0]']                  \n",
      "                                                                                                  \n",
      " conv1d_11 (Conv1D)             (None, 16, 32)       3104        ['conv1d_9[0][0]']               \n",
      "                                                                                                  \n",
      " conv1d_10 (Conv1D)             (None, 16, 32)       3104        ['add_1[0][0]']                  \n",
      "                                                                                                  \n",
      " add_2 (Add)                    (None, 16, 32)       0           ['conv1d_11[0][0]',              \n",
      "                                                                  'conv1d_10[0][0]']              \n",
      "                                                                                                  \n",
      " conv1d_transpose (Conv1DTransp  (None, 32, 32)      3104        ['add_2[0][0]']                  \n",
      " ose)                                                                                             \n",
      "                                                                                                  \n",
      " conv1d_12 (Conv1D)             (None, 32, 32)       3104        ['conv1d_transpose[0][0]']       \n",
      "                                                                                                  \n",
      " conv1d_transpose_1 (Conv1DTran  (None, 32, 32)      3104        ['add_2[0][0]']                  \n",
      " spose)                                                                                           \n",
      "                                                                                                  \n",
      " conv1d_8 (Conv1D)              (None, 32, 32)       1056        ['add_1[0][0]']                  \n",
      "                                                                                                  \n",
      " add_3 (Add)                    (None, 32, 32)       0           ['conv1d_12[0][0]',              \n",
      "                                                                  'conv1d_transpose_1[0][0]',     \n",
      "                                                                  'conv1d_8[0][0]']               \n",
      "                                                                                                  \n",
      " conv1d_transpose_2 (Conv1DTran  (None, 64, 32)      3104        ['add_3[0][0]']                  \n",
      " spose)                                                                                           \n",
      "                                                                                                  \n",
      " conv1d_13 (Conv1D)             (None, 64, 32)       3104        ['conv1d_transpose_2[0][0]']     \n",
      "                                                                                                  \n",
      " conv1d_transpose_3 (Conv1DTran  (None, 64, 32)      3104        ['add_3[0][0]']                  \n",
      " spose)                                                                                           \n",
      "                                                                                                  \n",
      " conv1d_4 (Conv1D)              (None, 64, 32)       1056        ['add[0][0]']                    \n",
      "                                                                                                  \n",
      " add_4 (Add)                    (None, 64, 32)       0           ['conv1d_13[0][0]',              \n",
      "                                                                  'conv1d_transpose_3[0][0]',     \n",
      "                                                                  'conv1d_4[0][0]']               \n",
      "                                                                                                  \n",
      " conv1d_transpose_4 (Conv1DTran  (None, 128, 32)     3104        ['add_4[0][0]']                  \n",
      " spose)                                                                                           \n",
      "                                                                                                  \n",
      " conv1d_14 (Conv1D)             (None, 128, 32)      3104        ['conv1d_transpose_4[0][0]']     \n",
      "                                                                                                  \n",
      " conv1d_transpose_5 (Conv1DTran  (None, 128, 32)     3104        ['add_4[0][0]']                  \n",
      " spose)                                                                                           \n",
      "                                                                                                  \n",
      " conv1d (Conv1D)                (None, 128, 32)      64          ['activation[0][0]']             \n",
      "                                                                                                  \n",
      " add_5 (Add)                    (None, 128, 32)      0           ['conv1d_14[0][0]',              \n",
      "                                                                  'conv1d_transpose_5[0][0]',     \n",
      "                                                                  'conv1d[0][0]']                 \n",
      "                                                                                                  \n",
      " conv1d_15 (Conv1D)             (None, 128, 2)       194         ['add_5[0][0]']                  \n",
      "                                                                                                  \n",
      " flatten (Flatten)              (None, 256)          0           ['conv1d_15[0][0]']              \n",
      "                                                                                                  \n",
      " dense (Dense)                  (None, 2)            514         ['flatten[0][0]']                \n",
      "                                                                                                  \n",
      "==================================================================================================\n",
      "Total params: 52,808\n",
      "Trainable params: 52,806\n",
      "Non-trainable params: 2\n",
      "__________________________________________________________________________________________________\n"
     ]
    }
   ],
   "source": [
    "model = create_convnet(128, 32)\n",
    "model.summary()"
   ]
  },
  {
   "cell_type": "code",
   "execution_count": 13,
   "metadata": {},
   "outputs": [
    {
     "data": {
      "text/plain": [
       "40000.0"
      ]
     },
     "execution_count": 13,
     "metadata": {},
     "output_type": "execute_result"
    }
   ],
   "source": [
    "400000/10"
   ]
  },
  {
   "cell_type": "code",
   "execution_count": 14,
   "metadata": {},
   "outputs": [],
   "source": [
    "## Transmitter parameters:\n",
    "paramTx = parameters()\n",
    "paramTx.M = 16                 # order of the modulation format\n",
    "paramTx.Rs = 32e9              # symbol rate [baud]\n",
    "paramTx.SpS = 4                # samples per symbol\n",
    "paramTx.Nbits = 40000         # total number of bits per polarization\n",
    "paramTx.pulse = \"rrc\"          # pulse shaping filter\n",
    "paramTx.Ntaps = 1024           # number of pulse shaping filter coefficients\n",
    "paramTx.alphaRRC = 0.05        # RRC rolloff\n",
    "paramTx.Pch_dBm = 0            # power of the optical signal [dBm]\n",
    "paramTx.Nch = 1                # number of WDM channels\n",
    "paramTx.Fc = 193.1e12          # central frequency of the optical spectrum\n",
    "paramTx.freqSpac = 37.5e9      # WDM grid spacing\n",
    "\n",
    "## Optical channel parameters:\n",
    "Ltotal = 100       # total link distance [km]\n",
    "alpha = 0        # fiber loss parameter [dB/km]\n",
    "D = 16           # fiber dispersion parameter [ps/nm/km]\n",
    "Fc = paramTx.Fc  # central optical frequency of the WDM spectrum [Hz]\n",
    "\n",
    "## Receiver parameters:\n",
    "\n",
    "# local oscillator (LO)\n",
    "FO = paramTx.Rs/2   # frequency offset\n",
    "lw = 0*200e3        # linewidth\n",
    "ϕ_lo = 0            # initial phase in rad\n",
    "# Plo_dBm = 11        # power in dBm outlier\n",
    "\n",
    "# ADC sampling rate\n",
    "paramADC = parameters()\n",
    "paramADC.Rs = paramTx.Rs\n",
    "paramADC.SpS_in = paramTx.SpS\n",
    "paramADC.SpS_out = 4\n",
    "\n",
    "## General simulation parameters:\n",
    "chIndex = 0  # index of the channel to be demodulated\n",
    "plotPSD = True\n",
    "Fs = paramTx.Rs * paramTx.SpS  # simulation sampling rate\n",
    "\n",
    "# photodiode parameters\n",
    "paramPD = parameters()\n",
    "paramPD.B  = 1.1*paramTx.Rs\n",
    "paramPD.Fs = Fs\n",
    "Ts = 1 / Fs"
   ]
  },
  {
   "cell_type": "code",
   "execution_count": 15,
   "metadata": {},
   "outputs": [
    {
     "data": {
      "application/vnd.jupyter.widget-view+json": {
       "model_id": "97c213b191d34efc94ec1e8fc86493b1",
       "version_major": 2,
       "version_minor": 0
      },
      "text/plain": [
       "  0%|          | 0/10 [00:00<?, ?it/s]"
      ]
     },
     "metadata": {},
     "output_type": "display_data"
    },
    {
     "data": {
      "application/vnd.jupyter.widget-view+json": {
       "model_id": "06dac75101f24a479528b59deea9cebd",
       "version_major": 2,
       "version_minor": 0
      },
      "text/plain": [
       "  0%|          | 0/1 [00:00<?, ?it/s]"
      ]
     },
     "metadata": {},
     "output_type": "display_data"
    },
    {
     "name": "stdout",
     "output_type": "stream",
     "text": [
      "CSPR = 6.00 dB\n"
     ]
    },
    {
     "data": {
      "application/vnd.jupyter.widget-view+json": {
       "model_id": "7488ddeb4df544ec8c26b9ff2be04c69",
       "version_major": 2,
       "version_minor": 0
      },
      "text/plain": [
       "  0%|          | 0/1 [00:00<?, ?it/s]"
      ]
     },
     "metadata": {},
     "output_type": "display_data"
    },
    {
     "name": "stdout",
     "output_type": "stream",
     "text": [
      "CSPR = 7.00 dB\n"
     ]
    },
    {
     "data": {
      "application/vnd.jupyter.widget-view+json": {
       "model_id": "a8aacf32d2d8412d8002f14a9272cdf8",
       "version_major": 2,
       "version_minor": 0
      },
      "text/plain": [
       "  0%|          | 0/1 [00:00<?, ?it/s]"
      ]
     },
     "metadata": {},
     "output_type": "display_data"
    },
    {
     "name": "stdout",
     "output_type": "stream",
     "text": [
      "CSPR = 8.00 dB\n"
     ]
    },
    {
     "data": {
      "application/vnd.jupyter.widget-view+json": {
       "model_id": "0b6057aedbb54fa284bbb58f270768ee",
       "version_major": 2,
       "version_minor": 0
      },
      "text/plain": [
       "  0%|          | 0/1 [00:00<?, ?it/s]"
      ]
     },
     "metadata": {},
     "output_type": "display_data"
    },
    {
     "name": "stdout",
     "output_type": "stream",
     "text": [
      "CSPR = 9.00 dB\n"
     ]
    },
    {
     "data": {
      "application/vnd.jupyter.widget-view+json": {
       "model_id": "b69f5c7ae4c342d2bb3a62d67a484683",
       "version_major": 2,
       "version_minor": 0
      },
      "text/plain": [
       "  0%|          | 0/1 [00:00<?, ?it/s]"
      ]
     },
     "metadata": {},
     "output_type": "display_data"
    },
    {
     "name": "stdout",
     "output_type": "stream",
     "text": [
      "CSPR = 10.00 dB\n"
     ]
    },
    {
     "data": {
      "application/vnd.jupyter.widget-view+json": {
       "model_id": "ae3568ece7eb4f9383a654009fbf3cdf",
       "version_major": 2,
       "version_minor": 0
      },
      "text/plain": [
       "  0%|          | 0/1 [00:00<?, ?it/s]"
      ]
     },
     "metadata": {},
     "output_type": "display_data"
    },
    {
     "name": "stdout",
     "output_type": "stream",
     "text": [
      "CSPR = 11.00 dB\n"
     ]
    },
    {
     "data": {
      "application/vnd.jupyter.widget-view+json": {
       "model_id": "ceba25613a7c41eca6a5aa7376690cff",
       "version_major": 2,
       "version_minor": 0
      },
      "text/plain": [
       "  0%|          | 0/1 [00:00<?, ?it/s]"
      ]
     },
     "metadata": {},
     "output_type": "display_data"
    },
    {
     "name": "stdout",
     "output_type": "stream",
     "text": [
      "CSPR = 12.00 dB\n"
     ]
    },
    {
     "data": {
      "application/vnd.jupyter.widget-view+json": {
       "model_id": "6edf6f9e3f474916b4e5bb81db5aabec",
       "version_major": 2,
       "version_minor": 0
      },
      "text/plain": [
       "  0%|          | 0/1 [00:00<?, ?it/s]"
      ]
     },
     "metadata": {},
     "output_type": "display_data"
    },
    {
     "name": "stdout",
     "output_type": "stream",
     "text": [
      "CSPR = 13.00 dB\n"
     ]
    },
    {
     "data": {
      "application/vnd.jupyter.widget-view+json": {
       "model_id": "081f09d9770a4849b90220b2fb9e0545",
       "version_major": 2,
       "version_minor": 0
      },
      "text/plain": [
       "  0%|          | 0/1 [00:00<?, ?it/s]"
      ]
     },
     "metadata": {},
     "output_type": "display_data"
    },
    {
     "name": "stdout",
     "output_type": "stream",
     "text": [
      "CSPR = 14.00 dB\n"
     ]
    },
    {
     "data": {
      "application/vnd.jupyter.widget-view+json": {
       "model_id": "bb1ee032e1874aea9809e5b769878a58",
       "version_major": 2,
       "version_minor": 0
      },
      "text/plain": [
       "  0%|          | 0/1 [00:00<?, ?it/s]"
      ]
     },
     "metadata": {},
     "output_type": "display_data"
    },
    {
     "name": "stdout",
     "output_type": "stream",
     "text": [
      "CSPR = 15.00 dB\n"
     ]
    }
   ],
   "source": [
    "path = 'C:/Users/optic/Documents/PIVIC-PIBIC-Comunicacoes-Opticas/models/CONV_models/'\n",
    "N = 128 # number of input amplitude samples to the NN\n",
    "n0 = 32\n",
    "\n",
    "y_train_list = []\n",
    "X_train_list = []\n",
    "\n",
    "loPower = np.arange(6,16,1)\n",
    "\n",
    "for indPower, Plo_dBm in enumerate(tqdm(loPower)):\n",
    "\n",
    "    # generate optical signal signal\n",
    "    sigTx, symbTx_, paramTx = simpleWDMTx(paramTx)\n",
    "\n",
    "    # simulate linear signal propagation\n",
    "    sigCh = linFiberCh(sigTx, Ltotal, alpha, D, Fc, Fs)\n",
    "\n",
    "    symbTx = symbTx_[:, :, chIndex]\n",
    "    Plo = 10 ** (Plo_dBm / 10) * 1e-3  # power in W\n",
    "\n",
    "    # generate LO field\n",
    "    π = np.pi\n",
    "    t = np.arange(0, len(sigCh))*Ts\n",
    "    ϕ_pn_lo = phaseNoise(lw, len(sigCh), Ts)\n",
    "\n",
    "    sigLO = np.sqrt(Plo) * np.exp(-1j * (2 * π * FO * t + ϕ_lo + ϕ_pn_lo))\n",
    "\n",
    "    # Add LO to the received signal\n",
    "    sigRx = np.sqrt(Plo) + sigCh* np.exp(1j * (2 * π * FO * t + ϕ_lo + ϕ_pn_lo))\n",
    "    sfm   = sigRx.copy()\n",
    "\n",
    "    print('CSPR = %.2f dB'%(10*np.log10(signal_power(sigLO)/signal_power(sigCh))))\n",
    "\n",
    "    # simulate ideal direct-detection optical receiver\n",
    "    Ipd = photodiode(sigRx, paramPD)\n",
    "    Amp = np.sqrt(Ipd.real)\n",
    "    Amp = resample(Amp, paramADC).real\n",
    "\n",
    "    # resampling to ADC sampling rate\n",
    "    sigCh = resample(sigCh, paramADC)\n",
    "    sfm = resample(sfm, paramADC)\n",
    "    newFs = paramADC.SpS_out*paramTx.Rs\n",
    "\n",
    "    sfm = sfm/np.sqrt(signal_power(sfm))\n",
    "    \n",
    "    # Neural network training\n",
    "\n",
    "    #sigPhase = np.angle(sfm) # get signal phase samples (labels) (L,)\n",
    "    sigAmp = np.pad(Amp, (int(N/2), int(N/2)), 'constant') # get signal amplitude samples (L,)\n",
    "\n",
    "    # create set of input features\n",
    "    X_train = np.zeros((len(sfm), N)) #(L,N)\n",
    "\n",
    "    for indPhase in range(len(sfm)):\n",
    "        X_train[indPhase] = sigAmp[indPhase:N+indPhase]\n",
    "\n",
    "    # create set of phase labels\n",
    "    y_train = np.array([sfm.real, sfm.imag]).T\n",
    "    \n",
    "    y_train_list.append(y_train)\n",
    "    X_train_list.append(X_train)\n",
    "\n",
    "y_train_final = np.concatenate(y_train_list)\n",
    "X_train_final = np.concatenate(X_train_list)"
   ]
  },
  {
   "cell_type": "code",
   "execution_count": 16,
   "metadata": {},
   "outputs": [
    {
     "name": "stdout",
     "output_type": "stream",
     "text": [
      "(400000, 128) (400000, 2)\n"
     ]
    }
   ],
   "source": [
    "print(X_train_final.shape, y_train_final.shape)"
   ]
  },
  {
   "cell_type": "code",
   "execution_count": 17,
   "metadata": {},
   "outputs": [],
   "source": [
    "permuted_X_train, permuted_y_train = permutate_input_output(X_train, y_train)"
   ]
  },
  {
   "cell_type": "code",
   "execution_count": null,
   "metadata": {},
   "outputs": [],
   "source": [
    "# define neural network model\n",
    "stop = EarlyStopping(monitor='val_loss', patience=5)\n",
    "model = create_convnet(N, n0)\n",
    "model.compile(optimizer=tf.keras.optimizers.Adam(learning_rate=0.001), loss='mse')\n",
    "model.fit(permuted_X_train, permuted_y_train, epochs=200, callbacks=[stop], validation_split=0.3, batch_size=256)\n",
    "# model.summary()\n",
    "\n",
    "model.save(path+'testModel_SpS_'+str(paramTx.SpS)+'_CSPR_'+str(Plo_dBm)+'dB_DataTrain', save_format='h5')"
   ]
  }
 ],
 "metadata": {
  "kernelspec": {
   "display_name": "Python 3",
   "language": "python",
   "name": "python3"
  },
  "language_info": {
   "codemirror_mode": {
    "name": "ipython",
    "version": 3
   },
   "file_extension": ".py",
   "mimetype": "text/x-python",
   "name": "python",
   "nbconvert_exporter": "python",
   "pygments_lexer": "ipython3",
   "version": "3.9.13"
  },
  "orig_nbformat": 4
 },
 "nbformat": 4,
 "nbformat_minor": 2
}
