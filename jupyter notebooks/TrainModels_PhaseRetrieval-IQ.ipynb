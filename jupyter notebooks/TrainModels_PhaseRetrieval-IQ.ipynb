{
 "cells": [
  {
   "cell_type": "code",
   "execution_count": 3,
   "metadata": {},
   "outputs": [],
   "source": [
    "import tensorflow as tf\n",
    "from tensorflow.keras.layers import Dense, BatchNormalization, Conv1DTranspose, Conv1D, Flatten, Add, Activation\n",
    "from tensorflow.keras.models import Sequential\n",
    "from tensorflow.keras.callbacks import EarlyStopping\n",
    "from tensorflow.keras import backend as K"
   ]
  },
  {
   "cell_type": "code",
   "execution_count": 2,
   "metadata": {},
   "outputs": [],
   "source": [
    "import matplotlib.pyplot as plt\n",
    "import numpy as np\n",
    "\n",
    "from commpy.modulation import QAMModem\n",
    "\n",
    "from optic.dsp import pulseShape, firFilter, decimate, symbolSync, resample\n",
    "from optic.models import phaseNoise, linFiberCh, KramersKronigRx, photodiode\n",
    "\n",
    "from optic.tx import simpleWDMTx\n",
    "from optic.core import parameters\n",
    "from optic.equalization import edc, mimoAdaptEqualizer\n",
    "from optic.carrierRecovery import cpr\n",
    "from optic.metrics import fastBERcalc, monteCarloGMI, monteCarloMI, signal_power\n",
    "from optic.plot import pconst\n",
    "\n",
    "import scipy.constants as const\n",
    "from tqdm.notebook import tqdm\n",
    "import sys"
   ]
  },
  {
   "cell_type": "code",
   "execution_count": 10,
   "metadata": {},
   "outputs": [],
   "source": [
    "from pathlib import Path\n",
    "import sys\n",
    "sys.path.append(str(Path(r'C:/Users/Silas/Documents/PIVIC-Comunicacoes-Opticas/models/deep_tcn_tensorflow/model').parent.parent))"
   ]
  },
  {
   "cell_type": "code",
   "execution_count": 11,
   "metadata": {},
   "outputs": [],
   "source": [
    "from models.deep_tcn_tensorflow.model import DeepTCN\n",
    "from models.deep_tcn_tensorflow.plots import plot"
   ]
  },
  {
   "cell_type": "code",
   "execution_count": 12,
   "metadata": {},
   "outputs": [],
   "source": [
    "def loadArray(file_path):\n",
    "    with open(file_path, 'rb') as stream:\n",
    "        data = np.load(stream)\n",
    "    return data"
   ]
  },
  {
   "cell_type": "code",
   "execution_count": 13,
   "metadata": {},
   "outputs": [],
   "source": [
    "def permutate_input_output(input_matrix, output_matrix):\n",
    "    \n",
    "    num_rows, num_cols = input_matrix.shape\n",
    "    # Cria uma matriz de permutação para trocar as linhas\n",
    "    permutation = np.random.permutation(num_rows)\n",
    "\n",
    "    # Aplica a permutação nas matrizes de entrada e saída\n",
    "    permuted_input_matrix = input_matrix[permutation]\n",
    "    permuted_output_matrix = output_matrix[permutation]\n",
    "\n",
    "    return permuted_input_matrix, permuted_output_matrix"
   ]
  },
  {
   "cell_type": "code",
   "execution_count": 1,
   "metadata": {},
   "outputs": [],
   "source": [
    "def shuffle_dataset(X_train, y_train):\n",
    "  \"\"\"\n",
    "  Embaralha os dados de treinamento X_train e y_train.\n",
    "\n",
    "  Args:\n",
    "    X_train: Conjunto de dados de treinamento.\n",
    "    y_train: Rótulos de treinamento.\n",
    "\n",
    "  Returns:\n",
    "    X_train, y_train: Conjunto de dados e rótulos embaralhados.\n",
    "  \"\"\"\n",
    "\n",
    "  # Obtém o número de amostras.\n",
    "  n_samples = X_train.shape[0]\n",
    "\n",
    "  # Cria uma lista de índices aleatórios.\n",
    "  shuffled_indices = np.random.permutation(n_samples)\n",
    "\n",
    "  # Embala os dados e os rótulos de acordo com os índices aleatórios.\n",
    "  X_train_shuffled = X_train[shuffled_indices]\n",
    "  y_train_shuffled = y_train[shuffled_indices]\n",
    "\n",
    "  return X_train_shuffled, y_train_shuffled"
   ]
  },
  {
   "cell_type": "code",
   "execution_count": 5,
   "metadata": {},
   "outputs": [],
   "source": [
    "def create_convnet(N, n0, img_path='convnet_image.png'):\n",
    "    \n",
    "    \"\"\" Esta função retorna o modelo da rede neural citada pelo artigo \n",
    "    \"Deep learning-based Phase Retrieval Scheme for Minimum-phase Signal Recovery\".\n",
    "    Alguns parâmetros podem ser fixos como:\n",
    "    \n",
    "    k = 3: tamanho do kernel das camadas convolucionais 1D dentro de um Bloco D/U\n",
    "    s: passo das camadas convolucionais 1D dentro de um bloco D/U, para este caso foi selecionado s = 2.\n",
    "    d: profundidade do modelo, ou seja, o número de blocos D e U, para este caso foi selecionado d = 3\n",
    "        \n",
    "    Args:\n",
    "        N (int): Número de amostras de amplitude do sinal.\n",
    "        n0 (int): Número de núcleos de camadas convolucionais 1D dentro de um bloco D/U\n",
    "        img_path (str, optional): Nome do arquivo de saída para o plot do modelo em .png. Defaults to 'convnet_image.png'.\n",
    "\n",
    "    Returns:\n",
    "        object: modelo da rede neural.\n",
    "    \"\"\"\n",
    "    \n",
    "    model = Sequential()   \n",
    "    input_shape = tf.keras.Input(shape=(N, 1))\n",
    "    \n",
    "    normalize = BatchNormalization()(input_shape)\n",
    "    relu_layer = Activation('relu')(normalize)\n",
    "\n",
    "    # skip connection\n",
    "    skipConnection0 = Conv1D(filters=n0, kernel_size=1, activation='linear')(relu_layer)\n",
    "    \n",
    "    ## D Block 01\n",
    "    Dtower_7 = Conv1D(n0, kernel_size=3, padding='same', strides=2, activation='relu')(relu_layer)\n",
    "    # parallel layer\n",
    "    Dtower_parallel_01 = Conv1D(n0, kernel_size=3, padding='same', strides=2, activation='relu')(relu_layer)\n",
    "    Dtower_8 = Conv1D(n0, kernel_size=3, padding='same', activation='relu')(Dtower_7)\n",
    "    D01_added = Add()([Dtower_8, Dtower_parallel_01])\n",
    "     \n",
    "    # skip connection\n",
    "    skipConnection1 = Conv1D(filters=n0, kernel_size=1, activation='linear')(D01_added)\n",
    "    \n",
    "    ## D Block 02\n",
    "    Dtower_5 = Conv1D(n0, kernel_size=3, padding='same', strides=2, activation='relu')(D01_added)\n",
    "    # parallel layer\n",
    "    Dtower_parallel_02 = Conv1D(n0, kernel_size=3, padding='same', strides=2, activation='relu')(D01_added)  \n",
    "    Dtower_6 = Conv1D(n0, kernel_size=3, padding='same', activation='relu')(Dtower_5)\n",
    "    D02_added = Add()([Dtower_6, Dtower_parallel_02])\n",
    "    \n",
    "    # skip connection\n",
    "    skipConnection2 = Conv1D(filters=n0, kernel_size=1, activation='linear')(D02_added)\n",
    "    \n",
    "    ## D Block 03\n",
    "    Dtower_3 = Conv1D(n0, kernel_size=3, padding='same', strides=2, activation='relu')(D02_added)\n",
    "    # parallel layer\n",
    "    Dtower_parallel_03 = Conv1D(n0, kernel_size=3, padding='same', strides=2, activation='relu')(D02_added)  \n",
    "    Dtower_4 = Conv1D(n0, kernel_size=3, padding='same', activation='relu')(Dtower_3)\n",
    "    D03_added = Add()([Dtower_4, Dtower_parallel_03])\n",
    "\n",
    "    ## U Block 03 \n",
    "    tower_1 = Conv1DTranspose(n0, kernel_size=3, padding='same', strides=2, activation='relu')(D03_added)\n",
    "    # parallel layer\n",
    "    tower_parallel_03 = Conv1DTranspose(n0, kernel_size=3, padding='same', strides=2, activation='relu')(D03_added)\n",
    "    tower_2 = Conv1D(n0, kernel_size=3, padding='same', activation='relu')(tower_1)\n",
    "    U01_added = Add()([tower_2, tower_parallel_03, skipConnection2])\n",
    "\n",
    "    ## U Block 02\n",
    "    tower_3 = Conv1DTranspose(n0, kernel_size=3, padding='same', strides=2, activation='relu')(U01_added)\n",
    "    # parallel layer\n",
    "    tower_parallel_02 = Conv1DTranspose(n0, kernel_size=3, padding='same', strides=2, activation='relu')(U01_added) \n",
    "    tower_4 = Conv1D(n0, kernel_size=3, padding='same', activation='relu')(tower_3)\n",
    "    U02_added = Add()([tower_4, tower_parallel_02, skipConnection1])\n",
    "    \n",
    "    ## U Block 01\n",
    "    tower_5 = Conv1DTranspose(n0, kernel_size=3, padding='same', strides=2, activation='relu')(U02_added)\n",
    "    # parallel layer\n",
    "    tower_parallel_01 = Conv1DTranspose(n0, kernel_size=3, padding='same', strides=2, activation='relu')(U02_added)  \n",
    "    tower_6 = Conv1D(n0, kernel_size=3, padding='same', activation='relu')(tower_5)\n",
    "    U03_added = Add()([tower_6, tower_parallel_01, skipConnection0])\n",
    "    \n",
    "    # output layer\n",
    "    output_layer = Conv1D(2, kernel_size=3, padding='same', activation='linear')(U03_added)\n",
    "    flat = Flatten()(output_layer)\n",
    "    output = Dense(2, activation='linear')(flat)\n",
    "    \n",
    "    model = tf.keras.Model(input_shape, output)\n",
    "    #plot_model(model, to_file=img_path, show_layer_names=True, show_layer_activations=True)\n",
    "    \n",
    "    return model"
   ]
  },
  {
   "cell_type": "code",
   "execution_count": 7,
   "metadata": {},
   "outputs": [
    {
     "name": "stdout",
     "output_type": "stream",
     "text": [
      "Model: \"model\"\n",
      "__________________________________________________________________________________________________\n",
      " Layer (type)                   Output Shape         Param #     Connected to                     \n",
      "==================================================================================================\n",
      " input_1 (InputLayer)           [(None, 128, 1)]     0           []                               \n",
      "                                                                                                  \n",
      " batch_normalization (BatchNorm  (None, 128, 1)      4           ['input_1[0][0]']                \n",
      " alization)                                                                                       \n",
      "                                                                                                  \n",
      " activation (Activation)        (None, 128, 1)       0           ['batch_normalization[0][0]']    \n",
      "                                                                                                  \n",
      " conv1d_1 (Conv1D)              (None, 64, 32)       128         ['activation[0][0]']             \n",
      "                                                                                                  \n",
      " conv1d_3 (Conv1D)              (None, 64, 32)       3104        ['conv1d_1[0][0]']               \n",
      "                                                                                                  \n",
      " conv1d_2 (Conv1D)              (None, 64, 32)       128         ['activation[0][0]']             \n",
      "                                                                                                  \n",
      " add (Add)                      (None, 64, 32)       0           ['conv1d_3[0][0]',               \n",
      "                                                                  'conv1d_2[0][0]']               \n",
      "                                                                                                  \n",
      " conv1d_5 (Conv1D)              (None, 32, 32)       3104        ['add[0][0]']                    \n",
      "                                                                                                  \n",
      " conv1d_7 (Conv1D)              (None, 32, 32)       3104        ['conv1d_5[0][0]']               \n",
      "                                                                                                  \n",
      " conv1d_6 (Conv1D)              (None, 32, 32)       3104        ['add[0][0]']                    \n",
      "                                                                                                  \n",
      " add_1 (Add)                    (None, 32, 32)       0           ['conv1d_7[0][0]',               \n",
      "                                                                  'conv1d_6[0][0]']               \n",
      "                                                                                                  \n",
      " conv1d_9 (Conv1D)              (None, 16, 32)       3104        ['add_1[0][0]']                  \n",
      "                                                                                                  \n",
      " conv1d_11 (Conv1D)             (None, 16, 32)       3104        ['conv1d_9[0][0]']               \n",
      "                                                                                                  \n",
      " conv1d_10 (Conv1D)             (None, 16, 32)       3104        ['add_1[0][0]']                  \n",
      "                                                                                                  \n",
      " add_2 (Add)                    (None, 16, 32)       0           ['conv1d_11[0][0]',              \n",
      "                                                                  'conv1d_10[0][0]']              \n",
      "                                                                                                  \n",
      " conv1d_transpose (Conv1DTransp  (None, 32, 32)      3104        ['add_2[0][0]']                  \n",
      " ose)                                                                                             \n",
      "                                                                                                  \n",
      " conv1d_12 (Conv1D)             (None, 32, 32)       3104        ['conv1d_transpose[0][0]']       \n",
      "                                                                                                  \n",
      " conv1d_transpose_1 (Conv1DTran  (None, 32, 32)      3104        ['add_2[0][0]']                  \n",
      " spose)                                                                                           \n",
      "                                                                                                  \n",
      " conv1d_8 (Conv1D)              (None, 32, 32)       1056        ['add_1[0][0]']                  \n",
      "                                                                                                  \n",
      " add_3 (Add)                    (None, 32, 32)       0           ['conv1d_12[0][0]',              \n",
      "                                                                  'conv1d_transpose_1[0][0]',     \n",
      "                                                                  'conv1d_8[0][0]']               \n",
      "                                                                                                  \n",
      " conv1d_transpose_2 (Conv1DTran  (None, 64, 32)      3104        ['add_3[0][0]']                  \n",
      " spose)                                                                                           \n",
      "                                                                                                  \n",
      " conv1d_13 (Conv1D)             (None, 64, 32)       3104        ['conv1d_transpose_2[0][0]']     \n",
      "                                                                                                  \n",
      " conv1d_transpose_3 (Conv1DTran  (None, 64, 32)      3104        ['add_3[0][0]']                  \n",
      " spose)                                                                                           \n",
      "                                                                                                  \n",
      " conv1d_4 (Conv1D)              (None, 64, 32)       1056        ['add[0][0]']                    \n",
      "                                                                                                  \n",
      " add_4 (Add)                    (None, 64, 32)       0           ['conv1d_13[0][0]',              \n",
      "                                                                  'conv1d_transpose_3[0][0]',     \n",
      "                                                                  'conv1d_4[0][0]']               \n",
      "                                                                                                  \n",
      " conv1d_transpose_4 (Conv1DTran  (None, 128, 32)     3104        ['add_4[0][0]']                  \n",
      " spose)                                                                                           \n",
      "                                                                                                  \n",
      " conv1d_14 (Conv1D)             (None, 128, 32)      3104        ['conv1d_transpose_4[0][0]']     \n",
      "                                                                                                  \n",
      " conv1d_transpose_5 (Conv1DTran  (None, 128, 32)     3104        ['add_4[0][0]']                  \n",
      " spose)                                                                                           \n",
      "                                                                                                  \n",
      " conv1d (Conv1D)                (None, 128, 32)      64          ['activation[0][0]']             \n",
      "                                                                                                  \n",
      " add_5 (Add)                    (None, 128, 32)      0           ['conv1d_14[0][0]',              \n",
      "                                                                  'conv1d_transpose_5[0][0]',     \n",
      "                                                                  'conv1d[0][0]']                 \n",
      "                                                                                                  \n",
      " conv1d_15 (Conv1D)             (None, 128, 2)       194         ['add_5[0][0]']                  \n",
      "                                                                                                  \n",
      " flatten (Flatten)              (None, 256)          0           ['conv1d_15[0][0]']              \n",
      "                                                                                                  \n",
      " dense (Dense)                  (None, 2)            514         ['flatten[0][0]']                \n",
      "                                                                                                  \n",
      "==================================================================================================\n",
      "Total params: 52,808\n",
      "Trainable params: 52,806\n",
      "Non-trainable params: 2\n",
      "__________________________________________________________________________________________________\n"
     ]
    }
   ],
   "source": [
    "model = create_convnet(128, 32)\n",
    "model.summary()"
   ]
  },
  {
   "cell_type": "code",
   "execution_count": 14,
   "metadata": {},
   "outputs": [],
   "source": [
    "## Transmitter parameters:\n",
    "paramTx = parameters()\n",
    "paramTx.M = 16                 # order of the modulation format\n",
    "paramTx.Rs = 32e9              # symbol rate [baud]\n",
    "paramTx.SpS = 4                # samples per symbol\n",
    "paramTx.Nbits = 40000          # total number of bits per polarization\n",
    "paramTx.pulse = \"rrc\"          # pulse shaping filter\n",
    "paramTx.Ntaps = 1024           # number of pulse shaping filter coefficients\n",
    "paramTx.alphaRRC = 0.05        # RRC rolloff\n",
    "paramTx.Pch_dBm = 0            # power of the optical signal [dBm]\n",
    "paramTx.Nch = 1                # number of WDM channels\n",
    "paramTx.Fc = 193.1e12          # central frequency of the optical spectrum\n",
    "paramTx.freqSpac = 37.5e9      # WDM grid spacing\n",
    "\n",
    "## Optical channel parameters:\n",
    "Ltotal = 100       # total link distance [km]\n",
    "alpha = 0        # fiber loss parameter [dB/km]\n",
    "D = 16           # fiber dispersion parameter [ps/nm/km]\n",
    "Fc = paramTx.Fc  # central optical frequency of the WDM spectrum [Hz]\n",
    "\n",
    "## Receiver parameters:\n",
    "\n",
    "# local oscillator (LO)\n",
    "FO = paramTx.Rs/2   # frequency offset\n",
    "lw = 0*200e3        # linewidth\n",
    "ϕ_lo = 0            # initial phase in rad\n",
    "# Plo_dBm = 11        # power in dBm outlier\n",
    "\n",
    "# ADC sampling rate\n",
    "paramADC = parameters()\n",
    "paramADC.Rs = paramTx.Rs\n",
    "paramADC.SpS_in = paramTx.SpS\n",
    "paramADC.SpS_out = 4\n",
    "\n",
    "## General simulation parameters:\n",
    "chIndex = 0  # index of the channel to be demodulated\n",
    "plotPSD = True\n",
    "Fs = paramTx.Rs * paramTx.SpS  # simulation sampling rate\n",
    "\n",
    "# photodiode parameters\n",
    "paramPD = parameters()\n",
    "paramPD.B  = 1.1*paramTx.Rs\n",
    "paramPD.Fs = Fs\n",
    "Ts = 1 / Fs"
   ]
  },
  {
   "cell_type": "code",
   "execution_count": 15,
   "metadata": {},
   "outputs": [
    {
     "data": {
      "application/vnd.jupyter.widget-view+json": {
       "model_id": "786e0450824f4a81931b58e6d3d6499f",
       "version_major": 2,
       "version_minor": 0
      },
      "text/plain": [
       "  0%|          | 0/10 [00:00<?, ?it/s]"
      ]
     },
     "metadata": {},
     "output_type": "display_data"
    },
    {
     "data": {
      "application/vnd.jupyter.widget-view+json": {
       "model_id": "ae2f24e77b5748a982ee6e6490c5e682",
       "version_major": 2,
       "version_minor": 0
      },
      "text/plain": [
       "  0%|          | 0/1 [00:00<?, ?it/s]"
      ]
     },
     "metadata": {},
     "output_type": "display_data"
    },
    {
     "name": "stdout",
     "output_type": "stream",
     "text": [
      "CSPR = 6.00 dB\n"
     ]
    },
    {
     "data": {
      "application/vnd.jupyter.widget-view+json": {
       "model_id": "807badde23df4f14b3c1c82070d766a7",
       "version_major": 2,
       "version_minor": 0
      },
      "text/plain": [
       "  0%|          | 0/1 [00:00<?, ?it/s]"
      ]
     },
     "metadata": {},
     "output_type": "display_data"
    },
    {
     "name": "stdout",
     "output_type": "stream",
     "text": [
      "CSPR = 7.00 dB\n"
     ]
    },
    {
     "data": {
      "application/vnd.jupyter.widget-view+json": {
       "model_id": "705c12217ca0414d90029702c2f290ff",
       "version_major": 2,
       "version_minor": 0
      },
      "text/plain": [
       "  0%|          | 0/1 [00:00<?, ?it/s]"
      ]
     },
     "metadata": {},
     "output_type": "display_data"
    },
    {
     "name": "stdout",
     "output_type": "stream",
     "text": [
      "CSPR = 8.00 dB\n"
     ]
    },
    {
     "data": {
      "application/vnd.jupyter.widget-view+json": {
       "model_id": "22adc8e445554773bb454aa90cb00b71",
       "version_major": 2,
       "version_minor": 0
      },
      "text/plain": [
       "  0%|          | 0/1 [00:00<?, ?it/s]"
      ]
     },
     "metadata": {},
     "output_type": "display_data"
    },
    {
     "name": "stdout",
     "output_type": "stream",
     "text": [
      "CSPR = 9.00 dB\n"
     ]
    },
    {
     "data": {
      "application/vnd.jupyter.widget-view+json": {
       "model_id": "3f4c99cac48944f9a09d3e406943d190",
       "version_major": 2,
       "version_minor": 0
      },
      "text/plain": [
       "  0%|          | 0/1 [00:00<?, ?it/s]"
      ]
     },
     "metadata": {},
     "output_type": "display_data"
    },
    {
     "name": "stdout",
     "output_type": "stream",
     "text": [
      "CSPR = 10.00 dB\n"
     ]
    },
    {
     "data": {
      "application/vnd.jupyter.widget-view+json": {
       "model_id": "0f827e9ae2fb4045ace4a646098b0d92",
       "version_major": 2,
       "version_minor": 0
      },
      "text/plain": [
       "  0%|          | 0/1 [00:00<?, ?it/s]"
      ]
     },
     "metadata": {},
     "output_type": "display_data"
    },
    {
     "name": "stdout",
     "output_type": "stream",
     "text": [
      "CSPR = 11.00 dB\n"
     ]
    },
    {
     "data": {
      "application/vnd.jupyter.widget-view+json": {
       "model_id": "f829c9deafaa4e5a9b6826998557c728",
       "version_major": 2,
       "version_minor": 0
      },
      "text/plain": [
       "  0%|          | 0/1 [00:00<?, ?it/s]"
      ]
     },
     "metadata": {},
     "output_type": "display_data"
    },
    {
     "name": "stdout",
     "output_type": "stream",
     "text": [
      "CSPR = 12.00 dB\n"
     ]
    },
    {
     "data": {
      "application/vnd.jupyter.widget-view+json": {
       "model_id": "bfd4510229ce4384a398696abc02cca5",
       "version_major": 2,
       "version_minor": 0
      },
      "text/plain": [
       "  0%|          | 0/1 [00:00<?, ?it/s]"
      ]
     },
     "metadata": {},
     "output_type": "display_data"
    },
    {
     "name": "stdout",
     "output_type": "stream",
     "text": [
      "CSPR = 13.00 dB\n"
     ]
    },
    {
     "data": {
      "application/vnd.jupyter.widget-view+json": {
       "model_id": "483bda8aad0041629af4e891f46a5cb7",
       "version_major": 2,
       "version_minor": 0
      },
      "text/plain": [
       "  0%|          | 0/1 [00:00<?, ?it/s]"
      ]
     },
     "metadata": {},
     "output_type": "display_data"
    },
    {
     "name": "stdout",
     "output_type": "stream",
     "text": [
      "CSPR = 14.00 dB\n"
     ]
    },
    {
     "data": {
      "application/vnd.jupyter.widget-view+json": {
       "model_id": "6b276957540048b2a6b5ab96d3b687d4",
       "version_major": 2,
       "version_minor": 0
      },
      "text/plain": [
       "  0%|          | 0/1 [00:00<?, ?it/s]"
      ]
     },
     "metadata": {},
     "output_type": "display_data"
    },
    {
     "name": "stdout",
     "output_type": "stream",
     "text": [
      "CSPR = 15.00 dB\n"
     ]
    }
   ],
   "source": [
    "N = 128 # number of input amplitude samples to the NN\n",
    "\n",
    "y_train_list = []\n",
    "X_train_list = []\n",
    "\n",
    "loPower = np.arange(6,16,1)\n",
    "\n",
    "for indPower, Plo_dBm in enumerate(tqdm(loPower)):\n",
    "\n",
    "    # generate optical signal signal\n",
    "    sigTx, symbTx_, paramTx = simpleWDMTx(paramTx)\n",
    "\n",
    "    # simulate linear signal propagation\n",
    "    sigCh = linFiberCh(sigTx, Ltotal, alpha, D, Fc, Fs)\n",
    "\n",
    "    symbTx = symbTx_[:, :, chIndex]\n",
    "    Plo = 10 ** (Plo_dBm / 10) * 1e-3  # power in W\n",
    "\n",
    "    # generate LO field\n",
    "    π = np.pi\n",
    "    t = np.arange(0, len(sigCh))*Ts\n",
    "    ϕ_pn_lo = phaseNoise(lw, len(sigCh), Ts)\n",
    "\n",
    "    sigLO = np.sqrt(Plo) * np.exp(-1j * (2 * π * FO * t + ϕ_lo + ϕ_pn_lo))\n",
    "\n",
    "    # Add LO to the received signal\n",
    "    sigRx = np.sqrt(Plo) + sigCh* np.exp(1j * (2 * π * FO * t + ϕ_lo + ϕ_pn_lo))\n",
    "    sfm   = sigRx.copy()\n",
    "\n",
    "    print('CSPR = %.2f dB'%(10*np.log10(signal_power(sigLO)/signal_power(sigCh))))\n",
    "\n",
    "    # simulate ideal direct-detection optical receiver\n",
    "    Ipd = photodiode(sigRx, paramPD)\n",
    "    Amp = np.sqrt(Ipd.real)\n",
    "    Amp = resample(Amp, paramADC).real\n",
    "\n",
    "    # resampling to ADC sampling rate\n",
    "    sigCh = resample(sigCh, paramADC)\n",
    "    sfm = resample(sfm, paramADC)\n",
    "    newFs = paramADC.SpS_out*paramTx.Rs\n",
    "\n",
    "    sfm = sfm/np.sqrt(signal_power(sfm))\n",
    "    \n",
    "    # Neural network training\n",
    "\n",
    "    #sigPhase = np.angle(sfm) # get signal phase samples (labels) (L,)\n",
    "    sigAmp = np.pad(Amp, (int(N/2), int(N/2)), 'constant') # get signal amplitude samples (L,)\n",
    "\n",
    "    # create set of input features\n",
    "    X_train = np.zeros((len(sfm), N)) #(L,N)\n",
    "\n",
    "    for indPhase in range(len(sfm)):\n",
    "        X_train[indPhase] = sigAmp[indPhase:N+indPhase]\n",
    "\n",
    "    # create set of phase labels\n",
    "    y_train = np.array([sfm.real, sfm.imag]).T\n",
    "    \n",
    "    y_train_list.append(y_train)\n",
    "    X_train_list.append(X_train)\n",
    "\n",
    "y_train_final = np.concatenate(y_train_list)\n",
    "X_train_final = np.concatenate(X_train_list)"
   ]
  },
  {
   "cell_type": "code",
   "execution_count": 8,
   "metadata": {},
   "outputs": [
    {
     "name": "stdout",
     "output_type": "stream",
     "text": [
      "(400000, 128) (400000, 2)\n"
     ]
    }
   ],
   "source": [
    "print(X_train_final.shape, y_train_final.shape)"
   ]
  },
  {
   "cell_type": "code",
   "execution_count": 16,
   "metadata": {},
   "outputs": [],
   "source": [
    "permuted_X_train, permuted_y_train = permutate_input_output(X_train, y_train)"
   ]
  },
  {
   "attachments": {},
   "cell_type": "markdown",
   "metadata": {},
   "source": [
    "### MLP Model"
   ]
  },
  {
   "cell_type": "code",
   "execution_count": 17,
   "metadata": {},
   "outputs": [],
   "source": [
    "# define neural network model\n",
    "stop = EarlyStopping(monitor='val_loss', patience=5)\n",
    "model = Sequential()\n",
    "model.add(BatchNormalization())\n",
    "model.add(Dense(4, input_shape=(N,)))\n",
    "model.add(Dense(8, activation='relu'))\n",
    "model.add(Dense(4, activation='relu'))\n",
    "model.add(Dense(2))"
   ]
  },
  {
   "cell_type": "code",
   "execution_count": 19,
   "metadata": {},
   "outputs": [
    {
     "name": "stdout",
     "output_type": "stream",
     "text": [
      "Epoch 1/2\n",
      "219/219 [==============================] - 1s 2ms/step - loss: 0.0031 - val_loss: 0.0022\n",
      "Epoch 2/2\n",
      "219/219 [==============================] - 0s 1ms/step - loss: 0.0011 - val_loss: 7.1571e-04\n"
     ]
    }
   ],
   "source": [
    "model.compile(optimizer='adam', loss='mse')\n",
    "model.fit(permuted_X_train, permuted_y_train, epochs=2, callbacks=[stop], validation_split=0.3, batch_size=128)\n",
    "model.save('C:/Users/Silas/Documents/PIVIC-Comunicacoes-Opticas/models/deep_tcn_tensorflow/'+'testModel_SpS_'+str(paramTx.SpS)+'_CSPR_DataPermuted', save_format='h5')"
   ]
  },
  {
   "attachments": {},
   "cell_type": "markdown",
   "metadata": {},
   "source": [
    "### DeepTCN Model"
   ]
  },
  {
   "cell_type": "code",
   "execution_count": 21,
   "metadata": {},
   "outputs": [],
   "source": [
    "modelDeepTCN = DeepTCN(\n",
    "    y=permuted_y_train,\n",
    "    x=permuted_X_train,\n",
    "    forecast_period=100,\n",
    "    lookback_period=100,\n",
    "    quantiles=[0.001, 0.1, 0.5, 0.9, 0.999],\n",
    "    filters=32,\n",
    "    kernel_size=3,\n",
    "    dilation_rates=[1],\n",
    "    loss='mse'\n",
    ")"
   ]
  },
  {
   "cell_type": "code",
   "execution_count": null,
   "metadata": {},
   "outputs": [],
   "source": [
    "path = 'C:/Users/optic/Documents/PIVIC-PIBIC-Comunicacoes-Opticas/models/TCN_models/'\n",
    "\n",
    "modelDeepTCN.fit(\n",
    "    learning_rate=0.001,\n",
    "    batch_size=256,\n",
    "    epochs=200,\n",
    "    verbose=1,\n",
    "    validation_split=0.3\n",
    ")\n",
    "\n",
    "modelDeepTCN.save(path+'testModel_SpS_'+str(paramTx.SpS)+'_CSPR_DataPermuted', save_format='h5')"
   ]
  },
  {
   "attachments": {},
   "cell_type": "markdown",
   "metadata": {},
   "source": [
    "### ConvNet Model"
   ]
  },
  {
   "cell_type": "code",
   "execution_count": 11,
   "metadata": {},
   "outputs": [
    {
     "name": "stdout",
     "output_type": "stream",
     "text": [
      "Epoch 1/200\n",
      "110/110 [==============================] - 23s 172ms/step - loss: 0.0269 - val_loss: 0.0297\n",
      "Epoch 2/200\n",
      "110/110 [==============================] - 18s 168ms/step - loss: 0.0043 - val_loss: 0.0124\n",
      "Epoch 3/200\n",
      "110/110 [==============================] - 18s 161ms/step - loss: 0.0030 - val_loss: 0.0107\n",
      "Epoch 4/200\n",
      "110/110 [==============================] - 17s 157ms/step - loss: 0.0024 - val_loss: 0.0055\n",
      "Epoch 5/200\n",
      "110/110 [==============================] - 17s 158ms/step - loss: 0.0021 - val_loss: 0.0057\n",
      "Epoch 6/200\n",
      "110/110 [==============================] - 18s 159ms/step - loss: 0.0019 - val_loss: 0.0024\n",
      "Epoch 7/200\n",
      "110/110 [==============================] - 17s 159ms/step - loss: 0.0017 - val_loss: 0.0016\n",
      "Epoch 8/200\n",
      "110/110 [==============================] - 17s 159ms/step - loss: 0.0016 - val_loss: 0.0015\n",
      "Epoch 9/200\n",
      "110/110 [==============================] - 17s 158ms/step - loss: 0.0015 - val_loss: 0.0014\n",
      "Epoch 10/200\n",
      "110/110 [==============================] - 17s 159ms/step - loss: 0.0014 - val_loss: 0.0014\n",
      "Epoch 11/200\n",
      "110/110 [==============================] - 18s 160ms/step - loss: 0.0013 - val_loss: 0.0014\n",
      "Epoch 12/200\n",
      "110/110 [==============================] - 18s 160ms/step - loss: 0.0012 - val_loss: 0.0012\n",
      "Epoch 13/200\n",
      "110/110 [==============================] - 18s 160ms/step - loss: 0.0011 - val_loss: 0.0016\n",
      "Epoch 14/200\n",
      "110/110 [==============================] - 18s 161ms/step - loss: 0.0011 - val_loss: 0.0010\n",
      "Epoch 15/200\n",
      "110/110 [==============================] - 18s 161ms/step - loss: 0.0010 - val_loss: 0.0010\n",
      "Epoch 16/200\n",
      "110/110 [==============================] - 17s 159ms/step - loss: 9.2304e-04 - val_loss: 0.0011\n",
      "Epoch 17/200\n",
      "110/110 [==============================] - 17s 158ms/step - loss: 8.8686e-04 - val_loss: 8.3868e-04\n",
      "Epoch 18/200\n",
      "110/110 [==============================] - 17s 159ms/step - loss: 8.7171e-04 - val_loss: 8.9433e-04\n",
      "Epoch 19/200\n",
      "110/110 [==============================] - 17s 158ms/step - loss: 7.8646e-04 - val_loss: 8.2748e-04\n",
      "Epoch 20/200\n",
      "110/110 [==============================] - 17s 159ms/step - loss: 7.4230e-04 - val_loss: 7.3530e-04\n",
      "Epoch 21/200\n",
      "110/110 [==============================] - 17s 158ms/step - loss: 6.8804e-04 - val_loss: 6.6197e-04\n",
      "Epoch 22/200\n",
      "110/110 [==============================] - 18s 159ms/step - loss: 6.6222e-04 - val_loss: 6.4541e-04\n",
      "Epoch 23/200\n",
      "110/110 [==============================] - 18s 161ms/step - loss: 6.7150e-04 - val_loss: 6.5637e-04\n",
      "Epoch 24/200\n",
      "110/110 [==============================] - 18s 160ms/step - loss: 5.7341e-04 - val_loss: 6.1986e-04\n",
      "Epoch 25/200\n",
      "110/110 [==============================] - 17s 157ms/step - loss: 6.2854e-04 - val_loss: 5.2538e-04\n",
      "Epoch 26/200\n",
      "110/110 [==============================] - 17s 157ms/step - loss: 4.9052e-04 - val_loss: 5.0746e-04\n",
      "Epoch 27/200\n",
      "110/110 [==============================] - 17s 157ms/step - loss: 4.8274e-04 - val_loss: 4.6877e-04\n",
      "Epoch 28/200\n",
      "110/110 [==============================] - 17s 158ms/step - loss: 4.3654e-04 - val_loss: 4.4638e-04\n",
      "Epoch 29/200\n",
      "110/110 [==============================] - 17s 158ms/step - loss: 4.2191e-04 - val_loss: 4.0198e-04\n",
      "Epoch 30/200\n",
      "110/110 [==============================] - 17s 158ms/step - loss: 4.1228e-04 - val_loss: 6.2843e-04\n",
      "Epoch 31/200\n",
      "110/110 [==============================] - 17s 158ms/step - loss: 3.9467e-04 - val_loss: 3.9366e-04\n",
      "Epoch 32/200\n",
      "110/110 [==============================] - 18s 159ms/step - loss: 4.2593e-04 - val_loss: 6.2219e-04\n",
      "Epoch 33/200\n",
      "110/110 [==============================] - 18s 160ms/step - loss: 3.3512e-04 - val_loss: 3.1676e-04\n",
      "Epoch 34/200\n",
      "110/110 [==============================] - 17s 159ms/step - loss: 3.3582e-04 - val_loss: 3.2714e-04\n",
      "Epoch 35/200\n",
      "110/110 [==============================] - 16s 150ms/step - loss: 2.9396e-04 - val_loss: 2.9601e-04\n",
      "Epoch 36/200\n",
      "110/110 [==============================] - 16s 148ms/step - loss: 3.0418e-04 - val_loss: 3.4233e-04\n",
      "Epoch 37/200\n",
      "110/110 [==============================] - 16s 148ms/step - loss: 3.0421e-04 - val_loss: 3.3878e-04\n",
      "Epoch 38/200\n",
      "110/110 [==============================] - 16s 149ms/step - loss: 3.3106e-04 - val_loss: 2.6153e-04\n",
      "Epoch 39/200\n",
      "110/110 [==============================] - 16s 148ms/step - loss: 2.5613e-04 - val_loss: 5.1558e-04\n",
      "Epoch 40/200\n",
      "110/110 [==============================] - 16s 148ms/step - loss: 3.0008e-04 - val_loss: 2.7317e-04\n",
      "Epoch 41/200\n",
      "110/110 [==============================] - 16s 148ms/step - loss: 2.8656e-04 - val_loss: 2.5705e-04\n",
      "Epoch 42/200\n",
      "110/110 [==============================] - 16s 148ms/step - loss: 2.3761e-04 - val_loss: 2.4834e-04\n",
      "Epoch 43/200\n",
      "110/110 [==============================] - 16s 148ms/step - loss: 2.2684e-04 - val_loss: 2.3758e-04\n",
      "Epoch 44/200\n",
      "110/110 [==============================] - 16s 148ms/step - loss: 2.6386e-04 - val_loss: 2.9357e-04\n",
      "Epoch 45/200\n",
      "110/110 [==============================] - 16s 150ms/step - loss: 2.4118e-04 - val_loss: 2.3491e-04\n",
      "Epoch 46/200\n",
      "110/110 [==============================] - 16s 150ms/step - loss: 2.3835e-04 - val_loss: 2.1288e-04\n",
      "Epoch 47/200\n",
      "110/110 [==============================] - 16s 149ms/step - loss: 2.1669e-04 - val_loss: 2.0377e-04\n",
      "Epoch 48/200\n",
      "110/110 [==============================] - 16s 148ms/step - loss: 2.1683e-04 - val_loss: 2.5989e-04\n",
      "Epoch 49/200\n",
      "110/110 [==============================] - 16s 149ms/step - loss: 2.0460e-04 - val_loss: 1.9831e-04\n",
      "Epoch 50/200\n",
      "110/110 [==============================] - 17s 151ms/step - loss: 1.9602e-04 - val_loss: 2.9447e-04\n",
      "Epoch 51/200\n",
      "110/110 [==============================] - 17s 155ms/step - loss: 2.1235e-04 - val_loss: 2.2621e-04\n",
      "Epoch 52/200\n",
      "110/110 [==============================] - 17s 155ms/step - loss: 2.0715e-04 - val_loss: 2.4335e-04\n",
      "Epoch 53/200\n",
      "110/110 [==============================] - 17s 155ms/step - loss: 1.9508e-04 - val_loss: 1.8071e-04\n",
      "Epoch 54/200\n",
      "110/110 [==============================] - 17s 156ms/step - loss: 2.0338e-04 - val_loss: 1.8525e-04\n",
      "Epoch 55/200\n",
      "110/110 [==============================] - 17s 156ms/step - loss: 1.8382e-04 - val_loss: 1.9574e-04\n",
      "Epoch 56/200\n",
      "110/110 [==============================] - 16s 149ms/step - loss: 1.8494e-04 - val_loss: 4.4735e-04\n",
      "Epoch 57/200\n",
      "110/110 [==============================] - 16s 149ms/step - loss: 2.0272e-04 - val_loss: 2.1430e-04\n",
      "Epoch 58/200\n",
      "110/110 [==============================] - 16s 149ms/step - loss: 1.8298e-04 - val_loss: 1.7963e-04\n",
      "Epoch 59/200\n",
      "110/110 [==============================] - 16s 148ms/step - loss: 1.9707e-04 - val_loss: 1.8216e-04\n",
      "Epoch 60/200\n",
      "110/110 [==============================] - 16s 149ms/step - loss: 1.8794e-04 - val_loss: 3.6093e-04\n",
      "Epoch 61/200\n",
      "110/110 [==============================] - 16s 149ms/step - loss: 2.0798e-04 - val_loss: 2.4294e-04\n",
      "Epoch 62/200\n",
      "110/110 [==============================] - 16s 149ms/step - loss: 1.9406e-04 - val_loss: 1.7874e-04\n",
      "Epoch 63/200\n",
      "110/110 [==============================] - 16s 148ms/step - loss: 1.7772e-04 - val_loss: 1.9060e-04\n",
      "Epoch 64/200\n",
      "110/110 [==============================] - 16s 149ms/step - loss: 1.9254e-04 - val_loss: 1.6940e-04\n",
      "Epoch 65/200\n",
      "110/110 [==============================] - 16s 149ms/step - loss: 1.6798e-04 - val_loss: 1.6502e-04\n",
      "Epoch 66/200\n",
      "110/110 [==============================] - 16s 145ms/step - loss: 1.9019e-04 - val_loss: 2.2714e-04\n",
      "Epoch 67/200\n",
      "110/110 [==============================] - 16s 146ms/step - loss: 1.7868e-04 - val_loss: 1.6566e-04\n",
      "Epoch 68/200\n",
      "110/110 [==============================] - 16s 146ms/step - loss: 1.6752e-04 - val_loss: 2.0767e-04\n",
      "Epoch 69/200\n",
      "110/110 [==============================] - 16s 146ms/step - loss: 1.7672e-04 - val_loss: 1.7999e-04\n",
      "Epoch 70/200\n",
      "110/110 [==============================] - 16s 146ms/step - loss: 1.8814e-04 - val_loss: 1.7547e-04\n"
     ]
    }
   ],
   "source": [
    "path = 'C:/Users/silas/Documents/PIVIC-PIBIC-Comunicacoes-Opticas/models/Conv_models/'\n",
    "n0 = 32\n",
    "\n",
    "# define neural network model\n",
    "stop = EarlyStopping(monitor='val_loss', patience=5)\n",
    "model = create_convnet(N, n0)\n",
    "model.compile(optimizer=tf.keras.optimizers.Adam(learning_rate=0.001), loss='mse')\n",
    "model.fit(permuted_X_train, permuted_y_train, epochs=200, callbacks=[stop], validation_split=0.3, batch_size=256)\n",
    "# model.summary()\n",
    "\n",
    "model.save(path+'testModel_SpS_'+str(paramTx.SpS)+'_CSPR_DataPermuted', save_format='h5')"
   ]
  }
 ],
 "metadata": {
  "kernelspec": {
   "display_name": "Python 3",
   "language": "python",
   "name": "python3"
  },
  "language_info": {
   "codemirror_mode": {
    "name": "ipython",
    "version": 3
   },
   "file_extension": ".py",
   "mimetype": "text/x-python",
   "name": "python",
   "nbconvert_exporter": "python",
   "pygments_lexer": "ipython3",
   "version": "3.9.13"
  },
  "orig_nbformat": 4
 },
 "nbformat": 4,
 "nbformat_minor": 2
}
