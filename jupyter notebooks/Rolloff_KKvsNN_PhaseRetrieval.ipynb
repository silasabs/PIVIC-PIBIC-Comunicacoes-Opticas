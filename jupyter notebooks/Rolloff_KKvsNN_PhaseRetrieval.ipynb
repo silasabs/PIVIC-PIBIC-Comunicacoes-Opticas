{
 "cells": [
  {
   "cell_type": "code",
   "execution_count": 2,
   "id": "b1edcfee",
   "metadata": {
    "ExecuteTime": {
     "end_time": "2022-02-10T19:01:33.299471Z",
     "start_time": "2022-02-10T19:01:33.281484Z"
    }
   },
   "outputs": [],
   "source": [
    "import matplotlib.pyplot as plt\n",
    "import numpy as np\n",
    "\n",
    "from commpy.modulation import QAMModem\n",
    "\n",
    "from optic.dsp import pulseShape, firFilter, decimate, symbolSync\n",
    "from optic.models import phaseNoise, KramersKronigRx, linFiberCh\n",
    "\n",
    "from optic.tx import simpleWDMTx\n",
    "from optic.core import parameters\n",
    "from optic.equalization import edc, mimoAdaptEqualizer\n",
    "from optic.carrierRecovery import cpr\n",
    "from optic.metrics import fastBERcalc, monteCarloGMI, monteCarloMI, signal_power\n",
    "from optic.plot import pconst\n",
    "\n",
    "import scipy.constants as const\n",
    "\n",
    "from tensorflow.keras.layers import Dense, Dropout, BatchNormalization\n",
    "from tensorflow.keras.models import Sequential\n",
    "from tensorflow.keras.callbacks import EarlyStopping\n",
    "import tensorflow as tf"
   ]
  },
  {
   "cell_type": "markdown",
   "id": "cf8081d8",
   "metadata": {
    "lines_to_next_cell": 2
   },
   "source": [
    "### Simulation of a single polarization optical signal transmission"
   ]
  },
  {
   "cell_type": "code",
   "execution_count": 3,
   "id": "8ef1c5b1",
   "metadata": {
    "ExecuteTime": {
     "end_time": "2022-02-10T19:01:33.379422Z",
     "start_time": "2022-02-10T19:01:33.366429Z"
    },
    "lines_to_next_cell": 2
   },
   "outputs": [],
   "source": [
    "# Transmitter parameters:\n",
    "paramTx = parameters()\n",
    "paramTx.M = 16                 # order of the modulation format\n",
    "paramTx.Rs = 32e9              # symbol rate [baud]\n",
    "paramTx.SpS = 4                # samples per symbol\n",
    "paramTx.Nbits = 400000         # total number of bits per polarization\n",
    "paramTx.pulse = \"rrc\"          # pulse shaping filter\n",
    "paramTx.Ntaps = 1024           # number of pulse shaping filter coefficients\n",
    "paramTx.alphaRRC = 0.01        # RRC rolloff\n",
    "paramTx.Pch_dBm = 0            # power of the optical signal [dBm]\n",
    "paramTx.Nch = 1                # number of WDM channels\n",
    "paramTx.Fc = 193.1e12          # central frequency of the optical spectrum\n",
    "paramTx.freqSpac = 37.5e9      # WDM grid spacing\n",
    "\n",
    "# Optical channel parameters:\n",
    "Ltotal = 50      # total link distance [km]\n",
    "alpha = 0        # fiber loss parameter [dB/km]\n",
    "D  = 16          # fiber dispersion parameter [ps/nm/km]\n",
    "Fc = paramTx.Fc  # central optical frequency of the WDM spectrum [Hz]\n",
    "\n",
    "# Receiver parameters:\n",
    "\n",
    "# local oscillator (LO)\n",
    "FO = paramTx.Rs/2  # frequency offset \n",
    "lw = 100e3         # linewidth\n",
    "ϕ_lo = 0           # initial phase in rad\n",
    "Plo_dBm = 15        # power in dBm\n",
    "\n",
    "# ADC sampling rate\n",
    "paramADC = parameters()\n",
    "paramADC.Rs = paramTx.Rs\n",
    "paramADC.SpS_in = paramTx.SpS\n",
    "paramADC.SpS_out = 4\n",
    "\n",
    "# General simulation parameters\n",
    "chIndex = 0  # index of the channel to be demodulated\n",
    "plotPSD = True\n",
    "Fs = paramTx.Rs * paramTx.SpS  # simulation sampling rate"
   ]
  },
  {
   "cell_type": "code",
   "execution_count": 30,
   "id": "dcd6fdcb",
   "metadata": {},
   "outputs": [],
   "source": [
    "plt.rcParams['font.size'] = 12\n",
    "plt.rcParams['lines.linewidth'] = 1"
   ]
  },
  {
   "cell_type": "markdown",
   "id": "05c1f625",
   "metadata": {},
   "source": [
    "### KK Algorithm Performance Analysis for Different Rolloff Values\n",
    "Transmission set to SpS 4\n",
    "- BER vs Rolloff RRC\n",
    "- SER vs Rolloff RRC\n",
    "- SNR vs Rolloff RRC"
   ]
  },
  {
   "cell_type": "code",
   "execution_count": 5,
   "id": "c536d4df",
   "metadata": {},
   "outputs": [
    {
     "name": "stdout",
     "output_type": "stream",
     "text": [
      "channel 0\t fc : 193.1000 THz\n",
      "  mode #0\t power: 0.00 dBm\n",
      "channel 0\t power: -0.00 dBm\n",
      "\n",
      "total WDM signal power: -0.00 dBm\n",
      "CSPR = 15.00 dB\n",
      "\n",
      "\n",
      "nlms - training stage #0\n"
     ]
    },
    {
     "data": {
      "application/vnd.jupyter.widget-view+json": {
       "model_id": "869c47dd65f2438699027fb7555aa999",
       "version_major": 2,
       "version_minor": 0
      },
      "text/plain": [
       "  0%|          | 0/5 [00:00<?, ?it/s]"
      ]
     },
     "metadata": {},
     "output_type": "display_data"
    },
    {
     "name": "stdout",
     "output_type": "stream",
     "text": [
      "nlms pre-convergence training iteration #0\n",
      "nlms MSE = 0.009511.\n",
      "nlms pre-convergence training iteration #1\n",
      "nlms MSE = 0.014905.\n",
      "nlms pre-convergence training iteration #2\n",
      "nlms MSE = 0.014999.\n",
      "nlms pre-convergence training iteration #3\n",
      "nlms MSE = 0.015001.\n",
      "nlms pre-convergence training iteration #4\n",
      "nlms MSE = 0.015000.\n",
      "\n",
      "\n",
      "dd-lms - training stage #1\n",
      "dd-lms MSE = 0.002313.\n",
      "Results:\n",
      "\n",
      "SER: 0.00e+00\n",
      "BER: 0.00e+00\n",
      "SNR: 28.40 dB\n",
      "MI: 4.00 bits\n",
      "GMI: 4.00 bits\n",
      "channel 0\t fc : 193.1000 THz\n",
      "  mode #0\t power: 0.00 dBm\n",
      "channel 0\t power: -0.00 dBm\n",
      "\n",
      "total WDM signal power: -0.00 dBm\n",
      "CSPR = 15.00 dB\n",
      "\n",
      "\n",
      "nlms - training stage #0\n"
     ]
    },
    {
     "data": {
      "application/vnd.jupyter.widget-view+json": {
       "model_id": "082d82823a8f4aa8ba2f0c75e5db6a53",
       "version_major": 2,
       "version_minor": 0
      },
      "text/plain": [
       "  0%|          | 0/5 [00:00<?, ?it/s]"
      ]
     },
     "metadata": {},
     "output_type": "display_data"
    },
    {
     "name": "stdout",
     "output_type": "stream",
     "text": [
      "nlms pre-convergence training iteration #0\n",
      "nlms MSE = 0.020831.\n",
      "nlms pre-convergence training iteration #1\n",
      "nlms MSE = 0.021141.\n",
      "nlms pre-convergence training iteration #2\n",
      "nlms MSE = 0.020775.\n",
      "nlms pre-convergence training iteration #3\n",
      "nlms MSE = 0.020483.\n",
      "nlms pre-convergence training iteration #4\n",
      "nlms MSE = 0.020251.\n",
      "\n",
      "\n",
      "dd-lms - training stage #1\n",
      "dd-lms MSE = 0.009343.\n",
      "Results:\n",
      "\n",
      "SER: 1.89e-04\n",
      "BER: 6.11e-05\n",
      "SNR: 20.88 dB\n",
      "MI: 4.00 bits\n",
      "GMI: 4.00 bits\n",
      "channel 0\t fc : 193.1000 THz\n",
      "  mode #0\t power: 0.00 dBm\n",
      "channel 0\t power: 0.00 dBm\n",
      "\n",
      "total WDM signal power: 0.00 dBm\n",
      "CSPR = 15.00 dB\n",
      "\n",
      "\n",
      "nlms - training stage #0\n"
     ]
    },
    {
     "data": {
      "application/vnd.jupyter.widget-view+json": {
       "model_id": "ec96b2f1a07f42deb3817f70ad55a991",
       "version_major": 2,
       "version_minor": 0
      },
      "text/plain": [
       "  0%|          | 0/5 [00:00<?, ?it/s]"
      ]
     },
     "metadata": {},
     "output_type": "display_data"
    },
    {
     "name": "stdout",
     "output_type": "stream",
     "text": [
      "nlms pre-convergence training iteration #0\n",
      "nlms MSE = 0.021510.\n",
      "nlms pre-convergence training iteration #1\n",
      "nlms MSE = 0.021929.\n",
      "nlms pre-convergence training iteration #2\n",
      "nlms MSE = 0.020792.\n",
      "nlms pre-convergence training iteration #3\n",
      "nlms MSE = 0.019851.\n",
      "nlms pre-convergence training iteration #4\n",
      "nlms MSE = 0.019074.\n",
      "\n",
      "\n",
      "dd-lms - training stage #1\n",
      "dd-lms MSE = 0.012557.\n",
      "Results:\n",
      "\n",
      "SER: 7.33e-04\n",
      "BER: 2.33e-04\n",
      "SNR: 19.44 dB\n",
      "MI: 4.00 bits\n",
      "GMI: 3.99 bits\n",
      "channel 0\t fc : 193.1000 THz\n",
      "  mode #0\t power: 0.00 dBm\n",
      "channel 0\t power: 0.00 dBm\n",
      "\n",
      "total WDM signal power: 0.00 dBm\n",
      "CSPR = 15.00 dB\n",
      "\n",
      "\n",
      "nlms - training stage #0\n"
     ]
    },
    {
     "data": {
      "application/vnd.jupyter.widget-view+json": {
       "model_id": "20429d05247548edb65639fcb1d73373",
       "version_major": 2,
       "version_minor": 0
      },
      "text/plain": [
       "  0%|          | 0/5 [00:00<?, ?it/s]"
      ]
     },
     "metadata": {},
     "output_type": "display_data"
    },
    {
     "name": "stdout",
     "output_type": "stream",
     "text": [
      "nlms pre-convergence training iteration #0\n",
      "nlms MSE = 0.028819.\n",
      "nlms pre-convergence training iteration #1\n",
      "nlms MSE = 0.031011.\n",
      "nlms pre-convergence training iteration #2\n",
      "nlms MSE = 0.029371.\n",
      "nlms pre-convergence training iteration #3\n",
      "nlms MSE = 0.027979.\n",
      "nlms pre-convergence training iteration #4\n",
      "nlms MSE = 0.026828.\n",
      "\n",
      "\n",
      "dd-lms - training stage #1\n",
      "dd-lms MSE = 0.011303.\n",
      "Results:\n",
      "\n",
      "SER: 5.89e-04\n",
      "BER: 1.78e-04\n",
      "SNR: 19.63 dB\n",
      "MI: 3.99 bits\n",
      "GMI: 3.99 bits\n",
      "channel 0\t fc : 193.1000 THz\n",
      "  mode #0\t power: 0.00 dBm\n",
      "channel 0\t power: 0.00 dBm\n",
      "\n",
      "total WDM signal power: 0.00 dBm\n",
      "CSPR = 15.00 dB\n",
      "\n",
      "\n",
      "nlms - training stage #0\n"
     ]
    },
    {
     "data": {
      "application/vnd.jupyter.widget-view+json": {
       "model_id": "b9c7026dd2374793be565e1c52962c85",
       "version_major": 2,
       "version_minor": 0
      },
      "text/plain": [
       "  0%|          | 0/5 [00:00<?, ?it/s]"
      ]
     },
     "metadata": {},
     "output_type": "display_data"
    },
    {
     "name": "stdout",
     "output_type": "stream",
     "text": [
      "nlms pre-convergence training iteration #0\n",
      "nlms MSE = 0.037513.\n",
      "nlms pre-convergence training iteration #1\n",
      "nlms MSE = 0.073306.\n",
      "nlms pre-convergence training iteration #2\n",
      "nlms MSE = 0.071621.\n",
      "nlms pre-convergence training iteration #3\n",
      "nlms MSE = 0.070128.\n",
      "nlms pre-convergence training iteration #4\n",
      "nlms MSE = 0.068948.\n",
      "\n",
      "\n",
      "dd-lms - training stage #1\n",
      "dd-lms MSE = 0.013586.\n",
      "Results:\n",
      "\n",
      "SER: 1.72e-03\n",
      "BER: 5.22e-04\n",
      "SNR: 18.64 dB\n",
      "MI: 3.99 bits\n",
      "GMI: 3.99 bits\n",
      "channel 0\t fc : 193.1000 THz\n",
      "  mode #0\t power: 0.00 dBm\n",
      "channel 0\t power: -0.00 dBm\n",
      "\n",
      "total WDM signal power: -0.00 dBm\n",
      "CSPR = 15.00 dB\n",
      "\n",
      "\n",
      "nlms - training stage #0\n"
     ]
    },
    {
     "data": {
      "application/vnd.jupyter.widget-view+json": {
       "model_id": "c601c5b9eb5347c8873adaa272b25577",
       "version_major": 2,
       "version_minor": 0
      },
      "text/plain": [
       "  0%|          | 0/5 [00:00<?, ?it/s]"
      ]
     },
     "metadata": {},
     "output_type": "display_data"
    },
    {
     "name": "stdout",
     "output_type": "stream",
     "text": [
      "nlms pre-convergence training iteration #0\n",
      "nlms MSE = 0.032342.\n",
      "nlms pre-convergence training iteration #1\n",
      "nlms MSE = 0.032906.\n",
      "nlms pre-convergence training iteration #2\n",
      "nlms MSE = 0.030050.\n",
      "nlms pre-convergence training iteration #3\n",
      "nlms MSE = 0.027930.\n",
      "nlms pre-convergence training iteration #4\n",
      "nlms MSE = 0.026365.\n",
      "\n",
      "\n",
      "dd-lms - training stage #1\n",
      "dd-lms MSE = 0.013288.\n",
      "Results:\n",
      "\n",
      "SER: 5.00e-04\n",
      "BER: 1.67e-04\n",
      "SNR: 19.03 dB\n",
      "MI: 4.00 bits\n",
      "GMI: 4.00 bits\n",
      "channel 0\t fc : 193.1000 THz\n",
      "  mode #0\t power: 0.00 dBm\n",
      "channel 0\t power: -0.00 dBm\n",
      "\n",
      "total WDM signal power: -0.00 dBm\n",
      "CSPR = 15.00 dB\n",
      "\n",
      "\n",
      "nlms - training stage #0\n"
     ]
    },
    {
     "data": {
      "application/vnd.jupyter.widget-view+json": {
       "model_id": "5762c05cfef144e1a13bbc330e838971",
       "version_major": 2,
       "version_minor": 0
      },
      "text/plain": [
       "  0%|          | 0/5 [00:00<?, ?it/s]"
      ]
     },
     "metadata": {},
     "output_type": "display_data"
    },
    {
     "name": "stdout",
     "output_type": "stream",
     "text": [
      "nlms pre-convergence training iteration #0\n",
      "nlms MSE = 0.039266.\n",
      "nlms pre-convergence training iteration #1\n",
      "nlms MSE = 0.044357.\n",
      "nlms pre-convergence training iteration #2\n",
      "nlms MSE = 0.041531.\n",
      "nlms pre-convergence training iteration #3\n",
      "nlms MSE = 0.039599.\n",
      "nlms pre-convergence training iteration #4\n",
      "nlms MSE = 0.038294.\n",
      "\n",
      "\n",
      "dd-lms - training stage #1\n",
      "dd-lms MSE = 0.014729.\n",
      "Results:\n",
      "\n",
      "SER: 8.44e-04\n",
      "BER: 2.78e-04\n",
      "SNR: 18.51 dB\n",
      "MI: 3.99 bits\n",
      "GMI: 3.99 bits\n",
      "channel 0\t fc : 193.1000 THz\n",
      "  mode #0\t power: 0.00 dBm\n",
      "channel 0\t power: -0.00 dBm\n",
      "\n",
      "total WDM signal power: -0.00 dBm\n",
      "CSPR = 15.00 dB\n",
      "\n",
      "\n",
      "nlms - training stage #0\n"
     ]
    },
    {
     "data": {
      "application/vnd.jupyter.widget-view+json": {
       "model_id": "51d68400f1794ccbb5b404226a5a8f7f",
       "version_major": 2,
       "version_minor": 0
      },
      "text/plain": [
       "  0%|          | 0/5 [00:00<?, ?it/s]"
      ]
     },
     "metadata": {},
     "output_type": "display_data"
    },
    {
     "name": "stdout",
     "output_type": "stream",
     "text": [
      "nlms pre-convergence training iteration #0\n",
      "nlms MSE = 0.037181.\n",
      "nlms pre-convergence training iteration #1\n",
      "nlms MSE = 0.029425.\n",
      "nlms pre-convergence training iteration #2\n",
      "nlms MSE = 0.026026.\n",
      "nlms pre-convergence training iteration #3\n",
      "nlms MSE = 0.023994.\n",
      "nlms pre-convergence training iteration #4\n",
      "nlms MSE = 0.022771.\n",
      "\n",
      "\n",
      "dd-lms - training stage #1\n",
      "dd-lms MSE = 0.017093.\n",
      "Results:\n",
      "\n",
      "SER: 2.08e-03\n",
      "BER: 6.44e-04\n",
      "SNR: 18.05 dB\n",
      "MI: 3.99 bits\n",
      "GMI: 3.99 bits\n",
      "channel 0\t fc : 193.1000 THz\n",
      "  mode #0\t power: 0.00 dBm\n",
      "channel 0\t power: -0.00 dBm\n",
      "\n",
      "total WDM signal power: -0.00 dBm\n",
      "CSPR = 15.00 dB\n",
      "\n",
      "\n",
      "nlms - training stage #0\n"
     ]
    },
    {
     "data": {
      "application/vnd.jupyter.widget-view+json": {
       "model_id": "6750b5ae851d4fad86933aae45477a05",
       "version_major": 2,
       "version_minor": 0
      },
      "text/plain": [
       "  0%|          | 0/5 [00:00<?, ?it/s]"
      ]
     },
     "metadata": {},
     "output_type": "display_data"
    },
    {
     "name": "stdout",
     "output_type": "stream",
     "text": [
      "nlms pre-convergence training iteration #0\n",
      "nlms MSE = 0.039141.\n",
      "nlms pre-convergence training iteration #1\n",
      "nlms MSE = 0.035297.\n",
      "nlms pre-convergence training iteration #2\n",
      "nlms MSE = 0.031690.\n",
      "nlms pre-convergence training iteration #3\n",
      "nlms MSE = 0.029765.\n",
      "nlms pre-convergence training iteration #4\n",
      "nlms MSE = 0.028731.\n",
      "\n",
      "\n",
      "dd-lms - training stage #1\n",
      "dd-lms MSE = 0.016943.\n",
      "Results:\n",
      "\n",
      "SER: 1.46e-03\n",
      "BER: 4.64e-04\n",
      "SNR: 18.14 dB\n",
      "MI: 4.00 bits\n",
      "GMI: 3.99 bits\n",
      "channel 0\t fc : 193.1000 THz\n",
      "  mode #0\t power: 0.00 dBm\n",
      "channel 0\t power: -0.00 dBm\n",
      "\n",
      "total WDM signal power: -0.00 dBm\n",
      "CSPR = 15.00 dB\n",
      "\n",
      "\n",
      "nlms - training stage #0\n"
     ]
    },
    {
     "data": {
      "application/vnd.jupyter.widget-view+json": {
       "model_id": "bbd447c1b6224522bc7865fd8e2cf9c5",
       "version_major": 2,
       "version_minor": 0
      },
      "text/plain": [
       "  0%|          | 0/5 [00:00<?, ?it/s]"
      ]
     },
     "metadata": {},
     "output_type": "display_data"
    },
    {
     "name": "stdout",
     "output_type": "stream",
     "text": [
      "nlms pre-convergence training iteration #0\n",
      "nlms MSE = 0.039625.\n",
      "nlms pre-convergence training iteration #1\n",
      "nlms MSE = 0.028535.\n",
      "nlms pre-convergence training iteration #2\n",
      "nlms MSE = 0.024748.\n",
      "nlms pre-convergence training iteration #3\n",
      "nlms MSE = 0.022927.\n",
      "nlms pre-convergence training iteration #4\n",
      "nlms MSE = 0.022021.\n",
      "\n",
      "\n",
      "dd-lms - training stage #1\n",
      "dd-lms MSE = 0.018007.\n",
      "Results:\n",
      "\n",
      "SER: 1.43e-03\n",
      "BER: 4.67e-04\n",
      "SNR: 17.91 dB\n",
      "MI: 3.99 bits\n",
      "GMI: 3.99 bits\n"
     ]
    }
   ],
   "source": [
    "Rolloff = np.arange(0.01, 0.99, 0.1)\n",
    "\n",
    "BER_KK = np.zeros(Rolloff.size)\n",
    "SER_KK = np.zeros(Rolloff.size)\n",
    "GMI_KK = np.zeros(Rolloff.size)\n",
    "MI_KK  = np.zeros(Rolloff.size)\n",
    "SNR_KK = np.zeros(Rolloff.size)\n",
    "\n",
    "for indROLL, ROLLOFF_ in enumerate(Rolloff):\n",
    "\n",
    "    paramTx.alphaRRC = ROLLOFF_\n",
    "    # generate optical signal signal\n",
    "    sigTx, symbTx_, paramTx = simpleWDMTx(paramTx)\n",
    "\n",
    "    # simulate linear signal propagation\n",
    "    sigCh = linFiberCh(sigTx, Ltotal, alpha, D, Fc, Fs)\n",
    "    \n",
    "    # receiver detection and demodulation\n",
    "\n",
    "    Fc = paramTx.Fc\n",
    "    Ts = 1 / Fs\n",
    "    mod = QAMModem(m=paramTx.M)\n",
    "\n",
    "    freqGrid = paramTx.freqGrid\n",
    "\n",
    "    symbTx = symbTx_[:, :, chIndex]\n",
    "    \n",
    "    #Plo_dBm = CSPR_\n",
    "    Plo = 10 ** (Plo_dBm / 10) * 1e-3  # power in W\n",
    "\n",
    "#     print(\n",
    "#         \"Local oscillator P: %.2f dBm, lw: %.2f kHz, FO: %.2f MHz\"\n",
    "#         % (Plo_dBm, lw / 1e3, FO / 1e6)\n",
    "#     )\n",
    "\n",
    "    # generate LO field\n",
    "    π = np.pi\n",
    "    t = np.arange(0, len(sigCh))*Ts\n",
    "    ϕ_pn_lo = phaseNoise(lw, len(sigCh), Ts)\n",
    "\n",
    "    sigLO = np.sqrt(Plo) * np.exp(-1j * (2 * π * FO * t + ϕ_lo + ϕ_pn_lo))\n",
    "\n",
    "    # Add LO to the received signal\n",
    "    sigRx = np.sqrt(Plo) + sigCh* np.exp(1j * (2 * π * FO * t + ϕ_lo + ϕ_pn_lo))\n",
    "    sfm   = sigRx.copy()\n",
    "\n",
    "    print('CSPR = %.2f dB'%(10*np.log10(signal_power(sigLO)/signal_power(sigCh))))\n",
    "\n",
    "    ### Phase-retrieval stage\n",
    "\n",
    "    # simulate ideal direct-detection optical receiver\n",
    "    Amp = np.abs(sigRx)\n",
    "\n",
    "    # Kramers-Kronig phase-retrieval\n",
    "    phiTime = KramersKronigRx(Amp, Fs)\n",
    "\n",
    "    # optical field reconstruction\n",
    "    sigRx = Amp*np.exp(1j*phiTime)\n",
    "\n",
    "    # remove DC level\n",
    "    sigRx -= np.sqrt(Plo)  # np.mean(sigRx)\n",
    "\n",
    "    # downshift to baseband\n",
    "    sigRx *= np.exp(-1j * (2 * π * FO * t))\n",
    "\n",
    "    #### Standard receiver processing\n",
    "\n",
    "    # Matched filtering and CD compensation\n",
    "\n",
    "    # Matched filtering\n",
    "    if paramTx.pulse == \"nrz\":\n",
    "        pulse = pulseShape(\"nrz\", paramTx.SpS)\n",
    "    elif paramTx.pulse == \"rrc\":\n",
    "        pulse = pulseShape(\n",
    "            \"rrc\", paramTx.SpS, N=paramTx.Ntaps, alpha=paramTx.alphaRRC, Ts=1 / paramTx.Rs\n",
    "        )\n",
    "\n",
    "    pulse = pulse / np.max(np.abs(pulse))\n",
    "    sigRx = firFilter(pulse, sigRx)\n",
    "\n",
    "#     # plot constellations after matched filtering\n",
    "#     pconst(sigRx[0::paramTx.SpS], lim=True, R=3)\n",
    "\n",
    "    # CD compensation\n",
    "    sigRx = edc(sigRx, Ltotal, D, Fc, Fs)\n",
    "\n",
    "#     #plot constellations after CD compensation\n",
    "#     pconst(sigRx[0::paramTx.SpS], lim=True, R=2)\n",
    "\n",
    "    # Downsampling to 2 sps and re-synchronization with transmitted sequences\n",
    "    sigRx = sigRx.reshape(-1, 1)\n",
    "\n",
    "    # decimation\n",
    "    paramDec = parameters()\n",
    "    paramDec.SpS_in = paramTx.SpS\n",
    "    paramDec.SpS_out = 2\n",
    "    sigRx = decimate(sigRx, paramDec)\n",
    "\n",
    "    symbRx = symbolSync(sigRx, symbTx, 2)\n",
    "\n",
    "    # Power normalization\n",
    "    x = sigRx\n",
    "    d = symbRx\n",
    "\n",
    "    x = x.reshape(len(x), 1) / np.sqrt(signal_power(x))\n",
    "    d = d.reshape(len(d), 1) / np.sqrt(signal_power(d))\n",
    "\n",
    "    # Adaptive equalization\n",
    "    mod = QAMModem(m=paramTx.M)\n",
    "\n",
    "    paramEq = parameters()\n",
    "    paramEq.nTaps = 7\n",
    "    paramEq.SpS = 2\n",
    "    paramEq.mu = [5e-3, 5e-3]\n",
    "    paramEq.numIter = 5\n",
    "    paramEq.storeCoeff = False\n",
    "    paramEq.alg = [\"nlms\", \"dd-lms\"]\n",
    "    paramEq.M = paramTx.M\n",
    "    paramEq.L = [20000, 80000]\n",
    "\n",
    "    y_EQ, H, errSq, Hiter = mimoAdaptEqualizer(x, dx=d, paramEq=paramEq)\n",
    "\n",
    "   # y_EQ = x[0::paramTx.SpS]\n",
    "    discard = int(paramEq.L[0]/2)\n",
    "\n",
    "#     #plot constellations after adaptive equalization\n",
    "#     pconst(y_EQ[discard:-discard,:], lim=True)\n",
    "\n",
    "    # Carrier phase recovery\n",
    "    paramCPR = parameters()\n",
    "    paramCPR.alg = \"bps\"\n",
    "    paramCPR.M = paramTx.M\n",
    "    paramCPR.N = 35\n",
    "    paramCPR.B = 64\n",
    "    paramCPR.pilotInd = np.arange(0, len(y_EQ), 20)\n",
    "\n",
    "    y_CPR, θ = cpr(y_EQ, symbTx=d, paramCPR=paramCPR)\n",
    "\n",
    "    y_CPR = y_CPR / np.sqrt(signal_power(y_CPR))\n",
    "\n",
    "#     plt.figure()\n",
    "#     plt.title(\"CPR estimated phase\")\n",
    "#     plt.plot(θ, \"-\")\n",
    "#     plt.xlim(0, len(θ))\n",
    "#     plt.grid()\n",
    "\n",
    "    discard = 5000\n",
    "\n",
    "#     # plot constellations after CPR\n",
    "#     pconst(y_CPR[discard:-discard, :], lim=True)\n",
    "\n",
    "    #### Evaluate transmission metrics\n",
    "\n",
    "    # correct for (possible) phase ambiguity\n",
    "    for k in range(y_CPR.shape[1]):\n",
    "        rot = np.mean(d[:, k] / y_CPR[:, k])\n",
    "        y_CPR[:, k] = rot * y_CPR[:, k]\n",
    "\n",
    "    y_CPR = y_CPR / np.sqrt(signal_power(y_CPR))\n",
    "\n",
    "    ind = np.arange(discard, d.shape[0] - discard)\n",
    "    BER_KK[indROLL], SER_KK[indROLL], SNR_KK[indROLL] = fastBERcalc(y_CPR[ind, :], d[ind, :], mod)\n",
    "    GMI_KK[indROLL], _ = monteCarloGMI(y_CPR[ind, :], d[ind, :], mod)\n",
    "    MI_KK[indROLL] = monteCarloMI(y_CPR[ind, :], d[ind, :], mod)\n",
    "\n",
    "    print(\"Results:\\n\")\n",
    "    print(\"SER: %.2e\" % (SER_KK[indROLL]))\n",
    "    print(\"BER: %.2e\" % (BER_KK[indROLL]))\n",
    "    print(\"SNR: %.2f dB\" % (SNR_KK[indROLL]))\n",
    "    print(\"MI: %.2f bits\" % (MI_KK[indROLL]))\n",
    "    print(\"GMI: %.2f bits\" % (GMI_KK[indROLL]))"
   ]
  },
  {
   "cell_type": "markdown",
   "id": "3f0f8699",
   "metadata": {},
   "source": [
    "### BER, SER, SNR vs Rolloff with NN Algorithm"
   ]
  },
  {
   "cell_type": "code",
   "execution_count": 8,
   "id": "738ccd46",
   "metadata": {},
   "outputs": [
    {
     "name": "stdout",
     "output_type": "stream",
     "text": [
      "channel 0\t fc : 193.1000 THz\n",
      "  mode #0\t power: 0.00 dBm\n",
      "channel 0\t power: -0.00 dBm\n",
      "\n",
      "total WDM signal power: -0.00 dBm\n",
      "CSPR = 15.00 dB\n",
      "\n",
      "\n",
      "nlms - training stage #0\n"
     ]
    },
    {
     "data": {
      "application/vnd.jupyter.widget-view+json": {
       "model_id": "e765234dd5ed4ded9a7988b2b294afbc",
       "version_major": 2,
       "version_minor": 0
      },
      "text/plain": [
       "  0%|          | 0/5 [00:00<?, ?it/s]"
      ]
     },
     "metadata": {},
     "output_type": "display_data"
    },
    {
     "name": "stdout",
     "output_type": "stream",
     "text": [
      "nlms pre-convergence training iteration #0\n",
      "nlms MSE = 0.013018.\n",
      "nlms pre-convergence training iteration #1\n",
      "nlms MSE = 0.011938.\n",
      "nlms pre-convergence training iteration #2\n",
      "nlms MSE = 0.011176.\n",
      "nlms pre-convergence training iteration #3\n",
      "nlms MSE = 0.010882.\n",
      "nlms pre-convergence training iteration #4\n",
      "nlms MSE = 0.010756.\n",
      "\n",
      "\n",
      "dd-lms - training stage #1\n",
      "dd-lms MSE = 0.006032.\n",
      "Results:\n",
      "\n",
      "SER: 0.00e+00\n",
      "BER: 0.00e+00\n",
      "SNR: 22.67 dB\n",
      "MI: 4.00 bits\n",
      "GMI: 4.00 bits\n",
      "channel 0\t fc : 193.1000 THz\n",
      "  mode #0\t power: 0.00 dBm\n",
      "channel 0\t power: 0.00 dBm\n",
      "\n",
      "total WDM signal power: 0.00 dBm\n",
      "CSPR = 15.00 dB\n",
      "\n",
      "\n",
      "nlms - training stage #0\n"
     ]
    },
    {
     "data": {
      "application/vnd.jupyter.widget-view+json": {
       "model_id": "f1e15d325f50484abe58fab6cd11f107",
       "version_major": 2,
       "version_minor": 0
      },
      "text/plain": [
       "  0%|          | 0/5 [00:00<?, ?it/s]"
      ]
     },
     "metadata": {},
     "output_type": "display_data"
    },
    {
     "name": "stdout",
     "output_type": "stream",
     "text": [
      "nlms pre-convergence training iteration #0\n",
      "nlms MSE = 0.020918.\n",
      "nlms pre-convergence training iteration #1\n",
      "nlms MSE = 0.021538.\n",
      "nlms pre-convergence training iteration #2\n",
      "nlms MSE = 0.021335.\n",
      "nlms pre-convergence training iteration #3\n",
      "nlms MSE = 0.021237.\n",
      "nlms pre-convergence training iteration #4\n",
      "nlms MSE = 0.021187.\n",
      "\n",
      "\n",
      "dd-lms - training stage #1\n",
      "dd-lms MSE = 0.013487.\n",
      "Results:\n",
      "\n",
      "SER: 9.00e-04\n",
      "BER: 2.75e-04\n",
      "SNR: 18.84 dB\n",
      "MI: 3.99 bits\n",
      "GMI: 3.99 bits\n",
      "channel 0\t fc : 193.1000 THz\n",
      "  mode #0\t power: 0.00 dBm\n",
      "channel 0\t power: 0.00 dBm\n",
      "\n",
      "total WDM signal power: 0.00 dBm\n",
      "CSPR = 15.00 dB\n",
      "\n",
      "\n",
      "nlms - training stage #0\n"
     ]
    },
    {
     "data": {
      "application/vnd.jupyter.widget-view+json": {
       "model_id": "137d135d09804c6b943e1e3d648b338f",
       "version_major": 2,
       "version_minor": 0
      },
      "text/plain": [
       "  0%|          | 0/5 [00:00<?, ?it/s]"
      ]
     },
     "metadata": {},
     "output_type": "display_data"
    },
    {
     "name": "stdout",
     "output_type": "stream",
     "text": [
      "nlms pre-convergence training iteration #0\n",
      "nlms MSE = 0.022647.\n",
      "nlms pre-convergence training iteration #1\n",
      "nlms MSE = 0.022424.\n",
      "nlms pre-convergence training iteration #2\n",
      "nlms MSE = 0.022404.\n",
      "nlms pre-convergence training iteration #3\n",
      "nlms MSE = 0.022391.\n",
      "nlms pre-convergence training iteration #4\n",
      "nlms MSE = 0.022382.\n",
      "\n",
      "\n",
      "dd-lms - training stage #1\n",
      "dd-lms MSE = 0.018405.\n",
      "Results:\n",
      "\n",
      "SER: 3.53e-03\n",
      "BER: 1.08e-03\n",
      "SNR: 17.46 dB\n",
      "MI: 3.98 bits\n",
      "GMI: 3.98 bits\n",
      "channel 0\t fc : 193.1000 THz\n",
      "  mode #0\t power: 0.00 dBm\n",
      "channel 0\t power: -0.00 dBm\n",
      "\n",
      "total WDM signal power: -0.00 dBm\n",
      "CSPR = 15.00 dB\n",
      "\n",
      "\n",
      "nlms - training stage #0\n"
     ]
    },
    {
     "data": {
      "application/vnd.jupyter.widget-view+json": {
       "model_id": "9c95f5fc033a408d98154757ddaba20d",
       "version_major": 2,
       "version_minor": 0
      },
      "text/plain": [
       "  0%|          | 0/5 [00:00<?, ?it/s]"
      ]
     },
     "metadata": {},
     "output_type": "display_data"
    },
    {
     "name": "stdout",
     "output_type": "stream",
     "text": [
      "nlms pre-convergence training iteration #0\n",
      "nlms MSE = 0.026353.\n",
      "nlms pre-convergence training iteration #1\n",
      "nlms MSE = 0.029846.\n",
      "nlms pre-convergence training iteration #2\n",
      "nlms MSE = 0.029388.\n",
      "nlms pre-convergence training iteration #3\n",
      "nlms MSE = 0.029127.\n",
      "nlms pre-convergence training iteration #4\n",
      "nlms MSE = 0.028978.\n",
      "\n",
      "\n",
      "dd-lms - training stage #1\n",
      "dd-lms MSE = 0.019689.\n",
      "Results:\n",
      "\n",
      "SER: 2.64e-03\n",
      "BER: 7.86e-04\n",
      "SNR: 17.10 dB\n",
      "MI: 3.99 bits\n",
      "GMI: 3.99 bits\n",
      "channel 0\t fc : 193.1000 THz\n",
      "  mode #0\t power: 0.00 dBm\n",
      "channel 0\t power: -0.00 dBm\n",
      "\n",
      "total WDM signal power: -0.00 dBm\n",
      "CSPR = 15.00 dB\n",
      "\n",
      "\n",
      "nlms - training stage #0\n"
     ]
    },
    {
     "data": {
      "application/vnd.jupyter.widget-view+json": {
       "model_id": "195f5a6f76b1434b86c4cf698a58b8cf",
       "version_major": 2,
       "version_minor": 0
      },
      "text/plain": [
       "  0%|          | 0/5 [00:00<?, ?it/s]"
      ]
     },
     "metadata": {},
     "output_type": "display_data"
    },
    {
     "name": "stdout",
     "output_type": "stream",
     "text": [
      "nlms pre-convergence training iteration #0\n",
      "nlms MSE = 0.027147.\n",
      "nlms pre-convergence training iteration #1\n",
      "nlms MSE = 0.026328.\n",
      "nlms pre-convergence training iteration #2\n",
      "nlms MSE = 0.024793.\n",
      "nlms pre-convergence training iteration #3\n",
      "nlms MSE = 0.023877.\n",
      "nlms pre-convergence training iteration #4\n",
      "nlms MSE = 0.023329.\n",
      "\n",
      "\n",
      "dd-lms - training stage #1\n",
      "dd-lms MSE = 0.021993.\n",
      "Results:\n",
      "\n",
      "SER: 5.46e-03\n",
      "BER: 1.70e-03\n",
      "SNR: 16.72 dB\n",
      "MI: 3.98 bits\n",
      "GMI: 3.97 bits\n",
      "channel 0\t fc : 193.1000 THz\n",
      "  mode #0\t power: 0.00 dBm\n",
      "channel 0\t power: 0.00 dBm\n",
      "\n",
      "total WDM signal power: 0.00 dBm\n",
      "CSPR = 15.00 dB\n",
      "\n",
      "\n",
      "nlms - training stage #0\n"
     ]
    },
    {
     "data": {
      "application/vnd.jupyter.widget-view+json": {
       "model_id": "b0ff4c0a90f24ab4826d2b1028f53dfa",
       "version_major": 2,
       "version_minor": 0
      },
      "text/plain": [
       "  0%|          | 0/5 [00:00<?, ?it/s]"
      ]
     },
     "metadata": {},
     "output_type": "display_data"
    },
    {
     "name": "stdout",
     "output_type": "stream",
     "text": [
      "nlms pre-convergence training iteration #0\n",
      "nlms MSE = 0.029996.\n",
      "nlms pre-convergence training iteration #1\n",
      "nlms MSE = 0.027890.\n",
      "nlms pre-convergence training iteration #2\n",
      "nlms MSE = 0.025247.\n",
      "nlms pre-convergence training iteration #3\n",
      "nlms MSE = 0.023632.\n",
      "nlms pre-convergence training iteration #4\n",
      "nlms MSE = 0.022642.\n",
      "\n",
      "\n",
      "dd-lms - training stage #1\n",
      "dd-lms MSE = 0.017652.\n",
      "Results:\n",
      "\n",
      "SER: 1.36e-03\n",
      "BER: 3.97e-04\n",
      "SNR: 17.80 dB\n",
      "MI: 3.99 bits\n",
      "GMI: 3.99 bits\n",
      "channel 0\t fc : 193.1000 THz\n",
      "  mode #0\t power: 0.00 dBm\n",
      "channel 0\t power: -0.00 dBm\n",
      "\n",
      "total WDM signal power: -0.00 dBm\n",
      "CSPR = 15.00 dB\n",
      "\n",
      "\n",
      "nlms - training stage #0\n"
     ]
    },
    {
     "data": {
      "application/vnd.jupyter.widget-view+json": {
       "model_id": "3c874aa02b154a16a399d4ec68297392",
       "version_major": 2,
       "version_minor": 0
      },
      "text/plain": [
       "  0%|          | 0/5 [00:00<?, ?it/s]"
      ]
     },
     "metadata": {},
     "output_type": "display_data"
    },
    {
     "name": "stdout",
     "output_type": "stream",
     "text": [
      "nlms pre-convergence training iteration #0\n",
      "nlms MSE = 0.034534.\n",
      "nlms pre-convergence training iteration #1\n",
      "nlms MSE = 0.028344.\n",
      "nlms pre-convergence training iteration #2\n",
      "nlms MSE = 0.024772.\n",
      "nlms pre-convergence training iteration #3\n",
      "nlms MSE = 0.022673.\n",
      "nlms pre-convergence training iteration #4\n",
      "nlms MSE = 0.021431.\n",
      "\n",
      "\n",
      "dd-lms - training stage #1\n",
      "dd-lms MSE = 0.015265.\n",
      "Results:\n",
      "\n",
      "SER: 6.78e-04\n",
      "BER: 2.06e-04\n",
      "SNR: 18.28 dB\n",
      "MI: 4.00 bits\n",
      "GMI: 4.00 bits\n",
      "channel 0\t fc : 193.1000 THz\n",
      "  mode #0\t power: 0.00 dBm\n",
      "channel 0\t power: -0.00 dBm\n",
      "\n",
      "total WDM signal power: -0.00 dBm\n",
      "CSPR = 15.00 dB\n",
      "\n",
      "\n",
      "nlms - training stage #0\n"
     ]
    },
    {
     "data": {
      "application/vnd.jupyter.widget-view+json": {
       "model_id": "741173cbddff40c792cde4faeb46bdd6",
       "version_major": 2,
       "version_minor": 0
      },
      "text/plain": [
       "  0%|          | 0/5 [00:00<?, ?it/s]"
      ]
     },
     "metadata": {},
     "output_type": "display_data"
    },
    {
     "name": "stdout",
     "output_type": "stream",
     "text": [
      "nlms pre-convergence training iteration #0\n",
      "nlms MSE = 0.035054.\n",
      "nlms pre-convergence training iteration #1\n",
      "nlms MSE = 0.032180.\n",
      "nlms pre-convergence training iteration #2\n",
      "nlms MSE = 0.027985.\n",
      "nlms pre-convergence training iteration #3\n",
      "nlms MSE = 0.025651.\n",
      "nlms pre-convergence training iteration #4\n",
      "nlms MSE = 0.024334.\n",
      "\n",
      "\n",
      "dd-lms - training stage #1\n",
      "dd-lms MSE = 0.022219.\n",
      "Results:\n",
      "\n",
      "SER: 6.56e-03\n",
      "BER: 2.11e-03\n",
      "SNR: 16.75 dB\n",
      "MI: 3.97 bits\n",
      "GMI: 3.96 bits\n",
      "channel 0\t fc : 193.1000 THz\n",
      "  mode #0\t power: 0.00 dBm\n",
      "channel 0\t power: -0.00 dBm\n",
      "\n",
      "total WDM signal power: -0.00 dBm\n",
      "CSPR = 15.00 dB\n",
      "\n",
      "\n",
      "nlms - training stage #0\n"
     ]
    },
    {
     "data": {
      "application/vnd.jupyter.widget-view+json": {
       "model_id": "d3f23e88342143d89fc4bc7a1356d02c",
       "version_major": 2,
       "version_minor": 0
      },
      "text/plain": [
       "  0%|          | 0/5 [00:00<?, ?it/s]"
      ]
     },
     "metadata": {},
     "output_type": "display_data"
    },
    {
     "name": "stdout",
     "output_type": "stream",
     "text": [
      "nlms pre-convergence training iteration #0\n",
      "nlms MSE = 0.037356.\n",
      "nlms pre-convergence training iteration #1\n",
      "nlms MSE = 0.027572.\n",
      "nlms pre-convergence training iteration #2\n",
      "nlms MSE = 0.022800.\n",
      "nlms pre-convergence training iteration #3\n",
      "nlms MSE = 0.020377.\n",
      "nlms pre-convergence training iteration #4\n",
      "nlms MSE = 0.019120.\n",
      "\n",
      "\n",
      "dd-lms - training stage #1\n",
      "dd-lms MSE = 0.016149.\n",
      "Results:\n",
      "\n",
      "SER: 1.00e-03\n",
      "BER: 2.75e-04\n",
      "SNR: 18.11 dB\n",
      "MI: 3.99 bits\n",
      "GMI: 3.99 bits\n",
      "channel 0\t fc : 193.1000 THz\n",
      "  mode #0\t power: 0.00 dBm\n",
      "channel 0\t power: -0.00 dBm\n",
      "\n",
      "total WDM signal power: -0.00 dBm\n",
      "CSPR = 15.00 dB\n",
      "\n",
      "\n",
      "nlms - training stage #0\n"
     ]
    },
    {
     "data": {
      "application/vnd.jupyter.widget-view+json": {
       "model_id": "90b17e855a234777a86ea9cc9d47a103",
       "version_major": 2,
       "version_minor": 0
      },
      "text/plain": [
       "  0%|          | 0/5 [00:00<?, ?it/s]"
      ]
     },
     "metadata": {},
     "output_type": "display_data"
    },
    {
     "name": "stdout",
     "output_type": "stream",
     "text": [
      "nlms pre-convergence training iteration #0\n",
      "nlms MSE = 0.039474.\n",
      "nlms pre-convergence training iteration #1\n",
      "nlms MSE = 0.030827.\n",
      "nlms pre-convergence training iteration #2\n",
      "nlms MSE = 0.026162.\n",
      "nlms pre-convergence training iteration #3\n",
      "nlms MSE = 0.023978.\n",
      "nlms pre-convergence training iteration #4\n",
      "nlms MSE = 0.022912.\n",
      "\n",
      "\n",
      "dd-lms - training stage #1\n",
      "dd-lms MSE = 0.015762.\n",
      "Results:\n",
      "\n",
      "SER: 6.56e-04\n",
      "BER: 2.03e-04\n",
      "SNR: 18.16 dB\n",
      "MI: 4.00 bits\n",
      "GMI: 4.00 bits\n"
     ]
    }
   ],
   "source": [
    "# Um modelo foi escolhido para simulação, alterando apenas o parâmetro de rolloff mantendo FO de forma constante \n",
    "# conforme as configurações escolhidas no ínicio deste notebook.\n",
    "modelNN = tf.keras.models.load_model('NN_models/testModel_SpS_'+str(paramADC.SpS_out)+'_FO_1.7GHz_Rolloff_0.81')\n",
    "\n",
    "Rolloff = np.arange(0.01, 0.99, 0.1)\n",
    "\n",
    "BER_NN = np.zeros(Rolloff.size)\n",
    "SER_NN = np.zeros(Rolloff.size)\n",
    "GMI_NN = np.zeros(Rolloff.size)\n",
    "MI_NN  = np.zeros(Rolloff.size)\n",
    "SNR_NN = np.zeros(Rolloff.size)\n",
    "\n",
    "N = 256  # number of input amplitude samples to the NN\n",
    "\n",
    "for indROLL, ROLLOFF_ in enumerate(Rolloff):\n",
    "\n",
    "    paramTx.alphaRRC = ROLLOFF_\n",
    "    # generate optical signal signal\n",
    "    sigTx, symbTx_, paramTx = simpleWDMTx(paramTx)\n",
    "\n",
    "    # simulate linear signal propagation\n",
    "    sigCh = linFiberCh(sigTx, Ltotal, alpha, D, Fc, Fs)\n",
    "\n",
    "    # receiver detection and demodulation\n",
    "\n",
    "    Fc = paramTx.Fc\n",
    "    Ts = 1 / Fs\n",
    "    mod = QAMModem(m=paramTx.M)\n",
    "\n",
    "    freqGrid = paramTx.freqGrid\n",
    "\n",
    "    symbTx = symbTx_[:, :, chIndex]\n",
    "\n",
    "    #Plo_dBm = 9\n",
    "    Plo = 10 ** (Plo_dBm / 10) * 1e-3  # power in W\n",
    "\n",
    "#     print(\n",
    "#         \"Local oscillator P: %.2f dBm, lw: %.2f kHz, FO: %.2f MHz\"\n",
    "#         % (Plo_dBm, lw / 1e3, FO / 1e6)\n",
    "#     )\n",
    "\n",
    "    # generate LO field\n",
    "    π = np.pi\n",
    "    t = np.arange(0, len(sigCh))*Ts\n",
    "    ϕ_pn_lo = phaseNoise(lw, len(sigCh), Ts)\n",
    "\n",
    "    sigLO = np.sqrt(Plo) * np.exp(-1j * (2 * π * FO * t + ϕ_lo + ϕ_pn_lo))\n",
    "\n",
    "    # Add LO to the received signal\n",
    "    sigRx = np.sqrt(Plo) + sigCh * np.exp(1j *(2 * π * FO * t + ϕ_lo + ϕ_pn_lo))\n",
    "    sfm = sigRx.copy()\n",
    "\n",
    "    print('CSPR = %.2f dB' % (10*np.log10(signal_power(sigLO)/signal_power(sigCh))))\n",
    "\n",
    "    ### Phase-retrieval stage\n",
    "    sfm = sfm/np.sqrt(signal_power(sfm))\n",
    "\n",
    "    # simulate ideal direct-detection optical receiver\n",
    "    # get signal amplitude samples (L,)\n",
    "    sigAmp = np.pad(np.abs(sfm), (int(N/2), int(N/2)), 'constant')\n",
    "\n",
    "    # create set of input features\n",
    "    inputNN = np.zeros((len(sfm), N))  # (L,N)\n",
    "\n",
    "    for indPhase in range(len(sfm)):\n",
    "        inputNN[indPhase] = sigAmp[indPhase:N+indPhase]\n",
    "\n",
    "    phiTime_NN = modelNN.predict(inputNN)\n",
    "    phiTime_NN = phiTime_NN.reshape(-1,)\n",
    "\n",
    "    # optical field reconstruction\n",
    "    sigRx = np.abs(sfm)*np.exp(1j*phiTime_NN)\n",
    "\n",
    "    # remove DC level\n",
    "    sigRx -= np.mean(sigRx)  # np.sqrt(Plo)\n",
    "\n",
    "    # downshift to baseband\n",
    "    sigRx *= np.exp(-1j * (2 * π * FO * t))\n",
    "\n",
    "    #### Standard receiver processing\n",
    "\n",
    "    # Matched filtering and CD compensation\n",
    "\n",
    "    # Matched filtering\n",
    "    if paramTx.pulse == \"nrz\":\n",
    "        pulse = pulseShape(\"nrz\", paramTx.SpS)\n",
    "    elif paramTx.pulse == \"rrc\":\n",
    "        pulse = pulseShape(\"rrc\", paramTx.SpS, N=paramTx.Ntaps, alpha=paramTx.alphaRRC, Ts=1 / paramTx.Rs)\n",
    "\n",
    "    pulse = pulse / np.max(np.abs(pulse))\n",
    "    sigRx = firFilter(pulse, sigRx)\n",
    "\n",
    "#     # plot constellations after matched filtering\n",
    "#     pconst(sigRx[0::paramTx.SpS], lim=True, R=3)\n",
    "\n",
    "    # CD compensation\n",
    "    sigRx = edc(sigRx, Ltotal, D, Fc, Fs)\n",
    "\n",
    "    #plot constellations after CD compensation\n",
    "#     discard = 5000\n",
    "#     pconst(sigRx[discard:-discard:paramTx.SpS], lim=True, R=2)\n",
    "\n",
    "    # Downsampling to 2 sps and re-synchronization with transmitted sequences\n",
    "    sigRx = sigRx.reshape(-1, 1)\n",
    "\n",
    "#     # decimation\n",
    "#     paramDec = parameters()\n",
    "#     paramDec.SpS_in = paramTx.SpS\n",
    "#     paramDec.SpS_out = 2\n",
    "#     sigRx = decimate(sigRx, paramDec)\n",
    "\n",
    "#     symbRx = symbolSync(sigRx, symbTx, 2)\n",
    "\n",
    "    # Power normalization\n",
    "    x = sigRx\n",
    "    d = symbTx\n",
    "\n",
    "    x = x.reshape(len(x), 1) / np.sqrt(signal_power(x))\n",
    "    d = d.reshape(len(d), 1) / np.sqrt(signal_power(d))\n",
    "\n",
    "    # Adaptive equalization\n",
    "    mod = QAMModem(m=paramTx.M)\n",
    "\n",
    "    paramEq = parameters()\n",
    "    paramEq.nTaps = 7\n",
    "    paramEq.SpS = 4\n",
    "    paramEq.mu = [5e-3, 5e-3]\n",
    "    paramEq.numIter = 5\n",
    "    paramEq.storeCoeff = False\n",
    "    paramEq.alg = [\"nlms\", \"dd-lms\"]\n",
    "    paramEq.M = paramTx.M\n",
    "    paramEq.L = [20000, 80000]\n",
    "\n",
    "    y_EQ, H, errSq, Hiter = mimoAdaptEqualizer(x, dx=d, paramEq=paramEq)\n",
    "\n",
    "    #y_EQ = x[0::paramTx.SpS]\n",
    "\n",
    "    discard = int(paramEq.L[0]/2)\n",
    "\n",
    "    #plot constellations after adaptive equalization\n",
    "#     pconst(y_EQ[discard:-discard,:], lim=True)\n",
    "\n",
    "    # Carrier phase recovery\n",
    "    paramCPR = parameters()\n",
    "    paramCPR.alg = \"bps\"\n",
    "    paramCPR.M = paramTx.M\n",
    "    paramCPR.N = 35\n",
    "    paramCPR.B = 64\n",
    "    paramCPR.pilotInd = np.arange(0, len(y_EQ), 20)\n",
    "\n",
    "    y_CPR, θ = cpr(y_EQ, symbTx=d, paramCPR=paramCPR)\n",
    "\n",
    "    y_CPR = y_CPR / np.sqrt(signal_power(y_CPR))\n",
    "\n",
    "    discard = 5000\n",
    "\n",
    "    # plot constellations after CPR\n",
    "#     pconst(y_CPR[discard:-discard, :], lim=True)\n",
    "\n",
    "    #### Evaluate transmission metrics\n",
    "\n",
    "    # correct for (possible) phase ambiguity\n",
    "    for k in range(y_CPR.shape[1]):\n",
    "        rot = np.mean(d[:, k] / y_CPR[:, k])\n",
    "        y_CPR[:, k] = rot * y_CPR[:, k]\n",
    "\n",
    "    y_CPR = y_CPR / np.sqrt(signal_power(y_CPR))\n",
    "\n",
    "    ind = np.arange(discard, d.shape[0] - discard)\n",
    "    BER_NN[indROLL], SER_NN[indROLL], SNR_NN[indROLL] = fastBERcalc(y_CPR[ind, :], d[ind, :], mod)\n",
    "    GMI_NN[indROLL], _ = monteCarloGMI(y_CPR[ind, :], d[ind, :], mod)\n",
    "    MI_NN[indROLL] = monteCarloMI(y_CPR[ind, :], d[ind, :], mod)\n",
    "\n",
    "    print(\"Results:\\n\")\n",
    "    print(\"SER: %.2e\" % (SER_NN[indROLL]))\n",
    "    print(\"BER: %.2e\" % (BER_NN[indROLL]))\n",
    "    print(\"SNR: %.2f dB\" % (SNR_NN[indROLL]))\n",
    "    print(\"MI: %.2f bits\" % (MI_NN[indROLL]))\n",
    "    print(\"GMI: %.2f bits\" % (GMI_NN[indROLL]))\n"
   ]
  },
  {
   "cell_type": "markdown",
   "id": "cad5a3ed",
   "metadata": {},
   "source": [
    "### Comparison of KK vs NN algorithm curves"
   ]
  },
  {
   "cell_type": "code",
   "execution_count": 33,
   "id": "7a326da2",
   "metadata": {},
   "outputs": [
    {
     "name": "stderr",
     "output_type": "stream",
     "text": [
      "C:\\Users\\SILASJ~1\\AppData\\Local\\Temp/ipykernel_4364/355046439.py:4: RuntimeWarning: divide by zero encountered in log10\n",
      "  plt.plot(Rolloff, np.log10(BER_NN), '-o', label='Neural network')\n",
      "C:\\Users\\SILASJ~1\\AppData\\Local\\Temp/ipykernel_4364/355046439.py:5: RuntimeWarning: divide by zero encountered in log10\n",
      "  plt.plot(Rolloff, np.log10(BER_KK), '-x', label='KK Algorithm')\n"
     ]
    },
    {
     "data": {
      "image/png": "[encoded data removed]",
      "text/plain": [
       "<Figure size 1008x648 with 3 Axes>"
      ]
     },
     "metadata": {
      "needs_background": "light"
     },
     "output_type": "display_data"
    }
   ],
   "source": [
    "plt.figure(num=None, figsize=(14, 9))\n",
    "\n",
    "grafico1 = plt.subplot(2, 2, 1)\n",
    "plt.plot(Rolloff, np.log10(BER_NN), '-o', label='Neural network')\n",
    "plt.plot(Rolloff, np.log10(BER_KK), '-x', label='KK Algorithm')\n",
    "plt.xlabel('Rolloff factor RRC')\n",
    "plt.ylabel('log10(BER)')\n",
    "plt.grid()\n",
    "plt.legend()\n",
    "plt.title('$BER vs Rolloff$')\n",
    "\n",
    "grafico2 = plt.subplot(2, 2, 2, sharex=grafico1)\n",
    "plt.plot(Rolloff, SNR_NN, '-o', label='Neural network')\n",
    "plt.plot(Rolloff, SNR_KK, '-x', label='KK Algorithm')\n",
    "plt.xlabel('Rolloff factor RRC')\n",
    "plt.ylabel('SNR(db)')\n",
    "plt.grid()\n",
    "plt.legend()\n",
    "plt.title('$SNR vs Rolloff$')\n",
    "\n",
    "grafico3 = plt.subplot(2, 2, 3, sharex=grafico2)\n",
    "plt.plot(Rolloff, SER_NN, '-o', label='Neural network')\n",
    "plt.plot(Rolloff, SER_KK, '-x', label='KK Algorithm')\n",
    "plt.xlabel('Rolloff factor RRC')\n",
    "plt.ylabel('SER')\n",
    "plt.grid()\n",
    "plt.legend()\n",
    "plt.title('$SER vs Rolloff$')\n",
    "\n",
    "plt.tight_layout()"
   ]
  }
 ],
 "metadata": {
  "interpreter": {
   "hash": "9d5b6e03d6ac79a37ef7da211c0e283cea2ee331edb1c9b7aa89f897c687f1b0"
  },
  "jupytext": {
   "cell_metadata_filter": "-all",
   "encoding": "# -*- coding: utf-8 -*-",
   "formats": "ipynb,auto:light",
   "notebook_metadata_filter": "-all",
   "text_representation": {
    "extension": ".py",
    "format_name": "light"
   }
  },
  "kernelspec": {
   "display_name": "Python 3.9.9 64-bit (system)",
   "language": "python",
   "name": "python3"
  },
  "language_info": {
   "codemirror_mode": {
    "name": "ipython",
    "version": 3
   },
   "file_extension": ".py",
   "mimetype": "text/x-python",
   "name": "python",
   "nbconvert_exporter": "python",
   "pygments_lexer": "ipython3",
   "version": "3.9.9"
  }
 },
 "nbformat": 4,
 "nbformat_minor": 5
}
