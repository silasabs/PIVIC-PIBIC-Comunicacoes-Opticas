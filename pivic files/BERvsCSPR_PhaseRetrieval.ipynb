{
 "cells": [
  {
   "cell_type": "code",
   "execution_count": 1,
   "metadata": {},
   "outputs": [],
   "source": [
    "import matplotlib.pyplot as plt\n",
    "import numpy as np\n",
    "\n",
    "from commpy.modulation import QAMModem\n",
    "\n",
    "from optic.dsp import pulseShape, firFilter, decimate, symbolSync, resample\n",
    "from optic.models import phaseNoise, KramersKronigRx, linFiberCh\n",
    "\n",
    "from optic.tx import simpleWDMTx\n",
    "from optic.core import parameters\n",
    "from optic.equalization import edc, mimoAdaptEqualizer\n",
    "from optic.carrierRecovery import cpr\n",
    "from optic.metrics import fastBERcalc, monteCarloGMI, monteCarloMI, signal_power\n",
    "from optic.plot import pconst\n",
    "\n",
    "import scipy.constants as const\n",
    "\n",
    "from tensorflow.keras.layers import Dense, Dropout, BatchNormalization\n",
    "from tensorflow.keras.models import Sequential\n",
    "from tensorflow.keras.callbacks import EarlyStopping\n",
    "import tensorflow as tf"
   ]
  },
  {
   "cell_type": "markdown",
   "metadata": {},
   "source": [
    "### Simulation of a single polarization optical signal transmission"
   ]
  },
  {
   "cell_type": "code",
   "execution_count": 2,
   "metadata": {},
   "outputs": [],
   "source": [
    "## Transmitter parameters:\n",
    "paramTx = parameters()\n",
    "paramTx.M = 64                 # order of the modulation format\n",
    "paramTx.Rs = 32e9              # symbol rate [baud]\n",
    "paramTx.SpS = 4                # samples per symbol\n",
    "paramTx.Nbits = 600000         # total number of bits per polarization\n",
    "paramTx.pulse = \"rrc\"          # pulse shaping filter\n",
    "paramTx.Ntaps = 1024           # number of pulse shaping filter coefficients\n",
    "paramTx.alphaRRC = 0.11        # RRC rolloff\n",
    "paramTx.Pch_dBm = 0            # power of the optical signal [dBm]\n",
    "paramTx.Nch = 1                # number of WDM channels\n",
    "paramTx.Fc = 193.1e12          # central frequency of the optical spectrum\n",
    "paramTx.freqSpac = 37.5e9      # WDM grid spacing\n",
    "\n",
    "## Optical channel parameters:\n",
    "Ltotal = 50      # total link distance [km]\n",
    "alpha = 0        # fiber loss parameter [dB/km]\n",
    "D = 16          # fiber dispersion parameter [ps/nm/km]\n",
    "Fc = paramTx.Fc  # central optical frequency of the WDM spectrum [Hz]\n",
    "\n",
    "## Receiver parameters:\n",
    "\n",
    "# local oscillator (LO)\n",
    "FO = 5e9 + paramTx.Rs/2  # frequency offset\n",
    "lw = 0*200e3       # linewidth\n",
    "ϕ_lo = 0           # initial phase in rad\n",
    "#Plo_dBm = 12        # power in dBm\n",
    "\n",
    "# ADC sampling rate\n",
    "paramADC = parameters()\n",
    "paramADC.Rs = paramTx.Rs\n",
    "paramADC.SpS_in = paramTx.SpS\n",
    "paramADC.SpS_out = 4\n",
    "\n",
    "## General simulation parameters:\n",
    "chIndex = 0  # index of the channel to be demodulated\n",
    "plotPSD = True\n",
    "Fs = paramTx.Rs * paramTx.SpS  # simulation sampling rate"
   ]
  },
  {
   "cell_type": "code",
   "execution_count": 3,
   "metadata": {},
   "outputs": [],
   "source": [
    "plt.rcParams['font.size'] = 20\n",
    "plt.rcParams['lines.linewidth'] = 6\n",
    "plt.rcParams['text.usetex'] = False\n",
    "\n",
    "plt.style.use('science')"
   ]
  },
  {
   "cell_type": "code",
   "execution_count": 4,
   "metadata": {},
   "outputs": [
    {
     "name": "stdout",
     "output_type": "stream",
     "text": [
      "channel 0\t fc : 193.1000 THz\n",
      "  mode #0\t power: 0.00 dBm\n",
      "channel 0\t power: -0.00 dBm\n",
      "\n",
      "total WDM dignal power: -0.00 dBm\n",
      "Demodulating channel #0 , fc: 193.1000 THz, λ: 1552.5244 nm\n",
      "\n",
      "Local oscillator P: 3.00 dBm, lw: 0.00 kHz, FO: 21000.00 MHz\n",
      "CSPR = 3.00 dB\n",
      "\n",
      "\n",
      "nlms - training stage #0\n"
     ]
    },
    {
     "data": {
      "application/vnd.jupyter.widget-view+json": {
       "model_id": "2065d5cd740b48f7a6564e28794f8eb5",
       "version_major": 2,
       "version_minor": 0
      },
      "text/plain": [
       "  0%|          | 0/5 [00:00<?, ?it/s]"
      ]
     },
     "metadata": {},
     "output_type": "display_data"
    },
    {
     "name": "stdout",
     "output_type": "stream",
     "text": [
      "nlms pre-convergence training iteration #0\n",
      "nlms MSE = 0.100992.\n",
      "nlms pre-convergence training iteration #1\n",
      "nlms MSE = 0.083178.\n",
      "nlms pre-convergence training iteration #2\n",
      "nlms MSE = 0.082443.\n",
      "nlms pre-convergence training iteration #3\n",
      "nlms MSE = 0.082052.\n",
      "nlms pre-convergence training iteration #4\n",
      "nlms MSE = 0.081800.\n",
      "\n",
      "\n",
      "dd-lms - training stage #1\n",
      "dd-lms MSE = 0.015949.\n",
      "Results:\n",
      "\n",
      "SER: 9.81e-01\n",
      "BER: 4.78e-01\n",
      "SNR: 0.18 dB\n",
      "MI: -0.14 bits\n",
      "GMI: -0.05 bits\n",
      "channel 0\t fc : 193.1000 THz\n",
      "  mode #0\t power: 0.00 dBm\n",
      "channel 0\t power: 0.00 dBm\n",
      "\n",
      "total WDM dignal power: 0.00 dBm\n",
      "Demodulating channel #0 , fc: 193.1000 THz, λ: 1552.5244 nm\n",
      "\n",
      "Local oscillator P: 3.50 dBm, lw: 0.00 kHz, FO: 21000.00 MHz\n",
      "CSPR = 3.50 dB\n",
      "\n",
      "\n",
      "nlms - training stage #0\n"
     ]
    },
    {
     "data": {
      "application/vnd.jupyter.widget-view+json": {
       "model_id": "4a386682e212471191092039c87924c5",
       "version_major": 2,
       "version_minor": 0
      },
      "text/plain": [
       "  0%|          | 0/5 [00:00<?, ?it/s]"
      ]
     },
     "metadata": {},
     "output_type": "display_data"
    },
    {
     "name": "stdout",
     "output_type": "stream",
     "text": [
      "nlms pre-convergence training iteration #0\n",
      "nlms MSE = 0.087755.\n",
      "nlms pre-convergence training iteration #1\n",
      "nlms MSE = 0.070429.\n",
      "nlms pre-convergence training iteration #2\n",
      "nlms MSE = 0.069720.\n",
      "nlms pre-convergence training iteration #3\n",
      "nlms MSE = 0.069349.\n",
      "nlms pre-convergence training iteration #4\n",
      "nlms MSE = 0.069116.\n",
      "\n",
      "\n",
      "dd-lms - training stage #1\n",
      "dd-lms MSE = 0.016013.\n",
      "Results:\n",
      "\n",
      "SER: 9.80e-01\n",
      "BER: 4.76e-01\n",
      "SNR: 0.23 dB\n",
      "MI: -0.12 bits\n",
      "GMI: -0.04 bits\n",
      "channel 0\t fc : 193.1000 THz\n",
      "  mode #0\t power: 0.00 dBm\n",
      "channel 0\t power: 0.00 dBm\n",
      "\n",
      "total WDM dignal power: 0.00 dBm\n",
      "Demodulating channel #0 , fc: 193.1000 THz, λ: 1552.5244 nm\n",
      "\n",
      "Local oscillator P: 4.00 dBm, lw: 0.00 kHz, FO: 21000.00 MHz\n",
      "CSPR = 4.00 dB\n",
      "\n",
      "\n",
      "nlms - training stage #0\n"
     ]
    },
    {
     "data": {
      "application/vnd.jupyter.widget-view+json": {
       "model_id": "22b6794b5d434b709691dc6f69ecc229",
       "version_major": 2,
       "version_minor": 0
      },
      "text/plain": [
       "  0%|          | 0/5 [00:00<?, ?it/s]"
      ]
     },
     "metadata": {},
     "output_type": "display_data"
    },
    {
     "name": "stdout",
     "output_type": "stream",
     "text": [
      "nlms pre-convergence training iteration #0\n",
      "nlms MSE = 0.076286.\n",
      "nlms pre-convergence training iteration #1\n",
      "nlms MSE = 0.058856.\n",
      "nlms pre-convergence training iteration #2\n",
      "nlms MSE = 0.058186.\n",
      "nlms pre-convergence training iteration #3\n",
      "nlms MSE = 0.057834.\n",
      "nlms pre-convergence training iteration #4\n",
      "nlms MSE = 0.057612.\n",
      "\n",
      "\n",
      "dd-lms - training stage #1\n",
      "dd-lms MSE = 0.016064.\n",
      "Results:\n",
      "\n",
      "SER: 9.78e-01\n",
      "BER: 4.72e-01\n",
      "SNR: 0.24 dB\n",
      "MI: -0.10 bits\n",
      "GMI: -0.04 bits\n",
      "channel 0\t fc : 193.1000 THz\n",
      "  mode #0\t power: 0.00 dBm\n",
      "channel 0\t power: -0.00 dBm\n",
      "\n",
      "total WDM dignal power: -0.00 dBm\n",
      "Demodulating channel #0 , fc: 193.1000 THz, λ: 1552.5244 nm\n",
      "\n",
      "Local oscillator P: 4.50 dBm, lw: 0.00 kHz, FO: 21000.00 MHz\n",
      "CSPR = 4.50 dB\n",
      "\n",
      "\n",
      "nlms - training stage #0\n"
     ]
    },
    {
     "data": {
      "application/vnd.jupyter.widget-view+json": {
       "model_id": "133d5e442b88451bab1429724d335dcc",
       "version_major": 2,
       "version_minor": 0
      },
      "text/plain": [
       "  0%|          | 0/5 [00:00<?, ?it/s]"
      ]
     },
     "metadata": {},
     "output_type": "display_data"
    },
    {
     "name": "stdout",
     "output_type": "stream",
     "text": [
      "nlms pre-convergence training iteration #0\n",
      "nlms MSE = 0.067257.\n",
      "nlms pre-convergence training iteration #1\n",
      "nlms MSE = 0.049889.\n",
      "nlms pre-convergence training iteration #2\n",
      "nlms MSE = 0.049283.\n",
      "nlms pre-convergence training iteration #3\n",
      "nlms MSE = 0.048969.\n",
      "nlms pre-convergence training iteration #4\n",
      "nlms MSE = 0.048774.\n",
      "\n",
      "\n",
      "dd-lms - training stage #1\n",
      "dd-lms MSE = 0.015785.\n",
      "Results:\n",
      "\n",
      "SER: 9.72e-01\n",
      "BER: 4.46e-01\n",
      "SNR: 0.81 dB\n",
      "MI: 0.13 bits\n",
      "GMI: 0.12 bits\n",
      "channel 0\t fc : 193.1000 THz\n",
      "  mode #0\t power: 0.00 dBm\n",
      "channel 0\t power: 0.00 dBm\n",
      "\n",
      "total WDM dignal power: 0.00 dBm\n",
      "Demodulating channel #0 , fc: 193.1000 THz, λ: 1552.5244 nm\n",
      "\n",
      "Local oscillator P: 5.00 dBm, lw: 0.00 kHz, FO: 21000.00 MHz\n",
      "CSPR = 5.00 dB\n",
      "\n",
      "\n",
      "nlms - training stage #0\n"
     ]
    },
    {
     "data": {
      "application/vnd.jupyter.widget-view+json": {
       "model_id": "1a4ef4c006e34fe68c78a3b8bb133810",
       "version_major": 2,
       "version_minor": 0
      },
      "text/plain": [
       "  0%|          | 0/5 [00:00<?, ?it/s]"
      ]
     },
     "metadata": {},
     "output_type": "display_data"
    },
    {
     "name": "stdout",
     "output_type": "stream",
     "text": [
      "nlms pre-convergence training iteration #0\n",
      "nlms MSE = 0.057668.\n",
      "nlms pre-convergence training iteration #1\n",
      "nlms MSE = 0.040455.\n",
      "nlms pre-convergence training iteration #2\n",
      "nlms MSE = 0.039901.\n",
      "nlms pre-convergence training iteration #3\n",
      "nlms MSE = 0.039617.\n",
      "nlms pre-convergence training iteration #4\n",
      "nlms MSE = 0.039442.\n",
      "\n",
      "\n",
      "dd-lms - training stage #1\n",
      "dd-lms MSE = 0.015047.\n",
      "Results:\n",
      "\n",
      "SER: 6.62e-01\n",
      "BER: 1.73e-01\n",
      "SNR: 4.89 dB\n",
      "MI: 1.46 bits\n",
      "GMI: 1.72 bits\n",
      "channel 0\t fc : 193.1000 THz\n",
      "  mode #0\t power: 0.00 dBm\n",
      "channel 0\t power: 0.00 dBm\n",
      "\n",
      "total WDM dignal power: 0.00 dBm\n",
      "Demodulating channel #0 , fc: 193.1000 THz, λ: 1552.5244 nm\n",
      "\n",
      "Local oscillator P: 5.50 dBm, lw: 0.00 kHz, FO: 21000.00 MHz\n",
      "CSPR = 5.50 dB\n",
      "\n",
      "\n",
      "nlms - training stage #0\n"
     ]
    },
    {
     "data": {
      "application/vnd.jupyter.widget-view+json": {
       "model_id": "3021af6bcb6c4072a0d693a0622f8f19",
       "version_major": 2,
       "version_minor": 0
      },
      "text/plain": [
       "  0%|          | 0/5 [00:00<?, ?it/s]"
      ]
     },
     "metadata": {},
     "output_type": "display_data"
    },
    {
     "name": "stdout",
     "output_type": "stream",
     "text": [
      "nlms pre-convergence training iteration #0\n",
      "nlms MSE = 0.052616.\n",
      "nlms pre-convergence training iteration #1\n",
      "nlms MSE = 0.034892.\n",
      "nlms pre-convergence training iteration #2\n",
      "nlms MSE = 0.034355.\n",
      "nlms pre-convergence training iteration #3\n",
      "nlms MSE = 0.034087.\n",
      "nlms pre-convergence training iteration #4\n",
      "nlms MSE = 0.033925.\n",
      "\n",
      "\n",
      "dd-lms - training stage #1\n",
      "dd-lms MSE = 0.014098.\n",
      "Results:\n",
      "\n",
      "SER: 9.76e-01\n",
      "BER: 4.44e-01\n",
      "SNR: 0.81 dB\n",
      "MI: 0.14 bits\n",
      "GMI: 0.11 bits\n",
      "channel 0\t fc : 193.1000 THz\n",
      "  mode #0\t power: 0.00 dBm\n",
      "channel 0\t power: 0.00 dBm\n",
      "\n",
      "total WDM dignal power: 0.00 dBm\n",
      "Demodulating channel #0 , fc: 193.1000 THz, λ: 1552.5244 nm\n",
      "\n",
      "Local oscillator P: 6.00 dBm, lw: 0.00 kHz, FO: 21000.00 MHz\n",
      "CSPR = 6.00 dB\n",
      "\n",
      "\n",
      "nlms - training stage #0\n"
     ]
    },
    {
     "data": {
      "application/vnd.jupyter.widget-view+json": {
       "model_id": "51dda95848a14b41a6c1f3a9572b9db4",
       "version_major": 2,
       "version_minor": 0
      },
      "text/plain": [
       "  0%|          | 0/5 [00:00<?, ?it/s]"
      ]
     },
     "metadata": {},
     "output_type": "display_data"
    },
    {
     "name": "stdout",
     "output_type": "stream",
     "text": [
      "nlms pre-convergence training iteration #0\n",
      "nlms MSE = 0.045736.\n",
      "nlms pre-convergence training iteration #1\n",
      "nlms MSE = 0.027833.\n",
      "nlms pre-convergence training iteration #2\n",
      "nlms MSE = 0.027319.\n",
      "nlms pre-convergence training iteration #3\n",
      "nlms MSE = 0.027054.\n",
      "nlms pre-convergence training iteration #4\n",
      "nlms MSE = 0.026890.\n",
      "\n",
      "\n",
      "dd-lms - training stage #1\n",
      "dd-lms MSE = 0.012997.\n",
      "Results:\n",
      "\n",
      "SER: 2.26e-01\n",
      "BER: 4.51e-02\n",
      "SNR: 15.41 dB\n",
      "MI: 4.74 bits\n",
      "GMI: 4.75 bits\n",
      "channel 0\t fc : 193.1000 THz\n",
      "  mode #0\t power: 0.00 dBm\n",
      "channel 0\t power: 0.00 dBm\n",
      "\n",
      "total WDM dignal power: 0.00 dBm\n",
      "Demodulating channel #0 , fc: 193.1000 THz, λ: 1552.5244 nm\n",
      "\n",
      "Local oscillator P: 6.50 dBm, lw: 0.00 kHz, FO: 21000.00 MHz\n",
      "CSPR = 6.50 dB\n",
      "\n",
      "\n",
      "nlms - training stage #0\n"
     ]
    },
    {
     "data": {
      "application/vnd.jupyter.widget-view+json": {
       "model_id": "e88171af434943f196816814e5d9d48b",
       "version_major": 2,
       "version_minor": 0
      },
      "text/plain": [
       "  0%|          | 0/5 [00:00<?, ?it/s]"
      ]
     },
     "metadata": {},
     "output_type": "display_data"
    },
    {
     "name": "stdout",
     "output_type": "stream",
     "text": [
      "nlms pre-convergence training iteration #0\n",
      "nlms MSE = 0.040182.\n",
      "nlms pre-convergence training iteration #1\n",
      "nlms MSE = 0.022660.\n",
      "nlms pre-convergence training iteration #2\n",
      "nlms MSE = 0.022109.\n",
      "nlms pre-convergence training iteration #3\n",
      "nlms MSE = 0.021822.\n",
      "nlms pre-convergence training iteration #4\n",
      "nlms MSE = 0.021646.\n",
      "\n",
      "\n",
      "dd-lms - training stage #1\n",
      "dd-lms MSE = 0.011641.\n",
      "Results:\n",
      "\n",
      "SER: 1.73e-01\n",
      "BER: 3.38e-02\n",
      "SNR: 16.52 dB\n",
      "MI: 5.00 bits\n",
      "GMI: 5.01 bits\n",
      "channel 0\t fc : 193.1000 THz\n",
      "  mode #0\t power: 0.00 dBm\n",
      "channel 0\t power: -0.00 dBm\n",
      "\n",
      "total WDM dignal power: -0.00 dBm\n",
      "Demodulating channel #0 , fc: 193.1000 THz, λ: 1552.5244 nm\n",
      "\n",
      "Local oscillator P: 7.00 dBm, lw: 0.00 kHz, FO: 21000.00 MHz\n",
      "CSPR = 7.00 dB\n",
      "\n",
      "\n",
      "nlms - training stage #0\n"
     ]
    },
    {
     "data": {
      "application/vnd.jupyter.widget-view+json": {
       "model_id": "ea81a0af49554ff2abb68d239215af0e",
       "version_major": 2,
       "version_minor": 0
      },
      "text/plain": [
       "  0%|          | 0/5 [00:00<?, ?it/s]"
      ]
     },
     "metadata": {},
     "output_type": "display_data"
    },
    {
     "name": "stdout",
     "output_type": "stream",
     "text": [
      "nlms pre-convergence training iteration #0\n",
      "nlms MSE = 0.036245.\n",
      "nlms pre-convergence training iteration #1\n",
      "nlms MSE = 0.018846.\n",
      "nlms pre-convergence training iteration #2\n",
      "nlms MSE = 0.018325.\n",
      "nlms pre-convergence training iteration #3\n",
      "nlms MSE = 0.018051.\n",
      "nlms pre-convergence training iteration #4\n",
      "nlms MSE = 0.017882.\n",
      "\n",
      "\n",
      "dd-lms - training stage #1\n",
      "dd-lms MSE = 0.010202.\n",
      "Results:\n",
      "\n",
      "SER: 1.31e-01\n",
      "BER: 2.49e-02\n",
      "SNR: 17.53 dB\n",
      "MI: 5.20 bits\n",
      "GMI: 5.21 bits\n",
      "channel 0\t fc : 193.1000 THz\n",
      "  mode #0\t power: 0.00 dBm\n",
      "channel 0\t power: -0.00 dBm\n",
      "\n",
      "total WDM dignal power: -0.00 dBm\n",
      "Demodulating channel #0 , fc: 193.1000 THz, λ: 1552.5244 nm\n",
      "\n",
      "Local oscillator P: 7.50 dBm, lw: 0.00 kHz, FO: 21000.00 MHz\n",
      "CSPR = 7.50 dB\n",
      "\n",
      "\n",
      "nlms - training stage #0\n"
     ]
    },
    {
     "data": {
      "application/vnd.jupyter.widget-view+json": {
       "model_id": "cff872e0b80546c4bc735d6944d5748a",
       "version_major": 2,
       "version_minor": 0
      },
      "text/plain": [
       "  0%|          | 0/5 [00:00<?, ?it/s]"
      ]
     },
     "metadata": {},
     "output_type": "display_data"
    },
    {
     "name": "stdout",
     "output_type": "stream",
     "text": [
      "nlms pre-convergence training iteration #0\n",
      "nlms MSE = 0.031827.\n",
      "nlms pre-convergence training iteration #1\n",
      "nlms MSE = 0.014722.\n",
      "nlms pre-convergence training iteration #2\n",
      "nlms MSE = 0.014218.\n",
      "nlms pre-convergence training iteration #3\n",
      "nlms MSE = 0.013955.\n",
      "nlms pre-convergence training iteration #4\n",
      "nlms MSE = 0.013793.\n",
      "\n",
      "\n",
      "dd-lms - training stage #1\n",
      "dd-lms MSE = 0.008904.\n",
      "Results:\n",
      "\n",
      "SER: 9.67e-02\n",
      "BER: 1.83e-02\n",
      "SNR: 18.50 dB\n",
      "MI: 5.34 bits\n",
      "GMI: 5.35 bits\n",
      "channel 0\t fc : 193.1000 THz\n",
      "  mode #0\t power: 0.00 dBm\n",
      "channel 0\t power: 0.00 dBm\n",
      "\n",
      "total WDM dignal power: 0.00 dBm\n",
      "Demodulating channel #0 , fc: 193.1000 THz, λ: 1552.5244 nm\n",
      "\n",
      "Local oscillator P: 8.00 dBm, lw: 0.00 kHz, FO: 21000.00 MHz\n",
      "CSPR = 8.00 dB\n",
      "\n",
      "\n",
      "nlms - training stage #0\n"
     ]
    },
    {
     "data": {
      "application/vnd.jupyter.widget-view+json": {
       "model_id": "eac465b0e2ce4e17a6641de42bbd5394",
       "version_major": 2,
       "version_minor": 0
      },
      "text/plain": [
       "  0%|          | 0/5 [00:00<?, ?it/s]"
      ]
     },
     "metadata": {},
     "output_type": "display_data"
    },
    {
     "name": "stdout",
     "output_type": "stream",
     "text": [
      "nlms pre-convergence training iteration #0\n",
      "nlms MSE = 0.028854.\n",
      "nlms pre-convergence training iteration #1\n",
      "nlms MSE = 0.011625.\n",
      "nlms pre-convergence training iteration #2\n",
      "nlms MSE = 0.011162.\n",
      "nlms pre-convergence training iteration #3\n",
      "nlms MSE = 0.010918.\n",
      "nlms pre-convergence training iteration #4\n",
      "nlms MSE = 0.010769.\n",
      "\n",
      "\n",
      "dd-lms - training stage #1\n",
      "dd-lms MSE = 0.007480.\n",
      "Results:\n",
      "\n",
      "SER: 6.79e-02\n",
      "BER: 1.26e-02\n",
      "SNR: 19.74 dB\n",
      "MI: 5.51 bits\n",
      "GMI: 5.51 bits\n",
      "channel 0\t fc : 193.1000 THz\n",
      "  mode #0\t power: 0.00 dBm\n",
      "channel 0\t power: -0.00 dBm\n",
      "\n",
      "total WDM dignal power: -0.00 dBm\n",
      "Demodulating channel #0 , fc: 193.1000 THz, λ: 1552.5244 nm\n",
      "\n",
      "Local oscillator P: 8.50 dBm, lw: 0.00 kHz, FO: 21000.00 MHz\n",
      "CSPR = 8.50 dB\n",
      "\n",
      "\n",
      "nlms - training stage #0\n"
     ]
    },
    {
     "data": {
      "application/vnd.jupyter.widget-view+json": {
       "model_id": "3cdc3af0e96c4bd48a674eae1c48da7b",
       "version_major": 2,
       "version_minor": 0
      },
      "text/plain": [
       "  0%|          | 0/5 [00:00<?, ?it/s]"
      ]
     },
     "metadata": {},
     "output_type": "display_data"
    },
    {
     "name": "stdout",
     "output_type": "stream",
     "text": [
      "nlms pre-convergence training iteration #0\n",
      "nlms MSE = 0.026480.\n",
      "nlms pre-convergence training iteration #1\n",
      "nlms MSE = 0.009350.\n",
      "nlms pre-convergence training iteration #2\n",
      "nlms MSE = 0.008865.\n",
      "nlms pre-convergence training iteration #3\n",
      "nlms MSE = 0.008612.\n",
      "nlms pre-convergence training iteration #4\n",
      "nlms MSE = 0.008458.\n",
      "\n",
      "\n",
      "dd-lms - training stage #1\n",
      "dd-lms MSE = 0.006486.\n",
      "Results:\n",
      "\n",
      "SER: 4.89e-02\n",
      "BER: 8.98e-03\n",
      "SNR: 20.67 dB\n",
      "MI: 5.61 bits\n",
      "GMI: 5.61 bits\n",
      "channel 0\t fc : 193.1000 THz\n",
      "  mode #0\t power: 0.00 dBm\n",
      "channel 0\t power: -0.00 dBm\n",
      "\n",
      "total WDM dignal power: -0.00 dBm\n",
      "Demodulating channel #0 , fc: 193.1000 THz, λ: 1552.5244 nm\n",
      "\n",
      "Local oscillator P: 9.00 dBm, lw: 0.00 kHz, FO: 21000.00 MHz\n",
      "CSPR = 9.00 dB\n",
      "\n",
      "\n",
      "nlms - training stage #0\n"
     ]
    },
    {
     "data": {
      "application/vnd.jupyter.widget-view+json": {
       "model_id": "c425efbebf6348be8937dee992f7a36b",
       "version_major": 2,
       "version_minor": 0
      },
      "text/plain": [
       "  0%|          | 0/5 [00:00<?, ?it/s]"
      ]
     },
     "metadata": {},
     "output_type": "display_data"
    },
    {
     "name": "stdout",
     "output_type": "stream",
     "text": [
      "nlms pre-convergence training iteration #0\n",
      "nlms MSE = 0.025078.\n",
      "nlms pre-convergence training iteration #1\n",
      "nlms MSE = 0.007591.\n",
      "nlms pre-convergence training iteration #2\n",
      "nlms MSE = 0.007103.\n",
      "nlms pre-convergence training iteration #3\n",
      "nlms MSE = 0.006844.\n",
      "nlms pre-convergence training iteration #4\n",
      "nlms MSE = 0.006685.\n",
      "\n",
      "\n",
      "dd-lms - training stage #1\n",
      "dd-lms MSE = 0.005233.\n",
      "Results:\n",
      "\n",
      "SER: 3.15e-02\n",
      "BER: 5.66e-03\n",
      "SNR: 21.92 dB\n",
      "MI: 5.72 bits\n",
      "GMI: 5.72 bits\n",
      "channel 0\t fc : 193.1000 THz\n",
      "  mode #0\t power: 0.00 dBm\n",
      "channel 0\t power: -0.00 dBm\n",
      "\n",
      "total WDM dignal power: -0.00 dBm\n",
      "Demodulating channel #0 , fc: 193.1000 THz, λ: 1552.5244 nm\n",
      "\n",
      "Local oscillator P: 9.50 dBm, lw: 0.00 kHz, FO: 21000.00 MHz\n",
      "CSPR = 9.50 dB\n",
      "\n",
      "\n",
      "nlms - training stage #0\n"
     ]
    },
    {
     "data": {
      "application/vnd.jupyter.widget-view+json": {
       "model_id": "c1f343e36c6d4c849d24f8e5b1c49ae0",
       "version_major": 2,
       "version_minor": 0
      },
      "text/plain": [
       "  0%|          | 0/5 [00:00<?, ?it/s]"
      ]
     },
     "metadata": {},
     "output_type": "display_data"
    },
    {
     "name": "stdout",
     "output_type": "stream",
     "text": [
      "nlms pre-convergence training iteration #0\n",
      "nlms MSE = 0.024005.\n",
      "nlms pre-convergence training iteration #1\n",
      "nlms MSE = 0.006548.\n",
      "nlms pre-convergence training iteration #2\n",
      "nlms MSE = 0.006079.\n",
      "nlms pre-convergence training iteration #3\n",
      "nlms MSE = 0.005836.\n",
      "nlms pre-convergence training iteration #4\n",
      "nlms MSE = 0.005688.\n",
      "\n",
      "\n",
      "dd-lms - training stage #1\n",
      "dd-lms MSE = 0.004300.\n",
      "Results:\n",
      "\n",
      "SER: 1.95e-02\n",
      "BER: 3.46e-03\n",
      "SNR: 22.99 dB\n",
      "MI: 5.79 bits\n",
      "GMI: 5.80 bits\n",
      "channel 0\t fc : 193.1000 THz\n",
      "  mode #0\t power: 0.00 dBm\n",
      "channel 0\t power: -0.00 dBm\n",
      "\n",
      "total WDM dignal power: -0.00 dBm\n",
      "Demodulating channel #0 , fc: 193.1000 THz, λ: 1552.5244 nm\n",
      "\n",
      "Local oscillator P: 10.00 dBm, lw: 0.00 kHz, FO: 21000.00 MHz\n",
      "CSPR = 10.00 dB\n",
      "\n",
      "\n",
      "nlms - training stage #0\n"
     ]
    },
    {
     "data": {
      "application/vnd.jupyter.widget-view+json": {
       "model_id": "b0dea811021b44c988e88eaea3999045",
       "version_major": 2,
       "version_minor": 0
      },
      "text/plain": [
       "  0%|          | 0/5 [00:00<?, ?it/s]"
      ]
     },
     "metadata": {},
     "output_type": "display_data"
    },
    {
     "name": "stdout",
     "output_type": "stream",
     "text": [
      "nlms pre-convergence training iteration #0\n",
      "nlms MSE = 0.022487.\n",
      "nlms pre-convergence training iteration #1\n",
      "nlms MSE = 0.005185.\n",
      "nlms pre-convergence training iteration #2\n",
      "nlms MSE = 0.004700.\n",
      "nlms pre-convergence training iteration #3\n",
      "nlms MSE = 0.004442.\n",
      "nlms pre-convergence training iteration #4\n",
      "nlms MSE = 0.004284.\n",
      "\n",
      "\n",
      "dd-lms - training stage #1\n",
      "dd-lms MSE = 0.003611.\n",
      "Results:\n",
      "\n",
      "SER: 1.34e-02\n",
      "BER: 2.42e-03\n",
      "SNR: 23.88 dB\n",
      "MI: 5.83 bits\n",
      "GMI: 5.83 bits\n",
      "channel 0\t fc : 193.1000 THz\n",
      "  mode #0\t power: 0.00 dBm\n",
      "channel 0\t power: -0.00 dBm\n",
      "\n",
      "total WDM dignal power: -0.00 dBm\n",
      "Demodulating channel #0 , fc: 193.1000 THz, λ: 1552.5244 nm\n",
      "\n",
      "Local oscillator P: 10.50 dBm, lw: 0.00 kHz, FO: 21000.00 MHz\n",
      "CSPR = 10.50 dB\n",
      "\n",
      "\n",
      "nlms - training stage #0\n"
     ]
    },
    {
     "data": {
      "application/vnd.jupyter.widget-view+json": {
       "model_id": "12ea178502fd4a6e92f52cae21459cec",
       "version_major": 2,
       "version_minor": 0
      },
      "text/plain": [
       "  0%|          | 0/5 [00:00<?, ?it/s]"
      ]
     },
     "metadata": {},
     "output_type": "display_data"
    },
    {
     "name": "stdout",
     "output_type": "stream",
     "text": [
      "nlms pre-convergence training iteration #0\n",
      "nlms MSE = 0.021686.\n",
      "nlms pre-convergence training iteration #1\n",
      "nlms MSE = 0.004459.\n",
      "nlms pre-convergence training iteration #2\n",
      "nlms MSE = 0.003982.\n",
      "nlms pre-convergence training iteration #3\n",
      "nlms MSE = 0.003731.\n",
      "nlms pre-convergence training iteration #4\n",
      "nlms MSE = 0.003577.\n",
      "\n",
      "\n",
      "dd-lms - training stage #1\n",
      "dd-lms MSE = 0.002966.\n",
      "Results:\n",
      "\n",
      "SER: 8.63e-03\n",
      "BER: 1.53e-03\n",
      "SNR: 24.85 dB\n",
      "MI: 5.88 bits\n",
      "GMI: 5.88 bits\n",
      "channel 0\t fc : 193.1000 THz\n",
      "  mode #0\t power: 0.00 dBm\n",
      "channel 0\t power: 0.00 dBm\n",
      "\n",
      "total WDM dignal power: 0.00 dBm\n",
      "Demodulating channel #0 , fc: 193.1000 THz, λ: 1552.5244 nm\n",
      "\n",
      "Local oscillator P: 11.00 dBm, lw: 0.00 kHz, FO: 21000.00 MHz\n",
      "CSPR = 11.00 dB\n",
      "\n",
      "\n",
      "nlms - training stage #0\n"
     ]
    },
    {
     "data": {
      "application/vnd.jupyter.widget-view+json": {
       "model_id": "1d940e37fb8b40c9a1b5b68e8169386c",
       "version_major": 2,
       "version_minor": 0
      },
      "text/plain": [
       "  0%|          | 0/5 [00:00<?, ?it/s]"
      ]
     },
     "metadata": {},
     "output_type": "display_data"
    },
    {
     "name": "stdout",
     "output_type": "stream",
     "text": [
      "nlms pre-convergence training iteration #0\n",
      "nlms MSE = 0.020799.\n",
      "nlms pre-convergence training iteration #1\n",
      "nlms MSE = 0.003721.\n",
      "nlms pre-convergence training iteration #2\n",
      "nlms MSE = 0.003268.\n",
      "nlms pre-convergence training iteration #3\n",
      "nlms MSE = 0.003027.\n",
      "nlms pre-convergence training iteration #4\n",
      "nlms MSE = 0.002879.\n",
      "\n",
      "\n",
      "dd-lms - training stage #1\n",
      "dd-lms MSE = 0.002391.\n",
      "Results:\n",
      "\n",
      "SER: 4.32e-03\n",
      "BER: 7.44e-04\n",
      "SNR: 25.98 dB\n",
      "MI: 5.94 bits\n",
      "GMI: 5.94 bits\n",
      "channel 0\t fc : 193.1000 THz\n",
      "  mode #0\t power: 0.00 dBm\n",
      "channel 0\t power: -0.00 dBm\n",
      "\n",
      "total WDM dignal power: -0.00 dBm\n",
      "Demodulating channel #0 , fc: 193.1000 THz, λ: 1552.5244 nm\n",
      "\n",
      "Local oscillator P: 11.50 dBm, lw: 0.00 kHz, FO: 21000.00 MHz\n",
      "CSPR = 11.50 dB\n",
      "\n",
      "\n",
      "nlms - training stage #0\n"
     ]
    },
    {
     "data": {
      "application/vnd.jupyter.widget-view+json": {
       "model_id": "bdbb6b9c22db4e83a0c470d9f591311f",
       "version_major": 2,
       "version_minor": 0
      },
      "text/plain": [
       "  0%|          | 0/5 [00:00<?, ?it/s]"
      ]
     },
     "metadata": {},
     "output_type": "display_data"
    },
    {
     "name": "stdout",
     "output_type": "stream",
     "text": [
      "nlms pre-convergence training iteration #0\n",
      "nlms MSE = 0.021124.\n",
      "nlms pre-convergence training iteration #1\n",
      "nlms MSE = 0.003327.\n",
      "nlms pre-convergence training iteration #2\n",
      "nlms MSE = 0.002863.\n",
      "nlms pre-convergence training iteration #3\n",
      "nlms MSE = 0.002614.\n",
      "nlms pre-convergence training iteration #4\n",
      "nlms MSE = 0.002460.\n",
      "\n",
      "\n",
      "dd-lms - training stage #1\n",
      "dd-lms MSE = 0.001999.\n",
      "Results:\n",
      "\n",
      "SER: 2.71e-03\n",
      "BER: 4.65e-04\n",
      "SNR: 26.84 dB\n",
      "MI: 5.96 bits\n",
      "GMI: 5.96 bits\n",
      "channel 0\t fc : 193.1000 THz\n",
      "  mode #0\t power: 0.00 dBm\n",
      "channel 0\t power: -0.00 dBm\n",
      "\n",
      "total WDM dignal power: -0.00 dBm\n",
      "Demodulating channel #0 , fc: 193.1000 THz, λ: 1552.5244 nm\n",
      "\n",
      "Local oscillator P: 12.00 dBm, lw: 0.00 kHz, FO: 21000.00 MHz\n",
      "CSPR = 12.00 dB\n",
      "\n",
      "\n",
      "nlms - training stage #0\n"
     ]
    },
    {
     "data": {
      "application/vnd.jupyter.widget-view+json": {
       "model_id": "7d99653871574ce0b4d1d49016913e75",
       "version_major": 2,
       "version_minor": 0
      },
      "text/plain": [
       "  0%|          | 0/5 [00:00<?, ?it/s]"
      ]
     },
     "metadata": {},
     "output_type": "display_data"
    },
    {
     "name": "stdout",
     "output_type": "stream",
     "text": [
      "nlms pre-convergence training iteration #0\n",
      "nlms MSE = 0.019932.\n",
      "nlms pre-convergence training iteration #1\n",
      "nlms MSE = 0.003052.\n",
      "nlms pre-convergence training iteration #2\n",
      "nlms MSE = 0.002593.\n",
      "nlms pre-convergence training iteration #3\n",
      "nlms MSE = 0.002348.\n",
      "nlms pre-convergence training iteration #4\n",
      "nlms MSE = 0.002196.\n",
      "\n",
      "\n",
      "dd-lms - training stage #1\n",
      "dd-lms MSE = 0.001647.\n",
      "Results:\n",
      "\n",
      "SER: 1.42e-03\n",
      "BER: 2.39e-04\n",
      "SNR: 27.69 dB\n",
      "MI: 5.97 bits\n",
      "GMI: 5.97 bits\n",
      "channel 0\t fc : 193.1000 THz\n",
      "  mode #0\t power: 0.00 dBm\n",
      "channel 0\t power: -0.00 dBm\n",
      "\n",
      "total WDM dignal power: -0.00 dBm\n",
      "Demodulating channel #0 , fc: 193.1000 THz, λ: 1552.5244 nm\n",
      "\n",
      "Local oscillator P: 12.50 dBm, lw: 0.00 kHz, FO: 21000.00 MHz\n",
      "CSPR = 12.50 dB\n",
      "\n",
      "\n",
      "nlms - training stage #0\n"
     ]
    },
    {
     "data": {
      "application/vnd.jupyter.widget-view+json": {
       "model_id": "ad8329809c544073854771ee99d6ccbc",
       "version_major": 2,
       "version_minor": 0
      },
      "text/plain": [
       "  0%|          | 0/5 [00:00<?, ?it/s]"
      ]
     },
     "metadata": {},
     "output_type": "display_data"
    },
    {
     "name": "stdout",
     "output_type": "stream",
     "text": [
      "nlms pre-convergence training iteration #0\n",
      "nlms MSE = 0.020208.\n",
      "nlms pre-convergence training iteration #1\n",
      "nlms MSE = 0.002919.\n",
      "nlms pre-convergence training iteration #2\n",
      "nlms MSE = 0.002461.\n",
      "nlms pre-convergence training iteration #3\n",
      "nlms MSE = 0.002217.\n",
      "nlms pre-convergence training iteration #4\n",
      "nlms MSE = 0.002066.\n",
      "\n",
      "\n",
      "dd-lms - training stage #1\n",
      "dd-lms MSE = 0.001336.\n",
      "Results:\n",
      "\n",
      "SER: 5.78e-04\n",
      "BER: 9.63e-05\n",
      "SNR: 28.57 dB\n",
      "MI: 5.99 bits\n",
      "GMI: 5.99 bits\n",
      "channel 0\t fc : 193.1000 THz\n",
      "  mode #0\t power: 0.00 dBm\n",
      "channel 0\t power: -0.00 dBm\n",
      "\n",
      "total WDM dignal power: -0.00 dBm\n",
      "Demodulating channel #0 , fc: 193.1000 THz, λ: 1552.5244 nm\n",
      "\n",
      "Local oscillator P: 13.00 dBm, lw: 0.00 kHz, FO: 21000.00 MHz\n",
      "CSPR = 13.00 dB\n",
      "\n",
      "\n",
      "nlms - training stage #0\n"
     ]
    },
    {
     "data": {
      "application/vnd.jupyter.widget-view+json": {
       "model_id": "9248b84bb02f4b0d8854da41b433ff55",
       "version_major": 2,
       "version_minor": 0
      },
      "text/plain": [
       "  0%|          | 0/5 [00:00<?, ?it/s]"
      ]
     },
     "metadata": {},
     "output_type": "display_data"
    },
    {
     "name": "stdout",
     "output_type": "stream",
     "text": [
      "nlms pre-convergence training iteration #0\n",
      "nlms MSE = 0.019722.\n",
      "nlms pre-convergence training iteration #1\n",
      "nlms MSE = 0.002451.\n",
      "nlms pre-convergence training iteration #2\n",
      "nlms MSE = 0.001979.\n",
      "nlms pre-convergence training iteration #3\n",
      "nlms MSE = 0.001729.\n",
      "nlms pre-convergence training iteration #4\n",
      "nlms MSE = 0.001574.\n",
      "\n",
      "\n",
      "dd-lms - training stage #1\n",
      "dd-lms MSE = 0.001126.\n",
      "Results:\n",
      "\n",
      "SER: 3.78e-04\n",
      "BER: 6.48e-05\n",
      "SNR: 29.30 dB\n",
      "MI: 5.99 bits\n",
      "GMI: 5.99 bits\n",
      "channel 0\t fc : 193.1000 THz\n",
      "  mode #0\t power: 0.00 dBm\n",
      "channel 0\t power: -0.00 dBm\n",
      "\n",
      "total WDM dignal power: -0.00 dBm\n",
      "Demodulating channel #0 , fc: 193.1000 THz, λ: 1552.5244 nm\n",
      "\n",
      "Local oscillator P: 13.50 dBm, lw: 0.00 kHz, FO: 21000.00 MHz\n",
      "CSPR = 13.50 dB\n",
      "\n",
      "\n",
      "nlms - training stage #0\n"
     ]
    },
    {
     "data": {
      "application/vnd.jupyter.widget-view+json": {
       "model_id": "968982f8f6ba4b079805800eaef91650",
       "version_major": 2,
       "version_minor": 0
      },
      "text/plain": [
       "  0%|          | 0/5 [00:00<?, ?it/s]"
      ]
     },
     "metadata": {},
     "output_type": "display_data"
    },
    {
     "name": "stdout",
     "output_type": "stream",
     "text": [
      "nlms pre-convergence training iteration #0\n",
      "nlms MSE = 0.020083.\n",
      "nlms pre-convergence training iteration #1\n",
      "nlms MSE = 0.002643.\n",
      "nlms pre-convergence training iteration #2\n",
      "nlms MSE = 0.002174.\n",
      "nlms pre-convergence training iteration #3\n",
      "nlms MSE = 0.001926.\n",
      "nlms pre-convergence training iteration #4\n",
      "nlms MSE = 0.001773.\n",
      "\n",
      "\n",
      "dd-lms - training stage #1\n",
      "dd-lms MSE = 0.000990.\n",
      "Results:\n",
      "\n",
      "SER: 1.56e-04\n",
      "BER: 2.59e-05\n",
      "SNR: 30.00 dB\n",
      "MI: 6.00 bits\n",
      "GMI: 6.00 bits\n",
      "channel 0\t fc : 193.1000 THz\n",
      "  mode #0\t power: 0.00 dBm\n",
      "channel 0\t power: 0.00 dBm\n",
      "\n",
      "total WDM dignal power: 0.00 dBm\n",
      "Demodulating channel #0 , fc: 193.1000 THz, λ: 1552.5244 nm\n",
      "\n",
      "Local oscillator P: 14.00 dBm, lw: 0.00 kHz, FO: 21000.00 MHz\n",
      "CSPR = 14.00 dB\n",
      "\n",
      "\n",
      "nlms - training stage #0\n"
     ]
    },
    {
     "data": {
      "application/vnd.jupyter.widget-view+json": {
       "model_id": "43c5b4f9bf1e4f7f963ca14bd8d7d6dc",
       "version_major": 2,
       "version_minor": 0
      },
      "text/plain": [
       "  0%|          | 0/5 [00:00<?, ?it/s]"
      ]
     },
     "metadata": {},
     "output_type": "display_data"
    },
    {
     "name": "stdout",
     "output_type": "stream",
     "text": [
      "nlms pre-convergence training iteration #0\n",
      "nlms MSE = 0.019515.\n",
      "nlms pre-convergence training iteration #1\n",
      "nlms MSE = 0.002247.\n",
      "nlms pre-convergence training iteration #2\n",
      "nlms MSE = 0.001790.\n",
      "nlms pre-convergence training iteration #3\n",
      "nlms MSE = 0.001549.\n",
      "nlms pre-convergence training iteration #4\n",
      "nlms MSE = 0.001401.\n",
      "\n",
      "\n",
      "dd-lms - training stage #1\n",
      "dd-lms MSE = 0.000815.\n",
      "Results:\n",
      "\n",
      "SER: 8.89e-05\n",
      "BER: 1.48e-05\n",
      "SNR: 30.64 dB\n",
      "MI: 6.00 bits\n",
      "GMI: 6.00 bits\n",
      "channel 0\t fc : 193.1000 THz\n",
      "  mode #0\t power: 0.00 dBm\n",
      "channel 0\t power: -0.00 dBm\n",
      "\n",
      "total WDM dignal power: -0.00 dBm\n",
      "Demodulating channel #0 , fc: 193.1000 THz, λ: 1552.5244 nm\n",
      "\n",
      "Local oscillator P: 14.50 dBm, lw: 0.00 kHz, FO: 21000.00 MHz\n",
      "CSPR = 14.50 dB\n",
      "\n",
      "\n",
      "nlms - training stage #0\n"
     ]
    },
    {
     "data": {
      "application/vnd.jupyter.widget-view+json": {
       "model_id": "253627bf4a384d4ead4a9059585e778b",
       "version_major": 2,
       "version_minor": 0
      },
      "text/plain": [
       "  0%|          | 0/5 [00:00<?, ?it/s]"
      ]
     },
     "metadata": {},
     "output_type": "display_data"
    },
    {
     "name": "stdout",
     "output_type": "stream",
     "text": [
      "nlms pre-convergence training iteration #0\n",
      "nlms MSE = 0.020014.\n",
      "nlms pre-convergence training iteration #1\n",
      "nlms MSE = 0.002343.\n",
      "nlms pre-convergence training iteration #2\n",
      "nlms MSE = 0.001873.\n",
      "nlms pre-convergence training iteration #3\n",
      "nlms MSE = 0.001626.\n",
      "nlms pre-convergence training iteration #4\n",
      "nlms MSE = 0.001475.\n",
      "\n",
      "\n",
      "dd-lms - training stage #1\n",
      "dd-lms MSE = 0.000700.\n",
      "Results:\n",
      "\n",
      "SER: 2.22e-05\n",
      "BER: 3.70e-06\n",
      "SNR: 31.28 dB\n",
      "MI: 6.00 bits\n",
      "GMI: 6.00 bits\n",
      "channel 0\t fc : 193.1000 THz\n",
      "  mode #0\t power: 0.00 dBm\n",
      "channel 0\t power: -0.00 dBm\n",
      "\n",
      "total WDM dignal power: -0.00 dBm\n",
      "Demodulating channel #0 , fc: 193.1000 THz, λ: 1552.5244 nm\n",
      "\n",
      "Local oscillator P: 15.00 dBm, lw: 0.00 kHz, FO: 21000.00 MHz\n",
      "CSPR = 15.00 dB\n",
      "\n",
      "\n",
      "nlms - training stage #0\n"
     ]
    },
    {
     "data": {
      "application/vnd.jupyter.widget-view+json": {
       "model_id": "1e51e3491d4945e29b397b778e54914f",
       "version_major": 2,
       "version_minor": 0
      },
      "text/plain": [
       "  0%|          | 0/5 [00:00<?, ?it/s]"
      ]
     },
     "metadata": {},
     "output_type": "display_data"
    },
    {
     "name": "stdout",
     "output_type": "stream",
     "text": [
      "nlms pre-convergence training iteration #0\n",
      "nlms MSE = 0.019736.\n",
      "nlms pre-convergence training iteration #1\n",
      "nlms MSE = 0.002372.\n",
      "nlms pre-convergence training iteration #2\n",
      "nlms MSE = 0.001903.\n",
      "nlms pre-convergence training iteration #3\n",
      "nlms MSE = 0.001653.\n",
      "nlms pre-convergence training iteration #4\n",
      "nlms MSE = 0.001499.\n",
      "\n",
      "\n",
      "dd-lms - training stage #1\n",
      "dd-lms MSE = 0.000625.\n",
      "Results:\n",
      "\n",
      "SER: 2.22e-05\n",
      "BER: 3.70e-06\n",
      "SNR: 31.79 dB\n",
      "MI: 6.00 bits\n",
      "GMI: 6.00 bits\n",
      "channel 0\t fc : 193.1000 THz\n",
      "  mode #0\t power: 0.00 dBm\n",
      "channel 0\t power: 0.00 dBm\n",
      "\n",
      "total WDM dignal power: 0.00 dBm\n",
      "Demodulating channel #0 , fc: 193.1000 THz, λ: 1552.5244 nm\n",
      "\n",
      "Local oscillator P: 15.50 dBm, lw: 0.00 kHz, FO: 21000.00 MHz\n",
      "CSPR = 15.50 dB\n",
      "\n",
      "\n",
      "nlms - training stage #0\n"
     ]
    },
    {
     "data": {
      "application/vnd.jupyter.widget-view+json": {
       "model_id": "455459d44a8c46199c09b3189dc339fc",
       "version_major": 2,
       "version_minor": 0
      },
      "text/plain": [
       "  0%|          | 0/5 [00:00<?, ?it/s]"
      ]
     },
     "metadata": {},
     "output_type": "display_data"
    },
    {
     "name": "stdout",
     "output_type": "stream",
     "text": [
      "nlms pre-convergence training iteration #0\n",
      "nlms MSE = 0.019738.\n",
      "nlms pre-convergence training iteration #1\n",
      "nlms MSE = 0.002309.\n",
      "nlms pre-convergence training iteration #2\n",
      "nlms MSE = 0.001852.\n",
      "nlms pre-convergence training iteration #3\n",
      "nlms MSE = 0.001612.\n",
      "nlms pre-convergence training iteration #4\n",
      "nlms MSE = 0.001464.\n",
      "\n",
      "\n",
      "dd-lms - training stage #1\n",
      "dd-lms MSE = 0.000548.\n",
      "Results:\n",
      "\n",
      "SER: 0.00e+00\n",
      "BER: 0.00e+00\n",
      "SNR: 32.28 dB\n",
      "MI: 6.00 bits\n",
      "GMI: 6.00 bits\n"
     ]
    }
   ],
   "source": [
    "CSPR = np.arange(3, 16, 0.5)\n",
    "\n",
    "BER_KK = np.zeros(CSPR.size)\n",
    "SER_KK = np.zeros(CSPR.size)\n",
    "GMI_KK = np.zeros(CSPR.size)\n",
    "MI_KK  = np.zeros(CSPR.size)\n",
    "SNR_KK = np.zeros(CSPR.size)\n",
    "\n",
    "for indCSPR, CSPR_ in enumerate(CSPR):\n",
    "\n",
    "    # generate optical signal signal\n",
    "    sigTx, symbTx_, paramTx = simpleWDMTx(paramTx)\n",
    "\n",
    "    # simulate linear signal propagation\n",
    "    sigCh = linFiberCh(sigTx, Ltotal, alpha, D, Fc, Fs)\n",
    "\n",
    "    # receiver detection and demodulation\n",
    "    Fc = paramTx.Fc\n",
    "    Ts = 1 / Fs\n",
    "    mod = QAMModem(m=paramTx.M)\n",
    "\n",
    "    freqGrid = paramTx.freqGrid\n",
    "    print(\n",
    "        \"Demodulating channel #%d , fc: %.4f THz, λ: %.4f nm\\n\"\n",
    "        % (\n",
    "            chIndex,\n",
    "            (Fc + freqGrid[chIndex]) / 1e12,\n",
    "            const.c / (Fc + freqGrid[chIndex]) / 1e-9,\n",
    "        )\n",
    "    )\n",
    "\n",
    "    symbTx = symbTx_[:, :, chIndex]\n",
    "\n",
    "    Plo_dBm = CSPR_\n",
    "    Plo = 10 ** (Plo_dBm / 10) * 1e-3  # power in W\n",
    "\n",
    "    print(\n",
    "        \"Local oscillator P: %.2f dBm, lw: %.2f kHz, FO: %.2f MHz\"\n",
    "        % (Plo_dBm, lw / 1e3, FO / 1e6)\n",
    "    )\n",
    "\n",
    "    # generate LO field\n",
    "    π = np.pi\n",
    "    t = np.arange(0, len(sigCh))*Ts\n",
    "    ϕ_pn_lo = phaseNoise(lw, len(sigCh), Ts)\n",
    "\n",
    "    sigLO = np.sqrt(Plo) * np.exp(-1j * (2 * π * FO * t + ϕ_lo + ϕ_pn_lo))\n",
    "\n",
    "    # Add LO to the received signal\n",
    "    sigRx = np.sqrt(Plo) + sigCh * np.exp(1j * (2 * π * FO * t + ϕ_lo + ϕ_pn_lo))\n",
    "    sfm = sigRx.copy()\n",
    "\n",
    "    print('CSPR = %.2f dB' % (10*np.log10(signal_power(sigLO)/signal_power(sigCh))))\n",
    "\n",
    "    # ### Phase-retrieval stage\n",
    "\n",
    "    # In[4]:\n",
    "\n",
    "    # resampling to ADC sampling rate\n",
    "    sigCh = resample(sigCh, paramADC)\n",
    "    sfm = resample(sfm, paramADC)\n",
    "    newFs = paramADC.SpS_out*paramTx.Rs\n",
    "\n",
    "    # simulate ideal direct-detection optical receiver\n",
    "    Amp = np.abs(sigRx)\n",
    "    Amp = resample(Amp, paramADC)\n",
    "\n",
    "    # Kramers-Kronig phase-retrieval\n",
    "    phiTime = KramersKronigRx(Amp, newFs)\n",
    "\n",
    "    # optical field reconstruction\n",
    "    sigRx = Amp*np.exp(1j*phiTime)\n",
    "\n",
    "    # remove DC level\n",
    "    sigRx -= np.sqrt(Plo)  # np.mean(sigRx)\n",
    "\n",
    "    # downshift to baseband\n",
    "    t = np.arange(0, len(sigRx))*(1/newFs)\n",
    "    sigRx *= np.exp(-1j * (2 * π * FO * t))\n",
    "\n",
    "    # correct for (possible) phase ambiguity\n",
    "    rot = np.mean(sigCh/sigRx)\n",
    "    sigRx = rot * sigRx\n",
    "    sigRx = sigRx / np.sqrt(signal_power(sigRx))\n",
    "\n",
    "    # #### Standard receiver processing\n",
    "\n",
    "    # In[5]:\n",
    "\n",
    "    # resample to 2 samples/symbol:\n",
    "    paramRes = parameters()\n",
    "    paramRes.Rs = paramTx.Rs\n",
    "    paramRes.SpS_in = paramADC.SpS_out\n",
    "    paramRes.SpS_out = 2\n",
    "\n",
    "    sigRx = resample(sigRx, paramRes)\n",
    "\n",
    "    # Matched filtering and CD compensation\n",
    "\n",
    "    # Matched filtering\n",
    "    if paramTx.pulse == \"nrz\":\n",
    "        pulse = pulseShape(\"nrz\", paramADC.SpS_out)\n",
    "    elif paramTx.pulse == \"rrc\":\n",
    "        pulse = pulseShape(\n",
    "            \"rrc\", paramRes.SpS_out, N=paramTx.Ntaps, alpha=paramTx.alphaRRC, Ts=1 / paramTx.Rs\n",
    "        )\n",
    "\n",
    "    pulse = pulse / np.max(np.abs(pulse))\n",
    "    sigRx = firFilter(pulse, sigRx)\n",
    "\n",
    "    # plot constellations after matched filtering\n",
    "    #pconst(sigRx[0::paramRes.SpS_out], lim=True, R=3)\n",
    "\n",
    "    # CD compensation\n",
    "    sigRx = edc(sigRx, Ltotal, D, Fc, paramRes.SpS_out*paramTx.Rs)\n",
    "\n",
    "    #plot constellations after CD compensation\n",
    "    #pconst(sigRx[0::paramRes.SpS_out], lim=True, R=2)\n",
    "\n",
    "    # Downsampling to 2 sps and re-synchronization with transmitted sequences\n",
    "    sigRx = sigRx.reshape(-1, 1)\n",
    "\n",
    "    symbRx = symbolSync(sigRx, symbTx, 2)\n",
    "\n",
    "    # In[6]:\n",
    "\n",
    "    # Power normalization\n",
    "    x = sigRx\n",
    "    d = symbRx\n",
    "\n",
    "    x = x.reshape(len(x), 1) / np.sqrt(signal_power(x))\n",
    "    d = d.reshape(len(d), 1) / np.sqrt(signal_power(d))\n",
    "\n",
    "    # Adaptive equalization\n",
    "    mod = QAMModem(m=paramTx.M)\n",
    "\n",
    "    paramEq = parameters()\n",
    "    paramEq.nTaps = 15\n",
    "    paramEq.SpS = 2\n",
    "    paramEq.mu = [5e-3, 2e-3]\n",
    "    paramEq.numIter = 5\n",
    "    paramEq.storeCoeff = False\n",
    "    paramEq.alg = [\"nlms\", \"dd-lms\"]\n",
    "    paramEq.M = paramTx.M\n",
    "    paramEq.L = [20000, 80000]\n",
    "\n",
    "    y_EQ, H, errSq, Hiter = mimoAdaptEqualizer(x, dx=d, paramEq=paramEq)\n",
    "\n",
    "    discard = int(paramEq.L[0]/2)\n",
    "\n",
    "    #plot constellations after adaptive equalization\n",
    "    #pconst(y_EQ[discard:-discard, :], lim=True)\n",
    "\n",
    "    # In[7]:\n",
    "\n",
    "    # Carrier phase recovery\n",
    "    paramCPR = parameters()\n",
    "    paramCPR.alg = \"bps\"\n",
    "    paramCPR.M = paramTx.M\n",
    "    paramCPR.N = 75\n",
    "    paramCPR.B = 64\n",
    "    paramCPR.pilotInd = np.arange(0, len(y_EQ), 20)\n",
    "\n",
    "    y_CPR, θ = cpr(y_EQ, symbTx=d, paramCPR=paramCPR)\n",
    "\n",
    "    y_CPR = y_CPR / np.sqrt(signal_power(y_CPR))\n",
    "\n",
    "    discard = 5000\n",
    "\n",
    "    # plot constellations after CPR\n",
    "    #pconst(y_CPR[discard:-discard, :], lim=True)\n",
    "\n",
    "    # #### Evaluate transmission metrics\n",
    "\n",
    "    # In[8]:\n",
    "\n",
    "    # correct for (possible) phase ambiguity\n",
    "    for k in range(y_CPR.shape[1]):\n",
    "        rot = np.mean(d[:, k] / y_CPR[:, k])\n",
    "        y_CPR[:, k] = rot * y_CPR[:, k]\n",
    "\n",
    "    y_CPR = y_CPR / np.sqrt(signal_power(y_CPR))\n",
    "\n",
    "    ind = np.arange(discard, d.shape[0] - discard)\n",
    "    BER_KK[indCSPR], SER_KK[indCSPR], SNR_KK[indCSPR] = fastBERcalc(y_CPR[ind, :], d[ind, :], mod)\n",
    "    GMI_KK[indCSPR], _ = monteCarloGMI(y_CPR[ind, :], d[ind, :], mod)\n",
    "    MI_KK[indCSPR] = monteCarloMI(y_CPR[ind, :], d[ind, :], mod)\n",
    "\n",
    "    print(\"Results:\\n\")\n",
    "    print(\"SER: %.2e\" % (SER_KK[indCSPR]))\n",
    "    print(\"BER: %.2e\" % (BER_KK[indCSPR]))\n",
    "    print(\"SNR: %.2f dB\" % (SNR_KK[indCSPR]))\n",
    "    print(\"MI: %.2f bits\" % (MI_KK[indCSPR]))\n",
    "    print(\"GMI: %.2f bits\" % (GMI_KK[indCSPR]))"
   ]
  },
  {
   "cell_type": "code",
   "execution_count": 8,
   "metadata": {},
   "outputs": [
    {
     "name": "stderr",
     "output_type": "stream",
     "text": [
      "C:\\Users\\Silas\\AppData\\Local\\Temp\\ipykernel_6564\\1057418893.py:4: RuntimeWarning: divide by zero encountered in log10\n",
      "  plt.plot(CSPR, np.log10(BER_KK), '-o', label='KK Algorithm')\n",
      "C:\\Users\\Silas\\AppData\\Local\\Temp\\ipykernel_6564\\1057418893.py:20: RuntimeWarning: divide by zero encountered in log10\n",
      "  plt.plot(CSPR, np.log10(SER_KK), '-o', label='KK Algorithm')\n"
     ]
    },
    {
     "data": {
      "image/png": "[encoded data removed]",
      "text/plain": [
       "<Figure size 1400x900 with 3 Axes>"
      ]
     },
     "metadata": {},
     "output_type": "display_data"
    }
   ],
   "source": [
    "plt.figure(num=None, figsize=(14, 9))\n",
    "\n",
    "grafico1 = plt.subplot(2, 2, 1)\n",
    "plt.plot(CSPR, np.log10(BER_KK), '-o', label='KK Algorithm')\n",
    "plt.xlabel('$FO (frequency offset)$')\n",
    "plt.ylabel('$log10(BER)$')\n",
    "plt.grid()\n",
    "plt.legend()\n",
    "plt.title('$BER vs FO$')\n",
    "\n",
    "grafico2 = plt.subplot(2, 2, 2, sharex=grafico1)\n",
    "plt.plot(CSPR, SNR_KK, '-o', label='KK Algorithm')\n",
    "plt.xlabel('$FO (frequency offset)$')\n",
    "plt.ylabel('$SNR(db)$')\n",
    "plt.grid()\n",
    "plt.legend()\n",
    "plt.title('$SNR vs FO$')\n",
    "\n",
    "grafico3 = plt.subplot(2, 2, 3, sharex=grafico2)\n",
    "plt.plot(CSPR, np.log10(SER_KK), '-o', label='KK Algorithm')\n",
    "plt.xlabel('$FO (frequency offset)$')\n",
    "plt.ylabel('$SER$')\n",
    "plt.grid()\n",
    "plt.legend()\n",
    "plt.title('$SER vs FO$')\n",
    "\n",
    "plt.tight_layout()"
   ]
  },
  {
   "cell_type": "code",
   "execution_count": 6,
   "metadata": {},
   "outputs": [
    {
     "name": "stdout",
     "output_type": "stream",
     "text": [
      "channel 0\t fc : 193.1000 THz\n",
      "  mode #0\t power: 0.00 dBm\n",
      "channel 0\t power: 0.00 dBm\n",
      "\n",
      "total WDM dignal power: 0.00 dBm\n",
      "Demodulating channel #0 , fc: 193.1000 THz, λ: 1552.5244 nm\n",
      "\n",
      "Local oscillator P: 3.00 dBm, lw: 0.00 kHz, FO: 21000.00 MHz\n",
      "CSPR = 3.00 dB\n",
      "\n",
      "\n",
      "nlms - training stage #0\n"
     ]
    },
    {
     "data": {
      "application/vnd.jupyter.widget-view+json": {
       "model_id": "31fea0f7765b44e7972d94ee4044905f",
       "version_major": 2,
       "version_minor": 0
      },
      "text/plain": [
       "  0%|          | 0/5 [00:00<?, ?it/s]"
      ]
     },
     "metadata": {},
     "output_type": "display_data"
    },
    {
     "name": "stdout",
     "output_type": "stream",
     "text": [
      "nlms pre-convergence training iteration #0\n",
      "nlms MSE = 0.067910.\n",
      "nlms pre-convergence training iteration #1\n",
      "nlms MSE = 0.051016.\n",
      "nlms pre-convergence training iteration #2\n",
      "nlms MSE = 0.050387.\n",
      "nlms pre-convergence training iteration #3\n",
      "nlms MSE = 0.050055.\n",
      "nlms pre-convergence training iteration #4\n",
      "nlms MSE = 0.049847.\n",
      "\n",
      "\n",
      "dd-lms - training stage #1\n",
      "dd-lms MSE = 0.013707.\n",
      "Results:\n",
      "\n",
      "SER: 3.79e-01\n",
      "BER: 8.40e-02\n",
      "SNR: 12.57 dB\n",
      "MI: 3.86 bits\n",
      "GMI: 3.93 bits\n",
      "channel 0\t fc : 193.1000 THz\n",
      "  mode #0\t power: 0.00 dBm\n",
      "channel 0\t power: 0.00 dBm\n",
      "\n",
      "total WDM dignal power: 0.00 dBm\n",
      "Demodulating channel #0 , fc: 193.1000 THz, λ: 1552.5244 nm\n",
      "\n",
      "Local oscillator P: 3.50 dBm, lw: 0.00 kHz, FO: 21000.00 MHz\n",
      "CSPR = 3.50 dB\n",
      "\n",
      "\n",
      "nlms - training stage #0\n"
     ]
    },
    {
     "data": {
      "application/vnd.jupyter.widget-view+json": {
       "model_id": "a06232c6c6d64480897485af40eeace3",
       "version_major": 2,
       "version_minor": 0
      },
      "text/plain": [
       "  0%|          | 0/5 [00:00<?, ?it/s]"
      ]
     },
     "metadata": {},
     "output_type": "display_data"
    },
    {
     "name": "stdout",
     "output_type": "stream",
     "text": [
      "nlms pre-convergence training iteration #0\n",
      "nlms MSE = 0.057222.\n",
      "nlms pre-convergence training iteration #1\n",
      "nlms MSE = 0.039952.\n",
      "nlms pre-convergence training iteration #2\n",
      "nlms MSE = 0.039388.\n",
      "nlms pre-convergence training iteration #3\n",
      "nlms MSE = 0.039090.\n",
      "nlms pre-convergence training iteration #4\n",
      "nlms MSE = 0.038904.\n",
      "\n",
      "\n",
      "dd-lms - training stage #1\n",
      "dd-lms MSE = 0.012682.\n",
      "Results:\n",
      "\n",
      "SER: 3.02e-01\n",
      "BER: 6.44e-02\n",
      "SNR: 13.87 dB\n",
      "MI: 4.27 bits\n",
      "GMI: 4.32 bits\n",
      "channel 0\t fc : 193.1000 THz\n",
      "  mode #0\t power: 0.00 dBm\n",
      "channel 0\t power: 0.00 dBm\n",
      "\n",
      "total WDM dignal power: 0.00 dBm\n",
      "Demodulating channel #0 , fc: 193.1000 THz, λ: 1552.5244 nm\n",
      "\n",
      "Local oscillator P: 4.00 dBm, lw: 0.00 kHz, FO: 21000.00 MHz\n",
      "CSPR = 4.00 dB\n",
      "\n",
      "\n",
      "nlms - training stage #0\n"
     ]
    },
    {
     "data": {
      "application/vnd.jupyter.widget-view+json": {
       "model_id": "8305a5b2eb8041bab9ca693721fd94e3",
       "version_major": 2,
       "version_minor": 0
      },
      "text/plain": [
       "  0%|          | 0/5 [00:00<?, ?it/s]"
      ]
     },
     "metadata": {},
     "output_type": "display_data"
    },
    {
     "name": "stdout",
     "output_type": "stream",
     "text": [
      "nlms pre-convergence training iteration #0\n",
      "nlms MSE = 0.048567.\n",
      "nlms pre-convergence training iteration #1\n",
      "nlms MSE = 0.031175.\n",
      "nlms pre-convergence training iteration #2\n",
      "nlms MSE = 0.030667.\n",
      "nlms pre-convergence training iteration #3\n",
      "nlms MSE = 0.030401.\n",
      "nlms pre-convergence training iteration #4\n",
      "nlms MSE = 0.030236.\n",
      "\n",
      "\n",
      "dd-lms - training stage #1\n",
      "dd-lms MSE = 0.011465.\n",
      "Results:\n",
      "\n",
      "SER: 2.37e-01\n",
      "BER: 4.94e-02\n",
      "SNR: 15.05 dB\n",
      "MI: 4.59 bits\n",
      "GMI: 4.62 bits\n",
      "channel 0\t fc : 193.1000 THz\n",
      "  mode #0\t power: 0.00 dBm\n",
      "channel 0\t power: 0.00 dBm\n",
      "\n",
      "total WDM dignal power: 0.00 dBm\n",
      "Demodulating channel #0 , fc: 193.1000 THz, λ: 1552.5244 nm\n",
      "\n",
      "Local oscillator P: 4.50 dBm, lw: 0.00 kHz, FO: 21000.00 MHz\n",
      "CSPR = 4.50 dB\n",
      "\n",
      "\n",
      "nlms - training stage #0\n"
     ]
    },
    {
     "data": {
      "application/vnd.jupyter.widget-view+json": {
       "model_id": "f35dfd9a5bc5450ab480274bbc6feb74",
       "version_major": 2,
       "version_minor": 0
      },
      "text/plain": [
       "  0%|          | 0/5 [00:00<?, ?it/s]"
      ]
     },
     "metadata": {},
     "output_type": "display_data"
    },
    {
     "name": "stdout",
     "output_type": "stream",
     "text": [
      "nlms pre-convergence training iteration #0\n",
      "nlms MSE = 0.041771.\n",
      "nlms pre-convergence training iteration #1\n",
      "nlms MSE = 0.024407.\n",
      "nlms pre-convergence training iteration #2\n",
      "nlms MSE = 0.023868.\n",
      "nlms pre-convergence training iteration #3\n",
      "nlms MSE = 0.023581.\n",
      "nlms pre-convergence training iteration #4\n",
      "nlms MSE = 0.023404.\n",
      "\n",
      "\n",
      "dd-lms - training stage #1\n",
      "dd-lms MSE = 0.010110.\n",
      "Results:\n",
      "\n",
      "SER: 1.78e-01\n",
      "BER: 3.64e-02\n",
      "SNR: 16.25 dB\n",
      "MI: 4.87 bits\n",
      "GMI: 4.91 bits\n",
      "channel 0\t fc : 193.1000 THz\n",
      "  mode #0\t power: 0.00 dBm\n",
      "channel 0\t power: -0.00 dBm\n",
      "\n",
      "total WDM dignal power: -0.00 dBm\n",
      "Demodulating channel #0 , fc: 193.1000 THz, λ: 1552.5244 nm\n",
      "\n",
      "Local oscillator P: 5.00 dBm, lw: 0.00 kHz, FO: 21000.00 MHz\n",
      "CSPR = 5.00 dB\n",
      "\n",
      "\n",
      "nlms - training stage #0\n"
     ]
    },
    {
     "data": {
      "application/vnd.jupyter.widget-view+json": {
       "model_id": "29abbd6c3e114d93809502ee8237545b",
       "version_major": 2,
       "version_minor": 0
      },
      "text/plain": [
       "  0%|          | 0/5 [00:00<?, ?it/s]"
      ]
     },
     "metadata": {},
     "output_type": "display_data"
    },
    {
     "name": "stdout",
     "output_type": "stream",
     "text": [
      "nlms pre-convergence training iteration #0\n",
      "nlms MSE = 0.036158.\n",
      "nlms pre-convergence training iteration #1\n",
      "nlms MSE = 0.018311.\n",
      "nlms pre-convergence training iteration #2\n",
      "nlms MSE = 0.017805.\n",
      "nlms pre-convergence training iteration #3\n",
      "nlms MSE = 0.017539.\n",
      "nlms pre-convergence training iteration #4\n",
      "nlms MSE = 0.017375.\n",
      "\n",
      "\n",
      "dd-lms - training stage #1\n",
      "dd-lms MSE = 0.008948.\n",
      "Results:\n",
      "\n",
      "SER: 1.33e-01\n",
      "BER: 2.68e-02\n",
      "SNR: 17.36 dB\n",
      "MI: 5.08 bits\n",
      "GMI: 5.11 bits\n",
      "channel 0\t fc : 193.1000 THz\n",
      "  mode #0\t power: 0.00 dBm\n",
      "channel 0\t power: -0.00 dBm\n",
      "\n",
      "total WDM dignal power: -0.00 dBm\n",
      "Demodulating channel #0 , fc: 193.1000 THz, λ: 1552.5244 nm\n",
      "\n",
      "Local oscillator P: 5.50 dBm, lw: 0.00 kHz, FO: 21000.00 MHz\n",
      "CSPR = 5.50 dB\n",
      "\n",
      "\n",
      "nlms - training stage #0\n"
     ]
    },
    {
     "data": {
      "application/vnd.jupyter.widget-view+json": {
       "model_id": "4db9077c83ad41f298a2a477a173515c",
       "version_major": 2,
       "version_minor": 0
      },
      "text/plain": [
       "  0%|          | 0/5 [00:00<?, ?it/s]"
      ]
     },
     "metadata": {},
     "output_type": "display_data"
    },
    {
     "name": "stdout",
     "output_type": "stream",
     "text": [
      "nlms pre-convergence training iteration #0\n",
      "nlms MSE = 0.031561.\n",
      "nlms pre-convergence training iteration #1\n",
      "nlms MSE = 0.013923.\n",
      "nlms pre-convergence training iteration #2\n",
      "nlms MSE = 0.013437.\n",
      "nlms pre-convergence training iteration #3\n",
      "nlms MSE = 0.013181.\n",
      "nlms pre-convergence training iteration #4\n",
      "nlms MSE = 0.013023.\n",
      "\n",
      "\n",
      "dd-lms - training stage #1\n",
      "dd-lms MSE = 0.007715.\n",
      "Results:\n",
      "\n",
      "SER: 9.78e-02\n",
      "BER: 1.91e-02\n",
      "SNR: 18.69 dB\n",
      "MI: 5.29 bits\n",
      "GMI: 5.31 bits\n",
      "channel 0\t fc : 193.1000 THz\n",
      "  mode #0\t power: 0.00 dBm\n",
      "channel 0\t power: 0.00 dBm\n",
      "\n",
      "total WDM dignal power: 0.00 dBm\n",
      "Demodulating channel #0 , fc: 193.1000 THz, λ: 1552.5244 nm\n",
      "\n",
      "Local oscillator P: 6.00 dBm, lw: 0.00 kHz, FO: 21000.00 MHz\n",
      "CSPR = 6.00 dB\n",
      "\n",
      "\n",
      "nlms - training stage #0\n"
     ]
    },
    {
     "data": {
      "application/vnd.jupyter.widget-view+json": {
       "model_id": "748a37380de94f6cb24bfff5e8dd73ef",
       "version_major": 2,
       "version_minor": 0
      },
      "text/plain": [
       "  0%|          | 0/5 [00:00<?, ?it/s]"
      ]
     },
     "metadata": {},
     "output_type": "display_data"
    },
    {
     "name": "stdout",
     "output_type": "stream",
     "text": [
      "nlms pre-convergence training iteration #0\n",
      "nlms MSE = 0.028419.\n",
      "nlms pre-convergence training iteration #1\n",
      "nlms MSE = 0.011123.\n",
      "nlms pre-convergence training iteration #2\n",
      "nlms MSE = 0.010621.\n",
      "nlms pre-convergence training iteration #3\n",
      "nlms MSE = 0.010351.\n",
      "nlms pre-convergence training iteration #4\n",
      "nlms MSE = 0.010184.\n",
      "\n",
      "\n",
      "dd-lms - training stage #1\n",
      "dd-lms MSE = 0.006535.\n",
      "Results:\n",
      "\n",
      "SER: 6.88e-02\n",
      "BER: 1.33e-02\n",
      "SNR: 19.85 dB\n",
      "MI: 5.43 bits\n",
      "GMI: 5.45 bits\n",
      "channel 0\t fc : 193.1000 THz\n",
      "  mode #0\t power: 0.00 dBm\n",
      "channel 0\t power: 0.00 dBm\n",
      "\n",
      "total WDM dignal power: 0.00 dBm\n",
      "Demodulating channel #0 , fc: 193.1000 THz, λ: 1552.5244 nm\n",
      "\n",
      "Local oscillator P: 6.50 dBm, lw: 0.00 kHz, FO: 21000.00 MHz\n",
      "CSPR = 6.50 dB\n",
      "\n",
      "\n",
      "nlms - training stage #0\n"
     ]
    },
    {
     "data": {
      "application/vnd.jupyter.widget-view+json": {
       "model_id": "210dba7394194447963b286280ddde57",
       "version_major": 2,
       "version_minor": 0
      },
      "text/plain": [
       "  0%|          | 0/5 [00:00<?, ?it/s]"
      ]
     },
     "metadata": {},
     "output_type": "display_data"
    },
    {
     "name": "stdout",
     "output_type": "stream",
     "text": [
      "nlms pre-convergence training iteration #0\n",
      "nlms MSE = 0.025703.\n",
      "nlms pre-convergence training iteration #1\n",
      "nlms MSE = 0.008289.\n",
      "nlms pre-convergence training iteration #2\n",
      "nlms MSE = 0.007793.\n",
      "nlms pre-convergence training iteration #3\n",
      "nlms MSE = 0.007525.\n",
      "nlms pre-convergence training iteration #4\n",
      "nlms MSE = 0.007359.\n",
      "\n",
      "\n",
      "dd-lms - training stage #1\n",
      "dd-lms MSE = 0.005424.\n",
      "Results:\n",
      "\n",
      "SER: 4.57e-02\n",
      "BER: 8.65e-03\n",
      "SNR: 21.18 dB\n",
      "MI: 5.56 bits\n",
      "GMI: 5.57 bits\n",
      "channel 0\t fc : 193.1000 THz\n",
      "  mode #0\t power: 0.00 dBm\n",
      "channel 0\t power: -0.00 dBm\n",
      "\n",
      "total WDM dignal power: -0.00 dBm\n",
      "Demodulating channel #0 , fc: 193.1000 THz, λ: 1552.5244 nm\n",
      "\n",
      "Local oscillator P: 7.00 dBm, lw: 0.00 kHz, FO: 21000.00 MHz\n",
      "CSPR = 7.00 dB\n",
      "\n",
      "\n",
      "nlms - training stage #0\n"
     ]
    },
    {
     "data": {
      "application/vnd.jupyter.widget-view+json": {
       "model_id": "557f68ca98ba4775a75b778e74d4a94c",
       "version_major": 2,
       "version_minor": 0
      },
      "text/plain": [
       "  0%|          | 0/5 [00:00<?, ?it/s]"
      ]
     },
     "metadata": {},
     "output_type": "display_data"
    },
    {
     "name": "stdout",
     "output_type": "stream",
     "text": [
      "nlms pre-convergence training iteration #0\n",
      "nlms MSE = 0.023830.\n",
      "nlms pre-convergence training iteration #1\n",
      "nlms MSE = 0.006550.\n",
      "nlms pre-convergence training iteration #2\n",
      "nlms MSE = 0.006060.\n",
      "nlms pre-convergence training iteration #3\n",
      "nlms MSE = 0.005797.\n",
      "nlms pre-convergence training iteration #4\n",
      "nlms MSE = 0.005634.\n",
      "\n",
      "\n",
      "dd-lms - training stage #1\n",
      "dd-lms MSE = 0.004423.\n",
      "Results:\n",
      "\n",
      "SER: 3.02e-02\n",
      "BER: 5.60e-03\n",
      "SNR: 22.43 dB\n",
      "MI: 5.68 bits\n",
      "GMI: 5.68 bits\n",
      "channel 0\t fc : 193.1000 THz\n",
      "  mode #0\t power: 0.00 dBm\n",
      "channel 0\t power: 0.00 dBm\n",
      "\n",
      "total WDM dignal power: 0.00 dBm\n",
      "Demodulating channel #0 , fc: 193.1000 THz, λ: 1552.5244 nm\n",
      "\n",
      "Local oscillator P: 7.50 dBm, lw: 0.00 kHz, FO: 21000.00 MHz\n",
      "CSPR = 7.50 dB\n",
      "\n",
      "\n",
      "nlms - training stage #0\n"
     ]
    },
    {
     "data": {
      "application/vnd.jupyter.widget-view+json": {
       "model_id": "ee9ac125531d49858629cb362af3aabe",
       "version_major": 2,
       "version_minor": 0
      },
      "text/plain": [
       "  0%|          | 0/5 [00:00<?, ?it/s]"
      ]
     },
     "metadata": {},
     "output_type": "display_data"
    },
    {
     "name": "stdout",
     "output_type": "stream",
     "text": [
      "nlms pre-convergence training iteration #0\n",
      "nlms MSE = 0.023020.\n",
      "nlms pre-convergence training iteration #1\n",
      "nlms MSE = 0.005461.\n",
      "nlms pre-convergence training iteration #2\n",
      "nlms MSE = 0.004975.\n",
      "nlms pre-convergence training iteration #3\n",
      "nlms MSE = 0.004712.\n",
      "nlms pre-convergence training iteration #4\n",
      "nlms MSE = 0.004550.\n",
      "\n",
      "\n",
      "dd-lms - training stage #1\n",
      "dd-lms MSE = 0.003643.\n",
      "Results:\n",
      "\n",
      "SER: 1.97e-02\n",
      "BER: 3.64e-03\n",
      "SNR: 23.49 dB\n",
      "MI: 5.73 bits\n",
      "GMI: 5.73 bits\n",
      "channel 0\t fc : 193.1000 THz\n",
      "  mode #0\t power: 0.00 dBm\n",
      "channel 0\t power: 0.00 dBm\n",
      "\n",
      "total WDM dignal power: 0.00 dBm\n",
      "Demodulating channel #0 , fc: 193.1000 THz, λ: 1552.5244 nm\n",
      "\n",
      "Local oscillator P: 8.00 dBm, lw: 0.00 kHz, FO: 21000.00 MHz\n",
      "CSPR = 8.00 dB\n",
      "\n",
      "\n",
      "nlms - training stage #0\n"
     ]
    },
    {
     "data": {
      "application/vnd.jupyter.widget-view+json": {
       "model_id": "516b0616111349e1b355a80f54463d5d",
       "version_major": 2,
       "version_minor": 0
      },
      "text/plain": [
       "  0%|          | 0/5 [00:00<?, ?it/s]"
      ]
     },
     "metadata": {},
     "output_type": "display_data"
    },
    {
     "name": "stdout",
     "output_type": "stream",
     "text": [
      "nlms pre-convergence training iteration #0\n",
      "nlms MSE = 0.022772.\n",
      "nlms pre-convergence training iteration #1\n",
      "nlms MSE = 0.004794.\n",
      "nlms pre-convergence training iteration #2\n",
      "nlms MSE = 0.004307.\n",
      "nlms pre-convergence training iteration #3\n",
      "nlms MSE = 0.004043.\n",
      "nlms pre-convergence training iteration #4\n",
      "nlms MSE = 0.003879.\n",
      "\n",
      "\n",
      "dd-lms - training stage #1\n",
      "dd-lms MSE = 0.002896.\n",
      "Results:\n",
      "\n",
      "SER: 1.21e-02\n",
      "BER: 2.20e-03\n",
      "SNR: 24.70 dB\n",
      "MI: 5.81 bits\n",
      "GMI: 5.81 bits\n",
      "channel 0\t fc : 193.1000 THz\n",
      "  mode #0\t power: 0.00 dBm\n",
      "channel 0\t power: -0.00 dBm\n",
      "\n",
      "total WDM dignal power: -0.00 dBm\n",
      "Demodulating channel #0 , fc: 193.1000 THz, λ: 1552.5244 nm\n",
      "\n",
      "Local oscillator P: 8.50 dBm, lw: 0.00 kHz, FO: 21000.00 MHz\n",
      "CSPR = 8.50 dB\n",
      "\n",
      "\n",
      "nlms - training stage #0\n"
     ]
    },
    {
     "data": {
      "application/vnd.jupyter.widget-view+json": {
       "model_id": "93e8764cd186492da61c64ffb1e96a61",
       "version_major": 2,
       "version_minor": 0
      },
      "text/plain": [
       "  0%|          | 0/5 [00:00<?, ?it/s]"
      ]
     },
     "metadata": {},
     "output_type": "display_data"
    },
    {
     "name": "stdout",
     "output_type": "stream",
     "text": [
      "nlms pre-convergence training iteration #0\n",
      "nlms MSE = 0.021283.\n",
      "nlms pre-convergence training iteration #1\n",
      "nlms MSE = 0.003820.\n",
      "nlms pre-convergence training iteration #2\n",
      "nlms MSE = 0.003321.\n",
      "nlms pre-convergence training iteration #3\n",
      "nlms MSE = 0.003052.\n",
      "nlms pre-convergence training iteration #4\n",
      "nlms MSE = 0.002886.\n",
      "\n",
      "\n",
      "dd-lms - training stage #1\n",
      "dd-lms MSE = 0.002350.\n",
      "Results:\n",
      "\n",
      "SER: 7.48e-03\n",
      "BER: 1.33e-03\n",
      "SNR: 25.87 dB\n",
      "MI: 5.87 bits\n",
      "GMI: 5.87 bits\n",
      "channel 0\t fc : 193.1000 THz\n",
      "  mode #0\t power: 0.00 dBm\n",
      "channel 0\t power: 0.00 dBm\n",
      "\n",
      "total WDM dignal power: 0.00 dBm\n",
      "Demodulating channel #0 , fc: 193.1000 THz, λ: 1552.5244 nm\n",
      "\n",
      "Local oscillator P: 9.00 dBm, lw: 0.00 kHz, FO: 21000.00 MHz\n",
      "CSPR = 9.00 dB\n",
      "\n",
      "\n",
      "nlms - training stage #0\n"
     ]
    },
    {
     "data": {
      "application/vnd.jupyter.widget-view+json": {
       "model_id": "615d7acd7ef04793b2176e3e05433ffd",
       "version_major": 2,
       "version_minor": 0
      },
      "text/plain": [
       "  0%|          | 0/5 [00:00<?, ?it/s]"
      ]
     },
     "metadata": {},
     "output_type": "display_data"
    },
    {
     "name": "stdout",
     "output_type": "stream",
     "text": [
      "nlms pre-convergence training iteration #0\n",
      "nlms MSE = 0.020962.\n",
      "nlms pre-convergence training iteration #1\n",
      "nlms MSE = 0.003165.\n",
      "nlms pre-convergence training iteration #2\n",
      "nlms MSE = 0.002688.\n",
      "nlms pre-convergence training iteration #3\n",
      "nlms MSE = 0.002429.\n",
      "nlms pre-convergence training iteration #4\n",
      "nlms MSE = 0.002267.\n",
      "\n",
      "\n",
      "dd-lms - training stage #1\n",
      "dd-lms MSE = 0.001916.\n",
      "Results:\n",
      "\n",
      "SER: 4.41e-03\n",
      "BER: 7.87e-04\n",
      "SNR: 26.80 dB\n",
      "MI: 5.91 bits\n",
      "GMI: 5.91 bits\n",
      "channel 0\t fc : 193.1000 THz\n",
      "  mode #0\t power: 0.00 dBm\n",
      "channel 0\t power: 0.00 dBm\n",
      "\n",
      "total WDM dignal power: 0.00 dBm\n",
      "Demodulating channel #0 , fc: 193.1000 THz, λ: 1552.5244 nm\n",
      "\n",
      "Local oscillator P: 9.50 dBm, lw: 0.00 kHz, FO: 21000.00 MHz\n",
      "CSPR = 9.50 dB\n",
      "\n",
      "\n",
      "nlms - training stage #0\n"
     ]
    },
    {
     "data": {
      "application/vnd.jupyter.widget-view+json": {
       "model_id": "6ee5bef2e4eb4da39f8bd2cdb4d5811f",
       "version_major": 2,
       "version_minor": 0
      },
      "text/plain": [
       "  0%|          | 0/5 [00:00<?, ?it/s]"
      ]
     },
     "metadata": {},
     "output_type": "display_data"
    },
    {
     "name": "stdout",
     "output_type": "stream",
     "text": [
      "nlms pre-convergence training iteration #0\n",
      "nlms MSE = 0.020853.\n",
      "nlms pre-convergence training iteration #1\n",
      "nlms MSE = 0.002983.\n",
      "nlms pre-convergence training iteration #2\n",
      "nlms MSE = 0.002495.\n",
      "nlms pre-convergence training iteration #3\n",
      "nlms MSE = 0.002232.\n",
      "nlms pre-convergence training iteration #4\n",
      "nlms MSE = 0.002070.\n",
      "\n",
      "\n",
      "dd-lms - training stage #1\n",
      "dd-lms MSE = 0.001525.\n",
      "Results:\n",
      "\n",
      "SER: 2.30e-03\n",
      "BER: 4.11e-04\n",
      "SNR: 27.89 dB\n",
      "MI: 5.95 bits\n",
      "GMI: 5.94 bits\n",
      "channel 0\t fc : 193.1000 THz\n",
      "  mode #0\t power: 0.00 dBm\n",
      "channel 0\t power: 0.00 dBm\n",
      "\n",
      "total WDM dignal power: 0.00 dBm\n",
      "Demodulating channel #0 , fc: 193.1000 THz, λ: 1552.5244 nm\n",
      "\n",
      "Local oscillator P: 10.00 dBm, lw: 0.00 kHz, FO: 21000.00 MHz\n",
      "CSPR = 10.00 dB\n",
      "\n",
      "\n",
      "nlms - training stage #0\n"
     ]
    },
    {
     "data": {
      "application/vnd.jupyter.widget-view+json": {
       "model_id": "d99124f9ec614e8a988b29327bed6420",
       "version_major": 2,
       "version_minor": 0
      },
      "text/plain": [
       "  0%|          | 0/5 [00:00<?, ?it/s]"
      ]
     },
     "metadata": {},
     "output_type": "display_data"
    },
    {
     "name": "stdout",
     "output_type": "stream",
     "text": [
      "nlms pre-convergence training iteration #0\n",
      "nlms MSE = 0.019973.\n",
      "nlms pre-convergence training iteration #1\n",
      "nlms MSE = 0.002505.\n",
      "nlms pre-convergence training iteration #2\n",
      "nlms MSE = 0.002039.\n",
      "nlms pre-convergence training iteration #3\n",
      "nlms MSE = 0.001788.\n",
      "nlms pre-convergence training iteration #4\n",
      "nlms MSE = 0.001631.\n",
      "\n",
      "\n",
      "dd-lms - training stage #1\n",
      "dd-lms MSE = 0.001236.\n",
      "Results:\n",
      "\n",
      "SER: 1.08e-03\n",
      "BER: 1.94e-04\n",
      "SNR: 28.89 dB\n",
      "MI: 5.97 bits\n",
      "GMI: 5.97 bits\n",
      "channel 0\t fc : 193.1000 THz\n",
      "  mode #0\t power: 0.00 dBm\n",
      "channel 0\t power: -0.00 dBm\n",
      "\n",
      "total WDM dignal power: -0.00 dBm\n",
      "Demodulating channel #0 , fc: 193.1000 THz, λ: 1552.5244 nm\n",
      "\n",
      "Local oscillator P: 10.50 dBm, lw: 0.00 kHz, FO: 21000.00 MHz\n",
      "CSPR = 10.50 dB\n",
      "\n",
      "\n",
      "nlms - training stage #0\n"
     ]
    },
    {
     "data": {
      "application/vnd.jupyter.widget-view+json": {
       "model_id": "3b5a991dc89041839bf60fb780560e03",
       "version_major": 2,
       "version_minor": 0
      },
      "text/plain": [
       "  0%|          | 0/5 [00:00<?, ?it/s]"
      ]
     },
     "metadata": {},
     "output_type": "display_data"
    },
    {
     "name": "stdout",
     "output_type": "stream",
     "text": [
      "nlms pre-convergence training iteration #0\n",
      "nlms MSE = 0.020027.\n",
      "nlms pre-convergence training iteration #1\n",
      "nlms MSE = 0.002347.\n",
      "nlms pre-convergence training iteration #2\n",
      "nlms MSE = 0.001862.\n",
      "nlms pre-convergence training iteration #3\n",
      "nlms MSE = 0.001599.\n",
      "nlms pre-convergence training iteration #4\n",
      "nlms MSE = 0.001436.\n",
      "\n",
      "\n",
      "dd-lms - training stage #1\n",
      "dd-lms MSE = 0.001028.\n",
      "Results:\n",
      "\n",
      "SER: 6.67e-04\n",
      "BER: 1.13e-04\n",
      "SNR: 29.62 dB\n",
      "MI: 5.98 bits\n",
      "GMI: 5.98 bits\n",
      "channel 0\t fc : 193.1000 THz\n",
      "  mode #0\t power: 0.00 dBm\n",
      "channel 0\t power: -0.00 dBm\n",
      "\n",
      "total WDM dignal power: -0.00 dBm\n",
      "Demodulating channel #0 , fc: 193.1000 THz, λ: 1552.5244 nm\n",
      "\n",
      "Local oscillator P: 11.00 dBm, lw: 0.00 kHz, FO: 21000.00 MHz\n",
      "CSPR = 11.00 dB\n",
      "\n",
      "\n",
      "nlms - training stage #0\n"
     ]
    },
    {
     "data": {
      "application/vnd.jupyter.widget-view+json": {
       "model_id": "b0cf734cf248443d9dfcce893e51a737",
       "version_major": 2,
       "version_minor": 0
      },
      "text/plain": [
       "  0%|          | 0/5 [00:00<?, ?it/s]"
      ]
     },
     "metadata": {},
     "output_type": "display_data"
    },
    {
     "name": "stdout",
     "output_type": "stream",
     "text": [
      "nlms pre-convergence training iteration #0\n",
      "nlms MSE = 0.019414.\n",
      "nlms pre-convergence training iteration #1\n",
      "nlms MSE = 0.002161.\n",
      "nlms pre-convergence training iteration #2\n",
      "nlms MSE = 0.001680.\n",
      "nlms pre-convergence training iteration #3\n",
      "nlms MSE = 0.001424.\n",
      "nlms pre-convergence training iteration #4\n",
      "nlms MSE = 0.001266.\n",
      "\n",
      "\n",
      "dd-lms - training stage #1\n",
      "dd-lms MSE = 0.000881.\n",
      "Results:\n",
      "\n",
      "SER: 2.78e-04\n",
      "BER: 5.00e-05\n",
      "SNR: 30.32 dB\n",
      "MI: 6.00 bits\n",
      "GMI: 5.99 bits\n",
      "channel 0\t fc : 193.1000 THz\n",
      "  mode #0\t power: 0.00 dBm\n",
      "channel 0\t power: -0.00 dBm\n",
      "\n",
      "total WDM dignal power: -0.00 dBm\n",
      "Demodulating channel #0 , fc: 193.1000 THz, λ: 1552.5244 nm\n",
      "\n",
      "Local oscillator P: 11.50 dBm, lw: 0.00 kHz, FO: 21000.00 MHz\n",
      "CSPR = 11.50 dB\n",
      "\n",
      "\n",
      "nlms - training stage #0\n"
     ]
    },
    {
     "data": {
      "application/vnd.jupyter.widget-view+json": {
       "model_id": "cf85ec9d78544521a7d6ec5adde63146",
       "version_major": 2,
       "version_minor": 0
      },
      "text/plain": [
       "  0%|          | 0/5 [00:00<?, ?it/s]"
      ]
     },
     "metadata": {},
     "output_type": "display_data"
    },
    {
     "name": "stdout",
     "output_type": "stream",
     "text": [
      "nlms pre-convergence training iteration #0\n",
      "nlms MSE = 0.019726.\n",
      "nlms pre-convergence training iteration #1\n",
      "nlms MSE = 0.002114.\n",
      "nlms pre-convergence training iteration #2\n",
      "nlms MSE = 0.001626.\n",
      "nlms pre-convergence training iteration #3\n",
      "nlms MSE = 0.001362.\n",
      "nlms pre-convergence training iteration #4\n",
      "nlms MSE = 0.001199.\n",
      "\n",
      "\n",
      "dd-lms - training stage #1\n",
      "dd-lms MSE = 0.000764.\n",
      "Results:\n",
      "\n",
      "SER: 1.78e-04\n",
      "BER: 3.15e-05\n",
      "SNR: 30.85 dB\n",
      "MI: 6.00 bits\n",
      "GMI: 6.00 bits\n",
      "channel 0\t fc : 193.1000 THz\n",
      "  mode #0\t power: 0.00 dBm\n",
      "channel 0\t power: -0.00 dBm\n",
      "\n",
      "total WDM dignal power: -0.00 dBm\n",
      "Demodulating channel #0 , fc: 193.1000 THz, λ: 1552.5244 nm\n",
      "\n",
      "Local oscillator P: 12.00 dBm, lw: 0.00 kHz, FO: 21000.00 MHz\n",
      "CSPR = 12.00 dB\n",
      "\n",
      "\n",
      "nlms - training stage #0\n"
     ]
    },
    {
     "data": {
      "application/vnd.jupyter.widget-view+json": {
       "model_id": "ec05d81a501848e7ada1ffa85a487948",
       "version_major": 2,
       "version_minor": 0
      },
      "text/plain": [
       "  0%|          | 0/5 [00:00<?, ?it/s]"
      ]
     },
     "metadata": {},
     "output_type": "display_data"
    },
    {
     "name": "stdout",
     "output_type": "stream",
     "text": [
      "nlms pre-convergence training iteration #0\n",
      "nlms MSE = 0.018970.\n",
      "nlms pre-convergence training iteration #1\n",
      "nlms MSE = 0.001943.\n",
      "nlms pre-convergence training iteration #2\n",
      "nlms MSE = 0.001464.\n",
      "nlms pre-convergence training iteration #3\n",
      "nlms MSE = 0.001206.\n",
      "nlms pre-convergence training iteration #4\n",
      "nlms MSE = 0.001047.\n",
      "\n",
      "\n",
      "dd-lms - training stage #1\n",
      "dd-lms MSE = 0.000685.\n",
      "Results:\n",
      "\n",
      "SER: 5.56e-05\n",
      "BER: 1.11e-05\n",
      "SNR: 31.42 dB\n",
      "MI: 6.00 bits\n",
      "GMI: 6.00 bits\n",
      "channel 0\t fc : 193.1000 THz\n",
      "  mode #0\t power: 0.00 dBm\n",
      "channel 0\t power: -0.00 dBm\n",
      "\n",
      "total WDM dignal power: -0.00 dBm\n",
      "Demodulating channel #0 , fc: 193.1000 THz, λ: 1552.5244 nm\n",
      "\n",
      "Local oscillator P: 12.50 dBm, lw: 0.00 kHz, FO: 21000.00 MHz\n",
      "CSPR = 12.50 dB\n",
      "\n",
      "\n",
      "nlms - training stage #0\n"
     ]
    },
    {
     "data": {
      "application/vnd.jupyter.widget-view+json": {
       "model_id": "fcdfbaffc93843f7ab9e8c0d670ab641",
       "version_major": 2,
       "version_minor": 0
      },
      "text/plain": [
       "  0%|          | 0/5 [00:00<?, ?it/s]"
      ]
     },
     "metadata": {},
     "output_type": "display_data"
    },
    {
     "name": "stdout",
     "output_type": "stream",
     "text": [
      "nlms pre-convergence training iteration #0\n",
      "nlms MSE = 0.019542.\n",
      "nlms pre-convergence training iteration #1\n",
      "nlms MSE = 0.002042.\n",
      "nlms pre-convergence training iteration #2\n",
      "nlms MSE = 0.001564.\n",
      "nlms pre-convergence training iteration #3\n",
      "nlms MSE = 0.001309.\n",
      "nlms pre-convergence training iteration #4\n",
      "nlms MSE = 0.001151.\n",
      "\n",
      "\n",
      "dd-lms - training stage #1\n",
      "dd-lms MSE = 0.000619.\n",
      "Results:\n",
      "\n",
      "SER: 2.22e-05\n",
      "BER: 3.70e-06\n",
      "SNR: 31.75 dB\n",
      "MI: 6.00 bits\n",
      "GMI: 6.00 bits\n",
      "channel 0\t fc : 193.1000 THz\n",
      "  mode #0\t power: 0.00 dBm\n",
      "channel 0\t power: 0.00 dBm\n",
      "\n",
      "total WDM dignal power: 0.00 dBm\n",
      "Demodulating channel #0 , fc: 193.1000 THz, λ: 1552.5244 nm\n",
      "\n",
      "Local oscillator P: 13.00 dBm, lw: 0.00 kHz, FO: 21000.00 MHz\n",
      "CSPR = 13.00 dB\n",
      "\n",
      "\n",
      "nlms - training stage #0\n"
     ]
    },
    {
     "data": {
      "application/vnd.jupyter.widget-view+json": {
       "model_id": "5854df8793954071a606c0974325f406",
       "version_major": 2,
       "version_minor": 0
      },
      "text/plain": [
       "  0%|          | 0/5 [00:00<?, ?it/s]"
      ]
     },
     "metadata": {},
     "output_type": "display_data"
    },
    {
     "name": "stdout",
     "output_type": "stream",
     "text": [
      "nlms pre-convergence training iteration #0\n",
      "nlms MSE = 0.019046.\n",
      "nlms pre-convergence training iteration #1\n",
      "nlms MSE = 0.001925.\n",
      "nlms pre-convergence training iteration #2\n",
      "nlms MSE = 0.001442.\n",
      "nlms pre-convergence training iteration #3\n",
      "nlms MSE = 0.001184.\n",
      "nlms pre-convergence training iteration #4\n",
      "nlms MSE = 0.001026.\n",
      "\n",
      "\n",
      "dd-lms - training stage #1\n",
      "dd-lms MSE = 0.000581.\n",
      "Results:\n",
      "\n",
      "SER: 1.11e-05\n",
      "BER: 1.85e-06\n",
      "SNR: 32.03 dB\n",
      "MI: 6.00 bits\n",
      "GMI: 6.00 bits\n",
      "channel 0\t fc : 193.1000 THz\n",
      "  mode #0\t power: 0.00 dBm\n",
      "channel 0\t power: 0.00 dBm\n",
      "\n",
      "total WDM dignal power: 0.00 dBm\n",
      "Demodulating channel #0 , fc: 193.1000 THz, λ: 1552.5244 nm\n",
      "\n",
      "Local oscillator P: 13.50 dBm, lw: 0.00 kHz, FO: 21000.00 MHz\n",
      "CSPR = 13.50 dB\n",
      "\n",
      "\n",
      "nlms - training stage #0\n"
     ]
    },
    {
     "data": {
      "application/vnd.jupyter.widget-view+json": {
       "model_id": "c7ff5ac2c22840ac994c9f232f695027",
       "version_major": 2,
       "version_minor": 0
      },
      "text/plain": [
       "  0%|          | 0/5 [00:00<?, ?it/s]"
      ]
     },
     "metadata": {},
     "output_type": "display_data"
    },
    {
     "name": "stdout",
     "output_type": "stream",
     "text": [
      "nlms pre-convergence training iteration #0\n",
      "nlms MSE = 0.019485.\n",
      "nlms pre-convergence training iteration #1\n",
      "nlms MSE = 0.001901.\n",
      "nlms pre-convergence training iteration #2\n",
      "nlms MSE = 0.001426.\n",
      "nlms pre-convergence training iteration #3\n",
      "nlms MSE = 0.001172.\n",
      "nlms pre-convergence training iteration #4\n",
      "nlms MSE = 0.001015.\n",
      "\n",
      "\n",
      "dd-lms - training stage #1\n",
      "dd-lms MSE = 0.000549.\n",
      "Results:\n",
      "\n",
      "SER: 0.00e+00\n",
      "BER: 0.00e+00\n",
      "SNR: 32.25 dB\n",
      "MI: 6.00 bits\n",
      "GMI: 6.00 bits\n",
      "channel 0\t fc : 193.1000 THz\n",
      "  mode #0\t power: 0.00 dBm\n",
      "channel 0\t power: 0.00 dBm\n",
      "\n",
      "total WDM dignal power: 0.00 dBm\n",
      "Demodulating channel #0 , fc: 193.1000 THz, λ: 1552.5244 nm\n",
      "\n",
      "Local oscillator P: 14.00 dBm, lw: 0.00 kHz, FO: 21000.00 MHz\n",
      "CSPR = 14.00 dB\n",
      "\n",
      "\n",
      "nlms - training stage #0\n"
     ]
    },
    {
     "data": {
      "application/vnd.jupyter.widget-view+json": {
       "model_id": "c94d65475a5c40949585bd03592103c8",
       "version_major": 2,
       "version_minor": 0
      },
      "text/plain": [
       "  0%|          | 0/5 [00:00<?, ?it/s]"
      ]
     },
     "metadata": {},
     "output_type": "display_data"
    },
    {
     "name": "stdout",
     "output_type": "stream",
     "text": [
      "nlms pre-convergence training iteration #0\n",
      "nlms MSE = 0.019286.\n",
      "nlms pre-convergence training iteration #1\n",
      "nlms MSE = 0.001862.\n",
      "nlms pre-convergence training iteration #2\n",
      "nlms MSE = 0.001380.\n",
      "nlms pre-convergence training iteration #3\n",
      "nlms MSE = 0.001121.\n",
      "nlms pre-convergence training iteration #4\n",
      "nlms MSE = 0.000961.\n",
      "\n",
      "\n",
      "dd-lms - training stage #1\n",
      "dd-lms MSE = 0.000539.\n",
      "Results:\n",
      "\n",
      "SER: 0.00e+00\n",
      "BER: 0.00e+00\n",
      "SNR: 32.33 dB\n",
      "MI: 6.00 bits\n",
      "GMI: 6.00 bits\n",
      "channel 0\t fc : 193.1000 THz\n",
      "  mode #0\t power: 0.00 dBm\n",
      "channel 0\t power: 0.00 dBm\n",
      "\n",
      "total WDM dignal power: 0.00 dBm\n",
      "Demodulating channel #0 , fc: 193.1000 THz, λ: 1552.5244 nm\n",
      "\n",
      "Local oscillator P: 14.50 dBm, lw: 0.00 kHz, FO: 21000.00 MHz\n",
      "CSPR = 14.50 dB\n",
      "\n",
      "\n",
      "nlms - training stage #0\n"
     ]
    },
    {
     "data": {
      "application/vnd.jupyter.widget-view+json": {
       "model_id": "f166da3995974deea5b48f62ad3d8cd5",
       "version_major": 2,
       "version_minor": 0
      },
      "text/plain": [
       "  0%|          | 0/5 [00:00<?, ?it/s]"
      ]
     },
     "metadata": {},
     "output_type": "display_data"
    },
    {
     "name": "stdout",
     "output_type": "stream",
     "text": [
      "nlms pre-convergence training iteration #0\n",
      "nlms MSE = 0.019664.\n",
      "nlms pre-convergence training iteration #1\n",
      "nlms MSE = 0.002009.\n",
      "nlms pre-convergence training iteration #2\n",
      "nlms MSE = 0.001531.\n",
      "nlms pre-convergence training iteration #3\n",
      "nlms MSE = 0.001275.\n",
      "nlms pre-convergence training iteration #4\n",
      "nlms MSE = 0.001116.\n",
      "\n",
      "\n",
      "dd-lms - training stage #1\n",
      "dd-lms MSE = 0.000529.\n",
      "Results:\n",
      "\n",
      "SER: 0.00e+00\n",
      "BER: 0.00e+00\n",
      "SNR: 32.38 dB\n",
      "MI: 6.00 bits\n",
      "GMI: 6.00 bits\n",
      "channel 0\t fc : 193.1000 THz\n",
      "  mode #0\t power: 0.00 dBm\n",
      "channel 0\t power: 0.00 dBm\n",
      "\n",
      "total WDM dignal power: 0.00 dBm\n",
      "Demodulating channel #0 , fc: 193.1000 THz, λ: 1552.5244 nm\n",
      "\n",
      "Local oscillator P: 15.00 dBm, lw: 0.00 kHz, FO: 21000.00 MHz\n",
      "CSPR = 15.00 dB\n",
      "\n",
      "\n",
      "nlms - training stage #0\n"
     ]
    },
    {
     "data": {
      "application/vnd.jupyter.widget-view+json": {
       "model_id": "71d97de1219f4822b4107cc28455b1a4",
       "version_major": 2,
       "version_minor": 0
      },
      "text/plain": [
       "  0%|          | 0/5 [00:00<?, ?it/s]"
      ]
     },
     "metadata": {},
     "output_type": "display_data"
    },
    {
     "name": "stdout",
     "output_type": "stream",
     "text": [
      "nlms pre-convergence training iteration #0\n",
      "nlms MSE = 0.019668.\n",
      "nlms pre-convergence training iteration #1\n",
      "nlms MSE = 0.002006.\n",
      "nlms pre-convergence training iteration #2\n",
      "nlms MSE = 0.001535.\n",
      "nlms pre-convergence training iteration #3\n",
      "nlms MSE = 0.001280.\n",
      "nlms pre-convergence training iteration #4\n",
      "nlms MSE = 0.001122.\n",
      "\n",
      "\n",
      "dd-lms - training stage #1\n",
      "dd-lms MSE = 0.000530.\n",
      "Results:\n",
      "\n",
      "SER: 0.00e+00\n",
      "BER: 0.00e+00\n",
      "SNR: 32.40 dB\n",
      "MI: 6.00 bits\n",
      "GMI: 6.00 bits\n",
      "channel 0\t fc : 193.1000 THz\n",
      "  mode #0\t power: 0.00 dBm\n",
      "channel 0\t power: -0.00 dBm\n",
      "\n",
      "total WDM dignal power: -0.00 dBm\n",
      "Demodulating channel #0 , fc: 193.1000 THz, λ: 1552.5244 nm\n",
      "\n",
      "Local oscillator P: 15.50 dBm, lw: 0.00 kHz, FO: 21000.00 MHz\n",
      "CSPR = 15.50 dB\n",
      "\n",
      "\n",
      "nlms - training stage #0\n"
     ]
    },
    {
     "data": {
      "application/vnd.jupyter.widget-view+json": {
       "model_id": "e36f5d099fbd4b9582f320b3d3c7c37f",
       "version_major": 2,
       "version_minor": 0
      },
      "text/plain": [
       "  0%|          | 0/5 [00:00<?, ?it/s]"
      ]
     },
     "metadata": {},
     "output_type": "display_data"
    },
    {
     "name": "stdout",
     "output_type": "stream",
     "text": [
      "nlms pre-convergence training iteration #0\n",
      "nlms MSE = 0.019634.\n",
      "nlms pre-convergence training iteration #1\n",
      "nlms MSE = 0.002074.\n",
      "nlms pre-convergence training iteration #2\n",
      "nlms MSE = 0.001583.\n",
      "nlms pre-convergence training iteration #3\n",
      "nlms MSE = 0.001319.\n",
      "nlms pre-convergence training iteration #4\n",
      "nlms MSE = 0.001156.\n",
      "\n",
      "\n",
      "dd-lms - training stage #1\n",
      "dd-lms MSE = 0.000541.\n",
      "Results:\n",
      "\n",
      "SER: 0.00e+00\n",
      "BER: 0.00e+00\n",
      "SNR: 32.31 dB\n",
      "MI: 6.00 bits\n",
      "GMI: 6.00 bits\n"
     ]
    }
   ],
   "source": [
    "modelNN = tf.keras.models.load_model('Legacy_NN_models/testModel_SpS_'+str(paramADC.SpS_out)+'_FO_2.1GHz_Rolloff_'+str(round(paramTx.alphaRRC, 2)))\n",
    "N = 256 # number of input amplitude samples to the NN\n",
    "\n",
    "CSPR = np.arange(3, 16, 0.5)\n",
    "\n",
    "BER_NN = np.zeros(CSPR.size)\n",
    "SER_NN = np.zeros(CSPR.size)\n",
    "GMI_NN = np.zeros(CSPR.size)\n",
    "MI_NN  = np.zeros(CSPR.size)\n",
    "SNR_NN = np.zeros(CSPR.size)\n",
    "\n",
    "for indCSPR, CSPR_ in enumerate(CSPR):\n",
    "   \n",
    "    # generate optical signal signal\n",
    "    sigTx, symbTx_, paramTx = simpleWDMTx(paramTx)\n",
    "\n",
    "    # simulate linear signal propagation\n",
    "    sigCh = linFiberCh(sigTx, Ltotal, alpha, D, Fc, Fs)\n",
    "\n",
    "    # receiver detection and demodulation\n",
    "    Fc = paramTx.Fc\n",
    "    Ts = 1 / Fs\n",
    "    mod = QAMModem(m=paramTx.M)\n",
    "\n",
    "    freqGrid = paramTx.freqGrid\n",
    "    print(\n",
    "        \"Demodulating channel #%d , fc: %.4f THz, λ: %.4f nm\\n\"\n",
    "        % (\n",
    "            chIndex,\n",
    "            (Fc + freqGrid[chIndex]) / 1e12,\n",
    "            const.c / (Fc + freqGrid[chIndex]) / 1e-9,\n",
    "        )\n",
    "    )\n",
    "\n",
    "    symbTx = symbTx_[:, :, chIndex]\n",
    "\n",
    "    Plo_dBm = CSPR_\n",
    "    Plo = 10 ** (Plo_dBm / 10) * 1e-3  # power in W\n",
    "\n",
    "    print(\n",
    "        \"Local oscillator P: %.2f dBm, lw: %.2f kHz, FO: %.2f MHz\"\n",
    "        % (Plo_dBm, lw / 1e3, FO / 1e6)\n",
    "    )\n",
    "\n",
    "    # generate LO field\n",
    "    π = np.pi\n",
    "    t = np.arange(0, len(sigCh))*Ts\n",
    "    ϕ_pn_lo = phaseNoise(lw, len(sigCh), Ts)\n",
    "\n",
    "    sigLO = np.sqrt(Plo) * np.exp(-1j * (2 * π * FO * t + ϕ_lo + ϕ_pn_lo))\n",
    "\n",
    "    # Add LO to the received signal\n",
    "    sigRx = np.sqrt(Plo) + sigCh * np.exp(1j * (2 * π * FO * t + ϕ_lo + ϕ_pn_lo))\n",
    "    sfm = sigRx.copy()\n",
    "\n",
    "    print('CSPR = %.2f dB' % (10*np.log10(signal_power(sigLO)/signal_power(sigCh))))\n",
    "\n",
    "    # ### Phase-retrieval stage\n",
    "\n",
    "    # In[4]:\n",
    "\n",
    "    # resampling to ADC sampling rate\n",
    "    sigCh = resample(sigCh, paramADC)\n",
    "    sfm = resample(sfm, paramADC)\n",
    "    newFs = paramADC.SpS_out*paramTx.Rs\n",
    "\n",
    "    # simulate ideal direct-detection optical receiver\n",
    "    Amp = np.abs(sigRx)\n",
    "    Amp = resample(Amp, paramADC)\n",
    "\n",
    "    sfm = sfm/np.sqrt(signal_power(sfm))\n",
    "\n",
    "    sigPhase = np.angle(sfm)  # get signal phase samples (labels) (L,)\n",
    "    sigAmp   = np.pad(np.abs(sfm), (int(N/2), int(N/2)), 'constant') # get signal amplitude samples (L,)\n",
    "\n",
    "    # create set of input features\n",
    "    X_input = np.zeros((len(sigPhase), N))  # (L,N)\n",
    "\n",
    "    for indPhase in range(len(sigPhase)):\n",
    "        X_input[indPhase] = sigAmp[indPhase:N+indPhase]\n",
    "\n",
    "    phiTime_NN = modelNN.predict(X_input)\n",
    "    phiTime_NN = phiTime_NN.reshape(-1,)\n",
    "\n",
    "    # optical field reconstruction\n",
    "    sigRx = np.abs(sfm)*np.exp(1j*phiTime_NN)\n",
    "\n",
    "    # remove DC level\n",
    "    sigRx -= np.mean(sigRx)  # np.sqrt(Plo)\n",
    "\n",
    "    # downshift to baseband\n",
    "    t = np.arange(0, len(sigRx))*(1/newFs)\n",
    "    sigRx *= np.exp(-1j * (2 * π * FO * t))\n",
    "\n",
    "    # correct for (possible) phase ambiguity\n",
    "    rot = np.mean(sigCh/sigRx)\n",
    "    sigRx = rot * sigRx\n",
    "    sigRx = sigRx / np.sqrt(signal_power(sigRx))\n",
    "\n",
    "    # #### Standard receiver processing\n",
    "\n",
    "    # In[5]:\n",
    "\n",
    "    # resample to 2 samples/symbol:\n",
    "    paramRes = parameters()\n",
    "    paramRes.Rs = paramTx.Rs\n",
    "    paramRes.SpS_in = paramADC.SpS_out\n",
    "    paramRes.SpS_out = 2\n",
    "\n",
    "    sigRx = resample(sigRx, paramRes)\n",
    "\n",
    "    # Matched filtering and CD compensation\n",
    "\n",
    "    # Matched filtering\n",
    "    if paramTx.pulse == \"nrz\":\n",
    "        pulse = pulseShape(\"nrz\", paramADC.SpS_out)\n",
    "    elif paramTx.pulse == \"rrc\":\n",
    "        pulse = pulseShape(\n",
    "            \"rrc\", paramRes.SpS_out, N=paramTx.Ntaps, alpha=paramTx.alphaRRC, Ts=1 / paramTx.Rs\n",
    "        )\n",
    "\n",
    "    pulse = pulse / np.max(np.abs(pulse))\n",
    "    sigRx = firFilter(pulse, sigRx)\n",
    "\n",
    "    # plot constellations after matched filtering\n",
    "    #pconst(sigRx[0::paramRes.SpS_out], lim=True, R=3)\n",
    "\n",
    "    # CD compensation\n",
    "    sigRx = edc(sigRx, Ltotal, D, Fc, paramRes.SpS_out*paramTx.Rs)\n",
    "\n",
    "    #plot constellations after CD compensation\n",
    "    #pconst(sigRx[0::paramRes.SpS_out], lim=True, R=2)\n",
    "\n",
    "    # Downsampling to 2 sps and re-synchronization with transmitted sequences\n",
    "    sigRx = sigRx.reshape(-1, 1)\n",
    "\n",
    "    symbRx = symbolSync(sigRx, symbTx, 2)\n",
    "\n",
    "    # In[6]:\n",
    "\n",
    "    # Power normalization\n",
    "    x = sigRx\n",
    "    d = symbRx\n",
    "\n",
    "    x = x.reshape(len(x), 1) / np.sqrt(signal_power(x))\n",
    "    d = d.reshape(len(d), 1) / np.sqrt(signal_power(d))\n",
    "\n",
    "    # Adaptive equalization\n",
    "    mod = QAMModem(m=paramTx.M)\n",
    "\n",
    "    paramEq = parameters()\n",
    "    paramEq.nTaps = 15\n",
    "    paramEq.SpS = 2\n",
    "    paramEq.mu = [5e-3, 2e-3]\n",
    "    paramEq.numIter = 5\n",
    "    paramEq.storeCoeff = False\n",
    "    paramEq.alg = [\"nlms\", \"dd-lms\"]\n",
    "    paramEq.M = paramTx.M\n",
    "    paramEq.L = [20000, 80000]\n",
    "\n",
    "    y_EQ, H, errSq, Hiter = mimoAdaptEqualizer(x, dx=d, paramEq=paramEq)\n",
    "\n",
    "    discard = int(paramEq.L[0]/2)\n",
    "\n",
    "    #plot constellations after adaptive equalization\n",
    "    #pconst(y_EQ[discard:-discard, :], lim=True)\n",
    "\n",
    "    # In[7]:\n",
    "\n",
    "    # Carrier phase recovery\n",
    "    paramCPR = parameters()\n",
    "    paramCPR.alg = \"bps\"\n",
    "    paramCPR.M = paramTx.M\n",
    "    paramCPR.N = 75\n",
    "    paramCPR.B = 64\n",
    "    paramCPR.pilotInd = np.arange(0, len(y_EQ), 20)\n",
    "\n",
    "    y_CPR, θ = cpr(y_EQ, symbTx=d, paramCPR=paramCPR)\n",
    "\n",
    "    y_CPR = y_CPR / np.sqrt(signal_power(y_CPR))\n",
    "\n",
    "    discard = 5000\n",
    "\n",
    "    # plot constellations after CPR\n",
    "    #pconst(y_CPR[discard:-discard, :], lim=True)\n",
    "\n",
    "    # #### Evaluate transmission metrics\n",
    "\n",
    "    # In[8]:\n",
    "\n",
    "    # correct for (possible) phase ambiguity\n",
    "    for k in range(y_CPR.shape[1]):\n",
    "        rot = np.mean(d[:, k] / y_CPR[:, k])\n",
    "        y_CPR[:, k] = rot * y_CPR[:, k]\n",
    "\n",
    "    y_CPR = y_CPR / np.sqrt(signal_power(y_CPR))\n",
    "\n",
    "    ind = np.arange(discard, d.shape[0] - discard)\n",
    "    BER_NN[indCSPR], SER_NN[indCSPR], SNR_NN[indCSPR] = fastBERcalc(y_CPR[ind, :], d[ind, :], mod)\n",
    "    GMI_NN[indCSPR], _ = monteCarloGMI(y_CPR[ind, :], d[ind, :], mod)\n",
    "    MI_NN[indCSPR] = monteCarloMI(y_CPR[ind, :], d[ind, :], mod)\n",
    "\n",
    "    print(\"Results:\\n\")\n",
    "    print(\"SER: %.2e\" % (SER_NN[indCSPR]))\n",
    "    print(\"BER: %.2e\" % (BER_NN[indCSPR]))\n",
    "    print(\"SNR: %.2f dB\" % (SNR_NN[indCSPR]))\n",
    "    print(\"MI: %.2f bits\" % (MI_NN[indCSPR]))\n",
    "    print(\"GMI: %.2f bits\" % (GMI_NN[indCSPR]))"
   ]
  },
  {
   "cell_type": "code",
   "execution_count": 9,
   "metadata": {},
   "outputs": [
    {
     "name": "stderr",
     "output_type": "stream",
     "text": [
      "C:\\Users\\Silas\\AppData\\Local\\Temp\\ipykernel_6564\\655506022.py:4: RuntimeWarning: divide by zero encountered in log10\n",
      "  plt.plot(CSPR, np.log10(BER_NN), '-o', label='Rede Neural')\n",
      "C:\\Users\\Silas\\AppData\\Local\\Temp\\ipykernel_6564\\655506022.py:5: RuntimeWarning: divide by zero encountered in log10\n",
      "  plt.plot(CSPR, np.log10(BER_KK), '-x', label='Algoritmo de KK')\n",
      "C:\\Users\\Silas\\AppData\\Local\\Temp\\ipykernel_6564\\655506022.py:22: RuntimeWarning: divide by zero encountered in log10\n",
      "  plt.plot(CSPR, np.log10(SER_NN), '-o', label='Rede Neural')\n",
      "C:\\Users\\Silas\\AppData\\Local\\Temp\\ipykernel_6564\\655506022.py:23: RuntimeWarning: divide by zero encountered in log10\n",
      "  plt.plot(CSPR, np.log10(SER_KK), '-x', label='Algoritmo de KK')\n"
     ]
    },
    {
     "data": {
      "image/png": "[encoded data removed]",
      "text/plain": [
       "<Figure size 1400x1000 with 3 Axes>"
      ]
     },
     "metadata": {},
     "output_type": "display_data"
    }
   ],
   "source": [
    "plt.figure(num=None, figsize=(14, 10))\n",
    "\n",
    "grafico1 = plt.subplot(2, 1, 2)\n",
    "plt.plot(CSPR, np.log10(BER_NN), '-o', label='Rede Neural')\n",
    "plt.plot(CSPR, np.log10(BER_KK), '-x', label='Algoritmo de KK')\n",
    "plt.xlabel('Frequency Offset')\n",
    "plt.ylabel('$log10(BER)$')\n",
    "plt.grid()\n",
    "plt.legend()\n",
    "plt.title('BER vs frequency offset (FO)')\n",
    "\n",
    "grafico2 = plt.subplot(2, 2, 2, sharex=grafico1)\n",
    "plt.plot(CSPR, SNR_NN, '-o', label='Rede Neural')\n",
    "plt.plot(CSPR, SNR_KK, '-x', label='Algoritmo de KK')\n",
    "plt.xlabel('Frequency Offset')\n",
    "plt.ylabel('$SNR(db)$')\n",
    "plt.grid()\n",
    "plt.legend()\n",
    "plt.title('SNR vs frequency offset (FO)')\n",
    "\n",
    "grafico3 = plt.subplot(2, 2, 1, sharex=grafico2)\n",
    "plt.plot(CSPR, np.log10(SER_NN), '-o', label='Rede Neural')\n",
    "plt.plot(CSPR, np.log10(SER_KK), '-x', label='Algoritmo de KK')\n",
    "plt.xlabel('Frequency Offset')\n",
    "plt.ylabel('$SER$')\n",
    "plt.grid()\n",
    "plt.legend()\n",
    "plt.title('SER vs frequency offset (FO)')\n",
    "\n",
    "plt.tight_layout()"
   ]
  }
 ],
 "metadata": {
  "kernelspec": {
   "display_name": "Python 3.9.13 64-bit",
   "language": "python",
   "name": "python3"
  },
  "language_info": {
   "codemirror_mode": {
    "name": "ipython",
    "version": 3
   },
   "file_extension": ".py",
   "mimetype": "text/x-python",
   "name": "python",
   "nbconvert_exporter": "python",
   "pygments_lexer": "ipython3",
   "version": "3.9.13"
  },
  "orig_nbformat": 4,
  "vscode": {
   "interpreter": {
    "hash": "4cead383004ffea04c5a085330d2187e41b90a08e531203cefc944d3da80249c"
   }
  }
 },
 "nbformat": 4,
 "nbformat_minor": 2
}
